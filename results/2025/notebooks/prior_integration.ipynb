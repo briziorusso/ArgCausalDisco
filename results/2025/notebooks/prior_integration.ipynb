{
 "cells": [
  {
   "cell_type": "markdown",
   "id": "028d4c8d",
   "metadata": {
    "papermill": {
     "duration": 0.008295,
     "end_time": "2025-09-08T12:08:07.390369",
     "exception": false,
     "start_time": "2025-09-08T12:08:07.382074",
     "status": "completed"
    },
    "tags": []
   },
   "source": [
    "## Experimental Setup"
   ]
  },
  {
   "cell_type": "code",
   "execution_count": 1,
   "id": "50eb3173",
   "metadata": {
    "execution": {
     "iopub.execute_input": "2025-09-08T12:08:07.439657Z",
     "iopub.status.busy": "2025-09-08T12:08:07.439142Z",
     "iopub.status.idle": "2025-09-08T12:11:42.133455Z",
     "shell.execute_reply": "2025-09-08T12:11:42.132897Z"
    },
    "papermill": {
     "duration": 214.705903,
     "end_time": "2025-09-08T12:11:42.135961",
     "exception": false,
     "start_time": "2025-09-08T12:08:07.430058",
     "status": "completed"
    },
    "tags": []
   },
   "outputs": [
    {
     "name": "stderr",
     "output_type": "stream",
     "text": [
      "/vol/bitbucket/zl1724/.conda/new_aba/lib/python3.12/site-packages/tqdm/auto.py:21: TqdmWarning: IProgress not found. Please update jupyter and ipywidgets. See https://ipywidgets.readthedocs.io/en/stable/user_install.html\n",
      "  from .autonotebook import tqdm as notebook_tqdm\n"
     ]
    }
   ],
   "source": [
    "%load_ext autoreload\n",
    "%autoreload 2\n",
    "\n",
    "import logging\n",
    "from pathlib import Path\n",
    "from typing import Callable\n",
    "\n",
    "import numpy as np\n",
    "import pandas as pd\n",
    "import pyagrum as gum\n",
    "\n",
    "from abapc import ABAPC\n",
    "from utils.helpers import random_stability\n",
    "from priors.generate_priors import PriorKnowledge, Constraints\n",
    "\n",
    "\n",
    "def load_dataset(\n",
    "    bif_path: Path, sample_size: int, seed: int\n",
    ") -> tuple[gum.BayesNet, np.ndarray]:\n",
    "    bn = gum.loadBN(str(bif_path))\n",
    "    bn.name = bif_path.stem\n",
    "\n",
    "    gum.initRandom(seed=seed)\n",
    "    df = gum.generateSample(bn, sample_size, with_labels=False, random_order=False)[0]\n",
    "    sorted_vars = sorted(df.columns)\n",
    "    data = df[sorted_vars].to_numpy().astype(float)\n",
    "\n",
    "    return bn, data"
   ]
  },
  {
   "cell_type": "markdown",
   "id": "140ffe4e",
   "metadata": {
    "papermill": {
     "duration": 0.015482,
     "end_time": "2025-09-08T12:11:42.157941",
     "exception": false,
     "start_time": "2025-09-08T12:11:42.142459",
     "status": "completed"
    },
    "tags": []
   },
   "source": [
    "### Define Causal ABA Interface to call both implementations"
   ]
  },
  {
   "cell_type": "code",
   "execution_count": 2,
   "id": "197156ff",
   "metadata": {
    "execution": {
     "iopub.execute_input": "2025-09-08T12:11:42.175361Z",
     "iopub.status.busy": "2025-09-08T12:11:42.174473Z",
     "iopub.status.idle": "2025-09-08T12:11:44.252522Z",
     "shell.execute_reply": "2025-09-08T12:11:44.251928Z"
    },
    "papermill": {
     "duration": 2.088581,
     "end_time": "2025-09-08T12:11:44.254647",
     "exception": false,
     "start_time": "2025-09-08T12:11:42.166066",
     "status": "completed"
    },
    "tags": []
   },
   "outputs": [],
   "source": [
    "from clingo import Function, Number\n",
    "\n",
    "from utils.graph_utils import extract_test_elements_from_symbol\n",
    "\n",
    "\n",
    "def CausalABA(\n",
    "    n_nodes: int,\n",
    "    compile_and_ground: Callable,\n",
    "    facts_location: str = \"\",\n",
    "    print_models: bool = True,\n",
    "    skeleton_rules_reduction: bool = False,\n",
    "    weak_constraints: bool = False,\n",
    "    opt_mode: str = \"optN\",\n",
    "    show: list = [\"arrow\"],\n",
    "    pre_grounding: bool = False,\n",
    "    disable_reground: bool = False,\n",
    "    prior_knowledge: PriorKnowledge | None = None,\n",
    ") -> list:\n",
    "    \"\"\"\n",
    "    CausalABA, a function that takes in the number of nodes in a graph and a string of facts and returns a list of compatible causal graphs.\n",
    "\n",
    "    \"\"\"\n",
    "    # (X, Y) -> their condition sets S\n",
    "    indep_facts: dict[tuple, set[tuple]] = {}\n",
    "    dep_facts: dict[tuple, set[tuple]] = {}\n",
    "    facts = []\n",
    "    ext_flag = False\n",
    "    if facts_location:\n",
    "        facts_loc = (\n",
    "            facts_location.replace(\".lp\", \"_I.lp\")\n",
    "            if weak_constraints\n",
    "            else facts_location\n",
    "        )\n",
    "        logging.debug(f\"   Loading facts from {facts_location}\")\n",
    "        with open(facts_loc, \"r\") as file:\n",
    "            for line in file:\n",
    "                if \"dep\" not in line or line.startswith(\"%\"):\n",
    "                    continue\n",
    "                line_clean = line.replace(\"#external \", \"\").replace(\"\\n\", \"\")\n",
    "                if \"ext_\" in line_clean:\n",
    "                    ext_flag = True\n",
    "                if weak_constraints:\n",
    "                    statement, Is = line_clean.split(\" I=\")\n",
    "                    I, truth = Is.split(\",\")\n",
    "                    X, S, Y, dep_type = extract_test_elements_from_symbol(statement)\n",
    "                    facts.append((X, S, Y, dep_type, statement, float(I), truth))\n",
    "                else:\n",
    "                    X, S, Y, dep_type = extract_test_elements_from_symbol(line_clean)\n",
    "                    facts.append((X, S, Y, dep_type, line_clean, np.nan, \"unknown\"))\n",
    "\n",
    "                assert (X not in S) and (Y not in S), f\"X or Y in S: {line_clean}\"\n",
    "                condition_set = tuple(S)\n",
    "\n",
    "                facts_group = indep_facts if \"indep\" in line_clean else dep_facts\n",
    "                if (X, Y) not in facts_group:\n",
    "                    facts_group[(X, Y)] = set()\n",
    "                assert condition_set not in facts_group[(X, Y)], (\n",
    "                    f\"Redundant external fact: {line_clean}\"\n",
    "                )\n",
    "                facts_group[(X, Y)].add(condition_set)\n",
    "\n",
    "    ctl = compile_and_ground(\n",
    "        n_nodes,\n",
    "        facts_location,\n",
    "        skeleton_rules_reduction,\n",
    "        weak_constraints,\n",
    "        indep_facts,\n",
    "        dep_facts,\n",
    "        opt_mode,\n",
    "        show,\n",
    "        pre_grounding,\n",
    "        ext_flag,\n",
    "        prior_knowledge,\n",
    "    )\n",
    "\n",
    "    facts = sorted(facts, key=lambda x: x[5], reverse=True)\n",
    "    for fact in facts:\n",
    "        ctl.assign_external(\n",
    "            Function(\n",
    "                fact[3],\n",
    "                [\n",
    "                    Number(fact[0]),\n",
    "                    Number(fact[2]),\n",
    "                    Function(fact[4].replace(\").\", \"\").split(\",\")[-1]),\n",
    "                ],\n",
    "            ),\n",
    "            True,\n",
    "        )\n",
    "        logging.debug(f\"   True fact: {fact[4]} I={fact[5]}, truth={fact[6]}\")\n",
    "    models = []\n",
    "    logging.info(\"   Solving...\")\n",
    "    with ctl.solve(yield_=True) as handle:\n",
    "        for model in handle:\n",
    "            models.append(model.symbols(shown=True))\n",
    "            if print_models:\n",
    "                logging.info(f\"Answer {len(models)}: {model}\")\n",
    "    n_models = int(ctl.statistics[\"summary\"][\"models\"][\"enumerated\"])\n",
    "    logging.info(f\"Number of models: {n_models}\")\n",
    "    times = {\n",
    "        key: ctl.statistics[\"summary\"][\"times\"][key]\n",
    "        for key in [\"total\", \"cpu\", \"solve\"]\n",
    "    }\n",
    "    logging.info(f\"Times: {times}\")\n",
    "    remove_n = 0\n",
    "    logging.info(f\"Number of facts removed: {remove_n}\")\n",
    "\n",
    "    ## start removing facts if no models are found\n",
    "    while n_models == 0 and remove_n < len(facts):\n",
    "        remove_n += 1\n",
    "        logging.info(f\"Number of facts removed: {remove_n}\")\n",
    "\n",
    "        reground = False\n",
    "        fact_to_remove = facts[-remove_n]\n",
    "        X, S, Y, dep_type, fact_str = fact_to_remove[:5]\n",
    "        logging.debug(f\"Removing fact {fact_str}\")\n",
    "\n",
    "        facts_group = indep_facts if dep_type == \"ext_indep\" else dep_facts\n",
    "        facts_group[(X, Y)].remove(tuple(S))\n",
    "        if not facts_group[(X, Y)]:\n",
    "            del facts_group[(X, Y)]\n",
    "            reground = (\n",
    "                disable_reground is False\n",
    "                and skeleton_rules_reduction\n",
    "                and (ext_flag is False or dep_type == \"ext_indep\")\n",
    "            )\n",
    "        else:\n",
    "            logging.debug(\n",
    "                f\"   Not removing fact {fact_str} because there are multiple facts with the same X and Y\"\n",
    "            )\n",
    "        ctl.assign_external(\n",
    "            Function(\n",
    "                dep_type,\n",
    "                [\n",
    "                    Number(X),\n",
    "                    Number(Y),\n",
    "                    Function(fact_str.replace(\").\", \"\").split(\",\")[-1]),\n",
    "                ],\n",
    "            ),\n",
    "            None,\n",
    "        )\n",
    "\n",
    "        if reground:\n",
    "            ### Save external statements\n",
    "            logging.info(\"Recompiling and regrounding...\")\n",
    "            ctl = compile_and_ground(\n",
    "                n_nodes,\n",
    "                facts_location,\n",
    "                skeleton_rules_reduction,\n",
    "                weak_constraints,\n",
    "                indep_facts,\n",
    "                dep_facts,\n",
    "                opt_mode,\n",
    "                show,\n",
    "                pre_grounding=pre_grounding,\n",
    "                ext_flag=ext_flag,\n",
    "                prior_knowledge=prior_knowledge,\n",
    "            )\n",
    "            for fact in facts[:-remove_n]:\n",
    "                ctl.assign_external(\n",
    "                    Function(\n",
    "                        fact[3],\n",
    "                        [\n",
    "                            Number(fact[0]),\n",
    "                            Number(fact[2]),\n",
    "                            Function(fact[4].replace(\").\", \"\").split(\",\")[-1]),\n",
    "                        ],\n",
    "                    ),\n",
    "                    True,\n",
    "                )\n",
    "                logging.debug(f\"   True fact: {fact[4]} I={fact[5]}, truth={fact[6]}\")\n",
    "            for fact in facts[-remove_n:]:\n",
    "                ctl.assign_external(\n",
    "                    Function(\n",
    "                        fact[3],\n",
    "                        [\n",
    "                            Number(fact[0]),\n",
    "                            Number(fact[2]),\n",
    "                            Function(fact[4].replace(\").\", \"\").split(\",\")[-1]),\n",
    "                        ],\n",
    "                    ),\n",
    "                    None,\n",
    "                )\n",
    "                logging.debug(f\"   False fact: {fact[4]} I={fact[5]}, truth={fact[6]}\")\n",
    "        models = []\n",
    "        logging.info(\"   Solving...\")\n",
    "        with ctl.solve(yield_=True) as handle:\n",
    "            for model in handle:\n",
    "                models.append(model.symbols(shown=True))\n",
    "                if print_models:\n",
    "                    logging.info(f\"Answer {len(models)}: {model}\")\n",
    "        n_models = int(ctl.statistics[\"summary\"][\"models\"][\"enumerated\"])\n",
    "        logging.info(f\"Number of models: {n_models}\")\n",
    "        times = {\n",
    "            key: ctl.statistics[\"summary\"][\"times\"][key]\n",
    "            for key in [\"total\", \"cpu\", \"solve\"]\n",
    "        }\n",
    "        logging.info(f\"Times: {times}\")\n",
    "\n",
    "    return {\n",
    "        \"remove_n\": remove_n,\n",
    "        \"statistics\": ctl.statistics,\n",
    "        \"models\": models,\n",
    "    }\n"
   ]
  },
  {
   "cell_type": "markdown",
   "id": "2ff58647",
   "metadata": {
    "papermill": {
     "duration": 0.018726,
     "end_time": "2025-09-08T12:11:44.280479",
     "exception": false,
     "start_time": "2025-09-08T12:11:44.261753",
     "status": "completed"
    },
    "tags": []
   },
   "source": [
    "### Define the evaluation function to compare performance of two different implementations"
   ]
  },
  {
   "cell_type": "code",
   "execution_count": 3,
   "id": "03f749c5",
   "metadata": {
    "execution": {
     "iopub.execute_input": "2025-09-08T12:11:44.300091Z",
     "iopub.status.busy": "2025-09-08T12:11:44.299955Z",
     "iopub.status.idle": "2025-09-08T12:11:44.325443Z",
     "shell.execute_reply": "2025-09-08T12:11:44.324865Z"
    },
    "papermill": {
     "duration": 0.037219,
     "end_time": "2025-09-08T12:11:44.327164",
     "exception": false,
     "start_time": "2025-09-08T12:11:44.289945",
     "status": "completed"
    },
    "tags": []
   },
   "outputs": [],
   "source": [
    "import timeit\n",
    "from typing import Any\n",
    "\n",
    "from tqdm import tqdm\n",
    "\n",
    "import abapc\n",
    "import causalaba\n",
    "from causalaba import compile_and_ground\n",
    "\n",
    "abapc.tqdm = tqdm  # Avoid using progress bar widgets\n",
    "causalaba.tqdm = tqdm  # Avoid using progress bar widgets\n",
    "\n",
    "\n",
    "def compare_performance(\n",
    "    bif_path: str | Path,\n",
    "    sample_size: int,\n",
    "    impl1: Callable[[gum.BayesNet, str, list], Callable],\n",
    "    impl2: Callable[[gum.BayesNet, str, list], Callable],\n",
    "    repeats: int = 1,\n",
    ") -> tuple[str, int, float, float, list, list, np.ndarray, Any]:\n",
    "    random_stability(2024)\n",
    "    seeds = np.random.randint(0, 10000, size=repeats).tolist()\n",
    "\n",
    "    if isinstance(bif_path, str):\n",
    "        bif_path = Path(bif_path)\n",
    "\n",
    "    impl1_return = []\n",
    "    impl2_return = []\n",
    "\n",
    "    for seed in seeds:\n",
    "        bn_true, data = load_dataset(bif_path, sample_size=sample_size, seed=seed)\n",
    "        facts_I_path, sepsets = ABAPC(\n",
    "            data,\n",
    "            seed=seed,\n",
    "            alpha=0.01,\n",
    "            indep_test=\"gsq\",\n",
    "            S_weight=False,\n",
    "            out_mode=\"facts_only\",\n",
    "            scenario=\"prior_comparison\",\n",
    "        )\n",
    "        facts_path = facts_I_path.replace(\"_I.lp\", \".lp\")\n",
    "\n",
    "\n",
    "        impl1_return[-1][\"time\"] = timeit.timeit(impl1(bn_true, facts_path, impl1_return), number=1)\n",
    "        impl2_return[-1][\"time\"] = timeit.timeit(impl2(bn_true, facts_path, impl2_return), number=1)\n",
    "\n",
    "    return bif_path.stem, impl1_return, impl2_return, seeds, sepsets"
   ]
  },
  {
   "cell_type": "markdown",
   "id": "302ed1c9",
   "metadata": {
    "papermill": {
     "duration": 0.005875,
     "end_time": "2025-09-08T12:11:44.340455",
     "exception": false,
     "start_time": "2025-09-08T12:11:44.334580",
     "status": "completed"
    },
    "tags": []
   },
   "source": [
    "## Compare Causal ABA performance with/without prior knowledge"
   ]
  },
  {
   "cell_type": "code",
   "execution_count": 4,
   "id": "d66e6f02",
   "metadata": {
    "execution": {
     "iopub.execute_input": "2025-09-08T12:11:44.365770Z",
     "iopub.status.busy": "2025-09-08T12:11:44.365216Z",
     "iopub.status.idle": "2025-09-08T12:11:44.389792Z",
     "shell.execute_reply": "2025-09-08T12:11:44.389226Z"
    },
    "papermill": {
     "duration": 0.037162,
     "end_time": "2025-09-08T12:11:44.390940",
     "exception": false,
     "start_time": "2025-09-08T12:11:44.353778",
     "status": "completed"
    },
    "tags": []
   },
   "outputs": [],
   "source": [
    "def with_optional_prior(prior_df: pd.DataFrame | None = None):\n",
    "    def impl_wrapper(bn: gum.BayesNet, facts_path: str, return_ref: list) -> Callable:\n",
    "        prior_knowledge = None\n",
    "        if prior_df is not None:\n",
    "            filename = bn.property(\"name\")\n",
    "            prior_knowledge = PriorKnowledge(\n",
    "                variables=bn.names(),\n",
    "                constraints=Constraints(\n",
    "                    forbidden=prior_df[prior_df[\"filename\"] == filename][\"priors\"].iloc[\n",
    "                        0\n",
    "                    ],\n",
    "                ),\n",
    "            )\n",
    "\n",
    "        def helper():\n",
    "            return_ref.append(\n",
    "                CausalABA(\n",
    "                    n_nodes=bn.size(),\n",
    "                    compile_and_ground=compile_and_ground,\n",
    "                    facts_location=facts_path,\n",
    "                    print_models=False,\n",
    "                    skeleton_rules_reduction=True,\n",
    "                    weak_constraints=True,\n",
    "                    opt_mode=\"optN\",\n",
    "                    pre_grounding=True,  # Speed up solving by pre-grounding\n",
    "                    prior_knowledge=prior_knowledge,\n",
    "                )\n",
    "            )\n",
    "\n",
    "        return helper\n",
    "\n",
    "    return impl_wrapper"
   ]
  },
  {
   "cell_type": "code",
   "execution_count": null,
   "id": "cce58fa1",
   "metadata": {
    "execution": {
     "iopub.execute_input": "2025-09-08T12:11:44.405333Z",
     "iopub.status.busy": "2025-09-08T12:11:44.405039Z",
     "iopub.status.idle": "2025-09-08T12:11:44.426482Z",
     "shell.execute_reply": "2025-09-08T12:11:44.426076Z"
    },
    "papermill": {
     "duration": 0.029349,
     "end_time": "2025-09-08T12:11:44.427468",
     "exception": false,
     "start_time": "2025-09-08T12:11:44.398119",
     "status": "completed"
    },
    "tags": []
   },
   "outputs": [],
   "source": [
    "from typing import Iterable\n",
    "\n",
    "import abapc\n",
    "from utils.graph_utils import DAGMetrics, dag2cpdag\n",
    "\n",
    "\n",
    "repeats = 50\n",
    "MAX_NODES = 9  # Skip graphs larger than this for performance reasons\n",
    "report_cols = [\n",
    "    \"time\",\n",
    "    \"remove_n\",\n",
    "    \"cpdag_F1\",\n",
    "    \"cpdag_shd\",\n",
    "    \"cpdag_sid_low\",\n",
    "    \"cpdag_sid_high\",\n",
    "]\n",
    "report_stats = {col: [\"mean\", \"std\"] for col in report_cols}\n",
    "\n",
    "\n",
    "def show_report(df: pd.DataFrame):\n",
    "    groups = df.groupby([\"dataset\", \"impl\"])\n",
    "    stats = groups.agg(report_stats)\n",
    "    meta = groups.agg(\n",
    "        {\n",
    "            \"num_nodes\": \"first\",\n",
    "            \"num_edges\": \"first\",\n",
    "        }\n",
    "    )\n",
    "    meta[\"repeats\"] = groups.size()\n",
    "    meta.columns = pd.MultiIndex.from_product([[\"meta\"], meta.columns])\n",
    "    index = (\n",
    "        groups[\"num_nodes\"]\n",
    "        .first()\n",
    "        .reset_index()\n",
    "        .sort_values([\"num_nodes\", \"dataset\", \"impl\"])\n",
    "        .set_index([\"dataset\", \"impl\"])\n",
    "        .index\n",
    "    )\n",
    "\n",
    "    return pd.concat([meta, stats], axis=1).loc[index]\n",
    "\n",
    "\n",
    "def get_sorted_adjacency(bn: gum.BayesNet) -> np.ndarray:\n",
    "    \"\"\"Get the adjacency matrix of the Bayesian network sorted by variable names.\"\"\"\n",
    "    alphabetical_order = [bn.idFromName(var) for var in sorted(bn.names())]\n",
    "    adj = bn.adjacencyMatrix()\n",
    "    return adj[np.ix_(alphabetical_order, alphabetical_order)]\n",
    "\n",
    "\n",
    "def run_experiment(prior_df: pd.DataFrame | None, datasets: Iterable[Path]):\n",
    "    all_runs = []\n",
    "\n",
    "    for random_graph_path in datasets:\n",
    "        bn = gum.loadBN(str(random_graph_path))\n",
    "        B_true = get_sorted_adjacency(bn)\n",
    "        if bn.size() > MAX_NODES:\n",
    "            continue\n",
    "\n",
    "        print(f\"Processing {random_graph_path.name}...\")\n",
    "        (\n",
    "            bif_name,\n",
    "            impl1_return,\n",
    "            impl2_return,\n",
    "            seeds,\n",
    "            sepsets,\n",
    "        ) = compare_performance(\n",
    "            bif_path=random_graph_path,\n",
    "            sample_size=5000,\n",
    "            impl1=with_optional_prior(prior_df=prior_df),\n",
    "            impl2=with_optional_prior(prior_df=None),\n",
    "            repeats=repeats,\n",
    "        )\n",
    "\n",
    "        # Process both implementations in the same way\n",
    "        for impl_name, results in [(\"org\", impl2_return), (\"new\", impl1_return)]:\n",
    "            for run_id, run in enumerate(results):\n",
    "                # Mock ABAPC return\n",
    "                abapc.CausalABA = lambda *args, **kwargs: (run[\"models\"], False)\n",
    "                best_model = abapc.ABAPC(\n",
    "                    np.zeros((1, bn.size())),\n",
    "                    seed=seeds[run_id],\n",
    "                    sepsets=sepsets,\n",
    "                    alpha=0.01,\n",
    "                    indep_test=\"gsq\",\n",
    "                    S_weight=False,\n",
    "                    out_mode=\"opt\",\n",
    "                    scenario=\"prior_comparison\",\n",
    "                )\n",
    "\n",
    "                # DAG metrics\n",
    "                B_est_dag = (best_model > 0).astype(int)\n",
    "                mt_dag = DAGMetrics(B_est_dag, B_true).metrics\n",
    "\n",
    "                # CPDAG metrics\n",
    "                B_est_cpdag = (best_model != 0).astype(int)\n",
    "                mt_cpdag = DAGMetrics(dag2cpdag(B_est_cpdag), B_true).metrics\n",
    "                cpdag_sid = mt_cpdag.pop(\"sid\")\n",
    "                if not isinstance(cpdag_sid, tuple):\n",
    "                    cpdag_sid = (cpdag_sid, cpdag_sid)\n",
    "                mt_cpdag[\"sid_low\"], mt_cpdag[\"sid_high\"] = cpdag_sid\n",
    "\n",
    "                # Save this run's results in a flat dict\n",
    "                all_runs.append(\n",
    "                    {\n",
    "                        \"dataset\": bif_name,\n",
    "                        \"num_nodes\": bn.size(),\n",
    "                        \"num_edges\": bn.sizeArcs(),\n",
    "                        \"impl\": impl_name,\n",
    "                        \"run_id\": run_id,\n",
    "                        \"time\": run[\"time\"],\n",
    "                        \"remove_n\": run[\"remove_n\"],\n",
    "                        **{f\"dag_{k}\": v for k, v in mt_dag.items()},\n",
    "                        **{f\"cpdag_{k}\": v for k, v in mt_cpdag.items()},\n",
    "                    }\n",
    "                )\n",
    "\n",
    "    return pd.DataFrame(all_runs)"
   ]
  },
  {
   "cell_type": "markdown",
   "id": "eccbf964",
   "metadata": {
    "papermill": {
     "duration": 0.007378,
     "end_time": "2025-09-08T12:11:44.449635",
     "exception": false,
     "start_time": "2025-09-08T12:11:44.442257",
     "status": "completed"
    },
    "tags": []
   },
   "source": [
    "### Bnlearn small datasets"
   ]
  },
  {
   "cell_type": "code",
   "execution_count": 6,
   "id": "62292162",
   "metadata": {
    "execution": {
     "iopub.execute_input": "2025-09-08T12:11:44.465577Z",
     "iopub.status.busy": "2025-09-08T12:11:44.465038Z",
     "iopub.status.idle": "2025-09-08T12:11:44.657868Z",
     "shell.execute_reply": "2025-09-08T12:11:44.657293Z"
    },
    "papermill": {
     "duration": 0.202335,
     "end_time": "2025-09-08T12:11:44.658325",
     "exception": false,
     "start_time": "2025-09-08T12:11:44.455990",
     "status": "completed"
    },
    "tags": []
   },
   "outputs": [
    {
     "name": "stdout",
     "output_type": "stream",
     "text": [
      "bnlearn_small_datasets: [PosixPath('priors/datasets/bnlearn/survey.bifxml'), PosixPath('priors/datasets/bnlearn/cancer.bifxml'), PosixPath('priors/datasets/bnlearn/sachs.bifxml'), PosixPath('priors/datasets/bnlearn/asia.bifxml'), PosixPath('priors/datasets/bnlearn/earthquake.bifxml')]\n"
     ]
    },
    {
     "data": {
      "text/html": [
       "<div>\n",
       "<style scoped>\n",
       "    .dataframe tbody tr th:only-of-type {\n",
       "        vertical-align: middle;\n",
       "    }\n",
       "\n",
       "    .dataframe tbody tr th {\n",
       "        vertical-align: top;\n",
       "    }\n",
       "\n",
       "    .dataframe thead th {\n",
       "        text-align: right;\n",
       "    }\n",
       "</style>\n",
       "<table border=\"1\" class=\"dataframe\">\n",
       "  <thead>\n",
       "    <tr style=\"text-align: right;\">\n",
       "      <th></th>\n",
       "      <th>filename</th>\n",
       "      <th>title</th>\n",
       "      <th>num_nodes</th>\n",
       "      <th>num_edges</th>\n",
       "      <th>variable_descriptions</th>\n",
       "      <th>priors</th>\n",
       "      <th>TP</th>\n",
       "      <th>FP</th>\n",
       "      <th>TN</th>\n",
       "      <th>FN</th>\n",
       "      <th>Precision</th>\n",
       "      <th>Recall</th>\n",
       "      <th>F-beta</th>\n",
       "      <th>run_id</th>\n",
       "    </tr>\n",
       "  </thead>\n",
       "  <tbody>\n",
       "    <tr>\n",
       "      <th>0</th>\n",
       "      <td>asia</td>\n",
       "      <td>asia</td>\n",
       "      <td>8</td>\n",
       "      <td>8</td>\n",
       "      <td>{'smoke': 'smoking: whether or not the patient...</td>\n",
       "      <td>[[bronc, tub], [xray, bronc], [smoke, asia], [...</td>\n",
       "      <td>18</td>\n",
       "      <td>0</td>\n",
       "      <td>8</td>\n",
       "      <td>2</td>\n",
       "      <td>1.000000</td>\n",
       "      <td>0.900000</td>\n",
       "      <td>0.995745</td>\n",
       "      <td>0</td>\n",
       "    </tr>\n",
       "    <tr>\n",
       "      <th>1</th>\n",
       "      <td>cancer</td>\n",
       "      <td>cancer</td>\n",
       "      <td>5</td>\n",
       "      <td>4</td>\n",
       "      <td>{'Cancer': 'Cancer: Indicates whether the pers...</td>\n",
       "      <td>[[Xray, Dyspnoea], [Dyspnoea, Smoker], [Pollut...</td>\n",
       "      <td>5</td>\n",
       "      <td>0</td>\n",
       "      <td>4</td>\n",
       "      <td>1</td>\n",
       "      <td>1.000000</td>\n",
       "      <td>0.833333</td>\n",
       "      <td>0.992366</td>\n",
       "      <td>2</td>\n",
       "    </tr>\n",
       "    <tr>\n",
       "      <th>2</th>\n",
       "      <td>earthquake</td>\n",
       "      <td>earthquake</td>\n",
       "      <td>5</td>\n",
       "      <td>4</td>\n",
       "      <td>{'Earthquake': 'The occurrence of seismic acti...</td>\n",
       "      <td>[[Earthquake, JohnCalls], [Burglary, JohnCalls...</td>\n",
       "      <td>5</td>\n",
       "      <td>0</td>\n",
       "      <td>4</td>\n",
       "      <td>1</td>\n",
       "      <td>1.000000</td>\n",
       "      <td>0.833333</td>\n",
       "      <td>0.992366</td>\n",
       "      <td>0</td>\n",
       "    </tr>\n",
       "    <tr>\n",
       "      <th>3</th>\n",
       "      <td>sachs</td>\n",
       "      <td>sachs</td>\n",
       "      <td>11</td>\n",
       "      <td>17</td>\n",
       "      <td>{'PKA': 'PKA (Protein Kinase A): cAMP-dependen...</td>\n",
       "      <td>[[Jnk, Akt], [PKA, P38], [Akt, P38], [Plcg, P3...</td>\n",
       "      <td>11</td>\n",
       "      <td>2</td>\n",
       "      <td>15</td>\n",
       "      <td>27</td>\n",
       "      <td>0.846154</td>\n",
       "      <td>0.289474</td>\n",
       "      <td>0.787879</td>\n",
       "      <td>1</td>\n",
       "    </tr>\n",
       "    <tr>\n",
       "      <th>4</th>\n",
       "      <td>survey</td>\n",
       "      <td>survey</td>\n",
       "      <td>6</td>\n",
       "      <td>6</td>\n",
       "      <td>{'A': 'Age: the age, recorded as young (young)...</td>\n",
       "      <td>[[A, S], [A, R], [A, O]]</td>\n",
       "      <td>3</td>\n",
       "      <td>0</td>\n",
       "      <td>6</td>\n",
       "      <td>6</td>\n",
       "      <td>1.000000</td>\n",
       "      <td>0.333333</td>\n",
       "      <td>0.928571</td>\n",
       "      <td>3</td>\n",
       "    </tr>\n",
       "  </tbody>\n",
       "</table>\n",
       "</div>"
      ],
      "text/plain": [
       "     filename       title  num_nodes  num_edges  \\\n",
       "0        asia        asia          8          8   \n",
       "1      cancer      cancer          5          4   \n",
       "2  earthquake  earthquake          5          4   \n",
       "3       sachs       sachs         11         17   \n",
       "4      survey      survey          6          6   \n",
       "\n",
       "                               variable_descriptions  \\\n",
       "0  {'smoke': 'smoking: whether or not the patient...   \n",
       "1  {'Cancer': 'Cancer: Indicates whether the pers...   \n",
       "2  {'Earthquake': 'The occurrence of seismic acti...   \n",
       "3  {'PKA': 'PKA (Protein Kinase A): cAMP-dependen...   \n",
       "4  {'A': 'Age: the age, recorded as young (young)...   \n",
       "\n",
       "                                              priors  TP  FP  TN  FN  \\\n",
       "0  [[bronc, tub], [xray, bronc], [smoke, asia], [...  18   0   8   2   \n",
       "1  [[Xray, Dyspnoea], [Dyspnoea, Smoker], [Pollut...   5   0   4   1   \n",
       "2  [[Earthquake, JohnCalls], [Burglary, JohnCalls...   5   0   4   1   \n",
       "3  [[Jnk, Akt], [PKA, P38], [Akt, P38], [Plcg, P3...  11   2  15  27   \n",
       "4                           [[A, S], [A, R], [A, O]]   3   0   6   6   \n",
       "\n",
       "   Precision    Recall    F-beta  run_id  \n",
       "0   1.000000  0.900000  0.995745       0  \n",
       "1   1.000000  0.833333  0.992366       2  \n",
       "2   1.000000  0.833333  0.992366       0  \n",
       "3   0.846154  0.289474  0.787879       1  \n",
       "4   1.000000  0.333333  0.928571       3  "
      ]
     },
     "execution_count": 6,
     "metadata": {},
     "output_type": "execute_result"
    }
   ],
   "source": [
    "bnlearn_small_datasets = list(Path(\"priors/datasets/bnlearn/\").glob(\"*.bifxml\"))\n",
    "print(\"bnlearn_small_datasets:\", bnlearn_small_datasets)\n",
    "bnlearn_prior_df = pd.read_json(\"priors/datasets/bnlearn/prior_df.json\")\n",
    "bnlearn_prior_df"
   ]
  },
  {
   "cell_type": "code",
   "execution_count": 7,
   "id": "b28f9c54",
   "metadata": {
    "execution": {
     "iopub.execute_input": "2025-09-08T12:11:44.684306Z",
     "iopub.status.busy": "2025-09-08T12:11:44.683981Z",
     "iopub.status.idle": "2025-09-08T16:52:45.464052Z",
     "shell.execute_reply": "2025-09-08T16:52:45.463381Z"
    },
    "papermill": {
     "duration": 16860.79007,
     "end_time": "2025-09-08T16:52:45.465048",
     "exception": false,
     "start_time": "2025-09-08T12:11:44.674978",
     "status": "completed"
    },
    "tags": []
   },
   "outputs": [
    {
     "name": "stderr",
     "output_type": "stream",
     "text": [
      "<block>:1:39-51: info: atom does not occur in any rule head:\n",
      "  ap(1,4,#P0,s3)\n",
      "\n",
      "<block>:1:43-57: info: atom does not occur in any rule head:\n",
      "  ap(1,4,#P0,s2y3)\n",
      "\n",
      "<block>:1:45-60: info: atom does not occur in any rule head:\n",
      "  ap(1,4,#P0,empty)\n",
      "\n"
     ]
    },
    {
     "name": "stderr",
     "output_type": "stream",
     "text": [
      "<block>:1:39-51: info: atom does not occur in any rule head:\n",
      "  ap(1,4,#P0,s3)\n",
      "\n",
      "<block>:1:43-57: info: atom does not occur in any rule head:\n",
      "  ap(1,4,#P0,s2y3)\n",
      "\n",
      "<block>:1:45-60: info: atom does not occur in any rule head:\n",
      "  ap(1,4,#P0,empty)\n",
      "\n"
     ]
    },
    {
     "name": "stderr",
     "output_type": "stream",
     "text": [
      "<block>:1:39-51: info: atom does not occur in any rule head:\n",
      "  ap(1,4,#P0,s0)\n",
      "\n",
      "<block>:1:45-60: info: atom does not occur in any rule head:\n",
      "  ap(1,4,#P0,empty)\n",
      "\n",
      "<block>:1:39-51: info: atom does not occur in any rule head:\n",
      "  ap(1,4,#P0,s0)\n",
      "\n",
      "<block>:1:45-60: info: atom does not occur in any rule head:\n",
      "  ap(1,4,#P0,empty)\n",
      "\n",
      "<block>:1:39-51: info: atom does not occur in any rule head:\n",
      "  ap(1,4,#P0,s0)\n",
      "\n",
      "<block>:1:45-60: info: atom does not occur in any rule head:\n",
      "  ap(1,4,#P0,empty)\n",
      "\n"
     ]
    },
    {
     "name": "stderr",
     "output_type": "stream",
     "text": [
      "<block>:1:39-51: info: atom does not occur in any rule head:\n",
      "  ap(1,4,#P0,s0)\n",
      "\n",
      "<block>:1:45-60: info: atom does not occur in any rule head:\n",
      "  ap(1,4,#P0,empty)\n",
      "\n",
      "<block>:1:39-51: info: atom does not occur in any rule head:\n",
      "  ap(1,4,#P0,s0)\n",
      "\n",
      "<block>:1:45-60: info: atom does not occur in any rule head:\n",
      "  ap(1,4,#P0,empty)\n",
      "\n",
      "<block>:1:39-51: info: atom does not occur in any rule head:\n",
      "  ap(1,4,#P0,s0)\n",
      "\n",
      "<block>:1:45-60: info: atom does not occur in any rule head:\n",
      "  ap(1,4,#P0,empty)\n",
      "\n"
     ]
    },
    {
     "name": "stderr",
     "output_type": "stream",
     "text": [
      "<block>:1:39-51: info: atom does not occur in any rule head:\n",
      "  ap(1,4,#P0,s0)\n",
      "\n",
      "<block>:1:45-60: info: atom does not occur in any rule head:\n",
      "  ap(1,4,#P0,empty)\n",
      "\n"
     ]
    },
    {
     "name": "stderr",
     "output_type": "stream",
     "text": [
      "<block>:1:39-51: info: atom does not occur in any rule head:\n",
      "  ap(1,4,#P0,s0)\n",
      "\n",
      "<block>:1:45-60: info: atom does not occur in any rule head:\n",
      "  ap(1,4,#P0,empty)\n",
      "\n"
     ]
    },
    {
     "name": "stderr",
     "output_type": "stream",
     "text": [
      "<block>:1:39-51: info: atom does not occur in any rule head:\n",
      "  ap(1,2,#P0,s0)\n",
      "\n",
      "<block>:1:45-60: info: atom does not occur in any rule head:\n",
      "  ap(1,2,#P0,empty)\n",
      "\n"
     ]
    },
    {
     "name": "stderr",
     "output_type": "stream",
     "text": [
      "<block>:1:39-51: info: atom does not occur in any rule head:\n",
      "  ap(1,2,#P0,s0)\n",
      "\n",
      "<block>:1:45-60: info: atom does not occur in any rule head:\n",
      "  ap(1,2,#P0,empty)\n",
      "\n"
     ]
    },
    {
     "name": "stderr",
     "output_type": "stream",
     "text": [
      "<block>:1:39-51: info: atom does not occur in any rule head:\n",
      "  ap(1,4,#P0,s3)\n",
      "\n",
      "<block>:1:45-60: info: atom does not occur in any rule head:\n",
      "  ap(1,4,#P0,empty)\n",
      "\n"
     ]
    },
    {
     "name": "stderr",
     "output_type": "stream",
     "text": [
      "<block>:1:39-51: info: atom does not occur in any rule head:\n",
      "  ap(1,4,#P0,s3)\n",
      "\n",
      "<block>:1:45-60: info: atom does not occur in any rule head:\n",
      "  ap(1,4,#P0,empty)\n",
      "\n"
     ]
    },
    {
     "name": "stderr",
     "output_type": "stream",
     "text": [
      "<block>:1:39-51: info: atom does not occur in any rule head:\n",
      "  ap(1,4,#P0,s0)\n",
      "\n",
      "<block>:1:45-60: info: atom does not occur in any rule head:\n",
      "  ap(1,4,#P0,empty)\n",
      "\n"
     ]
    },
    {
     "name": "stderr",
     "output_type": "stream",
     "text": [
      "<block>:1:39-51: info: atom does not occur in any rule head:\n",
      "  ap(1,4,#P0,s0)\n",
      "\n",
      "<block>:1:45-60: info: atom does not occur in any rule head:\n",
      "  ap(1,4,#P0,empty)\n",
      "\n"
     ]
    },
    {
     "name": "stderr",
     "output_type": "stream",
     "text": [
      "<block>:1:39-51: info: atom does not occur in any rule head:\n",
      "  ap(1,4,#P0,s0)\n",
      "\n",
      "<block>:1:45-60: info: atom does not occur in any rule head:\n",
      "  ap(1,4,#P0,empty)\n",
      "\n",
      "<block>:1:39-51: info: atom does not occur in any rule head:\n",
      "  ap(1,4,#P0,s0)\n",
      "\n",
      "<block>:1:45-60: info: atom does not occur in any rule head:\n",
      "  ap(1,4,#P0,empty)\n",
      "\n"
     ]
    },
    {
     "name": "stderr",
     "output_type": "stream",
     "text": [
      "<block>:1:39-51: info: atom does not occur in any rule head:\n",
      "  ap(1,4,#P0,s0)\n",
      "\n",
      "<block>:1:45-60: info: atom does not occur in any rule head:\n",
      "  ap(1,4,#P0,empty)\n",
      "\n",
      "<block>:1:39-51: info: atom does not occur in any rule head:\n",
      "  ap(1,4,#P0,s0)\n",
      "\n",
      "<block>:1:45-60: info: atom does not occur in any rule head:\n",
      "  ap(1,4,#P0,empty)\n",
      "\n"
     ]
    },
    {
     "name": "stderr",
     "output_type": "stream",
     "text": [
      "<block>:1:39-51: info: atom does not occur in any rule head:\n",
      "  ap(1,4,#P0,s0)\n",
      "\n",
      "<block>:1:45-60: info: atom does not occur in any rule head:\n",
      "  ap(1,4,#P0,empty)\n",
      "\n"
     ]
    },
    {
     "name": "stderr",
     "output_type": "stream",
     "text": [
      "<block>:1:39-51: info: atom does not occur in any rule head:\n",
      "  ap(1,4,#P0,s0)\n",
      "\n",
      "<block>:1:45-60: info: atom does not occur in any rule head:\n",
      "  ap(1,4,#P0,empty)\n",
      "\n"
     ]
    },
    {
     "name": "stderr",
     "output_type": "stream",
     "text": [
      "<block>:1:39-51: info: atom does not occur in any rule head:\n",
      "  ap(2,5,#P0,s3)\n",
      "\n",
      "<block>:1:45-60: info: atom does not occur in any rule head:\n",
      "  ap(2,5,#P0,empty)\n",
      "\n"
     ]
    },
    {
     "name": "stderr",
     "output_type": "stream",
     "text": [
      "<block>:1:39-51: info: atom does not occur in any rule head:\n",
      "  ap(2,5,#P0,s3)\n",
      "\n",
      "<block>:1:45-60: info: atom does not occur in any rule head:\n",
      "  ap(2,5,#P0,empty)\n",
      "\n"
     ]
    },
    {
     "name": "stderr",
     "output_type": "stream",
     "text": [
      "<block>:1:39-51: info: atom does not occur in any rule head:\n",
      "  ap(1,4,#P0,s3)\n",
      "\n",
      "<block>:1:43-57: info: atom does not occur in any rule head:\n",
      "  ap(1,4,#P0,s0y2)\n",
      "\n",
      "<block>:1:45-60: info: atom does not occur in any rule head:\n",
      "  ap(1,4,#P0,empty)\n",
      "\n",
      "<block>:1:39-51: info: atom does not occur in any rule head:\n",
      "  ap(1,4,#P0,s2)\n",
      "\n",
      "<block>:1:43-57: info: atom does not occur in any rule head:\n",
      "  ap(1,4,#P0,s0y3)\n",
      "\n",
      "<block>:1:45-60: info: atom does not occur in any rule head:\n",
      "  ap(1,4,#P0,empty)\n",
      "\n",
      "<block>:1:39-51: info: atom does not occur in any rule head:\n",
      "  ap(1,4,#P0,s3)\n",
      "\n",
      "<block>:1:43-57: info: atom does not occur in any rule head:\n",
      "  ap(1,4,#P0,s0y3)\n",
      "\n",
      "<block>:1:45-60: info: atom does not occur in any rule head:\n",
      "  ap(1,4,#P0,empty)\n",
      "\n"
     ]
    },
    {
     "name": "stderr",
     "output_type": "stream",
     "text": [
      "<block>:1:39-51: info: atom does not occur in any rule head:\n",
      "  ap(1,4,#P0,s3)\n",
      "\n",
      "<block>:1:43-57: info: atom does not occur in any rule head:\n",
      "  ap(1,4,#P0,s0y2)\n",
      "\n",
      "<block>:1:45-60: info: atom does not occur in any rule head:\n",
      "  ap(1,4,#P0,empty)\n",
      "\n",
      "<block>:1:39-51: info: atom does not occur in any rule head:\n",
      "  ap(1,4,#P0,s2)\n",
      "\n",
      "<block>:1:43-57: info: atom does not occur in any rule head:\n",
      "  ap(1,4,#P0,s0y3)\n",
      "\n",
      "<block>:1:45-60: info: atom does not occur in any rule head:\n",
      "  ap(1,4,#P0,empty)\n",
      "\n",
      "<block>:1:39-51: info: atom does not occur in any rule head:\n",
      "  ap(1,4,#P0,s3)\n",
      "\n",
      "<block>:1:43-57: info: atom does not occur in any rule head:\n",
      "  ap(1,4,#P0,s0y3)\n",
      "\n",
      "<block>:1:45-60: info: atom does not occur in any rule head:\n",
      "  ap(1,4,#P0,empty)\n",
      "\n"
     ]
    },
    {
     "name": "stderr",
     "output_type": "stream",
     "text": [
      "<block>:1:39-51: info: atom does not occur in any rule head:\n",
      "  ap(1,4,#P0,s0)\n",
      "\n",
      "<block>:1:45-60: info: atom does not occur in any rule head:\n",
      "  ap(1,4,#P0,empty)\n",
      "\n"
     ]
    },
    {
     "name": "stderr",
     "output_type": "stream",
     "text": [
      "<block>:1:39-51: info: atom does not occur in any rule head:\n",
      "  ap(1,4,#P0,s0)\n",
      "\n",
      "<block>:1:45-60: info: atom does not occur in any rule head:\n",
      "  ap(1,4,#P0,empty)\n",
      "\n"
     ]
    },
    {
     "name": "stderr",
     "output_type": "stream",
     "text": [
      "<block>:1:39-51: info: atom does not occur in any rule head:\n",
      "  ap(1,4,#P0,s0)\n",
      "\n",
      "<block>:1:43-57: info: atom does not occur in any rule head:\n",
      "  ap(1,4,#P0,s0y3)\n",
      "\n",
      "<block>:1:45-60: info: atom does not occur in any rule head:\n",
      "  ap(1,4,#P0,empty)\n",
      "\n"
     ]
    },
    {
     "name": "stderr",
     "output_type": "stream",
     "text": [
      "<block>:1:39-51: info: atom does not occur in any rule head:\n",
      "  ap(1,4,#P0,s0)\n",
      "\n",
      "<block>:1:43-57: info: atom does not occur in any rule head:\n",
      "  ap(1,4,#P0,s0y3)\n",
      "\n",
      "<block>:1:45-60: info: atom does not occur in any rule head:\n",
      "  ap(1,4,#P0,empty)\n",
      "\n"
     ]
    },
    {
     "name": "stderr",
     "output_type": "stream",
     "text": [
      "<block>:1:39-51: info: atom does not occur in any rule head:\n",
      "  ap(1,4,#P0,s3)\n",
      "\n",
      "<block>:1:45-60: info: atom does not occur in any rule head:\n",
      "  ap(1,4,#P0,empty)\n",
      "\n"
     ]
    },
    {
     "name": "stderr",
     "output_type": "stream",
     "text": [
      "<block>:1:39-51: info: atom does not occur in any rule head:\n",
      "  ap(1,4,#P0,s3)\n",
      "\n",
      "<block>:1:45-60: info: atom does not occur in any rule head:\n",
      "  ap(1,4,#P0,empty)\n",
      "\n"
     ]
    },
    {
     "name": "stderr",
     "output_type": "stream",
     "text": [
      "<block>:1:39-51: info: atom does not occur in any rule head:\n",
      "  ap(1,4,#P0,s2)\n",
      "\n",
      "<block>:1:45-60: info: atom does not occur in any rule head:\n",
      "  ap(1,4,#P0,empty)\n",
      "\n"
     ]
    },
    {
     "name": "stderr",
     "output_type": "stream",
     "text": [
      "<block>:1:39-51: info: atom does not occur in any rule head:\n",
      "  ap(1,4,#P0,s2)\n",
      "\n",
      "<block>:1:45-60: info: atom does not occur in any rule head:\n",
      "  ap(1,4,#P0,empty)\n",
      "\n"
     ]
    },
    {
     "name": "stderr",
     "output_type": "stream",
     "text": [
      "<block>:1:39-51: info: atom does not occur in any rule head:\n",
      "  ap(1,3,#P0,s0)\n",
      "\n",
      "<block>:1:45-60: info: atom does not occur in any rule head:\n",
      "  ap(1,3,#P0,empty)\n",
      "\n"
     ]
    },
    {
     "name": "stderr",
     "output_type": "stream",
     "text": [
      "<block>:1:39-51: info: atom does not occur in any rule head:\n",
      "  ap(1,3,#P0,s0)\n",
      "\n",
      "<block>:1:45-60: info: atom does not occur in any rule head:\n",
      "  ap(1,3,#P0,empty)\n",
      "\n"
     ]
    },
    {
     "name": "stderr",
     "output_type": "stream",
     "text": [
      "<block>:1:45-60: info: atom does not occur in any rule head:\n",
      "  ap(4,5,#P0,empty)\n",
      "\n",
      "<block>:1:45-60: info: atom does not occur in any rule head:\n",
      "  ap(4,5,#P0,empty)\n",
      "\n"
     ]
    },
    {
     "name": "stderr",
     "output_type": "stream",
     "text": [
      "<block>:1:45-60: info: atom does not occur in any rule head:\n",
      "  ap(4,5,#P0,empty)\n",
      "\n",
      "<block>:1:45-60: info: atom does not occur in any rule head:\n",
      "  ap(4,5,#P0,empty)\n",
      "\n"
     ]
    },
    {
     "name": "stderr",
     "output_type": "stream",
     "text": [
      "<block>:1:39-51: info: atom does not occur in any rule head:\n",
      "  ap(1,4,#P0,s2)\n",
      "\n",
      "<block>:1:45-60: info: atom does not occur in any rule head:\n",
      "  ap(1,4,#P0,empty)\n",
      "\n"
     ]
    },
    {
     "name": "stderr",
     "output_type": "stream",
     "text": [
      "<block>:1:39-51: info: atom does not occur in any rule head:\n",
      "  ap(1,4,#P0,s2)\n",
      "\n",
      "<block>:1:45-60: info: atom does not occur in any rule head:\n",
      "  ap(1,4,#P0,empty)\n",
      "\n"
     ]
    },
    {
     "name": "stderr",
     "output_type": "stream",
     "text": [
      "<block>:1:39-51: info: atom does not occur in any rule head:\n",
      "  ap(1,3,#P0,s0)\n",
      "\n",
      "<block>:1:43-57: info: atom does not occur in any rule head:\n",
      "  ap(1,3,#P0,s0y2)\n",
      "\n",
      "<block>:1:45-60: info: atom does not occur in any rule head:\n",
      "  ap(1,3,#P0,empty)\n",
      "\n"
     ]
    },
    {
     "name": "stderr",
     "output_type": "stream",
     "text": [
      "<block>:1:39-51: info: atom does not occur in any rule head:\n",
      "  ap(1,3,#P0,s0)\n",
      "\n",
      "<block>:1:43-57: info: atom does not occur in any rule head:\n",
      "  ap(1,3,#P0,s0y2)\n",
      "\n",
      "<block>:1:45-60: info: atom does not occur in any rule head:\n",
      "  ap(1,3,#P0,empty)\n",
      "\n"
     ]
    },
    {
     "name": "stderr",
     "output_type": "stream",
     "text": [
      "<block>:1:39-51: info: atom does not occur in any rule head:\n",
      "  ap(1,4,#P0,s0)\n",
      "\n",
      "<block>:1:45-60: info: atom does not occur in any rule head:\n",
      "  ap(1,4,#P0,empty)\n",
      "\n"
     ]
    },
    {
     "name": "stderr",
     "output_type": "stream",
     "text": [
      "<block>:1:39-51: info: atom does not occur in any rule head:\n",
      "  ap(1,4,#P0,s0)\n",
      "\n",
      "<block>:1:45-60: info: atom does not occur in any rule head:\n",
      "  ap(1,4,#P0,empty)\n",
      "\n"
     ]
    },
    {
     "name": "stdout",
     "output_type": "stream",
     "text": [
      "WARNING: ignoring environment value of R_HOME\n"
     ]
    },
    {
     "name": "stdout",
     "output_type": "stream",
     "text": [
      "WARNING: ignoring environment value of R_HOME\n"
     ]
    },
    {
     "name": "stdout",
     "output_type": "stream",
     "text": [
      "WARNING: ignoring environment value of R_HOME\n"
     ]
    },
    {
     "name": "stdout",
     "output_type": "stream",
     "text": [
      "WARNING: ignoring environment value of R_HOME\n"
     ]
    },
    {
     "name": "stdout",
     "output_type": "stream",
     "text": [
      "WARNING: ignoring environment value of R_HOME\n"
     ]
    },
    {
     "name": "stdout",
     "output_type": "stream",
     "text": [
      "WARNING: ignoring environment value of R_HOME\n"
     ]
    },
    {
     "name": "stdout",
     "output_type": "stream",
     "text": [
      "WARNING: ignoring environment value of R_HOME\n"
     ]
    },
    {
     "name": "stdout",
     "output_type": "stream",
     "text": [
      "WARNING: ignoring environment value of R_HOME\n"
     ]
    },
    {
     "name": "stdout",
     "output_type": "stream",
     "text": [
      "WARNING: ignoring environment value of R_HOME\n"
     ]
    },
    {
     "name": "stdout",
     "output_type": "stream",
     "text": [
      "WARNING: ignoring environment value of R_HOME\n"
     ]
    },
    {
     "name": "stdout",
     "output_type": "stream",
     "text": [
      "WARNING: ignoring environment value of R_HOME\n"
     ]
    },
    {
     "name": "stdout",
     "output_type": "stream",
     "text": [
      "WARNING: ignoring environment value of R_HOME\n"
     ]
    },
    {
     "name": "stdout",
     "output_type": "stream",
     "text": [
      "WARNING: ignoring environment value of R_HOME\n"
     ]
    },
    {
     "name": "stdout",
     "output_type": "stream",
     "text": [
      "WARNING: ignoring environment value of R_HOME\n"
     ]
    },
    {
     "name": "stdout",
     "output_type": "stream",
     "text": [
      "WARNING: ignoring environment value of R_HOME\n"
     ]
    },
    {
     "name": "stdout",
     "output_type": "stream",
     "text": [
      "WARNING: ignoring environment value of R_HOME\n"
     ]
    },
    {
     "name": "stdout",
     "output_type": "stream",
     "text": [
      "WARNING: ignoring environment value of R_HOME\n"
     ]
    },
    {
     "name": "stdout",
     "output_type": "stream",
     "text": [
      "WARNING: ignoring environment value of R_HOME\n"
     ]
    },
    {
     "name": "stdout",
     "output_type": "stream",
     "text": [
      "WARNING: ignoring environment value of R_HOME\n"
     ]
    },
    {
     "name": "stdout",
     "output_type": "stream",
     "text": [
      "WARNING: ignoring environment value of R_HOME\n"
     ]
    },
    {
     "name": "stdout",
     "output_type": "stream",
     "text": [
      "WARNING: ignoring environment value of R_HOME\n"
     ]
    },
    {
     "name": "stdout",
     "output_type": "stream",
     "text": [
      "WARNING: ignoring environment value of R_HOME\n"
     ]
    },
    {
     "name": "stdout",
     "output_type": "stream",
     "text": [
      "WARNING: ignoring environment value of R_HOME\n"
     ]
    },
    {
     "name": "stdout",
     "output_type": "stream",
     "text": [
      "WARNING: ignoring environment value of R_HOME\n"
     ]
    },
    {
     "name": "stdout",
     "output_type": "stream",
     "text": [
      "WARNING: ignoring environment value of R_HOME\n"
     ]
    },
    {
     "name": "stdout",
     "output_type": "stream",
     "text": [
      "WARNING: ignoring environment value of R_HOME\n"
     ]
    },
    {
     "name": "stdout",
     "output_type": "stream",
     "text": [
      "WARNING: ignoring environment value of R_HOME\n"
     ]
    },
    {
     "name": "stdout",
     "output_type": "stream",
     "text": [
      "WARNING: ignoring environment value of R_HOME\n"
     ]
    },
    {
     "name": "stdout",
     "output_type": "stream",
     "text": [
      "WARNING: ignoring environment value of R_HOME\n"
     ]
    },
    {
     "name": "stdout",
     "output_type": "stream",
     "text": [
      "WARNING: ignoring environment value of R_HOME\n"
     ]
    },
    {
     "name": "stdout",
     "output_type": "stream",
     "text": [
      "WARNING: ignoring environment value of R_HOME\n"
     ]
    },
    {
     "name": "stdout",
     "output_type": "stream",
     "text": [
      "WARNING: ignoring environment value of R_HOME\n"
     ]
    },
    {
     "name": "stdout",
     "output_type": "stream",
     "text": [
      "WARNING: ignoring environment value of R_HOME\n"
     ]
    },
    {
     "name": "stdout",
     "output_type": "stream",
     "text": [
      "WARNING: ignoring environment value of R_HOME\n"
     ]
    },
    {
     "name": "stdout",
     "output_type": "stream",
     "text": [
      "WARNING: ignoring environment value of R_HOME\n"
     ]
    },
    {
     "name": "stdout",
     "output_type": "stream",
     "text": [
      "WARNING: ignoring environment value of R_HOME\n"
     ]
    },
    {
     "name": "stdout",
     "output_type": "stream",
     "text": [
      "WARNING: ignoring environment value of R_HOME\n"
     ]
    },
    {
     "name": "stdout",
     "output_type": "stream",
     "text": [
      "WARNING: ignoring environment value of R_HOME\n"
     ]
    },
    {
     "name": "stdout",
     "output_type": "stream",
     "text": [
      "WARNING: ignoring environment value of R_HOME\n"
     ]
    },
    {
     "name": "stdout",
     "output_type": "stream",
     "text": [
      "WARNING: ignoring environment value of R_HOME\n"
     ]
    },
    {
     "name": "stdout",
     "output_type": "stream",
     "text": [
      "WARNING: ignoring environment value of R_HOME\n"
     ]
    },
    {
     "name": "stdout",
     "output_type": "stream",
     "text": [
      "WARNING: ignoring environment value of R_HOME\n"
     ]
    },
    {
     "name": "stdout",
     "output_type": "stream",
     "text": [
      "WARNING: ignoring environment value of R_HOME\n"
     ]
    },
    {
     "name": "stdout",
     "output_type": "stream",
     "text": [
      "WARNING: ignoring environment value of R_HOME\n"
     ]
    },
    {
     "name": "stdout",
     "output_type": "stream",
     "text": [
      "WARNING: ignoring environment value of R_HOME\n"
     ]
    },
    {
     "name": "stdout",
     "output_type": "stream",
     "text": [
      "WARNING: ignoring environment value of R_HOME\n"
     ]
    },
    {
     "name": "stdout",
     "output_type": "stream",
     "text": [
      "WARNING: ignoring environment value of R_HOME\n"
     ]
    },
    {
     "name": "stdout",
     "output_type": "stream",
     "text": [
      "WARNING: ignoring environment value of R_HOME\n"
     ]
    },
    {
     "name": "stdout",
     "output_type": "stream",
     "text": [
      "WARNING: ignoring environment value of R_HOME\n"
     ]
    },
    {
     "name": "stdout",
     "output_type": "stream",
     "text": [
      "WARNING: ignoring environment value of R_HOME\n"
     ]
    },
    {
     "name": "stdout",
     "output_type": "stream",
     "text": [
      "WARNING: ignoring environment value of R_HOME\n"
     ]
    },
    {
     "name": "stdout",
     "output_type": "stream",
     "text": [
      "WARNING: ignoring environment value of R_HOME\n"
     ]
    },
    {
     "name": "stdout",
     "output_type": "stream",
     "text": [
      "WARNING: ignoring environment value of R_HOME\n"
     ]
    },
    {
     "name": "stdout",
     "output_type": "stream",
     "text": [
      "WARNING: ignoring environment value of R_HOME\n"
     ]
    },
    {
     "name": "stdout",
     "output_type": "stream",
     "text": [
      "WARNING: ignoring environment value of R_HOME\n"
     ]
    },
    {
     "name": "stdout",
     "output_type": "stream",
     "text": [
      "WARNING: ignoring environment value of R_HOME\n"
     ]
    },
    {
     "name": "stdout",
     "output_type": "stream",
     "text": [
      "WARNING: ignoring environment value of R_HOME\n"
     ]
    },
    {
     "name": "stdout",
     "output_type": "stream",
     "text": [
      "WARNING: ignoring environment value of R_HOME\n"
     ]
    },
    {
     "name": "stdout",
     "output_type": "stream",
     "text": [
      "WARNING: ignoring environment value of R_HOME\n"
     ]
    },
    {
     "name": "stdout",
     "output_type": "stream",
     "text": [
      "WARNING: ignoring environment value of R_HOME\n"
     ]
    },
    {
     "name": "stdout",
     "output_type": "stream",
     "text": [
      "WARNING: ignoring environment value of R_HOME\n"
     ]
    },
    {
     "name": "stdout",
     "output_type": "stream",
     "text": [
      "WARNING: ignoring environment value of R_HOME\n"
     ]
    },
    {
     "name": "stdout",
     "output_type": "stream",
     "text": [
      "WARNING: ignoring environment value of R_HOME\n"
     ]
    },
    {
     "name": "stdout",
     "output_type": "stream",
     "text": [
      "WARNING: ignoring environment value of R_HOME\n"
     ]
    },
    {
     "name": "stdout",
     "output_type": "stream",
     "text": [
      "WARNING: ignoring environment value of R_HOME\n"
     ]
    },
    {
     "name": "stdout",
     "output_type": "stream",
     "text": [
      "WARNING: ignoring environment value of R_HOME\n"
     ]
    },
    {
     "name": "stdout",
     "output_type": "stream",
     "text": [
      "WARNING: ignoring environment value of R_HOME\n"
     ]
    },
    {
     "name": "stdout",
     "output_type": "stream",
     "text": [
      "WARNING: ignoring environment value of R_HOME\n"
     ]
    },
    {
     "name": "stdout",
     "output_type": "stream",
     "text": [
      "WARNING: ignoring environment value of R_HOME\n"
     ]
    },
    {
     "name": "stdout",
     "output_type": "stream",
     "text": [
      "WARNING: ignoring environment value of R_HOME\n"
     ]
    },
    {
     "name": "stdout",
     "output_type": "stream",
     "text": [
      "WARNING: ignoring environment value of R_HOME\n"
     ]
    },
    {
     "name": "stdout",
     "output_type": "stream",
     "text": [
      "WARNING: ignoring environment value of R_HOME\n"
     ]
    },
    {
     "name": "stdout",
     "output_type": "stream",
     "text": [
      "WARNING: ignoring environment value of R_HOME\n"
     ]
    },
    {
     "name": "stdout",
     "output_type": "stream",
     "text": [
      "WARNING: ignoring environment value of R_HOME\n"
     ]
    },
    {
     "name": "stdout",
     "output_type": "stream",
     "text": [
      "WARNING: ignoring environment value of R_HOME\n"
     ]
    },
    {
     "name": "stdout",
     "output_type": "stream",
     "text": [
      "WARNING: ignoring environment value of R_HOME\n"
     ]
    },
    {
     "name": "stdout",
     "output_type": "stream",
     "text": [
      "WARNING: ignoring environment value of R_HOME\n"
     ]
    },
    {
     "name": "stdout",
     "output_type": "stream",
     "text": [
      "WARNING: ignoring environment value of R_HOME\n"
     ]
    },
    {
     "name": "stdout",
     "output_type": "stream",
     "text": [
      "WARNING: ignoring environment value of R_HOME\n"
     ]
    },
    {
     "name": "stdout",
     "output_type": "stream",
     "text": [
      "WARNING: ignoring environment value of R_HOME\n"
     ]
    },
    {
     "name": "stdout",
     "output_type": "stream",
     "text": [
      "WARNING: ignoring environment value of R_HOME\n"
     ]
    },
    {
     "name": "stdout",
     "output_type": "stream",
     "text": [
      "WARNING: ignoring environment value of R_HOME\n"
     ]
    },
    {
     "name": "stdout",
     "output_type": "stream",
     "text": [
      "WARNING: ignoring environment value of R_HOME\n"
     ]
    },
    {
     "name": "stdout",
     "output_type": "stream",
     "text": [
      "WARNING: ignoring environment value of R_HOME\n"
     ]
    },
    {
     "name": "stdout",
     "output_type": "stream",
     "text": [
      "WARNING: ignoring environment value of R_HOME\n"
     ]
    },
    {
     "name": "stdout",
     "output_type": "stream",
     "text": [
      "WARNING: ignoring environment value of R_HOME\n"
     ]
    },
    {
     "name": "stdout",
     "output_type": "stream",
     "text": [
      "WARNING: ignoring environment value of R_HOME\n"
     ]
    },
    {
     "name": "stdout",
     "output_type": "stream",
     "text": [
      "WARNING: ignoring environment value of R_HOME\n"
     ]
    },
    {
     "name": "stdout",
     "output_type": "stream",
     "text": [
      "WARNING: ignoring environment value of R_HOME\n"
     ]
    },
    {
     "name": "stdout",
     "output_type": "stream",
     "text": [
      "WARNING: ignoring environment value of R_HOME\n"
     ]
    },
    {
     "name": "stdout",
     "output_type": "stream",
     "text": [
      "WARNING: ignoring environment value of R_HOME\n"
     ]
    },
    {
     "name": "stdout",
     "output_type": "stream",
     "text": [
      "WARNING: ignoring environment value of R_HOME\n"
     ]
    },
    {
     "name": "stdout",
     "output_type": "stream",
     "text": [
      "WARNING: ignoring environment value of R_HOME\n"
     ]
    },
    {
     "name": "stdout",
     "output_type": "stream",
     "text": [
      "WARNING: ignoring environment value of R_HOME\n"
     ]
    },
    {
     "name": "stdout",
     "output_type": "stream",
     "text": [
      "WARNING: ignoring environment value of R_HOME\n"
     ]
    },
    {
     "name": "stdout",
     "output_type": "stream",
     "text": [
      "WARNING: ignoring environment value of R_HOME\n"
     ]
    },
    {
     "name": "stdout",
     "output_type": "stream",
     "text": [
      "WARNING: ignoring environment value of R_HOME\n"
     ]
    },
    {
     "name": "stdout",
     "output_type": "stream",
     "text": [
      "WARNING: ignoring environment value of R_HOME\n"
     ]
    },
    {
     "name": "stdout",
     "output_type": "stream",
     "text": [
      "WARNING: ignoring environment value of R_HOME\n"
     ]
    },
    {
     "name": "stdout",
     "output_type": "stream",
     "text": [
      "WARNING: ignoring environment value of R_HOME\n"
     ]
    },
    {
     "name": "stdout",
     "output_type": "stream",
     "text": [
      "WARNING: ignoring environment value of R_HOME\n"
     ]
    },
    {
     "name": "stdout",
     "output_type": "stream",
     "text": [
      "WARNING: ignoring environment value of R_HOME\n"
     ]
    },
    {
     "name": "stdout",
     "output_type": "stream",
     "text": [
      "WARNING: ignoring environment value of R_HOME\n"
     ]
    },
    {
     "name": "stdout",
     "output_type": "stream",
     "text": [
      "WARNING: ignoring environment value of R_HOME\n"
     ]
    },
    {
     "name": "stdout",
     "output_type": "stream",
     "text": [
      "WARNING: ignoring environment value of R_HOME\n"
     ]
    },
    {
     "name": "stdout",
     "output_type": "stream",
     "text": [
      "WARNING: ignoring environment value of R_HOME\n"
     ]
    },
    {
     "name": "stdout",
     "output_type": "stream",
     "text": [
      "WARNING: ignoring environment value of R_HOME\n"
     ]
    },
    {
     "name": "stdout",
     "output_type": "stream",
     "text": [
      "WARNING: ignoring environment value of R_HOME\n"
     ]
    },
    {
     "name": "stdout",
     "output_type": "stream",
     "text": [
      "WARNING: ignoring environment value of R_HOME\n"
     ]
    },
    {
     "name": "stdout",
     "output_type": "stream",
     "text": [
      "WARNING: ignoring environment value of R_HOME\n"
     ]
    },
    {
     "name": "stdout",
     "output_type": "stream",
     "text": [
      "WARNING: ignoring environment value of R_HOME\n"
     ]
    },
    {
     "name": "stdout",
     "output_type": "stream",
     "text": [
      "WARNING: ignoring environment value of R_HOME\n"
     ]
    },
    {
     "name": "stdout",
     "output_type": "stream",
     "text": [
      "WARNING: ignoring environment value of R_HOME\n"
     ]
    },
    {
     "name": "stdout",
     "output_type": "stream",
     "text": [
      "WARNING: ignoring environment value of R_HOME\n"
     ]
    },
    {
     "name": "stdout",
     "output_type": "stream",
     "text": [
      "WARNING: ignoring environment value of R_HOME\n"
     ]
    },
    {
     "name": "stdout",
     "output_type": "stream",
     "text": [
      "WARNING: ignoring environment value of R_HOME\n"
     ]
    },
    {
     "name": "stdout",
     "output_type": "stream",
     "text": [
      "WARNING: ignoring environment value of R_HOME\n"
     ]
    },
    {
     "name": "stdout",
     "output_type": "stream",
     "text": [
      "WARNING: ignoring environment value of R_HOME\n"
     ]
    },
    {
     "name": "stdout",
     "output_type": "stream",
     "text": [
      "WARNING: ignoring environment value of R_HOME\n"
     ]
    },
    {
     "name": "stdout",
     "output_type": "stream",
     "text": [
      "WARNING: ignoring environment value of R_HOME\n"
     ]
    },
    {
     "name": "stdout",
     "output_type": "stream",
     "text": [
      "WARNING: ignoring environment value of R_HOME\n"
     ]
    },
    {
     "name": "stdout",
     "output_type": "stream",
     "text": [
      "WARNING: ignoring environment value of R_HOME\n"
     ]
    },
    {
     "name": "stdout",
     "output_type": "stream",
     "text": [
      "WARNING: ignoring environment value of R_HOME\n"
     ]
    },
    {
     "name": "stdout",
     "output_type": "stream",
     "text": [
      "WARNING: ignoring environment value of R_HOME\n"
     ]
    },
    {
     "name": "stdout",
     "output_type": "stream",
     "text": [
      "WARNING: ignoring environment value of R_HOME\n"
     ]
    },
    {
     "name": "stdout",
     "output_type": "stream",
     "text": [
      "WARNING: ignoring environment value of R_HOME\n"
     ]
    },
    {
     "name": "stdout",
     "output_type": "stream",
     "text": [
      "WARNING: ignoring environment value of R_HOME\n"
     ]
    },
    {
     "name": "stdout",
     "output_type": "stream",
     "text": [
      "WARNING: ignoring environment value of R_HOME\n"
     ]
    },
    {
     "name": "stdout",
     "output_type": "stream",
     "text": [
      "WARNING: ignoring environment value of R_HOME\n"
     ]
    },
    {
     "name": "stdout",
     "output_type": "stream",
     "text": [
      "WARNING: ignoring environment value of R_HOME\n"
     ]
    },
    {
     "name": "stdout",
     "output_type": "stream",
     "text": [
      "WARNING: ignoring environment value of R_HOME\n"
     ]
    },
    {
     "name": "stdout",
     "output_type": "stream",
     "text": [
      "WARNING: ignoring environment value of R_HOME\n"
     ]
    },
    {
     "name": "stdout",
     "output_type": "stream",
     "text": [
      "WARNING: ignoring environment value of R_HOME\n"
     ]
    },
    {
     "name": "stdout",
     "output_type": "stream",
     "text": [
      "WARNING: ignoring environment value of R_HOME\n"
     ]
    },
    {
     "name": "stdout",
     "output_type": "stream",
     "text": [
      "WARNING: ignoring environment value of R_HOME\n"
     ]
    },
    {
     "name": "stdout",
     "output_type": "stream",
     "text": [
      "WARNING: ignoring environment value of R_HOME\n"
     ]
    },
    {
     "name": "stdout",
     "output_type": "stream",
     "text": [
      "WARNING: ignoring environment value of R_HOME\n"
     ]
    },
    {
     "name": "stdout",
     "output_type": "stream",
     "text": [
      "WARNING: ignoring environment value of R_HOME\n"
     ]
    },
    {
     "name": "stdout",
     "output_type": "stream",
     "text": [
      "WARNING: ignoring environment value of R_HOME\n"
     ]
    },
    {
     "name": "stdout",
     "output_type": "stream",
     "text": [
      "WARNING: ignoring environment value of R_HOME\n"
     ]
    },
    {
     "name": "stdout",
     "output_type": "stream",
     "text": [
      "WARNING: ignoring environment value of R_HOME\n"
     ]
    },
    {
     "name": "stdout",
     "output_type": "stream",
     "text": [
      "WARNING: ignoring environment value of R_HOME\n"
     ]
    },
    {
     "name": "stdout",
     "output_type": "stream",
     "text": [
      "WARNING: ignoring environment value of R_HOME\n"
     ]
    },
    {
     "name": "stdout",
     "output_type": "stream",
     "text": [
      "WARNING: ignoring environment value of R_HOME\n"
     ]
    },
    {
     "name": "stdout",
     "output_type": "stream",
     "text": [
      "WARNING: ignoring environment value of R_HOME\n"
     ]
    },
    {
     "name": "stdout",
     "output_type": "stream",
     "text": [
      "WARNING: ignoring environment value of R_HOME\n"
     ]
    },
    {
     "name": "stdout",
     "output_type": "stream",
     "text": [
      "WARNING: ignoring environment value of R_HOME\n"
     ]
    },
    {
     "name": "stdout",
     "output_type": "stream",
     "text": [
      "WARNING: ignoring environment value of R_HOME\n"
     ]
    },
    {
     "name": "stdout",
     "output_type": "stream",
     "text": [
      "WARNING: ignoring environment value of R_HOME\n"
     ]
    },
    {
     "name": "stdout",
     "output_type": "stream",
     "text": [
      "WARNING: ignoring environment value of R_HOME\n"
     ]
    },
    {
     "name": "stdout",
     "output_type": "stream",
     "text": [
      "WARNING: ignoring environment value of R_HOME\n"
     ]
    },
    {
     "name": "stdout",
     "output_type": "stream",
     "text": [
      "WARNING: ignoring environment value of R_HOME\n"
     ]
    },
    {
     "name": "stdout",
     "output_type": "stream",
     "text": [
      "WARNING: ignoring environment value of R_HOME\n"
     ]
    },
    {
     "name": "stdout",
     "output_type": "stream",
     "text": [
      "WARNING: ignoring environment value of R_HOME\n"
     ]
    },
    {
     "name": "stdout",
     "output_type": "stream",
     "text": [
      "WARNING: ignoring environment value of R_HOME\n"
     ]
    },
    {
     "name": "stdout",
     "output_type": "stream",
     "text": [
      "WARNING: ignoring environment value of R_HOME\n"
     ]
    },
    {
     "name": "stdout",
     "output_type": "stream",
     "text": [
      "WARNING: ignoring environment value of R_HOME\n"
     ]
    },
    {
     "name": "stdout",
     "output_type": "stream",
     "text": [
      "WARNING: ignoring environment value of R_HOME\n"
     ]
    },
    {
     "name": "stdout",
     "output_type": "stream",
     "text": [
      "WARNING: ignoring environment value of R_HOME\n"
     ]
    },
    {
     "name": "stdout",
     "output_type": "stream",
     "text": [
      "WARNING: ignoring environment value of R_HOME\n"
     ]
    },
    {
     "name": "stdout",
     "output_type": "stream",
     "text": [
      "WARNING: ignoring environment value of R_HOME\n"
     ]
    },
    {
     "name": "stdout",
     "output_type": "stream",
     "text": [
      "WARNING: ignoring environment value of R_HOME\n"
     ]
    },
    {
     "name": "stdout",
     "output_type": "stream",
     "text": [
      "WARNING: ignoring environment value of R_HOME\n"
     ]
    },
    {
     "name": "stdout",
     "output_type": "stream",
     "text": [
      "WARNING: ignoring environment value of R_HOME\n"
     ]
    },
    {
     "name": "stdout",
     "output_type": "stream",
     "text": [
      "WARNING: ignoring environment value of R_HOME\n"
     ]
    },
    {
     "name": "stdout",
     "output_type": "stream",
     "text": [
      "WARNING: ignoring environment value of R_HOME\n"
     ]
    },
    {
     "name": "stdout",
     "output_type": "stream",
     "text": [
      "WARNING: ignoring environment value of R_HOME\n"
     ]
    },
    {
     "name": "stdout",
     "output_type": "stream",
     "text": [
      "WARNING: ignoring environment value of R_HOME\n"
     ]
    },
    {
     "name": "stdout",
     "output_type": "stream",
     "text": [
      "WARNING: ignoring environment value of R_HOME\n"
     ]
    },
    {
     "name": "stdout",
     "output_type": "stream",
     "text": [
      "WARNING: ignoring environment value of R_HOME\n"
     ]
    },
    {
     "name": "stdout",
     "output_type": "stream",
     "text": [
      "WARNING: ignoring environment value of R_HOME\n"
     ]
    },
    {
     "name": "stdout",
     "output_type": "stream",
     "text": [
      "WARNING: ignoring environment value of R_HOME\n"
     ]
    },
    {
     "name": "stdout",
     "output_type": "stream",
     "text": [
      "WARNING: ignoring environment value of R_HOME\n"
     ]
    },
    {
     "name": "stdout",
     "output_type": "stream",
     "text": [
      "WARNING: ignoring environment value of R_HOME\n"
     ]
    },
    {
     "name": "stdout",
     "output_type": "stream",
     "text": [
      "WARNING: ignoring environment value of R_HOME\n"
     ]
    },
    {
     "name": "stdout",
     "output_type": "stream",
     "text": [
      "WARNING: ignoring environment value of R_HOME\n"
     ]
    },
    {
     "name": "stdout",
     "output_type": "stream",
     "text": [
      "WARNING: ignoring environment value of R_HOME\n"
     ]
    },
    {
     "name": "stdout",
     "output_type": "stream",
     "text": [
      "WARNING: ignoring environment value of R_HOME\n"
     ]
    },
    {
     "name": "stdout",
     "output_type": "stream",
     "text": [
      "WARNING: ignoring environment value of R_HOME\n"
     ]
    },
    {
     "name": "stdout",
     "output_type": "stream",
     "text": [
      "WARNING: ignoring environment value of R_HOME\n"
     ]
    },
    {
     "name": "stdout",
     "output_type": "stream",
     "text": [
      "WARNING: ignoring environment value of R_HOME\n"
     ]
    },
    {
     "name": "stdout",
     "output_type": "stream",
     "text": [
      "WARNING: ignoring environment value of R_HOME\n"
     ]
    },
    {
     "name": "stdout",
     "output_type": "stream",
     "text": [
      "WARNING: ignoring environment value of R_HOME\n"
     ]
    },
    {
     "name": "stdout",
     "output_type": "stream",
     "text": [
      "WARNING: ignoring environment value of R_HOME\n"
     ]
    },
    {
     "name": "stdout",
     "output_type": "stream",
     "text": [
      "WARNING: ignoring environment value of R_HOME\n"
     ]
    },
    {
     "name": "stdout",
     "output_type": "stream",
     "text": [
      "WARNING: ignoring environment value of R_HOME\n"
     ]
    },
    {
     "name": "stdout",
     "output_type": "stream",
     "text": [
      "WARNING: ignoring environment value of R_HOME\n"
     ]
    },
    {
     "name": "stdout",
     "output_type": "stream",
     "text": [
      "WARNING: ignoring environment value of R_HOME\n"
     ]
    },
    {
     "name": "stdout",
     "output_type": "stream",
     "text": [
      "WARNING: ignoring environment value of R_HOME\n"
     ]
    },
    {
     "name": "stdout",
     "output_type": "stream",
     "text": [
      "WARNING: ignoring environment value of R_HOME\n"
     ]
    },
    {
     "name": "stdout",
     "output_type": "stream",
     "text": [
      "WARNING: ignoring environment value of R_HOME\n"
     ]
    },
    {
     "name": "stdout",
     "output_type": "stream",
     "text": [
      "WARNING: ignoring environment value of R_HOME\n"
     ]
    },
    {
     "name": "stdout",
     "output_type": "stream",
     "text": [
      "WARNING: ignoring environment value of R_HOME\n"
     ]
    },
    {
     "name": "stdout",
     "output_type": "stream",
     "text": [
      "WARNING: ignoring environment value of R_HOME\n"
     ]
    },
    {
     "name": "stdout",
     "output_type": "stream",
     "text": [
      "WARNING: ignoring environment value of R_HOME\n"
     ]
    },
    {
     "name": "stdout",
     "output_type": "stream",
     "text": [
      "WARNING: ignoring environment value of R_HOME\n"
     ]
    },
    {
     "name": "stdout",
     "output_type": "stream",
     "text": [
      "WARNING: ignoring environment value of R_HOME\n"
     ]
    },
    {
     "name": "stdout",
     "output_type": "stream",
     "text": [
      "WARNING: ignoring environment value of R_HOME\n"
     ]
    },
    {
     "name": "stdout",
     "output_type": "stream",
     "text": [
      "WARNING: ignoring environment value of R_HOME\n"
     ]
    },
    {
     "name": "stdout",
     "output_type": "stream",
     "text": [
      "WARNING: ignoring environment value of R_HOME\n"
     ]
    },
    {
     "name": "stderr",
     "output_type": "stream",
     "text": [
      "<block>:1:39-51: info: atom does not occur in any rule head:\n",
      "  ap(0,2,#P0,s3)\n",
      "\n",
      "<block>:1:45-60: info: atom does not occur in any rule head:\n",
      "  ap(2,4,#P0,empty)\n",
      "\n"
     ]
    },
    {
     "name": "stderr",
     "output_type": "stream",
     "text": [
      "<block>:1:39-51: info: atom does not occur in any rule head:\n",
      "  ap(0,2,#P0,s3)\n",
      "\n",
      "<block>:1:45-60: info: atom does not occur in any rule head:\n",
      "  ap(2,4,#P0,empty)\n",
      "\n"
     ]
    },
    {
     "name": "stderr",
     "output_type": "stream",
     "text": [
      "<block>:1:39-51: info: atom does not occur in any rule head:\n",
      "  ap(0,1,#P0,s3)\n",
      "\n",
      "<block>:1:45-60: info: atom does not occur in any rule head:\n",
      "  ap(0,1,#P0,empty)\n",
      "\n",
      "<block>:1:39-51: info: atom does not occur in any rule head:\n",
      "  ap(0,1,#P0,s3)\n",
      "\n",
      "<block>:1:45-60: info: atom does not occur in any rule head:\n",
      "  ap(0,1,#P0,empty)\n",
      "\n",
      "<block>:1:39-51: info: atom does not occur in any rule head:\n",
      "  ap(0,1,#P0,s3)\n",
      "\n",
      "<block>:1:45-60: info: atom does not occur in any rule head:\n",
      "  ap(0,1,#P0,empty)\n",
      "\n",
      "<block>:1:39-51: info: atom does not occur in any rule head:\n",
      "  ap(0,1,#P0,s3)\n",
      "\n",
      "<block>:1:45-60: info: atom does not occur in any rule head:\n",
      "  ap(0,1,#P0,empty)\n",
      "\n"
     ]
    },
    {
     "name": "stderr",
     "output_type": "stream",
     "text": [
      "<block>:1:39-51: info: atom does not occur in any rule head:\n",
      "  ap(0,2,#P0,s3)\n",
      "\n",
      "<block>:1:45-60: info: atom does not occur in any rule head:\n",
      "  ap(0,2,#P0,empty)\n",
      "\n",
      "<block>:1:39-51: info: atom does not occur in any rule head:\n",
      "  ap(0,2,#P0,s3)\n",
      "\n",
      "<block>:1:45-60: info: atom does not occur in any rule head:\n",
      "  ap(0,2,#P0,empty)\n",
      "\n"
     ]
    },
    {
     "name": "stderr",
     "output_type": "stream",
     "text": [
      "<block>:1:39-51: info: atom does not occur in any rule head:\n",
      "  ap(0,1,#P0,s2)\n",
      "\n",
      "<block>:1:43-57: info: atom does not occur in any rule head:\n",
      "  ap(0,2,#P0,s3y4)\n",
      "\n",
      "<block>:1:45-60: info: atom does not occur in any rule head:\n",
      "  ap(0,1,#P0,empty)\n",
      "\n",
      "<block>:1:39-51: info: atom does not occur in any rule head:\n",
      "  ap(0,1,#P0,s2)\n",
      "\n",
      "<block>:1:45-60: info: atom does not occur in any rule head:\n",
      "  ap(0,1,#P0,empty)\n",
      "\n"
     ]
    },
    {
     "name": "stderr",
     "output_type": "stream",
     "text": [
      "<block>:1:39-51: info: atom does not occur in any rule head:\n",
      "  ap(0,1,#P0,s2)\n",
      "\n",
      "<block>:1:43-57: info: atom does not occur in any rule head:\n",
      "  ap(0,2,#P0,s3y4)\n",
      "\n",
      "<block>:1:45-60: info: atom does not occur in any rule head:\n",
      "  ap(0,1,#P0,empty)\n",
      "\n",
      "<block>:1:39-51: info: atom does not occur in any rule head:\n",
      "  ap(0,1,#P0,s2)\n",
      "\n",
      "<block>:1:45-60: info: atom does not occur in any rule head:\n",
      "  ap(0,1,#P0,empty)\n",
      "\n"
     ]
    },
    {
     "name": "stderr",
     "output_type": "stream",
     "text": [
      "<block>:1:39-51: info: atom does not occur in any rule head:\n",
      "  ap(0,2,#P0,s3)\n",
      "\n",
      "<block>:1:45-60: info: atom does not occur in any rule head:\n",
      "  ap(0,2,#P0,empty)\n",
      "\n",
      "<block>:1:39-51: info: atom does not occur in any rule head:\n",
      "  ap(0,2,#P0,s3)\n",
      "\n",
      "<block>:1:45-60: info: atom does not occur in any rule head:\n",
      "  ap(0,2,#P0,empty)\n",
      "\n"
     ]
    },
    {
     "name": "stderr",
     "output_type": "stream",
     "text": [
      "<block>:1:39-51: info: atom does not occur in any rule head:\n",
      "  ap(0,1,#P0,s2)\n",
      "\n",
      "<block>:1:43-57: info: atom does not occur in any rule head:\n",
      "  ap(0,1,#P0,s2y4)\n",
      "\n",
      "<block>:1:45-60: info: atom does not occur in any rule head:\n",
      "  ap(0,1,#P0,empty)\n",
      "\n"
     ]
    },
    {
     "name": "stderr",
     "output_type": "stream",
     "text": [
      "<block>:1:39-51: info: atom does not occur in any rule head:\n",
      "  ap(0,1,#P0,s2)\n",
      "\n",
      "<block>:1:43-57: info: atom does not occur in any rule head:\n",
      "  ap(0,1,#P0,s2y4)\n",
      "\n",
      "<block>:1:45-60: info: atom does not occur in any rule head:\n",
      "  ap(0,1,#P0,empty)\n",
      "\n"
     ]
    },
    {
     "name": "stderr",
     "output_type": "stream",
     "text": [
      "<block>:1:39-51: info: atom does not occur in any rule head:\n",
      "  ap(0,1,#P0,s2)\n",
      "\n",
      "<block>:1:43-57: info: atom does not occur in any rule head:\n",
      "  ap(0,1,#P0,s2y3)\n",
      "\n",
      "<block>:1:45-60: info: atom does not occur in any rule head:\n",
      "  ap(0,1,#P0,empty)\n",
      "\n"
     ]
    },
    {
     "name": "stderr",
     "output_type": "stream",
     "text": [
      "<block>:1:39-51: info: atom does not occur in any rule head:\n",
      "  ap(0,1,#P0,s2)\n",
      "\n",
      "<block>:1:43-57: info: atom does not occur in any rule head:\n",
      "  ap(0,1,#P0,s2y3)\n",
      "\n",
      "<block>:1:45-60: info: atom does not occur in any rule head:\n",
      "  ap(0,1,#P0,empty)\n",
      "\n"
     ]
    },
    {
     "name": "stderr",
     "output_type": "stream",
     "text": [
      "<block>:1:39-51: info: atom does not occur in any rule head:\n",
      "  ap(0,2,#P0,s3)\n",
      "\n",
      "<block>:1:43-57: info: atom does not occur in any rule head:\n",
      "  ap(0,2,#P0,s3y4)\n",
      "\n",
      "<block>:1:45-60: info: atom does not occur in any rule head:\n",
      "  ap(0,2,#P0,empty)\n",
      "\n"
     ]
    },
    {
     "name": "stderr",
     "output_type": "stream",
     "text": [
      "<block>:1:39-51: info: atom does not occur in any rule head:\n",
      "  ap(0,2,#P0,s3)\n",
      "\n",
      "<block>:1:43-57: info: atom does not occur in any rule head:\n",
      "  ap(0,2,#P0,s3y4)\n",
      "\n",
      "<block>:1:45-60: info: atom does not occur in any rule head:\n",
      "  ap(0,2,#P0,empty)\n",
      "\n"
     ]
    },
    {
     "name": "stderr",
     "output_type": "stream",
     "text": [
      "<block>:1:39-51: info: atom does not occur in any rule head:\n",
      "  ap(0,2,#P0,s3)\n",
      "\n",
      "<block>:1:43-57: info: atom does not occur in any rule head:\n",
      "  ap(0,2,#P0,s1y3)\n",
      "\n",
      "<block>:1:45-60: info: atom does not occur in any rule head:\n",
      "  ap(0,2,#P0,empty)\n",
      "\n"
     ]
    },
    {
     "name": "stderr",
     "output_type": "stream",
     "text": [
      "<block>:1:39-51: info: atom does not occur in any rule head:\n",
      "  ap(0,2,#P0,s3)\n",
      "\n",
      "<block>:1:43-57: info: atom does not occur in any rule head:\n",
      "  ap(0,2,#P0,s1y3)\n",
      "\n",
      "<block>:1:45-60: info: atom does not occur in any rule head:\n",
      "  ap(0,2,#P0,empty)\n",
      "\n"
     ]
    },
    {
     "name": "stderr",
     "output_type": "stream",
     "text": [
      "<block>:1:39-51: info: atom does not occur in any rule head:\n",
      "  ap(0,2,#P0,s3)\n",
      "\n",
      "<block>:1:45-60: info: atom does not occur in any rule head:\n",
      "  ap(0,2,#P0,empty)\n",
      "\n"
     ]
    },
    {
     "name": "stderr",
     "output_type": "stream",
     "text": [
      "<block>:1:39-51: info: atom does not occur in any rule head:\n",
      "  ap(0,2,#P0,s3)\n",
      "\n",
      "<block>:1:45-60: info: atom does not occur in any rule head:\n",
      "  ap(0,2,#P0,empty)\n",
      "\n"
     ]
    },
    {
     "name": "stderr",
     "output_type": "stream",
     "text": [
      "<block>:1:39-51: info: atom does not occur in any rule head:\n",
      "  ap(0,2,#P0,s3)\n",
      "\n",
      "<block>:1:43-57: info: atom does not occur in any rule head:\n",
      "  ap(0,2,#P0,s3y4)\n",
      "\n",
      "<block>:1:45-60: info: atom does not occur in any rule head:\n",
      "  ap(0,2,#P0,empty)\n",
      "\n"
     ]
    },
    {
     "name": "stderr",
     "output_type": "stream",
     "text": [
      "<block>:1:39-51: info: atom does not occur in any rule head:\n",
      "  ap(0,2,#P0,s3)\n",
      "\n",
      "<block>:1:43-57: info: atom does not occur in any rule head:\n",
      "  ap(0,2,#P0,s3y4)\n",
      "\n",
      "<block>:1:45-60: info: atom does not occur in any rule head:\n",
      "  ap(0,2,#P0,empty)\n",
      "\n"
     ]
    },
    {
     "name": "stderr",
     "output_type": "stream",
     "text": [
      "<block>:1:39-51: info: atom does not occur in any rule head:\n",
      "  ap(0,2,#P0,s3)\n",
      "\n",
      "<block>:1:45-60: info: atom does not occur in any rule head:\n",
      "  ap(0,2,#P0,empty)\n",
      "\n"
     ]
    },
    {
     "name": "stderr",
     "output_type": "stream",
     "text": [
      "<block>:1:39-51: info: atom does not occur in any rule head:\n",
      "  ap(0,2,#P0,s3)\n",
      "\n",
      "<block>:1:45-60: info: atom does not occur in any rule head:\n",
      "  ap(0,2,#P0,empty)\n",
      "\n"
     ]
    },
    {
     "name": "stderr",
     "output_type": "stream",
     "text": [
      "<block>:1:39-51: info: atom does not occur in any rule head:\n",
      "  ap(0,1,#P0,s2)\n",
      "\n",
      "<block>:1:43-57: info: atom does not occur in any rule head:\n",
      "  ap(0,1,#P0,s3y4)\n",
      "\n",
      "<block>:1:45-60: info: atom does not occur in any rule head:\n",
      "  ap(0,1,#P0,empty)\n",
      "\n",
      "<block>:1:39-51: info: atom does not occur in any rule head:\n",
      "  ap(0,2,#P0,s3)\n",
      "\n",
      "<block>:1:43-57: info: atom does not occur in any rule head:\n",
      "  ap(0,2,#P0,s3y4)\n",
      "\n",
      "<block>:1:45-60: info: atom does not occur in any rule head:\n",
      "  ap(0,2,#P0,empty)\n",
      "\n"
     ]
    },
    {
     "name": "stderr",
     "output_type": "stream",
     "text": [
      "<block>:1:39-51: info: atom does not occur in any rule head:\n",
      "  ap(0,1,#P0,s2)\n",
      "\n",
      "<block>:1:43-57: info: atom does not occur in any rule head:\n",
      "  ap(0,1,#P0,s3y4)\n",
      "\n",
      "<block>:1:45-60: info: atom does not occur in any rule head:\n",
      "  ap(0,1,#P0,empty)\n",
      "\n",
      "<block>:1:39-51: info: atom does not occur in any rule head:\n",
      "  ap(0,2,#P0,s3)\n",
      "\n",
      "<block>:1:43-57: info: atom does not occur in any rule head:\n",
      "  ap(0,2,#P0,s3y4)\n",
      "\n",
      "<block>:1:45-60: info: atom does not occur in any rule head:\n",
      "  ap(0,2,#P0,empty)\n",
      "\n"
     ]
    },
    {
     "name": "stderr",
     "output_type": "stream",
     "text": [
      "<block>:1:39-51: info: atom does not occur in any rule head:\n",
      "  ap(0,2,#P0,s3)\n",
      "\n",
      "<block>:1:45-60: info: atom does not occur in any rule head:\n",
      "  ap(0,2,#P0,empty)\n",
      "\n"
     ]
    },
    {
     "name": "stderr",
     "output_type": "stream",
     "text": [
      "<block>:1:39-51: info: atom does not occur in any rule head:\n",
      "  ap(0,2,#P0,s3)\n",
      "\n",
      "<block>:1:45-60: info: atom does not occur in any rule head:\n",
      "  ap(0,2,#P0,empty)\n",
      "\n"
     ]
    },
    {
     "name": "stderr",
     "output_type": "stream",
     "text": [
      "<block>:1:39-51: info: atom does not occur in any rule head:\n",
      "  ap(0,2,#P0,s3)\n",
      "\n",
      "<block>:1:43-57: info: atom does not occur in any rule head:\n",
      "  ap(0,2,#P0,s3y4)\n",
      "\n",
      "<block>:1:45-60: info: atom does not occur in any rule head:\n",
      "  ap(0,2,#P0,empty)\n",
      "\n"
     ]
    },
    {
     "name": "stderr",
     "output_type": "stream",
     "text": [
      "<block>:1:39-51: info: atom does not occur in any rule head:\n",
      "  ap(0,2,#P0,s3)\n",
      "\n",
      "<block>:1:43-57: info: atom does not occur in any rule head:\n",
      "  ap(0,2,#P0,s3y4)\n",
      "\n",
      "<block>:1:45-60: info: atom does not occur in any rule head:\n",
      "  ap(0,2,#P0,empty)\n",
      "\n"
     ]
    },
    {
     "name": "stderr",
     "output_type": "stream",
     "text": [
      "<block>:1:39-51: info: atom does not occur in any rule head:\n",
      "  ap(0,2,#P0,s3)\n",
      "\n",
      "<block>:1:45-60: info: atom does not occur in any rule head:\n",
      "  ap(0,2,#P0,empty)\n",
      "\n"
     ]
    },
    {
     "name": "stderr",
     "output_type": "stream",
     "text": [
      "<block>:1:39-51: info: atom does not occur in any rule head:\n",
      "  ap(0,2,#P0,s3)\n",
      "\n",
      "<block>:1:45-60: info: atom does not occur in any rule head:\n",
      "  ap(0,2,#P0,empty)\n",
      "\n"
     ]
    },
    {
     "name": "stdout",
     "output_type": "stream",
     "text": [
      "WARNING: ignoring environment value of R_HOME\n"
     ]
    },
    {
     "name": "stdout",
     "output_type": "stream",
     "text": [
      "WARNING: ignoring environment value of R_HOME\n"
     ]
    },
    {
     "name": "stdout",
     "output_type": "stream",
     "text": [
      "WARNING: ignoring environment value of R_HOME\n"
     ]
    },
    {
     "name": "stdout",
     "output_type": "stream",
     "text": [
      "WARNING: ignoring environment value of R_HOME\n"
     ]
    },
    {
     "name": "stdout",
     "output_type": "stream",
     "text": [
      "WARNING: ignoring environment value of R_HOME\n"
     ]
    },
    {
     "name": "stdout",
     "output_type": "stream",
     "text": [
      "WARNING: ignoring environment value of R_HOME\n"
     ]
    },
    {
     "name": "stdout",
     "output_type": "stream",
     "text": [
      "WARNING: ignoring environment value of R_HOME\n"
     ]
    },
    {
     "name": "stdout",
     "output_type": "stream",
     "text": [
      "WARNING: ignoring environment value of R_HOME\n"
     ]
    },
    {
     "name": "stdout",
     "output_type": "stream",
     "text": [
      "WARNING: ignoring environment value of R_HOME\n"
     ]
    },
    {
     "name": "stdout",
     "output_type": "stream",
     "text": [
      "WARNING: ignoring environment value of R_HOME\n"
     ]
    },
    {
     "name": "stdout",
     "output_type": "stream",
     "text": [
      "WARNING: ignoring environment value of R_HOME\n"
     ]
    },
    {
     "name": "stdout",
     "output_type": "stream",
     "text": [
      "WARNING: ignoring environment value of R_HOME\n"
     ]
    },
    {
     "name": "stdout",
     "output_type": "stream",
     "text": [
      "WARNING: ignoring environment value of R_HOME\n"
     ]
    },
    {
     "name": "stdout",
     "output_type": "stream",
     "text": [
      "WARNING: ignoring environment value of R_HOME\n"
     ]
    },
    {
     "name": "stdout",
     "output_type": "stream",
     "text": [
      "WARNING: ignoring environment value of R_HOME\n"
     ]
    },
    {
     "name": "stdout",
     "output_type": "stream",
     "text": [
      "WARNING: ignoring environment value of R_HOME\n"
     ]
    },
    {
     "name": "stdout",
     "output_type": "stream",
     "text": [
      "WARNING: ignoring environment value of R_HOME\n"
     ]
    },
    {
     "name": "stdout",
     "output_type": "stream",
     "text": [
      "WARNING: ignoring environment value of R_HOME\n"
     ]
    },
    {
     "name": "stdout",
     "output_type": "stream",
     "text": [
      "WARNING: ignoring environment value of R_HOME\n"
     ]
    },
    {
     "name": "stdout",
     "output_type": "stream",
     "text": [
      "WARNING: ignoring environment value of R_HOME\n"
     ]
    },
    {
     "name": "stdout",
     "output_type": "stream",
     "text": [
      "WARNING: ignoring environment value of R_HOME\n"
     ]
    },
    {
     "name": "stdout",
     "output_type": "stream",
     "text": [
      "WARNING: ignoring environment value of R_HOME\n"
     ]
    },
    {
     "name": "stdout",
     "output_type": "stream",
     "text": [
      "WARNING: ignoring environment value of R_HOME\n"
     ]
    },
    {
     "name": "stdout",
     "output_type": "stream",
     "text": [
      "WARNING: ignoring environment value of R_HOME\n"
     ]
    },
    {
     "name": "stdout",
     "output_type": "stream",
     "text": [
      "WARNING: ignoring environment value of R_HOME\n"
     ]
    },
    {
     "name": "stdout",
     "output_type": "stream",
     "text": [
      "WARNING: ignoring environment value of R_HOME\n"
     ]
    },
    {
     "name": "stdout",
     "output_type": "stream",
     "text": [
      "WARNING: ignoring environment value of R_HOME\n"
     ]
    },
    {
     "name": "stdout",
     "output_type": "stream",
     "text": [
      "WARNING: ignoring environment value of R_HOME\n"
     ]
    },
    {
     "name": "stdout",
     "output_type": "stream",
     "text": [
      "WARNING: ignoring environment value of R_HOME\n"
     ]
    },
    {
     "name": "stdout",
     "output_type": "stream",
     "text": [
      "WARNING: ignoring environment value of R_HOME\n"
     ]
    },
    {
     "name": "stdout",
     "output_type": "stream",
     "text": [
      "WARNING: ignoring environment value of R_HOME\n"
     ]
    },
    {
     "name": "stdout",
     "output_type": "stream",
     "text": [
      "WARNING: ignoring environment value of R_HOME\n"
     ]
    },
    {
     "name": "stdout",
     "output_type": "stream",
     "text": [
      "WARNING: ignoring environment value of R_HOME\n"
     ]
    },
    {
     "name": "stdout",
     "output_type": "stream",
     "text": [
      "WARNING: ignoring environment value of R_HOME\n"
     ]
    },
    {
     "name": "stdout",
     "output_type": "stream",
     "text": [
      "WARNING: ignoring environment value of R_HOME\n"
     ]
    },
    {
     "name": "stdout",
     "output_type": "stream",
     "text": [
      "WARNING: ignoring environment value of R_HOME\n"
     ]
    },
    {
     "name": "stdout",
     "output_type": "stream",
     "text": [
      "WARNING: ignoring environment value of R_HOME\n"
     ]
    },
    {
     "name": "stdout",
     "output_type": "stream",
     "text": [
      "WARNING: ignoring environment value of R_HOME\n"
     ]
    },
    {
     "name": "stdout",
     "output_type": "stream",
     "text": [
      "WARNING: ignoring environment value of R_HOME\n"
     ]
    },
    {
     "name": "stdout",
     "output_type": "stream",
     "text": [
      "WARNING: ignoring environment value of R_HOME\n"
     ]
    },
    {
     "name": "stdout",
     "output_type": "stream",
     "text": [
      "WARNING: ignoring environment value of R_HOME\n"
     ]
    },
    {
     "name": "stdout",
     "output_type": "stream",
     "text": [
      "WARNING: ignoring environment value of R_HOME\n"
     ]
    },
    {
     "name": "stdout",
     "output_type": "stream",
     "text": [
      "WARNING: ignoring environment value of R_HOME\n"
     ]
    },
    {
     "name": "stdout",
     "output_type": "stream",
     "text": [
      "WARNING: ignoring environment value of R_HOME\n"
     ]
    },
    {
     "name": "stdout",
     "output_type": "stream",
     "text": [
      "WARNING: ignoring environment value of R_HOME\n"
     ]
    },
    {
     "name": "stdout",
     "output_type": "stream",
     "text": [
      "WARNING: ignoring environment value of R_HOME\n"
     ]
    },
    {
     "name": "stdout",
     "output_type": "stream",
     "text": [
      "WARNING: ignoring environment value of R_HOME\n"
     ]
    },
    {
     "name": "stdout",
     "output_type": "stream",
     "text": [
      "WARNING: ignoring environment value of R_HOME\n"
     ]
    },
    {
     "name": "stdout",
     "output_type": "stream",
     "text": [
      "WARNING: ignoring environment value of R_HOME\n"
     ]
    },
    {
     "name": "stdout",
     "output_type": "stream",
     "text": [
      "WARNING: ignoring environment value of R_HOME\n"
     ]
    },
    {
     "name": "stdout",
     "output_type": "stream",
     "text": [
      "WARNING: ignoring environment value of R_HOME\n"
     ]
    },
    {
     "name": "stdout",
     "output_type": "stream",
     "text": [
      "WARNING: ignoring environment value of R_HOME\n"
     ]
    },
    {
     "name": "stdout",
     "output_type": "stream",
     "text": [
      "WARNING: ignoring environment value of R_HOME\n"
     ]
    },
    {
     "name": "stdout",
     "output_type": "stream",
     "text": [
      "WARNING: ignoring environment value of R_HOME\n"
     ]
    },
    {
     "name": "stdout",
     "output_type": "stream",
     "text": [
      "WARNING: ignoring environment value of R_HOME\n"
     ]
    },
    {
     "name": "stdout",
     "output_type": "stream",
     "text": [
      "WARNING: ignoring environment value of R_HOME\n"
     ]
    },
    {
     "name": "stdout",
     "output_type": "stream",
     "text": [
      "WARNING: ignoring environment value of R_HOME\n"
     ]
    },
    {
     "name": "stdout",
     "output_type": "stream",
     "text": [
      "WARNING: ignoring environment value of R_HOME\n"
     ]
    },
    {
     "name": "stdout",
     "output_type": "stream",
     "text": [
      "WARNING: ignoring environment value of R_HOME\n"
     ]
    },
    {
     "name": "stdout",
     "output_type": "stream",
     "text": [
      "WARNING: ignoring environment value of R_HOME\n"
     ]
    },
    {
     "name": "stdout",
     "output_type": "stream",
     "text": [
      "WARNING: ignoring environment value of R_HOME\n"
     ]
    },
    {
     "name": "stdout",
     "output_type": "stream",
     "text": [
      "WARNING: ignoring environment value of R_HOME\n"
     ]
    },
    {
     "name": "stdout",
     "output_type": "stream",
     "text": [
      "WARNING: ignoring environment value of R_HOME\n"
     ]
    },
    {
     "name": "stdout",
     "output_type": "stream",
     "text": [
      "WARNING: ignoring environment value of R_HOME\n"
     ]
    },
    {
     "name": "stdout",
     "output_type": "stream",
     "text": [
      "WARNING: ignoring environment value of R_HOME\n"
     ]
    },
    {
     "name": "stdout",
     "output_type": "stream",
     "text": [
      "WARNING: ignoring environment value of R_HOME\n"
     ]
    },
    {
     "name": "stdout",
     "output_type": "stream",
     "text": [
      "WARNING: ignoring environment value of R_HOME\n"
     ]
    },
    {
     "name": "stdout",
     "output_type": "stream",
     "text": [
      "WARNING: ignoring environment value of R_HOME\n"
     ]
    },
    {
     "name": "stdout",
     "output_type": "stream",
     "text": [
      "WARNING: ignoring environment value of R_HOME\n"
     ]
    },
    {
     "name": "stdout",
     "output_type": "stream",
     "text": [
      "WARNING: ignoring environment value of R_HOME\n"
     ]
    },
    {
     "name": "stdout",
     "output_type": "stream",
     "text": [
      "WARNING: ignoring environment value of R_HOME\n"
     ]
    },
    {
     "name": "stdout",
     "output_type": "stream",
     "text": [
      "WARNING: ignoring environment value of R_HOME\n"
     ]
    },
    {
     "name": "stdout",
     "output_type": "stream",
     "text": [
      "WARNING: ignoring environment value of R_HOME\n"
     ]
    },
    {
     "name": "stdout",
     "output_type": "stream",
     "text": [
      "WARNING: ignoring environment value of R_HOME\n"
     ]
    },
    {
     "name": "stdout",
     "output_type": "stream",
     "text": [
      "WARNING: ignoring environment value of R_HOME\n"
     ]
    },
    {
     "name": "stdout",
     "output_type": "stream",
     "text": [
      "WARNING: ignoring environment value of R_HOME\n"
     ]
    },
    {
     "name": "stdout",
     "output_type": "stream",
     "text": [
      "WARNING: ignoring environment value of R_HOME\n"
     ]
    },
    {
     "name": "stdout",
     "output_type": "stream",
     "text": [
      "WARNING: ignoring environment value of R_HOME\n"
     ]
    },
    {
     "name": "stdout",
     "output_type": "stream",
     "text": [
      "WARNING: ignoring environment value of R_HOME\n"
     ]
    },
    {
     "name": "stdout",
     "output_type": "stream",
     "text": [
      "WARNING: ignoring environment value of R_HOME\n"
     ]
    },
    {
     "name": "stdout",
     "output_type": "stream",
     "text": [
      "WARNING: ignoring environment value of R_HOME\n"
     ]
    },
    {
     "name": "stdout",
     "output_type": "stream",
     "text": [
      "WARNING: ignoring environment value of R_HOME\n"
     ]
    },
    {
     "name": "stdout",
     "output_type": "stream",
     "text": [
      "WARNING: ignoring environment value of R_HOME\n"
     ]
    },
    {
     "name": "stdout",
     "output_type": "stream",
     "text": [
      "WARNING: ignoring environment value of R_HOME\n"
     ]
    },
    {
     "name": "stdout",
     "output_type": "stream",
     "text": [
      "WARNING: ignoring environment value of R_HOME\n"
     ]
    },
    {
     "name": "stdout",
     "output_type": "stream",
     "text": [
      "WARNING: ignoring environment value of R_HOME\n"
     ]
    },
    {
     "name": "stdout",
     "output_type": "stream",
     "text": [
      "WARNING: ignoring environment value of R_HOME\n"
     ]
    },
    {
     "name": "stdout",
     "output_type": "stream",
     "text": [
      "WARNING: ignoring environment value of R_HOME\n"
     ]
    },
    {
     "name": "stdout",
     "output_type": "stream",
     "text": [
      "WARNING: ignoring environment value of R_HOME\n"
     ]
    },
    {
     "name": "stdout",
     "output_type": "stream",
     "text": [
      "WARNING: ignoring environment value of R_HOME\n"
     ]
    },
    {
     "name": "stdout",
     "output_type": "stream",
     "text": [
      "WARNING: ignoring environment value of R_HOME\n"
     ]
    },
    {
     "name": "stdout",
     "output_type": "stream",
     "text": [
      "WARNING: ignoring environment value of R_HOME\n"
     ]
    },
    {
     "name": "stdout",
     "output_type": "stream",
     "text": [
      "WARNING: ignoring environment value of R_HOME\n"
     ]
    },
    {
     "name": "stdout",
     "output_type": "stream",
     "text": [
      "WARNING: ignoring environment value of R_HOME\n"
     ]
    },
    {
     "name": "stdout",
     "output_type": "stream",
     "text": [
      "WARNING: ignoring environment value of R_HOME\n"
     ]
    },
    {
     "name": "stdout",
     "output_type": "stream",
     "text": [
      "WARNING: ignoring environment value of R_HOME\n"
     ]
    },
    {
     "name": "stdout",
     "output_type": "stream",
     "text": [
      "WARNING: ignoring environment value of R_HOME\n"
     ]
    },
    {
     "name": "stdout",
     "output_type": "stream",
     "text": [
      "WARNING: ignoring environment value of R_HOME\n"
     ]
    },
    {
     "name": "stdout",
     "output_type": "stream",
     "text": [
      "WARNING: ignoring environment value of R_HOME\n"
     ]
    },
    {
     "name": "stdout",
     "output_type": "stream",
     "text": [
      "WARNING: ignoring environment value of R_HOME\n"
     ]
    },
    {
     "name": "stdout",
     "output_type": "stream",
     "text": [
      "WARNING: ignoring environment value of R_HOME\n"
     ]
    },
    {
     "name": "stdout",
     "output_type": "stream",
     "text": [
      "WARNING: ignoring environment value of R_HOME\n"
     ]
    },
    {
     "name": "stdout",
     "output_type": "stream",
     "text": [
      "WARNING: ignoring environment value of R_HOME\n"
     ]
    },
    {
     "name": "stdout",
     "output_type": "stream",
     "text": [
      "WARNING: ignoring environment value of R_HOME\n"
     ]
    },
    {
     "name": "stdout",
     "output_type": "stream",
     "text": [
      "WARNING: ignoring environment value of R_HOME\n"
     ]
    },
    {
     "name": "stdout",
     "output_type": "stream",
     "text": [
      "WARNING: ignoring environment value of R_HOME\n"
     ]
    },
    {
     "name": "stdout",
     "output_type": "stream",
     "text": [
      "WARNING: ignoring environment value of R_HOME\n"
     ]
    },
    {
     "name": "stdout",
     "output_type": "stream",
     "text": [
      "WARNING: ignoring environment value of R_HOME\n"
     ]
    },
    {
     "name": "stdout",
     "output_type": "stream",
     "text": [
      "WARNING: ignoring environment value of R_HOME\n"
     ]
    },
    {
     "name": "stdout",
     "output_type": "stream",
     "text": [
      "WARNING: ignoring environment value of R_HOME\n"
     ]
    },
    {
     "name": "stdout",
     "output_type": "stream",
     "text": [
      "WARNING: ignoring environment value of R_HOME\n"
     ]
    },
    {
     "name": "stdout",
     "output_type": "stream",
     "text": [
      "WARNING: ignoring environment value of R_HOME\n"
     ]
    },
    {
     "name": "stdout",
     "output_type": "stream",
     "text": [
      "WARNING: ignoring environment value of R_HOME\n"
     ]
    },
    {
     "name": "stdout",
     "output_type": "stream",
     "text": [
      "WARNING: ignoring environment value of R_HOME\n"
     ]
    },
    {
     "name": "stdout",
     "output_type": "stream",
     "text": [
      "WARNING: ignoring environment value of R_HOME\n"
     ]
    },
    {
     "name": "stdout",
     "output_type": "stream",
     "text": [
      "WARNING: ignoring environment value of R_HOME\n"
     ]
    },
    {
     "name": "stdout",
     "output_type": "stream",
     "text": [
      "WARNING: ignoring environment value of R_HOME\n"
     ]
    },
    {
     "name": "stdout",
     "output_type": "stream",
     "text": [
      "WARNING: ignoring environment value of R_HOME\n"
     ]
    },
    {
     "name": "stdout",
     "output_type": "stream",
     "text": [
      "WARNING: ignoring environment value of R_HOME\n"
     ]
    },
    {
     "name": "stdout",
     "output_type": "stream",
     "text": [
      "WARNING: ignoring environment value of R_HOME\n"
     ]
    },
    {
     "name": "stdout",
     "output_type": "stream",
     "text": [
      "WARNING: ignoring environment value of R_HOME\n"
     ]
    },
    {
     "name": "stdout",
     "output_type": "stream",
     "text": [
      "WARNING: ignoring environment value of R_HOME\n"
     ]
    },
    {
     "name": "stdout",
     "output_type": "stream",
     "text": [
      "WARNING: ignoring environment value of R_HOME\n"
     ]
    },
    {
     "name": "stdout",
     "output_type": "stream",
     "text": [
      "WARNING: ignoring environment value of R_HOME\n"
     ]
    },
    {
     "name": "stdout",
     "output_type": "stream",
     "text": [
      "WARNING: ignoring environment value of R_HOME\n"
     ]
    },
    {
     "name": "stdout",
     "output_type": "stream",
     "text": [
      "WARNING: ignoring environment value of R_HOME\n"
     ]
    },
    {
     "name": "stdout",
     "output_type": "stream",
     "text": [
      "WARNING: ignoring environment value of R_HOME\n"
     ]
    },
    {
     "name": "stdout",
     "output_type": "stream",
     "text": [
      "WARNING: ignoring environment value of R_HOME\n"
     ]
    },
    {
     "name": "stdout",
     "output_type": "stream",
     "text": [
      "WARNING: ignoring environment value of R_HOME\n"
     ]
    },
    {
     "name": "stdout",
     "output_type": "stream",
     "text": [
      "WARNING: ignoring environment value of R_HOME\n"
     ]
    },
    {
     "name": "stdout",
     "output_type": "stream",
     "text": [
      "WARNING: ignoring environment value of R_HOME\n"
     ]
    },
    {
     "name": "stdout",
     "output_type": "stream",
     "text": [
      "WARNING: ignoring environment value of R_HOME\n"
     ]
    },
    {
     "name": "stdout",
     "output_type": "stream",
     "text": [
      "WARNING: ignoring environment value of R_HOME\n"
     ]
    },
    {
     "name": "stdout",
     "output_type": "stream",
     "text": [
      "WARNING: ignoring environment value of R_HOME\n"
     ]
    },
    {
     "name": "stdout",
     "output_type": "stream",
     "text": [
      "WARNING: ignoring environment value of R_HOME\n"
     ]
    },
    {
     "name": "stdout",
     "output_type": "stream",
     "text": [
      "WARNING: ignoring environment value of R_HOME\n"
     ]
    },
    {
     "name": "stdout",
     "output_type": "stream",
     "text": [
      "WARNING: ignoring environment value of R_HOME\n"
     ]
    },
    {
     "name": "stdout",
     "output_type": "stream",
     "text": [
      "WARNING: ignoring environment value of R_HOME\n"
     ]
    },
    {
     "name": "stdout",
     "output_type": "stream",
     "text": [
      "WARNING: ignoring environment value of R_HOME\n"
     ]
    },
    {
     "name": "stdout",
     "output_type": "stream",
     "text": [
      "WARNING: ignoring environment value of R_HOME\n"
     ]
    },
    {
     "name": "stdout",
     "output_type": "stream",
     "text": [
      "WARNING: ignoring environment value of R_HOME\n"
     ]
    },
    {
     "name": "stdout",
     "output_type": "stream",
     "text": [
      "WARNING: ignoring environment value of R_HOME\n"
     ]
    },
    {
     "name": "stdout",
     "output_type": "stream",
     "text": [
      "WARNING: ignoring environment value of R_HOME\n"
     ]
    },
    {
     "name": "stdout",
     "output_type": "stream",
     "text": [
      "WARNING: ignoring environment value of R_HOME\n"
     ]
    },
    {
     "name": "stdout",
     "output_type": "stream",
     "text": [
      "WARNING: ignoring environment value of R_HOME\n"
     ]
    },
    {
     "name": "stdout",
     "output_type": "stream",
     "text": [
      "WARNING: ignoring environment value of R_HOME\n"
     ]
    },
    {
     "name": "stdout",
     "output_type": "stream",
     "text": [
      "WARNING: ignoring environment value of R_HOME\n"
     ]
    },
    {
     "name": "stdout",
     "output_type": "stream",
     "text": [
      "WARNING: ignoring environment value of R_HOME\n"
     ]
    },
    {
     "name": "stdout",
     "output_type": "stream",
     "text": [
      "WARNING: ignoring environment value of R_HOME\n"
     ]
    },
    {
     "name": "stdout",
     "output_type": "stream",
     "text": [
      "WARNING: ignoring environment value of R_HOME\n"
     ]
    },
    {
     "name": "stdout",
     "output_type": "stream",
     "text": [
      "WARNING: ignoring environment value of R_HOME\n"
     ]
    },
    {
     "name": "stdout",
     "output_type": "stream",
     "text": [
      "WARNING: ignoring environment value of R_HOME\n"
     ]
    },
    {
     "name": "stdout",
     "output_type": "stream",
     "text": [
      "WARNING: ignoring environment value of R_HOME\n"
     ]
    },
    {
     "name": "stdout",
     "output_type": "stream",
     "text": [
      "WARNING: ignoring environment value of R_HOME\n"
     ]
    },
    {
     "name": "stdout",
     "output_type": "stream",
     "text": [
      "WARNING: ignoring environment value of R_HOME\n"
     ]
    },
    {
     "name": "stdout",
     "output_type": "stream",
     "text": [
      "WARNING: ignoring environment value of R_HOME\n"
     ]
    },
    {
     "name": "stdout",
     "output_type": "stream",
     "text": [
      "WARNING: ignoring environment value of R_HOME\n"
     ]
    },
    {
     "name": "stdout",
     "output_type": "stream",
     "text": [
      "WARNING: ignoring environment value of R_HOME\n"
     ]
    },
    {
     "name": "stdout",
     "output_type": "stream",
     "text": [
      "WARNING: ignoring environment value of R_HOME\n"
     ]
    },
    {
     "name": "stdout",
     "output_type": "stream",
     "text": [
      "WARNING: ignoring environment value of R_HOME\n"
     ]
    },
    {
     "name": "stdout",
     "output_type": "stream",
     "text": [
      "WARNING: ignoring environment value of R_HOME\n"
     ]
    },
    {
     "name": "stdout",
     "output_type": "stream",
     "text": [
      "WARNING: ignoring environment value of R_HOME\n"
     ]
    },
    {
     "name": "stdout",
     "output_type": "stream",
     "text": [
      "WARNING: ignoring environment value of R_HOME\n"
     ]
    },
    {
     "name": "stdout",
     "output_type": "stream",
     "text": [
      "WARNING: ignoring environment value of R_HOME\n"
     ]
    },
    {
     "name": "stdout",
     "output_type": "stream",
     "text": [
      "WARNING: ignoring environment value of R_HOME\n"
     ]
    },
    {
     "name": "stdout",
     "output_type": "stream",
     "text": [
      "WARNING: ignoring environment value of R_HOME\n"
     ]
    },
    {
     "name": "stdout",
     "output_type": "stream",
     "text": [
      "WARNING: ignoring environment value of R_HOME\n"
     ]
    },
    {
     "name": "stdout",
     "output_type": "stream",
     "text": [
      "WARNING: ignoring environment value of R_HOME\n"
     ]
    },
    {
     "name": "stdout",
     "output_type": "stream",
     "text": [
      "WARNING: ignoring environment value of R_HOME\n"
     ]
    },
    {
     "name": "stdout",
     "output_type": "stream",
     "text": [
      "WARNING: ignoring environment value of R_HOME\n"
     ]
    },
    {
     "name": "stdout",
     "output_type": "stream",
     "text": [
      "WARNING: ignoring environment value of R_HOME\n"
     ]
    },
    {
     "name": "stdout",
     "output_type": "stream",
     "text": [
      "WARNING: ignoring environment value of R_HOME\n"
     ]
    },
    {
     "name": "stdout",
     "output_type": "stream",
     "text": [
      "WARNING: ignoring environment value of R_HOME\n"
     ]
    },
    {
     "name": "stdout",
     "output_type": "stream",
     "text": [
      "WARNING: ignoring environment value of R_HOME\n"
     ]
    },
    {
     "name": "stdout",
     "output_type": "stream",
     "text": [
      "WARNING: ignoring environment value of R_HOME\n"
     ]
    },
    {
     "name": "stdout",
     "output_type": "stream",
     "text": [
      "WARNING: ignoring environment value of R_HOME\n"
     ]
    },
    {
     "name": "stdout",
     "output_type": "stream",
     "text": [
      "WARNING: ignoring environment value of R_HOME\n"
     ]
    },
    {
     "name": "stdout",
     "output_type": "stream",
     "text": [
      "WARNING: ignoring environment value of R_HOME\n"
     ]
    },
    {
     "name": "stdout",
     "output_type": "stream",
     "text": [
      "WARNING: ignoring environment value of R_HOME\n"
     ]
    },
    {
     "name": "stdout",
     "output_type": "stream",
     "text": [
      "WARNING: ignoring environment value of R_HOME\n"
     ]
    },
    {
     "name": "stdout",
     "output_type": "stream",
     "text": [
      "WARNING: ignoring environment value of R_HOME\n"
     ]
    },
    {
     "name": "stdout",
     "output_type": "stream",
     "text": [
      "WARNING: ignoring environment value of R_HOME\n"
     ]
    },
    {
     "name": "stdout",
     "output_type": "stream",
     "text": [
      "WARNING: ignoring environment value of R_HOME\n"
     ]
    },
    {
     "name": "stdout",
     "output_type": "stream",
     "text": [
      "WARNING: ignoring environment value of R_HOME\n"
     ]
    },
    {
     "name": "stdout",
     "output_type": "stream",
     "text": [
      "WARNING: ignoring environment value of R_HOME\n"
     ]
    },
    {
     "name": "stdout",
     "output_type": "stream",
     "text": [
      "WARNING: ignoring environment value of R_HOME\n"
     ]
    },
    {
     "name": "stdout",
     "output_type": "stream",
     "text": [
      "WARNING: ignoring environment value of R_HOME\n"
     ]
    },
    {
     "name": "stdout",
     "output_type": "stream",
     "text": [
      "WARNING: ignoring environment value of R_HOME\n"
     ]
    },
    {
     "name": "stdout",
     "output_type": "stream",
     "text": [
      "WARNING: ignoring environment value of R_HOME\n"
     ]
    },
    {
     "name": "stdout",
     "output_type": "stream",
     "text": [
      "WARNING: ignoring environment value of R_HOME\n"
     ]
    },
    {
     "name": "stdout",
     "output_type": "stream",
     "text": [
      "WARNING: ignoring environment value of R_HOME\n"
     ]
    },
    {
     "name": "stdout",
     "output_type": "stream",
     "text": [
      "WARNING: ignoring environment value of R_HOME\n"
     ]
    },
    {
     "name": "stdout",
     "output_type": "stream",
     "text": [
      "WARNING: ignoring environment value of R_HOME\n"
     ]
    },
    {
     "name": "stdout",
     "output_type": "stream",
     "text": [
      "WARNING: ignoring environment value of R_HOME\n"
     ]
    },
    {
     "name": "stdout",
     "output_type": "stream",
     "text": [
      "WARNING: ignoring environment value of R_HOME\n"
     ]
    },
    {
     "name": "stdout",
     "output_type": "stream",
     "text": [
      "WARNING: ignoring environment value of R_HOME\n"
     ]
    },
    {
     "name": "stdout",
     "output_type": "stream",
     "text": [
      "WARNING: ignoring environment value of R_HOME\n"
     ]
    },
    {
     "name": "stdout",
     "output_type": "stream",
     "text": [
      "WARNING: ignoring environment value of R_HOME\n"
     ]
    },
    {
     "name": "stdout",
     "output_type": "stream",
     "text": [
      "WARNING: ignoring environment value of R_HOME\n"
     ]
    },
    {
     "name": "stdout",
     "output_type": "stream",
     "text": [
      "WARNING: ignoring environment value of R_HOME\n"
     ]
    },
    {
     "name": "stderr",
     "output_type": "stream",
     "text": [
      "<block>:1:39-51: info: atom does not occur in any rule head:\n",
      "  ap(1,7,#P0,s2)\n",
      "\n",
      "<block>:1:43-57: info: atom does not occur in any rule head:\n",
      "  ap(3,7,#P0,s2y6)\n",
      "\n",
      "<block>:1:45-60: info: atom does not occur in any rule head:\n",
      "  ap(5,7,#P0,empty)\n",
      "\n",
      "<block>:1:39-51: info: atom does not occur in any rule head:\n",
      "  ap(1,7,#P0,s2)\n",
      "\n",
      "<block>:1:43-57: info: atom does not occur in any rule head:\n",
      "  ap(3,7,#P0,s2y6)\n",
      "\n",
      "<block>:1:45-60: info: atom does not occur in any rule head:\n",
      "  ap(4,7,#P0,empty)\n",
      "\n"
     ]
    },
    {
     "name": "stderr",
     "output_type": "stream",
     "text": [
      "<block>:1:39-51: info: atom does not occur in any rule head:\n",
      "  ap(1,7,#P0,s2)\n",
      "\n",
      "<block>:1:43-57: info: atom does not occur in any rule head:\n",
      "  ap(3,7,#P0,s2y6)\n",
      "\n",
      "<block>:1:45-60: info: atom does not occur in any rule head:\n",
      "  ap(5,7,#P0,empty)\n",
      "\n"
     ]
    },
    {
     "name": "stderr",
     "output_type": "stream",
     "text": [
      "<block>:1:39-51: info: atom does not occur in any rule head:\n",
      "  ap(1,7,#P0,s2)\n",
      "\n",
      "<block>:1:43-57: info: atom does not occur in any rule head:\n",
      "  ap(3,7,#P0,s2y6)\n",
      "\n",
      "<block>:1:45-60: info: atom does not occur in any rule head:\n",
      "  ap(1,7,#P0,empty)\n",
      "\n",
      "<block>:1:39-51: info: atom does not occur in any rule head:\n",
      "  ap(1,7,#P0,s2)\n",
      "\n",
      "<block>:1:43-57: info: atom does not occur in any rule head:\n",
      "  ap(3,7,#P0,s2y6)\n",
      "\n",
      "<block>:1:45-60: info: atom does not occur in any rule head:\n",
      "  ap(1,7,#P0,empty)\n",
      "\n"
     ]
    },
    {
     "name": "stderr",
     "output_type": "stream",
     "text": [
      "<block>:1:39-51: info: atom does not occur in any rule head:\n",
      "  ap(1,7,#P0,s2)\n",
      "\n",
      "<block>:1:43-57: info: atom does not occur in any rule head:\n",
      "  ap(3,7,#P0,s2y6)\n",
      "\n",
      "<block>:1:45-60: info: atom does not occur in any rule head:\n",
      "  ap(1,7,#P0,empty)\n",
      "\n"
     ]
    },
    {
     "name": "stderr",
     "output_type": "stream",
     "text": [
      "<block>:1:39-51: info: atom does not occur in any rule head:\n",
      "  ap(4,7,#P0,s1)\n",
      "\n",
      "<block>:1:43-57: info: atom does not occur in any rule head:\n",
      "  ap(3,7,#P0,s2y6)\n",
      "\n",
      "<block>:1:45-60: info: atom does not occur in any rule head:\n",
      "  ap(4,7,#P0,empty)\n",
      "\n"
     ]
    },
    {
     "name": "stderr",
     "output_type": "stream",
     "text": [
      "<block>:1:39-51: info: atom does not occur in any rule head:\n",
      "  ap(4,7,#P0,s1)\n",
      "\n",
      "<block>:1:43-57: info: atom does not occur in any rule head:\n",
      "  ap(3,7,#P0,s2y6)\n",
      "\n",
      "<block>:1:45-60: info: atom does not occur in any rule head:\n",
      "  ap(4,7,#P0,empty)\n",
      "\n"
     ]
    },
    {
     "name": "stderr",
     "output_type": "stream",
     "text": [
      "<block>:1:39-51: info: atom does not occur in any rule head:\n",
      "  ap(5,7,#P0,s0)\n",
      "\n",
      "<block>:1:43-57: info: atom does not occur in any rule head:\n",
      "  ap(3,7,#P0,s2y6)\n",
      "\n",
      "<block>:1:45-60: info: atom does not occur in any rule head:\n",
      "  ap(0,7,#P0,empty)\n",
      "\n",
      "<block>:1:39-51: info: atom does not occur in any rule head:\n",
      "  ap(5,7,#P0,s0)\n",
      "\n",
      "<block>:1:43-57: info: atom does not occur in any rule head:\n",
      "  ap(3,7,#P0,s2y6)\n",
      "\n",
      "<block>:1:45-60: info: atom does not occur in any rule head:\n",
      "  ap(0,7,#P0,empty)\n",
      "\n"
     ]
    },
    {
     "name": "stderr",
     "output_type": "stream",
     "text": [
      "<block>:1:39-51: info: atom does not occur in any rule head:\n",
      "  ap(5,7,#P0,s0)\n",
      "\n",
      "<block>:1:43-57: info: atom does not occur in any rule head:\n",
      "  ap(3,7,#P0,s2y6)\n",
      "\n",
      "<block>:1:45-60: info: atom does not occur in any rule head:\n",
      "  ap(0,7,#P0,empty)\n",
      "\n"
     ]
    },
    {
     "name": "stderr",
     "output_type": "stream",
     "text": [
      "<block>:1:39-51: info: atom does not occur in any rule head:\n",
      "  ap(5,7,#P0,s0)\n",
      "\n",
      "<block>:1:43-57: info: atom does not occur in any rule head:\n",
      "  ap(3,7,#P0,s2y6)\n",
      "\n",
      "<block>:1:45-60: info: atom does not occur in any rule head:\n",
      "  ap(0,7,#P0,empty)\n",
      "\n"
     ]
    },
    {
     "name": "stderr",
     "output_type": "stream",
     "text": [
      "<block>:1:39-51: info: atom does not occur in any rule head:\n",
      "  ap(5,7,#P0,s0)\n",
      "\n",
      "<block>:1:43-57: info: atom does not occur in any rule head:\n",
      "  ap(3,7,#P0,s2y6)\n",
      "\n",
      "<block>:1:45-60: info: atom does not occur in any rule head:\n",
      "  ap(5,7,#P0,empty)\n",
      "\n"
     ]
    },
    {
     "name": "stderr",
     "output_type": "stream",
     "text": [
      "<block>:1:39-51: info: atom does not occur in any rule head:\n",
      "  ap(5,7,#P0,s0)\n",
      "\n",
      "<block>:1:43-57: info: atom does not occur in any rule head:\n",
      "  ap(3,7,#P0,s2y6)\n",
      "\n",
      "<block>:1:45-60: info: atom does not occur in any rule head:\n",
      "  ap(5,7,#P0,empty)\n",
      "\n"
     ]
    },
    {
     "name": "stderr",
     "output_type": "stream",
     "text": [
      "<block>:1:39-51: info: atom does not occur in any rule head:\n",
      "  ap(5,7,#P0,s0)\n",
      "\n",
      "<block>:1:43-57: info: atom does not occur in any rule head:\n",
      "  ap(3,7,#P0,s2y6)\n",
      "\n",
      "<block>:1:45-60: info: atom does not occur in any rule head:\n",
      "  ap(0,7,#P0,empty)\n",
      "\n",
      "<block>:1:39-51: info: atom does not occur in any rule head:\n",
      "  ap(5,7,#P0,s0)\n",
      "\n",
      "<block>:1:43-57: info: atom does not occur in any rule head:\n",
      "  ap(3,7,#P0,s2y6)\n",
      "\n",
      "<block>:1:45-60: info: atom does not occur in any rule head:\n",
      "  ap(0,7,#P0,empty)\n",
      "\n"
     ]
    },
    {
     "name": "stderr",
     "output_type": "stream",
     "text": [
      "<block>:1:39-51: info: atom does not occur in any rule head:\n",
      "  ap(5,7,#P0,s0)\n",
      "\n",
      "<block>:1:43-57: info: atom does not occur in any rule head:\n",
      "  ap(3,7,#P0,s2y6)\n",
      "\n",
      "<block>:1:45-60: info: atom does not occur in any rule head:\n",
      "  ap(0,7,#P0,empty)\n",
      "\n"
     ]
    },
    {
     "name": "stderr",
     "output_type": "stream",
     "text": [
      "<block>:1:39-51: info: atom does not occur in any rule head:\n",
      "  ap(5,7,#P0,s0)\n",
      "\n",
      "<block>:1:43-57: info: atom does not occur in any rule head:\n",
      "  ap(3,7,#P0,s2y6)\n",
      "\n",
      "<block>:1:45-60: info: atom does not occur in any rule head:\n",
      "  ap(0,7,#P0,empty)\n",
      "\n"
     ]
    },
    {
     "name": "stderr",
     "output_type": "stream",
     "text": [
      "<block>:1:39-51: info: atom does not occur in any rule head:\n",
      "  ap(5,7,#P0,s0)\n",
      "\n",
      "<block>:1:43-57: info: atom does not occur in any rule head:\n",
      "  ap(3,7,#P0,s2y6)\n",
      "\n",
      "<block>:1:45-60: info: atom does not occur in any rule head:\n",
      "  ap(5,7,#P0,empty)\n",
      "\n"
     ]
    },
    {
     "name": "stderr",
     "output_type": "stream",
     "text": [
      "<block>:1:39-51: info: atom does not occur in any rule head:\n",
      "  ap(5,7,#P0,s0)\n",
      "\n",
      "<block>:1:43-57: info: atom does not occur in any rule head:\n",
      "  ap(3,7,#P0,s2y6)\n",
      "\n",
      "<block>:1:45-60: info: atom does not occur in any rule head:\n",
      "  ap(0,7,#P0,empty)\n",
      "\n"
     ]
    },
    {
     "name": "stderr",
     "output_type": "stream",
     "text": [
      "<block>:1:39-51: info: atom does not occur in any rule head:\n",
      "  ap(4,7,#P0,s1)\n",
      "\n",
      "<block>:1:43-57: info: atom does not occur in any rule head:\n",
      "  ap(3,7,#P0,s2y6)\n",
      "\n",
      "<block>:1:45-60: info: atom does not occur in any rule head:\n",
      "  ap(4,7,#P0,empty)\n",
      "\n"
     ]
    },
    {
     "name": "stderr",
     "output_type": "stream",
     "text": [
      "<block>:1:39-51: info: atom does not occur in any rule head:\n",
      "  ap(4,7,#P0,s1)\n",
      "\n",
      "<block>:1:43-57: info: atom does not occur in any rule head:\n",
      "  ap(3,7,#P0,s2y6)\n",
      "\n",
      "<block>:1:45-60: info: atom does not occur in any rule head:\n",
      "  ap(4,7,#P0,empty)\n",
      "\n"
     ]
    },
    {
     "name": "stderr",
     "output_type": "stream",
     "text": [
      "<block>:1:39-51: info: atom does not occur in any rule head:\n",
      "  ap(4,7,#P0,s1)\n",
      "\n",
      "<block>:1:43-57: info: atom does not occur in any rule head:\n",
      "  ap(3,7,#P0,s2y6)\n",
      "\n",
      "<block>:1:45-60: info: atom does not occur in any rule head:\n",
      "  ap(4,7,#P0,empty)\n",
      "\n",
      "<block>:1:39-51: info: atom does not occur in any rule head:\n",
      "  ap(4,7,#P0,s1)\n",
      "\n",
      "<block>:1:43-57: info: atom does not occur in any rule head:\n",
      "  ap(3,7,#P0,s2y6)\n",
      "\n",
      "<block>:1:45-60: info: atom does not occur in any rule head:\n",
      "  ap(4,7,#P0,empty)\n",
      "\n"
     ]
    },
    {
     "name": "stderr",
     "output_type": "stream",
     "text": [
      "<block>:1:39-51: info: atom does not occur in any rule head:\n",
      "  ap(4,7,#P0,s1)\n",
      "\n",
      "<block>:1:43-57: info: atom does not occur in any rule head:\n",
      "  ap(3,7,#P0,s2y6)\n",
      "\n",
      "<block>:1:45-60: info: atom does not occur in any rule head:\n",
      "  ap(4,7,#P0,empty)\n",
      "\n",
      "<block>:1:39-51: info: atom does not occur in any rule head:\n",
      "  ap(4,7,#P0,s1)\n",
      "\n",
      "<block>:1:43-57: info: atom does not occur in any rule head:\n",
      "  ap(3,7,#P0,s2y6)\n",
      "\n",
      "<block>:1:45-60: info: atom does not occur in any rule head:\n",
      "  ap(4,7,#P0,empty)\n",
      "\n"
     ]
    },
    {
     "name": "stderr",
     "output_type": "stream",
     "text": [
      "<block>:1:39-51: info: atom does not occur in any rule head:\n",
      "  ap(4,7,#P0,s1)\n",
      "\n",
      "<block>:1:43-57: info: atom does not occur in any rule head:\n",
      "  ap(3,7,#P0,s2y6)\n",
      "\n",
      "<block>:1:45-60: info: atom does not occur in any rule head:\n",
      "  ap(4,7,#P0,empty)\n",
      "\n"
     ]
    },
    {
     "name": "stderr",
     "output_type": "stream",
     "text": [
      "<block>:1:39-51: info: atom does not occur in any rule head:\n",
      "  ap(4,7,#P0,s1)\n",
      "\n",
      "<block>:1:43-57: info: atom does not occur in any rule head:\n",
      "  ap(3,7,#P0,s2y6)\n",
      "\n",
      "<block>:1:45-60: info: atom does not occur in any rule head:\n",
      "  ap(4,7,#P0,empty)\n",
      "\n",
      "<block>:1:39-51: info: atom does not occur in any rule head:\n",
      "  ap(4,7,#P0,s1)\n",
      "\n",
      "<block>:1:43-57: info: atom does not occur in any rule head:\n",
      "  ap(3,7,#P0,s2y6)\n",
      "\n",
      "<block>:1:45-60: info: atom does not occur in any rule head:\n",
      "  ap(4,7,#P0,empty)\n",
      "\n"
     ]
    },
    {
     "name": "stderr",
     "output_type": "stream",
     "text": [
      "<block>:1:39-51: info: atom does not occur in any rule head:\n",
      "  ap(4,7,#P0,s1)\n",
      "\n",
      "<block>:1:43-57: info: atom does not occur in any rule head:\n",
      "  ap(3,7,#P0,s2y6)\n",
      "\n",
      "<block>:1:45-60: info: atom does not occur in any rule head:\n",
      "  ap(4,7,#P0,empty)\n",
      "\n"
     ]
    },
    {
     "name": "stderr",
     "output_type": "stream",
     "text": [
      "<block>:1:39-51: info: atom does not occur in any rule head:\n",
      "  ap(4,7,#P0,s1)\n",
      "\n",
      "<block>:1:43-57: info: atom does not occur in any rule head:\n",
      "  ap(3,7,#P0,s2y6)\n",
      "\n",
      "<block>:1:45-60: info: atom does not occur in any rule head:\n",
      "  ap(4,7,#P0,empty)\n",
      "\n"
     ]
    },
    {
     "name": "stderr",
     "output_type": "stream",
     "text": [
      "<block>:1:39-51: info: atom does not occur in any rule head:\n",
      "  ap(4,7,#P0,s1)\n",
      "\n",
      "<block>:1:43-57: info: atom does not occur in any rule head:\n",
      "  ap(3,7,#P0,s2y6)\n",
      "\n",
      "<block>:1:45-60: info: atom does not occur in any rule head:\n",
      "  ap(4,7,#P0,empty)\n",
      "\n"
     ]
    },
    {
     "name": "stderr",
     "output_type": "stream",
     "text": [
      "<block>:1:39-51: info: atom does not occur in any rule head:\n",
      "  ap(4,7,#P0,s1)\n",
      "\n",
      "<block>:1:43-57: info: atom does not occur in any rule head:\n",
      "  ap(3,7,#P0,s2y6)\n",
      "\n",
      "<block>:1:45-60: info: atom does not occur in any rule head:\n",
      "  ap(4,7,#P0,empty)\n",
      "\n"
     ]
    },
    {
     "name": "stderr",
     "output_type": "stream",
     "text": [
      "<block>:1:39-51: info: atom does not occur in any rule head:\n",
      "  ap(4,7,#P0,s1)\n",
      "\n",
      "<block>:1:43-57: info: atom does not occur in any rule head:\n",
      "  ap(3,7,#P0,s2y6)\n",
      "\n",
      "<block>:1:45-60: info: atom does not occur in any rule head:\n",
      "  ap(4,7,#P0,empty)\n",
      "\n"
     ]
    },
    {
     "name": "stderr",
     "output_type": "stream",
     "text": [
      "<block>:1:39-51: info: atom does not occur in any rule head:\n",
      "  ap(4,7,#P0,s1)\n",
      "\n",
      "<block>:1:43-57: info: atom does not occur in any rule head:\n",
      "  ap(3,7,#P0,s2y6)\n",
      "\n",
      "<block>:1:45-60: info: atom does not occur in any rule head:\n",
      "  ap(4,7,#P0,empty)\n",
      "\n",
      "<block>:1:39-51: info: atom does not occur in any rule head:\n",
      "  ap(4,7,#P0,s1)\n",
      "\n",
      "<block>:1:43-57: info: atom does not occur in any rule head:\n",
      "  ap(3,7,#P0,s2y6)\n",
      "\n",
      "<block>:1:45-60: info: atom does not occur in any rule head:\n",
      "  ap(4,7,#P0,empty)\n",
      "\n"
     ]
    },
    {
     "name": "stderr",
     "output_type": "stream",
     "text": [
      "<block>:1:39-51: info: atom does not occur in any rule head:\n",
      "  ap(4,7,#P0,s1)\n",
      "\n",
      "<block>:1:43-57: info: atom does not occur in any rule head:\n",
      "  ap(3,7,#P0,s2y6)\n",
      "\n",
      "<block>:1:45-60: info: atom does not occur in any rule head:\n",
      "  ap(4,7,#P0,empty)\n",
      "\n"
     ]
    },
    {
     "name": "stderr",
     "output_type": "stream",
     "text": [
      "<block>:1:39-51: info: atom does not occur in any rule head:\n",
      "  ap(4,7,#P0,s1)\n",
      "\n",
      "<block>:1:43-57: info: atom does not occur in any rule head:\n",
      "  ap(3,7,#P0,s2y6)\n",
      "\n",
      "<block>:1:45-60: info: atom does not occur in any rule head:\n",
      "  ap(4,7,#P0,empty)\n",
      "\n"
     ]
    },
    {
     "name": "stderr",
     "output_type": "stream",
     "text": [
      "<block>:1:39-51: info: atom does not occur in any rule head:\n",
      "  ap(4,7,#P0,s1)\n",
      "\n",
      "<block>:1:43-57: info: atom does not occur in any rule head:\n",
      "  ap(3,7,#P0,s2y6)\n",
      "\n",
      "<block>:1:45-60: info: atom does not occur in any rule head:\n",
      "  ap(4,7,#P0,empty)\n",
      "\n"
     ]
    },
    {
     "name": "stderr",
     "output_type": "stream",
     "text": [
      "<block>:1:39-51: info: atom does not occur in any rule head:\n",
      "  ap(4,7,#P0,s1)\n",
      "\n",
      "<block>:1:43-57: info: atom does not occur in any rule head:\n",
      "  ap(3,7,#P0,s2y6)\n",
      "\n",
      "<block>:1:45-60: info: atom does not occur in any rule head:\n",
      "  ap(4,7,#P0,empty)\n",
      "\n"
     ]
    },
    {
     "name": "stderr",
     "output_type": "stream",
     "text": [
      "<block>:1:39-51: info: atom does not occur in any rule head:\n",
      "  ap(4,7,#P0,s1)\n",
      "\n",
      "<block>:1:43-57: info: atom does not occur in any rule head:\n",
      "  ap(3,7,#P0,s2y6)\n",
      "\n",
      "<block>:1:45-60: info: atom does not occur in any rule head:\n",
      "  ap(4,7,#P0,empty)\n",
      "\n"
     ]
    },
    {
     "name": "stderr",
     "output_type": "stream",
     "text": [
      "<block>:1:39-51: info: atom does not occur in any rule head:\n",
      "  ap(4,7,#P0,s1)\n",
      "\n",
      "<block>:1:43-57: info: atom does not occur in any rule head:\n",
      "  ap(3,7,#P0,s2y6)\n",
      "\n",
      "<block>:1:45-60: info: atom does not occur in any rule head:\n",
      "  ap(4,7,#P0,empty)\n",
      "\n"
     ]
    },
    {
     "name": "stderr",
     "output_type": "stream",
     "text": [
      "<block>:1:39-51: info: atom does not occur in any rule head:\n",
      "  ap(4,7,#P0,s1)\n",
      "\n",
      "<block>:1:43-57: info: atom does not occur in any rule head:\n",
      "  ap(3,7,#P0,s2y6)\n",
      "\n",
      "<block>:1:45-60: info: atom does not occur in any rule head:\n",
      "  ap(4,7,#P0,empty)\n",
      "\n"
     ]
    },
    {
     "name": "stderr",
     "output_type": "stream",
     "text": [
      "<block>:1:39-51: info: atom does not occur in any rule head:\n",
      "  ap(4,7,#P0,s1)\n",
      "\n",
      "<block>:1:43-57: info: atom does not occur in any rule head:\n",
      "  ap(3,7,#P0,s2y6)\n",
      "\n",
      "<block>:1:45-60: info: atom does not occur in any rule head:\n",
      "  ap(4,7,#P0,empty)\n",
      "\n"
     ]
    },
    {
     "name": "stderr",
     "output_type": "stream",
     "text": [
      "<block>:1:39-51: info: atom does not occur in any rule head:\n",
      "  ap(4,7,#P0,s1)\n",
      "\n",
      "<block>:1:43-57: info: atom does not occur in any rule head:\n",
      "  ap(3,7,#P0,s2y6)\n",
      "\n",
      "<block>:1:45-60: info: atom does not occur in any rule head:\n",
      "  ap(4,7,#P0,empty)\n",
      "\n"
     ]
    },
    {
     "name": "stderr",
     "output_type": "stream",
     "text": [
      "<block>:1:39-51: info: atom does not occur in any rule head:\n",
      "  ap(4,7,#P0,s1)\n",
      "\n",
      "<block>:1:43-57: info: atom does not occur in any rule head:\n",
      "  ap(3,7,#P0,s2y6)\n",
      "\n",
      "<block>:1:45-60: info: atom does not occur in any rule head:\n",
      "  ap(4,7,#P0,empty)\n",
      "\n"
     ]
    },
    {
     "name": "stderr",
     "output_type": "stream",
     "text": [
      "<block>:1:39-51: info: atom does not occur in any rule head:\n",
      "  ap(4,7,#P0,s1)\n",
      "\n",
      "<block>:1:43-57: info: atom does not occur in any rule head:\n",
      "  ap(3,7,#P0,s2y6)\n",
      "\n",
      "<block>:1:45-60: info: atom does not occur in any rule head:\n",
      "  ap(4,7,#P0,empty)\n",
      "\n"
     ]
    },
    {
     "name": "stderr",
     "output_type": "stream",
     "text": [
      "<block>:1:39-51: info: atom does not occur in any rule head:\n",
      "  ap(4,7,#P0,s1)\n",
      "\n",
      "<block>:1:43-57: info: atom does not occur in any rule head:\n",
      "  ap(3,7,#P0,s2y6)\n",
      "\n",
      "<block>:1:45-60: info: atom does not occur in any rule head:\n",
      "  ap(4,7,#P0,empty)\n",
      "\n"
     ]
    },
    {
     "name": "stderr",
     "output_type": "stream",
     "text": [
      "<block>:1:39-51: info: atom does not occur in any rule head:\n",
      "  ap(4,7,#P0,s1)\n",
      "\n",
      "<block>:1:43-57: info: atom does not occur in any rule head:\n",
      "  ap(3,7,#P0,s2y6)\n",
      "\n",
      "<block>:1:45-60: info: atom does not occur in any rule head:\n",
      "  ap(4,7,#P0,empty)\n",
      "\n",
      "<block>:1:39-51: info: atom does not occur in any rule head:\n",
      "  ap(4,7,#P0,s1)\n",
      "\n",
      "<block>:1:43-57: info: atom does not occur in any rule head:\n",
      "  ap(3,7,#P0,s2y6)\n",
      "\n",
      "<block>:1:45-60: info: atom does not occur in any rule head:\n",
      "  ap(4,7,#P0,empty)\n",
      "\n"
     ]
    },
    {
     "name": "stderr",
     "output_type": "stream",
     "text": [
      "<block>:1:39-51: info: atom does not occur in any rule head:\n",
      "  ap(4,7,#P0,s1)\n",
      "\n",
      "<block>:1:43-57: info: atom does not occur in any rule head:\n",
      "  ap(3,7,#P0,s2y6)\n",
      "\n",
      "<block>:1:45-60: info: atom does not occur in any rule head:\n",
      "  ap(4,7,#P0,empty)\n",
      "\n",
      "<block>:1:39-51: info: atom does not occur in any rule head:\n",
      "  ap(4,7,#P0,s1)\n",
      "\n",
      "<block>:1:43-57: info: atom does not occur in any rule head:\n",
      "  ap(3,7,#P0,s2y6)\n",
      "\n",
      "<block>:1:45-60: info: atom does not occur in any rule head:\n",
      "  ap(4,7,#P0,empty)\n",
      "\n"
     ]
    },
    {
     "name": "stderr",
     "output_type": "stream",
     "text": [
      "<block>:1:39-51: info: atom does not occur in any rule head:\n",
      "  ap(4,7,#P0,s1)\n",
      "\n",
      "<block>:1:43-57: info: atom does not occur in any rule head:\n",
      "  ap(3,7,#P0,s2y6)\n",
      "\n",
      "<block>:1:45-60: info: atom does not occur in any rule head:\n",
      "  ap(4,7,#P0,empty)\n",
      "\n",
      "<block>:1:39-51: info: atom does not occur in any rule head:\n",
      "  ap(4,7,#P0,s1)\n",
      "\n",
      "<block>:1:43-57: info: atom does not occur in any rule head:\n",
      "  ap(3,7,#P0,s2y6)\n",
      "\n",
      "<block>:1:45-60: info: atom does not occur in any rule head:\n",
      "  ap(4,7,#P0,empty)\n",
      "\n"
     ]
    },
    {
     "name": "stderr",
     "output_type": "stream",
     "text": [
      "<block>:1:39-51: info: atom does not occur in any rule head:\n",
      "  ap(4,7,#P0,s1)\n",
      "\n",
      "<block>:1:43-57: info: atom does not occur in any rule head:\n",
      "  ap(3,7,#P0,s2y6)\n",
      "\n",
      "<block>:1:45-60: info: atom does not occur in any rule head:\n",
      "  ap(4,7,#P0,empty)\n",
      "\n"
     ]
    },
    {
     "name": "stderr",
     "output_type": "stream",
     "text": [
      "<block>:1:39-51: info: atom does not occur in any rule head:\n",
      "  ap(4,7,#P0,s1)\n",
      "\n",
      "<block>:1:43-57: info: atom does not occur in any rule head:\n",
      "  ap(3,7,#P0,s2y6)\n",
      "\n",
      "<block>:1:45-60: info: atom does not occur in any rule head:\n",
      "  ap(4,7,#P0,empty)\n",
      "\n"
     ]
    },
    {
     "name": "stderr",
     "output_type": "stream",
     "text": [
      "<block>:1:39-51: info: atom does not occur in any rule head:\n",
      "  ap(4,7,#P0,s1)\n",
      "\n",
      "<block>:1:43-57: info: atom does not occur in any rule head:\n",
      "  ap(3,7,#P0,s2y6)\n",
      "\n",
      "<block>:1:45-60: info: atom does not occur in any rule head:\n",
      "  ap(4,7,#P0,empty)\n",
      "\n"
     ]
    },
    {
     "name": "stderr",
     "output_type": "stream",
     "text": [
      "<block>:1:39-51: info: atom does not occur in any rule head:\n",
      "  ap(4,7,#P0,s1)\n",
      "\n",
      "<block>:1:43-57: info: atom does not occur in any rule head:\n",
      "  ap(3,7,#P0,s2y4)\n",
      "\n",
      "<block>:1:45-60: info: atom does not occur in any rule head:\n",
      "  ap(4,7,#P0,empty)\n",
      "\n"
     ]
    },
    {
     "name": "stderr",
     "output_type": "stream",
     "text": [
      "<block>:1:39-51: info: atom does not occur in any rule head:\n",
      "  ap(1,7,#P0,s2)\n",
      "\n",
      "<block>:1:43-57: info: atom does not occur in any rule head:\n",
      "  ap(3,7,#P0,s2y6)\n",
      "\n",
      "<block>:1:45-60: info: atom does not occur in any rule head:\n",
      "  ap(4,7,#P0,empty)\n",
      "\n"
     ]
    },
    {
     "name": "stderr",
     "output_type": "stream",
     "text": [
      "<block>:1:39-51: info: atom does not occur in any rule head:\n",
      "  ap(1,7,#P0,s2)\n",
      "\n",
      "<block>:1:43-57: info: atom does not occur in any rule head:\n",
      "  ap(3,7,#P0,s2y6)\n",
      "\n",
      "<block>:1:45-60: info: atom does not occur in any rule head:\n",
      "  ap(4,7,#P0,empty)\n",
      "\n"
     ]
    },
    {
     "name": "stderr",
     "output_type": "stream",
     "text": [
      "<block>:1:39-51: info: atom does not occur in any rule head:\n",
      "  ap(1,7,#P0,s2)\n",
      "\n",
      "<block>:1:43-57: info: atom does not occur in any rule head:\n",
      "  ap(3,7,#P0,s2y6)\n",
      "\n",
      "<block>:1:45-60: info: atom does not occur in any rule head:\n",
      "  ap(4,7,#P0,empty)\n",
      "\n"
     ]
    },
    {
     "name": "stderr",
     "output_type": "stream",
     "text": [
      "<block>:1:39-51: info: atom does not occur in any rule head:\n",
      "  ap(1,7,#P0,s2)\n",
      "\n",
      "<block>:1:43-57: info: atom does not occur in any rule head:\n",
      "  ap(3,7,#P0,s2y6)\n",
      "\n",
      "<block>:1:45-60: info: atom does not occur in any rule head:\n",
      "  ap(1,7,#P0,empty)\n",
      "\n"
     ]
    },
    {
     "name": "stderr",
     "output_type": "stream",
     "text": [
      "<block>:1:39-51: info: atom does not occur in any rule head:\n",
      "  ap(1,7,#P0,s2)\n",
      "\n",
      "<block>:1:43-57: info: atom does not occur in any rule head:\n",
      "  ap(3,7,#P0,s2y6)\n",
      "\n",
      "<block>:1:45-60: info: atom does not occur in any rule head:\n",
      "  ap(1,7,#P0,empty)\n",
      "\n"
     ]
    },
    {
     "name": "stderr",
     "output_type": "stream",
     "text": [
      "<block>:1:39-51: info: atom does not occur in any rule head:\n",
      "  ap(1,7,#P0,s2)\n",
      "\n",
      "<block>:1:43-57: info: atom does not occur in any rule head:\n",
      "  ap(3,7,#P0,s2y6)\n",
      "\n",
      "<block>:1:45-60: info: atom does not occur in any rule head:\n",
      "  ap(1,7,#P0,empty)\n",
      "\n"
     ]
    },
    {
     "name": "stderr",
     "output_type": "stream",
     "text": [
      "<block>:1:39-51: info: atom does not occur in any rule head:\n",
      "  ap(1,7,#P0,s2)\n",
      "\n",
      "<block>:1:43-57: info: atom does not occur in any rule head:\n",
      "  ap(3,7,#P0,s2y6)\n",
      "\n",
      "<block>:1:45-60: info: atom does not occur in any rule head:\n",
      "  ap(1,7,#P0,empty)\n",
      "\n"
     ]
    },
    {
     "name": "stderr",
     "output_type": "stream",
     "text": [
      "<block>:1:39-51: info: atom does not occur in any rule head:\n",
      "  ap(4,7,#P0,s5)\n",
      "\n",
      "<block>:1:43-57: info: atom does not occur in any rule head:\n",
      "  ap(3,7,#P0,s2y6)\n",
      "\n",
      "<block>:1:45-60: info: atom does not occur in any rule head:\n",
      "  ap(4,7,#P0,empty)\n",
      "\n",
      "<block>:1:39-51: info: atom does not occur in any rule head:\n",
      "  ap(4,7,#P0,s5)\n",
      "\n",
      "<block>:1:43-57: info: atom does not occur in any rule head:\n",
      "  ap(3,7,#P0,s2y6)\n",
      "\n",
      "<block>:1:45-60: info: atom does not occur in any rule head:\n",
      "  ap(4,7,#P0,empty)\n",
      "\n"
     ]
    },
    {
     "name": "stderr",
     "output_type": "stream",
     "text": [
      "<block>:1:39-51: info: atom does not occur in any rule head:\n",
      "  ap(4,7,#P0,s5)\n",
      "\n",
      "<block>:1:43-57: info: atom does not occur in any rule head:\n",
      "  ap(3,7,#P0,s2y6)\n",
      "\n",
      "<block>:1:45-60: info: atom does not occur in any rule head:\n",
      "  ap(4,7,#P0,empty)\n",
      "\n",
      "<block>:1:39-51: info: atom does not occur in any rule head:\n",
      "  ap(4,7,#P0,s5)\n",
      "\n",
      "<block>:1:43-57: info: atom does not occur in any rule head:\n",
      "  ap(3,7,#P0,s2y6)\n",
      "\n",
      "<block>:1:45-60: info: atom does not occur in any rule head:\n",
      "  ap(4,7,#P0,empty)\n",
      "\n"
     ]
    },
    {
     "name": "stderr",
     "output_type": "stream",
     "text": [
      "<block>:1:39-51: info: atom does not occur in any rule head:\n",
      "  ap(4,7,#P0,s6)\n",
      "\n",
      "<block>:1:43-57: info: atom does not occur in any rule head:\n",
      "  ap(3,7,#P0,s2y6)\n",
      "\n",
      "<block>:1:45-60: info: atom does not occur in any rule head:\n",
      "  ap(4,7,#P0,empty)\n",
      "\n"
     ]
    },
    {
     "name": "stderr",
     "output_type": "stream",
     "text": [
      "<block>:1:39-51: info: atom does not occur in any rule head:\n",
      "  ap(4,7,#P0,s6)\n",
      "\n",
      "<block>:1:43-57: info: atom does not occur in any rule head:\n",
      "  ap(3,7,#P0,s2y6)\n",
      "\n",
      "<block>:1:45-60: info: atom does not occur in any rule head:\n",
      "  ap(4,7,#P0,empty)\n",
      "\n"
     ]
    },
    {
     "name": "stderr",
     "output_type": "stream",
     "text": [
      "<block>:1:39-51: info: atom does not occur in any rule head:\n",
      "  ap(4,7,#P0,s5)\n",
      "\n",
      "<block>:1:43-57: info: atom does not occur in any rule head:\n",
      "  ap(3,7,#P0,s2y6)\n",
      "\n",
      "<block>:1:45-60: info: atom does not occur in any rule head:\n",
      "  ap(4,7,#P0,empty)\n",
      "\n"
     ]
    },
    {
     "name": "stderr",
     "output_type": "stream",
     "text": [
      "<block>:1:39-51: info: atom does not occur in any rule head:\n",
      "  ap(5,7,#P0,s2)\n",
      "\n",
      "<block>:1:43-57: info: atom does not occur in any rule head:\n",
      "  ap(3,7,#P0,s2y6)\n",
      "\n",
      "<block>:1:45-60: info: atom does not occur in any rule head:\n",
      "  ap(5,7,#P0,empty)\n",
      "\n"
     ]
    },
    {
     "name": "stderr",
     "output_type": "stream",
     "text": [
      "<block>:1:45-60: info: atom does not occur in any rule head:\n",
      "  ap(0,6,#P0,empty)\n",
      "\n"
     ]
    },
    {
     "name": "stderr",
     "output_type": "stream",
     "text": [
      "<block>:1:39-51: info: atom does not occur in any rule head:\n",
      "  ap(5,7,#P0,s2)\n",
      "\n",
      "<block>:1:43-57: info: atom does not occur in any rule head:\n",
      "  ap(3,7,#P0,s2y6)\n",
      "\n",
      "<block>:1:45-60: info: atom does not occur in any rule head:\n",
      "  ap(5,7,#P0,empty)\n",
      "\n"
     ]
    },
    {
     "name": "stderr",
     "output_type": "stream",
     "text": [
      "<block>:1:45-60: info: atom does not occur in any rule head:\n",
      "  ap(0,6,#P0,empty)\n",
      "\n"
     ]
    },
    {
     "name": "stderr",
     "output_type": "stream",
     "text": [
      "<block>:1:39-51: info: atom does not occur in any rule head:\n",
      "  ap(4,7,#P0,s1)\n",
      "\n",
      "<block>:1:43-57: info: atom does not occur in any rule head:\n",
      "  ap(3,7,#P0,s2y6)\n",
      "\n",
      "<block>:1:45-60: info: atom does not occur in any rule head:\n",
      "  ap(4,7,#P0,empty)\n",
      "\n"
     ]
    },
    {
     "name": "stderr",
     "output_type": "stream",
     "text": [
      "<block>:1:39-51: info: atom does not occur in any rule head:\n",
      "  ap(4,7,#P0,s1)\n",
      "\n",
      "<block>:1:43-57: info: atom does not occur in any rule head:\n",
      "  ap(3,7,#P0,s2y6)\n",
      "\n",
      "<block>:1:45-60: info: atom does not occur in any rule head:\n",
      "  ap(4,7,#P0,empty)\n",
      "\n"
     ]
    },
    {
     "name": "stderr",
     "output_type": "stream",
     "text": [
      "<block>:1:39-51: info: atom does not occur in any rule head:\n",
      "  ap(4,7,#P0,s1)\n",
      "\n",
      "<block>:1:43-57: info: atom does not occur in any rule head:\n",
      "  ap(3,7,#P0,s2y6)\n",
      "\n",
      "<block>:1:45-60: info: atom does not occur in any rule head:\n",
      "  ap(4,7,#P0,empty)\n",
      "\n"
     ]
    },
    {
     "name": "stderr",
     "output_type": "stream",
     "text": [
      "<block>:1:39-51: info: atom does not occur in any rule head:\n",
      "  ap(4,7,#P0,s1)\n",
      "\n",
      "<block>:1:43-57: info: atom does not occur in any rule head:\n",
      "  ap(3,7,#P0,s2y6)\n",
      "\n",
      "<block>:1:45-60: info: atom does not occur in any rule head:\n",
      "  ap(4,7,#P0,empty)\n",
      "\n"
     ]
    },
    {
     "name": "stderr",
     "output_type": "stream",
     "text": [
      "<block>:1:39-51: info: atom does not occur in any rule head:\n",
      "  ap(4,7,#P0,s1)\n",
      "\n",
      "<block>:1:43-57: info: atom does not occur in any rule head:\n",
      "  ap(3,7,#P0,s2y6)\n",
      "\n",
      "<block>:1:45-60: info: atom does not occur in any rule head:\n",
      "  ap(4,7,#P0,empty)\n",
      "\n"
     ]
    },
    {
     "name": "stderr",
     "output_type": "stream",
     "text": [
      "<block>:1:39-51: info: atom does not occur in any rule head:\n",
      "  ap(4,7,#P0,s1)\n",
      "\n",
      "<block>:1:43-57: info: atom does not occur in any rule head:\n",
      "  ap(3,7,#P0,s2y6)\n",
      "\n",
      "<block>:1:45-60: info: atom does not occur in any rule head:\n",
      "  ap(4,7,#P0,empty)\n",
      "\n"
     ]
    },
    {
     "name": "stderr",
     "output_type": "stream",
     "text": [
      "<block>:1:39-51: info: atom does not occur in any rule head:\n",
      "  ap(4,7,#P0,s1)\n",
      "\n",
      "<block>:1:43-57: info: atom does not occur in any rule head:\n",
      "  ap(3,7,#P0,s2y6)\n",
      "\n",
      "<block>:1:45-60: info: atom does not occur in any rule head:\n",
      "  ap(4,7,#P0,empty)\n",
      "\n"
     ]
    },
    {
     "name": "stderr",
     "output_type": "stream",
     "text": [
      "<block>:1:39-51: info: atom does not occur in any rule head:\n",
      "  ap(4,7,#P0,s1)\n",
      "\n",
      "<block>:1:43-57: info: atom does not occur in any rule head:\n",
      "  ap(3,7,#P0,s2y4)\n",
      "\n",
      "<block>:1:45-60: info: atom does not occur in any rule head:\n",
      "  ap(4,7,#P0,empty)\n",
      "\n"
     ]
    },
    {
     "name": "stderr",
     "output_type": "stream",
     "text": [
      "<block>:1:39-51: info: atom does not occur in any rule head:\n",
      "  ap(2,7,#P0,s5)\n",
      "\n",
      "<block>:1:43-57: info: atom does not occur in any rule head:\n",
      "  ap(3,7,#P0,s2y6)\n",
      "\n",
      "<block>:1:45-60: info: atom does not occur in any rule head:\n",
      "  ap(2,7,#P0,empty)\n",
      "\n"
     ]
    },
    {
     "name": "stderr",
     "output_type": "stream",
     "text": [
      "<block>:1:39-51: info: atom does not occur in any rule head:\n",
      "  ap(2,7,#P0,s5)\n",
      "\n",
      "<block>:1:43-57: info: atom does not occur in any rule head:\n",
      "  ap(3,7,#P0,s2y6)\n",
      "\n",
      "<block>:1:45-60: info: atom does not occur in any rule head:\n",
      "  ap(2,7,#P0,empty)\n",
      "\n",
      "<block>:1:39-51: info: atom does not occur in any rule head:\n",
      "  ap(2,7,#P0,s5)\n",
      "\n",
      "<block>:1:43-57: info: atom does not occur in any rule head:\n",
      "  ap(3,7,#P0,s2y6)\n",
      "\n",
      "<block>:1:45-60: info: atom does not occur in any rule head:\n",
      "  ap(2,7,#P0,empty)\n",
      "\n"
     ]
    },
    {
     "name": "stderr",
     "output_type": "stream",
     "text": [
      "<block>:1:39-51: info: atom does not occur in any rule head:\n",
      "  ap(2,7,#P0,s5)\n",
      "\n",
      "<block>:1:43-57: info: atom does not occur in any rule head:\n",
      "  ap(3,7,#P0,s2y6)\n",
      "\n",
      "<block>:1:45-60: info: atom does not occur in any rule head:\n",
      "  ap(2,7,#P0,empty)\n",
      "\n"
     ]
    },
    {
     "name": "stderr",
     "output_type": "stream",
     "text": [
      "<block>:1:39-51: info: atom does not occur in any rule head:\n",
      "  ap(2,7,#P0,s5)\n",
      "\n",
      "<block>:1:43-57: info: atom does not occur in any rule head:\n",
      "  ap(3,7,#P0,s2y6)\n",
      "\n",
      "<block>:1:45-60: info: atom does not occur in any rule head:\n",
      "  ap(2,7,#P0,empty)\n",
      "\n"
     ]
    },
    {
     "name": "stderr",
     "output_type": "stream",
     "text": [
      "<block>:1:39-51: info: atom does not occur in any rule head:\n",
      "  ap(2,7,#P0,s5)\n",
      "\n",
      "<block>:1:43-57: info: atom does not occur in any rule head:\n",
      "  ap(3,7,#P0,s2y6)\n",
      "\n",
      "<block>:1:45-60: info: atom does not occur in any rule head:\n",
      "  ap(2,7,#P0,empty)\n",
      "\n"
     ]
    },
    {
     "name": "stderr",
     "output_type": "stream",
     "text": [
      "<block>:1:39-51: info: atom does not occur in any rule head:\n",
      "  ap(2,7,#P0,s5)\n",
      "\n",
      "<block>:1:43-57: info: atom does not occur in any rule head:\n",
      "  ap(3,7,#P0,s2y6)\n",
      "\n",
      "<block>:1:45-60: info: atom does not occur in any rule head:\n",
      "  ap(2,7,#P0,empty)\n",
      "\n"
     ]
    },
    {
     "name": "stderr",
     "output_type": "stream",
     "text": [
      "<block>:1:39-51: info: atom does not occur in any rule head:\n",
      "  ap(2,7,#P0,s5)\n",
      "\n",
      "<block>:1:43-57: info: atom does not occur in any rule head:\n",
      "  ap(3,7,#P0,s2y6)\n",
      "\n",
      "<block>:1:45-60: info: atom does not occur in any rule head:\n",
      "  ap(2,7,#P0,empty)\n",
      "\n"
     ]
    },
    {
     "name": "stderr",
     "output_type": "stream",
     "text": [
      "<block>:1:39-51: info: atom does not occur in any rule head:\n",
      "  ap(2,7,#P0,s5)\n",
      "\n",
      "<block>:1:43-57: info: atom does not occur in any rule head:\n",
      "  ap(3,7,#P0,s2y6)\n",
      "\n",
      "<block>:1:45-60: info: atom does not occur in any rule head:\n",
      "  ap(2,7,#P0,empty)\n",
      "\n"
     ]
    },
    {
     "name": "stderr",
     "output_type": "stream",
     "text": [
      "<block>:1:39-51: info: atom does not occur in any rule head:\n",
      "  ap(2,7,#P0,s5)\n",
      "\n",
      "<block>:1:43-57: info: atom does not occur in any rule head:\n",
      "  ap(3,7,#P0,s2y6)\n",
      "\n",
      "<block>:1:45-60: info: atom does not occur in any rule head:\n",
      "  ap(2,7,#P0,empty)\n",
      "\n"
     ]
    },
    {
     "name": "stderr",
     "output_type": "stream",
     "text": [
      "<block>:1:39-51: info: atom does not occur in any rule head:\n",
      "  ap(1,7,#P0,s2)\n",
      "\n",
      "<block>:1:43-57: info: atom does not occur in any rule head:\n",
      "  ap(3,7,#P0,s2y6)\n",
      "\n",
      "<block>:1:45-60: info: atom does not occur in any rule head:\n",
      "  ap(4,7,#P0,empty)\n",
      "\n"
     ]
    },
    {
     "name": "stderr",
     "output_type": "stream",
     "text": [
      "<block>:1:39-51: info: atom does not occur in any rule head:\n",
      "  ap(1,7,#P0,s2)\n",
      "\n",
      "<block>:1:43-57: info: atom does not occur in any rule head:\n",
      "  ap(3,7,#P0,s2y6)\n",
      "\n",
      "<block>:1:45-60: info: atom does not occur in any rule head:\n",
      "  ap(4,7,#P0,empty)\n",
      "\n"
     ]
    },
    {
     "name": "stderr",
     "output_type": "stream",
     "text": [
      "<block>:1:39-51: info: atom does not occur in any rule head:\n",
      "  ap(1,7,#P0,s2)\n",
      "\n",
      "<block>:1:43-57: info: atom does not occur in any rule head:\n",
      "  ap(3,7,#P0,s2y6)\n",
      "\n",
      "<block>:1:45-60: info: atom does not occur in any rule head:\n",
      "  ap(1,7,#P0,empty)\n",
      "\n"
     ]
    },
    {
     "name": "stderr",
     "output_type": "stream",
     "text": [
      "<block>:1:39-51: info: atom does not occur in any rule head:\n",
      "  ap(1,7,#P0,s2)\n",
      "\n",
      "<block>:1:43-57: info: atom does not occur in any rule head:\n",
      "  ap(3,7,#P0,s2y6)\n",
      "\n",
      "<block>:1:45-60: info: atom does not occur in any rule head:\n",
      "  ap(1,7,#P0,empty)\n",
      "\n"
     ]
    },
    {
     "name": "stderr",
     "output_type": "stream",
     "text": [
      "<block>:1:39-51: info: atom does not occur in any rule head:\n",
      "  ap(5,7,#P0,s2)\n",
      "\n",
      "<block>:1:43-57: info: atom does not occur in any rule head:\n",
      "  ap(3,7,#P0,s2y6)\n",
      "\n",
      "<block>:1:45-60: info: atom does not occur in any rule head:\n",
      "  ap(5,7,#P0,empty)\n",
      "\n",
      "<block>:1:39-51: info: atom does not occur in any rule head:\n",
      "  ap(5,7,#P0,s2)\n",
      "\n",
      "<block>:1:43-57: info: atom does not occur in any rule head:\n",
      "  ap(3,7,#P0,s2y6)\n",
      "\n",
      "<block>:1:45-60: info: atom does not occur in any rule head:\n",
      "  ap(5,7,#P0,empty)\n",
      "\n"
     ]
    },
    {
     "name": "stderr",
     "output_type": "stream",
     "text": [
      "<block>:1:39-51: info: atom does not occur in any rule head:\n",
      "  ap(5,7,#P0,s2)\n",
      "\n",
      "<block>:1:43-57: info: atom does not occur in any rule head:\n",
      "  ap(3,7,#P0,s2y6)\n",
      "\n",
      "<block>:1:45-60: info: atom does not occur in any rule head:\n",
      "  ap(5,7,#P0,empty)\n",
      "\n",
      "<block>:1:39-51: info: atom does not occur in any rule head:\n",
      "  ap(5,7,#P0,s2)\n",
      "\n",
      "<block>:1:43-57: info: atom does not occur in any rule head:\n",
      "  ap(3,7,#P0,s2y6)\n",
      "\n",
      "<block>:1:45-60: info: atom does not occur in any rule head:\n",
      "  ap(5,7,#P0,empty)\n",
      "\n"
     ]
    },
    {
     "name": "stderr",
     "output_type": "stream",
     "text": [
      "<block>:1:39-51: info: atom does not occur in any rule head:\n",
      "  ap(1,7,#P0,s2)\n",
      "\n",
      "<block>:1:43-57: info: atom does not occur in any rule head:\n",
      "  ap(3,7,#P0,s2y6)\n",
      "\n",
      "<block>:1:45-60: info: atom does not occur in any rule head:\n",
      "  ap(4,7,#P0,empty)\n",
      "\n"
     ]
    },
    {
     "name": "stderr",
     "output_type": "stream",
     "text": [
      "<block>:1:39-51: info: atom does not occur in any rule head:\n",
      "  ap(1,7,#P0,s2)\n",
      "\n",
      "<block>:1:43-57: info: atom does not occur in any rule head:\n",
      "  ap(3,7,#P0,s2y6)\n",
      "\n",
      "<block>:1:45-60: info: atom does not occur in any rule head:\n",
      "  ap(2,7,#P0,empty)\n",
      "\n"
     ]
    },
    {
     "name": "stderr",
     "output_type": "stream",
     "text": [
      "<block>:1:39-51: info: atom does not occur in any rule head:\n",
      "  ap(1,7,#P0,s2)\n",
      "\n",
      "<block>:1:43-57: info: atom does not occur in any rule head:\n",
      "  ap(3,7,#P0,s2y6)\n",
      "\n",
      "<block>:1:45-60: info: atom does not occur in any rule head:\n",
      "  ap(1,7,#P0,empty)\n",
      "\n"
     ]
    },
    {
     "name": "stderr",
     "output_type": "stream",
     "text": [
      "<block>:1:39-51: info: atom does not occur in any rule head:\n",
      "  ap(1,7,#P0,s2)\n",
      "\n",
      "<block>:1:43-57: info: atom does not occur in any rule head:\n",
      "  ap(3,7,#P0,s2y6)\n",
      "\n",
      "<block>:1:45-60: info: atom does not occur in any rule head:\n",
      "  ap(1,7,#P0,empty)\n",
      "\n"
     ]
    },
    {
     "name": "stderr",
     "output_type": "stream",
     "text": [
      "<block>:1:39-51: info: atom does not occur in any rule head:\n",
      "  ap(1,7,#P0,s2)\n",
      "\n",
      "<block>:1:43-57: info: atom does not occur in any rule head:\n",
      "  ap(3,7,#P0,s2y6)\n",
      "\n",
      "<block>:1:45-60: info: atom does not occur in any rule head:\n",
      "  ap(1,7,#P0,empty)\n",
      "\n"
     ]
    },
    {
     "name": "stderr",
     "output_type": "stream",
     "text": [
      "<block>:1:39-51: info: atom does not occur in any rule head:\n",
      "  ap(1,7,#P0,s2)\n",
      "\n",
      "<block>:1:43-57: info: atom does not occur in any rule head:\n",
      "  ap(3,7,#P0,s2y6)\n",
      "\n",
      "<block>:1:45-60: info: atom does not occur in any rule head:\n",
      "  ap(1,7,#P0,empty)\n",
      "\n",
      "<block>:1:39-51: info: atom does not occur in any rule head:\n",
      "  ap(1,7,#P0,s2)\n",
      "\n",
      "<block>:1:43-57: info: atom does not occur in any rule head:\n",
      "  ap(3,7,#P0,s2y6)\n",
      "\n",
      "<block>:1:45-60: info: atom does not occur in any rule head:\n",
      "  ap(1,7,#P0,empty)\n",
      "\n"
     ]
    },
    {
     "name": "stderr",
     "output_type": "stream",
     "text": [
      "<block>:1:39-51: info: atom does not occur in any rule head:\n",
      "  ap(1,7,#P0,s2)\n",
      "\n",
      "<block>:1:43-57: info: atom does not occur in any rule head:\n",
      "  ap(3,7,#P0,s2y6)\n",
      "\n",
      "<block>:1:45-60: info: atom does not occur in any rule head:\n",
      "  ap(1,7,#P0,empty)\n",
      "\n"
     ]
    },
    {
     "name": "stderr",
     "output_type": "stream",
     "text": [
      "<block>:1:39-51: info: atom does not occur in any rule head:\n",
      "  ap(1,7,#P0,s2)\n",
      "\n",
      "<block>:1:43-57: info: atom does not occur in any rule head:\n",
      "  ap(3,7,#P0,s2y6)\n",
      "\n",
      "<block>:1:45-60: info: atom does not occur in any rule head:\n",
      "  ap(1,7,#P0,empty)\n",
      "\n"
     ]
    },
    {
     "name": "stderr",
     "output_type": "stream",
     "text": [
      "<block>:1:39-51: info: atom does not occur in any rule head:\n",
      "  ap(1,7,#P0,s2)\n",
      "\n",
      "<block>:1:43-57: info: atom does not occur in any rule head:\n",
      "  ap(3,7,#P0,s2y6)\n",
      "\n",
      "<block>:1:45-60: info: atom does not occur in any rule head:\n",
      "  ap(1,7,#P0,empty)\n",
      "\n"
     ]
    },
    {
     "name": "stderr",
     "output_type": "stream",
     "text": [
      "<block>:1:39-51: info: atom does not occur in any rule head:\n",
      "  ap(2,7,#P0,s5)\n",
      "\n",
      "<block>:1:43-57: info: atom does not occur in any rule head:\n",
      "  ap(3,7,#P0,s2y6)\n",
      "\n",
      "<block>:1:45-60: info: atom does not occur in any rule head:\n",
      "  ap(2,7,#P0,empty)\n",
      "\n",
      "<block>:1:39-51: info: atom does not occur in any rule head:\n",
      "  ap(2,7,#P0,s5)\n",
      "\n",
      "<block>:1:43-57: info: atom does not occur in any rule head:\n",
      "  ap(3,7,#P0,s2y6)\n",
      "\n",
      "<block>:1:45-60: info: atom does not occur in any rule head:\n",
      "  ap(2,7,#P0,empty)\n",
      "\n"
     ]
    },
    {
     "name": "stderr",
     "output_type": "stream",
     "text": [
      "<block>:1:39-51: info: atom does not occur in any rule head:\n",
      "  ap(2,7,#P0,s5)\n",
      "\n",
      "<block>:1:43-57: info: atom does not occur in any rule head:\n",
      "  ap(3,7,#P0,s2y6)\n",
      "\n",
      "<block>:1:45-60: info: atom does not occur in any rule head:\n",
      "  ap(2,7,#P0,empty)\n",
      "\n"
     ]
    },
    {
     "name": "stderr",
     "output_type": "stream",
     "text": [
      "<block>:1:39-51: info: atom does not occur in any rule head:\n",
      "  ap(2,7,#P0,s5)\n",
      "\n",
      "<block>:1:43-57: info: atom does not occur in any rule head:\n",
      "  ap(3,7,#P0,s2y6)\n",
      "\n",
      "<block>:1:45-60: info: atom does not occur in any rule head:\n",
      "  ap(2,7,#P0,empty)\n",
      "\n"
     ]
    },
    {
     "name": "stderr",
     "output_type": "stream",
     "text": [
      "<block>:1:39-51: info: atom does not occur in any rule head:\n",
      "  ap(1,7,#P0,s2)\n",
      "\n",
      "<block>:1:43-57: info: atom does not occur in any rule head:\n",
      "  ap(3,7,#P0,s2y6)\n",
      "\n",
      "<block>:1:45-60: info: atom does not occur in any rule head:\n",
      "  ap(0,6,#P0,empty)\n",
      "\n",
      "<block>:1:39-51: info: atom does not occur in any rule head:\n",
      "  ap(1,7,#P0,s2)\n",
      "\n",
      "<block>:1:43-57: info: atom does not occur in any rule head:\n",
      "  ap(3,7,#P0,s2y6)\n",
      "\n",
      "<block>:1:45-60: info: atom does not occur in any rule head:\n",
      "  ap(4,7,#P0,empty)\n",
      "\n"
     ]
    },
    {
     "name": "stderr",
     "output_type": "stream",
     "text": [
      "<block>:1:39-51: info: atom does not occur in any rule head:\n",
      "  ap(1,7,#P0,s2)\n",
      "\n",
      "<block>:1:43-57: info: atom does not occur in any rule head:\n",
      "  ap(3,7,#P0,s2y6)\n",
      "\n",
      "<block>:1:45-60: info: atom does not occur in any rule head:\n",
      "  ap(4,7,#P0,empty)\n",
      "\n",
      "<block>:1:39-51: info: atom does not occur in any rule head:\n",
      "  ap(1,7,#P0,s2)\n",
      "\n",
      "<block>:1:43-57: info: atom does not occur in any rule head:\n",
      "  ap(3,7,#P0,s2y6)\n",
      "\n",
      "<block>:1:45-60: info: atom does not occur in any rule head:\n",
      "  ap(4,7,#P0,empty)\n",
      "\n"
     ]
    },
    {
     "name": "stderr",
     "output_type": "stream",
     "text": [
      "<block>:1:39-51: info: atom does not occur in any rule head:\n",
      "  ap(1,7,#P0,s2)\n",
      "\n",
      "<block>:1:43-57: info: atom does not occur in any rule head:\n",
      "  ap(3,7,#P0,s2y6)\n",
      "\n",
      "<block>:1:45-60: info: atom does not occur in any rule head:\n",
      "  ap(4,7,#P0,empty)\n",
      "\n",
      "<block>:1:39-51: info: atom does not occur in any rule head:\n",
      "  ap(1,7,#P0,s2)\n",
      "\n",
      "<block>:1:43-57: info: atom does not occur in any rule head:\n",
      "  ap(3,7,#P0,s2y6)\n",
      "\n",
      "<block>:1:45-60: info: atom does not occur in any rule head:\n",
      "  ap(4,7,#P0,empty)\n",
      "\n"
     ]
    },
    {
     "name": "stderr",
     "output_type": "stream",
     "text": [
      "<block>:1:39-51: info: atom does not occur in any rule head:\n",
      "  ap(1,7,#P0,s2)\n",
      "\n",
      "<block>:1:43-57: info: atom does not occur in any rule head:\n",
      "  ap(3,7,#P0,s2y6)\n",
      "\n",
      "<block>:1:45-60: info: atom does not occur in any rule head:\n",
      "  ap(1,7,#P0,empty)\n",
      "\n",
      "<block>:1:39-51: info: atom does not occur in any rule head:\n",
      "  ap(1,7,#P0,s2)\n",
      "\n",
      "<block>:1:43-57: info: atom does not occur in any rule head:\n",
      "  ap(3,7,#P0,s2y6)\n",
      "\n",
      "<block>:1:45-60: info: atom does not occur in any rule head:\n",
      "  ap(1,7,#P0,empty)\n",
      "\n"
     ]
    },
    {
     "name": "stderr",
     "output_type": "stream",
     "text": [
      "<block>:1:39-51: info: atom does not occur in any rule head:\n",
      "  ap(1,7,#P0,s2)\n",
      "\n",
      "<block>:1:43-57: info: atom does not occur in any rule head:\n",
      "  ap(3,7,#P0,s2y4)\n",
      "\n",
      "<block>:1:45-60: info: atom does not occur in any rule head:\n",
      "  ap(1,7,#P0,empty)\n",
      "\n"
     ]
    },
    {
     "name": "stderr",
     "output_type": "stream",
     "text": [
      "<block>:1:39-51: info: atom does not occur in any rule head:\n",
      "  ap(1,7,#P0,s2)\n",
      "\n",
      "<block>:1:43-57: info: atom does not occur in any rule head:\n",
      "  ap(3,7,#P0,s2y6)\n",
      "\n",
      "<block>:1:45-60: info: atom does not occur in any rule head:\n",
      "  ap(1,7,#P0,empty)\n",
      "\n"
     ]
    },
    {
     "name": "stderr",
     "output_type": "stream",
     "text": [
      "<block>:1:39-51: info: atom does not occur in any rule head:\n",
      "  ap(5,7,#P0,s2)\n",
      "\n",
      "<block>:1:43-57: info: atom does not occur in any rule head:\n",
      "  ap(3,7,#P0,s2y6)\n",
      "\n",
      "<block>:1:45-60: info: atom does not occur in any rule head:\n",
      "  ap(5,7,#P0,empty)\n",
      "\n"
     ]
    },
    {
     "name": "stderr",
     "output_type": "stream",
     "text": [
      "<block>:1:39-51: info: atom does not occur in any rule head:\n",
      "  ap(5,7,#P0,s2)\n",
      "\n",
      "<block>:1:43-57: info: atom does not occur in any rule head:\n",
      "  ap(3,7,#P0,s2y6)\n",
      "\n",
      "<block>:1:45-60: info: atom does not occur in any rule head:\n",
      "  ap(5,7,#P0,empty)\n",
      "\n"
     ]
    },
    {
     "name": "stderr",
     "output_type": "stream",
     "text": [
      "<block>:1:39-51: info: atom does not occur in any rule head:\n",
      "  ap(5,7,#P0,s2)\n",
      "\n",
      "<block>:1:43-57: info: atom does not occur in any rule head:\n",
      "  ap(3,7,#P0,s2y6)\n",
      "\n",
      "<block>:1:45-60: info: atom does not occur in any rule head:\n",
      "  ap(5,7,#P0,empty)\n",
      "\n"
     ]
    },
    {
     "name": "stderr",
     "output_type": "stream",
     "text": [
      "<block>:1:39-51: info: atom does not occur in any rule head:\n",
      "  ap(5,7,#P0,s2)\n",
      "\n",
      "<block>:1:43-57: info: atom does not occur in any rule head:\n",
      "  ap(3,7,#P0,s2y6)\n",
      "\n",
      "<block>:1:45-60: info: atom does not occur in any rule head:\n",
      "  ap(5,7,#P0,empty)\n",
      "\n"
     ]
    },
    {
     "name": "stderr",
     "output_type": "stream",
     "text": [
      "<block>:1:39-51: info: atom does not occur in any rule head:\n",
      "  ap(5,7,#P0,s2)\n",
      "\n",
      "<block>:1:43-57: info: atom does not occur in any rule head:\n",
      "  ap(3,7,#P0,s2y6)\n",
      "\n",
      "<block>:1:45-60: info: atom does not occur in any rule head:\n",
      "  ap(5,7,#P0,empty)\n",
      "\n"
     ]
    },
    {
     "name": "stderr",
     "output_type": "stream",
     "text": [
      "<block>:1:39-51: info: atom does not occur in any rule head:\n",
      "  ap(5,7,#P0,s1)\n",
      "\n",
      "<block>:1:43-57: info: atom does not occur in any rule head:\n",
      "  ap(3,7,#P0,s2y6)\n",
      "\n",
      "<block>:1:45-60: info: atom does not occur in any rule head:\n",
      "  ap(5,7,#P0,empty)\n",
      "\n"
     ]
    },
    {
     "name": "stderr",
     "output_type": "stream",
     "text": [
      "<block>:1:39-51: info: atom does not occur in any rule head:\n",
      "  ap(4,7,#P0,s1)\n",
      "\n",
      "<block>:1:43-57: info: atom does not occur in any rule head:\n",
      "  ap(3,7,#P0,s2y6)\n",
      "\n",
      "<block>:1:45-60: info: atom does not occur in any rule head:\n",
      "  ap(4,7,#P0,empty)\n",
      "\n"
     ]
    },
    {
     "name": "stderr",
     "output_type": "stream",
     "text": [
      "<block>:1:39-51: info: atom does not occur in any rule head:\n",
      "  ap(4,7,#P0,s1)\n",
      "\n",
      "<block>:1:43-57: info: atom does not occur in any rule head:\n",
      "  ap(3,7,#P0,s2y6)\n",
      "\n",
      "<block>:1:45-60: info: atom does not occur in any rule head:\n",
      "  ap(4,7,#P0,empty)\n",
      "\n"
     ]
    },
    {
     "name": "stderr",
     "output_type": "stream",
     "text": [
      "<block>:1:39-51: info: atom does not occur in any rule head:\n",
      "  ap(4,7,#P0,s1)\n",
      "\n",
      "<block>:1:43-57: info: atom does not occur in any rule head:\n",
      "  ap(3,7,#P0,s2y6)\n",
      "\n",
      "<block>:1:45-60: info: atom does not occur in any rule head:\n",
      "  ap(4,7,#P0,empty)\n",
      "\n"
     ]
    },
    {
     "name": "stderr",
     "output_type": "stream",
     "text": [
      "<block>:1:39-51: info: atom does not occur in any rule head:\n",
      "  ap(4,7,#P0,s1)\n",
      "\n",
      "<block>:1:43-57: info: atom does not occur in any rule head:\n",
      "  ap(3,7,#P0,s2y6)\n",
      "\n",
      "<block>:1:45-60: info: atom does not occur in any rule head:\n",
      "  ap(4,7,#P0,empty)\n",
      "\n"
     ]
    },
    {
     "name": "stderr",
     "output_type": "stream",
     "text": [
      "<block>:1:39-51: info: atom does not occur in any rule head:\n",
      "  ap(1,7,#P0,s2)\n",
      "\n",
      "<block>:1:43-57: info: atom does not occur in any rule head:\n",
      "  ap(3,7,#P0,s2y6)\n",
      "\n",
      "<block>:1:45-60: info: atom does not occur in any rule head:\n",
      "  ap(4,7,#P0,empty)\n",
      "\n",
      "<block>:1:39-51: info: atom does not occur in any rule head:\n",
      "  ap(1,7,#P0,s2)\n",
      "\n",
      "<block>:1:43-57: info: atom does not occur in any rule head:\n",
      "  ap(3,7,#P0,s2y6)\n",
      "\n",
      "<block>:1:45-60: info: atom does not occur in any rule head:\n",
      "  ap(4,7,#P0,empty)\n",
      "\n"
     ]
    },
    {
     "name": "stderr",
     "output_type": "stream",
     "text": [
      "<block>:1:39-51: info: atom does not occur in any rule head:\n",
      "  ap(1,7,#P0,s2)\n",
      "\n",
      "<block>:1:43-57: info: atom does not occur in any rule head:\n",
      "  ap(3,7,#P0,s2y6)\n",
      "\n",
      "<block>:1:45-60: info: atom does not occur in any rule head:\n",
      "  ap(5,7,#P0,empty)\n",
      "\n"
     ]
    },
    {
     "name": "stderr",
     "output_type": "stream",
     "text": [
      "<block>:1:39-51: info: atom does not occur in any rule head:\n",
      "  ap(1,7,#P0,s2)\n",
      "\n",
      "<block>:1:43-57: info: atom does not occur in any rule head:\n",
      "  ap(3,7,#P0,s2y6)\n",
      "\n",
      "<block>:1:45-60: info: atom does not occur in any rule head:\n",
      "  ap(1,7,#P0,empty)\n",
      "\n"
     ]
    },
    {
     "name": "stderr",
     "output_type": "stream",
     "text": [
      "<block>:1:39-51: info: atom does not occur in any rule head:\n",
      "  ap(1,7,#P0,s2)\n",
      "\n",
      "<block>:1:43-57: info: atom does not occur in any rule head:\n",
      "  ap(3,7,#P0,s2y6)\n",
      "\n",
      "<block>:1:45-60: info: atom does not occur in any rule head:\n",
      "  ap(1,7,#P0,empty)\n",
      "\n"
     ]
    },
    {
     "name": "stderr",
     "output_type": "stream",
     "text": [
      "<block>:1:39-51: info: atom does not occur in any rule head:\n",
      "  ap(1,7,#P0,s2)\n",
      "\n",
      "<block>:1:43-57: info: atom does not occur in any rule head:\n",
      "  ap(3,7,#P0,s2y6)\n",
      "\n",
      "<block>:1:45-60: info: atom does not occur in any rule head:\n",
      "  ap(1,7,#P0,empty)\n",
      "\n"
     ]
    },
    {
     "name": "stderr",
     "output_type": "stream",
     "text": [
      "<block>:1:39-51: info: atom does not occur in any rule head:\n",
      "  ap(1,7,#P0,s2)\n",
      "\n",
      "<block>:1:43-57: info: atom does not occur in any rule head:\n",
      "  ap(3,7,#P0,s2y6)\n",
      "\n",
      "<block>:1:45-60: info: atom does not occur in any rule head:\n",
      "  ap(1,7,#P0,empty)\n",
      "\n"
     ]
    },
    {
     "name": "stderr",
     "output_type": "stream",
     "text": [
      "<block>:1:39-51: info: atom does not occur in any rule head:\n",
      "  ap(1,7,#P0,s2)\n",
      "\n",
      "<block>:1:43-57: info: atom does not occur in any rule head:\n",
      "  ap(3,7,#P0,s2y6)\n",
      "\n",
      "<block>:1:45-60: info: atom does not occur in any rule head:\n",
      "  ap(1,7,#P0,empty)\n",
      "\n"
     ]
    },
    {
     "name": "stderr",
     "output_type": "stream",
     "text": [
      "<block>:1:39-51: info: atom does not occur in any rule head:\n",
      "  ap(0,7,#P0,s4)\n",
      "\n",
      "<block>:1:43-57: info: atom does not occur in any rule head:\n",
      "  ap(3,7,#P0,s2y6)\n",
      "\n",
      "<block>:1:45-60: info: atom does not occur in any rule head:\n",
      "  ap(0,7,#P0,empty)\n",
      "\n"
     ]
    },
    {
     "name": "stderr",
     "output_type": "stream",
     "text": [
      "<block>:1:39-51: info: atom does not occur in any rule head:\n",
      "  ap(0,7,#P0,s4)\n",
      "\n",
      "<block>:1:43-57: info: atom does not occur in any rule head:\n",
      "  ap(3,7,#P0,s2y6)\n",
      "\n",
      "<block>:1:45-60: info: atom does not occur in any rule head:\n",
      "  ap(0,7,#P0,empty)\n",
      "\n"
     ]
    },
    {
     "name": "stderr",
     "output_type": "stream",
     "text": [
      "<block>:1:39-51: info: atom does not occur in any rule head:\n",
      "  ap(1,7,#P0,s2)\n",
      "\n",
      "<block>:1:43-57: info: atom does not occur in any rule head:\n",
      "  ap(3,7,#P0,s2y6)\n",
      "\n",
      "<block>:1:45-60: info: atom does not occur in any rule head:\n",
      "  ap(4,7,#P0,empty)\n",
      "\n"
     ]
    },
    {
     "name": "stderr",
     "output_type": "stream",
     "text": [
      "<block>:1:39-51: info: atom does not occur in any rule head:\n",
      "  ap(1,7,#P0,s2)\n",
      "\n",
      "<block>:1:43-57: info: atom does not occur in any rule head:\n",
      "  ap(3,7,#P0,s2y6)\n",
      "\n",
      "<block>:1:45-60: info: atom does not occur in any rule head:\n",
      "  ap(1,7,#P0,empty)\n",
      "\n"
     ]
    },
    {
     "name": "stderr",
     "output_type": "stream",
     "text": [
      "<block>:1:39-51: info: atom does not occur in any rule head:\n",
      "  ap(4,7,#P0,s1)\n",
      "\n",
      "<block>:1:43-57: info: atom does not occur in any rule head:\n",
      "  ap(3,7,#P0,s2y6)\n",
      "\n",
      "<block>:1:45-60: info: atom does not occur in any rule head:\n",
      "  ap(4,7,#P0,empty)\n",
      "\n"
     ]
    },
    {
     "name": "stderr",
     "output_type": "stream",
     "text": [
      "<block>:1:39-51: info: atom does not occur in any rule head:\n",
      "  ap(4,7,#P0,s1)\n",
      "\n",
      "<block>:1:43-57: info: atom does not occur in any rule head:\n",
      "  ap(3,7,#P0,s2y6)\n",
      "\n",
      "<block>:1:45-60: info: atom does not occur in any rule head:\n",
      "  ap(4,7,#P0,empty)\n",
      "\n"
     ]
    },
    {
     "name": "stderr",
     "output_type": "stream",
     "text": [
      "<block>:1:39-51: info: atom does not occur in any rule head:\n",
      "  ap(4,7,#P0,s1)\n",
      "\n",
      "<block>:1:43-57: info: atom does not occur in any rule head:\n",
      "  ap(3,7,#P0,s2y6)\n",
      "\n",
      "<block>:1:45-60: info: atom does not occur in any rule head:\n",
      "  ap(4,7,#P0,empty)\n",
      "\n"
     ]
    },
    {
     "name": "stderr",
     "output_type": "stream",
     "text": [
      "<block>:1:39-51: info: atom does not occur in any rule head:\n",
      "  ap(4,7,#P0,s1)\n",
      "\n",
      "<block>:1:43-57: info: atom does not occur in any rule head:\n",
      "  ap(3,7,#P0,s2y6)\n",
      "\n",
      "<block>:1:45-60: info: atom does not occur in any rule head:\n",
      "  ap(4,7,#P0,empty)\n",
      "\n"
     ]
    },
    {
     "name": "stderr",
     "output_type": "stream",
     "text": [
      "<block>:1:39-51: info: atom does not occur in any rule head:\n",
      "  ap(4,7,#P0,s1)\n",
      "\n",
      "<block>:1:43-57: info: atom does not occur in any rule head:\n",
      "  ap(3,7,#P0,s2y6)\n",
      "\n",
      "<block>:1:45-60: info: atom does not occur in any rule head:\n",
      "  ap(4,7,#P0,empty)\n",
      "\n",
      "<block>:1:39-51: info: atom does not occur in any rule head:\n",
      "  ap(4,7,#P0,s1)\n",
      "\n",
      "<block>:1:43-57: info: atom does not occur in any rule head:\n",
      "  ap(3,7,#P0,s2y6)\n",
      "\n",
      "<block>:1:45-60: info: atom does not occur in any rule head:\n",
      "  ap(4,7,#P0,empty)\n",
      "\n"
     ]
    },
    {
     "name": "stderr",
     "output_type": "stream",
     "text": [
      "<block>:1:39-51: info: atom does not occur in any rule head:\n",
      "  ap(4,7,#P0,s1)\n",
      "\n",
      "<block>:1:43-57: info: atom does not occur in any rule head:\n",
      "  ap(3,7,#P0,s2y6)\n",
      "\n",
      "<block>:1:45-60: info: atom does not occur in any rule head:\n",
      "  ap(4,7,#P0,empty)\n",
      "\n"
     ]
    },
    {
     "name": "stderr",
     "output_type": "stream",
     "text": [
      "<block>:1:39-51: info: atom does not occur in any rule head:\n",
      "  ap(4,7,#P0,s1)\n",
      "\n",
      "<block>:1:43-57: info: atom does not occur in any rule head:\n",
      "  ap(3,7,#P0,s2y6)\n",
      "\n",
      "<block>:1:45-60: info: atom does not occur in any rule head:\n",
      "  ap(4,7,#P0,empty)\n",
      "\n"
     ]
    },
    {
     "name": "stderr",
     "output_type": "stream",
     "text": [
      "<block>:1:39-51: info: atom does not occur in any rule head:\n",
      "  ap(2,7,#P0,s5)\n",
      "\n",
      "<block>:1:43-57: info: atom does not occur in any rule head:\n",
      "  ap(3,7,#P0,s2y6)\n",
      "\n",
      "<block>:1:45-60: info: atom does not occur in any rule head:\n",
      "  ap(2,7,#P0,empty)\n",
      "\n",
      "<block>:1:39-51: info: atom does not occur in any rule head:\n",
      "  ap(2,7,#P0,s5)\n",
      "\n",
      "<block>:1:43-57: info: atom does not occur in any rule head:\n",
      "  ap(3,7,#P0,s2y6)\n",
      "\n",
      "<block>:1:45-60: info: atom does not occur in any rule head:\n",
      "  ap(2,7,#P0,empty)\n",
      "\n"
     ]
    },
    {
     "name": "stderr",
     "output_type": "stream",
     "text": [
      "<block>:1:39-51: info: atom does not occur in any rule head:\n",
      "  ap(2,7,#P0,s5)\n",
      "\n",
      "<block>:1:43-57: info: atom does not occur in any rule head:\n",
      "  ap(3,7,#P0,s2y6)\n",
      "\n",
      "<block>:1:45-60: info: atom does not occur in any rule head:\n",
      "  ap(2,7,#P0,empty)\n",
      "\n"
     ]
    },
    {
     "name": "stderr",
     "output_type": "stream",
     "text": [
      "<block>:1:39-51: info: atom does not occur in any rule head:\n",
      "  ap(2,7,#P0,s5)\n",
      "\n",
      "<block>:1:43-57: info: atom does not occur in any rule head:\n",
      "  ap(3,7,#P0,s2y6)\n",
      "\n",
      "<block>:1:45-60: info: atom does not occur in any rule head:\n",
      "  ap(2,7,#P0,empty)\n",
      "\n"
     ]
    },
    {
     "name": "stderr",
     "output_type": "stream",
     "text": [
      "<block>:1:39-51: info: atom does not occur in any rule head:\n",
      "  ap(2,7,#P0,s5)\n",
      "\n",
      "<block>:1:43-57: info: atom does not occur in any rule head:\n",
      "  ap(3,7,#P0,s2y6)\n",
      "\n",
      "<block>:1:45-60: info: atom does not occur in any rule head:\n",
      "  ap(2,7,#P0,empty)\n",
      "\n"
     ]
    },
    {
     "name": "stderr",
     "output_type": "stream",
     "text": [
      "<block>:1:39-51: info: atom does not occur in any rule head:\n",
      "  ap(2,7,#P0,s5)\n",
      "\n",
      "<block>:1:43-57: info: atom does not occur in any rule head:\n",
      "  ap(3,7,#P0,s2y6)\n",
      "\n",
      "<block>:1:45-60: info: atom does not occur in any rule head:\n",
      "  ap(2,7,#P0,empty)\n",
      "\n"
     ]
    },
    {
     "name": "stderr",
     "output_type": "stream",
     "text": [
      "<block>:1:39-51: info: atom does not occur in any rule head:\n",
      "  ap(2,7,#P0,s5)\n",
      "\n",
      "<block>:1:43-57: info: atom does not occur in any rule head:\n",
      "  ap(3,7,#P0,s2y6)\n",
      "\n",
      "<block>:1:45-60: info: atom does not occur in any rule head:\n",
      "  ap(2,7,#P0,empty)\n",
      "\n"
     ]
    },
    {
     "name": "stderr",
     "output_type": "stream",
     "text": [
      "<block>:1:39-51: info: atom does not occur in any rule head:\n",
      "  ap(2,7,#P0,s5)\n",
      "\n",
      "<block>:1:43-57: info: atom does not occur in any rule head:\n",
      "  ap(3,7,#P0,s2y6)\n",
      "\n",
      "<block>:1:45-60: info: atom does not occur in any rule head:\n",
      "  ap(2,7,#P0,empty)\n",
      "\n"
     ]
    },
    {
     "name": "stderr",
     "output_type": "stream",
     "text": [
      "<block>:1:39-51: info: atom does not occur in any rule head:\n",
      "  ap(2,7,#P0,s5)\n",
      "\n",
      "<block>:1:43-57: info: atom does not occur in any rule head:\n",
      "  ap(3,7,#P0,s2y6)\n",
      "\n",
      "<block>:1:45-60: info: atom does not occur in any rule head:\n",
      "  ap(2,7,#P0,empty)\n",
      "\n"
     ]
    },
    {
     "name": "stderr",
     "output_type": "stream",
     "text": [
      "<block>:1:39-51: info: atom does not occur in any rule head:\n",
      "  ap(2,7,#P0,s5)\n",
      "\n",
      "<block>:1:43-57: info: atom does not occur in any rule head:\n",
      "  ap(3,7,#P0,s2y6)\n",
      "\n",
      "<block>:1:45-60: info: atom does not occur in any rule head:\n",
      "  ap(2,7,#P0,empty)\n",
      "\n"
     ]
    },
    {
     "name": "stderr",
     "output_type": "stream",
     "text": [
      "<block>:1:39-51: info: atom does not occur in any rule head:\n",
      "  ap(2,7,#P0,s5)\n",
      "\n",
      "<block>:1:43-57: info: atom does not occur in any rule head:\n",
      "  ap(3,7,#P0,s2y6)\n",
      "\n",
      "<block>:1:45-60: info: atom does not occur in any rule head:\n",
      "  ap(2,7,#P0,empty)\n",
      "\n"
     ]
    },
    {
     "name": "stderr",
     "output_type": "stream",
     "text": [
      "<block>:1:39-51: info: atom does not occur in any rule head:\n",
      "  ap(2,7,#P0,s5)\n",
      "\n",
      "<block>:1:43-57: info: atom does not occur in any rule head:\n",
      "  ap(3,7,#P0,s2y6)\n",
      "\n",
      "<block>:1:45-60: info: atom does not occur in any rule head:\n",
      "  ap(2,7,#P0,empty)\n",
      "\n"
     ]
    },
    {
     "name": "stderr",
     "output_type": "stream",
     "text": [
      "<block>:1:39-51: info: atom does not occur in any rule head:\n",
      "  ap(4,7,#P0,s5)\n",
      "\n",
      "<block>:1:43-57: info: atom does not occur in any rule head:\n",
      "  ap(3,7,#P0,s2y6)\n",
      "\n",
      "<block>:1:45-60: info: atom does not occur in any rule head:\n",
      "  ap(4,7,#P0,empty)\n",
      "\n"
     ]
    },
    {
     "name": "stderr",
     "output_type": "stream",
     "text": [
      "<block>:1:39-51: info: atom does not occur in any rule head:\n",
      "  ap(4,7,#P0,s5)\n",
      "\n",
      "<block>:1:43-57: info: atom does not occur in any rule head:\n",
      "  ap(3,7,#P0,s2y6)\n",
      "\n",
      "<block>:1:45-60: info: atom does not occur in any rule head:\n",
      "  ap(4,7,#P0,empty)\n",
      "\n"
     ]
    },
    {
     "name": "stderr",
     "output_type": "stream",
     "text": [
      "<block>:1:39-51: info: atom does not occur in any rule head:\n",
      "  ap(4,7,#P0,s5)\n",
      "\n",
      "<block>:1:43-57: info: atom does not occur in any rule head:\n",
      "  ap(3,7,#P0,s2y6)\n",
      "\n",
      "<block>:1:45-60: info: atom does not occur in any rule head:\n",
      "  ap(4,7,#P0,empty)\n",
      "\n"
     ]
    },
    {
     "name": "stderr",
     "output_type": "stream",
     "text": [
      "<block>:1:39-51: info: atom does not occur in any rule head:\n",
      "  ap(4,7,#P0,s5)\n",
      "\n",
      "<block>:1:43-57: info: atom does not occur in any rule head:\n",
      "  ap(3,7,#P0,s2y6)\n",
      "\n",
      "<block>:1:45-60: info: atom does not occur in any rule head:\n",
      "  ap(4,7,#P0,empty)\n",
      "\n"
     ]
    },
    {
     "name": "stderr",
     "output_type": "stream",
     "text": [
      "<block>:1:39-51: info: atom does not occur in any rule head:\n",
      "  ap(2,7,#P0,s5)\n",
      "\n",
      "<block>:1:43-57: info: atom does not occur in any rule head:\n",
      "  ap(3,7,#P0,s2y6)\n",
      "\n",
      "<block>:1:45-60: info: atom does not occur in any rule head:\n",
      "  ap(2,7,#P0,empty)\n",
      "\n"
     ]
    },
    {
     "name": "stderr",
     "output_type": "stream",
     "text": [
      "<block>:1:39-51: info: atom does not occur in any rule head:\n",
      "  ap(2,7,#P0,s5)\n",
      "\n",
      "<block>:1:43-57: info: atom does not occur in any rule head:\n",
      "  ap(3,7,#P0,s2y6)\n",
      "\n",
      "<block>:1:45-60: info: atom does not occur in any rule head:\n",
      "  ap(2,7,#P0,empty)\n",
      "\n"
     ]
    },
    {
     "name": "stderr",
     "output_type": "stream",
     "text": [
      "<block>:1:39-51: info: atom does not occur in any rule head:\n",
      "  ap(5,7,#P0,s2)\n",
      "\n",
      "<block>:1:43-57: info: atom does not occur in any rule head:\n",
      "  ap(3,7,#P0,s2y6)\n",
      "\n",
      "<block>:1:45-60: info: atom does not occur in any rule head:\n",
      "  ap(0,6,#P0,empty)\n",
      "\n"
     ]
    },
    {
     "name": "stderr",
     "output_type": "stream",
     "text": [
      "<block>:1:39-51: info: atom does not occur in any rule head:\n",
      "  ap(5,7,#P0,s2)\n",
      "\n",
      "<block>:1:43-57: info: atom does not occur in any rule head:\n",
      "  ap(3,7,#P0,s2y6)\n",
      "\n",
      "<block>:1:45-60: info: atom does not occur in any rule head:\n",
      "  ap(0,6,#P0,empty)\n",
      "\n"
     ]
    },
    {
     "name": "stderr",
     "output_type": "stream",
     "text": [
      "<block>:1:39-51: info: atom does not occur in any rule head:\n",
      "  ap(5,7,#P0,s2)\n",
      "\n",
      "<block>:1:43-57: info: atom does not occur in any rule head:\n",
      "  ap(3,7,#P0,s2y6)\n",
      "\n",
      "<block>:1:45-60: info: atom does not occur in any rule head:\n",
      "  ap(5,7,#P0,empty)\n",
      "\n"
     ]
    },
    {
     "name": "stderr",
     "output_type": "stream",
     "text": [
      "<block>:1:39-51: info: atom does not occur in any rule head:\n",
      "  ap(5,7,#P0,s2)\n",
      "\n",
      "<block>:1:43-57: info: atom does not occur in any rule head:\n",
      "  ap(3,7,#P0,s2y6)\n",
      "\n",
      "<block>:1:45-60: info: atom does not occur in any rule head:\n",
      "  ap(0,6,#P0,empty)\n",
      "\n"
     ]
    },
    {
     "name": "stderr",
     "output_type": "stream",
     "text": [
      "<block>:1:39-51: info: atom does not occur in any rule head:\n",
      "  ap(5,7,#P0,s2)\n",
      "\n",
      "<block>:1:43-57: info: atom does not occur in any rule head:\n",
      "  ap(3,7,#P0,s2y6)\n",
      "\n",
      "<block>:1:45-60: info: atom does not occur in any rule head:\n",
      "  ap(0,6,#P0,empty)\n",
      "\n"
     ]
    },
    {
     "name": "stderr",
     "output_type": "stream",
     "text": [
      "<block>:1:39-51: info: atom does not occur in any rule head:\n",
      "  ap(4,7,#P0,s1)\n",
      "\n",
      "<block>:1:43-57: info: atom does not occur in any rule head:\n",
      "  ap(3,7,#P0,s2y6)\n",
      "\n",
      "<block>:1:45-60: info: atom does not occur in any rule head:\n",
      "  ap(4,7,#P0,empty)\n",
      "\n",
      "<block>:1:39-51: info: atom does not occur in any rule head:\n",
      "  ap(4,7,#P0,s1)\n",
      "\n",
      "<block>:1:43-57: info: atom does not occur in any rule head:\n",
      "  ap(3,7,#P0,s2y6)\n",
      "\n",
      "<block>:1:45-60: info: atom does not occur in any rule head:\n",
      "  ap(4,7,#P0,empty)\n",
      "\n"
     ]
    },
    {
     "name": "stderr",
     "output_type": "stream",
     "text": [
      "<block>:1:39-51: info: atom does not occur in any rule head:\n",
      "  ap(4,7,#P0,s1)\n",
      "\n",
      "<block>:1:43-57: info: atom does not occur in any rule head:\n",
      "  ap(3,7,#P0,s2y6)\n",
      "\n",
      "<block>:1:45-60: info: atom does not occur in any rule head:\n",
      "  ap(4,7,#P0,empty)\n",
      "\n",
      "<block>:1:39-51: info: atom does not occur in any rule head:\n",
      "  ap(4,7,#P0,s1)\n",
      "\n",
      "<block>:1:43-57: info: atom does not occur in any rule head:\n",
      "  ap(3,7,#P0,s2y6)\n",
      "\n",
      "<block>:1:45-60: info: atom does not occur in any rule head:\n",
      "  ap(4,7,#P0,empty)\n",
      "\n"
     ]
    },
    {
     "name": "stderr",
     "output_type": "stream",
     "text": [
      "<block>:1:39-51: info: atom does not occur in any rule head:\n",
      "  ap(4,7,#P0,s1)\n",
      "\n",
      "<block>:1:43-57: info: atom does not occur in any rule head:\n",
      "  ap(3,7,#P0,s2y6)\n",
      "\n",
      "<block>:1:45-60: info: atom does not occur in any rule head:\n",
      "  ap(4,7,#P0,empty)\n",
      "\n",
      "<block>:1:39-51: info: atom does not occur in any rule head:\n",
      "  ap(4,7,#P0,s1)\n",
      "\n",
      "<block>:1:43-57: info: atom does not occur in any rule head:\n",
      "  ap(3,7,#P0,s2y6)\n",
      "\n",
      "<block>:1:45-60: info: atom does not occur in any rule head:\n",
      "  ap(4,7,#P0,empty)\n",
      "\n"
     ]
    },
    {
     "name": "stderr",
     "output_type": "stream",
     "text": [
      "<block>:1:39-51: info: atom does not occur in any rule head:\n",
      "  ap(4,7,#P0,s1)\n",
      "\n",
      "<block>:1:43-57: info: atom does not occur in any rule head:\n",
      "  ap(3,7,#P0,s2y6)\n",
      "\n",
      "<block>:1:45-60: info: atom does not occur in any rule head:\n",
      "  ap(4,7,#P0,empty)\n",
      "\n"
     ]
    },
    {
     "name": "stderr",
     "output_type": "stream",
     "text": [
      "<block>:1:39-51: info: atom does not occur in any rule head:\n",
      "  ap(4,7,#P0,s1)\n",
      "\n",
      "<block>:1:43-57: info: atom does not occur in any rule head:\n",
      "  ap(3,7,#P0,s2y6)\n",
      "\n",
      "<block>:1:45-60: info: atom does not occur in any rule head:\n",
      "  ap(4,7,#P0,empty)\n",
      "\n"
     ]
    },
    {
     "name": "stderr",
     "output_type": "stream",
     "text": [
      "<block>:1:39-51: info: atom does not occur in any rule head:\n",
      "  ap(4,7,#P0,s1)\n",
      "\n",
      "<block>:1:43-57: info: atom does not occur in any rule head:\n",
      "  ap(3,7,#P0,s2y6)\n",
      "\n",
      "<block>:1:45-60: info: atom does not occur in any rule head:\n",
      "  ap(4,7,#P0,empty)\n",
      "\n"
     ]
    },
    {
     "name": "stderr",
     "output_type": "stream",
     "text": [
      "<block>:1:39-51: info: atom does not occur in any rule head:\n",
      "  ap(4,7,#P0,s1)\n",
      "\n",
      "<block>:1:43-57: info: atom does not occur in any rule head:\n",
      "  ap(3,7,#P0,s2y6)\n",
      "\n",
      "<block>:1:45-60: info: atom does not occur in any rule head:\n",
      "  ap(4,7,#P0,empty)\n",
      "\n"
     ]
    },
    {
     "name": "stderr",
     "output_type": "stream",
     "text": [
      "<block>:1:39-51: info: atom does not occur in any rule head:\n",
      "  ap(4,7,#P0,s1)\n",
      "\n",
      "<block>:1:43-57: info: atom does not occur in any rule head:\n",
      "  ap(3,7,#P0,s2y6)\n",
      "\n",
      "<block>:1:45-60: info: atom does not occur in any rule head:\n",
      "  ap(4,7,#P0,empty)\n",
      "\n"
     ]
    },
    {
     "name": "stderr",
     "output_type": "stream",
     "text": [
      "<block>:1:39-51: info: atom does not occur in any rule head:\n",
      "  ap(4,7,#P0,s1)\n",
      "\n",
      "<block>:1:43-57: info: atom does not occur in any rule head:\n",
      "  ap(3,7,#P0,s2y6)\n",
      "\n",
      "<block>:1:45-60: info: atom does not occur in any rule head:\n",
      "  ap(4,7,#P0,empty)\n",
      "\n"
     ]
    },
    {
     "name": "stderr",
     "output_type": "stream",
     "text": [
      "<block>:1:39-51: info: atom does not occur in any rule head:\n",
      "  ap(4,7,#P0,s1)\n",
      "\n",
      "<block>:1:43-57: info: atom does not occur in any rule head:\n",
      "  ap(3,7,#P0,s2y6)\n",
      "\n",
      "<block>:1:45-60: info: atom does not occur in any rule head:\n",
      "  ap(4,7,#P0,empty)\n",
      "\n"
     ]
    },
    {
     "name": "stderr",
     "output_type": "stream",
     "text": [
      "<block>:1:39-51: info: atom does not occur in any rule head:\n",
      "  ap(4,7,#P0,s1)\n",
      "\n",
      "<block>:1:43-57: info: atom does not occur in any rule head:\n",
      "  ap(3,7,#P0,s2y6)\n",
      "\n",
      "<block>:1:45-60: info: atom does not occur in any rule head:\n",
      "  ap(4,7,#P0,empty)\n",
      "\n"
     ]
    },
    {
     "name": "stderr",
     "output_type": "stream",
     "text": [
      "<block>:1:39-51: info: atom does not occur in any rule head:\n",
      "  ap(2,7,#P0,s5)\n",
      "\n",
      "<block>:1:43-57: info: atom does not occur in any rule head:\n",
      "  ap(4,7,#P0,s3y5)\n",
      "\n",
      "<block>:1:45-60: info: atom does not occur in any rule head:\n",
      "  ap(2,7,#P0,empty)\n",
      "\n"
     ]
    },
    {
     "name": "stderr",
     "output_type": "stream",
     "text": [
      "<block>:1:39-51: info: atom does not occur in any rule head:\n",
      "  ap(2,7,#P0,s5)\n",
      "\n",
      "<block>:1:43-57: info: atom does not occur in any rule head:\n",
      "  ap(4,7,#P0,s3y5)\n",
      "\n",
      "<block>:1:45-60: info: atom does not occur in any rule head:\n",
      "  ap(2,7,#P0,empty)\n",
      "\n"
     ]
    },
    {
     "name": "stderr",
     "output_type": "stream",
     "text": [
      "<block>:1:39-51: info: atom does not occur in any rule head:\n",
      "  ap(2,7,#P0,s5)\n",
      "\n",
      "<block>:1:43-57: info: atom does not occur in any rule head:\n",
      "  ap(4,7,#P0,s3y5)\n",
      "\n",
      "<block>:1:45-60: info: atom does not occur in any rule head:\n",
      "  ap(2,7,#P0,empty)\n",
      "\n",
      "<block>:1:39-51: info: atom does not occur in any rule head:\n",
      "  ap(2,7,#P0,s5)\n",
      "\n",
      "<block>:1:43-57: info: atom does not occur in any rule head:\n",
      "  ap(4,7,#P0,s3y5)\n",
      "\n",
      "<block>:1:45-60: info: atom does not occur in any rule head:\n",
      "  ap(2,7,#P0,empty)\n",
      "\n"
     ]
    },
    {
     "name": "stderr",
     "output_type": "stream",
     "text": [
      "<block>:1:39-51: info: atom does not occur in any rule head:\n",
      "  ap(5,7,#P0,s2)\n",
      "\n",
      "<block>:1:43-57: info: atom does not occur in any rule head:\n",
      "  ap(3,7,#P0,s2y6)\n",
      "\n",
      "<block>:1:45-60: info: atom does not occur in any rule head:\n",
      "  ap(5,7,#P0,empty)\n",
      "\n",
      "<block>:1:39-51: info: atom does not occur in any rule head:\n",
      "  ap(5,7,#P0,s2)\n",
      "\n",
      "<block>:1:43-57: info: atom does not occur in any rule head:\n",
      "  ap(3,7,#P0,s2y6)\n",
      "\n",
      "<block>:1:45-60: info: atom does not occur in any rule head:\n",
      "  ap(5,7,#P0,empty)\n",
      "\n"
     ]
    },
    {
     "name": "stderr",
     "output_type": "stream",
     "text": [
      "<block>:1:39-51: info: atom does not occur in any rule head:\n",
      "  ap(5,7,#P0,s2)\n",
      "\n",
      "<block>:1:43-57: info: atom does not occur in any rule head:\n",
      "  ap(3,7,#P0,s2y6)\n",
      "\n",
      "<block>:1:45-60: info: atom does not occur in any rule head:\n",
      "  ap(5,7,#P0,empty)\n",
      "\n"
     ]
    },
    {
     "name": "stderr",
     "output_type": "stream",
     "text": [
      "<block>:1:39-51: info: atom does not occur in any rule head:\n",
      "  ap(5,7,#P0,s2)\n",
      "\n",
      "<block>:1:43-57: info: atom does not occur in any rule head:\n",
      "  ap(3,7,#P0,s2y6)\n",
      "\n",
      "<block>:1:45-60: info: atom does not occur in any rule head:\n",
      "  ap(5,7,#P0,empty)\n",
      "\n",
      "<block>:1:39-51: info: atom does not occur in any rule head:\n",
      "  ap(5,7,#P0,s2)\n",
      "\n",
      "<block>:1:43-57: info: atom does not occur in any rule head:\n",
      "  ap(3,7,#P0,s2y6)\n",
      "\n",
      "<block>:1:45-60: info: atom does not occur in any rule head:\n",
      "  ap(5,7,#P0,empty)\n",
      "\n"
     ]
    },
    {
     "name": "stderr",
     "output_type": "stream",
     "text": [
      "<block>:1:39-51: info: atom does not occur in any rule head:\n",
      "  ap(5,7,#P0,s1)\n",
      "\n",
      "<block>:1:43-57: info: atom does not occur in any rule head:\n",
      "  ap(3,7,#P0,s2y6)\n",
      "\n",
      "<block>:1:45-60: info: atom does not occur in any rule head:\n",
      "  ap(5,7,#P0,empty)\n",
      "\n"
     ]
    },
    {
     "name": "stderr",
     "output_type": "stream",
     "text": [
      "<block>:1:39-51: info: atom does not occur in any rule head:\n",
      "  ap(5,7,#P0,s2)\n",
      "\n",
      "<block>:1:43-57: info: atom does not occur in any rule head:\n",
      "  ap(3,7,#P0,s2y6)\n",
      "\n",
      "<block>:1:45-60: info: atom does not occur in any rule head:\n",
      "  ap(5,7,#P0,empty)\n",
      "\n"
     ]
    },
    {
     "name": "stderr",
     "output_type": "stream",
     "text": [
      "<block>:1:39-51: info: atom does not occur in any rule head:\n",
      "  ap(5,7,#P0,s2)\n",
      "\n",
      "<block>:1:43-57: info: atom does not occur in any rule head:\n",
      "  ap(3,7,#P0,s2y6)\n",
      "\n",
      "<block>:1:45-60: info: atom does not occur in any rule head:\n",
      "  ap(5,7,#P0,empty)\n",
      "\n"
     ]
    },
    {
     "name": "stderr",
     "output_type": "stream",
     "text": [
      "<block>:1:39-51: info: atom does not occur in any rule head:\n",
      "  ap(5,7,#P0,s2)\n",
      "\n",
      "<block>:1:43-57: info: atom does not occur in any rule head:\n",
      "  ap(3,7,#P0,s2y6)\n",
      "\n",
      "<block>:1:45-60: info: atom does not occur in any rule head:\n",
      "  ap(5,7,#P0,empty)\n",
      "\n"
     ]
    },
    {
     "name": "stderr",
     "output_type": "stream",
     "text": [
      "<block>:1:39-51: info: atom does not occur in any rule head:\n",
      "  ap(5,7,#P0,s1)\n",
      "\n",
      "<block>:1:43-57: info: atom does not occur in any rule head:\n",
      "  ap(3,7,#P0,s2y6)\n",
      "\n",
      "<block>:1:45-60: info: atom does not occur in any rule head:\n",
      "  ap(5,7,#P0,empty)\n",
      "\n"
     ]
    },
    {
     "name": "stderr",
     "output_type": "stream",
     "text": [
      "<block>:1:39-51: info: atom does not occur in any rule head:\n",
      "  ap(5,7,#P0,s1)\n",
      "\n",
      "<block>:1:43-57: info: atom does not occur in any rule head:\n",
      "  ap(3,7,#P0,s2y6)\n",
      "\n",
      "<block>:1:45-60: info: atom does not occur in any rule head:\n",
      "  ap(5,7,#P0,empty)\n",
      "\n"
     ]
    },
    {
     "name": "stderr",
     "output_type": "stream",
     "text": [
      "<block>:1:39-51: info: atom does not occur in any rule head:\n",
      "  ap(5,7,#P0,s2)\n",
      "\n",
      "<block>:1:43-57: info: atom does not occur in any rule head:\n",
      "  ap(3,7,#P0,s2y6)\n",
      "\n",
      "<block>:1:45-60: info: atom does not occur in any rule head:\n",
      "  ap(5,7,#P0,empty)\n",
      "\n"
     ]
    },
    {
     "name": "stderr",
     "output_type": "stream",
     "text": [
      "<block>:1:39-51: info: atom does not occur in any rule head:\n",
      "  ap(2,7,#P0,s5)\n",
      "\n",
      "<block>:1:43-57: info: atom does not occur in any rule head:\n",
      "  ap(3,7,#P0,s2y6)\n",
      "\n",
      "<block>:1:45-60: info: atom does not occur in any rule head:\n",
      "  ap(2,7,#P0,empty)\n",
      "\n"
     ]
    },
    {
     "name": "stderr",
     "output_type": "stream",
     "text": [
      "<block>:1:39-51: info: atom does not occur in any rule head:\n",
      "  ap(2,7,#P0,s5)\n",
      "\n",
      "<block>:1:43-57: info: atom does not occur in any rule head:\n",
      "  ap(3,7,#P0,s2y6)\n",
      "\n",
      "<block>:1:45-60: info: atom does not occur in any rule head:\n",
      "  ap(2,7,#P0,empty)\n",
      "\n"
     ]
    },
    {
     "name": "stderr",
     "output_type": "stream",
     "text": [
      "<block>:1:39-51: info: atom does not occur in any rule head:\n",
      "  ap(2,7,#P0,s5)\n",
      "\n",
      "<block>:1:43-57: info: atom does not occur in any rule head:\n",
      "  ap(3,7,#P0,s2y6)\n",
      "\n",
      "<block>:1:45-60: info: atom does not occur in any rule head:\n",
      "  ap(2,7,#P0,empty)\n",
      "\n"
     ]
    },
    {
     "name": "stderr",
     "output_type": "stream",
     "text": [
      "<block>:1:39-51: info: atom does not occur in any rule head:\n",
      "  ap(2,7,#P0,s5)\n",
      "\n",
      "<block>:1:43-57: info: atom does not occur in any rule head:\n",
      "  ap(3,7,#P0,s2y6)\n",
      "\n",
      "<block>:1:45-60: info: atom does not occur in any rule head:\n",
      "  ap(2,7,#P0,empty)\n",
      "\n"
     ]
    },
    {
     "name": "stderr",
     "output_type": "stream",
     "text": [
      "<block>:1:39-51: info: atom does not occur in any rule head:\n",
      "  ap(2,7,#P0,s5)\n",
      "\n",
      "<block>:1:43-57: info: atom does not occur in any rule head:\n",
      "  ap(3,7,#P0,s2y6)\n",
      "\n",
      "<block>:1:45-60: info: atom does not occur in any rule head:\n",
      "  ap(2,7,#P0,empty)\n",
      "\n"
     ]
    },
    {
     "name": "stderr",
     "output_type": "stream",
     "text": [
      "<block>:1:39-51: info: atom does not occur in any rule head:\n",
      "  ap(2,7,#P0,s5)\n",
      "\n",
      "<block>:1:43-57: info: atom does not occur in any rule head:\n",
      "  ap(3,7,#P0,s2y6)\n",
      "\n",
      "<block>:1:45-60: info: atom does not occur in any rule head:\n",
      "  ap(2,7,#P0,empty)\n",
      "\n"
     ]
    },
    {
     "name": "stderr",
     "output_type": "stream",
     "text": [
      "<block>:1:39-51: info: atom does not occur in any rule head:\n",
      "  ap(2,7,#P0,s0)\n",
      "\n",
      "<block>:1:43-57: info: atom does not occur in any rule head:\n",
      "  ap(3,7,#P0,s2y6)\n",
      "\n",
      "<block>:1:45-60: info: atom does not occur in any rule head:\n",
      "  ap(2,7,#P0,empty)\n",
      "\n"
     ]
    },
    {
     "name": "stderr",
     "output_type": "stream",
     "text": [
      "<block>:1:39-51: info: atom does not occur in any rule head:\n",
      "  ap(2,7,#P0,s0)\n",
      "\n",
      "<block>:1:43-57: info: atom does not occur in any rule head:\n",
      "  ap(3,7,#P0,s2y6)\n",
      "\n",
      "<block>:1:45-60: info: atom does not occur in any rule head:\n",
      "  ap(2,7,#P0,empty)\n",
      "\n"
     ]
    },
    {
     "name": "stderr",
     "output_type": "stream",
     "text": [
      "<block>:1:39-51: info: atom does not occur in any rule head:\n",
      "  ap(5,7,#P0,s2)\n",
      "\n",
      "<block>:1:43-57: info: atom does not occur in any rule head:\n",
      "  ap(3,7,#P0,s2y6)\n",
      "\n",
      "<block>:1:45-60: info: atom does not occur in any rule head:\n",
      "  ap(5,7,#P0,empty)\n",
      "\n"
     ]
    },
    {
     "name": "stderr",
     "output_type": "stream",
     "text": [
      "<block>:1:39-51: info: atom does not occur in any rule head:\n",
      "  ap(5,7,#P0,s2)\n",
      "\n",
      "<block>:1:43-57: info: atom does not occur in any rule head:\n",
      "  ap(3,7,#P0,s2y6)\n",
      "\n",
      "<block>:1:45-60: info: atom does not occur in any rule head:\n",
      "  ap(5,7,#P0,empty)\n",
      "\n"
     ]
    },
    {
     "name": "stderr",
     "output_type": "stream",
     "text": [
      "<block>:1:39-51: info: atom does not occur in any rule head:\n",
      "  ap(4,7,#P0,s1)\n",
      "\n",
      "<block>:1:43-57: info: atom does not occur in any rule head:\n",
      "  ap(3,7,#P0,s2y6)\n",
      "\n",
      "<block>:1:45-60: info: atom does not occur in any rule head:\n",
      "  ap(4,7,#P0,empty)\n",
      "\n"
     ]
    },
    {
     "name": "stderr",
     "output_type": "stream",
     "text": [
      "<block>:1:39-51: info: atom does not occur in any rule head:\n",
      "  ap(4,7,#P0,s1)\n",
      "\n",
      "<block>:1:43-57: info: atom does not occur in any rule head:\n",
      "  ap(3,7,#P0,s2y6)\n",
      "\n",
      "<block>:1:45-60: info: atom does not occur in any rule head:\n",
      "  ap(4,7,#P0,empty)\n",
      "\n"
     ]
    },
    {
     "name": "stderr",
     "output_type": "stream",
     "text": [
      "<block>:1:39-51: info: atom does not occur in any rule head:\n",
      "  ap(4,7,#P0,s1)\n",
      "\n",
      "<block>:1:43-57: info: atom does not occur in any rule head:\n",
      "  ap(3,7,#P0,s2y6)\n",
      "\n",
      "<block>:1:45-60: info: atom does not occur in any rule head:\n",
      "  ap(4,7,#P0,empty)\n",
      "\n"
     ]
    },
    {
     "name": "stderr",
     "output_type": "stream",
     "text": [
      "<block>:1:39-51: info: atom does not occur in any rule head:\n",
      "  ap(4,7,#P0,s1)\n",
      "\n",
      "<block>:1:43-57: info: atom does not occur in any rule head:\n",
      "  ap(3,7,#P0,s2y6)\n",
      "\n",
      "<block>:1:45-60: info: atom does not occur in any rule head:\n",
      "  ap(4,7,#P0,empty)\n",
      "\n"
     ]
    },
    {
     "name": "stderr",
     "output_type": "stream",
     "text": [
      "<block>:1:39-51: info: atom does not occur in any rule head:\n",
      "  ap(4,7,#P0,s1)\n",
      "\n",
      "<block>:1:43-57: info: atom does not occur in any rule head:\n",
      "  ap(3,7,#P0,s2y6)\n",
      "\n",
      "<block>:1:45-60: info: atom does not occur in any rule head:\n",
      "  ap(4,7,#P0,empty)\n",
      "\n"
     ]
    },
    {
     "name": "stderr",
     "output_type": "stream",
     "text": [
      "<block>:1:39-51: info: atom does not occur in any rule head:\n",
      "  ap(4,7,#P0,s1)\n",
      "\n",
      "<block>:1:43-57: info: atom does not occur in any rule head:\n",
      "  ap(3,7,#P0,s2y6)\n",
      "\n",
      "<block>:1:45-60: info: atom does not occur in any rule head:\n",
      "  ap(4,7,#P0,empty)\n",
      "\n"
     ]
    },
    {
     "name": "stderr",
     "output_type": "stream",
     "text": [
      "<block>:1:39-51: info: atom does not occur in any rule head:\n",
      "  ap(4,7,#P0,s1)\n",
      "\n",
      "<block>:1:43-57: info: atom does not occur in any rule head:\n",
      "  ap(3,7,#P0,s2y6)\n",
      "\n",
      "<block>:1:45-60: info: atom does not occur in any rule head:\n",
      "  ap(4,7,#P0,empty)\n",
      "\n"
     ]
    },
    {
     "name": "stderr",
     "output_type": "stream",
     "text": [
      "<block>:1:39-51: info: atom does not occur in any rule head:\n",
      "  ap(4,7,#P0,s1)\n",
      "\n",
      "<block>:1:43-57: info: atom does not occur in any rule head:\n",
      "  ap(3,7,#P0,s2y6)\n",
      "\n",
      "<block>:1:45-60: info: atom does not occur in any rule head:\n",
      "  ap(4,7,#P0,empty)\n",
      "\n"
     ]
    },
    {
     "name": "stderr",
     "output_type": "stream",
     "text": [
      "<block>:1:39-51: info: atom does not occur in any rule head:\n",
      "  ap(4,7,#P0,s1)\n",
      "\n",
      "<block>:1:43-57: info: atom does not occur in any rule head:\n",
      "  ap(3,7,#P0,s2y6)\n",
      "\n",
      "<block>:1:45-60: info: atom does not occur in any rule head:\n",
      "  ap(4,7,#P0,empty)\n",
      "\n",
      "<block>:1:39-51: info: atom does not occur in any rule head:\n",
      "  ap(4,7,#P0,s1)\n",
      "\n",
      "<block>:1:43-57: info: atom does not occur in any rule head:\n",
      "  ap(3,7,#P0,s2y6)\n",
      "\n",
      "<block>:1:45-60: info: atom does not occur in any rule head:\n",
      "  ap(4,7,#P0,empty)\n",
      "\n"
     ]
    },
    {
     "name": "stderr",
     "output_type": "stream",
     "text": [
      "<block>:1:39-51: info: atom does not occur in any rule head:\n",
      "  ap(4,7,#P0,s1)\n",
      "\n",
      "<block>:1:43-57: info: atom does not occur in any rule head:\n",
      "  ap(3,7,#P0,s2y6)\n",
      "\n",
      "<block>:1:45-60: info: atom does not occur in any rule head:\n",
      "  ap(4,7,#P0,empty)\n",
      "\n"
     ]
    },
    {
     "name": "stderr",
     "output_type": "stream",
     "text": [
      "<block>:1:39-51: info: atom does not occur in any rule head:\n",
      "  ap(4,7,#P0,s1)\n",
      "\n",
      "<block>:1:43-57: info: atom does not occur in any rule head:\n",
      "  ap(3,7,#P0,s2y4)\n",
      "\n",
      "<block>:1:45-60: info: atom does not occur in any rule head:\n",
      "  ap(4,7,#P0,empty)\n",
      "\n"
     ]
    },
    {
     "name": "stderr",
     "output_type": "stream",
     "text": [
      "<block>:1:39-51: info: atom does not occur in any rule head:\n",
      "  ap(4,7,#P0,s1)\n",
      "\n",
      "<block>:1:43-57: info: atom does not occur in any rule head:\n",
      "  ap(3,7,#P0,s2y6)\n",
      "\n",
      "<block>:1:45-60: info: atom does not occur in any rule head:\n",
      "  ap(4,7,#P0,empty)\n",
      "\n"
     ]
    },
    {
     "name": "stderr",
     "output_type": "stream",
     "text": [
      "<block>:1:39-51: info: atom does not occur in any rule head:\n",
      "  ap(2,7,#P0,s5)\n",
      "\n",
      "<block>:1:43-57: info: atom does not occur in any rule head:\n",
      "  ap(5,7,#P0,s1y4)\n",
      "\n",
      "<block>:1:45-60: info: atom does not occur in any rule head:\n",
      "  ap(2,7,#P0,empty)\n",
      "\n"
     ]
    },
    {
     "name": "stderr",
     "output_type": "stream",
     "text": [
      "<block>:1:39-51: info: atom does not occur in any rule head:\n",
      "  ap(2,7,#P0,s5)\n",
      "\n",
      "<block>:1:43-57: info: atom does not occur in any rule head:\n",
      "  ap(5,7,#P0,s1y4)\n",
      "\n",
      "<block>:1:45-60: info: atom does not occur in any rule head:\n",
      "  ap(2,7,#P0,empty)\n",
      "\n"
     ]
    },
    {
     "name": "stderr",
     "output_type": "stream",
     "text": [
      "<block>:1:39-51: info: atom does not occur in any rule head:\n",
      "  ap(0,6,#P0,s2)\n",
      "\n",
      "<block>:1:45-60: info: atom does not occur in any rule head:\n",
      "  ap(0,6,#P0,empty)\n",
      "\n",
      "<block>:1:39-51: info: atom does not occur in any rule head:\n",
      "  ap(0,6,#P0,s2)\n",
      "\n",
      "<block>:1:45-60: info: atom does not occur in any rule head:\n",
      "  ap(0,6,#P0,empty)\n",
      "\n"
     ]
    },
    {
     "name": "stderr",
     "output_type": "stream",
     "text": [
      "<block>:1:39-51: info: atom does not occur in any rule head:\n",
      "  ap(2,7,#P0,s5)\n",
      "\n",
      "<block>:1:43-57: info: atom does not occur in any rule head:\n",
      "  ap(5,7,#P0,s1y4)\n",
      "\n",
      "<block>:1:45-60: info: atom does not occur in any rule head:\n",
      "  ap(2,7,#P0,empty)\n",
      "\n",
      "<block>:1:39-51: info: atom does not occur in any rule head:\n",
      "  ap(0,6,#P0,s2)\n",
      "\n",
      "<block>:1:45-60: info: atom does not occur in any rule head:\n",
      "  ap(0,6,#P0,empty)\n",
      "\n"
     ]
    },
    {
     "name": "stderr",
     "output_type": "stream",
     "text": [
      "<block>:1:39-51: info: atom does not occur in any rule head:\n",
      "  ap(0,6,#P0,s2)\n",
      "\n",
      "<block>:1:45-60: info: atom does not occur in any rule head:\n",
      "  ap(0,6,#P0,empty)\n",
      "\n"
     ]
    },
    {
     "name": "stderr",
     "output_type": "stream",
     "text": [
      "<block>:1:39-51: info: atom does not occur in any rule head:\n",
      "  ap(1,7,#P0,s2)\n",
      "\n",
      "<block>:1:43-57: info: atom does not occur in any rule head:\n",
      "  ap(3,7,#P0,s2y5)\n",
      "\n",
      "<block>:1:45-60: info: atom does not occur in any rule head:\n",
      "  ap(4,7,#P0,empty)\n",
      "\n"
     ]
    },
    {
     "name": "stderr",
     "output_type": "stream",
     "text": [
      "<block>:1:39-51: info: atom does not occur in any rule head:\n",
      "  ap(1,7,#P0,s2)\n",
      "\n",
      "<block>:1:43-57: info: atom does not occur in any rule head:\n",
      "  ap(3,7,#P0,s2y5)\n",
      "\n",
      "<block>:1:45-60: info: atom does not occur in any rule head:\n",
      "  ap(4,7,#P0,empty)\n",
      "\n",
      "<block>:1:39-51: info: atom does not occur in any rule head:\n",
      "  ap(1,7,#P0,s2)\n",
      "\n",
      "<block>:1:43-57: info: atom does not occur in any rule head:\n",
      "  ap(3,7,#P0,s2y5)\n",
      "\n",
      "<block>:1:45-60: info: atom does not occur in any rule head:\n",
      "  ap(4,7,#P0,empty)\n",
      "\n"
     ]
    },
    {
     "name": "stderr",
     "output_type": "stream",
     "text": [
      "<block>:1:39-51: info: atom does not occur in any rule head:\n",
      "  ap(1,7,#P0,s2)\n",
      "\n",
      "<block>:1:43-57: info: atom does not occur in any rule head:\n",
      "  ap(3,7,#P0,s2y5)\n",
      "\n",
      "<block>:1:45-60: info: atom does not occur in any rule head:\n",
      "  ap(4,7,#P0,empty)\n",
      "\n"
     ]
    },
    {
     "name": "stderr",
     "output_type": "stream",
     "text": [
      "<block>:1:39-51: info: atom does not occur in any rule head:\n",
      "  ap(1,7,#P0,s2)\n",
      "\n",
      "<block>:1:43-57: info: atom does not occur in any rule head:\n",
      "  ap(3,7,#P0,s2y5)\n",
      "\n",
      "<block>:1:45-60: info: atom does not occur in any rule head:\n",
      "  ap(4,7,#P0,empty)\n",
      "\n"
     ]
    },
    {
     "name": "stderr",
     "output_type": "stream",
     "text": [
      "<block>:1:39-51: info: atom does not occur in any rule head:\n",
      "  ap(1,7,#P0,s2)\n",
      "\n",
      "<block>:1:43-57: info: atom does not occur in any rule head:\n",
      "  ap(3,7,#P0,s2y5)\n",
      "\n",
      "<block>:1:45-60: info: atom does not occur in any rule head:\n",
      "  ap(4,7,#P0,empty)\n",
      "\n",
      "<block>:1:39-51: info: atom does not occur in any rule head:\n",
      "  ap(1,7,#P0,s2)\n",
      "\n",
      "<block>:1:43-57: info: atom does not occur in any rule head:\n",
      "  ap(3,7,#P0,s2y5)\n",
      "\n",
      "<block>:1:45-60: info: atom does not occur in any rule head:\n",
      "  ap(4,7,#P0,empty)\n",
      "\n"
     ]
    },
    {
     "name": "stderr",
     "output_type": "stream",
     "text": [
      "<block>:1:39-51: info: atom does not occur in any rule head:\n",
      "  ap(1,7,#P0,s2)\n",
      "\n",
      "<block>:1:43-57: info: atom does not occur in any rule head:\n",
      "  ap(3,7,#P0,s2y5)\n",
      "\n",
      "<block>:1:45-60: info: atom does not occur in any rule head:\n",
      "  ap(1,7,#P0,empty)\n",
      "\n"
     ]
    },
    {
     "name": "stderr",
     "output_type": "stream",
     "text": [
      "<block>:1:39-51: info: atom does not occur in any rule head:\n",
      "  ap(1,7,#P0,s2)\n",
      "\n",
      "<block>:1:43-57: info: atom does not occur in any rule head:\n",
      "  ap(3,7,#P0,s2y5)\n",
      "\n",
      "<block>:1:45-60: info: atom does not occur in any rule head:\n",
      "  ap(1,7,#P0,empty)\n",
      "\n"
     ]
    },
    {
     "name": "stderr",
     "output_type": "stream",
     "text": [
      "<block>:1:39-51: info: atom does not occur in any rule head:\n",
      "  ap(1,7,#P0,s2)\n",
      "\n",
      "<block>:1:43-57: info: atom does not occur in any rule head:\n",
      "  ap(3,7,#P0,s2y5)\n",
      "\n",
      "<block>:1:45-60: info: atom does not occur in any rule head:\n",
      "  ap(1,7,#P0,empty)\n",
      "\n"
     ]
    },
    {
     "name": "stderr",
     "output_type": "stream",
     "text": [
      "<block>:1:39-51: info: atom does not occur in any rule head:\n",
      "  ap(1,7,#P0,s2)\n",
      "\n",
      "<block>:1:43-57: info: atom does not occur in any rule head:\n",
      "  ap(3,7,#P0,s2y5)\n",
      "\n",
      "<block>:1:45-60: info: atom does not occur in any rule head:\n",
      "  ap(1,7,#P0,empty)\n",
      "\n"
     ]
    },
    {
     "name": "stderr",
     "output_type": "stream",
     "text": [
      "<block>:1:39-51: info: atom does not occur in any rule head:\n",
      "  ap(1,7,#P0,s2)\n",
      "\n",
      "<block>:1:43-57: info: atom does not occur in any rule head:\n",
      "  ap(3,7,#P0,s2y5)\n",
      "\n",
      "<block>:1:45-60: info: atom does not occur in any rule head:\n",
      "  ap(1,7,#P0,empty)\n",
      "\n"
     ]
    },
    {
     "name": "stderr",
     "output_type": "stream",
     "text": [
      "<block>:1:39-51: info: atom does not occur in any rule head:\n",
      "  ap(1,7,#P0,s2)\n",
      "\n",
      "<block>:1:43-57: info: atom does not occur in any rule head:\n",
      "  ap(3,7,#P0,s2y5)\n",
      "\n",
      "<block>:1:45-60: info: atom does not occur in any rule head:\n",
      "  ap(1,7,#P0,empty)\n",
      "\n"
     ]
    },
    {
     "name": "stderr",
     "output_type": "stream",
     "text": [
      "<block>:1:39-51: info: atom does not occur in any rule head:\n",
      "  ap(2,7,#P0,s5)\n",
      "\n",
      "<block>:1:43-57: info: atom does not occur in any rule head:\n",
      "  ap(3,7,#P0,s2y6)\n",
      "\n",
      "<block>:1:45-60: info: atom does not occur in any rule head:\n",
      "  ap(2,7,#P0,empty)\n",
      "\n"
     ]
    },
    {
     "name": "stderr",
     "output_type": "stream",
     "text": [
      "<block>:1:39-51: info: atom does not occur in any rule head:\n",
      "  ap(2,7,#P0,s5)\n",
      "\n",
      "<block>:1:43-57: info: atom does not occur in any rule head:\n",
      "  ap(3,7,#P0,s2y6)\n",
      "\n",
      "<block>:1:45-60: info: atom does not occur in any rule head:\n",
      "  ap(2,7,#P0,empty)\n",
      "\n"
     ]
    },
    {
     "name": "stderr",
     "output_type": "stream",
     "text": [
      "<block>:1:39-51: info: atom does not occur in any rule head:\n",
      "  ap(2,7,#P0,s5)\n",
      "\n",
      "<block>:1:43-57: info: atom does not occur in any rule head:\n",
      "  ap(3,7,#P0,s2y6)\n",
      "\n",
      "<block>:1:45-60: info: atom does not occur in any rule head:\n",
      "  ap(2,7,#P0,empty)\n",
      "\n"
     ]
    },
    {
     "name": "stderr",
     "output_type": "stream",
     "text": [
      "<block>:1:39-51: info: atom does not occur in any rule head:\n",
      "  ap(2,7,#P0,s5)\n",
      "\n",
      "<block>:1:43-57: info: atom does not occur in any rule head:\n",
      "  ap(3,7,#P0,s2y6)\n",
      "\n",
      "<block>:1:45-60: info: atom does not occur in any rule head:\n",
      "  ap(2,7,#P0,empty)\n",
      "\n"
     ]
    },
    {
     "name": "stderr",
     "output_type": "stream",
     "text": [
      "<block>:1:39-51: info: atom does not occur in any rule head:\n",
      "  ap(2,7,#P0,s5)\n",
      "\n",
      "<block>:1:43-57: info: atom does not occur in any rule head:\n",
      "  ap(3,7,#P0,s2y6)\n",
      "\n",
      "<block>:1:45-60: info: atom does not occur in any rule head:\n",
      "  ap(0,6,#P0,empty)\n",
      "\n",
      "<block>:1:39-51: info: atom does not occur in any rule head:\n",
      "  ap(2,7,#P0,s5)\n",
      "\n",
      "<block>:1:43-57: info: atom does not occur in any rule head:\n",
      "  ap(3,7,#P0,s2y6)\n",
      "\n",
      "<block>:1:45-60: info: atom does not occur in any rule head:\n",
      "  ap(0,6,#P0,empty)\n",
      "\n"
     ]
    },
    {
     "name": "stderr",
     "output_type": "stream",
     "text": [
      "<block>:1:39-51: info: atom does not occur in any rule head:\n",
      "  ap(2,7,#P0,s5)\n",
      "\n",
      "<block>:1:43-57: info: atom does not occur in any rule head:\n",
      "  ap(3,7,#P0,s2y6)\n",
      "\n",
      "<block>:1:45-60: info: atom does not occur in any rule head:\n",
      "  ap(2,7,#P0,empty)\n",
      "\n"
     ]
    },
    {
     "name": "stderr",
     "output_type": "stream",
     "text": [
      "<block>:1:39-51: info: atom does not occur in any rule head:\n",
      "  ap(2,7,#P0,s5)\n",
      "\n",
      "<block>:1:43-57: info: atom does not occur in any rule head:\n",
      "  ap(3,7,#P0,s2y6)\n",
      "\n",
      "<block>:1:45-60: info: atom does not occur in any rule head:\n",
      "  ap(2,7,#P0,empty)\n",
      "\n"
     ]
    },
    {
     "name": "stderr",
     "output_type": "stream",
     "text": [
      "<block>:1:39-51: info: atom does not occur in any rule head:\n",
      "  ap(2,7,#P0,s5)\n",
      "\n",
      "<block>:1:43-57: info: atom does not occur in any rule head:\n",
      "  ap(3,7,#P0,s2y6)\n",
      "\n",
      "<block>:1:45-60: info: atom does not occur in any rule head:\n",
      "  ap(2,7,#P0,empty)\n",
      "\n"
     ]
    },
    {
     "name": "stderr",
     "output_type": "stream",
     "text": [
      "<block>:1:39-51: info: atom does not occur in any rule head:\n",
      "  ap(2,7,#P0,s5)\n",
      "\n",
      "<block>:1:43-57: info: atom does not occur in any rule head:\n",
      "  ap(3,7,#P0,s2y6)\n",
      "\n",
      "<block>:1:45-60: info: atom does not occur in any rule head:\n",
      "  ap(2,7,#P0,empty)\n",
      "\n"
     ]
    },
    {
     "name": "stderr",
     "output_type": "stream",
     "text": [
      "<block>:1:39-51: info: atom does not occur in any rule head:\n",
      "  ap(2,7,#P0,s5)\n",
      "\n",
      "<block>:1:43-57: info: atom does not occur in any rule head:\n",
      "  ap(3,7,#P0,s2y6)\n",
      "\n",
      "<block>:1:45-60: info: atom does not occur in any rule head:\n",
      "  ap(2,7,#P0,empty)\n",
      "\n"
     ]
    },
    {
     "name": "stderr",
     "output_type": "stream",
     "text": [
      "<block>:1:39-51: info: atom does not occur in any rule head:\n",
      "  ap(2,7,#P0,s5)\n",
      "\n",
      "<block>:1:43-57: info: atom does not occur in any rule head:\n",
      "  ap(3,7,#P0,s2y6)\n",
      "\n",
      "<block>:1:45-60: info: atom does not occur in any rule head:\n",
      "  ap(5,7,#P0,empty)\n",
      "\n"
     ]
    },
    {
     "name": "stderr",
     "output_type": "stream",
     "text": [
      "<block>:1:39-51: info: atom does not occur in any rule head:\n",
      "  ap(2,7,#P0,s5)\n",
      "\n",
      "<block>:1:43-57: info: atom does not occur in any rule head:\n",
      "  ap(3,7,#P0,s2y6)\n",
      "\n",
      "<block>:1:45-60: info: atom does not occur in any rule head:\n",
      "  ap(5,7,#P0,empty)\n",
      "\n"
     ]
    },
    {
     "name": "stderr",
     "output_type": "stream",
     "text": [
      "<block>:1:39-51: info: atom does not occur in any rule head:\n",
      "  ap(2,7,#P0,s5)\n",
      "\n",
      "<block>:1:43-57: info: atom does not occur in any rule head:\n",
      "  ap(3,7,#P0,s2y6)\n",
      "\n",
      "<block>:1:45-60: info: atom does not occur in any rule head:\n",
      "  ap(5,7,#P0,empty)\n",
      "\n"
     ]
    },
    {
     "name": "stderr",
     "output_type": "stream",
     "text": [
      "<block>:1:39-51: info: atom does not occur in any rule head:\n",
      "  ap(2,7,#P0,s5)\n",
      "\n",
      "<block>:1:43-57: info: atom does not occur in any rule head:\n",
      "  ap(3,7,#P0,s2y6)\n",
      "\n",
      "<block>:1:45-60: info: atom does not occur in any rule head:\n",
      "  ap(5,7,#P0,empty)\n",
      "\n"
     ]
    },
    {
     "name": "stderr",
     "output_type": "stream",
     "text": [
      "<block>:1:39-51: info: atom does not occur in any rule head:\n",
      "  ap(2,7,#P0,s5)\n",
      "\n",
      "<block>:1:43-57: info: atom does not occur in any rule head:\n",
      "  ap(3,7,#P0,s2y6)\n",
      "\n",
      "<block>:1:45-60: info: atom does not occur in any rule head:\n",
      "  ap(5,7,#P0,empty)\n",
      "\n"
     ]
    },
    {
     "name": "stderr",
     "output_type": "stream",
     "text": [
      "<block>:1:39-51: info: atom does not occur in any rule head:\n",
      "  ap(2,7,#P0,s5)\n",
      "\n",
      "<block>:1:43-57: info: atom does not occur in any rule head:\n",
      "  ap(3,7,#P0,s2y6)\n",
      "\n",
      "<block>:1:45-60: info: atom does not occur in any rule head:\n",
      "  ap(5,7,#P0,empty)\n",
      "\n"
     ]
    },
    {
     "name": "stderr",
     "output_type": "stream",
     "text": [
      "<block>:1:39-51: info: atom does not occur in any rule head:\n",
      "  ap(2,7,#P0,s5)\n",
      "\n",
      "<block>:1:43-57: info: atom does not occur in any rule head:\n",
      "  ap(3,7,#P0,s2y6)\n",
      "\n",
      "<block>:1:45-60: info: atom does not occur in any rule head:\n",
      "  ap(5,7,#P0,empty)\n",
      "\n"
     ]
    },
    {
     "name": "stderr",
     "output_type": "stream",
     "text": [
      "<block>:1:39-51: info: atom does not occur in any rule head:\n",
      "  ap(2,7,#P0,s5)\n",
      "\n",
      "<block>:1:43-57: info: atom does not occur in any rule head:\n",
      "  ap(3,7,#P0,s2y6)\n",
      "\n",
      "<block>:1:45-60: info: atom does not occur in any rule head:\n",
      "  ap(5,7,#P0,empty)\n",
      "\n"
     ]
    },
    {
     "name": "stderr",
     "output_type": "stream",
     "text": [
      "<block>:1:39-51: info: atom does not occur in any rule head:\n",
      "  ap(2,7,#P0,s5)\n",
      "\n",
      "<block>:1:43-57: info: atom does not occur in any rule head:\n",
      "  ap(3,7,#P0,s2y6)\n",
      "\n",
      "<block>:1:45-60: info: atom does not occur in any rule head:\n",
      "  ap(0,6,#P0,empty)\n",
      "\n"
     ]
    },
    {
     "name": "stderr",
     "output_type": "stream",
     "text": [
      "<block>:1:39-51: info: atom does not occur in any rule head:\n",
      "  ap(2,7,#P0,s6)\n",
      "\n",
      "<block>:1:43-57: info: atom does not occur in any rule head:\n",
      "  ap(3,7,#P0,s2y6)\n",
      "\n",
      "<block>:1:45-60: info: atom does not occur in any rule head:\n",
      "  ap(0,6,#P0,empty)\n",
      "\n"
     ]
    },
    {
     "name": "stderr",
     "output_type": "stream",
     "text": [
      "<block>:1:39-51: info: atom does not occur in any rule head:\n",
      "  ap(2,7,#P0,s6)\n",
      "\n",
      "<block>:1:43-57: info: atom does not occur in any rule head:\n",
      "  ap(3,7,#P0,s2y6)\n",
      "\n",
      "<block>:1:45-60: info: atom does not occur in any rule head:\n",
      "  ap(2,7,#P0,empty)\n",
      "\n"
     ]
    },
    {
     "name": "stderr",
     "output_type": "stream",
     "text": [
      "<block>:1:39-51: info: atom does not occur in any rule head:\n",
      "  ap(2,7,#P0,s5)\n",
      "\n",
      "<block>:1:43-57: info: atom does not occur in any rule head:\n",
      "  ap(3,7,#P0,s2y6)\n",
      "\n",
      "<block>:1:45-60: info: atom does not occur in any rule head:\n",
      "  ap(2,7,#P0,empty)\n",
      "\n"
     ]
    },
    {
     "name": "stderr",
     "output_type": "stream",
     "text": [
      "<block>:1:39-51: info: atom does not occur in any rule head:\n",
      "  ap(1,7,#P0,s2)\n",
      "\n",
      "<block>:1:43-57: info: atom does not occur in any rule head:\n",
      "  ap(3,7,#P0,s2y6)\n",
      "\n",
      "<block>:1:45-60: info: atom does not occur in any rule head:\n",
      "  ap(4,7,#P0,empty)\n",
      "\n"
     ]
    },
    {
     "name": "stderr",
     "output_type": "stream",
     "text": [
      "<block>:1:39-51: info: atom does not occur in any rule head:\n",
      "  ap(1,7,#P0,s2)\n",
      "\n",
      "<block>:1:43-57: info: atom does not occur in any rule head:\n",
      "  ap(3,7,#P0,s2y6)\n",
      "\n",
      "<block>:1:45-60: info: atom does not occur in any rule head:\n",
      "  ap(4,7,#P0,empty)\n",
      "\n"
     ]
    },
    {
     "name": "stderr",
     "output_type": "stream",
     "text": [
      "<block>:1:39-51: info: atom does not occur in any rule head:\n",
      "  ap(1,7,#P0,s2)\n",
      "\n",
      "<block>:1:43-57: info: atom does not occur in any rule head:\n",
      "  ap(3,7,#P0,s2y6)\n",
      "\n",
      "<block>:1:45-60: info: atom does not occur in any rule head:\n",
      "  ap(4,7,#P0,empty)\n",
      "\n"
     ]
    },
    {
     "name": "stderr",
     "output_type": "stream",
     "text": [
      "<block>:1:39-51: info: atom does not occur in any rule head:\n",
      "  ap(1,7,#P0,s2)\n",
      "\n",
      "<block>:1:43-57: info: atom does not occur in any rule head:\n",
      "  ap(3,7,#P0,s2y6)\n",
      "\n",
      "<block>:1:45-60: info: atom does not occur in any rule head:\n",
      "  ap(1,7,#P0,empty)\n",
      "\n",
      "<block>:1:39-51: info: atom does not occur in any rule head:\n",
      "  ap(1,7,#P0,s2)\n",
      "\n",
      "<block>:1:43-57: info: atom does not occur in any rule head:\n",
      "  ap(3,7,#P0,s2y6)\n",
      "\n",
      "<block>:1:45-60: info: atom does not occur in any rule head:\n",
      "  ap(1,7,#P0,empty)\n",
      "\n"
     ]
    },
    {
     "name": "stderr",
     "output_type": "stream",
     "text": [
      "<block>:1:39-51: info: atom does not occur in any rule head:\n",
      "  ap(1,7,#P0,s2)\n",
      "\n",
      "<block>:1:43-57: info: atom does not occur in any rule head:\n",
      "  ap(3,7,#P0,s2y6)\n",
      "\n",
      "<block>:1:45-60: info: atom does not occur in any rule head:\n",
      "  ap(1,7,#P0,empty)\n",
      "\n"
     ]
    },
    {
     "name": "stderr",
     "output_type": "stream",
     "text": [
      "<block>:1:39-51: info: atom does not occur in any rule head:\n",
      "  ap(5,7,#P0,s2)\n",
      "\n",
      "<block>:1:43-57: info: atom does not occur in any rule head:\n",
      "  ap(3,7,#P0,s2y5)\n",
      "\n",
      "<block>:1:45-60: info: atom does not occur in any rule head:\n",
      "  ap(5,7,#P0,empty)\n",
      "\n"
     ]
    },
    {
     "name": "stderr",
     "output_type": "stream",
     "text": [
      "<block>:1:39-51: info: atom does not occur in any rule head:\n",
      "  ap(5,7,#P0,s2)\n",
      "\n",
      "<block>:1:43-57: info: atom does not occur in any rule head:\n",
      "  ap(3,7,#P0,s2y5)\n",
      "\n",
      "<block>:1:45-60: info: atom does not occur in any rule head:\n",
      "  ap(5,7,#P0,empty)\n",
      "\n"
     ]
    },
    {
     "name": "stderr",
     "output_type": "stream",
     "text": [
      "<block>:1:39-51: info: atom does not occur in any rule head:\n",
      "  ap(5,7,#P0,s2)\n",
      "\n",
      "<block>:1:43-57: info: atom does not occur in any rule head:\n",
      "  ap(3,7,#P0,s2y5)\n",
      "\n",
      "<block>:1:45-60: info: atom does not occur in any rule head:\n",
      "  ap(5,7,#P0,empty)\n",
      "\n"
     ]
    },
    {
     "name": "stderr",
     "output_type": "stream",
     "text": [
      "<block>:1:39-51: info: atom does not occur in any rule head:\n",
      "  ap(5,7,#P0,s2)\n",
      "\n",
      "<block>:1:43-57: info: atom does not occur in any rule head:\n",
      "  ap(3,7,#P0,s2y5)\n",
      "\n",
      "<block>:1:45-60: info: atom does not occur in any rule head:\n",
      "  ap(5,7,#P0,empty)\n",
      "\n"
     ]
    },
    {
     "name": "stderr",
     "output_type": "stream",
     "text": [
      "<block>:1:39-51: info: atom does not occur in any rule head:\n",
      "  ap(5,7,#P0,s2)\n",
      "\n",
      "<block>:1:43-57: info: atom does not occur in any rule head:\n",
      "  ap(3,7,#P0,s2y5)\n",
      "\n",
      "<block>:1:45-60: info: atom does not occur in any rule head:\n",
      "  ap(5,7,#P0,empty)\n",
      "\n"
     ]
    },
    {
     "name": "stderr",
     "output_type": "stream",
     "text": [
      "<block>:1:39-51: info: atom does not occur in any rule head:\n",
      "  ap(5,7,#P0,s2)\n",
      "\n",
      "<block>:1:43-57: info: atom does not occur in any rule head:\n",
      "  ap(3,7,#P0,s2y5)\n",
      "\n",
      "<block>:1:45-60: info: atom does not occur in any rule head:\n",
      "  ap(5,7,#P0,empty)\n",
      "\n"
     ]
    },
    {
     "name": "stderr",
     "output_type": "stream",
     "text": [
      "<block>:1:39-51: info: atom does not occur in any rule head:\n",
      "  ap(2,7,#P0,s5)\n",
      "\n",
      "<block>:1:43-57: info: atom does not occur in any rule head:\n",
      "  ap(3,7,#P0,s2y6)\n",
      "\n",
      "<block>:1:45-60: info: atom does not occur in any rule head:\n",
      "  ap(2,7,#P0,empty)\n",
      "\n"
     ]
    },
    {
     "name": "stderr",
     "output_type": "stream",
     "text": [
      "<block>:1:39-51: info: atom does not occur in any rule head:\n",
      "  ap(2,7,#P0,s5)\n",
      "\n",
      "<block>:1:43-57: info: atom does not occur in any rule head:\n",
      "  ap(3,7,#P0,s2y6)\n",
      "\n",
      "<block>:1:45-60: info: atom does not occur in any rule head:\n",
      "  ap(2,7,#P0,empty)\n",
      "\n"
     ]
    },
    {
     "name": "stderr",
     "output_type": "stream",
     "text": [
      "<block>:1:39-51: info: atom does not occur in any rule head:\n",
      "  ap(2,7,#P0,s5)\n",
      "\n",
      "<block>:1:43-57: info: atom does not occur in any rule head:\n",
      "  ap(3,7,#P0,s2y6)\n",
      "\n",
      "<block>:1:45-60: info: atom does not occur in any rule head:\n",
      "  ap(2,7,#P0,empty)\n",
      "\n"
     ]
    },
    {
     "name": "stderr",
     "output_type": "stream",
     "text": [
      "<block>:1:39-51: info: atom does not occur in any rule head:\n",
      "  ap(2,7,#P0,s5)\n",
      "\n",
      "<block>:1:43-57: info: atom does not occur in any rule head:\n",
      "  ap(3,7,#P0,s2y6)\n",
      "\n",
      "<block>:1:45-60: info: atom does not occur in any rule head:\n",
      "  ap(2,7,#P0,empty)\n",
      "\n"
     ]
    },
    {
     "name": "stderr",
     "output_type": "stream",
     "text": [
      "<block>:1:39-51: info: atom does not occur in any rule head:\n",
      "  ap(2,7,#P0,s5)\n",
      "\n",
      "<block>:1:43-57: info: atom does not occur in any rule head:\n",
      "  ap(3,7,#P0,s2y6)\n",
      "\n",
      "<block>:1:45-60: info: atom does not occur in any rule head:\n",
      "  ap(2,7,#P0,empty)\n",
      "\n"
     ]
    },
    {
     "name": "stderr",
     "output_type": "stream",
     "text": [
      "<block>:1:39-51: info: atom does not occur in any rule head:\n",
      "  ap(2,7,#P0,s5)\n",
      "\n",
      "<block>:1:43-57: info: atom does not occur in any rule head:\n",
      "  ap(3,7,#P0,s2y6)\n",
      "\n",
      "<block>:1:45-60: info: atom does not occur in any rule head:\n",
      "  ap(2,7,#P0,empty)\n",
      "\n"
     ]
    },
    {
     "name": "stderr",
     "output_type": "stream",
     "text": [
      "<block>:1:39-51: info: atom does not occur in any rule head:\n",
      "  ap(0,6,#P0,s3)\n",
      "\n",
      "<block>:1:43-57: info: atom does not occur in any rule head:\n",
      "  ap(3,7,#P0,s2y6)\n",
      "\n",
      "<block>:1:45-60: info: atom does not occur in any rule head:\n",
      "  ap(0,6,#P0,empty)\n",
      "\n",
      "<block>:1:39-51: info: atom does not occur in any rule head:\n",
      "  ap(4,7,#P0,s1)\n",
      "\n",
      "<block>:1:43-57: info: atom does not occur in any rule head:\n",
      "  ap(3,7,#P0,s2y6)\n",
      "\n",
      "<block>:1:45-60: info: atom does not occur in any rule head:\n",
      "  ap(4,7,#P0,empty)\n",
      "\n"
     ]
    },
    {
     "name": "stderr",
     "output_type": "stream",
     "text": [
      "<block>:1:39-51: info: atom does not occur in any rule head:\n",
      "  ap(0,6,#P0,s3)\n",
      "\n",
      "<block>:1:43-57: info: atom does not occur in any rule head:\n",
      "  ap(3,7,#P0,s2y6)\n",
      "\n",
      "<block>:1:45-60: info: atom does not occur in any rule head:\n",
      "  ap(0,6,#P0,empty)\n",
      "\n"
     ]
    },
    {
     "name": "stderr",
     "output_type": "stream",
     "text": [
      "<block>:1:39-51: info: atom does not occur in any rule head:\n",
      "  ap(4,7,#P0,s1)\n",
      "\n",
      "<block>:1:43-57: info: atom does not occur in any rule head:\n",
      "  ap(3,7,#P0,s2y6)\n",
      "\n",
      "<block>:1:45-60: info: atom does not occur in any rule head:\n",
      "  ap(4,7,#P0,empty)\n",
      "\n"
     ]
    },
    {
     "name": "stderr",
     "output_type": "stream",
     "text": [
      "<block>:1:39-51: info: atom does not occur in any rule head:\n",
      "  ap(4,7,#P0,s5)\n",
      "\n",
      "<block>:1:43-57: info: atom does not occur in any rule head:\n",
      "  ap(3,7,#P0,s2y6)\n",
      "\n",
      "<block>:1:45-60: info: atom does not occur in any rule head:\n",
      "  ap(4,7,#P0,empty)\n",
      "\n"
     ]
    },
    {
     "name": "stderr",
     "output_type": "stream",
     "text": [
      "<block>:1:39-51: info: atom does not occur in any rule head:\n",
      "  ap(4,7,#P0,s5)\n",
      "\n",
      "<block>:1:43-57: info: atom does not occur in any rule head:\n",
      "  ap(3,7,#P0,s2y6)\n",
      "\n",
      "<block>:1:45-60: info: atom does not occur in any rule head:\n",
      "  ap(4,7,#P0,empty)\n",
      "\n"
     ]
    },
    {
     "name": "stderr",
     "output_type": "stream",
     "text": [
      "<block>:1:39-51: info: atom does not occur in any rule head:\n",
      "  ap(0,3,#P0,s2)\n",
      "\n",
      "<block>:1:43-57: info: atom does not occur in any rule head:\n",
      "  ap(3,7,#P0,s2y6)\n",
      "\n",
      "<block>:1:45-60: info: atom does not occur in any rule head:\n",
      "  ap(0,3,#P0,empty)\n",
      "\n",
      "<block>:1:39-51: info: atom does not occur in any rule head:\n",
      "  ap(1,7,#P0,s2)\n",
      "\n",
      "<block>:1:43-57: info: atom does not occur in any rule head:\n",
      "  ap(3,7,#P0,s2y6)\n",
      "\n",
      "<block>:1:45-60: info: atom does not occur in any rule head:\n",
      "  ap(4,7,#P0,empty)\n",
      "\n"
     ]
    },
    {
     "name": "stderr",
     "output_type": "stream",
     "text": [
      "<block>:1:39-51: info: atom does not occur in any rule head:\n",
      "  ap(1,7,#P0,s2)\n",
      "\n",
      "<block>:1:43-57: info: atom does not occur in any rule head:\n",
      "  ap(3,7,#P0,s2y6)\n",
      "\n",
      "<block>:1:45-60: info: atom does not occur in any rule head:\n",
      "  ap(4,7,#P0,empty)\n",
      "\n",
      "<block>:1:39-51: info: atom does not occur in any rule head:\n",
      "  ap(1,7,#P0,s2)\n",
      "\n",
      "<block>:1:43-57: info: atom does not occur in any rule head:\n",
      "  ap(3,7,#P0,s2y6)\n",
      "\n",
      "<block>:1:45-60: info: atom does not occur in any rule head:\n",
      "  ap(4,7,#P0,empty)\n",
      "\n"
     ]
    },
    {
     "name": "stderr",
     "output_type": "stream",
     "text": [
      "<block>:1:39-51: info: atom does not occur in any rule head:\n",
      "  ap(1,7,#P0,s2)\n",
      "\n",
      "<block>:1:43-57: info: atom does not occur in any rule head:\n",
      "  ap(3,7,#P0,s2y6)\n",
      "\n",
      "<block>:1:45-60: info: atom does not occur in any rule head:\n",
      "  ap(4,7,#P0,empty)\n",
      "\n"
     ]
    },
    {
     "name": "stderr",
     "output_type": "stream",
     "text": [
      "<block>:1:39-51: info: atom does not occur in any rule head:\n",
      "  ap(0,3,#P0,s2)\n",
      "\n",
      "<block>:1:43-57: info: atom does not occur in any rule head:\n",
      "  ap(3,7,#P0,s2y6)\n",
      "\n",
      "<block>:1:45-60: info: atom does not occur in any rule head:\n",
      "  ap(0,3,#P0,empty)\n",
      "\n"
     ]
    },
    {
     "name": "stderr",
     "output_type": "stream",
     "text": [
      "<block>:1:39-51: info: atom does not occur in any rule head:\n",
      "  ap(1,7,#P0,s2)\n",
      "\n",
      "<block>:1:43-57: info: atom does not occur in any rule head:\n",
      "  ap(3,7,#P0,s2y6)\n",
      "\n",
      "<block>:1:45-60: info: atom does not occur in any rule head:\n",
      "  ap(1,7,#P0,empty)\n",
      "\n"
     ]
    },
    {
     "name": "stderr",
     "output_type": "stream",
     "text": [
      "<block>:1:39-51: info: atom does not occur in any rule head:\n",
      "  ap(1,7,#P0,s2)\n",
      "\n",
      "<block>:1:43-57: info: atom does not occur in any rule head:\n",
      "  ap(3,7,#P0,s2y6)\n",
      "\n",
      "<block>:1:45-60: info: atom does not occur in any rule head:\n",
      "  ap(1,7,#P0,empty)\n",
      "\n"
     ]
    },
    {
     "name": "stderr",
     "output_type": "stream",
     "text": [
      "<block>:1:39-51: info: atom does not occur in any rule head:\n",
      "  ap(1,7,#P0,s2)\n",
      "\n",
      "<block>:1:43-57: info: atom does not occur in any rule head:\n",
      "  ap(3,7,#P0,s2y4)\n",
      "\n",
      "<block>:1:45-60: info: atom does not occur in any rule head:\n",
      "  ap(1,7,#P0,empty)\n",
      "\n"
     ]
    },
    {
     "name": "stderr",
     "output_type": "stream",
     "text": [
      "<block>:1:39-51: info: atom does not occur in any rule head:\n",
      "  ap(1,7,#P0,s2)\n",
      "\n",
      "<block>:1:43-57: info: atom does not occur in any rule head:\n",
      "  ap(3,7,#P0,s2y4)\n",
      "\n",
      "<block>:1:45-60: info: atom does not occur in any rule head:\n",
      "  ap(1,7,#P0,empty)\n",
      "\n"
     ]
    },
    {
     "name": "stderr",
     "output_type": "stream",
     "text": [
      "<block>:1:39-51: info: atom does not occur in any rule head:\n",
      "  ap(4,7,#P0,s1)\n",
      "\n",
      "<block>:1:43-57: info: atom does not occur in any rule head:\n",
      "  ap(3,7,#P0,s2y6)\n",
      "\n",
      "<block>:1:45-60: info: atom does not occur in any rule head:\n",
      "  ap(4,7,#P0,empty)\n",
      "\n"
     ]
    },
    {
     "name": "stderr",
     "output_type": "stream",
     "text": [
      "<block>:1:39-51: info: atom does not occur in any rule head:\n",
      "  ap(4,7,#P0,s1)\n",
      "\n",
      "<block>:1:43-57: info: atom does not occur in any rule head:\n",
      "  ap(3,7,#P0,s2y6)\n",
      "\n",
      "<block>:1:45-60: info: atom does not occur in any rule head:\n",
      "  ap(4,7,#P0,empty)\n",
      "\n"
     ]
    },
    {
     "name": "stderr",
     "output_type": "stream",
     "text": [
      "<block>:1:39-51: info: atom does not occur in any rule head:\n",
      "  ap(4,7,#P0,s1)\n",
      "\n",
      "<block>:1:43-57: info: atom does not occur in any rule head:\n",
      "  ap(3,7,#P0,s2y6)\n",
      "\n",
      "<block>:1:45-60: info: atom does not occur in any rule head:\n",
      "  ap(4,7,#P0,empty)\n",
      "\n"
     ]
    },
    {
     "name": "stderr",
     "output_type": "stream",
     "text": [
      "<block>:1:39-51: info: atom does not occur in any rule head:\n",
      "  ap(4,7,#P0,s1)\n",
      "\n",
      "<block>:1:43-57: info: atom does not occur in any rule head:\n",
      "  ap(3,7,#P0,s2y6)\n",
      "\n",
      "<block>:1:45-60: info: atom does not occur in any rule head:\n",
      "  ap(4,7,#P0,empty)\n",
      "\n"
     ]
    },
    {
     "name": "stderr",
     "output_type": "stream",
     "text": [
      "<block>:1:39-51: info: atom does not occur in any rule head:\n",
      "  ap(4,7,#P0,s1)\n",
      "\n",
      "<block>:1:43-57: info: atom does not occur in any rule head:\n",
      "  ap(3,7,#P0,s2y6)\n",
      "\n",
      "<block>:1:45-60: info: atom does not occur in any rule head:\n",
      "  ap(4,7,#P0,empty)\n",
      "\n"
     ]
    },
    {
     "name": "stderr",
     "output_type": "stream",
     "text": [
      "<block>:1:39-51: info: atom does not occur in any rule head:\n",
      "  ap(4,7,#P0,s1)\n",
      "\n",
      "<block>:1:43-57: info: atom does not occur in any rule head:\n",
      "  ap(3,7,#P0,s2y6)\n",
      "\n",
      "<block>:1:45-60: info: atom does not occur in any rule head:\n",
      "  ap(4,7,#P0,empty)\n",
      "\n"
     ]
    },
    {
     "name": "stderr",
     "output_type": "stream",
     "text": [
      "<block>:1:39-51: info: atom does not occur in any rule head:\n",
      "  ap(4,7,#P0,s1)\n",
      "\n",
      "<block>:1:43-57: info: atom does not occur in any rule head:\n",
      "  ap(3,7,#P0,s2y6)\n",
      "\n",
      "<block>:1:45-60: info: atom does not occur in any rule head:\n",
      "  ap(5,7,#P0,empty)\n",
      "\n"
     ]
    },
    {
     "name": "stderr",
     "output_type": "stream",
     "text": [
      "<block>:1:39-51: info: atom does not occur in any rule head:\n",
      "  ap(4,7,#P0,s1)\n",
      "\n",
      "<block>:1:43-57: info: atom does not occur in any rule head:\n",
      "  ap(3,7,#P0,s2y6)\n",
      "\n",
      "<block>:1:45-60: info: atom does not occur in any rule head:\n",
      "  ap(4,7,#P0,empty)\n",
      "\n"
     ]
    },
    {
     "name": "stderr",
     "output_type": "stream",
     "text": [
      "<block>:1:39-51: info: atom does not occur in any rule head:\n",
      "  ap(1,7,#P0,s2)\n",
      "\n",
      "<block>:1:43-57: info: atom does not occur in any rule head:\n",
      "  ap(3,7,#P0,s2y6)\n",
      "\n",
      "<block>:1:45-60: info: atom does not occur in any rule head:\n",
      "  ap(4,7,#P0,empty)\n",
      "\n"
     ]
    },
    {
     "name": "stderr",
     "output_type": "stream",
     "text": [
      "<block>:1:39-51: info: atom does not occur in any rule head:\n",
      "  ap(1,7,#P0,s2)\n",
      "\n",
      "<block>:1:43-57: info: atom does not occur in any rule head:\n",
      "  ap(3,7,#P0,s2y6)\n",
      "\n",
      "<block>:1:45-60: info: atom does not occur in any rule head:\n",
      "  ap(4,7,#P0,empty)\n",
      "\n"
     ]
    },
    {
     "name": "stderr",
     "output_type": "stream",
     "text": [
      "<block>:1:39-51: info: atom does not occur in any rule head:\n",
      "  ap(1,7,#P0,s2)\n",
      "\n",
      "<block>:1:43-57: info: atom does not occur in any rule head:\n",
      "  ap(3,7,#P0,s2y6)\n",
      "\n",
      "<block>:1:45-60: info: atom does not occur in any rule head:\n",
      "  ap(4,7,#P0,empty)\n",
      "\n"
     ]
    },
    {
     "name": "stderr",
     "output_type": "stream",
     "text": [
      "<block>:1:39-51: info: atom does not occur in any rule head:\n",
      "  ap(1,7,#P0,s2)\n",
      "\n",
      "<block>:1:43-57: info: atom does not occur in any rule head:\n",
      "  ap(3,7,#P0,s2y6)\n",
      "\n",
      "<block>:1:45-60: info: atom does not occur in any rule head:\n",
      "  ap(1,7,#P0,empty)\n",
      "\n"
     ]
    },
    {
     "name": "stderr",
     "output_type": "stream",
     "text": [
      "<block>:1:39-51: info: atom does not occur in any rule head:\n",
      "  ap(1,7,#P0,s2)\n",
      "\n",
      "<block>:1:43-57: info: atom does not occur in any rule head:\n",
      "  ap(3,7,#P0,s2y6)\n",
      "\n",
      "<block>:1:45-60: info: atom does not occur in any rule head:\n",
      "  ap(1,7,#P0,empty)\n",
      "\n"
     ]
    },
    {
     "name": "stderr",
     "output_type": "stream",
     "text": [
      "<block>:1:39-51: info: atom does not occur in any rule head:\n",
      "  ap(1,7,#P0,s2)\n",
      "\n",
      "<block>:1:43-57: info: atom does not occur in any rule head:\n",
      "  ap(3,7,#P0,s2y4)\n",
      "\n",
      "<block>:1:45-60: info: atom does not occur in any rule head:\n",
      "  ap(1,7,#P0,empty)\n",
      "\n"
     ]
    },
    {
     "name": "stdout",
     "output_type": "stream",
     "text": [
      "WARNING: ignoring environment value of R_HOME\n"
     ]
    },
    {
     "name": "stdout",
     "output_type": "stream",
     "text": [
      "WARNING: ignoring environment value of R_HOME\n"
     ]
    },
    {
     "name": "stdout",
     "output_type": "stream",
     "text": [
      "WARNING: ignoring environment value of R_HOME\n"
     ]
    },
    {
     "name": "stdout",
     "output_type": "stream",
     "text": [
      "WARNING: ignoring environment value of R_HOME\n"
     ]
    },
    {
     "name": "stdout",
     "output_type": "stream",
     "text": [
      "WARNING: ignoring environment value of R_HOME\n"
     ]
    },
    {
     "name": "stdout",
     "output_type": "stream",
     "text": [
      "WARNING: ignoring environment value of R_HOME\n"
     ]
    },
    {
     "name": "stdout",
     "output_type": "stream",
     "text": [
      "WARNING: ignoring environment value of R_HOME\n"
     ]
    },
    {
     "name": "stdout",
     "output_type": "stream",
     "text": [
      "WARNING: ignoring environment value of R_HOME\n"
     ]
    },
    {
     "name": "stdout",
     "output_type": "stream",
     "text": [
      "WARNING: ignoring environment value of R_HOME\n"
     ]
    },
    {
     "name": "stdout",
     "output_type": "stream",
     "text": [
      "WARNING: ignoring environment value of R_HOME\n"
     ]
    },
    {
     "name": "stdout",
     "output_type": "stream",
     "text": [
      "WARNING: ignoring environment value of R_HOME\n"
     ]
    },
    {
     "name": "stdout",
     "output_type": "stream",
     "text": [
      "WARNING: ignoring environment value of R_HOME\n"
     ]
    },
    {
     "name": "stdout",
     "output_type": "stream",
     "text": [
      "WARNING: ignoring environment value of R_HOME\n"
     ]
    },
    {
     "name": "stdout",
     "output_type": "stream",
     "text": [
      "WARNING: ignoring environment value of R_HOME\n"
     ]
    },
    {
     "name": "stdout",
     "output_type": "stream",
     "text": [
      "WARNING: ignoring environment value of R_HOME\n"
     ]
    },
    {
     "name": "stdout",
     "output_type": "stream",
     "text": [
      "WARNING: ignoring environment value of R_HOME\n"
     ]
    },
    {
     "name": "stdout",
     "output_type": "stream",
     "text": [
      "WARNING: ignoring environment value of R_HOME\n"
     ]
    },
    {
     "name": "stdout",
     "output_type": "stream",
     "text": [
      "WARNING: ignoring environment value of R_HOME\n"
     ]
    },
    {
     "name": "stdout",
     "output_type": "stream",
     "text": [
      "WARNING: ignoring environment value of R_HOME\n"
     ]
    },
    {
     "name": "stdout",
     "output_type": "stream",
     "text": [
      "WARNING: ignoring environment value of R_HOME\n"
     ]
    },
    {
     "name": "stdout",
     "output_type": "stream",
     "text": [
      "[1] \"The estimated graph is not chordal, i.e. it is not a CPDAG! We thus consider local expansions of the graph (some combinations of which may lead to cycles).\"\n"
     ]
    },
    {
     "name": "stdout",
     "output_type": "stream",
     "text": [
      "WARNING: ignoring environment value of R_HOME\n"
     ]
    },
    {
     "name": "stdout",
     "output_type": "stream",
     "text": [
      "WARNING: ignoring environment value of R_HOME\n"
     ]
    },
    {
     "name": "stdout",
     "output_type": "stream",
     "text": [
      "WARNING: ignoring environment value of R_HOME\n"
     ]
    },
    {
     "name": "stdout",
     "output_type": "stream",
     "text": [
      "WARNING: ignoring environment value of R_HOME\n"
     ]
    },
    {
     "name": "stdout",
     "output_type": "stream",
     "text": [
      "WARNING: ignoring environment value of R_HOME\n"
     ]
    },
    {
     "name": "stdout",
     "output_type": "stream",
     "text": [
      "WARNING: ignoring environment value of R_HOME\n"
     ]
    },
    {
     "name": "stdout",
     "output_type": "stream",
     "text": [
      "WARNING: ignoring environment value of R_HOME\n"
     ]
    },
    {
     "name": "stdout",
     "output_type": "stream",
     "text": [
      "WARNING: ignoring environment value of R_HOME\n"
     ]
    },
    {
     "name": "stdout",
     "output_type": "stream",
     "text": [
      "WARNING: ignoring environment value of R_HOME\n"
     ]
    },
    {
     "name": "stdout",
     "output_type": "stream",
     "text": [
      "WARNING: ignoring environment value of R_HOME\n"
     ]
    },
    {
     "name": "stdout",
     "output_type": "stream",
     "text": [
      "WARNING: ignoring environment value of R_HOME\n"
     ]
    },
    {
     "name": "stdout",
     "output_type": "stream",
     "text": [
      "WARNING: ignoring environment value of R_HOME\n"
     ]
    },
    {
     "name": "stdout",
     "output_type": "stream",
     "text": [
      "WARNING: ignoring environment value of R_HOME\n"
     ]
    },
    {
     "name": "stdout",
     "output_type": "stream",
     "text": [
      "WARNING: ignoring environment value of R_HOME\n"
     ]
    },
    {
     "name": "stdout",
     "output_type": "stream",
     "text": [
      "WARNING: ignoring environment value of R_HOME\n"
     ]
    },
    {
     "name": "stdout",
     "output_type": "stream",
     "text": [
      "WARNING: ignoring environment value of R_HOME\n"
     ]
    },
    {
     "name": "stdout",
     "output_type": "stream",
     "text": [
      "WARNING: ignoring environment value of R_HOME\n"
     ]
    },
    {
     "name": "stdout",
     "output_type": "stream",
     "text": [
      "WARNING: ignoring environment value of R_HOME\n"
     ]
    },
    {
     "name": "stdout",
     "output_type": "stream",
     "text": [
      "WARNING: ignoring environment value of R_HOME\n"
     ]
    },
    {
     "name": "stdout",
     "output_type": "stream",
     "text": [
      "WARNING: ignoring environment value of R_HOME\n"
     ]
    },
    {
     "name": "stdout",
     "output_type": "stream",
     "text": [
      "WARNING: ignoring environment value of R_HOME\n"
     ]
    },
    {
     "name": "stdout",
     "output_type": "stream",
     "text": [
      "WARNING: ignoring environment value of R_HOME\n"
     ]
    },
    {
     "name": "stdout",
     "output_type": "stream",
     "text": [
      "WARNING: ignoring environment value of R_HOME\n"
     ]
    },
    {
     "name": "stdout",
     "output_type": "stream",
     "text": [
      "WARNING: ignoring environment value of R_HOME\n"
     ]
    },
    {
     "name": "stdout",
     "output_type": "stream",
     "text": [
      "WARNING: ignoring environment value of R_HOME\n"
     ]
    },
    {
     "name": "stdout",
     "output_type": "stream",
     "text": [
      "WARNING: ignoring environment value of R_HOME\n"
     ]
    },
    {
     "name": "stdout",
     "output_type": "stream",
     "text": [
      "WARNING: ignoring environment value of R_HOME\n"
     ]
    },
    {
     "name": "stdout",
     "output_type": "stream",
     "text": [
      "WARNING: ignoring environment value of R_HOME\n"
     ]
    },
    {
     "name": "stdout",
     "output_type": "stream",
     "text": [
      "WARNING: ignoring environment value of R_HOME\n"
     ]
    },
    {
     "name": "stdout",
     "output_type": "stream",
     "text": [
      "WARNING: ignoring environment value of R_HOME\n"
     ]
    },
    {
     "name": "stdout",
     "output_type": "stream",
     "text": [
      "WARNING: ignoring environment value of R_HOME\n"
     ]
    },
    {
     "name": "stdout",
     "output_type": "stream",
     "text": [
      "WARNING: ignoring environment value of R_HOME\n"
     ]
    },
    {
     "name": "stdout",
     "output_type": "stream",
     "text": [
      "WARNING: ignoring environment value of R_HOME\n"
     ]
    },
    {
     "name": "stdout",
     "output_type": "stream",
     "text": [
      "WARNING: ignoring environment value of R_HOME\n"
     ]
    },
    {
     "name": "stdout",
     "output_type": "stream",
     "text": [
      "WARNING: ignoring environment value of R_HOME\n"
     ]
    },
    {
     "name": "stdout",
     "output_type": "stream",
     "text": [
      "WARNING: ignoring environment value of R_HOME\n"
     ]
    },
    {
     "name": "stdout",
     "output_type": "stream",
     "text": [
      "WARNING: ignoring environment value of R_HOME\n"
     ]
    },
    {
     "name": "stdout",
     "output_type": "stream",
     "text": [
      "WARNING: ignoring environment value of R_HOME\n"
     ]
    },
    {
     "name": "stdout",
     "output_type": "stream",
     "text": [
      "WARNING: ignoring environment value of R_HOME\n"
     ]
    },
    {
     "name": "stdout",
     "output_type": "stream",
     "text": [
      "WARNING: ignoring environment value of R_HOME\n"
     ]
    },
    {
     "name": "stdout",
     "output_type": "stream",
     "text": [
      "WARNING: ignoring environment value of R_HOME\n"
     ]
    },
    {
     "name": "stdout",
     "output_type": "stream",
     "text": [
      "WARNING: ignoring environment value of R_HOME\n"
     ]
    },
    {
     "name": "stdout",
     "output_type": "stream",
     "text": [
      "WARNING: ignoring environment value of R_HOME\n"
     ]
    },
    {
     "name": "stdout",
     "output_type": "stream",
     "text": [
      "WARNING: ignoring environment value of R_HOME\n"
     ]
    },
    {
     "name": "stdout",
     "output_type": "stream",
     "text": [
      "WARNING: ignoring environment value of R_HOME\n"
     ]
    },
    {
     "name": "stdout",
     "output_type": "stream",
     "text": [
      "WARNING: ignoring environment value of R_HOME\n"
     ]
    },
    {
     "name": "stdout",
     "output_type": "stream",
     "text": [
      "WARNING: ignoring environment value of R_HOME\n"
     ]
    },
    {
     "name": "stdout",
     "output_type": "stream",
     "text": [
      "WARNING: ignoring environment value of R_HOME\n"
     ]
    },
    {
     "name": "stdout",
     "output_type": "stream",
     "text": [
      "WARNING: ignoring environment value of R_HOME\n"
     ]
    },
    {
     "name": "stdout",
     "output_type": "stream",
     "text": [
      "WARNING: ignoring environment value of R_HOME\n"
     ]
    },
    {
     "name": "stdout",
     "output_type": "stream",
     "text": [
      "WARNING: ignoring environment value of R_HOME\n"
     ]
    },
    {
     "name": "stdout",
     "output_type": "stream",
     "text": [
      "WARNING: ignoring environment value of R_HOME\n"
     ]
    },
    {
     "name": "stdout",
     "output_type": "stream",
     "text": [
      "WARNING: ignoring environment value of R_HOME\n"
     ]
    },
    {
     "name": "stdout",
     "output_type": "stream",
     "text": [
      "WARNING: ignoring environment value of R_HOME\n"
     ]
    },
    {
     "name": "stdout",
     "output_type": "stream",
     "text": [
      "WARNING: ignoring environment value of R_HOME\n"
     ]
    },
    {
     "name": "stdout",
     "output_type": "stream",
     "text": [
      "WARNING: ignoring environment value of R_HOME\n"
     ]
    },
    {
     "name": "stdout",
     "output_type": "stream",
     "text": [
      "WARNING: ignoring environment value of R_HOME\n"
     ]
    },
    {
     "name": "stdout",
     "output_type": "stream",
     "text": [
      "WARNING: ignoring environment value of R_HOME\n"
     ]
    },
    {
     "name": "stdout",
     "output_type": "stream",
     "text": [
      "WARNING: ignoring environment value of R_HOME\n"
     ]
    },
    {
     "name": "stdout",
     "output_type": "stream",
     "text": [
      "WARNING: ignoring environment value of R_HOME\n"
     ]
    },
    {
     "name": "stdout",
     "output_type": "stream",
     "text": [
      "WARNING: ignoring environment value of R_HOME\n"
     ]
    },
    {
     "name": "stdout",
     "output_type": "stream",
     "text": [
      "WARNING: ignoring environment value of R_HOME\n"
     ]
    },
    {
     "name": "stdout",
     "output_type": "stream",
     "text": [
      "WARNING: ignoring environment value of R_HOME\n"
     ]
    },
    {
     "name": "stdout",
     "output_type": "stream",
     "text": [
      "WARNING: ignoring environment value of R_HOME\n"
     ]
    },
    {
     "name": "stdout",
     "output_type": "stream",
     "text": [
      "WARNING: ignoring environment value of R_HOME\n"
     ]
    },
    {
     "name": "stdout",
     "output_type": "stream",
     "text": [
      "WARNING: ignoring environment value of R_HOME\n"
     ]
    },
    {
     "name": "stdout",
     "output_type": "stream",
     "text": [
      "WARNING: ignoring environment value of R_HOME\n"
     ]
    },
    {
     "name": "stdout",
     "output_type": "stream",
     "text": [
      "WARNING: ignoring environment value of R_HOME\n"
     ]
    },
    {
     "name": "stdout",
     "output_type": "stream",
     "text": [
      "WARNING: ignoring environment value of R_HOME\n"
     ]
    },
    {
     "name": "stdout",
     "output_type": "stream",
     "text": [
      "WARNING: ignoring environment value of R_HOME\n"
     ]
    },
    {
     "name": "stdout",
     "output_type": "stream",
     "text": [
      "WARNING: ignoring environment value of R_HOME\n"
     ]
    },
    {
     "name": "stdout",
     "output_type": "stream",
     "text": [
      "WARNING: ignoring environment value of R_HOME\n"
     ]
    },
    {
     "name": "stdout",
     "output_type": "stream",
     "text": [
      "WARNING: ignoring environment value of R_HOME\n"
     ]
    },
    {
     "name": "stdout",
     "output_type": "stream",
     "text": [
      "WARNING: ignoring environment value of R_HOME\n"
     ]
    },
    {
     "name": "stdout",
     "output_type": "stream",
     "text": [
      "WARNING: ignoring environment value of R_HOME\n"
     ]
    },
    {
     "name": "stdout",
     "output_type": "stream",
     "text": [
      "WARNING: ignoring environment value of R_HOME\n"
     ]
    },
    {
     "name": "stdout",
     "output_type": "stream",
     "text": [
      "WARNING: ignoring environment value of R_HOME\n"
     ]
    },
    {
     "name": "stdout",
     "output_type": "stream",
     "text": [
      "WARNING: ignoring environment value of R_HOME\n"
     ]
    },
    {
     "name": "stdout",
     "output_type": "stream",
     "text": [
      "WARNING: ignoring environment value of R_HOME\n"
     ]
    },
    {
     "name": "stdout",
     "output_type": "stream",
     "text": [
      "WARNING: ignoring environment value of R_HOME\n"
     ]
    },
    {
     "name": "stdout",
     "output_type": "stream",
     "text": [
      "WARNING: ignoring environment value of R_HOME\n"
     ]
    },
    {
     "name": "stdout",
     "output_type": "stream",
     "text": [
      "WARNING: ignoring environment value of R_HOME\n"
     ]
    },
    {
     "name": "stdout",
     "output_type": "stream",
     "text": [
      "WARNING: ignoring environment value of R_HOME\n"
     ]
    },
    {
     "name": "stdout",
     "output_type": "stream",
     "text": [
      "WARNING: ignoring environment value of R_HOME\n"
     ]
    },
    {
     "name": "stdout",
     "output_type": "stream",
     "text": [
      "WARNING: ignoring environment value of R_HOME\n"
     ]
    },
    {
     "name": "stdout",
     "output_type": "stream",
     "text": [
      "WARNING: ignoring environment value of R_HOME\n"
     ]
    },
    {
     "name": "stdout",
     "output_type": "stream",
     "text": [
      "WARNING: ignoring environment value of R_HOME\n"
     ]
    },
    {
     "name": "stdout",
     "output_type": "stream",
     "text": [
      "WARNING: ignoring environment value of R_HOME\n"
     ]
    },
    {
     "name": "stdout",
     "output_type": "stream",
     "text": [
      "WARNING: ignoring environment value of R_HOME\n"
     ]
    },
    {
     "name": "stdout",
     "output_type": "stream",
     "text": [
      "WARNING: ignoring environment value of R_HOME\n"
     ]
    },
    {
     "name": "stdout",
     "output_type": "stream",
     "text": [
      "WARNING: ignoring environment value of R_HOME\n"
     ]
    },
    {
     "name": "stdout",
     "output_type": "stream",
     "text": [
      "WARNING: ignoring environment value of R_HOME\n"
     ]
    },
    {
     "name": "stdout",
     "output_type": "stream",
     "text": [
      "WARNING: ignoring environment value of R_HOME\n"
     ]
    },
    {
     "name": "stdout",
     "output_type": "stream",
     "text": [
      "WARNING: ignoring environment value of R_HOME\n"
     ]
    },
    {
     "name": "stdout",
     "output_type": "stream",
     "text": [
      "WARNING: ignoring environment value of R_HOME\n"
     ]
    },
    {
     "name": "stdout",
     "output_type": "stream",
     "text": [
      "WARNING: ignoring environment value of R_HOME\n"
     ]
    },
    {
     "name": "stdout",
     "output_type": "stream",
     "text": [
      "WARNING: ignoring environment value of R_HOME\n"
     ]
    },
    {
     "name": "stdout",
     "output_type": "stream",
     "text": [
      "WARNING: ignoring environment value of R_HOME\n"
     ]
    },
    {
     "name": "stdout",
     "output_type": "stream",
     "text": [
      "WARNING: ignoring environment value of R_HOME\n"
     ]
    },
    {
     "name": "stdout",
     "output_type": "stream",
     "text": [
      "WARNING: ignoring environment value of R_HOME\n"
     ]
    },
    {
     "name": "stdout",
     "output_type": "stream",
     "text": [
      "WARNING: ignoring environment value of R_HOME\n"
     ]
    },
    {
     "name": "stdout",
     "output_type": "stream",
     "text": [
      "WARNING: ignoring environment value of R_HOME\n"
     ]
    },
    {
     "name": "stdout",
     "output_type": "stream",
     "text": [
      "WARNING: ignoring environment value of R_HOME\n"
     ]
    },
    {
     "name": "stdout",
     "output_type": "stream",
     "text": [
      "WARNING: ignoring environment value of R_HOME\n"
     ]
    },
    {
     "name": "stdout",
     "output_type": "stream",
     "text": [
      "WARNING: ignoring environment value of R_HOME\n"
     ]
    },
    {
     "name": "stdout",
     "output_type": "stream",
     "text": [
      "WARNING: ignoring environment value of R_HOME\n"
     ]
    },
    {
     "name": "stdout",
     "output_type": "stream",
     "text": [
      "WARNING: ignoring environment value of R_HOME\n"
     ]
    },
    {
     "name": "stdout",
     "output_type": "stream",
     "text": [
      "WARNING: ignoring environment value of R_HOME\n"
     ]
    },
    {
     "name": "stdout",
     "output_type": "stream",
     "text": [
      "WARNING: ignoring environment value of R_HOME\n"
     ]
    },
    {
     "name": "stdout",
     "output_type": "stream",
     "text": [
      "WARNING: ignoring environment value of R_HOME\n"
     ]
    },
    {
     "name": "stdout",
     "output_type": "stream",
     "text": [
      "WARNING: ignoring environment value of R_HOME\n"
     ]
    },
    {
     "name": "stdout",
     "output_type": "stream",
     "text": [
      "WARNING: ignoring environment value of R_HOME\n"
     ]
    },
    {
     "name": "stdout",
     "output_type": "stream",
     "text": [
      "WARNING: ignoring environment value of R_HOME\n"
     ]
    },
    {
     "name": "stdout",
     "output_type": "stream",
     "text": [
      "WARNING: ignoring environment value of R_HOME\n"
     ]
    },
    {
     "name": "stdout",
     "output_type": "stream",
     "text": [
      "WARNING: ignoring environment value of R_HOME\n"
     ]
    },
    {
     "name": "stdout",
     "output_type": "stream",
     "text": [
      "WARNING: ignoring environment value of R_HOME\n"
     ]
    },
    {
     "name": "stdout",
     "output_type": "stream",
     "text": [
      "WARNING: ignoring environment value of R_HOME\n"
     ]
    },
    {
     "name": "stdout",
     "output_type": "stream",
     "text": [
      "WARNING: ignoring environment value of R_HOME\n"
     ]
    },
    {
     "name": "stdout",
     "output_type": "stream",
     "text": [
      "WARNING: ignoring environment value of R_HOME\n"
     ]
    },
    {
     "name": "stdout",
     "output_type": "stream",
     "text": [
      "WARNING: ignoring environment value of R_HOME\n"
     ]
    },
    {
     "name": "stdout",
     "output_type": "stream",
     "text": [
      "WARNING: ignoring environment value of R_HOME\n"
     ]
    },
    {
     "name": "stdout",
     "output_type": "stream",
     "text": [
      "WARNING: ignoring environment value of R_HOME\n"
     ]
    },
    {
     "name": "stdout",
     "output_type": "stream",
     "text": [
      "WARNING: ignoring environment value of R_HOME\n"
     ]
    },
    {
     "name": "stdout",
     "output_type": "stream",
     "text": [
      "WARNING: ignoring environment value of R_HOME\n"
     ]
    },
    {
     "name": "stdout",
     "output_type": "stream",
     "text": [
      "WARNING: ignoring environment value of R_HOME\n"
     ]
    },
    {
     "name": "stdout",
     "output_type": "stream",
     "text": [
      "WARNING: ignoring environment value of R_HOME\n"
     ]
    },
    {
     "name": "stdout",
     "output_type": "stream",
     "text": [
      "WARNING: ignoring environment value of R_HOME\n"
     ]
    },
    {
     "name": "stdout",
     "output_type": "stream",
     "text": [
      "WARNING: ignoring environment value of R_HOME\n"
     ]
    },
    {
     "name": "stdout",
     "output_type": "stream",
     "text": [
      "WARNING: ignoring environment value of R_HOME\n"
     ]
    },
    {
     "name": "stdout",
     "output_type": "stream",
     "text": [
      "WARNING: ignoring environment value of R_HOME\n"
     ]
    },
    {
     "name": "stdout",
     "output_type": "stream",
     "text": [
      "WARNING: ignoring environment value of R_HOME\n"
     ]
    },
    {
     "name": "stdout",
     "output_type": "stream",
     "text": [
      "WARNING: ignoring environment value of R_HOME\n"
     ]
    },
    {
     "name": "stdout",
     "output_type": "stream",
     "text": [
      "WARNING: ignoring environment value of R_HOME\n"
     ]
    },
    {
     "name": "stdout",
     "output_type": "stream",
     "text": [
      "WARNING: ignoring environment value of R_HOME\n"
     ]
    },
    {
     "name": "stdout",
     "output_type": "stream",
     "text": [
      "WARNING: ignoring environment value of R_HOME\n"
     ]
    },
    {
     "name": "stdout",
     "output_type": "stream",
     "text": [
      "WARNING: ignoring environment value of R_HOME\n"
     ]
    },
    {
     "name": "stdout",
     "output_type": "stream",
     "text": [
      "WARNING: ignoring environment value of R_HOME\n"
     ]
    },
    {
     "name": "stdout",
     "output_type": "stream",
     "text": [
      "WARNING: ignoring environment value of R_HOME\n"
     ]
    },
    {
     "name": "stdout",
     "output_type": "stream",
     "text": [
      "WARNING: ignoring environment value of R_HOME\n"
     ]
    },
    {
     "name": "stdout",
     "output_type": "stream",
     "text": [
      "WARNING: ignoring environment value of R_HOME\n"
     ]
    },
    {
     "name": "stdout",
     "output_type": "stream",
     "text": [
      "WARNING: ignoring environment value of R_HOME\n"
     ]
    },
    {
     "name": "stdout",
     "output_type": "stream",
     "text": [
      "WARNING: ignoring environment value of R_HOME\n"
     ]
    },
    {
     "name": "stdout",
     "output_type": "stream",
     "text": [
      "WARNING: ignoring environment value of R_HOME\n"
     ]
    },
    {
     "name": "stdout",
     "output_type": "stream",
     "text": [
      "WARNING: ignoring environment value of R_HOME\n"
     ]
    },
    {
     "name": "stdout",
     "output_type": "stream",
     "text": [
      "WARNING: ignoring environment value of R_HOME\n"
     ]
    },
    {
     "name": "stdout",
     "output_type": "stream",
     "text": [
      "WARNING: ignoring environment value of R_HOME\n"
     ]
    },
    {
     "name": "stdout",
     "output_type": "stream",
     "text": [
      "WARNING: ignoring environment value of R_HOME\n"
     ]
    },
    {
     "name": "stdout",
     "output_type": "stream",
     "text": [
      "WARNING: ignoring environment value of R_HOME\n"
     ]
    },
    {
     "name": "stdout",
     "output_type": "stream",
     "text": [
      "WARNING: ignoring environment value of R_HOME\n"
     ]
    },
    {
     "name": "stdout",
     "output_type": "stream",
     "text": [
      "WARNING: ignoring environment value of R_HOME\n"
     ]
    },
    {
     "name": "stdout",
     "output_type": "stream",
     "text": [
      "WARNING: ignoring environment value of R_HOME\n"
     ]
    },
    {
     "name": "stdout",
     "output_type": "stream",
     "text": [
      "WARNING: ignoring environment value of R_HOME\n"
     ]
    },
    {
     "name": "stdout",
     "output_type": "stream",
     "text": [
      "WARNING: ignoring environment value of R_HOME\n"
     ]
    },
    {
     "name": "stdout",
     "output_type": "stream",
     "text": [
      "WARNING: ignoring environment value of R_HOME\n"
     ]
    },
    {
     "name": "stdout",
     "output_type": "stream",
     "text": [
      "WARNING: ignoring environment value of R_HOME\n"
     ]
    },
    {
     "name": "stdout",
     "output_type": "stream",
     "text": [
      "WARNING: ignoring environment value of R_HOME\n"
     ]
    },
    {
     "name": "stdout",
     "output_type": "stream",
     "text": [
      "WARNING: ignoring environment value of R_HOME\n"
     ]
    },
    {
     "name": "stdout",
     "output_type": "stream",
     "text": [
      "WARNING: ignoring environment value of R_HOME\n"
     ]
    },
    {
     "name": "stdout",
     "output_type": "stream",
     "text": [
      "WARNING: ignoring environment value of R_HOME\n"
     ]
    },
    {
     "name": "stdout",
     "output_type": "stream",
     "text": [
      "WARNING: ignoring environment value of R_HOME\n"
     ]
    },
    {
     "name": "stdout",
     "output_type": "stream",
     "text": [
      "WARNING: ignoring environment value of R_HOME\n"
     ]
    },
    {
     "name": "stdout",
     "output_type": "stream",
     "text": [
      "WARNING: ignoring environment value of R_HOME\n"
     ]
    },
    {
     "name": "stdout",
     "output_type": "stream",
     "text": [
      "WARNING: ignoring environment value of R_HOME\n"
     ]
    },
    {
     "name": "stdout",
     "output_type": "stream",
     "text": [
      "WARNING: ignoring environment value of R_HOME\n"
     ]
    },
    {
     "name": "stdout",
     "output_type": "stream",
     "text": [
      "WARNING: ignoring environment value of R_HOME\n"
     ]
    },
    {
     "name": "stdout",
     "output_type": "stream",
     "text": [
      "WARNING: ignoring environment value of R_HOME\n"
     ]
    },
    {
     "name": "stdout",
     "output_type": "stream",
     "text": [
      "WARNING: ignoring environment value of R_HOME\n"
     ]
    },
    {
     "name": "stdout",
     "output_type": "stream",
     "text": [
      "WARNING: ignoring environment value of R_HOME\n"
     ]
    },
    {
     "name": "stdout",
     "output_type": "stream",
     "text": [
      "WARNING: ignoring environment value of R_HOME\n"
     ]
    },
    {
     "name": "stdout",
     "output_type": "stream",
     "text": [
      "WARNING: ignoring environment value of R_HOME\n"
     ]
    },
    {
     "name": "stdout",
     "output_type": "stream",
     "text": [
      "WARNING: ignoring environment value of R_HOME\n"
     ]
    },
    {
     "name": "stdout",
     "output_type": "stream",
     "text": [
      "WARNING: ignoring environment value of R_HOME\n"
     ]
    },
    {
     "name": "stdout",
     "output_type": "stream",
     "text": [
      "WARNING: ignoring environment value of R_HOME\n"
     ]
    },
    {
     "name": "stdout",
     "output_type": "stream",
     "text": [
      "WARNING: ignoring environment value of R_HOME\n"
     ]
    },
    {
     "name": "stdout",
     "output_type": "stream",
     "text": [
      "WARNING: ignoring environment value of R_HOME\n"
     ]
    },
    {
     "name": "stdout",
     "output_type": "stream",
     "text": [
      "WARNING: ignoring environment value of R_HOME\n"
     ]
    },
    {
     "name": "stdout",
     "output_type": "stream",
     "text": [
      "WARNING: ignoring environment value of R_HOME\n"
     ]
    },
    {
     "name": "stdout",
     "output_type": "stream",
     "text": [
      "WARNING: ignoring environment value of R_HOME\n"
     ]
    },
    {
     "name": "stdout",
     "output_type": "stream",
     "text": [
      "WARNING: ignoring environment value of R_HOME\n"
     ]
    },
    {
     "name": "stdout",
     "output_type": "stream",
     "text": [
      "WARNING: ignoring environment value of R_HOME\n"
     ]
    },
    {
     "name": "stderr",
     "output_type": "stream",
     "text": [
      "<block>:1:39-51: info: atom does not occur in any rule head:\n",
      "  ap(3,4,#P0,s1)\n",
      "\n",
      "<block>:1:43-57: info: atom does not occur in any rule head:\n",
      "  ap(0,4,#P0,s2y3)\n",
      "\n",
      "<block>:1:45-60: info: atom does not occur in any rule head:\n",
      "  ap(3,4,#P0,empty)\n",
      "\n"
     ]
    },
    {
     "name": "stderr",
     "output_type": "stream",
     "text": [
      "<block>:1:39-51: info: atom does not occur in any rule head:\n",
      "  ap(3,4,#P0,s1)\n",
      "\n",
      "<block>:1:43-57: info: atom does not occur in any rule head:\n",
      "  ap(0,4,#P0,s2y3)\n",
      "\n",
      "<block>:1:45-60: info: atom does not occur in any rule head:\n",
      "  ap(3,4,#P0,empty)\n",
      "\n"
     ]
    },
    {
     "name": "stdout",
     "output_type": "stream",
     "text": [
      "WARNING: ignoring environment value of R_HOME\n"
     ]
    },
    {
     "name": "stdout",
     "output_type": "stream",
     "text": [
      "WARNING: ignoring environment value of R_HOME\n"
     ]
    },
    {
     "name": "stdout",
     "output_type": "stream",
     "text": [
      "WARNING: ignoring environment value of R_HOME\n"
     ]
    },
    {
     "name": "stdout",
     "output_type": "stream",
     "text": [
      "WARNING: ignoring environment value of R_HOME\n"
     ]
    },
    {
     "name": "stdout",
     "output_type": "stream",
     "text": [
      "WARNING: ignoring environment value of R_HOME\n"
     ]
    },
    {
     "name": "stdout",
     "output_type": "stream",
     "text": [
      "WARNING: ignoring environment value of R_HOME\n"
     ]
    },
    {
     "name": "stdout",
     "output_type": "stream",
     "text": [
      "WARNING: ignoring environment value of R_HOME\n"
     ]
    },
    {
     "name": "stdout",
     "output_type": "stream",
     "text": [
      "WARNING: ignoring environment value of R_HOME\n"
     ]
    },
    {
     "name": "stdout",
     "output_type": "stream",
     "text": [
      "WARNING: ignoring environment value of R_HOME\n"
     ]
    },
    {
     "name": "stdout",
     "output_type": "stream",
     "text": [
      "WARNING: ignoring environment value of R_HOME\n"
     ]
    },
    {
     "name": "stdout",
     "output_type": "stream",
     "text": [
      "WARNING: ignoring environment value of R_HOME\n"
     ]
    },
    {
     "name": "stdout",
     "output_type": "stream",
     "text": [
      "WARNING: ignoring environment value of R_HOME\n"
     ]
    },
    {
     "name": "stdout",
     "output_type": "stream",
     "text": [
      "WARNING: ignoring environment value of R_HOME\n"
     ]
    },
    {
     "name": "stdout",
     "output_type": "stream",
     "text": [
      "WARNING: ignoring environment value of R_HOME\n"
     ]
    },
    {
     "name": "stdout",
     "output_type": "stream",
     "text": [
      "WARNING: ignoring environment value of R_HOME\n"
     ]
    },
    {
     "name": "stdout",
     "output_type": "stream",
     "text": [
      "WARNING: ignoring environment value of R_HOME\n"
     ]
    },
    {
     "name": "stdout",
     "output_type": "stream",
     "text": [
      "WARNING: ignoring environment value of R_HOME\n"
     ]
    },
    {
     "name": "stdout",
     "output_type": "stream",
     "text": [
      "WARNING: ignoring environment value of R_HOME\n"
     ]
    },
    {
     "name": "stdout",
     "output_type": "stream",
     "text": [
      "WARNING: ignoring environment value of R_HOME\n"
     ]
    },
    {
     "name": "stdout",
     "output_type": "stream",
     "text": [
      "WARNING: ignoring environment value of R_HOME\n"
     ]
    },
    {
     "name": "stdout",
     "output_type": "stream",
     "text": [
      "WARNING: ignoring environment value of R_HOME\n"
     ]
    },
    {
     "name": "stdout",
     "output_type": "stream",
     "text": [
      "WARNING: ignoring environment value of R_HOME\n"
     ]
    },
    {
     "name": "stdout",
     "output_type": "stream",
     "text": [
      "WARNING: ignoring environment value of R_HOME\n"
     ]
    },
    {
     "name": "stdout",
     "output_type": "stream",
     "text": [
      "WARNING: ignoring environment value of R_HOME\n"
     ]
    },
    {
     "name": "stdout",
     "output_type": "stream",
     "text": [
      "WARNING: ignoring environment value of R_HOME\n"
     ]
    },
    {
     "name": "stdout",
     "output_type": "stream",
     "text": [
      "WARNING: ignoring environment value of R_HOME\n"
     ]
    },
    {
     "name": "stdout",
     "output_type": "stream",
     "text": [
      "WARNING: ignoring environment value of R_HOME\n"
     ]
    },
    {
     "name": "stdout",
     "output_type": "stream",
     "text": [
      "WARNING: ignoring environment value of R_HOME\n"
     ]
    },
    {
     "name": "stdout",
     "output_type": "stream",
     "text": [
      "WARNING: ignoring environment value of R_HOME\n"
     ]
    },
    {
     "name": "stdout",
     "output_type": "stream",
     "text": [
      "WARNING: ignoring environment value of R_HOME\n"
     ]
    },
    {
     "name": "stdout",
     "output_type": "stream",
     "text": [
      "WARNING: ignoring environment value of R_HOME\n"
     ]
    },
    {
     "name": "stdout",
     "output_type": "stream",
     "text": [
      "WARNING: ignoring environment value of R_HOME\n"
     ]
    },
    {
     "name": "stdout",
     "output_type": "stream",
     "text": [
      "WARNING: ignoring environment value of R_HOME\n"
     ]
    },
    {
     "name": "stdout",
     "output_type": "stream",
     "text": [
      "WARNING: ignoring environment value of R_HOME\n"
     ]
    },
    {
     "name": "stdout",
     "output_type": "stream",
     "text": [
      "WARNING: ignoring environment value of R_HOME\n"
     ]
    },
    {
     "name": "stdout",
     "output_type": "stream",
     "text": [
      "WARNING: ignoring environment value of R_HOME\n"
     ]
    },
    {
     "name": "stdout",
     "output_type": "stream",
     "text": [
      "WARNING: ignoring environment value of R_HOME\n"
     ]
    },
    {
     "name": "stdout",
     "output_type": "stream",
     "text": [
      "WARNING: ignoring environment value of R_HOME\n"
     ]
    },
    {
     "name": "stdout",
     "output_type": "stream",
     "text": [
      "WARNING: ignoring environment value of R_HOME\n"
     ]
    },
    {
     "name": "stdout",
     "output_type": "stream",
     "text": [
      "WARNING: ignoring environment value of R_HOME\n"
     ]
    },
    {
     "name": "stdout",
     "output_type": "stream",
     "text": [
      "WARNING: ignoring environment value of R_HOME\n"
     ]
    },
    {
     "name": "stdout",
     "output_type": "stream",
     "text": [
      "WARNING: ignoring environment value of R_HOME\n"
     ]
    },
    {
     "name": "stdout",
     "output_type": "stream",
     "text": [
      "WARNING: ignoring environment value of R_HOME\n"
     ]
    },
    {
     "name": "stdout",
     "output_type": "stream",
     "text": [
      "WARNING: ignoring environment value of R_HOME\n"
     ]
    },
    {
     "name": "stdout",
     "output_type": "stream",
     "text": [
      "WARNING: ignoring environment value of R_HOME\n"
     ]
    },
    {
     "name": "stdout",
     "output_type": "stream",
     "text": [
      "WARNING: ignoring environment value of R_HOME\n"
     ]
    },
    {
     "name": "stdout",
     "output_type": "stream",
     "text": [
      "WARNING: ignoring environment value of R_HOME\n"
     ]
    },
    {
     "name": "stdout",
     "output_type": "stream",
     "text": [
      "WARNING: ignoring environment value of R_HOME\n"
     ]
    },
    {
     "name": "stdout",
     "output_type": "stream",
     "text": [
      "WARNING: ignoring environment value of R_HOME\n"
     ]
    },
    {
     "name": "stdout",
     "output_type": "stream",
     "text": [
      "WARNING: ignoring environment value of R_HOME\n"
     ]
    },
    {
     "name": "stdout",
     "output_type": "stream",
     "text": [
      "WARNING: ignoring environment value of R_HOME\n"
     ]
    },
    {
     "name": "stdout",
     "output_type": "stream",
     "text": [
      "WARNING: ignoring environment value of R_HOME\n"
     ]
    },
    {
     "name": "stdout",
     "output_type": "stream",
     "text": [
      "WARNING: ignoring environment value of R_HOME\n"
     ]
    },
    {
     "name": "stdout",
     "output_type": "stream",
     "text": [
      "WARNING: ignoring environment value of R_HOME\n"
     ]
    },
    {
     "name": "stdout",
     "output_type": "stream",
     "text": [
      "WARNING: ignoring environment value of R_HOME\n"
     ]
    },
    {
     "name": "stdout",
     "output_type": "stream",
     "text": [
      "WARNING: ignoring environment value of R_HOME\n"
     ]
    },
    {
     "name": "stdout",
     "output_type": "stream",
     "text": [
      "WARNING: ignoring environment value of R_HOME\n"
     ]
    },
    {
     "name": "stdout",
     "output_type": "stream",
     "text": [
      "WARNING: ignoring environment value of R_HOME\n"
     ]
    },
    {
     "name": "stdout",
     "output_type": "stream",
     "text": [
      "WARNING: ignoring environment value of R_HOME\n"
     ]
    },
    {
     "name": "stdout",
     "output_type": "stream",
     "text": [
      "WARNING: ignoring environment value of R_HOME\n"
     ]
    },
    {
     "name": "stdout",
     "output_type": "stream",
     "text": [
      "WARNING: ignoring environment value of R_HOME\n"
     ]
    },
    {
     "name": "stdout",
     "output_type": "stream",
     "text": [
      "WARNING: ignoring environment value of R_HOME\n"
     ]
    },
    {
     "name": "stdout",
     "output_type": "stream",
     "text": [
      "WARNING: ignoring environment value of R_HOME\n"
     ]
    },
    {
     "name": "stdout",
     "output_type": "stream",
     "text": [
      "WARNING: ignoring environment value of R_HOME\n"
     ]
    },
    {
     "name": "stdout",
     "output_type": "stream",
     "text": [
      "WARNING: ignoring environment value of R_HOME\n"
     ]
    },
    {
     "name": "stdout",
     "output_type": "stream",
     "text": [
      "WARNING: ignoring environment value of R_HOME\n"
     ]
    },
    {
     "name": "stdout",
     "output_type": "stream",
     "text": [
      "WARNING: ignoring environment value of R_HOME\n"
     ]
    },
    {
     "name": "stdout",
     "output_type": "stream",
     "text": [
      "WARNING: ignoring environment value of R_HOME\n"
     ]
    },
    {
     "name": "stdout",
     "output_type": "stream",
     "text": [
      "WARNING: ignoring environment value of R_HOME\n"
     ]
    },
    {
     "name": "stdout",
     "output_type": "stream",
     "text": [
      "WARNING: ignoring environment value of R_HOME\n"
     ]
    },
    {
     "name": "stdout",
     "output_type": "stream",
     "text": [
      "WARNING: ignoring environment value of R_HOME\n"
     ]
    },
    {
     "name": "stdout",
     "output_type": "stream",
     "text": [
      "WARNING: ignoring environment value of R_HOME\n"
     ]
    },
    {
     "name": "stdout",
     "output_type": "stream",
     "text": [
      "WARNING: ignoring environment value of R_HOME\n"
     ]
    },
    {
     "name": "stdout",
     "output_type": "stream",
     "text": [
      "WARNING: ignoring environment value of R_HOME\n"
     ]
    },
    {
     "name": "stdout",
     "output_type": "stream",
     "text": [
      "WARNING: ignoring environment value of R_HOME\n"
     ]
    },
    {
     "name": "stdout",
     "output_type": "stream",
     "text": [
      "WARNING: ignoring environment value of R_HOME\n"
     ]
    },
    {
     "name": "stdout",
     "output_type": "stream",
     "text": [
      "WARNING: ignoring environment value of R_HOME\n"
     ]
    },
    {
     "name": "stdout",
     "output_type": "stream",
     "text": [
      "WARNING: ignoring environment value of R_HOME\n"
     ]
    },
    {
     "name": "stdout",
     "output_type": "stream",
     "text": [
      "WARNING: ignoring environment value of R_HOME\n"
     ]
    },
    {
     "name": "stdout",
     "output_type": "stream",
     "text": [
      "WARNING: ignoring environment value of R_HOME\n"
     ]
    },
    {
     "name": "stdout",
     "output_type": "stream",
     "text": [
      "WARNING: ignoring environment value of R_HOME\n"
     ]
    },
    {
     "name": "stdout",
     "output_type": "stream",
     "text": [
      "WARNING: ignoring environment value of R_HOME\n"
     ]
    },
    {
     "name": "stdout",
     "output_type": "stream",
     "text": [
      "WARNING: ignoring environment value of R_HOME\n"
     ]
    },
    {
     "name": "stdout",
     "output_type": "stream",
     "text": [
      "WARNING: ignoring environment value of R_HOME\n"
     ]
    },
    {
     "name": "stdout",
     "output_type": "stream",
     "text": [
      "WARNING: ignoring environment value of R_HOME\n"
     ]
    },
    {
     "name": "stdout",
     "output_type": "stream",
     "text": [
      "WARNING: ignoring environment value of R_HOME\n"
     ]
    },
    {
     "name": "stdout",
     "output_type": "stream",
     "text": [
      "WARNING: ignoring environment value of R_HOME\n"
     ]
    },
    {
     "name": "stdout",
     "output_type": "stream",
     "text": [
      "WARNING: ignoring environment value of R_HOME\n"
     ]
    },
    {
     "name": "stdout",
     "output_type": "stream",
     "text": [
      "WARNING: ignoring environment value of R_HOME\n"
     ]
    },
    {
     "name": "stdout",
     "output_type": "stream",
     "text": [
      "WARNING: ignoring environment value of R_HOME\n"
     ]
    },
    {
     "name": "stdout",
     "output_type": "stream",
     "text": [
      "WARNING: ignoring environment value of R_HOME\n"
     ]
    },
    {
     "name": "stdout",
     "output_type": "stream",
     "text": [
      "WARNING: ignoring environment value of R_HOME\n"
     ]
    },
    {
     "name": "stdout",
     "output_type": "stream",
     "text": [
      "WARNING: ignoring environment value of R_HOME\n"
     ]
    },
    {
     "name": "stdout",
     "output_type": "stream",
     "text": [
      "WARNING: ignoring environment value of R_HOME\n"
     ]
    },
    {
     "name": "stdout",
     "output_type": "stream",
     "text": [
      "WARNING: ignoring environment value of R_HOME\n"
     ]
    },
    {
     "name": "stdout",
     "output_type": "stream",
     "text": [
      "WARNING: ignoring environment value of R_HOME\n"
     ]
    },
    {
     "name": "stdout",
     "output_type": "stream",
     "text": [
      "WARNING: ignoring environment value of R_HOME\n"
     ]
    },
    {
     "name": "stdout",
     "output_type": "stream",
     "text": [
      "WARNING: ignoring environment value of R_HOME\n"
     ]
    },
    {
     "name": "stdout",
     "output_type": "stream",
     "text": [
      "WARNING: ignoring environment value of R_HOME\n"
     ]
    },
    {
     "name": "stdout",
     "output_type": "stream",
     "text": [
      "WARNING: ignoring environment value of R_HOME\n"
     ]
    },
    {
     "name": "stdout",
     "output_type": "stream",
     "text": [
      "WARNING: ignoring environment value of R_HOME\n"
     ]
    },
    {
     "name": "stdout",
     "output_type": "stream",
     "text": [
      "WARNING: ignoring environment value of R_HOME\n"
     ]
    },
    {
     "name": "stdout",
     "output_type": "stream",
     "text": [
      "WARNING: ignoring environment value of R_HOME\n"
     ]
    },
    {
     "name": "stdout",
     "output_type": "stream",
     "text": [
      "WARNING: ignoring environment value of R_HOME\n"
     ]
    },
    {
     "name": "stdout",
     "output_type": "stream",
     "text": [
      "WARNING: ignoring environment value of R_HOME\n"
     ]
    },
    {
     "name": "stdout",
     "output_type": "stream",
     "text": [
      "WARNING: ignoring environment value of R_HOME\n"
     ]
    },
    {
     "name": "stdout",
     "output_type": "stream",
     "text": [
      "WARNING: ignoring environment value of R_HOME\n"
     ]
    },
    {
     "name": "stdout",
     "output_type": "stream",
     "text": [
      "WARNING: ignoring environment value of R_HOME\n"
     ]
    },
    {
     "name": "stdout",
     "output_type": "stream",
     "text": [
      "WARNING: ignoring environment value of R_HOME\n"
     ]
    },
    {
     "name": "stdout",
     "output_type": "stream",
     "text": [
      "WARNING: ignoring environment value of R_HOME\n"
     ]
    },
    {
     "name": "stdout",
     "output_type": "stream",
     "text": [
      "WARNING: ignoring environment value of R_HOME\n"
     ]
    },
    {
     "name": "stdout",
     "output_type": "stream",
     "text": [
      "WARNING: ignoring environment value of R_HOME\n"
     ]
    },
    {
     "name": "stdout",
     "output_type": "stream",
     "text": [
      "WARNING: ignoring environment value of R_HOME\n"
     ]
    },
    {
     "name": "stdout",
     "output_type": "stream",
     "text": [
      "WARNING: ignoring environment value of R_HOME\n"
     ]
    },
    {
     "name": "stdout",
     "output_type": "stream",
     "text": [
      "WARNING: ignoring environment value of R_HOME\n"
     ]
    },
    {
     "name": "stdout",
     "output_type": "stream",
     "text": [
      "WARNING: ignoring environment value of R_HOME\n"
     ]
    },
    {
     "name": "stdout",
     "output_type": "stream",
     "text": [
      "WARNING: ignoring environment value of R_HOME\n"
     ]
    },
    {
     "name": "stdout",
     "output_type": "stream",
     "text": [
      "WARNING: ignoring environment value of R_HOME\n"
     ]
    },
    {
     "name": "stdout",
     "output_type": "stream",
     "text": [
      "WARNING: ignoring environment value of R_HOME\n"
     ]
    },
    {
     "name": "stdout",
     "output_type": "stream",
     "text": [
      "WARNING: ignoring environment value of R_HOME\n"
     ]
    },
    {
     "name": "stdout",
     "output_type": "stream",
     "text": [
      "WARNING: ignoring environment value of R_HOME\n"
     ]
    },
    {
     "name": "stdout",
     "output_type": "stream",
     "text": [
      "WARNING: ignoring environment value of R_HOME\n"
     ]
    },
    {
     "name": "stdout",
     "output_type": "stream",
     "text": [
      "WARNING: ignoring environment value of R_HOME\n"
     ]
    },
    {
     "name": "stdout",
     "output_type": "stream",
     "text": [
      "WARNING: ignoring environment value of R_HOME\n"
     ]
    },
    {
     "name": "stdout",
     "output_type": "stream",
     "text": [
      "WARNING: ignoring environment value of R_HOME\n"
     ]
    },
    {
     "name": "stdout",
     "output_type": "stream",
     "text": [
      "WARNING: ignoring environment value of R_HOME\n"
     ]
    },
    {
     "name": "stdout",
     "output_type": "stream",
     "text": [
      "WARNING: ignoring environment value of R_HOME\n"
     ]
    },
    {
     "name": "stdout",
     "output_type": "stream",
     "text": [
      "WARNING: ignoring environment value of R_HOME\n"
     ]
    },
    {
     "name": "stdout",
     "output_type": "stream",
     "text": [
      "WARNING: ignoring environment value of R_HOME\n"
     ]
    },
    {
     "name": "stdout",
     "output_type": "stream",
     "text": [
      "WARNING: ignoring environment value of R_HOME\n"
     ]
    },
    {
     "name": "stdout",
     "output_type": "stream",
     "text": [
      "WARNING: ignoring environment value of R_HOME\n"
     ]
    },
    {
     "name": "stdout",
     "output_type": "stream",
     "text": [
      "WARNING: ignoring environment value of R_HOME\n"
     ]
    },
    {
     "name": "stdout",
     "output_type": "stream",
     "text": [
      "WARNING: ignoring environment value of R_HOME\n"
     ]
    },
    {
     "name": "stdout",
     "output_type": "stream",
     "text": [
      "WARNING: ignoring environment value of R_HOME\n"
     ]
    },
    {
     "name": "stdout",
     "output_type": "stream",
     "text": [
      "WARNING: ignoring environment value of R_HOME\n"
     ]
    },
    {
     "name": "stdout",
     "output_type": "stream",
     "text": [
      "WARNING: ignoring environment value of R_HOME\n"
     ]
    },
    {
     "name": "stdout",
     "output_type": "stream",
     "text": [
      "WARNING: ignoring environment value of R_HOME\n"
     ]
    },
    {
     "name": "stdout",
     "output_type": "stream",
     "text": [
      "WARNING: ignoring environment value of R_HOME\n"
     ]
    },
    {
     "name": "stdout",
     "output_type": "stream",
     "text": [
      "WARNING: ignoring environment value of R_HOME\n"
     ]
    },
    {
     "name": "stdout",
     "output_type": "stream",
     "text": [
      "WARNING: ignoring environment value of R_HOME\n"
     ]
    },
    {
     "name": "stdout",
     "output_type": "stream",
     "text": [
      "WARNING: ignoring environment value of R_HOME\n"
     ]
    },
    {
     "name": "stdout",
     "output_type": "stream",
     "text": [
      "WARNING: ignoring environment value of R_HOME\n"
     ]
    },
    {
     "name": "stdout",
     "output_type": "stream",
     "text": [
      "WARNING: ignoring environment value of R_HOME\n"
     ]
    },
    {
     "name": "stdout",
     "output_type": "stream",
     "text": [
      "WARNING: ignoring environment value of R_HOME\n"
     ]
    },
    {
     "name": "stdout",
     "output_type": "stream",
     "text": [
      "WARNING: ignoring environment value of R_HOME\n"
     ]
    },
    {
     "name": "stdout",
     "output_type": "stream",
     "text": [
      "WARNING: ignoring environment value of R_HOME\n"
     ]
    },
    {
     "name": "stdout",
     "output_type": "stream",
     "text": [
      "WARNING: ignoring environment value of R_HOME\n"
     ]
    },
    {
     "name": "stdout",
     "output_type": "stream",
     "text": [
      "WARNING: ignoring environment value of R_HOME\n"
     ]
    },
    {
     "name": "stdout",
     "output_type": "stream",
     "text": [
      "WARNING: ignoring environment value of R_HOME\n"
     ]
    },
    {
     "name": "stdout",
     "output_type": "stream",
     "text": [
      "WARNING: ignoring environment value of R_HOME\n"
     ]
    },
    {
     "name": "stdout",
     "output_type": "stream",
     "text": [
      "WARNING: ignoring environment value of R_HOME\n"
     ]
    },
    {
     "name": "stdout",
     "output_type": "stream",
     "text": [
      "WARNING: ignoring environment value of R_HOME\n"
     ]
    },
    {
     "name": "stdout",
     "output_type": "stream",
     "text": [
      "WARNING: ignoring environment value of R_HOME\n"
     ]
    },
    {
     "name": "stdout",
     "output_type": "stream",
     "text": [
      "WARNING: ignoring environment value of R_HOME\n"
     ]
    },
    {
     "name": "stdout",
     "output_type": "stream",
     "text": [
      "WARNING: ignoring environment value of R_HOME\n"
     ]
    },
    {
     "name": "stdout",
     "output_type": "stream",
     "text": [
      "WARNING: ignoring environment value of R_HOME\n"
     ]
    },
    {
     "name": "stdout",
     "output_type": "stream",
     "text": [
      "WARNING: ignoring environment value of R_HOME\n"
     ]
    },
    {
     "name": "stdout",
     "output_type": "stream",
     "text": [
      "WARNING: ignoring environment value of R_HOME\n"
     ]
    },
    {
     "name": "stdout",
     "output_type": "stream",
     "text": [
      "WARNING: ignoring environment value of R_HOME\n"
     ]
    },
    {
     "name": "stdout",
     "output_type": "stream",
     "text": [
      "WARNING: ignoring environment value of R_HOME\n"
     ]
    },
    {
     "name": "stdout",
     "output_type": "stream",
     "text": [
      "WARNING: ignoring environment value of R_HOME\n"
     ]
    },
    {
     "name": "stdout",
     "output_type": "stream",
     "text": [
      "WARNING: ignoring environment value of R_HOME\n"
     ]
    },
    {
     "name": "stdout",
     "output_type": "stream",
     "text": [
      "WARNING: ignoring environment value of R_HOME\n"
     ]
    },
    {
     "name": "stdout",
     "output_type": "stream",
     "text": [
      "WARNING: ignoring environment value of R_HOME\n"
     ]
    },
    {
     "name": "stdout",
     "output_type": "stream",
     "text": [
      "WARNING: ignoring environment value of R_HOME\n"
     ]
    },
    {
     "name": "stdout",
     "output_type": "stream",
     "text": [
      "WARNING: ignoring environment value of R_HOME\n"
     ]
    },
    {
     "name": "stdout",
     "output_type": "stream",
     "text": [
      "WARNING: ignoring environment value of R_HOME\n"
     ]
    },
    {
     "name": "stdout",
     "output_type": "stream",
     "text": [
      "WARNING: ignoring environment value of R_HOME\n"
     ]
    },
    {
     "name": "stdout",
     "output_type": "stream",
     "text": [
      "WARNING: ignoring environment value of R_HOME\n"
     ]
    },
    {
     "name": "stdout",
     "output_type": "stream",
     "text": [
      "WARNING: ignoring environment value of R_HOME\n"
     ]
    },
    {
     "name": "stdout",
     "output_type": "stream",
     "text": [
      "WARNING: ignoring environment value of R_HOME\n"
     ]
    },
    {
     "name": "stdout",
     "output_type": "stream",
     "text": [
      "WARNING: ignoring environment value of R_HOME\n"
     ]
    },
    {
     "name": "stdout",
     "output_type": "stream",
     "text": [
      "WARNING: ignoring environment value of R_HOME\n"
     ]
    },
    {
     "name": "stdout",
     "output_type": "stream",
     "text": [
      "WARNING: ignoring environment value of R_HOME\n"
     ]
    },
    {
     "name": "stdout",
     "output_type": "stream",
     "text": [
      "WARNING: ignoring environment value of R_HOME\n"
     ]
    },
    {
     "name": "stdout",
     "output_type": "stream",
     "text": [
      "WARNING: ignoring environment value of R_HOME\n"
     ]
    },
    {
     "name": "stdout",
     "output_type": "stream",
     "text": [
      "WARNING: ignoring environment value of R_HOME\n"
     ]
    },
    {
     "name": "stdout",
     "output_type": "stream",
     "text": [
      "WARNING: ignoring environment value of R_HOME\n"
     ]
    },
    {
     "name": "stdout",
     "output_type": "stream",
     "text": [
      "WARNING: ignoring environment value of R_HOME\n"
     ]
    },
    {
     "name": "stdout",
     "output_type": "stream",
     "text": [
      "WARNING: ignoring environment value of R_HOME\n"
     ]
    },
    {
     "name": "stdout",
     "output_type": "stream",
     "text": [
      "WARNING: ignoring environment value of R_HOME\n"
     ]
    },
    {
     "name": "stdout",
     "output_type": "stream",
     "text": [
      "WARNING: ignoring environment value of R_HOME\n"
     ]
    },
    {
     "name": "stdout",
     "output_type": "stream",
     "text": [
      "WARNING: ignoring environment value of R_HOME\n"
     ]
    },
    {
     "name": "stdout",
     "output_type": "stream",
     "text": [
      "WARNING: ignoring environment value of R_HOME\n"
     ]
    },
    {
     "name": "stdout",
     "output_type": "stream",
     "text": [
      "WARNING: ignoring environment value of R_HOME\n"
     ]
    },
    {
     "name": "stdout",
     "output_type": "stream",
     "text": [
      "WARNING: ignoring environment value of R_HOME\n"
     ]
    },
    {
     "name": "stdout",
     "output_type": "stream",
     "text": [
      "WARNING: ignoring environment value of R_HOME\n"
     ]
    },
    {
     "name": "stdout",
     "output_type": "stream",
     "text": [
      "WARNING: ignoring environment value of R_HOME\n"
     ]
    },
    {
     "name": "stdout",
     "output_type": "stream",
     "text": [
      "WARNING: ignoring environment value of R_HOME\n"
     ]
    },
    {
     "name": "stdout",
     "output_type": "stream",
     "text": [
      "WARNING: ignoring environment value of R_HOME\n"
     ]
    },
    {
     "name": "stdout",
     "output_type": "stream",
     "text": [
      "WARNING: ignoring environment value of R_HOME\n"
     ]
    },
    {
     "name": "stdout",
     "output_type": "stream",
     "text": [
      "WARNING: ignoring environment value of R_HOME\n"
     ]
    },
    {
     "name": "stdout",
     "output_type": "stream",
     "text": [
      "WARNING: ignoring environment value of R_HOME\n"
     ]
    },
    {
     "name": "stdout",
     "output_type": "stream",
     "text": [
      "WARNING: ignoring environment value of R_HOME\n"
     ]
    },
    {
     "name": "stdout",
     "output_type": "stream",
     "text": [
      "WARNING: ignoring environment value of R_HOME\n"
     ]
    },
    {
     "name": "stdout",
     "output_type": "stream",
     "text": [
      "WARNING: ignoring environment value of R_HOME\n"
     ]
    },
    {
     "name": "stdout",
     "output_type": "stream",
     "text": [
      "WARNING: ignoring environment value of R_HOME\n"
     ]
    },
    {
     "name": "stdout",
     "output_type": "stream",
     "text": [
      "WARNING: ignoring environment value of R_HOME\n"
     ]
    },
    {
     "name": "stdout",
     "output_type": "stream",
     "text": [
      "WARNING: ignoring environment value of R_HOME\n"
     ]
    },
    {
     "name": "stdout",
     "output_type": "stream",
     "text": [
      "WARNING: ignoring environment value of R_HOME\n"
     ]
    }
   ],
   "source": [
    "%%capture\n",
    "res_df_bnlearn = run_experiment(\n",
    "    prior_df=bnlearn_prior_df, datasets=bnlearn_small_datasets\n",
    ")\n",
    "res_df_bnlearn.to_csv(\n",
    "    \"results/2025/prior_integration_bnlearn_small.csv\", index=False\n",
    ")"
   ]
  },
  {
   "cell_type": "code",
   "execution_count": null,
   "id": "b09d24dd",
   "metadata": {},
   "outputs": [
    {
     "data": {
      "text/html": [
       "<div>\n",
       "<style scoped>\n",
       "    .dataframe tbody tr th:only-of-type {\n",
       "        vertical-align: middle;\n",
       "    }\n",
       "\n",
       "    .dataframe tbody tr th {\n",
       "        vertical-align: top;\n",
       "    }\n",
       "\n",
       "    .dataframe thead tr th {\n",
       "        text-align: left;\n",
       "    }\n",
       "\n",
       "    .dataframe thead tr:last-of-type th {\n",
       "        text-align: right;\n",
       "    }\n",
       "</style>\n",
       "<table border=\"1\" class=\"dataframe\">\n",
       "  <thead>\n",
       "    <tr>\n",
       "      <th></th>\n",
       "      <th></th>\n",
       "      <th colspan=\"3\" halign=\"left\">meta</th>\n",
       "      <th colspan=\"2\" halign=\"left\">time</th>\n",
       "      <th colspan=\"2\" halign=\"left\">remove_n</th>\n",
       "      <th colspan=\"2\" halign=\"left\">cpdag_F1</th>\n",
       "      <th colspan=\"2\" halign=\"left\">cpdag_shd</th>\n",
       "      <th colspan=\"2\" halign=\"left\">cpdag_sid_low</th>\n",
       "      <th colspan=\"2\" halign=\"left\">cpdag_sid_high</th>\n",
       "    </tr>\n",
       "    <tr>\n",
       "      <th></th>\n",
       "      <th></th>\n",
       "      <th>num_nodes</th>\n",
       "      <th>num_edges</th>\n",
       "      <th>repeats</th>\n",
       "      <th>mean</th>\n",
       "      <th>std</th>\n",
       "      <th>mean</th>\n",
       "      <th>std</th>\n",
       "      <th>mean</th>\n",
       "      <th>std</th>\n",
       "      <th>mean</th>\n",
       "      <th>std</th>\n",
       "      <th>mean</th>\n",
       "      <th>std</th>\n",
       "      <th>mean</th>\n",
       "      <th>std</th>\n",
       "    </tr>\n",
       "    <tr>\n",
       "      <th>dataset</th>\n",
       "      <th>impl</th>\n",
       "      <th></th>\n",
       "      <th></th>\n",
       "      <th></th>\n",
       "      <th></th>\n",
       "      <th></th>\n",
       "      <th></th>\n",
       "      <th></th>\n",
       "      <th></th>\n",
       "      <th></th>\n",
       "      <th></th>\n",
       "      <th></th>\n",
       "      <th></th>\n",
       "      <th></th>\n",
       "      <th></th>\n",
       "      <th></th>\n",
       "    </tr>\n",
       "  </thead>\n",
       "  <tbody>\n",
       "    <tr>\n",
       "      <th rowspan=\"2\" valign=\"top\">cancer</th>\n",
       "      <th>new</th>\n",
       "      <td>5</td>\n",
       "      <td>4</td>\n",
       "      <td>50</td>\n",
       "      <td>0.322949</td>\n",
       "      <td>0.163649</td>\n",
       "      <td>7.80</td>\n",
       "      <td>2.373321</td>\n",
       "      <td>0.643139</td>\n",
       "      <td>0.172362</td>\n",
       "      <td>2.10</td>\n",
       "      <td>1.403349</td>\n",
       "      <td>6.02</td>\n",
       "      <td>3.883455</td>\n",
       "      <td>11.70</td>\n",
       "      <td>3.759342</td>\n",
       "    </tr>\n",
       "    <tr>\n",
       "      <th>org</th>\n",
       "      <td>5</td>\n",
       "      <td>4</td>\n",
       "      <td>50</td>\n",
       "      <td>0.376273</td>\n",
       "      <td>0.201800</td>\n",
       "      <td>7.74</td>\n",
       "      <td>2.405860</td>\n",
       "      <td>0.606360</td>\n",
       "      <td>0.179281</td>\n",
       "      <td>2.42</td>\n",
       "      <td>1.553009</td>\n",
       "      <td>6.20</td>\n",
       "      <td>3.964125</td>\n",
       "      <td>11.76</td>\n",
       "      <td>3.689809</td>\n",
       "    </tr>\n",
       "    <tr>\n",
       "      <th rowspan=\"2\" valign=\"top\">earthquake</th>\n",
       "      <th>new</th>\n",
       "      <td>5</td>\n",
       "      <td>4</td>\n",
       "      <td>50</td>\n",
       "      <td>0.106029</td>\n",
       "      <td>0.115231</td>\n",
       "      <td>0.70</td>\n",
       "      <td>2.052873</td>\n",
       "      <td>0.988888</td>\n",
       "      <td>0.078574</td>\n",
       "      <td>0.06</td>\n",
       "      <td>0.424264</td>\n",
       "      <td>0.00</td>\n",
       "      <td>0.000000</td>\n",
       "      <td>5.18</td>\n",
       "      <td>1.272792</td>\n",
       "    </tr>\n",
       "    <tr>\n",
       "      <th>org</th>\n",
       "      <td>5</td>\n",
       "      <td>4</td>\n",
       "      <td>50</td>\n",
       "      <td>0.102122</td>\n",
       "      <td>0.087386</td>\n",
       "      <td>0.36</td>\n",
       "      <td>1.045105</td>\n",
       "      <td>0.988890</td>\n",
       "      <td>0.033668</td>\n",
       "      <td>0.10</td>\n",
       "      <td>0.303046</td>\n",
       "      <td>0.00</td>\n",
       "      <td>0.000000</td>\n",
       "      <td>5.80</td>\n",
       "      <td>2.507133</td>\n",
       "    </tr>\n",
       "    <tr>\n",
       "      <th rowspan=\"2\" valign=\"top\">survey</th>\n",
       "      <th>new</th>\n",
       "      <td>6</td>\n",
       "      <td>6</td>\n",
       "      <td>50</td>\n",
       "      <td>1.744765</td>\n",
       "      <td>0.705019</td>\n",
       "      <td>26.04</td>\n",
       "      <td>8.785331</td>\n",
       "      <td>0.560282</td>\n",
       "      <td>0.117323</td>\n",
       "      <td>4.72</td>\n",
       "      <td>1.654185</td>\n",
       "      <td>12.34</td>\n",
       "      <td>4.023452</td>\n",
       "      <td>17.88</td>\n",
       "      <td>5.290114</td>\n",
       "    </tr>\n",
       "    <tr>\n",
       "      <th>org</th>\n",
       "      <td>6</td>\n",
       "      <td>6</td>\n",
       "      <td>50</td>\n",
       "      <td>3.042010</td>\n",
       "      <td>1.730802</td>\n",
       "      <td>25.94</td>\n",
       "      <td>8.828086</td>\n",
       "      <td>0.546002</td>\n",
       "      <td>0.135653</td>\n",
       "      <td>5.16</td>\n",
       "      <td>1.844573</td>\n",
       "      <td>12.14</td>\n",
       "      <td>3.974459</td>\n",
       "      <td>18.38</td>\n",
       "      <td>4.606517</td>\n",
       "    </tr>\n",
       "    <tr>\n",
       "      <th rowspan=\"2\" valign=\"top\">asia</th>\n",
       "      <th>new</th>\n",
       "      <td>8</td>\n",
       "      <td>8</td>\n",
       "      <td>50</td>\n",
       "      <td>64.403280</td>\n",
       "      <td>16.337938</td>\n",
       "      <td>82.34</td>\n",
       "      <td>8.279825</td>\n",
       "      <td>0.643304</td>\n",
       "      <td>0.110423</td>\n",
       "      <td>2.66</td>\n",
       "      <td>1.733346</td>\n",
       "      <td>9.30</td>\n",
       "      <td>6.630942</td>\n",
       "      <td>23.52</td>\n",
       "      <td>6.289739</td>\n",
       "    </tr>\n",
       "    <tr>\n",
       "      <th>org</th>\n",
       "      <td>8</td>\n",
       "      <td>8</td>\n",
       "      <td>50</td>\n",
       "      <td>250.609013</td>\n",
       "      <td>122.140006</td>\n",
       "      <td>33.56</td>\n",
       "      <td>5.686217</td>\n",
       "      <td>0.320788</td>\n",
       "      <td>0.108730</td>\n",
       "      <td>10.32</td>\n",
       "      <td>3.365127</td>\n",
       "      <td>12.14</td>\n",
       "      <td>6.151190</td>\n",
       "      <td>27.70</td>\n",
       "      <td>8.598173</td>\n",
       "    </tr>\n",
       "  </tbody>\n",
       "</table>\n",
       "</div>"
      ],
      "text/plain": [
       "                     meta                          time             remove_n  \\\n",
       "                num_nodes num_edges repeats        mean         std     mean   \n",
       "dataset    impl                                                                \n",
       "cancer     new          5         4      50    0.322949    0.163649     7.80   \n",
       "           org          5         4      50    0.376273    0.201800     7.74   \n",
       "earthquake new          5         4      50    0.106029    0.115231     0.70   \n",
       "           org          5         4      50    0.102122    0.087386     0.36   \n",
       "survey     new          6         6      50    1.744765    0.705019    26.04   \n",
       "           org          6         6      50    3.042010    1.730802    25.94   \n",
       "asia       new          8         8      50   64.403280   16.337938    82.34   \n",
       "           org          8         8      50  250.609013  122.140006    33.56   \n",
       "\n",
       "                           cpdag_F1           cpdag_shd            \\\n",
       "                      std      mean       std      mean       std   \n",
       "dataset    impl                                                     \n",
       "cancer     new   2.373321  0.643139  0.172362      2.10  1.403349   \n",
       "           org   2.405860  0.606360  0.179281      2.42  1.553009   \n",
       "earthquake new   2.052873  0.988888  0.078574      0.06  0.424264   \n",
       "           org   1.045105  0.988890  0.033668      0.10  0.303046   \n",
       "survey     new   8.785331  0.560282  0.117323      4.72  1.654185   \n",
       "           org   8.828086  0.546002  0.135653      5.16  1.844573   \n",
       "asia       new   8.279825  0.643304  0.110423      2.66  1.733346   \n",
       "           org   5.686217  0.320788  0.108730     10.32  3.365127   \n",
       "\n",
       "                cpdag_sid_low           cpdag_sid_high            \n",
       "                         mean       std           mean       std  \n",
       "dataset    impl                                                   \n",
       "cancer     new           6.02  3.883455          11.70  3.759342  \n",
       "           org           6.20  3.964125          11.76  3.689809  \n",
       "earthquake new           0.00  0.000000           5.18  1.272792  \n",
       "           org           0.00  0.000000           5.80  2.507133  \n",
       "survey     new          12.34  4.023452          17.88  5.290114  \n",
       "           org          12.14  3.974459          18.38  4.606517  \n",
       "asia       new           9.30  6.630942          23.52  6.289739  \n",
       "           org          12.14  6.151190          27.70  8.598173  "
      ]
     },
     "metadata": {},
     "output_type": "display_data"
    }
   ],
   "source": [
    "bnlearn_report = show_report(res_df_bnlearn)\n",
    "bnlearn_report.to_csv(\"results/2025/prior_integration_bnlearn_small_report.csv\")\n",
    "# To load the view, use\n",
    "# bnlearn_report = pd.read_csv(\n",
    "#     \"results/2025/prior_integration_bnlearn_small_report.csv\",\n",
    "#     index_col=[0, 1],\n",
    "#     header=[0, 1],\n",
    "# )\n",
    "with pd.option_context('display.max_rows', None, 'display.max_columns', None):\n",
    "    display(bnlearn_report)"
   ]
  },
  {
   "cell_type": "markdown",
   "id": "358c7f0a",
   "metadata": {
    "papermill": {
     "duration": 0.063305,
     "end_time": "2025-09-08T16:52:51.377514",
     "exception": false,
     "start_time": "2025-09-08T16:52:51.314209",
     "status": "completed"
    },
    "tags": []
   },
   "source": [
    "### Synthetic datasets"
   ]
  },
  {
   "cell_type": "code",
   "execution_count": 9,
   "id": "d954ce83",
   "metadata": {
    "execution": {
     "iopub.execute_input": "2025-09-08T16:52:51.466618Z",
     "iopub.status.busy": "2025-09-08T16:52:51.466037Z",
     "iopub.status.idle": "2025-09-08T16:52:51.515950Z",
     "shell.execute_reply": "2025-09-08T16:52:51.515421Z"
    },
    "papermill": {
     "duration": 0.08548,
     "end_time": "2025-09-08T16:52:51.516509",
     "exception": false,
     "start_time": "2025-09-08T16:52:51.431029",
     "status": "completed"
    },
    "tags": []
   },
   "outputs": [
    {
     "name": "stdout",
     "output_type": "stream",
     "text": [
      "synthetic_datasets: [PosixPath('priors/datasets/random_graphs/heuristic_by_semantic/factors_influencing_well_being_and_resources.bifxml'), PosixPath('priors/datasets/random_graphs/heuristic_by_semantic/pharmacological_and_cardiac_health_dynamics.bifxml'), PosixPath('priors/datasets/random_graphs/heuristic_by_semantic/interacting_health_conditions_and_outcomes.bifxml'), PosixPath('priors/datasets/random_graphs/heuristic_by_semantic/clinical_variables_in_cardiovascular_and_gastrointestinal_health.bifxml'), PosixPath('priors/datasets/random_graphs/heuristic_by_semantic/clinical_pathways_in_cardiac_and_abdominal_health.bifxml'), PosixPath('priors/datasets/random_graphs/heuristic_by_semantic/interconnected_health_and_socio_economic_outcomes.bifxml'), PosixPath('priors/datasets/random_graphs/heuristic_by_semantic/medical_conditions_and_outcomes.bifxml')]\n"
     ]
    },
    {
     "data": {
      "text/html": [
       "<div>\n",
       "<style scoped>\n",
       "    .dataframe tbody tr th:only-of-type {\n",
       "        vertical-align: middle;\n",
       "    }\n",
       "\n",
       "    .dataframe tbody tr th {\n",
       "        vertical-align: top;\n",
       "    }\n",
       "\n",
       "    .dataframe thead th {\n",
       "        text-align: right;\n",
       "    }\n",
       "</style>\n",
       "<table border=\"1\" class=\"dataframe\">\n",
       "  <thead>\n",
       "    <tr style=\"text-align: right;\">\n",
       "      <th></th>\n",
       "      <th>filename</th>\n",
       "      <th>title</th>\n",
       "      <th>num_nodes</th>\n",
       "      <th>num_edges</th>\n",
       "      <th>variable_descriptions</th>\n",
       "      <th>priors</th>\n",
       "      <th>TP</th>\n",
       "      <th>FP</th>\n",
       "      <th>TN</th>\n",
       "      <th>FN</th>\n",
       "      <th>Precision</th>\n",
       "      <th>Recall</th>\n",
       "      <th>F-beta</th>\n",
       "      <th>run_id</th>\n",
       "    </tr>\n",
       "  </thead>\n",
       "  <tbody>\n",
       "    <tr>\n",
       "      <th>0</th>\n",
       "      <td>clinical_pathways_in_cardiac_and_abdominal_health</td>\n",
       "      <td>clinical_pathways_in_cardiac_and_abdominal_health</td>\n",
       "      <td>7</td>\n",
       "      <td>7</td>\n",
       "      <td>{'shivering': 'An involuntary muscular contrac...</td>\n",
       "      <td>[[shivering, ascites], [shivering, hospital_ad...</td>\n",
       "      <td>10</td>\n",
       "      <td>0</td>\n",
       "      <td>7</td>\n",
       "      <td>4</td>\n",
       "      <td>1</td>\n",
       "      <td>0.714286</td>\n",
       "      <td>0.984848</td>\n",
       "      <td>4</td>\n",
       "    </tr>\n",
       "    <tr>\n",
       "      <th>1</th>\n",
       "      <td>clinical_variables_in_cardiovascular_and_gastr...</td>\n",
       "      <td>clinical_variables_in_cardiovascular_and_gastr...</td>\n",
       "      <td>5</td>\n",
       "      <td>4</td>\n",
       "      <td>{'rectal_varices': 'Abnormally enlarged and to...</td>\n",
       "      <td>[[heart_failure, lower_gastrointestinal_bleedi...</td>\n",
       "      <td>4</td>\n",
       "      <td>0</td>\n",
       "      <td>4</td>\n",
       "      <td>2</td>\n",
       "      <td>1</td>\n",
       "      <td>0.666667</td>\n",
       "      <td>0.981132</td>\n",
       "      <td>9</td>\n",
       "    </tr>\n",
       "    <tr>\n",
       "      <th>2</th>\n",
       "      <td>factors_influencing_well_being_and_resources</td>\n",
       "      <td>factors_influencing_well_being_and_resources</td>\n",
       "      <td>9</td>\n",
       "      <td>8</td>\n",
       "      <td>{'property_damage': 'The impairment, destructi...</td>\n",
       "      <td>[[early_death, separation], [heart_failure, di...</td>\n",
       "      <td>9</td>\n",
       "      <td>0</td>\n",
       "      <td>8</td>\n",
       "      <td>19</td>\n",
       "      <td>1</td>\n",
       "      <td>0.321429</td>\n",
       "      <td>0.924901</td>\n",
       "      <td>7</td>\n",
       "    </tr>\n",
       "    <tr>\n",
       "      <th>3</th>\n",
       "      <td>interacting_health_conditions_and_outcomes</td>\n",
       "      <td>interacting_health_conditions_and_outcomes</td>\n",
       "      <td>11</td>\n",
       "      <td>10</td>\n",
       "      <td>{'kidney_failure': 'A medical condition where ...</td>\n",
       "      <td>[[heart_trouble, osteoporosis_associated_fract...</td>\n",
       "      <td>14</td>\n",
       "      <td>0</td>\n",
       "      <td>10</td>\n",
       "      <td>31</td>\n",
       "      <td>1</td>\n",
       "      <td>0.311111</td>\n",
       "      <td>0.921519</td>\n",
       "      <td>1</td>\n",
       "    </tr>\n",
       "    <tr>\n",
       "      <th>4</th>\n",
       "      <td>interconnected_health_and_socio_economic_outcomes</td>\n",
       "      <td>interconnected_health_and_socio_economic_outcomes</td>\n",
       "      <td>10</td>\n",
       "      <td>11</td>\n",
       "      <td>{'early_death': 'The occurrence of death at an...</td>\n",
       "      <td>[[stagnant_economy, hospitalization], [clostri...</td>\n",
       "      <td>12</td>\n",
       "      <td>0</td>\n",
       "      <td>11</td>\n",
       "      <td>22</td>\n",
       "      <td>1</td>\n",
       "      <td>0.352941</td>\n",
       "      <td>0.934132</td>\n",
       "      <td>3</td>\n",
       "    </tr>\n",
       "    <tr>\n",
       "      <th>5</th>\n",
       "      <td>medical_conditions_and_outcomes</td>\n",
       "      <td>medical_conditions_and_outcomes</td>\n",
       "      <td>8</td>\n",
       "      <td>7</td>\n",
       "      <td>{'early_death': 'The occurrence of mortality a...</td>\n",
       "      <td>[[coronary_heart_disease, imbalanced_ph], [lam...</td>\n",
       "      <td>10</td>\n",
       "      <td>0</td>\n",
       "      <td>7</td>\n",
       "      <td>11</td>\n",
       "      <td>1</td>\n",
       "      <td>0.476190</td>\n",
       "      <td>0.959410</td>\n",
       "      <td>9</td>\n",
       "    </tr>\n",
       "    <tr>\n",
       "      <th>6</th>\n",
       "      <td>pharmacological_and_cardiac_health_dynamics</td>\n",
       "      <td>pharmacological_and_cardiac_health_dynamics</td>\n",
       "      <td>6</td>\n",
       "      <td>6</td>\n",
       "      <td>{'palpitations': 'The subjective experience of...</td>\n",
       "      <td>[[palpitations, appetite_suppression], [heart_...</td>\n",
       "      <td>7</td>\n",
       "      <td>0</td>\n",
       "      <td>6</td>\n",
       "      <td>2</td>\n",
       "      <td>1</td>\n",
       "      <td>0.777778</td>\n",
       "      <td>0.989130</td>\n",
       "      <td>1</td>\n",
       "    </tr>\n",
       "  </tbody>\n",
       "</table>\n",
       "</div>"
      ],
      "text/plain": [
       "                                            filename  \\\n",
       "0  clinical_pathways_in_cardiac_and_abdominal_health   \n",
       "1  clinical_variables_in_cardiovascular_and_gastr...   \n",
       "2       factors_influencing_well_being_and_resources   \n",
       "3         interacting_health_conditions_and_outcomes   \n",
       "4  interconnected_health_and_socio_economic_outcomes   \n",
       "5                    medical_conditions_and_outcomes   \n",
       "6        pharmacological_and_cardiac_health_dynamics   \n",
       "\n",
       "                                               title  num_nodes  num_edges  \\\n",
       "0  clinical_pathways_in_cardiac_and_abdominal_health          7          7   \n",
       "1  clinical_variables_in_cardiovascular_and_gastr...          5          4   \n",
       "2       factors_influencing_well_being_and_resources          9          8   \n",
       "3         interacting_health_conditions_and_outcomes         11         10   \n",
       "4  interconnected_health_and_socio_economic_outcomes         10         11   \n",
       "5                    medical_conditions_and_outcomes          8          7   \n",
       "6        pharmacological_and_cardiac_health_dynamics          6          6   \n",
       "\n",
       "                               variable_descriptions  \\\n",
       "0  {'shivering': 'An involuntary muscular contrac...   \n",
       "1  {'rectal_varices': 'Abnormally enlarged and to...   \n",
       "2  {'property_damage': 'The impairment, destructi...   \n",
       "3  {'kidney_failure': 'A medical condition where ...   \n",
       "4  {'early_death': 'The occurrence of death at an...   \n",
       "5  {'early_death': 'The occurrence of mortality a...   \n",
       "6  {'palpitations': 'The subjective experience of...   \n",
       "\n",
       "                                              priors  TP  FP  TN  FN  \\\n",
       "0  [[shivering, ascites], [shivering, hospital_ad...  10   0   7   4   \n",
       "1  [[heart_failure, lower_gastrointestinal_bleedi...   4   0   4   2   \n",
       "2  [[early_death, separation], [heart_failure, di...   9   0   8  19   \n",
       "3  [[heart_trouble, osteoporosis_associated_fract...  14   0  10  31   \n",
       "4  [[stagnant_economy, hospitalization], [clostri...  12   0  11  22   \n",
       "5  [[coronary_heart_disease, imbalanced_ph], [lam...  10   0   7  11   \n",
       "6  [[palpitations, appetite_suppression], [heart_...   7   0   6   2   \n",
       "\n",
       "   Precision    Recall    F-beta  run_id  \n",
       "0          1  0.714286  0.984848       4  \n",
       "1          1  0.666667  0.981132       9  \n",
       "2          1  0.321429  0.924901       7  \n",
       "3          1  0.311111  0.921519       1  \n",
       "4          1  0.352941  0.934132       3  \n",
       "5          1  0.476190  0.959410       9  \n",
       "6          1  0.777778  0.989130       1  "
      ]
     },
     "execution_count": 9,
     "metadata": {},
     "output_type": "execute_result"
    }
   ],
   "source": [
    "synthetic_datasets = list(Path(\"priors/datasets/random_graphs/heuristic_by_semantic/\").glob(\"*.bifxml\"))\n",
    "print(\"synthetic_datasets:\", synthetic_datasets)\n",
    "synthetic_prior_df = pd.read_json(\"priors/datasets/random_graphs/prior_df.json\")\n",
    "synthetic_prior_df"
   ]
  },
  {
   "cell_type": "code",
   "execution_count": 10,
   "id": "64efc66b",
   "metadata": {
    "execution": {
     "iopub.execute_input": "2025-09-08T16:52:51.595425Z",
     "iopub.status.busy": "2025-09-08T16:52:51.595283Z",
     "iopub.status.idle": "2025-09-08T19:58:36.618953Z",
     "shell.execute_reply": "2025-09-08T19:58:36.618212Z"
    },
    "papermill": {
     "duration": 11145.058167,
     "end_time": "2025-09-08T19:58:36.620482",
     "exception": false,
     "start_time": "2025-09-08T16:52:51.562315",
     "status": "completed"
    },
    "tags": []
   },
   "outputs": [
    {
     "name": "stderr",
     "output_type": "stream",
     "text": [
      "<block>:1:18-37: info: atom does not occur in any rule head:\n",
      "  ext_indep(5,6,s8y1)\n",
      "\n",
      "<block>:1:20-37: info: atom does not occur in any rule head:\n",
      "  ext_dep(5,6,s8y3)\n",
      "\n",
      "<block>:1:22-41: info: atom does not occur in any rule head:\n",
      "  ext_dep(5,6,s8y1y3)\n",
      "\n",
      "<block>:1:18-37: info: atom does not occur in any rule head:\n",
      "  ext_indep(5,6,s8y1)\n",
      "\n",
      "<block>:1:20-37: info: atom does not occur in any rule head:\n",
      "  ext_dep(3,6,s8y1)\n",
      "\n",
      "<block>:1:22-41: info: atom does not occur in any rule head:\n",
      "  ext_dep(5,6,s8y1y3)\n",
      "\n"
     ]
    },
    {
     "name": "stderr",
     "output_type": "stream",
     "text": [
      "<block>:1:18-37: info: atom does not occur in any rule head:\n",
      "  ext_indep(5,6,s8y1)\n",
      "\n",
      "<block>:1:20-37: info: atom does not occur in any rule head:\n",
      "  ext_dep(5,6,s8y3)\n",
      "\n",
      "<block>:1:22-41: info: atom does not occur in any rule head:\n",
      "  ext_dep(5,6,s8y1y3)\n",
      "\n"
     ]
    },
    {
     "name": "stderr",
     "output_type": "stream",
     "text": [
      "<block>:1:18-37: info: atom does not occur in any rule head:\n",
      "  ext_indep(5,6,s8y1)\n",
      "\n",
      "<block>:1:20-37: info: atom does not occur in any rule head:\n",
      "  ext_dep(5,6,s8y3)\n",
      "\n",
      "<block>:1:22-41: info: atom does not occur in any rule head:\n",
      "  ext_dep(5,6,s8y1y3)\n",
      "\n"
     ]
    },
    {
     "name": "stderr",
     "output_type": "stream",
     "text": [
      "<block>:1:18-37: info: atom does not occur in any rule head:\n",
      "  ext_indep(5,6,s8y1)\n",
      "\n",
      "<block>:1:20-37: info: atom does not occur in any rule head:\n",
      "  ext_dep(5,6,s8y3)\n",
      "\n",
      "<block>:1:22-41: info: atom does not occur in any rule head:\n",
      "  ext_dep(5,6,s8y1y3)\n",
      "\n"
     ]
    },
    {
     "name": "stderr",
     "output_type": "stream",
     "text": [
      "<block>:1:18-37: info: atom does not occur in any rule head:\n",
      "  ext_indep(5,6,s8y1)\n",
      "\n",
      "<block>:1:20-37: info: atom does not occur in any rule head:\n",
      "  ext_dep(5,6,s8y3)\n",
      "\n",
      "<block>:1:22-41: info: atom does not occur in any rule head:\n",
      "  ext_dep(5,6,s8y1y3)\n",
      "\n"
     ]
    },
    {
     "name": "stderr",
     "output_type": "stream",
     "text": [
      "<block>:1:18-37: info: atom does not occur in any rule head:\n",
      "  ext_indep(5,6,s8y1)\n",
      "\n",
      "<block>:1:20-37: info: atom does not occur in any rule head:\n",
      "  ext_dep(3,6,s8y1)\n",
      "\n",
      "<block>:1:22-41: info: atom does not occur in any rule head:\n",
      "  ext_dep(5,6,s8y1y3)\n",
      "\n"
     ]
    },
    {
     "name": "stderr",
     "output_type": "stream",
     "text": [
      "<block>:1:18-37: info: atom does not occur in any rule head:\n",
      "  ext_indep(5,6,s8y1)\n",
      "\n",
      "<block>:1:20-37: info: atom does not occur in any rule head:\n",
      "  ext_dep(5,6,s8y3)\n",
      "\n",
      "<block>:1:22-41: info: atom does not occur in any rule head:\n",
      "  ext_dep(5,6,s8y1y3)\n",
      "\n"
     ]
    },
    {
     "name": "stderr",
     "output_type": "stream",
     "text": [
      "<block>:1:18-37: info: atom does not occur in any rule head:\n",
      "  ext_indep(5,6,s8y1)\n",
      "\n",
      "<block>:1:20-37: info: atom does not occur in any rule head:\n",
      "  ext_dep(3,6,s8y1)\n",
      "\n",
      "<block>:1:22-41: info: atom does not occur in any rule head:\n",
      "  ext_dep(5,6,s8y1y3)\n",
      "\n"
     ]
    },
    {
     "name": "stderr",
     "output_type": "stream",
     "text": [
      "<block>:1:18-37: info: atom does not occur in any rule head:\n",
      "  ext_indep(5,6,s8y1)\n",
      "\n",
      "<block>:1:20-37: info: atom does not occur in any rule head:\n",
      "  ext_dep(3,6,s8y1)\n",
      "\n",
      "<block>:1:22-41: info: atom does not occur in any rule head:\n",
      "  ext_dep(5,6,s8y1y3)\n",
      "\n"
     ]
    },
    {
     "name": "stderr",
     "output_type": "stream",
     "text": [
      "<block>:1:18-37: info: atom does not occur in any rule head:\n",
      "  ext_indep(5,6,s8y1)\n",
      "\n",
      "<block>:1:20-37: info: atom does not occur in any rule head:\n",
      "  ext_dep(5,6,s8y3)\n",
      "\n",
      "<block>:1:22-41: info: atom does not occur in any rule head:\n",
      "  ext_dep(5,6,s8y1y3)\n",
      "\n"
     ]
    },
    {
     "name": "stderr",
     "output_type": "stream",
     "text": [
      "<block>:1:18-37: info: atom does not occur in any rule head:\n",
      "  ext_indep(5,6,s8y1)\n",
      "\n",
      "<block>:1:20-37: info: atom does not occur in any rule head:\n",
      "  ext_dep(1,6,s8y3)\n",
      "\n",
      "<block>:1:22-41: info: atom does not occur in any rule head:\n",
      "  ext_dep(5,6,s8y1y3)\n",
      "\n"
     ]
    },
    {
     "name": "stderr",
     "output_type": "stream",
     "text": [
      "<block>:1:18-37: info: atom does not occur in any rule head:\n",
      "  ext_indep(5,6,s8y1)\n",
      "\n",
      "<block>:1:20-37: info: atom does not occur in any rule head:\n",
      "  ext_dep(3,6,s8y1)\n",
      "\n",
      "<block>:1:22-41: info: atom does not occur in any rule head:\n",
      "  ext_dep(5,6,s8y1y3)\n",
      "\n"
     ]
    },
    {
     "name": "stderr",
     "output_type": "stream",
     "text": [
      "<block>:1:18-37: info: atom does not occur in any rule head:\n",
      "  ext_indep(5,6,s8y1)\n",
      "\n",
      "<block>:1:20-37: info: atom does not occur in any rule head:\n",
      "  ext_dep(3,6,s8y1)\n",
      "\n",
      "<block>:1:22-41: info: atom does not occur in any rule head:\n",
      "  ext_dep(5,6,s8y1y3)\n",
      "\n"
     ]
    },
    {
     "name": "stderr",
     "output_type": "stream",
     "text": [
      "<block>:1:18-37: info: atom does not occur in any rule head:\n",
      "  ext_indep(5,6,s8y1)\n",
      "\n",
      "<block>:1:20-37: info: atom does not occur in any rule head:\n",
      "  ext_dep(1,6,s8y3)\n",
      "\n",
      "<block>:1:22-41: info: atom does not occur in any rule head:\n",
      "  ext_dep(5,6,s8y1y3)\n",
      "\n"
     ]
    },
    {
     "name": "stderr",
     "output_type": "stream",
     "text": [
      "<block>:1:18-37: info: atom does not occur in any rule head:\n",
      "  ext_indep(5,6,s8y1)\n",
      "\n",
      "<block>:1:20-37: info: atom does not occur in any rule head:\n",
      "  ext_dep(5,6,s8y3)\n",
      "\n",
      "<block>:1:22-41: info: atom does not occur in any rule head:\n",
      "  ext_dep(5,6,s8y1y3)\n",
      "\n"
     ]
    },
    {
     "name": "stderr",
     "output_type": "stream",
     "text": [
      "<block>:1:18-37: info: atom does not occur in any rule head:\n",
      "  ext_indep(5,6,s8y1)\n",
      "\n",
      "<block>:1:20-37: info: atom does not occur in any rule head:\n",
      "  ext_dep(3,6,s8y1)\n",
      "\n",
      "<block>:1:22-41: info: atom does not occur in any rule head:\n",
      "  ext_dep(5,6,s8y1y3)\n",
      "\n"
     ]
    },
    {
     "name": "stderr",
     "output_type": "stream",
     "text": [
      "<block>:1:18-37: info: atom does not occur in any rule head:\n",
      "  ext_indep(5,6,s8y1)\n",
      "\n",
      "<block>:1:20-37: info: atom does not occur in any rule head:\n",
      "  ext_dep(5,6,s8y3)\n",
      "\n",
      "<block>:1:22-41: info: atom does not occur in any rule head:\n",
      "  ext_dep(5,6,s8y1y3)\n",
      "\n"
     ]
    },
    {
     "name": "stderr",
     "output_type": "stream",
     "text": [
      "<block>:1:18-37: info: atom does not occur in any rule head:\n",
      "  ext_indep(5,6,s8y1)\n",
      "\n",
      "<block>:1:20-37: info: atom does not occur in any rule head:\n",
      "  ext_dep(1,6,s8y3)\n",
      "\n",
      "<block>:1:22-41: info: atom does not occur in any rule head:\n",
      "  ext_dep(5,6,s8y1y3)\n",
      "\n"
     ]
    },
    {
     "name": "stderr",
     "output_type": "stream",
     "text": [
      "<block>:1:18-37: info: atom does not occur in any rule head:\n",
      "  ext_indep(5,6,s8y1)\n",
      "\n",
      "<block>:1:20-37: info: atom does not occur in any rule head:\n",
      "  ext_dep(5,6,s8y3)\n",
      "\n",
      "<block>:1:22-41: info: atom does not occur in any rule head:\n",
      "  ext_dep(5,6,s8y1y3)\n",
      "\n"
     ]
    },
    {
     "name": "stderr",
     "output_type": "stream",
     "text": [
      "<block>:1:20-37: info: atom does not occur in any rule head:\n",
      "  ext_dep(5,6,s8y3)\n",
      "\n",
      "<block>:1:22-41: info: atom does not occur in any rule head:\n",
      "  ext_dep(5,6,s8y1y3)\n",
      "\n"
     ]
    },
    {
     "name": "stderr",
     "output_type": "stream",
     "text": [
      "<block>:1:20-37: info: atom does not occur in any rule head:\n",
      "  ext_dep(5,6,s8y3)\n",
      "\n",
      "<block>:1:22-41: info: atom does not occur in any rule head:\n",
      "  ext_dep(5,6,s8y1y3)\n",
      "\n",
      "<block>:1:18-37: info: atom does not occur in any rule head:\n",
      "  ext_indep(5,6,s8y1)\n",
      "\n",
      "<block>:1:20-37: info: atom does not occur in any rule head:\n",
      "  ext_dep(1,6,s8y3)\n",
      "\n",
      "<block>:1:22-41: info: atom does not occur in any rule head:\n",
      "  ext_dep(5,6,s8y1y3)\n",
      "\n"
     ]
    },
    {
     "name": "stderr",
     "output_type": "stream",
     "text": [
      "<block>:1:18-37: info: atom does not occur in any rule head:\n",
      "  ext_indep(5,6,s8y1)\n",
      "\n",
      "<block>:1:20-37: info: atom does not occur in any rule head:\n",
      "  ext_dep(5,6,s8y3)\n",
      "\n",
      "<block>:1:22-41: info: atom does not occur in any rule head:\n",
      "  ext_dep(5,6,s8y1y3)\n",
      "\n"
     ]
    },
    {
     "name": "stderr",
     "output_type": "stream",
     "text": [
      "<block>:1:20-37: info: atom does not occur in any rule head:\n",
      "  ext_dep(3,6,s8y1)\n",
      "\n",
      "<block>:1:22-41: info: atom does not occur in any rule head:\n",
      "  ext_dep(5,6,s8y1y3)\n",
      "\n"
     ]
    },
    {
     "name": "stderr",
     "output_type": "stream",
     "text": [
      "<block>:1:20-37: info: atom does not occur in any rule head:\n",
      "  ext_dep(3,6,s8y1)\n",
      "\n",
      "<block>:1:22-41: info: atom does not occur in any rule head:\n",
      "  ext_dep(5,6,s8y1y3)\n",
      "\n"
     ]
    },
    {
     "name": "stderr",
     "output_type": "stream",
     "text": [
      "<block>:1:18-37: info: atom does not occur in any rule head:\n",
      "  ext_indep(5,6,s8y1)\n",
      "\n",
      "<block>:1:20-37: info: atom does not occur in any rule head:\n",
      "  ext_dep(1,6,s8y3)\n",
      "\n",
      "<block>:1:22-41: info: atom does not occur in any rule head:\n",
      "  ext_dep(5,6,s8y1y3)\n",
      "\n"
     ]
    },
    {
     "name": "stderr",
     "output_type": "stream",
     "text": [
      "<block>:1:18-37: info: atom does not occur in any rule head:\n",
      "  ext_indep(5,6,s8y1)\n",
      "\n",
      "<block>:1:20-37: info: atom does not occur in any rule head:\n",
      "  ext_dep(1,6,s8y3)\n",
      "\n",
      "<block>:1:22-41: info: atom does not occur in any rule head:\n",
      "  ext_dep(5,6,s8y1y3)\n",
      "\n"
     ]
    },
    {
     "name": "stderr",
     "output_type": "stream",
     "text": [
      "<block>:1:18-37: info: atom does not occur in any rule head:\n",
      "  ext_indep(5,6,s8y1)\n",
      "\n",
      "<block>:1:20-37: info: atom does not occur in any rule head:\n",
      "  ext_dep(5,6,s8y3)\n",
      "\n",
      "<block>:1:22-41: info: atom does not occur in any rule head:\n",
      "  ext_dep(5,6,s8y1y3)\n",
      "\n"
     ]
    },
    {
     "name": "stderr",
     "output_type": "stream",
     "text": [
      "<block>:1:20-37: info: atom does not occur in any rule head:\n",
      "  ext_dep(3,6,s8y1)\n",
      "\n",
      "<block>:1:22-41: info: atom does not occur in any rule head:\n",
      "  ext_dep(5,6,s8y1y3)\n",
      "\n"
     ]
    },
    {
     "name": "stderr",
     "output_type": "stream",
     "text": [
      "<block>:1:20-37: info: atom does not occur in any rule head:\n",
      "  ext_dep(1,6,s8y3)\n",
      "\n",
      "<block>:1:22-41: info: atom does not occur in any rule head:\n",
      "  ext_dep(5,6,s8y1y3)\n",
      "\n"
     ]
    },
    {
     "name": "stderr",
     "output_type": "stream",
     "text": [
      "<block>:1:20-37: info: atom does not occur in any rule head:\n",
      "  ext_dep(1,6,s8y3)\n",
      "\n",
      "<block>:1:22-41: info: atom does not occur in any rule head:\n",
      "  ext_dep(5,6,s8y1y3)\n",
      "\n",
      "<block>:1:18-37: info: atom does not occur in any rule head:\n",
      "  ext_indep(5,6,s8y1)\n",
      "\n",
      "<block>:1:20-37: info: atom does not occur in any rule head:\n",
      "  ext_dep(1,6,s8y3)\n",
      "\n",
      "<block>:1:22-41: info: atom does not occur in any rule head:\n",
      "  ext_dep(5,6,s8y1y3)\n",
      "\n"
     ]
    },
    {
     "name": "stderr",
     "output_type": "stream",
     "text": [
      "<block>:1:18-37: info: atom does not occur in any rule head:\n",
      "  ext_indep(5,6,s8y1)\n",
      "\n",
      "<block>:1:20-37: info: atom does not occur in any rule head:\n",
      "  ext_dep(1,6,s8y3)\n",
      "\n",
      "<block>:1:22-41: info: atom does not occur in any rule head:\n",
      "  ext_dep(5,6,s8y1y3)\n",
      "\n"
     ]
    },
    {
     "name": "stderr",
     "output_type": "stream",
     "text": [
      "<block>:1:18-37: info: atom does not occur in any rule head:\n",
      "  ext_indep(5,6,s8y1)\n",
      "\n",
      "<block>:1:20-37: info: atom does not occur in any rule head:\n",
      "  ext_dep(5,6,s8y3)\n",
      "\n",
      "<block>:1:22-41: info: atom does not occur in any rule head:\n",
      "  ext_dep(5,6,s8y1y3)\n",
      "\n"
     ]
    },
    {
     "name": "stderr",
     "output_type": "stream",
     "text": [
      "<block>:1:20-37: info: atom does not occur in any rule head:\n",
      "  ext_dep(1,6,s8y3)\n",
      "\n",
      "<block>:1:22-41: info: atom does not occur in any rule head:\n",
      "  ext_dep(5,6,s8y1y3)\n",
      "\n"
     ]
    },
    {
     "name": "stderr",
     "output_type": "stream",
     "text": [
      "<block>:1:20-37: info: atom does not occur in any rule head:\n",
      "  ext_dep(1,6,s8y3)\n",
      "\n",
      "<block>:1:22-41: info: atom does not occur in any rule head:\n",
      "  ext_dep(5,6,s8y1y3)\n",
      "\n"
     ]
    },
    {
     "name": "stderr",
     "output_type": "stream",
     "text": [
      "<block>:1:20-37: info: atom does not occur in any rule head:\n",
      "  ext_dep(3,6,s8y1)\n",
      "\n",
      "<block>:1:22-41: info: atom does not occur in any rule head:\n",
      "  ext_dep(5,6,s8y1y3)\n",
      "\n"
     ]
    },
    {
     "name": "stderr",
     "output_type": "stream",
     "text": [
      "<block>:1:18-37: info: atom does not occur in any rule head:\n",
      "  ext_indep(5,6,s8y1)\n",
      "\n",
      "<block>:1:20-37: info: atom does not occur in any rule head:\n",
      "  ext_dep(3,6,s8y1)\n",
      "\n",
      "<block>:1:22-41: info: atom does not occur in any rule head:\n",
      "  ext_dep(5,6,s8y1y3)\n",
      "\n",
      "<block>:1:18-37: info: atom does not occur in any rule head:\n",
      "  ext_indep(5,6,s8y1)\n",
      "\n",
      "<block>:1:20-37: info: atom does not occur in any rule head:\n",
      "  ext_dep(3,6,s8y1)\n",
      "\n",
      "<block>:1:22-41: info: atom does not occur in any rule head:\n",
      "  ext_dep(5,6,s8y1y3)\n",
      "\n"
     ]
    },
    {
     "name": "stderr",
     "output_type": "stream",
     "text": [
      "<block>:1:18-37: info: atom does not occur in any rule head:\n",
      "  ext_indep(5,6,s8y1)\n",
      "\n",
      "<block>:1:20-37: info: atom does not occur in any rule head:\n",
      "  ext_dep(5,6,s8y3)\n",
      "\n",
      "<block>:1:22-41: info: atom does not occur in any rule head:\n",
      "  ext_dep(5,6,s8y1y3)\n",
      "\n"
     ]
    },
    {
     "name": "stderr",
     "output_type": "stream",
     "text": [
      "<block>:1:18-37: info: atom does not occur in any rule head:\n",
      "  ext_indep(5,6,s8y1)\n",
      "\n",
      "<block>:1:20-37: info: atom does not occur in any rule head:\n",
      "  ext_dep(3,6,s8y1)\n",
      "\n",
      "<block>:1:22-41: info: atom does not occur in any rule head:\n",
      "  ext_dep(5,6,s8y1y3)\n",
      "\n"
     ]
    },
    {
     "name": "stderr",
     "output_type": "stream",
     "text": [
      "<block>:1:18-37: info: atom does not occur in any rule head:\n",
      "  ext_indep(5,6,s8y1)\n",
      "\n",
      "<block>:1:20-37: info: atom does not occur in any rule head:\n",
      "  ext_dep(5,6,s8y3)\n",
      "\n",
      "<block>:1:22-41: info: atom does not occur in any rule head:\n",
      "  ext_dep(5,6,s8y1y3)\n",
      "\n",
      "<block>:1:18-37: info: atom does not occur in any rule head:\n",
      "  ext_indep(5,6,s8y1)\n",
      "\n",
      "<block>:1:20-37: info: atom does not occur in any rule head:\n",
      "  ext_dep(3,6,s8y1)\n",
      "\n",
      "<block>:1:22-41: info: atom does not occur in any rule head:\n",
      "  ext_dep(5,6,s8y1y3)\n",
      "\n"
     ]
    },
    {
     "name": "stderr",
     "output_type": "stream",
     "text": [
      "<block>:1:18-37: info: atom does not occur in any rule head:\n",
      "  ext_indep(5,6,s8y1)\n",
      "\n",
      "<block>:1:20-37: info: atom does not occur in any rule head:\n",
      "  ext_dep(3,6,s8y1)\n",
      "\n",
      "<block>:1:22-41: info: atom does not occur in any rule head:\n",
      "  ext_dep(5,6,s8y1y3)\n",
      "\n"
     ]
    },
    {
     "name": "stderr",
     "output_type": "stream",
     "text": [
      "<block>:1:18-37: info: atom does not occur in any rule head:\n",
      "  ext_indep(5,6,s8y1)\n",
      "\n",
      "<block>:1:20-37: info: atom does not occur in any rule head:\n",
      "  ext_dep(3,6,s8y1)\n",
      "\n",
      "<block>:1:22-41: info: atom does not occur in any rule head:\n",
      "  ext_dep(5,6,s8y1y3)\n",
      "\n"
     ]
    },
    {
     "name": "stderr",
     "output_type": "stream",
     "text": [
      "<block>:1:18-37: info: atom does not occur in any rule head:\n",
      "  ext_indep(5,6,s8y1)\n",
      "\n",
      "<block>:1:20-37: info: atom does not occur in any rule head:\n",
      "  ext_dep(5,6,s8y3)\n",
      "\n",
      "<block>:1:22-41: info: atom does not occur in any rule head:\n",
      "  ext_dep(5,6,s8y1y3)\n",
      "\n"
     ]
    },
    {
     "name": "stderr",
     "output_type": "stream",
     "text": [
      "<block>:1:18-37: info: atom does not occur in any rule head:\n",
      "  ext_indep(5,6,s8y1)\n",
      "\n",
      "<block>:1:20-37: info: atom does not occur in any rule head:\n",
      "  ext_dep(5,6,s8y3)\n",
      "\n",
      "<block>:1:22-41: info: atom does not occur in any rule head:\n",
      "  ext_dep(5,6,s8y1y3)\n",
      "\n"
     ]
    },
    {
     "name": "stderr",
     "output_type": "stream",
     "text": [
      "<block>:1:18-37: info: atom does not occur in any rule head:\n",
      "  ext_indep(5,6,s8y1)\n",
      "\n",
      "<block>:1:20-37: info: atom does not occur in any rule head:\n",
      "  ext_dep(5,6,s8y3)\n",
      "\n",
      "<block>:1:22-41: info: atom does not occur in any rule head:\n",
      "  ext_dep(5,6,s8y1y3)\n",
      "\n",
      "<block>:1:39-51: info: atom does not occur in any rule head:\n",
      "  ap(3,7,#P0,s5)\n",
      "\n",
      "<block>:1:45-60: info: atom does not occur in any rule head:\n",
      "  ap(3,7,#P0,empty)\n",
      "\n",
      "<block>:1:18-37: info: atom does not occur in any rule head:\n",
      "  ext_indep(5,6,s8y1)\n",
      "\n",
      "<block>:1:20-37: info: atom does not occur in any rule head:\n",
      "  ext_dep(5,6,s8y3)\n",
      "\n",
      "<block>:1:22-41: info: atom does not occur in any rule head:\n",
      "  ext_dep(5,6,s8y1y3)\n",
      "\n",
      "<block>:1:39-51: info: atom does not occur in any rule head:\n",
      "  ap(3,7,#P0,s5)\n",
      "\n",
      "<block>:1:45-60: info: atom does not occur in any rule head:\n",
      "  ap(3,7,#P0,empty)\n",
      "\n"
     ]
    },
    {
     "name": "stderr",
     "output_type": "stream",
     "text": [
      "<block>:1:18-37: info: atom does not occur in any rule head:\n",
      "  ext_indep(5,6,s8y1)\n",
      "\n",
      "<block>:1:20-37: info: atom does not occur in any rule head:\n",
      "  ext_dep(5,6,s8y3)\n",
      "\n",
      "<block>:1:22-41: info: atom does not occur in any rule head:\n",
      "  ext_dep(5,6,s8y1y3)\n",
      "\n"
     ]
    },
    {
     "name": "stderr",
     "output_type": "stream",
     "text": [
      "<block>:1:18-37: info: atom does not occur in any rule head:\n",
      "  ext_indep(5,6,s8y1)\n",
      "\n",
      "<block>:1:20-37: info: atom does not occur in any rule head:\n",
      "  ext_dep(3,6,s8y1)\n",
      "\n",
      "<block>:1:22-41: info: atom does not occur in any rule head:\n",
      "  ext_dep(5,6,s8y1y3)\n",
      "\n"
     ]
    },
    {
     "name": "stderr",
     "output_type": "stream",
     "text": [
      "<block>:1:18-37: info: atom does not occur in any rule head:\n",
      "  ext_indep(5,6,s8y1)\n",
      "\n",
      "<block>:1:20-37: info: atom does not occur in any rule head:\n",
      "  ext_dep(5,6,s8y3)\n",
      "\n",
      "<block>:1:22-41: info: atom does not occur in any rule head:\n",
      "  ext_dep(5,6,s8y1y3)\n",
      "\n"
     ]
    },
    {
     "name": "stderr",
     "output_type": "stream",
     "text": [
      "<block>:1:18-37: info: atom does not occur in any rule head:\n",
      "  ext_indep(5,6,s8y1)\n",
      "\n",
      "<block>:1:20-37: info: atom does not occur in any rule head:\n",
      "  ext_dep(3,6,s8y1)\n",
      "\n",
      "<block>:1:22-41: info: atom does not occur in any rule head:\n",
      "  ext_dep(5,6,s8y1y3)\n",
      "\n"
     ]
    },
    {
     "name": "stderr",
     "output_type": "stream",
     "text": [
      "<block>:1:18-37: info: atom does not occur in any rule head:\n",
      "  ext_indep(5,6,s8y1)\n",
      "\n",
      "<block>:1:20-37: info: atom does not occur in any rule head:\n",
      "  ext_dep(5,6,s8y3)\n",
      "\n",
      "<block>:1:22-41: info: atom does not occur in any rule head:\n",
      "  ext_dep(5,6,s8y1y3)\n",
      "\n"
     ]
    },
    {
     "name": "stderr",
     "output_type": "stream",
     "text": [
      "<block>:1:18-37: info: atom does not occur in any rule head:\n",
      "  ext_indep(5,6,s8y1)\n",
      "\n",
      "<block>:1:20-37: info: atom does not occur in any rule head:\n",
      "  ext_dep(3,6,s8y1)\n",
      "\n",
      "<block>:1:22-41: info: atom does not occur in any rule head:\n",
      "  ext_dep(5,6,s8y1y3)\n",
      "\n"
     ]
    },
    {
     "name": "stderr",
     "output_type": "stream",
     "text": [
      "<block>:1:18-37: info: atom does not occur in any rule head:\n",
      "  ext_indep(5,6,s8y1)\n",
      "\n",
      "<block>:1:20-37: info: atom does not occur in any rule head:\n",
      "  ext_dep(3,6,s8y1)\n",
      "\n",
      "<block>:1:22-41: info: atom does not occur in any rule head:\n",
      "  ext_dep(5,6,s8y1y3)\n",
      "\n"
     ]
    },
    {
     "name": "stderr",
     "output_type": "stream",
     "text": [
      "<block>:1:18-37: info: atom does not occur in any rule head:\n",
      "  ext_indep(5,6,s8y1)\n",
      "\n",
      "<block>:1:20-37: info: atom does not occur in any rule head:\n",
      "  ext_dep(3,6,s8y1)\n",
      "\n",
      "<block>:1:22-41: info: atom does not occur in any rule head:\n",
      "  ext_dep(5,6,s8y1y3)\n",
      "\n"
     ]
    },
    {
     "name": "stderr",
     "output_type": "stream",
     "text": [
      "<block>:1:18-37: info: atom does not occur in any rule head:\n",
      "  ext_indep(5,6,s8y1)\n",
      "\n",
      "<block>:1:20-37: info: atom does not occur in any rule head:\n",
      "  ext_dep(3,6,s8y1)\n",
      "\n",
      "<block>:1:22-41: info: atom does not occur in any rule head:\n",
      "  ext_dep(5,6,s8y1y3)\n",
      "\n"
     ]
    },
    {
     "name": "stderr",
     "output_type": "stream",
     "text": [
      "<block>:1:18-37: info: atom does not occur in any rule head:\n",
      "  ext_indep(5,6,s8y1)\n",
      "\n",
      "<block>:1:20-37: info: atom does not occur in any rule head:\n",
      "  ext_dep(3,6,s8y1)\n",
      "\n",
      "<block>:1:22-41: info: atom does not occur in any rule head:\n",
      "  ext_dep(5,6,s8y1y3)\n",
      "\n"
     ]
    },
    {
     "name": "stderr",
     "output_type": "stream",
     "text": [
      "<block>:1:20-37: info: atom does not occur in any rule head:\n",
      "  ext_dep(5,6,s8y3)\n",
      "\n",
      "<block>:1:22-41: info: atom does not occur in any rule head:\n",
      "  ext_dep(5,6,s8y1y3)\n",
      "\n"
     ]
    },
    {
     "name": "stderr",
     "output_type": "stream",
     "text": [
      "<block>:1:20-37: info: atom does not occur in any rule head:\n",
      "  ext_dep(3,6,s8y1)\n",
      "\n",
      "<block>:1:22-41: info: atom does not occur in any rule head:\n",
      "  ext_dep(5,6,s8y1y3)\n",
      "\n"
     ]
    },
    {
     "name": "stderr",
     "output_type": "stream",
     "text": [
      "<block>:1:20-37: info: atom does not occur in any rule head:\n",
      "  ext_dep(5,6,s8y3)\n",
      "\n",
      "<block>:1:22-41: info: atom does not occur in any rule head:\n",
      "  ext_dep(5,6,s8y1y3)\n",
      "\n"
     ]
    },
    {
     "name": "stderr",
     "output_type": "stream",
     "text": [
      "<block>:1:20-37: info: atom does not occur in any rule head:\n",
      "  ext_dep(5,6,s8y3)\n",
      "\n",
      "<block>:1:22-41: info: atom does not occur in any rule head:\n",
      "  ext_dep(5,6,s8y1y3)\n",
      "\n"
     ]
    },
    {
     "name": "stderr",
     "output_type": "stream",
     "text": [
      "<block>:1:20-37: info: atom does not occur in any rule head:\n",
      "  ext_dep(3,6,s8y1)\n",
      "\n",
      "<block>:1:22-41: info: atom does not occur in any rule head:\n",
      "  ext_dep(5,6,s8y1y3)\n",
      "\n"
     ]
    },
    {
     "name": "stderr",
     "output_type": "stream",
     "text": [
      "<block>:1:20-37: info: atom does not occur in any rule head:\n",
      "  ext_dep(3,6,s8y1)\n",
      "\n",
      "<block>:1:22-41: info: atom does not occur in any rule head:\n",
      "  ext_dep(5,6,s8y1y3)\n",
      "\n"
     ]
    },
    {
     "name": "stderr",
     "output_type": "stream",
     "text": [
      "<block>:1:20-37: info: atom does not occur in any rule head:\n",
      "  ext_dep(3,6,s8y1)\n",
      "\n",
      "<block>:1:22-41: info: atom does not occur in any rule head:\n",
      "  ext_dep(5,6,s8y1y3)\n",
      "\n"
     ]
    },
    {
     "name": "stderr",
     "output_type": "stream",
     "text": [
      "<block>:1:20-37: info: atom does not occur in any rule head:\n",
      "  ext_dep(5,6,s8y3)\n",
      "\n",
      "<block>:1:22-41: info: atom does not occur in any rule head:\n",
      "  ext_dep(5,6,s8y1y3)\n",
      "\n"
     ]
    },
    {
     "name": "stderr",
     "output_type": "stream",
     "text": [
      "<block>:1:20-37: info: atom does not occur in any rule head:\n",
      "  ext_dep(3,6,s8y1)\n",
      "\n",
      "<block>:1:22-41: info: atom does not occur in any rule head:\n",
      "  ext_dep(5,6,s8y1y3)\n",
      "\n"
     ]
    },
    {
     "name": "stderr",
     "output_type": "stream",
     "text": [
      "<block>:1:20-37: info: atom does not occur in any rule head:\n",
      "  ext_dep(3,6,s8y1)\n",
      "\n",
      "<block>:1:22-41: info: atom does not occur in any rule head:\n",
      "  ext_dep(5,6,s8y1y3)\n",
      "\n"
     ]
    },
    {
     "name": "stderr",
     "output_type": "stream",
     "text": [
      "<block>:1:18-37: info: atom does not occur in any rule head:\n",
      "  ext_indep(5,6,s8y1)\n",
      "\n",
      "<block>:1:20-37: info: atom does not occur in any rule head:\n",
      "  ext_dep(5,6,s8y3)\n",
      "\n",
      "<block>:1:22-41: info: atom does not occur in any rule head:\n",
      "  ext_dep(5,6,s8y1y3)\n",
      "\n",
      "<block>:1:39-51: info: atom does not occur in any rule head:\n",
      "  ap(3,7,#P0,s5)\n",
      "\n",
      "<block>:1:45-60: info: atom does not occur in any rule head:\n",
      "  ap(3,7,#P0,empty)\n",
      "\n"
     ]
    },
    {
     "name": "stderr",
     "output_type": "stream",
     "text": [
      "<block>:1:18-37: info: atom does not occur in any rule head:\n",
      "  ext_indep(5,6,s8y1)\n",
      "\n",
      "<block>:1:20-37: info: atom does not occur in any rule head:\n",
      "  ext_dep(5,6,s8y3)\n",
      "\n",
      "<block>:1:22-41: info: atom does not occur in any rule head:\n",
      "  ext_dep(5,6,s8y1y3)\n",
      "\n",
      "<block>:1:39-51: info: atom does not occur in any rule head:\n",
      "  ap(3,7,#P0,s5)\n",
      "\n",
      "<block>:1:45-60: info: atom does not occur in any rule head:\n",
      "  ap(3,7,#P0,empty)\n",
      "\n"
     ]
    },
    {
     "name": "stderr",
     "output_type": "stream",
     "text": [
      "<block>:1:18-37: info: atom does not occur in any rule head:\n",
      "  ext_indep(5,6,s8y1)\n",
      "\n",
      "<block>:1:20-37: info: atom does not occur in any rule head:\n",
      "  ext_dep(5,6,s8y3)\n",
      "\n",
      "<block>:1:22-41: info: atom does not occur in any rule head:\n",
      "  ext_dep(5,6,s8y1y3)\n",
      "\n"
     ]
    },
    {
     "name": "stderr",
     "output_type": "stream",
     "text": [
      "<block>:1:18-37: info: atom does not occur in any rule head:\n",
      "  ext_indep(5,6,s8y1)\n",
      "\n",
      "<block>:1:20-37: info: atom does not occur in any rule head:\n",
      "  ext_dep(5,6,s8y3)\n",
      "\n",
      "<block>:1:22-41: info: atom does not occur in any rule head:\n",
      "  ext_dep(5,6,s8y1y3)\n",
      "\n"
     ]
    },
    {
     "name": "stderr",
     "output_type": "stream",
     "text": [
      "<block>:1:18-37: info: atom does not occur in any rule head:\n",
      "  ext_indep(5,6,s8y1)\n",
      "\n",
      "<block>:1:20-37: info: atom does not occur in any rule head:\n",
      "  ext_dep(3,6,s8y1)\n",
      "\n",
      "<block>:1:22-41: info: atom does not occur in any rule head:\n",
      "  ext_dep(5,6,s8y1y3)\n",
      "\n"
     ]
    },
    {
     "name": "stderr",
     "output_type": "stream",
     "text": [
      "<block>:1:18-37: info: atom does not occur in any rule head:\n",
      "  ext_indep(5,6,s8y1)\n",
      "\n",
      "<block>:1:20-37: info: atom does not occur in any rule head:\n",
      "  ext_dep(5,6,s8y3)\n",
      "\n",
      "<block>:1:22-41: info: atom does not occur in any rule head:\n",
      "  ext_dep(5,6,s8y1y3)\n",
      "\n"
     ]
    },
    {
     "name": "stderr",
     "output_type": "stream",
     "text": [
      "<block>:1:18-37: info: atom does not occur in any rule head:\n",
      "  ext_indep(5,6,s8y1)\n",
      "\n",
      "<block>:1:20-37: info: atom does not occur in any rule head:\n",
      "  ext_dep(3,6,s8y1)\n",
      "\n",
      "<block>:1:22-41: info: atom does not occur in any rule head:\n",
      "  ext_dep(5,6,s8y1y3)\n",
      "\n"
     ]
    },
    {
     "name": "stderr",
     "output_type": "stream",
     "text": [
      "<block>:1:18-37: info: atom does not occur in any rule head:\n",
      "  ext_indep(5,6,s8y1)\n",
      "\n",
      "<block>:1:20-37: info: atom does not occur in any rule head:\n",
      "  ext_dep(5,6,s8y3)\n",
      "\n",
      "<block>:1:22-41: info: atom does not occur in any rule head:\n",
      "  ext_dep(5,6,s8y1y3)\n",
      "\n"
     ]
    },
    {
     "name": "stderr",
     "output_type": "stream",
     "text": [
      "<block>:1:18-37: info: atom does not occur in any rule head:\n",
      "  ext_indep(5,6,s8y1)\n",
      "\n",
      "<block>:1:20-37: info: atom does not occur in any rule head:\n",
      "  ext_dep(3,6,s8y1)\n",
      "\n",
      "<block>:1:22-41: info: atom does not occur in any rule head:\n",
      "  ext_dep(5,6,s8y1y3)\n",
      "\n"
     ]
    },
    {
     "name": "stderr",
     "output_type": "stream",
     "text": [
      "<block>:1:18-37: info: atom does not occur in any rule head:\n",
      "  ext_indep(5,6,s8y1)\n",
      "\n",
      "<block>:1:20-37: info: atom does not occur in any rule head:\n",
      "  ext_dep(3,6,s8y1)\n",
      "\n",
      "<block>:1:22-41: info: atom does not occur in any rule head:\n",
      "  ext_dep(5,6,s8y1y3)\n",
      "\n"
     ]
    },
    {
     "name": "stderr",
     "output_type": "stream",
     "text": [
      "<block>:1:18-37: info: atom does not occur in any rule head:\n",
      "  ext_indep(5,6,s8y1)\n",
      "\n",
      "<block>:1:20-37: info: atom does not occur in any rule head:\n",
      "  ext_dep(3,6,s8y1)\n",
      "\n",
      "<block>:1:22-41: info: atom does not occur in any rule head:\n",
      "  ext_dep(5,6,s8y1y3)\n",
      "\n"
     ]
    },
    {
     "name": "stderr",
     "output_type": "stream",
     "text": [
      "<block>:1:18-37: info: atom does not occur in any rule head:\n",
      "  ext_indep(5,6,s8y1)\n",
      "\n",
      "<block>:1:20-37: info: atom does not occur in any rule head:\n",
      "  ext_dep(3,6,s8y1)\n",
      "\n",
      "<block>:1:22-41: info: atom does not occur in any rule head:\n",
      "  ext_dep(5,6,s8y1y3)\n",
      "\n"
     ]
    },
    {
     "name": "stderr",
     "output_type": "stream",
     "text": [
      "<block>:1:20-37: info: atom does not occur in any rule head:\n",
      "  ext_dep(5,6,s8y3)\n",
      "\n",
      "<block>:1:22-41: info: atom does not occur in any rule head:\n",
      "  ext_dep(5,6,s8y1y3)\n",
      "\n"
     ]
    },
    {
     "name": "stderr",
     "output_type": "stream",
     "text": [
      "<block>:1:20-37: info: atom does not occur in any rule head:\n",
      "  ext_dep(3,6,s8y1)\n",
      "\n",
      "<block>:1:22-41: info: atom does not occur in any rule head:\n",
      "  ext_dep(5,6,s8y1y3)\n",
      "\n"
     ]
    },
    {
     "name": "stderr",
     "output_type": "stream",
     "text": [
      "<block>:1:20-37: info: atom does not occur in any rule head:\n",
      "  ext_dep(5,6,s8y3)\n",
      "\n",
      "<block>:1:22-41: info: atom does not occur in any rule head:\n",
      "  ext_dep(5,6,s8y1y3)\n",
      "\n"
     ]
    },
    {
     "name": "stderr",
     "output_type": "stream",
     "text": [
      "<block>:1:20-37: info: atom does not occur in any rule head:\n",
      "  ext_dep(3,6,s8y1)\n",
      "\n",
      "<block>:1:22-41: info: atom does not occur in any rule head:\n",
      "  ext_dep(5,6,s8y1y3)\n",
      "\n"
     ]
    },
    {
     "name": "stderr",
     "output_type": "stream",
     "text": [
      "<block>:1:20-37: info: atom does not occur in any rule head:\n",
      "  ext_dep(5,6,s8y3)\n",
      "\n",
      "<block>:1:22-41: info: atom does not occur in any rule head:\n",
      "  ext_dep(5,6,s8y1y3)\n",
      "\n"
     ]
    },
    {
     "name": "stderr",
     "output_type": "stream",
     "text": [
      "<block>:1:20-37: info: atom does not occur in any rule head:\n",
      "  ext_dep(3,6,s8y1)\n",
      "\n",
      "<block>:1:22-41: info: atom does not occur in any rule head:\n",
      "  ext_dep(5,6,s8y1y3)\n",
      "\n"
     ]
    },
    {
     "name": "stderr",
     "output_type": "stream",
     "text": [
      "<block>:1:20-37: info: atom does not occur in any rule head:\n",
      "  ext_dep(5,6,s8y3)\n",
      "\n",
      "<block>:1:22-41: info: atom does not occur in any rule head:\n",
      "  ext_dep(5,6,s8y1y3)\n",
      "\n"
     ]
    },
    {
     "name": "stderr",
     "output_type": "stream",
     "text": [
      "<block>:1:20-37: info: atom does not occur in any rule head:\n",
      "  ext_dep(5,6,s8y3)\n",
      "\n",
      "<block>:1:22-41: info: atom does not occur in any rule head:\n",
      "  ext_dep(5,6,s8y1y3)\n",
      "\n"
     ]
    },
    {
     "name": "stderr",
     "output_type": "stream",
     "text": [
      "<block>:1:20-37: info: atom does not occur in any rule head:\n",
      "  ext_dep(3,6,s8y1)\n",
      "\n",
      "<block>:1:22-41: info: atom does not occur in any rule head:\n",
      "  ext_dep(5,6,s8y1y3)\n",
      "\n"
     ]
    },
    {
     "name": "stderr",
     "output_type": "stream",
     "text": [
      "<block>:1:20-37: info: atom does not occur in any rule head:\n",
      "  ext_dep(5,6,s8y3)\n",
      "\n",
      "<block>:1:22-41: info: atom does not occur in any rule head:\n",
      "  ext_dep(5,6,s8y1y3)\n",
      "\n"
     ]
    },
    {
     "name": "stderr",
     "output_type": "stream",
     "text": [
      "<block>:1:18-37: info: atom does not occur in any rule head:\n",
      "  ext_indep(5,6,s8y1)\n",
      "\n",
      "<block>:1:20-37: info: atom does not occur in any rule head:\n",
      "  ext_dep(1,6,s8y3)\n",
      "\n",
      "<block>:1:22-41: info: atom does not occur in any rule head:\n",
      "  ext_dep(5,6,s8y1y3)\n",
      "\n"
     ]
    },
    {
     "name": "stderr",
     "output_type": "stream",
     "text": [
      "<block>:1:18-37: info: atom does not occur in any rule head:\n",
      "  ext_indep(5,6,s8y1)\n",
      "\n",
      "<block>:1:20-37: info: atom does not occur in any rule head:\n",
      "  ext_dep(5,6,s8y3)\n",
      "\n",
      "<block>:1:22-41: info: atom does not occur in any rule head:\n",
      "  ext_dep(5,6,s8y1y3)\n",
      "\n"
     ]
    },
    {
     "name": "stderr",
     "output_type": "stream",
     "text": [
      "<block>:1:18-37: info: atom does not occur in any rule head:\n",
      "  ext_indep(5,6,s8y1)\n",
      "\n",
      "<block>:1:20-37: info: atom does not occur in any rule head:\n",
      "  ext_dep(5,6,s8y3)\n",
      "\n",
      "<block>:1:22-41: info: atom does not occur in any rule head:\n",
      "  ext_dep(5,6,s8y1y3)\n",
      "\n"
     ]
    },
    {
     "name": "stderr",
     "output_type": "stream",
     "text": [
      "<block>:1:18-37: info: atom does not occur in any rule head:\n",
      "  ext_indep(5,6,s8y1)\n",
      "\n",
      "<block>:1:20-37: info: atom does not occur in any rule head:\n",
      "  ext_dep(5,6,s8y3)\n",
      "\n",
      "<block>:1:22-41: info: atom does not occur in any rule head:\n",
      "  ext_dep(5,6,s8y1y3)\n",
      "\n"
     ]
    },
    {
     "name": "stderr",
     "output_type": "stream",
     "text": [
      "<block>:1:18-37: info: atom does not occur in any rule head:\n",
      "  ext_indep(5,6,s8y1)\n",
      "\n",
      "<block>:1:20-37: info: atom does not occur in any rule head:\n",
      "  ext_dep(5,6,s8y3)\n",
      "\n",
      "<block>:1:22-41: info: atom does not occur in any rule head:\n",
      "  ext_dep(5,6,s8y1y3)\n",
      "\n"
     ]
    },
    {
     "name": "stderr",
     "output_type": "stream",
     "text": [
      "<block>:1:18-37: info: atom does not occur in any rule head:\n",
      "  ext_indep(5,6,s8y1)\n",
      "\n",
      "<block>:1:20-37: info: atom does not occur in any rule head:\n",
      "  ext_dep(5,6,s8y3)\n",
      "\n",
      "<block>:1:22-41: info: atom does not occur in any rule head:\n",
      "  ext_dep(5,6,s8y1y3)\n",
      "\n"
     ]
    },
    {
     "name": "stderr",
     "output_type": "stream",
     "text": [
      "<block>:1:18-37: info: atom does not occur in any rule head:\n",
      "  ext_indep(5,6,s8y1)\n",
      "\n",
      "<block>:1:20-37: info: atom does not occur in any rule head:\n",
      "  ext_dep(5,6,s8y3)\n",
      "\n",
      "<block>:1:22-41: info: atom does not occur in any rule head:\n",
      "  ext_dep(5,6,s8y1y3)\n",
      "\n"
     ]
    },
    {
     "name": "stderr",
     "output_type": "stream",
     "text": [
      "<block>:1:18-37: info: atom does not occur in any rule head:\n",
      "  ext_indep(5,6,s8y1)\n",
      "\n",
      "<block>:1:20-37: info: atom does not occur in any rule head:\n",
      "  ext_dep(5,6,s8y3)\n",
      "\n",
      "<block>:1:22-41: info: atom does not occur in any rule head:\n",
      "  ext_dep(5,6,s8y1y3)\n",
      "\n"
     ]
    },
    {
     "name": "stderr",
     "output_type": "stream",
     "text": [
      "<block>:1:18-37: info: atom does not occur in any rule head:\n",
      "  ext_indep(5,6,s8y1)\n",
      "\n",
      "<block>:1:20-37: info: atom does not occur in any rule head:\n",
      "  ext_dep(5,6,s8y3)\n",
      "\n",
      "<block>:1:22-41: info: atom does not occur in any rule head:\n",
      "  ext_dep(5,6,s8y1y3)\n",
      "\n"
     ]
    },
    {
     "name": "stderr",
     "output_type": "stream",
     "text": [
      "<block>:1:18-37: info: atom does not occur in any rule head:\n",
      "  ext_indep(5,6,s8y1)\n",
      "\n",
      "<block>:1:20-37: info: atom does not occur in any rule head:\n",
      "  ext_dep(5,6,s8y3)\n",
      "\n",
      "<block>:1:22-41: info: atom does not occur in any rule head:\n",
      "  ext_dep(5,6,s8y1y3)\n",
      "\n"
     ]
    },
    {
     "name": "stderr",
     "output_type": "stream",
     "text": [
      "<block>:1:18-37: info: atom does not occur in any rule head:\n",
      "  ext_indep(5,6,s8y1)\n",
      "\n",
      "<block>:1:20-37: info: atom does not occur in any rule head:\n",
      "  ext_dep(5,6,s8y3)\n",
      "\n",
      "<block>:1:22-41: info: atom does not occur in any rule head:\n",
      "  ext_dep(5,6,s8y1y3)\n",
      "\n"
     ]
    },
    {
     "name": "stderr",
     "output_type": "stream",
     "text": [
      "<block>:1:18-37: info: atom does not occur in any rule head:\n",
      "  ext_indep(5,6,s8y1)\n",
      "\n",
      "<block>:1:20-37: info: atom does not occur in any rule head:\n",
      "  ext_dep(3,6,s8y1)\n",
      "\n",
      "<block>:1:22-41: info: atom does not occur in any rule head:\n",
      "  ext_dep(5,6,s8y1y3)\n",
      "\n"
     ]
    },
    {
     "name": "stderr",
     "output_type": "stream",
     "text": [
      "<block>:1:18-37: info: atom does not occur in any rule head:\n",
      "  ext_indep(5,6,s8y1)\n",
      "\n",
      "<block>:1:20-37: info: atom does not occur in any rule head:\n",
      "  ext_dep(5,6,s8y3)\n",
      "\n",
      "<block>:1:22-41: info: atom does not occur in any rule head:\n",
      "  ext_dep(5,6,s8y1y3)\n",
      "\n"
     ]
    },
    {
     "name": "stderr",
     "output_type": "stream",
     "text": [
      "<block>:1:18-37: info: atom does not occur in any rule head:\n",
      "  ext_indep(5,6,s8y1)\n",
      "\n",
      "<block>:1:20-37: info: atom does not occur in any rule head:\n",
      "  ext_dep(3,6,s8y1)\n",
      "\n",
      "<block>:1:22-41: info: atom does not occur in any rule head:\n",
      "  ext_dep(5,6,s8y1y3)\n",
      "\n"
     ]
    },
    {
     "name": "stderr",
     "output_type": "stream",
     "text": [
      "<block>:1:18-37: info: atom does not occur in any rule head:\n",
      "  ext_indep(5,6,s8y1)\n",
      "\n",
      "<block>:1:20-37: info: atom does not occur in any rule head:\n",
      "  ext_dep(3,6,s8y1)\n",
      "\n",
      "<block>:1:22-41: info: atom does not occur in any rule head:\n",
      "  ext_dep(5,6,s8y1y3)\n",
      "\n"
     ]
    },
    {
     "name": "stderr",
     "output_type": "stream",
     "text": [
      "<block>:1:18-37: info: atom does not occur in any rule head:\n",
      "  ext_indep(5,6,s8y1)\n",
      "\n",
      "<block>:1:20-37: info: atom does not occur in any rule head:\n",
      "  ext_dep(3,6,s8y1)\n",
      "\n",
      "<block>:1:22-41: info: atom does not occur in any rule head:\n",
      "  ext_dep(5,6,s8y1y3)\n",
      "\n"
     ]
    },
    {
     "name": "stderr",
     "output_type": "stream",
     "text": [
      "<block>:1:18-37: info: atom does not occur in any rule head:\n",
      "  ext_indep(5,6,s8y1)\n",
      "\n",
      "<block>:1:20-37: info: atom does not occur in any rule head:\n",
      "  ext_dep(5,6,s8y3)\n",
      "\n",
      "<block>:1:22-41: info: atom does not occur in any rule head:\n",
      "  ext_dep(5,6,s8y1y3)\n",
      "\n"
     ]
    },
    {
     "name": "stderr",
     "output_type": "stream",
     "text": [
      "<block>:1:18-37: info: atom does not occur in any rule head:\n",
      "  ext_indep(5,6,s8y1)\n",
      "\n",
      "<block>:1:20-37: info: atom does not occur in any rule head:\n",
      "  ext_dep(5,6,s8y3)\n",
      "\n",
      "<block>:1:22-41: info: atom does not occur in any rule head:\n",
      "  ext_dep(5,6,s8y1y3)\n",
      "\n"
     ]
    },
    {
     "name": "stderr",
     "output_type": "stream",
     "text": [
      "<block>:1:18-37: info: atom does not occur in any rule head:\n",
      "  ext_indep(5,6,s8y1)\n",
      "\n",
      "<block>:1:20-37: info: atom does not occur in any rule head:\n",
      "  ext_dep(1,6,s8y3)\n",
      "\n",
      "<block>:1:22-41: info: atom does not occur in any rule head:\n",
      "  ext_dep(5,6,s8y1y3)\n",
      "\n"
     ]
    },
    {
     "name": "stderr",
     "output_type": "stream",
     "text": [
      "<block>:1:18-37: info: atom does not occur in any rule head:\n",
      "  ext_indep(5,6,s8y1)\n",
      "\n",
      "<block>:1:20-37: info: atom does not occur in any rule head:\n",
      "  ext_dep(5,6,s8y3)\n",
      "\n",
      "<block>:1:22-41: info: atom does not occur in any rule head:\n",
      "  ext_dep(5,6,s8y1y3)\n",
      "\n"
     ]
    },
    {
     "name": "stderr",
     "output_type": "stream",
     "text": [
      "<block>:1:18-37: info: atom does not occur in any rule head:\n",
      "  ext_indep(5,6,s8y1)\n",
      "\n",
      "<block>:1:20-37: info: atom does not occur in any rule head:\n",
      "  ext_dep(5,6,s8y3)\n",
      "\n",
      "<block>:1:22-41: info: atom does not occur in any rule head:\n",
      "  ext_dep(5,6,s8y1y3)\n",
      "\n"
     ]
    },
    {
     "name": "stderr",
     "output_type": "stream",
     "text": [
      "<block>:1:18-37: info: atom does not occur in any rule head:\n",
      "  ext_indep(5,6,s8y1)\n",
      "\n",
      "<block>:1:20-37: info: atom does not occur in any rule head:\n",
      "  ext_dep(5,6,s8y3)\n",
      "\n",
      "<block>:1:22-41: info: atom does not occur in any rule head:\n",
      "  ext_dep(5,6,s8y1y3)\n",
      "\n"
     ]
    },
    {
     "name": "stderr",
     "output_type": "stream",
     "text": [
      "<block>:1:18-37: info: atom does not occur in any rule head:\n",
      "  ext_indep(5,6,s8y1)\n",
      "\n",
      "<block>:1:20-37: info: atom does not occur in any rule head:\n",
      "  ext_dep(5,6,s8y3)\n",
      "\n",
      "<block>:1:22-41: info: atom does not occur in any rule head:\n",
      "  ext_dep(5,6,s8y1y3)\n",
      "\n"
     ]
    },
    {
     "name": "stderr",
     "output_type": "stream",
     "text": [
      "<block>:1:18-37: info: atom does not occur in any rule head:\n",
      "  ext_indep(5,6,s8y1)\n",
      "\n",
      "<block>:1:20-37: info: atom does not occur in any rule head:\n",
      "  ext_dep(5,6,s8y3)\n",
      "\n",
      "<block>:1:22-41: info: atom does not occur in any rule head:\n",
      "  ext_dep(5,6,s8y1y3)\n",
      "\n"
     ]
    },
    {
     "name": "stderr",
     "output_type": "stream",
     "text": [
      "<block>:1:18-37: info: atom does not occur in any rule head:\n",
      "  ext_indep(5,6,s8y1)\n",
      "\n",
      "<block>:1:20-37: info: atom does not occur in any rule head:\n",
      "  ext_dep(5,6,s8y3)\n",
      "\n",
      "<block>:1:22-41: info: atom does not occur in any rule head:\n",
      "  ext_dep(5,6,s8y1y3)\n",
      "\n"
     ]
    },
    {
     "name": "stderr",
     "output_type": "stream",
     "text": [
      "<block>:1:18-37: info: atom does not occur in any rule head:\n",
      "  ext_indep(5,6,s8y1)\n",
      "\n",
      "<block>:1:20-37: info: atom does not occur in any rule head:\n",
      "  ext_dep(5,6,s8y3)\n",
      "\n",
      "<block>:1:22-41: info: atom does not occur in any rule head:\n",
      "  ext_dep(5,6,s8y1y3)\n",
      "\n"
     ]
    },
    {
     "name": "stderr",
     "output_type": "stream",
     "text": [
      "<block>:1:18-37: info: atom does not occur in any rule head:\n",
      "  ext_indep(5,6,s8y1)\n",
      "\n",
      "<block>:1:20-37: info: atom does not occur in any rule head:\n",
      "  ext_dep(5,6,s8y3)\n",
      "\n",
      "<block>:1:22-41: info: atom does not occur in any rule head:\n",
      "  ext_dep(5,6,s8y1y3)\n",
      "\n"
     ]
    },
    {
     "name": "stderr",
     "output_type": "stream",
     "text": [
      "<block>:1:18-37: info: atom does not occur in any rule head:\n",
      "  ext_indep(5,6,s8y1)\n",
      "\n",
      "<block>:1:20-37: info: atom does not occur in any rule head:\n",
      "  ext_dep(3,6,s8y1)\n",
      "\n",
      "<block>:1:22-41: info: atom does not occur in any rule head:\n",
      "  ext_dep(5,6,s8y1y3)\n",
      "\n"
     ]
    },
    {
     "name": "stderr",
     "output_type": "stream",
     "text": [
      "<block>:1:18-37: info: atom does not occur in any rule head:\n",
      "  ext_indep(5,6,s8y1)\n",
      "\n",
      "<block>:1:20-37: info: atom does not occur in any rule head:\n",
      "  ext_dep(3,6,s8y1)\n",
      "\n",
      "<block>:1:22-41: info: atom does not occur in any rule head:\n",
      "  ext_dep(5,6,s8y1y3)\n",
      "\n"
     ]
    },
    {
     "name": "stderr",
     "output_type": "stream",
     "text": [
      "<block>:1:18-37: info: atom does not occur in any rule head:\n",
      "  ext_indep(5,6,s8y1)\n",
      "\n",
      "<block>:1:20-37: info: atom does not occur in any rule head:\n",
      "  ext_dep(5,6,s8y3)\n",
      "\n",
      "<block>:1:22-41: info: atom does not occur in any rule head:\n",
      "  ext_dep(5,6,s8y1y3)\n",
      "\n"
     ]
    },
    {
     "name": "stderr",
     "output_type": "stream",
     "text": [
      "<block>:1:18-37: info: atom does not occur in any rule head:\n",
      "  ext_indep(5,6,s8y1)\n",
      "\n",
      "<block>:1:20-37: info: atom does not occur in any rule head:\n",
      "  ext_dep(3,6,s8y1)\n",
      "\n",
      "<block>:1:22-41: info: atom does not occur in any rule head:\n",
      "  ext_dep(5,6,s8y1y3)\n",
      "\n"
     ]
    },
    {
     "name": "stderr",
     "output_type": "stream",
     "text": [
      "<block>:1:18-37: info: atom does not occur in any rule head:\n",
      "  ext_indep(5,6,s8y1)\n",
      "\n",
      "<block>:1:20-37: info: atom does not occur in any rule head:\n",
      "  ext_dep(5,6,s8y3)\n",
      "\n",
      "<block>:1:22-41: info: atom does not occur in any rule head:\n",
      "  ext_dep(5,6,s8y1y3)\n",
      "\n"
     ]
    },
    {
     "name": "stderr",
     "output_type": "stream",
     "text": [
      "<block>:1:18-37: info: atom does not occur in any rule head:\n",
      "  ext_indep(5,6,s8y1)\n",
      "\n",
      "<block>:1:20-37: info: atom does not occur in any rule head:\n",
      "  ext_dep(3,6,s8y1)\n",
      "\n",
      "<block>:1:22-41: info: atom does not occur in any rule head:\n",
      "  ext_dep(5,6,s8y1y3)\n",
      "\n"
     ]
    },
    {
     "name": "stderr",
     "output_type": "stream",
     "text": [
      "<block>:1:18-37: info: atom does not occur in any rule head:\n",
      "  ext_indep(5,6,s8y1)\n",
      "\n",
      "<block>:1:20-37: info: atom does not occur in any rule head:\n",
      "  ext_dep(5,6,s8y3)\n",
      "\n",
      "<block>:1:22-41: info: atom does not occur in any rule head:\n",
      "  ext_dep(5,6,s8y1y3)\n",
      "\n"
     ]
    },
    {
     "name": "stderr",
     "output_type": "stream",
     "text": [
      "<block>:1:18-37: info: atom does not occur in any rule head:\n",
      "  ext_indep(5,6,s8y1)\n",
      "\n",
      "<block>:1:20-37: info: atom does not occur in any rule head:\n",
      "  ext_dep(3,6,s8y1)\n",
      "\n",
      "<block>:1:22-41: info: atom does not occur in any rule head:\n",
      "  ext_dep(5,6,s8y1y3)\n",
      "\n"
     ]
    },
    {
     "name": "stderr",
     "output_type": "stream",
     "text": [
      "<block>:1:18-37: info: atom does not occur in any rule head:\n",
      "  ext_indep(5,6,s8y1)\n",
      "\n",
      "<block>:1:20-37: info: atom does not occur in any rule head:\n",
      "  ext_dep(5,6,s8y3)\n",
      "\n",
      "<block>:1:22-41: info: atom does not occur in any rule head:\n",
      "  ext_dep(5,6,s8y1y3)\n",
      "\n"
     ]
    },
    {
     "name": "stderr",
     "output_type": "stream",
     "text": [
      "<block>:1:18-37: info: atom does not occur in any rule head:\n",
      "  ext_indep(5,6,s8y1)\n",
      "\n",
      "<block>:1:20-37: info: atom does not occur in any rule head:\n",
      "  ext_dep(5,6,s8y3)\n",
      "\n",
      "<block>:1:22-41: info: atom does not occur in any rule head:\n",
      "  ext_dep(5,6,s8y1y3)\n",
      "\n"
     ]
    },
    {
     "name": "stderr",
     "output_type": "stream",
     "text": [
      "<block>:1:18-37: info: atom does not occur in any rule head:\n",
      "  ext_indep(5,6,s8y1)\n",
      "\n",
      "<block>:1:20-37: info: atom does not occur in any rule head:\n",
      "  ext_dep(5,6,s8y3)\n",
      "\n",
      "<block>:1:22-41: info: atom does not occur in any rule head:\n",
      "  ext_dep(5,6,s8y1y3)\n",
      "\n"
     ]
    },
    {
     "name": "stderr",
     "output_type": "stream",
     "text": [
      "<block>:1:18-37: info: atom does not occur in any rule head:\n",
      "  ext_indep(5,6,s8y1)\n",
      "\n",
      "<block>:1:20-37: info: atom does not occur in any rule head:\n",
      "  ext_dep(3,6,s8y1)\n",
      "\n",
      "<block>:1:22-41: info: atom does not occur in any rule head:\n",
      "  ext_dep(5,6,s8y1y3)\n",
      "\n"
     ]
    },
    {
     "name": "stderr",
     "output_type": "stream",
     "text": [
      "<block>:1:18-37: info: atom does not occur in any rule head:\n",
      "  ext_indep(5,6,s8y1)\n",
      "\n",
      "<block>:1:20-37: info: atom does not occur in any rule head:\n",
      "  ext_dep(5,6,s8y3)\n",
      "\n",
      "<block>:1:22-41: info: atom does not occur in any rule head:\n",
      "  ext_dep(5,6,s8y1y3)\n",
      "\n"
     ]
    },
    {
     "name": "stderr",
     "output_type": "stream",
     "text": [
      "<block>:1:18-37: info: atom does not occur in any rule head:\n",
      "  ext_indep(5,6,s8y1)\n",
      "\n",
      "<block>:1:20-37: info: atom does not occur in any rule head:\n",
      "  ext_dep(3,6,s8y1)\n",
      "\n",
      "<block>:1:22-41: info: atom does not occur in any rule head:\n",
      "  ext_dep(5,6,s8y1y3)\n",
      "\n"
     ]
    },
    {
     "name": "stderr",
     "output_type": "stream",
     "text": [
      "<block>:1:18-37: info: atom does not occur in any rule head:\n",
      "  ext_indep(5,6,s8y1)\n",
      "\n",
      "<block>:1:20-37: info: atom does not occur in any rule head:\n",
      "  ext_dep(3,6,s8y1)\n",
      "\n",
      "<block>:1:22-41: info: atom does not occur in any rule head:\n",
      "  ext_dep(5,6,s8y1y3)\n",
      "\n",
      "<block>:1:18-37: info: atom does not occur in any rule head:\n",
      "  ext_indep(5,6,s8y1)\n",
      "\n",
      "<block>:1:20-37: info: atom does not occur in any rule head:\n",
      "  ext_dep(3,6,s8y1)\n",
      "\n",
      "<block>:1:22-41: info: atom does not occur in any rule head:\n",
      "  ext_dep(5,6,s8y1y3)\n",
      "\n"
     ]
    },
    {
     "name": "stderr",
     "output_type": "stream",
     "text": [
      "<block>:1:18-37: info: atom does not occur in any rule head:\n",
      "  ext_indep(5,6,s8y1)\n",
      "\n",
      "<block>:1:20-37: info: atom does not occur in any rule head:\n",
      "  ext_dep(3,6,s8y1)\n",
      "\n",
      "<block>:1:22-41: info: atom does not occur in any rule head:\n",
      "  ext_dep(5,6,s8y1y3)\n",
      "\n"
     ]
    },
    {
     "name": "stderr",
     "output_type": "stream",
     "text": [
      "<block>:1:18-37: info: atom does not occur in any rule head:\n",
      "  ext_indep(5,6,s8y1)\n",
      "\n",
      "<block>:1:20-37: info: atom does not occur in any rule head:\n",
      "  ext_dep(3,6,s8y1)\n",
      "\n",
      "<block>:1:22-41: info: atom does not occur in any rule head:\n",
      "  ext_dep(5,6,s8y1y3)\n",
      "\n"
     ]
    },
    {
     "name": "stderr",
     "output_type": "stream",
     "text": [
      "<block>:1:18-37: info: atom does not occur in any rule head:\n",
      "  ext_indep(5,6,s8y1)\n",
      "\n",
      "<block>:1:20-37: info: atom does not occur in any rule head:\n",
      "  ext_dep(1,6,s8y3)\n",
      "\n",
      "<block>:1:22-41: info: atom does not occur in any rule head:\n",
      "  ext_dep(5,6,s8y1y3)\n",
      "\n"
     ]
    },
    {
     "name": "stderr",
     "output_type": "stream",
     "text": [
      "<block>:1:18-37: info: atom does not occur in any rule head:\n",
      "  ext_indep(5,6,s8y1)\n",
      "\n",
      "<block>:1:20-37: info: atom does not occur in any rule head:\n",
      "  ext_dep(5,6,s8y3)\n",
      "\n",
      "<block>:1:22-41: info: atom does not occur in any rule head:\n",
      "  ext_dep(5,6,s8y1y3)\n",
      "\n"
     ]
    },
    {
     "name": "stderr",
     "output_type": "stream",
     "text": [
      "<block>:1:18-37: info: atom does not occur in any rule head:\n",
      "  ext_indep(5,6,s8y1)\n",
      "\n",
      "<block>:1:20-37: info: atom does not occur in any rule head:\n",
      "  ext_dep(5,6,s8y3)\n",
      "\n",
      "<block>:1:22-41: info: atom does not occur in any rule head:\n",
      "  ext_dep(5,6,s8y1y3)\n",
      "\n"
     ]
    },
    {
     "name": "stderr",
     "output_type": "stream",
     "text": [
      "<block>:1:18-37: info: atom does not occur in any rule head:\n",
      "  ext_indep(5,6,s8y1)\n",
      "\n",
      "<block>:1:20-37: info: atom does not occur in any rule head:\n",
      "  ext_dep(5,6,s8y3)\n",
      "\n",
      "<block>:1:22-41: info: atom does not occur in any rule head:\n",
      "  ext_dep(5,6,s8y1y3)\n",
      "\n"
     ]
    },
    {
     "name": "stderr",
     "output_type": "stream",
     "text": [
      "<block>:1:18-37: info: atom does not occur in any rule head:\n",
      "  ext_indep(5,6,s8y1)\n",
      "\n",
      "<block>:1:20-37: info: atom does not occur in any rule head:\n",
      "  ext_dep(5,6,s8y3)\n",
      "\n",
      "<block>:1:22-41: info: atom does not occur in any rule head:\n",
      "  ext_dep(5,6,s8y1y3)\n",
      "\n"
     ]
    },
    {
     "name": "stderr",
     "output_type": "stream",
     "text": [
      "<block>:1:20-37: info: atom does not occur in any rule head:\n",
      "  ext_dep(5,6,s8y3)\n",
      "\n",
      "<block>:1:22-41: info: atom does not occur in any rule head:\n",
      "  ext_dep(5,6,s8y1y3)\n",
      "\n",
      "<block>:1:18-37: info: atom does not occur in any rule head:\n",
      "  ext_indep(5,6,s8y1)\n",
      "\n",
      "<block>:1:20-37: info: atom does not occur in any rule head:\n",
      "  ext_dep(5,6,s8y3)\n",
      "\n",
      "<block>:1:22-41: info: atom does not occur in any rule head:\n",
      "  ext_dep(5,6,s8y1y3)\n",
      "\n"
     ]
    },
    {
     "name": "stderr",
     "output_type": "stream",
     "text": [
      "<block>:1:18-37: info: atom does not occur in any rule head:\n",
      "  ext_indep(5,6,s8y1)\n",
      "\n",
      "<block>:1:20-37: info: atom does not occur in any rule head:\n",
      "  ext_dep(5,6,s8y3)\n",
      "\n",
      "<block>:1:22-41: info: atom does not occur in any rule head:\n",
      "  ext_dep(5,6,s8y1y3)\n",
      "\n"
     ]
    },
    {
     "name": "stderr",
     "output_type": "stream",
     "text": [
      "<block>:1:18-37: info: atom does not occur in any rule head:\n",
      "  ext_indep(5,6,s8y1)\n",
      "\n",
      "<block>:1:20-37: info: atom does not occur in any rule head:\n",
      "  ext_dep(5,6,s8y3)\n",
      "\n",
      "<block>:1:22-41: info: atom does not occur in any rule head:\n",
      "  ext_dep(5,6,s8y1y3)\n",
      "\n"
     ]
    },
    {
     "name": "stderr",
     "output_type": "stream",
     "text": [
      "<block>:1:18-37: info: atom does not occur in any rule head:\n",
      "  ext_indep(5,6,s8y1)\n",
      "\n",
      "<block>:1:20-37: info: atom does not occur in any rule head:\n",
      "  ext_dep(5,6,s8y3)\n",
      "\n",
      "<block>:1:22-41: info: atom does not occur in any rule head:\n",
      "  ext_dep(5,6,s8y1y3)\n",
      "\n"
     ]
    },
    {
     "name": "stderr",
     "output_type": "stream",
     "text": [
      "<block>:1:20-37: info: atom does not occur in any rule head:\n",
      "  ext_dep(3,6,s8y1)\n",
      "\n",
      "<block>:1:22-41: info: atom does not occur in any rule head:\n",
      "  ext_dep(5,6,s8y1y3)\n",
      "\n"
     ]
    },
    {
     "name": "stderr",
     "output_type": "stream",
     "text": [
      "<block>:1:18-37: info: atom does not occur in any rule head:\n",
      "  ext_indep(5,6,s8y1)\n",
      "\n",
      "<block>:1:20-37: info: atom does not occur in any rule head:\n",
      "  ext_dep(1,6,s8y3)\n",
      "\n",
      "<block>:1:22-41: info: atom does not occur in any rule head:\n",
      "  ext_dep(5,6,s8y1y3)\n",
      "\n"
     ]
    },
    {
     "name": "stderr",
     "output_type": "stream",
     "text": [
      "<block>:1:18-37: info: atom does not occur in any rule head:\n",
      "  ext_indep(5,6,s8y1)\n",
      "\n",
      "<block>:1:20-37: info: atom does not occur in any rule head:\n",
      "  ext_dep(5,6,s8y3)\n",
      "\n",
      "<block>:1:22-41: info: atom does not occur in any rule head:\n",
      "  ext_dep(5,6,s8y1y3)\n",
      "\n"
     ]
    },
    {
     "name": "stderr",
     "output_type": "stream",
     "text": [
      "<block>:1:18-37: info: atom does not occur in any rule head:\n",
      "  ext_indep(5,6,s8y1)\n",
      "\n",
      "<block>:1:20-37: info: atom does not occur in any rule head:\n",
      "  ext_dep(5,6,s8y3)\n",
      "\n",
      "<block>:1:22-41: info: atom does not occur in any rule head:\n",
      "  ext_dep(5,6,s8y1y3)\n",
      "\n"
     ]
    },
    {
     "name": "stderr",
     "output_type": "stream",
     "text": [
      "<block>:1:18-37: info: atom does not occur in any rule head:\n",
      "  ext_indep(5,6,s8y1)\n",
      "\n",
      "<block>:1:20-37: info: atom does not occur in any rule head:\n",
      "  ext_dep(5,6,s8y3)\n",
      "\n",
      "<block>:1:22-41: info: atom does not occur in any rule head:\n",
      "  ext_dep(5,6,s8y1y3)\n",
      "\n"
     ]
    },
    {
     "name": "stderr",
     "output_type": "stream",
     "text": [
      "<block>:1:18-37: info: atom does not occur in any rule head:\n",
      "  ext_indep(5,6,s8y1)\n",
      "\n",
      "<block>:1:20-37: info: atom does not occur in any rule head:\n",
      "  ext_dep(5,6,s8y3)\n",
      "\n",
      "<block>:1:22-41: info: atom does not occur in any rule head:\n",
      "  ext_dep(5,6,s8y1y3)\n",
      "\n"
     ]
    },
    {
     "name": "stderr",
     "output_type": "stream",
     "text": [
      "<block>:1:18-37: info: atom does not occur in any rule head:\n",
      "  ext_indep(5,6,s8y1)\n",
      "\n",
      "<block>:1:20-37: info: atom does not occur in any rule head:\n",
      "  ext_dep(5,6,s8y3)\n",
      "\n",
      "<block>:1:22-41: info: atom does not occur in any rule head:\n",
      "  ext_dep(5,6,s8y1y3)\n",
      "\n"
     ]
    },
    {
     "name": "stderr",
     "output_type": "stream",
     "text": [
      "<block>:1:18-37: info: atom does not occur in any rule head:\n",
      "  ext_indep(5,6,s8y1)\n",
      "\n",
      "<block>:1:20-37: info: atom does not occur in any rule head:\n",
      "  ext_dep(5,6,s8y3)\n",
      "\n",
      "<block>:1:22-41: info: atom does not occur in any rule head:\n",
      "  ext_dep(5,6,s8y1y3)\n",
      "\n"
     ]
    },
    {
     "name": "stderr",
     "output_type": "stream",
     "text": [
      "<block>:1:18-37: info: atom does not occur in any rule head:\n",
      "  ext_indep(5,6,s8y1)\n",
      "\n",
      "<block>:1:20-37: info: atom does not occur in any rule head:\n",
      "  ext_dep(1,6,s8y3)\n",
      "\n",
      "<block>:1:22-41: info: atom does not occur in any rule head:\n",
      "  ext_dep(5,6,s8y1y3)\n",
      "\n"
     ]
    },
    {
     "name": "stderr",
     "output_type": "stream",
     "text": [
      "<block>:1:18-37: info: atom does not occur in any rule head:\n",
      "  ext_indep(5,6,s8y1)\n",
      "\n",
      "<block>:1:20-37: info: atom does not occur in any rule head:\n",
      "  ext_dep(5,6,s8y3)\n",
      "\n",
      "<block>:1:22-41: info: atom does not occur in any rule head:\n",
      "  ext_dep(5,6,s8y1y3)\n",
      "\n"
     ]
    },
    {
     "name": "stderr",
     "output_type": "stream",
     "text": [
      "<block>:1:18-37: info: atom does not occur in any rule head:\n",
      "  ext_indep(5,6,s8y1)\n",
      "\n",
      "<block>:1:20-37: info: atom does not occur in any rule head:\n",
      "  ext_dep(5,6,s8y3)\n",
      "\n",
      "<block>:1:22-41: info: atom does not occur in any rule head:\n",
      "  ext_dep(5,6,s8y1y3)\n",
      "\n"
     ]
    },
    {
     "name": "stderr",
     "output_type": "stream",
     "text": [
      "<block>:1:18-37: info: atom does not occur in any rule head:\n",
      "  ext_indep(5,6,s8y1)\n",
      "\n",
      "<block>:1:20-37: info: atom does not occur in any rule head:\n",
      "  ext_dep(5,6,s8y3)\n",
      "\n",
      "<block>:1:22-41: info: atom does not occur in any rule head:\n",
      "  ext_dep(5,6,s8y1y3)\n",
      "\n"
     ]
    },
    {
     "name": "stderr",
     "output_type": "stream",
     "text": [
      "<block>:1:18-37: info: atom does not occur in any rule head:\n",
      "  ext_indep(5,6,s8y1)\n",
      "\n",
      "<block>:1:20-37: info: atom does not occur in any rule head:\n",
      "  ext_dep(3,6,s8y1)\n",
      "\n",
      "<block>:1:22-41: info: atom does not occur in any rule head:\n",
      "  ext_dep(5,6,s8y1y3)\n",
      "\n"
     ]
    },
    {
     "name": "stderr",
     "output_type": "stream",
     "text": [
      "<block>:1:18-37: info: atom does not occur in any rule head:\n",
      "  ext_indep(5,6,s8y1)\n",
      "\n",
      "<block>:1:20-37: info: atom does not occur in any rule head:\n",
      "  ext_dep(3,6,s8y1)\n",
      "\n",
      "<block>:1:22-41: info: atom does not occur in any rule head:\n",
      "  ext_dep(5,6,s8y1y3)\n",
      "\n"
     ]
    },
    {
     "name": "stderr",
     "output_type": "stream",
     "text": [
      "<block>:1:18-37: info: atom does not occur in any rule head:\n",
      "  ext_indep(5,6,s8y1)\n",
      "\n",
      "<block>:1:20-37: info: atom does not occur in any rule head:\n",
      "  ext_dep(5,6,s8y3)\n",
      "\n",
      "<block>:1:22-41: info: atom does not occur in any rule head:\n",
      "  ext_dep(5,6,s8y1y3)\n",
      "\n"
     ]
    },
    {
     "name": "stderr",
     "output_type": "stream",
     "text": [
      "<block>:1:18-37: info: atom does not occur in any rule head:\n",
      "  ext_indep(5,6,s8y1)\n",
      "\n",
      "<block>:1:20-37: info: atom does not occur in any rule head:\n",
      "  ext_dep(1,6,s8y3)\n",
      "\n",
      "<block>:1:22-41: info: atom does not occur in any rule head:\n",
      "  ext_dep(5,6,s8y1y3)\n",
      "\n",
      "<block>:1:18-37: info: atom does not occur in any rule head:\n",
      "  ext_indep(5,6,s8y1)\n",
      "\n",
      "<block>:1:20-37: info: atom does not occur in any rule head:\n",
      "  ext_dep(1,6,s8y3)\n",
      "\n",
      "<block>:1:22-41: info: atom does not occur in any rule head:\n",
      "  ext_dep(5,6,s8y1y3)\n",
      "\n"
     ]
    },
    {
     "name": "stderr",
     "output_type": "stream",
     "text": [
      "<block>:1:18-37: info: atom does not occur in any rule head:\n",
      "  ext_indep(5,6,s8y1)\n",
      "\n",
      "<block>:1:20-37: info: atom does not occur in any rule head:\n",
      "  ext_dep(1,6,s8y3)\n",
      "\n",
      "<block>:1:22-41: info: atom does not occur in any rule head:\n",
      "  ext_dep(5,6,s8y1y3)\n",
      "\n"
     ]
    },
    {
     "name": "stderr",
     "output_type": "stream",
     "text": [
      "<block>:1:18-37: info: atom does not occur in any rule head:\n",
      "  ext_indep(5,6,s8y1)\n",
      "\n",
      "<block>:1:20-37: info: atom does not occur in any rule head:\n",
      "  ext_dep(5,6,s8y3)\n",
      "\n",
      "<block>:1:22-41: info: atom does not occur in any rule head:\n",
      "  ext_dep(5,6,s8y1y3)\n",
      "\n"
     ]
    },
    {
     "name": "stderr",
     "output_type": "stream",
     "text": [
      "<block>:1:18-37: info: atom does not occur in any rule head:\n",
      "  ext_indep(5,6,s8y1)\n",
      "\n",
      "<block>:1:20-37: info: atom does not occur in any rule head:\n",
      "  ext_dep(3,6,s8y1)\n",
      "\n",
      "<block>:1:22-41: info: atom does not occur in any rule head:\n",
      "  ext_dep(5,6,s8y1y3)\n",
      "\n"
     ]
    },
    {
     "name": "stderr",
     "output_type": "stream",
     "text": [
      "<block>:1:18-37: info: atom does not occur in any rule head:\n",
      "  ext_indep(5,6,s8y1)\n",
      "\n",
      "<block>:1:20-37: info: atom does not occur in any rule head:\n",
      "  ext_dep(5,6,s8y3)\n",
      "\n",
      "<block>:1:22-41: info: atom does not occur in any rule head:\n",
      "  ext_dep(5,6,s8y1y3)\n",
      "\n"
     ]
    },
    {
     "name": "stderr",
     "output_type": "stream",
     "text": [
      "<block>:1:18-37: info: atom does not occur in any rule head:\n",
      "  ext_indep(5,6,s8y1)\n",
      "\n",
      "<block>:1:20-37: info: atom does not occur in any rule head:\n",
      "  ext_dep(5,6,s8y3)\n",
      "\n",
      "<block>:1:22-41: info: atom does not occur in any rule head:\n",
      "  ext_dep(5,6,s8y1y3)\n",
      "\n"
     ]
    },
    {
     "name": "stderr",
     "output_type": "stream",
     "text": [
      "<block>:1:18-37: info: atom does not occur in any rule head:\n",
      "  ext_indep(5,6,s8y1)\n",
      "\n",
      "<block>:1:20-37: info: atom does not occur in any rule head:\n",
      "  ext_dep(5,6,s8y3)\n",
      "\n",
      "<block>:1:22-41: info: atom does not occur in any rule head:\n",
      "  ext_dep(5,6,s8y1y3)\n",
      "\n"
     ]
    },
    {
     "name": "stderr",
     "output_type": "stream",
     "text": [
      "<block>:1:20-37: info: atom does not occur in any rule head:\n",
      "  ext_dep(5,6,s8y3)\n",
      "\n",
      "<block>:1:22-41: info: atom does not occur in any rule head:\n",
      "  ext_dep(5,6,s8y1y3)\n",
      "\n"
     ]
    },
    {
     "name": "stderr",
     "output_type": "stream",
     "text": [
      "<block>:1:20-37: info: atom does not occur in any rule head:\n",
      "  ext_dep(5,6,s8y3)\n",
      "\n",
      "<block>:1:22-41: info: atom does not occur in any rule head:\n",
      "  ext_dep(5,6,s8y1y3)\n",
      "\n"
     ]
    },
    {
     "name": "stderr",
     "output_type": "stream",
     "text": [
      "<block>:1:20-37: info: atom does not occur in any rule head:\n",
      "  ext_dep(3,6,s8y1)\n",
      "\n",
      "<block>:1:22-41: info: atom does not occur in any rule head:\n",
      "  ext_dep(5,6,s8y1y3)\n",
      "\n"
     ]
    },
    {
     "name": "stderr",
     "output_type": "stream",
     "text": [
      "<block>:1:20-37: info: atom does not occur in any rule head:\n",
      "  ext_dep(5,6,s8y3)\n",
      "\n",
      "<block>:1:22-41: info: atom does not occur in any rule head:\n",
      "  ext_dep(5,6,s8y1y3)\n",
      "\n"
     ]
    },
    {
     "name": "stderr",
     "output_type": "stream",
     "text": [
      "<block>:1:20-37: info: atom does not occur in any rule head:\n",
      "  ext_dep(5,6,s8y3)\n",
      "\n",
      "<block>:1:22-41: info: atom does not occur in any rule head:\n",
      "  ext_dep(5,6,s8y1y3)\n",
      "\n"
     ]
    },
    {
     "name": "stderr",
     "output_type": "stream",
     "text": [
      "<block>:1:20-37: info: atom does not occur in any rule head:\n",
      "  ext_dep(5,6,s8y3)\n",
      "\n",
      "<block>:1:22-41: info: atom does not occur in any rule head:\n",
      "  ext_dep(5,6,s8y1y3)\n",
      "\n"
     ]
    },
    {
     "name": "stderr",
     "output_type": "stream",
     "text": [
      "<block>:1:20-37: info: atom does not occur in any rule head:\n",
      "  ext_dep(3,6,s8y1)\n",
      "\n",
      "<block>:1:22-41: info: atom does not occur in any rule head:\n",
      "  ext_dep(5,6,s8y1y3)\n",
      "\n"
     ]
    },
    {
     "name": "stderr",
     "output_type": "stream",
     "text": [
      "<block>:1:20-37: info: atom does not occur in any rule head:\n",
      "  ext_dep(5,6,s8y3)\n",
      "\n",
      "<block>:1:22-41: info: atom does not occur in any rule head:\n",
      "  ext_dep(5,6,s8y1y3)\n",
      "\n"
     ]
    },
    {
     "name": "stderr",
     "output_type": "stream",
     "text": [
      "<block>:1:20-37: info: atom does not occur in any rule head:\n",
      "  ext_dep(3,6,s8y1)\n",
      "\n",
      "<block>:1:22-41: info: atom does not occur in any rule head:\n",
      "  ext_dep(5,6,s8y1y3)\n",
      "\n"
     ]
    },
    {
     "name": "stderr",
     "output_type": "stream",
     "text": [
      "<block>:1:20-37: info: atom does not occur in any rule head:\n",
      "  ext_dep(5,6,s8y3)\n",
      "\n",
      "<block>:1:22-41: info: atom does not occur in any rule head:\n",
      "  ext_dep(5,6,s8y1y3)\n",
      "\n"
     ]
    },
    {
     "name": "stderr",
     "output_type": "stream",
     "text": [
      "<block>:1:18-37: info: atom does not occur in any rule head:\n",
      "  ext_indep(5,6,s8y1)\n",
      "\n",
      "<block>:1:20-37: info: atom does not occur in any rule head:\n",
      "  ext_dep(1,6,s8y3)\n",
      "\n",
      "<block>:1:22-41: info: atom does not occur in any rule head:\n",
      "  ext_dep(5,6,s8y1y3)\n",
      "\n"
     ]
    },
    {
     "name": "stderr",
     "output_type": "stream",
     "text": [
      "<block>:1:18-37: info: atom does not occur in any rule head:\n",
      "  ext_indep(5,6,s8y1)\n",
      "\n",
      "<block>:1:20-37: info: atom does not occur in any rule head:\n",
      "  ext_dep(5,6,s8y3)\n",
      "\n",
      "<block>:1:22-41: info: atom does not occur in any rule head:\n",
      "  ext_dep(5,6,s8y1y3)\n",
      "\n"
     ]
    },
    {
     "name": "stderr",
     "output_type": "stream",
     "text": [
      "<block>:1:18-37: info: atom does not occur in any rule head:\n",
      "  ext_indep(5,6,s8y1)\n",
      "\n",
      "<block>:1:20-37: info: atom does not occur in any rule head:\n",
      "  ext_dep(5,6,s8y3)\n",
      "\n",
      "<block>:1:22-41: info: atom does not occur in any rule head:\n",
      "  ext_dep(5,6,s8y1y3)\n",
      "\n"
     ]
    },
    {
     "name": "stderr",
     "output_type": "stream",
     "text": [
      "<block>:1:18-37: info: atom does not occur in any rule head:\n",
      "  ext_indep(5,6,s8y1)\n",
      "\n",
      "<block>:1:20-37: info: atom does not occur in any rule head:\n",
      "  ext_dep(3,6,s8y1)\n",
      "\n",
      "<block>:1:22-41: info: atom does not occur in any rule head:\n",
      "  ext_dep(5,6,s8y1y3)\n",
      "\n"
     ]
    },
    {
     "name": "stderr",
     "output_type": "stream",
     "text": [
      "<block>:1:18-37: info: atom does not occur in any rule head:\n",
      "  ext_indep(5,6,s8y1)\n",
      "\n",
      "<block>:1:20-37: info: atom does not occur in any rule head:\n",
      "  ext_dep(5,6,s8y3)\n",
      "\n",
      "<block>:1:22-41: info: atom does not occur in any rule head:\n",
      "  ext_dep(5,6,s8y1y3)\n",
      "\n"
     ]
    },
    {
     "name": "stderr",
     "output_type": "stream",
     "text": [
      "<block>:1:18-37: info: atom does not occur in any rule head:\n",
      "  ext_indep(5,6,s8y1)\n",
      "\n",
      "<block>:1:20-37: info: atom does not occur in any rule head:\n",
      "  ext_dep(5,6,s8y3)\n",
      "\n",
      "<block>:1:22-41: info: atom does not occur in any rule head:\n",
      "  ext_dep(5,6,s8y1y3)\n",
      "\n"
     ]
    },
    {
     "name": "stderr",
     "output_type": "stream",
     "text": [
      "<block>:1:18-37: info: atom does not occur in any rule head:\n",
      "  ext_indep(5,6,s8y1)\n",
      "\n",
      "<block>:1:20-37: info: atom does not occur in any rule head:\n",
      "  ext_dep(5,6,s8y3)\n",
      "\n",
      "<block>:1:22-41: info: atom does not occur in any rule head:\n",
      "  ext_dep(5,6,s8y1y3)\n",
      "\n"
     ]
    },
    {
     "name": "stderr",
     "output_type": "stream",
     "text": [
      "<block>:1:18-37: info: atom does not occur in any rule head:\n",
      "  ext_indep(5,6,s8y1)\n",
      "\n",
      "<block>:1:20-37: info: atom does not occur in any rule head:\n",
      "  ext_dep(3,6,s8y1)\n",
      "\n",
      "<block>:1:22-41: info: atom does not occur in any rule head:\n",
      "  ext_dep(5,6,s8y1y3)\n",
      "\n"
     ]
    },
    {
     "name": "stderr",
     "output_type": "stream",
     "text": [
      "<block>:1:20-37: info: atom does not occur in any rule head:\n",
      "  ext_dep(1,6,s8y3)\n",
      "\n",
      "<block>:1:22-41: info: atom does not occur in any rule head:\n",
      "  ext_dep(5,6,s8y1y3)\n",
      "\n"
     ]
    },
    {
     "name": "stderr",
     "output_type": "stream",
     "text": [
      "<block>:1:20-37: info: atom does not occur in any rule head:\n",
      "  ext_dep(5,6,s8y3)\n",
      "\n",
      "<block>:1:22-41: info: atom does not occur in any rule head:\n",
      "  ext_dep(5,6,s8y1y3)\n",
      "\n"
     ]
    },
    {
     "name": "stderr",
     "output_type": "stream",
     "text": [
      "<block>:1:20-37: info: atom does not occur in any rule head:\n",
      "  ext_dep(5,6,s8y3)\n",
      "\n",
      "<block>:1:22-41: info: atom does not occur in any rule head:\n",
      "  ext_dep(5,6,s8y1y3)\n",
      "\n"
     ]
    },
    {
     "name": "stderr",
     "output_type": "stream",
     "text": [
      "<block>:1:20-37: info: atom does not occur in any rule head:\n",
      "  ext_dep(5,6,s8y3)\n",
      "\n",
      "<block>:1:22-41: info: atom does not occur in any rule head:\n",
      "  ext_dep(5,6,s8y1y3)\n",
      "\n"
     ]
    },
    {
     "name": "stderr",
     "output_type": "stream",
     "text": [
      "<block>:1:20-37: info: atom does not occur in any rule head:\n",
      "  ext_dep(3,6,s8y1)\n",
      "\n",
      "<block>:1:22-41: info: atom does not occur in any rule head:\n",
      "  ext_dep(5,6,s8y1y3)\n",
      "\n"
     ]
    },
    {
     "name": "stderr",
     "output_type": "stream",
     "text": [
      "<block>:1:20-37: info: atom does not occur in any rule head:\n",
      "  ext_dep(5,6,s8y3)\n",
      "\n",
      "<block>:1:22-41: info: atom does not occur in any rule head:\n",
      "  ext_dep(5,6,s8y1y3)\n",
      "\n"
     ]
    },
    {
     "name": "stderr",
     "output_type": "stream",
     "text": [
      "<block>:1:20-37: info: atom does not occur in any rule head:\n",
      "  ext_dep(5,6,s8y3)\n",
      "\n",
      "<block>:1:22-41: info: atom does not occur in any rule head:\n",
      "  ext_dep(5,6,s8y1y3)\n",
      "\n"
     ]
    },
    {
     "name": "stderr",
     "output_type": "stream",
     "text": [
      "<block>:1:20-37: info: atom does not occur in any rule head:\n",
      "  ext_dep(5,6,s8y3)\n",
      "\n",
      "<block>:1:22-41: info: atom does not occur in any rule head:\n",
      "  ext_dep(5,6,s8y1y3)\n",
      "\n"
     ]
    },
    {
     "name": "stderr",
     "output_type": "stream",
     "text": [
      "<block>:1:20-37: info: atom does not occur in any rule head:\n",
      "  ext_dep(5,6,s8y3)\n",
      "\n",
      "<block>:1:22-41: info: atom does not occur in any rule head:\n",
      "  ext_dep(5,6,s8y1y3)\n",
      "\n"
     ]
    },
    {
     "name": "stderr",
     "output_type": "stream",
     "text": [
      "<block>:1:20-37: info: atom does not occur in any rule head:\n",
      "  ext_dep(5,6,s8y3)\n",
      "\n",
      "<block>:1:22-41: info: atom does not occur in any rule head:\n",
      "  ext_dep(5,6,s8y1y3)\n",
      "\n"
     ]
    },
    {
     "name": "stderr",
     "output_type": "stream",
     "text": [
      "<block>:1:18-37: info: atom does not occur in any rule head:\n",
      "  ext_indep(5,6,s8y1)\n",
      "\n",
      "<block>:1:20-37: info: atom does not occur in any rule head:\n",
      "  ext_dep(1,6,s8y3)\n",
      "\n",
      "<block>:1:22-41: info: atom does not occur in any rule head:\n",
      "  ext_dep(5,6,s8y1y3)\n",
      "\n"
     ]
    },
    {
     "name": "stderr",
     "output_type": "stream",
     "text": [
      "<block>:1:18-37: info: atom does not occur in any rule head:\n",
      "  ext_indep(5,6,s8y1)\n",
      "\n",
      "<block>:1:20-37: info: atom does not occur in any rule head:\n",
      "  ext_dep(1,6,s8y3)\n",
      "\n",
      "<block>:1:22-41: info: atom does not occur in any rule head:\n",
      "  ext_dep(5,6,s8y1y3)\n",
      "\n",
      "<block>:1:18-37: info: atom does not occur in any rule head:\n",
      "  ext_indep(5,6,s8y1)\n",
      "\n",
      "<block>:1:20-37: info: atom does not occur in any rule head:\n",
      "  ext_dep(1,6,s8y3)\n",
      "\n",
      "<block>:1:22-41: info: atom does not occur in any rule head:\n",
      "  ext_dep(5,6,s8y1y3)\n",
      "\n"
     ]
    },
    {
     "name": "stderr",
     "output_type": "stream",
     "text": [
      "<block>:1:18-37: info: atom does not occur in any rule head:\n",
      "  ext_indep(5,6,s8y1)\n",
      "\n",
      "<block>:1:20-37: info: atom does not occur in any rule head:\n",
      "  ext_dep(1,6,s8y3)\n",
      "\n",
      "<block>:1:22-41: info: atom does not occur in any rule head:\n",
      "  ext_dep(5,6,s8y1y3)\n",
      "\n"
     ]
    },
    {
     "name": "stderr",
     "output_type": "stream",
     "text": [
      "<block>:1:18-37: info: atom does not occur in any rule head:\n",
      "  ext_indep(5,6,s8y1)\n",
      "\n",
      "<block>:1:20-37: info: atom does not occur in any rule head:\n",
      "  ext_dep(5,6,s8y3)\n",
      "\n",
      "<block>:1:22-41: info: atom does not occur in any rule head:\n",
      "  ext_dep(5,6,s8y1y3)\n",
      "\n"
     ]
    },
    {
     "name": "stderr",
     "output_type": "stream",
     "text": [
      "<block>:1:18-37: info: atom does not occur in any rule head:\n",
      "  ext_indep(5,6,s8y1)\n",
      "\n",
      "<block>:1:20-37: info: atom does not occur in any rule head:\n",
      "  ext_dep(3,6,s8y1)\n",
      "\n",
      "<block>:1:22-41: info: atom does not occur in any rule head:\n",
      "  ext_dep(5,6,s8y1y3)\n",
      "\n"
     ]
    },
    {
     "name": "stderr",
     "output_type": "stream",
     "text": [
      "<block>:1:18-37: info: atom does not occur in any rule head:\n",
      "  ext_indep(5,6,s8y1)\n",
      "\n",
      "<block>:1:20-37: info: atom does not occur in any rule head:\n",
      "  ext_dep(5,6,s8y3)\n",
      "\n",
      "<block>:1:22-41: info: atom does not occur in any rule head:\n",
      "  ext_dep(5,6,s8y1y3)\n",
      "\n"
     ]
    },
    {
     "name": "stderr",
     "output_type": "stream",
     "text": [
      "<block>:1:18-37: info: atom does not occur in any rule head:\n",
      "  ext_indep(5,6,s8y1)\n",
      "\n",
      "<block>:1:20-37: info: atom does not occur in any rule head:\n",
      "  ext_dep(5,6,s8y3)\n",
      "\n",
      "<block>:1:22-41: info: atom does not occur in any rule head:\n",
      "  ext_dep(5,6,s8y1y3)\n",
      "\n"
     ]
    },
    {
     "name": "stderr",
     "output_type": "stream",
     "text": [
      "<block>:1:18-37: info: atom does not occur in any rule head:\n",
      "  ext_indep(5,6,s8y1)\n",
      "\n",
      "<block>:1:20-37: info: atom does not occur in any rule head:\n",
      "  ext_dep(5,6,s8y3)\n",
      "\n",
      "<block>:1:22-41: info: atom does not occur in any rule head:\n",
      "  ext_dep(5,6,s8y1y3)\n",
      "\n"
     ]
    },
    {
     "name": "stderr",
     "output_type": "stream",
     "text": [
      "<block>:1:18-37: info: atom does not occur in any rule head:\n",
      "  ext_indep(5,6,s8y1)\n",
      "\n",
      "<block>:1:20-37: info: atom does not occur in any rule head:\n",
      "  ext_dep(5,6,s8y3)\n",
      "\n",
      "<block>:1:22-41: info: atom does not occur in any rule head:\n",
      "  ext_dep(5,6,s8y1y3)\n",
      "\n"
     ]
    },
    {
     "name": "stderr",
     "output_type": "stream",
     "text": [
      "<block>:1:18-37: info: atom does not occur in any rule head:\n",
      "  ext_indep(5,6,s8y1)\n",
      "\n",
      "<block>:1:20-37: info: atom does not occur in any rule head:\n",
      "  ext_dep(5,6,s8y3)\n",
      "\n",
      "<block>:1:22-41: info: atom does not occur in any rule head:\n",
      "  ext_dep(5,6,s8y1y3)\n",
      "\n"
     ]
    },
    {
     "name": "stderr",
     "output_type": "stream",
     "text": [
      "<block>:1:18-37: info: atom does not occur in any rule head:\n",
      "  ext_indep(5,6,s8y1)\n",
      "\n",
      "<block>:1:20-37: info: atom does not occur in any rule head:\n",
      "  ext_dep(5,6,s8y3)\n",
      "\n",
      "<block>:1:22-41: info: atom does not occur in any rule head:\n",
      "  ext_dep(5,6,s8y1y3)\n",
      "\n"
     ]
    },
    {
     "name": "stderr",
     "output_type": "stream",
     "text": [
      "<block>:1:18-37: info: atom does not occur in any rule head:\n",
      "  ext_indep(5,6,s8y1)\n",
      "\n",
      "<block>:1:20-37: info: atom does not occur in any rule head:\n",
      "  ext_dep(5,6,s8y3)\n",
      "\n",
      "<block>:1:22-41: info: atom does not occur in any rule head:\n",
      "  ext_dep(5,6,s8y1y3)\n",
      "\n"
     ]
    },
    {
     "name": "stderr",
     "output_type": "stream",
     "text": [
      "<block>:1:20-37: info: atom does not occur in any rule head:\n",
      "  ext_dep(5,6,s8y3)\n",
      "\n",
      "<block>:1:22-41: info: atom does not occur in any rule head:\n",
      "  ext_dep(5,6,s8y1y3)\n",
      "\n"
     ]
    },
    {
     "name": "stderr",
     "output_type": "stream",
     "text": [
      "<block>:1:20-37: info: atom does not occur in any rule head:\n",
      "  ext_dep(5,6,s8y3)\n",
      "\n",
      "<block>:1:22-41: info: atom does not occur in any rule head:\n",
      "  ext_dep(5,6,s8y1y3)\n",
      "\n"
     ]
    },
    {
     "name": "stderr",
     "output_type": "stream",
     "text": [
      "<block>:1:20-37: info: atom does not occur in any rule head:\n",
      "  ext_dep(3,6,s8y1)\n",
      "\n",
      "<block>:1:22-41: info: atom does not occur in any rule head:\n",
      "  ext_dep(5,6,s8y1y3)\n",
      "\n"
     ]
    },
    {
     "name": "stderr",
     "output_type": "stream",
     "text": [
      "<block>:1:20-37: info: atom does not occur in any rule head:\n",
      "  ext_dep(5,6,s8y3)\n",
      "\n",
      "<block>:1:22-41: info: atom does not occur in any rule head:\n",
      "  ext_dep(5,6,s8y1y3)\n",
      "\n"
     ]
    },
    {
     "name": "stderr",
     "output_type": "stream",
     "text": [
      "<block>:1:20-37: info: atom does not occur in any rule head:\n",
      "  ext_dep(5,6,s8y3)\n",
      "\n",
      "<block>:1:22-41: info: atom does not occur in any rule head:\n",
      "  ext_dep(5,6,s8y1y3)\n",
      "\n"
     ]
    },
    {
     "name": "stderr",
     "output_type": "stream",
     "text": [
      "<block>:1:20-37: info: atom does not occur in any rule head:\n",
      "  ext_dep(5,6,s8y3)\n",
      "\n",
      "<block>:1:22-41: info: atom does not occur in any rule head:\n",
      "  ext_dep(5,6,s8y1y3)\n",
      "\n"
     ]
    },
    {
     "name": "stderr",
     "output_type": "stream",
     "text": [
      "<block>:1:18-37: info: atom does not occur in any rule head:\n",
      "  ext_indep(5,6,s8y1)\n",
      "\n",
      "<block>:1:20-37: info: atom does not occur in any rule head:\n",
      "  ext_dep(5,6,s8y3)\n",
      "\n",
      "<block>:1:22-41: info: atom does not occur in any rule head:\n",
      "  ext_dep(5,6,s8y1y3)\n",
      "\n"
     ]
    },
    {
     "name": "stderr",
     "output_type": "stream",
     "text": [
      "<block>:1:18-37: info: atom does not occur in any rule head:\n",
      "  ext_indep(5,6,s8y1)\n",
      "\n",
      "<block>:1:20-37: info: atom does not occur in any rule head:\n",
      "  ext_dep(5,6,s8y3)\n",
      "\n",
      "<block>:1:22-41: info: atom does not occur in any rule head:\n",
      "  ext_dep(5,6,s8y1y3)\n",
      "\n"
     ]
    },
    {
     "name": "stderr",
     "output_type": "stream",
     "text": [
      "<block>:1:18-37: info: atom does not occur in any rule head:\n",
      "  ext_indep(5,6,s8y1)\n",
      "\n",
      "<block>:1:20-37: info: atom does not occur in any rule head:\n",
      "  ext_dep(5,6,s8y3)\n",
      "\n",
      "<block>:1:22-41: info: atom does not occur in any rule head:\n",
      "  ext_dep(5,6,s8y1y3)\n",
      "\n"
     ]
    },
    {
     "name": "stderr",
     "output_type": "stream",
     "text": [
      "<block>:1:18-37: info: atom does not occur in any rule head:\n",
      "  ext_indep(5,6,s8y1)\n",
      "\n",
      "<block>:1:20-37: info: atom does not occur in any rule head:\n",
      "  ext_dep(5,6,s8y3)\n",
      "\n",
      "<block>:1:22-41: info: atom does not occur in any rule head:\n",
      "  ext_dep(5,6,s8y1y3)\n",
      "\n"
     ]
    },
    {
     "name": "stderr",
     "output_type": "stream",
     "text": [
      "<block>:1:18-37: info: atom does not occur in any rule head:\n",
      "  ext_indep(5,6,s8y1)\n",
      "\n",
      "<block>:1:20-37: info: atom does not occur in any rule head:\n",
      "  ext_dep(5,6,s8y3)\n",
      "\n",
      "<block>:1:22-41: info: atom does not occur in any rule head:\n",
      "  ext_dep(5,6,s8y1y3)\n",
      "\n"
     ]
    },
    {
     "name": "stderr",
     "output_type": "stream",
     "text": [
      "<block>:1:18-37: info: atom does not occur in any rule head:\n",
      "  ext_indep(5,6,s8y1)\n",
      "\n",
      "<block>:1:20-37: info: atom does not occur in any rule head:\n",
      "  ext_dep(5,6,s8y3)\n",
      "\n",
      "<block>:1:22-41: info: atom does not occur in any rule head:\n",
      "  ext_dep(5,6,s8y1y3)\n",
      "\n"
     ]
    },
    {
     "name": "stderr",
     "output_type": "stream",
     "text": [
      "<block>:1:18-37: info: atom does not occur in any rule head:\n",
      "  ext_indep(5,6,s8y1)\n",
      "\n",
      "<block>:1:20-37: info: atom does not occur in any rule head:\n",
      "  ext_dep(5,6,s8y3)\n",
      "\n",
      "<block>:1:22-41: info: atom does not occur in any rule head:\n",
      "  ext_dep(5,6,s8y1y3)\n",
      "\n"
     ]
    },
    {
     "name": "stderr",
     "output_type": "stream",
     "text": [
      "<block>:1:20-37: info: atom does not occur in any rule head:\n",
      "  ext_dep(5,6,s8y3)\n",
      "\n",
      "<block>:1:22-41: info: atom does not occur in any rule head:\n",
      "  ext_dep(5,6,s8y1y3)\n",
      "\n"
     ]
    },
    {
     "name": "stderr",
     "output_type": "stream",
     "text": [
      "<block>:1:20-37: info: atom does not occur in any rule head:\n",
      "  ext_dep(5,6,s8y3)\n",
      "\n",
      "<block>:1:22-41: info: atom does not occur in any rule head:\n",
      "  ext_dep(5,6,s8y1y3)\n",
      "\n"
     ]
    },
    {
     "name": "stderr",
     "output_type": "stream",
     "text": [
      "<block>:1:20-37: info: atom does not occur in any rule head:\n",
      "  ext_dep(5,6,s8y3)\n",
      "\n",
      "<block>:1:22-41: info: atom does not occur in any rule head:\n",
      "  ext_dep(5,6,s8y1y3)\n",
      "\n"
     ]
    },
    {
     "name": "stderr",
     "output_type": "stream",
     "text": [
      "<block>:1:20-37: info: atom does not occur in any rule head:\n",
      "  ext_dep(5,6,s8y3)\n",
      "\n",
      "<block>:1:22-41: info: atom does not occur in any rule head:\n",
      "  ext_dep(5,6,s8y1y3)\n",
      "\n"
     ]
    },
    {
     "name": "stderr",
     "output_type": "stream",
     "text": [
      "<block>:1:20-37: info: atom does not occur in any rule head:\n",
      "  ext_dep(5,6,s8y3)\n",
      "\n",
      "<block>:1:22-41: info: atom does not occur in any rule head:\n",
      "  ext_dep(5,6,s8y1y3)\n",
      "\n"
     ]
    },
    {
     "name": "stderr",
     "output_type": "stream",
     "text": [
      "<block>:1:20-37: info: atom does not occur in any rule head:\n",
      "  ext_dep(5,6,s8y3)\n",
      "\n",
      "<block>:1:22-41: info: atom does not occur in any rule head:\n",
      "  ext_dep(5,6,s8y1y3)\n",
      "\n"
     ]
    },
    {
     "name": "stderr",
     "output_type": "stream",
     "text": [
      "<block>:1:18-37: info: atom does not occur in any rule head:\n",
      "  ext_indep(5,6,s8y1)\n",
      "\n",
      "<block>:1:20-37: info: atom does not occur in any rule head:\n",
      "  ext_dep(1,6,s8y3)\n",
      "\n",
      "<block>:1:22-41: info: atom does not occur in any rule head:\n",
      "  ext_dep(5,6,s8y1y3)\n",
      "\n"
     ]
    },
    {
     "name": "stderr",
     "output_type": "stream",
     "text": [
      "<block>:1:20-37: info: atom does not occur in any rule head:\n",
      "  ext_dep(5,6,s8y3)\n",
      "\n",
      "<block>:1:22-41: info: atom does not occur in any rule head:\n",
      "  ext_dep(5,6,s8y1y3)\n",
      "\n"
     ]
    },
    {
     "name": "stderr",
     "output_type": "stream",
     "text": [
      "<block>:1:20-37: info: atom does not occur in any rule head:\n",
      "  ext_dep(5,6,s8y3)\n",
      "\n",
      "<block>:1:22-41: info: atom does not occur in any rule head:\n",
      "  ext_dep(5,6,s8y1y3)\n",
      "\n"
     ]
    },
    {
     "name": "stderr",
     "output_type": "stream",
     "text": [
      "<block>:1:20-37: info: atom does not occur in any rule head:\n",
      "  ext_dep(5,6,s8y3)\n",
      "\n",
      "<block>:1:22-41: info: atom does not occur in any rule head:\n",
      "  ext_dep(5,6,s8y1y3)\n",
      "\n"
     ]
    },
    {
     "name": "stderr",
     "output_type": "stream",
     "text": [
      "<block>:1:20-37: info: atom does not occur in any rule head:\n",
      "  ext_dep(5,6,s8y3)\n",
      "\n",
      "<block>:1:22-41: info: atom does not occur in any rule head:\n",
      "  ext_dep(5,6,s8y1y3)\n",
      "\n"
     ]
    },
    {
     "name": "stderr",
     "output_type": "stream",
     "text": [
      "<block>:1:18-37: info: atom does not occur in any rule head:\n",
      "  ext_indep(5,6,s8y1)\n",
      "\n",
      "<block>:1:20-37: info: atom does not occur in any rule head:\n",
      "  ext_dep(1,6,s8y3)\n",
      "\n",
      "<block>:1:22-41: info: atom does not occur in any rule head:\n",
      "  ext_dep(5,6,s8y1y3)\n",
      "\n"
     ]
    },
    {
     "name": "stderr",
     "output_type": "stream",
     "text": [
      "<block>:1:20-37: info: atom does not occur in any rule head:\n",
      "  ext_dep(5,6,s8y3)\n",
      "\n",
      "<block>:1:22-41: info: atom does not occur in any rule head:\n",
      "  ext_dep(5,6,s8y1y3)\n",
      "\n"
     ]
    },
    {
     "name": "stderr",
     "output_type": "stream",
     "text": [
      "<block>:1:20-37: info: atom does not occur in any rule head:\n",
      "  ext_dep(5,6,s8y3)\n",
      "\n",
      "<block>:1:22-41: info: atom does not occur in any rule head:\n",
      "  ext_dep(5,6,s8y1y3)\n",
      "\n"
     ]
    },
    {
     "name": "stderr",
     "output_type": "stream",
     "text": [
      "<block>:1:20-37: info: atom does not occur in any rule head:\n",
      "  ext_dep(5,6,s8y3)\n",
      "\n",
      "<block>:1:22-41: info: atom does not occur in any rule head:\n",
      "  ext_dep(5,6,s8y1y3)\n",
      "\n"
     ]
    },
    {
     "name": "stderr",
     "output_type": "stream",
     "text": [
      "<block>:1:20-37: info: atom does not occur in any rule head:\n",
      "  ext_dep(5,6,s8y3)\n",
      "\n",
      "<block>:1:22-41: info: atom does not occur in any rule head:\n",
      "  ext_dep(5,6,s8y1y3)\n",
      "\n"
     ]
    },
    {
     "name": "stderr",
     "output_type": "stream",
     "text": [
      "<block>:1:18-37: info: atom does not occur in any rule head:\n",
      "  ext_indep(1,3,s8y6)\n",
      "\n",
      "<block>:1:20-37: info: atom does not occur in any rule head:\n",
      "  ext_dep(5,6,s8y3)\n",
      "\n",
      "<block>:1:22-41: info: atom does not occur in any rule head:\n",
      "  ext_dep(5,6,s8y1y3)\n",
      "\n"
     ]
    },
    {
     "name": "stderr",
     "output_type": "stream",
     "text": [
      "<block>:1:18-37: info: atom does not occur in any rule head:\n",
      "  ext_indep(1,3,s8y6)\n",
      "\n",
      "<block>:1:20-37: info: atom does not occur in any rule head:\n",
      "  ext_dep(5,6,s8y3)\n",
      "\n",
      "<block>:1:22-41: info: atom does not occur in any rule head:\n",
      "  ext_dep(5,6,s8y1y3)\n",
      "\n"
     ]
    },
    {
     "name": "stderr",
     "output_type": "stream",
     "text": [
      "<block>:1:18-37: info: atom does not occur in any rule head:\n",
      "  ext_indep(1,3,s8y6)\n",
      "\n",
      "<block>:1:20-37: info: atom does not occur in any rule head:\n",
      "  ext_dep(5,6,s8y3)\n",
      "\n",
      "<block>:1:22-41: info: atom does not occur in any rule head:\n",
      "  ext_dep(5,6,s8y1y3)\n",
      "\n"
     ]
    },
    {
     "name": "stderr",
     "output_type": "stream",
     "text": [
      "<block>:1:18-37: info: atom does not occur in any rule head:\n",
      "  ext_indep(5,6,s8y1)\n",
      "\n",
      "<block>:1:20-37: info: atom does not occur in any rule head:\n",
      "  ext_dep(5,6,s8y3)\n",
      "\n",
      "<block>:1:22-41: info: atom does not occur in any rule head:\n",
      "  ext_dep(5,6,s8y1y3)\n",
      "\n"
     ]
    },
    {
     "name": "stderr",
     "output_type": "stream",
     "text": [
      "<block>:1:18-37: info: atom does not occur in any rule head:\n",
      "  ext_indep(1,3,s8y6)\n",
      "\n",
      "<block>:1:20-37: info: atom does not occur in any rule head:\n",
      "  ext_dep(5,6,s8y3)\n",
      "\n",
      "<block>:1:22-41: info: atom does not occur in any rule head:\n",
      "  ext_dep(5,6,s8y1y3)\n",
      "\n"
     ]
    },
    {
     "name": "stderr",
     "output_type": "stream",
     "text": [
      "<block>:1:18-37: info: atom does not occur in any rule head:\n",
      "  ext_indep(1,3,s8y6)\n",
      "\n",
      "<block>:1:20-37: info: atom does not occur in any rule head:\n",
      "  ext_dep(1,6,s8y3)\n",
      "\n",
      "<block>:1:22-41: info: atom does not occur in any rule head:\n",
      "  ext_dep(5,6,s8y1y3)\n",
      "\n"
     ]
    },
    {
     "name": "stderr",
     "output_type": "stream",
     "text": [
      "<block>:1:18-37: info: atom does not occur in any rule head:\n",
      "  ext_indep(1,3,s8y6)\n",
      "\n",
      "<block>:1:20-37: info: atom does not occur in any rule head:\n",
      "  ext_dep(1,6,s8y3)\n",
      "\n",
      "<block>:1:22-41: info: atom does not occur in any rule head:\n",
      "  ext_dep(5,6,s8y1y3)\n",
      "\n"
     ]
    },
    {
     "name": "stderr",
     "output_type": "stream",
     "text": [
      "<block>:1:18-37: info: atom does not occur in any rule head:\n",
      "  ext_indep(5,6,s8y1)\n",
      "\n",
      "<block>:1:20-37: info: atom does not occur in any rule head:\n",
      "  ext_dep(5,6,s8y3)\n",
      "\n",
      "<block>:1:22-41: info: atom does not occur in any rule head:\n",
      "  ext_dep(5,6,s8y1y3)\n",
      "\n"
     ]
    },
    {
     "name": "stderr",
     "output_type": "stream",
     "text": [
      "<block>:1:18-37: info: atom does not occur in any rule head:\n",
      "  ext_indep(5,6,s8y1)\n",
      "\n",
      "<block>:1:20-37: info: atom does not occur in any rule head:\n",
      "  ext_dep(1,6,s8y3)\n",
      "\n",
      "<block>:1:22-41: info: atom does not occur in any rule head:\n",
      "  ext_dep(5,6,s8y1y3)\n",
      "\n"
     ]
    },
    {
     "name": "stderr",
     "output_type": "stream",
     "text": [
      "<block>:1:18-37: info: atom does not occur in any rule head:\n",
      "  ext_indep(5,6,s8y1)\n",
      "\n",
      "<block>:1:20-37: info: atom does not occur in any rule head:\n",
      "  ext_dep(1,6,s8y3)\n",
      "\n",
      "<block>:1:22-41: info: atom does not occur in any rule head:\n",
      "  ext_dep(5,6,s8y1y3)\n",
      "\n"
     ]
    },
    {
     "name": "stderr",
     "output_type": "stream",
     "text": [
      "<block>:1:18-37: info: atom does not occur in any rule head:\n",
      "  ext_indep(5,6,s8y1)\n",
      "\n",
      "<block>:1:20-37: info: atom does not occur in any rule head:\n",
      "  ext_dep(3,6,s8y1)\n",
      "\n",
      "<block>:1:22-41: info: atom does not occur in any rule head:\n",
      "  ext_dep(5,6,s8y1y3)\n",
      "\n"
     ]
    },
    {
     "name": "stderr",
     "output_type": "stream",
     "text": [
      "<block>:1:18-37: info: atom does not occur in any rule head:\n",
      "  ext_indep(5,6,s8y1)\n",
      "\n",
      "<block>:1:20-37: info: atom does not occur in any rule head:\n",
      "  ext_dep(1,6,s8y3)\n",
      "\n",
      "<block>:1:22-41: info: atom does not occur in any rule head:\n",
      "  ext_dep(5,6,s8y1y3)\n",
      "\n"
     ]
    },
    {
     "name": "stderr",
     "output_type": "stream",
     "text": [
      "<block>:1:20-37: info: atom does not occur in any rule head:\n",
      "  ext_dep(5,6,s8y3)\n",
      "\n",
      "<block>:1:22-41: info: atom does not occur in any rule head:\n",
      "  ext_dep(5,6,s8y1y3)\n",
      "\n"
     ]
    },
    {
     "name": "stderr",
     "output_type": "stream",
     "text": [
      "<block>:1:20-37: info: atom does not occur in any rule head:\n",
      "  ext_dep(1,6,s8y3)\n",
      "\n",
      "<block>:1:22-41: info: atom does not occur in any rule head:\n",
      "  ext_dep(5,6,s8y1y3)\n",
      "\n"
     ]
    },
    {
     "name": "stderr",
     "output_type": "stream",
     "text": [
      "<block>:1:20-37: info: atom does not occur in any rule head:\n",
      "  ext_dep(3,6,s8y1)\n",
      "\n",
      "<block>:1:22-41: info: atom does not occur in any rule head:\n",
      "  ext_dep(5,6,s8y1y3)\n",
      "\n"
     ]
    },
    {
     "name": "stderr",
     "output_type": "stream",
     "text": [
      "<block>:1:20-37: info: atom does not occur in any rule head:\n",
      "  ext_dep(5,6,s8y3)\n",
      "\n",
      "<block>:1:22-41: info: atom does not occur in any rule head:\n",
      "  ext_dep(5,6,s8y1y3)\n",
      "\n"
     ]
    },
    {
     "name": "stderr",
     "output_type": "stream",
     "text": [
      "<block>:1:20-37: info: atom does not occur in any rule head:\n",
      "  ext_dep(5,6,s8y3)\n",
      "\n",
      "<block>:1:22-41: info: atom does not occur in any rule head:\n",
      "  ext_dep(5,6,s8y1y3)\n",
      "\n"
     ]
    },
    {
     "name": "stderr",
     "output_type": "stream",
     "text": [
      "<block>:1:20-37: info: atom does not occur in any rule head:\n",
      "  ext_dep(3,6,s8y1)\n",
      "\n",
      "<block>:1:22-41: info: atom does not occur in any rule head:\n",
      "  ext_dep(5,6,s8y1y3)\n",
      "\n"
     ]
    },
    {
     "name": "stderr",
     "output_type": "stream",
     "text": [
      "<block>:1:20-37: info: atom does not occur in any rule head:\n",
      "  ext_dep(3,6,s8y1)\n",
      "\n",
      "<block>:1:22-41: info: atom does not occur in any rule head:\n",
      "  ext_dep(5,6,s8y1y3)\n",
      "\n"
     ]
    },
    {
     "name": "stderr",
     "output_type": "stream",
     "text": [
      "<block>:1:20-37: info: atom does not occur in any rule head:\n",
      "  ext_dep(5,6,s8y3)\n",
      "\n",
      "<block>:1:22-41: info: atom does not occur in any rule head:\n",
      "  ext_dep(5,6,s8y1y3)\n",
      "\n"
     ]
    },
    {
     "name": "stderr",
     "output_type": "stream",
     "text": [
      "<block>:1:20-37: info: atom does not occur in any rule head:\n",
      "  ext_dep(3,6,s8y1)\n",
      "\n",
      "<block>:1:22-41: info: atom does not occur in any rule head:\n",
      "  ext_dep(5,6,s8y1y3)\n",
      "\n"
     ]
    },
    {
     "name": "stderr",
     "output_type": "stream",
     "text": [
      "<block>:1:20-37: info: atom does not occur in any rule head:\n",
      "  ext_dep(5,6,s8y3)\n",
      "\n",
      "<block>:1:22-41: info: atom does not occur in any rule head:\n",
      "  ext_dep(5,6,s8y1y3)\n",
      "\n"
     ]
    },
    {
     "name": "stderr",
     "output_type": "stream",
     "text": [
      "<block>:1:20-37: info: atom does not occur in any rule head:\n",
      "  ext_dep(3,6,s8y1)\n",
      "\n",
      "<block>:1:22-41: info: atom does not occur in any rule head:\n",
      "  ext_dep(5,6,s8y1y3)\n",
      "\n"
     ]
    },
    {
     "name": "stderr",
     "output_type": "stream",
     "text": [
      "<block>:1:18-37: info: atom does not occur in any rule head:\n",
      "  ext_indep(1,3,s8y6)\n",
      "\n",
      "<block>:1:20-37: info: atom does not occur in any rule head:\n",
      "  ext_dep(5,6,s8y3)\n",
      "\n",
      "<block>:1:22-41: info: atom does not occur in any rule head:\n",
      "  ext_dep(5,6,s8y1y3)\n",
      "\n",
      "<block>:1:18-37: info: atom does not occur in any rule head:\n",
      "  ext_indep(1,3,s8y6)\n",
      "\n",
      "<block>:1:20-37: info: atom does not occur in any rule head:\n",
      "  ext_dep(5,6,s8y3)\n",
      "\n",
      "<block>:1:22-41: info: atom does not occur in any rule head:\n",
      "  ext_dep(5,6,s8y1y3)\n",
      "\n"
     ]
    },
    {
     "name": "stderr",
     "output_type": "stream",
     "text": [
      "<block>:1:18-37: info: atom does not occur in any rule head:\n",
      "  ext_indep(1,3,s8y6)\n",
      "\n",
      "<block>:1:20-37: info: atom does not occur in any rule head:\n",
      "  ext_dep(5,6,s8y3)\n",
      "\n",
      "<block>:1:22-41: info: atom does not occur in any rule head:\n",
      "  ext_dep(5,6,s8y1y3)\n",
      "\n"
     ]
    },
    {
     "name": "stderr",
     "output_type": "stream",
     "text": [
      "<block>:1:18-37: info: atom does not occur in any rule head:\n",
      "  ext_indep(5,6,s8y1)\n",
      "\n",
      "<block>:1:20-37: info: atom does not occur in any rule head:\n",
      "  ext_dep(5,6,s8y3)\n",
      "\n",
      "<block>:1:22-41: info: atom does not occur in any rule head:\n",
      "  ext_dep(5,6,s8y1y3)\n",
      "\n"
     ]
    },
    {
     "name": "stderr",
     "output_type": "stream",
     "text": [
      "<block>:1:18-37: info: atom does not occur in any rule head:\n",
      "  ext_indep(1,3,s8y6)\n",
      "\n",
      "<block>:1:20-37: info: atom does not occur in any rule head:\n",
      "  ext_dep(5,6,s8y3)\n",
      "\n",
      "<block>:1:22-41: info: atom does not occur in any rule head:\n",
      "  ext_dep(5,6,s8y1y3)\n",
      "\n"
     ]
    },
    {
     "name": "stderr",
     "output_type": "stream",
     "text": [
      "<block>:1:18-37: info: atom does not occur in any rule head:\n",
      "  ext_indep(1,3,s8y6)\n",
      "\n",
      "<block>:1:20-37: info: atom does not occur in any rule head:\n",
      "  ext_dep(1,6,s8y3)\n",
      "\n",
      "<block>:1:22-41: info: atom does not occur in any rule head:\n",
      "  ext_dep(5,6,s8y1y3)\n",
      "\n"
     ]
    },
    {
     "name": "stderr",
     "output_type": "stream",
     "text": [
      "<block>:1:18-37: info: atom does not occur in any rule head:\n",
      "  ext_indep(5,6,s8y1)\n",
      "\n",
      "<block>:1:20-37: info: atom does not occur in any rule head:\n",
      "  ext_dep(1,6,s8y3)\n",
      "\n",
      "<block>:1:22-41: info: atom does not occur in any rule head:\n",
      "  ext_dep(5,6,s8y1y3)\n",
      "\n"
     ]
    },
    {
     "name": "stderr",
     "output_type": "stream",
     "text": [
      "<block>:1:18-37: info: atom does not occur in any rule head:\n",
      "  ext_indep(1,3,s8y6)\n",
      "\n",
      "<block>:1:20-37: info: atom does not occur in any rule head:\n",
      "  ext_dep(3,6,s8y1)\n",
      "\n",
      "<block>:1:22-41: info: atom does not occur in any rule head:\n",
      "  ext_dep(5,6,s8y1y3)\n",
      "\n"
     ]
    },
    {
     "name": "stderr",
     "output_type": "stream",
     "text": [
      "<block>:1:18-37: info: atom does not occur in any rule head:\n",
      "  ext_indep(5,6,s8y1)\n",
      "\n",
      "<block>:1:20-37: info: atom does not occur in any rule head:\n",
      "  ext_dep(1,6,s8y3)\n",
      "\n",
      "<block>:1:22-41: info: atom does not occur in any rule head:\n",
      "  ext_dep(5,6,s8y1y3)\n",
      "\n"
     ]
    },
    {
     "name": "stderr",
     "output_type": "stream",
     "text": [
      "<block>:1:18-37: info: atom does not occur in any rule head:\n",
      "  ext_indep(5,6,s8y1)\n",
      "\n",
      "<block>:1:20-37: info: atom does not occur in any rule head:\n",
      "  ext_dep(5,6,s8y3)\n",
      "\n",
      "<block>:1:22-41: info: atom does not occur in any rule head:\n",
      "  ext_dep(5,6,s8y1y3)\n",
      "\n"
     ]
    },
    {
     "name": "stderr",
     "output_type": "stream",
     "text": [
      "<block>:1:18-37: info: atom does not occur in any rule head:\n",
      "  ext_indep(5,6,s8y1)\n",
      "\n",
      "<block>:1:20-37: info: atom does not occur in any rule head:\n",
      "  ext_dep(1,6,s8y3)\n",
      "\n",
      "<block>:1:22-41: info: atom does not occur in any rule head:\n",
      "  ext_dep(5,6,s8y1y3)\n",
      "\n"
     ]
    },
    {
     "name": "stderr",
     "output_type": "stream",
     "text": [
      "<block>:1:18-37: info: atom does not occur in any rule head:\n",
      "  ext_indep(5,6,s8y1)\n",
      "\n",
      "<block>:1:20-37: info: atom does not occur in any rule head:\n",
      "  ext_dep(5,6,s8y3)\n",
      "\n",
      "<block>:1:22-41: info: atom does not occur in any rule head:\n",
      "  ext_dep(5,6,s8y1y3)\n",
      "\n"
     ]
    },
    {
     "name": "stderr",
     "output_type": "stream",
     "text": [
      "<block>:1:20-37: info: atom does not occur in any rule head:\n",
      "  ext_dep(1,6,s8y3)\n",
      "\n",
      "<block>:1:22-41: info: atom does not occur in any rule head:\n",
      "  ext_dep(5,6,s8y1y3)\n",
      "\n"
     ]
    },
    {
     "name": "stderr",
     "output_type": "stream",
     "text": [
      "<block>:1:20-37: info: atom does not occur in any rule head:\n",
      "  ext_dep(3,6,s8y1)\n",
      "\n",
      "<block>:1:22-41: info: atom does not occur in any rule head:\n",
      "  ext_dep(5,6,s8y1y3)\n",
      "\n"
     ]
    },
    {
     "name": "stderr",
     "output_type": "stream",
     "text": [
      "<block>:1:20-37: info: atom does not occur in any rule head:\n",
      "  ext_dep(5,6,s8y3)\n",
      "\n",
      "<block>:1:22-41: info: atom does not occur in any rule head:\n",
      "  ext_dep(5,6,s8y1y3)\n",
      "\n"
     ]
    },
    {
     "name": "stderr",
     "output_type": "stream",
     "text": [
      "<block>:1:20-37: info: atom does not occur in any rule head:\n",
      "  ext_dep(3,6,s8y1)\n",
      "\n",
      "<block>:1:22-41: info: atom does not occur in any rule head:\n",
      "  ext_dep(5,6,s8y1y3)\n",
      "\n"
     ]
    },
    {
     "name": "stderr",
     "output_type": "stream",
     "text": [
      "<block>:1:20-37: info: atom does not occur in any rule head:\n",
      "  ext_dep(5,6,s8y3)\n",
      "\n",
      "<block>:1:22-41: info: atom does not occur in any rule head:\n",
      "  ext_dep(5,6,s8y1y3)\n",
      "\n"
     ]
    },
    {
     "name": "stderr",
     "output_type": "stream",
     "text": [
      "<block>:1:20-37: info: atom does not occur in any rule head:\n",
      "  ext_dep(3,6,s8y1)\n",
      "\n",
      "<block>:1:22-41: info: atom does not occur in any rule head:\n",
      "  ext_dep(5,6,s8y1y3)\n",
      "\n"
     ]
    },
    {
     "name": "stderr",
     "output_type": "stream",
     "text": [
      "<block>:1:20-37: info: atom does not occur in any rule head:\n",
      "  ext_dep(3,6,s8y1)\n",
      "\n",
      "<block>:1:22-41: info: atom does not occur in any rule head:\n",
      "  ext_dep(5,6,s8y1y3)\n",
      "\n"
     ]
    },
    {
     "name": "stderr",
     "output_type": "stream",
     "text": [
      "<block>:1:20-37: info: atom does not occur in any rule head:\n",
      "  ext_dep(5,6,s8y3)\n",
      "\n",
      "<block>:1:22-41: info: atom does not occur in any rule head:\n",
      "  ext_dep(5,6,s8y1y3)\n",
      "\n"
     ]
    },
    {
     "name": "stderr",
     "output_type": "stream",
     "text": [
      "<block>:1:20-37: info: atom does not occur in any rule head:\n",
      "  ext_dep(3,6,s8y1)\n",
      "\n",
      "<block>:1:22-41: info: atom does not occur in any rule head:\n",
      "  ext_dep(5,6,s8y1y3)\n",
      "\n"
     ]
    },
    {
     "name": "stderr",
     "output_type": "stream",
     "text": [
      "<block>:1:20-37: info: atom does not occur in any rule head:\n",
      "  ext_dep(3,6,s8y1)\n",
      "\n",
      "<block>:1:22-41: info: atom does not occur in any rule head:\n",
      "  ext_dep(5,6,s8y1y3)\n",
      "\n"
     ]
    },
    {
     "name": "stderr",
     "output_type": "stream",
     "text": [
      "<block>:1:20-37: info: atom does not occur in any rule head:\n",
      "  ext_dep(5,6,s8y3)\n",
      "\n",
      "<block>:1:22-41: info: atom does not occur in any rule head:\n",
      "  ext_dep(5,6,s8y1y3)\n",
      "\n"
     ]
    },
    {
     "name": "stderr",
     "output_type": "stream",
     "text": [
      "<block>:1:20-37: info: atom does not occur in any rule head:\n",
      "  ext_dep(5,6,s8y3)\n",
      "\n",
      "<block>:1:22-41: info: atom does not occur in any rule head:\n",
      "  ext_dep(5,6,s8y1y3)\n",
      "\n",
      "<block>:1:39-51: info: atom does not occur in any rule head:\n",
      "  ap(5,7,#P0,s4)\n",
      "\n",
      "<block>:1:45-60: info: atom does not occur in any rule head:\n",
      "  ap(5,7,#P0,empty)\n",
      "\n"
     ]
    },
    {
     "name": "stderr",
     "output_type": "stream",
     "text": [
      "<block>:1:20-37: info: atom does not occur in any rule head:\n",
      "  ext_dep(5,6,s8y3)\n",
      "\n",
      "<block>:1:22-41: info: atom does not occur in any rule head:\n",
      "  ext_dep(5,6,s8y1y3)\n",
      "\n",
      "<block>:1:39-51: info: atom does not occur in any rule head:\n",
      "  ap(5,7,#P0,s4)\n",
      "\n",
      "<block>:1:45-60: info: atom does not occur in any rule head:\n",
      "  ap(5,7,#P0,empty)\n",
      "\n"
     ]
    },
    {
     "name": "stderr",
     "output_type": "stream",
     "text": [
      "<block>:1:20-37: info: atom does not occur in any rule head:\n",
      "  ext_dep(5,6,s8y3)\n",
      "\n",
      "<block>:1:22-41: info: atom does not occur in any rule head:\n",
      "  ext_dep(5,6,s8y1y3)\n",
      "\n"
     ]
    },
    {
     "name": "stderr",
     "output_type": "stream",
     "text": [
      "<block>:1:20-37: info: atom does not occur in any rule head:\n",
      "  ext_dep(5,6,s8y1)\n",
      "\n",
      "<block>:1:22-41: info: atom does not occur in any rule head:\n",
      "  ext_dep(5,6,s8y1y3)\n",
      "\n"
     ]
    },
    {
     "name": "stderr",
     "output_type": "stream",
     "text": [
      "<block>:1:20-37: info: atom does not occur in any rule head:\n",
      "  ext_dep(5,6,s8y3)\n",
      "\n",
      "<block>:1:22-41: info: atom does not occur in any rule head:\n",
      "  ext_dep(5,6,s8y1y3)\n",
      "\n",
      "<block>:1:39-51: info: atom does not occur in any rule head:\n",
      "  ap(5,7,#P0,s4)\n",
      "\n",
      "<block>:1:45-60: info: atom does not occur in any rule head:\n",
      "  ap(5,7,#P0,empty)\n",
      "\n"
     ]
    },
    {
     "name": "stderr",
     "output_type": "stream",
     "text": [
      "<block>:1:20-37: info: atom does not occur in any rule head:\n",
      "  ext_dep(5,6,s8y3)\n",
      "\n",
      "<block>:1:22-41: info: atom does not occur in any rule head:\n",
      "  ext_dep(5,6,s8y1y3)\n",
      "\n",
      "<block>:1:39-51: info: atom does not occur in any rule head:\n",
      "  ap(5,7,#P0,s4)\n",
      "\n",
      "<block>:1:45-60: info: atom does not occur in any rule head:\n",
      "  ap(5,7,#P0,empty)\n",
      "\n"
     ]
    },
    {
     "name": "stderr",
     "output_type": "stream",
     "text": [
      "<block>:1:20-37: info: atom does not occur in any rule head:\n",
      "  ext_dep(5,6,s8y3)\n",
      "\n",
      "<block>:1:22-41: info: atom does not occur in any rule head:\n",
      "  ext_dep(5,6,s8y1y3)\n",
      "\n"
     ]
    },
    {
     "name": "stderr",
     "output_type": "stream",
     "text": [
      "<block>:1:20-37: info: atom does not occur in any rule head:\n",
      "  ext_dep(5,6,s8y1)\n",
      "\n",
      "<block>:1:22-41: info: atom does not occur in any rule head:\n",
      "  ext_dep(5,6,s8y1y3)\n",
      "\n"
     ]
    },
    {
     "name": "stderr",
     "output_type": "stream",
     "text": [
      "<block>:1:18-37: info: atom does not occur in any rule head:\n",
      "  ext_indep(5,6,s8y1)\n",
      "\n",
      "<block>:1:20-37: info: atom does not occur in any rule head:\n",
      "  ext_dep(5,6,s8y3)\n",
      "\n",
      "<block>:1:22-41: info: atom does not occur in any rule head:\n",
      "  ext_dep(5,6,s8y1y3)\n",
      "\n",
      "<block>:1:39-51: info: atom does not occur in any rule head:\n",
      "  ap(3,7,#P0,s0)\n",
      "\n",
      "<block>:1:45-60: info: atom does not occur in any rule head:\n",
      "  ap(3,7,#P0,empty)\n",
      "\n",
      "<block>:1:18-37: info: atom does not occur in any rule head:\n",
      "  ext_indep(5,6,s8y1)\n",
      "\n",
      "<block>:1:20-37: info: atom does not occur in any rule head:\n",
      "  ext_dep(5,6,s8y3)\n",
      "\n",
      "<block>:1:22-41: info: atom does not occur in any rule head:\n",
      "  ext_dep(5,6,s8y1y3)\n",
      "\n"
     ]
    },
    {
     "name": "stderr",
     "output_type": "stream",
     "text": [
      "<block>:1:20-37: info: atom does not occur in any rule head:\n",
      "  ext_dep(5,6,s8y3)\n",
      "\n",
      "<block>:1:22-41: info: atom does not occur in any rule head:\n",
      "  ext_dep(5,6,s8y1y3)\n",
      "\n"
     ]
    },
    {
     "name": "stderr",
     "output_type": "stream",
     "text": [
      "<block>:1:20-37: info: atom does not occur in any rule head:\n",
      "  ext_dep(5,6,s8y3)\n",
      "\n",
      "<block>:1:22-41: info: atom does not occur in any rule head:\n",
      "  ext_dep(5,6,s8y1y3)\n",
      "\n"
     ]
    },
    {
     "name": "stderr",
     "output_type": "stream",
     "text": [
      "<block>:1:20-37: info: atom does not occur in any rule head:\n",
      "  ext_dep(3,6,s8y1)\n",
      "\n",
      "<block>:1:22-41: info: atom does not occur in any rule head:\n",
      "  ext_dep(5,6,s8y1y3)\n",
      "\n"
     ]
    },
    {
     "name": "stderr",
     "output_type": "stream",
     "text": [
      "<block>:1:20-37: info: atom does not occur in any rule head:\n",
      "  ext_dep(3,6,s8y1)\n",
      "\n",
      "<block>:1:22-41: info: atom does not occur in any rule head:\n",
      "  ext_dep(5,6,s8y1y3)\n",
      "\n"
     ]
    },
    {
     "name": "stderr",
     "output_type": "stream",
     "text": [
      "<block>:1:20-37: info: atom does not occur in any rule head:\n",
      "  ext_dep(3,6,s8y1)\n",
      "\n",
      "<block>:1:22-41: info: atom does not occur in any rule head:\n",
      "  ext_dep(5,6,s8y1y3)\n",
      "\n"
     ]
    },
    {
     "name": "stderr",
     "output_type": "stream",
     "text": [
      "<block>:1:20-37: info: atom does not occur in any rule head:\n",
      "  ext_dep(5,6,s8y3)\n",
      "\n",
      "<block>:1:22-41: info: atom does not occur in any rule head:\n",
      "  ext_dep(5,6,s8y1y3)\n",
      "\n"
     ]
    },
    {
     "name": "stderr",
     "output_type": "stream",
     "text": [
      "<block>:1:20-37: info: atom does not occur in any rule head:\n",
      "  ext_dep(5,6,s8y3)\n",
      "\n",
      "<block>:1:22-41: info: atom does not occur in any rule head:\n",
      "  ext_dep(5,6,s8y1y3)\n",
      "\n"
     ]
    },
    {
     "name": "stderr",
     "output_type": "stream",
     "text": [
      "<block>:1:20-37: info: atom does not occur in any rule head:\n",
      "  ext_dep(5,6,s8y3)\n",
      "\n",
      "<block>:1:22-41: info: atom does not occur in any rule head:\n",
      "  ext_dep(5,6,s8y1y3)\n",
      "\n"
     ]
    },
    {
     "name": "stderr",
     "output_type": "stream",
     "text": [
      "<block>:1:20-37: info: atom does not occur in any rule head:\n",
      "  ext_dep(5,6,s8y3)\n",
      "\n",
      "<block>:1:22-41: info: atom does not occur in any rule head:\n",
      "  ext_dep(5,6,s8y1y3)\n",
      "\n"
     ]
    },
    {
     "name": "stderr",
     "output_type": "stream",
     "text": [
      "<block>:1:20-37: info: atom does not occur in any rule head:\n",
      "  ext_dep(5,6,s8y3)\n",
      "\n",
      "<block>:1:22-41: info: atom does not occur in any rule head:\n",
      "  ext_dep(5,6,s8y1y3)\n",
      "\n"
     ]
    },
    {
     "name": "stderr",
     "output_type": "stream",
     "text": [
      "<block>:1:18-37: info: atom does not occur in any rule head:\n",
      "  ext_indep(5,6,s8y1)\n",
      "\n",
      "<block>:1:20-37: info: atom does not occur in any rule head:\n",
      "  ext_dep(5,6,s8y3)\n",
      "\n",
      "<block>:1:22-41: info: atom does not occur in any rule head:\n",
      "  ext_dep(5,6,s8y1y3)\n",
      "\n",
      "<block>:1:39-51: info: atom does not occur in any rule head:\n",
      "  ap(3,7,#P0,s0)\n",
      "\n",
      "<block>:1:45-60: info: atom does not occur in any rule head:\n",
      "  ap(3,7,#P0,empty)\n",
      "\n",
      "<block>:1:18-37: info: atom does not occur in any rule head:\n",
      "  ext_indep(5,6,s8y1)\n",
      "\n",
      "<block>:1:20-37: info: atom does not occur in any rule head:\n",
      "  ext_dep(5,6,s8y3)\n",
      "\n",
      "<block>:1:22-41: info: atom does not occur in any rule head:\n",
      "  ext_dep(5,6,s8y1y3)\n",
      "\n"
     ]
    },
    {
     "name": "stderr",
     "output_type": "stream",
     "text": [
      "<block>:1:20-37: info: atom does not occur in any rule head:\n",
      "  ext_dep(5,6,s8y3)\n",
      "\n",
      "<block>:1:22-41: info: atom does not occur in any rule head:\n",
      "  ext_dep(5,6,s8y1y3)\n",
      "\n"
     ]
    },
    {
     "name": "stderr",
     "output_type": "stream",
     "text": [
      "<block>:1:20-37: info: atom does not occur in any rule head:\n",
      "  ext_dep(3,6,s8y1)\n",
      "\n",
      "<block>:1:22-41: info: atom does not occur in any rule head:\n",
      "  ext_dep(5,6,s8y1y3)\n",
      "\n"
     ]
    },
    {
     "name": "stderr",
     "output_type": "stream",
     "text": [
      "<block>:1:20-37: info: atom does not occur in any rule head:\n",
      "  ext_dep(3,6,s8y1)\n",
      "\n",
      "<block>:1:22-41: info: atom does not occur in any rule head:\n",
      "  ext_dep(5,6,s8y1y3)\n",
      "\n"
     ]
    },
    {
     "name": "stderr",
     "output_type": "stream",
     "text": [
      "<block>:1:20-37: info: atom does not occur in any rule head:\n",
      "  ext_dep(5,6,s8y3)\n",
      "\n",
      "<block>:1:22-41: info: atom does not occur in any rule head:\n",
      "  ext_dep(5,6,s8y1y3)\n",
      "\n"
     ]
    },
    {
     "name": "stderr",
     "output_type": "stream",
     "text": [
      "<block>:1:20-37: info: atom does not occur in any rule head:\n",
      "  ext_dep(5,6,s8y3)\n",
      "\n",
      "<block>:1:22-41: info: atom does not occur in any rule head:\n",
      "  ext_dep(5,6,s8y1y3)\n",
      "\n"
     ]
    },
    {
     "name": "stderr",
     "output_type": "stream",
     "text": [
      "<block>:1:20-37: info: atom does not occur in any rule head:\n",
      "  ext_dep(5,6,s8y3)\n",
      "\n",
      "<block>:1:22-41: info: atom does not occur in any rule head:\n",
      "  ext_dep(5,6,s8y1y3)\n",
      "\n"
     ]
    },
    {
     "name": "stderr",
     "output_type": "stream",
     "text": [
      "<block>:1:20-37: info: atom does not occur in any rule head:\n",
      "  ext_dep(5,6,s8y3)\n",
      "\n",
      "<block>:1:22-41: info: atom does not occur in any rule head:\n",
      "  ext_dep(5,6,s8y1y3)\n",
      "\n"
     ]
    },
    {
     "name": "stderr",
     "output_type": "stream",
     "text": [
      "<block>:1:20-37: info: atom does not occur in any rule head:\n",
      "  ext_dep(3,6,s8y1)\n",
      "\n",
      "<block>:1:22-41: info: atom does not occur in any rule head:\n",
      "  ext_dep(5,6,s8y1y3)\n",
      "\n"
     ]
    },
    {
     "name": "stderr",
     "output_type": "stream",
     "text": [
      "<block>:1:20-37: info: atom does not occur in any rule head:\n",
      "  ext_dep(5,6,s8y3)\n",
      "\n",
      "<block>:1:22-41: info: atom does not occur in any rule head:\n",
      "  ext_dep(5,6,s8y1y3)\n",
      "\n"
     ]
    },
    {
     "name": "stderr",
     "output_type": "stream",
     "text": [
      "<block>:1:20-37: info: atom does not occur in any rule head:\n",
      "  ext_dep(3,6,s8y1)\n",
      "\n",
      "<block>:1:22-41: info: atom does not occur in any rule head:\n",
      "  ext_dep(5,6,s8y1y3)\n",
      "\n"
     ]
    },
    {
     "name": "stderr",
     "output_type": "stream",
     "text": [
      "<block>:1:18-37: info: atom does not occur in any rule head:\n",
      "  ext_indep(5,6,s8y1)\n",
      "\n",
      "<block>:1:20-37: info: atom does not occur in any rule head:\n",
      "  ext_dep(5,6,s8y3)\n",
      "\n",
      "<block>:1:22-41: info: atom does not occur in any rule head:\n",
      "  ext_dep(5,6,s8y1y3)\n",
      "\n"
     ]
    },
    {
     "name": "stderr",
     "output_type": "stream",
     "text": [
      "<block>:1:18-37: info: atom does not occur in any rule head:\n",
      "  ext_indep(5,6,s8y1)\n",
      "\n",
      "<block>:1:20-37: info: atom does not occur in any rule head:\n",
      "  ext_dep(5,6,s8y3)\n",
      "\n",
      "<block>:1:22-41: info: atom does not occur in any rule head:\n",
      "  ext_dep(5,6,s8y1y3)\n",
      "\n"
     ]
    },
    {
     "name": "stderr",
     "output_type": "stream",
     "text": [
      "<block>:1:18-37: info: atom does not occur in any rule head:\n",
      "  ext_indep(5,6,s8y1)\n",
      "\n",
      "<block>:1:20-37: info: atom does not occur in any rule head:\n",
      "  ext_dep(5,6,s8y3)\n",
      "\n",
      "<block>:1:22-41: info: atom does not occur in any rule head:\n",
      "  ext_dep(5,6,s8y1y3)\n",
      "\n"
     ]
    },
    {
     "name": "stderr",
     "output_type": "stream",
     "text": [
      "<block>:1:18-37: info: atom does not occur in any rule head:\n",
      "  ext_indep(5,6,s8y1)\n",
      "\n",
      "<block>:1:20-37: info: atom does not occur in any rule head:\n",
      "  ext_dep(5,6,s8y3)\n",
      "\n",
      "<block>:1:22-41: info: atom does not occur in any rule head:\n",
      "  ext_dep(5,6,s8y1y3)\n",
      "\n"
     ]
    },
    {
     "name": "stderr",
     "output_type": "stream",
     "text": [
      "<block>:1:18-37: info: atom does not occur in any rule head:\n",
      "  ext_indep(5,6,s8y1)\n",
      "\n",
      "<block>:1:20-37: info: atom does not occur in any rule head:\n",
      "  ext_dep(5,6,s8y3)\n",
      "\n",
      "<block>:1:22-41: info: atom does not occur in any rule head:\n",
      "  ext_dep(5,6,s8y1y3)\n",
      "\n"
     ]
    },
    {
     "name": "stderr",
     "output_type": "stream",
     "text": [
      "<block>:1:18-37: info: atom does not occur in any rule head:\n",
      "  ext_indep(5,6,s8y1)\n",
      "\n",
      "<block>:1:20-37: info: atom does not occur in any rule head:\n",
      "  ext_dep(1,6,s8y3)\n",
      "\n",
      "<block>:1:22-41: info: atom does not occur in any rule head:\n",
      "  ext_dep(5,6,s8y1y3)\n",
      "\n"
     ]
    },
    {
     "name": "stderr",
     "output_type": "stream",
     "text": [
      "<block>:1:18-37: info: atom does not occur in any rule head:\n",
      "  ext_indep(5,6,s8y1)\n",
      "\n",
      "<block>:1:20-37: info: atom does not occur in any rule head:\n",
      "  ext_dep(5,6,s8y3)\n",
      "\n",
      "<block>:1:22-41: info: atom does not occur in any rule head:\n",
      "  ext_dep(5,6,s8y1y3)\n",
      "\n"
     ]
    },
    {
     "name": "stderr",
     "output_type": "stream",
     "text": [
      "<block>:1:18-37: info: atom does not occur in any rule head:\n",
      "  ext_indep(5,6,s8y1)\n",
      "\n",
      "<block>:1:20-37: info: atom does not occur in any rule head:\n",
      "  ext_dep(5,6,s8y3)\n",
      "\n",
      "<block>:1:22-41: info: atom does not occur in any rule head:\n",
      "  ext_dep(5,6,s8y1y3)\n",
      "\n"
     ]
    },
    {
     "name": "stderr",
     "output_type": "stream",
     "text": [
      "<block>:1:18-37: info: atom does not occur in any rule head:\n",
      "  ext_indep(5,6,s8y1)\n",
      "\n",
      "<block>:1:20-37: info: atom does not occur in any rule head:\n",
      "  ext_dep(5,6,s8y3)\n",
      "\n",
      "<block>:1:22-41: info: atom does not occur in any rule head:\n",
      "  ext_dep(5,6,s8y1y3)\n",
      "\n"
     ]
    },
    {
     "name": "stderr",
     "output_type": "stream",
     "text": [
      "<block>:1:18-37: info: atom does not occur in any rule head:\n",
      "  ext_indep(5,6,s8y1)\n",
      "\n",
      "<block>:1:20-37: info: atom does not occur in any rule head:\n",
      "  ext_dep(3,6,s8y1)\n",
      "\n",
      "<block>:1:22-41: info: atom does not occur in any rule head:\n",
      "  ext_dep(5,6,s8y1y3)\n",
      "\n"
     ]
    },
    {
     "name": "stderr",
     "output_type": "stream",
     "text": [
      "<block>:1:18-37: info: atom does not occur in any rule head:\n",
      "  ext_indep(5,6,s8y1)\n",
      "\n",
      "<block>:1:20-37: info: atom does not occur in any rule head:\n",
      "  ext_dep(5,6,s8y3)\n",
      "\n",
      "<block>:1:22-41: info: atom does not occur in any rule head:\n",
      "  ext_dep(5,6,s8y1y3)\n",
      "\n",
      "<block>:1:45-60: info: atom does not occur in any rule head:\n",
      "  ap(2,7,#P0,empty)\n",
      "\n"
     ]
    },
    {
     "name": "stderr",
     "output_type": "stream",
     "text": [
      "<block>:1:18-37: info: atom does not occur in any rule head:\n",
      "  ext_indep(5,6,s8y1)\n",
      "\n",
      "<block>:1:20-37: info: atom does not occur in any rule head:\n",
      "  ext_dep(5,6,s8y3)\n",
      "\n",
      "<block>:1:22-41: info: atom does not occur in any rule head:\n",
      "  ext_dep(5,6,s8y1y3)\n",
      "\n",
      "<block>:1:45-60: info: atom does not occur in any rule head:\n",
      "  ap(4,7,#P0,empty)\n",
      "\n"
     ]
    },
    {
     "name": "stderr",
     "output_type": "stream",
     "text": [
      "<block>:1:18-37: info: atom does not occur in any rule head:\n",
      "  ext_indep(5,6,s8y1)\n",
      "\n",
      "<block>:1:20-37: info: atom does not occur in any rule head:\n",
      "  ext_dep(5,6,s8y3)\n",
      "\n",
      "<block>:1:22-41: info: atom does not occur in any rule head:\n",
      "  ext_dep(5,6,s8y1y3)\n",
      "\n",
      "<block>:1:45-60: info: atom does not occur in any rule head:\n",
      "  ap(4,7,#P0,empty)\n",
      "\n"
     ]
    },
    {
     "name": "stderr",
     "output_type": "stream",
     "text": [
      "<block>:1:18-37: info: atom does not occur in any rule head:\n",
      "  ext_indep(5,6,s8y1)\n",
      "\n",
      "<block>:1:20-37: info: atom does not occur in any rule head:\n",
      "  ext_dep(5,6,s8y3)\n",
      "\n",
      "<block>:1:22-41: info: atom does not occur in any rule head:\n",
      "  ext_dep(5,6,s8y1y3)\n",
      "\n",
      "<block>:1:45-60: info: atom does not occur in any rule head:\n",
      "  ap(4,7,#P0,empty)\n",
      "\n"
     ]
    },
    {
     "name": "stderr",
     "output_type": "stream",
     "text": [
      "<block>:1:18-37: info: atom does not occur in any rule head:\n",
      "  ext_indep(5,6,s8y1)\n",
      "\n",
      "<block>:1:20-37: info: atom does not occur in any rule head:\n",
      "  ext_dep(5,6,s8y3)\n",
      "\n",
      "<block>:1:22-41: info: atom does not occur in any rule head:\n",
      "  ext_dep(5,6,s8y1y3)\n",
      "\n"
     ]
    },
    {
     "name": "stderr",
     "output_type": "stream",
     "text": [
      "<block>:1:18-37: info: atom does not occur in any rule head:\n",
      "  ext_indep(5,6,s8y1)\n",
      "\n",
      "<block>:1:20-37: info: atom does not occur in any rule head:\n",
      "  ext_dep(3,6,s8y1)\n",
      "\n",
      "<block>:1:22-41: info: atom does not occur in any rule head:\n",
      "  ext_dep(5,6,s8y1y3)\n",
      "\n"
     ]
    },
    {
     "name": "stderr",
     "output_type": "stream",
     "text": [
      "<block>:1:18-37: info: atom does not occur in any rule head:\n",
      "  ext_indep(5,6,s8y1)\n",
      "\n",
      "<block>:1:20-37: info: atom does not occur in any rule head:\n",
      "  ext_dep(5,6,s8y3)\n",
      "\n",
      "<block>:1:22-41: info: atom does not occur in any rule head:\n",
      "  ext_dep(5,6,s8y1y3)\n",
      "\n"
     ]
    },
    {
     "name": "stderr",
     "output_type": "stream",
     "text": [
      "<block>:1:18-37: info: atom does not occur in any rule head:\n",
      "  ext_indep(5,6,s8y1)\n",
      "\n",
      "<block>:1:20-37: info: atom does not occur in any rule head:\n",
      "  ext_dep(5,6,s8y3)\n",
      "\n",
      "<block>:1:22-41: info: atom does not occur in any rule head:\n",
      "  ext_dep(5,6,s8y1y3)\n",
      "\n",
      "<block>:1:45-60: info: atom does not occur in any rule head:\n",
      "  ap(2,7,#P0,empty)\n",
      "\n"
     ]
    },
    {
     "name": "stderr",
     "output_type": "stream",
     "text": [
      "<block>:1:18-37: info: atom does not occur in any rule head:\n",
      "  ext_indep(5,6,s8y1)\n",
      "\n",
      "<block>:1:20-37: info: atom does not occur in any rule head:\n",
      "  ext_dep(5,6,s8y3)\n",
      "\n",
      "<block>:1:22-41: info: atom does not occur in any rule head:\n",
      "  ext_dep(5,6,s8y1y3)\n",
      "\n",
      "<block>:1:45-60: info: atom does not occur in any rule head:\n",
      "  ap(4,7,#P0,empty)\n",
      "\n"
     ]
    },
    {
     "name": "stderr",
     "output_type": "stream",
     "text": [
      "<block>:1:18-37: info: atom does not occur in any rule head:\n",
      "  ext_indep(5,6,s8y1)\n",
      "\n",
      "<block>:1:20-37: info: atom does not occur in any rule head:\n",
      "  ext_dep(5,6,s8y3)\n",
      "\n",
      "<block>:1:22-41: info: atom does not occur in any rule head:\n",
      "  ext_dep(5,6,s8y1y3)\n",
      "\n",
      "<block>:1:45-60: info: atom does not occur in any rule head:\n",
      "  ap(4,7,#P0,empty)\n",
      "\n"
     ]
    },
    {
     "name": "stderr",
     "output_type": "stream",
     "text": [
      "<block>:1:18-37: info: atom does not occur in any rule head:\n",
      "  ext_indep(5,6,s8y1)\n",
      "\n",
      "<block>:1:20-37: info: atom does not occur in any rule head:\n",
      "  ext_dep(5,6,s8y3)\n",
      "\n",
      "<block>:1:22-41: info: atom does not occur in any rule head:\n",
      "  ext_dep(5,6,s8y1y3)\n",
      "\n",
      "<block>:1:45-60: info: atom does not occur in any rule head:\n",
      "  ap(4,7,#P0,empty)\n",
      "\n"
     ]
    },
    {
     "name": "stderr",
     "output_type": "stream",
     "text": [
      "<block>:1:18-37: info: atom does not occur in any rule head:\n",
      "  ext_indep(5,6,s8y1)\n",
      "\n",
      "<block>:1:20-37: info: atom does not occur in any rule head:\n",
      "  ext_dep(3,6,s8y1)\n",
      "\n",
      "<block>:1:22-41: info: atom does not occur in any rule head:\n",
      "  ext_dep(5,6,s8y1y3)\n",
      "\n"
     ]
    },
    {
     "name": "stderr",
     "output_type": "stream",
     "text": [
      "<block>:1:18-37: info: atom does not occur in any rule head:\n",
      "  ext_indep(5,6,s8y1)\n",
      "\n",
      "<block>:1:20-37: info: atom does not occur in any rule head:\n",
      "  ext_dep(1,6,s8y3)\n",
      "\n",
      "<block>:1:22-41: info: atom does not occur in any rule head:\n",
      "  ext_dep(5,6,s8y1y3)\n",
      "\n"
     ]
    },
    {
     "name": "stderr",
     "output_type": "stream",
     "text": [
      "<block>:1:18-37: info: atom does not occur in any rule head:\n",
      "  ext_indep(5,6,s8y1)\n",
      "\n",
      "<block>:1:20-37: info: atom does not occur in any rule head:\n",
      "  ext_dep(3,6,s8y1)\n",
      "\n",
      "<block>:1:22-41: info: atom does not occur in any rule head:\n",
      "  ext_dep(5,6,s8y1y3)\n",
      "\n"
     ]
    },
    {
     "name": "stderr",
     "output_type": "stream",
     "text": [
      "<block>:1:18-37: info: atom does not occur in any rule head:\n",
      "  ext_indep(5,6,s8y1)\n",
      "\n",
      "<block>:1:20-37: info: atom does not occur in any rule head:\n",
      "  ext_dep(5,6,s8y3)\n",
      "\n",
      "<block>:1:22-41: info: atom does not occur in any rule head:\n",
      "  ext_dep(5,6,s8y1y3)\n",
      "\n"
     ]
    },
    {
     "name": "stderr",
     "output_type": "stream",
     "text": [
      "<block>:1:18-37: info: atom does not occur in any rule head:\n",
      "  ext_indep(5,6,s8y1)\n",
      "\n",
      "<block>:1:20-37: info: atom does not occur in any rule head:\n",
      "  ext_dep(5,6,s8y3)\n",
      "\n",
      "<block>:1:22-41: info: atom does not occur in any rule head:\n",
      "  ext_dep(5,6,s8y1y3)\n",
      "\n"
     ]
    },
    {
     "name": "stderr",
     "output_type": "stream",
     "text": [
      "<block>:1:18-37: info: atom does not occur in any rule head:\n",
      "  ext_indep(5,6,s8y1)\n",
      "\n",
      "<block>:1:20-37: info: atom does not occur in any rule head:\n",
      "  ext_dep(5,6,s8y3)\n",
      "\n",
      "<block>:1:22-41: info: atom does not occur in any rule head:\n",
      "  ext_dep(5,6,s8y1y3)\n",
      "\n"
     ]
    },
    {
     "name": "stderr",
     "output_type": "stream",
     "text": [
      "<block>:1:18-37: info: atom does not occur in any rule head:\n",
      "  ext_indep(5,6,s8y1)\n",
      "\n",
      "<block>:1:20-37: info: atom does not occur in any rule head:\n",
      "  ext_dep(3,6,s8y1)\n",
      "\n",
      "<block>:1:22-41: info: atom does not occur in any rule head:\n",
      "  ext_dep(5,6,s8y1y3)\n",
      "\n"
     ]
    },
    {
     "name": "stderr",
     "output_type": "stream",
     "text": [
      "<block>:1:18-37: info: atom does not occur in any rule head:\n",
      "  ext_indep(5,6,s8y1)\n",
      "\n",
      "<block>:1:20-37: info: atom does not occur in any rule head:\n",
      "  ext_dep(5,6,s8y3)\n",
      "\n",
      "<block>:1:22-41: info: atom does not occur in any rule head:\n",
      "  ext_dep(5,6,s8y1y3)\n",
      "\n"
     ]
    },
    {
     "name": "stderr",
     "output_type": "stream",
     "text": [
      "<block>:1:18-37: info: atom does not occur in any rule head:\n",
      "  ext_indep(5,6,s8y1)\n",
      "\n",
      "<block>:1:20-37: info: atom does not occur in any rule head:\n",
      "  ext_dep(3,6,s8y1)\n",
      "\n",
      "<block>:1:22-41: info: atom does not occur in any rule head:\n",
      "  ext_dep(5,6,s8y1y3)\n",
      "\n"
     ]
    },
    {
     "name": "stderr",
     "output_type": "stream",
     "text": [
      "<block>:1:18-37: info: atom does not occur in any rule head:\n",
      "  ext_indep(5,6,s8y1)\n",
      "\n",
      "<block>:1:20-37: info: atom does not occur in any rule head:\n",
      "  ext_dep(5,6,s8y3)\n",
      "\n",
      "<block>:1:22-41: info: atom does not occur in any rule head:\n",
      "  ext_dep(5,6,s8y1y3)\n",
      "\n"
     ]
    },
    {
     "name": "stderr",
     "output_type": "stream",
     "text": [
      "<block>:1:18-37: info: atom does not occur in any rule head:\n",
      "  ext_indep(5,6,s8y1)\n",
      "\n",
      "<block>:1:20-37: info: atom does not occur in any rule head:\n",
      "  ext_dep(5,6,s8y3)\n",
      "\n",
      "<block>:1:22-41: info: atom does not occur in any rule head:\n",
      "  ext_dep(5,6,s8y1y3)\n",
      "\n"
     ]
    },
    {
     "name": "stderr",
     "output_type": "stream",
     "text": [
      "<block>:1:18-37: info: atom does not occur in any rule head:\n",
      "  ext_indep(5,6,s8y1)\n",
      "\n",
      "<block>:1:20-37: info: atom does not occur in any rule head:\n",
      "  ext_dep(3,6,s8y1)\n",
      "\n",
      "<block>:1:22-41: info: atom does not occur in any rule head:\n",
      "  ext_dep(5,6,s8y1y3)\n",
      "\n"
     ]
    },
    {
     "name": "stderr",
     "output_type": "stream",
     "text": [
      "<block>:1:18-37: info: atom does not occur in any rule head:\n",
      "  ext_indep(5,6,s8y1)\n",
      "\n",
      "<block>:1:20-37: info: atom does not occur in any rule head:\n",
      "  ext_dep(1,6,s8y3)\n",
      "\n",
      "<block>:1:22-41: info: atom does not occur in any rule head:\n",
      "  ext_dep(5,6,s8y1y3)\n",
      "\n"
     ]
    },
    {
     "name": "stderr",
     "output_type": "stream",
     "text": [
      "<block>:1:18-37: info: atom does not occur in any rule head:\n",
      "  ext_indep(5,6,s8y1)\n",
      "\n",
      "<block>:1:20-37: info: atom does not occur in any rule head:\n",
      "  ext_dep(5,6,s8y3)\n",
      "\n",
      "<block>:1:22-41: info: atom does not occur in any rule head:\n",
      "  ext_dep(5,6,s8y1y3)\n",
      "\n"
     ]
    },
    {
     "name": "stderr",
     "output_type": "stream",
     "text": [
      "<block>:1:18-37: info: atom does not occur in any rule head:\n",
      "  ext_indep(5,6,s8y1)\n",
      "\n",
      "<block>:1:20-37: info: atom does not occur in any rule head:\n",
      "  ext_dep(5,6,s8y3)\n",
      "\n",
      "<block>:1:22-41: info: atom does not occur in any rule head:\n",
      "  ext_dep(5,6,s8y1y3)\n",
      "\n"
     ]
    },
    {
     "name": "stderr",
     "output_type": "stream",
     "text": [
      "<block>:1:18-37: info: atom does not occur in any rule head:\n",
      "  ext_indep(5,6,s8y1)\n",
      "\n",
      "<block>:1:20-37: info: atom does not occur in any rule head:\n",
      "  ext_dep(3,6,s8y1)\n",
      "\n",
      "<block>:1:22-41: info: atom does not occur in any rule head:\n",
      "  ext_dep(5,6,s8y1y3)\n",
      "\n"
     ]
    },
    {
     "name": "stderr",
     "output_type": "stream",
     "text": [
      "<block>:1:18-37: info: atom does not occur in any rule head:\n",
      "  ext_indep(5,6,s8y1)\n",
      "\n",
      "<block>:1:20-37: info: atom does not occur in any rule head:\n",
      "  ext_dep(5,6,s8y3)\n",
      "\n",
      "<block>:1:22-41: info: atom does not occur in any rule head:\n",
      "  ext_dep(5,6,s8y1y3)\n",
      "\n"
     ]
    },
    {
     "name": "stderr",
     "output_type": "stream",
     "text": [
      "<block>:1:18-37: info: atom does not occur in any rule head:\n",
      "  ext_indep(5,6,s8y1)\n",
      "\n",
      "<block>:1:20-37: info: atom does not occur in any rule head:\n",
      "  ext_dep(3,6,s8y1)\n",
      "\n",
      "<block>:1:22-41: info: atom does not occur in any rule head:\n",
      "  ext_dep(5,6,s8y1y3)\n",
      "\n"
     ]
    },
    {
     "name": "stderr",
     "output_type": "stream",
     "text": [
      "<block>:1:18-37: info: atom does not occur in any rule head:\n",
      "  ext_indep(5,6,s8y1)\n",
      "\n",
      "<block>:1:20-37: info: atom does not occur in any rule head:\n",
      "  ext_dep(1,6,s8y3)\n",
      "\n",
      "<block>:1:22-41: info: atom does not occur in any rule head:\n",
      "  ext_dep(5,6,s8y1y3)\n",
      "\n"
     ]
    },
    {
     "name": "stderr",
     "output_type": "stream",
     "text": [
      "<block>:1:18-37: info: atom does not occur in any rule head:\n",
      "  ext_indep(5,6,s8y1)\n",
      "\n",
      "<block>:1:20-37: info: atom does not occur in any rule head:\n",
      "  ext_dep(3,6,s8y1)\n",
      "\n",
      "<block>:1:22-41: info: atom does not occur in any rule head:\n",
      "  ext_dep(5,6,s8y1y3)\n",
      "\n"
     ]
    },
    {
     "name": "stderr",
     "output_type": "stream",
     "text": [
      "<block>:1:18-37: info: atom does not occur in any rule head:\n",
      "  ext_indep(5,6,s8y1)\n",
      "\n",
      "<block>:1:20-37: info: atom does not occur in any rule head:\n",
      "  ext_dep(3,6,s8y1)\n",
      "\n",
      "<block>:1:22-41: info: atom does not occur in any rule head:\n",
      "  ext_dep(5,6,s8y1y3)\n",
      "\n"
     ]
    },
    {
     "name": "stderr",
     "output_type": "stream",
     "text": [
      "<block>:1:18-37: info: atom does not occur in any rule head:\n",
      "  ext_indep(5,6,s8y1)\n",
      "\n",
      "<block>:1:20-37: info: atom does not occur in any rule head:\n",
      "  ext_dep(5,6,s8y3)\n",
      "\n",
      "<block>:1:22-41: info: atom does not occur in any rule head:\n",
      "  ext_dep(5,6,s8y1y3)\n",
      "\n"
     ]
    },
    {
     "name": "stderr",
     "output_type": "stream",
     "text": [
      "<block>:1:18-37: info: atom does not occur in any rule head:\n",
      "  ext_indep(5,6,s8y1)\n",
      "\n",
      "<block>:1:20-37: info: atom does not occur in any rule head:\n",
      "  ext_dep(3,6,s8y1)\n",
      "\n",
      "<block>:1:22-41: info: atom does not occur in any rule head:\n",
      "  ext_dep(5,6,s8y1y3)\n",
      "\n",
      "<block>:1:18-37: info: atom does not occur in any rule head:\n",
      "  ext_indep(5,6,s8y1)\n",
      "\n",
      "<block>:1:20-37: info: atom does not occur in any rule head:\n",
      "  ext_dep(5,6,s8y3)\n",
      "\n",
      "<block>:1:22-41: info: atom does not occur in any rule head:\n",
      "  ext_dep(5,6,s8y1y3)\n",
      "\n"
     ]
    },
    {
     "name": "stderr",
     "output_type": "stream",
     "text": [
      "<block>:1:18-37: info: atom does not occur in any rule head:\n",
      "  ext_indep(5,6,s8y1)\n",
      "\n",
      "<block>:1:20-37: info: atom does not occur in any rule head:\n",
      "  ext_dep(5,6,s8y3)\n",
      "\n",
      "<block>:1:22-41: info: atom does not occur in any rule head:\n",
      "  ext_dep(5,6,s8y1y3)\n",
      "\n"
     ]
    },
    {
     "name": "stderr",
     "output_type": "stream",
     "text": [
      "<block>:1:18-37: info: atom does not occur in any rule head:\n",
      "  ext_indep(5,6,s8y1)\n",
      "\n",
      "<block>:1:20-37: info: atom does not occur in any rule head:\n",
      "  ext_dep(3,6,s8y1)\n",
      "\n",
      "<block>:1:22-41: info: atom does not occur in any rule head:\n",
      "  ext_dep(5,6,s8y1y3)\n",
      "\n"
     ]
    },
    {
     "name": "stderr",
     "output_type": "stream",
     "text": [
      "<block>:1:18-37: info: atom does not occur in any rule head:\n",
      "  ext_indep(5,6,s8y1)\n",
      "\n",
      "<block>:1:20-37: info: atom does not occur in any rule head:\n",
      "  ext_dep(5,6,s8y3)\n",
      "\n",
      "<block>:1:22-41: info: atom does not occur in any rule head:\n",
      "  ext_dep(5,6,s8y1y3)\n",
      "\n"
     ]
    },
    {
     "name": "stderr",
     "output_type": "stream",
     "text": [
      "<block>:1:18-37: info: atom does not occur in any rule head:\n",
      "  ext_indep(5,6,s8y1)\n",
      "\n",
      "<block>:1:20-37: info: atom does not occur in any rule head:\n",
      "  ext_dep(3,6,s8y1)\n",
      "\n",
      "<block>:1:22-41: info: atom does not occur in any rule head:\n",
      "  ext_dep(5,6,s8y1y3)\n",
      "\n"
     ]
    },
    {
     "name": "stderr",
     "output_type": "stream",
     "text": [
      "<block>:1:18-37: info: atom does not occur in any rule head:\n",
      "  ext_indep(5,6,s8y1)\n",
      "\n",
      "<block>:1:20-37: info: atom does not occur in any rule head:\n",
      "  ext_dep(5,6,s8y3)\n",
      "\n",
      "<block>:1:22-41: info: atom does not occur in any rule head:\n",
      "  ext_dep(5,6,s8y1y3)\n",
      "\n"
     ]
    },
    {
     "name": "stderr",
     "output_type": "stream",
     "text": [
      "<block>:1:18-37: info: atom does not occur in any rule head:\n",
      "  ext_indep(5,6,s8y1)\n",
      "\n",
      "<block>:1:20-37: info: atom does not occur in any rule head:\n",
      "  ext_dep(3,6,s8y1)\n",
      "\n",
      "<block>:1:22-41: info: atom does not occur in any rule head:\n",
      "  ext_dep(5,6,s8y1y3)\n",
      "\n"
     ]
    },
    {
     "name": "stderr",
     "output_type": "stream",
     "text": [
      "<block>:1:18-37: info: atom does not occur in any rule head:\n",
      "  ext_indep(5,6,s8y1)\n",
      "\n",
      "<block>:1:20-37: info: atom does not occur in any rule head:\n",
      "  ext_dep(1,6,s8y3)\n",
      "\n",
      "<block>:1:22-41: info: atom does not occur in any rule head:\n",
      "  ext_dep(5,6,s8y1y3)\n",
      "\n"
     ]
    },
    {
     "name": "stderr",
     "output_type": "stream",
     "text": [
      "<block>:1:18-37: info: atom does not occur in any rule head:\n",
      "  ext_indep(5,6,s8y1)\n",
      "\n",
      "<block>:1:20-37: info: atom does not occur in any rule head:\n",
      "  ext_dep(5,6,s8y3)\n",
      "\n",
      "<block>:1:22-41: info: atom does not occur in any rule head:\n",
      "  ext_dep(5,6,s8y1y3)\n",
      "\n"
     ]
    },
    {
     "name": "stderr",
     "output_type": "stream",
     "text": [
      "<block>:1:18-37: info: atom does not occur in any rule head:\n",
      "  ext_indep(5,6,s8y1)\n",
      "\n",
      "<block>:1:20-37: info: atom does not occur in any rule head:\n",
      "  ext_dep(5,6,s8y3)\n",
      "\n",
      "<block>:1:22-41: info: atom does not occur in any rule head:\n",
      "  ext_dep(5,6,s8y1y3)\n",
      "\n"
     ]
    },
    {
     "name": "stderr",
     "output_type": "stream",
     "text": [
      "<block>:1:18-37: info: atom does not occur in any rule head:\n",
      "  ext_indep(5,6,s8y1)\n",
      "\n",
      "<block>:1:20-37: info: atom does not occur in any rule head:\n",
      "  ext_dep(5,6,s8y3)\n",
      "\n",
      "<block>:1:22-41: info: atom does not occur in any rule head:\n",
      "  ext_dep(5,6,s8y1y3)\n",
      "\n"
     ]
    },
    {
     "name": "stderr",
     "output_type": "stream",
     "text": [
      "<block>:1:18-37: info: atom does not occur in any rule head:\n",
      "  ext_indep(5,6,s8y1)\n",
      "\n",
      "<block>:1:20-37: info: atom does not occur in any rule head:\n",
      "  ext_dep(5,6,s8y3)\n",
      "\n",
      "<block>:1:22-41: info: atom does not occur in any rule head:\n",
      "  ext_dep(5,6,s8y1y3)\n",
      "\n"
     ]
    },
    {
     "name": "stderr",
     "output_type": "stream",
     "text": [
      "<block>:1:18-37: info: atom does not occur in any rule head:\n",
      "  ext_indep(5,6,s8y1)\n",
      "\n",
      "<block>:1:20-37: info: atom does not occur in any rule head:\n",
      "  ext_dep(5,6,s8y3)\n",
      "\n",
      "<block>:1:22-41: info: atom does not occur in any rule head:\n",
      "  ext_dep(5,6,s8y1y3)\n",
      "\n"
     ]
    },
    {
     "name": "stderr",
     "output_type": "stream",
     "text": [
      "<block>:1:18-37: info: atom does not occur in any rule head:\n",
      "  ext_indep(5,6,s8y1)\n",
      "\n",
      "<block>:1:20-37: info: atom does not occur in any rule head:\n",
      "  ext_dep(3,6,s8y1)\n",
      "\n",
      "<block>:1:22-41: info: atom does not occur in any rule head:\n",
      "  ext_dep(5,6,s8y1y3)\n",
      "\n"
     ]
    },
    {
     "name": "stderr",
     "output_type": "stream",
     "text": [
      "<block>:1:18-37: info: atom does not occur in any rule head:\n",
      "  ext_indep(5,6,s8y1)\n",
      "\n",
      "<block>:1:20-37: info: atom does not occur in any rule head:\n",
      "  ext_dep(5,6,s8y3)\n",
      "\n",
      "<block>:1:22-41: info: atom does not occur in any rule head:\n",
      "  ext_dep(5,6,s8y1y3)\n",
      "\n"
     ]
    },
    {
     "name": "stderr",
     "output_type": "stream",
     "text": [
      "<block>:1:18-37: info: atom does not occur in any rule head:\n",
      "  ext_indep(5,6,s8y1)\n",
      "\n",
      "<block>:1:20-37: info: atom does not occur in any rule head:\n",
      "  ext_dep(3,6,s8y1)\n",
      "\n",
      "<block>:1:22-41: info: atom does not occur in any rule head:\n",
      "  ext_dep(5,6,s8y1y3)\n",
      "\n"
     ]
    },
    {
     "name": "stderr",
     "output_type": "stream",
     "text": [
      "<block>:1:18-37: info: atom does not occur in any rule head:\n",
      "  ext_indep(5,6,s8y1)\n",
      "\n",
      "<block>:1:20-37: info: atom does not occur in any rule head:\n",
      "  ext_dep(5,6,s8y3)\n",
      "\n",
      "<block>:1:22-41: info: atom does not occur in any rule head:\n",
      "  ext_dep(5,6,s8y1y3)\n",
      "\n"
     ]
    },
    {
     "name": "stderr",
     "output_type": "stream",
     "text": [
      "<block>:1:18-37: info: atom does not occur in any rule head:\n",
      "  ext_indep(5,6,s8y1)\n",
      "\n",
      "<block>:1:20-37: info: atom does not occur in any rule head:\n",
      "  ext_dep(1,6,s8y3)\n",
      "\n",
      "<block>:1:22-41: info: atom does not occur in any rule head:\n",
      "  ext_dep(5,6,s8y1y3)\n",
      "\n"
     ]
    },
    {
     "name": "stderr",
     "output_type": "stream",
     "text": [
      "<block>:1:18-37: info: atom does not occur in any rule head:\n",
      "  ext_indep(5,6,s8y1)\n",
      "\n",
      "<block>:1:20-37: info: atom does not occur in any rule head:\n",
      "  ext_dep(1,6,s8y3)\n",
      "\n",
      "<block>:1:22-41: info: atom does not occur in any rule head:\n",
      "  ext_dep(5,6,s8y1y3)\n",
      "\n"
     ]
    },
    {
     "name": "stderr",
     "output_type": "stream",
     "text": [
      "<block>:1:18-37: info: atom does not occur in any rule head:\n",
      "  ext_indep(5,6,s8y1)\n",
      "\n",
      "<block>:1:20-37: info: atom does not occur in any rule head:\n",
      "  ext_dep(5,6,s8y3)\n",
      "\n",
      "<block>:1:22-41: info: atom does not occur in any rule head:\n",
      "  ext_dep(5,6,s8y1y3)\n",
      "\n"
     ]
    },
    {
     "name": "stderr",
     "output_type": "stream",
     "text": [
      "<block>:1:18-37: info: atom does not occur in any rule head:\n",
      "  ext_indep(5,6,s8y1)\n",
      "\n",
      "<block>:1:20-37: info: atom does not occur in any rule head:\n",
      "  ext_dep(5,6,s8y3)\n",
      "\n",
      "<block>:1:22-41: info: atom does not occur in any rule head:\n",
      "  ext_dep(5,6,s8y1y3)\n",
      "\n"
     ]
    },
    {
     "name": "stderr",
     "output_type": "stream",
     "text": [
      "<block>:1:18-37: info: atom does not occur in any rule head:\n",
      "  ext_indep(5,6,s8y1)\n",
      "\n",
      "<block>:1:20-37: info: atom does not occur in any rule head:\n",
      "  ext_dep(5,6,s8y3)\n",
      "\n",
      "<block>:1:22-41: info: atom does not occur in any rule head:\n",
      "  ext_dep(5,6,s8y1y3)\n",
      "\n"
     ]
    },
    {
     "name": "stderr",
     "output_type": "stream",
     "text": [
      "<block>:1:18-37: info: atom does not occur in any rule head:\n",
      "  ext_indep(5,6,s8y1)\n",
      "\n",
      "<block>:1:20-37: info: atom does not occur in any rule head:\n",
      "  ext_dep(5,6,s8y3)\n",
      "\n",
      "<block>:1:22-41: info: atom does not occur in any rule head:\n",
      "  ext_dep(5,6,s8y1y3)\n",
      "\n"
     ]
    },
    {
     "name": "stderr",
     "output_type": "stream",
     "text": [
      "<block>:1:18-37: info: atom does not occur in any rule head:\n",
      "  ext_indep(5,6,s8y1)\n",
      "\n",
      "<block>:1:20-37: info: atom does not occur in any rule head:\n",
      "  ext_dep(5,6,s8y3)\n",
      "\n",
      "<block>:1:22-41: info: atom does not occur in any rule head:\n",
      "  ext_dep(5,6,s8y1y3)\n",
      "\n"
     ]
    },
    {
     "name": "stderr",
     "output_type": "stream",
     "text": [
      "<block>:1:18-37: info: atom does not occur in any rule head:\n",
      "  ext_indep(5,6,s8y1)\n",
      "\n",
      "<block>:1:20-37: info: atom does not occur in any rule head:\n",
      "  ext_dep(3,6,s8y1)\n",
      "\n",
      "<block>:1:22-41: info: atom does not occur in any rule head:\n",
      "  ext_dep(5,6,s8y1y3)\n",
      "\n"
     ]
    },
    {
     "name": "stderr",
     "output_type": "stream",
     "text": [
      "<block>:1:18-37: info: atom does not occur in any rule head:\n",
      "  ext_indep(5,6,s8y1)\n",
      "\n",
      "<block>:1:20-37: info: atom does not occur in any rule head:\n",
      "  ext_dep(5,6,s8y3)\n",
      "\n",
      "<block>:1:22-41: info: atom does not occur in any rule head:\n",
      "  ext_dep(5,6,s8y1y3)\n",
      "\n"
     ]
    },
    {
     "name": "stderr",
     "output_type": "stream",
     "text": [
      "<block>:1:18-37: info: atom does not occur in any rule head:\n",
      "  ext_indep(5,6,s8y1)\n",
      "\n",
      "<block>:1:20-37: info: atom does not occur in any rule head:\n",
      "  ext_dep(5,6,s8y3)\n",
      "\n",
      "<block>:1:22-41: info: atom does not occur in any rule head:\n",
      "  ext_dep(5,6,s8y1y3)\n",
      "\n"
     ]
    },
    {
     "name": "stderr",
     "output_type": "stream",
     "text": [
      "<block>:1:18-37: info: atom does not occur in any rule head:\n",
      "  ext_indep(5,6,s8y1)\n",
      "\n",
      "<block>:1:20-37: info: atom does not occur in any rule head:\n",
      "  ext_dep(3,6,s8y1)\n",
      "\n",
      "<block>:1:22-41: info: atom does not occur in any rule head:\n",
      "  ext_dep(5,6,s8y1y3)\n",
      "\n"
     ]
    },
    {
     "name": "stderr",
     "output_type": "stream",
     "text": [
      "<block>:1:18-37: info: atom does not occur in any rule head:\n",
      "  ext_indep(5,6,s8y1)\n",
      "\n",
      "<block>:1:20-37: info: atom does not occur in any rule head:\n",
      "  ext_dep(1,6,s8y3)\n",
      "\n",
      "<block>:1:22-41: info: atom does not occur in any rule head:\n",
      "  ext_dep(5,6,s8y1y3)\n",
      "\n"
     ]
    },
    {
     "name": "stderr",
     "output_type": "stream",
     "text": [
      "<block>:1:18-37: info: atom does not occur in any rule head:\n",
      "  ext_indep(5,6,s8y1)\n",
      "\n",
      "<block>:1:20-37: info: atom does not occur in any rule head:\n",
      "  ext_dep(5,6,s8y3)\n",
      "\n",
      "<block>:1:22-41: info: atom does not occur in any rule head:\n",
      "  ext_dep(5,6,s8y1y3)\n",
      "\n"
     ]
    },
    {
     "name": "stderr",
     "output_type": "stream",
     "text": [
      "<block>:1:18-37: info: atom does not occur in any rule head:\n",
      "  ext_indep(5,6,s8y1)\n",
      "\n",
      "<block>:1:20-37: info: atom does not occur in any rule head:\n",
      "  ext_dep(5,6,s8y3)\n",
      "\n",
      "<block>:1:22-41: info: atom does not occur in any rule head:\n",
      "  ext_dep(5,6,s8y1y3)\n",
      "\n"
     ]
    },
    {
     "name": "stderr",
     "output_type": "stream",
     "text": [
      "<block>:1:18-37: info: atom does not occur in any rule head:\n",
      "  ext_indep(5,6,s8y1)\n",
      "\n",
      "<block>:1:20-37: info: atom does not occur in any rule head:\n",
      "  ext_dep(5,6,s8y3)\n",
      "\n",
      "<block>:1:22-41: info: atom does not occur in any rule head:\n",
      "  ext_dep(5,6,s8y1y3)\n",
      "\n"
     ]
    },
    {
     "name": "stderr",
     "output_type": "stream",
     "text": [
      "<block>:1:18-37: info: atom does not occur in any rule head:\n",
      "  ext_indep(5,6,s8y1)\n",
      "\n",
      "<block>:1:20-37: info: atom does not occur in any rule head:\n",
      "  ext_dep(5,6,s8y3)\n",
      "\n",
      "<block>:1:22-41: info: atom does not occur in any rule head:\n",
      "  ext_dep(5,6,s8y1y3)\n",
      "\n"
     ]
    },
    {
     "name": "stderr",
     "output_type": "stream",
     "text": [
      "<block>:1:18-37: info: atom does not occur in any rule head:\n",
      "  ext_indep(5,6,s8y1)\n",
      "\n",
      "<block>:1:20-37: info: atom does not occur in any rule head:\n",
      "  ext_dep(5,6,s8y3)\n",
      "\n",
      "<block>:1:22-41: info: atom does not occur in any rule head:\n",
      "  ext_dep(5,6,s8y1y3)\n",
      "\n"
     ]
    },
    {
     "name": "stderr",
     "output_type": "stream",
     "text": [
      "<block>:1:18-37: info: atom does not occur in any rule head:\n",
      "  ext_indep(5,6,s8y1)\n",
      "\n",
      "<block>:1:20-37: info: atom does not occur in any rule head:\n",
      "  ext_dep(3,6,s8y1)\n",
      "\n",
      "<block>:1:22-41: info: atom does not occur in any rule head:\n",
      "  ext_dep(5,6,s8y1y3)\n",
      "\n"
     ]
    },
    {
     "name": "stderr",
     "output_type": "stream",
     "text": [
      "<block>:1:18-37: info: atom does not occur in any rule head:\n",
      "  ext_indep(5,6,s8y1)\n",
      "\n",
      "<block>:1:20-37: info: atom does not occur in any rule head:\n",
      "  ext_dep(5,6,s8y3)\n",
      "\n",
      "<block>:1:22-41: info: atom does not occur in any rule head:\n",
      "  ext_dep(5,6,s8y1y3)\n",
      "\n"
     ]
    },
    {
     "name": "stderr",
     "output_type": "stream",
     "text": [
      "<block>:1:18-37: info: atom does not occur in any rule head:\n",
      "  ext_indep(5,6,s8y1)\n",
      "\n",
      "<block>:1:20-37: info: atom does not occur in any rule head:\n",
      "  ext_dep(3,6,s8y1)\n",
      "\n",
      "<block>:1:22-41: info: atom does not occur in any rule head:\n",
      "  ext_dep(5,6,s8y1y3)\n",
      "\n"
     ]
    },
    {
     "name": "stderr",
     "output_type": "stream",
     "text": [
      "<block>:1:18-37: info: atom does not occur in any rule head:\n",
      "  ext_indep(5,6,s8y1)\n",
      "\n",
      "<block>:1:20-37: info: atom does not occur in any rule head:\n",
      "  ext_dep(3,6,s8y1)\n",
      "\n",
      "<block>:1:22-41: info: atom does not occur in any rule head:\n",
      "  ext_dep(5,6,s8y1y3)\n",
      "\n"
     ]
    },
    {
     "name": "stderr",
     "output_type": "stream",
     "text": [
      "<block>:1:18-37: info: atom does not occur in any rule head:\n",
      "  ext_indep(5,6,s8y1)\n",
      "\n",
      "<block>:1:20-37: info: atom does not occur in any rule head:\n",
      "  ext_dep(5,6,s8y3)\n",
      "\n",
      "<block>:1:22-41: info: atom does not occur in any rule head:\n",
      "  ext_dep(5,6,s8y1y3)\n",
      "\n",
      "<block>:1:39-51: info: atom does not occur in any rule head:\n",
      "  ap(5,7,#P0,s4)\n",
      "\n",
      "<block>:1:45-60: info: atom does not occur in any rule head:\n",
      "  ap(5,7,#P0,empty)\n",
      "\n"
     ]
    },
    {
     "name": "stderr",
     "output_type": "stream",
     "text": [
      "<block>:1:18-37: info: atom does not occur in any rule head:\n",
      "  ext_indep(5,6,s8y1)\n",
      "\n",
      "<block>:1:20-37: info: atom does not occur in any rule head:\n",
      "  ext_dep(5,6,s8y3)\n",
      "\n",
      "<block>:1:22-41: info: atom does not occur in any rule head:\n",
      "  ext_dep(5,6,s8y1y3)\n",
      "\n"
     ]
    },
    {
     "name": "stderr",
     "output_type": "stream",
     "text": [
      "<block>:1:18-37: info: atom does not occur in any rule head:\n",
      "  ext_indep(5,6,s8y1)\n",
      "\n",
      "<block>:1:20-37: info: atom does not occur in any rule head:\n",
      "  ext_dep(3,6,s8y1)\n",
      "\n",
      "<block>:1:22-41: info: atom does not occur in any rule head:\n",
      "  ext_dep(5,6,s8y1y3)\n",
      "\n"
     ]
    },
    {
     "name": "stderr",
     "output_type": "stream",
     "text": [
      "<block>:1:18-37: info: atom does not occur in any rule head:\n",
      "  ext_indep(5,6,s8y1)\n",
      "\n",
      "<block>:1:20-37: info: atom does not occur in any rule head:\n",
      "  ext_dep(3,6,s8y1)\n",
      "\n",
      "<block>:1:22-41: info: atom does not occur in any rule head:\n",
      "  ext_dep(5,6,s8y1y3)\n",
      "\n"
     ]
    },
    {
     "name": "stderr",
     "output_type": "stream",
     "text": [
      "<block>:1:18-37: info: atom does not occur in any rule head:\n",
      "  ext_indep(5,6,s8y1)\n",
      "\n",
      "<block>:1:20-37: info: atom does not occur in any rule head:\n",
      "  ext_dep(5,6,s8y3)\n",
      "\n",
      "<block>:1:22-41: info: atom does not occur in any rule head:\n",
      "  ext_dep(5,6,s8y1y3)\n",
      "\n"
     ]
    },
    {
     "name": "stderr",
     "output_type": "stream",
     "text": [
      "<block>:1:18-37: info: atom does not occur in any rule head:\n",
      "  ext_indep(5,6,s8y1)\n",
      "\n",
      "<block>:1:20-37: info: atom does not occur in any rule head:\n",
      "  ext_dep(5,6,s8y3)\n",
      "\n",
      "<block>:1:22-41: info: atom does not occur in any rule head:\n",
      "  ext_dep(5,6,s8y1y3)\n",
      "\n"
     ]
    },
    {
     "name": "stderr",
     "output_type": "stream",
     "text": [
      "<block>:1:18-37: info: atom does not occur in any rule head:\n",
      "  ext_indep(5,6,s8y1)\n",
      "\n",
      "<block>:1:20-37: info: atom does not occur in any rule head:\n",
      "  ext_dep(5,6,s8y3)\n",
      "\n",
      "<block>:1:22-41: info: atom does not occur in any rule head:\n",
      "  ext_dep(5,6,s8y1y3)\n",
      "\n"
     ]
    },
    {
     "name": "stderr",
     "output_type": "stream",
     "text": [
      "<block>:1:18-37: info: atom does not occur in any rule head:\n",
      "  ext_indep(5,6,s8y1)\n",
      "\n",
      "<block>:1:20-37: info: atom does not occur in any rule head:\n",
      "  ext_dep(3,6,s8y1)\n",
      "\n",
      "<block>:1:22-41: info: atom does not occur in any rule head:\n",
      "  ext_dep(5,6,s8y1y3)\n",
      "\n"
     ]
    },
    {
     "name": "stderr",
     "output_type": "stream",
     "text": [
      "<block>:1:18-37: info: atom does not occur in any rule head:\n",
      "  ext_indep(5,6,s8y1)\n",
      "\n",
      "<block>:1:20-37: info: atom does not occur in any rule head:\n",
      "  ext_dep(3,6,s8y1)\n",
      "\n",
      "<block>:1:22-41: info: atom does not occur in any rule head:\n",
      "  ext_dep(5,6,s8y1y3)\n",
      "\n"
     ]
    },
    {
     "name": "stderr",
     "output_type": "stream",
     "text": [
      "<block>:1:18-37: info: atom does not occur in any rule head:\n",
      "  ext_indep(5,6,s8y1)\n",
      "\n",
      "<block>:1:20-37: info: atom does not occur in any rule head:\n",
      "  ext_dep(5,6,s8y3)\n",
      "\n",
      "<block>:1:22-41: info: atom does not occur in any rule head:\n",
      "  ext_dep(5,6,s8y1y3)\n",
      "\n",
      "<block>:1:39-51: info: atom does not occur in any rule head:\n",
      "  ap(5,7,#P0,s4)\n",
      "\n",
      "<block>:1:45-60: info: atom does not occur in any rule head:\n",
      "  ap(5,7,#P0,empty)\n",
      "\n"
     ]
    },
    {
     "name": "stderr",
     "output_type": "stream",
     "text": [
      "<block>:1:18-37: info: atom does not occur in any rule head:\n",
      "  ext_indep(5,6,s8y1)\n",
      "\n",
      "<block>:1:20-37: info: atom does not occur in any rule head:\n",
      "  ext_dep(5,6,s8y3)\n",
      "\n",
      "<block>:1:22-41: info: atom does not occur in any rule head:\n",
      "  ext_dep(5,6,s8y1y3)\n",
      "\n"
     ]
    },
    {
     "name": "stderr",
     "output_type": "stream",
     "text": [
      "<block>:1:18-37: info: atom does not occur in any rule head:\n",
      "  ext_indep(5,6,s8y1)\n",
      "\n",
      "<block>:1:20-37: info: atom does not occur in any rule head:\n",
      "  ext_dep(3,6,s8y1)\n",
      "\n",
      "<block>:1:22-41: info: atom does not occur in any rule head:\n",
      "  ext_dep(5,6,s8y1y3)\n",
      "\n"
     ]
    },
    {
     "name": "stderr",
     "output_type": "stream",
     "text": [
      "<block>:1:18-37: info: atom does not occur in any rule head:\n",
      "  ext_indep(5,6,s8y1)\n",
      "\n",
      "<block>:1:20-37: info: atom does not occur in any rule head:\n",
      "  ext_dep(3,6,s8y1)\n",
      "\n",
      "<block>:1:22-41: info: atom does not occur in any rule head:\n",
      "  ext_dep(5,6,s8y1y3)\n",
      "\n"
     ]
    },
    {
     "name": "stderr",
     "output_type": "stream",
     "text": [
      "<block>:1:18-37: info: atom does not occur in any rule head:\n",
      "  ext_indep(5,6,s8y1)\n",
      "\n",
      "<block>:1:20-37: info: atom does not occur in any rule head:\n",
      "  ext_dep(5,6,s8y3)\n",
      "\n",
      "<block>:1:22-41: info: atom does not occur in any rule head:\n",
      "  ext_dep(5,6,s8y1y3)\n",
      "\n"
     ]
    },
    {
     "name": "stderr",
     "output_type": "stream",
     "text": [
      "<block>:1:18-37: info: atom does not occur in any rule head:\n",
      "  ext_indep(5,6,s8y1)\n",
      "\n",
      "<block>:1:20-37: info: atom does not occur in any rule head:\n",
      "  ext_dep(5,6,s8y3)\n",
      "\n",
      "<block>:1:22-41: info: atom does not occur in any rule head:\n",
      "  ext_dep(5,6,s8y1y3)\n",
      "\n"
     ]
    },
    {
     "name": "stderr",
     "output_type": "stream",
     "text": [
      "<block>:1:18-37: info: atom does not occur in any rule head:\n",
      "  ext_indep(5,6,s8y1)\n",
      "\n",
      "<block>:1:20-37: info: atom does not occur in any rule head:\n",
      "  ext_dep(3,6,s8y1)\n",
      "\n",
      "<block>:1:22-41: info: atom does not occur in any rule head:\n",
      "  ext_dep(5,6,s8y1y3)\n",
      "\n"
     ]
    },
    {
     "name": "stderr",
     "output_type": "stream",
     "text": [
      "<block>:1:18-37: info: atom does not occur in any rule head:\n",
      "  ext_indep(5,6,s8y1)\n",
      "\n",
      "<block>:1:20-37: info: atom does not occur in any rule head:\n",
      "  ext_dep(1,6,s8y3)\n",
      "\n",
      "<block>:1:22-41: info: atom does not occur in any rule head:\n",
      "  ext_dep(5,6,s8y1y3)\n",
      "\n"
     ]
    },
    {
     "name": "stderr",
     "output_type": "stream",
     "text": [
      "<block>:1:18-37: info: atom does not occur in any rule head:\n",
      "  ext_indep(5,6,s8y1)\n",
      "\n",
      "<block>:1:20-37: info: atom does not occur in any rule head:\n",
      "  ext_dep(3,6,s8y1)\n",
      "\n",
      "<block>:1:22-41: info: atom does not occur in any rule head:\n",
      "  ext_dep(5,6,s8y1y3)\n",
      "\n"
     ]
    },
    {
     "name": "stderr",
     "output_type": "stream",
     "text": [
      "<block>:1:18-37: info: atom does not occur in any rule head:\n",
      "  ext_indep(5,6,s8y1)\n",
      "\n",
      "<block>:1:20-37: info: atom does not occur in any rule head:\n",
      "  ext_dep(1,6,s8y3)\n",
      "\n",
      "<block>:1:22-41: info: atom does not occur in any rule head:\n",
      "  ext_dep(5,6,s8y1y3)\n",
      "\n",
      "<block>:1:18-37: info: atom does not occur in any rule head:\n",
      "  ext_indep(5,6,s8y1)\n",
      "\n",
      "<block>:1:20-37: info: atom does not occur in any rule head:\n",
      "  ext_dep(1,6,s8y3)\n",
      "\n",
      "<block>:1:22-41: info: atom does not occur in any rule head:\n",
      "  ext_dep(5,6,s8y1y3)\n",
      "\n"
     ]
    },
    {
     "name": "stderr",
     "output_type": "stream",
     "text": [
      "<block>:1:18-37: info: atom does not occur in any rule head:\n",
      "  ext_indep(5,6,s8y1)\n",
      "\n",
      "<block>:1:20-37: info: atom does not occur in any rule head:\n",
      "  ext_dep(1,6,s8y3)\n",
      "\n",
      "<block>:1:22-41: info: atom does not occur in any rule head:\n",
      "  ext_dep(5,6,s8y1y3)\n",
      "\n"
     ]
    },
    {
     "name": "stderr",
     "output_type": "stream",
     "text": [
      "<block>:1:18-37: info: atom does not occur in any rule head:\n",
      "  ext_indep(5,6,s8y1)\n",
      "\n",
      "<block>:1:20-37: info: atom does not occur in any rule head:\n",
      "  ext_dep(1,6,s8y3)\n",
      "\n",
      "<block>:1:22-41: info: atom does not occur in any rule head:\n",
      "  ext_dep(5,6,s8y1y3)\n",
      "\n"
     ]
    },
    {
     "name": "stderr",
     "output_type": "stream",
     "text": [
      "<block>:1:18-37: info: atom does not occur in any rule head:\n",
      "  ext_indep(5,6,s8y1)\n",
      "\n",
      "<block>:1:20-37: info: atom does not occur in any rule head:\n",
      "  ext_dep(3,6,s8y1)\n",
      "\n",
      "<block>:1:22-41: info: atom does not occur in any rule head:\n",
      "  ext_dep(5,6,s8y1y3)\n",
      "\n"
     ]
    },
    {
     "name": "stderr",
     "output_type": "stream",
     "text": [
      "<block>:1:18-37: info: atom does not occur in any rule head:\n",
      "  ext_indep(5,6,s8y1)\n",
      "\n",
      "<block>:1:20-37: info: atom does not occur in any rule head:\n",
      "  ext_dep(1,6,s8y3)\n",
      "\n",
      "<block>:1:22-41: info: atom does not occur in any rule head:\n",
      "  ext_dep(5,6,s8y1y3)\n",
      "\n"
     ]
    },
    {
     "name": "stderr",
     "output_type": "stream",
     "text": [
      "<block>:1:18-37: info: atom does not occur in any rule head:\n",
      "  ext_indep(5,6,s8y1)\n",
      "\n",
      "<block>:1:20-37: info: atom does not occur in any rule head:\n",
      "  ext_dep(5,6,s8y3)\n",
      "\n",
      "<block>:1:22-41: info: atom does not occur in any rule head:\n",
      "  ext_dep(5,6,s8y1y3)\n",
      "\n"
     ]
    },
    {
     "name": "stderr",
     "output_type": "stream",
     "text": [
      "<block>:1:18-37: info: atom does not occur in any rule head:\n",
      "  ext_indep(5,6,s8y1)\n",
      "\n",
      "<block>:1:20-37: info: atom does not occur in any rule head:\n",
      "  ext_dep(5,6,s8y3)\n",
      "\n",
      "<block>:1:22-41: info: atom does not occur in any rule head:\n",
      "  ext_dep(5,6,s8y1y3)\n",
      "\n"
     ]
    },
    {
     "name": "stderr",
     "output_type": "stream",
     "text": [
      "<block>:1:18-37: info: atom does not occur in any rule head:\n",
      "  ext_indep(5,6,s8y1)\n",
      "\n",
      "<block>:1:20-37: info: atom does not occur in any rule head:\n",
      "  ext_dep(3,6,s8y1)\n",
      "\n",
      "<block>:1:22-41: info: atom does not occur in any rule head:\n",
      "  ext_dep(5,6,s8y1y3)\n",
      "\n"
     ]
    },
    {
     "name": "stderr",
     "output_type": "stream",
     "text": [
      "<block>:1:18-37: info: atom does not occur in any rule head:\n",
      "  ext_indep(5,6,s8y1)\n",
      "\n",
      "<block>:1:20-37: info: atom does not occur in any rule head:\n",
      "  ext_dep(1,6,s8y3)\n",
      "\n",
      "<block>:1:22-41: info: atom does not occur in any rule head:\n",
      "  ext_dep(5,6,s8y1y3)\n",
      "\n"
     ]
    },
    {
     "name": "stderr",
     "output_type": "stream",
     "text": [
      "<block>:1:18-37: info: atom does not occur in any rule head:\n",
      "  ext_indep(5,6,s8y1)\n",
      "\n",
      "<block>:1:20-37: info: atom does not occur in any rule head:\n",
      "  ext_dep(1,6,s8y3)\n",
      "\n",
      "<block>:1:22-41: info: atom does not occur in any rule head:\n",
      "  ext_dep(5,6,s8y1y3)\n",
      "\n"
     ]
    },
    {
     "name": "stderr",
     "output_type": "stream",
     "text": [
      "<block>:1:18-37: info: atom does not occur in any rule head:\n",
      "  ext_indep(5,6,s8y1)\n",
      "\n",
      "<block>:1:20-37: info: atom does not occur in any rule head:\n",
      "  ext_dep(3,6,s8y1)\n",
      "\n",
      "<block>:1:22-41: info: atom does not occur in any rule head:\n",
      "  ext_dep(5,6,s8y1y3)\n",
      "\n"
     ]
    },
    {
     "name": "stderr",
     "output_type": "stream",
     "text": [
      "<block>:1:18-37: info: atom does not occur in any rule head:\n",
      "  ext_indep(5,6,s8y1)\n",
      "\n",
      "<block>:1:20-37: info: atom does not occur in any rule head:\n",
      "  ext_dep(1,6,s8y3)\n",
      "\n",
      "<block>:1:22-41: info: atom does not occur in any rule head:\n",
      "  ext_dep(5,6,s8y1y3)\n",
      "\n"
     ]
    },
    {
     "name": "stderr",
     "output_type": "stream",
     "text": [
      "<block>:1:18-37: info: atom does not occur in any rule head:\n",
      "  ext_indep(5,6,s8y1)\n",
      "\n",
      "<block>:1:20-37: info: atom does not occur in any rule head:\n",
      "  ext_dep(3,6,s8y1)\n",
      "\n",
      "<block>:1:22-41: info: atom does not occur in any rule head:\n",
      "  ext_dep(5,6,s8y1y3)\n",
      "\n"
     ]
    },
    {
     "name": "stderr",
     "output_type": "stream",
     "text": [
      "<block>:1:18-37: info: atom does not occur in any rule head:\n",
      "  ext_indep(5,6,s8y1)\n",
      "\n",
      "<block>:1:20-37: info: atom does not occur in any rule head:\n",
      "  ext_dep(3,6,s8y1)\n",
      "\n",
      "<block>:1:22-41: info: atom does not occur in any rule head:\n",
      "  ext_dep(5,6,s8y1y3)\n",
      "\n"
     ]
    },
    {
     "name": "stderr",
     "output_type": "stream",
     "text": [
      "<block>:1:18-37: info: atom does not occur in any rule head:\n",
      "  ext_indep(5,6,s8y1)\n",
      "\n",
      "<block>:1:20-37: info: atom does not occur in any rule head:\n",
      "  ext_dep(5,6,s8y3)\n",
      "\n",
      "<block>:1:22-41: info: atom does not occur in any rule head:\n",
      "  ext_dep(5,6,s8y1y3)\n",
      "\n"
     ]
    },
    {
     "name": "stderr",
     "output_type": "stream",
     "text": [
      "<block>:1:18-37: info: atom does not occur in any rule head:\n",
      "  ext_indep(5,6,s8y1)\n",
      "\n",
      "<block>:1:20-37: info: atom does not occur in any rule head:\n",
      "  ext_dep(5,6,s8y3)\n",
      "\n",
      "<block>:1:22-41: info: atom does not occur in any rule head:\n",
      "  ext_dep(5,6,s8y1y3)\n",
      "\n"
     ]
    },
    {
     "name": "stderr",
     "output_type": "stream",
     "text": [
      "<block>:1:18-37: info: atom does not occur in any rule head:\n",
      "  ext_indep(5,6,s8y1)\n",
      "\n",
      "<block>:1:20-37: info: atom does not occur in any rule head:\n",
      "  ext_dep(3,6,s8y1)\n",
      "\n",
      "<block>:1:22-41: info: atom does not occur in any rule head:\n",
      "  ext_dep(5,6,s8y1y3)\n",
      "\n"
     ]
    },
    {
     "name": "stderr",
     "output_type": "stream",
     "text": [
      "<block>:1:18-37: info: atom does not occur in any rule head:\n",
      "  ext_indep(5,6,s8y1)\n",
      "\n",
      "<block>:1:20-37: info: atom does not occur in any rule head:\n",
      "  ext_dep(3,6,s8y1)\n",
      "\n",
      "<block>:1:22-41: info: atom does not occur in any rule head:\n",
      "  ext_dep(5,6,s8y1y3)\n",
      "\n"
     ]
    },
    {
     "name": "stderr",
     "output_type": "stream",
     "text": [
      "<block>:1:18-37: info: atom does not occur in any rule head:\n",
      "  ext_indep(5,6,s8y1)\n",
      "\n",
      "<block>:1:20-37: info: atom does not occur in any rule head:\n",
      "  ext_dep(3,6,s8y1)\n",
      "\n",
      "<block>:1:22-41: info: atom does not occur in any rule head:\n",
      "  ext_dep(5,6,s8y1y3)\n",
      "\n"
     ]
    },
    {
     "name": "stderr",
     "output_type": "stream",
     "text": [
      "<block>:1:18-37: info: atom does not occur in any rule head:\n",
      "  ext_indep(5,6,s8y1)\n",
      "\n",
      "<block>:1:20-37: info: atom does not occur in any rule head:\n",
      "  ext_dep(3,6,s8y1)\n",
      "\n",
      "<block>:1:22-41: info: atom does not occur in any rule head:\n",
      "  ext_dep(5,6,s8y1y3)\n",
      "\n"
     ]
    },
    {
     "name": "stderr",
     "output_type": "stream",
     "text": [
      "<block>:1:18-37: info: atom does not occur in any rule head:\n",
      "  ext_indep(5,6,s8y1)\n",
      "\n",
      "<block>:1:20-37: info: atom does not occur in any rule head:\n",
      "  ext_dep(3,6,s8y1)\n",
      "\n",
      "<block>:1:22-41: info: atom does not occur in any rule head:\n",
      "  ext_dep(5,6,s8y1y3)\n",
      "\n"
     ]
    },
    {
     "name": "stderr",
     "output_type": "stream",
     "text": [
      "<block>:1:18-37: info: atom does not occur in any rule head:\n",
      "  ext_indep(5,6,s8y1)\n",
      "\n",
      "<block>:1:20-37: info: atom does not occur in any rule head:\n",
      "  ext_dep(3,6,s8y1)\n",
      "\n",
      "<block>:1:22-41: info: atom does not occur in any rule head:\n",
      "  ext_dep(5,6,s8y1y3)\n",
      "\n"
     ]
    },
    {
     "name": "stderr",
     "output_type": "stream",
     "text": [
      "<block>:1:18-37: info: atom does not occur in any rule head:\n",
      "  ext_indep(5,6,s8y1)\n",
      "\n",
      "<block>:1:20-37: info: atom does not occur in any rule head:\n",
      "  ext_dep(3,6,s8y1)\n",
      "\n",
      "<block>:1:22-41: info: atom does not occur in any rule head:\n",
      "  ext_dep(5,6,s8y1y3)\n",
      "\n"
     ]
    },
    {
     "name": "stderr",
     "output_type": "stream",
     "text": [
      "<block>:1:18-37: info: atom does not occur in any rule head:\n",
      "  ext_indep(5,6,s8y1)\n",
      "\n",
      "<block>:1:20-37: info: atom does not occur in any rule head:\n",
      "  ext_dep(3,6,s8y1)\n",
      "\n",
      "<block>:1:22-41: info: atom does not occur in any rule head:\n",
      "  ext_dep(5,6,s8y1y3)\n",
      "\n"
     ]
    },
    {
     "name": "stderr",
     "output_type": "stream",
     "text": [
      "<block>:1:18-37: info: atom does not occur in any rule head:\n",
      "  ext_indep(5,6,s8y1)\n",
      "\n",
      "<block>:1:20-37: info: atom does not occur in any rule head:\n",
      "  ext_dep(1,6,s8y3)\n",
      "\n",
      "<block>:1:22-41: info: atom does not occur in any rule head:\n",
      "  ext_dep(5,6,s8y1y3)\n",
      "\n"
     ]
    },
    {
     "name": "stderr",
     "output_type": "stream",
     "text": [
      "<block>:1:18-37: info: atom does not occur in any rule head:\n",
      "  ext_indep(5,6,s8y1)\n",
      "\n",
      "<block>:1:20-37: info: atom does not occur in any rule head:\n",
      "  ext_dep(5,6,s8y3)\n",
      "\n",
      "<block>:1:22-41: info: atom does not occur in any rule head:\n",
      "  ext_dep(5,6,s8y1y3)\n",
      "\n"
     ]
    },
    {
     "name": "stderr",
     "output_type": "stream",
     "text": [
      "<block>:1:18-37: info: atom does not occur in any rule head:\n",
      "  ext_indep(5,6,s8y1)\n",
      "\n",
      "<block>:1:20-37: info: atom does not occur in any rule head:\n",
      "  ext_dep(1,6,s8y3)\n",
      "\n",
      "<block>:1:22-41: info: atom does not occur in any rule head:\n",
      "  ext_dep(5,6,s8y1y3)\n",
      "\n"
     ]
    },
    {
     "name": "stderr",
     "output_type": "stream",
     "text": [
      "<block>:1:18-37: info: atom does not occur in any rule head:\n",
      "  ext_indep(5,6,s8y1)\n",
      "\n",
      "<block>:1:20-37: info: atom does not occur in any rule head:\n",
      "  ext_dep(5,6,s8y3)\n",
      "\n",
      "<block>:1:22-41: info: atom does not occur in any rule head:\n",
      "  ext_dep(5,6,s8y1y3)\n",
      "\n"
     ]
    },
    {
     "name": "stderr",
     "output_type": "stream",
     "text": [
      "<block>:1:18-37: info: atom does not occur in any rule head:\n",
      "  ext_indep(5,6,s8y1)\n",
      "\n",
      "<block>:1:20-37: info: atom does not occur in any rule head:\n",
      "  ext_dep(3,6,s8y1)\n",
      "\n",
      "<block>:1:22-41: info: atom does not occur in any rule head:\n",
      "  ext_dep(5,6,s8y1y3)\n",
      "\n"
     ]
    },
    {
     "name": "stderr",
     "output_type": "stream",
     "text": [
      "<block>:1:18-37: info: atom does not occur in any rule head:\n",
      "  ext_indep(5,6,s8y1)\n",
      "\n",
      "<block>:1:20-37: info: atom does not occur in any rule head:\n",
      "  ext_dep(3,6,s8y1)\n",
      "\n",
      "<block>:1:22-41: info: atom does not occur in any rule head:\n",
      "  ext_dep(5,6,s8y1y3)\n",
      "\n"
     ]
    },
    {
     "name": "stderr",
     "output_type": "stream",
     "text": [
      "<block>:1:18-37: info: atom does not occur in any rule head:\n",
      "  ext_indep(5,6,s8y1)\n",
      "\n",
      "<block>:1:20-37: info: atom does not occur in any rule head:\n",
      "  ext_dep(3,6,s8y1)\n",
      "\n",
      "<block>:1:22-41: info: atom does not occur in any rule head:\n",
      "  ext_dep(5,6,s8y1y3)\n",
      "\n"
     ]
    },
    {
     "name": "stderr",
     "output_type": "stream",
     "text": [
      "<block>:1:18-37: info: atom does not occur in any rule head:\n",
      "  ext_indep(5,6,s8y1)\n",
      "\n",
      "<block>:1:20-37: info: atom does not occur in any rule head:\n",
      "  ext_dep(5,6,s8y3)\n",
      "\n",
      "<block>:1:22-41: info: atom does not occur in any rule head:\n",
      "  ext_dep(5,6,s8y1y3)\n",
      "\n"
     ]
    },
    {
     "name": "stderr",
     "output_type": "stream",
     "text": [
      "<block>:1:18-37: info: atom does not occur in any rule head:\n",
      "  ext_indep(5,6,s8y1)\n",
      "\n",
      "<block>:1:20-37: info: atom does not occur in any rule head:\n",
      "  ext_dep(3,6,s8y1)\n",
      "\n",
      "<block>:1:22-41: info: atom does not occur in any rule head:\n",
      "  ext_dep(5,6,s8y1y3)\n",
      "\n"
     ]
    },
    {
     "name": "stderr",
     "output_type": "stream",
     "text": [
      "<block>:1:18-37: info: atom does not occur in any rule head:\n",
      "  ext_indep(5,6,s8y1)\n",
      "\n",
      "<block>:1:20-37: info: atom does not occur in any rule head:\n",
      "  ext_dep(3,6,s8y1)\n",
      "\n",
      "<block>:1:22-41: info: atom does not occur in any rule head:\n",
      "  ext_dep(5,6,s8y1y3)\n",
      "\n"
     ]
    },
    {
     "name": "stderr",
     "output_type": "stream",
     "text": [
      "<block>:1:18-37: info: atom does not occur in any rule head:\n",
      "  ext_indep(5,6,s8y1)\n",
      "\n",
      "<block>:1:20-37: info: atom does not occur in any rule head:\n",
      "  ext_dep(1,6,s8y3)\n",
      "\n",
      "<block>:1:22-41: info: atom does not occur in any rule head:\n",
      "  ext_dep(5,6,s8y1y3)\n",
      "\n"
     ]
    },
    {
     "name": "stderr",
     "output_type": "stream",
     "text": [
      "<block>:1:18-37: info: atom does not occur in any rule head:\n",
      "  ext_indep(5,6,s8y1)\n",
      "\n",
      "<block>:1:20-37: info: atom does not occur in any rule head:\n",
      "  ext_dep(3,6,s8y1)\n",
      "\n",
      "<block>:1:22-41: info: atom does not occur in any rule head:\n",
      "  ext_dep(5,6,s8y1y3)\n",
      "\n"
     ]
    },
    {
     "name": "stderr",
     "output_type": "stream",
     "text": [
      "<block>:1:18-37: info: atom does not occur in any rule head:\n",
      "  ext_indep(5,6,s8y1)\n",
      "\n",
      "<block>:1:20-37: info: atom does not occur in any rule head:\n",
      "  ext_dep(5,6,s8y3)\n",
      "\n",
      "<block>:1:22-41: info: atom does not occur in any rule head:\n",
      "  ext_dep(5,6,s8y1y3)\n",
      "\n"
     ]
    },
    {
     "name": "stderr",
     "output_type": "stream",
     "text": [
      "<block>:1:18-37: info: atom does not occur in any rule head:\n",
      "  ext_indep(5,6,s8y1)\n",
      "\n",
      "<block>:1:20-37: info: atom does not occur in any rule head:\n",
      "  ext_dep(3,6,s8y1)\n",
      "\n",
      "<block>:1:22-41: info: atom does not occur in any rule head:\n",
      "  ext_dep(5,6,s8y1y3)\n",
      "\n"
     ]
    },
    {
     "name": "stderr",
     "output_type": "stream",
     "text": [
      "<block>:1:18-37: info: atom does not occur in any rule head:\n",
      "  ext_indep(5,6,s8y1)\n",
      "\n",
      "<block>:1:20-37: info: atom does not occur in any rule head:\n",
      "  ext_dep(5,6,s8y3)\n",
      "\n",
      "<block>:1:22-41: info: atom does not occur in any rule head:\n",
      "  ext_dep(5,6,s8y1y3)\n",
      "\n"
     ]
    },
    {
     "name": "stderr",
     "output_type": "stream",
     "text": [
      "<block>:1:18-37: info: atom does not occur in any rule head:\n",
      "  ext_indep(5,6,s8y1)\n",
      "\n",
      "<block>:1:20-37: info: atom does not occur in any rule head:\n",
      "  ext_dep(3,6,s8y1)\n",
      "\n",
      "<block>:1:22-41: info: atom does not occur in any rule head:\n",
      "  ext_dep(5,6,s8y1y3)\n",
      "\n"
     ]
    },
    {
     "name": "stderr",
     "output_type": "stream",
     "text": [
      "<block>:1:18-37: info: atom does not occur in any rule head:\n",
      "  ext_indep(5,6,s8y1)\n",
      "\n",
      "<block>:1:20-37: info: atom does not occur in any rule head:\n",
      "  ext_dep(3,6,s8y1)\n",
      "\n",
      "<block>:1:22-41: info: atom does not occur in any rule head:\n",
      "  ext_dep(5,6,s8y1y3)\n",
      "\n"
     ]
    },
    {
     "name": "stderr",
     "output_type": "stream",
     "text": [
      "<block>:1:18-37: info: atom does not occur in any rule head:\n",
      "  ext_indep(5,6,s8y1)\n",
      "\n",
      "<block>:1:20-37: info: atom does not occur in any rule head:\n",
      "  ext_dep(5,6,s8y3)\n",
      "\n",
      "<block>:1:22-41: info: atom does not occur in any rule head:\n",
      "  ext_dep(5,6,s8y1y3)\n",
      "\n",
      "<block>:1:18-37: info: atom does not occur in any rule head:\n",
      "  ext_indep(5,6,s8y1)\n",
      "\n",
      "<block>:1:20-37: info: atom does not occur in any rule head:\n",
      "  ext_dep(5,6,s8y3)\n",
      "\n",
      "<block>:1:22-41: info: atom does not occur in any rule head:\n",
      "  ext_dep(5,6,s8y1y3)\n",
      "\n",
      "<block>:1:18-37: info: atom does not occur in any rule head:\n",
      "  ext_indep(5,6,s8y1)\n",
      "\n",
      "<block>:1:20-37: info: atom does not occur in any rule head:\n",
      "  ext_dep(5,6,s8y3)\n",
      "\n",
      "<block>:1:22-41: info: atom does not occur in any rule head:\n",
      "  ext_dep(5,6,s8y1y3)\n",
      "\n"
     ]
    },
    {
     "name": "stderr",
     "output_type": "stream",
     "text": [
      "<block>:1:18-37: info: atom does not occur in any rule head:\n",
      "  ext_indep(5,6,s8y1)\n",
      "\n",
      "<block>:1:20-37: info: atom does not occur in any rule head:\n",
      "  ext_dep(5,6,s8y3)\n",
      "\n",
      "<block>:1:22-41: info: atom does not occur in any rule head:\n",
      "  ext_dep(5,6,s8y1y3)\n",
      "\n",
      "<block>:1:18-37: info: atom does not occur in any rule head:\n",
      "  ext_indep(5,6,s8y1)\n",
      "\n",
      "<block>:1:20-37: info: atom does not occur in any rule head:\n",
      "  ext_dep(5,6,s8y3)\n",
      "\n",
      "<block>:1:22-41: info: atom does not occur in any rule head:\n",
      "  ext_dep(5,6,s8y1y3)\n",
      "\n",
      "<block>:1:18-37: info: atom does not occur in any rule head:\n",
      "  ext_indep(5,6,s8y1)\n",
      "\n",
      "<block>:1:20-37: info: atom does not occur in any rule head:\n",
      "  ext_dep(5,6,s8y3)\n",
      "\n",
      "<block>:1:22-41: info: atom does not occur in any rule head:\n",
      "  ext_dep(5,6,s8y1y3)\n",
      "\n"
     ]
    },
    {
     "name": "stderr",
     "output_type": "stream",
     "text": [
      "<block>:1:18-37: info: atom does not occur in any rule head:\n",
      "  ext_indep(5,6,s8y1)\n",
      "\n",
      "<block>:1:20-37: info: atom does not occur in any rule head:\n",
      "  ext_dep(5,6,s8y3)\n",
      "\n",
      "<block>:1:22-41: info: atom does not occur in any rule head:\n",
      "  ext_dep(5,6,s8y1y3)\n",
      "\n",
      "<block>:1:18-37: info: atom does not occur in any rule head:\n",
      "  ext_indep(5,6,s8y1)\n",
      "\n",
      "<block>:1:20-37: info: atom does not occur in any rule head:\n",
      "  ext_dep(5,6,s8y3)\n",
      "\n",
      "<block>:1:22-41: info: atom does not occur in any rule head:\n",
      "  ext_dep(5,6,s8y1y3)\n",
      "\n"
     ]
    },
    {
     "name": "stderr",
     "output_type": "stream",
     "text": [
      "<block>:1:18-37: info: atom does not occur in any rule head:\n",
      "  ext_indep(5,6,s8y1)\n",
      "\n",
      "<block>:1:20-37: info: atom does not occur in any rule head:\n",
      "  ext_dep(1,6,s8y3)\n",
      "\n",
      "<block>:1:22-41: info: atom does not occur in any rule head:\n",
      "  ext_dep(5,6,s8y1y3)\n",
      "\n",
      "<block>:1:45-60: info: atom does not occur in any rule head:\n",
      "  ap(5,7,#P0,empty)\n",
      "\n",
      "<block>:1:18-37: info: atom does not occur in any rule head:\n",
      "  ext_indep(5,6,s8y1)\n",
      "\n",
      "<block>:1:20-37: info: atom does not occur in any rule head:\n",
      "  ext_dep(1,6,s8y3)\n",
      "\n",
      "<block>:1:22-41: info: atom does not occur in any rule head:\n",
      "  ext_dep(5,6,s8y1y3)\n",
      "\n",
      "<block>:1:18-37: info: atom does not occur in any rule head:\n",
      "  ext_indep(5,6,s8y1)\n",
      "\n",
      "<block>:1:20-37: info: atom does not occur in any rule head:\n",
      "  ext_dep(3,6,s8y1)\n",
      "\n",
      "<block>:1:22-41: info: atom does not occur in any rule head:\n",
      "  ext_dep(5,6,s8y1y3)\n",
      "\n"
     ]
    },
    {
     "name": "stderr",
     "output_type": "stream",
     "text": [
      "<block>:1:18-37: info: atom does not occur in any rule head:\n",
      "  ext_indep(5,6,s8y1)\n",
      "\n",
      "<block>:1:20-37: info: atom does not occur in any rule head:\n",
      "  ext_dep(5,6,s8y3)\n",
      "\n",
      "<block>:1:22-41: info: atom does not occur in any rule head:\n",
      "  ext_dep(5,6,s8y1y3)\n",
      "\n",
      "<block>:1:18-37: info: atom does not occur in any rule head:\n",
      "  ext_indep(5,6,s8y1)\n",
      "\n",
      "<block>:1:20-37: info: atom does not occur in any rule head:\n",
      "  ext_dep(5,6,s8y3)\n",
      "\n",
      "<block>:1:22-41: info: atom does not occur in any rule head:\n",
      "  ext_dep(5,6,s8y1y3)\n",
      "\n"
     ]
    },
    {
     "name": "stderr",
     "output_type": "stream",
     "text": [
      "<block>:1:18-37: info: atom does not occur in any rule head:\n",
      "  ext_indep(5,6,s8y1)\n",
      "\n",
      "<block>:1:20-37: info: atom does not occur in any rule head:\n",
      "  ext_dep(5,6,s8y3)\n",
      "\n",
      "<block>:1:22-41: info: atom does not occur in any rule head:\n",
      "  ext_dep(5,6,s8y1y3)\n",
      "\n"
     ]
    },
    {
     "name": "stderr",
     "output_type": "stream",
     "text": [
      "<block>:1:18-37: info: atom does not occur in any rule head:\n",
      "  ext_indep(5,6,s8y1)\n",
      "\n",
      "<block>:1:20-37: info: atom does not occur in any rule head:\n",
      "  ext_dep(3,6,s8y1)\n",
      "\n",
      "<block>:1:22-41: info: atom does not occur in any rule head:\n",
      "  ext_dep(5,6,s8y1y3)\n",
      "\n"
     ]
    },
    {
     "name": "stderr",
     "output_type": "stream",
     "text": [
      "<block>:1:18-37: info: atom does not occur in any rule head:\n",
      "  ext_indep(5,6,s8y1)\n",
      "\n",
      "<block>:1:20-37: info: atom does not occur in any rule head:\n",
      "  ext_dep(5,6,s8y3)\n",
      "\n",
      "<block>:1:22-41: info: atom does not occur in any rule head:\n",
      "  ext_dep(5,6,s8y1y3)\n",
      "\n"
     ]
    },
    {
     "name": "stderr",
     "output_type": "stream",
     "text": [
      "<block>:1:18-37: info: atom does not occur in any rule head:\n",
      "  ext_indep(5,6,s8y1)\n",
      "\n",
      "<block>:1:20-37: info: atom does not occur in any rule head:\n",
      "  ext_dep(3,6,s8y1)\n",
      "\n",
      "<block>:1:22-41: info: atom does not occur in any rule head:\n",
      "  ext_dep(5,6,s8y1y3)\n",
      "\n"
     ]
    },
    {
     "name": "stderr",
     "output_type": "stream",
     "text": [
      "<block>:1:18-37: info: atom does not occur in any rule head:\n",
      "  ext_indep(5,6,s8y1)\n",
      "\n",
      "<block>:1:20-37: info: atom does not occur in any rule head:\n",
      "  ext_dep(1,6,s8y3)\n",
      "\n",
      "<block>:1:22-41: info: atom does not occur in any rule head:\n",
      "  ext_dep(5,6,s8y1y3)\n",
      "\n",
      "<block>:1:45-60: info: atom does not occur in any rule head:\n",
      "  ap(5,7,#P0,empty)\n",
      "\n",
      "<block>:1:18-37: info: atom does not occur in any rule head:\n",
      "  ext_indep(5,6,s8y1)\n",
      "\n",
      "<block>:1:20-37: info: atom does not occur in any rule head:\n",
      "  ext_dep(1,6,s8y3)\n",
      "\n",
      "<block>:1:22-41: info: atom does not occur in any rule head:\n",
      "  ext_dep(5,6,s8y1y3)\n",
      "\n",
      "<block>:1:18-37: info: atom does not occur in any rule head:\n",
      "  ext_indep(5,6,s8y1)\n",
      "\n",
      "<block>:1:20-37: info: atom does not occur in any rule head:\n",
      "  ext_dep(3,6,s8y1)\n",
      "\n",
      "<block>:1:22-41: info: atom does not occur in any rule head:\n",
      "  ext_dep(5,6,s8y1y3)\n",
      "\n"
     ]
    },
    {
     "name": "stderr",
     "output_type": "stream",
     "text": [
      "<block>:1:18-37: info: atom does not occur in any rule head:\n",
      "  ext_indep(5,6,s8y1)\n",
      "\n",
      "<block>:1:20-37: info: atom does not occur in any rule head:\n",
      "  ext_dep(5,6,s8y3)\n",
      "\n",
      "<block>:1:22-41: info: atom does not occur in any rule head:\n",
      "  ext_dep(5,6,s8y1y3)\n",
      "\n",
      "<block>:1:18-37: info: atom does not occur in any rule head:\n",
      "  ext_indep(5,6,s8y1)\n",
      "\n",
      "<block>:1:20-37: info: atom does not occur in any rule head:\n",
      "  ext_dep(5,6,s8y3)\n",
      "\n",
      "<block>:1:22-41: info: atom does not occur in any rule head:\n",
      "  ext_dep(5,6,s8y1y3)\n",
      "\n"
     ]
    },
    {
     "name": "stderr",
     "output_type": "stream",
     "text": [
      "<block>:1:18-37: info: atom does not occur in any rule head:\n",
      "  ext_indep(5,6,s8y1)\n",
      "\n",
      "<block>:1:20-37: info: atom does not occur in any rule head:\n",
      "  ext_dep(5,6,s8y3)\n",
      "\n",
      "<block>:1:22-41: info: atom does not occur in any rule head:\n",
      "  ext_dep(5,6,s8y1y3)\n",
      "\n"
     ]
    },
    {
     "name": "stderr",
     "output_type": "stream",
     "text": [
      "<block>:1:18-37: info: atom does not occur in any rule head:\n",
      "  ext_indep(5,6,s8y1)\n",
      "\n",
      "<block>:1:20-37: info: atom does not occur in any rule head:\n",
      "  ext_dep(3,6,s8y1)\n",
      "\n",
      "<block>:1:22-41: info: atom does not occur in any rule head:\n",
      "  ext_dep(5,6,s8y1y3)\n",
      "\n"
     ]
    },
    {
     "name": "stderr",
     "output_type": "stream",
     "text": [
      "<block>:1:18-37: info: atom does not occur in any rule head:\n",
      "  ext_indep(5,6,s8y1)\n",
      "\n",
      "<block>:1:20-37: info: atom does not occur in any rule head:\n",
      "  ext_dep(5,6,s8y3)\n",
      "\n",
      "<block>:1:22-41: info: atom does not occur in any rule head:\n",
      "  ext_dep(5,6,s8y1y3)\n",
      "\n"
     ]
    },
    {
     "name": "stderr",
     "output_type": "stream",
     "text": [
      "<block>:1:18-37: info: atom does not occur in any rule head:\n",
      "  ext_indep(5,6,s8y1)\n",
      "\n",
      "<block>:1:20-37: info: atom does not occur in any rule head:\n",
      "  ext_dep(3,6,s8y1)\n",
      "\n",
      "<block>:1:22-41: info: atom does not occur in any rule head:\n",
      "  ext_dep(5,6,s8y1y3)\n",
      "\n"
     ]
    },
    {
     "name": "stderr",
     "output_type": "stream",
     "text": [
      "<block>:1:18-37: info: atom does not occur in any rule head:\n",
      "  ext_indep(5,6,s8y1)\n",
      "\n",
      "<block>:1:20-37: info: atom does not occur in any rule head:\n",
      "  ext_dep(1,6,s8y3)\n",
      "\n",
      "<block>:1:22-41: info: atom does not occur in any rule head:\n",
      "  ext_dep(5,6,s8y1y3)\n",
      "\n",
      "<block>:1:18-37: info: atom does not occur in any rule head:\n",
      "  ext_indep(5,6,s8y1)\n",
      "\n",
      "<block>:1:20-37: info: atom does not occur in any rule head:\n",
      "  ext_dep(1,6,s8y3)\n",
      "\n",
      "<block>:1:22-41: info: atom does not occur in any rule head:\n",
      "  ext_dep(5,6,s8y1y3)\n",
      "\n",
      "<block>:1:18-37: info: atom does not occur in any rule head:\n",
      "  ext_indep(5,6,s8y1)\n",
      "\n",
      "<block>:1:20-37: info: atom does not occur in any rule head:\n",
      "  ext_dep(1,6,s8y3)\n",
      "\n",
      "<block>:1:22-41: info: atom does not occur in any rule head:\n",
      "  ext_dep(5,6,s8y1y3)\n",
      "\n",
      "<block>:1:18-37: info: atom does not occur in any rule head:\n",
      "  ext_indep(5,6,s8y1)\n",
      "\n",
      "<block>:1:20-37: info: atom does not occur in any rule head:\n",
      "  ext_dep(1,6,s8y3)\n",
      "\n",
      "<block>:1:22-41: info: atom does not occur in any rule head:\n",
      "  ext_dep(5,6,s8y1y3)\n",
      "\n"
     ]
    },
    {
     "name": "stderr",
     "output_type": "stream",
     "text": [
      "<block>:1:18-37: info: atom does not occur in any rule head:\n",
      "  ext_indep(5,6,s8y1)\n",
      "\n",
      "<block>:1:20-37: info: atom does not occur in any rule head:\n",
      "  ext_dep(5,6,s8y3)\n",
      "\n",
      "<block>:1:22-41: info: atom does not occur in any rule head:\n",
      "  ext_dep(5,6,s8y1y3)\n",
      "\n",
      "<block>:1:18-37: info: atom does not occur in any rule head:\n",
      "  ext_indep(5,6,s8y1)\n",
      "\n",
      "<block>:1:20-37: info: atom does not occur in any rule head:\n",
      "  ext_dep(3,6,s8y1)\n",
      "\n",
      "<block>:1:22-41: info: atom does not occur in any rule head:\n",
      "  ext_dep(5,6,s8y1y3)\n",
      "\n",
      "<block>:1:18-37: info: atom does not occur in any rule head:\n",
      "  ext_indep(5,6,s8y1)\n",
      "\n",
      "<block>:1:20-37: info: atom does not occur in any rule head:\n",
      "  ext_dep(5,6,s8y3)\n",
      "\n",
      "<block>:1:22-41: info: atom does not occur in any rule head:\n",
      "  ext_dep(5,6,s8y1y3)\n",
      "\n"
     ]
    },
    {
     "name": "stderr",
     "output_type": "stream",
     "text": [
      "<block>:1:18-37: info: atom does not occur in any rule head:\n",
      "  ext_indep(5,6,s8y1)\n",
      "\n",
      "<block>:1:20-37: info: atom does not occur in any rule head:\n",
      "  ext_dep(1,6,s8y3)\n",
      "\n",
      "<block>:1:22-41: info: atom does not occur in any rule head:\n",
      "  ext_dep(5,6,s8y1y3)\n",
      "\n",
      "<block>:1:18-37: info: atom does not occur in any rule head:\n",
      "  ext_indep(5,6,s8y1)\n",
      "\n",
      "<block>:1:20-37: info: atom does not occur in any rule head:\n",
      "  ext_dep(1,6,s8y3)\n",
      "\n",
      "<block>:1:22-41: info: atom does not occur in any rule head:\n",
      "  ext_dep(5,6,s8y1y3)\n",
      "\n",
      "<block>:1:18-37: info: atom does not occur in any rule head:\n",
      "  ext_indep(5,6,s8y1)\n",
      "\n",
      "<block>:1:20-37: info: atom does not occur in any rule head:\n",
      "  ext_dep(5,6,s8y3)\n",
      "\n",
      "<block>:1:22-41: info: atom does not occur in any rule head:\n",
      "  ext_dep(5,6,s8y1y3)\n",
      "\n"
     ]
    },
    {
     "name": "stderr",
     "output_type": "stream",
     "text": [
      "<block>:1:18-37: info: atom does not occur in any rule head:\n",
      "  ext_indep(5,6,s8y1)\n",
      "\n",
      "<block>:1:20-37: info: atom does not occur in any rule head:\n",
      "  ext_dep(5,6,s8y3)\n",
      "\n",
      "<block>:1:22-41: info: atom does not occur in any rule head:\n",
      "  ext_dep(5,6,s8y1y3)\n",
      "\n",
      "<block>:1:18-37: info: atom does not occur in any rule head:\n",
      "  ext_indep(5,6,s8y1)\n",
      "\n",
      "<block>:1:20-37: info: atom does not occur in any rule head:\n",
      "  ext_dep(5,6,s8y3)\n",
      "\n",
      "<block>:1:22-41: info: atom does not occur in any rule head:\n",
      "  ext_dep(5,6,s8y1y3)\n",
      "\n"
     ]
    },
    {
     "name": "stderr",
     "output_type": "stream",
     "text": [
      "<block>:1:18-37: info: atom does not occur in any rule head:\n",
      "  ext_indep(5,6,s8y1)\n",
      "\n",
      "<block>:1:20-37: info: atom does not occur in any rule head:\n",
      "  ext_dep(3,6,s8y1)\n",
      "\n",
      "<block>:1:22-41: info: atom does not occur in any rule head:\n",
      "  ext_dep(5,6,s8y1y3)\n",
      "\n",
      "<block>:1:18-37: info: atom does not occur in any rule head:\n",
      "  ext_indep(5,6,s8y1)\n",
      "\n",
      "<block>:1:20-37: info: atom does not occur in any rule head:\n",
      "  ext_dep(5,6,s8y3)\n",
      "\n",
      "<block>:1:22-41: info: atom does not occur in any rule head:\n",
      "  ext_dep(5,6,s8y1y3)\n",
      "\n"
     ]
    },
    {
     "name": "stderr",
     "output_type": "stream",
     "text": [
      "<block>:1:18-37: info: atom does not occur in any rule head:\n",
      "  ext_indep(5,6,s8y1)\n",
      "\n",
      "<block>:1:20-37: info: atom does not occur in any rule head:\n",
      "  ext_dep(5,6,s8y3)\n",
      "\n",
      "<block>:1:22-41: info: atom does not occur in any rule head:\n",
      "  ext_dep(5,6,s8y1y3)\n",
      "\n",
      "<block>:1:18-37: info: atom does not occur in any rule head:\n",
      "  ext_indep(5,6,s8y1)\n",
      "\n",
      "<block>:1:20-37: info: atom does not occur in any rule head:\n",
      "  ext_dep(5,6,s8y3)\n",
      "\n",
      "<block>:1:22-41: info: atom does not occur in any rule head:\n",
      "  ext_dep(5,6,s8y1y3)\n",
      "\n",
      "<block>:1:18-37: info: atom does not occur in any rule head:\n",
      "  ext_indep(5,6,s8y1)\n",
      "\n",
      "<block>:1:20-37: info: atom does not occur in any rule head:\n",
      "  ext_dep(5,6,s8y3)\n",
      "\n",
      "<block>:1:22-41: info: atom does not occur in any rule head:\n",
      "  ext_dep(5,6,s8y1y3)\n",
      "\n"
     ]
    },
    {
     "name": "stderr",
     "output_type": "stream",
     "text": [
      "<block>:1:18-37: info: atom does not occur in any rule head:\n",
      "  ext_indep(5,6,s8y1)\n",
      "\n",
      "<block>:1:20-37: info: atom does not occur in any rule head:\n",
      "  ext_dep(5,6,s8y3)\n",
      "\n",
      "<block>:1:22-41: info: atom does not occur in any rule head:\n",
      "  ext_dep(5,6,s8y1y3)\n",
      "\n",
      "<block>:1:20-37: info: atom does not occur in any rule head:\n",
      "  ext_dep(5,6,s8y3)\n",
      "\n",
      "<block>:1:22-41: info: atom does not occur in any rule head:\n",
      "  ext_dep(5,6,s8y1y3)\n",
      "\n"
     ]
    },
    {
     "name": "stderr",
     "output_type": "stream",
     "text": [
      "<block>:1:20-37: info: atom does not occur in any rule head:\n",
      "  ext_dep(5,6,s8y3)\n",
      "\n",
      "<block>:1:22-41: info: atom does not occur in any rule head:\n",
      "  ext_dep(5,6,s8y1y3)\n",
      "\n",
      "<block>:1:20-37: info: atom does not occur in any rule head:\n",
      "  ext_dep(5,6,s8y3)\n",
      "\n",
      "<block>:1:22-41: info: atom does not occur in any rule head:\n",
      "  ext_dep(5,6,s8y1y3)\n",
      "\n"
     ]
    },
    {
     "name": "stderr",
     "output_type": "stream",
     "text": [
      "<block>:1:20-37: info: atom does not occur in any rule head:\n",
      "  ext_dep(5,6,s8y3)\n",
      "\n",
      "<block>:1:22-41: info: atom does not occur in any rule head:\n",
      "  ext_dep(5,6,s8y1y3)\n",
      "\n"
     ]
    },
    {
     "name": "stderr",
     "output_type": "stream",
     "text": [
      "<block>:1:20-37: info: atom does not occur in any rule head:\n",
      "  ext_dep(5,6,s8y3)\n",
      "\n",
      "<block>:1:22-41: info: atom does not occur in any rule head:\n",
      "  ext_dep(5,6,s8y1y3)\n",
      "\n"
     ]
    },
    {
     "name": "stderr",
     "output_type": "stream",
     "text": [
      "<block>:1:20-37: info: atom does not occur in any rule head:\n",
      "  ext_dep(5,6,s8y3)\n",
      "\n",
      "<block>:1:22-41: info: atom does not occur in any rule head:\n",
      "  ext_dep(5,6,s8y1y3)\n",
      "\n"
     ]
    },
    {
     "name": "stderr",
     "output_type": "stream",
     "text": [
      "<block>:1:20-37: info: atom does not occur in any rule head:\n",
      "  ext_dep(5,6,s8y3)\n",
      "\n",
      "<block>:1:22-41: info: atom does not occur in any rule head:\n",
      "  ext_dep(5,6,s8y1y3)\n",
      "\n"
     ]
    },
    {
     "name": "stderr",
     "output_type": "stream",
     "text": [
      "<block>:1:20-37: info: atom does not occur in any rule head:\n",
      "  ext_dep(5,6,s8y3)\n",
      "\n",
      "<block>:1:22-41: info: atom does not occur in any rule head:\n",
      "  ext_dep(5,6,s8y1y3)\n",
      "\n"
     ]
    },
    {
     "name": "stderr",
     "output_type": "stream",
     "text": [
      "<block>:1:20-37: info: atom does not occur in any rule head:\n",
      "  ext_dep(5,6,s8y3)\n",
      "\n",
      "<block>:1:22-41: info: atom does not occur in any rule head:\n",
      "  ext_dep(5,6,s8y1y3)\n",
      "\n"
     ]
    },
    {
     "name": "stderr",
     "output_type": "stream",
     "text": [
      "<block>:1:20-37: info: atom does not occur in any rule head:\n",
      "  ext_dep(5,6,s8y3)\n",
      "\n",
      "<block>:1:22-41: info: atom does not occur in any rule head:\n",
      "  ext_dep(5,6,s8y1y3)\n",
      "\n"
     ]
    },
    {
     "name": "stderr",
     "output_type": "stream",
     "text": [
      "<block>:1:20-37: info: atom does not occur in any rule head:\n",
      "  ext_dep(5,6,s8y3)\n",
      "\n",
      "<block>:1:22-41: info: atom does not occur in any rule head:\n",
      "  ext_dep(5,6,s8y1y3)\n",
      "\n"
     ]
    },
    {
     "name": "stderr",
     "output_type": "stream",
     "text": [
      "<block>:1:18-37: info: atom does not occur in any rule head:\n",
      "  ext_indep(5,6,s8y1)\n",
      "\n",
      "<block>:1:20-37: info: atom does not occur in any rule head:\n",
      "  ext_dep(5,6,s8y3)\n",
      "\n",
      "<block>:1:22-41: info: atom does not occur in any rule head:\n",
      "  ext_dep(5,6,s8y1y3)\n",
      "\n",
      "<block>:1:18-37: info: atom does not occur in any rule head:\n",
      "  ext_indep(5,6,s8y1)\n",
      "\n",
      "<block>:1:20-37: info: atom does not occur in any rule head:\n",
      "  ext_dep(5,6,s8y3)\n",
      "\n",
      "<block>:1:22-41: info: atom does not occur in any rule head:\n",
      "  ext_dep(5,6,s8y1y3)\n",
      "\n",
      "<block>:1:18-37: info: atom does not occur in any rule head:\n",
      "  ext_indep(5,6,s8y1)\n",
      "\n",
      "<block>:1:20-37: info: atom does not occur in any rule head:\n",
      "  ext_dep(5,6,s8y3)\n",
      "\n",
      "<block>:1:22-41: info: atom does not occur in any rule head:\n",
      "  ext_dep(5,6,s8y1y3)\n",
      "\n"
     ]
    },
    {
     "name": "stderr",
     "output_type": "stream",
     "text": [
      "<block>:1:18-37: info: atom does not occur in any rule head:\n",
      "  ext_indep(5,6,s8y1)\n",
      "\n",
      "<block>:1:20-37: info: atom does not occur in any rule head:\n",
      "  ext_dep(5,6,s8y3)\n",
      "\n",
      "<block>:1:22-41: info: atom does not occur in any rule head:\n",
      "  ext_dep(5,6,s8y1y3)\n",
      "\n",
      "<block>:1:20-37: info: atom does not occur in any rule head:\n",
      "  ext_dep(5,6,s8y3)\n",
      "\n",
      "<block>:1:22-41: info: atom does not occur in any rule head:\n",
      "  ext_dep(5,6,s8y1y3)\n",
      "\n"
     ]
    },
    {
     "name": "stderr",
     "output_type": "stream",
     "text": [
      "<block>:1:20-37: info: atom does not occur in any rule head:\n",
      "  ext_dep(5,6,s8y3)\n",
      "\n",
      "<block>:1:22-41: info: atom does not occur in any rule head:\n",
      "  ext_dep(5,6,s8y1y3)\n",
      "\n",
      "<block>:1:20-37: info: atom does not occur in any rule head:\n",
      "  ext_dep(5,6,s8y3)\n",
      "\n",
      "<block>:1:22-41: info: atom does not occur in any rule head:\n",
      "  ext_dep(5,6,s8y1y3)\n",
      "\n"
     ]
    },
    {
     "name": "stderr",
     "output_type": "stream",
     "text": [
      "<block>:1:20-37: info: atom does not occur in any rule head:\n",
      "  ext_dep(5,6,s8y3)\n",
      "\n",
      "<block>:1:22-41: info: atom does not occur in any rule head:\n",
      "  ext_dep(5,6,s8y1y3)\n",
      "\n"
     ]
    },
    {
     "name": "stderr",
     "output_type": "stream",
     "text": [
      "<block>:1:20-37: info: atom does not occur in any rule head:\n",
      "  ext_dep(5,6,s8y3)\n",
      "\n",
      "<block>:1:22-41: info: atom does not occur in any rule head:\n",
      "  ext_dep(5,6,s8y1y3)\n",
      "\n"
     ]
    },
    {
     "name": "stderr",
     "output_type": "stream",
     "text": [
      "<block>:1:20-37: info: atom does not occur in any rule head:\n",
      "  ext_dep(5,6,s8y3)\n",
      "\n",
      "<block>:1:22-41: info: atom does not occur in any rule head:\n",
      "  ext_dep(5,6,s8y1y3)\n",
      "\n"
     ]
    },
    {
     "name": "stderr",
     "output_type": "stream",
     "text": [
      "<block>:1:20-37: info: atom does not occur in any rule head:\n",
      "  ext_dep(5,6,s8y3)\n",
      "\n",
      "<block>:1:22-41: info: atom does not occur in any rule head:\n",
      "  ext_dep(5,6,s8y1y3)\n",
      "\n"
     ]
    },
    {
     "name": "stderr",
     "output_type": "stream",
     "text": [
      "<block>:1:20-37: info: atom does not occur in any rule head:\n",
      "  ext_dep(5,6,s8y3)\n",
      "\n",
      "<block>:1:22-41: info: atom does not occur in any rule head:\n",
      "  ext_dep(5,6,s8y1y3)\n",
      "\n"
     ]
    },
    {
     "name": "stderr",
     "output_type": "stream",
     "text": [
      "<block>:1:20-37: info: atom does not occur in any rule head:\n",
      "  ext_dep(5,6,s8y3)\n",
      "\n",
      "<block>:1:22-41: info: atom does not occur in any rule head:\n",
      "  ext_dep(5,6,s8y1y3)\n",
      "\n"
     ]
    },
    {
     "name": "stderr",
     "output_type": "stream",
     "text": [
      "<block>:1:20-37: info: atom does not occur in any rule head:\n",
      "  ext_dep(5,6,s8y3)\n",
      "\n",
      "<block>:1:22-41: info: atom does not occur in any rule head:\n",
      "  ext_dep(5,6,s8y1y3)\n",
      "\n"
     ]
    },
    {
     "name": "stderr",
     "output_type": "stream",
     "text": [
      "<block>:1:20-37: info: atom does not occur in any rule head:\n",
      "  ext_dep(5,6,s8y3)\n",
      "\n",
      "<block>:1:22-41: info: atom does not occur in any rule head:\n",
      "  ext_dep(5,6,s8y1y3)\n",
      "\n"
     ]
    },
    {
     "name": "stderr",
     "output_type": "stream",
     "text": [
      "<block>:1:18-37: info: atom does not occur in any rule head:\n",
      "  ext_indep(5,6,s8y1)\n",
      "\n",
      "<block>:1:20-37: info: atom does not occur in any rule head:\n",
      "  ext_dep(5,6,s8y3)\n",
      "\n",
      "<block>:1:22-41: info: atom does not occur in any rule head:\n",
      "  ext_dep(5,6,s8y1y3)\n",
      "\n",
      "<block>:1:18-37: info: atom does not occur in any rule head:\n",
      "  ext_indep(5,6,s8y1)\n",
      "\n",
      "<block>:1:20-37: info: atom does not occur in any rule head:\n",
      "  ext_dep(5,6,s8y3)\n",
      "\n",
      "<block>:1:22-41: info: atom does not occur in any rule head:\n",
      "  ext_dep(5,6,s8y1y3)\n",
      "\n",
      "<block>:1:18-37: info: atom does not occur in any rule head:\n",
      "  ext_indep(5,6,s8y1)\n",
      "\n",
      "<block>:1:20-37: info: atom does not occur in any rule head:\n",
      "  ext_dep(5,6,s8y3)\n",
      "\n",
      "<block>:1:22-41: info: atom does not occur in any rule head:\n",
      "  ext_dep(5,6,s8y1y3)\n",
      "\n"
     ]
    },
    {
     "name": "stderr",
     "output_type": "stream",
     "text": [
      "<block>:1:18-37: info: atom does not occur in any rule head:\n",
      "  ext_indep(5,6,s8y1)\n",
      "\n",
      "<block>:1:20-37: info: atom does not occur in any rule head:\n",
      "  ext_dep(5,6,s8y3)\n",
      "\n",
      "<block>:1:22-41: info: atom does not occur in any rule head:\n",
      "  ext_dep(5,6,s8y1y3)\n",
      "\n",
      "<block>:1:18-37: info: atom does not occur in any rule head:\n",
      "  ext_indep(5,6,s8y1)\n",
      "\n",
      "<block>:1:20-37: info: atom does not occur in any rule head:\n",
      "  ext_dep(5,6,s8y3)\n",
      "\n",
      "<block>:1:22-41: info: atom does not occur in any rule head:\n",
      "  ext_dep(5,6,s8y1y3)\n",
      "\n"
     ]
    },
    {
     "name": "stderr",
     "output_type": "stream",
     "text": [
      "<block>:1:18-37: info: atom does not occur in any rule head:\n",
      "  ext_indep(5,6,s8y1)\n",
      "\n",
      "<block>:1:20-37: info: atom does not occur in any rule head:\n",
      "  ext_dep(5,6,s8y3)\n",
      "\n",
      "<block>:1:22-41: info: atom does not occur in any rule head:\n",
      "  ext_dep(5,6,s8y1y3)\n",
      "\n",
      "<block>:1:18-37: info: atom does not occur in any rule head:\n",
      "  ext_indep(5,6,s8y1)\n",
      "\n",
      "<block>:1:20-37: info: atom does not occur in any rule head:\n",
      "  ext_dep(5,6,s8y3)\n",
      "\n",
      "<block>:1:22-41: info: atom does not occur in any rule head:\n",
      "  ext_dep(5,6,s8y1y3)\n",
      "\n",
      "<block>:1:18-37: info: atom does not occur in any rule head:\n",
      "  ext_indep(5,6,s8y1)\n",
      "\n",
      "<block>:1:20-37: info: atom does not occur in any rule head:\n",
      "  ext_dep(5,6,s8y3)\n",
      "\n",
      "<block>:1:22-41: info: atom does not occur in any rule head:\n",
      "  ext_dep(5,6,s8y1y3)\n",
      "\n"
     ]
    },
    {
     "name": "stderr",
     "output_type": "stream",
     "text": [
      "<block>:1:18-37: info: atom does not occur in any rule head:\n",
      "  ext_indep(5,6,s8y1)\n",
      "\n",
      "<block>:1:20-37: info: atom does not occur in any rule head:\n",
      "  ext_dep(5,6,s8y3)\n",
      "\n",
      "<block>:1:22-41: info: atom does not occur in any rule head:\n",
      "  ext_dep(5,6,s8y1y3)\n",
      "\n",
      "<block>:1:18-37: info: atom does not occur in any rule head:\n",
      "  ext_indep(5,6,s8y1)\n",
      "\n",
      "<block>:1:20-37: info: atom does not occur in any rule head:\n",
      "  ext_dep(5,6,s8y3)\n",
      "\n",
      "<block>:1:22-41: info: atom does not occur in any rule head:\n",
      "  ext_dep(5,6,s8y1y3)\n",
      "\n",
      "<block>:1:18-37: info: atom does not occur in any rule head:\n",
      "  ext_indep(5,6,s8y1)\n",
      "\n",
      "<block>:1:20-37: info: atom does not occur in any rule head:\n",
      "  ext_dep(5,6,s8y3)\n",
      "\n",
      "<block>:1:22-41: info: atom does not occur in any rule head:\n",
      "  ext_dep(5,6,s8y1y3)\n",
      "\n"
     ]
    },
    {
     "name": "stderr",
     "output_type": "stream",
     "text": [
      "<block>:1:18-37: info: atom does not occur in any rule head:\n",
      "  ext_indep(5,6,s8y1)\n",
      "\n",
      "<block>:1:20-37: info: atom does not occur in any rule head:\n",
      "  ext_dep(5,6,s8y3)\n",
      "\n",
      "<block>:1:22-41: info: atom does not occur in any rule head:\n",
      "  ext_dep(5,6,s8y1y3)\n",
      "\n",
      "<block>:1:18-37: info: atom does not occur in any rule head:\n",
      "  ext_indep(5,6,s8y1)\n",
      "\n",
      "<block>:1:20-37: info: atom does not occur in any rule head:\n",
      "  ext_dep(3,6,s8y1)\n",
      "\n",
      "<block>:1:22-41: info: atom does not occur in any rule head:\n",
      "  ext_dep(5,6,s8y1y3)\n",
      "\n",
      "<block>:1:18-37: info: atom does not occur in any rule head:\n",
      "  ext_indep(5,6,s8y1)\n",
      "\n",
      "<block>:1:20-37: info: atom does not occur in any rule head:\n",
      "  ext_dep(5,6,s8y3)\n",
      "\n",
      "<block>:1:22-41: info: atom does not occur in any rule head:\n",
      "  ext_dep(5,6,s8y1y3)\n",
      "\n"
     ]
    },
    {
     "name": "stderr",
     "output_type": "stream",
     "text": [
      "<block>:1:18-37: info: atom does not occur in any rule head:\n",
      "  ext_indep(5,6,s8y1)\n",
      "\n",
      "<block>:1:20-37: info: atom does not occur in any rule head:\n",
      "  ext_dep(5,6,s8y3)\n",
      "\n",
      "<block>:1:22-41: info: atom does not occur in any rule head:\n",
      "  ext_dep(5,6,s8y1y3)\n",
      "\n",
      "<block>:1:20-37: info: atom does not occur in any rule head:\n",
      "  ext_dep(5,6,s8y3)\n",
      "\n",
      "<block>:1:22-41: info: atom does not occur in any rule head:\n",
      "  ext_dep(5,6,s8y1y3)\n",
      "\n"
     ]
    },
    {
     "name": "stderr",
     "output_type": "stream",
     "text": [
      "<block>:1:20-37: info: atom does not occur in any rule head:\n",
      "  ext_dep(3,6,s8y1)\n",
      "\n",
      "<block>:1:22-41: info: atom does not occur in any rule head:\n",
      "  ext_dep(5,6,s8y1y3)\n",
      "\n"
     ]
    },
    {
     "name": "stderr",
     "output_type": "stream",
     "text": [
      "<block>:1:20-37: info: atom does not occur in any rule head:\n",
      "  ext_dep(5,6,s8y3)\n",
      "\n",
      "<block>:1:22-41: info: atom does not occur in any rule head:\n",
      "  ext_dep(5,6,s8y1y3)\n",
      "\n"
     ]
    },
    {
     "name": "stderr",
     "output_type": "stream",
     "text": [
      "<block>:1:20-37: info: atom does not occur in any rule head:\n",
      "  ext_dep(5,6,s8y3)\n",
      "\n",
      "<block>:1:22-41: info: atom does not occur in any rule head:\n",
      "  ext_dep(5,6,s8y1y3)\n",
      "\n"
     ]
    },
    {
     "name": "stderr",
     "output_type": "stream",
     "text": [
      "<block>:1:20-37: info: atom does not occur in any rule head:\n",
      "  ext_dep(3,6,s8y1)\n",
      "\n",
      "<block>:1:22-41: info: atom does not occur in any rule head:\n",
      "  ext_dep(5,6,s8y1y3)\n",
      "\n"
     ]
    },
    {
     "name": "stderr",
     "output_type": "stream",
     "text": [
      "<block>:1:20-37: info: atom does not occur in any rule head:\n",
      "  ext_dep(3,6,s8y1)\n",
      "\n",
      "<block>:1:22-41: info: atom does not occur in any rule head:\n",
      "  ext_dep(5,6,s8y1y3)\n",
      "\n"
     ]
    },
    {
     "name": "stderr",
     "output_type": "stream",
     "text": [
      "<block>:1:20-37: info: atom does not occur in any rule head:\n",
      "  ext_dep(3,6,s8y1)\n",
      "\n",
      "<block>:1:22-41: info: atom does not occur in any rule head:\n",
      "  ext_dep(5,6,s8y1y3)\n",
      "\n"
     ]
    },
    {
     "name": "stderr",
     "output_type": "stream",
     "text": [
      "<block>:1:20-37: info: atom does not occur in any rule head:\n",
      "  ext_dep(5,6,s8y3)\n",
      "\n",
      "<block>:1:22-41: info: atom does not occur in any rule head:\n",
      "  ext_dep(5,6,s8y1y3)\n",
      "\n"
     ]
    },
    {
     "name": "stderr",
     "output_type": "stream",
     "text": [
      "<block>:1:20-37: info: atom does not occur in any rule head:\n",
      "  ext_dep(3,6,s8y1)\n",
      "\n",
      "<block>:1:22-41: info: atom does not occur in any rule head:\n",
      "  ext_dep(5,6,s8y1y3)\n",
      "\n"
     ]
    },
    {
     "name": "stderr",
     "output_type": "stream",
     "text": [
      "<block>:1:20-37: info: atom does not occur in any rule head:\n",
      "  ext_dep(3,6,s8y1)\n",
      "\n",
      "<block>:1:22-41: info: atom does not occur in any rule head:\n",
      "  ext_dep(5,6,s8y1y3)\n",
      "\n"
     ]
    },
    {
     "name": "stderr",
     "output_type": "stream",
     "text": [
      "<block>:1:20-37: info: atom does not occur in any rule head:\n",
      "  ext_dep(3,6,s8y1)\n",
      "\n",
      "<block>:1:22-41: info: atom does not occur in any rule head:\n",
      "  ext_dep(5,6,s8y1y3)\n",
      "\n"
     ]
    },
    {
     "name": "stderr",
     "output_type": "stream",
     "text": [
      "<block>:1:18-37: info: atom does not occur in any rule head:\n",
      "  ext_indep(5,6,s8y1)\n",
      "\n",
      "<block>:1:20-37: info: atom does not occur in any rule head:\n",
      "  ext_dep(1,6,s8y3)\n",
      "\n",
      "<block>:1:22-41: info: atom does not occur in any rule head:\n",
      "  ext_dep(5,6,s8y1y3)\n",
      "\n",
      "<block>:1:18-37: info: atom does not occur in any rule head:\n",
      "  ext_indep(5,6,s8y1)\n",
      "\n",
      "<block>:1:20-37: info: atom does not occur in any rule head:\n",
      "  ext_dep(5,6,s8y3)\n",
      "\n",
      "<block>:1:22-41: info: atom does not occur in any rule head:\n",
      "  ext_dep(5,6,s8y1y3)\n",
      "\n",
      "<block>:1:18-37: info: atom does not occur in any rule head:\n",
      "  ext_indep(5,6,s8y1)\n",
      "\n",
      "<block>:1:20-37: info: atom does not occur in any rule head:\n",
      "  ext_dep(5,6,s8y3)\n",
      "\n",
      "<block>:1:22-41: info: atom does not occur in any rule head:\n",
      "  ext_dep(5,6,s8y1y3)\n",
      "\n"
     ]
    },
    {
     "name": "stderr",
     "output_type": "stream",
     "text": [
      "<block>:1:18-37: info: atom does not occur in any rule head:\n",
      "  ext_indep(5,6,s8y1)\n",
      "\n",
      "<block>:1:20-37: info: atom does not occur in any rule head:\n",
      "  ext_dep(5,6,s8y3)\n",
      "\n",
      "<block>:1:22-41: info: atom does not occur in any rule head:\n",
      "  ext_dep(5,6,s8y1y3)\n",
      "\n",
      "<block>:1:18-37: info: atom does not occur in any rule head:\n",
      "  ext_indep(5,6,s8y1)\n",
      "\n",
      "<block>:1:20-37: info: atom does not occur in any rule head:\n",
      "  ext_dep(3,6,s8y1)\n",
      "\n",
      "<block>:1:22-41: info: atom does not occur in any rule head:\n",
      "  ext_dep(5,6,s8y1y3)\n",
      "\n"
     ]
    },
    {
     "name": "stderr",
     "output_type": "stream",
     "text": [
      "<block>:1:18-37: info: atom does not occur in any rule head:\n",
      "  ext_indep(5,6,s8y1)\n",
      "\n",
      "<block>:1:20-37: info: atom does not occur in any rule head:\n",
      "  ext_dep(5,6,s8y3)\n",
      "\n",
      "<block>:1:22-41: info: atom does not occur in any rule head:\n",
      "  ext_dep(5,6,s8y1y3)\n",
      "\n"
     ]
    },
    {
     "name": "stderr",
     "output_type": "stream",
     "text": [
      "<block>:1:18-37: info: atom does not occur in any rule head:\n",
      "  ext_indep(5,6,s8y1)\n",
      "\n",
      "<block>:1:20-37: info: atom does not occur in any rule head:\n",
      "  ext_dep(3,6,s8y1)\n",
      "\n",
      "<block>:1:22-41: info: atom does not occur in any rule head:\n",
      "  ext_dep(5,6,s8y1y3)\n",
      "\n"
     ]
    },
    {
     "name": "stderr",
     "output_type": "stream",
     "text": [
      "<block>:1:20-37: info: atom does not occur in any rule head:\n",
      "  ext_dep(1,6,s8y3)\n",
      "\n",
      "<block>:1:22-41: info: atom does not occur in any rule head:\n",
      "  ext_dep(5,6,s8y1y3)\n",
      "\n"
     ]
    },
    {
     "name": "stderr",
     "output_type": "stream",
     "text": [
      "<block>:1:20-37: info: atom does not occur in any rule head:\n",
      "  ext_dep(5,6,s8y3)\n",
      "\n",
      "<block>:1:22-41: info: atom does not occur in any rule head:\n",
      "  ext_dep(5,6,s8y1y3)\n",
      "\n"
     ]
    },
    {
     "name": "stderr",
     "output_type": "stream",
     "text": [
      "<block>:1:20-37: info: atom does not occur in any rule head:\n",
      "  ext_dep(3,6,s8y1)\n",
      "\n",
      "<block>:1:22-41: info: atom does not occur in any rule head:\n",
      "  ext_dep(5,6,s8y1y3)\n",
      "\n"
     ]
    },
    {
     "name": "stderr",
     "output_type": "stream",
     "text": [
      "<block>:1:20-37: info: atom does not occur in any rule head:\n",
      "  ext_dep(5,6,s8y3)\n",
      "\n",
      "<block>:1:22-41: info: atom does not occur in any rule head:\n",
      "  ext_dep(5,6,s8y1y3)\n",
      "\n"
     ]
    },
    {
     "name": "stderr",
     "output_type": "stream",
     "text": [
      "<block>:1:20-37: info: atom does not occur in any rule head:\n",
      "  ext_dep(3,6,s8y1)\n",
      "\n",
      "<block>:1:22-41: info: atom does not occur in any rule head:\n",
      "  ext_dep(5,6,s8y1y3)\n",
      "\n"
     ]
    },
    {
     "name": "stderr",
     "output_type": "stream",
     "text": [
      "<block>:1:20-37: info: atom does not occur in any rule head:\n",
      "  ext_dep(5,6,s8y3)\n",
      "\n",
      "<block>:1:22-41: info: atom does not occur in any rule head:\n",
      "  ext_dep(5,6,s8y1y3)\n",
      "\n"
     ]
    },
    {
     "name": "stderr",
     "output_type": "stream",
     "text": [
      "<block>:1:20-37: info: atom does not occur in any rule head:\n",
      "  ext_dep(1,6,s8y3)\n",
      "\n",
      "<block>:1:22-41: info: atom does not occur in any rule head:\n",
      "  ext_dep(5,6,s8y1y3)\n",
      "\n"
     ]
    },
    {
     "name": "stderr",
     "output_type": "stream",
     "text": [
      "<block>:1:20-37: info: atom does not occur in any rule head:\n",
      "  ext_dep(3,6,s8y1)\n",
      "\n",
      "<block>:1:22-41: info: atom does not occur in any rule head:\n",
      "  ext_dep(5,6,s8y1y3)\n",
      "\n"
     ]
    },
    {
     "name": "stderr",
     "output_type": "stream",
     "text": [
      "<block>:1:20-37: info: atom does not occur in any rule head:\n",
      "  ext_dep(5,6,s8y3)\n",
      "\n",
      "<block>:1:22-41: info: atom does not occur in any rule head:\n",
      "  ext_dep(5,6,s8y1y3)\n",
      "\n"
     ]
    },
    {
     "name": "stderr",
     "output_type": "stream",
     "text": [
      "<block>:1:20-37: info: atom does not occur in any rule head:\n",
      "  ext_dep(1,6,s8y3)\n",
      "\n",
      "<block>:1:22-41: info: atom does not occur in any rule head:\n",
      "  ext_dep(5,6,s8y1y3)\n",
      "\n"
     ]
    },
    {
     "name": "stderr",
     "output_type": "stream",
     "text": [
      "<block>:1:20-37: info: atom does not occur in any rule head:\n",
      "  ext_dep(3,6,s8y1)\n",
      "\n",
      "<block>:1:22-41: info: atom does not occur in any rule head:\n",
      "  ext_dep(5,6,s8y1y3)\n",
      "\n"
     ]
    },
    {
     "name": "stderr",
     "output_type": "stream",
     "text": [
      "<block>:1:18-37: info: atom does not occur in any rule head:\n",
      "  ext_indep(5,6,s8y1)\n",
      "\n",
      "<block>:1:20-37: info: atom does not occur in any rule head:\n",
      "  ext_dep(1,6,s8y3)\n",
      "\n",
      "<block>:1:22-41: info: atom does not occur in any rule head:\n",
      "  ext_dep(5,6,s8y1y3)\n",
      "\n",
      "<block>:1:18-37: info: atom does not occur in any rule head:\n",
      "  ext_indep(5,6,s8y1)\n",
      "\n",
      "<block>:1:20-37: info: atom does not occur in any rule head:\n",
      "  ext_dep(1,6,s8y3)\n",
      "\n",
      "<block>:1:22-41: info: atom does not occur in any rule head:\n",
      "  ext_dep(5,6,s8y1y3)\n",
      "\n",
      "<block>:1:18-37: info: atom does not occur in any rule head:\n",
      "  ext_indep(5,6,s8y1)\n",
      "\n",
      "<block>:1:20-37: info: atom does not occur in any rule head:\n",
      "  ext_dep(5,6,s8y3)\n",
      "\n",
      "<block>:1:22-41: info: atom does not occur in any rule head:\n",
      "  ext_dep(5,6,s8y1y3)\n",
      "\n"
     ]
    },
    {
     "name": "stderr",
     "output_type": "stream",
     "text": [
      "<block>:1:18-37: info: atom does not occur in any rule head:\n",
      "  ext_indep(5,6,s8y1)\n",
      "\n",
      "<block>:1:20-37: info: atom does not occur in any rule head:\n",
      "  ext_dep(3,6,s8y1)\n",
      "\n",
      "<block>:1:22-41: info: atom does not occur in any rule head:\n",
      "  ext_dep(5,6,s8y1y3)\n",
      "\n",
      "<block>:1:18-37: info: atom does not occur in any rule head:\n",
      "  ext_indep(5,6,s8y1)\n",
      "\n",
      "<block>:1:20-37: info: atom does not occur in any rule head:\n",
      "  ext_dep(5,6,s8y3)\n",
      "\n",
      "<block>:1:22-41: info: atom does not occur in any rule head:\n",
      "  ext_dep(5,6,s8y1y3)\n",
      "\n"
     ]
    },
    {
     "name": "stderr",
     "output_type": "stream",
     "text": [
      "<block>:1:18-37: info: atom does not occur in any rule head:\n",
      "  ext_indep(5,6,s8y1)\n",
      "\n",
      "<block>:1:20-37: info: atom does not occur in any rule head:\n",
      "  ext_dep(5,6,s8y3)\n",
      "\n",
      "<block>:1:22-41: info: atom does not occur in any rule head:\n",
      "  ext_dep(5,6,s8y1y3)\n",
      "\n",
      "<block>:1:18-37: info: atom does not occur in any rule head:\n",
      "  ext_indep(5,6,s8y1)\n",
      "\n",
      "<block>:1:20-37: info: atom does not occur in any rule head:\n",
      "  ext_dep(5,6,s8y3)\n",
      "\n",
      "<block>:1:22-41: info: atom does not occur in any rule head:\n",
      "  ext_dep(5,6,s8y1y3)\n",
      "\n"
     ]
    },
    {
     "name": "stderr",
     "output_type": "stream",
     "text": [
      "<block>:1:18-37: info: atom does not occur in any rule head:\n",
      "  ext_indep(5,6,s8y1)\n",
      "\n",
      "<block>:1:20-37: info: atom does not occur in any rule head:\n",
      "  ext_dep(3,6,s8y1)\n",
      "\n",
      "<block>:1:22-41: info: atom does not occur in any rule head:\n",
      "  ext_dep(5,6,s8y1y3)\n",
      "\n"
     ]
    },
    {
     "name": "stderr",
     "output_type": "stream",
     "text": [
      "<block>:1:18-37: info: atom does not occur in any rule head:\n",
      "  ext_indep(5,6,s8y1)\n",
      "\n",
      "<block>:1:20-37: info: atom does not occur in any rule head:\n",
      "  ext_dep(5,6,s8y3)\n",
      "\n",
      "<block>:1:22-41: info: atom does not occur in any rule head:\n",
      "  ext_dep(5,6,s8y1y3)\n",
      "\n"
     ]
    },
    {
     "name": "stderr",
     "output_type": "stream",
     "text": [
      "<block>:1:18-37: info: atom does not occur in any rule head:\n",
      "  ext_indep(5,6,s8y1)\n",
      "\n",
      "<block>:1:20-37: info: atom does not occur in any rule head:\n",
      "  ext_dep(3,6,s8y1)\n",
      "\n",
      "<block>:1:22-41: info: atom does not occur in any rule head:\n",
      "  ext_dep(5,6,s8y1y3)\n",
      "\n"
     ]
    },
    {
     "name": "stderr",
     "output_type": "stream",
     "text": [
      "<block>:1:18-37: info: atom does not occur in any rule head:\n",
      "  ext_indep(5,6,s8y1)\n",
      "\n",
      "<block>:1:20-37: info: atom does not occur in any rule head:\n",
      "  ext_dep(3,6,s8y1)\n",
      "\n",
      "<block>:1:22-41: info: atom does not occur in any rule head:\n",
      "  ext_dep(5,6,s8y1y3)\n",
      "\n"
     ]
    },
    {
     "name": "stderr",
     "output_type": "stream",
     "text": [
      "<block>:1:18-37: info: atom does not occur in any rule head:\n",
      "  ext_indep(5,6,s8y1)\n",
      "\n",
      "<block>:1:20-37: info: atom does not occur in any rule head:\n",
      "  ext_dep(3,6,s8y1)\n",
      "\n",
      "<block>:1:22-41: info: atom does not occur in any rule head:\n",
      "  ext_dep(5,6,s8y1y3)\n",
      "\n"
     ]
    },
    {
     "name": "stderr",
     "output_type": "stream",
     "text": [
      "<block>:1:18-37: info: atom does not occur in any rule head:\n",
      "  ext_indep(5,6,s8y1)\n",
      "\n",
      "<block>:1:20-37: info: atom does not occur in any rule head:\n",
      "  ext_dep(5,6,s8y3)\n",
      "\n",
      "<block>:1:22-41: info: atom does not occur in any rule head:\n",
      "  ext_dep(5,6,s8y1y3)\n",
      "\n"
     ]
    },
    {
     "name": "stderr",
     "output_type": "stream",
     "text": [
      "<block>:1:18-37: info: atom does not occur in any rule head:\n",
      "  ext_indep(5,6,s8y1)\n",
      "\n",
      "<block>:1:20-37: info: atom does not occur in any rule head:\n",
      "  ext_dep(3,6,s8y1)\n",
      "\n",
      "<block>:1:22-41: info: atom does not occur in any rule head:\n",
      "  ext_dep(5,6,s8y1y3)\n",
      "\n"
     ]
    },
    {
     "name": "stderr",
     "output_type": "stream",
     "text": [
      "<block>:1:18-37: info: atom does not occur in any rule head:\n",
      "  ext_indep(5,6,s8y1)\n",
      "\n",
      "<block>:1:20-37: info: atom does not occur in any rule head:\n",
      "  ext_dep(3,6,s8y1)\n",
      "\n",
      "<block>:1:22-41: info: atom does not occur in any rule head:\n",
      "  ext_dep(5,6,s8y1y3)\n",
      "\n"
     ]
    },
    {
     "name": "stderr",
     "output_type": "stream",
     "text": [
      "<block>:1:18-37: info: atom does not occur in any rule head:\n",
      "  ext_indep(5,6,s8y1)\n",
      "\n",
      "<block>:1:20-37: info: atom does not occur in any rule head:\n",
      "  ext_dep(5,6,s8y3)\n",
      "\n",
      "<block>:1:22-41: info: atom does not occur in any rule head:\n",
      "  ext_dep(5,6,s8y1y3)\n",
      "\n"
     ]
    },
    {
     "name": "stderr",
     "output_type": "stream",
     "text": [
      "<block>:1:18-37: info: atom does not occur in any rule head:\n",
      "  ext_indep(5,6,s8y1)\n",
      "\n",
      "<block>:1:20-37: info: atom does not occur in any rule head:\n",
      "  ext_dep(3,6,s8y1)\n",
      "\n",
      "<block>:1:22-41: info: atom does not occur in any rule head:\n",
      "  ext_dep(5,6,s8y1y3)\n",
      "\n"
     ]
    },
    {
     "name": "stderr",
     "output_type": "stream",
     "text": [
      "<block>:1:18-37: info: atom does not occur in any rule head:\n",
      "  ext_indep(5,6,s8y1)\n",
      "\n",
      "<block>:1:20-37: info: atom does not occur in any rule head:\n",
      "  ext_dep(1,6,s8y3)\n",
      "\n",
      "<block>:1:22-41: info: atom does not occur in any rule head:\n",
      "  ext_dep(5,6,s8y1y3)\n",
      "\n",
      "<block>:1:18-37: info: atom does not occur in any rule head:\n",
      "  ext_indep(5,6,s8y1)\n",
      "\n",
      "<block>:1:20-37: info: atom does not occur in any rule head:\n",
      "  ext_dep(5,6,s8y3)\n",
      "\n",
      "<block>:1:22-41: info: atom does not occur in any rule head:\n",
      "  ext_dep(5,6,s8y1y3)\n",
      "\n",
      "<block>:1:18-37: info: atom does not occur in any rule head:\n",
      "  ext_indep(5,6,s8y1)\n",
      "\n",
      "<block>:1:20-37: info: atom does not occur in any rule head:\n",
      "  ext_dep(3,6,s8y1)\n",
      "\n",
      "<block>:1:22-41: info: atom does not occur in any rule head:\n",
      "  ext_dep(5,6,s8y1y3)\n",
      "\n"
     ]
    },
    {
     "name": "stderr",
     "output_type": "stream",
     "text": [
      "<block>:1:18-37: info: atom does not occur in any rule head:\n",
      "  ext_indep(5,6,s8y1)\n",
      "\n",
      "<block>:1:20-37: info: atom does not occur in any rule head:\n",
      "  ext_dep(5,6,s8y3)\n",
      "\n",
      "<block>:1:22-41: info: atom does not occur in any rule head:\n",
      "  ext_dep(5,6,s8y1y3)\n",
      "\n",
      "<block>:1:18-37: info: atom does not occur in any rule head:\n",
      "  ext_indep(5,6,s8y1)\n",
      "\n",
      "<block>:1:20-37: info: atom does not occur in any rule head:\n",
      "  ext_dep(5,6,s8y3)\n",
      "\n",
      "<block>:1:22-41: info: atom does not occur in any rule head:\n",
      "  ext_dep(5,6,s8y1y3)\n",
      "\n"
     ]
    },
    {
     "name": "stderr",
     "output_type": "stream",
     "text": [
      "<block>:1:18-37: info: atom does not occur in any rule head:\n",
      "  ext_indep(5,6,s8y1)\n",
      "\n",
      "<block>:1:20-37: info: atom does not occur in any rule head:\n",
      "  ext_dep(5,6,s8y3)\n",
      "\n",
      "<block>:1:22-41: info: atom does not occur in any rule head:\n",
      "  ext_dep(5,6,s8y1y3)\n",
      "\n",
      "<block>:1:18-37: info: atom does not occur in any rule head:\n",
      "  ext_indep(5,6,s8y1)\n",
      "\n",
      "<block>:1:20-37: info: atom does not occur in any rule head:\n",
      "  ext_dep(3,6,s8y1)\n",
      "\n",
      "<block>:1:22-41: info: atom does not occur in any rule head:\n",
      "  ext_dep(5,6,s8y1y3)\n",
      "\n"
     ]
    },
    {
     "name": "stderr",
     "output_type": "stream",
     "text": [
      "<block>:1:18-37: info: atom does not occur in any rule head:\n",
      "  ext_indep(5,6,s8y1)\n",
      "\n",
      "<block>:1:20-37: info: atom does not occur in any rule head:\n",
      "  ext_dep(5,6,s8y3)\n",
      "\n",
      "<block>:1:22-41: info: atom does not occur in any rule head:\n",
      "  ext_dep(5,6,s8y1y3)\n",
      "\n"
     ]
    },
    {
     "name": "stderr",
     "output_type": "stream",
     "text": [
      "<block>:1:18-37: info: atom does not occur in any rule head:\n",
      "  ext_indep(5,6,s8y1)\n",
      "\n",
      "<block>:1:20-37: info: atom does not occur in any rule head:\n",
      "  ext_dep(3,6,s8y1)\n",
      "\n",
      "<block>:1:22-41: info: atom does not occur in any rule head:\n",
      "  ext_dep(5,6,s8y1y3)\n",
      "\n"
     ]
    },
    {
     "name": "stderr",
     "output_type": "stream",
     "text": [
      "<block>:1:18-37: info: atom does not occur in any rule head:\n",
      "  ext_indep(5,6,s8y1)\n",
      "\n",
      "<block>:1:20-37: info: atom does not occur in any rule head:\n",
      "  ext_dep(5,6,s8y3)\n",
      "\n",
      "<block>:1:22-41: info: atom does not occur in any rule head:\n",
      "  ext_dep(5,6,s8y1y3)\n",
      "\n"
     ]
    },
    {
     "name": "stderr",
     "output_type": "stream",
     "text": [
      "<block>:1:18-37: info: atom does not occur in any rule head:\n",
      "  ext_indep(5,6,s8y1)\n",
      "\n",
      "<block>:1:20-37: info: atom does not occur in any rule head:\n",
      "  ext_dep(5,6,s8y3)\n",
      "\n",
      "<block>:1:22-41: info: atom does not occur in any rule head:\n",
      "  ext_dep(5,6,s8y1y3)\n",
      "\n"
     ]
    },
    {
     "name": "stderr",
     "output_type": "stream",
     "text": [
      "<block>:1:18-37: info: atom does not occur in any rule head:\n",
      "  ext_indep(5,6,s8y1)\n",
      "\n",
      "<block>:1:20-37: info: atom does not occur in any rule head:\n",
      "  ext_dep(3,6,s8y1)\n",
      "\n",
      "<block>:1:22-41: info: atom does not occur in any rule head:\n",
      "  ext_dep(5,6,s8y1y3)\n",
      "\n"
     ]
    },
    {
     "name": "stderr",
     "output_type": "stream",
     "text": [
      "<block>:1:18-37: info: atom does not occur in any rule head:\n",
      "  ext_indep(5,6,s8y1)\n",
      "\n",
      "<block>:1:20-37: info: atom does not occur in any rule head:\n",
      "  ext_dep(3,6,s8y1)\n",
      "\n",
      "<block>:1:22-41: info: atom does not occur in any rule head:\n",
      "  ext_dep(5,6,s8y1y3)\n",
      "\n"
     ]
    },
    {
     "name": "stderr",
     "output_type": "stream",
     "text": [
      "<block>:1:18-37: info: atom does not occur in any rule head:\n",
      "  ext_indep(5,6,s8y1)\n",
      "\n",
      "<block>:1:20-37: info: atom does not occur in any rule head:\n",
      "  ext_dep(5,6,s8y3)\n",
      "\n",
      "<block>:1:22-41: info: atom does not occur in any rule head:\n",
      "  ext_dep(5,6,s8y1y3)\n",
      "\n"
     ]
    },
    {
     "name": "stderr",
     "output_type": "stream",
     "text": [
      "<block>:1:18-37: info: atom does not occur in any rule head:\n",
      "  ext_indep(5,6,s8y1)\n",
      "\n",
      "<block>:1:20-37: info: atom does not occur in any rule head:\n",
      "  ext_dep(3,6,s8y1)\n",
      "\n",
      "<block>:1:22-41: info: atom does not occur in any rule head:\n",
      "  ext_dep(5,6,s8y1y3)\n",
      "\n"
     ]
    },
    {
     "name": "stderr",
     "output_type": "stream",
     "text": [
      "<block>:1:18-37: info: atom does not occur in any rule head:\n",
      "  ext_indep(5,6,s8y1)\n",
      "\n",
      "<block>:1:20-37: info: atom does not occur in any rule head:\n",
      "  ext_dep(5,6,s8y3)\n",
      "\n",
      "<block>:1:22-41: info: atom does not occur in any rule head:\n",
      "  ext_dep(5,6,s8y1y3)\n",
      "\n"
     ]
    },
    {
     "name": "stderr",
     "output_type": "stream",
     "text": [
      "<block>:1:18-37: info: atom does not occur in any rule head:\n",
      "  ext_indep(5,6,s8y1)\n",
      "\n",
      "<block>:1:20-37: info: atom does not occur in any rule head:\n",
      "  ext_dep(3,6,s8y1)\n",
      "\n",
      "<block>:1:22-41: info: atom does not occur in any rule head:\n",
      "  ext_dep(5,6,s8y1y3)\n",
      "\n"
     ]
    },
    {
     "name": "stderr",
     "output_type": "stream",
     "text": [
      "<block>:1:18-37: info: atom does not occur in any rule head:\n",
      "  ext_indep(5,6,s8y1)\n",
      "\n",
      "<block>:1:20-37: info: atom does not occur in any rule head:\n",
      "  ext_dep(1,6,s8y3)\n",
      "\n",
      "<block>:1:22-41: info: atom does not occur in any rule head:\n",
      "  ext_dep(5,6,s8y1y3)\n",
      "\n",
      "<block>:1:18-37: info: atom does not occur in any rule head:\n",
      "  ext_indep(5,6,s8y1)\n",
      "\n",
      "<block>:1:20-37: info: atom does not occur in any rule head:\n",
      "  ext_dep(3,6,s8y1)\n",
      "\n",
      "<block>:1:22-41: info: atom does not occur in any rule head:\n",
      "  ext_dep(5,6,s8y1y3)\n",
      "\n",
      "<block>:1:18-37: info: atom does not occur in any rule head:\n",
      "  ext_indep(5,6,s8y1)\n",
      "\n",
      "<block>:1:20-37: info: atom does not occur in any rule head:\n",
      "  ext_dep(3,6,s8y1)\n",
      "\n",
      "<block>:1:22-41: info: atom does not occur in any rule head:\n",
      "  ext_dep(5,6,s8y1y3)\n",
      "\n"
     ]
    },
    {
     "name": "stderr",
     "output_type": "stream",
     "text": [
      "<block>:1:18-37: info: atom does not occur in any rule head:\n",
      "  ext_indep(5,6,s8y1)\n",
      "\n",
      "<block>:1:20-37: info: atom does not occur in any rule head:\n",
      "  ext_dep(3,6,s8y1)\n",
      "\n",
      "<block>:1:22-41: info: atom does not occur in any rule head:\n",
      "  ext_dep(5,6,s8y1y3)\n",
      "\n",
      "<block>:1:18-37: info: atom does not occur in any rule head:\n",
      "  ext_indep(5,6,s8y1)\n",
      "\n",
      "<block>:1:20-37: info: atom does not occur in any rule head:\n",
      "  ext_dep(1,6,s8y3)\n",
      "\n",
      "<block>:1:22-41: info: atom does not occur in any rule head:\n",
      "  ext_dep(5,6,s8y1y3)\n",
      "\n",
      "<block>:1:18-37: info: atom does not occur in any rule head:\n",
      "  ext_indep(5,6,s8y1)\n",
      "\n",
      "<block>:1:20-37: info: atom does not occur in any rule head:\n",
      "  ext_dep(3,6,s8y1)\n",
      "\n",
      "<block>:1:22-41: info: atom does not occur in any rule head:\n",
      "  ext_dep(5,6,s8y1y3)\n",
      "\n"
     ]
    },
    {
     "name": "stderr",
     "output_type": "stream",
     "text": [
      "<block>:1:18-37: info: atom does not occur in any rule head:\n",
      "  ext_indep(5,6,s8y1)\n",
      "\n",
      "<block>:1:20-37: info: atom does not occur in any rule head:\n",
      "  ext_dep(3,6,s8y1)\n",
      "\n",
      "<block>:1:22-41: info: atom does not occur in any rule head:\n",
      "  ext_dep(5,6,s8y1y3)\n",
      "\n",
      "<block>:1:18-37: info: atom does not occur in any rule head:\n",
      "  ext_indep(5,6,s8y1)\n",
      "\n",
      "<block>:1:20-37: info: atom does not occur in any rule head:\n",
      "  ext_dep(3,6,s8y1)\n",
      "\n",
      "<block>:1:22-41: info: atom does not occur in any rule head:\n",
      "  ext_dep(5,6,s8y1y3)\n",
      "\n"
     ]
    },
    {
     "name": "stderr",
     "output_type": "stream",
     "text": [
      "<block>:1:18-37: info: atom does not occur in any rule head:\n",
      "  ext_indep(5,6,s8y1)\n",
      "\n",
      "<block>:1:20-37: info: atom does not occur in any rule head:\n",
      "  ext_dep(5,6,s8y3)\n",
      "\n",
      "<block>:1:22-41: info: atom does not occur in any rule head:\n",
      "  ext_dep(5,6,s8y1y3)\n",
      "\n",
      "<block>:1:18-37: info: atom does not occur in any rule head:\n",
      "  ext_indep(5,6,s8y1)\n",
      "\n",
      "<block>:1:20-37: info: atom does not occur in any rule head:\n",
      "  ext_dep(5,6,s8y3)\n",
      "\n",
      "<block>:1:22-41: info: atom does not occur in any rule head:\n",
      "  ext_dep(5,6,s8y1y3)\n",
      "\n",
      "<block>:1:18-37: info: atom does not occur in any rule head:\n",
      "  ext_indep(5,6,s8y1)\n",
      "\n",
      "<block>:1:20-37: info: atom does not occur in any rule head:\n",
      "  ext_dep(5,6,s8y3)\n",
      "\n",
      "<block>:1:22-41: info: atom does not occur in any rule head:\n",
      "  ext_dep(5,6,s8y1y3)\n",
      "\n"
     ]
    },
    {
     "name": "stderr",
     "output_type": "stream",
     "text": [
      "<block>:1:18-37: info: atom does not occur in any rule head:\n",
      "  ext_indep(1,3,s8y6)\n",
      "\n",
      "<block>:1:20-37: info: atom does not occur in any rule head:\n",
      "  ext_dep(3,6,s8y1)\n",
      "\n",
      "<block>:1:22-41: info: atom does not occur in any rule head:\n",
      "  ext_dep(5,6,s8y1y3)\n",
      "\n",
      "<block>:1:18-37: info: atom does not occur in any rule head:\n",
      "  ext_indep(5,6,s8y1)\n",
      "\n",
      "<block>:1:20-37: info: atom does not occur in any rule head:\n",
      "  ext_dep(5,6,s8y3)\n",
      "\n",
      "<block>:1:22-41: info: atom does not occur in any rule head:\n",
      "  ext_dep(5,6,s8y1y3)\n",
      "\n"
     ]
    },
    {
     "name": "stderr",
     "output_type": "stream",
     "text": [
      "<block>:1:18-37: info: atom does not occur in any rule head:\n",
      "  ext_indep(5,6,s8y1)\n",
      "\n",
      "<block>:1:20-37: info: atom does not occur in any rule head:\n",
      "  ext_dep(3,6,s8y1)\n",
      "\n",
      "<block>:1:22-41: info: atom does not occur in any rule head:\n",
      "  ext_dep(5,6,s8y1y3)\n",
      "\n",
      "<block>:1:18-37: info: atom does not occur in any rule head:\n",
      "  ext_indep(5,6,s8y1)\n",
      "\n",
      "<block>:1:20-37: info: atom does not occur in any rule head:\n",
      "  ext_dep(5,6,s8y3)\n",
      "\n",
      "<block>:1:22-41: info: atom does not occur in any rule head:\n",
      "  ext_dep(5,6,s8y1y3)\n",
      "\n"
     ]
    },
    {
     "name": "stderr",
     "output_type": "stream",
     "text": [
      "<block>:1:18-37: info: atom does not occur in any rule head:\n",
      "  ext_indep(5,6,s8y1)\n",
      "\n",
      "<block>:1:20-37: info: atom does not occur in any rule head:\n",
      "  ext_dep(5,6,s8y3)\n",
      "\n",
      "<block>:1:22-41: info: atom does not occur in any rule head:\n",
      "  ext_dep(5,6,s8y1y3)\n",
      "\n"
     ]
    },
    {
     "name": "stderr",
     "output_type": "stream",
     "text": [
      "<block>:1:18-37: info: atom does not occur in any rule head:\n",
      "  ext_indep(1,3,s8y6)\n",
      "\n",
      "<block>:1:20-37: info: atom does not occur in any rule head:\n",
      "  ext_dep(3,6,s8y1)\n",
      "\n",
      "<block>:1:22-41: info: atom does not occur in any rule head:\n",
      "  ext_dep(5,6,s8y1y3)\n",
      "\n"
     ]
    },
    {
     "name": "stderr",
     "output_type": "stream",
     "text": [
      "<block>:1:18-37: info: atom does not occur in any rule head:\n",
      "  ext_indep(1,3,s8y6)\n",
      "\n",
      "<block>:1:20-37: info: atom does not occur in any rule head:\n",
      "  ext_dep(3,6,s8y1)\n",
      "\n",
      "<block>:1:22-41: info: atom does not occur in any rule head:\n",
      "  ext_dep(5,6,s8y1y3)\n",
      "\n"
     ]
    },
    {
     "name": "stderr",
     "output_type": "stream",
     "text": [
      "<block>:1:18-37: info: atom does not occur in any rule head:\n",
      "  ext_indep(1,3,s8y6)\n",
      "\n",
      "<block>:1:20-37: info: atom does not occur in any rule head:\n",
      "  ext_dep(3,6,s8y1)\n",
      "\n",
      "<block>:1:22-41: info: atom does not occur in any rule head:\n",
      "  ext_dep(5,6,s8y1y3)\n",
      "\n"
     ]
    },
    {
     "name": "stderr",
     "output_type": "stream",
     "text": [
      "<block>:1:18-37: info: atom does not occur in any rule head:\n",
      "  ext_indep(1,3,s8y6)\n",
      "\n",
      "<block>:1:20-37: info: atom does not occur in any rule head:\n",
      "  ext_dep(3,6,s8y1)\n",
      "\n",
      "<block>:1:22-41: info: atom does not occur in any rule head:\n",
      "  ext_dep(5,6,s8y1y3)\n",
      "\n"
     ]
    },
    {
     "name": "stderr",
     "output_type": "stream",
     "text": [
      "<block>:1:18-37: info: atom does not occur in any rule head:\n",
      "  ext_indep(1,3,s8y6)\n",
      "\n",
      "<block>:1:20-37: info: atom does not occur in any rule head:\n",
      "  ext_dep(3,6,s8y1)\n",
      "\n",
      "<block>:1:22-41: info: atom does not occur in any rule head:\n",
      "  ext_dep(5,6,s8y1y3)\n",
      "\n"
     ]
    },
    {
     "name": "stderr",
     "output_type": "stream",
     "text": [
      "<block>:1:18-37: info: atom does not occur in any rule head:\n",
      "  ext_indep(5,6,s8y1)\n",
      "\n",
      "<block>:1:20-37: info: atom does not occur in any rule head:\n",
      "  ext_dep(5,6,s8y3)\n",
      "\n",
      "<block>:1:22-41: info: atom does not occur in any rule head:\n",
      "  ext_dep(5,6,s8y1y3)\n",
      "\n"
     ]
    },
    {
     "name": "stderr",
     "output_type": "stream",
     "text": [
      "<block>:1:18-37: info: atom does not occur in any rule head:\n",
      "  ext_indep(1,3,s8y6)\n",
      "\n",
      "<block>:1:20-37: info: atom does not occur in any rule head:\n",
      "  ext_dep(3,6,s8y1)\n",
      "\n",
      "<block>:1:22-41: info: atom does not occur in any rule head:\n",
      "  ext_dep(5,6,s8y1y3)\n",
      "\n"
     ]
    },
    {
     "name": "stderr",
     "output_type": "stream",
     "text": [
      "<block>:1:18-37: info: atom does not occur in any rule head:\n",
      "  ext_indep(5,6,s8y1)\n",
      "\n",
      "<block>:1:20-37: info: atom does not occur in any rule head:\n",
      "  ext_dep(5,6,s8y3)\n",
      "\n",
      "<block>:1:22-41: info: atom does not occur in any rule head:\n",
      "  ext_dep(5,6,s8y1y3)\n",
      "\n"
     ]
    },
    {
     "name": "stderr",
     "output_type": "stream",
     "text": [
      "<block>:1:18-37: info: atom does not occur in any rule head:\n",
      "  ext_indep(1,3,s8y6)\n",
      "\n",
      "<block>:1:20-37: info: atom does not occur in any rule head:\n",
      "  ext_dep(3,6,s8y1)\n",
      "\n",
      "<block>:1:22-41: info: atom does not occur in any rule head:\n",
      "  ext_dep(5,6,s8y1y3)\n",
      "\n"
     ]
    },
    {
     "name": "stderr",
     "output_type": "stream",
     "text": [
      "<block>:1:18-37: info: atom does not occur in any rule head:\n",
      "  ext_indep(1,3,s8y6)\n",
      "\n",
      "<block>:1:20-37: info: atom does not occur in any rule head:\n",
      "  ext_dep(3,6,s8y1)\n",
      "\n",
      "<block>:1:22-41: info: atom does not occur in any rule head:\n",
      "  ext_dep(5,6,s8y1y3)\n",
      "\n"
     ]
    },
    {
     "name": "stderr",
     "output_type": "stream",
     "text": [
      "<block>:1:18-37: info: atom does not occur in any rule head:\n",
      "  ext_indep(1,3,s8y6)\n",
      "\n",
      "<block>:1:20-37: info: atom does not occur in any rule head:\n",
      "  ext_dep(3,6,s8y1)\n",
      "\n",
      "<block>:1:22-41: info: atom does not occur in any rule head:\n",
      "  ext_dep(5,6,s8y1y3)\n",
      "\n"
     ]
    },
    {
     "name": "stderr",
     "output_type": "stream",
     "text": [
      "<block>:1:18-37: info: atom does not occur in any rule head:\n",
      "  ext_indep(1,3,s8y6)\n",
      "\n",
      "<block>:1:20-37: info: atom does not occur in any rule head:\n",
      "  ext_dep(5,6,s8y3)\n",
      "\n",
      "<block>:1:22-41: info: atom does not occur in any rule head:\n",
      "  ext_dep(5,6,s8y1y3)\n",
      "\n"
     ]
    },
    {
     "name": "stderr",
     "output_type": "stream",
     "text": [
      "<block>:1:18-37: info: atom does not occur in any rule head:\n",
      "  ext_indep(1,3,s8y6)\n",
      "\n",
      "<block>:1:20-37: info: atom does not occur in any rule head:\n",
      "  ext_dep(3,6,s8y1)\n",
      "\n",
      "<block>:1:22-41: info: atom does not occur in any rule head:\n",
      "  ext_dep(5,6,s8y1y3)\n",
      "\n"
     ]
    },
    {
     "name": "stderr",
     "output_type": "stream",
     "text": [
      "<block>:1:18-37: info: atom does not occur in any rule head:\n",
      "  ext_indep(5,6,s8y1)\n",
      "\n",
      "<block>:1:20-37: info: atom does not occur in any rule head:\n",
      "  ext_dep(5,6,s8y3)\n",
      "\n",
      "<block>:1:22-41: info: atom does not occur in any rule head:\n",
      "  ext_dep(5,6,s8y1y3)\n",
      "\n",
      "<block>:1:18-37: info: atom does not occur in any rule head:\n",
      "  ext_indep(5,6,s8y1)\n",
      "\n",
      "<block>:1:20-37: info: atom does not occur in any rule head:\n",
      "  ext_dep(5,6,s8y3)\n",
      "\n",
      "<block>:1:22-41: info: atom does not occur in any rule head:\n",
      "  ext_dep(5,6,s8y1y3)\n",
      "\n",
      "<block>:1:18-37: info: atom does not occur in any rule head:\n",
      "  ext_indep(1,3,s8y6)\n",
      "\n",
      "<block>:1:20-37: info: atom does not occur in any rule head:\n",
      "  ext_dep(3,6,s8y1)\n",
      "\n",
      "<block>:1:22-41: info: atom does not occur in any rule head:\n",
      "  ext_dep(5,6,s8y1y3)\n",
      "\n"
     ]
    },
    {
     "name": "stderr",
     "output_type": "stream",
     "text": [
      "<block>:1:18-37: info: atom does not occur in any rule head:\n",
      "  ext_indep(1,3,s8y6)\n",
      "\n",
      "<block>:1:20-37: info: atom does not occur in any rule head:\n",
      "  ext_dep(3,6,s8y1)\n",
      "\n",
      "<block>:1:22-41: info: atom does not occur in any rule head:\n",
      "  ext_dep(5,6,s8y1y3)\n",
      "\n",
      "<block>:1:18-37: info: atom does not occur in any rule head:\n",
      "  ext_indep(1,3,s8y6)\n",
      "\n",
      "<block>:1:20-37: info: atom does not occur in any rule head:\n",
      "  ext_dep(5,6,s8y3)\n",
      "\n",
      "<block>:1:22-41: info: atom does not occur in any rule head:\n",
      "  ext_dep(5,6,s8y1y3)\n",
      "\n"
     ]
    },
    {
     "name": "stderr",
     "output_type": "stream",
     "text": [
      "<block>:1:18-37: info: atom does not occur in any rule head:\n",
      "  ext_indep(5,6,s8y1)\n",
      "\n",
      "<block>:1:20-37: info: atom does not occur in any rule head:\n",
      "  ext_dep(1,6,s8y3)\n",
      "\n",
      "<block>:1:22-41: info: atom does not occur in any rule head:\n",
      "  ext_dep(5,6,s8y1y3)\n",
      "\n",
      "<block>:1:18-37: info: atom does not occur in any rule head:\n",
      "  ext_indep(1,3,s8y6)\n",
      "\n",
      "<block>:1:20-37: info: atom does not occur in any rule head:\n",
      "  ext_dep(3,6,s8y1)\n",
      "\n",
      "<block>:1:22-41: info: atom does not occur in any rule head:\n",
      "  ext_dep(5,6,s8y1y3)\n",
      "\n"
     ]
    },
    {
     "name": "stderr",
     "output_type": "stream",
     "text": [
      "<block>:1:18-37: info: atom does not occur in any rule head:\n",
      "  ext_indep(1,3,s8y6)\n",
      "\n",
      "<block>:1:20-37: info: atom does not occur in any rule head:\n",
      "  ext_dep(5,6,s8y3)\n",
      "\n",
      "<block>:1:22-41: info: atom does not occur in any rule head:\n",
      "  ext_dep(5,6,s8y1y3)\n",
      "\n"
     ]
    },
    {
     "name": "stderr",
     "output_type": "stream",
     "text": [
      "<block>:1:18-37: info: atom does not occur in any rule head:\n",
      "  ext_indep(1,3,s8y6)\n",
      "\n",
      "<block>:1:20-37: info: atom does not occur in any rule head:\n",
      "  ext_dep(3,6,s8y1)\n",
      "\n",
      "<block>:1:22-41: info: atom does not occur in any rule head:\n",
      "  ext_dep(5,6,s8y1y3)\n",
      "\n"
     ]
    },
    {
     "name": "stderr",
     "output_type": "stream",
     "text": [
      "<block>:1:18-37: info: atom does not occur in any rule head:\n",
      "  ext_indep(1,3,s8y6)\n",
      "\n",
      "<block>:1:20-37: info: atom does not occur in any rule head:\n",
      "  ext_dep(3,6,s8y1)\n",
      "\n",
      "<block>:1:22-41: info: atom does not occur in any rule head:\n",
      "  ext_dep(5,6,s8y1y3)\n",
      "\n"
     ]
    },
    {
     "name": "stderr",
     "output_type": "stream",
     "text": [
      "<block>:1:18-37: info: atom does not occur in any rule head:\n",
      "  ext_indep(1,3,s8y6)\n",
      "\n",
      "<block>:1:20-37: info: atom does not occur in any rule head:\n",
      "  ext_dep(3,6,s8y1)\n",
      "\n",
      "<block>:1:22-41: info: atom does not occur in any rule head:\n",
      "  ext_dep(5,6,s8y1y3)\n",
      "\n"
     ]
    },
    {
     "name": "stderr",
     "output_type": "stream",
     "text": [
      "<block>:1:18-37: info: atom does not occur in any rule head:\n",
      "  ext_indep(1,3,s8y6)\n",
      "\n",
      "<block>:1:20-37: info: atom does not occur in any rule head:\n",
      "  ext_dep(3,6,s8y1)\n",
      "\n",
      "<block>:1:22-41: info: atom does not occur in any rule head:\n",
      "  ext_dep(5,6,s8y1y3)\n",
      "\n"
     ]
    },
    {
     "name": "stderr",
     "output_type": "stream",
     "text": [
      "<block>:1:18-37: info: atom does not occur in any rule head:\n",
      "  ext_indep(1,3,s8y6)\n",
      "\n",
      "<block>:1:20-37: info: atom does not occur in any rule head:\n",
      "  ext_dep(3,6,s8y1)\n",
      "\n",
      "<block>:1:22-41: info: atom does not occur in any rule head:\n",
      "  ext_dep(5,6,s8y1y3)\n",
      "\n"
     ]
    },
    {
     "name": "stderr",
     "output_type": "stream",
     "text": [
      "<block>:1:18-37: info: atom does not occur in any rule head:\n",
      "  ext_indep(1,3,s8y6)\n",
      "\n",
      "<block>:1:20-37: info: atom does not occur in any rule head:\n",
      "  ext_dep(3,6,s8y1)\n",
      "\n",
      "<block>:1:22-41: info: atom does not occur in any rule head:\n",
      "  ext_dep(5,6,s8y1y3)\n",
      "\n"
     ]
    },
    {
     "name": "stderr",
     "output_type": "stream",
     "text": [
      "<block>:1:18-37: info: atom does not occur in any rule head:\n",
      "  ext_indep(5,6,s8y1)\n",
      "\n",
      "<block>:1:20-37: info: atom does not occur in any rule head:\n",
      "  ext_dep(5,6,s8y3)\n",
      "\n",
      "<block>:1:22-41: info: atom does not occur in any rule head:\n",
      "  ext_dep(5,6,s8y1y3)\n",
      "\n"
     ]
    },
    {
     "name": "stderr",
     "output_type": "stream",
     "text": [
      "<block>:1:18-37: info: atom does not occur in any rule head:\n",
      "  ext_indep(1,3,s8y6)\n",
      "\n",
      "<block>:1:20-37: info: atom does not occur in any rule head:\n",
      "  ext_dep(3,6,s8y1)\n",
      "\n",
      "<block>:1:22-41: info: atom does not occur in any rule head:\n",
      "  ext_dep(5,6,s8y1y3)\n",
      "\n"
     ]
    },
    {
     "name": "stderr",
     "output_type": "stream",
     "text": [
      "<block>:1:18-37: info: atom does not occur in any rule head:\n",
      "  ext_indep(5,6,s8y1)\n",
      "\n",
      "<block>:1:20-37: info: atom does not occur in any rule head:\n",
      "  ext_dep(5,6,s8y3)\n",
      "\n",
      "<block>:1:22-41: info: atom does not occur in any rule head:\n",
      "  ext_dep(5,6,s8y1y3)\n",
      "\n"
     ]
    },
    {
     "name": "stderr",
     "output_type": "stream",
     "text": [
      "<block>:1:18-37: info: atom does not occur in any rule head:\n",
      "  ext_indep(1,3,s8y6)\n",
      "\n",
      "<block>:1:20-37: info: atom does not occur in any rule head:\n",
      "  ext_dep(3,6,s8y1)\n",
      "\n",
      "<block>:1:22-41: info: atom does not occur in any rule head:\n",
      "  ext_dep(5,6,s8y1y3)\n",
      "\n"
     ]
    },
    {
     "name": "stderr",
     "output_type": "stream",
     "text": [
      "<block>:1:18-37: info: atom does not occur in any rule head:\n",
      "  ext_indep(1,3,s8y6)\n",
      "\n",
      "<block>:1:20-37: info: atom does not occur in any rule head:\n",
      "  ext_dep(3,6,s8y1)\n",
      "\n",
      "<block>:1:22-41: info: atom does not occur in any rule head:\n",
      "  ext_dep(5,6,s8y1y3)\n",
      "\n"
     ]
    },
    {
     "name": "stderr",
     "output_type": "stream",
     "text": [
      "<block>:1:18-37: info: atom does not occur in any rule head:\n",
      "  ext_indep(1,3,s8y6)\n",
      "\n",
      "<block>:1:20-37: info: atom does not occur in any rule head:\n",
      "  ext_dep(5,6,s8y3)\n",
      "\n",
      "<block>:1:22-41: info: atom does not occur in any rule head:\n",
      "  ext_dep(5,6,s8y1y3)\n",
      "\n"
     ]
    },
    {
     "name": "stderr",
     "output_type": "stream",
     "text": [
      "<block>:1:18-37: info: atom does not occur in any rule head:\n",
      "  ext_indep(1,3,s8y6)\n",
      "\n",
      "<block>:1:20-37: info: atom does not occur in any rule head:\n",
      "  ext_dep(3,6,s8y1)\n",
      "\n",
      "<block>:1:22-41: info: atom does not occur in any rule head:\n",
      "  ext_dep(5,6,s8y1y3)\n",
      "\n"
     ]
    },
    {
     "name": "stderr",
     "output_type": "stream",
     "text": [
      "<block>:1:18-37: info: atom does not occur in any rule head:\n",
      "  ext_indep(5,6,s8y1)\n",
      "\n",
      "<block>:1:20-37: info: atom does not occur in any rule head:\n",
      "  ext_dep(5,6,s8y3)\n",
      "\n",
      "<block>:1:22-41: info: atom does not occur in any rule head:\n",
      "  ext_dep(5,6,s8y1y3)\n",
      "\n",
      "<block>:1:18-37: info: atom does not occur in any rule head:\n",
      "  ext_indep(5,6,s8y1)\n",
      "\n",
      "<block>:1:20-37: info: atom does not occur in any rule head:\n",
      "  ext_dep(5,6,s8y3)\n",
      "\n",
      "<block>:1:22-41: info: atom does not occur in any rule head:\n",
      "  ext_dep(5,6,s8y1y3)\n",
      "\n",
      "<block>:1:18-37: info: atom does not occur in any rule head:\n",
      "  ext_indep(5,6,s8y1)\n",
      "\n",
      "<block>:1:20-37: info: atom does not occur in any rule head:\n",
      "  ext_dep(5,6,s8y3)\n",
      "\n",
      "<block>:1:22-41: info: atom does not occur in any rule head:\n",
      "  ext_dep(5,6,s8y1y3)\n",
      "\n"
     ]
    },
    {
     "name": "stderr",
     "output_type": "stream",
     "text": [
      "<block>:1:18-37: info: atom does not occur in any rule head:\n",
      "  ext_indep(5,6,s8y1)\n",
      "\n",
      "<block>:1:20-37: info: atom does not occur in any rule head:\n",
      "  ext_dep(5,6,s8y3)\n",
      "\n",
      "<block>:1:22-41: info: atom does not occur in any rule head:\n",
      "  ext_dep(5,6,s8y1y3)\n",
      "\n",
      "<block>:1:18-37: info: atom does not occur in any rule head:\n",
      "  ext_indep(5,6,s8y1)\n",
      "\n",
      "<block>:1:20-37: info: atom does not occur in any rule head:\n",
      "  ext_dep(1,6,s8y3)\n",
      "\n",
      "<block>:1:22-41: info: atom does not occur in any rule head:\n",
      "  ext_dep(5,6,s8y1y3)\n",
      "\n"
     ]
    },
    {
     "name": "stderr",
     "output_type": "stream",
     "text": [
      "<block>:1:18-37: info: atom does not occur in any rule head:\n",
      "  ext_indep(5,6,s8y1)\n",
      "\n",
      "<block>:1:20-37: info: atom does not occur in any rule head:\n",
      "  ext_dep(5,6,s8y3)\n",
      "\n",
      "<block>:1:22-41: info: atom does not occur in any rule head:\n",
      "  ext_dep(5,6,s8y1y3)\n",
      "\n",
      "<block>:1:18-37: info: atom does not occur in any rule head:\n",
      "  ext_indep(5,6,s8y1)\n",
      "\n",
      "<block>:1:20-37: info: atom does not occur in any rule head:\n",
      "  ext_dep(5,6,s8y3)\n",
      "\n",
      "<block>:1:22-41: info: atom does not occur in any rule head:\n",
      "  ext_dep(5,6,s8y1y3)\n",
      "\n",
      "<block>:1:18-37: info: atom does not occur in any rule head:\n",
      "  ext_indep(5,6,s8y1)\n",
      "\n",
      "<block>:1:20-37: info: atom does not occur in any rule head:\n",
      "  ext_dep(5,6,s8y3)\n",
      "\n",
      "<block>:1:22-41: info: atom does not occur in any rule head:\n",
      "  ext_dep(5,6,s8y1y3)\n",
      "\n"
     ]
    },
    {
     "name": "stderr",
     "output_type": "stream",
     "text": [
      "<block>:1:18-37: info: atom does not occur in any rule head:\n",
      "  ext_indep(5,6,s8y1)\n",
      "\n",
      "<block>:1:20-37: info: atom does not occur in any rule head:\n",
      "  ext_dep(5,6,s8y3)\n",
      "\n",
      "<block>:1:22-41: info: atom does not occur in any rule head:\n",
      "  ext_dep(5,6,s8y1y3)\n",
      "\n",
      "<block>:1:18-37: info: atom does not occur in any rule head:\n",
      "  ext_indep(5,6,s8y1)\n",
      "\n",
      "<block>:1:20-37: info: atom does not occur in any rule head:\n",
      "  ext_dep(3,6,s8y1)\n",
      "\n",
      "<block>:1:22-41: info: atom does not occur in any rule head:\n",
      "  ext_dep(5,6,s8y1y3)\n",
      "\n"
     ]
    },
    {
     "name": "stderr",
     "output_type": "stream",
     "text": [
      "<block>:1:18-37: info: atom does not occur in any rule head:\n",
      "  ext_indep(5,6,s8y1)\n",
      "\n",
      "<block>:1:20-37: info: atom does not occur in any rule head:\n",
      "  ext_dep(3,6,s8y1)\n",
      "\n",
      "<block>:1:22-41: info: atom does not occur in any rule head:\n",
      "  ext_dep(5,6,s8y1y3)\n",
      "\n",
      "<block>:1:18-37: info: atom does not occur in any rule head:\n",
      "  ext_indep(5,6,s8y1)\n",
      "\n",
      "<block>:1:20-37: info: atom does not occur in any rule head:\n",
      "  ext_dep(3,6,s8y1)\n",
      "\n",
      "<block>:1:22-41: info: atom does not occur in any rule head:\n",
      "  ext_dep(5,6,s8y1y3)\n",
      "\n"
     ]
    },
    {
     "name": "stderr",
     "output_type": "stream",
     "text": [
      "<block>:1:18-37: info: atom does not occur in any rule head:\n",
      "  ext_indep(5,6,s8y1)\n",
      "\n",
      "<block>:1:20-37: info: atom does not occur in any rule head:\n",
      "  ext_dep(3,6,s8y1)\n",
      "\n",
      "<block>:1:22-41: info: atom does not occur in any rule head:\n",
      "  ext_dep(5,6,s8y1y3)\n",
      "\n",
      "<block>:1:18-37: info: atom does not occur in any rule head:\n",
      "  ext_indep(5,6,s8y1)\n",
      "\n",
      "<block>:1:20-37: info: atom does not occur in any rule head:\n",
      "  ext_dep(3,6,s8y1)\n",
      "\n",
      "<block>:1:22-41: info: atom does not occur in any rule head:\n",
      "  ext_dep(5,6,s8y1y3)\n",
      "\n"
     ]
    },
    {
     "name": "stderr",
     "output_type": "stream",
     "text": [
      "<block>:1:18-37: info: atom does not occur in any rule head:\n",
      "  ext_indep(5,6,s8y1)\n",
      "\n",
      "<block>:1:20-37: info: atom does not occur in any rule head:\n",
      "  ext_dep(3,6,s8y1)\n",
      "\n",
      "<block>:1:22-41: info: atom does not occur in any rule head:\n",
      "  ext_dep(5,6,s8y1y3)\n",
      "\n",
      "<block>:1:18-37: info: atom does not occur in any rule head:\n",
      "  ext_indep(5,6,s8y1)\n",
      "\n",
      "<block>:1:20-37: info: atom does not occur in any rule head:\n",
      "  ext_dep(5,6,s8y3)\n",
      "\n",
      "<block>:1:22-41: info: atom does not occur in any rule head:\n",
      "  ext_dep(5,6,s8y1y3)\n",
      "\n"
     ]
    },
    {
     "name": "stderr",
     "output_type": "stream",
     "text": [
      "<block>:1:18-37: info: atom does not occur in any rule head:\n",
      "  ext_indep(5,6,s8y1)\n",
      "\n",
      "<block>:1:20-37: info: atom does not occur in any rule head:\n",
      "  ext_dep(3,6,s8y1)\n",
      "\n",
      "<block>:1:22-41: info: atom does not occur in any rule head:\n",
      "  ext_dep(5,6,s8y1y3)\n",
      "\n"
     ]
    },
    {
     "name": "stderr",
     "output_type": "stream",
     "text": [
      "<block>:1:18-37: info: atom does not occur in any rule head:\n",
      "  ext_indep(5,6,s8y1)\n",
      "\n",
      "<block>:1:20-37: info: atom does not occur in any rule head:\n",
      "  ext_dep(5,6,s8y3)\n",
      "\n",
      "<block>:1:22-41: info: atom does not occur in any rule head:\n",
      "  ext_dep(5,6,s8y1y3)\n",
      "\n"
     ]
    },
    {
     "name": "stderr",
     "output_type": "stream",
     "text": [
      "<block>:1:18-37: info: atom does not occur in any rule head:\n",
      "  ext_indep(5,6,s8y1)\n",
      "\n",
      "<block>:1:20-37: info: atom does not occur in any rule head:\n",
      "  ext_dep(5,6,s8y3)\n",
      "\n",
      "<block>:1:22-41: info: atom does not occur in any rule head:\n",
      "  ext_dep(5,6,s8y1y3)\n",
      "\n"
     ]
    },
    {
     "name": "stderr",
     "output_type": "stream",
     "text": [
      "<block>:1:18-37: info: atom does not occur in any rule head:\n",
      "  ext_indep(5,6,s8y1)\n",
      "\n",
      "<block>:1:20-37: info: atom does not occur in any rule head:\n",
      "  ext_dep(5,6,s8y3)\n",
      "\n",
      "<block>:1:22-41: info: atom does not occur in any rule head:\n",
      "  ext_dep(5,6,s8y1y3)\n",
      "\n"
     ]
    },
    {
     "name": "stderr",
     "output_type": "stream",
     "text": [
      "<block>:1:18-37: info: atom does not occur in any rule head:\n",
      "  ext_indep(5,6,s8y1)\n",
      "\n",
      "<block>:1:20-37: info: atom does not occur in any rule head:\n",
      "  ext_dep(1,6,s8y3)\n",
      "\n",
      "<block>:1:22-41: info: atom does not occur in any rule head:\n",
      "  ext_dep(5,6,s8y1y3)\n",
      "\n",
      "<block>:1:18-37: info: atom does not occur in any rule head:\n",
      "  ext_indep(5,6,s8y1)\n",
      "\n",
      "<block>:1:20-37: info: atom does not occur in any rule head:\n",
      "  ext_dep(5,6,s8y3)\n",
      "\n",
      "<block>:1:22-41: info: atom does not occur in any rule head:\n",
      "  ext_dep(5,6,s8y1y3)\n",
      "\n",
      "<block>:1:18-37: info: atom does not occur in any rule head:\n",
      "  ext_indep(5,6,s8y1)\n",
      "\n",
      "<block>:1:20-37: info: atom does not occur in any rule head:\n",
      "  ext_dep(5,6,s8y3)\n",
      "\n",
      "<block>:1:22-41: info: atom does not occur in any rule head:\n",
      "  ext_dep(5,6,s8y1y3)\n",
      "\n"
     ]
    },
    {
     "name": "stderr",
     "output_type": "stream",
     "text": [
      "<block>:1:18-37: info: atom does not occur in any rule head:\n",
      "  ext_indep(5,6,s8y1)\n",
      "\n",
      "<block>:1:20-37: info: atom does not occur in any rule head:\n",
      "  ext_dep(5,6,s8y3)\n",
      "\n",
      "<block>:1:22-41: info: atom does not occur in any rule head:\n",
      "  ext_dep(5,6,s8y1y3)\n",
      "\n",
      "<block>:1:18-37: info: atom does not occur in any rule head:\n",
      "  ext_indep(5,6,s8y1)\n",
      "\n",
      "<block>:1:20-37: info: atom does not occur in any rule head:\n",
      "  ext_dep(1,6,s8y3)\n",
      "\n",
      "<block>:1:22-41: info: atom does not occur in any rule head:\n",
      "  ext_dep(5,6,s8y1y3)\n",
      "\n"
     ]
    },
    {
     "name": "stderr",
     "output_type": "stream",
     "text": [
      "<block>:1:18-37: info: atom does not occur in any rule head:\n",
      "  ext_indep(5,6,s8y1)\n",
      "\n",
      "<block>:1:20-37: info: atom does not occur in any rule head:\n",
      "  ext_dep(3,6,s8y1)\n",
      "\n",
      "<block>:1:22-41: info: atom does not occur in any rule head:\n",
      "  ext_dep(5,6,s8y1y3)\n",
      "\n"
     ]
    },
    {
     "name": "stderr",
     "output_type": "stream",
     "text": [
      "<block>:1:18-37: info: atom does not occur in any rule head:\n",
      "  ext_indep(5,6,s8y1)\n",
      "\n",
      "<block>:1:20-37: info: atom does not occur in any rule head:\n",
      "  ext_dep(5,6,s8y3)\n",
      "\n",
      "<block>:1:22-41: info: atom does not occur in any rule head:\n",
      "  ext_dep(5,6,s8y1y3)\n",
      "\n"
     ]
    },
    {
     "name": "stderr",
     "output_type": "stream",
     "text": [
      "<block>:1:18-37: info: atom does not occur in any rule head:\n",
      "  ext_indep(5,6,s8y1)\n",
      "\n",
      "<block>:1:20-37: info: atom does not occur in any rule head:\n",
      "  ext_dep(5,6,s8y3)\n",
      "\n",
      "<block>:1:22-41: info: atom does not occur in any rule head:\n",
      "  ext_dep(5,6,s8y1y3)\n",
      "\n"
     ]
    },
    {
     "name": "stderr",
     "output_type": "stream",
     "text": [
      "<block>:1:18-37: info: atom does not occur in any rule head:\n",
      "  ext_indep(5,6,s8y1)\n",
      "\n",
      "<block>:1:20-37: info: atom does not occur in any rule head:\n",
      "  ext_dep(5,6,s8y3)\n",
      "\n",
      "<block>:1:22-41: info: atom does not occur in any rule head:\n",
      "  ext_dep(5,6,s8y1y3)\n",
      "\n"
     ]
    },
    {
     "name": "stderr",
     "output_type": "stream",
     "text": [
      "<block>:1:18-37: info: atom does not occur in any rule head:\n",
      "  ext_indep(5,6,s8y1)\n",
      "\n",
      "<block>:1:20-37: info: atom does not occur in any rule head:\n",
      "  ext_dep(1,6,s8y3)\n",
      "\n",
      "<block>:1:22-41: info: atom does not occur in any rule head:\n",
      "  ext_dep(5,6,s8y1y3)\n",
      "\n"
     ]
    },
    {
     "name": "stderr",
     "output_type": "stream",
     "text": [
      "<block>:1:18-37: info: atom does not occur in any rule head:\n",
      "  ext_indep(5,6,s8y1)\n",
      "\n",
      "<block>:1:20-37: info: atom does not occur in any rule head:\n",
      "  ext_dep(5,6,s8y3)\n",
      "\n",
      "<block>:1:22-41: info: atom does not occur in any rule head:\n",
      "  ext_dep(5,6,s8y1y3)\n",
      "\n"
     ]
    },
    {
     "name": "stderr",
     "output_type": "stream",
     "text": [
      "<block>:1:18-37: info: atom does not occur in any rule head:\n",
      "  ext_indep(5,6,s8y1)\n",
      "\n",
      "<block>:1:20-37: info: atom does not occur in any rule head:\n",
      "  ext_dep(5,6,s8y3)\n",
      "\n",
      "<block>:1:22-41: info: atom does not occur in any rule head:\n",
      "  ext_dep(5,6,s8y1y3)\n",
      "\n"
     ]
    },
    {
     "name": "stderr",
     "output_type": "stream",
     "text": [
      "<block>:1:18-37: info: atom does not occur in any rule head:\n",
      "  ext_indep(5,6,s8y1)\n",
      "\n",
      "<block>:1:20-37: info: atom does not occur in any rule head:\n",
      "  ext_dep(5,6,s8y3)\n",
      "\n",
      "<block>:1:22-41: info: atom does not occur in any rule head:\n",
      "  ext_dep(5,6,s8y1y3)\n",
      "\n"
     ]
    },
    {
     "name": "stderr",
     "output_type": "stream",
     "text": [
      "<block>:1:18-37: info: atom does not occur in any rule head:\n",
      "  ext_indep(5,6,s8y1)\n",
      "\n",
      "<block>:1:20-37: info: atom does not occur in any rule head:\n",
      "  ext_dep(5,6,s8y3)\n",
      "\n",
      "<block>:1:22-41: info: atom does not occur in any rule head:\n",
      "  ext_dep(5,6,s8y1y3)\n",
      "\n"
     ]
    },
    {
     "name": "stderr",
     "output_type": "stream",
     "text": [
      "<block>:1:18-37: info: atom does not occur in any rule head:\n",
      "  ext_indep(5,6,s8y1)\n",
      "\n",
      "<block>:1:20-37: info: atom does not occur in any rule head:\n",
      "  ext_dep(3,6,s8y1)\n",
      "\n",
      "<block>:1:22-41: info: atom does not occur in any rule head:\n",
      "  ext_dep(5,6,s8y1y3)\n",
      "\n"
     ]
    },
    {
     "name": "stderr",
     "output_type": "stream",
     "text": [
      "<block>:1:18-37: info: atom does not occur in any rule head:\n",
      "  ext_indep(5,6,s8y1)\n",
      "\n",
      "<block>:1:20-37: info: atom does not occur in any rule head:\n",
      "  ext_dep(5,6,s8y3)\n",
      "\n",
      "<block>:1:22-41: info: atom does not occur in any rule head:\n",
      "  ext_dep(5,6,s8y1y3)\n",
      "\n"
     ]
    },
    {
     "name": "stderr",
     "output_type": "stream",
     "text": [
      "<block>:1:18-37: info: atom does not occur in any rule head:\n",
      "  ext_indep(1,3,s8y6)\n",
      "\n",
      "<block>:1:20-37: info: atom does not occur in any rule head:\n",
      "  ext_dep(1,6,s8y3)\n",
      "\n",
      "<block>:1:22-41: info: atom does not occur in any rule head:\n",
      "  ext_dep(5,6,s8y1y3)\n",
      "\n",
      "<block>:1:18-37: info: atom does not occur in any rule head:\n",
      "  ext_indep(1,3,s8y6)\n",
      "\n",
      "<block>:1:20-37: info: atom does not occur in any rule head:\n",
      "  ext_dep(1,6,s8y3)\n",
      "\n",
      "<block>:1:22-41: info: atom does not occur in any rule head:\n",
      "  ext_dep(5,6,s8y1y3)\n",
      "\n",
      "<block>:1:18-37: info: atom does not occur in any rule head:\n",
      "  ext_indep(1,3,s8y6)\n",
      "\n",
      "<block>:1:20-37: info: atom does not occur in any rule head:\n",
      "  ext_dep(1,6,s8y3)\n",
      "\n",
      "<block>:1:22-41: info: atom does not occur in any rule head:\n",
      "  ext_dep(5,6,s8y1y3)\n",
      "\n"
     ]
    },
    {
     "name": "stderr",
     "output_type": "stream",
     "text": [
      "<block>:1:18-37: info: atom does not occur in any rule head:\n",
      "  ext_indep(1,3,s8y6)\n",
      "\n",
      "<block>:1:20-37: info: atom does not occur in any rule head:\n",
      "  ext_dep(1,6,s8y3)\n",
      "\n",
      "<block>:1:22-41: info: atom does not occur in any rule head:\n",
      "  ext_dep(5,6,s8y1y3)\n",
      "\n",
      "<block>:1:18-37: info: atom does not occur in any rule head:\n",
      "  ext_indep(1,3,s8y6)\n",
      "\n",
      "<block>:1:20-37: info: atom does not occur in any rule head:\n",
      "  ext_dep(1,6,s8y3)\n",
      "\n",
      "<block>:1:22-41: info: atom does not occur in any rule head:\n",
      "  ext_dep(5,6,s8y1y3)\n",
      "\n",
      "<block>:1:18-37: info: atom does not occur in any rule head:\n",
      "  ext_indep(1,3,s8y6)\n",
      "\n",
      "<block>:1:20-37: info: atom does not occur in any rule head:\n",
      "  ext_dep(1,6,s8y3)\n",
      "\n",
      "<block>:1:22-41: info: atom does not occur in any rule head:\n",
      "  ext_dep(5,6,s8y1y3)\n",
      "\n"
     ]
    },
    {
     "name": "stderr",
     "output_type": "stream",
     "text": [
      "<block>:1:18-37: info: atom does not occur in any rule head:\n",
      "  ext_indep(5,6,s8y1)\n",
      "\n",
      "<block>:1:20-37: info: atom does not occur in any rule head:\n",
      "  ext_dep(5,6,s8y3)\n",
      "\n",
      "<block>:1:22-41: info: atom does not occur in any rule head:\n",
      "  ext_dep(5,6,s8y1y3)\n",
      "\n",
      "<block>:1:18-37: info: atom does not occur in any rule head:\n",
      "  ext_indep(5,6,s8y1)\n",
      "\n",
      "<block>:1:20-37: info: atom does not occur in any rule head:\n",
      "  ext_dep(1,6,s8y3)\n",
      "\n",
      "<block>:1:22-41: info: atom does not occur in any rule head:\n",
      "  ext_dep(5,6,s8y1y3)\n",
      "\n"
     ]
    },
    {
     "name": "stderr",
     "output_type": "stream",
     "text": [
      "<block>:1:18-37: info: atom does not occur in any rule head:\n",
      "  ext_indep(5,6,s8y1)\n",
      "\n",
      "<block>:1:20-37: info: atom does not occur in any rule head:\n",
      "  ext_dep(3,6,s8y1)\n",
      "\n",
      "<block>:1:22-41: info: atom does not occur in any rule head:\n",
      "  ext_dep(5,6,s8y1y3)\n",
      "\n",
      "<block>:1:18-37: info: atom does not occur in any rule head:\n",
      "  ext_indep(5,6,s8y1)\n",
      "\n",
      "<block>:1:20-37: info: atom does not occur in any rule head:\n",
      "  ext_dep(3,6,s8y1)\n",
      "\n",
      "<block>:1:22-41: info: atom does not occur in any rule head:\n",
      "  ext_dep(5,6,s8y1y3)\n",
      "\n"
     ]
    },
    {
     "name": "stderr",
     "output_type": "stream",
     "text": [
      "<block>:1:18-37: info: atom does not occur in any rule head:\n",
      "  ext_indep(5,6,s8y1)\n",
      "\n",
      "<block>:1:20-37: info: atom does not occur in any rule head:\n",
      "  ext_dep(3,6,s8y1)\n",
      "\n",
      "<block>:1:22-41: info: atom does not occur in any rule head:\n",
      "  ext_dep(5,6,s8y1y3)\n",
      "\n",
      "<block>:1:18-37: info: atom does not occur in any rule head:\n",
      "  ext_indep(5,6,s8y1)\n",
      "\n",
      "<block>:1:20-37: info: atom does not occur in any rule head:\n",
      "  ext_dep(3,6,s8y1)\n",
      "\n",
      "<block>:1:22-41: info: atom does not occur in any rule head:\n",
      "  ext_dep(5,6,s8y1y3)\n",
      "\n",
      "<block>:1:18-37: info: atom does not occur in any rule head:\n",
      "  ext_indep(5,6,s8y1)\n",
      "\n",
      "<block>:1:20-37: info: atom does not occur in any rule head:\n",
      "  ext_dep(3,6,s8y1)\n",
      "\n",
      "<block>:1:22-41: info: atom does not occur in any rule head:\n",
      "  ext_dep(5,6,s8y1y3)\n",
      "\n"
     ]
    },
    {
     "name": "stderr",
     "output_type": "stream",
     "text": [
      "<block>:1:18-37: info: atom does not occur in any rule head:\n",
      "  ext_indep(5,6,s8y1)\n",
      "\n",
      "<block>:1:20-37: info: atom does not occur in any rule head:\n",
      "  ext_dep(3,6,s8y1)\n",
      "\n",
      "<block>:1:22-41: info: atom does not occur in any rule head:\n",
      "  ext_dep(5,6,s8y1y3)\n",
      "\n",
      "<block>:1:18-37: info: atom does not occur in any rule head:\n",
      "  ext_indep(5,6,s8y1)\n",
      "\n",
      "<block>:1:20-37: info: atom does not occur in any rule head:\n",
      "  ext_dep(5,6,s8y3)\n",
      "\n",
      "<block>:1:22-41: info: atom does not occur in any rule head:\n",
      "  ext_dep(5,6,s8y1y3)\n",
      "\n"
     ]
    },
    {
     "name": "stderr",
     "output_type": "stream",
     "text": [
      "<block>:1:18-37: info: atom does not occur in any rule head:\n",
      "  ext_indep(5,6,s8y1)\n",
      "\n",
      "<block>:1:20-37: info: atom does not occur in any rule head:\n",
      "  ext_dep(3,6,s8y1)\n",
      "\n",
      "<block>:1:22-41: info: atom does not occur in any rule head:\n",
      "  ext_dep(5,6,s8y1y3)\n",
      "\n",
      "<block>:1:18-37: info: atom does not occur in any rule head:\n",
      "  ext_indep(5,6,s8y1)\n",
      "\n",
      "<block>:1:20-37: info: atom does not occur in any rule head:\n",
      "  ext_dep(3,6,s8y1)\n",
      "\n",
      "<block>:1:22-41: info: atom does not occur in any rule head:\n",
      "  ext_dep(5,6,s8y1y3)\n",
      "\n"
     ]
    },
    {
     "name": "stderr",
     "output_type": "stream",
     "text": [
      "<block>:1:18-37: info: atom does not occur in any rule head:\n",
      "  ext_indep(5,6,s8y1)\n",
      "\n",
      "<block>:1:20-37: info: atom does not occur in any rule head:\n",
      "  ext_dep(3,6,s8y1)\n",
      "\n",
      "<block>:1:22-41: info: atom does not occur in any rule head:\n",
      "  ext_dep(5,6,s8y1y3)\n",
      "\n",
      "<block>:1:18-37: info: atom does not occur in any rule head:\n",
      "  ext_indep(5,6,s8y1)\n",
      "\n",
      "<block>:1:20-37: info: atom does not occur in any rule head:\n",
      "  ext_dep(3,6,s8y1)\n",
      "\n",
      "<block>:1:22-41: info: atom does not occur in any rule head:\n",
      "  ext_dep(5,6,s8y1y3)\n",
      "\n",
      "<block>:1:18-37: info: atom does not occur in any rule head:\n",
      "  ext_indep(5,6,s8y1)\n",
      "\n",
      "<block>:1:20-37: info: atom does not occur in any rule head:\n",
      "  ext_dep(3,6,s8y1)\n",
      "\n",
      "<block>:1:22-41: info: atom does not occur in any rule head:\n",
      "  ext_dep(5,6,s8y1y3)\n",
      "\n"
     ]
    },
    {
     "name": "stderr",
     "output_type": "stream",
     "text": [
      "<block>:1:18-37: info: atom does not occur in any rule head:\n",
      "  ext_indep(5,6,s8y1)\n",
      "\n",
      "<block>:1:20-37: info: atom does not occur in any rule head:\n",
      "  ext_dep(3,6,s8y1)\n",
      "\n",
      "<block>:1:22-41: info: atom does not occur in any rule head:\n",
      "  ext_dep(5,6,s8y1y3)\n",
      "\n",
      "<block>:1:18-37: info: atom does not occur in any rule head:\n",
      "  ext_indep(5,6,s8y1)\n",
      "\n",
      "<block>:1:20-37: info: atom does not occur in any rule head:\n",
      "  ext_dep(3,6,s8y1)\n",
      "\n",
      "<block>:1:22-41: info: atom does not occur in any rule head:\n",
      "  ext_dep(5,6,s8y1y3)\n",
      "\n"
     ]
    },
    {
     "name": "stderr",
     "output_type": "stream",
     "text": [
      "<block>:1:18-37: info: atom does not occur in any rule head:\n",
      "  ext_indep(5,6,s8y1)\n",
      "\n",
      "<block>:1:20-37: info: atom does not occur in any rule head:\n",
      "  ext_dep(5,6,s8y3)\n",
      "\n",
      "<block>:1:22-41: info: atom does not occur in any rule head:\n",
      "  ext_dep(5,6,s8y1y3)\n",
      "\n",
      "<block>:1:18-37: info: atom does not occur in any rule head:\n",
      "  ext_indep(5,6,s8y1)\n",
      "\n",
      "<block>:1:20-37: info: atom does not occur in any rule head:\n",
      "  ext_dep(3,6,s8y1)\n",
      "\n",
      "<block>:1:22-41: info: atom does not occur in any rule head:\n",
      "  ext_dep(5,6,s8y1y3)\n",
      "\n"
     ]
    },
    {
     "name": "stderr",
     "output_type": "stream",
     "text": [
      "<block>:1:18-37: info: atom does not occur in any rule head:\n",
      "  ext_indep(5,6,s8y1)\n",
      "\n",
      "<block>:1:20-37: info: atom does not occur in any rule head:\n",
      "  ext_dep(1,6,s8y3)\n",
      "\n",
      "<block>:1:22-41: info: atom does not occur in any rule head:\n",
      "  ext_dep(5,6,s8y1y3)\n",
      "\n"
     ]
    },
    {
     "name": "stderr",
     "output_type": "stream",
     "text": [
      "<block>:1:18-37: info: atom does not occur in any rule head:\n",
      "  ext_indep(5,6,s8y1)\n",
      "\n",
      "<block>:1:20-37: info: atom does not occur in any rule head:\n",
      "  ext_dep(5,6,s8y3)\n",
      "\n",
      "<block>:1:22-41: info: atom does not occur in any rule head:\n",
      "  ext_dep(5,6,s8y1y3)\n",
      "\n"
     ]
    },
    {
     "name": "stderr",
     "output_type": "stream",
     "text": [
      "<block>:1:18-37: info: atom does not occur in any rule head:\n",
      "  ext_indep(5,6,s8y1)\n",
      "\n",
      "<block>:1:20-37: info: atom does not occur in any rule head:\n",
      "  ext_dep(3,6,s8y1)\n",
      "\n",
      "<block>:1:22-41: info: atom does not occur in any rule head:\n",
      "  ext_dep(5,6,s8y1y3)\n",
      "\n",
      "<block>:1:18-37: info: atom does not occur in any rule head:\n",
      "  ext_indep(5,6,s8y1)\n",
      "\n",
      "<block>:1:20-37: info: atom does not occur in any rule head:\n",
      "  ext_dep(5,6,s8y3)\n",
      "\n",
      "<block>:1:22-41: info: atom does not occur in any rule head:\n",
      "  ext_dep(5,6,s8y1y3)\n",
      "\n",
      "<block>:1:18-37: info: atom does not occur in any rule head:\n",
      "  ext_indep(5,6,s8y1)\n",
      "\n",
      "<block>:1:20-37: info: atom does not occur in any rule head:\n",
      "  ext_dep(5,6,s8y3)\n",
      "\n",
      "<block>:1:22-41: info: atom does not occur in any rule head:\n",
      "  ext_dep(5,6,s8y1y3)\n",
      "\n"
     ]
    },
    {
     "name": "stderr",
     "output_type": "stream",
     "text": [
      "<block>:1:18-37: info: atom does not occur in any rule head:\n",
      "  ext_indep(5,6,s8y1)\n",
      "\n",
      "<block>:1:20-37: info: atom does not occur in any rule head:\n",
      "  ext_dep(3,6,s8y1)\n",
      "\n",
      "<block>:1:22-41: info: atom does not occur in any rule head:\n",
      "  ext_dep(5,6,s8y1y3)\n",
      "\n",
      "<block>:1:18-37: info: atom does not occur in any rule head:\n",
      "  ext_indep(5,6,s8y1)\n",
      "\n",
      "<block>:1:20-37: info: atom does not occur in any rule head:\n",
      "  ext_dep(3,6,s8y1)\n",
      "\n",
      "<block>:1:22-41: info: atom does not occur in any rule head:\n",
      "  ext_dep(5,6,s8y1y3)\n",
      "\n",
      "<block>:1:18-37: info: atom does not occur in any rule head:\n",
      "  ext_indep(5,6,s8y1)\n",
      "\n",
      "<block>:1:20-37: info: atom does not occur in any rule head:\n",
      "  ext_dep(5,6,s8y3)\n",
      "\n",
      "<block>:1:22-41: info: atom does not occur in any rule head:\n",
      "  ext_dep(5,6,s8y1y3)\n",
      "\n"
     ]
    },
    {
     "name": "stderr",
     "output_type": "stream",
     "text": [
      "<block>:1:18-37: info: atom does not occur in any rule head:\n",
      "  ext_indep(5,6,s8y1)\n",
      "\n",
      "<block>:1:20-37: info: atom does not occur in any rule head:\n",
      "  ext_dep(1,6,s8y3)\n",
      "\n",
      "<block>:1:22-41: info: atom does not occur in any rule head:\n",
      "  ext_dep(5,6,s8y1y3)\n",
      "\n",
      "<block>:1:18-37: info: atom does not occur in any rule head:\n",
      "  ext_indep(5,6,s8y1)\n",
      "\n",
      "<block>:1:20-37: info: atom does not occur in any rule head:\n",
      "  ext_dep(3,6,s8y1)\n",
      "\n",
      "<block>:1:22-41: info: atom does not occur in any rule head:\n",
      "  ext_dep(5,6,s8y1y3)\n",
      "\n"
     ]
    },
    {
     "name": "stderr",
     "output_type": "stream",
     "text": [
      "<block>:1:18-37: info: atom does not occur in any rule head:\n",
      "  ext_indep(5,6,s8y1)\n",
      "\n",
      "<block>:1:20-37: info: atom does not occur in any rule head:\n",
      "  ext_dep(1,6,s8y3)\n",
      "\n",
      "<block>:1:22-41: info: atom does not occur in any rule head:\n",
      "  ext_dep(5,6,s8y1y3)\n",
      "\n",
      "<block>:1:18-37: info: atom does not occur in any rule head:\n",
      "  ext_indep(5,6,s8y1)\n",
      "\n",
      "<block>:1:20-37: info: atom does not occur in any rule head:\n",
      "  ext_dep(5,6,s8y3)\n",
      "\n",
      "<block>:1:22-41: info: atom does not occur in any rule head:\n",
      "  ext_dep(5,6,s8y1y3)\n",
      "\n",
      "<block>:1:18-37: info: atom does not occur in any rule head:\n",
      "  ext_indep(5,6,s8y1)\n",
      "\n",
      "<block>:1:20-37: info: atom does not occur in any rule head:\n",
      "  ext_dep(3,6,s8y1)\n",
      "\n",
      "<block>:1:22-41: info: atom does not occur in any rule head:\n",
      "  ext_dep(5,6,s8y1y3)\n",
      "\n"
     ]
    },
    {
     "name": "stderr",
     "output_type": "stream",
     "text": [
      "<block>:1:18-37: info: atom does not occur in any rule head:\n",
      "  ext_indep(5,6,s8y1)\n",
      "\n",
      "<block>:1:20-37: info: atom does not occur in any rule head:\n",
      "  ext_dep(3,6,s8y1)\n",
      "\n",
      "<block>:1:22-41: info: atom does not occur in any rule head:\n",
      "  ext_dep(5,6,s8y1y3)\n",
      "\n",
      "<block>:1:18-37: info: atom does not occur in any rule head:\n",
      "  ext_indep(5,6,s8y1)\n",
      "\n",
      "<block>:1:20-37: info: atom does not occur in any rule head:\n",
      "  ext_dep(3,6,s8y1)\n",
      "\n",
      "<block>:1:22-41: info: atom does not occur in any rule head:\n",
      "  ext_dep(5,6,s8y1y3)\n",
      "\n"
     ]
    },
    {
     "name": "stderr",
     "output_type": "stream",
     "text": [
      "<block>:1:18-37: info: atom does not occur in any rule head:\n",
      "  ext_indep(5,6,s8y1)\n",
      "\n",
      "<block>:1:20-37: info: atom does not occur in any rule head:\n",
      "  ext_dep(3,6,s8y1)\n",
      "\n",
      "<block>:1:22-41: info: atom does not occur in any rule head:\n",
      "  ext_dep(5,6,s8y1y3)\n",
      "\n",
      "<block>:1:18-37: info: atom does not occur in any rule head:\n",
      "  ext_indep(5,6,s8y1)\n",
      "\n",
      "<block>:1:20-37: info: atom does not occur in any rule head:\n",
      "  ext_dep(1,6,s8y3)\n",
      "\n",
      "<block>:1:22-41: info: atom does not occur in any rule head:\n",
      "  ext_dep(5,6,s8y1y3)\n",
      "\n"
     ]
    },
    {
     "name": "stderr",
     "output_type": "stream",
     "text": [
      "<block>:1:18-37: info: atom does not occur in any rule head:\n",
      "  ext_indep(5,6,s8y1)\n",
      "\n",
      "<block>:1:20-37: info: atom does not occur in any rule head:\n",
      "  ext_dep(1,6,s8y3)\n",
      "\n",
      "<block>:1:22-41: info: atom does not occur in any rule head:\n",
      "  ext_dep(5,6,s8y1y3)\n",
      "\n"
     ]
    },
    {
     "name": "stderr",
     "output_type": "stream",
     "text": [
      "<block>:1:18-37: info: atom does not occur in any rule head:\n",
      "  ext_indep(5,6,s8y1)\n",
      "\n",
      "<block>:1:20-37: info: atom does not occur in any rule head:\n",
      "  ext_dep(3,6,s8y1)\n",
      "\n",
      "<block>:1:22-41: info: atom does not occur in any rule head:\n",
      "  ext_dep(5,6,s8y1y3)\n",
      "\n"
     ]
    },
    {
     "name": "stderr",
     "output_type": "stream",
     "text": [
      "<block>:1:18-37: info: atom does not occur in any rule head:\n",
      "  ext_indep(5,6,s8y1)\n",
      "\n",
      "<block>:1:20-37: info: atom does not occur in any rule head:\n",
      "  ext_dep(3,6,s8y1)\n",
      "\n",
      "<block>:1:22-41: info: atom does not occur in any rule head:\n",
      "  ext_dep(5,6,s8y1y3)\n",
      "\n"
     ]
    },
    {
     "name": "stderr",
     "output_type": "stream",
     "text": [
      "<block>:1:18-37: info: atom does not occur in any rule head:\n",
      "  ext_indep(5,6,s8y1)\n",
      "\n",
      "<block>:1:20-37: info: atom does not occur in any rule head:\n",
      "  ext_dep(5,6,s8y3)\n",
      "\n",
      "<block>:1:22-41: info: atom does not occur in any rule head:\n",
      "  ext_dep(5,6,s8y1y3)\n",
      "\n"
     ]
    },
    {
     "name": "stderr",
     "output_type": "stream",
     "text": [
      "<block>:1:18-37: info: atom does not occur in any rule head:\n",
      "  ext_indep(5,6,s8y1)\n",
      "\n",
      "<block>:1:20-37: info: atom does not occur in any rule head:\n",
      "  ext_dep(5,6,s8y3)\n",
      "\n",
      "<block>:1:22-41: info: atom does not occur in any rule head:\n",
      "  ext_dep(5,6,s8y1y3)\n",
      "\n"
     ]
    },
    {
     "name": "stderr",
     "output_type": "stream",
     "text": [
      "<block>:1:18-37: info: atom does not occur in any rule head:\n",
      "  ext_indep(5,6,s8y1)\n",
      "\n",
      "<block>:1:20-37: info: atom does not occur in any rule head:\n",
      "  ext_dep(3,6,s8y1)\n",
      "\n",
      "<block>:1:22-41: info: atom does not occur in any rule head:\n",
      "  ext_dep(5,6,s8y1y3)\n",
      "\n"
     ]
    },
    {
     "name": "stderr",
     "output_type": "stream",
     "text": [
      "<block>:1:18-37: info: atom does not occur in any rule head:\n",
      "  ext_indep(5,6,s8y1)\n",
      "\n",
      "<block>:1:20-37: info: atom does not occur in any rule head:\n",
      "  ext_dep(3,6,s8y1)\n",
      "\n",
      "<block>:1:22-41: info: atom does not occur in any rule head:\n",
      "  ext_dep(5,6,s8y1y3)\n",
      "\n"
     ]
    },
    {
     "name": "stderr",
     "output_type": "stream",
     "text": [
      "<block>:1:18-37: info: atom does not occur in any rule head:\n",
      "  ext_indep(5,6,s8y1)\n",
      "\n",
      "<block>:1:20-37: info: atom does not occur in any rule head:\n",
      "  ext_dep(5,6,s8y3)\n",
      "\n",
      "<block>:1:22-41: info: atom does not occur in any rule head:\n",
      "  ext_dep(5,6,s8y1y3)\n",
      "\n"
     ]
    },
    {
     "name": "stderr",
     "output_type": "stream",
     "text": [
      "<block>:1:18-37: info: atom does not occur in any rule head:\n",
      "  ext_indep(5,6,s8y1)\n",
      "\n",
      "<block>:1:20-37: info: atom does not occur in any rule head:\n",
      "  ext_dep(3,6,s8y1)\n",
      "\n",
      "<block>:1:22-41: info: atom does not occur in any rule head:\n",
      "  ext_dep(5,6,s8y1y3)\n",
      "\n"
     ]
    },
    {
     "name": "stderr",
     "output_type": "stream",
     "text": [
      "<block>:1:18-37: info: atom does not occur in any rule head:\n",
      "  ext_indep(5,6,s8y1)\n",
      "\n",
      "<block>:1:20-37: info: atom does not occur in any rule head:\n",
      "  ext_dep(3,6,s8y1)\n",
      "\n",
      "<block>:1:22-41: info: atom does not occur in any rule head:\n",
      "  ext_dep(5,6,s8y1y3)\n",
      "\n"
     ]
    },
    {
     "name": "stderr",
     "output_type": "stream",
     "text": [
      "<block>:1:18-37: info: atom does not occur in any rule head:\n",
      "  ext_indep(5,6,s8y1)\n",
      "\n",
      "<block>:1:20-37: info: atom does not occur in any rule head:\n",
      "  ext_dep(5,6,s8y3)\n",
      "\n",
      "<block>:1:22-41: info: atom does not occur in any rule head:\n",
      "  ext_dep(5,6,s8y1y3)\n",
      "\n"
     ]
    },
    {
     "name": "stderr",
     "output_type": "stream",
     "text": [
      "<block>:1:20-37: info: atom does not occur in any rule head:\n",
      "  ext_dep(3,6,s8y1)\n",
      "\n",
      "<block>:1:22-41: info: atom does not occur in any rule head:\n",
      "  ext_dep(5,6,s8y1y3)\n",
      "\n"
     ]
    },
    {
     "name": "stderr",
     "output_type": "stream",
     "text": [
      "<block>:1:20-37: info: atom does not occur in any rule head:\n",
      "  ext_dep(3,6,s8y1)\n",
      "\n",
      "<block>:1:22-41: info: atom does not occur in any rule head:\n",
      "  ext_dep(5,6,s8y1y3)\n",
      "\n"
     ]
    },
    {
     "name": "stderr",
     "output_type": "stream",
     "text": [
      "<block>:1:20-37: info: atom does not occur in any rule head:\n",
      "  ext_dep(3,6,s8y1)\n",
      "\n",
      "<block>:1:22-41: info: atom does not occur in any rule head:\n",
      "  ext_dep(5,6,s8y1y3)\n",
      "\n"
     ]
    },
    {
     "name": "stderr",
     "output_type": "stream",
     "text": [
      "<block>:1:20-37: info: atom does not occur in any rule head:\n",
      "  ext_dep(5,6,s8y3)\n",
      "\n",
      "<block>:1:22-41: info: atom does not occur in any rule head:\n",
      "  ext_dep(5,6,s8y1y3)\n",
      "\n"
     ]
    },
    {
     "name": "stderr",
     "output_type": "stream",
     "text": [
      "<block>:1:20-37: info: atom does not occur in any rule head:\n",
      "  ext_dep(5,6,s8y3)\n",
      "\n",
      "<block>:1:22-41: info: atom does not occur in any rule head:\n",
      "  ext_dep(5,6,s8y1y3)\n",
      "\n"
     ]
    },
    {
     "name": "stderr",
     "output_type": "stream",
     "text": [
      "<block>:1:20-37: info: atom does not occur in any rule head:\n",
      "  ext_dep(3,6,s8y1)\n",
      "\n",
      "<block>:1:22-41: info: atom does not occur in any rule head:\n",
      "  ext_dep(5,6,s8y1y3)\n",
      "\n"
     ]
    },
    {
     "name": "stderr",
     "output_type": "stream",
     "text": [
      "<block>:1:18-37: info: atom does not occur in any rule head:\n",
      "  ext_indep(5,6,s8y1)\n",
      "\n",
      "<block>:1:20-37: info: atom does not occur in any rule head:\n",
      "  ext_dep(1,6,s8y3)\n",
      "\n",
      "<block>:1:22-41: info: atom does not occur in any rule head:\n",
      "  ext_dep(5,6,s8y1y3)\n",
      "\n",
      "<block>:1:18-37: info: atom does not occur in any rule head:\n",
      "  ext_indep(5,6,s8y1)\n",
      "\n",
      "<block>:1:20-37: info: atom does not occur in any rule head:\n",
      "  ext_dep(5,6,s8y3)\n",
      "\n",
      "<block>:1:22-41: info: atom does not occur in any rule head:\n",
      "  ext_dep(5,6,s8y1y3)\n",
      "\n",
      "<block>:1:18-37: info: atom does not occur in any rule head:\n",
      "  ext_indep(5,6,s8y1)\n",
      "\n",
      "<block>:1:20-37: info: atom does not occur in any rule head:\n",
      "  ext_dep(3,6,s8y1)\n",
      "\n",
      "<block>:1:22-41: info: atom does not occur in any rule head:\n",
      "  ext_dep(5,6,s8y1y3)\n",
      "\n"
     ]
    },
    {
     "name": "stderr",
     "output_type": "stream",
     "text": [
      "<block>:1:18-37: info: atom does not occur in any rule head:\n",
      "  ext_indep(5,6,s8y1)\n",
      "\n",
      "<block>:1:20-37: info: atom does not occur in any rule head:\n",
      "  ext_dep(3,6,s8y1)\n",
      "\n",
      "<block>:1:22-41: info: atom does not occur in any rule head:\n",
      "  ext_dep(5,6,s8y1y3)\n",
      "\n",
      "<block>:1:18-37: info: atom does not occur in any rule head:\n",
      "  ext_indep(5,6,s8y1)\n",
      "\n",
      "<block>:1:20-37: info: atom does not occur in any rule head:\n",
      "  ext_dep(3,6,s8y1)\n",
      "\n",
      "<block>:1:22-41: info: atom does not occur in any rule head:\n",
      "  ext_dep(5,6,s8y1y3)\n",
      "\n"
     ]
    },
    {
     "name": "stderr",
     "output_type": "stream",
     "text": [
      "<block>:1:18-37: info: atom does not occur in any rule head:\n",
      "  ext_indep(5,6,s8y1)\n",
      "\n",
      "<block>:1:20-37: info: atom does not occur in any rule head:\n",
      "  ext_dep(3,6,s8y1)\n",
      "\n",
      "<block>:1:22-41: info: atom does not occur in any rule head:\n",
      "  ext_dep(5,6,s8y1y3)\n",
      "\n",
      "<block>:1:18-37: info: atom does not occur in any rule head:\n",
      "  ext_indep(5,6,s8y1)\n",
      "\n",
      "<block>:1:20-37: info: atom does not occur in any rule head:\n",
      "  ext_dep(1,6,s8y3)\n",
      "\n",
      "<block>:1:22-41: info: atom does not occur in any rule head:\n",
      "  ext_dep(5,6,s8y1y3)\n",
      "\n"
     ]
    },
    {
     "name": "stderr",
     "output_type": "stream",
     "text": [
      "<block>:1:18-37: info: atom does not occur in any rule head:\n",
      "  ext_indep(5,6,s8y1)\n",
      "\n",
      "<block>:1:20-37: info: atom does not occur in any rule head:\n",
      "  ext_dep(5,6,s8y3)\n",
      "\n",
      "<block>:1:22-41: info: atom does not occur in any rule head:\n",
      "  ext_dep(5,6,s8y1y3)\n",
      "\n"
     ]
    },
    {
     "name": "stderr",
     "output_type": "stream",
     "text": [
      "<block>:1:18-37: info: atom does not occur in any rule head:\n",
      "  ext_indep(5,6,s8y1)\n",
      "\n",
      "<block>:1:20-37: info: atom does not occur in any rule head:\n",
      "  ext_dep(1,6,s8y3)\n",
      "\n",
      "<block>:1:22-41: info: atom does not occur in any rule head:\n",
      "  ext_dep(5,6,s8y1y3)\n",
      "\n"
     ]
    },
    {
     "name": "stderr",
     "output_type": "stream",
     "text": [
      "<block>:1:18-37: info: atom does not occur in any rule head:\n",
      "  ext_indep(5,6,s8y1)\n",
      "\n",
      "<block>:1:20-37: info: atom does not occur in any rule head:\n",
      "  ext_dep(5,6,s8y3)\n",
      "\n",
      "<block>:1:22-41: info: atom does not occur in any rule head:\n",
      "  ext_dep(5,6,s8y1y3)\n",
      "\n"
     ]
    },
    {
     "name": "stderr",
     "output_type": "stream",
     "text": [
      "<block>:1:18-37: info: atom does not occur in any rule head:\n",
      "  ext_indep(5,6,s8y1)\n",
      "\n",
      "<block>:1:20-37: info: atom does not occur in any rule head:\n",
      "  ext_dep(3,6,s8y1)\n",
      "\n",
      "<block>:1:22-41: info: atom does not occur in any rule head:\n",
      "  ext_dep(5,6,s8y1y3)\n",
      "\n"
     ]
    },
    {
     "name": "stderr",
     "output_type": "stream",
     "text": [
      "<block>:1:18-37: info: atom does not occur in any rule head:\n",
      "  ext_indep(5,6,s8y1)\n",
      "\n",
      "<block>:1:20-37: info: atom does not occur in any rule head:\n",
      "  ext_dep(5,6,s8y3)\n",
      "\n",
      "<block>:1:22-41: info: atom does not occur in any rule head:\n",
      "  ext_dep(5,6,s8y1y3)\n",
      "\n"
     ]
    },
    {
     "name": "stderr",
     "output_type": "stream",
     "text": [
      "<block>:1:18-37: info: atom does not occur in any rule head:\n",
      "  ext_indep(5,6,s8y1)\n",
      "\n",
      "<block>:1:20-37: info: atom does not occur in any rule head:\n",
      "  ext_dep(3,6,s8y1)\n",
      "\n",
      "<block>:1:22-41: info: atom does not occur in any rule head:\n",
      "  ext_dep(5,6,s8y1y3)\n",
      "\n"
     ]
    },
    {
     "name": "stderr",
     "output_type": "stream",
     "text": [
      "<block>:1:18-37: info: atom does not occur in any rule head:\n",
      "  ext_indep(5,6,s8y1)\n",
      "\n",
      "<block>:1:20-37: info: atom does not occur in any rule head:\n",
      "  ext_dep(3,6,s8y1)\n",
      "\n",
      "<block>:1:22-41: info: atom does not occur in any rule head:\n",
      "  ext_dep(5,6,s8y1y3)\n",
      "\n"
     ]
    },
    {
     "name": "stderr",
     "output_type": "stream",
     "text": [
      "<block>:1:18-37: info: atom does not occur in any rule head:\n",
      "  ext_indep(5,6,s8y1)\n",
      "\n",
      "<block>:1:20-37: info: atom does not occur in any rule head:\n",
      "  ext_dep(3,6,s8y1)\n",
      "\n",
      "<block>:1:22-41: info: atom does not occur in any rule head:\n",
      "  ext_dep(5,6,s8y1y3)\n",
      "\n"
     ]
    },
    {
     "name": "stderr",
     "output_type": "stream",
     "text": [
      "<block>:1:18-37: info: atom does not occur in any rule head:\n",
      "  ext_indep(5,6,s8y1)\n",
      "\n",
      "<block>:1:20-37: info: atom does not occur in any rule head:\n",
      "  ext_dep(3,6,s8y1)\n",
      "\n",
      "<block>:1:22-41: info: atom does not occur in any rule head:\n",
      "  ext_dep(5,6,s8y1y3)\n",
      "\n"
     ]
    },
    {
     "name": "stderr",
     "output_type": "stream",
     "text": [
      "<block>:1:18-37: info: atom does not occur in any rule head:\n",
      "  ext_indep(5,6,s8y1)\n",
      "\n",
      "<block>:1:20-37: info: atom does not occur in any rule head:\n",
      "  ext_dep(3,6,s8y1)\n",
      "\n",
      "<block>:1:22-41: info: atom does not occur in any rule head:\n",
      "  ext_dep(5,6,s8y1y3)\n",
      "\n"
     ]
    },
    {
     "name": "stderr",
     "output_type": "stream",
     "text": [
      "<block>:1:18-37: info: atom does not occur in any rule head:\n",
      "  ext_indep(5,6,s8y1)\n",
      "\n",
      "<block>:1:20-37: info: atom does not occur in any rule head:\n",
      "  ext_dep(3,6,s8y1)\n",
      "\n",
      "<block>:1:22-41: info: atom does not occur in any rule head:\n",
      "  ext_dep(5,6,s8y1y3)\n",
      "\n"
     ]
    },
    {
     "name": "stderr",
     "output_type": "stream",
     "text": [
      "<block>:1:20-37: info: atom does not occur in any rule head:\n",
      "  ext_dep(3,6,s8y1)\n",
      "\n",
      "<block>:1:22-41: info: atom does not occur in any rule head:\n",
      "  ext_dep(5,6,s8y1y3)\n",
      "\n"
     ]
    },
    {
     "name": "stderr",
     "output_type": "stream",
     "text": [
      "<block>:1:20-37: info: atom does not occur in any rule head:\n",
      "  ext_dep(5,6,s8y3)\n",
      "\n",
      "<block>:1:22-41: info: atom does not occur in any rule head:\n",
      "  ext_dep(5,6,s8y1y3)\n",
      "\n"
     ]
    },
    {
     "name": "stderr",
     "output_type": "stream",
     "text": [
      "<block>:1:20-37: info: atom does not occur in any rule head:\n",
      "  ext_dep(3,6,s8y1)\n",
      "\n",
      "<block>:1:22-41: info: atom does not occur in any rule head:\n",
      "  ext_dep(5,6,s8y1y3)\n",
      "\n"
     ]
    },
    {
     "name": "stderr",
     "output_type": "stream",
     "text": [
      "<block>:1:20-37: info: atom does not occur in any rule head:\n",
      "  ext_dep(3,6,s8y1)\n",
      "\n",
      "<block>:1:22-41: info: atom does not occur in any rule head:\n",
      "  ext_dep(5,6,s8y1y3)\n",
      "\n"
     ]
    },
    {
     "name": "stderr",
     "output_type": "stream",
     "text": [
      "<block>:1:20-37: info: atom does not occur in any rule head:\n",
      "  ext_dep(5,6,s8y3)\n",
      "\n",
      "<block>:1:22-41: info: atom does not occur in any rule head:\n",
      "  ext_dep(5,6,s8y1y3)\n",
      "\n"
     ]
    },
    {
     "name": "stderr",
     "output_type": "stream",
     "text": [
      "<block>:1:20-37: info: atom does not occur in any rule head:\n",
      "  ext_dep(3,6,s8y1)\n",
      "\n",
      "<block>:1:22-41: info: atom does not occur in any rule head:\n",
      "  ext_dep(5,6,s8y1y3)\n",
      "\n"
     ]
    },
    {
     "name": "stderr",
     "output_type": "stream",
     "text": [
      "<block>:1:18-37: info: atom does not occur in any rule head:\n",
      "  ext_indep(5,6,s8y1)\n",
      "\n",
      "<block>:1:20-37: info: atom does not occur in any rule head:\n",
      "  ext_dep(1,6,s8y3)\n",
      "\n",
      "<block>:1:22-41: info: atom does not occur in any rule head:\n",
      "  ext_dep(5,6,s8y1y3)\n",
      "\n",
      "<block>:1:18-37: info: atom does not occur in any rule head:\n",
      "  ext_indep(5,6,s8y1)\n",
      "\n",
      "<block>:1:20-37: info: atom does not occur in any rule head:\n",
      "  ext_dep(1,6,s8y3)\n",
      "\n",
      "<block>:1:22-41: info: atom does not occur in any rule head:\n",
      "  ext_dep(5,6,s8y1y3)\n",
      "\n",
      "<block>:1:18-37: info: atom does not occur in any rule head:\n",
      "  ext_indep(5,6,s8y1)\n",
      "\n",
      "<block>:1:20-37: info: atom does not occur in any rule head:\n",
      "  ext_dep(1,6,s8y3)\n",
      "\n",
      "<block>:1:22-41: info: atom does not occur in any rule head:\n",
      "  ext_dep(5,6,s8y1y3)\n",
      "\n"
     ]
    },
    {
     "name": "stderr",
     "output_type": "stream",
     "text": [
      "<block>:1:18-37: info: atom does not occur in any rule head:\n",
      "  ext_indep(5,6,s8y1)\n",
      "\n",
      "<block>:1:20-37: info: atom does not occur in any rule head:\n",
      "  ext_dep(1,6,s8y3)\n",
      "\n",
      "<block>:1:22-41: info: atom does not occur in any rule head:\n",
      "  ext_dep(5,6,s8y1y3)\n",
      "\n",
      "<block>:1:18-37: info: atom does not occur in any rule head:\n",
      "  ext_indep(5,6,s8y1)\n",
      "\n",
      "<block>:1:20-37: info: atom does not occur in any rule head:\n",
      "  ext_dep(1,6,s8y3)\n",
      "\n",
      "<block>:1:22-41: info: atom does not occur in any rule head:\n",
      "  ext_dep(5,6,s8y1y3)\n",
      "\n",
      "<block>:1:18-37: info: atom does not occur in any rule head:\n",
      "  ext_indep(5,6,s8y1)\n",
      "\n",
      "<block>:1:20-37: info: atom does not occur in any rule head:\n",
      "  ext_dep(5,6,s8y3)\n",
      "\n",
      "<block>:1:22-41: info: atom does not occur in any rule head:\n",
      "  ext_dep(5,6,s8y1y3)\n",
      "\n"
     ]
    },
    {
     "name": "stderr",
     "output_type": "stream",
     "text": [
      "<block>:1:18-37: info: atom does not occur in any rule head:\n",
      "  ext_indep(5,6,s8y1)\n",
      "\n",
      "<block>:1:20-37: info: atom does not occur in any rule head:\n",
      "  ext_dep(3,6,s8y1)\n",
      "\n",
      "<block>:1:22-41: info: atom does not occur in any rule head:\n",
      "  ext_dep(5,6,s8y1y3)\n",
      "\n",
      "<block>:1:18-37: info: atom does not occur in any rule head:\n",
      "  ext_indep(5,6,s8y1)\n",
      "\n",
      "<block>:1:20-37: info: atom does not occur in any rule head:\n",
      "  ext_dep(3,6,s8y1)\n",
      "\n",
      "<block>:1:22-41: info: atom does not occur in any rule head:\n",
      "  ext_dep(5,6,s8y1y3)\n",
      "\n",
      "<block>:1:18-37: info: atom does not occur in any rule head:\n",
      "  ext_indep(5,6,s8y1)\n",
      "\n",
      "<block>:1:20-37: info: atom does not occur in any rule head:\n",
      "  ext_dep(3,6,s8y1)\n",
      "\n",
      "<block>:1:22-41: info: atom does not occur in any rule head:\n",
      "  ext_dep(5,6,s8y1y3)\n",
      "\n"
     ]
    },
    {
     "name": "stderr",
     "output_type": "stream",
     "text": [
      "<block>:1:18-37: info: atom does not occur in any rule head:\n",
      "  ext_indep(5,6,s8y1)\n",
      "\n",
      "<block>:1:20-37: info: atom does not occur in any rule head:\n",
      "  ext_dep(3,6,s8y1)\n",
      "\n",
      "<block>:1:22-41: info: atom does not occur in any rule head:\n",
      "  ext_dep(5,6,s8y1y3)\n",
      "\n",
      "<block>:1:18-37: info: atom does not occur in any rule head:\n",
      "  ext_indep(5,6,s8y1)\n",
      "\n",
      "<block>:1:20-37: info: atom does not occur in any rule head:\n",
      "  ext_dep(3,6,s8y1)\n",
      "\n",
      "<block>:1:22-41: info: atom does not occur in any rule head:\n",
      "  ext_dep(5,6,s8y1y3)\n",
      "\n",
      "<block>:1:18-37: info: atom does not occur in any rule head:\n",
      "  ext_indep(5,6,s8y1)\n",
      "\n",
      "<block>:1:20-37: info: atom does not occur in any rule head:\n",
      "  ext_dep(1,6,s8y3)\n",
      "\n",
      "<block>:1:22-41: info: atom does not occur in any rule head:\n",
      "  ext_dep(5,6,s8y1y3)\n",
      "\n"
     ]
    },
    {
     "name": "stderr",
     "output_type": "stream",
     "text": [
      "<block>:1:18-37: info: atom does not occur in any rule head:\n",
      "  ext_indep(5,6,s8y1)\n",
      "\n",
      "<block>:1:20-37: info: atom does not occur in any rule head:\n",
      "  ext_dep(5,6,s8y3)\n",
      "\n",
      "<block>:1:22-41: info: atom does not occur in any rule head:\n",
      "  ext_dep(5,6,s8y1y3)\n",
      "\n",
      "<block>:1:18-37: info: atom does not occur in any rule head:\n",
      "  ext_indep(5,6,s8y1)\n",
      "\n",
      "<block>:1:20-37: info: atom does not occur in any rule head:\n",
      "  ext_dep(5,6,s8y3)\n",
      "\n",
      "<block>:1:22-41: info: atom does not occur in any rule head:\n",
      "  ext_dep(5,6,s8y1y3)\n",
      "\n",
      "<block>:1:18-37: info: atom does not occur in any rule head:\n",
      "  ext_indep(5,6,s8y1)\n",
      "\n",
      "<block>:1:20-37: info: atom does not occur in any rule head:\n",
      "  ext_dep(3,6,s8y1)\n",
      "\n",
      "<block>:1:22-41: info: atom does not occur in any rule head:\n",
      "  ext_dep(5,6,s8y1y3)\n",
      "\n"
     ]
    },
    {
     "name": "stderr",
     "output_type": "stream",
     "text": [
      "<block>:1:18-37: info: atom does not occur in any rule head:\n",
      "  ext_indep(5,6,s8y1)\n",
      "\n",
      "<block>:1:20-37: info: atom does not occur in any rule head:\n",
      "  ext_dep(5,6,s8y3)\n",
      "\n",
      "<block>:1:22-41: info: atom does not occur in any rule head:\n",
      "  ext_dep(5,6,s8y1y3)\n",
      "\n",
      "<block>:1:18-37: info: atom does not occur in any rule head:\n",
      "  ext_indep(5,6,s8y1)\n",
      "\n",
      "<block>:1:20-37: info: atom does not occur in any rule head:\n",
      "  ext_dep(3,6,s8y1)\n",
      "\n",
      "<block>:1:22-41: info: atom does not occur in any rule head:\n",
      "  ext_dep(5,6,s8y1y3)\n",
      "\n"
     ]
    },
    {
     "name": "stderr",
     "output_type": "stream",
     "text": [
      "<block>:1:18-37: info: atom does not occur in any rule head:\n",
      "  ext_indep(5,6,s8y1)\n",
      "\n",
      "<block>:1:20-37: info: atom does not occur in any rule head:\n",
      "  ext_dep(5,6,s8y3)\n",
      "\n",
      "<block>:1:22-41: info: atom does not occur in any rule head:\n",
      "  ext_dep(5,6,s8y1y3)\n",
      "\n"
     ]
    },
    {
     "name": "stderr",
     "output_type": "stream",
     "text": [
      "<block>:1:18-37: info: atom does not occur in any rule head:\n",
      "  ext_indep(5,6,s8y1)\n",
      "\n",
      "<block>:1:20-37: info: atom does not occur in any rule head:\n",
      "  ext_dep(3,6,s8y1)\n",
      "\n",
      "<block>:1:22-41: info: atom does not occur in any rule head:\n",
      "  ext_dep(5,6,s8y1y3)\n",
      "\n"
     ]
    },
    {
     "name": "stderr",
     "output_type": "stream",
     "text": [
      "<block>:1:18-37: info: atom does not occur in any rule head:\n",
      "  ext_indep(5,6,s8y1)\n",
      "\n",
      "<block>:1:20-37: info: atom does not occur in any rule head:\n",
      "  ext_dep(3,6,s8y1)\n",
      "\n",
      "<block>:1:22-41: info: atom does not occur in any rule head:\n",
      "  ext_dep(5,6,s8y1y3)\n",
      "\n"
     ]
    },
    {
     "name": "stderr",
     "output_type": "stream",
     "text": [
      "<block>:1:18-37: info: atom does not occur in any rule head:\n",
      "  ext_indep(5,6,s8y1)\n",
      "\n",
      "<block>:1:20-37: info: atom does not occur in any rule head:\n",
      "  ext_dep(3,6,s8y1)\n",
      "\n",
      "<block>:1:22-41: info: atom does not occur in any rule head:\n",
      "  ext_dep(5,6,s8y1y3)\n",
      "\n"
     ]
    },
    {
     "name": "stderr",
     "output_type": "stream",
     "text": [
      "<block>:1:18-37: info: atom does not occur in any rule head:\n",
      "  ext_indep(5,6,s8y1)\n",
      "\n",
      "<block>:1:20-37: info: atom does not occur in any rule head:\n",
      "  ext_dep(5,6,s8y3)\n",
      "\n",
      "<block>:1:22-41: info: atom does not occur in any rule head:\n",
      "  ext_dep(5,6,s8y1y3)\n",
      "\n"
     ]
    },
    {
     "name": "stderr",
     "output_type": "stream",
     "text": [
      "<block>:1:18-37: info: atom does not occur in any rule head:\n",
      "  ext_indep(5,6,s8y1)\n",
      "\n",
      "<block>:1:20-37: info: atom does not occur in any rule head:\n",
      "  ext_dep(5,6,s8y3)\n",
      "\n",
      "<block>:1:22-41: info: atom does not occur in any rule head:\n",
      "  ext_dep(5,6,s8y1y3)\n",
      "\n"
     ]
    },
    {
     "name": "stderr",
     "output_type": "stream",
     "text": [
      "<block>:1:18-37: info: atom does not occur in any rule head:\n",
      "  ext_indep(5,6,s8y1)\n",
      "\n",
      "<block>:1:20-37: info: atom does not occur in any rule head:\n",
      "  ext_dep(3,6,s8y1)\n",
      "\n",
      "<block>:1:22-41: info: atom does not occur in any rule head:\n",
      "  ext_dep(5,6,s8y1y3)\n",
      "\n"
     ]
    },
    {
     "name": "stderr",
     "output_type": "stream",
     "text": [
      "<block>:1:18-37: info: atom does not occur in any rule head:\n",
      "  ext_indep(5,6,s8y1)\n",
      "\n",
      "<block>:1:20-37: info: atom does not occur in any rule head:\n",
      "  ext_dep(3,6,s8y1)\n",
      "\n",
      "<block>:1:22-41: info: atom does not occur in any rule head:\n",
      "  ext_dep(5,6,s8y1y3)\n",
      "\n"
     ]
    },
    {
     "name": "stderr",
     "output_type": "stream",
     "text": [
      "<block>:1:18-37: info: atom does not occur in any rule head:\n",
      "  ext_indep(5,6,s8y1)\n",
      "\n",
      "<block>:1:20-37: info: atom does not occur in any rule head:\n",
      "  ext_dep(5,6,s8y3)\n",
      "\n",
      "<block>:1:22-41: info: atom does not occur in any rule head:\n",
      "  ext_dep(5,6,s8y1y3)\n",
      "\n"
     ]
    },
    {
     "name": "stderr",
     "output_type": "stream",
     "text": [
      "<block>:1:18-37: info: atom does not occur in any rule head:\n",
      "  ext_indep(5,6,s8y1)\n",
      "\n",
      "<block>:1:20-37: info: atom does not occur in any rule head:\n",
      "  ext_dep(5,6,s8y3)\n",
      "\n",
      "<block>:1:22-41: info: atom does not occur in any rule head:\n",
      "  ext_dep(5,6,s8y1y3)\n",
      "\n",
      "<block>:1:18-37: info: atom does not occur in any rule head:\n",
      "  ext_indep(5,6,s8y1)\n",
      "\n",
      "<block>:1:20-37: info: atom does not occur in any rule head:\n",
      "  ext_dep(5,6,s8y3)\n",
      "\n",
      "<block>:1:22-41: info: atom does not occur in any rule head:\n",
      "  ext_dep(5,6,s8y1y3)\n",
      "\n",
      "<block>:1:18-37: info: atom does not occur in any rule head:\n",
      "  ext_indep(5,6,s8y1)\n",
      "\n",
      "<block>:1:20-37: info: atom does not occur in any rule head:\n",
      "  ext_dep(3,6,s8y1)\n",
      "\n",
      "<block>:1:22-41: info: atom does not occur in any rule head:\n",
      "  ext_dep(5,6,s8y1y3)\n",
      "\n"
     ]
    },
    {
     "name": "stderr",
     "output_type": "stream",
     "text": [
      "<block>:1:18-37: info: atom does not occur in any rule head:\n",
      "  ext_indep(5,6,s8y1)\n",
      "\n",
      "<block>:1:20-37: info: atom does not occur in any rule head:\n",
      "  ext_dep(5,6,s8y3)\n",
      "\n",
      "<block>:1:22-41: info: atom does not occur in any rule head:\n",
      "  ext_dep(5,6,s8y1y3)\n",
      "\n",
      "<block>:1:18-37: info: atom does not occur in any rule head:\n",
      "  ext_indep(5,6,s8y1)\n",
      "\n",
      "<block>:1:20-37: info: atom does not occur in any rule head:\n",
      "  ext_dep(3,6,s8y1)\n",
      "\n",
      "<block>:1:22-41: info: atom does not occur in any rule head:\n",
      "  ext_dep(5,6,s8y1y3)\n",
      "\n"
     ]
    },
    {
     "name": "stderr",
     "output_type": "stream",
     "text": [
      "<block>:1:18-37: info: atom does not occur in any rule head:\n",
      "  ext_indep(5,6,s8y1)\n",
      "\n",
      "<block>:1:20-37: info: atom does not occur in any rule head:\n",
      "  ext_dep(5,6,s8y3)\n",
      "\n",
      "<block>:1:22-41: info: atom does not occur in any rule head:\n",
      "  ext_dep(5,6,s8y1y3)\n",
      "\n"
     ]
    },
    {
     "name": "stderr",
     "output_type": "stream",
     "text": [
      "<block>:1:18-37: info: atom does not occur in any rule head:\n",
      "  ext_indep(5,6,s8y1)\n",
      "\n",
      "<block>:1:20-37: info: atom does not occur in any rule head:\n",
      "  ext_dep(3,6,s8y1)\n",
      "\n",
      "<block>:1:22-41: info: atom does not occur in any rule head:\n",
      "  ext_dep(5,6,s8y1y3)\n",
      "\n"
     ]
    },
    {
     "name": "stderr",
     "output_type": "stream",
     "text": [
      "<block>:1:18-37: info: atom does not occur in any rule head:\n",
      "  ext_indep(5,6,s8y1)\n",
      "\n",
      "<block>:1:20-37: info: atom does not occur in any rule head:\n",
      "  ext_dep(1,6,s8y3)\n",
      "\n",
      "<block>:1:22-41: info: atom does not occur in any rule head:\n",
      "  ext_dep(5,6,s8y1y3)\n",
      "\n"
     ]
    },
    {
     "name": "stderr",
     "output_type": "stream",
     "text": [
      "<block>:1:18-37: info: atom does not occur in any rule head:\n",
      "  ext_indep(5,6,s8y1)\n",
      "\n",
      "<block>:1:20-37: info: atom does not occur in any rule head:\n",
      "  ext_dep(1,6,s8y3)\n",
      "\n",
      "<block>:1:22-41: info: atom does not occur in any rule head:\n",
      "  ext_dep(5,6,s8y1y3)\n",
      "\n"
     ]
    },
    {
     "name": "stderr",
     "output_type": "stream",
     "text": [
      "<block>:1:18-37: info: atom does not occur in any rule head:\n",
      "  ext_indep(5,6,s8y1)\n",
      "\n",
      "<block>:1:20-37: info: atom does not occur in any rule head:\n",
      "  ext_dep(5,6,s8y3)\n",
      "\n",
      "<block>:1:22-41: info: atom does not occur in any rule head:\n",
      "  ext_dep(5,6,s8y1y3)\n",
      "\n"
     ]
    },
    {
     "name": "stderr",
     "output_type": "stream",
     "text": [
      "<block>:1:18-37: info: atom does not occur in any rule head:\n",
      "  ext_indep(5,6,s8y1)\n",
      "\n",
      "<block>:1:20-37: info: atom does not occur in any rule head:\n",
      "  ext_dep(5,6,s8y3)\n",
      "\n",
      "<block>:1:22-41: info: atom does not occur in any rule head:\n",
      "  ext_dep(5,6,s8y1y3)\n",
      "\n"
     ]
    },
    {
     "name": "stderr",
     "output_type": "stream",
     "text": [
      "<block>:1:18-37: info: atom does not occur in any rule head:\n",
      "  ext_indep(5,6,s8y1)\n",
      "\n",
      "<block>:1:20-37: info: atom does not occur in any rule head:\n",
      "  ext_dep(3,6,s8y1)\n",
      "\n",
      "<block>:1:22-41: info: atom does not occur in any rule head:\n",
      "  ext_dep(5,6,s8y1y3)\n",
      "\n"
     ]
    },
    {
     "name": "stderr",
     "output_type": "stream",
     "text": [
      "<block>:1:18-37: info: atom does not occur in any rule head:\n",
      "  ext_indep(5,6,s8y1)\n",
      "\n",
      "<block>:1:20-37: info: atom does not occur in any rule head:\n",
      "  ext_dep(5,6,s8y3)\n",
      "\n",
      "<block>:1:22-41: info: atom does not occur in any rule head:\n",
      "  ext_dep(5,6,s8y1y3)\n",
      "\n"
     ]
    },
    {
     "name": "stderr",
     "output_type": "stream",
     "text": [
      "<block>:1:18-37: info: atom does not occur in any rule head:\n",
      "  ext_indep(5,6,s8y1)\n",
      "\n",
      "<block>:1:20-37: info: atom does not occur in any rule head:\n",
      "  ext_dep(5,6,s8y3)\n",
      "\n",
      "<block>:1:22-41: info: atom does not occur in any rule head:\n",
      "  ext_dep(5,6,s8y1y3)\n",
      "\n"
     ]
    },
    {
     "name": "stderr",
     "output_type": "stream",
     "text": [
      "<block>:1:18-37: info: atom does not occur in any rule head:\n",
      "  ext_indep(5,6,s8y1)\n",
      "\n",
      "<block>:1:20-37: info: atom does not occur in any rule head:\n",
      "  ext_dep(5,6,s8y3)\n",
      "\n",
      "<block>:1:22-41: info: atom does not occur in any rule head:\n",
      "  ext_dep(5,6,s8y1y3)\n",
      "\n",
      "<block>:1:18-37: info: atom does not occur in any rule head:\n",
      "  ext_indep(5,6,s8y1)\n",
      "\n",
      "<block>:1:20-37: info: atom does not occur in any rule head:\n",
      "  ext_dep(5,6,s8y3)\n",
      "\n",
      "<block>:1:22-41: info: atom does not occur in any rule head:\n",
      "  ext_dep(5,6,s8y1y3)\n",
      "\n",
      "<block>:1:18-37: info: atom does not occur in any rule head:\n",
      "  ext_indep(5,6,s8y1)\n",
      "\n",
      "<block>:1:20-37: info: atom does not occur in any rule head:\n",
      "  ext_dep(5,6,s8y3)\n",
      "\n",
      "<block>:1:22-41: info: atom does not occur in any rule head:\n",
      "  ext_dep(5,6,s8y1y3)\n",
      "\n"
     ]
    },
    {
     "name": "stderr",
     "output_type": "stream",
     "text": [
      "<block>:1:18-37: info: atom does not occur in any rule head:\n",
      "  ext_indep(5,6,s8y1)\n",
      "\n",
      "<block>:1:20-37: info: atom does not occur in any rule head:\n",
      "  ext_dep(5,6,s8y3)\n",
      "\n",
      "<block>:1:22-41: info: atom does not occur in any rule head:\n",
      "  ext_dep(5,6,s8y1y3)\n",
      "\n",
      "<block>:1:18-37: info: atom does not occur in any rule head:\n",
      "  ext_indep(5,6,s8y1)\n",
      "\n",
      "<block>:1:20-37: info: atom does not occur in any rule head:\n",
      "  ext_dep(5,6,s8y3)\n",
      "\n",
      "<block>:1:22-41: info: atom does not occur in any rule head:\n",
      "  ext_dep(5,6,s8y1y3)\n",
      "\n"
     ]
    },
    {
     "name": "stderr",
     "output_type": "stream",
     "text": [
      "<block>:1:18-37: info: atom does not occur in any rule head:\n",
      "  ext_indep(5,6,s8y1)\n",
      "\n",
      "<block>:1:20-37: info: atom does not occur in any rule head:\n",
      "  ext_dep(5,6,s8y3)\n",
      "\n",
      "<block>:1:22-41: info: atom does not occur in any rule head:\n",
      "  ext_dep(5,6,s8y1y3)\n",
      "\n",
      "<block>:1:18-37: info: atom does not occur in any rule head:\n",
      "  ext_indep(5,6,s8y1)\n",
      "\n",
      "<block>:1:20-37: info: atom does not occur in any rule head:\n",
      "  ext_dep(3,6,s8y1)\n",
      "\n",
      "<block>:1:22-41: info: atom does not occur in any rule head:\n",
      "  ext_dep(5,6,s8y1y3)\n",
      "\n"
     ]
    },
    {
     "name": "stderr",
     "output_type": "stream",
     "text": [
      "<block>:1:18-37: info: atom does not occur in any rule head:\n",
      "  ext_indep(5,6,s8y1)\n",
      "\n",
      "<block>:1:20-37: info: atom does not occur in any rule head:\n",
      "  ext_dep(3,6,s8y1)\n",
      "\n",
      "<block>:1:22-41: info: atom does not occur in any rule head:\n",
      "  ext_dep(5,6,s8y1y3)\n",
      "\n",
      "<block>:1:18-37: info: atom does not occur in any rule head:\n",
      "  ext_indep(5,6,s8y1)\n",
      "\n",
      "<block>:1:20-37: info: atom does not occur in any rule head:\n",
      "  ext_dep(5,6,s8y3)\n",
      "\n",
      "<block>:1:22-41: info: atom does not occur in any rule head:\n",
      "  ext_dep(5,6,s8y1y3)\n",
      "\n"
     ]
    },
    {
     "name": "stderr",
     "output_type": "stream",
     "text": [
      "<block>:1:18-37: info: atom does not occur in any rule head:\n",
      "  ext_indep(5,6,s8y1)\n",
      "\n",
      "<block>:1:20-37: info: atom does not occur in any rule head:\n",
      "  ext_dep(5,6,s8y3)\n",
      "\n",
      "<block>:1:22-41: info: atom does not occur in any rule head:\n",
      "  ext_dep(5,6,s8y1y3)\n",
      "\n"
     ]
    },
    {
     "name": "stderr",
     "output_type": "stream",
     "text": [
      "<block>:1:18-37: info: atom does not occur in any rule head:\n",
      "  ext_indep(5,6,s8y1)\n",
      "\n",
      "<block>:1:20-37: info: atom does not occur in any rule head:\n",
      "  ext_dep(3,6,s8y1)\n",
      "\n",
      "<block>:1:22-41: info: atom does not occur in any rule head:\n",
      "  ext_dep(5,6,s8y1y3)\n",
      "\n"
     ]
    },
    {
     "name": "stderr",
     "output_type": "stream",
     "text": [
      "<block>:1:18-37: info: atom does not occur in any rule head:\n",
      "  ext_indep(5,6,s8y1)\n",
      "\n",
      "<block>:1:20-37: info: atom does not occur in any rule head:\n",
      "  ext_dep(3,6,s8y1)\n",
      "\n",
      "<block>:1:22-41: info: atom does not occur in any rule head:\n",
      "  ext_dep(5,6,s8y1y3)\n",
      "\n"
     ]
    },
    {
     "name": "stderr",
     "output_type": "stream",
     "text": [
      "<block>:1:18-37: info: atom does not occur in any rule head:\n",
      "  ext_indep(5,6,s8y1)\n",
      "\n",
      "<block>:1:20-37: info: atom does not occur in any rule head:\n",
      "  ext_dep(5,6,s8y3)\n",
      "\n",
      "<block>:1:22-41: info: atom does not occur in any rule head:\n",
      "  ext_dep(5,6,s8y1y3)\n",
      "\n"
     ]
    },
    {
     "name": "stderr",
     "output_type": "stream",
     "text": [
      "<block>:1:18-37: info: atom does not occur in any rule head:\n",
      "  ext_indep(5,6,s8y1)\n",
      "\n",
      "<block>:1:20-37: info: atom does not occur in any rule head:\n",
      "  ext_dep(3,6,s8y1)\n",
      "\n",
      "<block>:1:22-41: info: atom does not occur in any rule head:\n",
      "  ext_dep(5,6,s8y1y3)\n",
      "\n"
     ]
    },
    {
     "name": "stderr",
     "output_type": "stream",
     "text": [
      "<block>:1:18-37: info: atom does not occur in any rule head:\n",
      "  ext_indep(5,6,s8y1)\n",
      "\n",
      "<block>:1:20-37: info: atom does not occur in any rule head:\n",
      "  ext_dep(5,6,s8y3)\n",
      "\n",
      "<block>:1:22-41: info: atom does not occur in any rule head:\n",
      "  ext_dep(5,6,s8y1y3)\n",
      "\n"
     ]
    },
    {
     "name": "stderr",
     "output_type": "stream",
     "text": [
      "<block>:1:18-37: info: atom does not occur in any rule head:\n",
      "  ext_indep(5,6,s8y1)\n",
      "\n",
      "<block>:1:20-37: info: atom does not occur in any rule head:\n",
      "  ext_dep(5,6,s8y3)\n",
      "\n",
      "<block>:1:22-41: info: atom does not occur in any rule head:\n",
      "  ext_dep(5,6,s8y1y3)\n",
      "\n"
     ]
    },
    {
     "name": "stderr",
     "output_type": "stream",
     "text": [
      "<block>:1:18-37: info: atom does not occur in any rule head:\n",
      "  ext_indep(5,6,s8y1)\n",
      "\n",
      "<block>:1:20-37: info: atom does not occur in any rule head:\n",
      "  ext_dep(5,6,s8y3)\n",
      "\n",
      "<block>:1:22-41: info: atom does not occur in any rule head:\n",
      "  ext_dep(5,6,s8y1y3)\n",
      "\n"
     ]
    },
    {
     "name": "stderr",
     "output_type": "stream",
     "text": [
      "<block>:1:18-37: info: atom does not occur in any rule head:\n",
      "  ext_indep(5,6,s8y1)\n",
      "\n",
      "<block>:1:20-37: info: atom does not occur in any rule head:\n",
      "  ext_dep(5,6,s8y3)\n",
      "\n",
      "<block>:1:22-41: info: atom does not occur in any rule head:\n",
      "  ext_dep(5,6,s8y1y3)\n",
      "\n"
     ]
    },
    {
     "name": "stderr",
     "output_type": "stream",
     "text": [
      "<block>:1:18-37: info: atom does not occur in any rule head:\n",
      "  ext_indep(5,6,s8y1)\n",
      "\n",
      "<block>:1:20-37: info: atom does not occur in any rule head:\n",
      "  ext_dep(5,6,s8y3)\n",
      "\n",
      "<block>:1:22-41: info: atom does not occur in any rule head:\n",
      "  ext_dep(5,6,s8y1y3)\n",
      "\n"
     ]
    },
    {
     "name": "stderr",
     "output_type": "stream",
     "text": [
      "<block>:1:18-37: info: atom does not occur in any rule head:\n",
      "  ext_indep(5,6,s8y1)\n",
      "\n",
      "<block>:1:20-37: info: atom does not occur in any rule head:\n",
      "  ext_dep(5,6,s8y3)\n",
      "\n",
      "<block>:1:22-41: info: atom does not occur in any rule head:\n",
      "  ext_dep(5,6,s8y1y3)\n",
      "\n"
     ]
    },
    {
     "name": "stderr",
     "output_type": "stream",
     "text": [
      "<block>:1:18-37: info: atom does not occur in any rule head:\n",
      "  ext_indep(5,6,s8y1)\n",
      "\n",
      "<block>:1:20-37: info: atom does not occur in any rule head:\n",
      "  ext_dep(5,6,s8y3)\n",
      "\n",
      "<block>:1:22-41: info: atom does not occur in any rule head:\n",
      "  ext_dep(5,6,s8y1y3)\n",
      "\n"
     ]
    },
    {
     "name": "stderr",
     "output_type": "stream",
     "text": [
      "<block>:1:18-37: info: atom does not occur in any rule head:\n",
      "  ext_indep(5,6,s8y1)\n",
      "\n",
      "<block>:1:20-37: info: atom does not occur in any rule head:\n",
      "  ext_dep(5,6,s8y3)\n",
      "\n",
      "<block>:1:22-41: info: atom does not occur in any rule head:\n",
      "  ext_dep(5,6,s8y1y3)\n",
      "\n",
      "<block>:1:18-37: info: atom does not occur in any rule head:\n",
      "  ext_indep(5,6,s8y1)\n",
      "\n",
      "<block>:1:20-37: info: atom does not occur in any rule head:\n",
      "  ext_dep(5,6,s8y3)\n",
      "\n",
      "<block>:1:22-41: info: atom does not occur in any rule head:\n",
      "  ext_dep(5,6,s8y1y3)\n",
      "\n"
     ]
    },
    {
     "name": "stderr",
     "output_type": "stream",
     "text": [
      "<block>:1:18-37: info: atom does not occur in any rule head:\n",
      "  ext_indep(5,6,s8y1)\n",
      "\n",
      "<block>:1:20-37: info: atom does not occur in any rule head:\n",
      "  ext_dep(5,6,s8y3)\n",
      "\n",
      "<block>:1:22-41: info: atom does not occur in any rule head:\n",
      "  ext_dep(5,6,s8y1y3)\n",
      "\n",
      "<block>:1:18-37: info: atom does not occur in any rule head:\n",
      "  ext_indep(5,6,s8y1)\n",
      "\n",
      "<block>:1:20-37: info: atom does not occur in any rule head:\n",
      "  ext_dep(5,6,s8y3)\n",
      "\n",
      "<block>:1:22-41: info: atom does not occur in any rule head:\n",
      "  ext_dep(5,6,s8y1y3)\n",
      "\n"
     ]
    },
    {
     "name": "stderr",
     "output_type": "stream",
     "text": [
      "<block>:1:18-37: info: atom does not occur in any rule head:\n",
      "  ext_indep(5,6,s8y1)\n",
      "\n",
      "<block>:1:20-37: info: atom does not occur in any rule head:\n",
      "  ext_dep(5,6,s8y3)\n",
      "\n",
      "<block>:1:22-41: info: atom does not occur in any rule head:\n",
      "  ext_dep(5,6,s8y1y3)\n",
      "\n",
      "<block>:1:18-37: info: atom does not occur in any rule head:\n",
      "  ext_indep(5,6,s8y1)\n",
      "\n",
      "<block>:1:20-37: info: atom does not occur in any rule head:\n",
      "  ext_dep(3,6,s8y1)\n",
      "\n",
      "<block>:1:22-41: info: atom does not occur in any rule head:\n",
      "  ext_dep(5,6,s8y1y3)\n",
      "\n"
     ]
    },
    {
     "name": "stderr",
     "output_type": "stream",
     "text": [
      "<block>:1:18-37: info: atom does not occur in any rule head:\n",
      "  ext_indep(5,6,s8y1)\n",
      "\n",
      "<block>:1:20-37: info: atom does not occur in any rule head:\n",
      "  ext_dep(5,6,s8y3)\n",
      "\n",
      "<block>:1:22-41: info: atom does not occur in any rule head:\n",
      "  ext_dep(5,6,s8y1y3)\n",
      "\n"
     ]
    },
    {
     "name": "stderr",
     "output_type": "stream",
     "text": [
      "<block>:1:18-37: info: atom does not occur in any rule head:\n",
      "  ext_indep(5,6,s8y1)\n",
      "\n",
      "<block>:1:20-37: info: atom does not occur in any rule head:\n",
      "  ext_dep(5,6,s8y3)\n",
      "\n",
      "<block>:1:22-41: info: atom does not occur in any rule head:\n",
      "  ext_dep(5,6,s8y1y3)\n",
      "\n"
     ]
    },
    {
     "name": "stderr",
     "output_type": "stream",
     "text": [
      "<block>:1:18-37: info: atom does not occur in any rule head:\n",
      "  ext_indep(5,6,s8y1)\n",
      "\n",
      "<block>:1:20-37: info: atom does not occur in any rule head:\n",
      "  ext_dep(3,6,s8y1)\n",
      "\n",
      "<block>:1:22-41: info: atom does not occur in any rule head:\n",
      "  ext_dep(5,6,s8y1y3)\n",
      "\n"
     ]
    },
    {
     "name": "stderr",
     "output_type": "stream",
     "text": [
      "<block>:1:18-37: info: atom does not occur in any rule head:\n",
      "  ext_indep(5,6,s8y1)\n",
      "\n",
      "<block>:1:20-37: info: atom does not occur in any rule head:\n",
      "  ext_dep(5,6,s8y3)\n",
      "\n",
      "<block>:1:22-41: info: atom does not occur in any rule head:\n",
      "  ext_dep(5,6,s8y1y3)\n",
      "\n"
     ]
    },
    {
     "name": "stderr",
     "output_type": "stream",
     "text": [
      "<block>:1:18-37: info: atom does not occur in any rule head:\n",
      "  ext_indep(5,6,s8y1)\n",
      "\n",
      "<block>:1:20-37: info: atom does not occur in any rule head:\n",
      "  ext_dep(5,6,s8y3)\n",
      "\n",
      "<block>:1:22-41: info: atom does not occur in any rule head:\n",
      "  ext_dep(5,6,s8y1y3)\n",
      "\n"
     ]
    },
    {
     "name": "stderr",
     "output_type": "stream",
     "text": [
      "<block>:1:18-37: info: atom does not occur in any rule head:\n",
      "  ext_indep(5,6,s8y1)\n",
      "\n",
      "<block>:1:20-37: info: atom does not occur in any rule head:\n",
      "  ext_dep(5,6,s8y3)\n",
      "\n",
      "<block>:1:22-41: info: atom does not occur in any rule head:\n",
      "  ext_dep(5,6,s8y1y3)\n",
      "\n"
     ]
    },
    {
     "name": "stderr",
     "output_type": "stream",
     "text": [
      "<block>:1:18-37: info: atom does not occur in any rule head:\n",
      "  ext_indep(5,6,s8y1)\n",
      "\n",
      "<block>:1:20-37: info: atom does not occur in any rule head:\n",
      "  ext_dep(3,6,s8y1)\n",
      "\n",
      "<block>:1:22-41: info: atom does not occur in any rule head:\n",
      "  ext_dep(5,6,s8y1y3)\n",
      "\n"
     ]
    },
    {
     "name": "stderr",
     "output_type": "stream",
     "text": [
      "<block>:1:18-37: info: atom does not occur in any rule head:\n",
      "  ext_indep(5,6,s8y1)\n",
      "\n",
      "<block>:1:20-37: info: atom does not occur in any rule head:\n",
      "  ext_dep(5,6,s8y3)\n",
      "\n",
      "<block>:1:22-41: info: atom does not occur in any rule head:\n",
      "  ext_dep(5,6,s8y1y3)\n",
      "\n"
     ]
    },
    {
     "name": "stderr",
     "output_type": "stream",
     "text": [
      "<block>:1:18-37: info: atom does not occur in any rule head:\n",
      "  ext_indep(5,6,s8y1)\n",
      "\n",
      "<block>:1:20-37: info: atom does not occur in any rule head:\n",
      "  ext_dep(3,6,s8y1)\n",
      "\n",
      "<block>:1:22-41: info: atom does not occur in any rule head:\n",
      "  ext_dep(5,6,s8y1y3)\n",
      "\n"
     ]
    },
    {
     "name": "stderr",
     "output_type": "stream",
     "text": [
      "<block>:1:18-37: info: atom does not occur in any rule head:\n",
      "  ext_indep(5,6,s8y1)\n",
      "\n",
      "<block>:1:20-37: info: atom does not occur in any rule head:\n",
      "  ext_dep(5,6,s8y3)\n",
      "\n",
      "<block>:1:22-41: info: atom does not occur in any rule head:\n",
      "  ext_dep(5,6,s8y1y3)\n",
      "\n"
     ]
    },
    {
     "name": "stderr",
     "output_type": "stream",
     "text": [
      "<block>:1:18-37: info: atom does not occur in any rule head:\n",
      "  ext_indep(5,6,s8y1)\n",
      "\n",
      "<block>:1:20-37: info: atom does not occur in any rule head:\n",
      "  ext_dep(5,6,s8y3)\n",
      "\n",
      "<block>:1:22-41: info: atom does not occur in any rule head:\n",
      "  ext_dep(5,6,s8y1y3)\n",
      "\n"
     ]
    },
    {
     "name": "stderr",
     "output_type": "stream",
     "text": [
      "<block>:1:18-37: info: atom does not occur in any rule head:\n",
      "  ext_indep(5,6,s8y1)\n",
      "\n",
      "<block>:1:20-37: info: atom does not occur in any rule head:\n",
      "  ext_dep(5,6,s8y3)\n",
      "\n",
      "<block>:1:22-41: info: atom does not occur in any rule head:\n",
      "  ext_dep(5,6,s8y1y3)\n",
      "\n"
     ]
    },
    {
     "name": "stderr",
     "output_type": "stream",
     "text": [
      "<block>:1:18-37: info: atom does not occur in any rule head:\n",
      "  ext_indep(5,6,s8y1)\n",
      "\n",
      "<block>:1:20-37: info: atom does not occur in any rule head:\n",
      "  ext_dep(5,6,s8y3)\n",
      "\n",
      "<block>:1:22-41: info: atom does not occur in any rule head:\n",
      "  ext_dep(5,6,s8y1y3)\n",
      "\n"
     ]
    },
    {
     "name": "stderr",
     "output_type": "stream",
     "text": [
      "<block>:1:18-37: info: atom does not occur in any rule head:\n",
      "  ext_indep(5,6,s8y1)\n",
      "\n",
      "<block>:1:20-37: info: atom does not occur in any rule head:\n",
      "  ext_dep(3,6,s8y1)\n",
      "\n",
      "<block>:1:22-41: info: atom does not occur in any rule head:\n",
      "  ext_dep(5,6,s8y1y3)\n",
      "\n"
     ]
    },
    {
     "name": "stderr",
     "output_type": "stream",
     "text": [
      "<block>:1:18-37: info: atom does not occur in any rule head:\n",
      "  ext_indep(5,6,s8y1)\n",
      "\n",
      "<block>:1:20-37: info: atom does not occur in any rule head:\n",
      "  ext_dep(5,6,s8y3)\n",
      "\n",
      "<block>:1:22-41: info: atom does not occur in any rule head:\n",
      "  ext_dep(5,6,s8y1y3)\n",
      "\n"
     ]
    },
    {
     "name": "stderr",
     "output_type": "stream",
     "text": [
      "<block>:1:18-37: info: atom does not occur in any rule head:\n",
      "  ext_indep(5,6,s8y1)\n",
      "\n",
      "<block>:1:20-37: info: atom does not occur in any rule head:\n",
      "  ext_dep(3,6,s8y5)\n",
      "\n",
      "<block>:1:22-41: info: atom does not occur in any rule head:\n",
      "  ext_dep(5,6,s8y1y3)\n",
      "\n",
      "<block>:1:18-37: info: atom does not occur in any rule head:\n",
      "  ext_indep(5,6,s8y1)\n",
      "\n",
      "<block>:1:20-37: info: atom does not occur in any rule head:\n",
      "  ext_dep(3,6,s8y1)\n",
      "\n",
      "<block>:1:22-41: info: atom does not occur in any rule head:\n",
      "  ext_dep(5,6,s8y1y3)\n",
      "\n",
      "<block>:1:18-37: info: atom does not occur in any rule head:\n",
      "  ext_indep(5,6,s8y1)\n",
      "\n",
      "<block>:1:20-37: info: atom does not occur in any rule head:\n",
      "  ext_dep(3,6,s8y1)\n",
      "\n",
      "<block>:1:22-41: info: atom does not occur in any rule head:\n",
      "  ext_dep(5,6,s8y1y3)\n",
      "\n"
     ]
    },
    {
     "name": "stderr",
     "output_type": "stream",
     "text": [
      "<block>:1:18-37: info: atom does not occur in any rule head:\n",
      "  ext_indep(5,6,s8y1)\n",
      "\n",
      "<block>:1:20-37: info: atom does not occur in any rule head:\n",
      "  ext_dep(5,6,s8y3)\n",
      "\n",
      "<block>:1:22-41: info: atom does not occur in any rule head:\n",
      "  ext_dep(5,6,s8y1y3)\n",
      "\n",
      "<block>:1:18-37: info: atom does not occur in any rule head:\n",
      "  ext_indep(5,6,s8y1)\n",
      "\n",
      "<block>:1:20-37: info: atom does not occur in any rule head:\n",
      "  ext_dep(5,6,s8y3)\n",
      "\n",
      "<block>:1:22-41: info: atom does not occur in any rule head:\n",
      "  ext_dep(5,6,s8y1y3)\n",
      "\n",
      "<block>:1:18-37: info: atom does not occur in any rule head:\n",
      "  ext_indep(5,6,s8y1)\n",
      "\n",
      "<block>:1:20-37: info: atom does not occur in any rule head:\n",
      "  ext_dep(3,6,s8y1)\n",
      "\n",
      "<block>:1:22-41: info: atom does not occur in any rule head:\n",
      "  ext_dep(5,6,s8y1y3)\n",
      "\n"
     ]
    },
    {
     "name": "stderr",
     "output_type": "stream",
     "text": [
      "<block>:1:18-37: info: atom does not occur in any rule head:\n",
      "  ext_indep(5,6,s8y1)\n",
      "\n",
      "<block>:1:20-37: info: atom does not occur in any rule head:\n",
      "  ext_dep(3,6,s8y1)\n",
      "\n",
      "<block>:1:22-41: info: atom does not occur in any rule head:\n",
      "  ext_dep(5,6,s8y1y3)\n",
      "\n",
      "<block>:1:18-37: info: atom does not occur in any rule head:\n",
      "  ext_indep(5,6,s8y1)\n",
      "\n",
      "<block>:1:20-37: info: atom does not occur in any rule head:\n",
      "  ext_dep(1,6,s8y3)\n",
      "\n",
      "<block>:1:22-41: info: atom does not occur in any rule head:\n",
      "  ext_dep(5,6,s8y1y3)\n",
      "\n"
     ]
    },
    {
     "name": "stderr",
     "output_type": "stream",
     "text": [
      "<block>:1:18-37: info: atom does not occur in any rule head:\n",
      "  ext_indep(5,6,s8y1)\n",
      "\n",
      "<block>:1:20-37: info: atom does not occur in any rule head:\n",
      "  ext_dep(1,6,s8y3)\n",
      "\n",
      "<block>:1:22-41: info: atom does not occur in any rule head:\n",
      "  ext_dep(5,6,s8y1y3)\n",
      "\n",
      "<block>:1:18-37: info: atom does not occur in any rule head:\n",
      "  ext_indep(5,6,s8y1)\n",
      "\n",
      "<block>:1:20-37: info: atom does not occur in any rule head:\n",
      "  ext_dep(1,6,s8y3)\n",
      "\n",
      "<block>:1:22-41: info: atom does not occur in any rule head:\n",
      "  ext_dep(5,6,s8y1y3)\n",
      "\n"
     ]
    },
    {
     "name": "stderr",
     "output_type": "stream",
     "text": [
      "<block>:1:18-37: info: atom does not occur in any rule head:\n",
      "  ext_indep(5,6,s8y1)\n",
      "\n",
      "<block>:1:20-37: info: atom does not occur in any rule head:\n",
      "  ext_dep(1,6,s8y3)\n",
      "\n",
      "<block>:1:22-41: info: atom does not occur in any rule head:\n",
      "  ext_dep(5,6,s8y1y3)\n",
      "\n",
      "<block>:1:18-37: info: atom does not occur in any rule head:\n",
      "  ext_indep(5,6,s8y1)\n",
      "\n",
      "<block>:1:20-37: info: atom does not occur in any rule head:\n",
      "  ext_dep(3,5,s8y6)\n",
      "\n",
      "<block>:1:22-41: info: atom does not occur in any rule head:\n",
      "  ext_dep(5,6,s8y1y3)\n",
      "\n"
     ]
    },
    {
     "name": "stderr",
     "output_type": "stream",
     "text": [
      "<block>:1:18-37: info: atom does not occur in any rule head:\n",
      "  ext_indep(5,6,s8y1)\n",
      "\n",
      "<block>:1:20-37: info: atom does not occur in any rule head:\n",
      "  ext_dep(3,6,s8y5)\n",
      "\n",
      "<block>:1:22-41: info: atom does not occur in any rule head:\n",
      "  ext_dep(5,6,s8y1y3)\n",
      "\n",
      "<block>:1:18-37: info: atom does not occur in any rule head:\n",
      "  ext_indep(5,6,s8y1)\n",
      "\n",
      "<block>:1:20-37: info: atom does not occur in any rule head:\n",
      "  ext_dep(3,6,s8y1)\n",
      "\n",
      "<block>:1:22-41: info: atom does not occur in any rule head:\n",
      "  ext_dep(5,6,s8y1y3)\n",
      "\n",
      "<block>:1:18-37: info: atom does not occur in any rule head:\n",
      "  ext_indep(5,6,s8y1)\n",
      "\n",
      "<block>:1:20-37: info: atom does not occur in any rule head:\n",
      "  ext_dep(5,6,s8y3)\n",
      "\n",
      "<block>:1:22-41: info: atom does not occur in any rule head:\n",
      "  ext_dep(5,6,s8y1y3)\n",
      "\n"
     ]
    },
    {
     "name": "stderr",
     "output_type": "stream",
     "text": [
      "<block>:1:18-37: info: atom does not occur in any rule head:\n",
      "  ext_indep(5,6,s8y1)\n",
      "\n",
      "<block>:1:20-37: info: atom does not occur in any rule head:\n",
      "  ext_dep(3,6,s8y1)\n",
      "\n",
      "<block>:1:22-41: info: atom does not occur in any rule head:\n",
      "  ext_dep(5,6,s8y1y3)\n",
      "\n",
      "<block>:1:18-37: info: atom does not occur in any rule head:\n",
      "  ext_indep(5,6,s8y1)\n",
      "\n",
      "<block>:1:20-37: info: atom does not occur in any rule head:\n",
      "  ext_dep(3,6,s8y1)\n",
      "\n",
      "<block>:1:22-41: info: atom does not occur in any rule head:\n",
      "  ext_dep(5,6,s8y1y3)\n",
      "\n"
     ]
    },
    {
     "name": "stderr",
     "output_type": "stream",
     "text": [
      "<block>:1:18-37: info: atom does not occur in any rule head:\n",
      "  ext_indep(5,6,s8y1)\n",
      "\n",
      "<block>:1:20-37: info: atom does not occur in any rule head:\n",
      "  ext_dep(5,6,s8y3)\n",
      "\n",
      "<block>:1:22-41: info: atom does not occur in any rule head:\n",
      "  ext_dep(5,6,s8y1y3)\n",
      "\n",
      "<block>:1:18-37: info: atom does not occur in any rule head:\n",
      "  ext_indep(5,6,s8y1)\n",
      "\n",
      "<block>:1:20-37: info: atom does not occur in any rule head:\n",
      "  ext_dep(3,5,s8y6)\n",
      "\n",
      "<block>:1:22-41: info: atom does not occur in any rule head:\n",
      "  ext_dep(5,6,s8y1y3)\n",
      "\n"
     ]
    },
    {
     "name": "stderr",
     "output_type": "stream",
     "text": [
      "<block>:1:18-37: info: atom does not occur in any rule head:\n",
      "  ext_indep(5,6,s8y1)\n",
      "\n",
      "<block>:1:20-37: info: atom does not occur in any rule head:\n",
      "  ext_dep(1,6,s8y3)\n",
      "\n",
      "<block>:1:22-41: info: atom does not occur in any rule head:\n",
      "  ext_dep(5,6,s8y1y3)\n",
      "\n"
     ]
    },
    {
     "name": "stderr",
     "output_type": "stream",
     "text": [
      "<block>:1:18-37: info: atom does not occur in any rule head:\n",
      "  ext_indep(5,6,s8y1)\n",
      "\n",
      "<block>:1:20-37: info: atom does not occur in any rule head:\n",
      "  ext_dep(3,5,s8y6)\n",
      "\n",
      "<block>:1:22-41: info: atom does not occur in any rule head:\n",
      "  ext_dep(5,6,s8y1y3)\n",
      "\n"
     ]
    },
    {
     "name": "stderr",
     "output_type": "stream",
     "text": [
      "<block>:1:18-37: info: atom does not occur in any rule head:\n",
      "  ext_indep(5,6,s8y1)\n",
      "\n",
      "<block>:1:20-37: info: atom does not occur in any rule head:\n",
      "  ext_dep(1,6,s8y3)\n",
      "\n",
      "<block>:1:22-41: info: atom does not occur in any rule head:\n",
      "  ext_dep(5,6,s8y1y3)\n",
      "\n"
     ]
    },
    {
     "name": "stderr",
     "output_type": "stream",
     "text": [
      "<block>:1:18-37: info: atom does not occur in any rule head:\n",
      "  ext_indep(5,6,s8y1)\n",
      "\n",
      "<block>:1:20-37: info: atom does not occur in any rule head:\n",
      "  ext_dep(1,6,s8y3)\n",
      "\n",
      "<block>:1:22-41: info: atom does not occur in any rule head:\n",
      "  ext_dep(5,6,s8y1y3)\n",
      "\n"
     ]
    },
    {
     "name": "stderr",
     "output_type": "stream",
     "text": [
      "<block>:1:18-37: info: atom does not occur in any rule head:\n",
      "  ext_indep(5,6,s8y1)\n",
      "\n",
      "<block>:1:20-37: info: atom does not occur in any rule head:\n",
      "  ext_dep(1,6,s8y3)\n",
      "\n",
      "<block>:1:22-41: info: atom does not occur in any rule head:\n",
      "  ext_dep(5,6,s8y1y3)\n",
      "\n"
     ]
    },
    {
     "name": "stderr",
     "output_type": "stream",
     "text": [
      "<block>:1:18-37: info: atom does not occur in any rule head:\n",
      "  ext_indep(5,6,s8y1)\n",
      "\n",
      "<block>:1:20-37: info: atom does not occur in any rule head:\n",
      "  ext_dep(5,6,s8y3)\n",
      "\n",
      "<block>:1:22-41: info: atom does not occur in any rule head:\n",
      "  ext_dep(5,6,s8y1y3)\n",
      "\n",
      "<block>:1:18-37: info: atom does not occur in any rule head:\n",
      "  ext_indep(5,6,s8y1)\n",
      "\n",
      "<block>:1:20-37: info: atom does not occur in any rule head:\n",
      "  ext_dep(5,6,s8y3)\n",
      "\n",
      "<block>:1:22-41: info: atom does not occur in any rule head:\n",
      "  ext_dep(5,6,s8y1y3)\n",
      "\n",
      "<block>:1:18-37: info: atom does not occur in any rule head:\n",
      "  ext_indep(5,6,s8y1)\n",
      "\n",
      "<block>:1:20-37: info: atom does not occur in any rule head:\n",
      "  ext_dep(5,6,s8y3)\n",
      "\n",
      "<block>:1:22-41: info: atom does not occur in any rule head:\n",
      "  ext_dep(5,6,s8y1y3)\n",
      "\n"
     ]
    },
    {
     "name": "stderr",
     "output_type": "stream",
     "text": [
      "<block>:1:18-37: info: atom does not occur in any rule head:\n",
      "  ext_indep(5,6,s8y1)\n",
      "\n",
      "<block>:1:20-37: info: atom does not occur in any rule head:\n",
      "  ext_dep(5,6,s8y3)\n",
      "\n",
      "<block>:1:22-41: info: atom does not occur in any rule head:\n",
      "  ext_dep(5,6,s8y1y3)\n",
      "\n",
      "<block>:1:18-37: info: atom does not occur in any rule head:\n",
      "  ext_indep(5,6,s8y1)\n",
      "\n",
      "<block>:1:20-37: info: atom does not occur in any rule head:\n",
      "  ext_dep(1,6,s8y3)\n",
      "\n",
      "<block>:1:22-41: info: atom does not occur in any rule head:\n",
      "  ext_dep(5,6,s8y1y3)\n",
      "\n"
     ]
    },
    {
     "name": "stderr",
     "output_type": "stream",
     "text": [
      "<block>:1:18-37: info: atom does not occur in any rule head:\n",
      "  ext_indep(5,6,s8y1)\n",
      "\n",
      "<block>:1:20-37: info: atom does not occur in any rule head:\n",
      "  ext_dep(5,6,s8y3)\n",
      "\n",
      "<block>:1:22-41: info: atom does not occur in any rule head:\n",
      "  ext_dep(5,6,s8y1y3)\n",
      "\n",
      "<block>:1:18-37: info: atom does not occur in any rule head:\n",
      "  ext_indep(5,6,s8y1)\n",
      "\n",
      "<block>:1:20-37: info: atom does not occur in any rule head:\n",
      "  ext_dep(5,6,s8y3)\n",
      "\n",
      "<block>:1:22-41: info: atom does not occur in any rule head:\n",
      "  ext_dep(5,6,s8y1y3)\n",
      "\n"
     ]
    },
    {
     "name": "stderr",
     "output_type": "stream",
     "text": [
      "<block>:1:18-37: info: atom does not occur in any rule head:\n",
      "  ext_indep(5,6,s8y1)\n",
      "\n",
      "<block>:1:20-37: info: atom does not occur in any rule head:\n",
      "  ext_dep(5,6,s8y3)\n",
      "\n",
      "<block>:1:22-41: info: atom does not occur in any rule head:\n",
      "  ext_dep(5,6,s8y1y3)\n",
      "\n",
      "<block>:1:18-37: info: atom does not occur in any rule head:\n",
      "  ext_indep(5,6,s8y1)\n",
      "\n",
      "<block>:1:20-37: info: atom does not occur in any rule head:\n",
      "  ext_dep(3,6,s8y1)\n",
      "\n",
      "<block>:1:22-41: info: atom does not occur in any rule head:\n",
      "  ext_dep(5,6,s8y1y3)\n",
      "\n"
     ]
    },
    {
     "name": "stderr",
     "output_type": "stream",
     "text": [
      "<block>:1:18-37: info: atom does not occur in any rule head:\n",
      "  ext_indep(5,6,s8y1)\n",
      "\n",
      "<block>:1:20-37: info: atom does not occur in any rule head:\n",
      "  ext_dep(3,6,s8y1)\n",
      "\n",
      "<block>:1:22-41: info: atom does not occur in any rule head:\n",
      "  ext_dep(5,6,s8y1y3)\n",
      "\n",
      "<block>:1:20-37: info: atom does not occur in any rule head:\n",
      "  ext_dep(5,6,s8y3)\n",
      "\n",
      "<block>:1:22-41: info: atom does not occur in any rule head:\n",
      "  ext_dep(5,6,s8y1y3)\n",
      "\n"
     ]
    },
    {
     "name": "stderr",
     "output_type": "stream",
     "text": [
      "<block>:1:20-37: info: atom does not occur in any rule head:\n",
      "  ext_dep(5,6,s8y3)\n",
      "\n",
      "<block>:1:22-41: info: atom does not occur in any rule head:\n",
      "  ext_dep(5,6,s8y1y3)\n",
      "\n",
      "<block>:1:20-37: info: atom does not occur in any rule head:\n",
      "  ext_dep(5,6,s8y3)\n",
      "\n",
      "<block>:1:22-41: info: atom does not occur in any rule head:\n",
      "  ext_dep(5,6,s8y1y3)\n",
      "\n"
     ]
    },
    {
     "name": "stderr",
     "output_type": "stream",
     "text": [
      "<block>:1:20-37: info: atom does not occur in any rule head:\n",
      "  ext_dep(5,6,s8y3)\n",
      "\n",
      "<block>:1:22-41: info: atom does not occur in any rule head:\n",
      "  ext_dep(5,6,s8y1y3)\n",
      "\n"
     ]
    },
    {
     "name": "stderr",
     "output_type": "stream",
     "text": [
      "<block>:1:20-37: info: atom does not occur in any rule head:\n",
      "  ext_dep(5,6,s8y3)\n",
      "\n",
      "<block>:1:22-41: info: atom does not occur in any rule head:\n",
      "  ext_dep(5,6,s8y1y3)\n",
      "\n"
     ]
    },
    {
     "name": "stderr",
     "output_type": "stream",
     "text": [
      "<block>:1:20-37: info: atom does not occur in any rule head:\n",
      "  ext_dep(5,6,s8y3)\n",
      "\n",
      "<block>:1:22-41: info: atom does not occur in any rule head:\n",
      "  ext_dep(5,6,s8y1y3)\n",
      "\n"
     ]
    },
    {
     "name": "stderr",
     "output_type": "stream",
     "text": [
      "<block>:1:20-37: info: atom does not occur in any rule head:\n",
      "  ext_dep(3,6,s8y1)\n",
      "\n",
      "<block>:1:22-41: info: atom does not occur in any rule head:\n",
      "  ext_dep(5,6,s8y1y3)\n",
      "\n"
     ]
    },
    {
     "name": "stderr",
     "output_type": "stream",
     "text": [
      "<block>:1:20-37: info: atom does not occur in any rule head:\n",
      "  ext_dep(5,6,s8y3)\n",
      "\n",
      "<block>:1:22-41: info: atom does not occur in any rule head:\n",
      "  ext_dep(5,6,s8y1y3)\n",
      "\n"
     ]
    },
    {
     "name": "stderr",
     "output_type": "stream",
     "text": [
      "<block>:1:20-37: info: atom does not occur in any rule head:\n",
      "  ext_dep(5,6,s8y3)\n",
      "\n",
      "<block>:1:22-41: info: atom does not occur in any rule head:\n",
      "  ext_dep(5,6,s8y1y3)\n",
      "\n"
     ]
    },
    {
     "name": "stderr",
     "output_type": "stream",
     "text": [
      "<block>:1:20-37: info: atom does not occur in any rule head:\n",
      "  ext_dep(3,6,s8y1)\n",
      "\n",
      "<block>:1:22-41: info: atom does not occur in any rule head:\n",
      "  ext_dep(5,6,s8y1y3)\n",
      "\n"
     ]
    },
    {
     "name": "stderr",
     "output_type": "stream",
     "text": [
      "<block>:1:20-37: info: atom does not occur in any rule head:\n",
      "  ext_dep(5,6,s8y3)\n",
      "\n",
      "<block>:1:22-41: info: atom does not occur in any rule head:\n",
      "  ext_dep(5,6,s8y1y3)\n",
      "\n"
     ]
    },
    {
     "name": "stderr",
     "output_type": "stream",
     "text": [
      "<block>:1:20-37: info: atom does not occur in any rule head:\n",
      "  ext_dep(3,6,s8y1)\n",
      "\n",
      "<block>:1:22-41: info: atom does not occur in any rule head:\n",
      "  ext_dep(5,6,s8y1y3)\n",
      "\n"
     ]
    },
    {
     "name": "stderr",
     "output_type": "stream",
     "text": [
      "<block>:1:20-37: info: atom does not occur in any rule head:\n",
      "  ext_dep(3,6,s8y1)\n",
      "\n",
      "<block>:1:22-41: info: atom does not occur in any rule head:\n",
      "  ext_dep(5,6,s8y1y3)\n",
      "\n"
     ]
    },
    {
     "name": "stderr",
     "output_type": "stream",
     "text": [
      "<block>:1:20-37: info: atom does not occur in any rule head:\n",
      "  ext_dep(5,6,s8y3)\n",
      "\n",
      "<block>:1:22-41: info: atom does not occur in any rule head:\n",
      "  ext_dep(5,6,s8y1y3)\n",
      "\n"
     ]
    },
    {
     "name": "stderr",
     "output_type": "stream",
     "text": [
      "<block>:1:20-37: info: atom does not occur in any rule head:\n",
      "  ext_dep(5,6,s8y3)\n",
      "\n",
      "<block>:1:22-41: info: atom does not occur in any rule head:\n",
      "  ext_dep(5,6,s8y1y3)\n",
      "\n"
     ]
    },
    {
     "name": "stderr",
     "output_type": "stream",
     "text": [
      "<block>:1:20-37: info: atom does not occur in any rule head:\n",
      "  ext_dep(5,6,s8y3)\n",
      "\n",
      "<block>:1:22-41: info: atom does not occur in any rule head:\n",
      "  ext_dep(5,6,s8y1y3)\n",
      "\n"
     ]
    },
    {
     "name": "stderr",
     "output_type": "stream",
     "text": [
      "<block>:1:20-37: info: atom does not occur in any rule head:\n",
      "  ext_dep(3,6,s8y1)\n",
      "\n",
      "<block>:1:22-41: info: atom does not occur in any rule head:\n",
      "  ext_dep(5,6,s8y1y3)\n",
      "\n"
     ]
    },
    {
     "name": "stderr",
     "output_type": "stream",
     "text": [
      "<block>:1:20-37: info: atom does not occur in any rule head:\n",
      "  ext_dep(5,6,s8y3)\n",
      "\n",
      "<block>:1:22-41: info: atom does not occur in any rule head:\n",
      "  ext_dep(5,6,s8y1y3)\n",
      "\n"
     ]
    },
    {
     "name": "stderr",
     "output_type": "stream",
     "text": [
      "<block>:1:18-37: info: atom does not occur in any rule head:\n",
      "  ext_indep(5,6,s8y1)\n",
      "\n",
      "<block>:1:20-37: info: atom does not occur in any rule head:\n",
      "  ext_dep(1,6,s8y3)\n",
      "\n",
      "<block>:1:22-41: info: atom does not occur in any rule head:\n",
      "  ext_dep(5,6,s8y1y3)\n",
      "\n",
      "<block>:1:18-37: info: atom does not occur in any rule head:\n",
      "  ext_indep(5,6,s8y1)\n",
      "\n",
      "<block>:1:20-37: info: atom does not occur in any rule head:\n",
      "  ext_dep(5,6,s8y3)\n",
      "\n",
      "<block>:1:22-41: info: atom does not occur in any rule head:\n",
      "  ext_dep(5,6,s8y1y3)\n",
      "\n",
      "<block>:1:18-37: info: atom does not occur in any rule head:\n",
      "  ext_indep(5,6,s8y1)\n",
      "\n",
      "<block>:1:20-37: info: atom does not occur in any rule head:\n",
      "  ext_dep(5,6,s8y3)\n",
      "\n",
      "<block>:1:22-41: info: atom does not occur in any rule head:\n",
      "  ext_dep(5,6,s8y1y3)\n",
      "\n"
     ]
    },
    {
     "name": "stderr",
     "output_type": "stream",
     "text": [
      "<block>:1:18-37: info: atom does not occur in any rule head:\n",
      "  ext_indep(5,6,s8y1)\n",
      "\n",
      "<block>:1:20-37: info: atom does not occur in any rule head:\n",
      "  ext_dep(5,6,s8y3)\n",
      "\n",
      "<block>:1:22-41: info: atom does not occur in any rule head:\n",
      "  ext_dep(5,6,s8y1y3)\n",
      "\n",
      "<block>:1:18-37: info: atom does not occur in any rule head:\n",
      "  ext_indep(5,6,s8y1)\n",
      "\n",
      "<block>:1:20-37: info: atom does not occur in any rule head:\n",
      "  ext_dep(3,6,s8y1)\n",
      "\n",
      "<block>:1:22-41: info: atom does not occur in any rule head:\n",
      "  ext_dep(5,6,s8y1y3)\n",
      "\n"
     ]
    },
    {
     "name": "stderr",
     "output_type": "stream",
     "text": [
      "<block>:1:18-37: info: atom does not occur in any rule head:\n",
      "  ext_indep(5,6,s8y1)\n",
      "\n",
      "<block>:1:20-37: info: atom does not occur in any rule head:\n",
      "  ext_dep(5,6,s8y3)\n",
      "\n",
      "<block>:1:22-41: info: atom does not occur in any rule head:\n",
      "  ext_dep(5,6,s8y1y3)\n",
      "\n"
     ]
    },
    {
     "name": "stderr",
     "output_type": "stream",
     "text": [
      "<block>:1:20-37: info: atom does not occur in any rule head:\n",
      "  ext_dep(3,6,s8y1)\n",
      "\n",
      "<block>:1:22-41: info: atom does not occur in any rule head:\n",
      "  ext_dep(5,6,s8y1y3)\n",
      "\n"
     ]
    },
    {
     "name": "stderr",
     "output_type": "stream",
     "text": [
      "<block>:1:20-37: info: atom does not occur in any rule head:\n",
      "  ext_dep(5,6,s8y3)\n",
      "\n",
      "<block>:1:22-41: info: atom does not occur in any rule head:\n",
      "  ext_dep(5,6,s8y1y3)\n",
      "\n"
     ]
    },
    {
     "name": "stderr",
     "output_type": "stream",
     "text": [
      "<block>:1:20-37: info: atom does not occur in any rule head:\n",
      "  ext_dep(5,6,s8y3)\n",
      "\n",
      "<block>:1:22-41: info: atom does not occur in any rule head:\n",
      "  ext_dep(5,6,s8y1y3)\n",
      "\n"
     ]
    },
    {
     "name": "stderr",
     "output_type": "stream",
     "text": [
      "<block>:1:20-37: info: atom does not occur in any rule head:\n",
      "  ext_dep(5,6,s8y3)\n",
      "\n",
      "<block>:1:22-41: info: atom does not occur in any rule head:\n",
      "  ext_dep(5,6,s8y1y3)\n",
      "\n"
     ]
    },
    {
     "name": "stderr",
     "output_type": "stream",
     "text": [
      "<block>:1:20-37: info: atom does not occur in any rule head:\n",
      "  ext_dep(1,6,s8y3)\n",
      "\n",
      "<block>:1:22-41: info: atom does not occur in any rule head:\n",
      "  ext_dep(5,6,s8y1y3)\n",
      "\n"
     ]
    },
    {
     "name": "stderr",
     "output_type": "stream",
     "text": [
      "<block>:1:20-37: info: atom does not occur in any rule head:\n",
      "  ext_dep(1,6,s8y3)\n",
      "\n",
      "<block>:1:22-41: info: atom does not occur in any rule head:\n",
      "  ext_dep(5,6,s8y1y3)\n",
      "\n"
     ]
    },
    {
     "name": "stderr",
     "output_type": "stream",
     "text": [
      "<block>:1:20-37: info: atom does not occur in any rule head:\n",
      "  ext_dep(1,6,s8y3)\n",
      "\n",
      "<block>:1:22-41: info: atom does not occur in any rule head:\n",
      "  ext_dep(5,6,s8y1y3)\n",
      "\n"
     ]
    },
    {
     "name": "stderr",
     "output_type": "stream",
     "text": [
      "<block>:1:20-37: info: atom does not occur in any rule head:\n",
      "  ext_dep(3,6,s8y1)\n",
      "\n",
      "<block>:1:22-41: info: atom does not occur in any rule head:\n",
      "  ext_dep(5,6,s8y1y3)\n",
      "\n"
     ]
    },
    {
     "name": "stderr",
     "output_type": "stream",
     "text": [
      "<block>:1:20-37: info: atom does not occur in any rule head:\n",
      "  ext_dep(3,6,s8y1)\n",
      "\n",
      "<block>:1:22-41: info: atom does not occur in any rule head:\n",
      "  ext_dep(5,6,s8y1y3)\n",
      "\n"
     ]
    },
    {
     "name": "stderr",
     "output_type": "stream",
     "text": [
      "<block>:1:20-37: info: atom does not occur in any rule head:\n",
      "  ext_dep(5,6,s8y3)\n",
      "\n",
      "<block>:1:22-41: info: atom does not occur in any rule head:\n",
      "  ext_dep(5,6,s8y1y3)\n",
      "\n"
     ]
    },
    {
     "name": "stderr",
     "output_type": "stream",
     "text": [
      "<block>:1:20-37: info: atom does not occur in any rule head:\n",
      "  ext_dep(3,6,s8y1)\n",
      "\n",
      "<block>:1:22-41: info: atom does not occur in any rule head:\n",
      "  ext_dep(5,6,s8y1y3)\n",
      "\n"
     ]
    },
    {
     "name": "stderr",
     "output_type": "stream",
     "text": [
      "<block>:1:20-37: info: atom does not occur in any rule head:\n",
      "  ext_dep(3,6,s8y1)\n",
      "\n",
      "<block>:1:22-41: info: atom does not occur in any rule head:\n",
      "  ext_dep(5,6,s8y1y3)\n",
      "\n"
     ]
    },
    {
     "name": "stderr",
     "output_type": "stream",
     "text": [
      "<block>:1:20-37: info: atom does not occur in any rule head:\n",
      "  ext_dep(5,6,s8y3)\n",
      "\n",
      "<block>:1:22-41: info: atom does not occur in any rule head:\n",
      "  ext_dep(5,6,s8y1y3)\n",
      "\n"
     ]
    },
    {
     "name": "stderr",
     "output_type": "stream",
     "text": [
      "<block>:1:20-37: info: atom does not occur in any rule head:\n",
      "  ext_dep(3,6,s8y1)\n",
      "\n",
      "<block>:1:22-41: info: atom does not occur in any rule head:\n",
      "  ext_dep(5,6,s8y1y3)\n",
      "\n"
     ]
    },
    {
     "name": "stderr",
     "output_type": "stream",
     "text": [
      "<block>:1:20-37: info: atom does not occur in any rule head:\n",
      "  ext_dep(5,6,s8y3)\n",
      "\n",
      "<block>:1:22-41: info: atom does not occur in any rule head:\n",
      "  ext_dep(5,6,s8y1y3)\n",
      "\n"
     ]
    },
    {
     "name": "stderr",
     "output_type": "stream",
     "text": [
      "<block>:1:20-37: info: atom does not occur in any rule head:\n",
      "  ext_dep(3,6,s8y1)\n",
      "\n",
      "<block>:1:22-41: info: atom does not occur in any rule head:\n",
      "  ext_dep(5,6,s8y1y3)\n",
      "\n"
     ]
    },
    {
     "name": "stderr",
     "output_type": "stream",
     "text": [
      "<block>:1:20-37: info: atom does not occur in any rule head:\n",
      "  ext_dep(5,6,s8y3)\n",
      "\n",
      "<block>:1:22-41: info: atom does not occur in any rule head:\n",
      "  ext_dep(5,6,s8y1y3)\n",
      "\n"
     ]
    },
    {
     "name": "stderr",
     "output_type": "stream",
     "text": [
      "<block>:1:20-37: info: atom does not occur in any rule head:\n",
      "  ext_dep(3,6,s8y1)\n",
      "\n",
      "<block>:1:22-41: info: atom does not occur in any rule head:\n",
      "  ext_dep(5,6,s8y1y3)\n",
      "\n"
     ]
    },
    {
     "name": "stderr",
     "output_type": "stream",
     "text": [
      "<block>:1:18-37: info: atom does not occur in any rule head:\n",
      "  ext_indep(5,6,s8y1)\n",
      "\n",
      "<block>:1:20-37: info: atom does not occur in any rule head:\n",
      "  ext_dep(1,6,s8y3)\n",
      "\n",
      "<block>:1:22-41: info: atom does not occur in any rule head:\n",
      "  ext_dep(5,6,s8y1y3)\n",
      "\n",
      "<block>:1:18-37: info: atom does not occur in any rule head:\n",
      "  ext_indep(5,6,s8y1)\n",
      "\n",
      "<block>:1:20-37: info: atom does not occur in any rule head:\n",
      "  ext_dep(1,6,s8y3)\n",
      "\n",
      "<block>:1:22-41: info: atom does not occur in any rule head:\n",
      "  ext_dep(5,6,s8y1y3)\n",
      "\n",
      "<block>:1:18-37: info: atom does not occur in any rule head:\n",
      "  ext_indep(5,6,s8y1)\n",
      "\n",
      "<block>:1:20-37: info: atom does not occur in any rule head:\n",
      "  ext_dep(5,6,s8y3)\n",
      "\n",
      "<block>:1:22-41: info: atom does not occur in any rule head:\n",
      "  ext_dep(5,6,s8y1y3)\n",
      "\n"
     ]
    },
    {
     "name": "stderr",
     "output_type": "stream",
     "text": [
      "<block>:1:18-37: info: atom does not occur in any rule head:\n",
      "  ext_indep(5,6,s8y1)\n",
      "\n",
      "<block>:1:20-37: info: atom does not occur in any rule head:\n",
      "  ext_dep(3,6,s8y1)\n",
      "\n",
      "<block>:1:22-41: info: atom does not occur in any rule head:\n",
      "  ext_dep(5,6,s8y1y3)\n",
      "\n",
      "<block>:1:18-37: info: atom does not occur in any rule head:\n",
      "  ext_indep(5,6,s8y1)\n",
      "\n",
      "<block>:1:20-37: info: atom does not occur in any rule head:\n",
      "  ext_dep(1,6,s8y3)\n",
      "\n",
      "<block>:1:22-41: info: atom does not occur in any rule head:\n",
      "  ext_dep(5,6,s8y1y3)\n",
      "\n",
      "<block>:1:18-37: info: atom does not occur in any rule head:\n",
      "  ext_indep(5,6,s8y1)\n",
      "\n",
      "<block>:1:20-37: info: atom does not occur in any rule head:\n",
      "  ext_dep(1,6,s8y3)\n",
      "\n",
      "<block>:1:22-41: info: atom does not occur in any rule head:\n",
      "  ext_dep(5,6,s8y1y3)\n",
      "\n"
     ]
    },
    {
     "name": "stderr",
     "output_type": "stream",
     "text": [
      "<block>:1:18-37: info: atom does not occur in any rule head:\n",
      "  ext_indep(5,6,s8y1)\n",
      "\n",
      "<block>:1:20-37: info: atom does not occur in any rule head:\n",
      "  ext_dep(5,6,s8y3)\n",
      "\n",
      "<block>:1:22-41: info: atom does not occur in any rule head:\n",
      "  ext_dep(5,6,s8y1y3)\n",
      "\n",
      "<block>:1:18-37: info: atom does not occur in any rule head:\n",
      "  ext_indep(5,6,s8y1)\n",
      "\n",
      "<block>:1:20-37: info: atom does not occur in any rule head:\n",
      "  ext_dep(3,6,s8y1)\n",
      "\n",
      "<block>:1:22-41: info: atom does not occur in any rule head:\n",
      "  ext_dep(5,6,s8y1y3)\n",
      "\n"
     ]
    },
    {
     "name": "stderr",
     "output_type": "stream",
     "text": [
      "<block>:1:18-37: info: atom does not occur in any rule head:\n",
      "  ext_indep(5,6,s8y1)\n",
      "\n",
      "<block>:1:20-37: info: atom does not occur in any rule head:\n",
      "  ext_dep(1,6,s8y3)\n",
      "\n",
      "<block>:1:22-41: info: atom does not occur in any rule head:\n",
      "  ext_dep(5,6,s8y1y3)\n",
      "\n",
      "<block>:1:18-37: info: atom does not occur in any rule head:\n",
      "  ext_indep(5,6,s8y1)\n",
      "\n",
      "<block>:1:20-37: info: atom does not occur in any rule head:\n",
      "  ext_dep(1,6,s8y3)\n",
      "\n",
      "<block>:1:22-41: info: atom does not occur in any rule head:\n",
      "  ext_dep(5,6,s8y1y3)\n",
      "\n",
      "<block>:1:18-37: info: atom does not occur in any rule head:\n",
      "  ext_indep(5,6,s8y1)\n",
      "\n",
      "<block>:1:20-37: info: atom does not occur in any rule head:\n",
      "  ext_dep(1,6,s8y3)\n",
      "\n",
      "<block>:1:22-41: info: atom does not occur in any rule head:\n",
      "  ext_dep(5,6,s8y1y3)\n",
      "\n"
     ]
    },
    {
     "name": "stderr",
     "output_type": "stream",
     "text": [
      "<block>:1:18-37: info: atom does not occur in any rule head:\n",
      "  ext_indep(5,6,s8y1)\n",
      "\n",
      "<block>:1:20-37: info: atom does not occur in any rule head:\n",
      "  ext_dep(1,6,s8y3)\n",
      "\n",
      "<block>:1:22-41: info: atom does not occur in any rule head:\n",
      "  ext_dep(5,6,s8y1y3)\n",
      "\n",
      "<block>:1:18-37: info: atom does not occur in any rule head:\n",
      "  ext_indep(5,6,s8y1)\n",
      "\n",
      "<block>:1:20-37: info: atom does not occur in any rule head:\n",
      "  ext_dep(5,6,s8y3)\n",
      "\n",
      "<block>:1:22-41: info: atom does not occur in any rule head:\n",
      "  ext_dep(5,6,s8y1y3)\n",
      "\n"
     ]
    },
    {
     "name": "stderr",
     "output_type": "stream",
     "text": [
      "<block>:1:18-37: info: atom does not occur in any rule head:\n",
      "  ext_indep(5,6,s8y1)\n",
      "\n",
      "<block>:1:20-37: info: atom does not occur in any rule head:\n",
      "  ext_dep(5,6,s8y3)\n",
      "\n",
      "<block>:1:22-41: info: atom does not occur in any rule head:\n",
      "  ext_dep(5,6,s8y1y3)\n",
      "\n",
      "<block>:1:18-37: info: atom does not occur in any rule head:\n",
      "  ext_indep(5,6,s8y1)\n",
      "\n",
      "<block>:1:20-37: info: atom does not occur in any rule head:\n",
      "  ext_dep(5,6,s8y3)\n",
      "\n",
      "<block>:1:22-41: info: atom does not occur in any rule head:\n",
      "  ext_dep(5,6,s8y1y3)\n",
      "\n"
     ]
    },
    {
     "name": "stderr",
     "output_type": "stream",
     "text": [
      "<block>:1:18-37: info: atom does not occur in any rule head:\n",
      "  ext_indep(5,6,s8y1)\n",
      "\n",
      "<block>:1:20-37: info: atom does not occur in any rule head:\n",
      "  ext_dep(5,6,s8y3)\n",
      "\n",
      "<block>:1:22-41: info: atom does not occur in any rule head:\n",
      "  ext_dep(5,6,s8y1y3)\n",
      "\n",
      "<block>:1:18-37: info: atom does not occur in any rule head:\n",
      "  ext_indep(5,6,s8y1)\n",
      "\n",
      "<block>:1:20-37: info: atom does not occur in any rule head:\n",
      "  ext_dep(5,6,s8y3)\n",
      "\n",
      "<block>:1:22-41: info: atom does not occur in any rule head:\n",
      "  ext_dep(5,6,s8y1y3)\n",
      "\n"
     ]
    },
    {
     "name": "stderr",
     "output_type": "stream",
     "text": [
      "<block>:1:18-37: info: atom does not occur in any rule head:\n",
      "  ext_indep(5,6,s8y1)\n",
      "\n",
      "<block>:1:20-37: info: atom does not occur in any rule head:\n",
      "  ext_dep(5,6,s8y3)\n",
      "\n",
      "<block>:1:22-41: info: atom does not occur in any rule head:\n",
      "  ext_dep(5,6,s8y1y3)\n",
      "\n",
      "<block>:1:18-37: info: atom does not occur in any rule head:\n",
      "  ext_indep(5,6,s8y1)\n",
      "\n",
      "<block>:1:20-37: info: atom does not occur in any rule head:\n",
      "  ext_dep(3,6,s8y1)\n",
      "\n",
      "<block>:1:22-41: info: atom does not occur in any rule head:\n",
      "  ext_dep(5,6,s8y1y3)\n",
      "\n"
     ]
    },
    {
     "name": "stderr",
     "output_type": "stream",
     "text": [
      "<block>:1:18-37: info: atom does not occur in any rule head:\n",
      "  ext_indep(5,6,s8y1)\n",
      "\n",
      "<block>:1:20-37: info: atom does not occur in any rule head:\n",
      "  ext_dep(5,6,s8y3)\n",
      "\n",
      "<block>:1:22-41: info: atom does not occur in any rule head:\n",
      "  ext_dep(5,6,s8y1y3)\n",
      "\n"
     ]
    },
    {
     "name": "stderr",
     "output_type": "stream",
     "text": [
      "<block>:1:18-37: info: atom does not occur in any rule head:\n",
      "  ext_indep(5,6,s8y1)\n",
      "\n",
      "<block>:1:20-37: info: atom does not occur in any rule head:\n",
      "  ext_dep(3,6,s8y1)\n",
      "\n",
      "<block>:1:22-41: info: atom does not occur in any rule head:\n",
      "  ext_dep(5,6,s8y1y3)\n",
      "\n"
     ]
    },
    {
     "name": "stderr",
     "output_type": "stream",
     "text": [
      "<block>:1:18-37: info: atom does not occur in any rule head:\n",
      "  ext_indep(5,6,s8y1)\n",
      "\n",
      "<block>:1:20-37: info: atom does not occur in any rule head:\n",
      "  ext_dep(3,6,s8y1)\n",
      "\n",
      "<block>:1:22-41: info: atom does not occur in any rule head:\n",
      "  ext_dep(5,6,s8y1y3)\n",
      "\n"
     ]
    },
    {
     "name": "stderr",
     "output_type": "stream",
     "text": [
      "<block>:1:18-37: info: atom does not occur in any rule head:\n",
      "  ext_indep(5,6,s8y1)\n",
      "\n",
      "<block>:1:20-37: info: atom does not occur in any rule head:\n",
      "  ext_dep(5,6,s8y3)\n",
      "\n",
      "<block>:1:22-41: info: atom does not occur in any rule head:\n",
      "  ext_dep(5,6,s8y1y3)\n",
      "\n"
     ]
    },
    {
     "name": "stderr",
     "output_type": "stream",
     "text": [
      "<block>:1:18-37: info: atom does not occur in any rule head:\n",
      "  ext_indep(5,6,s8y1)\n",
      "\n",
      "<block>:1:20-37: info: atom does not occur in any rule head:\n",
      "  ext_dep(3,6,s8y1)\n",
      "\n",
      "<block>:1:22-41: info: atom does not occur in any rule head:\n",
      "  ext_dep(5,6,s8y1y3)\n",
      "\n"
     ]
    },
    {
     "name": "stderr",
     "output_type": "stream",
     "text": [
      "<block>:1:18-37: info: atom does not occur in any rule head:\n",
      "  ext_indep(5,6,s8y1)\n",
      "\n",
      "<block>:1:20-37: info: atom does not occur in any rule head:\n",
      "  ext_dep(1,6,s8y3)\n",
      "\n",
      "<block>:1:22-41: info: atom does not occur in any rule head:\n",
      "  ext_dep(5,6,s8y1y3)\n",
      "\n"
     ]
    },
    {
     "name": "stderr",
     "output_type": "stream",
     "text": [
      "<block>:1:18-37: info: atom does not occur in any rule head:\n",
      "  ext_indep(5,6,s8y1)\n",
      "\n",
      "<block>:1:20-37: info: atom does not occur in any rule head:\n",
      "  ext_dep(3,6,s8y1)\n",
      "\n",
      "<block>:1:22-41: info: atom does not occur in any rule head:\n",
      "  ext_dep(5,6,s8y1y3)\n",
      "\n"
     ]
    },
    {
     "name": "stderr",
     "output_type": "stream",
     "text": [
      "<block>:1:20-37: info: atom does not occur in any rule head:\n",
      "  ext_dep(5,6,s8y3)\n",
      "\n",
      "<block>:1:22-41: info: atom does not occur in any rule head:\n",
      "  ext_dep(5,6,s8y1y3)\n",
      "\n"
     ]
    },
    {
     "name": "stderr",
     "output_type": "stream",
     "text": [
      "<block>:1:20-37: info: atom does not occur in any rule head:\n",
      "  ext_dep(3,6,s8y1)\n",
      "\n",
      "<block>:1:22-41: info: atom does not occur in any rule head:\n",
      "  ext_dep(5,6,s8y1y3)\n",
      "\n"
     ]
    },
    {
     "name": "stderr",
     "output_type": "stream",
     "text": [
      "<block>:1:20-37: info: atom does not occur in any rule head:\n",
      "  ext_dep(3,6,s8y1)\n",
      "\n",
      "<block>:1:22-41: info: atom does not occur in any rule head:\n",
      "  ext_dep(5,6,s8y1y3)\n",
      "\n"
     ]
    },
    {
     "name": "stderr",
     "output_type": "stream",
     "text": [
      "<block>:1:20-37: info: atom does not occur in any rule head:\n",
      "  ext_dep(5,6,s8y3)\n",
      "\n",
      "<block>:1:22-41: info: atom does not occur in any rule head:\n",
      "  ext_dep(5,6,s8y1y3)\n",
      "\n"
     ]
    },
    {
     "name": "stderr",
     "output_type": "stream",
     "text": [
      "<block>:1:18-37: info: atom does not occur in any rule head:\n",
      "  ext_indep(5,6,s8y1)\n",
      "\n",
      "<block>:1:20-37: info: atom does not occur in any rule head:\n",
      "  ext_dep(5,6,s8y3)\n",
      "\n",
      "<block>:1:22-41: info: atom does not occur in any rule head:\n",
      "  ext_dep(5,6,s8y1y3)\n",
      "\n",
      "<block>:1:18-37: info: atom does not occur in any rule head:\n",
      "  ext_indep(5,6,s8y1)\n",
      "\n",
      "<block>:1:20-37: info: atom does not occur in any rule head:\n",
      "  ext_dep(5,6,s8y3)\n",
      "\n",
      "<block>:1:22-41: info: atom does not occur in any rule head:\n",
      "  ext_dep(5,6,s8y1y3)\n",
      "\n",
      "<block>:1:18-37: info: atom does not occur in any rule head:\n",
      "  ext_indep(5,6,s8y1)\n",
      "\n",
      "<block>:1:20-37: info: atom does not occur in any rule head:\n",
      "  ext_dep(5,6,s8y3)\n",
      "\n",
      "<block>:1:22-41: info: atom does not occur in any rule head:\n",
      "  ext_dep(5,6,s8y1y3)\n",
      "\n"
     ]
    },
    {
     "name": "stderr",
     "output_type": "stream",
     "text": [
      "<block>:1:18-37: info: atom does not occur in any rule head:\n",
      "  ext_indep(5,6,s8y1)\n",
      "\n",
      "<block>:1:20-37: info: atom does not occur in any rule head:\n",
      "  ext_dep(5,6,s8y3)\n",
      "\n",
      "<block>:1:22-41: info: atom does not occur in any rule head:\n",
      "  ext_dep(5,6,s8y1y3)\n",
      "\n",
      "<block>:1:18-37: info: atom does not occur in any rule head:\n",
      "  ext_indep(5,6,s8y1)\n",
      "\n",
      "<block>:1:20-37: info: atom does not occur in any rule head:\n",
      "  ext_dep(5,6,s8y3)\n",
      "\n",
      "<block>:1:22-41: info: atom does not occur in any rule head:\n",
      "  ext_dep(5,6,s8y1y3)\n",
      "\n"
     ]
    },
    {
     "name": "stderr",
     "output_type": "stream",
     "text": [
      "<block>:1:18-37: info: atom does not occur in any rule head:\n",
      "  ext_indep(5,6,s8y1)\n",
      "\n",
      "<block>:1:20-37: info: atom does not occur in any rule head:\n",
      "  ext_dep(3,6,s8y1)\n",
      "\n",
      "<block>:1:22-41: info: atom does not occur in any rule head:\n",
      "  ext_dep(5,6,s8y1y3)\n",
      "\n"
     ]
    },
    {
     "name": "stderr",
     "output_type": "stream",
     "text": [
      "<block>:1:18-37: info: atom does not occur in any rule head:\n",
      "  ext_indep(5,6,s8y1)\n",
      "\n",
      "<block>:1:20-37: info: atom does not occur in any rule head:\n",
      "  ext_dep(3,6,s8y1)\n",
      "\n",
      "<block>:1:22-41: info: atom does not occur in any rule head:\n",
      "  ext_dep(5,6,s8y1y3)\n",
      "\n"
     ]
    },
    {
     "name": "stderr",
     "output_type": "stream",
     "text": [
      "<block>:1:18-37: info: atom does not occur in any rule head:\n",
      "  ext_indep(5,6,s8y1)\n",
      "\n",
      "<block>:1:20-37: info: atom does not occur in any rule head:\n",
      "  ext_dep(3,6,s8y1)\n",
      "\n",
      "<block>:1:22-41: info: atom does not occur in any rule head:\n",
      "  ext_dep(5,6,s8y1y3)\n",
      "\n"
     ]
    },
    {
     "name": "stderr",
     "output_type": "stream",
     "text": [
      "<block>:1:18-37: info: atom does not occur in any rule head:\n",
      "  ext_indep(5,6,s8y1)\n",
      "\n",
      "<block>:1:20-37: info: atom does not occur in any rule head:\n",
      "  ext_dep(3,6,s8y1)\n",
      "\n",
      "<block>:1:22-41: info: atom does not occur in any rule head:\n",
      "  ext_dep(5,6,s8y1y3)\n",
      "\n"
     ]
    },
    {
     "name": "stderr",
     "output_type": "stream",
     "text": [
      "<block>:1:18-37: info: atom does not occur in any rule head:\n",
      "  ext_indep(5,6,s8y1)\n",
      "\n",
      "<block>:1:20-37: info: atom does not occur in any rule head:\n",
      "  ext_dep(3,6,s8y1)\n",
      "\n",
      "<block>:1:22-41: info: atom does not occur in any rule head:\n",
      "  ext_dep(5,6,s8y1y3)\n",
      "\n"
     ]
    },
    {
     "name": "stderr",
     "output_type": "stream",
     "text": [
      "<block>:1:18-37: info: atom does not occur in any rule head:\n",
      "  ext_indep(5,6,s8y1)\n",
      "\n",
      "<block>:1:20-37: info: atom does not occur in any rule head:\n",
      "  ext_dep(3,6,s8y1)\n",
      "\n",
      "<block>:1:22-41: info: atom does not occur in any rule head:\n",
      "  ext_dep(5,6,s8y1y3)\n",
      "\n"
     ]
    },
    {
     "name": "stderr",
     "output_type": "stream",
     "text": [
      "<block>:1:18-37: info: atom does not occur in any rule head:\n",
      "  ext_indep(5,6,s8y1)\n",
      "\n",
      "<block>:1:20-37: info: atom does not occur in any rule head:\n",
      "  ext_dep(3,6,s8y1)\n",
      "\n",
      "<block>:1:22-41: info: atom does not occur in any rule head:\n",
      "  ext_dep(5,6,s8y1y3)\n",
      "\n"
     ]
    },
    {
     "name": "stderr",
     "output_type": "stream",
     "text": [
      "<block>:1:18-37: info: atom does not occur in any rule head:\n",
      "  ext_indep(5,6,s8y1)\n",
      "\n",
      "<block>:1:20-37: info: atom does not occur in any rule head:\n",
      "  ext_dep(3,6,s8y1)\n",
      "\n",
      "<block>:1:22-41: info: atom does not occur in any rule head:\n",
      "  ext_dep(5,6,s8y1y3)\n",
      "\n"
     ]
    },
    {
     "name": "stderr",
     "output_type": "stream",
     "text": [
      "<block>:1:18-37: info: atom does not occur in any rule head:\n",
      "  ext_indep(5,6,s8y1)\n",
      "\n",
      "<block>:1:20-37: info: atom does not occur in any rule head:\n",
      "  ext_dep(3,6,s8y1)\n",
      "\n",
      "<block>:1:22-41: info: atom does not occur in any rule head:\n",
      "  ext_dep(5,6,s8y1y3)\n",
      "\n"
     ]
    },
    {
     "name": "stderr",
     "output_type": "stream",
     "text": [
      "<block>:1:20-37: info: atom does not occur in any rule head:\n",
      "  ext_dep(3,6,s8y1)\n",
      "\n",
      "<block>:1:22-41: info: atom does not occur in any rule head:\n",
      "  ext_dep(5,6,s8y1y3)\n",
      "\n"
     ]
    },
    {
     "name": "stderr",
     "output_type": "stream",
     "text": [
      "<block>:1:20-37: info: atom does not occur in any rule head:\n",
      "  ext_dep(5,6,s8y3)\n",
      "\n",
      "<block>:1:22-41: info: atom does not occur in any rule head:\n",
      "  ext_dep(5,6,s8y1y3)\n",
      "\n"
     ]
    },
    {
     "name": "stderr",
     "output_type": "stream",
     "text": [
      "<block>:1:20-37: info: atom does not occur in any rule head:\n",
      "  ext_dep(3,6,s8y1)\n",
      "\n",
      "<block>:1:22-41: info: atom does not occur in any rule head:\n",
      "  ext_dep(5,6,s8y1y3)\n",
      "\n"
     ]
    },
    {
     "name": "stderr",
     "output_type": "stream",
     "text": [
      "<block>:1:20-37: info: atom does not occur in any rule head:\n",
      "  ext_dep(5,6,s8y3)\n",
      "\n",
      "<block>:1:22-41: info: atom does not occur in any rule head:\n",
      "  ext_dep(5,6,s8y1y3)\n",
      "\n"
     ]
    },
    {
     "name": "stdout",
     "output_type": "stream",
     "text": [
      "WARNING: ignoring environment value of R_HOME\n"
     ]
    },
    {
     "name": "stdout",
     "output_type": "stream",
     "text": [
      "WARNING: ignoring environment value of R_HOME\n"
     ]
    },
    {
     "name": "stdout",
     "output_type": "stream",
     "text": [
      "WARNING: ignoring environment value of R_HOME\n"
     ]
    },
    {
     "name": "stdout",
     "output_type": "stream",
     "text": [
      "WARNING: ignoring environment value of R_HOME\n"
     ]
    },
    {
     "name": "stdout",
     "output_type": "stream",
     "text": [
      "WARNING: ignoring environment value of R_HOME\n"
     ]
    },
    {
     "name": "stdout",
     "output_type": "stream",
     "text": [
      "WARNING: ignoring environment value of R_HOME\n"
     ]
    },
    {
     "name": "stdout",
     "output_type": "stream",
     "text": [
      "WARNING: ignoring environment value of R_HOME\n"
     ]
    },
    {
     "name": "stdout",
     "output_type": "stream",
     "text": [
      "WARNING: ignoring environment value of R_HOME\n"
     ]
    },
    {
     "name": "stdout",
     "output_type": "stream",
     "text": [
      "WARNING: ignoring environment value of R_HOME\n"
     ]
    },
    {
     "name": "stdout",
     "output_type": "stream",
     "text": [
      "WARNING: ignoring environment value of R_HOME\n"
     ]
    },
    {
     "name": "stdout",
     "output_type": "stream",
     "text": [
      "WARNING: ignoring environment value of R_HOME\n"
     ]
    },
    {
     "name": "stdout",
     "output_type": "stream",
     "text": [
      "WARNING: ignoring environment value of R_HOME\n"
     ]
    },
    {
     "name": "stdout",
     "output_type": "stream",
     "text": [
      "WARNING: ignoring environment value of R_HOME\n"
     ]
    },
    {
     "name": "stdout",
     "output_type": "stream",
     "text": [
      "WARNING: ignoring environment value of R_HOME\n"
     ]
    },
    {
     "name": "stdout",
     "output_type": "stream",
     "text": [
      "WARNING: ignoring environment value of R_HOME\n"
     ]
    },
    {
     "name": "stdout",
     "output_type": "stream",
     "text": [
      "WARNING: ignoring environment value of R_HOME\n"
     ]
    },
    {
     "name": "stdout",
     "output_type": "stream",
     "text": [
      "WARNING: ignoring environment value of R_HOME\n"
     ]
    },
    {
     "name": "stdout",
     "output_type": "stream",
     "text": [
      "WARNING: ignoring environment value of R_HOME\n"
     ]
    },
    {
     "name": "stdout",
     "output_type": "stream",
     "text": [
      "WARNING: ignoring environment value of R_HOME\n"
     ]
    },
    {
     "name": "stdout",
     "output_type": "stream",
     "text": [
      "WARNING: ignoring environment value of R_HOME\n"
     ]
    },
    {
     "name": "stdout",
     "output_type": "stream",
     "text": [
      "WARNING: ignoring environment value of R_HOME\n"
     ]
    },
    {
     "name": "stdout",
     "output_type": "stream",
     "text": [
      "WARNING: ignoring environment value of R_HOME\n"
     ]
    },
    {
     "name": "stdout",
     "output_type": "stream",
     "text": [
      "WARNING: ignoring environment value of R_HOME\n"
     ]
    },
    {
     "name": "stdout",
     "output_type": "stream",
     "text": [
      "WARNING: ignoring environment value of R_HOME\n"
     ]
    },
    {
     "name": "stdout",
     "output_type": "stream",
     "text": [
      "WARNING: ignoring environment value of R_HOME\n"
     ]
    },
    {
     "name": "stdout",
     "output_type": "stream",
     "text": [
      "WARNING: ignoring environment value of R_HOME\n"
     ]
    },
    {
     "name": "stdout",
     "output_type": "stream",
     "text": [
      "WARNING: ignoring environment value of R_HOME\n"
     ]
    },
    {
     "name": "stdout",
     "output_type": "stream",
     "text": [
      "WARNING: ignoring environment value of R_HOME\n"
     ]
    },
    {
     "name": "stdout",
     "output_type": "stream",
     "text": [
      "WARNING: ignoring environment value of R_HOME\n"
     ]
    },
    {
     "name": "stdout",
     "output_type": "stream",
     "text": [
      "WARNING: ignoring environment value of R_HOME\n"
     ]
    },
    {
     "name": "stdout",
     "output_type": "stream",
     "text": [
      "WARNING: ignoring environment value of R_HOME\n"
     ]
    },
    {
     "name": "stdout",
     "output_type": "stream",
     "text": [
      "WARNING: ignoring environment value of R_HOME\n"
     ]
    },
    {
     "name": "stdout",
     "output_type": "stream",
     "text": [
      "WARNING: ignoring environment value of R_HOME\n"
     ]
    },
    {
     "name": "stdout",
     "output_type": "stream",
     "text": [
      "WARNING: ignoring environment value of R_HOME\n"
     ]
    },
    {
     "name": "stdout",
     "output_type": "stream",
     "text": [
      "WARNING: ignoring environment value of R_HOME\n"
     ]
    },
    {
     "name": "stdout",
     "output_type": "stream",
     "text": [
      "WARNING: ignoring environment value of R_HOME\n"
     ]
    },
    {
     "name": "stdout",
     "output_type": "stream",
     "text": [
      "WARNING: ignoring environment value of R_HOME\n"
     ]
    },
    {
     "name": "stdout",
     "output_type": "stream",
     "text": [
      "WARNING: ignoring environment value of R_HOME\n"
     ]
    },
    {
     "name": "stdout",
     "output_type": "stream",
     "text": [
      "WARNING: ignoring environment value of R_HOME\n"
     ]
    },
    {
     "name": "stdout",
     "output_type": "stream",
     "text": [
      "WARNING: ignoring environment value of R_HOME\n"
     ]
    },
    {
     "name": "stdout",
     "output_type": "stream",
     "text": [
      "WARNING: ignoring environment value of R_HOME\n"
     ]
    },
    {
     "name": "stdout",
     "output_type": "stream",
     "text": [
      "WARNING: ignoring environment value of R_HOME\n"
     ]
    },
    {
     "name": "stdout",
     "output_type": "stream",
     "text": [
      "WARNING: ignoring environment value of R_HOME\n"
     ]
    },
    {
     "name": "stdout",
     "output_type": "stream",
     "text": [
      "WARNING: ignoring environment value of R_HOME\n"
     ]
    },
    {
     "name": "stdout",
     "output_type": "stream",
     "text": [
      "WARNING: ignoring environment value of R_HOME\n"
     ]
    },
    {
     "name": "stdout",
     "output_type": "stream",
     "text": [
      "WARNING: ignoring environment value of R_HOME\n"
     ]
    },
    {
     "name": "stdout",
     "output_type": "stream",
     "text": [
      "WARNING: ignoring environment value of R_HOME\n"
     ]
    },
    {
     "name": "stdout",
     "output_type": "stream",
     "text": [
      "WARNING: ignoring environment value of R_HOME\n"
     ]
    },
    {
     "name": "stdout",
     "output_type": "stream",
     "text": [
      "WARNING: ignoring environment value of R_HOME\n"
     ]
    },
    {
     "name": "stdout",
     "output_type": "stream",
     "text": [
      "WARNING: ignoring environment value of R_HOME\n"
     ]
    },
    {
     "name": "stdout",
     "output_type": "stream",
     "text": [
      "WARNING: ignoring environment value of R_HOME\n"
     ]
    },
    {
     "name": "stdout",
     "output_type": "stream",
     "text": [
      "WARNING: ignoring environment value of R_HOME\n"
     ]
    },
    {
     "name": "stdout",
     "output_type": "stream",
     "text": [
      "WARNING: ignoring environment value of R_HOME\n"
     ]
    },
    {
     "name": "stdout",
     "output_type": "stream",
     "text": [
      "WARNING: ignoring environment value of R_HOME\n"
     ]
    },
    {
     "name": "stdout",
     "output_type": "stream",
     "text": [
      "WARNING: ignoring environment value of R_HOME\n"
     ]
    },
    {
     "name": "stdout",
     "output_type": "stream",
     "text": [
      "WARNING: ignoring environment value of R_HOME\n"
     ]
    },
    {
     "name": "stdout",
     "output_type": "stream",
     "text": [
      "WARNING: ignoring environment value of R_HOME\n"
     ]
    },
    {
     "name": "stdout",
     "output_type": "stream",
     "text": [
      "WARNING: ignoring environment value of R_HOME\n"
     ]
    },
    {
     "name": "stdout",
     "output_type": "stream",
     "text": [
      "WARNING: ignoring environment value of R_HOME\n"
     ]
    },
    {
     "name": "stdout",
     "output_type": "stream",
     "text": [
      "WARNING: ignoring environment value of R_HOME\n"
     ]
    },
    {
     "name": "stdout",
     "output_type": "stream",
     "text": [
      "WARNING: ignoring environment value of R_HOME\n"
     ]
    },
    {
     "name": "stdout",
     "output_type": "stream",
     "text": [
      "WARNING: ignoring environment value of R_HOME\n"
     ]
    },
    {
     "name": "stdout",
     "output_type": "stream",
     "text": [
      "WARNING: ignoring environment value of R_HOME\n"
     ]
    },
    {
     "name": "stdout",
     "output_type": "stream",
     "text": [
      "WARNING: ignoring environment value of R_HOME\n"
     ]
    },
    {
     "name": "stdout",
     "output_type": "stream",
     "text": [
      "WARNING: ignoring environment value of R_HOME\n"
     ]
    },
    {
     "name": "stdout",
     "output_type": "stream",
     "text": [
      "WARNING: ignoring environment value of R_HOME\n"
     ]
    },
    {
     "name": "stdout",
     "output_type": "stream",
     "text": [
      "WARNING: ignoring environment value of R_HOME\n"
     ]
    },
    {
     "name": "stdout",
     "output_type": "stream",
     "text": [
      "WARNING: ignoring environment value of R_HOME\n"
     ]
    },
    {
     "name": "stdout",
     "output_type": "stream",
     "text": [
      "WARNING: ignoring environment value of R_HOME\n"
     ]
    },
    {
     "name": "stdout",
     "output_type": "stream",
     "text": [
      "WARNING: ignoring environment value of R_HOME\n"
     ]
    },
    {
     "name": "stdout",
     "output_type": "stream",
     "text": [
      "WARNING: ignoring environment value of R_HOME\n"
     ]
    },
    {
     "name": "stdout",
     "output_type": "stream",
     "text": [
      "WARNING: ignoring environment value of R_HOME\n"
     ]
    },
    {
     "name": "stdout",
     "output_type": "stream",
     "text": [
      "WARNING: ignoring environment value of R_HOME\n"
     ]
    },
    {
     "name": "stdout",
     "output_type": "stream",
     "text": [
      "WARNING: ignoring environment value of R_HOME\n"
     ]
    },
    {
     "name": "stdout",
     "output_type": "stream",
     "text": [
      "WARNING: ignoring environment value of R_HOME\n"
     ]
    },
    {
     "name": "stdout",
     "output_type": "stream",
     "text": [
      "WARNING: ignoring environment value of R_HOME\n"
     ]
    },
    {
     "name": "stdout",
     "output_type": "stream",
     "text": [
      "WARNING: ignoring environment value of R_HOME\n"
     ]
    },
    {
     "name": "stdout",
     "output_type": "stream",
     "text": [
      "WARNING: ignoring environment value of R_HOME\n"
     ]
    },
    {
     "name": "stdout",
     "output_type": "stream",
     "text": [
      "WARNING: ignoring environment value of R_HOME\n"
     ]
    },
    {
     "name": "stdout",
     "output_type": "stream",
     "text": [
      "WARNING: ignoring environment value of R_HOME\n"
     ]
    },
    {
     "name": "stdout",
     "output_type": "stream",
     "text": [
      "WARNING: ignoring environment value of R_HOME\n"
     ]
    },
    {
     "name": "stdout",
     "output_type": "stream",
     "text": [
      "WARNING: ignoring environment value of R_HOME\n"
     ]
    },
    {
     "name": "stdout",
     "output_type": "stream",
     "text": [
      "WARNING: ignoring environment value of R_HOME\n"
     ]
    },
    {
     "name": "stdout",
     "output_type": "stream",
     "text": [
      "WARNING: ignoring environment value of R_HOME\n"
     ]
    },
    {
     "name": "stdout",
     "output_type": "stream",
     "text": [
      "WARNING: ignoring environment value of R_HOME\n"
     ]
    },
    {
     "name": "stdout",
     "output_type": "stream",
     "text": [
      "WARNING: ignoring environment value of R_HOME\n"
     ]
    },
    {
     "name": "stdout",
     "output_type": "stream",
     "text": [
      "WARNING: ignoring environment value of R_HOME\n"
     ]
    },
    {
     "name": "stdout",
     "output_type": "stream",
     "text": [
      "WARNING: ignoring environment value of R_HOME\n"
     ]
    },
    {
     "name": "stdout",
     "output_type": "stream",
     "text": [
      "WARNING: ignoring environment value of R_HOME\n"
     ]
    },
    {
     "name": "stdout",
     "output_type": "stream",
     "text": [
      "WARNING: ignoring environment value of R_HOME\n"
     ]
    },
    {
     "name": "stdout",
     "output_type": "stream",
     "text": [
      "WARNING: ignoring environment value of R_HOME\n"
     ]
    },
    {
     "name": "stdout",
     "output_type": "stream",
     "text": [
      "WARNING: ignoring environment value of R_HOME\n"
     ]
    },
    {
     "name": "stdout",
     "output_type": "stream",
     "text": [
      "WARNING: ignoring environment value of R_HOME\n"
     ]
    },
    {
     "name": "stdout",
     "output_type": "stream",
     "text": [
      "WARNING: ignoring environment value of R_HOME\n"
     ]
    },
    {
     "name": "stdout",
     "output_type": "stream",
     "text": [
      "WARNING: ignoring environment value of R_HOME\n"
     ]
    },
    {
     "name": "stdout",
     "output_type": "stream",
     "text": [
      "WARNING: ignoring environment value of R_HOME\n"
     ]
    },
    {
     "name": "stdout",
     "output_type": "stream",
     "text": [
      "WARNING: ignoring environment value of R_HOME\n"
     ]
    },
    {
     "name": "stdout",
     "output_type": "stream",
     "text": [
      "WARNING: ignoring environment value of R_HOME\n"
     ]
    },
    {
     "name": "stdout",
     "output_type": "stream",
     "text": [
      "WARNING: ignoring environment value of R_HOME\n"
     ]
    },
    {
     "name": "stdout",
     "output_type": "stream",
     "text": [
      "WARNING: ignoring environment value of R_HOME\n"
     ]
    },
    {
     "name": "stdout",
     "output_type": "stream",
     "text": [
      "WARNING: ignoring environment value of R_HOME\n"
     ]
    },
    {
     "name": "stdout",
     "output_type": "stream",
     "text": [
      "WARNING: ignoring environment value of R_HOME\n"
     ]
    },
    {
     "name": "stdout",
     "output_type": "stream",
     "text": [
      "WARNING: ignoring environment value of R_HOME\n"
     ]
    },
    {
     "name": "stdout",
     "output_type": "stream",
     "text": [
      "WARNING: ignoring environment value of R_HOME\n"
     ]
    },
    {
     "name": "stdout",
     "output_type": "stream",
     "text": [
      "WARNING: ignoring environment value of R_HOME\n"
     ]
    },
    {
     "name": "stdout",
     "output_type": "stream",
     "text": [
      "WARNING: ignoring environment value of R_HOME\n"
     ]
    },
    {
     "name": "stdout",
     "output_type": "stream",
     "text": [
      "WARNING: ignoring environment value of R_HOME\n"
     ]
    },
    {
     "name": "stdout",
     "output_type": "stream",
     "text": [
      "WARNING: ignoring environment value of R_HOME\n"
     ]
    },
    {
     "name": "stdout",
     "output_type": "stream",
     "text": [
      "WARNING: ignoring environment value of R_HOME\n"
     ]
    },
    {
     "name": "stdout",
     "output_type": "stream",
     "text": [
      "WARNING: ignoring environment value of R_HOME\n"
     ]
    },
    {
     "name": "stdout",
     "output_type": "stream",
     "text": [
      "WARNING: ignoring environment value of R_HOME\n"
     ]
    },
    {
     "name": "stdout",
     "output_type": "stream",
     "text": [
      "WARNING: ignoring environment value of R_HOME\n"
     ]
    },
    {
     "name": "stdout",
     "output_type": "stream",
     "text": [
      "WARNING: ignoring environment value of R_HOME\n"
     ]
    },
    {
     "name": "stdout",
     "output_type": "stream",
     "text": [
      "WARNING: ignoring environment value of R_HOME\n"
     ]
    },
    {
     "name": "stdout",
     "output_type": "stream",
     "text": [
      "WARNING: ignoring environment value of R_HOME\n"
     ]
    },
    {
     "name": "stdout",
     "output_type": "stream",
     "text": [
      "WARNING: ignoring environment value of R_HOME\n"
     ]
    },
    {
     "name": "stdout",
     "output_type": "stream",
     "text": [
      "WARNING: ignoring environment value of R_HOME\n"
     ]
    },
    {
     "name": "stdout",
     "output_type": "stream",
     "text": [
      "WARNING: ignoring environment value of R_HOME\n"
     ]
    },
    {
     "name": "stdout",
     "output_type": "stream",
     "text": [
      "WARNING: ignoring environment value of R_HOME\n"
     ]
    },
    {
     "name": "stdout",
     "output_type": "stream",
     "text": [
      "WARNING: ignoring environment value of R_HOME\n"
     ]
    },
    {
     "name": "stdout",
     "output_type": "stream",
     "text": [
      "WARNING: ignoring environment value of R_HOME\n"
     ]
    },
    {
     "name": "stdout",
     "output_type": "stream",
     "text": [
      "WARNING: ignoring environment value of R_HOME\n"
     ]
    },
    {
     "name": "stdout",
     "output_type": "stream",
     "text": [
      "WARNING: ignoring environment value of R_HOME\n"
     ]
    },
    {
     "name": "stdout",
     "output_type": "stream",
     "text": [
      "WARNING: ignoring environment value of R_HOME\n"
     ]
    },
    {
     "name": "stdout",
     "output_type": "stream",
     "text": [
      "WARNING: ignoring environment value of R_HOME\n"
     ]
    },
    {
     "name": "stdout",
     "output_type": "stream",
     "text": [
      "WARNING: ignoring environment value of R_HOME\n"
     ]
    },
    {
     "name": "stdout",
     "output_type": "stream",
     "text": [
      "WARNING: ignoring environment value of R_HOME\n"
     ]
    },
    {
     "name": "stdout",
     "output_type": "stream",
     "text": [
      "WARNING: ignoring environment value of R_HOME\n"
     ]
    },
    {
     "name": "stdout",
     "output_type": "stream",
     "text": [
      "WARNING: ignoring environment value of R_HOME\n"
     ]
    },
    {
     "name": "stdout",
     "output_type": "stream",
     "text": [
      "WARNING: ignoring environment value of R_HOME\n"
     ]
    },
    {
     "name": "stdout",
     "output_type": "stream",
     "text": [
      "WARNING: ignoring environment value of R_HOME\n"
     ]
    },
    {
     "name": "stdout",
     "output_type": "stream",
     "text": [
      "WARNING: ignoring environment value of R_HOME\n"
     ]
    },
    {
     "name": "stdout",
     "output_type": "stream",
     "text": [
      "WARNING: ignoring environment value of R_HOME\n"
     ]
    },
    {
     "name": "stdout",
     "output_type": "stream",
     "text": [
      "WARNING: ignoring environment value of R_HOME\n"
     ]
    },
    {
     "name": "stdout",
     "output_type": "stream",
     "text": [
      "WARNING: ignoring environment value of R_HOME\n"
     ]
    },
    {
     "name": "stdout",
     "output_type": "stream",
     "text": [
      "WARNING: ignoring environment value of R_HOME\n"
     ]
    },
    {
     "name": "stdout",
     "output_type": "stream",
     "text": [
      "WARNING: ignoring environment value of R_HOME\n"
     ]
    },
    {
     "name": "stdout",
     "output_type": "stream",
     "text": [
      "WARNING: ignoring environment value of R_HOME\n"
     ]
    },
    {
     "name": "stdout",
     "output_type": "stream",
     "text": [
      "WARNING: ignoring environment value of R_HOME\n"
     ]
    },
    {
     "name": "stdout",
     "output_type": "stream",
     "text": [
      "WARNING: ignoring environment value of R_HOME\n"
     ]
    },
    {
     "name": "stdout",
     "output_type": "stream",
     "text": [
      "WARNING: ignoring environment value of R_HOME\n"
     ]
    },
    {
     "name": "stdout",
     "output_type": "stream",
     "text": [
      "WARNING: ignoring environment value of R_HOME\n"
     ]
    },
    {
     "name": "stdout",
     "output_type": "stream",
     "text": [
      "WARNING: ignoring environment value of R_HOME\n"
     ]
    },
    {
     "name": "stdout",
     "output_type": "stream",
     "text": [
      "WARNING: ignoring environment value of R_HOME\n"
     ]
    },
    {
     "name": "stdout",
     "output_type": "stream",
     "text": [
      "WARNING: ignoring environment value of R_HOME\n"
     ]
    },
    {
     "name": "stdout",
     "output_type": "stream",
     "text": [
      "WARNING: ignoring environment value of R_HOME\n"
     ]
    },
    {
     "name": "stdout",
     "output_type": "stream",
     "text": [
      "WARNING: ignoring environment value of R_HOME\n"
     ]
    },
    {
     "name": "stdout",
     "output_type": "stream",
     "text": [
      "WARNING: ignoring environment value of R_HOME\n"
     ]
    },
    {
     "name": "stdout",
     "output_type": "stream",
     "text": [
      "WARNING: ignoring environment value of R_HOME\n"
     ]
    },
    {
     "name": "stdout",
     "output_type": "stream",
     "text": [
      "WARNING: ignoring environment value of R_HOME\n"
     ]
    },
    {
     "name": "stdout",
     "output_type": "stream",
     "text": [
      "WARNING: ignoring environment value of R_HOME\n"
     ]
    },
    {
     "name": "stdout",
     "output_type": "stream",
     "text": [
      "WARNING: ignoring environment value of R_HOME\n"
     ]
    },
    {
     "name": "stdout",
     "output_type": "stream",
     "text": [
      "WARNING: ignoring environment value of R_HOME\n"
     ]
    },
    {
     "name": "stdout",
     "output_type": "stream",
     "text": [
      "WARNING: ignoring environment value of R_HOME\n"
     ]
    },
    {
     "name": "stdout",
     "output_type": "stream",
     "text": [
      "WARNING: ignoring environment value of R_HOME\n"
     ]
    },
    {
     "name": "stdout",
     "output_type": "stream",
     "text": [
      "WARNING: ignoring environment value of R_HOME\n"
     ]
    },
    {
     "name": "stdout",
     "output_type": "stream",
     "text": [
      "WARNING: ignoring environment value of R_HOME\n"
     ]
    },
    {
     "name": "stdout",
     "output_type": "stream",
     "text": [
      "WARNING: ignoring environment value of R_HOME\n"
     ]
    },
    {
     "name": "stdout",
     "output_type": "stream",
     "text": [
      "WARNING: ignoring environment value of R_HOME\n"
     ]
    },
    {
     "name": "stdout",
     "output_type": "stream",
     "text": [
      "WARNING: ignoring environment value of R_HOME\n"
     ]
    },
    {
     "name": "stdout",
     "output_type": "stream",
     "text": [
      "WARNING: ignoring environment value of R_HOME\n"
     ]
    },
    {
     "name": "stdout",
     "output_type": "stream",
     "text": [
      "WARNING: ignoring environment value of R_HOME\n"
     ]
    },
    {
     "name": "stdout",
     "output_type": "stream",
     "text": [
      "WARNING: ignoring environment value of R_HOME\n"
     ]
    },
    {
     "name": "stdout",
     "output_type": "stream",
     "text": [
      "WARNING: ignoring environment value of R_HOME\n"
     ]
    },
    {
     "name": "stdout",
     "output_type": "stream",
     "text": [
      "WARNING: ignoring environment value of R_HOME\n"
     ]
    },
    {
     "name": "stdout",
     "output_type": "stream",
     "text": [
      "WARNING: ignoring environment value of R_HOME\n"
     ]
    },
    {
     "name": "stdout",
     "output_type": "stream",
     "text": [
      "WARNING: ignoring environment value of R_HOME\n"
     ]
    },
    {
     "name": "stdout",
     "output_type": "stream",
     "text": [
      "WARNING: ignoring environment value of R_HOME\n"
     ]
    },
    {
     "name": "stdout",
     "output_type": "stream",
     "text": [
      "WARNING: ignoring environment value of R_HOME\n"
     ]
    },
    {
     "name": "stdout",
     "output_type": "stream",
     "text": [
      "WARNING: ignoring environment value of R_HOME\n"
     ]
    },
    {
     "name": "stdout",
     "output_type": "stream",
     "text": [
      "WARNING: ignoring environment value of R_HOME\n"
     ]
    },
    {
     "name": "stdout",
     "output_type": "stream",
     "text": [
      "WARNING: ignoring environment value of R_HOME\n"
     ]
    },
    {
     "name": "stdout",
     "output_type": "stream",
     "text": [
      "WARNING: ignoring environment value of R_HOME\n"
     ]
    },
    {
     "name": "stdout",
     "output_type": "stream",
     "text": [
      "WARNING: ignoring environment value of R_HOME\n"
     ]
    },
    {
     "name": "stdout",
     "output_type": "stream",
     "text": [
      "WARNING: ignoring environment value of R_HOME\n"
     ]
    },
    {
     "name": "stdout",
     "output_type": "stream",
     "text": [
      "WARNING: ignoring environment value of R_HOME\n"
     ]
    },
    {
     "name": "stdout",
     "output_type": "stream",
     "text": [
      "WARNING: ignoring environment value of R_HOME\n"
     ]
    },
    {
     "name": "stdout",
     "output_type": "stream",
     "text": [
      "WARNING: ignoring environment value of R_HOME\n"
     ]
    },
    {
     "name": "stdout",
     "output_type": "stream",
     "text": [
      "WARNING: ignoring environment value of R_HOME\n"
     ]
    },
    {
     "name": "stdout",
     "output_type": "stream",
     "text": [
      "WARNING: ignoring environment value of R_HOME\n"
     ]
    },
    {
     "name": "stdout",
     "output_type": "stream",
     "text": [
      "WARNING: ignoring environment value of R_HOME\n"
     ]
    },
    {
     "name": "stdout",
     "output_type": "stream",
     "text": [
      "WARNING: ignoring environment value of R_HOME\n"
     ]
    },
    {
     "name": "stdout",
     "output_type": "stream",
     "text": [
      "WARNING: ignoring environment value of R_HOME\n"
     ]
    },
    {
     "name": "stdout",
     "output_type": "stream",
     "text": [
      "WARNING: ignoring environment value of R_HOME\n"
     ]
    },
    {
     "name": "stdout",
     "output_type": "stream",
     "text": [
      "WARNING: ignoring environment value of R_HOME\n"
     ]
    },
    {
     "name": "stdout",
     "output_type": "stream",
     "text": [
      "WARNING: ignoring environment value of R_HOME\n"
     ]
    },
    {
     "name": "stdout",
     "output_type": "stream",
     "text": [
      "WARNING: ignoring environment value of R_HOME\n"
     ]
    },
    {
     "name": "stdout",
     "output_type": "stream",
     "text": [
      "WARNING: ignoring environment value of R_HOME\n"
     ]
    },
    {
     "name": "stdout",
     "output_type": "stream",
     "text": [
      "WARNING: ignoring environment value of R_HOME\n"
     ]
    },
    {
     "name": "stdout",
     "output_type": "stream",
     "text": [
      "WARNING: ignoring environment value of R_HOME\n"
     ]
    },
    {
     "name": "stdout",
     "output_type": "stream",
     "text": [
      "WARNING: ignoring environment value of R_HOME\n"
     ]
    },
    {
     "name": "stdout",
     "output_type": "stream",
     "text": [
      "WARNING: ignoring environment value of R_HOME\n"
     ]
    },
    {
     "name": "stdout",
     "output_type": "stream",
     "text": [
      "WARNING: ignoring environment value of R_HOME\n"
     ]
    },
    {
     "name": "stdout",
     "output_type": "stream",
     "text": [
      "WARNING: ignoring environment value of R_HOME\n"
     ]
    },
    {
     "name": "stdout",
     "output_type": "stream",
     "text": [
      "WARNING: ignoring environment value of R_HOME\n"
     ]
    },
    {
     "name": "stdout",
     "output_type": "stream",
     "text": [
      "WARNING: ignoring environment value of R_HOME\n"
     ]
    },
    {
     "name": "stdout",
     "output_type": "stream",
     "text": [
      "WARNING: ignoring environment value of R_HOME\n"
     ]
    },
    {
     "name": "stdout",
     "output_type": "stream",
     "text": [
      "WARNING: ignoring environment value of R_HOME\n"
     ]
    },
    {
     "name": "stdout",
     "output_type": "stream",
     "text": [
      "WARNING: ignoring environment value of R_HOME\n"
     ]
    },
    {
     "name": "stdout",
     "output_type": "stream",
     "text": [
      "WARNING: ignoring environment value of R_HOME\n"
     ]
    },
    {
     "name": "stderr",
     "output_type": "stream",
     "text": [
      "<block>:1:45-60: info: atom does not occur in any rule head:\n",
      "  ap(2,3,#P0,empty)\n",
      "\n"
     ]
    },
    {
     "name": "stderr",
     "output_type": "stream",
     "text": [
      "<block>:1:45-60: info: atom does not occur in any rule head:\n",
      "  ap(2,3,#P0,empty)\n",
      "\n"
     ]
    },
    {
     "name": "stderr",
     "output_type": "stream",
     "text": [
      "<block>:1:45-60: info: atom does not occur in any rule head:\n",
      "  ap(2,3,#P0,empty)\n",
      "\n",
      "<block>:1:45-60: info: atom does not occur in any rule head:\n",
      "  ap(2,3,#P0,empty)\n",
      "\n"
     ]
    },
    {
     "name": "stderr",
     "output_type": "stream",
     "text": [
      "<block>:1:45-60: info: atom does not occur in any rule head:\n",
      "  ap(2,3,#P0,empty)\n",
      "\n",
      "<block>:1:45-60: info: atom does not occur in any rule head:\n",
      "  ap(2,3,#P0,empty)\n",
      "\n"
     ]
    },
    {
     "name": "stderr",
     "output_type": "stream",
     "text": [
      "<block>:1:45-60: info: atom does not occur in any rule head:\n",
      "  ap(4,5,#P0,empty)\n",
      "\n",
      "<block>:1:45-60: info: atom does not occur in any rule head:\n",
      "  ap(4,5,#P0,empty)\n",
      "\n",
      "<block>:1:45-60: info: atom does not occur in any rule head:\n",
      "  ap(4,5,#P0,empty)\n",
      "\n",
      "<block>:1:45-60: info: atom does not occur in any rule head:\n",
      "  ap(4,5,#P0,empty)\n",
      "\n"
     ]
    },
    {
     "name": "stderr",
     "output_type": "stream",
     "text": [
      "<block>:1:45-60: info: atom does not occur in any rule head:\n",
      "  ap(2,3,#P0,empty)\n",
      "\n",
      "<block>:1:45-60: info: atom does not occur in any rule head:\n",
      "  ap(2,3,#P0,empty)\n",
      "\n"
     ]
    },
    {
     "name": "stderr",
     "output_type": "stream",
     "text": [
      "<block>:1:45-60: info: atom does not occur in any rule head:\n",
      "  ap(4,5,#P0,empty)\n",
      "\n",
      "<block>:1:45-60: info: atom does not occur in any rule head:\n",
      "  ap(4,5,#P0,empty)\n",
      "\n",
      "/homes/zl1724/causalaba/encodings/causalaba.lp:4:11-18: info: atom does not occur in any rule head:\n",
      "  in(#Anon0,X)\n",
      "\n",
      "/homes/zl1724/causalaba/encodings/causalaba.lp:12:64-71: info: atom does not occur in any rule head:\n",
      "  in(X,S)\n",
      "\n",
      "/homes/zl1724/causalaba/encodings/causalaba.lp:12:77-84: info: atom does not occur in any rule head:\n",
      "  in(Y,S)\n",
      "\n",
      "/homes/zl1724/causalaba/encodings/causalaba.lp:21:63-70: info: atom does not occur in any rule head:\n",
      "  in(X,S)\n",
      "\n",
      "/homes/zl1724/causalaba/encodings/causalaba.lp:21:76-83: info: atom does not occur in any rule head:\n",
      "  in(Y,S)\n",
      "\n",
      "/homes/zl1724/causalaba/encodings/causalaba.lp:36:16-23: info: atom does not occur in any rule head:\n",
      "  in(N,S)\n",
      "\n",
      "/homes/zl1724/causalaba/encodings/causalaba.lp:37:20-27: info: atom does not occur in any rule head:\n",
      "  in(N,S)\n",
      "\n",
      "/homes/zl1724/causalaba/encodings/causalaba.lp:38:20-27: info: atom does not occur in any rule head:\n",
      "  in(N,S)\n",
      "\n",
      "/homes/zl1724/causalaba/encodings/causalaba.lp:38:71-78: info: atom does not occur in any rule head:\n",
      "  in(Z,S)\n",
      "\n",
      "/homes/zl1724/causalaba/encodings/causalaba.lp:4:11-18: info: atom does not occur in any rule head:\n",
      "  in(#Anon0,X)\n",
      "\n",
      "/homes/zl1724/causalaba/encodings/causalaba.lp:12:64-71: info: atom does not occur in any rule head:\n",
      "  in(X,S)\n",
      "\n",
      "/homes/zl1724/causalaba/encodings/causalaba.lp:12:77-84: info: atom does not occur in any rule head:\n",
      "  in(Y,S)\n",
      "\n",
      "/homes/zl1724/causalaba/encodings/causalaba.lp:21:63-70: info: atom does not occur in any rule head:\n",
      "  in(X,S)\n",
      "\n",
      "/homes/zl1724/causalaba/encodings/causalaba.lp:21:76-83: info: atom does not occur in any rule head:\n",
      "  in(Y,S)\n",
      "\n",
      "/homes/zl1724/causalaba/encodings/causalaba.lp:36:16-23: info: atom does not occur in any rule head:\n",
      "  in(N,S)\n",
      "\n",
      "/homes/zl1724/causalaba/encodings/causalaba.lp:37:20-27: info: atom does not occur in any rule head:\n",
      "  in(N,S)\n",
      "\n",
      "/homes/zl1724/causalaba/encodings/causalaba.lp:38:20-27: info: atom does not occur in any rule head:\n",
      "  in(N,S)\n",
      "\n",
      "/homes/zl1724/causalaba/encodings/causalaba.lp:38:71-78: info: atom does not occur in any rule head:\n",
      "  in(Z,S)\n",
      "\n"
     ]
    },
    {
     "name": "stderr",
     "output_type": "stream",
     "text": [
      "<block>:1:45-60: info: atom does not occur in any rule head:\n",
      "  ap(4,5,#P0,empty)\n",
      "\n",
      "<block>:1:45-60: info: atom does not occur in any rule head:\n",
      "  ap(4,5,#P0,empty)\n",
      "\n"
     ]
    },
    {
     "name": "stderr",
     "output_type": "stream",
     "text": [
      "/homes/zl1724/causalaba/encodings/causalaba.lp:4:11-18: info: atom does not occur in any rule head:\n",
      "  in(#Anon0,X)\n",
      "\n",
      "/homes/zl1724/causalaba/encodings/causalaba.lp:12:64-71: info: atom does not occur in any rule head:\n",
      "  in(X,S)\n",
      "\n",
      "/homes/zl1724/causalaba/encodings/causalaba.lp:12:77-84: info: atom does not occur in any rule head:\n",
      "  in(Y,S)\n",
      "\n",
      "/homes/zl1724/causalaba/encodings/causalaba.lp:21:63-70: info: atom does not occur in any rule head:\n",
      "  in(X,S)\n",
      "\n",
      "/homes/zl1724/causalaba/encodings/causalaba.lp:21:76-83: info: atom does not occur in any rule head:\n",
      "  in(Y,S)\n",
      "\n",
      "/homes/zl1724/causalaba/encodings/causalaba.lp:36:16-23: info: atom does not occur in any rule head:\n",
      "  in(N,S)\n",
      "\n",
      "/homes/zl1724/causalaba/encodings/causalaba.lp:37:20-27: info: atom does not occur in any rule head:\n",
      "  in(N,S)\n",
      "\n",
      "/homes/zl1724/causalaba/encodings/causalaba.lp:38:20-27: info: atom does not occur in any rule head:\n",
      "  in(N,S)\n",
      "\n",
      "/homes/zl1724/causalaba/encodings/causalaba.lp:38:71-78: info: atom does not occur in any rule head:\n",
      "  in(Z,S)\n",
      "\n",
      "/homes/zl1724/causalaba/encodings/causalaba.lp:4:11-18: info: atom does not occur in any rule head:\n",
      "  in(#Anon0,X)\n",
      "\n",
      "/homes/zl1724/causalaba/encodings/causalaba.lp:12:64-71: info: atom does not occur in any rule head:\n",
      "  in(X,S)\n",
      "\n",
      "/homes/zl1724/causalaba/encodings/causalaba.lp:12:77-84: info: atom does not occur in any rule head:\n",
      "  in(Y,S)\n",
      "\n",
      "/homes/zl1724/causalaba/encodings/causalaba.lp:21:63-70: info: atom does not occur in any rule head:\n",
      "  in(X,S)\n",
      "\n",
      "/homes/zl1724/causalaba/encodings/causalaba.lp:21:76-83: info: atom does not occur in any rule head:\n",
      "  in(Y,S)\n",
      "\n",
      "/homes/zl1724/causalaba/encodings/causalaba.lp:36:16-23: info: atom does not occur in any rule head:\n",
      "  in(N,S)\n",
      "\n",
      "/homes/zl1724/causalaba/encodings/causalaba.lp:37:20-27: info: atom does not occur in any rule head:\n",
      "  in(N,S)\n",
      "\n",
      "/homes/zl1724/causalaba/encodings/causalaba.lp:38:20-27: info: atom does not occur in any rule head:\n",
      "  in(N,S)\n",
      "\n",
      "/homes/zl1724/causalaba/encodings/causalaba.lp:38:71-78: info: atom does not occur in any rule head:\n",
      "  in(Z,S)\n",
      "\n",
      "<block>:1:45-60: info: atom does not occur in any rule head:\n",
      "  ap(2,3,#P0,empty)\n",
      "\n",
      "<block>:1:45-60: info: atom does not occur in any rule head:\n",
      "  ap(2,3,#P0,empty)\n",
      "\n",
      "<block>:1:39-51: info: atom does not occur in any rule head:\n",
      "  ap(3,4,#P0,s2)\n",
      "\n",
      "<block>:1:45-60: info: atom does not occur in any rule head:\n",
      "  ap(3,4,#P0,empty)\n",
      "\n"
     ]
    },
    {
     "name": "stderr",
     "output_type": "stream",
     "text": [
      "<block>:1:39-51: info: atom does not occur in any rule head:\n",
      "  ap(3,4,#P0,s2)\n",
      "\n",
      "<block>:1:45-60: info: atom does not occur in any rule head:\n",
      "  ap(3,4,#P0,empty)\n",
      "\n"
     ]
    },
    {
     "name": "stderr",
     "output_type": "stream",
     "text": [
      "<block>:1:45-60: info: atom does not occur in any rule head:\n",
      "  ap(3,5,#P0,empty)\n",
      "\n",
      "<block>:1:45-60: info: atom does not occur in any rule head:\n",
      "  ap(3,5,#P0,empty)\n",
      "\n"
     ]
    },
    {
     "name": "stderr",
     "output_type": "stream",
     "text": [
      "<block>:1:45-60: info: atom does not occur in any rule head:\n",
      "  ap(2,3,#P0,empty)\n",
      "\n",
      "<block>:1:45-60: info: atom does not occur in any rule head:\n",
      "  ap(2,3,#P0,empty)\n",
      "\n"
     ]
    },
    {
     "name": "stderr",
     "output_type": "stream",
     "text": [
      "<block>:1:45-60: info: atom does not occur in any rule head:\n",
      "  ap(3,4,#P0,empty)\n",
      "\n"
     ]
    },
    {
     "name": "stderr",
     "output_type": "stream",
     "text": [
      "<block>:1:45-60: info: atom does not occur in any rule head:\n",
      "  ap(3,4,#P0,empty)\n",
      "\n"
     ]
    },
    {
     "name": "stderr",
     "output_type": "stream",
     "text": [
      "<block>:1:45-60: info: atom does not occur in any rule head:\n",
      "  ap(4,5,#P0,empty)\n",
      "\n",
      "<block>:1:45-60: info: atom does not occur in any rule head:\n",
      "  ap(4,5,#P0,empty)\n",
      "\n",
      "/homes/zl1724/causalaba/encodings/causalaba.lp:4:11-18: info: atom does not occur in any rule head:\n",
      "  in(#Anon0,X)\n",
      "\n",
      "/homes/zl1724/causalaba/encodings/causalaba.lp:12:64-71: info: atom does not occur in any rule head:\n",
      "  in(X,S)\n",
      "\n",
      "/homes/zl1724/causalaba/encodings/causalaba.lp:12:77-84: info: atom does not occur in any rule head:\n",
      "  in(Y,S)\n",
      "\n",
      "/homes/zl1724/causalaba/encodings/causalaba.lp:21:63-70: info: atom does not occur in any rule head:\n",
      "  in(X,S)\n",
      "\n",
      "/homes/zl1724/causalaba/encodings/causalaba.lp:21:76-83: info: atom does not occur in any rule head:\n",
      "  in(Y,S)\n",
      "\n",
      "/homes/zl1724/causalaba/encodings/causalaba.lp:36:16-23: info: atom does not occur in any rule head:\n",
      "  in(N,S)\n",
      "\n",
      "/homes/zl1724/causalaba/encodings/causalaba.lp:37:20-27: info: atom does not occur in any rule head:\n",
      "  in(N,S)\n",
      "\n",
      "/homes/zl1724/causalaba/encodings/causalaba.lp:38:20-27: info: atom does not occur in any rule head:\n",
      "  in(N,S)\n",
      "\n",
      "/homes/zl1724/causalaba/encodings/causalaba.lp:38:71-78: info: atom does not occur in any rule head:\n",
      "  in(Z,S)\n",
      "\n",
      "/homes/zl1724/causalaba/encodings/causalaba.lp:4:11-18: info: atom does not occur in any rule head:\n",
      "  in(#Anon0,X)\n",
      "\n",
      "/homes/zl1724/causalaba/encodings/causalaba.lp:12:64-71: info: atom does not occur in any rule head:\n",
      "  in(X,S)\n",
      "\n",
      "/homes/zl1724/causalaba/encodings/causalaba.lp:12:77-84: info: atom does not occur in any rule head:\n",
      "  in(Y,S)\n",
      "\n",
      "/homes/zl1724/causalaba/encodings/causalaba.lp:21:63-70: info: atom does not occur in any rule head:\n",
      "  in(X,S)\n",
      "\n",
      "/homes/zl1724/causalaba/encodings/causalaba.lp:21:76-83: info: atom does not occur in any rule head:\n",
      "  in(Y,S)\n",
      "\n",
      "/homes/zl1724/causalaba/encodings/causalaba.lp:36:16-23: info: atom does not occur in any rule head:\n",
      "  in(N,S)\n",
      "\n",
      "/homes/zl1724/causalaba/encodings/causalaba.lp:37:20-27: info: atom does not occur in any rule head:\n",
      "  in(N,S)\n",
      "\n",
      "/homes/zl1724/causalaba/encodings/causalaba.lp:38:20-27: info: atom does not occur in any rule head:\n",
      "  in(N,S)\n",
      "\n",
      "/homes/zl1724/causalaba/encodings/causalaba.lp:38:71-78: info: atom does not occur in any rule head:\n",
      "  in(Z,S)\n",
      "\n"
     ]
    },
    {
     "name": "stderr",
     "output_type": "stream",
     "text": [
      "<block>:1:45-60: info: atom does not occur in any rule head:\n",
      "  ap(4,5,#P0,empty)\n",
      "\n",
      "<block>:1:45-60: info: atom does not occur in any rule head:\n",
      "  ap(4,5,#P0,empty)\n",
      "\n",
      "<block>:1:45-60: info: atom does not occur in any rule head:\n",
      "  ap(4,5,#P0,empty)\n",
      "\n",
      "<block>:1:45-60: info: atom does not occur in any rule head:\n",
      "  ap(4,5,#P0,empty)\n",
      "\n",
      "<block>:1:45-60: info: atom does not occur in any rule head:\n",
      "  ap(4,5,#P0,empty)\n",
      "\n"
     ]
    },
    {
     "name": "stderr",
     "output_type": "stream",
     "text": [
      "<block>:1:45-60: info: atom does not occur in any rule head:\n",
      "  ap(4,5,#P0,empty)\n",
      "\n"
     ]
    },
    {
     "name": "stderr",
     "output_type": "stream",
     "text": [
      "<block>:1:45-60: info: atom does not occur in any rule head:\n",
      "  ap(2,3,#P0,empty)\n",
      "\n",
      "<block>:1:45-60: info: atom does not occur in any rule head:\n",
      "  ap(2,3,#P0,empty)\n",
      "\n",
      "<block>:1:45-60: info: atom does not occur in any rule head:\n",
      "  ap(2,3,#P0,empty)\n",
      "\n",
      "<block>:1:45-60: info: atom does not occur in any rule head:\n",
      "  ap(2,3,#P0,empty)\n",
      "\n"
     ]
    },
    {
     "name": "stdout",
     "output_type": "stream",
     "text": [
      "WARNING: ignoring environment value of R_HOME\n"
     ]
    },
    {
     "name": "stdout",
     "output_type": "stream",
     "text": [
      "WARNING: ignoring environment value of R_HOME\n"
     ]
    },
    {
     "name": "stdout",
     "output_type": "stream",
     "text": [
      "WARNING: ignoring environment value of R_HOME\n"
     ]
    },
    {
     "name": "stdout",
     "output_type": "stream",
     "text": [
      "WARNING: ignoring environment value of R_HOME\n"
     ]
    },
    {
     "name": "stdout",
     "output_type": "stream",
     "text": [
      "WARNING: ignoring environment value of R_HOME\n"
     ]
    },
    {
     "name": "stdout",
     "output_type": "stream",
     "text": [
      "WARNING: ignoring environment value of R_HOME\n"
     ]
    },
    {
     "name": "stdout",
     "output_type": "stream",
     "text": [
      "WARNING: ignoring environment value of R_HOME\n"
     ]
    },
    {
     "name": "stdout",
     "output_type": "stream",
     "text": [
      "WARNING: ignoring environment value of R_HOME\n"
     ]
    },
    {
     "name": "stdout",
     "output_type": "stream",
     "text": [
      "WARNING: ignoring environment value of R_HOME\n"
     ]
    },
    {
     "name": "stdout",
     "output_type": "stream",
     "text": [
      "WARNING: ignoring environment value of R_HOME\n"
     ]
    },
    {
     "name": "stdout",
     "output_type": "stream",
     "text": [
      "WARNING: ignoring environment value of R_HOME\n"
     ]
    },
    {
     "name": "stdout",
     "output_type": "stream",
     "text": [
      "WARNING: ignoring environment value of R_HOME\n"
     ]
    },
    {
     "name": "stdout",
     "output_type": "stream",
     "text": [
      "WARNING: ignoring environment value of R_HOME\n"
     ]
    },
    {
     "name": "stdout",
     "output_type": "stream",
     "text": [
      "WARNING: ignoring environment value of R_HOME\n"
     ]
    },
    {
     "name": "stdout",
     "output_type": "stream",
     "text": [
      "WARNING: ignoring environment value of R_HOME\n"
     ]
    },
    {
     "name": "stdout",
     "output_type": "stream",
     "text": [
      "WARNING: ignoring environment value of R_HOME\n"
     ]
    },
    {
     "name": "stdout",
     "output_type": "stream",
     "text": [
      "WARNING: ignoring environment value of R_HOME\n"
     ]
    },
    {
     "name": "stdout",
     "output_type": "stream",
     "text": [
      "WARNING: ignoring environment value of R_HOME\n"
     ]
    },
    {
     "name": "stdout",
     "output_type": "stream",
     "text": [
      "WARNING: ignoring environment value of R_HOME\n"
     ]
    },
    {
     "name": "stdout",
     "output_type": "stream",
     "text": [
      "WARNING: ignoring environment value of R_HOME\n"
     ]
    },
    {
     "name": "stdout",
     "output_type": "stream",
     "text": [
      "WARNING: ignoring environment value of R_HOME\n"
     ]
    },
    {
     "name": "stdout",
     "output_type": "stream",
     "text": [
      "WARNING: ignoring environment value of R_HOME\n"
     ]
    },
    {
     "name": "stdout",
     "output_type": "stream",
     "text": [
      "WARNING: ignoring environment value of R_HOME\n"
     ]
    },
    {
     "name": "stdout",
     "output_type": "stream",
     "text": [
      "WARNING: ignoring environment value of R_HOME\n"
     ]
    },
    {
     "name": "stdout",
     "output_type": "stream",
     "text": [
      "WARNING: ignoring environment value of R_HOME\n"
     ]
    },
    {
     "name": "stdout",
     "output_type": "stream",
     "text": [
      "WARNING: ignoring environment value of R_HOME\n"
     ]
    },
    {
     "name": "stdout",
     "output_type": "stream",
     "text": [
      "WARNING: ignoring environment value of R_HOME\n"
     ]
    },
    {
     "name": "stdout",
     "output_type": "stream",
     "text": [
      "WARNING: ignoring environment value of R_HOME\n"
     ]
    },
    {
     "name": "stdout",
     "output_type": "stream",
     "text": [
      "WARNING: ignoring environment value of R_HOME\n"
     ]
    },
    {
     "name": "stdout",
     "output_type": "stream",
     "text": [
      "WARNING: ignoring environment value of R_HOME\n"
     ]
    },
    {
     "name": "stdout",
     "output_type": "stream",
     "text": [
      "WARNING: ignoring environment value of R_HOME\n"
     ]
    },
    {
     "name": "stdout",
     "output_type": "stream",
     "text": [
      "WARNING: ignoring environment value of R_HOME\n"
     ]
    },
    {
     "name": "stdout",
     "output_type": "stream",
     "text": [
      "WARNING: ignoring environment value of R_HOME\n"
     ]
    },
    {
     "name": "stdout",
     "output_type": "stream",
     "text": [
      "WARNING: ignoring environment value of R_HOME\n"
     ]
    },
    {
     "name": "stdout",
     "output_type": "stream",
     "text": [
      "WARNING: ignoring environment value of R_HOME\n"
     ]
    },
    {
     "name": "stdout",
     "output_type": "stream",
     "text": [
      "WARNING: ignoring environment value of R_HOME\n"
     ]
    },
    {
     "name": "stdout",
     "output_type": "stream",
     "text": [
      "WARNING: ignoring environment value of R_HOME\n"
     ]
    },
    {
     "name": "stdout",
     "output_type": "stream",
     "text": [
      "WARNING: ignoring environment value of R_HOME\n"
     ]
    },
    {
     "name": "stdout",
     "output_type": "stream",
     "text": [
      "WARNING: ignoring environment value of R_HOME\n"
     ]
    },
    {
     "name": "stdout",
     "output_type": "stream",
     "text": [
      "WARNING: ignoring environment value of R_HOME\n"
     ]
    },
    {
     "name": "stdout",
     "output_type": "stream",
     "text": [
      "WARNING: ignoring environment value of R_HOME\n"
     ]
    },
    {
     "name": "stdout",
     "output_type": "stream",
     "text": [
      "WARNING: ignoring environment value of R_HOME\n"
     ]
    },
    {
     "name": "stdout",
     "output_type": "stream",
     "text": [
      "WARNING: ignoring environment value of R_HOME\n"
     ]
    },
    {
     "name": "stdout",
     "output_type": "stream",
     "text": [
      "WARNING: ignoring environment value of R_HOME\n"
     ]
    },
    {
     "name": "stdout",
     "output_type": "stream",
     "text": [
      "WARNING: ignoring environment value of R_HOME\n"
     ]
    },
    {
     "name": "stdout",
     "output_type": "stream",
     "text": [
      "WARNING: ignoring environment value of R_HOME\n"
     ]
    },
    {
     "name": "stdout",
     "output_type": "stream",
     "text": [
      "WARNING: ignoring environment value of R_HOME\n"
     ]
    },
    {
     "name": "stdout",
     "output_type": "stream",
     "text": [
      "WARNING: ignoring environment value of R_HOME\n"
     ]
    },
    {
     "name": "stdout",
     "output_type": "stream",
     "text": [
      "WARNING: ignoring environment value of R_HOME\n"
     ]
    },
    {
     "name": "stdout",
     "output_type": "stream",
     "text": [
      "WARNING: ignoring environment value of R_HOME\n"
     ]
    },
    {
     "name": "stdout",
     "output_type": "stream",
     "text": [
      "WARNING: ignoring environment value of R_HOME\n"
     ]
    },
    {
     "name": "stdout",
     "output_type": "stream",
     "text": [
      "WARNING: ignoring environment value of R_HOME\n"
     ]
    },
    {
     "name": "stdout",
     "output_type": "stream",
     "text": [
      "WARNING: ignoring environment value of R_HOME\n"
     ]
    },
    {
     "name": "stdout",
     "output_type": "stream",
     "text": [
      "WARNING: ignoring environment value of R_HOME\n"
     ]
    },
    {
     "name": "stdout",
     "output_type": "stream",
     "text": [
      "WARNING: ignoring environment value of R_HOME\n"
     ]
    },
    {
     "name": "stdout",
     "output_type": "stream",
     "text": [
      "WARNING: ignoring environment value of R_HOME\n"
     ]
    },
    {
     "name": "stdout",
     "output_type": "stream",
     "text": [
      "WARNING: ignoring environment value of R_HOME\n"
     ]
    },
    {
     "name": "stdout",
     "output_type": "stream",
     "text": [
      "WARNING: ignoring environment value of R_HOME\n"
     ]
    },
    {
     "name": "stdout",
     "output_type": "stream",
     "text": [
      "WARNING: ignoring environment value of R_HOME\n"
     ]
    },
    {
     "name": "stdout",
     "output_type": "stream",
     "text": [
      "WARNING: ignoring environment value of R_HOME\n"
     ]
    },
    {
     "name": "stdout",
     "output_type": "stream",
     "text": [
      "WARNING: ignoring environment value of R_HOME\n"
     ]
    },
    {
     "name": "stdout",
     "output_type": "stream",
     "text": [
      "WARNING: ignoring environment value of R_HOME\n"
     ]
    },
    {
     "name": "stdout",
     "output_type": "stream",
     "text": [
      "WARNING: ignoring environment value of R_HOME\n"
     ]
    },
    {
     "name": "stdout",
     "output_type": "stream",
     "text": [
      "WARNING: ignoring environment value of R_HOME\n"
     ]
    },
    {
     "name": "stdout",
     "output_type": "stream",
     "text": [
      "WARNING: ignoring environment value of R_HOME\n"
     ]
    },
    {
     "name": "stdout",
     "output_type": "stream",
     "text": [
      "WARNING: ignoring environment value of R_HOME\n"
     ]
    },
    {
     "name": "stdout",
     "output_type": "stream",
     "text": [
      "WARNING: ignoring environment value of R_HOME\n"
     ]
    },
    {
     "name": "stdout",
     "output_type": "stream",
     "text": [
      "WARNING: ignoring environment value of R_HOME\n"
     ]
    },
    {
     "name": "stdout",
     "output_type": "stream",
     "text": [
      "WARNING: ignoring environment value of R_HOME\n"
     ]
    },
    {
     "name": "stdout",
     "output_type": "stream",
     "text": [
      "WARNING: ignoring environment value of R_HOME\n"
     ]
    },
    {
     "name": "stdout",
     "output_type": "stream",
     "text": [
      "WARNING: ignoring environment value of R_HOME\n"
     ]
    },
    {
     "name": "stdout",
     "output_type": "stream",
     "text": [
      "WARNING: ignoring environment value of R_HOME\n"
     ]
    },
    {
     "name": "stdout",
     "output_type": "stream",
     "text": [
      "WARNING: ignoring environment value of R_HOME\n"
     ]
    },
    {
     "name": "stdout",
     "output_type": "stream",
     "text": [
      "WARNING: ignoring environment value of R_HOME\n"
     ]
    },
    {
     "name": "stdout",
     "output_type": "stream",
     "text": [
      "WARNING: ignoring environment value of R_HOME\n"
     ]
    },
    {
     "name": "stdout",
     "output_type": "stream",
     "text": [
      "WARNING: ignoring environment value of R_HOME\n"
     ]
    },
    {
     "name": "stdout",
     "output_type": "stream",
     "text": [
      "WARNING: ignoring environment value of R_HOME\n"
     ]
    },
    {
     "name": "stdout",
     "output_type": "stream",
     "text": [
      "WARNING: ignoring environment value of R_HOME\n"
     ]
    },
    {
     "name": "stdout",
     "output_type": "stream",
     "text": [
      "WARNING: ignoring environment value of R_HOME\n"
     ]
    },
    {
     "name": "stdout",
     "output_type": "stream",
     "text": [
      "WARNING: ignoring environment value of R_HOME\n"
     ]
    },
    {
     "name": "stdout",
     "output_type": "stream",
     "text": [
      "WARNING: ignoring environment value of R_HOME\n"
     ]
    },
    {
     "name": "stdout",
     "output_type": "stream",
     "text": [
      "WARNING: ignoring environment value of R_HOME\n"
     ]
    },
    {
     "name": "stdout",
     "output_type": "stream",
     "text": [
      "WARNING: ignoring environment value of R_HOME\n"
     ]
    },
    {
     "name": "stdout",
     "output_type": "stream",
     "text": [
      "WARNING: ignoring environment value of R_HOME\n"
     ]
    },
    {
     "name": "stdout",
     "output_type": "stream",
     "text": [
      "WARNING: ignoring environment value of R_HOME\n"
     ]
    },
    {
     "name": "stdout",
     "output_type": "stream",
     "text": [
      "WARNING: ignoring environment value of R_HOME\n"
     ]
    },
    {
     "name": "stdout",
     "output_type": "stream",
     "text": [
      "WARNING: ignoring environment value of R_HOME\n"
     ]
    },
    {
     "name": "stdout",
     "output_type": "stream",
     "text": [
      "WARNING: ignoring environment value of R_HOME\n"
     ]
    },
    {
     "name": "stdout",
     "output_type": "stream",
     "text": [
      "WARNING: ignoring environment value of R_HOME\n"
     ]
    },
    {
     "name": "stdout",
     "output_type": "stream",
     "text": [
      "WARNING: ignoring environment value of R_HOME\n"
     ]
    },
    {
     "name": "stdout",
     "output_type": "stream",
     "text": [
      "WARNING: ignoring environment value of R_HOME\n"
     ]
    },
    {
     "name": "stdout",
     "output_type": "stream",
     "text": [
      "WARNING: ignoring environment value of R_HOME\n"
     ]
    },
    {
     "name": "stdout",
     "output_type": "stream",
     "text": [
      "WARNING: ignoring environment value of R_HOME\n"
     ]
    },
    {
     "name": "stdout",
     "output_type": "stream",
     "text": [
      "WARNING: ignoring environment value of R_HOME\n"
     ]
    },
    {
     "name": "stdout",
     "output_type": "stream",
     "text": [
      "WARNING: ignoring environment value of R_HOME\n"
     ]
    },
    {
     "name": "stdout",
     "output_type": "stream",
     "text": [
      "WARNING: ignoring environment value of R_HOME\n"
     ]
    },
    {
     "name": "stdout",
     "output_type": "stream",
     "text": [
      "WARNING: ignoring environment value of R_HOME\n"
     ]
    },
    {
     "name": "stdout",
     "output_type": "stream",
     "text": [
      "WARNING: ignoring environment value of R_HOME\n"
     ]
    },
    {
     "name": "stdout",
     "output_type": "stream",
     "text": [
      "WARNING: ignoring environment value of R_HOME\n"
     ]
    },
    {
     "name": "stdout",
     "output_type": "stream",
     "text": [
      "WARNING: ignoring environment value of R_HOME\n"
     ]
    },
    {
     "name": "stdout",
     "output_type": "stream",
     "text": [
      "WARNING: ignoring environment value of R_HOME\n"
     ]
    },
    {
     "name": "stdout",
     "output_type": "stream",
     "text": [
      "WARNING: ignoring environment value of R_HOME\n"
     ]
    },
    {
     "name": "stdout",
     "output_type": "stream",
     "text": [
      "WARNING: ignoring environment value of R_HOME\n"
     ]
    },
    {
     "name": "stdout",
     "output_type": "stream",
     "text": [
      "WARNING: ignoring environment value of R_HOME\n"
     ]
    },
    {
     "name": "stdout",
     "output_type": "stream",
     "text": [
      "WARNING: ignoring environment value of R_HOME\n"
     ]
    },
    {
     "name": "stdout",
     "output_type": "stream",
     "text": [
      "WARNING: ignoring environment value of R_HOME\n"
     ]
    },
    {
     "name": "stdout",
     "output_type": "stream",
     "text": [
      "WARNING: ignoring environment value of R_HOME\n"
     ]
    },
    {
     "name": "stdout",
     "output_type": "stream",
     "text": [
      "WARNING: ignoring environment value of R_HOME\n"
     ]
    },
    {
     "name": "stdout",
     "output_type": "stream",
     "text": [
      "WARNING: ignoring environment value of R_HOME\n"
     ]
    },
    {
     "name": "stdout",
     "output_type": "stream",
     "text": [
      "WARNING: ignoring environment value of R_HOME\n"
     ]
    },
    {
     "name": "stdout",
     "output_type": "stream",
     "text": [
      "WARNING: ignoring environment value of R_HOME\n"
     ]
    },
    {
     "name": "stdout",
     "output_type": "stream",
     "text": [
      "WARNING: ignoring environment value of R_HOME\n"
     ]
    },
    {
     "name": "stdout",
     "output_type": "stream",
     "text": [
      "WARNING: ignoring environment value of R_HOME\n"
     ]
    },
    {
     "name": "stdout",
     "output_type": "stream",
     "text": [
      "WARNING: ignoring environment value of R_HOME\n"
     ]
    },
    {
     "name": "stdout",
     "output_type": "stream",
     "text": [
      "WARNING: ignoring environment value of R_HOME\n"
     ]
    },
    {
     "name": "stdout",
     "output_type": "stream",
     "text": [
      "WARNING: ignoring environment value of R_HOME\n"
     ]
    },
    {
     "name": "stdout",
     "output_type": "stream",
     "text": [
      "WARNING: ignoring environment value of R_HOME\n"
     ]
    },
    {
     "name": "stdout",
     "output_type": "stream",
     "text": [
      "WARNING: ignoring environment value of R_HOME\n"
     ]
    },
    {
     "name": "stdout",
     "output_type": "stream",
     "text": [
      "WARNING: ignoring environment value of R_HOME\n"
     ]
    },
    {
     "name": "stdout",
     "output_type": "stream",
     "text": [
      "WARNING: ignoring environment value of R_HOME\n"
     ]
    },
    {
     "name": "stdout",
     "output_type": "stream",
     "text": [
      "WARNING: ignoring environment value of R_HOME\n"
     ]
    },
    {
     "name": "stdout",
     "output_type": "stream",
     "text": [
      "WARNING: ignoring environment value of R_HOME\n"
     ]
    },
    {
     "name": "stdout",
     "output_type": "stream",
     "text": [
      "WARNING: ignoring environment value of R_HOME\n"
     ]
    },
    {
     "name": "stdout",
     "output_type": "stream",
     "text": [
      "WARNING: ignoring environment value of R_HOME\n"
     ]
    },
    {
     "name": "stdout",
     "output_type": "stream",
     "text": [
      "WARNING: ignoring environment value of R_HOME\n"
     ]
    },
    {
     "name": "stdout",
     "output_type": "stream",
     "text": [
      "WARNING: ignoring environment value of R_HOME\n"
     ]
    },
    {
     "name": "stdout",
     "output_type": "stream",
     "text": [
      "WARNING: ignoring environment value of R_HOME\n"
     ]
    },
    {
     "name": "stdout",
     "output_type": "stream",
     "text": [
      "WARNING: ignoring environment value of R_HOME\n"
     ]
    },
    {
     "name": "stdout",
     "output_type": "stream",
     "text": [
      "WARNING: ignoring environment value of R_HOME\n"
     ]
    },
    {
     "name": "stdout",
     "output_type": "stream",
     "text": [
      "WARNING: ignoring environment value of R_HOME\n"
     ]
    },
    {
     "name": "stdout",
     "output_type": "stream",
     "text": [
      "WARNING: ignoring environment value of R_HOME\n"
     ]
    },
    {
     "name": "stdout",
     "output_type": "stream",
     "text": [
      "WARNING: ignoring environment value of R_HOME\n"
     ]
    },
    {
     "name": "stdout",
     "output_type": "stream",
     "text": [
      "WARNING: ignoring environment value of R_HOME\n"
     ]
    },
    {
     "name": "stdout",
     "output_type": "stream",
     "text": [
      "WARNING: ignoring environment value of R_HOME\n"
     ]
    },
    {
     "name": "stdout",
     "output_type": "stream",
     "text": [
      "WARNING: ignoring environment value of R_HOME\n"
     ]
    },
    {
     "name": "stdout",
     "output_type": "stream",
     "text": [
      "WARNING: ignoring environment value of R_HOME\n"
     ]
    },
    {
     "name": "stdout",
     "output_type": "stream",
     "text": [
      "WARNING: ignoring environment value of R_HOME\n"
     ]
    },
    {
     "name": "stdout",
     "output_type": "stream",
     "text": [
      "WARNING: ignoring environment value of R_HOME\n"
     ]
    },
    {
     "name": "stdout",
     "output_type": "stream",
     "text": [
      "WARNING: ignoring environment value of R_HOME\n"
     ]
    },
    {
     "name": "stdout",
     "output_type": "stream",
     "text": [
      "WARNING: ignoring environment value of R_HOME\n"
     ]
    },
    {
     "name": "stdout",
     "output_type": "stream",
     "text": [
      "WARNING: ignoring environment value of R_HOME\n"
     ]
    },
    {
     "name": "stdout",
     "output_type": "stream",
     "text": [
      "WARNING: ignoring environment value of R_HOME\n"
     ]
    },
    {
     "name": "stdout",
     "output_type": "stream",
     "text": [
      "WARNING: ignoring environment value of R_HOME\n"
     ]
    },
    {
     "name": "stdout",
     "output_type": "stream",
     "text": [
      "WARNING: ignoring environment value of R_HOME\n"
     ]
    },
    {
     "name": "stdout",
     "output_type": "stream",
     "text": [
      "WARNING: ignoring environment value of R_HOME\n"
     ]
    },
    {
     "name": "stdout",
     "output_type": "stream",
     "text": [
      "WARNING: ignoring environment value of R_HOME\n"
     ]
    },
    {
     "name": "stdout",
     "output_type": "stream",
     "text": [
      "WARNING: ignoring environment value of R_HOME\n"
     ]
    },
    {
     "name": "stdout",
     "output_type": "stream",
     "text": [
      "WARNING: ignoring environment value of R_HOME\n"
     ]
    },
    {
     "name": "stdout",
     "output_type": "stream",
     "text": [
      "WARNING: ignoring environment value of R_HOME\n"
     ]
    },
    {
     "name": "stdout",
     "output_type": "stream",
     "text": [
      "WARNING: ignoring environment value of R_HOME\n"
     ]
    },
    {
     "name": "stdout",
     "output_type": "stream",
     "text": [
      "WARNING: ignoring environment value of R_HOME\n"
     ]
    },
    {
     "name": "stdout",
     "output_type": "stream",
     "text": [
      "WARNING: ignoring environment value of R_HOME\n"
     ]
    },
    {
     "name": "stdout",
     "output_type": "stream",
     "text": [
      "WARNING: ignoring environment value of R_HOME\n"
     ]
    },
    {
     "name": "stdout",
     "output_type": "stream",
     "text": [
      "WARNING: ignoring environment value of R_HOME\n"
     ]
    },
    {
     "name": "stdout",
     "output_type": "stream",
     "text": [
      "WARNING: ignoring environment value of R_HOME\n"
     ]
    },
    {
     "name": "stdout",
     "output_type": "stream",
     "text": [
      "WARNING: ignoring environment value of R_HOME\n"
     ]
    },
    {
     "name": "stdout",
     "output_type": "stream",
     "text": [
      "WARNING: ignoring environment value of R_HOME\n"
     ]
    },
    {
     "name": "stdout",
     "output_type": "stream",
     "text": [
      "WARNING: ignoring environment value of R_HOME\n"
     ]
    },
    {
     "name": "stdout",
     "output_type": "stream",
     "text": [
      "WARNING: ignoring environment value of R_HOME\n"
     ]
    },
    {
     "name": "stdout",
     "output_type": "stream",
     "text": [
      "WARNING: ignoring environment value of R_HOME\n"
     ]
    },
    {
     "name": "stdout",
     "output_type": "stream",
     "text": [
      "WARNING: ignoring environment value of R_HOME\n"
     ]
    },
    {
     "name": "stdout",
     "output_type": "stream",
     "text": [
      "WARNING: ignoring environment value of R_HOME\n"
     ]
    },
    {
     "name": "stdout",
     "output_type": "stream",
     "text": [
      "WARNING: ignoring environment value of R_HOME\n"
     ]
    },
    {
     "name": "stdout",
     "output_type": "stream",
     "text": [
      "WARNING: ignoring environment value of R_HOME\n"
     ]
    },
    {
     "name": "stdout",
     "output_type": "stream",
     "text": [
      "WARNING: ignoring environment value of R_HOME\n"
     ]
    },
    {
     "name": "stdout",
     "output_type": "stream",
     "text": [
      "WARNING: ignoring environment value of R_HOME\n"
     ]
    },
    {
     "name": "stdout",
     "output_type": "stream",
     "text": [
      "WARNING: ignoring environment value of R_HOME\n"
     ]
    },
    {
     "name": "stdout",
     "output_type": "stream",
     "text": [
      "WARNING: ignoring environment value of R_HOME\n"
     ]
    },
    {
     "name": "stdout",
     "output_type": "stream",
     "text": [
      "WARNING: ignoring environment value of R_HOME\n"
     ]
    },
    {
     "name": "stdout",
     "output_type": "stream",
     "text": [
      "WARNING: ignoring environment value of R_HOME\n"
     ]
    },
    {
     "name": "stdout",
     "output_type": "stream",
     "text": [
      "WARNING: ignoring environment value of R_HOME\n"
     ]
    },
    {
     "name": "stdout",
     "output_type": "stream",
     "text": [
      "WARNING: ignoring environment value of R_HOME\n"
     ]
    },
    {
     "name": "stdout",
     "output_type": "stream",
     "text": [
      "WARNING: ignoring environment value of R_HOME\n"
     ]
    },
    {
     "name": "stdout",
     "output_type": "stream",
     "text": [
      "WARNING: ignoring environment value of R_HOME\n"
     ]
    },
    {
     "name": "stdout",
     "output_type": "stream",
     "text": [
      "WARNING: ignoring environment value of R_HOME\n"
     ]
    },
    {
     "name": "stdout",
     "output_type": "stream",
     "text": [
      "WARNING: ignoring environment value of R_HOME\n"
     ]
    },
    {
     "name": "stdout",
     "output_type": "stream",
     "text": [
      "WARNING: ignoring environment value of R_HOME\n"
     ]
    },
    {
     "name": "stdout",
     "output_type": "stream",
     "text": [
      "WARNING: ignoring environment value of R_HOME\n"
     ]
    },
    {
     "name": "stdout",
     "output_type": "stream",
     "text": [
      "WARNING: ignoring environment value of R_HOME\n"
     ]
    },
    {
     "name": "stdout",
     "output_type": "stream",
     "text": [
      "WARNING: ignoring environment value of R_HOME\n"
     ]
    },
    {
     "name": "stdout",
     "output_type": "stream",
     "text": [
      "WARNING: ignoring environment value of R_HOME\n"
     ]
    },
    {
     "name": "stdout",
     "output_type": "stream",
     "text": [
      "WARNING: ignoring environment value of R_HOME\n"
     ]
    },
    {
     "name": "stdout",
     "output_type": "stream",
     "text": [
      "WARNING: ignoring environment value of R_HOME\n"
     ]
    },
    {
     "name": "stdout",
     "output_type": "stream",
     "text": [
      "WARNING: ignoring environment value of R_HOME\n"
     ]
    },
    {
     "name": "stdout",
     "output_type": "stream",
     "text": [
      "WARNING: ignoring environment value of R_HOME\n"
     ]
    },
    {
     "name": "stdout",
     "output_type": "stream",
     "text": [
      "WARNING: ignoring environment value of R_HOME\n"
     ]
    },
    {
     "name": "stdout",
     "output_type": "stream",
     "text": [
      "WARNING: ignoring environment value of R_HOME\n"
     ]
    },
    {
     "name": "stdout",
     "output_type": "stream",
     "text": [
      "WARNING: ignoring environment value of R_HOME\n"
     ]
    },
    {
     "name": "stdout",
     "output_type": "stream",
     "text": [
      "WARNING: ignoring environment value of R_HOME\n"
     ]
    },
    {
     "name": "stdout",
     "output_type": "stream",
     "text": [
      "WARNING: ignoring environment value of R_HOME\n"
     ]
    },
    {
     "name": "stdout",
     "output_type": "stream",
     "text": [
      "WARNING: ignoring environment value of R_HOME\n"
     ]
    },
    {
     "name": "stdout",
     "output_type": "stream",
     "text": [
      "WARNING: ignoring environment value of R_HOME\n"
     ]
    },
    {
     "name": "stdout",
     "output_type": "stream",
     "text": [
      "WARNING: ignoring environment value of R_HOME\n"
     ]
    },
    {
     "name": "stdout",
     "output_type": "stream",
     "text": [
      "WARNING: ignoring environment value of R_HOME\n"
     ]
    },
    {
     "name": "stdout",
     "output_type": "stream",
     "text": [
      "WARNING: ignoring environment value of R_HOME\n"
     ]
    },
    {
     "name": "stdout",
     "output_type": "stream",
     "text": [
      "WARNING: ignoring environment value of R_HOME\n"
     ]
    },
    {
     "name": "stdout",
     "output_type": "stream",
     "text": [
      "WARNING: ignoring environment value of R_HOME\n"
     ]
    },
    {
     "name": "stdout",
     "output_type": "stream",
     "text": [
      "WARNING: ignoring environment value of R_HOME\n"
     ]
    },
    {
     "name": "stdout",
     "output_type": "stream",
     "text": [
      "WARNING: ignoring environment value of R_HOME\n"
     ]
    },
    {
     "name": "stdout",
     "output_type": "stream",
     "text": [
      "WARNING: ignoring environment value of R_HOME\n"
     ]
    },
    {
     "name": "stdout",
     "output_type": "stream",
     "text": [
      "WARNING: ignoring environment value of R_HOME\n"
     ]
    },
    {
     "name": "stdout",
     "output_type": "stream",
     "text": [
      "WARNING: ignoring environment value of R_HOME\n"
     ]
    },
    {
     "name": "stdout",
     "output_type": "stream",
     "text": [
      "WARNING: ignoring environment value of R_HOME\n"
     ]
    },
    {
     "name": "stdout",
     "output_type": "stream",
     "text": [
      "WARNING: ignoring environment value of R_HOME\n"
     ]
    },
    {
     "name": "stdout",
     "output_type": "stream",
     "text": [
      "WARNING: ignoring environment value of R_HOME\n"
     ]
    },
    {
     "name": "stdout",
     "output_type": "stream",
     "text": [
      "WARNING: ignoring environment value of R_HOME\n"
     ]
    },
    {
     "name": "stdout",
     "output_type": "stream",
     "text": [
      "WARNING: ignoring environment value of R_HOME\n"
     ]
    },
    {
     "name": "stdout",
     "output_type": "stream",
     "text": [
      "WARNING: ignoring environment value of R_HOME\n"
     ]
    },
    {
     "name": "stdout",
     "output_type": "stream",
     "text": [
      "WARNING: ignoring environment value of R_HOME\n"
     ]
    },
    {
     "name": "stdout",
     "output_type": "stream",
     "text": [
      "WARNING: ignoring environment value of R_HOME\n"
     ]
    },
    {
     "name": "stdout",
     "output_type": "stream",
     "text": [
      "WARNING: ignoring environment value of R_HOME\n"
     ]
    },
    {
     "name": "stdout",
     "output_type": "stream",
     "text": [
      "WARNING: ignoring environment value of R_HOME\n"
     ]
    },
    {
     "name": "stdout",
     "output_type": "stream",
     "text": [
      "WARNING: ignoring environment value of R_HOME\n"
     ]
    },
    {
     "name": "stdout",
     "output_type": "stream",
     "text": [
      "WARNING: ignoring environment value of R_HOME\n"
     ]
    },
    {
     "name": "stdout",
     "output_type": "stream",
     "text": [
      "WARNING: ignoring environment value of R_HOME\n"
     ]
    },
    {
     "name": "stdout",
     "output_type": "stream",
     "text": [
      "WARNING: ignoring environment value of R_HOME\n"
     ]
    },
    {
     "name": "stdout",
     "output_type": "stream",
     "text": [
      "WARNING: ignoring environment value of R_HOME\n"
     ]
    },
    {
     "name": "stdout",
     "output_type": "stream",
     "text": [
      "WARNING: ignoring environment value of R_HOME\n"
     ]
    },
    {
     "name": "stdout",
     "output_type": "stream",
     "text": [
      "WARNING: ignoring environment value of R_HOME\n"
     ]
    },
    {
     "name": "stdout",
     "output_type": "stream",
     "text": [
      "WARNING: ignoring environment value of R_HOME\n"
     ]
    },
    {
     "name": "stdout",
     "output_type": "stream",
     "text": [
      "WARNING: ignoring environment value of R_HOME\n"
     ]
    },
    {
     "name": "stdout",
     "output_type": "stream",
     "text": [
      "WARNING: ignoring environment value of R_HOME\n"
     ]
    },
    {
     "name": "stdout",
     "output_type": "stream",
     "text": [
      "WARNING: ignoring environment value of R_HOME\n"
     ]
    },
    {
     "name": "stdout",
     "output_type": "stream",
     "text": [
      "WARNING: ignoring environment value of R_HOME\n"
     ]
    },
    {
     "name": "stdout",
     "output_type": "stream",
     "text": [
      "WARNING: ignoring environment value of R_HOME\n"
     ]
    },
    {
     "name": "stdout",
     "output_type": "stream",
     "text": [
      "WARNING: ignoring environment value of R_HOME\n"
     ]
    },
    {
     "name": "stdout",
     "output_type": "stream",
     "text": [
      "WARNING: ignoring environment value of R_HOME\n"
     ]
    },
    {
     "name": "stdout",
     "output_type": "stream",
     "text": [
      "WARNING: ignoring environment value of R_HOME\n"
     ]
    },
    {
     "name": "stdout",
     "output_type": "stream",
     "text": [
      "WARNING: ignoring environment value of R_HOME\n"
     ]
    },
    {
     "name": "stdout",
     "output_type": "stream",
     "text": [
      "WARNING: ignoring environment value of R_HOME\n"
     ]
    },
    {
     "name": "stdout",
     "output_type": "stream",
     "text": [
      "WARNING: ignoring environment value of R_HOME\n"
     ]
    },
    {
     "name": "stdout",
     "output_type": "stream",
     "text": [
      "WARNING: ignoring environment value of R_HOME\n"
     ]
    },
    {
     "name": "stdout",
     "output_type": "stream",
     "text": [
      "WARNING: ignoring environment value of R_HOME\n"
     ]
    },
    {
     "name": "stdout",
     "output_type": "stream",
     "text": [
      "WARNING: ignoring environment value of R_HOME\n"
     ]
    },
    {
     "name": "stdout",
     "output_type": "stream",
     "text": [
      "WARNING: ignoring environment value of R_HOME\n"
     ]
    },
    {
     "name": "stdout",
     "output_type": "stream",
     "text": [
      "WARNING: ignoring environment value of R_HOME\n"
     ]
    },
    {
     "name": "stdout",
     "output_type": "stream",
     "text": [
      "WARNING: ignoring environment value of R_HOME\n"
     ]
    },
    {
     "name": "stdout",
     "output_type": "stream",
     "text": [
      "WARNING: ignoring environment value of R_HOME\n"
     ]
    },
    {
     "name": "stdout",
     "output_type": "stream",
     "text": [
      "WARNING: ignoring environment value of R_HOME\n"
     ]
    },
    {
     "name": "stdout",
     "output_type": "stream",
     "text": [
      "WARNING: ignoring environment value of R_HOME\n"
     ]
    },
    {
     "name": "stdout",
     "output_type": "stream",
     "text": [
      "WARNING: ignoring environment value of R_HOME\n"
     ]
    },
    {
     "name": "stdout",
     "output_type": "stream",
     "text": [
      "WARNING: ignoring environment value of R_HOME\n"
     ]
    },
    {
     "name": "stdout",
     "output_type": "stream",
     "text": [
      "WARNING: ignoring environment value of R_HOME\n"
     ]
    },
    {
     "name": "stdout",
     "output_type": "stream",
     "text": [
      "WARNING: ignoring environment value of R_HOME\n"
     ]
    },
    {
     "name": "stdout",
     "output_type": "stream",
     "text": [
      "WARNING: ignoring environment value of R_HOME\n"
     ]
    },
    {
     "name": "stdout",
     "output_type": "stream",
     "text": [
      "WARNING: ignoring environment value of R_HOME\n"
     ]
    },
    {
     "name": "stdout",
     "output_type": "stream",
     "text": [
      "WARNING: ignoring environment value of R_HOME\n"
     ]
    },
    {
     "name": "stdout",
     "output_type": "stream",
     "text": [
      "WARNING: ignoring environment value of R_HOME\n"
     ]
    },
    {
     "name": "stdout",
     "output_type": "stream",
     "text": [
      "WARNING: ignoring environment value of R_HOME\n"
     ]
    },
    {
     "name": "stdout",
     "output_type": "stream",
     "text": [
      "WARNING: ignoring environment value of R_HOME\n"
     ]
    },
    {
     "name": "stdout",
     "output_type": "stream",
     "text": [
      "WARNING: ignoring environment value of R_HOME\n"
     ]
    },
    {
     "name": "stdout",
     "output_type": "stream",
     "text": [
      "WARNING: ignoring environment value of R_HOME\n"
     ]
    },
    {
     "name": "stdout",
     "output_type": "stream",
     "text": [
      "WARNING: ignoring environment value of R_HOME\n"
     ]
    },
    {
     "name": "stdout",
     "output_type": "stream",
     "text": [
      "WARNING: ignoring environment value of R_HOME\n"
     ]
    },
    {
     "name": "stdout",
     "output_type": "stream",
     "text": [
      "WARNING: ignoring environment value of R_HOME\n"
     ]
    },
    {
     "name": "stdout",
     "output_type": "stream",
     "text": [
      "WARNING: ignoring environment value of R_HOME\n"
     ]
    },
    {
     "name": "stdout",
     "output_type": "stream",
     "text": [
      "WARNING: ignoring environment value of R_HOME\n"
     ]
    },
    {
     "name": "stdout",
     "output_type": "stream",
     "text": [
      "WARNING: ignoring environment value of R_HOME\n"
     ]
    },
    {
     "name": "stdout",
     "output_type": "stream",
     "text": [
      "WARNING: ignoring environment value of R_HOME\n"
     ]
    },
    {
     "name": "stdout",
     "output_type": "stream",
     "text": [
      "WARNING: ignoring environment value of R_HOME\n"
     ]
    },
    {
     "name": "stdout",
     "output_type": "stream",
     "text": [
      "WARNING: ignoring environment value of R_HOME\n"
     ]
    },
    {
     "name": "stdout",
     "output_type": "stream",
     "text": [
      "WARNING: ignoring environment value of R_HOME\n"
     ]
    },
    {
     "name": "stdout",
     "output_type": "stream",
     "text": [
      "WARNING: ignoring environment value of R_HOME\n"
     ]
    },
    {
     "name": "stdout",
     "output_type": "stream",
     "text": [
      "WARNING: ignoring environment value of R_HOME\n"
     ]
    },
    {
     "name": "stdout",
     "output_type": "stream",
     "text": [
      "WARNING: ignoring environment value of R_HOME\n"
     ]
    },
    {
     "name": "stdout",
     "output_type": "stream",
     "text": [
      "WARNING: ignoring environment value of R_HOME\n"
     ]
    },
    {
     "name": "stdout",
     "output_type": "stream",
     "text": [
      "WARNING: ignoring environment value of R_HOME\n"
     ]
    },
    {
     "name": "stdout",
     "output_type": "stream",
     "text": [
      "WARNING: ignoring environment value of R_HOME\n"
     ]
    },
    {
     "name": "stdout",
     "output_type": "stream",
     "text": [
      "WARNING: ignoring environment value of R_HOME\n"
     ]
    },
    {
     "name": "stdout",
     "output_type": "stream",
     "text": [
      "WARNING: ignoring environment value of R_HOME\n"
     ]
    },
    {
     "name": "stdout",
     "output_type": "stream",
     "text": [
      "WARNING: ignoring environment value of R_HOME\n"
     ]
    },
    {
     "name": "stdout",
     "output_type": "stream",
     "text": [
      "WARNING: ignoring environment value of R_HOME\n"
     ]
    },
    {
     "name": "stdout",
     "output_type": "stream",
     "text": [
      "WARNING: ignoring environment value of R_HOME\n"
     ]
    },
    {
     "name": "stdout",
     "output_type": "stream",
     "text": [
      "WARNING: ignoring environment value of R_HOME\n"
     ]
    },
    {
     "name": "stdout",
     "output_type": "stream",
     "text": [
      "WARNING: ignoring environment value of R_HOME\n"
     ]
    },
    {
     "name": "stdout",
     "output_type": "stream",
     "text": [
      "WARNING: ignoring environment value of R_HOME\n"
     ]
    },
    {
     "name": "stdout",
     "output_type": "stream",
     "text": [
      "WARNING: ignoring environment value of R_HOME\n"
     ]
    },
    {
     "name": "stdout",
     "output_type": "stream",
     "text": [
      "WARNING: ignoring environment value of R_HOME\n"
     ]
    },
    {
     "name": "stdout",
     "output_type": "stream",
     "text": [
      "WARNING: ignoring environment value of R_HOME\n"
     ]
    },
    {
     "name": "stdout",
     "output_type": "stream",
     "text": [
      "WARNING: ignoring environment value of R_HOME\n"
     ]
    },
    {
     "name": "stdout",
     "output_type": "stream",
     "text": [
      "WARNING: ignoring environment value of R_HOME\n"
     ]
    },
    {
     "name": "stdout",
     "output_type": "stream",
     "text": [
      "WARNING: ignoring environment value of R_HOME\n"
     ]
    },
    {
     "name": "stdout",
     "output_type": "stream",
     "text": [
      "WARNING: ignoring environment value of R_HOME\n"
     ]
    },
    {
     "name": "stdout",
     "output_type": "stream",
     "text": [
      "WARNING: ignoring environment value of R_HOME\n"
     ]
    },
    {
     "name": "stdout",
     "output_type": "stream",
     "text": [
      "WARNING: ignoring environment value of R_HOME\n"
     ]
    },
    {
     "name": "stdout",
     "output_type": "stream",
     "text": [
      "WARNING: ignoring environment value of R_HOME\n"
     ]
    },
    {
     "name": "stdout",
     "output_type": "stream",
     "text": [
      "WARNING: ignoring environment value of R_HOME\n"
     ]
    },
    {
     "name": "stdout",
     "output_type": "stream",
     "text": [
      "WARNING: ignoring environment value of R_HOME\n"
     ]
    },
    {
     "name": "stdout",
     "output_type": "stream",
     "text": [
      "WARNING: ignoring environment value of R_HOME\n"
     ]
    },
    {
     "name": "stdout",
     "output_type": "stream",
     "text": [
      "WARNING: ignoring environment value of R_HOME\n"
     ]
    },
    {
     "name": "stdout",
     "output_type": "stream",
     "text": [
      "WARNING: ignoring environment value of R_HOME\n"
     ]
    },
    {
     "name": "stdout",
     "output_type": "stream",
     "text": [
      "WARNING: ignoring environment value of R_HOME\n"
     ]
    },
    {
     "name": "stdout",
     "output_type": "stream",
     "text": [
      "WARNING: ignoring environment value of R_HOME\n"
     ]
    },
    {
     "name": "stdout",
     "output_type": "stream",
     "text": [
      "WARNING: ignoring environment value of R_HOME\n"
     ]
    },
    {
     "name": "stdout",
     "output_type": "stream",
     "text": [
      "WARNING: ignoring environment value of R_HOME\n"
     ]
    },
    {
     "name": "stdout",
     "output_type": "stream",
     "text": [
      "WARNING: ignoring environment value of R_HOME\n"
     ]
    },
    {
     "name": "stdout",
     "output_type": "stream",
     "text": [
      "WARNING: ignoring environment value of R_HOME\n"
     ]
    },
    {
     "name": "stdout",
     "output_type": "stream",
     "text": [
      "WARNING: ignoring environment value of R_HOME\n"
     ]
    },
    {
     "name": "stdout",
     "output_type": "stream",
     "text": [
      "WARNING: ignoring environment value of R_HOME\n"
     ]
    },
    {
     "name": "stdout",
     "output_type": "stream",
     "text": [
      "WARNING: ignoring environment value of R_HOME\n"
     ]
    },
    {
     "name": "stdout",
     "output_type": "stream",
     "text": [
      "WARNING: ignoring environment value of R_HOME\n"
     ]
    },
    {
     "name": "stdout",
     "output_type": "stream",
     "text": [
      "WARNING: ignoring environment value of R_HOME\n"
     ]
    },
    {
     "name": "stdout",
     "output_type": "stream",
     "text": [
      "WARNING: ignoring environment value of R_HOME\n"
     ]
    },
    {
     "name": "stdout",
     "output_type": "stream",
     "text": [
      "WARNING: ignoring environment value of R_HOME\n"
     ]
    },
    {
     "name": "stdout",
     "output_type": "stream",
     "text": [
      "WARNING: ignoring environment value of R_HOME\n"
     ]
    },
    {
     "name": "stdout",
     "output_type": "stream",
     "text": [
      "WARNING: ignoring environment value of R_HOME\n"
     ]
    },
    {
     "name": "stdout",
     "output_type": "stream",
     "text": [
      "WARNING: ignoring environment value of R_HOME\n"
     ]
    },
    {
     "name": "stdout",
     "output_type": "stream",
     "text": [
      "WARNING: ignoring environment value of R_HOME\n"
     ]
    },
    {
     "name": "stdout",
     "output_type": "stream",
     "text": [
      "WARNING: ignoring environment value of R_HOME\n"
     ]
    },
    {
     "name": "stdout",
     "output_type": "stream",
     "text": [
      "WARNING: ignoring environment value of R_HOME\n"
     ]
    },
    {
     "name": "stdout",
     "output_type": "stream",
     "text": [
      "WARNING: ignoring environment value of R_HOME\n"
     ]
    },
    {
     "name": "stdout",
     "output_type": "stream",
     "text": [
      "WARNING: ignoring environment value of R_HOME\n"
     ]
    },
    {
     "name": "stdout",
     "output_type": "stream",
     "text": [
      "WARNING: ignoring environment value of R_HOME\n"
     ]
    },
    {
     "name": "stdout",
     "output_type": "stream",
     "text": [
      "WARNING: ignoring environment value of R_HOME\n"
     ]
    },
    {
     "name": "stdout",
     "output_type": "stream",
     "text": [
      "WARNING: ignoring environment value of R_HOME\n"
     ]
    },
    {
     "name": "stdout",
     "output_type": "stream",
     "text": [
      "WARNING: ignoring environment value of R_HOME\n"
     ]
    },
    {
     "name": "stdout",
     "output_type": "stream",
     "text": [
      "WARNING: ignoring environment value of R_HOME\n"
     ]
    },
    {
     "name": "stdout",
     "output_type": "stream",
     "text": [
      "WARNING: ignoring environment value of R_HOME\n"
     ]
    },
    {
     "name": "stdout",
     "output_type": "stream",
     "text": [
      "WARNING: ignoring environment value of R_HOME\n"
     ]
    },
    {
     "name": "stdout",
     "output_type": "stream",
     "text": [
      "WARNING: ignoring environment value of R_HOME\n"
     ]
    },
    {
     "name": "stdout",
     "output_type": "stream",
     "text": [
      "WARNING: ignoring environment value of R_HOME\n"
     ]
    },
    {
     "name": "stdout",
     "output_type": "stream",
     "text": [
      "WARNING: ignoring environment value of R_HOME\n"
     ]
    },
    {
     "name": "stdout",
     "output_type": "stream",
     "text": [
      "WARNING: ignoring environment value of R_HOME\n"
     ]
    },
    {
     "name": "stdout",
     "output_type": "stream",
     "text": [
      "WARNING: ignoring environment value of R_HOME\n"
     ]
    },
    {
     "name": "stdout",
     "output_type": "stream",
     "text": [
      "WARNING: ignoring environment value of R_HOME\n"
     ]
    },
    {
     "name": "stdout",
     "output_type": "stream",
     "text": [
      "WARNING: ignoring environment value of R_HOME\n"
     ]
    },
    {
     "name": "stdout",
     "output_type": "stream",
     "text": [
      "WARNING: ignoring environment value of R_HOME\n"
     ]
    },
    {
     "name": "stdout",
     "output_type": "stream",
     "text": [
      "WARNING: ignoring environment value of R_HOME\n"
     ]
    },
    {
     "name": "stdout",
     "output_type": "stream",
     "text": [
      "WARNING: ignoring environment value of R_HOME\n"
     ]
    },
    {
     "name": "stdout",
     "output_type": "stream",
     "text": [
      "WARNING: ignoring environment value of R_HOME\n"
     ]
    },
    {
     "name": "stdout",
     "output_type": "stream",
     "text": [
      "WARNING: ignoring environment value of R_HOME\n"
     ]
    },
    {
     "name": "stdout",
     "output_type": "stream",
     "text": [
      "WARNING: ignoring environment value of R_HOME\n"
     ]
    },
    {
     "name": "stdout",
     "output_type": "stream",
     "text": [
      "WARNING: ignoring environment value of R_HOME\n"
     ]
    },
    {
     "name": "stdout",
     "output_type": "stream",
     "text": [
      "WARNING: ignoring environment value of R_HOME\n"
     ]
    },
    {
     "name": "stdout",
     "output_type": "stream",
     "text": [
      "WARNING: ignoring environment value of R_HOME\n"
     ]
    },
    {
     "name": "stdout",
     "output_type": "stream",
     "text": [
      "WARNING: ignoring environment value of R_HOME\n"
     ]
    },
    {
     "name": "stdout",
     "output_type": "stream",
     "text": [
      "WARNING: ignoring environment value of R_HOME\n"
     ]
    },
    {
     "name": "stdout",
     "output_type": "stream",
     "text": [
      "WARNING: ignoring environment value of R_HOME\n"
     ]
    },
    {
     "name": "stdout",
     "output_type": "stream",
     "text": [
      "WARNING: ignoring environment value of R_HOME\n"
     ]
    },
    {
     "name": "stdout",
     "output_type": "stream",
     "text": [
      "WARNING: ignoring environment value of R_HOME\n"
     ]
    },
    {
     "name": "stdout",
     "output_type": "stream",
     "text": [
      "WARNING: ignoring environment value of R_HOME\n"
     ]
    },
    {
     "name": "stdout",
     "output_type": "stream",
     "text": [
      "WARNING: ignoring environment value of R_HOME\n"
     ]
    },
    {
     "name": "stdout",
     "output_type": "stream",
     "text": [
      "WARNING: ignoring environment value of R_HOME\n"
     ]
    },
    {
     "name": "stdout",
     "output_type": "stream",
     "text": [
      "WARNING: ignoring environment value of R_HOME\n"
     ]
    },
    {
     "name": "stdout",
     "output_type": "stream",
     "text": [
      "WARNING: ignoring environment value of R_HOME\n"
     ]
    },
    {
     "name": "stdout",
     "output_type": "stream",
     "text": [
      "WARNING: ignoring environment value of R_HOME\n"
     ]
    },
    {
     "name": "stdout",
     "output_type": "stream",
     "text": [
      "WARNING: ignoring environment value of R_HOME\n"
     ]
    },
    {
     "name": "stdout",
     "output_type": "stream",
     "text": [
      "WARNING: ignoring environment value of R_HOME\n"
     ]
    },
    {
     "name": "stdout",
     "output_type": "stream",
     "text": [
      "WARNING: ignoring environment value of R_HOME\n"
     ]
    },
    {
     "name": "stdout",
     "output_type": "stream",
     "text": [
      "WARNING: ignoring environment value of R_HOME\n"
     ]
    },
    {
     "name": "stdout",
     "output_type": "stream",
     "text": [
      "WARNING: ignoring environment value of R_HOME\n"
     ]
    },
    {
     "name": "stdout",
     "output_type": "stream",
     "text": [
      "WARNING: ignoring environment value of R_HOME\n"
     ]
    },
    {
     "name": "stdout",
     "output_type": "stream",
     "text": [
      "WARNING: ignoring environment value of R_HOME\n"
     ]
    },
    {
     "name": "stdout",
     "output_type": "stream",
     "text": [
      "WARNING: ignoring environment value of R_HOME\n"
     ]
    },
    {
     "name": "stdout",
     "output_type": "stream",
     "text": [
      "WARNING: ignoring environment value of R_HOME\n"
     ]
    },
    {
     "name": "stdout",
     "output_type": "stream",
     "text": [
      "WARNING: ignoring environment value of R_HOME\n"
     ]
    },
    {
     "name": "stdout",
     "output_type": "stream",
     "text": [
      "WARNING: ignoring environment value of R_HOME\n"
     ]
    },
    {
     "name": "stdout",
     "output_type": "stream",
     "text": [
      "WARNING: ignoring environment value of R_HOME\n"
     ]
    },
    {
     "name": "stdout",
     "output_type": "stream",
     "text": [
      "WARNING: ignoring environment value of R_HOME\n"
     ]
    },
    {
     "name": "stdout",
     "output_type": "stream",
     "text": [
      "WARNING: ignoring environment value of R_HOME\n"
     ]
    },
    {
     "name": "stdout",
     "output_type": "stream",
     "text": [
      "WARNING: ignoring environment value of R_HOME\n"
     ]
    },
    {
     "name": "stdout",
     "output_type": "stream",
     "text": [
      "WARNING: ignoring environment value of R_HOME\n"
     ]
    },
    {
     "name": "stdout",
     "output_type": "stream",
     "text": [
      "WARNING: ignoring environment value of R_HOME\n"
     ]
    },
    {
     "name": "stdout",
     "output_type": "stream",
     "text": [
      "WARNING: ignoring environment value of R_HOME\n"
     ]
    },
    {
     "name": "stdout",
     "output_type": "stream",
     "text": [
      "WARNING: ignoring environment value of R_HOME\n"
     ]
    },
    {
     "name": "stdout",
     "output_type": "stream",
     "text": [
      "WARNING: ignoring environment value of R_HOME\n"
     ]
    },
    {
     "name": "stdout",
     "output_type": "stream",
     "text": [
      "WARNING: ignoring environment value of R_HOME\n"
     ]
    },
    {
     "name": "stdout",
     "output_type": "stream",
     "text": [
      "WARNING: ignoring environment value of R_HOME\n"
     ]
    },
    {
     "name": "stdout",
     "output_type": "stream",
     "text": [
      "WARNING: ignoring environment value of R_HOME\n"
     ]
    },
    {
     "name": "stdout",
     "output_type": "stream",
     "text": [
      "WARNING: ignoring environment value of R_HOME\n"
     ]
    },
    {
     "name": "stdout",
     "output_type": "stream",
     "text": [
      "WARNING: ignoring environment value of R_HOME\n"
     ]
    },
    {
     "name": "stdout",
     "output_type": "stream",
     "text": [
      "WARNING: ignoring environment value of R_HOME\n"
     ]
    },
    {
     "name": "stdout",
     "output_type": "stream",
     "text": [
      "WARNING: ignoring environment value of R_HOME\n"
     ]
    },
    {
     "name": "stdout",
     "output_type": "stream",
     "text": [
      "WARNING: ignoring environment value of R_HOME\n"
     ]
    },
    {
     "name": "stdout",
     "output_type": "stream",
     "text": [
      "WARNING: ignoring environment value of R_HOME\n"
     ]
    },
    {
     "name": "stdout",
     "output_type": "stream",
     "text": [
      "WARNING: ignoring environment value of R_HOME\n"
     ]
    },
    {
     "name": "stdout",
     "output_type": "stream",
     "text": [
      "WARNING: ignoring environment value of R_HOME\n"
     ]
    },
    {
     "name": "stdout",
     "output_type": "stream",
     "text": [
      "WARNING: ignoring environment value of R_HOME\n"
     ]
    },
    {
     "name": "stdout",
     "output_type": "stream",
     "text": [
      "WARNING: ignoring environment value of R_HOME\n"
     ]
    },
    {
     "name": "stdout",
     "output_type": "stream",
     "text": [
      "WARNING: ignoring environment value of R_HOME\n"
     ]
    },
    {
     "name": "stdout",
     "output_type": "stream",
     "text": [
      "WARNING: ignoring environment value of R_HOME\n"
     ]
    },
    {
     "name": "stdout",
     "output_type": "stream",
     "text": [
      "WARNING: ignoring environment value of R_HOME\n"
     ]
    },
    {
     "name": "stdout",
     "output_type": "stream",
     "text": [
      "WARNING: ignoring environment value of R_HOME\n"
     ]
    },
    {
     "name": "stdout",
     "output_type": "stream",
     "text": [
      "WARNING: ignoring environment value of R_HOME\n"
     ]
    },
    {
     "name": "stdout",
     "output_type": "stream",
     "text": [
      "WARNING: ignoring environment value of R_HOME\n"
     ]
    },
    {
     "name": "stdout",
     "output_type": "stream",
     "text": [
      "WARNING: ignoring environment value of R_HOME\n"
     ]
    },
    {
     "name": "stdout",
     "output_type": "stream",
     "text": [
      "WARNING: ignoring environment value of R_HOME\n"
     ]
    },
    {
     "name": "stdout",
     "output_type": "stream",
     "text": [
      "WARNING: ignoring environment value of R_HOME\n"
     ]
    },
    {
     "name": "stdout",
     "output_type": "stream",
     "text": [
      "WARNING: ignoring environment value of R_HOME\n"
     ]
    },
    {
     "name": "stdout",
     "output_type": "stream",
     "text": [
      "WARNING: ignoring environment value of R_HOME\n"
     ]
    },
    {
     "name": "stdout",
     "output_type": "stream",
     "text": [
      "WARNING: ignoring environment value of R_HOME\n"
     ]
    },
    {
     "name": "stdout",
     "output_type": "stream",
     "text": [
      "WARNING: ignoring environment value of R_HOME\n"
     ]
    },
    {
     "name": "stdout",
     "output_type": "stream",
     "text": [
      "WARNING: ignoring environment value of R_HOME\n"
     ]
    },
    {
     "name": "stdout",
     "output_type": "stream",
     "text": [
      "WARNING: ignoring environment value of R_HOME\n"
     ]
    },
    {
     "name": "stdout",
     "output_type": "stream",
     "text": [
      "WARNING: ignoring environment value of R_HOME\n"
     ]
    },
    {
     "name": "stdout",
     "output_type": "stream",
     "text": [
      "WARNING: ignoring environment value of R_HOME\n"
     ]
    },
    {
     "name": "stdout",
     "output_type": "stream",
     "text": [
      "WARNING: ignoring environment value of R_HOME\n"
     ]
    },
    {
     "name": "stdout",
     "output_type": "stream",
     "text": [
      "WARNING: ignoring environment value of R_HOME\n"
     ]
    },
    {
     "name": "stdout",
     "output_type": "stream",
     "text": [
      "WARNING: ignoring environment value of R_HOME\n"
     ]
    },
    {
     "name": "stdout",
     "output_type": "stream",
     "text": [
      "WARNING: ignoring environment value of R_HOME\n"
     ]
    },
    {
     "name": "stderr",
     "output_type": "stream",
     "text": [
      "<block>:1:39-51: info: atom does not occur in any rule head:\n",
      "  ap(0,2,#P0,s3)\n",
      "\n",
      "<block>:1:45-60: info: atom does not occur in any rule head:\n",
      "  ap(2,4,#P0,empty)\n",
      "\n",
      "<block>:1:39-51: info: atom does not occur in any rule head:\n",
      "  ap(0,2,#P0,s3)\n",
      "\n",
      "<block>:1:45-60: info: atom does not occur in any rule head:\n",
      "  ap(2,4,#P0,empty)\n",
      "\n"
     ]
    },
    {
     "name": "stderr",
     "output_type": "stream",
     "text": [
      "<block>:1:39-51: info: atom does not occur in any rule head:\n",
      "  ap(0,2,#P0,s3)\n",
      "\n",
      "<block>:1:45-60: info: atom does not occur in any rule head:\n",
      "  ap(2,4,#P0,empty)\n",
      "\n"
     ]
    },
    {
     "name": "stdout",
     "output_type": "stream",
     "text": [
      "WARNING: ignoring environment value of R_HOME\n"
     ]
    },
    {
     "name": "stdout",
     "output_type": "stream",
     "text": [
      "WARNING: ignoring environment value of R_HOME\n"
     ]
    },
    {
     "name": "stdout",
     "output_type": "stream",
     "text": [
      "WARNING: ignoring environment value of R_HOME\n"
     ]
    },
    {
     "name": "stdout",
     "output_type": "stream",
     "text": [
      "WARNING: ignoring environment value of R_HOME\n"
     ]
    },
    {
     "name": "stdout",
     "output_type": "stream",
     "text": [
      "WARNING: ignoring environment value of R_HOME\n"
     ]
    },
    {
     "name": "stdout",
     "output_type": "stream",
     "text": [
      "WARNING: ignoring environment value of R_HOME\n"
     ]
    },
    {
     "name": "stdout",
     "output_type": "stream",
     "text": [
      "WARNING: ignoring environment value of R_HOME\n"
     ]
    },
    {
     "name": "stdout",
     "output_type": "stream",
     "text": [
      "WARNING: ignoring environment value of R_HOME\n"
     ]
    },
    {
     "name": "stdout",
     "output_type": "stream",
     "text": [
      "WARNING: ignoring environment value of R_HOME\n"
     ]
    },
    {
     "name": "stdout",
     "output_type": "stream",
     "text": [
      "WARNING: ignoring environment value of R_HOME\n"
     ]
    },
    {
     "name": "stdout",
     "output_type": "stream",
     "text": [
      "WARNING: ignoring environment value of R_HOME\n"
     ]
    },
    {
     "name": "stdout",
     "output_type": "stream",
     "text": [
      "WARNING: ignoring environment value of R_HOME\n"
     ]
    },
    {
     "name": "stdout",
     "output_type": "stream",
     "text": [
      "WARNING: ignoring environment value of R_HOME\n"
     ]
    },
    {
     "name": "stdout",
     "output_type": "stream",
     "text": [
      "WARNING: ignoring environment value of R_HOME\n"
     ]
    },
    {
     "name": "stdout",
     "output_type": "stream",
     "text": [
      "WARNING: ignoring environment value of R_HOME\n"
     ]
    },
    {
     "name": "stdout",
     "output_type": "stream",
     "text": [
      "WARNING: ignoring environment value of R_HOME\n"
     ]
    },
    {
     "name": "stdout",
     "output_type": "stream",
     "text": [
      "WARNING: ignoring environment value of R_HOME\n"
     ]
    },
    {
     "name": "stdout",
     "output_type": "stream",
     "text": [
      "WARNING: ignoring environment value of R_HOME\n"
     ]
    },
    {
     "name": "stdout",
     "output_type": "stream",
     "text": [
      "WARNING: ignoring environment value of R_HOME\n"
     ]
    },
    {
     "name": "stdout",
     "output_type": "stream",
     "text": [
      "WARNING: ignoring environment value of R_HOME\n"
     ]
    },
    {
     "name": "stdout",
     "output_type": "stream",
     "text": [
      "WARNING: ignoring environment value of R_HOME\n"
     ]
    },
    {
     "name": "stdout",
     "output_type": "stream",
     "text": [
      "WARNING: ignoring environment value of R_HOME\n"
     ]
    },
    {
     "name": "stdout",
     "output_type": "stream",
     "text": [
      "WARNING: ignoring environment value of R_HOME\n"
     ]
    },
    {
     "name": "stdout",
     "output_type": "stream",
     "text": [
      "WARNING: ignoring environment value of R_HOME\n"
     ]
    },
    {
     "name": "stdout",
     "output_type": "stream",
     "text": [
      "WARNING: ignoring environment value of R_HOME\n"
     ]
    },
    {
     "name": "stdout",
     "output_type": "stream",
     "text": [
      "WARNING: ignoring environment value of R_HOME\n"
     ]
    },
    {
     "name": "stdout",
     "output_type": "stream",
     "text": [
      "WARNING: ignoring environment value of R_HOME\n"
     ]
    },
    {
     "name": "stdout",
     "output_type": "stream",
     "text": [
      "WARNING: ignoring environment value of R_HOME\n"
     ]
    },
    {
     "name": "stdout",
     "output_type": "stream",
     "text": [
      "WARNING: ignoring environment value of R_HOME\n"
     ]
    },
    {
     "name": "stdout",
     "output_type": "stream",
     "text": [
      "WARNING: ignoring environment value of R_HOME\n"
     ]
    },
    {
     "name": "stdout",
     "output_type": "stream",
     "text": [
      "WARNING: ignoring environment value of R_HOME\n"
     ]
    },
    {
     "name": "stdout",
     "output_type": "stream",
     "text": [
      "WARNING: ignoring environment value of R_HOME\n"
     ]
    },
    {
     "name": "stdout",
     "output_type": "stream",
     "text": [
      "WARNING: ignoring environment value of R_HOME\n"
     ]
    },
    {
     "name": "stdout",
     "output_type": "stream",
     "text": [
      "WARNING: ignoring environment value of R_HOME\n"
     ]
    },
    {
     "name": "stdout",
     "output_type": "stream",
     "text": [
      "WARNING: ignoring environment value of R_HOME\n"
     ]
    },
    {
     "name": "stdout",
     "output_type": "stream",
     "text": [
      "WARNING: ignoring environment value of R_HOME\n"
     ]
    },
    {
     "name": "stdout",
     "output_type": "stream",
     "text": [
      "WARNING: ignoring environment value of R_HOME\n"
     ]
    },
    {
     "name": "stdout",
     "output_type": "stream",
     "text": [
      "WARNING: ignoring environment value of R_HOME\n"
     ]
    },
    {
     "name": "stdout",
     "output_type": "stream",
     "text": [
      "WARNING: ignoring environment value of R_HOME\n"
     ]
    },
    {
     "name": "stdout",
     "output_type": "stream",
     "text": [
      "WARNING: ignoring environment value of R_HOME\n"
     ]
    },
    {
     "name": "stdout",
     "output_type": "stream",
     "text": [
      "WARNING: ignoring environment value of R_HOME\n"
     ]
    },
    {
     "name": "stdout",
     "output_type": "stream",
     "text": [
      "WARNING: ignoring environment value of R_HOME\n"
     ]
    },
    {
     "name": "stdout",
     "output_type": "stream",
     "text": [
      "WARNING: ignoring environment value of R_HOME\n"
     ]
    },
    {
     "name": "stdout",
     "output_type": "stream",
     "text": [
      "WARNING: ignoring environment value of R_HOME\n"
     ]
    },
    {
     "name": "stdout",
     "output_type": "stream",
     "text": [
      "WARNING: ignoring environment value of R_HOME\n"
     ]
    },
    {
     "name": "stdout",
     "output_type": "stream",
     "text": [
      "WARNING: ignoring environment value of R_HOME\n"
     ]
    },
    {
     "name": "stdout",
     "output_type": "stream",
     "text": [
      "WARNING: ignoring environment value of R_HOME\n"
     ]
    },
    {
     "name": "stdout",
     "output_type": "stream",
     "text": [
      "WARNING: ignoring environment value of R_HOME\n"
     ]
    },
    {
     "name": "stdout",
     "output_type": "stream",
     "text": [
      "WARNING: ignoring environment value of R_HOME\n"
     ]
    },
    {
     "name": "stdout",
     "output_type": "stream",
     "text": [
      "WARNING: ignoring environment value of R_HOME\n"
     ]
    },
    {
     "name": "stdout",
     "output_type": "stream",
     "text": [
      "WARNING: ignoring environment value of R_HOME\n"
     ]
    },
    {
     "name": "stdout",
     "output_type": "stream",
     "text": [
      "WARNING: ignoring environment value of R_HOME\n"
     ]
    },
    {
     "name": "stdout",
     "output_type": "stream",
     "text": [
      "WARNING: ignoring environment value of R_HOME\n"
     ]
    },
    {
     "name": "stdout",
     "output_type": "stream",
     "text": [
      "WARNING: ignoring environment value of R_HOME\n"
     ]
    },
    {
     "name": "stdout",
     "output_type": "stream",
     "text": [
      "WARNING: ignoring environment value of R_HOME\n"
     ]
    },
    {
     "name": "stdout",
     "output_type": "stream",
     "text": [
      "WARNING: ignoring environment value of R_HOME\n"
     ]
    },
    {
     "name": "stdout",
     "output_type": "stream",
     "text": [
      "WARNING: ignoring environment value of R_HOME\n"
     ]
    },
    {
     "name": "stdout",
     "output_type": "stream",
     "text": [
      "WARNING: ignoring environment value of R_HOME\n"
     ]
    },
    {
     "name": "stdout",
     "output_type": "stream",
     "text": [
      "WARNING: ignoring environment value of R_HOME\n"
     ]
    },
    {
     "name": "stdout",
     "output_type": "stream",
     "text": [
      "WARNING: ignoring environment value of R_HOME\n"
     ]
    },
    {
     "name": "stdout",
     "output_type": "stream",
     "text": [
      "WARNING: ignoring environment value of R_HOME\n"
     ]
    },
    {
     "name": "stdout",
     "output_type": "stream",
     "text": [
      "WARNING: ignoring environment value of R_HOME\n"
     ]
    },
    {
     "name": "stdout",
     "output_type": "stream",
     "text": [
      "WARNING: ignoring environment value of R_HOME\n"
     ]
    },
    {
     "name": "stdout",
     "output_type": "stream",
     "text": [
      "WARNING: ignoring environment value of R_HOME\n"
     ]
    },
    {
     "name": "stdout",
     "output_type": "stream",
     "text": [
      "WARNING: ignoring environment value of R_HOME\n"
     ]
    },
    {
     "name": "stdout",
     "output_type": "stream",
     "text": [
      "WARNING: ignoring environment value of R_HOME\n"
     ]
    },
    {
     "name": "stdout",
     "output_type": "stream",
     "text": [
      "WARNING: ignoring environment value of R_HOME\n"
     ]
    },
    {
     "name": "stdout",
     "output_type": "stream",
     "text": [
      "WARNING: ignoring environment value of R_HOME\n"
     ]
    },
    {
     "name": "stdout",
     "output_type": "stream",
     "text": [
      "WARNING: ignoring environment value of R_HOME\n"
     ]
    },
    {
     "name": "stdout",
     "output_type": "stream",
     "text": [
      "WARNING: ignoring environment value of R_HOME\n"
     ]
    },
    {
     "name": "stdout",
     "output_type": "stream",
     "text": [
      "WARNING: ignoring environment value of R_HOME\n"
     ]
    },
    {
     "name": "stdout",
     "output_type": "stream",
     "text": [
      "WARNING: ignoring environment value of R_HOME\n"
     ]
    },
    {
     "name": "stdout",
     "output_type": "stream",
     "text": [
      "WARNING: ignoring environment value of R_HOME\n"
     ]
    },
    {
     "name": "stdout",
     "output_type": "stream",
     "text": [
      "WARNING: ignoring environment value of R_HOME\n"
     ]
    },
    {
     "name": "stdout",
     "output_type": "stream",
     "text": [
      "WARNING: ignoring environment value of R_HOME\n"
     ]
    },
    {
     "name": "stdout",
     "output_type": "stream",
     "text": [
      "WARNING: ignoring environment value of R_HOME\n"
     ]
    },
    {
     "name": "stdout",
     "output_type": "stream",
     "text": [
      "WARNING: ignoring environment value of R_HOME\n"
     ]
    },
    {
     "name": "stdout",
     "output_type": "stream",
     "text": [
      "WARNING: ignoring environment value of R_HOME\n"
     ]
    },
    {
     "name": "stdout",
     "output_type": "stream",
     "text": [
      "WARNING: ignoring environment value of R_HOME\n"
     ]
    },
    {
     "name": "stdout",
     "output_type": "stream",
     "text": [
      "WARNING: ignoring environment value of R_HOME\n"
     ]
    },
    {
     "name": "stdout",
     "output_type": "stream",
     "text": [
      "WARNING: ignoring environment value of R_HOME\n"
     ]
    },
    {
     "name": "stdout",
     "output_type": "stream",
     "text": [
      "WARNING: ignoring environment value of R_HOME\n"
     ]
    },
    {
     "name": "stdout",
     "output_type": "stream",
     "text": [
      "WARNING: ignoring environment value of R_HOME\n"
     ]
    },
    {
     "name": "stdout",
     "output_type": "stream",
     "text": [
      "WARNING: ignoring environment value of R_HOME\n"
     ]
    },
    {
     "name": "stdout",
     "output_type": "stream",
     "text": [
      "WARNING: ignoring environment value of R_HOME\n"
     ]
    },
    {
     "name": "stdout",
     "output_type": "stream",
     "text": [
      "WARNING: ignoring environment value of R_HOME\n"
     ]
    },
    {
     "name": "stdout",
     "output_type": "stream",
     "text": [
      "WARNING: ignoring environment value of R_HOME\n"
     ]
    },
    {
     "name": "stdout",
     "output_type": "stream",
     "text": [
      "WARNING: ignoring environment value of R_HOME\n"
     ]
    },
    {
     "name": "stdout",
     "output_type": "stream",
     "text": [
      "WARNING: ignoring environment value of R_HOME\n"
     ]
    },
    {
     "name": "stdout",
     "output_type": "stream",
     "text": [
      "WARNING: ignoring environment value of R_HOME\n"
     ]
    },
    {
     "name": "stdout",
     "output_type": "stream",
     "text": [
      "WARNING: ignoring environment value of R_HOME\n"
     ]
    },
    {
     "name": "stdout",
     "output_type": "stream",
     "text": [
      "WARNING: ignoring environment value of R_HOME\n"
     ]
    },
    {
     "name": "stdout",
     "output_type": "stream",
     "text": [
      "WARNING: ignoring environment value of R_HOME\n"
     ]
    },
    {
     "name": "stdout",
     "output_type": "stream",
     "text": [
      "WARNING: ignoring environment value of R_HOME\n"
     ]
    },
    {
     "name": "stdout",
     "output_type": "stream",
     "text": [
      "WARNING: ignoring environment value of R_HOME\n"
     ]
    },
    {
     "name": "stdout",
     "output_type": "stream",
     "text": [
      "WARNING: ignoring environment value of R_HOME\n"
     ]
    },
    {
     "name": "stdout",
     "output_type": "stream",
     "text": [
      "WARNING: ignoring environment value of R_HOME\n"
     ]
    },
    {
     "name": "stdout",
     "output_type": "stream",
     "text": [
      "WARNING: ignoring environment value of R_HOME\n"
     ]
    },
    {
     "name": "stdout",
     "output_type": "stream",
     "text": [
      "WARNING: ignoring environment value of R_HOME\n"
     ]
    },
    {
     "name": "stdout",
     "output_type": "stream",
     "text": [
      "WARNING: ignoring environment value of R_HOME\n"
     ]
    },
    {
     "name": "stdout",
     "output_type": "stream",
     "text": [
      "WARNING: ignoring environment value of R_HOME\n"
     ]
    },
    {
     "name": "stdout",
     "output_type": "stream",
     "text": [
      "WARNING: ignoring environment value of R_HOME\n"
     ]
    },
    {
     "name": "stdout",
     "output_type": "stream",
     "text": [
      "WARNING: ignoring environment value of R_HOME\n"
     ]
    },
    {
     "name": "stdout",
     "output_type": "stream",
     "text": [
      "WARNING: ignoring environment value of R_HOME\n"
     ]
    },
    {
     "name": "stdout",
     "output_type": "stream",
     "text": [
      "WARNING: ignoring environment value of R_HOME\n"
     ]
    },
    {
     "name": "stdout",
     "output_type": "stream",
     "text": [
      "WARNING: ignoring environment value of R_HOME\n"
     ]
    },
    {
     "name": "stdout",
     "output_type": "stream",
     "text": [
      "WARNING: ignoring environment value of R_HOME\n"
     ]
    },
    {
     "name": "stdout",
     "output_type": "stream",
     "text": [
      "WARNING: ignoring environment value of R_HOME\n"
     ]
    },
    {
     "name": "stdout",
     "output_type": "stream",
     "text": [
      "WARNING: ignoring environment value of R_HOME\n"
     ]
    },
    {
     "name": "stdout",
     "output_type": "stream",
     "text": [
      "WARNING: ignoring environment value of R_HOME\n"
     ]
    },
    {
     "name": "stdout",
     "output_type": "stream",
     "text": [
      "WARNING: ignoring environment value of R_HOME\n"
     ]
    },
    {
     "name": "stdout",
     "output_type": "stream",
     "text": [
      "WARNING: ignoring environment value of R_HOME\n"
     ]
    },
    {
     "name": "stdout",
     "output_type": "stream",
     "text": [
      "WARNING: ignoring environment value of R_HOME\n"
     ]
    },
    {
     "name": "stdout",
     "output_type": "stream",
     "text": [
      "WARNING: ignoring environment value of R_HOME\n"
     ]
    },
    {
     "name": "stdout",
     "output_type": "stream",
     "text": [
      "WARNING: ignoring environment value of R_HOME\n"
     ]
    },
    {
     "name": "stdout",
     "output_type": "stream",
     "text": [
      "WARNING: ignoring environment value of R_HOME\n"
     ]
    },
    {
     "name": "stdout",
     "output_type": "stream",
     "text": [
      "WARNING: ignoring environment value of R_HOME\n"
     ]
    },
    {
     "name": "stdout",
     "output_type": "stream",
     "text": [
      "WARNING: ignoring environment value of R_HOME\n"
     ]
    },
    {
     "name": "stdout",
     "output_type": "stream",
     "text": [
      "WARNING: ignoring environment value of R_HOME\n"
     ]
    },
    {
     "name": "stdout",
     "output_type": "stream",
     "text": [
      "WARNING: ignoring environment value of R_HOME\n"
     ]
    },
    {
     "name": "stdout",
     "output_type": "stream",
     "text": [
      "WARNING: ignoring environment value of R_HOME\n"
     ]
    },
    {
     "name": "stdout",
     "output_type": "stream",
     "text": [
      "WARNING: ignoring environment value of R_HOME\n"
     ]
    },
    {
     "name": "stdout",
     "output_type": "stream",
     "text": [
      "WARNING: ignoring environment value of R_HOME\n"
     ]
    },
    {
     "name": "stdout",
     "output_type": "stream",
     "text": [
      "WARNING: ignoring environment value of R_HOME\n"
     ]
    },
    {
     "name": "stdout",
     "output_type": "stream",
     "text": [
      "WARNING: ignoring environment value of R_HOME\n"
     ]
    },
    {
     "name": "stdout",
     "output_type": "stream",
     "text": [
      "WARNING: ignoring environment value of R_HOME\n"
     ]
    },
    {
     "name": "stdout",
     "output_type": "stream",
     "text": [
      "WARNING: ignoring environment value of R_HOME\n"
     ]
    },
    {
     "name": "stdout",
     "output_type": "stream",
     "text": [
      "WARNING: ignoring environment value of R_HOME\n"
     ]
    },
    {
     "name": "stdout",
     "output_type": "stream",
     "text": [
      "WARNING: ignoring environment value of R_HOME\n"
     ]
    },
    {
     "name": "stdout",
     "output_type": "stream",
     "text": [
      "WARNING: ignoring environment value of R_HOME\n"
     ]
    },
    {
     "name": "stdout",
     "output_type": "stream",
     "text": [
      "WARNING: ignoring environment value of R_HOME\n"
     ]
    },
    {
     "name": "stdout",
     "output_type": "stream",
     "text": [
      "WARNING: ignoring environment value of R_HOME\n"
     ]
    },
    {
     "name": "stdout",
     "output_type": "stream",
     "text": [
      "WARNING: ignoring environment value of R_HOME\n"
     ]
    },
    {
     "name": "stdout",
     "output_type": "stream",
     "text": [
      "WARNING: ignoring environment value of R_HOME\n"
     ]
    },
    {
     "name": "stdout",
     "output_type": "stream",
     "text": [
      "WARNING: ignoring environment value of R_HOME\n"
     ]
    },
    {
     "name": "stdout",
     "output_type": "stream",
     "text": [
      "WARNING: ignoring environment value of R_HOME\n"
     ]
    },
    {
     "name": "stdout",
     "output_type": "stream",
     "text": [
      "WARNING: ignoring environment value of R_HOME\n"
     ]
    },
    {
     "name": "stdout",
     "output_type": "stream",
     "text": [
      "WARNING: ignoring environment value of R_HOME\n"
     ]
    },
    {
     "name": "stdout",
     "output_type": "stream",
     "text": [
      "WARNING: ignoring environment value of R_HOME\n"
     ]
    },
    {
     "name": "stdout",
     "output_type": "stream",
     "text": [
      "WARNING: ignoring environment value of R_HOME\n"
     ]
    },
    {
     "name": "stdout",
     "output_type": "stream",
     "text": [
      "WARNING: ignoring environment value of R_HOME\n"
     ]
    },
    {
     "name": "stdout",
     "output_type": "stream",
     "text": [
      "WARNING: ignoring environment value of R_HOME\n"
     ]
    },
    {
     "name": "stdout",
     "output_type": "stream",
     "text": [
      "WARNING: ignoring environment value of R_HOME\n"
     ]
    },
    {
     "name": "stdout",
     "output_type": "stream",
     "text": [
      "WARNING: ignoring environment value of R_HOME\n"
     ]
    },
    {
     "name": "stdout",
     "output_type": "stream",
     "text": [
      "WARNING: ignoring environment value of R_HOME\n"
     ]
    },
    {
     "name": "stdout",
     "output_type": "stream",
     "text": [
      "WARNING: ignoring environment value of R_HOME\n"
     ]
    },
    {
     "name": "stdout",
     "output_type": "stream",
     "text": [
      "WARNING: ignoring environment value of R_HOME\n"
     ]
    },
    {
     "name": "stdout",
     "output_type": "stream",
     "text": [
      "WARNING: ignoring environment value of R_HOME\n"
     ]
    },
    {
     "name": "stdout",
     "output_type": "stream",
     "text": [
      "WARNING: ignoring environment value of R_HOME\n"
     ]
    },
    {
     "name": "stdout",
     "output_type": "stream",
     "text": [
      "WARNING: ignoring environment value of R_HOME\n"
     ]
    },
    {
     "name": "stdout",
     "output_type": "stream",
     "text": [
      "WARNING: ignoring environment value of R_HOME\n"
     ]
    },
    {
     "name": "stdout",
     "output_type": "stream",
     "text": [
      "WARNING: ignoring environment value of R_HOME\n"
     ]
    },
    {
     "name": "stdout",
     "output_type": "stream",
     "text": [
      "WARNING: ignoring environment value of R_HOME\n"
     ]
    },
    {
     "name": "stdout",
     "output_type": "stream",
     "text": [
      "WARNING: ignoring environment value of R_HOME\n"
     ]
    },
    {
     "name": "stdout",
     "output_type": "stream",
     "text": [
      "WARNING: ignoring environment value of R_HOME\n"
     ]
    },
    {
     "name": "stdout",
     "output_type": "stream",
     "text": [
      "WARNING: ignoring environment value of R_HOME\n"
     ]
    },
    {
     "name": "stdout",
     "output_type": "stream",
     "text": [
      "WARNING: ignoring environment value of R_HOME\n"
     ]
    },
    {
     "name": "stdout",
     "output_type": "stream",
     "text": [
      "WARNING: ignoring environment value of R_HOME\n"
     ]
    },
    {
     "name": "stdout",
     "output_type": "stream",
     "text": [
      "WARNING: ignoring environment value of R_HOME\n"
     ]
    },
    {
     "name": "stdout",
     "output_type": "stream",
     "text": [
      "WARNING: ignoring environment value of R_HOME\n"
     ]
    },
    {
     "name": "stdout",
     "output_type": "stream",
     "text": [
      "WARNING: ignoring environment value of R_HOME\n"
     ]
    },
    {
     "name": "stdout",
     "output_type": "stream",
     "text": [
      "WARNING: ignoring environment value of R_HOME\n"
     ]
    },
    {
     "name": "stdout",
     "output_type": "stream",
     "text": [
      "WARNING: ignoring environment value of R_HOME\n"
     ]
    },
    {
     "name": "stdout",
     "output_type": "stream",
     "text": [
      "WARNING: ignoring environment value of R_HOME\n"
     ]
    },
    {
     "name": "stdout",
     "output_type": "stream",
     "text": [
      "WARNING: ignoring environment value of R_HOME\n"
     ]
    },
    {
     "name": "stdout",
     "output_type": "stream",
     "text": [
      "WARNING: ignoring environment value of R_HOME\n"
     ]
    },
    {
     "name": "stdout",
     "output_type": "stream",
     "text": [
      "WARNING: ignoring environment value of R_HOME\n"
     ]
    },
    {
     "name": "stdout",
     "output_type": "stream",
     "text": [
      "WARNING: ignoring environment value of R_HOME\n"
     ]
    },
    {
     "name": "stdout",
     "output_type": "stream",
     "text": [
      "WARNING: ignoring environment value of R_HOME\n"
     ]
    },
    {
     "name": "stdout",
     "output_type": "stream",
     "text": [
      "WARNING: ignoring environment value of R_HOME\n"
     ]
    },
    {
     "name": "stdout",
     "output_type": "stream",
     "text": [
      "WARNING: ignoring environment value of R_HOME\n"
     ]
    },
    {
     "name": "stdout",
     "output_type": "stream",
     "text": [
      "WARNING: ignoring environment value of R_HOME\n"
     ]
    },
    {
     "name": "stdout",
     "output_type": "stream",
     "text": [
      "WARNING: ignoring environment value of R_HOME\n"
     ]
    },
    {
     "name": "stdout",
     "output_type": "stream",
     "text": [
      "WARNING: ignoring environment value of R_HOME\n"
     ]
    },
    {
     "name": "stdout",
     "output_type": "stream",
     "text": [
      "WARNING: ignoring environment value of R_HOME\n"
     ]
    },
    {
     "name": "stdout",
     "output_type": "stream",
     "text": [
      "WARNING: ignoring environment value of R_HOME\n"
     ]
    },
    {
     "name": "stdout",
     "output_type": "stream",
     "text": [
      "WARNING: ignoring environment value of R_HOME\n"
     ]
    },
    {
     "name": "stdout",
     "output_type": "stream",
     "text": [
      "WARNING: ignoring environment value of R_HOME\n"
     ]
    },
    {
     "name": "stdout",
     "output_type": "stream",
     "text": [
      "WARNING: ignoring environment value of R_HOME\n"
     ]
    },
    {
     "name": "stdout",
     "output_type": "stream",
     "text": [
      "WARNING: ignoring environment value of R_HOME\n"
     ]
    },
    {
     "name": "stdout",
     "output_type": "stream",
     "text": [
      "WARNING: ignoring environment value of R_HOME\n"
     ]
    },
    {
     "name": "stdout",
     "output_type": "stream",
     "text": [
      "WARNING: ignoring environment value of R_HOME\n"
     ]
    },
    {
     "name": "stdout",
     "output_type": "stream",
     "text": [
      "WARNING: ignoring environment value of R_HOME\n"
     ]
    },
    {
     "name": "stdout",
     "output_type": "stream",
     "text": [
      "WARNING: ignoring environment value of R_HOME\n"
     ]
    },
    {
     "name": "stdout",
     "output_type": "stream",
     "text": [
      "WARNING: ignoring environment value of R_HOME\n"
     ]
    },
    {
     "name": "stdout",
     "output_type": "stream",
     "text": [
      "WARNING: ignoring environment value of R_HOME\n"
     ]
    },
    {
     "name": "stdout",
     "output_type": "stream",
     "text": [
      "WARNING: ignoring environment value of R_HOME\n"
     ]
    },
    {
     "name": "stdout",
     "output_type": "stream",
     "text": [
      "WARNING: ignoring environment value of R_HOME\n"
     ]
    },
    {
     "name": "stdout",
     "output_type": "stream",
     "text": [
      "WARNING: ignoring environment value of R_HOME\n"
     ]
    },
    {
     "name": "stdout",
     "output_type": "stream",
     "text": [
      "WARNING: ignoring environment value of R_HOME\n"
     ]
    },
    {
     "name": "stdout",
     "output_type": "stream",
     "text": [
      "WARNING: ignoring environment value of R_HOME\n"
     ]
    },
    {
     "name": "stdout",
     "output_type": "stream",
     "text": [
      "WARNING: ignoring environment value of R_HOME\n"
     ]
    },
    {
     "name": "stdout",
     "output_type": "stream",
     "text": [
      "WARNING: ignoring environment value of R_HOME\n"
     ]
    },
    {
     "name": "stdout",
     "output_type": "stream",
     "text": [
      "WARNING: ignoring environment value of R_HOME\n"
     ]
    },
    {
     "name": "stdout",
     "output_type": "stream",
     "text": [
      "WARNING: ignoring environment value of R_HOME\n"
     ]
    },
    {
     "name": "stdout",
     "output_type": "stream",
     "text": [
      "WARNING: ignoring environment value of R_HOME\n"
     ]
    },
    {
     "name": "stdout",
     "output_type": "stream",
     "text": [
      "WARNING: ignoring environment value of R_HOME\n"
     ]
    },
    {
     "name": "stdout",
     "output_type": "stream",
     "text": [
      "WARNING: ignoring environment value of R_HOME\n"
     ]
    },
    {
     "name": "stdout",
     "output_type": "stream",
     "text": [
      "WARNING: ignoring environment value of R_HOME\n"
     ]
    },
    {
     "name": "stdout",
     "output_type": "stream",
     "text": [
      "WARNING: ignoring environment value of R_HOME\n"
     ]
    },
    {
     "name": "stderr",
     "output_type": "stream",
     "text": [
      "<block>:1:39-51: info: atom does not occur in any rule head:\n",
      "  ap(1,3,#P0,s7)\n",
      "\n",
      "<block>:1:45-60: info: atom does not occur in any rule head:\n",
      "  ap(1,3,#P0,empty)\n",
      "\n",
      "<block>:1:39-51: info: atom does not occur in any rule head:\n",
      "  ap(1,3,#P0,s7)\n",
      "\n",
      "<block>:1:45-60: info: atom does not occur in any rule head:\n",
      "  ap(1,3,#P0,empty)\n",
      "\n"
     ]
    },
    {
     "name": "stderr",
     "output_type": "stream",
     "text": [
      "<block>:1:39-51: info: atom does not occur in any rule head:\n",
      "  ap(1,3,#P0,s7)\n",
      "\n",
      "<block>:1:45-60: info: atom does not occur in any rule head:\n",
      "  ap(1,3,#P0,empty)\n",
      "\n",
      "<block>:1:39-51: info: atom does not occur in any rule head:\n",
      "  ap(1,3,#P0,s7)\n",
      "\n",
      "<block>:1:45-60: info: atom does not occur in any rule head:\n",
      "  ap(1,3,#P0,empty)\n",
      "\n"
     ]
    },
    {
     "name": "stderr",
     "output_type": "stream",
     "text": [
      "<block>:1:39-51: info: atom does not occur in any rule head:\n",
      "  ap(0,6,#P0,s2)\n",
      "\n",
      "<block>:1:45-60: info: atom does not occur in any rule head:\n",
      "  ap(0,6,#P0,empty)\n",
      "\n"
     ]
    },
    {
     "name": "stderr",
     "output_type": "stream",
     "text": [
      "<block>:1:39-51: info: atom does not occur in any rule head:\n",
      "  ap(0,6,#P0,s2)\n",
      "\n",
      "<block>:1:45-60: info: atom does not occur in any rule head:\n",
      "  ap(0,6,#P0,empty)\n",
      "\n"
     ]
    },
    {
     "name": "stderr",
     "output_type": "stream",
     "text": [
      "<block>:1:39-51: info: atom does not occur in any rule head:\n",
      "  ap(1,3,#P0,s7)\n",
      "\n",
      "<block>:1:45-60: info: atom does not occur in any rule head:\n",
      "  ap(1,3,#P0,empty)\n",
      "\n"
     ]
    },
    {
     "name": "stderr",
     "output_type": "stream",
     "text": [
      "<block>:1:39-51: info: atom does not occur in any rule head:\n",
      "  ap(1,3,#P0,s7)\n",
      "\n",
      "<block>:1:45-60: info: atom does not occur in any rule head:\n",
      "  ap(1,3,#P0,empty)\n",
      "\n"
     ]
    },
    {
     "name": "stderr",
     "output_type": "stream",
     "text": [
      "<block>:1:39-51: info: atom does not occur in any rule head:\n",
      "  ap(1,3,#P0,s6)\n",
      "\n",
      "<block>:1:45-60: info: atom does not occur in any rule head:\n",
      "  ap(1,3,#P0,empty)\n",
      "\n"
     ]
    },
    {
     "name": "stderr",
     "output_type": "stream",
     "text": [
      "<block>:1:39-51: info: atom does not occur in any rule head:\n",
      "  ap(1,3,#P0,s6)\n",
      "\n",
      "<block>:1:45-60: info: atom does not occur in any rule head:\n",
      "  ap(1,3,#P0,empty)\n",
      "\n"
     ]
    },
    {
     "name": "stderr",
     "output_type": "stream",
     "text": [
      "<block>:1:39-51: info: atom does not occur in any rule head:\n",
      "  ap(1,3,#P0,s0)\n",
      "\n",
      "<block>:1:45-60: info: atom does not occur in any rule head:\n",
      "  ap(1,3,#P0,empty)\n",
      "\n"
     ]
    },
    {
     "name": "stderr",
     "output_type": "stream",
     "text": [
      "<block>:1:39-51: info: atom does not occur in any rule head:\n",
      "  ap(1,3,#P0,s0)\n",
      "\n",
      "<block>:1:45-60: info: atom does not occur in any rule head:\n",
      "  ap(1,3,#P0,empty)\n",
      "\n"
     ]
    },
    {
     "name": "stderr",
     "output_type": "stream",
     "text": [
      "<block>:1:39-51: info: atom does not occur in any rule head:\n",
      "  ap(0,1,#P0,s6)\n",
      "\n",
      "<block>:1:45-60: info: atom does not occur in any rule head:\n",
      "  ap(0,1,#P0,empty)\n",
      "\n"
     ]
    },
    {
     "name": "stderr",
     "output_type": "stream",
     "text": [
      "<block>:1:39-51: info: atom does not occur in any rule head:\n",
      "  ap(0,1,#P0,s6)\n",
      "\n",
      "<block>:1:45-60: info: atom does not occur in any rule head:\n",
      "  ap(0,1,#P0,empty)\n",
      "\n"
     ]
    },
    {
     "name": "stderr",
     "output_type": "stream",
     "text": [
      "<block>:1:39-51: info: atom does not occur in any rule head:\n",
      "  ap(1,4,#P0,s6)\n",
      "\n",
      "<block>:1:45-60: info: atom does not occur in any rule head:\n",
      "  ap(1,4,#P0,empty)\n",
      "\n"
     ]
    },
    {
     "name": "stderr",
     "output_type": "stream",
     "text": [
      "<block>:1:39-51: info: atom does not occur in any rule head:\n",
      "  ap(1,4,#P0,s6)\n",
      "\n",
      "<block>:1:45-60: info: atom does not occur in any rule head:\n",
      "  ap(1,4,#P0,empty)\n",
      "\n"
     ]
    },
    {
     "name": "stderr",
     "output_type": "stream",
     "text": [
      "<block>:1:39-51: info: atom does not occur in any rule head:\n",
      "  ap(1,3,#P0,s7)\n",
      "\n",
      "<block>:1:45-60: info: atom does not occur in any rule head:\n",
      "  ap(1,3,#P0,empty)\n",
      "\n",
      "<block>:1:39-51: info: atom does not occur in any rule head:\n",
      "  ap(1,3,#P0,s7)\n",
      "\n",
      "<block>:1:45-60: info: atom does not occur in any rule head:\n",
      "  ap(1,3,#P0,empty)\n",
      "\n"
     ]
    },
    {
     "name": "stderr",
     "output_type": "stream",
     "text": [
      "<block>:1:39-51: info: atom does not occur in any rule head:\n",
      "  ap(1,3,#P0,s7)\n",
      "\n",
      "<block>:1:45-60: info: atom does not occur in any rule head:\n",
      "  ap(1,3,#P0,empty)\n",
      "\n"
     ]
    },
    {
     "name": "stderr",
     "output_type": "stream",
     "text": [
      "<block>:1:39-51: info: atom does not occur in any rule head:\n",
      "  ap(1,3,#P0,s7)\n",
      "\n",
      "<block>:1:45-60: info: atom does not occur in any rule head:\n",
      "  ap(1,3,#P0,empty)\n",
      "\n"
     ]
    },
    {
     "name": "stderr",
     "output_type": "stream",
     "text": [
      "<block>:1:39-51: info: atom does not occur in any rule head:\n",
      "  ap(1,3,#P0,s7)\n",
      "\n",
      "<block>:1:45-60: info: atom does not occur in any rule head:\n",
      "  ap(1,3,#P0,empty)\n",
      "\n"
     ]
    },
    {
     "name": "stderr",
     "output_type": "stream",
     "text": [
      "<block>:1:39-51: info: atom does not occur in any rule head:\n",
      "  ap(2,7,#P0,s5)\n",
      "\n",
      "<block>:1:45-60: info: atom does not occur in any rule head:\n",
      "  ap(2,7,#P0,empty)\n",
      "\n"
     ]
    },
    {
     "name": "stderr",
     "output_type": "stream",
     "text": [
      "<block>:1:39-51: info: atom does not occur in any rule head:\n",
      "  ap(2,7,#P0,s5)\n",
      "\n",
      "<block>:1:45-60: info: atom does not occur in any rule head:\n",
      "  ap(2,7,#P0,empty)\n",
      "\n"
     ]
    },
    {
     "name": "stderr",
     "output_type": "stream",
     "text": [
      "<block>:1:39-51: info: atom does not occur in any rule head:\n",
      "  ap(4,6,#P0,s2)\n",
      "\n",
      "<block>:1:45-60: info: atom does not occur in any rule head:\n",
      "  ap(4,6,#P0,empty)\n",
      "\n"
     ]
    },
    {
     "name": "stderr",
     "output_type": "stream",
     "text": [
      "<block>:1:39-51: info: atom does not occur in any rule head:\n",
      "  ap(4,6,#P0,s2)\n",
      "\n",
      "<block>:1:45-60: info: atom does not occur in any rule head:\n",
      "  ap(4,6,#P0,empty)\n",
      "\n"
     ]
    },
    {
     "name": "stderr",
     "output_type": "stream",
     "text": [
      "<block>:1:39-51: info: atom does not occur in any rule head:\n",
      "  ap(0,1,#P0,s6)\n",
      "\n",
      "<block>:1:45-60: info: atom does not occur in any rule head:\n",
      "  ap(0,1,#P0,empty)\n",
      "\n"
     ]
    },
    {
     "name": "stderr",
     "output_type": "stream",
     "text": [
      "<block>:1:39-51: info: atom does not occur in any rule head:\n",
      "  ap(0,1,#P0,s6)\n",
      "\n",
      "<block>:1:45-60: info: atom does not occur in any rule head:\n",
      "  ap(0,1,#P0,empty)\n",
      "\n"
     ]
    },
    {
     "name": "stdout",
     "output_type": "stream",
     "text": [
      "WARNING: ignoring environment value of R_HOME\n"
     ]
    },
    {
     "name": "stdout",
     "output_type": "stream",
     "text": [
      "WARNING: ignoring environment value of R_HOME\n"
     ]
    },
    {
     "name": "stdout",
     "output_type": "stream",
     "text": [
      "WARNING: ignoring environment value of R_HOME\n"
     ]
    },
    {
     "name": "stdout",
     "output_type": "stream",
     "text": [
      "WARNING: ignoring environment value of R_HOME\n"
     ]
    },
    {
     "name": "stdout",
     "output_type": "stream",
     "text": [
      "WARNING: ignoring environment value of R_HOME\n"
     ]
    },
    {
     "name": "stdout",
     "output_type": "stream",
     "text": [
      "WARNING: ignoring environment value of R_HOME\n"
     ]
    },
    {
     "name": "stdout",
     "output_type": "stream",
     "text": [
      "WARNING: ignoring environment value of R_HOME\n"
     ]
    },
    {
     "name": "stdout",
     "output_type": "stream",
     "text": [
      "WARNING: ignoring environment value of R_HOME\n"
     ]
    },
    {
     "name": "stdout",
     "output_type": "stream",
     "text": [
      "WARNING: ignoring environment value of R_HOME\n"
     ]
    },
    {
     "name": "stdout",
     "output_type": "stream",
     "text": [
      "WARNING: ignoring environment value of R_HOME\n"
     ]
    },
    {
     "name": "stdout",
     "output_type": "stream",
     "text": [
      "WARNING: ignoring environment value of R_HOME\n"
     ]
    },
    {
     "name": "stdout",
     "output_type": "stream",
     "text": [
      "WARNING: ignoring environment value of R_HOME\n"
     ]
    },
    {
     "name": "stdout",
     "output_type": "stream",
     "text": [
      "WARNING: ignoring environment value of R_HOME\n"
     ]
    },
    {
     "name": "stdout",
     "output_type": "stream",
     "text": [
      "WARNING: ignoring environment value of R_HOME\n"
     ]
    },
    {
     "name": "stdout",
     "output_type": "stream",
     "text": [
      "WARNING: ignoring environment value of R_HOME\n"
     ]
    },
    {
     "name": "stdout",
     "output_type": "stream",
     "text": [
      "WARNING: ignoring environment value of R_HOME\n"
     ]
    },
    {
     "name": "stdout",
     "output_type": "stream",
     "text": [
      "WARNING: ignoring environment value of R_HOME\n"
     ]
    },
    {
     "name": "stdout",
     "output_type": "stream",
     "text": [
      "WARNING: ignoring environment value of R_HOME\n"
     ]
    },
    {
     "name": "stdout",
     "output_type": "stream",
     "text": [
      "WARNING: ignoring environment value of R_HOME\n"
     ]
    },
    {
     "name": "stdout",
     "output_type": "stream",
     "text": [
      "WARNING: ignoring environment value of R_HOME\n"
     ]
    },
    {
     "name": "stdout",
     "output_type": "stream",
     "text": [
      "WARNING: ignoring environment value of R_HOME\n"
     ]
    },
    {
     "name": "stdout",
     "output_type": "stream",
     "text": [
      "WARNING: ignoring environment value of R_HOME\n"
     ]
    },
    {
     "name": "stdout",
     "output_type": "stream",
     "text": [
      "WARNING: ignoring environment value of R_HOME\n"
     ]
    },
    {
     "name": "stdout",
     "output_type": "stream",
     "text": [
      "WARNING: ignoring environment value of R_HOME\n"
     ]
    },
    {
     "name": "stdout",
     "output_type": "stream",
     "text": [
      "WARNING: ignoring environment value of R_HOME\n"
     ]
    },
    {
     "name": "stdout",
     "output_type": "stream",
     "text": [
      "WARNING: ignoring environment value of R_HOME\n"
     ]
    },
    {
     "name": "stdout",
     "output_type": "stream",
     "text": [
      "WARNING: ignoring environment value of R_HOME\n"
     ]
    },
    {
     "name": "stdout",
     "output_type": "stream",
     "text": [
      "WARNING: ignoring environment value of R_HOME\n"
     ]
    },
    {
     "name": "stdout",
     "output_type": "stream",
     "text": [
      "WARNING: ignoring environment value of R_HOME\n"
     ]
    },
    {
     "name": "stdout",
     "output_type": "stream",
     "text": [
      "WARNING: ignoring environment value of R_HOME\n"
     ]
    },
    {
     "name": "stdout",
     "output_type": "stream",
     "text": [
      "WARNING: ignoring environment value of R_HOME\n"
     ]
    },
    {
     "name": "stdout",
     "output_type": "stream",
     "text": [
      "WARNING: ignoring environment value of R_HOME\n"
     ]
    },
    {
     "name": "stdout",
     "output_type": "stream",
     "text": [
      "WARNING: ignoring environment value of R_HOME\n"
     ]
    },
    {
     "name": "stdout",
     "output_type": "stream",
     "text": [
      "WARNING: ignoring environment value of R_HOME\n"
     ]
    },
    {
     "name": "stdout",
     "output_type": "stream",
     "text": [
      "WARNING: ignoring environment value of R_HOME\n"
     ]
    },
    {
     "name": "stdout",
     "output_type": "stream",
     "text": [
      "WARNING: ignoring environment value of R_HOME\n"
     ]
    },
    {
     "name": "stdout",
     "output_type": "stream",
     "text": [
      "WARNING: ignoring environment value of R_HOME\n"
     ]
    },
    {
     "name": "stdout",
     "output_type": "stream",
     "text": [
      "WARNING: ignoring environment value of R_HOME\n"
     ]
    },
    {
     "name": "stdout",
     "output_type": "stream",
     "text": [
      "WARNING: ignoring environment value of R_HOME\n"
     ]
    },
    {
     "name": "stdout",
     "output_type": "stream",
     "text": [
      "WARNING: ignoring environment value of R_HOME\n"
     ]
    },
    {
     "name": "stdout",
     "output_type": "stream",
     "text": [
      "WARNING: ignoring environment value of R_HOME\n"
     ]
    },
    {
     "name": "stdout",
     "output_type": "stream",
     "text": [
      "WARNING: ignoring environment value of R_HOME\n"
     ]
    },
    {
     "name": "stdout",
     "output_type": "stream",
     "text": [
      "WARNING: ignoring environment value of R_HOME\n"
     ]
    },
    {
     "name": "stdout",
     "output_type": "stream",
     "text": [
      "WARNING: ignoring environment value of R_HOME\n"
     ]
    },
    {
     "name": "stdout",
     "output_type": "stream",
     "text": [
      "WARNING: ignoring environment value of R_HOME\n"
     ]
    },
    {
     "name": "stdout",
     "output_type": "stream",
     "text": [
      "WARNING: ignoring environment value of R_HOME\n"
     ]
    },
    {
     "name": "stdout",
     "output_type": "stream",
     "text": [
      "WARNING: ignoring environment value of R_HOME\n"
     ]
    },
    {
     "name": "stdout",
     "output_type": "stream",
     "text": [
      "WARNING: ignoring environment value of R_HOME\n"
     ]
    },
    {
     "name": "stdout",
     "output_type": "stream",
     "text": [
      "WARNING: ignoring environment value of R_HOME\n"
     ]
    },
    {
     "name": "stdout",
     "output_type": "stream",
     "text": [
      "WARNING: ignoring environment value of R_HOME\n"
     ]
    },
    {
     "name": "stdout",
     "output_type": "stream",
     "text": [
      "WARNING: ignoring environment value of R_HOME\n"
     ]
    },
    {
     "name": "stdout",
     "output_type": "stream",
     "text": [
      "WARNING: ignoring environment value of R_HOME\n"
     ]
    },
    {
     "name": "stdout",
     "output_type": "stream",
     "text": [
      "WARNING: ignoring environment value of R_HOME\n"
     ]
    },
    {
     "name": "stdout",
     "output_type": "stream",
     "text": [
      "WARNING: ignoring environment value of R_HOME\n"
     ]
    },
    {
     "name": "stdout",
     "output_type": "stream",
     "text": [
      "WARNING: ignoring environment value of R_HOME\n"
     ]
    },
    {
     "name": "stdout",
     "output_type": "stream",
     "text": [
      "WARNING: ignoring environment value of R_HOME\n"
     ]
    },
    {
     "name": "stdout",
     "output_type": "stream",
     "text": [
      "WARNING: ignoring environment value of R_HOME\n"
     ]
    },
    {
     "name": "stdout",
     "output_type": "stream",
     "text": [
      "WARNING: ignoring environment value of R_HOME\n"
     ]
    },
    {
     "name": "stdout",
     "output_type": "stream",
     "text": [
      "WARNING: ignoring environment value of R_HOME\n"
     ]
    },
    {
     "name": "stdout",
     "output_type": "stream",
     "text": [
      "WARNING: ignoring environment value of R_HOME\n"
     ]
    },
    {
     "name": "stdout",
     "output_type": "stream",
     "text": [
      "WARNING: ignoring environment value of R_HOME\n"
     ]
    },
    {
     "name": "stdout",
     "output_type": "stream",
     "text": [
      "WARNING: ignoring environment value of R_HOME\n"
     ]
    },
    {
     "name": "stdout",
     "output_type": "stream",
     "text": [
      "WARNING: ignoring environment value of R_HOME\n"
     ]
    },
    {
     "name": "stdout",
     "output_type": "stream",
     "text": [
      "WARNING: ignoring environment value of R_HOME\n"
     ]
    },
    {
     "name": "stdout",
     "output_type": "stream",
     "text": [
      "WARNING: ignoring environment value of R_HOME\n"
     ]
    },
    {
     "name": "stdout",
     "output_type": "stream",
     "text": [
      "WARNING: ignoring environment value of R_HOME\n"
     ]
    },
    {
     "name": "stdout",
     "output_type": "stream",
     "text": [
      "WARNING: ignoring environment value of R_HOME\n"
     ]
    },
    {
     "name": "stdout",
     "output_type": "stream",
     "text": [
      "WARNING: ignoring environment value of R_HOME\n"
     ]
    },
    {
     "name": "stdout",
     "output_type": "stream",
     "text": [
      "WARNING: ignoring environment value of R_HOME\n"
     ]
    },
    {
     "name": "stdout",
     "output_type": "stream",
     "text": [
      "WARNING: ignoring environment value of R_HOME\n"
     ]
    },
    {
     "name": "stdout",
     "output_type": "stream",
     "text": [
      "WARNING: ignoring environment value of R_HOME\n"
     ]
    },
    {
     "name": "stdout",
     "output_type": "stream",
     "text": [
      "WARNING: ignoring environment value of R_HOME\n"
     ]
    },
    {
     "name": "stdout",
     "output_type": "stream",
     "text": [
      "WARNING: ignoring environment value of R_HOME\n"
     ]
    },
    {
     "name": "stdout",
     "output_type": "stream",
     "text": [
      "WARNING: ignoring environment value of R_HOME\n"
     ]
    },
    {
     "name": "stdout",
     "output_type": "stream",
     "text": [
      "WARNING: ignoring environment value of R_HOME\n"
     ]
    },
    {
     "name": "stdout",
     "output_type": "stream",
     "text": [
      "WARNING: ignoring environment value of R_HOME\n"
     ]
    },
    {
     "name": "stdout",
     "output_type": "stream",
     "text": [
      "WARNING: ignoring environment value of R_HOME\n"
     ]
    },
    {
     "name": "stdout",
     "output_type": "stream",
     "text": [
      "WARNING: ignoring environment value of R_HOME\n"
     ]
    },
    {
     "name": "stdout",
     "output_type": "stream",
     "text": [
      "WARNING: ignoring environment value of R_HOME\n"
     ]
    },
    {
     "name": "stdout",
     "output_type": "stream",
     "text": [
      "WARNING: ignoring environment value of R_HOME\n"
     ]
    },
    {
     "name": "stdout",
     "output_type": "stream",
     "text": [
      "WARNING: ignoring environment value of R_HOME\n"
     ]
    },
    {
     "name": "stdout",
     "output_type": "stream",
     "text": [
      "WARNING: ignoring environment value of R_HOME\n"
     ]
    },
    {
     "name": "stdout",
     "output_type": "stream",
     "text": [
      "WARNING: ignoring environment value of R_HOME\n"
     ]
    },
    {
     "name": "stdout",
     "output_type": "stream",
     "text": [
      "WARNING: ignoring environment value of R_HOME\n"
     ]
    },
    {
     "name": "stdout",
     "output_type": "stream",
     "text": [
      "WARNING: ignoring environment value of R_HOME\n"
     ]
    },
    {
     "name": "stdout",
     "output_type": "stream",
     "text": [
      "WARNING: ignoring environment value of R_HOME\n"
     ]
    },
    {
     "name": "stdout",
     "output_type": "stream",
     "text": [
      "WARNING: ignoring environment value of R_HOME\n"
     ]
    },
    {
     "name": "stdout",
     "output_type": "stream",
     "text": [
      "WARNING: ignoring environment value of R_HOME\n"
     ]
    },
    {
     "name": "stdout",
     "output_type": "stream",
     "text": [
      "WARNING: ignoring environment value of R_HOME\n"
     ]
    },
    {
     "name": "stdout",
     "output_type": "stream",
     "text": [
      "WARNING: ignoring environment value of R_HOME\n"
     ]
    },
    {
     "name": "stdout",
     "output_type": "stream",
     "text": [
      "WARNING: ignoring environment value of R_HOME\n"
     ]
    },
    {
     "name": "stdout",
     "output_type": "stream",
     "text": [
      "WARNING: ignoring environment value of R_HOME\n"
     ]
    },
    {
     "name": "stdout",
     "output_type": "stream",
     "text": [
      "WARNING: ignoring environment value of R_HOME\n"
     ]
    },
    {
     "name": "stdout",
     "output_type": "stream",
     "text": [
      "WARNING: ignoring environment value of R_HOME\n"
     ]
    },
    {
     "name": "stdout",
     "output_type": "stream",
     "text": [
      "WARNING: ignoring environment value of R_HOME\n"
     ]
    },
    {
     "name": "stdout",
     "output_type": "stream",
     "text": [
      "WARNING: ignoring environment value of R_HOME\n"
     ]
    },
    {
     "name": "stdout",
     "output_type": "stream",
     "text": [
      "WARNING: ignoring environment value of R_HOME\n"
     ]
    },
    {
     "name": "stdout",
     "output_type": "stream",
     "text": [
      "WARNING: ignoring environment value of R_HOME\n"
     ]
    },
    {
     "name": "stdout",
     "output_type": "stream",
     "text": [
      "WARNING: ignoring environment value of R_HOME\n"
     ]
    },
    {
     "name": "stdout",
     "output_type": "stream",
     "text": [
      "WARNING: ignoring environment value of R_HOME\n"
     ]
    },
    {
     "name": "stdout",
     "output_type": "stream",
     "text": [
      "WARNING: ignoring environment value of R_HOME\n"
     ]
    },
    {
     "name": "stdout",
     "output_type": "stream",
     "text": [
      "WARNING: ignoring environment value of R_HOME\n"
     ]
    },
    {
     "name": "stdout",
     "output_type": "stream",
     "text": [
      "WARNING: ignoring environment value of R_HOME\n"
     ]
    },
    {
     "name": "stdout",
     "output_type": "stream",
     "text": [
      "WARNING: ignoring environment value of R_HOME\n"
     ]
    },
    {
     "name": "stdout",
     "output_type": "stream",
     "text": [
      "WARNING: ignoring environment value of R_HOME\n"
     ]
    },
    {
     "name": "stdout",
     "output_type": "stream",
     "text": [
      "WARNING: ignoring environment value of R_HOME\n"
     ]
    },
    {
     "name": "stdout",
     "output_type": "stream",
     "text": [
      "WARNING: ignoring environment value of R_HOME\n"
     ]
    },
    {
     "name": "stdout",
     "output_type": "stream",
     "text": [
      "WARNING: ignoring environment value of R_HOME\n"
     ]
    },
    {
     "name": "stdout",
     "output_type": "stream",
     "text": [
      "WARNING: ignoring environment value of R_HOME\n"
     ]
    },
    {
     "name": "stdout",
     "output_type": "stream",
     "text": [
      "WARNING: ignoring environment value of R_HOME\n"
     ]
    },
    {
     "name": "stdout",
     "output_type": "stream",
     "text": [
      "WARNING: ignoring environment value of R_HOME\n"
     ]
    },
    {
     "name": "stdout",
     "output_type": "stream",
     "text": [
      "WARNING: ignoring environment value of R_HOME\n"
     ]
    },
    {
     "name": "stdout",
     "output_type": "stream",
     "text": [
      "WARNING: ignoring environment value of R_HOME\n"
     ]
    },
    {
     "name": "stdout",
     "output_type": "stream",
     "text": [
      "WARNING: ignoring environment value of R_HOME\n"
     ]
    },
    {
     "name": "stdout",
     "output_type": "stream",
     "text": [
      "WARNING: ignoring environment value of R_HOME\n"
     ]
    },
    {
     "name": "stdout",
     "output_type": "stream",
     "text": [
      "WARNING: ignoring environment value of R_HOME\n"
     ]
    },
    {
     "name": "stdout",
     "output_type": "stream",
     "text": [
      "WARNING: ignoring environment value of R_HOME\n"
     ]
    },
    {
     "name": "stdout",
     "output_type": "stream",
     "text": [
      "WARNING: ignoring environment value of R_HOME\n"
     ]
    },
    {
     "name": "stdout",
     "output_type": "stream",
     "text": [
      "WARNING: ignoring environment value of R_HOME\n"
     ]
    },
    {
     "name": "stdout",
     "output_type": "stream",
     "text": [
      "WARNING: ignoring environment value of R_HOME\n"
     ]
    },
    {
     "name": "stdout",
     "output_type": "stream",
     "text": [
      "WARNING: ignoring environment value of R_HOME\n"
     ]
    },
    {
     "name": "stdout",
     "output_type": "stream",
     "text": [
      "WARNING: ignoring environment value of R_HOME\n"
     ]
    },
    {
     "name": "stdout",
     "output_type": "stream",
     "text": [
      "WARNING: ignoring environment value of R_HOME\n"
     ]
    },
    {
     "name": "stdout",
     "output_type": "stream",
     "text": [
      "WARNING: ignoring environment value of R_HOME\n"
     ]
    },
    {
     "name": "stdout",
     "output_type": "stream",
     "text": [
      "WARNING: ignoring environment value of R_HOME\n"
     ]
    },
    {
     "name": "stdout",
     "output_type": "stream",
     "text": [
      "WARNING: ignoring environment value of R_HOME\n"
     ]
    },
    {
     "name": "stdout",
     "output_type": "stream",
     "text": [
      "WARNING: ignoring environment value of R_HOME\n"
     ]
    },
    {
     "name": "stdout",
     "output_type": "stream",
     "text": [
      "WARNING: ignoring environment value of R_HOME\n"
     ]
    },
    {
     "name": "stdout",
     "output_type": "stream",
     "text": [
      "WARNING: ignoring environment value of R_HOME\n"
     ]
    },
    {
     "name": "stdout",
     "output_type": "stream",
     "text": [
      "WARNING: ignoring environment value of R_HOME\n"
     ]
    },
    {
     "name": "stdout",
     "output_type": "stream",
     "text": [
      "WARNING: ignoring environment value of R_HOME\n"
     ]
    },
    {
     "name": "stdout",
     "output_type": "stream",
     "text": [
      "WARNING: ignoring environment value of R_HOME\n"
     ]
    },
    {
     "name": "stdout",
     "output_type": "stream",
     "text": [
      "WARNING: ignoring environment value of R_HOME\n"
     ]
    },
    {
     "name": "stdout",
     "output_type": "stream",
     "text": [
      "WARNING: ignoring environment value of R_HOME\n"
     ]
    },
    {
     "name": "stdout",
     "output_type": "stream",
     "text": [
      "WARNING: ignoring environment value of R_HOME\n"
     ]
    },
    {
     "name": "stdout",
     "output_type": "stream",
     "text": [
      "WARNING: ignoring environment value of R_HOME\n"
     ]
    },
    {
     "name": "stdout",
     "output_type": "stream",
     "text": [
      "WARNING: ignoring environment value of R_HOME\n"
     ]
    },
    {
     "name": "stdout",
     "output_type": "stream",
     "text": [
      "WARNING: ignoring environment value of R_HOME\n"
     ]
    },
    {
     "name": "stdout",
     "output_type": "stream",
     "text": [
      "WARNING: ignoring environment value of R_HOME\n"
     ]
    },
    {
     "name": "stdout",
     "output_type": "stream",
     "text": [
      "WARNING: ignoring environment value of R_HOME\n"
     ]
    },
    {
     "name": "stdout",
     "output_type": "stream",
     "text": [
      "WARNING: ignoring environment value of R_HOME\n"
     ]
    },
    {
     "name": "stdout",
     "output_type": "stream",
     "text": [
      "WARNING: ignoring environment value of R_HOME\n"
     ]
    },
    {
     "name": "stdout",
     "output_type": "stream",
     "text": [
      "WARNING: ignoring environment value of R_HOME\n"
     ]
    },
    {
     "name": "stdout",
     "output_type": "stream",
     "text": [
      "WARNING: ignoring environment value of R_HOME\n"
     ]
    },
    {
     "name": "stdout",
     "output_type": "stream",
     "text": [
      "WARNING: ignoring environment value of R_HOME\n"
     ]
    },
    {
     "name": "stdout",
     "output_type": "stream",
     "text": [
      "WARNING: ignoring environment value of R_HOME\n"
     ]
    },
    {
     "name": "stdout",
     "output_type": "stream",
     "text": [
      "WARNING: ignoring environment value of R_HOME\n"
     ]
    },
    {
     "name": "stdout",
     "output_type": "stream",
     "text": [
      "WARNING: ignoring environment value of R_HOME\n"
     ]
    },
    {
     "name": "stdout",
     "output_type": "stream",
     "text": [
      "WARNING: ignoring environment value of R_HOME\n"
     ]
    },
    {
     "name": "stdout",
     "output_type": "stream",
     "text": [
      "WARNING: ignoring environment value of R_HOME\n"
     ]
    },
    {
     "name": "stdout",
     "output_type": "stream",
     "text": [
      "WARNING: ignoring environment value of R_HOME\n"
     ]
    },
    {
     "name": "stdout",
     "output_type": "stream",
     "text": [
      "WARNING: ignoring environment value of R_HOME\n"
     ]
    },
    {
     "name": "stdout",
     "output_type": "stream",
     "text": [
      "WARNING: ignoring environment value of R_HOME\n"
     ]
    },
    {
     "name": "stdout",
     "output_type": "stream",
     "text": [
      "WARNING: ignoring environment value of R_HOME\n"
     ]
    },
    {
     "name": "stdout",
     "output_type": "stream",
     "text": [
      "WARNING: ignoring environment value of R_HOME\n"
     ]
    },
    {
     "name": "stdout",
     "output_type": "stream",
     "text": [
      "WARNING: ignoring environment value of R_HOME\n"
     ]
    },
    {
     "name": "stdout",
     "output_type": "stream",
     "text": [
      "WARNING: ignoring environment value of R_HOME\n"
     ]
    },
    {
     "name": "stdout",
     "output_type": "stream",
     "text": [
      "WARNING: ignoring environment value of R_HOME\n"
     ]
    },
    {
     "name": "stdout",
     "output_type": "stream",
     "text": [
      "WARNING: ignoring environment value of R_HOME\n"
     ]
    },
    {
     "name": "stdout",
     "output_type": "stream",
     "text": [
      "WARNING: ignoring environment value of R_HOME\n"
     ]
    },
    {
     "name": "stdout",
     "output_type": "stream",
     "text": [
      "WARNING: ignoring environment value of R_HOME\n"
     ]
    },
    {
     "name": "stdout",
     "output_type": "stream",
     "text": [
      "WARNING: ignoring environment value of R_HOME\n"
     ]
    },
    {
     "name": "stdout",
     "output_type": "stream",
     "text": [
      "WARNING: ignoring environment value of R_HOME\n"
     ]
    },
    {
     "name": "stdout",
     "output_type": "stream",
     "text": [
      "WARNING: ignoring environment value of R_HOME\n"
     ]
    },
    {
     "name": "stdout",
     "output_type": "stream",
     "text": [
      "WARNING: ignoring environment value of R_HOME\n"
     ]
    },
    {
     "name": "stdout",
     "output_type": "stream",
     "text": [
      "WARNING: ignoring environment value of R_HOME\n"
     ]
    },
    {
     "name": "stdout",
     "output_type": "stream",
     "text": [
      "WARNING: ignoring environment value of R_HOME\n"
     ]
    },
    {
     "name": "stdout",
     "output_type": "stream",
     "text": [
      "WARNING: ignoring environment value of R_HOME\n"
     ]
    },
    {
     "name": "stdout",
     "output_type": "stream",
     "text": [
      "WARNING: ignoring environment value of R_HOME\n"
     ]
    },
    {
     "name": "stdout",
     "output_type": "stream",
     "text": [
      "WARNING: ignoring environment value of R_HOME\n"
     ]
    },
    {
     "name": "stdout",
     "output_type": "stream",
     "text": [
      "WARNING: ignoring environment value of R_HOME\n"
     ]
    },
    {
     "name": "stdout",
     "output_type": "stream",
     "text": [
      "WARNING: ignoring environment value of R_HOME\n"
     ]
    },
    {
     "name": "stdout",
     "output_type": "stream",
     "text": [
      "WARNING: ignoring environment value of R_HOME\n"
     ]
    },
    {
     "name": "stdout",
     "output_type": "stream",
     "text": [
      "WARNING: ignoring environment value of R_HOME\n"
     ]
    },
    {
     "name": "stdout",
     "output_type": "stream",
     "text": [
      "WARNING: ignoring environment value of R_HOME\n"
     ]
    },
    {
     "name": "stdout",
     "output_type": "stream",
     "text": [
      "WARNING: ignoring environment value of R_HOME\n"
     ]
    },
    {
     "name": "stdout",
     "output_type": "stream",
     "text": [
      "WARNING: ignoring environment value of R_HOME\n"
     ]
    },
    {
     "name": "stdout",
     "output_type": "stream",
     "text": [
      "WARNING: ignoring environment value of R_HOME\n"
     ]
    },
    {
     "name": "stdout",
     "output_type": "stream",
     "text": [
      "WARNING: ignoring environment value of R_HOME\n"
     ]
    },
    {
     "name": "stdout",
     "output_type": "stream",
     "text": [
      "WARNING: ignoring environment value of R_HOME\n"
     ]
    },
    {
     "name": "stdout",
     "output_type": "stream",
     "text": [
      "WARNING: ignoring environment value of R_HOME\n"
     ]
    },
    {
     "name": "stdout",
     "output_type": "stream",
     "text": [
      "WARNING: ignoring environment value of R_HOME\n"
     ]
    },
    {
     "name": "stdout",
     "output_type": "stream",
     "text": [
      "WARNING: ignoring environment value of R_HOME\n"
     ]
    },
    {
     "name": "stdout",
     "output_type": "stream",
     "text": [
      "WARNING: ignoring environment value of R_HOME\n"
     ]
    },
    {
     "name": "stdout",
     "output_type": "stream",
     "text": [
      "WARNING: ignoring environment value of R_HOME\n"
     ]
    },
    {
     "name": "stdout",
     "output_type": "stream",
     "text": [
      "WARNING: ignoring environment value of R_HOME\n"
     ]
    },
    {
     "name": "stdout",
     "output_type": "stream",
     "text": [
      "WARNING: ignoring environment value of R_HOME\n"
     ]
    },
    {
     "name": "stdout",
     "output_type": "stream",
     "text": [
      "WARNING: ignoring environment value of R_HOME\n"
     ]
    },
    {
     "name": "stdout",
     "output_type": "stream",
     "text": [
      "WARNING: ignoring environment value of R_HOME\n"
     ]
    },
    {
     "name": "stdout",
     "output_type": "stream",
     "text": [
      "WARNING: ignoring environment value of R_HOME\n"
     ]
    },
    {
     "name": "stdout",
     "output_type": "stream",
     "text": [
      "WARNING: ignoring environment value of R_HOME\n"
     ]
    },
    {
     "name": "stdout",
     "output_type": "stream",
     "text": [
      "WARNING: ignoring environment value of R_HOME\n"
     ]
    },
    {
     "name": "stdout",
     "output_type": "stream",
     "text": [
      "WARNING: ignoring environment value of R_HOME\n"
     ]
    },
    {
     "name": "stdout",
     "output_type": "stream",
     "text": [
      "WARNING: ignoring environment value of R_HOME\n"
     ]
    },
    {
     "name": "stdout",
     "output_type": "stream",
     "text": [
      "WARNING: ignoring environment value of R_HOME\n"
     ]
    },
    {
     "name": "stdout",
     "output_type": "stream",
     "text": [
      "WARNING: ignoring environment value of R_HOME\n"
     ]
    },
    {
     "name": "stdout",
     "output_type": "stream",
     "text": [
      "WARNING: ignoring environment value of R_HOME\n"
     ]
    },
    {
     "name": "stdout",
     "output_type": "stream",
     "text": [
      "WARNING: ignoring environment value of R_HOME\n"
     ]
    },
    {
     "name": "stdout",
     "output_type": "stream",
     "text": [
      "WARNING: ignoring environment value of R_HOME\n"
     ]
    },
    {
     "name": "stdout",
     "output_type": "stream",
     "text": [
      "WARNING: ignoring environment value of R_HOME\n"
     ]
    }
   ],
   "source": [
    "%%capture\n",
    "synthetic_res_df = run_experiment(\n",
    "    prior_df=synthetic_prior_df, datasets=synthetic_datasets\n",
    ")\n",
    "synthetic_res_df.to_csv(\n",
    "    \"results/2025/prior_integration_synthetic.csv\", index=False\n",
    ")"
   ]
  },
  {
   "cell_type": "code",
   "execution_count": null,
   "id": "339e3c6c",
   "metadata": {},
   "outputs": [
    {
     "data": {
      "text/html": [
       "<div>\n",
       "<style scoped>\n",
       "    .dataframe tbody tr th:only-of-type {\n",
       "        vertical-align: middle;\n",
       "    }\n",
       "\n",
       "    .dataframe tbody tr th {\n",
       "        vertical-align: top;\n",
       "    }\n",
       "\n",
       "    .dataframe thead tr th {\n",
       "        text-align: left;\n",
       "    }\n",
       "\n",
       "    .dataframe thead tr:last-of-type th {\n",
       "        text-align: right;\n",
       "    }\n",
       "</style>\n",
       "<table border=\"1\" class=\"dataframe\">\n",
       "  <thead>\n",
       "    <tr>\n",
       "      <th></th>\n",
       "      <th></th>\n",
       "      <th colspan=\"3\" halign=\"left\">meta</th>\n",
       "      <th colspan=\"2\" halign=\"left\">time</th>\n",
       "      <th colspan=\"2\" halign=\"left\">remove_n</th>\n",
       "      <th colspan=\"2\" halign=\"left\">cpdag_F1</th>\n",
       "      <th colspan=\"2\" halign=\"left\">cpdag_shd</th>\n",
       "      <th colspan=\"2\" halign=\"left\">cpdag_sid_low</th>\n",
       "      <th colspan=\"2\" halign=\"left\">cpdag_sid_high</th>\n",
       "    </tr>\n",
       "    <tr>\n",
       "      <th></th>\n",
       "      <th></th>\n",
       "      <th>num_nodes</th>\n",
       "      <th>num_edges</th>\n",
       "      <th>repeats</th>\n",
       "      <th>mean</th>\n",
       "      <th>std</th>\n",
       "      <th>mean</th>\n",
       "      <th>std</th>\n",
       "      <th>mean</th>\n",
       "      <th>std</th>\n",
       "      <th>mean</th>\n",
       "      <th>std</th>\n",
       "      <th>mean</th>\n",
       "      <th>std</th>\n",
       "      <th>mean</th>\n",
       "      <th>std</th>\n",
       "    </tr>\n",
       "    <tr>\n",
       "      <th>dataset</th>\n",
       "      <th>impl</th>\n",
       "      <th></th>\n",
       "      <th></th>\n",
       "      <th></th>\n",
       "      <th></th>\n",
       "      <th></th>\n",
       "      <th></th>\n",
       "      <th></th>\n",
       "      <th></th>\n",
       "      <th></th>\n",
       "      <th></th>\n",
       "      <th></th>\n",
       "      <th></th>\n",
       "      <th></th>\n",
       "      <th></th>\n",
       "      <th></th>\n",
       "    </tr>\n",
       "  </thead>\n",
       "  <tbody>\n",
       "    <tr>\n",
       "      <th rowspan=\"2\" valign=\"top\">clinical_variables_in_cardiovascular_and_gastrointestinal_health</th>\n",
       "      <th>new</th>\n",
       "      <td>5</td>\n",
       "      <td>4</td>\n",
       "      <td>50</td>\n",
       "      <td>0.084304</td>\n",
       "      <td>0.035640</td>\n",
       "      <td>10.34</td>\n",
       "      <td>3.788328</td>\n",
       "      <td>0.653334</td>\n",
       "      <td>0.144095</td>\n",
       "      <td>1.12</td>\n",
       "      <td>1.042759</td>\n",
       "      <td>3.24</td>\n",
       "      <td>3.936019</td>\n",
       "      <td>5.76</td>\n",
       "      <td>2.015856</td>\n",
       "    </tr>\n",
       "    <tr>\n",
       "      <th>org</th>\n",
       "      <td>5</td>\n",
       "      <td>4</td>\n",
       "      <td>50</td>\n",
       "      <td>0.079715</td>\n",
       "      <td>0.029684</td>\n",
       "      <td>9.78</td>\n",
       "      <td>3.059212</td>\n",
       "      <td>0.550921</td>\n",
       "      <td>0.203032</td>\n",
       "      <td>1.84</td>\n",
       "      <td>1.556553</td>\n",
       "      <td>3.80</td>\n",
       "      <td>3.619674</td>\n",
       "      <td>7.68</td>\n",
       "      <td>3.622154</td>\n",
       "    </tr>\n",
       "    <tr>\n",
       "      <th rowspan=\"2\" valign=\"top\">pharmacological_and_cardiac_health_dynamics</th>\n",
       "      <th>new</th>\n",
       "      <td>6</td>\n",
       "      <td>6</td>\n",
       "      <td>50</td>\n",
       "      <td>0.099880</td>\n",
       "      <td>0.086689</td>\n",
       "      <td>6.50</td>\n",
       "      <td>6.996355</td>\n",
       "      <td>0.233287</td>\n",
       "      <td>0.076774</td>\n",
       "      <td>4.82</td>\n",
       "      <td>0.719694</td>\n",
       "      <td>13.88</td>\n",
       "      <td>5.727271</td>\n",
       "      <td>20.96</td>\n",
       "      <td>2.975821</td>\n",
       "    </tr>\n",
       "    <tr>\n",
       "      <th>org</th>\n",
       "      <td>6</td>\n",
       "      <td>6</td>\n",
       "      <td>50</td>\n",
       "      <td>0.121863</td>\n",
       "      <td>0.120339</td>\n",
       "      <td>6.26</td>\n",
       "      <td>6.381766</td>\n",
       "      <td>0.233116</td>\n",
       "      <td>0.061171</td>\n",
       "      <td>5.02</td>\n",
       "      <td>0.914509</td>\n",
       "      <td>15.20</td>\n",
       "      <td>6.648615</td>\n",
       "      <td>21.18</td>\n",
       "      <td>2.987662</td>\n",
       "    </tr>\n",
       "    <tr>\n",
       "      <th rowspan=\"2\" valign=\"top\">clinical_pathways_in_cardiac_and_abdominal_health</th>\n",
       "      <th>new</th>\n",
       "      <td>7</td>\n",
       "      <td>7</td>\n",
       "      <td>50</td>\n",
       "      <td>1.478680</td>\n",
       "      <td>0.704868</td>\n",
       "      <td>31.08</td>\n",
       "      <td>10.651895</td>\n",
       "      <td>0.496706</td>\n",
       "      <td>0.153092</td>\n",
       "      <td>3.96</td>\n",
       "      <td>1.211509</td>\n",
       "      <td>16.04</td>\n",
       "      <td>9.213920</td>\n",
       "      <td>35.96</td>\n",
       "      <td>4.025227</td>\n",
       "    </tr>\n",
       "    <tr>\n",
       "      <th>org</th>\n",
       "      <td>7</td>\n",
       "      <td>7</td>\n",
       "      <td>50</td>\n",
       "      <td>2.610923</td>\n",
       "      <td>1.490521</td>\n",
       "      <td>30.54</td>\n",
       "      <td>10.363220</td>\n",
       "      <td>0.488136</td>\n",
       "      <td>0.143985</td>\n",
       "      <td>4.58</td>\n",
       "      <td>1.429857</td>\n",
       "      <td>16.92</td>\n",
       "      <td>8.778080</td>\n",
       "      <td>35.44</td>\n",
       "      <td>4.504691</td>\n",
       "    </tr>\n",
       "    <tr>\n",
       "      <th rowspan=\"2\" valign=\"top\">medical_conditions_and_outcomes</th>\n",
       "      <th>new</th>\n",
       "      <td>8</td>\n",
       "      <td>7</td>\n",
       "      <td>50</td>\n",
       "      <td>0.954237</td>\n",
       "      <td>1.727911</td>\n",
       "      <td>10.86</td>\n",
       "      <td>10.546322</td>\n",
       "      <td>0.738690</td>\n",
       "      <td>0.064928</td>\n",
       "      <td>2.00</td>\n",
       "      <td>1.564922</td>\n",
       "      <td>4.64</td>\n",
       "      <td>2.447489</td>\n",
       "      <td>20.06</td>\n",
       "      <td>3.033217</td>\n",
       "    </tr>\n",
       "    <tr>\n",
       "      <th>org</th>\n",
       "      <td>8</td>\n",
       "      <td>7</td>\n",
       "      <td>50</td>\n",
       "      <td>2.399440</td>\n",
       "      <td>4.711603</td>\n",
       "      <td>10.50</td>\n",
       "      <td>10.170486</td>\n",
       "      <td>0.709496</td>\n",
       "      <td>0.119930</td>\n",
       "      <td>2.38</td>\n",
       "      <td>2.069112</td>\n",
       "      <td>5.14</td>\n",
       "      <td>2.618693</td>\n",
       "      <td>20.72</td>\n",
       "      <td>2.449823</td>\n",
       "    </tr>\n",
       "    <tr>\n",
       "      <th rowspan=\"2\" valign=\"top\">factors_influencing_well_being_and_resources</th>\n",
       "      <th>new</th>\n",
       "      <td>9</td>\n",
       "      <td>8</td>\n",
       "      <td>50</td>\n",
       "      <td>36.857552</td>\n",
       "      <td>112.741155</td>\n",
       "      <td>17.78</td>\n",
       "      <td>14.188656</td>\n",
       "      <td>0.629308</td>\n",
       "      <td>0.076786</td>\n",
       "      <td>2.28</td>\n",
       "      <td>1.796141</td>\n",
       "      <td>5.84</td>\n",
       "      <td>2.435788</td>\n",
       "      <td>13.64</td>\n",
       "      <td>4.745610</td>\n",
       "    </tr>\n",
       "    <tr>\n",
       "      <th>org</th>\n",
       "      <td>9</td>\n",
       "      <td>8</td>\n",
       "      <td>50</td>\n",
       "      <td>156.022974</td>\n",
       "      <td>421.533375</td>\n",
       "      <td>17.74</td>\n",
       "      <td>14.147633</td>\n",
       "      <td>0.634108</td>\n",
       "      <td>0.063933</td>\n",
       "      <td>2.44</td>\n",
       "      <td>2.031989</td>\n",
       "      <td>6.00</td>\n",
       "      <td>2.740475</td>\n",
       "      <td>13.10</td>\n",
       "      <td>3.547060</td>\n",
       "    </tr>\n",
       "  </tbody>\n",
       "</table>\n",
       "</div>"
      ],
      "text/plain": [
       "                                                             meta            \\\n",
       "                                                        num_nodes num_edges   \n",
       "dataset                                            impl                       \n",
       "clinical_variables_in_cardiovascular_and_gastro... new          5         4   \n",
       "                                                   org          5         4   \n",
       "pharmacological_and_cardiac_health_dynamics        new          6         6   \n",
       "                                                   org          6         6   \n",
       "clinical_pathways_in_cardiac_and_abdominal_health  new          7         7   \n",
       "                                                   org          7         7   \n",
       "medical_conditions_and_outcomes                    new          8         7   \n",
       "                                                   org          8         7   \n",
       "factors_influencing_well_being_and_resources       new          9         8   \n",
       "                                                   org          9         8   \n",
       "\n",
       "                                                                       time  \\\n",
       "                                                        repeats        mean   \n",
       "dataset                                            impl                       \n",
       "clinical_variables_in_cardiovascular_and_gastro... new       50    0.084304   \n",
       "                                                   org       50    0.079715   \n",
       "pharmacological_and_cardiac_health_dynamics        new       50    0.099880   \n",
       "                                                   org       50    0.121863   \n",
       "clinical_pathways_in_cardiac_and_abdominal_health  new       50    1.478680   \n",
       "                                                   org       50    2.610923   \n",
       "medical_conditions_and_outcomes                    new       50    0.954237   \n",
       "                                                   org       50    2.399440   \n",
       "factors_influencing_well_being_and_resources       new       50   36.857552   \n",
       "                                                   org       50  156.022974   \n",
       "\n",
       "                                                                    remove_n  \\\n",
       "                                                                std     mean   \n",
       "dataset                                            impl                        \n",
       "clinical_variables_in_cardiovascular_and_gastro... new     0.035640    10.34   \n",
       "                                                   org     0.029684     9.78   \n",
       "pharmacological_and_cardiac_health_dynamics        new     0.086689     6.50   \n",
       "                                                   org     0.120339     6.26   \n",
       "clinical_pathways_in_cardiac_and_abdominal_health  new     0.704868    31.08   \n",
       "                                                   org     1.490521    30.54   \n",
       "medical_conditions_and_outcomes                    new     1.727911    10.86   \n",
       "                                                   org     4.711603    10.50   \n",
       "factors_influencing_well_being_and_resources       new   112.741155    17.78   \n",
       "                                                   org   421.533375    17.74   \n",
       "\n",
       "                                                                    cpdag_F1  \\\n",
       "                                                               std      mean   \n",
       "dataset                                            impl                        \n",
       "clinical_variables_in_cardiovascular_and_gastro... new    3.788328  0.653334   \n",
       "                                                   org    3.059212  0.550921   \n",
       "pharmacological_and_cardiac_health_dynamics        new    6.996355  0.233287   \n",
       "                                                   org    6.381766  0.233116   \n",
       "clinical_pathways_in_cardiac_and_abdominal_health  new   10.651895  0.496706   \n",
       "                                                   org   10.363220  0.488136   \n",
       "medical_conditions_and_outcomes                    new   10.546322  0.738690   \n",
       "                                                   org   10.170486  0.709496   \n",
       "factors_influencing_well_being_and_resources       new   14.188656  0.629308   \n",
       "                                                   org   14.147633  0.634108   \n",
       "\n",
       "                                                                  cpdag_shd  \\\n",
       "                                                              std      mean   \n",
       "dataset                                            impl                       \n",
       "clinical_variables_in_cardiovascular_and_gastro... new   0.144095      1.12   \n",
       "                                                   org   0.203032      1.84   \n",
       "pharmacological_and_cardiac_health_dynamics        new   0.076774      4.82   \n",
       "                                                   org   0.061171      5.02   \n",
       "clinical_pathways_in_cardiac_and_abdominal_health  new   0.153092      3.96   \n",
       "                                                   org   0.143985      4.58   \n",
       "medical_conditions_and_outcomes                    new   0.064928      2.00   \n",
       "                                                   org   0.119930      2.38   \n",
       "factors_influencing_well_being_and_resources       new   0.076786      2.28   \n",
       "                                                   org   0.063933      2.44   \n",
       "\n",
       "                                                                   \\\n",
       "                                                              std   \n",
       "dataset                                            impl             \n",
       "clinical_variables_in_cardiovascular_and_gastro... new   1.042759   \n",
       "                                                   org   1.556553   \n",
       "pharmacological_and_cardiac_health_dynamics        new   0.719694   \n",
       "                                                   org   0.914509   \n",
       "clinical_pathways_in_cardiac_and_abdominal_health  new   1.211509   \n",
       "                                                   org   1.429857   \n",
       "medical_conditions_and_outcomes                    new   1.564922   \n",
       "                                                   org   2.069112   \n",
       "factors_influencing_well_being_and_resources       new   1.796141   \n",
       "                                                   org   2.031989   \n",
       "\n",
       "                                                        cpdag_sid_low  \\\n",
       "                                                                 mean   \n",
       "dataset                                            impl                 \n",
       "clinical_variables_in_cardiovascular_and_gastro... new           3.24   \n",
       "                                                   org           3.80   \n",
       "pharmacological_and_cardiac_health_dynamics        new          13.88   \n",
       "                                                   org          15.20   \n",
       "clinical_pathways_in_cardiac_and_abdominal_health  new          16.04   \n",
       "                                                   org          16.92   \n",
       "medical_conditions_and_outcomes                    new           4.64   \n",
       "                                                   org           5.14   \n",
       "factors_influencing_well_being_and_resources       new           5.84   \n",
       "                                                   org           6.00   \n",
       "\n",
       "                                                                   \\\n",
       "                                                              std   \n",
       "dataset                                            impl             \n",
       "clinical_variables_in_cardiovascular_and_gastro... new   3.936019   \n",
       "                                                   org   3.619674   \n",
       "pharmacological_and_cardiac_health_dynamics        new   5.727271   \n",
       "                                                   org   6.648615   \n",
       "clinical_pathways_in_cardiac_and_abdominal_health  new   9.213920   \n",
       "                                                   org   8.778080   \n",
       "medical_conditions_and_outcomes                    new   2.447489   \n",
       "                                                   org   2.618693   \n",
       "factors_influencing_well_being_and_resources       new   2.435788   \n",
       "                                                   org   2.740475   \n",
       "\n",
       "                                                        cpdag_sid_high  \\\n",
       "                                                                  mean   \n",
       "dataset                                            impl                  \n",
       "clinical_variables_in_cardiovascular_and_gastro... new            5.76   \n",
       "                                                   org            7.68   \n",
       "pharmacological_and_cardiac_health_dynamics        new           20.96   \n",
       "                                                   org           21.18   \n",
       "clinical_pathways_in_cardiac_and_abdominal_health  new           35.96   \n",
       "                                                   org           35.44   \n",
       "medical_conditions_and_outcomes                    new           20.06   \n",
       "                                                   org           20.72   \n",
       "factors_influencing_well_being_and_resources       new           13.64   \n",
       "                                                   org           13.10   \n",
       "\n",
       "                                                                   \n",
       "                                                              std  \n",
       "dataset                                            impl            \n",
       "clinical_variables_in_cardiovascular_and_gastro... new   2.015856  \n",
       "                                                   org   3.622154  \n",
       "pharmacological_and_cardiac_health_dynamics        new   2.975821  \n",
       "                                                   org   2.987662  \n",
       "clinical_pathways_in_cardiac_and_abdominal_health  new   4.025227  \n",
       "                                                   org   4.504691  \n",
       "medical_conditions_and_outcomes                    new   3.033217  \n",
       "                                                   org   2.449823  \n",
       "factors_influencing_well_being_and_resources       new   4.745610  \n",
       "                                                   org   3.547060  "
      ]
     },
     "metadata": {},
     "output_type": "display_data"
    }
   ],
   "source": [
    "synthetic_report = show_report(synthetic_res_df)\n",
    "synthetic_report.to_csv(\"results/2025/prior_integration_synthetic_report.csv\")\n",
    "# To load the view, use\n",
    "# synthetic_report = pd.read_csv(\n",
    "#     \"results/2025/prior_integration_synthetic_report.csv\",\n",
    "#     index_col=[0, 1],\n",
    "#     header=[0, 1],\n",
    "# )\n",
    "with pd.option_context('display.max_rows', None, 'display.max_columns', None):\n",
    "    display(synthetic_report)"
   ]
  }
 ],
 "metadata": {
  "kernelspec": {
   "display_name": "aba",
   "language": "python",
   "name": "python3"
  },
  "language_info": {
   "codemirror_mode": {
    "name": "ipython",
    "version": 3
   },
   "file_extension": ".py",
   "mimetype": "text/x-python",
   "name": "python",
   "nbconvert_exporter": "python",
   "pygments_lexer": "ipython3",
   "version": "3.11.11"
  },
  "papermill": {
   "default_parameters": {},
   "duration": 28261.175375,
   "end_time": "2025-09-08T19:58:45.311729",
   "environment_variables": {},
   "exception": null,
   "input_path": "prior_integration.ipynb",
   "output_path": "prior_integration_out.ipynb",
   "parameters": {},
   "start_time": "2025-09-08T12:07:44.136354",
   "version": "2.6.0"
  }
 },
 "nbformat": 4,
 "nbformat_minor": 5
}
