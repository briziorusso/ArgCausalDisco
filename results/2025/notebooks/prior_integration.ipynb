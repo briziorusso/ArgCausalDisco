{
 "cells": [
  {
   "cell_type": "markdown",
   "id": "028d4c8d",
   "metadata": {
    "papermill": {
     "duration": 0.00603,
     "end_time": "2025-09-08T23:47:48.556570",
     "exception": false,
     "start_time": "2025-09-08T23:47:48.550540",
     "status": "completed"
    },
    "tags": []
   },
   "source": [
    "## Experimental Setup"
   ]
  },
  {
   "cell_type": "code",
   "execution_count": 1,
   "id": "50eb3173",
   "metadata": {
    "execution": {
     "iopub.execute_input": "2025-09-08T23:47:48.592190Z",
     "iopub.status.busy": "2025-09-08T23:47:48.591679Z",
     "iopub.status.idle": "2025-09-08T23:48:02.526717Z",
     "shell.execute_reply": "2025-09-08T23:48:02.525982Z"
    },
    "papermill": {
     "duration": 13.949806,
     "end_time": "2025-09-08T23:48:02.529126",
     "exception": false,
     "start_time": "2025-09-08T23:47:48.579320",
     "status": "completed"
    },
    "tags": []
   },
   "outputs": [
    {
     "name": "stderr",
     "output_type": "stream",
     "text": [
      "/vol/bitbucket/zl1724/.conda/new_aba/lib/python3.12/site-packages/tqdm/auto.py:21: TqdmWarning: IProgress not found. Please update jupyter and ipywidgets. See https://ipywidgets.readthedocs.io/en/stable/user_install.html\n",
      "  from .autonotebook import tqdm as notebook_tqdm\n"
     ]
    }
   ],
   "source": [
    "%load_ext autoreload\n",
    "%autoreload 2\n",
    "\n",
    "import logging\n",
    "from pathlib import Path\n",
    "from typing import Callable\n",
    "\n",
    "import numpy as np\n",
    "import pandas as pd\n",
    "import pyagrum as gum\n",
    "\n",
    "from abapc import ABAPC\n",
    "from utils.helpers import random_stability\n",
    "from priors.generate_priors import PriorKnowledge, Constraints\n",
    "\n",
    "\n",
    "def load_dataset(\n",
    "    bif_path: Path, sample_size: int, seed: int\n",
    ") -> tuple[gum.BayesNet, np.ndarray]:\n",
    "    bn = gum.loadBN(str(bif_path))\n",
    "    bn.name = bif_path.stem\n",
    "\n",
    "    gum.initRandom(seed=seed)\n",
    "    df = gum.generateSample(bn, sample_size, with_labels=False, random_order=False)[0]\n",
    "    sorted_vars = sorted(df.columns)\n",
    "    data = df[sorted_vars].to_numpy().astype(float)\n",
    "\n",
    "    return bn, data"
   ]
  },
  {
   "cell_type": "markdown",
   "id": "140ffe4e",
   "metadata": {
    "papermill": {
     "duration": 0.012628,
     "end_time": "2025-09-08T23:48:02.548895",
     "exception": false,
     "start_time": "2025-09-08T23:48:02.536267",
     "status": "completed"
    },
    "tags": []
   },
   "source": [
    "### Define Causal ABA Interface to call both implementations"
   ]
  },
  {
   "cell_type": "code",
   "execution_count": 2,
   "id": "197156ff",
   "metadata": {
    "execution": {
     "iopub.execute_input": "2025-09-08T23:48:02.618475Z",
     "iopub.status.busy": "2025-09-08T23:48:02.617627Z",
     "iopub.status.idle": "2025-09-08T23:48:02.720169Z",
     "shell.execute_reply": "2025-09-08T23:48:02.719664Z"
    },
    "papermill": {
     "duration": 0.143675,
     "end_time": "2025-09-08T23:48:02.721541",
     "exception": false,
     "start_time": "2025-09-08T23:48:02.577866",
     "status": "completed"
    },
    "tags": []
   },
   "outputs": [],
   "source": [
    "from clingo import Function, Number\n",
    "\n",
    "from utils.graph_utils import extract_test_elements_from_symbol\n",
    "\n",
    "\n",
    "def CausalABA(\n",
    "    n_nodes: int,\n",
    "    compile_and_ground: Callable,\n",
    "    facts_location: str = \"\",\n",
    "    print_models: bool = True,\n",
    "    skeleton_rules_reduction: bool = False,\n",
    "    weak_constraints: bool = False,\n",
    "    opt_mode: str = \"optN\",\n",
    "    show: list = [\"arrow\"],\n",
    "    pre_grounding: bool = False,\n",
    "    disable_reground: bool = False,\n",
    "    prior_knowledge: PriorKnowledge | None = None,\n",
    ") -> list:\n",
    "    \"\"\"\n",
    "    CausalABA, a function that takes in the number of nodes in a graph and a string of facts and returns a list of compatible causal graphs.\n",
    "\n",
    "    \"\"\"\n",
    "    # (X, Y) -> their condition sets S\n",
    "    indep_facts: dict[tuple, set[tuple]] = {}\n",
    "    dep_facts: dict[tuple, set[tuple]] = {}\n",
    "    facts = []\n",
    "    ext_flag = False\n",
    "    if facts_location:\n",
    "        facts_loc = (\n",
    "            facts_location.replace(\".lp\", \"_I.lp\")\n",
    "            if weak_constraints\n",
    "            else facts_location\n",
    "        )\n",
    "        logging.debug(f\"   Loading facts from {facts_location}\")\n",
    "        with open(facts_loc, \"r\") as file:\n",
    "            for line in file:\n",
    "                if \"dep\" not in line or line.startswith(\"%\"):\n",
    "                    continue\n",
    "                line_clean = line.replace(\"#external \", \"\").replace(\"\\n\", \"\")\n",
    "                if \"ext_\" in line_clean:\n",
    "                    ext_flag = True\n",
    "                if weak_constraints:\n",
    "                    statement, Is = line_clean.split(\" I=\")\n",
    "                    I, truth = Is.split(\",\")\n",
    "                    X, S, Y, dep_type = extract_test_elements_from_symbol(statement)\n",
    "                    facts.append((X, S, Y, dep_type, statement, float(I), truth))\n",
    "                else:\n",
    "                    X, S, Y, dep_type = extract_test_elements_from_symbol(line_clean)\n",
    "                    facts.append((X, S, Y, dep_type, line_clean, np.nan, \"unknown\"))\n",
    "\n",
    "                assert (X not in S) and (Y not in S), f\"X or Y in S: {line_clean}\"\n",
    "                condition_set = tuple(S)\n",
    "\n",
    "                facts_group = indep_facts if \"indep\" in line_clean else dep_facts\n",
    "                if (X, Y) not in facts_group:\n",
    "                    facts_group[(X, Y)] = set()\n",
    "                assert condition_set not in facts_group[(X, Y)], (\n",
    "                    f\"Redundant external fact: {line_clean}\"\n",
    "                )\n",
    "                facts_group[(X, Y)].add(condition_set)\n",
    "\n",
    "    ctl = compile_and_ground(\n",
    "        n_nodes,\n",
    "        facts_location,\n",
    "        skeleton_rules_reduction,\n",
    "        weak_constraints,\n",
    "        indep_facts,\n",
    "        dep_facts,\n",
    "        opt_mode,\n",
    "        show,\n",
    "        pre_grounding,\n",
    "        ext_flag,\n",
    "        prior_knowledge,\n",
    "    )\n",
    "\n",
    "    facts = sorted(facts, key=lambda x: x[5], reverse=True)\n",
    "    for fact in facts:\n",
    "        ctl.assign_external(\n",
    "            Function(\n",
    "                fact[3],\n",
    "                [\n",
    "                    Number(fact[0]),\n",
    "                    Number(fact[2]),\n",
    "                    Function(fact[4].replace(\").\", \"\").split(\",\")[-1]),\n",
    "                ],\n",
    "            ),\n",
    "            True,\n",
    "        )\n",
    "        logging.debug(f\"   True fact: {fact[4]} I={fact[5]}, truth={fact[6]}\")\n",
    "    models = []\n",
    "    logging.info(\"   Solving...\")\n",
    "    with ctl.solve(yield_=True) as handle:\n",
    "        for model in handle:\n",
    "            models.append(model.symbols(shown=True))\n",
    "            if print_models:\n",
    "                logging.info(f\"Answer {len(models)}: {model}\")\n",
    "    n_models = int(ctl.statistics[\"summary\"][\"models\"][\"enumerated\"])\n",
    "    logging.info(f\"Number of models: {n_models}\")\n",
    "    times = {\n",
    "        key: ctl.statistics[\"summary\"][\"times\"][key]\n",
    "        for key in [\"total\", \"cpu\", \"solve\"]\n",
    "    }\n",
    "    logging.info(f\"Times: {times}\")\n",
    "    remove_n = 0\n",
    "    logging.info(f\"Number of facts removed: {remove_n}\")\n",
    "\n",
    "    ## start removing facts if no models are found\n",
    "    while n_models == 0 and remove_n < len(facts):\n",
    "        remove_n += 1\n",
    "        logging.info(f\"Number of facts removed: {remove_n}\")\n",
    "\n",
    "        reground = False\n",
    "        fact_to_remove = facts[-remove_n]\n",
    "        X, S, Y, dep_type, fact_str = fact_to_remove[:5]\n",
    "        logging.debug(f\"Removing fact {fact_str}\")\n",
    "\n",
    "        facts_group = indep_facts if dep_type == \"ext_indep\" else dep_facts\n",
    "        facts_group[(X, Y)].remove(tuple(S))\n",
    "        if not facts_group[(X, Y)]:\n",
    "            del facts_group[(X, Y)]\n",
    "            reground = (\n",
    "                disable_reground is False\n",
    "                and skeleton_rules_reduction\n",
    "                and (ext_flag is False or dep_type == \"ext_indep\")\n",
    "            )\n",
    "        else:\n",
    "            logging.debug(\n",
    "                f\"   Not removing fact {fact_str} because there are multiple facts with the same X and Y\"\n",
    "            )\n",
    "        ctl.assign_external(\n",
    "            Function(\n",
    "                dep_type,\n",
    "                [\n",
    "                    Number(X),\n",
    "                    Number(Y),\n",
    "                    Function(fact_str.replace(\").\", \"\").split(\",\")[-1]),\n",
    "                ],\n",
    "            ),\n",
    "            None,\n",
    "        )\n",
    "\n",
    "        if reground:\n",
    "            ### Save external statements\n",
    "            logging.info(\"Recompiling and regrounding...\")\n",
    "            ctl = compile_and_ground(\n",
    "                n_nodes,\n",
    "                facts_location,\n",
    "                skeleton_rules_reduction,\n",
    "                weak_constraints,\n",
    "                indep_facts,\n",
    "                dep_facts,\n",
    "                opt_mode,\n",
    "                show,\n",
    "                pre_grounding=pre_grounding,\n",
    "                ext_flag=ext_flag,\n",
    "                prior_knowledge=prior_knowledge,\n",
    "            )\n",
    "            for fact in facts[:-remove_n]:\n",
    "                ctl.assign_external(\n",
    "                    Function(\n",
    "                        fact[3],\n",
    "                        [\n",
    "                            Number(fact[0]),\n",
    "                            Number(fact[2]),\n",
    "                            Function(fact[4].replace(\").\", \"\").split(\",\")[-1]),\n",
    "                        ],\n",
    "                    ),\n",
    "                    True,\n",
    "                )\n",
    "                logging.debug(f\"   True fact: {fact[4]} I={fact[5]}, truth={fact[6]}\")\n",
    "            for fact in facts[-remove_n:]:\n",
    "                ctl.assign_external(\n",
    "                    Function(\n",
    "                        fact[3],\n",
    "                        [\n",
    "                            Number(fact[0]),\n",
    "                            Number(fact[2]),\n",
    "                            Function(fact[4].replace(\").\", \"\").split(\",\")[-1]),\n",
    "                        ],\n",
    "                    ),\n",
    "                    None,\n",
    "                )\n",
    "                logging.debug(f\"   False fact: {fact[4]} I={fact[5]}, truth={fact[6]}\")\n",
    "        models = []\n",
    "        logging.info(\"   Solving...\")\n",
    "        with ctl.solve(yield_=True) as handle:\n",
    "            for model in handle:\n",
    "                models.append(model.symbols(shown=True))\n",
    "                if print_models:\n",
    "                    logging.info(f\"Answer {len(models)}: {model}\")\n",
    "        n_models = int(ctl.statistics[\"summary\"][\"models\"][\"enumerated\"])\n",
    "        logging.info(f\"Number of models: {n_models}\")\n",
    "        times = {\n",
    "            key: ctl.statistics[\"summary\"][\"times\"][key]\n",
    "            for key in [\"total\", \"cpu\", \"solve\"]\n",
    "        }\n",
    "        logging.info(f\"Times: {times}\")\n",
    "\n",
    "    return {\n",
    "        \"remove_n\": remove_n,\n",
    "        \"statistics\": ctl.statistics,\n",
    "        \"models\": models,\n",
    "    }\n"
   ]
  },
  {
   "cell_type": "markdown",
   "id": "2ff58647",
   "metadata": {
    "papermill": {
     "duration": 0.022219,
     "end_time": "2025-09-08T23:48:02.765658",
     "exception": false,
     "start_time": "2025-09-08T23:48:02.743439",
     "status": "completed"
    },
    "tags": []
   },
   "source": [
    "### Define the evaluation function to compare performance of two different implementations"
   ]
  },
  {
   "cell_type": "code",
   "execution_count": 3,
   "id": "03f749c5",
   "metadata": {
    "execution": {
     "iopub.execute_input": "2025-09-08T23:48:02.783222Z",
     "iopub.status.busy": "2025-09-08T23:48:02.782660Z",
     "iopub.status.idle": "2025-09-08T23:48:02.808842Z",
     "shell.execute_reply": "2025-09-08T23:48:02.808547Z"
    },
    "papermill": {
     "duration": 0.035878,
     "end_time": "2025-09-08T23:48:02.810577",
     "exception": false,
     "start_time": "2025-09-08T23:48:02.774699",
     "status": "completed"
    },
    "tags": []
   },
   "outputs": [],
   "source": [
    "import timeit\n",
    "from typing import Any\n",
    "\n",
    "from tqdm import tqdm\n",
    "\n",
    "import abapc\n",
    "import causalaba\n",
    "from causalaba import compile_and_ground\n",
    "\n",
    "abapc.tqdm = tqdm  # Avoid using progress bar widgets\n",
    "causalaba.tqdm = tqdm  # Avoid using progress bar widgets\n",
    "\n",
    "\n",
    "def compare_performance(\n",
    "    bif_path: str | Path,\n",
    "    sample_size: int,\n",
    "    impl1: Callable[[gum.BayesNet, str, list], Callable],\n",
    "    impl2: Callable[[gum.BayesNet, str, list], Callable],\n",
    "    repeats: int = 1,\n",
    ") -> tuple[str, int, float, float, list, list, np.ndarray, Any]:\n",
    "    random_stability(2024)\n",
    "    seeds = np.random.randint(0, 10000, size=repeats).tolist()\n",
    "\n",
    "    if isinstance(bif_path, str):\n",
    "        bif_path = Path(bif_path)\n",
    "\n",
    "    impl1_return = []\n",
    "    impl2_return = []\n",
    "\n",
    "    for seed in seeds:\n",
    "        bn_true, data = load_dataset(bif_path, sample_size=sample_size, seed=seed)\n",
    "        facts_I_path, sepsets = ABAPC(\n",
    "            data,\n",
    "            seed=seed,\n",
    "            alpha=0.01,\n",
    "            indep_test=\"gsq\",\n",
    "            S_weight=False,\n",
    "            out_mode=\"facts_only\",\n",
    "            scenario=\"prior_comparison\",\n",
    "        )\n",
    "        facts_path = facts_I_path.replace(\"_I.lp\", \".lp\")\n",
    "\n",
    "\n",
    "        impl1_return[-1][\"time\"] = timeit.timeit(impl1(bn_true, facts_path, impl1_return), number=1)\n",
    "        impl2_return[-1][\"time\"] = timeit.timeit(impl2(bn_true, facts_path, impl2_return), number=1)\n",
    "\n",
    "    return bif_path.stem, impl1_return, impl2_return, seeds, sepsets"
   ]
  },
  {
   "cell_type": "markdown",
   "id": "302ed1c9",
   "metadata": {
    "papermill": {
     "duration": 0.013798,
     "end_time": "2025-09-08T23:48:02.839181",
     "exception": false,
     "start_time": "2025-09-08T23:48:02.825383",
     "status": "completed"
    },
    "tags": []
   },
   "source": [
    "## Compare Causal ABA performance with/without prior knowledge"
   ]
  },
  {
   "cell_type": "code",
   "execution_count": 4,
   "id": "d66e6f02",
   "metadata": {
    "execution": {
     "iopub.execute_input": "2025-09-08T23:48:02.875614Z",
     "iopub.status.busy": "2025-09-08T23:48:02.875287Z",
     "iopub.status.idle": "2025-09-08T23:48:02.900206Z",
     "shell.execute_reply": "2025-09-08T23:48:02.899638Z"
    },
    "papermill": {
     "duration": 0.04917,
     "end_time": "2025-09-08T23:48:02.900816",
     "exception": false,
     "start_time": "2025-09-08T23:48:02.851646",
     "status": "completed"
    },
    "tags": []
   },
   "outputs": [],
   "source": [
    "def with_optional_prior(prior_df: pd.DataFrame | None = None):\n",
    "    def impl_wrapper(bn: gum.BayesNet, facts_path: str, return_ref: list) -> Callable:\n",
    "        prior_knowledge = None\n",
    "        if prior_df is not None:\n",
    "            filename = bn.property(\"name\")\n",
    "            prior_knowledge = PriorKnowledge(\n",
    "                variables=bn.names(),\n",
    "                constraints=Constraints(\n",
    "                    forbidden=prior_df[prior_df[\"filename\"] == filename][\"priors\"].iloc[\n",
    "                        0\n",
    "                    ],\n",
    "                ),\n",
    "            )\n",
    "\n",
    "        def helper():\n",
    "            return_ref.append(\n",
    "                CausalABA(\n",
    "                    n_nodes=bn.size(),\n",
    "                    compile_and_ground=compile_and_ground,\n",
    "                    facts_location=facts_path,\n",
    "                    print_models=False,\n",
    "                    skeleton_rules_reduction=True,\n",
    "                    weak_constraints=True,\n",
    "                    opt_mode=\"optN\",\n",
    "                    pre_grounding=True,  # Speed up solving by pre-grounding\n",
    "                    prior_knowledge=prior_knowledge,\n",
    "                )\n",
    "            )\n",
    "\n",
    "        return helper\n",
    "\n",
    "    return impl_wrapper"
   ]
  },
  {
   "cell_type": "code",
   "execution_count": 5,
   "id": "cce58fa1",
   "metadata": {
    "execution": {
     "iopub.execute_input": "2025-09-08T23:48:02.954935Z",
     "iopub.status.busy": "2025-09-08T23:48:02.954790Z",
     "iopub.status.idle": "2025-09-08T23:48:02.978567Z",
     "shell.execute_reply": "2025-09-08T23:48:02.978077Z"
    },
    "papermill": {
     "duration": 0.050004,
     "end_time": "2025-09-08T23:48:02.979258",
     "exception": false,
     "start_time": "2025-09-08T23:48:02.929254",
     "status": "completed"
    },
    "tags": []
   },
   "outputs": [],
   "source": [
    "from typing import Iterable\n",
    "\n",
    "import abapc\n",
    "from utils.graph_utils import DAGMetrics, dag2cpdag\n",
    "\n",
    "\n",
    "repeats = 50\n",
    "MAX_NODES = 9  # Skip graphs larger than this for performance reasons\n",
    "report_cols = [\n",
    "    \"time\",\n",
    "    \"remove_n\",\n",
    "    \"cpdag_F1\",\n",
    "    \"cpdag_shd\",\n",
    "    \"cpdag_sid_low\",\n",
    "    \"cpdag_sid_high\",\n",
    "]\n",
    "report_stats = {col: [\"mean\", \"std\"] for col in report_cols}\n",
    "\n",
    "\n",
    "def show_report(df: pd.DataFrame):\n",
    "    groups = df.groupby([\"dataset\", \"impl\"])\n",
    "    stats = groups.agg(report_stats)\n",
    "    meta = groups.agg(\n",
    "        {\n",
    "            \"num_nodes\": \"first\",\n",
    "            \"num_edges\": \"first\",\n",
    "        }\n",
    "    )\n",
    "    meta[\"repeats\"] = groups.size()\n",
    "    meta.columns = pd.MultiIndex.from_product([[\"meta\"], meta.columns])\n",
    "    index = (\n",
    "        groups[\"num_nodes\"]\n",
    "        .first()\n",
    "        .reset_index()\n",
    "        .sort_values([\"num_nodes\", \"dataset\", \"impl\"])\n",
    "        .set_index([\"dataset\", \"impl\"])\n",
    "        .index\n",
    "    )\n",
    "\n",
    "    return pd.concat([meta, stats], axis=1).loc[index]\n",
    "\n",
    "\n",
    "def get_sorted_adjacency(bn: gum.BayesNet) -> np.ndarray:\n",
    "    \"\"\"Get the adjacency matrix of the Bayesian network sorted by variable names.\"\"\"\n",
    "    alphabetical_order = [bn.idFromName(var) for var in sorted(bn.names())]\n",
    "    adj = bn.adjacencyMatrix()\n",
    "    return adj[np.ix_(alphabetical_order, alphabetical_order)]\n",
    "\n",
    "\n",
    "def run_experiment(prior_df: pd.DataFrame | None, datasets: Iterable[Path]):\n",
    "    all_runs = []\n",
    "\n",
    "    for random_graph_path in datasets:\n",
    "        bn = gum.loadBN(str(random_graph_path))\n",
    "        B_true = get_sorted_adjacency(bn)\n",
    "        if bn.size() > MAX_NODES:\n",
    "            continue\n",
    "\n",
    "        print(f\"Processing {random_graph_path.name}...\")\n",
    "        (\n",
    "            bif_name,\n",
    "            impl1_return,\n",
    "            impl2_return,\n",
    "            seeds,\n",
    "            sepsets,\n",
    "        ) = compare_performance(\n",
    "            bif_path=random_graph_path,\n",
    "            sample_size=5000,\n",
    "            impl1=with_optional_prior(prior_df=prior_df),\n",
    "            impl2=with_optional_prior(prior_df=None),\n",
    "            repeats=repeats,\n",
    "        )\n",
    "\n",
    "        # Process both implementations in the same way\n",
    "        for impl_name, results in [(\"org\", impl2_return), (\"new\", impl1_return)]:\n",
    "            for run_id, run in enumerate(results):\n",
    "                # Mock ABAPC return\n",
    "                abapc.CausalABA = lambda *args, **kwargs: (run[\"models\"], False)\n",
    "                best_model = abapc.ABAPC(\n",
    "                    np.zeros((1, bn.size())),\n",
    "                    seed=seeds[run_id],\n",
    "                    sepsets=sepsets,\n",
    "                    alpha=0.01,\n",
    "                    indep_test=\"gsq\",\n",
    "                    S_weight=False,\n",
    "                    out_mode=\"opt\",\n",
    "                    scenario=\"prior_comparison\",\n",
    "                )\n",
    "\n",
    "                # DAG metrics\n",
    "                B_est_dag = (best_model > 0).astype(int)\n",
    "                mt_dag = DAGMetrics(B_est_dag, B_true).metrics\n",
    "\n",
    "                # CPDAG metrics\n",
    "                B_est_cpdag = (best_model != 0).astype(int)\n",
    "                mt_cpdag = DAGMetrics(dag2cpdag(B_est_cpdag), B_true).metrics\n",
    "                cpdag_sid = mt_cpdag.pop(\"sid\")\n",
    "                if not isinstance(cpdag_sid, tuple):\n",
    "                    cpdag_sid = (cpdag_sid, cpdag_sid)\n",
    "                mt_cpdag[\"sid_low\"], mt_cpdag[\"sid_high\"] = cpdag_sid\n",
    "\n",
    "                # Save this run's results in a flat dict\n",
    "                all_runs.append(\n",
    "                    {\n",
    "                        \"dataset\": bif_name,\n",
    "                        \"num_nodes\": bn.size(),\n",
    "                        \"num_edges\": bn.sizeArcs(),\n",
    "                        \"impl\": impl_name,\n",
    "                        \"run_id\": run_id,\n",
    "                        \"time\": run[\"time\"],\n",
    "                        \"remove_n\": run[\"remove_n\"],\n",
    "                        **{f\"dag_{k}\": v for k, v in mt_dag.items()},\n",
    "                        **{f\"cpdag_{k}\": v for k, v in mt_cpdag.items()},\n",
    "                    }\n",
    "                )\n",
    "\n",
    "    return pd.DataFrame(all_runs)"
   ]
  },
  {
   "cell_type": "markdown",
   "id": "eccbf964",
   "metadata": {
    "papermill": {
     "duration": 0.006496,
     "end_time": "2025-09-08T23:48:02.992205",
     "exception": false,
     "start_time": "2025-09-08T23:48:02.985709",
     "status": "completed"
    },
    "tags": []
   },
   "source": [
    "### Bnlearn small datasets"
   ]
  },
  {
   "cell_type": "code",
   "execution_count": 6,
   "id": "62292162",
   "metadata": {
    "execution": {
     "iopub.execute_input": "2025-09-08T23:48:03.025392Z",
     "iopub.status.busy": "2025-09-08T23:48:03.025278Z",
     "iopub.status.idle": "2025-09-08T23:48:03.067089Z",
     "shell.execute_reply": "2025-09-08T23:48:03.066534Z"
    },
    "papermill": {
     "duration": 0.049461,
     "end_time": "2025-09-08T23:48:03.067612",
     "exception": false,
     "start_time": "2025-09-08T23:48:03.018151",
     "status": "completed"
    },
    "tags": []
   },
   "outputs": [
    {
     "name": "stdout",
     "output_type": "stream",
     "text": [
      "bnlearn_small_datasets: [PosixPath('priors/datasets/bnlearn/survey.bifxml'), PosixPath('priors/datasets/bnlearn/cancer.bifxml'), PosixPath('priors/datasets/bnlearn/sachs.bifxml'), PosixPath('priors/datasets/bnlearn/asia.bifxml'), PosixPath('priors/datasets/bnlearn/earthquake.bifxml')]\n"
     ]
    },
    {
     "data": {
      "text/html": [
       "<div>\n",
       "<style scoped>\n",
       "    .dataframe tbody tr th:only-of-type {\n",
       "        vertical-align: middle;\n",
       "    }\n",
       "\n",
       "    .dataframe tbody tr th {\n",
       "        vertical-align: top;\n",
       "    }\n",
       "\n",
       "    .dataframe thead th {\n",
       "        text-align: right;\n",
       "    }\n",
       "</style>\n",
       "<table border=\"1\" class=\"dataframe\">\n",
       "  <thead>\n",
       "    <tr style=\"text-align: right;\">\n",
       "      <th></th>\n",
       "      <th>filename</th>\n",
       "      <th>title</th>\n",
       "      <th>num_nodes</th>\n",
       "      <th>num_edges</th>\n",
       "      <th>variable_descriptions</th>\n",
       "      <th>priors</th>\n",
       "      <th>TP</th>\n",
       "      <th>FP</th>\n",
       "      <th>TN</th>\n",
       "      <th>FN</th>\n",
       "      <th>Precision</th>\n",
       "      <th>Recall</th>\n",
       "      <th>F-beta</th>\n",
       "      <th>run_id</th>\n",
       "    </tr>\n",
       "  </thead>\n",
       "  <tbody>\n",
       "    <tr>\n",
       "      <th>0</th>\n",
       "      <td>asia</td>\n",
       "      <td>asia</td>\n",
       "      <td>8</td>\n",
       "      <td>8</td>\n",
       "      <td>{'smoke': 'smoking: whether or not the patient...</td>\n",
       "      <td>[[bronc, tub], [xray, bronc], [smoke, asia], [...</td>\n",
       "      <td>18</td>\n",
       "      <td>0</td>\n",
       "      <td>8</td>\n",
       "      <td>2</td>\n",
       "      <td>1.000000</td>\n",
       "      <td>0.900000</td>\n",
       "      <td>0.995745</td>\n",
       "      <td>0</td>\n",
       "    </tr>\n",
       "    <tr>\n",
       "      <th>1</th>\n",
       "      <td>cancer</td>\n",
       "      <td>cancer</td>\n",
       "      <td>5</td>\n",
       "      <td>4</td>\n",
       "      <td>{'Cancer': 'Cancer: Indicates whether the pers...</td>\n",
       "      <td>[[Xray, Dyspnoea], [Dyspnoea, Smoker], [Pollut...</td>\n",
       "      <td>5</td>\n",
       "      <td>0</td>\n",
       "      <td>4</td>\n",
       "      <td>1</td>\n",
       "      <td>1.000000</td>\n",
       "      <td>0.833333</td>\n",
       "      <td>0.992366</td>\n",
       "      <td>2</td>\n",
       "    </tr>\n",
       "    <tr>\n",
       "      <th>2</th>\n",
       "      <td>earthquake</td>\n",
       "      <td>earthquake</td>\n",
       "      <td>5</td>\n",
       "      <td>4</td>\n",
       "      <td>{'Earthquake': 'The occurrence of seismic acti...</td>\n",
       "      <td>[[Earthquake, JohnCalls], [Burglary, JohnCalls...</td>\n",
       "      <td>5</td>\n",
       "      <td>0</td>\n",
       "      <td>4</td>\n",
       "      <td>1</td>\n",
       "      <td>1.000000</td>\n",
       "      <td>0.833333</td>\n",
       "      <td>0.992366</td>\n",
       "      <td>0</td>\n",
       "    </tr>\n",
       "    <tr>\n",
       "      <th>3</th>\n",
       "      <td>sachs</td>\n",
       "      <td>sachs</td>\n",
       "      <td>11</td>\n",
       "      <td>17</td>\n",
       "      <td>{'PKA': 'PKA (Protein Kinase A): cAMP-dependen...</td>\n",
       "      <td>[[Jnk, Akt], [PKA, P38], [Akt, P38], [Plcg, P3...</td>\n",
       "      <td>11</td>\n",
       "      <td>2</td>\n",
       "      <td>15</td>\n",
       "      <td>27</td>\n",
       "      <td>0.846154</td>\n",
       "      <td>0.289474</td>\n",
       "      <td>0.787879</td>\n",
       "      <td>1</td>\n",
       "    </tr>\n",
       "    <tr>\n",
       "      <th>4</th>\n",
       "      <td>survey</td>\n",
       "      <td>survey</td>\n",
       "      <td>6</td>\n",
       "      <td>6</td>\n",
       "      <td>{'A': 'Age: the age, recorded as young (young)...</td>\n",
       "      <td>[[A, S], [A, R], [A, O]]</td>\n",
       "      <td>3</td>\n",
       "      <td>0</td>\n",
       "      <td>6</td>\n",
       "      <td>6</td>\n",
       "      <td>1.000000</td>\n",
       "      <td>0.333333</td>\n",
       "      <td>0.928571</td>\n",
       "      <td>3</td>\n",
       "    </tr>\n",
       "  </tbody>\n",
       "</table>\n",
       "</div>"
      ],
      "text/plain": [
       "     filename       title  num_nodes  num_edges  \\\n",
       "0        asia        asia          8          8   \n",
       "1      cancer      cancer          5          4   \n",
       "2  earthquake  earthquake          5          4   \n",
       "3       sachs       sachs         11         17   \n",
       "4      survey      survey          6          6   \n",
       "\n",
       "                               variable_descriptions  \\\n",
       "0  {'smoke': 'smoking: whether or not the patient...   \n",
       "1  {'Cancer': 'Cancer: Indicates whether the pers...   \n",
       "2  {'Earthquake': 'The occurrence of seismic acti...   \n",
       "3  {'PKA': 'PKA (Protein Kinase A): cAMP-dependen...   \n",
       "4  {'A': 'Age: the age, recorded as young (young)...   \n",
       "\n",
       "                                              priors  TP  FP  TN  FN  \\\n",
       "0  [[bronc, tub], [xray, bronc], [smoke, asia], [...  18   0   8   2   \n",
       "1  [[Xray, Dyspnoea], [Dyspnoea, Smoker], [Pollut...   5   0   4   1   \n",
       "2  [[Earthquake, JohnCalls], [Burglary, JohnCalls...   5   0   4   1   \n",
       "3  [[Jnk, Akt], [PKA, P38], [Akt, P38], [Plcg, P3...  11   2  15  27   \n",
       "4                           [[A, S], [A, R], [A, O]]   3   0   6   6   \n",
       "\n",
       "   Precision    Recall    F-beta  run_id  \n",
       "0   1.000000  0.900000  0.995745       0  \n",
       "1   1.000000  0.833333  0.992366       2  \n",
       "2   1.000000  0.833333  0.992366       0  \n",
       "3   0.846154  0.289474  0.787879       1  \n",
       "4   1.000000  0.333333  0.928571       3  "
      ]
     },
     "execution_count": 6,
     "metadata": {},
     "output_type": "execute_result"
    }
   ],
   "source": [
    "bnlearn_small_datasets = list(Path(\"priors/datasets/bnlearn/\").glob(\"*.bifxml\"))\n",
    "print(\"bnlearn_small_datasets:\", bnlearn_small_datasets)\n",
    "bnlearn_prior_df = pd.read_json(\"priors/datasets/bnlearn/prior_df.json\")\n",
    "bnlearn_prior_df"
   ]
  },
  {
   "cell_type": "code",
   "execution_count": 7,
   "id": "b28f9c54",
   "metadata": {
    "execution": {
     "iopub.execute_input": "2025-09-08T23:48:03.099512Z",
     "iopub.status.busy": "2025-09-08T23:48:03.099268Z",
     "iopub.status.idle": "2025-09-09T00:53:56.188073Z",
     "shell.execute_reply": "2025-09-09T00:53:56.187502Z"
    },
    "papermill": {
     "duration": 3953.105468,
     "end_time": "2025-09-09T00:53:56.189215",
     "exception": false,
     "start_time": "2025-09-08T23:48:03.083747",
     "status": "completed"
    },
    "tags": []
   },
   "outputs": [
    {
     "name": "stderr",
     "output_type": "stream",
     "text": [
      "<block>:1:39-51: info: atom does not occur in any rule head:\n",
      "  ap(1,4,#P0,s0)\n",
      "\n",
      "<block>:1:43-57: info: atom does not occur in any rule head:\n",
      "  ap(1,4,#P0,s0y2)\n",
      "\n",
      "<block>:1:45-60: info: atom does not occur in any rule head:\n",
      "  ap(1,4,#P0,empty)\n",
      "\n"
     ]
    },
    {
     "name": "stderr",
     "output_type": "stream",
     "text": [
      "<block>:1:39-51: info: atom does not occur in any rule head:\n",
      "  ap(1,4,#P0,s0)\n",
      "\n",
      "<block>:1:43-57: info: atom does not occur in any rule head:\n",
      "  ap(1,4,#P0,s0y2)\n",
      "\n",
      "<block>:1:45-60: info: atom does not occur in any rule head:\n",
      "  ap(1,4,#P0,empty)\n",
      "\n"
     ]
    },
    {
     "name": "stderr",
     "output_type": "stream",
     "text": [
      "<block>:1:39-51: info: atom does not occur in any rule head:\n",
      "  ap(1,3,#P0,s2)\n",
      "\n",
      "<block>:1:45-60: info: atom does not occur in any rule head:\n",
      "  ap(1,4,#P0,empty)\n",
      "\n",
      "<block>:1:39-51: info: atom does not occur in any rule head:\n",
      "  ap(1,4,#P0,s0)\n",
      "\n",
      "<block>:1:45-60: info: atom does not occur in any rule head:\n",
      "  ap(1,4,#P0,empty)\n",
      "\n",
      "<block>:1:39-51: info: atom does not occur in any rule head:\n",
      "  ap(1,4,#P0,s0)\n",
      "\n",
      "<block>:1:45-60: info: atom does not occur in any rule head:\n",
      "  ap(1,4,#P0,empty)\n",
      "\n"
     ]
    },
    {
     "name": "stderr",
     "output_type": "stream",
     "text": [
      "<block>:1:39-51: info: atom does not occur in any rule head:\n",
      "  ap(1,3,#P0,s2)\n",
      "\n",
      "<block>:1:45-60: info: atom does not occur in any rule head:\n",
      "  ap(1,4,#P0,empty)\n",
      "\n",
      "<block>:1:39-51: info: atom does not occur in any rule head:\n",
      "  ap(1,4,#P0,s0)\n",
      "\n",
      "<block>:1:45-60: info: atom does not occur in any rule head:\n",
      "  ap(1,4,#P0,empty)\n",
      "\n",
      "<block>:1:39-51: info: atom does not occur in any rule head:\n",
      "  ap(1,4,#P0,s0)\n",
      "\n",
      "<block>:1:45-60: info: atom does not occur in any rule head:\n",
      "  ap(1,4,#P0,empty)\n",
      "\n"
     ]
    },
    {
     "name": "stderr",
     "output_type": "stream",
     "text": [
      "<block>:1:39-51: info: atom does not occur in any rule head:\n",
      "  ap(1,4,#P0,s0)\n",
      "\n",
      "<block>:1:45-60: info: atom does not occur in any rule head:\n",
      "  ap(1,4,#P0,empty)\n",
      "\n"
     ]
    },
    {
     "name": "stderr",
     "output_type": "stream",
     "text": [
      "<block>:1:39-51: info: atom does not occur in any rule head:\n",
      "  ap(1,4,#P0,s0)\n",
      "\n",
      "<block>:1:45-60: info: atom does not occur in any rule head:\n",
      "  ap(1,4,#P0,empty)\n",
      "\n"
     ]
    },
    {
     "name": "stderr",
     "output_type": "stream",
     "text": [
      "<block>:1:39-51: info: atom does not occur in any rule head:\n",
      "  ap(1,2,#P0,s0)\n",
      "\n",
      "<block>:1:45-60: info: atom does not occur in any rule head:\n",
      "  ap(1,2,#P0,empty)\n",
      "\n"
     ]
    },
    {
     "name": "stderr",
     "output_type": "stream",
     "text": [
      "<block>:1:39-51: info: atom does not occur in any rule head:\n",
      "  ap(1,2,#P0,s0)\n",
      "\n",
      "<block>:1:45-60: info: atom does not occur in any rule head:\n",
      "  ap(1,2,#P0,empty)\n",
      "\n"
     ]
    },
    {
     "name": "stderr",
     "output_type": "stream",
     "text": [
      "<block>:1:39-51: info: atom does not occur in any rule head:\n",
      "  ap(1,4,#P0,s0)\n",
      "\n",
      "<block>:1:45-60: info: atom does not occur in any rule head:\n",
      "  ap(1,4,#P0,empty)\n",
      "\n"
     ]
    },
    {
     "name": "stderr",
     "output_type": "stream",
     "text": [
      "<block>:1:39-51: info: atom does not occur in any rule head:\n",
      "  ap(1,4,#P0,s0)\n",
      "\n",
      "<block>:1:45-60: info: atom does not occur in any rule head:\n",
      "  ap(1,4,#P0,empty)\n",
      "\n"
     ]
    },
    {
     "name": "stderr",
     "output_type": "stream",
     "text": [
      "<block>:1:39-51: info: atom does not occur in any rule head:\n",
      "  ap(1,4,#P0,s0)\n",
      "\n",
      "<block>:1:45-60: info: atom does not occur in any rule head:\n",
      "  ap(1,4,#P0,empty)\n",
      "\n"
     ]
    },
    {
     "name": "stderr",
     "output_type": "stream",
     "text": [
      "<block>:1:39-51: info: atom does not occur in any rule head:\n",
      "  ap(1,4,#P0,s0)\n",
      "\n",
      "<block>:1:45-60: info: atom does not occur in any rule head:\n",
      "  ap(1,4,#P0,empty)\n",
      "\n"
     ]
    },
    {
     "name": "stderr",
     "output_type": "stream",
     "text": [
      "<block>:1:39-51: info: atom does not occur in any rule head:\n",
      "  ap(1,4,#P0,s0)\n",
      "\n",
      "<block>:1:45-60: info: atom does not occur in any rule head:\n",
      "  ap(1,4,#P0,empty)\n",
      "\n",
      "<block>:1:39-51: info: atom does not occur in any rule head:\n",
      "  ap(1,4,#P0,s0)\n",
      "\n",
      "<block>:1:45-60: info: atom does not occur in any rule head:\n",
      "  ap(1,4,#P0,empty)\n",
      "\n"
     ]
    },
    {
     "name": "stderr",
     "output_type": "stream",
     "text": [
      "<block>:1:39-51: info: atom does not occur in any rule head:\n",
      "  ap(1,4,#P0,s0)\n",
      "\n",
      "<block>:1:45-60: info: atom does not occur in any rule head:\n",
      "  ap(1,4,#P0,empty)\n",
      "\n",
      "<block>:1:39-51: info: atom does not occur in any rule head:\n",
      "  ap(1,4,#P0,s0)\n",
      "\n",
      "<block>:1:45-60: info: atom does not occur in any rule head:\n",
      "  ap(1,4,#P0,empty)\n",
      "\n"
     ]
    },
    {
     "name": "stderr",
     "output_type": "stream",
     "text": [
      "<block>:1:39-51: info: atom does not occur in any rule head:\n",
      "  ap(1,4,#P0,s2)\n",
      "\n",
      "<block>:1:45-60: info: atom does not occur in any rule head:\n",
      "  ap(1,4,#P0,empty)\n",
      "\n"
     ]
    },
    {
     "name": "stderr",
     "output_type": "stream",
     "text": [
      "<block>:1:39-51: info: atom does not occur in any rule head:\n",
      "  ap(1,4,#P0,s2)\n",
      "\n",
      "<block>:1:45-60: info: atom does not occur in any rule head:\n",
      "  ap(1,4,#P0,empty)\n",
      "\n"
     ]
    },
    {
     "name": "stderr",
     "output_type": "stream",
     "text": [
      "<block>:1:39-51: info: atom does not occur in any rule head:\n",
      "  ap(2,5,#P0,s3)\n",
      "\n",
      "<block>:1:45-60: info: atom does not occur in any rule head:\n",
      "  ap(2,5,#P0,empty)\n",
      "\n"
     ]
    },
    {
     "name": "stderr",
     "output_type": "stream",
     "text": [
      "<block>:1:39-51: info: atom does not occur in any rule head:\n",
      "  ap(2,5,#P0,s3)\n",
      "\n",
      "<block>:1:45-60: info: atom does not occur in any rule head:\n",
      "  ap(2,5,#P0,empty)\n",
      "\n"
     ]
    },
    {
     "name": "stderr",
     "output_type": "stream",
     "text": [
      "<block>:1:39-51: info: atom does not occur in any rule head:\n",
      "  ap(1,4,#P0,s3)\n",
      "\n",
      "<block>:1:43-57: info: atom does not occur in any rule head:\n",
      "  ap(1,4,#P0,s0y2)\n",
      "\n",
      "<block>:1:45-60: info: atom does not occur in any rule head:\n",
      "  ap(1,4,#P0,empty)\n",
      "\n",
      "<block>:1:39-51: info: atom does not occur in any rule head:\n",
      "  ap(1,4,#P0,s0)\n",
      "\n",
      "<block>:1:43-57: info: atom does not occur in any rule head:\n",
      "  ap(1,4,#P0,s0y3)\n",
      "\n",
      "<block>:1:45-60: info: atom does not occur in any rule head:\n",
      "  ap(1,4,#P0,empty)\n",
      "\n",
      "<block>:1:39-51: info: atom does not occur in any rule head:\n",
      "  ap(1,4,#P0,s0)\n",
      "\n",
      "<block>:1:43-57: info: atom does not occur in any rule head:\n",
      "  ap(1,4,#P0,s0y2)\n",
      "\n",
      "<block>:1:45-60: info: atom does not occur in any rule head:\n",
      "  ap(1,4,#P0,empty)\n",
      "\n"
     ]
    },
    {
     "name": "stderr",
     "output_type": "stream",
     "text": [
      "<block>:1:39-51: info: atom does not occur in any rule head:\n",
      "  ap(1,4,#P0,s3)\n",
      "\n",
      "<block>:1:43-57: info: atom does not occur in any rule head:\n",
      "  ap(1,4,#P0,s0y2)\n",
      "\n",
      "<block>:1:45-60: info: atom does not occur in any rule head:\n",
      "  ap(1,4,#P0,empty)\n",
      "\n",
      "<block>:1:39-51: info: atom does not occur in any rule head:\n",
      "  ap(1,4,#P0,s0)\n",
      "\n",
      "<block>:1:43-57: info: atom does not occur in any rule head:\n",
      "  ap(1,4,#P0,s0y3)\n",
      "\n",
      "<block>:1:45-60: info: atom does not occur in any rule head:\n",
      "  ap(1,4,#P0,empty)\n",
      "\n",
      "<block>:1:39-51: info: atom does not occur in any rule head:\n",
      "  ap(1,4,#P0,s0)\n",
      "\n",
      "<block>:1:43-57: info: atom does not occur in any rule head:\n",
      "  ap(1,4,#P0,s0y2)\n",
      "\n",
      "<block>:1:45-60: info: atom does not occur in any rule head:\n",
      "  ap(1,4,#P0,empty)\n",
      "\n"
     ]
    },
    {
     "name": "stderr",
     "output_type": "stream",
     "text": [
      "<block>:1:39-51: info: atom does not occur in any rule head:\n",
      "  ap(1,4,#P0,s0)\n",
      "\n",
      "<block>:1:45-60: info: atom does not occur in any rule head:\n",
      "  ap(1,4,#P0,empty)\n",
      "\n"
     ]
    },
    {
     "name": "stderr",
     "output_type": "stream",
     "text": [
      "<block>:1:39-51: info: atom does not occur in any rule head:\n",
      "  ap(1,4,#P0,s0)\n",
      "\n",
      "<block>:1:45-60: info: atom does not occur in any rule head:\n",
      "  ap(1,4,#P0,empty)\n",
      "\n"
     ]
    },
    {
     "name": "stderr",
     "output_type": "stream",
     "text": [
      "<block>:1:39-51: info: atom does not occur in any rule head:\n",
      "  ap(1,4,#P0,s0)\n",
      "\n",
      "<block>:1:43-57: info: atom does not occur in any rule head:\n",
      "  ap(1,4,#P0,s0y2)\n",
      "\n",
      "<block>:1:45-60: info: atom does not occur in any rule head:\n",
      "  ap(1,4,#P0,empty)\n",
      "\n"
     ]
    },
    {
     "name": "stderr",
     "output_type": "stream",
     "text": [
      "<block>:1:39-51: info: atom does not occur in any rule head:\n",
      "  ap(1,4,#P0,s0)\n",
      "\n",
      "<block>:1:43-57: info: atom does not occur in any rule head:\n",
      "  ap(1,4,#P0,s0y2)\n",
      "\n",
      "<block>:1:45-60: info: atom does not occur in any rule head:\n",
      "  ap(1,4,#P0,empty)\n",
      "\n"
     ]
    },
    {
     "name": "stderr",
     "output_type": "stream",
     "text": [
      "<block>:1:39-51: info: atom does not occur in any rule head:\n",
      "  ap(1,4,#P0,s3)\n",
      "\n",
      "<block>:1:45-60: info: atom does not occur in any rule head:\n",
      "  ap(1,4,#P0,empty)\n",
      "\n"
     ]
    },
    {
     "name": "stderr",
     "output_type": "stream",
     "text": [
      "<block>:1:39-51: info: atom does not occur in any rule head:\n",
      "  ap(1,4,#P0,s3)\n",
      "\n",
      "<block>:1:45-60: info: atom does not occur in any rule head:\n",
      "  ap(1,4,#P0,empty)\n",
      "\n"
     ]
    },
    {
     "name": "stderr",
     "output_type": "stream",
     "text": [
      "<block>:1:39-51: info: atom does not occur in any rule head:\n",
      "  ap(1,4,#P0,s2)\n",
      "\n",
      "<block>:1:45-60: info: atom does not occur in any rule head:\n",
      "  ap(1,4,#P0,empty)\n",
      "\n"
     ]
    },
    {
     "name": "stderr",
     "output_type": "stream",
     "text": [
      "<block>:1:39-51: info: atom does not occur in any rule head:\n",
      "  ap(1,4,#P0,s2)\n",
      "\n",
      "<block>:1:45-60: info: atom does not occur in any rule head:\n",
      "  ap(1,4,#P0,empty)\n",
      "\n"
     ]
    },
    {
     "name": "stderr",
     "output_type": "stream",
     "text": [
      "<block>:1:39-51: info: atom does not occur in any rule head:\n",
      "  ap(0,5,#P0,s1)\n",
      "\n",
      "<block>:1:45-60: info: atom does not occur in any rule head:\n",
      "  ap(0,5,#P0,empty)\n",
      "\n"
     ]
    },
    {
     "name": "stderr",
     "output_type": "stream",
     "text": [
      "<block>:1:39-51: info: atom does not occur in any rule head:\n",
      "  ap(0,5,#P0,s1)\n",
      "\n",
      "<block>:1:45-60: info: atom does not occur in any rule head:\n",
      "  ap(0,5,#P0,empty)\n",
      "\n"
     ]
    },
    {
     "name": "stderr",
     "output_type": "stream",
     "text": [
      "<block>:1:45-60: info: atom does not occur in any rule head:\n",
      "  ap(4,5,#P0,empty)\n",
      "\n",
      "<block>:1:45-60: info: atom does not occur in any rule head:\n",
      "  ap(4,5,#P0,empty)\n",
      "\n"
     ]
    },
    {
     "name": "stderr",
     "output_type": "stream",
     "text": [
      "<block>:1:45-60: info: atom does not occur in any rule head:\n",
      "  ap(4,5,#P0,empty)\n",
      "\n",
      "<block>:1:45-60: info: atom does not occur in any rule head:\n",
      "  ap(4,5,#P0,empty)\n",
      "\n"
     ]
    },
    {
     "name": "stderr",
     "output_type": "stream",
     "text": [
      "<block>:1:39-51: info: atom does not occur in any rule head:\n",
      "  ap(1,4,#P0,s0)\n",
      "\n",
      "<block>:1:45-60: info: atom does not occur in any rule head:\n",
      "  ap(1,4,#P0,empty)\n",
      "\n"
     ]
    },
    {
     "name": "stderr",
     "output_type": "stream",
     "text": [
      "<block>:1:39-51: info: atom does not occur in any rule head:\n",
      "  ap(1,4,#P0,s0)\n",
      "\n",
      "<block>:1:45-60: info: atom does not occur in any rule head:\n",
      "  ap(1,4,#P0,empty)\n",
      "\n"
     ]
    },
    {
     "name": "stderr",
     "output_type": "stream",
     "text": [
      "<block>:1:39-51: info: atom does not occur in any rule head:\n",
      "  ap(1,3,#P0,s0)\n",
      "\n",
      "<block>:1:43-57: info: atom does not occur in any rule head:\n",
      "  ap(1,3,#P0,s0y2)\n",
      "\n",
      "<block>:1:45-60: info: atom does not occur in any rule head:\n",
      "  ap(1,3,#P0,empty)\n",
      "\n"
     ]
    },
    {
     "name": "stderr",
     "output_type": "stream",
     "text": [
      "<block>:1:39-51: info: atom does not occur in any rule head:\n",
      "  ap(1,3,#P0,s0)\n",
      "\n",
      "<block>:1:43-57: info: atom does not occur in any rule head:\n",
      "  ap(1,3,#P0,s0y2)\n",
      "\n",
      "<block>:1:45-60: info: atom does not occur in any rule head:\n",
      "  ap(1,3,#P0,empty)\n",
      "\n"
     ]
    },
    {
     "name": "stderr",
     "output_type": "stream",
     "text": [
      "<block>:1:39-51: info: atom does not occur in any rule head:\n",
      "  ap(1,4,#P0,s2)\n",
      "\n",
      "<block>:1:45-60: info: atom does not occur in any rule head:\n",
      "  ap(1,4,#P0,empty)\n",
      "\n"
     ]
    },
    {
     "name": "stderr",
     "output_type": "stream",
     "text": [
      "<block>:1:39-51: info: atom does not occur in any rule head:\n",
      "  ap(1,4,#P0,s2)\n",
      "\n",
      "<block>:1:45-60: info: atom does not occur in any rule head:\n",
      "  ap(1,4,#P0,empty)\n",
      "\n"
     ]
    },
    {
     "name": "stdout",
     "output_type": "stream",
     "text": [
      "WARNING: ignoring environment value of R_HOME\n"
     ]
    },
    {
     "name": "stdout",
     "output_type": "stream",
     "text": [
      "WARNING: ignoring environment value of R_HOME\n"
     ]
    },
    {
     "name": "stdout",
     "output_type": "stream",
     "text": [
      "WARNING: ignoring environment value of R_HOME\n"
     ]
    },
    {
     "name": "stdout",
     "output_type": "stream",
     "text": [
      "WARNING: ignoring environment value of R_HOME\n"
     ]
    },
    {
     "name": "stdout",
     "output_type": "stream",
     "text": [
      "WARNING: ignoring environment value of R_HOME\n"
     ]
    },
    {
     "name": "stdout",
     "output_type": "stream",
     "text": [
      "WARNING: ignoring environment value of R_HOME\n"
     ]
    },
    {
     "name": "stdout",
     "output_type": "stream",
     "text": [
      "WARNING: ignoring environment value of R_HOME\n"
     ]
    },
    {
     "name": "stdout",
     "output_type": "stream",
     "text": [
      "WARNING: ignoring environment value of R_HOME\n"
     ]
    },
    {
     "name": "stdout",
     "output_type": "stream",
     "text": [
      "WARNING: ignoring environment value of R_HOME\n"
     ]
    },
    {
     "name": "stdout",
     "output_type": "stream",
     "text": [
      "WARNING: ignoring environment value of R_HOME\n"
     ]
    },
    {
     "name": "stdout",
     "output_type": "stream",
     "text": [
      "WARNING: ignoring environment value of R_HOME\n"
     ]
    },
    {
     "name": "stdout",
     "output_type": "stream",
     "text": [
      "WARNING: ignoring environment value of R_HOME\n"
     ]
    },
    {
     "name": "stdout",
     "output_type": "stream",
     "text": [
      "WARNING: ignoring environment value of R_HOME\n"
     ]
    },
    {
     "name": "stdout",
     "output_type": "stream",
     "text": [
      "WARNING: ignoring environment value of R_HOME\n"
     ]
    },
    {
     "name": "stdout",
     "output_type": "stream",
     "text": [
      "WARNING: ignoring environment value of R_HOME\n"
     ]
    },
    {
     "name": "stdout",
     "output_type": "stream",
     "text": [
      "WARNING: ignoring environment value of R_HOME\n"
     ]
    },
    {
     "name": "stdout",
     "output_type": "stream",
     "text": [
      "WARNING: ignoring environment value of R_HOME\n"
     ]
    },
    {
     "name": "stdout",
     "output_type": "stream",
     "text": [
      "WARNING: ignoring environment value of R_HOME\n"
     ]
    },
    {
     "name": "stdout",
     "output_type": "stream",
     "text": [
      "WARNING: ignoring environment value of R_HOME\n"
     ]
    },
    {
     "name": "stdout",
     "output_type": "stream",
     "text": [
      "WARNING: ignoring environment value of R_HOME\n"
     ]
    },
    {
     "name": "stdout",
     "output_type": "stream",
     "text": [
      "WARNING: ignoring environment value of R_HOME\n"
     ]
    },
    {
     "name": "stdout",
     "output_type": "stream",
     "text": [
      "WARNING: ignoring environment value of R_HOME\n"
     ]
    },
    {
     "name": "stdout",
     "output_type": "stream",
     "text": [
      "WARNING: ignoring environment value of R_HOME\n"
     ]
    },
    {
     "name": "stdout",
     "output_type": "stream",
     "text": [
      "WARNING: ignoring environment value of R_HOME\n"
     ]
    },
    {
     "name": "stdout",
     "output_type": "stream",
     "text": [
      "WARNING: ignoring environment value of R_HOME\n"
     ]
    },
    {
     "name": "stdout",
     "output_type": "stream",
     "text": [
      "WARNING: ignoring environment value of R_HOME\n"
     ]
    },
    {
     "name": "stdout",
     "output_type": "stream",
     "text": [
      "WARNING: ignoring environment value of R_HOME\n"
     ]
    },
    {
     "name": "stdout",
     "output_type": "stream",
     "text": [
      "WARNING: ignoring environment value of R_HOME\n"
     ]
    },
    {
     "name": "stdout",
     "output_type": "stream",
     "text": [
      "WARNING: ignoring environment value of R_HOME\n"
     ]
    },
    {
     "name": "stdout",
     "output_type": "stream",
     "text": [
      "WARNING: ignoring environment value of R_HOME\n"
     ]
    },
    {
     "name": "stdout",
     "output_type": "stream",
     "text": [
      "WARNING: ignoring environment value of R_HOME\n"
     ]
    },
    {
     "name": "stdout",
     "output_type": "stream",
     "text": [
      "WARNING: ignoring environment value of R_HOME\n"
     ]
    },
    {
     "name": "stdout",
     "output_type": "stream",
     "text": [
      "WARNING: ignoring environment value of R_HOME\n"
     ]
    },
    {
     "name": "stdout",
     "output_type": "stream",
     "text": [
      "WARNING: ignoring environment value of R_HOME\n"
     ]
    },
    {
     "name": "stdout",
     "output_type": "stream",
     "text": [
      "WARNING: ignoring environment value of R_HOME\n"
     ]
    },
    {
     "name": "stdout",
     "output_type": "stream",
     "text": [
      "WARNING: ignoring environment value of R_HOME\n"
     ]
    },
    {
     "name": "stdout",
     "output_type": "stream",
     "text": [
      "WARNING: ignoring environment value of R_HOME\n"
     ]
    },
    {
     "name": "stdout",
     "output_type": "stream",
     "text": [
      "WARNING: ignoring environment value of R_HOME\n"
     ]
    },
    {
     "name": "stdout",
     "output_type": "stream",
     "text": [
      "WARNING: ignoring environment value of R_HOME\n"
     ]
    },
    {
     "name": "stdout",
     "output_type": "stream",
     "text": [
      "WARNING: ignoring environment value of R_HOME\n"
     ]
    },
    {
     "name": "stdout",
     "output_type": "stream",
     "text": [
      "WARNING: ignoring environment value of R_HOME\n"
     ]
    },
    {
     "name": "stdout",
     "output_type": "stream",
     "text": [
      "WARNING: ignoring environment value of R_HOME\n"
     ]
    },
    {
     "name": "stdout",
     "output_type": "stream",
     "text": [
      "WARNING: ignoring environment value of R_HOME\n"
     ]
    },
    {
     "name": "stdout",
     "output_type": "stream",
     "text": [
      "WARNING: ignoring environment value of R_HOME\n"
     ]
    },
    {
     "name": "stdout",
     "output_type": "stream",
     "text": [
      "WARNING: ignoring environment value of R_HOME\n"
     ]
    },
    {
     "name": "stdout",
     "output_type": "stream",
     "text": [
      "WARNING: ignoring environment value of R_HOME\n"
     ]
    },
    {
     "name": "stdout",
     "output_type": "stream",
     "text": [
      "WARNING: ignoring environment value of R_HOME\n"
     ]
    },
    {
     "name": "stdout",
     "output_type": "stream",
     "text": [
      "WARNING: ignoring environment value of R_HOME\n"
     ]
    },
    {
     "name": "stdout",
     "output_type": "stream",
     "text": [
      "WARNING: ignoring environment value of R_HOME\n"
     ]
    },
    {
     "name": "stdout",
     "output_type": "stream",
     "text": [
      "WARNING: ignoring environment value of R_HOME\n"
     ]
    },
    {
     "name": "stdout",
     "output_type": "stream",
     "text": [
      "WARNING: ignoring environment value of R_HOME\n"
     ]
    },
    {
     "name": "stdout",
     "output_type": "stream",
     "text": [
      "WARNING: ignoring environment value of R_HOME\n"
     ]
    },
    {
     "name": "stdout",
     "output_type": "stream",
     "text": [
      "WARNING: ignoring environment value of R_HOME\n"
     ]
    },
    {
     "name": "stdout",
     "output_type": "stream",
     "text": [
      "WARNING: ignoring environment value of R_HOME\n"
     ]
    },
    {
     "name": "stdout",
     "output_type": "stream",
     "text": [
      "WARNING: ignoring environment value of R_HOME\n"
     ]
    },
    {
     "name": "stdout",
     "output_type": "stream",
     "text": [
      "WARNING: ignoring environment value of R_HOME\n"
     ]
    },
    {
     "name": "stdout",
     "output_type": "stream",
     "text": [
      "WARNING: ignoring environment value of R_HOME\n"
     ]
    },
    {
     "name": "stdout",
     "output_type": "stream",
     "text": [
      "WARNING: ignoring environment value of R_HOME\n"
     ]
    },
    {
     "name": "stdout",
     "output_type": "stream",
     "text": [
      "WARNING: ignoring environment value of R_HOME\n"
     ]
    },
    {
     "name": "stdout",
     "output_type": "stream",
     "text": [
      "WARNING: ignoring environment value of R_HOME\n"
     ]
    },
    {
     "name": "stdout",
     "output_type": "stream",
     "text": [
      "WARNING: ignoring environment value of R_HOME\n"
     ]
    },
    {
     "name": "stdout",
     "output_type": "stream",
     "text": [
      "WARNING: ignoring environment value of R_HOME\n"
     ]
    },
    {
     "name": "stdout",
     "output_type": "stream",
     "text": [
      "WARNING: ignoring environment value of R_HOME\n"
     ]
    },
    {
     "name": "stdout",
     "output_type": "stream",
     "text": [
      "WARNING: ignoring environment value of R_HOME\n"
     ]
    },
    {
     "name": "stdout",
     "output_type": "stream",
     "text": [
      "WARNING: ignoring environment value of R_HOME\n"
     ]
    },
    {
     "name": "stdout",
     "output_type": "stream",
     "text": [
      "WARNING: ignoring environment value of R_HOME\n"
     ]
    },
    {
     "name": "stdout",
     "output_type": "stream",
     "text": [
      "WARNING: ignoring environment value of R_HOME\n"
     ]
    },
    {
     "name": "stdout",
     "output_type": "stream",
     "text": [
      "WARNING: ignoring environment value of R_HOME\n"
     ]
    },
    {
     "name": "stdout",
     "output_type": "stream",
     "text": [
      "WARNING: ignoring environment value of R_HOME\n"
     ]
    },
    {
     "name": "stdout",
     "output_type": "stream",
     "text": [
      "WARNING: ignoring environment value of R_HOME\n"
     ]
    },
    {
     "name": "stdout",
     "output_type": "stream",
     "text": [
      "WARNING: ignoring environment value of R_HOME\n"
     ]
    },
    {
     "name": "stdout",
     "output_type": "stream",
     "text": [
      "WARNING: ignoring environment value of R_HOME\n"
     ]
    },
    {
     "name": "stdout",
     "output_type": "stream",
     "text": [
      "WARNING: ignoring environment value of R_HOME\n"
     ]
    },
    {
     "name": "stdout",
     "output_type": "stream",
     "text": [
      "WARNING: ignoring environment value of R_HOME\n"
     ]
    },
    {
     "name": "stdout",
     "output_type": "stream",
     "text": [
      "WARNING: ignoring environment value of R_HOME\n"
     ]
    },
    {
     "name": "stdout",
     "output_type": "stream",
     "text": [
      "WARNING: ignoring environment value of R_HOME\n"
     ]
    },
    {
     "name": "stdout",
     "output_type": "stream",
     "text": [
      "WARNING: ignoring environment value of R_HOME\n"
     ]
    },
    {
     "name": "stdout",
     "output_type": "stream",
     "text": [
      "WARNING: ignoring environment value of R_HOME\n"
     ]
    },
    {
     "name": "stdout",
     "output_type": "stream",
     "text": [
      "WARNING: ignoring environment value of R_HOME\n"
     ]
    },
    {
     "name": "stdout",
     "output_type": "stream",
     "text": [
      "WARNING: ignoring environment value of R_HOME\n"
     ]
    },
    {
     "name": "stdout",
     "output_type": "stream",
     "text": [
      "WARNING: ignoring environment value of R_HOME\n"
     ]
    },
    {
     "name": "stdout",
     "output_type": "stream",
     "text": [
      "WARNING: ignoring environment value of R_HOME\n"
     ]
    },
    {
     "name": "stdout",
     "output_type": "stream",
     "text": [
      "WARNING: ignoring environment value of R_HOME\n"
     ]
    },
    {
     "name": "stdout",
     "output_type": "stream",
     "text": [
      "WARNING: ignoring environment value of R_HOME\n"
     ]
    },
    {
     "name": "stdout",
     "output_type": "stream",
     "text": [
      "WARNING: ignoring environment value of R_HOME\n"
     ]
    },
    {
     "name": "stdout",
     "output_type": "stream",
     "text": [
      "WARNING: ignoring environment value of R_HOME\n"
     ]
    },
    {
     "name": "stdout",
     "output_type": "stream",
     "text": [
      "WARNING: ignoring environment value of R_HOME\n"
     ]
    },
    {
     "name": "stdout",
     "output_type": "stream",
     "text": [
      "WARNING: ignoring environment value of R_HOME\n"
     ]
    },
    {
     "name": "stdout",
     "output_type": "stream",
     "text": [
      "WARNING: ignoring environment value of R_HOME\n"
     ]
    },
    {
     "name": "stdout",
     "output_type": "stream",
     "text": [
      "WARNING: ignoring environment value of R_HOME\n"
     ]
    },
    {
     "name": "stdout",
     "output_type": "stream",
     "text": [
      "WARNING: ignoring environment value of R_HOME\n"
     ]
    },
    {
     "name": "stdout",
     "output_type": "stream",
     "text": [
      "WARNING: ignoring environment value of R_HOME\n"
     ]
    },
    {
     "name": "stdout",
     "output_type": "stream",
     "text": [
      "WARNING: ignoring environment value of R_HOME\n"
     ]
    },
    {
     "name": "stdout",
     "output_type": "stream",
     "text": [
      "WARNING: ignoring environment value of R_HOME\n"
     ]
    },
    {
     "name": "stdout",
     "output_type": "stream",
     "text": [
      "WARNING: ignoring environment value of R_HOME\n"
     ]
    },
    {
     "name": "stdout",
     "output_type": "stream",
     "text": [
      "WARNING: ignoring environment value of R_HOME\n"
     ]
    },
    {
     "name": "stdout",
     "output_type": "stream",
     "text": [
      "WARNING: ignoring environment value of R_HOME\n"
     ]
    },
    {
     "name": "stdout",
     "output_type": "stream",
     "text": [
      "WARNING: ignoring environment value of R_HOME\n"
     ]
    },
    {
     "name": "stdout",
     "output_type": "stream",
     "text": [
      "WARNING: ignoring environment value of R_HOME\n"
     ]
    },
    {
     "name": "stdout",
     "output_type": "stream",
     "text": [
      "WARNING: ignoring environment value of R_HOME\n"
     ]
    },
    {
     "name": "stdout",
     "output_type": "stream",
     "text": [
      "WARNING: ignoring environment value of R_HOME\n"
     ]
    },
    {
     "name": "stdout",
     "output_type": "stream",
     "text": [
      "WARNING: ignoring environment value of R_HOME\n"
     ]
    },
    {
     "name": "stdout",
     "output_type": "stream",
     "text": [
      "WARNING: ignoring environment value of R_HOME\n"
     ]
    },
    {
     "name": "stdout",
     "output_type": "stream",
     "text": [
      "WARNING: ignoring environment value of R_HOME\n"
     ]
    },
    {
     "name": "stdout",
     "output_type": "stream",
     "text": [
      "WARNING: ignoring environment value of R_HOME\n"
     ]
    },
    {
     "name": "stdout",
     "output_type": "stream",
     "text": [
      "WARNING: ignoring environment value of R_HOME\n"
     ]
    },
    {
     "name": "stdout",
     "output_type": "stream",
     "text": [
      "WARNING: ignoring environment value of R_HOME\n"
     ]
    },
    {
     "name": "stdout",
     "output_type": "stream",
     "text": [
      "WARNING: ignoring environment value of R_HOME\n"
     ]
    },
    {
     "name": "stdout",
     "output_type": "stream",
     "text": [
      "WARNING: ignoring environment value of R_HOME\n"
     ]
    },
    {
     "name": "stdout",
     "output_type": "stream",
     "text": [
      "WARNING: ignoring environment value of R_HOME\n"
     ]
    },
    {
     "name": "stdout",
     "output_type": "stream",
     "text": [
      "WARNING: ignoring environment value of R_HOME\n"
     ]
    },
    {
     "name": "stdout",
     "output_type": "stream",
     "text": [
      "WARNING: ignoring environment value of R_HOME\n"
     ]
    },
    {
     "name": "stdout",
     "output_type": "stream",
     "text": [
      "WARNING: ignoring environment value of R_HOME\n"
     ]
    },
    {
     "name": "stdout",
     "output_type": "stream",
     "text": [
      "WARNING: ignoring environment value of R_HOME\n"
     ]
    },
    {
     "name": "stdout",
     "output_type": "stream",
     "text": [
      "WARNING: ignoring environment value of R_HOME\n"
     ]
    },
    {
     "name": "stdout",
     "output_type": "stream",
     "text": [
      "WARNING: ignoring environment value of R_HOME\n"
     ]
    },
    {
     "name": "stdout",
     "output_type": "stream",
     "text": [
      "WARNING: ignoring environment value of R_HOME\n"
     ]
    },
    {
     "name": "stdout",
     "output_type": "stream",
     "text": [
      "WARNING: ignoring environment value of R_HOME\n"
     ]
    },
    {
     "name": "stdout",
     "output_type": "stream",
     "text": [
      "WARNING: ignoring environment value of R_HOME\n"
     ]
    },
    {
     "name": "stdout",
     "output_type": "stream",
     "text": [
      "WARNING: ignoring environment value of R_HOME\n"
     ]
    },
    {
     "name": "stdout",
     "output_type": "stream",
     "text": [
      "WARNING: ignoring environment value of R_HOME\n"
     ]
    },
    {
     "name": "stdout",
     "output_type": "stream",
     "text": [
      "WARNING: ignoring environment value of R_HOME\n"
     ]
    },
    {
     "name": "stdout",
     "output_type": "stream",
     "text": [
      "WARNING: ignoring environment value of R_HOME\n"
     ]
    },
    {
     "name": "stdout",
     "output_type": "stream",
     "text": [
      "WARNING: ignoring environment value of R_HOME\n"
     ]
    },
    {
     "name": "stdout",
     "output_type": "stream",
     "text": [
      "WARNING: ignoring environment value of R_HOME\n"
     ]
    },
    {
     "name": "stdout",
     "output_type": "stream",
     "text": [
      "WARNING: ignoring environment value of R_HOME\n"
     ]
    },
    {
     "name": "stdout",
     "output_type": "stream",
     "text": [
      "WARNING: ignoring environment value of R_HOME\n"
     ]
    },
    {
     "name": "stdout",
     "output_type": "stream",
     "text": [
      "WARNING: ignoring environment value of R_HOME\n"
     ]
    },
    {
     "name": "stdout",
     "output_type": "stream",
     "text": [
      "WARNING: ignoring environment value of R_HOME\n"
     ]
    },
    {
     "name": "stdout",
     "output_type": "stream",
     "text": [
      "WARNING: ignoring environment value of R_HOME\n"
     ]
    },
    {
     "name": "stdout",
     "output_type": "stream",
     "text": [
      "WARNING: ignoring environment value of R_HOME\n"
     ]
    },
    {
     "name": "stdout",
     "output_type": "stream",
     "text": [
      "WARNING: ignoring environment value of R_HOME\n"
     ]
    },
    {
     "name": "stdout",
     "output_type": "stream",
     "text": [
      "WARNING: ignoring environment value of R_HOME\n"
     ]
    },
    {
     "name": "stdout",
     "output_type": "stream",
     "text": [
      "WARNING: ignoring environment value of R_HOME\n"
     ]
    },
    {
     "name": "stdout",
     "output_type": "stream",
     "text": [
      "WARNING: ignoring environment value of R_HOME\n"
     ]
    },
    {
     "name": "stdout",
     "output_type": "stream",
     "text": [
      "WARNING: ignoring environment value of R_HOME\n"
     ]
    },
    {
     "name": "stdout",
     "output_type": "stream",
     "text": [
      "WARNING: ignoring environment value of R_HOME\n"
     ]
    },
    {
     "name": "stdout",
     "output_type": "stream",
     "text": [
      "WARNING: ignoring environment value of R_HOME\n"
     ]
    },
    {
     "name": "stdout",
     "output_type": "stream",
     "text": [
      "WARNING: ignoring environment value of R_HOME\n"
     ]
    },
    {
     "name": "stdout",
     "output_type": "stream",
     "text": [
      "WARNING: ignoring environment value of R_HOME\n"
     ]
    },
    {
     "name": "stdout",
     "output_type": "stream",
     "text": [
      "WARNING: ignoring environment value of R_HOME\n"
     ]
    },
    {
     "name": "stdout",
     "output_type": "stream",
     "text": [
      "WARNING: ignoring environment value of R_HOME\n"
     ]
    },
    {
     "name": "stdout",
     "output_type": "stream",
     "text": [
      "WARNING: ignoring environment value of R_HOME\n"
     ]
    },
    {
     "name": "stdout",
     "output_type": "stream",
     "text": [
      "WARNING: ignoring environment value of R_HOME\n"
     ]
    },
    {
     "name": "stdout",
     "output_type": "stream",
     "text": [
      "WARNING: ignoring environment value of R_HOME\n"
     ]
    },
    {
     "name": "stdout",
     "output_type": "stream",
     "text": [
      "WARNING: ignoring environment value of R_HOME\n"
     ]
    },
    {
     "name": "stdout",
     "output_type": "stream",
     "text": [
      "WARNING: ignoring environment value of R_HOME\n"
     ]
    },
    {
     "name": "stdout",
     "output_type": "stream",
     "text": [
      "WARNING: ignoring environment value of R_HOME\n"
     ]
    },
    {
     "name": "stdout",
     "output_type": "stream",
     "text": [
      "WARNING: ignoring environment value of R_HOME\n"
     ]
    },
    {
     "name": "stdout",
     "output_type": "stream",
     "text": [
      "WARNING: ignoring environment value of R_HOME\n"
     ]
    },
    {
     "name": "stdout",
     "output_type": "stream",
     "text": [
      "WARNING: ignoring environment value of R_HOME\n"
     ]
    },
    {
     "name": "stdout",
     "output_type": "stream",
     "text": [
      "WARNING: ignoring environment value of R_HOME\n"
     ]
    },
    {
     "name": "stdout",
     "output_type": "stream",
     "text": [
      "WARNING: ignoring environment value of R_HOME\n"
     ]
    },
    {
     "name": "stdout",
     "output_type": "stream",
     "text": [
      "WARNING: ignoring environment value of R_HOME\n"
     ]
    },
    {
     "name": "stdout",
     "output_type": "stream",
     "text": [
      "WARNING: ignoring environment value of R_HOME\n"
     ]
    },
    {
     "name": "stdout",
     "output_type": "stream",
     "text": [
      "WARNING: ignoring environment value of R_HOME\n"
     ]
    },
    {
     "name": "stdout",
     "output_type": "stream",
     "text": [
      "WARNING: ignoring environment value of R_HOME\n"
     ]
    },
    {
     "name": "stdout",
     "output_type": "stream",
     "text": [
      "WARNING: ignoring environment value of R_HOME\n"
     ]
    },
    {
     "name": "stdout",
     "output_type": "stream",
     "text": [
      "WARNING: ignoring environment value of R_HOME\n"
     ]
    },
    {
     "name": "stdout",
     "output_type": "stream",
     "text": [
      "WARNING: ignoring environment value of R_HOME\n"
     ]
    },
    {
     "name": "stdout",
     "output_type": "stream",
     "text": [
      "WARNING: ignoring environment value of R_HOME\n"
     ]
    },
    {
     "name": "stdout",
     "output_type": "stream",
     "text": [
      "WARNING: ignoring environment value of R_HOME\n"
     ]
    },
    {
     "name": "stdout",
     "output_type": "stream",
     "text": [
      "WARNING: ignoring environment value of R_HOME\n"
     ]
    },
    {
     "name": "stdout",
     "output_type": "stream",
     "text": [
      "WARNING: ignoring environment value of R_HOME\n"
     ]
    },
    {
     "name": "stdout",
     "output_type": "stream",
     "text": [
      "WARNING: ignoring environment value of R_HOME\n"
     ]
    },
    {
     "name": "stdout",
     "output_type": "stream",
     "text": [
      "WARNING: ignoring environment value of R_HOME\n"
     ]
    },
    {
     "name": "stdout",
     "output_type": "stream",
     "text": [
      "WARNING: ignoring environment value of R_HOME\n"
     ]
    },
    {
     "name": "stdout",
     "output_type": "stream",
     "text": [
      "WARNING: ignoring environment value of R_HOME\n"
     ]
    },
    {
     "name": "stdout",
     "output_type": "stream",
     "text": [
      "WARNING: ignoring environment value of R_HOME\n"
     ]
    },
    {
     "name": "stdout",
     "output_type": "stream",
     "text": [
      "WARNING: ignoring environment value of R_HOME\n"
     ]
    },
    {
     "name": "stdout",
     "output_type": "stream",
     "text": [
      "WARNING: ignoring environment value of R_HOME\n"
     ]
    },
    {
     "name": "stdout",
     "output_type": "stream",
     "text": [
      "WARNING: ignoring environment value of R_HOME\n"
     ]
    },
    {
     "name": "stdout",
     "output_type": "stream",
     "text": [
      "WARNING: ignoring environment value of R_HOME\n"
     ]
    },
    {
     "name": "stdout",
     "output_type": "stream",
     "text": [
      "WARNING: ignoring environment value of R_HOME\n"
     ]
    },
    {
     "name": "stdout",
     "output_type": "stream",
     "text": [
      "WARNING: ignoring environment value of R_HOME\n"
     ]
    },
    {
     "name": "stdout",
     "output_type": "stream",
     "text": [
      "WARNING: ignoring environment value of R_HOME\n"
     ]
    },
    {
     "name": "stdout",
     "output_type": "stream",
     "text": [
      "WARNING: ignoring environment value of R_HOME\n"
     ]
    },
    {
     "name": "stdout",
     "output_type": "stream",
     "text": [
      "WARNING: ignoring environment value of R_HOME\n"
     ]
    },
    {
     "name": "stdout",
     "output_type": "stream",
     "text": [
      "WARNING: ignoring environment value of R_HOME\n"
     ]
    },
    {
     "name": "stdout",
     "output_type": "stream",
     "text": [
      "WARNING: ignoring environment value of R_HOME\n"
     ]
    },
    {
     "name": "stdout",
     "output_type": "stream",
     "text": [
      "WARNING: ignoring environment value of R_HOME\n"
     ]
    },
    {
     "name": "stdout",
     "output_type": "stream",
     "text": [
      "WARNING: ignoring environment value of R_HOME\n"
     ]
    },
    {
     "name": "stdout",
     "output_type": "stream",
     "text": [
      "WARNING: ignoring environment value of R_HOME\n"
     ]
    },
    {
     "name": "stdout",
     "output_type": "stream",
     "text": [
      "WARNING: ignoring environment value of R_HOME\n"
     ]
    },
    {
     "name": "stdout",
     "output_type": "stream",
     "text": [
      "WARNING: ignoring environment value of R_HOME\n"
     ]
    },
    {
     "name": "stdout",
     "output_type": "stream",
     "text": [
      "WARNING: ignoring environment value of R_HOME\n"
     ]
    },
    {
     "name": "stdout",
     "output_type": "stream",
     "text": [
      "WARNING: ignoring environment value of R_HOME\n"
     ]
    },
    {
     "name": "stdout",
     "output_type": "stream",
     "text": [
      "WARNING: ignoring environment value of R_HOME\n"
     ]
    },
    {
     "name": "stdout",
     "output_type": "stream",
     "text": [
      "WARNING: ignoring environment value of R_HOME\n"
     ]
    },
    {
     "name": "stdout",
     "output_type": "stream",
     "text": [
      "WARNING: ignoring environment value of R_HOME\n"
     ]
    },
    {
     "name": "stdout",
     "output_type": "stream",
     "text": [
      "WARNING: ignoring environment value of R_HOME\n"
     ]
    },
    {
     "name": "stdout",
     "output_type": "stream",
     "text": [
      "WARNING: ignoring environment value of R_HOME\n"
     ]
    },
    {
     "name": "stdout",
     "output_type": "stream",
     "text": [
      "WARNING: ignoring environment value of R_HOME\n"
     ]
    },
    {
     "name": "stdout",
     "output_type": "stream",
     "text": [
      "WARNING: ignoring environment value of R_HOME\n"
     ]
    },
    {
     "name": "stdout",
     "output_type": "stream",
     "text": [
      "WARNING: ignoring environment value of R_HOME\n"
     ]
    },
    {
     "name": "stdout",
     "output_type": "stream",
     "text": [
      "WARNING: ignoring environment value of R_HOME\n"
     ]
    },
    {
     "name": "stdout",
     "output_type": "stream",
     "text": [
      "WARNING: ignoring environment value of R_HOME\n"
     ]
    },
    {
     "name": "stdout",
     "output_type": "stream",
     "text": [
      "WARNING: ignoring environment value of R_HOME\n"
     ]
    },
    {
     "name": "stdout",
     "output_type": "stream",
     "text": [
      "WARNING: ignoring environment value of R_HOME\n"
     ]
    },
    {
     "name": "stdout",
     "output_type": "stream",
     "text": [
      "WARNING: ignoring environment value of R_HOME\n"
     ]
    },
    {
     "name": "stderr",
     "output_type": "stream",
     "text": [
      "<block>:1:39-51: info: atom does not occur in any rule head:\n",
      "  ap(0,2,#P0,s3)\n",
      "\n",
      "<block>:1:45-60: info: atom does not occur in any rule head:\n",
      "  ap(0,2,#P0,empty)\n",
      "\n"
     ]
    },
    {
     "name": "stderr",
     "output_type": "stream",
     "text": [
      "<block>:1:39-51: info: atom does not occur in any rule head:\n",
      "  ap(0,2,#P0,s3)\n",
      "\n",
      "<block>:1:45-60: info: atom does not occur in any rule head:\n",
      "  ap(0,2,#P0,empty)\n",
      "\n"
     ]
    },
    {
     "name": "stderr",
     "output_type": "stream",
     "text": [
      "<block>:1:39-51: info: atom does not occur in any rule head:\n",
      "  ap(0,1,#P0,s4)\n",
      "\n",
      "<block>:1:45-60: info: atom does not occur in any rule head:\n",
      "  ap(1,3,#P0,empty)\n",
      "\n",
      "<block>:1:39-51: info: atom does not occur in any rule head:\n",
      "  ap(0,1,#P0,s4)\n",
      "\n",
      "<block>:1:45-60: info: atom does not occur in any rule head:\n",
      "  ap(1,3,#P0,empty)\n",
      "\n",
      "<block>:1:39-51: info: atom does not occur in any rule head:\n",
      "  ap(0,1,#P0,s4)\n",
      "\n",
      "<block>:1:45-60: info: atom does not occur in any rule head:\n",
      "  ap(1,3,#P0,empty)\n",
      "\n"
     ]
    },
    {
     "name": "stderr",
     "output_type": "stream",
     "text": [
      "<block>:1:39-51: info: atom does not occur in any rule head:\n",
      "  ap(0,1,#P0,s4)\n",
      "\n",
      "<block>:1:45-60: info: atom does not occur in any rule head:\n",
      "  ap(1,3,#P0,empty)\n",
      "\n"
     ]
    },
    {
     "name": "stderr",
     "output_type": "stream",
     "text": [
      "<block>:1:39-51: info: atom does not occur in any rule head:\n",
      "  ap(0,2,#P0,s3)\n",
      "\n",
      "<block>:1:45-60: info: atom does not occur in any rule head:\n",
      "  ap(0,2,#P0,empty)\n",
      "\n"
     ]
    },
    {
     "name": "stderr",
     "output_type": "stream",
     "text": [
      "<block>:1:39-51: info: atom does not occur in any rule head:\n",
      "  ap(0,2,#P0,s3)\n",
      "\n",
      "<block>:1:45-60: info: atom does not occur in any rule head:\n",
      "  ap(0,2,#P0,empty)\n",
      "\n"
     ]
    },
    {
     "name": "stderr",
     "output_type": "stream",
     "text": [
      "<block>:1:39-51: info: atom does not occur in any rule head:\n",
      "  ap(0,1,#P0,s4)\n",
      "\n",
      "<block>:1:43-57: info: atom does not occur in any rule head:\n",
      "  ap(0,2,#P0,s3y4)\n",
      "\n",
      "<block>:1:45-60: info: atom does not occur in any rule head:\n",
      "  ap(0,1,#P0,empty)\n",
      "\n",
      "<block>:1:39-51: info: atom does not occur in any rule head:\n",
      "  ap(0,1,#P0,s4)\n",
      "\n",
      "<block>:1:45-60: info: atom does not occur in any rule head:\n",
      "  ap(0,1,#P0,empty)\n",
      "\n"
     ]
    },
    {
     "name": "stderr",
     "output_type": "stream",
     "text": [
      "<block>:1:39-51: info: atom does not occur in any rule head:\n",
      "  ap(0,1,#P0,s4)\n",
      "\n",
      "<block>:1:43-57: info: atom does not occur in any rule head:\n",
      "  ap(0,2,#P0,s3y4)\n",
      "\n",
      "<block>:1:45-60: info: atom does not occur in any rule head:\n",
      "  ap(0,1,#P0,empty)\n",
      "\n",
      "<block>:1:39-51: info: atom does not occur in any rule head:\n",
      "  ap(0,1,#P0,s4)\n",
      "\n",
      "<block>:1:45-60: info: atom does not occur in any rule head:\n",
      "  ap(0,1,#P0,empty)\n",
      "\n"
     ]
    },
    {
     "name": "stderr",
     "output_type": "stream",
     "text": [
      "<block>:1:39-51: info: atom does not occur in any rule head:\n",
      "  ap(0,2,#P0,s3)\n",
      "\n",
      "<block>:1:45-60: info: atom does not occur in any rule head:\n",
      "  ap(0,2,#P0,empty)\n",
      "\n",
      "<block>:1:39-51: info: atom does not occur in any rule head:\n",
      "  ap(0,2,#P0,s3)\n",
      "\n",
      "<block>:1:45-60: info: atom does not occur in any rule head:\n",
      "  ap(0,2,#P0,empty)\n",
      "\n"
     ]
    },
    {
     "name": "stderr",
     "output_type": "stream",
     "text": [
      "<block>:1:39-51: info: atom does not occur in any rule head:\n",
      "  ap(0,1,#P0,s3)\n",
      "\n",
      "<block>:1:43-57: info: atom does not occur in any rule head:\n",
      "  ap(0,1,#P0,s2y4)\n",
      "\n",
      "<block>:1:45-60: info: atom does not occur in any rule head:\n",
      "  ap(0,1,#P0,empty)\n",
      "\n"
     ]
    },
    {
     "name": "stderr",
     "output_type": "stream",
     "text": [
      "<block>:1:39-51: info: atom does not occur in any rule head:\n",
      "  ap(0,1,#P0,s3)\n",
      "\n",
      "<block>:1:43-57: info: atom does not occur in any rule head:\n",
      "  ap(0,1,#P0,s2y4)\n",
      "\n",
      "<block>:1:45-60: info: atom does not occur in any rule head:\n",
      "  ap(0,1,#P0,empty)\n",
      "\n"
     ]
    },
    {
     "name": "stderr",
     "output_type": "stream",
     "text": [
      "<block>:1:39-51: info: atom does not occur in any rule head:\n",
      "  ap(0,1,#P0,s3)\n",
      "\n",
      "<block>:1:43-57: info: atom does not occur in any rule head:\n",
      "  ap(0,1,#P0,s2y3)\n",
      "\n",
      "<block>:1:45-60: info: atom does not occur in any rule head:\n",
      "  ap(0,1,#P0,empty)\n",
      "\n"
     ]
    },
    {
     "name": "stderr",
     "output_type": "stream",
     "text": [
      "<block>:1:39-51: info: atom does not occur in any rule head:\n",
      "  ap(0,1,#P0,s3)\n",
      "\n",
      "<block>:1:43-57: info: atom does not occur in any rule head:\n",
      "  ap(0,1,#P0,s2y3)\n",
      "\n",
      "<block>:1:45-60: info: atom does not occur in any rule head:\n",
      "  ap(0,1,#P0,empty)\n",
      "\n"
     ]
    },
    {
     "name": "stderr",
     "output_type": "stream",
     "text": [
      "<block>:1:39-51: info: atom does not occur in any rule head:\n",
      "  ap(0,2,#P0,s3)\n",
      "\n",
      "<block>:1:43-57: info: atom does not occur in any rule head:\n",
      "  ap(0,2,#P0,s1y3)\n",
      "\n",
      "<block>:1:45-60: info: atom does not occur in any rule head:\n",
      "  ap(0,2,#P0,empty)\n",
      "\n"
     ]
    },
    {
     "name": "stderr",
     "output_type": "stream",
     "text": [
      "<block>:1:39-51: info: atom does not occur in any rule head:\n",
      "  ap(0,2,#P0,s3)\n",
      "\n",
      "<block>:1:43-57: info: atom does not occur in any rule head:\n",
      "  ap(0,2,#P0,s1y3)\n",
      "\n",
      "<block>:1:45-60: info: atom does not occur in any rule head:\n",
      "  ap(0,2,#P0,empty)\n",
      "\n"
     ]
    },
    {
     "name": "stderr",
     "output_type": "stream",
     "text": [
      "<block>:1:39-51: info: atom does not occur in any rule head:\n",
      "  ap(0,2,#P0,s3)\n",
      "\n",
      "<block>:1:43-57: info: atom does not occur in any rule head:\n",
      "  ap(0,2,#P0,s3y4)\n",
      "\n",
      "<block>:1:45-60: info: atom does not occur in any rule head:\n",
      "  ap(0,2,#P0,empty)\n",
      "\n"
     ]
    },
    {
     "name": "stderr",
     "output_type": "stream",
     "text": [
      "<block>:1:39-51: info: atom does not occur in any rule head:\n",
      "  ap(0,2,#P0,s3)\n",
      "\n",
      "<block>:1:43-57: info: atom does not occur in any rule head:\n",
      "  ap(0,2,#P0,s3y4)\n",
      "\n",
      "<block>:1:45-60: info: atom does not occur in any rule head:\n",
      "  ap(0,2,#P0,empty)\n",
      "\n"
     ]
    },
    {
     "name": "stderr",
     "output_type": "stream",
     "text": [
      "<block>:1:39-51: info: atom does not occur in any rule head:\n",
      "  ap(0,2,#P0,s3)\n",
      "\n",
      "<block>:1:45-60: info: atom does not occur in any rule head:\n",
      "  ap(0,2,#P0,empty)\n",
      "\n"
     ]
    },
    {
     "name": "stderr",
     "output_type": "stream",
     "text": [
      "<block>:1:39-51: info: atom does not occur in any rule head:\n",
      "  ap(0,2,#P0,s3)\n",
      "\n",
      "<block>:1:45-60: info: atom does not occur in any rule head:\n",
      "  ap(0,2,#P0,empty)\n",
      "\n"
     ]
    },
    {
     "name": "stderr",
     "output_type": "stream",
     "text": [
      "<block>:1:39-51: info: atom does not occur in any rule head:\n",
      "  ap(0,2,#P0,s3)\n",
      "\n",
      "<block>:1:43-57: info: atom does not occur in any rule head:\n",
      "  ap(0,2,#P0,s1y3)\n",
      "\n",
      "<block>:1:45-60: info: atom does not occur in any rule head:\n",
      "  ap(0,2,#P0,empty)\n",
      "\n"
     ]
    },
    {
     "name": "stderr",
     "output_type": "stream",
     "text": [
      "<block>:1:39-51: info: atom does not occur in any rule head:\n",
      "  ap(0,2,#P0,s3)\n",
      "\n",
      "<block>:1:43-57: info: atom does not occur in any rule head:\n",
      "  ap(0,2,#P0,s1y3)\n",
      "\n",
      "<block>:1:45-60: info: atom does not occur in any rule head:\n",
      "  ap(0,2,#P0,empty)\n",
      "\n"
     ]
    },
    {
     "name": "stderr",
     "output_type": "stream",
     "text": [
      "<block>:1:39-51: info: atom does not occur in any rule head:\n",
      "  ap(0,2,#P0,s3)\n",
      "\n",
      "<block>:1:45-60: info: atom does not occur in any rule head:\n",
      "  ap(0,2,#P0,empty)\n",
      "\n"
     ]
    },
    {
     "name": "stderr",
     "output_type": "stream",
     "text": [
      "<block>:1:39-51: info: atom does not occur in any rule head:\n",
      "  ap(0,2,#P0,s3)\n",
      "\n",
      "<block>:1:45-60: info: atom does not occur in any rule head:\n",
      "  ap(0,2,#P0,empty)\n",
      "\n"
     ]
    },
    {
     "name": "stderr",
     "output_type": "stream",
     "text": [
      "<block>:1:39-51: info: atom does not occur in any rule head:\n",
      "  ap(0,1,#P0,s3)\n",
      "\n",
      "<block>:1:43-57: info: atom does not occur in any rule head:\n",
      "  ap(0,1,#P0,s3y4)\n",
      "\n",
      "<block>:1:45-60: info: atom does not occur in any rule head:\n",
      "  ap(0,1,#P0,empty)\n",
      "\n",
      "<block>:1:39-51: info: atom does not occur in any rule head:\n",
      "  ap(0,2,#P0,s3)\n",
      "\n",
      "<block>:1:43-57: info: atom does not occur in any rule head:\n",
      "  ap(0,2,#P0,s3y4)\n",
      "\n",
      "<block>:1:45-60: info: atom does not occur in any rule head:\n",
      "  ap(0,2,#P0,empty)\n",
      "\n"
     ]
    },
    {
     "name": "stderr",
     "output_type": "stream",
     "text": [
      "<block>:1:39-51: info: atom does not occur in any rule head:\n",
      "  ap(0,1,#P0,s3)\n",
      "\n",
      "<block>:1:43-57: info: atom does not occur in any rule head:\n",
      "  ap(0,1,#P0,s3y4)\n",
      "\n",
      "<block>:1:45-60: info: atom does not occur in any rule head:\n",
      "  ap(0,1,#P0,empty)\n",
      "\n",
      "<block>:1:39-51: info: atom does not occur in any rule head:\n",
      "  ap(0,2,#P0,s3)\n",
      "\n",
      "<block>:1:43-57: info: atom does not occur in any rule head:\n",
      "  ap(0,2,#P0,s3y4)\n",
      "\n",
      "<block>:1:45-60: info: atom does not occur in any rule head:\n",
      "  ap(0,2,#P0,empty)\n",
      "\n"
     ]
    },
    {
     "name": "stderr",
     "output_type": "stream",
     "text": [
      "<block>:1:39-51: info: atom does not occur in any rule head:\n",
      "  ap(0,2,#P0,s3)\n",
      "\n",
      "<block>:1:45-60: info: atom does not occur in any rule head:\n",
      "  ap(0,2,#P0,empty)\n",
      "\n"
     ]
    },
    {
     "name": "stderr",
     "output_type": "stream",
     "text": [
      "<block>:1:39-51: info: atom does not occur in any rule head:\n",
      "  ap(0,2,#P0,s3)\n",
      "\n",
      "<block>:1:45-60: info: atom does not occur in any rule head:\n",
      "  ap(0,2,#P0,empty)\n",
      "\n"
     ]
    },
    {
     "name": "stderr",
     "output_type": "stream",
     "text": [
      "<block>:1:39-51: info: atom does not occur in any rule head:\n",
      "  ap(0,2,#P0,s3)\n",
      "\n",
      "<block>:1:43-57: info: atom does not occur in any rule head:\n",
      "  ap(0,2,#P0,s1y3)\n",
      "\n",
      "<block>:1:45-60: info: atom does not occur in any rule head:\n",
      "  ap(0,2,#P0,empty)\n",
      "\n"
     ]
    },
    {
     "name": "stderr",
     "output_type": "stream",
     "text": [
      "<block>:1:39-51: info: atom does not occur in any rule head:\n",
      "  ap(0,2,#P0,s3)\n",
      "\n",
      "<block>:1:43-57: info: atom does not occur in any rule head:\n",
      "  ap(0,2,#P0,s1y3)\n",
      "\n",
      "<block>:1:45-60: info: atom does not occur in any rule head:\n",
      "  ap(0,2,#P0,empty)\n",
      "\n"
     ]
    },
    {
     "name": "stderr",
     "output_type": "stream",
     "text": [
      "<block>:1:39-51: info: atom does not occur in any rule head:\n",
      "  ap(0,2,#P0,s3)\n",
      "\n",
      "<block>:1:45-60: info: atom does not occur in any rule head:\n",
      "  ap(0,2,#P0,empty)\n",
      "\n"
     ]
    },
    {
     "name": "stderr",
     "output_type": "stream",
     "text": [
      "<block>:1:39-51: info: atom does not occur in any rule head:\n",
      "  ap(0,2,#P0,s3)\n",
      "\n",
      "<block>:1:45-60: info: atom does not occur in any rule head:\n",
      "  ap(0,2,#P0,empty)\n",
      "\n"
     ]
    },
    {
     "name": "stdout",
     "output_type": "stream",
     "text": [
      "WARNING: ignoring environment value of R_HOME\n"
     ]
    },
    {
     "name": "stdout",
     "output_type": "stream",
     "text": [
      "WARNING: ignoring environment value of R_HOME\n"
     ]
    },
    {
     "name": "stdout",
     "output_type": "stream",
     "text": [
      "WARNING: ignoring environment value of R_HOME\n"
     ]
    },
    {
     "name": "stdout",
     "output_type": "stream",
     "text": [
      "WARNING: ignoring environment value of R_HOME\n"
     ]
    },
    {
     "name": "stdout",
     "output_type": "stream",
     "text": [
      "WARNING: ignoring environment value of R_HOME\n"
     ]
    },
    {
     "name": "stdout",
     "output_type": "stream",
     "text": [
      "WARNING: ignoring environment value of R_HOME\n"
     ]
    },
    {
     "name": "stdout",
     "output_type": "stream",
     "text": [
      "WARNING: ignoring environment value of R_HOME\n"
     ]
    },
    {
     "name": "stdout",
     "output_type": "stream",
     "text": [
      "WARNING: ignoring environment value of R_HOME\n"
     ]
    },
    {
     "name": "stdout",
     "output_type": "stream",
     "text": [
      "WARNING: ignoring environment value of R_HOME\n"
     ]
    },
    {
     "name": "stdout",
     "output_type": "stream",
     "text": [
      "WARNING: ignoring environment value of R_HOME\n"
     ]
    },
    {
     "name": "stdout",
     "output_type": "stream",
     "text": [
      "WARNING: ignoring environment value of R_HOME\n"
     ]
    },
    {
     "name": "stdout",
     "output_type": "stream",
     "text": [
      "WARNING: ignoring environment value of R_HOME\n"
     ]
    },
    {
     "name": "stdout",
     "output_type": "stream",
     "text": [
      "WARNING: ignoring environment value of R_HOME\n"
     ]
    },
    {
     "name": "stdout",
     "output_type": "stream",
     "text": [
      "WARNING: ignoring environment value of R_HOME\n"
     ]
    },
    {
     "name": "stdout",
     "output_type": "stream",
     "text": [
      "WARNING: ignoring environment value of R_HOME\n"
     ]
    },
    {
     "name": "stdout",
     "output_type": "stream",
     "text": [
      "WARNING: ignoring environment value of R_HOME\n"
     ]
    },
    {
     "name": "stdout",
     "output_type": "stream",
     "text": [
      "WARNING: ignoring environment value of R_HOME\n"
     ]
    },
    {
     "name": "stdout",
     "output_type": "stream",
     "text": [
      "WARNING: ignoring environment value of R_HOME\n"
     ]
    },
    {
     "name": "stdout",
     "output_type": "stream",
     "text": [
      "WARNING: ignoring environment value of R_HOME\n"
     ]
    },
    {
     "name": "stdout",
     "output_type": "stream",
     "text": [
      "WARNING: ignoring environment value of R_HOME\n"
     ]
    },
    {
     "name": "stdout",
     "output_type": "stream",
     "text": [
      "WARNING: ignoring environment value of R_HOME\n"
     ]
    },
    {
     "name": "stdout",
     "output_type": "stream",
     "text": [
      "WARNING: ignoring environment value of R_HOME\n"
     ]
    },
    {
     "name": "stdout",
     "output_type": "stream",
     "text": [
      "WARNING: ignoring environment value of R_HOME\n"
     ]
    },
    {
     "name": "stdout",
     "output_type": "stream",
     "text": [
      "WARNING: ignoring environment value of R_HOME\n"
     ]
    },
    {
     "name": "stdout",
     "output_type": "stream",
     "text": [
      "WARNING: ignoring environment value of R_HOME\n"
     ]
    },
    {
     "name": "stdout",
     "output_type": "stream",
     "text": [
      "WARNING: ignoring environment value of R_HOME\n"
     ]
    },
    {
     "name": "stdout",
     "output_type": "stream",
     "text": [
      "WARNING: ignoring environment value of R_HOME\n"
     ]
    },
    {
     "name": "stdout",
     "output_type": "stream",
     "text": [
      "WARNING: ignoring environment value of R_HOME\n"
     ]
    },
    {
     "name": "stdout",
     "output_type": "stream",
     "text": [
      "WARNING: ignoring environment value of R_HOME\n"
     ]
    },
    {
     "name": "stdout",
     "output_type": "stream",
     "text": [
      "WARNING: ignoring environment value of R_HOME\n"
     ]
    },
    {
     "name": "stdout",
     "output_type": "stream",
     "text": [
      "WARNING: ignoring environment value of R_HOME\n"
     ]
    },
    {
     "name": "stdout",
     "output_type": "stream",
     "text": [
      "WARNING: ignoring environment value of R_HOME\n"
     ]
    },
    {
     "name": "stdout",
     "output_type": "stream",
     "text": [
      "WARNING: ignoring environment value of R_HOME\n"
     ]
    },
    {
     "name": "stdout",
     "output_type": "stream",
     "text": [
      "WARNING: ignoring environment value of R_HOME\n"
     ]
    },
    {
     "name": "stdout",
     "output_type": "stream",
     "text": [
      "WARNING: ignoring environment value of R_HOME\n"
     ]
    },
    {
     "name": "stdout",
     "output_type": "stream",
     "text": [
      "WARNING: ignoring environment value of R_HOME\n"
     ]
    },
    {
     "name": "stdout",
     "output_type": "stream",
     "text": [
      "WARNING: ignoring environment value of R_HOME\n"
     ]
    },
    {
     "name": "stdout",
     "output_type": "stream",
     "text": [
      "WARNING: ignoring environment value of R_HOME\n"
     ]
    },
    {
     "name": "stdout",
     "output_type": "stream",
     "text": [
      "WARNING: ignoring environment value of R_HOME\n"
     ]
    },
    {
     "name": "stdout",
     "output_type": "stream",
     "text": [
      "WARNING: ignoring environment value of R_HOME\n"
     ]
    },
    {
     "name": "stdout",
     "output_type": "stream",
     "text": [
      "WARNING: ignoring environment value of R_HOME\n"
     ]
    },
    {
     "name": "stdout",
     "output_type": "stream",
     "text": [
      "WARNING: ignoring environment value of R_HOME\n"
     ]
    },
    {
     "name": "stdout",
     "output_type": "stream",
     "text": [
      "WARNING: ignoring environment value of R_HOME\n"
     ]
    },
    {
     "name": "stdout",
     "output_type": "stream",
     "text": [
      "WARNING: ignoring environment value of R_HOME\n"
     ]
    },
    {
     "name": "stdout",
     "output_type": "stream",
     "text": [
      "WARNING: ignoring environment value of R_HOME\n"
     ]
    },
    {
     "name": "stdout",
     "output_type": "stream",
     "text": [
      "WARNING: ignoring environment value of R_HOME\n"
     ]
    },
    {
     "name": "stdout",
     "output_type": "stream",
     "text": [
      "WARNING: ignoring environment value of R_HOME\n"
     ]
    },
    {
     "name": "stdout",
     "output_type": "stream",
     "text": [
      "WARNING: ignoring environment value of R_HOME\n"
     ]
    },
    {
     "name": "stdout",
     "output_type": "stream",
     "text": [
      "WARNING: ignoring environment value of R_HOME\n"
     ]
    },
    {
     "name": "stdout",
     "output_type": "stream",
     "text": [
      "WARNING: ignoring environment value of R_HOME\n"
     ]
    },
    {
     "name": "stdout",
     "output_type": "stream",
     "text": [
      "WARNING: ignoring environment value of R_HOME\n"
     ]
    },
    {
     "name": "stdout",
     "output_type": "stream",
     "text": [
      "WARNING: ignoring environment value of R_HOME\n"
     ]
    },
    {
     "name": "stdout",
     "output_type": "stream",
     "text": [
      "WARNING: ignoring environment value of R_HOME\n"
     ]
    },
    {
     "name": "stdout",
     "output_type": "stream",
     "text": [
      "WARNING: ignoring environment value of R_HOME\n"
     ]
    },
    {
     "name": "stdout",
     "output_type": "stream",
     "text": [
      "WARNING: ignoring environment value of R_HOME\n"
     ]
    },
    {
     "name": "stdout",
     "output_type": "stream",
     "text": [
      "WARNING: ignoring environment value of R_HOME\n"
     ]
    },
    {
     "name": "stdout",
     "output_type": "stream",
     "text": [
      "WARNING: ignoring environment value of R_HOME\n"
     ]
    },
    {
     "name": "stdout",
     "output_type": "stream",
     "text": [
      "WARNING: ignoring environment value of R_HOME\n"
     ]
    },
    {
     "name": "stdout",
     "output_type": "stream",
     "text": [
      "WARNING: ignoring environment value of R_HOME\n"
     ]
    },
    {
     "name": "stdout",
     "output_type": "stream",
     "text": [
      "WARNING: ignoring environment value of R_HOME\n"
     ]
    },
    {
     "name": "stdout",
     "output_type": "stream",
     "text": [
      "WARNING: ignoring environment value of R_HOME\n"
     ]
    },
    {
     "name": "stdout",
     "output_type": "stream",
     "text": [
      "WARNING: ignoring environment value of R_HOME\n"
     ]
    },
    {
     "name": "stdout",
     "output_type": "stream",
     "text": [
      "WARNING: ignoring environment value of R_HOME\n"
     ]
    },
    {
     "name": "stdout",
     "output_type": "stream",
     "text": [
      "WARNING: ignoring environment value of R_HOME\n"
     ]
    },
    {
     "name": "stdout",
     "output_type": "stream",
     "text": [
      "WARNING: ignoring environment value of R_HOME\n"
     ]
    },
    {
     "name": "stdout",
     "output_type": "stream",
     "text": [
      "WARNING: ignoring environment value of R_HOME\n"
     ]
    },
    {
     "name": "stdout",
     "output_type": "stream",
     "text": [
      "WARNING: ignoring environment value of R_HOME\n"
     ]
    },
    {
     "name": "stdout",
     "output_type": "stream",
     "text": [
      "WARNING: ignoring environment value of R_HOME\n"
     ]
    },
    {
     "name": "stdout",
     "output_type": "stream",
     "text": [
      "WARNING: ignoring environment value of R_HOME\n"
     ]
    },
    {
     "name": "stdout",
     "output_type": "stream",
     "text": [
      "WARNING: ignoring environment value of R_HOME\n"
     ]
    },
    {
     "name": "stdout",
     "output_type": "stream",
     "text": [
      "WARNING: ignoring environment value of R_HOME\n"
     ]
    },
    {
     "name": "stdout",
     "output_type": "stream",
     "text": [
      "WARNING: ignoring environment value of R_HOME\n"
     ]
    },
    {
     "name": "stdout",
     "output_type": "stream",
     "text": [
      "WARNING: ignoring environment value of R_HOME\n"
     ]
    },
    {
     "name": "stdout",
     "output_type": "stream",
     "text": [
      "WARNING: ignoring environment value of R_HOME\n"
     ]
    },
    {
     "name": "stdout",
     "output_type": "stream",
     "text": [
      "WARNING: ignoring environment value of R_HOME\n"
     ]
    },
    {
     "name": "stdout",
     "output_type": "stream",
     "text": [
      "WARNING: ignoring environment value of R_HOME\n"
     ]
    },
    {
     "name": "stdout",
     "output_type": "stream",
     "text": [
      "WARNING: ignoring environment value of R_HOME\n"
     ]
    },
    {
     "name": "stdout",
     "output_type": "stream",
     "text": [
      "WARNING: ignoring environment value of R_HOME\n"
     ]
    },
    {
     "name": "stdout",
     "output_type": "stream",
     "text": [
      "WARNING: ignoring environment value of R_HOME\n"
     ]
    },
    {
     "name": "stdout",
     "output_type": "stream",
     "text": [
      "WARNING: ignoring environment value of R_HOME\n"
     ]
    },
    {
     "name": "stdout",
     "output_type": "stream",
     "text": [
      "WARNING: ignoring environment value of R_HOME\n"
     ]
    },
    {
     "name": "stdout",
     "output_type": "stream",
     "text": [
      "WARNING: ignoring environment value of R_HOME\n"
     ]
    },
    {
     "name": "stdout",
     "output_type": "stream",
     "text": [
      "WARNING: ignoring environment value of R_HOME\n"
     ]
    },
    {
     "name": "stdout",
     "output_type": "stream",
     "text": [
      "WARNING: ignoring environment value of R_HOME\n"
     ]
    },
    {
     "name": "stdout",
     "output_type": "stream",
     "text": [
      "WARNING: ignoring environment value of R_HOME\n"
     ]
    },
    {
     "name": "stdout",
     "output_type": "stream",
     "text": [
      "WARNING: ignoring environment value of R_HOME\n"
     ]
    },
    {
     "name": "stdout",
     "output_type": "stream",
     "text": [
      "WARNING: ignoring environment value of R_HOME\n"
     ]
    },
    {
     "name": "stdout",
     "output_type": "stream",
     "text": [
      "WARNING: ignoring environment value of R_HOME\n"
     ]
    },
    {
     "name": "stdout",
     "output_type": "stream",
     "text": [
      "WARNING: ignoring environment value of R_HOME\n"
     ]
    },
    {
     "name": "stdout",
     "output_type": "stream",
     "text": [
      "WARNING: ignoring environment value of R_HOME\n"
     ]
    },
    {
     "name": "stdout",
     "output_type": "stream",
     "text": [
      "WARNING: ignoring environment value of R_HOME\n"
     ]
    },
    {
     "name": "stdout",
     "output_type": "stream",
     "text": [
      "WARNING: ignoring environment value of R_HOME\n"
     ]
    },
    {
     "name": "stdout",
     "output_type": "stream",
     "text": [
      "WARNING: ignoring environment value of R_HOME\n"
     ]
    },
    {
     "name": "stdout",
     "output_type": "stream",
     "text": [
      "WARNING: ignoring environment value of R_HOME\n"
     ]
    },
    {
     "name": "stdout",
     "output_type": "stream",
     "text": [
      "WARNING: ignoring environment value of R_HOME\n"
     ]
    },
    {
     "name": "stdout",
     "output_type": "stream",
     "text": [
      "WARNING: ignoring environment value of R_HOME\n"
     ]
    },
    {
     "name": "stdout",
     "output_type": "stream",
     "text": [
      "WARNING: ignoring environment value of R_HOME\n"
     ]
    },
    {
     "name": "stdout",
     "output_type": "stream",
     "text": [
      "WARNING: ignoring environment value of R_HOME\n"
     ]
    },
    {
     "name": "stdout",
     "output_type": "stream",
     "text": [
      "WARNING: ignoring environment value of R_HOME\n"
     ]
    },
    {
     "name": "stdout",
     "output_type": "stream",
     "text": [
      "WARNING: ignoring environment value of R_HOME\n"
     ]
    },
    {
     "name": "stdout",
     "output_type": "stream",
     "text": [
      "WARNING: ignoring environment value of R_HOME\n"
     ]
    },
    {
     "name": "stdout",
     "output_type": "stream",
     "text": [
      "WARNING: ignoring environment value of R_HOME\n"
     ]
    },
    {
     "name": "stdout",
     "output_type": "stream",
     "text": [
      "WARNING: ignoring environment value of R_HOME\n"
     ]
    },
    {
     "name": "stdout",
     "output_type": "stream",
     "text": [
      "WARNING: ignoring environment value of R_HOME\n"
     ]
    },
    {
     "name": "stdout",
     "output_type": "stream",
     "text": [
      "WARNING: ignoring environment value of R_HOME\n"
     ]
    },
    {
     "name": "stdout",
     "output_type": "stream",
     "text": [
      "WARNING: ignoring environment value of R_HOME\n"
     ]
    },
    {
     "name": "stdout",
     "output_type": "stream",
     "text": [
      "WARNING: ignoring environment value of R_HOME\n"
     ]
    },
    {
     "name": "stdout",
     "output_type": "stream",
     "text": [
      "WARNING: ignoring environment value of R_HOME\n"
     ]
    },
    {
     "name": "stdout",
     "output_type": "stream",
     "text": [
      "WARNING: ignoring environment value of R_HOME\n"
     ]
    },
    {
     "name": "stdout",
     "output_type": "stream",
     "text": [
      "WARNING: ignoring environment value of R_HOME\n"
     ]
    },
    {
     "name": "stdout",
     "output_type": "stream",
     "text": [
      "WARNING: ignoring environment value of R_HOME\n"
     ]
    },
    {
     "name": "stdout",
     "output_type": "stream",
     "text": [
      "WARNING: ignoring environment value of R_HOME\n"
     ]
    },
    {
     "name": "stdout",
     "output_type": "stream",
     "text": [
      "WARNING: ignoring environment value of R_HOME\n"
     ]
    },
    {
     "name": "stdout",
     "output_type": "stream",
     "text": [
      "WARNING: ignoring environment value of R_HOME\n"
     ]
    },
    {
     "name": "stdout",
     "output_type": "stream",
     "text": [
      "WARNING: ignoring environment value of R_HOME\n"
     ]
    },
    {
     "name": "stdout",
     "output_type": "stream",
     "text": [
      "WARNING: ignoring environment value of R_HOME\n"
     ]
    },
    {
     "name": "stdout",
     "output_type": "stream",
     "text": [
      "WARNING: ignoring environment value of R_HOME\n"
     ]
    },
    {
     "name": "stdout",
     "output_type": "stream",
     "text": [
      "WARNING: ignoring environment value of R_HOME\n"
     ]
    },
    {
     "name": "stdout",
     "output_type": "stream",
     "text": [
      "WARNING: ignoring environment value of R_HOME\n"
     ]
    },
    {
     "name": "stdout",
     "output_type": "stream",
     "text": [
      "WARNING: ignoring environment value of R_HOME\n"
     ]
    },
    {
     "name": "stdout",
     "output_type": "stream",
     "text": [
      "WARNING: ignoring environment value of R_HOME\n"
     ]
    },
    {
     "name": "stdout",
     "output_type": "stream",
     "text": [
      "WARNING: ignoring environment value of R_HOME\n"
     ]
    },
    {
     "name": "stdout",
     "output_type": "stream",
     "text": [
      "WARNING: ignoring environment value of R_HOME\n"
     ]
    },
    {
     "name": "stdout",
     "output_type": "stream",
     "text": [
      "WARNING: ignoring environment value of R_HOME\n"
     ]
    },
    {
     "name": "stdout",
     "output_type": "stream",
     "text": [
      "WARNING: ignoring environment value of R_HOME\n"
     ]
    },
    {
     "name": "stdout",
     "output_type": "stream",
     "text": [
      "WARNING: ignoring environment value of R_HOME\n"
     ]
    },
    {
     "name": "stdout",
     "output_type": "stream",
     "text": [
      "WARNING: ignoring environment value of R_HOME\n"
     ]
    },
    {
     "name": "stdout",
     "output_type": "stream",
     "text": [
      "WARNING: ignoring environment value of R_HOME\n"
     ]
    },
    {
     "name": "stdout",
     "output_type": "stream",
     "text": [
      "WARNING: ignoring environment value of R_HOME\n"
     ]
    },
    {
     "name": "stdout",
     "output_type": "stream",
     "text": [
      "WARNING: ignoring environment value of R_HOME\n"
     ]
    },
    {
     "name": "stdout",
     "output_type": "stream",
     "text": [
      "WARNING: ignoring environment value of R_HOME\n"
     ]
    },
    {
     "name": "stdout",
     "output_type": "stream",
     "text": [
      "WARNING: ignoring environment value of R_HOME\n"
     ]
    },
    {
     "name": "stdout",
     "output_type": "stream",
     "text": [
      "WARNING: ignoring environment value of R_HOME\n"
     ]
    },
    {
     "name": "stdout",
     "output_type": "stream",
     "text": [
      "WARNING: ignoring environment value of R_HOME\n"
     ]
    },
    {
     "name": "stdout",
     "output_type": "stream",
     "text": [
      "WARNING: ignoring environment value of R_HOME\n"
     ]
    },
    {
     "name": "stdout",
     "output_type": "stream",
     "text": [
      "WARNING: ignoring environment value of R_HOME\n"
     ]
    },
    {
     "name": "stdout",
     "output_type": "stream",
     "text": [
      "WARNING: ignoring environment value of R_HOME\n"
     ]
    },
    {
     "name": "stdout",
     "output_type": "stream",
     "text": [
      "WARNING: ignoring environment value of R_HOME\n"
     ]
    },
    {
     "name": "stdout",
     "output_type": "stream",
     "text": [
      "WARNING: ignoring environment value of R_HOME\n"
     ]
    },
    {
     "name": "stdout",
     "output_type": "stream",
     "text": [
      "WARNING: ignoring environment value of R_HOME\n"
     ]
    },
    {
     "name": "stdout",
     "output_type": "stream",
     "text": [
      "WARNING: ignoring environment value of R_HOME\n"
     ]
    },
    {
     "name": "stdout",
     "output_type": "stream",
     "text": [
      "WARNING: ignoring environment value of R_HOME\n"
     ]
    },
    {
     "name": "stdout",
     "output_type": "stream",
     "text": [
      "WARNING: ignoring environment value of R_HOME\n"
     ]
    },
    {
     "name": "stdout",
     "output_type": "stream",
     "text": [
      "WARNING: ignoring environment value of R_HOME\n"
     ]
    },
    {
     "name": "stdout",
     "output_type": "stream",
     "text": [
      "WARNING: ignoring environment value of R_HOME\n"
     ]
    },
    {
     "name": "stdout",
     "output_type": "stream",
     "text": [
      "WARNING: ignoring environment value of R_HOME\n"
     ]
    },
    {
     "name": "stdout",
     "output_type": "stream",
     "text": [
      "WARNING: ignoring environment value of R_HOME\n"
     ]
    },
    {
     "name": "stdout",
     "output_type": "stream",
     "text": [
      "WARNING: ignoring environment value of R_HOME\n"
     ]
    },
    {
     "name": "stdout",
     "output_type": "stream",
     "text": [
      "WARNING: ignoring environment value of R_HOME\n"
     ]
    },
    {
     "name": "stdout",
     "output_type": "stream",
     "text": [
      "WARNING: ignoring environment value of R_HOME\n"
     ]
    },
    {
     "name": "stdout",
     "output_type": "stream",
     "text": [
      "WARNING: ignoring environment value of R_HOME\n"
     ]
    },
    {
     "name": "stdout",
     "output_type": "stream",
     "text": [
      "WARNING: ignoring environment value of R_HOME\n"
     ]
    },
    {
     "name": "stdout",
     "output_type": "stream",
     "text": [
      "WARNING: ignoring environment value of R_HOME\n"
     ]
    },
    {
     "name": "stdout",
     "output_type": "stream",
     "text": [
      "WARNING: ignoring environment value of R_HOME\n"
     ]
    },
    {
     "name": "stdout",
     "output_type": "stream",
     "text": [
      "WARNING: ignoring environment value of R_HOME\n"
     ]
    },
    {
     "name": "stdout",
     "output_type": "stream",
     "text": [
      "WARNING: ignoring environment value of R_HOME\n"
     ]
    },
    {
     "name": "stdout",
     "output_type": "stream",
     "text": [
      "WARNING: ignoring environment value of R_HOME\n"
     ]
    },
    {
     "name": "stdout",
     "output_type": "stream",
     "text": [
      "WARNING: ignoring environment value of R_HOME\n"
     ]
    },
    {
     "name": "stdout",
     "output_type": "stream",
     "text": [
      "WARNING: ignoring environment value of R_HOME\n"
     ]
    },
    {
     "name": "stdout",
     "output_type": "stream",
     "text": [
      "WARNING: ignoring environment value of R_HOME\n"
     ]
    },
    {
     "name": "stdout",
     "output_type": "stream",
     "text": [
      "WARNING: ignoring environment value of R_HOME\n"
     ]
    },
    {
     "name": "stdout",
     "output_type": "stream",
     "text": [
      "WARNING: ignoring environment value of R_HOME\n"
     ]
    },
    {
     "name": "stdout",
     "output_type": "stream",
     "text": [
      "WARNING: ignoring environment value of R_HOME\n"
     ]
    },
    {
     "name": "stdout",
     "output_type": "stream",
     "text": [
      "WARNING: ignoring environment value of R_HOME\n"
     ]
    },
    {
     "name": "stdout",
     "output_type": "stream",
     "text": [
      "WARNING: ignoring environment value of R_HOME\n"
     ]
    },
    {
     "name": "stdout",
     "output_type": "stream",
     "text": [
      "WARNING: ignoring environment value of R_HOME\n"
     ]
    },
    {
     "name": "stdout",
     "output_type": "stream",
     "text": [
      "WARNING: ignoring environment value of R_HOME\n"
     ]
    },
    {
     "name": "stdout",
     "output_type": "stream",
     "text": [
      "WARNING: ignoring environment value of R_HOME\n"
     ]
    },
    {
     "name": "stdout",
     "output_type": "stream",
     "text": [
      "WARNING: ignoring environment value of R_HOME\n"
     ]
    },
    {
     "name": "stdout",
     "output_type": "stream",
     "text": [
      "WARNING: ignoring environment value of R_HOME\n"
     ]
    },
    {
     "name": "stdout",
     "output_type": "stream",
     "text": [
      "WARNING: ignoring environment value of R_HOME\n"
     ]
    },
    {
     "name": "stdout",
     "output_type": "stream",
     "text": [
      "WARNING: ignoring environment value of R_HOME\n"
     ]
    },
    {
     "name": "stdout",
     "output_type": "stream",
     "text": [
      "WARNING: ignoring environment value of R_HOME\n"
     ]
    },
    {
     "name": "stdout",
     "output_type": "stream",
     "text": [
      "WARNING: ignoring environment value of R_HOME\n"
     ]
    },
    {
     "name": "stdout",
     "output_type": "stream",
     "text": [
      "WARNING: ignoring environment value of R_HOME\n"
     ]
    },
    {
     "name": "stdout",
     "output_type": "stream",
     "text": [
      "WARNING: ignoring environment value of R_HOME\n"
     ]
    },
    {
     "name": "stdout",
     "output_type": "stream",
     "text": [
      "WARNING: ignoring environment value of R_HOME\n"
     ]
    },
    {
     "name": "stdout",
     "output_type": "stream",
     "text": [
      "WARNING: ignoring environment value of R_HOME\n"
     ]
    },
    {
     "name": "stdout",
     "output_type": "stream",
     "text": [
      "WARNING: ignoring environment value of R_HOME\n"
     ]
    },
    {
     "name": "stdout",
     "output_type": "stream",
     "text": [
      "WARNING: ignoring environment value of R_HOME\n"
     ]
    },
    {
     "name": "stdout",
     "output_type": "stream",
     "text": [
      "WARNING: ignoring environment value of R_HOME\n"
     ]
    },
    {
     "name": "stdout",
     "output_type": "stream",
     "text": [
      "WARNING: ignoring environment value of R_HOME\n"
     ]
    },
    {
     "name": "stdout",
     "output_type": "stream",
     "text": [
      "WARNING: ignoring environment value of R_HOME\n"
     ]
    },
    {
     "name": "stdout",
     "output_type": "stream",
     "text": [
      "WARNING: ignoring environment value of R_HOME\n"
     ]
    },
    {
     "name": "stdout",
     "output_type": "stream",
     "text": [
      "WARNING: ignoring environment value of R_HOME\n"
     ]
    },
    {
     "name": "stdout",
     "output_type": "stream",
     "text": [
      "WARNING: ignoring environment value of R_HOME\n"
     ]
    },
    {
     "name": "stdout",
     "output_type": "stream",
     "text": [
      "WARNING: ignoring environment value of R_HOME\n"
     ]
    },
    {
     "name": "stdout",
     "output_type": "stream",
     "text": [
      "WARNING: ignoring environment value of R_HOME\n"
     ]
    },
    {
     "name": "stdout",
     "output_type": "stream",
     "text": [
      "WARNING: ignoring environment value of R_HOME\n"
     ]
    },
    {
     "name": "stdout",
     "output_type": "stream",
     "text": [
      "WARNING: ignoring environment value of R_HOME\n"
     ]
    },
    {
     "name": "stdout",
     "output_type": "stream",
     "text": [
      "WARNING: ignoring environment value of R_HOME\n"
     ]
    },
    {
     "name": "stdout",
     "output_type": "stream",
     "text": [
      "WARNING: ignoring environment value of R_HOME\n"
     ]
    },
    {
     "name": "stdout",
     "output_type": "stream",
     "text": [
      "WARNING: ignoring environment value of R_HOME\n"
     ]
    },
    {
     "name": "stdout",
     "output_type": "stream",
     "text": [
      "WARNING: ignoring environment value of R_HOME\n"
     ]
    },
    {
     "name": "stdout",
     "output_type": "stream",
     "text": [
      "WARNING: ignoring environment value of R_HOME\n"
     ]
    },
    {
     "name": "stdout",
     "output_type": "stream",
     "text": [
      "WARNING: ignoring environment value of R_HOME\n"
     ]
    },
    {
     "name": "stdout",
     "output_type": "stream",
     "text": [
      "WARNING: ignoring environment value of R_HOME\n"
     ]
    },
    {
     "name": "stdout",
     "output_type": "stream",
     "text": [
      "WARNING: ignoring environment value of R_HOME\n"
     ]
    },
    {
     "name": "stdout",
     "output_type": "stream",
     "text": [
      "WARNING: ignoring environment value of R_HOME\n"
     ]
    },
    {
     "name": "stdout",
     "output_type": "stream",
     "text": [
      "WARNING: ignoring environment value of R_HOME\n"
     ]
    },
    {
     "name": "stderr",
     "output_type": "stream",
     "text": [
      "<block>:1:39-51: info: atom does not occur in any rule head:\n",
      "  ap(2,7,#P0,s5)\n",
      "\n",
      "<block>:1:43-57: info: atom does not occur in any rule head:\n",
      "  ap(3,7,#P0,s2y4)\n",
      "\n",
      "<block>:1:45-60: info: atom does not occur in any rule head:\n",
      "  ap(2,7,#P0,empty)\n",
      "\n",
      "<block>:1:39-51: info: atom does not occur in any rule head:\n",
      "  ap(2,7,#P0,s5)\n",
      "\n",
      "<block>:1:43-57: info: atom does not occur in any rule head:\n",
      "  ap(3,7,#P0,s2y4)\n",
      "\n",
      "<block>:1:45-60: info: atom does not occur in any rule head:\n",
      "  ap(2,7,#P0,empty)\n",
      "\n",
      "<block>:1:39-51: info: atom does not occur in any rule head:\n",
      "  ap(2,7,#P0,s5)\n",
      "\n",
      "<block>:1:43-57: info: atom does not occur in any rule head:\n",
      "  ap(3,7,#P0,s2y4)\n",
      "\n",
      "<block>:1:45-60: info: atom does not occur in any rule head:\n",
      "  ap(2,7,#P0,empty)\n",
      "\n"
     ]
    },
    {
     "name": "stderr",
     "output_type": "stream",
     "text": [
      "<block>:1:39-51: info: atom does not occur in any rule head:\n",
      "  ap(2,7,#P0,s5)\n",
      "\n",
      "<block>:1:43-57: info: atom does not occur in any rule head:\n",
      "  ap(3,7,#P0,s2y4)\n",
      "\n",
      "<block>:1:45-60: info: atom does not occur in any rule head:\n",
      "  ap(2,7,#P0,empty)\n",
      "\n",
      "<block>:1:39-51: info: atom does not occur in any rule head:\n",
      "  ap(2,7,#P0,s5)\n",
      "\n",
      "<block>:1:43-57: info: atom does not occur in any rule head:\n",
      "  ap(3,7,#P0,s2y4)\n",
      "\n",
      "<block>:1:45-60: info: atom does not occur in any rule head:\n",
      "  ap(2,7,#P0,empty)\n",
      "\n",
      "<block>:1:39-51: info: atom does not occur in any rule head:\n",
      "  ap(2,7,#P0,s5)\n",
      "\n",
      "<block>:1:43-57: info: atom does not occur in any rule head:\n",
      "  ap(3,7,#P0,s2y4)\n",
      "\n",
      "<block>:1:45-60: info: atom does not occur in any rule head:\n",
      "  ap(2,7,#P0,empty)\n",
      "\n"
     ]
    },
    {
     "name": "stderr",
     "output_type": "stream",
     "text": [
      "<block>:1:39-51: info: atom does not occur in any rule head:\n",
      "  ap(6,7,#P0,s5)\n",
      "\n",
      "<block>:1:43-57: info: atom does not occur in any rule head:\n",
      "  ap(3,7,#P0,s2y4)\n",
      "\n",
      "<block>:1:45-60: info: atom does not occur in any rule head:\n",
      "  ap(6,7,#P0,empty)\n",
      "\n"
     ]
    },
    {
     "name": "stderr",
     "output_type": "stream",
     "text": [
      "<block>:1:39-51: info: atom does not occur in any rule head:\n",
      "  ap(6,7,#P0,s5)\n",
      "\n",
      "<block>:1:43-57: info: atom does not occur in any rule head:\n",
      "  ap(3,7,#P0,s2y4)\n",
      "\n",
      "<block>:1:45-60: info: atom does not occur in any rule head:\n",
      "  ap(6,7,#P0,empty)\n",
      "\n"
     ]
    },
    {
     "name": "stderr",
     "output_type": "stream",
     "text": [
      "<block>:1:39-51: info: atom does not occur in any rule head:\n",
      "  ap(6,7,#P0,s0)\n",
      "\n",
      "<block>:1:43-57: info: atom does not occur in any rule head:\n",
      "  ap(3,7,#P0,s2y4)\n",
      "\n",
      "<block>:1:45-60: info: atom does not occur in any rule head:\n",
      "  ap(0,7,#P0,empty)\n",
      "\n",
      "<block>:1:39-51: info: atom does not occur in any rule head:\n",
      "  ap(6,7,#P0,s0)\n",
      "\n",
      "<block>:1:43-57: info: atom does not occur in any rule head:\n",
      "  ap(3,7,#P0,s2y4)\n",
      "\n",
      "<block>:1:45-60: info: atom does not occur in any rule head:\n",
      "  ap(0,7,#P0,empty)\n",
      "\n",
      "<block>:1:39-51: info: atom does not occur in any rule head:\n",
      "  ap(6,7,#P0,s0)\n",
      "\n",
      "<block>:1:43-57: info: atom does not occur in any rule head:\n",
      "  ap(3,7,#P0,s2y4)\n",
      "\n",
      "<block>:1:45-60: info: atom does not occur in any rule head:\n",
      "  ap(0,7,#P0,empty)\n",
      "\n",
      "<block>:1:39-51: info: atom does not occur in any rule head:\n",
      "  ap(6,7,#P0,s0)\n",
      "\n",
      "<block>:1:43-57: info: atom does not occur in any rule head:\n",
      "  ap(3,7,#P0,s2y4)\n",
      "\n",
      "<block>:1:45-60: info: atom does not occur in any rule head:\n",
      "  ap(0,7,#P0,empty)\n",
      "\n"
     ]
    },
    {
     "name": "stderr",
     "output_type": "stream",
     "text": [
      "<block>:1:39-51: info: atom does not occur in any rule head:\n",
      "  ap(6,7,#P0,s0)\n",
      "\n",
      "<block>:1:43-57: info: atom does not occur in any rule head:\n",
      "  ap(3,7,#P0,s2y4)\n",
      "\n",
      "<block>:1:45-60: info: atom does not occur in any rule head:\n",
      "  ap(6,7,#P0,empty)\n",
      "\n",
      "<block>:1:39-51: info: atom does not occur in any rule head:\n",
      "  ap(6,7,#P0,s0)\n",
      "\n",
      "<block>:1:43-57: info: atom does not occur in any rule head:\n",
      "  ap(3,7,#P0,s2y4)\n",
      "\n",
      "<block>:1:45-60: info: atom does not occur in any rule head:\n",
      "  ap(6,7,#P0,empty)\n",
      "\n"
     ]
    },
    {
     "name": "stderr",
     "output_type": "stream",
     "text": [
      "<block>:1:39-51: info: atom does not occur in any rule head:\n",
      "  ap(6,7,#P0,s0)\n",
      "\n",
      "<block>:1:43-57: info: atom does not occur in any rule head:\n",
      "  ap(3,7,#P0,s2y4)\n",
      "\n",
      "<block>:1:45-60: info: atom does not occur in any rule head:\n",
      "  ap(0,7,#P0,empty)\n",
      "\n",
      "<block>:1:39-51: info: atom does not occur in any rule head:\n",
      "  ap(6,7,#P0,s0)\n",
      "\n",
      "<block>:1:43-57: info: atom does not occur in any rule head:\n",
      "  ap(3,7,#P0,s2y4)\n",
      "\n",
      "<block>:1:45-60: info: atom does not occur in any rule head:\n",
      "  ap(0,7,#P0,empty)\n",
      "\n",
      "<block>:1:39-51: info: atom does not occur in any rule head:\n",
      "  ap(6,7,#P0,s0)\n",
      "\n",
      "<block>:1:43-57: info: atom does not occur in any rule head:\n",
      "  ap(3,7,#P0,s2y4)\n",
      "\n",
      "<block>:1:45-60: info: atom does not occur in any rule head:\n",
      "  ap(0,7,#P0,empty)\n",
      "\n",
      "<block>:1:39-51: info: atom does not occur in any rule head:\n",
      "  ap(6,7,#P0,s0)\n",
      "\n",
      "<block>:1:43-57: info: atom does not occur in any rule head:\n",
      "  ap(3,7,#P0,s2y4)\n",
      "\n",
      "<block>:1:45-60: info: atom does not occur in any rule head:\n",
      "  ap(0,7,#P0,empty)\n",
      "\n"
     ]
    },
    {
     "name": "stderr",
     "output_type": "stream",
     "text": [
      "<block>:1:39-51: info: atom does not occur in any rule head:\n",
      "  ap(6,7,#P0,s0)\n",
      "\n",
      "<block>:1:43-57: info: atom does not occur in any rule head:\n",
      "  ap(3,7,#P0,s2y4)\n",
      "\n",
      "<block>:1:45-60: info: atom does not occur in any rule head:\n",
      "  ap(6,7,#P0,empty)\n",
      "\n",
      "<block>:1:39-51: info: atom does not occur in any rule head:\n",
      "  ap(6,7,#P0,s0)\n",
      "\n",
      "<block>:1:43-57: info: atom does not occur in any rule head:\n",
      "  ap(3,7,#P0,s2y6)\n",
      "\n",
      "<block>:1:45-60: info: atom does not occur in any rule head:\n",
      "  ap(0,7,#P0,empty)\n",
      "\n"
     ]
    },
    {
     "name": "stderr",
     "output_type": "stream",
     "text": [
      "<block>:1:39-51: info: atom does not occur in any rule head:\n",
      "  ap(6,7,#P0,s5)\n",
      "\n",
      "<block>:1:43-57: info: atom does not occur in any rule head:\n",
      "  ap(3,7,#P0,s2y4)\n",
      "\n",
      "<block>:1:45-60: info: atom does not occur in any rule head:\n",
      "  ap(6,7,#P0,empty)\n",
      "\n"
     ]
    },
    {
     "name": "stderr",
     "output_type": "stream",
     "text": [
      "<block>:1:39-51: info: atom does not occur in any rule head:\n",
      "  ap(6,7,#P0,s5)\n",
      "\n",
      "<block>:1:43-57: info: atom does not occur in any rule head:\n",
      "  ap(3,7,#P0,s2y4)\n",
      "\n",
      "<block>:1:45-60: info: atom does not occur in any rule head:\n",
      "  ap(6,7,#P0,empty)\n",
      "\n"
     ]
    },
    {
     "name": "stderr",
     "output_type": "stream",
     "text": [
      "<block>:1:39-51: info: atom does not occur in any rule head:\n",
      "  ap(2,7,#P0,s5)\n",
      "\n",
      "<block>:1:43-57: info: atom does not occur in any rule head:\n",
      "  ap(3,7,#P0,s2y4)\n",
      "\n",
      "<block>:1:45-60: info: atom does not occur in any rule head:\n",
      "  ap(2,7,#P0,empty)\n",
      "\n",
      "<block>:1:39-51: info: atom does not occur in any rule head:\n",
      "  ap(2,7,#P0,s5)\n",
      "\n",
      "<block>:1:43-57: info: atom does not occur in any rule head:\n",
      "  ap(3,7,#P0,s2y4)\n",
      "\n",
      "<block>:1:45-60: info: atom does not occur in any rule head:\n",
      "  ap(2,7,#P0,empty)\n",
      "\n",
      "<block>:1:39-51: info: atom does not occur in any rule head:\n",
      "  ap(2,7,#P0,s5)\n",
      "\n",
      "<block>:1:43-57: info: atom does not occur in any rule head:\n",
      "  ap(3,7,#P0,s2y4)\n",
      "\n",
      "<block>:1:45-60: info: atom does not occur in any rule head:\n",
      "  ap(2,7,#P0,empty)\n",
      "\n",
      "<block>:1:39-51: info: atom does not occur in any rule head:\n",
      "  ap(2,7,#P0,s5)\n",
      "\n",
      "<block>:1:43-57: info: atom does not occur in any rule head:\n",
      "  ap(3,7,#P0,s2y4)\n",
      "\n",
      "<block>:1:45-60: info: atom does not occur in any rule head:\n",
      "  ap(2,7,#P0,empty)\n",
      "\n"
     ]
    },
    {
     "name": "stderr",
     "output_type": "stream",
     "text": [
      "<block>:1:39-51: info: atom does not occur in any rule head:\n",
      "  ap(2,7,#P0,s5)\n",
      "\n",
      "<block>:1:43-57: info: atom does not occur in any rule head:\n",
      "  ap(3,7,#P0,s2y4)\n",
      "\n",
      "<block>:1:45-60: info: atom does not occur in any rule head:\n",
      "  ap(2,7,#P0,empty)\n",
      "\n"
     ]
    },
    {
     "name": "stderr",
     "output_type": "stream",
     "text": [
      "<block>:1:39-51: info: atom does not occur in any rule head:\n",
      "  ap(2,7,#P0,s5)\n",
      "\n",
      "<block>:1:43-57: info: atom does not occur in any rule head:\n",
      "  ap(3,7,#P0,s2y4)\n",
      "\n",
      "<block>:1:45-60: info: atom does not occur in any rule head:\n",
      "  ap(2,7,#P0,empty)\n",
      "\n",
      "<block>:1:39-51: info: atom does not occur in any rule head:\n",
      "  ap(2,7,#P0,s5)\n",
      "\n",
      "<block>:1:43-57: info: atom does not occur in any rule head:\n",
      "  ap(3,7,#P0,s2y4)\n",
      "\n",
      "<block>:1:45-60: info: atom does not occur in any rule head:\n",
      "  ap(2,7,#P0,empty)\n",
      "\n",
      "<block>:1:39-51: info: atom does not occur in any rule head:\n",
      "  ap(2,7,#P0,s5)\n",
      "\n",
      "<block>:1:43-57: info: atom does not occur in any rule head:\n",
      "  ap(3,7,#P0,s2y4)\n",
      "\n",
      "<block>:1:45-60: info: atom does not occur in any rule head:\n",
      "  ap(2,7,#P0,empty)\n",
      "\n",
      "<block>:1:39-51: info: atom does not occur in any rule head:\n",
      "  ap(2,7,#P0,s5)\n",
      "\n",
      "<block>:1:43-57: info: atom does not occur in any rule head:\n",
      "  ap(3,7,#P0,s2y6)\n",
      "\n",
      "<block>:1:45-60: info: atom does not occur in any rule head:\n",
      "  ap(2,7,#P0,empty)\n",
      "\n"
     ]
    },
    {
     "name": "stderr",
     "output_type": "stream",
     "text": [
      "<block>:1:39-51: info: atom does not occur in any rule head:\n",
      "  ap(2,7,#P0,s5)\n",
      "\n",
      "<block>:1:43-57: info: atom does not occur in any rule head:\n",
      "  ap(3,7,#P0,s2y6)\n",
      "\n",
      "<block>:1:45-60: info: atom does not occur in any rule head:\n",
      "  ap(2,7,#P0,empty)\n",
      "\n"
     ]
    },
    {
     "name": "stderr",
     "output_type": "stream",
     "text": [
      "<block>:1:39-51: info: atom does not occur in any rule head:\n",
      "  ap(1,7,#P0,s4)\n",
      "\n",
      "<block>:1:43-57: info: atom does not occur in any rule head:\n",
      "  ap(3,7,#P0,s2y4)\n",
      "\n",
      "<block>:1:45-60: info: atom does not occur in any rule head:\n",
      "  ap(1,7,#P0,empty)\n",
      "\n",
      "<block>:1:39-51: info: atom does not occur in any rule head:\n",
      "  ap(1,7,#P0,s4)\n",
      "\n",
      "<block>:1:43-57: info: atom does not occur in any rule head:\n",
      "  ap(3,7,#P0,s2y4)\n",
      "\n",
      "<block>:1:45-60: info: atom does not occur in any rule head:\n",
      "  ap(1,7,#P0,empty)\n",
      "\n",
      "<block>:1:39-51: info: atom does not occur in any rule head:\n",
      "  ap(1,7,#P0,s4)\n",
      "\n",
      "<block>:1:43-57: info: atom does not occur in any rule head:\n",
      "  ap(3,7,#P0,s2y4)\n",
      "\n",
      "<block>:1:45-60: info: atom does not occur in any rule head:\n",
      "  ap(1,7,#P0,empty)\n",
      "\n",
      "<block>:1:39-51: info: atom does not occur in any rule head:\n",
      "  ap(1,7,#P0,s4)\n",
      "\n",
      "<block>:1:43-57: info: atom does not occur in any rule head:\n",
      "  ap(3,7,#P0,s2y4)\n",
      "\n",
      "<block>:1:45-60: info: atom does not occur in any rule head:\n",
      "  ap(1,7,#P0,empty)\n",
      "\n"
     ]
    },
    {
     "name": "stderr",
     "output_type": "stream",
     "text": [
      "<block>:1:39-51: info: atom does not occur in any rule head:\n",
      "  ap(1,7,#P0,s4)\n",
      "\n",
      "<block>:1:43-57: info: atom does not occur in any rule head:\n",
      "  ap(3,7,#P0,s2y4)\n",
      "\n",
      "<block>:1:45-60: info: atom does not occur in any rule head:\n",
      "  ap(1,7,#P0,empty)\n",
      "\n",
      "<block>:1:39-51: info: atom does not occur in any rule head:\n",
      "  ap(1,7,#P0,s4)\n",
      "\n",
      "<block>:1:43-57: info: atom does not occur in any rule head:\n",
      "  ap(3,7,#P0,s2y4)\n",
      "\n",
      "<block>:1:45-60: info: atom does not occur in any rule head:\n",
      "  ap(1,7,#P0,empty)\n",
      "\n",
      "<block>:1:39-51: info: atom does not occur in any rule head:\n",
      "  ap(1,7,#P0,s4)\n",
      "\n",
      "<block>:1:43-57: info: atom does not occur in any rule head:\n",
      "  ap(3,7,#P0,s2y4)\n",
      "\n",
      "<block>:1:45-60: info: atom does not occur in any rule head:\n",
      "  ap(1,7,#P0,empty)\n",
      "\n"
     ]
    },
    {
     "name": "stderr",
     "output_type": "stream",
     "text": [
      "<block>:1:39-51: info: atom does not occur in any rule head:\n",
      "  ap(1,7,#P0,s4)\n",
      "\n",
      "<block>:1:43-57: info: atom does not occur in any rule head:\n",
      "  ap(3,7,#P0,s2y6)\n",
      "\n",
      "<block>:1:45-60: info: atom does not occur in any rule head:\n",
      "  ap(1,7,#P0,empty)\n",
      "\n",
      "<block>:1:39-51: info: atom does not occur in any rule head:\n",
      "  ap(1,7,#P0,s4)\n",
      "\n",
      "<block>:1:43-57: info: atom does not occur in any rule head:\n",
      "  ap(3,7,#P0,s2y6)\n",
      "\n",
      "<block>:1:45-60: info: atom does not occur in any rule head:\n",
      "  ap(1,7,#P0,empty)\n",
      "\n",
      "<block>:1:39-51: info: atom does not occur in any rule head:\n",
      "  ap(1,7,#P0,s4)\n",
      "\n",
      "<block>:1:43-57: info: atom does not occur in any rule head:\n",
      "  ap(3,7,#P0,s2y6)\n",
      "\n",
      "<block>:1:45-60: info: atom does not occur in any rule head:\n",
      "  ap(1,7,#P0,empty)\n",
      "\n"
     ]
    },
    {
     "name": "stderr",
     "output_type": "stream",
     "text": [
      "<block>:1:39-51: info: atom does not occur in any rule head:\n",
      "  ap(1,7,#P0,s4)\n",
      "\n",
      "<block>:1:43-57: info: atom does not occur in any rule head:\n",
      "  ap(3,7,#P0,s2y6)\n",
      "\n",
      "<block>:1:45-60: info: atom does not occur in any rule head:\n",
      "  ap(1,7,#P0,empty)\n",
      "\n"
     ]
    },
    {
     "name": "stderr",
     "output_type": "stream",
     "text": [
      "<block>:1:39-51: info: atom does not occur in any rule head:\n",
      "  ap(1,7,#P0,s4)\n",
      "\n",
      "<block>:1:43-57: info: atom does not occur in any rule head:\n",
      "  ap(3,7,#P0,s2y4)\n",
      "\n",
      "<block>:1:45-60: info: atom does not occur in any rule head:\n",
      "  ap(1,7,#P0,empty)\n",
      "\n",
      "<block>:1:39-51: info: atom does not occur in any rule head:\n",
      "  ap(1,7,#P0,s4)\n",
      "\n",
      "<block>:1:43-57: info: atom does not occur in any rule head:\n",
      "  ap(3,7,#P0,s2y4)\n",
      "\n",
      "<block>:1:45-60: info: atom does not occur in any rule head:\n",
      "  ap(1,7,#P0,empty)\n",
      "\n",
      "<block>:1:39-51: info: atom does not occur in any rule head:\n",
      "  ap(1,7,#P0,s4)\n",
      "\n",
      "<block>:1:43-57: info: atom does not occur in any rule head:\n",
      "  ap(3,7,#P0,s2y4)\n",
      "\n",
      "<block>:1:45-60: info: atom does not occur in any rule head:\n",
      "  ap(1,7,#P0,empty)\n",
      "\n",
      "<block>:1:39-51: info: atom does not occur in any rule head:\n",
      "  ap(1,7,#P0,s4)\n",
      "\n",
      "<block>:1:43-57: info: atom does not occur in any rule head:\n",
      "  ap(3,7,#P0,s2y6)\n",
      "\n",
      "<block>:1:45-60: info: atom does not occur in any rule head:\n",
      "  ap(1,7,#P0,empty)\n",
      "\n"
     ]
    },
    {
     "name": "stderr",
     "output_type": "stream",
     "text": [
      "<block>:1:39-51: info: atom does not occur in any rule head:\n",
      "  ap(1,7,#P0,s4)\n",
      "\n",
      "<block>:1:43-57: info: atom does not occur in any rule head:\n",
      "  ap(3,7,#P0,s2y6)\n",
      "\n",
      "<block>:1:45-60: info: atom does not occur in any rule head:\n",
      "  ap(1,7,#P0,empty)\n",
      "\n"
     ]
    },
    {
     "name": "stderr",
     "output_type": "stream",
     "text": [
      "<block>:1:39-51: info: atom does not occur in any rule head:\n",
      "  ap(1,7,#P0,s2)\n",
      "\n",
      "<block>:1:43-57: info: atom does not occur in any rule head:\n",
      "  ap(3,7,#P0,s2y4)\n",
      "\n",
      "<block>:1:45-60: info: atom does not occur in any rule head:\n",
      "  ap(6,7,#P0,empty)\n",
      "\n",
      "<block>:1:39-51: info: atom does not occur in any rule head:\n",
      "  ap(1,7,#P0,s2)\n",
      "\n",
      "<block>:1:43-57: info: atom does not occur in any rule head:\n",
      "  ap(3,7,#P0,s2y4)\n",
      "\n",
      "<block>:1:45-60: info: atom does not occur in any rule head:\n",
      "  ap(6,7,#P0,empty)\n",
      "\n",
      "<block>:1:39-51: info: atom does not occur in any rule head:\n",
      "  ap(1,7,#P0,s2)\n",
      "\n",
      "<block>:1:43-57: info: atom does not occur in any rule head:\n",
      "  ap(3,7,#P0,s2y4)\n",
      "\n",
      "<block>:1:45-60: info: atom does not occur in any rule head:\n",
      "  ap(6,7,#P0,empty)\n",
      "\n",
      "<block>:1:39-51: info: atom does not occur in any rule head:\n",
      "  ap(1,7,#P0,s2)\n",
      "\n",
      "<block>:1:43-57: info: atom does not occur in any rule head:\n",
      "  ap(3,7,#P0,s2y4)\n",
      "\n",
      "<block>:1:45-60: info: atom does not occur in any rule head:\n",
      "  ap(6,7,#P0,empty)\n",
      "\n"
     ]
    },
    {
     "name": "stderr",
     "output_type": "stream",
     "text": [
      "<block>:1:39-51: info: atom does not occur in any rule head:\n",
      "  ap(1,7,#P0,s2)\n",
      "\n",
      "<block>:1:43-57: info: atom does not occur in any rule head:\n",
      "  ap(3,7,#P0,s2y4)\n",
      "\n",
      "<block>:1:45-60: info: atom does not occur in any rule head:\n",
      "  ap(6,7,#P0,empty)\n",
      "\n",
      "<block>:1:39-51: info: atom does not occur in any rule head:\n",
      "  ap(1,7,#P0,s2)\n",
      "\n",
      "<block>:1:43-57: info: atom does not occur in any rule head:\n",
      "  ap(3,7,#P0,s2y4)\n",
      "\n",
      "<block>:1:45-60: info: atom does not occur in any rule head:\n",
      "  ap(6,7,#P0,empty)\n",
      "\n",
      "<block>:1:39-51: info: atom does not occur in any rule head:\n",
      "  ap(1,7,#P0,s2)\n",
      "\n",
      "<block>:1:43-57: info: atom does not occur in any rule head:\n",
      "  ap(3,7,#P0,s2y4)\n",
      "\n",
      "<block>:1:45-60: info: atom does not occur in any rule head:\n",
      "  ap(6,7,#P0,empty)\n",
      "\n",
      "<block>:1:39-51: info: atom does not occur in any rule head:\n",
      "  ap(1,7,#P0,s2)\n",
      "\n",
      "<block>:1:43-57: info: atom does not occur in any rule head:\n",
      "  ap(3,7,#P0,s2y4)\n",
      "\n",
      "<block>:1:45-60: info: atom does not occur in any rule head:\n",
      "  ap(6,7,#P0,empty)\n",
      "\n"
     ]
    },
    {
     "name": "stderr",
     "output_type": "stream",
     "text": [
      "<block>:1:39-51: info: atom does not occur in any rule head:\n",
      "  ap(1,7,#P0,s2)\n",
      "\n",
      "<block>:1:43-57: info: atom does not occur in any rule head:\n",
      "  ap(3,7,#P0,s2y4)\n",
      "\n",
      "<block>:1:45-60: info: atom does not occur in any rule head:\n",
      "  ap(6,7,#P0,empty)\n",
      "\n",
      "<block>:1:39-51: info: atom does not occur in any rule head:\n",
      "  ap(1,7,#P0,s2)\n",
      "\n",
      "<block>:1:43-57: info: atom does not occur in any rule head:\n",
      "  ap(3,7,#P0,s2y4)\n",
      "\n",
      "<block>:1:45-60: info: atom does not occur in any rule head:\n",
      "  ap(6,7,#P0,empty)\n",
      "\n"
     ]
    },
    {
     "name": "stderr",
     "output_type": "stream",
     "text": [
      "<block>:1:39-51: info: atom does not occur in any rule head:\n",
      "  ap(2,7,#P0,s5)\n",
      "\n",
      "<block>:1:43-57: info: atom does not occur in any rule head:\n",
      "  ap(3,7,#P0,s2y4)\n",
      "\n",
      "<block>:1:45-60: info: atom does not occur in any rule head:\n",
      "  ap(2,7,#P0,empty)\n",
      "\n",
      "<block>:1:39-51: info: atom does not occur in any rule head:\n",
      "  ap(2,7,#P0,s5)\n",
      "\n",
      "<block>:1:43-57: info: atom does not occur in any rule head:\n",
      "  ap(3,7,#P0,s2y4)\n",
      "\n",
      "<block>:1:45-60: info: atom does not occur in any rule head:\n",
      "  ap(2,7,#P0,empty)\n",
      "\n",
      "<block>:1:39-51: info: atom does not occur in any rule head:\n",
      "  ap(2,7,#P0,s5)\n",
      "\n",
      "<block>:1:43-57: info: atom does not occur in any rule head:\n",
      "  ap(3,7,#P0,s2y4)\n",
      "\n",
      "<block>:1:45-60: info: atom does not occur in any rule head:\n",
      "  ap(2,7,#P0,empty)\n",
      "\n"
     ]
    },
    {
     "name": "stderr",
     "output_type": "stream",
     "text": [
      "<block>:1:39-51: info: atom does not occur in any rule head:\n",
      "  ap(2,7,#P0,s5)\n",
      "\n",
      "<block>:1:43-57: info: atom does not occur in any rule head:\n",
      "  ap(3,7,#P0,s2y4)\n",
      "\n",
      "<block>:1:45-60: info: atom does not occur in any rule head:\n",
      "  ap(2,7,#P0,empty)\n",
      "\n",
      "<block>:1:39-51: info: atom does not occur in any rule head:\n",
      "  ap(2,7,#P0,s5)\n",
      "\n",
      "<block>:1:43-57: info: atom does not occur in any rule head:\n",
      "  ap(3,7,#P0,s2y4)\n",
      "\n",
      "<block>:1:45-60: info: atom does not occur in any rule head:\n",
      "  ap(2,7,#P0,empty)\n",
      "\n",
      "<block>:1:39-51: info: atom does not occur in any rule head:\n",
      "  ap(2,7,#P0,s5)\n",
      "\n",
      "<block>:1:43-57: info: atom does not occur in any rule head:\n",
      "  ap(3,7,#P0,s2y4)\n",
      "\n",
      "<block>:1:45-60: info: atom does not occur in any rule head:\n",
      "  ap(2,7,#P0,empty)\n",
      "\n"
     ]
    },
    {
     "name": "stderr",
     "output_type": "stream",
     "text": [
      "<block>:1:39-51: info: atom does not occur in any rule head:\n",
      "  ap(2,7,#P0,s5)\n",
      "\n",
      "<block>:1:43-57: info: atom does not occur in any rule head:\n",
      "  ap(3,7,#P0,s2y4)\n",
      "\n",
      "<block>:1:45-60: info: atom does not occur in any rule head:\n",
      "  ap(2,7,#P0,empty)\n",
      "\n"
     ]
    },
    {
     "name": "stderr",
     "output_type": "stream",
     "text": [
      "<block>:1:39-51: info: atom does not occur in any rule head:\n",
      "  ap(2,7,#P0,s5)\n",
      "\n",
      "<block>:1:43-57: info: atom does not occur in any rule head:\n",
      "  ap(3,7,#P0,s2y4)\n",
      "\n",
      "<block>:1:45-60: info: atom does not occur in any rule head:\n",
      "  ap(2,7,#P0,empty)\n",
      "\n",
      "<block>:1:39-51: info: atom does not occur in any rule head:\n",
      "  ap(2,7,#P0,s5)\n",
      "\n",
      "<block>:1:43-57: info: atom does not occur in any rule head:\n",
      "  ap(3,7,#P0,s2y4)\n",
      "\n",
      "<block>:1:45-60: info: atom does not occur in any rule head:\n",
      "  ap(2,7,#P0,empty)\n",
      "\n",
      "<block>:1:39-51: info: atom does not occur in any rule head:\n",
      "  ap(2,7,#P0,s5)\n",
      "\n",
      "<block>:1:43-57: info: atom does not occur in any rule head:\n",
      "  ap(3,7,#P0,s2y4)\n",
      "\n",
      "<block>:1:45-60: info: atom does not occur in any rule head:\n",
      "  ap(2,7,#P0,empty)\n",
      "\n",
      "<block>:1:39-51: info: atom does not occur in any rule head:\n",
      "  ap(2,7,#P0,s5)\n",
      "\n",
      "<block>:1:43-57: info: atom does not occur in any rule head:\n",
      "  ap(3,7,#P0,s2y4)\n",
      "\n",
      "<block>:1:45-60: info: atom does not occur in any rule head:\n",
      "  ap(2,7,#P0,empty)\n",
      "\n"
     ]
    },
    {
     "name": "stderr",
     "output_type": "stream",
     "text": [
      "<block>:1:39-51: info: atom does not occur in any rule head:\n",
      "  ap(2,7,#P0,s5)\n",
      "\n",
      "<block>:1:43-57: info: atom does not occur in any rule head:\n",
      "  ap(3,7,#P0,s2y4)\n",
      "\n",
      "<block>:1:45-60: info: atom does not occur in any rule head:\n",
      "  ap(2,7,#P0,empty)\n",
      "\n",
      "<block>:1:39-51: info: atom does not occur in any rule head:\n",
      "  ap(2,7,#P0,s5)\n",
      "\n",
      "<block>:1:43-57: info: atom does not occur in any rule head:\n",
      "  ap(3,7,#P0,s2y4)\n",
      "\n",
      "<block>:1:45-60: info: atom does not occur in any rule head:\n",
      "  ap(2,7,#P0,empty)\n",
      "\n"
     ]
    },
    {
     "name": "stderr",
     "output_type": "stream",
     "text": [
      "<block>:1:39-51: info: atom does not occur in any rule head:\n",
      "  ap(2,7,#P0,s5)\n",
      "\n",
      "<block>:1:43-57: info: atom does not occur in any rule head:\n",
      "  ap(3,7,#P0,s2y4)\n",
      "\n",
      "<block>:1:45-60: info: atom does not occur in any rule head:\n",
      "  ap(2,7,#P0,empty)\n",
      "\n"
     ]
    },
    {
     "name": "stderr",
     "output_type": "stream",
     "text": [
      "<block>:1:39-51: info: atom does not occur in any rule head:\n",
      "  ap(2,7,#P0,s5)\n",
      "\n",
      "<block>:1:43-57: info: atom does not occur in any rule head:\n",
      "  ap(3,7,#P0,s2y4)\n",
      "\n",
      "<block>:1:45-60: info: atom does not occur in any rule head:\n",
      "  ap(2,7,#P0,empty)\n",
      "\n",
      "<block>:1:45-60: info: atom does not occur in any rule head:\n",
      "  ap(0,6,#P0,empty)\n",
      "\n"
     ]
    },
    {
     "name": "stderr",
     "output_type": "stream",
     "text": [
      "<block>:1:39-51: info: atom does not occur in any rule head:\n",
      "  ap(2,7,#P0,s5)\n",
      "\n",
      "<block>:1:43-57: info: atom does not occur in any rule head:\n",
      "  ap(3,7,#P0,s2y4)\n",
      "\n",
      "<block>:1:45-60: info: atom does not occur in any rule head:\n",
      "  ap(2,7,#P0,empty)\n",
      "\n",
      "<block>:1:45-60: info: atom does not occur in any rule head:\n",
      "  ap(0,6,#P0,empty)\n",
      "\n"
     ]
    },
    {
     "name": "stderr",
     "output_type": "stream",
     "text": [
      "<block>:1:39-51: info: atom does not occur in any rule head:\n",
      "  ap(2,7,#P0,s5)\n",
      "\n",
      "<block>:1:43-57: info: atom does not occur in any rule head:\n",
      "  ap(3,7,#P0,s2y4)\n",
      "\n",
      "<block>:1:45-60: info: atom does not occur in any rule head:\n",
      "  ap(2,7,#P0,empty)\n",
      "\n"
     ]
    },
    {
     "name": "stderr",
     "output_type": "stream",
     "text": [
      "<block>:1:39-51: info: atom does not occur in any rule head:\n",
      "  ap(2,7,#P0,s5)\n",
      "\n",
      "<block>:1:43-57: info: atom does not occur in any rule head:\n",
      "  ap(3,7,#P0,s2y4)\n",
      "\n",
      "<block>:1:45-60: info: atom does not occur in any rule head:\n",
      "  ap(2,7,#P0,empty)\n",
      "\n"
     ]
    },
    {
     "name": "stderr",
     "output_type": "stream",
     "text": [
      "<block>:1:39-51: info: atom does not occur in any rule head:\n",
      "  ap(2,7,#P0,s5)\n",
      "\n",
      "<block>:1:43-57: info: atom does not occur in any rule head:\n",
      "  ap(3,7,#P0,s2y4)\n",
      "\n",
      "<block>:1:45-60: info: atom does not occur in any rule head:\n",
      "  ap(2,7,#P0,empty)\n",
      "\n"
     ]
    },
    {
     "name": "stderr",
     "output_type": "stream",
     "text": [
      "<block>:1:39-51: info: atom does not occur in any rule head:\n",
      "  ap(2,7,#P0,s5)\n",
      "\n",
      "<block>:1:43-57: info: atom does not occur in any rule head:\n",
      "  ap(3,7,#P0,s2y4)\n",
      "\n",
      "<block>:1:45-60: info: atom does not occur in any rule head:\n",
      "  ap(2,7,#P0,empty)\n",
      "\n"
     ]
    },
    {
     "name": "stderr",
     "output_type": "stream",
     "text": [
      "<block>:1:39-51: info: atom does not occur in any rule head:\n",
      "  ap(2,7,#P0,s1)\n",
      "\n",
      "<block>:1:43-57: info: atom does not occur in any rule head:\n",
      "  ap(3,7,#P0,s2y4)\n",
      "\n",
      "<block>:1:45-60: info: atom does not occur in any rule head:\n",
      "  ap(2,7,#P0,empty)\n",
      "\n",
      "<block>:1:39-51: info: atom does not occur in any rule head:\n",
      "  ap(2,7,#P0,s1)\n",
      "\n",
      "<block>:1:43-57: info: atom does not occur in any rule head:\n",
      "  ap(3,7,#P0,s2y4)\n",
      "\n",
      "<block>:1:45-60: info: atom does not occur in any rule head:\n",
      "  ap(2,7,#P0,empty)\n",
      "\n"
     ]
    },
    {
     "name": "stderr",
     "output_type": "stream",
     "text": [
      "<block>:1:39-51: info: atom does not occur in any rule head:\n",
      "  ap(2,7,#P0,s1)\n",
      "\n",
      "<block>:1:43-57: info: atom does not occur in any rule head:\n",
      "  ap(3,7,#P0,s2y4)\n",
      "\n",
      "<block>:1:45-60: info: atom does not occur in any rule head:\n",
      "  ap(2,7,#P0,empty)\n",
      "\n",
      "<block>:1:39-51: info: atom does not occur in any rule head:\n",
      "  ap(2,7,#P0,s1)\n",
      "\n",
      "<block>:1:43-57: info: atom does not occur in any rule head:\n",
      "  ap(3,7,#P0,s2y4)\n",
      "\n",
      "<block>:1:45-60: info: atom does not occur in any rule head:\n",
      "  ap(2,7,#P0,empty)\n",
      "\n"
     ]
    },
    {
     "name": "stderr",
     "output_type": "stream",
     "text": [
      "<block>:1:39-51: info: atom does not occur in any rule head:\n",
      "  ap(6,7,#P0,s0)\n",
      "\n",
      "<block>:1:43-57: info: atom does not occur in any rule head:\n",
      "  ap(3,7,#P0,s2y4)\n",
      "\n",
      "<block>:1:45-60: info: atom does not occur in any rule head:\n",
      "  ap(6,7,#P0,empty)\n",
      "\n",
      "<block>:1:39-51: info: atom does not occur in any rule head:\n",
      "  ap(6,7,#P0,s0)\n",
      "\n",
      "<block>:1:43-57: info: atom does not occur in any rule head:\n",
      "  ap(3,7,#P0,s2y4)\n",
      "\n",
      "<block>:1:45-60: info: atom does not occur in any rule head:\n",
      "  ap(6,7,#P0,empty)\n",
      "\n",
      "<block>:1:39-51: info: atom does not occur in any rule head:\n",
      "  ap(6,7,#P0,s0)\n",
      "\n",
      "<block>:1:43-57: info: atom does not occur in any rule head:\n",
      "  ap(3,7,#P0,s2y4)\n",
      "\n",
      "<block>:1:45-60: info: atom does not occur in any rule head:\n",
      "  ap(6,7,#P0,empty)\n",
      "\n"
     ]
    },
    {
     "name": "stderr",
     "output_type": "stream",
     "text": [
      "<block>:1:39-51: info: atom does not occur in any rule head:\n",
      "  ap(6,7,#P0,s0)\n",
      "\n",
      "<block>:1:43-57: info: atom does not occur in any rule head:\n",
      "  ap(3,7,#P0,s2y4)\n",
      "\n",
      "<block>:1:45-60: info: atom does not occur in any rule head:\n",
      "  ap(6,7,#P0,empty)\n",
      "\n"
     ]
    },
    {
     "name": "stderr",
     "output_type": "stream",
     "text": [
      "<block>:1:39-51: info: atom does not occur in any rule head:\n",
      "  ap(6,7,#P0,s0)\n",
      "\n",
      "<block>:1:43-57: info: atom does not occur in any rule head:\n",
      "  ap(3,7,#P0,s2y4)\n",
      "\n",
      "<block>:1:45-60: info: atom does not occur in any rule head:\n",
      "  ap(6,7,#P0,empty)\n",
      "\n"
     ]
    },
    {
     "name": "stderr",
     "output_type": "stream",
     "text": [
      "<block>:1:39-51: info: atom does not occur in any rule head:\n",
      "  ap(0,7,#P0,s4)\n",
      "\n",
      "<block>:1:43-57: info: atom does not occur in any rule head:\n",
      "  ap(3,7,#P0,s2y4)\n",
      "\n",
      "<block>:1:45-60: info: atom does not occur in any rule head:\n",
      "  ap(0,7,#P0,empty)\n",
      "\n",
      "<block>:1:39-51: info: atom does not occur in any rule head:\n",
      "  ap(0,7,#P0,s4)\n",
      "\n",
      "<block>:1:43-57: info: atom does not occur in any rule head:\n",
      "  ap(3,7,#P0,s2y4)\n",
      "\n",
      "<block>:1:45-60: info: atom does not occur in any rule head:\n",
      "  ap(0,7,#P0,empty)\n",
      "\n",
      "<block>:1:39-51: info: atom does not occur in any rule head:\n",
      "  ap(0,7,#P0,s4)\n",
      "\n",
      "<block>:1:43-57: info: atom does not occur in any rule head:\n",
      "  ap(3,7,#P0,s2y4)\n",
      "\n",
      "<block>:1:45-60: info: atom does not occur in any rule head:\n",
      "  ap(0,7,#P0,empty)\n",
      "\n"
     ]
    },
    {
     "name": "stderr",
     "output_type": "stream",
     "text": [
      "<block>:1:39-51: info: atom does not occur in any rule head:\n",
      "  ap(0,7,#P0,s4)\n",
      "\n",
      "<block>:1:43-57: info: atom does not occur in any rule head:\n",
      "  ap(3,7,#P0,s2y4)\n",
      "\n",
      "<block>:1:45-60: info: atom does not occur in any rule head:\n",
      "  ap(0,7,#P0,empty)\n",
      "\n",
      "<block>:1:39-51: info: atom does not occur in any rule head:\n",
      "  ap(0,7,#P0,s4)\n",
      "\n",
      "<block>:1:43-57: info: atom does not occur in any rule head:\n",
      "  ap(3,7,#P0,s2y4)\n",
      "\n",
      "<block>:1:45-60: info: atom does not occur in any rule head:\n",
      "  ap(0,7,#P0,empty)\n",
      "\n"
     ]
    },
    {
     "name": "stderr",
     "output_type": "stream",
     "text": [
      "<block>:1:39-51: info: atom does not occur in any rule head:\n",
      "  ap(2,7,#P0,s5)\n",
      "\n",
      "<block>:1:43-57: info: atom does not occur in any rule head:\n",
      "  ap(3,7,#P0,s2y4)\n",
      "\n",
      "<block>:1:45-60: info: atom does not occur in any rule head:\n",
      "  ap(2,7,#P0,empty)\n",
      "\n",
      "<block>:1:39-51: info: atom does not occur in any rule head:\n",
      "  ap(2,7,#P0,s5)\n",
      "\n",
      "<block>:1:43-57: info: atom does not occur in any rule head:\n",
      "  ap(3,7,#P0,s2y4)\n",
      "\n",
      "<block>:1:45-60: info: atom does not occur in any rule head:\n",
      "  ap(2,7,#P0,empty)\n",
      "\n"
     ]
    },
    {
     "name": "stderr",
     "output_type": "stream",
     "text": [
      "<block>:1:39-51: info: atom does not occur in any rule head:\n",
      "  ap(2,7,#P0,s5)\n",
      "\n",
      "<block>:1:43-57: info: atom does not occur in any rule head:\n",
      "  ap(3,7,#P0,s2y4)\n",
      "\n",
      "<block>:1:45-60: info: atom does not occur in any rule head:\n",
      "  ap(2,7,#P0,empty)\n",
      "\n",
      "<block>:1:39-51: info: atom does not occur in any rule head:\n",
      "  ap(2,7,#P0,s5)\n",
      "\n",
      "<block>:1:43-57: info: atom does not occur in any rule head:\n",
      "  ap(3,7,#P0,s2y4)\n",
      "\n",
      "<block>:1:45-60: info: atom does not occur in any rule head:\n",
      "  ap(2,7,#P0,empty)\n",
      "\n"
     ]
    },
    {
     "name": "stderr",
     "output_type": "stream",
     "text": [
      "<block>:1:39-51: info: atom does not occur in any rule head:\n",
      "  ap(2,7,#P0,s5)\n",
      "\n",
      "<block>:1:43-57: info: atom does not occur in any rule head:\n",
      "  ap(3,7,#P0,s2y4)\n",
      "\n",
      "<block>:1:45-60: info: atom does not occur in any rule head:\n",
      "  ap(2,7,#P0,empty)\n",
      "\n",
      "<block>:1:39-51: info: atom does not occur in any rule head:\n",
      "  ap(2,7,#P0,s5)\n",
      "\n",
      "<block>:1:43-57: info: atom does not occur in any rule head:\n",
      "  ap(3,7,#P0,s2y4)\n",
      "\n",
      "<block>:1:45-60: info: atom does not occur in any rule head:\n",
      "  ap(2,7,#P0,empty)\n",
      "\n"
     ]
    },
    {
     "name": "stderr",
     "output_type": "stream",
     "text": [
      "<block>:1:39-51: info: atom does not occur in any rule head:\n",
      "  ap(2,7,#P0,s5)\n",
      "\n",
      "<block>:1:43-57: info: atom does not occur in any rule head:\n",
      "  ap(3,7,#P0,s2y4)\n",
      "\n",
      "<block>:1:45-60: info: atom does not occur in any rule head:\n",
      "  ap(2,7,#P0,empty)\n",
      "\n",
      "<block>:1:39-51: info: atom does not occur in any rule head:\n",
      "  ap(2,7,#P0,s5)\n",
      "\n",
      "<block>:1:43-57: info: atom does not occur in any rule head:\n",
      "  ap(3,7,#P0,s2y4)\n",
      "\n",
      "<block>:1:45-60: info: atom does not occur in any rule head:\n",
      "  ap(2,7,#P0,empty)\n",
      "\n"
     ]
    },
    {
     "name": "stderr",
     "output_type": "stream",
     "text": [
      "<block>:1:39-51: info: atom does not occur in any rule head:\n",
      "  ap(6,7,#P0,s1)\n",
      "\n",
      "<block>:1:43-57: info: atom does not occur in any rule head:\n",
      "  ap(3,7,#P0,s2y4)\n",
      "\n",
      "<block>:1:45-60: info: atom does not occur in any rule head:\n",
      "  ap(6,7,#P0,empty)\n",
      "\n",
      "<block>:1:39-51: info: atom does not occur in any rule head:\n",
      "  ap(6,7,#P0,s4)\n",
      "\n",
      "<block>:1:43-57: info: atom does not occur in any rule head:\n",
      "  ap(3,7,#P0,s2y4)\n",
      "\n",
      "<block>:1:45-60: info: atom does not occur in any rule head:\n",
      "  ap(6,7,#P0,empty)\n",
      "\n",
      "<block>:1:39-51: info: atom does not occur in any rule head:\n",
      "  ap(6,7,#P0,s1)\n",
      "\n",
      "<block>:1:43-57: info: atom does not occur in any rule head:\n",
      "  ap(3,7,#P0,s2y6)\n",
      "\n",
      "<block>:1:45-60: info: atom does not occur in any rule head:\n",
      "  ap(6,7,#P0,empty)\n",
      "\n",
      "<block>:1:39-51: info: atom does not occur in any rule head:\n",
      "  ap(6,7,#P0,s1)\n",
      "\n",
      "<block>:1:43-57: info: atom does not occur in any rule head:\n",
      "  ap(3,7,#P0,s2y6)\n",
      "\n",
      "<block>:1:45-60: info: atom does not occur in any rule head:\n",
      "  ap(6,7,#P0,empty)\n",
      "\n"
     ]
    },
    {
     "name": "stderr",
     "output_type": "stream",
     "text": [
      "<block>:1:39-51: info: atom does not occur in any rule head:\n",
      "  ap(6,7,#P0,s1)\n",
      "\n",
      "<block>:1:43-57: info: atom does not occur in any rule head:\n",
      "  ap(3,7,#P0,s2y6)\n",
      "\n",
      "<block>:1:45-60: info: atom does not occur in any rule head:\n",
      "  ap(6,7,#P0,empty)\n",
      "\n"
     ]
    },
    {
     "name": "stderr",
     "output_type": "stream",
     "text": [
      "<block>:1:39-51: info: atom does not occur in any rule head:\n",
      "  ap(6,7,#P0,s1)\n",
      "\n",
      "<block>:1:43-57: info: atom does not occur in any rule head:\n",
      "  ap(3,7,#P0,s2y4)\n",
      "\n",
      "<block>:1:45-60: info: atom does not occur in any rule head:\n",
      "  ap(6,7,#P0,empty)\n",
      "\n",
      "<block>:1:39-51: info: atom does not occur in any rule head:\n",
      "  ap(6,7,#P0,s4)\n",
      "\n",
      "<block>:1:43-57: info: atom does not occur in any rule head:\n",
      "  ap(3,7,#P0,s2y4)\n",
      "\n",
      "<block>:1:45-60: info: atom does not occur in any rule head:\n",
      "  ap(6,7,#P0,empty)\n",
      "\n",
      "<block>:1:39-51: info: atom does not occur in any rule head:\n",
      "  ap(6,7,#P0,s1)\n",
      "\n",
      "<block>:1:43-57: info: atom does not occur in any rule head:\n",
      "  ap(3,7,#P0,s2y6)\n",
      "\n",
      "<block>:1:45-60: info: atom does not occur in any rule head:\n",
      "  ap(6,7,#P0,empty)\n",
      "\n",
      "<block>:1:39-51: info: atom does not occur in any rule head:\n",
      "  ap(6,7,#P0,s1)\n",
      "\n",
      "<block>:1:43-57: info: atom does not occur in any rule head:\n",
      "  ap(3,7,#P0,s2y6)\n",
      "\n",
      "<block>:1:45-60: info: atom does not occur in any rule head:\n",
      "  ap(6,7,#P0,empty)\n",
      "\n"
     ]
    },
    {
     "name": "stderr",
     "output_type": "stream",
     "text": [
      "<block>:1:39-51: info: atom does not occur in any rule head:\n",
      "  ap(6,7,#P0,s1)\n",
      "\n",
      "<block>:1:43-57: info: atom does not occur in any rule head:\n",
      "  ap(3,7,#P0,s2y6)\n",
      "\n",
      "<block>:1:45-60: info: atom does not occur in any rule head:\n",
      "  ap(6,7,#P0,empty)\n",
      "\n"
     ]
    },
    {
     "name": "stderr",
     "output_type": "stream",
     "text": [
      "<block>:1:39-51: info: atom does not occur in any rule head:\n",
      "  ap(6,7,#P0,s5)\n",
      "\n",
      "<block>:1:43-57: info: atom does not occur in any rule head:\n",
      "  ap(3,7,#P0,s2y4)\n",
      "\n",
      "<block>:1:45-60: info: atom does not occur in any rule head:\n",
      "  ap(6,7,#P0,empty)\n",
      "\n",
      "<block>:1:39-51: info: atom does not occur in any rule head:\n",
      "  ap(6,7,#P0,s4)\n",
      "\n",
      "<block>:1:43-57: info: atom does not occur in any rule head:\n",
      "  ap(3,7,#P0,s2y4)\n",
      "\n",
      "<block>:1:45-60: info: atom does not occur in any rule head:\n",
      "  ap(6,7,#P0,empty)\n",
      "\n"
     ]
    },
    {
     "name": "stderr",
     "output_type": "stream",
     "text": [
      "<block>:1:39-51: info: atom does not occur in any rule head:\n",
      "  ap(6,7,#P0,s5)\n",
      "\n",
      "<block>:1:43-57: info: atom does not occur in any rule head:\n",
      "  ap(3,7,#P0,s2y4)\n",
      "\n",
      "<block>:1:45-60: info: atom does not occur in any rule head:\n",
      "  ap(6,7,#P0,empty)\n",
      "\n",
      "<block>:1:39-51: info: atom does not occur in any rule head:\n",
      "  ap(6,7,#P0,s4)\n",
      "\n",
      "<block>:1:43-57: info: atom does not occur in any rule head:\n",
      "  ap(3,7,#P0,s2y4)\n",
      "\n",
      "<block>:1:45-60: info: atom does not occur in any rule head:\n",
      "  ap(6,7,#P0,empty)\n",
      "\n"
     ]
    },
    {
     "name": "stderr",
     "output_type": "stream",
     "text": [
      "<block>:1:39-51: info: atom does not occur in any rule head:\n",
      "  ap(6,7,#P0,s0)\n",
      "\n",
      "<block>:1:43-57: info: atom does not occur in any rule head:\n",
      "  ap(3,7,#P0,s2y4)\n",
      "\n",
      "<block>:1:45-60: info: atom does not occur in any rule head:\n",
      "  ap(6,7,#P0,empty)\n",
      "\n",
      "<block>:1:39-51: info: atom does not occur in any rule head:\n",
      "  ap(6,7,#P0,s0)\n",
      "\n",
      "<block>:1:43-57: info: atom does not occur in any rule head:\n",
      "  ap(3,7,#P0,s2y4)\n",
      "\n",
      "<block>:1:45-60: info: atom does not occur in any rule head:\n",
      "  ap(6,7,#P0,empty)\n",
      "\n",
      "<block>:1:39-51: info: atom does not occur in any rule head:\n",
      "  ap(6,7,#P0,s0)\n",
      "\n",
      "<block>:1:43-57: info: atom does not occur in any rule head:\n",
      "  ap(3,7,#P0,s2y4)\n",
      "\n",
      "<block>:1:45-60: info: atom does not occur in any rule head:\n",
      "  ap(6,7,#P0,empty)\n",
      "\n",
      "<block>:1:39-51: info: atom does not occur in any rule head:\n",
      "  ap(6,7,#P0,s0)\n",
      "\n",
      "<block>:1:43-57: info: atom does not occur in any rule head:\n",
      "  ap(3,7,#P0,s2y4)\n",
      "\n",
      "<block>:1:45-60: info: atom does not occur in any rule head:\n",
      "  ap(6,7,#P0,empty)\n",
      "\n"
     ]
    },
    {
     "name": "stderr",
     "output_type": "stream",
     "text": [
      "<block>:1:39-51: info: atom does not occur in any rule head:\n",
      "  ap(6,7,#P0,s0)\n",
      "\n",
      "<block>:1:43-57: info: atom does not occur in any rule head:\n",
      "  ap(3,7,#P0,s2y4)\n",
      "\n",
      "<block>:1:45-60: info: atom does not occur in any rule head:\n",
      "  ap(6,7,#P0,empty)\n",
      "\n",
      "<block>:1:39-51: info: atom does not occur in any rule head:\n",
      "  ap(6,7,#P0,s0)\n",
      "\n",
      "<block>:1:43-57: info: atom does not occur in any rule head:\n",
      "  ap(3,7,#P0,s2y4)\n",
      "\n",
      "<block>:1:45-60: info: atom does not occur in any rule head:\n",
      "  ap(6,7,#P0,empty)\n",
      "\n"
     ]
    },
    {
     "name": "stderr",
     "output_type": "stream",
     "text": [
      "<block>:1:39-51: info: atom does not occur in any rule head:\n",
      "  ap(6,7,#P0,s0)\n",
      "\n",
      "<block>:1:43-57: info: atom does not occur in any rule head:\n",
      "  ap(3,7,#P0,s2y4)\n",
      "\n",
      "<block>:1:45-60: info: atom does not occur in any rule head:\n",
      "  ap(6,7,#P0,empty)\n",
      "\n",
      "<block>:1:39-51: info: atom does not occur in any rule head:\n",
      "  ap(6,7,#P0,s0)\n",
      "\n",
      "<block>:1:43-57: info: atom does not occur in any rule head:\n",
      "  ap(3,7,#P0,s2y4)\n",
      "\n",
      "<block>:1:45-60: info: atom does not occur in any rule head:\n",
      "  ap(6,7,#P0,empty)\n",
      "\n",
      "<block>:1:39-51: info: atom does not occur in any rule head:\n",
      "  ap(6,7,#P0,s0)\n",
      "\n",
      "<block>:1:43-57: info: atom does not occur in any rule head:\n",
      "  ap(3,7,#P0,s2y4)\n",
      "\n",
      "<block>:1:45-60: info: atom does not occur in any rule head:\n",
      "  ap(6,7,#P0,empty)\n",
      "\n"
     ]
    },
    {
     "name": "stderr",
     "output_type": "stream",
     "text": [
      "<block>:1:39-51: info: atom does not occur in any rule head:\n",
      "  ap(6,7,#P0,s1)\n",
      "\n",
      "<block>:1:43-57: info: atom does not occur in any rule head:\n",
      "  ap(3,7,#P0,s2y6)\n",
      "\n",
      "<block>:1:45-60: info: atom does not occur in any rule head:\n",
      "  ap(5,7,#P0,empty)\n",
      "\n"
     ]
    },
    {
     "name": "stderr",
     "output_type": "stream",
     "text": [
      "<block>:1:39-51: info: atom does not occur in any rule head:\n",
      "  ap(6,7,#P0,s0)\n",
      "\n",
      "<block>:1:43-57: info: atom does not occur in any rule head:\n",
      "  ap(3,7,#P0,s2y4)\n",
      "\n",
      "<block>:1:45-60: info: atom does not occur in any rule head:\n",
      "  ap(6,7,#P0,empty)\n",
      "\n",
      "<block>:1:39-51: info: atom does not occur in any rule head:\n",
      "  ap(6,7,#P0,s0)\n",
      "\n",
      "<block>:1:43-57: info: atom does not occur in any rule head:\n",
      "  ap(3,7,#P0,s2y4)\n",
      "\n",
      "<block>:1:45-60: info: atom does not occur in any rule head:\n",
      "  ap(6,7,#P0,empty)\n",
      "\n",
      "<block>:1:39-51: info: atom does not occur in any rule head:\n",
      "  ap(6,7,#P0,s0)\n",
      "\n",
      "<block>:1:43-57: info: atom does not occur in any rule head:\n",
      "  ap(3,7,#P0,s2y4)\n",
      "\n",
      "<block>:1:45-60: info: atom does not occur in any rule head:\n",
      "  ap(6,7,#P0,empty)\n",
      "\n"
     ]
    },
    {
     "name": "stderr",
     "output_type": "stream",
     "text": [
      "<block>:1:39-51: info: atom does not occur in any rule head:\n",
      "  ap(6,7,#P0,s0)\n",
      "\n",
      "<block>:1:43-57: info: atom does not occur in any rule head:\n",
      "  ap(3,7,#P0,s2y4)\n",
      "\n",
      "<block>:1:45-60: info: atom does not occur in any rule head:\n",
      "  ap(6,7,#P0,empty)\n",
      "\n",
      "<block>:1:39-51: info: atom does not occur in any rule head:\n",
      "  ap(6,7,#P0,s0)\n",
      "\n",
      "<block>:1:43-57: info: atom does not occur in any rule head:\n",
      "  ap(3,7,#P0,s2y4)\n",
      "\n",
      "<block>:1:45-60: info: atom does not occur in any rule head:\n",
      "  ap(6,7,#P0,empty)\n",
      "\n",
      "<block>:1:39-51: info: atom does not occur in any rule head:\n",
      "  ap(6,7,#P0,s0)\n",
      "\n",
      "<block>:1:43-57: info: atom does not occur in any rule head:\n",
      "  ap(3,7,#P0,s2y6)\n",
      "\n",
      "<block>:1:45-60: info: atom does not occur in any rule head:\n",
      "  ap(6,7,#P0,empty)\n",
      "\n"
     ]
    },
    {
     "name": "stderr",
     "output_type": "stream",
     "text": [
      "<block>:1:39-51: info: atom does not occur in any rule head:\n",
      "  ap(6,7,#P0,s1)\n",
      "\n",
      "<block>:1:43-57: info: atom does not occur in any rule head:\n",
      "  ap(3,7,#P0,s2y4)\n",
      "\n",
      "<block>:1:45-60: info: atom does not occur in any rule head:\n",
      "  ap(6,7,#P0,empty)\n",
      "\n"
     ]
    },
    {
     "name": "stderr",
     "output_type": "stream",
     "text": [
      "<block>:1:39-51: info: atom does not occur in any rule head:\n",
      "  ap(6,7,#P0,s1)\n",
      "\n",
      "<block>:1:43-57: info: atom does not occur in any rule head:\n",
      "  ap(3,7,#P0,s2y4)\n",
      "\n",
      "<block>:1:45-60: info: atom does not occur in any rule head:\n",
      "  ap(6,7,#P0,empty)\n",
      "\n"
     ]
    },
    {
     "name": "stderr",
     "output_type": "stream",
     "text": [
      "<block>:1:39-51: info: atom does not occur in any rule head:\n",
      "  ap(2,7,#P0,s5)\n",
      "\n",
      "<block>:1:43-57: info: atom does not occur in any rule head:\n",
      "  ap(3,7,#P0,s2y4)\n",
      "\n",
      "<block>:1:45-60: info: atom does not occur in any rule head:\n",
      "  ap(2,7,#P0,empty)\n",
      "\n"
     ]
    },
    {
     "name": "stderr",
     "output_type": "stream",
     "text": [
      "<block>:1:39-51: info: atom does not occur in any rule head:\n",
      "  ap(2,7,#P0,s5)\n",
      "\n",
      "<block>:1:43-57: info: atom does not occur in any rule head:\n",
      "  ap(3,7,#P0,s2y4)\n",
      "\n",
      "<block>:1:45-60: info: atom does not occur in any rule head:\n",
      "  ap(2,7,#P0,empty)\n",
      "\n"
     ]
    },
    {
     "name": "stderr",
     "output_type": "stream",
     "text": [
      "<block>:1:39-51: info: atom does not occur in any rule head:\n",
      "  ap(6,7,#P0,s1)\n",
      "\n",
      "<block>:1:43-57: info: atom does not occur in any rule head:\n",
      "  ap(3,7,#P0,s2y4)\n",
      "\n",
      "<block>:1:45-60: info: atom does not occur in any rule head:\n",
      "  ap(6,7,#P0,empty)\n",
      "\n",
      "<block>:1:39-51: info: atom does not occur in any rule head:\n",
      "  ap(6,7,#P0,s1)\n",
      "\n",
      "<block>:1:43-57: info: atom does not occur in any rule head:\n",
      "  ap(3,7,#P0,s2y4)\n",
      "\n",
      "<block>:1:45-60: info: atom does not occur in any rule head:\n",
      "  ap(6,7,#P0,empty)\n",
      "\n",
      "<block>:1:39-51: info: atom does not occur in any rule head:\n",
      "  ap(6,7,#P0,s4)\n",
      "\n",
      "<block>:1:43-57: info: atom does not occur in any rule head:\n",
      "  ap(3,7,#P0,s2y4)\n",
      "\n",
      "<block>:1:45-60: info: atom does not occur in any rule head:\n",
      "  ap(6,7,#P0,empty)\n",
      "\n",
      "<block>:1:39-51: info: atom does not occur in any rule head:\n",
      "  ap(6,7,#P0,s1)\n",
      "\n",
      "<block>:1:43-57: info: atom does not occur in any rule head:\n",
      "  ap(3,7,#P0,s2y6)\n",
      "\n",
      "<block>:1:45-60: info: atom does not occur in any rule head:\n",
      "  ap(6,7,#P0,empty)\n",
      "\n"
     ]
    },
    {
     "name": "stderr",
     "output_type": "stream",
     "text": [
      "<block>:1:39-51: info: atom does not occur in any rule head:\n",
      "  ap(6,7,#P0,s1)\n",
      "\n",
      "<block>:1:43-57: info: atom does not occur in any rule head:\n",
      "  ap(3,7,#P0,s2y4)\n",
      "\n",
      "<block>:1:45-60: info: atom does not occur in any rule head:\n",
      "  ap(6,7,#P0,empty)\n",
      "\n",
      "<block>:1:39-51: info: atom does not occur in any rule head:\n",
      "  ap(6,7,#P0,s1)\n",
      "\n",
      "<block>:1:43-57: info: atom does not occur in any rule head:\n",
      "  ap(3,7,#P0,s2y4)\n",
      "\n",
      "<block>:1:45-60: info: atom does not occur in any rule head:\n",
      "  ap(6,7,#P0,empty)\n",
      "\n",
      "<block>:1:39-51: info: atom does not occur in any rule head:\n",
      "  ap(6,7,#P0,s4)\n",
      "\n",
      "<block>:1:43-57: info: atom does not occur in any rule head:\n",
      "  ap(3,7,#P0,s2y4)\n",
      "\n",
      "<block>:1:45-60: info: atom does not occur in any rule head:\n",
      "  ap(6,7,#P0,empty)\n",
      "\n",
      "<block>:1:39-51: info: atom does not occur in any rule head:\n",
      "  ap(6,7,#P0,s1)\n",
      "\n",
      "<block>:1:43-57: info: atom does not occur in any rule head:\n",
      "  ap(3,7,#P0,s2y6)\n",
      "\n",
      "<block>:1:45-60: info: atom does not occur in any rule head:\n",
      "  ap(6,7,#P0,empty)\n",
      "\n"
     ]
    },
    {
     "name": "stderr",
     "output_type": "stream",
     "text": [
      "<block>:1:39-51: info: atom does not occur in any rule head:\n",
      "  ap(0,7,#P0,s4)\n",
      "\n",
      "<block>:1:43-57: info: atom does not occur in any rule head:\n",
      "  ap(3,7,#P0,s2y4)\n",
      "\n",
      "<block>:1:45-60: info: atom does not occur in any rule head:\n",
      "  ap(0,7,#P0,empty)\n",
      "\n"
     ]
    },
    {
     "name": "stderr",
     "output_type": "stream",
     "text": [
      "<block>:1:39-51: info: atom does not occur in any rule head:\n",
      "  ap(0,7,#P0,s4)\n",
      "\n",
      "<block>:1:43-57: info: atom does not occur in any rule head:\n",
      "  ap(3,7,#P0,s2y4)\n",
      "\n",
      "<block>:1:45-60: info: atom does not occur in any rule head:\n",
      "  ap(0,7,#P0,empty)\n",
      "\n"
     ]
    },
    {
     "name": "stderr",
     "output_type": "stream",
     "text": [
      "<block>:1:39-51: info: atom does not occur in any rule head:\n",
      "  ap(6,7,#P0,s1)\n",
      "\n",
      "<block>:1:43-57: info: atom does not occur in any rule head:\n",
      "  ap(3,7,#P0,s2y4)\n",
      "\n",
      "<block>:1:45-60: info: atom does not occur in any rule head:\n",
      "  ap(6,7,#P0,empty)\n",
      "\n"
     ]
    },
    {
     "name": "stderr",
     "output_type": "stream",
     "text": [
      "<block>:1:39-51: info: atom does not occur in any rule head:\n",
      "  ap(6,7,#P0,s1)\n",
      "\n",
      "<block>:1:43-57: info: atom does not occur in any rule head:\n",
      "  ap(3,7,#P0,s2y4)\n",
      "\n",
      "<block>:1:45-60: info: atom does not occur in any rule head:\n",
      "  ap(6,7,#P0,empty)\n",
      "\n"
     ]
    },
    {
     "name": "stderr",
     "output_type": "stream",
     "text": [
      "<block>:1:39-51: info: atom does not occur in any rule head:\n",
      "  ap(2,7,#P0,s5)\n",
      "\n",
      "<block>:1:43-57: info: atom does not occur in any rule head:\n",
      "  ap(3,7,#P0,s2y4)\n",
      "\n",
      "<block>:1:45-60: info: atom does not occur in any rule head:\n",
      "  ap(2,7,#P0,empty)\n",
      "\n",
      "<block>:1:39-51: info: atom does not occur in any rule head:\n",
      "  ap(2,7,#P0,s5)\n",
      "\n",
      "<block>:1:43-57: info: atom does not occur in any rule head:\n",
      "  ap(3,7,#P0,s2y4)\n",
      "\n",
      "<block>:1:45-60: info: atom does not occur in any rule head:\n",
      "  ap(2,7,#P0,empty)\n",
      "\n",
      "<block>:1:39-51: info: atom does not occur in any rule head:\n",
      "  ap(2,7,#P0,s5)\n",
      "\n",
      "<block>:1:43-57: info: atom does not occur in any rule head:\n",
      "  ap(3,7,#P0,s2y4)\n",
      "\n",
      "<block>:1:45-60: info: atom does not occur in any rule head:\n",
      "  ap(2,7,#P0,empty)\n",
      "\n"
     ]
    },
    {
     "name": "stderr",
     "output_type": "stream",
     "text": [
      "<block>:1:39-51: info: atom does not occur in any rule head:\n",
      "  ap(2,7,#P0,s5)\n",
      "\n",
      "<block>:1:43-57: info: atom does not occur in any rule head:\n",
      "  ap(3,7,#P0,s2y4)\n",
      "\n",
      "<block>:1:45-60: info: atom does not occur in any rule head:\n",
      "  ap(2,7,#P0,empty)\n",
      "\n"
     ]
    },
    {
     "name": "stderr",
     "output_type": "stream",
     "text": [
      "<block>:1:39-51: info: atom does not occur in any rule head:\n",
      "  ap(2,7,#P0,s5)\n",
      "\n",
      "<block>:1:43-57: info: atom does not occur in any rule head:\n",
      "  ap(3,7,#P0,s2y4)\n",
      "\n",
      "<block>:1:45-60: info: atom does not occur in any rule head:\n",
      "  ap(2,7,#P0,empty)\n",
      "\n",
      "<block>:1:39-51: info: atom does not occur in any rule head:\n",
      "  ap(2,7,#P0,s5)\n",
      "\n",
      "<block>:1:43-57: info: atom does not occur in any rule head:\n",
      "  ap(3,7,#P0,s2y4)\n",
      "\n",
      "<block>:1:45-60: info: atom does not occur in any rule head:\n",
      "  ap(2,7,#P0,empty)\n",
      "\n",
      "<block>:1:39-51: info: atom does not occur in any rule head:\n",
      "  ap(2,7,#P0,s5)\n",
      "\n",
      "<block>:1:43-57: info: atom does not occur in any rule head:\n",
      "  ap(3,7,#P0,s2y4)\n",
      "\n",
      "<block>:1:45-60: info: atom does not occur in any rule head:\n",
      "  ap(2,7,#P0,empty)\n",
      "\n"
     ]
    },
    {
     "name": "stderr",
     "output_type": "stream",
     "text": [
      "<block>:1:39-51: info: atom does not occur in any rule head:\n",
      "  ap(2,7,#P0,s5)\n",
      "\n",
      "<block>:1:43-57: info: atom does not occur in any rule head:\n",
      "  ap(3,7,#P0,s2y6)\n",
      "\n",
      "<block>:1:45-60: info: atom does not occur in any rule head:\n",
      "  ap(2,7,#P0,empty)\n",
      "\n"
     ]
    },
    {
     "name": "stderr",
     "output_type": "stream",
     "text": [
      "<block>:1:39-51: info: atom does not occur in any rule head:\n",
      "  ap(2,7,#P0,s5)\n",
      "\n",
      "<block>:1:43-57: info: atom does not occur in any rule head:\n",
      "  ap(3,7,#P0,s2y4)\n",
      "\n",
      "<block>:1:45-60: info: atom does not occur in any rule head:\n",
      "  ap(2,7,#P0,empty)\n",
      "\n",
      "<block>:1:39-51: info: atom does not occur in any rule head:\n",
      "  ap(2,7,#P0,s5)\n",
      "\n",
      "<block>:1:43-57: info: atom does not occur in any rule head:\n",
      "  ap(3,7,#P0,s2y4)\n",
      "\n",
      "<block>:1:45-60: info: atom does not occur in any rule head:\n",
      "  ap(2,7,#P0,empty)\n",
      "\n",
      "<block>:1:39-51: info: atom does not occur in any rule head:\n",
      "  ap(2,7,#P0,s5)\n",
      "\n",
      "<block>:1:43-57: info: atom does not occur in any rule head:\n",
      "  ap(3,7,#P0,s2y6)\n",
      "\n",
      "<block>:1:45-60: info: atom does not occur in any rule head:\n",
      "  ap(2,7,#P0,empty)\n",
      "\n"
     ]
    },
    {
     "name": "stderr",
     "output_type": "stream",
     "text": [
      "<block>:1:39-51: info: atom does not occur in any rule head:\n",
      "  ap(2,7,#P0,s5)\n",
      "\n",
      "<block>:1:43-57: info: atom does not occur in any rule head:\n",
      "  ap(3,7,#P0,s2y6)\n",
      "\n",
      "<block>:1:45-60: info: atom does not occur in any rule head:\n",
      "  ap(2,7,#P0,empty)\n",
      "\n",
      "<block>:1:39-51: info: atom does not occur in any rule head:\n",
      "  ap(2,7,#P0,s5)\n",
      "\n",
      "<block>:1:43-57: info: atom does not occur in any rule head:\n",
      "  ap(3,7,#P0,s2y6)\n",
      "\n",
      "<block>:1:45-60: info: atom does not occur in any rule head:\n",
      "  ap(2,7,#P0,empty)\n",
      "\n",
      "<block>:1:39-51: info: atom does not occur in any rule head:\n",
      "  ap(2,7,#P0,s5)\n",
      "\n",
      "<block>:1:43-57: info: atom does not occur in any rule head:\n",
      "  ap(3,7,#P0,s2y6)\n",
      "\n",
      "<block>:1:45-60: info: atom does not occur in any rule head:\n",
      "  ap(2,7,#P0,empty)\n",
      "\n"
     ]
    },
    {
     "name": "stderr",
     "output_type": "stream",
     "text": [
      "<block>:1:39-51: info: atom does not occur in any rule head:\n",
      "  ap(2,7,#P0,s5)\n",
      "\n",
      "<block>:1:43-57: info: atom does not occur in any rule head:\n",
      "  ap(3,7,#P0,s2y6)\n",
      "\n",
      "<block>:1:45-60: info: atom does not occur in any rule head:\n",
      "  ap(2,7,#P0,empty)\n",
      "\n"
     ]
    },
    {
     "name": "stderr",
     "output_type": "stream",
     "text": [
      "<block>:1:39-51: info: atom does not occur in any rule head:\n",
      "  ap(2,7,#P0,s5)\n",
      "\n",
      "<block>:1:43-57: info: atom does not occur in any rule head:\n",
      "  ap(3,7,#P0,s2y4)\n",
      "\n",
      "<block>:1:45-60: info: atom does not occur in any rule head:\n",
      "  ap(2,7,#P0,empty)\n",
      "\n",
      "<block>:1:39-51: info: atom does not occur in any rule head:\n",
      "  ap(2,7,#P0,s5)\n",
      "\n",
      "<block>:1:43-57: info: atom does not occur in any rule head:\n",
      "  ap(3,7,#P0,s2y4)\n",
      "\n",
      "<block>:1:45-60: info: atom does not occur in any rule head:\n",
      "  ap(2,7,#P0,empty)\n",
      "\n",
      "<block>:1:39-51: info: atom does not occur in any rule head:\n",
      "  ap(2,7,#P0,s5)\n",
      "\n",
      "<block>:1:43-57: info: atom does not occur in any rule head:\n",
      "  ap(3,7,#P0,s2y6)\n",
      "\n",
      "<block>:1:45-60: info: atom does not occur in any rule head:\n",
      "  ap(2,7,#P0,empty)\n",
      "\n"
     ]
    },
    {
     "name": "stderr",
     "output_type": "stream",
     "text": [
      "<block>:1:39-51: info: atom does not occur in any rule head:\n",
      "  ap(2,7,#P0,s5)\n",
      "\n",
      "<block>:1:43-57: info: atom does not occur in any rule head:\n",
      "  ap(3,7,#P0,s2y6)\n",
      "\n",
      "<block>:1:45-60: info: atom does not occur in any rule head:\n",
      "  ap(2,7,#P0,empty)\n",
      "\n",
      "<block>:1:39-51: info: atom does not occur in any rule head:\n",
      "  ap(2,7,#P0,s5)\n",
      "\n",
      "<block>:1:43-57: info: atom does not occur in any rule head:\n",
      "  ap(3,7,#P0,s2y6)\n",
      "\n",
      "<block>:1:45-60: info: atom does not occur in any rule head:\n",
      "  ap(2,7,#P0,empty)\n",
      "\n"
     ]
    },
    {
     "name": "stderr",
     "output_type": "stream",
     "text": [
      "<block>:1:39-51: info: atom does not occur in any rule head:\n",
      "  ap(2,7,#P0,s5)\n",
      "\n",
      "<block>:1:43-57: info: atom does not occur in any rule head:\n",
      "  ap(3,7,#P0,s2y4)\n",
      "\n",
      "<block>:1:45-60: info: atom does not occur in any rule head:\n",
      "  ap(2,7,#P0,empty)\n",
      "\n",
      "<block>:1:39-51: info: atom does not occur in any rule head:\n",
      "  ap(2,7,#P0,s5)\n",
      "\n",
      "<block>:1:43-57: info: atom does not occur in any rule head:\n",
      "  ap(3,7,#P0,s2y4)\n",
      "\n",
      "<block>:1:45-60: info: atom does not occur in any rule head:\n",
      "  ap(2,7,#P0,empty)\n",
      "\n"
     ]
    },
    {
     "name": "stderr",
     "output_type": "stream",
     "text": [
      "<block>:1:39-51: info: atom does not occur in any rule head:\n",
      "  ap(2,7,#P0,s5)\n",
      "\n",
      "<block>:1:43-57: info: atom does not occur in any rule head:\n",
      "  ap(3,7,#P0,s2y4)\n",
      "\n",
      "<block>:1:45-60: info: atom does not occur in any rule head:\n",
      "  ap(2,7,#P0,empty)\n",
      "\n",
      "<block>:1:39-51: info: atom does not occur in any rule head:\n",
      "  ap(2,7,#P0,s5)\n",
      "\n",
      "<block>:1:43-57: info: atom does not occur in any rule head:\n",
      "  ap(3,7,#P0,s2y4)\n",
      "\n",
      "<block>:1:45-60: info: atom does not occur in any rule head:\n",
      "  ap(2,7,#P0,empty)\n",
      "\n"
     ]
    },
    {
     "name": "stderr",
     "output_type": "stream",
     "text": [
      "<block>:1:39-51: info: atom does not occur in any rule head:\n",
      "  ap(2,7,#P0,s5)\n",
      "\n",
      "<block>:1:43-57: info: atom does not occur in any rule head:\n",
      "  ap(3,7,#P0,s2y4)\n",
      "\n",
      "<block>:1:45-60: info: atom does not occur in any rule head:\n",
      "  ap(2,7,#P0,empty)\n",
      "\n"
     ]
    },
    {
     "name": "stderr",
     "output_type": "stream",
     "text": [
      "<block>:1:39-51: info: atom does not occur in any rule head:\n",
      "  ap(2,7,#P0,s5)\n",
      "\n",
      "<block>:1:43-57: info: atom does not occur in any rule head:\n",
      "  ap(3,7,#P0,s2y4)\n",
      "\n",
      "<block>:1:45-60: info: atom does not occur in any rule head:\n",
      "  ap(2,7,#P0,empty)\n",
      "\n"
     ]
    },
    {
     "name": "stderr",
     "output_type": "stream",
     "text": [
      "<block>:1:39-51: info: atom does not occur in any rule head:\n",
      "  ap(6,7,#P0,s0)\n",
      "\n",
      "<block>:1:43-57: info: atom does not occur in any rule head:\n",
      "  ap(3,7,#P0,s2y4)\n",
      "\n",
      "<block>:1:45-60: info: atom does not occur in any rule head:\n",
      "  ap(0,6,#P0,empty)\n",
      "\n",
      "<block>:1:39-51: info: atom does not occur in any rule head:\n",
      "  ap(6,7,#P0,s0)\n",
      "\n",
      "<block>:1:43-57: info: atom does not occur in any rule head:\n",
      "  ap(3,7,#P0,s2y4)\n",
      "\n",
      "<block>:1:45-60: info: atom does not occur in any rule head:\n",
      "  ap(0,6,#P0,empty)\n",
      "\n",
      "<block>:1:39-51: info: atom does not occur in any rule head:\n",
      "  ap(6,7,#P0,s0)\n",
      "\n",
      "<block>:1:43-57: info: atom does not occur in any rule head:\n",
      "  ap(3,7,#P0,s2y4)\n",
      "\n",
      "<block>:1:45-60: info: atom does not occur in any rule head:\n",
      "  ap(6,7,#P0,empty)\n",
      "\n"
     ]
    },
    {
     "name": "stderr",
     "output_type": "stream",
     "text": [
      "<block>:1:39-51: info: atom does not occur in any rule head:\n",
      "  ap(6,7,#P0,s0)\n",
      "\n",
      "<block>:1:43-57: info: atom does not occur in any rule head:\n",
      "  ap(3,7,#P0,s2y4)\n",
      "\n",
      "<block>:1:45-60: info: atom does not occur in any rule head:\n",
      "  ap(0,6,#P0,empty)\n",
      "\n",
      "<block>:1:39-51: info: atom does not occur in any rule head:\n",
      "  ap(6,7,#P0,s0)\n",
      "\n",
      "<block>:1:43-57: info: atom does not occur in any rule head:\n",
      "  ap(3,7,#P0,s2y4)\n",
      "\n",
      "<block>:1:45-60: info: atom does not occur in any rule head:\n",
      "  ap(0,6,#P0,empty)\n",
      "\n"
     ]
    },
    {
     "name": "stderr",
     "output_type": "stream",
     "text": [
      "<block>:1:39-51: info: atom does not occur in any rule head:\n",
      "  ap(6,7,#P0,s5)\n",
      "\n",
      "<block>:1:43-57: info: atom does not occur in any rule head:\n",
      "  ap(3,7,#P0,s2y4)\n",
      "\n",
      "<block>:1:45-60: info: atom does not occur in any rule head:\n",
      "  ap(6,7,#P0,empty)\n",
      "\n",
      "<block>:1:39-51: info: atom does not occur in any rule head:\n",
      "  ap(6,7,#P0,s5)\n",
      "\n",
      "<block>:1:43-57: info: atom does not occur in any rule head:\n",
      "  ap(3,7,#P0,s2y4)\n",
      "\n",
      "<block>:1:45-60: info: atom does not occur in any rule head:\n",
      "  ap(6,7,#P0,empty)\n",
      "\n"
     ]
    },
    {
     "name": "stderr",
     "output_type": "stream",
     "text": [
      "<block>:1:39-51: info: atom does not occur in any rule head:\n",
      "  ap(6,7,#P0,s5)\n",
      "\n",
      "<block>:1:43-57: info: atom does not occur in any rule head:\n",
      "  ap(3,7,#P0,s2y4)\n",
      "\n",
      "<block>:1:45-60: info: atom does not occur in any rule head:\n",
      "  ap(6,7,#P0,empty)\n",
      "\n",
      "<block>:1:39-51: info: atom does not occur in any rule head:\n",
      "  ap(6,7,#P0,s5)\n",
      "\n",
      "<block>:1:43-57: info: atom does not occur in any rule head:\n",
      "  ap(3,7,#P0,s2y4)\n",
      "\n",
      "<block>:1:45-60: info: atom does not occur in any rule head:\n",
      "  ap(6,7,#P0,empty)\n",
      "\n"
     ]
    },
    {
     "name": "stderr",
     "output_type": "stream",
     "text": [
      "<block>:1:39-51: info: atom does not occur in any rule head:\n",
      "  ap(2,7,#P0,s5)\n",
      "\n",
      "<block>:1:43-57: info: atom does not occur in any rule head:\n",
      "  ap(3,7,#P0,s2y4)\n",
      "\n",
      "<block>:1:45-60: info: atom does not occur in any rule head:\n",
      "  ap(2,7,#P0,empty)\n",
      "\n",
      "<block>:1:39-51: info: atom does not occur in any rule head:\n",
      "  ap(2,7,#P0,s5)\n",
      "\n",
      "<block>:1:43-57: info: atom does not occur in any rule head:\n",
      "  ap(3,7,#P0,s2y4)\n",
      "\n",
      "<block>:1:45-60: info: atom does not occur in any rule head:\n",
      "  ap(2,7,#P0,empty)\n",
      "\n",
      "<block>:1:39-51: info: atom does not occur in any rule head:\n",
      "  ap(2,7,#P0,s5)\n",
      "\n",
      "<block>:1:43-57: info: atom does not occur in any rule head:\n",
      "  ap(3,7,#P0,s2y4)\n",
      "\n",
      "<block>:1:45-60: info: atom does not occur in any rule head:\n",
      "  ap(1,7,#P0,empty)\n",
      "\n"
     ]
    },
    {
     "name": "stderr",
     "output_type": "stream",
     "text": [
      "<block>:1:39-51: info: atom does not occur in any rule head:\n",
      "  ap(2,7,#P0,s5)\n",
      "\n",
      "<block>:1:43-57: info: atom does not occur in any rule head:\n",
      "  ap(3,7,#P0,s2y4)\n",
      "\n",
      "<block>:1:45-60: info: atom does not occur in any rule head:\n",
      "  ap(1,7,#P0,empty)\n",
      "\n",
      "<block>:1:39-51: info: atom does not occur in any rule head:\n",
      "  ap(2,7,#P0,s5)\n",
      "\n",
      "<block>:1:43-57: info: atom does not occur in any rule head:\n",
      "  ap(3,7,#P0,s2y4)\n",
      "\n",
      "<block>:1:45-60: info: atom does not occur in any rule head:\n",
      "  ap(2,7,#P0,empty)\n",
      "\n",
      "<block>:1:39-51: info: atom does not occur in any rule head:\n",
      "  ap(2,7,#P0,s5)\n",
      "\n",
      "<block>:1:43-57: info: atom does not occur in any rule head:\n",
      "  ap(3,7,#P0,s2y4)\n",
      "\n",
      "<block>:1:45-60: info: atom does not occur in any rule head:\n",
      "  ap(2,7,#P0,empty)\n",
      "\n"
     ]
    },
    {
     "name": "stderr",
     "output_type": "stream",
     "text": [
      "<block>:1:39-51: info: atom does not occur in any rule head:\n",
      "  ap(2,7,#P0,s5)\n",
      "\n",
      "<block>:1:43-57: info: atom does not occur in any rule head:\n",
      "  ap(3,7,#P0,s2y4)\n",
      "\n",
      "<block>:1:45-60: info: atom does not occur in any rule head:\n",
      "  ap(2,7,#P0,empty)\n",
      "\n"
     ]
    },
    {
     "name": "stderr",
     "output_type": "stream",
     "text": [
      "<block>:1:39-51: info: atom does not occur in any rule head:\n",
      "  ap(2,7,#P0,s5)\n",
      "\n",
      "<block>:1:43-57: info: atom does not occur in any rule head:\n",
      "  ap(3,7,#P0,s2y4)\n",
      "\n",
      "<block>:1:45-60: info: atom does not occur in any rule head:\n",
      "  ap(2,7,#P0,empty)\n",
      "\n",
      "<block>:1:39-51: info: atom does not occur in any rule head:\n",
      "  ap(2,7,#P0,s5)\n",
      "\n",
      "<block>:1:43-57: info: atom does not occur in any rule head:\n",
      "  ap(3,7,#P0,s2y4)\n",
      "\n",
      "<block>:1:45-60: info: atom does not occur in any rule head:\n",
      "  ap(2,7,#P0,empty)\n",
      "\n",
      "<block>:1:39-51: info: atom does not occur in any rule head:\n",
      "  ap(2,7,#P0,s5)\n",
      "\n",
      "<block>:1:43-57: info: atom does not occur in any rule head:\n",
      "  ap(3,7,#P0,s2y4)\n",
      "\n",
      "<block>:1:45-60: info: atom does not occur in any rule head:\n",
      "  ap(1,7,#P0,empty)\n",
      "\n"
     ]
    },
    {
     "name": "stderr",
     "output_type": "stream",
     "text": [
      "<block>:1:39-51: info: atom does not occur in any rule head:\n",
      "  ap(6,7,#P0,s3)\n",
      "\n",
      "<block>:1:43-57: info: atom does not occur in any rule head:\n",
      "  ap(4,7,#P0,s3y5)\n",
      "\n",
      "<block>:1:45-60: info: atom does not occur in any rule head:\n",
      "  ap(6,7,#P0,empty)\n",
      "\n",
      "<block>:1:39-51: info: atom does not occur in any rule head:\n",
      "  ap(6,7,#P0,s3)\n",
      "\n",
      "<block>:1:43-57: info: atom does not occur in any rule head:\n",
      "  ap(4,7,#P0,s3y5)\n",
      "\n",
      "<block>:1:45-60: info: atom does not occur in any rule head:\n",
      "  ap(6,7,#P0,empty)\n",
      "\n"
     ]
    },
    {
     "name": "stderr",
     "output_type": "stream",
     "text": [
      "<block>:1:39-51: info: atom does not occur in any rule head:\n",
      "  ap(6,7,#P0,s3)\n",
      "\n",
      "<block>:1:43-57: info: atom does not occur in any rule head:\n",
      "  ap(4,7,#P0,s3y5)\n",
      "\n",
      "<block>:1:45-60: info: atom does not occur in any rule head:\n",
      "  ap(6,7,#P0,empty)\n",
      "\n",
      "<block>:1:39-51: info: atom does not occur in any rule head:\n",
      "  ap(6,7,#P0,s3)\n",
      "\n",
      "<block>:1:43-57: info: atom does not occur in any rule head:\n",
      "  ap(4,7,#P0,s3y5)\n",
      "\n",
      "<block>:1:45-60: info: atom does not occur in any rule head:\n",
      "  ap(6,7,#P0,empty)\n",
      "\n"
     ]
    },
    {
     "name": "stderr",
     "output_type": "stream",
     "text": [
      "<block>:1:39-51: info: atom does not occur in any rule head:\n",
      "  ap(6,7,#P0,s1)\n",
      "\n",
      "<block>:1:43-57: info: atom does not occur in any rule head:\n",
      "  ap(3,7,#P0,s2y4)\n",
      "\n",
      "<block>:1:45-60: info: atom does not occur in any rule head:\n",
      "  ap(6,7,#P0,empty)\n",
      "\n",
      "<block>:1:39-51: info: atom does not occur in any rule head:\n",
      "  ap(6,7,#P0,s1)\n",
      "\n",
      "<block>:1:43-57: info: atom does not occur in any rule head:\n",
      "  ap(3,7,#P0,s2y4)\n",
      "\n",
      "<block>:1:45-60: info: atom does not occur in any rule head:\n",
      "  ap(6,7,#P0,empty)\n",
      "\n",
      "<block>:1:39-51: info: atom does not occur in any rule head:\n",
      "  ap(6,7,#P0,s1)\n",
      "\n",
      "<block>:1:43-57: info: atom does not occur in any rule head:\n",
      "  ap(3,7,#P0,s2y4)\n",
      "\n",
      "<block>:1:45-60: info: atom does not occur in any rule head:\n",
      "  ap(6,7,#P0,empty)\n",
      "\n",
      "<block>:1:39-51: info: atom does not occur in any rule head:\n",
      "  ap(6,7,#P0,s1)\n",
      "\n",
      "<block>:1:43-57: info: atom does not occur in any rule head:\n",
      "  ap(3,7,#P0,s2y4)\n",
      "\n",
      "<block>:1:45-60: info: atom does not occur in any rule head:\n",
      "  ap(6,7,#P0,empty)\n",
      "\n"
     ]
    },
    {
     "name": "stderr",
     "output_type": "stream",
     "text": [
      "<block>:1:39-51: info: atom does not occur in any rule head:\n",
      "  ap(6,7,#P0,s1)\n",
      "\n",
      "<block>:1:43-57: info: atom does not occur in any rule head:\n",
      "  ap(3,7,#P0,s2y4)\n",
      "\n",
      "<block>:1:45-60: info: atom does not occur in any rule head:\n",
      "  ap(6,7,#P0,empty)\n",
      "\n",
      "<block>:1:39-51: info: atom does not occur in any rule head:\n",
      "  ap(6,7,#P0,s1)\n",
      "\n",
      "<block>:1:43-57: info: atom does not occur in any rule head:\n",
      "  ap(3,7,#P0,s2y6)\n",
      "\n",
      "<block>:1:45-60: info: atom does not occur in any rule head:\n",
      "  ap(6,7,#P0,empty)\n",
      "\n"
     ]
    },
    {
     "name": "stderr",
     "output_type": "stream",
     "text": [
      "<block>:1:39-51: info: atom does not occur in any rule head:\n",
      "  ap(6,7,#P0,s1)\n",
      "\n",
      "<block>:1:43-57: info: atom does not occur in any rule head:\n",
      "  ap(3,7,#P0,s2y4)\n",
      "\n",
      "<block>:1:45-60: info: atom does not occur in any rule head:\n",
      "  ap(6,7,#P0,empty)\n",
      "\n",
      "<block>:1:39-51: info: atom does not occur in any rule head:\n",
      "  ap(6,7,#P0,s1)\n",
      "\n",
      "<block>:1:43-57: info: atom does not occur in any rule head:\n",
      "  ap(3,7,#P0,s2y4)\n",
      "\n",
      "<block>:1:45-60: info: atom does not occur in any rule head:\n",
      "  ap(6,7,#P0,empty)\n",
      "\n",
      "<block>:1:39-51: info: atom does not occur in any rule head:\n",
      "  ap(6,7,#P0,s1)\n",
      "\n",
      "<block>:1:43-57: info: atom does not occur in any rule head:\n",
      "  ap(3,7,#P0,s2y4)\n",
      "\n",
      "<block>:1:45-60: info: atom does not occur in any rule head:\n",
      "  ap(6,7,#P0,empty)\n",
      "\n"
     ]
    },
    {
     "name": "stderr",
     "output_type": "stream",
     "text": [
      "<block>:1:39-51: info: atom does not occur in any rule head:\n",
      "  ap(6,7,#P0,s1)\n",
      "\n",
      "<block>:1:43-57: info: atom does not occur in any rule head:\n",
      "  ap(3,7,#P0,s2y6)\n",
      "\n",
      "<block>:1:45-60: info: atom does not occur in any rule head:\n",
      "  ap(6,7,#P0,empty)\n",
      "\n",
      "<block>:1:39-51: info: atom does not occur in any rule head:\n",
      "  ap(6,7,#P0,s1)\n",
      "\n",
      "<block>:1:43-57: info: atom does not occur in any rule head:\n",
      "  ap(3,7,#P0,s2y4)\n",
      "\n",
      "<block>:1:45-60: info: atom does not occur in any rule head:\n",
      "  ap(6,7,#P0,empty)\n",
      "\n"
     ]
    },
    {
     "name": "stderr",
     "output_type": "stream",
     "text": [
      "<block>:1:39-51: info: atom does not occur in any rule head:\n",
      "  ap(6,7,#P0,s4)\n",
      "\n",
      "<block>:1:43-57: info: atom does not occur in any rule head:\n",
      "  ap(3,7,#P0,s2y6)\n",
      "\n",
      "<block>:1:45-60: info: atom does not occur in any rule head:\n",
      "  ap(6,7,#P0,empty)\n",
      "\n"
     ]
    },
    {
     "name": "stderr",
     "output_type": "stream",
     "text": [
      "<block>:1:39-51: info: atom does not occur in any rule head:\n",
      "  ap(0,6,#P0,s2)\n",
      "\n",
      "<block>:1:43-57: info: atom does not occur in any rule head:\n",
      "  ap(3,7,#P0,s2y4)\n",
      "\n",
      "<block>:1:45-60: info: atom does not occur in any rule head:\n",
      "  ap(0,6,#P0,empty)\n",
      "\n",
      "<block>:1:39-51: info: atom does not occur in any rule head:\n",
      "  ap(0,7,#P0,s1)\n",
      "\n",
      "<block>:1:43-57: info: atom does not occur in any rule head:\n",
      "  ap(3,7,#P0,s2y4)\n",
      "\n",
      "<block>:1:45-60: info: atom does not occur in any rule head:\n",
      "  ap(0,7,#P0,empty)\n",
      "\n",
      "<block>:1:39-51: info: atom does not occur in any rule head:\n",
      "  ap(0,7,#P0,s1)\n",
      "\n",
      "<block>:1:43-57: info: atom does not occur in any rule head:\n",
      "  ap(3,7,#P0,s2y4)\n",
      "\n",
      "<block>:1:45-60: info: atom does not occur in any rule head:\n",
      "  ap(0,7,#P0,empty)\n",
      "\n"
     ]
    },
    {
     "name": "stderr",
     "output_type": "stream",
     "text": [
      "<block>:1:39-51: info: atom does not occur in any rule head:\n",
      "  ap(0,7,#P0,s1)\n",
      "\n",
      "<block>:1:43-57: info: atom does not occur in any rule head:\n",
      "  ap(3,7,#P0,s2y4)\n",
      "\n",
      "<block>:1:45-60: info: atom does not occur in any rule head:\n",
      "  ap(6,7,#P0,empty)\n",
      "\n"
     ]
    },
    {
     "name": "stderr",
     "output_type": "stream",
     "text": [
      "<block>:1:39-51: info: atom does not occur in any rule head:\n",
      "  ap(0,6,#P0,s2)\n",
      "\n",
      "<block>:1:43-57: info: atom does not occur in any rule head:\n",
      "  ap(3,7,#P0,s2y4)\n",
      "\n",
      "<block>:1:45-60: info: atom does not occur in any rule head:\n",
      "  ap(0,6,#P0,empty)\n",
      "\n",
      "<block>:1:39-51: info: atom does not occur in any rule head:\n",
      "  ap(0,7,#P0,s1)\n",
      "\n",
      "<block>:1:43-57: info: atom does not occur in any rule head:\n",
      "  ap(3,7,#P0,s2y4)\n",
      "\n",
      "<block>:1:45-60: info: atom does not occur in any rule head:\n",
      "  ap(0,7,#P0,empty)\n",
      "\n",
      "<block>:1:39-51: info: atom does not occur in any rule head:\n",
      "  ap(0,7,#P0,s1)\n",
      "\n",
      "<block>:1:43-57: info: atom does not occur in any rule head:\n",
      "  ap(3,7,#P0,s2y4)\n",
      "\n",
      "<block>:1:45-60: info: atom does not occur in any rule head:\n",
      "  ap(2,7,#P0,empty)\n",
      "\n"
     ]
    },
    {
     "name": "stderr",
     "output_type": "stream",
     "text": [
      "<block>:1:39-51: info: atom does not occur in any rule head:\n",
      "  ap(0,7,#P0,s1)\n",
      "\n",
      "<block>:1:43-57: info: atom does not occur in any rule head:\n",
      "  ap(3,7,#P0,s2y4)\n",
      "\n",
      "<block>:1:45-60: info: atom does not occur in any rule head:\n",
      "  ap(2,7,#P0,empty)\n",
      "\n"
     ]
    },
    {
     "name": "stderr",
     "output_type": "stream",
     "text": [
      "<block>:1:39-51: info: atom does not occur in any rule head:\n",
      "  ap(2,7,#P0,s5)\n",
      "\n",
      "<block>:1:43-57: info: atom does not occur in any rule head:\n",
      "  ap(3,7,#P0,s2y4)\n",
      "\n",
      "<block>:1:45-60: info: atom does not occur in any rule head:\n",
      "  ap(2,7,#P0,empty)\n",
      "\n"
     ]
    },
    {
     "name": "stderr",
     "output_type": "stream",
     "text": [
      "<block>:1:39-51: info: atom does not occur in any rule head:\n",
      "  ap(2,7,#P0,s5)\n",
      "\n",
      "<block>:1:43-57: info: atom does not occur in any rule head:\n",
      "  ap(3,7,#P0,s2y4)\n",
      "\n",
      "<block>:1:45-60: info: atom does not occur in any rule head:\n",
      "  ap(2,7,#P0,empty)\n",
      "\n"
     ]
    },
    {
     "name": "stderr",
     "output_type": "stream",
     "text": [
      "<block>:1:39-51: info: atom does not occur in any rule head:\n",
      "  ap(6,7,#P0,s0)\n",
      "\n",
      "<block>:1:43-57: info: atom does not occur in any rule head:\n",
      "  ap(3,7,#P0,s2y4)\n",
      "\n",
      "<block>:1:45-60: info: atom does not occur in any rule head:\n",
      "  ap(6,7,#P0,empty)\n",
      "\n",
      "<block>:1:39-51: info: atom does not occur in any rule head:\n",
      "  ap(6,7,#P0,s0)\n",
      "\n",
      "<block>:1:43-57: info: atom does not occur in any rule head:\n",
      "  ap(3,7,#P0,s2y4)\n",
      "\n",
      "<block>:1:45-60: info: atom does not occur in any rule head:\n",
      "  ap(6,7,#P0,empty)\n",
      "\n",
      "<block>:1:39-51: info: atom does not occur in any rule head:\n",
      "  ap(6,7,#P0,s0)\n",
      "\n",
      "<block>:1:43-57: info: atom does not occur in any rule head:\n",
      "  ap(3,7,#P0,s2y6)\n",
      "\n",
      "<block>:1:45-60: info: atom does not occur in any rule head:\n",
      "  ap(6,7,#P0,empty)\n",
      "\n"
     ]
    },
    {
     "name": "stderr",
     "output_type": "stream",
     "text": [
      "<block>:1:39-51: info: atom does not occur in any rule head:\n",
      "  ap(6,7,#P0,s0)\n",
      "\n",
      "<block>:1:43-57: info: atom does not occur in any rule head:\n",
      "  ap(3,7,#P0,s2y4)\n",
      "\n",
      "<block>:1:45-60: info: atom does not occur in any rule head:\n",
      "  ap(6,7,#P0,empty)\n",
      "\n",
      "<block>:1:39-51: info: atom does not occur in any rule head:\n",
      "  ap(6,7,#P0,s0)\n",
      "\n",
      "<block>:1:43-57: info: atom does not occur in any rule head:\n",
      "  ap(3,7,#P0,s2y4)\n",
      "\n",
      "<block>:1:45-60: info: atom does not occur in any rule head:\n",
      "  ap(6,7,#P0,empty)\n",
      "\n",
      "<block>:1:39-51: info: atom does not occur in any rule head:\n",
      "  ap(6,7,#P0,s0)\n",
      "\n",
      "<block>:1:43-57: info: atom does not occur in any rule head:\n",
      "  ap(3,7,#P0,s2y4)\n",
      "\n",
      "<block>:1:45-60: info: atom does not occur in any rule head:\n",
      "  ap(6,7,#P0,empty)\n",
      "\n"
     ]
    },
    {
     "name": "stderr",
     "output_type": "stream",
     "text": [
      "<block>:1:39-51: info: atom does not occur in any rule head:\n",
      "  ap(6,7,#P0,s0)\n",
      "\n",
      "<block>:1:43-57: info: atom does not occur in any rule head:\n",
      "  ap(3,7,#P0,s2y4)\n",
      "\n",
      "<block>:1:45-60: info: atom does not occur in any rule head:\n",
      "  ap(6,7,#P0,empty)\n",
      "\n",
      "<block>:1:39-51: info: atom does not occur in any rule head:\n",
      "  ap(6,7,#P0,s0)\n",
      "\n",
      "<block>:1:43-57: info: atom does not occur in any rule head:\n",
      "  ap(3,7,#P0,s2y4)\n",
      "\n",
      "<block>:1:45-60: info: atom does not occur in any rule head:\n",
      "  ap(6,7,#P0,empty)\n",
      "\n"
     ]
    },
    {
     "name": "stderr",
     "output_type": "stream",
     "text": [
      "<block>:1:39-51: info: atom does not occur in any rule head:\n",
      "  ap(6,7,#P0,s0)\n",
      "\n",
      "<block>:1:43-57: info: atom does not occur in any rule head:\n",
      "  ap(3,7,#P0,s2y4)\n",
      "\n",
      "<block>:1:45-60: info: atom does not occur in any rule head:\n",
      "  ap(6,7,#P0,empty)\n",
      "\n",
      "<block>:1:39-51: info: atom does not occur in any rule head:\n",
      "  ap(6,7,#P0,s0)\n",
      "\n",
      "<block>:1:43-57: info: atom does not occur in any rule head:\n",
      "  ap(3,7,#P0,s2y4)\n",
      "\n",
      "<block>:1:45-60: info: atom does not occur in any rule head:\n",
      "  ap(6,7,#P0,empty)\n",
      "\n",
      "<block>:1:39-51: info: atom does not occur in any rule head:\n",
      "  ap(6,7,#P0,s0)\n",
      "\n",
      "<block>:1:43-57: info: atom does not occur in any rule head:\n",
      "  ap(3,7,#P0,s2y6)\n",
      "\n",
      "<block>:1:45-60: info: atom does not occur in any rule head:\n",
      "  ap(6,7,#P0,empty)\n",
      "\n"
     ]
    },
    {
     "name": "stderr",
     "output_type": "stream",
     "text": [
      "<block>:1:39-51: info: atom does not occur in any rule head:\n",
      "  ap(6,7,#P0,s0)\n",
      "\n",
      "<block>:1:43-57: info: atom does not occur in any rule head:\n",
      "  ap(3,7,#P0,s2y6)\n",
      "\n",
      "<block>:1:45-60: info: atom does not occur in any rule head:\n",
      "  ap(4,7,#P0,empty)\n",
      "\n",
      "<block>:1:39-51: info: atom does not occur in any rule head:\n",
      "  ap(6,7,#P0,s0)\n",
      "\n",
      "<block>:1:43-57: info: atom does not occur in any rule head:\n",
      "  ap(3,7,#P0,s2y6)\n",
      "\n",
      "<block>:1:45-60: info: atom does not occur in any rule head:\n",
      "  ap(4,7,#P0,empty)\n",
      "\n"
     ]
    },
    {
     "name": "stderr",
     "output_type": "stream",
     "text": [
      "<block>:1:39-51: info: atom does not occur in any rule head:\n",
      "  ap(6,7,#P0,s0)\n",
      "\n",
      "<block>:1:43-57: info: atom does not occur in any rule head:\n",
      "  ap(3,7,#P0,s2y4)\n",
      "\n",
      "<block>:1:45-60: info: atom does not occur in any rule head:\n",
      "  ap(6,7,#P0,empty)\n",
      "\n",
      "<block>:1:39-51: info: atom does not occur in any rule head:\n",
      "  ap(6,7,#P0,s0)\n",
      "\n",
      "<block>:1:43-57: info: atom does not occur in any rule head:\n",
      "  ap(3,7,#P0,s2y4)\n",
      "\n",
      "<block>:1:45-60: info: atom does not occur in any rule head:\n",
      "  ap(6,7,#P0,empty)\n",
      "\n",
      "<block>:1:39-51: info: atom does not occur in any rule head:\n",
      "  ap(0,6,#P0,s2)\n",
      "\n",
      "<block>:1:45-60: info: atom does not occur in any rule head:\n",
      "  ap(0,6,#P0,empty)\n",
      "\n",
      "<block>:1:39-51: info: atom does not occur in any rule head:\n",
      "  ap(0,6,#P0,s2)\n",
      "\n",
      "<block>:1:45-60: info: atom does not occur in any rule head:\n",
      "  ap(0,6,#P0,empty)\n",
      "\n"
     ]
    },
    {
     "name": "stderr",
     "output_type": "stream",
     "text": [
      "<block>:1:39-51: info: atom does not occur in any rule head:\n",
      "  ap(6,7,#P0,s0)\n",
      "\n",
      "<block>:1:43-57: info: atom does not occur in any rule head:\n",
      "  ap(3,7,#P0,s2y4)\n",
      "\n",
      "<block>:1:45-60: info: atom does not occur in any rule head:\n",
      "  ap(6,7,#P0,empty)\n",
      "\n",
      "<block>:1:39-51: info: atom does not occur in any rule head:\n",
      "  ap(0,6,#P0,s2)\n",
      "\n",
      "<block>:1:45-60: info: atom does not occur in any rule head:\n",
      "  ap(0,6,#P0,empty)\n",
      "\n",
      "<block>:1:39-51: info: atom does not occur in any rule head:\n",
      "  ap(0,6,#P0,s2)\n",
      "\n",
      "<block>:1:45-60: info: atom does not occur in any rule head:\n",
      "  ap(0,6,#P0,empty)\n",
      "\n"
     ]
    },
    {
     "name": "stderr",
     "output_type": "stream",
     "text": [
      "<block>:1:39-51: info: atom does not occur in any rule head:\n",
      "  ap(6,7,#P0,s1)\n",
      "\n",
      "<block>:1:43-57: info: atom does not occur in any rule head:\n",
      "  ap(3,7,#P0,s4y5)\n",
      "\n",
      "<block>:1:45-60: info: atom does not occur in any rule head:\n",
      "  ap(6,7,#P0,empty)\n",
      "\n",
      "<block>:1:39-51: info: atom does not occur in any rule head:\n",
      "  ap(6,7,#P0,s1)\n",
      "\n",
      "<block>:1:43-57: info: atom does not occur in any rule head:\n",
      "  ap(3,7,#P0,s4y5)\n",
      "\n",
      "<block>:1:45-60: info: atom does not occur in any rule head:\n",
      "  ap(6,7,#P0,empty)\n",
      "\n",
      "<block>:1:39-51: info: atom does not occur in any rule head:\n",
      "  ap(6,7,#P0,s1)\n",
      "\n",
      "<block>:1:43-57: info: atom does not occur in any rule head:\n",
      "  ap(3,7,#P0,s4y5)\n",
      "\n",
      "<block>:1:45-60: info: atom does not occur in any rule head:\n",
      "  ap(6,7,#P0,empty)\n",
      "\n"
     ]
    },
    {
     "name": "stderr",
     "output_type": "stream",
     "text": [
      "<block>:1:39-51: info: atom does not occur in any rule head:\n",
      "  ap(6,7,#P0,s1)\n",
      "\n",
      "<block>:1:43-57: info: atom does not occur in any rule head:\n",
      "  ap(3,7,#P0,s4y5)\n",
      "\n",
      "<block>:1:45-60: info: atom does not occur in any rule head:\n",
      "  ap(6,7,#P0,empty)\n",
      "\n",
      "<block>:1:39-51: info: atom does not occur in any rule head:\n",
      "  ap(6,7,#P0,s1)\n",
      "\n",
      "<block>:1:43-57: info: atom does not occur in any rule head:\n",
      "  ap(3,7,#P0,s4y5)\n",
      "\n",
      "<block>:1:45-60: info: atom does not occur in any rule head:\n",
      "  ap(6,7,#P0,empty)\n",
      "\n",
      "<block>:1:39-51: info: atom does not occur in any rule head:\n",
      "  ap(6,7,#P0,s1)\n",
      "\n",
      "<block>:1:43-57: info: atom does not occur in any rule head:\n",
      "  ap(3,7,#P0,s4y5)\n",
      "\n",
      "<block>:1:45-60: info: atom does not occur in any rule head:\n",
      "  ap(6,7,#P0,empty)\n",
      "\n"
     ]
    },
    {
     "name": "stderr",
     "output_type": "stream",
     "text": [
      "<block>:1:39-51: info: atom does not occur in any rule head:\n",
      "  ap(6,7,#P0,s1)\n",
      "\n",
      "<block>:1:43-57: info: atom does not occur in any rule head:\n",
      "  ap(3,7,#P0,s4y5)\n",
      "\n",
      "<block>:1:45-60: info: atom does not occur in any rule head:\n",
      "  ap(6,7,#P0,empty)\n",
      "\n"
     ]
    },
    {
     "name": "stderr",
     "output_type": "stream",
     "text": [
      "<block>:1:39-51: info: atom does not occur in any rule head:\n",
      "  ap(6,7,#P0,s1)\n",
      "\n",
      "<block>:1:43-57: info: atom does not occur in any rule head:\n",
      "  ap(3,7,#P0,s4y5)\n",
      "\n",
      "<block>:1:45-60: info: atom does not occur in any rule head:\n",
      "  ap(6,7,#P0,empty)\n",
      "\n",
      "<block>:1:39-51: info: atom does not occur in any rule head:\n",
      "  ap(6,7,#P0,s1)\n",
      "\n",
      "<block>:1:43-57: info: atom does not occur in any rule head:\n",
      "  ap(3,7,#P0,s4y5)\n",
      "\n",
      "<block>:1:45-60: info: atom does not occur in any rule head:\n",
      "  ap(6,7,#P0,empty)\n",
      "\n",
      "<block>:1:39-51: info: atom does not occur in any rule head:\n",
      "  ap(6,7,#P0,s1)\n",
      "\n",
      "<block>:1:43-57: info: atom does not occur in any rule head:\n",
      "  ap(3,7,#P0,s4y5)\n",
      "\n",
      "<block>:1:45-60: info: atom does not occur in any rule head:\n",
      "  ap(6,7,#P0,empty)\n",
      "\n"
     ]
    },
    {
     "name": "stderr",
     "output_type": "stream",
     "text": [
      "<block>:1:39-51: info: atom does not occur in any rule head:\n",
      "  ap(6,7,#P0,s1)\n",
      "\n",
      "<block>:1:43-57: info: atom does not occur in any rule head:\n",
      "  ap(3,7,#P0,s2y6)\n",
      "\n",
      "<block>:1:45-60: info: atom does not occur in any rule head:\n",
      "  ap(6,7,#P0,empty)\n",
      "\n",
      "<block>:1:39-51: info: atom does not occur in any rule head:\n",
      "  ap(6,7,#P0,s1)\n",
      "\n",
      "<block>:1:43-57: info: atom does not occur in any rule head:\n",
      "  ap(3,7,#P0,s2y6)\n",
      "\n",
      "<block>:1:45-60: info: atom does not occur in any rule head:\n",
      "  ap(6,7,#P0,empty)\n",
      "\n"
     ]
    },
    {
     "name": "stderr",
     "output_type": "stream",
     "text": [
      "<block>:1:39-51: info: atom does not occur in any rule head:\n",
      "  ap(6,7,#P0,s4)\n",
      "\n",
      "<block>:1:43-57: info: atom does not occur in any rule head:\n",
      "  ap(3,7,#P0,s2y6)\n",
      "\n",
      "<block>:1:45-60: info: atom does not occur in any rule head:\n",
      "  ap(6,7,#P0,empty)\n",
      "\n"
     ]
    },
    {
     "name": "stderr",
     "output_type": "stream",
     "text": [
      "<block>:1:39-51: info: atom does not occur in any rule head:\n",
      "  ap(6,7,#P0,s0)\n",
      "\n",
      "<block>:1:43-57: info: atom does not occur in any rule head:\n",
      "  ap(3,7,#P0,s2y4)\n",
      "\n",
      "<block>:1:45-60: info: atom does not occur in any rule head:\n",
      "  ap(6,7,#P0,empty)\n",
      "\n",
      "<block>:1:39-51: info: atom does not occur in any rule head:\n",
      "  ap(6,7,#P0,s0)\n",
      "\n",
      "<block>:1:43-57: info: atom does not occur in any rule head:\n",
      "  ap(3,7,#P0,s2y4)\n",
      "\n",
      "<block>:1:45-60: info: atom does not occur in any rule head:\n",
      "  ap(6,7,#P0,empty)\n",
      "\n"
     ]
    },
    {
     "name": "stderr",
     "output_type": "stream",
     "text": [
      "<block>:1:39-51: info: atom does not occur in any rule head:\n",
      "  ap(6,7,#P0,s0)\n",
      "\n",
      "<block>:1:43-57: info: atom does not occur in any rule head:\n",
      "  ap(3,7,#P0,s2y4)\n",
      "\n",
      "<block>:1:45-60: info: atom does not occur in any rule head:\n",
      "  ap(6,7,#P0,empty)\n",
      "\n",
      "<block>:1:39-51: info: atom does not occur in any rule head:\n",
      "  ap(6,7,#P0,s0)\n",
      "\n",
      "<block>:1:43-57: info: atom does not occur in any rule head:\n",
      "  ap(3,7,#P0,s2y4)\n",
      "\n",
      "<block>:1:45-60: info: atom does not occur in any rule head:\n",
      "  ap(6,7,#P0,empty)\n",
      "\n"
     ]
    },
    {
     "name": "stderr",
     "output_type": "stream",
     "text": [
      "<block>:1:39-51: info: atom does not occur in any rule head:\n",
      "  ap(6,7,#P0,s0)\n",
      "\n",
      "<block>:1:43-57: info: atom does not occur in any rule head:\n",
      "  ap(3,7,#P0,s2y4)\n",
      "\n",
      "<block>:1:45-60: info: atom does not occur in any rule head:\n",
      "  ap(6,7,#P0,empty)\n",
      "\n",
      "<block>:1:39-51: info: atom does not occur in any rule head:\n",
      "  ap(6,7,#P0,s0)\n",
      "\n",
      "<block>:1:43-57: info: atom does not occur in any rule head:\n",
      "  ap(3,7,#P0,s2y4)\n",
      "\n",
      "<block>:1:45-60: info: atom does not occur in any rule head:\n",
      "  ap(6,7,#P0,empty)\n",
      "\n",
      "<block>:1:39-51: info: atom does not occur in any rule head:\n",
      "  ap(6,7,#P0,s0)\n",
      "\n",
      "<block>:1:43-57: info: atom does not occur in any rule head:\n",
      "  ap(3,7,#P0,s2y4)\n",
      "\n",
      "<block>:1:45-60: info: atom does not occur in any rule head:\n",
      "  ap(6,7,#P0,empty)\n",
      "\n",
      "<block>:1:39-51: info: atom does not occur in any rule head:\n",
      "  ap(6,7,#P0,s0)\n",
      "\n",
      "<block>:1:43-57: info: atom does not occur in any rule head:\n",
      "  ap(3,7,#P0,s2y4)\n",
      "\n",
      "<block>:1:45-60: info: atom does not occur in any rule head:\n",
      "  ap(6,7,#P0,empty)\n",
      "\n"
     ]
    },
    {
     "name": "stderr",
     "output_type": "stream",
     "text": [
      "<block>:1:39-51: info: atom does not occur in any rule head:\n",
      "  ap(6,7,#P0,s0)\n",
      "\n",
      "<block>:1:43-57: info: atom does not occur in any rule head:\n",
      "  ap(3,7,#P0,s2y4)\n",
      "\n",
      "<block>:1:45-60: info: atom does not occur in any rule head:\n",
      "  ap(6,7,#P0,empty)\n",
      "\n",
      "<block>:1:39-51: info: atom does not occur in any rule head:\n",
      "  ap(6,7,#P0,s0)\n",
      "\n",
      "<block>:1:43-57: info: atom does not occur in any rule head:\n",
      "  ap(3,7,#P0,s2y6)\n",
      "\n",
      "<block>:1:45-60: info: atom does not occur in any rule head:\n",
      "  ap(6,7,#P0,empty)\n",
      "\n",
      "<block>:1:39-51: info: atom does not occur in any rule head:\n",
      "  ap(6,7,#P0,s0)\n",
      "\n",
      "<block>:1:43-57: info: atom does not occur in any rule head:\n",
      "  ap(3,7,#P0,s2y6)\n",
      "\n",
      "<block>:1:45-60: info: atom does not occur in any rule head:\n",
      "  ap(1,7,#P0,empty)\n",
      "\n"
     ]
    },
    {
     "name": "stderr",
     "output_type": "stream",
     "text": [
      "<block>:1:39-51: info: atom does not occur in any rule head:\n",
      "  ap(6,7,#P0,s0)\n",
      "\n",
      "<block>:1:43-57: info: atom does not occur in any rule head:\n",
      "  ap(3,7,#P0,s2y6)\n",
      "\n",
      "<block>:1:45-60: info: atom does not occur in any rule head:\n",
      "  ap(6,7,#P0,empty)\n",
      "\n",
      "<block>:1:39-51: info: atom does not occur in any rule head:\n",
      "  ap(6,7,#P0,s0)\n",
      "\n",
      "<block>:1:43-57: info: atom does not occur in any rule head:\n",
      "  ap(3,7,#P0,s2y6)\n",
      "\n",
      "<block>:1:45-60: info: atom does not occur in any rule head:\n",
      "  ap(6,7,#P0,empty)\n",
      "\n"
     ]
    },
    {
     "name": "stderr",
     "output_type": "stream",
     "text": [
      "<block>:1:39-51: info: atom does not occur in any rule head:\n",
      "  ap(6,7,#P0,s0)\n",
      "\n",
      "<block>:1:43-57: info: atom does not occur in any rule head:\n",
      "  ap(3,7,#P0,s2y6)\n",
      "\n",
      "<block>:1:45-60: info: atom does not occur in any rule head:\n",
      "  ap(6,7,#P0,empty)\n",
      "\n",
      "<block>:1:39-51: info: atom does not occur in any rule head:\n",
      "  ap(6,7,#P0,s0)\n",
      "\n",
      "<block>:1:43-57: info: atom does not occur in any rule head:\n",
      "  ap(3,7,#P0,s2y6)\n",
      "\n",
      "<block>:1:45-60: info: atom does not occur in any rule head:\n",
      "  ap(6,7,#P0,empty)\n",
      "\n"
     ]
    },
    {
     "name": "stderr",
     "output_type": "stream",
     "text": [
      "<block>:1:39-51: info: atom does not occur in any rule head:\n",
      "  ap(6,7,#P0,s0)\n",
      "\n",
      "<block>:1:43-57: info: atom does not occur in any rule head:\n",
      "  ap(3,7,#P0,s2y6)\n",
      "\n",
      "<block>:1:45-60: info: atom does not occur in any rule head:\n",
      "  ap(6,7,#P0,empty)\n",
      "\n",
      "<block>:1:39-51: info: atom does not occur in any rule head:\n",
      "  ap(6,7,#P0,s0)\n",
      "\n",
      "<block>:1:43-57: info: atom does not occur in any rule head:\n",
      "  ap(3,7,#P0,s2y6)\n",
      "\n",
      "<block>:1:45-60: info: atom does not occur in any rule head:\n",
      "  ap(6,7,#P0,empty)\n",
      "\n"
     ]
    },
    {
     "name": "stderr",
     "output_type": "stream",
     "text": [
      "<block>:1:39-51: info: atom does not occur in any rule head:\n",
      "  ap(6,7,#P0,s0)\n",
      "\n",
      "<block>:1:43-57: info: atom does not occur in any rule head:\n",
      "  ap(3,7,#P0,s2y6)\n",
      "\n",
      "<block>:1:45-60: info: atom does not occur in any rule head:\n",
      "  ap(6,7,#P0,empty)\n",
      "\n",
      "<block>:1:39-51: info: atom does not occur in any rule head:\n",
      "  ap(6,7,#P0,s0)\n",
      "\n",
      "<block>:1:43-57: info: atom does not occur in any rule head:\n",
      "  ap(3,7,#P0,s2y6)\n",
      "\n",
      "<block>:1:45-60: info: atom does not occur in any rule head:\n",
      "  ap(6,7,#P0,empty)\n",
      "\n"
     ]
    },
    {
     "name": "stderr",
     "output_type": "stream",
     "text": [
      "<block>:1:39-51: info: atom does not occur in any rule head:\n",
      "  ap(6,7,#P0,s0)\n",
      "\n",
      "<block>:1:43-57: info: atom does not occur in any rule head:\n",
      "  ap(3,7,#P0,s2y4)\n",
      "\n",
      "<block>:1:45-60: info: atom does not occur in any rule head:\n",
      "  ap(6,7,#P0,empty)\n",
      "\n",
      "<block>:1:39-51: info: atom does not occur in any rule head:\n",
      "  ap(6,7,#P0,s0)\n",
      "\n",
      "<block>:1:43-57: info: atom does not occur in any rule head:\n",
      "  ap(3,7,#P0,s2y4)\n",
      "\n",
      "<block>:1:45-60: info: atom does not occur in any rule head:\n",
      "  ap(6,7,#P0,empty)\n",
      "\n",
      "<block>:1:39-51: info: atom does not occur in any rule head:\n",
      "  ap(6,7,#P0,s0)\n",
      "\n",
      "<block>:1:43-57: info: atom does not occur in any rule head:\n",
      "  ap(3,7,#P0,s2y4)\n",
      "\n",
      "<block>:1:45-60: info: atom does not occur in any rule head:\n",
      "  ap(6,7,#P0,empty)\n",
      "\n"
     ]
    },
    {
     "name": "stderr",
     "output_type": "stream",
     "text": [
      "<block>:1:39-51: info: atom does not occur in any rule head:\n",
      "  ap(6,7,#P0,s0)\n",
      "\n",
      "<block>:1:43-57: info: atom does not occur in any rule head:\n",
      "  ap(3,7,#P0,s2y6)\n",
      "\n",
      "<block>:1:45-60: info: atom does not occur in any rule head:\n",
      "  ap(6,7,#P0,empty)\n",
      "\n"
     ]
    },
    {
     "name": "stderr",
     "output_type": "stream",
     "text": [
      "<block>:1:39-51: info: atom does not occur in any rule head:\n",
      "  ap(6,7,#P0,s0)\n",
      "\n",
      "<block>:1:43-57: info: atom does not occur in any rule head:\n",
      "  ap(3,7,#P0,s2y4)\n",
      "\n",
      "<block>:1:45-60: info: atom does not occur in any rule head:\n",
      "  ap(6,7,#P0,empty)\n",
      "\n",
      "<block>:1:39-51: info: atom does not occur in any rule head:\n",
      "  ap(6,7,#P0,s0)\n",
      "\n",
      "<block>:1:43-57: info: atom does not occur in any rule head:\n",
      "  ap(3,7,#P0,s2y4)\n",
      "\n",
      "<block>:1:45-60: info: atom does not occur in any rule head:\n",
      "  ap(6,7,#P0,empty)\n",
      "\n",
      "<block>:1:39-51: info: atom does not occur in any rule head:\n",
      "  ap(6,7,#P0,s0)\n",
      "\n",
      "<block>:1:43-57: info: atom does not occur in any rule head:\n",
      "  ap(3,7,#P0,s2y4)\n",
      "\n",
      "<block>:1:45-60: info: atom does not occur in any rule head:\n",
      "  ap(6,7,#P0,empty)\n",
      "\n"
     ]
    },
    {
     "name": "stderr",
     "output_type": "stream",
     "text": [
      "<block>:1:39-51: info: atom does not occur in any rule head:\n",
      "  ap(6,7,#P0,s0)\n",
      "\n",
      "<block>:1:43-57: info: atom does not occur in any rule head:\n",
      "  ap(3,7,#P0,s2y4)\n",
      "\n",
      "<block>:1:45-60: info: atom does not occur in any rule head:\n",
      "  ap(6,7,#P0,empty)\n",
      "\n",
      "<block>:1:39-51: info: atom does not occur in any rule head:\n",
      "  ap(6,7,#P0,s0)\n",
      "\n",
      "<block>:1:43-57: info: atom does not occur in any rule head:\n",
      "  ap(3,7,#P0,s2y4)\n",
      "\n",
      "<block>:1:45-60: info: atom does not occur in any rule head:\n",
      "  ap(6,7,#P0,empty)\n",
      "\n",
      "<block>:1:39-51: info: atom does not occur in any rule head:\n",
      "  ap(6,7,#P0,s0)\n",
      "\n",
      "<block>:1:43-57: info: atom does not occur in any rule head:\n",
      "  ap(3,7,#P0,s2y6)\n",
      "\n",
      "<block>:1:45-60: info: atom does not occur in any rule head:\n",
      "  ap(6,7,#P0,empty)\n",
      "\n"
     ]
    },
    {
     "name": "stderr",
     "output_type": "stream",
     "text": [
      "<block>:1:39-51: info: atom does not occur in any rule head:\n",
      "  ap(2,7,#P0,s5)\n",
      "\n",
      "<block>:1:43-57: info: atom does not occur in any rule head:\n",
      "  ap(3,7,#P0,s4y5)\n",
      "\n",
      "<block>:1:45-60: info: atom does not occur in any rule head:\n",
      "  ap(2,7,#P0,empty)\n",
      "\n",
      "<block>:1:39-51: info: atom does not occur in any rule head:\n",
      "  ap(2,7,#P0,s5)\n",
      "\n",
      "<block>:1:43-57: info: atom does not occur in any rule head:\n",
      "  ap(3,7,#P0,s4y5)\n",
      "\n",
      "<block>:1:45-60: info: atom does not occur in any rule head:\n",
      "  ap(2,7,#P0,empty)\n",
      "\n",
      "<block>:1:39-51: info: atom does not occur in any rule head:\n",
      "  ap(2,7,#P0,s5)\n",
      "\n",
      "<block>:1:43-57: info: atom does not occur in any rule head:\n",
      "  ap(3,7,#P0,s4y5)\n",
      "\n",
      "<block>:1:45-60: info: atom does not occur in any rule head:\n",
      "  ap(2,7,#P0,empty)\n",
      "\n"
     ]
    },
    {
     "name": "stderr",
     "output_type": "stream",
     "text": [
      "<block>:1:39-51: info: atom does not occur in any rule head:\n",
      "  ap(2,7,#P0,s5)\n",
      "\n",
      "<block>:1:43-57: info: atom does not occur in any rule head:\n",
      "  ap(3,7,#P0,s4y5)\n",
      "\n",
      "<block>:1:45-60: info: atom does not occur in any rule head:\n",
      "  ap(2,7,#P0,empty)\n",
      "\n",
      "<block>:1:39-51: info: atom does not occur in any rule head:\n",
      "  ap(2,7,#P0,s5)\n",
      "\n",
      "<block>:1:43-57: info: atom does not occur in any rule head:\n",
      "  ap(3,7,#P0,s4y5)\n",
      "\n",
      "<block>:1:45-60: info: atom does not occur in any rule head:\n",
      "  ap(2,7,#P0,empty)\n",
      "\n",
      "<block>:1:39-51: info: atom does not occur in any rule head:\n",
      "  ap(2,7,#P0,s5)\n",
      "\n",
      "<block>:1:43-57: info: atom does not occur in any rule head:\n",
      "  ap(3,7,#P0,s4y5)\n",
      "\n",
      "<block>:1:45-60: info: atom does not occur in any rule head:\n",
      "  ap(2,7,#P0,empty)\n",
      "\n"
     ]
    },
    {
     "name": "stderr",
     "output_type": "stream",
     "text": [
      "<block>:1:39-51: info: atom does not occur in any rule head:\n",
      "  ap(6,7,#P0,s0)\n",
      "\n",
      "<block>:1:43-57: info: atom does not occur in any rule head:\n",
      "  ap(3,7,#P0,s2y4)\n",
      "\n",
      "<block>:1:45-60: info: atom does not occur in any rule head:\n",
      "  ap(6,7,#P0,empty)\n",
      "\n",
      "<block>:1:39-51: info: atom does not occur in any rule head:\n",
      "  ap(6,7,#P0,s0)\n",
      "\n",
      "<block>:1:43-57: info: atom does not occur in any rule head:\n",
      "  ap(3,7,#P0,s2y4)\n",
      "\n",
      "<block>:1:45-60: info: atom does not occur in any rule head:\n",
      "  ap(6,7,#P0,empty)\n",
      "\n",
      "<block>:1:39-51: info: atom does not occur in any rule head:\n",
      "  ap(6,7,#P0,s0)\n",
      "\n",
      "<block>:1:43-57: info: atom does not occur in any rule head:\n",
      "  ap(3,7,#P0,s2y4)\n",
      "\n",
      "<block>:1:45-60: info: atom does not occur in any rule head:\n",
      "  ap(6,7,#P0,empty)\n",
      "\n"
     ]
    },
    {
     "name": "stderr",
     "output_type": "stream",
     "text": [
      "<block>:1:39-51: info: atom does not occur in any rule head:\n",
      "  ap(6,7,#P0,s0)\n",
      "\n",
      "<block>:1:43-57: info: atom does not occur in any rule head:\n",
      "  ap(3,7,#P0,s2y4)\n",
      "\n",
      "<block>:1:45-60: info: atom does not occur in any rule head:\n",
      "  ap(6,7,#P0,empty)\n",
      "\n"
     ]
    },
    {
     "name": "stderr",
     "output_type": "stream",
     "text": [
      "<block>:1:39-51: info: atom does not occur in any rule head:\n",
      "  ap(6,7,#P0,s0)\n",
      "\n",
      "<block>:1:43-57: info: atom does not occur in any rule head:\n",
      "  ap(3,7,#P0,s2y4)\n",
      "\n",
      "<block>:1:45-60: info: atom does not occur in any rule head:\n",
      "  ap(6,7,#P0,empty)\n",
      "\n",
      "<block>:1:39-51: info: atom does not occur in any rule head:\n",
      "  ap(6,7,#P0,s0)\n",
      "\n",
      "<block>:1:43-57: info: atom does not occur in any rule head:\n",
      "  ap(3,7,#P0,s2y4)\n",
      "\n",
      "<block>:1:45-60: info: atom does not occur in any rule head:\n",
      "  ap(6,7,#P0,empty)\n",
      "\n"
     ]
    },
    {
     "name": "stderr",
     "output_type": "stream",
     "text": [
      "<block>:1:39-51: info: atom does not occur in any rule head:\n",
      "  ap(0,6,#P0,s2)\n",
      "\n",
      "<block>:1:43-57: info: atom does not occur in any rule head:\n",
      "  ap(3,7,#P0,s2y4)\n",
      "\n",
      "<block>:1:45-60: info: atom does not occur in any rule head:\n",
      "  ap(0,6,#P0,empty)\n",
      "\n",
      "<block>:1:39-51: info: atom does not occur in any rule head:\n",
      "  ap(2,7,#P0,s5)\n",
      "\n",
      "<block>:1:43-57: info: atom does not occur in any rule head:\n",
      "  ap(3,7,#P0,s2y4)\n",
      "\n",
      "<block>:1:45-60: info: atom does not occur in any rule head:\n",
      "  ap(2,7,#P0,empty)\n",
      "\n"
     ]
    },
    {
     "name": "stderr",
     "output_type": "stream",
     "text": [
      "<block>:1:39-51: info: atom does not occur in any rule head:\n",
      "  ap(0,6,#P0,s2)\n",
      "\n",
      "<block>:1:43-57: info: atom does not occur in any rule head:\n",
      "  ap(3,7,#P0,s2y4)\n",
      "\n",
      "<block>:1:45-60: info: atom does not occur in any rule head:\n",
      "  ap(0,6,#P0,empty)\n",
      "\n",
      "<block>:1:39-51: info: atom does not occur in any rule head:\n",
      "  ap(2,7,#P0,s5)\n",
      "\n",
      "<block>:1:43-57: info: atom does not occur in any rule head:\n",
      "  ap(3,7,#P0,s2y4)\n",
      "\n",
      "<block>:1:45-60: info: atom does not occur in any rule head:\n",
      "  ap(2,7,#P0,empty)\n",
      "\n"
     ]
    },
    {
     "name": "stderr",
     "output_type": "stream",
     "text": [
      "<block>:1:39-51: info: atom does not occur in any rule head:\n",
      "  ap(4,7,#P0,s5)\n",
      "\n",
      "<block>:1:43-57: info: atom does not occur in any rule head:\n",
      "  ap(3,7,#P0,s2y4)\n",
      "\n",
      "<block>:1:45-60: info: atom does not occur in any rule head:\n",
      "  ap(4,7,#P0,empty)\n",
      "\n"
     ]
    },
    {
     "name": "stderr",
     "output_type": "stream",
     "text": [
      "<block>:1:39-51: info: atom does not occur in any rule head:\n",
      "  ap(4,7,#P0,s5)\n",
      "\n",
      "<block>:1:43-57: info: atom does not occur in any rule head:\n",
      "  ap(3,7,#P0,s2y4)\n",
      "\n",
      "<block>:1:45-60: info: atom does not occur in any rule head:\n",
      "  ap(4,7,#P0,empty)\n",
      "\n"
     ]
    },
    {
     "name": "stderr",
     "output_type": "stream",
     "text": [
      "<block>:1:39-51: info: atom does not occur in any rule head:\n",
      "  ap(2,7,#P0,s5)\n",
      "\n",
      "<block>:1:43-57: info: atom does not occur in any rule head:\n",
      "  ap(3,7,#P0,s2y4)\n",
      "\n",
      "<block>:1:45-60: info: atom does not occur in any rule head:\n",
      "  ap(2,7,#P0,empty)\n",
      "\n",
      "<block>:1:39-51: info: atom does not occur in any rule head:\n",
      "  ap(2,7,#P0,s5)\n",
      "\n",
      "<block>:1:43-57: info: atom does not occur in any rule head:\n",
      "  ap(3,7,#P0,s2y4)\n",
      "\n",
      "<block>:1:45-60: info: atom does not occur in any rule head:\n",
      "  ap(2,7,#P0,empty)\n",
      "\n",
      "<block>:1:39-51: info: atom does not occur in any rule head:\n",
      "  ap(2,7,#P0,s5)\n",
      "\n",
      "<block>:1:43-57: info: atom does not occur in any rule head:\n",
      "  ap(3,7,#P0,s2y4)\n",
      "\n",
      "<block>:1:45-60: info: atom does not occur in any rule head:\n",
      "  ap(2,7,#P0,empty)\n",
      "\n"
     ]
    },
    {
     "name": "stderr",
     "output_type": "stream",
     "text": [
      "<block>:1:39-51: info: atom does not occur in any rule head:\n",
      "  ap(2,7,#P0,s5)\n",
      "\n",
      "<block>:1:43-57: info: atom does not occur in any rule head:\n",
      "  ap(3,7,#P0,s2y4)\n",
      "\n",
      "<block>:1:45-60: info: atom does not occur in any rule head:\n",
      "  ap(2,7,#P0,empty)\n",
      "\n",
      "<block>:1:39-51: info: atom does not occur in any rule head:\n",
      "  ap(2,7,#P0,s5)\n",
      "\n",
      "<block>:1:43-57: info: atom does not occur in any rule head:\n",
      "  ap(3,7,#P0,s2y4)\n",
      "\n",
      "<block>:1:45-60: info: atom does not occur in any rule head:\n",
      "  ap(2,7,#P0,empty)\n",
      "\n"
     ]
    },
    {
     "name": "stderr",
     "output_type": "stream",
     "text": [
      "<block>:1:39-51: info: atom does not occur in any rule head:\n",
      "  ap(2,7,#P0,s5)\n",
      "\n",
      "<block>:1:43-57: info: atom does not occur in any rule head:\n",
      "  ap(3,7,#P0,s2y4)\n",
      "\n",
      "<block>:1:45-60: info: atom does not occur in any rule head:\n",
      "  ap(2,7,#P0,empty)\n",
      "\n",
      "<block>:1:39-51: info: atom does not occur in any rule head:\n",
      "  ap(2,7,#P0,s5)\n",
      "\n",
      "<block>:1:43-57: info: atom does not occur in any rule head:\n",
      "  ap(3,7,#P0,s2y4)\n",
      "\n",
      "<block>:1:45-60: info: atom does not occur in any rule head:\n",
      "  ap(2,7,#P0,empty)\n",
      "\n",
      "<block>:1:39-51: info: atom does not occur in any rule head:\n",
      "  ap(2,7,#P0,s5)\n",
      "\n",
      "<block>:1:43-57: info: atom does not occur in any rule head:\n",
      "  ap(3,7,#P0,s2y4)\n",
      "\n",
      "<block>:1:45-60: info: atom does not occur in any rule head:\n",
      "  ap(2,7,#P0,empty)\n",
      "\n"
     ]
    },
    {
     "name": "stderr",
     "output_type": "stream",
     "text": [
      "<block>:1:39-51: info: atom does not occur in any rule head:\n",
      "  ap(2,7,#P0,s5)\n",
      "\n",
      "<block>:1:43-57: info: atom does not occur in any rule head:\n",
      "  ap(3,7,#P0,s2y6)\n",
      "\n",
      "<block>:1:45-60: info: atom does not occur in any rule head:\n",
      "  ap(2,7,#P0,empty)\n",
      "\n",
      "<block>:1:39-51: info: atom does not occur in any rule head:\n",
      "  ap(2,7,#P0,s5)\n",
      "\n",
      "<block>:1:43-57: info: atom does not occur in any rule head:\n",
      "  ap(3,7,#P0,s2y4)\n",
      "\n",
      "<block>:1:45-60: info: atom does not occur in any rule head:\n",
      "  ap(2,7,#P0,empty)\n",
      "\n"
     ]
    },
    {
     "name": "stderr",
     "output_type": "stream",
     "text": [
      "<block>:1:39-51: info: atom does not occur in any rule head:\n",
      "  ap(2,7,#P0,s5)\n",
      "\n",
      "<block>:1:43-57: info: atom does not occur in any rule head:\n",
      "  ap(3,7,#P0,s2y4)\n",
      "\n",
      "<block>:1:45-60: info: atom does not occur in any rule head:\n",
      "  ap(2,7,#P0,empty)\n",
      "\n",
      "<block>:1:39-51: info: atom does not occur in any rule head:\n",
      "  ap(2,7,#P0,s5)\n",
      "\n",
      "<block>:1:43-57: info: atom does not occur in any rule head:\n",
      "  ap(3,7,#P0,s2y4)\n",
      "\n",
      "<block>:1:45-60: info: atom does not occur in any rule head:\n",
      "  ap(2,7,#P0,empty)\n",
      "\n",
      "<block>:1:39-51: info: atom does not occur in any rule head:\n",
      "  ap(2,7,#P0,s5)\n",
      "\n",
      "<block>:1:43-57: info: atom does not occur in any rule head:\n",
      "  ap(3,7,#P0,s2y4)\n",
      "\n",
      "<block>:1:45-60: info: atom does not occur in any rule head:\n",
      "  ap(2,7,#P0,empty)\n",
      "\n"
     ]
    },
    {
     "name": "stderr",
     "output_type": "stream",
     "text": [
      "<block>:1:39-51: info: atom does not occur in any rule head:\n",
      "  ap(2,7,#P0,s5)\n",
      "\n",
      "<block>:1:43-57: info: atom does not occur in any rule head:\n",
      "  ap(3,7,#P0,s2y4)\n",
      "\n",
      "<block>:1:45-60: info: atom does not occur in any rule head:\n",
      "  ap(2,7,#P0,empty)\n",
      "\n"
     ]
    },
    {
     "name": "stderr",
     "output_type": "stream",
     "text": [
      "<block>:1:39-51: info: atom does not occur in any rule head:\n",
      "  ap(2,7,#P0,s5)\n",
      "\n",
      "<block>:1:43-57: info: atom does not occur in any rule head:\n",
      "  ap(3,7,#P0,s2y4)\n",
      "\n",
      "<block>:1:45-60: info: atom does not occur in any rule head:\n",
      "  ap(2,7,#P0,empty)\n",
      "\n",
      "<block>:1:39-51: info: atom does not occur in any rule head:\n",
      "  ap(2,7,#P0,s5)\n",
      "\n",
      "<block>:1:43-57: info: atom does not occur in any rule head:\n",
      "  ap(3,7,#P0,s2y4)\n",
      "\n",
      "<block>:1:45-60: info: atom does not occur in any rule head:\n",
      "  ap(2,7,#P0,empty)\n",
      "\n",
      "<block>:1:39-51: info: atom does not occur in any rule head:\n",
      "  ap(2,7,#P0,s5)\n",
      "\n",
      "<block>:1:43-57: info: atom does not occur in any rule head:\n",
      "  ap(3,7,#P0,s2y4)\n",
      "\n",
      "<block>:1:45-60: info: atom does not occur in any rule head:\n",
      "  ap(2,7,#P0,empty)\n",
      "\n"
     ]
    },
    {
     "name": "stderr",
     "output_type": "stream",
     "text": [
      "<block>:1:39-51: info: atom does not occur in any rule head:\n",
      "  ap(2,7,#P0,s5)\n",
      "\n",
      "<block>:1:43-57: info: atom does not occur in any rule head:\n",
      "  ap(3,7,#P0,s2y4)\n",
      "\n",
      "<block>:1:45-60: info: atom does not occur in any rule head:\n",
      "  ap(2,7,#P0,empty)\n",
      "\n"
     ]
    },
    {
     "name": "stderr",
     "output_type": "stream",
     "text": [
      "<block>:1:39-51: info: atom does not occur in any rule head:\n",
      "  ap(2,7,#P0,s5)\n",
      "\n",
      "<block>:1:43-57: info: atom does not occur in any rule head:\n",
      "  ap(3,7,#P0,s2y4)\n",
      "\n",
      "<block>:1:45-60: info: atom does not occur in any rule head:\n",
      "  ap(2,7,#P0,empty)\n",
      "\n",
      "<block>:1:39-51: info: atom does not occur in any rule head:\n",
      "  ap(2,7,#P0,s5)\n",
      "\n",
      "<block>:1:43-57: info: atom does not occur in any rule head:\n",
      "  ap(3,7,#P0,s2y4)\n",
      "\n",
      "<block>:1:45-60: info: atom does not occur in any rule head:\n",
      "  ap(2,7,#P0,empty)\n",
      "\n"
     ]
    },
    {
     "name": "stderr",
     "output_type": "stream",
     "text": [
      "<block>:1:39-51: info: atom does not occur in any rule head:\n",
      "  ap(2,7,#P0,s5)\n",
      "\n",
      "<block>:1:43-57: info: atom does not occur in any rule head:\n",
      "  ap(3,7,#P0,s2y4)\n",
      "\n",
      "<block>:1:45-60: info: atom does not occur in any rule head:\n",
      "  ap(2,7,#P0,empty)\n",
      "\n"
     ]
    },
    {
     "name": "stderr",
     "output_type": "stream",
     "text": [
      "<block>:1:39-51: info: atom does not occur in any rule head:\n",
      "  ap(2,7,#P0,s5)\n",
      "\n",
      "<block>:1:43-57: info: atom does not occur in any rule head:\n",
      "  ap(3,7,#P0,s2y4)\n",
      "\n",
      "<block>:1:45-60: info: atom does not occur in any rule head:\n",
      "  ap(2,7,#P0,empty)\n",
      "\n",
      "<block>:1:39-51: info: atom does not occur in any rule head:\n",
      "  ap(2,7,#P0,s5)\n",
      "\n",
      "<block>:1:43-57: info: atom does not occur in any rule head:\n",
      "  ap(3,7,#P0,s2y4)\n",
      "\n",
      "<block>:1:45-60: info: atom does not occur in any rule head:\n",
      "  ap(2,7,#P0,empty)\n",
      "\n",
      "<block>:1:39-51: info: atom does not occur in any rule head:\n",
      "  ap(2,7,#P0,s5)\n",
      "\n",
      "<block>:1:43-57: info: atom does not occur in any rule head:\n",
      "  ap(3,7,#P0,s2y6)\n",
      "\n",
      "<block>:1:45-60: info: atom does not occur in any rule head:\n",
      "  ap(2,7,#P0,empty)\n",
      "\n"
     ]
    },
    {
     "name": "stdout",
     "output_type": "stream",
     "text": [
      "WARNING: ignoring environment value of R_HOME\n"
     ]
    },
    {
     "name": "stdout",
     "output_type": "stream",
     "text": [
      "WARNING: ignoring environment value of R_HOME\n"
     ]
    },
    {
     "name": "stdout",
     "output_type": "stream",
     "text": [
      "WARNING: ignoring environment value of R_HOME\n"
     ]
    },
    {
     "name": "stdout",
     "output_type": "stream",
     "text": [
      "WARNING: ignoring environment value of R_HOME\n"
     ]
    },
    {
     "name": "stdout",
     "output_type": "stream",
     "text": [
      "WARNING: ignoring environment value of R_HOME\n"
     ]
    },
    {
     "name": "stdout",
     "output_type": "stream",
     "text": [
      "WARNING: ignoring environment value of R_HOME\n"
     ]
    },
    {
     "name": "stdout",
     "output_type": "stream",
     "text": [
      "WARNING: ignoring environment value of R_HOME\n"
     ]
    },
    {
     "name": "stdout",
     "output_type": "stream",
     "text": [
      "WARNING: ignoring environment value of R_HOME\n"
     ]
    },
    {
     "name": "stdout",
     "output_type": "stream",
     "text": [
      "WARNING: ignoring environment value of R_HOME\n"
     ]
    },
    {
     "name": "stdout",
     "output_type": "stream",
     "text": [
      "WARNING: ignoring environment value of R_HOME\n"
     ]
    },
    {
     "name": "stdout",
     "output_type": "stream",
     "text": [
      "WARNING: ignoring environment value of R_HOME\n"
     ]
    },
    {
     "name": "stdout",
     "output_type": "stream",
     "text": [
      "WARNING: ignoring environment value of R_HOME\n"
     ]
    },
    {
     "name": "stdout",
     "output_type": "stream",
     "text": [
      "WARNING: ignoring environment value of R_HOME\n"
     ]
    },
    {
     "name": "stdout",
     "output_type": "stream",
     "text": [
      "WARNING: ignoring environment value of R_HOME\n"
     ]
    },
    {
     "name": "stdout",
     "output_type": "stream",
     "text": [
      "WARNING: ignoring environment value of R_HOME\n"
     ]
    },
    {
     "name": "stdout",
     "output_type": "stream",
     "text": [
      "WARNING: ignoring environment value of R_HOME\n"
     ]
    },
    {
     "name": "stdout",
     "output_type": "stream",
     "text": [
      "WARNING: ignoring environment value of R_HOME\n"
     ]
    },
    {
     "name": "stdout",
     "output_type": "stream",
     "text": [
      "WARNING: ignoring environment value of R_HOME\n"
     ]
    },
    {
     "name": "stdout",
     "output_type": "stream",
     "text": [
      "WARNING: ignoring environment value of R_HOME\n"
     ]
    },
    {
     "name": "stdout",
     "output_type": "stream",
     "text": [
      "WARNING: ignoring environment value of R_HOME\n"
     ]
    },
    {
     "name": "stdout",
     "output_type": "stream",
     "text": [
      "WARNING: ignoring environment value of R_HOME\n"
     ]
    },
    {
     "name": "stdout",
     "output_type": "stream",
     "text": [
      "WARNING: ignoring environment value of R_HOME\n"
     ]
    },
    {
     "name": "stdout",
     "output_type": "stream",
     "text": [
      "WARNING: ignoring environment value of R_HOME\n"
     ]
    },
    {
     "name": "stdout",
     "output_type": "stream",
     "text": [
      "WARNING: ignoring environment value of R_HOME\n"
     ]
    },
    {
     "name": "stdout",
     "output_type": "stream",
     "text": [
      "WARNING: ignoring environment value of R_HOME\n"
     ]
    },
    {
     "name": "stdout",
     "output_type": "stream",
     "text": [
      "WARNING: ignoring environment value of R_HOME\n"
     ]
    },
    {
     "name": "stdout",
     "output_type": "stream",
     "text": [
      "WARNING: ignoring environment value of R_HOME\n"
     ]
    },
    {
     "name": "stdout",
     "output_type": "stream",
     "text": [
      "WARNING: ignoring environment value of R_HOME\n"
     ]
    },
    {
     "name": "stdout",
     "output_type": "stream",
     "text": [
      "WARNING: ignoring environment value of R_HOME\n"
     ]
    },
    {
     "name": "stdout",
     "output_type": "stream",
     "text": [
      "WARNING: ignoring environment value of R_HOME\n"
     ]
    },
    {
     "name": "stdout",
     "output_type": "stream",
     "text": [
      "WARNING: ignoring environment value of R_HOME\n"
     ]
    },
    {
     "name": "stdout",
     "output_type": "stream",
     "text": [
      "WARNING: ignoring environment value of R_HOME\n"
     ]
    },
    {
     "name": "stdout",
     "output_type": "stream",
     "text": [
      "WARNING: ignoring environment value of R_HOME\n"
     ]
    },
    {
     "name": "stdout",
     "output_type": "stream",
     "text": [
      "WARNING: ignoring environment value of R_HOME\n"
     ]
    },
    {
     "name": "stdout",
     "output_type": "stream",
     "text": [
      "WARNING: ignoring environment value of R_HOME\n"
     ]
    },
    {
     "name": "stdout",
     "output_type": "stream",
     "text": [
      "WARNING: ignoring environment value of R_HOME\n"
     ]
    },
    {
     "name": "stdout",
     "output_type": "stream",
     "text": [
      "WARNING: ignoring environment value of R_HOME\n"
     ]
    },
    {
     "name": "stdout",
     "output_type": "stream",
     "text": [
      "WARNING: ignoring environment value of R_HOME\n"
     ]
    },
    {
     "name": "stdout",
     "output_type": "stream",
     "text": [
      "WARNING: ignoring environment value of R_HOME\n"
     ]
    },
    {
     "name": "stdout",
     "output_type": "stream",
     "text": [
      "WARNING: ignoring environment value of R_HOME\n"
     ]
    },
    {
     "name": "stdout",
     "output_type": "stream",
     "text": [
      "WARNING: ignoring environment value of R_HOME\n"
     ]
    },
    {
     "name": "stdout",
     "output_type": "stream",
     "text": [
      "WARNING: ignoring environment value of R_HOME\n"
     ]
    },
    {
     "name": "stdout",
     "output_type": "stream",
     "text": [
      "WARNING: ignoring environment value of R_HOME\n"
     ]
    },
    {
     "name": "stdout",
     "output_type": "stream",
     "text": [
      "WARNING: ignoring environment value of R_HOME\n"
     ]
    },
    {
     "name": "stdout",
     "output_type": "stream",
     "text": [
      "WARNING: ignoring environment value of R_HOME\n"
     ]
    },
    {
     "name": "stdout",
     "output_type": "stream",
     "text": [
      "WARNING: ignoring environment value of R_HOME\n"
     ]
    },
    {
     "name": "stdout",
     "output_type": "stream",
     "text": [
      "WARNING: ignoring environment value of R_HOME\n"
     ]
    },
    {
     "name": "stdout",
     "output_type": "stream",
     "text": [
      "WARNING: ignoring environment value of R_HOME\n"
     ]
    },
    {
     "name": "stdout",
     "output_type": "stream",
     "text": [
      "WARNING: ignoring environment value of R_HOME\n"
     ]
    },
    {
     "name": "stdout",
     "output_type": "stream",
     "text": [
      "WARNING: ignoring environment value of R_HOME\n"
     ]
    },
    {
     "name": "stdout",
     "output_type": "stream",
     "text": [
      "WARNING: ignoring environment value of R_HOME\n"
     ]
    },
    {
     "name": "stdout",
     "output_type": "stream",
     "text": [
      "WARNING: ignoring environment value of R_HOME\n"
     ]
    },
    {
     "name": "stdout",
     "output_type": "stream",
     "text": [
      "WARNING: ignoring environment value of R_HOME\n"
     ]
    },
    {
     "name": "stdout",
     "output_type": "stream",
     "text": [
      "WARNING: ignoring environment value of R_HOME\n"
     ]
    },
    {
     "name": "stdout",
     "output_type": "stream",
     "text": [
      "[1] \"The estimated graph is not chordal, i.e. it is not a CPDAG! We thus consider local expansions of the graph (some combinations of which may lead to cycles).\"\n"
     ]
    },
    {
     "name": "stdout",
     "output_type": "stream",
     "text": [
      "WARNING: ignoring environment value of R_HOME\n"
     ]
    },
    {
     "name": "stdout",
     "output_type": "stream",
     "text": [
      "WARNING: ignoring environment value of R_HOME\n"
     ]
    },
    {
     "name": "stdout",
     "output_type": "stream",
     "text": [
      "WARNING: ignoring environment value of R_HOME\n"
     ]
    },
    {
     "name": "stdout",
     "output_type": "stream",
     "text": [
      "WARNING: ignoring environment value of R_HOME\n"
     ]
    },
    {
     "name": "stdout",
     "output_type": "stream",
     "text": [
      "WARNING: ignoring environment value of R_HOME\n"
     ]
    },
    {
     "name": "stdout",
     "output_type": "stream",
     "text": [
      "WARNING: ignoring environment value of R_HOME\n"
     ]
    },
    {
     "name": "stdout",
     "output_type": "stream",
     "text": [
      "WARNING: ignoring environment value of R_HOME\n"
     ]
    },
    {
     "name": "stdout",
     "output_type": "stream",
     "text": [
      "WARNING: ignoring environment value of R_HOME\n"
     ]
    },
    {
     "name": "stdout",
     "output_type": "stream",
     "text": [
      "WARNING: ignoring environment value of R_HOME\n"
     ]
    },
    {
     "name": "stdout",
     "output_type": "stream",
     "text": [
      "WARNING: ignoring environment value of R_HOME\n"
     ]
    },
    {
     "name": "stdout",
     "output_type": "stream",
     "text": [
      "WARNING: ignoring environment value of R_HOME\n"
     ]
    },
    {
     "name": "stdout",
     "output_type": "stream",
     "text": [
      "WARNING: ignoring environment value of R_HOME\n"
     ]
    },
    {
     "name": "stdout",
     "output_type": "stream",
     "text": [
      "WARNING: ignoring environment value of R_HOME\n"
     ]
    },
    {
     "name": "stdout",
     "output_type": "stream",
     "text": [
      "WARNING: ignoring environment value of R_HOME\n"
     ]
    },
    {
     "name": "stdout",
     "output_type": "stream",
     "text": [
      "WARNING: ignoring environment value of R_HOME\n"
     ]
    },
    {
     "name": "stdout",
     "output_type": "stream",
     "text": [
      "WARNING: ignoring environment value of R_HOME\n"
     ]
    },
    {
     "name": "stdout",
     "output_type": "stream",
     "text": [
      "WARNING: ignoring environment value of R_HOME\n"
     ]
    },
    {
     "name": "stdout",
     "output_type": "stream",
     "text": [
      "WARNING: ignoring environment value of R_HOME\n"
     ]
    },
    {
     "name": "stdout",
     "output_type": "stream",
     "text": [
      "WARNING: ignoring environment value of R_HOME\n"
     ]
    },
    {
     "name": "stdout",
     "output_type": "stream",
     "text": [
      "WARNING: ignoring environment value of R_HOME\n"
     ]
    },
    {
     "name": "stdout",
     "output_type": "stream",
     "text": [
      "WARNING: ignoring environment value of R_HOME\n"
     ]
    },
    {
     "name": "stdout",
     "output_type": "stream",
     "text": [
      "WARNING: ignoring environment value of R_HOME\n"
     ]
    },
    {
     "name": "stdout",
     "output_type": "stream",
     "text": [
      "WARNING: ignoring environment value of R_HOME\n"
     ]
    },
    {
     "name": "stdout",
     "output_type": "stream",
     "text": [
      "WARNING: ignoring environment value of R_HOME\n"
     ]
    },
    {
     "name": "stdout",
     "output_type": "stream",
     "text": [
      "WARNING: ignoring environment value of R_HOME\n"
     ]
    },
    {
     "name": "stdout",
     "output_type": "stream",
     "text": [
      "WARNING: ignoring environment value of R_HOME\n"
     ]
    },
    {
     "name": "stdout",
     "output_type": "stream",
     "text": [
      "WARNING: ignoring environment value of R_HOME\n"
     ]
    },
    {
     "name": "stdout",
     "output_type": "stream",
     "text": [
      "WARNING: ignoring environment value of R_HOME\n"
     ]
    },
    {
     "name": "stdout",
     "output_type": "stream",
     "text": [
      "WARNING: ignoring environment value of R_HOME\n"
     ]
    },
    {
     "name": "stdout",
     "output_type": "stream",
     "text": [
      "WARNING: ignoring environment value of R_HOME\n"
     ]
    },
    {
     "name": "stdout",
     "output_type": "stream",
     "text": [
      "WARNING: ignoring environment value of R_HOME\n"
     ]
    },
    {
     "name": "stdout",
     "output_type": "stream",
     "text": [
      "WARNING: ignoring environment value of R_HOME\n"
     ]
    },
    {
     "name": "stdout",
     "output_type": "stream",
     "text": [
      "WARNING: ignoring environment value of R_HOME\n"
     ]
    },
    {
     "name": "stdout",
     "output_type": "stream",
     "text": [
      "WARNING: ignoring environment value of R_HOME\n"
     ]
    },
    {
     "name": "stdout",
     "output_type": "stream",
     "text": [
      "WARNING: ignoring environment value of R_HOME\n"
     ]
    },
    {
     "name": "stdout",
     "output_type": "stream",
     "text": [
      "WARNING: ignoring environment value of R_HOME\n"
     ]
    },
    {
     "name": "stdout",
     "output_type": "stream",
     "text": [
      "WARNING: ignoring environment value of R_HOME\n"
     ]
    },
    {
     "name": "stdout",
     "output_type": "stream",
     "text": [
      "WARNING: ignoring environment value of R_HOME\n"
     ]
    },
    {
     "name": "stdout",
     "output_type": "stream",
     "text": [
      "WARNING: ignoring environment value of R_HOME\n"
     ]
    },
    {
     "name": "stdout",
     "output_type": "stream",
     "text": [
      "WARNING: ignoring environment value of R_HOME\n"
     ]
    },
    {
     "name": "stdout",
     "output_type": "stream",
     "text": [
      "WARNING: ignoring environment value of R_HOME\n"
     ]
    },
    {
     "name": "stdout",
     "output_type": "stream",
     "text": [
      "WARNING: ignoring environment value of R_HOME\n"
     ]
    },
    {
     "name": "stdout",
     "output_type": "stream",
     "text": [
      "WARNING: ignoring environment value of R_HOME\n"
     ]
    },
    {
     "name": "stdout",
     "output_type": "stream",
     "text": [
      "WARNING: ignoring environment value of R_HOME\n"
     ]
    },
    {
     "name": "stdout",
     "output_type": "stream",
     "text": [
      "WARNING: ignoring environment value of R_HOME\n"
     ]
    },
    {
     "name": "stdout",
     "output_type": "stream",
     "text": [
      "WARNING: ignoring environment value of R_HOME\n"
     ]
    },
    {
     "name": "stdout",
     "output_type": "stream",
     "text": [
      "WARNING: ignoring environment value of R_HOME\n"
     ]
    },
    {
     "name": "stdout",
     "output_type": "stream",
     "text": [
      "WARNING: ignoring environment value of R_HOME\n"
     ]
    },
    {
     "name": "stdout",
     "output_type": "stream",
     "text": [
      "WARNING: ignoring environment value of R_HOME\n"
     ]
    },
    {
     "name": "stdout",
     "output_type": "stream",
     "text": [
      "WARNING: ignoring environment value of R_HOME\n"
     ]
    },
    {
     "name": "stdout",
     "output_type": "stream",
     "text": [
      "WARNING: ignoring environment value of R_HOME\n"
     ]
    },
    {
     "name": "stdout",
     "output_type": "stream",
     "text": [
      "WARNING: ignoring environment value of R_HOME\n"
     ]
    },
    {
     "name": "stdout",
     "output_type": "stream",
     "text": [
      "WARNING: ignoring environment value of R_HOME\n"
     ]
    },
    {
     "name": "stdout",
     "output_type": "stream",
     "text": [
      "WARNING: ignoring environment value of R_HOME\n"
     ]
    },
    {
     "name": "stdout",
     "output_type": "stream",
     "text": [
      "WARNING: ignoring environment value of R_HOME\n"
     ]
    },
    {
     "name": "stdout",
     "output_type": "stream",
     "text": [
      "WARNING: ignoring environment value of R_HOME\n"
     ]
    },
    {
     "name": "stdout",
     "output_type": "stream",
     "text": [
      "WARNING: ignoring environment value of R_HOME\n"
     ]
    },
    {
     "name": "stdout",
     "output_type": "stream",
     "text": [
      "WARNING: ignoring environment value of R_HOME\n"
     ]
    },
    {
     "name": "stdout",
     "output_type": "stream",
     "text": [
      "WARNING: ignoring environment value of R_HOME\n"
     ]
    },
    {
     "name": "stdout",
     "output_type": "stream",
     "text": [
      "WARNING: ignoring environment value of R_HOME\n"
     ]
    },
    {
     "name": "stdout",
     "output_type": "stream",
     "text": [
      "WARNING: ignoring environment value of R_HOME\n"
     ]
    },
    {
     "name": "stdout",
     "output_type": "stream",
     "text": [
      "WARNING: ignoring environment value of R_HOME\n"
     ]
    },
    {
     "name": "stdout",
     "output_type": "stream",
     "text": [
      "WARNING: ignoring environment value of R_HOME\n"
     ]
    },
    {
     "name": "stdout",
     "output_type": "stream",
     "text": [
      "WARNING: ignoring environment value of R_HOME\n"
     ]
    },
    {
     "name": "stdout",
     "output_type": "stream",
     "text": [
      "WARNING: ignoring environment value of R_HOME\n"
     ]
    },
    {
     "name": "stdout",
     "output_type": "stream",
     "text": [
      "WARNING: ignoring environment value of R_HOME\n"
     ]
    },
    {
     "name": "stdout",
     "output_type": "stream",
     "text": [
      "WARNING: ignoring environment value of R_HOME\n"
     ]
    },
    {
     "name": "stdout",
     "output_type": "stream",
     "text": [
      "WARNING: ignoring environment value of R_HOME\n"
     ]
    },
    {
     "name": "stdout",
     "output_type": "stream",
     "text": [
      "WARNING: ignoring environment value of R_HOME\n"
     ]
    },
    {
     "name": "stdout",
     "output_type": "stream",
     "text": [
      "WARNING: ignoring environment value of R_HOME\n"
     ]
    },
    {
     "name": "stdout",
     "output_type": "stream",
     "text": [
      "WARNING: ignoring environment value of R_HOME\n"
     ]
    },
    {
     "name": "stdout",
     "output_type": "stream",
     "text": [
      "WARNING: ignoring environment value of R_HOME\n"
     ]
    },
    {
     "name": "stdout",
     "output_type": "stream",
     "text": [
      "WARNING: ignoring environment value of R_HOME\n"
     ]
    },
    {
     "name": "stdout",
     "output_type": "stream",
     "text": [
      "WARNING: ignoring environment value of R_HOME\n"
     ]
    },
    {
     "name": "stdout",
     "output_type": "stream",
     "text": [
      "WARNING: ignoring environment value of R_HOME\n"
     ]
    },
    {
     "name": "stdout",
     "output_type": "stream",
     "text": [
      "WARNING: ignoring environment value of R_HOME\n"
     ]
    },
    {
     "name": "stdout",
     "output_type": "stream",
     "text": [
      "WARNING: ignoring environment value of R_HOME\n"
     ]
    },
    {
     "name": "stdout",
     "output_type": "stream",
     "text": [
      "WARNING: ignoring environment value of R_HOME\n"
     ]
    },
    {
     "name": "stdout",
     "output_type": "stream",
     "text": [
      "WARNING: ignoring environment value of R_HOME\n"
     ]
    },
    {
     "name": "stdout",
     "output_type": "stream",
     "text": [
      "WARNING: ignoring environment value of R_HOME\n"
     ]
    },
    {
     "name": "stdout",
     "output_type": "stream",
     "text": [
      "WARNING: ignoring environment value of R_HOME\n"
     ]
    },
    {
     "name": "stdout",
     "output_type": "stream",
     "text": [
      "WARNING: ignoring environment value of R_HOME\n"
     ]
    },
    {
     "name": "stdout",
     "output_type": "stream",
     "text": [
      "WARNING: ignoring environment value of R_HOME\n"
     ]
    },
    {
     "name": "stdout",
     "output_type": "stream",
     "text": [
      "WARNING: ignoring environment value of R_HOME\n"
     ]
    },
    {
     "name": "stdout",
     "output_type": "stream",
     "text": [
      "WARNING: ignoring environment value of R_HOME\n"
     ]
    },
    {
     "name": "stdout",
     "output_type": "stream",
     "text": [
      "WARNING: ignoring environment value of R_HOME\n"
     ]
    },
    {
     "name": "stdout",
     "output_type": "stream",
     "text": [
      "WARNING: ignoring environment value of R_HOME\n"
     ]
    },
    {
     "name": "stdout",
     "output_type": "stream",
     "text": [
      "WARNING: ignoring environment value of R_HOME\n"
     ]
    },
    {
     "name": "stdout",
     "output_type": "stream",
     "text": [
      "WARNING: ignoring environment value of R_HOME\n"
     ]
    },
    {
     "name": "stdout",
     "output_type": "stream",
     "text": [
      "WARNING: ignoring environment value of R_HOME\n"
     ]
    },
    {
     "name": "stdout",
     "output_type": "stream",
     "text": [
      "WARNING: ignoring environment value of R_HOME\n"
     ]
    },
    {
     "name": "stdout",
     "output_type": "stream",
     "text": [
      "WARNING: ignoring environment value of R_HOME\n"
     ]
    },
    {
     "name": "stdout",
     "output_type": "stream",
     "text": [
      "WARNING: ignoring environment value of R_HOME\n"
     ]
    },
    {
     "name": "stdout",
     "output_type": "stream",
     "text": [
      "WARNING: ignoring environment value of R_HOME\n"
     ]
    },
    {
     "name": "stdout",
     "output_type": "stream",
     "text": [
      "WARNING: ignoring environment value of R_HOME\n"
     ]
    },
    {
     "name": "stdout",
     "output_type": "stream",
     "text": [
      "WARNING: ignoring environment value of R_HOME\n"
     ]
    },
    {
     "name": "stdout",
     "output_type": "stream",
     "text": [
      "WARNING: ignoring environment value of R_HOME\n"
     ]
    },
    {
     "name": "stdout",
     "output_type": "stream",
     "text": [
      "WARNING: ignoring environment value of R_HOME\n"
     ]
    },
    {
     "name": "stdout",
     "output_type": "stream",
     "text": [
      "WARNING: ignoring environment value of R_HOME\n"
     ]
    },
    {
     "name": "stdout",
     "output_type": "stream",
     "text": [
      "WARNING: ignoring environment value of R_HOME\n"
     ]
    },
    {
     "name": "stdout",
     "output_type": "stream",
     "text": [
      "WARNING: ignoring environment value of R_HOME\n"
     ]
    },
    {
     "name": "stdout",
     "output_type": "stream",
     "text": [
      "WARNING: ignoring environment value of R_HOME\n"
     ]
    },
    {
     "name": "stdout",
     "output_type": "stream",
     "text": [
      "WARNING: ignoring environment value of R_HOME\n"
     ]
    },
    {
     "name": "stdout",
     "output_type": "stream",
     "text": [
      "WARNING: ignoring environment value of R_HOME\n"
     ]
    },
    {
     "name": "stdout",
     "output_type": "stream",
     "text": [
      "WARNING: ignoring environment value of R_HOME\n"
     ]
    },
    {
     "name": "stdout",
     "output_type": "stream",
     "text": [
      "WARNING: ignoring environment value of R_HOME\n"
     ]
    },
    {
     "name": "stdout",
     "output_type": "stream",
     "text": [
      "WARNING: ignoring environment value of R_HOME\n"
     ]
    },
    {
     "name": "stdout",
     "output_type": "stream",
     "text": [
      "WARNING: ignoring environment value of R_HOME\n"
     ]
    },
    {
     "name": "stdout",
     "output_type": "stream",
     "text": [
      "WARNING: ignoring environment value of R_HOME\n"
     ]
    },
    {
     "name": "stdout",
     "output_type": "stream",
     "text": [
      "WARNING: ignoring environment value of R_HOME\n"
     ]
    },
    {
     "name": "stdout",
     "output_type": "stream",
     "text": [
      "WARNING: ignoring environment value of R_HOME\n"
     ]
    },
    {
     "name": "stdout",
     "output_type": "stream",
     "text": [
      "WARNING: ignoring environment value of R_HOME\n"
     ]
    },
    {
     "name": "stdout",
     "output_type": "stream",
     "text": [
      "WARNING: ignoring environment value of R_HOME\n"
     ]
    },
    {
     "name": "stdout",
     "output_type": "stream",
     "text": [
      "WARNING: ignoring environment value of R_HOME\n"
     ]
    },
    {
     "name": "stdout",
     "output_type": "stream",
     "text": [
      "WARNING: ignoring environment value of R_HOME\n"
     ]
    },
    {
     "name": "stdout",
     "output_type": "stream",
     "text": [
      "WARNING: ignoring environment value of R_HOME\n"
     ]
    },
    {
     "name": "stdout",
     "output_type": "stream",
     "text": [
      "WARNING: ignoring environment value of R_HOME\n"
     ]
    },
    {
     "name": "stdout",
     "output_type": "stream",
     "text": [
      "WARNING: ignoring environment value of R_HOME\n"
     ]
    },
    {
     "name": "stdout",
     "output_type": "stream",
     "text": [
      "WARNING: ignoring environment value of R_HOME\n"
     ]
    },
    {
     "name": "stdout",
     "output_type": "stream",
     "text": [
      "WARNING: ignoring environment value of R_HOME\n"
     ]
    },
    {
     "name": "stdout",
     "output_type": "stream",
     "text": [
      "WARNING: ignoring environment value of R_HOME\n"
     ]
    },
    {
     "name": "stdout",
     "output_type": "stream",
     "text": [
      "WARNING: ignoring environment value of R_HOME\n"
     ]
    },
    {
     "name": "stdout",
     "output_type": "stream",
     "text": [
      "WARNING: ignoring environment value of R_HOME\n"
     ]
    },
    {
     "name": "stdout",
     "output_type": "stream",
     "text": [
      "WARNING: ignoring environment value of R_HOME\n"
     ]
    },
    {
     "name": "stdout",
     "output_type": "stream",
     "text": [
      "WARNING: ignoring environment value of R_HOME\n"
     ]
    },
    {
     "name": "stdout",
     "output_type": "stream",
     "text": [
      "WARNING: ignoring environment value of R_HOME\n"
     ]
    },
    {
     "name": "stdout",
     "output_type": "stream",
     "text": [
      "WARNING: ignoring environment value of R_HOME\n"
     ]
    },
    {
     "name": "stdout",
     "output_type": "stream",
     "text": [
      "WARNING: ignoring environment value of R_HOME\n"
     ]
    },
    {
     "name": "stdout",
     "output_type": "stream",
     "text": [
      "WARNING: ignoring environment value of R_HOME\n"
     ]
    },
    {
     "name": "stdout",
     "output_type": "stream",
     "text": [
      "WARNING: ignoring environment value of R_HOME\n"
     ]
    },
    {
     "name": "stdout",
     "output_type": "stream",
     "text": [
      "WARNING: ignoring environment value of R_HOME\n"
     ]
    },
    {
     "name": "stdout",
     "output_type": "stream",
     "text": [
      "WARNING: ignoring environment value of R_HOME\n"
     ]
    },
    {
     "name": "stdout",
     "output_type": "stream",
     "text": [
      "WARNING: ignoring environment value of R_HOME\n"
     ]
    },
    {
     "name": "stdout",
     "output_type": "stream",
     "text": [
      "WARNING: ignoring environment value of R_HOME\n"
     ]
    },
    {
     "name": "stdout",
     "output_type": "stream",
     "text": [
      "WARNING: ignoring environment value of R_HOME\n"
     ]
    },
    {
     "name": "stdout",
     "output_type": "stream",
     "text": [
      "WARNING: ignoring environment value of R_HOME\n"
     ]
    },
    {
     "name": "stdout",
     "output_type": "stream",
     "text": [
      "WARNING: ignoring environment value of R_HOME\n"
     ]
    },
    {
     "name": "stdout",
     "output_type": "stream",
     "text": [
      "WARNING: ignoring environment value of R_HOME\n"
     ]
    },
    {
     "name": "stdout",
     "output_type": "stream",
     "text": [
      "WARNING: ignoring environment value of R_HOME\n"
     ]
    },
    {
     "name": "stdout",
     "output_type": "stream",
     "text": [
      "WARNING: ignoring environment value of R_HOME\n"
     ]
    },
    {
     "name": "stdout",
     "output_type": "stream",
     "text": [
      "WARNING: ignoring environment value of R_HOME\n"
     ]
    },
    {
     "name": "stdout",
     "output_type": "stream",
     "text": [
      "WARNING: ignoring environment value of R_HOME\n"
     ]
    },
    {
     "name": "stdout",
     "output_type": "stream",
     "text": [
      "WARNING: ignoring environment value of R_HOME\n"
     ]
    },
    {
     "name": "stdout",
     "output_type": "stream",
     "text": [
      "WARNING: ignoring environment value of R_HOME\n"
     ]
    },
    {
     "name": "stdout",
     "output_type": "stream",
     "text": [
      "WARNING: ignoring environment value of R_HOME\n"
     ]
    },
    {
     "name": "stdout",
     "output_type": "stream",
     "text": [
      "WARNING: ignoring environment value of R_HOME\n"
     ]
    },
    {
     "name": "stderr",
     "output_type": "stream",
     "text": [
      "<block>:1:39-51: info: atom does not occur in any rule head:\n",
      "  ap(3,4,#P0,s2)\n",
      "\n",
      "<block>:1:43-57: info: atom does not occur in any rule head:\n",
      "  ap(0,4,#P0,s2y3)\n",
      "\n",
      "<block>:1:45-60: info: atom does not occur in any rule head:\n",
      "  ap(3,4,#P0,empty)\n",
      "\n",
      "<block>:1:39-51: info: atom does not occur in any rule head:\n",
      "  ap(3,4,#P0,s2)\n",
      "\n",
      "<block>:1:43-57: info: atom does not occur in any rule head:\n",
      "  ap(0,4,#P0,s2y3)\n",
      "\n",
      "<block>:1:45-60: info: atom does not occur in any rule head:\n",
      "  ap(3,4,#P0,empty)\n",
      "\n"
     ]
    },
    {
     "name": "stdout",
     "output_type": "stream",
     "text": [
      "WARNING: ignoring environment value of R_HOME\n"
     ]
    },
    {
     "name": "stdout",
     "output_type": "stream",
     "text": [
      "WARNING: ignoring environment value of R_HOME\n"
     ]
    },
    {
     "name": "stdout",
     "output_type": "stream",
     "text": [
      "WARNING: ignoring environment value of R_HOME\n"
     ]
    },
    {
     "name": "stdout",
     "output_type": "stream",
     "text": [
      "WARNING: ignoring environment value of R_HOME\n"
     ]
    },
    {
     "name": "stdout",
     "output_type": "stream",
     "text": [
      "WARNING: ignoring environment value of R_HOME\n"
     ]
    },
    {
     "name": "stdout",
     "output_type": "stream",
     "text": [
      "WARNING: ignoring environment value of R_HOME\n"
     ]
    },
    {
     "name": "stdout",
     "output_type": "stream",
     "text": [
      "WARNING: ignoring environment value of R_HOME\n"
     ]
    },
    {
     "name": "stdout",
     "output_type": "stream",
     "text": [
      "WARNING: ignoring environment value of R_HOME\n"
     ]
    },
    {
     "name": "stdout",
     "output_type": "stream",
     "text": [
      "WARNING: ignoring environment value of R_HOME\n"
     ]
    },
    {
     "name": "stdout",
     "output_type": "stream",
     "text": [
      "WARNING: ignoring environment value of R_HOME\n"
     ]
    },
    {
     "name": "stdout",
     "output_type": "stream",
     "text": [
      "WARNING: ignoring environment value of R_HOME\n"
     ]
    },
    {
     "name": "stdout",
     "output_type": "stream",
     "text": [
      "WARNING: ignoring environment value of R_HOME\n"
     ]
    },
    {
     "name": "stdout",
     "output_type": "stream",
     "text": [
      "WARNING: ignoring environment value of R_HOME\n"
     ]
    },
    {
     "name": "stdout",
     "output_type": "stream",
     "text": [
      "WARNING: ignoring environment value of R_HOME\n"
     ]
    },
    {
     "name": "stdout",
     "output_type": "stream",
     "text": [
      "WARNING: ignoring environment value of R_HOME\n"
     ]
    },
    {
     "name": "stdout",
     "output_type": "stream",
     "text": [
      "WARNING: ignoring environment value of R_HOME\n"
     ]
    },
    {
     "name": "stdout",
     "output_type": "stream",
     "text": [
      "WARNING: ignoring environment value of R_HOME\n"
     ]
    },
    {
     "name": "stdout",
     "output_type": "stream",
     "text": [
      "WARNING: ignoring environment value of R_HOME\n"
     ]
    },
    {
     "name": "stdout",
     "output_type": "stream",
     "text": [
      "WARNING: ignoring environment value of R_HOME\n"
     ]
    },
    {
     "name": "stdout",
     "output_type": "stream",
     "text": [
      "WARNING: ignoring environment value of R_HOME\n"
     ]
    },
    {
     "name": "stdout",
     "output_type": "stream",
     "text": [
      "WARNING: ignoring environment value of R_HOME\n"
     ]
    },
    {
     "name": "stdout",
     "output_type": "stream",
     "text": [
      "WARNING: ignoring environment value of R_HOME\n"
     ]
    },
    {
     "name": "stdout",
     "output_type": "stream",
     "text": [
      "WARNING: ignoring environment value of R_HOME\n"
     ]
    },
    {
     "name": "stdout",
     "output_type": "stream",
     "text": [
      "WARNING: ignoring environment value of R_HOME\n"
     ]
    },
    {
     "name": "stdout",
     "output_type": "stream",
     "text": [
      "WARNING: ignoring environment value of R_HOME\n"
     ]
    },
    {
     "name": "stdout",
     "output_type": "stream",
     "text": [
      "WARNING: ignoring environment value of R_HOME\n"
     ]
    },
    {
     "name": "stdout",
     "output_type": "stream",
     "text": [
      "WARNING: ignoring environment value of R_HOME\n"
     ]
    },
    {
     "name": "stdout",
     "output_type": "stream",
     "text": [
      "WARNING: ignoring environment value of R_HOME\n"
     ]
    },
    {
     "name": "stdout",
     "output_type": "stream",
     "text": [
      "WARNING: ignoring environment value of R_HOME\n"
     ]
    },
    {
     "name": "stdout",
     "output_type": "stream",
     "text": [
      "WARNING: ignoring environment value of R_HOME\n"
     ]
    },
    {
     "name": "stdout",
     "output_type": "stream",
     "text": [
      "WARNING: ignoring environment value of R_HOME\n"
     ]
    },
    {
     "name": "stdout",
     "output_type": "stream",
     "text": [
      "WARNING: ignoring environment value of R_HOME\n"
     ]
    },
    {
     "name": "stdout",
     "output_type": "stream",
     "text": [
      "WARNING: ignoring environment value of R_HOME\n"
     ]
    },
    {
     "name": "stdout",
     "output_type": "stream",
     "text": [
      "WARNING: ignoring environment value of R_HOME\n"
     ]
    },
    {
     "name": "stdout",
     "output_type": "stream",
     "text": [
      "WARNING: ignoring environment value of R_HOME\n"
     ]
    },
    {
     "name": "stdout",
     "output_type": "stream",
     "text": [
      "WARNING: ignoring environment value of R_HOME\n"
     ]
    },
    {
     "name": "stdout",
     "output_type": "stream",
     "text": [
      "WARNING: ignoring environment value of R_HOME\n"
     ]
    },
    {
     "name": "stdout",
     "output_type": "stream",
     "text": [
      "WARNING: ignoring environment value of R_HOME\n"
     ]
    },
    {
     "name": "stdout",
     "output_type": "stream",
     "text": [
      "WARNING: ignoring environment value of R_HOME\n"
     ]
    },
    {
     "name": "stdout",
     "output_type": "stream",
     "text": [
      "WARNING: ignoring environment value of R_HOME\n"
     ]
    },
    {
     "name": "stdout",
     "output_type": "stream",
     "text": [
      "WARNING: ignoring environment value of R_HOME\n"
     ]
    },
    {
     "name": "stdout",
     "output_type": "stream",
     "text": [
      "WARNING: ignoring environment value of R_HOME\n"
     ]
    },
    {
     "name": "stdout",
     "output_type": "stream",
     "text": [
      "WARNING: ignoring environment value of R_HOME\n"
     ]
    },
    {
     "name": "stdout",
     "output_type": "stream",
     "text": [
      "WARNING: ignoring environment value of R_HOME\n"
     ]
    },
    {
     "name": "stdout",
     "output_type": "stream",
     "text": [
      "WARNING: ignoring environment value of R_HOME\n"
     ]
    },
    {
     "name": "stdout",
     "output_type": "stream",
     "text": [
      "WARNING: ignoring environment value of R_HOME\n"
     ]
    },
    {
     "name": "stdout",
     "output_type": "stream",
     "text": [
      "WARNING: ignoring environment value of R_HOME\n"
     ]
    },
    {
     "name": "stdout",
     "output_type": "stream",
     "text": [
      "WARNING: ignoring environment value of R_HOME\n"
     ]
    },
    {
     "name": "stdout",
     "output_type": "stream",
     "text": [
      "WARNING: ignoring environment value of R_HOME\n"
     ]
    },
    {
     "name": "stdout",
     "output_type": "stream",
     "text": [
      "WARNING: ignoring environment value of R_HOME\n"
     ]
    },
    {
     "name": "stdout",
     "output_type": "stream",
     "text": [
      "WARNING: ignoring environment value of R_HOME\n"
     ]
    },
    {
     "name": "stdout",
     "output_type": "stream",
     "text": [
      "WARNING: ignoring environment value of R_HOME\n"
     ]
    },
    {
     "name": "stdout",
     "output_type": "stream",
     "text": [
      "WARNING: ignoring environment value of R_HOME\n"
     ]
    },
    {
     "name": "stdout",
     "output_type": "stream",
     "text": [
      "WARNING: ignoring environment value of R_HOME\n"
     ]
    },
    {
     "name": "stdout",
     "output_type": "stream",
     "text": [
      "WARNING: ignoring environment value of R_HOME\n"
     ]
    },
    {
     "name": "stdout",
     "output_type": "stream",
     "text": [
      "WARNING: ignoring environment value of R_HOME\n"
     ]
    },
    {
     "name": "stdout",
     "output_type": "stream",
     "text": [
      "WARNING: ignoring environment value of R_HOME\n"
     ]
    },
    {
     "name": "stdout",
     "output_type": "stream",
     "text": [
      "WARNING: ignoring environment value of R_HOME\n"
     ]
    },
    {
     "name": "stdout",
     "output_type": "stream",
     "text": [
      "WARNING: ignoring environment value of R_HOME\n"
     ]
    },
    {
     "name": "stdout",
     "output_type": "stream",
     "text": [
      "WARNING: ignoring environment value of R_HOME\n"
     ]
    },
    {
     "name": "stdout",
     "output_type": "stream",
     "text": [
      "WARNING: ignoring environment value of R_HOME\n"
     ]
    },
    {
     "name": "stdout",
     "output_type": "stream",
     "text": [
      "WARNING: ignoring environment value of R_HOME\n"
     ]
    },
    {
     "name": "stdout",
     "output_type": "stream",
     "text": [
      "WARNING: ignoring environment value of R_HOME\n"
     ]
    },
    {
     "name": "stdout",
     "output_type": "stream",
     "text": [
      "WARNING: ignoring environment value of R_HOME\n"
     ]
    },
    {
     "name": "stdout",
     "output_type": "stream",
     "text": [
      "WARNING: ignoring environment value of R_HOME\n"
     ]
    },
    {
     "name": "stdout",
     "output_type": "stream",
     "text": [
      "WARNING: ignoring environment value of R_HOME\n"
     ]
    },
    {
     "name": "stdout",
     "output_type": "stream",
     "text": [
      "WARNING: ignoring environment value of R_HOME\n"
     ]
    },
    {
     "name": "stdout",
     "output_type": "stream",
     "text": [
      "WARNING: ignoring environment value of R_HOME\n"
     ]
    },
    {
     "name": "stdout",
     "output_type": "stream",
     "text": [
      "WARNING: ignoring environment value of R_HOME\n"
     ]
    },
    {
     "name": "stdout",
     "output_type": "stream",
     "text": [
      "WARNING: ignoring environment value of R_HOME\n"
     ]
    },
    {
     "name": "stdout",
     "output_type": "stream",
     "text": [
      "WARNING: ignoring environment value of R_HOME\n"
     ]
    },
    {
     "name": "stdout",
     "output_type": "stream",
     "text": [
      "WARNING: ignoring environment value of R_HOME\n"
     ]
    },
    {
     "name": "stdout",
     "output_type": "stream",
     "text": [
      "WARNING: ignoring environment value of R_HOME\n"
     ]
    },
    {
     "name": "stdout",
     "output_type": "stream",
     "text": [
      "WARNING: ignoring environment value of R_HOME\n"
     ]
    },
    {
     "name": "stdout",
     "output_type": "stream",
     "text": [
      "WARNING: ignoring environment value of R_HOME\n"
     ]
    },
    {
     "name": "stdout",
     "output_type": "stream",
     "text": [
      "WARNING: ignoring environment value of R_HOME\n"
     ]
    },
    {
     "name": "stdout",
     "output_type": "stream",
     "text": [
      "WARNING: ignoring environment value of R_HOME\n"
     ]
    },
    {
     "name": "stdout",
     "output_type": "stream",
     "text": [
      "WARNING: ignoring environment value of R_HOME\n"
     ]
    },
    {
     "name": "stdout",
     "output_type": "stream",
     "text": [
      "WARNING: ignoring environment value of R_HOME\n"
     ]
    },
    {
     "name": "stdout",
     "output_type": "stream",
     "text": [
      "WARNING: ignoring environment value of R_HOME\n"
     ]
    },
    {
     "name": "stdout",
     "output_type": "stream",
     "text": [
      "WARNING: ignoring environment value of R_HOME\n"
     ]
    },
    {
     "name": "stdout",
     "output_type": "stream",
     "text": [
      "WARNING: ignoring environment value of R_HOME\n"
     ]
    },
    {
     "name": "stdout",
     "output_type": "stream",
     "text": [
      "WARNING: ignoring environment value of R_HOME\n"
     ]
    },
    {
     "name": "stdout",
     "output_type": "stream",
     "text": [
      "WARNING: ignoring environment value of R_HOME\n"
     ]
    },
    {
     "name": "stdout",
     "output_type": "stream",
     "text": [
      "WARNING: ignoring environment value of R_HOME\n"
     ]
    },
    {
     "name": "stdout",
     "output_type": "stream",
     "text": [
      "WARNING: ignoring environment value of R_HOME\n"
     ]
    },
    {
     "name": "stdout",
     "output_type": "stream",
     "text": [
      "WARNING: ignoring environment value of R_HOME\n"
     ]
    },
    {
     "name": "stdout",
     "output_type": "stream",
     "text": [
      "WARNING: ignoring environment value of R_HOME\n"
     ]
    },
    {
     "name": "stdout",
     "output_type": "stream",
     "text": [
      "WARNING: ignoring environment value of R_HOME\n"
     ]
    },
    {
     "name": "stdout",
     "output_type": "stream",
     "text": [
      "WARNING: ignoring environment value of R_HOME\n"
     ]
    },
    {
     "name": "stdout",
     "output_type": "stream",
     "text": [
      "WARNING: ignoring environment value of R_HOME\n"
     ]
    },
    {
     "name": "stdout",
     "output_type": "stream",
     "text": [
      "WARNING: ignoring environment value of R_HOME\n"
     ]
    },
    {
     "name": "stdout",
     "output_type": "stream",
     "text": [
      "WARNING: ignoring environment value of R_HOME\n"
     ]
    },
    {
     "name": "stdout",
     "output_type": "stream",
     "text": [
      "WARNING: ignoring environment value of R_HOME\n"
     ]
    },
    {
     "name": "stdout",
     "output_type": "stream",
     "text": [
      "WARNING: ignoring environment value of R_HOME\n"
     ]
    },
    {
     "name": "stdout",
     "output_type": "stream",
     "text": [
      "WARNING: ignoring environment value of R_HOME\n"
     ]
    },
    {
     "name": "stdout",
     "output_type": "stream",
     "text": [
      "WARNING: ignoring environment value of R_HOME\n"
     ]
    },
    {
     "name": "stdout",
     "output_type": "stream",
     "text": [
      "WARNING: ignoring environment value of R_HOME\n"
     ]
    },
    {
     "name": "stdout",
     "output_type": "stream",
     "text": [
      "WARNING: ignoring environment value of R_HOME\n"
     ]
    },
    {
     "name": "stdout",
     "output_type": "stream",
     "text": [
      "WARNING: ignoring environment value of R_HOME\n"
     ]
    },
    {
     "name": "stdout",
     "output_type": "stream",
     "text": [
      "WARNING: ignoring environment value of R_HOME\n"
     ]
    },
    {
     "name": "stdout",
     "output_type": "stream",
     "text": [
      "WARNING: ignoring environment value of R_HOME\n"
     ]
    },
    {
     "name": "stdout",
     "output_type": "stream",
     "text": [
      "WARNING: ignoring environment value of R_HOME\n"
     ]
    },
    {
     "name": "stdout",
     "output_type": "stream",
     "text": [
      "WARNING: ignoring environment value of R_HOME\n"
     ]
    },
    {
     "name": "stdout",
     "output_type": "stream",
     "text": [
      "WARNING: ignoring environment value of R_HOME\n"
     ]
    },
    {
     "name": "stdout",
     "output_type": "stream",
     "text": [
      "WARNING: ignoring environment value of R_HOME\n"
     ]
    },
    {
     "name": "stdout",
     "output_type": "stream",
     "text": [
      "WARNING: ignoring environment value of R_HOME\n"
     ]
    },
    {
     "name": "stdout",
     "output_type": "stream",
     "text": [
      "WARNING: ignoring environment value of R_HOME\n"
     ]
    },
    {
     "name": "stdout",
     "output_type": "stream",
     "text": [
      "WARNING: ignoring environment value of R_HOME\n"
     ]
    },
    {
     "name": "stdout",
     "output_type": "stream",
     "text": [
      "WARNING: ignoring environment value of R_HOME\n"
     ]
    },
    {
     "name": "stdout",
     "output_type": "stream",
     "text": [
      "WARNING: ignoring environment value of R_HOME\n"
     ]
    },
    {
     "name": "stdout",
     "output_type": "stream",
     "text": [
      "WARNING: ignoring environment value of R_HOME\n"
     ]
    },
    {
     "name": "stdout",
     "output_type": "stream",
     "text": [
      "WARNING: ignoring environment value of R_HOME\n"
     ]
    },
    {
     "name": "stdout",
     "output_type": "stream",
     "text": [
      "WARNING: ignoring environment value of R_HOME\n"
     ]
    },
    {
     "name": "stdout",
     "output_type": "stream",
     "text": [
      "WARNING: ignoring environment value of R_HOME\n"
     ]
    },
    {
     "name": "stdout",
     "output_type": "stream",
     "text": [
      "WARNING: ignoring environment value of R_HOME\n"
     ]
    },
    {
     "name": "stdout",
     "output_type": "stream",
     "text": [
      "WARNING: ignoring environment value of R_HOME\n"
     ]
    },
    {
     "name": "stdout",
     "output_type": "stream",
     "text": [
      "WARNING: ignoring environment value of R_HOME\n"
     ]
    },
    {
     "name": "stdout",
     "output_type": "stream",
     "text": [
      "WARNING: ignoring environment value of R_HOME\n"
     ]
    },
    {
     "name": "stdout",
     "output_type": "stream",
     "text": [
      "WARNING: ignoring environment value of R_HOME\n"
     ]
    },
    {
     "name": "stdout",
     "output_type": "stream",
     "text": [
      "WARNING: ignoring environment value of R_HOME\n"
     ]
    },
    {
     "name": "stdout",
     "output_type": "stream",
     "text": [
      "WARNING: ignoring environment value of R_HOME\n"
     ]
    },
    {
     "name": "stdout",
     "output_type": "stream",
     "text": [
      "WARNING: ignoring environment value of R_HOME\n"
     ]
    },
    {
     "name": "stdout",
     "output_type": "stream",
     "text": [
      "WARNING: ignoring environment value of R_HOME\n"
     ]
    },
    {
     "name": "stdout",
     "output_type": "stream",
     "text": [
      "WARNING: ignoring environment value of R_HOME\n"
     ]
    },
    {
     "name": "stdout",
     "output_type": "stream",
     "text": [
      "WARNING: ignoring environment value of R_HOME\n"
     ]
    },
    {
     "name": "stdout",
     "output_type": "stream",
     "text": [
      "WARNING: ignoring environment value of R_HOME\n"
     ]
    },
    {
     "name": "stdout",
     "output_type": "stream",
     "text": [
      "WARNING: ignoring environment value of R_HOME\n"
     ]
    },
    {
     "name": "stdout",
     "output_type": "stream",
     "text": [
      "WARNING: ignoring environment value of R_HOME\n"
     ]
    },
    {
     "name": "stdout",
     "output_type": "stream",
     "text": [
      "WARNING: ignoring environment value of R_HOME\n"
     ]
    },
    {
     "name": "stdout",
     "output_type": "stream",
     "text": [
      "WARNING: ignoring environment value of R_HOME\n"
     ]
    },
    {
     "name": "stdout",
     "output_type": "stream",
     "text": [
      "WARNING: ignoring environment value of R_HOME\n"
     ]
    },
    {
     "name": "stdout",
     "output_type": "stream",
     "text": [
      "WARNING: ignoring environment value of R_HOME\n"
     ]
    },
    {
     "name": "stdout",
     "output_type": "stream",
     "text": [
      "WARNING: ignoring environment value of R_HOME\n"
     ]
    },
    {
     "name": "stdout",
     "output_type": "stream",
     "text": [
      "WARNING: ignoring environment value of R_HOME\n"
     ]
    },
    {
     "name": "stdout",
     "output_type": "stream",
     "text": [
      "WARNING: ignoring environment value of R_HOME\n"
     ]
    },
    {
     "name": "stdout",
     "output_type": "stream",
     "text": [
      "WARNING: ignoring environment value of R_HOME\n"
     ]
    },
    {
     "name": "stdout",
     "output_type": "stream",
     "text": [
      "WARNING: ignoring environment value of R_HOME\n"
     ]
    },
    {
     "name": "stdout",
     "output_type": "stream",
     "text": [
      "WARNING: ignoring environment value of R_HOME\n"
     ]
    },
    {
     "name": "stdout",
     "output_type": "stream",
     "text": [
      "WARNING: ignoring environment value of R_HOME\n"
     ]
    },
    {
     "name": "stdout",
     "output_type": "stream",
     "text": [
      "WARNING: ignoring environment value of R_HOME\n"
     ]
    },
    {
     "name": "stdout",
     "output_type": "stream",
     "text": [
      "WARNING: ignoring environment value of R_HOME\n"
     ]
    },
    {
     "name": "stdout",
     "output_type": "stream",
     "text": [
      "WARNING: ignoring environment value of R_HOME\n"
     ]
    },
    {
     "name": "stdout",
     "output_type": "stream",
     "text": [
      "WARNING: ignoring environment value of R_HOME\n"
     ]
    },
    {
     "name": "stdout",
     "output_type": "stream",
     "text": [
      "WARNING: ignoring environment value of R_HOME\n"
     ]
    },
    {
     "name": "stdout",
     "output_type": "stream",
     "text": [
      "WARNING: ignoring environment value of R_HOME\n"
     ]
    },
    {
     "name": "stdout",
     "output_type": "stream",
     "text": [
      "WARNING: ignoring environment value of R_HOME\n"
     ]
    },
    {
     "name": "stdout",
     "output_type": "stream",
     "text": [
      "WARNING: ignoring environment value of R_HOME\n"
     ]
    },
    {
     "name": "stdout",
     "output_type": "stream",
     "text": [
      "WARNING: ignoring environment value of R_HOME\n"
     ]
    },
    {
     "name": "stdout",
     "output_type": "stream",
     "text": [
      "WARNING: ignoring environment value of R_HOME\n"
     ]
    },
    {
     "name": "stdout",
     "output_type": "stream",
     "text": [
      "WARNING: ignoring environment value of R_HOME\n"
     ]
    },
    {
     "name": "stdout",
     "output_type": "stream",
     "text": [
      "WARNING: ignoring environment value of R_HOME\n"
     ]
    },
    {
     "name": "stdout",
     "output_type": "stream",
     "text": [
      "WARNING: ignoring environment value of R_HOME\n"
     ]
    },
    {
     "name": "stdout",
     "output_type": "stream",
     "text": [
      "WARNING: ignoring environment value of R_HOME\n"
     ]
    },
    {
     "name": "stdout",
     "output_type": "stream",
     "text": [
      "WARNING: ignoring environment value of R_HOME\n"
     ]
    },
    {
     "name": "stdout",
     "output_type": "stream",
     "text": [
      "WARNING: ignoring environment value of R_HOME\n"
     ]
    },
    {
     "name": "stdout",
     "output_type": "stream",
     "text": [
      "WARNING: ignoring environment value of R_HOME\n"
     ]
    },
    {
     "name": "stdout",
     "output_type": "stream",
     "text": [
      "WARNING: ignoring environment value of R_HOME\n"
     ]
    },
    {
     "name": "stdout",
     "output_type": "stream",
     "text": [
      "WARNING: ignoring environment value of R_HOME\n"
     ]
    },
    {
     "name": "stdout",
     "output_type": "stream",
     "text": [
      "WARNING: ignoring environment value of R_HOME\n"
     ]
    },
    {
     "name": "stdout",
     "output_type": "stream",
     "text": [
      "WARNING: ignoring environment value of R_HOME\n"
     ]
    },
    {
     "name": "stdout",
     "output_type": "stream",
     "text": [
      "WARNING: ignoring environment value of R_HOME\n"
     ]
    },
    {
     "name": "stdout",
     "output_type": "stream",
     "text": [
      "WARNING: ignoring environment value of R_HOME\n"
     ]
    },
    {
     "name": "stdout",
     "output_type": "stream",
     "text": [
      "WARNING: ignoring environment value of R_HOME\n"
     ]
    },
    {
     "name": "stdout",
     "output_type": "stream",
     "text": [
      "WARNING: ignoring environment value of R_HOME\n"
     ]
    },
    {
     "name": "stdout",
     "output_type": "stream",
     "text": [
      "WARNING: ignoring environment value of R_HOME\n"
     ]
    },
    {
     "name": "stdout",
     "output_type": "stream",
     "text": [
      "WARNING: ignoring environment value of R_HOME\n"
     ]
    },
    {
     "name": "stdout",
     "output_type": "stream",
     "text": [
      "WARNING: ignoring environment value of R_HOME\n"
     ]
    },
    {
     "name": "stdout",
     "output_type": "stream",
     "text": [
      "WARNING: ignoring environment value of R_HOME\n"
     ]
    },
    {
     "name": "stdout",
     "output_type": "stream",
     "text": [
      "WARNING: ignoring environment value of R_HOME\n"
     ]
    },
    {
     "name": "stdout",
     "output_type": "stream",
     "text": [
      "WARNING: ignoring environment value of R_HOME\n"
     ]
    },
    {
     "name": "stdout",
     "output_type": "stream",
     "text": [
      "WARNING: ignoring environment value of R_HOME\n"
     ]
    },
    {
     "name": "stdout",
     "output_type": "stream",
     "text": [
      "WARNING: ignoring environment value of R_HOME\n"
     ]
    },
    {
     "name": "stdout",
     "output_type": "stream",
     "text": [
      "WARNING: ignoring environment value of R_HOME\n"
     ]
    },
    {
     "name": "stdout",
     "output_type": "stream",
     "text": [
      "WARNING: ignoring environment value of R_HOME\n"
     ]
    },
    {
     "name": "stdout",
     "output_type": "stream",
     "text": [
      "WARNING: ignoring environment value of R_HOME\n"
     ]
    },
    {
     "name": "stdout",
     "output_type": "stream",
     "text": [
      "WARNING: ignoring environment value of R_HOME\n"
     ]
    },
    {
     "name": "stdout",
     "output_type": "stream",
     "text": [
      "WARNING: ignoring environment value of R_HOME\n"
     ]
    },
    {
     "name": "stdout",
     "output_type": "stream",
     "text": [
      "WARNING: ignoring environment value of R_HOME\n"
     ]
    },
    {
     "name": "stdout",
     "output_type": "stream",
     "text": [
      "WARNING: ignoring environment value of R_HOME\n"
     ]
    },
    {
     "name": "stdout",
     "output_type": "stream",
     "text": [
      "WARNING: ignoring environment value of R_HOME\n"
     ]
    },
    {
     "name": "stdout",
     "output_type": "stream",
     "text": [
      "WARNING: ignoring environment value of R_HOME\n"
     ]
    },
    {
     "name": "stdout",
     "output_type": "stream",
     "text": [
      "WARNING: ignoring environment value of R_HOME\n"
     ]
    },
    {
     "name": "stdout",
     "output_type": "stream",
     "text": [
      "WARNING: ignoring environment value of R_HOME\n"
     ]
    },
    {
     "name": "stdout",
     "output_type": "stream",
     "text": [
      "WARNING: ignoring environment value of R_HOME\n"
     ]
    },
    {
     "name": "stdout",
     "output_type": "stream",
     "text": [
      "WARNING: ignoring environment value of R_HOME\n"
     ]
    },
    {
     "name": "stdout",
     "output_type": "stream",
     "text": [
      "WARNING: ignoring environment value of R_HOME\n"
     ]
    },
    {
     "name": "stdout",
     "output_type": "stream",
     "text": [
      "WARNING: ignoring environment value of R_HOME\n"
     ]
    },
    {
     "name": "stdout",
     "output_type": "stream",
     "text": [
      "WARNING: ignoring environment value of R_HOME\n"
     ]
    },
    {
     "name": "stdout",
     "output_type": "stream",
     "text": [
      "WARNING: ignoring environment value of R_HOME\n"
     ]
    },
    {
     "name": "stdout",
     "output_type": "stream",
     "text": [
      "WARNING: ignoring environment value of R_HOME\n"
     ]
    },
    {
     "name": "stdout",
     "output_type": "stream",
     "text": [
      "WARNING: ignoring environment value of R_HOME\n"
     ]
    },
    {
     "name": "stdout",
     "output_type": "stream",
     "text": [
      "WARNING: ignoring environment value of R_HOME\n"
     ]
    },
    {
     "name": "stdout",
     "output_type": "stream",
     "text": [
      "WARNING: ignoring environment value of R_HOME\n"
     ]
    },
    {
     "name": "stdout",
     "output_type": "stream",
     "text": [
      "WARNING: ignoring environment value of R_HOME\n"
     ]
    },
    {
     "name": "stdout",
     "output_type": "stream",
     "text": [
      "WARNING: ignoring environment value of R_HOME\n"
     ]
    },
    {
     "name": "stdout",
     "output_type": "stream",
     "text": [
      "WARNING: ignoring environment value of R_HOME\n"
     ]
    },
    {
     "name": "stdout",
     "output_type": "stream",
     "text": [
      "WARNING: ignoring environment value of R_HOME\n"
     ]
    },
    {
     "name": "stdout",
     "output_type": "stream",
     "text": [
      "WARNING: ignoring environment value of R_HOME\n"
     ]
    },
    {
     "name": "stdout",
     "output_type": "stream",
     "text": [
      "WARNING: ignoring environment value of R_HOME\n"
     ]
    }
   ],
   "source": [
    "%%capture\n",
    "res_df_bnlearn = run_experiment(\n",
    "    prior_df=bnlearn_prior_df, datasets=bnlearn_small_datasets\n",
    ")\n",
    "res_df_bnlearn.to_csv(\n",
    "    \"results/2025/prior_integration_bnlearn_small.csv\", index=False\n",
    ")"
   ]
  },
  {
   "cell_type": "code",
   "execution_count": 8,
   "id": "b09d24dd",
   "metadata": {
    "execution": {
     "iopub.execute_input": "2025-09-09T00:53:56.256904Z",
     "iopub.status.busy": "2025-09-09T00:53:56.256637Z",
     "iopub.status.idle": "2025-09-09T00:54:01.270341Z",
     "shell.execute_reply": "2025-09-09T00:54:01.270040Z"
    },
    "papermill": {
     "duration": 5.050904,
     "end_time": "2025-09-09T00:54:01.270915",
     "exception": false,
     "start_time": "2025-09-09T00:53:56.220011",
     "status": "completed"
    },
    "tags": []
   },
   "outputs": [
    {
     "data": {
      "text/html": [
       "<div>\n",
       "<style scoped>\n",
       "    .dataframe tbody tr th:only-of-type {\n",
       "        vertical-align: middle;\n",
       "    }\n",
       "\n",
       "    .dataframe tbody tr th {\n",
       "        vertical-align: top;\n",
       "    }\n",
       "\n",
       "    .dataframe thead tr th {\n",
       "        text-align: left;\n",
       "    }\n",
       "\n",
       "    .dataframe thead tr:last-of-type th {\n",
       "        text-align: right;\n",
       "    }\n",
       "</style>\n",
       "<table border=\"1\" class=\"dataframe\">\n",
       "  <thead>\n",
       "    <tr>\n",
       "      <th></th>\n",
       "      <th></th>\n",
       "      <th colspan=\"3\" halign=\"left\">meta</th>\n",
       "      <th colspan=\"2\" halign=\"left\">time</th>\n",
       "      <th colspan=\"2\" halign=\"left\">remove_n</th>\n",
       "      <th colspan=\"2\" halign=\"left\">cpdag_F1</th>\n",
       "      <th colspan=\"2\" halign=\"left\">cpdag_shd</th>\n",
       "      <th colspan=\"2\" halign=\"left\">cpdag_sid_low</th>\n",
       "      <th colspan=\"2\" halign=\"left\">cpdag_sid_high</th>\n",
       "    </tr>\n",
       "    <tr>\n",
       "      <th></th>\n",
       "      <th></th>\n",
       "      <th>num_nodes</th>\n",
       "      <th>num_edges</th>\n",
       "      <th>repeats</th>\n",
       "      <th>mean</th>\n",
       "      <th>std</th>\n",
       "      <th>mean</th>\n",
       "      <th>std</th>\n",
       "      <th>mean</th>\n",
       "      <th>std</th>\n",
       "      <th>mean</th>\n",
       "      <th>std</th>\n",
       "      <th>mean</th>\n",
       "      <th>std</th>\n",
       "      <th>mean</th>\n",
       "      <th>std</th>\n",
       "    </tr>\n",
       "    <tr>\n",
       "      <th>dataset</th>\n",
       "      <th>impl</th>\n",
       "      <th></th>\n",
       "      <th></th>\n",
       "      <th></th>\n",
       "      <th></th>\n",
       "      <th></th>\n",
       "      <th></th>\n",
       "      <th></th>\n",
       "      <th></th>\n",
       "      <th></th>\n",
       "      <th></th>\n",
       "      <th></th>\n",
       "      <th></th>\n",
       "      <th></th>\n",
       "      <th></th>\n",
       "      <th></th>\n",
       "    </tr>\n",
       "  </thead>\n",
       "  <tbody>\n",
       "    <tr>\n",
       "      <th rowspan=\"2\" valign=\"top\">cancer</th>\n",
       "      <th>new</th>\n",
       "      <td>5</td>\n",
       "      <td>4</td>\n",
       "      <td>50</td>\n",
       "      <td>0.436892</td>\n",
       "      <td>0.216604</td>\n",
       "      <td>7.80</td>\n",
       "      <td>2.373321</td>\n",
       "      <td>0.649915</td>\n",
       "      <td>0.189144</td>\n",
       "      <td>2.08</td>\n",
       "      <td>1.454620</td>\n",
       "      <td>6.02</td>\n",
       "      <td>3.883455</td>\n",
       "      <td>11.62</td>\n",
       "      <td>3.885557</td>\n",
       "    </tr>\n",
       "    <tr>\n",
       "      <th>org</th>\n",
       "      <td>5</td>\n",
       "      <td>4</td>\n",
       "      <td>50</td>\n",
       "      <td>0.506319</td>\n",
       "      <td>0.281763</td>\n",
       "      <td>7.74</td>\n",
       "      <td>2.405860</td>\n",
       "      <td>0.627350</td>\n",
       "      <td>0.173317</td>\n",
       "      <td>2.30</td>\n",
       "      <td>1.528638</td>\n",
       "      <td>6.22</td>\n",
       "      <td>4.057193</td>\n",
       "      <td>11.64</td>\n",
       "      <td>3.544239</td>\n",
       "    </tr>\n",
       "    <tr>\n",
       "      <th rowspan=\"2\" valign=\"top\">earthquake</th>\n",
       "      <th>new</th>\n",
       "      <td>5</td>\n",
       "      <td>4</td>\n",
       "      <td>50</td>\n",
       "      <td>0.029978</td>\n",
       "      <td>0.026937</td>\n",
       "      <td>0.70</td>\n",
       "      <td>2.052873</td>\n",
       "      <td>0.988888</td>\n",
       "      <td>0.078574</td>\n",
       "      <td>0.06</td>\n",
       "      <td>0.424264</td>\n",
       "      <td>0.00</td>\n",
       "      <td>0.000000</td>\n",
       "      <td>5.18</td>\n",
       "      <td>1.272792</td>\n",
       "    </tr>\n",
       "    <tr>\n",
       "      <th>org</th>\n",
       "      <td>5</td>\n",
       "      <td>4</td>\n",
       "      <td>50</td>\n",
       "      <td>0.025487</td>\n",
       "      <td>0.014106</td>\n",
       "      <td>0.36</td>\n",
       "      <td>1.045105</td>\n",
       "      <td>0.977334</td>\n",
       "      <td>0.091623</td>\n",
       "      <td>0.18</td>\n",
       "      <td>0.660550</td>\n",
       "      <td>0.00</td>\n",
       "      <td>0.000000</td>\n",
       "      <td>5.68</td>\n",
       "      <td>2.235520</td>\n",
       "    </tr>\n",
       "    <tr>\n",
       "      <th rowspan=\"2\" valign=\"top\">survey</th>\n",
       "      <th>new</th>\n",
       "      <td>6</td>\n",
       "      <td>6</td>\n",
       "      <td>50</td>\n",
       "      <td>2.128081</td>\n",
       "      <td>0.829938</td>\n",
       "      <td>26.04</td>\n",
       "      <td>8.785331</td>\n",
       "      <td>0.584302</td>\n",
       "      <td>0.117093</td>\n",
       "      <td>4.66</td>\n",
       "      <td>1.745081</td>\n",
       "      <td>12.08</td>\n",
       "      <td>3.885294</td>\n",
       "      <td>17.90</td>\n",
       "      <td>5.496752</td>\n",
       "    </tr>\n",
       "    <tr>\n",
       "      <th>org</th>\n",
       "      <td>6</td>\n",
       "      <td>6</td>\n",
       "      <td>50</td>\n",
       "      <td>3.505351</td>\n",
       "      <td>1.901849</td>\n",
       "      <td>25.94</td>\n",
       "      <td>8.828086</td>\n",
       "      <td>0.537174</td>\n",
       "      <td>0.138345</td>\n",
       "      <td>4.96</td>\n",
       "      <td>1.511318</td>\n",
       "      <td>12.56</td>\n",
       "      <td>3.812761</td>\n",
       "      <td>18.24</td>\n",
       "      <td>4.684146</td>\n",
       "    </tr>\n",
       "    <tr>\n",
       "      <th rowspan=\"2\" valign=\"top\">asia</th>\n",
       "      <th>new</th>\n",
       "      <td>8</td>\n",
       "      <td>8</td>\n",
       "      <td>50</td>\n",
       "      <td>8.194210</td>\n",
       "      <td>1.773714</td>\n",
       "      <td>114.36</td>\n",
       "      <td>9.901062</td>\n",
       "      <td>0.599618</td>\n",
       "      <td>0.138221</td>\n",
       "      <td>2.90</td>\n",
       "      <td>2.101991</td>\n",
       "      <td>6.98</td>\n",
       "      <td>6.867522</td>\n",
       "      <td>25.08</td>\n",
       "      <td>8.616169</td>\n",
       "    </tr>\n",
       "    <tr>\n",
       "      <th>org</th>\n",
       "      <td>8</td>\n",
       "      <td>8</td>\n",
       "      <td>50</td>\n",
       "      <td>45.939552</td>\n",
       "      <td>27.681830</td>\n",
       "      <td>33.56</td>\n",
       "      <td>5.686217</td>\n",
       "      <td>0.329544</td>\n",
       "      <td>0.080145</td>\n",
       "      <td>10.22</td>\n",
       "      <td>2.772238</td>\n",
       "      <td>12.62</td>\n",
       "      <td>5.753047</td>\n",
       "      <td>25.70</td>\n",
       "      <td>8.459387</td>\n",
       "    </tr>\n",
       "  </tbody>\n",
       "</table>\n",
       "</div>"
      ],
      "text/plain": [
       "                     meta                         time            remove_n  \\\n",
       "                num_nodes num_edges repeats       mean        std     mean   \n",
       "dataset    impl                                                              \n",
       "cancer     new          5         4      50   0.436892   0.216604     7.80   \n",
       "           org          5         4      50   0.506319   0.281763     7.74   \n",
       "earthquake new          5         4      50   0.029978   0.026937     0.70   \n",
       "           org          5         4      50   0.025487   0.014106     0.36   \n",
       "survey     new          6         6      50   2.128081   0.829938    26.04   \n",
       "           org          6         6      50   3.505351   1.901849    25.94   \n",
       "asia       new          8         8      50   8.194210   1.773714   114.36   \n",
       "           org          8         8      50  45.939552  27.681830    33.56   \n",
       "\n",
       "                           cpdag_F1           cpdag_shd            \\\n",
       "                      std      mean       std      mean       std   \n",
       "dataset    impl                                                     \n",
       "cancer     new   2.373321  0.649915  0.189144      2.08  1.454620   \n",
       "           org   2.405860  0.627350  0.173317      2.30  1.528638   \n",
       "earthquake new   2.052873  0.988888  0.078574      0.06  0.424264   \n",
       "           org   1.045105  0.977334  0.091623      0.18  0.660550   \n",
       "survey     new   8.785331  0.584302  0.117093      4.66  1.745081   \n",
       "           org   8.828086  0.537174  0.138345      4.96  1.511318   \n",
       "asia       new   9.901062  0.599618  0.138221      2.90  2.101991   \n",
       "           org   5.686217  0.329544  0.080145     10.22  2.772238   \n",
       "\n",
       "                cpdag_sid_low           cpdag_sid_high            \n",
       "                         mean       std           mean       std  \n",
       "dataset    impl                                                   \n",
       "cancer     new           6.02  3.883455          11.62  3.885557  \n",
       "           org           6.22  4.057193          11.64  3.544239  \n",
       "earthquake new           0.00  0.000000           5.18  1.272792  \n",
       "           org           0.00  0.000000           5.68  2.235520  \n",
       "survey     new          12.08  3.885294          17.90  5.496752  \n",
       "           org          12.56  3.812761          18.24  4.684146  \n",
       "asia       new           6.98  6.867522          25.08  8.616169  \n",
       "           org          12.62  5.753047          25.70  8.459387  "
      ]
     },
     "metadata": {},
     "output_type": "display_data"
    }
   ],
   "source": [
    "bnlearn_report = show_report(res_df_bnlearn)\n",
    "bnlearn_report.to_csv(\"results/2025/prior_integration_bnlearn_small_report.csv\")\n",
    "# To load the view, use\n",
    "# bnlearn_report = pd.read_csv(\n",
    "#     \"results/2025/prior_integration_bnlearn_small_report.csv\",\n",
    "#     index_col=[0, 1],\n",
    "#     header=[0, 1],\n",
    "# )\n",
    "with pd.option_context('display.max_rows', None, 'display.max_columns', None):\n",
    "    display(bnlearn_report)"
   ]
  },
  {
   "cell_type": "markdown",
   "id": "358c7f0a",
   "metadata": {
    "papermill": {
     "duration": 0.058803,
     "end_time": "2025-09-09T00:54:01.365028",
     "exception": false,
     "start_time": "2025-09-09T00:54:01.306225",
     "status": "completed"
    },
    "tags": []
   },
   "source": [
    "### Synthetic datasets"
   ]
  },
  {
   "cell_type": "code",
   "execution_count": 9,
   "id": "d954ce83",
   "metadata": {
    "execution": {
     "iopub.execute_input": "2025-09-09T00:54:01.435494Z",
     "iopub.status.busy": "2025-09-09T00:54:01.435268Z",
     "iopub.status.idle": "2025-09-09T00:54:01.494430Z",
     "shell.execute_reply": "2025-09-09T00:54:01.494128Z"
    },
    "papermill": {
     "duration": 0.095679,
     "end_time": "2025-09-09T00:54:01.495049",
     "exception": false,
     "start_time": "2025-09-09T00:54:01.399370",
     "status": "completed"
    },
    "tags": []
   },
   "outputs": [
    {
     "name": "stdout",
     "output_type": "stream",
     "text": [
      "synthetic_datasets: [PosixPath('priors/datasets/random_graphs/heuristic_by_semantic/factors_influencing_well_being_and_resources.bifxml'), PosixPath('priors/datasets/random_graphs/heuristic_by_semantic/pharmacological_and_cardiac_health_dynamics.bifxml'), PosixPath('priors/datasets/random_graphs/heuristic_by_semantic/interacting_health_conditions_and_outcomes.bifxml'), PosixPath('priors/datasets/random_graphs/heuristic_by_semantic/clinical_variables_in_cardiovascular_and_gastrointestinal_health.bifxml'), PosixPath('priors/datasets/random_graphs/heuristic_by_semantic/clinical_pathways_in_cardiac_and_abdominal_health.bifxml'), PosixPath('priors/datasets/random_graphs/heuristic_by_semantic/interconnected_health_and_socio_economic_outcomes.bifxml'), PosixPath('priors/datasets/random_graphs/heuristic_by_semantic/medical_conditions_and_outcomes.bifxml')]\n"
     ]
    },
    {
     "data": {
      "text/html": [
       "<div>\n",
       "<style scoped>\n",
       "    .dataframe tbody tr th:only-of-type {\n",
       "        vertical-align: middle;\n",
       "    }\n",
       "\n",
       "    .dataframe tbody tr th {\n",
       "        vertical-align: top;\n",
       "    }\n",
       "\n",
       "    .dataframe thead th {\n",
       "        text-align: right;\n",
       "    }\n",
       "</style>\n",
       "<table border=\"1\" class=\"dataframe\">\n",
       "  <thead>\n",
       "    <tr style=\"text-align: right;\">\n",
       "      <th></th>\n",
       "      <th>filename</th>\n",
       "      <th>title</th>\n",
       "      <th>num_nodes</th>\n",
       "      <th>num_edges</th>\n",
       "      <th>variable_descriptions</th>\n",
       "      <th>priors</th>\n",
       "      <th>TP</th>\n",
       "      <th>FP</th>\n",
       "      <th>TN</th>\n",
       "      <th>FN</th>\n",
       "      <th>Precision</th>\n",
       "      <th>Recall</th>\n",
       "      <th>F-beta</th>\n",
       "      <th>run_id</th>\n",
       "    </tr>\n",
       "  </thead>\n",
       "  <tbody>\n",
       "    <tr>\n",
       "      <th>0</th>\n",
       "      <td>clinical_pathways_in_cardiac_and_abdominal_health</td>\n",
       "      <td>clinical_pathways_in_cardiac_and_abdominal_health</td>\n",
       "      <td>7</td>\n",
       "      <td>7</td>\n",
       "      <td>{'shivering': 'An involuntary muscular contrac...</td>\n",
       "      <td>[[shivering, ascites], [shivering, hospital_ad...</td>\n",
       "      <td>10</td>\n",
       "      <td>0</td>\n",
       "      <td>7</td>\n",
       "      <td>4</td>\n",
       "      <td>1</td>\n",
       "      <td>0.714286</td>\n",
       "      <td>0.984848</td>\n",
       "      <td>4</td>\n",
       "    </tr>\n",
       "    <tr>\n",
       "      <th>1</th>\n",
       "      <td>clinical_variables_in_cardiovascular_and_gastr...</td>\n",
       "      <td>clinical_variables_in_cardiovascular_and_gastr...</td>\n",
       "      <td>5</td>\n",
       "      <td>4</td>\n",
       "      <td>{'rectal_varices': 'Abnormally enlarged and to...</td>\n",
       "      <td>[[heart_failure, lower_gastrointestinal_bleedi...</td>\n",
       "      <td>4</td>\n",
       "      <td>0</td>\n",
       "      <td>4</td>\n",
       "      <td>2</td>\n",
       "      <td>1</td>\n",
       "      <td>0.666667</td>\n",
       "      <td>0.981132</td>\n",
       "      <td>9</td>\n",
       "    </tr>\n",
       "    <tr>\n",
       "      <th>2</th>\n",
       "      <td>factors_influencing_well_being_and_resources</td>\n",
       "      <td>factors_influencing_well_being_and_resources</td>\n",
       "      <td>9</td>\n",
       "      <td>8</td>\n",
       "      <td>{'property_damage': 'The impairment, destructi...</td>\n",
       "      <td>[[early_death, separation], [heart_failure, di...</td>\n",
       "      <td>9</td>\n",
       "      <td>0</td>\n",
       "      <td>8</td>\n",
       "      <td>19</td>\n",
       "      <td>1</td>\n",
       "      <td>0.321429</td>\n",
       "      <td>0.924901</td>\n",
       "      <td>7</td>\n",
       "    </tr>\n",
       "    <tr>\n",
       "      <th>3</th>\n",
       "      <td>interacting_health_conditions_and_outcomes</td>\n",
       "      <td>interacting_health_conditions_and_outcomes</td>\n",
       "      <td>11</td>\n",
       "      <td>10</td>\n",
       "      <td>{'kidney_failure': 'A medical condition where ...</td>\n",
       "      <td>[[heart_trouble, osteoporosis_associated_fract...</td>\n",
       "      <td>14</td>\n",
       "      <td>0</td>\n",
       "      <td>10</td>\n",
       "      <td>31</td>\n",
       "      <td>1</td>\n",
       "      <td>0.311111</td>\n",
       "      <td>0.921519</td>\n",
       "      <td>1</td>\n",
       "    </tr>\n",
       "    <tr>\n",
       "      <th>4</th>\n",
       "      <td>interconnected_health_and_socio_economic_outcomes</td>\n",
       "      <td>interconnected_health_and_socio_economic_outcomes</td>\n",
       "      <td>10</td>\n",
       "      <td>11</td>\n",
       "      <td>{'early_death': 'The occurrence of death at an...</td>\n",
       "      <td>[[stagnant_economy, hospitalization], [clostri...</td>\n",
       "      <td>12</td>\n",
       "      <td>0</td>\n",
       "      <td>11</td>\n",
       "      <td>22</td>\n",
       "      <td>1</td>\n",
       "      <td>0.352941</td>\n",
       "      <td>0.934132</td>\n",
       "      <td>3</td>\n",
       "    </tr>\n",
       "    <tr>\n",
       "      <th>5</th>\n",
       "      <td>medical_conditions_and_outcomes</td>\n",
       "      <td>medical_conditions_and_outcomes</td>\n",
       "      <td>8</td>\n",
       "      <td>7</td>\n",
       "      <td>{'early_death': 'The occurrence of mortality a...</td>\n",
       "      <td>[[coronary_heart_disease, imbalanced_ph], [lam...</td>\n",
       "      <td>10</td>\n",
       "      <td>0</td>\n",
       "      <td>7</td>\n",
       "      <td>11</td>\n",
       "      <td>1</td>\n",
       "      <td>0.476190</td>\n",
       "      <td>0.959410</td>\n",
       "      <td>9</td>\n",
       "    </tr>\n",
       "    <tr>\n",
       "      <th>6</th>\n",
       "      <td>pharmacological_and_cardiac_health_dynamics</td>\n",
       "      <td>pharmacological_and_cardiac_health_dynamics</td>\n",
       "      <td>6</td>\n",
       "      <td>6</td>\n",
       "      <td>{'palpitations': 'The subjective experience of...</td>\n",
       "      <td>[[palpitations, appetite_suppression], [heart_...</td>\n",
       "      <td>7</td>\n",
       "      <td>0</td>\n",
       "      <td>6</td>\n",
       "      <td>2</td>\n",
       "      <td>1</td>\n",
       "      <td>0.777778</td>\n",
       "      <td>0.989130</td>\n",
       "      <td>1</td>\n",
       "    </tr>\n",
       "  </tbody>\n",
       "</table>\n",
       "</div>"
      ],
      "text/plain": [
       "                                            filename  \\\n",
       "0  clinical_pathways_in_cardiac_and_abdominal_health   \n",
       "1  clinical_variables_in_cardiovascular_and_gastr...   \n",
       "2       factors_influencing_well_being_and_resources   \n",
       "3         interacting_health_conditions_and_outcomes   \n",
       "4  interconnected_health_and_socio_economic_outcomes   \n",
       "5                    medical_conditions_and_outcomes   \n",
       "6        pharmacological_and_cardiac_health_dynamics   \n",
       "\n",
       "                                               title  num_nodes  num_edges  \\\n",
       "0  clinical_pathways_in_cardiac_and_abdominal_health          7          7   \n",
       "1  clinical_variables_in_cardiovascular_and_gastr...          5          4   \n",
       "2       factors_influencing_well_being_and_resources          9          8   \n",
       "3         interacting_health_conditions_and_outcomes         11         10   \n",
       "4  interconnected_health_and_socio_economic_outcomes         10         11   \n",
       "5                    medical_conditions_and_outcomes          8          7   \n",
       "6        pharmacological_and_cardiac_health_dynamics          6          6   \n",
       "\n",
       "                               variable_descriptions  \\\n",
       "0  {'shivering': 'An involuntary muscular contrac...   \n",
       "1  {'rectal_varices': 'Abnormally enlarged and to...   \n",
       "2  {'property_damage': 'The impairment, destructi...   \n",
       "3  {'kidney_failure': 'A medical condition where ...   \n",
       "4  {'early_death': 'The occurrence of death at an...   \n",
       "5  {'early_death': 'The occurrence of mortality a...   \n",
       "6  {'palpitations': 'The subjective experience of...   \n",
       "\n",
       "                                              priors  TP  FP  TN  FN  \\\n",
       "0  [[shivering, ascites], [shivering, hospital_ad...  10   0   7   4   \n",
       "1  [[heart_failure, lower_gastrointestinal_bleedi...   4   0   4   2   \n",
       "2  [[early_death, separation], [heart_failure, di...   9   0   8  19   \n",
       "3  [[heart_trouble, osteoporosis_associated_fract...  14   0  10  31   \n",
       "4  [[stagnant_economy, hospitalization], [clostri...  12   0  11  22   \n",
       "5  [[coronary_heart_disease, imbalanced_ph], [lam...  10   0   7  11   \n",
       "6  [[palpitations, appetite_suppression], [heart_...   7   0   6   2   \n",
       "\n",
       "   Precision    Recall    F-beta  run_id  \n",
       "0          1  0.714286  0.984848       4  \n",
       "1          1  0.666667  0.981132       9  \n",
       "2          1  0.321429  0.924901       7  \n",
       "3          1  0.311111  0.921519       1  \n",
       "4          1  0.352941  0.934132       3  \n",
       "5          1  0.476190  0.959410       9  \n",
       "6          1  0.777778  0.989130       1  "
      ]
     },
     "execution_count": 9,
     "metadata": {},
     "output_type": "execute_result"
    }
   ],
   "source": [
    "synthetic_datasets = list(Path(\"priors/datasets/random_graphs/heuristic_by_semantic/\").glob(\"*.bifxml\"))\n",
    "print(\"synthetic_datasets:\", synthetic_datasets)\n",
    "synthetic_prior_df = pd.read_json(\"priors/datasets/random_graphs/prior_df.json\")\n",
    "synthetic_prior_df"
   ]
  },
  {
   "cell_type": "code",
   "execution_count": 10,
   "id": "64efc66b",
   "metadata": {
    "execution": {
     "iopub.execute_input": "2025-09-09T00:54:01.612969Z",
     "iopub.status.busy": "2025-09-09T00:54:01.612732Z",
     "iopub.status.idle": "2025-09-09T02:58:45.683977Z",
     "shell.execute_reply": "2025-09-09T02:58:45.683410Z"
    },
    "papermill": {
     "duration": 7484.151705,
     "end_time": "2025-09-09T02:58:45.685412",
     "exception": false,
     "start_time": "2025-09-09T00:54:01.533707",
     "status": "completed"
    },
    "tags": []
   },
   "outputs": [
    {
     "name": "stderr",
     "output_type": "stream",
     "text": [
      "<block>:1:18-37: info: atom does not occur in any rule head:\n",
      "  ext_indep(5,6,s8y1)\n",
      "\n",
      "<block>:1:20-37: info: atom does not occur in any rule head:\n",
      "  ext_dep(5,6,s8y3)\n",
      "\n",
      "<block>:1:22-41: info: atom does not occur in any rule head:\n",
      "  ext_dep(5,6,s8y1y3)\n",
      "\n",
      "<block>:1:18-37: info: atom does not occur in any rule head:\n",
      "  ext_indep(5,6,s8y1)\n",
      "\n",
      "<block>:1:20-37: info: atom does not occur in any rule head:\n",
      "  ext_dep(5,6,s8y3)\n",
      "\n",
      "<block>:1:22-41: info: atom does not occur in any rule head:\n",
      "  ext_dep(5,6,s8y1y3)\n",
      "\n",
      "<block>:1:18-37: info: atom does not occur in any rule head:\n",
      "  ext_indep(5,6,s8y1)\n",
      "\n",
      "<block>:1:20-37: info: atom does not occur in any rule head:\n",
      "  ext_dep(3,6,s8y1)\n",
      "\n",
      "<block>:1:22-41: info: atom does not occur in any rule head:\n",
      "  ext_dep(5,6,s8y1y3)\n",
      "\n"
     ]
    },
    {
     "name": "stderr",
     "output_type": "stream",
     "text": [
      "<block>:1:18-37: info: atom does not occur in any rule head:\n",
      "  ext_indep(5,6,s8y1)\n",
      "\n",
      "<block>:1:20-37: info: atom does not occur in any rule head:\n",
      "  ext_dep(3,6,s8y1)\n",
      "\n",
      "<block>:1:22-41: info: atom does not occur in any rule head:\n",
      "  ext_dep(5,6,s8y1y3)\n",
      "\n",
      "<block>:1:18-37: info: atom does not occur in any rule head:\n",
      "  ext_indep(5,6,s8y1)\n",
      "\n",
      "<block>:1:20-37: info: atom does not occur in any rule head:\n",
      "  ext_dep(3,6,s8y1)\n",
      "\n",
      "<block>:1:22-41: info: atom does not occur in any rule head:\n",
      "  ext_dep(5,6,s8y1y3)\n",
      "\n",
      "<block>:1:18-37: info: atom does not occur in any rule head:\n",
      "  ext_indep(5,6,s8y1)\n",
      "\n",
      "<block>:1:20-37: info: atom does not occur in any rule head:\n",
      "  ext_dep(3,6,s8y1)\n",
      "\n",
      "<block>:1:22-41: info: atom does not occur in any rule head:\n",
      "  ext_dep(5,6,s8y1y3)\n",
      "\n"
     ]
    },
    {
     "name": "stderr",
     "output_type": "stream",
     "text": [
      "<block>:1:18-37: info: atom does not occur in any rule head:\n",
      "  ext_indep(5,6,s8y1)\n",
      "\n",
      "<block>:1:20-37: info: atom does not occur in any rule head:\n",
      "  ext_dep(1,6,s8y3)\n",
      "\n",
      "<block>:1:22-41: info: atom does not occur in any rule head:\n",
      "  ext_dep(5,6,s8y1y3)\n",
      "\n",
      "<block>:1:18-37: info: atom does not occur in any rule head:\n",
      "  ext_indep(5,6,s8y1)\n",
      "\n",
      "<block>:1:20-37: info: atom does not occur in any rule head:\n",
      "  ext_dep(3,6,s8y1)\n",
      "\n",
      "<block>:1:22-41: info: atom does not occur in any rule head:\n",
      "  ext_dep(5,6,s8y1y3)\n",
      "\n"
     ]
    },
    {
     "name": "stderr",
     "output_type": "stream",
     "text": [
      "<block>:1:18-37: info: atom does not occur in any rule head:\n",
      "  ext_indep(5,6,s8y1)\n",
      "\n",
      "<block>:1:20-37: info: atom does not occur in any rule head:\n",
      "  ext_dep(1,6,s8y3)\n",
      "\n",
      "<block>:1:22-41: info: atom does not occur in any rule head:\n",
      "  ext_dep(5,6,s8y1y3)\n",
      "\n",
      "<block>:1:18-37: info: atom does not occur in any rule head:\n",
      "  ext_indep(5,6,s8y1)\n",
      "\n",
      "<block>:1:20-37: info: atom does not occur in any rule head:\n",
      "  ext_dep(5,6,s8y3)\n",
      "\n",
      "<block>:1:22-41: info: atom does not occur in any rule head:\n",
      "  ext_dep(5,6,s8y1y3)\n",
      "\n"
     ]
    },
    {
     "name": "stderr",
     "output_type": "stream",
     "text": [
      "<block>:1:18-37: info: atom does not occur in any rule head:\n",
      "  ext_indep(5,6,s8y1)\n",
      "\n",
      "<block>:1:20-37: info: atom does not occur in any rule head:\n",
      "  ext_dep(3,6,s8y1)\n",
      "\n",
      "<block>:1:22-41: info: atom does not occur in any rule head:\n",
      "  ext_dep(5,6,s8y1y3)\n",
      "\n",
      "<block>:1:18-37: info: atom does not occur in any rule head:\n",
      "  ext_indep(5,6,s8y1)\n",
      "\n",
      "<block>:1:20-37: info: atom does not occur in any rule head:\n",
      "  ext_dep(1,6,s8y3)\n",
      "\n",
      "<block>:1:22-41: info: atom does not occur in any rule head:\n",
      "  ext_dep(5,6,s8y1y3)\n",
      "\n"
     ]
    },
    {
     "name": "stderr",
     "output_type": "stream",
     "text": [
      "<block>:1:18-37: info: atom does not occur in any rule head:\n",
      "  ext_indep(5,6,s8y1)\n",
      "\n",
      "<block>:1:20-37: info: atom does not occur in any rule head:\n",
      "  ext_dep(5,6,s8y3)\n",
      "\n",
      "<block>:1:22-41: info: atom does not occur in any rule head:\n",
      "  ext_dep(5,6,s8y1y3)\n",
      "\n",
      "<block>:1:18-37: info: atom does not occur in any rule head:\n",
      "  ext_indep(5,6,s8y1)\n",
      "\n",
      "<block>:1:20-37: info: atom does not occur in any rule head:\n",
      "  ext_dep(5,6,s8y3)\n",
      "\n",
      "<block>:1:22-41: info: atom does not occur in any rule head:\n",
      "  ext_dep(5,6,s8y1y3)\n",
      "\n"
     ]
    },
    {
     "name": "stderr",
     "output_type": "stream",
     "text": [
      "<block>:1:18-37: info: atom does not occur in any rule head:\n",
      "  ext_indep(5,6,s8y1)\n",
      "\n",
      "<block>:1:20-37: info: atom does not occur in any rule head:\n",
      "  ext_dep(1,6,s8y3)\n",
      "\n",
      "<block>:1:22-41: info: atom does not occur in any rule head:\n",
      "  ext_dep(5,6,s8y1y3)\n",
      "\n"
     ]
    },
    {
     "name": "stderr",
     "output_type": "stream",
     "text": [
      "<block>:1:18-37: info: atom does not occur in any rule head:\n",
      "  ext_indep(5,6,s8y1)\n",
      "\n",
      "<block>:1:20-37: info: atom does not occur in any rule head:\n",
      "  ext_dep(1,6,s8y3)\n",
      "\n",
      "<block>:1:22-41: info: atom does not occur in any rule head:\n",
      "  ext_dep(5,6,s8y1y3)\n",
      "\n"
     ]
    },
    {
     "name": "stderr",
     "output_type": "stream",
     "text": [
      "<block>:1:18-37: info: atom does not occur in any rule head:\n",
      "  ext_indep(5,6,s8y1)\n",
      "\n",
      "<block>:1:20-37: info: atom does not occur in any rule head:\n",
      "  ext_dep(5,6,s8y3)\n",
      "\n",
      "<block>:1:22-41: info: atom does not occur in any rule head:\n",
      "  ext_dep(5,6,s8y1y3)\n",
      "\n"
     ]
    },
    {
     "name": "stderr",
     "output_type": "stream",
     "text": [
      "<block>:1:18-37: info: atom does not occur in any rule head:\n",
      "  ext_indep(5,6,s8y1)\n",
      "\n",
      "<block>:1:20-37: info: atom does not occur in any rule head:\n",
      "  ext_dep(1,6,s8y3)\n",
      "\n",
      "<block>:1:22-41: info: atom does not occur in any rule head:\n",
      "  ext_dep(5,6,s8y1y3)\n",
      "\n"
     ]
    },
    {
     "name": "stderr",
     "output_type": "stream",
     "text": [
      "<block>:1:18-37: info: atom does not occur in any rule head:\n",
      "  ext_indep(5,6,s8y1)\n",
      "\n",
      "<block>:1:20-37: info: atom does not occur in any rule head:\n",
      "  ext_dep(3,6,s8y1)\n",
      "\n",
      "<block>:1:22-41: info: atom does not occur in any rule head:\n",
      "  ext_dep(5,6,s8y1y3)\n",
      "\n",
      "<block>:1:18-37: info: atom does not occur in any rule head:\n",
      "  ext_indep(5,6,s8y1)\n",
      "\n",
      "<block>:1:20-37: info: atom does not occur in any rule head:\n",
      "  ext_dep(3,6,s8y1)\n",
      "\n",
      "<block>:1:22-41: info: atom does not occur in any rule head:\n",
      "  ext_dep(5,6,s8y1y3)\n",
      "\n",
      "<block>:1:20-37: info: atom does not occur in any rule head:\n",
      "  ext_dep(3,6,s8y1)\n",
      "\n",
      "<block>:1:22-41: info: atom does not occur in any rule head:\n",
      "  ext_dep(5,6,s8y1y3)\n",
      "\n"
     ]
    },
    {
     "name": "stderr",
     "output_type": "stream",
     "text": [
      "<block>:1:20-37: info: atom does not occur in any rule head:\n",
      "  ext_dep(3,6,s8y1)\n",
      "\n",
      "<block>:1:22-41: info: atom does not occur in any rule head:\n",
      "  ext_dep(5,6,s8y1y3)\n",
      "\n",
      "<block>:1:18-37: info: atom does not occur in any rule head:\n",
      "  ext_indep(5,6,s8y1)\n",
      "\n",
      "<block>:1:20-37: info: atom does not occur in any rule head:\n",
      "  ext_dep(3,6,s8y1)\n",
      "\n",
      "<block>:1:22-41: info: atom does not occur in any rule head:\n",
      "  ext_dep(5,6,s8y1y3)\n",
      "\n",
      "<block>:1:18-37: info: atom does not occur in any rule head:\n",
      "  ext_indep(5,6,s8y1)\n",
      "\n",
      "<block>:1:20-37: info: atom does not occur in any rule head:\n",
      "  ext_dep(3,6,s8y1)\n",
      "\n",
      "<block>:1:22-41: info: atom does not occur in any rule head:\n",
      "  ext_dep(5,6,s8y1y3)\n",
      "\n"
     ]
    },
    {
     "name": "stderr",
     "output_type": "stream",
     "text": [
      "<block>:1:20-37: info: atom does not occur in any rule head:\n",
      "  ext_dep(1,6,s8y3)\n",
      "\n",
      "<block>:1:22-41: info: atom does not occur in any rule head:\n",
      "  ext_dep(5,6,s8y1y3)\n",
      "\n",
      "<block>:1:20-37: info: atom does not occur in any rule head:\n",
      "  ext_dep(1,6,s8y3)\n",
      "\n",
      "<block>:1:22-41: info: atom does not occur in any rule head:\n",
      "  ext_dep(5,6,s8y1y3)\n",
      "\n"
     ]
    },
    {
     "name": "stderr",
     "output_type": "stream",
     "text": [
      "<block>:1:18-37: info: atom does not occur in any rule head:\n",
      "  ext_indep(5,6,s8y1)\n",
      "\n",
      "<block>:1:20-37: info: atom does not occur in any rule head:\n",
      "  ext_dep(5,6,s8y3)\n",
      "\n",
      "<block>:1:22-41: info: atom does not occur in any rule head:\n",
      "  ext_dep(5,6,s8y1y3)\n",
      "\n",
      "<block>:1:18-37: info: atom does not occur in any rule head:\n",
      "  ext_indep(5,6,s8y1)\n",
      "\n",
      "<block>:1:20-37: info: atom does not occur in any rule head:\n",
      "  ext_dep(3,6,s8y1)\n",
      "\n",
      "<block>:1:22-41: info: atom does not occur in any rule head:\n",
      "  ext_dep(5,6,s8y1y3)\n",
      "\n",
      "<block>:1:18-37: info: atom does not occur in any rule head:\n",
      "  ext_indep(5,6,s8y1)\n",
      "\n",
      "<block>:1:20-37: info: atom does not occur in any rule head:\n",
      "  ext_dep(3,6,s8y1)\n",
      "\n",
      "<block>:1:22-41: info: atom does not occur in any rule head:\n",
      "  ext_dep(5,6,s8y1y3)\n",
      "\n"
     ]
    },
    {
     "name": "stderr",
     "output_type": "stream",
     "text": [
      "<block>:1:20-37: info: atom does not occur in any rule head:\n",
      "  ext_dep(3,6,s8y1)\n",
      "\n",
      "<block>:1:22-41: info: atom does not occur in any rule head:\n",
      "  ext_dep(5,6,s8y1y3)\n",
      "\n",
      "<block>:1:20-37: info: atom does not occur in any rule head:\n",
      "  ext_dep(1,6,s8y3)\n",
      "\n",
      "<block>:1:22-41: info: atom does not occur in any rule head:\n",
      "  ext_dep(5,6,s8y1y3)\n",
      "\n"
     ]
    },
    {
     "name": "stderr",
     "output_type": "stream",
     "text": [
      "<block>:1:20-37: info: atom does not occur in any rule head:\n",
      "  ext_dep(1,6,s8y3)\n",
      "\n",
      "<block>:1:22-41: info: atom does not occur in any rule head:\n",
      "  ext_dep(5,6,s8y1y3)\n",
      "\n",
      "<block>:1:18-37: info: atom does not occur in any rule head:\n",
      "  ext_indep(5,6,s8y1)\n",
      "\n",
      "<block>:1:20-37: info: atom does not occur in any rule head:\n",
      "  ext_dep(5,6,s8y3)\n",
      "\n",
      "<block>:1:22-41: info: atom does not occur in any rule head:\n",
      "  ext_dep(5,6,s8y1y3)\n",
      "\n"
     ]
    },
    {
     "name": "stderr",
     "output_type": "stream",
     "text": [
      "<block>:1:18-37: info: atom does not occur in any rule head:\n",
      "  ext_indep(5,6,s8y1)\n",
      "\n",
      "<block>:1:20-37: info: atom does not occur in any rule head:\n",
      "  ext_dep(3,6,s8y1)\n",
      "\n",
      "<block>:1:22-41: info: atom does not occur in any rule head:\n",
      "  ext_dep(5,6,s8y1y3)\n",
      "\n",
      "<block>:1:18-37: info: atom does not occur in any rule head:\n",
      "  ext_indep(5,6,s8y1)\n",
      "\n",
      "<block>:1:20-37: info: atom does not occur in any rule head:\n",
      "  ext_dep(3,6,s8y1)\n",
      "\n",
      "<block>:1:22-41: info: atom does not occur in any rule head:\n",
      "  ext_dep(5,6,s8y1y3)\n",
      "\n"
     ]
    },
    {
     "name": "stderr",
     "output_type": "stream",
     "text": [
      "<block>:1:20-37: info: atom does not occur in any rule head:\n",
      "  ext_dep(1,6,s8y3)\n",
      "\n",
      "<block>:1:22-41: info: atom does not occur in any rule head:\n",
      "  ext_dep(5,6,s8y1y3)\n",
      "\n",
      "<block>:1:20-37: info: atom does not occur in any rule head:\n",
      "  ext_dep(1,6,s8y3)\n",
      "\n",
      "<block>:1:22-41: info: atom does not occur in any rule head:\n",
      "  ext_dep(5,6,s8y1y3)\n",
      "\n"
     ]
    },
    {
     "name": "stderr",
     "output_type": "stream",
     "text": [
      "<block>:1:20-37: info: atom does not occur in any rule head:\n",
      "  ext_dep(3,6,s8y1)\n",
      "\n",
      "<block>:1:22-41: info: atom does not occur in any rule head:\n",
      "  ext_dep(5,6,s8y1y3)\n",
      "\n"
     ]
    },
    {
     "name": "stderr",
     "output_type": "stream",
     "text": [
      "<block>:1:18-37: info: atom does not occur in any rule head:\n",
      "  ext_indep(5,6,s8y1)\n",
      "\n",
      "<block>:1:20-37: info: atom does not occur in any rule head:\n",
      "  ext_dep(5,6,s8y3)\n",
      "\n",
      "<block>:1:22-41: info: atom does not occur in any rule head:\n",
      "  ext_dep(5,6,s8y1y3)\n",
      "\n",
      "<block>:1:18-37: info: atom does not occur in any rule head:\n",
      "  ext_indep(5,6,s8y1)\n",
      "\n",
      "<block>:1:20-37: info: atom does not occur in any rule head:\n",
      "  ext_dep(5,6,s8y3)\n",
      "\n",
      "<block>:1:22-41: info: atom does not occur in any rule head:\n",
      "  ext_dep(5,6,s8y1y3)\n",
      "\n",
      "<block>:1:18-37: info: atom does not occur in any rule head:\n",
      "  ext_indep(5,6,s8y1)\n",
      "\n",
      "<block>:1:20-37: info: atom does not occur in any rule head:\n",
      "  ext_dep(3,6,s8y1)\n",
      "\n",
      "<block>:1:22-41: info: atom does not occur in any rule head:\n",
      "  ext_dep(5,6,s8y1y3)\n",
      "\n"
     ]
    },
    {
     "name": "stderr",
     "output_type": "stream",
     "text": [
      "<block>:1:18-37: info: atom does not occur in any rule head:\n",
      "  ext_indep(5,6,s8y1)\n",
      "\n",
      "<block>:1:20-37: info: atom does not occur in any rule head:\n",
      "  ext_dep(5,6,s8y3)\n",
      "\n",
      "<block>:1:22-41: info: atom does not occur in any rule head:\n",
      "  ext_dep(5,6,s8y1y3)\n",
      "\n",
      "<block>:1:18-37: info: atom does not occur in any rule head:\n",
      "  ext_indep(5,6,s8y1)\n",
      "\n",
      "<block>:1:20-37: info: atom does not occur in any rule head:\n",
      "  ext_dep(5,6,s8y3)\n",
      "\n",
      "<block>:1:22-41: info: atom does not occur in any rule head:\n",
      "  ext_dep(5,6,s8y1y3)\n",
      "\n"
     ]
    },
    {
     "name": "stderr",
     "output_type": "stream",
     "text": [
      "<block>:1:18-37: info: atom does not occur in any rule head:\n",
      "  ext_indep(5,6,s8y1)\n",
      "\n",
      "<block>:1:20-37: info: atom does not occur in any rule head:\n",
      "  ext_dep(1,6,s8y3)\n",
      "\n",
      "<block>:1:22-41: info: atom does not occur in any rule head:\n",
      "  ext_dep(5,6,s8y1y3)\n",
      "\n",
      "<block>:1:18-37: info: atom does not occur in any rule head:\n",
      "  ext_indep(5,6,s8y1)\n",
      "\n",
      "<block>:1:20-37: info: atom does not occur in any rule head:\n",
      "  ext_dep(3,6,s8y1)\n",
      "\n",
      "<block>:1:22-41: info: atom does not occur in any rule head:\n",
      "  ext_dep(5,6,s8y1y3)\n",
      "\n",
      "<block>:1:18-37: info: atom does not occur in any rule head:\n",
      "  ext_indep(5,6,s8y1)\n",
      "\n",
      "<block>:1:20-37: info: atom does not occur in any rule head:\n",
      "  ext_dep(1,6,s8y3)\n",
      "\n",
      "<block>:1:22-41: info: atom does not occur in any rule head:\n",
      "  ext_dep(5,6,s8y1y3)\n",
      "\n"
     ]
    },
    {
     "name": "stderr",
     "output_type": "stream",
     "text": [
      "<block>:1:18-37: info: atom does not occur in any rule head:\n",
      "  ext_indep(5,6,s8y1)\n",
      "\n",
      "<block>:1:20-37: info: atom does not occur in any rule head:\n",
      "  ext_dep(5,6,s8y3)\n",
      "\n",
      "<block>:1:22-41: info: atom does not occur in any rule head:\n",
      "  ext_dep(5,6,s8y1y3)\n",
      "\n",
      "<block>:1:18-37: info: atom does not occur in any rule head:\n",
      "  ext_indep(5,6,s8y1)\n",
      "\n",
      "<block>:1:20-37: info: atom does not occur in any rule head:\n",
      "  ext_dep(1,6,s8y3)\n",
      "\n",
      "<block>:1:22-41: info: atom does not occur in any rule head:\n",
      "  ext_dep(5,6,s8y1y3)\n",
      "\n"
     ]
    },
    {
     "name": "stderr",
     "output_type": "stream",
     "text": [
      "<block>:1:18-37: info: atom does not occur in any rule head:\n",
      "  ext_indep(5,6,s8y1)\n",
      "\n",
      "<block>:1:20-37: info: atom does not occur in any rule head:\n",
      "  ext_dep(3,6,s8y1)\n",
      "\n",
      "<block>:1:22-41: info: atom does not occur in any rule head:\n",
      "  ext_dep(5,6,s8y1y3)\n",
      "\n",
      "<block>:1:39-51: info: atom does not occur in any rule head:\n",
      "  ap(3,7,#P0,s0)\n",
      "\n",
      "<block>:1:45-60: info: atom does not occur in any rule head:\n",
      "  ap(3,7,#P0,empty)\n",
      "\n",
      "<block>:1:18-37: info: atom does not occur in any rule head:\n",
      "  ext_indep(5,6,s8y1)\n",
      "\n",
      "<block>:1:20-37: info: atom does not occur in any rule head:\n",
      "  ext_dep(3,6,s8y1)\n",
      "\n",
      "<block>:1:22-41: info: atom does not occur in any rule head:\n",
      "  ext_dep(5,6,s8y1y3)\n",
      "\n",
      "<block>:1:39-51: info: atom does not occur in any rule head:\n",
      "  ap(3,7,#P0,s0)\n",
      "\n",
      "<block>:1:45-60: info: atom does not occur in any rule head:\n",
      "  ap(3,7,#P0,empty)\n",
      "\n",
      "<block>:1:18-37: info: atom does not occur in any rule head:\n",
      "  ext_indep(5,6,s8y1)\n",
      "\n",
      "<block>:1:20-37: info: atom does not occur in any rule head:\n",
      "  ext_dep(3,6,s8y1)\n",
      "\n",
      "<block>:1:22-41: info: atom does not occur in any rule head:\n",
      "  ext_dep(5,6,s8y1y3)\n",
      "\n"
     ]
    },
    {
     "name": "stderr",
     "output_type": "stream",
     "text": [
      "<block>:1:18-37: info: atom does not occur in any rule head:\n",
      "  ext_indep(5,6,s8y1)\n",
      "\n",
      "<block>:1:20-37: info: atom does not occur in any rule head:\n",
      "  ext_dep(3,6,s8y1)\n",
      "\n",
      "<block>:1:22-41: info: atom does not occur in any rule head:\n",
      "  ext_dep(5,6,s8y1y3)\n",
      "\n",
      "<block>:1:18-37: info: atom does not occur in any rule head:\n",
      "  ext_indep(5,6,s8y1)\n",
      "\n",
      "<block>:1:20-37: info: atom does not occur in any rule head:\n",
      "  ext_dep(1,6,s8y3)\n",
      "\n",
      "<block>:1:22-41: info: atom does not occur in any rule head:\n",
      "  ext_dep(5,6,s8y1y3)\n",
      "\n"
     ]
    },
    {
     "name": "stderr",
     "output_type": "stream",
     "text": [
      "<block>:1:18-37: info: atom does not occur in any rule head:\n",
      "  ext_indep(5,6,s8y1)\n",
      "\n",
      "<block>:1:20-37: info: atom does not occur in any rule head:\n",
      "  ext_dep(3,6,s8y1)\n",
      "\n",
      "<block>:1:22-41: info: atom does not occur in any rule head:\n",
      "  ext_dep(5,6,s8y1y3)\n",
      "\n",
      "<block>:1:18-37: info: atom does not occur in any rule head:\n",
      "  ext_indep(5,6,s8y1)\n",
      "\n",
      "<block>:1:20-37: info: atom does not occur in any rule head:\n",
      "  ext_dep(1,6,s8y3)\n",
      "\n",
      "<block>:1:22-41: info: atom does not occur in any rule head:\n",
      "  ext_dep(5,6,s8y1y3)\n",
      "\n"
     ]
    },
    {
     "name": "stderr",
     "output_type": "stream",
     "text": [
      "<block>:1:18-37: info: atom does not occur in any rule head:\n",
      "  ext_indep(5,6,s8y1)\n",
      "\n",
      "<block>:1:20-37: info: atom does not occur in any rule head:\n",
      "  ext_dep(3,6,s8y1)\n",
      "\n",
      "<block>:1:22-41: info: atom does not occur in any rule head:\n",
      "  ext_dep(5,6,s8y1y3)\n",
      "\n"
     ]
    },
    {
     "name": "stderr",
     "output_type": "stream",
     "text": [
      "<block>:1:18-37: info: atom does not occur in any rule head:\n",
      "  ext_indep(5,6,s8y1)\n",
      "\n",
      "<block>:1:20-37: info: atom does not occur in any rule head:\n",
      "  ext_dep(3,6,s8y1)\n",
      "\n",
      "<block>:1:22-41: info: atom does not occur in any rule head:\n",
      "  ext_dep(5,6,s8y1y3)\n",
      "\n"
     ]
    },
    {
     "name": "stderr",
     "output_type": "stream",
     "text": [
      "<block>:1:18-37: info: atom does not occur in any rule head:\n",
      "  ext_indep(5,6,s8y1)\n",
      "\n",
      "<block>:1:20-37: info: atom does not occur in any rule head:\n",
      "  ext_dep(3,6,s8y1)\n",
      "\n",
      "<block>:1:22-41: info: atom does not occur in any rule head:\n",
      "  ext_dep(5,6,s8y1y3)\n",
      "\n"
     ]
    },
    {
     "name": "stderr",
     "output_type": "stream",
     "text": [
      "<block>:1:18-37: info: atom does not occur in any rule head:\n",
      "  ext_indep(5,6,s8y1)\n",
      "\n",
      "<block>:1:20-37: info: atom does not occur in any rule head:\n",
      "  ext_dep(3,6,s8y1)\n",
      "\n",
      "<block>:1:22-41: info: atom does not occur in any rule head:\n",
      "  ext_dep(5,6,s8y1y3)\n",
      "\n"
     ]
    },
    {
     "name": "stderr",
     "output_type": "stream",
     "text": [
      "<block>:1:18-37: info: atom does not occur in any rule head:\n",
      "  ext_indep(5,6,s8y1)\n",
      "\n",
      "<block>:1:20-37: info: atom does not occur in any rule head:\n",
      "  ext_dep(3,6,s8y1)\n",
      "\n",
      "<block>:1:22-41: info: atom does not occur in any rule head:\n",
      "  ext_dep(5,6,s8y1y3)\n",
      "\n"
     ]
    },
    {
     "name": "stderr",
     "output_type": "stream",
     "text": [
      "<block>:1:20-37: info: atom does not occur in any rule head:\n",
      "  ext_dep(1,6,s8y3)\n",
      "\n",
      "<block>:1:22-41: info: atom does not occur in any rule head:\n",
      "  ext_dep(5,6,s8y1y3)\n",
      "\n"
     ]
    },
    {
     "name": "stderr",
     "output_type": "stream",
     "text": [
      "<block>:1:20-37: info: atom does not occur in any rule head:\n",
      "  ext_dep(3,6,s8y1)\n",
      "\n",
      "<block>:1:22-41: info: atom does not occur in any rule head:\n",
      "  ext_dep(5,6,s8y1y3)\n",
      "\n"
     ]
    },
    {
     "name": "stderr",
     "output_type": "stream",
     "text": [
      "<block>:1:20-37: info: atom does not occur in any rule head:\n",
      "  ext_dep(1,6,s8y3)\n",
      "\n",
      "<block>:1:22-41: info: atom does not occur in any rule head:\n",
      "  ext_dep(5,6,s8y1y3)\n",
      "\n"
     ]
    },
    {
     "name": "stderr",
     "output_type": "stream",
     "text": [
      "<block>:1:20-37: info: atom does not occur in any rule head:\n",
      "  ext_dep(1,6,s8y3)\n",
      "\n",
      "<block>:1:22-41: info: atom does not occur in any rule head:\n",
      "  ext_dep(5,6,s8y1y3)\n",
      "\n"
     ]
    },
    {
     "name": "stderr",
     "output_type": "stream",
     "text": [
      "<block>:1:20-37: info: atom does not occur in any rule head:\n",
      "  ext_dep(3,6,s8y1)\n",
      "\n",
      "<block>:1:22-41: info: atom does not occur in any rule head:\n",
      "  ext_dep(5,6,s8y1y3)\n",
      "\n"
     ]
    },
    {
     "name": "stderr",
     "output_type": "stream",
     "text": [
      "<block>:1:20-37: info: atom does not occur in any rule head:\n",
      "  ext_dep(3,6,s8y1)\n",
      "\n",
      "<block>:1:22-41: info: atom does not occur in any rule head:\n",
      "  ext_dep(5,6,s8y1y3)\n",
      "\n"
     ]
    },
    {
     "name": "stderr",
     "output_type": "stream",
     "text": [
      "<block>:1:20-37: info: atom does not occur in any rule head:\n",
      "  ext_dep(3,6,s8y1)\n",
      "\n",
      "<block>:1:22-41: info: atom does not occur in any rule head:\n",
      "  ext_dep(5,6,s8y1y3)\n",
      "\n"
     ]
    },
    {
     "name": "stderr",
     "output_type": "stream",
     "text": [
      "<block>:1:20-37: info: atom does not occur in any rule head:\n",
      "  ext_dep(1,6,s8y3)\n",
      "\n",
      "<block>:1:22-41: info: atom does not occur in any rule head:\n",
      "  ext_dep(5,6,s8y1y3)\n",
      "\n"
     ]
    },
    {
     "name": "stderr",
     "output_type": "stream",
     "text": [
      "<block>:1:20-37: info: atom does not occur in any rule head:\n",
      "  ext_dep(3,6,s8y1)\n",
      "\n",
      "<block>:1:22-41: info: atom does not occur in any rule head:\n",
      "  ext_dep(5,6,s8y1y3)\n",
      "\n"
     ]
    },
    {
     "name": "stderr",
     "output_type": "stream",
     "text": [
      "<block>:1:20-37: info: atom does not occur in any rule head:\n",
      "  ext_dep(3,6,s8y1)\n",
      "\n",
      "<block>:1:22-41: info: atom does not occur in any rule head:\n",
      "  ext_dep(5,6,s8y1y3)\n",
      "\n"
     ]
    },
    {
     "name": "stderr",
     "output_type": "stream",
     "text": [
      "<block>:1:18-37: info: atom does not occur in any rule head:\n",
      "  ext_indep(5,6,s8y1)\n",
      "\n",
      "<block>:1:20-37: info: atom does not occur in any rule head:\n",
      "  ext_dep(3,6,s8y1)\n",
      "\n",
      "<block>:1:22-41: info: atom does not occur in any rule head:\n",
      "  ext_dep(5,6,s8y1y3)\n",
      "\n",
      "<block>:1:39-51: info: atom does not occur in any rule head:\n",
      "  ap(3,7,#P0,s0)\n",
      "\n",
      "<block>:1:45-60: info: atom does not occur in any rule head:\n",
      "  ap(3,7,#P0,empty)\n",
      "\n",
      "<block>:1:18-37: info: atom does not occur in any rule head:\n",
      "  ext_indep(5,6,s8y1)\n",
      "\n",
      "<block>:1:20-37: info: atom does not occur in any rule head:\n",
      "  ext_dep(3,6,s8y1)\n",
      "\n",
      "<block>:1:22-41: info: atom does not occur in any rule head:\n",
      "  ext_dep(5,6,s8y1y3)\n",
      "\n",
      "<block>:1:39-51: info: atom does not occur in any rule head:\n",
      "  ap(3,7,#P0,s0)\n",
      "\n",
      "<block>:1:45-60: info: atom does not occur in any rule head:\n",
      "  ap(3,7,#P0,empty)\n",
      "\n"
     ]
    },
    {
     "name": "stderr",
     "output_type": "stream",
     "text": [
      "<block>:1:18-37: info: atom does not occur in any rule head:\n",
      "  ext_indep(5,6,s8y1)\n",
      "\n",
      "<block>:1:20-37: info: atom does not occur in any rule head:\n",
      "  ext_dep(3,6,s8y1)\n",
      "\n",
      "<block>:1:22-41: info: atom does not occur in any rule head:\n",
      "  ext_dep(5,6,s8y1y3)\n",
      "\n",
      "<block>:1:18-37: info: atom does not occur in any rule head:\n",
      "  ext_indep(5,6,s8y1)\n",
      "\n",
      "<block>:1:20-37: info: atom does not occur in any rule head:\n",
      "  ext_dep(1,6,s8y3)\n",
      "\n",
      "<block>:1:22-41: info: atom does not occur in any rule head:\n",
      "  ext_dep(5,6,s8y1y3)\n",
      "\n"
     ]
    },
    {
     "name": "stderr",
     "output_type": "stream",
     "text": [
      "<block>:1:18-37: info: atom does not occur in any rule head:\n",
      "  ext_indep(5,6,s8y1)\n",
      "\n",
      "<block>:1:20-37: info: atom does not occur in any rule head:\n",
      "  ext_dep(3,6,s8y1)\n",
      "\n",
      "<block>:1:22-41: info: atom does not occur in any rule head:\n",
      "  ext_dep(5,6,s8y1y3)\n",
      "\n"
     ]
    },
    {
     "name": "stderr",
     "output_type": "stream",
     "text": [
      "<block>:1:18-37: info: atom does not occur in any rule head:\n",
      "  ext_indep(5,6,s8y1)\n",
      "\n",
      "<block>:1:20-37: info: atom does not occur in any rule head:\n",
      "  ext_dep(1,6,s8y3)\n",
      "\n",
      "<block>:1:22-41: info: atom does not occur in any rule head:\n",
      "  ext_dep(5,6,s8y1y3)\n",
      "\n"
     ]
    },
    {
     "name": "stderr",
     "output_type": "stream",
     "text": [
      "<block>:1:18-37: info: atom does not occur in any rule head:\n",
      "  ext_indep(5,6,s8y1)\n",
      "\n",
      "<block>:1:20-37: info: atom does not occur in any rule head:\n",
      "  ext_dep(3,6,s8y1)\n",
      "\n",
      "<block>:1:22-41: info: atom does not occur in any rule head:\n",
      "  ext_dep(5,6,s8y1y3)\n",
      "\n"
     ]
    },
    {
     "name": "stderr",
     "output_type": "stream",
     "text": [
      "<block>:1:18-37: info: atom does not occur in any rule head:\n",
      "  ext_indep(5,6,s8y1)\n",
      "\n",
      "<block>:1:20-37: info: atom does not occur in any rule head:\n",
      "  ext_dep(3,6,s8y1)\n",
      "\n",
      "<block>:1:22-41: info: atom does not occur in any rule head:\n",
      "  ext_dep(5,6,s8y1y3)\n",
      "\n"
     ]
    },
    {
     "name": "stderr",
     "output_type": "stream",
     "text": [
      "<block>:1:18-37: info: atom does not occur in any rule head:\n",
      "  ext_indep(5,6,s8y1)\n",
      "\n",
      "<block>:1:20-37: info: atom does not occur in any rule head:\n",
      "  ext_dep(3,6,s8y1)\n",
      "\n",
      "<block>:1:22-41: info: atom does not occur in any rule head:\n",
      "  ext_dep(5,6,s8y1y3)\n",
      "\n"
     ]
    },
    {
     "name": "stderr",
     "output_type": "stream",
     "text": [
      "<block>:1:18-37: info: atom does not occur in any rule head:\n",
      "  ext_indep(5,6,s8y1)\n",
      "\n",
      "<block>:1:20-37: info: atom does not occur in any rule head:\n",
      "  ext_dep(3,6,s8y1)\n",
      "\n",
      "<block>:1:22-41: info: atom does not occur in any rule head:\n",
      "  ext_dep(5,6,s8y1y3)\n",
      "\n"
     ]
    },
    {
     "name": "stderr",
     "output_type": "stream",
     "text": [
      "<block>:1:18-37: info: atom does not occur in any rule head:\n",
      "  ext_indep(5,6,s8y1)\n",
      "\n",
      "<block>:1:20-37: info: atom does not occur in any rule head:\n",
      "  ext_dep(3,6,s8y1)\n",
      "\n",
      "<block>:1:22-41: info: atom does not occur in any rule head:\n",
      "  ext_dep(5,6,s8y1y3)\n",
      "\n"
     ]
    },
    {
     "name": "stderr",
     "output_type": "stream",
     "text": [
      "<block>:1:18-37: info: atom does not occur in any rule head:\n",
      "  ext_indep(5,6,s8y1)\n",
      "\n",
      "<block>:1:20-37: info: atom does not occur in any rule head:\n",
      "  ext_dep(3,6,s8y1)\n",
      "\n",
      "<block>:1:22-41: info: atom does not occur in any rule head:\n",
      "  ext_dep(5,6,s8y1y3)\n",
      "\n"
     ]
    },
    {
     "name": "stderr",
     "output_type": "stream",
     "text": [
      "<block>:1:20-37: info: atom does not occur in any rule head:\n",
      "  ext_dep(1,6,s8y3)\n",
      "\n",
      "<block>:1:22-41: info: atom does not occur in any rule head:\n",
      "  ext_dep(5,6,s8y1y3)\n",
      "\n"
     ]
    },
    {
     "name": "stderr",
     "output_type": "stream",
     "text": [
      "<block>:1:20-37: info: atom does not occur in any rule head:\n",
      "  ext_dep(3,6,s8y1)\n",
      "\n",
      "<block>:1:22-41: info: atom does not occur in any rule head:\n",
      "  ext_dep(5,6,s8y1y3)\n",
      "\n"
     ]
    },
    {
     "name": "stderr",
     "output_type": "stream",
     "text": [
      "<block>:1:20-37: info: atom does not occur in any rule head:\n",
      "  ext_dep(1,6,s8y3)\n",
      "\n",
      "<block>:1:22-41: info: atom does not occur in any rule head:\n",
      "  ext_dep(5,6,s8y1y3)\n",
      "\n"
     ]
    },
    {
     "name": "stderr",
     "output_type": "stream",
     "text": [
      "<block>:1:20-37: info: atom does not occur in any rule head:\n",
      "  ext_dep(3,6,s8y1)\n",
      "\n",
      "<block>:1:22-41: info: atom does not occur in any rule head:\n",
      "  ext_dep(5,6,s8y1y3)\n",
      "\n"
     ]
    },
    {
     "name": "stderr",
     "output_type": "stream",
     "text": [
      "<block>:1:20-37: info: atom does not occur in any rule head:\n",
      "  ext_dep(1,6,s8y3)\n",
      "\n",
      "<block>:1:22-41: info: atom does not occur in any rule head:\n",
      "  ext_dep(5,6,s8y1y3)\n",
      "\n"
     ]
    },
    {
     "name": "stderr",
     "output_type": "stream",
     "text": [
      "<block>:1:20-37: info: atom does not occur in any rule head:\n",
      "  ext_dep(3,6,s8y1)\n",
      "\n",
      "<block>:1:22-41: info: atom does not occur in any rule head:\n",
      "  ext_dep(5,6,s8y1y3)\n",
      "\n"
     ]
    },
    {
     "name": "stderr",
     "output_type": "stream",
     "text": [
      "<block>:1:20-37: info: atom does not occur in any rule head:\n",
      "  ext_dep(3,6,s8y1)\n",
      "\n",
      "<block>:1:22-41: info: atom does not occur in any rule head:\n",
      "  ext_dep(5,6,s8y1y3)\n",
      "\n"
     ]
    },
    {
     "name": "stderr",
     "output_type": "stream",
     "text": [
      "<block>:1:20-37: info: atom does not occur in any rule head:\n",
      "  ext_dep(1,6,s8y3)\n",
      "\n",
      "<block>:1:22-41: info: atom does not occur in any rule head:\n",
      "  ext_dep(5,6,s8y1y3)\n",
      "\n"
     ]
    },
    {
     "name": "stderr",
     "output_type": "stream",
     "text": [
      "<block>:1:20-37: info: atom does not occur in any rule head:\n",
      "  ext_dep(3,6,s8y1)\n",
      "\n",
      "<block>:1:22-41: info: atom does not occur in any rule head:\n",
      "  ext_dep(5,6,s8y1y3)\n",
      "\n"
     ]
    },
    {
     "name": "stderr",
     "output_type": "stream",
     "text": [
      "<block>:1:20-37: info: atom does not occur in any rule head:\n",
      "  ext_dep(1,6,s8y3)\n",
      "\n",
      "<block>:1:22-41: info: atom does not occur in any rule head:\n",
      "  ext_dep(5,6,s8y1y3)\n",
      "\n"
     ]
    },
    {
     "name": "stderr",
     "output_type": "stream",
     "text": [
      "<block>:1:18-37: info: atom does not occur in any rule head:\n",
      "  ext_indep(5,6,s8y1)\n",
      "\n",
      "<block>:1:20-37: info: atom does not occur in any rule head:\n",
      "  ext_dep(3,6,s8y1)\n",
      "\n",
      "<block>:1:22-41: info: atom does not occur in any rule head:\n",
      "  ext_dep(5,6,s8y1y3)\n",
      "\n",
      "<block>:1:18-37: info: atom does not occur in any rule head:\n",
      "  ext_indep(5,6,s8y1)\n",
      "\n",
      "<block>:1:20-37: info: atom does not occur in any rule head:\n",
      "  ext_dep(3,6,s8y1)\n",
      "\n",
      "<block>:1:22-41: info: atom does not occur in any rule head:\n",
      "  ext_dep(5,6,s8y1y3)\n",
      "\n"
     ]
    },
    {
     "name": "stderr",
     "output_type": "stream",
     "text": [
      "<block>:1:18-37: info: atom does not occur in any rule head:\n",
      "  ext_indep(5,6,s8y1)\n",
      "\n",
      "<block>:1:20-37: info: atom does not occur in any rule head:\n",
      "  ext_dep(5,6,s8y3)\n",
      "\n",
      "<block>:1:22-41: info: atom does not occur in any rule head:\n",
      "  ext_dep(5,6,s8y1y3)\n",
      "\n",
      "<block>:1:18-37: info: atom does not occur in any rule head:\n",
      "  ext_indep(5,6,s8y1)\n",
      "\n",
      "<block>:1:20-37: info: atom does not occur in any rule head:\n",
      "  ext_dep(3,6,s8y1)\n",
      "\n",
      "<block>:1:22-41: info: atom does not occur in any rule head:\n",
      "  ext_dep(5,6,s8y1y3)\n",
      "\n"
     ]
    },
    {
     "name": "stderr",
     "output_type": "stream",
     "text": [
      "<block>:1:18-37: info: atom does not occur in any rule head:\n",
      "  ext_indep(5,6,s8y1)\n",
      "\n",
      "<block>:1:20-37: info: atom does not occur in any rule head:\n",
      "  ext_dep(5,6,s8y3)\n",
      "\n",
      "<block>:1:22-41: info: atom does not occur in any rule head:\n",
      "  ext_dep(5,6,s8y1y3)\n",
      "\n",
      "<block>:1:18-37: info: atom does not occur in any rule head:\n",
      "  ext_indep(5,6,s8y1)\n",
      "\n",
      "<block>:1:20-37: info: atom does not occur in any rule head:\n",
      "  ext_dep(3,6,s8y1)\n",
      "\n",
      "<block>:1:22-41: info: atom does not occur in any rule head:\n",
      "  ext_dep(5,6,s8y1y3)\n",
      "\n"
     ]
    },
    {
     "name": "stderr",
     "output_type": "stream",
     "text": [
      "<block>:1:18-37: info: atom does not occur in any rule head:\n",
      "  ext_indep(5,6,s8y1)\n",
      "\n",
      "<block>:1:20-37: info: atom does not occur in any rule head:\n",
      "  ext_dep(5,6,s8y3)\n",
      "\n",
      "<block>:1:22-41: info: atom does not occur in any rule head:\n",
      "  ext_dep(5,6,s8y1y3)\n",
      "\n"
     ]
    },
    {
     "name": "stderr",
     "output_type": "stream",
     "text": [
      "<block>:1:18-37: info: atom does not occur in any rule head:\n",
      "  ext_indep(5,6,s8y1)\n",
      "\n",
      "<block>:1:20-37: info: atom does not occur in any rule head:\n",
      "  ext_dep(3,6,s8y1)\n",
      "\n",
      "<block>:1:22-41: info: atom does not occur in any rule head:\n",
      "  ext_dep(5,6,s8y1y3)\n",
      "\n"
     ]
    },
    {
     "name": "stderr",
     "output_type": "stream",
     "text": [
      "<block>:1:18-37: info: atom does not occur in any rule head:\n",
      "  ext_indep(5,6,s8y1)\n",
      "\n",
      "<block>:1:20-37: info: atom does not occur in any rule head:\n",
      "  ext_dep(3,6,s8y1)\n",
      "\n",
      "<block>:1:22-41: info: atom does not occur in any rule head:\n",
      "  ext_dep(5,6,s8y1y3)\n",
      "\n"
     ]
    },
    {
     "name": "stderr",
     "output_type": "stream",
     "text": [
      "<block>:1:18-37: info: atom does not occur in any rule head:\n",
      "  ext_indep(5,6,s8y1)\n",
      "\n",
      "<block>:1:20-37: info: atom does not occur in any rule head:\n",
      "  ext_dep(3,6,s8y1)\n",
      "\n",
      "<block>:1:22-41: info: atom does not occur in any rule head:\n",
      "  ext_dep(5,6,s8y1y3)\n",
      "\n"
     ]
    },
    {
     "name": "stderr",
     "output_type": "stream",
     "text": [
      "<block>:1:18-37: info: atom does not occur in any rule head:\n",
      "  ext_indep(5,6,s8y1)\n",
      "\n",
      "<block>:1:20-37: info: atom does not occur in any rule head:\n",
      "  ext_dep(3,6,s8y1)\n",
      "\n",
      "<block>:1:22-41: info: atom does not occur in any rule head:\n",
      "  ext_dep(5,6,s8y1y3)\n",
      "\n"
     ]
    },
    {
     "name": "stderr",
     "output_type": "stream",
     "text": [
      "<block>:1:18-37: info: atom does not occur in any rule head:\n",
      "  ext_indep(5,6,s8y1)\n",
      "\n",
      "<block>:1:20-37: info: atom does not occur in any rule head:\n",
      "  ext_dep(1,6,s8y3)\n",
      "\n",
      "<block>:1:22-41: info: atom does not occur in any rule head:\n",
      "  ext_dep(5,6,s8y1y3)\n",
      "\n"
     ]
    },
    {
     "name": "stderr",
     "output_type": "stream",
     "text": [
      "<block>:1:18-37: info: atom does not occur in any rule head:\n",
      "  ext_indep(5,6,s8y1)\n",
      "\n",
      "<block>:1:20-37: info: atom does not occur in any rule head:\n",
      "  ext_dep(3,6,s8y1)\n",
      "\n",
      "<block>:1:22-41: info: atom does not occur in any rule head:\n",
      "  ext_dep(5,6,s8y1y3)\n",
      "\n"
     ]
    },
    {
     "name": "stderr",
     "output_type": "stream",
     "text": [
      "<block>:1:18-37: info: atom does not occur in any rule head:\n",
      "  ext_indep(5,6,s8y1)\n",
      "\n",
      "<block>:1:20-37: info: atom does not occur in any rule head:\n",
      "  ext_dep(1,6,s8y3)\n",
      "\n",
      "<block>:1:22-41: info: atom does not occur in any rule head:\n",
      "  ext_dep(5,6,s8y1y3)\n",
      "\n"
     ]
    },
    {
     "name": "stderr",
     "output_type": "stream",
     "text": [
      "<block>:1:18-37: info: atom does not occur in any rule head:\n",
      "  ext_indep(5,6,s8y1)\n",
      "\n",
      "<block>:1:20-37: info: atom does not occur in any rule head:\n",
      "  ext_dep(1,6,s8y3)\n",
      "\n",
      "<block>:1:22-41: info: atom does not occur in any rule head:\n",
      "  ext_dep(5,6,s8y1y3)\n",
      "\n"
     ]
    },
    {
     "name": "stderr",
     "output_type": "stream",
     "text": [
      "<block>:1:18-37: info: atom does not occur in any rule head:\n",
      "  ext_indep(5,6,s8y1)\n",
      "\n",
      "<block>:1:20-37: info: atom does not occur in any rule head:\n",
      "  ext_dep(5,6,s8y3)\n",
      "\n",
      "<block>:1:22-41: info: atom does not occur in any rule head:\n",
      "  ext_dep(5,6,s8y1y3)\n",
      "\n"
     ]
    },
    {
     "name": "stderr",
     "output_type": "stream",
     "text": [
      "<block>:1:18-37: info: atom does not occur in any rule head:\n",
      "  ext_indep(5,6,s8y1)\n",
      "\n",
      "<block>:1:20-37: info: atom does not occur in any rule head:\n",
      "  ext_dep(3,6,s8y1)\n",
      "\n",
      "<block>:1:22-41: info: atom does not occur in any rule head:\n",
      "  ext_dep(5,6,s8y1y3)\n",
      "\n"
     ]
    },
    {
     "name": "stderr",
     "output_type": "stream",
     "text": [
      "<block>:1:18-37: info: atom does not occur in any rule head:\n",
      "  ext_indep(5,6,s8y1)\n",
      "\n",
      "<block>:1:20-37: info: atom does not occur in any rule head:\n",
      "  ext_dep(3,6,s8y1)\n",
      "\n",
      "<block>:1:22-41: info: atom does not occur in any rule head:\n",
      "  ext_dep(5,6,s8y1y3)\n",
      "\n"
     ]
    },
    {
     "name": "stderr",
     "output_type": "stream",
     "text": [
      "<block>:1:18-37: info: atom does not occur in any rule head:\n",
      "  ext_indep(5,6,s8y1)\n",
      "\n",
      "<block>:1:20-37: info: atom does not occur in any rule head:\n",
      "  ext_dep(3,6,s8y1)\n",
      "\n",
      "<block>:1:22-41: info: atom does not occur in any rule head:\n",
      "  ext_dep(5,6,s8y1y3)\n",
      "\n",
      "<block>:1:18-37: info: atom does not occur in any rule head:\n",
      "  ext_indep(5,6,s8y1)\n",
      "\n",
      "<block>:1:20-37: info: atom does not occur in any rule head:\n",
      "  ext_dep(3,6,s8y1)\n",
      "\n",
      "<block>:1:22-41: info: atom does not occur in any rule head:\n",
      "  ext_dep(5,6,s8y1y3)\n",
      "\n",
      "<block>:1:18-37: info: atom does not occur in any rule head:\n",
      "  ext_indep(5,6,s8y1)\n",
      "\n",
      "<block>:1:20-37: info: atom does not occur in any rule head:\n",
      "  ext_dep(5,6,s8y3)\n",
      "\n",
      "<block>:1:22-41: info: atom does not occur in any rule head:\n",
      "  ext_dep(5,6,s8y1y3)\n",
      "\n"
     ]
    },
    {
     "name": "stderr",
     "output_type": "stream",
     "text": [
      "<block>:1:18-37: info: atom does not occur in any rule head:\n",
      "  ext_indep(5,6,s8y1)\n",
      "\n",
      "<block>:1:20-37: info: atom does not occur in any rule head:\n",
      "  ext_dep(3,6,s8y1)\n",
      "\n",
      "<block>:1:22-41: info: atom does not occur in any rule head:\n",
      "  ext_dep(5,6,s8y1y3)\n",
      "\n",
      "<block>:1:18-37: info: atom does not occur in any rule head:\n",
      "  ext_indep(5,6,s8y1)\n",
      "\n",
      "<block>:1:20-37: info: atom does not occur in any rule head:\n",
      "  ext_dep(5,6,s8y3)\n",
      "\n",
      "<block>:1:22-41: info: atom does not occur in any rule head:\n",
      "  ext_dep(5,6,s8y1y3)\n",
      "\n"
     ]
    },
    {
     "name": "stderr",
     "output_type": "stream",
     "text": [
      "<block>:1:18-37: info: atom does not occur in any rule head:\n",
      "  ext_indep(5,6,s8y1)\n",
      "\n",
      "<block>:1:20-37: info: atom does not occur in any rule head:\n",
      "  ext_dep(3,6,s8y1)\n",
      "\n",
      "<block>:1:22-41: info: atom does not occur in any rule head:\n",
      "  ext_dep(5,6,s8y1y3)\n",
      "\n"
     ]
    },
    {
     "name": "stderr",
     "output_type": "stream",
     "text": [
      "<block>:1:18-37: info: atom does not occur in any rule head:\n",
      "  ext_indep(5,6,s8y1)\n",
      "\n",
      "<block>:1:20-37: info: atom does not occur in any rule head:\n",
      "  ext_dep(5,6,s8y3)\n",
      "\n",
      "<block>:1:22-41: info: atom does not occur in any rule head:\n",
      "  ext_dep(5,6,s8y1y3)\n",
      "\n"
     ]
    },
    {
     "name": "stderr",
     "output_type": "stream",
     "text": [
      "<block>:1:18-37: info: atom does not occur in any rule head:\n",
      "  ext_indep(5,6,s8y1)\n",
      "\n",
      "<block>:1:20-37: info: atom does not occur in any rule head:\n",
      "  ext_dep(3,6,s8y1)\n",
      "\n",
      "<block>:1:22-41: info: atom does not occur in any rule head:\n",
      "  ext_dep(5,6,s8y1y3)\n",
      "\n"
     ]
    },
    {
     "name": "stderr",
     "output_type": "stream",
     "text": [
      "<block>:1:18-37: info: atom does not occur in any rule head:\n",
      "  ext_indep(5,6,s8y1)\n",
      "\n",
      "<block>:1:20-37: info: atom does not occur in any rule head:\n",
      "  ext_dep(3,6,s8y1)\n",
      "\n",
      "<block>:1:22-41: info: atom does not occur in any rule head:\n",
      "  ext_dep(5,6,s8y1y3)\n",
      "\n"
     ]
    },
    {
     "name": "stderr",
     "output_type": "stream",
     "text": [
      "<block>:1:18-37: info: atom does not occur in any rule head:\n",
      "  ext_indep(5,6,s8y1)\n",
      "\n",
      "<block>:1:20-37: info: atom does not occur in any rule head:\n",
      "  ext_dep(5,6,s8y3)\n",
      "\n",
      "<block>:1:22-41: info: atom does not occur in any rule head:\n",
      "  ext_dep(5,6,s8y1y3)\n",
      "\n"
     ]
    },
    {
     "name": "stderr",
     "output_type": "stream",
     "text": [
      "<block>:1:18-37: info: atom does not occur in any rule head:\n",
      "  ext_indep(5,6,s8y1)\n",
      "\n",
      "<block>:1:20-37: info: atom does not occur in any rule head:\n",
      "  ext_dep(5,6,s8y3)\n",
      "\n",
      "<block>:1:22-41: info: atom does not occur in any rule head:\n",
      "  ext_dep(5,6,s8y1y3)\n",
      "\n"
     ]
    },
    {
     "name": "stderr",
     "output_type": "stream",
     "text": [
      "<block>:1:18-37: info: atom does not occur in any rule head:\n",
      "  ext_indep(5,6,s8y1)\n",
      "\n",
      "<block>:1:20-37: info: atom does not occur in any rule head:\n",
      "  ext_dep(3,6,s8y1)\n",
      "\n",
      "<block>:1:22-41: info: atom does not occur in any rule head:\n",
      "  ext_dep(5,6,s8y1y3)\n",
      "\n"
     ]
    },
    {
     "name": "stderr",
     "output_type": "stream",
     "text": [
      "<block>:1:18-37: info: atom does not occur in any rule head:\n",
      "  ext_indep(5,6,s8y1)\n",
      "\n",
      "<block>:1:20-37: info: atom does not occur in any rule head:\n",
      "  ext_dep(1,6,s8y3)\n",
      "\n",
      "<block>:1:22-41: info: atom does not occur in any rule head:\n",
      "  ext_dep(5,6,s8y1y3)\n",
      "\n"
     ]
    },
    {
     "name": "stderr",
     "output_type": "stream",
     "text": [
      "<block>:1:18-37: info: atom does not occur in any rule head:\n",
      "  ext_indep(5,6,s8y1)\n",
      "\n",
      "<block>:1:20-37: info: atom does not occur in any rule head:\n",
      "  ext_dep(3,6,s8y1)\n",
      "\n",
      "<block>:1:22-41: info: atom does not occur in any rule head:\n",
      "  ext_dep(5,6,s8y1y3)\n",
      "\n"
     ]
    },
    {
     "name": "stderr",
     "output_type": "stream",
     "text": [
      "<block>:1:18-37: info: atom does not occur in any rule head:\n",
      "  ext_indep(5,6,s8y1)\n",
      "\n",
      "<block>:1:20-37: info: atom does not occur in any rule head:\n",
      "  ext_dep(1,6,s8y3)\n",
      "\n",
      "<block>:1:22-41: info: atom does not occur in any rule head:\n",
      "  ext_dep(5,6,s8y1y3)\n",
      "\n"
     ]
    },
    {
     "name": "stderr",
     "output_type": "stream",
     "text": [
      "<block>:1:18-37: info: atom does not occur in any rule head:\n",
      "  ext_indep(5,6,s8y1)\n",
      "\n",
      "<block>:1:20-37: info: atom does not occur in any rule head:\n",
      "  ext_dep(3,6,s8y1)\n",
      "\n",
      "<block>:1:22-41: info: atom does not occur in any rule head:\n",
      "  ext_dep(5,6,s8y1y3)\n",
      "\n"
     ]
    },
    {
     "name": "stderr",
     "output_type": "stream",
     "text": [
      "<block>:1:18-37: info: atom does not occur in any rule head:\n",
      "  ext_indep(5,6,s8y1)\n",
      "\n",
      "<block>:1:20-37: info: atom does not occur in any rule head:\n",
      "  ext_dep(1,6,s8y3)\n",
      "\n",
      "<block>:1:22-41: info: atom does not occur in any rule head:\n",
      "  ext_dep(5,6,s8y1y3)\n",
      "\n"
     ]
    },
    {
     "name": "stderr",
     "output_type": "stream",
     "text": [
      "<block>:1:18-37: info: atom does not occur in any rule head:\n",
      "  ext_indep(5,6,s8y1)\n",
      "\n",
      "<block>:1:20-37: info: atom does not occur in any rule head:\n",
      "  ext_dep(3,6,s8y1)\n",
      "\n",
      "<block>:1:22-41: info: atom does not occur in any rule head:\n",
      "  ext_dep(5,6,s8y1y3)\n",
      "\n"
     ]
    },
    {
     "name": "stderr",
     "output_type": "stream",
     "text": [
      "<block>:1:18-37: info: atom does not occur in any rule head:\n",
      "  ext_indep(5,6,s8y1)\n",
      "\n",
      "<block>:1:20-37: info: atom does not occur in any rule head:\n",
      "  ext_dep(5,6,s8y3)\n",
      "\n",
      "<block>:1:22-41: info: atom does not occur in any rule head:\n",
      "  ext_dep(5,6,s8y1y3)\n",
      "\n",
      "<block>:1:18-37: info: atom does not occur in any rule head:\n",
      "  ext_indep(5,6,s8y1)\n",
      "\n",
      "<block>:1:20-37: info: atom does not occur in any rule head:\n",
      "  ext_dep(5,6,s8y3)\n",
      "\n",
      "<block>:1:22-41: info: atom does not occur in any rule head:\n",
      "  ext_dep(5,6,s8y1y3)\n",
      "\n",
      "<block>:1:18-37: info: atom does not occur in any rule head:\n",
      "  ext_indep(5,6,s8y1)\n",
      "\n",
      "<block>:1:20-37: info: atom does not occur in any rule head:\n",
      "  ext_dep(5,6,s8y3)\n",
      "\n",
      "<block>:1:22-41: info: atom does not occur in any rule head:\n",
      "  ext_dep(5,6,s8y1y3)\n",
      "\n"
     ]
    },
    {
     "name": "stderr",
     "output_type": "stream",
     "text": [
      "<block>:1:18-37: info: atom does not occur in any rule head:\n",
      "  ext_indep(5,6,s8y1)\n",
      "\n",
      "<block>:1:20-37: info: atom does not occur in any rule head:\n",
      "  ext_dep(5,6,s8y3)\n",
      "\n",
      "<block>:1:22-41: info: atom does not occur in any rule head:\n",
      "  ext_dep(5,6,s8y1y3)\n",
      "\n",
      "<block>:1:18-37: info: atom does not occur in any rule head:\n",
      "  ext_indep(5,6,s8y1)\n",
      "\n",
      "<block>:1:20-37: info: atom does not occur in any rule head:\n",
      "  ext_dep(5,6,s8y3)\n",
      "\n",
      "<block>:1:22-41: info: atom does not occur in any rule head:\n",
      "  ext_dep(5,6,s8y1y3)\n",
      "\n"
     ]
    },
    {
     "name": "stderr",
     "output_type": "stream",
     "text": [
      "<block>:1:18-37: info: atom does not occur in any rule head:\n",
      "  ext_indep(5,6,s8y1)\n",
      "\n",
      "<block>:1:20-37: info: atom does not occur in any rule head:\n",
      "  ext_dep(5,6,s8y3)\n",
      "\n",
      "<block>:1:22-41: info: atom does not occur in any rule head:\n",
      "  ext_dep(5,6,s8y1y3)\n",
      "\n",
      "<block>:1:18-37: info: atom does not occur in any rule head:\n",
      "  ext_indep(5,6,s8y1)\n",
      "\n",
      "<block>:1:20-37: info: atom does not occur in any rule head:\n",
      "  ext_dep(5,6,s8y3)\n",
      "\n",
      "<block>:1:22-41: info: atom does not occur in any rule head:\n",
      "  ext_dep(5,6,s8y1y3)\n",
      "\n",
      "<block>:1:18-37: info: atom does not occur in any rule head:\n",
      "  ext_indep(5,6,s8y1)\n",
      "\n",
      "<block>:1:20-37: info: atom does not occur in any rule head:\n",
      "  ext_dep(5,6,s8y3)\n",
      "\n",
      "<block>:1:22-41: info: atom does not occur in any rule head:\n",
      "  ext_dep(5,6,s8y1y3)\n",
      "\n"
     ]
    },
    {
     "name": "stderr",
     "output_type": "stream",
     "text": [
      "<block>:1:18-37: info: atom does not occur in any rule head:\n",
      "  ext_indep(5,6,s8y1)\n",
      "\n",
      "<block>:1:20-37: info: atom does not occur in any rule head:\n",
      "  ext_dep(5,6,s8y3)\n",
      "\n",
      "<block>:1:22-41: info: atom does not occur in any rule head:\n",
      "  ext_dep(5,6,s8y1y3)\n",
      "\n",
      "<block>:1:18-37: info: atom does not occur in any rule head:\n",
      "  ext_indep(5,6,s8y1)\n",
      "\n",
      "<block>:1:20-37: info: atom does not occur in any rule head:\n",
      "  ext_dep(1,6,s8y3)\n",
      "\n",
      "<block>:1:22-41: info: atom does not occur in any rule head:\n",
      "  ext_dep(5,6,s8y1y3)\n",
      "\n"
     ]
    },
    {
     "name": "stderr",
     "output_type": "stream",
     "text": [
      "<block>:1:18-37: info: atom does not occur in any rule head:\n",
      "  ext_indep(5,6,s8y1)\n",
      "\n",
      "<block>:1:20-37: info: atom does not occur in any rule head:\n",
      "  ext_dep(1,6,s8y3)\n",
      "\n",
      "<block>:1:22-41: info: atom does not occur in any rule head:\n",
      "  ext_dep(5,6,s8y1y3)\n",
      "\n",
      "<block>:1:18-37: info: atom does not occur in any rule head:\n",
      "  ext_indep(5,6,s8y1)\n",
      "\n",
      "<block>:1:20-37: info: atom does not occur in any rule head:\n",
      "  ext_dep(1,6,s8y3)\n",
      "\n",
      "<block>:1:22-41: info: atom does not occur in any rule head:\n",
      "  ext_dep(5,6,s8y1y3)\n",
      "\n",
      "<block>:1:18-37: info: atom does not occur in any rule head:\n",
      "  ext_indep(5,6,s8y1)\n",
      "\n",
      "<block>:1:20-37: info: atom does not occur in any rule head:\n",
      "  ext_dep(1,6,s8y3)\n",
      "\n",
      "<block>:1:22-41: info: atom does not occur in any rule head:\n",
      "  ext_dep(5,6,s8y1y3)\n",
      "\n"
     ]
    },
    {
     "name": "stderr",
     "output_type": "stream",
     "text": [
      "<block>:1:18-37: info: atom does not occur in any rule head:\n",
      "  ext_indep(5,6,s8y1)\n",
      "\n",
      "<block>:1:20-37: info: atom does not occur in any rule head:\n",
      "  ext_dep(1,6,s8y3)\n",
      "\n",
      "<block>:1:22-41: info: atom does not occur in any rule head:\n",
      "  ext_dep(5,6,s8y1y3)\n",
      "\n",
      "<block>:1:20-37: info: atom does not occur in any rule head:\n",
      "  ext_dep(1,6,s8y3)\n",
      "\n",
      "<block>:1:22-41: info: atom does not occur in any rule head:\n",
      "  ext_dep(5,6,s8y1y3)\n",
      "\n",
      "<block>:1:18-37: info: atom does not occur in any rule head:\n",
      "  ext_indep(5,6,s8y1)\n",
      "\n",
      "<block>:1:20-37: info: atom does not occur in any rule head:\n",
      "  ext_dep(1,6,s8y3)\n",
      "\n",
      "<block>:1:22-41: info: atom does not occur in any rule head:\n",
      "  ext_dep(5,6,s8y1y3)\n",
      "\n"
     ]
    },
    {
     "name": "stderr",
     "output_type": "stream",
     "text": [
      "<block>:1:18-37: info: atom does not occur in any rule head:\n",
      "  ext_indep(5,6,s8y1)\n",
      "\n",
      "<block>:1:20-37: info: atom does not occur in any rule head:\n",
      "  ext_dep(1,6,s8y3)\n",
      "\n",
      "<block>:1:22-41: info: atom does not occur in any rule head:\n",
      "  ext_dep(5,6,s8y1y3)\n",
      "\n",
      "<block>:1:18-37: info: atom does not occur in any rule head:\n",
      "  ext_indep(5,6,s8y1)\n",
      "\n",
      "<block>:1:20-37: info: atom does not occur in any rule head:\n",
      "  ext_dep(1,6,s8y3)\n",
      "\n",
      "<block>:1:22-41: info: atom does not occur in any rule head:\n",
      "  ext_dep(5,6,s8y1y3)\n",
      "\n",
      "<block>:1:18-37: info: atom does not occur in any rule head:\n",
      "  ext_indep(5,6,s8y1)\n",
      "\n",
      "<block>:1:20-37: info: atom does not occur in any rule head:\n",
      "  ext_dep(1,6,s8y3)\n",
      "\n",
      "<block>:1:22-41: info: atom does not occur in any rule head:\n",
      "  ext_dep(5,6,s8y1y3)\n",
      "\n"
     ]
    },
    {
     "name": "stderr",
     "output_type": "stream",
     "text": [
      "<block>:1:20-37: info: atom does not occur in any rule head:\n",
      "  ext_dep(3,6,s8y1)\n",
      "\n",
      "<block>:1:22-41: info: atom does not occur in any rule head:\n",
      "  ext_dep(5,6,s8y1y3)\n",
      "\n"
     ]
    },
    {
     "name": "stderr",
     "output_type": "stream",
     "text": [
      "<block>:1:18-37: info: atom does not occur in any rule head:\n",
      "  ext_indep(5,6,s8y1)\n",
      "\n",
      "<block>:1:20-37: info: atom does not occur in any rule head:\n",
      "  ext_dep(1,6,s8y3)\n",
      "\n",
      "<block>:1:22-41: info: atom does not occur in any rule head:\n",
      "  ext_dep(5,6,s8y1y3)\n",
      "\n",
      "<block>:1:18-37: info: atom does not occur in any rule head:\n",
      "  ext_indep(5,6,s8y1)\n",
      "\n",
      "<block>:1:20-37: info: atom does not occur in any rule head:\n",
      "  ext_dep(3,6,s8y1)\n",
      "\n",
      "<block>:1:22-41: info: atom does not occur in any rule head:\n",
      "  ext_dep(5,6,s8y1y3)\n",
      "\n",
      "<block>:1:18-37: info: atom does not occur in any rule head:\n",
      "  ext_indep(5,6,s8y1)\n",
      "\n",
      "<block>:1:20-37: info: atom does not occur in any rule head:\n",
      "  ext_dep(3,6,s8y1)\n",
      "\n",
      "<block>:1:22-41: info: atom does not occur in any rule head:\n",
      "  ext_dep(5,6,s8y1y3)\n",
      "\n"
     ]
    },
    {
     "name": "stderr",
     "output_type": "stream",
     "text": [
      "<block>:1:18-37: info: atom does not occur in any rule head:\n",
      "  ext_indep(5,6,s8y1)\n",
      "\n",
      "<block>:1:20-37: info: atom does not occur in any rule head:\n",
      "  ext_dep(1,6,s8y3)\n",
      "\n",
      "<block>:1:22-41: info: atom does not occur in any rule head:\n",
      "  ext_dep(5,6,s8y1y3)\n",
      "\n",
      "<block>:1:18-37: info: atom does not occur in any rule head:\n",
      "  ext_indep(5,6,s8y1)\n",
      "\n",
      "<block>:1:20-37: info: atom does not occur in any rule head:\n",
      "  ext_dep(1,6,s8y3)\n",
      "\n",
      "<block>:1:22-41: info: atom does not occur in any rule head:\n",
      "  ext_dep(5,6,s8y1y3)\n",
      "\n"
     ]
    },
    {
     "name": "stderr",
     "output_type": "stream",
     "text": [
      "<block>:1:18-37: info: atom does not occur in any rule head:\n",
      "  ext_indep(5,6,s8y1)\n",
      "\n",
      "<block>:1:20-37: info: atom does not occur in any rule head:\n",
      "  ext_dep(5,6,s8y3)\n",
      "\n",
      "<block>:1:22-41: info: atom does not occur in any rule head:\n",
      "  ext_dep(5,6,s8y1y3)\n",
      "\n",
      "<block>:1:18-37: info: atom does not occur in any rule head:\n",
      "  ext_indep(5,6,s8y1)\n",
      "\n",
      "<block>:1:20-37: info: atom does not occur in any rule head:\n",
      "  ext_dep(5,6,s8y3)\n",
      "\n",
      "<block>:1:22-41: info: atom does not occur in any rule head:\n",
      "  ext_dep(5,6,s8y1y3)\n",
      "\n"
     ]
    },
    {
     "name": "stderr",
     "output_type": "stream",
     "text": [
      "<block>:1:18-37: info: atom does not occur in any rule head:\n",
      "  ext_indep(5,6,s8y1)\n",
      "\n",
      "<block>:1:20-37: info: atom does not occur in any rule head:\n",
      "  ext_dep(1,6,s8y3)\n",
      "\n",
      "<block>:1:22-41: info: atom does not occur in any rule head:\n",
      "  ext_dep(5,6,s8y1y3)\n",
      "\n",
      "<block>:1:18-37: info: atom does not occur in any rule head:\n",
      "  ext_indep(5,6,s8y1)\n",
      "\n",
      "<block>:1:20-37: info: atom does not occur in any rule head:\n",
      "  ext_dep(3,6,s8y1)\n",
      "\n",
      "<block>:1:22-41: info: atom does not occur in any rule head:\n",
      "  ext_dep(5,6,s8y1y3)\n",
      "\n",
      "<block>:1:18-37: info: atom does not occur in any rule head:\n",
      "  ext_indep(5,6,s8y1)\n",
      "\n",
      "<block>:1:20-37: info: atom does not occur in any rule head:\n",
      "  ext_dep(1,6,s8y3)\n",
      "\n",
      "<block>:1:22-41: info: atom does not occur in any rule head:\n",
      "  ext_dep(5,6,s8y1y3)\n",
      "\n"
     ]
    },
    {
     "name": "stderr",
     "output_type": "stream",
     "text": [
      "<block>:1:18-37: info: atom does not occur in any rule head:\n",
      "  ext_indep(5,6,s8y1)\n",
      "\n",
      "<block>:1:20-37: info: atom does not occur in any rule head:\n",
      "  ext_dep(3,6,s8y1)\n",
      "\n",
      "<block>:1:22-41: info: atom does not occur in any rule head:\n",
      "  ext_dep(5,6,s8y1y3)\n",
      "\n",
      "<block>:1:18-37: info: atom does not occur in any rule head:\n",
      "  ext_indep(5,6,s8y1)\n",
      "\n",
      "<block>:1:20-37: info: atom does not occur in any rule head:\n",
      "  ext_dep(3,6,s8y1)\n",
      "\n",
      "<block>:1:22-41: info: atom does not occur in any rule head:\n",
      "  ext_dep(5,6,s8y1y3)\n",
      "\n"
     ]
    },
    {
     "name": "stderr",
     "output_type": "stream",
     "text": [
      "<block>:1:18-37: info: atom does not occur in any rule head:\n",
      "  ext_indep(5,6,s8y1)\n",
      "\n",
      "<block>:1:20-37: info: atom does not occur in any rule head:\n",
      "  ext_dep(5,6,s8y3)\n",
      "\n",
      "<block>:1:22-41: info: atom does not occur in any rule head:\n",
      "  ext_dep(5,6,s8y1y3)\n",
      "\n"
     ]
    },
    {
     "name": "stderr",
     "output_type": "stream",
     "text": [
      "<block>:1:18-37: info: atom does not occur in any rule head:\n",
      "  ext_indep(5,6,s8y1)\n",
      "\n",
      "<block>:1:20-37: info: atom does not occur in any rule head:\n",
      "  ext_dep(3,6,s8y1)\n",
      "\n",
      "<block>:1:22-41: info: atom does not occur in any rule head:\n",
      "  ext_dep(5,6,s8y1y3)\n",
      "\n"
     ]
    },
    {
     "name": "stderr",
     "output_type": "stream",
     "text": [
      "<block>:1:18-37: info: atom does not occur in any rule head:\n",
      "  ext_indep(5,6,s8y1)\n",
      "\n",
      "<block>:1:20-37: info: atom does not occur in any rule head:\n",
      "  ext_dep(3,6,s8y1)\n",
      "\n",
      "<block>:1:22-41: info: atom does not occur in any rule head:\n",
      "  ext_dep(5,6,s8y1y3)\n",
      "\n",
      "<block>:1:18-37: info: atom does not occur in any rule head:\n",
      "  ext_indep(5,6,s8y1)\n",
      "\n",
      "<block>:1:20-37: info: atom does not occur in any rule head:\n",
      "  ext_dep(3,6,s8y1)\n",
      "\n",
      "<block>:1:22-41: info: atom does not occur in any rule head:\n",
      "  ext_dep(5,6,s8y1y3)\n",
      "\n",
      "<block>:1:18-37: info: atom does not occur in any rule head:\n",
      "  ext_indep(5,6,s8y1)\n",
      "\n",
      "<block>:1:20-37: info: atom does not occur in any rule head:\n",
      "  ext_dep(3,6,s8y1)\n",
      "\n",
      "<block>:1:22-41: info: atom does not occur in any rule head:\n",
      "  ext_dep(5,6,s8y1y3)\n",
      "\n"
     ]
    },
    {
     "name": "stderr",
     "output_type": "stream",
     "text": [
      "<block>:1:18-37: info: atom does not occur in any rule head:\n",
      "  ext_indep(5,6,s8y1)\n",
      "\n",
      "<block>:1:20-37: info: atom does not occur in any rule head:\n",
      "  ext_dep(3,6,s8y1)\n",
      "\n",
      "<block>:1:22-41: info: atom does not occur in any rule head:\n",
      "  ext_dep(5,6,s8y1y3)\n",
      "\n",
      "<block>:1:18-37: info: atom does not occur in any rule head:\n",
      "  ext_indep(5,6,s8y1)\n",
      "\n",
      "<block>:1:20-37: info: atom does not occur in any rule head:\n",
      "  ext_dep(3,6,s8y1)\n",
      "\n",
      "<block>:1:22-41: info: atom does not occur in any rule head:\n",
      "  ext_dep(5,6,s8y1y3)\n",
      "\n"
     ]
    },
    {
     "name": "stderr",
     "output_type": "stream",
     "text": [
      "<block>:1:18-37: info: atom does not occur in any rule head:\n",
      "  ext_indep(5,6,s8y1)\n",
      "\n",
      "<block>:1:20-37: info: atom does not occur in any rule head:\n",
      "  ext_dep(1,6,s8y3)\n",
      "\n",
      "<block>:1:22-41: info: atom does not occur in any rule head:\n",
      "  ext_dep(5,6,s8y1y3)\n",
      "\n",
      "<block>:1:18-37: info: atom does not occur in any rule head:\n",
      "  ext_indep(5,6,s8y1)\n",
      "\n",
      "<block>:1:20-37: info: atom does not occur in any rule head:\n",
      "  ext_dep(1,6,s8y3)\n",
      "\n",
      "<block>:1:22-41: info: atom does not occur in any rule head:\n",
      "  ext_dep(5,6,s8y1y3)\n",
      "\n"
     ]
    },
    {
     "name": "stderr",
     "output_type": "stream",
     "text": [
      "<block>:1:18-37: info: atom does not occur in any rule head:\n",
      "  ext_indep(5,6,s8y1)\n",
      "\n",
      "<block>:1:20-37: info: atom does not occur in any rule head:\n",
      "  ext_dep(1,6,s8y3)\n",
      "\n",
      "<block>:1:22-41: info: atom does not occur in any rule head:\n",
      "  ext_dep(5,6,s8y1y3)\n",
      "\n",
      "<block>:1:20-37: info: atom does not occur in any rule head:\n",
      "  ext_dep(1,6,s8y3)\n",
      "\n",
      "<block>:1:22-41: info: atom does not occur in any rule head:\n",
      "  ext_dep(5,6,s8y1y3)\n",
      "\n"
     ]
    },
    {
     "name": "stderr",
     "output_type": "stream",
     "text": [
      "<block>:1:20-37: info: atom does not occur in any rule head:\n",
      "  ext_dep(1,6,s8y3)\n",
      "\n",
      "<block>:1:22-41: info: atom does not occur in any rule head:\n",
      "  ext_dep(5,6,s8y1y3)\n",
      "\n"
     ]
    },
    {
     "name": "stderr",
     "output_type": "stream",
     "text": [
      "<block>:1:20-37: info: atom does not occur in any rule head:\n",
      "  ext_dep(1,6,s8y3)\n",
      "\n",
      "<block>:1:22-41: info: atom does not occur in any rule head:\n",
      "  ext_dep(5,6,s8y1y3)\n",
      "\n"
     ]
    },
    {
     "name": "stderr",
     "output_type": "stream",
     "text": [
      "<block>:1:20-37: info: atom does not occur in any rule head:\n",
      "  ext_dep(3,6,s8y1)\n",
      "\n",
      "<block>:1:22-41: info: atom does not occur in any rule head:\n",
      "  ext_dep(5,6,s8y1y3)\n",
      "\n"
     ]
    },
    {
     "name": "stderr",
     "output_type": "stream",
     "text": [
      "<block>:1:20-37: info: atom does not occur in any rule head:\n",
      "  ext_dep(1,6,s8y3)\n",
      "\n",
      "<block>:1:22-41: info: atom does not occur in any rule head:\n",
      "  ext_dep(5,6,s8y1y3)\n",
      "\n"
     ]
    },
    {
     "name": "stderr",
     "output_type": "stream",
     "text": [
      "<block>:1:20-37: info: atom does not occur in any rule head:\n",
      "  ext_dep(1,6,s8y3)\n",
      "\n",
      "<block>:1:22-41: info: atom does not occur in any rule head:\n",
      "  ext_dep(5,6,s8y1y3)\n",
      "\n"
     ]
    },
    {
     "name": "stderr",
     "output_type": "stream",
     "text": [
      "<block>:1:20-37: info: atom does not occur in any rule head:\n",
      "  ext_dep(1,6,s8y3)\n",
      "\n",
      "<block>:1:22-41: info: atom does not occur in any rule head:\n",
      "  ext_dep(5,6,s8y1y3)\n",
      "\n"
     ]
    },
    {
     "name": "stderr",
     "output_type": "stream",
     "text": [
      "<block>:1:20-37: info: atom does not occur in any rule head:\n",
      "  ext_dep(1,6,s8y3)\n",
      "\n",
      "<block>:1:22-41: info: atom does not occur in any rule head:\n",
      "  ext_dep(5,6,s8y1y3)\n",
      "\n"
     ]
    },
    {
     "name": "stderr",
     "output_type": "stream",
     "text": [
      "<block>:1:20-37: info: atom does not occur in any rule head:\n",
      "  ext_dep(1,6,s8y3)\n",
      "\n",
      "<block>:1:22-41: info: atom does not occur in any rule head:\n",
      "  ext_dep(5,6,s8y1y3)\n",
      "\n"
     ]
    },
    {
     "name": "stderr",
     "output_type": "stream",
     "text": [
      "<block>:1:20-37: info: atom does not occur in any rule head:\n",
      "  ext_dep(1,6,s8y3)\n",
      "\n",
      "<block>:1:22-41: info: atom does not occur in any rule head:\n",
      "  ext_dep(5,6,s8y1y3)\n",
      "\n"
     ]
    },
    {
     "name": "stderr",
     "output_type": "stream",
     "text": [
      "<block>:1:18-37: info: atom does not occur in any rule head:\n",
      "  ext_indep(5,6,s8y1)\n",
      "\n",
      "<block>:1:20-37: info: atom does not occur in any rule head:\n",
      "  ext_dep(3,6,s8y1)\n",
      "\n",
      "<block>:1:22-41: info: atom does not occur in any rule head:\n",
      "  ext_dep(5,6,s8y1y3)\n",
      "\n",
      "<block>:1:18-37: info: atom does not occur in any rule head:\n",
      "  ext_indep(5,6,s8y1)\n",
      "\n",
      "<block>:1:20-37: info: atom does not occur in any rule head:\n",
      "  ext_dep(3,6,s8y1)\n",
      "\n",
      "<block>:1:22-41: info: atom does not occur in any rule head:\n",
      "  ext_dep(5,6,s8y1y3)\n",
      "\n",
      "<block>:1:18-37: info: atom does not occur in any rule head:\n",
      "  ext_indep(5,6,s8y1)\n",
      "\n",
      "<block>:1:20-37: info: atom does not occur in any rule head:\n",
      "  ext_dep(3,6,s8y1)\n",
      "\n",
      "<block>:1:22-41: info: atom does not occur in any rule head:\n",
      "  ext_dep(5,6,s8y1y3)\n",
      "\n"
     ]
    },
    {
     "name": "stderr",
     "output_type": "stream",
     "text": [
      "<block>:1:18-37: info: atom does not occur in any rule head:\n",
      "  ext_indep(5,6,s8y1)\n",
      "\n",
      "<block>:1:20-37: info: atom does not occur in any rule head:\n",
      "  ext_dep(3,6,s8y1)\n",
      "\n",
      "<block>:1:22-41: info: atom does not occur in any rule head:\n",
      "  ext_dep(5,6,s8y1y3)\n",
      "\n",
      "<block>:1:18-37: info: atom does not occur in any rule head:\n",
      "  ext_indep(5,6,s8y1)\n",
      "\n",
      "<block>:1:20-37: info: atom does not occur in any rule head:\n",
      "  ext_dep(1,6,s8y3)\n",
      "\n",
      "<block>:1:22-41: info: atom does not occur in any rule head:\n",
      "  ext_dep(5,6,s8y1y3)\n",
      "\n"
     ]
    },
    {
     "name": "stderr",
     "output_type": "stream",
     "text": [
      "<block>:1:18-37: info: atom does not occur in any rule head:\n",
      "  ext_indep(5,6,s8y1)\n",
      "\n",
      "<block>:1:20-37: info: atom does not occur in any rule head:\n",
      "  ext_dep(1,6,s8y3)\n",
      "\n",
      "<block>:1:22-41: info: atom does not occur in any rule head:\n",
      "  ext_dep(5,6,s8y1y3)\n",
      "\n",
      "<block>:1:18-37: info: atom does not occur in any rule head:\n",
      "  ext_indep(5,6,s8y1)\n",
      "\n",
      "<block>:1:20-37: info: atom does not occur in any rule head:\n",
      "  ext_dep(3,6,s8y1)\n",
      "\n",
      "<block>:1:22-41: info: atom does not occur in any rule head:\n",
      "  ext_dep(5,6,s8y1y3)\n",
      "\n"
     ]
    },
    {
     "name": "stderr",
     "output_type": "stream",
     "text": [
      "<block>:1:18-37: info: atom does not occur in any rule head:\n",
      "  ext_indep(5,6,s8y1)\n",
      "\n",
      "<block>:1:20-37: info: atom does not occur in any rule head:\n",
      "  ext_dep(5,6,s8y3)\n",
      "\n",
      "<block>:1:22-41: info: atom does not occur in any rule head:\n",
      "  ext_dep(5,6,s8y1y3)\n",
      "\n"
     ]
    },
    {
     "name": "stderr",
     "output_type": "stream",
     "text": [
      "<block>:1:20-37: info: atom does not occur in any rule head:\n",
      "  ext_dep(3,6,s8y1)\n",
      "\n",
      "<block>:1:22-41: info: atom does not occur in any rule head:\n",
      "  ext_dep(5,6,s8y1y3)\n",
      "\n"
     ]
    },
    {
     "name": "stderr",
     "output_type": "stream",
     "text": [
      "<block>:1:20-37: info: atom does not occur in any rule head:\n",
      "  ext_dep(1,6,s8y3)\n",
      "\n",
      "<block>:1:22-41: info: atom does not occur in any rule head:\n",
      "  ext_dep(5,6,s8y1y3)\n",
      "\n"
     ]
    },
    {
     "name": "stderr",
     "output_type": "stream",
     "text": [
      "<block>:1:20-37: info: atom does not occur in any rule head:\n",
      "  ext_dep(1,6,s8y3)\n",
      "\n",
      "<block>:1:22-41: info: atom does not occur in any rule head:\n",
      "  ext_dep(5,6,s8y1y3)\n",
      "\n"
     ]
    },
    {
     "name": "stderr",
     "output_type": "stream",
     "text": [
      "<block>:1:20-37: info: atom does not occur in any rule head:\n",
      "  ext_dep(3,6,s8y1)\n",
      "\n",
      "<block>:1:22-41: info: atom does not occur in any rule head:\n",
      "  ext_dep(5,6,s8y1y3)\n",
      "\n"
     ]
    },
    {
     "name": "stderr",
     "output_type": "stream",
     "text": [
      "<block>:1:20-37: info: atom does not occur in any rule head:\n",
      "  ext_dep(1,6,s8y3)\n",
      "\n",
      "<block>:1:22-41: info: atom does not occur in any rule head:\n",
      "  ext_dep(5,6,s8y1y3)\n",
      "\n"
     ]
    },
    {
     "name": "stderr",
     "output_type": "stream",
     "text": [
      "<block>:1:20-37: info: atom does not occur in any rule head:\n",
      "  ext_dep(1,6,s8y3)\n",
      "\n",
      "<block>:1:22-41: info: atom does not occur in any rule head:\n",
      "  ext_dep(5,6,s8y1y3)\n",
      "\n"
     ]
    },
    {
     "name": "stderr",
     "output_type": "stream",
     "text": [
      "<block>:1:20-37: info: atom does not occur in any rule head:\n",
      "  ext_dep(1,6,s8y3)\n",
      "\n",
      "<block>:1:22-41: info: atom does not occur in any rule head:\n",
      "  ext_dep(5,6,s8y1y3)\n",
      "\n"
     ]
    },
    {
     "name": "stderr",
     "output_type": "stream",
     "text": [
      "<block>:1:20-37: info: atom does not occur in any rule head:\n",
      "  ext_dep(1,6,s8y3)\n",
      "\n",
      "<block>:1:22-41: info: atom does not occur in any rule head:\n",
      "  ext_dep(5,6,s8y1y3)\n",
      "\n"
     ]
    },
    {
     "name": "stderr",
     "output_type": "stream",
     "text": [
      "<block>:1:20-37: info: atom does not occur in any rule head:\n",
      "  ext_dep(1,6,s8y3)\n",
      "\n",
      "<block>:1:22-41: info: atom does not occur in any rule head:\n",
      "  ext_dep(5,6,s8y1y3)\n",
      "\n"
     ]
    },
    {
     "name": "stderr",
     "output_type": "stream",
     "text": [
      "<block>:1:20-37: info: atom does not occur in any rule head:\n",
      "  ext_dep(1,6,s8y3)\n",
      "\n",
      "<block>:1:22-41: info: atom does not occur in any rule head:\n",
      "  ext_dep(5,6,s8y1y3)\n",
      "\n"
     ]
    },
    {
     "name": "stderr",
     "output_type": "stream",
     "text": [
      "<block>:1:18-37: info: atom does not occur in any rule head:\n",
      "  ext_indep(5,6,s8y1)\n",
      "\n",
      "<block>:1:20-37: info: atom does not occur in any rule head:\n",
      "  ext_dep(1,6,s8y3)\n",
      "\n",
      "<block>:1:22-41: info: atom does not occur in any rule head:\n",
      "  ext_dep(5,6,s8y1y3)\n",
      "\n",
      "<block>:1:18-37: info: atom does not occur in any rule head:\n",
      "  ext_indep(5,6,s8y1)\n",
      "\n",
      "<block>:1:20-37: info: atom does not occur in any rule head:\n",
      "  ext_dep(1,6,s8y3)\n",
      "\n",
      "<block>:1:22-41: info: atom does not occur in any rule head:\n",
      "  ext_dep(5,6,s8y1y3)\n",
      "\n",
      "<block>:1:18-37: info: atom does not occur in any rule head:\n",
      "  ext_indep(5,6,s8y1)\n",
      "\n",
      "<block>:1:20-37: info: atom does not occur in any rule head:\n",
      "  ext_dep(1,6,s8y3)\n",
      "\n",
      "<block>:1:22-41: info: atom does not occur in any rule head:\n",
      "  ext_dep(5,6,s8y1y3)\n",
      "\n"
     ]
    },
    {
     "name": "stderr",
     "output_type": "stream",
     "text": [
      "<block>:1:18-37: info: atom does not occur in any rule head:\n",
      "  ext_indep(5,6,s8y1)\n",
      "\n",
      "<block>:1:20-37: info: atom does not occur in any rule head:\n",
      "  ext_dep(1,6,s8y3)\n",
      "\n",
      "<block>:1:22-41: info: atom does not occur in any rule head:\n",
      "  ext_dep(5,6,s8y1y3)\n",
      "\n",
      "<block>:1:18-37: info: atom does not occur in any rule head:\n",
      "  ext_indep(5,6,s8y1)\n",
      "\n",
      "<block>:1:20-37: info: atom does not occur in any rule head:\n",
      "  ext_dep(5,6,s8y3)\n",
      "\n",
      "<block>:1:22-41: info: atom does not occur in any rule head:\n",
      "  ext_dep(5,6,s8y1y3)\n",
      "\n",
      "<block>:1:18-37: info: atom does not occur in any rule head:\n",
      "  ext_indep(5,6,s8y1)\n",
      "\n",
      "<block>:1:20-37: info: atom does not occur in any rule head:\n",
      "  ext_dep(1,6,s8y3)\n",
      "\n",
      "<block>:1:22-41: info: atom does not occur in any rule head:\n",
      "  ext_dep(5,6,s8y1y3)\n",
      "\n"
     ]
    },
    {
     "name": "stderr",
     "output_type": "stream",
     "text": [
      "<block>:1:18-37: info: atom does not occur in any rule head:\n",
      "  ext_indep(5,6,s8y1)\n",
      "\n",
      "<block>:1:20-37: info: atom does not occur in any rule head:\n",
      "  ext_dep(5,6,s8y3)\n",
      "\n",
      "<block>:1:22-41: info: atom does not occur in any rule head:\n",
      "  ext_dep(5,6,s8y1y3)\n",
      "\n",
      "<block>:1:18-37: info: atom does not occur in any rule head:\n",
      "  ext_indep(5,6,s8y1)\n",
      "\n",
      "<block>:1:20-37: info: atom does not occur in any rule head:\n",
      "  ext_dep(5,6,s8y3)\n",
      "\n",
      "<block>:1:22-41: info: atom does not occur in any rule head:\n",
      "  ext_dep(5,6,s8y1y3)\n",
      "\n",
      "<block>:1:18-37: info: atom does not occur in any rule head:\n",
      "  ext_indep(5,6,s8y1)\n",
      "\n",
      "<block>:1:20-37: info: atom does not occur in any rule head:\n",
      "  ext_dep(3,6,s8y1)\n",
      "\n",
      "<block>:1:22-41: info: atom does not occur in any rule head:\n",
      "  ext_dep(5,6,s8y1y3)\n",
      "\n"
     ]
    },
    {
     "name": "stderr",
     "output_type": "stream",
     "text": [
      "<block>:1:18-37: info: atom does not occur in any rule head:\n",
      "  ext_indep(5,6,s8y1)\n",
      "\n",
      "<block>:1:20-37: info: atom does not occur in any rule head:\n",
      "  ext_dep(1,6,s8y3)\n",
      "\n",
      "<block>:1:22-41: info: atom does not occur in any rule head:\n",
      "  ext_dep(5,6,s8y1y3)\n",
      "\n",
      "<block>:1:18-37: info: atom does not occur in any rule head:\n",
      "  ext_indep(5,6,s8y1)\n",
      "\n",
      "<block>:1:20-37: info: atom does not occur in any rule head:\n",
      "  ext_dep(1,6,s8y3)\n",
      "\n",
      "<block>:1:22-41: info: atom does not occur in any rule head:\n",
      "  ext_dep(5,6,s8y1y3)\n",
      "\n"
     ]
    },
    {
     "name": "stderr",
     "output_type": "stream",
     "text": [
      "<block>:1:18-37: info: atom does not occur in any rule head:\n",
      "  ext_indep(5,6,s8y1)\n",
      "\n",
      "<block>:1:20-37: info: atom does not occur in any rule head:\n",
      "  ext_dep(1,6,s8y3)\n",
      "\n",
      "<block>:1:22-41: info: atom does not occur in any rule head:\n",
      "  ext_dep(5,6,s8y1y3)\n",
      "\n",
      "<block>:1:18-37: info: atom does not occur in any rule head:\n",
      "  ext_indep(5,6,s8y1)\n",
      "\n",
      "<block>:1:20-37: info: atom does not occur in any rule head:\n",
      "  ext_dep(1,6,s8y3)\n",
      "\n",
      "<block>:1:22-41: info: atom does not occur in any rule head:\n",
      "  ext_dep(5,6,s8y1y3)\n",
      "\n"
     ]
    },
    {
     "name": "stderr",
     "output_type": "stream",
     "text": [
      "<block>:1:20-37: info: atom does not occur in any rule head:\n",
      "  ext_dep(3,6,s8y1)\n",
      "\n",
      "<block>:1:22-41: info: atom does not occur in any rule head:\n",
      "  ext_dep(5,6,s8y1y3)\n",
      "\n"
     ]
    },
    {
     "name": "stderr",
     "output_type": "stream",
     "text": [
      "<block>:1:20-37: info: atom does not occur in any rule head:\n",
      "  ext_dep(5,6,s8y3)\n",
      "\n",
      "<block>:1:22-41: info: atom does not occur in any rule head:\n",
      "  ext_dep(5,6,s8y1y3)\n",
      "\n"
     ]
    },
    {
     "name": "stderr",
     "output_type": "stream",
     "text": [
      "<block>:1:20-37: info: atom does not occur in any rule head:\n",
      "  ext_dep(1,6,s8y3)\n",
      "\n",
      "<block>:1:22-41: info: atom does not occur in any rule head:\n",
      "  ext_dep(5,6,s8y1y3)\n",
      "\n"
     ]
    },
    {
     "name": "stderr",
     "output_type": "stream",
     "text": [
      "<block>:1:20-37: info: atom does not occur in any rule head:\n",
      "  ext_dep(3,6,s8y1)\n",
      "\n",
      "<block>:1:22-41: info: atom does not occur in any rule head:\n",
      "  ext_dep(5,6,s8y1y3)\n",
      "\n"
     ]
    },
    {
     "name": "stderr",
     "output_type": "stream",
     "text": [
      "<block>:1:20-37: info: atom does not occur in any rule head:\n",
      "  ext_dep(3,6,s8y1)\n",
      "\n",
      "<block>:1:22-41: info: atom does not occur in any rule head:\n",
      "  ext_dep(5,6,s8y1y3)\n",
      "\n"
     ]
    },
    {
     "name": "stderr",
     "output_type": "stream",
     "text": [
      "<block>:1:20-37: info: atom does not occur in any rule head:\n",
      "  ext_dep(5,6,s8y3)\n",
      "\n",
      "<block>:1:22-41: info: atom does not occur in any rule head:\n",
      "  ext_dep(5,6,s8y1y3)\n",
      "\n"
     ]
    },
    {
     "name": "stderr",
     "output_type": "stream",
     "text": [
      "<block>:1:18-37: info: atom does not occur in any rule head:\n",
      "  ext_indep(5,6,s8y1)\n",
      "\n",
      "<block>:1:20-37: info: atom does not occur in any rule head:\n",
      "  ext_dep(5,6,s8y3)\n",
      "\n",
      "<block>:1:22-41: info: atom does not occur in any rule head:\n",
      "  ext_dep(5,6,s8y1y3)\n",
      "\n",
      "<block>:1:18-37: info: atom does not occur in any rule head:\n",
      "  ext_indep(5,6,s8y1)\n",
      "\n",
      "<block>:1:20-37: info: atom does not occur in any rule head:\n",
      "  ext_dep(5,6,s8y3)\n",
      "\n",
      "<block>:1:22-41: info: atom does not occur in any rule head:\n",
      "  ext_dep(5,6,s8y1y3)\n",
      "\n",
      "<block>:1:18-37: info: atom does not occur in any rule head:\n",
      "  ext_indep(5,6,s8y1)\n",
      "\n",
      "<block>:1:20-37: info: atom does not occur in any rule head:\n",
      "  ext_dep(3,6,s8y1)\n",
      "\n",
      "<block>:1:22-41: info: atom does not occur in any rule head:\n",
      "  ext_dep(5,6,s8y1y3)\n",
      "\n"
     ]
    },
    {
     "name": "stderr",
     "output_type": "stream",
     "text": [
      "<block>:1:18-37: info: atom does not occur in any rule head:\n",
      "  ext_indep(5,6,s8y1)\n",
      "\n",
      "<block>:1:20-37: info: atom does not occur in any rule head:\n",
      "  ext_dep(1,6,s8y3)\n",
      "\n",
      "<block>:1:22-41: info: atom does not occur in any rule head:\n",
      "  ext_dep(5,6,s8y1y3)\n",
      "\n",
      "<block>:1:18-37: info: atom does not occur in any rule head:\n",
      "  ext_indep(5,6,s8y1)\n",
      "\n",
      "<block>:1:20-37: info: atom does not occur in any rule head:\n",
      "  ext_dep(1,6,s8y3)\n",
      "\n",
      "<block>:1:22-41: info: atom does not occur in any rule head:\n",
      "  ext_dep(5,6,s8y1y3)\n",
      "\n"
     ]
    },
    {
     "name": "stderr",
     "output_type": "stream",
     "text": [
      "<block>:1:18-37: info: atom does not occur in any rule head:\n",
      "  ext_indep(5,6,s8y1)\n",
      "\n",
      "<block>:1:20-37: info: atom does not occur in any rule head:\n",
      "  ext_dep(1,6,s8y3)\n",
      "\n",
      "<block>:1:22-41: info: atom does not occur in any rule head:\n",
      "  ext_dep(5,6,s8y1y3)\n",
      "\n"
     ]
    },
    {
     "name": "stderr",
     "output_type": "stream",
     "text": [
      "<block>:1:18-37: info: atom does not occur in any rule head:\n",
      "  ext_indep(5,6,s8y1)\n",
      "\n",
      "<block>:1:20-37: info: atom does not occur in any rule head:\n",
      "  ext_dep(1,6,s8y3)\n",
      "\n",
      "<block>:1:22-41: info: atom does not occur in any rule head:\n",
      "  ext_dep(5,6,s8y1y3)\n",
      "\n"
     ]
    },
    {
     "name": "stderr",
     "output_type": "stream",
     "text": [
      "<block>:1:20-37: info: atom does not occur in any rule head:\n",
      "  ext_dep(5,6,s8y3)\n",
      "\n",
      "<block>:1:22-41: info: atom does not occur in any rule head:\n",
      "  ext_dep(5,6,s8y1y3)\n",
      "\n"
     ]
    },
    {
     "name": "stderr",
     "output_type": "stream",
     "text": [
      "<block>:1:20-37: info: atom does not occur in any rule head:\n",
      "  ext_dep(3,6,s8y1)\n",
      "\n",
      "<block>:1:22-41: info: atom does not occur in any rule head:\n",
      "  ext_dep(5,6,s8y1y3)\n",
      "\n"
     ]
    },
    {
     "name": "stderr",
     "output_type": "stream",
     "text": [
      "<block>:1:20-37: info: atom does not occur in any rule head:\n",
      "  ext_dep(3,6,s8y1)\n",
      "\n",
      "<block>:1:22-41: info: atom does not occur in any rule head:\n",
      "  ext_dep(5,6,s8y1y3)\n",
      "\n"
     ]
    },
    {
     "name": "stderr",
     "output_type": "stream",
     "text": [
      "<block>:1:20-37: info: atom does not occur in any rule head:\n",
      "  ext_dep(5,6,s8y3)\n",
      "\n",
      "<block>:1:22-41: info: atom does not occur in any rule head:\n",
      "  ext_dep(5,6,s8y1y3)\n",
      "\n"
     ]
    },
    {
     "name": "stderr",
     "output_type": "stream",
     "text": [
      "<block>:1:20-37: info: atom does not occur in any rule head:\n",
      "  ext_dep(3,6,s8y1)\n",
      "\n",
      "<block>:1:22-41: info: atom does not occur in any rule head:\n",
      "  ext_dep(5,6,s8y1y3)\n",
      "\n"
     ]
    },
    {
     "name": "stderr",
     "output_type": "stream",
     "text": [
      "<block>:1:20-37: info: atom does not occur in any rule head:\n",
      "  ext_dep(1,6,s8y3)\n",
      "\n",
      "<block>:1:22-41: info: atom does not occur in any rule head:\n",
      "  ext_dep(5,6,s8y1y3)\n",
      "\n"
     ]
    },
    {
     "name": "stderr",
     "output_type": "stream",
     "text": [
      "<block>:1:18-37: info: atom does not occur in any rule head:\n",
      "  ext_indep(5,6,s8y1)\n",
      "\n",
      "<block>:1:20-37: info: atom does not occur in any rule head:\n",
      "  ext_dep(3,6,s8y1)\n",
      "\n",
      "<block>:1:22-41: info: atom does not occur in any rule head:\n",
      "  ext_dep(5,6,s8y1y3)\n",
      "\n",
      "<block>:1:20-37: info: atom does not occur in any rule head:\n",
      "  ext_dep(3,6,s8y1)\n",
      "\n",
      "<block>:1:22-41: info: atom does not occur in any rule head:\n",
      "  ext_dep(5,6,s8y1y3)\n",
      "\n",
      "<block>:1:20-37: info: atom does not occur in any rule head:\n",
      "  ext_dep(5,6,s8y3)\n",
      "\n",
      "<block>:1:22-41: info: atom does not occur in any rule head:\n",
      "  ext_dep(5,6,s8y1y3)\n",
      "\n"
     ]
    },
    {
     "name": "stderr",
     "output_type": "stream",
     "text": [
      "<block>:1:20-37: info: atom does not occur in any rule head:\n",
      "  ext_dep(5,6,s8y3)\n",
      "\n",
      "<block>:1:22-41: info: atom does not occur in any rule head:\n",
      "  ext_dep(5,6,s8y1y3)\n",
      "\n",
      "<block>:1:20-37: info: atom does not occur in any rule head:\n",
      "  ext_dep(5,6,s8y3)\n",
      "\n",
      "<block>:1:22-41: info: atom does not occur in any rule head:\n",
      "  ext_dep(5,6,s8y1y3)\n",
      "\n"
     ]
    },
    {
     "name": "stderr",
     "output_type": "stream",
     "text": [
      "<block>:1:18-37: info: atom does not occur in any rule head:\n",
      "  ext_indep(5,6,s8y1)\n",
      "\n",
      "<block>:1:20-37: info: atom does not occur in any rule head:\n",
      "  ext_dep(3,6,s8y1)\n",
      "\n",
      "<block>:1:22-41: info: atom does not occur in any rule head:\n",
      "  ext_dep(5,6,s8y1y3)\n",
      "\n",
      "<block>:1:20-37: info: atom does not occur in any rule head:\n",
      "  ext_dep(3,6,s8y1)\n",
      "\n",
      "<block>:1:22-41: info: atom does not occur in any rule head:\n",
      "  ext_dep(5,6,s8y1y3)\n",
      "\n",
      "<block>:1:20-37: info: atom does not occur in any rule head:\n",
      "  ext_dep(1,6,s8y3)\n",
      "\n",
      "<block>:1:22-41: info: atom does not occur in any rule head:\n",
      "  ext_dep(5,6,s8y1y3)\n",
      "\n"
     ]
    },
    {
     "name": "stderr",
     "output_type": "stream",
     "text": [
      "<block>:1:20-37: info: atom does not occur in any rule head:\n",
      "  ext_dep(5,6,s8y3)\n",
      "\n",
      "<block>:1:22-41: info: atom does not occur in any rule head:\n",
      "  ext_dep(5,6,s8y1y3)\n",
      "\n",
      "<block>:1:20-37: info: atom does not occur in any rule head:\n",
      "  ext_dep(1,6,s8y3)\n",
      "\n",
      "<block>:1:22-41: info: atom does not occur in any rule head:\n",
      "  ext_dep(5,6,s8y1y3)\n",
      "\n"
     ]
    },
    {
     "name": "stderr",
     "output_type": "stream",
     "text": [
      "<block>:1:18-37: info: atom does not occur in any rule head:\n",
      "  ext_indep(5,6,s8y1)\n",
      "\n",
      "<block>:1:20-37: info: atom does not occur in any rule head:\n",
      "  ext_dep(3,6,s8y1)\n",
      "\n",
      "<block>:1:22-41: info: atom does not occur in any rule head:\n",
      "  ext_dep(5,6,s8y1y3)\n",
      "\n",
      "<block>:1:18-37: info: atom does not occur in any rule head:\n",
      "  ext_indep(5,6,s8y1)\n",
      "\n",
      "<block>:1:20-37: info: atom does not occur in any rule head:\n",
      "  ext_dep(3,6,s8y1)\n",
      "\n",
      "<block>:1:22-41: info: atom does not occur in any rule head:\n",
      "  ext_dep(5,6,s8y1y3)\n",
      "\n",
      "<block>:1:18-37: info: atom does not occur in any rule head:\n",
      "  ext_indep(5,6,s8y1)\n",
      "\n",
      "<block>:1:20-37: info: atom does not occur in any rule head:\n",
      "  ext_dep(3,6,s8y1)\n",
      "\n",
      "<block>:1:22-41: info: atom does not occur in any rule head:\n",
      "  ext_dep(5,6,s8y1y3)\n",
      "\n"
     ]
    },
    {
     "name": "stderr",
     "output_type": "stream",
     "text": [
      "<block>:1:18-37: info: atom does not occur in any rule head:\n",
      "  ext_indep(5,6,s8y1)\n",
      "\n",
      "<block>:1:20-37: info: atom does not occur in any rule head:\n",
      "  ext_dep(5,6,s8y3)\n",
      "\n",
      "<block>:1:22-41: info: atom does not occur in any rule head:\n",
      "  ext_dep(5,6,s8y1y3)\n",
      "\n",
      "<block>:1:18-37: info: atom does not occur in any rule head:\n",
      "  ext_indep(5,6,s8y1)\n",
      "\n",
      "<block>:1:20-37: info: atom does not occur in any rule head:\n",
      "  ext_dep(5,6,s8y3)\n",
      "\n",
      "<block>:1:22-41: info: atom does not occur in any rule head:\n",
      "  ext_dep(5,6,s8y1y3)\n",
      "\n"
     ]
    },
    {
     "name": "stderr",
     "output_type": "stream",
     "text": [
      "<block>:1:18-37: info: atom does not occur in any rule head:\n",
      "  ext_indep(5,6,s8y1)\n",
      "\n",
      "<block>:1:20-37: info: atom does not occur in any rule head:\n",
      "  ext_dep(1,6,s8y3)\n",
      "\n",
      "<block>:1:22-41: info: atom does not occur in any rule head:\n",
      "  ext_dep(5,6,s8y1y3)\n",
      "\n"
     ]
    },
    {
     "name": "stderr",
     "output_type": "stream",
     "text": [
      "<block>:1:18-37: info: atom does not occur in any rule head:\n",
      "  ext_indep(5,6,s8y1)\n",
      "\n",
      "<block>:1:20-37: info: atom does not occur in any rule head:\n",
      "  ext_dep(1,6,s8y3)\n",
      "\n",
      "<block>:1:22-41: info: atom does not occur in any rule head:\n",
      "  ext_dep(5,6,s8y1y3)\n",
      "\n"
     ]
    },
    {
     "name": "stderr",
     "output_type": "stream",
     "text": [
      "<block>:1:18-37: info: atom does not occur in any rule head:\n",
      "  ext_indep(5,6,s8y1)\n",
      "\n",
      "<block>:1:20-37: info: atom does not occur in any rule head:\n",
      "  ext_dep(5,6,s8y3)\n",
      "\n",
      "<block>:1:22-41: info: atom does not occur in any rule head:\n",
      "  ext_dep(5,6,s8y1y3)\n",
      "\n"
     ]
    },
    {
     "name": "stderr",
     "output_type": "stream",
     "text": [
      "<block>:1:18-37: info: atom does not occur in any rule head:\n",
      "  ext_indep(1,3,s8y6)\n",
      "\n",
      "<block>:1:20-37: info: atom does not occur in any rule head:\n",
      "  ext_dep(1,6,s8y3)\n",
      "\n",
      "<block>:1:22-41: info: atom does not occur in any rule head:\n",
      "  ext_dep(5,6,s8y1y3)\n",
      "\n"
     ]
    },
    {
     "name": "stderr",
     "output_type": "stream",
     "text": [
      "<block>:1:18-37: info: atom does not occur in any rule head:\n",
      "  ext_indep(5,6,s8y1)\n",
      "\n",
      "<block>:1:20-37: info: atom does not occur in any rule head:\n",
      "  ext_dep(1,6,s8y3)\n",
      "\n",
      "<block>:1:22-41: info: atom does not occur in any rule head:\n",
      "  ext_dep(5,6,s8y1y3)\n",
      "\n"
     ]
    },
    {
     "name": "stderr",
     "output_type": "stream",
     "text": [
      "<block>:1:18-37: info: atom does not occur in any rule head:\n",
      "  ext_indep(5,6,s8y1)\n",
      "\n",
      "<block>:1:20-37: info: atom does not occur in any rule head:\n",
      "  ext_dep(1,6,s8y3)\n",
      "\n",
      "<block>:1:22-41: info: atom does not occur in any rule head:\n",
      "  ext_dep(5,6,s8y1y3)\n",
      "\n"
     ]
    },
    {
     "name": "stderr",
     "output_type": "stream",
     "text": [
      "<block>:1:18-37: info: atom does not occur in any rule head:\n",
      "  ext_indep(5,6,s8y1)\n",
      "\n",
      "<block>:1:20-37: info: atom does not occur in any rule head:\n",
      "  ext_dep(1,6,s8y3)\n",
      "\n",
      "<block>:1:22-41: info: atom does not occur in any rule head:\n",
      "  ext_dep(5,6,s8y1y3)\n",
      "\n"
     ]
    },
    {
     "name": "stderr",
     "output_type": "stream",
     "text": [
      "<block>:1:20-37: info: atom does not occur in any rule head:\n",
      "  ext_dep(1,6,s8y3)\n",
      "\n",
      "<block>:1:22-41: info: atom does not occur in any rule head:\n",
      "  ext_dep(5,6,s8y1y3)\n",
      "\n"
     ]
    },
    {
     "name": "stderr",
     "output_type": "stream",
     "text": [
      "<block>:1:20-37: info: atom does not occur in any rule head:\n",
      "  ext_dep(1,6,s8y3)\n",
      "\n",
      "<block>:1:22-41: info: atom does not occur in any rule head:\n",
      "  ext_dep(5,6,s8y1y3)\n",
      "\n"
     ]
    },
    {
     "name": "stderr",
     "output_type": "stream",
     "text": [
      "<block>:1:20-37: info: atom does not occur in any rule head:\n",
      "  ext_dep(1,6,s8y3)\n",
      "\n",
      "<block>:1:22-41: info: atom does not occur in any rule head:\n",
      "  ext_dep(5,6,s8y1y3)\n",
      "\n"
     ]
    },
    {
     "name": "stderr",
     "output_type": "stream",
     "text": [
      "<block>:1:20-37: info: atom does not occur in any rule head:\n",
      "  ext_dep(3,6,s8y1)\n",
      "\n",
      "<block>:1:22-41: info: atom does not occur in any rule head:\n",
      "  ext_dep(5,6,s8y1y3)\n",
      "\n"
     ]
    },
    {
     "name": "stderr",
     "output_type": "stream",
     "text": [
      "<block>:1:20-37: info: atom does not occur in any rule head:\n",
      "  ext_dep(3,6,s8y1)\n",
      "\n",
      "<block>:1:22-41: info: atom does not occur in any rule head:\n",
      "  ext_dep(5,6,s8y1y3)\n",
      "\n"
     ]
    },
    {
     "name": "stderr",
     "output_type": "stream",
     "text": [
      "<block>:1:20-37: info: atom does not occur in any rule head:\n",
      "  ext_dep(1,6,s8y3)\n",
      "\n",
      "<block>:1:22-41: info: atom does not occur in any rule head:\n",
      "  ext_dep(5,6,s8y1y3)\n",
      "\n"
     ]
    },
    {
     "name": "stderr",
     "output_type": "stream",
     "text": [
      "<block>:1:20-37: info: atom does not occur in any rule head:\n",
      "  ext_dep(1,6,s8y3)\n",
      "\n",
      "<block>:1:22-41: info: atom does not occur in any rule head:\n",
      "  ext_dep(5,6,s8y1y3)\n",
      "\n"
     ]
    },
    {
     "name": "stderr",
     "output_type": "stream",
     "text": [
      "<block>:1:20-37: info: atom does not occur in any rule head:\n",
      "  ext_dep(3,6,s8y1)\n",
      "\n",
      "<block>:1:22-41: info: atom does not occur in any rule head:\n",
      "  ext_dep(5,6,s8y1y3)\n",
      "\n"
     ]
    },
    {
     "name": "stderr",
     "output_type": "stream",
     "text": [
      "<block>:1:20-37: info: atom does not occur in any rule head:\n",
      "  ext_dep(1,6,s8y3)\n",
      "\n",
      "<block>:1:22-41: info: atom does not occur in any rule head:\n",
      "  ext_dep(5,6,s8y1y3)\n",
      "\n"
     ]
    },
    {
     "name": "stderr",
     "output_type": "stream",
     "text": [
      "<block>:1:20-37: info: atom does not occur in any rule head:\n",
      "  ext_dep(1,6,s8y3)\n",
      "\n",
      "<block>:1:22-41: info: atom does not occur in any rule head:\n",
      "  ext_dep(5,6,s8y1y3)\n",
      "\n"
     ]
    },
    {
     "name": "stderr",
     "output_type": "stream",
     "text": [
      "<block>:1:20-37: info: atom does not occur in any rule head:\n",
      "  ext_dep(1,6,s8y3)\n",
      "\n",
      "<block>:1:22-41: info: atom does not occur in any rule head:\n",
      "  ext_dep(5,6,s8y1y3)\n",
      "\n"
     ]
    },
    {
     "name": "stderr",
     "output_type": "stream",
     "text": [
      "<block>:1:18-37: info: atom does not occur in any rule head:\n",
      "  ext_indep(5,6,s8y1)\n",
      "\n",
      "<block>:1:20-37: info: atom does not occur in any rule head:\n",
      "  ext_dep(3,6,s8y1)\n",
      "\n",
      "<block>:1:22-41: info: atom does not occur in any rule head:\n",
      "  ext_dep(5,6,s8y1y3)\n",
      "\n",
      "<block>:1:18-37: info: atom does not occur in any rule head:\n",
      "  ext_indep(5,6,s8y1)\n",
      "\n",
      "<block>:1:20-37: info: atom does not occur in any rule head:\n",
      "  ext_dep(3,6,s8y1)\n",
      "\n",
      "<block>:1:22-41: info: atom does not occur in any rule head:\n",
      "  ext_dep(5,6,s8y1y3)\n",
      "\n",
      "<block>:1:18-37: info: atom does not occur in any rule head:\n",
      "  ext_indep(5,6,s8y1)\n",
      "\n",
      "<block>:1:20-37: info: atom does not occur in any rule head:\n",
      "  ext_dep(3,6,s8y1)\n",
      "\n",
      "<block>:1:22-41: info: atom does not occur in any rule head:\n",
      "  ext_dep(5,6,s8y1y3)\n",
      "\n"
     ]
    },
    {
     "name": "stderr",
     "output_type": "stream",
     "text": [
      "<block>:1:18-37: info: atom does not occur in any rule head:\n",
      "  ext_indep(5,6,s8y1)\n",
      "\n",
      "<block>:1:20-37: info: atom does not occur in any rule head:\n",
      "  ext_dep(5,6,s8y3)\n",
      "\n",
      "<block>:1:22-41: info: atom does not occur in any rule head:\n",
      "  ext_dep(5,6,s8y1y3)\n",
      "\n",
      "<block>:1:18-37: info: atom does not occur in any rule head:\n",
      "  ext_indep(5,6,s8y1)\n",
      "\n",
      "<block>:1:20-37: info: atom does not occur in any rule head:\n",
      "  ext_dep(5,6,s8y3)\n",
      "\n",
      "<block>:1:22-41: info: atom does not occur in any rule head:\n",
      "  ext_dep(5,6,s8y1y3)\n",
      "\n"
     ]
    },
    {
     "name": "stderr",
     "output_type": "stream",
     "text": [
      "<block>:1:18-37: info: atom does not occur in any rule head:\n",
      "  ext_indep(5,6,s8y1)\n",
      "\n",
      "<block>:1:20-37: info: atom does not occur in any rule head:\n",
      "  ext_dep(1,6,s8y3)\n",
      "\n",
      "<block>:1:22-41: info: atom does not occur in any rule head:\n",
      "  ext_dep(5,6,s8y1y3)\n",
      "\n"
     ]
    },
    {
     "name": "stderr",
     "output_type": "stream",
     "text": [
      "<block>:1:18-37: info: atom does not occur in any rule head:\n",
      "  ext_indep(1,3,s8y6)\n",
      "\n",
      "<block>:1:20-37: info: atom does not occur in any rule head:\n",
      "  ext_dep(1,6,s8y3)\n",
      "\n",
      "<block>:1:22-41: info: atom does not occur in any rule head:\n",
      "  ext_dep(5,6,s8y1y3)\n",
      "\n"
     ]
    },
    {
     "name": "stderr",
     "output_type": "stream",
     "text": [
      "<block>:1:18-37: info: atom does not occur in any rule head:\n",
      "  ext_indep(1,3,s8y6)\n",
      "\n",
      "<block>:1:20-37: info: atom does not occur in any rule head:\n",
      "  ext_dep(1,6,s8y3)\n",
      "\n",
      "<block>:1:22-41: info: atom does not occur in any rule head:\n",
      "  ext_dep(5,6,s8y1y3)\n",
      "\n"
     ]
    },
    {
     "name": "stderr",
     "output_type": "stream",
     "text": [
      "<block>:1:18-37: info: atom does not occur in any rule head:\n",
      "  ext_indep(5,6,s8y1)\n",
      "\n",
      "<block>:1:20-37: info: atom does not occur in any rule head:\n",
      "  ext_dep(1,6,s8y3)\n",
      "\n",
      "<block>:1:22-41: info: atom does not occur in any rule head:\n",
      "  ext_dep(5,6,s8y1y3)\n",
      "\n"
     ]
    },
    {
     "name": "stderr",
     "output_type": "stream",
     "text": [
      "<block>:1:18-37: info: atom does not occur in any rule head:\n",
      "  ext_indep(5,6,s8y1)\n",
      "\n",
      "<block>:1:20-37: info: atom does not occur in any rule head:\n",
      "  ext_dep(5,6,s8y3)\n",
      "\n",
      "<block>:1:22-41: info: atom does not occur in any rule head:\n",
      "  ext_dep(5,6,s8y1y3)\n",
      "\n"
     ]
    },
    {
     "name": "stderr",
     "output_type": "stream",
     "text": [
      "<block>:1:18-37: info: atom does not occur in any rule head:\n",
      "  ext_indep(5,6,s8y1)\n",
      "\n",
      "<block>:1:20-37: info: atom does not occur in any rule head:\n",
      "  ext_dep(1,6,s8y3)\n",
      "\n",
      "<block>:1:22-41: info: atom does not occur in any rule head:\n",
      "  ext_dep(5,6,s8y1y3)\n",
      "\n"
     ]
    },
    {
     "name": "stderr",
     "output_type": "stream",
     "text": [
      "<block>:1:18-37: info: atom does not occur in any rule head:\n",
      "  ext_indep(5,6,s8y1)\n",
      "\n",
      "<block>:1:20-37: info: atom does not occur in any rule head:\n",
      "  ext_dep(5,6,s8y3)\n",
      "\n",
      "<block>:1:22-41: info: atom does not occur in any rule head:\n",
      "  ext_dep(5,6,s8y1y3)\n",
      "\n"
     ]
    },
    {
     "name": "stderr",
     "output_type": "stream",
     "text": [
      "<block>:1:20-37: info: atom does not occur in any rule head:\n",
      "  ext_dep(1,6,s8y3)\n",
      "\n",
      "<block>:1:22-41: info: atom does not occur in any rule head:\n",
      "  ext_dep(5,6,s8y1y3)\n",
      "\n"
     ]
    },
    {
     "name": "stderr",
     "output_type": "stream",
     "text": [
      "<block>:1:20-37: info: atom does not occur in any rule head:\n",
      "  ext_dep(1,6,s8y3)\n",
      "\n",
      "<block>:1:22-41: info: atom does not occur in any rule head:\n",
      "  ext_dep(5,6,s8y1y3)\n",
      "\n"
     ]
    },
    {
     "name": "stderr",
     "output_type": "stream",
     "text": [
      "<block>:1:20-37: info: atom does not occur in any rule head:\n",
      "  ext_dep(5,6,s8y3)\n",
      "\n",
      "<block>:1:22-41: info: atom does not occur in any rule head:\n",
      "  ext_dep(5,6,s8y1y3)\n",
      "\n"
     ]
    },
    {
     "name": "stderr",
     "output_type": "stream",
     "text": [
      "<block>:1:20-37: info: atom does not occur in any rule head:\n",
      "  ext_dep(1,6,s8y3)\n",
      "\n",
      "<block>:1:22-41: info: atom does not occur in any rule head:\n",
      "  ext_dep(5,6,s8y1y3)\n",
      "\n"
     ]
    },
    {
     "name": "stderr",
     "output_type": "stream",
     "text": [
      "<block>:1:20-37: info: atom does not occur in any rule head:\n",
      "  ext_dep(3,6,s8y1)\n",
      "\n",
      "<block>:1:22-41: info: atom does not occur in any rule head:\n",
      "  ext_dep(5,6,s8y1y3)\n",
      "\n"
     ]
    },
    {
     "name": "stderr",
     "output_type": "stream",
     "text": [
      "<block>:1:20-37: info: atom does not occur in any rule head:\n",
      "  ext_dep(1,6,s8y3)\n",
      "\n",
      "<block>:1:22-41: info: atom does not occur in any rule head:\n",
      "  ext_dep(5,6,s8y1y3)\n",
      "\n"
     ]
    },
    {
     "name": "stderr",
     "output_type": "stream",
     "text": [
      "<block>:1:20-37: info: atom does not occur in any rule head:\n",
      "  ext_dep(1,6,s8y3)\n",
      "\n",
      "<block>:1:22-41: info: atom does not occur in any rule head:\n",
      "  ext_dep(5,6,s8y1y3)\n",
      "\n"
     ]
    },
    {
     "name": "stderr",
     "output_type": "stream",
     "text": [
      "<block>:1:20-37: info: atom does not occur in any rule head:\n",
      "  ext_dep(3,6,s8y1)\n",
      "\n",
      "<block>:1:22-41: info: atom does not occur in any rule head:\n",
      "  ext_dep(5,6,s8y1y3)\n",
      "\n"
     ]
    },
    {
     "name": "stderr",
     "output_type": "stream",
     "text": [
      "<block>:1:20-37: info: atom does not occur in any rule head:\n",
      "  ext_dep(1,6,s8y3)\n",
      "\n",
      "<block>:1:22-41: info: atom does not occur in any rule head:\n",
      "  ext_dep(5,6,s8y1y3)\n",
      "\n"
     ]
    },
    {
     "name": "stderr",
     "output_type": "stream",
     "text": [
      "<block>:1:20-37: info: atom does not occur in any rule head:\n",
      "  ext_dep(1,6,s8y3)\n",
      "\n",
      "<block>:1:22-41: info: atom does not occur in any rule head:\n",
      "  ext_dep(5,6,s8y1y3)\n",
      "\n"
     ]
    },
    {
     "name": "stderr",
     "output_type": "stream",
     "text": [
      "<block>:1:20-37: info: atom does not occur in any rule head:\n",
      "  ext_dep(3,6,s8y1)\n",
      "\n",
      "<block>:1:22-41: info: atom does not occur in any rule head:\n",
      "  ext_dep(5,6,s8y1y3)\n",
      "\n"
     ]
    },
    {
     "name": "stderr",
     "output_type": "stream",
     "text": [
      "<block>:1:20-37: info: atom does not occur in any rule head:\n",
      "  ext_dep(3,6,s8y1)\n",
      "\n",
      "<block>:1:22-41: info: atom does not occur in any rule head:\n",
      "  ext_dep(5,6,s8y1y3)\n",
      "\n",
      "<block>:1:39-51: info: atom does not occur in any rule head:\n",
      "  ap(5,7,#P0,s4)\n",
      "\n",
      "<block>:1:45-60: info: atom does not occur in any rule head:\n",
      "  ap(5,7,#P0,empty)\n",
      "\n",
      "<block>:1:20-37: info: atom does not occur in any rule head:\n",
      "  ext_dep(3,6,s8y1)\n",
      "\n",
      "<block>:1:22-41: info: atom does not occur in any rule head:\n",
      "  ext_dep(5,6,s8y1y3)\n",
      "\n",
      "<block>:1:39-51: info: atom does not occur in any rule head:\n",
      "  ap(5,7,#P0,s4)\n",
      "\n",
      "<block>:1:45-60: info: atom does not occur in any rule head:\n",
      "  ap(5,7,#P0,empty)\n",
      "\n"
     ]
    },
    {
     "name": "stderr",
     "output_type": "stream",
     "text": [
      "<block>:1:20-37: info: atom does not occur in any rule head:\n",
      "  ext_dep(3,6,s8y1)\n",
      "\n",
      "<block>:1:22-41: info: atom does not occur in any rule head:\n",
      "  ext_dep(5,6,s8y1y3)\n",
      "\n",
      "<block>:1:20-37: info: atom does not occur in any rule head:\n",
      "  ext_dep(1,6,s8y3)\n",
      "\n",
      "<block>:1:22-41: info: atom does not occur in any rule head:\n",
      "  ext_dep(5,6,s8y1y3)\n",
      "\n"
     ]
    },
    {
     "name": "stderr",
     "output_type": "stream",
     "text": [
      "<block>:1:20-37: info: atom does not occur in any rule head:\n",
      "  ext_dep(3,6,s8y1)\n",
      "\n",
      "<block>:1:22-41: info: atom does not occur in any rule head:\n",
      "  ext_dep(5,6,s8y1y3)\n",
      "\n",
      "<block>:1:39-51: info: atom does not occur in any rule head:\n",
      "  ap(5,7,#P0,s4)\n",
      "\n",
      "<block>:1:45-60: info: atom does not occur in any rule head:\n",
      "  ap(5,7,#P0,empty)\n",
      "\n",
      "<block>:1:20-37: info: atom does not occur in any rule head:\n",
      "  ext_dep(3,6,s8y1)\n",
      "\n",
      "<block>:1:22-41: info: atom does not occur in any rule head:\n",
      "  ext_dep(5,6,s8y1y3)\n",
      "\n",
      "<block>:1:39-51: info: atom does not occur in any rule head:\n",
      "  ap(5,7,#P0,s4)\n",
      "\n",
      "<block>:1:45-60: info: atom does not occur in any rule head:\n",
      "  ap(5,7,#P0,empty)\n",
      "\n",
      "<block>:1:20-37: info: atom does not occur in any rule head:\n",
      "  ext_dep(3,6,s8y1)\n",
      "\n",
      "<block>:1:22-41: info: atom does not occur in any rule head:\n",
      "  ext_dep(5,6,s8y1y3)\n",
      "\n"
     ]
    },
    {
     "name": "stderr",
     "output_type": "stream",
     "text": [
      "<block>:1:20-37: info: atom does not occur in any rule head:\n",
      "  ext_dep(5,6,s8y3)\n",
      "\n",
      "<block>:1:22-41: info: atom does not occur in any rule head:\n",
      "  ext_dep(5,6,s8y1y3)\n",
      "\n"
     ]
    },
    {
     "name": "stderr",
     "output_type": "stream",
     "text": [
      "<block>:1:18-37: info: atom does not occur in any rule head:\n",
      "  ext_indep(5,6,s8y1)\n",
      "\n",
      "<block>:1:20-37: info: atom does not occur in any rule head:\n",
      "  ext_dep(3,6,s8y1)\n",
      "\n",
      "<block>:1:22-41: info: atom does not occur in any rule head:\n",
      "  ext_dep(5,6,s8y1y3)\n",
      "\n",
      "<block>:1:39-51: info: atom does not occur in any rule head:\n",
      "  ap(3,7,#P0,s0)\n",
      "\n",
      "<block>:1:45-60: info: atom does not occur in any rule head:\n",
      "  ap(3,7,#P0,empty)\n",
      "\n",
      "<block>:1:18-37: info: atom does not occur in any rule head:\n",
      "  ext_indep(5,6,s8y1)\n",
      "\n",
      "<block>:1:20-37: info: atom does not occur in any rule head:\n",
      "  ext_dep(3,6,s8y1)\n",
      "\n",
      "<block>:1:22-41: info: atom does not occur in any rule head:\n",
      "  ext_dep(5,6,s8y1y3)\n",
      "\n",
      "<block>:1:20-37: info: atom does not occur in any rule head:\n",
      "  ext_dep(3,6,s8y1)\n",
      "\n",
      "<block>:1:22-41: info: atom does not occur in any rule head:\n",
      "  ext_dep(5,6,s8y1y3)\n",
      "\n"
     ]
    },
    {
     "name": "stderr",
     "output_type": "stream",
     "text": [
      "<block>:1:20-37: info: atom does not occur in any rule head:\n",
      "  ext_dep(3,6,s8y1)\n",
      "\n",
      "<block>:1:22-41: info: atom does not occur in any rule head:\n",
      "  ext_dep(5,6,s8y1y3)\n",
      "\n",
      "<block>:1:20-37: info: atom does not occur in any rule head:\n",
      "  ext_dep(3,6,s8y1)\n",
      "\n",
      "<block>:1:22-41: info: atom does not occur in any rule head:\n",
      "  ext_dep(5,6,s8y1y3)\n",
      "\n"
     ]
    },
    {
     "name": "stderr",
     "output_type": "stream",
     "text": [
      "<block>:1:20-37: info: atom does not occur in any rule head:\n",
      "  ext_dep(5,6,s8y3)\n",
      "\n",
      "<block>:1:22-41: info: atom does not occur in any rule head:\n",
      "  ext_dep(5,6,s8y1y3)\n",
      "\n",
      "<block>:1:20-37: info: atom does not occur in any rule head:\n",
      "  ext_dep(5,6,s8y3)\n",
      "\n",
      "<block>:1:22-41: info: atom does not occur in any rule head:\n",
      "  ext_dep(5,6,s8y1y3)\n",
      "\n"
     ]
    },
    {
     "name": "stderr",
     "output_type": "stream",
     "text": [
      "<block>:1:20-37: info: atom does not occur in any rule head:\n",
      "  ext_dep(3,6,s8y1)\n",
      "\n",
      "<block>:1:22-41: info: atom does not occur in any rule head:\n",
      "  ext_dep(5,6,s8y1y3)\n",
      "\n"
     ]
    },
    {
     "name": "stderr",
     "output_type": "stream",
     "text": [
      "<block>:1:20-37: info: atom does not occur in any rule head:\n",
      "  ext_dep(1,6,s8y3)\n",
      "\n",
      "<block>:1:22-41: info: atom does not occur in any rule head:\n",
      "  ext_dep(5,6,s8y1y3)\n",
      "\n"
     ]
    },
    {
     "name": "stderr",
     "output_type": "stream",
     "text": [
      "<block>:1:20-37: info: atom does not occur in any rule head:\n",
      "  ext_dep(1,6,s8y3)\n",
      "\n",
      "<block>:1:22-41: info: atom does not occur in any rule head:\n",
      "  ext_dep(5,6,s8y1y3)\n",
      "\n"
     ]
    },
    {
     "name": "stderr",
     "output_type": "stream",
     "text": [
      "<block>:1:20-37: info: atom does not occur in any rule head:\n",
      "  ext_dep(3,6,s8y1)\n",
      "\n",
      "<block>:1:22-41: info: atom does not occur in any rule head:\n",
      "  ext_dep(5,6,s8y1y3)\n",
      "\n"
     ]
    },
    {
     "name": "stderr",
     "output_type": "stream",
     "text": [
      "<block>:1:20-37: info: atom does not occur in any rule head:\n",
      "  ext_dep(3,6,s8y1)\n",
      "\n",
      "<block>:1:22-41: info: atom does not occur in any rule head:\n",
      "  ext_dep(5,6,s8y1y3)\n",
      "\n"
     ]
    },
    {
     "name": "stderr",
     "output_type": "stream",
     "text": [
      "<block>:1:18-37: info: atom does not occur in any rule head:\n",
      "  ext_indep(5,6,s8y1)\n",
      "\n",
      "<block>:1:20-37: info: atom does not occur in any rule head:\n",
      "  ext_dep(3,6,s8y1)\n",
      "\n",
      "<block>:1:22-41: info: atom does not occur in any rule head:\n",
      "  ext_dep(5,6,s8y1y3)\n",
      "\n",
      "<block>:1:39-51: info: atom does not occur in any rule head:\n",
      "  ap(3,7,#P0,s0)\n",
      "\n",
      "<block>:1:45-60: info: atom does not occur in any rule head:\n",
      "  ap(3,7,#P0,empty)\n",
      "\n",
      "<block>:1:18-37: info: atom does not occur in any rule head:\n",
      "  ext_indep(5,6,s8y1)\n",
      "\n",
      "<block>:1:20-37: info: atom does not occur in any rule head:\n",
      "  ext_dep(3,6,s8y1)\n",
      "\n",
      "<block>:1:22-41: info: atom does not occur in any rule head:\n",
      "  ext_dep(5,6,s8y1y3)\n",
      "\n",
      "<block>:1:20-37: info: atom does not occur in any rule head:\n",
      "  ext_dep(3,6,s8y1)\n",
      "\n",
      "<block>:1:22-41: info: atom does not occur in any rule head:\n",
      "  ext_dep(5,6,s8y1y3)\n",
      "\n"
     ]
    },
    {
     "name": "stderr",
     "output_type": "stream",
     "text": [
      "<block>:1:20-37: info: atom does not occur in any rule head:\n",
      "  ext_dep(3,6,s8y1)\n",
      "\n",
      "<block>:1:22-41: info: atom does not occur in any rule head:\n",
      "  ext_dep(5,6,s8y1y3)\n",
      "\n",
      "<block>:1:20-37: info: atom does not occur in any rule head:\n",
      "  ext_dep(5,6,s8y3)\n",
      "\n",
      "<block>:1:22-41: info: atom does not occur in any rule head:\n",
      "  ext_dep(5,6,s8y1y3)\n",
      "\n"
     ]
    },
    {
     "name": "stderr",
     "output_type": "stream",
     "text": [
      "<block>:1:20-37: info: atom does not occur in any rule head:\n",
      "  ext_dep(3,6,s8y1)\n",
      "\n",
      "<block>:1:22-41: info: atom does not occur in any rule head:\n",
      "  ext_dep(5,6,s8y1y3)\n",
      "\n",
      "<block>:1:20-37: info: atom does not occur in any rule head:\n",
      "  ext_dep(3,6,s8y1)\n",
      "\n",
      "<block>:1:22-41: info: atom does not occur in any rule head:\n",
      "  ext_dep(5,6,s8y1y3)\n",
      "\n"
     ]
    },
    {
     "name": "stderr",
     "output_type": "stream",
     "text": [
      "<block>:1:20-37: info: atom does not occur in any rule head:\n",
      "  ext_dep(1,6,s8y3)\n",
      "\n",
      "<block>:1:22-41: info: atom does not occur in any rule head:\n",
      "  ext_dep(5,6,s8y1y3)\n",
      "\n"
     ]
    },
    {
     "name": "stderr",
     "output_type": "stream",
     "text": [
      "<block>:1:20-37: info: atom does not occur in any rule head:\n",
      "  ext_dep(3,6,s8y1)\n",
      "\n",
      "<block>:1:22-41: info: atom does not occur in any rule head:\n",
      "  ext_dep(5,6,s8y1y3)\n",
      "\n"
     ]
    },
    {
     "name": "stderr",
     "output_type": "stream",
     "text": [
      "<block>:1:20-37: info: atom does not occur in any rule head:\n",
      "  ext_dep(3,6,s8y1)\n",
      "\n",
      "<block>:1:22-41: info: atom does not occur in any rule head:\n",
      "  ext_dep(5,6,s8y1y3)\n",
      "\n"
     ]
    },
    {
     "name": "stderr",
     "output_type": "stream",
     "text": [
      "<block>:1:20-37: info: atom does not occur in any rule head:\n",
      "  ext_dep(3,6,s8y1)\n",
      "\n",
      "<block>:1:22-41: info: atom does not occur in any rule head:\n",
      "  ext_dep(5,6,s8y1y3)\n",
      "\n"
     ]
    },
    {
     "name": "stderr",
     "output_type": "stream",
     "text": [
      "<block>:1:20-37: info: atom does not occur in any rule head:\n",
      "  ext_dep(3,6,s8y1)\n",
      "\n",
      "<block>:1:22-41: info: atom does not occur in any rule head:\n",
      "  ext_dep(5,6,s8y1y3)\n",
      "\n"
     ]
    },
    {
     "name": "stderr",
     "output_type": "stream",
     "text": [
      "<block>:1:18-37: info: atom does not occur in any rule head:\n",
      "  ext_indep(5,6,s8y1)\n",
      "\n",
      "<block>:1:20-37: info: atom does not occur in any rule head:\n",
      "  ext_dep(5,6,s8y3)\n",
      "\n",
      "<block>:1:22-41: info: atom does not occur in any rule head:\n",
      "  ext_dep(5,6,s8y1y3)\n",
      "\n",
      "<block>:1:18-37: info: atom does not occur in any rule head:\n",
      "  ext_indep(5,6,s8y1)\n",
      "\n",
      "<block>:1:20-37: info: atom does not occur in any rule head:\n",
      "  ext_dep(5,6,s8y3)\n",
      "\n",
      "<block>:1:22-41: info: atom does not occur in any rule head:\n",
      "  ext_dep(5,6,s8y1y3)\n",
      "\n",
      "<block>:1:18-37: info: atom does not occur in any rule head:\n",
      "  ext_indep(5,6,s8y1)\n",
      "\n",
      "<block>:1:20-37: info: atom does not occur in any rule head:\n",
      "  ext_dep(5,6,s8y3)\n",
      "\n",
      "<block>:1:22-41: info: atom does not occur in any rule head:\n",
      "  ext_dep(5,6,s8y1y3)\n",
      "\n"
     ]
    },
    {
     "name": "stderr",
     "output_type": "stream",
     "text": [
      "<block>:1:18-37: info: atom does not occur in any rule head:\n",
      "  ext_indep(5,6,s8y1)\n",
      "\n",
      "<block>:1:20-37: info: atom does not occur in any rule head:\n",
      "  ext_dep(5,6,s8y3)\n",
      "\n",
      "<block>:1:22-41: info: atom does not occur in any rule head:\n",
      "  ext_dep(5,6,s8y1y3)\n",
      "\n",
      "<block>:1:18-37: info: atom does not occur in any rule head:\n",
      "  ext_indep(5,6,s8y1)\n",
      "\n",
      "<block>:1:20-37: info: atom does not occur in any rule head:\n",
      "  ext_dep(5,6,s8y3)\n",
      "\n",
      "<block>:1:22-41: info: atom does not occur in any rule head:\n",
      "  ext_dep(5,6,s8y1y3)\n",
      "\n",
      "<block>:1:18-37: info: atom does not occur in any rule head:\n",
      "  ext_indep(5,6,s8y1)\n",
      "\n",
      "<block>:1:20-37: info: atom does not occur in any rule head:\n",
      "  ext_dep(5,6,s8y3)\n",
      "\n",
      "<block>:1:22-41: info: atom does not occur in any rule head:\n",
      "  ext_dep(5,6,s8y1y3)\n",
      "\n"
     ]
    },
    {
     "name": "stderr",
     "output_type": "stream",
     "text": [
      "<block>:1:18-37: info: atom does not occur in any rule head:\n",
      "  ext_indep(5,6,s8y1)\n",
      "\n",
      "<block>:1:20-37: info: atom does not occur in any rule head:\n",
      "  ext_dep(5,6,s8y3)\n",
      "\n",
      "<block>:1:22-41: info: atom does not occur in any rule head:\n",
      "  ext_dep(5,6,s8y1y3)\n",
      "\n",
      "<block>:1:18-37: info: atom does not occur in any rule head:\n",
      "  ext_indep(5,6,s8y1)\n",
      "\n",
      "<block>:1:20-37: info: atom does not occur in any rule head:\n",
      "  ext_dep(5,6,s8y3)\n",
      "\n",
      "<block>:1:22-41: info: atom does not occur in any rule head:\n",
      "  ext_dep(5,6,s8y1y3)\n",
      "\n",
      "<block>:1:18-37: info: atom does not occur in any rule head:\n",
      "  ext_indep(5,6,s8y1)\n",
      "\n",
      "<block>:1:20-37: info: atom does not occur in any rule head:\n",
      "  ext_dep(3,6,s8y1)\n",
      "\n",
      "<block>:1:22-41: info: atom does not occur in any rule head:\n",
      "  ext_dep(5,6,s8y1y3)\n",
      "\n"
     ]
    },
    {
     "name": "stderr",
     "output_type": "stream",
     "text": [
      "<block>:1:18-37: info: atom does not occur in any rule head:\n",
      "  ext_indep(5,6,s8y1)\n",
      "\n",
      "<block>:1:20-37: info: atom does not occur in any rule head:\n",
      "  ext_dep(5,6,s8y3)\n",
      "\n",
      "<block>:1:22-41: info: atom does not occur in any rule head:\n",
      "  ext_dep(5,6,s8y1y3)\n",
      "\n"
     ]
    },
    {
     "name": "stderr",
     "output_type": "stream",
     "text": [
      "<block>:1:18-37: info: atom does not occur in any rule head:\n",
      "  ext_indep(5,6,s8y1)\n",
      "\n",
      "<block>:1:20-37: info: atom does not occur in any rule head:\n",
      "  ext_dep(3,6,s8y1)\n",
      "\n",
      "<block>:1:22-41: info: atom does not occur in any rule head:\n",
      "  ext_dep(5,6,s8y1y3)\n",
      "\n",
      "<block>:1:45-60: info: atom does not occur in any rule head:\n",
      "  ap(4,7,#P0,empty)\n",
      "\n",
      "<block>:1:18-37: info: atom does not occur in any rule head:\n",
      "  ext_indep(5,6,s8y1)\n",
      "\n",
      "<block>:1:20-37: info: atom does not occur in any rule head:\n",
      "  ext_dep(3,6,s8y1)\n",
      "\n",
      "<block>:1:22-41: info: atom does not occur in any rule head:\n",
      "  ext_dep(5,6,s8y1y3)\n",
      "\n",
      "<block>:1:45-60: info: atom does not occur in any rule head:\n",
      "  ap(4,7,#P0,empty)\n",
      "\n",
      "<block>:1:18-37: info: atom does not occur in any rule head:\n",
      "  ext_indep(5,6,s8y1)\n",
      "\n",
      "<block>:1:20-37: info: atom does not occur in any rule head:\n",
      "  ext_dep(3,6,s8y1)\n",
      "\n",
      "<block>:1:22-41: info: atom does not occur in any rule head:\n",
      "  ext_dep(5,6,s8y1y3)\n",
      "\n",
      "<block>:1:45-60: info: atom does not occur in any rule head:\n",
      "  ap(4,7,#P0,empty)\n",
      "\n"
     ]
    },
    {
     "name": "stderr",
     "output_type": "stream",
     "text": [
      "<block>:1:18-37: info: atom does not occur in any rule head:\n",
      "  ext_indep(5,6,s8y1)\n",
      "\n",
      "<block>:1:20-37: info: atom does not occur in any rule head:\n",
      "  ext_dep(5,6,s8y3)\n",
      "\n",
      "<block>:1:22-41: info: atom does not occur in any rule head:\n",
      "  ext_dep(5,6,s8y1y3)\n",
      "\n",
      "<block>:1:45-60: info: atom does not occur in any rule head:\n",
      "  ap(4,7,#P0,empty)\n",
      "\n",
      "<block>:1:18-37: info: atom does not occur in any rule head:\n",
      "  ext_indep(5,6,s8y1)\n",
      "\n",
      "<block>:1:20-37: info: atom does not occur in any rule head:\n",
      "  ext_dep(5,6,s8y3)\n",
      "\n",
      "<block>:1:22-41: info: atom does not occur in any rule head:\n",
      "  ext_dep(5,6,s8y1y3)\n",
      "\n"
     ]
    },
    {
     "name": "stderr",
     "output_type": "stream",
     "text": [
      "<block>:1:18-37: info: atom does not occur in any rule head:\n",
      "  ext_indep(5,6,s8y1)\n",
      "\n",
      "<block>:1:20-37: info: atom does not occur in any rule head:\n",
      "  ext_dep(1,6,s8y3)\n",
      "\n",
      "<block>:1:22-41: info: atom does not occur in any rule head:\n",
      "  ext_dep(5,6,s8y1y3)\n",
      "\n",
      "<block>:1:18-37: info: atom does not occur in any rule head:\n",
      "  ext_indep(5,6,s8y1)\n",
      "\n",
      "<block>:1:20-37: info: atom does not occur in any rule head:\n",
      "  ext_dep(5,6,s8y3)\n",
      "\n",
      "<block>:1:22-41: info: atom does not occur in any rule head:\n",
      "  ext_dep(5,6,s8y1y3)\n",
      "\n"
     ]
    },
    {
     "name": "stderr",
     "output_type": "stream",
     "text": [
      "<block>:1:18-37: info: atom does not occur in any rule head:\n",
      "  ext_indep(5,6,s8y1)\n",
      "\n",
      "<block>:1:20-37: info: atom does not occur in any rule head:\n",
      "  ext_dep(3,6,s8y1)\n",
      "\n",
      "<block>:1:22-41: info: atom does not occur in any rule head:\n",
      "  ext_dep(5,6,s8y1y3)\n",
      "\n",
      "<block>:1:45-60: info: atom does not occur in any rule head:\n",
      "  ap(4,7,#P0,empty)\n",
      "\n",
      "<block>:1:18-37: info: atom does not occur in any rule head:\n",
      "  ext_indep(5,6,s8y1)\n",
      "\n",
      "<block>:1:20-37: info: atom does not occur in any rule head:\n",
      "  ext_dep(3,6,s8y1)\n",
      "\n",
      "<block>:1:22-41: info: atom does not occur in any rule head:\n",
      "  ext_dep(5,6,s8y1y3)\n",
      "\n",
      "<block>:1:45-60: info: atom does not occur in any rule head:\n",
      "  ap(4,7,#P0,empty)\n",
      "\n",
      "<block>:1:18-37: info: atom does not occur in any rule head:\n",
      "  ext_indep(5,6,s8y1)\n",
      "\n",
      "<block>:1:20-37: info: atom does not occur in any rule head:\n",
      "  ext_dep(5,6,s8y3)\n",
      "\n",
      "<block>:1:22-41: info: atom does not occur in any rule head:\n",
      "  ext_dep(5,6,s8y1y3)\n",
      "\n",
      "<block>:1:45-60: info: atom does not occur in any rule head:\n",
      "  ap(4,7,#P0,empty)\n",
      "\n"
     ]
    },
    {
     "name": "stderr",
     "output_type": "stream",
     "text": [
      "<block>:1:18-37: info: atom does not occur in any rule head:\n",
      "  ext_indep(5,6,s8y1)\n",
      "\n",
      "<block>:1:20-37: info: atom does not occur in any rule head:\n",
      "  ext_dep(3,6,s8y1)\n",
      "\n",
      "<block>:1:22-41: info: atom does not occur in any rule head:\n",
      "  ext_dep(5,6,s8y1y3)\n",
      "\n",
      "<block>:1:45-60: info: atom does not occur in any rule head:\n",
      "  ap(4,7,#P0,empty)\n",
      "\n",
      "<block>:1:18-37: info: atom does not occur in any rule head:\n",
      "  ext_indep(5,6,s8y1)\n",
      "\n",
      "<block>:1:20-37: info: atom does not occur in any rule head:\n",
      "  ext_dep(1,6,s8y3)\n",
      "\n",
      "<block>:1:22-41: info: atom does not occur in any rule head:\n",
      "  ext_dep(5,6,s8y1y3)\n",
      "\n"
     ]
    },
    {
     "name": "stderr",
     "output_type": "stream",
     "text": [
      "<block>:1:18-37: info: atom does not occur in any rule head:\n",
      "  ext_indep(5,6,s8y1)\n",
      "\n",
      "<block>:1:20-37: info: atom does not occur in any rule head:\n",
      "  ext_dep(5,6,s8y3)\n",
      "\n",
      "<block>:1:22-41: info: atom does not occur in any rule head:\n",
      "  ext_dep(5,6,s8y1y3)\n",
      "\n"
     ]
    },
    {
     "name": "stderr",
     "output_type": "stream",
     "text": [
      "<block>:1:18-37: info: atom does not occur in any rule head:\n",
      "  ext_indep(5,6,s8y1)\n",
      "\n",
      "<block>:1:20-37: info: atom does not occur in any rule head:\n",
      "  ext_dep(1,6,s8y3)\n",
      "\n",
      "<block>:1:22-41: info: atom does not occur in any rule head:\n",
      "  ext_dep(5,6,s8y1y3)\n",
      "\n"
     ]
    },
    {
     "name": "stderr",
     "output_type": "stream",
     "text": [
      "<block>:1:18-37: info: atom does not occur in any rule head:\n",
      "  ext_indep(5,6,s8y1)\n",
      "\n",
      "<block>:1:20-37: info: atom does not occur in any rule head:\n",
      "  ext_dep(5,6,s8y3)\n",
      "\n",
      "<block>:1:22-41: info: atom does not occur in any rule head:\n",
      "  ext_dep(5,6,s8y1y3)\n",
      "\n",
      "<block>:1:18-37: info: atom does not occur in any rule head:\n",
      "  ext_indep(5,6,s8y1)\n",
      "\n",
      "<block>:1:20-37: info: atom does not occur in any rule head:\n",
      "  ext_dep(5,6,s8y3)\n",
      "\n",
      "<block>:1:22-41: info: atom does not occur in any rule head:\n",
      "  ext_dep(5,6,s8y1y3)\n",
      "\n",
      "<block>:1:18-37: info: atom does not occur in any rule head:\n",
      "  ext_indep(5,6,s8y1)\n",
      "\n",
      "<block>:1:20-37: info: atom does not occur in any rule head:\n",
      "  ext_dep(5,6,s8y3)\n",
      "\n",
      "<block>:1:22-41: info: atom does not occur in any rule head:\n",
      "  ext_dep(5,6,s8y1y3)\n",
      "\n"
     ]
    },
    {
     "name": "stderr",
     "output_type": "stream",
     "text": [
      "<block>:1:18-37: info: atom does not occur in any rule head:\n",
      "  ext_indep(5,6,s8y1)\n",
      "\n",
      "<block>:1:20-37: info: atom does not occur in any rule head:\n",
      "  ext_dep(1,6,s8y3)\n",
      "\n",
      "<block>:1:22-41: info: atom does not occur in any rule head:\n",
      "  ext_dep(5,6,s8y1y3)\n",
      "\n",
      "<block>:1:18-37: info: atom does not occur in any rule head:\n",
      "  ext_indep(5,6,s8y1)\n",
      "\n",
      "<block>:1:20-37: info: atom does not occur in any rule head:\n",
      "  ext_dep(1,6,s8y3)\n",
      "\n",
      "<block>:1:22-41: info: atom does not occur in any rule head:\n",
      "  ext_dep(5,6,s8y1y3)\n",
      "\n"
     ]
    },
    {
     "name": "stderr",
     "output_type": "stream",
     "text": [
      "<block>:1:18-37: info: atom does not occur in any rule head:\n",
      "  ext_indep(5,6,s8y1)\n",
      "\n",
      "<block>:1:20-37: info: atom does not occur in any rule head:\n",
      "  ext_dep(1,6,s8y3)\n",
      "\n",
      "<block>:1:22-41: info: atom does not occur in any rule head:\n",
      "  ext_dep(5,6,s8y1y3)\n",
      "\n",
      "<block>:1:18-37: info: atom does not occur in any rule head:\n",
      "  ext_indep(5,6,s8y1)\n",
      "\n",
      "<block>:1:20-37: info: atom does not occur in any rule head:\n",
      "  ext_dep(3,6,s8y1)\n",
      "\n",
      "<block>:1:22-41: info: atom does not occur in any rule head:\n",
      "  ext_dep(5,6,s8y1y3)\n",
      "\n"
     ]
    },
    {
     "name": "stderr",
     "output_type": "stream",
     "text": [
      "<block>:1:18-37: info: atom does not occur in any rule head:\n",
      "  ext_indep(5,6,s8y1)\n",
      "\n",
      "<block>:1:20-37: info: atom does not occur in any rule head:\n",
      "  ext_dep(3,6,s8y1)\n",
      "\n",
      "<block>:1:22-41: info: atom does not occur in any rule head:\n",
      "  ext_dep(5,6,s8y1y3)\n",
      "\n"
     ]
    },
    {
     "name": "stderr",
     "output_type": "stream",
     "text": [
      "<block>:1:18-37: info: atom does not occur in any rule head:\n",
      "  ext_indep(5,6,s8y1)\n",
      "\n",
      "<block>:1:20-37: info: atom does not occur in any rule head:\n",
      "  ext_dep(1,6,s8y3)\n",
      "\n",
      "<block>:1:22-41: info: atom does not occur in any rule head:\n",
      "  ext_dep(5,6,s8y1y3)\n",
      "\n"
     ]
    },
    {
     "name": "stderr",
     "output_type": "stream",
     "text": [
      "<block>:1:18-37: info: atom does not occur in any rule head:\n",
      "  ext_indep(5,6,s8y1)\n",
      "\n",
      "<block>:1:20-37: info: atom does not occur in any rule head:\n",
      "  ext_dep(1,6,s8y3)\n",
      "\n",
      "<block>:1:22-41: info: atom does not occur in any rule head:\n",
      "  ext_dep(5,6,s8y1y3)\n",
      "\n"
     ]
    },
    {
     "name": "stderr",
     "output_type": "stream",
     "text": [
      "<block>:1:18-37: info: atom does not occur in any rule head:\n",
      "  ext_indep(5,6,s8y1)\n",
      "\n",
      "<block>:1:20-37: info: atom does not occur in any rule head:\n",
      "  ext_dep(1,6,s8y3)\n",
      "\n",
      "<block>:1:22-41: info: atom does not occur in any rule head:\n",
      "  ext_dep(5,6,s8y1y3)\n",
      "\n"
     ]
    },
    {
     "name": "stderr",
     "output_type": "stream",
     "text": [
      "<block>:1:18-37: info: atom does not occur in any rule head:\n",
      "  ext_indep(5,6,s8y1)\n",
      "\n",
      "<block>:1:20-37: info: atom does not occur in any rule head:\n",
      "  ext_dep(1,6,s8y3)\n",
      "\n",
      "<block>:1:22-41: info: atom does not occur in any rule head:\n",
      "  ext_dep(5,6,s8y1y3)\n",
      "\n"
     ]
    },
    {
     "name": "stderr",
     "output_type": "stream",
     "text": [
      "<block>:1:18-37: info: atom does not occur in any rule head:\n",
      "  ext_indep(5,6,s8y1)\n",
      "\n",
      "<block>:1:20-37: info: atom does not occur in any rule head:\n",
      "  ext_dep(1,6,s8y3)\n",
      "\n",
      "<block>:1:22-41: info: atom does not occur in any rule head:\n",
      "  ext_dep(5,6,s8y1y3)\n",
      "\n"
     ]
    },
    {
     "name": "stderr",
     "output_type": "stream",
     "text": [
      "<block>:1:18-37: info: atom does not occur in any rule head:\n",
      "  ext_indep(5,6,s8y1)\n",
      "\n",
      "<block>:1:20-37: info: atom does not occur in any rule head:\n",
      "  ext_dep(1,6,s8y3)\n",
      "\n",
      "<block>:1:22-41: info: atom does not occur in any rule head:\n",
      "  ext_dep(5,6,s8y1y3)\n",
      "\n"
     ]
    },
    {
     "name": "stderr",
     "output_type": "stream",
     "text": [
      "<block>:1:18-37: info: atom does not occur in any rule head:\n",
      "  ext_indep(5,6,s8y1)\n",
      "\n",
      "<block>:1:20-37: info: atom does not occur in any rule head:\n",
      "  ext_dep(1,6,s8y3)\n",
      "\n",
      "<block>:1:22-41: info: atom does not occur in any rule head:\n",
      "  ext_dep(5,6,s8y1y3)\n",
      "\n"
     ]
    },
    {
     "name": "stderr",
     "output_type": "stream",
     "text": [
      "<block>:1:18-37: info: atom does not occur in any rule head:\n",
      "  ext_indep(5,6,s8y1)\n",
      "\n",
      "<block>:1:20-37: info: atom does not occur in any rule head:\n",
      "  ext_dep(1,6,s8y3)\n",
      "\n",
      "<block>:1:22-41: info: atom does not occur in any rule head:\n",
      "  ext_dep(5,6,s8y1y3)\n",
      "\n"
     ]
    },
    {
     "name": "stderr",
     "output_type": "stream",
     "text": [
      "<block>:1:18-37: info: atom does not occur in any rule head:\n",
      "  ext_indep(5,6,s8y1)\n",
      "\n",
      "<block>:1:20-37: info: atom does not occur in any rule head:\n",
      "  ext_dep(1,6,s8y3)\n",
      "\n",
      "<block>:1:22-41: info: atom does not occur in any rule head:\n",
      "  ext_dep(5,6,s8y1y3)\n",
      "\n"
     ]
    },
    {
     "name": "stderr",
     "output_type": "stream",
     "text": [
      "<block>:1:18-37: info: atom does not occur in any rule head:\n",
      "  ext_indep(5,6,s8y1)\n",
      "\n",
      "<block>:1:20-37: info: atom does not occur in any rule head:\n",
      "  ext_dep(1,6,s8y3)\n",
      "\n",
      "<block>:1:22-41: info: atom does not occur in any rule head:\n",
      "  ext_dep(5,6,s8y1y3)\n",
      "\n"
     ]
    },
    {
     "name": "stderr",
     "output_type": "stream",
     "text": [
      "<block>:1:18-37: info: atom does not occur in any rule head:\n",
      "  ext_indep(5,6,s8y1)\n",
      "\n",
      "<block>:1:20-37: info: atom does not occur in any rule head:\n",
      "  ext_dep(3,6,s8y1)\n",
      "\n",
      "<block>:1:22-41: info: atom does not occur in any rule head:\n",
      "  ext_dep(5,6,s8y1y3)\n",
      "\n"
     ]
    },
    {
     "name": "stderr",
     "output_type": "stream",
     "text": [
      "<block>:1:18-37: info: atom does not occur in any rule head:\n",
      "  ext_indep(5,6,s8y1)\n",
      "\n",
      "<block>:1:20-37: info: atom does not occur in any rule head:\n",
      "  ext_dep(5,6,s8y3)\n",
      "\n",
      "<block>:1:22-41: info: atom does not occur in any rule head:\n",
      "  ext_dep(5,6,s8y1y3)\n",
      "\n",
      "<block>:1:18-37: info: atom does not occur in any rule head:\n",
      "  ext_indep(5,6,s8y1)\n",
      "\n",
      "<block>:1:20-37: info: atom does not occur in any rule head:\n",
      "  ext_dep(5,6,s8y3)\n",
      "\n",
      "<block>:1:22-41: info: atom does not occur in any rule head:\n",
      "  ext_dep(5,6,s8y1y3)\n",
      "\n",
      "<block>:1:18-37: info: atom does not occur in any rule head:\n",
      "  ext_indep(5,6,s8y1)\n",
      "\n",
      "<block>:1:20-37: info: atom does not occur in any rule head:\n",
      "  ext_dep(5,6,s8y3)\n",
      "\n",
      "<block>:1:22-41: info: atom does not occur in any rule head:\n",
      "  ext_dep(5,6,s8y1y3)\n",
      "\n"
     ]
    },
    {
     "name": "stderr",
     "output_type": "stream",
     "text": [
      "<block>:1:18-37: info: atom does not occur in any rule head:\n",
      "  ext_indep(5,6,s8y1)\n",
      "\n",
      "<block>:1:20-37: info: atom does not occur in any rule head:\n",
      "  ext_dep(1,6,s8y3)\n",
      "\n",
      "<block>:1:22-41: info: atom does not occur in any rule head:\n",
      "  ext_dep(5,6,s8y1y3)\n",
      "\n",
      "<block>:1:18-37: info: atom does not occur in any rule head:\n",
      "  ext_indep(5,6,s8y1)\n",
      "\n",
      "<block>:1:20-37: info: atom does not occur in any rule head:\n",
      "  ext_dep(1,6,s8y3)\n",
      "\n",
      "<block>:1:22-41: info: atom does not occur in any rule head:\n",
      "  ext_dep(5,6,s8y1y3)\n",
      "\n"
     ]
    },
    {
     "name": "stderr",
     "output_type": "stream",
     "text": [
      "<block>:1:18-37: info: atom does not occur in any rule head:\n",
      "  ext_indep(5,6,s8y1)\n",
      "\n",
      "<block>:1:20-37: info: atom does not occur in any rule head:\n",
      "  ext_dep(1,6,s8y3)\n",
      "\n",
      "<block>:1:22-41: info: atom does not occur in any rule head:\n",
      "  ext_dep(5,6,s8y1y3)\n",
      "\n",
      "<block>:1:18-37: info: atom does not occur in any rule head:\n",
      "  ext_indep(5,6,s8y1)\n",
      "\n",
      "<block>:1:20-37: info: atom does not occur in any rule head:\n",
      "  ext_dep(3,6,s8y1)\n",
      "\n",
      "<block>:1:22-41: info: atom does not occur in any rule head:\n",
      "  ext_dep(5,6,s8y1y3)\n",
      "\n"
     ]
    },
    {
     "name": "stderr",
     "output_type": "stream",
     "text": [
      "<block>:1:18-37: info: atom does not occur in any rule head:\n",
      "  ext_indep(5,6,s8y1)\n",
      "\n",
      "<block>:1:20-37: info: atom does not occur in any rule head:\n",
      "  ext_dep(1,6,s8y3)\n",
      "\n",
      "<block>:1:22-41: info: atom does not occur in any rule head:\n",
      "  ext_dep(5,6,s8y1y3)\n",
      "\n"
     ]
    },
    {
     "name": "stderr",
     "output_type": "stream",
     "text": [
      "<block>:1:18-37: info: atom does not occur in any rule head:\n",
      "  ext_indep(5,6,s8y1)\n",
      "\n",
      "<block>:1:20-37: info: atom does not occur in any rule head:\n",
      "  ext_dep(1,6,s8y3)\n",
      "\n",
      "<block>:1:22-41: info: atom does not occur in any rule head:\n",
      "  ext_dep(5,6,s8y1y3)\n",
      "\n"
     ]
    },
    {
     "name": "stderr",
     "output_type": "stream",
     "text": [
      "<block>:1:18-37: info: atom does not occur in any rule head:\n",
      "  ext_indep(5,6,s8y1)\n",
      "\n",
      "<block>:1:20-37: info: atom does not occur in any rule head:\n",
      "  ext_dep(1,6,s8y3)\n",
      "\n",
      "<block>:1:22-41: info: atom does not occur in any rule head:\n",
      "  ext_dep(5,6,s8y1y3)\n",
      "\n"
     ]
    },
    {
     "name": "stderr",
     "output_type": "stream",
     "text": [
      "<block>:1:18-37: info: atom does not occur in any rule head:\n",
      "  ext_indep(5,6,s8y1)\n",
      "\n",
      "<block>:1:20-37: info: atom does not occur in any rule head:\n",
      "  ext_dep(1,6,s8y3)\n",
      "\n",
      "<block>:1:22-41: info: atom does not occur in any rule head:\n",
      "  ext_dep(5,6,s8y1y3)\n",
      "\n"
     ]
    },
    {
     "name": "stderr",
     "output_type": "stream",
     "text": [
      "<block>:1:18-37: info: atom does not occur in any rule head:\n",
      "  ext_indep(5,6,s8y1)\n",
      "\n",
      "<block>:1:20-37: info: atom does not occur in any rule head:\n",
      "  ext_dep(1,6,s8y3)\n",
      "\n",
      "<block>:1:22-41: info: atom does not occur in any rule head:\n",
      "  ext_dep(5,6,s8y1y3)\n",
      "\n"
     ]
    },
    {
     "name": "stderr",
     "output_type": "stream",
     "text": [
      "<block>:1:18-37: info: atom does not occur in any rule head:\n",
      "  ext_indep(5,6,s8y1)\n",
      "\n",
      "<block>:1:20-37: info: atom does not occur in any rule head:\n",
      "  ext_dep(1,6,s8y3)\n",
      "\n",
      "<block>:1:22-41: info: atom does not occur in any rule head:\n",
      "  ext_dep(5,6,s8y1y3)\n",
      "\n"
     ]
    },
    {
     "name": "stderr",
     "output_type": "stream",
     "text": [
      "<block>:1:18-37: info: atom does not occur in any rule head:\n",
      "  ext_indep(5,6,s8y1)\n",
      "\n",
      "<block>:1:20-37: info: atom does not occur in any rule head:\n",
      "  ext_dep(3,6,s8y1)\n",
      "\n",
      "<block>:1:22-41: info: atom does not occur in any rule head:\n",
      "  ext_dep(5,6,s8y1y3)\n",
      "\n"
     ]
    },
    {
     "name": "stderr",
     "output_type": "stream",
     "text": [
      "<block>:1:18-37: info: atom does not occur in any rule head:\n",
      "  ext_indep(5,6,s8y1)\n",
      "\n",
      "<block>:1:20-37: info: atom does not occur in any rule head:\n",
      "  ext_dep(1,6,s8y3)\n",
      "\n",
      "<block>:1:22-41: info: atom does not occur in any rule head:\n",
      "  ext_dep(5,6,s8y1y3)\n",
      "\n"
     ]
    },
    {
     "name": "stderr",
     "output_type": "stream",
     "text": [
      "<block>:1:18-37: info: atom does not occur in any rule head:\n",
      "  ext_indep(5,6,s8y1)\n",
      "\n",
      "<block>:1:20-37: info: atom does not occur in any rule head:\n",
      "  ext_dep(3,6,s8y1)\n",
      "\n",
      "<block>:1:22-41: info: atom does not occur in any rule head:\n",
      "  ext_dep(5,6,s8y1y3)\n",
      "\n"
     ]
    },
    {
     "name": "stderr",
     "output_type": "stream",
     "text": [
      "<block>:1:18-37: info: atom does not occur in any rule head:\n",
      "  ext_indep(5,6,s8y1)\n",
      "\n",
      "<block>:1:20-37: info: atom does not occur in any rule head:\n",
      "  ext_dep(1,6,s8y3)\n",
      "\n",
      "<block>:1:22-41: info: atom does not occur in any rule head:\n",
      "  ext_dep(5,6,s8y1y3)\n",
      "\n"
     ]
    },
    {
     "name": "stderr",
     "output_type": "stream",
     "text": [
      "<block>:1:18-37: info: atom does not occur in any rule head:\n",
      "  ext_indep(5,6,s8y1)\n",
      "\n",
      "<block>:1:20-37: info: atom does not occur in any rule head:\n",
      "  ext_dep(5,6,s8y3)\n",
      "\n",
      "<block>:1:22-41: info: atom does not occur in any rule head:\n",
      "  ext_dep(5,6,s8y1y3)\n",
      "\n"
     ]
    },
    {
     "name": "stderr",
     "output_type": "stream",
     "text": [
      "<block>:1:18-37: info: atom does not occur in any rule head:\n",
      "  ext_indep(5,6,s8y1)\n",
      "\n",
      "<block>:1:20-37: info: atom does not occur in any rule head:\n",
      "  ext_dep(1,6,s8y3)\n",
      "\n",
      "<block>:1:22-41: info: atom does not occur in any rule head:\n",
      "  ext_dep(5,6,s8y1y3)\n",
      "\n"
     ]
    },
    {
     "name": "stderr",
     "output_type": "stream",
     "text": [
      "<block>:1:18-37: info: atom does not occur in any rule head:\n",
      "  ext_indep(5,6,s8y1)\n",
      "\n",
      "<block>:1:20-37: info: atom does not occur in any rule head:\n",
      "  ext_dep(3,6,s8y1)\n",
      "\n",
      "<block>:1:22-41: info: atom does not occur in any rule head:\n",
      "  ext_dep(5,6,s8y1y3)\n",
      "\n",
      "<block>:1:18-37: info: atom does not occur in any rule head:\n",
      "  ext_indep(5,6,s8y1)\n",
      "\n",
      "<block>:1:20-37: info: atom does not occur in any rule head:\n",
      "  ext_dep(3,6,s8y1)\n",
      "\n",
      "<block>:1:22-41: info: atom does not occur in any rule head:\n",
      "  ext_dep(5,6,s8y1y3)\n",
      "\n",
      "<block>:1:18-37: info: atom does not occur in any rule head:\n",
      "  ext_indep(5,6,s8y1)\n",
      "\n",
      "<block>:1:20-37: info: atom does not occur in any rule head:\n",
      "  ext_dep(5,6,s8y3)\n",
      "\n",
      "<block>:1:22-41: info: atom does not occur in any rule head:\n",
      "  ext_dep(5,6,s8y1y3)\n",
      "\n"
     ]
    },
    {
     "name": "stderr",
     "output_type": "stream",
     "text": [
      "<block>:1:18-37: info: atom does not occur in any rule head:\n",
      "  ext_indep(5,6,s8y1)\n",
      "\n",
      "<block>:1:20-37: info: atom does not occur in any rule head:\n",
      "  ext_dep(5,6,s8y3)\n",
      "\n",
      "<block>:1:22-41: info: atom does not occur in any rule head:\n",
      "  ext_dep(5,6,s8y1y3)\n",
      "\n",
      "<block>:1:18-37: info: atom does not occur in any rule head:\n",
      "  ext_indep(5,6,s8y1)\n",
      "\n",
      "<block>:1:20-37: info: atom does not occur in any rule head:\n",
      "  ext_dep(3,6,s8y1)\n",
      "\n",
      "<block>:1:22-41: info: atom does not occur in any rule head:\n",
      "  ext_dep(5,6,s8y1y3)\n",
      "\n"
     ]
    },
    {
     "name": "stderr",
     "output_type": "stream",
     "text": [
      "<block>:1:18-37: info: atom does not occur in any rule head:\n",
      "  ext_indep(5,6,s8y1)\n",
      "\n",
      "<block>:1:20-37: info: atom does not occur in any rule head:\n",
      "  ext_dep(3,6,s8y1)\n",
      "\n",
      "<block>:1:22-41: info: atom does not occur in any rule head:\n",
      "  ext_dep(5,6,s8y1y3)\n",
      "\n",
      "<block>:1:18-37: info: atom does not occur in any rule head:\n",
      "  ext_indep(5,6,s8y1)\n",
      "\n",
      "<block>:1:20-37: info: atom does not occur in any rule head:\n",
      "  ext_dep(1,6,s8y3)\n",
      "\n",
      "<block>:1:22-41: info: atom does not occur in any rule head:\n",
      "  ext_dep(5,6,s8y1y3)\n",
      "\n"
     ]
    },
    {
     "name": "stderr",
     "output_type": "stream",
     "text": [
      "<block>:1:18-37: info: atom does not occur in any rule head:\n",
      "  ext_indep(5,6,s8y1)\n",
      "\n",
      "<block>:1:20-37: info: atom does not occur in any rule head:\n",
      "  ext_dep(5,6,s8y3)\n",
      "\n",
      "<block>:1:22-41: info: atom does not occur in any rule head:\n",
      "  ext_dep(5,6,s8y1y3)\n",
      "\n"
     ]
    },
    {
     "name": "stderr",
     "output_type": "stream",
     "text": [
      "<block>:1:18-37: info: atom does not occur in any rule head:\n",
      "  ext_indep(5,6,s8y1)\n",
      "\n",
      "<block>:1:20-37: info: atom does not occur in any rule head:\n",
      "  ext_dep(5,6,s8y3)\n",
      "\n",
      "<block>:1:22-41: info: atom does not occur in any rule head:\n",
      "  ext_dep(5,6,s8y1y3)\n",
      "\n"
     ]
    },
    {
     "name": "stderr",
     "output_type": "stream",
     "text": [
      "<block>:1:18-37: info: atom does not occur in any rule head:\n",
      "  ext_indep(5,6,s8y1)\n",
      "\n",
      "<block>:1:20-37: info: atom does not occur in any rule head:\n",
      "  ext_dep(5,6,s8y3)\n",
      "\n",
      "<block>:1:22-41: info: atom does not occur in any rule head:\n",
      "  ext_dep(5,6,s8y1y3)\n",
      "\n"
     ]
    },
    {
     "name": "stderr",
     "output_type": "stream",
     "text": [
      "<block>:1:18-37: info: atom does not occur in any rule head:\n",
      "  ext_indep(5,6,s8y1)\n",
      "\n",
      "<block>:1:20-37: info: atom does not occur in any rule head:\n",
      "  ext_dep(3,6,s8y1)\n",
      "\n",
      "<block>:1:22-41: info: atom does not occur in any rule head:\n",
      "  ext_dep(5,6,s8y1y3)\n",
      "\n",
      "<block>:1:18-37: info: atom does not occur in any rule head:\n",
      "  ext_indep(5,6,s8y1)\n",
      "\n",
      "<block>:1:20-37: info: atom does not occur in any rule head:\n",
      "  ext_dep(3,6,s8y1)\n",
      "\n",
      "<block>:1:22-41: info: atom does not occur in any rule head:\n",
      "  ext_dep(5,6,s8y1y3)\n",
      "\n",
      "<block>:1:18-37: info: atom does not occur in any rule head:\n",
      "  ext_indep(5,6,s8y1)\n",
      "\n",
      "<block>:1:20-37: info: atom does not occur in any rule head:\n",
      "  ext_dep(5,6,s8y3)\n",
      "\n",
      "<block>:1:22-41: info: atom does not occur in any rule head:\n",
      "  ext_dep(5,6,s8y1y3)\n",
      "\n"
     ]
    },
    {
     "name": "stderr",
     "output_type": "stream",
     "text": [
      "<block>:1:18-37: info: atom does not occur in any rule head:\n",
      "  ext_indep(5,6,s8y1)\n",
      "\n",
      "<block>:1:20-37: info: atom does not occur in any rule head:\n",
      "  ext_dep(5,6,s8y3)\n",
      "\n",
      "<block>:1:22-41: info: atom does not occur in any rule head:\n",
      "  ext_dep(5,6,s8y1y3)\n",
      "\n",
      "<block>:1:18-37: info: atom does not occur in any rule head:\n",
      "  ext_indep(5,6,s8y1)\n",
      "\n",
      "<block>:1:20-37: info: atom does not occur in any rule head:\n",
      "  ext_dep(3,6,s8y1)\n",
      "\n",
      "<block>:1:22-41: info: atom does not occur in any rule head:\n",
      "  ext_dep(5,6,s8y1y3)\n",
      "\n"
     ]
    },
    {
     "name": "stderr",
     "output_type": "stream",
     "text": [
      "<block>:1:18-37: info: atom does not occur in any rule head:\n",
      "  ext_indep(5,6,s8y1)\n",
      "\n",
      "<block>:1:20-37: info: atom does not occur in any rule head:\n",
      "  ext_dep(3,6,s8y1)\n",
      "\n",
      "<block>:1:22-41: info: atom does not occur in any rule head:\n",
      "  ext_dep(5,6,s8y1y3)\n",
      "\n",
      "<block>:1:18-37: info: atom does not occur in any rule head:\n",
      "  ext_indep(5,6,s8y1)\n",
      "\n",
      "<block>:1:20-37: info: atom does not occur in any rule head:\n",
      "  ext_dep(1,6,s8y3)\n",
      "\n",
      "<block>:1:22-41: info: atom does not occur in any rule head:\n",
      "  ext_dep(5,6,s8y1y3)\n",
      "\n"
     ]
    },
    {
     "name": "stderr",
     "output_type": "stream",
     "text": [
      "<block>:1:18-37: info: atom does not occur in any rule head:\n",
      "  ext_indep(5,6,s8y1)\n",
      "\n",
      "<block>:1:20-37: info: atom does not occur in any rule head:\n",
      "  ext_dep(5,6,s8y3)\n",
      "\n",
      "<block>:1:22-41: info: atom does not occur in any rule head:\n",
      "  ext_dep(5,6,s8y1y3)\n",
      "\n"
     ]
    },
    {
     "name": "stderr",
     "output_type": "stream",
     "text": [
      "<block>:1:18-37: info: atom does not occur in any rule head:\n",
      "  ext_indep(5,6,s8y1)\n",
      "\n",
      "<block>:1:20-37: info: atom does not occur in any rule head:\n",
      "  ext_dep(1,6,s8y3)\n",
      "\n",
      "<block>:1:22-41: info: atom does not occur in any rule head:\n",
      "  ext_dep(5,6,s8y1y3)\n",
      "\n"
     ]
    },
    {
     "name": "stderr",
     "output_type": "stream",
     "text": [
      "<block>:1:18-37: info: atom does not occur in any rule head:\n",
      "  ext_indep(5,6,s8y1)\n",
      "\n",
      "<block>:1:20-37: info: atom does not occur in any rule head:\n",
      "  ext_dep(1,6,s8y3)\n",
      "\n",
      "<block>:1:22-41: info: atom does not occur in any rule head:\n",
      "  ext_dep(5,6,s8y1y3)\n",
      "\n"
     ]
    },
    {
     "name": "stderr",
     "output_type": "stream",
     "text": [
      "<block>:1:18-37: info: atom does not occur in any rule head:\n",
      "  ext_indep(5,6,s8y1)\n",
      "\n",
      "<block>:1:20-37: info: atom does not occur in any rule head:\n",
      "  ext_dep(5,6,s8y3)\n",
      "\n",
      "<block>:1:22-41: info: atom does not occur in any rule head:\n",
      "  ext_dep(5,6,s8y1y3)\n",
      "\n",
      "<block>:1:39-51: info: atom does not occur in any rule head:\n",
      "  ap(5,7,#P0,s4)\n",
      "\n",
      "<block>:1:45-60: info: atom does not occur in any rule head:\n",
      "  ap(5,7,#P0,empty)\n",
      "\n",
      "<block>:1:18-37: info: atom does not occur in any rule head:\n",
      "  ext_indep(5,6,s8y1)\n",
      "\n",
      "<block>:1:20-37: info: atom does not occur in any rule head:\n",
      "  ext_dep(5,6,s8y3)\n",
      "\n",
      "<block>:1:22-41: info: atom does not occur in any rule head:\n",
      "  ext_dep(5,6,s8y1y3)\n",
      "\n",
      "<block>:1:18-37: info: atom does not occur in any rule head:\n",
      "  ext_indep(5,6,s8y1)\n",
      "\n",
      "<block>:1:20-37: info: atom does not occur in any rule head:\n",
      "  ext_dep(1,6,s8y3)\n",
      "\n",
      "<block>:1:22-41: info: atom does not occur in any rule head:\n",
      "  ext_dep(5,6,s8y1y3)\n",
      "\n"
     ]
    },
    {
     "name": "stderr",
     "output_type": "stream",
     "text": [
      "<block>:1:18-37: info: atom does not occur in any rule head:\n",
      "  ext_indep(5,6,s8y1)\n",
      "\n",
      "<block>:1:20-37: info: atom does not occur in any rule head:\n",
      "  ext_dep(1,6,s8y3)\n",
      "\n",
      "<block>:1:22-41: info: atom does not occur in any rule head:\n",
      "  ext_dep(5,6,s8y1y3)\n",
      "\n",
      "<block>:1:18-37: info: atom does not occur in any rule head:\n",
      "  ext_indep(5,6,s8y1)\n",
      "\n",
      "<block>:1:20-37: info: atom does not occur in any rule head:\n",
      "  ext_dep(3,6,s8y1)\n",
      "\n",
      "<block>:1:22-41: info: atom does not occur in any rule head:\n",
      "  ext_dep(5,6,s8y1y3)\n",
      "\n"
     ]
    },
    {
     "name": "stderr",
     "output_type": "stream",
     "text": [
      "<block>:1:18-37: info: atom does not occur in any rule head:\n",
      "  ext_indep(5,6,s8y1)\n",
      "\n",
      "<block>:1:20-37: info: atom does not occur in any rule head:\n",
      "  ext_dep(1,6,s8y3)\n",
      "\n",
      "<block>:1:22-41: info: atom does not occur in any rule head:\n",
      "  ext_dep(5,6,s8y1y3)\n",
      "\n",
      "<block>:1:18-37: info: atom does not occur in any rule head:\n",
      "  ext_indep(5,6,s8y1)\n",
      "\n",
      "<block>:1:20-37: info: atom does not occur in any rule head:\n",
      "  ext_dep(1,6,s8y3)\n",
      "\n",
      "<block>:1:22-41: info: atom does not occur in any rule head:\n",
      "  ext_dep(5,6,s8y1y3)\n",
      "\n"
     ]
    },
    {
     "name": "stderr",
     "output_type": "stream",
     "text": [
      "<block>:1:18-37: info: atom does not occur in any rule head:\n",
      "  ext_indep(5,6,s8y1)\n",
      "\n",
      "<block>:1:20-37: info: atom does not occur in any rule head:\n",
      "  ext_dep(1,6,s8y3)\n",
      "\n",
      "<block>:1:22-41: info: atom does not occur in any rule head:\n",
      "  ext_dep(5,6,s8y1y3)\n",
      "\n"
     ]
    },
    {
     "name": "stderr",
     "output_type": "stream",
     "text": [
      "<block>:1:18-37: info: atom does not occur in any rule head:\n",
      "  ext_indep(5,6,s8y1)\n",
      "\n",
      "<block>:1:20-37: info: atom does not occur in any rule head:\n",
      "  ext_dep(3,6,s8y1)\n",
      "\n",
      "<block>:1:22-41: info: atom does not occur in any rule head:\n",
      "  ext_dep(5,6,s8y1y3)\n",
      "\n"
     ]
    },
    {
     "name": "stderr",
     "output_type": "stream",
     "text": [
      "<block>:1:18-37: info: atom does not occur in any rule head:\n",
      "  ext_indep(5,6,s8y1)\n",
      "\n",
      "<block>:1:20-37: info: atom does not occur in any rule head:\n",
      "  ext_dep(5,6,s8y3)\n",
      "\n",
      "<block>:1:22-41: info: atom does not occur in any rule head:\n",
      "  ext_dep(5,6,s8y1y3)\n",
      "\n",
      "<block>:1:39-51: info: atom does not occur in any rule head:\n",
      "  ap(5,7,#P0,s4)\n",
      "\n",
      "<block>:1:45-60: info: atom does not occur in any rule head:\n",
      "  ap(5,7,#P0,empty)\n",
      "\n",
      "<block>:1:18-37: info: atom does not occur in any rule head:\n",
      "  ext_indep(5,6,s8y1)\n",
      "\n",
      "<block>:1:20-37: info: atom does not occur in any rule head:\n",
      "  ext_dep(5,6,s8y3)\n",
      "\n",
      "<block>:1:22-41: info: atom does not occur in any rule head:\n",
      "  ext_dep(5,6,s8y1y3)\n",
      "\n",
      "<block>:1:18-37: info: atom does not occur in any rule head:\n",
      "  ext_indep(5,6,s8y1)\n",
      "\n",
      "<block>:1:20-37: info: atom does not occur in any rule head:\n",
      "  ext_dep(1,6,s8y3)\n",
      "\n",
      "<block>:1:22-41: info: atom does not occur in any rule head:\n",
      "  ext_dep(5,6,s8y1y3)\n",
      "\n"
     ]
    },
    {
     "name": "stderr",
     "output_type": "stream",
     "text": [
      "<block>:1:18-37: info: atom does not occur in any rule head:\n",
      "  ext_indep(5,6,s8y1)\n",
      "\n",
      "<block>:1:20-37: info: atom does not occur in any rule head:\n",
      "  ext_dep(1,6,s8y3)\n",
      "\n",
      "<block>:1:22-41: info: atom does not occur in any rule head:\n",
      "  ext_dep(5,6,s8y1y3)\n",
      "\n",
      "<block>:1:18-37: info: atom does not occur in any rule head:\n",
      "  ext_indep(5,6,s8y1)\n",
      "\n",
      "<block>:1:20-37: info: atom does not occur in any rule head:\n",
      "  ext_dep(3,6,s8y1)\n",
      "\n",
      "<block>:1:22-41: info: atom does not occur in any rule head:\n",
      "  ext_dep(5,6,s8y1y3)\n",
      "\n"
     ]
    },
    {
     "name": "stderr",
     "output_type": "stream",
     "text": [
      "<block>:1:18-37: info: atom does not occur in any rule head:\n",
      "  ext_indep(5,6,s8y1)\n",
      "\n",
      "<block>:1:20-37: info: atom does not occur in any rule head:\n",
      "  ext_dep(1,6,s8y3)\n",
      "\n",
      "<block>:1:22-41: info: atom does not occur in any rule head:\n",
      "  ext_dep(5,6,s8y1y3)\n",
      "\n"
     ]
    },
    {
     "name": "stderr",
     "output_type": "stream",
     "text": [
      "<block>:1:18-37: info: atom does not occur in any rule head:\n",
      "  ext_indep(5,6,s8y1)\n",
      "\n",
      "<block>:1:20-37: info: atom does not occur in any rule head:\n",
      "  ext_dep(1,6,s8y3)\n",
      "\n",
      "<block>:1:22-41: info: atom does not occur in any rule head:\n",
      "  ext_dep(5,6,s8y1y3)\n",
      "\n"
     ]
    },
    {
     "name": "stderr",
     "output_type": "stream",
     "text": [
      "<block>:1:18-37: info: atom does not occur in any rule head:\n",
      "  ext_indep(5,6,s8y1)\n",
      "\n",
      "<block>:1:20-37: info: atom does not occur in any rule head:\n",
      "  ext_dep(1,6,s8y3)\n",
      "\n",
      "<block>:1:22-41: info: atom does not occur in any rule head:\n",
      "  ext_dep(5,6,s8y1y3)\n",
      "\n"
     ]
    },
    {
     "name": "stderr",
     "output_type": "stream",
     "text": [
      "<block>:1:18-37: info: atom does not occur in any rule head:\n",
      "  ext_indep(5,6,s8y1)\n",
      "\n",
      "<block>:1:20-37: info: atom does not occur in any rule head:\n",
      "  ext_dep(1,6,s8y3)\n",
      "\n",
      "<block>:1:22-41: info: atom does not occur in any rule head:\n",
      "  ext_dep(5,6,s8y1y3)\n",
      "\n"
     ]
    },
    {
     "name": "stderr",
     "output_type": "stream",
     "text": [
      "<block>:1:18-37: info: atom does not occur in any rule head:\n",
      "  ext_indep(5,6,s8y1)\n",
      "\n",
      "<block>:1:20-37: info: atom does not occur in any rule head:\n",
      "  ext_dep(3,6,s8y1)\n",
      "\n",
      "<block>:1:22-41: info: atom does not occur in any rule head:\n",
      "  ext_dep(5,6,s8y1y3)\n",
      "\n",
      "<block>:1:18-37: info: atom does not occur in any rule head:\n",
      "  ext_indep(5,6,s8y1)\n",
      "\n",
      "<block>:1:20-37: info: atom does not occur in any rule head:\n",
      "  ext_dep(3,6,s8y1)\n",
      "\n",
      "<block>:1:22-41: info: atom does not occur in any rule head:\n",
      "  ext_dep(5,6,s8y1y3)\n",
      "\n"
     ]
    },
    {
     "name": "stderr",
     "output_type": "stream",
     "text": [
      "<block>:1:18-37: info: atom does not occur in any rule head:\n",
      "  ext_indep(5,6,s8y1)\n",
      "\n",
      "<block>:1:20-37: info: atom does not occur in any rule head:\n",
      "  ext_dep(1,6,s8y3)\n",
      "\n",
      "<block>:1:22-41: info: atom does not occur in any rule head:\n",
      "  ext_dep(5,6,s8y1y3)\n",
      "\n",
      "<block>:1:18-37: info: atom does not occur in any rule head:\n",
      "  ext_indep(5,6,s8y1)\n",
      "\n",
      "<block>:1:20-37: info: atom does not occur in any rule head:\n",
      "  ext_dep(1,6,s8y3)\n",
      "\n",
      "<block>:1:22-41: info: atom does not occur in any rule head:\n",
      "  ext_dep(5,6,s8y1y3)\n",
      "\n",
      "<block>:1:18-37: info: atom does not occur in any rule head:\n",
      "  ext_indep(5,6,s8y1)\n",
      "\n",
      "<block>:1:20-37: info: atom does not occur in any rule head:\n",
      "  ext_dep(1,6,s8y3)\n",
      "\n",
      "<block>:1:22-41: info: atom does not occur in any rule head:\n",
      "  ext_dep(5,6,s8y1y3)\n",
      "\n"
     ]
    },
    {
     "name": "stderr",
     "output_type": "stream",
     "text": [
      "<block>:1:18-37: info: atom does not occur in any rule head:\n",
      "  ext_indep(5,6,s8y1)\n",
      "\n",
      "<block>:1:20-37: info: atom does not occur in any rule head:\n",
      "  ext_dep(1,6,s8y3)\n",
      "\n",
      "<block>:1:22-41: info: atom does not occur in any rule head:\n",
      "  ext_dep(5,6,s8y1y3)\n",
      "\n",
      "<block>:1:18-37: info: atom does not occur in any rule head:\n",
      "  ext_indep(5,6,s8y1)\n",
      "\n",
      "<block>:1:20-37: info: atom does not occur in any rule head:\n",
      "  ext_dep(1,6,s8y3)\n",
      "\n",
      "<block>:1:22-41: info: atom does not occur in any rule head:\n",
      "  ext_dep(5,6,s8y1y3)\n",
      "\n"
     ]
    },
    {
     "name": "stderr",
     "output_type": "stream",
     "text": [
      "<block>:1:18-37: info: atom does not occur in any rule head:\n",
      "  ext_indep(5,6,s8y1)\n",
      "\n",
      "<block>:1:20-37: info: atom does not occur in any rule head:\n",
      "  ext_dep(1,6,s8y3)\n",
      "\n",
      "<block>:1:22-41: info: atom does not occur in any rule head:\n",
      "  ext_dep(5,6,s8y1y3)\n",
      "\n",
      "<block>:1:18-37: info: atom does not occur in any rule head:\n",
      "  ext_indep(5,6,s8y1)\n",
      "\n",
      "<block>:1:20-37: info: atom does not occur in any rule head:\n",
      "  ext_dep(3,6,s8y1)\n",
      "\n",
      "<block>:1:22-41: info: atom does not occur in any rule head:\n",
      "  ext_dep(5,6,s8y1y3)\n",
      "\n"
     ]
    },
    {
     "name": "stderr",
     "output_type": "stream",
     "text": [
      "<block>:1:18-37: info: atom does not occur in any rule head:\n",
      "  ext_indep(5,6,s8y1)\n",
      "\n",
      "<block>:1:20-37: info: atom does not occur in any rule head:\n",
      "  ext_dep(3,6,s8y1)\n",
      "\n",
      "<block>:1:22-41: info: atom does not occur in any rule head:\n",
      "  ext_dep(5,6,s8y1y3)\n",
      "\n"
     ]
    },
    {
     "name": "stderr",
     "output_type": "stream",
     "text": [
      "<block>:1:18-37: info: atom does not occur in any rule head:\n",
      "  ext_indep(5,6,s8y1)\n",
      "\n",
      "<block>:1:20-37: info: atom does not occur in any rule head:\n",
      "  ext_dep(3,6,s8y1)\n",
      "\n",
      "<block>:1:22-41: info: atom does not occur in any rule head:\n",
      "  ext_dep(5,6,s8y1y3)\n",
      "\n"
     ]
    },
    {
     "name": "stderr",
     "output_type": "stream",
     "text": [
      "<block>:1:18-37: info: atom does not occur in any rule head:\n",
      "  ext_indep(5,6,s8y1)\n",
      "\n",
      "<block>:1:20-37: info: atom does not occur in any rule head:\n",
      "  ext_dep(3,6,s8y1)\n",
      "\n",
      "<block>:1:22-41: info: atom does not occur in any rule head:\n",
      "  ext_dep(5,6,s8y1y3)\n",
      "\n"
     ]
    },
    {
     "name": "stderr",
     "output_type": "stream",
     "text": [
      "<block>:1:18-37: info: atom does not occur in any rule head:\n",
      "  ext_indep(5,6,s8y1)\n",
      "\n",
      "<block>:1:20-37: info: atom does not occur in any rule head:\n",
      "  ext_dep(5,6,s8y3)\n",
      "\n",
      "<block>:1:22-41: info: atom does not occur in any rule head:\n",
      "  ext_dep(5,6,s8y1y3)\n",
      "\n"
     ]
    },
    {
     "name": "stderr",
     "output_type": "stream",
     "text": [
      "<block>:1:18-37: info: atom does not occur in any rule head:\n",
      "  ext_indep(5,6,s8y1)\n",
      "\n",
      "<block>:1:20-37: info: atom does not occur in any rule head:\n",
      "  ext_dep(3,6,s8y1)\n",
      "\n",
      "<block>:1:22-41: info: atom does not occur in any rule head:\n",
      "  ext_dep(5,6,s8y1y3)\n",
      "\n"
     ]
    },
    {
     "name": "stderr",
     "output_type": "stream",
     "text": [
      "<block>:1:18-37: info: atom does not occur in any rule head:\n",
      "  ext_indep(5,6,s8y1)\n",
      "\n",
      "<block>:1:20-37: info: atom does not occur in any rule head:\n",
      "  ext_dep(5,6,s8y3)\n",
      "\n",
      "<block>:1:22-41: info: atom does not occur in any rule head:\n",
      "  ext_dep(5,6,s8y1y3)\n",
      "\n"
     ]
    },
    {
     "name": "stderr",
     "output_type": "stream",
     "text": [
      "<block>:1:18-37: info: atom does not occur in any rule head:\n",
      "  ext_indep(5,6,s8y1)\n",
      "\n",
      "<block>:1:20-37: info: atom does not occur in any rule head:\n",
      "  ext_dep(3,6,s8y1)\n",
      "\n",
      "<block>:1:22-41: info: atom does not occur in any rule head:\n",
      "  ext_dep(5,6,s8y1y3)\n",
      "\n"
     ]
    },
    {
     "name": "stderr",
     "output_type": "stream",
     "text": [
      "<block>:1:18-37: info: atom does not occur in any rule head:\n",
      "  ext_indep(5,6,s8y1)\n",
      "\n",
      "<block>:1:20-37: info: atom does not occur in any rule head:\n",
      "  ext_dep(3,6,s8y1)\n",
      "\n",
      "<block>:1:22-41: info: atom does not occur in any rule head:\n",
      "  ext_dep(5,6,s8y1y3)\n",
      "\n"
     ]
    },
    {
     "name": "stderr",
     "output_type": "stream",
     "text": [
      "<block>:1:18-37: info: atom does not occur in any rule head:\n",
      "  ext_indep(5,6,s8y1)\n",
      "\n",
      "<block>:1:20-37: info: atom does not occur in any rule head:\n",
      "  ext_dep(5,6,s8y3)\n",
      "\n",
      "<block>:1:22-41: info: atom does not occur in any rule head:\n",
      "  ext_dep(5,6,s8y1y3)\n",
      "\n"
     ]
    },
    {
     "name": "stderr",
     "output_type": "stream",
     "text": [
      "<block>:1:18-37: info: atom does not occur in any rule head:\n",
      "  ext_indep(5,6,s8y1)\n",
      "\n",
      "<block>:1:20-37: info: atom does not occur in any rule head:\n",
      "  ext_dep(5,6,s8y3)\n",
      "\n",
      "<block>:1:22-41: info: atom does not occur in any rule head:\n",
      "  ext_dep(5,6,s8y1y3)\n",
      "\n"
     ]
    },
    {
     "name": "stderr",
     "output_type": "stream",
     "text": [
      "<block>:1:18-37: info: atom does not occur in any rule head:\n",
      "  ext_indep(5,6,s8y1)\n",
      "\n",
      "<block>:1:20-37: info: atom does not occur in any rule head:\n",
      "  ext_dep(1,6,s8y3)\n",
      "\n",
      "<block>:1:22-41: info: atom does not occur in any rule head:\n",
      "  ext_dep(5,6,s8y1y3)\n",
      "\n"
     ]
    },
    {
     "name": "stderr",
     "output_type": "stream",
     "text": [
      "<block>:1:18-37: info: atom does not occur in any rule head:\n",
      "  ext_indep(5,6,s8y1)\n",
      "\n",
      "<block>:1:20-37: info: atom does not occur in any rule head:\n",
      "  ext_dep(5,6,s8y3)\n",
      "\n",
      "<block>:1:22-41: info: atom does not occur in any rule head:\n",
      "  ext_dep(5,6,s8y1y3)\n",
      "\n"
     ]
    },
    {
     "name": "stderr",
     "output_type": "stream",
     "text": [
      "<block>:1:18-37: info: atom does not occur in any rule head:\n",
      "  ext_indep(5,6,s8y1)\n",
      "\n",
      "<block>:1:20-37: info: atom does not occur in any rule head:\n",
      "  ext_dep(5,6,s8y3)\n",
      "\n",
      "<block>:1:22-41: info: atom does not occur in any rule head:\n",
      "  ext_dep(5,6,s8y1y3)\n",
      "\n"
     ]
    },
    {
     "name": "stderr",
     "output_type": "stream",
     "text": [
      "<block>:1:18-37: info: atom does not occur in any rule head:\n",
      "  ext_indep(5,6,s8y1)\n",
      "\n",
      "<block>:1:20-37: info: atom does not occur in any rule head:\n",
      "  ext_dep(1,6,s8y3)\n",
      "\n",
      "<block>:1:22-41: info: atom does not occur in any rule head:\n",
      "  ext_dep(5,6,s8y1y3)\n",
      "\n",
      "<block>:1:18-37: info: atom does not occur in any rule head:\n",
      "  ext_indep(5,6,s8y1)\n",
      "\n",
      "<block>:1:20-37: info: atom does not occur in any rule head:\n",
      "  ext_dep(1,6,s8y3)\n",
      "\n",
      "<block>:1:22-41: info: atom does not occur in any rule head:\n",
      "  ext_dep(5,6,s8y1y3)\n",
      "\n",
      "<block>:1:18-37: info: atom does not occur in any rule head:\n",
      "  ext_indep(5,6,s8y1)\n",
      "\n",
      "<block>:1:20-37: info: atom does not occur in any rule head:\n",
      "  ext_dep(1,6,s8y3)\n",
      "\n",
      "<block>:1:22-41: info: atom does not occur in any rule head:\n",
      "  ext_dep(5,6,s8y1y3)\n",
      "\n"
     ]
    },
    {
     "name": "stderr",
     "output_type": "stream",
     "text": [
      "<block>:1:18-37: info: atom does not occur in any rule head:\n",
      "  ext_indep(5,6,s8y1)\n",
      "\n",
      "<block>:1:20-37: info: atom does not occur in any rule head:\n",
      "  ext_dep(1,6,s8y3)\n",
      "\n",
      "<block>:1:22-41: info: atom does not occur in any rule head:\n",
      "  ext_dep(5,6,s8y1y3)\n",
      "\n",
      "<block>:1:18-37: info: atom does not occur in any rule head:\n",
      "  ext_indep(5,6,s8y1)\n",
      "\n",
      "<block>:1:20-37: info: atom does not occur in any rule head:\n",
      "  ext_dep(1,6,s8y3)\n",
      "\n",
      "<block>:1:22-41: info: atom does not occur in any rule head:\n",
      "  ext_dep(5,6,s8y1y3)\n",
      "\n"
     ]
    },
    {
     "name": "stderr",
     "output_type": "stream",
     "text": [
      "<block>:1:18-37: info: atom does not occur in any rule head:\n",
      "  ext_indep(5,6,s8y1)\n",
      "\n",
      "<block>:1:20-37: info: atom does not occur in any rule head:\n",
      "  ext_dep(3,6,s8y1)\n",
      "\n",
      "<block>:1:22-41: info: atom does not occur in any rule head:\n",
      "  ext_dep(5,6,s8y1y3)\n",
      "\n",
      "<block>:1:18-37: info: atom does not occur in any rule head:\n",
      "  ext_indep(5,6,s8y1)\n",
      "\n",
      "<block>:1:20-37: info: atom does not occur in any rule head:\n",
      "  ext_dep(3,6,s8y1)\n",
      "\n",
      "<block>:1:22-41: info: atom does not occur in any rule head:\n",
      "  ext_dep(5,6,s8y1y3)\n",
      "\n"
     ]
    },
    {
     "name": "stderr",
     "output_type": "stream",
     "text": [
      "<block>:1:18-37: info: atom does not occur in any rule head:\n",
      "  ext_indep(5,6,s8y1)\n",
      "\n",
      "<block>:1:20-37: info: atom does not occur in any rule head:\n",
      "  ext_dep(3,6,s8y1)\n",
      "\n",
      "<block>:1:22-41: info: atom does not occur in any rule head:\n",
      "  ext_dep(5,6,s8y1y3)\n",
      "\n"
     ]
    },
    {
     "name": "stderr",
     "output_type": "stream",
     "text": [
      "<block>:1:18-37: info: atom does not occur in any rule head:\n",
      "  ext_indep(5,6,s8y1)\n",
      "\n",
      "<block>:1:20-37: info: atom does not occur in any rule head:\n",
      "  ext_dep(5,6,s8y3)\n",
      "\n",
      "<block>:1:22-41: info: atom does not occur in any rule head:\n",
      "  ext_dep(5,6,s8y1y3)\n",
      "\n"
     ]
    },
    {
     "name": "stderr",
     "output_type": "stream",
     "text": [
      "<block>:1:18-37: info: atom does not occur in any rule head:\n",
      "  ext_indep(5,6,s8y1)\n",
      "\n",
      "<block>:1:20-37: info: atom does not occur in any rule head:\n",
      "  ext_dep(3,6,s8y1)\n",
      "\n",
      "<block>:1:22-41: info: atom does not occur in any rule head:\n",
      "  ext_dep(5,6,s8y1y3)\n",
      "\n"
     ]
    },
    {
     "name": "stderr",
     "output_type": "stream",
     "text": [
      "<block>:1:18-37: info: atom does not occur in any rule head:\n",
      "  ext_indep(5,6,s8y1)\n",
      "\n",
      "<block>:1:20-37: info: atom does not occur in any rule head:\n",
      "  ext_dep(5,6,s8y3)\n",
      "\n",
      "<block>:1:22-41: info: atom does not occur in any rule head:\n",
      "  ext_dep(5,6,s8y1y3)\n",
      "\n"
     ]
    },
    {
     "name": "stderr",
     "output_type": "stream",
     "text": [
      "<block>:1:18-37: info: atom does not occur in any rule head:\n",
      "  ext_indep(5,6,s8y1)\n",
      "\n",
      "<block>:1:20-37: info: atom does not occur in any rule head:\n",
      "  ext_dep(3,6,s8y1)\n",
      "\n",
      "<block>:1:22-41: info: atom does not occur in any rule head:\n",
      "  ext_dep(5,6,s8y1y3)\n",
      "\n"
     ]
    },
    {
     "name": "stderr",
     "output_type": "stream",
     "text": [
      "<block>:1:18-37: info: atom does not occur in any rule head:\n",
      "  ext_indep(5,6,s8y1)\n",
      "\n",
      "<block>:1:20-37: info: atom does not occur in any rule head:\n",
      "  ext_dep(5,6,s8y3)\n",
      "\n",
      "<block>:1:22-41: info: atom does not occur in any rule head:\n",
      "  ext_dep(5,6,s8y1y3)\n",
      "\n"
     ]
    },
    {
     "name": "stderr",
     "output_type": "stream",
     "text": [
      "<block>:1:18-37: info: atom does not occur in any rule head:\n",
      "  ext_indep(5,6,s8y1)\n",
      "\n",
      "<block>:1:20-37: info: atom does not occur in any rule head:\n",
      "  ext_dep(1,6,s8y3)\n",
      "\n",
      "<block>:1:22-41: info: atom does not occur in any rule head:\n",
      "  ext_dep(5,6,s8y1y3)\n",
      "\n"
     ]
    },
    {
     "name": "stderr",
     "output_type": "stream",
     "text": [
      "<block>:1:18-37: info: atom does not occur in any rule head:\n",
      "  ext_indep(5,6,s8y1)\n",
      "\n",
      "<block>:1:20-37: info: atom does not occur in any rule head:\n",
      "  ext_dep(5,6,s8y3)\n",
      "\n",
      "<block>:1:22-41: info: atom does not occur in any rule head:\n",
      "  ext_dep(5,6,s8y1y3)\n",
      "\n"
     ]
    },
    {
     "name": "stderr",
     "output_type": "stream",
     "text": [
      "<block>:1:18-37: info: atom does not occur in any rule head:\n",
      "  ext_indep(5,6,s8y1)\n",
      "\n",
      "<block>:1:20-37: info: atom does not occur in any rule head:\n",
      "  ext_dep(3,6,s8y1)\n",
      "\n",
      "<block>:1:22-41: info: atom does not occur in any rule head:\n",
      "  ext_dep(5,6,s8y1y3)\n",
      "\n"
     ]
    },
    {
     "name": "stderr",
     "output_type": "stream",
     "text": [
      "<block>:1:18-37: info: atom does not occur in any rule head:\n",
      "  ext_indep(5,6,s8y1)\n",
      "\n",
      "<block>:1:20-37: info: atom does not occur in any rule head:\n",
      "  ext_dep(1,6,s8y3)\n",
      "\n",
      "<block>:1:22-41: info: atom does not occur in any rule head:\n",
      "  ext_dep(5,6,s8y1y3)\n",
      "\n"
     ]
    },
    {
     "name": "stderr",
     "output_type": "stream",
     "text": [
      "<block>:1:18-37: info: atom does not occur in any rule head:\n",
      "  ext_indep(5,6,s8y1)\n",
      "\n",
      "<block>:1:20-37: info: atom does not occur in any rule head:\n",
      "  ext_dep(5,6,s8y3)\n",
      "\n",
      "<block>:1:22-41: info: atom does not occur in any rule head:\n",
      "  ext_dep(5,6,s8y1y3)\n",
      "\n"
     ]
    },
    {
     "name": "stderr",
     "output_type": "stream",
     "text": [
      "<block>:1:18-37: info: atom does not occur in any rule head:\n",
      "  ext_indep(5,6,s8y1)\n",
      "\n",
      "<block>:1:20-37: info: atom does not occur in any rule head:\n",
      "  ext_dep(5,6,s8y3)\n",
      "\n",
      "<block>:1:22-41: info: atom does not occur in any rule head:\n",
      "  ext_dep(5,6,s8y1y3)\n",
      "\n"
     ]
    },
    {
     "name": "stderr",
     "output_type": "stream",
     "text": [
      "<block>:1:18-37: info: atom does not occur in any rule head:\n",
      "  ext_indep(5,6,s8y1)\n",
      "\n",
      "<block>:1:20-37: info: atom does not occur in any rule head:\n",
      "  ext_dep(5,6,s8y3)\n",
      "\n",
      "<block>:1:22-41: info: atom does not occur in any rule head:\n",
      "  ext_dep(5,6,s8y1y3)\n",
      "\n"
     ]
    },
    {
     "name": "stderr",
     "output_type": "stream",
     "text": [
      "<block>:1:18-37: info: atom does not occur in any rule head:\n",
      "  ext_indep(5,6,s8y1)\n",
      "\n",
      "<block>:1:20-37: info: atom does not occur in any rule head:\n",
      "  ext_dep(5,6,s8y3)\n",
      "\n",
      "<block>:1:22-41: info: atom does not occur in any rule head:\n",
      "  ext_dep(5,6,s8y1y3)\n",
      "\n",
      "<block>:1:18-37: info: atom does not occur in any rule head:\n",
      "  ext_indep(5,6,s8y1)\n",
      "\n",
      "<block>:1:20-37: info: atom does not occur in any rule head:\n",
      "  ext_dep(5,6,s8y3)\n",
      "\n",
      "<block>:1:22-41: info: atom does not occur in any rule head:\n",
      "  ext_dep(5,6,s8y1y3)\n",
      "\n",
      "<block>:1:18-37: info: atom does not occur in any rule head:\n",
      "  ext_indep(5,6,s8y1)\n",
      "\n",
      "<block>:1:20-37: info: atom does not occur in any rule head:\n",
      "  ext_dep(3,6,s8y1)\n",
      "\n",
      "<block>:1:22-41: info: atom does not occur in any rule head:\n",
      "  ext_dep(5,6,s8y1y3)\n",
      "\n"
     ]
    },
    {
     "name": "stderr",
     "output_type": "stream",
     "text": [
      "<block>:1:18-37: info: atom does not occur in any rule head:\n",
      "  ext_indep(5,6,s8y1)\n",
      "\n",
      "<block>:1:20-37: info: atom does not occur in any rule head:\n",
      "  ext_dep(3,6,s8y1)\n",
      "\n",
      "<block>:1:22-41: info: atom does not occur in any rule head:\n",
      "  ext_dep(5,6,s8y1y3)\n",
      "\n",
      "<block>:1:18-37: info: atom does not occur in any rule head:\n",
      "  ext_indep(5,6,s8y1)\n",
      "\n",
      "<block>:1:20-37: info: atom does not occur in any rule head:\n",
      "  ext_dep(5,6,s8y3)\n",
      "\n",
      "<block>:1:22-41: info: atom does not occur in any rule head:\n",
      "  ext_dep(5,6,s8y1y3)\n",
      "\n",
      "<block>:1:18-37: info: atom does not occur in any rule head:\n",
      "  ext_indep(5,6,s8y1)\n",
      "\n",
      "<block>:1:20-37: info: atom does not occur in any rule head:\n",
      "  ext_dep(1,6,s8y3)\n",
      "\n",
      "<block>:1:22-41: info: atom does not occur in any rule head:\n",
      "  ext_dep(5,6,s8y1y3)\n",
      "\n"
     ]
    },
    {
     "name": "stderr",
     "output_type": "stream",
     "text": [
      "<block>:1:18-37: info: atom does not occur in any rule head:\n",
      "  ext_indep(5,6,s8y1)\n",
      "\n",
      "<block>:1:20-37: info: atom does not occur in any rule head:\n",
      "  ext_dep(1,6,s8y3)\n",
      "\n",
      "<block>:1:22-41: info: atom does not occur in any rule head:\n",
      "  ext_dep(5,6,s8y1y3)\n",
      "\n",
      "<block>:1:18-37: info: atom does not occur in any rule head:\n",
      "  ext_indep(5,6,s8y1)\n",
      "\n",
      "<block>:1:20-37: info: atom does not occur in any rule head:\n",
      "  ext_dep(5,6,s8y3)\n",
      "\n",
      "<block>:1:22-41: info: atom does not occur in any rule head:\n",
      "  ext_dep(5,6,s8y1y3)\n",
      "\n"
     ]
    },
    {
     "name": "stderr",
     "output_type": "stream",
     "text": [
      "<block>:1:18-37: info: atom does not occur in any rule head:\n",
      "  ext_indep(5,6,s8y1)\n",
      "\n",
      "<block>:1:20-37: info: atom does not occur in any rule head:\n",
      "  ext_dep(5,6,s8y3)\n",
      "\n",
      "<block>:1:22-41: info: atom does not occur in any rule head:\n",
      "  ext_dep(5,6,s8y1y3)\n",
      "\n",
      "<block>:1:45-60: info: atom does not occur in any rule head:\n",
      "  ap(5,7,#P0,empty)\n",
      "\n",
      "<block>:1:18-37: info: atom does not occur in any rule head:\n",
      "  ext_indep(5,6,s8y1)\n",
      "\n",
      "<block>:1:20-37: info: atom does not occur in any rule head:\n",
      "  ext_dep(5,6,s8y3)\n",
      "\n",
      "<block>:1:22-41: info: atom does not occur in any rule head:\n",
      "  ext_dep(5,6,s8y1y3)\n",
      "\n",
      "<block>:1:18-37: info: atom does not occur in any rule head:\n",
      "  ext_indep(5,6,s8y1)\n",
      "\n",
      "<block>:1:20-37: info: atom does not occur in any rule head:\n",
      "  ext_dep(3,6,s8y1)\n",
      "\n",
      "<block>:1:22-41: info: atom does not occur in any rule head:\n",
      "  ext_dep(5,6,s8y1y3)\n",
      "\n"
     ]
    },
    {
     "name": "stderr",
     "output_type": "stream",
     "text": [
      "<block>:1:18-37: info: atom does not occur in any rule head:\n",
      "  ext_indep(5,6,s8y1)\n",
      "\n",
      "<block>:1:20-37: info: atom does not occur in any rule head:\n",
      "  ext_dep(1,6,s8y3)\n",
      "\n",
      "<block>:1:22-41: info: atom does not occur in any rule head:\n",
      "  ext_dep(5,6,s8y1y3)\n",
      "\n",
      "<block>:1:18-37: info: atom does not occur in any rule head:\n",
      "  ext_indep(5,6,s8y1)\n",
      "\n",
      "<block>:1:20-37: info: atom does not occur in any rule head:\n",
      "  ext_dep(3,6,s8y1)\n",
      "\n",
      "<block>:1:22-41: info: atom does not occur in any rule head:\n",
      "  ext_dep(5,6,s8y1y3)\n",
      "\n"
     ]
    },
    {
     "name": "stderr",
     "output_type": "stream",
     "text": [
      "<block>:1:18-37: info: atom does not occur in any rule head:\n",
      "  ext_indep(5,6,s8y1)\n",
      "\n",
      "<block>:1:20-37: info: atom does not occur in any rule head:\n",
      "  ext_dep(1,6,s8y3)\n",
      "\n",
      "<block>:1:22-41: info: atom does not occur in any rule head:\n",
      "  ext_dep(5,6,s8y1y3)\n",
      "\n"
     ]
    },
    {
     "name": "stderr",
     "output_type": "stream",
     "text": [
      "<block>:1:18-37: info: atom does not occur in any rule head:\n",
      "  ext_indep(5,6,s8y1)\n",
      "\n",
      "<block>:1:20-37: info: atom does not occur in any rule head:\n",
      "  ext_dep(1,6,s8y3)\n",
      "\n",
      "<block>:1:22-41: info: atom does not occur in any rule head:\n",
      "  ext_dep(5,6,s8y1y3)\n",
      "\n"
     ]
    },
    {
     "name": "stderr",
     "output_type": "stream",
     "text": [
      "<block>:1:18-37: info: atom does not occur in any rule head:\n",
      "  ext_indep(5,6,s8y1)\n",
      "\n",
      "<block>:1:20-37: info: atom does not occur in any rule head:\n",
      "  ext_dep(3,6,s8y1)\n",
      "\n",
      "<block>:1:22-41: info: atom does not occur in any rule head:\n",
      "  ext_dep(5,6,s8y1y3)\n",
      "\n"
     ]
    },
    {
     "name": "stderr",
     "output_type": "stream",
     "text": [
      "<block>:1:18-37: info: atom does not occur in any rule head:\n",
      "  ext_indep(5,6,s8y1)\n",
      "\n",
      "<block>:1:20-37: info: atom does not occur in any rule head:\n",
      "  ext_dep(3,6,s8y1)\n",
      "\n",
      "<block>:1:22-41: info: atom does not occur in any rule head:\n",
      "  ext_dep(5,6,s8y1y3)\n",
      "\n"
     ]
    },
    {
     "name": "stderr",
     "output_type": "stream",
     "text": [
      "<block>:1:18-37: info: atom does not occur in any rule head:\n",
      "  ext_indep(5,6,s8y1)\n",
      "\n",
      "<block>:1:20-37: info: atom does not occur in any rule head:\n",
      "  ext_dep(5,6,s8y3)\n",
      "\n",
      "<block>:1:22-41: info: atom does not occur in any rule head:\n",
      "  ext_dep(5,6,s8y1y3)\n",
      "\n",
      "<block>:1:45-60: info: atom does not occur in any rule head:\n",
      "  ap(5,7,#P0,empty)\n",
      "\n",
      "<block>:1:18-37: info: atom does not occur in any rule head:\n",
      "  ext_indep(5,6,s8y1)\n",
      "\n",
      "<block>:1:20-37: info: atom does not occur in any rule head:\n",
      "  ext_dep(5,6,s8y3)\n",
      "\n",
      "<block>:1:22-41: info: atom does not occur in any rule head:\n",
      "  ext_dep(5,6,s8y1y3)\n",
      "\n",
      "<block>:1:18-37: info: atom does not occur in any rule head:\n",
      "  ext_indep(5,6,s8y1)\n",
      "\n",
      "<block>:1:20-37: info: atom does not occur in any rule head:\n",
      "  ext_dep(3,6,s8y1)\n",
      "\n",
      "<block>:1:22-41: info: atom does not occur in any rule head:\n",
      "  ext_dep(5,6,s8y1y3)\n",
      "\n"
     ]
    },
    {
     "name": "stderr",
     "output_type": "stream",
     "text": [
      "<block>:1:18-37: info: atom does not occur in any rule head:\n",
      "  ext_indep(5,6,s8y1)\n",
      "\n",
      "<block>:1:20-37: info: atom does not occur in any rule head:\n",
      "  ext_dep(1,6,s8y3)\n",
      "\n",
      "<block>:1:22-41: info: atom does not occur in any rule head:\n",
      "  ext_dep(5,6,s8y1y3)\n",
      "\n",
      "<block>:1:18-37: info: atom does not occur in any rule head:\n",
      "  ext_indep(5,6,s8y1)\n",
      "\n",
      "<block>:1:20-37: info: atom does not occur in any rule head:\n",
      "  ext_dep(3,6,s8y1)\n",
      "\n",
      "<block>:1:22-41: info: atom does not occur in any rule head:\n",
      "  ext_dep(5,6,s8y1y3)\n",
      "\n"
     ]
    },
    {
     "name": "stderr",
     "output_type": "stream",
     "text": [
      "<block>:1:18-37: info: atom does not occur in any rule head:\n",
      "  ext_indep(5,6,s8y1)\n",
      "\n",
      "<block>:1:20-37: info: atom does not occur in any rule head:\n",
      "  ext_dep(1,6,s8y3)\n",
      "\n",
      "<block>:1:22-41: info: atom does not occur in any rule head:\n",
      "  ext_dep(5,6,s8y1y3)\n",
      "\n"
     ]
    },
    {
     "name": "stderr",
     "output_type": "stream",
     "text": [
      "<block>:1:18-37: info: atom does not occur in any rule head:\n",
      "  ext_indep(5,6,s8y1)\n",
      "\n",
      "<block>:1:20-37: info: atom does not occur in any rule head:\n",
      "  ext_dep(1,6,s8y3)\n",
      "\n",
      "<block>:1:22-41: info: atom does not occur in any rule head:\n",
      "  ext_dep(5,6,s8y1y3)\n",
      "\n"
     ]
    },
    {
     "name": "stderr",
     "output_type": "stream",
     "text": [
      "<block>:1:18-37: info: atom does not occur in any rule head:\n",
      "  ext_indep(5,6,s8y1)\n",
      "\n",
      "<block>:1:20-37: info: atom does not occur in any rule head:\n",
      "  ext_dep(3,6,s8y1)\n",
      "\n",
      "<block>:1:22-41: info: atom does not occur in any rule head:\n",
      "  ext_dep(5,6,s8y1y3)\n",
      "\n"
     ]
    },
    {
     "name": "stderr",
     "output_type": "stream",
     "text": [
      "<block>:1:18-37: info: atom does not occur in any rule head:\n",
      "  ext_indep(5,6,s8y1)\n",
      "\n",
      "<block>:1:20-37: info: atom does not occur in any rule head:\n",
      "  ext_dep(3,6,s8y1)\n",
      "\n",
      "<block>:1:22-41: info: atom does not occur in any rule head:\n",
      "  ext_dep(5,6,s8y1y3)\n",
      "\n"
     ]
    },
    {
     "name": "stderr",
     "output_type": "stream",
     "text": [
      "<block>:1:18-37: info: atom does not occur in any rule head:\n",
      "  ext_indep(5,6,s8y1)\n",
      "\n",
      "<block>:1:20-37: info: atom does not occur in any rule head:\n",
      "  ext_dep(3,6,s8y1)\n",
      "\n",
      "<block>:1:22-41: info: atom does not occur in any rule head:\n",
      "  ext_dep(5,6,s8y1y3)\n",
      "\n",
      "<block>:1:18-37: info: atom does not occur in any rule head:\n",
      "  ext_indep(5,6,s8y1)\n",
      "\n",
      "<block>:1:20-37: info: atom does not occur in any rule head:\n",
      "  ext_dep(3,6,s8y1)\n",
      "\n",
      "<block>:1:22-41: info: atom does not occur in any rule head:\n",
      "  ext_dep(5,6,s8y1y3)\n",
      "\n",
      "<block>:1:18-37: info: atom does not occur in any rule head:\n",
      "  ext_indep(5,6,s8y1)\n",
      "\n",
      "<block>:1:20-37: info: atom does not occur in any rule head:\n",
      "  ext_dep(3,6,s8y1)\n",
      "\n",
      "<block>:1:22-41: info: atom does not occur in any rule head:\n",
      "  ext_dep(5,6,s8y1y3)\n",
      "\n"
     ]
    },
    {
     "name": "stderr",
     "output_type": "stream",
     "text": [
      "<block>:1:18-37: info: atom does not occur in any rule head:\n",
      "  ext_indep(5,6,s8y1)\n",
      "\n",
      "<block>:1:20-37: info: atom does not occur in any rule head:\n",
      "  ext_dep(3,6,s8y1)\n",
      "\n",
      "<block>:1:22-41: info: atom does not occur in any rule head:\n",
      "  ext_dep(5,6,s8y1y3)\n",
      "\n",
      "<block>:1:18-37: info: atom does not occur in any rule head:\n",
      "  ext_indep(5,6,s8y1)\n",
      "\n",
      "<block>:1:20-37: info: atom does not occur in any rule head:\n",
      "  ext_dep(3,6,s8y1)\n",
      "\n",
      "<block>:1:22-41: info: atom does not occur in any rule head:\n",
      "  ext_dep(5,6,s8y1y3)\n",
      "\n",
      "<block>:1:18-37: info: atom does not occur in any rule head:\n",
      "  ext_indep(5,6,s8y1)\n",
      "\n",
      "<block>:1:20-37: info: atom does not occur in any rule head:\n",
      "  ext_dep(1,6,s8y3)\n",
      "\n",
      "<block>:1:22-41: info: atom does not occur in any rule head:\n",
      "  ext_dep(5,6,s8y1y3)\n",
      "\n"
     ]
    },
    {
     "name": "stderr",
     "output_type": "stream",
     "text": [
      "<block>:1:18-37: info: atom does not occur in any rule head:\n",
      "  ext_indep(5,6,s8y1)\n",
      "\n",
      "<block>:1:20-37: info: atom does not occur in any rule head:\n",
      "  ext_dep(3,6,s8y1)\n",
      "\n",
      "<block>:1:22-41: info: atom does not occur in any rule head:\n",
      "  ext_dep(5,6,s8y1y3)\n",
      "\n",
      "<block>:1:18-37: info: atom does not occur in any rule head:\n",
      "  ext_indep(5,6,s8y1)\n",
      "\n",
      "<block>:1:20-37: info: atom does not occur in any rule head:\n",
      "  ext_dep(3,6,s8y1)\n",
      "\n",
      "<block>:1:22-41: info: atom does not occur in any rule head:\n",
      "  ext_dep(5,6,s8y1y3)\n",
      "\n",
      "<block>:1:18-37: info: atom does not occur in any rule head:\n",
      "  ext_indep(5,6,s8y1)\n",
      "\n",
      "<block>:1:20-37: info: atom does not occur in any rule head:\n",
      "  ext_dep(3,6,s8y1)\n",
      "\n",
      "<block>:1:22-41: info: atom does not occur in any rule head:\n",
      "  ext_dep(5,6,s8y1y3)\n",
      "\n"
     ]
    },
    {
     "name": "stderr",
     "output_type": "stream",
     "text": [
      "<block>:1:18-37: info: atom does not occur in any rule head:\n",
      "  ext_indep(5,6,s8y1)\n",
      "\n",
      "<block>:1:20-37: info: atom does not occur in any rule head:\n",
      "  ext_dep(3,6,s8y1)\n",
      "\n",
      "<block>:1:22-41: info: atom does not occur in any rule head:\n",
      "  ext_dep(5,6,s8y1y3)\n",
      "\n",
      "<block>:1:18-37: info: atom does not occur in any rule head:\n",
      "  ext_indep(5,6,s8y1)\n",
      "\n",
      "<block>:1:20-37: info: atom does not occur in any rule head:\n",
      "  ext_dep(1,6,s8y3)\n",
      "\n",
      "<block>:1:22-41: info: atom does not occur in any rule head:\n",
      "  ext_dep(5,6,s8y1y3)\n",
      "\n"
     ]
    },
    {
     "name": "stderr",
     "output_type": "stream",
     "text": [
      "<block>:1:18-37: info: atom does not occur in any rule head:\n",
      "  ext_indep(5,6,s8y1)\n",
      "\n",
      "<block>:1:20-37: info: atom does not occur in any rule head:\n",
      "  ext_dep(3,6,s8y1)\n",
      "\n",
      "<block>:1:22-41: info: atom does not occur in any rule head:\n",
      "  ext_dep(5,6,s8y1y3)\n",
      "\n",
      "<block>:1:18-37: info: atom does not occur in any rule head:\n",
      "  ext_indep(5,6,s8y1)\n",
      "\n",
      "<block>:1:20-37: info: atom does not occur in any rule head:\n",
      "  ext_dep(1,6,s8y3)\n",
      "\n",
      "<block>:1:22-41: info: atom does not occur in any rule head:\n",
      "  ext_dep(5,6,s8y1y3)\n",
      "\n"
     ]
    },
    {
     "name": "stderr",
     "output_type": "stream",
     "text": [
      "<block>:1:18-37: info: atom does not occur in any rule head:\n",
      "  ext_indep(5,6,s8y1)\n",
      "\n",
      "<block>:1:20-37: info: atom does not occur in any rule head:\n",
      "  ext_dep(1,6,s8y3)\n",
      "\n",
      "<block>:1:22-41: info: atom does not occur in any rule head:\n",
      "  ext_dep(5,6,s8y1y3)\n",
      "\n"
     ]
    },
    {
     "name": "stderr",
     "output_type": "stream",
     "text": [
      "<block>:1:18-37: info: atom does not occur in any rule head:\n",
      "  ext_indep(5,6,s8y1)\n",
      "\n",
      "<block>:1:20-37: info: atom does not occur in any rule head:\n",
      "  ext_dep(3,6,s8y1)\n",
      "\n",
      "<block>:1:22-41: info: atom does not occur in any rule head:\n",
      "  ext_dep(5,6,s8y1y3)\n",
      "\n",
      "<block>:1:18-37: info: atom does not occur in any rule head:\n",
      "  ext_indep(5,6,s8y1)\n",
      "\n",
      "<block>:1:20-37: info: atom does not occur in any rule head:\n",
      "  ext_dep(3,6,s8y1)\n",
      "\n",
      "<block>:1:22-41: info: atom does not occur in any rule head:\n",
      "  ext_dep(5,6,s8y1y3)\n",
      "\n",
      "<block>:1:18-37: info: atom does not occur in any rule head:\n",
      "  ext_indep(5,6,s8y1)\n",
      "\n",
      "<block>:1:20-37: info: atom does not occur in any rule head:\n",
      "  ext_dep(1,6,s8y3)\n",
      "\n",
      "<block>:1:22-41: info: atom does not occur in any rule head:\n",
      "  ext_dep(5,6,s8y1y3)\n",
      "\n"
     ]
    },
    {
     "name": "stderr",
     "output_type": "stream",
     "text": [
      "<block>:1:18-37: info: atom does not occur in any rule head:\n",
      "  ext_indep(5,6,s8y1)\n",
      "\n",
      "<block>:1:20-37: info: atom does not occur in any rule head:\n",
      "  ext_dep(1,6,s8y3)\n",
      "\n",
      "<block>:1:22-41: info: atom does not occur in any rule head:\n",
      "  ext_dep(5,6,s8y1y3)\n",
      "\n",
      "<block>:1:20-37: info: atom does not occur in any rule head:\n",
      "  ext_dep(1,6,s8y3)\n",
      "\n",
      "<block>:1:22-41: info: atom does not occur in any rule head:\n",
      "  ext_dep(5,6,s8y1y3)\n",
      "\n"
     ]
    },
    {
     "name": "stderr",
     "output_type": "stream",
     "text": [
      "<block>:1:20-37: info: atom does not occur in any rule head:\n",
      "  ext_dep(1,6,s8y3)\n",
      "\n",
      "<block>:1:22-41: info: atom does not occur in any rule head:\n",
      "  ext_dep(5,6,s8y1y3)\n",
      "\n",
      "<block>:1:20-37: info: atom does not occur in any rule head:\n",
      "  ext_dep(1,6,s8y3)\n",
      "\n",
      "<block>:1:22-41: info: atom does not occur in any rule head:\n",
      "  ext_dep(5,6,s8y1y3)\n",
      "\n"
     ]
    },
    {
     "name": "stderr",
     "output_type": "stream",
     "text": [
      "<block>:1:20-37: info: atom does not occur in any rule head:\n",
      "  ext_dep(1,6,s8y3)\n",
      "\n",
      "<block>:1:22-41: info: atom does not occur in any rule head:\n",
      "  ext_dep(5,6,s8y1y3)\n",
      "\n"
     ]
    },
    {
     "name": "stderr",
     "output_type": "stream",
     "text": [
      "<block>:1:20-37: info: atom does not occur in any rule head:\n",
      "  ext_dep(3,6,s8y1)\n",
      "\n",
      "<block>:1:22-41: info: atom does not occur in any rule head:\n",
      "  ext_dep(5,6,s8y1y3)\n",
      "\n"
     ]
    },
    {
     "name": "stderr",
     "output_type": "stream",
     "text": [
      "<block>:1:20-37: info: atom does not occur in any rule head:\n",
      "  ext_dep(3,6,s8y1)\n",
      "\n",
      "<block>:1:22-41: info: atom does not occur in any rule head:\n",
      "  ext_dep(5,6,s8y1y3)\n",
      "\n"
     ]
    },
    {
     "name": "stderr",
     "output_type": "stream",
     "text": [
      "<block>:1:20-37: info: atom does not occur in any rule head:\n",
      "  ext_dep(5,6,s8y3)\n",
      "\n",
      "<block>:1:22-41: info: atom does not occur in any rule head:\n",
      "  ext_dep(5,6,s8y1y3)\n",
      "\n"
     ]
    },
    {
     "name": "stderr",
     "output_type": "stream",
     "text": [
      "<block>:1:20-37: info: atom does not occur in any rule head:\n",
      "  ext_dep(3,6,s8y1)\n",
      "\n",
      "<block>:1:22-41: info: atom does not occur in any rule head:\n",
      "  ext_dep(5,6,s8y1y3)\n",
      "\n"
     ]
    },
    {
     "name": "stderr",
     "output_type": "stream",
     "text": [
      "<block>:1:20-37: info: atom does not occur in any rule head:\n",
      "  ext_dep(1,6,s8y3)\n",
      "\n",
      "<block>:1:22-41: info: atom does not occur in any rule head:\n",
      "  ext_dep(5,6,s8y1y3)\n",
      "\n"
     ]
    },
    {
     "name": "stderr",
     "output_type": "stream",
     "text": [
      "<block>:1:20-37: info: atom does not occur in any rule head:\n",
      "  ext_dep(3,6,s8y1)\n",
      "\n",
      "<block>:1:22-41: info: atom does not occur in any rule head:\n",
      "  ext_dep(5,6,s8y1y3)\n",
      "\n"
     ]
    },
    {
     "name": "stderr",
     "output_type": "stream",
     "text": [
      "<block>:1:20-37: info: atom does not occur in any rule head:\n",
      "  ext_dep(3,6,s8y1)\n",
      "\n",
      "<block>:1:22-41: info: atom does not occur in any rule head:\n",
      "  ext_dep(5,6,s8y1y3)\n",
      "\n"
     ]
    },
    {
     "name": "stderr",
     "output_type": "stream",
     "text": [
      "<block>:1:18-37: info: atom does not occur in any rule head:\n",
      "  ext_indep(5,6,s8y1)\n",
      "\n",
      "<block>:1:20-37: info: atom does not occur in any rule head:\n",
      "  ext_dep(3,6,s8y1)\n",
      "\n",
      "<block>:1:22-41: info: atom does not occur in any rule head:\n",
      "  ext_dep(5,6,s8y1y3)\n",
      "\n",
      "<block>:1:18-37: info: atom does not occur in any rule head:\n",
      "  ext_indep(5,6,s8y1)\n",
      "\n",
      "<block>:1:20-37: info: atom does not occur in any rule head:\n",
      "  ext_dep(3,6,s8y1)\n",
      "\n",
      "<block>:1:22-41: info: atom does not occur in any rule head:\n",
      "  ext_dep(5,6,s8y1y3)\n",
      "\n",
      "<block>:1:18-37: info: atom does not occur in any rule head:\n",
      "  ext_indep(5,6,s8y1)\n",
      "\n",
      "<block>:1:20-37: info: atom does not occur in any rule head:\n",
      "  ext_dep(1,6,s8y3)\n",
      "\n",
      "<block>:1:22-41: info: atom does not occur in any rule head:\n",
      "  ext_dep(5,6,s8y1y3)\n",
      "\n"
     ]
    },
    {
     "name": "stderr",
     "output_type": "stream",
     "text": [
      "<block>:1:18-37: info: atom does not occur in any rule head:\n",
      "  ext_indep(5,6,s8y1)\n",
      "\n",
      "<block>:1:20-37: info: atom does not occur in any rule head:\n",
      "  ext_dep(1,6,s8y3)\n",
      "\n",
      "<block>:1:22-41: info: atom does not occur in any rule head:\n",
      "  ext_dep(5,6,s8y1y3)\n",
      "\n",
      "<block>:1:20-37: info: atom does not occur in any rule head:\n",
      "  ext_dep(5,6,s8y3)\n",
      "\n",
      "<block>:1:22-41: info: atom does not occur in any rule head:\n",
      "  ext_dep(5,6,s8y1y3)\n",
      "\n"
     ]
    },
    {
     "name": "stderr",
     "output_type": "stream",
     "text": [
      "<block>:1:20-37: info: atom does not occur in any rule head:\n",
      "  ext_dep(3,6,s8y1)\n",
      "\n",
      "<block>:1:22-41: info: atom does not occur in any rule head:\n",
      "  ext_dep(5,6,s8y1y3)\n",
      "\n",
      "<block>:1:20-37: info: atom does not occur in any rule head:\n",
      "  ext_dep(1,6,s8y3)\n",
      "\n",
      "<block>:1:22-41: info: atom does not occur in any rule head:\n",
      "  ext_dep(5,6,s8y1y3)\n",
      "\n"
     ]
    },
    {
     "name": "stderr",
     "output_type": "stream",
     "text": [
      "<block>:1:20-37: info: atom does not occur in any rule head:\n",
      "  ext_dep(5,6,s8y3)\n",
      "\n",
      "<block>:1:22-41: info: atom does not occur in any rule head:\n",
      "  ext_dep(5,6,s8y1y3)\n",
      "\n"
     ]
    },
    {
     "name": "stderr",
     "output_type": "stream",
     "text": [
      "<block>:1:20-37: info: atom does not occur in any rule head:\n",
      "  ext_dep(3,6,s8y1)\n",
      "\n",
      "<block>:1:22-41: info: atom does not occur in any rule head:\n",
      "  ext_dep(5,6,s8y1y3)\n",
      "\n"
     ]
    },
    {
     "name": "stderr",
     "output_type": "stream",
     "text": [
      "<block>:1:20-37: info: atom does not occur in any rule head:\n",
      "  ext_dep(3,6,s8y1)\n",
      "\n",
      "<block>:1:22-41: info: atom does not occur in any rule head:\n",
      "  ext_dep(5,6,s8y1y3)\n",
      "\n"
     ]
    },
    {
     "name": "stderr",
     "output_type": "stream",
     "text": [
      "<block>:1:20-37: info: atom does not occur in any rule head:\n",
      "  ext_dep(3,6,s8y1)\n",
      "\n",
      "<block>:1:22-41: info: atom does not occur in any rule head:\n",
      "  ext_dep(5,6,s8y1y3)\n",
      "\n"
     ]
    },
    {
     "name": "stderr",
     "output_type": "stream",
     "text": [
      "<block>:1:20-37: info: atom does not occur in any rule head:\n",
      "  ext_dep(1,6,s8y3)\n",
      "\n",
      "<block>:1:22-41: info: atom does not occur in any rule head:\n",
      "  ext_dep(5,6,s8y1y3)\n",
      "\n"
     ]
    },
    {
     "name": "stderr",
     "output_type": "stream",
     "text": [
      "<block>:1:20-37: info: atom does not occur in any rule head:\n",
      "  ext_dep(3,6,s8y1)\n",
      "\n",
      "<block>:1:22-41: info: atom does not occur in any rule head:\n",
      "  ext_dep(5,6,s8y1y3)\n",
      "\n"
     ]
    },
    {
     "name": "stderr",
     "output_type": "stream",
     "text": [
      "<block>:1:20-37: info: atom does not occur in any rule head:\n",
      "  ext_dep(1,6,s8y3)\n",
      "\n",
      "<block>:1:22-41: info: atom does not occur in any rule head:\n",
      "  ext_dep(5,6,s8y1y3)\n",
      "\n"
     ]
    },
    {
     "name": "stderr",
     "output_type": "stream",
     "text": [
      "<block>:1:20-37: info: atom does not occur in any rule head:\n",
      "  ext_dep(3,6,s8y1)\n",
      "\n",
      "<block>:1:22-41: info: atom does not occur in any rule head:\n",
      "  ext_dep(5,6,s8y1y3)\n",
      "\n"
     ]
    },
    {
     "name": "stderr",
     "output_type": "stream",
     "text": [
      "<block>:1:18-37: info: atom does not occur in any rule head:\n",
      "  ext_indep(5,6,s8y1)\n",
      "\n",
      "<block>:1:20-37: info: atom does not occur in any rule head:\n",
      "  ext_dep(5,6,s8y3)\n",
      "\n",
      "<block>:1:22-41: info: atom does not occur in any rule head:\n",
      "  ext_dep(5,6,s8y1y3)\n",
      "\n",
      "<block>:1:18-37: info: atom does not occur in any rule head:\n",
      "  ext_indep(5,6,s8y1)\n",
      "\n",
      "<block>:1:20-37: info: atom does not occur in any rule head:\n",
      "  ext_dep(3,6,s8y1)\n",
      "\n",
      "<block>:1:22-41: info: atom does not occur in any rule head:\n",
      "  ext_dep(5,6,s8y1y3)\n",
      "\n",
      "<block>:1:18-37: info: atom does not occur in any rule head:\n",
      "  ext_indep(5,6,s8y1)\n",
      "\n",
      "<block>:1:20-37: info: atom does not occur in any rule head:\n",
      "  ext_dep(5,6,s8y3)\n",
      "\n",
      "<block>:1:22-41: info: atom does not occur in any rule head:\n",
      "  ext_dep(5,6,s8y1y3)\n",
      "\n"
     ]
    },
    {
     "name": "stderr",
     "output_type": "stream",
     "text": [
      "<block>:1:18-37: info: atom does not occur in any rule head:\n",
      "  ext_indep(5,6,s8y1)\n",
      "\n",
      "<block>:1:20-37: info: atom does not occur in any rule head:\n",
      "  ext_dep(3,6,s8y1)\n",
      "\n",
      "<block>:1:22-41: info: atom does not occur in any rule head:\n",
      "  ext_dep(5,6,s8y1y3)\n",
      "\n"
     ]
    },
    {
     "name": "stderr",
     "output_type": "stream",
     "text": [
      "<block>:1:18-37: info: atom does not occur in any rule head:\n",
      "  ext_indep(5,6,s8y1)\n",
      "\n",
      "<block>:1:20-37: info: atom does not occur in any rule head:\n",
      "  ext_dep(3,6,s8y1)\n",
      "\n",
      "<block>:1:22-41: info: atom does not occur in any rule head:\n",
      "  ext_dep(5,6,s8y1y3)\n",
      "\n",
      "<block>:1:18-37: info: atom does not occur in any rule head:\n",
      "  ext_indep(5,6,s8y1)\n",
      "\n",
      "<block>:1:20-37: info: atom does not occur in any rule head:\n",
      "  ext_dep(3,6,s8y1)\n",
      "\n",
      "<block>:1:22-41: info: atom does not occur in any rule head:\n",
      "  ext_dep(5,6,s8y1y3)\n",
      "\n",
      "<block>:1:18-37: info: atom does not occur in any rule head:\n",
      "  ext_indep(5,6,s8y1)\n",
      "\n",
      "<block>:1:20-37: info: atom does not occur in any rule head:\n",
      "  ext_dep(3,6,s8y1)\n",
      "\n",
      "<block>:1:22-41: info: atom does not occur in any rule head:\n",
      "  ext_dep(5,6,s8y1y3)\n",
      "\n"
     ]
    },
    {
     "name": "stderr",
     "output_type": "stream",
     "text": [
      "<block>:1:18-37: info: atom does not occur in any rule head:\n",
      "  ext_indep(5,6,s8y1)\n",
      "\n",
      "<block>:1:20-37: info: atom does not occur in any rule head:\n",
      "  ext_dep(3,6,s8y1)\n",
      "\n",
      "<block>:1:22-41: info: atom does not occur in any rule head:\n",
      "  ext_dep(5,6,s8y1y3)\n",
      "\n"
     ]
    },
    {
     "name": "stderr",
     "output_type": "stream",
     "text": [
      "<block>:1:18-37: info: atom does not occur in any rule head:\n",
      "  ext_indep(5,6,s8y1)\n",
      "\n",
      "<block>:1:20-37: info: atom does not occur in any rule head:\n",
      "  ext_dep(5,6,s8y3)\n",
      "\n",
      "<block>:1:22-41: info: atom does not occur in any rule head:\n",
      "  ext_dep(5,6,s8y1y3)\n",
      "\n",
      "<block>:1:18-37: info: atom does not occur in any rule head:\n",
      "  ext_indep(5,6,s8y1)\n",
      "\n",
      "<block>:1:20-37: info: atom does not occur in any rule head:\n",
      "  ext_dep(3,6,s8y1)\n",
      "\n",
      "<block>:1:22-41: info: atom does not occur in any rule head:\n",
      "  ext_dep(5,6,s8y1y3)\n",
      "\n",
      "<block>:1:18-37: info: atom does not occur in any rule head:\n",
      "  ext_indep(5,6,s8y1)\n",
      "\n",
      "<block>:1:20-37: info: atom does not occur in any rule head:\n",
      "  ext_dep(5,6,s8y3)\n",
      "\n",
      "<block>:1:22-41: info: atom does not occur in any rule head:\n",
      "  ext_dep(5,6,s8y1y3)\n",
      "\n"
     ]
    },
    {
     "name": "stderr",
     "output_type": "stream",
     "text": [
      "<block>:1:18-37: info: atom does not occur in any rule head:\n",
      "  ext_indep(5,6,s8y1)\n",
      "\n",
      "<block>:1:20-37: info: atom does not occur in any rule head:\n",
      "  ext_dep(5,6,s8y3)\n",
      "\n",
      "<block>:1:22-41: info: atom does not occur in any rule head:\n",
      "  ext_dep(5,6,s8y1y3)\n",
      "\n",
      "<block>:1:18-37: info: atom does not occur in any rule head:\n",
      "  ext_indep(5,6,s8y1)\n",
      "\n",
      "<block>:1:20-37: info: atom does not occur in any rule head:\n",
      "  ext_dep(1,6,s8y3)\n",
      "\n",
      "<block>:1:22-41: info: atom does not occur in any rule head:\n",
      "  ext_dep(5,6,s8y1y3)\n",
      "\n"
     ]
    },
    {
     "name": "stderr",
     "output_type": "stream",
     "text": [
      "<block>:1:18-37: info: atom does not occur in any rule head:\n",
      "  ext_indep(5,6,s8y1)\n",
      "\n",
      "<block>:1:20-37: info: atom does not occur in any rule head:\n",
      "  ext_dep(3,6,s8y1)\n",
      "\n",
      "<block>:1:22-41: info: atom does not occur in any rule head:\n",
      "  ext_dep(5,6,s8y1y3)\n",
      "\n",
      "<block>:1:18-37: info: atom does not occur in any rule head:\n",
      "  ext_indep(5,6,s8y1)\n",
      "\n",
      "<block>:1:20-37: info: atom does not occur in any rule head:\n",
      "  ext_dep(3,6,s8y1)\n",
      "\n",
      "<block>:1:22-41: info: atom does not occur in any rule head:\n",
      "  ext_dep(5,6,s8y1y3)\n",
      "\n"
     ]
    },
    {
     "name": "stderr",
     "output_type": "stream",
     "text": [
      "<block>:1:20-37: info: atom does not occur in any rule head:\n",
      "  ext_dep(1,6,s8y3)\n",
      "\n",
      "<block>:1:22-41: info: atom does not occur in any rule head:\n",
      "  ext_dep(5,6,s8y1y3)\n",
      "\n"
     ]
    },
    {
     "name": "stderr",
     "output_type": "stream",
     "text": [
      "<block>:1:20-37: info: atom does not occur in any rule head:\n",
      "  ext_dep(1,6,s8y3)\n",
      "\n",
      "<block>:1:22-41: info: atom does not occur in any rule head:\n",
      "  ext_dep(5,6,s8y1y3)\n",
      "\n"
     ]
    },
    {
     "name": "stderr",
     "output_type": "stream",
     "text": [
      "<block>:1:20-37: info: atom does not occur in any rule head:\n",
      "  ext_dep(5,6,s8y3)\n",
      "\n",
      "<block>:1:22-41: info: atom does not occur in any rule head:\n",
      "  ext_dep(5,6,s8y1y3)\n",
      "\n"
     ]
    },
    {
     "name": "stderr",
     "output_type": "stream",
     "text": [
      "<block>:1:20-37: info: atom does not occur in any rule head:\n",
      "  ext_dep(1,6,s8y3)\n",
      "\n",
      "<block>:1:22-41: info: atom does not occur in any rule head:\n",
      "  ext_dep(5,6,s8y1y3)\n",
      "\n"
     ]
    },
    {
     "name": "stderr",
     "output_type": "stream",
     "text": [
      "<block>:1:20-37: info: atom does not occur in any rule head:\n",
      "  ext_dep(1,6,s8y3)\n",
      "\n",
      "<block>:1:22-41: info: atom does not occur in any rule head:\n",
      "  ext_dep(5,6,s8y1y3)\n",
      "\n"
     ]
    },
    {
     "name": "stderr",
     "output_type": "stream",
     "text": [
      "<block>:1:20-37: info: atom does not occur in any rule head:\n",
      "  ext_dep(1,6,s8y3)\n",
      "\n",
      "<block>:1:22-41: info: atom does not occur in any rule head:\n",
      "  ext_dep(5,6,s8y1y3)\n",
      "\n"
     ]
    },
    {
     "name": "stderr",
     "output_type": "stream",
     "text": [
      "<block>:1:20-37: info: atom does not occur in any rule head:\n",
      "  ext_dep(1,6,s8y3)\n",
      "\n",
      "<block>:1:22-41: info: atom does not occur in any rule head:\n",
      "  ext_dep(5,6,s8y1y3)\n",
      "\n"
     ]
    },
    {
     "name": "stderr",
     "output_type": "stream",
     "text": [
      "<block>:1:20-37: info: atom does not occur in any rule head:\n",
      "  ext_dep(5,6,s8y3)\n",
      "\n",
      "<block>:1:22-41: info: atom does not occur in any rule head:\n",
      "  ext_dep(5,6,s8y1y3)\n",
      "\n"
     ]
    },
    {
     "name": "stderr",
     "output_type": "stream",
     "text": [
      "<block>:1:20-37: info: atom does not occur in any rule head:\n",
      "  ext_dep(1,6,s8y3)\n",
      "\n",
      "<block>:1:22-41: info: atom does not occur in any rule head:\n",
      "  ext_dep(5,6,s8y1y3)\n",
      "\n"
     ]
    },
    {
     "name": "stderr",
     "output_type": "stream",
     "text": [
      "<block>:1:20-37: info: atom does not occur in any rule head:\n",
      "  ext_dep(1,6,s8y3)\n",
      "\n",
      "<block>:1:22-41: info: atom does not occur in any rule head:\n",
      "  ext_dep(5,6,s8y1y3)\n",
      "\n"
     ]
    },
    {
     "name": "stderr",
     "output_type": "stream",
     "text": [
      "<block>:1:20-37: info: atom does not occur in any rule head:\n",
      "  ext_dep(1,6,s8y3)\n",
      "\n",
      "<block>:1:22-41: info: atom does not occur in any rule head:\n",
      "  ext_dep(5,6,s8y1y3)\n",
      "\n"
     ]
    },
    {
     "name": "stderr",
     "output_type": "stream",
     "text": [
      "<block>:1:18-37: info: atom does not occur in any rule head:\n",
      "  ext_indep(5,6,s8y1)\n",
      "\n",
      "<block>:1:20-37: info: atom does not occur in any rule head:\n",
      "  ext_dep(5,6,s8y3)\n",
      "\n",
      "<block>:1:22-41: info: atom does not occur in any rule head:\n",
      "  ext_dep(5,6,s8y1y3)\n",
      "\n",
      "<block>:1:18-37: info: atom does not occur in any rule head:\n",
      "  ext_indep(5,6,s8y1)\n",
      "\n",
      "<block>:1:20-37: info: atom does not occur in any rule head:\n",
      "  ext_dep(5,6,s8y3)\n",
      "\n",
      "<block>:1:22-41: info: atom does not occur in any rule head:\n",
      "  ext_dep(5,6,s8y1y3)\n",
      "\n",
      "<block>:1:18-37: info: atom does not occur in any rule head:\n",
      "  ext_indep(5,6,s8y1)\n",
      "\n",
      "<block>:1:20-37: info: atom does not occur in any rule head:\n",
      "  ext_dep(5,6,s8y3)\n",
      "\n",
      "<block>:1:22-41: info: atom does not occur in any rule head:\n",
      "  ext_dep(5,6,s8y1y3)\n",
      "\n"
     ]
    },
    {
     "name": "stderr",
     "output_type": "stream",
     "text": [
      "<block>:1:18-37: info: atom does not occur in any rule head:\n",
      "  ext_indep(5,6,s8y1)\n",
      "\n",
      "<block>:1:20-37: info: atom does not occur in any rule head:\n",
      "  ext_dep(5,6,s8y3)\n",
      "\n",
      "<block>:1:22-41: info: atom does not occur in any rule head:\n",
      "  ext_dep(5,6,s8y1y3)\n",
      "\n",
      "<block>:1:18-37: info: atom does not occur in any rule head:\n",
      "  ext_indep(5,6,s8y1)\n",
      "\n",
      "<block>:1:20-37: info: atom does not occur in any rule head:\n",
      "  ext_dep(1,6,s8y3)\n",
      "\n",
      "<block>:1:22-41: info: atom does not occur in any rule head:\n",
      "  ext_dep(5,6,s8y1y3)\n",
      "\n"
     ]
    },
    {
     "name": "stderr",
     "output_type": "stream",
     "text": [
      "<block>:1:18-37: info: atom does not occur in any rule head:\n",
      "  ext_indep(5,6,s8y1)\n",
      "\n",
      "<block>:1:20-37: info: atom does not occur in any rule head:\n",
      "  ext_dep(1,6,s8y3)\n",
      "\n",
      "<block>:1:22-41: info: atom does not occur in any rule head:\n",
      "  ext_dep(5,6,s8y1y3)\n",
      "\n"
     ]
    },
    {
     "name": "stderr",
     "output_type": "stream",
     "text": [
      "<block>:1:18-37: info: atom does not occur in any rule head:\n",
      "  ext_indep(5,6,s8y1)\n",
      "\n",
      "<block>:1:20-37: info: atom does not occur in any rule head:\n",
      "  ext_dep(1,6,s8y3)\n",
      "\n",
      "<block>:1:22-41: info: atom does not occur in any rule head:\n",
      "  ext_dep(5,6,s8y1y3)\n",
      "\n"
     ]
    },
    {
     "name": "stderr",
     "output_type": "stream",
     "text": [
      "<block>:1:20-37: info: atom does not occur in any rule head:\n",
      "  ext_dep(1,6,s8y3)\n",
      "\n",
      "<block>:1:22-41: info: atom does not occur in any rule head:\n",
      "  ext_dep(5,6,s8y1y3)\n",
      "\n"
     ]
    },
    {
     "name": "stderr",
     "output_type": "stream",
     "text": [
      "<block>:1:20-37: info: atom does not occur in any rule head:\n",
      "  ext_dep(1,6,s8y3)\n",
      "\n",
      "<block>:1:22-41: info: atom does not occur in any rule head:\n",
      "  ext_dep(5,6,s8y1y3)\n",
      "\n"
     ]
    },
    {
     "name": "stderr",
     "output_type": "stream",
     "text": [
      "<block>:1:20-37: info: atom does not occur in any rule head:\n",
      "  ext_dep(1,6,s8y3)\n",
      "\n",
      "<block>:1:22-41: info: atom does not occur in any rule head:\n",
      "  ext_dep(5,6,s8y1y3)\n",
      "\n"
     ]
    },
    {
     "name": "stderr",
     "output_type": "stream",
     "text": [
      "<block>:1:20-37: info: atom does not occur in any rule head:\n",
      "  ext_dep(1,6,s8y3)\n",
      "\n",
      "<block>:1:22-41: info: atom does not occur in any rule head:\n",
      "  ext_dep(5,6,s8y1y3)\n",
      "\n"
     ]
    },
    {
     "name": "stderr",
     "output_type": "stream",
     "text": [
      "<block>:1:20-37: info: atom does not occur in any rule head:\n",
      "  ext_dep(1,6,s8y3)\n",
      "\n",
      "<block>:1:22-41: info: atom does not occur in any rule head:\n",
      "  ext_dep(5,6,s8y1y3)\n",
      "\n"
     ]
    },
    {
     "name": "stderr",
     "output_type": "stream",
     "text": [
      "<block>:1:20-37: info: atom does not occur in any rule head:\n",
      "  ext_dep(1,6,s8y3)\n",
      "\n",
      "<block>:1:22-41: info: atom does not occur in any rule head:\n",
      "  ext_dep(5,6,s8y1y3)\n",
      "\n"
     ]
    },
    {
     "name": "stderr",
     "output_type": "stream",
     "text": [
      "<block>:1:20-37: info: atom does not occur in any rule head:\n",
      "  ext_dep(1,6,s8y3)\n",
      "\n",
      "<block>:1:22-41: info: atom does not occur in any rule head:\n",
      "  ext_dep(5,6,s8y1y3)\n",
      "\n"
     ]
    },
    {
     "name": "stderr",
     "output_type": "stream",
     "text": [
      "<block>:1:20-37: info: atom does not occur in any rule head:\n",
      "  ext_dep(1,6,s8y3)\n",
      "\n",
      "<block>:1:22-41: info: atom does not occur in any rule head:\n",
      "  ext_dep(5,6,s8y1y3)\n",
      "\n"
     ]
    },
    {
     "name": "stderr",
     "output_type": "stream",
     "text": [
      "<block>:1:20-37: info: atom does not occur in any rule head:\n",
      "  ext_dep(1,6,s8y3)\n",
      "\n",
      "<block>:1:22-41: info: atom does not occur in any rule head:\n",
      "  ext_dep(5,6,s8y1y3)\n",
      "\n"
     ]
    },
    {
     "name": "stderr",
     "output_type": "stream",
     "text": [
      "<block>:1:20-37: info: atom does not occur in any rule head:\n",
      "  ext_dep(1,6,s8y3)\n",
      "\n",
      "<block>:1:22-41: info: atom does not occur in any rule head:\n",
      "  ext_dep(5,6,s8y1y3)\n",
      "\n"
     ]
    },
    {
     "name": "stderr",
     "output_type": "stream",
     "text": [
      "<block>:1:20-37: info: atom does not occur in any rule head:\n",
      "  ext_dep(1,6,s8y3)\n",
      "\n",
      "<block>:1:22-41: info: atom does not occur in any rule head:\n",
      "  ext_dep(5,6,s8y1y3)\n",
      "\n"
     ]
    },
    {
     "name": "stderr",
     "output_type": "stream",
     "text": [
      "<block>:1:18-37: info: atom does not occur in any rule head:\n",
      "  ext_indep(5,6,s8y1)\n",
      "\n",
      "<block>:1:20-37: info: atom does not occur in any rule head:\n",
      "  ext_dep(1,6,s8y3)\n",
      "\n",
      "<block>:1:22-41: info: atom does not occur in any rule head:\n",
      "  ext_dep(5,6,s8y1y3)\n",
      "\n",
      "<block>:1:18-37: info: atom does not occur in any rule head:\n",
      "  ext_indep(5,6,s8y1)\n",
      "\n",
      "<block>:1:20-37: info: atom does not occur in any rule head:\n",
      "  ext_dep(1,6,s8y3)\n",
      "\n",
      "<block>:1:22-41: info: atom does not occur in any rule head:\n",
      "  ext_dep(5,6,s8y1y3)\n",
      "\n",
      "<block>:1:18-37: info: atom does not occur in any rule head:\n",
      "  ext_indep(5,6,s8y1)\n",
      "\n",
      "<block>:1:20-37: info: atom does not occur in any rule head:\n",
      "  ext_dep(5,6,s8y3)\n",
      "\n",
      "<block>:1:22-41: info: atom does not occur in any rule head:\n",
      "  ext_dep(5,6,s8y1y3)\n",
      "\n"
     ]
    },
    {
     "name": "stderr",
     "output_type": "stream",
     "text": [
      "<block>:1:18-37: info: atom does not occur in any rule head:\n",
      "  ext_indep(5,6,s8y1)\n",
      "\n",
      "<block>:1:20-37: info: atom does not occur in any rule head:\n",
      "  ext_dep(3,6,s8y1)\n",
      "\n",
      "<block>:1:22-41: info: atom does not occur in any rule head:\n",
      "  ext_dep(5,6,s8y1y3)\n",
      "\n",
      "<block>:1:18-37: info: atom does not occur in any rule head:\n",
      "  ext_indep(5,6,s8y1)\n",
      "\n",
      "<block>:1:20-37: info: atom does not occur in any rule head:\n",
      "  ext_dep(1,6,s8y3)\n",
      "\n",
      "<block>:1:22-41: info: atom does not occur in any rule head:\n",
      "  ext_dep(5,6,s8y1y3)\n",
      "\n"
     ]
    },
    {
     "name": "stderr",
     "output_type": "stream",
     "text": [
      "<block>:1:18-37: info: atom does not occur in any rule head:\n",
      "  ext_indep(5,6,s8y1)\n",
      "\n",
      "<block>:1:20-37: info: atom does not occur in any rule head:\n",
      "  ext_dep(3,6,s8y1)\n",
      "\n",
      "<block>:1:22-41: info: atom does not occur in any rule head:\n",
      "  ext_dep(5,6,s8y1y3)\n",
      "\n",
      "<block>:1:18-37: info: atom does not occur in any rule head:\n",
      "  ext_indep(5,6,s8y1)\n",
      "\n",
      "<block>:1:20-37: info: atom does not occur in any rule head:\n",
      "  ext_dep(1,6,s8y3)\n",
      "\n",
      "<block>:1:22-41: info: atom does not occur in any rule head:\n",
      "  ext_dep(5,6,s8y1y3)\n",
      "\n"
     ]
    },
    {
     "name": "stderr",
     "output_type": "stream",
     "text": [
      "<block>:1:18-37: info: atom does not occur in any rule head:\n",
      "  ext_indep(5,6,s8y1)\n",
      "\n",
      "<block>:1:20-37: info: atom does not occur in any rule head:\n",
      "  ext_dep(3,6,s8y1)\n",
      "\n",
      "<block>:1:22-41: info: atom does not occur in any rule head:\n",
      "  ext_dep(5,6,s8y1y3)\n",
      "\n"
     ]
    },
    {
     "name": "stderr",
     "output_type": "stream",
     "text": [
      "<block>:1:18-37: info: atom does not occur in any rule head:\n",
      "  ext_indep(5,6,s8y1)\n",
      "\n",
      "<block>:1:20-37: info: atom does not occur in any rule head:\n",
      "  ext_dep(5,6,s8y3)\n",
      "\n",
      "<block>:1:22-41: info: atom does not occur in any rule head:\n",
      "  ext_dep(5,6,s8y1y3)\n",
      "\n"
     ]
    },
    {
     "name": "stderr",
     "output_type": "stream",
     "text": [
      "<block>:1:18-37: info: atom does not occur in any rule head:\n",
      "  ext_indep(5,6,s8y1)\n",
      "\n",
      "<block>:1:20-37: info: atom does not occur in any rule head:\n",
      "  ext_dep(3,6,s8y1)\n",
      "\n",
      "<block>:1:22-41: info: atom does not occur in any rule head:\n",
      "  ext_dep(5,6,s8y1y3)\n",
      "\n"
     ]
    },
    {
     "name": "stderr",
     "output_type": "stream",
     "text": [
      "<block>:1:18-37: info: atom does not occur in any rule head:\n",
      "  ext_indep(5,6,s8y1)\n",
      "\n",
      "<block>:1:20-37: info: atom does not occur in any rule head:\n",
      "  ext_dep(3,6,s8y1)\n",
      "\n",
      "<block>:1:22-41: info: atom does not occur in any rule head:\n",
      "  ext_dep(5,6,s8y1y3)\n",
      "\n"
     ]
    },
    {
     "name": "stderr",
     "output_type": "stream",
     "text": [
      "<block>:1:18-37: info: atom does not occur in any rule head:\n",
      "  ext_indep(5,6,s8y1)\n",
      "\n",
      "<block>:1:20-37: info: atom does not occur in any rule head:\n",
      "  ext_dep(3,6,s8y1)\n",
      "\n",
      "<block>:1:22-41: info: atom does not occur in any rule head:\n",
      "  ext_dep(5,6,s8y1y3)\n",
      "\n"
     ]
    },
    {
     "name": "stderr",
     "output_type": "stream",
     "text": [
      "<block>:1:18-37: info: atom does not occur in any rule head:\n",
      "  ext_indep(5,6,s8y1)\n",
      "\n",
      "<block>:1:20-37: info: atom does not occur in any rule head:\n",
      "  ext_dep(5,6,s8y3)\n",
      "\n",
      "<block>:1:22-41: info: atom does not occur in any rule head:\n",
      "  ext_dep(5,6,s8y1y3)\n",
      "\n"
     ]
    },
    {
     "name": "stderr",
     "output_type": "stream",
     "text": [
      "<block>:1:18-37: info: atom does not occur in any rule head:\n",
      "  ext_indep(5,6,s8y1)\n",
      "\n",
      "<block>:1:20-37: info: atom does not occur in any rule head:\n",
      "  ext_dep(5,6,s8y3)\n",
      "\n",
      "<block>:1:22-41: info: atom does not occur in any rule head:\n",
      "  ext_dep(5,6,s8y1y3)\n",
      "\n"
     ]
    },
    {
     "name": "stderr",
     "output_type": "stream",
     "text": [
      "<block>:1:18-37: info: atom does not occur in any rule head:\n",
      "  ext_indep(5,6,s8y1)\n",
      "\n",
      "<block>:1:20-37: info: atom does not occur in any rule head:\n",
      "  ext_dep(3,6,s8y1)\n",
      "\n",
      "<block>:1:22-41: info: atom does not occur in any rule head:\n",
      "  ext_dep(5,6,s8y1y3)\n",
      "\n"
     ]
    },
    {
     "name": "stderr",
     "output_type": "stream",
     "text": [
      "<block>:1:18-37: info: atom does not occur in any rule head:\n",
      "  ext_indep(5,6,s8y1)\n",
      "\n",
      "<block>:1:20-37: info: atom does not occur in any rule head:\n",
      "  ext_dep(3,6,s8y1)\n",
      "\n",
      "<block>:1:22-41: info: atom does not occur in any rule head:\n",
      "  ext_dep(5,6,s8y1y3)\n",
      "\n"
     ]
    },
    {
     "name": "stderr",
     "output_type": "stream",
     "text": [
      "<block>:1:18-37: info: atom does not occur in any rule head:\n",
      "  ext_indep(5,6,s8y1)\n",
      "\n",
      "<block>:1:20-37: info: atom does not occur in any rule head:\n",
      "  ext_dep(5,6,s8y3)\n",
      "\n",
      "<block>:1:22-41: info: atom does not occur in any rule head:\n",
      "  ext_dep(5,6,s8y1y3)\n",
      "\n"
     ]
    },
    {
     "name": "stderr",
     "output_type": "stream",
     "text": [
      "<block>:1:18-37: info: atom does not occur in any rule head:\n",
      "  ext_indep(5,6,s8y1)\n",
      "\n",
      "<block>:1:20-37: info: atom does not occur in any rule head:\n",
      "  ext_dep(1,6,s8y3)\n",
      "\n",
      "<block>:1:22-41: info: atom does not occur in any rule head:\n",
      "  ext_dep(5,6,s8y1y3)\n",
      "\n",
      "<block>:1:18-37: info: atom does not occur in any rule head:\n",
      "  ext_indep(5,6,s8y1)\n",
      "\n",
      "<block>:1:20-37: info: atom does not occur in any rule head:\n",
      "  ext_dep(5,6,s8y3)\n",
      "\n",
      "<block>:1:22-41: info: atom does not occur in any rule head:\n",
      "  ext_dep(5,6,s8y1y3)\n",
      "\n",
      "<block>:1:18-37: info: atom does not occur in any rule head:\n",
      "  ext_indep(5,6,s8y1)\n",
      "\n",
      "<block>:1:20-37: info: atom does not occur in any rule head:\n",
      "  ext_dep(1,6,s8y3)\n",
      "\n",
      "<block>:1:22-41: info: atom does not occur in any rule head:\n",
      "  ext_dep(5,6,s8y1y3)\n",
      "\n"
     ]
    },
    {
     "name": "stderr",
     "output_type": "stream",
     "text": [
      "<block>:1:18-37: info: atom does not occur in any rule head:\n",
      "  ext_indep(5,6,s8y1)\n",
      "\n",
      "<block>:1:20-37: info: atom does not occur in any rule head:\n",
      "  ext_dep(1,6,s8y3)\n",
      "\n",
      "<block>:1:22-41: info: atom does not occur in any rule head:\n",
      "  ext_dep(5,6,s8y1y3)\n",
      "\n",
      "<block>:1:18-37: info: atom does not occur in any rule head:\n",
      "  ext_indep(5,6,s8y1)\n",
      "\n",
      "<block>:1:20-37: info: atom does not occur in any rule head:\n",
      "  ext_dep(1,6,s8y3)\n",
      "\n",
      "<block>:1:22-41: info: atom does not occur in any rule head:\n",
      "  ext_dep(5,6,s8y1y3)\n",
      "\n"
     ]
    },
    {
     "name": "stderr",
     "output_type": "stream",
     "text": [
      "<block>:1:18-37: info: atom does not occur in any rule head:\n",
      "  ext_indep(5,6,s8y1)\n",
      "\n",
      "<block>:1:20-37: info: atom does not occur in any rule head:\n",
      "  ext_dep(1,6,s8y3)\n",
      "\n",
      "<block>:1:22-41: info: atom does not occur in any rule head:\n",
      "  ext_dep(5,6,s8y1y3)\n",
      "\n"
     ]
    },
    {
     "name": "stderr",
     "output_type": "stream",
     "text": [
      "<block>:1:18-37: info: atom does not occur in any rule head:\n",
      "  ext_indep(5,6,s8y1)\n",
      "\n",
      "<block>:1:20-37: info: atom does not occur in any rule head:\n",
      "  ext_dep(3,6,s8y1)\n",
      "\n",
      "<block>:1:22-41: info: atom does not occur in any rule head:\n",
      "  ext_dep(5,6,s8y1y3)\n",
      "\n"
     ]
    },
    {
     "name": "stderr",
     "output_type": "stream",
     "text": [
      "<block>:1:18-37: info: atom does not occur in any rule head:\n",
      "  ext_indep(5,6,s8y1)\n",
      "\n",
      "<block>:1:20-37: info: atom does not occur in any rule head:\n",
      "  ext_dep(5,6,s8y3)\n",
      "\n",
      "<block>:1:22-41: info: atom does not occur in any rule head:\n",
      "  ext_dep(5,6,s8y1y3)\n",
      "\n"
     ]
    },
    {
     "name": "stderr",
     "output_type": "stream",
     "text": [
      "<block>:1:18-37: info: atom does not occur in any rule head:\n",
      "  ext_indep(5,6,s8y1)\n",
      "\n",
      "<block>:1:20-37: info: atom does not occur in any rule head:\n",
      "  ext_dep(3,6,s8y1)\n",
      "\n",
      "<block>:1:22-41: info: atom does not occur in any rule head:\n",
      "  ext_dep(5,6,s8y1y3)\n",
      "\n"
     ]
    },
    {
     "name": "stderr",
     "output_type": "stream",
     "text": [
      "<block>:1:18-37: info: atom does not occur in any rule head:\n",
      "  ext_indep(5,6,s8y1)\n",
      "\n",
      "<block>:1:20-37: info: atom does not occur in any rule head:\n",
      "  ext_dep(3,6,s8y1)\n",
      "\n",
      "<block>:1:22-41: info: atom does not occur in any rule head:\n",
      "  ext_dep(5,6,s8y1y3)\n",
      "\n"
     ]
    },
    {
     "name": "stderr",
     "output_type": "stream",
     "text": [
      "<block>:1:18-37: info: atom does not occur in any rule head:\n",
      "  ext_indep(5,6,s8y1)\n",
      "\n",
      "<block>:1:20-37: info: atom does not occur in any rule head:\n",
      "  ext_dep(3,6,s8y1)\n",
      "\n",
      "<block>:1:22-41: info: atom does not occur in any rule head:\n",
      "  ext_dep(5,6,s8y1y3)\n",
      "\n"
     ]
    },
    {
     "name": "stderr",
     "output_type": "stream",
     "text": [
      "<block>:1:18-37: info: atom does not occur in any rule head:\n",
      "  ext_indep(5,6,s8y1)\n",
      "\n",
      "<block>:1:20-37: info: atom does not occur in any rule head:\n",
      "  ext_dep(5,6,s8y3)\n",
      "\n",
      "<block>:1:22-41: info: atom does not occur in any rule head:\n",
      "  ext_dep(5,6,s8y1y3)\n",
      "\n"
     ]
    },
    {
     "name": "stderr",
     "output_type": "stream",
     "text": [
      "<block>:1:18-37: info: atom does not occur in any rule head:\n",
      "  ext_indep(5,6,s8y1)\n",
      "\n",
      "<block>:1:20-37: info: atom does not occur in any rule head:\n",
      "  ext_dep(3,6,s8y1)\n",
      "\n",
      "<block>:1:22-41: info: atom does not occur in any rule head:\n",
      "  ext_dep(5,6,s8y1y3)\n",
      "\n"
     ]
    },
    {
     "name": "stderr",
     "output_type": "stream",
     "text": [
      "<block>:1:18-37: info: atom does not occur in any rule head:\n",
      "  ext_indep(5,6,s8y1)\n",
      "\n",
      "<block>:1:20-37: info: atom does not occur in any rule head:\n",
      "  ext_dep(3,6,s8y1)\n",
      "\n",
      "<block>:1:22-41: info: atom does not occur in any rule head:\n",
      "  ext_dep(5,6,s8y1y3)\n",
      "\n"
     ]
    },
    {
     "name": "stderr",
     "output_type": "stream",
     "text": [
      "<block>:1:18-37: info: atom does not occur in any rule head:\n",
      "  ext_indep(5,6,s8y1)\n",
      "\n",
      "<block>:1:20-37: info: atom does not occur in any rule head:\n",
      "  ext_dep(3,6,s8y1)\n",
      "\n",
      "<block>:1:22-41: info: atom does not occur in any rule head:\n",
      "  ext_dep(5,6,s8y1y3)\n",
      "\n"
     ]
    },
    {
     "name": "stderr",
     "output_type": "stream",
     "text": [
      "<block>:1:18-37: info: atom does not occur in any rule head:\n",
      "  ext_indep(5,6,s8y1)\n",
      "\n",
      "<block>:1:20-37: info: atom does not occur in any rule head:\n",
      "  ext_dep(3,6,s8y1)\n",
      "\n",
      "<block>:1:22-41: info: atom does not occur in any rule head:\n",
      "  ext_dep(5,6,s8y1y3)\n",
      "\n"
     ]
    },
    {
     "name": "stderr",
     "output_type": "stream",
     "text": [
      "<block>:1:18-37: info: atom does not occur in any rule head:\n",
      "  ext_indep(5,6,s8y1)\n",
      "\n",
      "<block>:1:20-37: info: atom does not occur in any rule head:\n",
      "  ext_dep(5,6,s8y3)\n",
      "\n",
      "<block>:1:22-41: info: atom does not occur in any rule head:\n",
      "  ext_dep(5,6,s8y1y3)\n",
      "\n"
     ]
    },
    {
     "name": "stderr",
     "output_type": "stream",
     "text": [
      "<block>:1:18-37: info: atom does not occur in any rule head:\n",
      "  ext_indep(5,6,s8y1)\n",
      "\n",
      "<block>:1:20-37: info: atom does not occur in any rule head:\n",
      "  ext_dep(1,6,s8y3)\n",
      "\n",
      "<block>:1:22-41: info: atom does not occur in any rule head:\n",
      "  ext_dep(5,6,s8y1y3)\n",
      "\n",
      "<block>:1:18-37: info: atom does not occur in any rule head:\n",
      "  ext_indep(5,6,s8y1)\n",
      "\n",
      "<block>:1:20-37: info: atom does not occur in any rule head:\n",
      "  ext_dep(5,6,s8y3)\n",
      "\n",
      "<block>:1:22-41: info: atom does not occur in any rule head:\n",
      "  ext_dep(5,6,s8y1y3)\n",
      "\n",
      "<block>:1:18-37: info: atom does not occur in any rule head:\n",
      "  ext_indep(5,6,s8y1)\n",
      "\n",
      "<block>:1:20-37: info: atom does not occur in any rule head:\n",
      "  ext_dep(5,6,s8y3)\n",
      "\n",
      "<block>:1:22-41: info: atom does not occur in any rule head:\n",
      "  ext_dep(5,6,s8y1y3)\n",
      "\n"
     ]
    },
    {
     "name": "stderr",
     "output_type": "stream",
     "text": [
      "<block>:1:18-37: info: atom does not occur in any rule head:\n",
      "  ext_indep(5,6,s8y1)\n",
      "\n",
      "<block>:1:20-37: info: atom does not occur in any rule head:\n",
      "  ext_dep(5,6,s8y3)\n",
      "\n",
      "<block>:1:22-41: info: atom does not occur in any rule head:\n",
      "  ext_dep(5,6,s8y1y3)\n",
      "\n",
      "<block>:1:18-37: info: atom does not occur in any rule head:\n",
      "  ext_indep(5,6,s8y1)\n",
      "\n",
      "<block>:1:20-37: info: atom does not occur in any rule head:\n",
      "  ext_dep(1,6,s8y3)\n",
      "\n",
      "<block>:1:22-41: info: atom does not occur in any rule head:\n",
      "  ext_dep(5,6,s8y1y3)\n",
      "\n",
      "<block>:1:18-37: info: atom does not occur in any rule head:\n",
      "  ext_indep(5,6,s8y1)\n",
      "\n",
      "<block>:1:20-37: info: atom does not occur in any rule head:\n",
      "  ext_dep(5,6,s8y3)\n",
      "\n",
      "<block>:1:22-41: info: atom does not occur in any rule head:\n",
      "  ext_dep(5,6,s8y1y3)\n",
      "\n"
     ]
    },
    {
     "name": "stderr",
     "output_type": "stream",
     "text": [
      "<block>:1:18-37: info: atom does not occur in any rule head:\n",
      "  ext_indep(5,6,s8y1)\n",
      "\n",
      "<block>:1:20-37: info: atom does not occur in any rule head:\n",
      "  ext_dep(5,6,s8y3)\n",
      "\n",
      "<block>:1:22-41: info: atom does not occur in any rule head:\n",
      "  ext_dep(5,6,s8y1y3)\n",
      "\n",
      "<block>:1:18-37: info: atom does not occur in any rule head:\n",
      "  ext_indep(5,6,s8y1)\n",
      "\n",
      "<block>:1:20-37: info: atom does not occur in any rule head:\n",
      "  ext_dep(3,6,s8y1)\n",
      "\n",
      "<block>:1:22-41: info: atom does not occur in any rule head:\n",
      "  ext_dep(5,6,s8y1y3)\n",
      "\n"
     ]
    },
    {
     "name": "stderr",
     "output_type": "stream",
     "text": [
      "<block>:1:18-37: info: atom does not occur in any rule head:\n",
      "  ext_indep(5,6,s8y1)\n",
      "\n",
      "<block>:1:20-37: info: atom does not occur in any rule head:\n",
      "  ext_dep(3,6,s8y1)\n",
      "\n",
      "<block>:1:22-41: info: atom does not occur in any rule head:\n",
      "  ext_dep(5,6,s8y1y3)\n",
      "\n",
      "<block>:1:18-37: info: atom does not occur in any rule head:\n",
      "  ext_indep(1,3,s8y6)\n",
      "\n",
      "<block>:1:20-37: info: atom does not occur in any rule head:\n",
      "  ext_dep(3,6,s8y1)\n",
      "\n",
      "<block>:1:22-41: info: atom does not occur in any rule head:\n",
      "  ext_dep(5,6,s8y1y3)\n",
      "\n",
      "<block>:1:18-37: info: atom does not occur in any rule head:\n",
      "  ext_indep(1,3,s8y6)\n",
      "\n",
      "<block>:1:20-37: info: atom does not occur in any rule head:\n",
      "  ext_dep(3,6,s8y1)\n",
      "\n",
      "<block>:1:22-41: info: atom does not occur in any rule head:\n",
      "  ext_dep(5,6,s8y1y3)\n",
      "\n"
     ]
    },
    {
     "name": "stderr",
     "output_type": "stream",
     "text": [
      "<block>:1:18-37: info: atom does not occur in any rule head:\n",
      "  ext_indep(5,6,s8y1)\n",
      "\n",
      "<block>:1:20-37: info: atom does not occur in any rule head:\n",
      "  ext_dep(3,6,s8y1)\n",
      "\n",
      "<block>:1:22-41: info: atom does not occur in any rule head:\n",
      "  ext_dep(5,6,s8y1y3)\n",
      "\n",
      "<block>:1:18-37: info: atom does not occur in any rule head:\n",
      "  ext_indep(5,6,s8y1)\n",
      "\n",
      "<block>:1:20-37: info: atom does not occur in any rule head:\n",
      "  ext_dep(1,6,s8y3)\n",
      "\n",
      "<block>:1:22-41: info: atom does not occur in any rule head:\n",
      "  ext_dep(5,6,s8y1y3)\n",
      "\n"
     ]
    },
    {
     "name": "stderr",
     "output_type": "stream",
     "text": [
      "<block>:1:18-37: info: atom does not occur in any rule head:\n",
      "  ext_indep(5,6,s8y1)\n",
      "\n",
      "<block>:1:20-37: info: atom does not occur in any rule head:\n",
      "  ext_dep(1,6,s8y3)\n",
      "\n",
      "<block>:1:22-41: info: atom does not occur in any rule head:\n",
      "  ext_dep(5,6,s8y1y3)\n",
      "\n",
      "<block>:1:18-37: info: atom does not occur in any rule head:\n",
      "  ext_indep(5,6,s8y1)\n",
      "\n",
      "<block>:1:20-37: info: atom does not occur in any rule head:\n",
      "  ext_dep(1,6,s8y3)\n",
      "\n",
      "<block>:1:22-41: info: atom does not occur in any rule head:\n",
      "  ext_dep(5,6,s8y1y3)\n",
      "\n"
     ]
    },
    {
     "name": "stderr",
     "output_type": "stream",
     "text": [
      "<block>:1:18-37: info: atom does not occur in any rule head:\n",
      "  ext_indep(5,6,s8y1)\n",
      "\n",
      "<block>:1:20-37: info: atom does not occur in any rule head:\n",
      "  ext_dep(1,6,s8y3)\n",
      "\n",
      "<block>:1:22-41: info: atom does not occur in any rule head:\n",
      "  ext_dep(5,6,s8y1y3)\n",
      "\n"
     ]
    },
    {
     "name": "stderr",
     "output_type": "stream",
     "text": [
      "<block>:1:18-37: info: atom does not occur in any rule head:\n",
      "  ext_indep(1,3,s8y6)\n",
      "\n",
      "<block>:1:20-37: info: atom does not occur in any rule head:\n",
      "  ext_dep(5,6,s8y3)\n",
      "\n",
      "<block>:1:22-41: info: atom does not occur in any rule head:\n",
      "  ext_dep(5,6,s8y1y3)\n",
      "\n"
     ]
    },
    {
     "name": "stderr",
     "output_type": "stream",
     "text": [
      "<block>:1:18-37: info: atom does not occur in any rule head:\n",
      "  ext_indep(1,3,s8y6)\n",
      "\n",
      "<block>:1:20-37: info: atom does not occur in any rule head:\n",
      "  ext_dep(3,6,s8y1)\n",
      "\n",
      "<block>:1:22-41: info: atom does not occur in any rule head:\n",
      "  ext_dep(5,6,s8y1y3)\n",
      "\n"
     ]
    },
    {
     "name": "stderr",
     "output_type": "stream",
     "text": [
      "<block>:1:18-37: info: atom does not occur in any rule head:\n",
      "  ext_indep(1,3,s8y6)\n",
      "\n",
      "<block>:1:20-37: info: atom does not occur in any rule head:\n",
      "  ext_dep(3,6,s8y1)\n",
      "\n",
      "<block>:1:22-41: info: atom does not occur in any rule head:\n",
      "  ext_dep(5,6,s8y1y3)\n",
      "\n"
     ]
    },
    {
     "name": "stderr",
     "output_type": "stream",
     "text": [
      "<block>:1:18-37: info: atom does not occur in any rule head:\n",
      "  ext_indep(1,3,s8y6)\n",
      "\n",
      "<block>:1:20-37: info: atom does not occur in any rule head:\n",
      "  ext_dep(3,6,s8y1)\n",
      "\n",
      "<block>:1:22-41: info: atom does not occur in any rule head:\n",
      "  ext_dep(5,6,s8y1y3)\n",
      "\n"
     ]
    },
    {
     "name": "stderr",
     "output_type": "stream",
     "text": [
      "<block>:1:18-37: info: atom does not occur in any rule head:\n",
      "  ext_indep(1,3,s8y6)\n",
      "\n",
      "<block>:1:20-37: info: atom does not occur in any rule head:\n",
      "  ext_dep(5,6,s8y3)\n",
      "\n",
      "<block>:1:22-41: info: atom does not occur in any rule head:\n",
      "  ext_dep(5,6,s8y1y3)\n",
      "\n"
     ]
    },
    {
     "name": "stderr",
     "output_type": "stream",
     "text": [
      "<block>:1:18-37: info: atom does not occur in any rule head:\n",
      "  ext_indep(1,3,s8y6)\n",
      "\n",
      "<block>:1:20-37: info: atom does not occur in any rule head:\n",
      "  ext_dep(5,6,s8y3)\n",
      "\n",
      "<block>:1:22-41: info: atom does not occur in any rule head:\n",
      "  ext_dep(5,6,s8y1y3)\n",
      "\n"
     ]
    },
    {
     "name": "stderr",
     "output_type": "stream",
     "text": [
      "<block>:1:18-37: info: atom does not occur in any rule head:\n",
      "  ext_indep(1,3,s8y6)\n",
      "\n",
      "<block>:1:20-37: info: atom does not occur in any rule head:\n",
      "  ext_dep(3,6,s8y1)\n",
      "\n",
      "<block>:1:22-41: info: atom does not occur in any rule head:\n",
      "  ext_dep(5,6,s8y1y3)\n",
      "\n"
     ]
    },
    {
     "name": "stderr",
     "output_type": "stream",
     "text": [
      "<block>:1:18-37: info: atom does not occur in any rule head:\n",
      "  ext_indep(1,3,s8y6)\n",
      "\n",
      "<block>:1:20-37: info: atom does not occur in any rule head:\n",
      "  ext_dep(3,6,s8y1)\n",
      "\n",
      "<block>:1:22-41: info: atom does not occur in any rule head:\n",
      "  ext_dep(5,6,s8y1y3)\n",
      "\n"
     ]
    },
    {
     "name": "stderr",
     "output_type": "stream",
     "text": [
      "<block>:1:18-37: info: atom does not occur in any rule head:\n",
      "  ext_indep(1,3,s8y6)\n",
      "\n",
      "<block>:1:20-37: info: atom does not occur in any rule head:\n",
      "  ext_dep(5,6,s8y3)\n",
      "\n",
      "<block>:1:22-41: info: atom does not occur in any rule head:\n",
      "  ext_dep(5,6,s8y1y3)\n",
      "\n"
     ]
    },
    {
     "name": "stderr",
     "output_type": "stream",
     "text": [
      "<block>:1:18-37: info: atom does not occur in any rule head:\n",
      "  ext_indep(1,3,s8y6)\n",
      "\n",
      "<block>:1:20-37: info: atom does not occur in any rule head:\n",
      "  ext_dep(1,6,s8y3)\n",
      "\n",
      "<block>:1:22-41: info: atom does not occur in any rule head:\n",
      "  ext_dep(5,6,s8y1y3)\n",
      "\n"
     ]
    },
    {
     "name": "stderr",
     "output_type": "stream",
     "text": [
      "<block>:1:18-37: info: atom does not occur in any rule head:\n",
      "  ext_indep(1,3,s8y6)\n",
      "\n",
      "<block>:1:20-37: info: atom does not occur in any rule head:\n",
      "  ext_dep(5,6,s8y3)\n",
      "\n",
      "<block>:1:22-41: info: atom does not occur in any rule head:\n",
      "  ext_dep(5,6,s8y1y3)\n",
      "\n"
     ]
    },
    {
     "name": "stderr",
     "output_type": "stream",
     "text": [
      "<block>:1:18-37: info: atom does not occur in any rule head:\n",
      "  ext_indep(1,3,s8y6)\n",
      "\n",
      "<block>:1:20-37: info: atom does not occur in any rule head:\n",
      "  ext_dep(3,6,s8y1)\n",
      "\n",
      "<block>:1:22-41: info: atom does not occur in any rule head:\n",
      "  ext_dep(5,6,s8y1y3)\n",
      "\n"
     ]
    },
    {
     "name": "stderr",
     "output_type": "stream",
     "text": [
      "<block>:1:18-37: info: atom does not occur in any rule head:\n",
      "  ext_indep(1,3,s8y6)\n",
      "\n",
      "<block>:1:20-37: info: atom does not occur in any rule head:\n",
      "  ext_dep(5,6,s8y3)\n",
      "\n",
      "<block>:1:22-41: info: atom does not occur in any rule head:\n",
      "  ext_dep(5,6,s8y1y3)\n",
      "\n"
     ]
    },
    {
     "name": "stderr",
     "output_type": "stream",
     "text": [
      "<block>:1:18-37: info: atom does not occur in any rule head:\n",
      "  ext_indep(5,6,s8y1)\n",
      "\n",
      "<block>:1:20-37: info: atom does not occur in any rule head:\n",
      "  ext_dep(3,6,s8y1)\n",
      "\n",
      "<block>:1:22-41: info: atom does not occur in any rule head:\n",
      "  ext_dep(5,6,s8y1y3)\n",
      "\n",
      "<block>:1:18-37: info: atom does not occur in any rule head:\n",
      "  ext_indep(1,3,s8y6)\n",
      "\n",
      "<block>:1:20-37: info: atom does not occur in any rule head:\n",
      "  ext_dep(3,6,s8y1)\n",
      "\n",
      "<block>:1:22-41: info: atom does not occur in any rule head:\n",
      "  ext_dep(5,6,s8y1y3)\n",
      "\n",
      "<block>:1:18-37: info: atom does not occur in any rule head:\n",
      "  ext_indep(5,6,s8y1)\n",
      "\n",
      "<block>:1:20-37: info: atom does not occur in any rule head:\n",
      "  ext_dep(3,6,s8y1)\n",
      "\n",
      "<block>:1:22-41: info: atom does not occur in any rule head:\n",
      "  ext_dep(5,6,s8y1y3)\n",
      "\n"
     ]
    },
    {
     "name": "stderr",
     "output_type": "stream",
     "text": [
      "<block>:1:18-37: info: atom does not occur in any rule head:\n",
      "  ext_indep(5,6,s8y1)\n",
      "\n",
      "<block>:1:20-37: info: atom does not occur in any rule head:\n",
      "  ext_dep(1,6,s8y3)\n",
      "\n",
      "<block>:1:22-41: info: atom does not occur in any rule head:\n",
      "  ext_dep(5,6,s8y1y3)\n",
      "\n",
      "<block>:1:18-37: info: atom does not occur in any rule head:\n",
      "  ext_indep(5,6,s8y1)\n",
      "\n",
      "<block>:1:20-37: info: atom does not occur in any rule head:\n",
      "  ext_dep(1,6,s8y3)\n",
      "\n",
      "<block>:1:22-41: info: atom does not occur in any rule head:\n",
      "  ext_dep(5,6,s8y1y3)\n",
      "\n"
     ]
    },
    {
     "name": "stderr",
     "output_type": "stream",
     "text": [
      "<block>:1:18-37: info: atom does not occur in any rule head:\n",
      "  ext_indep(1,3,s8y6)\n",
      "\n",
      "<block>:1:20-37: info: atom does not occur in any rule head:\n",
      "  ext_dep(3,6,s8y1)\n",
      "\n",
      "<block>:1:22-41: info: atom does not occur in any rule head:\n",
      "  ext_dep(5,6,s8y1y3)\n",
      "\n",
      "<block>:1:18-37: info: atom does not occur in any rule head:\n",
      "  ext_indep(1,3,s8y6)\n",
      "\n",
      "<block>:1:20-37: info: atom does not occur in any rule head:\n",
      "  ext_dep(1,6,s8y3)\n",
      "\n",
      "<block>:1:22-41: info: atom does not occur in any rule head:\n",
      "  ext_dep(5,6,s8y1y3)\n",
      "\n"
     ]
    },
    {
     "name": "stderr",
     "output_type": "stream",
     "text": [
      "<block>:1:18-37: info: atom does not occur in any rule head:\n",
      "  ext_indep(1,3,s8y6)\n",
      "\n",
      "<block>:1:20-37: info: atom does not occur in any rule head:\n",
      "  ext_dep(5,6,s8y3)\n",
      "\n",
      "<block>:1:22-41: info: atom does not occur in any rule head:\n",
      "  ext_dep(5,6,s8y1y3)\n",
      "\n"
     ]
    },
    {
     "name": "stderr",
     "output_type": "stream",
     "text": [
      "<block>:1:18-37: info: atom does not occur in any rule head:\n",
      "  ext_indep(1,3,s8y6)\n",
      "\n",
      "<block>:1:20-37: info: atom does not occur in any rule head:\n",
      "  ext_dep(3,6,s8y1)\n",
      "\n",
      "<block>:1:22-41: info: atom does not occur in any rule head:\n",
      "  ext_dep(5,6,s8y1y3)\n",
      "\n"
     ]
    },
    {
     "name": "stderr",
     "output_type": "stream",
     "text": [
      "<block>:1:18-37: info: atom does not occur in any rule head:\n",
      "  ext_indep(1,3,s8y6)\n",
      "\n",
      "<block>:1:20-37: info: atom does not occur in any rule head:\n",
      "  ext_dep(1,6,s8y3)\n",
      "\n",
      "<block>:1:22-41: info: atom does not occur in any rule head:\n",
      "  ext_dep(5,6,s8y1y3)\n",
      "\n"
     ]
    },
    {
     "name": "stderr",
     "output_type": "stream",
     "text": [
      "<block>:1:18-37: info: atom does not occur in any rule head:\n",
      "  ext_indep(1,3,s8y6)\n",
      "\n",
      "<block>:1:20-37: info: atom does not occur in any rule head:\n",
      "  ext_dep(5,6,s8y3)\n",
      "\n",
      "<block>:1:22-41: info: atom does not occur in any rule head:\n",
      "  ext_dep(5,6,s8y1y3)\n",
      "\n"
     ]
    },
    {
     "name": "stderr",
     "output_type": "stream",
     "text": [
      "<block>:1:18-37: info: atom does not occur in any rule head:\n",
      "  ext_indep(1,3,s8y6)\n",
      "\n",
      "<block>:1:20-37: info: atom does not occur in any rule head:\n",
      "  ext_dep(3,6,s8y1)\n",
      "\n",
      "<block>:1:22-41: info: atom does not occur in any rule head:\n",
      "  ext_dep(5,6,s8y1y3)\n",
      "\n"
     ]
    },
    {
     "name": "stderr",
     "output_type": "stream",
     "text": [
      "<block>:1:18-37: info: atom does not occur in any rule head:\n",
      "  ext_indep(1,3,s8y6)\n",
      "\n",
      "<block>:1:20-37: info: atom does not occur in any rule head:\n",
      "  ext_dep(5,6,s8y3)\n",
      "\n",
      "<block>:1:22-41: info: atom does not occur in any rule head:\n",
      "  ext_dep(5,6,s8y1y3)\n",
      "\n"
     ]
    },
    {
     "name": "stderr",
     "output_type": "stream",
     "text": [
      "<block>:1:18-37: info: atom does not occur in any rule head:\n",
      "  ext_indep(5,6,s8y1)\n",
      "\n",
      "<block>:1:20-37: info: atom does not occur in any rule head:\n",
      "  ext_dep(3,6,s8y1)\n",
      "\n",
      "<block>:1:22-41: info: atom does not occur in any rule head:\n",
      "  ext_dep(5,6,s8y1y3)\n",
      "\n"
     ]
    },
    {
     "name": "stderr",
     "output_type": "stream",
     "text": [
      "<block>:1:18-37: info: atom does not occur in any rule head:\n",
      "  ext_indep(5,6,s8y1)\n",
      "\n",
      "<block>:1:20-37: info: atom does not occur in any rule head:\n",
      "  ext_dep(3,6,s8y1)\n",
      "\n",
      "<block>:1:22-41: info: atom does not occur in any rule head:\n",
      "  ext_dep(5,6,s8y1y3)\n",
      "\n"
     ]
    },
    {
     "name": "stderr",
     "output_type": "stream",
     "text": [
      "<block>:1:18-37: info: atom does not occur in any rule head:\n",
      "  ext_indep(1,3,s8y6)\n",
      "\n",
      "<block>:1:20-37: info: atom does not occur in any rule head:\n",
      "  ext_dep(5,6,s8y3)\n",
      "\n",
      "<block>:1:22-41: info: atom does not occur in any rule head:\n",
      "  ext_dep(5,6,s8y1y3)\n",
      "\n"
     ]
    },
    {
     "name": "stderr",
     "output_type": "stream",
     "text": [
      "<block>:1:18-37: info: atom does not occur in any rule head:\n",
      "  ext_indep(5,6,s8y1)\n",
      "\n",
      "<block>:1:20-37: info: atom does not occur in any rule head:\n",
      "  ext_dep(3,6,s8y1)\n",
      "\n",
      "<block>:1:22-41: info: atom does not occur in any rule head:\n",
      "  ext_dep(5,6,s8y1y3)\n",
      "\n"
     ]
    },
    {
     "name": "stderr",
     "output_type": "stream",
     "text": [
      "<block>:1:18-37: info: atom does not occur in any rule head:\n",
      "  ext_indep(1,3,s8y6)\n",
      "\n",
      "<block>:1:20-37: info: atom does not occur in any rule head:\n",
      "  ext_dep(5,6,s8y3)\n",
      "\n",
      "<block>:1:22-41: info: atom does not occur in any rule head:\n",
      "  ext_dep(5,6,s8y1y3)\n",
      "\n"
     ]
    },
    {
     "name": "stderr",
     "output_type": "stream",
     "text": [
      "<block>:1:18-37: info: atom does not occur in any rule head:\n",
      "  ext_indep(1,3,s8y6)\n",
      "\n",
      "<block>:1:20-37: info: atom does not occur in any rule head:\n",
      "  ext_dep(5,6,s8y3)\n",
      "\n",
      "<block>:1:22-41: info: atom does not occur in any rule head:\n",
      "  ext_dep(5,6,s8y1y3)\n",
      "\n"
     ]
    },
    {
     "name": "stderr",
     "output_type": "stream",
     "text": [
      "<block>:1:18-37: info: atom does not occur in any rule head:\n",
      "  ext_indep(1,3,s8y6)\n",
      "\n",
      "<block>:1:20-37: info: atom does not occur in any rule head:\n",
      "  ext_dep(3,6,s8y1)\n",
      "\n",
      "<block>:1:22-41: info: atom does not occur in any rule head:\n",
      "  ext_dep(5,6,s8y1y3)\n",
      "\n"
     ]
    },
    {
     "name": "stderr",
     "output_type": "stream",
     "text": [
      "<block>:1:18-37: info: atom does not occur in any rule head:\n",
      "  ext_indep(1,3,s8y6)\n",
      "\n",
      "<block>:1:20-37: info: atom does not occur in any rule head:\n",
      "  ext_dep(5,6,s8y3)\n",
      "\n",
      "<block>:1:22-41: info: atom does not occur in any rule head:\n",
      "  ext_dep(5,6,s8y1y3)\n",
      "\n"
     ]
    },
    {
     "name": "stderr",
     "output_type": "stream",
     "text": [
      "<block>:1:18-37: info: atom does not occur in any rule head:\n",
      "  ext_indep(5,6,s8y1)\n",
      "\n",
      "<block>:1:20-37: info: atom does not occur in any rule head:\n",
      "  ext_dep(3,6,s8y1)\n",
      "\n",
      "<block>:1:22-41: info: atom does not occur in any rule head:\n",
      "  ext_dep(5,6,s8y1y3)\n",
      "\n",
      "<block>:1:18-37: info: atom does not occur in any rule head:\n",
      "  ext_indep(5,6,s8y1)\n",
      "\n",
      "<block>:1:20-37: info: atom does not occur in any rule head:\n",
      "  ext_dep(3,6,s8y1)\n",
      "\n",
      "<block>:1:22-41: info: atom does not occur in any rule head:\n",
      "  ext_dep(5,6,s8y1y3)\n",
      "\n",
      "<block>:1:18-37: info: atom does not occur in any rule head:\n",
      "  ext_indep(5,6,s8y1)\n",
      "\n",
      "<block>:1:20-37: info: atom does not occur in any rule head:\n",
      "  ext_dep(3,6,s8y1)\n",
      "\n",
      "<block>:1:22-41: info: atom does not occur in any rule head:\n",
      "  ext_dep(5,6,s8y1y3)\n",
      "\n"
     ]
    },
    {
     "name": "stderr",
     "output_type": "stream",
     "text": [
      "<block>:1:18-37: info: atom does not occur in any rule head:\n",
      "  ext_indep(5,6,s8y1)\n",
      "\n",
      "<block>:1:20-37: info: atom does not occur in any rule head:\n",
      "  ext_dep(3,6,s8y1)\n",
      "\n",
      "<block>:1:22-41: info: atom does not occur in any rule head:\n",
      "  ext_dep(5,6,s8y1y3)\n",
      "\n",
      "<block>:1:18-37: info: atom does not occur in any rule head:\n",
      "  ext_indep(5,6,s8y1)\n",
      "\n",
      "<block>:1:20-37: info: atom does not occur in any rule head:\n",
      "  ext_dep(3,6,s8y1)\n",
      "\n",
      "<block>:1:22-41: info: atom does not occur in any rule head:\n",
      "  ext_dep(5,6,s8y1y3)\n",
      "\n"
     ]
    },
    {
     "name": "stderr",
     "output_type": "stream",
     "text": [
      "<block>:1:18-37: info: atom does not occur in any rule head:\n",
      "  ext_indep(5,6,s8y1)\n",
      "\n",
      "<block>:1:20-37: info: atom does not occur in any rule head:\n",
      "  ext_dep(3,6,s8y1)\n",
      "\n",
      "<block>:1:22-41: info: atom does not occur in any rule head:\n",
      "  ext_dep(5,6,s8y1y3)\n",
      "\n",
      "<block>:1:18-37: info: atom does not occur in any rule head:\n",
      "  ext_indep(5,6,s8y1)\n",
      "\n",
      "<block>:1:20-37: info: atom does not occur in any rule head:\n",
      "  ext_dep(3,6,s8y1)\n",
      "\n",
      "<block>:1:22-41: info: atom does not occur in any rule head:\n",
      "  ext_dep(5,6,s8y1y3)\n",
      "\n",
      "<block>:1:18-37: info: atom does not occur in any rule head:\n",
      "  ext_indep(5,6,s8y1)\n",
      "\n",
      "<block>:1:20-37: info: atom does not occur in any rule head:\n",
      "  ext_dep(3,6,s8y1)\n",
      "\n",
      "<block>:1:22-41: info: atom does not occur in any rule head:\n",
      "  ext_dep(5,6,s8y1y3)\n",
      "\n"
     ]
    },
    {
     "name": "stderr",
     "output_type": "stream",
     "text": [
      "<block>:1:18-37: info: atom does not occur in any rule head:\n",
      "  ext_indep(5,6,s8y1)\n",
      "\n",
      "<block>:1:20-37: info: atom does not occur in any rule head:\n",
      "  ext_dep(3,6,s8y1)\n",
      "\n",
      "<block>:1:22-41: info: atom does not occur in any rule head:\n",
      "  ext_dep(5,6,s8y1y3)\n",
      "\n",
      "<block>:1:18-37: info: atom does not occur in any rule head:\n",
      "  ext_indep(5,6,s8y1)\n",
      "\n",
      "<block>:1:20-37: info: atom does not occur in any rule head:\n",
      "  ext_dep(1,6,s8y3)\n",
      "\n",
      "<block>:1:22-41: info: atom does not occur in any rule head:\n",
      "  ext_dep(5,6,s8y1y3)\n",
      "\n"
     ]
    },
    {
     "name": "stderr",
     "output_type": "stream",
     "text": [
      "<block>:1:18-37: info: atom does not occur in any rule head:\n",
      "  ext_indep(5,6,s8y1)\n",
      "\n",
      "<block>:1:20-37: info: atom does not occur in any rule head:\n",
      "  ext_dep(1,6,s8y3)\n",
      "\n",
      "<block>:1:22-41: info: atom does not occur in any rule head:\n",
      "  ext_dep(5,6,s8y1y3)\n",
      "\n",
      "<block>:1:18-37: info: atom does not occur in any rule head:\n",
      "  ext_indep(5,6,s8y1)\n",
      "\n",
      "<block>:1:20-37: info: atom does not occur in any rule head:\n",
      "  ext_dep(1,6,s8y3)\n",
      "\n",
      "<block>:1:22-41: info: atom does not occur in any rule head:\n",
      "  ext_dep(5,6,s8y1y3)\n",
      "\n"
     ]
    },
    {
     "name": "stderr",
     "output_type": "stream",
     "text": [
      "<block>:1:18-37: info: atom does not occur in any rule head:\n",
      "  ext_indep(5,6,s8y1)\n",
      "\n",
      "<block>:1:20-37: info: atom does not occur in any rule head:\n",
      "  ext_dep(1,6,s8y3)\n",
      "\n",
      "<block>:1:22-41: info: atom does not occur in any rule head:\n",
      "  ext_dep(5,6,s8y1y3)\n",
      "\n",
      "<block>:1:18-37: info: atom does not occur in any rule head:\n",
      "  ext_indep(5,6,s8y1)\n",
      "\n",
      "<block>:1:20-37: info: atom does not occur in any rule head:\n",
      "  ext_dep(1,6,s8y3)\n",
      "\n",
      "<block>:1:22-41: info: atom does not occur in any rule head:\n",
      "  ext_dep(5,6,s8y1y3)\n",
      "\n"
     ]
    },
    {
     "name": "stderr",
     "output_type": "stream",
     "text": [
      "<block>:1:18-37: info: atom does not occur in any rule head:\n",
      "  ext_indep(5,6,s8y1)\n",
      "\n",
      "<block>:1:20-37: info: atom does not occur in any rule head:\n",
      "  ext_dep(1,6,s8y3)\n",
      "\n",
      "<block>:1:22-41: info: atom does not occur in any rule head:\n",
      "  ext_dep(5,6,s8y1y3)\n",
      "\n"
     ]
    },
    {
     "name": "stderr",
     "output_type": "stream",
     "text": [
      "<block>:1:18-37: info: atom does not occur in any rule head:\n",
      "  ext_indep(5,6,s8y1)\n",
      "\n",
      "<block>:1:20-37: info: atom does not occur in any rule head:\n",
      "  ext_dep(3,6,s8y1)\n",
      "\n",
      "<block>:1:22-41: info: atom does not occur in any rule head:\n",
      "  ext_dep(5,6,s8y1y3)\n",
      "\n"
     ]
    },
    {
     "name": "stderr",
     "output_type": "stream",
     "text": [
      "<block>:1:18-37: info: atom does not occur in any rule head:\n",
      "  ext_indep(5,6,s8y1)\n",
      "\n",
      "<block>:1:20-37: info: atom does not occur in any rule head:\n",
      "  ext_dep(1,6,s8y3)\n",
      "\n",
      "<block>:1:22-41: info: atom does not occur in any rule head:\n",
      "  ext_dep(5,6,s8y1y3)\n",
      "\n"
     ]
    },
    {
     "name": "stderr",
     "output_type": "stream",
     "text": [
      "<block>:1:18-37: info: atom does not occur in any rule head:\n",
      "  ext_indep(5,6,s8y1)\n",
      "\n",
      "<block>:1:20-37: info: atom does not occur in any rule head:\n",
      "  ext_dep(3,6,s8y1)\n",
      "\n",
      "<block>:1:22-41: info: atom does not occur in any rule head:\n",
      "  ext_dep(5,6,s8y1y3)\n",
      "\n"
     ]
    },
    {
     "name": "stderr",
     "output_type": "stream",
     "text": [
      "<block>:1:18-37: info: atom does not occur in any rule head:\n",
      "  ext_indep(5,6,s8y1)\n",
      "\n",
      "<block>:1:20-37: info: atom does not occur in any rule head:\n",
      "  ext_dep(1,6,s8y3)\n",
      "\n",
      "<block>:1:22-41: info: atom does not occur in any rule head:\n",
      "  ext_dep(5,6,s8y1y3)\n",
      "\n"
     ]
    },
    {
     "name": "stderr",
     "output_type": "stream",
     "text": [
      "<block>:1:18-37: info: atom does not occur in any rule head:\n",
      "  ext_indep(5,6,s8y1)\n",
      "\n",
      "<block>:1:20-37: info: atom does not occur in any rule head:\n",
      "  ext_dep(1,6,s8y3)\n",
      "\n",
      "<block>:1:22-41: info: atom does not occur in any rule head:\n",
      "  ext_dep(5,6,s8y1y3)\n",
      "\n"
     ]
    },
    {
     "name": "stderr",
     "output_type": "stream",
     "text": [
      "<block>:1:18-37: info: atom does not occur in any rule head:\n",
      "  ext_indep(5,6,s8y1)\n",
      "\n",
      "<block>:1:20-37: info: atom does not occur in any rule head:\n",
      "  ext_dep(3,6,s8y1)\n",
      "\n",
      "<block>:1:22-41: info: atom does not occur in any rule head:\n",
      "  ext_dep(5,6,s8y1y3)\n",
      "\n",
      "<block>:1:18-37: info: atom does not occur in any rule head:\n",
      "  ext_indep(5,6,s8y1)\n",
      "\n",
      "<block>:1:20-37: info: atom does not occur in any rule head:\n",
      "  ext_dep(3,6,s8y1)\n",
      "\n",
      "<block>:1:22-41: info: atom does not occur in any rule head:\n",
      "  ext_dep(5,6,s8y1y3)\n",
      "\n",
      "<block>:1:18-37: info: atom does not occur in any rule head:\n",
      "  ext_indep(5,6,s8y1)\n",
      "\n",
      "<block>:1:20-37: info: atom does not occur in any rule head:\n",
      "  ext_dep(1,6,s8y3)\n",
      "\n",
      "<block>:1:22-41: info: atom does not occur in any rule head:\n",
      "  ext_dep(5,6,s8y1y3)\n",
      "\n"
     ]
    },
    {
     "name": "stderr",
     "output_type": "stream",
     "text": [
      "<block>:1:18-37: info: atom does not occur in any rule head:\n",
      "  ext_indep(5,6,s8y1)\n",
      "\n",
      "<block>:1:20-37: info: atom does not occur in any rule head:\n",
      "  ext_dep(3,6,s8y1)\n",
      "\n",
      "<block>:1:22-41: info: atom does not occur in any rule head:\n",
      "  ext_dep(5,6,s8y1y3)\n",
      "\n",
      "<block>:1:18-37: info: atom does not occur in any rule head:\n",
      "  ext_indep(5,6,s8y1)\n",
      "\n",
      "<block>:1:20-37: info: atom does not occur in any rule head:\n",
      "  ext_dep(1,6,s8y3)\n",
      "\n",
      "<block>:1:22-41: info: atom does not occur in any rule head:\n",
      "  ext_dep(5,6,s8y1y3)\n",
      "\n"
     ]
    },
    {
     "name": "stderr",
     "output_type": "stream",
     "text": [
      "<block>:1:18-37: info: atom does not occur in any rule head:\n",
      "  ext_indep(5,6,s8y1)\n",
      "\n",
      "<block>:1:20-37: info: atom does not occur in any rule head:\n",
      "  ext_dep(1,6,s8y3)\n",
      "\n",
      "<block>:1:22-41: info: atom does not occur in any rule head:\n",
      "  ext_dep(5,6,s8y1y3)\n",
      "\n"
     ]
    },
    {
     "name": "stderr",
     "output_type": "stream",
     "text": [
      "<block>:1:18-37: info: atom does not occur in any rule head:\n",
      "  ext_indep(5,6,s8y1)\n",
      "\n",
      "<block>:1:20-37: info: atom does not occur in any rule head:\n",
      "  ext_dep(1,6,s8y3)\n",
      "\n",
      "<block>:1:22-41: info: atom does not occur in any rule head:\n",
      "  ext_dep(5,6,s8y1y3)\n",
      "\n"
     ]
    },
    {
     "name": "stderr",
     "output_type": "stream",
     "text": [
      "<block>:1:18-37: info: atom does not occur in any rule head:\n",
      "  ext_indep(5,6,s8y1)\n",
      "\n",
      "<block>:1:20-37: info: atom does not occur in any rule head:\n",
      "  ext_dep(3,6,s8y1)\n",
      "\n",
      "<block>:1:22-41: info: atom does not occur in any rule head:\n",
      "  ext_dep(5,6,s8y1y3)\n",
      "\n"
     ]
    },
    {
     "name": "stderr",
     "output_type": "stream",
     "text": [
      "<block>:1:18-37: info: atom does not occur in any rule head:\n",
      "  ext_indep(5,6,s8y1)\n",
      "\n",
      "<block>:1:20-37: info: atom does not occur in any rule head:\n",
      "  ext_dep(1,6,s8y3)\n",
      "\n",
      "<block>:1:22-41: info: atom does not occur in any rule head:\n",
      "  ext_dep(5,6,s8y1y3)\n",
      "\n"
     ]
    },
    {
     "name": "stderr",
     "output_type": "stream",
     "text": [
      "<block>:1:18-37: info: atom does not occur in any rule head:\n",
      "  ext_indep(5,6,s8y1)\n",
      "\n",
      "<block>:1:20-37: info: atom does not occur in any rule head:\n",
      "  ext_dep(1,6,s8y3)\n",
      "\n",
      "<block>:1:22-41: info: atom does not occur in any rule head:\n",
      "  ext_dep(5,6,s8y1y3)\n",
      "\n"
     ]
    },
    {
     "name": "stderr",
     "output_type": "stream",
     "text": [
      "<block>:1:18-37: info: atom does not occur in any rule head:\n",
      "  ext_indep(5,6,s8y1)\n",
      "\n",
      "<block>:1:20-37: info: atom does not occur in any rule head:\n",
      "  ext_dep(3,6,s8y1)\n",
      "\n",
      "<block>:1:22-41: info: atom does not occur in any rule head:\n",
      "  ext_dep(5,6,s8y1y3)\n",
      "\n"
     ]
    },
    {
     "name": "stderr",
     "output_type": "stream",
     "text": [
      "<block>:1:18-37: info: atom does not occur in any rule head:\n",
      "  ext_indep(5,6,s8y1)\n",
      "\n",
      "<block>:1:20-37: info: atom does not occur in any rule head:\n",
      "  ext_dep(1,6,s8y3)\n",
      "\n",
      "<block>:1:22-41: info: atom does not occur in any rule head:\n",
      "  ext_dep(5,6,s8y1y3)\n",
      "\n"
     ]
    },
    {
     "name": "stderr",
     "output_type": "stream",
     "text": [
      "<block>:1:18-37: info: atom does not occur in any rule head:\n",
      "  ext_indep(5,6,s8y1)\n",
      "\n",
      "<block>:1:20-37: info: atom does not occur in any rule head:\n",
      "  ext_dep(1,6,s8y3)\n",
      "\n",
      "<block>:1:22-41: info: atom does not occur in any rule head:\n",
      "  ext_dep(5,6,s8y1y3)\n",
      "\n"
     ]
    },
    {
     "name": "stderr",
     "output_type": "stream",
     "text": [
      "<block>:1:18-37: info: atom does not occur in any rule head:\n",
      "  ext_indep(5,6,s8y1)\n",
      "\n",
      "<block>:1:20-37: info: atom does not occur in any rule head:\n",
      "  ext_dep(1,6,s8y3)\n",
      "\n",
      "<block>:1:22-41: info: atom does not occur in any rule head:\n",
      "  ext_dep(5,6,s8y1y3)\n",
      "\n"
     ]
    },
    {
     "name": "stderr",
     "output_type": "stream",
     "text": [
      "<block>:1:18-37: info: atom does not occur in any rule head:\n",
      "  ext_indep(5,6,s8y1)\n",
      "\n",
      "<block>:1:20-37: info: atom does not occur in any rule head:\n",
      "  ext_dep(1,6,s8y3)\n",
      "\n",
      "<block>:1:22-41: info: atom does not occur in any rule head:\n",
      "  ext_dep(5,6,s8y1y3)\n",
      "\n"
     ]
    },
    {
     "name": "stderr",
     "output_type": "stream",
     "text": [
      "<block>:1:18-37: info: atom does not occur in any rule head:\n",
      "  ext_indep(5,6,s8y1)\n",
      "\n",
      "<block>:1:20-37: info: atom does not occur in any rule head:\n",
      "  ext_dep(3,6,s8y1)\n",
      "\n",
      "<block>:1:22-41: info: atom does not occur in any rule head:\n",
      "  ext_dep(5,6,s8y1y3)\n",
      "\n"
     ]
    },
    {
     "name": "stderr",
     "output_type": "stream",
     "text": [
      "<block>:1:18-37: info: atom does not occur in any rule head:\n",
      "  ext_indep(5,6,s8y1)\n",
      "\n",
      "<block>:1:20-37: info: atom does not occur in any rule head:\n",
      "  ext_dep(5,6,s8y3)\n",
      "\n",
      "<block>:1:22-41: info: atom does not occur in any rule head:\n",
      "  ext_dep(5,6,s8y1y3)\n",
      "\n",
      "<block>:1:18-37: info: atom does not occur in any rule head:\n",
      "  ext_indep(5,6,s8y1)\n",
      "\n",
      "<block>:1:20-37: info: atom does not occur in any rule head:\n",
      "  ext_dep(5,6,s8y3)\n",
      "\n",
      "<block>:1:22-41: info: atom does not occur in any rule head:\n",
      "  ext_dep(5,6,s8y1y3)\n",
      "\n",
      "<block>:1:18-37: info: atom does not occur in any rule head:\n",
      "  ext_indep(5,6,s8y1)\n",
      "\n",
      "<block>:1:20-37: info: atom does not occur in any rule head:\n",
      "  ext_dep(5,6,s8y3)\n",
      "\n",
      "<block>:1:22-41: info: atom does not occur in any rule head:\n",
      "  ext_dep(5,6,s8y1y3)\n",
      "\n"
     ]
    },
    {
     "name": "stderr",
     "output_type": "stream",
     "text": [
      "<block>:1:18-37: info: atom does not occur in any rule head:\n",
      "  ext_indep(5,6,s8y1)\n",
      "\n",
      "<block>:1:20-37: info: atom does not occur in any rule head:\n",
      "  ext_dep(5,6,s8y3)\n",
      "\n",
      "<block>:1:22-41: info: atom does not occur in any rule head:\n",
      "  ext_dep(5,6,s8y1y3)\n",
      "\n",
      "<block>:1:18-37: info: atom does not occur in any rule head:\n",
      "  ext_indep(5,6,s8y1)\n",
      "\n",
      "<block>:1:20-37: info: atom does not occur in any rule head:\n",
      "  ext_dep(5,6,s8y3)\n",
      "\n",
      "<block>:1:22-41: info: atom does not occur in any rule head:\n",
      "  ext_dep(5,6,s8y1y3)\n",
      "\n",
      "<block>:1:18-37: info: atom does not occur in any rule head:\n",
      "  ext_indep(5,6,s8y1)\n",
      "\n",
      "<block>:1:20-37: info: atom does not occur in any rule head:\n",
      "  ext_dep(5,6,s8y3)\n",
      "\n",
      "<block>:1:22-41: info: atom does not occur in any rule head:\n",
      "  ext_dep(5,6,s8y1y3)\n",
      "\n"
     ]
    },
    {
     "name": "stderr",
     "output_type": "stream",
     "text": [
      "<block>:1:18-37: info: atom does not occur in any rule head:\n",
      "  ext_indep(1,3,s8y6)\n",
      "\n",
      "<block>:1:20-37: info: atom does not occur in any rule head:\n",
      "  ext_dep(3,6,s8y1)\n",
      "\n",
      "<block>:1:22-41: info: atom does not occur in any rule head:\n",
      "  ext_dep(5,6,s8y1y3)\n",
      "\n",
      "<block>:1:18-37: info: atom does not occur in any rule head:\n",
      "  ext_indep(5,6,s8y1)\n",
      "\n",
      "<block>:1:20-37: info: atom does not occur in any rule head:\n",
      "  ext_dep(3,6,s8y1)\n",
      "\n",
      "<block>:1:22-41: info: atom does not occur in any rule head:\n",
      "  ext_dep(5,6,s8y1y3)\n",
      "\n"
     ]
    },
    {
     "name": "stderr",
     "output_type": "stream",
     "text": [
      "<block>:1:18-37: info: atom does not occur in any rule head:\n",
      "  ext_indep(5,6,s8y1)\n",
      "\n",
      "<block>:1:20-37: info: atom does not occur in any rule head:\n",
      "  ext_dep(3,6,s8y1)\n",
      "\n",
      "<block>:1:22-41: info: atom does not occur in any rule head:\n",
      "  ext_dep(5,6,s8y1y3)\n",
      "\n",
      "<block>:1:18-37: info: atom does not occur in any rule head:\n",
      "  ext_indep(1,3,s8y6)\n",
      "\n",
      "<block>:1:20-37: info: atom does not occur in any rule head:\n",
      "  ext_dep(1,6,s8y3)\n",
      "\n",
      "<block>:1:22-41: info: atom does not occur in any rule head:\n",
      "  ext_dep(5,6,s8y1y3)\n",
      "\n"
     ]
    },
    {
     "name": "stderr",
     "output_type": "stream",
     "text": [
      "<block>:1:18-37: info: atom does not occur in any rule head:\n",
      "  ext_indep(5,6,s8y1)\n",
      "\n",
      "<block>:1:20-37: info: atom does not occur in any rule head:\n",
      "  ext_dep(5,6,s8y3)\n",
      "\n",
      "<block>:1:22-41: info: atom does not occur in any rule head:\n",
      "  ext_dep(5,6,s8y1y3)\n",
      "\n",
      "<block>:1:18-37: info: atom does not occur in any rule head:\n",
      "  ext_indep(5,6,s8y1)\n",
      "\n",
      "<block>:1:20-37: info: atom does not occur in any rule head:\n",
      "  ext_dep(5,6,s8y3)\n",
      "\n",
      "<block>:1:22-41: info: atom does not occur in any rule head:\n",
      "  ext_dep(5,6,s8y1y3)\n",
      "\n",
      "<block>:1:18-37: info: atom does not occur in any rule head:\n",
      "  ext_indep(5,6,s8y1)\n",
      "\n",
      "<block>:1:20-37: info: atom does not occur in any rule head:\n",
      "  ext_dep(5,6,s8y3)\n",
      "\n",
      "<block>:1:22-41: info: atom does not occur in any rule head:\n",
      "  ext_dep(5,6,s8y1y3)\n",
      "\n"
     ]
    },
    {
     "name": "stderr",
     "output_type": "stream",
     "text": [
      "<block>:1:18-37: info: atom does not occur in any rule head:\n",
      "  ext_indep(5,6,s8y1)\n",
      "\n",
      "<block>:1:20-37: info: atom does not occur in any rule head:\n",
      "  ext_dep(5,6,s8y3)\n",
      "\n",
      "<block>:1:22-41: info: atom does not occur in any rule head:\n",
      "  ext_dep(5,6,s8y1y3)\n",
      "\n",
      "<block>:1:18-37: info: atom does not occur in any rule head:\n",
      "  ext_indep(5,6,s8y1)\n",
      "\n",
      "<block>:1:20-37: info: atom does not occur in any rule head:\n",
      "  ext_dep(5,6,s8y3)\n",
      "\n",
      "<block>:1:22-41: info: atom does not occur in any rule head:\n",
      "  ext_dep(5,6,s8y1y3)\n",
      "\n"
     ]
    },
    {
     "name": "stderr",
     "output_type": "stream",
     "text": [
      "<block>:1:18-37: info: atom does not occur in any rule head:\n",
      "  ext_indep(5,6,s8y1)\n",
      "\n",
      "<block>:1:20-37: info: atom does not occur in any rule head:\n",
      "  ext_dep(1,6,s8y3)\n",
      "\n",
      "<block>:1:22-41: info: atom does not occur in any rule head:\n",
      "  ext_dep(5,6,s8y1y3)\n",
      "\n",
      "<block>:1:18-37: info: atom does not occur in any rule head:\n",
      "  ext_indep(5,6,s8y1)\n",
      "\n",
      "<block>:1:20-37: info: atom does not occur in any rule head:\n",
      "  ext_dep(1,6,s8y3)\n",
      "\n",
      "<block>:1:22-41: info: atom does not occur in any rule head:\n",
      "  ext_dep(5,6,s8y1y3)\n",
      "\n"
     ]
    },
    {
     "name": "stderr",
     "output_type": "stream",
     "text": [
      "<block>:1:18-37: info: atom does not occur in any rule head:\n",
      "  ext_indep(5,6,s8y1)\n",
      "\n",
      "<block>:1:20-37: info: atom does not occur in any rule head:\n",
      "  ext_dep(1,6,s8y3)\n",
      "\n",
      "<block>:1:22-41: info: atom does not occur in any rule head:\n",
      "  ext_dep(5,6,s8y1y3)\n",
      "\n",
      "<block>:1:18-37: info: atom does not occur in any rule head:\n",
      "  ext_indep(5,6,s8y1)\n",
      "\n",
      "<block>:1:20-37: info: atom does not occur in any rule head:\n",
      "  ext_dep(5,6,s8y3)\n",
      "\n",
      "<block>:1:22-41: info: atom does not occur in any rule head:\n",
      "  ext_dep(5,6,s8y1y3)\n",
      "\n"
     ]
    },
    {
     "name": "stderr",
     "output_type": "stream",
     "text": [
      "<block>:1:18-37: info: atom does not occur in any rule head:\n",
      "  ext_indep(5,6,s8y1)\n",
      "\n",
      "<block>:1:20-37: info: atom does not occur in any rule head:\n",
      "  ext_dep(5,6,s8y3)\n",
      "\n",
      "<block>:1:22-41: info: atom does not occur in any rule head:\n",
      "  ext_dep(5,6,s8y1y3)\n",
      "\n",
      "<block>:1:18-37: info: atom does not occur in any rule head:\n",
      "  ext_indep(5,6,s8y1)\n",
      "\n",
      "<block>:1:20-37: info: atom does not occur in any rule head:\n",
      "  ext_dep(5,6,s8y3)\n",
      "\n",
      "<block>:1:22-41: info: atom does not occur in any rule head:\n",
      "  ext_dep(5,6,s8y1y3)\n",
      "\n",
      "<block>:1:18-37: info: atom does not occur in any rule head:\n",
      "  ext_indep(5,6,s8y1)\n",
      "\n",
      "<block>:1:20-37: info: atom does not occur in any rule head:\n",
      "  ext_dep(5,6,s8y3)\n",
      "\n",
      "<block>:1:22-41: info: atom does not occur in any rule head:\n",
      "  ext_dep(5,6,s8y1y3)\n",
      "\n"
     ]
    },
    {
     "name": "stderr",
     "output_type": "stream",
     "text": [
      "<block>:1:18-37: info: atom does not occur in any rule head:\n",
      "  ext_indep(5,6,s8y1)\n",
      "\n",
      "<block>:1:20-37: info: atom does not occur in any rule head:\n",
      "  ext_dep(5,6,s8y3)\n",
      "\n",
      "<block>:1:22-41: info: atom does not occur in any rule head:\n",
      "  ext_dep(5,6,s8y1y3)\n",
      "\n",
      "<block>:1:18-37: info: atom does not occur in any rule head:\n",
      "  ext_indep(5,6,s8y1)\n",
      "\n",
      "<block>:1:20-37: info: atom does not occur in any rule head:\n",
      "  ext_dep(1,6,s8y3)\n",
      "\n",
      "<block>:1:22-41: info: atom does not occur in any rule head:\n",
      "  ext_dep(5,6,s8y1y3)\n",
      "\n"
     ]
    },
    {
     "name": "stderr",
     "output_type": "stream",
     "text": [
      "<block>:1:18-37: info: atom does not occur in any rule head:\n",
      "  ext_indep(5,6,s8y1)\n",
      "\n",
      "<block>:1:20-37: info: atom does not occur in any rule head:\n",
      "  ext_dep(1,6,s8y3)\n",
      "\n",
      "<block>:1:22-41: info: atom does not occur in any rule head:\n",
      "  ext_dep(5,6,s8y1y3)\n",
      "\n"
     ]
    },
    {
     "name": "stderr",
     "output_type": "stream",
     "text": [
      "<block>:1:18-37: info: atom does not occur in any rule head:\n",
      "  ext_indep(5,6,s8y1)\n",
      "\n",
      "<block>:1:20-37: info: atom does not occur in any rule head:\n",
      "  ext_dep(5,6,s8y3)\n",
      "\n",
      "<block>:1:22-41: info: atom does not occur in any rule head:\n",
      "  ext_dep(5,6,s8y1y3)\n",
      "\n"
     ]
    },
    {
     "name": "stderr",
     "output_type": "stream",
     "text": [
      "<block>:1:18-37: info: atom does not occur in any rule head:\n",
      "  ext_indep(5,6,s8y1)\n",
      "\n",
      "<block>:1:20-37: info: atom does not occur in any rule head:\n",
      "  ext_dep(1,6,s8y3)\n",
      "\n",
      "<block>:1:22-41: info: atom does not occur in any rule head:\n",
      "  ext_dep(5,6,s8y1y3)\n",
      "\n",
      "<block>:1:18-37: info: atom does not occur in any rule head:\n",
      "  ext_indep(5,6,s8y1)\n",
      "\n",
      "<block>:1:20-37: info: atom does not occur in any rule head:\n",
      "  ext_dep(5,6,s8y3)\n",
      "\n",
      "<block>:1:22-41: info: atom does not occur in any rule head:\n",
      "  ext_dep(5,6,s8y1y3)\n",
      "\n",
      "<block>:1:18-37: info: atom does not occur in any rule head:\n",
      "  ext_indep(5,6,s8y1)\n",
      "\n",
      "<block>:1:20-37: info: atom does not occur in any rule head:\n",
      "  ext_dep(5,6,s8y3)\n",
      "\n",
      "<block>:1:22-41: info: atom does not occur in any rule head:\n",
      "  ext_dep(5,6,s8y1y3)\n",
      "\n"
     ]
    },
    {
     "name": "stderr",
     "output_type": "stream",
     "text": [
      "<block>:1:18-37: info: atom does not occur in any rule head:\n",
      "  ext_indep(5,6,s8y1)\n",
      "\n",
      "<block>:1:20-37: info: atom does not occur in any rule head:\n",
      "  ext_dep(1,6,s8y3)\n",
      "\n",
      "<block>:1:22-41: info: atom does not occur in any rule head:\n",
      "  ext_dep(5,6,s8y1y3)\n",
      "\n",
      "<block>:1:18-37: info: atom does not occur in any rule head:\n",
      "  ext_indep(5,6,s8y1)\n",
      "\n",
      "<block>:1:20-37: info: atom does not occur in any rule head:\n",
      "  ext_dep(1,6,s8y3)\n",
      "\n",
      "<block>:1:22-41: info: atom does not occur in any rule head:\n",
      "  ext_dep(5,6,s8y1y3)\n",
      "\n",
      "<block>:1:18-37: info: atom does not occur in any rule head:\n",
      "  ext_indep(5,6,s8y1)\n",
      "\n",
      "<block>:1:20-37: info: atom does not occur in any rule head:\n",
      "  ext_dep(5,6,s8y3)\n",
      "\n",
      "<block>:1:22-41: info: atom does not occur in any rule head:\n",
      "  ext_dep(5,6,s8y1y3)\n",
      "\n"
     ]
    },
    {
     "name": "stderr",
     "output_type": "stream",
     "text": [
      "<block>:1:18-37: info: atom does not occur in any rule head:\n",
      "  ext_indep(5,6,s8y1)\n",
      "\n",
      "<block>:1:20-37: info: atom does not occur in any rule head:\n",
      "  ext_dep(1,6,s8y3)\n",
      "\n",
      "<block>:1:22-41: info: atom does not occur in any rule head:\n",
      "  ext_dep(5,6,s8y1y3)\n",
      "\n",
      "<block>:1:18-37: info: atom does not occur in any rule head:\n",
      "  ext_indep(5,6,s8y1)\n",
      "\n",
      "<block>:1:20-37: info: atom does not occur in any rule head:\n",
      "  ext_dep(5,6,s8y3)\n",
      "\n",
      "<block>:1:22-41: info: atom does not occur in any rule head:\n",
      "  ext_dep(5,6,s8y1y3)\n",
      "\n"
     ]
    },
    {
     "name": "stderr",
     "output_type": "stream",
     "text": [
      "<block>:1:18-37: info: atom does not occur in any rule head:\n",
      "  ext_indep(5,6,s8y1)\n",
      "\n",
      "<block>:1:20-37: info: atom does not occur in any rule head:\n",
      "  ext_dep(3,6,s8y1)\n",
      "\n",
      "<block>:1:22-41: info: atom does not occur in any rule head:\n",
      "  ext_dep(5,6,s8y1y3)\n",
      "\n",
      "<block>:1:18-37: info: atom does not occur in any rule head:\n",
      "  ext_indep(5,6,s8y1)\n",
      "\n",
      "<block>:1:20-37: info: atom does not occur in any rule head:\n",
      "  ext_dep(3,6,s8y1)\n",
      "\n",
      "<block>:1:22-41: info: atom does not occur in any rule head:\n",
      "  ext_dep(5,6,s8y1y3)\n",
      "\n",
      "<block>:1:18-37: info: atom does not occur in any rule head:\n",
      "  ext_indep(5,6,s8y1)\n",
      "\n",
      "<block>:1:20-37: info: atom does not occur in any rule head:\n",
      "  ext_dep(5,6,s8y3)\n",
      "\n",
      "<block>:1:22-41: info: atom does not occur in any rule head:\n",
      "  ext_dep(5,6,s8y1y3)\n",
      "\n"
     ]
    },
    {
     "name": "stderr",
     "output_type": "stream",
     "text": [
      "<block>:1:18-37: info: atom does not occur in any rule head:\n",
      "  ext_indep(5,6,s8y1)\n",
      "\n",
      "<block>:1:20-37: info: atom does not occur in any rule head:\n",
      "  ext_dep(5,6,s8y3)\n",
      "\n",
      "<block>:1:22-41: info: atom does not occur in any rule head:\n",
      "  ext_dep(5,6,s8y1y3)\n",
      "\n",
      "<block>:1:18-37: info: atom does not occur in any rule head:\n",
      "  ext_indep(5,6,s8y1)\n",
      "\n",
      "<block>:1:20-37: info: atom does not occur in any rule head:\n",
      "  ext_dep(1,6,s8y3)\n",
      "\n",
      "<block>:1:22-41: info: atom does not occur in any rule head:\n",
      "  ext_dep(5,6,s8y1y3)\n",
      "\n"
     ]
    },
    {
     "name": "stderr",
     "output_type": "stream",
     "text": [
      "<block>:1:18-37: info: atom does not occur in any rule head:\n",
      "  ext_indep(5,6,s8y1)\n",
      "\n",
      "<block>:1:20-37: info: atom does not occur in any rule head:\n",
      "  ext_dep(3,6,s8y1)\n",
      "\n",
      "<block>:1:22-41: info: atom does not occur in any rule head:\n",
      "  ext_dep(5,6,s8y1y3)\n",
      "\n"
     ]
    },
    {
     "name": "stderr",
     "output_type": "stream",
     "text": [
      "<block>:1:18-37: info: atom does not occur in any rule head:\n",
      "  ext_indep(5,6,s8y1)\n",
      "\n",
      "<block>:1:20-37: info: atom does not occur in any rule head:\n",
      "  ext_dep(1,6,s8y3)\n",
      "\n",
      "<block>:1:22-41: info: atom does not occur in any rule head:\n",
      "  ext_dep(5,6,s8y1y3)\n",
      "\n"
     ]
    },
    {
     "name": "stderr",
     "output_type": "stream",
     "text": [
      "<block>:1:18-37: info: atom does not occur in any rule head:\n",
      "  ext_indep(5,6,s8y1)\n",
      "\n",
      "<block>:1:20-37: info: atom does not occur in any rule head:\n",
      "  ext_dep(1,6,s8y3)\n",
      "\n",
      "<block>:1:22-41: info: atom does not occur in any rule head:\n",
      "  ext_dep(5,6,s8y1y3)\n",
      "\n"
     ]
    },
    {
     "name": "stderr",
     "output_type": "stream",
     "text": [
      "<block>:1:18-37: info: atom does not occur in any rule head:\n",
      "  ext_indep(5,6,s8y1)\n",
      "\n",
      "<block>:1:20-37: info: atom does not occur in any rule head:\n",
      "  ext_dep(1,6,s8y3)\n",
      "\n",
      "<block>:1:22-41: info: atom does not occur in any rule head:\n",
      "  ext_dep(5,6,s8y1y3)\n",
      "\n"
     ]
    },
    {
     "name": "stderr",
     "output_type": "stream",
     "text": [
      "<block>:1:18-37: info: atom does not occur in any rule head:\n",
      "  ext_indep(5,6,s8y1)\n",
      "\n",
      "<block>:1:20-37: info: atom does not occur in any rule head:\n",
      "  ext_dep(1,6,s8y3)\n",
      "\n",
      "<block>:1:22-41: info: atom does not occur in any rule head:\n",
      "  ext_dep(5,6,s8y1y3)\n",
      "\n"
     ]
    },
    {
     "name": "stderr",
     "output_type": "stream",
     "text": [
      "<block>:1:18-37: info: atom does not occur in any rule head:\n",
      "  ext_indep(5,6,s8y1)\n",
      "\n",
      "<block>:1:20-37: info: atom does not occur in any rule head:\n",
      "  ext_dep(3,6,s8y1)\n",
      "\n",
      "<block>:1:22-41: info: atom does not occur in any rule head:\n",
      "  ext_dep(5,6,s8y1y3)\n",
      "\n"
     ]
    },
    {
     "name": "stderr",
     "output_type": "stream",
     "text": [
      "<block>:1:18-37: info: atom does not occur in any rule head:\n",
      "  ext_indep(5,6,s8y1)\n",
      "\n",
      "<block>:1:20-37: info: atom does not occur in any rule head:\n",
      "  ext_dep(3,6,s8y1)\n",
      "\n",
      "<block>:1:22-41: info: atom does not occur in any rule head:\n",
      "  ext_dep(5,6,s8y1y3)\n",
      "\n"
     ]
    },
    {
     "name": "stderr",
     "output_type": "stream",
     "text": [
      "<block>:1:18-37: info: atom does not occur in any rule head:\n",
      "  ext_indep(5,6,s8y1)\n",
      "\n",
      "<block>:1:20-37: info: atom does not occur in any rule head:\n",
      "  ext_dep(3,6,s8y1)\n",
      "\n",
      "<block>:1:22-41: info: atom does not occur in any rule head:\n",
      "  ext_dep(5,6,s8y1y3)\n",
      "\n"
     ]
    },
    {
     "name": "stderr",
     "output_type": "stream",
     "text": [
      "<block>:1:18-37: info: atom does not occur in any rule head:\n",
      "  ext_indep(5,6,s8y1)\n",
      "\n",
      "<block>:1:20-37: info: atom does not occur in any rule head:\n",
      "  ext_dep(1,6,s8y3)\n",
      "\n",
      "<block>:1:22-41: info: atom does not occur in any rule head:\n",
      "  ext_dep(5,6,s8y1y3)\n",
      "\n"
     ]
    },
    {
     "name": "stderr",
     "output_type": "stream",
     "text": [
      "<block>:1:18-37: info: atom does not occur in any rule head:\n",
      "  ext_indep(5,6,s8y1)\n",
      "\n",
      "<block>:1:20-37: info: atom does not occur in any rule head:\n",
      "  ext_dep(5,6,s8y3)\n",
      "\n",
      "<block>:1:22-41: info: atom does not occur in any rule head:\n",
      "  ext_dep(5,6,s8y1y3)\n",
      "\n"
     ]
    },
    {
     "name": "stderr",
     "output_type": "stream",
     "text": [
      "<block>:1:18-37: info: atom does not occur in any rule head:\n",
      "  ext_indep(5,6,s8y1)\n",
      "\n",
      "<block>:1:20-37: info: atom does not occur in any rule head:\n",
      "  ext_dep(1,6,s8y3)\n",
      "\n",
      "<block>:1:22-41: info: atom does not occur in any rule head:\n",
      "  ext_dep(5,6,s8y1y3)\n",
      "\n"
     ]
    },
    {
     "name": "stderr",
     "output_type": "stream",
     "text": [
      "<block>:1:18-37: info: atom does not occur in any rule head:\n",
      "  ext_indep(5,6,s8y1)\n",
      "\n",
      "<block>:1:20-37: info: atom does not occur in any rule head:\n",
      "  ext_dep(1,6,s8y3)\n",
      "\n",
      "<block>:1:22-41: info: atom does not occur in any rule head:\n",
      "  ext_dep(5,6,s8y1y3)\n",
      "\n"
     ]
    },
    {
     "name": "stderr",
     "output_type": "stream",
     "text": [
      "<block>:1:18-37: info: atom does not occur in any rule head:\n",
      "  ext_indep(5,6,s8y1)\n",
      "\n",
      "<block>:1:20-37: info: atom does not occur in any rule head:\n",
      "  ext_dep(3,6,s8y1)\n",
      "\n",
      "<block>:1:22-41: info: atom does not occur in any rule head:\n",
      "  ext_dep(5,6,s8y1y3)\n",
      "\n"
     ]
    },
    {
     "name": "stderr",
     "output_type": "stream",
     "text": [
      "<block>:1:20-37: info: atom does not occur in any rule head:\n",
      "  ext_dep(1,6,s8y3)\n",
      "\n",
      "<block>:1:22-41: info: atom does not occur in any rule head:\n",
      "  ext_dep(5,6,s8y1y3)\n",
      "\n"
     ]
    },
    {
     "name": "stderr",
     "output_type": "stream",
     "text": [
      "<block>:1:20-37: info: atom does not occur in any rule head:\n",
      "  ext_dep(1,6,s8y3)\n",
      "\n",
      "<block>:1:22-41: info: atom does not occur in any rule head:\n",
      "  ext_dep(5,6,s8y1y3)\n",
      "\n"
     ]
    },
    {
     "name": "stderr",
     "output_type": "stream",
     "text": [
      "<block>:1:20-37: info: atom does not occur in any rule head:\n",
      "  ext_dep(1,6,s8y3)\n",
      "\n",
      "<block>:1:22-41: info: atom does not occur in any rule head:\n",
      "  ext_dep(5,6,s8y1y3)\n",
      "\n"
     ]
    },
    {
     "name": "stderr",
     "output_type": "stream",
     "text": [
      "<block>:1:20-37: info: atom does not occur in any rule head:\n",
      "  ext_dep(3,6,s8y1)\n",
      "\n",
      "<block>:1:22-41: info: atom does not occur in any rule head:\n",
      "  ext_dep(5,6,s8y1y3)\n",
      "\n"
     ]
    },
    {
     "name": "stderr",
     "output_type": "stream",
     "text": [
      "<block>:1:20-37: info: atom does not occur in any rule head:\n",
      "  ext_dep(3,6,s8y1)\n",
      "\n",
      "<block>:1:22-41: info: atom does not occur in any rule head:\n",
      "  ext_dep(5,6,s8y1y3)\n",
      "\n"
     ]
    },
    {
     "name": "stderr",
     "output_type": "stream",
     "text": [
      "<block>:1:20-37: info: atom does not occur in any rule head:\n",
      "  ext_dep(1,6,s8y3)\n",
      "\n",
      "<block>:1:22-41: info: atom does not occur in any rule head:\n",
      "  ext_dep(5,6,s8y1y3)\n",
      "\n"
     ]
    },
    {
     "name": "stderr",
     "output_type": "stream",
     "text": [
      "<block>:1:18-37: info: atom does not occur in any rule head:\n",
      "  ext_indep(5,6,s8y1)\n",
      "\n",
      "<block>:1:20-37: info: atom does not occur in any rule head:\n",
      "  ext_dep(5,6,s8y3)\n",
      "\n",
      "<block>:1:22-41: info: atom does not occur in any rule head:\n",
      "  ext_dep(5,6,s8y1y3)\n",
      "\n",
      "<block>:1:18-37: info: atom does not occur in any rule head:\n",
      "  ext_indep(5,6,s8y1)\n",
      "\n",
      "<block>:1:20-37: info: atom does not occur in any rule head:\n",
      "  ext_dep(3,6,s8y1)\n",
      "\n",
      "<block>:1:22-41: info: atom does not occur in any rule head:\n",
      "  ext_dep(5,6,s8y1y3)\n",
      "\n",
      "<block>:1:18-37: info: atom does not occur in any rule head:\n",
      "  ext_indep(5,6,s8y1)\n",
      "\n",
      "<block>:1:20-37: info: atom does not occur in any rule head:\n",
      "  ext_dep(5,6,s8y3)\n",
      "\n",
      "<block>:1:22-41: info: atom does not occur in any rule head:\n",
      "  ext_dep(5,6,s8y1y3)\n",
      "\n"
     ]
    },
    {
     "name": "stderr",
     "output_type": "stream",
     "text": [
      "<block>:1:18-37: info: atom does not occur in any rule head:\n",
      "  ext_indep(5,6,s8y1)\n",
      "\n",
      "<block>:1:20-37: info: atom does not occur in any rule head:\n",
      "  ext_dep(5,6,s8y3)\n",
      "\n",
      "<block>:1:22-41: info: atom does not occur in any rule head:\n",
      "  ext_dep(5,6,s8y1y3)\n",
      "\n",
      "<block>:1:18-37: info: atom does not occur in any rule head:\n",
      "  ext_indep(5,6,s8y1)\n",
      "\n",
      "<block>:1:20-37: info: atom does not occur in any rule head:\n",
      "  ext_dep(1,6,s8y3)\n",
      "\n",
      "<block>:1:22-41: info: atom does not occur in any rule head:\n",
      "  ext_dep(5,6,s8y1y3)\n",
      "\n"
     ]
    },
    {
     "name": "stderr",
     "output_type": "stream",
     "text": [
      "<block>:1:18-37: info: atom does not occur in any rule head:\n",
      "  ext_indep(5,6,s8y1)\n",
      "\n",
      "<block>:1:20-37: info: atom does not occur in any rule head:\n",
      "  ext_dep(3,6,s8y1)\n",
      "\n",
      "<block>:1:22-41: info: atom does not occur in any rule head:\n",
      "  ext_dep(5,6,s8y1y3)\n",
      "\n"
     ]
    },
    {
     "name": "stderr",
     "output_type": "stream",
     "text": [
      "<block>:1:18-37: info: atom does not occur in any rule head:\n",
      "  ext_indep(5,6,s8y1)\n",
      "\n",
      "<block>:1:20-37: info: atom does not occur in any rule head:\n",
      "  ext_dep(1,6,s8y3)\n",
      "\n",
      "<block>:1:22-41: info: atom does not occur in any rule head:\n",
      "  ext_dep(5,6,s8y1y3)\n",
      "\n"
     ]
    },
    {
     "name": "stderr",
     "output_type": "stream",
     "text": [
      "<block>:1:18-37: info: atom does not occur in any rule head:\n",
      "  ext_indep(5,6,s8y1)\n",
      "\n",
      "<block>:1:20-37: info: atom does not occur in any rule head:\n",
      "  ext_dep(3,6,s8y1)\n",
      "\n",
      "<block>:1:22-41: info: atom does not occur in any rule head:\n",
      "  ext_dep(5,6,s8y1y3)\n",
      "\n"
     ]
    },
    {
     "name": "stderr",
     "output_type": "stream",
     "text": [
      "<block>:1:18-37: info: atom does not occur in any rule head:\n",
      "  ext_indep(5,6,s8y1)\n",
      "\n",
      "<block>:1:20-37: info: atom does not occur in any rule head:\n",
      "  ext_dep(1,6,s8y3)\n",
      "\n",
      "<block>:1:22-41: info: atom does not occur in any rule head:\n",
      "  ext_dep(5,6,s8y1y3)\n",
      "\n"
     ]
    },
    {
     "name": "stderr",
     "output_type": "stream",
     "text": [
      "<block>:1:18-37: info: atom does not occur in any rule head:\n",
      "  ext_indep(5,6,s8y1)\n",
      "\n",
      "<block>:1:20-37: info: atom does not occur in any rule head:\n",
      "  ext_dep(5,6,s8y3)\n",
      "\n",
      "<block>:1:22-41: info: atom does not occur in any rule head:\n",
      "  ext_dep(5,6,s8y1y3)\n",
      "\n"
     ]
    },
    {
     "name": "stderr",
     "output_type": "stream",
     "text": [
      "<block>:1:18-37: info: atom does not occur in any rule head:\n",
      "  ext_indep(5,6,s8y1)\n",
      "\n",
      "<block>:1:20-37: info: atom does not occur in any rule head:\n",
      "  ext_dep(1,6,s8y3)\n",
      "\n",
      "<block>:1:22-41: info: atom does not occur in any rule head:\n",
      "  ext_dep(5,6,s8y1y3)\n",
      "\n"
     ]
    },
    {
     "name": "stderr",
     "output_type": "stream",
     "text": [
      "<block>:1:18-37: info: atom does not occur in any rule head:\n",
      "  ext_indep(5,6,s8y1)\n",
      "\n",
      "<block>:1:20-37: info: atom does not occur in any rule head:\n",
      "  ext_dep(1,6,s8y3)\n",
      "\n",
      "<block>:1:22-41: info: atom does not occur in any rule head:\n",
      "  ext_dep(5,6,s8y1y3)\n",
      "\n"
     ]
    },
    {
     "name": "stderr",
     "output_type": "stream",
     "text": [
      "<block>:1:18-37: info: atom does not occur in any rule head:\n",
      "  ext_indep(5,6,s8y1)\n",
      "\n",
      "<block>:1:20-37: info: atom does not occur in any rule head:\n",
      "  ext_dep(1,6,s8y3)\n",
      "\n",
      "<block>:1:22-41: info: atom does not occur in any rule head:\n",
      "  ext_dep(5,6,s8y1y3)\n",
      "\n"
     ]
    },
    {
     "name": "stderr",
     "output_type": "stream",
     "text": [
      "<block>:1:18-37: info: atom does not occur in any rule head:\n",
      "  ext_indep(5,6,s8y1)\n",
      "\n",
      "<block>:1:20-37: info: atom does not occur in any rule head:\n",
      "  ext_dep(1,6,s8y3)\n",
      "\n",
      "<block>:1:22-41: info: atom does not occur in any rule head:\n",
      "  ext_dep(5,6,s8y1y3)\n",
      "\n"
     ]
    },
    {
     "name": "stderr",
     "output_type": "stream",
     "text": [
      "<block>:1:18-37: info: atom does not occur in any rule head:\n",
      "  ext_indep(5,6,s8y1)\n",
      "\n",
      "<block>:1:20-37: info: atom does not occur in any rule head:\n",
      "  ext_dep(3,6,s8y1)\n",
      "\n",
      "<block>:1:22-41: info: atom does not occur in any rule head:\n",
      "  ext_dep(5,6,s8y1y3)\n",
      "\n"
     ]
    },
    {
     "name": "stderr",
     "output_type": "stream",
     "text": [
      "<block>:1:18-37: info: atom does not occur in any rule head:\n",
      "  ext_indep(5,6,s8y1)\n",
      "\n",
      "<block>:1:20-37: info: atom does not occur in any rule head:\n",
      "  ext_dep(1,6,s8y3)\n",
      "\n",
      "<block>:1:22-41: info: atom does not occur in any rule head:\n",
      "  ext_dep(5,6,s8y1y3)\n",
      "\n"
     ]
    },
    {
     "name": "stderr",
     "output_type": "stream",
     "text": [
      "<block>:1:18-37: info: atom does not occur in any rule head:\n",
      "  ext_indep(5,6,s8y1)\n",
      "\n",
      "<block>:1:20-37: info: atom does not occur in any rule head:\n",
      "  ext_dep(3,6,s8y1)\n",
      "\n",
      "<block>:1:22-41: info: atom does not occur in any rule head:\n",
      "  ext_dep(5,6,s8y1y3)\n",
      "\n"
     ]
    },
    {
     "name": "stderr",
     "output_type": "stream",
     "text": [
      "<block>:1:18-37: info: atom does not occur in any rule head:\n",
      "  ext_indep(5,6,s8y1)\n",
      "\n",
      "<block>:1:20-37: info: atom does not occur in any rule head:\n",
      "  ext_dep(1,6,s8y3)\n",
      "\n",
      "<block>:1:22-41: info: atom does not occur in any rule head:\n",
      "  ext_dep(5,6,s8y1y3)\n",
      "\n"
     ]
    },
    {
     "name": "stderr",
     "output_type": "stream",
     "text": [
      "<block>:1:20-37: info: atom does not occur in any rule head:\n",
      "  ext_dep(1,6,s8y3)\n",
      "\n",
      "<block>:1:22-41: info: atom does not occur in any rule head:\n",
      "  ext_dep(5,6,s8y1y3)\n",
      "\n"
     ]
    },
    {
     "name": "stderr",
     "output_type": "stream",
     "text": [
      "<block>:1:20-37: info: atom does not occur in any rule head:\n",
      "  ext_dep(3,6,s8y1)\n",
      "\n",
      "<block>:1:22-41: info: atom does not occur in any rule head:\n",
      "  ext_dep(5,6,s8y1y3)\n",
      "\n"
     ]
    },
    {
     "name": "stderr",
     "output_type": "stream",
     "text": [
      "<block>:1:20-37: info: atom does not occur in any rule head:\n",
      "  ext_dep(1,6,s8y3)\n",
      "\n",
      "<block>:1:22-41: info: atom does not occur in any rule head:\n",
      "  ext_dep(5,6,s8y1y3)\n",
      "\n"
     ]
    },
    {
     "name": "stderr",
     "output_type": "stream",
     "text": [
      "<block>:1:20-37: info: atom does not occur in any rule head:\n",
      "  ext_dep(1,6,s8y3)\n",
      "\n",
      "<block>:1:22-41: info: atom does not occur in any rule head:\n",
      "  ext_dep(5,6,s8y1y3)\n",
      "\n"
     ]
    },
    {
     "name": "stderr",
     "output_type": "stream",
     "text": [
      "<block>:1:20-37: info: atom does not occur in any rule head:\n",
      "  ext_dep(3,6,s8y1)\n",
      "\n",
      "<block>:1:22-41: info: atom does not occur in any rule head:\n",
      "  ext_dep(5,6,s8y1y3)\n",
      "\n"
     ]
    },
    {
     "name": "stderr",
     "output_type": "stream",
     "text": [
      "<block>:1:20-37: info: atom does not occur in any rule head:\n",
      "  ext_dep(1,6,s8y3)\n",
      "\n",
      "<block>:1:22-41: info: atom does not occur in any rule head:\n",
      "  ext_dep(5,6,s8y1y3)\n",
      "\n"
     ]
    },
    {
     "name": "stderr",
     "output_type": "stream",
     "text": [
      "<block>:1:18-37: info: atom does not occur in any rule head:\n",
      "  ext_indep(5,6,s8y1)\n",
      "\n",
      "<block>:1:20-37: info: atom does not occur in any rule head:\n",
      "  ext_dep(5,6,s8y3)\n",
      "\n",
      "<block>:1:22-41: info: atom does not occur in any rule head:\n",
      "  ext_dep(5,6,s8y1y3)\n",
      "\n",
      "<block>:1:18-37: info: atom does not occur in any rule head:\n",
      "  ext_indep(5,6,s8y1)\n",
      "\n",
      "<block>:1:20-37: info: atom does not occur in any rule head:\n",
      "  ext_dep(5,6,s8y3)\n",
      "\n",
      "<block>:1:22-41: info: atom does not occur in any rule head:\n",
      "  ext_dep(5,6,s8y1y3)\n",
      "\n",
      "<block>:1:18-37: info: atom does not occur in any rule head:\n",
      "  ext_indep(5,6,s8y1)\n",
      "\n",
      "<block>:1:20-37: info: atom does not occur in any rule head:\n",
      "  ext_dep(5,6,s8y3)\n",
      "\n",
      "<block>:1:22-41: info: atom does not occur in any rule head:\n",
      "  ext_dep(5,6,s8y1y3)\n",
      "\n"
     ]
    },
    {
     "name": "stderr",
     "output_type": "stream",
     "text": [
      "<block>:1:18-37: info: atom does not occur in any rule head:\n",
      "  ext_indep(5,6,s8y1)\n",
      "\n",
      "<block>:1:20-37: info: atom does not occur in any rule head:\n",
      "  ext_dep(1,6,s8y3)\n",
      "\n",
      "<block>:1:22-41: info: atom does not occur in any rule head:\n",
      "  ext_dep(5,6,s8y1y3)\n",
      "\n",
      "<block>:1:18-37: info: atom does not occur in any rule head:\n",
      "  ext_indep(5,6,s8y1)\n",
      "\n",
      "<block>:1:20-37: info: atom does not occur in any rule head:\n",
      "  ext_dep(1,6,s8y3)\n",
      "\n",
      "<block>:1:22-41: info: atom does not occur in any rule head:\n",
      "  ext_dep(5,6,s8y1y3)\n",
      "\n",
      "<block>:1:18-37: info: atom does not occur in any rule head:\n",
      "  ext_indep(5,6,s8y1)\n",
      "\n",
      "<block>:1:20-37: info: atom does not occur in any rule head:\n",
      "  ext_dep(3,6,s8y1)\n",
      "\n",
      "<block>:1:22-41: info: atom does not occur in any rule head:\n",
      "  ext_dep(5,6,s8y1y3)\n",
      "\n"
     ]
    },
    {
     "name": "stderr",
     "output_type": "stream",
     "text": [
      "<block>:1:18-37: info: atom does not occur in any rule head:\n",
      "  ext_indep(5,6,s8y1)\n",
      "\n",
      "<block>:1:20-37: info: atom does not occur in any rule head:\n",
      "  ext_dep(1,6,s8y3)\n",
      "\n",
      "<block>:1:22-41: info: atom does not occur in any rule head:\n",
      "  ext_dep(5,6,s8y1y3)\n",
      "\n",
      "<block>:1:18-37: info: atom does not occur in any rule head:\n",
      "  ext_indep(5,6,s8y1)\n",
      "\n",
      "<block>:1:20-37: info: atom does not occur in any rule head:\n",
      "  ext_dep(5,6,s8y3)\n",
      "\n",
      "<block>:1:22-41: info: atom does not occur in any rule head:\n",
      "  ext_dep(5,6,s8y1y3)\n",
      "\n",
      "<block>:1:18-37: info: atom does not occur in any rule head:\n",
      "  ext_indep(5,6,s8y1)\n",
      "\n",
      "<block>:1:20-37: info: atom does not occur in any rule head:\n",
      "  ext_dep(5,6,s8y3)\n",
      "\n",
      "<block>:1:22-41: info: atom does not occur in any rule head:\n",
      "  ext_dep(5,6,s8y1y3)\n",
      "\n"
     ]
    },
    {
     "name": "stderr",
     "output_type": "stream",
     "text": [
      "<block>:1:18-37: info: atom does not occur in any rule head:\n",
      "  ext_indep(5,6,s8y1)\n",
      "\n",
      "<block>:1:20-37: info: atom does not occur in any rule head:\n",
      "  ext_dep(1,6,s8y3)\n",
      "\n",
      "<block>:1:22-41: info: atom does not occur in any rule head:\n",
      "  ext_dep(5,6,s8y1y3)\n",
      "\n",
      "<block>:1:18-37: info: atom does not occur in any rule head:\n",
      "  ext_indep(5,6,s8y1)\n",
      "\n",
      "<block>:1:20-37: info: atom does not occur in any rule head:\n",
      "  ext_dep(5,6,s8y3)\n",
      "\n",
      "<block>:1:22-41: info: atom does not occur in any rule head:\n",
      "  ext_dep(5,6,s8y1y3)\n",
      "\n",
      "<block>:1:18-37: info: atom does not occur in any rule head:\n",
      "  ext_indep(5,6,s8y1)\n",
      "\n",
      "<block>:1:20-37: info: atom does not occur in any rule head:\n",
      "  ext_dep(3,6,s8y1)\n",
      "\n",
      "<block>:1:22-41: info: atom does not occur in any rule head:\n",
      "  ext_dep(5,6,s8y1y3)\n",
      "\n"
     ]
    },
    {
     "name": "stderr",
     "output_type": "stream",
     "text": [
      "<block>:1:18-37: info: atom does not occur in any rule head:\n",
      "  ext_indep(5,6,s8y1)\n",
      "\n",
      "<block>:1:20-37: info: atom does not occur in any rule head:\n",
      "  ext_dep(3,6,s8y1)\n",
      "\n",
      "<block>:1:22-41: info: atom does not occur in any rule head:\n",
      "  ext_dep(5,6,s8y1y3)\n",
      "\n",
      "<block>:1:18-37: info: atom does not occur in any rule head:\n",
      "  ext_indep(5,6,s8y1)\n",
      "\n",
      "<block>:1:20-37: info: atom does not occur in any rule head:\n",
      "  ext_dep(3,6,s8y1)\n",
      "\n",
      "<block>:1:22-41: info: atom does not occur in any rule head:\n",
      "  ext_dep(5,6,s8y1y3)\n",
      "\n",
      "<block>:1:18-37: info: atom does not occur in any rule head:\n",
      "  ext_indep(5,6,s8y1)\n",
      "\n",
      "<block>:1:20-37: info: atom does not occur in any rule head:\n",
      "  ext_dep(1,6,s8y3)\n",
      "\n",
      "<block>:1:22-41: info: atom does not occur in any rule head:\n",
      "  ext_dep(5,6,s8y1y3)\n",
      "\n"
     ]
    },
    {
     "name": "stderr",
     "output_type": "stream",
     "text": [
      "<block>:1:18-37: info: atom does not occur in any rule head:\n",
      "  ext_indep(5,6,s8y1)\n",
      "\n",
      "<block>:1:20-37: info: atom does not occur in any rule head:\n",
      "  ext_dep(3,6,s8y1)\n",
      "\n",
      "<block>:1:22-41: info: atom does not occur in any rule head:\n",
      "  ext_dep(5,6,s8y1y3)\n",
      "\n",
      "<block>:1:18-37: info: atom does not occur in any rule head:\n",
      "  ext_indep(5,6,s8y1)\n",
      "\n",
      "<block>:1:20-37: info: atom does not occur in any rule head:\n",
      "  ext_dep(5,6,s8y3)\n",
      "\n",
      "<block>:1:22-41: info: atom does not occur in any rule head:\n",
      "  ext_dep(5,6,s8y1y3)\n",
      "\n"
     ]
    },
    {
     "name": "stderr",
     "output_type": "stream",
     "text": [
      "<block>:1:18-37: info: atom does not occur in any rule head:\n",
      "  ext_indep(5,6,s8y1)\n",
      "\n",
      "<block>:1:20-37: info: atom does not occur in any rule head:\n",
      "  ext_dep(3,6,s8y1)\n",
      "\n",
      "<block>:1:22-41: info: atom does not occur in any rule head:\n",
      "  ext_dep(5,6,s8y1y3)\n",
      "\n"
     ]
    },
    {
     "name": "stderr",
     "output_type": "stream",
     "text": [
      "<block>:1:18-37: info: atom does not occur in any rule head:\n",
      "  ext_indep(5,6,s8y1)\n",
      "\n",
      "<block>:1:20-37: info: atom does not occur in any rule head:\n",
      "  ext_dep(1,6,s8y3)\n",
      "\n",
      "<block>:1:22-41: info: atom does not occur in any rule head:\n",
      "  ext_dep(5,6,s8y1y3)\n",
      "\n"
     ]
    },
    {
     "name": "stderr",
     "output_type": "stream",
     "text": [
      "<block>:1:18-37: info: atom does not occur in any rule head:\n",
      "  ext_indep(5,6,s8y1)\n",
      "\n",
      "<block>:1:20-37: info: atom does not occur in any rule head:\n",
      "  ext_dep(5,6,s8y3)\n",
      "\n",
      "<block>:1:22-41: info: atom does not occur in any rule head:\n",
      "  ext_dep(5,6,s8y1y3)\n",
      "\n"
     ]
    },
    {
     "name": "stderr",
     "output_type": "stream",
     "text": [
      "<block>:1:18-37: info: atom does not occur in any rule head:\n",
      "  ext_indep(5,6,s8y1)\n",
      "\n",
      "<block>:1:20-37: info: atom does not occur in any rule head:\n",
      "  ext_dep(5,6,s8y3)\n",
      "\n",
      "<block>:1:22-41: info: atom does not occur in any rule head:\n",
      "  ext_dep(5,6,s8y1y3)\n",
      "\n"
     ]
    },
    {
     "name": "stderr",
     "output_type": "stream",
     "text": [
      "<block>:1:18-37: info: atom does not occur in any rule head:\n",
      "  ext_indep(5,6,s8y1)\n",
      "\n",
      "<block>:1:20-37: info: atom does not occur in any rule head:\n",
      "  ext_dep(1,6,s8y3)\n",
      "\n",
      "<block>:1:22-41: info: atom does not occur in any rule head:\n",
      "  ext_dep(5,6,s8y1y3)\n",
      "\n"
     ]
    },
    {
     "name": "stderr",
     "output_type": "stream",
     "text": [
      "<block>:1:18-37: info: atom does not occur in any rule head:\n",
      "  ext_indep(5,6,s8y1)\n",
      "\n",
      "<block>:1:20-37: info: atom does not occur in any rule head:\n",
      "  ext_dep(1,6,s8y3)\n",
      "\n",
      "<block>:1:22-41: info: atom does not occur in any rule head:\n",
      "  ext_dep(5,6,s8y1y3)\n",
      "\n"
     ]
    },
    {
     "name": "stderr",
     "output_type": "stream",
     "text": [
      "<block>:1:18-37: info: atom does not occur in any rule head:\n",
      "  ext_indep(5,6,s8y1)\n",
      "\n",
      "<block>:1:20-37: info: atom does not occur in any rule head:\n",
      "  ext_dep(5,6,s8y3)\n",
      "\n",
      "<block>:1:22-41: info: atom does not occur in any rule head:\n",
      "  ext_dep(5,6,s8y1y3)\n",
      "\n"
     ]
    },
    {
     "name": "stderr",
     "output_type": "stream",
     "text": [
      "<block>:1:18-37: info: atom does not occur in any rule head:\n",
      "  ext_indep(5,6,s8y1)\n",
      "\n",
      "<block>:1:20-37: info: atom does not occur in any rule head:\n",
      "  ext_dep(1,6,s8y3)\n",
      "\n",
      "<block>:1:22-41: info: atom does not occur in any rule head:\n",
      "  ext_dep(5,6,s8y1y3)\n",
      "\n"
     ]
    },
    {
     "name": "stderr",
     "output_type": "stream",
     "text": [
      "<block>:1:18-37: info: atom does not occur in any rule head:\n",
      "  ext_indep(5,6,s8y1)\n",
      "\n",
      "<block>:1:20-37: info: atom does not occur in any rule head:\n",
      "  ext_dep(3,6,s8y1)\n",
      "\n",
      "<block>:1:22-41: info: atom does not occur in any rule head:\n",
      "  ext_dep(5,6,s8y1y3)\n",
      "\n"
     ]
    },
    {
     "name": "stderr",
     "output_type": "stream",
     "text": [
      "<block>:1:18-37: info: atom does not occur in any rule head:\n",
      "  ext_indep(5,6,s8y1)\n",
      "\n",
      "<block>:1:20-37: info: atom does not occur in any rule head:\n",
      "  ext_dep(3,6,s8y1)\n",
      "\n",
      "<block>:1:22-41: info: atom does not occur in any rule head:\n",
      "  ext_dep(5,6,s8y1y3)\n",
      "\n",
      "<block>:1:18-37: info: atom does not occur in any rule head:\n",
      "  ext_indep(5,6,s8y1)\n",
      "\n",
      "<block>:1:20-37: info: atom does not occur in any rule head:\n",
      "  ext_dep(3,6,s8y1)\n",
      "\n",
      "<block>:1:22-41: info: atom does not occur in any rule head:\n",
      "  ext_dep(5,6,s8y1y3)\n",
      "\n",
      "<block>:1:18-37: info: atom does not occur in any rule head:\n",
      "  ext_indep(5,6,s8y1)\n",
      "\n",
      "<block>:1:20-37: info: atom does not occur in any rule head:\n",
      "  ext_dep(1,6,s8y3)\n",
      "\n",
      "<block>:1:22-41: info: atom does not occur in any rule head:\n",
      "  ext_dep(5,6,s8y1y3)\n",
      "\n"
     ]
    },
    {
     "name": "stderr",
     "output_type": "stream",
     "text": [
      "<block>:1:18-37: info: atom does not occur in any rule head:\n",
      "  ext_indep(5,6,s8y1)\n",
      "\n",
      "<block>:1:20-37: info: atom does not occur in any rule head:\n",
      "  ext_dep(3,6,s8y1)\n",
      "\n",
      "<block>:1:22-41: info: atom does not occur in any rule head:\n",
      "  ext_dep(5,6,s8y1y3)\n",
      "\n",
      "<block>:1:18-37: info: atom does not occur in any rule head:\n",
      "  ext_indep(5,6,s8y1)\n",
      "\n",
      "<block>:1:20-37: info: atom does not occur in any rule head:\n",
      "  ext_dep(5,6,s8y3)\n",
      "\n",
      "<block>:1:22-41: info: atom does not occur in any rule head:\n",
      "  ext_dep(5,6,s8y1y3)\n",
      "\n"
     ]
    },
    {
     "name": "stderr",
     "output_type": "stream",
     "text": [
      "<block>:1:18-37: info: atom does not occur in any rule head:\n",
      "  ext_indep(5,6,s8y1)\n",
      "\n",
      "<block>:1:20-37: info: atom does not occur in any rule head:\n",
      "  ext_dep(3,6,s8y1)\n",
      "\n",
      "<block>:1:22-41: info: atom does not occur in any rule head:\n",
      "  ext_dep(5,6,s8y1y3)\n",
      "\n"
     ]
    },
    {
     "name": "stderr",
     "output_type": "stream",
     "text": [
      "<block>:1:18-37: info: atom does not occur in any rule head:\n",
      "  ext_indep(5,6,s8y1)\n",
      "\n",
      "<block>:1:20-37: info: atom does not occur in any rule head:\n",
      "  ext_dep(1,6,s8y3)\n",
      "\n",
      "<block>:1:22-41: info: atom does not occur in any rule head:\n",
      "  ext_dep(5,6,s8y1y3)\n",
      "\n"
     ]
    },
    {
     "name": "stderr",
     "output_type": "stream",
     "text": [
      "<block>:1:18-37: info: atom does not occur in any rule head:\n",
      "  ext_indep(5,6,s8y1)\n",
      "\n",
      "<block>:1:20-37: info: atom does not occur in any rule head:\n",
      "  ext_dep(1,6,s8y3)\n",
      "\n",
      "<block>:1:22-41: info: atom does not occur in any rule head:\n",
      "  ext_dep(5,6,s8y1y3)\n",
      "\n"
     ]
    },
    {
     "name": "stderr",
     "output_type": "stream",
     "text": [
      "<block>:1:18-37: info: atom does not occur in any rule head:\n",
      "  ext_indep(5,6,s8y1)\n",
      "\n",
      "<block>:1:20-37: info: atom does not occur in any rule head:\n",
      "  ext_dep(1,6,s8y3)\n",
      "\n",
      "<block>:1:22-41: info: atom does not occur in any rule head:\n",
      "  ext_dep(5,6,s8y1y3)\n",
      "\n"
     ]
    },
    {
     "name": "stderr",
     "output_type": "stream",
     "text": [
      "<block>:1:18-37: info: atom does not occur in any rule head:\n",
      "  ext_indep(5,6,s8y1)\n",
      "\n",
      "<block>:1:20-37: info: atom does not occur in any rule head:\n",
      "  ext_dep(3,6,s8y1)\n",
      "\n",
      "<block>:1:22-41: info: atom does not occur in any rule head:\n",
      "  ext_dep(5,6,s8y1y3)\n",
      "\n"
     ]
    },
    {
     "name": "stderr",
     "output_type": "stream",
     "text": [
      "<block>:1:18-37: info: atom does not occur in any rule head:\n",
      "  ext_indep(5,6,s8y1)\n",
      "\n",
      "<block>:1:20-37: info: atom does not occur in any rule head:\n",
      "  ext_dep(1,6,s8y3)\n",
      "\n",
      "<block>:1:22-41: info: atom does not occur in any rule head:\n",
      "  ext_dep(5,6,s8y1y3)\n",
      "\n"
     ]
    },
    {
     "name": "stderr",
     "output_type": "stream",
     "text": [
      "<block>:1:18-37: info: atom does not occur in any rule head:\n",
      "  ext_indep(5,6,s8y1)\n",
      "\n",
      "<block>:1:20-37: info: atom does not occur in any rule head:\n",
      "  ext_dep(5,6,s8y3)\n",
      "\n",
      "<block>:1:22-41: info: atom does not occur in any rule head:\n",
      "  ext_dep(5,6,s8y1y3)\n",
      "\n"
     ]
    },
    {
     "name": "stderr",
     "output_type": "stream",
     "text": [
      "<block>:1:18-37: info: atom does not occur in any rule head:\n",
      "  ext_indep(5,6,s8y1)\n",
      "\n",
      "<block>:1:20-37: info: atom does not occur in any rule head:\n",
      "  ext_dep(1,6,s8y3)\n",
      "\n",
      "<block>:1:22-41: info: atom does not occur in any rule head:\n",
      "  ext_dep(5,6,s8y1y3)\n",
      "\n"
     ]
    },
    {
     "name": "stderr",
     "output_type": "stream",
     "text": [
      "<block>:1:18-37: info: atom does not occur in any rule head:\n",
      "  ext_indep(5,6,s8y1)\n",
      "\n",
      "<block>:1:20-37: info: atom does not occur in any rule head:\n",
      "  ext_dep(3,6,s8y1)\n",
      "\n",
      "<block>:1:22-41: info: atom does not occur in any rule head:\n",
      "  ext_dep(5,6,s8y1y3)\n",
      "\n"
     ]
    },
    {
     "name": "stderr",
     "output_type": "stream",
     "text": [
      "<block>:1:18-37: info: atom does not occur in any rule head:\n",
      "  ext_indep(5,6,s8y1)\n",
      "\n",
      "<block>:1:20-37: info: atom does not occur in any rule head:\n",
      "  ext_dep(3,6,s8y1)\n",
      "\n",
      "<block>:1:22-41: info: atom does not occur in any rule head:\n",
      "  ext_dep(5,6,s8y1y3)\n",
      "\n",
      "<block>:1:18-37: info: atom does not occur in any rule head:\n",
      "  ext_indep(5,6,s8y1)\n",
      "\n",
      "<block>:1:20-37: info: atom does not occur in any rule head:\n",
      "  ext_dep(3,6,s8y1)\n",
      "\n",
      "<block>:1:22-41: info: atom does not occur in any rule head:\n",
      "  ext_dep(5,6,s8y1y3)\n",
      "\n",
      "<block>:1:18-37: info: atom does not occur in any rule head:\n",
      "  ext_indep(5,6,s8y1)\n",
      "\n",
      "<block>:1:20-37: info: atom does not occur in any rule head:\n",
      "  ext_dep(3,6,s8y1)\n",
      "\n",
      "<block>:1:22-41: info: atom does not occur in any rule head:\n",
      "  ext_dep(5,6,s8y1y3)\n",
      "\n"
     ]
    },
    {
     "name": "stderr",
     "output_type": "stream",
     "text": [
      "<block>:1:18-37: info: atom does not occur in any rule head:\n",
      "  ext_indep(5,6,s8y1)\n",
      "\n",
      "<block>:1:20-37: info: atom does not occur in any rule head:\n",
      "  ext_dep(1,6,s8y3)\n",
      "\n",
      "<block>:1:22-41: info: atom does not occur in any rule head:\n",
      "  ext_dep(5,6,s8y1y3)\n",
      "\n",
      "<block>:1:18-37: info: atom does not occur in any rule head:\n",
      "  ext_indep(5,6,s8y1)\n",
      "\n",
      "<block>:1:20-37: info: atom does not occur in any rule head:\n",
      "  ext_dep(1,6,s8y3)\n",
      "\n",
      "<block>:1:22-41: info: atom does not occur in any rule head:\n",
      "  ext_dep(5,6,s8y1y3)\n",
      "\n"
     ]
    },
    {
     "name": "stderr",
     "output_type": "stream",
     "text": [
      "<block>:1:18-37: info: atom does not occur in any rule head:\n",
      "  ext_indep(5,6,s8y1)\n",
      "\n",
      "<block>:1:20-37: info: atom does not occur in any rule head:\n",
      "  ext_dep(1,6,s8y3)\n",
      "\n",
      "<block>:1:22-41: info: atom does not occur in any rule head:\n",
      "  ext_dep(5,6,s8y1y3)\n",
      "\n",
      "<block>:1:18-37: info: atom does not occur in any rule head:\n",
      "  ext_indep(5,6,s8y1)\n",
      "\n",
      "<block>:1:20-37: info: atom does not occur in any rule head:\n",
      "  ext_dep(3,6,s8y1)\n",
      "\n",
      "<block>:1:22-41: info: atom does not occur in any rule head:\n",
      "  ext_dep(5,6,s8y1y3)\n",
      "\n"
     ]
    },
    {
     "name": "stderr",
     "output_type": "stream",
     "text": [
      "<block>:1:18-37: info: atom does not occur in any rule head:\n",
      "  ext_indep(5,6,s8y1)\n",
      "\n",
      "<block>:1:20-37: info: atom does not occur in any rule head:\n",
      "  ext_dep(3,6,s8y1)\n",
      "\n",
      "<block>:1:22-41: info: atom does not occur in any rule head:\n",
      "  ext_dep(5,6,s8y1y3)\n",
      "\n",
      "<block>:1:18-37: info: atom does not occur in any rule head:\n",
      "  ext_indep(5,6,s8y1)\n",
      "\n",
      "<block>:1:20-37: info: atom does not occur in any rule head:\n",
      "  ext_dep(1,6,s8y3)\n",
      "\n",
      "<block>:1:22-41: info: atom does not occur in any rule head:\n",
      "  ext_dep(5,6,s8y1y3)\n",
      "\n"
     ]
    },
    {
     "name": "stderr",
     "output_type": "stream",
     "text": [
      "<block>:1:18-37: info: atom does not occur in any rule head:\n",
      "  ext_indep(5,6,s8y1)\n",
      "\n",
      "<block>:1:20-37: info: atom does not occur in any rule head:\n",
      "  ext_dep(5,6,s8y3)\n",
      "\n",
      "<block>:1:22-41: info: atom does not occur in any rule head:\n",
      "  ext_dep(5,6,s8y1y3)\n",
      "\n"
     ]
    },
    {
     "name": "stderr",
     "output_type": "stream",
     "text": [
      "<block>:1:18-37: info: atom does not occur in any rule head:\n",
      "  ext_indep(5,6,s8y1)\n",
      "\n",
      "<block>:1:20-37: info: atom does not occur in any rule head:\n",
      "  ext_dep(3,6,s8y1)\n",
      "\n",
      "<block>:1:22-41: info: atom does not occur in any rule head:\n",
      "  ext_dep(5,6,s8y1y3)\n",
      "\n"
     ]
    },
    {
     "name": "stderr",
     "output_type": "stream",
     "text": [
      "<block>:1:18-37: info: atom does not occur in any rule head:\n",
      "  ext_indep(5,6,s8y1)\n",
      "\n",
      "<block>:1:20-37: info: atom does not occur in any rule head:\n",
      "  ext_dep(3,6,s8y1)\n",
      "\n",
      "<block>:1:22-41: info: atom does not occur in any rule head:\n",
      "  ext_dep(5,6,s8y1y3)\n",
      "\n"
     ]
    },
    {
     "name": "stderr",
     "output_type": "stream",
     "text": [
      "<block>:1:18-37: info: atom does not occur in any rule head:\n",
      "  ext_indep(5,6,s8y1)\n",
      "\n",
      "<block>:1:20-37: info: atom does not occur in any rule head:\n",
      "  ext_dep(1,6,s8y3)\n",
      "\n",
      "<block>:1:22-41: info: atom does not occur in any rule head:\n",
      "  ext_dep(5,6,s8y1y3)\n",
      "\n"
     ]
    },
    {
     "name": "stderr",
     "output_type": "stream",
     "text": [
      "<block>:1:18-37: info: atom does not occur in any rule head:\n",
      "  ext_indep(5,6,s8y1)\n",
      "\n",
      "<block>:1:20-37: info: atom does not occur in any rule head:\n",
      "  ext_dep(1,6,s8y3)\n",
      "\n",
      "<block>:1:22-41: info: atom does not occur in any rule head:\n",
      "  ext_dep(5,6,s8y1y3)\n",
      "\n"
     ]
    },
    {
     "name": "stderr",
     "output_type": "stream",
     "text": [
      "<block>:1:18-37: info: atom does not occur in any rule head:\n",
      "  ext_indep(5,6,s8y1)\n",
      "\n",
      "<block>:1:20-37: info: atom does not occur in any rule head:\n",
      "  ext_dep(1,6,s8y3)\n",
      "\n",
      "<block>:1:22-41: info: atom does not occur in any rule head:\n",
      "  ext_dep(5,6,s8y1y3)\n",
      "\n"
     ]
    },
    {
     "name": "stderr",
     "output_type": "stream",
     "text": [
      "<block>:1:18-37: info: atom does not occur in any rule head:\n",
      "  ext_indep(5,6,s8y1)\n",
      "\n",
      "<block>:1:20-37: info: atom does not occur in any rule head:\n",
      "  ext_dep(1,6,s8y3)\n",
      "\n",
      "<block>:1:22-41: info: atom does not occur in any rule head:\n",
      "  ext_dep(5,6,s8y1y3)\n",
      "\n"
     ]
    },
    {
     "name": "stderr",
     "output_type": "stream",
     "text": [
      "<block>:1:18-37: info: atom does not occur in any rule head:\n",
      "  ext_indep(5,6,s8y1)\n",
      "\n",
      "<block>:1:20-37: info: atom does not occur in any rule head:\n",
      "  ext_dep(1,6,s8y3)\n",
      "\n",
      "<block>:1:22-41: info: atom does not occur in any rule head:\n",
      "  ext_dep(5,6,s8y1y3)\n",
      "\n"
     ]
    },
    {
     "name": "stderr",
     "output_type": "stream",
     "text": [
      "<block>:1:18-37: info: atom does not occur in any rule head:\n",
      "  ext_indep(5,6,s8y1)\n",
      "\n",
      "<block>:1:20-37: info: atom does not occur in any rule head:\n",
      "  ext_dep(1,6,s8y3)\n",
      "\n",
      "<block>:1:22-41: info: atom does not occur in any rule head:\n",
      "  ext_dep(5,6,s8y1y3)\n",
      "\n"
     ]
    },
    {
     "name": "stderr",
     "output_type": "stream",
     "text": [
      "<block>:1:18-37: info: atom does not occur in any rule head:\n",
      "  ext_indep(5,6,s8y1)\n",
      "\n",
      "<block>:1:20-37: info: atom does not occur in any rule head:\n",
      "  ext_dep(1,6,s8y3)\n",
      "\n",
      "<block>:1:22-41: info: atom does not occur in any rule head:\n",
      "  ext_dep(5,6,s8y1y3)\n",
      "\n"
     ]
    },
    {
     "name": "stderr",
     "output_type": "stream",
     "text": [
      "<block>:1:18-37: info: atom does not occur in any rule head:\n",
      "  ext_indep(5,6,s8y1)\n",
      "\n",
      "<block>:1:20-37: info: atom does not occur in any rule head:\n",
      "  ext_dep(3,6,s8y1)\n",
      "\n",
      "<block>:1:22-41: info: atom does not occur in any rule head:\n",
      "  ext_dep(5,6,s8y1y3)\n",
      "\n"
     ]
    },
    {
     "name": "stderr",
     "output_type": "stream",
     "text": [
      "<block>:1:18-37: info: atom does not occur in any rule head:\n",
      "  ext_indep(5,6,s8y1)\n",
      "\n",
      "<block>:1:20-37: info: atom does not occur in any rule head:\n",
      "  ext_dep(1,6,s8y3)\n",
      "\n",
      "<block>:1:22-41: info: atom does not occur in any rule head:\n",
      "  ext_dep(5,6,s8y1y3)\n",
      "\n"
     ]
    },
    {
     "name": "stderr",
     "output_type": "stream",
     "text": [
      "<block>:1:18-37: info: atom does not occur in any rule head:\n",
      "  ext_indep(5,6,s8y1)\n",
      "\n",
      "<block>:1:20-37: info: atom does not occur in any rule head:\n",
      "  ext_dep(1,6,s8y3)\n",
      "\n",
      "<block>:1:22-41: info: atom does not occur in any rule head:\n",
      "  ext_dep(5,6,s8y1y3)\n",
      "\n",
      "<block>:1:18-37: info: atom does not occur in any rule head:\n",
      "  ext_indep(5,6,s8y1)\n",
      "\n",
      "<block>:1:20-37: info: atom does not occur in any rule head:\n",
      "  ext_dep(3,6,s8y1)\n",
      "\n",
      "<block>:1:22-41: info: atom does not occur in any rule head:\n",
      "  ext_dep(5,6,s8y1y3)\n",
      "\n"
     ]
    },
    {
     "name": "stderr",
     "output_type": "stream",
     "text": [
      "<block>:1:18-37: info: atom does not occur in any rule head:\n",
      "  ext_indep(5,6,s8y1)\n",
      "\n",
      "<block>:1:20-37: info: atom does not occur in any rule head:\n",
      "  ext_dep(5,6,s8y3)\n",
      "\n",
      "<block>:1:22-41: info: atom does not occur in any rule head:\n",
      "  ext_dep(5,6,s8y1y3)\n",
      "\n",
      "<block>:1:18-37: info: atom does not occur in any rule head:\n",
      "  ext_indep(5,6,s8y1)\n",
      "\n",
      "<block>:1:20-37: info: atom does not occur in any rule head:\n",
      "  ext_dep(1,6,s8y3)\n",
      "\n",
      "<block>:1:22-41: info: atom does not occur in any rule head:\n",
      "  ext_dep(5,6,s8y1y3)\n",
      "\n"
     ]
    },
    {
     "name": "stderr",
     "output_type": "stream",
     "text": [
      "<block>:1:18-37: info: atom does not occur in any rule head:\n",
      "  ext_indep(5,6,s8y1)\n",
      "\n",
      "<block>:1:20-37: info: atom does not occur in any rule head:\n",
      "  ext_dep(1,6,s8y3)\n",
      "\n",
      "<block>:1:22-41: info: atom does not occur in any rule head:\n",
      "  ext_dep(5,6,s8y1y3)\n",
      "\n"
     ]
    },
    {
     "name": "stderr",
     "output_type": "stream",
     "text": [
      "<block>:1:18-37: info: atom does not occur in any rule head:\n",
      "  ext_indep(5,6,s8y1)\n",
      "\n",
      "<block>:1:20-37: info: atom does not occur in any rule head:\n",
      "  ext_dep(5,6,s8y3)\n",
      "\n",
      "<block>:1:22-41: info: atom does not occur in any rule head:\n",
      "  ext_dep(5,6,s8y1y3)\n",
      "\n"
     ]
    },
    {
     "name": "stderr",
     "output_type": "stream",
     "text": [
      "<block>:1:18-37: info: atom does not occur in any rule head:\n",
      "  ext_indep(5,6,s8y1)\n",
      "\n",
      "<block>:1:20-37: info: atom does not occur in any rule head:\n",
      "  ext_dep(1,6,s8y3)\n",
      "\n",
      "<block>:1:22-41: info: atom does not occur in any rule head:\n",
      "  ext_dep(5,6,s8y1y3)\n",
      "\n"
     ]
    },
    {
     "name": "stderr",
     "output_type": "stream",
     "text": [
      "<block>:1:18-37: info: atom does not occur in any rule head:\n",
      "  ext_indep(5,6,s8y1)\n",
      "\n",
      "<block>:1:20-37: info: atom does not occur in any rule head:\n",
      "  ext_dep(1,6,s8y3)\n",
      "\n",
      "<block>:1:22-41: info: atom does not occur in any rule head:\n",
      "  ext_dep(5,6,s8y1y3)\n",
      "\n"
     ]
    },
    {
     "name": "stderr",
     "output_type": "stream",
     "text": [
      "<block>:1:18-37: info: atom does not occur in any rule head:\n",
      "  ext_indep(5,6,s8y1)\n",
      "\n",
      "<block>:1:20-37: info: atom does not occur in any rule head:\n",
      "  ext_dep(1,6,s8y3)\n",
      "\n",
      "<block>:1:22-41: info: atom does not occur in any rule head:\n",
      "  ext_dep(5,6,s8y1y3)\n",
      "\n"
     ]
    },
    {
     "name": "stderr",
     "output_type": "stream",
     "text": [
      "<block>:1:18-37: info: atom does not occur in any rule head:\n",
      "  ext_indep(5,6,s8y1)\n",
      "\n",
      "<block>:1:20-37: info: atom does not occur in any rule head:\n",
      "  ext_dep(1,6,s8y3)\n",
      "\n",
      "<block>:1:22-41: info: atom does not occur in any rule head:\n",
      "  ext_dep(5,6,s8y1y3)\n",
      "\n"
     ]
    },
    {
     "name": "stderr",
     "output_type": "stream",
     "text": [
      "<block>:1:18-37: info: atom does not occur in any rule head:\n",
      "  ext_indep(5,6,s8y1)\n",
      "\n",
      "<block>:1:20-37: info: atom does not occur in any rule head:\n",
      "  ext_dep(1,6,s8y3)\n",
      "\n",
      "<block>:1:22-41: info: atom does not occur in any rule head:\n",
      "  ext_dep(5,6,s8y1y3)\n",
      "\n"
     ]
    },
    {
     "name": "stderr",
     "output_type": "stream",
     "text": [
      "<block>:1:18-37: info: atom does not occur in any rule head:\n",
      "  ext_indep(5,6,s8y1)\n",
      "\n",
      "<block>:1:20-37: info: atom does not occur in any rule head:\n",
      "  ext_dep(1,6,s8y3)\n",
      "\n",
      "<block>:1:22-41: info: atom does not occur in any rule head:\n",
      "  ext_dep(5,6,s8y1y3)\n",
      "\n"
     ]
    },
    {
     "name": "stderr",
     "output_type": "stream",
     "text": [
      "<block>:1:18-37: info: atom does not occur in any rule head:\n",
      "  ext_indep(5,6,s8y1)\n",
      "\n",
      "<block>:1:20-37: info: atom does not occur in any rule head:\n",
      "  ext_dep(1,6,s8y3)\n",
      "\n",
      "<block>:1:22-41: info: atom does not occur in any rule head:\n",
      "  ext_dep(5,6,s8y1y3)\n",
      "\n"
     ]
    },
    {
     "name": "stderr",
     "output_type": "stream",
     "text": [
      "<block>:1:18-37: info: atom does not occur in any rule head:\n",
      "  ext_indep(5,6,s8y1)\n",
      "\n",
      "<block>:1:20-37: info: atom does not occur in any rule head:\n",
      "  ext_dep(1,6,s8y3)\n",
      "\n",
      "<block>:1:22-41: info: atom does not occur in any rule head:\n",
      "  ext_dep(5,6,s8y1y3)\n",
      "\n"
     ]
    },
    {
     "name": "stderr",
     "output_type": "stream",
     "text": [
      "<block>:1:18-37: info: atom does not occur in any rule head:\n",
      "  ext_indep(5,6,s8y1)\n",
      "\n",
      "<block>:1:20-37: info: atom does not occur in any rule head:\n",
      "  ext_dep(1,6,s8y3)\n",
      "\n",
      "<block>:1:22-41: info: atom does not occur in any rule head:\n",
      "  ext_dep(5,6,s8y1y3)\n",
      "\n"
     ]
    },
    {
     "name": "stderr",
     "output_type": "stream",
     "text": [
      "<block>:1:18-37: info: atom does not occur in any rule head:\n",
      "  ext_indep(5,6,s8y1)\n",
      "\n",
      "<block>:1:20-37: info: atom does not occur in any rule head:\n",
      "  ext_dep(1,6,s8y3)\n",
      "\n",
      "<block>:1:22-41: info: atom does not occur in any rule head:\n",
      "  ext_dep(5,6,s8y1y3)\n",
      "\n"
     ]
    },
    {
     "name": "stderr",
     "output_type": "stream",
     "text": [
      "<block>:1:18-37: info: atom does not occur in any rule head:\n",
      "  ext_indep(5,6,s8y1)\n",
      "\n",
      "<block>:1:20-37: info: atom does not occur in any rule head:\n",
      "  ext_dep(3,6,s8y1)\n",
      "\n",
      "<block>:1:22-41: info: atom does not occur in any rule head:\n",
      "  ext_dep(5,6,s8y1y3)\n",
      "\n"
     ]
    },
    {
     "name": "stderr",
     "output_type": "stream",
     "text": [
      "<block>:1:18-37: info: atom does not occur in any rule head:\n",
      "  ext_indep(5,6,s8y1)\n",
      "\n",
      "<block>:1:20-37: info: atom does not occur in any rule head:\n",
      "  ext_dep(1,6,s8y3)\n",
      "\n",
      "<block>:1:22-41: info: atom does not occur in any rule head:\n",
      "  ext_dep(5,6,s8y1y3)\n",
      "\n"
     ]
    },
    {
     "name": "stderr",
     "output_type": "stream",
     "text": [
      "<block>:1:18-37: info: atom does not occur in any rule head:\n",
      "  ext_indep(5,6,s8y1)\n",
      "\n",
      "<block>:1:20-37: info: atom does not occur in any rule head:\n",
      "  ext_dep(1,6,s8y3)\n",
      "\n",
      "<block>:1:22-41: info: atom does not occur in any rule head:\n",
      "  ext_dep(5,6,s8y1y3)\n",
      "\n"
     ]
    },
    {
     "name": "stderr",
     "output_type": "stream",
     "text": [
      "<block>:1:18-37: info: atom does not occur in any rule head:\n",
      "  ext_indep(5,6,s8y1)\n",
      "\n",
      "<block>:1:20-37: info: atom does not occur in any rule head:\n",
      "  ext_dep(1,6,s8y3)\n",
      "\n",
      "<block>:1:22-41: info: atom does not occur in any rule head:\n",
      "  ext_dep(5,6,s8y1y3)\n",
      "\n"
     ]
    },
    {
     "name": "stderr",
     "output_type": "stream",
     "text": [
      "<block>:1:18-37: info: atom does not occur in any rule head:\n",
      "  ext_indep(5,6,s8y1)\n",
      "\n",
      "<block>:1:20-37: info: atom does not occur in any rule head:\n",
      "  ext_dep(1,6,s8y3)\n",
      "\n",
      "<block>:1:22-41: info: atom does not occur in any rule head:\n",
      "  ext_dep(5,6,s8y1y3)\n",
      "\n"
     ]
    },
    {
     "name": "stderr",
     "output_type": "stream",
     "text": [
      "<block>:1:18-37: info: atom does not occur in any rule head:\n",
      "  ext_indep(5,6,s8y1)\n",
      "\n",
      "<block>:1:20-37: info: atom does not occur in any rule head:\n",
      "  ext_dep(3,6,s8y5)\n",
      "\n",
      "<block>:1:22-41: info: atom does not occur in any rule head:\n",
      "  ext_dep(5,6,s8y1y3)\n",
      "\n",
      "<block>:1:18-37: info: atom does not occur in any rule head:\n",
      "  ext_indep(5,6,s8y1)\n",
      "\n",
      "<block>:1:20-37: info: atom does not occur in any rule head:\n",
      "  ext_dep(3,6,s8y5)\n",
      "\n",
      "<block>:1:22-41: info: atom does not occur in any rule head:\n",
      "  ext_dep(5,6,s8y1y3)\n",
      "\n",
      "<block>:1:18-37: info: atom does not occur in any rule head:\n",
      "  ext_indep(5,6,s8y1)\n",
      "\n",
      "<block>:1:20-37: info: atom does not occur in any rule head:\n",
      "  ext_dep(3,6,s8y5)\n",
      "\n",
      "<block>:1:22-41: info: atom does not occur in any rule head:\n",
      "  ext_dep(5,6,s8y1y3)\n",
      "\n"
     ]
    },
    {
     "name": "stderr",
     "output_type": "stream",
     "text": [
      "<block>:1:18-37: info: atom does not occur in any rule head:\n",
      "  ext_indep(5,6,s8y1)\n",
      "\n",
      "<block>:1:20-37: info: atom does not occur in any rule head:\n",
      "  ext_dep(3,6,s8y5)\n",
      "\n",
      "<block>:1:22-41: info: atom does not occur in any rule head:\n",
      "  ext_dep(5,6,s8y1y3)\n",
      "\n",
      "<block>:1:18-37: info: atom does not occur in any rule head:\n",
      "  ext_indep(5,6,s8y1)\n",
      "\n",
      "<block>:1:20-37: info: atom does not occur in any rule head:\n",
      "  ext_dep(3,6,s8y5)\n",
      "\n",
      "<block>:1:22-41: info: atom does not occur in any rule head:\n",
      "  ext_dep(5,6,s8y1y3)\n",
      "\n",
      "<block>:1:18-37: info: atom does not occur in any rule head:\n",
      "  ext_indep(5,6,s8y1)\n",
      "\n",
      "<block>:1:20-37: info: atom does not occur in any rule head:\n",
      "  ext_dep(1,6,s8y3)\n",
      "\n",
      "<block>:1:22-41: info: atom does not occur in any rule head:\n",
      "  ext_dep(5,6,s8y1y3)\n",
      "\n"
     ]
    },
    {
     "name": "stderr",
     "output_type": "stream",
     "text": [
      "<block>:1:18-37: info: atom does not occur in any rule head:\n",
      "  ext_indep(5,6,s8y1)\n",
      "\n",
      "<block>:1:20-37: info: atom does not occur in any rule head:\n",
      "  ext_dep(1,6,s8y3)\n",
      "\n",
      "<block>:1:22-41: info: atom does not occur in any rule head:\n",
      "  ext_dep(5,6,s8y1y3)\n",
      "\n",
      "<block>:1:18-37: info: atom does not occur in any rule head:\n",
      "  ext_indep(5,6,s8y1)\n",
      "\n",
      "<block>:1:20-37: info: atom does not occur in any rule head:\n",
      "  ext_dep(3,6,s8y5)\n",
      "\n",
      "<block>:1:22-41: info: atom does not occur in any rule head:\n",
      "  ext_dep(5,6,s8y1y3)\n",
      "\n"
     ]
    },
    {
     "name": "stderr",
     "output_type": "stream",
     "text": [
      "<block>:1:18-37: info: atom does not occur in any rule head:\n",
      "  ext_indep(5,6,s8y1)\n",
      "\n",
      "<block>:1:20-37: info: atom does not occur in any rule head:\n",
      "  ext_dep(3,5,s8y6)\n",
      "\n",
      "<block>:1:22-41: info: atom does not occur in any rule head:\n",
      "  ext_dep(5,6,s8y1y3)\n",
      "\n",
      "<block>:1:18-37: info: atom does not occur in any rule head:\n",
      "  ext_indep(5,6,s8y1)\n",
      "\n",
      "<block>:1:20-37: info: atom does not occur in any rule head:\n",
      "  ext_dep(3,6,s8y1)\n",
      "\n",
      "<block>:1:22-41: info: atom does not occur in any rule head:\n",
      "  ext_dep(5,6,s8y1y3)\n",
      "\n"
     ]
    },
    {
     "name": "stderr",
     "output_type": "stream",
     "text": [
      "<block>:1:18-37: info: atom does not occur in any rule head:\n",
      "  ext_indep(5,6,s8y1)\n",
      "\n",
      "<block>:1:20-37: info: atom does not occur in any rule head:\n",
      "  ext_dep(3,6,s8y1)\n",
      "\n",
      "<block>:1:22-41: info: atom does not occur in any rule head:\n",
      "  ext_dep(5,6,s8y1y3)\n",
      "\n",
      "<block>:1:18-37: info: atom does not occur in any rule head:\n",
      "  ext_indep(5,6,s8y1)\n",
      "\n",
      "<block>:1:20-37: info: atom does not occur in any rule head:\n",
      "  ext_dep(3,5,s8y6)\n",
      "\n",
      "<block>:1:22-41: info: atom does not occur in any rule head:\n",
      "  ext_dep(5,6,s8y1y3)\n",
      "\n"
     ]
    },
    {
     "name": "stderr",
     "output_type": "stream",
     "text": [
      "<block>:1:18-37: info: atom does not occur in any rule head:\n",
      "  ext_indep(5,6,s8y1)\n",
      "\n",
      "<block>:1:20-37: info: atom does not occur in any rule head:\n",
      "  ext_dep(3,6,s8y1)\n",
      "\n",
      "<block>:1:22-41: info: atom does not occur in any rule head:\n",
      "  ext_dep(5,6,s8y1y3)\n",
      "\n",
      "<block>:1:18-37: info: atom does not occur in any rule head:\n",
      "  ext_indep(5,6,s8y1)\n",
      "\n",
      "<block>:1:20-37: info: atom does not occur in any rule head:\n",
      "  ext_dep(3,6,s8y1)\n",
      "\n",
      "<block>:1:22-41: info: atom does not occur in any rule head:\n",
      "  ext_dep(5,6,s8y1y3)\n",
      "\n",
      "<block>:1:18-37: info: atom does not occur in any rule head:\n",
      "  ext_indep(5,6,s8y1)\n",
      "\n",
      "<block>:1:20-37: info: atom does not occur in any rule head:\n",
      "  ext_dep(3,6,s8y5)\n",
      "\n",
      "<block>:1:22-41: info: atom does not occur in any rule head:\n",
      "  ext_dep(5,6,s8y1y3)\n",
      "\n"
     ]
    },
    {
     "name": "stderr",
     "output_type": "stream",
     "text": [
      "<block>:1:18-37: info: atom does not occur in any rule head:\n",
      "  ext_indep(5,6,s8y1)\n",
      "\n",
      "<block>:1:20-37: info: atom does not occur in any rule head:\n",
      "  ext_dep(5,6,s8y3)\n",
      "\n",
      "<block>:1:22-41: info: atom does not occur in any rule head:\n",
      "  ext_dep(5,6,s8y1y3)\n",
      "\n",
      "<block>:1:18-37: info: atom does not occur in any rule head:\n",
      "  ext_indep(5,6,s8y1)\n",
      "\n",
      "<block>:1:20-37: info: atom does not occur in any rule head:\n",
      "  ext_dep(1,6,s8y3)\n",
      "\n",
      "<block>:1:22-41: info: atom does not occur in any rule head:\n",
      "  ext_dep(5,6,s8y1y3)\n",
      "\n"
     ]
    },
    {
     "name": "stderr",
     "output_type": "stream",
     "text": [
      "<block>:1:18-37: info: atom does not occur in any rule head:\n",
      "  ext_indep(5,6,s8y1)\n",
      "\n",
      "<block>:1:20-37: info: atom does not occur in any rule head:\n",
      "  ext_dep(3,6,s8y5)\n",
      "\n",
      "<block>:1:22-41: info: atom does not occur in any rule head:\n",
      "  ext_dep(5,6,s8y1y3)\n",
      "\n",
      "<block>:1:18-37: info: atom does not occur in any rule head:\n",
      "  ext_indep(5,6,s8y1)\n",
      "\n",
      "<block>:1:20-37: info: atom does not occur in any rule head:\n",
      "  ext_dep(3,5,s8y6)\n",
      "\n",
      "<block>:1:22-41: info: atom does not occur in any rule head:\n",
      "  ext_dep(5,6,s8y1y3)\n",
      "\n"
     ]
    },
    {
     "name": "stderr",
     "output_type": "stream",
     "text": [
      "<block>:1:18-37: info: atom does not occur in any rule head:\n",
      "  ext_indep(5,6,s8y1)\n",
      "\n",
      "<block>:1:20-37: info: atom does not occur in any rule head:\n",
      "  ext_dep(5,6,s8y3)\n",
      "\n",
      "<block>:1:22-41: info: atom does not occur in any rule head:\n",
      "  ext_dep(5,6,s8y1y3)\n",
      "\n"
     ]
    },
    {
     "name": "stderr",
     "output_type": "stream",
     "text": [
      "<block>:1:18-37: info: atom does not occur in any rule head:\n",
      "  ext_indep(5,6,s8y1)\n",
      "\n",
      "<block>:1:20-37: info: atom does not occur in any rule head:\n",
      "  ext_dep(3,5,s8y6)\n",
      "\n",
      "<block>:1:22-41: info: atom does not occur in any rule head:\n",
      "  ext_dep(5,6,s8y1y3)\n",
      "\n"
     ]
    },
    {
     "name": "stderr",
     "output_type": "stream",
     "text": [
      "<block>:1:18-37: info: atom does not occur in any rule head:\n",
      "  ext_indep(5,6,s8y1)\n",
      "\n",
      "<block>:1:20-37: info: atom does not occur in any rule head:\n",
      "  ext_dep(3,6,s8y5)\n",
      "\n",
      "<block>:1:22-41: info: atom does not occur in any rule head:\n",
      "  ext_dep(5,6,s8y1y3)\n",
      "\n"
     ]
    },
    {
     "name": "stderr",
     "output_type": "stream",
     "text": [
      "<block>:1:18-37: info: atom does not occur in any rule head:\n",
      "  ext_indep(5,6,s8y1)\n",
      "\n",
      "<block>:1:20-37: info: atom does not occur in any rule head:\n",
      "  ext_dep(3,6,s8y5)\n",
      "\n",
      "<block>:1:22-41: info: atom does not occur in any rule head:\n",
      "  ext_dep(5,6,s8y1y3)\n",
      "\n"
     ]
    },
    {
     "name": "stderr",
     "output_type": "stream",
     "text": [
      "<block>:1:18-37: info: atom does not occur in any rule head:\n",
      "  ext_indep(5,6,s8y1)\n",
      "\n",
      "<block>:1:20-37: info: atom does not occur in any rule head:\n",
      "  ext_dep(3,5,s8y6)\n",
      "\n",
      "<block>:1:22-41: info: atom does not occur in any rule head:\n",
      "  ext_dep(5,6,s8y1y3)\n",
      "\n"
     ]
    },
    {
     "name": "stderr",
     "output_type": "stream",
     "text": [
      "<block>:1:18-37: info: atom does not occur in any rule head:\n",
      "  ext_indep(5,6,s8y1)\n",
      "\n",
      "<block>:1:20-37: info: atom does not occur in any rule head:\n",
      "  ext_dep(1,6,s8y3)\n",
      "\n",
      "<block>:1:22-41: info: atom does not occur in any rule head:\n",
      "  ext_dep(5,6,s8y1y3)\n",
      "\n",
      "<block>:1:18-37: info: atom does not occur in any rule head:\n",
      "  ext_indep(5,6,s8y1)\n",
      "\n",
      "<block>:1:20-37: info: atom does not occur in any rule head:\n",
      "  ext_dep(3,6,s8y1)\n",
      "\n",
      "<block>:1:22-41: info: atom does not occur in any rule head:\n",
      "  ext_dep(5,6,s8y1y3)\n",
      "\n",
      "<block>:1:18-37: info: atom does not occur in any rule head:\n",
      "  ext_indep(5,6,s8y1)\n",
      "\n",
      "<block>:1:20-37: info: atom does not occur in any rule head:\n",
      "  ext_dep(1,6,s8y3)\n",
      "\n",
      "<block>:1:22-41: info: atom does not occur in any rule head:\n",
      "  ext_dep(5,6,s8y1y3)\n",
      "\n"
     ]
    },
    {
     "name": "stderr",
     "output_type": "stream",
     "text": [
      "<block>:1:18-37: info: atom does not occur in any rule head:\n",
      "  ext_indep(5,6,s8y1)\n",
      "\n",
      "<block>:1:20-37: info: atom does not occur in any rule head:\n",
      "  ext_dep(3,6,s8y1)\n",
      "\n",
      "<block>:1:22-41: info: atom does not occur in any rule head:\n",
      "  ext_dep(5,6,s8y1y3)\n",
      "\n"
     ]
    },
    {
     "name": "stderr",
     "output_type": "stream",
     "text": [
      "<block>:1:18-37: info: atom does not occur in any rule head:\n",
      "  ext_indep(5,6,s8y1)\n",
      "\n",
      "<block>:1:20-37: info: atom does not occur in any rule head:\n",
      "  ext_dep(3,6,s8y1)\n",
      "\n",
      "<block>:1:22-41: info: atom does not occur in any rule head:\n",
      "  ext_dep(5,6,s8y1y3)\n",
      "\n",
      "<block>:1:18-37: info: atom does not occur in any rule head:\n",
      "  ext_indep(5,6,s8y1)\n",
      "\n",
      "<block>:1:20-37: info: atom does not occur in any rule head:\n",
      "  ext_dep(3,6,s8y1)\n",
      "\n",
      "<block>:1:22-41: info: atom does not occur in any rule head:\n",
      "  ext_dep(5,6,s8y1y3)\n",
      "\n",
      "<block>:1:18-37: info: atom does not occur in any rule head:\n",
      "  ext_indep(5,6,s8y1)\n",
      "\n",
      "<block>:1:20-37: info: atom does not occur in any rule head:\n",
      "  ext_dep(5,6,s8y3)\n",
      "\n",
      "<block>:1:22-41: info: atom does not occur in any rule head:\n",
      "  ext_dep(5,6,s8y1y3)\n",
      "\n"
     ]
    },
    {
     "name": "stderr",
     "output_type": "stream",
     "text": [
      "<block>:1:18-37: info: atom does not occur in any rule head:\n",
      "  ext_indep(5,6,s8y1)\n",
      "\n",
      "<block>:1:20-37: info: atom does not occur in any rule head:\n",
      "  ext_dep(3,6,s8y1)\n",
      "\n",
      "<block>:1:22-41: info: atom does not occur in any rule head:\n",
      "  ext_dep(5,6,s8y1y3)\n",
      "\n",
      "<block>:1:18-37: info: atom does not occur in any rule head:\n",
      "  ext_indep(5,6,s8y1)\n",
      "\n",
      "<block>:1:20-37: info: atom does not occur in any rule head:\n",
      "  ext_dep(5,6,s8y3)\n",
      "\n",
      "<block>:1:22-41: info: atom does not occur in any rule head:\n",
      "  ext_dep(5,6,s8y1y3)\n",
      "\n"
     ]
    },
    {
     "name": "stderr",
     "output_type": "stream",
     "text": [
      "<block>:1:18-37: info: atom does not occur in any rule head:\n",
      "  ext_indep(5,6,s8y1)\n",
      "\n",
      "<block>:1:20-37: info: atom does not occur in any rule head:\n",
      "  ext_dep(5,6,s8y3)\n",
      "\n",
      "<block>:1:22-41: info: atom does not occur in any rule head:\n",
      "  ext_dep(5,6,s8y1y3)\n",
      "\n",
      "<block>:1:20-37: info: atom does not occur in any rule head:\n",
      "  ext_dep(3,6,s8y1)\n",
      "\n",
      "<block>:1:22-41: info: atom does not occur in any rule head:\n",
      "  ext_dep(5,6,s8y1y3)\n",
      "\n"
     ]
    },
    {
     "name": "stderr",
     "output_type": "stream",
     "text": [
      "<block>:1:20-37: info: atom does not occur in any rule head:\n",
      "  ext_dep(5,6,s8y3)\n",
      "\n",
      "<block>:1:22-41: info: atom does not occur in any rule head:\n",
      "  ext_dep(5,6,s8y1y3)\n",
      "\n",
      "<block>:1:20-37: info: atom does not occur in any rule head:\n",
      "  ext_dep(5,6,s8y3)\n",
      "\n",
      "<block>:1:22-41: info: atom does not occur in any rule head:\n",
      "  ext_dep(5,6,s8y1y3)\n",
      "\n"
     ]
    },
    {
     "name": "stderr",
     "output_type": "stream",
     "text": [
      "<block>:1:20-37: info: atom does not occur in any rule head:\n",
      "  ext_dep(3,6,s8y1)\n",
      "\n",
      "<block>:1:22-41: info: atom does not occur in any rule head:\n",
      "  ext_dep(5,6,s8y1y3)\n",
      "\n"
     ]
    },
    {
     "name": "stderr",
     "output_type": "stream",
     "text": [
      "<block>:1:20-37: info: atom does not occur in any rule head:\n",
      "  ext_dep(5,6,s8y3)\n",
      "\n",
      "<block>:1:22-41: info: atom does not occur in any rule head:\n",
      "  ext_dep(5,6,s8y1y3)\n",
      "\n"
     ]
    },
    {
     "name": "stderr",
     "output_type": "stream",
     "text": [
      "<block>:1:20-37: info: atom does not occur in any rule head:\n",
      "  ext_dep(5,6,s8y3)\n",
      "\n",
      "<block>:1:22-41: info: atom does not occur in any rule head:\n",
      "  ext_dep(5,6,s8y1y3)\n",
      "\n"
     ]
    },
    {
     "name": "stderr",
     "output_type": "stream",
     "text": [
      "<block>:1:20-37: info: atom does not occur in any rule head:\n",
      "  ext_dep(5,6,s8y3)\n",
      "\n",
      "<block>:1:22-41: info: atom does not occur in any rule head:\n",
      "  ext_dep(5,6,s8y1y3)\n",
      "\n"
     ]
    },
    {
     "name": "stderr",
     "output_type": "stream",
     "text": [
      "<block>:1:20-37: info: atom does not occur in any rule head:\n",
      "  ext_dep(3,6,s8y1)\n",
      "\n",
      "<block>:1:22-41: info: atom does not occur in any rule head:\n",
      "  ext_dep(5,6,s8y1y3)\n",
      "\n"
     ]
    },
    {
     "name": "stderr",
     "output_type": "stream",
     "text": [
      "<block>:1:20-37: info: atom does not occur in any rule head:\n",
      "  ext_dep(3,6,s8y1)\n",
      "\n",
      "<block>:1:22-41: info: atom does not occur in any rule head:\n",
      "  ext_dep(5,6,s8y1y3)\n",
      "\n"
     ]
    },
    {
     "name": "stderr",
     "output_type": "stream",
     "text": [
      "<block>:1:20-37: info: atom does not occur in any rule head:\n",
      "  ext_dep(3,6,s8y1)\n",
      "\n",
      "<block>:1:22-41: info: atom does not occur in any rule head:\n",
      "  ext_dep(5,6,s8y1y3)\n",
      "\n"
     ]
    },
    {
     "name": "stderr",
     "output_type": "stream",
     "text": [
      "<block>:1:20-37: info: atom does not occur in any rule head:\n",
      "  ext_dep(3,6,s8y1)\n",
      "\n",
      "<block>:1:22-41: info: atom does not occur in any rule head:\n",
      "  ext_dep(5,6,s8y1y3)\n",
      "\n"
     ]
    },
    {
     "name": "stderr",
     "output_type": "stream",
     "text": [
      "<block>:1:20-37: info: atom does not occur in any rule head:\n",
      "  ext_dep(3,6,s8y1)\n",
      "\n",
      "<block>:1:22-41: info: atom does not occur in any rule head:\n",
      "  ext_dep(5,6,s8y1y3)\n",
      "\n"
     ]
    },
    {
     "name": "stderr",
     "output_type": "stream",
     "text": [
      "<block>:1:20-37: info: atom does not occur in any rule head:\n",
      "  ext_dep(3,6,s8y1)\n",
      "\n",
      "<block>:1:22-41: info: atom does not occur in any rule head:\n",
      "  ext_dep(5,6,s8y1y3)\n",
      "\n"
     ]
    },
    {
     "name": "stderr",
     "output_type": "stream",
     "text": [
      "<block>:1:20-37: info: atom does not occur in any rule head:\n",
      "  ext_dep(3,6,s8y1)\n",
      "\n",
      "<block>:1:22-41: info: atom does not occur in any rule head:\n",
      "  ext_dep(5,6,s8y1y3)\n",
      "\n"
     ]
    },
    {
     "name": "stderr",
     "output_type": "stream",
     "text": [
      "<block>:1:20-37: info: atom does not occur in any rule head:\n",
      "  ext_dep(3,6,s8y1)\n",
      "\n",
      "<block>:1:22-41: info: atom does not occur in any rule head:\n",
      "  ext_dep(5,6,s8y1y3)\n",
      "\n"
     ]
    },
    {
     "name": "stderr",
     "output_type": "stream",
     "text": [
      "<block>:1:20-37: info: atom does not occur in any rule head:\n",
      "  ext_dep(3,6,s8y1)\n",
      "\n",
      "<block>:1:22-41: info: atom does not occur in any rule head:\n",
      "  ext_dep(5,6,s8y1y3)\n",
      "\n"
     ]
    },
    {
     "name": "stderr",
     "output_type": "stream",
     "text": [
      "<block>:1:20-37: info: atom does not occur in any rule head:\n",
      "  ext_dep(1,6,s8y3)\n",
      "\n",
      "<block>:1:22-41: info: atom does not occur in any rule head:\n",
      "  ext_dep(5,6,s8y1y3)\n",
      "\n"
     ]
    },
    {
     "name": "stderr",
     "output_type": "stream",
     "text": [
      "<block>:1:20-37: info: atom does not occur in any rule head:\n",
      "  ext_dep(5,6,s8y3)\n",
      "\n",
      "<block>:1:22-41: info: atom does not occur in any rule head:\n",
      "  ext_dep(5,6,s8y1y3)\n",
      "\n"
     ]
    },
    {
     "name": "stderr",
     "output_type": "stream",
     "text": [
      "<block>:1:18-37: info: atom does not occur in any rule head:\n",
      "  ext_indep(5,6,s8y1)\n",
      "\n",
      "<block>:1:20-37: info: atom does not occur in any rule head:\n",
      "  ext_dep(3,6,s8y1)\n",
      "\n",
      "<block>:1:22-41: info: atom does not occur in any rule head:\n",
      "  ext_dep(5,6,s8y1y3)\n",
      "\n",
      "<block>:1:18-37: info: atom does not occur in any rule head:\n",
      "  ext_indep(5,6,s8y1)\n",
      "\n",
      "<block>:1:20-37: info: atom does not occur in any rule head:\n",
      "  ext_dep(3,6,s8y1)\n",
      "\n",
      "<block>:1:22-41: info: atom does not occur in any rule head:\n",
      "  ext_dep(5,6,s8y1y3)\n",
      "\n",
      "<block>:1:18-37: info: atom does not occur in any rule head:\n",
      "  ext_indep(5,6,s8y1)\n",
      "\n",
      "<block>:1:20-37: info: atom does not occur in any rule head:\n",
      "  ext_dep(5,6,s8y3)\n",
      "\n",
      "<block>:1:22-41: info: atom does not occur in any rule head:\n",
      "  ext_dep(5,6,s8y1y3)\n",
      "\n"
     ]
    },
    {
     "name": "stderr",
     "output_type": "stream",
     "text": [
      "<block>:1:18-37: info: atom does not occur in any rule head:\n",
      "  ext_indep(5,6,s8y1)\n",
      "\n",
      "<block>:1:20-37: info: atom does not occur in any rule head:\n",
      "  ext_dep(3,6,s8y1)\n",
      "\n",
      "<block>:1:22-41: info: atom does not occur in any rule head:\n",
      "  ext_dep(5,6,s8y1y3)\n",
      "\n",
      "<block>:1:18-37: info: atom does not occur in any rule head:\n",
      "  ext_indep(5,6,s8y1)\n",
      "\n",
      "<block>:1:20-37: info: atom does not occur in any rule head:\n",
      "  ext_dep(5,6,s8y3)\n",
      "\n",
      "<block>:1:22-41: info: atom does not occur in any rule head:\n",
      "  ext_dep(5,6,s8y1y3)\n",
      "\n"
     ]
    },
    {
     "name": "stderr",
     "output_type": "stream",
     "text": [
      "<block>:1:18-37: info: atom does not occur in any rule head:\n",
      "  ext_indep(5,6,s8y1)\n",
      "\n",
      "<block>:1:20-37: info: atom does not occur in any rule head:\n",
      "  ext_dep(3,6,s8y1)\n",
      "\n",
      "<block>:1:22-41: info: atom does not occur in any rule head:\n",
      "  ext_dep(5,6,s8y1y3)\n",
      "\n"
     ]
    },
    {
     "name": "stderr",
     "output_type": "stream",
     "text": [
      "<block>:1:20-37: info: atom does not occur in any rule head:\n",
      "  ext_dep(3,6,s8y1)\n",
      "\n",
      "<block>:1:22-41: info: atom does not occur in any rule head:\n",
      "  ext_dep(5,6,s8y1y3)\n",
      "\n"
     ]
    },
    {
     "name": "stderr",
     "output_type": "stream",
     "text": [
      "<block>:1:20-37: info: atom does not occur in any rule head:\n",
      "  ext_dep(3,6,s8y1)\n",
      "\n",
      "<block>:1:22-41: info: atom does not occur in any rule head:\n",
      "  ext_dep(5,6,s8y1y3)\n",
      "\n"
     ]
    },
    {
     "name": "stderr",
     "output_type": "stream",
     "text": [
      "<block>:1:20-37: info: atom does not occur in any rule head:\n",
      "  ext_dep(5,6,s8y3)\n",
      "\n",
      "<block>:1:22-41: info: atom does not occur in any rule head:\n",
      "  ext_dep(5,6,s8y1y3)\n",
      "\n"
     ]
    },
    {
     "name": "stderr",
     "output_type": "stream",
     "text": [
      "<block>:1:20-37: info: atom does not occur in any rule head:\n",
      "  ext_dep(3,6,s8y1)\n",
      "\n",
      "<block>:1:22-41: info: atom does not occur in any rule head:\n",
      "  ext_dep(5,6,s8y1y3)\n",
      "\n"
     ]
    },
    {
     "name": "stderr",
     "output_type": "stream",
     "text": [
      "<block>:1:20-37: info: atom does not occur in any rule head:\n",
      "  ext_dep(5,6,s8y3)\n",
      "\n",
      "<block>:1:22-41: info: atom does not occur in any rule head:\n",
      "  ext_dep(5,6,s8y1y3)\n",
      "\n"
     ]
    },
    {
     "name": "stderr",
     "output_type": "stream",
     "text": [
      "<block>:1:20-37: info: atom does not occur in any rule head:\n",
      "  ext_dep(5,6,s8y3)\n",
      "\n",
      "<block>:1:22-41: info: atom does not occur in any rule head:\n",
      "  ext_dep(5,6,s8y1y3)\n",
      "\n"
     ]
    },
    {
     "name": "stderr",
     "output_type": "stream",
     "text": [
      "<block>:1:20-37: info: atom does not occur in any rule head:\n",
      "  ext_dep(1,6,s8y3)\n",
      "\n",
      "<block>:1:22-41: info: atom does not occur in any rule head:\n",
      "  ext_dep(5,6,s8y1y3)\n",
      "\n"
     ]
    },
    {
     "name": "stderr",
     "output_type": "stream",
     "text": [
      "<block>:1:20-37: info: atom does not occur in any rule head:\n",
      "  ext_dep(5,6,s8y3)\n",
      "\n",
      "<block>:1:22-41: info: atom does not occur in any rule head:\n",
      "  ext_dep(5,6,s8y1y3)\n",
      "\n"
     ]
    },
    {
     "name": "stderr",
     "output_type": "stream",
     "text": [
      "<block>:1:20-37: info: atom does not occur in any rule head:\n",
      "  ext_dep(5,6,s8y3)\n",
      "\n",
      "<block>:1:22-41: info: atom does not occur in any rule head:\n",
      "  ext_dep(5,6,s8y1y3)\n",
      "\n"
     ]
    },
    {
     "name": "stderr",
     "output_type": "stream",
     "text": [
      "<block>:1:20-37: info: atom does not occur in any rule head:\n",
      "  ext_dep(3,6,s8y1)\n",
      "\n",
      "<block>:1:22-41: info: atom does not occur in any rule head:\n",
      "  ext_dep(5,6,s8y1y3)\n",
      "\n"
     ]
    },
    {
     "name": "stderr",
     "output_type": "stream",
     "text": [
      "<block>:1:20-37: info: atom does not occur in any rule head:\n",
      "  ext_dep(3,6,s8y1)\n",
      "\n",
      "<block>:1:22-41: info: atom does not occur in any rule head:\n",
      "  ext_dep(5,6,s8y1y3)\n",
      "\n"
     ]
    },
    {
     "name": "stderr",
     "output_type": "stream",
     "text": [
      "<block>:1:20-37: info: atom does not occur in any rule head:\n",
      "  ext_dep(3,6,s8y1)\n",
      "\n",
      "<block>:1:22-41: info: atom does not occur in any rule head:\n",
      "  ext_dep(5,6,s8y1y3)\n",
      "\n"
     ]
    },
    {
     "name": "stderr",
     "output_type": "stream",
     "text": [
      "<block>:1:20-37: info: atom does not occur in any rule head:\n",
      "  ext_dep(3,6,s8y1)\n",
      "\n",
      "<block>:1:22-41: info: atom does not occur in any rule head:\n",
      "  ext_dep(5,6,s8y1y3)\n",
      "\n"
     ]
    },
    {
     "name": "stderr",
     "output_type": "stream",
     "text": [
      "<block>:1:20-37: info: atom does not occur in any rule head:\n",
      "  ext_dep(3,6,s8y1)\n",
      "\n",
      "<block>:1:22-41: info: atom does not occur in any rule head:\n",
      "  ext_dep(5,6,s8y1y3)\n",
      "\n"
     ]
    },
    {
     "name": "stderr",
     "output_type": "stream",
     "text": [
      "<block>:1:20-37: info: atom does not occur in any rule head:\n",
      "  ext_dep(3,6,s8y1)\n",
      "\n",
      "<block>:1:22-41: info: atom does not occur in any rule head:\n",
      "  ext_dep(5,6,s8y1y3)\n",
      "\n"
     ]
    },
    {
     "name": "stderr",
     "output_type": "stream",
     "text": [
      "<block>:1:20-37: info: atom does not occur in any rule head:\n",
      "  ext_dep(5,6,s8y3)\n",
      "\n",
      "<block>:1:22-41: info: atom does not occur in any rule head:\n",
      "  ext_dep(5,6,s8y1y3)\n",
      "\n"
     ]
    },
    {
     "name": "stderr",
     "output_type": "stream",
     "text": [
      "<block>:1:20-37: info: atom does not occur in any rule head:\n",
      "  ext_dep(3,6,s8y1)\n",
      "\n",
      "<block>:1:22-41: info: atom does not occur in any rule head:\n",
      "  ext_dep(5,6,s8y1y3)\n",
      "\n"
     ]
    },
    {
     "name": "stderr",
     "output_type": "stream",
     "text": [
      "<block>:1:20-37: info: atom does not occur in any rule head:\n",
      "  ext_dep(1,6,s8y3)\n",
      "\n",
      "<block>:1:22-41: info: atom does not occur in any rule head:\n",
      "  ext_dep(5,6,s8y1y3)\n",
      "\n"
     ]
    },
    {
     "name": "stderr",
     "output_type": "stream",
     "text": [
      "<block>:1:18-37: info: atom does not occur in any rule head:\n",
      "  ext_indep(5,6,s8y1)\n",
      "\n",
      "<block>:1:20-37: info: atom does not occur in any rule head:\n",
      "  ext_dep(3,6,s8y1)\n",
      "\n",
      "<block>:1:22-41: info: atom does not occur in any rule head:\n",
      "  ext_dep(5,6,s8y1y3)\n",
      "\n",
      "<block>:1:18-37: info: atom does not occur in any rule head:\n",
      "  ext_indep(5,6,s8y1)\n",
      "\n",
      "<block>:1:20-37: info: atom does not occur in any rule head:\n",
      "  ext_dep(3,6,s8y1)\n",
      "\n",
      "<block>:1:22-41: info: atom does not occur in any rule head:\n",
      "  ext_dep(5,6,s8y1y3)\n",
      "\n"
     ]
    },
    {
     "name": "stderr",
     "output_type": "stream",
     "text": [
      "<block>:1:18-37: info: atom does not occur in any rule head:\n",
      "  ext_indep(5,6,s8y1)\n",
      "\n",
      "<block>:1:20-37: info: atom does not occur in any rule head:\n",
      "  ext_dep(3,6,s8y1)\n",
      "\n",
      "<block>:1:22-41: info: atom does not occur in any rule head:\n",
      "  ext_dep(5,6,s8y1y3)\n",
      "\n",
      "<block>:1:18-37: info: atom does not occur in any rule head:\n",
      "  ext_indep(5,6,s8y1)\n",
      "\n",
      "<block>:1:20-37: info: atom does not occur in any rule head:\n",
      "  ext_dep(1,6,s8y3)\n",
      "\n",
      "<block>:1:22-41: info: atom does not occur in any rule head:\n",
      "  ext_dep(5,6,s8y1y3)\n",
      "\n"
     ]
    },
    {
     "name": "stderr",
     "output_type": "stream",
     "text": [
      "<block>:1:18-37: info: atom does not occur in any rule head:\n",
      "  ext_indep(5,6,s8y1)\n",
      "\n",
      "<block>:1:20-37: info: atom does not occur in any rule head:\n",
      "  ext_dep(3,6,s8y1)\n",
      "\n",
      "<block>:1:22-41: info: atom does not occur in any rule head:\n",
      "  ext_dep(5,6,s8y1y3)\n",
      "\n",
      "<block>:1:18-37: info: atom does not occur in any rule head:\n",
      "  ext_indep(5,6,s8y1)\n",
      "\n",
      "<block>:1:20-37: info: atom does not occur in any rule head:\n",
      "  ext_dep(3,6,s8y1)\n",
      "\n",
      "<block>:1:22-41: info: atom does not occur in any rule head:\n",
      "  ext_dep(5,6,s8y1y3)\n",
      "\n",
      "<block>:1:18-37: info: atom does not occur in any rule head:\n",
      "  ext_indep(5,6,s8y1)\n",
      "\n",
      "<block>:1:20-37: info: atom does not occur in any rule head:\n",
      "  ext_dep(3,6,s8y1)\n",
      "\n",
      "<block>:1:22-41: info: atom does not occur in any rule head:\n",
      "  ext_dep(5,6,s8y1y3)\n",
      "\n"
     ]
    },
    {
     "name": "stderr",
     "output_type": "stream",
     "text": [
      "<block>:1:18-37: info: atom does not occur in any rule head:\n",
      "  ext_indep(5,6,s8y1)\n",
      "\n",
      "<block>:1:20-37: info: atom does not occur in any rule head:\n",
      "  ext_dep(1,6,s8y3)\n",
      "\n",
      "<block>:1:22-41: info: atom does not occur in any rule head:\n",
      "  ext_dep(5,6,s8y1y3)\n",
      "\n"
     ]
    },
    {
     "name": "stderr",
     "output_type": "stream",
     "text": [
      "<block>:1:18-37: info: atom does not occur in any rule head:\n",
      "  ext_indep(5,6,s8y1)\n",
      "\n",
      "<block>:1:20-37: info: atom does not occur in any rule head:\n",
      "  ext_dep(5,6,s8y3)\n",
      "\n",
      "<block>:1:22-41: info: atom does not occur in any rule head:\n",
      "  ext_dep(5,6,s8y1y3)\n",
      "\n",
      "<block>:1:18-37: info: atom does not occur in any rule head:\n",
      "  ext_indep(5,6,s8y1)\n",
      "\n",
      "<block>:1:20-37: info: atom does not occur in any rule head:\n",
      "  ext_dep(5,6,s8y3)\n",
      "\n",
      "<block>:1:22-41: info: atom does not occur in any rule head:\n",
      "  ext_dep(5,6,s8y1y3)\n",
      "\n",
      "<block>:1:18-37: info: atom does not occur in any rule head:\n",
      "  ext_indep(5,6,s8y1)\n",
      "\n",
      "<block>:1:20-37: info: atom does not occur in any rule head:\n",
      "  ext_dep(5,6,s8y3)\n",
      "\n",
      "<block>:1:22-41: info: atom does not occur in any rule head:\n",
      "  ext_dep(5,6,s8y1y3)\n",
      "\n"
     ]
    },
    {
     "name": "stderr",
     "output_type": "stream",
     "text": [
      "<block>:1:18-37: info: atom does not occur in any rule head:\n",
      "  ext_indep(5,6,s8y1)\n",
      "\n",
      "<block>:1:20-37: info: atom does not occur in any rule head:\n",
      "  ext_dep(5,6,s8y3)\n",
      "\n",
      "<block>:1:22-41: info: atom does not occur in any rule head:\n",
      "  ext_dep(5,6,s8y1y3)\n",
      "\n"
     ]
    },
    {
     "name": "stderr",
     "output_type": "stream",
     "text": [
      "<block>:1:18-37: info: atom does not occur in any rule head:\n",
      "  ext_indep(5,6,s8y1)\n",
      "\n",
      "<block>:1:20-37: info: atom does not occur in any rule head:\n",
      "  ext_dep(3,6,s8y1)\n",
      "\n",
      "<block>:1:22-41: info: atom does not occur in any rule head:\n",
      "  ext_dep(5,6,s8y1y3)\n",
      "\n",
      "<block>:1:18-37: info: atom does not occur in any rule head:\n",
      "  ext_indep(5,6,s8y1)\n",
      "\n",
      "<block>:1:20-37: info: atom does not occur in any rule head:\n",
      "  ext_dep(3,6,s8y1)\n",
      "\n",
      "<block>:1:22-41: info: atom does not occur in any rule head:\n",
      "  ext_dep(5,6,s8y1y3)\n",
      "\n",
      "<block>:1:18-37: info: atom does not occur in any rule head:\n",
      "  ext_indep(5,6,s8y1)\n",
      "\n",
      "<block>:1:20-37: info: atom does not occur in any rule head:\n",
      "  ext_dep(5,6,s8y3)\n",
      "\n",
      "<block>:1:22-41: info: atom does not occur in any rule head:\n",
      "  ext_dep(5,6,s8y1y3)\n",
      "\n"
     ]
    },
    {
     "name": "stderr",
     "output_type": "stream",
     "text": [
      "<block>:1:18-37: info: atom does not occur in any rule head:\n",
      "  ext_indep(5,6,s8y1)\n",
      "\n",
      "<block>:1:20-37: info: atom does not occur in any rule head:\n",
      "  ext_dep(5,6,s8y3)\n",
      "\n",
      "<block>:1:22-41: info: atom does not occur in any rule head:\n",
      "  ext_dep(5,6,s8y1y3)\n",
      "\n",
      "<block>:1:18-37: info: atom does not occur in any rule head:\n",
      "  ext_indep(5,6,s8y1)\n",
      "\n",
      "<block>:1:20-37: info: atom does not occur in any rule head:\n",
      "  ext_dep(5,6,s8y3)\n",
      "\n",
      "<block>:1:22-41: info: atom does not occur in any rule head:\n",
      "  ext_dep(5,6,s8y1y3)\n",
      "\n"
     ]
    },
    {
     "name": "stderr",
     "output_type": "stream",
     "text": [
      "<block>:1:18-37: info: atom does not occur in any rule head:\n",
      "  ext_indep(5,6,s8y1)\n",
      "\n",
      "<block>:1:20-37: info: atom does not occur in any rule head:\n",
      "  ext_dep(5,6,s8y3)\n",
      "\n",
      "<block>:1:22-41: info: atom does not occur in any rule head:\n",
      "  ext_dep(5,6,s8y1y3)\n",
      "\n",
      "<block>:1:18-37: info: atom does not occur in any rule head:\n",
      "  ext_indep(5,6,s8y1)\n",
      "\n",
      "<block>:1:20-37: info: atom does not occur in any rule head:\n",
      "  ext_dep(3,6,s8y1)\n",
      "\n",
      "<block>:1:22-41: info: atom does not occur in any rule head:\n",
      "  ext_dep(5,6,s8y1y3)\n",
      "\n"
     ]
    },
    {
     "name": "stderr",
     "output_type": "stream",
     "text": [
      "<block>:1:18-37: info: atom does not occur in any rule head:\n",
      "  ext_indep(5,6,s8y1)\n",
      "\n",
      "<block>:1:20-37: info: atom does not occur in any rule head:\n",
      "  ext_dep(3,6,s8y1)\n",
      "\n",
      "<block>:1:22-41: info: atom does not occur in any rule head:\n",
      "  ext_dep(5,6,s8y1y3)\n",
      "\n"
     ]
    },
    {
     "name": "stderr",
     "output_type": "stream",
     "text": [
      "<block>:1:18-37: info: atom does not occur in any rule head:\n",
      "  ext_indep(5,6,s8y1)\n",
      "\n",
      "<block>:1:20-37: info: atom does not occur in any rule head:\n",
      "  ext_dep(5,6,s8y3)\n",
      "\n",
      "<block>:1:22-41: info: atom does not occur in any rule head:\n",
      "  ext_dep(5,6,s8y1y3)\n",
      "\n"
     ]
    },
    {
     "name": "stderr",
     "output_type": "stream",
     "text": [
      "<block>:1:18-37: info: atom does not occur in any rule head:\n",
      "  ext_indep(5,6,s8y1)\n",
      "\n",
      "<block>:1:20-37: info: atom does not occur in any rule head:\n",
      "  ext_dep(5,6,s8y3)\n",
      "\n",
      "<block>:1:22-41: info: atom does not occur in any rule head:\n",
      "  ext_dep(5,6,s8y1y3)\n",
      "\n"
     ]
    },
    {
     "name": "stderr",
     "output_type": "stream",
     "text": [
      "<block>:1:18-37: info: atom does not occur in any rule head:\n",
      "  ext_indep(5,6,s8y1)\n",
      "\n",
      "<block>:1:20-37: info: atom does not occur in any rule head:\n",
      "  ext_dep(5,6,s8y3)\n",
      "\n",
      "<block>:1:22-41: info: atom does not occur in any rule head:\n",
      "  ext_dep(5,6,s8y1y3)\n",
      "\n"
     ]
    },
    {
     "name": "stderr",
     "output_type": "stream",
     "text": [
      "<block>:1:18-37: info: atom does not occur in any rule head:\n",
      "  ext_indep(5,6,s8y1)\n",
      "\n",
      "<block>:1:20-37: info: atom does not occur in any rule head:\n",
      "  ext_dep(3,6,s8y1)\n",
      "\n",
      "<block>:1:22-41: info: atom does not occur in any rule head:\n",
      "  ext_dep(5,6,s8y1y3)\n",
      "\n"
     ]
    },
    {
     "name": "stderr",
     "output_type": "stream",
     "text": [
      "<block>:1:18-37: info: atom does not occur in any rule head:\n",
      "  ext_indep(5,6,s8y1)\n",
      "\n",
      "<block>:1:20-37: info: atom does not occur in any rule head:\n",
      "  ext_dep(3,6,s8y1)\n",
      "\n",
      "<block>:1:22-41: info: atom does not occur in any rule head:\n",
      "  ext_dep(5,6,s8y1y3)\n",
      "\n"
     ]
    },
    {
     "name": "stderr",
     "output_type": "stream",
     "text": [
      "<block>:1:18-37: info: atom does not occur in any rule head:\n",
      "  ext_indep(5,6,s8y1)\n",
      "\n",
      "<block>:1:20-37: info: atom does not occur in any rule head:\n",
      "  ext_dep(1,6,s8y3)\n",
      "\n",
      "<block>:1:22-41: info: atom does not occur in any rule head:\n",
      "  ext_dep(5,6,s8y1y3)\n",
      "\n"
     ]
    },
    {
     "name": "stderr",
     "output_type": "stream",
     "text": [
      "<block>:1:20-37: info: atom does not occur in any rule head:\n",
      "  ext_dep(5,6,s8y3)\n",
      "\n",
      "<block>:1:22-41: info: atom does not occur in any rule head:\n",
      "  ext_dep(5,6,s8y1y3)\n",
      "\n"
     ]
    },
    {
     "name": "stderr",
     "output_type": "stream",
     "text": [
      "<block>:1:20-37: info: atom does not occur in any rule head:\n",
      "  ext_dep(1,6,s8y3)\n",
      "\n",
      "<block>:1:22-41: info: atom does not occur in any rule head:\n",
      "  ext_dep(5,6,s8y1y3)\n",
      "\n"
     ]
    },
    {
     "name": "stderr",
     "output_type": "stream",
     "text": [
      "<block>:1:20-37: info: atom does not occur in any rule head:\n",
      "  ext_dep(1,6,s8y3)\n",
      "\n",
      "<block>:1:22-41: info: atom does not occur in any rule head:\n",
      "  ext_dep(5,6,s8y1y3)\n",
      "\n"
     ]
    },
    {
     "name": "stderr",
     "output_type": "stream",
     "text": [
      "<block>:1:20-37: info: atom does not occur in any rule head:\n",
      "  ext_dep(3,6,s8y1)\n",
      "\n",
      "<block>:1:22-41: info: atom does not occur in any rule head:\n",
      "  ext_dep(5,6,s8y1y3)\n",
      "\n"
     ]
    },
    {
     "name": "stderr",
     "output_type": "stream",
     "text": [
      "<block>:1:18-37: info: atom does not occur in any rule head:\n",
      "  ext_indep(5,6,s8y1)\n",
      "\n",
      "<block>:1:20-37: info: atom does not occur in any rule head:\n",
      "  ext_dep(5,6,s8y3)\n",
      "\n",
      "<block>:1:22-41: info: atom does not occur in any rule head:\n",
      "  ext_dep(5,6,s8y1y3)\n",
      "\n",
      "<block>:1:18-37: info: atom does not occur in any rule head:\n",
      "  ext_indep(5,6,s8y1)\n",
      "\n",
      "<block>:1:20-37: info: atom does not occur in any rule head:\n",
      "  ext_dep(3,6,s8y1)\n",
      "\n",
      "<block>:1:22-41: info: atom does not occur in any rule head:\n",
      "  ext_dep(5,6,s8y1y3)\n",
      "\n",
      "<block>:1:18-37: info: atom does not occur in any rule head:\n",
      "  ext_indep(5,6,s8y1)\n",
      "\n",
      "<block>:1:20-37: info: atom does not occur in any rule head:\n",
      "  ext_dep(5,6,s8y3)\n",
      "\n",
      "<block>:1:22-41: info: atom does not occur in any rule head:\n",
      "  ext_dep(5,6,s8y1y3)\n",
      "\n"
     ]
    },
    {
     "name": "stderr",
     "output_type": "stream",
     "text": [
      "<block>:1:18-37: info: atom does not occur in any rule head:\n",
      "  ext_indep(5,6,s8y1)\n",
      "\n",
      "<block>:1:20-37: info: atom does not occur in any rule head:\n",
      "  ext_dep(5,6,s8y3)\n",
      "\n",
      "<block>:1:22-41: info: atom does not occur in any rule head:\n",
      "  ext_dep(5,6,s8y1y3)\n",
      "\n",
      "<block>:1:18-37: info: atom does not occur in any rule head:\n",
      "  ext_indep(5,6,s8y1)\n",
      "\n",
      "<block>:1:20-37: info: atom does not occur in any rule head:\n",
      "  ext_dep(5,6,s8y3)\n",
      "\n",
      "<block>:1:22-41: info: atom does not occur in any rule head:\n",
      "  ext_dep(5,6,s8y1y3)\n",
      "\n"
     ]
    },
    {
     "name": "stderr",
     "output_type": "stream",
     "text": [
      "<block>:1:18-37: info: atom does not occur in any rule head:\n",
      "  ext_indep(5,6,s8y1)\n",
      "\n",
      "<block>:1:20-37: info: atom does not occur in any rule head:\n",
      "  ext_dep(5,6,s8y3)\n",
      "\n",
      "<block>:1:22-41: info: atom does not occur in any rule head:\n",
      "  ext_dep(5,6,s8y1y3)\n",
      "\n"
     ]
    },
    {
     "name": "stderr",
     "output_type": "stream",
     "text": [
      "<block>:1:18-37: info: atom does not occur in any rule head:\n",
      "  ext_indep(5,6,s8y1)\n",
      "\n",
      "<block>:1:20-37: info: atom does not occur in any rule head:\n",
      "  ext_dep(1,6,s8y3)\n",
      "\n",
      "<block>:1:22-41: info: atom does not occur in any rule head:\n",
      "  ext_dep(5,6,s8y1y3)\n",
      "\n"
     ]
    },
    {
     "name": "stderr",
     "output_type": "stream",
     "text": [
      "<block>:1:18-37: info: atom does not occur in any rule head:\n",
      "  ext_indep(5,6,s8y1)\n",
      "\n",
      "<block>:1:20-37: info: atom does not occur in any rule head:\n",
      "  ext_dep(3,6,s8y1)\n",
      "\n",
      "<block>:1:22-41: info: atom does not occur in any rule head:\n",
      "  ext_dep(5,6,s8y1y3)\n",
      "\n"
     ]
    },
    {
     "name": "stderr",
     "output_type": "stream",
     "text": [
      "<block>:1:18-37: info: atom does not occur in any rule head:\n",
      "  ext_indep(5,6,s8y1)\n",
      "\n",
      "<block>:1:20-37: info: atom does not occur in any rule head:\n",
      "  ext_dep(1,6,s8y3)\n",
      "\n",
      "<block>:1:22-41: info: atom does not occur in any rule head:\n",
      "  ext_dep(5,6,s8y1y3)\n",
      "\n"
     ]
    },
    {
     "name": "stderr",
     "output_type": "stream",
     "text": [
      "<block>:1:18-37: info: atom does not occur in any rule head:\n",
      "  ext_indep(5,6,s8y1)\n",
      "\n",
      "<block>:1:20-37: info: atom does not occur in any rule head:\n",
      "  ext_dep(3,6,s8y1)\n",
      "\n",
      "<block>:1:22-41: info: atom does not occur in any rule head:\n",
      "  ext_dep(5,6,s8y1y3)\n",
      "\n"
     ]
    },
    {
     "name": "stderr",
     "output_type": "stream",
     "text": [
      "<block>:1:18-37: info: atom does not occur in any rule head:\n",
      "  ext_indep(5,6,s8y1)\n",
      "\n",
      "<block>:1:20-37: info: atom does not occur in any rule head:\n",
      "  ext_dep(3,6,s8y1)\n",
      "\n",
      "<block>:1:22-41: info: atom does not occur in any rule head:\n",
      "  ext_dep(5,6,s8y1y3)\n",
      "\n"
     ]
    },
    {
     "name": "stderr",
     "output_type": "stream",
     "text": [
      "<block>:1:18-37: info: atom does not occur in any rule head:\n",
      "  ext_indep(5,6,s8y1)\n",
      "\n",
      "<block>:1:20-37: info: atom does not occur in any rule head:\n",
      "  ext_dep(1,6,s8y3)\n",
      "\n",
      "<block>:1:22-41: info: atom does not occur in any rule head:\n",
      "  ext_dep(5,6,s8y1y3)\n",
      "\n"
     ]
    },
    {
     "name": "stderr",
     "output_type": "stream",
     "text": [
      "<block>:1:18-37: info: atom does not occur in any rule head:\n",
      "  ext_indep(5,6,s8y1)\n",
      "\n",
      "<block>:1:20-37: info: atom does not occur in any rule head:\n",
      "  ext_dep(1,6,s8y3)\n",
      "\n",
      "<block>:1:22-41: info: atom does not occur in any rule head:\n",
      "  ext_dep(5,6,s8y1y3)\n",
      "\n"
     ]
    },
    {
     "name": "stderr",
     "output_type": "stream",
     "text": [
      "<block>:1:18-37: info: atom does not occur in any rule head:\n",
      "  ext_indep(5,6,s8y1)\n",
      "\n",
      "<block>:1:20-37: info: atom does not occur in any rule head:\n",
      "  ext_dep(1,6,s8y3)\n",
      "\n",
      "<block>:1:22-41: info: atom does not occur in any rule head:\n",
      "  ext_dep(5,6,s8y1y3)\n",
      "\n"
     ]
    },
    {
     "name": "stderr",
     "output_type": "stream",
     "text": [
      "<block>:1:20-37: info: atom does not occur in any rule head:\n",
      "  ext_dep(1,6,s8y3)\n",
      "\n",
      "<block>:1:22-41: info: atom does not occur in any rule head:\n",
      "  ext_dep(5,6,s8y1y3)\n",
      "\n"
     ]
    },
    {
     "name": "stderr",
     "output_type": "stream",
     "text": [
      "<block>:1:20-37: info: atom does not occur in any rule head:\n",
      "  ext_dep(3,6,s8y1)\n",
      "\n",
      "<block>:1:22-41: info: atom does not occur in any rule head:\n",
      "  ext_dep(5,6,s8y1y3)\n",
      "\n"
     ]
    },
    {
     "name": "stderr",
     "output_type": "stream",
     "text": [
      "<block>:1:20-37: info: atom does not occur in any rule head:\n",
      "  ext_dep(1,6,s8y3)\n",
      "\n",
      "<block>:1:22-41: info: atom does not occur in any rule head:\n",
      "  ext_dep(5,6,s8y1y3)\n",
      "\n"
     ]
    },
    {
     "name": "stderr",
     "output_type": "stream",
     "text": [
      "<block>:1:20-37: info: atom does not occur in any rule head:\n",
      "  ext_dep(3,6,s8y1)\n",
      "\n",
      "<block>:1:22-41: info: atom does not occur in any rule head:\n",
      "  ext_dep(5,6,s8y1y3)\n",
      "\n"
     ]
    },
    {
     "name": "stdout",
     "output_type": "stream",
     "text": [
      "WARNING: ignoring environment value of R_HOME\n"
     ]
    },
    {
     "name": "stdout",
     "output_type": "stream",
     "text": [
      "WARNING: ignoring environment value of R_HOME\n"
     ]
    },
    {
     "name": "stdout",
     "output_type": "stream",
     "text": [
      "WARNING: ignoring environment value of R_HOME\n"
     ]
    },
    {
     "name": "stdout",
     "output_type": "stream",
     "text": [
      "WARNING: ignoring environment value of R_HOME\n"
     ]
    },
    {
     "name": "stdout",
     "output_type": "stream",
     "text": [
      "WARNING: ignoring environment value of R_HOME\n"
     ]
    },
    {
     "name": "stdout",
     "output_type": "stream",
     "text": [
      "WARNING: ignoring environment value of R_HOME\n"
     ]
    },
    {
     "name": "stdout",
     "output_type": "stream",
     "text": [
      "WARNING: ignoring environment value of R_HOME\n"
     ]
    },
    {
     "name": "stdout",
     "output_type": "stream",
     "text": [
      "WARNING: ignoring environment value of R_HOME\n"
     ]
    },
    {
     "name": "stdout",
     "output_type": "stream",
     "text": [
      "WARNING: ignoring environment value of R_HOME\n"
     ]
    },
    {
     "name": "stdout",
     "output_type": "stream",
     "text": [
      "WARNING: ignoring environment value of R_HOME\n"
     ]
    },
    {
     "name": "stdout",
     "output_type": "stream",
     "text": [
      "WARNING: ignoring environment value of R_HOME\n"
     ]
    },
    {
     "name": "stdout",
     "output_type": "stream",
     "text": [
      "WARNING: ignoring environment value of R_HOME\n"
     ]
    },
    {
     "name": "stdout",
     "output_type": "stream",
     "text": [
      "WARNING: ignoring environment value of R_HOME\n"
     ]
    },
    {
     "name": "stdout",
     "output_type": "stream",
     "text": [
      "WARNING: ignoring environment value of R_HOME\n"
     ]
    },
    {
     "name": "stdout",
     "output_type": "stream",
     "text": [
      "WARNING: ignoring environment value of R_HOME\n"
     ]
    },
    {
     "name": "stdout",
     "output_type": "stream",
     "text": [
      "WARNING: ignoring environment value of R_HOME\n"
     ]
    },
    {
     "name": "stdout",
     "output_type": "stream",
     "text": [
      "WARNING: ignoring environment value of R_HOME\n"
     ]
    },
    {
     "name": "stdout",
     "output_type": "stream",
     "text": [
      "WARNING: ignoring environment value of R_HOME\n"
     ]
    },
    {
     "name": "stdout",
     "output_type": "stream",
     "text": [
      "WARNING: ignoring environment value of R_HOME\n"
     ]
    },
    {
     "name": "stdout",
     "output_type": "stream",
     "text": [
      "WARNING: ignoring environment value of R_HOME\n"
     ]
    },
    {
     "name": "stdout",
     "output_type": "stream",
     "text": [
      "WARNING: ignoring environment value of R_HOME\n"
     ]
    },
    {
     "name": "stdout",
     "output_type": "stream",
     "text": [
      "WARNING: ignoring environment value of R_HOME\n"
     ]
    },
    {
     "name": "stdout",
     "output_type": "stream",
     "text": [
      "WARNING: ignoring environment value of R_HOME\n"
     ]
    },
    {
     "name": "stdout",
     "output_type": "stream",
     "text": [
      "WARNING: ignoring environment value of R_HOME\n"
     ]
    },
    {
     "name": "stdout",
     "output_type": "stream",
     "text": [
      "WARNING: ignoring environment value of R_HOME\n"
     ]
    },
    {
     "name": "stdout",
     "output_type": "stream",
     "text": [
      "WARNING: ignoring environment value of R_HOME\n"
     ]
    },
    {
     "name": "stdout",
     "output_type": "stream",
     "text": [
      "WARNING: ignoring environment value of R_HOME\n"
     ]
    },
    {
     "name": "stdout",
     "output_type": "stream",
     "text": [
      "WARNING: ignoring environment value of R_HOME\n"
     ]
    },
    {
     "name": "stdout",
     "output_type": "stream",
     "text": [
      "WARNING: ignoring environment value of R_HOME\n"
     ]
    },
    {
     "name": "stdout",
     "output_type": "stream",
     "text": [
      "WARNING: ignoring environment value of R_HOME\n"
     ]
    },
    {
     "name": "stdout",
     "output_type": "stream",
     "text": [
      "WARNING: ignoring environment value of R_HOME\n"
     ]
    },
    {
     "name": "stdout",
     "output_type": "stream",
     "text": [
      "WARNING: ignoring environment value of R_HOME\n"
     ]
    },
    {
     "name": "stdout",
     "output_type": "stream",
     "text": [
      "WARNING: ignoring environment value of R_HOME\n"
     ]
    },
    {
     "name": "stdout",
     "output_type": "stream",
     "text": [
      "WARNING: ignoring environment value of R_HOME\n"
     ]
    },
    {
     "name": "stdout",
     "output_type": "stream",
     "text": [
      "WARNING: ignoring environment value of R_HOME\n"
     ]
    },
    {
     "name": "stdout",
     "output_type": "stream",
     "text": [
      "WARNING: ignoring environment value of R_HOME\n"
     ]
    },
    {
     "name": "stdout",
     "output_type": "stream",
     "text": [
      "WARNING: ignoring environment value of R_HOME\n"
     ]
    },
    {
     "name": "stdout",
     "output_type": "stream",
     "text": [
      "WARNING: ignoring environment value of R_HOME\n"
     ]
    },
    {
     "name": "stdout",
     "output_type": "stream",
     "text": [
      "WARNING: ignoring environment value of R_HOME\n"
     ]
    },
    {
     "name": "stdout",
     "output_type": "stream",
     "text": [
      "WARNING: ignoring environment value of R_HOME\n"
     ]
    },
    {
     "name": "stdout",
     "output_type": "stream",
     "text": [
      "WARNING: ignoring environment value of R_HOME\n"
     ]
    },
    {
     "name": "stdout",
     "output_type": "stream",
     "text": [
      "WARNING: ignoring environment value of R_HOME\n"
     ]
    },
    {
     "name": "stdout",
     "output_type": "stream",
     "text": [
      "WARNING: ignoring environment value of R_HOME\n"
     ]
    },
    {
     "name": "stdout",
     "output_type": "stream",
     "text": [
      "WARNING: ignoring environment value of R_HOME\n"
     ]
    },
    {
     "name": "stdout",
     "output_type": "stream",
     "text": [
      "WARNING: ignoring environment value of R_HOME\n"
     ]
    },
    {
     "name": "stdout",
     "output_type": "stream",
     "text": [
      "WARNING: ignoring environment value of R_HOME\n"
     ]
    },
    {
     "name": "stdout",
     "output_type": "stream",
     "text": [
      "WARNING: ignoring environment value of R_HOME\n"
     ]
    },
    {
     "name": "stdout",
     "output_type": "stream",
     "text": [
      "WARNING: ignoring environment value of R_HOME\n"
     ]
    },
    {
     "name": "stdout",
     "output_type": "stream",
     "text": [
      "WARNING: ignoring environment value of R_HOME\n"
     ]
    },
    {
     "name": "stdout",
     "output_type": "stream",
     "text": [
      "WARNING: ignoring environment value of R_HOME\n"
     ]
    },
    {
     "name": "stdout",
     "output_type": "stream",
     "text": [
      "WARNING: ignoring environment value of R_HOME\n"
     ]
    },
    {
     "name": "stdout",
     "output_type": "stream",
     "text": [
      "WARNING: ignoring environment value of R_HOME\n"
     ]
    },
    {
     "name": "stdout",
     "output_type": "stream",
     "text": [
      "WARNING: ignoring environment value of R_HOME\n"
     ]
    },
    {
     "name": "stdout",
     "output_type": "stream",
     "text": [
      "WARNING: ignoring environment value of R_HOME\n"
     ]
    },
    {
     "name": "stdout",
     "output_type": "stream",
     "text": [
      "WARNING: ignoring environment value of R_HOME\n"
     ]
    },
    {
     "name": "stdout",
     "output_type": "stream",
     "text": [
      "WARNING: ignoring environment value of R_HOME\n"
     ]
    },
    {
     "name": "stdout",
     "output_type": "stream",
     "text": [
      "WARNING: ignoring environment value of R_HOME\n"
     ]
    },
    {
     "name": "stdout",
     "output_type": "stream",
     "text": [
      "WARNING: ignoring environment value of R_HOME\n"
     ]
    },
    {
     "name": "stdout",
     "output_type": "stream",
     "text": [
      "WARNING: ignoring environment value of R_HOME\n"
     ]
    },
    {
     "name": "stdout",
     "output_type": "stream",
     "text": [
      "WARNING: ignoring environment value of R_HOME\n"
     ]
    },
    {
     "name": "stdout",
     "output_type": "stream",
     "text": [
      "WARNING: ignoring environment value of R_HOME\n"
     ]
    },
    {
     "name": "stdout",
     "output_type": "stream",
     "text": [
      "WARNING: ignoring environment value of R_HOME\n"
     ]
    },
    {
     "name": "stdout",
     "output_type": "stream",
     "text": [
      "WARNING: ignoring environment value of R_HOME\n"
     ]
    },
    {
     "name": "stdout",
     "output_type": "stream",
     "text": [
      "WARNING: ignoring environment value of R_HOME\n"
     ]
    },
    {
     "name": "stdout",
     "output_type": "stream",
     "text": [
      "WARNING: ignoring environment value of R_HOME\n"
     ]
    },
    {
     "name": "stdout",
     "output_type": "stream",
     "text": [
      "WARNING: ignoring environment value of R_HOME\n"
     ]
    },
    {
     "name": "stdout",
     "output_type": "stream",
     "text": [
      "WARNING: ignoring environment value of R_HOME\n"
     ]
    },
    {
     "name": "stdout",
     "output_type": "stream",
     "text": [
      "WARNING: ignoring environment value of R_HOME\n"
     ]
    },
    {
     "name": "stdout",
     "output_type": "stream",
     "text": [
      "WARNING: ignoring environment value of R_HOME\n"
     ]
    },
    {
     "name": "stdout",
     "output_type": "stream",
     "text": [
      "WARNING: ignoring environment value of R_HOME\n"
     ]
    },
    {
     "name": "stdout",
     "output_type": "stream",
     "text": [
      "WARNING: ignoring environment value of R_HOME\n"
     ]
    },
    {
     "name": "stdout",
     "output_type": "stream",
     "text": [
      "WARNING: ignoring environment value of R_HOME\n"
     ]
    },
    {
     "name": "stdout",
     "output_type": "stream",
     "text": [
      "WARNING: ignoring environment value of R_HOME\n"
     ]
    },
    {
     "name": "stdout",
     "output_type": "stream",
     "text": [
      "WARNING: ignoring environment value of R_HOME\n"
     ]
    },
    {
     "name": "stdout",
     "output_type": "stream",
     "text": [
      "WARNING: ignoring environment value of R_HOME\n"
     ]
    },
    {
     "name": "stdout",
     "output_type": "stream",
     "text": [
      "WARNING: ignoring environment value of R_HOME\n"
     ]
    },
    {
     "name": "stdout",
     "output_type": "stream",
     "text": [
      "WARNING: ignoring environment value of R_HOME\n"
     ]
    },
    {
     "name": "stdout",
     "output_type": "stream",
     "text": [
      "WARNING: ignoring environment value of R_HOME\n"
     ]
    },
    {
     "name": "stdout",
     "output_type": "stream",
     "text": [
      "WARNING: ignoring environment value of R_HOME\n"
     ]
    },
    {
     "name": "stdout",
     "output_type": "stream",
     "text": [
      "WARNING: ignoring environment value of R_HOME\n"
     ]
    },
    {
     "name": "stdout",
     "output_type": "stream",
     "text": [
      "WARNING: ignoring environment value of R_HOME\n"
     ]
    },
    {
     "name": "stdout",
     "output_type": "stream",
     "text": [
      "WARNING: ignoring environment value of R_HOME\n"
     ]
    },
    {
     "name": "stdout",
     "output_type": "stream",
     "text": [
      "WARNING: ignoring environment value of R_HOME\n"
     ]
    },
    {
     "name": "stdout",
     "output_type": "stream",
     "text": [
      "WARNING: ignoring environment value of R_HOME\n"
     ]
    },
    {
     "name": "stdout",
     "output_type": "stream",
     "text": [
      "WARNING: ignoring environment value of R_HOME\n"
     ]
    },
    {
     "name": "stdout",
     "output_type": "stream",
     "text": [
      "WARNING: ignoring environment value of R_HOME\n"
     ]
    },
    {
     "name": "stdout",
     "output_type": "stream",
     "text": [
      "WARNING: ignoring environment value of R_HOME\n"
     ]
    },
    {
     "name": "stdout",
     "output_type": "stream",
     "text": [
      "WARNING: ignoring environment value of R_HOME\n"
     ]
    },
    {
     "name": "stdout",
     "output_type": "stream",
     "text": [
      "WARNING: ignoring environment value of R_HOME\n"
     ]
    },
    {
     "name": "stdout",
     "output_type": "stream",
     "text": [
      "WARNING: ignoring environment value of R_HOME\n"
     ]
    },
    {
     "name": "stdout",
     "output_type": "stream",
     "text": [
      "WARNING: ignoring environment value of R_HOME\n"
     ]
    },
    {
     "name": "stdout",
     "output_type": "stream",
     "text": [
      "WARNING: ignoring environment value of R_HOME\n"
     ]
    },
    {
     "name": "stdout",
     "output_type": "stream",
     "text": [
      "WARNING: ignoring environment value of R_HOME\n"
     ]
    },
    {
     "name": "stdout",
     "output_type": "stream",
     "text": [
      "WARNING: ignoring environment value of R_HOME\n"
     ]
    },
    {
     "name": "stdout",
     "output_type": "stream",
     "text": [
      "WARNING: ignoring environment value of R_HOME\n"
     ]
    },
    {
     "name": "stdout",
     "output_type": "stream",
     "text": [
      "WARNING: ignoring environment value of R_HOME\n"
     ]
    },
    {
     "name": "stdout",
     "output_type": "stream",
     "text": [
      "WARNING: ignoring environment value of R_HOME\n"
     ]
    },
    {
     "name": "stdout",
     "output_type": "stream",
     "text": [
      "WARNING: ignoring environment value of R_HOME\n"
     ]
    },
    {
     "name": "stdout",
     "output_type": "stream",
     "text": [
      "WARNING: ignoring environment value of R_HOME\n"
     ]
    },
    {
     "name": "stdout",
     "output_type": "stream",
     "text": [
      "WARNING: ignoring environment value of R_HOME\n"
     ]
    },
    {
     "name": "stdout",
     "output_type": "stream",
     "text": [
      "WARNING: ignoring environment value of R_HOME\n"
     ]
    },
    {
     "name": "stdout",
     "output_type": "stream",
     "text": [
      "WARNING: ignoring environment value of R_HOME\n"
     ]
    },
    {
     "name": "stdout",
     "output_type": "stream",
     "text": [
      "WARNING: ignoring environment value of R_HOME\n"
     ]
    },
    {
     "name": "stdout",
     "output_type": "stream",
     "text": [
      "WARNING: ignoring environment value of R_HOME\n"
     ]
    },
    {
     "name": "stdout",
     "output_type": "stream",
     "text": [
      "WARNING: ignoring environment value of R_HOME\n"
     ]
    },
    {
     "name": "stdout",
     "output_type": "stream",
     "text": [
      "WARNING: ignoring environment value of R_HOME\n"
     ]
    },
    {
     "name": "stdout",
     "output_type": "stream",
     "text": [
      "WARNING: ignoring environment value of R_HOME\n"
     ]
    },
    {
     "name": "stdout",
     "output_type": "stream",
     "text": [
      "WARNING: ignoring environment value of R_HOME\n"
     ]
    },
    {
     "name": "stdout",
     "output_type": "stream",
     "text": [
      "WARNING: ignoring environment value of R_HOME\n"
     ]
    },
    {
     "name": "stdout",
     "output_type": "stream",
     "text": [
      "WARNING: ignoring environment value of R_HOME\n"
     ]
    },
    {
     "name": "stdout",
     "output_type": "stream",
     "text": [
      "WARNING: ignoring environment value of R_HOME\n"
     ]
    },
    {
     "name": "stdout",
     "output_type": "stream",
     "text": [
      "WARNING: ignoring environment value of R_HOME\n"
     ]
    },
    {
     "name": "stdout",
     "output_type": "stream",
     "text": [
      "WARNING: ignoring environment value of R_HOME\n"
     ]
    },
    {
     "name": "stdout",
     "output_type": "stream",
     "text": [
      "WARNING: ignoring environment value of R_HOME\n"
     ]
    },
    {
     "name": "stdout",
     "output_type": "stream",
     "text": [
      "WARNING: ignoring environment value of R_HOME\n"
     ]
    },
    {
     "name": "stdout",
     "output_type": "stream",
     "text": [
      "WARNING: ignoring environment value of R_HOME\n"
     ]
    },
    {
     "name": "stdout",
     "output_type": "stream",
     "text": [
      "WARNING: ignoring environment value of R_HOME\n"
     ]
    },
    {
     "name": "stdout",
     "output_type": "stream",
     "text": [
      "WARNING: ignoring environment value of R_HOME\n"
     ]
    },
    {
     "name": "stdout",
     "output_type": "stream",
     "text": [
      "WARNING: ignoring environment value of R_HOME\n"
     ]
    },
    {
     "name": "stdout",
     "output_type": "stream",
     "text": [
      "WARNING: ignoring environment value of R_HOME\n"
     ]
    },
    {
     "name": "stdout",
     "output_type": "stream",
     "text": [
      "WARNING: ignoring environment value of R_HOME\n"
     ]
    },
    {
     "name": "stdout",
     "output_type": "stream",
     "text": [
      "WARNING: ignoring environment value of R_HOME\n"
     ]
    },
    {
     "name": "stdout",
     "output_type": "stream",
     "text": [
      "WARNING: ignoring environment value of R_HOME\n"
     ]
    },
    {
     "name": "stdout",
     "output_type": "stream",
     "text": [
      "WARNING: ignoring environment value of R_HOME\n"
     ]
    },
    {
     "name": "stdout",
     "output_type": "stream",
     "text": [
      "WARNING: ignoring environment value of R_HOME\n"
     ]
    },
    {
     "name": "stdout",
     "output_type": "stream",
     "text": [
      "WARNING: ignoring environment value of R_HOME\n"
     ]
    },
    {
     "name": "stdout",
     "output_type": "stream",
     "text": [
      "WARNING: ignoring environment value of R_HOME\n"
     ]
    },
    {
     "name": "stdout",
     "output_type": "stream",
     "text": [
      "WARNING: ignoring environment value of R_HOME\n"
     ]
    },
    {
     "name": "stdout",
     "output_type": "stream",
     "text": [
      "WARNING: ignoring environment value of R_HOME\n"
     ]
    },
    {
     "name": "stdout",
     "output_type": "stream",
     "text": [
      "WARNING: ignoring environment value of R_HOME\n"
     ]
    },
    {
     "name": "stdout",
     "output_type": "stream",
     "text": [
      "WARNING: ignoring environment value of R_HOME\n"
     ]
    },
    {
     "name": "stdout",
     "output_type": "stream",
     "text": [
      "WARNING: ignoring environment value of R_HOME\n"
     ]
    },
    {
     "name": "stdout",
     "output_type": "stream",
     "text": [
      "WARNING: ignoring environment value of R_HOME\n"
     ]
    },
    {
     "name": "stdout",
     "output_type": "stream",
     "text": [
      "WARNING: ignoring environment value of R_HOME\n"
     ]
    },
    {
     "name": "stdout",
     "output_type": "stream",
     "text": [
      "WARNING: ignoring environment value of R_HOME\n"
     ]
    },
    {
     "name": "stdout",
     "output_type": "stream",
     "text": [
      "WARNING: ignoring environment value of R_HOME\n"
     ]
    },
    {
     "name": "stdout",
     "output_type": "stream",
     "text": [
      "WARNING: ignoring environment value of R_HOME\n"
     ]
    },
    {
     "name": "stdout",
     "output_type": "stream",
     "text": [
      "WARNING: ignoring environment value of R_HOME\n"
     ]
    },
    {
     "name": "stdout",
     "output_type": "stream",
     "text": [
      "WARNING: ignoring environment value of R_HOME\n"
     ]
    },
    {
     "name": "stdout",
     "output_type": "stream",
     "text": [
      "WARNING: ignoring environment value of R_HOME\n"
     ]
    },
    {
     "name": "stdout",
     "output_type": "stream",
     "text": [
      "WARNING: ignoring environment value of R_HOME\n"
     ]
    },
    {
     "name": "stdout",
     "output_type": "stream",
     "text": [
      "WARNING: ignoring environment value of R_HOME\n"
     ]
    },
    {
     "name": "stdout",
     "output_type": "stream",
     "text": [
      "WARNING: ignoring environment value of R_HOME\n"
     ]
    },
    {
     "name": "stdout",
     "output_type": "stream",
     "text": [
      "WARNING: ignoring environment value of R_HOME\n"
     ]
    },
    {
     "name": "stdout",
     "output_type": "stream",
     "text": [
      "WARNING: ignoring environment value of R_HOME\n"
     ]
    },
    {
     "name": "stdout",
     "output_type": "stream",
     "text": [
      "WARNING: ignoring environment value of R_HOME\n"
     ]
    },
    {
     "name": "stdout",
     "output_type": "stream",
     "text": [
      "WARNING: ignoring environment value of R_HOME\n"
     ]
    },
    {
     "name": "stdout",
     "output_type": "stream",
     "text": [
      "WARNING: ignoring environment value of R_HOME\n"
     ]
    },
    {
     "name": "stdout",
     "output_type": "stream",
     "text": [
      "WARNING: ignoring environment value of R_HOME\n"
     ]
    },
    {
     "name": "stdout",
     "output_type": "stream",
     "text": [
      "WARNING: ignoring environment value of R_HOME\n"
     ]
    },
    {
     "name": "stdout",
     "output_type": "stream",
     "text": [
      "WARNING: ignoring environment value of R_HOME\n"
     ]
    },
    {
     "name": "stdout",
     "output_type": "stream",
     "text": [
      "WARNING: ignoring environment value of R_HOME\n"
     ]
    },
    {
     "name": "stdout",
     "output_type": "stream",
     "text": [
      "WARNING: ignoring environment value of R_HOME\n"
     ]
    },
    {
     "name": "stdout",
     "output_type": "stream",
     "text": [
      "WARNING: ignoring environment value of R_HOME\n"
     ]
    },
    {
     "name": "stdout",
     "output_type": "stream",
     "text": [
      "WARNING: ignoring environment value of R_HOME\n"
     ]
    },
    {
     "name": "stdout",
     "output_type": "stream",
     "text": [
      "WARNING: ignoring environment value of R_HOME\n"
     ]
    },
    {
     "name": "stdout",
     "output_type": "stream",
     "text": [
      "WARNING: ignoring environment value of R_HOME\n"
     ]
    },
    {
     "name": "stdout",
     "output_type": "stream",
     "text": [
      "WARNING: ignoring environment value of R_HOME\n"
     ]
    },
    {
     "name": "stdout",
     "output_type": "stream",
     "text": [
      "WARNING: ignoring environment value of R_HOME\n"
     ]
    },
    {
     "name": "stdout",
     "output_type": "stream",
     "text": [
      "WARNING: ignoring environment value of R_HOME\n"
     ]
    },
    {
     "name": "stdout",
     "output_type": "stream",
     "text": [
      "WARNING: ignoring environment value of R_HOME\n"
     ]
    },
    {
     "name": "stdout",
     "output_type": "stream",
     "text": [
      "WARNING: ignoring environment value of R_HOME\n"
     ]
    },
    {
     "name": "stdout",
     "output_type": "stream",
     "text": [
      "WARNING: ignoring environment value of R_HOME\n"
     ]
    },
    {
     "name": "stdout",
     "output_type": "stream",
     "text": [
      "WARNING: ignoring environment value of R_HOME\n"
     ]
    },
    {
     "name": "stdout",
     "output_type": "stream",
     "text": [
      "WARNING: ignoring environment value of R_HOME\n"
     ]
    },
    {
     "name": "stdout",
     "output_type": "stream",
     "text": [
      "WARNING: ignoring environment value of R_HOME\n"
     ]
    },
    {
     "name": "stdout",
     "output_type": "stream",
     "text": [
      "WARNING: ignoring environment value of R_HOME\n"
     ]
    },
    {
     "name": "stdout",
     "output_type": "stream",
     "text": [
      "WARNING: ignoring environment value of R_HOME\n"
     ]
    },
    {
     "name": "stdout",
     "output_type": "stream",
     "text": [
      "WARNING: ignoring environment value of R_HOME\n"
     ]
    },
    {
     "name": "stdout",
     "output_type": "stream",
     "text": [
      "WARNING: ignoring environment value of R_HOME\n"
     ]
    },
    {
     "name": "stdout",
     "output_type": "stream",
     "text": [
      "WARNING: ignoring environment value of R_HOME\n"
     ]
    },
    {
     "name": "stdout",
     "output_type": "stream",
     "text": [
      "WARNING: ignoring environment value of R_HOME\n"
     ]
    },
    {
     "name": "stdout",
     "output_type": "stream",
     "text": [
      "WARNING: ignoring environment value of R_HOME\n"
     ]
    },
    {
     "name": "stdout",
     "output_type": "stream",
     "text": [
      "WARNING: ignoring environment value of R_HOME\n"
     ]
    },
    {
     "name": "stdout",
     "output_type": "stream",
     "text": [
      "WARNING: ignoring environment value of R_HOME\n"
     ]
    },
    {
     "name": "stdout",
     "output_type": "stream",
     "text": [
      "WARNING: ignoring environment value of R_HOME\n"
     ]
    },
    {
     "name": "stdout",
     "output_type": "stream",
     "text": [
      "WARNING: ignoring environment value of R_HOME\n"
     ]
    },
    {
     "name": "stdout",
     "output_type": "stream",
     "text": [
      "WARNING: ignoring environment value of R_HOME\n"
     ]
    },
    {
     "name": "stdout",
     "output_type": "stream",
     "text": [
      "WARNING: ignoring environment value of R_HOME\n"
     ]
    },
    {
     "name": "stdout",
     "output_type": "stream",
     "text": [
      "WARNING: ignoring environment value of R_HOME\n"
     ]
    },
    {
     "name": "stdout",
     "output_type": "stream",
     "text": [
      "WARNING: ignoring environment value of R_HOME\n"
     ]
    },
    {
     "name": "stdout",
     "output_type": "stream",
     "text": [
      "WARNING: ignoring environment value of R_HOME\n"
     ]
    },
    {
     "name": "stdout",
     "output_type": "stream",
     "text": [
      "WARNING: ignoring environment value of R_HOME\n"
     ]
    },
    {
     "name": "stdout",
     "output_type": "stream",
     "text": [
      "WARNING: ignoring environment value of R_HOME\n"
     ]
    },
    {
     "name": "stdout",
     "output_type": "stream",
     "text": [
      "WARNING: ignoring environment value of R_HOME\n"
     ]
    },
    {
     "name": "stdout",
     "output_type": "stream",
     "text": [
      "WARNING: ignoring environment value of R_HOME\n"
     ]
    },
    {
     "name": "stdout",
     "output_type": "stream",
     "text": [
      "WARNING: ignoring environment value of R_HOME\n"
     ]
    },
    {
     "name": "stdout",
     "output_type": "stream",
     "text": [
      "WARNING: ignoring environment value of R_HOME\n"
     ]
    },
    {
     "name": "stdout",
     "output_type": "stream",
     "text": [
      "WARNING: ignoring environment value of R_HOME\n"
     ]
    },
    {
     "name": "stdout",
     "output_type": "stream",
     "text": [
      "WARNING: ignoring environment value of R_HOME\n"
     ]
    },
    {
     "name": "stdout",
     "output_type": "stream",
     "text": [
      "WARNING: ignoring environment value of R_HOME\n"
     ]
    },
    {
     "name": "stdout",
     "output_type": "stream",
     "text": [
      "WARNING: ignoring environment value of R_HOME\n"
     ]
    },
    {
     "name": "stdout",
     "output_type": "stream",
     "text": [
      "WARNING: ignoring environment value of R_HOME\n"
     ]
    },
    {
     "name": "stdout",
     "output_type": "stream",
     "text": [
      "WARNING: ignoring environment value of R_HOME\n"
     ]
    },
    {
     "name": "stdout",
     "output_type": "stream",
     "text": [
      "WARNING: ignoring environment value of R_HOME\n"
     ]
    },
    {
     "name": "stdout",
     "output_type": "stream",
     "text": [
      "WARNING: ignoring environment value of R_HOME\n"
     ]
    },
    {
     "name": "stdout",
     "output_type": "stream",
     "text": [
      "WARNING: ignoring environment value of R_HOME\n"
     ]
    },
    {
     "name": "stdout",
     "output_type": "stream",
     "text": [
      "WARNING: ignoring environment value of R_HOME\n"
     ]
    },
    {
     "name": "stdout",
     "output_type": "stream",
     "text": [
      "WARNING: ignoring environment value of R_HOME\n"
     ]
    },
    {
     "name": "stdout",
     "output_type": "stream",
     "text": [
      "WARNING: ignoring environment value of R_HOME\n"
     ]
    },
    {
     "name": "stderr",
     "output_type": "stream",
     "text": [
      "<block>:1:45-60: info: atom does not occur in any rule head:\n",
      "  ap(2,3,#P0,empty)\n",
      "\n"
     ]
    },
    {
     "name": "stderr",
     "output_type": "stream",
     "text": [
      "<block>:1:45-60: info: atom does not occur in any rule head:\n",
      "  ap(2,3,#P0,empty)\n",
      "\n"
     ]
    },
    {
     "name": "stderr",
     "output_type": "stream",
     "text": [
      "<block>:1:45-60: info: atom does not occur in any rule head:\n",
      "  ap(2,3,#P0,empty)\n",
      "\n",
      "<block>:1:45-60: info: atom does not occur in any rule head:\n",
      "  ap(2,3,#P0,empty)\n",
      "\n"
     ]
    },
    {
     "name": "stderr",
     "output_type": "stream",
     "text": [
      "<block>:1:45-60: info: atom does not occur in any rule head:\n",
      "  ap(2,3,#P0,empty)\n",
      "\n",
      "<block>:1:45-60: info: atom does not occur in any rule head:\n",
      "  ap(2,3,#P0,empty)\n",
      "\n"
     ]
    },
    {
     "name": "stderr",
     "output_type": "stream",
     "text": [
      "<block>:1:45-60: info: atom does not occur in any rule head:\n",
      "  ap(4,5,#P0,empty)\n",
      "\n",
      "<block>:1:45-60: info: atom does not occur in any rule head:\n",
      "  ap(4,5,#P0,empty)\n",
      "\n",
      "<block>:1:45-60: info: atom does not occur in any rule head:\n",
      "  ap(4,5,#P0,empty)\n",
      "\n",
      "<block>:1:45-60: info: atom does not occur in any rule head:\n",
      "  ap(4,5,#P0,empty)\n",
      "\n"
     ]
    },
    {
     "name": "stderr",
     "output_type": "stream",
     "text": [
      "<block>:1:45-60: info: atom does not occur in any rule head:\n",
      "  ap(2,3,#P0,empty)\n",
      "\n",
      "<block>:1:45-60: info: atom does not occur in any rule head:\n",
      "  ap(2,3,#P0,empty)\n",
      "\n",
      "<block>:1:45-60: info: atom does not occur in any rule head:\n",
      "  ap(4,5,#P0,empty)\n",
      "\n",
      "<block>:1:45-60: info: atom does not occur in any rule head:\n",
      "  ap(4,5,#P0,empty)\n",
      "\n"
     ]
    },
    {
     "name": "stderr",
     "output_type": "stream",
     "text": [
      "/homes/zl1724/causalaba/encodings/causalaba.lp:4:11-18: info: atom does not occur in any rule head:\n",
      "  in(#Anon0,X)\n",
      "\n",
      "/homes/zl1724/causalaba/encodings/causalaba.lp:12:64-71: info: atom does not occur in any rule head:\n",
      "  in(X,S)\n",
      "\n",
      "/homes/zl1724/causalaba/encodings/causalaba.lp:12:77-84: info: atom does not occur in any rule head:\n",
      "  in(Y,S)\n",
      "\n",
      "/homes/zl1724/causalaba/encodings/causalaba.lp:21:63-70: info: atom does not occur in any rule head:\n",
      "  in(X,S)\n",
      "\n",
      "/homes/zl1724/causalaba/encodings/causalaba.lp:21:76-83: info: atom does not occur in any rule head:\n",
      "  in(Y,S)\n",
      "\n",
      "/homes/zl1724/causalaba/encodings/causalaba.lp:36:16-23: info: atom does not occur in any rule head:\n",
      "  in(N,S)\n",
      "\n",
      "/homes/zl1724/causalaba/encodings/causalaba.lp:37:20-27: info: atom does not occur in any rule head:\n",
      "  in(N,S)\n",
      "\n",
      "/homes/zl1724/causalaba/encodings/causalaba.lp:38:20-27: info: atom does not occur in any rule head:\n",
      "  in(N,S)\n",
      "\n",
      "/homes/zl1724/causalaba/encodings/causalaba.lp:38:71-78: info: atom does not occur in any rule head:\n",
      "  in(Z,S)\n",
      "\n",
      "/homes/zl1724/causalaba/encodings/causalaba.lp:4:11-18: info: atom does not occur in any rule head:\n",
      "  in(#Anon0,X)\n",
      "\n",
      "/homes/zl1724/causalaba/encodings/causalaba.lp:12:64-71: info: atom does not occur in any rule head:\n",
      "  in(X,S)\n",
      "\n",
      "/homes/zl1724/causalaba/encodings/causalaba.lp:12:77-84: info: atom does not occur in any rule head:\n",
      "  in(Y,S)\n",
      "\n",
      "/homes/zl1724/causalaba/encodings/causalaba.lp:21:63-70: info: atom does not occur in any rule head:\n",
      "  in(X,S)\n",
      "\n",
      "/homes/zl1724/causalaba/encodings/causalaba.lp:21:76-83: info: atom does not occur in any rule head:\n",
      "  in(Y,S)\n",
      "\n",
      "/homes/zl1724/causalaba/encodings/causalaba.lp:36:16-23: info: atom does not occur in any rule head:\n",
      "  in(N,S)\n",
      "\n",
      "/homes/zl1724/causalaba/encodings/causalaba.lp:37:20-27: info: atom does not occur in any rule head:\n",
      "  in(N,S)\n",
      "\n",
      "/homes/zl1724/causalaba/encodings/causalaba.lp:38:20-27: info: atom does not occur in any rule head:\n",
      "  in(N,S)\n",
      "\n",
      "/homes/zl1724/causalaba/encodings/causalaba.lp:38:71-78: info: atom does not occur in any rule head:\n",
      "  in(Z,S)\n",
      "\n"
     ]
    },
    {
     "name": "stderr",
     "output_type": "stream",
     "text": [
      "<block>:1:45-60: info: atom does not occur in any rule head:\n",
      "  ap(4,5,#P0,empty)\n",
      "\n",
      "<block>:1:45-60: info: atom does not occur in any rule head:\n",
      "  ap(4,5,#P0,empty)\n",
      "\n"
     ]
    },
    {
     "name": "stderr",
     "output_type": "stream",
     "text": [
      "/homes/zl1724/causalaba/encodings/causalaba.lp:4:11-18: info: atom does not occur in any rule head:\n",
      "  in(#Anon0,X)\n",
      "\n",
      "/homes/zl1724/causalaba/encodings/causalaba.lp:12:64-71: info: atom does not occur in any rule head:\n",
      "  in(X,S)\n",
      "\n",
      "/homes/zl1724/causalaba/encodings/causalaba.lp:12:77-84: info: atom does not occur in any rule head:\n",
      "  in(Y,S)\n",
      "\n",
      "/homes/zl1724/causalaba/encodings/causalaba.lp:21:63-70: info: atom does not occur in any rule head:\n",
      "  in(X,S)\n",
      "\n",
      "/homes/zl1724/causalaba/encodings/causalaba.lp:21:76-83: info: atom does not occur in any rule head:\n",
      "  in(Y,S)\n",
      "\n",
      "/homes/zl1724/causalaba/encodings/causalaba.lp:36:16-23: info: atom does not occur in any rule head:\n",
      "  in(N,S)\n",
      "\n",
      "/homes/zl1724/causalaba/encodings/causalaba.lp:37:20-27: info: atom does not occur in any rule head:\n",
      "  in(N,S)\n",
      "\n",
      "/homes/zl1724/causalaba/encodings/causalaba.lp:38:20-27: info: atom does not occur in any rule head:\n",
      "  in(N,S)\n",
      "\n",
      "/homes/zl1724/causalaba/encodings/causalaba.lp:38:71-78: info: atom does not occur in any rule head:\n",
      "  in(Z,S)\n",
      "\n",
      "/homes/zl1724/causalaba/encodings/causalaba.lp:4:11-18: info: atom does not occur in any rule head:\n",
      "  in(#Anon0,X)\n",
      "\n",
      "/homes/zl1724/causalaba/encodings/causalaba.lp:12:64-71: info: atom does not occur in any rule head:\n",
      "  in(X,S)\n",
      "\n",
      "/homes/zl1724/causalaba/encodings/causalaba.lp:12:77-84: info: atom does not occur in any rule head:\n",
      "  in(Y,S)\n",
      "\n",
      "/homes/zl1724/causalaba/encodings/causalaba.lp:21:63-70: info: atom does not occur in any rule head:\n",
      "  in(X,S)\n",
      "\n",
      "/homes/zl1724/causalaba/encodings/causalaba.lp:21:76-83: info: atom does not occur in any rule head:\n",
      "  in(Y,S)\n",
      "\n",
      "/homes/zl1724/causalaba/encodings/causalaba.lp:36:16-23: info: atom does not occur in any rule head:\n",
      "  in(N,S)\n",
      "\n",
      "/homes/zl1724/causalaba/encodings/causalaba.lp:37:20-27: info: atom does not occur in any rule head:\n",
      "  in(N,S)\n",
      "\n",
      "/homes/zl1724/causalaba/encodings/causalaba.lp:38:20-27: info: atom does not occur in any rule head:\n",
      "  in(N,S)\n",
      "\n",
      "/homes/zl1724/causalaba/encodings/causalaba.lp:38:71-78: info: atom does not occur in any rule head:\n",
      "  in(Z,S)\n",
      "\n",
      "<block>:1:45-60: info: atom does not occur in any rule head:\n",
      "  ap(2,3,#P0,empty)\n",
      "\n",
      "<block>:1:45-60: info: atom does not occur in any rule head:\n",
      "  ap(2,3,#P0,empty)\n",
      "\n"
     ]
    },
    {
     "name": "stderr",
     "output_type": "stream",
     "text": [
      "<block>:1:39-51: info: atom does not occur in any rule head:\n",
      "  ap(3,4,#P0,s2)\n",
      "\n",
      "<block>:1:45-60: info: atom does not occur in any rule head:\n",
      "  ap(3,4,#P0,empty)\n",
      "\n"
     ]
    },
    {
     "name": "stderr",
     "output_type": "stream",
     "text": [
      "<block>:1:39-51: info: atom does not occur in any rule head:\n",
      "  ap(3,4,#P0,s2)\n",
      "\n",
      "<block>:1:45-60: info: atom does not occur in any rule head:\n",
      "  ap(3,4,#P0,empty)\n",
      "\n"
     ]
    },
    {
     "name": "stderr",
     "output_type": "stream",
     "text": [
      "<block>:1:45-60: info: atom does not occur in any rule head:\n",
      "  ap(3,5,#P0,empty)\n",
      "\n"
     ]
    },
    {
     "name": "stderr",
     "output_type": "stream",
     "text": [
      "<block>:1:45-60: info: atom does not occur in any rule head:\n",
      "  ap(3,5,#P0,empty)\n",
      "\n"
     ]
    },
    {
     "name": "stderr",
     "output_type": "stream",
     "text": [
      "<block>:1:45-60: info: atom does not occur in any rule head:\n",
      "  ap(2,3,#P0,empty)\n",
      "\n",
      "<block>:1:45-60: info: atom does not occur in any rule head:\n",
      "  ap(2,3,#P0,empty)\n",
      "\n"
     ]
    },
    {
     "name": "stderr",
     "output_type": "stream",
     "text": [
      "<block>:1:45-60: info: atom does not occur in any rule head:\n",
      "  ap(3,4,#P0,empty)\n",
      "\n"
     ]
    },
    {
     "name": "stderr",
     "output_type": "stream",
     "text": [
      "<block>:1:45-60: info: atom does not occur in any rule head:\n",
      "  ap(3,4,#P0,empty)\n",
      "\n"
     ]
    },
    {
     "name": "stderr",
     "output_type": "stream",
     "text": [
      "<block>:1:45-60: info: atom does not occur in any rule head:\n",
      "  ap(4,5,#P0,empty)\n",
      "\n",
      "<block>:1:45-60: info: atom does not occur in any rule head:\n",
      "  ap(4,5,#P0,empty)\n",
      "\n",
      "/homes/zl1724/causalaba/encodings/causalaba.lp:4:11-18: info: atom does not occur in any rule head:\n",
      "  in(#Anon0,X)\n",
      "\n",
      "/homes/zl1724/causalaba/encodings/causalaba.lp:12:64-71: info: atom does not occur in any rule head:\n",
      "  in(X,S)\n",
      "\n",
      "/homes/zl1724/causalaba/encodings/causalaba.lp:12:77-84: info: atom does not occur in any rule head:\n",
      "  in(Y,S)\n",
      "\n",
      "/homes/zl1724/causalaba/encodings/causalaba.lp:21:63-70: info: atom does not occur in any rule head:\n",
      "  in(X,S)\n",
      "\n",
      "/homes/zl1724/causalaba/encodings/causalaba.lp:21:76-83: info: atom does not occur in any rule head:\n",
      "  in(Y,S)\n",
      "\n",
      "/homes/zl1724/causalaba/encodings/causalaba.lp:36:16-23: info: atom does not occur in any rule head:\n",
      "  in(N,S)\n",
      "\n",
      "/homes/zl1724/causalaba/encodings/causalaba.lp:37:20-27: info: atom does not occur in any rule head:\n",
      "  in(N,S)\n",
      "\n",
      "/homes/zl1724/causalaba/encodings/causalaba.lp:38:20-27: info: atom does not occur in any rule head:\n",
      "  in(N,S)\n",
      "\n",
      "/homes/zl1724/causalaba/encodings/causalaba.lp:38:71-78: info: atom does not occur in any rule head:\n",
      "  in(Z,S)\n",
      "\n",
      "/homes/zl1724/causalaba/encodings/causalaba.lp:4:11-18: info: atom does not occur in any rule head:\n",
      "  in(#Anon0,X)\n",
      "\n",
      "/homes/zl1724/causalaba/encodings/causalaba.lp:12:64-71: info: atom does not occur in any rule head:\n",
      "  in(X,S)\n",
      "\n",
      "/homes/zl1724/causalaba/encodings/causalaba.lp:12:77-84: info: atom does not occur in any rule head:\n",
      "  in(Y,S)\n",
      "\n",
      "/homes/zl1724/causalaba/encodings/causalaba.lp:21:63-70: info: atom does not occur in any rule head:\n",
      "  in(X,S)\n",
      "\n",
      "/homes/zl1724/causalaba/encodings/causalaba.lp:21:76-83: info: atom does not occur in any rule head:\n",
      "  in(Y,S)\n",
      "\n",
      "/homes/zl1724/causalaba/encodings/causalaba.lp:36:16-23: info: atom does not occur in any rule head:\n",
      "  in(N,S)\n",
      "\n",
      "/homes/zl1724/causalaba/encodings/causalaba.lp:37:20-27: info: atom does not occur in any rule head:\n",
      "  in(N,S)\n",
      "\n",
      "/homes/zl1724/causalaba/encodings/causalaba.lp:38:20-27: info: atom does not occur in any rule head:\n",
      "  in(N,S)\n",
      "\n",
      "/homes/zl1724/causalaba/encodings/causalaba.lp:38:71-78: info: atom does not occur in any rule head:\n",
      "  in(Z,S)\n",
      "\n"
     ]
    },
    {
     "name": "stderr",
     "output_type": "stream",
     "text": [
      "<block>:1:45-60: info: atom does not occur in any rule head:\n",
      "  ap(4,5,#P0,empty)\n",
      "\n",
      "<block>:1:45-60: info: atom does not occur in any rule head:\n",
      "  ap(4,5,#P0,empty)\n",
      "\n",
      "<block>:1:45-60: info: atom does not occur in any rule head:\n",
      "  ap(4,5,#P0,empty)\n",
      "\n",
      "<block>:1:45-60: info: atom does not occur in any rule head:\n",
      "  ap(4,5,#P0,empty)\n",
      "\n",
      "<block>:1:45-60: info: atom does not occur in any rule head:\n",
      "  ap(4,5,#P0,empty)\n",
      "\n"
     ]
    },
    {
     "name": "stderr",
     "output_type": "stream",
     "text": [
      "<block>:1:45-60: info: atom does not occur in any rule head:\n",
      "  ap(4,5,#P0,empty)\n",
      "\n"
     ]
    },
    {
     "name": "stderr",
     "output_type": "stream",
     "text": [
      "<block>:1:45-60: info: atom does not occur in any rule head:\n",
      "  ap(2,3,#P0,empty)\n",
      "\n",
      "<block>:1:45-60: info: atom does not occur in any rule head:\n",
      "  ap(2,3,#P0,empty)\n",
      "\n",
      "<block>:1:45-60: info: atom does not occur in any rule head:\n",
      "  ap(2,3,#P0,empty)\n",
      "\n",
      "<block>:1:45-60: info: atom does not occur in any rule head:\n",
      "  ap(2,3,#P0,empty)\n",
      "\n"
     ]
    },
    {
     "name": "stdout",
     "output_type": "stream",
     "text": [
      "WARNING: ignoring environment value of R_HOME\n"
     ]
    },
    {
     "name": "stdout",
     "output_type": "stream",
     "text": [
      "WARNING: ignoring environment value of R_HOME\n"
     ]
    },
    {
     "name": "stdout",
     "output_type": "stream",
     "text": [
      "WARNING: ignoring environment value of R_HOME\n"
     ]
    },
    {
     "name": "stdout",
     "output_type": "stream",
     "text": [
      "WARNING: ignoring environment value of R_HOME\n"
     ]
    },
    {
     "name": "stdout",
     "output_type": "stream",
     "text": [
      "WARNING: ignoring environment value of R_HOME\n"
     ]
    },
    {
     "name": "stdout",
     "output_type": "stream",
     "text": [
      "WARNING: ignoring environment value of R_HOME\n"
     ]
    },
    {
     "name": "stdout",
     "output_type": "stream",
     "text": [
      "WARNING: ignoring environment value of R_HOME\n"
     ]
    },
    {
     "name": "stdout",
     "output_type": "stream",
     "text": [
      "WARNING: ignoring environment value of R_HOME\n"
     ]
    },
    {
     "name": "stdout",
     "output_type": "stream",
     "text": [
      "WARNING: ignoring environment value of R_HOME\n"
     ]
    },
    {
     "name": "stdout",
     "output_type": "stream",
     "text": [
      "WARNING: ignoring environment value of R_HOME\n"
     ]
    },
    {
     "name": "stdout",
     "output_type": "stream",
     "text": [
      "WARNING: ignoring environment value of R_HOME\n"
     ]
    },
    {
     "name": "stdout",
     "output_type": "stream",
     "text": [
      "WARNING: ignoring environment value of R_HOME\n"
     ]
    },
    {
     "name": "stdout",
     "output_type": "stream",
     "text": [
      "WARNING: ignoring environment value of R_HOME\n"
     ]
    },
    {
     "name": "stdout",
     "output_type": "stream",
     "text": [
      "WARNING: ignoring environment value of R_HOME\n"
     ]
    },
    {
     "name": "stdout",
     "output_type": "stream",
     "text": [
      "WARNING: ignoring environment value of R_HOME\n"
     ]
    },
    {
     "name": "stdout",
     "output_type": "stream",
     "text": [
      "WARNING: ignoring environment value of R_HOME\n"
     ]
    },
    {
     "name": "stdout",
     "output_type": "stream",
     "text": [
      "WARNING: ignoring environment value of R_HOME\n"
     ]
    },
    {
     "name": "stdout",
     "output_type": "stream",
     "text": [
      "WARNING: ignoring environment value of R_HOME\n"
     ]
    },
    {
     "name": "stdout",
     "output_type": "stream",
     "text": [
      "WARNING: ignoring environment value of R_HOME\n"
     ]
    },
    {
     "name": "stdout",
     "output_type": "stream",
     "text": [
      "WARNING: ignoring environment value of R_HOME\n"
     ]
    },
    {
     "name": "stdout",
     "output_type": "stream",
     "text": [
      "WARNING: ignoring environment value of R_HOME\n"
     ]
    },
    {
     "name": "stdout",
     "output_type": "stream",
     "text": [
      "WARNING: ignoring environment value of R_HOME\n"
     ]
    },
    {
     "name": "stdout",
     "output_type": "stream",
     "text": [
      "WARNING: ignoring environment value of R_HOME\n"
     ]
    },
    {
     "name": "stdout",
     "output_type": "stream",
     "text": [
      "WARNING: ignoring environment value of R_HOME\n"
     ]
    },
    {
     "name": "stdout",
     "output_type": "stream",
     "text": [
      "WARNING: ignoring environment value of R_HOME\n"
     ]
    },
    {
     "name": "stdout",
     "output_type": "stream",
     "text": [
      "WARNING: ignoring environment value of R_HOME\n"
     ]
    },
    {
     "name": "stdout",
     "output_type": "stream",
     "text": [
      "WARNING: ignoring environment value of R_HOME\n"
     ]
    },
    {
     "name": "stdout",
     "output_type": "stream",
     "text": [
      "WARNING: ignoring environment value of R_HOME\n"
     ]
    },
    {
     "name": "stdout",
     "output_type": "stream",
     "text": [
      "WARNING: ignoring environment value of R_HOME\n"
     ]
    },
    {
     "name": "stdout",
     "output_type": "stream",
     "text": [
      "WARNING: ignoring environment value of R_HOME\n"
     ]
    },
    {
     "name": "stdout",
     "output_type": "stream",
     "text": [
      "WARNING: ignoring environment value of R_HOME\n"
     ]
    },
    {
     "name": "stdout",
     "output_type": "stream",
     "text": [
      "WARNING: ignoring environment value of R_HOME\n"
     ]
    },
    {
     "name": "stdout",
     "output_type": "stream",
     "text": [
      "WARNING: ignoring environment value of R_HOME\n"
     ]
    },
    {
     "name": "stdout",
     "output_type": "stream",
     "text": [
      "WARNING: ignoring environment value of R_HOME\n"
     ]
    },
    {
     "name": "stdout",
     "output_type": "stream",
     "text": [
      "WARNING: ignoring environment value of R_HOME\n"
     ]
    },
    {
     "name": "stdout",
     "output_type": "stream",
     "text": [
      "WARNING: ignoring environment value of R_HOME\n"
     ]
    },
    {
     "name": "stdout",
     "output_type": "stream",
     "text": [
      "WARNING: ignoring environment value of R_HOME\n"
     ]
    },
    {
     "name": "stdout",
     "output_type": "stream",
     "text": [
      "WARNING: ignoring environment value of R_HOME\n"
     ]
    },
    {
     "name": "stdout",
     "output_type": "stream",
     "text": [
      "WARNING: ignoring environment value of R_HOME\n"
     ]
    },
    {
     "name": "stdout",
     "output_type": "stream",
     "text": [
      "WARNING: ignoring environment value of R_HOME\n"
     ]
    },
    {
     "name": "stdout",
     "output_type": "stream",
     "text": [
      "WARNING: ignoring environment value of R_HOME\n"
     ]
    },
    {
     "name": "stdout",
     "output_type": "stream",
     "text": [
      "WARNING: ignoring environment value of R_HOME\n"
     ]
    },
    {
     "name": "stdout",
     "output_type": "stream",
     "text": [
      "WARNING: ignoring environment value of R_HOME\n"
     ]
    },
    {
     "name": "stdout",
     "output_type": "stream",
     "text": [
      "WARNING: ignoring environment value of R_HOME\n"
     ]
    },
    {
     "name": "stdout",
     "output_type": "stream",
     "text": [
      "WARNING: ignoring environment value of R_HOME\n"
     ]
    },
    {
     "name": "stdout",
     "output_type": "stream",
     "text": [
      "WARNING: ignoring environment value of R_HOME\n"
     ]
    },
    {
     "name": "stdout",
     "output_type": "stream",
     "text": [
      "WARNING: ignoring environment value of R_HOME\n"
     ]
    },
    {
     "name": "stdout",
     "output_type": "stream",
     "text": [
      "WARNING: ignoring environment value of R_HOME\n"
     ]
    },
    {
     "name": "stdout",
     "output_type": "stream",
     "text": [
      "WARNING: ignoring environment value of R_HOME\n"
     ]
    },
    {
     "name": "stdout",
     "output_type": "stream",
     "text": [
      "WARNING: ignoring environment value of R_HOME\n"
     ]
    },
    {
     "name": "stdout",
     "output_type": "stream",
     "text": [
      "WARNING: ignoring environment value of R_HOME\n"
     ]
    },
    {
     "name": "stdout",
     "output_type": "stream",
     "text": [
      "WARNING: ignoring environment value of R_HOME\n"
     ]
    },
    {
     "name": "stdout",
     "output_type": "stream",
     "text": [
      "WARNING: ignoring environment value of R_HOME\n"
     ]
    },
    {
     "name": "stdout",
     "output_type": "stream",
     "text": [
      "WARNING: ignoring environment value of R_HOME\n"
     ]
    },
    {
     "name": "stdout",
     "output_type": "stream",
     "text": [
      "WARNING: ignoring environment value of R_HOME\n"
     ]
    },
    {
     "name": "stdout",
     "output_type": "stream",
     "text": [
      "WARNING: ignoring environment value of R_HOME\n"
     ]
    },
    {
     "name": "stdout",
     "output_type": "stream",
     "text": [
      "WARNING: ignoring environment value of R_HOME\n"
     ]
    },
    {
     "name": "stdout",
     "output_type": "stream",
     "text": [
      "WARNING: ignoring environment value of R_HOME\n"
     ]
    },
    {
     "name": "stdout",
     "output_type": "stream",
     "text": [
      "WARNING: ignoring environment value of R_HOME\n"
     ]
    },
    {
     "name": "stdout",
     "output_type": "stream",
     "text": [
      "WARNING: ignoring environment value of R_HOME\n"
     ]
    },
    {
     "name": "stdout",
     "output_type": "stream",
     "text": [
      "WARNING: ignoring environment value of R_HOME\n"
     ]
    },
    {
     "name": "stdout",
     "output_type": "stream",
     "text": [
      "WARNING: ignoring environment value of R_HOME\n"
     ]
    },
    {
     "name": "stdout",
     "output_type": "stream",
     "text": [
      "WARNING: ignoring environment value of R_HOME\n"
     ]
    },
    {
     "name": "stdout",
     "output_type": "stream",
     "text": [
      "WARNING: ignoring environment value of R_HOME\n"
     ]
    },
    {
     "name": "stdout",
     "output_type": "stream",
     "text": [
      "WARNING: ignoring environment value of R_HOME\n"
     ]
    },
    {
     "name": "stdout",
     "output_type": "stream",
     "text": [
      "WARNING: ignoring environment value of R_HOME\n"
     ]
    },
    {
     "name": "stdout",
     "output_type": "stream",
     "text": [
      "WARNING: ignoring environment value of R_HOME\n"
     ]
    },
    {
     "name": "stdout",
     "output_type": "stream",
     "text": [
      "WARNING: ignoring environment value of R_HOME\n"
     ]
    },
    {
     "name": "stdout",
     "output_type": "stream",
     "text": [
      "WARNING: ignoring environment value of R_HOME\n"
     ]
    },
    {
     "name": "stdout",
     "output_type": "stream",
     "text": [
      "WARNING: ignoring environment value of R_HOME\n"
     ]
    },
    {
     "name": "stdout",
     "output_type": "stream",
     "text": [
      "WARNING: ignoring environment value of R_HOME\n"
     ]
    },
    {
     "name": "stdout",
     "output_type": "stream",
     "text": [
      "WARNING: ignoring environment value of R_HOME\n"
     ]
    },
    {
     "name": "stdout",
     "output_type": "stream",
     "text": [
      "WARNING: ignoring environment value of R_HOME\n"
     ]
    },
    {
     "name": "stdout",
     "output_type": "stream",
     "text": [
      "WARNING: ignoring environment value of R_HOME\n"
     ]
    },
    {
     "name": "stdout",
     "output_type": "stream",
     "text": [
      "WARNING: ignoring environment value of R_HOME\n"
     ]
    },
    {
     "name": "stdout",
     "output_type": "stream",
     "text": [
      "WARNING: ignoring environment value of R_HOME\n"
     ]
    },
    {
     "name": "stdout",
     "output_type": "stream",
     "text": [
      "WARNING: ignoring environment value of R_HOME\n"
     ]
    },
    {
     "name": "stdout",
     "output_type": "stream",
     "text": [
      "WARNING: ignoring environment value of R_HOME\n"
     ]
    },
    {
     "name": "stdout",
     "output_type": "stream",
     "text": [
      "WARNING: ignoring environment value of R_HOME\n"
     ]
    },
    {
     "name": "stdout",
     "output_type": "stream",
     "text": [
      "WARNING: ignoring environment value of R_HOME\n"
     ]
    },
    {
     "name": "stdout",
     "output_type": "stream",
     "text": [
      "WARNING: ignoring environment value of R_HOME\n"
     ]
    },
    {
     "name": "stdout",
     "output_type": "stream",
     "text": [
      "WARNING: ignoring environment value of R_HOME\n"
     ]
    },
    {
     "name": "stdout",
     "output_type": "stream",
     "text": [
      "WARNING: ignoring environment value of R_HOME\n"
     ]
    },
    {
     "name": "stdout",
     "output_type": "stream",
     "text": [
      "WARNING: ignoring environment value of R_HOME\n"
     ]
    },
    {
     "name": "stdout",
     "output_type": "stream",
     "text": [
      "WARNING: ignoring environment value of R_HOME\n"
     ]
    },
    {
     "name": "stdout",
     "output_type": "stream",
     "text": [
      "WARNING: ignoring environment value of R_HOME\n"
     ]
    },
    {
     "name": "stdout",
     "output_type": "stream",
     "text": [
      "WARNING: ignoring environment value of R_HOME\n"
     ]
    },
    {
     "name": "stdout",
     "output_type": "stream",
     "text": [
      "WARNING: ignoring environment value of R_HOME\n"
     ]
    },
    {
     "name": "stdout",
     "output_type": "stream",
     "text": [
      "WARNING: ignoring environment value of R_HOME\n"
     ]
    },
    {
     "name": "stdout",
     "output_type": "stream",
     "text": [
      "WARNING: ignoring environment value of R_HOME\n"
     ]
    },
    {
     "name": "stdout",
     "output_type": "stream",
     "text": [
      "WARNING: ignoring environment value of R_HOME\n"
     ]
    },
    {
     "name": "stdout",
     "output_type": "stream",
     "text": [
      "WARNING: ignoring environment value of R_HOME\n"
     ]
    },
    {
     "name": "stdout",
     "output_type": "stream",
     "text": [
      "WARNING: ignoring environment value of R_HOME\n"
     ]
    },
    {
     "name": "stdout",
     "output_type": "stream",
     "text": [
      "WARNING: ignoring environment value of R_HOME\n"
     ]
    },
    {
     "name": "stdout",
     "output_type": "stream",
     "text": [
      "WARNING: ignoring environment value of R_HOME\n"
     ]
    },
    {
     "name": "stdout",
     "output_type": "stream",
     "text": [
      "WARNING: ignoring environment value of R_HOME\n"
     ]
    },
    {
     "name": "stdout",
     "output_type": "stream",
     "text": [
      "WARNING: ignoring environment value of R_HOME\n"
     ]
    },
    {
     "name": "stdout",
     "output_type": "stream",
     "text": [
      "WARNING: ignoring environment value of R_HOME\n"
     ]
    },
    {
     "name": "stdout",
     "output_type": "stream",
     "text": [
      "WARNING: ignoring environment value of R_HOME\n"
     ]
    },
    {
     "name": "stdout",
     "output_type": "stream",
     "text": [
      "WARNING: ignoring environment value of R_HOME\n"
     ]
    },
    {
     "name": "stdout",
     "output_type": "stream",
     "text": [
      "WARNING: ignoring environment value of R_HOME\n"
     ]
    },
    {
     "name": "stdout",
     "output_type": "stream",
     "text": [
      "WARNING: ignoring environment value of R_HOME\n"
     ]
    },
    {
     "name": "stdout",
     "output_type": "stream",
     "text": [
      "WARNING: ignoring environment value of R_HOME\n"
     ]
    },
    {
     "name": "stdout",
     "output_type": "stream",
     "text": [
      "WARNING: ignoring environment value of R_HOME\n"
     ]
    },
    {
     "name": "stdout",
     "output_type": "stream",
     "text": [
      "WARNING: ignoring environment value of R_HOME\n"
     ]
    },
    {
     "name": "stdout",
     "output_type": "stream",
     "text": [
      "WARNING: ignoring environment value of R_HOME\n"
     ]
    },
    {
     "name": "stdout",
     "output_type": "stream",
     "text": [
      "WARNING: ignoring environment value of R_HOME\n"
     ]
    },
    {
     "name": "stdout",
     "output_type": "stream",
     "text": [
      "WARNING: ignoring environment value of R_HOME\n"
     ]
    },
    {
     "name": "stdout",
     "output_type": "stream",
     "text": [
      "WARNING: ignoring environment value of R_HOME\n"
     ]
    },
    {
     "name": "stdout",
     "output_type": "stream",
     "text": [
      "WARNING: ignoring environment value of R_HOME\n"
     ]
    },
    {
     "name": "stdout",
     "output_type": "stream",
     "text": [
      "WARNING: ignoring environment value of R_HOME\n"
     ]
    },
    {
     "name": "stdout",
     "output_type": "stream",
     "text": [
      "WARNING: ignoring environment value of R_HOME\n"
     ]
    },
    {
     "name": "stdout",
     "output_type": "stream",
     "text": [
      "WARNING: ignoring environment value of R_HOME\n"
     ]
    },
    {
     "name": "stdout",
     "output_type": "stream",
     "text": [
      "WARNING: ignoring environment value of R_HOME\n"
     ]
    },
    {
     "name": "stdout",
     "output_type": "stream",
     "text": [
      "WARNING: ignoring environment value of R_HOME\n"
     ]
    },
    {
     "name": "stdout",
     "output_type": "stream",
     "text": [
      "WARNING: ignoring environment value of R_HOME\n"
     ]
    },
    {
     "name": "stdout",
     "output_type": "stream",
     "text": [
      "WARNING: ignoring environment value of R_HOME\n"
     ]
    },
    {
     "name": "stdout",
     "output_type": "stream",
     "text": [
      "WARNING: ignoring environment value of R_HOME\n"
     ]
    },
    {
     "name": "stdout",
     "output_type": "stream",
     "text": [
      "WARNING: ignoring environment value of R_HOME\n"
     ]
    },
    {
     "name": "stdout",
     "output_type": "stream",
     "text": [
      "WARNING: ignoring environment value of R_HOME\n"
     ]
    },
    {
     "name": "stdout",
     "output_type": "stream",
     "text": [
      "WARNING: ignoring environment value of R_HOME\n"
     ]
    },
    {
     "name": "stdout",
     "output_type": "stream",
     "text": [
      "WARNING: ignoring environment value of R_HOME\n"
     ]
    },
    {
     "name": "stdout",
     "output_type": "stream",
     "text": [
      "WARNING: ignoring environment value of R_HOME\n"
     ]
    },
    {
     "name": "stdout",
     "output_type": "stream",
     "text": [
      "WARNING: ignoring environment value of R_HOME\n"
     ]
    },
    {
     "name": "stdout",
     "output_type": "stream",
     "text": [
      "WARNING: ignoring environment value of R_HOME\n"
     ]
    },
    {
     "name": "stdout",
     "output_type": "stream",
     "text": [
      "WARNING: ignoring environment value of R_HOME\n"
     ]
    },
    {
     "name": "stdout",
     "output_type": "stream",
     "text": [
      "WARNING: ignoring environment value of R_HOME\n"
     ]
    },
    {
     "name": "stdout",
     "output_type": "stream",
     "text": [
      "WARNING: ignoring environment value of R_HOME\n"
     ]
    },
    {
     "name": "stdout",
     "output_type": "stream",
     "text": [
      "WARNING: ignoring environment value of R_HOME\n"
     ]
    },
    {
     "name": "stdout",
     "output_type": "stream",
     "text": [
      "WARNING: ignoring environment value of R_HOME\n"
     ]
    },
    {
     "name": "stdout",
     "output_type": "stream",
     "text": [
      "WARNING: ignoring environment value of R_HOME\n"
     ]
    },
    {
     "name": "stdout",
     "output_type": "stream",
     "text": [
      "WARNING: ignoring environment value of R_HOME\n"
     ]
    },
    {
     "name": "stdout",
     "output_type": "stream",
     "text": [
      "WARNING: ignoring environment value of R_HOME\n"
     ]
    },
    {
     "name": "stdout",
     "output_type": "stream",
     "text": [
      "WARNING: ignoring environment value of R_HOME\n"
     ]
    },
    {
     "name": "stdout",
     "output_type": "stream",
     "text": [
      "WARNING: ignoring environment value of R_HOME\n"
     ]
    },
    {
     "name": "stdout",
     "output_type": "stream",
     "text": [
      "WARNING: ignoring environment value of R_HOME\n"
     ]
    },
    {
     "name": "stdout",
     "output_type": "stream",
     "text": [
      "WARNING: ignoring environment value of R_HOME\n"
     ]
    },
    {
     "name": "stdout",
     "output_type": "stream",
     "text": [
      "WARNING: ignoring environment value of R_HOME\n"
     ]
    },
    {
     "name": "stdout",
     "output_type": "stream",
     "text": [
      "WARNING: ignoring environment value of R_HOME\n"
     ]
    },
    {
     "name": "stdout",
     "output_type": "stream",
     "text": [
      "WARNING: ignoring environment value of R_HOME\n"
     ]
    },
    {
     "name": "stdout",
     "output_type": "stream",
     "text": [
      "WARNING: ignoring environment value of R_HOME\n"
     ]
    },
    {
     "name": "stdout",
     "output_type": "stream",
     "text": [
      "WARNING: ignoring environment value of R_HOME\n"
     ]
    },
    {
     "name": "stdout",
     "output_type": "stream",
     "text": [
      "WARNING: ignoring environment value of R_HOME\n"
     ]
    },
    {
     "name": "stdout",
     "output_type": "stream",
     "text": [
      "WARNING: ignoring environment value of R_HOME\n"
     ]
    },
    {
     "name": "stdout",
     "output_type": "stream",
     "text": [
      "WARNING: ignoring environment value of R_HOME\n"
     ]
    },
    {
     "name": "stdout",
     "output_type": "stream",
     "text": [
      "WARNING: ignoring environment value of R_HOME\n"
     ]
    },
    {
     "name": "stdout",
     "output_type": "stream",
     "text": [
      "WARNING: ignoring environment value of R_HOME\n"
     ]
    },
    {
     "name": "stdout",
     "output_type": "stream",
     "text": [
      "WARNING: ignoring environment value of R_HOME\n"
     ]
    },
    {
     "name": "stdout",
     "output_type": "stream",
     "text": [
      "WARNING: ignoring environment value of R_HOME\n"
     ]
    },
    {
     "name": "stdout",
     "output_type": "stream",
     "text": [
      "WARNING: ignoring environment value of R_HOME\n"
     ]
    },
    {
     "name": "stdout",
     "output_type": "stream",
     "text": [
      "WARNING: ignoring environment value of R_HOME\n"
     ]
    },
    {
     "name": "stdout",
     "output_type": "stream",
     "text": [
      "WARNING: ignoring environment value of R_HOME\n"
     ]
    },
    {
     "name": "stdout",
     "output_type": "stream",
     "text": [
      "WARNING: ignoring environment value of R_HOME\n"
     ]
    },
    {
     "name": "stdout",
     "output_type": "stream",
     "text": [
      "WARNING: ignoring environment value of R_HOME\n"
     ]
    },
    {
     "name": "stdout",
     "output_type": "stream",
     "text": [
      "WARNING: ignoring environment value of R_HOME\n"
     ]
    },
    {
     "name": "stdout",
     "output_type": "stream",
     "text": [
      "WARNING: ignoring environment value of R_HOME\n"
     ]
    },
    {
     "name": "stdout",
     "output_type": "stream",
     "text": [
      "WARNING: ignoring environment value of R_HOME\n"
     ]
    },
    {
     "name": "stdout",
     "output_type": "stream",
     "text": [
      "WARNING: ignoring environment value of R_HOME\n"
     ]
    },
    {
     "name": "stdout",
     "output_type": "stream",
     "text": [
      "WARNING: ignoring environment value of R_HOME\n"
     ]
    },
    {
     "name": "stdout",
     "output_type": "stream",
     "text": [
      "WARNING: ignoring environment value of R_HOME\n"
     ]
    },
    {
     "name": "stdout",
     "output_type": "stream",
     "text": [
      "WARNING: ignoring environment value of R_HOME\n"
     ]
    },
    {
     "name": "stdout",
     "output_type": "stream",
     "text": [
      "WARNING: ignoring environment value of R_HOME\n"
     ]
    },
    {
     "name": "stdout",
     "output_type": "stream",
     "text": [
      "WARNING: ignoring environment value of R_HOME\n"
     ]
    },
    {
     "name": "stdout",
     "output_type": "stream",
     "text": [
      "WARNING: ignoring environment value of R_HOME\n"
     ]
    },
    {
     "name": "stdout",
     "output_type": "stream",
     "text": [
      "WARNING: ignoring environment value of R_HOME\n"
     ]
    },
    {
     "name": "stdout",
     "output_type": "stream",
     "text": [
      "WARNING: ignoring environment value of R_HOME\n"
     ]
    },
    {
     "name": "stdout",
     "output_type": "stream",
     "text": [
      "WARNING: ignoring environment value of R_HOME\n"
     ]
    },
    {
     "name": "stdout",
     "output_type": "stream",
     "text": [
      "WARNING: ignoring environment value of R_HOME\n"
     ]
    },
    {
     "name": "stdout",
     "output_type": "stream",
     "text": [
      "WARNING: ignoring environment value of R_HOME\n"
     ]
    },
    {
     "name": "stdout",
     "output_type": "stream",
     "text": [
      "WARNING: ignoring environment value of R_HOME\n"
     ]
    },
    {
     "name": "stdout",
     "output_type": "stream",
     "text": [
      "WARNING: ignoring environment value of R_HOME\n"
     ]
    },
    {
     "name": "stdout",
     "output_type": "stream",
     "text": [
      "WARNING: ignoring environment value of R_HOME\n"
     ]
    },
    {
     "name": "stdout",
     "output_type": "stream",
     "text": [
      "WARNING: ignoring environment value of R_HOME\n"
     ]
    },
    {
     "name": "stdout",
     "output_type": "stream",
     "text": [
      "WARNING: ignoring environment value of R_HOME\n"
     ]
    },
    {
     "name": "stdout",
     "output_type": "stream",
     "text": [
      "WARNING: ignoring environment value of R_HOME\n"
     ]
    },
    {
     "name": "stdout",
     "output_type": "stream",
     "text": [
      "WARNING: ignoring environment value of R_HOME\n"
     ]
    },
    {
     "name": "stdout",
     "output_type": "stream",
     "text": [
      "WARNING: ignoring environment value of R_HOME\n"
     ]
    },
    {
     "name": "stdout",
     "output_type": "stream",
     "text": [
      "WARNING: ignoring environment value of R_HOME\n"
     ]
    },
    {
     "name": "stdout",
     "output_type": "stream",
     "text": [
      "WARNING: ignoring environment value of R_HOME\n"
     ]
    },
    {
     "name": "stdout",
     "output_type": "stream",
     "text": [
      "WARNING: ignoring environment value of R_HOME\n"
     ]
    },
    {
     "name": "stdout",
     "output_type": "stream",
     "text": [
      "WARNING: ignoring environment value of R_HOME\n"
     ]
    },
    {
     "name": "stdout",
     "output_type": "stream",
     "text": [
      "WARNING: ignoring environment value of R_HOME\n"
     ]
    },
    {
     "name": "stdout",
     "output_type": "stream",
     "text": [
      "WARNING: ignoring environment value of R_HOME\n"
     ]
    },
    {
     "name": "stdout",
     "output_type": "stream",
     "text": [
      "WARNING: ignoring environment value of R_HOME\n"
     ]
    },
    {
     "name": "stdout",
     "output_type": "stream",
     "text": [
      "WARNING: ignoring environment value of R_HOME\n"
     ]
    },
    {
     "name": "stdout",
     "output_type": "stream",
     "text": [
      "WARNING: ignoring environment value of R_HOME\n"
     ]
    },
    {
     "name": "stdout",
     "output_type": "stream",
     "text": [
      "WARNING: ignoring environment value of R_HOME\n"
     ]
    },
    {
     "name": "stdout",
     "output_type": "stream",
     "text": [
      "WARNING: ignoring environment value of R_HOME\n"
     ]
    },
    {
     "name": "stdout",
     "output_type": "stream",
     "text": [
      "WARNING: ignoring environment value of R_HOME\n"
     ]
    },
    {
     "name": "stdout",
     "output_type": "stream",
     "text": [
      "WARNING: ignoring environment value of R_HOME\n"
     ]
    },
    {
     "name": "stdout",
     "output_type": "stream",
     "text": [
      "WARNING: ignoring environment value of R_HOME\n"
     ]
    },
    {
     "name": "stdout",
     "output_type": "stream",
     "text": [
      "WARNING: ignoring environment value of R_HOME\n"
     ]
    },
    {
     "name": "stdout",
     "output_type": "stream",
     "text": [
      "WARNING: ignoring environment value of R_HOME\n"
     ]
    },
    {
     "name": "stdout",
     "output_type": "stream",
     "text": [
      "WARNING: ignoring environment value of R_HOME\n"
     ]
    },
    {
     "name": "stdout",
     "output_type": "stream",
     "text": [
      "WARNING: ignoring environment value of R_HOME\n"
     ]
    },
    {
     "name": "stdout",
     "output_type": "stream",
     "text": [
      "WARNING: ignoring environment value of R_HOME\n"
     ]
    },
    {
     "name": "stdout",
     "output_type": "stream",
     "text": [
      "WARNING: ignoring environment value of R_HOME\n"
     ]
    },
    {
     "name": "stdout",
     "output_type": "stream",
     "text": [
      "WARNING: ignoring environment value of R_HOME\n"
     ]
    },
    {
     "name": "stdout",
     "output_type": "stream",
     "text": [
      "WARNING: ignoring environment value of R_HOME\n"
     ]
    },
    {
     "name": "stdout",
     "output_type": "stream",
     "text": [
      "WARNING: ignoring environment value of R_HOME\n"
     ]
    },
    {
     "name": "stdout",
     "output_type": "stream",
     "text": [
      "WARNING: ignoring environment value of R_HOME\n"
     ]
    },
    {
     "name": "stdout",
     "output_type": "stream",
     "text": [
      "WARNING: ignoring environment value of R_HOME\n"
     ]
    },
    {
     "name": "stdout",
     "output_type": "stream",
     "text": [
      "WARNING: ignoring environment value of R_HOME\n"
     ]
    },
    {
     "name": "stdout",
     "output_type": "stream",
     "text": [
      "WARNING: ignoring environment value of R_HOME\n"
     ]
    },
    {
     "name": "stdout",
     "output_type": "stream",
     "text": [
      "WARNING: ignoring environment value of R_HOME\n"
     ]
    },
    {
     "name": "stdout",
     "output_type": "stream",
     "text": [
      "WARNING: ignoring environment value of R_HOME\n"
     ]
    },
    {
     "name": "stdout",
     "output_type": "stream",
     "text": [
      "WARNING: ignoring environment value of R_HOME\n"
     ]
    },
    {
     "name": "stdout",
     "output_type": "stream",
     "text": [
      "WARNING: ignoring environment value of R_HOME\n"
     ]
    },
    {
     "name": "stdout",
     "output_type": "stream",
     "text": [
      "WARNING: ignoring environment value of R_HOME\n"
     ]
    },
    {
     "name": "stdout",
     "output_type": "stream",
     "text": [
      "WARNING: ignoring environment value of R_HOME\n"
     ]
    },
    {
     "name": "stdout",
     "output_type": "stream",
     "text": [
      "WARNING: ignoring environment value of R_HOME\n"
     ]
    },
    {
     "name": "stdout",
     "output_type": "stream",
     "text": [
      "WARNING: ignoring environment value of R_HOME\n"
     ]
    },
    {
     "name": "stdout",
     "output_type": "stream",
     "text": [
      "WARNING: ignoring environment value of R_HOME\n"
     ]
    },
    {
     "name": "stdout",
     "output_type": "stream",
     "text": [
      "WARNING: ignoring environment value of R_HOME\n"
     ]
    },
    {
     "name": "stdout",
     "output_type": "stream",
     "text": [
      "WARNING: ignoring environment value of R_HOME\n"
     ]
    },
    {
     "name": "stdout",
     "output_type": "stream",
     "text": [
      "WARNING: ignoring environment value of R_HOME\n"
     ]
    },
    {
     "name": "stdout",
     "output_type": "stream",
     "text": [
      "WARNING: ignoring environment value of R_HOME\n"
     ]
    },
    {
     "name": "stdout",
     "output_type": "stream",
     "text": [
      "WARNING: ignoring environment value of R_HOME\n"
     ]
    },
    {
     "name": "stdout",
     "output_type": "stream",
     "text": [
      "WARNING: ignoring environment value of R_HOME\n"
     ]
    },
    {
     "name": "stdout",
     "output_type": "stream",
     "text": [
      "WARNING: ignoring environment value of R_HOME\n"
     ]
    },
    {
     "name": "stdout",
     "output_type": "stream",
     "text": [
      "WARNING: ignoring environment value of R_HOME\n"
     ]
    },
    {
     "name": "stdout",
     "output_type": "stream",
     "text": [
      "WARNING: ignoring environment value of R_HOME\n"
     ]
    },
    {
     "name": "stdout",
     "output_type": "stream",
     "text": [
      "WARNING: ignoring environment value of R_HOME\n"
     ]
    },
    {
     "name": "stdout",
     "output_type": "stream",
     "text": [
      "WARNING: ignoring environment value of R_HOME\n"
     ]
    },
    {
     "name": "stdout",
     "output_type": "stream",
     "text": [
      "WARNING: ignoring environment value of R_HOME\n"
     ]
    },
    {
     "name": "stdout",
     "output_type": "stream",
     "text": [
      "WARNING: ignoring environment value of R_HOME\n"
     ]
    },
    {
     "name": "stdout",
     "output_type": "stream",
     "text": [
      "WARNING: ignoring environment value of R_HOME\n"
     ]
    },
    {
     "name": "stdout",
     "output_type": "stream",
     "text": [
      "WARNING: ignoring environment value of R_HOME\n"
     ]
    },
    {
     "name": "stdout",
     "output_type": "stream",
     "text": [
      "WARNING: ignoring environment value of R_HOME\n"
     ]
    },
    {
     "name": "stdout",
     "output_type": "stream",
     "text": [
      "WARNING: ignoring environment value of R_HOME\n"
     ]
    },
    {
     "name": "stdout",
     "output_type": "stream",
     "text": [
      "WARNING: ignoring environment value of R_HOME\n"
     ]
    },
    {
     "name": "stdout",
     "output_type": "stream",
     "text": [
      "WARNING: ignoring environment value of R_HOME\n"
     ]
    },
    {
     "name": "stdout",
     "output_type": "stream",
     "text": [
      "WARNING: ignoring environment value of R_HOME\n"
     ]
    },
    {
     "name": "stdout",
     "output_type": "stream",
     "text": [
      "WARNING: ignoring environment value of R_HOME\n"
     ]
    },
    {
     "name": "stdout",
     "output_type": "stream",
     "text": [
      "WARNING: ignoring environment value of R_HOME\n"
     ]
    },
    {
     "name": "stdout",
     "output_type": "stream",
     "text": [
      "WARNING: ignoring environment value of R_HOME\n"
     ]
    },
    {
     "name": "stdout",
     "output_type": "stream",
     "text": [
      "WARNING: ignoring environment value of R_HOME\n"
     ]
    },
    {
     "name": "stdout",
     "output_type": "stream",
     "text": [
      "WARNING: ignoring environment value of R_HOME\n"
     ]
    },
    {
     "name": "stdout",
     "output_type": "stream",
     "text": [
      "WARNING: ignoring environment value of R_HOME\n"
     ]
    },
    {
     "name": "stdout",
     "output_type": "stream",
     "text": [
      "WARNING: ignoring environment value of R_HOME\n"
     ]
    },
    {
     "name": "stdout",
     "output_type": "stream",
     "text": [
      "WARNING: ignoring environment value of R_HOME\n"
     ]
    },
    {
     "name": "stdout",
     "output_type": "stream",
     "text": [
      "WARNING: ignoring environment value of R_HOME\n"
     ]
    },
    {
     "name": "stdout",
     "output_type": "stream",
     "text": [
      "WARNING: ignoring environment value of R_HOME\n"
     ]
    },
    {
     "name": "stdout",
     "output_type": "stream",
     "text": [
      "WARNING: ignoring environment value of R_HOME\n"
     ]
    },
    {
     "name": "stdout",
     "output_type": "stream",
     "text": [
      "WARNING: ignoring environment value of R_HOME\n"
     ]
    },
    {
     "name": "stdout",
     "output_type": "stream",
     "text": [
      "WARNING: ignoring environment value of R_HOME\n"
     ]
    },
    {
     "name": "stdout",
     "output_type": "stream",
     "text": [
      "WARNING: ignoring environment value of R_HOME\n"
     ]
    },
    {
     "name": "stdout",
     "output_type": "stream",
     "text": [
      "WARNING: ignoring environment value of R_HOME\n"
     ]
    },
    {
     "name": "stdout",
     "output_type": "stream",
     "text": [
      "WARNING: ignoring environment value of R_HOME\n"
     ]
    },
    {
     "name": "stdout",
     "output_type": "stream",
     "text": [
      "WARNING: ignoring environment value of R_HOME\n"
     ]
    },
    {
     "name": "stdout",
     "output_type": "stream",
     "text": [
      "WARNING: ignoring environment value of R_HOME\n"
     ]
    },
    {
     "name": "stdout",
     "output_type": "stream",
     "text": [
      "WARNING: ignoring environment value of R_HOME\n"
     ]
    },
    {
     "name": "stdout",
     "output_type": "stream",
     "text": [
      "WARNING: ignoring environment value of R_HOME\n"
     ]
    },
    {
     "name": "stdout",
     "output_type": "stream",
     "text": [
      "WARNING: ignoring environment value of R_HOME\n"
     ]
    },
    {
     "name": "stdout",
     "output_type": "stream",
     "text": [
      "WARNING: ignoring environment value of R_HOME\n"
     ]
    },
    {
     "name": "stdout",
     "output_type": "stream",
     "text": [
      "WARNING: ignoring environment value of R_HOME\n"
     ]
    },
    {
     "name": "stdout",
     "output_type": "stream",
     "text": [
      "WARNING: ignoring environment value of R_HOME\n"
     ]
    },
    {
     "name": "stdout",
     "output_type": "stream",
     "text": [
      "WARNING: ignoring environment value of R_HOME\n"
     ]
    },
    {
     "name": "stdout",
     "output_type": "stream",
     "text": [
      "WARNING: ignoring environment value of R_HOME\n"
     ]
    },
    {
     "name": "stdout",
     "output_type": "stream",
     "text": [
      "WARNING: ignoring environment value of R_HOME\n"
     ]
    },
    {
     "name": "stdout",
     "output_type": "stream",
     "text": [
      "WARNING: ignoring environment value of R_HOME\n"
     ]
    },
    {
     "name": "stdout",
     "output_type": "stream",
     "text": [
      "WARNING: ignoring environment value of R_HOME\n"
     ]
    },
    {
     "name": "stdout",
     "output_type": "stream",
     "text": [
      "WARNING: ignoring environment value of R_HOME\n"
     ]
    },
    {
     "name": "stdout",
     "output_type": "stream",
     "text": [
      "WARNING: ignoring environment value of R_HOME\n"
     ]
    },
    {
     "name": "stdout",
     "output_type": "stream",
     "text": [
      "WARNING: ignoring environment value of R_HOME\n"
     ]
    },
    {
     "name": "stdout",
     "output_type": "stream",
     "text": [
      "WARNING: ignoring environment value of R_HOME\n"
     ]
    },
    {
     "name": "stdout",
     "output_type": "stream",
     "text": [
      "WARNING: ignoring environment value of R_HOME\n"
     ]
    },
    {
     "name": "stdout",
     "output_type": "stream",
     "text": [
      "WARNING: ignoring environment value of R_HOME\n"
     ]
    },
    {
     "name": "stdout",
     "output_type": "stream",
     "text": [
      "WARNING: ignoring environment value of R_HOME\n"
     ]
    },
    {
     "name": "stdout",
     "output_type": "stream",
     "text": [
      "WARNING: ignoring environment value of R_HOME\n"
     ]
    },
    {
     "name": "stdout",
     "output_type": "stream",
     "text": [
      "WARNING: ignoring environment value of R_HOME\n"
     ]
    },
    {
     "name": "stdout",
     "output_type": "stream",
     "text": [
      "WARNING: ignoring environment value of R_HOME\n"
     ]
    },
    {
     "name": "stdout",
     "output_type": "stream",
     "text": [
      "WARNING: ignoring environment value of R_HOME\n"
     ]
    },
    {
     "name": "stdout",
     "output_type": "stream",
     "text": [
      "WARNING: ignoring environment value of R_HOME\n"
     ]
    },
    {
     "name": "stdout",
     "output_type": "stream",
     "text": [
      "WARNING: ignoring environment value of R_HOME\n"
     ]
    },
    {
     "name": "stdout",
     "output_type": "stream",
     "text": [
      "WARNING: ignoring environment value of R_HOME\n"
     ]
    },
    {
     "name": "stdout",
     "output_type": "stream",
     "text": [
      "WARNING: ignoring environment value of R_HOME\n"
     ]
    },
    {
     "name": "stdout",
     "output_type": "stream",
     "text": [
      "WARNING: ignoring environment value of R_HOME\n"
     ]
    },
    {
     "name": "stdout",
     "output_type": "stream",
     "text": [
      "WARNING: ignoring environment value of R_HOME\n"
     ]
    },
    {
     "name": "stdout",
     "output_type": "stream",
     "text": [
      "WARNING: ignoring environment value of R_HOME\n"
     ]
    },
    {
     "name": "stdout",
     "output_type": "stream",
     "text": [
      "WARNING: ignoring environment value of R_HOME\n"
     ]
    },
    {
     "name": "stdout",
     "output_type": "stream",
     "text": [
      "WARNING: ignoring environment value of R_HOME\n"
     ]
    },
    {
     "name": "stdout",
     "output_type": "stream",
     "text": [
      "WARNING: ignoring environment value of R_HOME\n"
     ]
    },
    {
     "name": "stdout",
     "output_type": "stream",
     "text": [
      "WARNING: ignoring environment value of R_HOME\n"
     ]
    },
    {
     "name": "stdout",
     "output_type": "stream",
     "text": [
      "WARNING: ignoring environment value of R_HOME\n"
     ]
    },
    {
     "name": "stdout",
     "output_type": "stream",
     "text": [
      "WARNING: ignoring environment value of R_HOME\n"
     ]
    },
    {
     "name": "stdout",
     "output_type": "stream",
     "text": [
      "WARNING: ignoring environment value of R_HOME\n"
     ]
    },
    {
     "name": "stdout",
     "output_type": "stream",
     "text": [
      "WARNING: ignoring environment value of R_HOME\n"
     ]
    },
    {
     "name": "stdout",
     "output_type": "stream",
     "text": [
      "WARNING: ignoring environment value of R_HOME\n"
     ]
    },
    {
     "name": "stdout",
     "output_type": "stream",
     "text": [
      "WARNING: ignoring environment value of R_HOME\n"
     ]
    },
    {
     "name": "stdout",
     "output_type": "stream",
     "text": [
      "WARNING: ignoring environment value of R_HOME\n"
     ]
    },
    {
     "name": "stdout",
     "output_type": "stream",
     "text": [
      "WARNING: ignoring environment value of R_HOME\n"
     ]
    },
    {
     "name": "stdout",
     "output_type": "stream",
     "text": [
      "WARNING: ignoring environment value of R_HOME\n"
     ]
    },
    {
     "name": "stdout",
     "output_type": "stream",
     "text": [
      "WARNING: ignoring environment value of R_HOME\n"
     ]
    },
    {
     "name": "stdout",
     "output_type": "stream",
     "text": [
      "WARNING: ignoring environment value of R_HOME\n"
     ]
    },
    {
     "name": "stdout",
     "output_type": "stream",
     "text": [
      "WARNING: ignoring environment value of R_HOME\n"
     ]
    },
    {
     "name": "stdout",
     "output_type": "stream",
     "text": [
      "WARNING: ignoring environment value of R_HOME\n"
     ]
    },
    {
     "name": "stdout",
     "output_type": "stream",
     "text": [
      "WARNING: ignoring environment value of R_HOME\n"
     ]
    },
    {
     "name": "stdout",
     "output_type": "stream",
     "text": [
      "WARNING: ignoring environment value of R_HOME\n"
     ]
    },
    {
     "name": "stdout",
     "output_type": "stream",
     "text": [
      "WARNING: ignoring environment value of R_HOME\n"
     ]
    },
    {
     "name": "stdout",
     "output_type": "stream",
     "text": [
      "WARNING: ignoring environment value of R_HOME\n"
     ]
    },
    {
     "name": "stdout",
     "output_type": "stream",
     "text": [
      "WARNING: ignoring environment value of R_HOME\n"
     ]
    },
    {
     "name": "stdout",
     "output_type": "stream",
     "text": [
      "WARNING: ignoring environment value of R_HOME\n"
     ]
    },
    {
     "name": "stdout",
     "output_type": "stream",
     "text": [
      "WARNING: ignoring environment value of R_HOME\n"
     ]
    },
    {
     "name": "stdout",
     "output_type": "stream",
     "text": [
      "WARNING: ignoring environment value of R_HOME\n"
     ]
    },
    {
     "name": "stdout",
     "output_type": "stream",
     "text": [
      "WARNING: ignoring environment value of R_HOME\n"
     ]
    },
    {
     "name": "stdout",
     "output_type": "stream",
     "text": [
      "WARNING: ignoring environment value of R_HOME\n"
     ]
    },
    {
     "name": "stdout",
     "output_type": "stream",
     "text": [
      "WARNING: ignoring environment value of R_HOME\n"
     ]
    },
    {
     "name": "stdout",
     "output_type": "stream",
     "text": [
      "WARNING: ignoring environment value of R_HOME\n"
     ]
    },
    {
     "name": "stdout",
     "output_type": "stream",
     "text": [
      "WARNING: ignoring environment value of R_HOME\n"
     ]
    },
    {
     "name": "stdout",
     "output_type": "stream",
     "text": [
      "WARNING: ignoring environment value of R_HOME\n"
     ]
    },
    {
     "name": "stdout",
     "output_type": "stream",
     "text": [
      "WARNING: ignoring environment value of R_HOME\n"
     ]
    },
    {
     "name": "stdout",
     "output_type": "stream",
     "text": [
      "WARNING: ignoring environment value of R_HOME\n"
     ]
    },
    {
     "name": "stdout",
     "output_type": "stream",
     "text": [
      "WARNING: ignoring environment value of R_HOME\n"
     ]
    },
    {
     "name": "stdout",
     "output_type": "stream",
     "text": [
      "WARNING: ignoring environment value of R_HOME\n"
     ]
    },
    {
     "name": "stdout",
     "output_type": "stream",
     "text": [
      "WARNING: ignoring environment value of R_HOME\n"
     ]
    },
    {
     "name": "stdout",
     "output_type": "stream",
     "text": [
      "WARNING: ignoring environment value of R_HOME\n"
     ]
    },
    {
     "name": "stdout",
     "output_type": "stream",
     "text": [
      "WARNING: ignoring environment value of R_HOME\n"
     ]
    },
    {
     "name": "stdout",
     "output_type": "stream",
     "text": [
      "WARNING: ignoring environment value of R_HOME\n"
     ]
    },
    {
     "name": "stdout",
     "output_type": "stream",
     "text": [
      "WARNING: ignoring environment value of R_HOME\n"
     ]
    },
    {
     "name": "stdout",
     "output_type": "stream",
     "text": [
      "WARNING: ignoring environment value of R_HOME\n"
     ]
    },
    {
     "name": "stdout",
     "output_type": "stream",
     "text": [
      "WARNING: ignoring environment value of R_HOME\n"
     ]
    },
    {
     "name": "stdout",
     "output_type": "stream",
     "text": [
      "WARNING: ignoring environment value of R_HOME\n"
     ]
    },
    {
     "name": "stdout",
     "output_type": "stream",
     "text": [
      "WARNING: ignoring environment value of R_HOME\n"
     ]
    },
    {
     "name": "stdout",
     "output_type": "stream",
     "text": [
      "WARNING: ignoring environment value of R_HOME\n"
     ]
    },
    {
     "name": "stdout",
     "output_type": "stream",
     "text": [
      "WARNING: ignoring environment value of R_HOME\n"
     ]
    },
    {
     "name": "stdout",
     "output_type": "stream",
     "text": [
      "WARNING: ignoring environment value of R_HOME\n"
     ]
    },
    {
     "name": "stdout",
     "output_type": "stream",
     "text": [
      "WARNING: ignoring environment value of R_HOME\n"
     ]
    },
    {
     "name": "stdout",
     "output_type": "stream",
     "text": [
      "WARNING: ignoring environment value of R_HOME\n"
     ]
    },
    {
     "name": "stdout",
     "output_type": "stream",
     "text": [
      "WARNING: ignoring environment value of R_HOME\n"
     ]
    },
    {
     "name": "stdout",
     "output_type": "stream",
     "text": [
      "WARNING: ignoring environment value of R_HOME\n"
     ]
    },
    {
     "name": "stdout",
     "output_type": "stream",
     "text": [
      "WARNING: ignoring environment value of R_HOME\n"
     ]
    },
    {
     "name": "stdout",
     "output_type": "stream",
     "text": [
      "WARNING: ignoring environment value of R_HOME\n"
     ]
    },
    {
     "name": "stdout",
     "output_type": "stream",
     "text": [
      "WARNING: ignoring environment value of R_HOME\n"
     ]
    },
    {
     "name": "stdout",
     "output_type": "stream",
     "text": [
      "WARNING: ignoring environment value of R_HOME\n"
     ]
    },
    {
     "name": "stdout",
     "output_type": "stream",
     "text": [
      "WARNING: ignoring environment value of R_HOME\n"
     ]
    },
    {
     "name": "stdout",
     "output_type": "stream",
     "text": [
      "WARNING: ignoring environment value of R_HOME\n"
     ]
    },
    {
     "name": "stdout",
     "output_type": "stream",
     "text": [
      "WARNING: ignoring environment value of R_HOME\n"
     ]
    },
    {
     "name": "stdout",
     "output_type": "stream",
     "text": [
      "WARNING: ignoring environment value of R_HOME\n"
     ]
    },
    {
     "name": "stdout",
     "output_type": "stream",
     "text": [
      "WARNING: ignoring environment value of R_HOME\n"
     ]
    },
    {
     "name": "stdout",
     "output_type": "stream",
     "text": [
      "WARNING: ignoring environment value of R_HOME\n"
     ]
    },
    {
     "name": "stdout",
     "output_type": "stream",
     "text": [
      "WARNING: ignoring environment value of R_HOME\n"
     ]
    },
    {
     "name": "stdout",
     "output_type": "stream",
     "text": [
      "WARNING: ignoring environment value of R_HOME\n"
     ]
    },
    {
     "name": "stdout",
     "output_type": "stream",
     "text": [
      "WARNING: ignoring environment value of R_HOME\n"
     ]
    },
    {
     "name": "stdout",
     "output_type": "stream",
     "text": [
      "WARNING: ignoring environment value of R_HOME\n"
     ]
    },
    {
     "name": "stdout",
     "output_type": "stream",
     "text": [
      "WARNING: ignoring environment value of R_HOME\n"
     ]
    },
    {
     "name": "stdout",
     "output_type": "stream",
     "text": [
      "WARNING: ignoring environment value of R_HOME\n"
     ]
    },
    {
     "name": "stdout",
     "output_type": "stream",
     "text": [
      "WARNING: ignoring environment value of R_HOME\n"
     ]
    },
    {
     "name": "stdout",
     "output_type": "stream",
     "text": [
      "WARNING: ignoring environment value of R_HOME\n"
     ]
    },
    {
     "name": "stdout",
     "output_type": "stream",
     "text": [
      "WARNING: ignoring environment value of R_HOME\n"
     ]
    },
    {
     "name": "stdout",
     "output_type": "stream",
     "text": [
      "WARNING: ignoring environment value of R_HOME\n"
     ]
    },
    {
     "name": "stdout",
     "output_type": "stream",
     "text": [
      "WARNING: ignoring environment value of R_HOME\n"
     ]
    },
    {
     "name": "stdout",
     "output_type": "stream",
     "text": [
      "WARNING: ignoring environment value of R_HOME\n"
     ]
    },
    {
     "name": "stdout",
     "output_type": "stream",
     "text": [
      "WARNING: ignoring environment value of R_HOME\n"
     ]
    },
    {
     "name": "stdout",
     "output_type": "stream",
     "text": [
      "WARNING: ignoring environment value of R_HOME\n"
     ]
    },
    {
     "name": "stdout",
     "output_type": "stream",
     "text": [
      "WARNING: ignoring environment value of R_HOME\n"
     ]
    },
    {
     "name": "stdout",
     "output_type": "stream",
     "text": [
      "WARNING: ignoring environment value of R_HOME\n"
     ]
    },
    {
     "name": "stdout",
     "output_type": "stream",
     "text": [
      "WARNING: ignoring environment value of R_HOME\n"
     ]
    },
    {
     "name": "stdout",
     "output_type": "stream",
     "text": [
      "WARNING: ignoring environment value of R_HOME\n"
     ]
    },
    {
     "name": "stdout",
     "output_type": "stream",
     "text": [
      "WARNING: ignoring environment value of R_HOME\n"
     ]
    },
    {
     "name": "stdout",
     "output_type": "stream",
     "text": [
      "WARNING: ignoring environment value of R_HOME\n"
     ]
    },
    {
     "name": "stdout",
     "output_type": "stream",
     "text": [
      "WARNING: ignoring environment value of R_HOME\n"
     ]
    },
    {
     "name": "stdout",
     "output_type": "stream",
     "text": [
      "WARNING: ignoring environment value of R_HOME\n"
     ]
    },
    {
     "name": "stdout",
     "output_type": "stream",
     "text": [
      "WARNING: ignoring environment value of R_HOME\n"
     ]
    },
    {
     "name": "stdout",
     "output_type": "stream",
     "text": [
      "WARNING: ignoring environment value of R_HOME\n"
     ]
    },
    {
     "name": "stdout",
     "output_type": "stream",
     "text": [
      "WARNING: ignoring environment value of R_HOME\n"
     ]
    },
    {
     "name": "stdout",
     "output_type": "stream",
     "text": [
      "WARNING: ignoring environment value of R_HOME\n"
     ]
    },
    {
     "name": "stdout",
     "output_type": "stream",
     "text": [
      "WARNING: ignoring environment value of R_HOME\n"
     ]
    },
    {
     "name": "stdout",
     "output_type": "stream",
     "text": [
      "WARNING: ignoring environment value of R_HOME\n"
     ]
    },
    {
     "name": "stdout",
     "output_type": "stream",
     "text": [
      "WARNING: ignoring environment value of R_HOME\n"
     ]
    },
    {
     "name": "stdout",
     "output_type": "stream",
     "text": [
      "WARNING: ignoring environment value of R_HOME\n"
     ]
    },
    {
     "name": "stdout",
     "output_type": "stream",
     "text": [
      "WARNING: ignoring environment value of R_HOME\n"
     ]
    },
    {
     "name": "stdout",
     "output_type": "stream",
     "text": [
      "WARNING: ignoring environment value of R_HOME\n"
     ]
    },
    {
     "name": "stdout",
     "output_type": "stream",
     "text": [
      "WARNING: ignoring environment value of R_HOME\n"
     ]
    },
    {
     "name": "stdout",
     "output_type": "stream",
     "text": [
      "WARNING: ignoring environment value of R_HOME\n"
     ]
    },
    {
     "name": "stdout",
     "output_type": "stream",
     "text": [
      "WARNING: ignoring environment value of R_HOME\n"
     ]
    },
    {
     "name": "stdout",
     "output_type": "stream",
     "text": [
      "WARNING: ignoring environment value of R_HOME\n"
     ]
    },
    {
     "name": "stdout",
     "output_type": "stream",
     "text": [
      "WARNING: ignoring environment value of R_HOME\n"
     ]
    },
    {
     "name": "stdout",
     "output_type": "stream",
     "text": [
      "WARNING: ignoring environment value of R_HOME\n"
     ]
    },
    {
     "name": "stdout",
     "output_type": "stream",
     "text": [
      "WARNING: ignoring environment value of R_HOME\n"
     ]
    },
    {
     "name": "stdout",
     "output_type": "stream",
     "text": [
      "WARNING: ignoring environment value of R_HOME\n"
     ]
    },
    {
     "name": "stdout",
     "output_type": "stream",
     "text": [
      "WARNING: ignoring environment value of R_HOME\n"
     ]
    },
    {
     "name": "stdout",
     "output_type": "stream",
     "text": [
      "WARNING: ignoring environment value of R_HOME\n"
     ]
    },
    {
     "name": "stdout",
     "output_type": "stream",
     "text": [
      "WARNING: ignoring environment value of R_HOME\n"
     ]
    },
    {
     "name": "stdout",
     "output_type": "stream",
     "text": [
      "WARNING: ignoring environment value of R_HOME\n"
     ]
    },
    {
     "name": "stdout",
     "output_type": "stream",
     "text": [
      "WARNING: ignoring environment value of R_HOME\n"
     ]
    },
    {
     "name": "stdout",
     "output_type": "stream",
     "text": [
      "WARNING: ignoring environment value of R_HOME\n"
     ]
    },
    {
     "name": "stdout",
     "output_type": "stream",
     "text": [
      "WARNING: ignoring environment value of R_HOME\n"
     ]
    },
    {
     "name": "stdout",
     "output_type": "stream",
     "text": [
      "WARNING: ignoring environment value of R_HOME\n"
     ]
    },
    {
     "name": "stdout",
     "output_type": "stream",
     "text": [
      "WARNING: ignoring environment value of R_HOME\n"
     ]
    },
    {
     "name": "stdout",
     "output_type": "stream",
     "text": [
      "WARNING: ignoring environment value of R_HOME\n"
     ]
    },
    {
     "name": "stdout",
     "output_type": "stream",
     "text": [
      "WARNING: ignoring environment value of R_HOME\n"
     ]
    },
    {
     "name": "stdout",
     "output_type": "stream",
     "text": [
      "WARNING: ignoring environment value of R_HOME\n"
     ]
    },
    {
     "name": "stdout",
     "output_type": "stream",
     "text": [
      "WARNING: ignoring environment value of R_HOME\n"
     ]
    },
    {
     "name": "stdout",
     "output_type": "stream",
     "text": [
      "WARNING: ignoring environment value of R_HOME\n"
     ]
    },
    {
     "name": "stdout",
     "output_type": "stream",
     "text": [
      "WARNING: ignoring environment value of R_HOME\n"
     ]
    },
    {
     "name": "stdout",
     "output_type": "stream",
     "text": [
      "WARNING: ignoring environment value of R_HOME\n"
     ]
    },
    {
     "name": "stdout",
     "output_type": "stream",
     "text": [
      "WARNING: ignoring environment value of R_HOME\n"
     ]
    },
    {
     "name": "stdout",
     "output_type": "stream",
     "text": [
      "WARNING: ignoring environment value of R_HOME\n"
     ]
    },
    {
     "name": "stdout",
     "output_type": "stream",
     "text": [
      "WARNING: ignoring environment value of R_HOME\n"
     ]
    },
    {
     "name": "stderr",
     "output_type": "stream",
     "text": [
      "<block>:1:39-51: info: atom does not occur in any rule head:\n",
      "  ap(0,2,#P0,s5)\n",
      "\n",
      "<block>:1:45-60: info: atom does not occur in any rule head:\n",
      "  ap(0,2,#P0,empty)\n",
      "\n",
      "<block>:1:39-51: info: atom does not occur in any rule head:\n",
      "  ap(0,2,#P0,s5)\n",
      "\n",
      "<block>:1:45-60: info: atom does not occur in any rule head:\n",
      "  ap(0,2,#P0,empty)\n",
      "\n"
     ]
    },
    {
     "name": "stderr",
     "output_type": "stream",
     "text": [
      "<block>:1:39-51: info: atom does not occur in any rule head:\n",
      "  ap(0,2,#P0,s5)\n",
      "\n",
      "<block>:1:45-60: info: atom does not occur in any rule head:\n",
      "  ap(0,2,#P0,empty)\n",
      "\n"
     ]
    },
    {
     "name": "stdout",
     "output_type": "stream",
     "text": [
      "WARNING: ignoring environment value of R_HOME\n"
     ]
    },
    {
     "name": "stdout",
     "output_type": "stream",
     "text": [
      "WARNING: ignoring environment value of R_HOME\n"
     ]
    },
    {
     "name": "stdout",
     "output_type": "stream",
     "text": [
      "WARNING: ignoring environment value of R_HOME\n"
     ]
    },
    {
     "name": "stdout",
     "output_type": "stream",
     "text": [
      "WARNING: ignoring environment value of R_HOME\n"
     ]
    },
    {
     "name": "stdout",
     "output_type": "stream",
     "text": [
      "WARNING: ignoring environment value of R_HOME\n"
     ]
    },
    {
     "name": "stdout",
     "output_type": "stream",
     "text": [
      "WARNING: ignoring environment value of R_HOME\n"
     ]
    },
    {
     "name": "stdout",
     "output_type": "stream",
     "text": [
      "WARNING: ignoring environment value of R_HOME\n"
     ]
    },
    {
     "name": "stdout",
     "output_type": "stream",
     "text": [
      "WARNING: ignoring environment value of R_HOME\n"
     ]
    },
    {
     "name": "stdout",
     "output_type": "stream",
     "text": [
      "WARNING: ignoring environment value of R_HOME\n"
     ]
    },
    {
     "name": "stdout",
     "output_type": "stream",
     "text": [
      "WARNING: ignoring environment value of R_HOME\n"
     ]
    },
    {
     "name": "stdout",
     "output_type": "stream",
     "text": [
      "WARNING: ignoring environment value of R_HOME\n"
     ]
    },
    {
     "name": "stdout",
     "output_type": "stream",
     "text": [
      "WARNING: ignoring environment value of R_HOME\n"
     ]
    },
    {
     "name": "stdout",
     "output_type": "stream",
     "text": [
      "WARNING: ignoring environment value of R_HOME\n"
     ]
    },
    {
     "name": "stdout",
     "output_type": "stream",
     "text": [
      "WARNING: ignoring environment value of R_HOME\n"
     ]
    },
    {
     "name": "stdout",
     "output_type": "stream",
     "text": [
      "WARNING: ignoring environment value of R_HOME\n"
     ]
    },
    {
     "name": "stdout",
     "output_type": "stream",
     "text": [
      "WARNING: ignoring environment value of R_HOME\n"
     ]
    },
    {
     "name": "stdout",
     "output_type": "stream",
     "text": [
      "WARNING: ignoring environment value of R_HOME\n"
     ]
    },
    {
     "name": "stdout",
     "output_type": "stream",
     "text": [
      "WARNING: ignoring environment value of R_HOME\n"
     ]
    },
    {
     "name": "stdout",
     "output_type": "stream",
     "text": [
      "WARNING: ignoring environment value of R_HOME\n"
     ]
    },
    {
     "name": "stdout",
     "output_type": "stream",
     "text": [
      "WARNING: ignoring environment value of R_HOME\n"
     ]
    },
    {
     "name": "stdout",
     "output_type": "stream",
     "text": [
      "WARNING: ignoring environment value of R_HOME\n"
     ]
    },
    {
     "name": "stdout",
     "output_type": "stream",
     "text": [
      "WARNING: ignoring environment value of R_HOME\n"
     ]
    },
    {
     "name": "stdout",
     "output_type": "stream",
     "text": [
      "WARNING: ignoring environment value of R_HOME\n"
     ]
    },
    {
     "name": "stdout",
     "output_type": "stream",
     "text": [
      "WARNING: ignoring environment value of R_HOME\n"
     ]
    },
    {
     "name": "stdout",
     "output_type": "stream",
     "text": [
      "WARNING: ignoring environment value of R_HOME\n"
     ]
    },
    {
     "name": "stdout",
     "output_type": "stream",
     "text": [
      "WARNING: ignoring environment value of R_HOME\n"
     ]
    },
    {
     "name": "stdout",
     "output_type": "stream",
     "text": [
      "WARNING: ignoring environment value of R_HOME\n"
     ]
    },
    {
     "name": "stdout",
     "output_type": "stream",
     "text": [
      "WARNING: ignoring environment value of R_HOME\n"
     ]
    },
    {
     "name": "stdout",
     "output_type": "stream",
     "text": [
      "WARNING: ignoring environment value of R_HOME\n"
     ]
    },
    {
     "name": "stdout",
     "output_type": "stream",
     "text": [
      "WARNING: ignoring environment value of R_HOME\n"
     ]
    },
    {
     "name": "stdout",
     "output_type": "stream",
     "text": [
      "WARNING: ignoring environment value of R_HOME\n"
     ]
    },
    {
     "name": "stdout",
     "output_type": "stream",
     "text": [
      "WARNING: ignoring environment value of R_HOME\n"
     ]
    },
    {
     "name": "stdout",
     "output_type": "stream",
     "text": [
      "WARNING: ignoring environment value of R_HOME\n"
     ]
    },
    {
     "name": "stdout",
     "output_type": "stream",
     "text": [
      "WARNING: ignoring environment value of R_HOME\n"
     ]
    },
    {
     "name": "stdout",
     "output_type": "stream",
     "text": [
      "WARNING: ignoring environment value of R_HOME\n"
     ]
    },
    {
     "name": "stdout",
     "output_type": "stream",
     "text": [
      "WARNING: ignoring environment value of R_HOME\n"
     ]
    },
    {
     "name": "stdout",
     "output_type": "stream",
     "text": [
      "WARNING: ignoring environment value of R_HOME\n"
     ]
    },
    {
     "name": "stdout",
     "output_type": "stream",
     "text": [
      "WARNING: ignoring environment value of R_HOME\n"
     ]
    },
    {
     "name": "stdout",
     "output_type": "stream",
     "text": [
      "WARNING: ignoring environment value of R_HOME\n"
     ]
    },
    {
     "name": "stdout",
     "output_type": "stream",
     "text": [
      "WARNING: ignoring environment value of R_HOME\n"
     ]
    },
    {
     "name": "stdout",
     "output_type": "stream",
     "text": [
      "WARNING: ignoring environment value of R_HOME\n"
     ]
    },
    {
     "name": "stdout",
     "output_type": "stream",
     "text": [
      "WARNING: ignoring environment value of R_HOME\n"
     ]
    },
    {
     "name": "stdout",
     "output_type": "stream",
     "text": [
      "WARNING: ignoring environment value of R_HOME\n"
     ]
    },
    {
     "name": "stdout",
     "output_type": "stream",
     "text": [
      "WARNING: ignoring environment value of R_HOME\n"
     ]
    },
    {
     "name": "stdout",
     "output_type": "stream",
     "text": [
      "WARNING: ignoring environment value of R_HOME\n"
     ]
    },
    {
     "name": "stdout",
     "output_type": "stream",
     "text": [
      "WARNING: ignoring environment value of R_HOME\n"
     ]
    },
    {
     "name": "stdout",
     "output_type": "stream",
     "text": [
      "WARNING: ignoring environment value of R_HOME\n"
     ]
    },
    {
     "name": "stdout",
     "output_type": "stream",
     "text": [
      "WARNING: ignoring environment value of R_HOME\n"
     ]
    },
    {
     "name": "stdout",
     "output_type": "stream",
     "text": [
      "WARNING: ignoring environment value of R_HOME\n"
     ]
    },
    {
     "name": "stdout",
     "output_type": "stream",
     "text": [
      "WARNING: ignoring environment value of R_HOME\n"
     ]
    },
    {
     "name": "stdout",
     "output_type": "stream",
     "text": [
      "WARNING: ignoring environment value of R_HOME\n"
     ]
    },
    {
     "name": "stdout",
     "output_type": "stream",
     "text": [
      "WARNING: ignoring environment value of R_HOME\n"
     ]
    },
    {
     "name": "stdout",
     "output_type": "stream",
     "text": [
      "WARNING: ignoring environment value of R_HOME\n"
     ]
    },
    {
     "name": "stdout",
     "output_type": "stream",
     "text": [
      "WARNING: ignoring environment value of R_HOME\n"
     ]
    },
    {
     "name": "stdout",
     "output_type": "stream",
     "text": [
      "WARNING: ignoring environment value of R_HOME\n"
     ]
    },
    {
     "name": "stdout",
     "output_type": "stream",
     "text": [
      "WARNING: ignoring environment value of R_HOME\n"
     ]
    },
    {
     "name": "stdout",
     "output_type": "stream",
     "text": [
      "WARNING: ignoring environment value of R_HOME\n"
     ]
    },
    {
     "name": "stdout",
     "output_type": "stream",
     "text": [
      "WARNING: ignoring environment value of R_HOME\n"
     ]
    },
    {
     "name": "stdout",
     "output_type": "stream",
     "text": [
      "WARNING: ignoring environment value of R_HOME\n"
     ]
    },
    {
     "name": "stdout",
     "output_type": "stream",
     "text": [
      "WARNING: ignoring environment value of R_HOME\n"
     ]
    },
    {
     "name": "stdout",
     "output_type": "stream",
     "text": [
      "WARNING: ignoring environment value of R_HOME\n"
     ]
    },
    {
     "name": "stdout",
     "output_type": "stream",
     "text": [
      "WARNING: ignoring environment value of R_HOME\n"
     ]
    },
    {
     "name": "stdout",
     "output_type": "stream",
     "text": [
      "WARNING: ignoring environment value of R_HOME\n"
     ]
    },
    {
     "name": "stdout",
     "output_type": "stream",
     "text": [
      "WARNING: ignoring environment value of R_HOME\n"
     ]
    },
    {
     "name": "stdout",
     "output_type": "stream",
     "text": [
      "WARNING: ignoring environment value of R_HOME\n"
     ]
    },
    {
     "name": "stdout",
     "output_type": "stream",
     "text": [
      "WARNING: ignoring environment value of R_HOME\n"
     ]
    },
    {
     "name": "stdout",
     "output_type": "stream",
     "text": [
      "WARNING: ignoring environment value of R_HOME\n"
     ]
    },
    {
     "name": "stdout",
     "output_type": "stream",
     "text": [
      "WARNING: ignoring environment value of R_HOME\n"
     ]
    },
    {
     "name": "stdout",
     "output_type": "stream",
     "text": [
      "WARNING: ignoring environment value of R_HOME\n"
     ]
    },
    {
     "name": "stdout",
     "output_type": "stream",
     "text": [
      "WARNING: ignoring environment value of R_HOME\n"
     ]
    },
    {
     "name": "stdout",
     "output_type": "stream",
     "text": [
      "WARNING: ignoring environment value of R_HOME\n"
     ]
    },
    {
     "name": "stdout",
     "output_type": "stream",
     "text": [
      "WARNING: ignoring environment value of R_HOME\n"
     ]
    },
    {
     "name": "stdout",
     "output_type": "stream",
     "text": [
      "WARNING: ignoring environment value of R_HOME\n"
     ]
    },
    {
     "name": "stdout",
     "output_type": "stream",
     "text": [
      "WARNING: ignoring environment value of R_HOME\n"
     ]
    },
    {
     "name": "stdout",
     "output_type": "stream",
     "text": [
      "WARNING: ignoring environment value of R_HOME\n"
     ]
    },
    {
     "name": "stdout",
     "output_type": "stream",
     "text": [
      "WARNING: ignoring environment value of R_HOME\n"
     ]
    },
    {
     "name": "stdout",
     "output_type": "stream",
     "text": [
      "WARNING: ignoring environment value of R_HOME\n"
     ]
    },
    {
     "name": "stdout",
     "output_type": "stream",
     "text": [
      "WARNING: ignoring environment value of R_HOME\n"
     ]
    },
    {
     "name": "stdout",
     "output_type": "stream",
     "text": [
      "WARNING: ignoring environment value of R_HOME\n"
     ]
    },
    {
     "name": "stdout",
     "output_type": "stream",
     "text": [
      "WARNING: ignoring environment value of R_HOME\n"
     ]
    },
    {
     "name": "stdout",
     "output_type": "stream",
     "text": [
      "WARNING: ignoring environment value of R_HOME\n"
     ]
    },
    {
     "name": "stdout",
     "output_type": "stream",
     "text": [
      "WARNING: ignoring environment value of R_HOME\n"
     ]
    },
    {
     "name": "stdout",
     "output_type": "stream",
     "text": [
      "WARNING: ignoring environment value of R_HOME\n"
     ]
    },
    {
     "name": "stdout",
     "output_type": "stream",
     "text": [
      "WARNING: ignoring environment value of R_HOME\n"
     ]
    },
    {
     "name": "stdout",
     "output_type": "stream",
     "text": [
      "WARNING: ignoring environment value of R_HOME\n"
     ]
    },
    {
     "name": "stdout",
     "output_type": "stream",
     "text": [
      "WARNING: ignoring environment value of R_HOME\n"
     ]
    },
    {
     "name": "stdout",
     "output_type": "stream",
     "text": [
      "WARNING: ignoring environment value of R_HOME\n"
     ]
    },
    {
     "name": "stdout",
     "output_type": "stream",
     "text": [
      "WARNING: ignoring environment value of R_HOME\n"
     ]
    },
    {
     "name": "stdout",
     "output_type": "stream",
     "text": [
      "WARNING: ignoring environment value of R_HOME\n"
     ]
    },
    {
     "name": "stdout",
     "output_type": "stream",
     "text": [
      "WARNING: ignoring environment value of R_HOME\n"
     ]
    },
    {
     "name": "stdout",
     "output_type": "stream",
     "text": [
      "WARNING: ignoring environment value of R_HOME\n"
     ]
    },
    {
     "name": "stdout",
     "output_type": "stream",
     "text": [
      "WARNING: ignoring environment value of R_HOME\n"
     ]
    },
    {
     "name": "stdout",
     "output_type": "stream",
     "text": [
      "WARNING: ignoring environment value of R_HOME\n"
     ]
    },
    {
     "name": "stdout",
     "output_type": "stream",
     "text": [
      "WARNING: ignoring environment value of R_HOME\n"
     ]
    },
    {
     "name": "stdout",
     "output_type": "stream",
     "text": [
      "WARNING: ignoring environment value of R_HOME\n"
     ]
    },
    {
     "name": "stdout",
     "output_type": "stream",
     "text": [
      "WARNING: ignoring environment value of R_HOME\n"
     ]
    },
    {
     "name": "stdout",
     "output_type": "stream",
     "text": [
      "WARNING: ignoring environment value of R_HOME\n"
     ]
    },
    {
     "name": "stdout",
     "output_type": "stream",
     "text": [
      "WARNING: ignoring environment value of R_HOME\n"
     ]
    },
    {
     "name": "stdout",
     "output_type": "stream",
     "text": [
      "WARNING: ignoring environment value of R_HOME\n"
     ]
    },
    {
     "name": "stdout",
     "output_type": "stream",
     "text": [
      "WARNING: ignoring environment value of R_HOME\n"
     ]
    },
    {
     "name": "stdout",
     "output_type": "stream",
     "text": [
      "WARNING: ignoring environment value of R_HOME\n"
     ]
    },
    {
     "name": "stdout",
     "output_type": "stream",
     "text": [
      "WARNING: ignoring environment value of R_HOME\n"
     ]
    },
    {
     "name": "stdout",
     "output_type": "stream",
     "text": [
      "WARNING: ignoring environment value of R_HOME\n"
     ]
    },
    {
     "name": "stdout",
     "output_type": "stream",
     "text": [
      "WARNING: ignoring environment value of R_HOME\n"
     ]
    },
    {
     "name": "stdout",
     "output_type": "stream",
     "text": [
      "WARNING: ignoring environment value of R_HOME\n"
     ]
    },
    {
     "name": "stdout",
     "output_type": "stream",
     "text": [
      "WARNING: ignoring environment value of R_HOME\n"
     ]
    },
    {
     "name": "stdout",
     "output_type": "stream",
     "text": [
      "WARNING: ignoring environment value of R_HOME\n"
     ]
    },
    {
     "name": "stdout",
     "output_type": "stream",
     "text": [
      "WARNING: ignoring environment value of R_HOME\n"
     ]
    },
    {
     "name": "stdout",
     "output_type": "stream",
     "text": [
      "WARNING: ignoring environment value of R_HOME\n"
     ]
    },
    {
     "name": "stdout",
     "output_type": "stream",
     "text": [
      "WARNING: ignoring environment value of R_HOME\n"
     ]
    },
    {
     "name": "stdout",
     "output_type": "stream",
     "text": [
      "WARNING: ignoring environment value of R_HOME\n"
     ]
    },
    {
     "name": "stdout",
     "output_type": "stream",
     "text": [
      "WARNING: ignoring environment value of R_HOME\n"
     ]
    },
    {
     "name": "stdout",
     "output_type": "stream",
     "text": [
      "WARNING: ignoring environment value of R_HOME\n"
     ]
    },
    {
     "name": "stdout",
     "output_type": "stream",
     "text": [
      "WARNING: ignoring environment value of R_HOME\n"
     ]
    },
    {
     "name": "stdout",
     "output_type": "stream",
     "text": [
      "WARNING: ignoring environment value of R_HOME\n"
     ]
    },
    {
     "name": "stdout",
     "output_type": "stream",
     "text": [
      "WARNING: ignoring environment value of R_HOME\n"
     ]
    },
    {
     "name": "stdout",
     "output_type": "stream",
     "text": [
      "WARNING: ignoring environment value of R_HOME\n"
     ]
    },
    {
     "name": "stdout",
     "output_type": "stream",
     "text": [
      "WARNING: ignoring environment value of R_HOME\n"
     ]
    },
    {
     "name": "stdout",
     "output_type": "stream",
     "text": [
      "WARNING: ignoring environment value of R_HOME\n"
     ]
    },
    {
     "name": "stdout",
     "output_type": "stream",
     "text": [
      "WARNING: ignoring environment value of R_HOME\n"
     ]
    },
    {
     "name": "stdout",
     "output_type": "stream",
     "text": [
      "WARNING: ignoring environment value of R_HOME\n"
     ]
    },
    {
     "name": "stdout",
     "output_type": "stream",
     "text": [
      "WARNING: ignoring environment value of R_HOME\n"
     ]
    },
    {
     "name": "stdout",
     "output_type": "stream",
     "text": [
      "WARNING: ignoring environment value of R_HOME\n"
     ]
    },
    {
     "name": "stdout",
     "output_type": "stream",
     "text": [
      "WARNING: ignoring environment value of R_HOME\n"
     ]
    },
    {
     "name": "stdout",
     "output_type": "stream",
     "text": [
      "WARNING: ignoring environment value of R_HOME\n"
     ]
    },
    {
     "name": "stdout",
     "output_type": "stream",
     "text": [
      "WARNING: ignoring environment value of R_HOME\n"
     ]
    },
    {
     "name": "stdout",
     "output_type": "stream",
     "text": [
      "WARNING: ignoring environment value of R_HOME\n"
     ]
    },
    {
     "name": "stdout",
     "output_type": "stream",
     "text": [
      "WARNING: ignoring environment value of R_HOME\n"
     ]
    },
    {
     "name": "stdout",
     "output_type": "stream",
     "text": [
      "WARNING: ignoring environment value of R_HOME\n"
     ]
    },
    {
     "name": "stdout",
     "output_type": "stream",
     "text": [
      "WARNING: ignoring environment value of R_HOME\n"
     ]
    },
    {
     "name": "stdout",
     "output_type": "stream",
     "text": [
      "WARNING: ignoring environment value of R_HOME\n"
     ]
    },
    {
     "name": "stdout",
     "output_type": "stream",
     "text": [
      "WARNING: ignoring environment value of R_HOME\n"
     ]
    },
    {
     "name": "stdout",
     "output_type": "stream",
     "text": [
      "WARNING: ignoring environment value of R_HOME\n"
     ]
    },
    {
     "name": "stdout",
     "output_type": "stream",
     "text": [
      "WARNING: ignoring environment value of R_HOME\n"
     ]
    },
    {
     "name": "stdout",
     "output_type": "stream",
     "text": [
      "WARNING: ignoring environment value of R_HOME\n"
     ]
    },
    {
     "name": "stdout",
     "output_type": "stream",
     "text": [
      "WARNING: ignoring environment value of R_HOME\n"
     ]
    },
    {
     "name": "stdout",
     "output_type": "stream",
     "text": [
      "WARNING: ignoring environment value of R_HOME\n"
     ]
    },
    {
     "name": "stdout",
     "output_type": "stream",
     "text": [
      "WARNING: ignoring environment value of R_HOME\n"
     ]
    },
    {
     "name": "stdout",
     "output_type": "stream",
     "text": [
      "WARNING: ignoring environment value of R_HOME\n"
     ]
    },
    {
     "name": "stdout",
     "output_type": "stream",
     "text": [
      "WARNING: ignoring environment value of R_HOME\n"
     ]
    },
    {
     "name": "stdout",
     "output_type": "stream",
     "text": [
      "WARNING: ignoring environment value of R_HOME\n"
     ]
    },
    {
     "name": "stdout",
     "output_type": "stream",
     "text": [
      "WARNING: ignoring environment value of R_HOME\n"
     ]
    },
    {
     "name": "stdout",
     "output_type": "stream",
     "text": [
      "WARNING: ignoring environment value of R_HOME\n"
     ]
    },
    {
     "name": "stdout",
     "output_type": "stream",
     "text": [
      "WARNING: ignoring environment value of R_HOME\n"
     ]
    },
    {
     "name": "stdout",
     "output_type": "stream",
     "text": [
      "WARNING: ignoring environment value of R_HOME\n"
     ]
    },
    {
     "name": "stdout",
     "output_type": "stream",
     "text": [
      "WARNING: ignoring environment value of R_HOME\n"
     ]
    },
    {
     "name": "stdout",
     "output_type": "stream",
     "text": [
      "WARNING: ignoring environment value of R_HOME\n"
     ]
    },
    {
     "name": "stdout",
     "output_type": "stream",
     "text": [
      "WARNING: ignoring environment value of R_HOME\n"
     ]
    },
    {
     "name": "stdout",
     "output_type": "stream",
     "text": [
      "WARNING: ignoring environment value of R_HOME\n"
     ]
    },
    {
     "name": "stdout",
     "output_type": "stream",
     "text": [
      "WARNING: ignoring environment value of R_HOME\n"
     ]
    },
    {
     "name": "stdout",
     "output_type": "stream",
     "text": [
      "WARNING: ignoring environment value of R_HOME\n"
     ]
    },
    {
     "name": "stdout",
     "output_type": "stream",
     "text": [
      "WARNING: ignoring environment value of R_HOME\n"
     ]
    },
    {
     "name": "stdout",
     "output_type": "stream",
     "text": [
      "WARNING: ignoring environment value of R_HOME\n"
     ]
    },
    {
     "name": "stdout",
     "output_type": "stream",
     "text": [
      "WARNING: ignoring environment value of R_HOME\n"
     ]
    },
    {
     "name": "stdout",
     "output_type": "stream",
     "text": [
      "WARNING: ignoring environment value of R_HOME\n"
     ]
    },
    {
     "name": "stdout",
     "output_type": "stream",
     "text": [
      "WARNING: ignoring environment value of R_HOME\n"
     ]
    },
    {
     "name": "stdout",
     "output_type": "stream",
     "text": [
      "WARNING: ignoring environment value of R_HOME\n"
     ]
    },
    {
     "name": "stdout",
     "output_type": "stream",
     "text": [
      "WARNING: ignoring environment value of R_HOME\n"
     ]
    },
    {
     "name": "stdout",
     "output_type": "stream",
     "text": [
      "WARNING: ignoring environment value of R_HOME\n"
     ]
    },
    {
     "name": "stdout",
     "output_type": "stream",
     "text": [
      "WARNING: ignoring environment value of R_HOME\n"
     ]
    },
    {
     "name": "stdout",
     "output_type": "stream",
     "text": [
      "WARNING: ignoring environment value of R_HOME\n"
     ]
    },
    {
     "name": "stdout",
     "output_type": "stream",
     "text": [
      "WARNING: ignoring environment value of R_HOME\n"
     ]
    },
    {
     "name": "stdout",
     "output_type": "stream",
     "text": [
      "WARNING: ignoring environment value of R_HOME\n"
     ]
    },
    {
     "name": "stdout",
     "output_type": "stream",
     "text": [
      "WARNING: ignoring environment value of R_HOME\n"
     ]
    },
    {
     "name": "stdout",
     "output_type": "stream",
     "text": [
      "WARNING: ignoring environment value of R_HOME\n"
     ]
    },
    {
     "name": "stdout",
     "output_type": "stream",
     "text": [
      "WARNING: ignoring environment value of R_HOME\n"
     ]
    },
    {
     "name": "stdout",
     "output_type": "stream",
     "text": [
      "WARNING: ignoring environment value of R_HOME\n"
     ]
    },
    {
     "name": "stdout",
     "output_type": "stream",
     "text": [
      "WARNING: ignoring environment value of R_HOME\n"
     ]
    },
    {
     "name": "stdout",
     "output_type": "stream",
     "text": [
      "WARNING: ignoring environment value of R_HOME\n"
     ]
    },
    {
     "name": "stdout",
     "output_type": "stream",
     "text": [
      "WARNING: ignoring environment value of R_HOME\n"
     ]
    },
    {
     "name": "stdout",
     "output_type": "stream",
     "text": [
      "WARNING: ignoring environment value of R_HOME\n"
     ]
    },
    {
     "name": "stdout",
     "output_type": "stream",
     "text": [
      "WARNING: ignoring environment value of R_HOME\n"
     ]
    },
    {
     "name": "stdout",
     "output_type": "stream",
     "text": [
      "WARNING: ignoring environment value of R_HOME\n"
     ]
    },
    {
     "name": "stdout",
     "output_type": "stream",
     "text": [
      "WARNING: ignoring environment value of R_HOME\n"
     ]
    },
    {
     "name": "stdout",
     "output_type": "stream",
     "text": [
      "WARNING: ignoring environment value of R_HOME\n"
     ]
    },
    {
     "name": "stdout",
     "output_type": "stream",
     "text": [
      "WARNING: ignoring environment value of R_HOME\n"
     ]
    },
    {
     "name": "stdout",
     "output_type": "stream",
     "text": [
      "WARNING: ignoring environment value of R_HOME\n"
     ]
    },
    {
     "name": "stdout",
     "output_type": "stream",
     "text": [
      "WARNING: ignoring environment value of R_HOME\n"
     ]
    },
    {
     "name": "stdout",
     "output_type": "stream",
     "text": [
      "WARNING: ignoring environment value of R_HOME\n"
     ]
    },
    {
     "name": "stdout",
     "output_type": "stream",
     "text": [
      "WARNING: ignoring environment value of R_HOME\n"
     ]
    },
    {
     "name": "stdout",
     "output_type": "stream",
     "text": [
      "WARNING: ignoring environment value of R_HOME\n"
     ]
    },
    {
     "name": "stdout",
     "output_type": "stream",
     "text": [
      "WARNING: ignoring environment value of R_HOME\n"
     ]
    },
    {
     "name": "stdout",
     "output_type": "stream",
     "text": [
      "WARNING: ignoring environment value of R_HOME\n"
     ]
    },
    {
     "name": "stdout",
     "output_type": "stream",
     "text": [
      "WARNING: ignoring environment value of R_HOME\n"
     ]
    },
    {
     "name": "stdout",
     "output_type": "stream",
     "text": [
      "WARNING: ignoring environment value of R_HOME\n"
     ]
    },
    {
     "name": "stdout",
     "output_type": "stream",
     "text": [
      "WARNING: ignoring environment value of R_HOME\n"
     ]
    },
    {
     "name": "stdout",
     "output_type": "stream",
     "text": [
      "WARNING: ignoring environment value of R_HOME\n"
     ]
    },
    {
     "name": "stdout",
     "output_type": "stream",
     "text": [
      "WARNING: ignoring environment value of R_HOME\n"
     ]
    },
    {
     "name": "stdout",
     "output_type": "stream",
     "text": [
      "WARNING: ignoring environment value of R_HOME\n"
     ]
    },
    {
     "name": "stdout",
     "output_type": "stream",
     "text": [
      "WARNING: ignoring environment value of R_HOME\n"
     ]
    },
    {
     "name": "stdout",
     "output_type": "stream",
     "text": [
      "WARNING: ignoring environment value of R_HOME\n"
     ]
    },
    {
     "name": "stdout",
     "output_type": "stream",
     "text": [
      "WARNING: ignoring environment value of R_HOME\n"
     ]
    },
    {
     "name": "stdout",
     "output_type": "stream",
     "text": [
      "WARNING: ignoring environment value of R_HOME\n"
     ]
    },
    {
     "name": "stdout",
     "output_type": "stream",
     "text": [
      "WARNING: ignoring environment value of R_HOME\n"
     ]
    },
    {
     "name": "stdout",
     "output_type": "stream",
     "text": [
      "WARNING: ignoring environment value of R_HOME\n"
     ]
    },
    {
     "name": "stdout",
     "output_type": "stream",
     "text": [
      "WARNING: ignoring environment value of R_HOME\n"
     ]
    },
    {
     "name": "stdout",
     "output_type": "stream",
     "text": [
      "WARNING: ignoring environment value of R_HOME\n"
     ]
    },
    {
     "name": "stdout",
     "output_type": "stream",
     "text": [
      "WARNING: ignoring environment value of R_HOME\n"
     ]
    },
    {
     "name": "stdout",
     "output_type": "stream",
     "text": [
      "WARNING: ignoring environment value of R_HOME\n"
     ]
    },
    {
     "name": "stdout",
     "output_type": "stream",
     "text": [
      "WARNING: ignoring environment value of R_HOME\n"
     ]
    },
    {
     "name": "stderr",
     "output_type": "stream",
     "text": [
      "<block>:1:39-51: info: atom does not occur in any rule head:\n",
      "  ap(1,3,#P0,s7)\n",
      "\n",
      "<block>:1:45-60: info: atom does not occur in any rule head:\n",
      "  ap(1,3,#P0,empty)\n",
      "\n",
      "<block>:1:39-51: info: atom does not occur in any rule head:\n",
      "  ap(1,3,#P0,s7)\n",
      "\n",
      "<block>:1:45-60: info: atom does not occur in any rule head:\n",
      "  ap(1,3,#P0,empty)\n",
      "\n"
     ]
    },
    {
     "name": "stderr",
     "output_type": "stream",
     "text": [
      "<block>:1:39-51: info: atom does not occur in any rule head:\n",
      "  ap(1,3,#P0,s7)\n",
      "\n",
      "<block>:1:45-60: info: atom does not occur in any rule head:\n",
      "  ap(1,3,#P0,empty)\n",
      "\n",
      "<block>:1:39-51: info: atom does not occur in any rule head:\n",
      "  ap(1,3,#P0,s7)\n",
      "\n",
      "<block>:1:45-60: info: atom does not occur in any rule head:\n",
      "  ap(1,3,#P0,empty)\n",
      "\n"
     ]
    },
    {
     "name": "stderr",
     "output_type": "stream",
     "text": [
      "<block>:1:39-51: info: atom does not occur in any rule head:\n",
      "  ap(0,6,#P0,s2)\n",
      "\n",
      "<block>:1:45-60: info: atom does not occur in any rule head:\n",
      "  ap(0,6,#P0,empty)\n",
      "\n"
     ]
    },
    {
     "name": "stderr",
     "output_type": "stream",
     "text": [
      "<block>:1:39-51: info: atom does not occur in any rule head:\n",
      "  ap(0,6,#P0,s2)\n",
      "\n",
      "<block>:1:45-60: info: atom does not occur in any rule head:\n",
      "  ap(0,6,#P0,empty)\n",
      "\n"
     ]
    },
    {
     "name": "stderr",
     "output_type": "stream",
     "text": [
      "<block>:1:39-51: info: atom does not occur in any rule head:\n",
      "  ap(1,3,#P0,s7)\n",
      "\n",
      "<block>:1:45-60: info: atom does not occur in any rule head:\n",
      "  ap(1,3,#P0,empty)\n",
      "\n"
     ]
    },
    {
     "name": "stderr",
     "output_type": "stream",
     "text": [
      "<block>:1:39-51: info: atom does not occur in any rule head:\n",
      "  ap(1,3,#P0,s7)\n",
      "\n",
      "<block>:1:45-60: info: atom does not occur in any rule head:\n",
      "  ap(1,3,#P0,empty)\n",
      "\n"
     ]
    },
    {
     "name": "stderr",
     "output_type": "stream",
     "text": [
      "<block>:1:39-51: info: atom does not occur in any rule head:\n",
      "  ap(1,3,#P0,s6)\n",
      "\n",
      "<block>:1:45-60: info: atom does not occur in any rule head:\n",
      "  ap(1,3,#P0,empty)\n",
      "\n"
     ]
    },
    {
     "name": "stderr",
     "output_type": "stream",
     "text": [
      "<block>:1:39-51: info: atom does not occur in any rule head:\n",
      "  ap(1,3,#P0,s6)\n",
      "\n",
      "<block>:1:45-60: info: atom does not occur in any rule head:\n",
      "  ap(1,3,#P0,empty)\n",
      "\n"
     ]
    },
    {
     "name": "stderr",
     "output_type": "stream",
     "text": [
      "<block>:1:39-51: info: atom does not occur in any rule head:\n",
      "  ap(1,3,#P0,s0)\n",
      "\n",
      "<block>:1:45-60: info: atom does not occur in any rule head:\n",
      "  ap(1,3,#P0,empty)\n",
      "\n"
     ]
    },
    {
     "name": "stderr",
     "output_type": "stream",
     "text": [
      "<block>:1:39-51: info: atom does not occur in any rule head:\n",
      "  ap(1,3,#P0,s0)\n",
      "\n",
      "<block>:1:45-60: info: atom does not occur in any rule head:\n",
      "  ap(1,3,#P0,empty)\n",
      "\n"
     ]
    },
    {
     "name": "stderr",
     "output_type": "stream",
     "text": [
      "<block>:1:39-51: info: atom does not occur in any rule head:\n",
      "  ap(0,1,#P0,s6)\n",
      "\n",
      "<block>:1:45-60: info: atom does not occur in any rule head:\n",
      "  ap(0,1,#P0,empty)\n",
      "\n"
     ]
    },
    {
     "name": "stderr",
     "output_type": "stream",
     "text": [
      "<block>:1:39-51: info: atom does not occur in any rule head:\n",
      "  ap(0,1,#P0,s6)\n",
      "\n",
      "<block>:1:45-60: info: atom does not occur in any rule head:\n",
      "  ap(0,1,#P0,empty)\n",
      "\n"
     ]
    },
    {
     "name": "stderr",
     "output_type": "stream",
     "text": [
      "<block>:1:39-51: info: atom does not occur in any rule head:\n",
      "  ap(1,4,#P0,s6)\n",
      "\n",
      "<block>:1:45-60: info: atom does not occur in any rule head:\n",
      "  ap(1,4,#P0,empty)\n",
      "\n"
     ]
    },
    {
     "name": "stderr",
     "output_type": "stream",
     "text": [
      "<block>:1:39-51: info: atom does not occur in any rule head:\n",
      "  ap(1,4,#P0,s6)\n",
      "\n",
      "<block>:1:45-60: info: atom does not occur in any rule head:\n",
      "  ap(1,4,#P0,empty)\n",
      "\n"
     ]
    },
    {
     "name": "stderr",
     "output_type": "stream",
     "text": [
      "<block>:1:39-51: info: atom does not occur in any rule head:\n",
      "  ap(1,3,#P0,s7)\n",
      "\n",
      "<block>:1:45-60: info: atom does not occur in any rule head:\n",
      "  ap(1,3,#P0,empty)\n",
      "\n",
      "<block>:1:39-51: info: atom does not occur in any rule head:\n",
      "  ap(1,3,#P0,s7)\n",
      "\n",
      "<block>:1:45-60: info: atom does not occur in any rule head:\n",
      "  ap(1,3,#P0,empty)\n",
      "\n"
     ]
    },
    {
     "name": "stderr",
     "output_type": "stream",
     "text": [
      "<block>:1:39-51: info: atom does not occur in any rule head:\n",
      "  ap(1,3,#P0,s7)\n",
      "\n",
      "<block>:1:45-60: info: atom does not occur in any rule head:\n",
      "  ap(1,3,#P0,empty)\n",
      "\n"
     ]
    },
    {
     "name": "stderr",
     "output_type": "stream",
     "text": [
      "<block>:1:39-51: info: atom does not occur in any rule head:\n",
      "  ap(1,3,#P0,s7)\n",
      "\n",
      "<block>:1:45-60: info: atom does not occur in any rule head:\n",
      "  ap(1,3,#P0,empty)\n",
      "\n"
     ]
    },
    {
     "name": "stderr",
     "output_type": "stream",
     "text": [
      "<block>:1:39-51: info: atom does not occur in any rule head:\n",
      "  ap(1,3,#P0,s7)\n",
      "\n",
      "<block>:1:45-60: info: atom does not occur in any rule head:\n",
      "  ap(1,3,#P0,empty)\n",
      "\n"
     ]
    },
    {
     "name": "stderr",
     "output_type": "stream",
     "text": [
      "<block>:1:39-51: info: atom does not occur in any rule head:\n",
      "  ap(1,3,#P0,s5)\n",
      "\n",
      "<block>:1:45-60: info: atom does not occur in any rule head:\n",
      "  ap(1,3,#P0,empty)\n",
      "\n"
     ]
    },
    {
     "name": "stderr",
     "output_type": "stream",
     "text": [
      "<block>:1:39-51: info: atom does not occur in any rule head:\n",
      "  ap(1,3,#P0,s5)\n",
      "\n",
      "<block>:1:45-60: info: atom does not occur in any rule head:\n",
      "  ap(1,3,#P0,empty)\n",
      "\n"
     ]
    },
    {
     "name": "stderr",
     "output_type": "stream",
     "text": [
      "<block>:1:39-51: info: atom does not occur in any rule head:\n",
      "  ap(4,6,#P0,s2)\n",
      "\n",
      "<block>:1:45-60: info: atom does not occur in any rule head:\n",
      "  ap(4,6,#P0,empty)\n",
      "\n"
     ]
    },
    {
     "name": "stderr",
     "output_type": "stream",
     "text": [
      "<block>:1:39-51: info: atom does not occur in any rule head:\n",
      "  ap(4,6,#P0,s2)\n",
      "\n",
      "<block>:1:45-60: info: atom does not occur in any rule head:\n",
      "  ap(4,6,#P0,empty)\n",
      "\n"
     ]
    },
    {
     "name": "stderr",
     "output_type": "stream",
     "text": [
      "<block>:1:39-51: info: atom does not occur in any rule head:\n",
      "  ap(0,1,#P0,s6)\n",
      "\n",
      "<block>:1:45-60: info: atom does not occur in any rule head:\n",
      "  ap(0,1,#P0,empty)\n",
      "\n"
     ]
    },
    {
     "name": "stderr",
     "output_type": "stream",
     "text": [
      "<block>:1:39-51: info: atom does not occur in any rule head:\n",
      "  ap(0,1,#P0,s6)\n",
      "\n",
      "<block>:1:45-60: info: atom does not occur in any rule head:\n",
      "  ap(0,1,#P0,empty)\n",
      "\n"
     ]
    },
    {
     "name": "stdout",
     "output_type": "stream",
     "text": [
      "WARNING: ignoring environment value of R_HOME\n"
     ]
    },
    {
     "name": "stdout",
     "output_type": "stream",
     "text": [
      "WARNING: ignoring environment value of R_HOME\n"
     ]
    },
    {
     "name": "stdout",
     "output_type": "stream",
     "text": [
      "WARNING: ignoring environment value of R_HOME\n"
     ]
    },
    {
     "name": "stdout",
     "output_type": "stream",
     "text": [
      "WARNING: ignoring environment value of R_HOME\n"
     ]
    },
    {
     "name": "stdout",
     "output_type": "stream",
     "text": [
      "WARNING: ignoring environment value of R_HOME\n"
     ]
    },
    {
     "name": "stdout",
     "output_type": "stream",
     "text": [
      "WARNING: ignoring environment value of R_HOME\n"
     ]
    },
    {
     "name": "stdout",
     "output_type": "stream",
     "text": [
      "WARNING: ignoring environment value of R_HOME\n"
     ]
    },
    {
     "name": "stdout",
     "output_type": "stream",
     "text": [
      "WARNING: ignoring environment value of R_HOME\n"
     ]
    },
    {
     "name": "stdout",
     "output_type": "stream",
     "text": [
      "WARNING: ignoring environment value of R_HOME\n"
     ]
    },
    {
     "name": "stdout",
     "output_type": "stream",
     "text": [
      "WARNING: ignoring environment value of R_HOME\n"
     ]
    },
    {
     "name": "stdout",
     "output_type": "stream",
     "text": [
      "WARNING: ignoring environment value of R_HOME\n"
     ]
    },
    {
     "name": "stdout",
     "output_type": "stream",
     "text": [
      "WARNING: ignoring environment value of R_HOME\n"
     ]
    },
    {
     "name": "stdout",
     "output_type": "stream",
     "text": [
      "WARNING: ignoring environment value of R_HOME\n"
     ]
    },
    {
     "name": "stdout",
     "output_type": "stream",
     "text": [
      "WARNING: ignoring environment value of R_HOME\n"
     ]
    },
    {
     "name": "stdout",
     "output_type": "stream",
     "text": [
      "WARNING: ignoring environment value of R_HOME\n"
     ]
    },
    {
     "name": "stdout",
     "output_type": "stream",
     "text": [
      "WARNING: ignoring environment value of R_HOME\n"
     ]
    },
    {
     "name": "stdout",
     "output_type": "stream",
     "text": [
      "WARNING: ignoring environment value of R_HOME\n"
     ]
    },
    {
     "name": "stdout",
     "output_type": "stream",
     "text": [
      "WARNING: ignoring environment value of R_HOME\n"
     ]
    },
    {
     "name": "stdout",
     "output_type": "stream",
     "text": [
      "WARNING: ignoring environment value of R_HOME\n"
     ]
    },
    {
     "name": "stdout",
     "output_type": "stream",
     "text": [
      "WARNING: ignoring environment value of R_HOME\n"
     ]
    },
    {
     "name": "stdout",
     "output_type": "stream",
     "text": [
      "WARNING: ignoring environment value of R_HOME\n"
     ]
    },
    {
     "name": "stdout",
     "output_type": "stream",
     "text": [
      "WARNING: ignoring environment value of R_HOME\n"
     ]
    },
    {
     "name": "stdout",
     "output_type": "stream",
     "text": [
      "WARNING: ignoring environment value of R_HOME\n"
     ]
    },
    {
     "name": "stdout",
     "output_type": "stream",
     "text": [
      "WARNING: ignoring environment value of R_HOME\n"
     ]
    },
    {
     "name": "stdout",
     "output_type": "stream",
     "text": [
      "WARNING: ignoring environment value of R_HOME\n"
     ]
    },
    {
     "name": "stdout",
     "output_type": "stream",
     "text": [
      "WARNING: ignoring environment value of R_HOME\n"
     ]
    },
    {
     "name": "stdout",
     "output_type": "stream",
     "text": [
      "WARNING: ignoring environment value of R_HOME\n"
     ]
    },
    {
     "name": "stdout",
     "output_type": "stream",
     "text": [
      "WARNING: ignoring environment value of R_HOME\n"
     ]
    },
    {
     "name": "stdout",
     "output_type": "stream",
     "text": [
      "WARNING: ignoring environment value of R_HOME\n"
     ]
    },
    {
     "name": "stdout",
     "output_type": "stream",
     "text": [
      "WARNING: ignoring environment value of R_HOME\n"
     ]
    },
    {
     "name": "stdout",
     "output_type": "stream",
     "text": [
      "WARNING: ignoring environment value of R_HOME\n"
     ]
    },
    {
     "name": "stdout",
     "output_type": "stream",
     "text": [
      "WARNING: ignoring environment value of R_HOME\n"
     ]
    },
    {
     "name": "stdout",
     "output_type": "stream",
     "text": [
      "WARNING: ignoring environment value of R_HOME\n"
     ]
    },
    {
     "name": "stdout",
     "output_type": "stream",
     "text": [
      "WARNING: ignoring environment value of R_HOME\n"
     ]
    },
    {
     "name": "stdout",
     "output_type": "stream",
     "text": [
      "WARNING: ignoring environment value of R_HOME\n"
     ]
    },
    {
     "name": "stdout",
     "output_type": "stream",
     "text": [
      "WARNING: ignoring environment value of R_HOME\n"
     ]
    },
    {
     "name": "stdout",
     "output_type": "stream",
     "text": [
      "WARNING: ignoring environment value of R_HOME\n"
     ]
    },
    {
     "name": "stdout",
     "output_type": "stream",
     "text": [
      "WARNING: ignoring environment value of R_HOME\n"
     ]
    },
    {
     "name": "stdout",
     "output_type": "stream",
     "text": [
      "WARNING: ignoring environment value of R_HOME\n"
     ]
    },
    {
     "name": "stdout",
     "output_type": "stream",
     "text": [
      "WARNING: ignoring environment value of R_HOME\n"
     ]
    },
    {
     "name": "stdout",
     "output_type": "stream",
     "text": [
      "WARNING: ignoring environment value of R_HOME\n"
     ]
    },
    {
     "name": "stdout",
     "output_type": "stream",
     "text": [
      "WARNING: ignoring environment value of R_HOME\n"
     ]
    },
    {
     "name": "stdout",
     "output_type": "stream",
     "text": [
      "WARNING: ignoring environment value of R_HOME\n"
     ]
    },
    {
     "name": "stdout",
     "output_type": "stream",
     "text": [
      "WARNING: ignoring environment value of R_HOME\n"
     ]
    },
    {
     "name": "stdout",
     "output_type": "stream",
     "text": [
      "WARNING: ignoring environment value of R_HOME\n"
     ]
    },
    {
     "name": "stdout",
     "output_type": "stream",
     "text": [
      "WARNING: ignoring environment value of R_HOME\n"
     ]
    },
    {
     "name": "stdout",
     "output_type": "stream",
     "text": [
      "WARNING: ignoring environment value of R_HOME\n"
     ]
    },
    {
     "name": "stdout",
     "output_type": "stream",
     "text": [
      "WARNING: ignoring environment value of R_HOME\n"
     ]
    },
    {
     "name": "stdout",
     "output_type": "stream",
     "text": [
      "WARNING: ignoring environment value of R_HOME\n"
     ]
    },
    {
     "name": "stdout",
     "output_type": "stream",
     "text": [
      "WARNING: ignoring environment value of R_HOME\n"
     ]
    },
    {
     "name": "stdout",
     "output_type": "stream",
     "text": [
      "WARNING: ignoring environment value of R_HOME\n"
     ]
    },
    {
     "name": "stdout",
     "output_type": "stream",
     "text": [
      "WARNING: ignoring environment value of R_HOME\n"
     ]
    },
    {
     "name": "stdout",
     "output_type": "stream",
     "text": [
      "WARNING: ignoring environment value of R_HOME\n"
     ]
    },
    {
     "name": "stdout",
     "output_type": "stream",
     "text": [
      "WARNING: ignoring environment value of R_HOME\n"
     ]
    },
    {
     "name": "stdout",
     "output_type": "stream",
     "text": [
      "WARNING: ignoring environment value of R_HOME\n"
     ]
    },
    {
     "name": "stdout",
     "output_type": "stream",
     "text": [
      "WARNING: ignoring environment value of R_HOME\n"
     ]
    },
    {
     "name": "stdout",
     "output_type": "stream",
     "text": [
      "WARNING: ignoring environment value of R_HOME\n"
     ]
    },
    {
     "name": "stdout",
     "output_type": "stream",
     "text": [
      "WARNING: ignoring environment value of R_HOME\n"
     ]
    },
    {
     "name": "stdout",
     "output_type": "stream",
     "text": [
      "WARNING: ignoring environment value of R_HOME\n"
     ]
    },
    {
     "name": "stdout",
     "output_type": "stream",
     "text": [
      "WARNING: ignoring environment value of R_HOME\n"
     ]
    },
    {
     "name": "stdout",
     "output_type": "stream",
     "text": [
      "WARNING: ignoring environment value of R_HOME\n"
     ]
    },
    {
     "name": "stdout",
     "output_type": "stream",
     "text": [
      "WARNING: ignoring environment value of R_HOME\n"
     ]
    },
    {
     "name": "stdout",
     "output_type": "stream",
     "text": [
      "WARNING: ignoring environment value of R_HOME\n"
     ]
    },
    {
     "name": "stdout",
     "output_type": "stream",
     "text": [
      "WARNING: ignoring environment value of R_HOME\n"
     ]
    },
    {
     "name": "stdout",
     "output_type": "stream",
     "text": [
      "WARNING: ignoring environment value of R_HOME\n"
     ]
    },
    {
     "name": "stdout",
     "output_type": "stream",
     "text": [
      "WARNING: ignoring environment value of R_HOME\n"
     ]
    },
    {
     "name": "stdout",
     "output_type": "stream",
     "text": [
      "WARNING: ignoring environment value of R_HOME\n"
     ]
    },
    {
     "name": "stdout",
     "output_type": "stream",
     "text": [
      "WARNING: ignoring environment value of R_HOME\n"
     ]
    },
    {
     "name": "stdout",
     "output_type": "stream",
     "text": [
      "WARNING: ignoring environment value of R_HOME\n"
     ]
    },
    {
     "name": "stdout",
     "output_type": "stream",
     "text": [
      "WARNING: ignoring environment value of R_HOME\n"
     ]
    },
    {
     "name": "stdout",
     "output_type": "stream",
     "text": [
      "WARNING: ignoring environment value of R_HOME\n"
     ]
    },
    {
     "name": "stdout",
     "output_type": "stream",
     "text": [
      "WARNING: ignoring environment value of R_HOME\n"
     ]
    },
    {
     "name": "stdout",
     "output_type": "stream",
     "text": [
      "WARNING: ignoring environment value of R_HOME\n"
     ]
    },
    {
     "name": "stdout",
     "output_type": "stream",
     "text": [
      "WARNING: ignoring environment value of R_HOME\n"
     ]
    },
    {
     "name": "stdout",
     "output_type": "stream",
     "text": [
      "WARNING: ignoring environment value of R_HOME\n"
     ]
    },
    {
     "name": "stdout",
     "output_type": "stream",
     "text": [
      "WARNING: ignoring environment value of R_HOME\n"
     ]
    },
    {
     "name": "stdout",
     "output_type": "stream",
     "text": [
      "WARNING: ignoring environment value of R_HOME\n"
     ]
    },
    {
     "name": "stdout",
     "output_type": "stream",
     "text": [
      "WARNING: ignoring environment value of R_HOME\n"
     ]
    },
    {
     "name": "stdout",
     "output_type": "stream",
     "text": [
      "WARNING: ignoring environment value of R_HOME\n"
     ]
    },
    {
     "name": "stdout",
     "output_type": "stream",
     "text": [
      "WARNING: ignoring environment value of R_HOME\n"
     ]
    },
    {
     "name": "stdout",
     "output_type": "stream",
     "text": [
      "WARNING: ignoring environment value of R_HOME\n"
     ]
    },
    {
     "name": "stdout",
     "output_type": "stream",
     "text": [
      "WARNING: ignoring environment value of R_HOME\n"
     ]
    },
    {
     "name": "stdout",
     "output_type": "stream",
     "text": [
      "WARNING: ignoring environment value of R_HOME\n"
     ]
    },
    {
     "name": "stdout",
     "output_type": "stream",
     "text": [
      "WARNING: ignoring environment value of R_HOME\n"
     ]
    },
    {
     "name": "stdout",
     "output_type": "stream",
     "text": [
      "WARNING: ignoring environment value of R_HOME\n"
     ]
    },
    {
     "name": "stdout",
     "output_type": "stream",
     "text": [
      "WARNING: ignoring environment value of R_HOME\n"
     ]
    },
    {
     "name": "stdout",
     "output_type": "stream",
     "text": [
      "WARNING: ignoring environment value of R_HOME\n"
     ]
    },
    {
     "name": "stdout",
     "output_type": "stream",
     "text": [
      "WARNING: ignoring environment value of R_HOME\n"
     ]
    },
    {
     "name": "stdout",
     "output_type": "stream",
     "text": [
      "WARNING: ignoring environment value of R_HOME\n"
     ]
    },
    {
     "name": "stdout",
     "output_type": "stream",
     "text": [
      "WARNING: ignoring environment value of R_HOME\n"
     ]
    },
    {
     "name": "stdout",
     "output_type": "stream",
     "text": [
      "WARNING: ignoring environment value of R_HOME\n"
     ]
    },
    {
     "name": "stdout",
     "output_type": "stream",
     "text": [
      "WARNING: ignoring environment value of R_HOME\n"
     ]
    },
    {
     "name": "stdout",
     "output_type": "stream",
     "text": [
      "WARNING: ignoring environment value of R_HOME\n"
     ]
    },
    {
     "name": "stdout",
     "output_type": "stream",
     "text": [
      "WARNING: ignoring environment value of R_HOME\n"
     ]
    },
    {
     "name": "stdout",
     "output_type": "stream",
     "text": [
      "WARNING: ignoring environment value of R_HOME\n"
     ]
    },
    {
     "name": "stdout",
     "output_type": "stream",
     "text": [
      "WARNING: ignoring environment value of R_HOME\n"
     ]
    },
    {
     "name": "stdout",
     "output_type": "stream",
     "text": [
      "WARNING: ignoring environment value of R_HOME\n"
     ]
    },
    {
     "name": "stdout",
     "output_type": "stream",
     "text": [
      "WARNING: ignoring environment value of R_HOME\n"
     ]
    },
    {
     "name": "stdout",
     "output_type": "stream",
     "text": [
      "WARNING: ignoring environment value of R_HOME\n"
     ]
    },
    {
     "name": "stdout",
     "output_type": "stream",
     "text": [
      "WARNING: ignoring environment value of R_HOME\n"
     ]
    },
    {
     "name": "stdout",
     "output_type": "stream",
     "text": [
      "WARNING: ignoring environment value of R_HOME\n"
     ]
    },
    {
     "name": "stdout",
     "output_type": "stream",
     "text": [
      "WARNING: ignoring environment value of R_HOME\n"
     ]
    },
    {
     "name": "stdout",
     "output_type": "stream",
     "text": [
      "WARNING: ignoring environment value of R_HOME\n"
     ]
    },
    {
     "name": "stdout",
     "output_type": "stream",
     "text": [
      "WARNING: ignoring environment value of R_HOME\n"
     ]
    },
    {
     "name": "stdout",
     "output_type": "stream",
     "text": [
      "WARNING: ignoring environment value of R_HOME\n"
     ]
    },
    {
     "name": "stdout",
     "output_type": "stream",
     "text": [
      "WARNING: ignoring environment value of R_HOME\n"
     ]
    },
    {
     "name": "stdout",
     "output_type": "stream",
     "text": [
      "WARNING: ignoring environment value of R_HOME\n"
     ]
    },
    {
     "name": "stdout",
     "output_type": "stream",
     "text": [
      "WARNING: ignoring environment value of R_HOME\n"
     ]
    },
    {
     "name": "stdout",
     "output_type": "stream",
     "text": [
      "WARNING: ignoring environment value of R_HOME\n"
     ]
    },
    {
     "name": "stdout",
     "output_type": "stream",
     "text": [
      "WARNING: ignoring environment value of R_HOME\n"
     ]
    },
    {
     "name": "stdout",
     "output_type": "stream",
     "text": [
      "WARNING: ignoring environment value of R_HOME\n"
     ]
    },
    {
     "name": "stdout",
     "output_type": "stream",
     "text": [
      "WARNING: ignoring environment value of R_HOME\n"
     ]
    },
    {
     "name": "stdout",
     "output_type": "stream",
     "text": [
      "WARNING: ignoring environment value of R_HOME\n"
     ]
    },
    {
     "name": "stdout",
     "output_type": "stream",
     "text": [
      "WARNING: ignoring environment value of R_HOME\n"
     ]
    },
    {
     "name": "stdout",
     "output_type": "stream",
     "text": [
      "WARNING: ignoring environment value of R_HOME\n"
     ]
    },
    {
     "name": "stdout",
     "output_type": "stream",
     "text": [
      "WARNING: ignoring environment value of R_HOME\n"
     ]
    },
    {
     "name": "stdout",
     "output_type": "stream",
     "text": [
      "WARNING: ignoring environment value of R_HOME\n"
     ]
    },
    {
     "name": "stdout",
     "output_type": "stream",
     "text": [
      "WARNING: ignoring environment value of R_HOME\n"
     ]
    },
    {
     "name": "stdout",
     "output_type": "stream",
     "text": [
      "WARNING: ignoring environment value of R_HOME\n"
     ]
    },
    {
     "name": "stdout",
     "output_type": "stream",
     "text": [
      "WARNING: ignoring environment value of R_HOME\n"
     ]
    },
    {
     "name": "stdout",
     "output_type": "stream",
     "text": [
      "WARNING: ignoring environment value of R_HOME\n"
     ]
    },
    {
     "name": "stdout",
     "output_type": "stream",
     "text": [
      "WARNING: ignoring environment value of R_HOME\n"
     ]
    },
    {
     "name": "stdout",
     "output_type": "stream",
     "text": [
      "WARNING: ignoring environment value of R_HOME\n"
     ]
    },
    {
     "name": "stdout",
     "output_type": "stream",
     "text": [
      "WARNING: ignoring environment value of R_HOME\n"
     ]
    },
    {
     "name": "stdout",
     "output_type": "stream",
     "text": [
      "WARNING: ignoring environment value of R_HOME\n"
     ]
    },
    {
     "name": "stdout",
     "output_type": "stream",
     "text": [
      "WARNING: ignoring environment value of R_HOME\n"
     ]
    },
    {
     "name": "stdout",
     "output_type": "stream",
     "text": [
      "WARNING: ignoring environment value of R_HOME\n"
     ]
    },
    {
     "name": "stdout",
     "output_type": "stream",
     "text": [
      "WARNING: ignoring environment value of R_HOME\n"
     ]
    },
    {
     "name": "stdout",
     "output_type": "stream",
     "text": [
      "WARNING: ignoring environment value of R_HOME\n"
     ]
    },
    {
     "name": "stdout",
     "output_type": "stream",
     "text": [
      "WARNING: ignoring environment value of R_HOME\n"
     ]
    },
    {
     "name": "stdout",
     "output_type": "stream",
     "text": [
      "WARNING: ignoring environment value of R_HOME\n"
     ]
    },
    {
     "name": "stdout",
     "output_type": "stream",
     "text": [
      "WARNING: ignoring environment value of R_HOME\n"
     ]
    },
    {
     "name": "stdout",
     "output_type": "stream",
     "text": [
      "WARNING: ignoring environment value of R_HOME\n"
     ]
    },
    {
     "name": "stdout",
     "output_type": "stream",
     "text": [
      "WARNING: ignoring environment value of R_HOME\n"
     ]
    },
    {
     "name": "stdout",
     "output_type": "stream",
     "text": [
      "WARNING: ignoring environment value of R_HOME\n"
     ]
    },
    {
     "name": "stdout",
     "output_type": "stream",
     "text": [
      "WARNING: ignoring environment value of R_HOME\n"
     ]
    },
    {
     "name": "stdout",
     "output_type": "stream",
     "text": [
      "WARNING: ignoring environment value of R_HOME\n"
     ]
    },
    {
     "name": "stdout",
     "output_type": "stream",
     "text": [
      "WARNING: ignoring environment value of R_HOME\n"
     ]
    },
    {
     "name": "stdout",
     "output_type": "stream",
     "text": [
      "WARNING: ignoring environment value of R_HOME\n"
     ]
    },
    {
     "name": "stdout",
     "output_type": "stream",
     "text": [
      "WARNING: ignoring environment value of R_HOME\n"
     ]
    },
    {
     "name": "stdout",
     "output_type": "stream",
     "text": [
      "WARNING: ignoring environment value of R_HOME\n"
     ]
    },
    {
     "name": "stdout",
     "output_type": "stream",
     "text": [
      "WARNING: ignoring environment value of R_HOME\n"
     ]
    },
    {
     "name": "stdout",
     "output_type": "stream",
     "text": [
      "WARNING: ignoring environment value of R_HOME\n"
     ]
    },
    {
     "name": "stdout",
     "output_type": "stream",
     "text": [
      "WARNING: ignoring environment value of R_HOME\n"
     ]
    },
    {
     "name": "stdout",
     "output_type": "stream",
     "text": [
      "WARNING: ignoring environment value of R_HOME\n"
     ]
    },
    {
     "name": "stdout",
     "output_type": "stream",
     "text": [
      "WARNING: ignoring environment value of R_HOME\n"
     ]
    },
    {
     "name": "stdout",
     "output_type": "stream",
     "text": [
      "WARNING: ignoring environment value of R_HOME\n"
     ]
    },
    {
     "name": "stdout",
     "output_type": "stream",
     "text": [
      "WARNING: ignoring environment value of R_HOME\n"
     ]
    },
    {
     "name": "stdout",
     "output_type": "stream",
     "text": [
      "WARNING: ignoring environment value of R_HOME\n"
     ]
    },
    {
     "name": "stdout",
     "output_type": "stream",
     "text": [
      "WARNING: ignoring environment value of R_HOME\n"
     ]
    },
    {
     "name": "stdout",
     "output_type": "stream",
     "text": [
      "WARNING: ignoring environment value of R_HOME\n"
     ]
    },
    {
     "name": "stdout",
     "output_type": "stream",
     "text": [
      "WARNING: ignoring environment value of R_HOME\n"
     ]
    },
    {
     "name": "stdout",
     "output_type": "stream",
     "text": [
      "WARNING: ignoring environment value of R_HOME\n"
     ]
    },
    {
     "name": "stdout",
     "output_type": "stream",
     "text": [
      "WARNING: ignoring environment value of R_HOME\n"
     ]
    },
    {
     "name": "stdout",
     "output_type": "stream",
     "text": [
      "WARNING: ignoring environment value of R_HOME\n"
     ]
    },
    {
     "name": "stdout",
     "output_type": "stream",
     "text": [
      "WARNING: ignoring environment value of R_HOME\n"
     ]
    },
    {
     "name": "stdout",
     "output_type": "stream",
     "text": [
      "WARNING: ignoring environment value of R_HOME\n"
     ]
    },
    {
     "name": "stdout",
     "output_type": "stream",
     "text": [
      "WARNING: ignoring environment value of R_HOME\n"
     ]
    },
    {
     "name": "stdout",
     "output_type": "stream",
     "text": [
      "WARNING: ignoring environment value of R_HOME\n"
     ]
    },
    {
     "name": "stdout",
     "output_type": "stream",
     "text": [
      "WARNING: ignoring environment value of R_HOME\n"
     ]
    },
    {
     "name": "stdout",
     "output_type": "stream",
     "text": [
      "WARNING: ignoring environment value of R_HOME\n"
     ]
    },
    {
     "name": "stdout",
     "output_type": "stream",
     "text": [
      "WARNING: ignoring environment value of R_HOME\n"
     ]
    },
    {
     "name": "stdout",
     "output_type": "stream",
     "text": [
      "WARNING: ignoring environment value of R_HOME\n"
     ]
    },
    {
     "name": "stdout",
     "output_type": "stream",
     "text": [
      "WARNING: ignoring environment value of R_HOME\n"
     ]
    },
    {
     "name": "stdout",
     "output_type": "stream",
     "text": [
      "WARNING: ignoring environment value of R_HOME\n"
     ]
    },
    {
     "name": "stdout",
     "output_type": "stream",
     "text": [
      "WARNING: ignoring environment value of R_HOME\n"
     ]
    },
    {
     "name": "stdout",
     "output_type": "stream",
     "text": [
      "WARNING: ignoring environment value of R_HOME\n"
     ]
    },
    {
     "name": "stdout",
     "output_type": "stream",
     "text": [
      "WARNING: ignoring environment value of R_HOME\n"
     ]
    },
    {
     "name": "stdout",
     "output_type": "stream",
     "text": [
      "WARNING: ignoring environment value of R_HOME\n"
     ]
    },
    {
     "name": "stdout",
     "output_type": "stream",
     "text": [
      "WARNING: ignoring environment value of R_HOME\n"
     ]
    },
    {
     "name": "stdout",
     "output_type": "stream",
     "text": [
      "WARNING: ignoring environment value of R_HOME\n"
     ]
    },
    {
     "name": "stdout",
     "output_type": "stream",
     "text": [
      "WARNING: ignoring environment value of R_HOME\n"
     ]
    },
    {
     "name": "stdout",
     "output_type": "stream",
     "text": [
      "WARNING: ignoring environment value of R_HOME\n"
     ]
    },
    {
     "name": "stdout",
     "output_type": "stream",
     "text": [
      "WARNING: ignoring environment value of R_HOME\n"
     ]
    },
    {
     "name": "stdout",
     "output_type": "stream",
     "text": [
      "WARNING: ignoring environment value of R_HOME\n"
     ]
    },
    {
     "name": "stdout",
     "output_type": "stream",
     "text": [
      "WARNING: ignoring environment value of R_HOME\n"
     ]
    },
    {
     "name": "stdout",
     "output_type": "stream",
     "text": [
      "WARNING: ignoring environment value of R_HOME\n"
     ]
    },
    {
     "name": "stdout",
     "output_type": "stream",
     "text": [
      "WARNING: ignoring environment value of R_HOME\n"
     ]
    },
    {
     "name": "stdout",
     "output_type": "stream",
     "text": [
      "WARNING: ignoring environment value of R_HOME\n"
     ]
    },
    {
     "name": "stdout",
     "output_type": "stream",
     "text": [
      "WARNING: ignoring environment value of R_HOME\n"
     ]
    },
    {
     "name": "stdout",
     "output_type": "stream",
     "text": [
      "WARNING: ignoring environment value of R_HOME\n"
     ]
    },
    {
     "name": "stdout",
     "output_type": "stream",
     "text": [
      "WARNING: ignoring environment value of R_HOME\n"
     ]
    },
    {
     "name": "stdout",
     "output_type": "stream",
     "text": [
      "WARNING: ignoring environment value of R_HOME\n"
     ]
    },
    {
     "name": "stdout",
     "output_type": "stream",
     "text": [
      "WARNING: ignoring environment value of R_HOME\n"
     ]
    },
    {
     "name": "stdout",
     "output_type": "stream",
     "text": [
      "WARNING: ignoring environment value of R_HOME\n"
     ]
    },
    {
     "name": "stdout",
     "output_type": "stream",
     "text": [
      "WARNING: ignoring environment value of R_HOME\n"
     ]
    },
    {
     "name": "stdout",
     "output_type": "stream",
     "text": [
      "WARNING: ignoring environment value of R_HOME\n"
     ]
    },
    {
     "name": "stdout",
     "output_type": "stream",
     "text": [
      "WARNING: ignoring environment value of R_HOME\n"
     ]
    },
    {
     "name": "stdout",
     "output_type": "stream",
     "text": [
      "WARNING: ignoring environment value of R_HOME\n"
     ]
    },
    {
     "name": "stdout",
     "output_type": "stream",
     "text": [
      "WARNING: ignoring environment value of R_HOME\n"
     ]
    },
    {
     "name": "stdout",
     "output_type": "stream",
     "text": [
      "WARNING: ignoring environment value of R_HOME\n"
     ]
    },
    {
     "name": "stdout",
     "output_type": "stream",
     "text": [
      "WARNING: ignoring environment value of R_HOME\n"
     ]
    },
    {
     "name": "stdout",
     "output_type": "stream",
     "text": [
      "WARNING: ignoring environment value of R_HOME\n"
     ]
    },
    {
     "name": "stdout",
     "output_type": "stream",
     "text": [
      "WARNING: ignoring environment value of R_HOME\n"
     ]
    },
    {
     "name": "stdout",
     "output_type": "stream",
     "text": [
      "WARNING: ignoring environment value of R_HOME\n"
     ]
    },
    {
     "name": "stdout",
     "output_type": "stream",
     "text": [
      "WARNING: ignoring environment value of R_HOME\n"
     ]
    },
    {
     "name": "stdout",
     "output_type": "stream",
     "text": [
      "WARNING: ignoring environment value of R_HOME\n"
     ]
    },
    {
     "name": "stdout",
     "output_type": "stream",
     "text": [
      "WARNING: ignoring environment value of R_HOME\n"
     ]
    },
    {
     "name": "stdout",
     "output_type": "stream",
     "text": [
      "WARNING: ignoring environment value of R_HOME\n"
     ]
    },
    {
     "name": "stdout",
     "output_type": "stream",
     "text": [
      "WARNING: ignoring environment value of R_HOME\n"
     ]
    }
   ],
   "source": [
    "%%capture\n",
    "synthetic_res_df = run_experiment(\n",
    "    prior_df=synthetic_prior_df, datasets=synthetic_datasets\n",
    ")\n",
    "synthetic_res_df.to_csv(\n",
    "    \"results/2025/prior_integration_synthetic.csv\", index=False\n",
    ")"
   ]
  },
  {
   "cell_type": "code",
   "execution_count": 11,
   "id": "339e3c6c",
   "metadata": {
    "execution": {
     "iopub.execute_input": "2025-09-09T02:58:45.847764Z",
     "iopub.status.busy": "2025-09-09T02:58:45.847362Z",
     "iopub.status.idle": "2025-09-09T02:58:50.872226Z",
     "shell.execute_reply": "2025-09-09T02:58:50.871696Z"
    },
    "papermill": {
     "duration": 5.116803,
     "end_time": "2025-09-09T02:58:50.874889",
     "exception": false,
     "start_time": "2025-09-09T02:58:45.758086",
     "status": "completed"
    },
    "tags": []
   },
   "outputs": [
    {
     "data": {
      "text/html": [
       "<div>\n",
       "<style scoped>\n",
       "    .dataframe tbody tr th:only-of-type {\n",
       "        vertical-align: middle;\n",
       "    }\n",
       "\n",
       "    .dataframe tbody tr th {\n",
       "        vertical-align: top;\n",
       "    }\n",
       "\n",
       "    .dataframe thead tr th {\n",
       "        text-align: left;\n",
       "    }\n",
       "\n",
       "    .dataframe thead tr:last-of-type th {\n",
       "        text-align: right;\n",
       "    }\n",
       "</style>\n",
       "<table border=\"1\" class=\"dataframe\">\n",
       "  <thead>\n",
       "    <tr>\n",
       "      <th></th>\n",
       "      <th></th>\n",
       "      <th colspan=\"3\" halign=\"left\">meta</th>\n",
       "      <th colspan=\"2\" halign=\"left\">time</th>\n",
       "      <th colspan=\"2\" halign=\"left\">remove_n</th>\n",
       "      <th colspan=\"2\" halign=\"left\">cpdag_F1</th>\n",
       "      <th colspan=\"2\" halign=\"left\">cpdag_shd</th>\n",
       "      <th colspan=\"2\" halign=\"left\">cpdag_sid_low</th>\n",
       "      <th colspan=\"2\" halign=\"left\">cpdag_sid_high</th>\n",
       "    </tr>\n",
       "    <tr>\n",
       "      <th></th>\n",
       "      <th></th>\n",
       "      <th>num_nodes</th>\n",
       "      <th>num_edges</th>\n",
       "      <th>repeats</th>\n",
       "      <th>mean</th>\n",
       "      <th>std</th>\n",
       "      <th>mean</th>\n",
       "      <th>std</th>\n",
       "      <th>mean</th>\n",
       "      <th>std</th>\n",
       "      <th>mean</th>\n",
       "      <th>std</th>\n",
       "      <th>mean</th>\n",
       "      <th>std</th>\n",
       "      <th>mean</th>\n",
       "      <th>std</th>\n",
       "    </tr>\n",
       "    <tr>\n",
       "      <th>dataset</th>\n",
       "      <th>impl</th>\n",
       "      <th></th>\n",
       "      <th></th>\n",
       "      <th></th>\n",
       "      <th></th>\n",
       "      <th></th>\n",
       "      <th></th>\n",
       "      <th></th>\n",
       "      <th></th>\n",
       "      <th></th>\n",
       "      <th></th>\n",
       "      <th></th>\n",
       "      <th></th>\n",
       "      <th></th>\n",
       "      <th></th>\n",
       "      <th></th>\n",
       "    </tr>\n",
       "  </thead>\n",
       "  <tbody>\n",
       "    <tr>\n",
       "      <th rowspan=\"2\" valign=\"top\">clinical_variables_in_cardiovascular_and_gastrointestinal_health</th>\n",
       "      <th>new</th>\n",
       "      <td>5</td>\n",
       "      <td>4</td>\n",
       "      <td>50</td>\n",
       "      <td>0.085994</td>\n",
       "      <td>0.036612</td>\n",
       "      <td>10.34</td>\n",
       "      <td>3.788328</td>\n",
       "      <td>0.628332</td>\n",
       "      <td>0.141410</td>\n",
       "      <td>1.20</td>\n",
       "      <td>1.069045</td>\n",
       "      <td>3.88</td>\n",
       "      <td>4.008359</td>\n",
       "      <td>6.08</td>\n",
       "      <td>2.028773</td>\n",
       "    </tr>\n",
       "    <tr>\n",
       "      <th>org</th>\n",
       "      <td>5</td>\n",
       "      <td>4</td>\n",
       "      <td>50</td>\n",
       "      <td>0.079141</td>\n",
       "      <td>0.029361</td>\n",
       "      <td>9.78</td>\n",
       "      <td>3.059212</td>\n",
       "      <td>0.549415</td>\n",
       "      <td>0.192289</td>\n",
       "      <td>1.82</td>\n",
       "      <td>1.722480</td>\n",
       "      <td>3.98</td>\n",
       "      <td>3.628065</td>\n",
       "      <td>7.68</td>\n",
       "      <td>3.711208</td>\n",
       "    </tr>\n",
       "    <tr>\n",
       "      <th rowspan=\"2\" valign=\"top\">pharmacological_and_cardiac_health_dynamics</th>\n",
       "      <th>new</th>\n",
       "      <td>6</td>\n",
       "      <td>6</td>\n",
       "      <td>50</td>\n",
       "      <td>0.094437</td>\n",
       "      <td>0.083969</td>\n",
       "      <td>6.50</td>\n",
       "      <td>6.996355</td>\n",
       "      <td>0.244017</td>\n",
       "      <td>0.087804</td>\n",
       "      <td>4.78</td>\n",
       "      <td>0.763718</td>\n",
       "      <td>14.52</td>\n",
       "      <td>5.592415</td>\n",
       "      <td>21.00</td>\n",
       "      <td>2.864277</td>\n",
       "    </tr>\n",
       "    <tr>\n",
       "      <th>org</th>\n",
       "      <td>6</td>\n",
       "      <td>6</td>\n",
       "      <td>50</td>\n",
       "      <td>0.116436</td>\n",
       "      <td>0.119712</td>\n",
       "      <td>6.26</td>\n",
       "      <td>6.381766</td>\n",
       "      <td>0.245108</td>\n",
       "      <td>0.099320</td>\n",
       "      <td>5.18</td>\n",
       "      <td>1.256656</td>\n",
       "      <td>15.54</td>\n",
       "      <td>6.456163</td>\n",
       "      <td>21.30</td>\n",
       "      <td>2.970948</td>\n",
       "    </tr>\n",
       "    <tr>\n",
       "      <th rowspan=\"2\" valign=\"top\">clinical_pathways_in_cardiac_and_abdominal_health</th>\n",
       "      <th>new</th>\n",
       "      <td>7</td>\n",
       "      <td>7</td>\n",
       "      <td>50</td>\n",
       "      <td>1.458400</td>\n",
       "      <td>0.703391</td>\n",
       "      <td>31.08</td>\n",
       "      <td>10.651895</td>\n",
       "      <td>0.491781</td>\n",
       "      <td>0.134796</td>\n",
       "      <td>4.02</td>\n",
       "      <td>1.220405</td>\n",
       "      <td>15.90</td>\n",
       "      <td>8.786005</td>\n",
       "      <td>36.08</td>\n",
       "      <td>4.109918</td>\n",
       "    </tr>\n",
       "    <tr>\n",
       "      <th>org</th>\n",
       "      <td>7</td>\n",
       "      <td>7</td>\n",
       "      <td>50</td>\n",
       "      <td>2.594479</td>\n",
       "      <td>1.481721</td>\n",
       "      <td>30.54</td>\n",
       "      <td>10.363220</td>\n",
       "      <td>0.471443</td>\n",
       "      <td>0.126445</td>\n",
       "      <td>4.96</td>\n",
       "      <td>1.524762</td>\n",
       "      <td>17.04</td>\n",
       "      <td>8.088692</td>\n",
       "      <td>35.64</td>\n",
       "      <td>4.144138</td>\n",
       "    </tr>\n",
       "    <tr>\n",
       "      <th rowspan=\"2\" valign=\"top\">medical_conditions_and_outcomes</th>\n",
       "      <th>new</th>\n",
       "      <td>8</td>\n",
       "      <td>7</td>\n",
       "      <td>50</td>\n",
       "      <td>1.105311</td>\n",
       "      <td>2.001451</td>\n",
       "      <td>10.86</td>\n",
       "      <td>10.546322</td>\n",
       "      <td>0.725696</td>\n",
       "      <td>0.090942</td>\n",
       "      <td>1.92</td>\n",
       "      <td>1.536495</td>\n",
       "      <td>4.66</td>\n",
       "      <td>2.264274</td>\n",
       "      <td>20.44</td>\n",
       "      <td>2.681456</td>\n",
       "    </tr>\n",
       "    <tr>\n",
       "      <th>org</th>\n",
       "      <td>8</td>\n",
       "      <td>7</td>\n",
       "      <td>50</td>\n",
       "      <td>2.732736</td>\n",
       "      <td>5.299585</td>\n",
       "      <td>10.50</td>\n",
       "      <td>10.170486</td>\n",
       "      <td>0.711450</td>\n",
       "      <td>0.107534</td>\n",
       "      <td>2.32</td>\n",
       "      <td>1.910658</td>\n",
       "      <td>5.06</td>\n",
       "      <td>2.427815</td>\n",
       "      <td>20.52</td>\n",
       "      <td>2.943273</td>\n",
       "    </tr>\n",
       "    <tr>\n",
       "      <th rowspan=\"2\" valign=\"top\">factors_influencing_well_being_and_resources</th>\n",
       "      <th>new</th>\n",
       "      <td>9</td>\n",
       "      <td>8</td>\n",
       "      <td>50</td>\n",
       "      <td>9.930081</td>\n",
       "      <td>21.053001</td>\n",
       "      <td>17.78</td>\n",
       "      <td>14.188656</td>\n",
       "      <td>0.625020</td>\n",
       "      <td>0.086754</td>\n",
       "      <td>2.24</td>\n",
       "      <td>1.922583</td>\n",
       "      <td>5.96</td>\n",
       "      <td>2.563161</td>\n",
       "      <td>13.64</td>\n",
       "      <td>4.728377</td>\n",
       "    </tr>\n",
       "    <tr>\n",
       "      <th>org</th>\n",
       "      <td>9</td>\n",
       "      <td>8</td>\n",
       "      <td>50</td>\n",
       "      <td>109.415107</td>\n",
       "      <td>315.931122</td>\n",
       "      <td>17.74</td>\n",
       "      <td>14.147633</td>\n",
       "      <td>0.632652</td>\n",
       "      <td>0.071302</td>\n",
       "      <td>2.34</td>\n",
       "      <td>2.066348</td>\n",
       "      <td>5.96</td>\n",
       "      <td>2.474028</td>\n",
       "      <td>13.46</td>\n",
       "      <td>5.015120</td>\n",
       "    </tr>\n",
       "  </tbody>\n",
       "</table>\n",
       "</div>"
      ],
      "text/plain": [
       "                                                             meta            \\\n",
       "                                                        num_nodes num_edges   \n",
       "dataset                                            impl                       \n",
       "clinical_variables_in_cardiovascular_and_gastro... new          5         4   \n",
       "                                                   org          5         4   \n",
       "pharmacological_and_cardiac_health_dynamics        new          6         6   \n",
       "                                                   org          6         6   \n",
       "clinical_pathways_in_cardiac_and_abdominal_health  new          7         7   \n",
       "                                                   org          7         7   \n",
       "medical_conditions_and_outcomes                    new          8         7   \n",
       "                                                   org          8         7   \n",
       "factors_influencing_well_being_and_resources       new          9         8   \n",
       "                                                   org          9         8   \n",
       "\n",
       "                                                                       time  \\\n",
       "                                                        repeats        mean   \n",
       "dataset                                            impl                       \n",
       "clinical_variables_in_cardiovascular_and_gastro... new       50    0.085994   \n",
       "                                                   org       50    0.079141   \n",
       "pharmacological_and_cardiac_health_dynamics        new       50    0.094437   \n",
       "                                                   org       50    0.116436   \n",
       "clinical_pathways_in_cardiac_and_abdominal_health  new       50    1.458400   \n",
       "                                                   org       50    2.594479   \n",
       "medical_conditions_and_outcomes                    new       50    1.105311   \n",
       "                                                   org       50    2.732736   \n",
       "factors_influencing_well_being_and_resources       new       50    9.930081   \n",
       "                                                   org       50  109.415107   \n",
       "\n",
       "                                                                    remove_n  \\\n",
       "                                                                std     mean   \n",
       "dataset                                            impl                        \n",
       "clinical_variables_in_cardiovascular_and_gastro... new     0.036612    10.34   \n",
       "                                                   org     0.029361     9.78   \n",
       "pharmacological_and_cardiac_health_dynamics        new     0.083969     6.50   \n",
       "                                                   org     0.119712     6.26   \n",
       "clinical_pathways_in_cardiac_and_abdominal_health  new     0.703391    31.08   \n",
       "                                                   org     1.481721    30.54   \n",
       "medical_conditions_and_outcomes                    new     2.001451    10.86   \n",
       "                                                   org     5.299585    10.50   \n",
       "factors_influencing_well_being_and_resources       new    21.053001    17.78   \n",
       "                                                   org   315.931122    17.74   \n",
       "\n",
       "                                                                    cpdag_F1  \\\n",
       "                                                               std      mean   \n",
       "dataset                                            impl                        \n",
       "clinical_variables_in_cardiovascular_and_gastro... new    3.788328  0.628332   \n",
       "                                                   org    3.059212  0.549415   \n",
       "pharmacological_and_cardiac_health_dynamics        new    6.996355  0.244017   \n",
       "                                                   org    6.381766  0.245108   \n",
       "clinical_pathways_in_cardiac_and_abdominal_health  new   10.651895  0.491781   \n",
       "                                                   org   10.363220  0.471443   \n",
       "medical_conditions_and_outcomes                    new   10.546322  0.725696   \n",
       "                                                   org   10.170486  0.711450   \n",
       "factors_influencing_well_being_and_resources       new   14.188656  0.625020   \n",
       "                                                   org   14.147633  0.632652   \n",
       "\n",
       "                                                                  cpdag_shd  \\\n",
       "                                                              std      mean   \n",
       "dataset                                            impl                       \n",
       "clinical_variables_in_cardiovascular_and_gastro... new   0.141410      1.20   \n",
       "                                                   org   0.192289      1.82   \n",
       "pharmacological_and_cardiac_health_dynamics        new   0.087804      4.78   \n",
       "                                                   org   0.099320      5.18   \n",
       "clinical_pathways_in_cardiac_and_abdominal_health  new   0.134796      4.02   \n",
       "                                                   org   0.126445      4.96   \n",
       "medical_conditions_and_outcomes                    new   0.090942      1.92   \n",
       "                                                   org   0.107534      2.32   \n",
       "factors_influencing_well_being_and_resources       new   0.086754      2.24   \n",
       "                                                   org   0.071302      2.34   \n",
       "\n",
       "                                                                   \\\n",
       "                                                              std   \n",
       "dataset                                            impl             \n",
       "clinical_variables_in_cardiovascular_and_gastro... new   1.069045   \n",
       "                                                   org   1.722480   \n",
       "pharmacological_and_cardiac_health_dynamics        new   0.763718   \n",
       "                                                   org   1.256656   \n",
       "clinical_pathways_in_cardiac_and_abdominal_health  new   1.220405   \n",
       "                                                   org   1.524762   \n",
       "medical_conditions_and_outcomes                    new   1.536495   \n",
       "                                                   org   1.910658   \n",
       "factors_influencing_well_being_and_resources       new   1.922583   \n",
       "                                                   org   2.066348   \n",
       "\n",
       "                                                        cpdag_sid_low  \\\n",
       "                                                                 mean   \n",
       "dataset                                            impl                 \n",
       "clinical_variables_in_cardiovascular_and_gastro... new           3.88   \n",
       "                                                   org           3.98   \n",
       "pharmacological_and_cardiac_health_dynamics        new          14.52   \n",
       "                                                   org          15.54   \n",
       "clinical_pathways_in_cardiac_and_abdominal_health  new          15.90   \n",
       "                                                   org          17.04   \n",
       "medical_conditions_and_outcomes                    new           4.66   \n",
       "                                                   org           5.06   \n",
       "factors_influencing_well_being_and_resources       new           5.96   \n",
       "                                                   org           5.96   \n",
       "\n",
       "                                                                   \\\n",
       "                                                              std   \n",
       "dataset                                            impl             \n",
       "clinical_variables_in_cardiovascular_and_gastro... new   4.008359   \n",
       "                                                   org   3.628065   \n",
       "pharmacological_and_cardiac_health_dynamics        new   5.592415   \n",
       "                                                   org   6.456163   \n",
       "clinical_pathways_in_cardiac_and_abdominal_health  new   8.786005   \n",
       "                                                   org   8.088692   \n",
       "medical_conditions_and_outcomes                    new   2.264274   \n",
       "                                                   org   2.427815   \n",
       "factors_influencing_well_being_and_resources       new   2.563161   \n",
       "                                                   org   2.474028   \n",
       "\n",
       "                                                        cpdag_sid_high  \\\n",
       "                                                                  mean   \n",
       "dataset                                            impl                  \n",
       "clinical_variables_in_cardiovascular_and_gastro... new            6.08   \n",
       "                                                   org            7.68   \n",
       "pharmacological_and_cardiac_health_dynamics        new           21.00   \n",
       "                                                   org           21.30   \n",
       "clinical_pathways_in_cardiac_and_abdominal_health  new           36.08   \n",
       "                                                   org           35.64   \n",
       "medical_conditions_and_outcomes                    new           20.44   \n",
       "                                                   org           20.52   \n",
       "factors_influencing_well_being_and_resources       new           13.64   \n",
       "                                                   org           13.46   \n",
       "\n",
       "                                                                   \n",
       "                                                              std  \n",
       "dataset                                            impl            \n",
       "clinical_variables_in_cardiovascular_and_gastro... new   2.028773  \n",
       "                                                   org   3.711208  \n",
       "pharmacological_and_cardiac_health_dynamics        new   2.864277  \n",
       "                                                   org   2.970948  \n",
       "clinical_pathways_in_cardiac_and_abdominal_health  new   4.109918  \n",
       "                                                   org   4.144138  \n",
       "medical_conditions_and_outcomes                    new   2.681456  \n",
       "                                                   org   2.943273  \n",
       "factors_influencing_well_being_and_resources       new   4.728377  \n",
       "                                                   org   5.015120  "
      ]
     },
     "metadata": {},
     "output_type": "display_data"
    }
   ],
   "source": [
    "synthetic_report = show_report(synthetic_res_df)\n",
    "synthetic_report.to_csv(\"results/2025/prior_integration_synthetic_report.csv\")\n",
    "# To load the view, use\n",
    "# synthetic_report = pd.read_csv(\n",
    "#     \"results/2025/prior_integration_synthetic_report.csv\",\n",
    "#     index_col=[0, 1],\n",
    "#     header=[0, 1],\n",
    "# )\n",
    "with pd.option_context('display.max_rows', None, 'display.max_columns', None):\n",
    "    display(synthetic_report)"
   ]
  }
 ],
 "metadata": {
  "kernelspec": {
   "display_name": "ABA",
   "language": "python",
   "name": "aba"
  },
  "language_info": {
   "codemirror_mode": {
    "name": "ipython",
    "version": 3
   },
   "file_extension": ".py",
   "mimetype": "text/x-python",
   "name": "python",
   "nbconvert_exporter": "python",
   "pygments_lexer": "ipython3",
   "version": "3.12.11"
  },
  "papermill": {
   "default_parameters": {},
   "duration": 11468.401345,
   "end_time": "2025-09-09T02:58:53.865819",
   "environment_variables": {},
   "exception": null,
   "input_path": "prior_integration.ipynb",
   "output_path": "prior_integration_out.ipynb",
   "parameters": {},
   "start_time": "2025-09-08T23:47:45.464474",
   "version": "2.6.0"
  }
 },
 "nbformat": 4,
 "nbformat_minor": 5
}