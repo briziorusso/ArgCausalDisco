{
 "cells": [
  {
   "cell_type": "markdown",
   "metadata": {},
   "source": [
    "# BNLearn Results"
   ]
  },
  {
   "cell_type": "code",
   "execution_count": 1,
   "metadata": {},
   "outputs": [],
   "source": [
    "import warnings\n",
    "warnings.filterwarnings('ignore')\n",
    "\n",
    "from pathlib import Path\n",
    "import sys\n",
    "import numpy as np\n",
    "import pandas as pd\n",
    "from IPython.display import display\n",
    "\n",
    "pd.set_option('display.max_rows', 2000)\n",
    "\n",
    "REPO_ROOT = Path.cwd().resolve().parent\n",
    "sys.path.insert(0, str(REPO_ROOT))\n",
    "sys.path.insert(0, str(REPO_ROOT / 'utils'))\n",
    "\n",
    "from plotting import *\n",
    "\n",
    "save_figs = False\n",
    "debug = False\n",
    "\n",
    "RESULTS_DIR = REPO_ROOT / 'results'\n",
    "\n",
    "# Two running versions (FGS/NT and Random/MPC)\n",
    "VERSIONS = ['bnlearn_big_fgs_nt', 'bnlearn_big_rnd_mpc','bnlearn_child_base', 'bnlearn_child_base2', 'bnlearn_mpc_sachs']\n",
    "# CSV with ABAPC and ABAPC-LLM single-run results to aggregate\n",
    "CSV_ABAPC = RESULTS_DIR / 'merged_bnlearn 2.csv'\n",
    "CSV_BFS = RESULTS_DIR / 'causal-bfs-bnlearn-results 1.csv'\n",
    "\n",
    "# Display labels and styles (aligned with causenet notebook)\n",
    "names_dict = {\n",
    "    'random': 'Random',\n",
    "    'pc': 'PC',\n",
    "    'pc_max': 'Max-PC',\n",
    "    'fgs': 'FGS',\n",
    "    'spc': 'Shapley-PC',\n",
    "    'mpc': 'MPC',\n",
    "    'cpc': 'CPC',\n",
    "    'abapc': 'ABAPC',\n",
    "    'abapc_llm': 'ABAPC-LLM',\n",
    "    'cam': 'CAM',\n",
    "    'nt': 'NOTEARS-MLP',\n",
    "    'mcsl': 'MCSL-MLP',\n",
    "    'ges': 'GES',\n",
    "    'aspcr': 'ASPCR',\n",
    "    'llm_bfs': 'LLM-BFS',\n",
    "}\n",
    "\n",
    "symbols_dict = {\n",
    "    'random': 'x',\n",
    "    'pc': 'circle',\n",
    "    'pc_max': 'circle-open',\n",
    "    'fgs': 'triangle-up-dot',\n",
    "    'spc': 'hexagon2-dot',\n",
    "    'mpc': 'diamond-dot',\n",
    "    'cpc': 'square-dot',\n",
    "    'abapc': 'triangle-down-dot',\n",
    "    'abapc_llm': 'triangle-down-open',\n",
    "    'cam': 'star',\n",
    "    'nt': 'pentagon-dot',\n",
    "    'mcsl': 'cross-thin',\n",
    "    'ges': 'circle-cross',\n",
    "    'aspcr': 'diamond-open',\n",
    "    'llm_bfs': 'star-diamond-dot',\n",
    "}\n",
    "\n",
    "colors_dict = {\n",
    "    'random': '#7f7f7f',\n",
    "    'pc': main_blue,\n",
    "    'pc_max': sec_blue,\n",
    "    'fgs': sec_orange,\n",
    "    'spc': sec_green,\n",
    "    'mpc': main_green,\n",
    "    'cpc': '#c678dd',\n",
    "    'abapc': '#bcbd22',\n",
    "    'abapc_llm': sec_purple,\n",
    "    'cam': main_orange,\n",
    "    'nt': sec_blue,\n",
    "    'mcsl': '#bcbd22',\n",
    "    'ges': '#17becf',\n",
    "    'aspcr': sec_purple,\n",
    "    'llm_bfs': \"#e377c2\", \n",
    "}\n",
    "\n",
    "\n",
    "# For labeling datasets (|V|, |E|). Use constants as in original bnlearn notebook.\n",
    "dags_nodes_map = {'asia':8, 'cancer':5, 'earthquake':5, 'sachs':11, 'survey':6, 'alarm':37, 'child':20, 'insurance':27, 'hailfinder':56, 'hepar2':70}\n",
    "dags_arcs_map = {'asia':8, 'cancer':4, 'earthquake':4, 'sachs':17, 'survey':6, 'alarm':46, 'child':25, 'insurance':52, 'hailfinder':66, 'hepar2':123}\n",
    "\n",
    "default_methods = ['Random', 'FGS', 'NOTEARS-MLP', 'MPC', 'ABAPC', 'LLM-BFS', 'ABAPC-LLM']\n",
    "inverse_names = {v: k for k, v in names_dict.items()}\n"
   ]
  },
  {
   "cell_type": "code",
   "execution_count": 2,
   "metadata": {},
   "outputs": [],
   "source": [
    "# Load npy aggregated results for provided versions (cpdag and dag)\n",
    "def load_npy(version: str, kind: str):\n",
    "    path = RESULTS_DIR / f'stored_results_{version}{'_cpdag' if kind=='cpdag' else ''}.npy'\n",
    "    if kind == 'cpdag':\n",
    "        cols = ['dataset', 'model', 'elapsed_mean', 'elapsed_std', 'nnz_mean', 'nnz_std',\n",
    "                'fdr_mean', 'fdr_std', 'tpr_mean', 'tpr_std', 'fpr_mean', 'fpr_std',\n",
    "                'precision_mean', 'precision_std', 'recall_mean', 'recall_std',\n",
    "                'F1_mean', 'F1_std', 'shd_mean', 'shd_std', 'SID_low_mean', 'SID_low_std', 'SID_high_mean', 'SID_high_std']\n",
    "    else:\n",
    "        cols = ['dataset', 'model', 'elapsed_mean', 'elapsed_std', 'nnz_mean', 'nnz_std',\n",
    "                'fdr_mean', 'fdr_std', 'tpr_mean', 'tpr_std', 'fpr_mean', 'fpr_std',\n",
    "                'precision_mean', 'precision_std', 'recall_mean', 'recall_std',\n",
    "                'F1_mean', 'F1_std', 'shd_mean', 'shd_std', 'SID_mean', 'SID_std']\n",
    "    if not path.exists():\n",
    "        return pd.DataFrame(columns=cols)\n",
    "    arr = np.load(path, allow_pickle=True)\n",
    "    df = pd.DataFrame(arr, columns=cols)\n",
    "    df['dataset'] = df['dataset'].astype(str)\n",
    "    df['model'] = df['model'].astype(str)\n",
    "    return df\n",
    "\n",
    "cpdag_npy = pd.concat([load_npy(v, 'cpdag') for v in VERSIONS], ignore_index=True)\n",
    "dag_npy = pd.concat([load_npy(v, 'dag') for v in VERSIONS], ignore_index=True)\n",
    "\n",
    "# display({'cpdag_npy': cpdag_npy.head(), 'dag_npy': dag_npy.head()})\n"
   ]
  },
  {
   "cell_type": "code",
   "execution_count": 3,
   "metadata": {},
   "outputs": [],
   "source": [
    "# Aggregate ABAPC and ABAPC-LLM from merged_bnlearn.csv\n",
    "impl_map = {'org': 'ABAPC', 'new': 'ABAPC-LLM'}\n",
    "\n",
    "def aggregate_from_csv(csv_path: Path):\n",
    "    if not csv_path.exists():\n",
    "        return pd.DataFrame(), pd.DataFrame()\n",
    "    df = pd.read_csv(csv_path)\n",
    "    df['model'] = df['impl'].map(impl_map)\n",
    "    df = df[~df['model'].isna()].copy()\n",
    "    # Meta\n",
    "    meta = df.groupby(['dataset', 'model']).agg(num_nodes=('num_nodes','first'), num_edges=('num_edges','first')).reset_index()\n",
    "\n",
    "    # DAG metrics\n",
    "    dag_cols = ['dag_nnz','dag_fdr','dag_tpr','dag_fpr','dag_precision','dag_recall','dag_F1','dag_shd','dag_sid']\n",
    "    dag_agg = df.groupby(['dataset','model'])[dag_cols + ['time']].agg(['mean','std']).reset_index()\n",
    "    dag_agg.columns = ['dataset','model'] + ['_'.join(col).strip('_').replace('time_', 'elapsed_') for col in dag_agg.columns[2:]]\n",
    "    # Rename dag_* to base names to match plotting expectations\n",
    "    rename_map = {\n",
    "        'dag_nnz_mean':'nnz_mean','dag_nnz_std':'nnz_std',\n",
    "        'dag_fdr_mean':'fdr_mean','dag_fdr_std':'fdr_std',\n",
    "        'dag_tpr_mean':'tpr_mean','dag_tpr_std':'tpr_std',\n",
    "        'dag_fpr_mean':'fpr_mean','dag_fpr_std':'fpr_std',\n",
    "        'dag_precision_mean':'precision_mean','dag_precision_std':'precision_std',\n",
    "        'dag_recall_mean':'recall_mean','dag_recall_std':'recall_std',\n",
    "        'dag_F1_mean':'F1_mean','dag_F1_std':'F1_std',\n",
    "        'dag_shd_mean':'shd_mean','dag_shd_std':'shd_std',\n",
    "        'dag_sid_mean':'SID_mean','dag_sid_std':'SID_std',\n",
    "    }\n",
    "    dag_agg = dag_agg.rename(columns=rename_map)\n",
    "    dag_agg = dag_agg.merge(meta, on=['dataset','model'], how='left')\n",
    "\n",
    "    # CPDAG metrics\n",
    "    cp_cols = ['cpdag_nnz','cpdag_fdr','cpdag_tpr','cpdag_fpr','cpdag_precision','cpdag_recall','cpdag_F1','cpdag_shd','cpdag_sid_low','cpdag_sid_high']\n",
    "    cp_agg = df.groupby(['dataset','model'])[cp_cols + ['time']].agg(['mean','std']).reset_index()\n",
    "    cp_agg.columns = ['dataset','model'] + ['_'.join(col).strip('_').replace('time_', 'elapsed_') for col in cp_agg.columns[2:]]\n",
    "    cp_rename = {\n",
    "        'cpdag_nnz_mean':'nnz_mean','cpdag_nnz_std':'nnz_std',\n",
    "        'cpdag_fdr_mean':'fdr_mean','cpdag_fdr_std':'fdr_std',\n",
    "        'cpdag_tpr_mean':'tpr_mean','cpdag_tpr_std':'tpr_std',\n",
    "        'cpdag_fpr_mean':'fpr_mean','cpdag_fpr_std':'fpr_std',\n",
    "        'cpdag_precision_mean':'precision_mean','cpdag_precision_std':'precision_std',\n",
    "        'cpdag_recall_mean':'recall_mean','cpdag_recall_std':'recall_std',\n",
    "        'cpdag_F1_mean':'F1_mean','cpdag_F1_std':'F1_std',\n",
    "        'cpdag_shd_mean':'shd_mean','cpdag_shd_std':'shd_std',\n",
    "        'cpdag_sid_low_mean':'SID_low_mean','cpdag_sid_low_std':'SID_low_std',\n",
    "        'cpdag_sid_high_mean':'SID_high_mean','cpdag_sid_high_std':'SID_high_std',\n",
    "    }\n",
    "    cp_agg = cp_agg.rename(columns=cp_rename)\n",
    "    cp_agg = cp_agg.merge(meta, on=['dataset','model'], how='left')\n",
    "\n",
    "    return dag_agg, cp_agg\n",
    "\n",
    "dag_csv, cpdag_csv = aggregate_from_csv(CSV_ABAPC)\n",
    "# display({'dag_csv': dag_csv.head(), 'cpdag_csv': cpdag_csv.head()})\n",
    "\n",
    "# Aggregate LLM-BFS CSV (single-run style)\n",
    "def aggregate_bfs_csv(csv_path: Path):\n",
    "    if not csv_path.exists():\n",
    "        return pd.DataFrame(), pd.DataFrame()\n",
    "    df = pd.read_csv(csv_path)\n",
    "    df['dataset'] = df['dataset'].astype(str)\n",
    "    df['model'] = 'LLM-BFS'\n",
    "    # Add meta from known maps\n",
    "    df['num_nodes'] = df['dataset'].str.lower().map(dags_nodes_map)\n",
    "    df['num_edges'] = df['dataset'].str.lower().map(dags_arcs_map)\n",
    "    # DAG agg\n",
    "    dag_cols = ['dag_nnz','dag_fdr','dag_tpr','dag_fpr','dag_precision','dag_recall','dag_F1','dag_shd','dag_sid']\n",
    "    dag_agg = df.groupby(['dataset','model'])[dag_cols + ['time']].agg(['mean','std']).reset_index()\n",
    "    dag_agg.columns = ['dataset','model'] + ['_'.join(col).strip('_').replace('time_', 'elapsed_') for col in dag_agg.columns[2:]]\n",
    "    rename_map = {\n",
    "        'dag_nnz_mean':'nnz_mean','dag_nnz_std':'nnz_std',\n",
    "        'dag_fdr_mean':'fdr_mean','dag_fdr_std':'fdr_std',\n",
    "        'dag_tpr_mean':'tpr_mean','dag_tpr_std':'tpr_std',\n",
    "        'dag_fpr_mean':'fpr_mean','dag_fpr_std':'fpr_std',\n",
    "        'dag_precision_mean':'precision_mean','dag_precision_std':'precision_std',\n",
    "        'dag_recall_mean':'recall_mean','dag_recall_std':'recall_std',\n",
    "        'dag_F1_mean':'F1_mean','dag_F1_std':'F1_std',\n",
    "        'dag_shd_mean':'shd_mean','dag_shd_std':'shd_std',\n",
    "        'dag_sid_mean':'SID_mean','dag_sid_std':'SID_std',\n",
    "    }\n",
    "    dag_agg = dag_agg.rename(columns=rename_map)\n",
    "    # Merge meta\n",
    "    meta = df.groupby(['dataset','model']).agg(num_nodes=('num_nodes','first'), num_edges=('num_edges','first')).reset_index()\n",
    "    dag_agg = dag_agg.merge(meta, on=['dataset','model'], how='left')\n",
    "    # CPDAG agg\n",
    "    cp_cols = ['cpdag_nnz','cpdag_fdr','cpdag_tpr','cpdag_fpr','cpdag_precision','cpdag_recall','cpdag_F1','cpdag_shd','cpdag_sid_low','cpdag_sid_high']\n",
    "    cp_agg = df.groupby(['dataset','model'])[cp_cols + ['time']].agg(['mean','std']).reset_index()\n",
    "    cp_agg.columns = ['dataset','model'] + ['_'.join(col).strip('_').replace('time_', 'elapsed_') for col in cp_agg.columns[2:]]\n",
    "    cp_rename = {\n",
    "        'cpdag_nnz_mean':'nnz_mean','cpdag_nnz_std':'nnz_std',\n",
    "        'cpdag_fdr_mean':'fdr_mean','cpdag_fdr_std':'fdr_std',\n",
    "        'cpdag_tpr_mean':'tpr_mean','cpdag_tpr_std':'tpr_std',\n",
    "        'cpdag_fpr_mean':'fpr_mean','cpdag_fpr_std':'fpr_std',\n",
    "        'cpdag_precision_mean':'precision_mean','cpdag_precision_std':'precision_std',\n",
    "        'cpdag_recall_mean':'recall_mean','cpdag_recall_std':'recall_std',\n",
    "        'cpdag_F1_mean':'F1_mean','cpdag_F1_std':'F1_std',\n",
    "        'cpdag_shd_mean':'shd_mean','cpdag_shd_std':'shd_std',\n",
    "        'cpdag_sid_low_mean':'SID_low_mean','cpdag_sid_low_std':'SID_low_std',\n",
    "        'cpdag_sid_high_mean':'SID_high_mean','cpdag_sid_high_std':'SID_high_std',\n",
    "    }\n",
    "    cp_agg = cp_agg.rename(columns=cp_rename)\n",
    "    cp_agg = cp_agg.merge(meta, on=['dataset','model'], how='left')\n",
    "    return dag_agg, cp_agg\n",
    "\n",
    "bfs_dag_csv, bfs_cpdag_csv = aggregate_bfs_csv(CSV_BFS)\n",
    "# display({'bfs_dag_csv': bfs_dag_csv.head(), 'bfs_cpdag_csv': bfs_cpdag_csv.head()})\n"
   ]
  },
  {
   "cell_type": "code",
   "execution_count": 4,
   "metadata": {},
   "outputs": [
    {
     "name": "stdout",
     "output_type": "stream",
     "text": [
      "CPDAG models: ['ABAPC', 'ABAPC-LLM', 'FGS', 'LLM-BFS', 'MPC', 'NOTEARS-MLP', 'Random']\n",
      "DAG models: ['ABAPC', 'ABAPC-LLM', 'FGS', 'LLM-BFS', 'MPC', 'NOTEARS-MLP', 'Random']\n"
     ]
    }
   ],
   "source": [
    "datasets_to_plot = {'cancer','earthquake','asia', 'sachs', 'survey', 'alarm', 'child', 'insurance', 'hailfinder', 'hepar2'\n",
    "                    }\n",
    "# Merge npy and csv aggregates per kind\n",
    "cpdag_all = pd.concat([cpdag_npy, cpdag_csv, bfs_cpdag_csv], ignore_index=True, sort=False)\n",
    "dag_all = pd.concat([dag_npy, dag_csv, bfs_dag_csv], ignore_index=True, sort=False)\n",
    "\n",
    "## filter to datasets of interest\n",
    "cpdag_all = cpdag_all[cpdag_all['dataset'].str.lower().isin(datasets_to_plot)].copy()\n",
    "dag_all = dag_all[dag_all['dataset'].str.lower().isin(datasets_to_plot)].copy()\n",
    "\n",
    "# Add node/edge counts for label/normalisation\n",
    "for df in (cpdag_all, dag_all):\n",
    "    if 'num_edges' not in df: df['num_edges'] = np.nan\n",
    "    if 'num_nodes' not in df: df['num_nodes'] = np.nan\n",
    "    # Fill from known maps where missing\n",
    "    base_names = df['dataset'].astype(str).str.replace('<br>.*','', regex=True).str.lower()\n",
    "    df['n_edges'] = base_names.map(dags_arcs_map).fillna(df['num_edges']).astype(float)\n",
    "    df['n_nodes'] = base_names.map(dags_nodes_map).fillna(df['num_nodes']).astype(float)\n",
    "    # Nice dataset label\n",
    "    ds_upper = base_names.str.upper()\n",
    "    df['dataset'] = ds_upper + '<br> |V|=' + df['n_nodes'].fillna(0).astype(int).astype(str) + ', |E|=' + df['n_edges'].fillna(0).astype(int).astype(str)\n",
    "\n",
    "# Compute normalised metrics\n",
    "def add_normals(df, sid_cols):\n",
    "    if 'shd_mean' in df and 'n_edges' in df:\n",
    "        df['p_shd_mean'] = df['shd_mean'].astype(float) / df['n_edges'].astype(float)\n",
    "        df['p_shd_std'] = df['shd_std'].astype(float) / df['n_edges'].astype(float)\n",
    "    for c in sid_cols:\n",
    "        mean_c, std_c = f'{c}_mean', f'{c}_std'\n",
    "        if mean_c in df and 'n_edges' in df:\n",
    "            df[f'p_{c}_mean'] = df[mean_c].astype(float) / df['n_edges'].astype(float)\n",
    "            df[f'p_{c}_std'] = df[std_c].astype(float) / df['n_edges'].astype(float)\n",
    "    return df\n",
    "\n",
    "cpdag_all = add_normals(cpdag_all, sid_cols=['SID_low','SID_high'])\n",
    "dag_all = add_normals(dag_all, sid_cols=['SID'])\n",
    "\n",
    "available_models_cpdag = sorted(cpdag_all['model'].unique()) if len(cpdag_all)>0 else []\n",
    "available_models_dag = sorted(dag_all['model'].unique()) if len(dag_all)>0 else []\n",
    "print('CPDAG models:', available_models_cpdag)\n",
    "print('DAG models:', available_models_dag)\n"
   ]
  },
  {
   "cell_type": "code",
   "execution_count": 5,
   "id": "075dc51b",
   "metadata": {},
   "outputs": [
    {
     "name": "stdout",
     "output_type": "stream",
     "text": [
      "Version: bnlearn_big_fgs_nt\n"
     ]
    },
    {
     "data": {
      "application/vnd.microsoft.datawrangler.viewer.v0+json": {
       "columns": [
        {
         "name": "dataset",
         "rawType": "object",
         "type": "string"
        },
        {
         "name": "FGS",
         "rawType": "int64",
         "type": "integer"
        },
        {
         "name": "NOTEARS-MLP",
         "rawType": "int64",
         "type": "integer"
        }
       ],
       "ref": "03c804a6-a319-465e-9957-fc6d96e0cac8",
       "rows": [
        [
         "asia",
         "50",
         "50"
        ],
        [
         "cancer",
         "50",
         "50"
        ],
        [
         "earthquake",
         "50",
         "50"
        ],
        [
         "sachs",
         "50",
         "50"
        ],
        [
         "survey",
         "50",
         "50"
        ]
       ],
       "shape": {
        "columns": 2,
        "rows": 5
       }
      },
      "text/html": [
       "<div>\n",
       "<style scoped>\n",
       "    .dataframe tbody tr th:only-of-type {\n",
       "        vertical-align: middle;\n",
       "    }\n",
       "\n",
       "    .dataframe tbody tr th {\n",
       "        vertical-align: top;\n",
       "    }\n",
       "\n",
       "    .dataframe thead th {\n",
       "        text-align: right;\n",
       "    }\n",
       "</style>\n",
       "<table border=\"1\" class=\"dataframe\">\n",
       "  <thead>\n",
       "    <tr style=\"text-align: right;\">\n",
       "      <th>model</th>\n",
       "      <th>FGS</th>\n",
       "      <th>NOTEARS-MLP</th>\n",
       "    </tr>\n",
       "    <tr>\n",
       "      <th>dataset</th>\n",
       "      <th></th>\n",
       "      <th></th>\n",
       "    </tr>\n",
       "  </thead>\n",
       "  <tbody>\n",
       "    <tr>\n",
       "      <th>asia</th>\n",
       "      <td>50</td>\n",
       "      <td>50</td>\n",
       "    </tr>\n",
       "    <tr>\n",
       "      <th>cancer</th>\n",
       "      <td>50</td>\n",
       "      <td>50</td>\n",
       "    </tr>\n",
       "    <tr>\n",
       "      <th>earthquake</th>\n",
       "      <td>50</td>\n",
       "      <td>50</td>\n",
       "    </tr>\n",
       "    <tr>\n",
       "      <th>sachs</th>\n",
       "      <td>50</td>\n",
       "      <td>50</td>\n",
       "    </tr>\n",
       "    <tr>\n",
       "      <th>survey</th>\n",
       "      <td>50</td>\n",
       "      <td>50</td>\n",
       "    </tr>\n",
       "  </tbody>\n",
       "</table>\n",
       "</div>"
      ],
      "text/plain": [
       "model       FGS  NOTEARS-MLP\n",
       "dataset                     \n",
       "asia         50           50\n",
       "cancer       50           50\n",
       "earthquake   50           50\n",
       "sachs        50           50\n",
       "survey       50           50"
      ]
     },
     "metadata": {},
     "output_type": "display_data"
    },
    {
     "name": "stdout",
     "output_type": "stream",
     "text": [
      "Version: bnlearn_big_rnd_mpc\n"
     ]
    },
    {
     "data": {
      "application/vnd.microsoft.datawrangler.viewer.v0+json": {
       "columns": [
        {
         "name": "dataset",
         "rawType": "object",
         "type": "string"
        },
        {
         "name": "MPC",
         "rawType": "int64",
         "type": "integer"
        },
        {
         "name": "Random",
         "rawType": "int64",
         "type": "integer"
        }
       ],
       "ref": "cc0c1b3f-aa78-4480-a428-ee9afb2c6c3f",
       "rows": [
        [
         "asia",
         "50",
         "50"
        ],
        [
         "cancer",
         "50",
         "50"
        ],
        [
         "earthquake",
         "50",
         "50"
        ],
        [
         "sachs",
         "7",
         "50"
        ],
        [
         "survey",
         "50",
         "50"
        ]
       ],
       "shape": {
        "columns": 2,
        "rows": 5
       }
      },
      "text/html": [
       "<div>\n",
       "<style scoped>\n",
       "    .dataframe tbody tr th:only-of-type {\n",
       "        vertical-align: middle;\n",
       "    }\n",
       "\n",
       "    .dataframe tbody tr th {\n",
       "        vertical-align: top;\n",
       "    }\n",
       "\n",
       "    .dataframe thead th {\n",
       "        text-align: right;\n",
       "    }\n",
       "</style>\n",
       "<table border=\"1\" class=\"dataframe\">\n",
       "  <thead>\n",
       "    <tr style=\"text-align: right;\">\n",
       "      <th>model</th>\n",
       "      <th>MPC</th>\n",
       "      <th>Random</th>\n",
       "    </tr>\n",
       "    <tr>\n",
       "      <th>dataset</th>\n",
       "      <th></th>\n",
       "      <th></th>\n",
       "    </tr>\n",
       "  </thead>\n",
       "  <tbody>\n",
       "    <tr>\n",
       "      <th>asia</th>\n",
       "      <td>50</td>\n",
       "      <td>50</td>\n",
       "    </tr>\n",
       "    <tr>\n",
       "      <th>cancer</th>\n",
       "      <td>50</td>\n",
       "      <td>50</td>\n",
       "    </tr>\n",
       "    <tr>\n",
       "      <th>earthquake</th>\n",
       "      <td>50</td>\n",
       "      <td>50</td>\n",
       "    </tr>\n",
       "    <tr>\n",
       "      <th>sachs</th>\n",
       "      <td>7</td>\n",
       "      <td>50</td>\n",
       "    </tr>\n",
       "    <tr>\n",
       "      <th>survey</th>\n",
       "      <td>50</td>\n",
       "      <td>50</td>\n",
       "    </tr>\n",
       "  </tbody>\n",
       "</table>\n",
       "</div>"
      ],
      "text/plain": [
       "model       MPC  Random\n",
       "dataset                \n",
       "asia         50      50\n",
       "cancer       50      50\n",
       "earthquake   50      50\n",
       "sachs         7      50\n",
       "survey       50      50"
      ]
     },
     "metadata": {},
     "output_type": "display_data"
    },
    {
     "name": "stdout",
     "output_type": "stream",
     "text": [
      "Version: bnlearn_child_base\n"
     ]
    },
    {
     "data": {
      "application/vnd.microsoft.datawrangler.viewer.v0+json": {
       "columns": [
        {
         "name": "dataset",
         "rawType": "object",
         "type": "string"
        },
        {
         "name": "Random",
         "rawType": "int64",
         "type": "integer"
        }
       ],
       "ref": "71678d7b-cc78-4cda-ac40-3ccd0180778a",
       "rows": [
        [
         "child",
         "50"
        ]
       ],
       "shape": {
        "columns": 1,
        "rows": 1
       }
      },
      "text/html": [
       "<div>\n",
       "<style scoped>\n",
       "    .dataframe tbody tr th:only-of-type {\n",
       "        vertical-align: middle;\n",
       "    }\n",
       "\n",
       "    .dataframe tbody tr th {\n",
       "        vertical-align: top;\n",
       "    }\n",
       "\n",
       "    .dataframe thead th {\n",
       "        text-align: right;\n",
       "    }\n",
       "</style>\n",
       "<table border=\"1\" class=\"dataframe\">\n",
       "  <thead>\n",
       "    <tr style=\"text-align: right;\">\n",
       "      <th>model</th>\n",
       "      <th>Random</th>\n",
       "    </tr>\n",
       "    <tr>\n",
       "      <th>dataset</th>\n",
       "      <th></th>\n",
       "    </tr>\n",
       "  </thead>\n",
       "  <tbody>\n",
       "    <tr>\n",
       "      <th>child</th>\n",
       "      <td>50</td>\n",
       "    </tr>\n",
       "  </tbody>\n",
       "</table>\n",
       "</div>"
      ],
      "text/plain": [
       "model    Random\n",
       "dataset        \n",
       "child        50"
      ]
     },
     "metadata": {},
     "output_type": "display_data"
    },
    {
     "name": "stdout",
     "output_type": "stream",
     "text": [
      "Version: bnlearn_child_base2\n"
     ]
    },
    {
     "data": {
      "application/vnd.microsoft.datawrangler.viewer.v0+json": {
       "columns": [
        {
         "name": "dataset",
         "rawType": "object",
         "type": "string"
        },
        {
         "name": "FGS",
         "rawType": "int64",
         "type": "integer"
        },
        {
         "name": "MPC",
         "rawType": "int64",
         "type": "integer"
        },
        {
         "name": "NOTEARS-MLP",
         "rawType": "int64",
         "type": "integer"
        }
       ],
       "ref": "30a352d4-66aa-4cdc-9537-0538116723e1",
       "rows": [
        [
         "child",
         "50",
         "50",
         "50"
        ]
       ],
       "shape": {
        "columns": 3,
        "rows": 1
       }
      },
      "text/html": [
       "<div>\n",
       "<style scoped>\n",
       "    .dataframe tbody tr th:only-of-type {\n",
       "        vertical-align: middle;\n",
       "    }\n",
       "\n",
       "    .dataframe tbody tr th {\n",
       "        vertical-align: top;\n",
       "    }\n",
       "\n",
       "    .dataframe thead th {\n",
       "        text-align: right;\n",
       "    }\n",
       "</style>\n",
       "<table border=\"1\" class=\"dataframe\">\n",
       "  <thead>\n",
       "    <tr style=\"text-align: right;\">\n",
       "      <th>model</th>\n",
       "      <th>FGS</th>\n",
       "      <th>MPC</th>\n",
       "      <th>NOTEARS-MLP</th>\n",
       "    </tr>\n",
       "    <tr>\n",
       "      <th>dataset</th>\n",
       "      <th></th>\n",
       "      <th></th>\n",
       "      <th></th>\n",
       "    </tr>\n",
       "  </thead>\n",
       "  <tbody>\n",
       "    <tr>\n",
       "      <th>child</th>\n",
       "      <td>50</td>\n",
       "      <td>50</td>\n",
       "      <td>50</td>\n",
       "    </tr>\n",
       "  </tbody>\n",
       "</table>\n",
       "</div>"
      ],
      "text/plain": [
       "model    FGS  MPC  NOTEARS-MLP\n",
       "dataset                       \n",
       "child     50   50           50"
      ]
     },
     "metadata": {},
     "output_type": "display_data"
    },
    {
     "name": "stdout",
     "output_type": "stream",
     "text": [
      "Version: bnlearn_mpc_sachs\n"
     ]
    },
    {
     "data": {
      "application/vnd.microsoft.datawrangler.viewer.v0+json": {
       "columns": [
        {
         "name": "dataset",
         "rawType": "object",
         "type": "string"
        },
        {
         "name": "MPC",
         "rawType": "int64",
         "type": "integer"
        }
       ],
       "ref": "b7e41bd0-a3d8-4372-a757-be012fcb16ca",
       "rows": [
        [
         "sachs",
         "50"
        ]
       ],
       "shape": {
        "columns": 1,
        "rows": 1
       }
      },
      "text/html": [
       "<div>\n",
       "<style scoped>\n",
       "    .dataframe tbody tr th:only-of-type {\n",
       "        vertical-align: middle;\n",
       "    }\n",
       "\n",
       "    .dataframe tbody tr th {\n",
       "        vertical-align: top;\n",
       "    }\n",
       "\n",
       "    .dataframe thead th {\n",
       "        text-align: right;\n",
       "    }\n",
       "</style>\n",
       "<table border=\"1\" class=\"dataframe\">\n",
       "  <thead>\n",
       "    <tr style=\"text-align: right;\">\n",
       "      <th>model</th>\n",
       "      <th>MPC</th>\n",
       "    </tr>\n",
       "    <tr>\n",
       "      <th>dataset</th>\n",
       "      <th></th>\n",
       "    </tr>\n",
       "  </thead>\n",
       "  <tbody>\n",
       "    <tr>\n",
       "      <th>sachs</th>\n",
       "      <td>50</td>\n",
       "    </tr>\n",
       "  </tbody>\n",
       "</table>\n",
       "</div>"
      ],
      "text/plain": [
       "model    MPC\n",
       "dataset     \n",
       "sachs     50"
      ]
     },
     "metadata": {},
     "output_type": "display_data"
    },
    {
     "data": {
      "application/vnd.microsoft.datawrangler.viewer.v0+json": {
       "columns": [
        {
         "name": "index",
         "rawType": "int64",
         "type": "integer"
        },
        {
         "name": "dataset",
         "rawType": "object",
         "type": "string"
        },
        {
         "name": "method_key",
         "rawType": "object",
         "type": "string"
        },
        {
         "name": "model",
         "rawType": "object",
         "type": "string"
        },
        {
         "name": "runs",
         "rawType": "int64",
         "type": "integer"
        }
       ],
       "ref": "9afb0787-61db-4d19-8968-aaa5190ab338",
       "rows": [
        [
         "0",
         "asia",
         "abapc",
         "ABAPC",
         "50"
        ],
        [
         "1",
         "asia",
         "abapc_llm",
         "ABAPC-LLM",
         "50"
        ],
        [
         "2",
         "asia",
         "fgs",
         "FGS",
         "50"
        ],
        [
         "3",
         "asia",
         "llm_bfs",
         "LLM-BFS",
         "1"
        ],
        [
         "4",
         "asia",
         "mpc",
         "MPC",
         "50"
        ],
        [
         "5",
         "asia",
         "nt",
         "NOTEARS-MLP",
         "50"
        ],
        [
         "6",
         "asia",
         "random",
         "Random",
         "50"
        ],
        [
         "7",
         "cancer",
         "abapc",
         "ABAPC",
         "50"
        ],
        [
         "8",
         "cancer",
         "abapc_llm",
         "ABAPC-LLM",
         "50"
        ],
        [
         "9",
         "cancer",
         "fgs",
         "FGS",
         "50"
        ],
        [
         "10",
         "cancer",
         "llm_bfs",
         "LLM-BFS",
         "1"
        ],
        [
         "11",
         "cancer",
         "mpc",
         "MPC",
         "50"
        ],
        [
         "12",
         "cancer",
         "nt",
         "NOTEARS-MLP",
         "50"
        ],
        [
         "13",
         "cancer",
         "random",
         "Random",
         "50"
        ],
        [
         "14",
         "child",
         "abapc",
         "ABAPC",
         "50"
        ],
        [
         "15",
         "child",
         "abapc_llm",
         "ABAPC-LLM",
         "50"
        ],
        [
         "16",
         "child",
         "fgs",
         "FGS",
         "50"
        ],
        [
         "17",
         "child",
         "llm_bfs",
         "LLM-BFS",
         "1"
        ],
        [
         "18",
         "child",
         "mpc",
         "MPC",
         "50"
        ],
        [
         "19",
         "child",
         "nt",
         "NOTEARS-MLP",
         "50"
        ],
        [
         "20",
         "child",
         "random",
         "Random",
         "50"
        ],
        [
         "21",
         "earthquake",
         "abapc",
         "ABAPC",
         "50"
        ],
        [
         "22",
         "earthquake",
         "abapc_llm",
         "ABAPC-LLM",
         "50"
        ],
        [
         "23",
         "earthquake",
         "fgs",
         "FGS",
         "50"
        ],
        [
         "24",
         "earthquake",
         "llm_bfs",
         "LLM-BFS",
         "1"
        ],
        [
         "25",
         "earthquake",
         "mpc",
         "MPC",
         "50"
        ],
        [
         "26",
         "earthquake",
         "nt",
         "NOTEARS-MLP",
         "50"
        ],
        [
         "27",
         "earthquake",
         "random",
         "Random",
         "50"
        ],
        [
         "28",
         "sachs",
         "abapc",
         "ABAPC",
         "50"
        ],
        [
         "29",
         "sachs",
         "abapc_llm",
         "ABAPC-LLM",
         "50"
        ],
        [
         "30",
         "sachs",
         "fgs",
         "FGS",
         "50"
        ],
        [
         "31",
         "sachs",
         "llm_bfs",
         "LLM-BFS",
         "1"
        ],
        [
         "32",
         "sachs",
         "mpc",
         "MPC",
         "50"
        ],
        [
         "33",
         "sachs",
         "nt",
         "NOTEARS-MLP",
         "50"
        ],
        [
         "34",
         "sachs",
         "random",
         "Random",
         "50"
        ],
        [
         "35",
         "survey",
         "abapc",
         "ABAPC",
         "50"
        ],
        [
         "36",
         "survey",
         "abapc_llm",
         "ABAPC-LLM",
         "50"
        ],
        [
         "37",
         "survey",
         "fgs",
         "FGS",
         "50"
        ],
        [
         "38",
         "survey",
         "llm_bfs",
         "LLM-BFS",
         "1"
        ],
        [
         "39",
         "survey",
         "mpc",
         "MPC",
         "50"
        ],
        [
         "40",
         "survey",
         "nt",
         "NOTEARS-MLP",
         "50"
        ],
        [
         "41",
         "survey",
         "random",
         "Random",
         "50"
        ]
       ],
       "shape": {
        "columns": 4,
        "rows": 42
       }
      },
      "text/html": [
       "<div>\n",
       "<style scoped>\n",
       "    .dataframe tbody tr th:only-of-type {\n",
       "        vertical-align: middle;\n",
       "    }\n",
       "\n",
       "    .dataframe tbody tr th {\n",
       "        vertical-align: top;\n",
       "    }\n",
       "\n",
       "    .dataframe thead th {\n",
       "        text-align: right;\n",
       "    }\n",
       "</style>\n",
       "<table border=\"1\" class=\"dataframe\">\n",
       "  <thead>\n",
       "    <tr style=\"text-align: right;\">\n",
       "      <th></th>\n",
       "      <th>dataset</th>\n",
       "      <th>method_key</th>\n",
       "      <th>model</th>\n",
       "      <th>runs</th>\n",
       "    </tr>\n",
       "  </thead>\n",
       "  <tbody>\n",
       "    <tr>\n",
       "      <th>0</th>\n",
       "      <td>asia</td>\n",
       "      <td>abapc</td>\n",
       "      <td>ABAPC</td>\n",
       "      <td>50</td>\n",
       "    </tr>\n",
       "    <tr>\n",
       "      <th>1</th>\n",
       "      <td>asia</td>\n",
       "      <td>abapc_llm</td>\n",
       "      <td>ABAPC-LLM</td>\n",
       "      <td>50</td>\n",
       "    </tr>\n",
       "    <tr>\n",
       "      <th>2</th>\n",
       "      <td>asia</td>\n",
       "      <td>fgs</td>\n",
       "      <td>FGS</td>\n",
       "      <td>50</td>\n",
       "    </tr>\n",
       "    <tr>\n",
       "      <th>3</th>\n",
       "      <td>asia</td>\n",
       "      <td>llm_bfs</td>\n",
       "      <td>LLM-BFS</td>\n",
       "      <td>1</td>\n",
       "    </tr>\n",
       "    <tr>\n",
       "      <th>4</th>\n",
       "      <td>asia</td>\n",
       "      <td>mpc</td>\n",
       "      <td>MPC</td>\n",
       "      <td>50</td>\n",
       "    </tr>\n",
       "    <tr>\n",
       "      <th>5</th>\n",
       "      <td>asia</td>\n",
       "      <td>nt</td>\n",
       "      <td>NOTEARS-MLP</td>\n",
       "      <td>50</td>\n",
       "    </tr>\n",
       "    <tr>\n",
       "      <th>6</th>\n",
       "      <td>asia</td>\n",
       "      <td>random</td>\n",
       "      <td>Random</td>\n",
       "      <td>50</td>\n",
       "    </tr>\n",
       "    <tr>\n",
       "      <th>7</th>\n",
       "      <td>cancer</td>\n",
       "      <td>abapc</td>\n",
       "      <td>ABAPC</td>\n",
       "      <td>50</td>\n",
       "    </tr>\n",
       "    <tr>\n",
       "      <th>8</th>\n",
       "      <td>cancer</td>\n",
       "      <td>abapc_llm</td>\n",
       "      <td>ABAPC-LLM</td>\n",
       "      <td>50</td>\n",
       "    </tr>\n",
       "    <tr>\n",
       "      <th>9</th>\n",
       "      <td>cancer</td>\n",
       "      <td>fgs</td>\n",
       "      <td>FGS</td>\n",
       "      <td>50</td>\n",
       "    </tr>\n",
       "    <tr>\n",
       "      <th>10</th>\n",
       "      <td>cancer</td>\n",
       "      <td>llm_bfs</td>\n",
       "      <td>LLM-BFS</td>\n",
       "      <td>1</td>\n",
       "    </tr>\n",
       "    <tr>\n",
       "      <th>11</th>\n",
       "      <td>cancer</td>\n",
       "      <td>mpc</td>\n",
       "      <td>MPC</td>\n",
       "      <td>50</td>\n",
       "    </tr>\n",
       "    <tr>\n",
       "      <th>12</th>\n",
       "      <td>cancer</td>\n",
       "      <td>nt</td>\n",
       "      <td>NOTEARS-MLP</td>\n",
       "      <td>50</td>\n",
       "    </tr>\n",
       "    <tr>\n",
       "      <th>13</th>\n",
       "      <td>cancer</td>\n",
       "      <td>random</td>\n",
       "      <td>Random</td>\n",
       "      <td>50</td>\n",
       "    </tr>\n",
       "    <tr>\n",
       "      <th>14</th>\n",
       "      <td>child</td>\n",
       "      <td>abapc</td>\n",
       "      <td>ABAPC</td>\n",
       "      <td>50</td>\n",
       "    </tr>\n",
       "    <tr>\n",
       "      <th>15</th>\n",
       "      <td>child</td>\n",
       "      <td>abapc_llm</td>\n",
       "      <td>ABAPC-LLM</td>\n",
       "      <td>50</td>\n",
       "    </tr>\n",
       "    <tr>\n",
       "      <th>16</th>\n",
       "      <td>child</td>\n",
       "      <td>fgs</td>\n",
       "      <td>FGS</td>\n",
       "      <td>50</td>\n",
       "    </tr>\n",
       "    <tr>\n",
       "      <th>17</th>\n",
       "      <td>child</td>\n",
       "      <td>llm_bfs</td>\n",
       "      <td>LLM-BFS</td>\n",
       "      <td>1</td>\n",
       "    </tr>\n",
       "    <tr>\n",
       "      <th>18</th>\n",
       "      <td>child</td>\n",
       "      <td>mpc</td>\n",
       "      <td>MPC</td>\n",
       "      <td>50</td>\n",
       "    </tr>\n",
       "    <tr>\n",
       "      <th>19</th>\n",
       "      <td>child</td>\n",
       "      <td>nt</td>\n",
       "      <td>NOTEARS-MLP</td>\n",
       "      <td>50</td>\n",
       "    </tr>\n",
       "    <tr>\n",
       "      <th>20</th>\n",
       "      <td>child</td>\n",
       "      <td>random</td>\n",
       "      <td>Random</td>\n",
       "      <td>50</td>\n",
       "    </tr>\n",
       "    <tr>\n",
       "      <th>21</th>\n",
       "      <td>earthquake</td>\n",
       "      <td>abapc</td>\n",
       "      <td>ABAPC</td>\n",
       "      <td>50</td>\n",
       "    </tr>\n",
       "    <tr>\n",
       "      <th>22</th>\n",
       "      <td>earthquake</td>\n",
       "      <td>abapc_llm</td>\n",
       "      <td>ABAPC-LLM</td>\n",
       "      <td>50</td>\n",
       "    </tr>\n",
       "    <tr>\n",
       "      <th>23</th>\n",
       "      <td>earthquake</td>\n",
       "      <td>fgs</td>\n",
       "      <td>FGS</td>\n",
       "      <td>50</td>\n",
       "    </tr>\n",
       "    <tr>\n",
       "      <th>24</th>\n",
       "      <td>earthquake</td>\n",
       "      <td>llm_bfs</td>\n",
       "      <td>LLM-BFS</td>\n",
       "      <td>1</td>\n",
       "    </tr>\n",
       "    <tr>\n",
       "      <th>25</th>\n",
       "      <td>earthquake</td>\n",
       "      <td>mpc</td>\n",
       "      <td>MPC</td>\n",
       "      <td>50</td>\n",
       "    </tr>\n",
       "    <tr>\n",
       "      <th>26</th>\n",
       "      <td>earthquake</td>\n",
       "      <td>nt</td>\n",
       "      <td>NOTEARS-MLP</td>\n",
       "      <td>50</td>\n",
       "    </tr>\n",
       "    <tr>\n",
       "      <th>27</th>\n",
       "      <td>earthquake</td>\n",
       "      <td>random</td>\n",
       "      <td>Random</td>\n",
       "      <td>50</td>\n",
       "    </tr>\n",
       "    <tr>\n",
       "      <th>28</th>\n",
       "      <td>sachs</td>\n",
       "      <td>abapc</td>\n",
       "      <td>ABAPC</td>\n",
       "      <td>50</td>\n",
       "    </tr>\n",
       "    <tr>\n",
       "      <th>29</th>\n",
       "      <td>sachs</td>\n",
       "      <td>abapc_llm</td>\n",
       "      <td>ABAPC-LLM</td>\n",
       "      <td>50</td>\n",
       "    </tr>\n",
       "    <tr>\n",
       "      <th>30</th>\n",
       "      <td>sachs</td>\n",
       "      <td>fgs</td>\n",
       "      <td>FGS</td>\n",
       "      <td>50</td>\n",
       "    </tr>\n",
       "    <tr>\n",
       "      <th>31</th>\n",
       "      <td>sachs</td>\n",
       "      <td>llm_bfs</td>\n",
       "      <td>LLM-BFS</td>\n",
       "      <td>1</td>\n",
       "    </tr>\n",
       "    <tr>\n",
       "      <th>32</th>\n",
       "      <td>sachs</td>\n",
       "      <td>mpc</td>\n",
       "      <td>MPC</td>\n",
       "      <td>50</td>\n",
       "    </tr>\n",
       "    <tr>\n",
       "      <th>33</th>\n",
       "      <td>sachs</td>\n",
       "      <td>nt</td>\n",
       "      <td>NOTEARS-MLP</td>\n",
       "      <td>50</td>\n",
       "    </tr>\n",
       "    <tr>\n",
       "      <th>34</th>\n",
       "      <td>sachs</td>\n",
       "      <td>random</td>\n",
       "      <td>Random</td>\n",
       "      <td>50</td>\n",
       "    </tr>\n",
       "    <tr>\n",
       "      <th>35</th>\n",
       "      <td>survey</td>\n",
       "      <td>abapc</td>\n",
       "      <td>ABAPC</td>\n",
       "      <td>50</td>\n",
       "    </tr>\n",
       "    <tr>\n",
       "      <th>36</th>\n",
       "      <td>survey</td>\n",
       "      <td>abapc_llm</td>\n",
       "      <td>ABAPC-LLM</td>\n",
       "      <td>50</td>\n",
       "    </tr>\n",
       "    <tr>\n",
       "      <th>37</th>\n",
       "      <td>survey</td>\n",
       "      <td>fgs</td>\n",
       "      <td>FGS</td>\n",
       "      <td>50</td>\n",
       "    </tr>\n",
       "    <tr>\n",
       "      <th>38</th>\n",
       "      <td>survey</td>\n",
       "      <td>llm_bfs</td>\n",
       "      <td>LLM-BFS</td>\n",
       "      <td>1</td>\n",
       "    </tr>\n",
       "    <tr>\n",
       "      <th>39</th>\n",
       "      <td>survey</td>\n",
       "      <td>mpc</td>\n",
       "      <td>MPC</td>\n",
       "      <td>50</td>\n",
       "    </tr>\n",
       "    <tr>\n",
       "      <th>40</th>\n",
       "      <td>survey</td>\n",
       "      <td>nt</td>\n",
       "      <td>NOTEARS-MLP</td>\n",
       "      <td>50</td>\n",
       "    </tr>\n",
       "    <tr>\n",
       "      <th>41</th>\n",
       "      <td>survey</td>\n",
       "      <td>random</td>\n",
       "      <td>Random</td>\n",
       "      <td>50</td>\n",
       "    </tr>\n",
       "  </tbody>\n",
       "</table>\n",
       "</div>"
      ],
      "text/plain": [
       "       dataset method_key        model  runs\n",
       "0         asia      abapc        ABAPC    50\n",
       "1         asia  abapc_llm    ABAPC-LLM    50\n",
       "2         asia        fgs          FGS    50\n",
       "3         asia    llm_bfs      LLM-BFS     1\n",
       "4         asia        mpc          MPC    50\n",
       "5         asia         nt  NOTEARS-MLP    50\n",
       "6         asia     random       Random    50\n",
       "7       cancer      abapc        ABAPC    50\n",
       "8       cancer  abapc_llm    ABAPC-LLM    50\n",
       "9       cancer        fgs          FGS    50\n",
       "10      cancer    llm_bfs      LLM-BFS     1\n",
       "11      cancer        mpc          MPC    50\n",
       "12      cancer         nt  NOTEARS-MLP    50\n",
       "13      cancer     random       Random    50\n",
       "14       child      abapc        ABAPC    50\n",
       "15       child  abapc_llm    ABAPC-LLM    50\n",
       "16       child        fgs          FGS    50\n",
       "17       child    llm_bfs      LLM-BFS     1\n",
       "18       child        mpc          MPC    50\n",
       "19       child         nt  NOTEARS-MLP    50\n",
       "20       child     random       Random    50\n",
       "21  earthquake      abapc        ABAPC    50\n",
       "22  earthquake  abapc_llm    ABAPC-LLM    50\n",
       "23  earthquake        fgs          FGS    50\n",
       "24  earthquake    llm_bfs      LLM-BFS     1\n",
       "25  earthquake        mpc          MPC    50\n",
       "26  earthquake         nt  NOTEARS-MLP    50\n",
       "27  earthquake     random       Random    50\n",
       "28       sachs      abapc        ABAPC    50\n",
       "29       sachs  abapc_llm    ABAPC-LLM    50\n",
       "30       sachs        fgs          FGS    50\n",
       "31       sachs    llm_bfs      LLM-BFS     1\n",
       "32       sachs        mpc          MPC    50\n",
       "33       sachs         nt  NOTEARS-MLP    50\n",
       "34       sachs     random       Random    50\n",
       "35      survey      abapc        ABAPC    50\n",
       "36      survey  abapc_llm    ABAPC-LLM    50\n",
       "37      survey        fgs          FGS    50\n",
       "38      survey    llm_bfs      LLM-BFS     1\n",
       "39      survey        mpc          MPC    50\n",
       "40      survey         nt  NOTEARS-MLP    50\n",
       "41      survey     random       Random    50"
      ]
     },
     "metadata": {},
     "output_type": "display_data"
    },
    {
     "data": {
      "application/vnd.microsoft.datawrangler.viewer.v0+json": {
       "columns": [
        {
         "name": "dataset",
         "rawType": "object",
         "type": "string"
        },
        {
         "name": "ABAPC",
         "rawType": "int64",
         "type": "integer"
        },
        {
         "name": "ABAPC-LLM",
         "rawType": "int64",
         "type": "integer"
        },
        {
         "name": "FGS",
         "rawType": "int64",
         "type": "integer"
        },
        {
         "name": "LLM-BFS",
         "rawType": "int64",
         "type": "integer"
        },
        {
         "name": "MPC",
         "rawType": "int64",
         "type": "integer"
        },
        {
         "name": "NOTEARS-MLP",
         "rawType": "int64",
         "type": "integer"
        },
        {
         "name": "Random",
         "rawType": "int64",
         "type": "integer"
        }
       ],
       "ref": "608af7cd-57da-40a1-8b4e-768839cf9907",
       "rows": [
        [
         "asia",
         "50",
         "50",
         "50",
         "1",
         "50",
         "50",
         "50"
        ],
        [
         "cancer",
         "50",
         "50",
         "50",
         "1",
         "50",
         "50",
         "50"
        ],
        [
         "child",
         "50",
         "50",
         "50",
         "1",
         "50",
         "50",
         "50"
        ],
        [
         "earthquake",
         "50",
         "50",
         "50",
         "1",
         "50",
         "50",
         "50"
        ],
        [
         "sachs",
         "50",
         "50",
         "50",
         "1",
         "50",
         "50",
         "50"
        ],
        [
         "survey",
         "50",
         "50",
         "50",
         "1",
         "50",
         "50",
         "50"
        ]
       ],
       "shape": {
        "columns": 7,
        "rows": 6
       }
      },
      "text/html": [
       "<div>\n",
       "<style scoped>\n",
       "    .dataframe tbody tr th:only-of-type {\n",
       "        vertical-align: middle;\n",
       "    }\n",
       "\n",
       "    .dataframe tbody tr th {\n",
       "        vertical-align: top;\n",
       "    }\n",
       "\n",
       "    .dataframe thead th {\n",
       "        text-align: right;\n",
       "    }\n",
       "</style>\n",
       "<table border=\"1\" class=\"dataframe\">\n",
       "  <thead>\n",
       "    <tr style=\"text-align: right;\">\n",
       "      <th>model</th>\n",
       "      <th>ABAPC</th>\n",
       "      <th>ABAPC-LLM</th>\n",
       "      <th>FGS</th>\n",
       "      <th>LLM-BFS</th>\n",
       "      <th>MPC</th>\n",
       "      <th>NOTEARS-MLP</th>\n",
       "      <th>Random</th>\n",
       "    </tr>\n",
       "    <tr>\n",
       "      <th>dataset</th>\n",
       "      <th></th>\n",
       "      <th></th>\n",
       "      <th></th>\n",
       "      <th></th>\n",
       "      <th></th>\n",
       "      <th></th>\n",
       "      <th></th>\n",
       "    </tr>\n",
       "  </thead>\n",
       "  <tbody>\n",
       "    <tr>\n",
       "      <th>asia</th>\n",
       "      <td>50</td>\n",
       "      <td>50</td>\n",
       "      <td>50</td>\n",
       "      <td>1</td>\n",
       "      <td>50</td>\n",
       "      <td>50</td>\n",
       "      <td>50</td>\n",
       "    </tr>\n",
       "    <tr>\n",
       "      <th>cancer</th>\n",
       "      <td>50</td>\n",
       "      <td>50</td>\n",
       "      <td>50</td>\n",
       "      <td>1</td>\n",
       "      <td>50</td>\n",
       "      <td>50</td>\n",
       "      <td>50</td>\n",
       "    </tr>\n",
       "    <tr>\n",
       "      <th>child</th>\n",
       "      <td>50</td>\n",
       "      <td>50</td>\n",
       "      <td>50</td>\n",
       "      <td>1</td>\n",
       "      <td>50</td>\n",
       "      <td>50</td>\n",
       "      <td>50</td>\n",
       "    </tr>\n",
       "    <tr>\n",
       "      <th>earthquake</th>\n",
       "      <td>50</td>\n",
       "      <td>50</td>\n",
       "      <td>50</td>\n",
       "      <td>1</td>\n",
       "      <td>50</td>\n",
       "      <td>50</td>\n",
       "      <td>50</td>\n",
       "    </tr>\n",
       "    <tr>\n",
       "      <th>sachs</th>\n",
       "      <td>50</td>\n",
       "      <td>50</td>\n",
       "      <td>50</td>\n",
       "      <td>1</td>\n",
       "      <td>50</td>\n",
       "      <td>50</td>\n",
       "      <td>50</td>\n",
       "    </tr>\n",
       "    <tr>\n",
       "      <th>survey</th>\n",
       "      <td>50</td>\n",
       "      <td>50</td>\n",
       "      <td>50</td>\n",
       "      <td>1</td>\n",
       "      <td>50</td>\n",
       "      <td>50</td>\n",
       "      <td>50</td>\n",
       "    </tr>\n",
       "  </tbody>\n",
       "</table>\n",
       "</div>"
      ],
      "text/plain": [
       "model       ABAPC  ABAPC-LLM  FGS  LLM-BFS  MPC  NOTEARS-MLP  Random\n",
       "dataset                                                             \n",
       "asia           50         50   50        1   50           50      50\n",
       "cancer         50         50   50        1   50           50      50\n",
       "child          50         50   50        1   50           50      50\n",
       "earthquake     50         50   50        1   50           50      50\n",
       "sachs          50         50   50        1   50           50      50\n",
       "survey         50         50   50        1   50           50      50"
      ]
     },
     "metadata": {},
     "output_type": "display_data"
    }
   ],
   "source": [
    "# Count runs across VERSIONS using progress CSVs if present, else parse logs.\n",
    "# Also count ABAPC/LLM-BFS runs from CSVs, splitting ABAPC by impl.\n",
    "\n",
    "from pathlib import Path\n",
    "import pandas as pd\n",
    "import numpy as np\n",
    "import re\n",
    "\n",
    "# Uses existing: RESULTS_DIR (Path), VERSIONS (list[str]), names_dict, CSV_ABAPC, CSV_BFS\n",
    "expected_n_runs = None  # set to int to flag incomplete, e.g., 50\n",
    "\n",
    "def count_progress_dir(progress_dir: Path):\n",
    "    rx = re.compile(r'^(?P<dataset>.+?)__+(?P<method>.+?)_(?P<kind>dag|cpdag)\\.csv$')\n",
    "    dag_counts, cpdag_counts = {}, {}\n",
    "    if not progress_dir.exists():\n",
    "        return pd.DataFrame(columns=['dataset','method_key','model','dag_runs','cpdag_runs','runs'])\n",
    "    for p in progress_dir.glob('*.csv'):\n",
    "        m = rx.match(p.name)\n",
    "        if not m:\n",
    "            continue\n",
    "        key = (m.group('dataset'), m.group('method'))\n",
    "        try:\n",
    "            n = sum(1 for _ in open(p, 'r', encoding='utf-8', errors='ignore')) - 1\n",
    "            n = max(0, n)\n",
    "        except Exception:\n",
    "            n = 0\n",
    "        if m.group('kind') == 'dag':\n",
    "            dag_counts[key] = n\n",
    "        else:\n",
    "            cpdag_counts[key] = n\n",
    "    keys = sorted(set(dag_counts.keys()) | set(cpdag_counts.keys()))\n",
    "    rows = []\n",
    "    for dataset, method in keys:\n",
    "        dag_n = dag_counts.get((dataset, method), 0)\n",
    "        cpdag_n = cpdag_counts.get((dataset, method), 0)\n",
    "        runs = min(dag_n, cpdag_n) if (dag_n and cpdag_n) else max(dag_n, cpdag_n)\n",
    "        rows.append({'dataset':dataset,'method_key':method,'model':names_dict.get(method,method),\n",
    "                     'dag_runs':dag_n,'cpdag_runs':cpdag_n,'runs':runs})\n",
    "    return pd.DataFrame(rows).sort_values(['dataset','model']).reset_index(drop=True)\n",
    "\n",
    "def count_from_log(log_path: Path):\n",
    "    # Count lines like: {'dataset': 'child', 'model': 'FGS', 'elapsed': ... , ...}\n",
    "    # Two lines per run (DAG and CPDAG) => runs = floor(count/2)\n",
    "    if not log_path.exists():\n",
    "        return pd.DataFrame(columns=['dataset','method_key','model','runs'])\n",
    "    pat = re.compile(r\"\"\"\\{[^}]*'dataset'\\s*:\\s*'(?P<dataset>[^']+)'.*?'model'\\s*:\\s*'(?P<model>[^']+)'.*?'elapsed'\"\"\")\n",
    "    counts = {}\n",
    "    with open(log_path, 'r', encoding='utf-8', errors='ignore') as f:\n",
    "        for line in f:\n",
    "            m = pat.search(line)\n",
    "            if not m:\n",
    "                continue\n",
    "            key = (m.group('dataset'), m.group('model'))\n",
    "            counts[key] = counts.get(key, 0) + 1\n",
    "    rows = []\n",
    "    inverse_names = {v: k for k, v in names_dict.items()}\n",
    "    for (dataset, model_pretty), line_count in counts.items():\n",
    "        runs = line_count // 2  # two metric logs per run\n",
    "        method_key = inverse_names.get(model_pretty, model_pretty)\n",
    "        rows.append({'dataset':dataset,'method_key':method_key,'model':model_pretty,'runs':runs})\n",
    "    return pd.DataFrame(rows)\n",
    "\n",
    "def count_csv_abapc_split(csv_path: Path):\n",
    "    # Split ABAPC by impl column if present: org -> abapc, new -> abapc_llm\n",
    "    if not csv_path.exists():\n",
    "        return pd.DataFrame(columns=['dataset','method_key','model','runs'])\n",
    "    df = pd.read_csv(csv_path)\n",
    "    # Guess dataset column\n",
    "    dcol = None\n",
    "    for c in ['dataset','Dataset','data','graph','name']:\n",
    "        if c in df.columns:\n",
    "            dcol = c; break\n",
    "    if dcol is None:\n",
    "        return pd.DataFrame(columns=['dataset','method_key','model','runs'])\n",
    "    impl_col = 'impl' if 'impl' in df.columns else None\n",
    "    if impl_col:\n",
    "        impl_map = {'org':'abapc','new':'abapc_llm'}\n",
    "        df['_method_key'] = df[impl_col].map(impl_map).fillna('abapc')\n",
    "        df['_model'] = df['_method_key'].map(lambda k: names_dict.get(k, k))\n",
    "        g = df.groupby([df[dcol].astype(str),'_method_key','_model']).size().rename('runs').reset_index()\n",
    "        g.columns = ['dataset','method_key','model','runs']\n",
    "        return g\n",
    "    # fallback: count all as abapc\n",
    "    g = df.groupby(df[dcol].astype(str)).size().rename('runs').reset_index()\n",
    "    g.columns = ['dataset','runs']\n",
    "    g['method_key'] = 'abapc'\n",
    "    g['model'] = names_dict.get('abapc','abapc')\n",
    "    return g[['dataset','method_key','model','runs']]\n",
    "\n",
    "def count_csv_llm_bfs(csv_path: Path):\n",
    "    if not csv_path.exists():\n",
    "        return pd.DataFrame(columns=['dataset','method_key','model','runs'])\n",
    "    df = pd.read_csv(csv_path)\n",
    "    dcol = None\n",
    "    for c in ['dataset','Dataset','data','graph','name']:\n",
    "        if c in df.columns:\n",
    "            dcol = c; break\n",
    "    if dcol is None:\n",
    "        return pd.DataFrame(columns=['dataset','method_key','model','runs'])\n",
    "    g = df.groupby(df[dcol].astype(str)).size().rename('runs').reset_index()\n",
    "    g.columns = ['dataset','runs']\n",
    "    g['method_key'] = 'llm_bfs'\n",
    "    g['model'] = names_dict.get('llm_bfs','llm_bfs')\n",
    "    return g[['dataset','method_key','model','runs']]\n",
    "\n",
    "# Per-version counting\n",
    "counts_per_version = {}\n",
    "for v in VERSIONS:\n",
    "    pdir = RESULTS_DIR / 'progress' / v\n",
    "    dfp = count_progress_dir(pdir)\n",
    "    if dfp.empty:\n",
    "        # fallback to log parsing\n",
    "        dfl = count_from_log(RESULTS_DIR / f'log_{v}.log')\n",
    "        counts_per_version[v] = dfl\n",
    "    else:\n",
    "        counts_per_version[v] = dfp[['dataset','method_key','model','runs']]\n",
    "\n",
    "# Show per-version pivots\n",
    "for v, dfv in counts_per_version.items():\n",
    "    print(f'Version: {v}')\n",
    "    if dfv.empty:\n",
    "        display(pd.DataFrame({'note':[f'No progress CSVs or log entries found in {RESULTS_DIR} for {v}']}))\n",
    "        continue\n",
    "    piv = dfv.pivot(index='dataset', columns='model', values='runs').fillna(0).astype(int)\n",
    "    display(piv)\n",
    "\n",
    "# Combine across versions (take max per dataset/method)\n",
    "combined = (pd.concat(list(counts_per_version.values()), ignore_index=True)\n",
    "            if counts_per_version else\n",
    "            pd.DataFrame(columns=['dataset','method_key','model','runs']))\n",
    "if not combined.empty:\n",
    "    combined = (combined.groupby(['dataset','method_key','model'], as_index=False)['runs']\n",
    "                .max())\n",
    "\n",
    "# Add CSVs with split ABAPC implementations + LLM-BFS\n",
    "csv_counts = []\n",
    "csv_counts.append(count_csv_abapc_split(CSV_ABAPC))\n",
    "csv_counts.append(count_csv_llm_bfs(CSV_BFS))\n",
    "csv_counts = pd.concat(csv_counts, ignore_index=True) if csv_counts else pd.DataFrame(columns=['dataset','method_key','model','runs'])\n",
    "\n",
    "all_counts = combined\n",
    "if not csv_counts.empty:\n",
    "    all_counts = pd.concat([all_counts, csv_counts], ignore_index=True)\n",
    "\n",
    "all_counts = all_counts.sort_values(['dataset','model']).reset_index(drop=True)\n",
    "display(all_counts)\n",
    "\n",
    "# Pivot view\n",
    "pivot_all = all_counts.pivot(index='dataset', columns='model', values='runs').fillna(0).astype(int)\n",
    "display(pivot_all)\n",
    "\n",
    "# Optional incomplete flagging\n",
    "if expected_n_runs is not None and not all_counts.empty:\n",
    "    incomplete = all_counts[all_counts['runs'] < int(expected_n_runs)].copy()\n",
    "    if not incomplete.empty:\n",
    "        print(f'Incomplete (runs < {expected_n_runs}):')\n",
    "        display(incomplete.sort_values(['runs','dataset','model']))\n",
    "    else:\n",
    "        print('All dataset/model pairs reached expected_n_runs.')\n"
   ]
  },
  {
   "cell_type": "code",
   "execution_count": 6,
   "metadata": {},
   "outputs": [
    {
     "data": {
      "application/vnd.plotly.v1+json": {
       "config": {
        "plotlyServerURL": "https://plot.ly"
       },
       "data": [
        {
         "error_y": {
          "array": {
           "bdata": "ZmZmZmZm2j+4HoXrUbjWP+F6FK5H4dI/9ihcj8L1zD/A8iVZjL/CP6rx0k1iELg/",
           "dtype": "f8"
          },
          "type": "data",
          "visible": true
         },
         "marker": {
          "color": "#7f7f7f"
         },
         "name": "Random",
         "offsetgroup": "0",
         "opacity": 0.6,
         "showlegend": true,
         "type": "bar",
         "x": [
          "CANCER<br> |V|=5, |E|=4",
          "EARTHQUAKE<br> |V|=5, |E|=4",
          "SURVEY<br> |V|=6, |E|=6",
          "ASIA<br> |V|=8, |E|=8",
          "SACHS<br> |V|=11, |E|=17",
          "CHILD<br> |V|=20, |E|=25"
         ],
         "y": {
          "bdata": "ZmZmZmZm9j/NzMzMzMz2P0jhehSuR/U/UrgehetR+T99sOMWSn34P7raiv1l9/w/",
          "dtype": "f8"
         },
         "yaxis": "y"
        },
        {
         "error_y": {
          "array": {
           "bdata": "FK5H4XoUvj97FK5H4XrEP1VVVVVVVcU/pHA9CtejuD+yGH/lS7K4P+0vuycPC8U/",
           "dtype": "f8"
          },
          "type": "data",
          "visible": true
         },
         "marker": {
          "color": "#b85c00"
         },
         "name": "FGS",
         "offsetgroup": "1",
         "opacity": 0.6,
         "showlegend": true,
         "type": "bar",
         "x": [
          "CANCER<br> |V|=5, |E|=4",
          "EARTHQUAKE<br> |V|=5, |E|=4",
          "SURVEY<br> |V|=6, |E|=6",
          "ASIA<br> |V|=8, |E|=8",
          "SACHS<br> |V|=11, |E|=17",
          "CHILD<br> |V|=20, |E|=25"
         ],
         "y": {
          "bdata": "j8L1KFyP4j/2KFyPwvXkP9BpA5020PE/exSuR+F69j9rntEEOGv2Pz0K16NwPQJA",
          "dtype": "f8"
         },
         "yaxis": "y"
        },
        {
         "error_y": {
          "array": {
           "bdata": "7FG4HoXroT+4HoXrUbjSPwAAAAAAAAAAKVyPwvUoxD8SEhISEhKyP/p+arx0k7g/",
           "dtype": "f8"
          },
          "type": "data",
          "visible": true
         },
         "marker": {
          "color": "#0085CA"
         },
         "name": "NOTEARS-MLP",
         "offsetgroup": "2",
         "opacity": 0.6,
         "showlegend": true,
         "type": "bar",
         "x": [
          "CANCER<br> |V|=5, |E|=4",
          "EARTHQUAKE<br> |V|=5, |E|=4",
          "SURVEY<br> |V|=6, |E|=6",
          "ASIA<br> |V|=8, |E|=8",
          "SACHS<br> |V|=11, |E|=17",
          "CHILD<br> |V|=20, |E|=25"
         ],
         "y": {
          "bdata": "16NwPQrX7z/2KFyPwvXgPwAAAAAAAPA/uB6F61G47D+QKcNc9o/pP8RCrWneceo/",
          "dtype": "f8"
         },
         "yaxis": "y"
        },
        {
         "error_y": {
          "array": {
           "bdata": "4XoUrkfhuj/D9Shcj8LFP+UXS36x5Kc/mpmZmZmZuT+WsgxxrIu7P5GQkJCQkLA/",
           "dtype": "f8"
          },
          "type": "data",
          "visible": true
         },
         "marker": {
          "color": "#379f9f"
         },
         "name": "MPC",
         "offsetgroup": "3",
         "opacity": 0.6,
         "showlegend": true,
         "type": "bar",
         "x": [
          "CANCER<br> |V|=5, |E|=4",
          "EARTHQUAKE<br> |V|=5, |E|=4",
          "SURVEY<br> |V|=6, |E|=6",
          "ASIA<br> |V|=8, |E|=8",
          "CHILD<br> |V|=20, |E|=25",
          "SACHS<br> |V|=11, |E|=17"
         ],
         "y": {
          "bdata": "MzMzMzMz7z/D9Shcj8LFP8kvlvxiye8/hetRuB6F4z/tfD81XrrxPxKrRN53Ees/",
          "dtype": "f8"
         },
         "yaxis": "y"
        },
        {
         "error_y": {
          "array": {
           "bdata": "UWvaflMCwT8mF2zfml7SP7N1mGLVQbg/BBVQeVGgvT8t5jqEb9m8P7NGFCCNA8Y/",
           "dtype": "f8"
          },
          "type": "data",
          "visible": true
         },
         "marker": {
          "color": "#bcbd22"
         },
         "name": "ABAPC",
         "offsetgroup": "4",
         "opacity": 0.6,
         "showlegend": true,
         "type": "bar",
         "x": [
          "ASIA<br> |V|=8, |E|=8",
          "CANCER<br> |V|=5, |E|=4",
          "CHILD<br> |V|=20, |E|=25",
          "EARTHQUAKE<br> |V|=5, |E|=4",
          "SACHS<br> |V|=11, |E|=17",
          "SURVEY<br> |V|=6, |E|=6"
         ],
         "y": {
          "bdata": "PQrXo3A95D8MAiuHFtngP9hkjXqIRsc/mpmZmZmZmT9HE+CseUbTP8YlUksRpOM/",
          "dtype": "f8"
         },
         "yaxis": "y"
        },
        {
         "error_y": {
          "array": {
           "bdata": "AAAAAAAA+H8AAAAAAAD4fwAAAAAAAPh/AAAAAAAA+H8AAAAAAAD4fwAAAAAAAPh/",
           "dtype": "f8"
          },
          "type": "data",
          "visible": true
         },
         "marker": {
          "color": "#e377c2"
         },
         "name": "LLM-BFS",
         "offsetgroup": "5",
         "opacity": 0.6,
         "showlegend": true,
         "type": "bar",
         "x": [
          "ASIA<br> |V|=8, |E|=8",
          "CANCER<br> |V|=5, |E|=4",
          "CHILD<br> |V|=20, |E|=25",
          "EARTHQUAKE<br> |V|=5, |E|=4",
          "SACHS<br> |V|=11, |E|=17",
          "SURVEY<br> |V|=6, |E|=6"
         ],
         "y": {
          "bdata": "AAAAAAAA5D8AAAAAAADwP+xRuB6F6wFAAAAAAAAA8D/T0tLS0tLyPwAAAAAAAPA/",
          "dtype": "f8"
         },
         "yaxis": "y"
        },
        {
         "error_y": {
          "array": {
           "bdata": "SRekHW4Wtj+1ETC7JsjCP9isfNNvPLM/Z4XFujnKtT8jjFEnOVmzP+9W9Fzz68Q/",
           "dtype": "f8"
          },
          "type": "data",
          "visible": true
         },
         "marker": {
          "color": "#441469"
         },
         "name": "ABAPC-LLM",
         "offsetgroup": "6",
         "opacity": 0.6,
         "showlegend": true,
         "type": "bar",
         "x": [
          "ASIA<br> |V|=8, |E|=8",
          "CANCER<br> |V|=5, |E|=4",
          "CHILD<br> |V|=20, |E|=25",
          "EARTHQUAKE<br> |V|=5, |E|=4",
          "SACHS<br> |V|=11, |E|=17",
          "SURVEY<br> |V|=6, |E|=6"
         ],
         "y": {
          "bdata": "uB6F61G43D/D9Shcj8LFP/brYULf8MU/exSuR+F6lD/W6ZffwDvQP+ty+4MMleE/",
          "dtype": "f8"
         },
         "yaxis": "y"
        },
        {
         "marker": {
          "color": "white"
         },
         "name": "",
         "offsetgroup": "7",
         "opacity": 1,
         "showlegend": false,
         "type": "bar",
         "x": [
          "ASIA<br> |V|=8, |E|=8",
          "CANCER<br> |V|=5, |E|=4",
          "CHILD<br> |V|=20, |E|=25",
          "EARTHQUAKE<br> |V|=5, |E|=4",
          "SACHS<br> |V|=11, |E|=17",
          "SURVEY<br> |V|=6, |E|=6"
         ],
         "y": {
          "bdata": "AAAAAAAAAAAAAAAAAAAAAAAAAAAAAAAAAAAAAAAAAAAAAAAAAAAAAAAAAAAAAAAA",
          "dtype": "f8"
         }
        },
        {
         "error_y": {
          "array": [
           0.16,
           0.1,
           0.14,
           0.08,
           0.08,
           0.04
          ],
          "type": "data",
          "visible": true
         },
         "marker": {
          "color": "#7f7f7f"
         },
         "name": "Random",
         "offsetgroup": "8",
         "opacity": 0.6,
         "showlegend": false,
         "type": "bar",
         "x": [
          "CANCER<br> |V|=5, |E|=4",
          "EARTHQUAKE<br> |V|=5, |E|=4",
          "SURVEY<br> |V|=6, |E|=6",
          "ASIA<br> |V|=8, |E|=8",
          "SACHS<br> |V|=11, |E|=17",
          "CHILD<br> |V|=20, |E|=25"
         ],
         "y": [
          0.36,
          0.29,
          0.28,
          0.19,
          0.17,
          0.08
         ],
         "yaxis": "y2"
        },
        {
         "error_y": {
          "array": [
           0.1,
           0.03,
           0.1,
           0.04,
           0.03,
           0.05
          ],
          "type": "data",
          "visible": true
         },
         "marker": {
          "color": "#b85c00"
         },
         "name": "FGS",
         "offsetgroup": "9",
         "opacity": 0.6,
         "showlegend": false,
         "type": "bar",
         "x": [
          "CANCER<br> |V|=5, |E|=4",
          "EARTHQUAKE<br> |V|=5, |E|=4",
          "SURVEY<br> |V|=6, |E|=6",
          "ASIA<br> |V|=8, |E|=8",
          "SACHS<br> |V|=11, |E|=17",
          "CHILD<br> |V|=20, |E|=25"
         ],
         "y": [
          0.43,
          0.47,
          0.27,
          0.25,
          0.14,
          0.14
         ],
         "yaxis": "y2"
        },
        {
         "error_y": {
          "array": [
           null,
           0.27,
           null,
           0.15,
           0.1,
           0.08
          ],
          "type": "data",
          "visible": true
         },
         "marker": {
          "color": "#0085CA"
         },
         "name": "NOTEARS-MLP",
         "offsetgroup": "10",
         "opacity": 0.6,
         "showlegend": false,
         "type": "bar",
         "x": [
          "CANCER<br> |V|=5, |E|=4",
          "EARTHQUAKE<br> |V|=5, |E|=4",
          "SURVEY<br> |V|=6, |E|=6",
          "ASIA<br> |V|=8, |E|=8",
          "SACHS<br> |V|=11, |E|=17",
          "CHILD<br> |V|=20, |E|=25"
         ],
         "y": [
          0.4,
          0.5,
          null,
          0.3,
          0.3,
          0.4
         ],
         "yaxis": "y2"
        },
        {
         "error_y": {
          "array": [
           0.03,
           0.08,
           null,
           0.08,
           0.1,
           0.09
          ],
          "type": "data",
          "visible": true
         },
         "marker": {
          "color": "#379f9f"
         },
         "name": "MPC",
         "offsetgroup": "11",
         "opacity": 0.6,
         "showlegend": false,
         "type": "bar",
         "x": [
          "CANCER<br> |V|=5, |E|=4",
          "EARTHQUAKE<br> |V|=5, |E|=4",
          "SURVEY<br> |V|=6, |E|=6",
          "ASIA<br> |V|=8, |E|=8",
          "CHILD<br> |V|=20, |E|=25",
          "SACHS<br> |V|=11, |E|=17"
         ],
         "y": [
          0.48,
          0.92,
          0.36,
          0.56,
          0.28,
          0.32
         ],
         "yaxis": "y2"
        },
        {
         "error_y": {
          "array": [
           0.15137289157862874,
           0.17935158441353258,
           0.063827595115391,
           0.07343676485693702,
           0.11322174930314984,
           0.14421235918870515
          ],
          "type": "data",
          "visible": true
         },
         "marker": {
          "color": "#bcbd22"
         },
         "name": "ABAPC",
         "offsetgroup": "12",
         "opacity": 0.6,
         "showlegend": false,
         "type": "bar",
         "x": [
          "ASIA<br> |V|=8, |E|=8",
          "CANCER<br> |V|=5, |E|=4",
          "CHILD<br> |V|=20, |E|=25",
          "EARTHQUAKE<br> |V|=5, |E|=4",
          "SACHS<br> |V|=11, |E|=17",
          "SURVEY<br> |V|=6, |E|=6"
         ],
         "y": [
          0.47337966666666664,
          0.6035856976744186,
          0.8463485,
          0.985556,
          0.7143952,
          0.45313183333333334
         ],
         "yaxis": "y2"
        },
        {
         "error_y": {
          "array": [
           null,
           null,
           null,
           null,
           null,
           null
          ],
          "type": "data",
          "visible": true
         },
         "marker": {
          "color": "#e377c2"
         },
         "name": "LLM-BFS",
         "offsetgroup": "13",
         "opacity": 0.6,
         "showlegend": false,
         "type": "bar",
         "x": [
          "ASIA<br> |V|=8, |E|=8",
          "CANCER<br> |V|=5, |E|=4",
          "CHILD<br> |V|=20, |E|=25",
          "EARTHQUAKE<br> |V|=5, |E|=4",
          "SACHS<br> |V|=11, |E|=17",
          "SURVEY<br> |V|=6, |E|=6"
         ],
         "y": [
          0.7619,
          0.6667,
          0.3448,
          0.6667,
          0.303,
          0.6667
         ],
         "yaxis": "y2"
        },
        {
         "error_y": {
          "array": [
           0.06667024989009838,
           0.09069821007166617,
           0.046310373419749536,
           0.04108899331242581,
           0.07203414443108468,
           0.14734251283313263
          ],
          "type": "data",
          "visible": true
         },
         "marker": {
          "color": "#441469"
         },
         "name": "ABAPC-LLM",
         "offsetgroup": "14",
         "opacity": 0.6,
         "showlegend": false,
         "type": "bar",
         "x": [
          "ASIA<br> |V|=8, |E|=8",
          "CANCER<br> |V|=5, |E|=4",
          "CHILD<br> |V|=20, |E|=25",
          "EARTHQUAKE<br> |V|=5, |E|=4",
          "SACHS<br> |V|=11, |E|=17",
          "SURVEY<br> |V|=6, |E|=6"
         ],
         "y": [
          0.709482,
          0.9006139999999999,
          0.8606083999999999,
          0.990556,
          0.7552356,
          0.517209
         ],
         "yaxis": "y2"
        }
       ],
       "layout": {
        "annotations": [
         {
          "font": {
           "color": "black",
           "size": 23
          },
          "showarrow": false,
          "text": "         NSHD         ",
          "x": 0.043750000000000004,
          "xanchor": "center",
          "xref": "x domain",
          "y": 1.07,
          "yanchor": "middle",
          "yref": "y domain"
         },
         {
          "font": {
           "color": "black",
           "size": 23
          },
          "showarrow": false,
          "text": "           F1           ",
          "x": 0.12291666666666667,
          "xanchor": "center",
          "xref": "x domain",
          "y": 1.07,
          "yanchor": "middle",
          "yref": "y domain"
         },
         {
          "font": {
           "color": "black",
           "size": 23
          },
          "showarrow": false,
          "text": "         NSHD         ",
          "x": 0.21041666666666664,
          "xanchor": "center",
          "xref": "x domain",
          "y": 1.07,
          "yanchor": "middle",
          "yref": "y domain"
         },
         {
          "font": {
           "color": "black",
           "size": 23
          },
          "showarrow": false,
          "text": "           F1           ",
          "x": 0.2895833333333333,
          "xanchor": "center",
          "xref": "x domain",
          "y": 1.07,
          "yanchor": "middle",
          "yref": "y domain"
         },
         {
          "font": {
           "color": "black",
           "size": 23
          },
          "showarrow": false,
          "text": "         NSHD         ",
          "x": 0.3770833333333333,
          "xanchor": "center",
          "xref": "x domain",
          "y": 1.07,
          "yanchor": "middle",
          "yref": "y domain"
         },
         {
          "font": {
           "color": "black",
           "size": 23
          },
          "showarrow": false,
          "text": "           F1           ",
          "x": 0.45625,
          "xanchor": "center",
          "xref": "x domain",
          "y": 1.07,
          "yanchor": "middle",
          "yref": "y domain"
         },
         {
          "font": {
           "color": "black",
           "size": 23
          },
          "showarrow": false,
          "text": "         NSHD         ",
          "x": 0.54375,
          "xanchor": "center",
          "xref": "x domain",
          "y": 1.07,
          "yanchor": "middle",
          "yref": "y domain"
         },
         {
          "font": {
           "color": "black",
           "size": 23
          },
          "showarrow": false,
          "text": "           F1           ",
          "x": 0.6229166666666667,
          "xanchor": "center",
          "xref": "x domain",
          "y": 1.07,
          "yanchor": "middle",
          "yref": "y domain"
         },
         {
          "font": {
           "color": "black",
           "size": 23
          },
          "showarrow": false,
          "text": "         NSHD         ",
          "x": 0.7104166666666666,
          "xanchor": "center",
          "xref": "x domain",
          "y": 1.07,
          "yanchor": "middle",
          "yref": "y domain"
         },
         {
          "font": {
           "color": "black",
           "size": 23
          },
          "showarrow": false,
          "text": "           F1           ",
          "x": 0.7895833333333332,
          "xanchor": "center",
          "xref": "x domain",
          "y": 1.07,
          "yanchor": "middle",
          "yref": "y domain"
         },
         {
          "font": {
           "color": "black",
           "size": 23
          },
          "showarrow": false,
          "text": "         NSHD         ",
          "x": 0.8770833333333332,
          "xanchor": "center",
          "xref": "x domain",
          "y": 1.07,
          "yanchor": "middle",
          "yref": "y domain"
         },
         {
          "font": {
           "color": "black",
           "size": 23
          },
          "showarrow": false,
          "text": "           F1           ",
          "x": 0.9562499999999999,
          "xanchor": "center",
          "xref": "x domain",
          "y": 1.07,
          "yanchor": "middle",
          "yref": "y domain"
         }
        ],
        "bargap": 0.08,
        "bargroupgap": 0.05,
        "barmode": "group",
        "font": {
         "color": "black",
         "family": "Serif",
         "size": 23
        },
        "height": 700,
        "hovermode": "x unified",
        "legend": {
         "orientation": "h",
         "x": 0.5,
         "xanchor": "center",
         "y": 1.23,
         "yanchor": "top"
        },
        "margin": {
         "b": 70,
         "l": 40,
         "r": 40,
         "t": 80
        },
        "shapes": [
         {
          "fillcolor": "#E5ECF6",
          "layer": "below",
          "line": {
           "color": "#E5ECF6",
           "width": 2
          },
          "type": "rect",
          "x0": 0.0075000000000000015,
          "x1": 0.08,
          "xref": "x domain",
          "y0": 1.04,
          "y1": 1.1,
          "yref": "y domain"
         },
         {
          "fillcolor": "#E5ECF6",
          "layer": "below",
          "line": {
           "color": "#E5ECF6",
           "width": 2
          },
          "type": "rect",
          "x0": 0.08666666666666667,
          "x1": 0.15916666666666668,
          "xref": "x domain",
          "y0": 1.04,
          "y1": 1.1,
          "yref": "y domain"
         },
         {
          "fillcolor": "#E5ECF6",
          "layer": "below",
          "line": {
           "color": "#E5ECF6",
           "width": 2
          },
          "type": "rect",
          "x0": 0.17416666666666664,
          "x1": 0.24666666666666665,
          "xref": "x domain",
          "y0": 1.04,
          "y1": 1.1,
          "yref": "y domain"
         },
         {
          "fillcolor": "#E5ECF6",
          "layer": "below",
          "line": {
           "color": "#E5ECF6",
           "width": 2
          },
          "type": "rect",
          "x0": 0.2533333333333333,
          "x1": 0.3258333333333333,
          "xref": "x domain",
          "y0": 1.04,
          "y1": 1.1,
          "yref": "y domain"
         },
         {
          "fillcolor": "#E5ECF6",
          "layer": "below",
          "line": {
           "color": "#E5ECF6",
           "width": 2
          },
          "type": "rect",
          "x0": 0.3408333333333333,
          "x1": 0.41333333333333333,
          "xref": "x domain",
          "y0": 1.04,
          "y1": 1.1,
          "yref": "y domain"
         },
         {
          "fillcolor": "#E5ECF6",
          "layer": "below",
          "line": {
           "color": "#E5ECF6",
           "width": 2
          },
          "type": "rect",
          "x0": 0.42,
          "x1": 0.4925,
          "xref": "x domain",
          "y0": 1.04,
          "y1": 1.1,
          "yref": "y domain"
         },
         {
          "fillcolor": "#E5ECF6",
          "layer": "below",
          "line": {
           "color": "#E5ECF6",
           "width": 2
          },
          "type": "rect",
          "x0": 0.5075,
          "x1": 0.58,
          "xref": "x domain",
          "y0": 1.04,
          "y1": 1.1,
          "yref": "y domain"
         },
         {
          "fillcolor": "#E5ECF6",
          "layer": "below",
          "line": {
           "color": "#E5ECF6",
           "width": 2
          },
          "type": "rect",
          "x0": 0.5866666666666667,
          "x1": 0.6591666666666667,
          "xref": "x domain",
          "y0": 1.04,
          "y1": 1.1,
          "yref": "y domain"
         },
         {
          "fillcolor": "#E5ECF6",
          "layer": "below",
          "line": {
           "color": "#E5ECF6",
           "width": 2
          },
          "type": "rect",
          "x0": 0.6741666666666666,
          "x1": 0.7466666666666666,
          "xref": "x domain",
          "y0": 1.04,
          "y1": 1.1,
          "yref": "y domain"
         },
         {
          "fillcolor": "#E5ECF6",
          "layer": "below",
          "line": {
           "color": "#E5ECF6",
           "width": 2
          },
          "type": "rect",
          "x0": 0.7533333333333332,
          "x1": 0.8258333333333332,
          "xref": "x domain",
          "y0": 1.04,
          "y1": 1.1,
          "yref": "y domain"
         },
         {
          "fillcolor": "#E5ECF6",
          "layer": "below",
          "line": {
           "color": "#E5ECF6",
           "width": 2
          },
          "type": "rect",
          "x0": 0.8408333333333332,
          "x1": 0.9133333333333332,
          "xref": "x domain",
          "y0": 1.04,
          "y1": 1.1,
          "yref": "y domain"
         },
         {
          "fillcolor": "#E5ECF6",
          "layer": "below",
          "line": {
           "color": "#E5ECF6",
           "width": 2
          },
          "type": "rect",
          "x0": 0.9199999999999999,
          "x1": 0.9924999999999999,
          "xref": "x domain",
          "y0": 1.04,
          "y1": 1.1,
          "yref": "y domain"
         }
        ],
        "template": {
         "data": {
          "bar": [
           {
            "error_x": {
             "color": "#2a3f5f"
            },
            "error_y": {
             "color": "#2a3f5f"
            },
            "marker": {
             "line": {
              "color": "white",
              "width": 0.5
             },
             "pattern": {
              "fillmode": "overlay",
              "size": 10,
              "solidity": 0.2
             }
            },
            "type": "bar"
           }
          ],
          "barpolar": [
           {
            "marker": {
             "line": {
              "color": "white",
              "width": 0.5
             },
             "pattern": {
              "fillmode": "overlay",
              "size": 10,
              "solidity": 0.2
             }
            },
            "type": "barpolar"
           }
          ],
          "carpet": [
           {
            "aaxis": {
             "endlinecolor": "#2a3f5f",
             "gridcolor": "#C8D4E3",
             "linecolor": "#C8D4E3",
             "minorgridcolor": "#C8D4E3",
             "startlinecolor": "#2a3f5f"
            },
            "baxis": {
             "endlinecolor": "#2a3f5f",
             "gridcolor": "#C8D4E3",
             "linecolor": "#C8D4E3",
             "minorgridcolor": "#C8D4E3",
             "startlinecolor": "#2a3f5f"
            },
            "type": "carpet"
           }
          ],
          "choropleth": [
           {
            "colorbar": {
             "outlinewidth": 0,
             "ticks": ""
            },
            "type": "choropleth"
           }
          ],
          "contour": [
           {
            "colorbar": {
             "outlinewidth": 0,
             "ticks": ""
            },
            "colorscale": [
             [
              0,
              "#0d0887"
             ],
             [
              0.1111111111111111,
              "#46039f"
             ],
             [
              0.2222222222222222,
              "#7201a8"
             ],
             [
              0.3333333333333333,
              "#9c179e"
             ],
             [
              0.4444444444444444,
              "#bd3786"
             ],
             [
              0.5555555555555556,
              "#d8576b"
             ],
             [
              0.6666666666666666,
              "#ed7953"
             ],
             [
              0.7777777777777778,
              "#fb9f3a"
             ],
             [
              0.8888888888888888,
              "#fdca26"
             ],
             [
              1,
              "#f0f921"
             ]
            ],
            "type": "contour"
           }
          ],
          "contourcarpet": [
           {
            "colorbar": {
             "outlinewidth": 0,
             "ticks": ""
            },
            "type": "contourcarpet"
           }
          ],
          "heatmap": [
           {
            "colorbar": {
             "outlinewidth": 0,
             "ticks": ""
            },
            "colorscale": [
             [
              0,
              "#0d0887"
             ],
             [
              0.1111111111111111,
              "#46039f"
             ],
             [
              0.2222222222222222,
              "#7201a8"
             ],
             [
              0.3333333333333333,
              "#9c179e"
             ],
             [
              0.4444444444444444,
              "#bd3786"
             ],
             [
              0.5555555555555556,
              "#d8576b"
             ],
             [
              0.6666666666666666,
              "#ed7953"
             ],
             [
              0.7777777777777778,
              "#fb9f3a"
             ],
             [
              0.8888888888888888,
              "#fdca26"
             ],
             [
              1,
              "#f0f921"
             ]
            ],
            "type": "heatmap"
           }
          ],
          "histogram": [
           {
            "marker": {
             "pattern": {
              "fillmode": "overlay",
              "size": 10,
              "solidity": 0.2
             }
            },
            "type": "histogram"
           }
          ],
          "histogram2d": [
           {
            "colorbar": {
             "outlinewidth": 0,
             "ticks": ""
            },
            "colorscale": [
             [
              0,
              "#0d0887"
             ],
             [
              0.1111111111111111,
              "#46039f"
             ],
             [
              0.2222222222222222,
              "#7201a8"
             ],
             [
              0.3333333333333333,
              "#9c179e"
             ],
             [
              0.4444444444444444,
              "#bd3786"
             ],
             [
              0.5555555555555556,
              "#d8576b"
             ],
             [
              0.6666666666666666,
              "#ed7953"
             ],
             [
              0.7777777777777778,
              "#fb9f3a"
             ],
             [
              0.8888888888888888,
              "#fdca26"
             ],
             [
              1,
              "#f0f921"
             ]
            ],
            "type": "histogram2d"
           }
          ],
          "histogram2dcontour": [
           {
            "colorbar": {
             "outlinewidth": 0,
             "ticks": ""
            },
            "colorscale": [
             [
              0,
              "#0d0887"
             ],
             [
              0.1111111111111111,
              "#46039f"
             ],
             [
              0.2222222222222222,
              "#7201a8"
             ],
             [
              0.3333333333333333,
              "#9c179e"
             ],
             [
              0.4444444444444444,
              "#bd3786"
             ],
             [
              0.5555555555555556,
              "#d8576b"
             ],
             [
              0.6666666666666666,
              "#ed7953"
             ],
             [
              0.7777777777777778,
              "#fb9f3a"
             ],
             [
              0.8888888888888888,
              "#fdca26"
             ],
             [
              1,
              "#f0f921"
             ]
            ],
            "type": "histogram2dcontour"
           }
          ],
          "mesh3d": [
           {
            "colorbar": {
             "outlinewidth": 0,
             "ticks": ""
            },
            "type": "mesh3d"
           }
          ],
          "parcoords": [
           {
            "line": {
             "colorbar": {
              "outlinewidth": 0,
              "ticks": ""
             }
            },
            "type": "parcoords"
           }
          ],
          "pie": [
           {
            "automargin": true,
            "type": "pie"
           }
          ],
          "scatter": [
           {
            "fillpattern": {
             "fillmode": "overlay",
             "size": 10,
             "solidity": 0.2
            },
            "type": "scatter"
           }
          ],
          "scatter3d": [
           {
            "line": {
             "colorbar": {
              "outlinewidth": 0,
              "ticks": ""
             }
            },
            "marker": {
             "colorbar": {
              "outlinewidth": 0,
              "ticks": ""
             }
            },
            "type": "scatter3d"
           }
          ],
          "scattercarpet": [
           {
            "marker": {
             "colorbar": {
              "outlinewidth": 0,
              "ticks": ""
             }
            },
            "type": "scattercarpet"
           }
          ],
          "scattergeo": [
           {
            "marker": {
             "colorbar": {
              "outlinewidth": 0,
              "ticks": ""
             }
            },
            "type": "scattergeo"
           }
          ],
          "scattergl": [
           {
            "marker": {
             "colorbar": {
              "outlinewidth": 0,
              "ticks": ""
             }
            },
            "type": "scattergl"
           }
          ],
          "scattermap": [
           {
            "marker": {
             "colorbar": {
              "outlinewidth": 0,
              "ticks": ""
             }
            },
            "type": "scattermap"
           }
          ],
          "scattermapbox": [
           {
            "marker": {
             "colorbar": {
              "outlinewidth": 0,
              "ticks": ""
             }
            },
            "type": "scattermapbox"
           }
          ],
          "scatterpolar": [
           {
            "marker": {
             "colorbar": {
              "outlinewidth": 0,
              "ticks": ""
             }
            },
            "type": "scatterpolar"
           }
          ],
          "scatterpolargl": [
           {
            "marker": {
             "colorbar": {
              "outlinewidth": 0,
              "ticks": ""
             }
            },
            "type": "scatterpolargl"
           }
          ],
          "scatterternary": [
           {
            "marker": {
             "colorbar": {
              "outlinewidth": 0,
              "ticks": ""
             }
            },
            "type": "scatterternary"
           }
          ],
          "surface": [
           {
            "colorbar": {
             "outlinewidth": 0,
             "ticks": ""
            },
            "colorscale": [
             [
              0,
              "#0d0887"
             ],
             [
              0.1111111111111111,
              "#46039f"
             ],
             [
              0.2222222222222222,
              "#7201a8"
             ],
             [
              0.3333333333333333,
              "#9c179e"
             ],
             [
              0.4444444444444444,
              "#bd3786"
             ],
             [
              0.5555555555555556,
              "#d8576b"
             ],
             [
              0.6666666666666666,
              "#ed7953"
             ],
             [
              0.7777777777777778,
              "#fb9f3a"
             ],
             [
              0.8888888888888888,
              "#fdca26"
             ],
             [
              1,
              "#f0f921"
             ]
            ],
            "type": "surface"
           }
          ],
          "table": [
           {
            "cells": {
             "fill": {
              "color": "#EBF0F8"
             },
             "line": {
              "color": "white"
             }
            },
            "header": {
             "fill": {
              "color": "#C8D4E3"
             },
             "line": {
              "color": "white"
             }
            },
            "type": "table"
           }
          ]
         },
         "layout": {
          "annotationdefaults": {
           "arrowcolor": "#2a3f5f",
           "arrowhead": 0,
           "arrowwidth": 1
          },
          "autotypenumbers": "strict",
          "coloraxis": {
           "colorbar": {
            "outlinewidth": 0,
            "ticks": ""
           }
          },
          "colorscale": {
           "diverging": [
            [
             0,
             "#8e0152"
            ],
            [
             0.1,
             "#c51b7d"
            ],
            [
             0.2,
             "#de77ae"
            ],
            [
             0.3,
             "#f1b6da"
            ],
            [
             0.4,
             "#fde0ef"
            ],
            [
             0.5,
             "#f7f7f7"
            ],
            [
             0.6,
             "#e6f5d0"
            ],
            [
             0.7,
             "#b8e186"
            ],
            [
             0.8,
             "#7fbc41"
            ],
            [
             0.9,
             "#4d9221"
            ],
            [
             1,
             "#276419"
            ]
           ],
           "sequential": [
            [
             0,
             "#0d0887"
            ],
            [
             0.1111111111111111,
             "#46039f"
            ],
            [
             0.2222222222222222,
             "#7201a8"
            ],
            [
             0.3333333333333333,
             "#9c179e"
            ],
            [
             0.4444444444444444,
             "#bd3786"
            ],
            [
             0.5555555555555556,
             "#d8576b"
            ],
            [
             0.6666666666666666,
             "#ed7953"
            ],
            [
             0.7777777777777778,
             "#fb9f3a"
            ],
            [
             0.8888888888888888,
             "#fdca26"
            ],
            [
             1,
             "#f0f921"
            ]
           ],
           "sequentialminus": [
            [
             0,
             "#0d0887"
            ],
            [
             0.1111111111111111,
             "#46039f"
            ],
            [
             0.2222222222222222,
             "#7201a8"
            ],
            [
             0.3333333333333333,
             "#9c179e"
            ],
            [
             0.4444444444444444,
             "#bd3786"
            ],
            [
             0.5555555555555556,
             "#d8576b"
            ],
            [
             0.6666666666666666,
             "#ed7953"
            ],
            [
             0.7777777777777778,
             "#fb9f3a"
            ],
            [
             0.8888888888888888,
             "#fdca26"
            ],
            [
             1,
             "#f0f921"
            ]
           ]
          },
          "colorway": [
           "#636efa",
           "#EF553B",
           "#00cc96",
           "#ab63fa",
           "#FFA15A",
           "#19d3f3",
           "#FF6692",
           "#B6E880",
           "#FF97FF",
           "#FECB52"
          ],
          "font": {
           "color": "#2a3f5f"
          },
          "geo": {
           "bgcolor": "white",
           "lakecolor": "white",
           "landcolor": "white",
           "showlakes": true,
           "showland": true,
           "subunitcolor": "#C8D4E3"
          },
          "hoverlabel": {
           "align": "left"
          },
          "hovermode": "closest",
          "mapbox": {
           "style": "light"
          },
          "paper_bgcolor": "white",
          "plot_bgcolor": "white",
          "polar": {
           "angularaxis": {
            "gridcolor": "#EBF0F8",
            "linecolor": "#EBF0F8",
            "ticks": ""
           },
           "bgcolor": "white",
           "radialaxis": {
            "gridcolor": "#EBF0F8",
            "linecolor": "#EBF0F8",
            "ticks": ""
           }
          },
          "scene": {
           "xaxis": {
            "backgroundcolor": "white",
            "gridcolor": "#DFE8F3",
            "gridwidth": 2,
            "linecolor": "#EBF0F8",
            "showbackground": true,
            "ticks": "",
            "zerolinecolor": "#EBF0F8"
           },
           "yaxis": {
            "backgroundcolor": "white",
            "gridcolor": "#DFE8F3",
            "gridwidth": 2,
            "linecolor": "#EBF0F8",
            "showbackground": true,
            "ticks": "",
            "zerolinecolor": "#EBF0F8"
           },
           "zaxis": {
            "backgroundcolor": "white",
            "gridcolor": "#DFE8F3",
            "gridwidth": 2,
            "linecolor": "#EBF0F8",
            "showbackground": true,
            "ticks": "",
            "zerolinecolor": "#EBF0F8"
           }
          },
          "shapedefaults": {
           "line": {
            "color": "#2a3f5f"
           }
          },
          "ternary": {
           "aaxis": {
            "gridcolor": "#DFE8F3",
            "linecolor": "#A2B1C6",
            "ticks": ""
           },
           "baxis": {
            "gridcolor": "#DFE8F3",
            "linecolor": "#A2B1C6",
            "ticks": ""
           },
           "bgcolor": "white",
           "caxis": {
            "gridcolor": "#DFE8F3",
            "linecolor": "#A2B1C6",
            "ticks": ""
           }
          },
          "title": {
           "x": 0.05
          },
          "xaxis": {
           "automargin": true,
           "gridcolor": "#EBF0F8",
           "linecolor": "#EBF0F8",
           "ticks": "",
           "title": {
            "standoff": 15
           },
           "zerolinecolor": "#EBF0F8",
           "zerolinewidth": 2
          },
          "yaxis": {
           "automargin": true,
           "gridcolor": "#EBF0F8",
           "linecolor": "#EBF0F8",
           "ticks": "",
           "title": {
            "standoff": 15
           },
           "zerolinecolor": "#EBF0F8",
           "zerolinewidth": 2
          }
         }
        },
        "width": 1600,
        "xaxis": {
         "anchor": "y",
         "domain": [
          0,
          0.94
         ]
        },
        "yaxis": {
         "anchor": "x",
         "domain": [
          0,
          1
         ],
         "range": [
          0,
          2.6
         ],
         "title": {
          "font": {
           "size": 23
          },
          "text": "Normalised SHD"
         }
        },
        "yaxis2": {
         "anchor": "x",
         "overlaying": "y",
         "scaleanchor": 0,
         "showgrid": false,
         "showline": false,
         "showticklabels": true,
         "side": "right",
         "title": {
          "font": {
           "size": 23
          },
          "text": "F1"
         },
         "zeroline": true
        }
       }
      }
     },
     "metadata": {},
     "output_type": "display_data"
    },
    {
     "data": {
      "application/vnd.plotly.v1+json": {
       "config": {
        "plotlyServerURL": "https://plot.ly"
       },
       "data": [
        {
         "error_y": {
          "array": {
           "bdata": "mpmZmZmZ8T9mZmZmZmbsPylcj8L1KPA/w/UoXI/C7z8Z5rJ/TBnWPzJ3LSEf9Ow/",
           "dtype": "f8"
          },
          "type": "data",
          "visible": true
         },
         "marker": {
          "color": "#7f7f7f"
         },
         "name": "Random",
         "opacity": 0.6,
         "type": "bar",
         "x": [
          "CANCER<br> |V|=5, |E|=4",
          "EARTHQUAKE<br> |V|=5, |E|=4",
          "SURVEY<br> |V|=6, |E|=6",
          "ASIA<br> |V|=8, |E|=8",
          "SACHS<br> |V|=11, |E|=17",
          "CHILD<br> |V|=20, |E|=25"
         ],
         "y": {
          "bdata": "hetRuB6FBkAfhetRuB4FQGPJL5b8YgdAXI/C9ShcDkC4t7e3t7cHQLaEfNCzWShA",
          "dtype": "f8"
         }
        },
        {
         "error_y": {
          "array": {
           "bdata": "FK5H4XoU3j+4HoXrUbiuP6HTBjptoOM/PQrXo3A91j/9/Pz8/PzMP2iR7Xw/NfI/",
           "dtype": "f8"
          },
          "type": "data",
          "visible": true
         },
         "marker": {
          "color": "#b85c00"
         },
         "name": "FGS",
         "opacity": 0.6,
         "type": "bar",
         "x": [
          "CANCER<br> |V|=5, |E|=4",
          "EARTHQUAKE<br> |V|=5, |E|=4",
          "SURVEY<br> |V|=6, |E|=6",
          "ASIA<br> |V|=8, |E|=8",
          "SACHS<br> |V|=11, |E|=17",
          "CHILD<br> |V|=20, |E|=25"
         ],
         "y": {
          "bdata": "j8L1KFyPBkDhehSuR+EDQAOdNtBpAwNAFK5H4XoUE0Dr6urq6uoGQCPb+X5qvCVA",
          "dtype": "f8"
         }
        },
        {
         "error_y": {
          "array": {
           "bdata": "16NwPQrXwz+F61G4HoX1PwAAAAAAAAAAAAAAAAAA8D/jSK8VfOLYP33Qs1n1ufI/",
           "dtype": "f8"
          },
          "type": "data",
          "visible": true
         },
         "marker": {
          "color": "#0085CA"
         },
         "name": "NOTEARS-MLP",
         "opacity": 0.6,
         "type": "bar",
         "x": [
          "CANCER<br> |V|=5, |E|=4",
          "EARTHQUAKE<br> |V|=5, |E|=4",
          "SURVEY<br> |V|=6, |E|=6",
          "ASIA<br> |V|=8, |E|=8",
          "SACHS<br> |V|=11, |E|=17",
          "CHILD<br> |V|=20, |E|=25"
         ],
         "y": {
          "bdata": "9ihcj8L1A0CF61G4HoUDQKuqqqqqqgZAAAAAAAAAEECkcD0K16MIQKpgVFInoCFA",
          "dtype": "f8"
         }
        },
        {
         "error_y": {
          "array": {
           "bdata": "j8L1KFyP1j+amZmZmZm5P+tRuB6F67E/exSuR+F62j/Mf0i/fR34PzmgBm3TOeA/",
           "dtype": "f8"
          },
          "type": "data",
          "visible": true
         },
         "marker": {
          "color": "#379f9f"
         },
         "name": "MPC",
         "opacity": 0.6,
         "type": "bar",
         "x": [
          "CANCER<br> |V|=5, |E|=4",
          "EARTHQUAKE<br> |V|=5, |E|=4",
          "SURVEY<br> |V|=6, |E|=6",
          "ASIA<br> |V|=8, |E|=8",
          "CHILD<br> |V|=20, |E|=25",
          "SACHS<br> |V|=11, |E|=17"
         ],
         "y": {
          "bdata": "ZmZmZmZmBEB7FK5H4XqUP79Y8oslvwZA4XoUrkfh/z+GONbFbTQmQO7t7e3t7QVA",
          "dtype": "f8"
         }
        },
        {
         "error_y": {
          "array": {
           "bdata": "NafKbE+d6j/z9oTAS/fxPyW7aLmLSvU/8AA/hWdq3T/xXqVteKfjP3CdV3YDiOU/",
           "dtype": "f8"
          },
          "type": "data",
          "visible": true
         },
         "marker": {
          "color": "#bcbd22"
         },
         "name": "ABAPC",
         "opacity": 0.6,
         "type": "bar",
         "x": [
          "ASIA<br> |V|=8, |E|=8",
          "CANCER<br> |V|=5, |E|=4",
          "CHILD<br> |V|=20, |E|=25",
          "EARTHQUAKE<br> |V|=5, |E|=4",
          "SACHS<br> |V|=11, |E|=17",
          "SURVEY<br> |V|=6, |E|=6"
         ],
         "y": {
          "bdata": "5RdLfrHkCUCkcD0K1yMAQFF49oI8qAdApHA9CtejsD8UR3qt4BP3P1tp3bf4HwVA",
          "dtype": "f8"
         }
        },
        {
         "error_y": {
          "array": {
           "bdata": "AAAAAAAA+H8AAAAAAAD4fwAAAAAAAPh/AAAAAAAA+H8AAAAAAAD4fwAAAAAAAPh/",
           "dtype": "f8"
          },
          "type": "data",
          "visible": true
         },
         "marker": {
          "color": "#e377c2"
         },
         "name": "LLM-BFS",
         "opacity": 0.6,
         "type": "bar",
         "x": [
          "ASIA<br> |V|=8, |E|=8",
          "CANCER<br> |V|=5, |E|=4",
          "CHILD<br> |V|=20, |E|=25",
          "EARTHQUAKE<br> |V|=5, |E|=4",
          "SACHS<br> |V|=11, |E|=17",
          "SURVEY<br> |V|=6, |E|=6"
         ],
         "y": {
          "bdata": "AAAAAAAAAAAAAAAAAAAAAD0K16NwPRJAAAAAAAAAAACIh4eHh4cHQAAAAAAAAAAA",
          "dtype": "f8"
         }
        },
        {
         "error_y": {
          "array": {
           "bdata": "G9Wdi6c90j+WNmD83S/VP20tNwfQZu4/CWP/URgawj80Rdtj5DvaP5vUP/VQoeQ/",
           "dtype": "f8"
          },
          "type": "data",
          "visible": true
         },
         "marker": {
          "color": "#441469"
         },
         "name": "ABAPC-LLM",
         "opacity": 0.6,
         "type": "bar",
         "x": [
          "ASIA<br> |V|=8, |E|=8",
          "CANCER<br> |V|=5, |E|=4",
          "CHILD<br> |V|=20, |E|=25",
          "EARTHQUAKE<br> |V|=5, |E|=4",
          "SACHS<br> |V|=11, |E|=17",
          "SURVEY<br> |V|=6, |E|=6"
         ],
         "y": {
          "bdata": "hetRuB4F/z+4HoXrUbjOP7OgHV2S8AZAexSuR+F6lD8Tb/7Att/zP008KxoJ+AFA",
          "dtype": "f8"
         }
        }
       ],
       "layout": {
        "bargap": 0.15,
        "bargroupgap": 0.1,
        "barmode": "group",
        "font": {
         "color": "black",
         "family": "Serif",
         "size": 23
        },
        "height": 700,
        "hovermode": "x unified",
        "legend": {
         "orientation": "h",
         "x": 0.5,
         "xanchor": "center",
         "y": 1,
         "yanchor": "top"
        },
        "margin": {
         "b": 80,
         "l": 40,
         "r": 40,
         "t": 20
        },
        "template": {
         "data": {
          "bar": [
           {
            "error_x": {
             "color": "#2a3f5f"
            },
            "error_y": {
             "color": "#2a3f5f"
            },
            "marker": {
             "line": {
              "color": "white",
              "width": 0.5
             },
             "pattern": {
              "fillmode": "overlay",
              "size": 10,
              "solidity": 0.2
             }
            },
            "type": "bar"
           }
          ],
          "barpolar": [
           {
            "marker": {
             "line": {
              "color": "white",
              "width": 0.5
             },
             "pattern": {
              "fillmode": "overlay",
              "size": 10,
              "solidity": 0.2
             }
            },
            "type": "barpolar"
           }
          ],
          "carpet": [
           {
            "aaxis": {
             "endlinecolor": "#2a3f5f",
             "gridcolor": "#C8D4E3",
             "linecolor": "#C8D4E3",
             "minorgridcolor": "#C8D4E3",
             "startlinecolor": "#2a3f5f"
            },
            "baxis": {
             "endlinecolor": "#2a3f5f",
             "gridcolor": "#C8D4E3",
             "linecolor": "#C8D4E3",
             "minorgridcolor": "#C8D4E3",
             "startlinecolor": "#2a3f5f"
            },
            "type": "carpet"
           }
          ],
          "choropleth": [
           {
            "colorbar": {
             "outlinewidth": 0,
             "ticks": ""
            },
            "type": "choropleth"
           }
          ],
          "contour": [
           {
            "colorbar": {
             "outlinewidth": 0,
             "ticks": ""
            },
            "colorscale": [
             [
              0,
              "#0d0887"
             ],
             [
              0.1111111111111111,
              "#46039f"
             ],
             [
              0.2222222222222222,
              "#7201a8"
             ],
             [
              0.3333333333333333,
              "#9c179e"
             ],
             [
              0.4444444444444444,
              "#bd3786"
             ],
             [
              0.5555555555555556,
              "#d8576b"
             ],
             [
              0.6666666666666666,
              "#ed7953"
             ],
             [
              0.7777777777777778,
              "#fb9f3a"
             ],
             [
              0.8888888888888888,
              "#fdca26"
             ],
             [
              1,
              "#f0f921"
             ]
            ],
            "type": "contour"
           }
          ],
          "contourcarpet": [
           {
            "colorbar": {
             "outlinewidth": 0,
             "ticks": ""
            },
            "type": "contourcarpet"
           }
          ],
          "heatmap": [
           {
            "colorbar": {
             "outlinewidth": 0,
             "ticks": ""
            },
            "colorscale": [
             [
              0,
              "#0d0887"
             ],
             [
              0.1111111111111111,
              "#46039f"
             ],
             [
              0.2222222222222222,
              "#7201a8"
             ],
             [
              0.3333333333333333,
              "#9c179e"
             ],
             [
              0.4444444444444444,
              "#bd3786"
             ],
             [
              0.5555555555555556,
              "#d8576b"
             ],
             [
              0.6666666666666666,
              "#ed7953"
             ],
             [
              0.7777777777777778,
              "#fb9f3a"
             ],
             [
              0.8888888888888888,
              "#fdca26"
             ],
             [
              1,
              "#f0f921"
             ]
            ],
            "type": "heatmap"
           }
          ],
          "histogram": [
           {
            "marker": {
             "pattern": {
              "fillmode": "overlay",
              "size": 10,
              "solidity": 0.2
             }
            },
            "type": "histogram"
           }
          ],
          "histogram2d": [
           {
            "colorbar": {
             "outlinewidth": 0,
             "ticks": ""
            },
            "colorscale": [
             [
              0,
              "#0d0887"
             ],
             [
              0.1111111111111111,
              "#46039f"
             ],
             [
              0.2222222222222222,
              "#7201a8"
             ],
             [
              0.3333333333333333,
              "#9c179e"
             ],
             [
              0.4444444444444444,
              "#bd3786"
             ],
             [
              0.5555555555555556,
              "#d8576b"
             ],
             [
              0.6666666666666666,
              "#ed7953"
             ],
             [
              0.7777777777777778,
              "#fb9f3a"
             ],
             [
              0.8888888888888888,
              "#fdca26"
             ],
             [
              1,
              "#f0f921"
             ]
            ],
            "type": "histogram2d"
           }
          ],
          "histogram2dcontour": [
           {
            "colorbar": {
             "outlinewidth": 0,
             "ticks": ""
            },
            "colorscale": [
             [
              0,
              "#0d0887"
             ],
             [
              0.1111111111111111,
              "#46039f"
             ],
             [
              0.2222222222222222,
              "#7201a8"
             ],
             [
              0.3333333333333333,
              "#9c179e"
             ],
             [
              0.4444444444444444,
              "#bd3786"
             ],
             [
              0.5555555555555556,
              "#d8576b"
             ],
             [
              0.6666666666666666,
              "#ed7953"
             ],
             [
              0.7777777777777778,
              "#fb9f3a"
             ],
             [
              0.8888888888888888,
              "#fdca26"
             ],
             [
              1,
              "#f0f921"
             ]
            ],
            "type": "histogram2dcontour"
           }
          ],
          "mesh3d": [
           {
            "colorbar": {
             "outlinewidth": 0,
             "ticks": ""
            },
            "type": "mesh3d"
           }
          ],
          "parcoords": [
           {
            "line": {
             "colorbar": {
              "outlinewidth": 0,
              "ticks": ""
             }
            },
            "type": "parcoords"
           }
          ],
          "pie": [
           {
            "automargin": true,
            "type": "pie"
           }
          ],
          "scatter": [
           {
            "fillpattern": {
             "fillmode": "overlay",
             "size": 10,
             "solidity": 0.2
            },
            "type": "scatter"
           }
          ],
          "scatter3d": [
           {
            "line": {
             "colorbar": {
              "outlinewidth": 0,
              "ticks": ""
             }
            },
            "marker": {
             "colorbar": {
              "outlinewidth": 0,
              "ticks": ""
             }
            },
            "type": "scatter3d"
           }
          ],
          "scattercarpet": [
           {
            "marker": {
             "colorbar": {
              "outlinewidth": 0,
              "ticks": ""
             }
            },
            "type": "scattercarpet"
           }
          ],
          "scattergeo": [
           {
            "marker": {
             "colorbar": {
              "outlinewidth": 0,
              "ticks": ""
             }
            },
            "type": "scattergeo"
           }
          ],
          "scattergl": [
           {
            "marker": {
             "colorbar": {
              "outlinewidth": 0,
              "ticks": ""
             }
            },
            "type": "scattergl"
           }
          ],
          "scattermap": [
           {
            "marker": {
             "colorbar": {
              "outlinewidth": 0,
              "ticks": ""
             }
            },
            "type": "scattermap"
           }
          ],
          "scattermapbox": [
           {
            "marker": {
             "colorbar": {
              "outlinewidth": 0,
              "ticks": ""
             }
            },
            "type": "scattermapbox"
           }
          ],
          "scatterpolar": [
           {
            "marker": {
             "colorbar": {
              "outlinewidth": 0,
              "ticks": ""
             }
            },
            "type": "scatterpolar"
           }
          ],
          "scatterpolargl": [
           {
            "marker": {
             "colorbar": {
              "outlinewidth": 0,
              "ticks": ""
             }
            },
            "type": "scatterpolargl"
           }
          ],
          "scatterternary": [
           {
            "marker": {
             "colorbar": {
              "outlinewidth": 0,
              "ticks": ""
             }
            },
            "type": "scatterternary"
           }
          ],
          "surface": [
           {
            "colorbar": {
             "outlinewidth": 0,
             "ticks": ""
            },
            "colorscale": [
             [
              0,
              "#0d0887"
             ],
             [
              0.1111111111111111,
              "#46039f"
             ],
             [
              0.2222222222222222,
              "#7201a8"
             ],
             [
              0.3333333333333333,
              "#9c179e"
             ],
             [
              0.4444444444444444,
              "#bd3786"
             ],
             [
              0.5555555555555556,
              "#d8576b"
             ],
             [
              0.6666666666666666,
              "#ed7953"
             ],
             [
              0.7777777777777778,
              "#fb9f3a"
             ],
             [
              0.8888888888888888,
              "#fdca26"
             ],
             [
              1,
              "#f0f921"
             ]
            ],
            "type": "surface"
           }
          ],
          "table": [
           {
            "cells": {
             "fill": {
              "color": "#EBF0F8"
             },
             "line": {
              "color": "white"
             }
            },
            "header": {
             "fill": {
              "color": "#C8D4E3"
             },
             "line": {
              "color": "white"
             }
            },
            "type": "table"
           }
          ]
         },
         "layout": {
          "annotationdefaults": {
           "arrowcolor": "#2a3f5f",
           "arrowhead": 0,
           "arrowwidth": 1
          },
          "autotypenumbers": "strict",
          "coloraxis": {
           "colorbar": {
            "outlinewidth": 0,
            "ticks": ""
           }
          },
          "colorscale": {
           "diverging": [
            [
             0,
             "#8e0152"
            ],
            [
             0.1,
             "#c51b7d"
            ],
            [
             0.2,
             "#de77ae"
            ],
            [
             0.3,
             "#f1b6da"
            ],
            [
             0.4,
             "#fde0ef"
            ],
            [
             0.5,
             "#f7f7f7"
            ],
            [
             0.6,
             "#e6f5d0"
            ],
            [
             0.7,
             "#b8e186"
            ],
            [
             0.8,
             "#7fbc41"
            ],
            [
             0.9,
             "#4d9221"
            ],
            [
             1,
             "#276419"
            ]
           ],
           "sequential": [
            [
             0,
             "#0d0887"
            ],
            [
             0.1111111111111111,
             "#46039f"
            ],
            [
             0.2222222222222222,
             "#7201a8"
            ],
            [
             0.3333333333333333,
             "#9c179e"
            ],
            [
             0.4444444444444444,
             "#bd3786"
            ],
            [
             0.5555555555555556,
             "#d8576b"
            ],
            [
             0.6666666666666666,
             "#ed7953"
            ],
            [
             0.7777777777777778,
             "#fb9f3a"
            ],
            [
             0.8888888888888888,
             "#fdca26"
            ],
            [
             1,
             "#f0f921"
            ]
           ],
           "sequentialminus": [
            [
             0,
             "#0d0887"
            ],
            [
             0.1111111111111111,
             "#46039f"
            ],
            [
             0.2222222222222222,
             "#7201a8"
            ],
            [
             0.3333333333333333,
             "#9c179e"
            ],
            [
             0.4444444444444444,
             "#bd3786"
            ],
            [
             0.5555555555555556,
             "#d8576b"
            ],
            [
             0.6666666666666666,
             "#ed7953"
            ],
            [
             0.7777777777777778,
             "#fb9f3a"
            ],
            [
             0.8888888888888888,
             "#fdca26"
            ],
            [
             1,
             "#f0f921"
            ]
           ]
          },
          "colorway": [
           "#636efa",
           "#EF553B",
           "#00cc96",
           "#ab63fa",
           "#FFA15A",
           "#19d3f3",
           "#FF6692",
           "#B6E880",
           "#FF97FF",
           "#FECB52"
          ],
          "font": {
           "color": "#2a3f5f"
          },
          "geo": {
           "bgcolor": "white",
           "lakecolor": "white",
           "landcolor": "white",
           "showlakes": true,
           "showland": true,
           "subunitcolor": "#C8D4E3"
          },
          "hoverlabel": {
           "align": "left"
          },
          "hovermode": "closest",
          "mapbox": {
           "style": "light"
          },
          "paper_bgcolor": "white",
          "plot_bgcolor": "white",
          "polar": {
           "angularaxis": {
            "gridcolor": "#EBF0F8",
            "linecolor": "#EBF0F8",
            "ticks": ""
           },
           "bgcolor": "white",
           "radialaxis": {
            "gridcolor": "#EBF0F8",
            "linecolor": "#EBF0F8",
            "ticks": ""
           }
          },
          "scene": {
           "xaxis": {
            "backgroundcolor": "white",
            "gridcolor": "#DFE8F3",
            "gridwidth": 2,
            "linecolor": "#EBF0F8",
            "showbackground": true,
            "ticks": "",
            "zerolinecolor": "#EBF0F8"
           },
           "yaxis": {
            "backgroundcolor": "white",
            "gridcolor": "#DFE8F3",
            "gridwidth": 2,
            "linecolor": "#EBF0F8",
            "showbackground": true,
            "ticks": "",
            "zerolinecolor": "#EBF0F8"
           },
           "zaxis": {
            "backgroundcolor": "white",
            "gridcolor": "#DFE8F3",
            "gridwidth": 2,
            "linecolor": "#EBF0F8",
            "showbackground": true,
            "ticks": "",
            "zerolinecolor": "#EBF0F8"
           }
          },
          "shapedefaults": {
           "line": {
            "color": "#2a3f5f"
           }
          },
          "ternary": {
           "aaxis": {
            "gridcolor": "#DFE8F3",
            "linecolor": "#A2B1C6",
            "ticks": ""
           },
           "baxis": {
            "gridcolor": "#DFE8F3",
            "linecolor": "#A2B1C6",
            "ticks": ""
           },
           "bgcolor": "white",
           "caxis": {
            "gridcolor": "#DFE8F3",
            "linecolor": "#A2B1C6",
            "ticks": ""
           }
          },
          "title": {
           "x": 0.05
          },
          "xaxis": {
           "automargin": true,
           "gridcolor": "#EBF0F8",
           "linecolor": "#EBF0F8",
           "ticks": "",
           "title": {
            "standoff": 15
           },
           "zerolinecolor": "#EBF0F8",
           "zerolinewidth": 2
          },
          "yaxis": {
           "automargin": true,
           "gridcolor": "#EBF0F8",
           "linecolor": "#EBF0F8",
           "ticks": "",
           "title": {
            "standoff": 15
           },
           "zerolinecolor": "#EBF0F8",
           "zerolinewidth": 2
          }
         }
        },
        "width": 1600,
        "yaxis": {
         "title": {
          "font": {
           "size": 23
          },
          "text": "Normalised SID = SID / Number of Edges in DAG"
         }
        }
       }
      }
     },
     "metadata": {},
     "output_type": "display_data"
    },
    {
     "data": {
      "application/vnd.plotly.v1+json": {
       "config": {
        "plotlyServerURL": "https://plot.ly"
       },
       "data": [
        {
         "error_y": {
          "array": [
           0.22,
           0.16,
           0.16,
           0.11,
           0.08,
           0.04
          ],
          "type": "data",
          "visible": true
         },
         "marker": {
          "color": "#7f7f7f"
         },
         "name": "Random",
         "offsetgroup": "0",
         "opacity": 0.6,
         "showlegend": true,
         "type": "bar",
         "x": [
          "CANCER<br> |V|=5, |E|=4",
          "EARTHQUAKE<br> |V|=5, |E|=4",
          "SURVEY<br> |V|=6, |E|=6",
          "ASIA<br> |V|=8, |E|=8",
          "SACHS<br> |V|=11, |E|=17",
          "CHILD<br> |V|=20, |E|=25"
         ],
         "y": [
          0.2,
          0.17,
          0.24,
          0.14,
          0.16,
          0.07
         ],
         "yaxis": "y"
        },
        {
         "error_y": {
          "array": [
           0.08,
           0.06,
           0.16,
           0.05,
           0.04,
           0.04
          ],
          "type": "data",
          "visible": true
         },
         "marker": {
          "color": "#b85c00"
         },
         "name": "FGS",
         "offsetgroup": "1",
         "opacity": 0.6,
         "showlegend": true,
         "type": "bar",
         "x": [
          "CANCER<br> |V|=5, |E|=4",
          "EARTHQUAKE<br> |V|=5, |E|=4",
          "SURVEY<br> |V|=6, |E|=6",
          "ASIA<br> |V|=8, |E|=8",
          "SACHS<br> |V|=11, |E|=17",
          "CHILD<br> |V|=20, |E|=25"
         ],
         "y": [
          0.45,
          0.44,
          0.4,
          0.25,
          0.14,
          0.11
         ],
         "yaxis": "y"
        },
        {
         "error_y": {
          "array": [
           0.5,
           0.27,
           null,
           0.2,
           0.19,
           0.1
          ],
          "type": "data",
          "visible": true
         },
         "marker": {
          "color": "#0085CA"
         },
         "name": "NOTEARS-MLP",
         "offsetgroup": "2",
         "opacity": 0.6,
         "showlegend": true,
         "type": "bar",
         "x": [
          "CANCER<br> |V|=5, |E|=4",
          "EARTHQUAKE<br> |V|=5, |E|=4",
          "SURVEY<br> |V|=6, |E|=6",
          "ASIA<br> |V|=8, |E|=8",
          "SACHS<br> |V|=11, |E|=17",
          "CHILD<br> |V|=20, |E|=25"
         ],
         "y": [
          0.25,
          0.5,
          null,
          0.31,
          0.6,
          0.45
         ],
         "yaxis": "y"
        },
        {
         "error_y": {
          "array": [
           0.24,
           0.11,
           null,
           0.06,
           0.09,
           0.13
          ],
          "type": "data",
          "visible": true
         },
         "marker": {
          "color": "#379f9f"
         },
         "name": "MPC",
         "offsetgroup": "3",
         "opacity": 0.6,
         "showlegend": true,
         "type": "bar",
         "x": [
          "CANCER<br> |V|=5, |E|=4",
          "EARTHQUAKE<br> |V|=5, |E|=4",
          "SURVEY<br> |V|=6, |E|=6",
          "ASIA<br> |V|=8, |E|=8",
          "CHILD<br> |V|=20, |E|=25",
          "SACHS<br> |V|=11, |E|=17"
         ],
         "y": [
          0.35,
          0.87,
          0.4,
          0.99,
          0.3,
          0.44
         ],
         "yaxis": "y"
        },
        {
         "error_y": {
          "array": [
           0.1975614154631885,
           0.27193002158823804,
           0.041749266769193764,
           0.08002550613806242,
           0.11454928634559759,
           0.15192298936075604
          ],
          "type": "data",
          "visible": true
         },
         "marker": {
          "color": "#bcbd22"
         },
         "name": "ABAPC",
         "offsetgroup": "4",
         "opacity": 0.6,
         "showlegend": true,
         "type": "bar",
         "x": [
          "ASIA<br> |V|=8, |E|=8",
          "CANCER<br> |V|=5, |E|=4",
          "CHILD<br> |V|=20, |E|=25",
          "EARTHQUAKE<br> |V|=5, |E|=4",
          "SACHS<br> |V|=11, |E|=17",
          "SURVEY<br> |V|=6, |E|=6"
         ],
         "y": [
          0.6761133333333333,
          0.5563372,
          0.8801035,
          0.982,
          0.7284124,
          0.5151672
         ],
         "yaxis": "y"
        },
        {
         "error_y": {
          "array": [
           null,
           null,
           null,
           null,
           null,
           null
          ],
          "type": "data",
          "visible": true
         },
         "marker": {
          "color": "#e377c2"
         },
         "name": "LLM-BFS",
         "offsetgroup": "5",
         "opacity": 0.6,
         "showlegend": true,
         "type": "bar",
         "x": [
          "ASIA<br> |V|=8, |E|=8",
          "CANCER<br> |V|=5, |E|=4",
          "CHILD<br> |V|=20, |E|=25",
          "EARTHQUAKE<br> |V|=5, |E|=4",
          "SACHS<br> |V|=11, |E|=17",
          "SURVEY<br> |V|=6, |E|=6"
         ],
         "y": [
          0.6154,
          0.5,
          0.2419,
          0.5,
          0.3125,
          0.5
         ],
         "yaxis": "y"
        },
        {
         "error_y": {
          "array": [
           0.03958973274443148,
           0.028284271247461888,
           0.04317971773520076,
           0.052304056111493746,
           0.06844741728673541,
           0.16507967321384553
          ],
          "type": "data",
          "visible": true
         },
         "marker": {
          "color": "#441469"
         },
         "name": "ABAPC-LLM",
         "offsetgroup": "6",
         "opacity": 0.6,
         "showlegend": true,
         "type": "bar",
         "x": [
          "ASIA<br> |V|=8, |E|=8",
          "CANCER<br> |V|=5, |E|=4",
          "CHILD<br> |V|=20, |E|=25",
          "EARTHQUAKE<br> |V|=5, |E|=4",
          "SACHS<br> |V|=11, |E|=17",
          "SURVEY<br> |V|=6, |E|=6"
         ],
         "y": [
          0.992,
          0.996,
          0.8989982666666667,
          0.987,
          0.7641711999999999,
          0.612003
         ],
         "yaxis": "y"
        },
        {
         "marker": {
          "color": "white"
         },
         "name": "",
         "offsetgroup": "7",
         "opacity": 1,
         "showlegend": false,
         "type": "bar",
         "x": [
          "ASIA<br> |V|=8, |E|=8",
          "CANCER<br> |V|=5, |E|=4",
          "CHILD<br> |V|=20, |E|=25",
          "EARTHQUAKE<br> |V|=5, |E|=4",
          "SACHS<br> |V|=11, |E|=17",
          "SURVEY<br> |V|=6, |E|=6"
         ],
         "y": {
          "bdata": "AAAAAAAAAAAAAAAAAAAAAAAAAAAAAAAAAAAAAAAAAAAAAAAAAAAAAAAAAAAAAAAA",
          "dtype": "f8"
         }
        },
        {
         "error_y": {
          "array": [
           0.22,
           0.16,
           0.16,
           0.11,
           0.08,
           0.04
          ],
          "type": "data",
          "visible": true
         },
         "marker": {
          "color": "#7f7f7f"
         },
         "name": "Random",
         "offsetgroup": "8",
         "opacity": 0.6,
         "showlegend": false,
         "type": "bar",
         "x": [
          "CANCER<br> |V|=5, |E|=4",
          "EARTHQUAKE<br> |V|=5, |E|=4",
          "SURVEY<br> |V|=6, |E|=6",
          "ASIA<br> |V|=8, |E|=8",
          "SACHS<br> |V|=11, |E|=17",
          "CHILD<br> |V|=20, |E|=25"
         ],
         "y": [
          0.2,
          0.17,
          0.24,
          0.14,
          0.16,
          0.07
         ],
         "yaxis": "y2"
        },
        {
         "error_y": {
          "array": [
           0.12,
           0,
           0.08,
           0.03,
           0.04,
           0.07
          ],
          "type": "data",
          "visible": true
         },
         "marker": {
          "color": "#b85c00"
         },
         "name": "FGS",
         "offsetgroup": "9",
         "opacity": 0.6,
         "showlegend": false,
         "type": "bar",
         "x": [
          "CANCER<br> |V|=5, |E|=4",
          "EARTHQUAKE<br> |V|=5, |E|=4",
          "SURVEY<br> |V|=6, |E|=6",
          "ASIA<br> |V|=8, |E|=8",
          "SACHS<br> |V|=11, |E|=17",
          "CHILD<br> |V|=20, |E|=25"
         ],
         "y": [
          0.42,
          0.5,
          0.21,
          0.24,
          0.13,
          0.19
         ],
         "yaxis": "y2"
        },
        {
         "error_y": {
          "array": [
           0.04,
           0.28,
           0,
           0.16,
           0.07,
           0.08
          ],
          "type": "data",
          "visible": true
         },
         "marker": {
          "color": "#0085CA"
         },
         "name": "NOTEARS-MLP",
         "offsetgroup": "10",
         "opacity": 0.6,
         "showlegend": false,
         "type": "bar",
         "x": [
          "CANCER<br> |V|=5, |E|=4",
          "EARTHQUAKE<br> |V|=5, |E|=4",
          "SURVEY<br> |V|=6, |E|=6",
          "ASIA<br> |V|=8, |E|=8",
          "SACHS<br> |V|=11, |E|=17",
          "CHILD<br> |V|=20, |E|=25"
         ],
         "y": [
          0,
          0.5,
          0,
          0.23,
          0.2,
          0.37
         ],
         "yaxis": "y2"
        },
        {
         "error_y": {
          "array": [
           0.12,
           0.05,
           0.05,
           0.1,
           0.11,
           0.08
          ],
          "type": "data",
          "visible": true
         },
         "marker": {
          "color": "#379f9f"
         },
         "name": "MPC",
         "offsetgroup": "11",
         "opacity": 0.6,
         "showlegend": false,
         "type": "bar",
         "x": [
          "CANCER<br> |V|=5, |E|=4",
          "EARTHQUAKE<br> |V|=5, |E|=4",
          "SURVEY<br> |V|=6, |E|=6",
          "ASIA<br> |V|=8, |E|=8",
          "CHILD<br> |V|=20, |E|=25",
          "SACHS<br> |V|=11, |E|=17"
         ],
         "y": [
          0.03,
          0.99,
          0.01,
          0.39,
          0.28,
          0.25
         ],
         "yaxis": "y2"
        },
        {
         "error_y": {
          "array": [
           0.12811869142701438,
           0.27613448734636675,
           0.09372756003547773,
           0.07071067811865474,
           0.11294481910478345,
           0.16637266600308798
          ],
          "type": "data",
          "visible": true
         },
         "marker": {
          "color": "#bcbd22"
         },
         "name": "ABAPC",
         "offsetgroup": "12",
         "opacity": 0.6,
         "showlegend": false,
         "type": "bar",
         "x": [
          "ASIA<br> |V|=8, |E|=8",
          "CANCER<br> |V|=5, |E|=4",
          "CHILD<br> |V|=20, |E|=25",
          "EARTHQUAKE<br> |V|=5, |E|=4",
          "SACHS<br> |V|=11, |E|=17",
          "SURVEY<br> |V|=6, |E|=6"
         ],
         "y": [
          0.37,
          0.47850000000000004,
          0.81896,
          0.99,
          0.7011792,
          0.39288379999999995
         ],
         "yaxis": "y2"
        },
        {
         "error_y": {
          "array": [
           null,
           null,
           null,
           null,
           null,
           null
          ],
          "type": "data",
          "visible": true
         },
         "marker": {
          "color": "#e377c2"
         },
         "name": "LLM-BFS",
         "offsetgroup": "13",
         "opacity": 0.6,
         "showlegend": false,
         "type": "bar",
         "x": [
          "ASIA<br> |V|=8, |E|=8",
          "CANCER<br> |V|=5, |E|=4",
          "CHILD<br> |V|=20, |E|=25",
          "EARTHQUAKE<br> |V|=5, |E|=4",
          "SACHS<br> |V|=11, |E|=17",
          "SURVEY<br> |V|=6, |E|=6"
         ],
         "y": [
          1,
          1,
          0.6,
          1,
          0.2941,
          1
         ],
         "yaxis": "y2"
        },
        {
         "error_y": {
          "array": [
           0.07910734440477388,
           0.14820352800890307,
           0.07434379170501977,
           0.03535533905932737,
           0.07643707629154847,
           0.15473962765527588
          ],
          "type": "data",
          "visible": true
         },
         "marker": {
          "color": "#441469"
         },
         "name": "ABAPC-LLM",
         "offsetgroup": "14",
         "opacity": 0.6,
         "showlegend": false,
         "type": "bar",
         "x": [
          "ASIA<br> |V|=8, |E|=8",
          "CANCER<br> |V|=5, |E|=4",
          "CHILD<br> |V|=20, |E|=25",
          "EARTHQUAKE<br> |V|=5, |E|=4",
          "SACHS<br> |V|=11, |E|=17",
          "SURVEY<br> |V|=6, |E|=6"
         ],
         "y": [
          0.55625,
          0.835,
          0.8293866666666666,
          0.995,
          0.7468292,
          0.457219
         ],
         "yaxis": "y2"
        }
       ],
       "layout": {
        "annotations": [
         {
          "font": {
           "color": "black",
           "size": 23
          },
          "showarrow": false,
          "text": "      Precision      ",
          "x": 0.04375,
          "xanchor": "center",
          "xref": "x domain",
          "y": 1.07,
          "yanchor": "middle",
          "yref": "y domain"
         },
         {
          "font": {
           "color": "black",
           "size": 23
          },
          "showarrow": false,
          "text": "        Recall        ",
          "x": 0.12291666666666666,
          "xanchor": "center",
          "xref": "x domain",
          "y": 1.07,
          "yanchor": "middle",
          "yref": "y domain"
         },
         {
          "font": {
           "color": "black",
           "size": 23
          },
          "showarrow": false,
          "text": "      Precision      ",
          "x": 0.21041666666666664,
          "xanchor": "center",
          "xref": "x domain",
          "y": 1.07,
          "yanchor": "middle",
          "yref": "y domain"
         },
         {
          "font": {
           "color": "black",
           "size": 23
          },
          "showarrow": false,
          "text": "        Recall        ",
          "x": 0.2895833333333333,
          "xanchor": "center",
          "xref": "x domain",
          "y": 1.07,
          "yanchor": "middle",
          "yref": "y domain"
         },
         {
          "font": {
           "color": "black",
           "size": 23
          },
          "showarrow": false,
          "text": "      Precision      ",
          "x": 0.3770833333333333,
          "xanchor": "center",
          "xref": "x domain",
          "y": 1.07,
          "yanchor": "middle",
          "yref": "y domain"
         },
         {
          "font": {
           "color": "black",
           "size": 23
          },
          "showarrow": false,
          "text": "        Recall        ",
          "x": 0.45624999999999993,
          "xanchor": "center",
          "xref": "x domain",
          "y": 1.07,
          "yanchor": "middle",
          "yref": "y domain"
         },
         {
          "font": {
           "color": "black",
           "size": 23
          },
          "showarrow": false,
          "text": "      Precision      ",
          "x": 0.54375,
          "xanchor": "center",
          "xref": "x domain",
          "y": 1.07,
          "yanchor": "middle",
          "yref": "y domain"
         },
         {
          "font": {
           "color": "black",
           "size": 23
          },
          "showarrow": false,
          "text": "        Recall        ",
          "x": 0.6229166666666666,
          "xanchor": "center",
          "xref": "x domain",
          "y": 1.07,
          "yanchor": "middle",
          "yref": "y domain"
         },
         {
          "font": {
           "color": "black",
           "size": 23
          },
          "showarrow": false,
          "text": "      Precision      ",
          "x": 0.7104166666666667,
          "xanchor": "center",
          "xref": "x domain",
          "y": 1.07,
          "yanchor": "middle",
          "yref": "y domain"
         },
         {
          "font": {
           "color": "black",
           "size": 23
          },
          "showarrow": false,
          "text": "        Recall        ",
          "x": 0.7895833333333333,
          "xanchor": "center",
          "xref": "x domain",
          "y": 1.07,
          "yanchor": "middle",
          "yref": "y domain"
         },
         {
          "font": {
           "color": "black",
           "size": 23
          },
          "showarrow": false,
          "text": "      Precision      ",
          "x": 0.8770833333333332,
          "xanchor": "center",
          "xref": "x domain",
          "y": 1.07,
          "yanchor": "middle",
          "yref": "y domain"
         },
         {
          "font": {
           "color": "black",
           "size": 23
          },
          "showarrow": false,
          "text": "        Recall        ",
          "x": 0.9562499999999998,
          "xanchor": "center",
          "xref": "x domain",
          "y": 1.07,
          "yanchor": "middle",
          "yref": "y domain"
         }
        ],
        "bargap": 0.08,
        "bargroupgap": 0.05,
        "barmode": "group",
        "font": {
         "color": "black",
         "family": "Serif",
         "size": 23
        },
        "height": 700,
        "hovermode": "x unified",
        "legend": {
         "orientation": "h",
         "x": 0.5,
         "xanchor": "center",
         "y": 1.23,
         "yanchor": "top"
        },
        "margin": {
         "b": 70,
         "l": 40,
         "r": 40,
         "t": 80
        },
        "shapes": [
         {
          "fillcolor": "#E5ECF6",
          "layer": "below",
          "line": {
           "color": "#E5ECF6",
           "width": 2
          },
          "type": "rect",
          "x0": 0,
          "x1": 0.09083333333333334,
          "xref": "x domain",
          "y0": 1.04,
          "y1": 1.1,
          "yref": "y domain"
         },
         {
          "fillcolor": "#E5ECF6",
          "layer": "below",
          "line": {
           "color": "#E5ECF6",
           "width": 2
          },
          "type": "rect",
          "x0": 0.07583333333333332,
          "x1": 0.16999999999999998,
          "xref": "x domain",
          "y0": 1.04,
          "y1": 1.1,
          "yref": "y domain"
         },
         {
          "fillcolor": "#E5ECF6",
          "layer": "below",
          "line": {
           "color": "#E5ECF6",
           "width": 2
          },
          "type": "rect",
          "x0": 0.16333333333333333,
          "x1": 0.2575,
          "xref": "x domain",
          "y0": 1.04,
          "y1": 1.1,
          "yref": "y domain"
         },
         {
          "fillcolor": "#E5ECF6",
          "layer": "below",
          "line": {
           "color": "#E5ECF6",
           "width": 2
          },
          "type": "rect",
          "x0": 0.24249999999999997,
          "x1": 0.33666666666666667,
          "xref": "x domain",
          "y0": 1.04,
          "y1": 1.1,
          "yref": "y domain"
         },
         {
          "fillcolor": "#E5ECF6",
          "layer": "below",
          "line": {
           "color": "#E5ECF6",
           "width": 2
          },
          "type": "rect",
          "x0": 0.32999999999999996,
          "x1": 0.4241666666666667,
          "xref": "x domain",
          "y0": 1.04,
          "y1": 1.1,
          "yref": "y domain"
         },
         {
          "fillcolor": "#E5ECF6",
          "layer": "below",
          "line": {
           "color": "#E5ECF6",
           "width": 2
          },
          "type": "rect",
          "x0": 0.4091666666666666,
          "x1": 0.5033333333333333,
          "xref": "x domain",
          "y0": 1.04,
          "y1": 1.1,
          "yref": "y domain"
         },
         {
          "fillcolor": "#E5ECF6",
          "layer": "below",
          "line": {
           "color": "#E5ECF6",
           "width": 2
          },
          "type": "rect",
          "x0": 0.4966666666666666,
          "x1": 0.5908333333333333,
          "xref": "x domain",
          "y0": 1.04,
          "y1": 1.1,
          "yref": "y domain"
         },
         {
          "fillcolor": "#E5ECF6",
          "layer": "below",
          "line": {
           "color": "#E5ECF6",
           "width": 2
          },
          "type": "rect",
          "x0": 0.5758333333333332,
          "x1": 0.6699999999999999,
          "xref": "x domain",
          "y0": 1.04,
          "y1": 1.1,
          "yref": "y domain"
         },
         {
          "fillcolor": "#E5ECF6",
          "layer": "below",
          "line": {
           "color": "#E5ECF6",
           "width": 2
          },
          "type": "rect",
          "x0": 0.6633333333333333,
          "x1": 0.7575000000000001,
          "xref": "x domain",
          "y0": 1.04,
          "y1": 1.1,
          "yref": "y domain"
         },
         {
          "fillcolor": "#E5ECF6",
          "layer": "below",
          "line": {
           "color": "#E5ECF6",
           "width": 2
          },
          "type": "rect",
          "x0": 0.7424999999999999,
          "x1": 0.8366666666666667,
          "xref": "x domain",
          "y0": 1.04,
          "y1": 1.1,
          "yref": "y domain"
         },
         {
          "fillcolor": "#E5ECF6",
          "layer": "below",
          "line": {
           "color": "#E5ECF6",
           "width": 2
          },
          "type": "rect",
          "x0": 0.8299999999999998,
          "x1": 0.9241666666666666,
          "xref": "x domain",
          "y0": 1.04,
          "y1": 1.1,
          "yref": "y domain"
         },
         {
          "fillcolor": "#E5ECF6",
          "layer": "below",
          "line": {
           "color": "#E5ECF6",
           "width": 2
          },
          "type": "rect",
          "x0": 0.9091666666666665,
          "x1": 1,
          "xref": "x domain",
          "y0": 1.04,
          "y1": 1.1,
          "yref": "y domain"
         }
        ],
        "template": {
         "data": {
          "bar": [
           {
            "error_x": {
             "color": "#2a3f5f"
            },
            "error_y": {
             "color": "#2a3f5f"
            },
            "marker": {
             "line": {
              "color": "white",
              "width": 0.5
             },
             "pattern": {
              "fillmode": "overlay",
              "size": 10,
              "solidity": 0.2
             }
            },
            "type": "bar"
           }
          ],
          "barpolar": [
           {
            "marker": {
             "line": {
              "color": "white",
              "width": 0.5
             },
             "pattern": {
              "fillmode": "overlay",
              "size": 10,
              "solidity": 0.2
             }
            },
            "type": "barpolar"
           }
          ],
          "carpet": [
           {
            "aaxis": {
             "endlinecolor": "#2a3f5f",
             "gridcolor": "#C8D4E3",
             "linecolor": "#C8D4E3",
             "minorgridcolor": "#C8D4E3",
             "startlinecolor": "#2a3f5f"
            },
            "baxis": {
             "endlinecolor": "#2a3f5f",
             "gridcolor": "#C8D4E3",
             "linecolor": "#C8D4E3",
             "minorgridcolor": "#C8D4E3",
             "startlinecolor": "#2a3f5f"
            },
            "type": "carpet"
           }
          ],
          "choropleth": [
           {
            "colorbar": {
             "outlinewidth": 0,
             "ticks": ""
            },
            "type": "choropleth"
           }
          ],
          "contour": [
           {
            "colorbar": {
             "outlinewidth": 0,
             "ticks": ""
            },
            "colorscale": [
             [
              0,
              "#0d0887"
             ],
             [
              0.1111111111111111,
              "#46039f"
             ],
             [
              0.2222222222222222,
              "#7201a8"
             ],
             [
              0.3333333333333333,
              "#9c179e"
             ],
             [
              0.4444444444444444,
              "#bd3786"
             ],
             [
              0.5555555555555556,
              "#d8576b"
             ],
             [
              0.6666666666666666,
              "#ed7953"
             ],
             [
              0.7777777777777778,
              "#fb9f3a"
             ],
             [
              0.8888888888888888,
              "#fdca26"
             ],
             [
              1,
              "#f0f921"
             ]
            ],
            "type": "contour"
           }
          ],
          "contourcarpet": [
           {
            "colorbar": {
             "outlinewidth": 0,
             "ticks": ""
            },
            "type": "contourcarpet"
           }
          ],
          "heatmap": [
           {
            "colorbar": {
             "outlinewidth": 0,
             "ticks": ""
            },
            "colorscale": [
             [
              0,
              "#0d0887"
             ],
             [
              0.1111111111111111,
              "#46039f"
             ],
             [
              0.2222222222222222,
              "#7201a8"
             ],
             [
              0.3333333333333333,
              "#9c179e"
             ],
             [
              0.4444444444444444,
              "#bd3786"
             ],
             [
              0.5555555555555556,
              "#d8576b"
             ],
             [
              0.6666666666666666,
              "#ed7953"
             ],
             [
              0.7777777777777778,
              "#fb9f3a"
             ],
             [
              0.8888888888888888,
              "#fdca26"
             ],
             [
              1,
              "#f0f921"
             ]
            ],
            "type": "heatmap"
           }
          ],
          "histogram": [
           {
            "marker": {
             "pattern": {
              "fillmode": "overlay",
              "size": 10,
              "solidity": 0.2
             }
            },
            "type": "histogram"
           }
          ],
          "histogram2d": [
           {
            "colorbar": {
             "outlinewidth": 0,
             "ticks": ""
            },
            "colorscale": [
             [
              0,
              "#0d0887"
             ],
             [
              0.1111111111111111,
              "#46039f"
             ],
             [
              0.2222222222222222,
              "#7201a8"
             ],
             [
              0.3333333333333333,
              "#9c179e"
             ],
             [
              0.4444444444444444,
              "#bd3786"
             ],
             [
              0.5555555555555556,
              "#d8576b"
             ],
             [
              0.6666666666666666,
              "#ed7953"
             ],
             [
              0.7777777777777778,
              "#fb9f3a"
             ],
             [
              0.8888888888888888,
              "#fdca26"
             ],
             [
              1,
              "#f0f921"
             ]
            ],
            "type": "histogram2d"
           }
          ],
          "histogram2dcontour": [
           {
            "colorbar": {
             "outlinewidth": 0,
             "ticks": ""
            },
            "colorscale": [
             [
              0,
              "#0d0887"
             ],
             [
              0.1111111111111111,
              "#46039f"
             ],
             [
              0.2222222222222222,
              "#7201a8"
             ],
             [
              0.3333333333333333,
              "#9c179e"
             ],
             [
              0.4444444444444444,
              "#bd3786"
             ],
             [
              0.5555555555555556,
              "#d8576b"
             ],
             [
              0.6666666666666666,
              "#ed7953"
             ],
             [
              0.7777777777777778,
              "#fb9f3a"
             ],
             [
              0.8888888888888888,
              "#fdca26"
             ],
             [
              1,
              "#f0f921"
             ]
            ],
            "type": "histogram2dcontour"
           }
          ],
          "mesh3d": [
           {
            "colorbar": {
             "outlinewidth": 0,
             "ticks": ""
            },
            "type": "mesh3d"
           }
          ],
          "parcoords": [
           {
            "line": {
             "colorbar": {
              "outlinewidth": 0,
              "ticks": ""
             }
            },
            "type": "parcoords"
           }
          ],
          "pie": [
           {
            "automargin": true,
            "type": "pie"
           }
          ],
          "scatter": [
           {
            "fillpattern": {
             "fillmode": "overlay",
             "size": 10,
             "solidity": 0.2
            },
            "type": "scatter"
           }
          ],
          "scatter3d": [
           {
            "line": {
             "colorbar": {
              "outlinewidth": 0,
              "ticks": ""
             }
            },
            "marker": {
             "colorbar": {
              "outlinewidth": 0,
              "ticks": ""
             }
            },
            "type": "scatter3d"
           }
          ],
          "scattercarpet": [
           {
            "marker": {
             "colorbar": {
              "outlinewidth": 0,
              "ticks": ""
             }
            },
            "type": "scattercarpet"
           }
          ],
          "scattergeo": [
           {
            "marker": {
             "colorbar": {
              "outlinewidth": 0,
              "ticks": ""
             }
            },
            "type": "scattergeo"
           }
          ],
          "scattergl": [
           {
            "marker": {
             "colorbar": {
              "outlinewidth": 0,
              "ticks": ""
             }
            },
            "type": "scattergl"
           }
          ],
          "scattermap": [
           {
            "marker": {
             "colorbar": {
              "outlinewidth": 0,
              "ticks": ""
             }
            },
            "type": "scattermap"
           }
          ],
          "scattermapbox": [
           {
            "marker": {
             "colorbar": {
              "outlinewidth": 0,
              "ticks": ""
             }
            },
            "type": "scattermapbox"
           }
          ],
          "scatterpolar": [
           {
            "marker": {
             "colorbar": {
              "outlinewidth": 0,
              "ticks": ""
             }
            },
            "type": "scatterpolar"
           }
          ],
          "scatterpolargl": [
           {
            "marker": {
             "colorbar": {
              "outlinewidth": 0,
              "ticks": ""
             }
            },
            "type": "scatterpolargl"
           }
          ],
          "scatterternary": [
           {
            "marker": {
             "colorbar": {
              "outlinewidth": 0,
              "ticks": ""
             }
            },
            "type": "scatterternary"
           }
          ],
          "surface": [
           {
            "colorbar": {
             "outlinewidth": 0,
             "ticks": ""
            },
            "colorscale": [
             [
              0,
              "#0d0887"
             ],
             [
              0.1111111111111111,
              "#46039f"
             ],
             [
              0.2222222222222222,
              "#7201a8"
             ],
             [
              0.3333333333333333,
              "#9c179e"
             ],
             [
              0.4444444444444444,
              "#bd3786"
             ],
             [
              0.5555555555555556,
              "#d8576b"
             ],
             [
              0.6666666666666666,
              "#ed7953"
             ],
             [
              0.7777777777777778,
              "#fb9f3a"
             ],
             [
              0.8888888888888888,
              "#fdca26"
             ],
             [
              1,
              "#f0f921"
             ]
            ],
            "type": "surface"
           }
          ],
          "table": [
           {
            "cells": {
             "fill": {
              "color": "#EBF0F8"
             },
             "line": {
              "color": "white"
             }
            },
            "header": {
             "fill": {
              "color": "#C8D4E3"
             },
             "line": {
              "color": "white"
             }
            },
            "type": "table"
           }
          ]
         },
         "layout": {
          "annotationdefaults": {
           "arrowcolor": "#2a3f5f",
           "arrowhead": 0,
           "arrowwidth": 1
          },
          "autotypenumbers": "strict",
          "coloraxis": {
           "colorbar": {
            "outlinewidth": 0,
            "ticks": ""
           }
          },
          "colorscale": {
           "diverging": [
            [
             0,
             "#8e0152"
            ],
            [
             0.1,
             "#c51b7d"
            ],
            [
             0.2,
             "#de77ae"
            ],
            [
             0.3,
             "#f1b6da"
            ],
            [
             0.4,
             "#fde0ef"
            ],
            [
             0.5,
             "#f7f7f7"
            ],
            [
             0.6,
             "#e6f5d0"
            ],
            [
             0.7,
             "#b8e186"
            ],
            [
             0.8,
             "#7fbc41"
            ],
            [
             0.9,
             "#4d9221"
            ],
            [
             1,
             "#276419"
            ]
           ],
           "sequential": [
            [
             0,
             "#0d0887"
            ],
            [
             0.1111111111111111,
             "#46039f"
            ],
            [
             0.2222222222222222,
             "#7201a8"
            ],
            [
             0.3333333333333333,
             "#9c179e"
            ],
            [
             0.4444444444444444,
             "#bd3786"
            ],
            [
             0.5555555555555556,
             "#d8576b"
            ],
            [
             0.6666666666666666,
             "#ed7953"
            ],
            [
             0.7777777777777778,
             "#fb9f3a"
            ],
            [
             0.8888888888888888,
             "#fdca26"
            ],
            [
             1,
             "#f0f921"
            ]
           ],
           "sequentialminus": [
            [
             0,
             "#0d0887"
            ],
            [
             0.1111111111111111,
             "#46039f"
            ],
            [
             0.2222222222222222,
             "#7201a8"
            ],
            [
             0.3333333333333333,
             "#9c179e"
            ],
            [
             0.4444444444444444,
             "#bd3786"
            ],
            [
             0.5555555555555556,
             "#d8576b"
            ],
            [
             0.6666666666666666,
             "#ed7953"
            ],
            [
             0.7777777777777778,
             "#fb9f3a"
            ],
            [
             0.8888888888888888,
             "#fdca26"
            ],
            [
             1,
             "#f0f921"
            ]
           ]
          },
          "colorway": [
           "#636efa",
           "#EF553B",
           "#00cc96",
           "#ab63fa",
           "#FFA15A",
           "#19d3f3",
           "#FF6692",
           "#B6E880",
           "#FF97FF",
           "#FECB52"
          ],
          "font": {
           "color": "#2a3f5f"
          },
          "geo": {
           "bgcolor": "white",
           "lakecolor": "white",
           "landcolor": "white",
           "showlakes": true,
           "showland": true,
           "subunitcolor": "#C8D4E3"
          },
          "hoverlabel": {
           "align": "left"
          },
          "hovermode": "closest",
          "mapbox": {
           "style": "light"
          },
          "paper_bgcolor": "white",
          "plot_bgcolor": "white",
          "polar": {
           "angularaxis": {
            "gridcolor": "#EBF0F8",
            "linecolor": "#EBF0F8",
            "ticks": ""
           },
           "bgcolor": "white",
           "radialaxis": {
            "gridcolor": "#EBF0F8",
            "linecolor": "#EBF0F8",
            "ticks": ""
           }
          },
          "scene": {
           "xaxis": {
            "backgroundcolor": "white",
            "gridcolor": "#DFE8F3",
            "gridwidth": 2,
            "linecolor": "#EBF0F8",
            "showbackground": true,
            "ticks": "",
            "zerolinecolor": "#EBF0F8"
           },
           "yaxis": {
            "backgroundcolor": "white",
            "gridcolor": "#DFE8F3",
            "gridwidth": 2,
            "linecolor": "#EBF0F8",
            "showbackground": true,
            "ticks": "",
            "zerolinecolor": "#EBF0F8"
           },
           "zaxis": {
            "backgroundcolor": "white",
            "gridcolor": "#DFE8F3",
            "gridwidth": 2,
            "linecolor": "#EBF0F8",
            "showbackground": true,
            "ticks": "",
            "zerolinecolor": "#EBF0F8"
           }
          },
          "shapedefaults": {
           "line": {
            "color": "#2a3f5f"
           }
          },
          "ternary": {
           "aaxis": {
            "gridcolor": "#DFE8F3",
            "linecolor": "#A2B1C6",
            "ticks": ""
           },
           "baxis": {
            "gridcolor": "#DFE8F3",
            "linecolor": "#A2B1C6",
            "ticks": ""
           },
           "bgcolor": "white",
           "caxis": {
            "gridcolor": "#DFE8F3",
            "linecolor": "#A2B1C6",
            "ticks": ""
           }
          },
          "title": {
           "x": 0.05
          },
          "xaxis": {
           "automargin": true,
           "gridcolor": "#EBF0F8",
           "linecolor": "#EBF0F8",
           "ticks": "",
           "title": {
            "standoff": 15
           },
           "zerolinecolor": "#EBF0F8",
           "zerolinewidth": 2
          },
          "yaxis": {
           "automargin": true,
           "gridcolor": "#EBF0F8",
           "linecolor": "#EBF0F8",
           "ticks": "",
           "title": {
            "standoff": 15
           },
           "zerolinecolor": "#EBF0F8",
           "zerolinewidth": 2
          }
         }
        },
        "width": 1600,
        "xaxis": {
         "anchor": "y",
         "domain": [
          0,
          0.94
         ]
        },
        "yaxis": {
         "anchor": "x",
         "domain": [
          0,
          1
         ],
         "range": [
          0,
          1.3
         ],
         "title": {
          "font": {
           "size": 23
          },
          "text": "Precision"
         }
        },
        "yaxis2": {
         "anchor": "x",
         "overlaying": "y",
         "range": [
          0,
          1.3
         ],
         "scaleanchor": 0,
         "showgrid": false,
         "showline": false,
         "showticklabels": true,
         "side": "right",
         "title": {
          "font": {
           "size": 23
          },
          "text": "Recall"
         },
         "zeroline": true
        }
       }
      }
     },
     "metadata": {},
     "output_type": "display_data"
    },
    {
     "data": {
      "application/vnd.plotly.v1+json": {
       "config": {
        "plotlyServerURL": "https://plot.ly"
       },
       "data": [
        {
         "error_y": {
          "array": [
           0,
           0,
           0,
           0,
           0,
           0
          ],
          "type": "data",
          "visible": true
         },
         "marker": {
          "color": "#7f7f7f"
         },
         "name": "True Graph Size",
         "opacity": 0.6,
         "type": "bar",
         "x": [
          "CANCER<br> |V|=5, |E|=4",
          "EARTHQUAKE<br> |V|=5, |E|=4",
          "SURVEY<br> |V|=6, |E|=6",
          "ASIA<br> |V|=8, |E|=8",
          "SACHS<br> |V|=11, |E|=17",
          "CHILD<br> |V|=20, |E|=25"
         ],
         "y": [
          4,
          4,
          6,
          8,
          17,
          25
         ]
        },
        {
         "error_y": {
          "array": [
           0.47,
           0.64,
           0.84,
           0.77,
           1.31,
           2.56
          ],
          "type": "data",
          "visible": true
         },
         "marker": {
          "color": "#b85c00"
         },
         "name": "FGS",
         "opacity": 0.6,
         "type": "bar",
         "x": [
          "CANCER<br> |V|=5, |E|=4",
          "EARTHQUAKE<br> |V|=5, |E|=4",
          "SURVEY<br> |V|=6, |E|=6",
          "ASIA<br> |V|=8, |E|=8",
          "SACHS<br> |V|=11, |E|=17",
          "CHILD<br> |V|=20, |E|=25"
         ],
         "y": [
          3.68,
          4.62,
          3.3,
          7.68,
          15.7,
          43.28
         ]
        },
        {
         "error_y": {
          "array": [
           0.27,
           0.45,
           0,
           0.47,
           0.65,
           1.21
          ],
          "type": "data",
          "visible": true
         },
         "marker": {
          "color": "#0085CA"
         },
         "name": "NOTEARS-MLP",
         "opacity": 0.6,
         "type": "bar",
         "x": [
          "CANCER<br> |V|=5, |E|=4",
          "EARTHQUAKE<br> |V|=5, |E|=4",
          "SURVEY<br> |V|=6, |E|=6",
          "ASIA<br> |V|=8, |E|=8",
          "SACHS<br> |V|=11, |E|=17",
          "CHILD<br> |V|=20, |E|=25"
         ],
         "y": [
          0.08,
          4,
          0,
          5.94,
          5.7,
          20.34
         ]
        },
        {
         "error_y": {
          "array": [
           1.17,
           0.49,
           0.71,
           0.93,
           4.18,
           0.89
          ],
          "type": "data",
          "visible": true
         },
         "marker": {
          "color": "#379f9f"
         },
         "name": "MPC",
         "opacity": 0.6,
         "type": "bar",
         "x": [
          "CANCER<br> |V|=5, |E|=4",
          "EARTHQUAKE<br> |V|=5, |E|=4",
          "SURVEY<br> |V|=6, |E|=6",
          "ASIA<br> |V|=8, |E|=8",
          "CHILD<br> |V|=20, |E|=25",
          "SACHS<br> |V|=11, |E|=17"
         ],
         "y": [
          0.34,
          4.6,
          0.1,
          3.2,
          22.78,
          9.85
         ]
        },
        {
         "error_y": {
          "array": [
           0.9128026165497366,
           0.6311634866964149,
           2.272843225242474,
           0.19794866372215747,
           0.4848732213850611,
           0.9313146293146642
          ],
          "type": "data",
          "visible": true
         },
         "marker": {
          "color": "#bcbd22"
         },
         "name": "ABAPC",
         "opacity": 0.6,
         "type": "bar",
         "x": [
          "ASIA<br> |V|=8, |E|=8",
          "CANCER<br> |V|=5, |E|=4",
          "CHILD<br> |V|=20, |E|=25",
          "EARTHQUAKE<br> |V|=5, |E|=4",
          "SACHS<br> |V|=11, |E|=17",
          "SURVEY<br> |V|=6, |E|=6"
         ],
         "y": [
          4.3966666666666665,
          3.36,
          23.25,
          4.04,
          16.36,
          4.5
         ]
        },
        {
         "error_y": {
          "array": [
           null,
           null,
           null,
           null,
           null,
           null
          ],
          "type": "data",
          "visible": true
         },
         "marker": {
          "color": "#e377c2"
         },
         "name": "LLM-BFS",
         "opacity": 0.6,
         "type": "bar",
         "x": [
          "ASIA<br> |V|=8, |E|=8",
          "CANCER<br> |V|=5, |E|=4",
          "CHILD<br> |V|=20, |E|=25",
          "EARTHQUAKE<br> |V|=5, |E|=4",
          "SACHS<br> |V|=11, |E|=17",
          "SURVEY<br> |V|=6, |E|=6"
         ],
         "y": [
          13,
          8,
          62,
          8,
          16,
          12
         ]
        },
        {
         "error_y": {
          "array": [
           0.6347906612998251,
           0.6311634866964149,
           2.2900767892540794,
           0.19794866372215747,
           0.43330716823151755,
           0.9313146293146642
          ],
          "type": "data",
          "visible": true
         },
         "marker": {
          "color": "#441469"
         },
         "name": "ABAPC-LLM",
         "opacity": 0.6,
         "type": "bar",
         "x": [
          "ASIA<br> |V|=8, |E|=8",
          "CANCER<br> |V|=5, |E|=4",
          "CHILD<br> |V|=20, |E|=25",
          "EARTHQUAKE<br> |V|=5, |E|=4",
          "SACHS<br> |V|=11, |E|=17",
          "SURVEY<br> |V|=6, |E|=6"
         ],
         "y": [
          4.49,
          3.36,
          23.11466666666667,
          4.04,
          16.6,
          4.5
         ]
        }
       ],
       "layout": {
        "bargap": 0.15,
        "bargroupgap": 0.1,
        "barmode": "group",
        "font": {
         "color": "black",
         "family": "Serif",
         "size": 23
        },
        "height": 700,
        "hovermode": "x unified",
        "legend": {
         "orientation": "h",
         "x": 0.5,
         "xanchor": "center",
         "y": 1,
         "yanchor": "top"
        },
        "margin": {
         "b": 80,
         "l": 40,
         "r": 40,
         "t": 20
        },
        "template": {
         "data": {
          "bar": [
           {
            "error_x": {
             "color": "#2a3f5f"
            },
            "error_y": {
             "color": "#2a3f5f"
            },
            "marker": {
             "line": {
              "color": "white",
              "width": 0.5
             },
             "pattern": {
              "fillmode": "overlay",
              "size": 10,
              "solidity": 0.2
             }
            },
            "type": "bar"
           }
          ],
          "barpolar": [
           {
            "marker": {
             "line": {
              "color": "white",
              "width": 0.5
             },
             "pattern": {
              "fillmode": "overlay",
              "size": 10,
              "solidity": 0.2
             }
            },
            "type": "barpolar"
           }
          ],
          "carpet": [
           {
            "aaxis": {
             "endlinecolor": "#2a3f5f",
             "gridcolor": "#C8D4E3",
             "linecolor": "#C8D4E3",
             "minorgridcolor": "#C8D4E3",
             "startlinecolor": "#2a3f5f"
            },
            "baxis": {
             "endlinecolor": "#2a3f5f",
             "gridcolor": "#C8D4E3",
             "linecolor": "#C8D4E3",
             "minorgridcolor": "#C8D4E3",
             "startlinecolor": "#2a3f5f"
            },
            "type": "carpet"
           }
          ],
          "choropleth": [
           {
            "colorbar": {
             "outlinewidth": 0,
             "ticks": ""
            },
            "type": "choropleth"
           }
          ],
          "contour": [
           {
            "colorbar": {
             "outlinewidth": 0,
             "ticks": ""
            },
            "colorscale": [
             [
              0,
              "#0d0887"
             ],
             [
              0.1111111111111111,
              "#46039f"
             ],
             [
              0.2222222222222222,
              "#7201a8"
             ],
             [
              0.3333333333333333,
              "#9c179e"
             ],
             [
              0.4444444444444444,
              "#bd3786"
             ],
             [
              0.5555555555555556,
              "#d8576b"
             ],
             [
              0.6666666666666666,
              "#ed7953"
             ],
             [
              0.7777777777777778,
              "#fb9f3a"
             ],
             [
              0.8888888888888888,
              "#fdca26"
             ],
             [
              1,
              "#f0f921"
             ]
            ],
            "type": "contour"
           }
          ],
          "contourcarpet": [
           {
            "colorbar": {
             "outlinewidth": 0,
             "ticks": ""
            },
            "type": "contourcarpet"
           }
          ],
          "heatmap": [
           {
            "colorbar": {
             "outlinewidth": 0,
             "ticks": ""
            },
            "colorscale": [
             [
              0,
              "#0d0887"
             ],
             [
              0.1111111111111111,
              "#46039f"
             ],
             [
              0.2222222222222222,
              "#7201a8"
             ],
             [
              0.3333333333333333,
              "#9c179e"
             ],
             [
              0.4444444444444444,
              "#bd3786"
             ],
             [
              0.5555555555555556,
              "#d8576b"
             ],
             [
              0.6666666666666666,
              "#ed7953"
             ],
             [
              0.7777777777777778,
              "#fb9f3a"
             ],
             [
              0.8888888888888888,
              "#fdca26"
             ],
             [
              1,
              "#f0f921"
             ]
            ],
            "type": "heatmap"
           }
          ],
          "histogram": [
           {
            "marker": {
             "pattern": {
              "fillmode": "overlay",
              "size": 10,
              "solidity": 0.2
             }
            },
            "type": "histogram"
           }
          ],
          "histogram2d": [
           {
            "colorbar": {
             "outlinewidth": 0,
             "ticks": ""
            },
            "colorscale": [
             [
              0,
              "#0d0887"
             ],
             [
              0.1111111111111111,
              "#46039f"
             ],
             [
              0.2222222222222222,
              "#7201a8"
             ],
             [
              0.3333333333333333,
              "#9c179e"
             ],
             [
              0.4444444444444444,
              "#bd3786"
             ],
             [
              0.5555555555555556,
              "#d8576b"
             ],
             [
              0.6666666666666666,
              "#ed7953"
             ],
             [
              0.7777777777777778,
              "#fb9f3a"
             ],
             [
              0.8888888888888888,
              "#fdca26"
             ],
             [
              1,
              "#f0f921"
             ]
            ],
            "type": "histogram2d"
           }
          ],
          "histogram2dcontour": [
           {
            "colorbar": {
             "outlinewidth": 0,
             "ticks": ""
            },
            "colorscale": [
             [
              0,
              "#0d0887"
             ],
             [
              0.1111111111111111,
              "#46039f"
             ],
             [
              0.2222222222222222,
              "#7201a8"
             ],
             [
              0.3333333333333333,
              "#9c179e"
             ],
             [
              0.4444444444444444,
              "#bd3786"
             ],
             [
              0.5555555555555556,
              "#d8576b"
             ],
             [
              0.6666666666666666,
              "#ed7953"
             ],
             [
              0.7777777777777778,
              "#fb9f3a"
             ],
             [
              0.8888888888888888,
              "#fdca26"
             ],
             [
              1,
              "#f0f921"
             ]
            ],
            "type": "histogram2dcontour"
           }
          ],
          "mesh3d": [
           {
            "colorbar": {
             "outlinewidth": 0,
             "ticks": ""
            },
            "type": "mesh3d"
           }
          ],
          "parcoords": [
           {
            "line": {
             "colorbar": {
              "outlinewidth": 0,
              "ticks": ""
             }
            },
            "type": "parcoords"
           }
          ],
          "pie": [
           {
            "automargin": true,
            "type": "pie"
           }
          ],
          "scatter": [
           {
            "fillpattern": {
             "fillmode": "overlay",
             "size": 10,
             "solidity": 0.2
            },
            "type": "scatter"
           }
          ],
          "scatter3d": [
           {
            "line": {
             "colorbar": {
              "outlinewidth": 0,
              "ticks": ""
             }
            },
            "marker": {
             "colorbar": {
              "outlinewidth": 0,
              "ticks": ""
             }
            },
            "type": "scatter3d"
           }
          ],
          "scattercarpet": [
           {
            "marker": {
             "colorbar": {
              "outlinewidth": 0,
              "ticks": ""
             }
            },
            "type": "scattercarpet"
           }
          ],
          "scattergeo": [
           {
            "marker": {
             "colorbar": {
              "outlinewidth": 0,
              "ticks": ""
             }
            },
            "type": "scattergeo"
           }
          ],
          "scattergl": [
           {
            "marker": {
             "colorbar": {
              "outlinewidth": 0,
              "ticks": ""
             }
            },
            "type": "scattergl"
           }
          ],
          "scattermap": [
           {
            "marker": {
             "colorbar": {
              "outlinewidth": 0,
              "ticks": ""
             }
            },
            "type": "scattermap"
           }
          ],
          "scattermapbox": [
           {
            "marker": {
             "colorbar": {
              "outlinewidth": 0,
              "ticks": ""
             }
            },
            "type": "scattermapbox"
           }
          ],
          "scatterpolar": [
           {
            "marker": {
             "colorbar": {
              "outlinewidth": 0,
              "ticks": ""
             }
            },
            "type": "scatterpolar"
           }
          ],
          "scatterpolargl": [
           {
            "marker": {
             "colorbar": {
              "outlinewidth": 0,
              "ticks": ""
             }
            },
            "type": "scatterpolargl"
           }
          ],
          "scatterternary": [
           {
            "marker": {
             "colorbar": {
              "outlinewidth": 0,
              "ticks": ""
             }
            },
            "type": "scatterternary"
           }
          ],
          "surface": [
           {
            "colorbar": {
             "outlinewidth": 0,
             "ticks": ""
            },
            "colorscale": [
             [
              0,
              "#0d0887"
             ],
             [
              0.1111111111111111,
              "#46039f"
             ],
             [
              0.2222222222222222,
              "#7201a8"
             ],
             [
              0.3333333333333333,
              "#9c179e"
             ],
             [
              0.4444444444444444,
              "#bd3786"
             ],
             [
              0.5555555555555556,
              "#d8576b"
             ],
             [
              0.6666666666666666,
              "#ed7953"
             ],
             [
              0.7777777777777778,
              "#fb9f3a"
             ],
             [
              0.8888888888888888,
              "#fdca26"
             ],
             [
              1,
              "#f0f921"
             ]
            ],
            "type": "surface"
           }
          ],
          "table": [
           {
            "cells": {
             "fill": {
              "color": "#EBF0F8"
             },
             "line": {
              "color": "white"
             }
            },
            "header": {
             "fill": {
              "color": "#C8D4E3"
             },
             "line": {
              "color": "white"
             }
            },
            "type": "table"
           }
          ]
         },
         "layout": {
          "annotationdefaults": {
           "arrowcolor": "#2a3f5f",
           "arrowhead": 0,
           "arrowwidth": 1
          },
          "autotypenumbers": "strict",
          "coloraxis": {
           "colorbar": {
            "outlinewidth": 0,
            "ticks": ""
           }
          },
          "colorscale": {
           "diverging": [
            [
             0,
             "#8e0152"
            ],
            [
             0.1,
             "#c51b7d"
            ],
            [
             0.2,
             "#de77ae"
            ],
            [
             0.3,
             "#f1b6da"
            ],
            [
             0.4,
             "#fde0ef"
            ],
            [
             0.5,
             "#f7f7f7"
            ],
            [
             0.6,
             "#e6f5d0"
            ],
            [
             0.7,
             "#b8e186"
            ],
            [
             0.8,
             "#7fbc41"
            ],
            [
             0.9,
             "#4d9221"
            ],
            [
             1,
             "#276419"
            ]
           ],
           "sequential": [
            [
             0,
             "#0d0887"
            ],
            [
             0.1111111111111111,
             "#46039f"
            ],
            [
             0.2222222222222222,
             "#7201a8"
            ],
            [
             0.3333333333333333,
             "#9c179e"
            ],
            [
             0.4444444444444444,
             "#bd3786"
            ],
            [
             0.5555555555555556,
             "#d8576b"
            ],
            [
             0.6666666666666666,
             "#ed7953"
            ],
            [
             0.7777777777777778,
             "#fb9f3a"
            ],
            [
             0.8888888888888888,
             "#fdca26"
            ],
            [
             1,
             "#f0f921"
            ]
           ],
           "sequentialminus": [
            [
             0,
             "#0d0887"
            ],
            [
             0.1111111111111111,
             "#46039f"
            ],
            [
             0.2222222222222222,
             "#7201a8"
            ],
            [
             0.3333333333333333,
             "#9c179e"
            ],
            [
             0.4444444444444444,
             "#bd3786"
            ],
            [
             0.5555555555555556,
             "#d8576b"
            ],
            [
             0.6666666666666666,
             "#ed7953"
            ],
            [
             0.7777777777777778,
             "#fb9f3a"
            ],
            [
             0.8888888888888888,
             "#fdca26"
            ],
            [
             1,
             "#f0f921"
            ]
           ]
          },
          "colorway": [
           "#636efa",
           "#EF553B",
           "#00cc96",
           "#ab63fa",
           "#FFA15A",
           "#19d3f3",
           "#FF6692",
           "#B6E880",
           "#FF97FF",
           "#FECB52"
          ],
          "font": {
           "color": "#2a3f5f"
          },
          "geo": {
           "bgcolor": "white",
           "lakecolor": "white",
           "landcolor": "white",
           "showlakes": true,
           "showland": true,
           "subunitcolor": "#C8D4E3"
          },
          "hoverlabel": {
           "align": "left"
          },
          "hovermode": "closest",
          "mapbox": {
           "style": "light"
          },
          "paper_bgcolor": "white",
          "plot_bgcolor": "white",
          "polar": {
           "angularaxis": {
            "gridcolor": "#EBF0F8",
            "linecolor": "#EBF0F8",
            "ticks": ""
           },
           "bgcolor": "white",
           "radialaxis": {
            "gridcolor": "#EBF0F8",
            "linecolor": "#EBF0F8",
            "ticks": ""
           }
          },
          "scene": {
           "xaxis": {
            "backgroundcolor": "white",
            "gridcolor": "#DFE8F3",
            "gridwidth": 2,
            "linecolor": "#EBF0F8",
            "showbackground": true,
            "ticks": "",
            "zerolinecolor": "#EBF0F8"
           },
           "yaxis": {
            "backgroundcolor": "white",
            "gridcolor": "#DFE8F3",
            "gridwidth": 2,
            "linecolor": "#EBF0F8",
            "showbackground": true,
            "ticks": "",
            "zerolinecolor": "#EBF0F8"
           },
           "zaxis": {
            "backgroundcolor": "white",
            "gridcolor": "#DFE8F3",
            "gridwidth": 2,
            "linecolor": "#EBF0F8",
            "showbackground": true,
            "ticks": "",
            "zerolinecolor": "#EBF0F8"
           }
          },
          "shapedefaults": {
           "line": {
            "color": "#2a3f5f"
           }
          },
          "ternary": {
           "aaxis": {
            "gridcolor": "#DFE8F3",
            "linecolor": "#A2B1C6",
            "ticks": ""
           },
           "baxis": {
            "gridcolor": "#DFE8F3",
            "linecolor": "#A2B1C6",
            "ticks": ""
           },
           "bgcolor": "white",
           "caxis": {
            "gridcolor": "#DFE8F3",
            "linecolor": "#A2B1C6",
            "ticks": ""
           }
          },
          "title": {
           "x": 0.05
          },
          "xaxis": {
           "automargin": true,
           "gridcolor": "#EBF0F8",
           "linecolor": "#EBF0F8",
           "ticks": "",
           "title": {
            "standoff": 15
           },
           "zerolinecolor": "#EBF0F8",
           "zerolinewidth": 2
          },
          "yaxis": {
           "automargin": true,
           "gridcolor": "#EBF0F8",
           "linecolor": "#EBF0F8",
           "ticks": "",
           "title": {
            "standoff": 15
           },
           "zerolinecolor": "#EBF0F8",
           "zerolinewidth": 2
          }
         }
        },
        "width": 1600,
        "yaxis": {
         "title": {
          "font": {
           "size": 23
          },
          "text": "Number of Edges in DAG"
         }
        }
       }
      }
     },
     "metadata": {},
     "output_type": "display_data"
    }
   ],
   "source": [
    "# Plots by dataset (DAG)\n",
    "if len(dag_all):\n",
    "    methods = [m for m in default_methods if m in dag_all['model'].unique()]\n",
    "    double_bar_chart_plotly(\n",
    "        dag_all, ['p_shd','F1'], names_dict, colors_dict, methods,\n",
    "        save_figs=save_figs, font_size=23, output_name=str(REPO_ROOT / 'results/figs/Fig.bn_dag_SHD_SID.html'),\n",
    "        debug=False, range_y1=[0,2.6], range_y2=[0,5.6], rect_exp=0.01\n",
    "    )\n",
    "    bar_chart_plotly(\n",
    "        dag_all, 'p_SID', names_dict, colors_dict, methods,\n",
    "        save_figs=save_figs, font_size=23, output_name=str(REPO_ROOT / 'results/figs/Fig.bn_dag_F1.html'),\n",
    "        debug=False\n",
    "    )\n",
    "    double_bar_chart_plotly(\n",
    "        dag_all, ['precision','recall'], names_dict, colors_dict, methods,\n",
    "        save_figs=save_figs, font_size=23, output_name=str(REPO_ROOT / 'results/figs/Fig.bn_dag_prec_rec.html'),\n",
    "        debug=False\n",
    "    )\n",
    "    bar_chart_plotly(\n",
    "        dag_all, 'nnz', names_dict, colors_dict, methods,\n",
    "        save_figs=save_figs, font_size=23, output_name=str(REPO_ROOT / 'results/figs/Fig.bn_dag_nnz.html'),\n",
    "        debug=False\n",
    "    )\n",
    "else:\n",
    "    print('No DAG results found.')\n"
   ]
  },
  {
   "cell_type": "code",
   "execution_count": 3,
   "id": "51f56479",
   "metadata": {},
   "outputs": [
    {
     "name": "stdout",
     "output_type": "stream",
     "text": [
      "=== GLOBAL_BINS = True ===\n"
     ]
    },
    {
     "data": {
      "image/png": "[encoded data removed]",
      "text/plain": [
       "<Figure size 680x540 with 2 Axes>"
      ]
     },
     "metadata": {},
     "output_type": "display_data"
    },
    {
     "data": {
      "image/png": "[encoded data removed]",
      "text/plain": [
       "<Figure size 1720x880 with 7 Axes>"
      ]
     },
     "metadata": {},
     "output_type": "display_data"
    },
    {
     "name": "stdout",
     "output_type": "stream",
     "text": [
      "GLOBAL_BINS=True ➜ per-dataset counts sum to aggregate? True\n",
      "CI edges (rank space): [0.0034129692832764505, 0.33560864618885095, 0.6678043230944254, 1.0]\n",
      "LLM edges (rank space): [0.0034129692832764505, 0.33560864618885095, 0.6678043230944254, 1.0]\n",
      "\n",
      "=== GLOBAL_BINS = False ===\n"
     ]
    },
    {
     "data": {
      "image/png": "[encoded data removed]",
      "text/plain": [
       "<Figure size 680x540 with 2 Axes>"
      ]
     },
     "metadata": {},
     "output_type": "display_data"
    },
    {
     "data": {
      "image/png": "[encoded data removed]",
      "text/plain": [
       "<Figure size 1720x880 with 7 Axes>"
      ]
     },
     "metadata": {},
     "output_type": "display_data"
    },
    {
     "data": {
      "application/vnd.microsoft.datawrangler.viewer.v0+json": {
       "columns": [
        {
         "name": "index",
         "rawType": "int64",
         "type": "integer"
        },
        {
         "name": "dataset",
         "rawType": "object",
         "type": "string"
        },
        {
         "name": "rows_used",
         "rawType": "int64",
         "type": "integer"
        },
        {
         "name": "sum_grid_counts",
         "rawType": "int64",
         "type": "integer"
        },
        {
         "name": "counts_match",
         "rawType": "bool",
         "type": "boolean"
        }
       ],
       "ref": "a3979d9a-270b-4ae7-bb05-c628c41d80c6",
       "rows": [
        [
         "0",
         "asia",
         "50",
         "50",
         "True"
        ],
        [
         "1",
         "cancer",
         "43",
         "43",
         "True"
        ],
        [
         "2",
         "child",
         "50",
         "50",
         "True"
        ],
        [
         "3",
         "earthquake",
         "50",
         "50",
         "True"
        ],
        [
         "4",
         "sachs",
         "50",
         "50",
         "True"
        ],
        [
         "5",
         "survey",
         "50",
         "50",
         "True"
        ]
       ],
       "shape": {
        "columns": 4,
        "rows": 6
       }
      },
      "text/html": [
       "<div>\n",
       "<style scoped>\n",
       "    .dataframe tbody tr th:only-of-type {\n",
       "        vertical-align: middle;\n",
       "    }\n",
       "\n",
       "    .dataframe tbody tr th {\n",
       "        vertical-align: top;\n",
       "    }\n",
       "\n",
       "    .dataframe thead th {\n",
       "        text-align: right;\n",
       "    }\n",
       "</style>\n",
       "<table border=\"1\" class=\"dataframe\">\n",
       "  <thead>\n",
       "    <tr style=\"text-align: right;\">\n",
       "      <th></th>\n",
       "      <th>dataset</th>\n",
       "      <th>rows_used</th>\n",
       "      <th>sum_grid_counts</th>\n",
       "      <th>counts_match</th>\n",
       "    </tr>\n",
       "  </thead>\n",
       "  <tbody>\n",
       "    <tr>\n",
       "      <th>0</th>\n",
       "      <td>asia</td>\n",
       "      <td>50</td>\n",
       "      <td>50</td>\n",
       "      <td>True</td>\n",
       "    </tr>\n",
       "    <tr>\n",
       "      <th>1</th>\n",
       "      <td>cancer</td>\n",
       "      <td>43</td>\n",
       "      <td>43</td>\n",
       "      <td>True</td>\n",
       "    </tr>\n",
       "    <tr>\n",
       "      <th>2</th>\n",
       "      <td>child</td>\n",
       "      <td>50</td>\n",
       "      <td>50</td>\n",
       "      <td>True</td>\n",
       "    </tr>\n",
       "    <tr>\n",
       "      <th>3</th>\n",
       "      <td>earthquake</td>\n",
       "      <td>50</td>\n",
       "      <td>50</td>\n",
       "      <td>True</td>\n",
       "    </tr>\n",
       "    <tr>\n",
       "      <th>4</th>\n",
       "      <td>sachs</td>\n",
       "      <td>50</td>\n",
       "      <td>50</td>\n",
       "      <td>True</td>\n",
       "    </tr>\n",
       "    <tr>\n",
       "      <th>5</th>\n",
       "      <td>survey</td>\n",
       "      <td>50</td>\n",
       "      <td>50</td>\n",
       "      <td>True</td>\n",
       "    </tr>\n",
       "  </tbody>\n",
       "</table>\n",
       "</div>"
      ],
      "text/plain": [
       "      dataset  rows_used  sum_grid_counts  counts_match\n",
       "0        asia         50               50          True\n",
       "1      cancer         43               43          True\n",
       "2       child         50               50          True\n",
       "3  earthquake         50               50          True\n",
       "4       sachs         50               50          True\n",
       "5      survey         50               50          True"
      ]
     },
     "metadata": {},
     "output_type": "display_data"
    }
   ],
   "source": [
    "# Re-execute (kernel was reset).\n",
    "\n",
    "import pandas as pd\n",
    "import numpy as np\n",
    "import matplotlib.pyplot as plt\n",
    "import math\n",
    "from matplotlib.colors import TwoSlopeNorm, LinearSegmentedColormap\n",
    "\n",
    "INPATH = \"../results/merged_bnlearn 2.csv\"\n",
    "\n",
    "def cmap_blue_good_orange_bad():\n",
    "    return LinearSegmentedColormap.from_list(\n",
    "        \"good_blue_bad_orange\",\n",
    "        [(255/255,140/255,0/255), (1,1,1), (0/255,90/255,181/255)],\n",
    "        N=256\n",
    "    )\n",
    "\n",
    "def row_ci_quality(row):\n",
    "    if \"CIT_F1\" in row and pd.notna(row[\"CIT_F1\"]):\n",
    "        return row[\"CIT_F1\"]\n",
    "    p = row.get(\"CIT_Precision\"); r = row.get(\"CIT_Recall\")\n",
    "    if pd.notna(p) and pd.notna(r) and (p+r)>0:\n",
    "        return 2*p*r/(p+r)\n",
    "    if pd.notna(r): return r\n",
    "    if pd.notna(p): return p\n",
    "    return np.nan\n",
    "\n",
    "def tie_safe_qbins(series, q=3, right=True):\n",
    "    s = pd.to_numeric(series, errors=\"coerce\")\n",
    "    ranks = s.rank(method=\"first\")\n",
    "    norm = ranks / (ranks.max() if ranks.max() else 1)\n",
    "    edges = np.quantile(norm, np.linspace(0,1,q+1))\n",
    "    if right:\n",
    "        edges[-1] = 1.0\n",
    "    labels = [\"Low\",\"Mid\",\"High\"][:q]\n",
    "    bins = pd.cut(norm, bins=edges, labels=labels, include_lowest=True, right=right, duplicates=\"drop\")\n",
    "    return bins, edges, labels\n",
    "\n",
    "def grid_counts_and_means(df_in, row_labcol, col_labcol, val_col):\n",
    "    rows = [\"High\",\"Mid\",\"Low\"]; cols = [\"Low\",\"Mid\",\"High\"]\n",
    "    means = np.full((3,3), np.nan); counts = np.zeros((3,3), dtype=int)\n",
    "    for i, rlab in enumerate(rows):\n",
    "        for j, clab in enumerate(cols):\n",
    "            vals = df_in.loc[(df_in[row_labcol]==rlab) & (df_in[col_labcol]==clab), val_col].astype(float)\n",
    "            if len(vals)>0:\n",
    "                means[i,j] = float(vals.mean()); counts[i,j] = int(len(vals))\n",
    "    return means, counts, rows, cols\n",
    "\n",
    "def plot_agg(means, counts, title_suffix):\n",
    "    vmax = np.nanmax(np.abs(means)) if np.any(~np.isnan(means)) else 1.0\n",
    "    fig = plt.figure(figsize=(6.8,5.4))\n",
    "    ax = fig.add_axes([0.12,0.16,0.66,0.74])\n",
    "    im = ax.imshow(means, cmap=cmap_blue_good_orange_bad(), norm=TwoSlopeNorm(vmin=-vmax, vcenter=0, vmax=vmax), aspect=\"equal\")\n",
    "    ax.set_xticks(range(3)); ax.set_xticklabels([\"Low CI\",\"Mid CI\",\"High CI\"], fontsize=14)\n",
    "    ax.set_yticks(range(3)); ax.set_yticklabels([\"High LLM\",\"Mid LLM\",\"Low LLM\"], fontsize=14)\n",
    "    ax.set_xlabel(\"Data constraint F1\", fontsize=14)\n",
    "    ax.set_ylabel(\"LLM constraint F1\", fontsize=14)\n",
    "    for i in range(3):\n",
    "        for j in range(3):\n",
    "            if not np.isnan(means[i,j]):\n",
    "                ax.text(j,i,f\"{means[i,j]:.3f}\\n(n={counts[i,j]})\", ha=\"center\", va=\"center\", fontsize=14)\n",
    "    cax = fig.add_axes([0.82,0.16,0.02,0.74]); cb = fig.colorbar(im, cax=cax); cb.set_label(\"Mean Δ DAG F1\", fontsize=14)\n",
    "    # ax.set_title(f\"dag_F1 — {title_suffix}\", fontsize=14)\n",
    "    plt.show()\n",
    "\n",
    "def plot_panels(panels, title_suffix):\n",
    "    n = len(panels); ncols=3; nrows=math.ceil(n/ncols)\n",
    "    fig = plt.figure(figsize=(5.0*ncols+2.2, 4.4*nrows))\n",
    "    left, right, top, bottom = 0.05, 0.11, 0.08, 0.10\n",
    "    wspace, hspace = 0.06, 0.09\n",
    "    grid_w = 1 - left - right; grid_h = 1 - top - bottom\n",
    "    cell_w = (grid_w - (ncols-1)*wspace)/ncols; cell_h = (grid_h - (nrows-1)*hspace)/nrows\n",
    "\n",
    "    vmax=0.0\n",
    "    for _, means, _ in panels:\n",
    "        if np.any(~np.isnan(means)):\n",
    "            vmax = max(vmax, np.nanmax(np.abs(means)))\n",
    "    if vmax==0: vmax=1.0\n",
    "    norm = TwoSlopeNorm(vmin=-vmax, vcenter=0, vmax=vmax)\n",
    "\n",
    "    for idx, (d, means, counts) in enumerate(panels):\n",
    "        r = idx//ncols; c = idx % ncols\n",
    "        ax = fig.add_axes([left + c*(cell_w+wspace), 1 - top - (r+1)*cell_h - r*hspace, cell_w, cell_h])\n",
    "        im = ax.imshow(means, cmap=cmap_blue_good_orange_bad(), norm=norm, aspect=\"equal\")\n",
    "        ax.set_xticks(range(3)); ax.set_xticklabels([\"Low CI\",\"Mid CI\",\"High CI\"], fontsize=14)\n",
    "        ax.set_yticks(range(3)); ax.set_yticklabels([\"High LLM\",\"Mid LLM\",\"Low LLM\"], fontsize=14)\n",
    "        ax.set_title(d, fontsize=12)\n",
    "        for i in range(3):\n",
    "            for j in range(3):\n",
    "                if not np.isnan(means[i,j]):\n",
    "                    ax.text(j,i,f\"{means[i,j]:.2f}\\n(n={counts[i,j]})\", ha=\"center\", va=\"center\", fontsize=14)\n",
    "    cax = fig.add_axes([1-right+0.01, bottom, 0.02, grid_h]); cb = fig.colorbar(im, cax=cax); cb.set_label(\"Mean Δ DAG F1\", fontsize=14)\n",
    "    # fig.suptitle(f\"dag_F1 — {title_suffix}\", fontsize=15, y=0.995)\n",
    "    plt.show()\n",
    "\n",
    "def run_heatmaps(GLOBAL_BINS=True):\n",
    "    df = pd.read_csv(INPATH)\n",
    "\n",
    "    if \"prior_forbidden_F1\" in df.columns and \"prior_required_F1\" in df.columns:\n",
    "        df[\"prior_overall_F1\"] = df[[\"prior_forbidden_F1\",\"prior_required_F1\"]].mean(axis=1)\n",
    "    LLM_COL = next((c for c in [\"prior_overall_F1\",\"AP_F1\",\"prior_required_F1\",\"prior_forbidden_F1\",\"prior_forbidden_Precision\",\"AP\"] if c in df.columns), None)\n",
    "\n",
    "    df[\"CIQ\"] = df.apply(row_ci_quality, axis=1).clip(0,1)\n",
    "\n",
    "    avg = df[[\"dataset\",\"seed\",\"impl\",\"num_nodes\",\"CIQ\",LLM_COL,\"dag_F1\"]]\\\n",
    "            .groupby([\"dataset\",\"seed\",\"impl\"], as_index=False).mean(numeric_only=True)\n",
    "\n",
    "    org = avg[avg[\"impl\"]==\"org\"].drop(columns=[\"impl\"]).rename(columns={\"CIQ\":\"ci_quality\"})\n",
    "    new = avg[avg[\"impl\"]==\"new\"].drop(columns=[\"impl\"]).rename(columns={\"CIQ\":\"ci_quality_new\", LLM_COL:\"llm_quality\"})\n",
    "    merged = pd.merge(new, org, on=[\"dataset\",\"seed\"], how=\"inner\", suffixes=(\"_new\",\"_org\"))\n",
    "    merged[\"n_nodes\"] = merged[\"num_nodes_new\"].fillna(merged[\"num_nodes_org\"])\n",
    "\n",
    "    m = merged[[\"dataset\",\"seed\",\"n_nodes\",\"ci_quality\",\"llm_quality\",\"dag_F1_new\",\"dag_F1_org\"]].copy()\n",
    "    m = m.rename(columns={\"dag_F1_new\":\"comb\",\"dag_F1_org\":\"ci\"})\n",
    "    m[\"delta\"] = m[\"comb\"] - m[\"ci\"]\n",
    "    m = m.dropna(subset=[\"ci_quality\",\"llm_quality\",\"delta\"])\n",
    "\n",
    "    if GLOBAL_BINS:\n",
    "        m[\"ci_bin\"], ci_edges, _  = tie_safe_qbins(m[\"ci_quality\"], q=3, right=True)\n",
    "        m[\"llm_bin\"], llm_edges, _ = tie_safe_qbins(m[\"llm_quality\"], q=3, right=True)\n",
    "\n",
    "        agg_means, agg_counts, _, _ = grid_counts_and_means(m, \"llm_bin\", \"ci_bin\", \"delta\")\n",
    "\n",
    "        ds = sorted(m[\"dataset\"].unique())\n",
    "        panels = []; sum_counts = np.zeros_like(agg_counts)\n",
    "        for d in ds:\n",
    "            sub = m[m[\"dataset\"]==d]\n",
    "            gmean, gcount, _, _ = grid_counts_and_means(sub, \"llm_bin\", \"ci_bin\", \"delta\")\n",
    "            panels.append((d, gmean, gcount))\n",
    "            sum_counts += gcount\n",
    "\n",
    "        plot_agg(agg_means, agg_counts, \"GLOBAL cuts\")\n",
    "        plot_panels(panels, \"per dataset (GLOBAL cuts)\")\n",
    "\n",
    "        print(\"GLOBAL_BINS=True ➜ per-dataset counts sum to aggregate?\",\n",
    "              np.array_equal(agg_counts, sum_counts))\n",
    "        print(\"CI edges (rank space):\", [float(x) for x in ci_edges])\n",
    "        print(\"LLM edges (rank space):\", [float(x) for x in llm_edges])\n",
    "\n",
    "    else:\n",
    "        ds = sorted(m[\"dataset\"].unique())\n",
    "        panels = []; checks=[]\n",
    "        for d in ds:\n",
    "            sub = m[m[\"dataset\"]==d].copy()\n",
    "            sub[\"ci_bin\"], _, _  = tie_safe_qbins(sub[\"ci_quality\"], q=3, right=True)\n",
    "            sub[\"llm_bin\"], _, _ = tie_safe_qbins(sub[\"llm_quality\"], q=3, right=True)\n",
    "            gmean, gcount, _, _ = grid_counts_and_means(sub, \"llm_bin\", \"ci_bin\", \"delta\")\n",
    "            panels.append((d, gmean, gcount))\n",
    "            checks.append({\"dataset\": d, \"rows_used\": len(sub), \"sum_grid_counts\": int(gcount.sum()), \"counts_match\": bool(gcount.sum()==len(sub))})\n",
    "\n",
    "        m[\"ci_bin_agg\"], _, _  = tie_safe_qbins(m[\"ci_quality\"], q=3, right=True)\n",
    "        m[\"llm_bin_agg\"], _, _ = tie_safe_qbins(m[\"llm_quality\"], q=3, right=True)\n",
    "        agg_means, agg_counts, _, _ = grid_counts_and_means(m, \"llm_bin_agg\", \"ci_bin_agg\", \"delta\")\n",
    "\n",
    "        plot_agg(agg_means, agg_counts, \"PER-DATASET cuts (aggregate separately binned)\")\n",
    "        plot_panels(panels, \"per dataset (PER-DATASET cuts)\")\n",
    "\n",
    "        display(pd.DataFrame(checks).sort_values(\"dataset\"))\n",
    "\n",
    "print(\"=== GLOBAL_BINS = True ===\")\n",
    "run_heatmaps(GLOBAL_BINS=True)\n",
    "\n",
    "print(\"\\n=== GLOBAL_BINS = False ===\")\n",
    "run_heatmaps(GLOBAL_BINS=False)\n"
   ]
  },
  {
   "cell_type": "markdown",
   "id": "6d1bc3b5",
   "metadata": {},
   "source": [
    "## CPDAG Results"
   ]
  },
  {
   "cell_type": "code",
   "execution_count": 8,
   "id": "bfd003d5",
   "metadata": {},
   "outputs": [
    {
     "data": {
      "application/vnd.plotly.v1+json": {
       "config": {
        "plotlyServerURL": "https://plot.ly"
       },
       "data": [
        {
         "error_y": {
          "array": {
           "bdata": "CtejcD0K7T8K16NwPQrnPzCW/GLJL+Y/9ihcj8L16z95RhPgrHnWPyP99nXgnOk/",
           "dtype": "f8"
          },
          "type": "data",
          "visible": true
         },
         "marker": {
          "color": "#7f7f7f"
         },
         "name": "Random",
         "offsetgroup": "0",
         "opacity": 0.6,
         "showlegend": true,
         "type": "bar",
         "x": [
          "CANCER<br> |V|=5, |E|=4",
          "EARTHQUAKE<br> |V|=5, |E|=4",
          "SURVEY<br> |V|=6, |E|=6",
          "ASIA<br> |V|=8, |E|=8",
          "SACHS<br> |V|=11, |E|=17",
          "CHILD<br> |V|=20, |E|=25"
         ],
         "y": {
          "bdata": "w/UoXI/C/z+F61G4HoX/P36x5BdLfgFAexSuR+H6CECQKcNc9o8FQI8xdy0hHydA",
          "dtype": "f8"
         },
         "yaxis": "y"
        },
        {
         "error_y": {
          "array": {
           "bdata": "FK5H4XoU3j/sUbgehevVP+i0gU4b6OA/MzMzMzMz5D+iO9VuCKLLP49TdCSX//Q/",
           "dtype": "f8"
          },
          "type": "data",
          "visible": true
         },
         "marker": {
          "color": "#b85c00"
         },
         "name": "FGS",
         "offsetgroup": "1",
         "opacity": 0.6,
         "showlegend": true,
         "type": "bar",
         "x": [
          "CANCER<br> |V|=5, |E|=4",
          "EARTHQUAKE<br> |V|=5, |E|=4",
          "SURVEY<br> |V|=6, |E|=6",
          "ASIA<br> |V|=8, |E|=8",
          "SACHS<br> |V|=11, |E|=17",
          "CHILD<br> |V|=20, |E|=25"
         ],
         "y": {
          "bdata": "H4XrUbge+T9mZmZmZmbyPzfQaQOdNgJA4XoUrkchEEC/i1gl8r4DQP1l9+RhoSNA",
          "dtype": "f8"
         },
         "yaxis": "y"
        },
        {
         "error_y": {
          "array": {
           "bdata": "mpmZmZmZ0T/Xo3A9CtffPwAAAAAAAAAAj8L1KFyP3j9om84BNWi7P9ZW7C+7J/M/",
           "dtype": "f8"
          },
          "type": "data",
          "visible": true
         },
         "marker": {
          "color": "#0085CA"
         },
         "name": "NOTEARS-MLP",
         "offsetgroup": "2",
         "opacity": 0.6,
         "showlegend": true,
         "type": "bar",
         "x": [
          "CANCER<br> |V|=5, |E|=4",
          "EARTHQUAKE<br> |V|=5, |E|=4",
          "SURVEY<br> |V|=6, |E|=6",
          "ASIA<br> |V|=8, |E|=8",
          "SACHS<br> |V|=11, |E|=17",
          "CHILD<br> |V|=20, |E|=25"
         ],
         "y": {
          "bdata": "XI/C9ShcA0CPwvUoXI/wP6uqqqqqqgZAXI/C9SjcAEBYV1dXV1cDQOHplbIMcRpA",
          "dtype": "f8"
         },
         "yaxis": "y"
        },
        {
         "error_y": {
          "array": {
           "bdata": "9ihcj8L13D8AAAAAAAAAADCW/GLJL+I/ZmZmZmZm5j/b+X5qvHTTPytfksX4K78/",
           "dtype": "f8"
          },
          "type": "data",
          "visible": true
         },
         "marker": {
          "color": "#379f9f"
         },
         "name": "MPC",
         "offsetgroup": "3",
         "opacity": 0.6,
         "showlegend": true,
         "type": "bar",
         "x": [
          "CANCER<br> |V|=5, |E|=4",
          "EARTHQUAKE<br> |V|=5, |E|=4",
          "SURVEY<br> |V|=6, |E|=6",
          "ASIA<br> |V|=8, |E|=8",
          "CHILD<br> |V|=20, |E|=25",
          "SACHS<br> |V|=11, |E|=17"
         ],
         "y": {
          "bdata": "CtejcD0K7z8AAAAAAAD0P2kDnTbQaes/exSuR+F6/j/vOEVHcvkDQMUqkfddxPo/",
          "dtype": "f8"
         },
         "yaxis": "y"
        },
        {
         "error_y": {
          "array": {
           "bdata": "4CEBwaLK5T8k+hYwGezuP9IGnbMCJvg/CWP/URga0j+ZtFsqSzLTPwMmz9xHaeM/",
           "dtype": "f8"
          },
          "type": "data",
          "visible": true
         },
         "marker": {
          "color": "#bcbd22"
         },
         "name": "ABAPC",
         "offsetgroup": "4",
         "opacity": 0.6,
         "showlegend": true,
         "type": "bar",
         "x": [
          "ASIA<br> |V|=8, |E|=8",
          "CANCER<br> |V|=5, |E|=4",
          "CHILD<br> |V|=20, |E|=25",
          "EARTHQUAKE<br> |V|=5, |E|=4",
          "SACHS<br> |V|=11, |E|=17",
          "SURVEY<br> |V|=6, |E|=6"
         ],
         "y": {
          "bdata": "H4XrUbheA0DhehSuR+H2P2+BBMWPMQNAexSuR+F6pD+IVSLvu4jFP3E9Ctej8AFA",
          "dtype": "f8"
         },
         "yaxis": "y"
        },
        {
         "error_y": {
          "array": {
           "bdata": "AAAAAAAA+H8AAAAAAAD4fwAAAAAAAPh/AAAAAAAA+H8AAAAAAAD4fwAAAAAAAPh/",
           "dtype": "f8"
          },
          "type": "data",
          "visible": true
         },
         "marker": {
          "color": "#e377c2"
         },
         "name": "LLM-BFS",
         "offsetgroup": "5",
         "opacity": 0.6,
         "showlegend": true,
         "type": "bar",
         "x": [
          "ASIA<br> |V|=8, |E|=8",
          "CANCER<br> |V|=5, |E|=4",
          "CHILD<br> |V|=20, |E|=25",
          "EARTHQUAKE<br> |V|=5, |E|=4",
          "SACHS<br> |V|=11, |E|=17",
          "SURVEY<br> |V|=6, |E|=6"
         ],
         "y": {
          "bdata": "uB6F61G4nj+4HoXrUbieP/YoXI/C9RBAuB6F61G4nj8PDw8PDw8HQLgehetRuJ4/",
          "dtype": "f8"
         },
         "yaxis": "y"
        },
        {
         "error_y": {
          "array": {
           "bdata": "c10cDTO00D+WNmD83S/VP//cla902us/CWP/URgawj+FwIJ3oorVP+Uw8K2VJOQ/",
           "dtype": "f8"
          },
          "type": "data",
          "visible": true
         },
         "marker": {
          "color": "#441469"
         },
         "name": "ABAPC-LLM",
         "offsetgroup": "6",
         "opacity": 0.6,
         "showlegend": true,
         "type": "bar",
         "x": [
          "ASIA<br> |V|=8, |E|=8",
          "CANCER<br> |V|=5, |E|=4",
          "CHILD<br> |V|=20, |E|=25",
          "EARTHQUAKE<br> |V|=5, |E|=4",
          "SACHS<br> |V|=11, |E|=17",
          "SURVEY<br> |V|=6, |E|=6"
         ],
         "y": {
          "bdata": "MzMzMzOz/j+4HoXrUbjOP3/rsK9i3gRAexSuR+F6lD9igQbyQ/zKP5b8YskvlgFA",
          "dtype": "f8"
         },
         "yaxis": "y"
        },
        {
         "marker": {
          "color": "white"
         },
         "name": "",
         "offsetgroup": "7",
         "opacity": 1,
         "showlegend": false,
         "type": "bar",
         "x": [
          "ASIA<br> |V|=8, |E|=8",
          "CANCER<br> |V|=5, |E|=4",
          "CHILD<br> |V|=20, |E|=25",
          "EARTHQUAKE<br> |V|=5, |E|=4",
          "SACHS<br> |V|=11, |E|=17",
          "SURVEY<br> |V|=6, |E|=6"
         ],
         "y": {
          "bdata": "AAAAAAAAAAAAAAAAAAAAAAAAAAAAAAAAAAAAAAAAAAAAAAAAAAAAAAAAAAAAAAAA",
          "dtype": "f8"
         }
        },
        {
         "error_y": {
          "array": {
           "bdata": "PQrXo3A96D+uR+F6FK7rP2kDnTbQaec/XI/C9Shc6D8m8r6LWCXSP3IbDeAtkOg/",
           "dtype": "f8"
          },
          "type": "data",
          "visible": true
         },
         "marker": {
          "color": "#7f7f7f"
         },
         "name": "Random",
         "offsetgroup": "8",
         "opacity": 0.6,
         "showlegend": false,
         "type": "bar",
         "x": [
          "CANCER<br> |V|=5, |E|=4",
          "EARTHQUAKE<br> |V|=5, |E|=4",
          "SURVEY<br> |V|=6, |E|=6",
          "ASIA<br> |V|=8, |E|=8",
          "SACHS<br> |V|=11, |E|=17",
          "CHILD<br> |V|=20, |E|=25"
         ],
         "y": {
          "bdata": "FK5H4XoUDEDD9Shcj8ILQNBpA5020A1AH4XrUbieEkC57B9ThrkIQPyH9NvXgSlA",
          "dtype": "f8"
         },
         "yaxis": "y2"
        },
        {
         "error_y": {
          "array": {
           "bdata": "FK5H4XoU3j9cj8L1KFy/P3TaQKcNdOI/exSuR+F61j923EKpD3bMP0Mc6+I2Gug/",
           "dtype": "f8"
          },
          "type": "data",
          "visible": true
         },
         "marker": {
          "color": "#b85c00"
         },
         "name": "FGS",
         "offsetgroup": "9",
         "opacity": 0.6,
         "showlegend": false,
         "type": "bar",
         "x": [
          "CANCER<br> |V|=5, |E|=4",
          "EARTHQUAKE<br> |V|=5, |E|=4",
          "SURVEY<br> |V|=6, |E|=6",
          "ASIA<br> |V|=8, |E|=8",
          "SACHS<br> |V|=11, |E|=17",
          "CHILD<br> |V|=20, |E|=25"
         ],
         "y": {
          "bdata": "SOF6FK5HEEAAAAAAAAAOQIwlv1jyiwtAmpmZmZnZFED+ypdkMf4GQG1Wfa62YihA",
          "dtype": "f8"
         },
         "yaxis": "y2"
        },
        {
         "error_y": {
          "array": {
           "bdata": "SOF6FK5HsT8AAAAAAADsPwAAAAAAAAAAMzMzMzMz4D8N2qZzQA26P8rDQq1p3vE/",
           "dtype": "f8"
          },
          "type": "data",
          "visible": true
         },
         "marker": {
          "color": "#0085CA"
         },
         "name": "NOTEARS-MLP",
         "offsetgroup": "10",
         "opacity": 0.6,
         "showlegend": false,
         "type": "bar",
         "x": [
          "CANCER<br> |V|=5, |E|=4",
          "EARTHQUAKE<br> |V|=5, |E|=4",
          "SURVEY<br> |V|=6, |E|=6",
          "ASIA<br> |V|=8, |E|=8",
          "SACHS<br> |V|=11, |E|=17",
          "CHILD<br> |V|=20, |E|=25"
         ],
         "y": {
          "bdata": "KVyPwvUoBEA9CtejcD0LQKuqqqqqqgZAzczMzMwMFUCYZDH+ypcMQE+vlGWIYylA",
          "dtype": "f8"
         },
         "yaxis": "y2"
        },
        {
         "error_y": {
          "array": {
           "bdata": "9ihcj8L13D8AAAAAAAAAAEGnDXTaQOc/KVyPwvUo3j97FK5H4XqkPwAAAAAAAAAA",
           "dtype": "f8"
          },
          "type": "data",
          "visible": true
         },
         "marker": {
          "color": "#379f9f"
         },
         "name": "MPC",
         "offsetgroup": "11",
         "opacity": 0.6,
         "showlegend": false,
         "type": "bar",
         "x": [
          "CANCER<br> |V|=5, |E|=4",
          "EARTHQUAKE<br> |V|=5, |E|=4",
          "SURVEY<br> |V|=6, |E|=6",
          "ASIA<br> |V|=8, |E|=8",
          "CHILD<br> |V|=20, |E|=25",
          "SACHS<br> |V|=11, |E|=17"
         ],
         "y": {
          "bdata": "w/UoXI/CC0AAAAAAAAAOQNQGOm2g0wpAw/UoXI+CFECsrdhfdk8uQC0tLS0tLQ1A",
          "dtype": "f8"
         },
         "yaxis": "y2"
        },
        {
         "error_y": {
          "array": {
           "bdata": "fjqMrw1k6z8I4gEXW4foP6i0J05oDvw/bRIbX7mo4D+YF4B3sbHQP5zuTM66R+g/",
           "dtype": "f8"
          },
          "type": "data",
          "visible": true
         },
         "marker": {
          "color": "#bcbd22"
         },
         "name": "ABAPC",
         "offsetgroup": "12",
         "opacity": 0.6,
         "showlegend": false,
         "type": "bar",
         "x": [
          "ASIA<br> |V|=8, |E|=8",
          "CANCER<br> |V|=5, |E|=4",
          "CHILD<br> |V|=20, |E|=25",
          "EARTHQUAKE<br> |V|=5, |E|=4",
          "SACHS<br> |V|=11, |E|=17",
          "SURVEY<br> |V|=6, |E|=6"
         ],
         "y": {
          "bdata": "KVyPwvWoD0C4HoXrUTgGQI68mb7ExSZAFK5H4XoU9j9YJfK+i1gFQME8Uf9GKAhA",
          "dtype": "f8"
         },
         "yaxis": "y2"
        },
        {
         "error_y": {
          "array": {
           "bdata": "AAAAAAAA+H8AAAAAAAD4fwAAAAAAAPh/AAAAAAAA+H8AAAAAAAD4fwAAAAAAAPh/",
           "dtype": "f8"
          },
          "type": "data",
          "visible": true
         },
         "marker": {
          "color": "#e377c2"
         },
         "name": "LLM-BFS",
         "offsetgroup": "13",
         "opacity": 0.6,
         "showlegend": false,
         "type": "bar",
         "x": [
          "ASIA<br> |V|=8, |E|=8",
          "CANCER<br> |V|=5, |E|=4",
          "CHILD<br> |V|=20, |E|=25",
          "EARTHQUAKE<br> |V|=5, |E|=4",
          "SACHS<br> |V|=11, |E|=17",
          "SURVEY<br> |V|=6, |E|=6"
         ],
         "y": {
          "bdata": "AAAAAAAA/j8AAAAAAADoPxSuR+F6FCJAAAAAAAAA6D8AAAAAAAAIQAAAAAAAAAxA",
          "dtype": "f8"
         },
         "yaxis": "y2"
        },
        {
         "error_y": {
          "array": {
           "bdata": "Pm8vaUuH1j+CXqeRsnrqPxtR4QgPcOY/bRIbX7mo4D9ymSxNgAnBPy752dcYdOM/",
           "dtype": "f8"
          },
          "type": "data",
          "visible": true
         },
         "marker": {
          "color": "#441469"
         },
         "name": "ABAPC-LLM",
         "offsetgroup": "14",
         "opacity": 0.6,
         "showlegend": false,
         "type": "bar",
         "x": [
          "ASIA<br> |V|=8, |E|=8",
          "CANCER<br> |V|=5, |E|=4",
          "CHILD<br> |V|=20, |E|=25",
          "EARTHQUAKE<br> |V|=5, |E|=4",
          "SACHS<br> |V|=11, |E|=17",
          "SURVEY<br> |V|=6, |E|=6"
         ],
         "y": {
          "bdata": "SOF6FK7HCEDhehSuR+EBQCzJJ1EcLSpAFK5H4XoU9j/MZf+YMswFQLgehetRuAZA",
          "dtype": "f8"
         },
         "yaxis": "y2"
        }
       ],
       "layout": {
        "annotations": [
         {
          "font": {
           "color": "black",
           "size": 24
          },
          "showarrow": false,
          "text": "         Best         ",
          "x": 0.04541666666666666,
          "xanchor": "center",
          "xref": "x domain",
          "y": 1.07,
          "yanchor": "middle",
          "yref": "y domain"
         },
         {
          "font": {
           "color": "black",
           "size": 24
          },
          "showarrow": false,
          "text": "         Worst         ",
          "x": 0.12125,
          "xanchor": "center",
          "xref": "x domain",
          "y": 1.07,
          "yanchor": "middle",
          "yref": "y domain"
         },
         {
          "font": {
           "color": "black",
           "size": 24
          },
          "showarrow": false,
          "text": "         Best         ",
          "x": 0.21208333333333332,
          "xanchor": "center",
          "xref": "x domain",
          "y": 1.07,
          "yanchor": "middle",
          "yref": "y domain"
         },
         {
          "font": {
           "color": "black",
           "size": 24
          },
          "showarrow": false,
          "text": "         Worst         ",
          "x": 0.2879166666666667,
          "xanchor": "center",
          "xref": "x domain",
          "y": 1.07,
          "yanchor": "middle",
          "yref": "y domain"
         },
         {
          "font": {
           "color": "black",
           "size": 24
          },
          "showarrow": false,
          "text": "         Best         ",
          "x": 0.37875000000000003,
          "xanchor": "center",
          "xref": "x domain",
          "y": 1.07,
          "yanchor": "middle",
          "yref": "y domain"
         },
         {
          "font": {
           "color": "black",
           "size": 24
          },
          "showarrow": false,
          "text": "         Worst         ",
          "x": 0.45458333333333334,
          "xanchor": "center",
          "xref": "x domain",
          "y": 1.07,
          "yanchor": "middle",
          "yref": "y domain"
         },
         {
          "font": {
           "color": "black",
           "size": 24
          },
          "showarrow": false,
          "text": "         Best         ",
          "x": 0.5454166666666667,
          "xanchor": "center",
          "xref": "x domain",
          "y": 1.07,
          "yanchor": "middle",
          "yref": "y domain"
         },
         {
          "font": {
           "color": "black",
           "size": 24
          },
          "showarrow": false,
          "text": "         Worst         ",
          "x": 0.6212499999999999,
          "xanchor": "center",
          "xref": "x domain",
          "y": 1.07,
          "yanchor": "middle",
          "yref": "y domain"
         },
         {
          "font": {
           "color": "black",
           "size": 24
          },
          "showarrow": false,
          "text": "         Best         ",
          "x": 0.7120833333333332,
          "xanchor": "center",
          "xref": "x domain",
          "y": 1.07,
          "yanchor": "middle",
          "yref": "y domain"
         },
         {
          "font": {
           "color": "black",
           "size": 24
          },
          "showarrow": false,
          "text": "         Worst         ",
          "x": 0.7879166666666666,
          "xanchor": "center",
          "xref": "x domain",
          "y": 1.07,
          "yanchor": "middle",
          "yref": "y domain"
         },
         {
          "font": {
           "color": "black",
           "size": 24
          },
          "showarrow": false,
          "text": "         Best         ",
          "x": 0.8787499999999999,
          "xanchor": "center",
          "xref": "x domain",
          "y": 1.07,
          "yanchor": "middle",
          "yref": "y domain"
         },
         {
          "font": {
           "color": "black",
           "size": 24
          },
          "showarrow": false,
          "text": "         Worst         ",
          "x": 0.9545833333333331,
          "xanchor": "center",
          "xref": "x domain",
          "y": 1.07,
          "yanchor": "middle",
          "yref": "y domain"
         }
        ],
        "bargap": 0.08,
        "bargroupgap": 0.05,
        "barmode": "group",
        "font": {
         "color": "black",
         "family": "Serif",
         "size": 24
        },
        "height": 700,
        "hovermode": "x unified",
        "legend": {
         "orientation": "h",
         "x": 0.5,
         "xanchor": "center",
         "y": 1.23,
         "yanchor": "top"
        },
        "margin": {
         "b": 70,
         "l": 40,
         "r": 40,
         "t": 80
        },
        "shapes": [
         {
          "fillcolor": "#E5ECF6",
          "layer": "below",
          "line": {
           "color": "#E5ECF6",
           "width": 2
          },
          "type": "rect",
          "x0": 0.002499999999999992,
          "x1": 0.08833333333333333,
          "xref": "x domain",
          "y0": 1.04,
          "y1": 1.1,
          "yref": "y domain"
         },
         {
          "fillcolor": "#E5ECF6",
          "layer": "below",
          "line": {
           "color": "#E5ECF6",
           "width": 2
          },
          "type": "rect",
          "x0": 0.07833333333333332,
          "x1": 0.16416666666666666,
          "xref": "x domain",
          "y0": 1.04,
          "y1": 1.1,
          "yref": "y domain"
         },
         {
          "fillcolor": "#E5ECF6",
          "layer": "below",
          "line": {
           "color": "#E5ECF6",
           "width": 2
          },
          "type": "rect",
          "x0": 0.16916666666666666,
          "x1": 0.255,
          "xref": "x domain",
          "y0": 1.04,
          "y1": 1.1,
          "yref": "y domain"
         },
         {
          "fillcolor": "#E5ECF6",
          "layer": "below",
          "line": {
           "color": "#E5ECF6",
           "width": 2
          },
          "type": "rect",
          "x0": 0.24500000000000002,
          "x1": 0.33083333333333337,
          "xref": "x domain",
          "y0": 1.04,
          "y1": 1.1,
          "yref": "y domain"
         },
         {
          "fillcolor": "#E5ECF6",
          "layer": "below",
          "line": {
           "color": "#E5ECF6",
           "width": 2
          },
          "type": "rect",
          "x0": 0.3358333333333333,
          "x1": 0.4216666666666667,
          "xref": "x domain",
          "y0": 1.04,
          "y1": 1.1,
          "yref": "y domain"
         },
         {
          "fillcolor": "#E5ECF6",
          "layer": "below",
          "line": {
           "color": "#E5ECF6",
           "width": 2
          },
          "type": "rect",
          "x0": 0.4116666666666666,
          "x1": 0.4975,
          "xref": "x domain",
          "y0": 1.04,
          "y1": 1.1,
          "yref": "y domain"
         },
         {
          "fillcolor": "#E5ECF6",
          "layer": "below",
          "line": {
           "color": "#E5ECF6",
           "width": 2
          },
          "type": "rect",
          "x0": 0.5025,
          "x1": 0.5883333333333334,
          "xref": "x domain",
          "y0": 1.04,
          "y1": 1.1,
          "yref": "y domain"
         },
         {
          "fillcolor": "#E5ECF6",
          "layer": "below",
          "line": {
           "color": "#E5ECF6",
           "width": 2
          },
          "type": "rect",
          "x0": 0.5783333333333333,
          "x1": 0.6641666666666666,
          "xref": "x domain",
          "y0": 1.04,
          "y1": 1.1,
          "yref": "y domain"
         },
         {
          "fillcolor": "#E5ECF6",
          "layer": "below",
          "line": {
           "color": "#E5ECF6",
           "width": 2
          },
          "type": "rect",
          "x0": 0.6691666666666666,
          "x1": 0.7549999999999999,
          "xref": "x domain",
          "y0": 1.04,
          "y1": 1.1,
          "yref": "y domain"
         },
         {
          "fillcolor": "#E5ECF6",
          "layer": "below",
          "line": {
           "color": "#E5ECF6",
           "width": 2
          },
          "type": "rect",
          "x0": 0.7449999999999999,
          "x1": 0.8308333333333333,
          "xref": "x domain",
          "y0": 1.04,
          "y1": 1.1,
          "yref": "y domain"
         },
         {
          "fillcolor": "#E5ECF6",
          "layer": "below",
          "line": {
           "color": "#E5ECF6",
           "width": 2
          },
          "type": "rect",
          "x0": 0.8358333333333332,
          "x1": 0.9216666666666666,
          "xref": "x domain",
          "y0": 1.04,
          "y1": 1.1,
          "yref": "y domain"
         },
         {
          "fillcolor": "#E5ECF6",
          "layer": "below",
          "line": {
           "color": "#E5ECF6",
           "width": 2
          },
          "type": "rect",
          "x0": 0.9116666666666665,
          "x1": 0.9974999999999998,
          "xref": "x domain",
          "y0": 1.04,
          "y1": 1.1,
          "yref": "y domain"
         }
        ],
        "template": {
         "data": {
          "bar": [
           {
            "error_x": {
             "color": "#2a3f5f"
            },
            "error_y": {
             "color": "#2a3f5f"
            },
            "marker": {
             "line": {
              "color": "white",
              "width": 0.5
             },
             "pattern": {
              "fillmode": "overlay",
              "size": 10,
              "solidity": 0.2
             }
            },
            "type": "bar"
           }
          ],
          "barpolar": [
           {
            "marker": {
             "line": {
              "color": "white",
              "width": 0.5
             },
             "pattern": {
              "fillmode": "overlay",
              "size": 10,
              "solidity": 0.2
             }
            },
            "type": "barpolar"
           }
          ],
          "carpet": [
           {
            "aaxis": {
             "endlinecolor": "#2a3f5f",
             "gridcolor": "#C8D4E3",
             "linecolor": "#C8D4E3",
             "minorgridcolor": "#C8D4E3",
             "startlinecolor": "#2a3f5f"
            },
            "baxis": {
             "endlinecolor": "#2a3f5f",
             "gridcolor": "#C8D4E3",
             "linecolor": "#C8D4E3",
             "minorgridcolor": "#C8D4E3",
             "startlinecolor": "#2a3f5f"
            },
            "type": "carpet"
           }
          ],
          "choropleth": [
           {
            "colorbar": {
             "outlinewidth": 0,
             "ticks": ""
            },
            "type": "choropleth"
           }
          ],
          "contour": [
           {
            "colorbar": {
             "outlinewidth": 0,
             "ticks": ""
            },
            "colorscale": [
             [
              0,
              "#0d0887"
             ],
             [
              0.1111111111111111,
              "#46039f"
             ],
             [
              0.2222222222222222,
              "#7201a8"
             ],
             [
              0.3333333333333333,
              "#9c179e"
             ],
             [
              0.4444444444444444,
              "#bd3786"
             ],
             [
              0.5555555555555556,
              "#d8576b"
             ],
             [
              0.6666666666666666,
              "#ed7953"
             ],
             [
              0.7777777777777778,
              "#fb9f3a"
             ],
             [
              0.8888888888888888,
              "#fdca26"
             ],
             [
              1,
              "#f0f921"
             ]
            ],
            "type": "contour"
           }
          ],
          "contourcarpet": [
           {
            "colorbar": {
             "outlinewidth": 0,
             "ticks": ""
            },
            "type": "contourcarpet"
           }
          ],
          "heatmap": [
           {
            "colorbar": {
             "outlinewidth": 0,
             "ticks": ""
            },
            "colorscale": [
             [
              0,
              "#0d0887"
             ],
             [
              0.1111111111111111,
              "#46039f"
             ],
             [
              0.2222222222222222,
              "#7201a8"
             ],
             [
              0.3333333333333333,
              "#9c179e"
             ],
             [
              0.4444444444444444,
              "#bd3786"
             ],
             [
              0.5555555555555556,
              "#d8576b"
             ],
             [
              0.6666666666666666,
              "#ed7953"
             ],
             [
              0.7777777777777778,
              "#fb9f3a"
             ],
             [
              0.8888888888888888,
              "#fdca26"
             ],
             [
              1,
              "#f0f921"
             ]
            ],
            "type": "heatmap"
           }
          ],
          "histogram": [
           {
            "marker": {
             "pattern": {
              "fillmode": "overlay",
              "size": 10,
              "solidity": 0.2
             }
            },
            "type": "histogram"
           }
          ],
          "histogram2d": [
           {
            "colorbar": {
             "outlinewidth": 0,
             "ticks": ""
            },
            "colorscale": [
             [
              0,
              "#0d0887"
             ],
             [
              0.1111111111111111,
              "#46039f"
             ],
             [
              0.2222222222222222,
              "#7201a8"
             ],
             [
              0.3333333333333333,
              "#9c179e"
             ],
             [
              0.4444444444444444,
              "#bd3786"
             ],
             [
              0.5555555555555556,
              "#d8576b"
             ],
             [
              0.6666666666666666,
              "#ed7953"
             ],
             [
              0.7777777777777778,
              "#fb9f3a"
             ],
             [
              0.8888888888888888,
              "#fdca26"
             ],
             [
              1,
              "#f0f921"
             ]
            ],
            "type": "histogram2d"
           }
          ],
          "histogram2dcontour": [
           {
            "colorbar": {
             "outlinewidth": 0,
             "ticks": ""
            },
            "colorscale": [
             [
              0,
              "#0d0887"
             ],
             [
              0.1111111111111111,
              "#46039f"
             ],
             [
              0.2222222222222222,
              "#7201a8"
             ],
             [
              0.3333333333333333,
              "#9c179e"
             ],
             [
              0.4444444444444444,
              "#bd3786"
             ],
             [
              0.5555555555555556,
              "#d8576b"
             ],
             [
              0.6666666666666666,
              "#ed7953"
             ],
             [
              0.7777777777777778,
              "#fb9f3a"
             ],
             [
              0.8888888888888888,
              "#fdca26"
             ],
             [
              1,
              "#f0f921"
             ]
            ],
            "type": "histogram2dcontour"
           }
          ],
          "mesh3d": [
           {
            "colorbar": {
             "outlinewidth": 0,
             "ticks": ""
            },
            "type": "mesh3d"
           }
          ],
          "parcoords": [
           {
            "line": {
             "colorbar": {
              "outlinewidth": 0,
              "ticks": ""
             }
            },
            "type": "parcoords"
           }
          ],
          "pie": [
           {
            "automargin": true,
            "type": "pie"
           }
          ],
          "scatter": [
           {
            "fillpattern": {
             "fillmode": "overlay",
             "size": 10,
             "solidity": 0.2
            },
            "type": "scatter"
           }
          ],
          "scatter3d": [
           {
            "line": {
             "colorbar": {
              "outlinewidth": 0,
              "ticks": ""
             }
            },
            "marker": {
             "colorbar": {
              "outlinewidth": 0,
              "ticks": ""
             }
            },
            "type": "scatter3d"
           }
          ],
          "scattercarpet": [
           {
            "marker": {
             "colorbar": {
              "outlinewidth": 0,
              "ticks": ""
             }
            },
            "type": "scattercarpet"
           }
          ],
          "scattergeo": [
           {
            "marker": {
             "colorbar": {
              "outlinewidth": 0,
              "ticks": ""
             }
            },
            "type": "scattergeo"
           }
          ],
          "scattergl": [
           {
            "marker": {
             "colorbar": {
              "outlinewidth": 0,
              "ticks": ""
             }
            },
            "type": "scattergl"
           }
          ],
          "scattermap": [
           {
            "marker": {
             "colorbar": {
              "outlinewidth": 0,
              "ticks": ""
             }
            },
            "type": "scattermap"
           }
          ],
          "scattermapbox": [
           {
            "marker": {
             "colorbar": {
              "outlinewidth": 0,
              "ticks": ""
             }
            },
            "type": "scattermapbox"
           }
          ],
          "scatterpolar": [
           {
            "marker": {
             "colorbar": {
              "outlinewidth": 0,
              "ticks": ""
             }
            },
            "type": "scatterpolar"
           }
          ],
          "scatterpolargl": [
           {
            "marker": {
             "colorbar": {
              "outlinewidth": 0,
              "ticks": ""
             }
            },
            "type": "scatterpolargl"
           }
          ],
          "scatterternary": [
           {
            "marker": {
             "colorbar": {
              "outlinewidth": 0,
              "ticks": ""
             }
            },
            "type": "scatterternary"
           }
          ],
          "surface": [
           {
            "colorbar": {
             "outlinewidth": 0,
             "ticks": ""
            },
            "colorscale": [
             [
              0,
              "#0d0887"
             ],
             [
              0.1111111111111111,
              "#46039f"
             ],
             [
              0.2222222222222222,
              "#7201a8"
             ],
             [
              0.3333333333333333,
              "#9c179e"
             ],
             [
              0.4444444444444444,
              "#bd3786"
             ],
             [
              0.5555555555555556,
              "#d8576b"
             ],
             [
              0.6666666666666666,
              "#ed7953"
             ],
             [
              0.7777777777777778,
              "#fb9f3a"
             ],
             [
              0.8888888888888888,
              "#fdca26"
             ],
             [
              1,
              "#f0f921"
             ]
            ],
            "type": "surface"
           }
          ],
          "table": [
           {
            "cells": {
             "fill": {
              "color": "#EBF0F8"
             },
             "line": {
              "color": "white"
             }
            },
            "header": {
             "fill": {
              "color": "#C8D4E3"
             },
             "line": {
              "color": "white"
             }
            },
            "type": "table"
           }
          ]
         },
         "layout": {
          "annotationdefaults": {
           "arrowcolor": "#2a3f5f",
           "arrowhead": 0,
           "arrowwidth": 1
          },
          "autotypenumbers": "strict",
          "coloraxis": {
           "colorbar": {
            "outlinewidth": 0,
            "ticks": ""
           }
          },
          "colorscale": {
           "diverging": [
            [
             0,
             "#8e0152"
            ],
            [
             0.1,
             "#c51b7d"
            ],
            [
             0.2,
             "#de77ae"
            ],
            [
             0.3,
             "#f1b6da"
            ],
            [
             0.4,
             "#fde0ef"
            ],
            [
             0.5,
             "#f7f7f7"
            ],
            [
             0.6,
             "#e6f5d0"
            ],
            [
             0.7,
             "#b8e186"
            ],
            [
             0.8,
             "#7fbc41"
            ],
            [
             0.9,
             "#4d9221"
            ],
            [
             1,
             "#276419"
            ]
           ],
           "sequential": [
            [
             0,
             "#0d0887"
            ],
            [
             0.1111111111111111,
             "#46039f"
            ],
            [
             0.2222222222222222,
             "#7201a8"
            ],
            [
             0.3333333333333333,
             "#9c179e"
            ],
            [
             0.4444444444444444,
             "#bd3786"
            ],
            [
             0.5555555555555556,
             "#d8576b"
            ],
            [
             0.6666666666666666,
             "#ed7953"
            ],
            [
             0.7777777777777778,
             "#fb9f3a"
            ],
            [
             0.8888888888888888,
             "#fdca26"
            ],
            [
             1,
             "#f0f921"
            ]
           ],
           "sequentialminus": [
            [
             0,
             "#0d0887"
            ],
            [
             0.1111111111111111,
             "#46039f"
            ],
            [
             0.2222222222222222,
             "#7201a8"
            ],
            [
             0.3333333333333333,
             "#9c179e"
            ],
            [
             0.4444444444444444,
             "#bd3786"
            ],
            [
             0.5555555555555556,
             "#d8576b"
            ],
            [
             0.6666666666666666,
             "#ed7953"
            ],
            [
             0.7777777777777778,
             "#fb9f3a"
            ],
            [
             0.8888888888888888,
             "#fdca26"
            ],
            [
             1,
             "#f0f921"
            ]
           ]
          },
          "colorway": [
           "#636efa",
           "#EF553B",
           "#00cc96",
           "#ab63fa",
           "#FFA15A",
           "#19d3f3",
           "#FF6692",
           "#B6E880",
           "#FF97FF",
           "#FECB52"
          ],
          "font": {
           "color": "#2a3f5f"
          },
          "geo": {
           "bgcolor": "white",
           "lakecolor": "white",
           "landcolor": "white",
           "showlakes": true,
           "showland": true,
           "subunitcolor": "#C8D4E3"
          },
          "hoverlabel": {
           "align": "left"
          },
          "hovermode": "closest",
          "mapbox": {
           "style": "light"
          },
          "paper_bgcolor": "white",
          "plot_bgcolor": "white",
          "polar": {
           "angularaxis": {
            "gridcolor": "#EBF0F8",
            "linecolor": "#EBF0F8",
            "ticks": ""
           },
           "bgcolor": "white",
           "radialaxis": {
            "gridcolor": "#EBF0F8",
            "linecolor": "#EBF0F8",
            "ticks": ""
           }
          },
          "scene": {
           "xaxis": {
            "backgroundcolor": "white",
            "gridcolor": "#DFE8F3",
            "gridwidth": 2,
            "linecolor": "#EBF0F8",
            "showbackground": true,
            "ticks": "",
            "zerolinecolor": "#EBF0F8"
           },
           "yaxis": {
            "backgroundcolor": "white",
            "gridcolor": "#DFE8F3",
            "gridwidth": 2,
            "linecolor": "#EBF0F8",
            "showbackground": true,
            "ticks": "",
            "zerolinecolor": "#EBF0F8"
           },
           "zaxis": {
            "backgroundcolor": "white",
            "gridcolor": "#DFE8F3",
            "gridwidth": 2,
            "linecolor": "#EBF0F8",
            "showbackground": true,
            "ticks": "",
            "zerolinecolor": "#EBF0F8"
           }
          },
          "shapedefaults": {
           "line": {
            "color": "#2a3f5f"
           }
          },
          "ternary": {
           "aaxis": {
            "gridcolor": "#DFE8F3",
            "linecolor": "#A2B1C6",
            "ticks": ""
           },
           "baxis": {
            "gridcolor": "#DFE8F3",
            "linecolor": "#A2B1C6",
            "ticks": ""
           },
           "bgcolor": "white",
           "caxis": {
            "gridcolor": "#DFE8F3",
            "linecolor": "#A2B1C6",
            "ticks": ""
           }
          },
          "title": {
           "x": 0.05
          },
          "xaxis": {
           "automargin": true,
           "gridcolor": "#EBF0F8",
           "linecolor": "#EBF0F8",
           "ticks": "",
           "title": {
            "standoff": 15
           },
           "zerolinecolor": "#EBF0F8",
           "zerolinewidth": 2
          },
          "yaxis": {
           "automargin": true,
           "gridcolor": "#EBF0F8",
           "linecolor": "#EBF0F8",
           "ticks": "",
           "title": {
            "standoff": 15
           },
           "zerolinecolor": "#EBF0F8",
           "zerolinewidth": 2
          }
         }
        },
        "width": 1600,
        "xaxis": {
         "anchor": "y",
         "domain": [
          0,
          0.94
         ]
        },
        "yaxis": {
         "anchor": "x",
         "domain": [
          0,
          1
         ],
         "range": [
          0,
          6
         ],
         "title": {
          "font": {
           "size": 24
          },
          "text": "Normalised SID"
         }
        },
        "yaxis2": {
         "anchor": "x",
         "overlaying": "y",
         "range": [
          0,
          6
         ],
         "scaleanchor": 0,
         "showgrid": false,
         "showline": false,
         "showticklabels": false,
         "side": "right",
         "title": {
          "font": {
           "size": 24
          },
          "text": ""
         },
         "zeroline": true
        }
       }
      }
     },
     "metadata": {},
     "output_type": "display_data"
    },
    {
     "data": {
      "application/vnd.plotly.v1+json": {
       "config": {
        "plotlyServerURL": "https://plot.ly"
       },
       "data": [
        {
         "error_y": {
          "array": {
           "bdata": "zczMzMzM2D+uR+F6FK7XP+tRuB6F69E/XI/C9Shcyz9EEN2pdkPAP0GC4seYu7Y/",
           "dtype": "f8"
          },
          "type": "data",
          "visible": true
         },
         "marker": {
          "color": "#7f7f7f"
         },
         "name": "Random",
         "offsetgroup": "0",
         "opacity": 0.6,
         "showlegend": true,
         "type": "bar",
         "x": [
          "CANCER<br> |V|=5, |E|=4",
          "EARTHQUAKE<br> |V|=5, |E|=4",
          "SURVEY<br> |V|=6, |E|=6",
          "ASIA<br> |V|=8, |E|=8",
          "SACHS<br> |V|=11, |E|=17",
          "CHILD<br> |V|=20, |E|=25"
         ],
         "y": {
          "bdata": "4XoUrkfh9j8zMzMzMzP3P6uqqqqqqvY/AAAAAAAA+j9lMf7Kl2T5P0+vlGWIY/0/",
          "dtype": "f8"
         },
         "yaxis": "y"
        },
        {
         "error_y": {
          "array": {
           "bdata": "FK5H4XoUvj97FK5H4XrEP4/C9Shcj8I/pHA9CtejuD8DnDXPaAK8P5yiI7n8h8Q/",
           "dtype": "f8"
          },
          "type": "data",
          "visible": true
         },
         "marker": {
          "color": "#b85c00"
         },
         "name": "FGS",
         "offsetgroup": "1",
         "opacity": 0.6,
         "showlegend": true,
         "type": "bar",
         "x": [
          "CANCER<br> |V|=5, |E|=4",
          "EARTHQUAKE<br> |V|=5, |E|=4",
          "SURVEY<br> |V|=6, |E|=6",
          "ASIA<br> |V|=8, |E|=8",
          "SACHS<br> |V|=11, |E|=17",
          "CHILD<br> |V|=20, |E|=25"
         ],
         "y": {
          "bdata": "j8L1KFyP4j/2KFyPwvXkPwOdNtBpA/U/PQrXo3A9+D8xl/1jyjD3P4SezarP1QJA",
          "dtype": "f8"
         },
         "yaxis": "y"
        },
        {
         "error_y": {
          "array": {
           "bdata": "SOF6FK5HsT9SuB6F61HIPwAAAAAAAAAAexSuR+F6vD8qkfddxCqxPxKlvcEXJrM/",
           "dtype": "f8"
          },
          "type": "data",
          "visible": true
         },
         "marker": {
          "color": "#0085CA"
         },
         "name": "NOTEARS-MLP",
         "offsetgroup": "2",
         "opacity": 0.6,
         "showlegend": true,
         "type": "bar",
         "x": [
          "CANCER<br> |V|=5, |E|=4",
          "EARTHQUAKE<br> |V|=5, |E|=4",
          "SURVEY<br> |V|=6, |E|=6",
          "ASIA<br> |V|=8, |E|=8",
          "SACHS<br> |V|=11, |E|=17",
          "CHILD<br> |V|=20, |E|=25"
         ],
         "y": {
          "bdata": "XI/C9Shc7z/D9Shcj8LdPwAAAAAAAPA/CtejcD0K6z/zJVmMv/LlP1uxv+yePOw/",
          "dtype": "f8"
         },
         "yaxis": "y"
        },
        {
         "error_y": {
          "array": {
           "bdata": "mpmZmZmZqT/sUbgehevBP1nyiyW/WLI/H4XrUbgetT9YObTIdr6vP9GdajcE0a0/",
           "dtype": "f8"
          },
          "type": "data",
          "visible": true
         },
         "marker": {
          "color": "#379f9f"
         },
         "name": "MPC",
         "offsetgroup": "3",
         "opacity": 0.6,
         "showlegend": true,
         "type": "bar",
         "x": [
          "CANCER<br> |V|=5, |E|=4",
          "EARTHQUAKE<br> |V|=5, |E|=4",
          "SURVEY<br> |V|=6, |E|=6",
          "ASIA<br> |V|=8, |E|=8",
          "CHILD<br> |V|=20, |E|=25",
          "SACHS<br> |V|=11, |E|=17"
         ],
         "y": {
          "bdata": "UrgehetR4D8fhetRuB7lP5020GkDneY/j8L1KFyP4j8fY+5aQj7wP6Y+2HELpd4/",
          "dtype": "f8"
         },
         "yaxis": "y"
        },
        {
         "error_y": {
          "array": {
           "bdata": "es2laiWhxD+55uc8+lHSP/ygZCP56cI/BBVQeVGgvT+TFqt/S7G1P+OiwArlaMg/",
           "dtype": "f8"
          },
          "type": "data",
          "visible": true
         },
         "marker": {
          "color": "#bcbd22"
         },
         "name": "ABAPC",
         "offsetgroup": "4",
         "opacity": 0.6,
         "showlegend": true,
         "type": "bar",
         "x": [
          "ASIA<br> |V|=8, |E|=8",
          "CANCER<br> |V|=5, |E|=4",
          "CHILD<br> |V|=20, |E|=25",
          "EARTHQUAKE<br> |V|=5, |E|=4",
          "SACHS<br> |V|=11, |E|=17",
          "SURVEY<br> |V|=6, |E|=6"
         ],
         "y": {
          "bdata": "/GLJL5b85D8RWDm0yHbgP+zCIpnoBs0/mpmZmZmZmT9EEN2pdkOwP0jhehSuR+c/",
          "dtype": "f8"
         },
         "yaxis": "y"
        },
        {
         "error_y": {
          "array": {
           "bdata": "AAAAAAAA+H8AAAAAAAD4fwAAAAAAAPh/AAAAAAAA+H8AAAAAAAD4fwAAAAAAAPh/",
           "dtype": "f8"
          },
          "type": "data",
          "visible": true
         },
         "marker": {
          "color": "#e377c2"
         },
         "name": "LLM-BFS",
         "offsetgroup": "5",
         "opacity": 0.6,
         "showlegend": true,
         "type": "bar",
         "x": [
          "ASIA<br> |V|=8, |E|=8",
          "CANCER<br> |V|=5, |E|=4",
          "CHILD<br> |V|=20, |E|=25",
          "EARTHQUAKE<br> |V|=5, |E|=4",
          "SACHS<br> |V|=11, |E|=17",
          "SURVEY<br> |V|=6, |E|=6"
         ],
         "y": {
          "bdata": "AAAAAAAA5D8AAAAAAADwP4/C9ShcjwJAAAAAAAAA8D+mpaWlpaX1P1VVVVVVVfU/",
          "dtype": "f8"
         },
         "yaxis": "y"
        },
        {
         "error_y": {
          "array": {
           "bdata": "RqiDc6Rbtj+C63xO7x3RPyi4YAtAeLs/Z4XFujnKtT/ROYV2eJS1P4mjRHd0Acg/",
           "dtype": "f8"
          },
          "type": "data",
          "visible": true
         },
         "marker": {
          "color": "#441469"
         },
         "name": "ABAPC-LLM",
         "offsetgroup": "6",
         "opacity": 0.6,
         "showlegend": true,
         "type": "bar",
         "x": [
          "ASIA<br> |V|=8, |E|=8",
          "CANCER<br> |V|=5, |E|=4",
          "CHILD<br> |V|=20, |E|=25",
          "EARTHQUAKE<br> |V|=5, |E|=4",
          "SACHS<br> |V|=11, |E|=17",
          "SURVEY<br> |V|=6, |E|=6"
         ],
         "y": {
          "bdata": "KVyPwvUo4D97FK5H4XrUPwwStUeCg9A/exSuR+F6lD89t8t5waKtP3TaQKcNdOY/",
          "dtype": "f8"
         },
         "yaxis": "y"
        },
        {
         "marker": {
          "color": "white"
         },
         "name": "",
         "offsetgroup": "7",
         "opacity": 1,
         "showlegend": false,
         "type": "bar",
         "x": [
          "ASIA<br> |V|=8, |E|=8",
          "CANCER<br> |V|=5, |E|=4",
          "CHILD<br> |V|=20, |E|=25",
          "EARTHQUAKE<br> |V|=5, |E|=4",
          "SACHS<br> |V|=11, |E|=17",
          "SURVEY<br> |V|=6, |E|=6"
         ],
         "y": {
          "bdata": "AAAAAAAAAAAAAAAAAAAAAAAAAAAAAAAAAAAAAAAAAAAAAAAAAAAAAAAAAAAAAAAA",
          "dtype": "f8"
         }
        },
        {
         "error_y": {
          "array": [
           0.13,
           0.1,
           0.12,
           0.06,
           0.06,
           0.04
          ],
          "type": "data",
          "visible": true
         },
         "marker": {
          "color": "#7f7f7f"
         },
         "name": "Random",
         "offsetgroup": "8",
         "opacity": 0.6,
         "showlegend": false,
         "type": "bar",
         "x": [
          "CANCER<br> |V|=5, |E|=4",
          "EARTHQUAKE<br> |V|=5, |E|=4",
          "SURVEY<br> |V|=6, |E|=6",
          "ASIA<br> |V|=8, |E|=8",
          "SACHS<br> |V|=11, |E|=17",
          "CHILD<br> |V|=20, |E|=25"
         ],
         "y": [
          0.32,
          0.3,
          0.31,
          0.17,
          0.13,
          0.08
         ],
         "yaxis": "y2"
        },
        {
         "error_y": {
          "array": [
           0.1,
           0.03,
           0.1,
           0.04,
           0.03,
           0.05
          ],
          "type": "data",
          "visible": true
         },
         "marker": {
          "color": "#b85c00"
         },
         "name": "FGS",
         "offsetgroup": "9",
         "opacity": 0.6,
         "showlegend": false,
         "type": "bar",
         "x": [
          "CANCER<br> |V|=5, |E|=4",
          "EARTHQUAKE<br> |V|=5, |E|=4",
          "SURVEY<br> |V|=6, |E|=6",
          "ASIA<br> |V|=8, |E|=8",
          "SACHS<br> |V|=11, |E|=17",
          "CHILD<br> |V|=20, |E|=25"
         ],
         "y": [
          0.43,
          0.47,
          0.27,
          0.25,
          0.14,
          0.14
         ],
         "yaxis": "y2"
        },
        {
         "error_y": {
          "array": [
           0,
           0.17,
           null,
           0.1,
           0,
           0.06
          ],
          "type": "data",
          "visible": true
         },
         "marker": {
          "color": "#0085CA"
         },
         "name": "NOTEARS-MLP",
         "offsetgroup": "10",
         "opacity": 0.6,
         "showlegend": false,
         "type": "bar",
         "x": [
          "CANCER<br> |V|=5, |E|=4",
          "EARTHQUAKE<br> |V|=5, |E|=4",
          "SURVEY<br> |V|=6, |E|=6",
          "ASIA<br> |V|=8, |E|=8",
          "SACHS<br> |V|=11, |E|=17",
          "CHILD<br> |V|=20, |E|=25"
         ],
         "y": [
          0.4,
          0.56,
          null,
          0.33,
          0.09,
          0.41
         ],
         "yaxis": "y2"
        },
        {
         "error_y": {
          "array": [
           0.04,
           0.03,
           0.07,
           0.07,
           0.02,
           0
          ],
          "type": "data",
          "visible": true
         },
         "marker": {
          "color": "#379f9f"
         },
         "name": "MPC",
         "offsetgroup": "11",
         "opacity": 0.6,
         "showlegend": false,
         "type": "bar",
         "x": [
          "CANCER<br> |V|=5, |E|=4",
          "EARTHQUAKE<br> |V|=5, |E|=4",
          "SURVEY<br> |V|=6, |E|=6",
          "ASIA<br> |V|=8, |E|=8",
          "CHILD<br> |V|=20, |E|=25",
          "SACHS<br> |V|=11, |E|=17"
         ],
         "y": [
          0.52,
          0.46,
          0.66,
          0.33,
          0.41,
          0.07
         ],
         "yaxis": "y2"
        },
        {
         "error_y": {
          "array": [
           0.13259509695636998,
           0.1811537743117641,
           0.07694296419280655,
           0.07343676485693702,
           0.060712586060243295,
           0.12851401381156521
          ],
          "type": "data",
          "visible": true
         },
         "marker": {
          "color": "#bcbd22"
         },
         "name": "ABAPC",
         "offsetgroup": "12",
         "opacity": 0.6,
         "showlegend": false,
         "type": "bar",
         "x": [
          "ASIA<br> |V|=8, |E|=8",
          "CANCER<br> |V|=5, |E|=4",
          "CHILD<br> |V|=20, |E|=25",
          "EARTHQUAKE<br> |V|=5, |E|=4",
          "SACHS<br> |V|=11, |E|=17",
          "SURVEY<br> |V|=6, |E|=6"
         ],
         "y": [
          0.3375460992907801,
          0.6121104651162791,
          0.7275159999999999,
          0.985556,
          0.138084,
          0.6142736
         ],
         "yaxis": "y2"
        },
        {
         "error_y": {
          "array": [
           null,
           null,
           null,
           null,
           null,
           null
          ],
          "type": "data",
          "visible": true
         },
         "marker": {
          "color": "#e377c2"
         },
         "name": "LLM-BFS",
         "offsetgroup": "13",
         "opacity": 0.6,
         "showlegend": false,
         "type": "bar",
         "x": [
          "ASIA<br> |V|=8, |E|=8",
          "CANCER<br> |V|=5, |E|=4",
          "CHILD<br> |V|=20, |E|=25",
          "EARTHQUAKE<br> |V|=5, |E|=4",
          "SACHS<br> |V|=11, |E|=17",
          "SURVEY<br> |V|=6, |E|=6"
         ],
         "y": [
          0.5714,
          0.6667,
          0.3448,
          0.6667,
          0.2424,
          0.6667
         ],
         "yaxis": "y2"
        },
        {
         "error_y": {
          "array": [
           0.08272014610993493,
           0.23034463997077356,
           0.053680364845622865,
           0.04108899331242581,
           0.07109443423319982,
           0.13007860378734587
          ],
          "type": "data",
          "visible": true
         },
         "marker": {
          "color": "#441469"
         },
         "name": "ABAPC-LLM",
         "offsetgroup": "14",
         "opacity": 0.6,
         "showlegend": false,
         "type": "bar",
         "x": [
          "ASIA<br> |V|=8, |E|=8",
          "CANCER<br> |V|=5, |E|=4",
          "CHILD<br> |V|=20, |E|=25",
          "EARTHQUAKE<br> |V|=5, |E|=4",
          "SACHS<br> |V|=11, |E|=17",
          "SURVEY<br> |V|=6, |E|=6"
         ],
         "y": [
          0.425527,
          0.72887,
          0.7241621333333333,
          0.990556,
          0.15103919999999998,
          0.62668
         ],
         "yaxis": "y2"
        }
       ],
       "layout": {
        "annotations": [
         {
          "font": {
           "color": "black",
           "size": 23
          },
          "showarrow": false,
          "text": "         NSHD         ",
          "x": 0.043750000000000004,
          "xanchor": "center",
          "xref": "x domain",
          "y": 1.07,
          "yanchor": "middle",
          "yref": "y domain"
         },
         {
          "font": {
           "color": "black",
           "size": 23
          },
          "showarrow": false,
          "text": "           F1           ",
          "x": 0.12291666666666667,
          "xanchor": "center",
          "xref": "x domain",
          "y": 1.07,
          "yanchor": "middle",
          "yref": "y domain"
         },
         {
          "font": {
           "color": "black",
           "size": 23
          },
          "showarrow": false,
          "text": "         NSHD         ",
          "x": 0.21041666666666664,
          "xanchor": "center",
          "xref": "x domain",
          "y": 1.07,
          "yanchor": "middle",
          "yref": "y domain"
         },
         {
          "font": {
           "color": "black",
           "size": 23
          },
          "showarrow": false,
          "text": "           F1           ",
          "x": 0.2895833333333333,
          "xanchor": "center",
          "xref": "x domain",
          "y": 1.07,
          "yanchor": "middle",
          "yref": "y domain"
         },
         {
          "font": {
           "color": "black",
           "size": 23
          },
          "showarrow": false,
          "text": "         NSHD         ",
          "x": 0.3770833333333333,
          "xanchor": "center",
          "xref": "x domain",
          "y": 1.07,
          "yanchor": "middle",
          "yref": "y domain"
         },
         {
          "font": {
           "color": "black",
           "size": 23
          },
          "showarrow": false,
          "text": "           F1           ",
          "x": 0.45625,
          "xanchor": "center",
          "xref": "x domain",
          "y": 1.07,
          "yanchor": "middle",
          "yref": "y domain"
         },
         {
          "font": {
           "color": "black",
           "size": 23
          },
          "showarrow": false,
          "text": "         NSHD         ",
          "x": 0.54375,
          "xanchor": "center",
          "xref": "x domain",
          "y": 1.07,
          "yanchor": "middle",
          "yref": "y domain"
         },
         {
          "font": {
           "color": "black",
           "size": 23
          },
          "showarrow": false,
          "text": "           F1           ",
          "x": 0.6229166666666667,
          "xanchor": "center",
          "xref": "x domain",
          "y": 1.07,
          "yanchor": "middle",
          "yref": "y domain"
         },
         {
          "font": {
           "color": "black",
           "size": 23
          },
          "showarrow": false,
          "text": "         NSHD         ",
          "x": 0.7104166666666666,
          "xanchor": "center",
          "xref": "x domain",
          "y": 1.07,
          "yanchor": "middle",
          "yref": "y domain"
         },
         {
          "font": {
           "color": "black",
           "size": 23
          },
          "showarrow": false,
          "text": "           F1           ",
          "x": 0.7895833333333332,
          "xanchor": "center",
          "xref": "x domain",
          "y": 1.07,
          "yanchor": "middle",
          "yref": "y domain"
         },
         {
          "font": {
           "color": "black",
           "size": 23
          },
          "showarrow": false,
          "text": "         NSHD         ",
          "x": 0.8770833333333332,
          "xanchor": "center",
          "xref": "x domain",
          "y": 1.07,
          "yanchor": "middle",
          "yref": "y domain"
         },
         {
          "font": {
           "color": "black",
           "size": 23
          },
          "showarrow": false,
          "text": "           F1           ",
          "x": 0.9562499999999999,
          "xanchor": "center",
          "xref": "x domain",
          "y": 1.07,
          "yanchor": "middle",
          "yref": "y domain"
         }
        ],
        "bargap": 0.08,
        "bargroupgap": 0.05,
        "barmode": "group",
        "font": {
         "color": "black",
         "family": "Serif",
         "size": 23
        },
        "height": 700,
        "hovermode": "x unified",
        "legend": {
         "orientation": "h",
         "x": 0.5,
         "xanchor": "center",
         "y": 1.23,
         "yanchor": "top"
        },
        "margin": {
         "b": 70,
         "l": 40,
         "r": 40,
         "t": 80
        },
        "shapes": [
         {
          "fillcolor": "#E5ECF6",
          "layer": "below",
          "line": {
           "color": "#E5ECF6",
           "width": 2
          },
          "type": "rect",
          "x0": 0,
          "x1": 0.09000000000000001,
          "xref": "x domain",
          "y0": 1.04,
          "y1": 1.1,
          "yref": "y domain"
         },
         {
          "fillcolor": "#E5ECF6",
          "layer": "below",
          "line": {
           "color": "#E5ECF6",
           "width": 2
          },
          "type": "rect",
          "x0": 0.07666666666666666,
          "x1": 0.16916666666666666,
          "xref": "x domain",
          "y0": 1.04,
          "y1": 1.1,
          "yref": "y domain"
         },
         {
          "fillcolor": "#E5ECF6",
          "layer": "below",
          "line": {
           "color": "#E5ECF6",
           "width": 2
          },
          "type": "rect",
          "x0": 0.16416666666666666,
          "x1": 0.25666666666666665,
          "xref": "x domain",
          "y0": 1.04,
          "y1": 1.1,
          "yref": "y domain"
         },
         {
          "fillcolor": "#E5ECF6",
          "layer": "below",
          "line": {
           "color": "#E5ECF6",
           "width": 2
          },
          "type": "rect",
          "x0": 0.24333333333333332,
          "x1": 0.3358333333333333,
          "xref": "x domain",
          "y0": 1.04,
          "y1": 1.1,
          "yref": "y domain"
         },
         {
          "fillcolor": "#E5ECF6",
          "layer": "below",
          "line": {
           "color": "#E5ECF6",
           "width": 2
          },
          "type": "rect",
          "x0": 0.3308333333333333,
          "x1": 0.42333333333333334,
          "xref": "x domain",
          "y0": 1.04,
          "y1": 1.1,
          "yref": "y domain"
         },
         {
          "fillcolor": "#E5ECF6",
          "layer": "below",
          "line": {
           "color": "#E5ECF6",
           "width": 2
          },
          "type": "rect",
          "x0": 0.41,
          "x1": 0.5025,
          "xref": "x domain",
          "y0": 1.04,
          "y1": 1.1,
          "yref": "y domain"
         },
         {
          "fillcolor": "#E5ECF6",
          "layer": "below",
          "line": {
           "color": "#E5ECF6",
           "width": 2
          },
          "type": "rect",
          "x0": 0.49749999999999994,
          "x1": 0.59,
          "xref": "x domain",
          "y0": 1.04,
          "y1": 1.1,
          "yref": "y domain"
         },
         {
          "fillcolor": "#E5ECF6",
          "layer": "below",
          "line": {
           "color": "#E5ECF6",
           "width": 2
          },
          "type": "rect",
          "x0": 0.5766666666666667,
          "x1": 0.6691666666666667,
          "xref": "x domain",
          "y0": 1.04,
          "y1": 1.1,
          "yref": "y domain"
         },
         {
          "fillcolor": "#E5ECF6",
          "layer": "below",
          "line": {
           "color": "#E5ECF6",
           "width": 2
          },
          "type": "rect",
          "x0": 0.6641666666666666,
          "x1": 0.7566666666666666,
          "xref": "x domain",
          "y0": 1.04,
          "y1": 1.1,
          "yref": "y domain"
         },
         {
          "fillcolor": "#E5ECF6",
          "layer": "below",
          "line": {
           "color": "#E5ECF6",
           "width": 2
          },
          "type": "rect",
          "x0": 0.7433333333333332,
          "x1": 0.8358333333333332,
          "xref": "x domain",
          "y0": 1.04,
          "y1": 1.1,
          "yref": "y domain"
         },
         {
          "fillcolor": "#E5ECF6",
          "layer": "below",
          "line": {
           "color": "#E5ECF6",
           "width": 2
          },
          "type": "rect",
          "x0": 0.8308333333333332,
          "x1": 0.9233333333333332,
          "xref": "x domain",
          "y0": 1.04,
          "y1": 1.1,
          "yref": "y domain"
         },
         {
          "fillcolor": "#E5ECF6",
          "layer": "below",
          "line": {
           "color": "#E5ECF6",
           "width": 2
          },
          "type": "rect",
          "x0": 0.9099999999999999,
          "x1": 1,
          "xref": "x domain",
          "y0": 1.04,
          "y1": 1.1,
          "yref": "y domain"
         }
        ],
        "template": {
         "data": {
          "bar": [
           {
            "error_x": {
             "color": "#2a3f5f"
            },
            "error_y": {
             "color": "#2a3f5f"
            },
            "marker": {
             "line": {
              "color": "white",
              "width": 0.5
             },
             "pattern": {
              "fillmode": "overlay",
              "size": 10,
              "solidity": 0.2
             }
            },
            "type": "bar"
           }
          ],
          "barpolar": [
           {
            "marker": {
             "line": {
              "color": "white",
              "width": 0.5
             },
             "pattern": {
              "fillmode": "overlay",
              "size": 10,
              "solidity": 0.2
             }
            },
            "type": "barpolar"
           }
          ],
          "carpet": [
           {
            "aaxis": {
             "endlinecolor": "#2a3f5f",
             "gridcolor": "#C8D4E3",
             "linecolor": "#C8D4E3",
             "minorgridcolor": "#C8D4E3",
             "startlinecolor": "#2a3f5f"
            },
            "baxis": {
             "endlinecolor": "#2a3f5f",
             "gridcolor": "#C8D4E3",
             "linecolor": "#C8D4E3",
             "minorgridcolor": "#C8D4E3",
             "startlinecolor": "#2a3f5f"
            },
            "type": "carpet"
           }
          ],
          "choropleth": [
           {
            "colorbar": {
             "outlinewidth": 0,
             "ticks": ""
            },
            "type": "choropleth"
           }
          ],
          "contour": [
           {
            "colorbar": {
             "outlinewidth": 0,
             "ticks": ""
            },
            "colorscale": [
             [
              0,
              "#0d0887"
             ],
             [
              0.1111111111111111,
              "#46039f"
             ],
             [
              0.2222222222222222,
              "#7201a8"
             ],
             [
              0.3333333333333333,
              "#9c179e"
             ],
             [
              0.4444444444444444,
              "#bd3786"
             ],
             [
              0.5555555555555556,
              "#d8576b"
             ],
             [
              0.6666666666666666,
              "#ed7953"
             ],
             [
              0.7777777777777778,
              "#fb9f3a"
             ],
             [
              0.8888888888888888,
              "#fdca26"
             ],
             [
              1,
              "#f0f921"
             ]
            ],
            "type": "contour"
           }
          ],
          "contourcarpet": [
           {
            "colorbar": {
             "outlinewidth": 0,
             "ticks": ""
            },
            "type": "contourcarpet"
           }
          ],
          "heatmap": [
           {
            "colorbar": {
             "outlinewidth": 0,
             "ticks": ""
            },
            "colorscale": [
             [
              0,
              "#0d0887"
             ],
             [
              0.1111111111111111,
              "#46039f"
             ],
             [
              0.2222222222222222,
              "#7201a8"
             ],
             [
              0.3333333333333333,
              "#9c179e"
             ],
             [
              0.4444444444444444,
              "#bd3786"
             ],
             [
              0.5555555555555556,
              "#d8576b"
             ],
             [
              0.6666666666666666,
              "#ed7953"
             ],
             [
              0.7777777777777778,
              "#fb9f3a"
             ],
             [
              0.8888888888888888,
              "#fdca26"
             ],
             [
              1,
              "#f0f921"
             ]
            ],
            "type": "heatmap"
           }
          ],
          "histogram": [
           {
            "marker": {
             "pattern": {
              "fillmode": "overlay",
              "size": 10,
              "solidity": 0.2
             }
            },
            "type": "histogram"
           }
          ],
          "histogram2d": [
           {
            "colorbar": {
             "outlinewidth": 0,
             "ticks": ""
            },
            "colorscale": [
             [
              0,
              "#0d0887"
             ],
             [
              0.1111111111111111,
              "#46039f"
             ],
             [
              0.2222222222222222,
              "#7201a8"
             ],
             [
              0.3333333333333333,
              "#9c179e"
             ],
             [
              0.4444444444444444,
              "#bd3786"
             ],
             [
              0.5555555555555556,
              "#d8576b"
             ],
             [
              0.6666666666666666,
              "#ed7953"
             ],
             [
              0.7777777777777778,
              "#fb9f3a"
             ],
             [
              0.8888888888888888,
              "#fdca26"
             ],
             [
              1,
              "#f0f921"
             ]
            ],
            "type": "histogram2d"
           }
          ],
          "histogram2dcontour": [
           {
            "colorbar": {
             "outlinewidth": 0,
             "ticks": ""
            },
            "colorscale": [
             [
              0,
              "#0d0887"
             ],
             [
              0.1111111111111111,
              "#46039f"
             ],
             [
              0.2222222222222222,
              "#7201a8"
             ],
             [
              0.3333333333333333,
              "#9c179e"
             ],
             [
              0.4444444444444444,
              "#bd3786"
             ],
             [
              0.5555555555555556,
              "#d8576b"
             ],
             [
              0.6666666666666666,
              "#ed7953"
             ],
             [
              0.7777777777777778,
              "#fb9f3a"
             ],
             [
              0.8888888888888888,
              "#fdca26"
             ],
             [
              1,
              "#f0f921"
             ]
            ],
            "type": "histogram2dcontour"
           }
          ],
          "mesh3d": [
           {
            "colorbar": {
             "outlinewidth": 0,
             "ticks": ""
            },
            "type": "mesh3d"
           }
          ],
          "parcoords": [
           {
            "line": {
             "colorbar": {
              "outlinewidth": 0,
              "ticks": ""
             }
            },
            "type": "parcoords"
           }
          ],
          "pie": [
           {
            "automargin": true,
            "type": "pie"
           }
          ],
          "scatter": [
           {
            "fillpattern": {
             "fillmode": "overlay",
             "size": 10,
             "solidity": 0.2
            },
            "type": "scatter"
           }
          ],
          "scatter3d": [
           {
            "line": {
             "colorbar": {
              "outlinewidth": 0,
              "ticks": ""
             }
            },
            "marker": {
             "colorbar": {
              "outlinewidth": 0,
              "ticks": ""
             }
            },
            "type": "scatter3d"
           }
          ],
          "scattercarpet": [
           {
            "marker": {
             "colorbar": {
              "outlinewidth": 0,
              "ticks": ""
             }
            },
            "type": "scattercarpet"
           }
          ],
          "scattergeo": [
           {
            "marker": {
             "colorbar": {
              "outlinewidth": 0,
              "ticks": ""
             }
            },
            "type": "scattergeo"
           }
          ],
          "scattergl": [
           {
            "marker": {
             "colorbar": {
              "outlinewidth": 0,
              "ticks": ""
             }
            },
            "type": "scattergl"
           }
          ],
          "scattermap": [
           {
            "marker": {
             "colorbar": {
              "outlinewidth": 0,
              "ticks": ""
             }
            },
            "type": "scattermap"
           }
          ],
          "scattermapbox": [
           {
            "marker": {
             "colorbar": {
              "outlinewidth": 0,
              "ticks": ""
             }
            },
            "type": "scattermapbox"
           }
          ],
          "scatterpolar": [
           {
            "marker": {
             "colorbar": {
              "outlinewidth": 0,
              "ticks": ""
             }
            },
            "type": "scatterpolar"
           }
          ],
          "scatterpolargl": [
           {
            "marker": {
             "colorbar": {
              "outlinewidth": 0,
              "ticks": ""
             }
            },
            "type": "scatterpolargl"
           }
          ],
          "scatterternary": [
           {
            "marker": {
             "colorbar": {
              "outlinewidth": 0,
              "ticks": ""
             }
            },
            "type": "scatterternary"
           }
          ],
          "surface": [
           {
            "colorbar": {
             "outlinewidth": 0,
             "ticks": ""
            },
            "colorscale": [
             [
              0,
              "#0d0887"
             ],
             [
              0.1111111111111111,
              "#46039f"
             ],
             [
              0.2222222222222222,
              "#7201a8"
             ],
             [
              0.3333333333333333,
              "#9c179e"
             ],
             [
              0.4444444444444444,
              "#bd3786"
             ],
             [
              0.5555555555555556,
              "#d8576b"
             ],
             [
              0.6666666666666666,
              "#ed7953"
             ],
             [
              0.7777777777777778,
              "#fb9f3a"
             ],
             [
              0.8888888888888888,
              "#fdca26"
             ],
             [
              1,
              "#f0f921"
             ]
            ],
            "type": "surface"
           }
          ],
          "table": [
           {
            "cells": {
             "fill": {
              "color": "#EBF0F8"
             },
             "line": {
              "color": "white"
             }
            },
            "header": {
             "fill": {
              "color": "#C8D4E3"
             },
             "line": {
              "color": "white"
             }
            },
            "type": "table"
           }
          ]
         },
         "layout": {
          "annotationdefaults": {
           "arrowcolor": "#2a3f5f",
           "arrowhead": 0,
           "arrowwidth": 1
          },
          "autotypenumbers": "strict",
          "coloraxis": {
           "colorbar": {
            "outlinewidth": 0,
            "ticks": ""
           }
          },
          "colorscale": {
           "diverging": [
            [
             0,
             "#8e0152"
            ],
            [
             0.1,
             "#c51b7d"
            ],
            [
             0.2,
             "#de77ae"
            ],
            [
             0.3,
             "#f1b6da"
            ],
            [
             0.4,
             "#fde0ef"
            ],
            [
             0.5,
             "#f7f7f7"
            ],
            [
             0.6,
             "#e6f5d0"
            ],
            [
             0.7,
             "#b8e186"
            ],
            [
             0.8,
             "#7fbc41"
            ],
            [
             0.9,
             "#4d9221"
            ],
            [
             1,
             "#276419"
            ]
           ],
           "sequential": [
            [
             0,
             "#0d0887"
            ],
            [
             0.1111111111111111,
             "#46039f"
            ],
            [
             0.2222222222222222,
             "#7201a8"
            ],
            [
             0.3333333333333333,
             "#9c179e"
            ],
            [
             0.4444444444444444,
             "#bd3786"
            ],
            [
             0.5555555555555556,
             "#d8576b"
            ],
            [
             0.6666666666666666,
             "#ed7953"
            ],
            [
             0.7777777777777778,
             "#fb9f3a"
            ],
            [
             0.8888888888888888,
             "#fdca26"
            ],
            [
             1,
             "#f0f921"
            ]
           ],
           "sequentialminus": [
            [
             0,
             "#0d0887"
            ],
            [
             0.1111111111111111,
             "#46039f"
            ],
            [
             0.2222222222222222,
             "#7201a8"
            ],
            [
             0.3333333333333333,
             "#9c179e"
            ],
            [
             0.4444444444444444,
             "#bd3786"
            ],
            [
             0.5555555555555556,
             "#d8576b"
            ],
            [
             0.6666666666666666,
             "#ed7953"
            ],
            [
             0.7777777777777778,
             "#fb9f3a"
            ],
            [
             0.8888888888888888,
             "#fdca26"
            ],
            [
             1,
             "#f0f921"
            ]
           ]
          },
          "colorway": [
           "#636efa",
           "#EF553B",
           "#00cc96",
           "#ab63fa",
           "#FFA15A",
           "#19d3f3",
           "#FF6692",
           "#B6E880",
           "#FF97FF",
           "#FECB52"
          ],
          "font": {
           "color": "#2a3f5f"
          },
          "geo": {
           "bgcolor": "white",
           "lakecolor": "white",
           "landcolor": "white",
           "showlakes": true,
           "showland": true,
           "subunitcolor": "#C8D4E3"
          },
          "hoverlabel": {
           "align": "left"
          },
          "hovermode": "closest",
          "mapbox": {
           "style": "light"
          },
          "paper_bgcolor": "white",
          "plot_bgcolor": "white",
          "polar": {
           "angularaxis": {
            "gridcolor": "#EBF0F8",
            "linecolor": "#EBF0F8",
            "ticks": ""
           },
           "bgcolor": "white",
           "radialaxis": {
            "gridcolor": "#EBF0F8",
            "linecolor": "#EBF0F8",
            "ticks": ""
           }
          },
          "scene": {
           "xaxis": {
            "backgroundcolor": "white",
            "gridcolor": "#DFE8F3",
            "gridwidth": 2,
            "linecolor": "#EBF0F8",
            "showbackground": true,
            "ticks": "",
            "zerolinecolor": "#EBF0F8"
           },
           "yaxis": {
            "backgroundcolor": "white",
            "gridcolor": "#DFE8F3",
            "gridwidth": 2,
            "linecolor": "#EBF0F8",
            "showbackground": true,
            "ticks": "",
            "zerolinecolor": "#EBF0F8"
           },
           "zaxis": {
            "backgroundcolor": "white",
            "gridcolor": "#DFE8F3",
            "gridwidth": 2,
            "linecolor": "#EBF0F8",
            "showbackground": true,
            "ticks": "",
            "zerolinecolor": "#EBF0F8"
           }
          },
          "shapedefaults": {
           "line": {
            "color": "#2a3f5f"
           }
          },
          "ternary": {
           "aaxis": {
            "gridcolor": "#DFE8F3",
            "linecolor": "#A2B1C6",
            "ticks": ""
           },
           "baxis": {
            "gridcolor": "#DFE8F3",
            "linecolor": "#A2B1C6",
            "ticks": ""
           },
           "bgcolor": "white",
           "caxis": {
            "gridcolor": "#DFE8F3",
            "linecolor": "#A2B1C6",
            "ticks": ""
           }
          },
          "title": {
           "x": 0.05
          },
          "xaxis": {
           "automargin": true,
           "gridcolor": "#EBF0F8",
           "linecolor": "#EBF0F8",
           "ticks": "",
           "title": {
            "standoff": 15
           },
           "zerolinecolor": "#EBF0F8",
           "zerolinewidth": 2
          },
          "yaxis": {
           "automargin": true,
           "gridcolor": "#EBF0F8",
           "linecolor": "#EBF0F8",
           "ticks": "",
           "title": {
            "standoff": 15
           },
           "zerolinecolor": "#EBF0F8",
           "zerolinewidth": 2
          }
         }
        },
        "width": 1600,
        "xaxis": {
         "anchor": "y",
         "domain": [
          0,
          0.94
         ]
        },
        "yaxis": {
         "anchor": "x",
         "domain": [
          0,
          1
         ],
         "range": [
          0,
          2
         ],
         "title": {
          "font": {
           "size": 23
          },
          "text": "Normalised SHD"
         }
        },
        "yaxis2": {
         "anchor": "x",
         "overlaying": "y",
         "scaleanchor": 0,
         "showgrid": false,
         "showline": false,
         "showticklabels": true,
         "side": "right",
         "title": {
          "font": {
           "size": 23
          },
          "text": "F1"
         },
         "zeroline": true
        }
       }
      }
     },
     "metadata": {},
     "output_type": "display_data"
    },
    {
     "data": {
      "application/vnd.plotly.v1+json": {
       "config": {
        "plotlyServerURL": "https://plot.ly"
       },
       "data": [
        {
         "error_y": {
          "array": [
           0.19,
           0.17,
           0.14,
           0.09,
           0.07,
           0.05
          ],
          "type": "data",
          "visible": true
         },
         "marker": {
          "color": "#7f7f7f"
         },
         "name": "Random",
         "offsetgroup": "0",
         "opacity": 0.6,
         "showlegend": true,
         "type": "bar",
         "x": [
          "CANCER<br> |V|=5, |E|=4",
          "EARTHQUAKE<br> |V|=5, |E|=4",
          "SURVEY<br> |V|=6, |E|=6",
          "ASIA<br> |V|=8, |E|=8",
          "SACHS<br> |V|=11, |E|=17",
          "CHILD<br> |V|=20, |E|=25"
         ],
         "y": [
          0.2,
          0.16,
          0.29,
          0.11,
          0.12,
          0.07
         ],
         "yaxis": "y"
        },
        {
         "error_y": {
          "array": [
           0.08,
           0.06,
           0.16,
           0.05,
           0.04,
           0.04
          ],
          "type": "data",
          "visible": true
         },
         "marker": {
          "color": "#b85c00"
         },
         "name": "FGS",
         "offsetgroup": "1",
         "opacity": 0.6,
         "showlegend": true,
         "type": "bar",
         "x": [
          "CANCER<br> |V|=5, |E|=4",
          "EARTHQUAKE<br> |V|=5, |E|=4",
          "SURVEY<br> |V|=6, |E|=6",
          "ASIA<br> |V|=8, |E|=8",
          "SACHS<br> |V|=11, |E|=17",
          "CHILD<br> |V|=20, |E|=25"
         ],
         "y": [
          0.45,
          0.44,
          0.4,
          0.25,
          0.14,
          0.11
         ],
         "yaxis": "y"
        },
        {
         "error_y": {
          "array": [
           0,
           0.17,
           null,
           0.11,
           0.07,
           0.07
          ],
          "type": "data",
          "visible": true
         },
         "marker": {
          "color": "#0085CA"
         },
         "name": "NOTEARS-MLP",
         "offsetgroup": "2",
         "opacity": 0.6,
         "showlegend": true,
         "type": "bar",
         "x": [
          "CANCER<br> |V|=5, |E|=4",
          "EARTHQUAKE<br> |V|=5, |E|=4",
          "SURVEY<br> |V|=6, |E|=6",
          "ASIA<br> |V|=8, |E|=8",
          "SACHS<br> |V|=11, |E|=17",
          "CHILD<br> |V|=20, |E|=25"
         ],
         "y": [
          1,
          0.56,
          null,
          0.39,
          0.03,
          0.46
         ],
         "yaxis": "y"
        },
        {
         "error_y": {
          "array": [
           0.08,
           0.05,
           0.12,
           0.06,
           0.02,
           0.01
          ],
          "type": "data",
          "visible": true
         },
         "marker": {
          "color": "#379f9f"
         },
         "name": "MPC",
         "offsetgroup": "3",
         "opacity": 0.6,
         "showlegend": true,
         "type": "bar",
         "x": [
          "CANCER<br> |V|=5, |E|=4",
          "EARTHQUAKE<br> |V|=5, |E|=4",
          "SURVEY<br> |V|=6, |E|=6",
          "ASIA<br> |V|=8, |E|=8",
          "CHILD<br> |V|=20, |E|=25",
          "SACHS<br> |V|=11, |E|=17"
         ],
         "y": [
          0.54,
          0.44,
          0.84,
          0.36,
          0.37,
          0.08
         ],
         "yaxis": "y"
        },
        {
         "error_y": {
          "array": [
           0.20128646408886222,
           0.2749734830053284,
           0.05255237422547812,
           0.08002550613806242,
           0.06309677701267914,
           0.15715244442909826
          ],
          "type": "data",
          "visible": true
         },
         "marker": {
          "color": "#bcbd22"
         },
         "name": "ABAPC",
         "offsetgroup": "4",
         "opacity": 0.6,
         "showlegend": true,
         "type": "bar",
         "x": [
          "ASIA<br> |V|=8, |E|=8",
          "CANCER<br> |V|=5, |E|=4",
          "CHILD<br> |V|=20, |E|=25",
          "EARTHQUAKE<br> |V|=5, |E|=4",
          "SACHS<br> |V|=11, |E|=17",
          "SURVEY<br> |V|=6, |E|=6"
         ],
         "y": [
          0.42389066666666664,
          0.5723452,
          0.755402,
          0.982,
          0.141086,
          0.7310876000000001
         ],
         "yaxis": "y"
        },
        {
         "error_y": {
          "array": [
           null,
           null,
           null,
           null,
           null,
           null
          ],
          "type": "data",
          "visible": true
         },
         "marker": {
          "color": "#e377c2"
         },
         "name": "LLM-BFS",
         "offsetgroup": "5",
         "opacity": 0.6,
         "showlegend": true,
         "type": "bar",
         "x": [
          "ASIA<br> |V|=8, |E|=8",
          "CANCER<br> |V|=5, |E|=4",
          "CHILD<br> |V|=20, |E|=25",
          "EARTHQUAKE<br> |V|=5, |E|=4",
          "SACHS<br> |V|=11, |E|=17",
          "SURVEY<br> |V|=6, |E|=6"
         ],
         "y": [
          0.4615,
          0.5,
          0.2419,
          0.5,
          0.25,
          0.5
         ],
         "yaxis": "y"
        },
        {
         "error_y": {
          "array": [
           0.11345574744618017,
           0.18683623326652812,
           0.04279221266897259,
           0.052304056111493746,
           0.07409782510895681,
           0.15509695800909015
          ],
          "type": "data",
          "visible": true
         },
         "marker": {
          "color": "#441469"
         },
         "name": "ABAPC-LLM",
         "offsetgroup": "6",
         "opacity": 0.6,
         "showlegend": true,
         "type": "bar",
         "x": [
          "ASIA<br> |V|=8, |E|=8",
          "CANCER<br> |V|=5, |E|=4",
          "CHILD<br> |V|=20, |E|=25",
          "EARTHQUAKE<br> |V|=5, |E|=4",
          "SACHS<br> |V|=11, |E|=17",
          "SURVEY<br> |V|=6, |E|=6"
         ],
         "y": [
          0.595502,
          0.7913499999999999,
          0.7557925333333334,
          0.987,
          0.1535672,
          0.744838
         ],
         "yaxis": "y"
        },
        {
         "marker": {
          "color": "white"
         },
         "name": "",
         "offsetgroup": "7",
         "opacity": 1,
         "showlegend": false,
         "type": "bar",
         "x": [
          "ASIA<br> |V|=8, |E|=8",
          "CANCER<br> |V|=5, |E|=4",
          "CHILD<br> |V|=20, |E|=25",
          "EARTHQUAKE<br> |V|=5, |E|=4",
          "SACHS<br> |V|=11, |E|=17",
          "SURVEY<br> |V|=6, |E|=6"
         ],
         "y": {
          "bdata": "AAAAAAAAAAAAAAAAAAAAAAAAAAAAAAAAAAAAAAAAAAAAAAAAAAAAAAAAAAAAAAAA",
          "dtype": "f8"
         }
        },
        {
         "error_y": {
          "array": [
           0.19,
           0.17,
           0.14,
           0.09,
           0.07,
           0.05
          ],
          "type": "data",
          "visible": true
         },
         "marker": {
          "color": "#7f7f7f"
         },
         "name": "Random",
         "offsetgroup": "8",
         "opacity": 0.6,
         "showlegend": false,
         "type": "bar",
         "x": [
          "CANCER<br> |V|=5, |E|=4",
          "EARTHQUAKE<br> |V|=5, |E|=4",
          "SURVEY<br> |V|=6, |E|=6",
          "ASIA<br> |V|=8, |E|=8",
          "SACHS<br> |V|=11, |E|=17",
          "CHILD<br> |V|=20, |E|=25"
         ],
         "y": [
          0.2,
          0.16,
          0.29,
          0.11,
          0.12,
          0.07
         ],
         "yaxis": "y2"
        },
        {
         "error_y": {
          "array": [
           0.12,
           0,
           0.08,
           0.03,
           0.04,
           0.06
          ],
          "type": "data",
          "visible": true
         },
         "marker": {
          "color": "#b85c00"
         },
         "name": "FGS",
         "offsetgroup": "9",
         "opacity": 0.6,
         "showlegend": false,
         "type": "bar",
         "x": [
          "CANCER<br> |V|=5, |E|=4",
          "EARTHQUAKE<br> |V|=5, |E|=4",
          "SURVEY<br> |V|=6, |E|=6",
          "ASIA<br> |V|=8, |E|=8",
          "SACHS<br> |V|=11, |E|=17",
          "CHILD<br> |V|=20, |E|=25"
         ],
         "y": [
          0.42,
          0.5,
          0.21,
          0.24,
          0.13,
          0.19
         ],
         "yaxis": "y2"
        },
        {
         "error_y": {
          "array": [
           0.07,
           0.17,
           0,
           0.1,
           0.02,
           0.06
          ],
          "type": "data",
          "visible": true
         },
         "marker": {
          "color": "#0085CA"
         },
         "name": "NOTEARS-MLP",
         "offsetgroup": "10",
         "opacity": 0.6,
         "showlegend": false,
         "type": "bar",
         "x": [
          "CANCER<br> |V|=5, |E|=4",
          "EARTHQUAKE<br> |V|=5, |E|=4",
          "SURVEY<br> |V|=6, |E|=6",
          "ASIA<br> |V|=8, |E|=8",
          "SACHS<br> |V|=11, |E|=17",
          "CHILD<br> |V|=20, |E|=25"
         ],
         "y": [
          0.02,
          0.56,
          0,
          0.29,
          0.01,
          0.37
         ],
         "yaxis": "y2"
        },
        {
         "error_y": {
          "array": [
           0,
           0,
           0.08,
           0.07,
           0.02,
           0
          ],
          "type": "data",
          "visible": true
         },
         "marker": {
          "color": "#379f9f"
         },
         "name": "MPC",
         "offsetgroup": "11",
         "opacity": 0.6,
         "showlegend": false,
         "type": "bar",
         "x": [
          "CANCER<br> |V|=5, |E|=4",
          "EARTHQUAKE<br> |V|=5, |E|=4",
          "SURVEY<br> |V|=6, |E|=6",
          "ASIA<br> |V|=8, |E|=8",
          "CHILD<br> |V|=20, |E|=25",
          "SACHS<br> |V|=11, |E|=17"
         ],
         "y": [
          0.5,
          0.5,
          0.55,
          0.3,
          0.46,
          0.06
         ],
         "yaxis": "y2"
        },
        {
         "error_y": {
          "array": [
           0.13026673860176677,
           0.2751108310985867,
           0.10187880755373724,
           0.07071067811865474,
           0.05852692473013893,
           0.13948064950895078
          ],
          "type": "data",
          "visible": true
         },
         "marker": {
          "color": "#bcbd22"
         },
         "name": "ABAPC",
         "offsetgroup": "12",
         "opacity": 0.6,
         "showlegend": false,
         "type": "bar",
         "x": [
          "ASIA<br> |V|=8, |E|=8",
          "CANCER<br> |V|=5, |E|=4",
          "CHILD<br> |V|=20, |E|=25",
          "EARTHQUAKE<br> |V|=5, |E|=4",
          "SACHS<br> |V|=11, |E|=17",
          "SURVEY<br> |V|=6, |E|=6"
         ],
         "y": [
          0.24208333333333332,
          0.4905,
          0.70488,
          0.99,
          0.13525,
          0.5405041
         ],
         "yaxis": "y2"
        },
        {
         "error_y": {
          "array": [
           null,
           null,
           null,
           null,
           null,
           null
          ],
          "type": "data",
          "visible": true
         },
         "marker": {
          "color": "#e377c2"
         },
         "name": "LLM-BFS",
         "offsetgroup": "13",
         "opacity": 0.6,
         "showlegend": false,
         "type": "bar",
         "x": [
          "ASIA<br> |V|=8, |E|=8",
          "CANCER<br> |V|=5, |E|=4",
          "CHILD<br> |V|=20, |E|=25",
          "EARTHQUAKE<br> |V|=5, |E|=4",
          "SACHS<br> |V|=11, |E|=17",
          "SURVEY<br> |V|=6, |E|=6"
         ],
         "y": [
          0.75,
          1,
          0.6,
          1,
          0.2353,
          1
         ],
         "yaxis": "y2"
        },
        {
         "error_y": {
          "array": [
           0.07428442649982676,
           0.26152028055746873,
           0.07643484620437015,
           0.03535533905932737,
           0.06830237579039432,
           0.14076588981608534
          ],
          "type": "data",
          "visible": true
         },
         "marker": {
          "color": "#441469"
         },
         "name": "ABAPC-LLM",
         "offsetgroup": "14",
         "opacity": 0.6,
         "showlegend": false,
         "type": "bar",
         "x": [
          "ASIA<br> |V|=8, |E|=8",
          "CANCER<br> |V|=5, |E|=4",
          "CHILD<br> |V|=20, |E|=25",
          "EARTHQUAKE<br> |V|=5, |E|=4",
          "SACHS<br> |V|=11, |E|=17",
          "SURVEY<br> |V|=6, |E|=6"
         ],
         "y": [
          0.33375,
          0.685,
          0.6984,
          0.995,
          0.1486596,
          0.551673
         ],
         "yaxis": "y2"
        }
       ],
       "layout": {
        "annotations": [
         {
          "font": {
           "color": "black",
           "size": 23
          },
          "showarrow": false,
          "text": "      Precision      ",
          "x": 0.04375,
          "xanchor": "center",
          "xref": "x domain",
          "y": 1.07,
          "yanchor": "middle",
          "yref": "y domain"
         },
         {
          "font": {
           "color": "black",
           "size": 23
          },
          "showarrow": false,
          "text": "        Recall        ",
          "x": 0.12291666666666666,
          "xanchor": "center",
          "xref": "x domain",
          "y": 1.07,
          "yanchor": "middle",
          "yref": "y domain"
         },
         {
          "font": {
           "color": "black",
           "size": 23
          },
          "showarrow": false,
          "text": "      Precision      ",
          "x": 0.21041666666666664,
          "xanchor": "center",
          "xref": "x domain",
          "y": 1.07,
          "yanchor": "middle",
          "yref": "y domain"
         },
         {
          "font": {
           "color": "black",
           "size": 23
          },
          "showarrow": false,
          "text": "        Recall        ",
          "x": 0.2895833333333333,
          "xanchor": "center",
          "xref": "x domain",
          "y": 1.07,
          "yanchor": "middle",
          "yref": "y domain"
         },
         {
          "font": {
           "color": "black",
           "size": 23
          },
          "showarrow": false,
          "text": "      Precision      ",
          "x": 0.3770833333333333,
          "xanchor": "center",
          "xref": "x domain",
          "y": 1.07,
          "yanchor": "middle",
          "yref": "y domain"
         },
         {
          "font": {
           "color": "black",
           "size": 23
          },
          "showarrow": false,
          "text": "        Recall        ",
          "x": 0.45624999999999993,
          "xanchor": "center",
          "xref": "x domain",
          "y": 1.07,
          "yanchor": "middle",
          "yref": "y domain"
         },
         {
          "font": {
           "color": "black",
           "size": 23
          },
          "showarrow": false,
          "text": "      Precision      ",
          "x": 0.54375,
          "xanchor": "center",
          "xref": "x domain",
          "y": 1.07,
          "yanchor": "middle",
          "yref": "y domain"
         },
         {
          "font": {
           "color": "black",
           "size": 23
          },
          "showarrow": false,
          "text": "        Recall        ",
          "x": 0.6229166666666666,
          "xanchor": "center",
          "xref": "x domain",
          "y": 1.07,
          "yanchor": "middle",
          "yref": "y domain"
         },
         {
          "font": {
           "color": "black",
           "size": 23
          },
          "showarrow": false,
          "text": "      Precision      ",
          "x": 0.7104166666666667,
          "xanchor": "center",
          "xref": "x domain",
          "y": 1.07,
          "yanchor": "middle",
          "yref": "y domain"
         },
         {
          "font": {
           "color": "black",
           "size": 23
          },
          "showarrow": false,
          "text": "        Recall        ",
          "x": 0.7895833333333333,
          "xanchor": "center",
          "xref": "x domain",
          "y": 1.07,
          "yanchor": "middle",
          "yref": "y domain"
         },
         {
          "font": {
           "color": "black",
           "size": 23
          },
          "showarrow": false,
          "text": "      Precision      ",
          "x": 0.8770833333333332,
          "xanchor": "center",
          "xref": "x domain",
          "y": 1.07,
          "yanchor": "middle",
          "yref": "y domain"
         },
         {
          "font": {
           "color": "black",
           "size": 23
          },
          "showarrow": false,
          "text": "        Recall        ",
          "x": 0.9562499999999998,
          "xanchor": "center",
          "xref": "x domain",
          "y": 1.07,
          "yanchor": "middle",
          "yref": "y domain"
         }
        ],
        "bargap": 0.08,
        "bargroupgap": 0.05,
        "barmode": "group",
        "font": {
         "color": "black",
         "family": "Serif",
         "size": 23
        },
        "height": 700,
        "hovermode": "x unified",
        "legend": {
         "orientation": "h",
         "x": 0.5,
         "xanchor": "center",
         "y": 1.23,
         "yanchor": "top"
        },
        "margin": {
         "b": 70,
         "l": 40,
         "r": 40,
         "t": 80
        },
        "shapes": [
         {
          "fillcolor": "#E5ECF6",
          "layer": "below",
          "line": {
           "color": "#E5ECF6",
           "width": 2
          },
          "type": "rect",
          "x0": 0,
          "x1": 0.09083333333333334,
          "xref": "x domain",
          "y0": 1.04,
          "y1": 1.1,
          "yref": "y domain"
         },
         {
          "fillcolor": "#E5ECF6",
          "layer": "below",
          "line": {
           "color": "#E5ECF6",
           "width": 2
          },
          "type": "rect",
          "x0": 0.07583333333333332,
          "x1": 0.16999999999999998,
          "xref": "x domain",
          "y0": 1.04,
          "y1": 1.1,
          "yref": "y domain"
         },
         {
          "fillcolor": "#E5ECF6",
          "layer": "below",
          "line": {
           "color": "#E5ECF6",
           "width": 2
          },
          "type": "rect",
          "x0": 0.16333333333333333,
          "x1": 0.2575,
          "xref": "x domain",
          "y0": 1.04,
          "y1": 1.1,
          "yref": "y domain"
         },
         {
          "fillcolor": "#E5ECF6",
          "layer": "below",
          "line": {
           "color": "#E5ECF6",
           "width": 2
          },
          "type": "rect",
          "x0": 0.24249999999999997,
          "x1": 0.33666666666666667,
          "xref": "x domain",
          "y0": 1.04,
          "y1": 1.1,
          "yref": "y domain"
         },
         {
          "fillcolor": "#E5ECF6",
          "layer": "below",
          "line": {
           "color": "#E5ECF6",
           "width": 2
          },
          "type": "rect",
          "x0": 0.32999999999999996,
          "x1": 0.4241666666666667,
          "xref": "x domain",
          "y0": 1.04,
          "y1": 1.1,
          "yref": "y domain"
         },
         {
          "fillcolor": "#E5ECF6",
          "layer": "below",
          "line": {
           "color": "#E5ECF6",
           "width": 2
          },
          "type": "rect",
          "x0": 0.4091666666666666,
          "x1": 0.5033333333333333,
          "xref": "x domain",
          "y0": 1.04,
          "y1": 1.1,
          "yref": "y domain"
         },
         {
          "fillcolor": "#E5ECF6",
          "layer": "below",
          "line": {
           "color": "#E5ECF6",
           "width": 2
          },
          "type": "rect",
          "x0": 0.4966666666666666,
          "x1": 0.5908333333333333,
          "xref": "x domain",
          "y0": 1.04,
          "y1": 1.1,
          "yref": "y domain"
         },
         {
          "fillcolor": "#E5ECF6",
          "layer": "below",
          "line": {
           "color": "#E5ECF6",
           "width": 2
          },
          "type": "rect",
          "x0": 0.5758333333333332,
          "x1": 0.6699999999999999,
          "xref": "x domain",
          "y0": 1.04,
          "y1": 1.1,
          "yref": "y domain"
         },
         {
          "fillcolor": "#E5ECF6",
          "layer": "below",
          "line": {
           "color": "#E5ECF6",
           "width": 2
          },
          "type": "rect",
          "x0": 0.6633333333333333,
          "x1": 0.7575000000000001,
          "xref": "x domain",
          "y0": 1.04,
          "y1": 1.1,
          "yref": "y domain"
         },
         {
          "fillcolor": "#E5ECF6",
          "layer": "below",
          "line": {
           "color": "#E5ECF6",
           "width": 2
          },
          "type": "rect",
          "x0": 0.7424999999999999,
          "x1": 0.8366666666666667,
          "xref": "x domain",
          "y0": 1.04,
          "y1": 1.1,
          "yref": "y domain"
         },
         {
          "fillcolor": "#E5ECF6",
          "layer": "below",
          "line": {
           "color": "#E5ECF6",
           "width": 2
          },
          "type": "rect",
          "x0": 0.8299999999999998,
          "x1": 0.9241666666666666,
          "xref": "x domain",
          "y0": 1.04,
          "y1": 1.1,
          "yref": "y domain"
         },
         {
          "fillcolor": "#E5ECF6",
          "layer": "below",
          "line": {
           "color": "#E5ECF6",
           "width": 2
          },
          "type": "rect",
          "x0": 0.9091666666666665,
          "x1": 1,
          "xref": "x domain",
          "y0": 1.04,
          "y1": 1.1,
          "yref": "y domain"
         }
        ],
        "template": {
         "data": {
          "bar": [
           {
            "error_x": {
             "color": "#2a3f5f"
            },
            "error_y": {
             "color": "#2a3f5f"
            },
            "marker": {
             "line": {
              "color": "white",
              "width": 0.5
             },
             "pattern": {
              "fillmode": "overlay",
              "size": 10,
              "solidity": 0.2
             }
            },
            "type": "bar"
           }
          ],
          "barpolar": [
           {
            "marker": {
             "line": {
              "color": "white",
              "width": 0.5
             },
             "pattern": {
              "fillmode": "overlay",
              "size": 10,
              "solidity": 0.2
             }
            },
            "type": "barpolar"
           }
          ],
          "carpet": [
           {
            "aaxis": {
             "endlinecolor": "#2a3f5f",
             "gridcolor": "#C8D4E3",
             "linecolor": "#C8D4E3",
             "minorgridcolor": "#C8D4E3",
             "startlinecolor": "#2a3f5f"
            },
            "baxis": {
             "endlinecolor": "#2a3f5f",
             "gridcolor": "#C8D4E3",
             "linecolor": "#C8D4E3",
             "minorgridcolor": "#C8D4E3",
             "startlinecolor": "#2a3f5f"
            },
            "type": "carpet"
           }
          ],
          "choropleth": [
           {
            "colorbar": {
             "outlinewidth": 0,
             "ticks": ""
            },
            "type": "choropleth"
           }
          ],
          "contour": [
           {
            "colorbar": {
             "outlinewidth": 0,
             "ticks": ""
            },
            "colorscale": [
             [
              0,
              "#0d0887"
             ],
             [
              0.1111111111111111,
              "#46039f"
             ],
             [
              0.2222222222222222,
              "#7201a8"
             ],
             [
              0.3333333333333333,
              "#9c179e"
             ],
             [
              0.4444444444444444,
              "#bd3786"
             ],
             [
              0.5555555555555556,
              "#d8576b"
             ],
             [
              0.6666666666666666,
              "#ed7953"
             ],
             [
              0.7777777777777778,
              "#fb9f3a"
             ],
             [
              0.8888888888888888,
              "#fdca26"
             ],
             [
              1,
              "#f0f921"
             ]
            ],
            "type": "contour"
           }
          ],
          "contourcarpet": [
           {
            "colorbar": {
             "outlinewidth": 0,
             "ticks": ""
            },
            "type": "contourcarpet"
           }
          ],
          "heatmap": [
           {
            "colorbar": {
             "outlinewidth": 0,
             "ticks": ""
            },
            "colorscale": [
             [
              0,
              "#0d0887"
             ],
             [
              0.1111111111111111,
              "#46039f"
             ],
             [
              0.2222222222222222,
              "#7201a8"
             ],
             [
              0.3333333333333333,
              "#9c179e"
             ],
             [
              0.4444444444444444,
              "#bd3786"
             ],
             [
              0.5555555555555556,
              "#d8576b"
             ],
             [
              0.6666666666666666,
              "#ed7953"
             ],
             [
              0.7777777777777778,
              "#fb9f3a"
             ],
             [
              0.8888888888888888,
              "#fdca26"
             ],
             [
              1,
              "#f0f921"
             ]
            ],
            "type": "heatmap"
           }
          ],
          "histogram": [
           {
            "marker": {
             "pattern": {
              "fillmode": "overlay",
              "size": 10,
              "solidity": 0.2
             }
            },
            "type": "histogram"
           }
          ],
          "histogram2d": [
           {
            "colorbar": {
             "outlinewidth": 0,
             "ticks": ""
            },
            "colorscale": [
             [
              0,
              "#0d0887"
             ],
             [
              0.1111111111111111,
              "#46039f"
             ],
             [
              0.2222222222222222,
              "#7201a8"
             ],
             [
              0.3333333333333333,
              "#9c179e"
             ],
             [
              0.4444444444444444,
              "#bd3786"
             ],
             [
              0.5555555555555556,
              "#d8576b"
             ],
             [
              0.6666666666666666,
              "#ed7953"
             ],
             [
              0.7777777777777778,
              "#fb9f3a"
             ],
             [
              0.8888888888888888,
              "#fdca26"
             ],
             [
              1,
              "#f0f921"
             ]
            ],
            "type": "histogram2d"
           }
          ],
          "histogram2dcontour": [
           {
            "colorbar": {
             "outlinewidth": 0,
             "ticks": ""
            },
            "colorscale": [
             [
              0,
              "#0d0887"
             ],
             [
              0.1111111111111111,
              "#46039f"
             ],
             [
              0.2222222222222222,
              "#7201a8"
             ],
             [
              0.3333333333333333,
              "#9c179e"
             ],
             [
              0.4444444444444444,
              "#bd3786"
             ],
             [
              0.5555555555555556,
              "#d8576b"
             ],
             [
              0.6666666666666666,
              "#ed7953"
             ],
             [
              0.7777777777777778,
              "#fb9f3a"
             ],
             [
              0.8888888888888888,
              "#fdca26"
             ],
             [
              1,
              "#f0f921"
             ]
            ],
            "type": "histogram2dcontour"
           }
          ],
          "mesh3d": [
           {
            "colorbar": {
             "outlinewidth": 0,
             "ticks": ""
            },
            "type": "mesh3d"
           }
          ],
          "parcoords": [
           {
            "line": {
             "colorbar": {
              "outlinewidth": 0,
              "ticks": ""
             }
            },
            "type": "parcoords"
           }
          ],
          "pie": [
           {
            "automargin": true,
            "type": "pie"
           }
          ],
          "scatter": [
           {
            "fillpattern": {
             "fillmode": "overlay",
             "size": 10,
             "solidity": 0.2
            },
            "type": "scatter"
           }
          ],
          "scatter3d": [
           {
            "line": {
             "colorbar": {
              "outlinewidth": 0,
              "ticks": ""
             }
            },
            "marker": {
             "colorbar": {
              "outlinewidth": 0,
              "ticks": ""
             }
            },
            "type": "scatter3d"
           }
          ],
          "scattercarpet": [
           {
            "marker": {
             "colorbar": {
              "outlinewidth": 0,
              "ticks": ""
             }
            },
            "type": "scattercarpet"
           }
          ],
          "scattergeo": [
           {
            "marker": {
             "colorbar": {
              "outlinewidth": 0,
              "ticks": ""
             }
            },
            "type": "scattergeo"
           }
          ],
          "scattergl": [
           {
            "marker": {
             "colorbar": {
              "outlinewidth": 0,
              "ticks": ""
             }
            },
            "type": "scattergl"
           }
          ],
          "scattermap": [
           {
            "marker": {
             "colorbar": {
              "outlinewidth": 0,
              "ticks": ""
             }
            },
            "type": "scattermap"
           }
          ],
          "scattermapbox": [
           {
            "marker": {
             "colorbar": {
              "outlinewidth": 0,
              "ticks": ""
             }
            },
            "type": "scattermapbox"
           }
          ],
          "scatterpolar": [
           {
            "marker": {
             "colorbar": {
              "outlinewidth": 0,
              "ticks": ""
             }
            },
            "type": "scatterpolar"
           }
          ],
          "scatterpolargl": [
           {
            "marker": {
             "colorbar": {
              "outlinewidth": 0,
              "ticks": ""
             }
            },
            "type": "scatterpolargl"
           }
          ],
          "scatterternary": [
           {
            "marker": {
             "colorbar": {
              "outlinewidth": 0,
              "ticks": ""
             }
            },
            "type": "scatterternary"
           }
          ],
          "surface": [
           {
            "colorbar": {
             "outlinewidth": 0,
             "ticks": ""
            },
            "colorscale": [
             [
              0,
              "#0d0887"
             ],
             [
              0.1111111111111111,
              "#46039f"
             ],
             [
              0.2222222222222222,
              "#7201a8"
             ],
             [
              0.3333333333333333,
              "#9c179e"
             ],
             [
              0.4444444444444444,
              "#bd3786"
             ],
             [
              0.5555555555555556,
              "#d8576b"
             ],
             [
              0.6666666666666666,
              "#ed7953"
             ],
             [
              0.7777777777777778,
              "#fb9f3a"
             ],
             [
              0.8888888888888888,
              "#fdca26"
             ],
             [
              1,
              "#f0f921"
             ]
            ],
            "type": "surface"
           }
          ],
          "table": [
           {
            "cells": {
             "fill": {
              "color": "#EBF0F8"
             },
             "line": {
              "color": "white"
             }
            },
            "header": {
             "fill": {
              "color": "#C8D4E3"
             },
             "line": {
              "color": "white"
             }
            },
            "type": "table"
           }
          ]
         },
         "layout": {
          "annotationdefaults": {
           "arrowcolor": "#2a3f5f",
           "arrowhead": 0,
           "arrowwidth": 1
          },
          "autotypenumbers": "strict",
          "coloraxis": {
           "colorbar": {
            "outlinewidth": 0,
            "ticks": ""
           }
          },
          "colorscale": {
           "diverging": [
            [
             0,
             "#8e0152"
            ],
            [
             0.1,
             "#c51b7d"
            ],
            [
             0.2,
             "#de77ae"
            ],
            [
             0.3,
             "#f1b6da"
            ],
            [
             0.4,
             "#fde0ef"
            ],
            [
             0.5,
             "#f7f7f7"
            ],
            [
             0.6,
             "#e6f5d0"
            ],
            [
             0.7,
             "#b8e186"
            ],
            [
             0.8,
             "#7fbc41"
            ],
            [
             0.9,
             "#4d9221"
            ],
            [
             1,
             "#276419"
            ]
           ],
           "sequential": [
            [
             0,
             "#0d0887"
            ],
            [
             0.1111111111111111,
             "#46039f"
            ],
            [
             0.2222222222222222,
             "#7201a8"
            ],
            [
             0.3333333333333333,
             "#9c179e"
            ],
            [
             0.4444444444444444,
             "#bd3786"
            ],
            [
             0.5555555555555556,
             "#d8576b"
            ],
            [
             0.6666666666666666,
             "#ed7953"
            ],
            [
             0.7777777777777778,
             "#fb9f3a"
            ],
            [
             0.8888888888888888,
             "#fdca26"
            ],
            [
             1,
             "#f0f921"
            ]
           ],
           "sequentialminus": [
            [
             0,
             "#0d0887"
            ],
            [
             0.1111111111111111,
             "#46039f"
            ],
            [
             0.2222222222222222,
             "#7201a8"
            ],
            [
             0.3333333333333333,
             "#9c179e"
            ],
            [
             0.4444444444444444,
             "#bd3786"
            ],
            [
             0.5555555555555556,
             "#d8576b"
            ],
            [
             0.6666666666666666,
             "#ed7953"
            ],
            [
             0.7777777777777778,
             "#fb9f3a"
            ],
            [
             0.8888888888888888,
             "#fdca26"
            ],
            [
             1,
             "#f0f921"
            ]
           ]
          },
          "colorway": [
           "#636efa",
           "#EF553B",
           "#00cc96",
           "#ab63fa",
           "#FFA15A",
           "#19d3f3",
           "#FF6692",
           "#B6E880",
           "#FF97FF",
           "#FECB52"
          ],
          "font": {
           "color": "#2a3f5f"
          },
          "geo": {
           "bgcolor": "white",
           "lakecolor": "white",
           "landcolor": "white",
           "showlakes": true,
           "showland": true,
           "subunitcolor": "#C8D4E3"
          },
          "hoverlabel": {
           "align": "left"
          },
          "hovermode": "closest",
          "mapbox": {
           "style": "light"
          },
          "paper_bgcolor": "white",
          "plot_bgcolor": "white",
          "polar": {
           "angularaxis": {
            "gridcolor": "#EBF0F8",
            "linecolor": "#EBF0F8",
            "ticks": ""
           },
           "bgcolor": "white",
           "radialaxis": {
            "gridcolor": "#EBF0F8",
            "linecolor": "#EBF0F8",
            "ticks": ""
           }
          },
          "scene": {
           "xaxis": {
            "backgroundcolor": "white",
            "gridcolor": "#DFE8F3",
            "gridwidth": 2,
            "linecolor": "#EBF0F8",
            "showbackground": true,
            "ticks": "",
            "zerolinecolor": "#EBF0F8"
           },
           "yaxis": {
            "backgroundcolor": "white",
            "gridcolor": "#DFE8F3",
            "gridwidth": 2,
            "linecolor": "#EBF0F8",
            "showbackground": true,
            "ticks": "",
            "zerolinecolor": "#EBF0F8"
           },
           "zaxis": {
            "backgroundcolor": "white",
            "gridcolor": "#DFE8F3",
            "gridwidth": 2,
            "linecolor": "#EBF0F8",
            "showbackground": true,
            "ticks": "",
            "zerolinecolor": "#EBF0F8"
           }
          },
          "shapedefaults": {
           "line": {
            "color": "#2a3f5f"
           }
          },
          "ternary": {
           "aaxis": {
            "gridcolor": "#DFE8F3",
            "linecolor": "#A2B1C6",
            "ticks": ""
           },
           "baxis": {
            "gridcolor": "#DFE8F3",
            "linecolor": "#A2B1C6",
            "ticks": ""
           },
           "bgcolor": "white",
           "caxis": {
            "gridcolor": "#DFE8F3",
            "linecolor": "#A2B1C6",
            "ticks": ""
           }
          },
          "title": {
           "x": 0.05
          },
          "xaxis": {
           "automargin": true,
           "gridcolor": "#EBF0F8",
           "linecolor": "#EBF0F8",
           "ticks": "",
           "title": {
            "standoff": 15
           },
           "zerolinecolor": "#EBF0F8",
           "zerolinewidth": 2
          },
          "yaxis": {
           "automargin": true,
           "gridcolor": "#EBF0F8",
           "linecolor": "#EBF0F8",
           "ticks": "",
           "title": {
            "standoff": 15
           },
           "zerolinecolor": "#EBF0F8",
           "zerolinewidth": 2
          }
         }
        },
        "width": 1600,
        "xaxis": {
         "anchor": "y",
         "domain": [
          0,
          0.94
         ]
        },
        "yaxis": {
         "anchor": "x",
         "domain": [
          0,
          1
         ],
         "range": [
          0,
          1.3
         ],
         "title": {
          "font": {
           "size": 23
          },
          "text": "Precision"
         }
        },
        "yaxis2": {
         "anchor": "x",
         "overlaying": "y",
         "range": [
          0,
          1.3
         ],
         "scaleanchor": 0,
         "showgrid": false,
         "showline": false,
         "showticklabels": true,
         "side": "right",
         "title": {
          "font": {
           "size": 23
          },
          "text": "Recall"
         },
         "zeroline": true
        }
       }
      }
     },
     "metadata": {},
     "output_type": "display_data"
    },
    {
     "data": {
      "application/vnd.plotly.v1+json": {
       "config": {
        "plotlyServerURL": "https://plot.ly"
       },
       "data": [
        {
         "error_y": {
          "array": [
           0,
           0,
           0,
           0,
           0,
           0
          ],
          "type": "data",
          "visible": true
         },
         "marker": {
          "color": "#7f7f7f"
         },
         "name": "True Graph Size",
         "opacity": 0.6,
         "type": "bar",
         "x": [
          "CANCER<br> |V|=5, |E|=4",
          "EARTHQUAKE<br> |V|=5, |E|=4",
          "SURVEY<br> |V|=6, |E|=6",
          "ASIA<br> |V|=8, |E|=8",
          "SACHS<br> |V|=11, |E|=17",
          "CHILD<br> |V|=20, |E|=25"
         ],
         "y": [
          4,
          4,
          6,
          8,
          17,
          25
         ]
        },
        {
         "error_y": {
          "array": [
           0.47,
           0.64,
           0.84,
           0.77,
           1.31,
           2.56
          ],
          "type": "data",
          "visible": true
         },
         "marker": {
          "color": "#b85c00"
         },
         "name": "FGS",
         "opacity": 0.6,
         "type": "bar",
         "x": [
          "CANCER<br> |V|=5, |E|=4",
          "EARTHQUAKE<br> |V|=5, |E|=4",
          "SURVEY<br> |V|=6, |E|=6",
          "ASIA<br> |V|=8, |E|=8",
          "SACHS<br> |V|=11, |E|=17",
          "CHILD<br> |V|=20, |E|=25"
         ],
         "y": [
          3.68,
          4.62,
          3.3,
          7.68,
          15.7,
          43.28
         ]
        },
        {
         "error_y": {
          "array": [
           0.27,
           0.45,
           0,
           0.47,
           0.65,
           1.21
          ],
          "type": "data",
          "visible": true
         },
         "marker": {
          "color": "#0085CA"
         },
         "name": "NOTEARS-MLP",
         "opacity": 0.6,
         "type": "bar",
         "x": [
          "CANCER<br> |V|=5, |E|=4",
          "EARTHQUAKE<br> |V|=5, |E|=4",
          "SURVEY<br> |V|=6, |E|=6",
          "ASIA<br> |V|=8, |E|=8",
          "SACHS<br> |V|=11, |E|=17",
          "CHILD<br> |V|=20, |E|=25"
         ],
         "y": [
          0.08,
          4,
          0,
          5.94,
          5.7,
          20.34
         ]
        },
        {
         "error_y": {
          "array": [
           0.52,
           0.56,
           0.82,
           0.7,
           1.65,
           0.86
          ],
          "type": "data",
          "visible": true
         },
         "marker": {
          "color": "#379f9f"
         },
         "name": "MPC",
         "opacity": 0.6,
         "type": "bar",
         "x": [
          "CANCER<br> |V|=5, |E|=4",
          "EARTHQUAKE<br> |V|=5, |E|=4",
          "SURVEY<br> |V|=6, |E|=6",
          "ASIA<br> |V|=8, |E|=8",
          "CHILD<br> |V|=20, |E|=25",
          "SACHS<br> |V|=11, |E|=17"
         ],
         "y": [
          3.76,
          4.64,
          4.02,
          6.58,
          31.26,
          13.1
         ]
        },
        {
         "error_y": {
          "array": [
           0.9128026165497366,
           0.6311634866964149,
           2.272843225242474,
           0.19794866372215747,
           0.4848732213850611,
           0.9313146293146642
          ],
          "type": "data",
          "visible": true
         },
         "marker": {
          "color": "#bcbd22"
         },
         "name": "ABAPC",
         "opacity": 0.6,
         "type": "bar",
         "x": [
          "ASIA<br> |V|=8, |E|=8",
          "CANCER<br> |V|=5, |E|=4",
          "CHILD<br> |V|=20, |E|=25",
          "EARTHQUAKE<br> |V|=5, |E|=4",
          "SACHS<br> |V|=11, |E|=17",
          "SURVEY<br> |V|=6, |E|=6"
         ],
         "y": [
          4.3966666666666665,
          3.36,
          23.25,
          4.04,
          16.36,
          4.5
         ]
        },
        {
         "error_y": {
          "array": [
           null,
           null,
           null,
           null,
           null,
           null
          ],
          "type": "data",
          "visible": true
         },
         "marker": {
          "color": "#e377c2"
         },
         "name": "LLM-BFS",
         "opacity": 0.6,
         "type": "bar",
         "x": [
          "ASIA<br> |V|=8, |E|=8",
          "CANCER<br> |V|=5, |E|=4",
          "CHILD<br> |V|=20, |E|=25",
          "EARTHQUAKE<br> |V|=5, |E|=4",
          "SACHS<br> |V|=11, |E|=17",
          "SURVEY<br> |V|=6, |E|=6"
         ],
         "y": [
          13,
          8,
          62,
          8,
          16,
          12
         ]
        },
        {
         "error_y": {
          "array": [
           0.6347906612998251,
           0.6311634866964149,
           2.2900767892540794,
           0.19794866372215747,
           0.43330716823151755,
           0.9313146293146642
          ],
          "type": "data",
          "visible": true
         },
         "marker": {
          "color": "#441469"
         },
         "name": "ABAPC-LLM",
         "opacity": 0.6,
         "type": "bar",
         "x": [
          "ASIA<br> |V|=8, |E|=8",
          "CANCER<br> |V|=5, |E|=4",
          "CHILD<br> |V|=20, |E|=25",
          "EARTHQUAKE<br> |V|=5, |E|=4",
          "SACHS<br> |V|=11, |E|=17",
          "SURVEY<br> |V|=6, |E|=6"
         ],
         "y": [
          4.49,
          3.36,
          23.11466666666667,
          4.04,
          16.6,
          4.5
         ]
        }
       ],
       "layout": {
        "bargap": 0.15,
        "bargroupgap": 0.1,
        "barmode": "group",
        "font": {
         "color": "black",
         "family": "Serif",
         "size": 23
        },
        "height": 700,
        "hovermode": "x unified",
        "legend": {
         "orientation": "h",
         "x": 0.5,
         "xanchor": "center",
         "y": 1,
         "yanchor": "top"
        },
        "margin": {
         "b": 80,
         "l": 40,
         "r": 40,
         "t": 20
        },
        "template": {
         "data": {
          "bar": [
           {
            "error_x": {
             "color": "#2a3f5f"
            },
            "error_y": {
             "color": "#2a3f5f"
            },
            "marker": {
             "line": {
              "color": "white",
              "width": 0.5
             },
             "pattern": {
              "fillmode": "overlay",
              "size": 10,
              "solidity": 0.2
             }
            },
            "type": "bar"
           }
          ],
          "barpolar": [
           {
            "marker": {
             "line": {
              "color": "white",
              "width": 0.5
             },
             "pattern": {
              "fillmode": "overlay",
              "size": 10,
              "solidity": 0.2
             }
            },
            "type": "barpolar"
           }
          ],
          "carpet": [
           {
            "aaxis": {
             "endlinecolor": "#2a3f5f",
             "gridcolor": "#C8D4E3",
             "linecolor": "#C8D4E3",
             "minorgridcolor": "#C8D4E3",
             "startlinecolor": "#2a3f5f"
            },
            "baxis": {
             "endlinecolor": "#2a3f5f",
             "gridcolor": "#C8D4E3",
             "linecolor": "#C8D4E3",
             "minorgridcolor": "#C8D4E3",
             "startlinecolor": "#2a3f5f"
            },
            "type": "carpet"
           }
          ],
          "choropleth": [
           {
            "colorbar": {
             "outlinewidth": 0,
             "ticks": ""
            },
            "type": "choropleth"
           }
          ],
          "contour": [
           {
            "colorbar": {
             "outlinewidth": 0,
             "ticks": ""
            },
            "colorscale": [
             [
              0,
              "#0d0887"
             ],
             [
              0.1111111111111111,
              "#46039f"
             ],
             [
              0.2222222222222222,
              "#7201a8"
             ],
             [
              0.3333333333333333,
              "#9c179e"
             ],
             [
              0.4444444444444444,
              "#bd3786"
             ],
             [
              0.5555555555555556,
              "#d8576b"
             ],
             [
              0.6666666666666666,
              "#ed7953"
             ],
             [
              0.7777777777777778,
              "#fb9f3a"
             ],
             [
              0.8888888888888888,
              "#fdca26"
             ],
             [
              1,
              "#f0f921"
             ]
            ],
            "type": "contour"
           }
          ],
          "contourcarpet": [
           {
            "colorbar": {
             "outlinewidth": 0,
             "ticks": ""
            },
            "type": "contourcarpet"
           }
          ],
          "heatmap": [
           {
            "colorbar": {
             "outlinewidth": 0,
             "ticks": ""
            },
            "colorscale": [
             [
              0,
              "#0d0887"
             ],
             [
              0.1111111111111111,
              "#46039f"
             ],
             [
              0.2222222222222222,
              "#7201a8"
             ],
             [
              0.3333333333333333,
              "#9c179e"
             ],
             [
              0.4444444444444444,
              "#bd3786"
             ],
             [
              0.5555555555555556,
              "#d8576b"
             ],
             [
              0.6666666666666666,
              "#ed7953"
             ],
             [
              0.7777777777777778,
              "#fb9f3a"
             ],
             [
              0.8888888888888888,
              "#fdca26"
             ],
             [
              1,
              "#f0f921"
             ]
            ],
            "type": "heatmap"
           }
          ],
          "histogram": [
           {
            "marker": {
             "pattern": {
              "fillmode": "overlay",
              "size": 10,
              "solidity": 0.2
             }
            },
            "type": "histogram"
           }
          ],
          "histogram2d": [
           {
            "colorbar": {
             "outlinewidth": 0,
             "ticks": ""
            },
            "colorscale": [
             [
              0,
              "#0d0887"
             ],
             [
              0.1111111111111111,
              "#46039f"
             ],
             [
              0.2222222222222222,
              "#7201a8"
             ],
             [
              0.3333333333333333,
              "#9c179e"
             ],
             [
              0.4444444444444444,
              "#bd3786"
             ],
             [
              0.5555555555555556,
              "#d8576b"
             ],
             [
              0.6666666666666666,
              "#ed7953"
             ],
             [
              0.7777777777777778,
              "#fb9f3a"
             ],
             [
              0.8888888888888888,
              "#fdca26"
             ],
             [
              1,
              "#f0f921"
             ]
            ],
            "type": "histogram2d"
           }
          ],
          "histogram2dcontour": [
           {
            "colorbar": {
             "outlinewidth": 0,
             "ticks": ""
            },
            "colorscale": [
             [
              0,
              "#0d0887"
             ],
             [
              0.1111111111111111,
              "#46039f"
             ],
             [
              0.2222222222222222,
              "#7201a8"
             ],
             [
              0.3333333333333333,
              "#9c179e"
             ],
             [
              0.4444444444444444,
              "#bd3786"
             ],
             [
              0.5555555555555556,
              "#d8576b"
             ],
             [
              0.6666666666666666,
              "#ed7953"
             ],
             [
              0.7777777777777778,
              "#fb9f3a"
             ],
             [
              0.8888888888888888,
              "#fdca26"
             ],
             [
              1,
              "#f0f921"
             ]
            ],
            "type": "histogram2dcontour"
           }
          ],
          "mesh3d": [
           {
            "colorbar": {
             "outlinewidth": 0,
             "ticks": ""
            },
            "type": "mesh3d"
           }
          ],
          "parcoords": [
           {
            "line": {
             "colorbar": {
              "outlinewidth": 0,
              "ticks": ""
             }
            },
            "type": "parcoords"
           }
          ],
          "pie": [
           {
            "automargin": true,
            "type": "pie"
           }
          ],
          "scatter": [
           {
            "fillpattern": {
             "fillmode": "overlay",
             "size": 10,
             "solidity": 0.2
            },
            "type": "scatter"
           }
          ],
          "scatter3d": [
           {
            "line": {
             "colorbar": {
              "outlinewidth": 0,
              "ticks": ""
             }
            },
            "marker": {
             "colorbar": {
              "outlinewidth": 0,
              "ticks": ""
             }
            },
            "type": "scatter3d"
           }
          ],
          "scattercarpet": [
           {
            "marker": {
             "colorbar": {
              "outlinewidth": 0,
              "ticks": ""
             }
            },
            "type": "scattercarpet"
           }
          ],
          "scattergeo": [
           {
            "marker": {
             "colorbar": {
              "outlinewidth": 0,
              "ticks": ""
             }
            },
            "type": "scattergeo"
           }
          ],
          "scattergl": [
           {
            "marker": {
             "colorbar": {
              "outlinewidth": 0,
              "ticks": ""
             }
            },
            "type": "scattergl"
           }
          ],
          "scattermap": [
           {
            "marker": {
             "colorbar": {
              "outlinewidth": 0,
              "ticks": ""
             }
            },
            "type": "scattermap"
           }
          ],
          "scattermapbox": [
           {
            "marker": {
             "colorbar": {
              "outlinewidth": 0,
              "ticks": ""
             }
            },
            "type": "scattermapbox"
           }
          ],
          "scatterpolar": [
           {
            "marker": {
             "colorbar": {
              "outlinewidth": 0,
              "ticks": ""
             }
            },
            "type": "scatterpolar"
           }
          ],
          "scatterpolargl": [
           {
            "marker": {
             "colorbar": {
              "outlinewidth": 0,
              "ticks": ""
             }
            },
            "type": "scatterpolargl"
           }
          ],
          "scatterternary": [
           {
            "marker": {
             "colorbar": {
              "outlinewidth": 0,
              "ticks": ""
             }
            },
            "type": "scatterternary"
           }
          ],
          "surface": [
           {
            "colorbar": {
             "outlinewidth": 0,
             "ticks": ""
            },
            "colorscale": [
             [
              0,
              "#0d0887"
             ],
             [
              0.1111111111111111,
              "#46039f"
             ],
             [
              0.2222222222222222,
              "#7201a8"
             ],
             [
              0.3333333333333333,
              "#9c179e"
             ],
             [
              0.4444444444444444,
              "#bd3786"
             ],
             [
              0.5555555555555556,
              "#d8576b"
             ],
             [
              0.6666666666666666,
              "#ed7953"
             ],
             [
              0.7777777777777778,
              "#fb9f3a"
             ],
             [
              0.8888888888888888,
              "#fdca26"
             ],
             [
              1,
              "#f0f921"
             ]
            ],
            "type": "surface"
           }
          ],
          "table": [
           {
            "cells": {
             "fill": {
              "color": "#EBF0F8"
             },
             "line": {
              "color": "white"
             }
            },
            "header": {
             "fill": {
              "color": "#C8D4E3"
             },
             "line": {
              "color": "white"
             }
            },
            "type": "table"
           }
          ]
         },
         "layout": {
          "annotationdefaults": {
           "arrowcolor": "#2a3f5f",
           "arrowhead": 0,
           "arrowwidth": 1
          },
          "autotypenumbers": "strict",
          "coloraxis": {
           "colorbar": {
            "outlinewidth": 0,
            "ticks": ""
           }
          },
          "colorscale": {
           "diverging": [
            [
             0,
             "#8e0152"
            ],
            [
             0.1,
             "#c51b7d"
            ],
            [
             0.2,
             "#de77ae"
            ],
            [
             0.3,
             "#f1b6da"
            ],
            [
             0.4,
             "#fde0ef"
            ],
            [
             0.5,
             "#f7f7f7"
            ],
            [
             0.6,
             "#e6f5d0"
            ],
            [
             0.7,
             "#b8e186"
            ],
            [
             0.8,
             "#7fbc41"
            ],
            [
             0.9,
             "#4d9221"
            ],
            [
             1,
             "#276419"
            ]
           ],
           "sequential": [
            [
             0,
             "#0d0887"
            ],
            [
             0.1111111111111111,
             "#46039f"
            ],
            [
             0.2222222222222222,
             "#7201a8"
            ],
            [
             0.3333333333333333,
             "#9c179e"
            ],
            [
             0.4444444444444444,
             "#bd3786"
            ],
            [
             0.5555555555555556,
             "#d8576b"
            ],
            [
             0.6666666666666666,
             "#ed7953"
            ],
            [
             0.7777777777777778,
             "#fb9f3a"
            ],
            [
             0.8888888888888888,
             "#fdca26"
            ],
            [
             1,
             "#f0f921"
            ]
           ],
           "sequentialminus": [
            [
             0,
             "#0d0887"
            ],
            [
             0.1111111111111111,
             "#46039f"
            ],
            [
             0.2222222222222222,
             "#7201a8"
            ],
            [
             0.3333333333333333,
             "#9c179e"
            ],
            [
             0.4444444444444444,
             "#bd3786"
            ],
            [
             0.5555555555555556,
             "#d8576b"
            ],
            [
             0.6666666666666666,
             "#ed7953"
            ],
            [
             0.7777777777777778,
             "#fb9f3a"
            ],
            [
             0.8888888888888888,
             "#fdca26"
            ],
            [
             1,
             "#f0f921"
            ]
           ]
          },
          "colorway": [
           "#636efa",
           "#EF553B",
           "#00cc96",
           "#ab63fa",
           "#FFA15A",
           "#19d3f3",
           "#FF6692",
           "#B6E880",
           "#FF97FF",
           "#FECB52"
          ],
          "font": {
           "color": "#2a3f5f"
          },
          "geo": {
           "bgcolor": "white",
           "lakecolor": "white",
           "landcolor": "white",
           "showlakes": true,
           "showland": true,
           "subunitcolor": "#C8D4E3"
          },
          "hoverlabel": {
           "align": "left"
          },
          "hovermode": "closest",
          "mapbox": {
           "style": "light"
          },
          "paper_bgcolor": "white",
          "plot_bgcolor": "white",
          "polar": {
           "angularaxis": {
            "gridcolor": "#EBF0F8",
            "linecolor": "#EBF0F8",
            "ticks": ""
           },
           "bgcolor": "white",
           "radialaxis": {
            "gridcolor": "#EBF0F8",
            "linecolor": "#EBF0F8",
            "ticks": ""
           }
          },
          "scene": {
           "xaxis": {
            "backgroundcolor": "white",
            "gridcolor": "#DFE8F3",
            "gridwidth": 2,
            "linecolor": "#EBF0F8",
            "showbackground": true,
            "ticks": "",
            "zerolinecolor": "#EBF0F8"
           },
           "yaxis": {
            "backgroundcolor": "white",
            "gridcolor": "#DFE8F3",
            "gridwidth": 2,
            "linecolor": "#EBF0F8",
            "showbackground": true,
            "ticks": "",
            "zerolinecolor": "#EBF0F8"
           },
           "zaxis": {
            "backgroundcolor": "white",
            "gridcolor": "#DFE8F3",
            "gridwidth": 2,
            "linecolor": "#EBF0F8",
            "showbackground": true,
            "ticks": "",
            "zerolinecolor": "#EBF0F8"
           }
          },
          "shapedefaults": {
           "line": {
            "color": "#2a3f5f"
           }
          },
          "ternary": {
           "aaxis": {
            "gridcolor": "#DFE8F3",
            "linecolor": "#A2B1C6",
            "ticks": ""
           },
           "baxis": {
            "gridcolor": "#DFE8F3",
            "linecolor": "#A2B1C6",
            "ticks": ""
           },
           "bgcolor": "white",
           "caxis": {
            "gridcolor": "#DFE8F3",
            "linecolor": "#A2B1C6",
            "ticks": ""
           }
          },
          "title": {
           "x": 0.05
          },
          "xaxis": {
           "automargin": true,
           "gridcolor": "#EBF0F8",
           "linecolor": "#EBF0F8",
           "ticks": "",
           "title": {
            "standoff": 15
           },
           "zerolinecolor": "#EBF0F8",
           "zerolinewidth": 2
          },
          "yaxis": {
           "automargin": true,
           "gridcolor": "#EBF0F8",
           "linecolor": "#EBF0F8",
           "ticks": "",
           "title": {
            "standoff": 15
           },
           "zerolinecolor": "#EBF0F8",
           "zerolinewidth": 2
          }
         }
        },
        "width": 1600,
        "yaxis": {
         "title": {
          "font": {
           "size": 23
          },
          "text": "Number of Edges in DAG"
         }
        }
       }
      }
     },
     "metadata": {},
     "output_type": "display_data"
    }
   ],
   "source": [
    "# Plots by dataset (CPDAG)\n",
    "if len(cpdag_all):\n",
    "    methods = [m for m in default_methods if m in cpdag_all['model'].unique()]\n",
    "    if 'p_SID_low_mean' in cpdag_all:\n",
    "        cpdag_all['p_SID_low_mean'] = cpdag_all['p_SID_low_mean'].replace(0, 0.03)\n",
    "    if 'p_SID_high_mean' in cpdag_all:\n",
    "        cpdag_all['p_SID_high_mean'] = cpdag_all['p_SID_high_mean'].replace(0, 0.03)\n",
    "    double_bar_chart_plotly(\n",
    "        cpdag_all, ['p_SID_low','p_SID_high'], names_dict, colors_dict, methods,\n",
    "        save_figs=save_figs, font_size=24, output_name=str(REPO_ROOT / 'results/figs/Fig.bn_cpdag_SID.html'),\n",
    "        debug=False, range_y1=[0,6], range_y2=[0,6]\n",
    "    )\n",
    "    double_bar_chart_plotly(\n",
    "        cpdag_all, ['p_shd','F1'], names_dict, colors_dict, methods,\n",
    "        save_figs=save_figs, font_size=23, output_name=str(REPO_ROOT / 'results/figs/Fig.bn_cpdag_SHD_F1.html'),\n",
    "        debug=False, range_y1=[0,2], range_y2=[0,1.1]\n",
    "    )\n",
    "    double_bar_chart_plotly(\n",
    "        cpdag_all, ['precision','recall'], names_dict, colors_dict, methods,\n",
    "        save_figs=save_figs, font_size=23, output_name=str(REPO_ROOT / 'results/figs/Fig.bn_cpdag_prec_rec.html'),\n",
    "        debug=False\n",
    "    )\n",
    "    bar_chart_plotly(\n",
    "        cpdag_all, 'nnz', names_dict, colors_dict, methods,\n",
    "        save_figs=save_figs, font_size=23, output_name=str(REPO_ROOT / 'results/figs/Fig.bn_cpdag_nnz.html'),\n",
    "        debug=False\n",
    "    )\n",
    "else:\n",
    "    print('No CPDAG results found.')\n"
   ]
  },
  {
   "cell_type": "code",
   "execution_count": null,
   "id": "81a10297",
   "metadata": {},
   "outputs": [],
   "source": []
  }
 ],
 "metadata": {
  "kernelspec": {
   "display_name": "aba-env",
   "language": "python",
   "name": "python3"
  },
  "language_info": {
   "codemirror_mode": {
    "name": "ipython",
    "version": 3
   },
   "file_extension": ".py",
   "mimetype": "text/x-python",
   "name": "python",
   "nbconvert_exporter": "python",
   "pygments_lexer": "ipython3",
   "version": "3.12.9"
  }
 },
 "nbformat": 4,
 "nbformat_minor": 5
}
