{
 "cells": [
  {
   "cell_type": "markdown",
   "metadata": {},
   "source": [
    "# BNLearn Results (Causenet-style Plots by Dataset)"
   ]
  },
  {
   "cell_type": "code",
   "execution_count": 16,
   "metadata": {},
   "outputs": [],
   "source": [
    "import warnings\n",
    "warnings.filterwarnings('ignore')\n",
    "\n",
    "from pathlib import Path\n",
    "import sys\n",
    "import numpy as np\n",
    "import pandas as pd\n",
    "from IPython.display import display\n",
    "\n",
    "pd.set_option('display.max_rows', 2000)\n",
    "\n",
    "REPO_ROOT = Path.cwd().resolve().parent\n",
    "sys.path.insert(0, str(REPO_ROOT))\n",
    "sys.path.insert(0, str(REPO_ROOT / 'utils'))\n",
    "\n",
    "from plotting import *\n",
    "\n",
    "save_figs = False\n",
    "debug = False\n",
    "\n",
    "RESULTS_DIR = REPO_ROOT / 'results'\n",
    "\n",
    "# Two running versions (FGS/NT and Random/MPC)\n",
    "VERSIONS = ['bnlearn_big_fgs_nt', 'bnlearn_big_rnd_mpc']\n",
    "# CSV with ABAPC and ABAPC-LLM single-run results to aggregate\n",
    "CSV_ABAPC = RESULTS_DIR / 'merged_bnlearn.csv'\n",
    "CSV_BFS = RESULTS_DIR / 'causal-bfs-bnlearn-results 1.csv'\n",
    "\n",
    "# Display labels and styles (aligned with causenet notebook)\n",
    "names_dict = {\n",
    "    'random': 'Random',\n",
    "    'pc': 'PC',\n",
    "    'pc_max': 'Max-PC',\n",
    "    'fgs': 'FGS',\n",
    "    'spc': 'Shapley-PC',\n",
    "    'mpc': 'MPC',\n",
    "    'cpc': 'CPC',\n",
    "    'abapc': 'ABAPC',\n",
    "    'abapc_llm': 'ABAPC-LLM',\n",
    "    'cam': 'CAM',\n",
    "    'nt': 'NOTEARS-MLP',\n",
    "    'mcsl': 'MCSL-MLP',\n",
    "    'ges': 'GES',\n",
    "    'aspcr': 'ASPCR',\n",
    "    'llm_bfs': 'LLM-BFS',\n",
    "}\n",
    "\n",
    "symbols_dict = {\n",
    "    'random': 'x',\n",
    "    'pc': 'circle',\n",
    "    'pc_max': 'circle-open',\n",
    "    'fgs': 'triangle-up-dot',\n",
    "    'spc': 'hexagon2-dot',\n",
    "    'mpc': 'diamond-dot',\n",
    "    'cpc': 'square-dot',\n",
    "    'abapc': 'triangle-down-dot',\n",
    "    'abapc_llm': 'triangle-down-open',\n",
    "    'cam': 'star',\n",
    "    'nt': 'pentagon-dot',\n",
    "    'mcsl': 'cross-thin',\n",
    "    'ges': 'circle-cross',\n",
    "    'aspcr': 'diamond-open',\n",
    "    'llm_bfs': 'star-diamond-dot',\n",
    "}\n",
    "\n",
    "colors_dict = {\n",
    "    'random': '#7f7f7f',\n",
    "    'pc': main_blue,\n",
    "    'pc_max': sec_blue,\n",
    "    'fgs': sec_orange,\n",
    "    'spc': sec_green,\n",
    "    'mpc': main_green,\n",
    "    'cpc': '#c678dd',\n",
    "    'abapc': '#bcbd22',\n",
    "    'abapc_llm': sec_purple,\n",
    "    'cam': main_orange,\n",
    "    'nt': sec_blue,\n",
    "    'mcsl': '#bcbd22',\n",
    "    'ges': '#17becf',\n",
    "    'aspcr': sec_purple,\n",
    "    'llm_bfs': \"#e377c2\", \n",
    "}\n",
    "\n",
    "\n",
    "# For labeling datasets (|V|, |E|). Use constants as in original bnlearn notebook.\n",
    "dags_nodes_map = {'asia':8, 'cancer':5, 'earthquake':5, 'sachs':11, 'survey':6, 'alarm':37, 'child':20, 'insurance':27, 'hailfinder':56, 'hepar2':70}\n",
    "dags_arcs_map = {'asia':8, 'cancer':4, 'earthquake':4, 'sachs':17, 'survey':6, 'alarm':46, 'child':25, 'insurance':52, 'hailfinder':66, 'hepar2':123}\n",
    "\n",
    "default_methods = ['Random', 'FGS', 'NOTEARS-MLP', 'MPC', 'ABAPC', 'LLM-BFS', 'ABAPC-LLM']\n",
    "inverse_names = {v: k for k, v in names_dict.items()}\n"
   ]
  },
  {
   "cell_type": "code",
   "execution_count": 17,
   "metadata": {},
   "outputs": [
    {
     "data": {
      "text/plain": [
       "{'cpdag_npy':       dataset        model elapsed_mean elapsed_std nnz_mean nnz_std fdr_mean  \\\n",
       " 0      cancer          FGS         0.11        0.14     3.68    0.47      0.0   \n",
       " 1      cancer  NOTEARS-MLP         0.41        0.76     0.08    0.27      0.0   \n",
       " 2  earthquake          FGS         0.09        0.01     4.62    0.64     0.12   \n",
       " 3  earthquake  NOTEARS-MLP         2.01        0.81      4.0    0.45     0.02   \n",
       " 4      survey          FGS         0.09        0.01      3.3    0.84      0.6   \n",
       " \n",
       "   fdr_std tpr_mean tpr_std  ... recall_mean recall_std F1_mean F1_std  \\\n",
       " 0     0.0     0.92    0.12  ...        0.42       0.12    0.43    0.1   \n",
       " 1     0.0     0.02    0.07  ...        0.02       0.07     0.4    0.0   \n",
       " 2    0.12      1.0     0.0  ...         0.5        0.0    0.47   0.03   \n",
       " 3    0.08     0.97    0.08  ...        0.56       0.17    0.56   0.17   \n",
       " 4    0.16     0.21    0.08  ...        0.21       0.08    0.27    0.1   \n",
       " \n",
       "   shd_mean shd_std SID_low_mean SID_low_std SID_high_mean SID_high_std  \n",
       " 0     2.32    0.47         6.28        1.88         16.28         1.88  \n",
       " 1     3.92    0.27         9.68         1.1         10.08         0.27  \n",
       " 2     2.62    0.64          4.6        1.37          15.0         0.49  \n",
       " 3     1.86    0.76         4.14        1.99         13.62          3.5  \n",
       " 4     7.88    0.87        13.66        3.17         20.66         3.46  \n",
       " \n",
       " [5 rows x 24 columns],\n",
       " 'dag_npy':       dataset        model elapsed_mean elapsed_std nnz_mean nnz_std fdr_mean  \\\n",
       " 0      cancer          FGS         0.11        0.14     3.68    0.47     0.55   \n",
       " 1      cancer  NOTEARS-MLP         0.41        0.76     0.08    0.27     0.06   \n",
       " 2  earthquake          FGS         0.09        0.01     4.62    0.64     0.56   \n",
       " 3  earthquake  NOTEARS-MLP         2.01        0.81      4.0    0.45      0.5   \n",
       " 4      survey          FGS         0.09        0.01      3.3    0.84      0.6   \n",
       " \n",
       "   fdr_std tpr_mean tpr_std  ... precision_mean precision_std recall_mean  \\\n",
       " 0    0.08     0.42    0.12  ...           0.45          0.08        0.42   \n",
       " 1    0.24      0.0    0.04  ...           0.25           0.5         0.0   \n",
       " 2    0.06      0.5     0.0  ...           0.44          0.06         0.5   \n",
       " 3    0.27      0.5    0.28  ...            0.5          0.27         0.5   \n",
       " 4    0.16     0.21    0.08  ...            0.4          0.16        0.21   \n",
       " \n",
       "   recall_std F1_mean F1_std shd_mean shd_std SID_mean SID_std  \n",
       " 0       0.12    0.43    0.1     2.32    0.47    11.28    1.88  \n",
       " 1       0.04     0.4    NaN     3.98    0.14     9.98    0.62  \n",
       " 2        0.0    0.47   0.03     2.62    0.64     9.94    0.24  \n",
       " 3       0.28     0.5   0.27     2.12    1.17     9.76    5.38  \n",
       " 4       0.08    0.27    0.1     6.68     1.0    14.26    3.68  \n",
       " \n",
       " [5 rows x 22 columns]}"
      ]
     },
     "metadata": {},
     "output_type": "display_data"
    }
   ],
   "source": [
    "# Load npy aggregated results for provided versions (cpdag and dag)\n",
    "def load_npy(version: str, kind: str):\n",
    "    path = RESULTS_DIR / f'stored_results_{version}{'_cpdag' if kind=='cpdag' else ''}.npy'\n",
    "    if kind == 'cpdag':\n",
    "        cols = ['dataset', 'model', 'elapsed_mean', 'elapsed_std', 'nnz_mean', 'nnz_std',\n",
    "                'fdr_mean', 'fdr_std', 'tpr_mean', 'tpr_std', 'fpr_mean', 'fpr_std',\n",
    "                'precision_mean', 'precision_std', 'recall_mean', 'recall_std',\n",
    "                'F1_mean', 'F1_std', 'shd_mean', 'shd_std', 'SID_low_mean', 'SID_low_std', 'SID_high_mean', 'SID_high_std']\n",
    "    else:\n",
    "        cols = ['dataset', 'model', 'elapsed_mean', 'elapsed_std', 'nnz_mean', 'nnz_std',\n",
    "                'fdr_mean', 'fdr_std', 'tpr_mean', 'tpr_std', 'fpr_mean', 'fpr_std',\n",
    "                'precision_mean', 'precision_std', 'recall_mean', 'recall_std',\n",
    "                'F1_mean', 'F1_std', 'shd_mean', 'shd_std', 'SID_mean', 'SID_std']\n",
    "    if not path.exists():\n",
    "        return pd.DataFrame(columns=cols)\n",
    "    arr = np.load(path, allow_pickle=True)\n",
    "    df = pd.DataFrame(arr, columns=cols)\n",
    "    df['dataset'] = df['dataset'].astype(str)\n",
    "    df['model'] = df['model'].astype(str)\n",
    "    return df\n",
    "\n",
    "cpdag_npy = pd.concat([load_npy(v, 'cpdag') for v in VERSIONS], ignore_index=True)\n",
    "dag_npy = pd.concat([load_npy(v, 'dag') for v in VERSIONS], ignore_index=True)\n",
    "\n",
    "display({'cpdag_npy': cpdag_npy.head(), 'dag_npy': dag_npy.head()})\n"
   ]
  },
  {
   "cell_type": "code",
   "execution_count": 24,
   "metadata": {},
   "outputs": [
    {
     "data": {
      "text/plain": [
       "{'dag_csv':       dataset      model  nnz_mean   nnz_std  fdr_mean   fdr_std  tpr_mean  \\\n",
       " 0        asia      ABAPC  4.396667  0.912803  0.323887  0.197561   0.37000   \n",
       " 1        asia  ABAPC-LLM  4.490000  0.634791  0.008000  0.039590   0.55625   \n",
       " 2      cancer      ABAPC  3.360000  0.631163  0.443663  0.271930   0.47850   \n",
       " 3      cancer  ABAPC-LLM  3.360000  0.631163  0.004000  0.028284   0.83500   \n",
       " 4  earthquake      ABAPC  4.040000  0.197949  0.018000  0.080026   0.99000   \n",
       " \n",
       "     tpr_std  fpr_mean   fpr_std  ...   F1_mean    F1_std  shd_mean   shd_std  \\\n",
       " 0  0.128119  0.071833  0.049427  ...  0.473380  0.151373     5.060  1.063068   \n",
       " 1  0.079107  0.002000  0.009897  ...  0.709482  0.066670     3.590  0.690238   \n",
       " 2  0.276134  0.241004  0.158290  ...  0.603586  0.179352     2.106  1.148097   \n",
       " 3  0.148204  0.003334  0.023575  ...  0.900614  0.090698     0.680  0.586933   \n",
       " 4  0.070711  0.013334  0.056744  ...  0.985556  0.073437     0.100  0.462910   \n",
       " \n",
       "     SID_mean   SID_std  elapsed_mean  elapsed_std  num_nodes  num_edges  \n",
       " 0  25.893333  6.653623      0.885550     0.091381          8          8  \n",
       " 1  15.510000  2.280105      0.873713     0.080799          8          8  \n",
       " 2   8.070000  4.491500      0.099762     0.027154          5          4  \n",
       " 3   0.960000  1.324186      0.105312     0.032117          5          4  \n",
       " 4   0.260000  1.838478      0.089335     0.045380          5          4  \n",
       " \n",
       " [5 rows x 24 columns],\n",
       " 'cpdag_csv':       dataset      model  nnz_mean   nnz_std  fdr_mean   fdr_std  tpr_mean  \\\n",
       " 0        asia      ABAPC  4.396667  0.912803  0.070167  0.115200   0.50875   \n",
       " 1        asia  ABAPC-LLM  4.490000  0.634791  0.008000  0.039590   0.55625   \n",
       " 2      cancer      ABAPC  3.360000  0.631163  0.285998  0.237538   0.59700   \n",
       " 3      cancer  ABAPC-LLM  3.360000  0.631163  0.004000  0.028284   0.83500   \n",
       " 4  earthquake      ABAPC  4.040000  0.197949  0.018000  0.080026   0.99000   \n",
       " \n",
       "     tpr_std  fpr_mean   fpr_std  ...  shd_mean   shd_std  SID_low_mean  \\\n",
       " 0  0.118532  0.016333  0.026988  ...  5.246667  1.289342         19.37   \n",
       " 1  0.079107  0.002000  0.009897  ...  4.040000  0.698687         15.35   \n",
       " 2  0.218625  0.162004  0.136683  ...  2.058000  1.145014          5.72   \n",
       " 3  0.148204  0.003334  0.023575  ...  1.280000  1.069808          0.96   \n",
       " 4  0.070711  0.013334  0.056744  ...  0.100000  0.462910          0.16   \n",
       " \n",
       "    SID_low_std  SID_high_mean  SID_high_std  elapsed_mean  elapsed_std  \\\n",
       " 0     5.447886          31.66      6.847708      0.885550     0.091381   \n",
       " 1     2.087988          24.78      2.816062      0.873713     0.080799   \n",
       " 2     3.865282          11.11      3.066092      0.099762     0.027154   \n",
       " 3     1.324186           8.94      3.309911      0.105312     0.032117   \n",
       " 4     1.131371           5.52      2.082385      0.089335     0.045380   \n",
       " \n",
       "    num_nodes  num_edges  \n",
       " 0          8          8  \n",
       " 1          8          8  \n",
       " 2          5          4  \n",
       " 3          5          4  \n",
       " 4          5          4  \n",
       " \n",
       " [5 rows x 26 columns]}"
      ]
     },
     "metadata": {},
     "output_type": "display_data"
    },
    {
     "data": {
      "text/plain": [
       "{'bfs_dag_csv':       dataset    model  nnz_mean  nnz_std  fdr_mean  fdr_std  tpr_mean  \\\n",
       " 0        asia  LLM-BFS      13.0      NaN    0.3846      NaN    1.0000   \n",
       " 1      cancer  LLM-BFS       8.0      NaN    0.5000      NaN    1.0000   \n",
       " 2       child  LLM-BFS      62.0      NaN    0.7581      NaN    0.6000   \n",
       " 3  earthquake  LLM-BFS       8.0      NaN    0.5000      NaN    1.0000   \n",
       " 4       sachs  LLM-BFS      16.0      NaN    0.6875      NaN    0.2941   \n",
       " \n",
       "    tpr_std  fpr_mean  fpr_std  ...  F1_mean  F1_std  shd_mean  shd_std  \\\n",
       " 0      NaN    0.2500      NaN  ...   0.7619     NaN       5.0      NaN   \n",
       " 1      NaN    0.6667      NaN  ...   0.6667     NaN       4.0      NaN   \n",
       " 2      NaN    0.2848      NaN  ...   0.3448     NaN      56.0      NaN   \n",
       " 3      NaN    0.6667      NaN  ...   0.6667     NaN       4.0      NaN   \n",
       " 4      NaN    0.2895      NaN  ...   0.3030     NaN      20.0      NaN   \n",
       " \n",
       "    SID_mean  SID_std  elapsed_mean  elapsed_std  num_nodes  num_edges  \n",
       " 0       0.0      NaN           1.0          NaN          8          8  \n",
       " 1       0.0      NaN           1.0          NaN          5          4  \n",
       " 2     114.0      NaN           1.0          NaN         20         25  \n",
       " 3       0.0      NaN           1.0          NaN          5          4  \n",
       " 4      50.0      NaN           1.0          NaN         11         17  \n",
       " \n",
       " [5 rows x 24 columns],\n",
       " 'bfs_cpdag_csv':       dataset    model  nnz_mean  nnz_std  fdr_mean  fdr_std  tpr_mean  \\\n",
       " 0        asia  LLM-BFS      13.0      NaN    0.3846      NaN    1.0000   \n",
       " 1      cancer  LLM-BFS       8.0      NaN    0.5000      NaN    1.0000   \n",
       " 2       child  LLM-BFS      62.0      NaN    0.7581      NaN    0.6000   \n",
       " 3  earthquake  LLM-BFS       8.0      NaN    0.5000      NaN    1.0000   \n",
       " 4       sachs  LLM-BFS      16.0      NaN    0.6250      NaN    0.3529   \n",
       " \n",
       "    tpr_std  fpr_mean  fpr_std  ...  shd_mean  shd_std  SID_low_mean  \\\n",
       " 0      NaN    0.2500      NaN  ...       5.0      NaN           0.0   \n",
       " 1      NaN    0.6667      NaN  ...       4.0      NaN           0.0   \n",
       " 2      NaN    0.2848      NaN  ...      58.0      NaN         106.0   \n",
       " 3      NaN    0.6667      NaN  ...       4.0      NaN           0.0   \n",
       " 4      NaN    0.2632      NaN  ...      23.0      NaN          49.0   \n",
       " \n",
       "    SID_low_std  SID_high_mean  SID_high_std  elapsed_mean  elapsed_std  \\\n",
       " 0          NaN           15.0           NaN           1.0          NaN   \n",
       " 1          NaN            3.0           NaN           1.0          NaN   \n",
       " 2          NaN          226.0           NaN           1.0          NaN   \n",
       " 3          NaN            3.0           NaN           1.0          NaN   \n",
       " 4          NaN           51.0           NaN           1.0          NaN   \n",
       " \n",
       "    num_nodes  num_edges  \n",
       " 0          8          8  \n",
       " 1          5          4  \n",
       " 2         20         25  \n",
       " 3          5          4  \n",
       " 4         11         17  \n",
       " \n",
       " [5 rows x 26 columns]}"
      ]
     },
     "metadata": {},
     "output_type": "display_data"
    }
   ],
   "source": [
    "# Aggregate ABAPC and ABAPC-LLM from merged_bnlearn.csv\n",
    "impl_map = {'org': 'ABAPC', 'new': 'ABAPC-LLM'}\n",
    "\n",
    "def aggregate_from_csv(csv_path: Path):\n",
    "    if not csv_path.exists():\n",
    "        return pd.DataFrame(), pd.DataFrame()\n",
    "    df = pd.read_csv(csv_path)\n",
    "    df['model'] = df['impl'].map(impl_map)\n",
    "    df = df[~df['model'].isna()].copy()\n",
    "    # Meta\n",
    "    meta = df.groupby(['dataset', 'model']).agg(num_nodes=('num_nodes','first'), num_edges=('num_edges','first')).reset_index()\n",
    "\n",
    "    # DAG metrics\n",
    "    dag_cols = ['dag_nnz','dag_fdr','dag_tpr','dag_fpr','dag_precision','dag_recall','dag_F1','dag_shd','dag_sid']\n",
    "    dag_agg = df.groupby(['dataset','model'])[dag_cols + ['time']].agg(['mean','std']).reset_index()\n",
    "    dag_agg.columns = ['dataset','model'] + ['_'.join(col).strip('_').replace('time_', 'elapsed_') for col in dag_agg.columns[2:]]\n",
    "    # Rename dag_* to base names to match plotting expectations\n",
    "    rename_map = {\n",
    "        'dag_nnz_mean':'nnz_mean','dag_nnz_std':'nnz_std',\n",
    "        'dag_fdr_mean':'fdr_mean','dag_fdr_std':'fdr_std',\n",
    "        'dag_tpr_mean':'tpr_mean','dag_tpr_std':'tpr_std',\n",
    "        'dag_fpr_mean':'fpr_mean','dag_fpr_std':'fpr_std',\n",
    "        'dag_precision_mean':'precision_mean','dag_precision_std':'precision_std',\n",
    "        'dag_recall_mean':'recall_mean','dag_recall_std':'recall_std',\n",
    "        'dag_F1_mean':'F1_mean','dag_F1_std':'F1_std',\n",
    "        'dag_shd_mean':'shd_mean','dag_shd_std':'shd_std',\n",
    "        'dag_sid_mean':'SID_mean','dag_sid_std':'SID_std',\n",
    "    }\n",
    "    dag_agg = dag_agg.rename(columns=rename_map)\n",
    "    dag_agg = dag_agg.merge(meta, on=['dataset','model'], how='left')\n",
    "\n",
    "    # CPDAG metrics\n",
    "    cp_cols = ['cpdag_nnz','cpdag_fdr','cpdag_tpr','cpdag_fpr','cpdag_precision','cpdag_recall','cpdag_F1','cpdag_shd','cpdag_sid_low','cpdag_sid_high']\n",
    "    cp_agg = df.groupby(['dataset','model'])[cp_cols + ['time']].agg(['mean','std']).reset_index()\n",
    "    cp_agg.columns = ['dataset','model'] + ['_'.join(col).strip('_').replace('time_', 'elapsed_') for col in cp_agg.columns[2:]]\n",
    "    cp_rename = {\n",
    "        'cpdag_nnz_mean':'nnz_mean','cpdag_nnz_std':'nnz_std',\n",
    "        'cpdag_fdr_mean':'fdr_mean','cpdag_fdr_std':'fdr_std',\n",
    "        'cpdag_tpr_mean':'tpr_mean','cpdag_tpr_std':'tpr_std',\n",
    "        'cpdag_fpr_mean':'fpr_mean','cpdag_fpr_std':'fpr_std',\n",
    "        'cpdag_precision_mean':'precision_mean','cpdag_precision_std':'precision_std',\n",
    "        'cpdag_recall_mean':'recall_mean','cpdag_recall_std':'recall_std',\n",
    "        'cpdag_F1_mean':'F1_mean','cpdag_F1_std':'F1_std',\n",
    "        'cpdag_shd_mean':'shd_mean','cpdag_shd_std':'shd_std',\n",
    "        'cpdag_sid_low_mean':'SID_low_mean','cpdag_sid_low_std':'SID_low_std',\n",
    "        'cpdag_sid_high_mean':'SID_high_mean','cpdag_sid_high_std':'SID_high_std',\n",
    "    }\n",
    "    cp_agg = cp_agg.rename(columns=cp_rename)\n",
    "    cp_agg = cp_agg.merge(meta, on=['dataset','model'], how='left')\n",
    "\n",
    "    return dag_agg, cp_agg\n",
    "\n",
    "dag_csv, cpdag_csv = aggregate_from_csv(CSV_ABAPC)\n",
    "display({'dag_csv': dag_csv.head(), 'cpdag_csv': cpdag_csv.head()})\n",
    "\n",
    "# Aggregate LLM-BFS CSV (single-run style)\n",
    "def aggregate_bfs_csv(csv_path: Path):\n",
    "    if not csv_path.exists():\n",
    "        return pd.DataFrame(), pd.DataFrame()\n",
    "    df = pd.read_csv(csv_path)\n",
    "    df['dataset'] = df['dataset'].astype(str)\n",
    "    df['model'] = 'LLM-BFS'\n",
    "    # Add meta from known maps\n",
    "    df['num_nodes'] = df['dataset'].str.lower().map(dags_nodes_map)\n",
    "    df['num_edges'] = df['dataset'].str.lower().map(dags_arcs_map)\n",
    "    # DAG agg\n",
    "    dag_cols = ['dag_nnz','dag_fdr','dag_tpr','dag_fpr','dag_precision','dag_recall','dag_F1','dag_shd','dag_sid']\n",
    "    dag_agg = df.groupby(['dataset','model'])[dag_cols + ['time']].agg(['mean','std']).reset_index()\n",
    "    dag_agg.columns = ['dataset','model'] + ['_'.join(col).strip('_').replace('time_', 'elapsed_') for col in dag_agg.columns[2:]]\n",
    "    rename_map = {\n",
    "        'dag_nnz_mean':'nnz_mean','dag_nnz_std':'nnz_std',\n",
    "        'dag_fdr_mean':'fdr_mean','dag_fdr_std':'fdr_std',\n",
    "        'dag_tpr_mean':'tpr_mean','dag_tpr_std':'tpr_std',\n",
    "        'dag_fpr_mean':'fpr_mean','dag_fpr_std':'fpr_std',\n",
    "        'dag_precision_mean':'precision_mean','dag_precision_std':'precision_std',\n",
    "        'dag_recall_mean':'recall_mean','dag_recall_std':'recall_std',\n",
    "        'dag_F1_mean':'F1_mean','dag_F1_std':'F1_std',\n",
    "        'dag_shd_mean':'shd_mean','dag_shd_std':'shd_std',\n",
    "        'dag_sid_mean':'SID_mean','dag_sid_std':'SID_std',\n",
    "    }\n",
    "    dag_agg = dag_agg.rename(columns=rename_map)\n",
    "    # Merge meta\n",
    "    meta = df.groupby(['dataset','model']).agg(num_nodes=('num_nodes','first'), num_edges=('num_edges','first')).reset_index()\n",
    "    dag_agg = dag_agg.merge(meta, on=['dataset','model'], how='left')\n",
    "    # CPDAG agg\n",
    "    cp_cols = ['cpdag_nnz','cpdag_fdr','cpdag_tpr','cpdag_fpr','cpdag_precision','cpdag_recall','cpdag_F1','cpdag_shd','cpdag_sid_low','cpdag_sid_high']\n",
    "    cp_agg = df.groupby(['dataset','model'])[cp_cols + ['time']].agg(['mean','std']).reset_index()\n",
    "    cp_agg.columns = ['dataset','model'] + ['_'.join(col).strip('_').replace('time_', 'elapsed_') for col in cp_agg.columns[2:]]\n",
    "    cp_rename = {\n",
    "        'cpdag_nnz_mean':'nnz_mean','cpdag_nnz_std':'nnz_std',\n",
    "        'cpdag_fdr_mean':'fdr_mean','cpdag_fdr_std':'fdr_std',\n",
    "        'cpdag_tpr_mean':'tpr_mean','cpdag_tpr_std':'tpr_std',\n",
    "        'cpdag_fpr_mean':'fpr_mean','cpdag_fpr_std':'fpr_std',\n",
    "        'cpdag_precision_mean':'precision_mean','cpdag_precision_std':'precision_std',\n",
    "        'cpdag_recall_mean':'recall_mean','cpdag_recall_std':'recall_std',\n",
    "        'cpdag_F1_mean':'F1_mean','cpdag_F1_std':'F1_std',\n",
    "        'cpdag_shd_mean':'shd_mean','cpdag_shd_std':'shd_std',\n",
    "        'cpdag_sid_low_mean':'SID_low_mean','cpdag_sid_low_std':'SID_low_std',\n",
    "        'cpdag_sid_high_mean':'SID_high_mean','cpdag_sid_high_std':'SID_high_std',\n",
    "    }\n",
    "    cp_agg = cp_agg.rename(columns=cp_rename)\n",
    "    cp_agg = cp_agg.merge(meta, on=['dataset','model'], how='left')\n",
    "    return dag_agg, cp_agg\n",
    "\n",
    "bfs_dag_csv, bfs_cpdag_csv = aggregate_bfs_csv(CSV_BFS)\n",
    "display({'bfs_dag_csv': bfs_dag_csv.head(), 'bfs_cpdag_csv': bfs_cpdag_csv.head()})\n"
   ]
  },
  {
   "cell_type": "code",
   "execution_count": 27,
   "metadata": {},
   "outputs": [
    {
     "name": "stdout",
     "output_type": "stream",
     "text": [
      "CPDAG models: ['ABAPC', 'ABAPC-LLM', 'FGS', 'LLM-BFS', 'MPC', 'NOTEARS-MLP', 'Random']\n",
      "DAG models: ['ABAPC', 'ABAPC-LLM', 'FGS', 'LLM-BFS', 'MPC', 'NOTEARS-MLP', 'Random']\n"
     ]
    }
   ],
   "source": [
    "datasets_to_plot = {'cancer','earthquake','asia', 'sachs', 'survey', 'alarm', 'child', 'insurance', 'hailfinder', 'hepar2'}\n",
    "# Merge npy and csv aggregates per kind\n",
    "cpdag_all = pd.concat([cpdag_npy, cpdag_csv, bfs_cpdag_csv], ignore_index=True, sort=False)\n",
    "dag_all = pd.concat([dag_npy, dag_csv, bfs_dag_csv], ignore_index=True, sort=False)\n",
    "\n",
    "## filter to datasets of interest\n",
    "cpdag_all = cpdag_all[cpdag_all['dataset'].str.lower().isin(datasets_to_plot)].copy()\n",
    "dag_all = dag_all[dag_all['dataset'].str.lower().isin(datasets_to_plot)].copy()\n",
    "\n",
    "# Add node/edge counts for label/normalisation\n",
    "for df in (cpdag_all, dag_all):\n",
    "    if 'num_edges' not in df: df['num_edges'] = np.nan\n",
    "    if 'num_nodes' not in df: df['num_nodes'] = np.nan\n",
    "    # Fill from known maps where missing\n",
    "    base_names = df['dataset'].astype(str).str.replace('<br>.*','', regex=True).str.lower()\n",
    "    df['n_edges'] = base_names.map(dags_arcs_map).fillna(df['num_edges']).astype(float)\n",
    "    df['n_nodes'] = base_names.map(dags_nodes_map).fillna(df['num_nodes']).astype(float)\n",
    "    # Nice dataset label\n",
    "    ds_upper = base_names.str.upper()\n",
    "    df['dataset'] = ds_upper + '<br> |V|=' + df['n_nodes'].fillna(0).astype(int).astype(str) + ', |E|=' + df['n_edges'].fillna(0).astype(int).astype(str)\n",
    "\n",
    "# Compute normalised metrics\n",
    "def add_normals(df, sid_cols):\n",
    "    if 'shd_mean' in df and 'n_edges' in df:\n",
    "        df['p_shd_mean'] = df['shd_mean'].astype(float) / df['n_edges'].astype(float)\n",
    "        df['p_shd_std'] = df['shd_std'].astype(float) / df['n_edges'].astype(float)\n",
    "    for c in sid_cols:\n",
    "        mean_c, std_c = f'{c}_mean', f'{c}_std'\n",
    "        if mean_c in df and 'n_edges' in df:\n",
    "            df[f'p_{c}_mean'] = df[mean_c].astype(float) / df['n_edges'].astype(float)\n",
    "            df[f'p_{c}_std'] = df[std_c].astype(float) / df['n_edges'].astype(float)\n",
    "    return df\n",
    "\n",
    "cpdag_all = add_normals(cpdag_all, sid_cols=['SID_low','SID_high'])\n",
    "dag_all = add_normals(dag_all, sid_cols=['SID'])\n",
    "\n",
    "available_models_cpdag = sorted(cpdag_all['model'].unique()) if len(cpdag_all)>0 else []\n",
    "available_models_dag = sorted(dag_all['model'].unique()) if len(dag_all)>0 else []\n",
    "print('CPDAG models:', available_models_cpdag)\n",
    "print('DAG models:', available_models_dag)\n"
   ]
  },
  {
   "cell_type": "code",
   "execution_count": 28,
   "metadata": {},
   "outputs": [
    {
     "data": {
      "application/vnd.plotly.v1+json": {
       "config": {
        "plotlyServerURL": "https://plot.ly"
       },
       "data": [
        {
         "error_y": {
          "array": {
           "bdata": "CtejcD0K7T8K16NwPQrnPzCW/GLJL+Y/9ihcj8L16z95RhPgrHnWPw==",
           "dtype": "f8"
          },
          "type": "data",
          "visible": true
         },
         "marker": {
          "color": "#7f7f7f"
         },
         "name": "Random",
         "offsetgroup": "0",
         "opacity": 0.6,
         "showlegend": true,
         "type": "bar",
         "x": [
          "CANCER<br> |V|=5, |E|=4",
          "EARTHQUAKE<br> |V|=5, |E|=4",
          "SURVEY<br> |V|=6, |E|=6",
          "ASIA<br> |V|=8, |E|=8",
          "SACHS<br> |V|=11, |E|=17"
         ],
         "y": {
          "bdata": "w/UoXI/C/z+F61G4HoX/P36x5BdLfgFAexSuR+H6CECQKcNc9o8FQA==",
          "dtype": "f8"
         },
         "yaxis": "y"
        },
        {
         "error_y": {
          "array": {
           "bdata": "FK5H4XoU3j/sUbgehevVP+i0gU4b6OA/MzMzMzMz5D+iO9VuCKLLPw==",
           "dtype": "f8"
          },
          "type": "data",
          "visible": true
         },
         "marker": {
          "color": "#b85c00"
         },
         "name": "FGS",
         "offsetgroup": "1",
         "opacity": 0.6,
         "showlegend": true,
         "type": "bar",
         "x": [
          "CANCER<br> |V|=5, |E|=4",
          "EARTHQUAKE<br> |V|=5, |E|=4",
          "SURVEY<br> |V|=6, |E|=6",
          "ASIA<br> |V|=8, |E|=8",
          "SACHS<br> |V|=11, |E|=17"
         ],
         "y": {
          "bdata": "H4XrUbge+T9mZmZmZmbyPzfQaQOdNgJA4XoUrkchEEC/i1gl8r4DQA==",
          "dtype": "f8"
         },
         "yaxis": "y"
        },
        {
         "error_y": {
          "array": {
           "bdata": "mpmZmZmZ0T/Xo3A9CtffPwAAAAAAAAAAj8L1KFyP3j9om84BNWi7Pw==",
           "dtype": "f8"
          },
          "type": "data",
          "visible": true
         },
         "marker": {
          "color": "#0085CA"
         },
         "name": "NOTEARS-MLP",
         "offsetgroup": "2",
         "opacity": 0.6,
         "showlegend": true,
         "type": "bar",
         "x": [
          "CANCER<br> |V|=5, |E|=4",
          "EARTHQUAKE<br> |V|=5, |E|=4",
          "SURVEY<br> |V|=6, |E|=6",
          "ASIA<br> |V|=8, |E|=8",
          "SACHS<br> |V|=11, |E|=17"
         ],
         "y": {
          "bdata": "XI/C9ShcA0CPwvUoXI/wP6uqqqqqqgZAXI/C9SjcAEBYV1dXV1cDQA==",
          "dtype": "f8"
         },
         "yaxis": "y"
        },
        {
         "error_y": {
          "array": {
           "bdata": "9ihcj8L13D8AAAAAAAAAADCW/GLJL+I/ZmZmZmZm5j8=",
           "dtype": "f8"
          },
          "type": "data",
          "visible": true
         },
         "marker": {
          "color": "#379f9f"
         },
         "name": "MPC",
         "offsetgroup": "3",
         "opacity": 0.6,
         "showlegend": true,
         "type": "bar",
         "x": [
          "CANCER<br> |V|=5, |E|=4",
          "EARTHQUAKE<br> |V|=5, |E|=4",
          "SURVEY<br> |V|=6, |E|=6",
          "ASIA<br> |V|=8, |E|=8"
         ],
         "y": {
          "bdata": "CtejcD0K7z8AAAAAAAD0P2kDnTbQaes/exSuR+F6/j8=",
          "dtype": "f8"
         },
         "yaxis": "y"
        },
        {
         "error_y": {
          "array": {
           "bdata": "4CEBwaLK5T8k+hYwGezuPwlj/1EYGtI/mbRbKksy0z8DJs/cR2njPw==",
           "dtype": "f8"
          },
          "type": "data",
          "visible": true
         },
         "marker": {
          "color": "#bcbd22"
         },
         "name": "ABAPC",
         "offsetgroup": "4",
         "opacity": 0.6,
         "showlegend": true,
         "type": "bar",
         "x": [
          "ASIA<br> |V|=8, |E|=8",
          "CANCER<br> |V|=5, |E|=4",
          "EARTHQUAKE<br> |V|=5, |E|=4",
          "SACHS<br> |V|=11, |E|=17",
          "SURVEY<br> |V|=6, |E|=6"
         ],
         "y": {
          "bdata": "H4XrUbheA0DhehSuR+H2P3sUrkfheqQ/iFUi77uIxT9xPQrXo/ABQA==",
          "dtype": "f8"
         },
         "yaxis": "y"
        },
        {
         "error_y": {
          "array": {
           "bdata": "AAAAAAAA+H8AAAAAAAD4fwAAAAAAAPh/AAAAAAAA+H8AAAAAAAD4fwAAAAAAAPh/",
           "dtype": "f8"
          },
          "type": "data",
          "visible": true
         },
         "marker": {
          "color": "#e377c2"
         },
         "name": "LLM-BFS",
         "offsetgroup": "5",
         "opacity": 0.6,
         "showlegend": true,
         "type": "bar",
         "x": [
          "ASIA<br> |V|=8, |E|=8",
          "CANCER<br> |V|=5, |E|=4",
          "CHILD<br> |V|=20, |E|=25",
          "EARTHQUAKE<br> |V|=5, |E|=4",
          "SACHS<br> |V|=11, |E|=17",
          "SURVEY<br> |V|=6, |E|=6"
         ],
         "y": {
          "bdata": "uB6F61G4nj+4HoXrUbieP/YoXI/C9RBAuB6F61G4nj8PDw8PDw8HQLgehetRuJ4/",
          "dtype": "f8"
         },
         "yaxis": "y"
        },
        {
         "error_y": {
          "array": {
           "bdata": "c10cDTO00D+WNmD83S/VPwlj/1EYGsI/hcCCd6KK1T/lMPCtlSTkPw==",
           "dtype": "f8"
          },
          "type": "data",
          "visible": true
         },
         "marker": {
          "color": "#441469"
         },
         "name": "ABAPC-LLM",
         "offsetgroup": "6",
         "opacity": 0.6,
         "showlegend": true,
         "type": "bar",
         "x": [
          "ASIA<br> |V|=8, |E|=8",
          "CANCER<br> |V|=5, |E|=4",
          "EARTHQUAKE<br> |V|=5, |E|=4",
          "SACHS<br> |V|=11, |E|=17",
          "SURVEY<br> |V|=6, |E|=6"
         ],
         "y": {
          "bdata": "MzMzMzOz/j+4HoXrUbjOP3sUrkfhepQ/YoEG8kP8yj+W/GLJL5YBQA==",
          "dtype": "f8"
         },
         "yaxis": "y"
        },
        {
         "marker": {
          "color": "white"
         },
         "name": "",
         "offsetgroup": "7",
         "opacity": 1,
         "showlegend": false,
         "type": "bar",
         "x": [
          "ASIA<br> |V|=8, |E|=8",
          "CANCER<br> |V|=5, |E|=4",
          "EARTHQUAKE<br> |V|=5, |E|=4",
          "SACHS<br> |V|=11, |E|=17",
          "SURVEY<br> |V|=6, |E|=6"
         ],
         "y": {
          "bdata": "AAAAAAAAAAAAAAAAAAAAAAAAAAAAAAAAAAAAAAAAAAAAAAAAAAAAAA==",
          "dtype": "f8"
         }
        },
        {
         "error_y": {
          "array": {
           "bdata": "PQrXo3A96D+uR+F6FK7rP2kDnTbQaec/XI/C9Shc6D8m8r6LWCXSPw==",
           "dtype": "f8"
          },
          "type": "data",
          "visible": true
         },
         "marker": {
          "color": "#7f7f7f"
         },
         "name": "Random",
         "offsetgroup": "8",
         "opacity": 0.6,
         "showlegend": false,
         "type": "bar",
         "x": [
          "CANCER<br> |V|=5, |E|=4",
          "EARTHQUAKE<br> |V|=5, |E|=4",
          "SURVEY<br> |V|=6, |E|=6",
          "ASIA<br> |V|=8, |E|=8",
          "SACHS<br> |V|=11, |E|=17"
         ],
         "y": {
          "bdata": "FK5H4XoUDEDD9Shcj8ILQNBpA5020A1AH4XrUbieEkC57B9ThrkIQA==",
          "dtype": "f8"
         },
         "yaxis": "y2"
        },
        {
         "error_y": {
          "array": {
           "bdata": "FK5H4XoU3j9cj8L1KFy/P3TaQKcNdOI/exSuR+F61j923EKpD3bMPw==",
           "dtype": "f8"
          },
          "type": "data",
          "visible": true
         },
         "marker": {
          "color": "#b85c00"
         },
         "name": "FGS",
         "offsetgroup": "9",
         "opacity": 0.6,
         "showlegend": false,
         "type": "bar",
         "x": [
          "CANCER<br> |V|=5, |E|=4",
          "EARTHQUAKE<br> |V|=5, |E|=4",
          "SURVEY<br> |V|=6, |E|=6",
          "ASIA<br> |V|=8, |E|=8",
          "SACHS<br> |V|=11, |E|=17"
         ],
         "y": {
          "bdata": "SOF6FK5HEEAAAAAAAAAOQIwlv1jyiwtAmpmZmZnZFED+ypdkMf4GQA==",
          "dtype": "f8"
         },
         "yaxis": "y2"
        },
        {
         "error_y": {
          "array": {
           "bdata": "SOF6FK5HsT8AAAAAAADsPwAAAAAAAAAAMzMzMzMz4D8N2qZzQA26Pw==",
           "dtype": "f8"
          },
          "type": "data",
          "visible": true
         },
         "marker": {
          "color": "#0085CA"
         },
         "name": "NOTEARS-MLP",
         "offsetgroup": "10",
         "opacity": 0.6,
         "showlegend": false,
         "type": "bar",
         "x": [
          "CANCER<br> |V|=5, |E|=4",
          "EARTHQUAKE<br> |V|=5, |E|=4",
          "SURVEY<br> |V|=6, |E|=6",
          "ASIA<br> |V|=8, |E|=8",
          "SACHS<br> |V|=11, |E|=17"
         ],
         "y": {
          "bdata": "KVyPwvUoBEA9CtejcD0LQKuqqqqqqgZAzczMzMwMFUCYZDH+ypcMQA==",
          "dtype": "f8"
         },
         "yaxis": "y2"
        },
        {
         "error_y": {
          "array": {
           "bdata": "9ihcj8L13D8AAAAAAAAAAEGnDXTaQOc/KVyPwvUo3j8=",
           "dtype": "f8"
          },
          "type": "data",
          "visible": true
         },
         "marker": {
          "color": "#379f9f"
         },
         "name": "MPC",
         "offsetgroup": "11",
         "opacity": 0.6,
         "showlegend": false,
         "type": "bar",
         "x": [
          "CANCER<br> |V|=5, |E|=4",
          "EARTHQUAKE<br> |V|=5, |E|=4",
          "SURVEY<br> |V|=6, |E|=6",
          "ASIA<br> |V|=8, |E|=8"
         ],
         "y": {
          "bdata": "w/UoXI/CC0AAAAAAAAAOQNQGOm2g0wpAw/UoXI+CFEA=",
          "dtype": "f8"
         },
         "yaxis": "y2"
        },
        {
         "error_y": {
          "array": {
           "bdata": "fjqMrw1k6z8I4gEXW4foP20SG1+5qOA/mBeAd7Gx0D+c7kzOukfoPw==",
           "dtype": "f8"
          },
          "type": "data",
          "visible": true
         },
         "marker": {
          "color": "#bcbd22"
         },
         "name": "ABAPC",
         "offsetgroup": "12",
         "opacity": 0.6,
         "showlegend": false,
         "type": "bar",
         "x": [
          "ASIA<br> |V|=8, |E|=8",
          "CANCER<br> |V|=5, |E|=4",
          "EARTHQUAKE<br> |V|=5, |E|=4",
          "SACHS<br> |V|=11, |E|=17",
          "SURVEY<br> |V|=6, |E|=6"
         ],
         "y": {
          "bdata": "KVyPwvWoD0C4HoXrUTgGQBSuR+F6FPY/WCXyvotYBUDBPFH/RigIQA==",
          "dtype": "f8"
         },
         "yaxis": "y2"
        },
        {
         "error_y": {
          "array": {
           "bdata": "AAAAAAAA+H8AAAAAAAD4fwAAAAAAAPh/AAAAAAAA+H8AAAAAAAD4fwAAAAAAAPh/",
           "dtype": "f8"
          },
          "type": "data",
          "visible": true
         },
         "marker": {
          "color": "#e377c2"
         },
         "name": "LLM-BFS",
         "offsetgroup": "13",
         "opacity": 0.6,
         "showlegend": false,
         "type": "bar",
         "x": [
          "ASIA<br> |V|=8, |E|=8",
          "CANCER<br> |V|=5, |E|=4",
          "CHILD<br> |V|=20, |E|=25",
          "EARTHQUAKE<br> |V|=5, |E|=4",
          "SACHS<br> |V|=11, |E|=17",
          "SURVEY<br> |V|=6, |E|=6"
         ],
         "y": {
          "bdata": "AAAAAAAA/j8AAAAAAADoPxSuR+F6FCJAAAAAAAAA6D8AAAAAAAAIQAAAAAAAAAxA",
          "dtype": "f8"
         },
         "yaxis": "y2"
        },
        {
         "error_y": {
          "array": {
           "bdata": "Pm8vaUuH1j+CXqeRsnrqP20SG1+5qOA/cpksTYAJwT8u+dnXGHTjPw==",
           "dtype": "f8"
          },
          "type": "data",
          "visible": true
         },
         "marker": {
          "color": "#441469"
         },
         "name": "ABAPC-LLM",
         "offsetgroup": "14",
         "opacity": 0.6,
         "showlegend": false,
         "type": "bar",
         "x": [
          "ASIA<br> |V|=8, |E|=8",
          "CANCER<br> |V|=5, |E|=4",
          "EARTHQUAKE<br> |V|=5, |E|=4",
          "SACHS<br> |V|=11, |E|=17",
          "SURVEY<br> |V|=6, |E|=6"
         ],
         "y": {
          "bdata": "SOF6FK7HCEDhehSuR+EBQBSuR+F6FPY/zGX/mDLMBUC4HoXrUbgGQA==",
          "dtype": "f8"
         },
         "yaxis": "y2"
        }
       ],
       "layout": {
        "annotations": [
         {
          "font": {
           "color": "black",
           "size": 24
          },
          "showarrow": false,
          "text": "         Best         ",
          "x": 0.04541666666666666,
          "xanchor": "center",
          "xref": "x domain",
          "y": 1.07,
          "yanchor": "middle",
          "yref": "y domain"
         },
         {
          "font": {
           "color": "black",
           "size": 24
          },
          "showarrow": false,
          "text": "         Worst         ",
          "x": 0.12125,
          "xanchor": "center",
          "xref": "x domain",
          "y": 1.07,
          "yanchor": "middle",
          "yref": "y domain"
         },
         {
          "font": {
           "color": "black",
           "size": 24
          },
          "showarrow": false,
          "text": "         Best         ",
          "x": 0.21208333333333332,
          "xanchor": "center",
          "xref": "x domain",
          "y": 1.07,
          "yanchor": "middle",
          "yref": "y domain"
         },
         {
          "font": {
           "color": "black",
           "size": 24
          },
          "showarrow": false,
          "text": "         Worst         ",
          "x": 0.2879166666666667,
          "xanchor": "center",
          "xref": "x domain",
          "y": 1.07,
          "yanchor": "middle",
          "yref": "y domain"
         },
         {
          "font": {
           "color": "black",
           "size": 24
          },
          "showarrow": false,
          "text": "         Best         ",
          "x": 0.37875000000000003,
          "xanchor": "center",
          "xref": "x domain",
          "y": 1.07,
          "yanchor": "middle",
          "yref": "y domain"
         },
         {
          "font": {
           "color": "black",
           "size": 24
          },
          "showarrow": false,
          "text": "         Worst         ",
          "x": 0.45458333333333334,
          "xanchor": "center",
          "xref": "x domain",
          "y": 1.07,
          "yanchor": "middle",
          "yref": "y domain"
         },
         {
          "font": {
           "color": "black",
           "size": 24
          },
          "showarrow": false,
          "text": "         Best         ",
          "x": 0.5454166666666667,
          "xanchor": "center",
          "xref": "x domain",
          "y": 1.07,
          "yanchor": "middle",
          "yref": "y domain"
         },
         {
          "font": {
           "color": "black",
           "size": 24
          },
          "showarrow": false,
          "text": "         Worst         ",
          "x": 0.6212499999999999,
          "xanchor": "center",
          "xref": "x domain",
          "y": 1.07,
          "yanchor": "middle",
          "yref": "y domain"
         },
         {
          "font": {
           "color": "black",
           "size": 24
          },
          "showarrow": false,
          "text": "         Best         ",
          "x": 0.7120833333333332,
          "xanchor": "center",
          "xref": "x domain",
          "y": 1.07,
          "yanchor": "middle",
          "yref": "y domain"
         },
         {
          "font": {
           "color": "black",
           "size": 24
          },
          "showarrow": false,
          "text": "         Worst         ",
          "x": 0.7879166666666666,
          "xanchor": "center",
          "xref": "x domain",
          "y": 1.07,
          "yanchor": "middle",
          "yref": "y domain"
         },
         {
          "font": {
           "color": "black",
           "size": 24
          },
          "showarrow": false,
          "text": "         Best         ",
          "x": 0.8787499999999999,
          "xanchor": "center",
          "xref": "x domain",
          "y": 1.07,
          "yanchor": "middle",
          "yref": "y domain"
         },
         {
          "font": {
           "color": "black",
           "size": 24
          },
          "showarrow": false,
          "text": "         Worst         ",
          "x": 0.9545833333333331,
          "xanchor": "center",
          "xref": "x domain",
          "y": 1.07,
          "yanchor": "middle",
          "yref": "y domain"
         }
        ],
        "bargap": 0.08,
        "bargroupgap": 0.05,
        "barmode": "group",
        "font": {
         "color": "black",
         "family": "Serif",
         "size": 24
        },
        "height": 700,
        "hovermode": "x unified",
        "legend": {
         "orientation": "h",
         "x": 0.5,
         "xanchor": "center",
         "y": 1.23,
         "yanchor": "top"
        },
        "margin": {
         "b": 70,
         "l": 40,
         "r": 40,
         "t": 80
        },
        "shapes": [
         {
          "fillcolor": "#E5ECF6",
          "layer": "below",
          "line": {
           "color": "#E5ECF6",
           "width": 2
          },
          "type": "rect",
          "x0": 0.002499999999999992,
          "x1": 0.08833333333333333,
          "xref": "x domain",
          "y0": 1.04,
          "y1": 1.1,
          "yref": "y domain"
         },
         {
          "fillcolor": "#E5ECF6",
          "layer": "below",
          "line": {
           "color": "#E5ECF6",
           "width": 2
          },
          "type": "rect",
          "x0": 0.07833333333333332,
          "x1": 0.16416666666666666,
          "xref": "x domain",
          "y0": 1.04,
          "y1": 1.1,
          "yref": "y domain"
         },
         {
          "fillcolor": "#E5ECF6",
          "layer": "below",
          "line": {
           "color": "#E5ECF6",
           "width": 2
          },
          "type": "rect",
          "x0": 0.16916666666666666,
          "x1": 0.255,
          "xref": "x domain",
          "y0": 1.04,
          "y1": 1.1,
          "yref": "y domain"
         },
         {
          "fillcolor": "#E5ECF6",
          "layer": "below",
          "line": {
           "color": "#E5ECF6",
           "width": 2
          },
          "type": "rect",
          "x0": 0.24500000000000002,
          "x1": 0.33083333333333337,
          "xref": "x domain",
          "y0": 1.04,
          "y1": 1.1,
          "yref": "y domain"
         },
         {
          "fillcolor": "#E5ECF6",
          "layer": "below",
          "line": {
           "color": "#E5ECF6",
           "width": 2
          },
          "type": "rect",
          "x0": 0.3358333333333333,
          "x1": 0.4216666666666667,
          "xref": "x domain",
          "y0": 1.04,
          "y1": 1.1,
          "yref": "y domain"
         },
         {
          "fillcolor": "#E5ECF6",
          "layer": "below",
          "line": {
           "color": "#E5ECF6",
           "width": 2
          },
          "type": "rect",
          "x0": 0.4116666666666666,
          "x1": 0.4975,
          "xref": "x domain",
          "y0": 1.04,
          "y1": 1.1,
          "yref": "y domain"
         },
         {
          "fillcolor": "#E5ECF6",
          "layer": "below",
          "line": {
           "color": "#E5ECF6",
           "width": 2
          },
          "type": "rect",
          "x0": 0.5025,
          "x1": 0.5883333333333334,
          "xref": "x domain",
          "y0": 1.04,
          "y1": 1.1,
          "yref": "y domain"
         },
         {
          "fillcolor": "#E5ECF6",
          "layer": "below",
          "line": {
           "color": "#E5ECF6",
           "width": 2
          },
          "type": "rect",
          "x0": 0.5783333333333333,
          "x1": 0.6641666666666666,
          "xref": "x domain",
          "y0": 1.04,
          "y1": 1.1,
          "yref": "y domain"
         },
         {
          "fillcolor": "#E5ECF6",
          "layer": "below",
          "line": {
           "color": "#E5ECF6",
           "width": 2
          },
          "type": "rect",
          "x0": 0.6691666666666666,
          "x1": 0.7549999999999999,
          "xref": "x domain",
          "y0": 1.04,
          "y1": 1.1,
          "yref": "y domain"
         },
         {
          "fillcolor": "#E5ECF6",
          "layer": "below",
          "line": {
           "color": "#E5ECF6",
           "width": 2
          },
          "type": "rect",
          "x0": 0.7449999999999999,
          "x1": 0.8308333333333333,
          "xref": "x domain",
          "y0": 1.04,
          "y1": 1.1,
          "yref": "y domain"
         },
         {
          "fillcolor": "#E5ECF6",
          "layer": "below",
          "line": {
           "color": "#E5ECF6",
           "width": 2
          },
          "type": "rect",
          "x0": 0.8358333333333332,
          "x1": 0.9216666666666666,
          "xref": "x domain",
          "y0": 1.04,
          "y1": 1.1,
          "yref": "y domain"
         },
         {
          "fillcolor": "#E5ECF6",
          "layer": "below",
          "line": {
           "color": "#E5ECF6",
           "width": 2
          },
          "type": "rect",
          "x0": 0.9116666666666665,
          "x1": 0.9974999999999998,
          "xref": "x domain",
          "y0": 1.04,
          "y1": 1.1,
          "yref": "y domain"
         }
        ],
        "template": {
         "data": {
          "bar": [
           {
            "error_x": {
             "color": "#2a3f5f"
            },
            "error_y": {
             "color": "#2a3f5f"
            },
            "marker": {
             "line": {
              "color": "white",
              "width": 0.5
             },
             "pattern": {
              "fillmode": "overlay",
              "size": 10,
              "solidity": 0.2
             }
            },
            "type": "bar"
           }
          ],
          "barpolar": [
           {
            "marker": {
             "line": {
              "color": "white",
              "width": 0.5
             },
             "pattern": {
              "fillmode": "overlay",
              "size": 10,
              "solidity": 0.2
             }
            },
            "type": "barpolar"
           }
          ],
          "carpet": [
           {
            "aaxis": {
             "endlinecolor": "#2a3f5f",
             "gridcolor": "#C8D4E3",
             "linecolor": "#C8D4E3",
             "minorgridcolor": "#C8D4E3",
             "startlinecolor": "#2a3f5f"
            },
            "baxis": {
             "endlinecolor": "#2a3f5f",
             "gridcolor": "#C8D4E3",
             "linecolor": "#C8D4E3",
             "minorgridcolor": "#C8D4E3",
             "startlinecolor": "#2a3f5f"
            },
            "type": "carpet"
           }
          ],
          "choropleth": [
           {
            "colorbar": {
             "outlinewidth": 0,
             "ticks": ""
            },
            "type": "choropleth"
           }
          ],
          "contour": [
           {
            "colorbar": {
             "outlinewidth": 0,
             "ticks": ""
            },
            "colorscale": [
             [
              0,
              "#0d0887"
             ],
             [
              0.1111111111111111,
              "#46039f"
             ],
             [
              0.2222222222222222,
              "#7201a8"
             ],
             [
              0.3333333333333333,
              "#9c179e"
             ],
             [
              0.4444444444444444,
              "#bd3786"
             ],
             [
              0.5555555555555556,
              "#d8576b"
             ],
             [
              0.6666666666666666,
              "#ed7953"
             ],
             [
              0.7777777777777778,
              "#fb9f3a"
             ],
             [
              0.8888888888888888,
              "#fdca26"
             ],
             [
              1,
              "#f0f921"
             ]
            ],
            "type": "contour"
           }
          ],
          "contourcarpet": [
           {
            "colorbar": {
             "outlinewidth": 0,
             "ticks": ""
            },
            "type": "contourcarpet"
           }
          ],
          "heatmap": [
           {
            "colorbar": {
             "outlinewidth": 0,
             "ticks": ""
            },
            "colorscale": [
             [
              0,
              "#0d0887"
             ],
             [
              0.1111111111111111,
              "#46039f"
             ],
             [
              0.2222222222222222,
              "#7201a8"
             ],
             [
              0.3333333333333333,
              "#9c179e"
             ],
             [
              0.4444444444444444,
              "#bd3786"
             ],
             [
              0.5555555555555556,
              "#d8576b"
             ],
             [
              0.6666666666666666,
              "#ed7953"
             ],
             [
              0.7777777777777778,
              "#fb9f3a"
             ],
             [
              0.8888888888888888,
              "#fdca26"
             ],
             [
              1,
              "#f0f921"
             ]
            ],
            "type": "heatmap"
           }
          ],
          "histogram": [
           {
            "marker": {
             "pattern": {
              "fillmode": "overlay",
              "size": 10,
              "solidity": 0.2
             }
            },
            "type": "histogram"
           }
          ],
          "histogram2d": [
           {
            "colorbar": {
             "outlinewidth": 0,
             "ticks": ""
            },
            "colorscale": [
             [
              0,
              "#0d0887"
             ],
             [
              0.1111111111111111,
              "#46039f"
             ],
             [
              0.2222222222222222,
              "#7201a8"
             ],
             [
              0.3333333333333333,
              "#9c179e"
             ],
             [
              0.4444444444444444,
              "#bd3786"
             ],
             [
              0.5555555555555556,
              "#d8576b"
             ],
             [
              0.6666666666666666,
              "#ed7953"
             ],
             [
              0.7777777777777778,
              "#fb9f3a"
             ],
             [
              0.8888888888888888,
              "#fdca26"
             ],
             [
              1,
              "#f0f921"
             ]
            ],
            "type": "histogram2d"
           }
          ],
          "histogram2dcontour": [
           {
            "colorbar": {
             "outlinewidth": 0,
             "ticks": ""
            },
            "colorscale": [
             [
              0,
              "#0d0887"
             ],
             [
              0.1111111111111111,
              "#46039f"
             ],
             [
              0.2222222222222222,
              "#7201a8"
             ],
             [
              0.3333333333333333,
              "#9c179e"
             ],
             [
              0.4444444444444444,
              "#bd3786"
             ],
             [
              0.5555555555555556,
              "#d8576b"
             ],
             [
              0.6666666666666666,
              "#ed7953"
             ],
             [
              0.7777777777777778,
              "#fb9f3a"
             ],
             [
              0.8888888888888888,
              "#fdca26"
             ],
             [
              1,
              "#f0f921"
             ]
            ],
            "type": "histogram2dcontour"
           }
          ],
          "mesh3d": [
           {
            "colorbar": {
             "outlinewidth": 0,
             "ticks": ""
            },
            "type": "mesh3d"
           }
          ],
          "parcoords": [
           {
            "line": {
             "colorbar": {
              "outlinewidth": 0,
              "ticks": ""
             }
            },
            "type": "parcoords"
           }
          ],
          "pie": [
           {
            "automargin": true,
            "type": "pie"
           }
          ],
          "scatter": [
           {
            "fillpattern": {
             "fillmode": "overlay",
             "size": 10,
             "solidity": 0.2
            },
            "type": "scatter"
           }
          ],
          "scatter3d": [
           {
            "line": {
             "colorbar": {
              "outlinewidth": 0,
              "ticks": ""
             }
            },
            "marker": {
             "colorbar": {
              "outlinewidth": 0,
              "ticks": ""
             }
            },
            "type": "scatter3d"
           }
          ],
          "scattercarpet": [
           {
            "marker": {
             "colorbar": {
              "outlinewidth": 0,
              "ticks": ""
             }
            },
            "type": "scattercarpet"
           }
          ],
          "scattergeo": [
           {
            "marker": {
             "colorbar": {
              "outlinewidth": 0,
              "ticks": ""
             }
            },
            "type": "scattergeo"
           }
          ],
          "scattergl": [
           {
            "marker": {
             "colorbar": {
              "outlinewidth": 0,
              "ticks": ""
             }
            },
            "type": "scattergl"
           }
          ],
          "scattermap": [
           {
            "marker": {
             "colorbar": {
              "outlinewidth": 0,
              "ticks": ""
             }
            },
            "type": "scattermap"
           }
          ],
          "scattermapbox": [
           {
            "marker": {
             "colorbar": {
              "outlinewidth": 0,
              "ticks": ""
             }
            },
            "type": "scattermapbox"
           }
          ],
          "scatterpolar": [
           {
            "marker": {
             "colorbar": {
              "outlinewidth": 0,
              "ticks": ""
             }
            },
            "type": "scatterpolar"
           }
          ],
          "scatterpolargl": [
           {
            "marker": {
             "colorbar": {
              "outlinewidth": 0,
              "ticks": ""
             }
            },
            "type": "scatterpolargl"
           }
          ],
          "scatterternary": [
           {
            "marker": {
             "colorbar": {
              "outlinewidth": 0,
              "ticks": ""
             }
            },
            "type": "scatterternary"
           }
          ],
          "surface": [
           {
            "colorbar": {
             "outlinewidth": 0,
             "ticks": ""
            },
            "colorscale": [
             [
              0,
              "#0d0887"
             ],
             [
              0.1111111111111111,
              "#46039f"
             ],
             [
              0.2222222222222222,
              "#7201a8"
             ],
             [
              0.3333333333333333,
              "#9c179e"
             ],
             [
              0.4444444444444444,
              "#bd3786"
             ],
             [
              0.5555555555555556,
              "#d8576b"
             ],
             [
              0.6666666666666666,
              "#ed7953"
             ],
             [
              0.7777777777777778,
              "#fb9f3a"
             ],
             [
              0.8888888888888888,
              "#fdca26"
             ],
             [
              1,
              "#f0f921"
             ]
            ],
            "type": "surface"
           }
          ],
          "table": [
           {
            "cells": {
             "fill": {
              "color": "#EBF0F8"
             },
             "line": {
              "color": "white"
             }
            },
            "header": {
             "fill": {
              "color": "#C8D4E3"
             },
             "line": {
              "color": "white"
             }
            },
            "type": "table"
           }
          ]
         },
         "layout": {
          "annotationdefaults": {
           "arrowcolor": "#2a3f5f",
           "arrowhead": 0,
           "arrowwidth": 1
          },
          "autotypenumbers": "strict",
          "coloraxis": {
           "colorbar": {
            "outlinewidth": 0,
            "ticks": ""
           }
          },
          "colorscale": {
           "diverging": [
            [
             0,
             "#8e0152"
            ],
            [
             0.1,
             "#c51b7d"
            ],
            [
             0.2,
             "#de77ae"
            ],
            [
             0.3,
             "#f1b6da"
            ],
            [
             0.4,
             "#fde0ef"
            ],
            [
             0.5,
             "#f7f7f7"
            ],
            [
             0.6,
             "#e6f5d0"
            ],
            [
             0.7,
             "#b8e186"
            ],
            [
             0.8,
             "#7fbc41"
            ],
            [
             0.9,
             "#4d9221"
            ],
            [
             1,
             "#276419"
            ]
           ],
           "sequential": [
            [
             0,
             "#0d0887"
            ],
            [
             0.1111111111111111,
             "#46039f"
            ],
            [
             0.2222222222222222,
             "#7201a8"
            ],
            [
             0.3333333333333333,
             "#9c179e"
            ],
            [
             0.4444444444444444,
             "#bd3786"
            ],
            [
             0.5555555555555556,
             "#d8576b"
            ],
            [
             0.6666666666666666,
             "#ed7953"
            ],
            [
             0.7777777777777778,
             "#fb9f3a"
            ],
            [
             0.8888888888888888,
             "#fdca26"
            ],
            [
             1,
             "#f0f921"
            ]
           ],
           "sequentialminus": [
            [
             0,
             "#0d0887"
            ],
            [
             0.1111111111111111,
             "#46039f"
            ],
            [
             0.2222222222222222,
             "#7201a8"
            ],
            [
             0.3333333333333333,
             "#9c179e"
            ],
            [
             0.4444444444444444,
             "#bd3786"
            ],
            [
             0.5555555555555556,
             "#d8576b"
            ],
            [
             0.6666666666666666,
             "#ed7953"
            ],
            [
             0.7777777777777778,
             "#fb9f3a"
            ],
            [
             0.8888888888888888,
             "#fdca26"
            ],
            [
             1,
             "#f0f921"
            ]
           ]
          },
          "colorway": [
           "#636efa",
           "#EF553B",
           "#00cc96",
           "#ab63fa",
           "#FFA15A",
           "#19d3f3",
           "#FF6692",
           "#B6E880",
           "#FF97FF",
           "#FECB52"
          ],
          "font": {
           "color": "#2a3f5f"
          },
          "geo": {
           "bgcolor": "white",
           "lakecolor": "white",
           "landcolor": "white",
           "showlakes": true,
           "showland": true,
           "subunitcolor": "#C8D4E3"
          },
          "hoverlabel": {
           "align": "left"
          },
          "hovermode": "closest",
          "mapbox": {
           "style": "light"
          },
          "paper_bgcolor": "white",
          "plot_bgcolor": "white",
          "polar": {
           "angularaxis": {
            "gridcolor": "#EBF0F8",
            "linecolor": "#EBF0F8",
            "ticks": ""
           },
           "bgcolor": "white",
           "radialaxis": {
            "gridcolor": "#EBF0F8",
            "linecolor": "#EBF0F8",
            "ticks": ""
           }
          },
          "scene": {
           "xaxis": {
            "backgroundcolor": "white",
            "gridcolor": "#DFE8F3",
            "gridwidth": 2,
            "linecolor": "#EBF0F8",
            "showbackground": true,
            "ticks": "",
            "zerolinecolor": "#EBF0F8"
           },
           "yaxis": {
            "backgroundcolor": "white",
            "gridcolor": "#DFE8F3",
            "gridwidth": 2,
            "linecolor": "#EBF0F8",
            "showbackground": true,
            "ticks": "",
            "zerolinecolor": "#EBF0F8"
           },
           "zaxis": {
            "backgroundcolor": "white",
            "gridcolor": "#DFE8F3",
            "gridwidth": 2,
            "linecolor": "#EBF0F8",
            "showbackground": true,
            "ticks": "",
            "zerolinecolor": "#EBF0F8"
           }
          },
          "shapedefaults": {
           "line": {
            "color": "#2a3f5f"
           }
          },
          "ternary": {
           "aaxis": {
            "gridcolor": "#DFE8F3",
            "linecolor": "#A2B1C6",
            "ticks": ""
           },
           "baxis": {
            "gridcolor": "#DFE8F3",
            "linecolor": "#A2B1C6",
            "ticks": ""
           },
           "bgcolor": "white",
           "caxis": {
            "gridcolor": "#DFE8F3",
            "linecolor": "#A2B1C6",
            "ticks": ""
           }
          },
          "title": {
           "x": 0.05
          },
          "xaxis": {
           "automargin": true,
           "gridcolor": "#EBF0F8",
           "linecolor": "#EBF0F8",
           "ticks": "",
           "title": {
            "standoff": 15
           },
           "zerolinecolor": "#EBF0F8",
           "zerolinewidth": 2
          },
          "yaxis": {
           "automargin": true,
           "gridcolor": "#EBF0F8",
           "linecolor": "#EBF0F8",
           "ticks": "",
           "title": {
            "standoff": 15
           },
           "zerolinecolor": "#EBF0F8",
           "zerolinewidth": 2
          }
         }
        },
        "width": 1600,
        "xaxis": {
         "anchor": "y",
         "domain": [
          0,
          0.94
         ]
        },
        "yaxis": {
         "anchor": "x",
         "domain": [
          0,
          1
         ],
         "range": [
          0,
          6
         ],
         "title": {
          "font": {
           "size": 24
          },
          "text": "Normalised SID"
         }
        },
        "yaxis2": {
         "anchor": "x",
         "overlaying": "y",
         "range": [
          0,
          6
         ],
         "scaleanchor": 0,
         "showgrid": false,
         "showline": false,
         "showticklabels": false,
         "side": "right",
         "title": {
          "font": {
           "size": 24
          },
          "text": ""
         },
         "zeroline": true
        }
       }
      }
     },
     "metadata": {},
     "output_type": "display_data"
    },
    {
     "data": {
      "application/vnd.plotly.v1+json": {
       "config": {
        "plotlyServerURL": "https://plot.ly"
       },
       "data": [
        {
         "error_y": {
          "array": {
           "bdata": "zczMzMzM2D+uR+F6FK7XP+tRuB6F69E/XI/C9Shcyz9EEN2pdkPAPw==",
           "dtype": "f8"
          },
          "type": "data",
          "visible": true
         },
         "marker": {
          "color": "#7f7f7f"
         },
         "name": "Random",
         "offsetgroup": "0",
         "opacity": 0.6,
         "showlegend": true,
         "type": "bar",
         "x": [
          "CANCER<br> |V|=5, |E|=4",
          "EARTHQUAKE<br> |V|=5, |E|=4",
          "SURVEY<br> |V|=6, |E|=6",
          "ASIA<br> |V|=8, |E|=8",
          "SACHS<br> |V|=11, |E|=17"
         ],
         "y": {
          "bdata": "4XoUrkfh9j8zMzMzMzP3P6uqqqqqqvY/AAAAAAAA+j9lMf7Kl2T5Pw==",
          "dtype": "f8"
         },
         "yaxis": "y"
        },
        {
         "error_y": {
          "array": {
           "bdata": "FK5H4XoUvj97FK5H4XrEP4/C9Shcj8I/pHA9CtejuD8DnDXPaAK8Pw==",
           "dtype": "f8"
          },
          "type": "data",
          "visible": true
         },
         "marker": {
          "color": "#b85c00"
         },
         "name": "FGS",
         "offsetgroup": "1",
         "opacity": 0.6,
         "showlegend": true,
         "type": "bar",
         "x": [
          "CANCER<br> |V|=5, |E|=4",
          "EARTHQUAKE<br> |V|=5, |E|=4",
          "SURVEY<br> |V|=6, |E|=6",
          "ASIA<br> |V|=8, |E|=8",
          "SACHS<br> |V|=11, |E|=17"
         ],
         "y": {
          "bdata": "j8L1KFyP4j/2KFyPwvXkPwOdNtBpA/U/PQrXo3A9+D8xl/1jyjD3Pw==",
          "dtype": "f8"
         },
         "yaxis": "y"
        },
        {
         "error_y": {
          "array": {
           "bdata": "SOF6FK5HsT9SuB6F61HIPwAAAAAAAAAAexSuR+F6vD8qkfddxCqxPw==",
           "dtype": "f8"
          },
          "type": "data",
          "visible": true
         },
         "marker": {
          "color": "#0085CA"
         },
         "name": "NOTEARS-MLP",
         "offsetgroup": "2",
         "opacity": 0.6,
         "showlegend": true,
         "type": "bar",
         "x": [
          "CANCER<br> |V|=5, |E|=4",
          "EARTHQUAKE<br> |V|=5, |E|=4",
          "SURVEY<br> |V|=6, |E|=6",
          "ASIA<br> |V|=8, |E|=8",
          "SACHS<br> |V|=11, |E|=17"
         ],
         "y": {
          "bdata": "XI/C9Shc7z/D9Shcj8LdPwAAAAAAAPA/CtejcD0K6z/zJVmMv/LlPw==",
          "dtype": "f8"
         },
         "yaxis": "y"
        },
        {
         "error_y": {
          "array": {
           "bdata": "mpmZmZmZqT/sUbgehevBP1nyiyW/WLI/H4XrUbgetT8=",
           "dtype": "f8"
          },
          "type": "data",
          "visible": true
         },
         "marker": {
          "color": "#379f9f"
         },
         "name": "MPC",
         "offsetgroup": "3",
         "opacity": 0.6,
         "showlegend": true,
         "type": "bar",
         "x": [
          "CANCER<br> |V|=5, |E|=4",
          "EARTHQUAKE<br> |V|=5, |E|=4",
          "SURVEY<br> |V|=6, |E|=6",
          "ASIA<br> |V|=8, |E|=8"
         ],
         "y": {
          "bdata": "UrgehetR4D8fhetRuB7lP5020GkDneY/j8L1KFyP4j8=",
          "dtype": "f8"
         },
         "yaxis": "y"
        },
        {
         "error_y": {
          "array": {
           "bdata": "es2laiWhxD+55uc8+lHSPwQVUHlRoL0/kxarf0uxtT/josAK5WjIPw==",
           "dtype": "f8"
          },
          "type": "data",
          "visible": true
         },
         "marker": {
          "color": "#bcbd22"
         },
         "name": "ABAPC",
         "offsetgroup": "4",
         "opacity": 0.6,
         "showlegend": true,
         "type": "bar",
         "x": [
          "ASIA<br> |V|=8, |E|=8",
          "CANCER<br> |V|=5, |E|=4",
          "EARTHQUAKE<br> |V|=5, |E|=4",
          "SACHS<br> |V|=11, |E|=17",
          "SURVEY<br> |V|=6, |E|=6"
         ],
         "y": {
          "bdata": "/GLJL5b85D8RWDm0yHbgP5qZmZmZmZk/RBDdqXZDsD9I4XoUrkfnPw==",
          "dtype": "f8"
         },
         "yaxis": "y"
        },
        {
         "error_y": {
          "array": {
           "bdata": "AAAAAAAA+H8AAAAAAAD4fwAAAAAAAPh/AAAAAAAA+H8AAAAAAAD4fwAAAAAAAPh/",
           "dtype": "f8"
          },
          "type": "data",
          "visible": true
         },
         "marker": {
          "color": "#e377c2"
         },
         "name": "LLM-BFS",
         "offsetgroup": "5",
         "opacity": 0.6,
         "showlegend": true,
         "type": "bar",
         "x": [
          "ASIA<br> |V|=8, |E|=8",
          "CANCER<br> |V|=5, |E|=4",
          "CHILD<br> |V|=20, |E|=25",
          "EARTHQUAKE<br> |V|=5, |E|=4",
          "SACHS<br> |V|=11, |E|=17",
          "SURVEY<br> |V|=6, |E|=6"
         ],
         "y": {
          "bdata": "AAAAAAAA5D8AAAAAAADwP4/C9ShcjwJAAAAAAAAA8D+mpaWlpaX1P1VVVVVVVfU/",
          "dtype": "f8"
         },
         "yaxis": "y"
        },
        {
         "error_y": {
          "array": {
           "bdata": "RqiDc6Rbtj+C63xO7x3RP2eFxbo5yrU/0TmFdniUtT+Jo0R3dAHIPw==",
           "dtype": "f8"
          },
          "type": "data",
          "visible": true
         },
         "marker": {
          "color": "#441469"
         },
         "name": "ABAPC-LLM",
         "offsetgroup": "6",
         "opacity": 0.6,
         "showlegend": true,
         "type": "bar",
         "x": [
          "ASIA<br> |V|=8, |E|=8",
          "CANCER<br> |V|=5, |E|=4",
          "EARTHQUAKE<br> |V|=5, |E|=4",
          "SACHS<br> |V|=11, |E|=17",
          "SURVEY<br> |V|=6, |E|=6"
         ],
         "y": {
          "bdata": "KVyPwvUo4D97FK5H4XrUP3sUrkfhepQ/PbfLecGirT902kCnDXTmPw==",
          "dtype": "f8"
         },
         "yaxis": "y"
        },
        {
         "marker": {
          "color": "white"
         },
         "name": "",
         "offsetgroup": "7",
         "opacity": 1,
         "showlegend": false,
         "type": "bar",
         "x": [
          "ASIA<br> |V|=8, |E|=8",
          "CANCER<br> |V|=5, |E|=4",
          "EARTHQUAKE<br> |V|=5, |E|=4",
          "SACHS<br> |V|=11, |E|=17",
          "SURVEY<br> |V|=6, |E|=6"
         ],
         "y": {
          "bdata": "AAAAAAAAAAAAAAAAAAAAAAAAAAAAAAAAAAAAAAAAAAAAAAAAAAAAAA==",
          "dtype": "f8"
         }
        },
        {
         "error_y": {
          "array": [
           0.13,
           0.1,
           0.12,
           0.06,
           0.06
          ],
          "type": "data",
          "visible": true
         },
         "marker": {
          "color": "#7f7f7f"
         },
         "name": "Random",
         "offsetgroup": "8",
         "opacity": 0.6,
         "showlegend": false,
         "type": "bar",
         "x": [
          "CANCER<br> |V|=5, |E|=4",
          "EARTHQUAKE<br> |V|=5, |E|=4",
          "SURVEY<br> |V|=6, |E|=6",
          "ASIA<br> |V|=8, |E|=8",
          "SACHS<br> |V|=11, |E|=17"
         ],
         "y": [
          0.32,
          0.3,
          0.31,
          0.17,
          0.13
         ],
         "yaxis": "y2"
        },
        {
         "error_y": {
          "array": [
           0.1,
           0.03,
           0.1,
           0.04,
           0.03
          ],
          "type": "data",
          "visible": true
         },
         "marker": {
          "color": "#b85c00"
         },
         "name": "FGS",
         "offsetgroup": "9",
         "opacity": 0.6,
         "showlegend": false,
         "type": "bar",
         "x": [
          "CANCER<br> |V|=5, |E|=4",
          "EARTHQUAKE<br> |V|=5, |E|=4",
          "SURVEY<br> |V|=6, |E|=6",
          "ASIA<br> |V|=8, |E|=8",
          "SACHS<br> |V|=11, |E|=17"
         ],
         "y": [
          0.43,
          0.47,
          0.27,
          0.25,
          0.14
         ],
         "yaxis": "y2"
        },
        {
         "error_y": {
          "array": [
           0,
           0.17,
           null,
           0.1,
           0
          ],
          "type": "data",
          "visible": true
         },
         "marker": {
          "color": "#0085CA"
         },
         "name": "NOTEARS-MLP",
         "offsetgroup": "10",
         "opacity": 0.6,
         "showlegend": false,
         "type": "bar",
         "x": [
          "CANCER<br> |V|=5, |E|=4",
          "EARTHQUAKE<br> |V|=5, |E|=4",
          "SURVEY<br> |V|=6, |E|=6",
          "ASIA<br> |V|=8, |E|=8",
          "SACHS<br> |V|=11, |E|=17"
         ],
         "y": [
          0.4,
          0.56,
          null,
          0.33,
          0.09
         ],
         "yaxis": "y2"
        },
        {
         "error_y": {
          "array": [
           0.04,
           0.03,
           0.07,
           0.07
          ],
          "type": "data",
          "visible": true
         },
         "marker": {
          "color": "#379f9f"
         },
         "name": "MPC",
         "offsetgroup": "11",
         "opacity": 0.6,
         "showlegend": false,
         "type": "bar",
         "x": [
          "CANCER<br> |V|=5, |E|=4",
          "EARTHQUAKE<br> |V|=5, |E|=4",
          "SURVEY<br> |V|=6, |E|=6",
          "ASIA<br> |V|=8, |E|=8"
         ],
         "y": [
          0.52,
          0.46,
          0.66,
          0.33
         ],
         "yaxis": "y2"
        },
        {
         "error_y": {
          "array": [
           0.13259509695636998,
           0.1811537743117641,
           0.07343676485693702,
           0.060712586060243295,
           0.12851401381156521
          ],
          "type": "data",
          "visible": true
         },
         "marker": {
          "color": "#bcbd22"
         },
         "name": "ABAPC",
         "offsetgroup": "12",
         "opacity": 0.6,
         "showlegend": false,
         "type": "bar",
         "x": [
          "ASIA<br> |V|=8, |E|=8",
          "CANCER<br> |V|=5, |E|=4",
          "EARTHQUAKE<br> |V|=5, |E|=4",
          "SACHS<br> |V|=11, |E|=17",
          "SURVEY<br> |V|=6, |E|=6"
         ],
         "y": [
          0.3375460992907801,
          0.6121104651162791,
          0.985556,
          0.138084,
          0.6142736
         ],
         "yaxis": "y2"
        },
        {
         "error_y": {
          "array": [
           null,
           null,
           null,
           null,
           null,
           null
          ],
          "type": "data",
          "visible": true
         },
         "marker": {
          "color": "#e377c2"
         },
         "name": "LLM-BFS",
         "offsetgroup": "13",
         "opacity": 0.6,
         "showlegend": false,
         "type": "bar",
         "x": [
          "ASIA<br> |V|=8, |E|=8",
          "CANCER<br> |V|=5, |E|=4",
          "CHILD<br> |V|=20, |E|=25",
          "EARTHQUAKE<br> |V|=5, |E|=4",
          "SACHS<br> |V|=11, |E|=17",
          "SURVEY<br> |V|=6, |E|=6"
         ],
         "y": [
          0.5714,
          0.6667,
          0.3448,
          0.6667,
          0.2424,
          0.6667
         ],
         "yaxis": "y2"
        },
        {
         "error_y": {
          "array": [
           0.08272014610993493,
           0.23034463997077356,
           0.04108899331242581,
           0.07109443423319982,
           0.13007860378734587
          ],
          "type": "data",
          "visible": true
         },
         "marker": {
          "color": "#441469"
         },
         "name": "ABAPC-LLM",
         "offsetgroup": "14",
         "opacity": 0.6,
         "showlegend": false,
         "type": "bar",
         "x": [
          "ASIA<br> |V|=8, |E|=8",
          "CANCER<br> |V|=5, |E|=4",
          "EARTHQUAKE<br> |V|=5, |E|=4",
          "SACHS<br> |V|=11, |E|=17",
          "SURVEY<br> |V|=6, |E|=6"
         ],
         "y": [
          0.425527,
          0.72887,
          0.990556,
          0.15103919999999998,
          0.62668
         ],
         "yaxis": "y2"
        }
       ],
       "layout": {
        "annotations": [
         {
          "font": {
           "color": "black",
           "size": 23
          },
          "showarrow": false,
          "text": "         NSHD         ",
          "x": 0.043750000000000004,
          "xanchor": "center",
          "xref": "x domain",
          "y": 1.07,
          "yanchor": "middle",
          "yref": "y domain"
         },
         {
          "font": {
           "color": "black",
           "size": 23
          },
          "showarrow": false,
          "text": "           F1           ",
          "x": 0.12291666666666667,
          "xanchor": "center",
          "xref": "x domain",
          "y": 1.07,
          "yanchor": "middle",
          "yref": "y domain"
         },
         {
          "font": {
           "color": "black",
           "size": 23
          },
          "showarrow": false,
          "text": "         NSHD         ",
          "x": 0.21041666666666664,
          "xanchor": "center",
          "xref": "x domain",
          "y": 1.07,
          "yanchor": "middle",
          "yref": "y domain"
         },
         {
          "font": {
           "color": "black",
           "size": 23
          },
          "showarrow": false,
          "text": "           F1           ",
          "x": 0.2895833333333333,
          "xanchor": "center",
          "xref": "x domain",
          "y": 1.07,
          "yanchor": "middle",
          "yref": "y domain"
         },
         {
          "font": {
           "color": "black",
           "size": 23
          },
          "showarrow": false,
          "text": "         NSHD         ",
          "x": 0.3770833333333333,
          "xanchor": "center",
          "xref": "x domain",
          "y": 1.07,
          "yanchor": "middle",
          "yref": "y domain"
         },
         {
          "font": {
           "color": "black",
           "size": 23
          },
          "showarrow": false,
          "text": "           F1           ",
          "x": 0.45625,
          "xanchor": "center",
          "xref": "x domain",
          "y": 1.07,
          "yanchor": "middle",
          "yref": "y domain"
         },
         {
          "font": {
           "color": "black",
           "size": 23
          },
          "showarrow": false,
          "text": "         NSHD         ",
          "x": 0.54375,
          "xanchor": "center",
          "xref": "x domain",
          "y": 1.07,
          "yanchor": "middle",
          "yref": "y domain"
         },
         {
          "font": {
           "color": "black",
           "size": 23
          },
          "showarrow": false,
          "text": "           F1           ",
          "x": 0.6229166666666667,
          "xanchor": "center",
          "xref": "x domain",
          "y": 1.07,
          "yanchor": "middle",
          "yref": "y domain"
         },
         {
          "font": {
           "color": "black",
           "size": 23
          },
          "showarrow": false,
          "text": "         NSHD         ",
          "x": 0.7104166666666666,
          "xanchor": "center",
          "xref": "x domain",
          "y": 1.07,
          "yanchor": "middle",
          "yref": "y domain"
         },
         {
          "font": {
           "color": "black",
           "size": 23
          },
          "showarrow": false,
          "text": "           F1           ",
          "x": 0.7895833333333332,
          "xanchor": "center",
          "xref": "x domain",
          "y": 1.07,
          "yanchor": "middle",
          "yref": "y domain"
         },
         {
          "font": {
           "color": "black",
           "size": 23
          },
          "showarrow": false,
          "text": "         NSHD         ",
          "x": 0.8770833333333332,
          "xanchor": "center",
          "xref": "x domain",
          "y": 1.07,
          "yanchor": "middle",
          "yref": "y domain"
         },
         {
          "font": {
           "color": "black",
           "size": 23
          },
          "showarrow": false,
          "text": "           F1           ",
          "x": 0.9562499999999999,
          "xanchor": "center",
          "xref": "x domain",
          "y": 1.07,
          "yanchor": "middle",
          "yref": "y domain"
         }
        ],
        "bargap": 0.08,
        "bargroupgap": 0.05,
        "barmode": "group",
        "font": {
         "color": "black",
         "family": "Serif",
         "size": 23
        },
        "height": 700,
        "hovermode": "x unified",
        "legend": {
         "orientation": "h",
         "x": 0.5,
         "xanchor": "center",
         "y": 1.23,
         "yanchor": "top"
        },
        "margin": {
         "b": 70,
         "l": 40,
         "r": 40,
         "t": 80
        },
        "shapes": [
         {
          "fillcolor": "#E5ECF6",
          "layer": "below",
          "line": {
           "color": "#E5ECF6",
           "width": 2
          },
          "type": "rect",
          "x0": 0,
          "x1": 0.09000000000000001,
          "xref": "x domain",
          "y0": 1.04,
          "y1": 1.1,
          "yref": "y domain"
         },
         {
          "fillcolor": "#E5ECF6",
          "layer": "below",
          "line": {
           "color": "#E5ECF6",
           "width": 2
          },
          "type": "rect",
          "x0": 0.07666666666666666,
          "x1": 0.16916666666666666,
          "xref": "x domain",
          "y0": 1.04,
          "y1": 1.1,
          "yref": "y domain"
         },
         {
          "fillcolor": "#E5ECF6",
          "layer": "below",
          "line": {
           "color": "#E5ECF6",
           "width": 2
          },
          "type": "rect",
          "x0": 0.16416666666666666,
          "x1": 0.25666666666666665,
          "xref": "x domain",
          "y0": 1.04,
          "y1": 1.1,
          "yref": "y domain"
         },
         {
          "fillcolor": "#E5ECF6",
          "layer": "below",
          "line": {
           "color": "#E5ECF6",
           "width": 2
          },
          "type": "rect",
          "x0": 0.24333333333333332,
          "x1": 0.3358333333333333,
          "xref": "x domain",
          "y0": 1.04,
          "y1": 1.1,
          "yref": "y domain"
         },
         {
          "fillcolor": "#E5ECF6",
          "layer": "below",
          "line": {
           "color": "#E5ECF6",
           "width": 2
          },
          "type": "rect",
          "x0": 0.3308333333333333,
          "x1": 0.42333333333333334,
          "xref": "x domain",
          "y0": 1.04,
          "y1": 1.1,
          "yref": "y domain"
         },
         {
          "fillcolor": "#E5ECF6",
          "layer": "below",
          "line": {
           "color": "#E5ECF6",
           "width": 2
          },
          "type": "rect",
          "x0": 0.41,
          "x1": 0.5025,
          "xref": "x domain",
          "y0": 1.04,
          "y1": 1.1,
          "yref": "y domain"
         },
         {
          "fillcolor": "#E5ECF6",
          "layer": "below",
          "line": {
           "color": "#E5ECF6",
           "width": 2
          },
          "type": "rect",
          "x0": 0.49749999999999994,
          "x1": 0.59,
          "xref": "x domain",
          "y0": 1.04,
          "y1": 1.1,
          "yref": "y domain"
         },
         {
          "fillcolor": "#E5ECF6",
          "layer": "below",
          "line": {
           "color": "#E5ECF6",
           "width": 2
          },
          "type": "rect",
          "x0": 0.5766666666666667,
          "x1": 0.6691666666666667,
          "xref": "x domain",
          "y0": 1.04,
          "y1": 1.1,
          "yref": "y domain"
         },
         {
          "fillcolor": "#E5ECF6",
          "layer": "below",
          "line": {
           "color": "#E5ECF6",
           "width": 2
          },
          "type": "rect",
          "x0": 0.6641666666666666,
          "x1": 0.7566666666666666,
          "xref": "x domain",
          "y0": 1.04,
          "y1": 1.1,
          "yref": "y domain"
         },
         {
          "fillcolor": "#E5ECF6",
          "layer": "below",
          "line": {
           "color": "#E5ECF6",
           "width": 2
          },
          "type": "rect",
          "x0": 0.7433333333333332,
          "x1": 0.8358333333333332,
          "xref": "x domain",
          "y0": 1.04,
          "y1": 1.1,
          "yref": "y domain"
         },
         {
          "fillcolor": "#E5ECF6",
          "layer": "below",
          "line": {
           "color": "#E5ECF6",
           "width": 2
          },
          "type": "rect",
          "x0": 0.8308333333333332,
          "x1": 0.9233333333333332,
          "xref": "x domain",
          "y0": 1.04,
          "y1": 1.1,
          "yref": "y domain"
         },
         {
          "fillcolor": "#E5ECF6",
          "layer": "below",
          "line": {
           "color": "#E5ECF6",
           "width": 2
          },
          "type": "rect",
          "x0": 0.9099999999999999,
          "x1": 1,
          "xref": "x domain",
          "y0": 1.04,
          "y1": 1.1,
          "yref": "y domain"
         }
        ],
        "template": {
         "data": {
          "bar": [
           {
            "error_x": {
             "color": "#2a3f5f"
            },
            "error_y": {
             "color": "#2a3f5f"
            },
            "marker": {
             "line": {
              "color": "white",
              "width": 0.5
             },
             "pattern": {
              "fillmode": "overlay",
              "size": 10,
              "solidity": 0.2
             }
            },
            "type": "bar"
           }
          ],
          "barpolar": [
           {
            "marker": {
             "line": {
              "color": "white",
              "width": 0.5
             },
             "pattern": {
              "fillmode": "overlay",
              "size": 10,
              "solidity": 0.2
             }
            },
            "type": "barpolar"
           }
          ],
          "carpet": [
           {
            "aaxis": {
             "endlinecolor": "#2a3f5f",
             "gridcolor": "#C8D4E3",
             "linecolor": "#C8D4E3",
             "minorgridcolor": "#C8D4E3",
             "startlinecolor": "#2a3f5f"
            },
            "baxis": {
             "endlinecolor": "#2a3f5f",
             "gridcolor": "#C8D4E3",
             "linecolor": "#C8D4E3",
             "minorgridcolor": "#C8D4E3",
             "startlinecolor": "#2a3f5f"
            },
            "type": "carpet"
           }
          ],
          "choropleth": [
           {
            "colorbar": {
             "outlinewidth": 0,
             "ticks": ""
            },
            "type": "choropleth"
           }
          ],
          "contour": [
           {
            "colorbar": {
             "outlinewidth": 0,
             "ticks": ""
            },
            "colorscale": [
             [
              0,
              "#0d0887"
             ],
             [
              0.1111111111111111,
              "#46039f"
             ],
             [
              0.2222222222222222,
              "#7201a8"
             ],
             [
              0.3333333333333333,
              "#9c179e"
             ],
             [
              0.4444444444444444,
              "#bd3786"
             ],
             [
              0.5555555555555556,
              "#d8576b"
             ],
             [
              0.6666666666666666,
              "#ed7953"
             ],
             [
              0.7777777777777778,
              "#fb9f3a"
             ],
             [
              0.8888888888888888,
              "#fdca26"
             ],
             [
              1,
              "#f0f921"
             ]
            ],
            "type": "contour"
           }
          ],
          "contourcarpet": [
           {
            "colorbar": {
             "outlinewidth": 0,
             "ticks": ""
            },
            "type": "contourcarpet"
           }
          ],
          "heatmap": [
           {
            "colorbar": {
             "outlinewidth": 0,
             "ticks": ""
            },
            "colorscale": [
             [
              0,
              "#0d0887"
             ],
             [
              0.1111111111111111,
              "#46039f"
             ],
             [
              0.2222222222222222,
              "#7201a8"
             ],
             [
              0.3333333333333333,
              "#9c179e"
             ],
             [
              0.4444444444444444,
              "#bd3786"
             ],
             [
              0.5555555555555556,
              "#d8576b"
             ],
             [
              0.6666666666666666,
              "#ed7953"
             ],
             [
              0.7777777777777778,
              "#fb9f3a"
             ],
             [
              0.8888888888888888,
              "#fdca26"
             ],
             [
              1,
              "#f0f921"
             ]
            ],
            "type": "heatmap"
           }
          ],
          "histogram": [
           {
            "marker": {
             "pattern": {
              "fillmode": "overlay",
              "size": 10,
              "solidity": 0.2
             }
            },
            "type": "histogram"
           }
          ],
          "histogram2d": [
           {
            "colorbar": {
             "outlinewidth": 0,
             "ticks": ""
            },
            "colorscale": [
             [
              0,
              "#0d0887"
             ],
             [
              0.1111111111111111,
              "#46039f"
             ],
             [
              0.2222222222222222,
              "#7201a8"
             ],
             [
              0.3333333333333333,
              "#9c179e"
             ],
             [
              0.4444444444444444,
              "#bd3786"
             ],
             [
              0.5555555555555556,
              "#d8576b"
             ],
             [
              0.6666666666666666,
              "#ed7953"
             ],
             [
              0.7777777777777778,
              "#fb9f3a"
             ],
             [
              0.8888888888888888,
              "#fdca26"
             ],
             [
              1,
              "#f0f921"
             ]
            ],
            "type": "histogram2d"
           }
          ],
          "histogram2dcontour": [
           {
            "colorbar": {
             "outlinewidth": 0,
             "ticks": ""
            },
            "colorscale": [
             [
              0,
              "#0d0887"
             ],
             [
              0.1111111111111111,
              "#46039f"
             ],
             [
              0.2222222222222222,
              "#7201a8"
             ],
             [
              0.3333333333333333,
              "#9c179e"
             ],
             [
              0.4444444444444444,
              "#bd3786"
             ],
             [
              0.5555555555555556,
              "#d8576b"
             ],
             [
              0.6666666666666666,
              "#ed7953"
             ],
             [
              0.7777777777777778,
              "#fb9f3a"
             ],
             [
              0.8888888888888888,
              "#fdca26"
             ],
             [
              1,
              "#f0f921"
             ]
            ],
            "type": "histogram2dcontour"
           }
          ],
          "mesh3d": [
           {
            "colorbar": {
             "outlinewidth": 0,
             "ticks": ""
            },
            "type": "mesh3d"
           }
          ],
          "parcoords": [
           {
            "line": {
             "colorbar": {
              "outlinewidth": 0,
              "ticks": ""
             }
            },
            "type": "parcoords"
           }
          ],
          "pie": [
           {
            "automargin": true,
            "type": "pie"
           }
          ],
          "scatter": [
           {
            "fillpattern": {
             "fillmode": "overlay",
             "size": 10,
             "solidity": 0.2
            },
            "type": "scatter"
           }
          ],
          "scatter3d": [
           {
            "line": {
             "colorbar": {
              "outlinewidth": 0,
              "ticks": ""
             }
            },
            "marker": {
             "colorbar": {
              "outlinewidth": 0,
              "ticks": ""
             }
            },
            "type": "scatter3d"
           }
          ],
          "scattercarpet": [
           {
            "marker": {
             "colorbar": {
              "outlinewidth": 0,
              "ticks": ""
             }
            },
            "type": "scattercarpet"
           }
          ],
          "scattergeo": [
           {
            "marker": {
             "colorbar": {
              "outlinewidth": 0,
              "ticks": ""
             }
            },
            "type": "scattergeo"
           }
          ],
          "scattergl": [
           {
            "marker": {
             "colorbar": {
              "outlinewidth": 0,
              "ticks": ""
             }
            },
            "type": "scattergl"
           }
          ],
          "scattermap": [
           {
            "marker": {
             "colorbar": {
              "outlinewidth": 0,
              "ticks": ""
             }
            },
            "type": "scattermap"
           }
          ],
          "scattermapbox": [
           {
            "marker": {
             "colorbar": {
              "outlinewidth": 0,
              "ticks": ""
             }
            },
            "type": "scattermapbox"
           }
          ],
          "scatterpolar": [
           {
            "marker": {
             "colorbar": {
              "outlinewidth": 0,
              "ticks": ""
             }
            },
            "type": "scatterpolar"
           }
          ],
          "scatterpolargl": [
           {
            "marker": {
             "colorbar": {
              "outlinewidth": 0,
              "ticks": ""
             }
            },
            "type": "scatterpolargl"
           }
          ],
          "scatterternary": [
           {
            "marker": {
             "colorbar": {
              "outlinewidth": 0,
              "ticks": ""
             }
            },
            "type": "scatterternary"
           }
          ],
          "surface": [
           {
            "colorbar": {
             "outlinewidth": 0,
             "ticks": ""
            },
            "colorscale": [
             [
              0,
              "#0d0887"
             ],
             [
              0.1111111111111111,
              "#46039f"
             ],
             [
              0.2222222222222222,
              "#7201a8"
             ],
             [
              0.3333333333333333,
              "#9c179e"
             ],
             [
              0.4444444444444444,
              "#bd3786"
             ],
             [
              0.5555555555555556,
              "#d8576b"
             ],
             [
              0.6666666666666666,
              "#ed7953"
             ],
             [
              0.7777777777777778,
              "#fb9f3a"
             ],
             [
              0.8888888888888888,
              "#fdca26"
             ],
             [
              1,
              "#f0f921"
             ]
            ],
            "type": "surface"
           }
          ],
          "table": [
           {
            "cells": {
             "fill": {
              "color": "#EBF0F8"
             },
             "line": {
              "color": "white"
             }
            },
            "header": {
             "fill": {
              "color": "#C8D4E3"
             },
             "line": {
              "color": "white"
             }
            },
            "type": "table"
           }
          ]
         },
         "layout": {
          "annotationdefaults": {
           "arrowcolor": "#2a3f5f",
           "arrowhead": 0,
           "arrowwidth": 1
          },
          "autotypenumbers": "strict",
          "coloraxis": {
           "colorbar": {
            "outlinewidth": 0,
            "ticks": ""
           }
          },
          "colorscale": {
           "diverging": [
            [
             0,
             "#8e0152"
            ],
            [
             0.1,
             "#c51b7d"
            ],
            [
             0.2,
             "#de77ae"
            ],
            [
             0.3,
             "#f1b6da"
            ],
            [
             0.4,
             "#fde0ef"
            ],
            [
             0.5,
             "#f7f7f7"
            ],
            [
             0.6,
             "#e6f5d0"
            ],
            [
             0.7,
             "#b8e186"
            ],
            [
             0.8,
             "#7fbc41"
            ],
            [
             0.9,
             "#4d9221"
            ],
            [
             1,
             "#276419"
            ]
           ],
           "sequential": [
            [
             0,
             "#0d0887"
            ],
            [
             0.1111111111111111,
             "#46039f"
            ],
            [
             0.2222222222222222,
             "#7201a8"
            ],
            [
             0.3333333333333333,
             "#9c179e"
            ],
            [
             0.4444444444444444,
             "#bd3786"
            ],
            [
             0.5555555555555556,
             "#d8576b"
            ],
            [
             0.6666666666666666,
             "#ed7953"
            ],
            [
             0.7777777777777778,
             "#fb9f3a"
            ],
            [
             0.8888888888888888,
             "#fdca26"
            ],
            [
             1,
             "#f0f921"
            ]
           ],
           "sequentialminus": [
            [
             0,
             "#0d0887"
            ],
            [
             0.1111111111111111,
             "#46039f"
            ],
            [
             0.2222222222222222,
             "#7201a8"
            ],
            [
             0.3333333333333333,
             "#9c179e"
            ],
            [
             0.4444444444444444,
             "#bd3786"
            ],
            [
             0.5555555555555556,
             "#d8576b"
            ],
            [
             0.6666666666666666,
             "#ed7953"
            ],
            [
             0.7777777777777778,
             "#fb9f3a"
            ],
            [
             0.8888888888888888,
             "#fdca26"
            ],
            [
             1,
             "#f0f921"
            ]
           ]
          },
          "colorway": [
           "#636efa",
           "#EF553B",
           "#00cc96",
           "#ab63fa",
           "#FFA15A",
           "#19d3f3",
           "#FF6692",
           "#B6E880",
           "#FF97FF",
           "#FECB52"
          ],
          "font": {
           "color": "#2a3f5f"
          },
          "geo": {
           "bgcolor": "white",
           "lakecolor": "white",
           "landcolor": "white",
           "showlakes": true,
           "showland": true,
           "subunitcolor": "#C8D4E3"
          },
          "hoverlabel": {
           "align": "left"
          },
          "hovermode": "closest",
          "mapbox": {
           "style": "light"
          },
          "paper_bgcolor": "white",
          "plot_bgcolor": "white",
          "polar": {
           "angularaxis": {
            "gridcolor": "#EBF0F8",
            "linecolor": "#EBF0F8",
            "ticks": ""
           },
           "bgcolor": "white",
           "radialaxis": {
            "gridcolor": "#EBF0F8",
            "linecolor": "#EBF0F8",
            "ticks": ""
           }
          },
          "scene": {
           "xaxis": {
            "backgroundcolor": "white",
            "gridcolor": "#DFE8F3",
            "gridwidth": 2,
            "linecolor": "#EBF0F8",
            "showbackground": true,
            "ticks": "",
            "zerolinecolor": "#EBF0F8"
           },
           "yaxis": {
            "backgroundcolor": "white",
            "gridcolor": "#DFE8F3",
            "gridwidth": 2,
            "linecolor": "#EBF0F8",
            "showbackground": true,
            "ticks": "",
            "zerolinecolor": "#EBF0F8"
           },
           "zaxis": {
            "backgroundcolor": "white",
            "gridcolor": "#DFE8F3",
            "gridwidth": 2,
            "linecolor": "#EBF0F8",
            "showbackground": true,
            "ticks": "",
            "zerolinecolor": "#EBF0F8"
           }
          },
          "shapedefaults": {
           "line": {
            "color": "#2a3f5f"
           }
          },
          "ternary": {
           "aaxis": {
            "gridcolor": "#DFE8F3",
            "linecolor": "#A2B1C6",
            "ticks": ""
           },
           "baxis": {
            "gridcolor": "#DFE8F3",
            "linecolor": "#A2B1C6",
            "ticks": ""
           },
           "bgcolor": "white",
           "caxis": {
            "gridcolor": "#DFE8F3",
            "linecolor": "#A2B1C6",
            "ticks": ""
           }
          },
          "title": {
           "x": 0.05
          },
          "xaxis": {
           "automargin": true,
           "gridcolor": "#EBF0F8",
           "linecolor": "#EBF0F8",
           "ticks": "",
           "title": {
            "standoff": 15
           },
           "zerolinecolor": "#EBF0F8",
           "zerolinewidth": 2
          },
          "yaxis": {
           "automargin": true,
           "gridcolor": "#EBF0F8",
           "linecolor": "#EBF0F8",
           "ticks": "",
           "title": {
            "standoff": 15
           },
           "zerolinecolor": "#EBF0F8",
           "zerolinewidth": 2
          }
         }
        },
        "width": 1600,
        "xaxis": {
         "anchor": "y",
         "domain": [
          0,
          0.94
         ]
        },
        "yaxis": {
         "anchor": "x",
         "domain": [
          0,
          1
         ],
         "range": [
          0,
          2
         ],
         "title": {
          "font": {
           "size": 23
          },
          "text": "Normalised SHD"
         }
        },
        "yaxis2": {
         "anchor": "x",
         "overlaying": "y",
         "scaleanchor": 0,
         "showgrid": false,
         "showline": false,
         "showticklabels": true,
         "side": "right",
         "title": {
          "font": {
           "size": 23
          },
          "text": "F1"
         },
         "zeroline": true
        }
       }
      }
     },
     "metadata": {},
     "output_type": "display_data"
    },
    {
     "data": {
      "application/vnd.plotly.v1+json": {
       "config": {
        "plotlyServerURL": "https://plot.ly"
       },
       "data": [
        {
         "error_y": {
          "array": [
           0.19,
           0.17,
           0.14,
           0.09,
           0.07
          ],
          "type": "data",
          "visible": true
         },
         "marker": {
          "color": "#7f7f7f"
         },
         "name": "Random",
         "offsetgroup": "0",
         "opacity": 0.6,
         "showlegend": true,
         "type": "bar",
         "x": [
          "CANCER<br> |V|=5, |E|=4",
          "EARTHQUAKE<br> |V|=5, |E|=4",
          "SURVEY<br> |V|=6, |E|=6",
          "ASIA<br> |V|=8, |E|=8",
          "SACHS<br> |V|=11, |E|=17"
         ],
         "y": [
          0.2,
          0.16,
          0.29,
          0.11,
          0.12
         ],
         "yaxis": "y"
        },
        {
         "error_y": {
          "array": [
           0.08,
           0.06,
           0.16,
           0.05,
           0.04
          ],
          "type": "data",
          "visible": true
         },
         "marker": {
          "color": "#b85c00"
         },
         "name": "FGS",
         "offsetgroup": "1",
         "opacity": 0.6,
         "showlegend": true,
         "type": "bar",
         "x": [
          "CANCER<br> |V|=5, |E|=4",
          "EARTHQUAKE<br> |V|=5, |E|=4",
          "SURVEY<br> |V|=6, |E|=6",
          "ASIA<br> |V|=8, |E|=8",
          "SACHS<br> |V|=11, |E|=17"
         ],
         "y": [
          0.45,
          0.44,
          0.4,
          0.25,
          0.14
         ],
         "yaxis": "y"
        },
        {
         "error_y": {
          "array": [
           0,
           0.17,
           null,
           0.11,
           0.07
          ],
          "type": "data",
          "visible": true
         },
         "marker": {
          "color": "#0085CA"
         },
         "name": "NOTEARS-MLP",
         "offsetgroup": "2",
         "opacity": 0.6,
         "showlegend": true,
         "type": "bar",
         "x": [
          "CANCER<br> |V|=5, |E|=4",
          "EARTHQUAKE<br> |V|=5, |E|=4",
          "SURVEY<br> |V|=6, |E|=6",
          "ASIA<br> |V|=8, |E|=8",
          "SACHS<br> |V|=11, |E|=17"
         ],
         "y": [
          1,
          0.56,
          null,
          0.39,
          0.03
         ],
         "yaxis": "y"
        },
        {
         "error_y": {
          "array": [
           0.08,
           0.05,
           0.12,
           0.06
          ],
          "type": "data",
          "visible": true
         },
         "marker": {
          "color": "#379f9f"
         },
         "name": "MPC",
         "offsetgroup": "3",
         "opacity": 0.6,
         "showlegend": true,
         "type": "bar",
         "x": [
          "CANCER<br> |V|=5, |E|=4",
          "EARTHQUAKE<br> |V|=5, |E|=4",
          "SURVEY<br> |V|=6, |E|=6",
          "ASIA<br> |V|=8, |E|=8"
         ],
         "y": [
          0.54,
          0.44,
          0.84,
          0.36
         ],
         "yaxis": "y"
        },
        {
         "error_y": {
          "array": [
           0.20128646408886222,
           0.2749734830053284,
           0.08002550613806242,
           0.06309677701267914,
           0.15715244442909826
          ],
          "type": "data",
          "visible": true
         },
         "marker": {
          "color": "#bcbd22"
         },
         "name": "ABAPC",
         "offsetgroup": "4",
         "opacity": 0.6,
         "showlegend": true,
         "type": "bar",
         "x": [
          "ASIA<br> |V|=8, |E|=8",
          "CANCER<br> |V|=5, |E|=4",
          "EARTHQUAKE<br> |V|=5, |E|=4",
          "SACHS<br> |V|=11, |E|=17",
          "SURVEY<br> |V|=6, |E|=6"
         ],
         "y": [
          0.42389066666666664,
          0.5723452,
          0.982,
          0.141086,
          0.7310876000000001
         ],
         "yaxis": "y"
        },
        {
         "error_y": {
          "array": [
           null,
           null,
           null,
           null,
           null,
           null
          ],
          "type": "data",
          "visible": true
         },
         "marker": {
          "color": "#e377c2"
         },
         "name": "LLM-BFS",
         "offsetgroup": "5",
         "opacity": 0.6,
         "showlegend": true,
         "type": "bar",
         "x": [
          "ASIA<br> |V|=8, |E|=8",
          "CANCER<br> |V|=5, |E|=4",
          "CHILD<br> |V|=20, |E|=25",
          "EARTHQUAKE<br> |V|=5, |E|=4",
          "SACHS<br> |V|=11, |E|=17",
          "SURVEY<br> |V|=6, |E|=6"
         ],
         "y": [
          0.4615,
          0.5,
          0.2419,
          0.5,
          0.25,
          0.5
         ],
         "yaxis": "y"
        },
        {
         "error_y": {
          "array": [
           0.11345574744618017,
           0.18683623326652812,
           0.052304056111493746,
           0.07409782510895681,
           0.15509695800909015
          ],
          "type": "data",
          "visible": true
         },
         "marker": {
          "color": "#441469"
         },
         "name": "ABAPC-LLM",
         "offsetgroup": "6",
         "opacity": 0.6,
         "showlegend": true,
         "type": "bar",
         "x": [
          "ASIA<br> |V|=8, |E|=8",
          "CANCER<br> |V|=5, |E|=4",
          "EARTHQUAKE<br> |V|=5, |E|=4",
          "SACHS<br> |V|=11, |E|=17",
          "SURVEY<br> |V|=6, |E|=6"
         ],
         "y": [
          0.595502,
          0.7913499999999999,
          0.987,
          0.1535672,
          0.744838
         ],
         "yaxis": "y"
        },
        {
         "marker": {
          "color": "white"
         },
         "name": "",
         "offsetgroup": "7",
         "opacity": 1,
         "showlegend": false,
         "type": "bar",
         "x": [
          "ASIA<br> |V|=8, |E|=8",
          "CANCER<br> |V|=5, |E|=4",
          "EARTHQUAKE<br> |V|=5, |E|=4",
          "SACHS<br> |V|=11, |E|=17",
          "SURVEY<br> |V|=6, |E|=6"
         ],
         "y": {
          "bdata": "AAAAAAAAAAAAAAAAAAAAAAAAAAAAAAAAAAAAAAAAAAAAAAAAAAAAAA==",
          "dtype": "f8"
         }
        },
        {
         "error_y": {
          "array": [
           0.19,
           0.17,
           0.14,
           0.09,
           0.07
          ],
          "type": "data",
          "visible": true
         },
         "marker": {
          "color": "#7f7f7f"
         },
         "name": "Random",
         "offsetgroup": "8",
         "opacity": 0.6,
         "showlegend": false,
         "type": "bar",
         "x": [
          "CANCER<br> |V|=5, |E|=4",
          "EARTHQUAKE<br> |V|=5, |E|=4",
          "SURVEY<br> |V|=6, |E|=6",
          "ASIA<br> |V|=8, |E|=8",
          "SACHS<br> |V|=11, |E|=17"
         ],
         "y": [
          0.2,
          0.16,
          0.29,
          0.11,
          0.12
         ],
         "yaxis": "y2"
        },
        {
         "error_y": {
          "array": [
           0.12,
           0,
           0.08,
           0.03,
           0.04
          ],
          "type": "data",
          "visible": true
         },
         "marker": {
          "color": "#b85c00"
         },
         "name": "FGS",
         "offsetgroup": "9",
         "opacity": 0.6,
         "showlegend": false,
         "type": "bar",
         "x": [
          "CANCER<br> |V|=5, |E|=4",
          "EARTHQUAKE<br> |V|=5, |E|=4",
          "SURVEY<br> |V|=6, |E|=6",
          "ASIA<br> |V|=8, |E|=8",
          "SACHS<br> |V|=11, |E|=17"
         ],
         "y": [
          0.42,
          0.5,
          0.21,
          0.24,
          0.13
         ],
         "yaxis": "y2"
        },
        {
         "error_y": {
          "array": [
           0.07,
           0.17,
           0,
           0.1,
           0.02
          ],
          "type": "data",
          "visible": true
         },
         "marker": {
          "color": "#0085CA"
         },
         "name": "NOTEARS-MLP",
         "offsetgroup": "10",
         "opacity": 0.6,
         "showlegend": false,
         "type": "bar",
         "x": [
          "CANCER<br> |V|=5, |E|=4",
          "EARTHQUAKE<br> |V|=5, |E|=4",
          "SURVEY<br> |V|=6, |E|=6",
          "ASIA<br> |V|=8, |E|=8",
          "SACHS<br> |V|=11, |E|=17"
         ],
         "y": [
          0.02,
          0.56,
          0,
          0.29,
          0.01
         ],
         "yaxis": "y2"
        },
        {
         "error_y": {
          "array": [
           0,
           0,
           0.08,
           0.07
          ],
          "type": "data",
          "visible": true
         },
         "marker": {
          "color": "#379f9f"
         },
         "name": "MPC",
         "offsetgroup": "11",
         "opacity": 0.6,
         "showlegend": false,
         "type": "bar",
         "x": [
          "CANCER<br> |V|=5, |E|=4",
          "EARTHQUAKE<br> |V|=5, |E|=4",
          "SURVEY<br> |V|=6, |E|=6",
          "ASIA<br> |V|=8, |E|=8"
         ],
         "y": [
          0.5,
          0.5,
          0.55,
          0.3
         ],
         "yaxis": "y2"
        },
        {
         "error_y": {
          "array": [
           0.13026673860176677,
           0.2751108310985867,
           0.07071067811865474,
           0.05852692473013893,
           0.13948064950895078
          ],
          "type": "data",
          "visible": true
         },
         "marker": {
          "color": "#bcbd22"
         },
         "name": "ABAPC",
         "offsetgroup": "12",
         "opacity": 0.6,
         "showlegend": false,
         "type": "bar",
         "x": [
          "ASIA<br> |V|=8, |E|=8",
          "CANCER<br> |V|=5, |E|=4",
          "EARTHQUAKE<br> |V|=5, |E|=4",
          "SACHS<br> |V|=11, |E|=17",
          "SURVEY<br> |V|=6, |E|=6"
         ],
         "y": [
          0.24208333333333332,
          0.4905,
          0.99,
          0.13525,
          0.5405041
         ],
         "yaxis": "y2"
        },
        {
         "error_y": {
          "array": [
           null,
           null,
           null,
           null,
           null,
           null
          ],
          "type": "data",
          "visible": true
         },
         "marker": {
          "color": "#e377c2"
         },
         "name": "LLM-BFS",
         "offsetgroup": "13",
         "opacity": 0.6,
         "showlegend": false,
         "type": "bar",
         "x": [
          "ASIA<br> |V|=8, |E|=8",
          "CANCER<br> |V|=5, |E|=4",
          "CHILD<br> |V|=20, |E|=25",
          "EARTHQUAKE<br> |V|=5, |E|=4",
          "SACHS<br> |V|=11, |E|=17",
          "SURVEY<br> |V|=6, |E|=6"
         ],
         "y": [
          0.75,
          1,
          0.6,
          1,
          0.2353,
          1
         ],
         "yaxis": "y2"
        },
        {
         "error_y": {
          "array": [
           0.07428442649982676,
           0.26152028055746873,
           0.03535533905932737,
           0.06830237579039432,
           0.14076588981608534
          ],
          "type": "data",
          "visible": true
         },
         "marker": {
          "color": "#441469"
         },
         "name": "ABAPC-LLM",
         "offsetgroup": "14",
         "opacity": 0.6,
         "showlegend": false,
         "type": "bar",
         "x": [
          "ASIA<br> |V|=8, |E|=8",
          "CANCER<br> |V|=5, |E|=4",
          "EARTHQUAKE<br> |V|=5, |E|=4",
          "SACHS<br> |V|=11, |E|=17",
          "SURVEY<br> |V|=6, |E|=6"
         ],
         "y": [
          0.33375,
          0.685,
          0.995,
          0.1486596,
          0.551673
         ],
         "yaxis": "y2"
        }
       ],
       "layout": {
        "annotations": [
         {
          "font": {
           "color": "black",
           "size": 23
          },
          "showarrow": false,
          "text": "      Precision      ",
          "x": 0.04375,
          "xanchor": "center",
          "xref": "x domain",
          "y": 1.07,
          "yanchor": "middle",
          "yref": "y domain"
         },
         {
          "font": {
           "color": "black",
           "size": 23
          },
          "showarrow": false,
          "text": "        Recall        ",
          "x": 0.12291666666666666,
          "xanchor": "center",
          "xref": "x domain",
          "y": 1.07,
          "yanchor": "middle",
          "yref": "y domain"
         },
         {
          "font": {
           "color": "black",
           "size": 23
          },
          "showarrow": false,
          "text": "      Precision      ",
          "x": 0.21041666666666664,
          "xanchor": "center",
          "xref": "x domain",
          "y": 1.07,
          "yanchor": "middle",
          "yref": "y domain"
         },
         {
          "font": {
           "color": "black",
           "size": 23
          },
          "showarrow": false,
          "text": "        Recall        ",
          "x": 0.2895833333333333,
          "xanchor": "center",
          "xref": "x domain",
          "y": 1.07,
          "yanchor": "middle",
          "yref": "y domain"
         },
         {
          "font": {
           "color": "black",
           "size": 23
          },
          "showarrow": false,
          "text": "      Precision      ",
          "x": 0.3770833333333333,
          "xanchor": "center",
          "xref": "x domain",
          "y": 1.07,
          "yanchor": "middle",
          "yref": "y domain"
         },
         {
          "font": {
           "color": "black",
           "size": 23
          },
          "showarrow": false,
          "text": "        Recall        ",
          "x": 0.45624999999999993,
          "xanchor": "center",
          "xref": "x domain",
          "y": 1.07,
          "yanchor": "middle",
          "yref": "y domain"
         },
         {
          "font": {
           "color": "black",
           "size": 23
          },
          "showarrow": false,
          "text": "      Precision      ",
          "x": 0.54375,
          "xanchor": "center",
          "xref": "x domain",
          "y": 1.07,
          "yanchor": "middle",
          "yref": "y domain"
         },
         {
          "font": {
           "color": "black",
           "size": 23
          },
          "showarrow": false,
          "text": "        Recall        ",
          "x": 0.6229166666666666,
          "xanchor": "center",
          "xref": "x domain",
          "y": 1.07,
          "yanchor": "middle",
          "yref": "y domain"
         },
         {
          "font": {
           "color": "black",
           "size": 23
          },
          "showarrow": false,
          "text": "      Precision      ",
          "x": 0.7104166666666667,
          "xanchor": "center",
          "xref": "x domain",
          "y": 1.07,
          "yanchor": "middle",
          "yref": "y domain"
         },
         {
          "font": {
           "color": "black",
           "size": 23
          },
          "showarrow": false,
          "text": "        Recall        ",
          "x": 0.7895833333333333,
          "xanchor": "center",
          "xref": "x domain",
          "y": 1.07,
          "yanchor": "middle",
          "yref": "y domain"
         },
         {
          "font": {
           "color": "black",
           "size": 23
          },
          "showarrow": false,
          "text": "      Precision      ",
          "x": 0.8770833333333332,
          "xanchor": "center",
          "xref": "x domain",
          "y": 1.07,
          "yanchor": "middle",
          "yref": "y domain"
         },
         {
          "font": {
           "color": "black",
           "size": 23
          },
          "showarrow": false,
          "text": "        Recall        ",
          "x": 0.9562499999999998,
          "xanchor": "center",
          "xref": "x domain",
          "y": 1.07,
          "yanchor": "middle",
          "yref": "y domain"
         }
        ],
        "bargap": 0.08,
        "bargroupgap": 0.05,
        "barmode": "group",
        "font": {
         "color": "black",
         "family": "Serif",
         "size": 23
        },
        "height": 700,
        "hovermode": "x unified",
        "legend": {
         "orientation": "h",
         "x": 0.5,
         "xanchor": "center",
         "y": 1.23,
         "yanchor": "top"
        },
        "margin": {
         "b": 70,
         "l": 40,
         "r": 40,
         "t": 80
        },
        "shapes": [
         {
          "fillcolor": "#E5ECF6",
          "layer": "below",
          "line": {
           "color": "#E5ECF6",
           "width": 2
          },
          "type": "rect",
          "x0": 0,
          "x1": 0.09083333333333334,
          "xref": "x domain",
          "y0": 1.04,
          "y1": 1.1,
          "yref": "y domain"
         },
         {
          "fillcolor": "#E5ECF6",
          "layer": "below",
          "line": {
           "color": "#E5ECF6",
           "width": 2
          },
          "type": "rect",
          "x0": 0.07583333333333332,
          "x1": 0.16999999999999998,
          "xref": "x domain",
          "y0": 1.04,
          "y1": 1.1,
          "yref": "y domain"
         },
         {
          "fillcolor": "#E5ECF6",
          "layer": "below",
          "line": {
           "color": "#E5ECF6",
           "width": 2
          },
          "type": "rect",
          "x0": 0.16333333333333333,
          "x1": 0.2575,
          "xref": "x domain",
          "y0": 1.04,
          "y1": 1.1,
          "yref": "y domain"
         },
         {
          "fillcolor": "#E5ECF6",
          "layer": "below",
          "line": {
           "color": "#E5ECF6",
           "width": 2
          },
          "type": "rect",
          "x0": 0.24249999999999997,
          "x1": 0.33666666666666667,
          "xref": "x domain",
          "y0": 1.04,
          "y1": 1.1,
          "yref": "y domain"
         },
         {
          "fillcolor": "#E5ECF6",
          "layer": "below",
          "line": {
           "color": "#E5ECF6",
           "width": 2
          },
          "type": "rect",
          "x0": 0.32999999999999996,
          "x1": 0.4241666666666667,
          "xref": "x domain",
          "y0": 1.04,
          "y1": 1.1,
          "yref": "y domain"
         },
         {
          "fillcolor": "#E5ECF6",
          "layer": "below",
          "line": {
           "color": "#E5ECF6",
           "width": 2
          },
          "type": "rect",
          "x0": 0.4091666666666666,
          "x1": 0.5033333333333333,
          "xref": "x domain",
          "y0": 1.04,
          "y1": 1.1,
          "yref": "y domain"
         },
         {
          "fillcolor": "#E5ECF6",
          "layer": "below",
          "line": {
           "color": "#E5ECF6",
           "width": 2
          },
          "type": "rect",
          "x0": 0.4966666666666666,
          "x1": 0.5908333333333333,
          "xref": "x domain",
          "y0": 1.04,
          "y1": 1.1,
          "yref": "y domain"
         },
         {
          "fillcolor": "#E5ECF6",
          "layer": "below",
          "line": {
           "color": "#E5ECF6",
           "width": 2
          },
          "type": "rect",
          "x0": 0.5758333333333332,
          "x1": 0.6699999999999999,
          "xref": "x domain",
          "y0": 1.04,
          "y1": 1.1,
          "yref": "y domain"
         },
         {
          "fillcolor": "#E5ECF6",
          "layer": "below",
          "line": {
           "color": "#E5ECF6",
           "width": 2
          },
          "type": "rect",
          "x0": 0.6633333333333333,
          "x1": 0.7575000000000001,
          "xref": "x domain",
          "y0": 1.04,
          "y1": 1.1,
          "yref": "y domain"
         },
         {
          "fillcolor": "#E5ECF6",
          "layer": "below",
          "line": {
           "color": "#E5ECF6",
           "width": 2
          },
          "type": "rect",
          "x0": 0.7424999999999999,
          "x1": 0.8366666666666667,
          "xref": "x domain",
          "y0": 1.04,
          "y1": 1.1,
          "yref": "y domain"
         },
         {
          "fillcolor": "#E5ECF6",
          "layer": "below",
          "line": {
           "color": "#E5ECF6",
           "width": 2
          },
          "type": "rect",
          "x0": 0.8299999999999998,
          "x1": 0.9241666666666666,
          "xref": "x domain",
          "y0": 1.04,
          "y1": 1.1,
          "yref": "y domain"
         },
         {
          "fillcolor": "#E5ECF6",
          "layer": "below",
          "line": {
           "color": "#E5ECF6",
           "width": 2
          },
          "type": "rect",
          "x0": 0.9091666666666665,
          "x1": 1,
          "xref": "x domain",
          "y0": 1.04,
          "y1": 1.1,
          "yref": "y domain"
         }
        ],
        "template": {
         "data": {
          "bar": [
           {
            "error_x": {
             "color": "#2a3f5f"
            },
            "error_y": {
             "color": "#2a3f5f"
            },
            "marker": {
             "line": {
              "color": "white",
              "width": 0.5
             },
             "pattern": {
              "fillmode": "overlay",
              "size": 10,
              "solidity": 0.2
             }
            },
            "type": "bar"
           }
          ],
          "barpolar": [
           {
            "marker": {
             "line": {
              "color": "white",
              "width": 0.5
             },
             "pattern": {
              "fillmode": "overlay",
              "size": 10,
              "solidity": 0.2
             }
            },
            "type": "barpolar"
           }
          ],
          "carpet": [
           {
            "aaxis": {
             "endlinecolor": "#2a3f5f",
             "gridcolor": "#C8D4E3",
             "linecolor": "#C8D4E3",
             "minorgridcolor": "#C8D4E3",
             "startlinecolor": "#2a3f5f"
            },
            "baxis": {
             "endlinecolor": "#2a3f5f",
             "gridcolor": "#C8D4E3",
             "linecolor": "#C8D4E3",
             "minorgridcolor": "#C8D4E3",
             "startlinecolor": "#2a3f5f"
            },
            "type": "carpet"
           }
          ],
          "choropleth": [
           {
            "colorbar": {
             "outlinewidth": 0,
             "ticks": ""
            },
            "type": "choropleth"
           }
          ],
          "contour": [
           {
            "colorbar": {
             "outlinewidth": 0,
             "ticks": ""
            },
            "colorscale": [
             [
              0,
              "#0d0887"
             ],
             [
              0.1111111111111111,
              "#46039f"
             ],
             [
              0.2222222222222222,
              "#7201a8"
             ],
             [
              0.3333333333333333,
              "#9c179e"
             ],
             [
              0.4444444444444444,
              "#bd3786"
             ],
             [
              0.5555555555555556,
              "#d8576b"
             ],
             [
              0.6666666666666666,
              "#ed7953"
             ],
             [
              0.7777777777777778,
              "#fb9f3a"
             ],
             [
              0.8888888888888888,
              "#fdca26"
             ],
             [
              1,
              "#f0f921"
             ]
            ],
            "type": "contour"
           }
          ],
          "contourcarpet": [
           {
            "colorbar": {
             "outlinewidth": 0,
             "ticks": ""
            },
            "type": "contourcarpet"
           }
          ],
          "heatmap": [
           {
            "colorbar": {
             "outlinewidth": 0,
             "ticks": ""
            },
            "colorscale": [
             [
              0,
              "#0d0887"
             ],
             [
              0.1111111111111111,
              "#46039f"
             ],
             [
              0.2222222222222222,
              "#7201a8"
             ],
             [
              0.3333333333333333,
              "#9c179e"
             ],
             [
              0.4444444444444444,
              "#bd3786"
             ],
             [
              0.5555555555555556,
              "#d8576b"
             ],
             [
              0.6666666666666666,
              "#ed7953"
             ],
             [
              0.7777777777777778,
              "#fb9f3a"
             ],
             [
              0.8888888888888888,
              "#fdca26"
             ],
             [
              1,
              "#f0f921"
             ]
            ],
            "type": "heatmap"
           }
          ],
          "histogram": [
           {
            "marker": {
             "pattern": {
              "fillmode": "overlay",
              "size": 10,
              "solidity": 0.2
             }
            },
            "type": "histogram"
           }
          ],
          "histogram2d": [
           {
            "colorbar": {
             "outlinewidth": 0,
             "ticks": ""
            },
            "colorscale": [
             [
              0,
              "#0d0887"
             ],
             [
              0.1111111111111111,
              "#46039f"
             ],
             [
              0.2222222222222222,
              "#7201a8"
             ],
             [
              0.3333333333333333,
              "#9c179e"
             ],
             [
              0.4444444444444444,
              "#bd3786"
             ],
             [
              0.5555555555555556,
              "#d8576b"
             ],
             [
              0.6666666666666666,
              "#ed7953"
             ],
             [
              0.7777777777777778,
              "#fb9f3a"
             ],
             [
              0.8888888888888888,
              "#fdca26"
             ],
             [
              1,
              "#f0f921"
             ]
            ],
            "type": "histogram2d"
           }
          ],
          "histogram2dcontour": [
           {
            "colorbar": {
             "outlinewidth": 0,
             "ticks": ""
            },
            "colorscale": [
             [
              0,
              "#0d0887"
             ],
             [
              0.1111111111111111,
              "#46039f"
             ],
             [
              0.2222222222222222,
              "#7201a8"
             ],
             [
              0.3333333333333333,
              "#9c179e"
             ],
             [
              0.4444444444444444,
              "#bd3786"
             ],
             [
              0.5555555555555556,
              "#d8576b"
             ],
             [
              0.6666666666666666,
              "#ed7953"
             ],
             [
              0.7777777777777778,
              "#fb9f3a"
             ],
             [
              0.8888888888888888,
              "#fdca26"
             ],
             [
              1,
              "#f0f921"
             ]
            ],
            "type": "histogram2dcontour"
           }
          ],
          "mesh3d": [
           {
            "colorbar": {
             "outlinewidth": 0,
             "ticks": ""
            },
            "type": "mesh3d"
           }
          ],
          "parcoords": [
           {
            "line": {
             "colorbar": {
              "outlinewidth": 0,
              "ticks": ""
             }
            },
            "type": "parcoords"
           }
          ],
          "pie": [
           {
            "automargin": true,
            "type": "pie"
           }
          ],
          "scatter": [
           {
            "fillpattern": {
             "fillmode": "overlay",
             "size": 10,
             "solidity": 0.2
            },
            "type": "scatter"
           }
          ],
          "scatter3d": [
           {
            "line": {
             "colorbar": {
              "outlinewidth": 0,
              "ticks": ""
             }
            },
            "marker": {
             "colorbar": {
              "outlinewidth": 0,
              "ticks": ""
             }
            },
            "type": "scatter3d"
           }
          ],
          "scattercarpet": [
           {
            "marker": {
             "colorbar": {
              "outlinewidth": 0,
              "ticks": ""
             }
            },
            "type": "scattercarpet"
           }
          ],
          "scattergeo": [
           {
            "marker": {
             "colorbar": {
              "outlinewidth": 0,
              "ticks": ""
             }
            },
            "type": "scattergeo"
           }
          ],
          "scattergl": [
           {
            "marker": {
             "colorbar": {
              "outlinewidth": 0,
              "ticks": ""
             }
            },
            "type": "scattergl"
           }
          ],
          "scattermap": [
           {
            "marker": {
             "colorbar": {
              "outlinewidth": 0,
              "ticks": ""
             }
            },
            "type": "scattermap"
           }
          ],
          "scattermapbox": [
           {
            "marker": {
             "colorbar": {
              "outlinewidth": 0,
              "ticks": ""
             }
            },
            "type": "scattermapbox"
           }
          ],
          "scatterpolar": [
           {
            "marker": {
             "colorbar": {
              "outlinewidth": 0,
              "ticks": ""
             }
            },
            "type": "scatterpolar"
           }
          ],
          "scatterpolargl": [
           {
            "marker": {
             "colorbar": {
              "outlinewidth": 0,
              "ticks": ""
             }
            },
            "type": "scatterpolargl"
           }
          ],
          "scatterternary": [
           {
            "marker": {
             "colorbar": {
              "outlinewidth": 0,
              "ticks": ""
             }
            },
            "type": "scatterternary"
           }
          ],
          "surface": [
           {
            "colorbar": {
             "outlinewidth": 0,
             "ticks": ""
            },
            "colorscale": [
             [
              0,
              "#0d0887"
             ],
             [
              0.1111111111111111,
              "#46039f"
             ],
             [
              0.2222222222222222,
              "#7201a8"
             ],
             [
              0.3333333333333333,
              "#9c179e"
             ],
             [
              0.4444444444444444,
              "#bd3786"
             ],
             [
              0.5555555555555556,
              "#d8576b"
             ],
             [
              0.6666666666666666,
              "#ed7953"
             ],
             [
              0.7777777777777778,
              "#fb9f3a"
             ],
             [
              0.8888888888888888,
              "#fdca26"
             ],
             [
              1,
              "#f0f921"
             ]
            ],
            "type": "surface"
           }
          ],
          "table": [
           {
            "cells": {
             "fill": {
              "color": "#EBF0F8"
             },
             "line": {
              "color": "white"
             }
            },
            "header": {
             "fill": {
              "color": "#C8D4E3"
             },
             "line": {
              "color": "white"
             }
            },
            "type": "table"
           }
          ]
         },
         "layout": {
          "annotationdefaults": {
           "arrowcolor": "#2a3f5f",
           "arrowhead": 0,
           "arrowwidth": 1
          },
          "autotypenumbers": "strict",
          "coloraxis": {
           "colorbar": {
            "outlinewidth": 0,
            "ticks": ""
           }
          },
          "colorscale": {
           "diverging": [
            [
             0,
             "#8e0152"
            ],
            [
             0.1,
             "#c51b7d"
            ],
            [
             0.2,
             "#de77ae"
            ],
            [
             0.3,
             "#f1b6da"
            ],
            [
             0.4,
             "#fde0ef"
            ],
            [
             0.5,
             "#f7f7f7"
            ],
            [
             0.6,
             "#e6f5d0"
            ],
            [
             0.7,
             "#b8e186"
            ],
            [
             0.8,
             "#7fbc41"
            ],
            [
             0.9,
             "#4d9221"
            ],
            [
             1,
             "#276419"
            ]
           ],
           "sequential": [
            [
             0,
             "#0d0887"
            ],
            [
             0.1111111111111111,
             "#46039f"
            ],
            [
             0.2222222222222222,
             "#7201a8"
            ],
            [
             0.3333333333333333,
             "#9c179e"
            ],
            [
             0.4444444444444444,
             "#bd3786"
            ],
            [
             0.5555555555555556,
             "#d8576b"
            ],
            [
             0.6666666666666666,
             "#ed7953"
            ],
            [
             0.7777777777777778,
             "#fb9f3a"
            ],
            [
             0.8888888888888888,
             "#fdca26"
            ],
            [
             1,
             "#f0f921"
            ]
           ],
           "sequentialminus": [
            [
             0,
             "#0d0887"
            ],
            [
             0.1111111111111111,
             "#46039f"
            ],
            [
             0.2222222222222222,
             "#7201a8"
            ],
            [
             0.3333333333333333,
             "#9c179e"
            ],
            [
             0.4444444444444444,
             "#bd3786"
            ],
            [
             0.5555555555555556,
             "#d8576b"
            ],
            [
             0.6666666666666666,
             "#ed7953"
            ],
            [
             0.7777777777777778,
             "#fb9f3a"
            ],
            [
             0.8888888888888888,
             "#fdca26"
            ],
            [
             1,
             "#f0f921"
            ]
           ]
          },
          "colorway": [
           "#636efa",
           "#EF553B",
           "#00cc96",
           "#ab63fa",
           "#FFA15A",
           "#19d3f3",
           "#FF6692",
           "#B6E880",
           "#FF97FF",
           "#FECB52"
          ],
          "font": {
           "color": "#2a3f5f"
          },
          "geo": {
           "bgcolor": "white",
           "lakecolor": "white",
           "landcolor": "white",
           "showlakes": true,
           "showland": true,
           "subunitcolor": "#C8D4E3"
          },
          "hoverlabel": {
           "align": "left"
          },
          "hovermode": "closest",
          "mapbox": {
           "style": "light"
          },
          "paper_bgcolor": "white",
          "plot_bgcolor": "white",
          "polar": {
           "angularaxis": {
            "gridcolor": "#EBF0F8",
            "linecolor": "#EBF0F8",
            "ticks": ""
           },
           "bgcolor": "white",
           "radialaxis": {
            "gridcolor": "#EBF0F8",
            "linecolor": "#EBF0F8",
            "ticks": ""
           }
          },
          "scene": {
           "xaxis": {
            "backgroundcolor": "white",
            "gridcolor": "#DFE8F3",
            "gridwidth": 2,
            "linecolor": "#EBF0F8",
            "showbackground": true,
            "ticks": "",
            "zerolinecolor": "#EBF0F8"
           },
           "yaxis": {
            "backgroundcolor": "white",
            "gridcolor": "#DFE8F3",
            "gridwidth": 2,
            "linecolor": "#EBF0F8",
            "showbackground": true,
            "ticks": "",
            "zerolinecolor": "#EBF0F8"
           },
           "zaxis": {
            "backgroundcolor": "white",
            "gridcolor": "#DFE8F3",
            "gridwidth": 2,
            "linecolor": "#EBF0F8",
            "showbackground": true,
            "ticks": "",
            "zerolinecolor": "#EBF0F8"
           }
          },
          "shapedefaults": {
           "line": {
            "color": "#2a3f5f"
           }
          },
          "ternary": {
           "aaxis": {
            "gridcolor": "#DFE8F3",
            "linecolor": "#A2B1C6",
            "ticks": ""
           },
           "baxis": {
            "gridcolor": "#DFE8F3",
            "linecolor": "#A2B1C6",
            "ticks": ""
           },
           "bgcolor": "white",
           "caxis": {
            "gridcolor": "#DFE8F3",
            "linecolor": "#A2B1C6",
            "ticks": ""
           }
          },
          "title": {
           "x": 0.05
          },
          "xaxis": {
           "automargin": true,
           "gridcolor": "#EBF0F8",
           "linecolor": "#EBF0F8",
           "ticks": "",
           "title": {
            "standoff": 15
           },
           "zerolinecolor": "#EBF0F8",
           "zerolinewidth": 2
          },
          "yaxis": {
           "automargin": true,
           "gridcolor": "#EBF0F8",
           "linecolor": "#EBF0F8",
           "ticks": "",
           "title": {
            "standoff": 15
           },
           "zerolinecolor": "#EBF0F8",
           "zerolinewidth": 2
          }
         }
        },
        "width": 1600,
        "xaxis": {
         "anchor": "y",
         "domain": [
          0,
          0.94
         ]
        },
        "yaxis": {
         "anchor": "x",
         "domain": [
          0,
          1
         ],
         "range": [
          0,
          1.3
         ],
         "title": {
          "font": {
           "size": 23
          },
          "text": "Precision"
         }
        },
        "yaxis2": {
         "anchor": "x",
         "overlaying": "y",
         "range": [
          0,
          1.3
         ],
         "scaleanchor": 0,
         "showgrid": false,
         "showline": false,
         "showticklabels": true,
         "side": "right",
         "title": {
          "font": {
           "size": 23
          },
          "text": "Recall"
         },
         "zeroline": true
        }
       }
      }
     },
     "metadata": {},
     "output_type": "display_data"
    },
    {
     "data": {
      "application/vnd.plotly.v1+json": {
       "config": {
        "plotlyServerURL": "https://plot.ly"
       },
       "data": [
        {
         "error_y": {
          "array": [
           0,
           0,
           0,
           0,
           0
          ],
          "type": "data",
          "visible": true
         },
         "marker": {
          "color": "#7f7f7f"
         },
         "name": "True Graph Size",
         "opacity": 0.6,
         "type": "bar",
         "x": [
          "CANCER<br> |V|=5, |E|=4",
          "EARTHQUAKE<br> |V|=5, |E|=4",
          "SURVEY<br> |V|=6, |E|=6",
          "ASIA<br> |V|=8, |E|=8",
          "SACHS<br> |V|=11, |E|=17"
         ],
         "y": [
          4,
          4,
          6,
          8,
          17
         ]
        },
        {
         "error_y": {
          "array": [
           0.47,
           0.64,
           0.84,
           0.77,
           1.31
          ],
          "type": "data",
          "visible": true
         },
         "marker": {
          "color": "#b85c00"
         },
         "name": "FGS",
         "opacity": 0.6,
         "type": "bar",
         "x": [
          "CANCER<br> |V|=5, |E|=4",
          "EARTHQUAKE<br> |V|=5, |E|=4",
          "SURVEY<br> |V|=6, |E|=6",
          "ASIA<br> |V|=8, |E|=8",
          "SACHS<br> |V|=11, |E|=17"
         ],
         "y": [
          3.68,
          4.62,
          3.3,
          7.68,
          15.7
         ]
        },
        {
         "error_y": {
          "array": [
           0.27,
           0.45,
           0,
           0.47,
           0.65
          ],
          "type": "data",
          "visible": true
         },
         "marker": {
          "color": "#0085CA"
         },
         "name": "NOTEARS-MLP",
         "opacity": 0.6,
         "type": "bar",
         "x": [
          "CANCER<br> |V|=5, |E|=4",
          "EARTHQUAKE<br> |V|=5, |E|=4",
          "SURVEY<br> |V|=6, |E|=6",
          "ASIA<br> |V|=8, |E|=8",
          "SACHS<br> |V|=11, |E|=17"
         ],
         "y": [
          0.08,
          4,
          0,
          5.94,
          5.7
         ]
        },
        {
         "error_y": {
          "array": [
           0.52,
           0.56,
           0.82,
           0.7
          ],
          "type": "data",
          "visible": true
         },
         "marker": {
          "color": "#379f9f"
         },
         "name": "MPC",
         "opacity": 0.6,
         "type": "bar",
         "x": [
          "CANCER<br> |V|=5, |E|=4",
          "EARTHQUAKE<br> |V|=5, |E|=4",
          "SURVEY<br> |V|=6, |E|=6",
          "ASIA<br> |V|=8, |E|=8"
         ],
         "y": [
          3.76,
          4.64,
          4.02,
          6.58
         ]
        },
        {
         "error_y": {
          "array": [
           0.9128026165497366,
           0.6311634866964149,
           0.19794866372215747,
           0.4848732213850611,
           0.9313146293146642
          ],
          "type": "data",
          "visible": true
         },
         "marker": {
          "color": "#bcbd22"
         },
         "name": "ABAPC",
         "opacity": 0.6,
         "type": "bar",
         "x": [
          "ASIA<br> |V|=8, |E|=8",
          "CANCER<br> |V|=5, |E|=4",
          "EARTHQUAKE<br> |V|=5, |E|=4",
          "SACHS<br> |V|=11, |E|=17",
          "SURVEY<br> |V|=6, |E|=6"
         ],
         "y": [
          4.3966666666666665,
          3.36,
          4.04,
          16.36,
          4.5
         ]
        },
        {
         "error_y": {
          "array": [
           null,
           null,
           null,
           null,
           null,
           null
          ],
          "type": "data",
          "visible": true
         },
         "marker": {
          "color": "#e377c2"
         },
         "name": "LLM-BFS",
         "opacity": 0.6,
         "type": "bar",
         "x": [
          "ASIA<br> |V|=8, |E|=8",
          "CANCER<br> |V|=5, |E|=4",
          "CHILD<br> |V|=20, |E|=25",
          "EARTHQUAKE<br> |V|=5, |E|=4",
          "SACHS<br> |V|=11, |E|=17",
          "SURVEY<br> |V|=6, |E|=6"
         ],
         "y": [
          13,
          8,
          62,
          8,
          16,
          12
         ]
        },
        {
         "error_y": {
          "array": [
           0.6347906612998251,
           0.6311634866964149,
           0.19794866372215747,
           0.43330716823151755,
           0.9313146293146642
          ],
          "type": "data",
          "visible": true
         },
         "marker": {
          "color": "#441469"
         },
         "name": "ABAPC-LLM",
         "opacity": 0.6,
         "type": "bar",
         "x": [
          "ASIA<br> |V|=8, |E|=8",
          "CANCER<br> |V|=5, |E|=4",
          "EARTHQUAKE<br> |V|=5, |E|=4",
          "SACHS<br> |V|=11, |E|=17",
          "SURVEY<br> |V|=6, |E|=6"
         ],
         "y": [
          4.49,
          3.36,
          4.04,
          16.6,
          4.5
         ]
        }
       ],
       "layout": {
        "bargap": 0.15,
        "bargroupgap": 0.1,
        "barmode": "group",
        "font": {
         "color": "black",
         "family": "Serif",
         "size": 23
        },
        "height": 700,
        "hovermode": "x unified",
        "legend": {
         "orientation": "h",
         "x": 0.5,
         "xanchor": "center",
         "y": 1,
         "yanchor": "top"
        },
        "margin": {
         "b": 80,
         "l": 40,
         "r": 40,
         "t": 20
        },
        "template": {
         "data": {
          "bar": [
           {
            "error_x": {
             "color": "#2a3f5f"
            },
            "error_y": {
             "color": "#2a3f5f"
            },
            "marker": {
             "line": {
              "color": "white",
              "width": 0.5
             },
             "pattern": {
              "fillmode": "overlay",
              "size": 10,
              "solidity": 0.2
             }
            },
            "type": "bar"
           }
          ],
          "barpolar": [
           {
            "marker": {
             "line": {
              "color": "white",
              "width": 0.5
             },
             "pattern": {
              "fillmode": "overlay",
              "size": 10,
              "solidity": 0.2
             }
            },
            "type": "barpolar"
           }
          ],
          "carpet": [
           {
            "aaxis": {
             "endlinecolor": "#2a3f5f",
             "gridcolor": "#C8D4E3",
             "linecolor": "#C8D4E3",
             "minorgridcolor": "#C8D4E3",
             "startlinecolor": "#2a3f5f"
            },
            "baxis": {
             "endlinecolor": "#2a3f5f",
             "gridcolor": "#C8D4E3",
             "linecolor": "#C8D4E3",
             "minorgridcolor": "#C8D4E3",
             "startlinecolor": "#2a3f5f"
            },
            "type": "carpet"
           }
          ],
          "choropleth": [
           {
            "colorbar": {
             "outlinewidth": 0,
             "ticks": ""
            },
            "type": "choropleth"
           }
          ],
          "contour": [
           {
            "colorbar": {
             "outlinewidth": 0,
             "ticks": ""
            },
            "colorscale": [
             [
              0,
              "#0d0887"
             ],
             [
              0.1111111111111111,
              "#46039f"
             ],
             [
              0.2222222222222222,
              "#7201a8"
             ],
             [
              0.3333333333333333,
              "#9c179e"
             ],
             [
              0.4444444444444444,
              "#bd3786"
             ],
             [
              0.5555555555555556,
              "#d8576b"
             ],
             [
              0.6666666666666666,
              "#ed7953"
             ],
             [
              0.7777777777777778,
              "#fb9f3a"
             ],
             [
              0.8888888888888888,
              "#fdca26"
             ],
             [
              1,
              "#f0f921"
             ]
            ],
            "type": "contour"
           }
          ],
          "contourcarpet": [
           {
            "colorbar": {
             "outlinewidth": 0,
             "ticks": ""
            },
            "type": "contourcarpet"
           }
          ],
          "heatmap": [
           {
            "colorbar": {
             "outlinewidth": 0,
             "ticks": ""
            },
            "colorscale": [
             [
              0,
              "#0d0887"
             ],
             [
              0.1111111111111111,
              "#46039f"
             ],
             [
              0.2222222222222222,
              "#7201a8"
             ],
             [
              0.3333333333333333,
              "#9c179e"
             ],
             [
              0.4444444444444444,
              "#bd3786"
             ],
             [
              0.5555555555555556,
              "#d8576b"
             ],
             [
              0.6666666666666666,
              "#ed7953"
             ],
             [
              0.7777777777777778,
              "#fb9f3a"
             ],
             [
              0.8888888888888888,
              "#fdca26"
             ],
             [
              1,
              "#f0f921"
             ]
            ],
            "type": "heatmap"
           }
          ],
          "histogram": [
           {
            "marker": {
             "pattern": {
              "fillmode": "overlay",
              "size": 10,
              "solidity": 0.2
             }
            },
            "type": "histogram"
           }
          ],
          "histogram2d": [
           {
            "colorbar": {
             "outlinewidth": 0,
             "ticks": ""
            },
            "colorscale": [
             [
              0,
              "#0d0887"
             ],
             [
              0.1111111111111111,
              "#46039f"
             ],
             [
              0.2222222222222222,
              "#7201a8"
             ],
             [
              0.3333333333333333,
              "#9c179e"
             ],
             [
              0.4444444444444444,
              "#bd3786"
             ],
             [
              0.5555555555555556,
              "#d8576b"
             ],
             [
              0.6666666666666666,
              "#ed7953"
             ],
             [
              0.7777777777777778,
              "#fb9f3a"
             ],
             [
              0.8888888888888888,
              "#fdca26"
             ],
             [
              1,
              "#f0f921"
             ]
            ],
            "type": "histogram2d"
           }
          ],
          "histogram2dcontour": [
           {
            "colorbar": {
             "outlinewidth": 0,
             "ticks": ""
            },
            "colorscale": [
             [
              0,
              "#0d0887"
             ],
             [
              0.1111111111111111,
              "#46039f"
             ],
             [
              0.2222222222222222,
              "#7201a8"
             ],
             [
              0.3333333333333333,
              "#9c179e"
             ],
             [
              0.4444444444444444,
              "#bd3786"
             ],
             [
              0.5555555555555556,
              "#d8576b"
             ],
             [
              0.6666666666666666,
              "#ed7953"
             ],
             [
              0.7777777777777778,
              "#fb9f3a"
             ],
             [
              0.8888888888888888,
              "#fdca26"
             ],
             [
              1,
              "#f0f921"
             ]
            ],
            "type": "histogram2dcontour"
           }
          ],
          "mesh3d": [
           {
            "colorbar": {
             "outlinewidth": 0,
             "ticks": ""
            },
            "type": "mesh3d"
           }
          ],
          "parcoords": [
           {
            "line": {
             "colorbar": {
              "outlinewidth": 0,
              "ticks": ""
             }
            },
            "type": "parcoords"
           }
          ],
          "pie": [
           {
            "automargin": true,
            "type": "pie"
           }
          ],
          "scatter": [
           {
            "fillpattern": {
             "fillmode": "overlay",
             "size": 10,
             "solidity": 0.2
            },
            "type": "scatter"
           }
          ],
          "scatter3d": [
           {
            "line": {
             "colorbar": {
              "outlinewidth": 0,
              "ticks": ""
             }
            },
            "marker": {
             "colorbar": {
              "outlinewidth": 0,
              "ticks": ""
             }
            },
            "type": "scatter3d"
           }
          ],
          "scattercarpet": [
           {
            "marker": {
             "colorbar": {
              "outlinewidth": 0,
              "ticks": ""
             }
            },
            "type": "scattercarpet"
           }
          ],
          "scattergeo": [
           {
            "marker": {
             "colorbar": {
              "outlinewidth": 0,
              "ticks": ""
             }
            },
            "type": "scattergeo"
           }
          ],
          "scattergl": [
           {
            "marker": {
             "colorbar": {
              "outlinewidth": 0,
              "ticks": ""
             }
            },
            "type": "scattergl"
           }
          ],
          "scattermap": [
           {
            "marker": {
             "colorbar": {
              "outlinewidth": 0,
              "ticks": ""
             }
            },
            "type": "scattermap"
           }
          ],
          "scattermapbox": [
           {
            "marker": {
             "colorbar": {
              "outlinewidth": 0,
              "ticks": ""
             }
            },
            "type": "scattermapbox"
           }
          ],
          "scatterpolar": [
           {
            "marker": {
             "colorbar": {
              "outlinewidth": 0,
              "ticks": ""
             }
            },
            "type": "scatterpolar"
           }
          ],
          "scatterpolargl": [
           {
            "marker": {
             "colorbar": {
              "outlinewidth": 0,
              "ticks": ""
             }
            },
            "type": "scatterpolargl"
           }
          ],
          "scatterternary": [
           {
            "marker": {
             "colorbar": {
              "outlinewidth": 0,
              "ticks": ""
             }
            },
            "type": "scatterternary"
           }
          ],
          "surface": [
           {
            "colorbar": {
             "outlinewidth": 0,
             "ticks": ""
            },
            "colorscale": [
             [
              0,
              "#0d0887"
             ],
             [
              0.1111111111111111,
              "#46039f"
             ],
             [
              0.2222222222222222,
              "#7201a8"
             ],
             [
              0.3333333333333333,
              "#9c179e"
             ],
             [
              0.4444444444444444,
              "#bd3786"
             ],
             [
              0.5555555555555556,
              "#d8576b"
             ],
             [
              0.6666666666666666,
              "#ed7953"
             ],
             [
              0.7777777777777778,
              "#fb9f3a"
             ],
             [
              0.8888888888888888,
              "#fdca26"
             ],
             [
              1,
              "#f0f921"
             ]
            ],
            "type": "surface"
           }
          ],
          "table": [
           {
            "cells": {
             "fill": {
              "color": "#EBF0F8"
             },
             "line": {
              "color": "white"
             }
            },
            "header": {
             "fill": {
              "color": "#C8D4E3"
             },
             "line": {
              "color": "white"
             }
            },
            "type": "table"
           }
          ]
         },
         "layout": {
          "annotationdefaults": {
           "arrowcolor": "#2a3f5f",
           "arrowhead": 0,
           "arrowwidth": 1
          },
          "autotypenumbers": "strict",
          "coloraxis": {
           "colorbar": {
            "outlinewidth": 0,
            "ticks": ""
           }
          },
          "colorscale": {
           "diverging": [
            [
             0,
             "#8e0152"
            ],
            [
             0.1,
             "#c51b7d"
            ],
            [
             0.2,
             "#de77ae"
            ],
            [
             0.3,
             "#f1b6da"
            ],
            [
             0.4,
             "#fde0ef"
            ],
            [
             0.5,
             "#f7f7f7"
            ],
            [
             0.6,
             "#e6f5d0"
            ],
            [
             0.7,
             "#b8e186"
            ],
            [
             0.8,
             "#7fbc41"
            ],
            [
             0.9,
             "#4d9221"
            ],
            [
             1,
             "#276419"
            ]
           ],
           "sequential": [
            [
             0,
             "#0d0887"
            ],
            [
             0.1111111111111111,
             "#46039f"
            ],
            [
             0.2222222222222222,
             "#7201a8"
            ],
            [
             0.3333333333333333,
             "#9c179e"
            ],
            [
             0.4444444444444444,
             "#bd3786"
            ],
            [
             0.5555555555555556,
             "#d8576b"
            ],
            [
             0.6666666666666666,
             "#ed7953"
            ],
            [
             0.7777777777777778,
             "#fb9f3a"
            ],
            [
             0.8888888888888888,
             "#fdca26"
            ],
            [
             1,
             "#f0f921"
            ]
           ],
           "sequentialminus": [
            [
             0,
             "#0d0887"
            ],
            [
             0.1111111111111111,
             "#46039f"
            ],
            [
             0.2222222222222222,
             "#7201a8"
            ],
            [
             0.3333333333333333,
             "#9c179e"
            ],
            [
             0.4444444444444444,
             "#bd3786"
            ],
            [
             0.5555555555555556,
             "#d8576b"
            ],
            [
             0.6666666666666666,
             "#ed7953"
            ],
            [
             0.7777777777777778,
             "#fb9f3a"
            ],
            [
             0.8888888888888888,
             "#fdca26"
            ],
            [
             1,
             "#f0f921"
            ]
           ]
          },
          "colorway": [
           "#636efa",
           "#EF553B",
           "#00cc96",
           "#ab63fa",
           "#FFA15A",
           "#19d3f3",
           "#FF6692",
           "#B6E880",
           "#FF97FF",
           "#FECB52"
          ],
          "font": {
           "color": "#2a3f5f"
          },
          "geo": {
           "bgcolor": "white",
           "lakecolor": "white",
           "landcolor": "white",
           "showlakes": true,
           "showland": true,
           "subunitcolor": "#C8D4E3"
          },
          "hoverlabel": {
           "align": "left"
          },
          "hovermode": "closest",
          "mapbox": {
           "style": "light"
          },
          "paper_bgcolor": "white",
          "plot_bgcolor": "white",
          "polar": {
           "angularaxis": {
            "gridcolor": "#EBF0F8",
            "linecolor": "#EBF0F8",
            "ticks": ""
           },
           "bgcolor": "white",
           "radialaxis": {
            "gridcolor": "#EBF0F8",
            "linecolor": "#EBF0F8",
            "ticks": ""
           }
          },
          "scene": {
           "xaxis": {
            "backgroundcolor": "white",
            "gridcolor": "#DFE8F3",
            "gridwidth": 2,
            "linecolor": "#EBF0F8",
            "showbackground": true,
            "ticks": "",
            "zerolinecolor": "#EBF0F8"
           },
           "yaxis": {
            "backgroundcolor": "white",
            "gridcolor": "#DFE8F3",
            "gridwidth": 2,
            "linecolor": "#EBF0F8",
            "showbackground": true,
            "ticks": "",
            "zerolinecolor": "#EBF0F8"
           },
           "zaxis": {
            "backgroundcolor": "white",
            "gridcolor": "#DFE8F3",
            "gridwidth": 2,
            "linecolor": "#EBF0F8",
            "showbackground": true,
            "ticks": "",
            "zerolinecolor": "#EBF0F8"
           }
          },
          "shapedefaults": {
           "line": {
            "color": "#2a3f5f"
           }
          },
          "ternary": {
           "aaxis": {
            "gridcolor": "#DFE8F3",
            "linecolor": "#A2B1C6",
            "ticks": ""
           },
           "baxis": {
            "gridcolor": "#DFE8F3",
            "linecolor": "#A2B1C6",
            "ticks": ""
           },
           "bgcolor": "white",
           "caxis": {
            "gridcolor": "#DFE8F3",
            "linecolor": "#A2B1C6",
            "ticks": ""
           }
          },
          "title": {
           "x": 0.05
          },
          "xaxis": {
           "automargin": true,
           "gridcolor": "#EBF0F8",
           "linecolor": "#EBF0F8",
           "ticks": "",
           "title": {
            "standoff": 15
           },
           "zerolinecolor": "#EBF0F8",
           "zerolinewidth": 2
          },
          "yaxis": {
           "automargin": true,
           "gridcolor": "#EBF0F8",
           "linecolor": "#EBF0F8",
           "ticks": "",
           "title": {
            "standoff": 15
           },
           "zerolinecolor": "#EBF0F8",
           "zerolinewidth": 2
          }
         }
        },
        "width": 1600,
        "yaxis": {
         "title": {
          "font": {
           "size": 23
          },
          "text": "Number of Edges in DAG"
         }
        }
       }
      }
     },
     "metadata": {},
     "output_type": "display_data"
    }
   ],
   "source": [
    "# Plots by dataset (CPDAG)\n",
    "if len(cpdag_all):\n",
    "    methods = [m for m in default_methods if m in cpdag_all['model'].unique()]\n",
    "    if 'p_SID_low_mean' in cpdag_all:\n",
    "        cpdag_all['p_SID_low_mean'] = cpdag_all['p_SID_low_mean'].replace(0, 0.03)\n",
    "    if 'p_SID_high_mean' in cpdag_all:\n",
    "        cpdag_all['p_SID_high_mean'] = cpdag_all['p_SID_high_mean'].replace(0, 0.03)\n",
    "    double_bar_chart_plotly(\n",
    "        cpdag_all, ['p_SID_low','p_SID_high'], names_dict, colors_dict, methods,\n",
    "        save_figs=save_figs, font_size=24, output_name=str(REPO_ROOT / 'results/figs/Fig.bn_cpdag_SID.html'),\n",
    "        debug=False, range_y1=[0,6], range_y2=[0,6]\n",
    "    )\n",
    "    double_bar_chart_plotly(\n",
    "        cpdag_all, ['p_shd','F1'], names_dict, colors_dict, methods,\n",
    "        save_figs=save_figs, font_size=23, output_name=str(REPO_ROOT / 'results/figs/Fig.bn_cpdag_SHD_F1.html'),\n",
    "        debug=False, range_y1=[0,2], range_y2=[0,1.1]\n",
    "    )\n",
    "    double_bar_chart_plotly(\n",
    "        cpdag_all, ['precision','recall'], names_dict, colors_dict, methods,\n",
    "        save_figs=save_figs, font_size=23, output_name=str(REPO_ROOT / 'results/figs/Fig.bn_cpdag_prec_rec.html'),\n",
    "        debug=False\n",
    "    )\n",
    "    bar_chart_plotly(\n",
    "        cpdag_all, 'nnz', names_dict, colors_dict, methods,\n",
    "        save_figs=save_figs, font_size=23, output_name=str(REPO_ROOT / 'results/figs/Fig.bn_cpdag_nnz.html'),\n",
    "        debug=False\n",
    "    )\n",
    "else:\n",
    "    print('No CPDAG results found.')\n"
   ]
  },
  {
   "cell_type": "code",
   "execution_count": 21,
   "metadata": {},
   "outputs": [
    {
     "data": {
      "application/vnd.plotly.v1+json": {
       "config": {
        "plotlyServerURL": "https://plot.ly"
       },
       "data": [
        {
         "error_y": {
          "array": {
           "bdata": "ZmZmZmZm2j+4HoXrUbjWP+F6FK5H4dI/9ihcj8L1zD/A8iVZjL/CPw==",
           "dtype": "f8"
          },
          "type": "data",
          "visible": true
         },
         "marker": {
          "color": "#7f7f7f"
         },
         "name": "Random",
         "offsetgroup": "0",
         "opacity": 0.6,
         "showlegend": true,
         "type": "bar",
         "x": [
          "CANCER<br> |V|=5, |E|=4",
          "EARTHQUAKE<br> |V|=5, |E|=4",
          "SURVEY<br> |V|=6, |E|=6",
          "ASIA<br> |V|=8, |E|=8",
          "SACHS<br> |V|=11, |E|=17"
         ],
         "y": {
          "bdata": "ZmZmZmZm9j/NzMzMzMz2P0jhehSuR/U/UrgehetR+T99sOMWSn34Pw==",
          "dtype": "f8"
         },
         "yaxis": "y"
        },
        {
         "error_y": {
          "array": {
           "bdata": "FK5H4XoUvj97FK5H4XrEP1VVVVVVVcU/pHA9CtejuD+yGH/lS7K4Pw==",
           "dtype": "f8"
          },
          "type": "data",
          "visible": true
         },
         "marker": {
          "color": "#b85c00"
         },
         "name": "FGS",
         "offsetgroup": "1",
         "opacity": 0.6,
         "showlegend": true,
         "type": "bar",
         "x": [
          "CANCER<br> |V|=5, |E|=4",
          "EARTHQUAKE<br> |V|=5, |E|=4",
          "SURVEY<br> |V|=6, |E|=6",
          "ASIA<br> |V|=8, |E|=8",
          "SACHS<br> |V|=11, |E|=17"
         ],
         "y": {
          "bdata": "j8L1KFyP4j/2KFyPwvXkP9BpA5020PE/exSuR+F69j9rntEEOGv2Pw==",
          "dtype": "f8"
         },
         "yaxis": "y"
        },
        {
         "error_y": {
          "array": {
           "bdata": "7FG4HoXroT+4HoXrUbjSPwAAAAAAAAAAKVyPwvUoxD8SEhISEhKyPw==",
           "dtype": "f8"
          },
          "type": "data",
          "visible": true
         },
         "marker": {
          "color": "#0085CA"
         },
         "name": "NOTEARS-MLP",
         "offsetgroup": "2",
         "opacity": 0.6,
         "showlegend": true,
         "type": "bar",
         "x": [
          "CANCER<br> |V|=5, |E|=4",
          "EARTHQUAKE<br> |V|=5, |E|=4",
          "SURVEY<br> |V|=6, |E|=6",
          "ASIA<br> |V|=8, |E|=8",
          "SACHS<br> |V|=11, |E|=17"
         ],
         "y": {
          "bdata": "16NwPQrX7z/2KFyPwvXgPwAAAAAAAPA/uB6F61G47D+QKcNc9o/pPw==",
          "dtype": "f8"
         },
         "yaxis": "y"
        },
        {
         "error_y": {
          "array": {
           "bdata": "4XoUrkfhuj/D9Shcj8LFP+UXS36x5Kc/mpmZmZmZuT8=",
           "dtype": "f8"
          },
          "type": "data",
          "visible": true
         },
         "marker": {
          "color": "#379f9f"
         },
         "name": "MPC",
         "offsetgroup": "3",
         "opacity": 0.6,
         "showlegend": true,
         "type": "bar",
         "x": [
          "CANCER<br> |V|=5, |E|=4",
          "EARTHQUAKE<br> |V|=5, |E|=4",
          "SURVEY<br> |V|=6, |E|=6",
          "ASIA<br> |V|=8, |E|=8"
         ],
         "y": {
          "bdata": "MzMzMzMz7z/D9Shcj8LFP8kvlvxiye8/hetRuB6F4z8=",
          "dtype": "f8"
         },
         "yaxis": "y"
        },
        {
         "error_y": {
          "array": {
           "bdata": "UWvaflMCwT8mF2zfml7SPwQVUHlRoL0/LeY6hG/ZvD+zRhQgjQPGPw==",
           "dtype": "f8"
          },
          "type": "data",
          "visible": true
         },
         "marker": {
          "color": "#bcbd22"
         },
         "name": "ABAPC",
         "offsetgroup": "4",
         "opacity": 0.6,
         "showlegend": true,
         "type": "bar",
         "x": [
          "ASIA<br> |V|=8, |E|=8",
          "CANCER<br> |V|=5, |E|=4",
          "EARTHQUAKE<br> |V|=5, |E|=4",
          "SACHS<br> |V|=11, |E|=17",
          "SURVEY<br> |V|=6, |E|=6"
         ],
         "y": {
          "bdata": "PQrXo3A95D8MAiuHFtngP5qZmZmZmZk/RxPgrHlG0z/GJVJLEaTjPw==",
          "dtype": "f8"
         },
         "yaxis": "y"
        },
        {
         "error_y": {
          "array": {
           "bdata": "AAAAAAAA+H8AAAAAAAD4fwAAAAAAAPh/AAAAAAAA+H8AAAAAAAD4fwAAAAAAAPh/",
           "dtype": "f8"
          },
          "type": "data",
          "visible": true
         },
         "marker": {
          "color": "#e377c2"
         },
         "name": "LLM-BFS",
         "offsetgroup": "5",
         "opacity": 0.6,
         "showlegend": true,
         "type": "bar",
         "x": [
          "ASIA<br> |V|=8, |E|=8",
          "CANCER<br> |V|=5, |E|=4",
          "CHILD<br> |V|=20, |E|=25",
          "EARTHQUAKE<br> |V|=5, |E|=4",
          "SACHS<br> |V|=11, |E|=17",
          "SURVEY<br> |V|=6, |E|=6"
         ],
         "y": {
          "bdata": "AAAAAAAA5D8AAAAAAADwP+xRuB6F6wFAAAAAAAAA8D/T0tLS0tLyPwAAAAAAAPA/",
          "dtype": "f8"
         },
         "yaxis": "y"
        },
        {
         "error_y": {
          "array": {
           "bdata": "SRekHW4Wtj+1ETC7JsjCP2eFxbo5yrU/I4xRJzlZsz/vVvRc8+vEPw==",
           "dtype": "f8"
          },
          "type": "data",
          "visible": true
         },
         "marker": {
          "color": "#441469"
         },
         "name": "ABAPC-LLM",
         "offsetgroup": "6",
         "opacity": 0.6,
         "showlegend": true,
         "type": "bar",
         "x": [
          "ASIA<br> |V|=8, |E|=8",
          "CANCER<br> |V|=5, |E|=4",
          "EARTHQUAKE<br> |V|=5, |E|=4",
          "SACHS<br> |V|=11, |E|=17",
          "SURVEY<br> |V|=6, |E|=6"
         ],
         "y": {
          "bdata": "uB6F61G43D/D9Shcj8LFP3sUrkfhepQ/1umX38A70D/rcvuDDJXhPw==",
          "dtype": "f8"
         },
         "yaxis": "y"
        },
        {
         "marker": {
          "color": "white"
         },
         "name": "",
         "offsetgroup": "7",
         "opacity": 1,
         "showlegend": false,
         "type": "bar",
         "x": [
          "ASIA<br> |V|=8, |E|=8",
          "CANCER<br> |V|=5, |E|=4",
          "EARTHQUAKE<br> |V|=5, |E|=4",
          "SACHS<br> |V|=11, |E|=17",
          "SURVEY<br> |V|=6, |E|=6"
         ],
         "y": {
          "bdata": "AAAAAAAAAAAAAAAAAAAAAAAAAAAAAAAAAAAAAAAAAAAAAAAAAAAAAA==",
          "dtype": "f8"
         }
        },
        {
         "error_y": {
          "array": [
           0.16,
           0.1,
           0.14,
           0.08,
           0.08
          ],
          "type": "data",
          "visible": true
         },
         "marker": {
          "color": "#7f7f7f"
         },
         "name": "Random",
         "offsetgroup": "8",
         "opacity": 0.6,
         "showlegend": false,
         "type": "bar",
         "x": [
          "CANCER<br> |V|=5, |E|=4",
          "EARTHQUAKE<br> |V|=5, |E|=4",
          "SURVEY<br> |V|=6, |E|=6",
          "ASIA<br> |V|=8, |E|=8",
          "SACHS<br> |V|=11, |E|=17"
         ],
         "y": [
          0.36,
          0.29,
          0.28,
          0.19,
          0.17
         ],
         "yaxis": "y2"
        },
        {
         "error_y": {
          "array": [
           0.1,
           0.03,
           0.1,
           0.04,
           0.03
          ],
          "type": "data",
          "visible": true
         },
         "marker": {
          "color": "#b85c00"
         },
         "name": "FGS",
         "offsetgroup": "9",
         "opacity": 0.6,
         "showlegend": false,
         "type": "bar",
         "x": [
          "CANCER<br> |V|=5, |E|=4",
          "EARTHQUAKE<br> |V|=5, |E|=4",
          "SURVEY<br> |V|=6, |E|=6",
          "ASIA<br> |V|=8, |E|=8",
          "SACHS<br> |V|=11, |E|=17"
         ],
         "y": [
          0.43,
          0.47,
          0.27,
          0.25,
          0.14
         ],
         "yaxis": "y2"
        },
        {
         "error_y": {
          "array": [
           null,
           0.27,
           null,
           0.15,
           0.1
          ],
          "type": "data",
          "visible": true
         },
         "marker": {
          "color": "#0085CA"
         },
         "name": "NOTEARS-MLP",
         "offsetgroup": "10",
         "opacity": 0.6,
         "showlegend": false,
         "type": "bar",
         "x": [
          "CANCER<br> |V|=5, |E|=4",
          "EARTHQUAKE<br> |V|=5, |E|=4",
          "SURVEY<br> |V|=6, |E|=6",
          "ASIA<br> |V|=8, |E|=8",
          "SACHS<br> |V|=11, |E|=17"
         ],
         "y": [
          0.4,
          0.5,
          null,
          0.3,
          0.3
         ],
         "yaxis": "y2"
        },
        {
         "error_y": {
          "array": [
           0.03,
           0.08,
           null,
           0.08
          ],
          "type": "data",
          "visible": true
         },
         "marker": {
          "color": "#379f9f"
         },
         "name": "MPC",
         "offsetgroup": "11",
         "opacity": 0.6,
         "showlegend": false,
         "type": "bar",
         "x": [
          "CANCER<br> |V|=5, |E|=4",
          "EARTHQUAKE<br> |V|=5, |E|=4",
          "SURVEY<br> |V|=6, |E|=6",
          "ASIA<br> |V|=8, |E|=8"
         ],
         "y": [
          0.48,
          0.92,
          0.36,
          0.56
         ],
         "yaxis": "y2"
        },
        {
         "error_y": {
          "array": [
           0.15137289157862874,
           0.17935158441353258,
           0.07343676485693702,
           0.11322174930314984,
           0.14421235918870515
          ],
          "type": "data",
          "visible": true
         },
         "marker": {
          "color": "#bcbd22"
         },
         "name": "ABAPC",
         "offsetgroup": "12",
         "opacity": 0.6,
         "showlegend": false,
         "type": "bar",
         "x": [
          "ASIA<br> |V|=8, |E|=8",
          "CANCER<br> |V|=5, |E|=4",
          "EARTHQUAKE<br> |V|=5, |E|=4",
          "SACHS<br> |V|=11, |E|=17",
          "SURVEY<br> |V|=6, |E|=6"
         ],
         "y": [
          0.47337966666666664,
          0.6035856976744186,
          0.985556,
          0.7143952,
          0.45313183333333334
         ],
         "yaxis": "y2"
        },
        {
         "error_y": {
          "array": [
           null,
           null,
           null,
           null,
           null,
           null
          ],
          "type": "data",
          "visible": true
         },
         "marker": {
          "color": "#e377c2"
         },
         "name": "LLM-BFS",
         "offsetgroup": "13",
         "opacity": 0.6,
         "showlegend": false,
         "type": "bar",
         "x": [
          "ASIA<br> |V|=8, |E|=8",
          "CANCER<br> |V|=5, |E|=4",
          "CHILD<br> |V|=20, |E|=25",
          "EARTHQUAKE<br> |V|=5, |E|=4",
          "SACHS<br> |V|=11, |E|=17",
          "SURVEY<br> |V|=6, |E|=6"
         ],
         "y": [
          0.7619,
          0.6667,
          0.3448,
          0.6667,
          0.303,
          0.6667
         ],
         "yaxis": "y2"
        },
        {
         "error_y": {
          "array": [
           0.06667024989009838,
           0.09069821007166617,
           0.04108899331242581,
           0.07203414443108468,
           0.14734251283313263
          ],
          "type": "data",
          "visible": true
         },
         "marker": {
          "color": "#441469"
         },
         "name": "ABAPC-LLM",
         "offsetgroup": "14",
         "opacity": 0.6,
         "showlegend": false,
         "type": "bar",
         "x": [
          "ASIA<br> |V|=8, |E|=8",
          "CANCER<br> |V|=5, |E|=4",
          "EARTHQUAKE<br> |V|=5, |E|=4",
          "SACHS<br> |V|=11, |E|=17",
          "SURVEY<br> |V|=6, |E|=6"
         ],
         "y": [
          0.709482,
          0.9006139999999999,
          0.990556,
          0.7552356,
          0.517209
         ],
         "yaxis": "y2"
        }
       ],
       "layout": {
        "annotations": [
         {
          "font": {
           "color": "black",
           "size": 23
          },
          "showarrow": false,
          "text": "         NSHD         ",
          "x": 0.043750000000000004,
          "xanchor": "center",
          "xref": "x domain",
          "y": 1.07,
          "yanchor": "middle",
          "yref": "y domain"
         },
         {
          "font": {
           "color": "black",
           "size": 23
          },
          "showarrow": false,
          "text": "           F1           ",
          "x": 0.12291666666666667,
          "xanchor": "center",
          "xref": "x domain",
          "y": 1.07,
          "yanchor": "middle",
          "yref": "y domain"
         },
         {
          "font": {
           "color": "black",
           "size": 23
          },
          "showarrow": false,
          "text": "         NSHD         ",
          "x": 0.21041666666666664,
          "xanchor": "center",
          "xref": "x domain",
          "y": 1.07,
          "yanchor": "middle",
          "yref": "y domain"
         },
         {
          "font": {
           "color": "black",
           "size": 23
          },
          "showarrow": false,
          "text": "           F1           ",
          "x": 0.2895833333333333,
          "xanchor": "center",
          "xref": "x domain",
          "y": 1.07,
          "yanchor": "middle",
          "yref": "y domain"
         },
         {
          "font": {
           "color": "black",
           "size": 23
          },
          "showarrow": false,
          "text": "         NSHD         ",
          "x": 0.3770833333333333,
          "xanchor": "center",
          "xref": "x domain",
          "y": 1.07,
          "yanchor": "middle",
          "yref": "y domain"
         },
         {
          "font": {
           "color": "black",
           "size": 23
          },
          "showarrow": false,
          "text": "           F1           ",
          "x": 0.45625,
          "xanchor": "center",
          "xref": "x domain",
          "y": 1.07,
          "yanchor": "middle",
          "yref": "y domain"
         },
         {
          "font": {
           "color": "black",
           "size": 23
          },
          "showarrow": false,
          "text": "         NSHD         ",
          "x": 0.54375,
          "xanchor": "center",
          "xref": "x domain",
          "y": 1.07,
          "yanchor": "middle",
          "yref": "y domain"
         },
         {
          "font": {
           "color": "black",
           "size": 23
          },
          "showarrow": false,
          "text": "           F1           ",
          "x": 0.6229166666666667,
          "xanchor": "center",
          "xref": "x domain",
          "y": 1.07,
          "yanchor": "middle",
          "yref": "y domain"
         },
         {
          "font": {
           "color": "black",
           "size": 23
          },
          "showarrow": false,
          "text": "         NSHD         ",
          "x": 0.7104166666666666,
          "xanchor": "center",
          "xref": "x domain",
          "y": 1.07,
          "yanchor": "middle",
          "yref": "y domain"
         },
         {
          "font": {
           "color": "black",
           "size": 23
          },
          "showarrow": false,
          "text": "           F1           ",
          "x": 0.7895833333333332,
          "xanchor": "center",
          "xref": "x domain",
          "y": 1.07,
          "yanchor": "middle",
          "yref": "y domain"
         },
         {
          "font": {
           "color": "black",
           "size": 23
          },
          "showarrow": false,
          "text": "         NSHD         ",
          "x": 0.8770833333333332,
          "xanchor": "center",
          "xref": "x domain",
          "y": 1.07,
          "yanchor": "middle",
          "yref": "y domain"
         },
         {
          "font": {
           "color": "black",
           "size": 23
          },
          "showarrow": false,
          "text": "           F1           ",
          "x": 0.9562499999999999,
          "xanchor": "center",
          "xref": "x domain",
          "y": 1.07,
          "yanchor": "middle",
          "yref": "y domain"
         }
        ],
        "bargap": 0.08,
        "bargroupgap": 0.05,
        "barmode": "group",
        "font": {
         "color": "black",
         "family": "Serif",
         "size": 23
        },
        "height": 700,
        "hovermode": "x unified",
        "legend": {
         "orientation": "h",
         "x": 0.5,
         "xanchor": "center",
         "y": 1.23,
         "yanchor": "top"
        },
        "margin": {
         "b": 70,
         "l": 40,
         "r": 40,
         "t": 80
        },
        "shapes": [
         {
          "fillcolor": "#E5ECF6",
          "layer": "below",
          "line": {
           "color": "#E5ECF6",
           "width": 2
          },
          "type": "rect",
          "x0": 0.0025000000000000022,
          "x1": 0.085,
          "xref": "x domain",
          "y0": 1.04,
          "y1": 1.1,
          "yref": "y domain"
         },
         {
          "fillcolor": "#E5ECF6",
          "layer": "below",
          "line": {
           "color": "#E5ECF6",
           "width": 2
          },
          "type": "rect",
          "x0": 0.08166666666666667,
          "x1": 0.16416666666666668,
          "xref": "x domain",
          "y0": 1.04,
          "y1": 1.1,
          "yref": "y domain"
         },
         {
          "fillcolor": "#E5ECF6",
          "layer": "below",
          "line": {
           "color": "#E5ECF6",
           "width": 2
          },
          "type": "rect",
          "x0": 0.16916666666666663,
          "x1": 0.25166666666666665,
          "xref": "x domain",
          "y0": 1.04,
          "y1": 1.1,
          "yref": "y domain"
         },
         {
          "fillcolor": "#E5ECF6",
          "layer": "below",
          "line": {
           "color": "#E5ECF6",
           "width": 2
          },
          "type": "rect",
          "x0": 0.2483333333333333,
          "x1": 0.3308333333333333,
          "xref": "x domain",
          "y0": 1.04,
          "y1": 1.1,
          "yref": "y domain"
         },
         {
          "fillcolor": "#E5ECF6",
          "layer": "below",
          "line": {
           "color": "#E5ECF6",
           "width": 2
          },
          "type": "rect",
          "x0": 0.3358333333333333,
          "x1": 0.41833333333333333,
          "xref": "x domain",
          "y0": 1.04,
          "y1": 1.1,
          "yref": "y domain"
         },
         {
          "fillcolor": "#E5ECF6",
          "layer": "below",
          "line": {
           "color": "#E5ECF6",
           "width": 2
          },
          "type": "rect",
          "x0": 0.415,
          "x1": 0.4975,
          "xref": "x domain",
          "y0": 1.04,
          "y1": 1.1,
          "yref": "y domain"
         },
         {
          "fillcolor": "#E5ECF6",
          "layer": "below",
          "line": {
           "color": "#E5ECF6",
           "width": 2
          },
          "type": "rect",
          "x0": 0.5025,
          "x1": 0.585,
          "xref": "x domain",
          "y0": 1.04,
          "y1": 1.1,
          "yref": "y domain"
         },
         {
          "fillcolor": "#E5ECF6",
          "layer": "below",
          "line": {
           "color": "#E5ECF6",
           "width": 2
          },
          "type": "rect",
          "x0": 0.5816666666666667,
          "x1": 0.6641666666666667,
          "xref": "x domain",
          "y0": 1.04,
          "y1": 1.1,
          "yref": "y domain"
         },
         {
          "fillcolor": "#E5ECF6",
          "layer": "below",
          "line": {
           "color": "#E5ECF6",
           "width": 2
          },
          "type": "rect",
          "x0": 0.6691666666666666,
          "x1": 0.7516666666666666,
          "xref": "x domain",
          "y0": 1.04,
          "y1": 1.1,
          "yref": "y domain"
         },
         {
          "fillcolor": "#E5ECF6",
          "layer": "below",
          "line": {
           "color": "#E5ECF6",
           "width": 2
          },
          "type": "rect",
          "x0": 0.7483333333333332,
          "x1": 0.8308333333333332,
          "xref": "x domain",
          "y0": 1.04,
          "y1": 1.1,
          "yref": "y domain"
         },
         {
          "fillcolor": "#E5ECF6",
          "layer": "below",
          "line": {
           "color": "#E5ECF6",
           "width": 2
          },
          "type": "rect",
          "x0": 0.8358333333333332,
          "x1": 0.9183333333333332,
          "xref": "x domain",
          "y0": 1.04,
          "y1": 1.1,
          "yref": "y domain"
         },
         {
          "fillcolor": "#E5ECF6",
          "layer": "below",
          "line": {
           "color": "#E5ECF6",
           "width": 2
          },
          "type": "rect",
          "x0": 0.9149999999999999,
          "x1": 0.9974999999999999,
          "xref": "x domain",
          "y0": 1.04,
          "y1": 1.1,
          "yref": "y domain"
         }
        ],
        "template": {
         "data": {
          "bar": [
           {
            "error_x": {
             "color": "#2a3f5f"
            },
            "error_y": {
             "color": "#2a3f5f"
            },
            "marker": {
             "line": {
              "color": "white",
              "width": 0.5
             },
             "pattern": {
              "fillmode": "overlay",
              "size": 10,
              "solidity": 0.2
             }
            },
            "type": "bar"
           }
          ],
          "barpolar": [
           {
            "marker": {
             "line": {
              "color": "white",
              "width": 0.5
             },
             "pattern": {
              "fillmode": "overlay",
              "size": 10,
              "solidity": 0.2
             }
            },
            "type": "barpolar"
           }
          ],
          "carpet": [
           {
            "aaxis": {
             "endlinecolor": "#2a3f5f",
             "gridcolor": "#C8D4E3",
             "linecolor": "#C8D4E3",
             "minorgridcolor": "#C8D4E3",
             "startlinecolor": "#2a3f5f"
            },
            "baxis": {
             "endlinecolor": "#2a3f5f",
             "gridcolor": "#C8D4E3",
             "linecolor": "#C8D4E3",
             "minorgridcolor": "#C8D4E3",
             "startlinecolor": "#2a3f5f"
            },
            "type": "carpet"
           }
          ],
          "choropleth": [
           {
            "colorbar": {
             "outlinewidth": 0,
             "ticks": ""
            },
            "type": "choropleth"
           }
          ],
          "contour": [
           {
            "colorbar": {
             "outlinewidth": 0,
             "ticks": ""
            },
            "colorscale": [
             [
              0,
              "#0d0887"
             ],
             [
              0.1111111111111111,
              "#46039f"
             ],
             [
              0.2222222222222222,
              "#7201a8"
             ],
             [
              0.3333333333333333,
              "#9c179e"
             ],
             [
              0.4444444444444444,
              "#bd3786"
             ],
             [
              0.5555555555555556,
              "#d8576b"
             ],
             [
              0.6666666666666666,
              "#ed7953"
             ],
             [
              0.7777777777777778,
              "#fb9f3a"
             ],
             [
              0.8888888888888888,
              "#fdca26"
             ],
             [
              1,
              "#f0f921"
             ]
            ],
            "type": "contour"
           }
          ],
          "contourcarpet": [
           {
            "colorbar": {
             "outlinewidth": 0,
             "ticks": ""
            },
            "type": "contourcarpet"
           }
          ],
          "heatmap": [
           {
            "colorbar": {
             "outlinewidth": 0,
             "ticks": ""
            },
            "colorscale": [
             [
              0,
              "#0d0887"
             ],
             [
              0.1111111111111111,
              "#46039f"
             ],
             [
              0.2222222222222222,
              "#7201a8"
             ],
             [
              0.3333333333333333,
              "#9c179e"
             ],
             [
              0.4444444444444444,
              "#bd3786"
             ],
             [
              0.5555555555555556,
              "#d8576b"
             ],
             [
              0.6666666666666666,
              "#ed7953"
             ],
             [
              0.7777777777777778,
              "#fb9f3a"
             ],
             [
              0.8888888888888888,
              "#fdca26"
             ],
             [
              1,
              "#f0f921"
             ]
            ],
            "type": "heatmap"
           }
          ],
          "histogram": [
           {
            "marker": {
             "pattern": {
              "fillmode": "overlay",
              "size": 10,
              "solidity": 0.2
             }
            },
            "type": "histogram"
           }
          ],
          "histogram2d": [
           {
            "colorbar": {
             "outlinewidth": 0,
             "ticks": ""
            },
            "colorscale": [
             [
              0,
              "#0d0887"
             ],
             [
              0.1111111111111111,
              "#46039f"
             ],
             [
              0.2222222222222222,
              "#7201a8"
             ],
             [
              0.3333333333333333,
              "#9c179e"
             ],
             [
              0.4444444444444444,
              "#bd3786"
             ],
             [
              0.5555555555555556,
              "#d8576b"
             ],
             [
              0.6666666666666666,
              "#ed7953"
             ],
             [
              0.7777777777777778,
              "#fb9f3a"
             ],
             [
              0.8888888888888888,
              "#fdca26"
             ],
             [
              1,
              "#f0f921"
             ]
            ],
            "type": "histogram2d"
           }
          ],
          "histogram2dcontour": [
           {
            "colorbar": {
             "outlinewidth": 0,
             "ticks": ""
            },
            "colorscale": [
             [
              0,
              "#0d0887"
             ],
             [
              0.1111111111111111,
              "#46039f"
             ],
             [
              0.2222222222222222,
              "#7201a8"
             ],
             [
              0.3333333333333333,
              "#9c179e"
             ],
             [
              0.4444444444444444,
              "#bd3786"
             ],
             [
              0.5555555555555556,
              "#d8576b"
             ],
             [
              0.6666666666666666,
              "#ed7953"
             ],
             [
              0.7777777777777778,
              "#fb9f3a"
             ],
             [
              0.8888888888888888,
              "#fdca26"
             ],
             [
              1,
              "#f0f921"
             ]
            ],
            "type": "histogram2dcontour"
           }
          ],
          "mesh3d": [
           {
            "colorbar": {
             "outlinewidth": 0,
             "ticks": ""
            },
            "type": "mesh3d"
           }
          ],
          "parcoords": [
           {
            "line": {
             "colorbar": {
              "outlinewidth": 0,
              "ticks": ""
             }
            },
            "type": "parcoords"
           }
          ],
          "pie": [
           {
            "automargin": true,
            "type": "pie"
           }
          ],
          "scatter": [
           {
            "fillpattern": {
             "fillmode": "overlay",
             "size": 10,
             "solidity": 0.2
            },
            "type": "scatter"
           }
          ],
          "scatter3d": [
           {
            "line": {
             "colorbar": {
              "outlinewidth": 0,
              "ticks": ""
             }
            },
            "marker": {
             "colorbar": {
              "outlinewidth": 0,
              "ticks": ""
             }
            },
            "type": "scatter3d"
           }
          ],
          "scattercarpet": [
           {
            "marker": {
             "colorbar": {
              "outlinewidth": 0,
              "ticks": ""
             }
            },
            "type": "scattercarpet"
           }
          ],
          "scattergeo": [
           {
            "marker": {
             "colorbar": {
              "outlinewidth": 0,
              "ticks": ""
             }
            },
            "type": "scattergeo"
           }
          ],
          "scattergl": [
           {
            "marker": {
             "colorbar": {
              "outlinewidth": 0,
              "ticks": ""
             }
            },
            "type": "scattergl"
           }
          ],
          "scattermap": [
           {
            "marker": {
             "colorbar": {
              "outlinewidth": 0,
              "ticks": ""
             }
            },
            "type": "scattermap"
           }
          ],
          "scattermapbox": [
           {
            "marker": {
             "colorbar": {
              "outlinewidth": 0,
              "ticks": ""
             }
            },
            "type": "scattermapbox"
           }
          ],
          "scatterpolar": [
           {
            "marker": {
             "colorbar": {
              "outlinewidth": 0,
              "ticks": ""
             }
            },
            "type": "scatterpolar"
           }
          ],
          "scatterpolargl": [
           {
            "marker": {
             "colorbar": {
              "outlinewidth": 0,
              "ticks": ""
             }
            },
            "type": "scatterpolargl"
           }
          ],
          "scatterternary": [
           {
            "marker": {
             "colorbar": {
              "outlinewidth": 0,
              "ticks": ""
             }
            },
            "type": "scatterternary"
           }
          ],
          "surface": [
           {
            "colorbar": {
             "outlinewidth": 0,
             "ticks": ""
            },
            "colorscale": [
             [
              0,
              "#0d0887"
             ],
             [
              0.1111111111111111,
              "#46039f"
             ],
             [
              0.2222222222222222,
              "#7201a8"
             ],
             [
              0.3333333333333333,
              "#9c179e"
             ],
             [
              0.4444444444444444,
              "#bd3786"
             ],
             [
              0.5555555555555556,
              "#d8576b"
             ],
             [
              0.6666666666666666,
              "#ed7953"
             ],
             [
              0.7777777777777778,
              "#fb9f3a"
             ],
             [
              0.8888888888888888,
              "#fdca26"
             ],
             [
              1,
              "#f0f921"
             ]
            ],
            "type": "surface"
           }
          ],
          "table": [
           {
            "cells": {
             "fill": {
              "color": "#EBF0F8"
             },
             "line": {
              "color": "white"
             }
            },
            "header": {
             "fill": {
              "color": "#C8D4E3"
             },
             "line": {
              "color": "white"
             }
            },
            "type": "table"
           }
          ]
         },
         "layout": {
          "annotationdefaults": {
           "arrowcolor": "#2a3f5f",
           "arrowhead": 0,
           "arrowwidth": 1
          },
          "autotypenumbers": "strict",
          "coloraxis": {
           "colorbar": {
            "outlinewidth": 0,
            "ticks": ""
           }
          },
          "colorscale": {
           "diverging": [
            [
             0,
             "#8e0152"
            ],
            [
             0.1,
             "#c51b7d"
            ],
            [
             0.2,
             "#de77ae"
            ],
            [
             0.3,
             "#f1b6da"
            ],
            [
             0.4,
             "#fde0ef"
            ],
            [
             0.5,
             "#f7f7f7"
            ],
            [
             0.6,
             "#e6f5d0"
            ],
            [
             0.7,
             "#b8e186"
            ],
            [
             0.8,
             "#7fbc41"
            ],
            [
             0.9,
             "#4d9221"
            ],
            [
             1,
             "#276419"
            ]
           ],
           "sequential": [
            [
             0,
             "#0d0887"
            ],
            [
             0.1111111111111111,
             "#46039f"
            ],
            [
             0.2222222222222222,
             "#7201a8"
            ],
            [
             0.3333333333333333,
             "#9c179e"
            ],
            [
             0.4444444444444444,
             "#bd3786"
            ],
            [
             0.5555555555555556,
             "#d8576b"
            ],
            [
             0.6666666666666666,
             "#ed7953"
            ],
            [
             0.7777777777777778,
             "#fb9f3a"
            ],
            [
             0.8888888888888888,
             "#fdca26"
            ],
            [
             1,
             "#f0f921"
            ]
           ],
           "sequentialminus": [
            [
             0,
             "#0d0887"
            ],
            [
             0.1111111111111111,
             "#46039f"
            ],
            [
             0.2222222222222222,
             "#7201a8"
            ],
            [
             0.3333333333333333,
             "#9c179e"
            ],
            [
             0.4444444444444444,
             "#bd3786"
            ],
            [
             0.5555555555555556,
             "#d8576b"
            ],
            [
             0.6666666666666666,
             "#ed7953"
            ],
            [
             0.7777777777777778,
             "#fb9f3a"
            ],
            [
             0.8888888888888888,
             "#fdca26"
            ],
            [
             1,
             "#f0f921"
            ]
           ]
          },
          "colorway": [
           "#636efa",
           "#EF553B",
           "#00cc96",
           "#ab63fa",
           "#FFA15A",
           "#19d3f3",
           "#FF6692",
           "#B6E880",
           "#FF97FF",
           "#FECB52"
          ],
          "font": {
           "color": "#2a3f5f"
          },
          "geo": {
           "bgcolor": "white",
           "lakecolor": "white",
           "landcolor": "white",
           "showlakes": true,
           "showland": true,
           "subunitcolor": "#C8D4E3"
          },
          "hoverlabel": {
           "align": "left"
          },
          "hovermode": "closest",
          "mapbox": {
           "style": "light"
          },
          "paper_bgcolor": "white",
          "plot_bgcolor": "white",
          "polar": {
           "angularaxis": {
            "gridcolor": "#EBF0F8",
            "linecolor": "#EBF0F8",
            "ticks": ""
           },
           "bgcolor": "white",
           "radialaxis": {
            "gridcolor": "#EBF0F8",
            "linecolor": "#EBF0F8",
            "ticks": ""
           }
          },
          "scene": {
           "xaxis": {
            "backgroundcolor": "white",
            "gridcolor": "#DFE8F3",
            "gridwidth": 2,
            "linecolor": "#EBF0F8",
            "showbackground": true,
            "ticks": "",
            "zerolinecolor": "#EBF0F8"
           },
           "yaxis": {
            "backgroundcolor": "white",
            "gridcolor": "#DFE8F3",
            "gridwidth": 2,
            "linecolor": "#EBF0F8",
            "showbackground": true,
            "ticks": "",
            "zerolinecolor": "#EBF0F8"
           },
           "zaxis": {
            "backgroundcolor": "white",
            "gridcolor": "#DFE8F3",
            "gridwidth": 2,
            "linecolor": "#EBF0F8",
            "showbackground": true,
            "ticks": "",
            "zerolinecolor": "#EBF0F8"
           }
          },
          "shapedefaults": {
           "line": {
            "color": "#2a3f5f"
           }
          },
          "ternary": {
           "aaxis": {
            "gridcolor": "#DFE8F3",
            "linecolor": "#A2B1C6",
            "ticks": ""
           },
           "baxis": {
            "gridcolor": "#DFE8F3",
            "linecolor": "#A2B1C6",
            "ticks": ""
           },
           "bgcolor": "white",
           "caxis": {
            "gridcolor": "#DFE8F3",
            "linecolor": "#A2B1C6",
            "ticks": ""
           }
          },
          "title": {
           "x": 0.05
          },
          "xaxis": {
           "automargin": true,
           "gridcolor": "#EBF0F8",
           "linecolor": "#EBF0F8",
           "ticks": "",
           "title": {
            "standoff": 15
           },
           "zerolinecolor": "#EBF0F8",
           "zerolinewidth": 2
          },
          "yaxis": {
           "automargin": true,
           "gridcolor": "#EBF0F8",
           "linecolor": "#EBF0F8",
           "ticks": "",
           "title": {
            "standoff": 15
           },
           "zerolinecolor": "#EBF0F8",
           "zerolinewidth": 2
          }
         }
        },
        "width": 1600,
        "xaxis": {
         "anchor": "y",
         "domain": [
          0,
          0.94
         ]
        },
        "yaxis": {
         "anchor": "x",
         "domain": [
          0,
          1
         ],
         "range": [
          0,
          2
         ],
         "title": {
          "font": {
           "size": 23
          },
          "text": "Normalised SHD"
         }
        },
        "yaxis2": {
         "anchor": "x",
         "overlaying": "y",
         "scaleanchor": 0,
         "showgrid": false,
         "showline": false,
         "showticklabels": true,
         "side": "right",
         "title": {
          "font": {
           "size": 23
          },
          "text": "F1"
         },
         "zeroline": true
        }
       }
      }
     },
     "metadata": {},
     "output_type": "display_data"
    },
    {
     "data": {
      "application/vnd.plotly.v1+json": {
       "config": {
        "plotlyServerURL": "https://plot.ly"
       },
       "data": [
        {
         "error_y": {
          "array": {
           "bdata": "mpmZmZmZ8T9mZmZmZmbsPylcj8L1KPA/w/UoXI/C7z8Z5rJ/TBnWPw==",
           "dtype": "f8"
          },
          "type": "data",
          "visible": true
         },
         "marker": {
          "color": "#7f7f7f"
         },
         "name": "Random",
         "opacity": 0.6,
         "type": "bar",
         "x": [
          "CANCER<br> |V|=5, |E|=4",
          "EARTHQUAKE<br> |V|=5, |E|=4",
          "SURVEY<br> |V|=6, |E|=6",
          "ASIA<br> |V|=8, |E|=8",
          "SACHS<br> |V|=11, |E|=17"
         ],
         "y": {
          "bdata": "hetRuB6FBkAfhetRuB4FQGPJL5b8YgdAXI/C9ShcDkC4t7e3t7cHQA==",
          "dtype": "f8"
         }
        },
        {
         "error_y": {
          "array": {
           "bdata": "FK5H4XoU3j+4HoXrUbiuP6HTBjptoOM/PQrXo3A91j/9/Pz8/PzMPw==",
           "dtype": "f8"
          },
          "type": "data",
          "visible": true
         },
         "marker": {
          "color": "#b85c00"
         },
         "name": "FGS",
         "opacity": 0.6,
         "type": "bar",
         "x": [
          "CANCER<br> |V|=5, |E|=4",
          "EARTHQUAKE<br> |V|=5, |E|=4",
          "SURVEY<br> |V|=6, |E|=6",
          "ASIA<br> |V|=8, |E|=8",
          "SACHS<br> |V|=11, |E|=17"
         ],
         "y": {
          "bdata": "j8L1KFyPBkDhehSuR+EDQAOdNtBpAwNAFK5H4XoUE0Dr6urq6uoGQA==",
          "dtype": "f8"
         }
        },
        {
         "error_y": {
          "array": {
           "bdata": "16NwPQrXwz+F61G4HoX1PwAAAAAAAAAAAAAAAAAA8D/jSK8VfOLYPw==",
           "dtype": "f8"
          },
          "type": "data",
          "visible": true
         },
         "marker": {
          "color": "#0085CA"
         },
         "name": "NOTEARS-MLP",
         "opacity": 0.6,
         "type": "bar",
         "x": [
          "CANCER<br> |V|=5, |E|=4",
          "EARTHQUAKE<br> |V|=5, |E|=4",
          "SURVEY<br> |V|=6, |E|=6",
          "ASIA<br> |V|=8, |E|=8",
          "SACHS<br> |V|=11, |E|=17"
         ],
         "y": {
          "bdata": "9ihcj8L1A0CF61G4HoUDQKuqqqqqqgZAAAAAAAAAEECkcD0K16MIQA==",
          "dtype": "f8"
         }
        },
        {
         "error_y": {
          "array": {
           "bdata": "j8L1KFyP1j+amZmZmZm5P+tRuB6F67E/exSuR+F62j8=",
           "dtype": "f8"
          },
          "type": "data",
          "visible": true
         },
         "marker": {
          "color": "#379f9f"
         },
         "name": "MPC",
         "opacity": 0.6,
         "type": "bar",
         "x": [
          "CANCER<br> |V|=5, |E|=4",
          "EARTHQUAKE<br> |V|=5, |E|=4",
          "SURVEY<br> |V|=6, |E|=6",
          "ASIA<br> |V|=8, |E|=8"
         ],
         "y": {
          "bdata": "ZmZmZmZmBEB7FK5H4XqUP79Y8oslvwZA4XoUrkfh/z8=",
          "dtype": "f8"
         }
        },
        {
         "error_y": {
          "array": {
           "bdata": "NafKbE+d6j/z9oTAS/fxP/AAP4Vnat0/8V6lbXin4z9wnVd2A4jlPw==",
           "dtype": "f8"
          },
          "type": "data",
          "visible": true
         },
         "marker": {
          "color": "#bcbd22"
         },
         "name": "ABAPC",
         "opacity": 0.6,
         "type": "bar",
         "x": [
          "ASIA<br> |V|=8, |E|=8",
          "CANCER<br> |V|=5, |E|=4",
          "EARTHQUAKE<br> |V|=5, |E|=4",
          "SACHS<br> |V|=11, |E|=17",
          "SURVEY<br> |V|=6, |E|=6"
         ],
         "y": {
          "bdata": "5RdLfrHkCUCkcD0K1yMAQKRwPQrXo7A/FEd6reAT9z9bad23+B8FQA==",
          "dtype": "f8"
         }
        },
        {
         "error_y": {
          "array": {
           "bdata": "AAAAAAAA+H8AAAAAAAD4fwAAAAAAAPh/AAAAAAAA+H8AAAAAAAD4fwAAAAAAAPh/",
           "dtype": "f8"
          },
          "type": "data",
          "visible": true
         },
         "marker": {
          "color": "#e377c2"
         },
         "name": "LLM-BFS",
         "opacity": 0.6,
         "type": "bar",
         "x": [
          "ASIA<br> |V|=8, |E|=8",
          "CANCER<br> |V|=5, |E|=4",
          "CHILD<br> |V|=20, |E|=25",
          "EARTHQUAKE<br> |V|=5, |E|=4",
          "SACHS<br> |V|=11, |E|=17",
          "SURVEY<br> |V|=6, |E|=6"
         ],
         "y": {
          "bdata": "AAAAAAAAAAAAAAAAAAAAAD0K16NwPRJAAAAAAAAAAACIh4eHh4cHQAAAAAAAAAAA",
          "dtype": "f8"
         }
        },
        {
         "error_y": {
          "array": {
           "bdata": "G9Wdi6c90j+WNmD83S/VPwlj/1EYGsI/NEXbY+Q72j+b1D/1UKHkPw==",
           "dtype": "f8"
          },
          "type": "data",
          "visible": true
         },
         "marker": {
          "color": "#441469"
         },
         "name": "ABAPC-LLM",
         "opacity": 0.6,
         "type": "bar",
         "x": [
          "ASIA<br> |V|=8, |E|=8",
          "CANCER<br> |V|=5, |E|=4",
          "EARTHQUAKE<br> |V|=5, |E|=4",
          "SACHS<br> |V|=11, |E|=17",
          "SURVEY<br> |V|=6, |E|=6"
         ],
         "y": {
          "bdata": "hetRuB4F/z+4HoXrUbjOP3sUrkfhepQ/E2/+wLbf8z9NPCsaCfgBQA==",
          "dtype": "f8"
         }
        }
       ],
       "layout": {
        "bargap": 0.15,
        "bargroupgap": 0.1,
        "barmode": "group",
        "font": {
         "color": "black",
         "family": "Serif",
         "size": 23
        },
        "height": 700,
        "hovermode": "x unified",
        "legend": {
         "orientation": "h",
         "x": 0.5,
         "xanchor": "center",
         "y": 1,
         "yanchor": "top"
        },
        "margin": {
         "b": 80,
         "l": 40,
         "r": 40,
         "t": 20
        },
        "template": {
         "data": {
          "bar": [
           {
            "error_x": {
             "color": "#2a3f5f"
            },
            "error_y": {
             "color": "#2a3f5f"
            },
            "marker": {
             "line": {
              "color": "white",
              "width": 0.5
             },
             "pattern": {
              "fillmode": "overlay",
              "size": 10,
              "solidity": 0.2
             }
            },
            "type": "bar"
           }
          ],
          "barpolar": [
           {
            "marker": {
             "line": {
              "color": "white",
              "width": 0.5
             },
             "pattern": {
              "fillmode": "overlay",
              "size": 10,
              "solidity": 0.2
             }
            },
            "type": "barpolar"
           }
          ],
          "carpet": [
           {
            "aaxis": {
             "endlinecolor": "#2a3f5f",
             "gridcolor": "#C8D4E3",
             "linecolor": "#C8D4E3",
             "minorgridcolor": "#C8D4E3",
             "startlinecolor": "#2a3f5f"
            },
            "baxis": {
             "endlinecolor": "#2a3f5f",
             "gridcolor": "#C8D4E3",
             "linecolor": "#C8D4E3",
             "minorgridcolor": "#C8D4E3",
             "startlinecolor": "#2a3f5f"
            },
            "type": "carpet"
           }
          ],
          "choropleth": [
           {
            "colorbar": {
             "outlinewidth": 0,
             "ticks": ""
            },
            "type": "choropleth"
           }
          ],
          "contour": [
           {
            "colorbar": {
             "outlinewidth": 0,
             "ticks": ""
            },
            "colorscale": [
             [
              0,
              "#0d0887"
             ],
             [
              0.1111111111111111,
              "#46039f"
             ],
             [
              0.2222222222222222,
              "#7201a8"
             ],
             [
              0.3333333333333333,
              "#9c179e"
             ],
             [
              0.4444444444444444,
              "#bd3786"
             ],
             [
              0.5555555555555556,
              "#d8576b"
             ],
             [
              0.6666666666666666,
              "#ed7953"
             ],
             [
              0.7777777777777778,
              "#fb9f3a"
             ],
             [
              0.8888888888888888,
              "#fdca26"
             ],
             [
              1,
              "#f0f921"
             ]
            ],
            "type": "contour"
           }
          ],
          "contourcarpet": [
           {
            "colorbar": {
             "outlinewidth": 0,
             "ticks": ""
            },
            "type": "contourcarpet"
           }
          ],
          "heatmap": [
           {
            "colorbar": {
             "outlinewidth": 0,
             "ticks": ""
            },
            "colorscale": [
             [
              0,
              "#0d0887"
             ],
             [
              0.1111111111111111,
              "#46039f"
             ],
             [
              0.2222222222222222,
              "#7201a8"
             ],
             [
              0.3333333333333333,
              "#9c179e"
             ],
             [
              0.4444444444444444,
              "#bd3786"
             ],
             [
              0.5555555555555556,
              "#d8576b"
             ],
             [
              0.6666666666666666,
              "#ed7953"
             ],
             [
              0.7777777777777778,
              "#fb9f3a"
             ],
             [
              0.8888888888888888,
              "#fdca26"
             ],
             [
              1,
              "#f0f921"
             ]
            ],
            "type": "heatmap"
           }
          ],
          "histogram": [
           {
            "marker": {
             "pattern": {
              "fillmode": "overlay",
              "size": 10,
              "solidity": 0.2
             }
            },
            "type": "histogram"
           }
          ],
          "histogram2d": [
           {
            "colorbar": {
             "outlinewidth": 0,
             "ticks": ""
            },
            "colorscale": [
             [
              0,
              "#0d0887"
             ],
             [
              0.1111111111111111,
              "#46039f"
             ],
             [
              0.2222222222222222,
              "#7201a8"
             ],
             [
              0.3333333333333333,
              "#9c179e"
             ],
             [
              0.4444444444444444,
              "#bd3786"
             ],
             [
              0.5555555555555556,
              "#d8576b"
             ],
             [
              0.6666666666666666,
              "#ed7953"
             ],
             [
              0.7777777777777778,
              "#fb9f3a"
             ],
             [
              0.8888888888888888,
              "#fdca26"
             ],
             [
              1,
              "#f0f921"
             ]
            ],
            "type": "histogram2d"
           }
          ],
          "histogram2dcontour": [
           {
            "colorbar": {
             "outlinewidth": 0,
             "ticks": ""
            },
            "colorscale": [
             [
              0,
              "#0d0887"
             ],
             [
              0.1111111111111111,
              "#46039f"
             ],
             [
              0.2222222222222222,
              "#7201a8"
             ],
             [
              0.3333333333333333,
              "#9c179e"
             ],
             [
              0.4444444444444444,
              "#bd3786"
             ],
             [
              0.5555555555555556,
              "#d8576b"
             ],
             [
              0.6666666666666666,
              "#ed7953"
             ],
             [
              0.7777777777777778,
              "#fb9f3a"
             ],
             [
              0.8888888888888888,
              "#fdca26"
             ],
             [
              1,
              "#f0f921"
             ]
            ],
            "type": "histogram2dcontour"
           }
          ],
          "mesh3d": [
           {
            "colorbar": {
             "outlinewidth": 0,
             "ticks": ""
            },
            "type": "mesh3d"
           }
          ],
          "parcoords": [
           {
            "line": {
             "colorbar": {
              "outlinewidth": 0,
              "ticks": ""
             }
            },
            "type": "parcoords"
           }
          ],
          "pie": [
           {
            "automargin": true,
            "type": "pie"
           }
          ],
          "scatter": [
           {
            "fillpattern": {
             "fillmode": "overlay",
             "size": 10,
             "solidity": 0.2
            },
            "type": "scatter"
           }
          ],
          "scatter3d": [
           {
            "line": {
             "colorbar": {
              "outlinewidth": 0,
              "ticks": ""
             }
            },
            "marker": {
             "colorbar": {
              "outlinewidth": 0,
              "ticks": ""
             }
            },
            "type": "scatter3d"
           }
          ],
          "scattercarpet": [
           {
            "marker": {
             "colorbar": {
              "outlinewidth": 0,
              "ticks": ""
             }
            },
            "type": "scattercarpet"
           }
          ],
          "scattergeo": [
           {
            "marker": {
             "colorbar": {
              "outlinewidth": 0,
              "ticks": ""
             }
            },
            "type": "scattergeo"
           }
          ],
          "scattergl": [
           {
            "marker": {
             "colorbar": {
              "outlinewidth": 0,
              "ticks": ""
             }
            },
            "type": "scattergl"
           }
          ],
          "scattermap": [
           {
            "marker": {
             "colorbar": {
              "outlinewidth": 0,
              "ticks": ""
             }
            },
            "type": "scattermap"
           }
          ],
          "scattermapbox": [
           {
            "marker": {
             "colorbar": {
              "outlinewidth": 0,
              "ticks": ""
             }
            },
            "type": "scattermapbox"
           }
          ],
          "scatterpolar": [
           {
            "marker": {
             "colorbar": {
              "outlinewidth": 0,
              "ticks": ""
             }
            },
            "type": "scatterpolar"
           }
          ],
          "scatterpolargl": [
           {
            "marker": {
             "colorbar": {
              "outlinewidth": 0,
              "ticks": ""
             }
            },
            "type": "scatterpolargl"
           }
          ],
          "scatterternary": [
           {
            "marker": {
             "colorbar": {
              "outlinewidth": 0,
              "ticks": ""
             }
            },
            "type": "scatterternary"
           }
          ],
          "surface": [
           {
            "colorbar": {
             "outlinewidth": 0,
             "ticks": ""
            },
            "colorscale": [
             [
              0,
              "#0d0887"
             ],
             [
              0.1111111111111111,
              "#46039f"
             ],
             [
              0.2222222222222222,
              "#7201a8"
             ],
             [
              0.3333333333333333,
              "#9c179e"
             ],
             [
              0.4444444444444444,
              "#bd3786"
             ],
             [
              0.5555555555555556,
              "#d8576b"
             ],
             [
              0.6666666666666666,
              "#ed7953"
             ],
             [
              0.7777777777777778,
              "#fb9f3a"
             ],
             [
              0.8888888888888888,
              "#fdca26"
             ],
             [
              1,
              "#f0f921"
             ]
            ],
            "type": "surface"
           }
          ],
          "table": [
           {
            "cells": {
             "fill": {
              "color": "#EBF0F8"
             },
             "line": {
              "color": "white"
             }
            },
            "header": {
             "fill": {
              "color": "#C8D4E3"
             },
             "line": {
              "color": "white"
             }
            },
            "type": "table"
           }
          ]
         },
         "layout": {
          "annotationdefaults": {
           "arrowcolor": "#2a3f5f",
           "arrowhead": 0,
           "arrowwidth": 1
          },
          "autotypenumbers": "strict",
          "coloraxis": {
           "colorbar": {
            "outlinewidth": 0,
            "ticks": ""
           }
          },
          "colorscale": {
           "diverging": [
            [
             0,
             "#8e0152"
            ],
            [
             0.1,
             "#c51b7d"
            ],
            [
             0.2,
             "#de77ae"
            ],
            [
             0.3,
             "#f1b6da"
            ],
            [
             0.4,
             "#fde0ef"
            ],
            [
             0.5,
             "#f7f7f7"
            ],
            [
             0.6,
             "#e6f5d0"
            ],
            [
             0.7,
             "#b8e186"
            ],
            [
             0.8,
             "#7fbc41"
            ],
            [
             0.9,
             "#4d9221"
            ],
            [
             1,
             "#276419"
            ]
           ],
           "sequential": [
            [
             0,
             "#0d0887"
            ],
            [
             0.1111111111111111,
             "#46039f"
            ],
            [
             0.2222222222222222,
             "#7201a8"
            ],
            [
             0.3333333333333333,
             "#9c179e"
            ],
            [
             0.4444444444444444,
             "#bd3786"
            ],
            [
             0.5555555555555556,
             "#d8576b"
            ],
            [
             0.6666666666666666,
             "#ed7953"
            ],
            [
             0.7777777777777778,
             "#fb9f3a"
            ],
            [
             0.8888888888888888,
             "#fdca26"
            ],
            [
             1,
             "#f0f921"
            ]
           ],
           "sequentialminus": [
            [
             0,
             "#0d0887"
            ],
            [
             0.1111111111111111,
             "#46039f"
            ],
            [
             0.2222222222222222,
             "#7201a8"
            ],
            [
             0.3333333333333333,
             "#9c179e"
            ],
            [
             0.4444444444444444,
             "#bd3786"
            ],
            [
             0.5555555555555556,
             "#d8576b"
            ],
            [
             0.6666666666666666,
             "#ed7953"
            ],
            [
             0.7777777777777778,
             "#fb9f3a"
            ],
            [
             0.8888888888888888,
             "#fdca26"
            ],
            [
             1,
             "#f0f921"
            ]
           ]
          },
          "colorway": [
           "#636efa",
           "#EF553B",
           "#00cc96",
           "#ab63fa",
           "#FFA15A",
           "#19d3f3",
           "#FF6692",
           "#B6E880",
           "#FF97FF",
           "#FECB52"
          ],
          "font": {
           "color": "#2a3f5f"
          },
          "geo": {
           "bgcolor": "white",
           "lakecolor": "white",
           "landcolor": "white",
           "showlakes": true,
           "showland": true,
           "subunitcolor": "#C8D4E3"
          },
          "hoverlabel": {
           "align": "left"
          },
          "hovermode": "closest",
          "mapbox": {
           "style": "light"
          },
          "paper_bgcolor": "white",
          "plot_bgcolor": "white",
          "polar": {
           "angularaxis": {
            "gridcolor": "#EBF0F8",
            "linecolor": "#EBF0F8",
            "ticks": ""
           },
           "bgcolor": "white",
           "radialaxis": {
            "gridcolor": "#EBF0F8",
            "linecolor": "#EBF0F8",
            "ticks": ""
           }
          },
          "scene": {
           "xaxis": {
            "backgroundcolor": "white",
            "gridcolor": "#DFE8F3",
            "gridwidth": 2,
            "linecolor": "#EBF0F8",
            "showbackground": true,
            "ticks": "",
            "zerolinecolor": "#EBF0F8"
           },
           "yaxis": {
            "backgroundcolor": "white",
            "gridcolor": "#DFE8F3",
            "gridwidth": 2,
            "linecolor": "#EBF0F8",
            "showbackground": true,
            "ticks": "",
            "zerolinecolor": "#EBF0F8"
           },
           "zaxis": {
            "backgroundcolor": "white",
            "gridcolor": "#DFE8F3",
            "gridwidth": 2,
            "linecolor": "#EBF0F8",
            "showbackground": true,
            "ticks": "",
            "zerolinecolor": "#EBF0F8"
           }
          },
          "shapedefaults": {
           "line": {
            "color": "#2a3f5f"
           }
          },
          "ternary": {
           "aaxis": {
            "gridcolor": "#DFE8F3",
            "linecolor": "#A2B1C6",
            "ticks": ""
           },
           "baxis": {
            "gridcolor": "#DFE8F3",
            "linecolor": "#A2B1C6",
            "ticks": ""
           },
           "bgcolor": "white",
           "caxis": {
            "gridcolor": "#DFE8F3",
            "linecolor": "#A2B1C6",
            "ticks": ""
           }
          },
          "title": {
           "x": 0.05
          },
          "xaxis": {
           "automargin": true,
           "gridcolor": "#EBF0F8",
           "linecolor": "#EBF0F8",
           "ticks": "",
           "title": {
            "standoff": 15
           },
           "zerolinecolor": "#EBF0F8",
           "zerolinewidth": 2
          },
          "yaxis": {
           "automargin": true,
           "gridcolor": "#EBF0F8",
           "linecolor": "#EBF0F8",
           "ticks": "",
           "title": {
            "standoff": 15
           },
           "zerolinecolor": "#EBF0F8",
           "zerolinewidth": 2
          }
         }
        },
        "width": 1600,
        "yaxis": {
         "title": {
          "font": {
           "size": 23
          },
          "text": "Normalised SID = SID / Number of Edges in DAG"
         }
        }
       }
      }
     },
     "metadata": {},
     "output_type": "display_data"
    },
    {
     "data": {
      "application/vnd.plotly.v1+json": {
       "config": {
        "plotlyServerURL": "https://plot.ly"
       },
       "data": [
        {
         "error_y": {
          "array": [
           0.22,
           0.16,
           0.16,
           0.11,
           0.08
          ],
          "type": "data",
          "visible": true
         },
         "marker": {
          "color": "#7f7f7f"
         },
         "name": "Random",
         "offsetgroup": "0",
         "opacity": 0.6,
         "showlegend": true,
         "type": "bar",
         "x": [
          "CANCER<br> |V|=5, |E|=4",
          "EARTHQUAKE<br> |V|=5, |E|=4",
          "SURVEY<br> |V|=6, |E|=6",
          "ASIA<br> |V|=8, |E|=8",
          "SACHS<br> |V|=11, |E|=17"
         ],
         "y": [
          0.2,
          0.17,
          0.24,
          0.14,
          0.16
         ],
         "yaxis": "y"
        },
        {
         "error_y": {
          "array": [
           0.08,
           0.06,
           0.16,
           0.05,
           0.04
          ],
          "type": "data",
          "visible": true
         },
         "marker": {
          "color": "#b85c00"
         },
         "name": "FGS",
         "offsetgroup": "1",
         "opacity": 0.6,
         "showlegend": true,
         "type": "bar",
         "x": [
          "CANCER<br> |V|=5, |E|=4",
          "EARTHQUAKE<br> |V|=5, |E|=4",
          "SURVEY<br> |V|=6, |E|=6",
          "ASIA<br> |V|=8, |E|=8",
          "SACHS<br> |V|=11, |E|=17"
         ],
         "y": [
          0.45,
          0.44,
          0.4,
          0.25,
          0.14
         ],
         "yaxis": "y"
        },
        {
         "error_y": {
          "array": [
           0.5,
           0.27,
           null,
           0.2,
           0.19
          ],
          "type": "data",
          "visible": true
         },
         "marker": {
          "color": "#0085CA"
         },
         "name": "NOTEARS-MLP",
         "offsetgroup": "2",
         "opacity": 0.6,
         "showlegend": true,
         "type": "bar",
         "x": [
          "CANCER<br> |V|=5, |E|=4",
          "EARTHQUAKE<br> |V|=5, |E|=4",
          "SURVEY<br> |V|=6, |E|=6",
          "ASIA<br> |V|=8, |E|=8",
          "SACHS<br> |V|=11, |E|=17"
         ],
         "y": [
          0.25,
          0.5,
          null,
          0.31,
          0.6
         ],
         "yaxis": "y"
        },
        {
         "error_y": {
          "array": [
           0.24,
           0.11,
           null,
           0.06
          ],
          "type": "data",
          "visible": true
         },
         "marker": {
          "color": "#379f9f"
         },
         "name": "MPC",
         "offsetgroup": "3",
         "opacity": 0.6,
         "showlegend": true,
         "type": "bar",
         "x": [
          "CANCER<br> |V|=5, |E|=4",
          "EARTHQUAKE<br> |V|=5, |E|=4",
          "SURVEY<br> |V|=6, |E|=6",
          "ASIA<br> |V|=8, |E|=8"
         ],
         "y": [
          0.35,
          0.87,
          0.4,
          0.99
         ],
         "yaxis": "y"
        },
        {
         "error_y": {
          "array": [
           0.1975614154631885,
           0.27193002158823804,
           0.08002550613806242,
           0.11454928634559759,
           0.15192298936075604
          ],
          "type": "data",
          "visible": true
         },
         "marker": {
          "color": "#bcbd22"
         },
         "name": "ABAPC",
         "offsetgroup": "4",
         "opacity": 0.6,
         "showlegend": true,
         "type": "bar",
         "x": [
          "ASIA<br> |V|=8, |E|=8",
          "CANCER<br> |V|=5, |E|=4",
          "EARTHQUAKE<br> |V|=5, |E|=4",
          "SACHS<br> |V|=11, |E|=17",
          "SURVEY<br> |V|=6, |E|=6"
         ],
         "y": [
          0.6761133333333333,
          0.5563372,
          0.982,
          0.7284124,
          0.5151672
         ],
         "yaxis": "y"
        },
        {
         "error_y": {
          "array": [
           null,
           null,
           null,
           null,
           null,
           null
          ],
          "type": "data",
          "visible": true
         },
         "marker": {
          "color": "#e377c2"
         },
         "name": "LLM-BFS",
         "offsetgroup": "5",
         "opacity": 0.6,
         "showlegend": true,
         "type": "bar",
         "x": [
          "ASIA<br> |V|=8, |E|=8",
          "CANCER<br> |V|=5, |E|=4",
          "CHILD<br> |V|=20, |E|=25",
          "EARTHQUAKE<br> |V|=5, |E|=4",
          "SACHS<br> |V|=11, |E|=17",
          "SURVEY<br> |V|=6, |E|=6"
         ],
         "y": [
          0.6154,
          0.5,
          0.2419,
          0.5,
          0.3125,
          0.5
         ],
         "yaxis": "y"
        },
        {
         "error_y": {
          "array": [
           0.03958973274443148,
           0.028284271247461888,
           0.052304056111493746,
           0.06844741728673541,
           0.16507967321384553
          ],
          "type": "data",
          "visible": true
         },
         "marker": {
          "color": "#441469"
         },
         "name": "ABAPC-LLM",
         "offsetgroup": "6",
         "opacity": 0.6,
         "showlegend": true,
         "type": "bar",
         "x": [
          "ASIA<br> |V|=8, |E|=8",
          "CANCER<br> |V|=5, |E|=4",
          "EARTHQUAKE<br> |V|=5, |E|=4",
          "SACHS<br> |V|=11, |E|=17",
          "SURVEY<br> |V|=6, |E|=6"
         ],
         "y": [
          0.992,
          0.996,
          0.987,
          0.7641711999999999,
          0.612003
         ],
         "yaxis": "y"
        },
        {
         "marker": {
          "color": "white"
         },
         "name": "",
         "offsetgroup": "7",
         "opacity": 1,
         "showlegend": false,
         "type": "bar",
         "x": [
          "ASIA<br> |V|=8, |E|=8",
          "CANCER<br> |V|=5, |E|=4",
          "EARTHQUAKE<br> |V|=5, |E|=4",
          "SACHS<br> |V|=11, |E|=17",
          "SURVEY<br> |V|=6, |E|=6"
         ],
         "y": {
          "bdata": "AAAAAAAAAAAAAAAAAAAAAAAAAAAAAAAAAAAAAAAAAAAAAAAAAAAAAA==",
          "dtype": "f8"
         }
        },
        {
         "error_y": {
          "array": [
           0.22,
           0.16,
           0.16,
           0.11,
           0.08
          ],
          "type": "data",
          "visible": true
         },
         "marker": {
          "color": "#7f7f7f"
         },
         "name": "Random",
         "offsetgroup": "8",
         "opacity": 0.6,
         "showlegend": false,
         "type": "bar",
         "x": [
          "CANCER<br> |V|=5, |E|=4",
          "EARTHQUAKE<br> |V|=5, |E|=4",
          "SURVEY<br> |V|=6, |E|=6",
          "ASIA<br> |V|=8, |E|=8",
          "SACHS<br> |V|=11, |E|=17"
         ],
         "y": [
          0.2,
          0.17,
          0.24,
          0.14,
          0.16
         ],
         "yaxis": "y2"
        },
        {
         "error_y": {
          "array": [
           0.12,
           0,
           0.08,
           0.03,
           0.04
          ],
          "type": "data",
          "visible": true
         },
         "marker": {
          "color": "#b85c00"
         },
         "name": "FGS",
         "offsetgroup": "9",
         "opacity": 0.6,
         "showlegend": false,
         "type": "bar",
         "x": [
          "CANCER<br> |V|=5, |E|=4",
          "EARTHQUAKE<br> |V|=5, |E|=4",
          "SURVEY<br> |V|=6, |E|=6",
          "ASIA<br> |V|=8, |E|=8",
          "SACHS<br> |V|=11, |E|=17"
         ],
         "y": [
          0.42,
          0.5,
          0.21,
          0.24,
          0.13
         ],
         "yaxis": "y2"
        },
        {
         "error_y": {
          "array": [
           0.04,
           0.28,
           0,
           0.16,
           0.07
          ],
          "type": "data",
          "visible": true
         },
         "marker": {
          "color": "#0085CA"
         },
         "name": "NOTEARS-MLP",
         "offsetgroup": "10",
         "opacity": 0.6,
         "showlegend": false,
         "type": "bar",
         "x": [
          "CANCER<br> |V|=5, |E|=4",
          "EARTHQUAKE<br> |V|=5, |E|=4",
          "SURVEY<br> |V|=6, |E|=6",
          "ASIA<br> |V|=8, |E|=8",
          "SACHS<br> |V|=11, |E|=17"
         ],
         "y": [
          0,
          0.5,
          0,
          0.23,
          0.2
         ],
         "yaxis": "y2"
        },
        {
         "error_y": {
          "array": [
           0.12,
           0.05,
           0.05,
           0.1
          ],
          "type": "data",
          "visible": true
         },
         "marker": {
          "color": "#379f9f"
         },
         "name": "MPC",
         "offsetgroup": "11",
         "opacity": 0.6,
         "showlegend": false,
         "type": "bar",
         "x": [
          "CANCER<br> |V|=5, |E|=4",
          "EARTHQUAKE<br> |V|=5, |E|=4",
          "SURVEY<br> |V|=6, |E|=6",
          "ASIA<br> |V|=8, |E|=8"
         ],
         "y": [
          0.03,
          0.99,
          0.01,
          0.39
         ],
         "yaxis": "y2"
        },
        {
         "error_y": {
          "array": [
           0.12811869142701438,
           0.27613448734636675,
           0.07071067811865474,
           0.11294481910478345,
           0.16637266600308798
          ],
          "type": "data",
          "visible": true
         },
         "marker": {
          "color": "#bcbd22"
         },
         "name": "ABAPC",
         "offsetgroup": "12",
         "opacity": 0.6,
         "showlegend": false,
         "type": "bar",
         "x": [
          "ASIA<br> |V|=8, |E|=8",
          "CANCER<br> |V|=5, |E|=4",
          "EARTHQUAKE<br> |V|=5, |E|=4",
          "SACHS<br> |V|=11, |E|=17",
          "SURVEY<br> |V|=6, |E|=6"
         ],
         "y": [
          0.37,
          0.47850000000000004,
          0.99,
          0.7011792,
          0.39288379999999995
         ],
         "yaxis": "y2"
        },
        {
         "error_y": {
          "array": [
           null,
           null,
           null,
           null,
           null,
           null
          ],
          "type": "data",
          "visible": true
         },
         "marker": {
          "color": "#e377c2"
         },
         "name": "LLM-BFS",
         "offsetgroup": "13",
         "opacity": 0.6,
         "showlegend": false,
         "type": "bar",
         "x": [
          "ASIA<br> |V|=8, |E|=8",
          "CANCER<br> |V|=5, |E|=4",
          "CHILD<br> |V|=20, |E|=25",
          "EARTHQUAKE<br> |V|=5, |E|=4",
          "SACHS<br> |V|=11, |E|=17",
          "SURVEY<br> |V|=6, |E|=6"
         ],
         "y": [
          1,
          1,
          0.6,
          1,
          0.2941,
          1
         ],
         "yaxis": "y2"
        },
        {
         "error_y": {
          "array": [
           0.07910734440477388,
           0.14820352800890307,
           0.03535533905932737,
           0.07643707629154847,
           0.15473962765527588
          ],
          "type": "data",
          "visible": true
         },
         "marker": {
          "color": "#441469"
         },
         "name": "ABAPC-LLM",
         "offsetgroup": "14",
         "opacity": 0.6,
         "showlegend": false,
         "type": "bar",
         "x": [
          "ASIA<br> |V|=8, |E|=8",
          "CANCER<br> |V|=5, |E|=4",
          "EARTHQUAKE<br> |V|=5, |E|=4",
          "SACHS<br> |V|=11, |E|=17",
          "SURVEY<br> |V|=6, |E|=6"
         ],
         "y": [
          0.55625,
          0.835,
          0.995,
          0.7468292,
          0.457219
         ],
         "yaxis": "y2"
        }
       ],
       "layout": {
        "annotations": [
         {
          "font": {
           "color": "black",
           "size": 23
          },
          "showarrow": false,
          "text": "      Precision      ",
          "x": 0.04375,
          "xanchor": "center",
          "xref": "x domain",
          "y": 1.07,
          "yanchor": "middle",
          "yref": "y domain"
         },
         {
          "font": {
           "color": "black",
           "size": 23
          },
          "showarrow": false,
          "text": "        Recall        ",
          "x": 0.12291666666666666,
          "xanchor": "center",
          "xref": "x domain",
          "y": 1.07,
          "yanchor": "middle",
          "yref": "y domain"
         },
         {
          "font": {
           "color": "black",
           "size": 23
          },
          "showarrow": false,
          "text": "      Precision      ",
          "x": 0.21041666666666664,
          "xanchor": "center",
          "xref": "x domain",
          "y": 1.07,
          "yanchor": "middle",
          "yref": "y domain"
         },
         {
          "font": {
           "color": "black",
           "size": 23
          },
          "showarrow": false,
          "text": "        Recall        ",
          "x": 0.2895833333333333,
          "xanchor": "center",
          "xref": "x domain",
          "y": 1.07,
          "yanchor": "middle",
          "yref": "y domain"
         },
         {
          "font": {
           "color": "black",
           "size": 23
          },
          "showarrow": false,
          "text": "      Precision      ",
          "x": 0.3770833333333333,
          "xanchor": "center",
          "xref": "x domain",
          "y": 1.07,
          "yanchor": "middle",
          "yref": "y domain"
         },
         {
          "font": {
           "color": "black",
           "size": 23
          },
          "showarrow": false,
          "text": "        Recall        ",
          "x": 0.45624999999999993,
          "xanchor": "center",
          "xref": "x domain",
          "y": 1.07,
          "yanchor": "middle",
          "yref": "y domain"
         },
         {
          "font": {
           "color": "black",
           "size": 23
          },
          "showarrow": false,
          "text": "      Precision      ",
          "x": 0.54375,
          "xanchor": "center",
          "xref": "x domain",
          "y": 1.07,
          "yanchor": "middle",
          "yref": "y domain"
         },
         {
          "font": {
           "color": "black",
           "size": 23
          },
          "showarrow": false,
          "text": "        Recall        ",
          "x": 0.6229166666666666,
          "xanchor": "center",
          "xref": "x domain",
          "y": 1.07,
          "yanchor": "middle",
          "yref": "y domain"
         },
         {
          "font": {
           "color": "black",
           "size": 23
          },
          "showarrow": false,
          "text": "      Precision      ",
          "x": 0.7104166666666667,
          "xanchor": "center",
          "xref": "x domain",
          "y": 1.07,
          "yanchor": "middle",
          "yref": "y domain"
         },
         {
          "font": {
           "color": "black",
           "size": 23
          },
          "showarrow": false,
          "text": "        Recall        ",
          "x": 0.7895833333333333,
          "xanchor": "center",
          "xref": "x domain",
          "y": 1.07,
          "yanchor": "middle",
          "yref": "y domain"
         },
         {
          "font": {
           "color": "black",
           "size": 23
          },
          "showarrow": false,
          "text": "      Precision      ",
          "x": 0.8770833333333332,
          "xanchor": "center",
          "xref": "x domain",
          "y": 1.07,
          "yanchor": "middle",
          "yref": "y domain"
         },
         {
          "font": {
           "color": "black",
           "size": 23
          },
          "showarrow": false,
          "text": "        Recall        ",
          "x": 0.9562499999999998,
          "xanchor": "center",
          "xref": "x domain",
          "y": 1.07,
          "yanchor": "middle",
          "yref": "y domain"
         }
        ],
        "bargap": 0.08,
        "bargroupgap": 0.05,
        "barmode": "group",
        "font": {
         "color": "black",
         "family": "Serif",
         "size": 23
        },
        "height": 700,
        "hovermode": "x unified",
        "legend": {
         "orientation": "h",
         "x": 0.5,
         "xanchor": "center",
         "y": 1.23,
         "yanchor": "top"
        },
        "margin": {
         "b": 70,
         "l": 40,
         "r": 40,
         "t": 80
        },
        "shapes": [
         {
          "fillcolor": "#E5ECF6",
          "layer": "below",
          "line": {
           "color": "#E5ECF6",
           "width": 2
          },
          "type": "rect",
          "x0": 0,
          "x1": 0.09083333333333334,
          "xref": "x domain",
          "y0": 1.04,
          "y1": 1.1,
          "yref": "y domain"
         },
         {
          "fillcolor": "#E5ECF6",
          "layer": "below",
          "line": {
           "color": "#E5ECF6",
           "width": 2
          },
          "type": "rect",
          "x0": 0.07583333333333332,
          "x1": 0.16999999999999998,
          "xref": "x domain",
          "y0": 1.04,
          "y1": 1.1,
          "yref": "y domain"
         },
         {
          "fillcolor": "#E5ECF6",
          "layer": "below",
          "line": {
           "color": "#E5ECF6",
           "width": 2
          },
          "type": "rect",
          "x0": 0.16333333333333333,
          "x1": 0.2575,
          "xref": "x domain",
          "y0": 1.04,
          "y1": 1.1,
          "yref": "y domain"
         },
         {
          "fillcolor": "#E5ECF6",
          "layer": "below",
          "line": {
           "color": "#E5ECF6",
           "width": 2
          },
          "type": "rect",
          "x0": 0.24249999999999997,
          "x1": 0.33666666666666667,
          "xref": "x domain",
          "y0": 1.04,
          "y1": 1.1,
          "yref": "y domain"
         },
         {
          "fillcolor": "#E5ECF6",
          "layer": "below",
          "line": {
           "color": "#E5ECF6",
           "width": 2
          },
          "type": "rect",
          "x0": 0.32999999999999996,
          "x1": 0.4241666666666667,
          "xref": "x domain",
          "y0": 1.04,
          "y1": 1.1,
          "yref": "y domain"
         },
         {
          "fillcolor": "#E5ECF6",
          "layer": "below",
          "line": {
           "color": "#E5ECF6",
           "width": 2
          },
          "type": "rect",
          "x0": 0.4091666666666666,
          "x1": 0.5033333333333333,
          "xref": "x domain",
          "y0": 1.04,
          "y1": 1.1,
          "yref": "y domain"
         },
         {
          "fillcolor": "#E5ECF6",
          "layer": "below",
          "line": {
           "color": "#E5ECF6",
           "width": 2
          },
          "type": "rect",
          "x0": 0.4966666666666666,
          "x1": 0.5908333333333333,
          "xref": "x domain",
          "y0": 1.04,
          "y1": 1.1,
          "yref": "y domain"
         },
         {
          "fillcolor": "#E5ECF6",
          "layer": "below",
          "line": {
           "color": "#E5ECF6",
           "width": 2
          },
          "type": "rect",
          "x0": 0.5758333333333332,
          "x1": 0.6699999999999999,
          "xref": "x domain",
          "y0": 1.04,
          "y1": 1.1,
          "yref": "y domain"
         },
         {
          "fillcolor": "#E5ECF6",
          "layer": "below",
          "line": {
           "color": "#E5ECF6",
           "width": 2
          },
          "type": "rect",
          "x0": 0.6633333333333333,
          "x1": 0.7575000000000001,
          "xref": "x domain",
          "y0": 1.04,
          "y1": 1.1,
          "yref": "y domain"
         },
         {
          "fillcolor": "#E5ECF6",
          "layer": "below",
          "line": {
           "color": "#E5ECF6",
           "width": 2
          },
          "type": "rect",
          "x0": 0.7424999999999999,
          "x1": 0.8366666666666667,
          "xref": "x domain",
          "y0": 1.04,
          "y1": 1.1,
          "yref": "y domain"
         },
         {
          "fillcolor": "#E5ECF6",
          "layer": "below",
          "line": {
           "color": "#E5ECF6",
           "width": 2
          },
          "type": "rect",
          "x0": 0.8299999999999998,
          "x1": 0.9241666666666666,
          "xref": "x domain",
          "y0": 1.04,
          "y1": 1.1,
          "yref": "y domain"
         },
         {
          "fillcolor": "#E5ECF6",
          "layer": "below",
          "line": {
           "color": "#E5ECF6",
           "width": 2
          },
          "type": "rect",
          "x0": 0.9091666666666665,
          "x1": 1,
          "xref": "x domain",
          "y0": 1.04,
          "y1": 1.1,
          "yref": "y domain"
         }
        ],
        "template": {
         "data": {
          "bar": [
           {
            "error_x": {
             "color": "#2a3f5f"
            },
            "error_y": {
             "color": "#2a3f5f"
            },
            "marker": {
             "line": {
              "color": "white",
              "width": 0.5
             },
             "pattern": {
              "fillmode": "overlay",
              "size": 10,
              "solidity": 0.2
             }
            },
            "type": "bar"
           }
          ],
          "barpolar": [
           {
            "marker": {
             "line": {
              "color": "white",
              "width": 0.5
             },
             "pattern": {
              "fillmode": "overlay",
              "size": 10,
              "solidity": 0.2
             }
            },
            "type": "barpolar"
           }
          ],
          "carpet": [
           {
            "aaxis": {
             "endlinecolor": "#2a3f5f",
             "gridcolor": "#C8D4E3",
             "linecolor": "#C8D4E3",
             "minorgridcolor": "#C8D4E3",
             "startlinecolor": "#2a3f5f"
            },
            "baxis": {
             "endlinecolor": "#2a3f5f",
             "gridcolor": "#C8D4E3",
             "linecolor": "#C8D4E3",
             "minorgridcolor": "#C8D4E3",
             "startlinecolor": "#2a3f5f"
            },
            "type": "carpet"
           }
          ],
          "choropleth": [
           {
            "colorbar": {
             "outlinewidth": 0,
             "ticks": ""
            },
            "type": "choropleth"
           }
          ],
          "contour": [
           {
            "colorbar": {
             "outlinewidth": 0,
             "ticks": ""
            },
            "colorscale": [
             [
              0,
              "#0d0887"
             ],
             [
              0.1111111111111111,
              "#46039f"
             ],
             [
              0.2222222222222222,
              "#7201a8"
             ],
             [
              0.3333333333333333,
              "#9c179e"
             ],
             [
              0.4444444444444444,
              "#bd3786"
             ],
             [
              0.5555555555555556,
              "#d8576b"
             ],
             [
              0.6666666666666666,
              "#ed7953"
             ],
             [
              0.7777777777777778,
              "#fb9f3a"
             ],
             [
              0.8888888888888888,
              "#fdca26"
             ],
             [
              1,
              "#f0f921"
             ]
            ],
            "type": "contour"
           }
          ],
          "contourcarpet": [
           {
            "colorbar": {
             "outlinewidth": 0,
             "ticks": ""
            },
            "type": "contourcarpet"
           }
          ],
          "heatmap": [
           {
            "colorbar": {
             "outlinewidth": 0,
             "ticks": ""
            },
            "colorscale": [
             [
              0,
              "#0d0887"
             ],
             [
              0.1111111111111111,
              "#46039f"
             ],
             [
              0.2222222222222222,
              "#7201a8"
             ],
             [
              0.3333333333333333,
              "#9c179e"
             ],
             [
              0.4444444444444444,
              "#bd3786"
             ],
             [
              0.5555555555555556,
              "#d8576b"
             ],
             [
              0.6666666666666666,
              "#ed7953"
             ],
             [
              0.7777777777777778,
              "#fb9f3a"
             ],
             [
              0.8888888888888888,
              "#fdca26"
             ],
             [
              1,
              "#f0f921"
             ]
            ],
            "type": "heatmap"
           }
          ],
          "histogram": [
           {
            "marker": {
             "pattern": {
              "fillmode": "overlay",
              "size": 10,
              "solidity": 0.2
             }
            },
            "type": "histogram"
           }
          ],
          "histogram2d": [
           {
            "colorbar": {
             "outlinewidth": 0,
             "ticks": ""
            },
            "colorscale": [
             [
              0,
              "#0d0887"
             ],
             [
              0.1111111111111111,
              "#46039f"
             ],
             [
              0.2222222222222222,
              "#7201a8"
             ],
             [
              0.3333333333333333,
              "#9c179e"
             ],
             [
              0.4444444444444444,
              "#bd3786"
             ],
             [
              0.5555555555555556,
              "#d8576b"
             ],
             [
              0.6666666666666666,
              "#ed7953"
             ],
             [
              0.7777777777777778,
              "#fb9f3a"
             ],
             [
              0.8888888888888888,
              "#fdca26"
             ],
             [
              1,
              "#f0f921"
             ]
            ],
            "type": "histogram2d"
           }
          ],
          "histogram2dcontour": [
           {
            "colorbar": {
             "outlinewidth": 0,
             "ticks": ""
            },
            "colorscale": [
             [
              0,
              "#0d0887"
             ],
             [
              0.1111111111111111,
              "#46039f"
             ],
             [
              0.2222222222222222,
              "#7201a8"
             ],
             [
              0.3333333333333333,
              "#9c179e"
             ],
             [
              0.4444444444444444,
              "#bd3786"
             ],
             [
              0.5555555555555556,
              "#d8576b"
             ],
             [
              0.6666666666666666,
              "#ed7953"
             ],
             [
              0.7777777777777778,
              "#fb9f3a"
             ],
             [
              0.8888888888888888,
              "#fdca26"
             ],
             [
              1,
              "#f0f921"
             ]
            ],
            "type": "histogram2dcontour"
           }
          ],
          "mesh3d": [
           {
            "colorbar": {
             "outlinewidth": 0,
             "ticks": ""
            },
            "type": "mesh3d"
           }
          ],
          "parcoords": [
           {
            "line": {
             "colorbar": {
              "outlinewidth": 0,
              "ticks": ""
             }
            },
            "type": "parcoords"
           }
          ],
          "pie": [
           {
            "automargin": true,
            "type": "pie"
           }
          ],
          "scatter": [
           {
            "fillpattern": {
             "fillmode": "overlay",
             "size": 10,
             "solidity": 0.2
            },
            "type": "scatter"
           }
          ],
          "scatter3d": [
           {
            "line": {
             "colorbar": {
              "outlinewidth": 0,
              "ticks": ""
             }
            },
            "marker": {
             "colorbar": {
              "outlinewidth": 0,
              "ticks": ""
             }
            },
            "type": "scatter3d"
           }
          ],
          "scattercarpet": [
           {
            "marker": {
             "colorbar": {
              "outlinewidth": 0,
              "ticks": ""
             }
            },
            "type": "scattercarpet"
           }
          ],
          "scattergeo": [
           {
            "marker": {
             "colorbar": {
              "outlinewidth": 0,
              "ticks": ""
             }
            },
            "type": "scattergeo"
           }
          ],
          "scattergl": [
           {
            "marker": {
             "colorbar": {
              "outlinewidth": 0,
              "ticks": ""
             }
            },
            "type": "scattergl"
           }
          ],
          "scattermap": [
           {
            "marker": {
             "colorbar": {
              "outlinewidth": 0,
              "ticks": ""
             }
            },
            "type": "scattermap"
           }
          ],
          "scattermapbox": [
           {
            "marker": {
             "colorbar": {
              "outlinewidth": 0,
              "ticks": ""
             }
            },
            "type": "scattermapbox"
           }
          ],
          "scatterpolar": [
           {
            "marker": {
             "colorbar": {
              "outlinewidth": 0,
              "ticks": ""
             }
            },
            "type": "scatterpolar"
           }
          ],
          "scatterpolargl": [
           {
            "marker": {
             "colorbar": {
              "outlinewidth": 0,
              "ticks": ""
             }
            },
            "type": "scatterpolargl"
           }
          ],
          "scatterternary": [
           {
            "marker": {
             "colorbar": {
              "outlinewidth": 0,
              "ticks": ""
             }
            },
            "type": "scatterternary"
           }
          ],
          "surface": [
           {
            "colorbar": {
             "outlinewidth": 0,
             "ticks": ""
            },
            "colorscale": [
             [
              0,
              "#0d0887"
             ],
             [
              0.1111111111111111,
              "#46039f"
             ],
             [
              0.2222222222222222,
              "#7201a8"
             ],
             [
              0.3333333333333333,
              "#9c179e"
             ],
             [
              0.4444444444444444,
              "#bd3786"
             ],
             [
              0.5555555555555556,
              "#d8576b"
             ],
             [
              0.6666666666666666,
              "#ed7953"
             ],
             [
              0.7777777777777778,
              "#fb9f3a"
             ],
             [
              0.8888888888888888,
              "#fdca26"
             ],
             [
              1,
              "#f0f921"
             ]
            ],
            "type": "surface"
           }
          ],
          "table": [
           {
            "cells": {
             "fill": {
              "color": "#EBF0F8"
             },
             "line": {
              "color": "white"
             }
            },
            "header": {
             "fill": {
              "color": "#C8D4E3"
             },
             "line": {
              "color": "white"
             }
            },
            "type": "table"
           }
          ]
         },
         "layout": {
          "annotationdefaults": {
           "arrowcolor": "#2a3f5f",
           "arrowhead": 0,
           "arrowwidth": 1
          },
          "autotypenumbers": "strict",
          "coloraxis": {
           "colorbar": {
            "outlinewidth": 0,
            "ticks": ""
           }
          },
          "colorscale": {
           "diverging": [
            [
             0,
             "#8e0152"
            ],
            [
             0.1,
             "#c51b7d"
            ],
            [
             0.2,
             "#de77ae"
            ],
            [
             0.3,
             "#f1b6da"
            ],
            [
             0.4,
             "#fde0ef"
            ],
            [
             0.5,
             "#f7f7f7"
            ],
            [
             0.6,
             "#e6f5d0"
            ],
            [
             0.7,
             "#b8e186"
            ],
            [
             0.8,
             "#7fbc41"
            ],
            [
             0.9,
             "#4d9221"
            ],
            [
             1,
             "#276419"
            ]
           ],
           "sequential": [
            [
             0,
             "#0d0887"
            ],
            [
             0.1111111111111111,
             "#46039f"
            ],
            [
             0.2222222222222222,
             "#7201a8"
            ],
            [
             0.3333333333333333,
             "#9c179e"
            ],
            [
             0.4444444444444444,
             "#bd3786"
            ],
            [
             0.5555555555555556,
             "#d8576b"
            ],
            [
             0.6666666666666666,
             "#ed7953"
            ],
            [
             0.7777777777777778,
             "#fb9f3a"
            ],
            [
             0.8888888888888888,
             "#fdca26"
            ],
            [
             1,
             "#f0f921"
            ]
           ],
           "sequentialminus": [
            [
             0,
             "#0d0887"
            ],
            [
             0.1111111111111111,
             "#46039f"
            ],
            [
             0.2222222222222222,
             "#7201a8"
            ],
            [
             0.3333333333333333,
             "#9c179e"
            ],
            [
             0.4444444444444444,
             "#bd3786"
            ],
            [
             0.5555555555555556,
             "#d8576b"
            ],
            [
             0.6666666666666666,
             "#ed7953"
            ],
            [
             0.7777777777777778,
             "#fb9f3a"
            ],
            [
             0.8888888888888888,
             "#fdca26"
            ],
            [
             1,
             "#f0f921"
            ]
           ]
          },
          "colorway": [
           "#636efa",
           "#EF553B",
           "#00cc96",
           "#ab63fa",
           "#FFA15A",
           "#19d3f3",
           "#FF6692",
           "#B6E880",
           "#FF97FF",
           "#FECB52"
          ],
          "font": {
           "color": "#2a3f5f"
          },
          "geo": {
           "bgcolor": "white",
           "lakecolor": "white",
           "landcolor": "white",
           "showlakes": true,
           "showland": true,
           "subunitcolor": "#C8D4E3"
          },
          "hoverlabel": {
           "align": "left"
          },
          "hovermode": "closest",
          "mapbox": {
           "style": "light"
          },
          "paper_bgcolor": "white",
          "plot_bgcolor": "white",
          "polar": {
           "angularaxis": {
            "gridcolor": "#EBF0F8",
            "linecolor": "#EBF0F8",
            "ticks": ""
           },
           "bgcolor": "white",
           "radialaxis": {
            "gridcolor": "#EBF0F8",
            "linecolor": "#EBF0F8",
            "ticks": ""
           }
          },
          "scene": {
           "xaxis": {
            "backgroundcolor": "white",
            "gridcolor": "#DFE8F3",
            "gridwidth": 2,
            "linecolor": "#EBF0F8",
            "showbackground": true,
            "ticks": "",
            "zerolinecolor": "#EBF0F8"
           },
           "yaxis": {
            "backgroundcolor": "white",
            "gridcolor": "#DFE8F3",
            "gridwidth": 2,
            "linecolor": "#EBF0F8",
            "showbackground": true,
            "ticks": "",
            "zerolinecolor": "#EBF0F8"
           },
           "zaxis": {
            "backgroundcolor": "white",
            "gridcolor": "#DFE8F3",
            "gridwidth": 2,
            "linecolor": "#EBF0F8",
            "showbackground": true,
            "ticks": "",
            "zerolinecolor": "#EBF0F8"
           }
          },
          "shapedefaults": {
           "line": {
            "color": "#2a3f5f"
           }
          },
          "ternary": {
           "aaxis": {
            "gridcolor": "#DFE8F3",
            "linecolor": "#A2B1C6",
            "ticks": ""
           },
           "baxis": {
            "gridcolor": "#DFE8F3",
            "linecolor": "#A2B1C6",
            "ticks": ""
           },
           "bgcolor": "white",
           "caxis": {
            "gridcolor": "#DFE8F3",
            "linecolor": "#A2B1C6",
            "ticks": ""
           }
          },
          "title": {
           "x": 0.05
          },
          "xaxis": {
           "automargin": true,
           "gridcolor": "#EBF0F8",
           "linecolor": "#EBF0F8",
           "ticks": "",
           "title": {
            "standoff": 15
           },
           "zerolinecolor": "#EBF0F8",
           "zerolinewidth": 2
          },
          "yaxis": {
           "automargin": true,
           "gridcolor": "#EBF0F8",
           "linecolor": "#EBF0F8",
           "ticks": "",
           "title": {
            "standoff": 15
           },
           "zerolinecolor": "#EBF0F8",
           "zerolinewidth": 2
          }
         }
        },
        "width": 1600,
        "xaxis": {
         "anchor": "y",
         "domain": [
          0,
          0.94
         ]
        },
        "yaxis": {
         "anchor": "x",
         "domain": [
          0,
          1
         ],
         "range": [
          0,
          1.3
         ],
         "title": {
          "font": {
           "size": 23
          },
          "text": "Precision"
         }
        },
        "yaxis2": {
         "anchor": "x",
         "overlaying": "y",
         "range": [
          0,
          1.3
         ],
         "scaleanchor": 0,
         "showgrid": false,
         "showline": false,
         "showticklabels": true,
         "side": "right",
         "title": {
          "font": {
           "size": 23
          },
          "text": "Recall"
         },
         "zeroline": true
        }
       }
      }
     },
     "metadata": {},
     "output_type": "display_data"
    },
    {
     "data": {
      "application/vnd.plotly.v1+json": {
       "config": {
        "plotlyServerURL": "https://plot.ly"
       },
       "data": [
        {
         "error_y": {
          "array": [
           0,
           0,
           0,
           0,
           0
          ],
          "type": "data",
          "visible": true
         },
         "marker": {
          "color": "#7f7f7f"
         },
         "name": "True Graph Size",
         "opacity": 0.6,
         "type": "bar",
         "x": [
          "CANCER<br> |V|=5, |E|=4",
          "EARTHQUAKE<br> |V|=5, |E|=4",
          "SURVEY<br> |V|=6, |E|=6",
          "ASIA<br> |V|=8, |E|=8",
          "SACHS<br> |V|=11, |E|=17"
         ],
         "y": [
          4,
          4,
          6,
          8,
          17
         ]
        },
        {
         "error_y": {
          "array": [
           0.47,
           0.64,
           0.84,
           0.77,
           1.31
          ],
          "type": "data",
          "visible": true
         },
         "marker": {
          "color": "#b85c00"
         },
         "name": "FGS",
         "opacity": 0.6,
         "type": "bar",
         "x": [
          "CANCER<br> |V|=5, |E|=4",
          "EARTHQUAKE<br> |V|=5, |E|=4",
          "SURVEY<br> |V|=6, |E|=6",
          "ASIA<br> |V|=8, |E|=8",
          "SACHS<br> |V|=11, |E|=17"
         ],
         "y": [
          3.68,
          4.62,
          3.3,
          7.68,
          15.7
         ]
        },
        {
         "error_y": {
          "array": [
           0.27,
           0.45,
           0,
           0.47,
           0.65
          ],
          "type": "data",
          "visible": true
         },
         "marker": {
          "color": "#0085CA"
         },
         "name": "NOTEARS-MLP",
         "opacity": 0.6,
         "type": "bar",
         "x": [
          "CANCER<br> |V|=5, |E|=4",
          "EARTHQUAKE<br> |V|=5, |E|=4",
          "SURVEY<br> |V|=6, |E|=6",
          "ASIA<br> |V|=8, |E|=8",
          "SACHS<br> |V|=11, |E|=17"
         ],
         "y": [
          0.08,
          4,
          0,
          5.94,
          5.7
         ]
        },
        {
         "error_y": {
          "array": [
           1.17,
           0.49,
           0.71,
           0.93
          ],
          "type": "data",
          "visible": true
         },
         "marker": {
          "color": "#379f9f"
         },
         "name": "MPC",
         "opacity": 0.6,
         "type": "bar",
         "x": [
          "CANCER<br> |V|=5, |E|=4",
          "EARTHQUAKE<br> |V|=5, |E|=4",
          "SURVEY<br> |V|=6, |E|=6",
          "ASIA<br> |V|=8, |E|=8"
         ],
         "y": [
          0.34,
          4.6,
          0.1,
          3.2
         ]
        },
        {
         "error_y": {
          "array": [
           0.9128026165497366,
           0.6311634866964149,
           0.19794866372215747,
           0.4848732213850611,
           0.9313146293146642
          ],
          "type": "data",
          "visible": true
         },
         "marker": {
          "color": "#bcbd22"
         },
         "name": "ABAPC",
         "opacity": 0.6,
         "type": "bar",
         "x": [
          "ASIA<br> |V|=8, |E|=8",
          "CANCER<br> |V|=5, |E|=4",
          "EARTHQUAKE<br> |V|=5, |E|=4",
          "SACHS<br> |V|=11, |E|=17",
          "SURVEY<br> |V|=6, |E|=6"
         ],
         "y": [
          4.3966666666666665,
          3.36,
          4.04,
          16.36,
          4.5
         ]
        },
        {
         "error_y": {
          "array": [
           null,
           null,
           null,
           null,
           null,
           null
          ],
          "type": "data",
          "visible": true
         },
         "marker": {
          "color": "#e377c2"
         },
         "name": "LLM-BFS",
         "opacity": 0.6,
         "type": "bar",
         "x": [
          "ASIA<br> |V|=8, |E|=8",
          "CANCER<br> |V|=5, |E|=4",
          "CHILD<br> |V|=20, |E|=25",
          "EARTHQUAKE<br> |V|=5, |E|=4",
          "SACHS<br> |V|=11, |E|=17",
          "SURVEY<br> |V|=6, |E|=6"
         ],
         "y": [
          13,
          8,
          62,
          8,
          16,
          12
         ]
        },
        {
         "error_y": {
          "array": [
           0.6347906612998251,
           0.6311634866964149,
           0.19794866372215747,
           0.43330716823151755,
           0.9313146293146642
          ],
          "type": "data",
          "visible": true
         },
         "marker": {
          "color": "#441469"
         },
         "name": "ABAPC-LLM",
         "opacity": 0.6,
         "type": "bar",
         "x": [
          "ASIA<br> |V|=8, |E|=8",
          "CANCER<br> |V|=5, |E|=4",
          "EARTHQUAKE<br> |V|=5, |E|=4",
          "SACHS<br> |V|=11, |E|=17",
          "SURVEY<br> |V|=6, |E|=6"
         ],
         "y": [
          4.49,
          3.36,
          4.04,
          16.6,
          4.5
         ]
        }
       ],
       "layout": {
        "bargap": 0.15,
        "bargroupgap": 0.1,
        "barmode": "group",
        "font": {
         "color": "black",
         "family": "Serif",
         "size": 23
        },
        "height": 700,
        "hovermode": "x unified",
        "legend": {
         "orientation": "h",
         "x": 0.5,
         "xanchor": "center",
         "y": 1,
         "yanchor": "top"
        },
        "margin": {
         "b": 80,
         "l": 40,
         "r": 40,
         "t": 20
        },
        "template": {
         "data": {
          "bar": [
           {
            "error_x": {
             "color": "#2a3f5f"
            },
            "error_y": {
             "color": "#2a3f5f"
            },
            "marker": {
             "line": {
              "color": "white",
              "width": 0.5
             },
             "pattern": {
              "fillmode": "overlay",
              "size": 10,
              "solidity": 0.2
             }
            },
            "type": "bar"
           }
          ],
          "barpolar": [
           {
            "marker": {
             "line": {
              "color": "white",
              "width": 0.5
             },
             "pattern": {
              "fillmode": "overlay",
              "size": 10,
              "solidity": 0.2
             }
            },
            "type": "barpolar"
           }
          ],
          "carpet": [
           {
            "aaxis": {
             "endlinecolor": "#2a3f5f",
             "gridcolor": "#C8D4E3",
             "linecolor": "#C8D4E3",
             "minorgridcolor": "#C8D4E3",
             "startlinecolor": "#2a3f5f"
            },
            "baxis": {
             "endlinecolor": "#2a3f5f",
             "gridcolor": "#C8D4E3",
             "linecolor": "#C8D4E3",
             "minorgridcolor": "#C8D4E3",
             "startlinecolor": "#2a3f5f"
            },
            "type": "carpet"
           }
          ],
          "choropleth": [
           {
            "colorbar": {
             "outlinewidth": 0,
             "ticks": ""
            },
            "type": "choropleth"
           }
          ],
          "contour": [
           {
            "colorbar": {
             "outlinewidth": 0,
             "ticks": ""
            },
            "colorscale": [
             [
              0,
              "#0d0887"
             ],
             [
              0.1111111111111111,
              "#46039f"
             ],
             [
              0.2222222222222222,
              "#7201a8"
             ],
             [
              0.3333333333333333,
              "#9c179e"
             ],
             [
              0.4444444444444444,
              "#bd3786"
             ],
             [
              0.5555555555555556,
              "#d8576b"
             ],
             [
              0.6666666666666666,
              "#ed7953"
             ],
             [
              0.7777777777777778,
              "#fb9f3a"
             ],
             [
              0.8888888888888888,
              "#fdca26"
             ],
             [
              1,
              "#f0f921"
             ]
            ],
            "type": "contour"
           }
          ],
          "contourcarpet": [
           {
            "colorbar": {
             "outlinewidth": 0,
             "ticks": ""
            },
            "type": "contourcarpet"
           }
          ],
          "heatmap": [
           {
            "colorbar": {
             "outlinewidth": 0,
             "ticks": ""
            },
            "colorscale": [
             [
              0,
              "#0d0887"
             ],
             [
              0.1111111111111111,
              "#46039f"
             ],
             [
              0.2222222222222222,
              "#7201a8"
             ],
             [
              0.3333333333333333,
              "#9c179e"
             ],
             [
              0.4444444444444444,
              "#bd3786"
             ],
             [
              0.5555555555555556,
              "#d8576b"
             ],
             [
              0.6666666666666666,
              "#ed7953"
             ],
             [
              0.7777777777777778,
              "#fb9f3a"
             ],
             [
              0.8888888888888888,
              "#fdca26"
             ],
             [
              1,
              "#f0f921"
             ]
            ],
            "type": "heatmap"
           }
          ],
          "histogram": [
           {
            "marker": {
             "pattern": {
              "fillmode": "overlay",
              "size": 10,
              "solidity": 0.2
             }
            },
            "type": "histogram"
           }
          ],
          "histogram2d": [
           {
            "colorbar": {
             "outlinewidth": 0,
             "ticks": ""
            },
            "colorscale": [
             [
              0,
              "#0d0887"
             ],
             [
              0.1111111111111111,
              "#46039f"
             ],
             [
              0.2222222222222222,
              "#7201a8"
             ],
             [
              0.3333333333333333,
              "#9c179e"
             ],
             [
              0.4444444444444444,
              "#bd3786"
             ],
             [
              0.5555555555555556,
              "#d8576b"
             ],
             [
              0.6666666666666666,
              "#ed7953"
             ],
             [
              0.7777777777777778,
              "#fb9f3a"
             ],
             [
              0.8888888888888888,
              "#fdca26"
             ],
             [
              1,
              "#f0f921"
             ]
            ],
            "type": "histogram2d"
           }
          ],
          "histogram2dcontour": [
           {
            "colorbar": {
             "outlinewidth": 0,
             "ticks": ""
            },
            "colorscale": [
             [
              0,
              "#0d0887"
             ],
             [
              0.1111111111111111,
              "#46039f"
             ],
             [
              0.2222222222222222,
              "#7201a8"
             ],
             [
              0.3333333333333333,
              "#9c179e"
             ],
             [
              0.4444444444444444,
              "#bd3786"
             ],
             [
              0.5555555555555556,
              "#d8576b"
             ],
             [
              0.6666666666666666,
              "#ed7953"
             ],
             [
              0.7777777777777778,
              "#fb9f3a"
             ],
             [
              0.8888888888888888,
              "#fdca26"
             ],
             [
              1,
              "#f0f921"
             ]
            ],
            "type": "histogram2dcontour"
           }
          ],
          "mesh3d": [
           {
            "colorbar": {
             "outlinewidth": 0,
             "ticks": ""
            },
            "type": "mesh3d"
           }
          ],
          "parcoords": [
           {
            "line": {
             "colorbar": {
              "outlinewidth": 0,
              "ticks": ""
             }
            },
            "type": "parcoords"
           }
          ],
          "pie": [
           {
            "automargin": true,
            "type": "pie"
           }
          ],
          "scatter": [
           {
            "fillpattern": {
             "fillmode": "overlay",
             "size": 10,
             "solidity": 0.2
            },
            "type": "scatter"
           }
          ],
          "scatter3d": [
           {
            "line": {
             "colorbar": {
              "outlinewidth": 0,
              "ticks": ""
             }
            },
            "marker": {
             "colorbar": {
              "outlinewidth": 0,
              "ticks": ""
             }
            },
            "type": "scatter3d"
           }
          ],
          "scattercarpet": [
           {
            "marker": {
             "colorbar": {
              "outlinewidth": 0,
              "ticks": ""
             }
            },
            "type": "scattercarpet"
           }
          ],
          "scattergeo": [
           {
            "marker": {
             "colorbar": {
              "outlinewidth": 0,
              "ticks": ""
             }
            },
            "type": "scattergeo"
           }
          ],
          "scattergl": [
           {
            "marker": {
             "colorbar": {
              "outlinewidth": 0,
              "ticks": ""
             }
            },
            "type": "scattergl"
           }
          ],
          "scattermap": [
           {
            "marker": {
             "colorbar": {
              "outlinewidth": 0,
              "ticks": ""
             }
            },
            "type": "scattermap"
           }
          ],
          "scattermapbox": [
           {
            "marker": {
             "colorbar": {
              "outlinewidth": 0,
              "ticks": ""
             }
            },
            "type": "scattermapbox"
           }
          ],
          "scatterpolar": [
           {
            "marker": {
             "colorbar": {
              "outlinewidth": 0,
              "ticks": ""
             }
            },
            "type": "scatterpolar"
           }
          ],
          "scatterpolargl": [
           {
            "marker": {
             "colorbar": {
              "outlinewidth": 0,
              "ticks": ""
             }
            },
            "type": "scatterpolargl"
           }
          ],
          "scatterternary": [
           {
            "marker": {
             "colorbar": {
              "outlinewidth": 0,
              "ticks": ""
             }
            },
            "type": "scatterternary"
           }
          ],
          "surface": [
           {
            "colorbar": {
             "outlinewidth": 0,
             "ticks": ""
            },
            "colorscale": [
             [
              0,
              "#0d0887"
             ],
             [
              0.1111111111111111,
              "#46039f"
             ],
             [
              0.2222222222222222,
              "#7201a8"
             ],
             [
              0.3333333333333333,
              "#9c179e"
             ],
             [
              0.4444444444444444,
              "#bd3786"
             ],
             [
              0.5555555555555556,
              "#d8576b"
             ],
             [
              0.6666666666666666,
              "#ed7953"
             ],
             [
              0.7777777777777778,
              "#fb9f3a"
             ],
             [
              0.8888888888888888,
              "#fdca26"
             ],
             [
              1,
              "#f0f921"
             ]
            ],
            "type": "surface"
           }
          ],
          "table": [
           {
            "cells": {
             "fill": {
              "color": "#EBF0F8"
             },
             "line": {
              "color": "white"
             }
            },
            "header": {
             "fill": {
              "color": "#C8D4E3"
             },
             "line": {
              "color": "white"
             }
            },
            "type": "table"
           }
          ]
         },
         "layout": {
          "annotationdefaults": {
           "arrowcolor": "#2a3f5f",
           "arrowhead": 0,
           "arrowwidth": 1
          },
          "autotypenumbers": "strict",
          "coloraxis": {
           "colorbar": {
            "outlinewidth": 0,
            "ticks": ""
           }
          },
          "colorscale": {
           "diverging": [
            [
             0,
             "#8e0152"
            ],
            [
             0.1,
             "#c51b7d"
            ],
            [
             0.2,
             "#de77ae"
            ],
            [
             0.3,
             "#f1b6da"
            ],
            [
             0.4,
             "#fde0ef"
            ],
            [
             0.5,
             "#f7f7f7"
            ],
            [
             0.6,
             "#e6f5d0"
            ],
            [
             0.7,
             "#b8e186"
            ],
            [
             0.8,
             "#7fbc41"
            ],
            [
             0.9,
             "#4d9221"
            ],
            [
             1,
             "#276419"
            ]
           ],
           "sequential": [
            [
             0,
             "#0d0887"
            ],
            [
             0.1111111111111111,
             "#46039f"
            ],
            [
             0.2222222222222222,
             "#7201a8"
            ],
            [
             0.3333333333333333,
             "#9c179e"
            ],
            [
             0.4444444444444444,
             "#bd3786"
            ],
            [
             0.5555555555555556,
             "#d8576b"
            ],
            [
             0.6666666666666666,
             "#ed7953"
            ],
            [
             0.7777777777777778,
             "#fb9f3a"
            ],
            [
             0.8888888888888888,
             "#fdca26"
            ],
            [
             1,
             "#f0f921"
            ]
           ],
           "sequentialminus": [
            [
             0,
             "#0d0887"
            ],
            [
             0.1111111111111111,
             "#46039f"
            ],
            [
             0.2222222222222222,
             "#7201a8"
            ],
            [
             0.3333333333333333,
             "#9c179e"
            ],
            [
             0.4444444444444444,
             "#bd3786"
            ],
            [
             0.5555555555555556,
             "#d8576b"
            ],
            [
             0.6666666666666666,
             "#ed7953"
            ],
            [
             0.7777777777777778,
             "#fb9f3a"
            ],
            [
             0.8888888888888888,
             "#fdca26"
            ],
            [
             1,
             "#f0f921"
            ]
           ]
          },
          "colorway": [
           "#636efa",
           "#EF553B",
           "#00cc96",
           "#ab63fa",
           "#FFA15A",
           "#19d3f3",
           "#FF6692",
           "#B6E880",
           "#FF97FF",
           "#FECB52"
          ],
          "font": {
           "color": "#2a3f5f"
          },
          "geo": {
           "bgcolor": "white",
           "lakecolor": "white",
           "landcolor": "white",
           "showlakes": true,
           "showland": true,
           "subunitcolor": "#C8D4E3"
          },
          "hoverlabel": {
           "align": "left"
          },
          "hovermode": "closest",
          "mapbox": {
           "style": "light"
          },
          "paper_bgcolor": "white",
          "plot_bgcolor": "white",
          "polar": {
           "angularaxis": {
            "gridcolor": "#EBF0F8",
            "linecolor": "#EBF0F8",
            "ticks": ""
           },
           "bgcolor": "white",
           "radialaxis": {
            "gridcolor": "#EBF0F8",
            "linecolor": "#EBF0F8",
            "ticks": ""
           }
          },
          "scene": {
           "xaxis": {
            "backgroundcolor": "white",
            "gridcolor": "#DFE8F3",
            "gridwidth": 2,
            "linecolor": "#EBF0F8",
            "showbackground": true,
            "ticks": "",
            "zerolinecolor": "#EBF0F8"
           },
           "yaxis": {
            "backgroundcolor": "white",
            "gridcolor": "#DFE8F3",
            "gridwidth": 2,
            "linecolor": "#EBF0F8",
            "showbackground": true,
            "ticks": "",
            "zerolinecolor": "#EBF0F8"
           },
           "zaxis": {
            "backgroundcolor": "white",
            "gridcolor": "#DFE8F3",
            "gridwidth": 2,
            "linecolor": "#EBF0F8",
            "showbackground": true,
            "ticks": "",
            "zerolinecolor": "#EBF0F8"
           }
          },
          "shapedefaults": {
           "line": {
            "color": "#2a3f5f"
           }
          },
          "ternary": {
           "aaxis": {
            "gridcolor": "#DFE8F3",
            "linecolor": "#A2B1C6",
            "ticks": ""
           },
           "baxis": {
            "gridcolor": "#DFE8F3",
            "linecolor": "#A2B1C6",
            "ticks": ""
           },
           "bgcolor": "white",
           "caxis": {
            "gridcolor": "#DFE8F3",
            "linecolor": "#A2B1C6",
            "ticks": ""
           }
          },
          "title": {
           "x": 0.05
          },
          "xaxis": {
           "automargin": true,
           "gridcolor": "#EBF0F8",
           "linecolor": "#EBF0F8",
           "ticks": "",
           "title": {
            "standoff": 15
           },
           "zerolinecolor": "#EBF0F8",
           "zerolinewidth": 2
          },
          "yaxis": {
           "automargin": true,
           "gridcolor": "#EBF0F8",
           "linecolor": "#EBF0F8",
           "ticks": "",
           "title": {
            "standoff": 15
           },
           "zerolinecolor": "#EBF0F8",
           "zerolinewidth": 2
          }
         }
        },
        "width": 1600,
        "yaxis": {
         "title": {
          "font": {
           "size": 23
          },
          "text": "Number of Edges in DAG"
         }
        }
       }
      }
     },
     "metadata": {},
     "output_type": "display_data"
    }
   ],
   "source": [
    "# Plots by dataset (DAG)\n",
    "if len(dag_all):\n",
    "    methods = [m for m in default_methods if m in dag_all['model'].unique()]\n",
    "    double_bar_chart_plotly(\n",
    "        dag_all, ['p_shd','F1'], names_dict, colors_dict, methods,\n",
    "        save_figs=save_figs, font_size=23, output_name=str(REPO_ROOT / 'results/figs/Fig.bn_dag_SHD_SID.html'),\n",
    "        debug=False, range_y1=[0,2], range_y2=[0,5.6], rect_exp=0.015\n",
    "    )\n",
    "    bar_chart_plotly(\n",
    "        dag_all, 'p_SID', names_dict, colors_dict, methods,\n",
    "        save_figs=save_figs, font_size=23, output_name=str(REPO_ROOT / 'results/figs/Fig.bn_dag_F1.html'),\n",
    "        debug=False\n",
    "    )\n",
    "    double_bar_chart_plotly(\n",
    "        dag_all, ['precision','recall'], names_dict, colors_dict, methods,\n",
    "        save_figs=save_figs, font_size=23, output_name=str(REPO_ROOT / 'results/figs/Fig.bn_dag_prec_rec.html'),\n",
    "        debug=False\n",
    "    )\n",
    "    bar_chart_plotly(\n",
    "        dag_all, 'nnz', names_dict, colors_dict, methods,\n",
    "        save_figs=save_figs, font_size=23, output_name=str(REPO_ROOT / 'results/figs/Fig.bn_dag_nnz.html'),\n",
    "        debug=False\n",
    "    )\n",
    "else:\n",
    "    print('No DAG results found.')\n"
   ]
  },
  {
   "cell_type": "code",
   "execution_count": 40,
   "id": "364cd4ee",
   "metadata": {},
   "outputs": [
    {
     "name": "stdout",
     "output_type": "stream",
     "text": [
      "\n",
      "=== Aggregated heatmap: dag_F1 ===\n"
     ]
    },
    {
     "data": {
      "image/png": "[encoded data removed]",
      "text/plain": [
       "<Figure size 480x340 with 2 Axes>"
      ]
     },
     "metadata": {},
     "output_type": "display_data"
    },
    {
     "name": "stdout",
     "output_type": "stream",
     "text": [
      "=== Per-dataset heatmaps: dag_F1 ===\n"
     ]
    },
    {
     "data": {
      "image/png": "[encoded data removed]",
      "text/plain": [
       "<Figure size 1720x880 with 6 Axes>"
      ]
     },
     "metadata": {},
     "output_type": "display_data"
    },
    {
     "name": "stdout",
     "output_type": "stream",
     "text": [
      "\n",
      "=== Aggregated heatmap: dag_shd ===\n"
     ]
    },
    {
     "data": {
      "image/png": "[encoded data removed]",
      "text/plain": [
       "<Figure size 480x340 with 2 Axes>"
      ]
     },
     "metadata": {},
     "output_type": "display_data"
    },
    {
     "name": "stdout",
     "output_type": "stream",
     "text": [
      "=== Per-dataset heatmaps: dag_shd ===\n"
     ]
    },
    {
     "data": {
      "image/png": "[encoded data removed]",
      "text/plain": [
       "<Figure size 1720x880 with 6 Axes>"
      ]
     },
     "metadata": {},
     "output_type": "display_data"
    },
    {
     "name": "stdout",
     "output_type": "stream",
     "text": [
      "\n",
      "=== Aggregated heatmap: dag_sid ===\n"
     ]
    },
    {
     "data": {
      "image/png": "[encoded data removed]",
      "text/plain": [
       "<Figure size 480x340 with 2 Axes>"
      ]
     },
     "metadata": {},
     "output_type": "display_data"
    },
    {
     "name": "stdout",
     "output_type": "stream",
     "text": [
      "=== Per-dataset heatmaps: dag_sid ===\n"
     ]
    },
    {
     "data": {
      "image/png": "[encoded data removed]",
      "text/plain": [
       "<Figure size 1720x880 with 6 Axes>"
      ]
     },
     "metadata": {},
     "output_type": "display_data"
    }
   ],
   "source": [
    "# Re-run the plotting cell (sometimes the environment resets).\n",
    "\n",
    "import os, re, math\n",
    "import pandas as pd\n",
    "import numpy as np\n",
    "import matplotlib.pyplot as plt\n",
    "from matplotlib.colors import LinearSegmentedColormap, TwoSlopeNorm\n",
    "\n",
    "INPATH = \"../results/merged_bnlearn 1.csv\"\n",
    "df_raw = pd.read_csv(INPATH)\n",
    "\n",
    "# LLM quality detection\n",
    "if \"prior_forbidden_F1\" in df_raw.columns and \"prior_required_F1\" in df_raw.columns:\n",
    "    df_raw[\"prior_overall_F1\"] = df_raw[[\"prior_forbidden_F1\",\"prior_required_F1\"]].mean(axis=1)\n",
    "LLM_COL = None\n",
    "for c in [\"prior_overall_F1\", \"AP_F1\", \"prior_required_F1\", \"prior_forbidden_F1\", \"prior_forbidden_Precision\", \"AP\"]:\n",
    "    if c in df_raw.columns:\n",
    "        LLM_COL = c; break\n",
    "\n",
    "CI_COL = next((c for c in df_raw.columns if c.lower() in {\"cit_f1\",\"ci_f1\",\"citf1\"}), None)\n",
    "if CI_COL is None:\n",
    "    CI_COL = next((c for c in df_raw.columns if c.lower() in {\"cit_precision\",\"ci_precision\",\"ciprecision\"}), None)\n",
    "\n",
    "present_metrics = [m for m in [\"dag_F1\",\"dag_shd\",\"dag_sid\",\"cpdag_F1\",\"cpdag_shd\",\"cpdag_sid_low\",\"cpdag_sid_high\"] if m in df_raw.columns]\n",
    "keep_cols = [\"dataset\",\"seed\",\"impl\",\"num_nodes\",CI_COL,LLM_COL] + present_metrics\n",
    "df_raw = df_raw[keep_cols].copy()\n",
    "\n",
    "# Aggregate\n",
    "agg = (df_raw.groupby([\"dataset\",\"seed\",\"impl\"], as_index=False)\n",
    "       .mean(numeric_only=True))\n",
    "if \"cpdag_sid_low\" in agg.columns and \"cpdag_sid_high\" in agg.columns:\n",
    "    agg[\"cpdag_sid_avg\"] = agg[[\"cpdag_sid_low\",\"cpdag_sid_high\"]].mean(axis=1)\n",
    "\n",
    "def build_runlevel_avg(df_in, metric_col, higher_is_better, graph_kind):\n",
    "    if metric_col not in df_in.columns: return None, \"\"\n",
    "    ci = (df_in[df_in[\"impl\"]==\"org\"]\n",
    "          [[\"dataset\",\"seed\",\"num_nodes\",CI_COL,metric_col]]\n",
    "          .rename(columns={\"num_nodes\":\"n_nodes_ci\",CI_COL:\"ci_quality\",metric_col:\"ci\"}))\n",
    "    cb = (df_in[df_in[\"impl\"]==\"new\"]\n",
    "          [[\"dataset\",\"seed\",\"num_nodes\",CI_COL,LLM_COL,metric_col]]\n",
    "          .rename(columns={\"num_nodes\":\"n_nodes_new\",CI_COL:\"ci_quality_new\",LLM_COL:\"llm_quality\",metric_col:\"comb\"}))\n",
    "    m = pd.merge(cb, ci, on=[\"dataset\",\"seed\"], how=\"inner\")\n",
    "    if m.empty: return None, \"\"\n",
    "    m[\"n_nodes\"] = m[\"n_nodes_new\"].fillna(m[\"n_nodes_ci\"])\n",
    "    if higher_is_better:\n",
    "        m[\"delta\"] = m[\"comb\"] - m[\"ci\"]; units=\"\"\n",
    "    else:\n",
    "        n = m[\"n_nodes\"].astype(float)\n",
    "        capacity = n*(n-1) if graph_kind==\"dag\" else n*(n-1)/2.0\n",
    "        capacity = capacity.replace(0, np.nan)\n",
    "        m[\"delta\"] = 100.0*(m[\"ci\"] - m[\"comb\"])/capacity; units=\"%\"\n",
    "    m[\"ci_quality\"] = pd.to_numeric(m[\"ci_quality\"], errors=\"coerce\").clip(0,1)\n",
    "    m[\"llm_quality\"] = pd.to_numeric(m[\"llm_quality\"], errors=\"coerce\").clip(0,1)\n",
    "    return m, units\n",
    "\n",
    "def make_cmap_blue_good_orange_bad():\n",
    "    return LinearSegmentedColormap.from_list(\n",
    "        \"good_blue_bad_orange\",\n",
    "        [(255/255,140/255,0/255), (1,1,1), (0/255,90/255,181/255)],\n",
    "        N=256\n",
    "    )\n",
    "\n",
    "def tie_safe_qcut_labels(series, labels):\n",
    "    s = pd.to_numeric(series, errors=\"coerce\")\n",
    "    ranks = s.rank(method=\"first\")\n",
    "    norm = ranks / (ranks.max() if ranks.max() else 1)\n",
    "    cats = pd.qcut(norm, q=len(labels), labels=labels)\n",
    "    return cats\n",
    "\n",
    "def compute_grid_q3_equalcount(m):\n",
    "    ci_labels  = [\"Low CI\",\"Mid CI\",\"High CI\"]\n",
    "    llm_labels = [\"Low LLM\",\"Mid LLM\",\"High LLM\"]\n",
    "    m = m.dropna(subset=[\"ci_quality\",\"llm_quality\",\"delta\"]).copy()\n",
    "    m[\"ci_bin\"]  = tie_safe_qcut_labels(m[\"ci_quality\"],  ci_labels)\n",
    "    m[\"llm_bin\"] = tie_safe_qcut_labels(m[\"llm_quality\"], llm_labels)\n",
    "    row_order = list(m[\"llm_bin\"].cat.categories)[::-1]\n",
    "    col_order = list(m[\"ci_bin\"].cat.categories)\n",
    "    grid_mean = np.full((3,3), np.nan); grid_count = np.zeros((3,3), dtype=int)\n",
    "    for i, rlab in enumerate(row_order):\n",
    "        for j, clab in enumerate(col_order):\n",
    "            vals = m.loc[(m[\"llm_bin\"]==rlab) & (m[\"ci_bin\"]==clab), \"delta\"].astype(float)\n",
    "            if len(vals)>0:\n",
    "                grid_mean[i,j] = float(vals.mean()); grid_count[i,j] = int(len(vals))\n",
    "    return grid_mean, grid_count, row_order, col_order\n",
    "\n",
    "def plot_overall_q3_equalcount(m, metric_label, units):\n",
    "    grid_mean, grid_count, row_labels, col_labels = compute_grid_q3_equalcount(m)\n",
    "    vmax = np.nanmax(np.abs(grid_mean)) if np.any(~np.isnan(grid_mean)) else 1.0\n",
    "    norm = TwoSlopeNorm(vmin=-vmax, vcenter=0, vmax=vmax)\n",
    "    cmap = make_cmap_blue_good_orange_bad()\n",
    "    fig = plt.figure(figsize=(4.8,3.4))\n",
    "    ax = fig.add_axes([0.12,0.16,0.66,0.74])\n",
    "    im = ax.imshow(grid_mean, cmap=cmap, norm=norm, aspect=\"equal\")\n",
    "    ax.set_xticks(range(len(col_labels))); ax.set_xticklabels(col_labels, fontsize=10)\n",
    "    ax.set_yticks(range(len(row_labels))); ax.set_yticklabels(row_labels, fontsize=10)\n",
    "    ax.set_xlabel(\"CI quality (F1)\")\n",
    "    ax.set_ylabel(\"LLM constraint F1\")\n",
    "    for i in range(len(row_labels)):\n",
    "        for j in range(len(col_labels)):\n",
    "            if not np.isnan(grid_mean[i,j]):\n",
    "                ax.text(j,i,f\"{grid_mean[i,j]:.3f}{units}\\n(n={grid_count[i,j]})\", ha=\"center\", va=\"center\", fontsize=9)\n",
    "    cax = fig.add_axes([0.82,0.16,0.02,0.74]); cb = fig.colorbar(im, cax=cax)\n",
    "    cb.set_label(f\"Mean Δ{metric_label}{(' ('+units+')') if units else ''}\")\n",
    "    plt.show()\n",
    "\n",
    "def plot_by_dataset_panels(m, metric_label, units):\n",
    "    datasets = sorted(m[\"dataset\"].unique())\n",
    "    n = len(datasets)\n",
    "    if n == 0:\n",
    "        print(\"No datasets found.\"); return\n",
    "    ncols = 3; nrows = math.ceil(n/ncols)\n",
    "    fig = plt.figure(figsize=(5.0*ncols+2.2, 4.4*nrows))\n",
    "    left, right, top, bottom = 0.05, 0.11, 0.08, 0.10\n",
    "    wspace, hspace = 0.06, 0.09\n",
    "    grid_w = 1 - left - right; grid_h = 1 - top - bottom\n",
    "    cell_w = (grid_w - (ncols-1)*wspace)/ncols; cell_h = (grid_h - (nrows-1)*hspace)/nrows\n",
    "    panels = []; vmax = 0.0\n",
    "    for d in datasets:\n",
    "        sub = m[m[\"dataset\"]==d]\n",
    "        gm, gc, yl, xl = compute_grid_q3_equalcount(sub)\n",
    "        vmax = max(vmax, np.nanmax(np.abs(gm)) if np.any(~np.isnan(gm)) else 0.0)\n",
    "        panels.append((d, gm, gc, yl, xl))\n",
    "    if vmax == 0: vmax = 1.0\n",
    "    cmap = make_cmap_blue_good_orange_bad()\n",
    "    norm = TwoSlopeNorm(vmin=-vmax, vcenter=0, vmax=vmax)\n",
    "    for idx, (d, gm, gc, yl, xl) in enumerate(panels):\n",
    "        r = idx // ncols; c = idx % ncols\n",
    "        ax = fig.add_axes([left + c*(cell_w+wspace), 1 - top - (r+1)*cell_h - r*hspace, cell_w, cell_h])\n",
    "        im = ax.imshow(gm, cmap=cmap, norm=norm, aspect=\"equal\")\n",
    "        ax.set_xticks(range(len(xl))); ax.set_xticklabels(xl, fontsize=8)\n",
    "        ax.set_yticks(range(len(yl))); ax.set_yticklabels(yl, fontsize=8)\n",
    "        ax.set_title(d, fontsize=10)\n",
    "        for i in range(len(yl)):\n",
    "            for j in range(len(xl)):\n",
    "                if not np.isnan(gm[i,j]):\n",
    "                    ax.text(j,i,f\"{gm[i,j]:.2f}{units}\\n(n={gc[i,j]})\", ha=\"center\", va=\"center\", fontsize=7)\n",
    "    cax = fig.add_axes([1 - right + 0.01, bottom, 0.02, grid_h])\n",
    "    cb = fig.colorbar(im, cax=cax); cb.set_label(f\"Mean Δ {metric_label}{(' ('+units+')') if units else ''}\")\n",
    "    fig.suptitle(f\"{metric_label} — per dataset (Low/Mid/High by rank)\", fontsize=15, y=0.995)\n",
    "    plt.show()\n",
    "\n",
    "# Build metric tables\n",
    "run = {}; units = {}\n",
    "def add_metric(metric, hib, kind):\n",
    "    m, u = build_runlevel_avg(agg, metric, hib, kind)\n",
    "    if m is not None:\n",
    "        run[metric] = m; units[metric] = u\n",
    "\n",
    "add_metric(\"dag_F1\", True, \"dag\")\n",
    "add_metric(\"dag_shd\", False, \"dag\")\n",
    "add_metric(\"dag_sid\", False, \"dag\")\n",
    "add_metric(\"cpdag_F1\", True, \"cpdag\")\n",
    "add_metric(\"cpdag_shd\", False, \"cpdag\")\n",
    "if \"cpdag_sid_low\" in agg.columns and \"cpdag_sid_high\" in agg.columns:\n",
    "    agg[\"cpdag_sid_avg\"] = agg[[\"cpdag_sid_low\",\"cpdag_sid_high\"]].mean(axis=1)\n",
    "add_metric(\"cpdag_sid_avg\", False, \"cpdag\")\n",
    "\n",
    "metric_labels = {\n",
    "    \"dag_F1\": \"DAG F1\",\n",
    "    \"dag_shd\": \"DAG SHD\",\n",
    "    \"dag_sid\": \"DAG SID\",\n",
    "    \"cpdag_F1\": \"CPDAG F1\",\n",
    "    \"cpdag_shd\": \"CPDAG SHD\",\n",
    "    \"cpdag_sid_avg\": \"CPDAG SID (avg)\",\n",
    "}\n",
    "\n",
    "# Show aggregated and per-dataset panels for each available metric\n",
    "for metric in [\"dag_F1\",\"dag_shd\",\"dag_sid\",#\"cpdag_F1\",\"cpdag_shd\",\"cpdag_sid_avg\"\n",
    "               ]:\n",
    "    if metric in run:\n",
    "        print(f\"\\n=== Aggregated heatmap: {metric} ===\")\n",
    "        plot_overall_q3_equalcount(run[metric], metric_labels[metric], units[metric])\n",
    "        print(f\"=== Per-dataset heatmaps: {metric} ===\")\n",
    "        plot_by_dataset_panels(run[metric], metric, units[metric])\n"
   ]
  },
  {
   "cell_type": "code",
   "execution_count": null,
   "id": "81a10297",
   "metadata": {},
   "outputs": [],
   "source": []
  }
 ],
 "metadata": {
  "kernelspec": {
   "display_name": "aba-env",
   "language": "python",
   "name": "python3"
  },
  "language_info": {
   "codemirror_mode": {
    "name": "ipython",
    "version": 3
   },
   "file_extension": ".py",
   "mimetype": "text/x-python",
   "name": "python",
   "nbconvert_exporter": "python",
   "pygments_lexer": "ipython3",
   "version": "3.12.9"
  }
 },
 "nbformat": 4,
 "nbformat_minor": 5
}
