{
 "cells": [
  {
   "cell_type": "markdown",
   "metadata": {},
   "source": [
    "# Argumentative Causal Discovery"
   ]
  },
  {
   "cell_type": "markdown",
   "metadata": {},
   "source": [
    "Notebook collecting results for causal discovery algorithm ABAPC presented in the Argumentative Causal Discovery paper (Russo, Rapberger and Toni (2024))"
   ]
  },
  {
   "cell_type": "code",
   "execution_count": 4,
   "metadata": {},
   "outputs": [
    {
     "name": "stdout",
     "output_type": "stream",
     "text": [
      "['../', '../', '/vol/bitbucket/fr920/ArgCausalDisco/notebooks', '/usr/lib/python310.zip', '/usr/lib/python3.10', '/usr/lib/python3.10/lib-dynload', '', '/vol/bitbucket/fr920/envs/discoclean/lib/python3.10/site-packages', '../utils/', '../utils/']\n"
     ]
    }
   ],
   "source": [
    "import warnings\n",
    "warnings.filterwarnings('ignore')\n",
    "import sys\n",
    "sys.path.insert(0,'../')\n",
    "import numpy as np\n",
    "import pandas as pd\n",
    "pd.set_option('display.max_rows', 2000)\n",
    "sys.path.append('../utils/')\n",
    "from plotting import *\n",
    "print(sys.path)\n",
    "\n",
    "save_figs = False\n",
    "debug = False\n",
    "datasets = ['cancer', 'earthquake', 'survey', 'asia']\n",
    "dags_nodes_map = {'asia':8, 'cancer':5, 'earthquake':5, 'sachs':11, 'survey':6, 'alarm':37, 'child':20, 'insurance':27, 'hailfinder':56, 'hepar2':70}\n",
    "dags_arcs_map = {'asia':8, 'cancer':4, 'earthquake':4, 'sachs':17, 'survey':6, 'alarm':46, 'child':25, 'insurance':52, 'hailfinder':66, 'hepar2':123}\n",
    "methods = ['Random', 'FGS', 'NOTEARS-MLP', 'MPC', 'ASPCR', 'ABAPC (Ours)']\n",
    "names_dict = {'random':'Random', 'fgs':'FGS', 'nt':'NOTEARS-MLP', 'mpc':'MPC', 'aspcr-log':'ASPCR', 'abapc':'ABAPC (Ours)'}\n",
    "symbols_dict = {'abapc':'triangle-down-dot','fgs':'triangle-up-dot','nt':'pentagon-dot','mpc':'hexagon2-dot', 'random':'x', 'aspcr-log':'diamond-dot'}  \n",
    "colors_dict = {'abapc':sec_blue,'fgs':sec_orange,'nt':main_purple,'mpc':main_green,'random':'grey', 'aspcr-log':sec_purple}\n",
    "version = 'bnlearn_50rep' ## for 5000 samples\n",
    "# version = 'bnlearn_dag_v5_2000' ## for 2000 samples"
   ]
  },
  {
   "cell_type": "markdown",
   "metadata": {},
   "source": [
    "## Main Paper Results"
   ]
  },
  {
   "cell_type": "markdown",
   "metadata": {},
   "source": [
    "### CPDAG Evaluation"
   ]
  },
  {
   "cell_type": "code",
   "execution_count": 5,
   "metadata": {},
   "outputs": [
    {
     "data": {
      "application/vnd.plotly.v1+json": {
       "config": {
        "plotlyServerURL": "https://plot.ly"
       },
       "data": [
        {
         "error_y": {
          "array": [
           0.9075,
           0.72,
           0.6933333333333334,
           0.87375
          ],
          "type": "data",
          "visible": true
         },
         "marker": {
          "color": "grey"
         },
         "name": "Random",
         "offsetgroup": "0",
         "opacity": 0.6,
         "showlegend": true,
         "type": "bar",
         "x": [
          "CANCER<br> |V|=5, |E|=4",
          "EARTHQUAKE<br> |V|=5, |E|=4",
          "SURVEY<br> |V|=6, |E|=6",
          "ASIA<br> |V|=8, |E|=8"
         ],
         "y": [
          1.985,
          1.97,
          2.1866666666666665,
          3.1225
         ],
         "yaxis": "y"
        },
        {
         "error_y": {
          "array": [
           0.47,
           0.3425,
           0.5283333333333333,
           0.63125
          ],
          "type": "data",
          "visible": true
         },
         "marker": {
          "color": "#b85c00"
         },
         "name": "FGS",
         "offsetgroup": "1",
         "opacity": 0.6,
         "showlegend": true,
         "type": "bar",
         "x": [
          "CANCER<br> |V|=5, |E|=4",
          "EARTHQUAKE<br> |V|=5, |E|=4",
          "SURVEY<br> |V|=6, |E|=6",
          "ASIA<br> |V|=8, |E|=8"
         ],
         "y": [
          1.57,
          1.15,
          2.276666666666667,
          4.0325
         ],
         "yaxis": "y"
        },
        {
         "error_y": {
          "array": [
           0.3875,
           0.8275,
           0,
           0.52875
          ],
          "type": "data",
          "visible": true
         },
         "marker": {
          "color": "#9454c4"
         },
         "name": "NOTEARS-MLP",
         "offsetgroup": "2",
         "opacity": 0.6,
         "showlegend": true,
         "type": "bar",
         "x": [
          "CANCER<br> |V|=5, |E|=4",
          "EARTHQUAKE<br> |V|=5, |E|=4",
          "SURVEY<br> |V|=6, |E|=6",
          "ASIA<br> |V|=8, |E|=8"
         ],
         "y": [
          2.32,
          1.14,
          2.8333333333333335,
          2.065
         ],
         "yaxis": "y"
        },
        {
         "error_y": {
          "array": [
           0.4525,
           0,
           0.5683333333333334,
           0.7
          ],
          "type": "data",
          "visible": true
         },
         "marker": {
          "color": "#379f9f"
         },
         "name": "MPC",
         "offsetgroup": "3",
         "opacity": 0.6,
         "showlegend": true,
         "type": "bar",
         "x": [
          "CANCER<br> |V|=5, |E|=4",
          "EARTHQUAKE<br> |V|=5, |E|=4",
          "SURVEY<br> |V|=6, |E|=6",
          "ASIA<br> |V|=8, |E|=8"
         ],
         "y": [
          0.97,
          1.25,
          0.8566666666666666,
          1.905
         ],
         "yaxis": "y"
        },
        {
         "error_y": {
          "array": [
           0.8575,
           0.62,
           0.4483333333333333
          ],
          "type": "data",
          "visible": true
         },
         "marker": {
          "color": "#441469"
         },
         "name": "ASPCR",
         "offsetgroup": "4",
         "opacity": 0.6,
         "showlegend": true,
         "type": "bar",
         "x": [
          "CANCER<br> |V|=5, |E|=4",
          "EARTHQUAKE<br> |V|=5, |E|=4",
          "SURVEY<br> |V|=6, |E|=6"
         ],
         "y": [
          1.705,
          2.9,
          1.92
         ],
         "yaxis": "y"
        },
        {
         "error_y": {
          "array": [
           0.5475,
           0,
           0.6083333333333333,
           0.84875
          ],
          "type": "data",
          "visible": true
         },
         "marker": {
          "color": "#0085CA"
         },
         "name": "ABAPC (Ours)",
         "offsetgroup": "5",
         "opacity": 0.6,
         "showlegend": true,
         "type": "bar",
         "x": [
          "CANCER<br> |V|=5, |E|=4",
          "EARTHQUAKE<br> |V|=5, |E|=4",
          "SURVEY<br> |V|=6, |E|=6",
          "ASIA<br> |V|=8, |E|=8"
         ],
         "y": [
          2.46,
          0,
          2.37,
          1.465
         ],
         "yaxis": "y"
        },
        {
         "marker": {
          "color": "white"
         },
         "name": "",
         "offsetgroup": "6",
         "opacity": 1,
         "showlegend": false,
         "type": "bar",
         "x": [
          "CANCER<br> |V|=5, |E|=4",
          "EARTHQUAKE<br> |V|=5, |E|=4",
          "SURVEY<br> |V|=6, |E|=6",
          "ASIA<br> |V|=8, |E|=8"
         ],
         "y": [
          0,
          0,
          0,
          0
         ]
        },
        {
         "error_y": {
          "array": [
           0.7575,
           0.865,
           0.7316666666666666,
           0.76125
          ],
          "type": "data",
          "visible": true
         },
         "marker": {
          "color": "grey"
         },
         "name": "Random",
         "offsetgroup": "7",
         "opacity": 0.6,
         "showlegend": false,
         "type": "bar",
         "x": [
          "CANCER<br> |V|=5, |E|=4",
          "EARTHQUAKE<br> |V|=5, |E|=4",
          "SURVEY<br> |V|=6, |E|=6",
          "ASIA<br> |V|=8, |E|=8"
         ],
         "y": [
          3.51,
          3.47,
          3.7266666666666666,
          4.655
         ],
         "yaxis": "y2"
        },
        {
         "error_y": {
          "array": [
           0.47,
           0.1225,
           0.5766666666666667,
           0.35125
          ],
          "type": "data",
          "visible": true
         },
         "marker": {
          "color": "#b85c00"
         },
         "name": "FGS",
         "offsetgroup": "8",
         "opacity": 0.6,
         "showlegend": false,
         "type": "bar",
         "x": [
          "CANCER<br> |V|=5, |E|=4",
          "EARTHQUAKE<br> |V|=5, |E|=4",
          "SURVEY<br> |V|=6, |E|=6",
          "ASIA<br> |V|=8, |E|=8"
         ],
         "y": [
          4.07,
          3.75,
          3.4433333333333334,
          5.2125
         ],
         "yaxis": "y2"
        },
        {
         "error_y": {
          "array": [
           0.0975,
           1.0125,
           0,
           0.61875
          ],
          "type": "data",
          "visible": true
         },
         "marker": {
          "color": "#9454c4"
         },
         "name": "NOTEARS-MLP",
         "offsetgroup": "9",
         "opacity": 0.6,
         "showlegend": false,
         "type": "bar",
         "x": [
          "CANCER<br> |V|=5, |E|=4",
          "EARTHQUAKE<br> |V|=5, |E|=4",
          "SURVEY<br> |V|=6, |E|=6",
          "ASIA<br> |V|=8, |E|=8"
         ],
         "y": [
          2.545,
          3.365,
          2.8333333333333335,
          5.1375
         ],
         "yaxis": "y2"
        },
        {
         "error_y": {
          "array": [
           0.4525,
           0,
           0.7266666666666667,
           0.47125
          ],
          "type": "data",
          "visible": true
         },
         "marker": {
          "color": "#379f9f"
         },
         "name": "MPC",
         "offsetgroup": "10",
         "opacity": 0.6,
         "showlegend": false,
         "type": "bar",
         "x": [
          "CANCER<br> |V|=5, |E|=4",
          "EARTHQUAKE<br> |V|=5, |E|=4",
          "SURVEY<br> |V|=6, |E|=6",
          "ASIA<br> |V|=8, |E|=8"
         ],
         "y": [
          3.47,
          3.75,
          3.3533333333333335,
          5.1275
         ],
         "yaxis": "y2"
        },
        {
         "error_y": {
          "array": [
           0.675,
           0.5475,
           0.405
          ],
          "type": "data",
          "visible": true
         },
         "marker": {
          "color": "#441469"
         },
         "name": "ASPCR",
         "offsetgroup": "11",
         "opacity": 0.6,
         "showlegend": false,
         "type": "bar",
         "x": [
          "CANCER<br> |V|=5, |E|=4",
          "EARTHQUAKE<br> |V|=5, |E|=4",
          "SURVEY<br> |V|=6, |E|=6"
         ],
         "y": [
          3.18,
          4.535,
          3.1533333333333338
         ],
         "yaxis": "y2"
        },
        {
         "error_y": {
          "array": [
           0.5225,
           1.135,
           0.46166666666666667,
           0.99
          ],
          "type": "data",
          "visible": true
         },
         "marker": {
          "color": "#0085CA"
         },
         "name": "ABAPC (Ours)",
         "offsetgroup": "12",
         "opacity": 0.6,
         "showlegend": false,
         "type": "bar",
         "x": [
          "CANCER<br> |V|=5, |E|=4",
          "EARTHQUAKE<br> |V|=5, |E|=4",
          "SURVEY<br> |V|=6, |E|=6",
          "ASIA<br> |V|=8, |E|=8"
         ],
         "y": [
          2.755,
          2.33,
          2.736666666666667,
          4.19
         ],
         "yaxis": "y2"
        }
       ],
       "layout": {
        "annotations": [
         {
          "font": {
           "color": "Black",
           "family": "Serif",
           "size": 20
          },
          "showarrow": false,
          "text": "Dataset:",
          "x": 0,
          "xanchor": "center",
          "xref": "paper",
          "y": -0.08,
          "yanchor": "bottom",
          "yref": "paper"
         },
         {
          "bgcolor": "#E5ECF6",
          "bordercolor": "#E5ECF6",
          "borderwidth": 2,
          "font": {
           "color": "black",
           "size": 20
          },
          "opacity": 0.8,
          "showarrow": false,
          "text": "           Low           ",
          "x": 0.017,
          "xanchor": "left",
          "xref": "x domain",
          "y": 1.015,
          "yref": "y domain"
         },
         {
          "bgcolor": "#E5ECF6",
          "bordercolor": "#E5ECF6",
          "borderwidth": 2,
          "font": {
           "color": "black",
           "size": 20
          },
          "opacity": 0.8,
          "showarrow": false,
          "text": "           High           ",
          "x": 0.132,
          "xanchor": "left",
          "xref": "x domain",
          "y": 1.015,
          "yref": "y domain"
         },
         {
          "bgcolor": "#E5ECF6",
          "bordercolor": "#E5ECF6",
          "borderwidth": 2,
          "font": {
           "color": "black",
           "size": 20
          },
          "opacity": 0.8,
          "showarrow": false,
          "text": "           Low           ",
          "x": 0.267,
          "xanchor": "left",
          "xref": "x domain",
          "y": 1.015,
          "yref": "y domain"
         },
         {
          "bgcolor": "#E5ECF6",
          "bordercolor": "#E5ECF6",
          "borderwidth": 2,
          "font": {
           "color": "black",
           "size": 20
          },
          "opacity": 0.8,
          "showarrow": false,
          "text": "           High           ",
          "x": 0.382,
          "xanchor": "left",
          "xref": "x domain",
          "y": 1.015,
          "yref": "y domain"
         },
         {
          "bgcolor": "#E5ECF6",
          "bordercolor": "#E5ECF6",
          "borderwidth": 2,
          "font": {
           "color": "black",
           "size": 20
          },
          "opacity": 0.8,
          "showarrow": false,
          "text": "           Low           ",
          "x": 0.517,
          "xanchor": "left",
          "xref": "x domain",
          "y": 1.015,
          "yref": "y domain"
         },
         {
          "bgcolor": "#E5ECF6",
          "bordercolor": "#E5ECF6",
          "borderwidth": 2,
          "font": {
           "color": "black",
           "size": 20
          },
          "opacity": 0.8,
          "showarrow": false,
          "text": "           High           ",
          "x": 0.632,
          "xanchor": "left",
          "xref": "x domain",
          "y": 1.015,
          "yref": "y domain"
         },
         {
          "bgcolor": "#E5ECF6",
          "bordercolor": "#E5ECF6",
          "borderwidth": 2,
          "font": {
           "color": "black",
           "size": 20
          },
          "opacity": 0.8,
          "showarrow": false,
          "text": "           Low           ",
          "x": 0.767,
          "xanchor": "left",
          "xref": "x domain",
          "y": 1.015,
          "yref": "y domain"
         },
         {
          "bgcolor": "#E5ECF6",
          "bordercolor": "#E5ECF6",
          "borderwidth": 2,
          "font": {
           "color": "black",
           "size": 20
          },
          "opacity": 0.8,
          "showarrow": false,
          "text": "           High           ",
          "x": 0.882,
          "xanchor": "left",
          "xref": "x domain",
          "y": 1.015,
          "yref": "y domain"
         }
        ],
        "bargap": 0.15,
        "bargroupgap": 0.1,
        "barmode": "group",
        "font": {
         "color": "black",
         "family": "Serif",
         "size": 20
        },
        "height": 700,
        "hovermode": "x unified",
        "legend": {
         "orientation": "h",
         "x": 0.5,
         "xanchor": "center",
         "y": 1.1,
         "yanchor": "top"
        },
        "margin": {
         "b": 70,
         "l": 40,
         "r": 0,
         "t": 20
        },
        "template": {
         "data": {
          "bar": [
           {
            "error_x": {
             "color": "#2a3f5f"
            },
            "error_y": {
             "color": "#2a3f5f"
            },
            "marker": {
             "line": {
              "color": "white",
              "width": 0.5
             },
             "pattern": {
              "fillmode": "overlay",
              "size": 10,
              "solidity": 0.2
             }
            },
            "type": "bar"
           }
          ],
          "barpolar": [
           {
            "marker": {
             "line": {
              "color": "white",
              "width": 0.5
             },
             "pattern": {
              "fillmode": "overlay",
              "size": 10,
              "solidity": 0.2
             }
            },
            "type": "barpolar"
           }
          ],
          "carpet": [
           {
            "aaxis": {
             "endlinecolor": "#2a3f5f",
             "gridcolor": "#C8D4E3",
             "linecolor": "#C8D4E3",
             "minorgridcolor": "#C8D4E3",
             "startlinecolor": "#2a3f5f"
            },
            "baxis": {
             "endlinecolor": "#2a3f5f",
             "gridcolor": "#C8D4E3",
             "linecolor": "#C8D4E3",
             "minorgridcolor": "#C8D4E3",
             "startlinecolor": "#2a3f5f"
            },
            "type": "carpet"
           }
          ],
          "choropleth": [
           {
            "colorbar": {
             "outlinewidth": 0,
             "ticks": ""
            },
            "type": "choropleth"
           }
          ],
          "contour": [
           {
            "colorbar": {
             "outlinewidth": 0,
             "ticks": ""
            },
            "colorscale": [
             [
              0,
              "#0d0887"
             ],
             [
              0.1111111111111111,
              "#46039f"
             ],
             [
              0.2222222222222222,
              "#7201a8"
             ],
             [
              0.3333333333333333,
              "#9c179e"
             ],
             [
              0.4444444444444444,
              "#bd3786"
             ],
             [
              0.5555555555555556,
              "#d8576b"
             ],
             [
              0.6666666666666666,
              "#ed7953"
             ],
             [
              0.7777777777777778,
              "#fb9f3a"
             ],
             [
              0.8888888888888888,
              "#fdca26"
             ],
             [
              1,
              "#f0f921"
             ]
            ],
            "type": "contour"
           }
          ],
          "contourcarpet": [
           {
            "colorbar": {
             "outlinewidth": 0,
             "ticks": ""
            },
            "type": "contourcarpet"
           }
          ],
          "heatmap": [
           {
            "colorbar": {
             "outlinewidth": 0,
             "ticks": ""
            },
            "colorscale": [
             [
              0,
              "#0d0887"
             ],
             [
              0.1111111111111111,
              "#46039f"
             ],
             [
              0.2222222222222222,
              "#7201a8"
             ],
             [
              0.3333333333333333,
              "#9c179e"
             ],
             [
              0.4444444444444444,
              "#bd3786"
             ],
             [
              0.5555555555555556,
              "#d8576b"
             ],
             [
              0.6666666666666666,
              "#ed7953"
             ],
             [
              0.7777777777777778,
              "#fb9f3a"
             ],
             [
              0.8888888888888888,
              "#fdca26"
             ],
             [
              1,
              "#f0f921"
             ]
            ],
            "type": "heatmap"
           }
          ],
          "heatmapgl": [
           {
            "colorbar": {
             "outlinewidth": 0,
             "ticks": ""
            },
            "colorscale": [
             [
              0,
              "#0d0887"
             ],
             [
              0.1111111111111111,
              "#46039f"
             ],
             [
              0.2222222222222222,
              "#7201a8"
             ],
             [
              0.3333333333333333,
              "#9c179e"
             ],
             [
              0.4444444444444444,
              "#bd3786"
             ],
             [
              0.5555555555555556,
              "#d8576b"
             ],
             [
              0.6666666666666666,
              "#ed7953"
             ],
             [
              0.7777777777777778,
              "#fb9f3a"
             ],
             [
              0.8888888888888888,
              "#fdca26"
             ],
             [
              1,
              "#f0f921"
             ]
            ],
            "type": "heatmapgl"
           }
          ],
          "histogram": [
           {
            "marker": {
             "pattern": {
              "fillmode": "overlay",
              "size": 10,
              "solidity": 0.2
             }
            },
            "type": "histogram"
           }
          ],
          "histogram2d": [
           {
            "colorbar": {
             "outlinewidth": 0,
             "ticks": ""
            },
            "colorscale": [
             [
              0,
              "#0d0887"
             ],
             [
              0.1111111111111111,
              "#46039f"
             ],
             [
              0.2222222222222222,
              "#7201a8"
             ],
             [
              0.3333333333333333,
              "#9c179e"
             ],
             [
              0.4444444444444444,
              "#bd3786"
             ],
             [
              0.5555555555555556,
              "#d8576b"
             ],
             [
              0.6666666666666666,
              "#ed7953"
             ],
             [
              0.7777777777777778,
              "#fb9f3a"
             ],
             [
              0.8888888888888888,
              "#fdca26"
             ],
             [
              1,
              "#f0f921"
             ]
            ],
            "type": "histogram2d"
           }
          ],
          "histogram2dcontour": [
           {
            "colorbar": {
             "outlinewidth": 0,
             "ticks": ""
            },
            "colorscale": [
             [
              0,
              "#0d0887"
             ],
             [
              0.1111111111111111,
              "#46039f"
             ],
             [
              0.2222222222222222,
              "#7201a8"
             ],
             [
              0.3333333333333333,
              "#9c179e"
             ],
             [
              0.4444444444444444,
              "#bd3786"
             ],
             [
              0.5555555555555556,
              "#d8576b"
             ],
             [
              0.6666666666666666,
              "#ed7953"
             ],
             [
              0.7777777777777778,
              "#fb9f3a"
             ],
             [
              0.8888888888888888,
              "#fdca26"
             ],
             [
              1,
              "#f0f921"
             ]
            ],
            "type": "histogram2dcontour"
           }
          ],
          "mesh3d": [
           {
            "colorbar": {
             "outlinewidth": 0,
             "ticks": ""
            },
            "type": "mesh3d"
           }
          ],
          "parcoords": [
           {
            "line": {
             "colorbar": {
              "outlinewidth": 0,
              "ticks": ""
             }
            },
            "type": "parcoords"
           }
          ],
          "pie": [
           {
            "automargin": true,
            "type": "pie"
           }
          ],
          "scatter": [
           {
            "fillpattern": {
             "fillmode": "overlay",
             "size": 10,
             "solidity": 0.2
            },
            "type": "scatter"
           }
          ],
          "scatter3d": [
           {
            "line": {
             "colorbar": {
              "outlinewidth": 0,
              "ticks": ""
             }
            },
            "marker": {
             "colorbar": {
              "outlinewidth": 0,
              "ticks": ""
             }
            },
            "type": "scatter3d"
           }
          ],
          "scattercarpet": [
           {
            "marker": {
             "colorbar": {
              "outlinewidth": 0,
              "ticks": ""
             }
            },
            "type": "scattercarpet"
           }
          ],
          "scattergeo": [
           {
            "marker": {
             "colorbar": {
              "outlinewidth": 0,
              "ticks": ""
             }
            },
            "type": "scattergeo"
           }
          ],
          "scattergl": [
           {
            "marker": {
             "colorbar": {
              "outlinewidth": 0,
              "ticks": ""
             }
            },
            "type": "scattergl"
           }
          ],
          "scattermapbox": [
           {
            "marker": {
             "colorbar": {
              "outlinewidth": 0,
              "ticks": ""
             }
            },
            "type": "scattermapbox"
           }
          ],
          "scatterpolar": [
           {
            "marker": {
             "colorbar": {
              "outlinewidth": 0,
              "ticks": ""
             }
            },
            "type": "scatterpolar"
           }
          ],
          "scatterpolargl": [
           {
            "marker": {
             "colorbar": {
              "outlinewidth": 0,
              "ticks": ""
             }
            },
            "type": "scatterpolargl"
           }
          ],
          "scatterternary": [
           {
            "marker": {
             "colorbar": {
              "outlinewidth": 0,
              "ticks": ""
             }
            },
            "type": "scatterternary"
           }
          ],
          "surface": [
           {
            "colorbar": {
             "outlinewidth": 0,
             "ticks": ""
            },
            "colorscale": [
             [
              0,
              "#0d0887"
             ],
             [
              0.1111111111111111,
              "#46039f"
             ],
             [
              0.2222222222222222,
              "#7201a8"
             ],
             [
              0.3333333333333333,
              "#9c179e"
             ],
             [
              0.4444444444444444,
              "#bd3786"
             ],
             [
              0.5555555555555556,
              "#d8576b"
             ],
             [
              0.6666666666666666,
              "#ed7953"
             ],
             [
              0.7777777777777778,
              "#fb9f3a"
             ],
             [
              0.8888888888888888,
              "#fdca26"
             ],
             [
              1,
              "#f0f921"
             ]
            ],
            "type": "surface"
           }
          ],
          "table": [
           {
            "cells": {
             "fill": {
              "color": "#EBF0F8"
             },
             "line": {
              "color": "white"
             }
            },
            "header": {
             "fill": {
              "color": "#C8D4E3"
             },
             "line": {
              "color": "white"
             }
            },
            "type": "table"
           }
          ]
         },
         "layout": {
          "annotationdefaults": {
           "arrowcolor": "#2a3f5f",
           "arrowhead": 0,
           "arrowwidth": 1
          },
          "autotypenumbers": "strict",
          "coloraxis": {
           "colorbar": {
            "outlinewidth": 0,
            "ticks": ""
           }
          },
          "colorscale": {
           "diverging": [
            [
             0,
             "#8e0152"
            ],
            [
             0.1,
             "#c51b7d"
            ],
            [
             0.2,
             "#de77ae"
            ],
            [
             0.3,
             "#f1b6da"
            ],
            [
             0.4,
             "#fde0ef"
            ],
            [
             0.5,
             "#f7f7f7"
            ],
            [
             0.6,
             "#e6f5d0"
            ],
            [
             0.7,
             "#b8e186"
            ],
            [
             0.8,
             "#7fbc41"
            ],
            [
             0.9,
             "#4d9221"
            ],
            [
             1,
             "#276419"
            ]
           ],
           "sequential": [
            [
             0,
             "#0d0887"
            ],
            [
             0.1111111111111111,
             "#46039f"
            ],
            [
             0.2222222222222222,
             "#7201a8"
            ],
            [
             0.3333333333333333,
             "#9c179e"
            ],
            [
             0.4444444444444444,
             "#bd3786"
            ],
            [
             0.5555555555555556,
             "#d8576b"
            ],
            [
             0.6666666666666666,
             "#ed7953"
            ],
            [
             0.7777777777777778,
             "#fb9f3a"
            ],
            [
             0.8888888888888888,
             "#fdca26"
            ],
            [
             1,
             "#f0f921"
            ]
           ],
           "sequentialminus": [
            [
             0,
             "#0d0887"
            ],
            [
             0.1111111111111111,
             "#46039f"
            ],
            [
             0.2222222222222222,
             "#7201a8"
            ],
            [
             0.3333333333333333,
             "#9c179e"
            ],
            [
             0.4444444444444444,
             "#bd3786"
            ],
            [
             0.5555555555555556,
             "#d8576b"
            ],
            [
             0.6666666666666666,
             "#ed7953"
            ],
            [
             0.7777777777777778,
             "#fb9f3a"
            ],
            [
             0.8888888888888888,
             "#fdca26"
            ],
            [
             1,
             "#f0f921"
            ]
           ]
          },
          "colorway": [
           "#636efa",
           "#EF553B",
           "#00cc96",
           "#ab63fa",
           "#FFA15A",
           "#19d3f3",
           "#FF6692",
           "#B6E880",
           "#FF97FF",
           "#FECB52"
          ],
          "font": {
           "color": "#2a3f5f"
          },
          "geo": {
           "bgcolor": "white",
           "lakecolor": "white",
           "landcolor": "white",
           "showlakes": true,
           "showland": true,
           "subunitcolor": "#C8D4E3"
          },
          "hoverlabel": {
           "align": "left"
          },
          "hovermode": "closest",
          "mapbox": {
           "style": "light"
          },
          "paper_bgcolor": "white",
          "plot_bgcolor": "white",
          "polar": {
           "angularaxis": {
            "gridcolor": "#EBF0F8",
            "linecolor": "#EBF0F8",
            "ticks": ""
           },
           "bgcolor": "white",
           "radialaxis": {
            "gridcolor": "#EBF0F8",
            "linecolor": "#EBF0F8",
            "ticks": ""
           }
          },
          "scene": {
           "xaxis": {
            "backgroundcolor": "white",
            "gridcolor": "#DFE8F3",
            "gridwidth": 2,
            "linecolor": "#EBF0F8",
            "showbackground": true,
            "ticks": "",
            "zerolinecolor": "#EBF0F8"
           },
           "yaxis": {
            "backgroundcolor": "white",
            "gridcolor": "#DFE8F3",
            "gridwidth": 2,
            "linecolor": "#EBF0F8",
            "showbackground": true,
            "ticks": "",
            "zerolinecolor": "#EBF0F8"
           },
           "zaxis": {
            "backgroundcolor": "white",
            "gridcolor": "#DFE8F3",
            "gridwidth": 2,
            "linecolor": "#EBF0F8",
            "showbackground": true,
            "ticks": "",
            "zerolinecolor": "#EBF0F8"
           }
          },
          "shapedefaults": {
           "line": {
            "color": "#2a3f5f"
           }
          },
          "ternary": {
           "aaxis": {
            "gridcolor": "#DFE8F3",
            "linecolor": "#A2B1C6",
            "ticks": ""
           },
           "baxis": {
            "gridcolor": "#DFE8F3",
            "linecolor": "#A2B1C6",
            "ticks": ""
           },
           "bgcolor": "white",
           "caxis": {
            "gridcolor": "#DFE8F3",
            "linecolor": "#A2B1C6",
            "ticks": ""
           }
          },
          "title": {
           "x": 0.05
          },
          "xaxis": {
           "automargin": true,
           "gridcolor": "#EBF0F8",
           "linecolor": "#EBF0F8",
           "ticks": "",
           "title": {
            "standoff": 15
           },
           "zerolinecolor": "#EBF0F8",
           "zerolinewidth": 2
          },
          "yaxis": {
           "automargin": true,
           "gridcolor": "#EBF0F8",
           "linecolor": "#EBF0F8",
           "ticks": "",
           "title": {
            "standoff": 15
           },
           "zerolinecolor": "#EBF0F8",
           "zerolinewidth": 2
          }
         }
        },
        "width": 1600,
        "xaxis": {
         "anchor": "y",
         "domain": [
          0,
          0.94
         ]
        },
        "yaxis": {
         "anchor": "x",
         "domain": [
          0,
          1
         ],
         "range": [
          0,
          6
         ],
         "title": {
          "font": {
           "size": 20
          },
          "text": "Normalised SID = SID / Number of Edges in DAG"
         }
        },
        "yaxis2": {
         "anchor": "x",
         "overlaying": "y",
         "range": [
          0,
          6
         ],
         "scaleanchor": 0,
         "showgrid": false,
         "showline": false,
         "showticklabels": false,
         "side": "right",
         "title": {
          "font": {
           "size": 20
          },
          "text": ""
         },
         "zeroline": true
        }
       }
      },
      "text/html": [
       "<div>                            <div id=\"5ea93c28-2038-4dcc-bd35-3af419a634c6\" class=\"plotly-graph-div\" style=\"height:700px; width:1600px;\"></div>            <script type=\"text/javascript\">                require([\"plotly\"], function(Plotly) {                    window.PLOTLYENV=window.PLOTLYENV || {};                                    if (document.getElementById(\"5ea93c28-2038-4dcc-bd35-3af419a634c6\")) {                    Plotly.newPlot(                        \"5ea93c28-2038-4dcc-bd35-3af419a634c6\",                        [{\"error_y\":{\"array\":[0.9075,0.72,0.6933333333333334,0.87375],\"type\":\"data\",\"visible\":true},\"marker\":{\"color\":\"grey\"},\"name\":\"Random\",\"offsetgroup\":\"0\",\"opacity\":0.6,\"showlegend\":true,\"x\":[\"CANCER\\u003cbr\\u003e |V|=5, |E|=4\",\"EARTHQUAKE\\u003cbr\\u003e |V|=5, |E|=4\",\"SURVEY\\u003cbr\\u003e |V|=6, |E|=6\",\"ASIA\\u003cbr\\u003e |V|=8, |E|=8\"],\"y\":[1.985,1.97,2.1866666666666665,3.1225],\"yaxis\":\"y\",\"type\":\"bar\"},{\"error_y\":{\"array\":[0.47,0.3425,0.5283333333333333,0.63125],\"type\":\"data\",\"visible\":true},\"marker\":{\"color\":\"#b85c00\"},\"name\":\"FGS\",\"offsetgroup\":\"1\",\"opacity\":0.6,\"showlegend\":true,\"x\":[\"CANCER\\u003cbr\\u003e |V|=5, |E|=4\",\"EARTHQUAKE\\u003cbr\\u003e |V|=5, |E|=4\",\"SURVEY\\u003cbr\\u003e |V|=6, |E|=6\",\"ASIA\\u003cbr\\u003e |V|=8, |E|=8\"],\"y\":[1.57,1.15,2.276666666666667,4.0325],\"yaxis\":\"y\",\"type\":\"bar\"},{\"error_y\":{\"array\":[0.3875,0.8275,0.0,0.52875],\"type\":\"data\",\"visible\":true},\"marker\":{\"color\":\"#9454c4\"},\"name\":\"NOTEARS-MLP\",\"offsetgroup\":\"2\",\"opacity\":0.6,\"showlegend\":true,\"x\":[\"CANCER\\u003cbr\\u003e |V|=5, |E|=4\",\"EARTHQUAKE\\u003cbr\\u003e |V|=5, |E|=4\",\"SURVEY\\u003cbr\\u003e |V|=6, |E|=6\",\"ASIA\\u003cbr\\u003e |V|=8, |E|=8\"],\"y\":[2.32,1.14,2.8333333333333335,2.065],\"yaxis\":\"y\",\"type\":\"bar\"},{\"error_y\":{\"array\":[0.4525,0.0,0.5683333333333334,0.7],\"type\":\"data\",\"visible\":true},\"marker\":{\"color\":\"#379f9f\"},\"name\":\"MPC\",\"offsetgroup\":\"3\",\"opacity\":0.6,\"showlegend\":true,\"x\":[\"CANCER\\u003cbr\\u003e |V|=5, |E|=4\",\"EARTHQUAKE\\u003cbr\\u003e |V|=5, |E|=4\",\"SURVEY\\u003cbr\\u003e |V|=6, |E|=6\",\"ASIA\\u003cbr\\u003e |V|=8, |E|=8\"],\"y\":[0.97,1.25,0.8566666666666666,1.905],\"yaxis\":\"y\",\"type\":\"bar\"},{\"error_y\":{\"array\":[0.8575,0.62,0.4483333333333333],\"type\":\"data\",\"visible\":true},\"marker\":{\"color\":\"#441469\"},\"name\":\"ASPCR\",\"offsetgroup\":\"4\",\"opacity\":0.6,\"showlegend\":true,\"x\":[\"CANCER\\u003cbr\\u003e |V|=5, |E|=4\",\"EARTHQUAKE\\u003cbr\\u003e |V|=5, |E|=4\",\"SURVEY\\u003cbr\\u003e |V|=6, |E|=6\"],\"y\":[1.705,2.9,1.92],\"yaxis\":\"y\",\"type\":\"bar\"},{\"error_y\":{\"array\":[0.5475,0.0,0.6083333333333333,0.84875],\"type\":\"data\",\"visible\":true},\"marker\":{\"color\":\"#0085CA\"},\"name\":\"ABAPC (Ours)\",\"offsetgroup\":\"5\",\"opacity\":0.6,\"showlegend\":true,\"x\":[\"CANCER\\u003cbr\\u003e |V|=5, |E|=4\",\"EARTHQUAKE\\u003cbr\\u003e |V|=5, |E|=4\",\"SURVEY\\u003cbr\\u003e |V|=6, |E|=6\",\"ASIA\\u003cbr\\u003e |V|=8, |E|=8\"],\"y\":[2.46,0.0,2.37,1.465],\"yaxis\":\"y\",\"type\":\"bar\"},{\"marker\":{\"color\":\"white\"},\"name\":\"\",\"offsetgroup\":\"6\",\"opacity\":1,\"showlegend\":false,\"x\":[\"CANCER\\u003cbr\\u003e |V|=5, |E|=4\",\"EARTHQUAKE\\u003cbr\\u003e |V|=5, |E|=4\",\"SURVEY\\u003cbr\\u003e |V|=6, |E|=6\",\"ASIA\\u003cbr\\u003e |V|=8, |E|=8\"],\"y\":[0.0,0.0,0.0,0.0],\"type\":\"bar\"},{\"error_y\":{\"array\":[0.7575,0.865,0.7316666666666666,0.76125],\"type\":\"data\",\"visible\":true},\"marker\":{\"color\":\"grey\"},\"name\":\"Random\",\"offsetgroup\":\"7\",\"opacity\":0.6,\"showlegend\":false,\"x\":[\"CANCER\\u003cbr\\u003e |V|=5, |E|=4\",\"EARTHQUAKE\\u003cbr\\u003e |V|=5, |E|=4\",\"SURVEY\\u003cbr\\u003e |V|=6, |E|=6\",\"ASIA\\u003cbr\\u003e |V|=8, |E|=8\"],\"y\":[3.51,3.47,3.7266666666666666,4.655],\"yaxis\":\"y2\",\"type\":\"bar\"},{\"error_y\":{\"array\":[0.47,0.1225,0.5766666666666667,0.35125],\"type\":\"data\",\"visible\":true},\"marker\":{\"color\":\"#b85c00\"},\"name\":\"FGS\",\"offsetgroup\":\"8\",\"opacity\":0.6,\"showlegend\":false,\"x\":[\"CANCER\\u003cbr\\u003e |V|=5, |E|=4\",\"EARTHQUAKE\\u003cbr\\u003e |V|=5, |E|=4\",\"SURVEY\\u003cbr\\u003e |V|=6, |E|=6\",\"ASIA\\u003cbr\\u003e |V|=8, |E|=8\"],\"y\":[4.07,3.75,3.4433333333333334,5.2125],\"yaxis\":\"y2\",\"type\":\"bar\"},{\"error_y\":{\"array\":[0.0975,1.0125,0.0,0.61875],\"type\":\"data\",\"visible\":true},\"marker\":{\"color\":\"#9454c4\"},\"name\":\"NOTEARS-MLP\",\"offsetgroup\":\"9\",\"opacity\":0.6,\"showlegend\":false,\"x\":[\"CANCER\\u003cbr\\u003e |V|=5, |E|=4\",\"EARTHQUAKE\\u003cbr\\u003e |V|=5, |E|=4\",\"SURVEY\\u003cbr\\u003e |V|=6, |E|=6\",\"ASIA\\u003cbr\\u003e |V|=8, |E|=8\"],\"y\":[2.545,3.365,2.8333333333333335,5.1375],\"yaxis\":\"y2\",\"type\":\"bar\"},{\"error_y\":{\"array\":[0.4525,0.0,0.7266666666666667,0.47125],\"type\":\"data\",\"visible\":true},\"marker\":{\"color\":\"#379f9f\"},\"name\":\"MPC\",\"offsetgroup\":\"10\",\"opacity\":0.6,\"showlegend\":false,\"x\":[\"CANCER\\u003cbr\\u003e |V|=5, |E|=4\",\"EARTHQUAKE\\u003cbr\\u003e |V|=5, |E|=4\",\"SURVEY\\u003cbr\\u003e |V|=6, |E|=6\",\"ASIA\\u003cbr\\u003e |V|=8, |E|=8\"],\"y\":[3.47,3.75,3.3533333333333335,5.1275],\"yaxis\":\"y2\",\"type\":\"bar\"},{\"error_y\":{\"array\":[0.675,0.5475,0.405],\"type\":\"data\",\"visible\":true},\"marker\":{\"color\":\"#441469\"},\"name\":\"ASPCR\",\"offsetgroup\":\"11\",\"opacity\":0.6,\"showlegend\":false,\"x\":[\"CANCER\\u003cbr\\u003e |V|=5, |E|=4\",\"EARTHQUAKE\\u003cbr\\u003e |V|=5, |E|=4\",\"SURVEY\\u003cbr\\u003e |V|=6, |E|=6\"],\"y\":[3.18,4.535,3.1533333333333338],\"yaxis\":\"y2\",\"type\":\"bar\"},{\"error_y\":{\"array\":[0.5225,1.135,0.46166666666666667,0.99],\"type\":\"data\",\"visible\":true},\"marker\":{\"color\":\"#0085CA\"},\"name\":\"ABAPC (Ours)\",\"offsetgroup\":\"12\",\"opacity\":0.6,\"showlegend\":false,\"x\":[\"CANCER\\u003cbr\\u003e |V|=5, |E|=4\",\"EARTHQUAKE\\u003cbr\\u003e |V|=5, |E|=4\",\"SURVEY\\u003cbr\\u003e |V|=6, |E|=6\",\"ASIA\\u003cbr\\u003e |V|=8, |E|=8\"],\"y\":[2.755,2.33,2.736666666666667,4.19],\"yaxis\":\"y2\",\"type\":\"bar\"}],                        {\"template\":{\"data\":{\"barpolar\":[{\"marker\":{\"line\":{\"color\":\"white\",\"width\":0.5},\"pattern\":{\"fillmode\":\"overlay\",\"size\":10,\"solidity\":0.2}},\"type\":\"barpolar\"}],\"bar\":[{\"error_x\":{\"color\":\"#2a3f5f\"},\"error_y\":{\"color\":\"#2a3f5f\"},\"marker\":{\"line\":{\"color\":\"white\",\"width\":0.5},\"pattern\":{\"fillmode\":\"overlay\",\"size\":10,\"solidity\":0.2}},\"type\":\"bar\"}],\"carpet\":[{\"aaxis\":{\"endlinecolor\":\"#2a3f5f\",\"gridcolor\":\"#C8D4E3\",\"linecolor\":\"#C8D4E3\",\"minorgridcolor\":\"#C8D4E3\",\"startlinecolor\":\"#2a3f5f\"},\"baxis\":{\"endlinecolor\":\"#2a3f5f\",\"gridcolor\":\"#C8D4E3\",\"linecolor\":\"#C8D4E3\",\"minorgridcolor\":\"#C8D4E3\",\"startlinecolor\":\"#2a3f5f\"},\"type\":\"carpet\"}],\"choropleth\":[{\"colorbar\":{\"outlinewidth\":0,\"ticks\":\"\"},\"type\":\"choropleth\"}],\"contourcarpet\":[{\"colorbar\":{\"outlinewidth\":0,\"ticks\":\"\"},\"type\":\"contourcarpet\"}],\"contour\":[{\"colorbar\":{\"outlinewidth\":0,\"ticks\":\"\"},\"colorscale\":[[0.0,\"#0d0887\"],[0.1111111111111111,\"#46039f\"],[0.2222222222222222,\"#7201a8\"],[0.3333333333333333,\"#9c179e\"],[0.4444444444444444,\"#bd3786\"],[0.5555555555555556,\"#d8576b\"],[0.6666666666666666,\"#ed7953\"],[0.7777777777777778,\"#fb9f3a\"],[0.8888888888888888,\"#fdca26\"],[1.0,\"#f0f921\"]],\"type\":\"contour\"}],\"heatmapgl\":[{\"colorbar\":{\"outlinewidth\":0,\"ticks\":\"\"},\"colorscale\":[[0.0,\"#0d0887\"],[0.1111111111111111,\"#46039f\"],[0.2222222222222222,\"#7201a8\"],[0.3333333333333333,\"#9c179e\"],[0.4444444444444444,\"#bd3786\"],[0.5555555555555556,\"#d8576b\"],[0.6666666666666666,\"#ed7953\"],[0.7777777777777778,\"#fb9f3a\"],[0.8888888888888888,\"#fdca26\"],[1.0,\"#f0f921\"]],\"type\":\"heatmapgl\"}],\"heatmap\":[{\"colorbar\":{\"outlinewidth\":0,\"ticks\":\"\"},\"colorscale\":[[0.0,\"#0d0887\"],[0.1111111111111111,\"#46039f\"],[0.2222222222222222,\"#7201a8\"],[0.3333333333333333,\"#9c179e\"],[0.4444444444444444,\"#bd3786\"],[0.5555555555555556,\"#d8576b\"],[0.6666666666666666,\"#ed7953\"],[0.7777777777777778,\"#fb9f3a\"],[0.8888888888888888,\"#fdca26\"],[1.0,\"#f0f921\"]],\"type\":\"heatmap\"}],\"histogram2dcontour\":[{\"colorbar\":{\"outlinewidth\":0,\"ticks\":\"\"},\"colorscale\":[[0.0,\"#0d0887\"],[0.1111111111111111,\"#46039f\"],[0.2222222222222222,\"#7201a8\"],[0.3333333333333333,\"#9c179e\"],[0.4444444444444444,\"#bd3786\"],[0.5555555555555556,\"#d8576b\"],[0.6666666666666666,\"#ed7953\"],[0.7777777777777778,\"#fb9f3a\"],[0.8888888888888888,\"#fdca26\"],[1.0,\"#f0f921\"]],\"type\":\"histogram2dcontour\"}],\"histogram2d\":[{\"colorbar\":{\"outlinewidth\":0,\"ticks\":\"\"},\"colorscale\":[[0.0,\"#0d0887\"],[0.1111111111111111,\"#46039f\"],[0.2222222222222222,\"#7201a8\"],[0.3333333333333333,\"#9c179e\"],[0.4444444444444444,\"#bd3786\"],[0.5555555555555556,\"#d8576b\"],[0.6666666666666666,\"#ed7953\"],[0.7777777777777778,\"#fb9f3a\"],[0.8888888888888888,\"#fdca26\"],[1.0,\"#f0f921\"]],\"type\":\"histogram2d\"}],\"histogram\":[{\"marker\":{\"pattern\":{\"fillmode\":\"overlay\",\"size\":10,\"solidity\":0.2}},\"type\":\"histogram\"}],\"mesh3d\":[{\"colorbar\":{\"outlinewidth\":0,\"ticks\":\"\"},\"type\":\"mesh3d\"}],\"parcoords\":[{\"line\":{\"colorbar\":{\"outlinewidth\":0,\"ticks\":\"\"}},\"type\":\"parcoords\"}],\"pie\":[{\"automargin\":true,\"type\":\"pie\"}],\"scatter3d\":[{\"line\":{\"colorbar\":{\"outlinewidth\":0,\"ticks\":\"\"}},\"marker\":{\"colorbar\":{\"outlinewidth\":0,\"ticks\":\"\"}},\"type\":\"scatter3d\"}],\"scattercarpet\":[{\"marker\":{\"colorbar\":{\"outlinewidth\":0,\"ticks\":\"\"}},\"type\":\"scattercarpet\"}],\"scattergeo\":[{\"marker\":{\"colorbar\":{\"outlinewidth\":0,\"ticks\":\"\"}},\"type\":\"scattergeo\"}],\"scattergl\":[{\"marker\":{\"colorbar\":{\"outlinewidth\":0,\"ticks\":\"\"}},\"type\":\"scattergl\"}],\"scattermapbox\":[{\"marker\":{\"colorbar\":{\"outlinewidth\":0,\"ticks\":\"\"}},\"type\":\"scattermapbox\"}],\"scatterpolargl\":[{\"marker\":{\"colorbar\":{\"outlinewidth\":0,\"ticks\":\"\"}},\"type\":\"scatterpolargl\"}],\"scatterpolar\":[{\"marker\":{\"colorbar\":{\"outlinewidth\":0,\"ticks\":\"\"}},\"type\":\"scatterpolar\"}],\"scatter\":[{\"fillpattern\":{\"fillmode\":\"overlay\",\"size\":10,\"solidity\":0.2},\"type\":\"scatter\"}],\"scatterternary\":[{\"marker\":{\"colorbar\":{\"outlinewidth\":0,\"ticks\":\"\"}},\"type\":\"scatterternary\"}],\"surface\":[{\"colorbar\":{\"outlinewidth\":0,\"ticks\":\"\"},\"colorscale\":[[0.0,\"#0d0887\"],[0.1111111111111111,\"#46039f\"],[0.2222222222222222,\"#7201a8\"],[0.3333333333333333,\"#9c179e\"],[0.4444444444444444,\"#bd3786\"],[0.5555555555555556,\"#d8576b\"],[0.6666666666666666,\"#ed7953\"],[0.7777777777777778,\"#fb9f3a\"],[0.8888888888888888,\"#fdca26\"],[1.0,\"#f0f921\"]],\"type\":\"surface\"}],\"table\":[{\"cells\":{\"fill\":{\"color\":\"#EBF0F8\"},\"line\":{\"color\":\"white\"}},\"header\":{\"fill\":{\"color\":\"#C8D4E3\"},\"line\":{\"color\":\"white\"}},\"type\":\"table\"}]},\"layout\":{\"annotationdefaults\":{\"arrowcolor\":\"#2a3f5f\",\"arrowhead\":0,\"arrowwidth\":1},\"autotypenumbers\":\"strict\",\"coloraxis\":{\"colorbar\":{\"outlinewidth\":0,\"ticks\":\"\"}},\"colorscale\":{\"diverging\":[[0,\"#8e0152\"],[0.1,\"#c51b7d\"],[0.2,\"#de77ae\"],[0.3,\"#f1b6da\"],[0.4,\"#fde0ef\"],[0.5,\"#f7f7f7\"],[0.6,\"#e6f5d0\"],[0.7,\"#b8e186\"],[0.8,\"#7fbc41\"],[0.9,\"#4d9221\"],[1,\"#276419\"]],\"sequential\":[[0.0,\"#0d0887\"],[0.1111111111111111,\"#46039f\"],[0.2222222222222222,\"#7201a8\"],[0.3333333333333333,\"#9c179e\"],[0.4444444444444444,\"#bd3786\"],[0.5555555555555556,\"#d8576b\"],[0.6666666666666666,\"#ed7953\"],[0.7777777777777778,\"#fb9f3a\"],[0.8888888888888888,\"#fdca26\"],[1.0,\"#f0f921\"]],\"sequentialminus\":[[0.0,\"#0d0887\"],[0.1111111111111111,\"#46039f\"],[0.2222222222222222,\"#7201a8\"],[0.3333333333333333,\"#9c179e\"],[0.4444444444444444,\"#bd3786\"],[0.5555555555555556,\"#d8576b\"],[0.6666666666666666,\"#ed7953\"],[0.7777777777777778,\"#fb9f3a\"],[0.8888888888888888,\"#fdca26\"],[1.0,\"#f0f921\"]]},\"colorway\":[\"#636efa\",\"#EF553B\",\"#00cc96\",\"#ab63fa\",\"#FFA15A\",\"#19d3f3\",\"#FF6692\",\"#B6E880\",\"#FF97FF\",\"#FECB52\"],\"font\":{\"color\":\"#2a3f5f\"},\"geo\":{\"bgcolor\":\"white\",\"lakecolor\":\"white\",\"landcolor\":\"white\",\"showlakes\":true,\"showland\":true,\"subunitcolor\":\"#C8D4E3\"},\"hoverlabel\":{\"align\":\"left\"},\"hovermode\":\"closest\",\"mapbox\":{\"style\":\"light\"},\"paper_bgcolor\":\"white\",\"plot_bgcolor\":\"white\",\"polar\":{\"angularaxis\":{\"gridcolor\":\"#EBF0F8\",\"linecolor\":\"#EBF0F8\",\"ticks\":\"\"},\"bgcolor\":\"white\",\"radialaxis\":{\"gridcolor\":\"#EBF0F8\",\"linecolor\":\"#EBF0F8\",\"ticks\":\"\"}},\"scene\":{\"xaxis\":{\"backgroundcolor\":\"white\",\"gridcolor\":\"#DFE8F3\",\"gridwidth\":2,\"linecolor\":\"#EBF0F8\",\"showbackground\":true,\"ticks\":\"\",\"zerolinecolor\":\"#EBF0F8\"},\"yaxis\":{\"backgroundcolor\":\"white\",\"gridcolor\":\"#DFE8F3\",\"gridwidth\":2,\"linecolor\":\"#EBF0F8\",\"showbackground\":true,\"ticks\":\"\",\"zerolinecolor\":\"#EBF0F8\"},\"zaxis\":{\"backgroundcolor\":\"white\",\"gridcolor\":\"#DFE8F3\",\"gridwidth\":2,\"linecolor\":\"#EBF0F8\",\"showbackground\":true,\"ticks\":\"\",\"zerolinecolor\":\"#EBF0F8\"}},\"shapedefaults\":{\"line\":{\"color\":\"#2a3f5f\"}},\"ternary\":{\"aaxis\":{\"gridcolor\":\"#DFE8F3\",\"linecolor\":\"#A2B1C6\",\"ticks\":\"\"},\"baxis\":{\"gridcolor\":\"#DFE8F3\",\"linecolor\":\"#A2B1C6\",\"ticks\":\"\"},\"bgcolor\":\"white\",\"caxis\":{\"gridcolor\":\"#DFE8F3\",\"linecolor\":\"#A2B1C6\",\"ticks\":\"\"}},\"title\":{\"x\":0.05},\"xaxis\":{\"automargin\":true,\"gridcolor\":\"#EBF0F8\",\"linecolor\":\"#EBF0F8\",\"ticks\":\"\",\"title\":{\"standoff\":15},\"zerolinecolor\":\"#EBF0F8\",\"zerolinewidth\":2},\"yaxis\":{\"automargin\":true,\"gridcolor\":\"#EBF0F8\",\"linecolor\":\"#EBF0F8\",\"ticks\":\"\",\"title\":{\"standoff\":15},\"zerolinecolor\":\"#EBF0F8\",\"zerolinewidth\":2}}},\"xaxis\":{\"anchor\":\"y\",\"domain\":[0.0,0.94]},\"yaxis\":{\"anchor\":\"x\",\"domain\":[0.0,1.0],\"title\":{\"font\":{\"size\":20},\"text\":\"Normalised SID = SID \\u002f Number of Edges in DAG\"},\"range\":[0,6]},\"yaxis2\":{\"anchor\":\"x\",\"overlaying\":\"y\",\"side\":\"right\",\"scaleanchor\":0,\"showline\":false,\"showgrid\":false,\"showticklabels\":false,\"zeroline\":true,\"title\":{\"font\":{\"size\":20},\"text\":\"\"},\"range\":[0,6]},\"legend\":{\"orientation\":\"h\",\"xanchor\":\"center\",\"x\":0.5,\"yanchor\":\"top\",\"y\":1.1},\"margin\":{\"l\":40,\"r\":0,\"b\":70,\"t\":20},\"font\":{\"size\":20,\"family\":\"Serif\",\"color\":\"black\"},\"barmode\":\"group\",\"bargap\":0.15,\"bargroupgap\":0.1,\"width\":1600,\"height\":700,\"hovermode\":\"x unified\",\"annotations\":[{\"font\":{\"color\":\"Black\",\"family\":\"Serif\",\"size\":20},\"showarrow\":false,\"text\":\"Dataset:\",\"x\":0,\"xanchor\":\"center\",\"xref\":\"paper\",\"y\":-0.08,\"yanchor\":\"bottom\",\"yref\":\"paper\"},{\"bgcolor\":\"#E5ECF6\",\"bordercolor\":\"#E5ECF6\",\"borderwidth\":2,\"font\":{\"color\":\"black\",\"size\":20},\"opacity\":0.8,\"showarrow\":false,\"text\":\"           Low           \",\"x\":0.017,\"xanchor\":\"left\",\"xref\":\"x domain\",\"y\":1.015,\"yref\":\"y domain\"},{\"bgcolor\":\"#E5ECF6\",\"bordercolor\":\"#E5ECF6\",\"borderwidth\":2,\"font\":{\"color\":\"black\",\"size\":20},\"opacity\":0.8,\"showarrow\":false,\"text\":\"           High           \",\"x\":0.132,\"xanchor\":\"left\",\"xref\":\"x domain\",\"y\":1.015,\"yref\":\"y domain\"},{\"bgcolor\":\"#E5ECF6\",\"bordercolor\":\"#E5ECF6\",\"borderwidth\":2,\"font\":{\"color\":\"black\",\"size\":20},\"opacity\":0.8,\"showarrow\":false,\"text\":\"           Low           \",\"x\":0.267,\"xanchor\":\"left\",\"xref\":\"x domain\",\"y\":1.015,\"yref\":\"y domain\"},{\"bgcolor\":\"#E5ECF6\",\"bordercolor\":\"#E5ECF6\",\"borderwidth\":2,\"font\":{\"color\":\"black\",\"size\":20},\"opacity\":0.8,\"showarrow\":false,\"text\":\"           High           \",\"x\":0.382,\"xanchor\":\"left\",\"xref\":\"x domain\",\"y\":1.015,\"yref\":\"y domain\"},{\"bgcolor\":\"#E5ECF6\",\"bordercolor\":\"#E5ECF6\",\"borderwidth\":2,\"font\":{\"color\":\"black\",\"size\":20},\"opacity\":0.8,\"showarrow\":false,\"text\":\"           Low           \",\"x\":0.517,\"xanchor\":\"left\",\"xref\":\"x domain\",\"y\":1.015,\"yref\":\"y domain\"},{\"bgcolor\":\"#E5ECF6\",\"bordercolor\":\"#E5ECF6\",\"borderwidth\":2,\"font\":{\"color\":\"black\",\"size\":20},\"opacity\":0.8,\"showarrow\":false,\"text\":\"           High           \",\"x\":0.632,\"xanchor\":\"left\",\"xref\":\"x domain\",\"y\":1.015,\"yref\":\"y domain\"},{\"bgcolor\":\"#E5ECF6\",\"bordercolor\":\"#E5ECF6\",\"borderwidth\":2,\"font\":{\"color\":\"black\",\"size\":20},\"opacity\":0.8,\"showarrow\":false,\"text\":\"           Low           \",\"x\":0.767,\"xanchor\":\"left\",\"xref\":\"x domain\",\"y\":1.015,\"yref\":\"y domain\"},{\"bgcolor\":\"#E5ECF6\",\"bordercolor\":\"#E5ECF6\",\"borderwidth\":2,\"font\":{\"color\":\"black\",\"size\":20},\"opacity\":0.8,\"showarrow\":false,\"text\":\"           High           \",\"x\":0.882,\"xanchor\":\"left\",\"xref\":\"x domain\",\"y\":1.015,\"yref\":\"y domain\"}]},                        {\"responsive\": true}                    ).then(function(){\n",
       "                            \n",
       "var gd = document.getElementById('5ea93c28-2038-4dcc-bd35-3af419a634c6');\n",
       "var x = new MutationObserver(function (mutations, observer) {{\n",
       "        var display = window.getComputedStyle(gd).display;\n",
       "        if (!display || display === 'none') {{\n",
       "            console.log([gd, 'removed!']);\n",
       "            Plotly.purge(gd);\n",
       "            observer.disconnect();\n",
       "        }}\n",
       "}});\n",
       "\n",
       "// Listen for the removal of the full notebook cells\n",
       "var notebookContainer = gd.closest('#notebook-container');\n",
       "if (notebookContainer) {{\n",
       "    x.observe(notebookContainer, {childList: true});\n",
       "}}\n",
       "\n",
       "// Listen for the clearing of the current output cell\n",
       "var outputEl = gd.closest('.output');\n",
       "if (outputEl) {{\n",
       "    x.observe(outputEl, {childList: true});\n",
       "}}\n",
       "\n",
       "                        })                };                });            </script>        </div>"
      ]
     },
     "metadata": {},
     "output_type": "display_data"
    }
   ],
   "source": [
    "version_cpdag = version+'_cpdag'\n",
    "\n",
    "all_sum = pd.DataFrame(np.load(f\"../results/stored_results_{version}_cpdag.npy\", allow_pickle=True), \n",
    "                       columns=['dataset', 'model', 'elapsed_mean', 'elapsed_std', 'nnz_mean', 'nnz_std', \n",
    "                                'fdr_mean', 'fdr_std', 'tpr_mean', 'tpr_std', 'fpr_mean', 'fpr_std', \n",
    "                                'precision_mean', 'precision_std', 'recall_mean', 'recall_std',\n",
    "                                'F1_mean', 'F1_std', 'shd_mean', 'shd_std', \n",
    "                                'SID_low_mean', 'SID_low_std', 'SID_high_mean', 'SID_high_std'\n",
    "                                ])\n",
    "all_sum_aspcr = pd.DataFrame(np.load(f\"../results/stored_results_aspcr_{version}_cpdag.npy\", allow_pickle=True), \n",
    "                       columns=['dataset', 'model', 'elapsed_mean', 'elapsed_std', 'nnz_mean', 'nnz_std', \n",
    "                                'fdr_mean', 'fdr_std', 'tpr_mean', 'tpr_std', 'fpr_mean', 'fpr_std', \n",
    "                                'precision_mean', 'precision_std', 'recall_mean', 'recall_std',\n",
    "                                'F1_mean', 'F1_std', 'shd_mean', 'shd_std', \n",
    "                                'SID_low_mean', 'SID_low_std', 'SID_high_mean', 'SID_high_std'\n",
    "                                ])\n",
    "all_sum_aspcr['model'] = 'ASPCR'\n",
    "\n",
    "all_sum = pd.concat([all_sum, all_sum_aspcr])\n",
    "\n",
    "all_sum['n_edges'] = all_sum['dataset'].map(dags_arcs_map)\n",
    "all_sum['n_nodes'] = all_sum['dataset'].map(dags_nodes_map)\n",
    "for var in ['shd','SID_low','SID_high']:\n",
    "    all_sum['p_'+var+'_mean'] = all_sum[var+'_mean'].astype(float)/all_sum['n_edges'].astype(int)\n",
    "    all_sum['p_'+var+'_std'] = all_sum[var+'_std'].astype(float)/all_sum['n_edges'].astype(int)\n",
    "all_sum['dataset'] = [a.upper() for a in all_sum[\"dataset\"].astype(str)]\n",
    "all_sum['dataset'] = all_sum['dataset'] +np.repeat(\"<br> |V|=\",len(all_sum))+ all_sum[\"n_nodes\"].astype(str)+np.repeat(\", |E|=\",len(all_sum))+\\\n",
    "                     all_sum[\"n_edges\"].astype(str)\n",
    "\n",
    "double_bar_chart_plotly(all_sum, ['p_SID_low','p_SID_high'], names_dict, colors_dict, methods, save_figs=save_figs, output_name=\"../results/figs/Fig.2_SID_cpdag.html\", debug=False, range_y1=[0,6], range_y2=[0,6])#"
   ]
  },
  {
   "cell_type": "markdown",
   "metadata": {},
   "source": [
    "### Runtime"
   ]
  },
  {
   "cell_type": "code",
   "execution_count": 9,
   "metadata": {},
   "outputs": [
    {
     "data": {
      "application/vnd.plotly.v1+json": {
       "config": {
        "plotlyServerURL": "https://plot.ly"
       },
       "data": [
        {
         "error_y": {
          "array": [
           0,
           0.08,
           0.09
          ],
          "thickness": 2,
          "type": "data"
         },
         "line": {
          "color": "#b85c00",
          "simplify": true,
          "width": 2
         },
         "marker": {
          "color": "#b85c00",
          "size": 8,
          "symbol": "triangle-up-dot"
         },
         "mode": "lines+markers",
         "name": "FGS",
         "showlegend": true,
         "type": "scatter",
         "x": [
          "5",
          "6",
          "8"
         ],
         "xaxis": "x",
         "y": [
          0.11,
          0.11,
          0.14
         ],
         "yaxis": "y"
        },
        {
         "error_y": {
          "array": [
           0.9616652224137048,
           0.12,
           0.47
          ],
          "thickness": 2,
          "type": "data"
         },
         "line": {
          "color": "#9454c4",
          "simplify": true,
          "width": 2
         },
         "marker": {
          "color": "#9454c4",
          "size": 8,
          "symbol": "pentagon-dot"
         },
         "mode": "lines+markers",
         "name": "NOTEARS-MLP",
         "showlegend": true,
         "type": "scatter",
         "x": [
          "5",
          "6",
          "8"
         ],
         "xaxis": "x",
         "y": [
          0.9,
          0.07,
          2.01
         ],
         "yaxis": "y"
        },
        {
         "error_y": {
          "array": [
           0,
           0,
           0
          ],
          "thickness": 2,
          "type": "data"
         },
         "line": {
          "color": "#379f9f",
          "simplify": true,
          "width": 2
         },
         "marker": {
          "color": "#379f9f",
          "size": 8,
          "symbol": "hexagon2-dot"
         },
         "mode": "lines+markers",
         "name": "MPC",
         "showlegend": true,
         "type": "scatter",
         "x": [
          "5",
          "6",
          "8"
         ],
         "xaxis": "x",
         "y": [
          0.01,
          0.01,
          0.02
         ],
         "yaxis": "y"
        },
        {
         "error_y": {
          "array": [
           0.1767766952966369,
           2.28,
           null
          ],
          "thickness": 2,
          "type": "data"
         },
         "line": {
          "color": "#441469",
          "simplify": true,
          "width": 2
         },
         "marker": {
          "color": "#441469",
          "size": 8,
          "symbol": "diamond-dot"
         },
         "mode": "lines+markers",
         "name": "ASPCR",
         "showlegend": true,
         "type": "scatter",
         "x": [
          "5",
          "6",
          "8"
         ],
         "xaxis": "x",
         "y": [
          10.915,
          40.27,
          null
         ],
         "yaxis": "y"
        },
        {
         "error_y": {
          "array": [
           0.3676955262170047,
           22.32,
           295.43
          ],
          "thickness": 2,
          "type": "data"
         },
         "line": {
          "color": "#0085CA",
          "simplify": true,
          "width": 2
         },
         "marker": {
          "color": "#0085CA",
          "size": 8,
          "symbol": "triangle-down-dot"
         },
         "mode": "lines+markers",
         "name": "ABAPC (Ours)",
         "showlegend": true,
         "type": "scatter",
         "x": [
          "5",
          "6",
          "8"
         ],
         "xaxis": "x",
         "y": [
          0.71,
          10.58,
          211.98
         ],
         "yaxis": "y"
        }
       ],
       "layout": {
        "font": {
         "color": "black",
         "family": "Serif",
         "size": 20
        },
        "height": 350,
        "legend": {
         "orientation": "h",
         "x": 0.5,
         "xanchor": "center",
         "y": 1.1,
         "yanchor": "top"
        },
        "margin": {
         "b": 80,
         "l": 10,
         "r": 10,
         "t": 10
        },
        "template": {
         "data": {
          "bar": [
           {
            "error_x": {
             "color": "#2a3f5f"
            },
            "error_y": {
             "color": "#2a3f5f"
            },
            "marker": {
             "line": {
              "color": "white",
              "width": 0.5
             },
             "pattern": {
              "fillmode": "overlay",
              "size": 10,
              "solidity": 0.2
             }
            },
            "type": "bar"
           }
          ],
          "barpolar": [
           {
            "marker": {
             "line": {
              "color": "white",
              "width": 0.5
             },
             "pattern": {
              "fillmode": "overlay",
              "size": 10,
              "solidity": 0.2
             }
            },
            "type": "barpolar"
           }
          ],
          "carpet": [
           {
            "aaxis": {
             "endlinecolor": "#2a3f5f",
             "gridcolor": "#C8D4E3",
             "linecolor": "#C8D4E3",
             "minorgridcolor": "#C8D4E3",
             "startlinecolor": "#2a3f5f"
            },
            "baxis": {
             "endlinecolor": "#2a3f5f",
             "gridcolor": "#C8D4E3",
             "linecolor": "#C8D4E3",
             "minorgridcolor": "#C8D4E3",
             "startlinecolor": "#2a3f5f"
            },
            "type": "carpet"
           }
          ],
          "choropleth": [
           {
            "colorbar": {
             "outlinewidth": 0,
             "ticks": ""
            },
            "type": "choropleth"
           }
          ],
          "contour": [
           {
            "colorbar": {
             "outlinewidth": 0,
             "ticks": ""
            },
            "colorscale": [
             [
              0,
              "#0d0887"
             ],
             [
              0.1111111111111111,
              "#46039f"
             ],
             [
              0.2222222222222222,
              "#7201a8"
             ],
             [
              0.3333333333333333,
              "#9c179e"
             ],
             [
              0.4444444444444444,
              "#bd3786"
             ],
             [
              0.5555555555555556,
              "#d8576b"
             ],
             [
              0.6666666666666666,
              "#ed7953"
             ],
             [
              0.7777777777777778,
              "#fb9f3a"
             ],
             [
              0.8888888888888888,
              "#fdca26"
             ],
             [
              1,
              "#f0f921"
             ]
            ],
            "type": "contour"
           }
          ],
          "contourcarpet": [
           {
            "colorbar": {
             "outlinewidth": 0,
             "ticks": ""
            },
            "type": "contourcarpet"
           }
          ],
          "heatmap": [
           {
            "colorbar": {
             "outlinewidth": 0,
             "ticks": ""
            },
            "colorscale": [
             [
              0,
              "#0d0887"
             ],
             [
              0.1111111111111111,
              "#46039f"
             ],
             [
              0.2222222222222222,
              "#7201a8"
             ],
             [
              0.3333333333333333,
              "#9c179e"
             ],
             [
              0.4444444444444444,
              "#bd3786"
             ],
             [
              0.5555555555555556,
              "#d8576b"
             ],
             [
              0.6666666666666666,
              "#ed7953"
             ],
             [
              0.7777777777777778,
              "#fb9f3a"
             ],
             [
              0.8888888888888888,
              "#fdca26"
             ],
             [
              1,
              "#f0f921"
             ]
            ],
            "type": "heatmap"
           }
          ],
          "heatmapgl": [
           {
            "colorbar": {
             "outlinewidth": 0,
             "ticks": ""
            },
            "colorscale": [
             [
              0,
              "#0d0887"
             ],
             [
              0.1111111111111111,
              "#46039f"
             ],
             [
              0.2222222222222222,
              "#7201a8"
             ],
             [
              0.3333333333333333,
              "#9c179e"
             ],
             [
              0.4444444444444444,
              "#bd3786"
             ],
             [
              0.5555555555555556,
              "#d8576b"
             ],
             [
              0.6666666666666666,
              "#ed7953"
             ],
             [
              0.7777777777777778,
              "#fb9f3a"
             ],
             [
              0.8888888888888888,
              "#fdca26"
             ],
             [
              1,
              "#f0f921"
             ]
            ],
            "type": "heatmapgl"
           }
          ],
          "histogram": [
           {
            "marker": {
             "pattern": {
              "fillmode": "overlay",
              "size": 10,
              "solidity": 0.2
             }
            },
            "type": "histogram"
           }
          ],
          "histogram2d": [
           {
            "colorbar": {
             "outlinewidth": 0,
             "ticks": ""
            },
            "colorscale": [
             [
              0,
              "#0d0887"
             ],
             [
              0.1111111111111111,
              "#46039f"
             ],
             [
              0.2222222222222222,
              "#7201a8"
             ],
             [
              0.3333333333333333,
              "#9c179e"
             ],
             [
              0.4444444444444444,
              "#bd3786"
             ],
             [
              0.5555555555555556,
              "#d8576b"
             ],
             [
              0.6666666666666666,
              "#ed7953"
             ],
             [
              0.7777777777777778,
              "#fb9f3a"
             ],
             [
              0.8888888888888888,
              "#fdca26"
             ],
             [
              1,
              "#f0f921"
             ]
            ],
            "type": "histogram2d"
           }
          ],
          "histogram2dcontour": [
           {
            "colorbar": {
             "outlinewidth": 0,
             "ticks": ""
            },
            "colorscale": [
             [
              0,
              "#0d0887"
             ],
             [
              0.1111111111111111,
              "#46039f"
             ],
             [
              0.2222222222222222,
              "#7201a8"
             ],
             [
              0.3333333333333333,
              "#9c179e"
             ],
             [
              0.4444444444444444,
              "#bd3786"
             ],
             [
              0.5555555555555556,
              "#d8576b"
             ],
             [
              0.6666666666666666,
              "#ed7953"
             ],
             [
              0.7777777777777778,
              "#fb9f3a"
             ],
             [
              0.8888888888888888,
              "#fdca26"
             ],
             [
              1,
              "#f0f921"
             ]
            ],
            "type": "histogram2dcontour"
           }
          ],
          "mesh3d": [
           {
            "colorbar": {
             "outlinewidth": 0,
             "ticks": ""
            },
            "type": "mesh3d"
           }
          ],
          "parcoords": [
           {
            "line": {
             "colorbar": {
              "outlinewidth": 0,
              "ticks": ""
             }
            },
            "type": "parcoords"
           }
          ],
          "pie": [
           {
            "automargin": true,
            "type": "pie"
           }
          ],
          "scatter": [
           {
            "fillpattern": {
             "fillmode": "overlay",
             "size": 10,
             "solidity": 0.2
            },
            "type": "scatter"
           }
          ],
          "scatter3d": [
           {
            "line": {
             "colorbar": {
              "outlinewidth": 0,
              "ticks": ""
             }
            },
            "marker": {
             "colorbar": {
              "outlinewidth": 0,
              "ticks": ""
             }
            },
            "type": "scatter3d"
           }
          ],
          "scattercarpet": [
           {
            "marker": {
             "colorbar": {
              "outlinewidth": 0,
              "ticks": ""
             }
            },
            "type": "scattercarpet"
           }
          ],
          "scattergeo": [
           {
            "marker": {
             "colorbar": {
              "outlinewidth": 0,
              "ticks": ""
             }
            },
            "type": "scattergeo"
           }
          ],
          "scattergl": [
           {
            "marker": {
             "colorbar": {
              "outlinewidth": 0,
              "ticks": ""
             }
            },
            "type": "scattergl"
           }
          ],
          "scattermapbox": [
           {
            "marker": {
             "colorbar": {
              "outlinewidth": 0,
              "ticks": ""
             }
            },
            "type": "scattermapbox"
           }
          ],
          "scatterpolar": [
           {
            "marker": {
             "colorbar": {
              "outlinewidth": 0,
              "ticks": ""
             }
            },
            "type": "scatterpolar"
           }
          ],
          "scatterpolargl": [
           {
            "marker": {
             "colorbar": {
              "outlinewidth": 0,
              "ticks": ""
             }
            },
            "type": "scatterpolargl"
           }
          ],
          "scatterternary": [
           {
            "marker": {
             "colorbar": {
              "outlinewidth": 0,
              "ticks": ""
             }
            },
            "type": "scatterternary"
           }
          ],
          "surface": [
           {
            "colorbar": {
             "outlinewidth": 0,
             "ticks": ""
            },
            "colorscale": [
             [
              0,
              "#0d0887"
             ],
             [
              0.1111111111111111,
              "#46039f"
             ],
             [
              0.2222222222222222,
              "#7201a8"
             ],
             [
              0.3333333333333333,
              "#9c179e"
             ],
             [
              0.4444444444444444,
              "#bd3786"
             ],
             [
              0.5555555555555556,
              "#d8576b"
             ],
             [
              0.6666666666666666,
              "#ed7953"
             ],
             [
              0.7777777777777778,
              "#fb9f3a"
             ],
             [
              0.8888888888888888,
              "#fdca26"
             ],
             [
              1,
              "#f0f921"
             ]
            ],
            "type": "surface"
           }
          ],
          "table": [
           {
            "cells": {
             "fill": {
              "color": "#EBF0F8"
             },
             "line": {
              "color": "white"
             }
            },
            "header": {
             "fill": {
              "color": "#C8D4E3"
             },
             "line": {
              "color": "white"
             }
            },
            "type": "table"
           }
          ]
         },
         "layout": {
          "annotationdefaults": {
           "arrowcolor": "#2a3f5f",
           "arrowhead": 0,
           "arrowwidth": 1
          },
          "autotypenumbers": "strict",
          "coloraxis": {
           "colorbar": {
            "outlinewidth": 0,
            "ticks": ""
           }
          },
          "colorscale": {
           "diverging": [
            [
             0,
             "#8e0152"
            ],
            [
             0.1,
             "#c51b7d"
            ],
            [
             0.2,
             "#de77ae"
            ],
            [
             0.3,
             "#f1b6da"
            ],
            [
             0.4,
             "#fde0ef"
            ],
            [
             0.5,
             "#f7f7f7"
            ],
            [
             0.6,
             "#e6f5d0"
            ],
            [
             0.7,
             "#b8e186"
            ],
            [
             0.8,
             "#7fbc41"
            ],
            [
             0.9,
             "#4d9221"
            ],
            [
             1,
             "#276419"
            ]
           ],
           "sequential": [
            [
             0,
             "#0d0887"
            ],
            [
             0.1111111111111111,
             "#46039f"
            ],
            [
             0.2222222222222222,
             "#7201a8"
            ],
            [
             0.3333333333333333,
             "#9c179e"
            ],
            [
             0.4444444444444444,
             "#bd3786"
            ],
            [
             0.5555555555555556,
             "#d8576b"
            ],
            [
             0.6666666666666666,
             "#ed7953"
            ],
            [
             0.7777777777777778,
             "#fb9f3a"
            ],
            [
             0.8888888888888888,
             "#fdca26"
            ],
            [
             1,
             "#f0f921"
            ]
           ],
           "sequentialminus": [
            [
             0,
             "#0d0887"
            ],
            [
             0.1111111111111111,
             "#46039f"
            ],
            [
             0.2222222222222222,
             "#7201a8"
            ],
            [
             0.3333333333333333,
             "#9c179e"
            ],
            [
             0.4444444444444444,
             "#bd3786"
            ],
            [
             0.5555555555555556,
             "#d8576b"
            ],
            [
             0.6666666666666666,
             "#ed7953"
            ],
            [
             0.7777777777777778,
             "#fb9f3a"
            ],
            [
             0.8888888888888888,
             "#fdca26"
            ],
            [
             1,
             "#f0f921"
            ]
           ]
          },
          "colorway": [
           "#636efa",
           "#EF553B",
           "#00cc96",
           "#ab63fa",
           "#FFA15A",
           "#19d3f3",
           "#FF6692",
           "#B6E880",
           "#FF97FF",
           "#FECB52"
          ],
          "font": {
           "color": "#2a3f5f"
          },
          "geo": {
           "bgcolor": "white",
           "lakecolor": "white",
           "landcolor": "white",
           "showlakes": true,
           "showland": true,
           "subunitcolor": "#C8D4E3"
          },
          "hoverlabel": {
           "align": "left"
          },
          "hovermode": "closest",
          "mapbox": {
           "style": "light"
          },
          "paper_bgcolor": "white",
          "plot_bgcolor": "white",
          "polar": {
           "angularaxis": {
            "gridcolor": "#EBF0F8",
            "linecolor": "#EBF0F8",
            "ticks": ""
           },
           "bgcolor": "white",
           "radialaxis": {
            "gridcolor": "#EBF0F8",
            "linecolor": "#EBF0F8",
            "ticks": ""
           }
          },
          "scene": {
           "xaxis": {
            "backgroundcolor": "white",
            "gridcolor": "#DFE8F3",
            "gridwidth": 2,
            "linecolor": "#EBF0F8",
            "showbackground": true,
            "ticks": "",
            "zerolinecolor": "#EBF0F8"
           },
           "yaxis": {
            "backgroundcolor": "white",
            "gridcolor": "#DFE8F3",
            "gridwidth": 2,
            "linecolor": "#EBF0F8",
            "showbackground": true,
            "ticks": "",
            "zerolinecolor": "#EBF0F8"
           },
           "zaxis": {
            "backgroundcolor": "white",
            "gridcolor": "#DFE8F3",
            "gridwidth": 2,
            "linecolor": "#EBF0F8",
            "showbackground": true,
            "ticks": "",
            "zerolinecolor": "#EBF0F8"
           }
          },
          "shapedefaults": {
           "line": {
            "color": "#2a3f5f"
           }
          },
          "ternary": {
           "aaxis": {
            "gridcolor": "#DFE8F3",
            "linecolor": "#A2B1C6",
            "ticks": ""
           },
           "baxis": {
            "gridcolor": "#DFE8F3",
            "linecolor": "#A2B1C6",
            "ticks": ""
           },
           "bgcolor": "white",
           "caxis": {
            "gridcolor": "#DFE8F3",
            "linecolor": "#A2B1C6",
            "ticks": ""
           }
          },
          "title": {
           "x": 0.05
          },
          "xaxis": {
           "automargin": true,
           "gridcolor": "#EBF0F8",
           "linecolor": "#EBF0F8",
           "ticks": "",
           "title": {
            "standoff": 15
           },
           "zerolinecolor": "#EBF0F8",
           "zerolinewidth": 2
          },
          "yaxis": {
           "automargin": true,
           "gridcolor": "#EBF0F8",
           "linecolor": "#EBF0F8",
           "ticks": "",
           "title": {
            "standoff": 15
           },
           "zerolinecolor": "#EBF0F8",
           "zerolinewidth": 2
          }
         }
        },
        "width": 800,
        "xaxis": {
         "anchor": "y",
         "domain": [
          0,
          1
         ],
         "title": {
          "standoff": 0,
          "text": "Number of Nodes (|V|)"
         }
        },
        "yaxis": {
         "anchor": "x",
         "domain": [
          0,
          1
         ],
         "matches": "y",
         "title": {
          "standoff": 0,
          "text": "log(elapsed time [s])"
         },
         "type": "log"
        }
       }
      },
      "text/html": [
       "<div>                            <div id=\"ef46e782-9fe9-4d6c-a760-cc6a3314bb65\" class=\"plotly-graph-div\" style=\"height:350px; width:800px;\"></div>            <script type=\"text/javascript\">                require([\"plotly\"], function(Plotly) {                    window.PLOTLYENV=window.PLOTLYENV || {};                                    if (document.getElementById(\"ef46e782-9fe9-4d6c-a760-cc6a3314bb65\")) {                    Plotly.newPlot(                        \"ef46e782-9fe9-4d6c-a760-cc6a3314bb65\",                        [{\"error_y\":{\"array\":[0.0,0.08,0.09],\"type\":\"data\",\"thickness\":2},\"line\":{\"color\":\"#b85c00\",\"simplify\":true,\"width\":2},\"marker\":{\"color\":\"#b85c00\",\"size\":8,\"symbol\":\"triangle-up-dot\"},\"mode\":\"lines+markers\",\"name\":\"FGS\",\"showlegend\":true,\"x\":[\"5\",\"6\",\"8\"],\"y\":[0.11,0.11,0.14],\"type\":\"scatter\",\"xaxis\":\"x\",\"yaxis\":\"y\"},{\"error_y\":{\"array\":[0.9616652224137048,0.12,0.47],\"type\":\"data\",\"thickness\":2},\"line\":{\"color\":\"#9454c4\",\"simplify\":true,\"width\":2},\"marker\":{\"color\":\"#9454c4\",\"size\":8,\"symbol\":\"pentagon-dot\"},\"mode\":\"lines+markers\",\"name\":\"NOTEARS-MLP\",\"showlegend\":true,\"x\":[\"5\",\"6\",\"8\"],\"y\":[0.9,0.07,2.01],\"type\":\"scatter\",\"xaxis\":\"x\",\"yaxis\":\"y\"},{\"error_y\":{\"array\":[0.0,0.0,0.0],\"type\":\"data\",\"thickness\":2},\"line\":{\"color\":\"#379f9f\",\"simplify\":true,\"width\":2},\"marker\":{\"color\":\"#379f9f\",\"size\":8,\"symbol\":\"hexagon2-dot\"},\"mode\":\"lines+markers\",\"name\":\"MPC\",\"showlegend\":true,\"x\":[\"5\",\"6\",\"8\"],\"y\":[0.01,0.01,0.02],\"type\":\"scatter\",\"xaxis\":\"x\",\"yaxis\":\"y\"},{\"error_y\":{\"array\":[0.1767766952966369,2.28,null],\"type\":\"data\",\"thickness\":2},\"line\":{\"color\":\"#441469\",\"simplify\":true,\"width\":2},\"marker\":{\"color\":\"#441469\",\"size\":8,\"symbol\":\"diamond-dot\"},\"mode\":\"lines+markers\",\"name\":\"ASPCR\",\"showlegend\":true,\"x\":[\"5\",\"6\",\"8\"],\"y\":[10.915,40.27,null],\"type\":\"scatter\",\"xaxis\":\"x\",\"yaxis\":\"y\"},{\"error_y\":{\"array\":[0.3676955262170047,22.32,295.43],\"type\":\"data\",\"thickness\":2},\"line\":{\"color\":\"#0085CA\",\"simplify\":true,\"width\":2},\"marker\":{\"color\":\"#0085CA\",\"size\":8,\"symbol\":\"triangle-down-dot\"},\"mode\":\"lines+markers\",\"name\":\"ABAPC (Ours)\",\"showlegend\":true,\"x\":[\"5\",\"6\",\"8\"],\"y\":[0.71,10.58,211.98],\"type\":\"scatter\",\"xaxis\":\"x\",\"yaxis\":\"y\"}],                        {\"template\":{\"data\":{\"barpolar\":[{\"marker\":{\"line\":{\"color\":\"white\",\"width\":0.5},\"pattern\":{\"fillmode\":\"overlay\",\"size\":10,\"solidity\":0.2}},\"type\":\"barpolar\"}],\"bar\":[{\"error_x\":{\"color\":\"#2a3f5f\"},\"error_y\":{\"color\":\"#2a3f5f\"},\"marker\":{\"line\":{\"color\":\"white\",\"width\":0.5},\"pattern\":{\"fillmode\":\"overlay\",\"size\":10,\"solidity\":0.2}},\"type\":\"bar\"}],\"carpet\":[{\"aaxis\":{\"endlinecolor\":\"#2a3f5f\",\"gridcolor\":\"#C8D4E3\",\"linecolor\":\"#C8D4E3\",\"minorgridcolor\":\"#C8D4E3\",\"startlinecolor\":\"#2a3f5f\"},\"baxis\":{\"endlinecolor\":\"#2a3f5f\",\"gridcolor\":\"#C8D4E3\",\"linecolor\":\"#C8D4E3\",\"minorgridcolor\":\"#C8D4E3\",\"startlinecolor\":\"#2a3f5f\"},\"type\":\"carpet\"}],\"choropleth\":[{\"colorbar\":{\"outlinewidth\":0,\"ticks\":\"\"},\"type\":\"choropleth\"}],\"contourcarpet\":[{\"colorbar\":{\"outlinewidth\":0,\"ticks\":\"\"},\"type\":\"contourcarpet\"}],\"contour\":[{\"colorbar\":{\"outlinewidth\":0,\"ticks\":\"\"},\"colorscale\":[[0.0,\"#0d0887\"],[0.1111111111111111,\"#46039f\"],[0.2222222222222222,\"#7201a8\"],[0.3333333333333333,\"#9c179e\"],[0.4444444444444444,\"#bd3786\"],[0.5555555555555556,\"#d8576b\"],[0.6666666666666666,\"#ed7953\"],[0.7777777777777778,\"#fb9f3a\"],[0.8888888888888888,\"#fdca26\"],[1.0,\"#f0f921\"]],\"type\":\"contour\"}],\"heatmapgl\":[{\"colorbar\":{\"outlinewidth\":0,\"ticks\":\"\"},\"colorscale\":[[0.0,\"#0d0887\"],[0.1111111111111111,\"#46039f\"],[0.2222222222222222,\"#7201a8\"],[0.3333333333333333,\"#9c179e\"],[0.4444444444444444,\"#bd3786\"],[0.5555555555555556,\"#d8576b\"],[0.6666666666666666,\"#ed7953\"],[0.7777777777777778,\"#fb9f3a\"],[0.8888888888888888,\"#fdca26\"],[1.0,\"#f0f921\"]],\"type\":\"heatmapgl\"}],\"heatmap\":[{\"colorbar\":{\"outlinewidth\":0,\"ticks\":\"\"},\"colorscale\":[[0.0,\"#0d0887\"],[0.1111111111111111,\"#46039f\"],[0.2222222222222222,\"#7201a8\"],[0.3333333333333333,\"#9c179e\"],[0.4444444444444444,\"#bd3786\"],[0.5555555555555556,\"#d8576b\"],[0.6666666666666666,\"#ed7953\"],[0.7777777777777778,\"#fb9f3a\"],[0.8888888888888888,\"#fdca26\"],[1.0,\"#f0f921\"]],\"type\":\"heatmap\"}],\"histogram2dcontour\":[{\"colorbar\":{\"outlinewidth\":0,\"ticks\":\"\"},\"colorscale\":[[0.0,\"#0d0887\"],[0.1111111111111111,\"#46039f\"],[0.2222222222222222,\"#7201a8\"],[0.3333333333333333,\"#9c179e\"],[0.4444444444444444,\"#bd3786\"],[0.5555555555555556,\"#d8576b\"],[0.6666666666666666,\"#ed7953\"],[0.7777777777777778,\"#fb9f3a\"],[0.8888888888888888,\"#fdca26\"],[1.0,\"#f0f921\"]],\"type\":\"histogram2dcontour\"}],\"histogram2d\":[{\"colorbar\":{\"outlinewidth\":0,\"ticks\":\"\"},\"colorscale\":[[0.0,\"#0d0887\"],[0.1111111111111111,\"#46039f\"],[0.2222222222222222,\"#7201a8\"],[0.3333333333333333,\"#9c179e\"],[0.4444444444444444,\"#bd3786\"],[0.5555555555555556,\"#d8576b\"],[0.6666666666666666,\"#ed7953\"],[0.7777777777777778,\"#fb9f3a\"],[0.8888888888888888,\"#fdca26\"],[1.0,\"#f0f921\"]],\"type\":\"histogram2d\"}],\"histogram\":[{\"marker\":{\"pattern\":{\"fillmode\":\"overlay\",\"size\":10,\"solidity\":0.2}},\"type\":\"histogram\"}],\"mesh3d\":[{\"colorbar\":{\"outlinewidth\":0,\"ticks\":\"\"},\"type\":\"mesh3d\"}],\"parcoords\":[{\"line\":{\"colorbar\":{\"outlinewidth\":0,\"ticks\":\"\"}},\"type\":\"parcoords\"}],\"pie\":[{\"automargin\":true,\"type\":\"pie\"}],\"scatter3d\":[{\"line\":{\"colorbar\":{\"outlinewidth\":0,\"ticks\":\"\"}},\"marker\":{\"colorbar\":{\"outlinewidth\":0,\"ticks\":\"\"}},\"type\":\"scatter3d\"}],\"scattercarpet\":[{\"marker\":{\"colorbar\":{\"outlinewidth\":0,\"ticks\":\"\"}},\"type\":\"scattercarpet\"}],\"scattergeo\":[{\"marker\":{\"colorbar\":{\"outlinewidth\":0,\"ticks\":\"\"}},\"type\":\"scattergeo\"}],\"scattergl\":[{\"marker\":{\"colorbar\":{\"outlinewidth\":0,\"ticks\":\"\"}},\"type\":\"scattergl\"}],\"scattermapbox\":[{\"marker\":{\"colorbar\":{\"outlinewidth\":0,\"ticks\":\"\"}},\"type\":\"scattermapbox\"}],\"scatterpolargl\":[{\"marker\":{\"colorbar\":{\"outlinewidth\":0,\"ticks\":\"\"}},\"type\":\"scatterpolargl\"}],\"scatterpolar\":[{\"marker\":{\"colorbar\":{\"outlinewidth\":0,\"ticks\":\"\"}},\"type\":\"scatterpolar\"}],\"scatter\":[{\"fillpattern\":{\"fillmode\":\"overlay\",\"size\":10,\"solidity\":0.2},\"type\":\"scatter\"}],\"scatterternary\":[{\"marker\":{\"colorbar\":{\"outlinewidth\":0,\"ticks\":\"\"}},\"type\":\"scatterternary\"}],\"surface\":[{\"colorbar\":{\"outlinewidth\":0,\"ticks\":\"\"},\"colorscale\":[[0.0,\"#0d0887\"],[0.1111111111111111,\"#46039f\"],[0.2222222222222222,\"#7201a8\"],[0.3333333333333333,\"#9c179e\"],[0.4444444444444444,\"#bd3786\"],[0.5555555555555556,\"#d8576b\"],[0.6666666666666666,\"#ed7953\"],[0.7777777777777778,\"#fb9f3a\"],[0.8888888888888888,\"#fdca26\"],[1.0,\"#f0f921\"]],\"type\":\"surface\"}],\"table\":[{\"cells\":{\"fill\":{\"color\":\"#EBF0F8\"},\"line\":{\"color\":\"white\"}},\"header\":{\"fill\":{\"color\":\"#C8D4E3\"},\"line\":{\"color\":\"white\"}},\"type\":\"table\"}]},\"layout\":{\"annotationdefaults\":{\"arrowcolor\":\"#2a3f5f\",\"arrowhead\":0,\"arrowwidth\":1},\"autotypenumbers\":\"strict\",\"coloraxis\":{\"colorbar\":{\"outlinewidth\":0,\"ticks\":\"\"}},\"colorscale\":{\"diverging\":[[0,\"#8e0152\"],[0.1,\"#c51b7d\"],[0.2,\"#de77ae\"],[0.3,\"#f1b6da\"],[0.4,\"#fde0ef\"],[0.5,\"#f7f7f7\"],[0.6,\"#e6f5d0\"],[0.7,\"#b8e186\"],[0.8,\"#7fbc41\"],[0.9,\"#4d9221\"],[1,\"#276419\"]],\"sequential\":[[0.0,\"#0d0887\"],[0.1111111111111111,\"#46039f\"],[0.2222222222222222,\"#7201a8\"],[0.3333333333333333,\"#9c179e\"],[0.4444444444444444,\"#bd3786\"],[0.5555555555555556,\"#d8576b\"],[0.6666666666666666,\"#ed7953\"],[0.7777777777777778,\"#fb9f3a\"],[0.8888888888888888,\"#fdca26\"],[1.0,\"#f0f921\"]],\"sequentialminus\":[[0.0,\"#0d0887\"],[0.1111111111111111,\"#46039f\"],[0.2222222222222222,\"#7201a8\"],[0.3333333333333333,\"#9c179e\"],[0.4444444444444444,\"#bd3786\"],[0.5555555555555556,\"#d8576b\"],[0.6666666666666666,\"#ed7953\"],[0.7777777777777778,\"#fb9f3a\"],[0.8888888888888888,\"#fdca26\"],[1.0,\"#f0f921\"]]},\"colorway\":[\"#636efa\",\"#EF553B\",\"#00cc96\",\"#ab63fa\",\"#FFA15A\",\"#19d3f3\",\"#FF6692\",\"#B6E880\",\"#FF97FF\",\"#FECB52\"],\"font\":{\"color\":\"#2a3f5f\"},\"geo\":{\"bgcolor\":\"white\",\"lakecolor\":\"white\",\"landcolor\":\"white\",\"showlakes\":true,\"showland\":true,\"subunitcolor\":\"#C8D4E3\"},\"hoverlabel\":{\"align\":\"left\"},\"hovermode\":\"closest\",\"mapbox\":{\"style\":\"light\"},\"paper_bgcolor\":\"white\",\"plot_bgcolor\":\"white\",\"polar\":{\"angularaxis\":{\"gridcolor\":\"#EBF0F8\",\"linecolor\":\"#EBF0F8\",\"ticks\":\"\"},\"bgcolor\":\"white\",\"radialaxis\":{\"gridcolor\":\"#EBF0F8\",\"linecolor\":\"#EBF0F8\",\"ticks\":\"\"}},\"scene\":{\"xaxis\":{\"backgroundcolor\":\"white\",\"gridcolor\":\"#DFE8F3\",\"gridwidth\":2,\"linecolor\":\"#EBF0F8\",\"showbackground\":true,\"ticks\":\"\",\"zerolinecolor\":\"#EBF0F8\"},\"yaxis\":{\"backgroundcolor\":\"white\",\"gridcolor\":\"#DFE8F3\",\"gridwidth\":2,\"linecolor\":\"#EBF0F8\",\"showbackground\":true,\"ticks\":\"\",\"zerolinecolor\":\"#EBF0F8\"},\"zaxis\":{\"backgroundcolor\":\"white\",\"gridcolor\":\"#DFE8F3\",\"gridwidth\":2,\"linecolor\":\"#EBF0F8\",\"showbackground\":true,\"ticks\":\"\",\"zerolinecolor\":\"#EBF0F8\"}},\"shapedefaults\":{\"line\":{\"color\":\"#2a3f5f\"}},\"ternary\":{\"aaxis\":{\"gridcolor\":\"#DFE8F3\",\"linecolor\":\"#A2B1C6\",\"ticks\":\"\"},\"baxis\":{\"gridcolor\":\"#DFE8F3\",\"linecolor\":\"#A2B1C6\",\"ticks\":\"\"},\"bgcolor\":\"white\",\"caxis\":{\"gridcolor\":\"#DFE8F3\",\"linecolor\":\"#A2B1C6\",\"ticks\":\"\"}},\"title\":{\"x\":0.05},\"xaxis\":{\"automargin\":true,\"gridcolor\":\"#EBF0F8\",\"linecolor\":\"#EBF0F8\",\"ticks\":\"\",\"title\":{\"standoff\":15},\"zerolinecolor\":\"#EBF0F8\",\"zerolinewidth\":2},\"yaxis\":{\"automargin\":true,\"gridcolor\":\"#EBF0F8\",\"linecolor\":\"#EBF0F8\",\"ticks\":\"\",\"title\":{\"standoff\":15},\"zerolinecolor\":\"#EBF0F8\",\"zerolinewidth\":2}}},\"xaxis\":{\"anchor\":\"y\",\"domain\":[0.0,1.0],\"title\":{\"text\":\"Number of Nodes (|V|)\",\"standoff\":0}},\"yaxis\":{\"anchor\":\"x\",\"domain\":[0.0,1.0],\"matches\":\"y\",\"type\":\"log\",\"title\":{\"text\":\"log(elapsed time [s])\",\"standoff\":0}},\"legend\":{\"orientation\":\"h\",\"xanchor\":\"center\",\"x\":0.5,\"yanchor\":\"top\",\"y\":1.1},\"margin\":{\"l\":10,\"r\":10,\"b\":80,\"t\":10},\"font\":{\"size\":20,\"family\":\"Serif\",\"color\":\"black\"},\"width\":800,\"height\":350},                        {\"responsive\": true}                    ).then(function(){\n",
       "                            \n",
       "var gd = document.getElementById('ef46e782-9fe9-4d6c-a760-cc6a3314bb65');\n",
       "var x = new MutationObserver(function (mutations, observer) {{\n",
       "        var display = window.getComputedStyle(gd).display;\n",
       "        if (!display || display === 'none') {{\n",
       "            console.log([gd, 'removed!']);\n",
       "            Plotly.purge(gd);\n",
       "            observer.disconnect();\n",
       "        }}\n",
       "}});\n",
       "\n",
       "// Listen for the removal of the full notebook cells\n",
       "var notebookContainer = gd.closest('#notebook-container');\n",
       "if (notebookContainer) {{\n",
       "    x.observe(notebookContainer, {childList: true});\n",
       "}}\n",
       "\n",
       "// Listen for the clearing of the current output cell\n",
       "var outputEl = gd.closest('.output');\n",
       "if (outputEl) {{\n",
       "    x.observe(outputEl, {childList: true});\n",
       "}}\n",
       "\n",
       "                        })                };                });            </script>        </div>"
      ]
     },
     "metadata": {},
     "output_type": "display_data"
    }
   ],
   "source": [
    "plot_runtime(all_sum, ['n_nodes'], \"n_nodes <= 10\", \n",
    "                     names_dict, symbols_dict, colors_dict, ['fgs', 'nt', 'mpc', 'aspcr-log', 'abapc'],\n",
    "                         share_y=False, save_figs=save_figs, \n",
    "                            output_name=\"../results/figs/Fig.3_runtime.html\", debug=False, font_size=20,\n",
    "                            plot_height=350, plot_width=800)"
   ]
  },
  {
   "cell_type": "markdown",
   "metadata": {},
   "source": [
    "## Appendix"
   ]
  },
  {
   "cell_type": "markdown",
   "metadata": {},
   "source": [
    "### t-Tests for difference in means"
   ]
  },
  {
   "cell_type": "code",
   "execution_count": 12,
   "metadata": {},
   "outputs": [
    {
     "name": "stdout",
     "output_type": "stream",
     "text": [
      "0 '***' 0.001 '**' 0.01 '*' 0.05 '.' 0.1 'ns' 1.\n",
      "\n",
      "CANCER |V|=5, |E|=4\n",
      "==================================================\n",
      "SID_low\n",
      "\\!\\!\\!APC $(9.8\\pm2.2)$ \\!v\\! ASPCR $(6.8\\pm3.4)$ \\!\\!\\!&\\!\\!\\! 5.247 \\!\\!\\!&\\!\\!\\! 0.000*** \\\\\n",
      "\\!\\!\\!APC $(9.8\\pm2.2)$ \\!v\\! FGS $(6.3\\pm1.9)$ \\!\\!\\!&\\!\\!\\! 8.722 \\!\\!\\!&\\!\\!\\! 0.000*** \\\\\n",
      "\\!\\!\\!APC $(9.8\\pm2.2)$ \\!v\\! MPC $(3.9\\pm1.8)$ \\!\\!\\!&\\!\\!\\! 14.833 \\!\\!\\!&\\!\\!\\! 0.000*** \\\\\n",
      "\\!\\!\\!APC $(9.8\\pm2.2)$ \\!v\\! NT $(9.3\\pm1.6)$ \\!\\!\\!&\\!\\!\\! 1.476 \\!\\!\\!&\\!\\!\\! 0.144 \\\\\n",
      "\\!\\!\\!APC $(9.8\\pm2.2)$ \\!v\\! RND $(7.9\\pm3.6)$ \\!\\!\\!&\\!\\!\\! 3.169 \\!\\!\\!&\\!\\!\\! 0.002** \\\\\n",
      "\\!\\!\\!ASPCR $(6.8\\pm3.4)$ \\!v\\! FGS $(6.3\\pm1.9)$ \\!\\!\\!&\\!\\!\\! 0.976 \\!\\!\\!&\\!\\!\\! 0.332 \\\\\n",
      "\\!\\!\\!ASPCR $(6.8\\pm3.4)$ \\!v\\! MPC $(3.9\\pm1.8)$ \\!\\!\\!&\\!\\!\\! 5.360 \\!\\!\\!&\\!\\!\\! 0.000*** \\\\\n",
      "\\!\\!\\!ASPCR $(6.8\\pm3.4)$ \\!v\\! NT $(9.3\\pm1.6)$ \\!\\!\\!&\\!\\!\\! -4.621 \\!\\!\\!&\\!\\!\\! 0.000*** \\\\\n",
      "\\!\\!\\!ASPCR $(6.8\\pm3.4)$ \\!v\\! RND $(7.9\\pm3.6)$ \\!\\!\\!&\\!\\!\\! -1.586 \\!\\!\\!&\\!\\!\\! 0.116 \\\\\n",
      "\\!\\!\\!FGS $(6.3\\pm1.9)$ \\!v\\! MPC $(3.9\\pm1.8)$ \\!\\!\\!&\\!\\!\\! 6.503 \\!\\!\\!&\\!\\!\\! 0.000*** \\\\\n",
      "\\!\\!\\!FGS $(6.3\\pm1.9)$ \\!v\\! NT $(9.3\\pm1.6)$ \\!\\!\\!&\\!\\!\\! -8.706 \\!\\!\\!&\\!\\!\\! 0.000*** \\\\\n",
      "\\!\\!\\!FGS $(6.3\\pm1.9)$ \\!v\\! RND $(7.9\\pm3.6)$ \\!\\!\\!&\\!\\!\\! -2.871 \\!\\!\\!&\\!\\!\\! 0.005** \\\\\n",
      "\\!\\!\\!MPC $(3.9\\pm1.8)$ \\!v\\! NT $(9.3\\pm1.6)$ \\!\\!\\!&\\!\\!\\! -16.024 \\!\\!\\!&\\!\\!\\! 0.000*** \\\\\n",
      "\\!\\!\\!MPC $(3.9\\pm1.8)$ \\!v\\! RND $(7.9\\pm3.6)$ \\!\\!\\!&\\!\\!\\! -7.078 \\!\\!\\!&\\!\\!\\! 0.000*** \\\\\n",
      "\\!\\!\\!NT $(9.3\\pm1.6)$ \\!v\\! RND $(7.9\\pm3.6)$ \\!\\!\\!&\\!\\!\\! 2.401 \\!\\!\\!&\\!\\!\\! 0.019* \\\\\n",
      "\n",
      "SID_high\n",
      "\\!\\!\\!APC $(11.0\\pm2.1)$ \\!v\\! ASPCR $(12.7\\pm2.7)$ \\!\\!\\!&\\!\\!\\! -3.521 \\!\\!\\!&\\!\\!\\! 0.001*** \\\\\n",
      "\\!\\!\\!APC $(11.0\\pm2.1)$ \\!v\\! FGS $(16.3\\pm1.9)$ \\!\\!\\!&\\!\\!\\! -13.231 \\!\\!\\!&\\!\\!\\! 0.000*** \\\\\n",
      "\\!\\!\\!APC $(11.0\\pm2.1)$ \\!v\\! MPC $(13.9\\pm1.8)$ \\!\\!\\!&\\!\\!\\! -7.315 \\!\\!\\!&\\!\\!\\! 0.000*** \\\\\n",
      "\\!\\!\\!APC $(11.0\\pm2.1)$ \\!v\\! NT $(10.2\\pm0.4)$ \\!\\!\\!&\\!\\!\\! 2.794 \\!\\!\\!&\\!\\!\\! 0.007** \\\\\n",
      "\\!\\!\\!APC $(11.0\\pm2.1)$ \\!v\\! RND $(14.0\\pm3.0)$ \\!\\!\\!&\\!\\!\\! -5.801 \\!\\!\\!&\\!\\!\\! 0.000*** \\\\\n",
      "\\!\\!\\!ASPCR $(12.7\\pm2.7)$ \\!v\\! FGS $(16.3\\pm1.9)$ \\!\\!\\!&\\!\\!\\! -7.651 \\!\\!\\!&\\!\\!\\! 0.000*** \\\\\n",
      "\\!\\!\\!ASPCR $(12.7\\pm2.7)$ \\!v\\! MPC $(13.9\\pm1.8)$ \\!\\!\\!&\\!\\!\\! -2.523 \\!\\!\\!&\\!\\!\\! 0.013* \\\\\n",
      "\\!\\!\\!ASPCR $(12.7\\pm2.7)$ \\!v\\! NT $(10.2\\pm0.4)$ \\!\\!\\!&\\!\\!\\! 6.584 \\!\\!\\!&\\!\\!\\! 0.000*** \\\\\n",
      "\\!\\!\\!ASPCR $(12.7\\pm2.7)$ \\!v\\! RND $(14.0\\pm3.0)$ \\!\\!\\!&\\!\\!\\! -2.300 \\!\\!\\!&\\!\\!\\! 0.024* \\\\\n",
      "\\!\\!\\!FGS $(16.3\\pm1.9)$ \\!v\\! MPC $(13.9\\pm1.8)$ \\!\\!\\!&\\!\\!\\! 6.503 \\!\\!\\!&\\!\\!\\! 0.000*** \\\\\n",
      "\\!\\!\\!FGS $(16.3\\pm1.9)$ \\!v\\! NT $(10.2\\pm0.4)$ \\!\\!\\!&\\!\\!\\! 22.465 \\!\\!\\!&\\!\\!\\! 0.000*** \\\\\n",
      "\\!\\!\\!FGS $(16.3\\pm1.9)$ \\!v\\! RND $(14.0\\pm3.0)$ \\!\\!\\!&\\!\\!\\! 4.442 \\!\\!\\!&\\!\\!\\! 0.000*** \\\\\n",
      "\\!\\!\\!MPC $(13.9\\pm1.8)$ \\!v\\! NT $(10.2\\pm0.4)$ \\!\\!\\!&\\!\\!\\! 14.130 \\!\\!\\!&\\!\\!\\! 0.000*** \\\\\n",
      "\\!\\!\\!MPC $(13.9\\pm1.8)$ \\!v\\! RND $(14.0\\pm3.0)$ \\!\\!\\!&\\!\\!\\! -0.321 \\!\\!\\!&\\!\\!\\! 0.749 \\\\\n",
      "\\!\\!\\!NT $(10.2\\pm0.4)$ \\!v\\! RND $(14.0\\pm3.0)$ \\!\\!\\!&\\!\\!\\! -8.934 \\!\\!\\!&\\!\\!\\! 0.000*** \\\\\n",
      "\n",
      "EARTHQUAKE |V|=5, |E|=4\n",
      "==================================================\n",
      "SID_low\n",
      "\\!\\!\\!APC $(0.0\\pm0.0)$ \\!v\\! ASPCR $(11.6\\pm2.5)$ \\!\\!\\!&\\!\\!\\! -33.074 \\!\\!\\!&\\!\\!\\! 0.000*** \\\\\n",
      "\\!\\!\\!APC $(0.0\\pm0.0)$ \\!v\\! FGS $(4.6\\pm1.4)$ \\!\\!\\!&\\!\\!\\! -23.742 \\!\\!\\!&\\!\\!\\! 0.000*** \\\\\n",
      "\\!\\!\\!APC $(0.0\\pm0.0)$ \\!v\\! MPC $(5.0\\pm0.0)$ \\!\\!\\!&\\!\\!\\! -inf \\!\\!\\!&\\!\\!\\! 0.000*** \\\\\n",
      "\\!\\!\\!APC $(0.0\\pm0.0)$ \\!v\\! NT $(4.6\\pm3.3)$ \\!\\!\\!&\\!\\!\\! -9.741 \\!\\!\\!&\\!\\!\\! 0.000*** \\\\\n",
      "\\!\\!\\!APC $(0.0\\pm0.0)$ \\!v\\! RND $(7.9\\pm2.9)$ \\!\\!\\!&\\!\\!\\! -19.347 \\!\\!\\!&\\!\\!\\! 0.000*** \\\\\n",
      "\\!\\!\\!ASPCR $(11.6\\pm2.5)$ \\!v\\! FGS $(4.6\\pm1.4)$ \\!\\!\\!&\\!\\!\\! 17.470 \\!\\!\\!&\\!\\!\\! 0.000*** \\\\\n",
      "\\!\\!\\!ASPCR $(11.6\\pm2.5)$ \\!v\\! MPC $(5.0\\pm0.0)$ \\!\\!\\!&\\!\\!\\! 18.818 \\!\\!\\!&\\!\\!\\! 0.000*** \\\\\n",
      "\\!\\!\\!ASPCR $(11.6\\pm2.5)$ \\!v\\! NT $(4.6\\pm3.3)$ \\!\\!\\!&\\!\\!\\! 12.036 \\!\\!\\!&\\!\\!\\! 0.000*** \\\\\n",
      "\\!\\!\\!ASPCR $(11.6\\pm2.5)$ \\!v\\! RND $(7.9\\pm2.9)$ \\!\\!\\!&\\!\\!\\! 6.921 \\!\\!\\!&\\!\\!\\! 0.000*** \\\\\n",
      "\\!\\!\\!FGS $(4.6\\pm1.4)$ \\!v\\! MPC $(5.0\\pm0.0)$ \\!\\!\\!&\\!\\!\\! -2.065 \\!\\!\\!&\\!\\!\\! 0.044* \\\\\n",
      "\\!\\!\\!FGS $(4.6\\pm1.4)$ \\!v\\! NT $(4.6\\pm3.3)$ \\!\\!\\!&\\!\\!\\! 0.079 \\!\\!\\!&\\!\\!\\! 0.937 \\\\\n",
      "\\!\\!\\!FGS $(4.6\\pm1.4)$ \\!v\\! RND $(7.9\\pm2.9)$ \\!\\!\\!&\\!\\!\\! -7.272 \\!\\!\\!&\\!\\!\\! 0.000*** \\\\\n",
      "\\!\\!\\!MPC $(5.0\\pm0.0)$ \\!v\\! NT $(4.6\\pm3.3)$ \\!\\!\\!&\\!\\!\\! 0.940 \\!\\!\\!&\\!\\!\\! 0.352 \\\\\n",
      "\\!\\!\\!MPC $(5.0\\pm0.0)$ \\!v\\! RND $(7.9\\pm2.9)$ \\!\\!\\!&\\!\\!\\! -7.071 \\!\\!\\!&\\!\\!\\! 0.000*** \\\\\n",
      "\\!\\!\\!NT $(4.6\\pm3.3)$ \\!v\\! RND $(7.9\\pm2.9)$ \\!\\!\\!&\\!\\!\\! -5.351 \\!\\!\\!&\\!\\!\\! 0.000*** \\\\\n",
      "\n",
      "SID_high\n",
      "\\!\\!\\!APC $(9.3\\pm4.5)$ \\!v\\! ASPCR $(18.1\\pm2.2)$ \\!\\!\\!&\\!\\!\\! -12.373 \\!\\!\\!&\\!\\!\\! 0.000*** \\\\\n",
      "\\!\\!\\!APC $(9.3\\pm4.5)$ \\!v\\! FGS $(15.0\\pm0.5)$ \\!\\!\\!&\\!\\!\\! -8.796 \\!\\!\\!&\\!\\!\\! 0.000*** \\\\\n",
      "\\!\\!\\!APC $(9.3\\pm4.5)$ \\!v\\! MPC $(15.0\\pm0.0)$ \\!\\!\\!&\\!\\!\\! -8.847 \\!\\!\\!&\\!\\!\\! 0.000*** \\\\\n",
      "\\!\\!\\!APC $(9.3\\pm4.5)$ \\!v\\! NT $(13.5\\pm4.0)$ \\!\\!\\!&\\!\\!\\! -4.812 \\!\\!\\!&\\!\\!\\! 0.000*** \\\\\n",
      "\\!\\!\\!APC $(9.3\\pm4.5)$ \\!v\\! RND $(13.9\\pm3.5)$ \\!\\!\\!&\\!\\!\\! -5.649 \\!\\!\\!&\\!\\!\\! 0.000*** \\\\\n",
      "\\!\\!\\!ASPCR $(18.1\\pm2.2)$ \\!v\\! FGS $(15.0\\pm0.5)$ \\!\\!\\!&\\!\\!\\! 9.894 \\!\\!\\!&\\!\\!\\! 0.000*** \\\\\n",
      "\\!\\!\\!ASPCR $(18.1\\pm2.2)$ \\!v\\! MPC $(15.0\\pm0.0)$ \\!\\!\\!&\\!\\!\\! 10.138 \\!\\!\\!&\\!\\!\\! 0.000*** \\\\\n",
      "\\!\\!\\!ASPCR $(18.1\\pm2.2)$ \\!v\\! NT $(13.5\\pm4.0)$ \\!\\!\\!&\\!\\!\\! 7.187 \\!\\!\\!&\\!\\!\\! 0.000*** \\\\\n",
      "\\!\\!\\!ASPCR $(18.1\\pm2.2)$ \\!v\\! RND $(13.9\\pm3.5)$ \\!\\!\\!&\\!\\!\\! 7.356 \\!\\!\\!&\\!\\!\\! 0.000*** \\\\\n",
      "\\!\\!\\!FGS $(15.0\\pm0.5)$ \\!v\\! MPC $(15.0\\pm0.0)$ \\!\\!\\!&\\!\\!\\! 0.000 \\!\\!\\!&\\!\\!\\! 1.000 \\\\\n",
      "\\!\\!\\!FGS $(15.0\\pm0.5)$ \\!v\\! NT $(13.5\\pm4.0)$ \\!\\!\\!&\\!\\!\\! 2.669 \\!\\!\\!&\\!\\!\\! 0.010* \\\\\n",
      "\\!\\!\\!FGS $(15.0\\pm0.5)$ \\!v\\! RND $(13.9\\pm3.5)$ \\!\\!\\!&\\!\\!\\! 2.266 \\!\\!\\!&\\!\\!\\! 0.028* \\\\\n",
      "\\!\\!\\!MPC $(15.0\\pm0.0)$ \\!v\\! NT $(13.5\\pm4.0)$ \\!\\!\\!&\\!\\!\\! 2.689 \\!\\!\\!&\\!\\!\\! 0.010** \\\\\n",
      "\\!\\!\\!MPC $(15.0\\pm0.0)$ \\!v\\! RND $(13.9\\pm3.5)$ \\!\\!\\!&\\!\\!\\! 2.289 \\!\\!\\!&\\!\\!\\! 0.026* \\\\\n",
      "\\!\\!\\!NT $(13.5\\pm4.0)$ \\!v\\! RND $(13.9\\pm3.5)$ \\!\\!\\!&\\!\\!\\! -0.558 \\!\\!\\!&\\!\\!\\! 0.578 \\\\\n",
      "\n",
      "SURVEY |V|=6, |E|=6\n",
      "==================================================\n",
      "SID_low\n",
      "\\!\\!\\!APC $(14.2\\pm3.6)$ \\!v\\! ASPCR $(11.5\\pm2.7)$ \\!\\!\\!&\\!\\!\\! 4.211 \\!\\!\\!&\\!\\!\\! 0.000*** \\\\\n",
      "\\!\\!\\!APC $(14.2\\pm3.6)$ \\!v\\! FGS $(13.7\\pm3.2)$ \\!\\!\\!&\\!\\!\\! 0.819 \\!\\!\\!&\\!\\!\\! 0.415 \\\\\n",
      "\\!\\!\\!APC $(14.2\\pm3.6)$ \\!v\\! MPC $(5.1\\pm3.4)$ \\!\\!\\!&\\!\\!\\! 12.854 \\!\\!\\!&\\!\\!\\! 0.000*** \\\\\n",
      "\\!\\!\\!APC $(14.2\\pm3.6)$ \\!v\\! NT $(17.0\\pm0.0)$ \\!\\!\\!&\\!\\!\\! -5.386 \\!\\!\\!&\\!\\!\\! 0.000*** \\\\\n",
      "\\!\\!\\!APC $(14.2\\pm3.6)$ \\!v\\! RND $(13.1\\pm4.2)$ \\!\\!\\!&\\!\\!\\! 1.405 \\!\\!\\!&\\!\\!\\! 0.163 \\\\\n",
      "\\!\\!\\!ASPCR $(11.5\\pm2.7)$ \\!v\\! FGS $(13.7\\pm3.2)$ \\!\\!\\!&\\!\\!\\! -3.640 \\!\\!\\!&\\!\\!\\! 0.000*** \\\\\n",
      "\\!\\!\\!ASPCR $(11.5\\pm2.7)$ \\!v\\! MPC $(5.1\\pm3.4)$ \\!\\!\\!&\\!\\!\\! 10.387 \\!\\!\\!&\\!\\!\\! 0.000*** \\\\\n",
      "\\!\\!\\!ASPCR $(11.5\\pm2.7)$ \\!v\\! NT $(17.0\\pm0.0)$ \\!\\!\\!&\\!\\!\\! -14.405 \\!\\!\\!&\\!\\!\\! 0.000*** \\\\\n",
      "\\!\\!\\!ASPCR $(11.5\\pm2.7)$ \\!v\\! RND $(13.1\\pm4.2)$ \\!\\!\\!&\\!\\!\\! -2.284 \\!\\!\\!&\\!\\!\\! 0.025* \\\\\n",
      "\\!\\!\\!FGS $(13.7\\pm3.2)$ \\!v\\! MPC $(5.1\\pm3.4)$ \\!\\!\\!&\\!\\!\\! 12.940 \\!\\!\\!&\\!\\!\\! 0.000*** \\\\\n",
      "\\!\\!\\!FGS $(13.7\\pm3.2)$ \\!v\\! NT $(17.0\\pm0.0)$ \\!\\!\\!&\\!\\!\\! -7.450 \\!\\!\\!&\\!\\!\\! 0.000*** \\\\\n",
      "\\!\\!\\!FGS $(13.7\\pm3.2)$ \\!v\\! RND $(13.1\\pm4.2)$ \\!\\!\\!&\\!\\!\\! 0.730 \\!\\!\\!&\\!\\!\\! 0.467 \\\\\n",
      "\\!\\!\\!MPC $(5.1\\pm3.4)$ \\!v\\! NT $(17.0\\pm0.0)$ \\!\\!\\!&\\!\\!\\! -24.593 \\!\\!\\!&\\!\\!\\! 0.000*** \\\\\n",
      "\\!\\!\\!MPC $(5.1\\pm3.4)$ \\!v\\! RND $(13.1\\pm4.2)$ \\!\\!\\!&\\!\\!\\! -10.490 \\!\\!\\!&\\!\\!\\! 0.000*** \\\\\n",
      "\\!\\!\\!NT $(17.0\\pm0.0)$ \\!v\\! RND $(13.1\\pm4.2)$ \\!\\!\\!&\\!\\!\\! 6.595 \\!\\!\\!&\\!\\!\\! 0.000*** \\\\\n",
      "\n",
      "SID_high\n",
      "\\!\\!\\!APC $(16.4\\pm2.8)$ \\!v\\! ASPCR $(18.9\\pm2.4)$ \\!\\!\\!&\\!\\!\\! -4.797 \\!\\!\\!&\\!\\!\\! 0.000*** \\\\\n",
      "\\!\\!\\!APC $(16.4\\pm2.8)$ \\!v\\! FGS $(20.7\\pm3.5)$ \\!\\!\\!&\\!\\!\\! -6.764 \\!\\!\\!&\\!\\!\\! 0.000*** \\\\\n",
      "\\!\\!\\!APC $(16.4\\pm2.8)$ \\!v\\! MPC $(20.1\\pm4.4)$ \\!\\!\\!&\\!\\!\\! -5.065 \\!\\!\\!&\\!\\!\\! 0.000*** \\\\\n",
      "\\!\\!\\!APC $(16.4\\pm2.8)$ \\!v\\! NT $(17.0\\pm0.0)$ \\!\\!\\!&\\!\\!\\! -1.481 \\!\\!\\!&\\!\\!\\! 0.145 \\\\\n",
      "\\!\\!\\!APC $(16.4\\pm2.8)$ \\!v\\! RND $(22.4\\pm4.4)$ \\!\\!\\!&\\!\\!\\! -8.092 \\!\\!\\!&\\!\\!\\! 0.000*** \\\\\n",
      "\\!\\!\\!ASPCR $(18.9\\pm2.4)$ \\!v\\! FGS $(20.7\\pm3.5)$ \\!\\!\\!&\\!\\!\\! -2.910 \\!\\!\\!&\\!\\!\\! 0.005** \\\\\n",
      "\\!\\!\\!ASPCR $(18.9\\pm2.4)$ \\!v\\! MPC $(20.1\\pm4.4)$ \\!\\!\\!&\\!\\!\\! -1.700 \\!\\!\\!&\\!\\!\\! 0.093. \\\\\n",
      "\\!\\!\\!ASPCR $(18.9\\pm2.4)$ \\!v\\! NT $(17.0\\pm0.0)$ \\!\\!\\!&\\!\\!\\! 5.587 \\!\\!\\!&\\!\\!\\! 0.000*** \\\\\n",
      "\\!\\!\\!ASPCR $(18.9\\pm2.4)$ \\!v\\! RND $(22.4\\pm4.4)$ \\!\\!\\!&\\!\\!\\! -4.848 \\!\\!\\!&\\!\\!\\! 0.000*** \\\\\n",
      "\\!\\!\\!FGS $(20.7\\pm3.5)$ \\!v\\! MPC $(20.1\\pm4.4)$ \\!\\!\\!&\\!\\!\\! 0.686 \\!\\!\\!&\\!\\!\\! 0.494 \\\\\n",
      "\\!\\!\\!FGS $(20.7\\pm3.5)$ \\!v\\! NT $(17.0\\pm0.0)$ \\!\\!\\!&\\!\\!\\! 7.480 \\!\\!\\!&\\!\\!\\! 0.000*** \\\\\n",
      "\\!\\!\\!FGS $(20.7\\pm3.5)$ \\!v\\! RND $(22.4\\pm4.4)$ \\!\\!\\!&\\!\\!\\! -2.151 \\!\\!\\!&\\!\\!\\! 0.034* \\\\\n",
      "\\!\\!\\!MPC $(20.1\\pm4.4)$ \\!v\\! NT $(17.0\\pm0.0)$ \\!\\!\\!&\\!\\!\\! 5.060 \\!\\!\\!&\\!\\!\\! 0.000*** \\\\\n",
      "\\!\\!\\!MPC $(20.1\\pm4.4)$ \\!v\\! RND $(22.4\\pm4.4)$ \\!\\!\\!&\\!\\!\\! -2.560 \\!\\!\\!&\\!\\!\\! 0.012* \\\\\n",
      "\\!\\!\\!NT $(17.0\\pm0.0)$ \\!v\\! RND $(22.4\\pm4.4)$ \\!\\!\\!&\\!\\!\\! -8.633 \\!\\!\\!&\\!\\!\\! 0.000*** \\\\\n",
      "\n",
      "ASIA |V|=8, |E|=8\n",
      "==================================================\n",
      "SID_low\n",
      "\\!\\!\\!APC $(11.7\\pm6.8)$ \\!v\\! FGS $(32.3\\pm5.0)$ \\!\\!\\!&\\!\\!\\! -17.164 \\!\\!\\!&\\!\\!\\! 0.000*** \\\\\n",
      "\\!\\!\\!APC $(11.7\\pm6.8)$ \\!v\\! MPC $(15.2\\pm5.6)$ \\!\\!\\!&\\!\\!\\! -2.828 \\!\\!\\!&\\!\\!\\! 0.006** \\\\\n",
      "\\!\\!\\!APC $(11.7\\pm6.8)$ \\!v\\! NT $(16.5\\pm4.2)$ \\!\\!\\!&\\!\\!\\! -4.243 \\!\\!\\!&\\!\\!\\! 0.000*** \\\\\n",
      "\\!\\!\\!APC $(11.7\\pm6.8)$ \\!v\\! RND $(25.0\\pm7.0)$ \\!\\!\\!&\\!\\!\\! -9.622 \\!\\!\\!&\\!\\!\\! 0.000*** \\\\\n",
      "\\!\\!\\!FGS $(32.3\\pm5.0)$ \\!v\\! MPC $(15.2\\pm5.6)$ \\!\\!\\!&\\!\\!\\! 15.960 \\!\\!\\!&\\!\\!\\! 0.000*** \\\\\n",
      "\\!\\!\\!FGS $(32.3\\pm5.0)$ \\!v\\! NT $(16.5\\pm4.2)$ \\!\\!\\!&\\!\\!\\! 16.895 \\!\\!\\!&\\!\\!\\! 0.000*** \\\\\n",
      "\\!\\!\\!FGS $(32.3\\pm5.0)$ \\!v\\! RND $(25.0\\pm7.0)$ \\!\\!\\!&\\!\\!\\! 5.970 \\!\\!\\!&\\!\\!\\! 0.000*** \\\\\n",
      "\\!\\!\\!MPC $(15.2\\pm5.6)$ \\!v\\! NT $(16.5\\pm4.2)$ \\!\\!\\!&\\!\\!\\! -1.290 \\!\\!\\!&\\!\\!\\! 0.200 \\\\\n",
      "\\!\\!\\!MPC $(15.2\\pm5.6)$ \\!v\\! RND $(25.0\\pm7.0)$ \\!\\!\\!&\\!\\!\\! -7.690 \\!\\!\\!&\\!\\!\\! 0.000*** \\\\\n",
      "\\!\\!\\!NT $(16.5\\pm4.2)$ \\!v\\! RND $(25.0\\pm7.0)$ \\!\\!\\!&\\!\\!\\! -7.322 \\!\\!\\!&\\!\\!\\! 0.000*** \\\\\n",
      "\n",
      "SID_high\n",
      "\\!\\!\\!APC $(33.5\\pm7.9)$ \\!v\\! FGS $(41.7\\pm2.8)$ \\!\\!\\!&\\!\\!\\! -6.883 \\!\\!\\!&\\!\\!\\! 0.000*** \\\\\n",
      "\\!\\!\\!APC $(33.5\\pm7.9)$ \\!v\\! MPC $(41.0\\pm3.8)$ \\!\\!\\!&\\!\\!\\! -6.046 \\!\\!\\!&\\!\\!\\! 0.000*** \\\\\n",
      "\\!\\!\\!APC $(33.5\\pm7.9)$ \\!v\\! NT $(41.1\\pm5.0)$ \\!\\!\\!&\\!\\!\\! -5.739 \\!\\!\\!&\\!\\!\\! 0.000*** \\\\\n",
      "\\!\\!\\!APC $(33.5\\pm7.9)$ \\!v\\! RND $(37.2\\pm6.1)$ \\!\\!\\!&\\!\\!\\! -2.633 \\!\\!\\!&\\!\\!\\! 0.010** \\\\\n",
      "\\!\\!\\!FGS $(41.7\\pm2.8)$ \\!v\\! MPC $(41.0\\pm3.8)$ \\!\\!\\!&\\!\\!\\! 1.023 \\!\\!\\!&\\!\\!\\! 0.309 \\\\\n",
      "\\!\\!\\!FGS $(41.7\\pm2.8)$ \\!v\\! NT $(41.1\\pm5.0)$ \\!\\!\\!&\\!\\!\\! 0.745 \\!\\!\\!&\\!\\!\\! 0.458 \\\\\n",
      "\\!\\!\\!FGS $(41.7\\pm2.8)$ \\!v\\! RND $(37.2\\pm6.1)$ \\!\\!\\!&\\!\\!\\! 4.702 \\!\\!\\!&\\!\\!\\! 0.000*** \\\\\n",
      "\\!\\!\\!MPC $(41.0\\pm3.8)$ \\!v\\! NT $(41.1\\pm5.0)$ \\!\\!\\!&\\!\\!\\! -0.091 \\!\\!\\!&\\!\\!\\! 0.928 \\\\\n",
      "\\!\\!\\!MPC $(41.0\\pm3.8)$ \\!v\\! RND $(37.2\\pm6.1)$ \\!\\!\\!&\\!\\!\\! 3.732 \\!\\!\\!&\\!\\!\\! 0.000*** \\\\\n",
      "\\!\\!\\!NT $(41.1\\pm5.0)$ \\!v\\! RND $(37.2\\pm6.1)$ \\!\\!\\!&\\!\\!\\! 3.478 \\!\\!\\!&\\!\\!\\! 0.001*** \\\\\n",
      "\n"
     ]
    }
   ],
   "source": [
    "from scipy.stats import ttest_ind_from_stats\n",
    "from itertools import combinations\n",
    "nobs = 50\n",
    "### teast difference in means between each pair of methods for each dataset for SID_low and SID_high, nobs = 10 (10 datasets)\n",
    "print(\"0 '***' 0.001 '**' 0.01 '*' 0.05 '.' 0.1 'ns' 1.\\n\")\n",
    "\n",
    "for dataset in all_sum['dataset'].unique():\n",
    "    print(dataset.replace(\"<br>\",\"\").upper())\n",
    "    print(50*\"=\")\n",
    "    for var in ['SID_low','SID_high']:\n",
    "        print(var)\n",
    "        for method1,method2 in combinations(sorted(all_sum['model'].unique()), 2):\n",
    "            # if 'ABA' in method1:\n",
    "            if 'ASIA' in dataset and ('ASPCR' in method1 or 'ASPCR' in method2):\n",
    "                continue\n",
    "            a = all_sum[(all_sum['dataset']==dataset) & (all_sum['model']==method1)][var+'_mean'].values[0]\n",
    "            b = all_sum[(all_sum['dataset']==dataset) & (all_sum['model']==method2)][var+'_mean'].values[0]\n",
    "            a_std = all_sum[(all_sum['dataset']==dataset) & (all_sum['model']==method1)][var+'_std'].values[0]\n",
    "            b_std = all_sum[(all_sum['dataset']==dataset) & (all_sum['model']==method2)][var+'_std'].values[0]\n",
    "            t, p = ttest_ind_from_stats(a, a_std, nobs, b, b_std, nobs, equal_var=False)\n",
    "            method1 = \"APC\" if \"ABA\" in method1 else method1\n",
    "            method2 = \"APC\" if \"ABA\" in method2 else method2\n",
    "            method1 = \"NT\" if \"NOTEARS\" in method1 else method1\n",
    "            method2 = \"NT\" if \"NOTEARS\" in method2 else method2\n",
    "            method1 = \"RND\" if \"Random\" in method1 else method1\n",
    "            method2 = \"RND\" if \"Random\" in method2 else method2\n",
    "            print(f'\\!\\!\\!{method1} $({a:.1f}\\pm{a_std:.1f})$ \\!v\\! {method2} $({b:.1f}\\pm{b_std:.1f})$ \\!\\!\\!&\\!\\!\\! {t:.3f} \\!\\!\\!&\\!\\!\\! {p:.3f}{\"\" if p>0.1 else \".\" if p<=0.1 and p>0.05 else \"*\" if p<=0.05 and p>0.01 else \"**\" if p<=0.01 and p>0.001 else \"***\"} \\\\\\\\')\n",
    "        print(\"\")"
   ]
  },
  {
   "cell_type": "markdown",
   "metadata": {},
   "source": [
    "### Graph Size, SHD and F1"
   ]
  },
  {
   "cell_type": "code",
   "execution_count": 13,
   "metadata": {},
   "outputs": [
    {
     "data": {
      "application/vnd.plotly.v1+json": {
       "config": {
        "plotlyServerURL": "https://plot.ly"
       },
       "data": [
        {
         "error_y": {
          "array": [
           0.3875,
           0.37,
           0.27999999999999997,
           0.21375
          ],
          "type": "data",
          "visible": true
         },
         "marker": {
          "color": "grey"
         },
         "name": "Random",
         "offsetgroup": "0",
         "opacity": 0.6,
         "showlegend": true,
         "type": "bar",
         "x": [
          "CANCER<br> |V|=5, |E|=4",
          "EARTHQUAKE<br> |V|=5, |E|=4",
          "SURVEY<br> |V|=6, |E|=6",
          "ASIA<br> |V|=8, |E|=8"
         ],
         "y": [
          1.43,
          1.45,
          1.4166666666666667,
          1.625
         ],
         "yaxis": "y"
        },
        {
         "error_y": {
          "array": [
           0.1175,
           0.16,
           0.145,
           0.09625
          ],
          "type": "data",
          "visible": true
         },
         "marker": {
          "color": "#b85c00"
         },
         "name": "FGS",
         "offsetgroup": "1",
         "opacity": 0.6,
         "showlegend": true,
         "type": "bar",
         "x": [
          "CANCER<br> |V|=5, |E|=4",
          "EARTHQUAKE<br> |V|=5, |E|=4",
          "SURVEY<br> |V|=6, |E|=6",
          "ASIA<br> |V|=8, |E|=8"
         ],
         "y": [
          0.58,
          0.655,
          1.3133333333333332,
          1.515
         ],
         "yaxis": "y"
        },
        {
         "error_y": {
          "array": [
           0.0975,
           0.2325,
           0,
           0.1125
          ],
          "type": "data",
          "visible": true
         },
         "marker": {
          "color": "#9454c4"
         },
         "name": "NOTEARS-MLP",
         "offsetgroup": "2",
         "opacity": 0.6,
         "showlegend": true,
         "type": "bar",
         "x": [
          "CANCER<br> |V|=5, |E|=4",
          "EARTHQUAKE<br> |V|=5, |E|=4",
          "SURVEY<br> |V|=6, |E|=6",
          "ASIA<br> |V|=8, |E|=8"
         ],
         "y": [
          0.955,
          0.45,
          1,
          0.83
         ],
         "yaxis": "y"
        },
        {
         "error_y": {
          "array": [
           0.05,
           0.14,
           0.07166666666666667,
           0.0825
          ],
          "type": "data",
          "visible": true
         },
         "marker": {
          "color": "#379f9f"
         },
         "name": "MPC",
         "offsetgroup": "3",
         "opacity": 0.6,
         "showlegend": true,
         "type": "bar",
         "x": [
          "CANCER<br> |V|=5, |E|=4",
          "EARTHQUAKE<br> |V|=5, |E|=4",
          "SURVEY<br> |V|=6, |E|=6",
          "ASIA<br> |V|=8, |E|=8"
         ],
         "y": [
          0.51,
          0.66,
          0.7066666666666667,
          0.58
         ],
         "yaxis": "y"
        },
        {
         "error_y": {
          "array": [
           0.235,
           0.12,
           0.09499999999999999
          ],
          "type": "data",
          "visible": true
         },
         "marker": {
          "color": "#441469"
         },
         "name": "ASPCR",
         "offsetgroup": "4",
         "opacity": 0.6,
         "showlegend": true,
         "type": "bar",
         "x": [
          "CANCER<br> |V|=5, |E|=4",
          "EARTHQUAKE<br> |V|=5, |E|=4",
          "SURVEY<br> |V|=6, |E|=6"
         ],
         "y": [
          0.665,
          1.085,
          0.8466666666666667
         ],
         "yaxis": "y"
        },
        {
         "error_y": {
          "array": [
           0.235,
           0.145,
           0.18333333333333335,
           0.2825
          ],
          "type": "data",
          "visible": true
         },
         "marker": {
          "color": "#0085CA"
         },
         "name": "ABAPC (Ours)",
         "offsetgroup": "5",
         "opacity": 0.6,
         "showlegend": true,
         "type": "bar",
         "x": [
          "CANCER<br> |V|=5, |E|=4",
          "EARTHQUAKE<br> |V|=5, |E|=4",
          "SURVEY<br> |V|=6, |E|=6",
          "ASIA<br> |V|=8, |E|=8"
         ],
         "y": [
          0.665,
          0.14,
          0.8033333333333333,
          0.655
         ],
         "yaxis": "y"
        },
        {
         "marker": {
          "color": "white"
         },
         "name": "",
         "offsetgroup": "6",
         "opacity": 1,
         "showlegend": false,
         "type": "bar",
         "x": [
          "CANCER<br> |V|=5, |E|=4",
          "EARTHQUAKE<br> |V|=5, |E|=4",
          "SURVEY<br> |V|=6, |E|=6",
          "ASIA<br> |V|=8, |E|=8"
         ],
         "y": [
          0,
          0,
          0,
          0
         ]
        },
        {
         "error_y": {
          "array": [
           0.13,
           0.1,
           0.12,
           0.06
          ],
          "type": "data",
          "visible": true
         },
         "marker": {
          "color": "grey"
         },
         "name": "Random",
         "offsetgroup": "7",
         "opacity": 0.6,
         "showlegend": false,
         "type": "bar",
         "x": [
          "CANCER<br> |V|=5, |E|=4",
          "EARTHQUAKE<br> |V|=5, |E|=4",
          "SURVEY<br> |V|=6, |E|=6",
          "ASIA<br> |V|=8, |E|=8"
         ],
         "y": [
          0.32,
          0.3,
          0.31,
          0.17
         ],
         "yaxis": "y2"
        },
        {
         "error_y": {
          "array": [
           0.1,
           0.03,
           0.1,
           0.04
          ],
          "type": "data",
          "visible": true
         },
         "marker": {
          "color": "#b85c00"
         },
         "name": "FGS",
         "offsetgroup": "8",
         "opacity": 0.6,
         "showlegend": false,
         "type": "bar",
         "x": [
          "CANCER<br> |V|=5, |E|=4",
          "EARTHQUAKE<br> |V|=5, |E|=4",
          "SURVEY<br> |V|=6, |E|=6",
          "ASIA<br> |V|=8, |E|=8"
         ],
         "y": [
          0.43,
          0.47,
          0.27,
          0.25
         ],
         "yaxis": "y2"
        },
        {
         "error_y": {
          "array": [
           0,
           0.19,
           null,
           0.12
          ],
          "type": "data",
          "visible": true
         },
         "marker": {
          "color": "#9454c4"
         },
         "name": "NOTEARS-MLP",
         "offsetgroup": "9",
         "opacity": 0.6,
         "showlegend": false,
         "type": "bar",
         "x": [
          "CANCER<br> |V|=5, |E|=4",
          "EARTHQUAKE<br> |V|=5, |E|=4",
          "SURVEY<br> |V|=6, |E|=6",
          "ASIA<br> |V|=8, |E|=8"
         ],
         "y": [
          0.4,
          0.59,
          null,
          0.36
         ],
         "yaxis": "y2"
        },
        {
         "error_y": {
          "array": [
           0.04,
           0.03,
           0.07,
           0.07
          ],
          "type": "data",
          "visible": true
         },
         "marker": {
          "color": "#379f9f"
         },
         "name": "MPC",
         "offsetgroup": "10",
         "opacity": 0.6,
         "showlegend": false,
         "type": "bar",
         "x": [
          "CANCER<br> |V|=5, |E|=4",
          "EARTHQUAKE<br> |V|=5, |E|=4",
          "SURVEY<br> |V|=6, |E|=6",
          "ASIA<br> |V|=8, |E|=8"
         ],
         "y": [
          0.52,
          0.46,
          0.66,
          0.33
         ],
         "yaxis": "y2"
        },
        {
         "error_y": {
          "array": [
           0.16,
           null,
           0.1
          ],
          "type": "data",
          "visible": true
         },
         "marker": {
          "color": "#441469"
         },
         "name": "ASPCR",
         "offsetgroup": "11",
         "opacity": 0.6,
         "showlegend": false,
         "type": "bar",
         "x": [
          "CANCER<br> |V|=5, |E|=4",
          "EARTHQUAKE<br> |V|=5, |E|=4",
          "SURVEY<br> |V|=6, |E|=6"
         ],
         "y": [
          0.5,
          0.44,
          0.47
         ],
         "yaxis": "y2"
        },
        {
         "error_y": {
          "array": [
           0.13,
           0.06,
           0.11,
           0.18
          ],
          "type": "data",
          "visible": true
         },
         "marker": {
          "color": "#0085CA"
         },
         "name": "ABAPC (Ours)",
         "offsetgroup": "12",
         "opacity": 0.6,
         "showlegend": false,
         "type": "bar",
         "x": [
          "CANCER<br> |V|=5, |E|=4",
          "EARTHQUAKE<br> |V|=5, |E|=4",
          "SURVEY<br> |V|=6, |E|=6",
          "ASIA<br> |V|=8, |E|=8"
         ],
         "y": [
          0.44,
          0.94,
          0.42,
          0.5
         ],
         "yaxis": "y2"
        }
       ],
       "layout": {
        "annotations": [
         {
          "font": {
           "color": "Black",
           "family": "Serif",
           "size": 20
          },
          "showarrow": false,
          "text": "Dataset:",
          "x": 0,
          "xanchor": "center",
          "xref": "paper",
          "y": -0.08,
          "yanchor": "bottom",
          "yref": "paper"
         },
         {
          "bgcolor": "#E5ECF6",
          "bordercolor": "#E5ECF6",
          "borderwidth": 2,
          "font": {
           "color": "black",
           "size": 20
          },
          "opacity": 0.8,
          "showarrow": false,
          "text": "         NSHD         ",
          "x": 0.017,
          "xanchor": "left",
          "xref": "x domain",
          "y": 1.015,
          "yref": "y domain"
         },
         {
          "bgcolor": "#E5ECF6",
          "bordercolor": "#E5ECF6",
          "borderwidth": 2,
          "font": {
           "color": "black",
           "size": 20
          },
          "opacity": 0.8,
          "showarrow": false,
          "text": "           F1           ",
          "x": 0.137,
          "xanchor": "left",
          "xref": "x domain",
          "y": 1.015,
          "yref": "y domain"
         },
         {
          "bgcolor": "#E5ECF6",
          "bordercolor": "#E5ECF6",
          "borderwidth": 2,
          "font": {
           "color": "black",
           "size": 20
          },
          "opacity": 0.8,
          "showarrow": false,
          "text": "         NSHD         ",
          "x": 0.267,
          "xanchor": "left",
          "xref": "x domain",
          "y": 1.015,
          "yref": "y domain"
         },
         {
          "bgcolor": "#E5ECF6",
          "bordercolor": "#E5ECF6",
          "borderwidth": 2,
          "font": {
           "color": "black",
           "size": 20
          },
          "opacity": 0.8,
          "showarrow": false,
          "text": "           F1           ",
          "x": 0.387,
          "xanchor": "left",
          "xref": "x domain",
          "y": 1.015,
          "yref": "y domain"
         },
         {
          "bgcolor": "#E5ECF6",
          "bordercolor": "#E5ECF6",
          "borderwidth": 2,
          "font": {
           "color": "black",
           "size": 20
          },
          "opacity": 0.8,
          "showarrow": false,
          "text": "         NSHD         ",
          "x": 0.517,
          "xanchor": "left",
          "xref": "x domain",
          "y": 1.015,
          "yref": "y domain"
         },
         {
          "bgcolor": "#E5ECF6",
          "bordercolor": "#E5ECF6",
          "borderwidth": 2,
          "font": {
           "color": "black",
           "size": 20
          },
          "opacity": 0.8,
          "showarrow": false,
          "text": "           F1           ",
          "x": 0.637,
          "xanchor": "left",
          "xref": "x domain",
          "y": 1.015,
          "yref": "y domain"
         },
         {
          "bgcolor": "#E5ECF6",
          "bordercolor": "#E5ECF6",
          "borderwidth": 2,
          "font": {
           "color": "black",
           "size": 20
          },
          "opacity": 0.8,
          "showarrow": false,
          "text": "         NSHD         ",
          "x": 0.767,
          "xanchor": "left",
          "xref": "x domain",
          "y": 1.015,
          "yref": "y domain"
         },
         {
          "bgcolor": "#E5ECF6",
          "bordercolor": "#E5ECF6",
          "borderwidth": 2,
          "font": {
           "color": "black",
           "size": 20
          },
          "opacity": 0.8,
          "showarrow": false,
          "text": "           F1           ",
          "x": 0.887,
          "xanchor": "left",
          "xref": "x domain",
          "y": 1.015,
          "yref": "y domain"
         }
        ],
        "bargap": 0.15,
        "bargroupgap": 0.1,
        "barmode": "group",
        "font": {
         "color": "black",
         "family": "Serif",
         "size": 20
        },
        "height": 700,
        "hovermode": "x unified",
        "legend": {
         "orientation": "h",
         "x": 0.5,
         "xanchor": "center",
         "y": 1.1,
         "yanchor": "top"
        },
        "margin": {
         "b": 70,
         "l": 40,
         "r": 0,
         "t": 20
        },
        "template": {
         "data": {
          "bar": [
           {
            "error_x": {
             "color": "#2a3f5f"
            },
            "error_y": {
             "color": "#2a3f5f"
            },
            "marker": {
             "line": {
              "color": "white",
              "width": 0.5
             },
             "pattern": {
              "fillmode": "overlay",
              "size": 10,
              "solidity": 0.2
             }
            },
            "type": "bar"
           }
          ],
          "barpolar": [
           {
            "marker": {
             "line": {
              "color": "white",
              "width": 0.5
             },
             "pattern": {
              "fillmode": "overlay",
              "size": 10,
              "solidity": 0.2
             }
            },
            "type": "barpolar"
           }
          ],
          "carpet": [
           {
            "aaxis": {
             "endlinecolor": "#2a3f5f",
             "gridcolor": "#C8D4E3",
             "linecolor": "#C8D4E3",
             "minorgridcolor": "#C8D4E3",
             "startlinecolor": "#2a3f5f"
            },
            "baxis": {
             "endlinecolor": "#2a3f5f",
             "gridcolor": "#C8D4E3",
             "linecolor": "#C8D4E3",
             "minorgridcolor": "#C8D4E3",
             "startlinecolor": "#2a3f5f"
            },
            "type": "carpet"
           }
          ],
          "choropleth": [
           {
            "colorbar": {
             "outlinewidth": 0,
             "ticks": ""
            },
            "type": "choropleth"
           }
          ],
          "contour": [
           {
            "colorbar": {
             "outlinewidth": 0,
             "ticks": ""
            },
            "colorscale": [
             [
              0,
              "#0d0887"
             ],
             [
              0.1111111111111111,
              "#46039f"
             ],
             [
              0.2222222222222222,
              "#7201a8"
             ],
             [
              0.3333333333333333,
              "#9c179e"
             ],
             [
              0.4444444444444444,
              "#bd3786"
             ],
             [
              0.5555555555555556,
              "#d8576b"
             ],
             [
              0.6666666666666666,
              "#ed7953"
             ],
             [
              0.7777777777777778,
              "#fb9f3a"
             ],
             [
              0.8888888888888888,
              "#fdca26"
             ],
             [
              1,
              "#f0f921"
             ]
            ],
            "type": "contour"
           }
          ],
          "contourcarpet": [
           {
            "colorbar": {
             "outlinewidth": 0,
             "ticks": ""
            },
            "type": "contourcarpet"
           }
          ],
          "heatmap": [
           {
            "colorbar": {
             "outlinewidth": 0,
             "ticks": ""
            },
            "colorscale": [
             [
              0,
              "#0d0887"
             ],
             [
              0.1111111111111111,
              "#46039f"
             ],
             [
              0.2222222222222222,
              "#7201a8"
             ],
             [
              0.3333333333333333,
              "#9c179e"
             ],
             [
              0.4444444444444444,
              "#bd3786"
             ],
             [
              0.5555555555555556,
              "#d8576b"
             ],
             [
              0.6666666666666666,
              "#ed7953"
             ],
             [
              0.7777777777777778,
              "#fb9f3a"
             ],
             [
              0.8888888888888888,
              "#fdca26"
             ],
             [
              1,
              "#f0f921"
             ]
            ],
            "type": "heatmap"
           }
          ],
          "heatmapgl": [
           {
            "colorbar": {
             "outlinewidth": 0,
             "ticks": ""
            },
            "colorscale": [
             [
              0,
              "#0d0887"
             ],
             [
              0.1111111111111111,
              "#46039f"
             ],
             [
              0.2222222222222222,
              "#7201a8"
             ],
             [
              0.3333333333333333,
              "#9c179e"
             ],
             [
              0.4444444444444444,
              "#bd3786"
             ],
             [
              0.5555555555555556,
              "#d8576b"
             ],
             [
              0.6666666666666666,
              "#ed7953"
             ],
             [
              0.7777777777777778,
              "#fb9f3a"
             ],
             [
              0.8888888888888888,
              "#fdca26"
             ],
             [
              1,
              "#f0f921"
             ]
            ],
            "type": "heatmapgl"
           }
          ],
          "histogram": [
           {
            "marker": {
             "pattern": {
              "fillmode": "overlay",
              "size": 10,
              "solidity": 0.2
             }
            },
            "type": "histogram"
           }
          ],
          "histogram2d": [
           {
            "colorbar": {
             "outlinewidth": 0,
             "ticks": ""
            },
            "colorscale": [
             [
              0,
              "#0d0887"
             ],
             [
              0.1111111111111111,
              "#46039f"
             ],
             [
              0.2222222222222222,
              "#7201a8"
             ],
             [
              0.3333333333333333,
              "#9c179e"
             ],
             [
              0.4444444444444444,
              "#bd3786"
             ],
             [
              0.5555555555555556,
              "#d8576b"
             ],
             [
              0.6666666666666666,
              "#ed7953"
             ],
             [
              0.7777777777777778,
              "#fb9f3a"
             ],
             [
              0.8888888888888888,
              "#fdca26"
             ],
             [
              1,
              "#f0f921"
             ]
            ],
            "type": "histogram2d"
           }
          ],
          "histogram2dcontour": [
           {
            "colorbar": {
             "outlinewidth": 0,
             "ticks": ""
            },
            "colorscale": [
             [
              0,
              "#0d0887"
             ],
             [
              0.1111111111111111,
              "#46039f"
             ],
             [
              0.2222222222222222,
              "#7201a8"
             ],
             [
              0.3333333333333333,
              "#9c179e"
             ],
             [
              0.4444444444444444,
              "#bd3786"
             ],
             [
              0.5555555555555556,
              "#d8576b"
             ],
             [
              0.6666666666666666,
              "#ed7953"
             ],
             [
              0.7777777777777778,
              "#fb9f3a"
             ],
             [
              0.8888888888888888,
              "#fdca26"
             ],
             [
              1,
              "#f0f921"
             ]
            ],
            "type": "histogram2dcontour"
           }
          ],
          "mesh3d": [
           {
            "colorbar": {
             "outlinewidth": 0,
             "ticks": ""
            },
            "type": "mesh3d"
           }
          ],
          "parcoords": [
           {
            "line": {
             "colorbar": {
              "outlinewidth": 0,
              "ticks": ""
             }
            },
            "type": "parcoords"
           }
          ],
          "pie": [
           {
            "automargin": true,
            "type": "pie"
           }
          ],
          "scatter": [
           {
            "fillpattern": {
             "fillmode": "overlay",
             "size": 10,
             "solidity": 0.2
            },
            "type": "scatter"
           }
          ],
          "scatter3d": [
           {
            "line": {
             "colorbar": {
              "outlinewidth": 0,
              "ticks": ""
             }
            },
            "marker": {
             "colorbar": {
              "outlinewidth": 0,
              "ticks": ""
             }
            },
            "type": "scatter3d"
           }
          ],
          "scattercarpet": [
           {
            "marker": {
             "colorbar": {
              "outlinewidth": 0,
              "ticks": ""
             }
            },
            "type": "scattercarpet"
           }
          ],
          "scattergeo": [
           {
            "marker": {
             "colorbar": {
              "outlinewidth": 0,
              "ticks": ""
             }
            },
            "type": "scattergeo"
           }
          ],
          "scattergl": [
           {
            "marker": {
             "colorbar": {
              "outlinewidth": 0,
              "ticks": ""
             }
            },
            "type": "scattergl"
           }
          ],
          "scattermapbox": [
           {
            "marker": {
             "colorbar": {
              "outlinewidth": 0,
              "ticks": ""
             }
            },
            "type": "scattermapbox"
           }
          ],
          "scatterpolar": [
           {
            "marker": {
             "colorbar": {
              "outlinewidth": 0,
              "ticks": ""
             }
            },
            "type": "scatterpolar"
           }
          ],
          "scatterpolargl": [
           {
            "marker": {
             "colorbar": {
              "outlinewidth": 0,
              "ticks": ""
             }
            },
            "type": "scatterpolargl"
           }
          ],
          "scatterternary": [
           {
            "marker": {
             "colorbar": {
              "outlinewidth": 0,
              "ticks": ""
             }
            },
            "type": "scatterternary"
           }
          ],
          "surface": [
           {
            "colorbar": {
             "outlinewidth": 0,
             "ticks": ""
            },
            "colorscale": [
             [
              0,
              "#0d0887"
             ],
             [
              0.1111111111111111,
              "#46039f"
             ],
             [
              0.2222222222222222,
              "#7201a8"
             ],
             [
              0.3333333333333333,
              "#9c179e"
             ],
             [
              0.4444444444444444,
              "#bd3786"
             ],
             [
              0.5555555555555556,
              "#d8576b"
             ],
             [
              0.6666666666666666,
              "#ed7953"
             ],
             [
              0.7777777777777778,
              "#fb9f3a"
             ],
             [
              0.8888888888888888,
              "#fdca26"
             ],
             [
              1,
              "#f0f921"
             ]
            ],
            "type": "surface"
           }
          ],
          "table": [
           {
            "cells": {
             "fill": {
              "color": "#EBF0F8"
             },
             "line": {
              "color": "white"
             }
            },
            "header": {
             "fill": {
              "color": "#C8D4E3"
             },
             "line": {
              "color": "white"
             }
            },
            "type": "table"
           }
          ]
         },
         "layout": {
          "annotationdefaults": {
           "arrowcolor": "#2a3f5f",
           "arrowhead": 0,
           "arrowwidth": 1
          },
          "autotypenumbers": "strict",
          "coloraxis": {
           "colorbar": {
            "outlinewidth": 0,
            "ticks": ""
           }
          },
          "colorscale": {
           "diverging": [
            [
             0,
             "#8e0152"
            ],
            [
             0.1,
             "#c51b7d"
            ],
            [
             0.2,
             "#de77ae"
            ],
            [
             0.3,
             "#f1b6da"
            ],
            [
             0.4,
             "#fde0ef"
            ],
            [
             0.5,
             "#f7f7f7"
            ],
            [
             0.6,
             "#e6f5d0"
            ],
            [
             0.7,
             "#b8e186"
            ],
            [
             0.8,
             "#7fbc41"
            ],
            [
             0.9,
             "#4d9221"
            ],
            [
             1,
             "#276419"
            ]
           ],
           "sequential": [
            [
             0,
             "#0d0887"
            ],
            [
             0.1111111111111111,
             "#46039f"
            ],
            [
             0.2222222222222222,
             "#7201a8"
            ],
            [
             0.3333333333333333,
             "#9c179e"
            ],
            [
             0.4444444444444444,
             "#bd3786"
            ],
            [
             0.5555555555555556,
             "#d8576b"
            ],
            [
             0.6666666666666666,
             "#ed7953"
            ],
            [
             0.7777777777777778,
             "#fb9f3a"
            ],
            [
             0.8888888888888888,
             "#fdca26"
            ],
            [
             1,
             "#f0f921"
            ]
           ],
           "sequentialminus": [
            [
             0,
             "#0d0887"
            ],
            [
             0.1111111111111111,
             "#46039f"
            ],
            [
             0.2222222222222222,
             "#7201a8"
            ],
            [
             0.3333333333333333,
             "#9c179e"
            ],
            [
             0.4444444444444444,
             "#bd3786"
            ],
            [
             0.5555555555555556,
             "#d8576b"
            ],
            [
             0.6666666666666666,
             "#ed7953"
            ],
            [
             0.7777777777777778,
             "#fb9f3a"
            ],
            [
             0.8888888888888888,
             "#fdca26"
            ],
            [
             1,
             "#f0f921"
            ]
           ]
          },
          "colorway": [
           "#636efa",
           "#EF553B",
           "#00cc96",
           "#ab63fa",
           "#FFA15A",
           "#19d3f3",
           "#FF6692",
           "#B6E880",
           "#FF97FF",
           "#FECB52"
          ],
          "font": {
           "color": "#2a3f5f"
          },
          "geo": {
           "bgcolor": "white",
           "lakecolor": "white",
           "landcolor": "white",
           "showlakes": true,
           "showland": true,
           "subunitcolor": "#C8D4E3"
          },
          "hoverlabel": {
           "align": "left"
          },
          "hovermode": "closest",
          "mapbox": {
           "style": "light"
          },
          "paper_bgcolor": "white",
          "plot_bgcolor": "white",
          "polar": {
           "angularaxis": {
            "gridcolor": "#EBF0F8",
            "linecolor": "#EBF0F8",
            "ticks": ""
           },
           "bgcolor": "white",
           "radialaxis": {
            "gridcolor": "#EBF0F8",
            "linecolor": "#EBF0F8",
            "ticks": ""
           }
          },
          "scene": {
           "xaxis": {
            "backgroundcolor": "white",
            "gridcolor": "#DFE8F3",
            "gridwidth": 2,
            "linecolor": "#EBF0F8",
            "showbackground": true,
            "ticks": "",
            "zerolinecolor": "#EBF0F8"
           },
           "yaxis": {
            "backgroundcolor": "white",
            "gridcolor": "#DFE8F3",
            "gridwidth": 2,
            "linecolor": "#EBF0F8",
            "showbackground": true,
            "ticks": "",
            "zerolinecolor": "#EBF0F8"
           },
           "zaxis": {
            "backgroundcolor": "white",
            "gridcolor": "#DFE8F3",
            "gridwidth": 2,
            "linecolor": "#EBF0F8",
            "showbackground": true,
            "ticks": "",
            "zerolinecolor": "#EBF0F8"
           }
          },
          "shapedefaults": {
           "line": {
            "color": "#2a3f5f"
           }
          },
          "ternary": {
           "aaxis": {
            "gridcolor": "#DFE8F3",
            "linecolor": "#A2B1C6",
            "ticks": ""
           },
           "baxis": {
            "gridcolor": "#DFE8F3",
            "linecolor": "#A2B1C6",
            "ticks": ""
           },
           "bgcolor": "white",
           "caxis": {
            "gridcolor": "#DFE8F3",
            "linecolor": "#A2B1C6",
            "ticks": ""
           }
          },
          "title": {
           "x": 0.05
          },
          "xaxis": {
           "automargin": true,
           "gridcolor": "#EBF0F8",
           "linecolor": "#EBF0F8",
           "ticks": "",
           "title": {
            "standoff": 15
           },
           "zerolinecolor": "#EBF0F8",
           "zerolinewidth": 2
          },
          "yaxis": {
           "automargin": true,
           "gridcolor": "#EBF0F8",
           "linecolor": "#EBF0F8",
           "ticks": "",
           "title": {
            "standoff": 15
           },
           "zerolinecolor": "#EBF0F8",
           "zerolinewidth": 2
          }
         }
        },
        "width": 1600,
        "xaxis": {
         "anchor": "y",
         "domain": [
          0,
          0.94
         ]
        },
        "yaxis": {
         "anchor": "x",
         "domain": [
          0,
          1
         ],
         "range": [
          0,
          2
         ],
         "title": {
          "font": {
           "size": 20
          },
          "text": "Normalised SHD = SHD / Number of Edges in DAG"
         }
        },
        "yaxis2": {
         "anchor": "x",
         "overlaying": "y",
         "range": [
          0,
          2
         ],
         "scaleanchor": 0,
         "showgrid": false,
         "showline": false,
         "showticklabels": true,
         "side": "right",
         "title": {
          "font": {
           "size": 20
          },
          "text": "F1"
         },
         "zeroline": true
        }
       }
      },
      "text/html": [
       "<div>                            <div id=\"a48e6b5c-8d2a-48a5-a80d-3742df6de035\" class=\"plotly-graph-div\" style=\"height:700px; width:1600px;\"></div>            <script type=\"text/javascript\">                require([\"plotly\"], function(Plotly) {                    window.PLOTLYENV=window.PLOTLYENV || {};                                    if (document.getElementById(\"a48e6b5c-8d2a-48a5-a80d-3742df6de035\")) {                    Plotly.newPlot(                        \"a48e6b5c-8d2a-48a5-a80d-3742df6de035\",                        [{\"error_y\":{\"array\":[0.3875,0.37,0.27999999999999997,0.21375],\"type\":\"data\",\"visible\":true},\"marker\":{\"color\":\"grey\"},\"name\":\"Random\",\"offsetgroup\":\"0\",\"opacity\":0.6,\"showlegend\":true,\"x\":[\"CANCER\\u003cbr\\u003e |V|=5, |E|=4\",\"EARTHQUAKE\\u003cbr\\u003e |V|=5, |E|=4\",\"SURVEY\\u003cbr\\u003e |V|=6, |E|=6\",\"ASIA\\u003cbr\\u003e |V|=8, |E|=8\"],\"y\":[1.43,1.45,1.4166666666666667,1.625],\"yaxis\":\"y\",\"type\":\"bar\"},{\"error_y\":{\"array\":[0.1175,0.16,0.145,0.09625],\"type\":\"data\",\"visible\":true},\"marker\":{\"color\":\"#b85c00\"},\"name\":\"FGS\",\"offsetgroup\":\"1\",\"opacity\":0.6,\"showlegend\":true,\"x\":[\"CANCER\\u003cbr\\u003e |V|=5, |E|=4\",\"EARTHQUAKE\\u003cbr\\u003e |V|=5, |E|=4\",\"SURVEY\\u003cbr\\u003e |V|=6, |E|=6\",\"ASIA\\u003cbr\\u003e |V|=8, |E|=8\"],\"y\":[0.58,0.655,1.3133333333333332,1.515],\"yaxis\":\"y\",\"type\":\"bar\"},{\"error_y\":{\"array\":[0.0975,0.2325,0.0,0.1125],\"type\":\"data\",\"visible\":true},\"marker\":{\"color\":\"#9454c4\"},\"name\":\"NOTEARS-MLP\",\"offsetgroup\":\"2\",\"opacity\":0.6,\"showlegend\":true,\"x\":[\"CANCER\\u003cbr\\u003e |V|=5, |E|=4\",\"EARTHQUAKE\\u003cbr\\u003e |V|=5, |E|=4\",\"SURVEY\\u003cbr\\u003e |V|=6, |E|=6\",\"ASIA\\u003cbr\\u003e |V|=8, |E|=8\"],\"y\":[0.955,0.45,1.0,0.83],\"yaxis\":\"y\",\"type\":\"bar\"},{\"error_y\":{\"array\":[0.05,0.14,0.07166666666666667,0.0825],\"type\":\"data\",\"visible\":true},\"marker\":{\"color\":\"#379f9f\"},\"name\":\"MPC\",\"offsetgroup\":\"3\",\"opacity\":0.6,\"showlegend\":true,\"x\":[\"CANCER\\u003cbr\\u003e |V|=5, |E|=4\",\"EARTHQUAKE\\u003cbr\\u003e |V|=5, |E|=4\",\"SURVEY\\u003cbr\\u003e |V|=6, |E|=6\",\"ASIA\\u003cbr\\u003e |V|=8, |E|=8\"],\"y\":[0.51,0.66,0.7066666666666667,0.58],\"yaxis\":\"y\",\"type\":\"bar\"},{\"error_y\":{\"array\":[0.235,0.12,0.09499999999999999],\"type\":\"data\",\"visible\":true},\"marker\":{\"color\":\"#441469\"},\"name\":\"ASPCR\",\"offsetgroup\":\"4\",\"opacity\":0.6,\"showlegend\":true,\"x\":[\"CANCER\\u003cbr\\u003e |V|=5, |E|=4\",\"EARTHQUAKE\\u003cbr\\u003e |V|=5, |E|=4\",\"SURVEY\\u003cbr\\u003e |V|=6, |E|=6\"],\"y\":[0.665,1.085,0.8466666666666667],\"yaxis\":\"y\",\"type\":\"bar\"},{\"error_y\":{\"array\":[0.235,0.145,0.18333333333333335,0.2825],\"type\":\"data\",\"visible\":true},\"marker\":{\"color\":\"#0085CA\"},\"name\":\"ABAPC (Ours)\",\"offsetgroup\":\"5\",\"opacity\":0.6,\"showlegend\":true,\"x\":[\"CANCER\\u003cbr\\u003e |V|=5, |E|=4\",\"EARTHQUAKE\\u003cbr\\u003e |V|=5, |E|=4\",\"SURVEY\\u003cbr\\u003e |V|=6, |E|=6\",\"ASIA\\u003cbr\\u003e |V|=8, |E|=8\"],\"y\":[0.665,0.14,0.8033333333333333,0.655],\"yaxis\":\"y\",\"type\":\"bar\"},{\"marker\":{\"color\":\"white\"},\"name\":\"\",\"offsetgroup\":\"6\",\"opacity\":1,\"showlegend\":false,\"x\":[\"CANCER\\u003cbr\\u003e |V|=5, |E|=4\",\"EARTHQUAKE\\u003cbr\\u003e |V|=5, |E|=4\",\"SURVEY\\u003cbr\\u003e |V|=6, |E|=6\",\"ASIA\\u003cbr\\u003e |V|=8, |E|=8\"],\"y\":[0.0,0.0,0.0,0.0],\"type\":\"bar\"},{\"error_y\":{\"array\":[0.13,0.1,0.12,0.06],\"type\":\"data\",\"visible\":true},\"marker\":{\"color\":\"grey\"},\"name\":\"Random\",\"offsetgroup\":\"7\",\"opacity\":0.6,\"showlegend\":false,\"x\":[\"CANCER\\u003cbr\\u003e |V|=5, |E|=4\",\"EARTHQUAKE\\u003cbr\\u003e |V|=5, |E|=4\",\"SURVEY\\u003cbr\\u003e |V|=6, |E|=6\",\"ASIA\\u003cbr\\u003e |V|=8, |E|=8\"],\"y\":[0.32,0.3,0.31,0.17],\"yaxis\":\"y2\",\"type\":\"bar\"},{\"error_y\":{\"array\":[0.1,0.03,0.1,0.04],\"type\":\"data\",\"visible\":true},\"marker\":{\"color\":\"#b85c00\"},\"name\":\"FGS\",\"offsetgroup\":\"8\",\"opacity\":0.6,\"showlegend\":false,\"x\":[\"CANCER\\u003cbr\\u003e |V|=5, |E|=4\",\"EARTHQUAKE\\u003cbr\\u003e |V|=5, |E|=4\",\"SURVEY\\u003cbr\\u003e |V|=6, |E|=6\",\"ASIA\\u003cbr\\u003e |V|=8, |E|=8\"],\"y\":[0.43,0.47,0.27,0.25],\"yaxis\":\"y2\",\"type\":\"bar\"},{\"error_y\":{\"array\":[0.0,0.19,null,0.12],\"type\":\"data\",\"visible\":true},\"marker\":{\"color\":\"#9454c4\"},\"name\":\"NOTEARS-MLP\",\"offsetgroup\":\"9\",\"opacity\":0.6,\"showlegend\":false,\"x\":[\"CANCER\\u003cbr\\u003e |V|=5, |E|=4\",\"EARTHQUAKE\\u003cbr\\u003e |V|=5, |E|=4\",\"SURVEY\\u003cbr\\u003e |V|=6, |E|=6\",\"ASIA\\u003cbr\\u003e |V|=8, |E|=8\"],\"y\":[0.4,0.59,null,0.36],\"yaxis\":\"y2\",\"type\":\"bar\"},{\"error_y\":{\"array\":[0.04,0.03,0.07,0.07],\"type\":\"data\",\"visible\":true},\"marker\":{\"color\":\"#379f9f\"},\"name\":\"MPC\",\"offsetgroup\":\"10\",\"opacity\":0.6,\"showlegend\":false,\"x\":[\"CANCER\\u003cbr\\u003e |V|=5, |E|=4\",\"EARTHQUAKE\\u003cbr\\u003e |V|=5, |E|=4\",\"SURVEY\\u003cbr\\u003e |V|=6, |E|=6\",\"ASIA\\u003cbr\\u003e |V|=8, |E|=8\"],\"y\":[0.52,0.46,0.66,0.33],\"yaxis\":\"y2\",\"type\":\"bar\"},{\"error_y\":{\"array\":[0.16,null,0.1],\"type\":\"data\",\"visible\":true},\"marker\":{\"color\":\"#441469\"},\"name\":\"ASPCR\",\"offsetgroup\":\"11\",\"opacity\":0.6,\"showlegend\":false,\"x\":[\"CANCER\\u003cbr\\u003e |V|=5, |E|=4\",\"EARTHQUAKE\\u003cbr\\u003e |V|=5, |E|=4\",\"SURVEY\\u003cbr\\u003e |V|=6, |E|=6\"],\"y\":[0.5,0.44,0.47],\"yaxis\":\"y2\",\"type\":\"bar\"},{\"error_y\":{\"array\":[0.13,0.06,0.11,0.18],\"type\":\"data\",\"visible\":true},\"marker\":{\"color\":\"#0085CA\"},\"name\":\"ABAPC (Ours)\",\"offsetgroup\":\"12\",\"opacity\":0.6,\"showlegend\":false,\"x\":[\"CANCER\\u003cbr\\u003e |V|=5, |E|=4\",\"EARTHQUAKE\\u003cbr\\u003e |V|=5, |E|=4\",\"SURVEY\\u003cbr\\u003e |V|=6, |E|=6\",\"ASIA\\u003cbr\\u003e |V|=8, |E|=8\"],\"y\":[0.44,0.94,0.42,0.5],\"yaxis\":\"y2\",\"type\":\"bar\"}],                        {\"template\":{\"data\":{\"barpolar\":[{\"marker\":{\"line\":{\"color\":\"white\",\"width\":0.5},\"pattern\":{\"fillmode\":\"overlay\",\"size\":10,\"solidity\":0.2}},\"type\":\"barpolar\"}],\"bar\":[{\"error_x\":{\"color\":\"#2a3f5f\"},\"error_y\":{\"color\":\"#2a3f5f\"},\"marker\":{\"line\":{\"color\":\"white\",\"width\":0.5},\"pattern\":{\"fillmode\":\"overlay\",\"size\":10,\"solidity\":0.2}},\"type\":\"bar\"}],\"carpet\":[{\"aaxis\":{\"endlinecolor\":\"#2a3f5f\",\"gridcolor\":\"#C8D4E3\",\"linecolor\":\"#C8D4E3\",\"minorgridcolor\":\"#C8D4E3\",\"startlinecolor\":\"#2a3f5f\"},\"baxis\":{\"endlinecolor\":\"#2a3f5f\",\"gridcolor\":\"#C8D4E3\",\"linecolor\":\"#C8D4E3\",\"minorgridcolor\":\"#C8D4E3\",\"startlinecolor\":\"#2a3f5f\"},\"type\":\"carpet\"}],\"choropleth\":[{\"colorbar\":{\"outlinewidth\":0,\"ticks\":\"\"},\"type\":\"choropleth\"}],\"contourcarpet\":[{\"colorbar\":{\"outlinewidth\":0,\"ticks\":\"\"},\"type\":\"contourcarpet\"}],\"contour\":[{\"colorbar\":{\"outlinewidth\":0,\"ticks\":\"\"},\"colorscale\":[[0.0,\"#0d0887\"],[0.1111111111111111,\"#46039f\"],[0.2222222222222222,\"#7201a8\"],[0.3333333333333333,\"#9c179e\"],[0.4444444444444444,\"#bd3786\"],[0.5555555555555556,\"#d8576b\"],[0.6666666666666666,\"#ed7953\"],[0.7777777777777778,\"#fb9f3a\"],[0.8888888888888888,\"#fdca26\"],[1.0,\"#f0f921\"]],\"type\":\"contour\"}],\"heatmapgl\":[{\"colorbar\":{\"outlinewidth\":0,\"ticks\":\"\"},\"colorscale\":[[0.0,\"#0d0887\"],[0.1111111111111111,\"#46039f\"],[0.2222222222222222,\"#7201a8\"],[0.3333333333333333,\"#9c179e\"],[0.4444444444444444,\"#bd3786\"],[0.5555555555555556,\"#d8576b\"],[0.6666666666666666,\"#ed7953\"],[0.7777777777777778,\"#fb9f3a\"],[0.8888888888888888,\"#fdca26\"],[1.0,\"#f0f921\"]],\"type\":\"heatmapgl\"}],\"heatmap\":[{\"colorbar\":{\"outlinewidth\":0,\"ticks\":\"\"},\"colorscale\":[[0.0,\"#0d0887\"],[0.1111111111111111,\"#46039f\"],[0.2222222222222222,\"#7201a8\"],[0.3333333333333333,\"#9c179e\"],[0.4444444444444444,\"#bd3786\"],[0.5555555555555556,\"#d8576b\"],[0.6666666666666666,\"#ed7953\"],[0.7777777777777778,\"#fb9f3a\"],[0.8888888888888888,\"#fdca26\"],[1.0,\"#f0f921\"]],\"type\":\"heatmap\"}],\"histogram2dcontour\":[{\"colorbar\":{\"outlinewidth\":0,\"ticks\":\"\"},\"colorscale\":[[0.0,\"#0d0887\"],[0.1111111111111111,\"#46039f\"],[0.2222222222222222,\"#7201a8\"],[0.3333333333333333,\"#9c179e\"],[0.4444444444444444,\"#bd3786\"],[0.5555555555555556,\"#d8576b\"],[0.6666666666666666,\"#ed7953\"],[0.7777777777777778,\"#fb9f3a\"],[0.8888888888888888,\"#fdca26\"],[1.0,\"#f0f921\"]],\"type\":\"histogram2dcontour\"}],\"histogram2d\":[{\"colorbar\":{\"outlinewidth\":0,\"ticks\":\"\"},\"colorscale\":[[0.0,\"#0d0887\"],[0.1111111111111111,\"#46039f\"],[0.2222222222222222,\"#7201a8\"],[0.3333333333333333,\"#9c179e\"],[0.4444444444444444,\"#bd3786\"],[0.5555555555555556,\"#d8576b\"],[0.6666666666666666,\"#ed7953\"],[0.7777777777777778,\"#fb9f3a\"],[0.8888888888888888,\"#fdca26\"],[1.0,\"#f0f921\"]],\"type\":\"histogram2d\"}],\"histogram\":[{\"marker\":{\"pattern\":{\"fillmode\":\"overlay\",\"size\":10,\"solidity\":0.2}},\"type\":\"histogram\"}],\"mesh3d\":[{\"colorbar\":{\"outlinewidth\":0,\"ticks\":\"\"},\"type\":\"mesh3d\"}],\"parcoords\":[{\"line\":{\"colorbar\":{\"outlinewidth\":0,\"ticks\":\"\"}},\"type\":\"parcoords\"}],\"pie\":[{\"automargin\":true,\"type\":\"pie\"}],\"scatter3d\":[{\"line\":{\"colorbar\":{\"outlinewidth\":0,\"ticks\":\"\"}},\"marker\":{\"colorbar\":{\"outlinewidth\":0,\"ticks\":\"\"}},\"type\":\"scatter3d\"}],\"scattercarpet\":[{\"marker\":{\"colorbar\":{\"outlinewidth\":0,\"ticks\":\"\"}},\"type\":\"scattercarpet\"}],\"scattergeo\":[{\"marker\":{\"colorbar\":{\"outlinewidth\":0,\"ticks\":\"\"}},\"type\":\"scattergeo\"}],\"scattergl\":[{\"marker\":{\"colorbar\":{\"outlinewidth\":0,\"ticks\":\"\"}},\"type\":\"scattergl\"}],\"scattermapbox\":[{\"marker\":{\"colorbar\":{\"outlinewidth\":0,\"ticks\":\"\"}},\"type\":\"scattermapbox\"}],\"scatterpolargl\":[{\"marker\":{\"colorbar\":{\"outlinewidth\":0,\"ticks\":\"\"}},\"type\":\"scatterpolargl\"}],\"scatterpolar\":[{\"marker\":{\"colorbar\":{\"outlinewidth\":0,\"ticks\":\"\"}},\"type\":\"scatterpolar\"}],\"scatter\":[{\"fillpattern\":{\"fillmode\":\"overlay\",\"size\":10,\"solidity\":0.2},\"type\":\"scatter\"}],\"scatterternary\":[{\"marker\":{\"colorbar\":{\"outlinewidth\":0,\"ticks\":\"\"}},\"type\":\"scatterternary\"}],\"surface\":[{\"colorbar\":{\"outlinewidth\":0,\"ticks\":\"\"},\"colorscale\":[[0.0,\"#0d0887\"],[0.1111111111111111,\"#46039f\"],[0.2222222222222222,\"#7201a8\"],[0.3333333333333333,\"#9c179e\"],[0.4444444444444444,\"#bd3786\"],[0.5555555555555556,\"#d8576b\"],[0.6666666666666666,\"#ed7953\"],[0.7777777777777778,\"#fb9f3a\"],[0.8888888888888888,\"#fdca26\"],[1.0,\"#f0f921\"]],\"type\":\"surface\"}],\"table\":[{\"cells\":{\"fill\":{\"color\":\"#EBF0F8\"},\"line\":{\"color\":\"white\"}},\"header\":{\"fill\":{\"color\":\"#C8D4E3\"},\"line\":{\"color\":\"white\"}},\"type\":\"table\"}]},\"layout\":{\"annotationdefaults\":{\"arrowcolor\":\"#2a3f5f\",\"arrowhead\":0,\"arrowwidth\":1},\"autotypenumbers\":\"strict\",\"coloraxis\":{\"colorbar\":{\"outlinewidth\":0,\"ticks\":\"\"}},\"colorscale\":{\"diverging\":[[0,\"#8e0152\"],[0.1,\"#c51b7d\"],[0.2,\"#de77ae\"],[0.3,\"#f1b6da\"],[0.4,\"#fde0ef\"],[0.5,\"#f7f7f7\"],[0.6,\"#e6f5d0\"],[0.7,\"#b8e186\"],[0.8,\"#7fbc41\"],[0.9,\"#4d9221\"],[1,\"#276419\"]],\"sequential\":[[0.0,\"#0d0887\"],[0.1111111111111111,\"#46039f\"],[0.2222222222222222,\"#7201a8\"],[0.3333333333333333,\"#9c179e\"],[0.4444444444444444,\"#bd3786\"],[0.5555555555555556,\"#d8576b\"],[0.6666666666666666,\"#ed7953\"],[0.7777777777777778,\"#fb9f3a\"],[0.8888888888888888,\"#fdca26\"],[1.0,\"#f0f921\"]],\"sequentialminus\":[[0.0,\"#0d0887\"],[0.1111111111111111,\"#46039f\"],[0.2222222222222222,\"#7201a8\"],[0.3333333333333333,\"#9c179e\"],[0.4444444444444444,\"#bd3786\"],[0.5555555555555556,\"#d8576b\"],[0.6666666666666666,\"#ed7953\"],[0.7777777777777778,\"#fb9f3a\"],[0.8888888888888888,\"#fdca26\"],[1.0,\"#f0f921\"]]},\"colorway\":[\"#636efa\",\"#EF553B\",\"#00cc96\",\"#ab63fa\",\"#FFA15A\",\"#19d3f3\",\"#FF6692\",\"#B6E880\",\"#FF97FF\",\"#FECB52\"],\"font\":{\"color\":\"#2a3f5f\"},\"geo\":{\"bgcolor\":\"white\",\"lakecolor\":\"white\",\"landcolor\":\"white\",\"showlakes\":true,\"showland\":true,\"subunitcolor\":\"#C8D4E3\"},\"hoverlabel\":{\"align\":\"left\"},\"hovermode\":\"closest\",\"mapbox\":{\"style\":\"light\"},\"paper_bgcolor\":\"white\",\"plot_bgcolor\":\"white\",\"polar\":{\"angularaxis\":{\"gridcolor\":\"#EBF0F8\",\"linecolor\":\"#EBF0F8\",\"ticks\":\"\"},\"bgcolor\":\"white\",\"radialaxis\":{\"gridcolor\":\"#EBF0F8\",\"linecolor\":\"#EBF0F8\",\"ticks\":\"\"}},\"scene\":{\"xaxis\":{\"backgroundcolor\":\"white\",\"gridcolor\":\"#DFE8F3\",\"gridwidth\":2,\"linecolor\":\"#EBF0F8\",\"showbackground\":true,\"ticks\":\"\",\"zerolinecolor\":\"#EBF0F8\"},\"yaxis\":{\"backgroundcolor\":\"white\",\"gridcolor\":\"#DFE8F3\",\"gridwidth\":2,\"linecolor\":\"#EBF0F8\",\"showbackground\":true,\"ticks\":\"\",\"zerolinecolor\":\"#EBF0F8\"},\"zaxis\":{\"backgroundcolor\":\"white\",\"gridcolor\":\"#DFE8F3\",\"gridwidth\":2,\"linecolor\":\"#EBF0F8\",\"showbackground\":true,\"ticks\":\"\",\"zerolinecolor\":\"#EBF0F8\"}},\"shapedefaults\":{\"line\":{\"color\":\"#2a3f5f\"}},\"ternary\":{\"aaxis\":{\"gridcolor\":\"#DFE8F3\",\"linecolor\":\"#A2B1C6\",\"ticks\":\"\"},\"baxis\":{\"gridcolor\":\"#DFE8F3\",\"linecolor\":\"#A2B1C6\",\"ticks\":\"\"},\"bgcolor\":\"white\",\"caxis\":{\"gridcolor\":\"#DFE8F3\",\"linecolor\":\"#A2B1C6\",\"ticks\":\"\"}},\"title\":{\"x\":0.05},\"xaxis\":{\"automargin\":true,\"gridcolor\":\"#EBF0F8\",\"linecolor\":\"#EBF0F8\",\"ticks\":\"\",\"title\":{\"standoff\":15},\"zerolinecolor\":\"#EBF0F8\",\"zerolinewidth\":2},\"yaxis\":{\"automargin\":true,\"gridcolor\":\"#EBF0F8\",\"linecolor\":\"#EBF0F8\",\"ticks\":\"\",\"title\":{\"standoff\":15},\"zerolinecolor\":\"#EBF0F8\",\"zerolinewidth\":2}}},\"xaxis\":{\"anchor\":\"y\",\"domain\":[0.0,0.94]},\"yaxis\":{\"anchor\":\"x\",\"domain\":[0.0,1.0],\"title\":{\"font\":{\"size\":20},\"text\":\"Normalised SHD = SHD \\u002f Number of Edges in DAG\"},\"range\":[0,2]},\"yaxis2\":{\"anchor\":\"x\",\"overlaying\":\"y\",\"side\":\"right\",\"scaleanchor\":0,\"showline\":false,\"showgrid\":false,\"showticklabels\":true,\"zeroline\":true,\"title\":{\"font\":{\"size\":20},\"text\":\"F1\"},\"range\":[0,2]},\"legend\":{\"orientation\":\"h\",\"xanchor\":\"center\",\"x\":0.5,\"yanchor\":\"top\",\"y\":1.1},\"margin\":{\"l\":40,\"r\":0,\"b\":70,\"t\":20},\"font\":{\"size\":20,\"family\":\"Serif\",\"color\":\"black\"},\"barmode\":\"group\",\"bargap\":0.15,\"bargroupgap\":0.1,\"width\":1600,\"height\":700,\"hovermode\":\"x unified\",\"annotations\":[{\"font\":{\"color\":\"Black\",\"family\":\"Serif\",\"size\":20},\"showarrow\":false,\"text\":\"Dataset:\",\"x\":0,\"xanchor\":\"center\",\"xref\":\"paper\",\"y\":-0.08,\"yanchor\":\"bottom\",\"yref\":\"paper\"},{\"bgcolor\":\"#E5ECF6\",\"bordercolor\":\"#E5ECF6\",\"borderwidth\":2,\"font\":{\"color\":\"black\",\"size\":20},\"opacity\":0.8,\"showarrow\":false,\"text\":\"         NSHD         \",\"x\":0.017,\"xanchor\":\"left\",\"xref\":\"x domain\",\"y\":1.015,\"yref\":\"y domain\"},{\"bgcolor\":\"#E5ECF6\",\"bordercolor\":\"#E5ECF6\",\"borderwidth\":2,\"font\":{\"color\":\"black\",\"size\":20},\"opacity\":0.8,\"showarrow\":false,\"text\":\"           F1           \",\"x\":0.137,\"xanchor\":\"left\",\"xref\":\"x domain\",\"y\":1.015,\"yref\":\"y domain\"},{\"bgcolor\":\"#E5ECF6\",\"bordercolor\":\"#E5ECF6\",\"borderwidth\":2,\"font\":{\"color\":\"black\",\"size\":20},\"opacity\":0.8,\"showarrow\":false,\"text\":\"         NSHD         \",\"x\":0.267,\"xanchor\":\"left\",\"xref\":\"x domain\",\"y\":1.015,\"yref\":\"y domain\"},{\"bgcolor\":\"#E5ECF6\",\"bordercolor\":\"#E5ECF6\",\"borderwidth\":2,\"font\":{\"color\":\"black\",\"size\":20},\"opacity\":0.8,\"showarrow\":false,\"text\":\"           F1           \",\"x\":0.387,\"xanchor\":\"left\",\"xref\":\"x domain\",\"y\":1.015,\"yref\":\"y domain\"},{\"bgcolor\":\"#E5ECF6\",\"bordercolor\":\"#E5ECF6\",\"borderwidth\":2,\"font\":{\"color\":\"black\",\"size\":20},\"opacity\":0.8,\"showarrow\":false,\"text\":\"         NSHD         \",\"x\":0.517,\"xanchor\":\"left\",\"xref\":\"x domain\",\"y\":1.015,\"yref\":\"y domain\"},{\"bgcolor\":\"#E5ECF6\",\"bordercolor\":\"#E5ECF6\",\"borderwidth\":2,\"font\":{\"color\":\"black\",\"size\":20},\"opacity\":0.8,\"showarrow\":false,\"text\":\"           F1           \",\"x\":0.637,\"xanchor\":\"left\",\"xref\":\"x domain\",\"y\":1.015,\"yref\":\"y domain\"},{\"bgcolor\":\"#E5ECF6\",\"bordercolor\":\"#E5ECF6\",\"borderwidth\":2,\"font\":{\"color\":\"black\",\"size\":20},\"opacity\":0.8,\"showarrow\":false,\"text\":\"         NSHD         \",\"x\":0.767,\"xanchor\":\"left\",\"xref\":\"x domain\",\"y\":1.015,\"yref\":\"y domain\"},{\"bgcolor\":\"#E5ECF6\",\"bordercolor\":\"#E5ECF6\",\"borderwidth\":2,\"font\":{\"color\":\"black\",\"size\":20},\"opacity\":0.8,\"showarrow\":false,\"text\":\"           F1           \",\"x\":0.887,\"xanchor\":\"left\",\"xref\":\"x domain\",\"y\":1.015,\"yref\":\"y domain\"}]},                        {\"responsive\": true}                    ).then(function(){\n",
       "                            \n",
       "var gd = document.getElementById('a48e6b5c-8d2a-48a5-a80d-3742df6de035');\n",
       "var x = new MutationObserver(function (mutations, observer) {{\n",
       "        var display = window.getComputedStyle(gd).display;\n",
       "        if (!display || display === 'none') {{\n",
       "            console.log([gd, 'removed!']);\n",
       "            Plotly.purge(gd);\n",
       "            observer.disconnect();\n",
       "        }}\n",
       "}});\n",
       "\n",
       "// Listen for the removal of the full notebook cells\n",
       "var notebookContainer = gd.closest('#notebook-container');\n",
       "if (notebookContainer) {{\n",
       "    x.observe(notebookContainer, {childList: true});\n",
       "}}\n",
       "\n",
       "// Listen for the clearing of the current output cell\n",
       "var outputEl = gd.closest('.output');\n",
       "if (outputEl) {{\n",
       "    x.observe(outputEl, {childList: true});\n",
       "}}\n",
       "\n",
       "                        })                };                });            </script>        </div>"
      ]
     },
     "metadata": {},
     "output_type": "display_data"
    },
    {
     "data": {
      "application/vnd.plotly.v1+json": {
       "config": {
        "plotlyServerURL": "https://plot.ly"
       },
       "data": [
        {
         "error_y": {
          "array": [
           0.19,
           0.17,
           0.14,
           0.09
          ],
          "type": "data",
          "visible": true
         },
         "marker": {
          "color": "grey"
         },
         "name": "Random",
         "offsetgroup": "0",
         "opacity": 0.6,
         "showlegend": true,
         "type": "bar",
         "x": [
          "CANCER<br> |V|=5, |E|=4",
          "EARTHQUAKE<br> |V|=5, |E|=4",
          "SURVEY<br> |V|=6, |E|=6",
          "ASIA<br> |V|=8, |E|=8"
         ],
         "y": [
          0.2,
          0.16,
          0.29,
          0.11
         ],
         "yaxis": "y"
        },
        {
         "error_y": {
          "array": [
           0.08,
           0.06,
           0.16,
           0.05
          ],
          "type": "data",
          "visible": true
         },
         "marker": {
          "color": "#b85c00"
         },
         "name": "FGS",
         "offsetgroup": "1",
         "opacity": 0.6,
         "showlegend": true,
         "type": "bar",
         "x": [
          "CANCER<br> |V|=5, |E|=4",
          "EARTHQUAKE<br> |V|=5, |E|=4",
          "SURVEY<br> |V|=6, |E|=6",
          "ASIA<br> |V|=8, |E|=8"
         ],
         "y": [
          0.45,
          0.44,
          0.4,
          0.25
         ],
         "yaxis": "y"
        },
        {
         "error_y": {
          "array": [
           0,
           0.23,
           null,
           0.13
          ],
          "type": "data",
          "visible": true
         },
         "marker": {
          "color": "#9454c4"
         },
         "name": "NOTEARS-MLP",
         "offsetgroup": "2",
         "opacity": 0.6,
         "showlegend": true,
         "type": "bar",
         "x": [
          "CANCER<br> |V|=5, |E|=4",
          "EARTHQUAKE<br> |V|=5, |E|=4",
          "SURVEY<br> |V|=6, |E|=6",
          "ASIA<br> |V|=8, |E|=8"
         ],
         "y": [
          1,
          0.56,
          null,
          0.41
         ],
         "yaxis": "y"
        },
        {
         "error_y": {
          "array": [
           0.08,
           0.05,
           0.12,
           0.06
          ],
          "type": "data",
          "visible": true
         },
         "marker": {
          "color": "#379f9f"
         },
         "name": "MPC",
         "offsetgroup": "3",
         "opacity": 0.6,
         "showlegend": true,
         "type": "bar",
         "x": [
          "CANCER<br> |V|=5, |E|=4",
          "EARTHQUAKE<br> |V|=5, |E|=4",
          "SURVEY<br> |V|=6, |E|=6",
          "ASIA<br> |V|=8, |E|=8"
         ],
         "y": [
          0.54,
          0.44,
          0.84,
          0.36
         ],
         "yaxis": "y"
        },
        {
         "error_y": {
          "array": [
           0.31,
           0.06,
           0.17
          ],
          "type": "data",
          "visible": true
         },
         "marker": {
          "color": "#441469"
         },
         "name": "ASPCR",
         "offsetgroup": "4",
         "opacity": 0.6,
         "showlegend": true,
         "type": "bar",
         "x": [
          "CANCER<br> |V|=5, |E|=4",
          "EARTHQUAKE<br> |V|=5, |E|=4",
          "SURVEY<br> |V|=6, |E|=6"
         ],
         "y": [
          0.46,
          0.01,
          0.92
         ],
         "yaxis": "y"
        },
        {
         "error_y": {
          "array": [
           0.15,
           0.11,
           0.17,
           0.18
          ],
          "type": "data",
          "visible": true
         },
         "marker": {
          "color": "#0085CA"
         },
         "name": "ABAPC (Ours)",
         "offsetgroup": "5",
         "opacity": 0.6,
         "showlegend": true,
         "type": "bar",
         "x": [
          "CANCER<br> |V|=5, |E|=4",
          "EARTHQUAKE<br> |V|=5, |E|=4",
          "SURVEY<br> |V|=6, |E|=6",
          "ASIA<br> |V|=8, |E|=8"
         ],
         "y": [
          0.43,
          0.89,
          0.53,
          0.49
         ],
         "yaxis": "y"
        },
        {
         "marker": {
          "color": "white"
         },
         "name": "",
         "offsetgroup": "6",
         "opacity": 1,
         "showlegend": false,
         "type": "bar",
         "x": [
          "CANCER<br> |V|=5, |E|=4",
          "EARTHQUAKE<br> |V|=5, |E|=4",
          "SURVEY<br> |V|=6, |E|=6",
          "ASIA<br> |V|=8, |E|=8"
         ],
         "y": [
          0,
          0,
          0,
          0
         ]
        },
        {
         "error_y": {
          "array": [
           0.19,
           0.17,
           0.14,
           0.09
          ],
          "type": "data",
          "visible": true
         },
         "marker": {
          "color": "grey"
         },
         "name": "Random",
         "offsetgroup": "7",
         "opacity": 0.6,
         "showlegend": false,
         "type": "bar",
         "x": [
          "CANCER<br> |V|=5, |E|=4",
          "EARTHQUAKE<br> |V|=5, |E|=4",
          "SURVEY<br> |V|=6, |E|=6",
          "ASIA<br> |V|=8, |E|=8"
         ],
         "y": [
          0.2,
          0.16,
          0.29,
          0.11
         ],
         "yaxis": "y2"
        },
        {
         "error_y": {
          "array": [
           0.12,
           0,
           0.08,
           0.03
          ],
          "type": "data",
          "visible": true
         },
         "marker": {
          "color": "#b85c00"
         },
         "name": "FGS",
         "offsetgroup": "8",
         "opacity": 0.6,
         "showlegend": false,
         "type": "bar",
         "x": [
          "CANCER<br> |V|=5, |E|=4",
          "EARTHQUAKE<br> |V|=5, |E|=4",
          "SURVEY<br> |V|=6, |E|=6",
          "ASIA<br> |V|=8, |E|=8"
         ],
         "y": [
          0.42,
          0.5,
          0.21,
          0.24
         ],
         "yaxis": "y2"
        },
        {
         "error_y": {
          "array": [
           0.1,
           0.23,
           0,
           0.11
          ],
          "type": "data",
          "visible": true
         },
         "marker": {
          "color": "#9454c4"
         },
         "name": "NOTEARS-MLP",
         "offsetgroup": "9",
         "opacity": 0.6,
         "showlegend": false,
         "type": "bar",
         "x": [
          "CANCER<br> |V|=5, |E|=4",
          "EARTHQUAKE<br> |V|=5, |E|=4",
          "SURVEY<br> |V|=6, |E|=6",
          "ASIA<br> |V|=8, |E|=8"
         ],
         "y": [
          0.04,
          0.55,
          0,
          0.32
         ],
         "yaxis": "y2"
        },
        {
         "error_y": {
          "array": [
           0,
           0,
           0.08,
           0.07
          ],
          "type": "data",
          "visible": true
         },
         "marker": {
          "color": "#379f9f"
         },
         "name": "MPC",
         "offsetgroup": "10",
         "opacity": 0.6,
         "showlegend": false,
         "type": "bar",
         "x": [
          "CANCER<br> |V|=5, |E|=4",
          "EARTHQUAKE<br> |V|=5, |E|=4",
          "SURVEY<br> |V|=6, |E|=6",
          "ASIA<br> |V|=8, |E|=8"
         ],
         "y": [
          0.5,
          0.5,
          0.55,
          0.3
         ],
         "yaxis": "y2"
        },
        {
         "error_y": {
          "array": [
           0.22,
           0.07,
           0.09
          ],
          "type": "data",
          "visible": true
         },
         "marker": {
          "color": "#441469"
         },
         "name": "ASPCR",
         "offsetgroup": "11",
         "opacity": 0.6,
         "showlegend": false,
         "type": "bar",
         "x": [
          "CANCER<br> |V|=5, |E|=4",
          "EARTHQUAKE<br> |V|=5, |E|=4",
          "SURVEY<br> |V|=6, |E|=6"
         ],
         "y": [
          0.34,
          0.01,
          0.32
         ],
         "yaxis": "y2"
        },
        {
         "error_y": {
          "array": [
           0.17,
           0,
           0.11,
           0.18
          ],
          "type": "data",
          "visible": true
         },
         "marker": {
          "color": "#0085CA"
         },
         "name": "ABAPC (Ours)",
         "offsetgroup": "12",
         "opacity": 0.6,
         "showlegend": false,
         "type": "bar",
         "x": [
          "CANCER<br> |V|=5, |E|=4",
          "EARTHQUAKE<br> |V|=5, |E|=4",
          "SURVEY<br> |V|=6, |E|=6",
          "ASIA<br> |V|=8, |E|=8"
         ],
         "y": [
          0.42,
          1,
          0.34,
          0.51
         ],
         "yaxis": "y2"
        }
       ],
       "layout": {
        "annotations": [
         {
          "font": {
           "color": "Black",
           "family": "Serif",
           "size": 20
          },
          "showarrow": false,
          "text": "Dataset:",
          "x": 0,
          "xanchor": "center",
          "xref": "paper",
          "y": -0.08,
          "yanchor": "bottom",
          "yref": "paper"
         },
         {
          "bgcolor": "#E5ECF6",
          "bordercolor": "#E5ECF6",
          "borderwidth": 2,
          "font": {
           "color": "black",
           "size": 20
          },
          "opacity": 0.8,
          "showarrow": false,
          "text": "      Precision      ",
          "x": 0.017,
          "xanchor": "left",
          "xref": "x domain",
          "y": 1.015,
          "yref": "y domain"
         },
         {
          "bgcolor": "#E5ECF6",
          "bordercolor": "#E5ECF6",
          "borderwidth": 2,
          "font": {
           "color": "black",
           "size": 20
          },
          "opacity": 0.8,
          "showarrow": false,
          "text": "        Recall        ",
          "x": 0.132,
          "xanchor": "left",
          "xref": "x domain",
          "y": 1.015,
          "yref": "y domain"
         },
         {
          "bgcolor": "#E5ECF6",
          "bordercolor": "#E5ECF6",
          "borderwidth": 2,
          "font": {
           "color": "black",
           "size": 20
          },
          "opacity": 0.8,
          "showarrow": false,
          "text": "      Precision      ",
          "x": 0.267,
          "xanchor": "left",
          "xref": "x domain",
          "y": 1.015,
          "yref": "y domain"
         },
         {
          "bgcolor": "#E5ECF6",
          "bordercolor": "#E5ECF6",
          "borderwidth": 2,
          "font": {
           "color": "black",
           "size": 20
          },
          "opacity": 0.8,
          "showarrow": false,
          "text": "        Recall        ",
          "x": 0.382,
          "xanchor": "left",
          "xref": "x domain",
          "y": 1.015,
          "yref": "y domain"
         },
         {
          "bgcolor": "#E5ECF6",
          "bordercolor": "#E5ECF6",
          "borderwidth": 2,
          "font": {
           "color": "black",
           "size": 20
          },
          "opacity": 0.8,
          "showarrow": false,
          "text": "      Precision      ",
          "x": 0.517,
          "xanchor": "left",
          "xref": "x domain",
          "y": 1.015,
          "yref": "y domain"
         },
         {
          "bgcolor": "#E5ECF6",
          "bordercolor": "#E5ECF6",
          "borderwidth": 2,
          "font": {
           "color": "black",
           "size": 20
          },
          "opacity": 0.8,
          "showarrow": false,
          "text": "        Recall        ",
          "x": 0.632,
          "xanchor": "left",
          "xref": "x domain",
          "y": 1.015,
          "yref": "y domain"
         },
         {
          "bgcolor": "#E5ECF6",
          "bordercolor": "#E5ECF6",
          "borderwidth": 2,
          "font": {
           "color": "black",
           "size": 20
          },
          "opacity": 0.8,
          "showarrow": false,
          "text": "      Precision      ",
          "x": 0.767,
          "xanchor": "left",
          "xref": "x domain",
          "y": 1.015,
          "yref": "y domain"
         },
         {
          "bgcolor": "#E5ECF6",
          "bordercolor": "#E5ECF6",
          "borderwidth": 2,
          "font": {
           "color": "black",
           "size": 20
          },
          "opacity": 0.8,
          "showarrow": false,
          "text": "        Recall        ",
          "x": 0.882,
          "xanchor": "left",
          "xref": "x domain",
          "y": 1.015,
          "yref": "y domain"
         }
        ],
        "bargap": 0.15,
        "bargroupgap": 0.1,
        "barmode": "group",
        "font": {
         "color": "black",
         "family": "Serif",
         "size": 20
        },
        "height": 700,
        "hovermode": "x unified",
        "legend": {
         "orientation": "h",
         "x": 0.5,
         "xanchor": "center",
         "y": 1.1,
         "yanchor": "top"
        },
        "margin": {
         "b": 70,
         "l": 40,
         "r": 0,
         "t": 20
        },
        "template": {
         "data": {
          "bar": [
           {
            "error_x": {
             "color": "#2a3f5f"
            },
            "error_y": {
             "color": "#2a3f5f"
            },
            "marker": {
             "line": {
              "color": "white",
              "width": 0.5
             },
             "pattern": {
              "fillmode": "overlay",
              "size": 10,
              "solidity": 0.2
             }
            },
            "type": "bar"
           }
          ],
          "barpolar": [
           {
            "marker": {
             "line": {
              "color": "white",
              "width": 0.5
             },
             "pattern": {
              "fillmode": "overlay",
              "size": 10,
              "solidity": 0.2
             }
            },
            "type": "barpolar"
           }
          ],
          "carpet": [
           {
            "aaxis": {
             "endlinecolor": "#2a3f5f",
             "gridcolor": "#C8D4E3",
             "linecolor": "#C8D4E3",
             "minorgridcolor": "#C8D4E3",
             "startlinecolor": "#2a3f5f"
            },
            "baxis": {
             "endlinecolor": "#2a3f5f",
             "gridcolor": "#C8D4E3",
             "linecolor": "#C8D4E3",
             "minorgridcolor": "#C8D4E3",
             "startlinecolor": "#2a3f5f"
            },
            "type": "carpet"
           }
          ],
          "choropleth": [
           {
            "colorbar": {
             "outlinewidth": 0,
             "ticks": ""
            },
            "type": "choropleth"
           }
          ],
          "contour": [
           {
            "colorbar": {
             "outlinewidth": 0,
             "ticks": ""
            },
            "colorscale": [
             [
              0,
              "#0d0887"
             ],
             [
              0.1111111111111111,
              "#46039f"
             ],
             [
              0.2222222222222222,
              "#7201a8"
             ],
             [
              0.3333333333333333,
              "#9c179e"
             ],
             [
              0.4444444444444444,
              "#bd3786"
             ],
             [
              0.5555555555555556,
              "#d8576b"
             ],
             [
              0.6666666666666666,
              "#ed7953"
             ],
             [
              0.7777777777777778,
              "#fb9f3a"
             ],
             [
              0.8888888888888888,
              "#fdca26"
             ],
             [
              1,
              "#f0f921"
             ]
            ],
            "type": "contour"
           }
          ],
          "contourcarpet": [
           {
            "colorbar": {
             "outlinewidth": 0,
             "ticks": ""
            },
            "type": "contourcarpet"
           }
          ],
          "heatmap": [
           {
            "colorbar": {
             "outlinewidth": 0,
             "ticks": ""
            },
            "colorscale": [
             [
              0,
              "#0d0887"
             ],
             [
              0.1111111111111111,
              "#46039f"
             ],
             [
              0.2222222222222222,
              "#7201a8"
             ],
             [
              0.3333333333333333,
              "#9c179e"
             ],
             [
              0.4444444444444444,
              "#bd3786"
             ],
             [
              0.5555555555555556,
              "#d8576b"
             ],
             [
              0.6666666666666666,
              "#ed7953"
             ],
             [
              0.7777777777777778,
              "#fb9f3a"
             ],
             [
              0.8888888888888888,
              "#fdca26"
             ],
             [
              1,
              "#f0f921"
             ]
            ],
            "type": "heatmap"
           }
          ],
          "heatmapgl": [
           {
            "colorbar": {
             "outlinewidth": 0,
             "ticks": ""
            },
            "colorscale": [
             [
              0,
              "#0d0887"
             ],
             [
              0.1111111111111111,
              "#46039f"
             ],
             [
              0.2222222222222222,
              "#7201a8"
             ],
             [
              0.3333333333333333,
              "#9c179e"
             ],
             [
              0.4444444444444444,
              "#bd3786"
             ],
             [
              0.5555555555555556,
              "#d8576b"
             ],
             [
              0.6666666666666666,
              "#ed7953"
             ],
             [
              0.7777777777777778,
              "#fb9f3a"
             ],
             [
              0.8888888888888888,
              "#fdca26"
             ],
             [
              1,
              "#f0f921"
             ]
            ],
            "type": "heatmapgl"
           }
          ],
          "histogram": [
           {
            "marker": {
             "pattern": {
              "fillmode": "overlay",
              "size": 10,
              "solidity": 0.2
             }
            },
            "type": "histogram"
           }
          ],
          "histogram2d": [
           {
            "colorbar": {
             "outlinewidth": 0,
             "ticks": ""
            },
            "colorscale": [
             [
              0,
              "#0d0887"
             ],
             [
              0.1111111111111111,
              "#46039f"
             ],
             [
              0.2222222222222222,
              "#7201a8"
             ],
             [
              0.3333333333333333,
              "#9c179e"
             ],
             [
              0.4444444444444444,
              "#bd3786"
             ],
             [
              0.5555555555555556,
              "#d8576b"
             ],
             [
              0.6666666666666666,
              "#ed7953"
             ],
             [
              0.7777777777777778,
              "#fb9f3a"
             ],
             [
              0.8888888888888888,
              "#fdca26"
             ],
             [
              1,
              "#f0f921"
             ]
            ],
            "type": "histogram2d"
           }
          ],
          "histogram2dcontour": [
           {
            "colorbar": {
             "outlinewidth": 0,
             "ticks": ""
            },
            "colorscale": [
             [
              0,
              "#0d0887"
             ],
             [
              0.1111111111111111,
              "#46039f"
             ],
             [
              0.2222222222222222,
              "#7201a8"
             ],
             [
              0.3333333333333333,
              "#9c179e"
             ],
             [
              0.4444444444444444,
              "#bd3786"
             ],
             [
              0.5555555555555556,
              "#d8576b"
             ],
             [
              0.6666666666666666,
              "#ed7953"
             ],
             [
              0.7777777777777778,
              "#fb9f3a"
             ],
             [
              0.8888888888888888,
              "#fdca26"
             ],
             [
              1,
              "#f0f921"
             ]
            ],
            "type": "histogram2dcontour"
           }
          ],
          "mesh3d": [
           {
            "colorbar": {
             "outlinewidth": 0,
             "ticks": ""
            },
            "type": "mesh3d"
           }
          ],
          "parcoords": [
           {
            "line": {
             "colorbar": {
              "outlinewidth": 0,
              "ticks": ""
             }
            },
            "type": "parcoords"
           }
          ],
          "pie": [
           {
            "automargin": true,
            "type": "pie"
           }
          ],
          "scatter": [
           {
            "fillpattern": {
             "fillmode": "overlay",
             "size": 10,
             "solidity": 0.2
            },
            "type": "scatter"
           }
          ],
          "scatter3d": [
           {
            "line": {
             "colorbar": {
              "outlinewidth": 0,
              "ticks": ""
             }
            },
            "marker": {
             "colorbar": {
              "outlinewidth": 0,
              "ticks": ""
             }
            },
            "type": "scatter3d"
           }
          ],
          "scattercarpet": [
           {
            "marker": {
             "colorbar": {
              "outlinewidth": 0,
              "ticks": ""
             }
            },
            "type": "scattercarpet"
           }
          ],
          "scattergeo": [
           {
            "marker": {
             "colorbar": {
              "outlinewidth": 0,
              "ticks": ""
             }
            },
            "type": "scattergeo"
           }
          ],
          "scattergl": [
           {
            "marker": {
             "colorbar": {
              "outlinewidth": 0,
              "ticks": ""
             }
            },
            "type": "scattergl"
           }
          ],
          "scattermapbox": [
           {
            "marker": {
             "colorbar": {
              "outlinewidth": 0,
              "ticks": ""
             }
            },
            "type": "scattermapbox"
           }
          ],
          "scatterpolar": [
           {
            "marker": {
             "colorbar": {
              "outlinewidth": 0,
              "ticks": ""
             }
            },
            "type": "scatterpolar"
           }
          ],
          "scatterpolargl": [
           {
            "marker": {
             "colorbar": {
              "outlinewidth": 0,
              "ticks": ""
             }
            },
            "type": "scatterpolargl"
           }
          ],
          "scatterternary": [
           {
            "marker": {
             "colorbar": {
              "outlinewidth": 0,
              "ticks": ""
             }
            },
            "type": "scatterternary"
           }
          ],
          "surface": [
           {
            "colorbar": {
             "outlinewidth": 0,
             "ticks": ""
            },
            "colorscale": [
             [
              0,
              "#0d0887"
             ],
             [
              0.1111111111111111,
              "#46039f"
             ],
             [
              0.2222222222222222,
              "#7201a8"
             ],
             [
              0.3333333333333333,
              "#9c179e"
             ],
             [
              0.4444444444444444,
              "#bd3786"
             ],
             [
              0.5555555555555556,
              "#d8576b"
             ],
             [
              0.6666666666666666,
              "#ed7953"
             ],
             [
              0.7777777777777778,
              "#fb9f3a"
             ],
             [
              0.8888888888888888,
              "#fdca26"
             ],
             [
              1,
              "#f0f921"
             ]
            ],
            "type": "surface"
           }
          ],
          "table": [
           {
            "cells": {
             "fill": {
              "color": "#EBF0F8"
             },
             "line": {
              "color": "white"
             }
            },
            "header": {
             "fill": {
              "color": "#C8D4E3"
             },
             "line": {
              "color": "white"
             }
            },
            "type": "table"
           }
          ]
         },
         "layout": {
          "annotationdefaults": {
           "arrowcolor": "#2a3f5f",
           "arrowhead": 0,
           "arrowwidth": 1
          },
          "autotypenumbers": "strict",
          "coloraxis": {
           "colorbar": {
            "outlinewidth": 0,
            "ticks": ""
           }
          },
          "colorscale": {
           "diverging": [
            [
             0,
             "#8e0152"
            ],
            [
             0.1,
             "#c51b7d"
            ],
            [
             0.2,
             "#de77ae"
            ],
            [
             0.3,
             "#f1b6da"
            ],
            [
             0.4,
             "#fde0ef"
            ],
            [
             0.5,
             "#f7f7f7"
            ],
            [
             0.6,
             "#e6f5d0"
            ],
            [
             0.7,
             "#b8e186"
            ],
            [
             0.8,
             "#7fbc41"
            ],
            [
             0.9,
             "#4d9221"
            ],
            [
             1,
             "#276419"
            ]
           ],
           "sequential": [
            [
             0,
             "#0d0887"
            ],
            [
             0.1111111111111111,
             "#46039f"
            ],
            [
             0.2222222222222222,
             "#7201a8"
            ],
            [
             0.3333333333333333,
             "#9c179e"
            ],
            [
             0.4444444444444444,
             "#bd3786"
            ],
            [
             0.5555555555555556,
             "#d8576b"
            ],
            [
             0.6666666666666666,
             "#ed7953"
            ],
            [
             0.7777777777777778,
             "#fb9f3a"
            ],
            [
             0.8888888888888888,
             "#fdca26"
            ],
            [
             1,
             "#f0f921"
            ]
           ],
           "sequentialminus": [
            [
             0,
             "#0d0887"
            ],
            [
             0.1111111111111111,
             "#46039f"
            ],
            [
             0.2222222222222222,
             "#7201a8"
            ],
            [
             0.3333333333333333,
             "#9c179e"
            ],
            [
             0.4444444444444444,
             "#bd3786"
            ],
            [
             0.5555555555555556,
             "#d8576b"
            ],
            [
             0.6666666666666666,
             "#ed7953"
            ],
            [
             0.7777777777777778,
             "#fb9f3a"
            ],
            [
             0.8888888888888888,
             "#fdca26"
            ],
            [
             1,
             "#f0f921"
            ]
           ]
          },
          "colorway": [
           "#636efa",
           "#EF553B",
           "#00cc96",
           "#ab63fa",
           "#FFA15A",
           "#19d3f3",
           "#FF6692",
           "#B6E880",
           "#FF97FF",
           "#FECB52"
          ],
          "font": {
           "color": "#2a3f5f"
          },
          "geo": {
           "bgcolor": "white",
           "lakecolor": "white",
           "landcolor": "white",
           "showlakes": true,
           "showland": true,
           "subunitcolor": "#C8D4E3"
          },
          "hoverlabel": {
           "align": "left"
          },
          "hovermode": "closest",
          "mapbox": {
           "style": "light"
          },
          "paper_bgcolor": "white",
          "plot_bgcolor": "white",
          "polar": {
           "angularaxis": {
            "gridcolor": "#EBF0F8",
            "linecolor": "#EBF0F8",
            "ticks": ""
           },
           "bgcolor": "white",
           "radialaxis": {
            "gridcolor": "#EBF0F8",
            "linecolor": "#EBF0F8",
            "ticks": ""
           }
          },
          "scene": {
           "xaxis": {
            "backgroundcolor": "white",
            "gridcolor": "#DFE8F3",
            "gridwidth": 2,
            "linecolor": "#EBF0F8",
            "showbackground": true,
            "ticks": "",
            "zerolinecolor": "#EBF0F8"
           },
           "yaxis": {
            "backgroundcolor": "white",
            "gridcolor": "#DFE8F3",
            "gridwidth": 2,
            "linecolor": "#EBF0F8",
            "showbackground": true,
            "ticks": "",
            "zerolinecolor": "#EBF0F8"
           },
           "zaxis": {
            "backgroundcolor": "white",
            "gridcolor": "#DFE8F3",
            "gridwidth": 2,
            "linecolor": "#EBF0F8",
            "showbackground": true,
            "ticks": "",
            "zerolinecolor": "#EBF0F8"
           }
          },
          "shapedefaults": {
           "line": {
            "color": "#2a3f5f"
           }
          },
          "ternary": {
           "aaxis": {
            "gridcolor": "#DFE8F3",
            "linecolor": "#A2B1C6",
            "ticks": ""
           },
           "baxis": {
            "gridcolor": "#DFE8F3",
            "linecolor": "#A2B1C6",
            "ticks": ""
           },
           "bgcolor": "white",
           "caxis": {
            "gridcolor": "#DFE8F3",
            "linecolor": "#A2B1C6",
            "ticks": ""
           }
          },
          "title": {
           "x": 0.05
          },
          "xaxis": {
           "automargin": true,
           "gridcolor": "#EBF0F8",
           "linecolor": "#EBF0F8",
           "ticks": "",
           "title": {
            "standoff": 15
           },
           "zerolinecolor": "#EBF0F8",
           "zerolinewidth": 2
          },
          "yaxis": {
           "automargin": true,
           "gridcolor": "#EBF0F8",
           "linecolor": "#EBF0F8",
           "ticks": "",
           "title": {
            "standoff": 15
           },
           "zerolinecolor": "#EBF0F8",
           "zerolinewidth": 2
          }
         }
        },
        "width": 1600,
        "xaxis": {
         "anchor": "y",
         "domain": [
          0,
          0.94
         ]
        },
        "yaxis": {
         "anchor": "x",
         "domain": [
          0,
          1
         ],
         "range": [
          0,
          1.3
         ],
         "title": {
          "font": {
           "size": 20
          },
          "text": "Precision"
         }
        },
        "yaxis2": {
         "anchor": "x",
         "overlaying": "y",
         "range": [
          0,
          1.3
         ],
         "scaleanchor": 0,
         "showgrid": false,
         "showline": false,
         "showticklabels": true,
         "side": "right",
         "title": {
          "font": {
           "size": 20
          },
          "text": "Recall"
         },
         "zeroline": true
        }
       }
      },
      "text/html": [
       "<div>                            <div id=\"9f6bf17f-b7d3-45e1-a4a1-1f94f3130f59\" class=\"plotly-graph-div\" style=\"height:700px; width:1600px;\"></div>            <script type=\"text/javascript\">                require([\"plotly\"], function(Plotly) {                    window.PLOTLYENV=window.PLOTLYENV || {};                                    if (document.getElementById(\"9f6bf17f-b7d3-45e1-a4a1-1f94f3130f59\")) {                    Plotly.newPlot(                        \"9f6bf17f-b7d3-45e1-a4a1-1f94f3130f59\",                        [{\"error_y\":{\"array\":[0.19,0.17,0.14,0.09],\"type\":\"data\",\"visible\":true},\"marker\":{\"color\":\"grey\"},\"name\":\"Random\",\"offsetgroup\":\"0\",\"opacity\":0.6,\"showlegend\":true,\"x\":[\"CANCER\\u003cbr\\u003e |V|=5, |E|=4\",\"EARTHQUAKE\\u003cbr\\u003e |V|=5, |E|=4\",\"SURVEY\\u003cbr\\u003e |V|=6, |E|=6\",\"ASIA\\u003cbr\\u003e |V|=8, |E|=8\"],\"y\":[0.2,0.16,0.29,0.11],\"yaxis\":\"y\",\"type\":\"bar\"},{\"error_y\":{\"array\":[0.08,0.06,0.16,0.05],\"type\":\"data\",\"visible\":true},\"marker\":{\"color\":\"#b85c00\"},\"name\":\"FGS\",\"offsetgroup\":\"1\",\"opacity\":0.6,\"showlegend\":true,\"x\":[\"CANCER\\u003cbr\\u003e |V|=5, |E|=4\",\"EARTHQUAKE\\u003cbr\\u003e |V|=5, |E|=4\",\"SURVEY\\u003cbr\\u003e |V|=6, |E|=6\",\"ASIA\\u003cbr\\u003e |V|=8, |E|=8\"],\"y\":[0.45,0.44,0.4,0.25],\"yaxis\":\"y\",\"type\":\"bar\"},{\"error_y\":{\"array\":[0.0,0.23,null,0.13],\"type\":\"data\",\"visible\":true},\"marker\":{\"color\":\"#9454c4\"},\"name\":\"NOTEARS-MLP\",\"offsetgroup\":\"2\",\"opacity\":0.6,\"showlegend\":true,\"x\":[\"CANCER\\u003cbr\\u003e |V|=5, |E|=4\",\"EARTHQUAKE\\u003cbr\\u003e |V|=5, |E|=4\",\"SURVEY\\u003cbr\\u003e |V|=6, |E|=6\",\"ASIA\\u003cbr\\u003e |V|=8, |E|=8\"],\"y\":[1.0,0.56,null,0.41],\"yaxis\":\"y\",\"type\":\"bar\"},{\"error_y\":{\"array\":[0.08,0.05,0.12,0.06],\"type\":\"data\",\"visible\":true},\"marker\":{\"color\":\"#379f9f\"},\"name\":\"MPC\",\"offsetgroup\":\"3\",\"opacity\":0.6,\"showlegend\":true,\"x\":[\"CANCER\\u003cbr\\u003e |V|=5, |E|=4\",\"EARTHQUAKE\\u003cbr\\u003e |V|=5, |E|=4\",\"SURVEY\\u003cbr\\u003e |V|=6, |E|=6\",\"ASIA\\u003cbr\\u003e |V|=8, |E|=8\"],\"y\":[0.54,0.44,0.84,0.36],\"yaxis\":\"y\",\"type\":\"bar\"},{\"error_y\":{\"array\":[0.31,0.06,0.17],\"type\":\"data\",\"visible\":true},\"marker\":{\"color\":\"#441469\"},\"name\":\"ASPCR\",\"offsetgroup\":\"4\",\"opacity\":0.6,\"showlegend\":true,\"x\":[\"CANCER\\u003cbr\\u003e |V|=5, |E|=4\",\"EARTHQUAKE\\u003cbr\\u003e |V|=5, |E|=4\",\"SURVEY\\u003cbr\\u003e |V|=6, |E|=6\"],\"y\":[0.46,0.01,0.92],\"yaxis\":\"y\",\"type\":\"bar\"},{\"error_y\":{\"array\":[0.15,0.11,0.17,0.18],\"type\":\"data\",\"visible\":true},\"marker\":{\"color\":\"#0085CA\"},\"name\":\"ABAPC (Ours)\",\"offsetgroup\":\"5\",\"opacity\":0.6,\"showlegend\":true,\"x\":[\"CANCER\\u003cbr\\u003e |V|=5, |E|=4\",\"EARTHQUAKE\\u003cbr\\u003e |V|=5, |E|=4\",\"SURVEY\\u003cbr\\u003e |V|=6, |E|=6\",\"ASIA\\u003cbr\\u003e |V|=8, |E|=8\"],\"y\":[0.43,0.89,0.53,0.49],\"yaxis\":\"y\",\"type\":\"bar\"},{\"marker\":{\"color\":\"white\"},\"name\":\"\",\"offsetgroup\":\"6\",\"opacity\":1,\"showlegend\":false,\"x\":[\"CANCER\\u003cbr\\u003e |V|=5, |E|=4\",\"EARTHQUAKE\\u003cbr\\u003e |V|=5, |E|=4\",\"SURVEY\\u003cbr\\u003e |V|=6, |E|=6\",\"ASIA\\u003cbr\\u003e |V|=8, |E|=8\"],\"y\":[0.0,0.0,0.0,0.0],\"type\":\"bar\"},{\"error_y\":{\"array\":[0.19,0.17,0.14,0.09],\"type\":\"data\",\"visible\":true},\"marker\":{\"color\":\"grey\"},\"name\":\"Random\",\"offsetgroup\":\"7\",\"opacity\":0.6,\"showlegend\":false,\"x\":[\"CANCER\\u003cbr\\u003e |V|=5, |E|=4\",\"EARTHQUAKE\\u003cbr\\u003e |V|=5, |E|=4\",\"SURVEY\\u003cbr\\u003e |V|=6, |E|=6\",\"ASIA\\u003cbr\\u003e |V|=8, |E|=8\"],\"y\":[0.2,0.16,0.29,0.11],\"yaxis\":\"y2\",\"type\":\"bar\"},{\"error_y\":{\"array\":[0.12,0.0,0.08,0.03],\"type\":\"data\",\"visible\":true},\"marker\":{\"color\":\"#b85c00\"},\"name\":\"FGS\",\"offsetgroup\":\"8\",\"opacity\":0.6,\"showlegend\":false,\"x\":[\"CANCER\\u003cbr\\u003e |V|=5, |E|=4\",\"EARTHQUAKE\\u003cbr\\u003e |V|=5, |E|=4\",\"SURVEY\\u003cbr\\u003e |V|=6, |E|=6\",\"ASIA\\u003cbr\\u003e |V|=8, |E|=8\"],\"y\":[0.42,0.5,0.21,0.24],\"yaxis\":\"y2\",\"type\":\"bar\"},{\"error_y\":{\"array\":[0.1,0.23,0.0,0.11],\"type\":\"data\",\"visible\":true},\"marker\":{\"color\":\"#9454c4\"},\"name\":\"NOTEARS-MLP\",\"offsetgroup\":\"9\",\"opacity\":0.6,\"showlegend\":false,\"x\":[\"CANCER\\u003cbr\\u003e |V|=5, |E|=4\",\"EARTHQUAKE\\u003cbr\\u003e |V|=5, |E|=4\",\"SURVEY\\u003cbr\\u003e |V|=6, |E|=6\",\"ASIA\\u003cbr\\u003e |V|=8, |E|=8\"],\"y\":[0.04,0.55,0.0,0.32],\"yaxis\":\"y2\",\"type\":\"bar\"},{\"error_y\":{\"array\":[0.0,0.0,0.08,0.07],\"type\":\"data\",\"visible\":true},\"marker\":{\"color\":\"#379f9f\"},\"name\":\"MPC\",\"offsetgroup\":\"10\",\"opacity\":0.6,\"showlegend\":false,\"x\":[\"CANCER\\u003cbr\\u003e |V|=5, |E|=4\",\"EARTHQUAKE\\u003cbr\\u003e |V|=5, |E|=4\",\"SURVEY\\u003cbr\\u003e |V|=6, |E|=6\",\"ASIA\\u003cbr\\u003e |V|=8, |E|=8\"],\"y\":[0.5,0.5,0.55,0.3],\"yaxis\":\"y2\",\"type\":\"bar\"},{\"error_y\":{\"array\":[0.22,0.07,0.09],\"type\":\"data\",\"visible\":true},\"marker\":{\"color\":\"#441469\"},\"name\":\"ASPCR\",\"offsetgroup\":\"11\",\"opacity\":0.6,\"showlegend\":false,\"x\":[\"CANCER\\u003cbr\\u003e |V|=5, |E|=4\",\"EARTHQUAKE\\u003cbr\\u003e |V|=5, |E|=4\",\"SURVEY\\u003cbr\\u003e |V|=6, |E|=6\"],\"y\":[0.34,0.01,0.32],\"yaxis\":\"y2\",\"type\":\"bar\"},{\"error_y\":{\"array\":[0.17,0.0,0.11,0.18],\"type\":\"data\",\"visible\":true},\"marker\":{\"color\":\"#0085CA\"},\"name\":\"ABAPC (Ours)\",\"offsetgroup\":\"12\",\"opacity\":0.6,\"showlegend\":false,\"x\":[\"CANCER\\u003cbr\\u003e |V|=5, |E|=4\",\"EARTHQUAKE\\u003cbr\\u003e |V|=5, |E|=4\",\"SURVEY\\u003cbr\\u003e |V|=6, |E|=6\",\"ASIA\\u003cbr\\u003e |V|=8, |E|=8\"],\"y\":[0.42,1.0,0.34,0.51],\"yaxis\":\"y2\",\"type\":\"bar\"}],                        {\"template\":{\"data\":{\"barpolar\":[{\"marker\":{\"line\":{\"color\":\"white\",\"width\":0.5},\"pattern\":{\"fillmode\":\"overlay\",\"size\":10,\"solidity\":0.2}},\"type\":\"barpolar\"}],\"bar\":[{\"error_x\":{\"color\":\"#2a3f5f\"},\"error_y\":{\"color\":\"#2a3f5f\"},\"marker\":{\"line\":{\"color\":\"white\",\"width\":0.5},\"pattern\":{\"fillmode\":\"overlay\",\"size\":10,\"solidity\":0.2}},\"type\":\"bar\"}],\"carpet\":[{\"aaxis\":{\"endlinecolor\":\"#2a3f5f\",\"gridcolor\":\"#C8D4E3\",\"linecolor\":\"#C8D4E3\",\"minorgridcolor\":\"#C8D4E3\",\"startlinecolor\":\"#2a3f5f\"},\"baxis\":{\"endlinecolor\":\"#2a3f5f\",\"gridcolor\":\"#C8D4E3\",\"linecolor\":\"#C8D4E3\",\"minorgridcolor\":\"#C8D4E3\",\"startlinecolor\":\"#2a3f5f\"},\"type\":\"carpet\"}],\"choropleth\":[{\"colorbar\":{\"outlinewidth\":0,\"ticks\":\"\"},\"type\":\"choropleth\"}],\"contourcarpet\":[{\"colorbar\":{\"outlinewidth\":0,\"ticks\":\"\"},\"type\":\"contourcarpet\"}],\"contour\":[{\"colorbar\":{\"outlinewidth\":0,\"ticks\":\"\"},\"colorscale\":[[0.0,\"#0d0887\"],[0.1111111111111111,\"#46039f\"],[0.2222222222222222,\"#7201a8\"],[0.3333333333333333,\"#9c179e\"],[0.4444444444444444,\"#bd3786\"],[0.5555555555555556,\"#d8576b\"],[0.6666666666666666,\"#ed7953\"],[0.7777777777777778,\"#fb9f3a\"],[0.8888888888888888,\"#fdca26\"],[1.0,\"#f0f921\"]],\"type\":\"contour\"}],\"heatmapgl\":[{\"colorbar\":{\"outlinewidth\":0,\"ticks\":\"\"},\"colorscale\":[[0.0,\"#0d0887\"],[0.1111111111111111,\"#46039f\"],[0.2222222222222222,\"#7201a8\"],[0.3333333333333333,\"#9c179e\"],[0.4444444444444444,\"#bd3786\"],[0.5555555555555556,\"#d8576b\"],[0.6666666666666666,\"#ed7953\"],[0.7777777777777778,\"#fb9f3a\"],[0.8888888888888888,\"#fdca26\"],[1.0,\"#f0f921\"]],\"type\":\"heatmapgl\"}],\"heatmap\":[{\"colorbar\":{\"outlinewidth\":0,\"ticks\":\"\"},\"colorscale\":[[0.0,\"#0d0887\"],[0.1111111111111111,\"#46039f\"],[0.2222222222222222,\"#7201a8\"],[0.3333333333333333,\"#9c179e\"],[0.4444444444444444,\"#bd3786\"],[0.5555555555555556,\"#d8576b\"],[0.6666666666666666,\"#ed7953\"],[0.7777777777777778,\"#fb9f3a\"],[0.8888888888888888,\"#fdca26\"],[1.0,\"#f0f921\"]],\"type\":\"heatmap\"}],\"histogram2dcontour\":[{\"colorbar\":{\"outlinewidth\":0,\"ticks\":\"\"},\"colorscale\":[[0.0,\"#0d0887\"],[0.1111111111111111,\"#46039f\"],[0.2222222222222222,\"#7201a8\"],[0.3333333333333333,\"#9c179e\"],[0.4444444444444444,\"#bd3786\"],[0.5555555555555556,\"#d8576b\"],[0.6666666666666666,\"#ed7953\"],[0.7777777777777778,\"#fb9f3a\"],[0.8888888888888888,\"#fdca26\"],[1.0,\"#f0f921\"]],\"type\":\"histogram2dcontour\"}],\"histogram2d\":[{\"colorbar\":{\"outlinewidth\":0,\"ticks\":\"\"},\"colorscale\":[[0.0,\"#0d0887\"],[0.1111111111111111,\"#46039f\"],[0.2222222222222222,\"#7201a8\"],[0.3333333333333333,\"#9c179e\"],[0.4444444444444444,\"#bd3786\"],[0.5555555555555556,\"#d8576b\"],[0.6666666666666666,\"#ed7953\"],[0.7777777777777778,\"#fb9f3a\"],[0.8888888888888888,\"#fdca26\"],[1.0,\"#f0f921\"]],\"type\":\"histogram2d\"}],\"histogram\":[{\"marker\":{\"pattern\":{\"fillmode\":\"overlay\",\"size\":10,\"solidity\":0.2}},\"type\":\"histogram\"}],\"mesh3d\":[{\"colorbar\":{\"outlinewidth\":0,\"ticks\":\"\"},\"type\":\"mesh3d\"}],\"parcoords\":[{\"line\":{\"colorbar\":{\"outlinewidth\":0,\"ticks\":\"\"}},\"type\":\"parcoords\"}],\"pie\":[{\"automargin\":true,\"type\":\"pie\"}],\"scatter3d\":[{\"line\":{\"colorbar\":{\"outlinewidth\":0,\"ticks\":\"\"}},\"marker\":{\"colorbar\":{\"outlinewidth\":0,\"ticks\":\"\"}},\"type\":\"scatter3d\"}],\"scattercarpet\":[{\"marker\":{\"colorbar\":{\"outlinewidth\":0,\"ticks\":\"\"}},\"type\":\"scattercarpet\"}],\"scattergeo\":[{\"marker\":{\"colorbar\":{\"outlinewidth\":0,\"ticks\":\"\"}},\"type\":\"scattergeo\"}],\"scattergl\":[{\"marker\":{\"colorbar\":{\"outlinewidth\":0,\"ticks\":\"\"}},\"type\":\"scattergl\"}],\"scattermapbox\":[{\"marker\":{\"colorbar\":{\"outlinewidth\":0,\"ticks\":\"\"}},\"type\":\"scattermapbox\"}],\"scatterpolargl\":[{\"marker\":{\"colorbar\":{\"outlinewidth\":0,\"ticks\":\"\"}},\"type\":\"scatterpolargl\"}],\"scatterpolar\":[{\"marker\":{\"colorbar\":{\"outlinewidth\":0,\"ticks\":\"\"}},\"type\":\"scatterpolar\"}],\"scatter\":[{\"fillpattern\":{\"fillmode\":\"overlay\",\"size\":10,\"solidity\":0.2},\"type\":\"scatter\"}],\"scatterternary\":[{\"marker\":{\"colorbar\":{\"outlinewidth\":0,\"ticks\":\"\"}},\"type\":\"scatterternary\"}],\"surface\":[{\"colorbar\":{\"outlinewidth\":0,\"ticks\":\"\"},\"colorscale\":[[0.0,\"#0d0887\"],[0.1111111111111111,\"#46039f\"],[0.2222222222222222,\"#7201a8\"],[0.3333333333333333,\"#9c179e\"],[0.4444444444444444,\"#bd3786\"],[0.5555555555555556,\"#d8576b\"],[0.6666666666666666,\"#ed7953\"],[0.7777777777777778,\"#fb9f3a\"],[0.8888888888888888,\"#fdca26\"],[1.0,\"#f0f921\"]],\"type\":\"surface\"}],\"table\":[{\"cells\":{\"fill\":{\"color\":\"#EBF0F8\"},\"line\":{\"color\":\"white\"}},\"header\":{\"fill\":{\"color\":\"#C8D4E3\"},\"line\":{\"color\":\"white\"}},\"type\":\"table\"}]},\"layout\":{\"annotationdefaults\":{\"arrowcolor\":\"#2a3f5f\",\"arrowhead\":0,\"arrowwidth\":1},\"autotypenumbers\":\"strict\",\"coloraxis\":{\"colorbar\":{\"outlinewidth\":0,\"ticks\":\"\"}},\"colorscale\":{\"diverging\":[[0,\"#8e0152\"],[0.1,\"#c51b7d\"],[0.2,\"#de77ae\"],[0.3,\"#f1b6da\"],[0.4,\"#fde0ef\"],[0.5,\"#f7f7f7\"],[0.6,\"#e6f5d0\"],[0.7,\"#b8e186\"],[0.8,\"#7fbc41\"],[0.9,\"#4d9221\"],[1,\"#276419\"]],\"sequential\":[[0.0,\"#0d0887\"],[0.1111111111111111,\"#46039f\"],[0.2222222222222222,\"#7201a8\"],[0.3333333333333333,\"#9c179e\"],[0.4444444444444444,\"#bd3786\"],[0.5555555555555556,\"#d8576b\"],[0.6666666666666666,\"#ed7953\"],[0.7777777777777778,\"#fb9f3a\"],[0.8888888888888888,\"#fdca26\"],[1.0,\"#f0f921\"]],\"sequentialminus\":[[0.0,\"#0d0887\"],[0.1111111111111111,\"#46039f\"],[0.2222222222222222,\"#7201a8\"],[0.3333333333333333,\"#9c179e\"],[0.4444444444444444,\"#bd3786\"],[0.5555555555555556,\"#d8576b\"],[0.6666666666666666,\"#ed7953\"],[0.7777777777777778,\"#fb9f3a\"],[0.8888888888888888,\"#fdca26\"],[1.0,\"#f0f921\"]]},\"colorway\":[\"#636efa\",\"#EF553B\",\"#00cc96\",\"#ab63fa\",\"#FFA15A\",\"#19d3f3\",\"#FF6692\",\"#B6E880\",\"#FF97FF\",\"#FECB52\"],\"font\":{\"color\":\"#2a3f5f\"},\"geo\":{\"bgcolor\":\"white\",\"lakecolor\":\"white\",\"landcolor\":\"white\",\"showlakes\":true,\"showland\":true,\"subunitcolor\":\"#C8D4E3\"},\"hoverlabel\":{\"align\":\"left\"},\"hovermode\":\"closest\",\"mapbox\":{\"style\":\"light\"},\"paper_bgcolor\":\"white\",\"plot_bgcolor\":\"white\",\"polar\":{\"angularaxis\":{\"gridcolor\":\"#EBF0F8\",\"linecolor\":\"#EBF0F8\",\"ticks\":\"\"},\"bgcolor\":\"white\",\"radialaxis\":{\"gridcolor\":\"#EBF0F8\",\"linecolor\":\"#EBF0F8\",\"ticks\":\"\"}},\"scene\":{\"xaxis\":{\"backgroundcolor\":\"white\",\"gridcolor\":\"#DFE8F3\",\"gridwidth\":2,\"linecolor\":\"#EBF0F8\",\"showbackground\":true,\"ticks\":\"\",\"zerolinecolor\":\"#EBF0F8\"},\"yaxis\":{\"backgroundcolor\":\"white\",\"gridcolor\":\"#DFE8F3\",\"gridwidth\":2,\"linecolor\":\"#EBF0F8\",\"showbackground\":true,\"ticks\":\"\",\"zerolinecolor\":\"#EBF0F8\"},\"zaxis\":{\"backgroundcolor\":\"white\",\"gridcolor\":\"#DFE8F3\",\"gridwidth\":2,\"linecolor\":\"#EBF0F8\",\"showbackground\":true,\"ticks\":\"\",\"zerolinecolor\":\"#EBF0F8\"}},\"shapedefaults\":{\"line\":{\"color\":\"#2a3f5f\"}},\"ternary\":{\"aaxis\":{\"gridcolor\":\"#DFE8F3\",\"linecolor\":\"#A2B1C6\",\"ticks\":\"\"},\"baxis\":{\"gridcolor\":\"#DFE8F3\",\"linecolor\":\"#A2B1C6\",\"ticks\":\"\"},\"bgcolor\":\"white\",\"caxis\":{\"gridcolor\":\"#DFE8F3\",\"linecolor\":\"#A2B1C6\",\"ticks\":\"\"}},\"title\":{\"x\":0.05},\"xaxis\":{\"automargin\":true,\"gridcolor\":\"#EBF0F8\",\"linecolor\":\"#EBF0F8\",\"ticks\":\"\",\"title\":{\"standoff\":15},\"zerolinecolor\":\"#EBF0F8\",\"zerolinewidth\":2},\"yaxis\":{\"automargin\":true,\"gridcolor\":\"#EBF0F8\",\"linecolor\":\"#EBF0F8\",\"ticks\":\"\",\"title\":{\"standoff\":15},\"zerolinecolor\":\"#EBF0F8\",\"zerolinewidth\":2}}},\"xaxis\":{\"anchor\":\"y\",\"domain\":[0.0,0.94]},\"yaxis\":{\"anchor\":\"x\",\"domain\":[0.0,1.0],\"title\":{\"font\":{\"size\":20},\"text\":\"Precision\"},\"range\":[0,1.3]},\"yaxis2\":{\"anchor\":\"x\",\"overlaying\":\"y\",\"side\":\"right\",\"scaleanchor\":0,\"showline\":false,\"showgrid\":false,\"showticklabels\":true,\"zeroline\":true,\"title\":{\"font\":{\"size\":20},\"text\":\"Recall\"},\"range\":[0,1.3]},\"legend\":{\"orientation\":\"h\",\"xanchor\":\"center\",\"x\":0.5,\"yanchor\":\"top\",\"y\":1.1},\"margin\":{\"l\":40,\"r\":0,\"b\":70,\"t\":20},\"font\":{\"size\":20,\"family\":\"Serif\",\"color\":\"black\"},\"barmode\":\"group\",\"bargap\":0.15,\"bargroupgap\":0.1,\"width\":1600,\"height\":700,\"hovermode\":\"x unified\",\"annotations\":[{\"font\":{\"color\":\"Black\",\"family\":\"Serif\",\"size\":20},\"showarrow\":false,\"text\":\"Dataset:\",\"x\":0,\"xanchor\":\"center\",\"xref\":\"paper\",\"y\":-0.08,\"yanchor\":\"bottom\",\"yref\":\"paper\"},{\"bgcolor\":\"#E5ECF6\",\"bordercolor\":\"#E5ECF6\",\"borderwidth\":2,\"font\":{\"color\":\"black\",\"size\":20},\"opacity\":0.8,\"showarrow\":false,\"text\":\"      Precision      \",\"x\":0.017,\"xanchor\":\"left\",\"xref\":\"x domain\",\"y\":1.015,\"yref\":\"y domain\"},{\"bgcolor\":\"#E5ECF6\",\"bordercolor\":\"#E5ECF6\",\"borderwidth\":2,\"font\":{\"color\":\"black\",\"size\":20},\"opacity\":0.8,\"showarrow\":false,\"text\":\"        Recall        \",\"x\":0.132,\"xanchor\":\"left\",\"xref\":\"x domain\",\"y\":1.015,\"yref\":\"y domain\"},{\"bgcolor\":\"#E5ECF6\",\"bordercolor\":\"#E5ECF6\",\"borderwidth\":2,\"font\":{\"color\":\"black\",\"size\":20},\"opacity\":0.8,\"showarrow\":false,\"text\":\"      Precision      \",\"x\":0.267,\"xanchor\":\"left\",\"xref\":\"x domain\",\"y\":1.015,\"yref\":\"y domain\"},{\"bgcolor\":\"#E5ECF6\",\"bordercolor\":\"#E5ECF6\",\"borderwidth\":2,\"font\":{\"color\":\"black\",\"size\":20},\"opacity\":0.8,\"showarrow\":false,\"text\":\"        Recall        \",\"x\":0.382,\"xanchor\":\"left\",\"xref\":\"x domain\",\"y\":1.015,\"yref\":\"y domain\"},{\"bgcolor\":\"#E5ECF6\",\"bordercolor\":\"#E5ECF6\",\"borderwidth\":2,\"font\":{\"color\":\"black\",\"size\":20},\"opacity\":0.8,\"showarrow\":false,\"text\":\"      Precision      \",\"x\":0.517,\"xanchor\":\"left\",\"xref\":\"x domain\",\"y\":1.015,\"yref\":\"y domain\"},{\"bgcolor\":\"#E5ECF6\",\"bordercolor\":\"#E5ECF6\",\"borderwidth\":2,\"font\":{\"color\":\"black\",\"size\":20},\"opacity\":0.8,\"showarrow\":false,\"text\":\"        Recall        \",\"x\":0.632,\"xanchor\":\"left\",\"xref\":\"x domain\",\"y\":1.015,\"yref\":\"y domain\"},{\"bgcolor\":\"#E5ECF6\",\"bordercolor\":\"#E5ECF6\",\"borderwidth\":2,\"font\":{\"color\":\"black\",\"size\":20},\"opacity\":0.8,\"showarrow\":false,\"text\":\"      Precision      \",\"x\":0.767,\"xanchor\":\"left\",\"xref\":\"x domain\",\"y\":1.015,\"yref\":\"y domain\"},{\"bgcolor\":\"#E5ECF6\",\"bordercolor\":\"#E5ECF6\",\"borderwidth\":2,\"font\":{\"color\":\"black\",\"size\":20},\"opacity\":0.8,\"showarrow\":false,\"text\":\"        Recall        \",\"x\":0.882,\"xanchor\":\"left\",\"xref\":\"x domain\",\"y\":1.015,\"yref\":\"y domain\"}]},                        {\"responsive\": true}                    ).then(function(){\n",
       "                            \n",
       "var gd = document.getElementById('9f6bf17f-b7d3-45e1-a4a1-1f94f3130f59');\n",
       "var x = new MutationObserver(function (mutations, observer) {{\n",
       "        var display = window.getComputedStyle(gd).display;\n",
       "        if (!display || display === 'none') {{\n",
       "            console.log([gd, 'removed!']);\n",
       "            Plotly.purge(gd);\n",
       "            observer.disconnect();\n",
       "        }}\n",
       "}});\n",
       "\n",
       "// Listen for the removal of the full notebook cells\n",
       "var notebookContainer = gd.closest('#notebook-container');\n",
       "if (notebookContainer) {{\n",
       "    x.observe(notebookContainer, {childList: true});\n",
       "}}\n",
       "\n",
       "// Listen for the clearing of the current output cell\n",
       "var outputEl = gd.closest('.output');\n",
       "if (outputEl) {{\n",
       "    x.observe(outputEl, {childList: true});\n",
       "}}\n",
       "\n",
       "                        })                };                });            </script>        </div>"
      ]
     },
     "metadata": {},
     "output_type": "display_data"
    },
    {
     "data": {
      "application/vnd.plotly.v1+json": {
       "config": {
        "plotlyServerURL": "https://plot.ly"
       },
       "data": [
        {
         "error_y": {
          "array": [
           0,
           0,
           0,
           0
          ],
          "type": "data",
          "visible": true
         },
         "marker": {
          "color": "grey"
         },
         "name": "True Graph Size",
         "opacity": 0.6,
         "type": "bar",
         "x": [
          "CANCER<br> |V|=5, |E|=4",
          "EARTHQUAKE<br> |V|=5, |E|=4",
          "SURVEY<br> |V|=6, |E|=6",
          "ASIA<br> |V|=8, |E|=8"
         ],
         "y": [
          4,
          4,
          6,
          8
         ]
        },
        {
         "error_y": {
          "array": [
           0.47,
           0.64,
           0.84,
           0.77
          ],
          "type": "data",
          "visible": true
         },
         "marker": {
          "color": "#b85c00"
         },
         "name": "FGS",
         "opacity": 0.6,
         "type": "bar",
         "x": [
          "CANCER<br> |V|=5, |E|=4",
          "EARTHQUAKE<br> |V|=5, |E|=4",
          "SURVEY<br> |V|=6, |E|=6",
          "ASIA<br> |V|=8, |E|=8"
         ],
         "y": [
          3.68,
          4.62,
          3.3,
          7.68
         ]
        },
        {
         "error_y": {
          "array": [
           0.39,
           0.24,
           0,
           0.36
          ],
          "type": "data",
          "visible": true
         },
         "marker": {
          "color": "#9454c4"
         },
         "name": "NOTEARS-MLP",
         "opacity": 0.6,
         "type": "bar",
         "x": [
          "CANCER<br> |V|=5, |E|=4",
          "EARTHQUAKE<br> |V|=5, |E|=4",
          "SURVEY<br> |V|=6, |E|=6",
          "ASIA<br> |V|=8, |E|=8"
         ],
         "y": [
          0.18,
          3.94,
          0,
          6.1
         ]
        },
        {
         "error_y": {
          "array": [
           0.52,
           0.56,
           0.82,
           0.7
          ],
          "type": "data",
          "visible": true
         },
         "marker": {
          "color": "#379f9f"
         },
         "name": "MPC",
         "opacity": 0.6,
         "type": "bar",
         "x": [
          "CANCER<br> |V|=5, |E|=4",
          "EARTHQUAKE<br> |V|=5, |E|=4",
          "SURVEY<br> |V|=6, |E|=6",
          "ASIA<br> |V|=8, |E|=8"
         ],
         "y": [
          3.76,
          4.64,
          4.02,
          6.58
         ]
        },
        {
         "error_y": {
          "array": [
           0.61,
           0.77,
           0.63
          ],
          "type": "data",
          "visible": true
         },
         "marker": {
          "color": "#441469"
         },
         "name": "ASPCR",
         "opacity": 0.6,
         "type": "bar",
         "x": [
          "CANCER<br> |V|=5, |E|=4",
          "EARTHQUAKE<br> |V|=5, |E|=4",
          "SURVEY<br> |V|=6, |E|=6"
         ],
         "y": [
          3,
          3.82,
          2.12
         ]
        },
        {
         "error_y": {
          "array": [
           0.67,
           0.58,
           0.8,
           0.84
          ],
          "type": "data",
          "visible": true
         },
         "marker": {
          "color": "#0085CA"
         },
         "name": "ABAPC (Ours)",
         "opacity": 0.6,
         "type": "bar",
         "x": [
          "CANCER<br> |V|=5, |E|=4",
          "EARTHQUAKE<br> |V|=5, |E|=4",
          "SURVEY<br> |V|=6, |E|=6",
          "ASIA<br> |V|=8, |E|=8"
         ],
         "y": [
          3.92,
          4.56,
          3.92,
          8.44
         ]
        }
       ],
       "layout": {
        "annotations": [
         {
          "font": {
           "color": "Black",
           "family": "Serif",
           "size": 20
          },
          "showarrow": false,
          "text": "Dataset:",
          "x": 0,
          "xanchor": "center",
          "xref": "paper",
          "y": -0.05,
          "yanchor": "bottom",
          "yref": "paper"
         }
        ],
        "bargap": 0.15,
        "bargroupgap": 0.1,
        "barmode": "group",
        "font": {
         "color": "black",
         "family": "Serif",
         "size": 20
        },
        "height": 700,
        "hovermode": "x unified",
        "legend": {
         "orientation": "h",
         "x": 0.5,
         "xanchor": "center",
         "y": 1,
         "yanchor": "top"
        },
        "margin": {
         "b": 80,
         "l": 40,
         "r": 40,
         "t": 20
        },
        "template": {
         "data": {
          "bar": [
           {
            "error_x": {
             "color": "#2a3f5f"
            },
            "error_y": {
             "color": "#2a3f5f"
            },
            "marker": {
             "line": {
              "color": "white",
              "width": 0.5
             },
             "pattern": {
              "fillmode": "overlay",
              "size": 10,
              "solidity": 0.2
             }
            },
            "type": "bar"
           }
          ],
          "barpolar": [
           {
            "marker": {
             "line": {
              "color": "white",
              "width": 0.5
             },
             "pattern": {
              "fillmode": "overlay",
              "size": 10,
              "solidity": 0.2
             }
            },
            "type": "barpolar"
           }
          ],
          "carpet": [
           {
            "aaxis": {
             "endlinecolor": "#2a3f5f",
             "gridcolor": "#C8D4E3",
             "linecolor": "#C8D4E3",
             "minorgridcolor": "#C8D4E3",
             "startlinecolor": "#2a3f5f"
            },
            "baxis": {
             "endlinecolor": "#2a3f5f",
             "gridcolor": "#C8D4E3",
             "linecolor": "#C8D4E3",
             "minorgridcolor": "#C8D4E3",
             "startlinecolor": "#2a3f5f"
            },
            "type": "carpet"
           }
          ],
          "choropleth": [
           {
            "colorbar": {
             "outlinewidth": 0,
             "ticks": ""
            },
            "type": "choropleth"
           }
          ],
          "contour": [
           {
            "colorbar": {
             "outlinewidth": 0,
             "ticks": ""
            },
            "colorscale": [
             [
              0,
              "#0d0887"
             ],
             [
              0.1111111111111111,
              "#46039f"
             ],
             [
              0.2222222222222222,
              "#7201a8"
             ],
             [
              0.3333333333333333,
              "#9c179e"
             ],
             [
              0.4444444444444444,
              "#bd3786"
             ],
             [
              0.5555555555555556,
              "#d8576b"
             ],
             [
              0.6666666666666666,
              "#ed7953"
             ],
             [
              0.7777777777777778,
              "#fb9f3a"
             ],
             [
              0.8888888888888888,
              "#fdca26"
             ],
             [
              1,
              "#f0f921"
             ]
            ],
            "type": "contour"
           }
          ],
          "contourcarpet": [
           {
            "colorbar": {
             "outlinewidth": 0,
             "ticks": ""
            },
            "type": "contourcarpet"
           }
          ],
          "heatmap": [
           {
            "colorbar": {
             "outlinewidth": 0,
             "ticks": ""
            },
            "colorscale": [
             [
              0,
              "#0d0887"
             ],
             [
              0.1111111111111111,
              "#46039f"
             ],
             [
              0.2222222222222222,
              "#7201a8"
             ],
             [
              0.3333333333333333,
              "#9c179e"
             ],
             [
              0.4444444444444444,
              "#bd3786"
             ],
             [
              0.5555555555555556,
              "#d8576b"
             ],
             [
              0.6666666666666666,
              "#ed7953"
             ],
             [
              0.7777777777777778,
              "#fb9f3a"
             ],
             [
              0.8888888888888888,
              "#fdca26"
             ],
             [
              1,
              "#f0f921"
             ]
            ],
            "type": "heatmap"
           }
          ],
          "heatmapgl": [
           {
            "colorbar": {
             "outlinewidth": 0,
             "ticks": ""
            },
            "colorscale": [
             [
              0,
              "#0d0887"
             ],
             [
              0.1111111111111111,
              "#46039f"
             ],
             [
              0.2222222222222222,
              "#7201a8"
             ],
             [
              0.3333333333333333,
              "#9c179e"
             ],
             [
              0.4444444444444444,
              "#bd3786"
             ],
             [
              0.5555555555555556,
              "#d8576b"
             ],
             [
              0.6666666666666666,
              "#ed7953"
             ],
             [
              0.7777777777777778,
              "#fb9f3a"
             ],
             [
              0.8888888888888888,
              "#fdca26"
             ],
             [
              1,
              "#f0f921"
             ]
            ],
            "type": "heatmapgl"
           }
          ],
          "histogram": [
           {
            "marker": {
             "pattern": {
              "fillmode": "overlay",
              "size": 10,
              "solidity": 0.2
             }
            },
            "type": "histogram"
           }
          ],
          "histogram2d": [
           {
            "colorbar": {
             "outlinewidth": 0,
             "ticks": ""
            },
            "colorscale": [
             [
              0,
              "#0d0887"
             ],
             [
              0.1111111111111111,
              "#46039f"
             ],
             [
              0.2222222222222222,
              "#7201a8"
             ],
             [
              0.3333333333333333,
              "#9c179e"
             ],
             [
              0.4444444444444444,
              "#bd3786"
             ],
             [
              0.5555555555555556,
              "#d8576b"
             ],
             [
              0.6666666666666666,
              "#ed7953"
             ],
             [
              0.7777777777777778,
              "#fb9f3a"
             ],
             [
              0.8888888888888888,
              "#fdca26"
             ],
             [
              1,
              "#f0f921"
             ]
            ],
            "type": "histogram2d"
           }
          ],
          "histogram2dcontour": [
           {
            "colorbar": {
             "outlinewidth": 0,
             "ticks": ""
            },
            "colorscale": [
             [
              0,
              "#0d0887"
             ],
             [
              0.1111111111111111,
              "#46039f"
             ],
             [
              0.2222222222222222,
              "#7201a8"
             ],
             [
              0.3333333333333333,
              "#9c179e"
             ],
             [
              0.4444444444444444,
              "#bd3786"
             ],
             [
              0.5555555555555556,
              "#d8576b"
             ],
             [
              0.6666666666666666,
              "#ed7953"
             ],
             [
              0.7777777777777778,
              "#fb9f3a"
             ],
             [
              0.8888888888888888,
              "#fdca26"
             ],
             [
              1,
              "#f0f921"
             ]
            ],
            "type": "histogram2dcontour"
           }
          ],
          "mesh3d": [
           {
            "colorbar": {
             "outlinewidth": 0,
             "ticks": ""
            },
            "type": "mesh3d"
           }
          ],
          "parcoords": [
           {
            "line": {
             "colorbar": {
              "outlinewidth": 0,
              "ticks": ""
             }
            },
            "type": "parcoords"
           }
          ],
          "pie": [
           {
            "automargin": true,
            "type": "pie"
           }
          ],
          "scatter": [
           {
            "fillpattern": {
             "fillmode": "overlay",
             "size": 10,
             "solidity": 0.2
            },
            "type": "scatter"
           }
          ],
          "scatter3d": [
           {
            "line": {
             "colorbar": {
              "outlinewidth": 0,
              "ticks": ""
             }
            },
            "marker": {
             "colorbar": {
              "outlinewidth": 0,
              "ticks": ""
             }
            },
            "type": "scatter3d"
           }
          ],
          "scattercarpet": [
           {
            "marker": {
             "colorbar": {
              "outlinewidth": 0,
              "ticks": ""
             }
            },
            "type": "scattercarpet"
           }
          ],
          "scattergeo": [
           {
            "marker": {
             "colorbar": {
              "outlinewidth": 0,
              "ticks": ""
             }
            },
            "type": "scattergeo"
           }
          ],
          "scattergl": [
           {
            "marker": {
             "colorbar": {
              "outlinewidth": 0,
              "ticks": ""
             }
            },
            "type": "scattergl"
           }
          ],
          "scattermapbox": [
           {
            "marker": {
             "colorbar": {
              "outlinewidth": 0,
              "ticks": ""
             }
            },
            "type": "scattermapbox"
           }
          ],
          "scatterpolar": [
           {
            "marker": {
             "colorbar": {
              "outlinewidth": 0,
              "ticks": ""
             }
            },
            "type": "scatterpolar"
           }
          ],
          "scatterpolargl": [
           {
            "marker": {
             "colorbar": {
              "outlinewidth": 0,
              "ticks": ""
             }
            },
            "type": "scatterpolargl"
           }
          ],
          "scatterternary": [
           {
            "marker": {
             "colorbar": {
              "outlinewidth": 0,
              "ticks": ""
             }
            },
            "type": "scatterternary"
           }
          ],
          "surface": [
           {
            "colorbar": {
             "outlinewidth": 0,
             "ticks": ""
            },
            "colorscale": [
             [
              0,
              "#0d0887"
             ],
             [
              0.1111111111111111,
              "#46039f"
             ],
             [
              0.2222222222222222,
              "#7201a8"
             ],
             [
              0.3333333333333333,
              "#9c179e"
             ],
             [
              0.4444444444444444,
              "#bd3786"
             ],
             [
              0.5555555555555556,
              "#d8576b"
             ],
             [
              0.6666666666666666,
              "#ed7953"
             ],
             [
              0.7777777777777778,
              "#fb9f3a"
             ],
             [
              0.8888888888888888,
              "#fdca26"
             ],
             [
              1,
              "#f0f921"
             ]
            ],
            "type": "surface"
           }
          ],
          "table": [
           {
            "cells": {
             "fill": {
              "color": "#EBF0F8"
             },
             "line": {
              "color": "white"
             }
            },
            "header": {
             "fill": {
              "color": "#C8D4E3"
             },
             "line": {
              "color": "white"
             }
            },
            "type": "table"
           }
          ]
         },
         "layout": {
          "annotationdefaults": {
           "arrowcolor": "#2a3f5f",
           "arrowhead": 0,
           "arrowwidth": 1
          },
          "autotypenumbers": "strict",
          "coloraxis": {
           "colorbar": {
            "outlinewidth": 0,
            "ticks": ""
           }
          },
          "colorscale": {
           "diverging": [
            [
             0,
             "#8e0152"
            ],
            [
             0.1,
             "#c51b7d"
            ],
            [
             0.2,
             "#de77ae"
            ],
            [
             0.3,
             "#f1b6da"
            ],
            [
             0.4,
             "#fde0ef"
            ],
            [
             0.5,
             "#f7f7f7"
            ],
            [
             0.6,
             "#e6f5d0"
            ],
            [
             0.7,
             "#b8e186"
            ],
            [
             0.8,
             "#7fbc41"
            ],
            [
             0.9,
             "#4d9221"
            ],
            [
             1,
             "#276419"
            ]
           ],
           "sequential": [
            [
             0,
             "#0d0887"
            ],
            [
             0.1111111111111111,
             "#46039f"
            ],
            [
             0.2222222222222222,
             "#7201a8"
            ],
            [
             0.3333333333333333,
             "#9c179e"
            ],
            [
             0.4444444444444444,
             "#bd3786"
            ],
            [
             0.5555555555555556,
             "#d8576b"
            ],
            [
             0.6666666666666666,
             "#ed7953"
            ],
            [
             0.7777777777777778,
             "#fb9f3a"
            ],
            [
             0.8888888888888888,
             "#fdca26"
            ],
            [
             1,
             "#f0f921"
            ]
           ],
           "sequentialminus": [
            [
             0,
             "#0d0887"
            ],
            [
             0.1111111111111111,
             "#46039f"
            ],
            [
             0.2222222222222222,
             "#7201a8"
            ],
            [
             0.3333333333333333,
             "#9c179e"
            ],
            [
             0.4444444444444444,
             "#bd3786"
            ],
            [
             0.5555555555555556,
             "#d8576b"
            ],
            [
             0.6666666666666666,
             "#ed7953"
            ],
            [
             0.7777777777777778,
             "#fb9f3a"
            ],
            [
             0.8888888888888888,
             "#fdca26"
            ],
            [
             1,
             "#f0f921"
            ]
           ]
          },
          "colorway": [
           "#636efa",
           "#EF553B",
           "#00cc96",
           "#ab63fa",
           "#FFA15A",
           "#19d3f3",
           "#FF6692",
           "#B6E880",
           "#FF97FF",
           "#FECB52"
          ],
          "font": {
           "color": "#2a3f5f"
          },
          "geo": {
           "bgcolor": "white",
           "lakecolor": "white",
           "landcolor": "white",
           "showlakes": true,
           "showland": true,
           "subunitcolor": "#C8D4E3"
          },
          "hoverlabel": {
           "align": "left"
          },
          "hovermode": "closest",
          "mapbox": {
           "style": "light"
          },
          "paper_bgcolor": "white",
          "plot_bgcolor": "white",
          "polar": {
           "angularaxis": {
            "gridcolor": "#EBF0F8",
            "linecolor": "#EBF0F8",
            "ticks": ""
           },
           "bgcolor": "white",
           "radialaxis": {
            "gridcolor": "#EBF0F8",
            "linecolor": "#EBF0F8",
            "ticks": ""
           }
          },
          "scene": {
           "xaxis": {
            "backgroundcolor": "white",
            "gridcolor": "#DFE8F3",
            "gridwidth": 2,
            "linecolor": "#EBF0F8",
            "showbackground": true,
            "ticks": "",
            "zerolinecolor": "#EBF0F8"
           },
           "yaxis": {
            "backgroundcolor": "white",
            "gridcolor": "#DFE8F3",
            "gridwidth": 2,
            "linecolor": "#EBF0F8",
            "showbackground": true,
            "ticks": "",
            "zerolinecolor": "#EBF0F8"
           },
           "zaxis": {
            "backgroundcolor": "white",
            "gridcolor": "#DFE8F3",
            "gridwidth": 2,
            "linecolor": "#EBF0F8",
            "showbackground": true,
            "ticks": "",
            "zerolinecolor": "#EBF0F8"
           }
          },
          "shapedefaults": {
           "line": {
            "color": "#2a3f5f"
           }
          },
          "ternary": {
           "aaxis": {
            "gridcolor": "#DFE8F3",
            "linecolor": "#A2B1C6",
            "ticks": ""
           },
           "baxis": {
            "gridcolor": "#DFE8F3",
            "linecolor": "#A2B1C6",
            "ticks": ""
           },
           "bgcolor": "white",
           "caxis": {
            "gridcolor": "#DFE8F3",
            "linecolor": "#A2B1C6",
            "ticks": ""
           }
          },
          "title": {
           "x": 0.05
          },
          "xaxis": {
           "automargin": true,
           "gridcolor": "#EBF0F8",
           "linecolor": "#EBF0F8",
           "ticks": "",
           "title": {
            "standoff": 15
           },
           "zerolinecolor": "#EBF0F8",
           "zerolinewidth": 2
          },
          "yaxis": {
           "automargin": true,
           "gridcolor": "#EBF0F8",
           "linecolor": "#EBF0F8",
           "ticks": "",
           "title": {
            "standoff": 15
           },
           "zerolinecolor": "#EBF0F8",
           "zerolinewidth": 2
          }
         }
        },
        "width": 1600,
        "yaxis": {
         "title": {
          "font": {
           "size": 20
          },
          "text": "Number of Edges in DAG"
         }
        }
       }
      },
      "text/html": [
       "<div>                            <div id=\"3521d1d5-325a-4733-a547-0d59a5a53814\" class=\"plotly-graph-div\" style=\"height:700px; width:1600px;\"></div>            <script type=\"text/javascript\">                require([\"plotly\"], function(Plotly) {                    window.PLOTLYENV=window.PLOTLYENV || {};                                    if (document.getElementById(\"3521d1d5-325a-4733-a547-0d59a5a53814\")) {                    Plotly.newPlot(                        \"3521d1d5-325a-4733-a547-0d59a5a53814\",                        [{\"error_y\":{\"array\":[0.0,0.0,0.0,0.0],\"type\":\"data\",\"visible\":true},\"marker\":{\"color\":\"grey\"},\"name\":\"True Graph Size\",\"opacity\":0.6,\"x\":[\"CANCER\\u003cbr\\u003e |V|=5, |E|=4\",\"EARTHQUAKE\\u003cbr\\u003e |V|=5, |E|=4\",\"SURVEY\\u003cbr\\u003e |V|=6, |E|=6\",\"ASIA\\u003cbr\\u003e |V|=8, |E|=8\"],\"y\":[4.0,4.0,6.0,8.0],\"type\":\"bar\"},{\"error_y\":{\"array\":[0.47,0.64,0.84,0.77],\"type\":\"data\",\"visible\":true},\"marker\":{\"color\":\"#b85c00\"},\"name\":\"FGS\",\"opacity\":0.6,\"x\":[\"CANCER\\u003cbr\\u003e |V|=5, |E|=4\",\"EARTHQUAKE\\u003cbr\\u003e |V|=5, |E|=4\",\"SURVEY\\u003cbr\\u003e |V|=6, |E|=6\",\"ASIA\\u003cbr\\u003e |V|=8, |E|=8\"],\"y\":[3.68,4.62,3.3,7.68],\"type\":\"bar\"},{\"error_y\":{\"array\":[0.39,0.24,0.0,0.36],\"type\":\"data\",\"visible\":true},\"marker\":{\"color\":\"#9454c4\"},\"name\":\"NOTEARS-MLP\",\"opacity\":0.6,\"x\":[\"CANCER\\u003cbr\\u003e |V|=5, |E|=4\",\"EARTHQUAKE\\u003cbr\\u003e |V|=5, |E|=4\",\"SURVEY\\u003cbr\\u003e |V|=6, |E|=6\",\"ASIA\\u003cbr\\u003e |V|=8, |E|=8\"],\"y\":[0.18,3.94,0.0,6.1],\"type\":\"bar\"},{\"error_y\":{\"array\":[0.52,0.56,0.82,0.7],\"type\":\"data\",\"visible\":true},\"marker\":{\"color\":\"#379f9f\"},\"name\":\"MPC\",\"opacity\":0.6,\"x\":[\"CANCER\\u003cbr\\u003e |V|=5, |E|=4\",\"EARTHQUAKE\\u003cbr\\u003e |V|=5, |E|=4\",\"SURVEY\\u003cbr\\u003e |V|=6, |E|=6\",\"ASIA\\u003cbr\\u003e |V|=8, |E|=8\"],\"y\":[3.76,4.64,4.02,6.58],\"type\":\"bar\"},{\"error_y\":{\"array\":[0.61,0.77,0.63],\"type\":\"data\",\"visible\":true},\"marker\":{\"color\":\"#441469\"},\"name\":\"ASPCR\",\"opacity\":0.6,\"x\":[\"CANCER\\u003cbr\\u003e |V|=5, |E|=4\",\"EARTHQUAKE\\u003cbr\\u003e |V|=5, |E|=4\",\"SURVEY\\u003cbr\\u003e |V|=6, |E|=6\"],\"y\":[3.0,3.82,2.12],\"type\":\"bar\"},{\"error_y\":{\"array\":[0.67,0.58,0.8,0.84],\"type\":\"data\",\"visible\":true},\"marker\":{\"color\":\"#0085CA\"},\"name\":\"ABAPC (Ours)\",\"opacity\":0.6,\"x\":[\"CANCER\\u003cbr\\u003e |V|=5, |E|=4\",\"EARTHQUAKE\\u003cbr\\u003e |V|=5, |E|=4\",\"SURVEY\\u003cbr\\u003e |V|=6, |E|=6\",\"ASIA\\u003cbr\\u003e |V|=8, |E|=8\"],\"y\":[3.92,4.56,3.92,8.44],\"type\":\"bar\"}],                        {\"template\":{\"data\":{\"barpolar\":[{\"marker\":{\"line\":{\"color\":\"white\",\"width\":0.5},\"pattern\":{\"fillmode\":\"overlay\",\"size\":10,\"solidity\":0.2}},\"type\":\"barpolar\"}],\"bar\":[{\"error_x\":{\"color\":\"#2a3f5f\"},\"error_y\":{\"color\":\"#2a3f5f\"},\"marker\":{\"line\":{\"color\":\"white\",\"width\":0.5},\"pattern\":{\"fillmode\":\"overlay\",\"size\":10,\"solidity\":0.2}},\"type\":\"bar\"}],\"carpet\":[{\"aaxis\":{\"endlinecolor\":\"#2a3f5f\",\"gridcolor\":\"#C8D4E3\",\"linecolor\":\"#C8D4E3\",\"minorgridcolor\":\"#C8D4E3\",\"startlinecolor\":\"#2a3f5f\"},\"baxis\":{\"endlinecolor\":\"#2a3f5f\",\"gridcolor\":\"#C8D4E3\",\"linecolor\":\"#C8D4E3\",\"minorgridcolor\":\"#C8D4E3\",\"startlinecolor\":\"#2a3f5f\"},\"type\":\"carpet\"}],\"choropleth\":[{\"colorbar\":{\"outlinewidth\":0,\"ticks\":\"\"},\"type\":\"choropleth\"}],\"contourcarpet\":[{\"colorbar\":{\"outlinewidth\":0,\"ticks\":\"\"},\"type\":\"contourcarpet\"}],\"contour\":[{\"colorbar\":{\"outlinewidth\":0,\"ticks\":\"\"},\"colorscale\":[[0.0,\"#0d0887\"],[0.1111111111111111,\"#46039f\"],[0.2222222222222222,\"#7201a8\"],[0.3333333333333333,\"#9c179e\"],[0.4444444444444444,\"#bd3786\"],[0.5555555555555556,\"#d8576b\"],[0.6666666666666666,\"#ed7953\"],[0.7777777777777778,\"#fb9f3a\"],[0.8888888888888888,\"#fdca26\"],[1.0,\"#f0f921\"]],\"type\":\"contour\"}],\"heatmapgl\":[{\"colorbar\":{\"outlinewidth\":0,\"ticks\":\"\"},\"colorscale\":[[0.0,\"#0d0887\"],[0.1111111111111111,\"#46039f\"],[0.2222222222222222,\"#7201a8\"],[0.3333333333333333,\"#9c179e\"],[0.4444444444444444,\"#bd3786\"],[0.5555555555555556,\"#d8576b\"],[0.6666666666666666,\"#ed7953\"],[0.7777777777777778,\"#fb9f3a\"],[0.8888888888888888,\"#fdca26\"],[1.0,\"#f0f921\"]],\"type\":\"heatmapgl\"}],\"heatmap\":[{\"colorbar\":{\"outlinewidth\":0,\"ticks\":\"\"},\"colorscale\":[[0.0,\"#0d0887\"],[0.1111111111111111,\"#46039f\"],[0.2222222222222222,\"#7201a8\"],[0.3333333333333333,\"#9c179e\"],[0.4444444444444444,\"#bd3786\"],[0.5555555555555556,\"#d8576b\"],[0.6666666666666666,\"#ed7953\"],[0.7777777777777778,\"#fb9f3a\"],[0.8888888888888888,\"#fdca26\"],[1.0,\"#f0f921\"]],\"type\":\"heatmap\"}],\"histogram2dcontour\":[{\"colorbar\":{\"outlinewidth\":0,\"ticks\":\"\"},\"colorscale\":[[0.0,\"#0d0887\"],[0.1111111111111111,\"#46039f\"],[0.2222222222222222,\"#7201a8\"],[0.3333333333333333,\"#9c179e\"],[0.4444444444444444,\"#bd3786\"],[0.5555555555555556,\"#d8576b\"],[0.6666666666666666,\"#ed7953\"],[0.7777777777777778,\"#fb9f3a\"],[0.8888888888888888,\"#fdca26\"],[1.0,\"#f0f921\"]],\"type\":\"histogram2dcontour\"}],\"histogram2d\":[{\"colorbar\":{\"outlinewidth\":0,\"ticks\":\"\"},\"colorscale\":[[0.0,\"#0d0887\"],[0.1111111111111111,\"#46039f\"],[0.2222222222222222,\"#7201a8\"],[0.3333333333333333,\"#9c179e\"],[0.4444444444444444,\"#bd3786\"],[0.5555555555555556,\"#d8576b\"],[0.6666666666666666,\"#ed7953\"],[0.7777777777777778,\"#fb9f3a\"],[0.8888888888888888,\"#fdca26\"],[1.0,\"#f0f921\"]],\"type\":\"histogram2d\"}],\"histogram\":[{\"marker\":{\"pattern\":{\"fillmode\":\"overlay\",\"size\":10,\"solidity\":0.2}},\"type\":\"histogram\"}],\"mesh3d\":[{\"colorbar\":{\"outlinewidth\":0,\"ticks\":\"\"},\"type\":\"mesh3d\"}],\"parcoords\":[{\"line\":{\"colorbar\":{\"outlinewidth\":0,\"ticks\":\"\"}},\"type\":\"parcoords\"}],\"pie\":[{\"automargin\":true,\"type\":\"pie\"}],\"scatter3d\":[{\"line\":{\"colorbar\":{\"outlinewidth\":0,\"ticks\":\"\"}},\"marker\":{\"colorbar\":{\"outlinewidth\":0,\"ticks\":\"\"}},\"type\":\"scatter3d\"}],\"scattercarpet\":[{\"marker\":{\"colorbar\":{\"outlinewidth\":0,\"ticks\":\"\"}},\"type\":\"scattercarpet\"}],\"scattergeo\":[{\"marker\":{\"colorbar\":{\"outlinewidth\":0,\"ticks\":\"\"}},\"type\":\"scattergeo\"}],\"scattergl\":[{\"marker\":{\"colorbar\":{\"outlinewidth\":0,\"ticks\":\"\"}},\"type\":\"scattergl\"}],\"scattermapbox\":[{\"marker\":{\"colorbar\":{\"outlinewidth\":0,\"ticks\":\"\"}},\"type\":\"scattermapbox\"}],\"scatterpolargl\":[{\"marker\":{\"colorbar\":{\"outlinewidth\":0,\"ticks\":\"\"}},\"type\":\"scatterpolargl\"}],\"scatterpolar\":[{\"marker\":{\"colorbar\":{\"outlinewidth\":0,\"ticks\":\"\"}},\"type\":\"scatterpolar\"}],\"scatter\":[{\"fillpattern\":{\"fillmode\":\"overlay\",\"size\":10,\"solidity\":0.2},\"type\":\"scatter\"}],\"scatterternary\":[{\"marker\":{\"colorbar\":{\"outlinewidth\":0,\"ticks\":\"\"}},\"type\":\"scatterternary\"}],\"surface\":[{\"colorbar\":{\"outlinewidth\":0,\"ticks\":\"\"},\"colorscale\":[[0.0,\"#0d0887\"],[0.1111111111111111,\"#46039f\"],[0.2222222222222222,\"#7201a8\"],[0.3333333333333333,\"#9c179e\"],[0.4444444444444444,\"#bd3786\"],[0.5555555555555556,\"#d8576b\"],[0.6666666666666666,\"#ed7953\"],[0.7777777777777778,\"#fb9f3a\"],[0.8888888888888888,\"#fdca26\"],[1.0,\"#f0f921\"]],\"type\":\"surface\"}],\"table\":[{\"cells\":{\"fill\":{\"color\":\"#EBF0F8\"},\"line\":{\"color\":\"white\"}},\"header\":{\"fill\":{\"color\":\"#C8D4E3\"},\"line\":{\"color\":\"white\"}},\"type\":\"table\"}]},\"layout\":{\"annotationdefaults\":{\"arrowcolor\":\"#2a3f5f\",\"arrowhead\":0,\"arrowwidth\":1},\"autotypenumbers\":\"strict\",\"coloraxis\":{\"colorbar\":{\"outlinewidth\":0,\"ticks\":\"\"}},\"colorscale\":{\"diverging\":[[0,\"#8e0152\"],[0.1,\"#c51b7d\"],[0.2,\"#de77ae\"],[0.3,\"#f1b6da\"],[0.4,\"#fde0ef\"],[0.5,\"#f7f7f7\"],[0.6,\"#e6f5d0\"],[0.7,\"#b8e186\"],[0.8,\"#7fbc41\"],[0.9,\"#4d9221\"],[1,\"#276419\"]],\"sequential\":[[0.0,\"#0d0887\"],[0.1111111111111111,\"#46039f\"],[0.2222222222222222,\"#7201a8\"],[0.3333333333333333,\"#9c179e\"],[0.4444444444444444,\"#bd3786\"],[0.5555555555555556,\"#d8576b\"],[0.6666666666666666,\"#ed7953\"],[0.7777777777777778,\"#fb9f3a\"],[0.8888888888888888,\"#fdca26\"],[1.0,\"#f0f921\"]],\"sequentialminus\":[[0.0,\"#0d0887\"],[0.1111111111111111,\"#46039f\"],[0.2222222222222222,\"#7201a8\"],[0.3333333333333333,\"#9c179e\"],[0.4444444444444444,\"#bd3786\"],[0.5555555555555556,\"#d8576b\"],[0.6666666666666666,\"#ed7953\"],[0.7777777777777778,\"#fb9f3a\"],[0.8888888888888888,\"#fdca26\"],[1.0,\"#f0f921\"]]},\"colorway\":[\"#636efa\",\"#EF553B\",\"#00cc96\",\"#ab63fa\",\"#FFA15A\",\"#19d3f3\",\"#FF6692\",\"#B6E880\",\"#FF97FF\",\"#FECB52\"],\"font\":{\"color\":\"#2a3f5f\"},\"geo\":{\"bgcolor\":\"white\",\"lakecolor\":\"white\",\"landcolor\":\"white\",\"showlakes\":true,\"showland\":true,\"subunitcolor\":\"#C8D4E3\"},\"hoverlabel\":{\"align\":\"left\"},\"hovermode\":\"closest\",\"mapbox\":{\"style\":\"light\"},\"paper_bgcolor\":\"white\",\"plot_bgcolor\":\"white\",\"polar\":{\"angularaxis\":{\"gridcolor\":\"#EBF0F8\",\"linecolor\":\"#EBF0F8\",\"ticks\":\"\"},\"bgcolor\":\"white\",\"radialaxis\":{\"gridcolor\":\"#EBF0F8\",\"linecolor\":\"#EBF0F8\",\"ticks\":\"\"}},\"scene\":{\"xaxis\":{\"backgroundcolor\":\"white\",\"gridcolor\":\"#DFE8F3\",\"gridwidth\":2,\"linecolor\":\"#EBF0F8\",\"showbackground\":true,\"ticks\":\"\",\"zerolinecolor\":\"#EBF0F8\"},\"yaxis\":{\"backgroundcolor\":\"white\",\"gridcolor\":\"#DFE8F3\",\"gridwidth\":2,\"linecolor\":\"#EBF0F8\",\"showbackground\":true,\"ticks\":\"\",\"zerolinecolor\":\"#EBF0F8\"},\"zaxis\":{\"backgroundcolor\":\"white\",\"gridcolor\":\"#DFE8F3\",\"gridwidth\":2,\"linecolor\":\"#EBF0F8\",\"showbackground\":true,\"ticks\":\"\",\"zerolinecolor\":\"#EBF0F8\"}},\"shapedefaults\":{\"line\":{\"color\":\"#2a3f5f\"}},\"ternary\":{\"aaxis\":{\"gridcolor\":\"#DFE8F3\",\"linecolor\":\"#A2B1C6\",\"ticks\":\"\"},\"baxis\":{\"gridcolor\":\"#DFE8F3\",\"linecolor\":\"#A2B1C6\",\"ticks\":\"\"},\"bgcolor\":\"white\",\"caxis\":{\"gridcolor\":\"#DFE8F3\",\"linecolor\":\"#A2B1C6\",\"ticks\":\"\"}},\"title\":{\"x\":0.05},\"xaxis\":{\"automargin\":true,\"gridcolor\":\"#EBF0F8\",\"linecolor\":\"#EBF0F8\",\"ticks\":\"\",\"title\":{\"standoff\":15},\"zerolinecolor\":\"#EBF0F8\",\"zerolinewidth\":2},\"yaxis\":{\"automargin\":true,\"gridcolor\":\"#EBF0F8\",\"linecolor\":\"#EBF0F8\",\"ticks\":\"\",\"title\":{\"standoff\":15},\"zerolinecolor\":\"#EBF0F8\",\"zerolinewidth\":2}}},\"legend\":{\"orientation\":\"h\",\"xanchor\":\"center\",\"x\":0.5,\"yanchor\":\"top\",\"y\":1},\"margin\":{\"l\":40,\"r\":40,\"b\":80,\"t\":20},\"font\":{\"size\":20,\"family\":\"Serif\",\"color\":\"black\"},\"barmode\":\"group\",\"bargap\":0.15,\"bargroupgap\":0.1,\"width\":1600,\"height\":700,\"hovermode\":\"x unified\",\"annotations\":[{\"font\":{\"color\":\"Black\",\"family\":\"Serif\",\"size\":20},\"showarrow\":false,\"text\":\"Dataset:\",\"x\":0,\"xanchor\":\"center\",\"xref\":\"paper\",\"y\":-0.05,\"yanchor\":\"bottom\",\"yref\":\"paper\"}],\"yaxis\":{\"title\":{\"font\":{\"size\":20},\"text\":\"Number of Edges in DAG\"}}},                        {\"responsive\": true}                    ).then(function(){\n",
       "                            \n",
       "var gd = document.getElementById('3521d1d5-325a-4733-a547-0d59a5a53814');\n",
       "var x = new MutationObserver(function (mutations, observer) {{\n",
       "        var display = window.getComputedStyle(gd).display;\n",
       "        if (!display || display === 'none') {{\n",
       "            console.log([gd, 'removed!']);\n",
       "            Plotly.purge(gd);\n",
       "            observer.disconnect();\n",
       "        }}\n",
       "}});\n",
       "\n",
       "// Listen for the removal of the full notebook cells\n",
       "var notebookContainer = gd.closest('#notebook-container');\n",
       "if (notebookContainer) {{\n",
       "    x.observe(notebookContainer, {childList: true});\n",
       "}}\n",
       "\n",
       "// Listen for the clearing of the current output cell\n",
       "var outputEl = gd.closest('.output');\n",
       "if (outputEl) {{\n",
       "    x.observe(outputEl, {childList: true});\n",
       "}}\n",
       "\n",
       "                        })                };                });            </script>        </div>"
      ]
     },
     "metadata": {},
     "output_type": "display_data"
    }
   ],
   "source": [
    "double_bar_chart_plotly(all_sum, ['p_shd','F1'], names_dict, colors_dict, methods, save_figs=save_figs, output_name=\"../results/figs/Fig.4_SHD_F1_cpdag.html\", debug=False, range_y1=[0,2], range_y2=[0,1.1])#\n",
    "double_bar_chart_plotly(all_sum, ['precision','recall'], names_dict, colors_dict, methods, save_figs=save_figs, output_name=\"../results/figs/Fig.5_pre_rec_cpdag.html\", debug=False)\n",
    "bar_chart_plotly(all_sum, 'nnz', names_dict, colors_dict, methods, save_figs=save_figs, output_name=\"../results/figs/Fig.6_EGS_cpdag.html\", debug=False)"
   ]
  },
  {
   "cell_type": "markdown",
   "metadata": {},
   "source": [
    "### DAG evaluation"
   ]
  },
  {
   "cell_type": "code",
   "execution_count": 15,
   "metadata": {},
   "outputs": [
    {
     "data": {
      "application/vnd.plotly.v1+json": {
       "config": {
        "plotlyServerURL": "https://plot.ly"
       },
       "data": [
        {
         "error_y": {
          "array": [
           0.4125,
           0.355,
           0.295,
           0.22625
          ],
          "type": "data",
          "visible": true
         },
         "marker": {
          "color": "grey"
         },
         "name": "Random",
         "offsetgroup": "0",
         "opacity": 0.6,
         "showlegend": true,
         "type": "bar",
         "x": [
          "CANCER<br> |V|=5, |E|=4",
          "EARTHQUAKE<br> |V|=5, |E|=4",
          "SURVEY<br> |V|=6, |E|=6",
          "ASIA<br> |V|=8, |E|=8"
         ],
         "y": [
          1.4,
          1.425,
          1.33,
          1.5825
         ],
         "yaxis": "y"
        },
        {
         "error_y": {
          "array": [
           0.1175,
           0.16,
           0.16666666666666666,
           0.09625
          ],
          "type": "data",
          "visible": true
         },
         "marker": {
          "color": "#b85c00"
         },
         "name": "FGS",
         "offsetgroup": "1",
         "opacity": 0.6,
         "showlegend": true,
         "type": "bar",
         "x": [
          "CANCER<br> |V|=5, |E|=4",
          "EARTHQUAKE<br> |V|=5, |E|=4",
          "SURVEY<br> |V|=6, |E|=6",
          "ASIA<br> |V|=8, |E|=8"
         ],
         "y": [
          0.58,
          0.655,
          1.1133333333333333,
          1.405
         ],
         "yaxis": "y"
        },
        {
         "error_y": {
          "array": [
           0,
           0.305,
           0,
           0.17375
          ],
          "type": "data",
          "visible": true
         },
         "marker": {
          "color": "#9454c4"
         },
         "name": "NOTEARS-MLP",
         "offsetgroup": "2",
         "opacity": 0.6,
         "showlegend": true,
         "type": "bar",
         "x": [
          "CANCER<br> |V|=5, |E|=4",
          "EARTHQUAKE<br> |V|=5, |E|=4",
          "SURVEY<br> |V|=6, |E|=6",
          "ASIA<br> |V|=8, |E|=8"
         ],
         "y": [
          1,
          0.495,
          1,
          0.8875
         ],
         "yaxis": "y"
        },
        {
         "error_y": {
          "array": [
           0.105,
           0.17,
           0.04666666666666667,
           0.09875
          ],
          "type": "data",
          "visible": true
         },
         "marker": {
          "color": "#379f9f"
         },
         "name": "MPC",
         "offsetgroup": "3",
         "opacity": 0.6,
         "showlegend": true,
         "type": "bar",
         "x": [
          "CANCER<br> |V|=5, |E|=4",
          "EARTHQUAKE<br> |V|=5, |E|=4",
          "SURVEY<br> |V|=6, |E|=6",
          "ASIA<br> |V|=8, |E|=8"
         ],
         "y": [
          0.975,
          0.17,
          0.9933333333333333,
          0.6125
         ],
         "yaxis": "y"
        },
        {
         "error_y": {
          "array": [
           0.22,
           0.12,
           0.12
          ],
          "type": "data",
          "visible": true
         },
         "marker": {
          "color": "#441469"
         },
         "name": "ASPCR",
         "offsetgroup": "4",
         "opacity": 0.6,
         "showlegend": true,
         "type": "bar",
         "x": [
          "CANCER<br> |V|=5, |E|=4",
          "EARTHQUAKE<br> |V|=5, |E|=4",
          "SURVEY<br> |V|=6, |E|=6"
         ],
         "y": [
          0.73,
          1.09,
          0.8933333333333334
         ],
         "yaxis": "y"
        },
        {
         "error_y": {
          "array": [
           0.235,
           0.175,
           0.17500000000000002,
           0.23875
          ],
          "type": "data",
          "visible": true
         },
         "marker": {
          "color": "#0085CA"
         },
         "name": "ABAPC (Ours)",
         "offsetgroup": "5",
         "opacity": 0.6,
         "showlegend": true,
         "type": "bar",
         "x": [
          "CANCER<br> |V|=5, |E|=4",
          "EARTHQUAKE<br> |V|=5, |E|=4",
          "SURVEY<br> |V|=6, |E|=6",
          "ASIA<br> |V|=8, |E|=8"
         ],
         "y": [
          0.665,
          0.15,
          0.7466666666666667,
          0.6375
         ],
         "yaxis": "y"
        },
        {
         "marker": {
          "color": "white"
         },
         "name": "",
         "offsetgroup": "6",
         "opacity": 1,
         "showlegend": false,
         "type": "bar",
         "x": [
          "CANCER<br> |V|=5, |E|=4",
          "EARTHQUAKE<br> |V|=5, |E|=4",
          "SURVEY<br> |V|=6, |E|=6",
          "ASIA<br> |V|=8, |E|=8"
         ],
         "y": [
          0,
          0,
          0,
          0
         ]
        },
        {
         "error_y": {
          "array": [
           1.1,
           0.8875,
           1.01,
           0.9925
          ],
          "type": "data",
          "visible": true
         },
         "marker": {
          "color": "grey"
         },
         "name": "Random",
         "offsetgroup": "7",
         "opacity": 0.6,
         "showlegend": false,
         "type": "bar",
         "x": [
          "CANCER<br> |V|=5, |E|=4",
          "EARTHQUAKE<br> |V|=5, |E|=4",
          "SURVEY<br> |V|=6, |E|=6",
          "ASIA<br> |V|=8, |E|=8"
         ],
         "y": [
          2.815,
          2.64,
          2.9233333333333333,
          3.795
         ],
         "yaxis": "y2"
        },
        {
         "error_y": {
          "array": [
           0.47,
           0.06,
           0.6133333333333334,
           0.3475
          ],
          "type": "data",
          "visible": true
         },
         "marker": {
          "color": "#b85c00"
         },
         "name": "FGS",
         "offsetgroup": "8",
         "opacity": 0.6,
         "showlegend": false,
         "type": "bar",
         "x": [
          "CANCER<br> |V|=5, |E|=4",
          "EARTHQUAKE<br> |V|=5, |E|=4",
          "SURVEY<br> |V|=6, |E|=6",
          "ASIA<br> |V|=8, |E|=8"
         ],
         "y": [
          2.82,
          2.485,
          2.3766666666666665,
          4.77
         ],
         "yaxis": "y2"
        },
        {
         "error_y": {
          "array": [
           0.0975,
           1.51,
           0,
           1.09875
          ],
          "type": "data",
          "visible": true
         },
         "marker": {
          "color": "#9454c4"
         },
         "name": "NOTEARS-MLP",
         "offsetgroup": "9",
         "opacity": 0.6,
         "showlegend": false,
         "type": "bar",
         "x": [
          "CANCER<br> |V|=5, |E|=4",
          "EARTHQUAKE<br> |V|=5, |E|=4",
          "SURVEY<br> |V|=6, |E|=6",
          "ASIA<br> |V|=8, |E|=8"
         ],
         "y": [
          2.545,
          2.415,
          2.8333333333333335,
          3.955
         ],
         "yaxis": "y2"
        },
        {
         "error_y": {
          "array": [
           0.2125,
           0.1,
           0.06999999999999999,
           0.41375
          ],
          "type": "data",
          "visible": true
         },
         "marker": {
          "color": "#379f9f"
         },
         "name": "MPC",
         "offsetgroup": "10",
         "opacity": 0.6,
         "showlegend": false,
         "type": "bar",
         "x": [
          "CANCER<br> |V|=5, |E|=4",
          "EARTHQUAKE<br> |V|=5, |E|=4",
          "SURVEY<br> |V|=6, |E|=6",
          "ASIA<br> |V|=8, |E|=8"
         ],
         "y": [
          2.47,
          0.02,
          2.8433333333333333,
          1.9925
         ],
         "yaxis": "y2"
        },
        {
         "error_y": {
          "array": [
           0.865,
           0.5475,
           0.47500000000000003
          ],
          "type": "data",
          "visible": true
         },
         "marker": {
          "color": "#441469"
         },
         "name": "ASPCR",
         "offsetgroup": "11",
         "opacity": 0.6,
         "showlegend": false,
         "type": "bar",
         "x": [
          "CANCER<br> |V|=5, |E|=4",
          "EARTHQUAKE<br> |V|=5, |E|=4",
          "SURVEY<br> |V|=6, |E|=6"
         ],
         "y": [
          2.41,
          4.535,
          2.7066666666666666
         ],
         "yaxis": "y2"
        },
        {
         "error_y": {
          "array": [
           0.7025,
           0.1475,
           0.585,
           1.32625
          ],
          "type": "data",
          "visible": true
         },
         "marker": {
          "color": "#0085CA"
         },
         "name": "ABAPC (Ours)",
         "offsetgroup": "12",
         "opacity": 0.6,
         "showlegend": false,
         "type": "bar",
         "x": [
          "CANCER<br> |V|=5, |E|=4",
          "EARTHQUAKE<br> |V|=5, |E|=4",
          "SURVEY<br> |V|=6, |E|=6",
          "ASIA<br> |V|=8, |E|=8"
         ],
         "y": [
          2.61,
          0.03,
          2.5966666666666667,
          2.5425
         ],
         "yaxis": "y2"
        }
       ],
       "layout": {
        "annotations": [
         {
          "font": {
           "color": "Black",
           "family": "Serif",
           "size": 20
          },
          "showarrow": false,
          "text": "Dataset:",
          "x": 0,
          "xanchor": "center",
          "xref": "paper",
          "y": -0.08,
          "yanchor": "bottom",
          "yref": "paper"
         },
         {
          "bgcolor": "#E5ECF6",
          "bordercolor": "#E5ECF6",
          "borderwidth": 2,
          "font": {
           "color": "black",
           "size": 20
          },
          "opacity": 0.8,
          "showarrow": false,
          "text": "         NSHD         ",
          "x": 0.017,
          "xanchor": "left",
          "xref": "x domain",
          "y": 1.015,
          "yref": "y domain"
         },
         {
          "bgcolor": "#E5ECF6",
          "bordercolor": "#E5ECF6",
          "borderwidth": 2,
          "font": {
           "color": "black",
           "size": 20
          },
          "opacity": 0.8,
          "showarrow": false,
          "text": "         NSID         ",
          "x": 0.137,
          "xanchor": "left",
          "xref": "x domain",
          "y": 1.015,
          "yref": "y domain"
         },
         {
          "bgcolor": "#E5ECF6",
          "bordercolor": "#E5ECF6",
          "borderwidth": 2,
          "font": {
           "color": "black",
           "size": 20
          },
          "opacity": 0.8,
          "showarrow": false,
          "text": "         NSHD         ",
          "x": 0.267,
          "xanchor": "left",
          "xref": "x domain",
          "y": 1.015,
          "yref": "y domain"
         },
         {
          "bgcolor": "#E5ECF6",
          "bordercolor": "#E5ECF6",
          "borderwidth": 2,
          "font": {
           "color": "black",
           "size": 20
          },
          "opacity": 0.8,
          "showarrow": false,
          "text": "         NSID         ",
          "x": 0.387,
          "xanchor": "left",
          "xref": "x domain",
          "y": 1.015,
          "yref": "y domain"
         },
         {
          "bgcolor": "#E5ECF6",
          "bordercolor": "#E5ECF6",
          "borderwidth": 2,
          "font": {
           "color": "black",
           "size": 20
          },
          "opacity": 0.8,
          "showarrow": false,
          "text": "         NSHD         ",
          "x": 0.517,
          "xanchor": "left",
          "xref": "x domain",
          "y": 1.015,
          "yref": "y domain"
         },
         {
          "bgcolor": "#E5ECF6",
          "bordercolor": "#E5ECF6",
          "borderwidth": 2,
          "font": {
           "color": "black",
           "size": 20
          },
          "opacity": 0.8,
          "showarrow": false,
          "text": "         NSID         ",
          "x": 0.637,
          "xanchor": "left",
          "xref": "x domain",
          "y": 1.015,
          "yref": "y domain"
         },
         {
          "bgcolor": "#E5ECF6",
          "bordercolor": "#E5ECF6",
          "borderwidth": 2,
          "font": {
           "color": "black",
           "size": 20
          },
          "opacity": 0.8,
          "showarrow": false,
          "text": "         NSHD         ",
          "x": 0.767,
          "xanchor": "left",
          "xref": "x domain",
          "y": 1.015,
          "yref": "y domain"
         },
         {
          "bgcolor": "#E5ECF6",
          "bordercolor": "#E5ECF6",
          "borderwidth": 2,
          "font": {
           "color": "black",
           "size": 20
          },
          "opacity": 0.8,
          "showarrow": false,
          "text": "         NSID         ",
          "x": 0.887,
          "xanchor": "left",
          "xref": "x domain",
          "y": 1.015,
          "yref": "y domain"
         }
        ],
        "bargap": 0.15,
        "bargroupgap": 0.1,
        "barmode": "group",
        "font": {
         "color": "black",
         "family": "Serif",
         "size": 20
        },
        "height": 700,
        "hovermode": "x unified",
        "legend": {
         "orientation": "h",
         "x": 0.5,
         "xanchor": "center",
         "y": 1.1,
         "yanchor": "top"
        },
        "margin": {
         "b": 70,
         "l": 40,
         "r": 0,
         "t": 20
        },
        "template": {
         "data": {
          "bar": [
           {
            "error_x": {
             "color": "#2a3f5f"
            },
            "error_y": {
             "color": "#2a3f5f"
            },
            "marker": {
             "line": {
              "color": "white",
              "width": 0.5
             },
             "pattern": {
              "fillmode": "overlay",
              "size": 10,
              "solidity": 0.2
             }
            },
            "type": "bar"
           }
          ],
          "barpolar": [
           {
            "marker": {
             "line": {
              "color": "white",
              "width": 0.5
             },
             "pattern": {
              "fillmode": "overlay",
              "size": 10,
              "solidity": 0.2
             }
            },
            "type": "barpolar"
           }
          ],
          "carpet": [
           {
            "aaxis": {
             "endlinecolor": "#2a3f5f",
             "gridcolor": "#C8D4E3",
             "linecolor": "#C8D4E3",
             "minorgridcolor": "#C8D4E3",
             "startlinecolor": "#2a3f5f"
            },
            "baxis": {
             "endlinecolor": "#2a3f5f",
             "gridcolor": "#C8D4E3",
             "linecolor": "#C8D4E3",
             "minorgridcolor": "#C8D4E3",
             "startlinecolor": "#2a3f5f"
            },
            "type": "carpet"
           }
          ],
          "choropleth": [
           {
            "colorbar": {
             "outlinewidth": 0,
             "ticks": ""
            },
            "type": "choropleth"
           }
          ],
          "contour": [
           {
            "colorbar": {
             "outlinewidth": 0,
             "ticks": ""
            },
            "colorscale": [
             [
              0,
              "#0d0887"
             ],
             [
              0.1111111111111111,
              "#46039f"
             ],
             [
              0.2222222222222222,
              "#7201a8"
             ],
             [
              0.3333333333333333,
              "#9c179e"
             ],
             [
              0.4444444444444444,
              "#bd3786"
             ],
             [
              0.5555555555555556,
              "#d8576b"
             ],
             [
              0.6666666666666666,
              "#ed7953"
             ],
             [
              0.7777777777777778,
              "#fb9f3a"
             ],
             [
              0.8888888888888888,
              "#fdca26"
             ],
             [
              1,
              "#f0f921"
             ]
            ],
            "type": "contour"
           }
          ],
          "contourcarpet": [
           {
            "colorbar": {
             "outlinewidth": 0,
             "ticks": ""
            },
            "type": "contourcarpet"
           }
          ],
          "heatmap": [
           {
            "colorbar": {
             "outlinewidth": 0,
             "ticks": ""
            },
            "colorscale": [
             [
              0,
              "#0d0887"
             ],
             [
              0.1111111111111111,
              "#46039f"
             ],
             [
              0.2222222222222222,
              "#7201a8"
             ],
             [
              0.3333333333333333,
              "#9c179e"
             ],
             [
              0.4444444444444444,
              "#bd3786"
             ],
             [
              0.5555555555555556,
              "#d8576b"
             ],
             [
              0.6666666666666666,
              "#ed7953"
             ],
             [
              0.7777777777777778,
              "#fb9f3a"
             ],
             [
              0.8888888888888888,
              "#fdca26"
             ],
             [
              1,
              "#f0f921"
             ]
            ],
            "type": "heatmap"
           }
          ],
          "heatmapgl": [
           {
            "colorbar": {
             "outlinewidth": 0,
             "ticks": ""
            },
            "colorscale": [
             [
              0,
              "#0d0887"
             ],
             [
              0.1111111111111111,
              "#46039f"
             ],
             [
              0.2222222222222222,
              "#7201a8"
             ],
             [
              0.3333333333333333,
              "#9c179e"
             ],
             [
              0.4444444444444444,
              "#bd3786"
             ],
             [
              0.5555555555555556,
              "#d8576b"
             ],
             [
              0.6666666666666666,
              "#ed7953"
             ],
             [
              0.7777777777777778,
              "#fb9f3a"
             ],
             [
              0.8888888888888888,
              "#fdca26"
             ],
             [
              1,
              "#f0f921"
             ]
            ],
            "type": "heatmapgl"
           }
          ],
          "histogram": [
           {
            "marker": {
             "pattern": {
              "fillmode": "overlay",
              "size": 10,
              "solidity": 0.2
             }
            },
            "type": "histogram"
           }
          ],
          "histogram2d": [
           {
            "colorbar": {
             "outlinewidth": 0,
             "ticks": ""
            },
            "colorscale": [
             [
              0,
              "#0d0887"
             ],
             [
              0.1111111111111111,
              "#46039f"
             ],
             [
              0.2222222222222222,
              "#7201a8"
             ],
             [
              0.3333333333333333,
              "#9c179e"
             ],
             [
              0.4444444444444444,
              "#bd3786"
             ],
             [
              0.5555555555555556,
              "#d8576b"
             ],
             [
              0.6666666666666666,
              "#ed7953"
             ],
             [
              0.7777777777777778,
              "#fb9f3a"
             ],
             [
              0.8888888888888888,
              "#fdca26"
             ],
             [
              1,
              "#f0f921"
             ]
            ],
            "type": "histogram2d"
           }
          ],
          "histogram2dcontour": [
           {
            "colorbar": {
             "outlinewidth": 0,
             "ticks": ""
            },
            "colorscale": [
             [
              0,
              "#0d0887"
             ],
             [
              0.1111111111111111,
              "#46039f"
             ],
             [
              0.2222222222222222,
              "#7201a8"
             ],
             [
              0.3333333333333333,
              "#9c179e"
             ],
             [
              0.4444444444444444,
              "#bd3786"
             ],
             [
              0.5555555555555556,
              "#d8576b"
             ],
             [
              0.6666666666666666,
              "#ed7953"
             ],
             [
              0.7777777777777778,
              "#fb9f3a"
             ],
             [
              0.8888888888888888,
              "#fdca26"
             ],
             [
              1,
              "#f0f921"
             ]
            ],
            "type": "histogram2dcontour"
           }
          ],
          "mesh3d": [
           {
            "colorbar": {
             "outlinewidth": 0,
             "ticks": ""
            },
            "type": "mesh3d"
           }
          ],
          "parcoords": [
           {
            "line": {
             "colorbar": {
              "outlinewidth": 0,
              "ticks": ""
             }
            },
            "type": "parcoords"
           }
          ],
          "pie": [
           {
            "automargin": true,
            "type": "pie"
           }
          ],
          "scatter": [
           {
            "fillpattern": {
             "fillmode": "overlay",
             "size": 10,
             "solidity": 0.2
            },
            "type": "scatter"
           }
          ],
          "scatter3d": [
           {
            "line": {
             "colorbar": {
              "outlinewidth": 0,
              "ticks": ""
             }
            },
            "marker": {
             "colorbar": {
              "outlinewidth": 0,
              "ticks": ""
             }
            },
            "type": "scatter3d"
           }
          ],
          "scattercarpet": [
           {
            "marker": {
             "colorbar": {
              "outlinewidth": 0,
              "ticks": ""
             }
            },
            "type": "scattercarpet"
           }
          ],
          "scattergeo": [
           {
            "marker": {
             "colorbar": {
              "outlinewidth": 0,
              "ticks": ""
             }
            },
            "type": "scattergeo"
           }
          ],
          "scattergl": [
           {
            "marker": {
             "colorbar": {
              "outlinewidth": 0,
              "ticks": ""
             }
            },
            "type": "scattergl"
           }
          ],
          "scattermapbox": [
           {
            "marker": {
             "colorbar": {
              "outlinewidth": 0,
              "ticks": ""
             }
            },
            "type": "scattermapbox"
           }
          ],
          "scatterpolar": [
           {
            "marker": {
             "colorbar": {
              "outlinewidth": 0,
              "ticks": ""
             }
            },
            "type": "scatterpolar"
           }
          ],
          "scatterpolargl": [
           {
            "marker": {
             "colorbar": {
              "outlinewidth": 0,
              "ticks": ""
             }
            },
            "type": "scatterpolargl"
           }
          ],
          "scatterternary": [
           {
            "marker": {
             "colorbar": {
              "outlinewidth": 0,
              "ticks": ""
             }
            },
            "type": "scatterternary"
           }
          ],
          "surface": [
           {
            "colorbar": {
             "outlinewidth": 0,
             "ticks": ""
            },
            "colorscale": [
             [
              0,
              "#0d0887"
             ],
             [
              0.1111111111111111,
              "#46039f"
             ],
             [
              0.2222222222222222,
              "#7201a8"
             ],
             [
              0.3333333333333333,
              "#9c179e"
             ],
             [
              0.4444444444444444,
              "#bd3786"
             ],
             [
              0.5555555555555556,
              "#d8576b"
             ],
             [
              0.6666666666666666,
              "#ed7953"
             ],
             [
              0.7777777777777778,
              "#fb9f3a"
             ],
             [
              0.8888888888888888,
              "#fdca26"
             ],
             [
              1,
              "#f0f921"
             ]
            ],
            "type": "surface"
           }
          ],
          "table": [
           {
            "cells": {
             "fill": {
              "color": "#EBF0F8"
             },
             "line": {
              "color": "white"
             }
            },
            "header": {
             "fill": {
              "color": "#C8D4E3"
             },
             "line": {
              "color": "white"
             }
            },
            "type": "table"
           }
          ]
         },
         "layout": {
          "annotationdefaults": {
           "arrowcolor": "#2a3f5f",
           "arrowhead": 0,
           "arrowwidth": 1
          },
          "autotypenumbers": "strict",
          "coloraxis": {
           "colorbar": {
            "outlinewidth": 0,
            "ticks": ""
           }
          },
          "colorscale": {
           "diverging": [
            [
             0,
             "#8e0152"
            ],
            [
             0.1,
             "#c51b7d"
            ],
            [
             0.2,
             "#de77ae"
            ],
            [
             0.3,
             "#f1b6da"
            ],
            [
             0.4,
             "#fde0ef"
            ],
            [
             0.5,
             "#f7f7f7"
            ],
            [
             0.6,
             "#e6f5d0"
            ],
            [
             0.7,
             "#b8e186"
            ],
            [
             0.8,
             "#7fbc41"
            ],
            [
             0.9,
             "#4d9221"
            ],
            [
             1,
             "#276419"
            ]
           ],
           "sequential": [
            [
             0,
             "#0d0887"
            ],
            [
             0.1111111111111111,
             "#46039f"
            ],
            [
             0.2222222222222222,
             "#7201a8"
            ],
            [
             0.3333333333333333,
             "#9c179e"
            ],
            [
             0.4444444444444444,
             "#bd3786"
            ],
            [
             0.5555555555555556,
             "#d8576b"
            ],
            [
             0.6666666666666666,
             "#ed7953"
            ],
            [
             0.7777777777777778,
             "#fb9f3a"
            ],
            [
             0.8888888888888888,
             "#fdca26"
            ],
            [
             1,
             "#f0f921"
            ]
           ],
           "sequentialminus": [
            [
             0,
             "#0d0887"
            ],
            [
             0.1111111111111111,
             "#46039f"
            ],
            [
             0.2222222222222222,
             "#7201a8"
            ],
            [
             0.3333333333333333,
             "#9c179e"
            ],
            [
             0.4444444444444444,
             "#bd3786"
            ],
            [
             0.5555555555555556,
             "#d8576b"
            ],
            [
             0.6666666666666666,
             "#ed7953"
            ],
            [
             0.7777777777777778,
             "#fb9f3a"
            ],
            [
             0.8888888888888888,
             "#fdca26"
            ],
            [
             1,
             "#f0f921"
            ]
           ]
          },
          "colorway": [
           "#636efa",
           "#EF553B",
           "#00cc96",
           "#ab63fa",
           "#FFA15A",
           "#19d3f3",
           "#FF6692",
           "#B6E880",
           "#FF97FF",
           "#FECB52"
          ],
          "font": {
           "color": "#2a3f5f"
          },
          "geo": {
           "bgcolor": "white",
           "lakecolor": "white",
           "landcolor": "white",
           "showlakes": true,
           "showland": true,
           "subunitcolor": "#C8D4E3"
          },
          "hoverlabel": {
           "align": "left"
          },
          "hovermode": "closest",
          "mapbox": {
           "style": "light"
          },
          "paper_bgcolor": "white",
          "plot_bgcolor": "white",
          "polar": {
           "angularaxis": {
            "gridcolor": "#EBF0F8",
            "linecolor": "#EBF0F8",
            "ticks": ""
           },
           "bgcolor": "white",
           "radialaxis": {
            "gridcolor": "#EBF0F8",
            "linecolor": "#EBF0F8",
            "ticks": ""
           }
          },
          "scene": {
           "xaxis": {
            "backgroundcolor": "white",
            "gridcolor": "#DFE8F3",
            "gridwidth": 2,
            "linecolor": "#EBF0F8",
            "showbackground": true,
            "ticks": "",
            "zerolinecolor": "#EBF0F8"
           },
           "yaxis": {
            "backgroundcolor": "white",
            "gridcolor": "#DFE8F3",
            "gridwidth": 2,
            "linecolor": "#EBF0F8",
            "showbackground": true,
            "ticks": "",
            "zerolinecolor": "#EBF0F8"
           },
           "zaxis": {
            "backgroundcolor": "white",
            "gridcolor": "#DFE8F3",
            "gridwidth": 2,
            "linecolor": "#EBF0F8",
            "showbackground": true,
            "ticks": "",
            "zerolinecolor": "#EBF0F8"
           }
          },
          "shapedefaults": {
           "line": {
            "color": "#2a3f5f"
           }
          },
          "ternary": {
           "aaxis": {
            "gridcolor": "#DFE8F3",
            "linecolor": "#A2B1C6",
            "ticks": ""
           },
           "baxis": {
            "gridcolor": "#DFE8F3",
            "linecolor": "#A2B1C6",
            "ticks": ""
           },
           "bgcolor": "white",
           "caxis": {
            "gridcolor": "#DFE8F3",
            "linecolor": "#A2B1C6",
            "ticks": ""
           }
          },
          "title": {
           "x": 0.05
          },
          "xaxis": {
           "automargin": true,
           "gridcolor": "#EBF0F8",
           "linecolor": "#EBF0F8",
           "ticks": "",
           "title": {
            "standoff": 15
           },
           "zerolinecolor": "#EBF0F8",
           "zerolinewidth": 2
          },
          "yaxis": {
           "automargin": true,
           "gridcolor": "#EBF0F8",
           "linecolor": "#EBF0F8",
           "ticks": "",
           "title": {
            "standoff": 15
           },
           "zerolinecolor": "#EBF0F8",
           "zerolinewidth": 2
          }
         }
        },
        "width": 1600,
        "xaxis": {
         "anchor": "y",
         "domain": [
          0,
          0.94
         ]
        },
        "yaxis": {
         "anchor": "x",
         "domain": [
          0,
          1
         ],
         "range": [
          0,
          2
         ],
         "title": {
          "font": {
           "size": 20
          },
          "text": "Normalised SHD = SHD / Number of Edges in DAG"
         }
        },
        "yaxis2": {
         "anchor": "x",
         "overlaying": "y",
         "range": [
          0,
          5.6
         ],
         "scaleanchor": 0,
         "showgrid": false,
         "showline": false,
         "showticklabels": true,
         "side": "right",
         "title": {
          "font": {
           "size": 20
          },
          "text": "Normalised SID = SID / Number of Edges in DAG"
         },
         "zeroline": true
        }
       }
      },
      "text/html": [
       "<div>                            <div id=\"80a30bcf-1694-4485-95b5-0ad8346a4749\" class=\"plotly-graph-div\" style=\"height:700px; width:1600px;\"></div>            <script type=\"text/javascript\">                require([\"plotly\"], function(Plotly) {                    window.PLOTLYENV=window.PLOTLYENV || {};                                    if (document.getElementById(\"80a30bcf-1694-4485-95b5-0ad8346a4749\")) {                    Plotly.newPlot(                        \"80a30bcf-1694-4485-95b5-0ad8346a4749\",                        [{\"error_y\":{\"array\":[0.4125,0.355,0.295,0.22625],\"type\":\"data\",\"visible\":true},\"marker\":{\"color\":\"grey\"},\"name\":\"Random\",\"offsetgroup\":\"0\",\"opacity\":0.6,\"showlegend\":true,\"x\":[\"CANCER\\u003cbr\\u003e |V|=5, |E|=4\",\"EARTHQUAKE\\u003cbr\\u003e |V|=5, |E|=4\",\"SURVEY\\u003cbr\\u003e |V|=6, |E|=6\",\"ASIA\\u003cbr\\u003e |V|=8, |E|=8\"],\"y\":[1.4,1.425,1.33,1.5825],\"yaxis\":\"y\",\"type\":\"bar\"},{\"error_y\":{\"array\":[0.1175,0.16,0.16666666666666666,0.09625],\"type\":\"data\",\"visible\":true},\"marker\":{\"color\":\"#b85c00\"},\"name\":\"FGS\",\"offsetgroup\":\"1\",\"opacity\":0.6,\"showlegend\":true,\"x\":[\"CANCER\\u003cbr\\u003e |V|=5, |E|=4\",\"EARTHQUAKE\\u003cbr\\u003e |V|=5, |E|=4\",\"SURVEY\\u003cbr\\u003e |V|=6, |E|=6\",\"ASIA\\u003cbr\\u003e |V|=8, |E|=8\"],\"y\":[0.58,0.655,1.1133333333333333,1.405],\"yaxis\":\"y\",\"type\":\"bar\"},{\"error_y\":{\"array\":[0.0,0.305,0.0,0.17375],\"type\":\"data\",\"visible\":true},\"marker\":{\"color\":\"#9454c4\"},\"name\":\"NOTEARS-MLP\",\"offsetgroup\":\"2\",\"opacity\":0.6,\"showlegend\":true,\"x\":[\"CANCER\\u003cbr\\u003e |V|=5, |E|=4\",\"EARTHQUAKE\\u003cbr\\u003e |V|=5, |E|=4\",\"SURVEY\\u003cbr\\u003e |V|=6, |E|=6\",\"ASIA\\u003cbr\\u003e |V|=8, |E|=8\"],\"y\":[1.0,0.495,1.0,0.8875],\"yaxis\":\"y\",\"type\":\"bar\"},{\"error_y\":{\"array\":[0.105,0.17,0.04666666666666667,0.09875],\"type\":\"data\",\"visible\":true},\"marker\":{\"color\":\"#379f9f\"},\"name\":\"MPC\",\"offsetgroup\":\"3\",\"opacity\":0.6,\"showlegend\":true,\"x\":[\"CANCER\\u003cbr\\u003e |V|=5, |E|=4\",\"EARTHQUAKE\\u003cbr\\u003e |V|=5, |E|=4\",\"SURVEY\\u003cbr\\u003e |V|=6, |E|=6\",\"ASIA\\u003cbr\\u003e |V|=8, |E|=8\"],\"y\":[0.975,0.17,0.9933333333333333,0.6125],\"yaxis\":\"y\",\"type\":\"bar\"},{\"error_y\":{\"array\":[0.22,0.12,0.12],\"type\":\"data\",\"visible\":true},\"marker\":{\"color\":\"#441469\"},\"name\":\"ASPCR\",\"offsetgroup\":\"4\",\"opacity\":0.6,\"showlegend\":true,\"x\":[\"CANCER\\u003cbr\\u003e |V|=5, |E|=4\",\"EARTHQUAKE\\u003cbr\\u003e |V|=5, |E|=4\",\"SURVEY\\u003cbr\\u003e |V|=6, |E|=6\"],\"y\":[0.73,1.09,0.8933333333333334],\"yaxis\":\"y\",\"type\":\"bar\"},{\"error_y\":{\"array\":[0.235,0.175,0.17500000000000002,0.23875],\"type\":\"data\",\"visible\":true},\"marker\":{\"color\":\"#0085CA\"},\"name\":\"ABAPC (Ours)\",\"offsetgroup\":\"5\",\"opacity\":0.6,\"showlegend\":true,\"x\":[\"CANCER\\u003cbr\\u003e |V|=5, |E|=4\",\"EARTHQUAKE\\u003cbr\\u003e |V|=5, |E|=4\",\"SURVEY\\u003cbr\\u003e |V|=6, |E|=6\",\"ASIA\\u003cbr\\u003e |V|=8, |E|=8\"],\"y\":[0.665,0.15,0.7466666666666667,0.6375],\"yaxis\":\"y\",\"type\":\"bar\"},{\"marker\":{\"color\":\"white\"},\"name\":\"\",\"offsetgroup\":\"6\",\"opacity\":1,\"showlegend\":false,\"x\":[\"CANCER\\u003cbr\\u003e |V|=5, |E|=4\",\"EARTHQUAKE\\u003cbr\\u003e |V|=5, |E|=4\",\"SURVEY\\u003cbr\\u003e |V|=6, |E|=6\",\"ASIA\\u003cbr\\u003e |V|=8, |E|=8\"],\"y\":[0.0,0.0,0.0,0.0],\"type\":\"bar\"},{\"error_y\":{\"array\":[1.1,0.8875,1.01,0.9925],\"type\":\"data\",\"visible\":true},\"marker\":{\"color\":\"grey\"},\"name\":\"Random\",\"offsetgroup\":\"7\",\"opacity\":0.6,\"showlegend\":false,\"x\":[\"CANCER\\u003cbr\\u003e |V|=5, |E|=4\",\"EARTHQUAKE\\u003cbr\\u003e |V|=5, |E|=4\",\"SURVEY\\u003cbr\\u003e |V|=6, |E|=6\",\"ASIA\\u003cbr\\u003e |V|=8, |E|=8\"],\"y\":[2.815,2.64,2.9233333333333333,3.795],\"yaxis\":\"y2\",\"type\":\"bar\"},{\"error_y\":{\"array\":[0.47,0.06,0.6133333333333334,0.3475],\"type\":\"data\",\"visible\":true},\"marker\":{\"color\":\"#b85c00\"},\"name\":\"FGS\",\"offsetgroup\":\"8\",\"opacity\":0.6,\"showlegend\":false,\"x\":[\"CANCER\\u003cbr\\u003e |V|=5, |E|=4\",\"EARTHQUAKE\\u003cbr\\u003e |V|=5, |E|=4\",\"SURVEY\\u003cbr\\u003e |V|=6, |E|=6\",\"ASIA\\u003cbr\\u003e |V|=8, |E|=8\"],\"y\":[2.82,2.485,2.3766666666666665,4.77],\"yaxis\":\"y2\",\"type\":\"bar\"},{\"error_y\":{\"array\":[0.0975,1.51,0.0,1.09875],\"type\":\"data\",\"visible\":true},\"marker\":{\"color\":\"#9454c4\"},\"name\":\"NOTEARS-MLP\",\"offsetgroup\":\"9\",\"opacity\":0.6,\"showlegend\":false,\"x\":[\"CANCER\\u003cbr\\u003e |V|=5, |E|=4\",\"EARTHQUAKE\\u003cbr\\u003e |V|=5, |E|=4\",\"SURVEY\\u003cbr\\u003e |V|=6, |E|=6\",\"ASIA\\u003cbr\\u003e |V|=8, |E|=8\"],\"y\":[2.545,2.415,2.8333333333333335,3.955],\"yaxis\":\"y2\",\"type\":\"bar\"},{\"error_y\":{\"array\":[0.2125,0.1,0.06999999999999999,0.41375],\"type\":\"data\",\"visible\":true},\"marker\":{\"color\":\"#379f9f\"},\"name\":\"MPC\",\"offsetgroup\":\"10\",\"opacity\":0.6,\"showlegend\":false,\"x\":[\"CANCER\\u003cbr\\u003e |V|=5, |E|=4\",\"EARTHQUAKE\\u003cbr\\u003e |V|=5, |E|=4\",\"SURVEY\\u003cbr\\u003e |V|=6, |E|=6\",\"ASIA\\u003cbr\\u003e |V|=8, |E|=8\"],\"y\":[2.47,0.02,2.8433333333333333,1.9925],\"yaxis\":\"y2\",\"type\":\"bar\"},{\"error_y\":{\"array\":[0.865,0.5475,0.47500000000000003],\"type\":\"data\",\"visible\":true},\"marker\":{\"color\":\"#441469\"},\"name\":\"ASPCR\",\"offsetgroup\":\"11\",\"opacity\":0.6,\"showlegend\":false,\"x\":[\"CANCER\\u003cbr\\u003e |V|=5, |E|=4\",\"EARTHQUAKE\\u003cbr\\u003e |V|=5, |E|=4\",\"SURVEY\\u003cbr\\u003e |V|=6, |E|=6\"],\"y\":[2.41,4.535,2.7066666666666666],\"yaxis\":\"y2\",\"type\":\"bar\"},{\"error_y\":{\"array\":[0.7025,0.1475,0.585,1.32625],\"type\":\"data\",\"visible\":true},\"marker\":{\"color\":\"#0085CA\"},\"name\":\"ABAPC (Ours)\",\"offsetgroup\":\"12\",\"opacity\":0.6,\"showlegend\":false,\"x\":[\"CANCER\\u003cbr\\u003e |V|=5, |E|=4\",\"EARTHQUAKE\\u003cbr\\u003e |V|=5, |E|=4\",\"SURVEY\\u003cbr\\u003e |V|=6, |E|=6\",\"ASIA\\u003cbr\\u003e |V|=8, |E|=8\"],\"y\":[2.61,0.03,2.5966666666666667,2.5425],\"yaxis\":\"y2\",\"type\":\"bar\"}],                        {\"template\":{\"data\":{\"barpolar\":[{\"marker\":{\"line\":{\"color\":\"white\",\"width\":0.5},\"pattern\":{\"fillmode\":\"overlay\",\"size\":10,\"solidity\":0.2}},\"type\":\"barpolar\"}],\"bar\":[{\"error_x\":{\"color\":\"#2a3f5f\"},\"error_y\":{\"color\":\"#2a3f5f\"},\"marker\":{\"line\":{\"color\":\"white\",\"width\":0.5},\"pattern\":{\"fillmode\":\"overlay\",\"size\":10,\"solidity\":0.2}},\"type\":\"bar\"}],\"carpet\":[{\"aaxis\":{\"endlinecolor\":\"#2a3f5f\",\"gridcolor\":\"#C8D4E3\",\"linecolor\":\"#C8D4E3\",\"minorgridcolor\":\"#C8D4E3\",\"startlinecolor\":\"#2a3f5f\"},\"baxis\":{\"endlinecolor\":\"#2a3f5f\",\"gridcolor\":\"#C8D4E3\",\"linecolor\":\"#C8D4E3\",\"minorgridcolor\":\"#C8D4E3\",\"startlinecolor\":\"#2a3f5f\"},\"type\":\"carpet\"}],\"choropleth\":[{\"colorbar\":{\"outlinewidth\":0,\"ticks\":\"\"},\"type\":\"choropleth\"}],\"contourcarpet\":[{\"colorbar\":{\"outlinewidth\":0,\"ticks\":\"\"},\"type\":\"contourcarpet\"}],\"contour\":[{\"colorbar\":{\"outlinewidth\":0,\"ticks\":\"\"},\"colorscale\":[[0.0,\"#0d0887\"],[0.1111111111111111,\"#46039f\"],[0.2222222222222222,\"#7201a8\"],[0.3333333333333333,\"#9c179e\"],[0.4444444444444444,\"#bd3786\"],[0.5555555555555556,\"#d8576b\"],[0.6666666666666666,\"#ed7953\"],[0.7777777777777778,\"#fb9f3a\"],[0.8888888888888888,\"#fdca26\"],[1.0,\"#f0f921\"]],\"type\":\"contour\"}],\"heatmapgl\":[{\"colorbar\":{\"outlinewidth\":0,\"ticks\":\"\"},\"colorscale\":[[0.0,\"#0d0887\"],[0.1111111111111111,\"#46039f\"],[0.2222222222222222,\"#7201a8\"],[0.3333333333333333,\"#9c179e\"],[0.4444444444444444,\"#bd3786\"],[0.5555555555555556,\"#d8576b\"],[0.6666666666666666,\"#ed7953\"],[0.7777777777777778,\"#fb9f3a\"],[0.8888888888888888,\"#fdca26\"],[1.0,\"#f0f921\"]],\"type\":\"heatmapgl\"}],\"heatmap\":[{\"colorbar\":{\"outlinewidth\":0,\"ticks\":\"\"},\"colorscale\":[[0.0,\"#0d0887\"],[0.1111111111111111,\"#46039f\"],[0.2222222222222222,\"#7201a8\"],[0.3333333333333333,\"#9c179e\"],[0.4444444444444444,\"#bd3786\"],[0.5555555555555556,\"#d8576b\"],[0.6666666666666666,\"#ed7953\"],[0.7777777777777778,\"#fb9f3a\"],[0.8888888888888888,\"#fdca26\"],[1.0,\"#f0f921\"]],\"type\":\"heatmap\"}],\"histogram2dcontour\":[{\"colorbar\":{\"outlinewidth\":0,\"ticks\":\"\"},\"colorscale\":[[0.0,\"#0d0887\"],[0.1111111111111111,\"#46039f\"],[0.2222222222222222,\"#7201a8\"],[0.3333333333333333,\"#9c179e\"],[0.4444444444444444,\"#bd3786\"],[0.5555555555555556,\"#d8576b\"],[0.6666666666666666,\"#ed7953\"],[0.7777777777777778,\"#fb9f3a\"],[0.8888888888888888,\"#fdca26\"],[1.0,\"#f0f921\"]],\"type\":\"histogram2dcontour\"}],\"histogram2d\":[{\"colorbar\":{\"outlinewidth\":0,\"ticks\":\"\"},\"colorscale\":[[0.0,\"#0d0887\"],[0.1111111111111111,\"#46039f\"],[0.2222222222222222,\"#7201a8\"],[0.3333333333333333,\"#9c179e\"],[0.4444444444444444,\"#bd3786\"],[0.5555555555555556,\"#d8576b\"],[0.6666666666666666,\"#ed7953\"],[0.7777777777777778,\"#fb9f3a\"],[0.8888888888888888,\"#fdca26\"],[1.0,\"#f0f921\"]],\"type\":\"histogram2d\"}],\"histogram\":[{\"marker\":{\"pattern\":{\"fillmode\":\"overlay\",\"size\":10,\"solidity\":0.2}},\"type\":\"histogram\"}],\"mesh3d\":[{\"colorbar\":{\"outlinewidth\":0,\"ticks\":\"\"},\"type\":\"mesh3d\"}],\"parcoords\":[{\"line\":{\"colorbar\":{\"outlinewidth\":0,\"ticks\":\"\"}},\"type\":\"parcoords\"}],\"pie\":[{\"automargin\":true,\"type\":\"pie\"}],\"scatter3d\":[{\"line\":{\"colorbar\":{\"outlinewidth\":0,\"ticks\":\"\"}},\"marker\":{\"colorbar\":{\"outlinewidth\":0,\"ticks\":\"\"}},\"type\":\"scatter3d\"}],\"scattercarpet\":[{\"marker\":{\"colorbar\":{\"outlinewidth\":0,\"ticks\":\"\"}},\"type\":\"scattercarpet\"}],\"scattergeo\":[{\"marker\":{\"colorbar\":{\"outlinewidth\":0,\"ticks\":\"\"}},\"type\":\"scattergeo\"}],\"scattergl\":[{\"marker\":{\"colorbar\":{\"outlinewidth\":0,\"ticks\":\"\"}},\"type\":\"scattergl\"}],\"scattermapbox\":[{\"marker\":{\"colorbar\":{\"outlinewidth\":0,\"ticks\":\"\"}},\"type\":\"scattermapbox\"}],\"scatterpolargl\":[{\"marker\":{\"colorbar\":{\"outlinewidth\":0,\"ticks\":\"\"}},\"type\":\"scatterpolargl\"}],\"scatterpolar\":[{\"marker\":{\"colorbar\":{\"outlinewidth\":0,\"ticks\":\"\"}},\"type\":\"scatterpolar\"}],\"scatter\":[{\"fillpattern\":{\"fillmode\":\"overlay\",\"size\":10,\"solidity\":0.2},\"type\":\"scatter\"}],\"scatterternary\":[{\"marker\":{\"colorbar\":{\"outlinewidth\":0,\"ticks\":\"\"}},\"type\":\"scatterternary\"}],\"surface\":[{\"colorbar\":{\"outlinewidth\":0,\"ticks\":\"\"},\"colorscale\":[[0.0,\"#0d0887\"],[0.1111111111111111,\"#46039f\"],[0.2222222222222222,\"#7201a8\"],[0.3333333333333333,\"#9c179e\"],[0.4444444444444444,\"#bd3786\"],[0.5555555555555556,\"#d8576b\"],[0.6666666666666666,\"#ed7953\"],[0.7777777777777778,\"#fb9f3a\"],[0.8888888888888888,\"#fdca26\"],[1.0,\"#f0f921\"]],\"type\":\"surface\"}],\"table\":[{\"cells\":{\"fill\":{\"color\":\"#EBF0F8\"},\"line\":{\"color\":\"white\"}},\"header\":{\"fill\":{\"color\":\"#C8D4E3\"},\"line\":{\"color\":\"white\"}},\"type\":\"table\"}]},\"layout\":{\"annotationdefaults\":{\"arrowcolor\":\"#2a3f5f\",\"arrowhead\":0,\"arrowwidth\":1},\"autotypenumbers\":\"strict\",\"coloraxis\":{\"colorbar\":{\"outlinewidth\":0,\"ticks\":\"\"}},\"colorscale\":{\"diverging\":[[0,\"#8e0152\"],[0.1,\"#c51b7d\"],[0.2,\"#de77ae\"],[0.3,\"#f1b6da\"],[0.4,\"#fde0ef\"],[0.5,\"#f7f7f7\"],[0.6,\"#e6f5d0\"],[0.7,\"#b8e186\"],[0.8,\"#7fbc41\"],[0.9,\"#4d9221\"],[1,\"#276419\"]],\"sequential\":[[0.0,\"#0d0887\"],[0.1111111111111111,\"#46039f\"],[0.2222222222222222,\"#7201a8\"],[0.3333333333333333,\"#9c179e\"],[0.4444444444444444,\"#bd3786\"],[0.5555555555555556,\"#d8576b\"],[0.6666666666666666,\"#ed7953\"],[0.7777777777777778,\"#fb9f3a\"],[0.8888888888888888,\"#fdca26\"],[1.0,\"#f0f921\"]],\"sequentialminus\":[[0.0,\"#0d0887\"],[0.1111111111111111,\"#46039f\"],[0.2222222222222222,\"#7201a8\"],[0.3333333333333333,\"#9c179e\"],[0.4444444444444444,\"#bd3786\"],[0.5555555555555556,\"#d8576b\"],[0.6666666666666666,\"#ed7953\"],[0.7777777777777778,\"#fb9f3a\"],[0.8888888888888888,\"#fdca26\"],[1.0,\"#f0f921\"]]},\"colorway\":[\"#636efa\",\"#EF553B\",\"#00cc96\",\"#ab63fa\",\"#FFA15A\",\"#19d3f3\",\"#FF6692\",\"#B6E880\",\"#FF97FF\",\"#FECB52\"],\"font\":{\"color\":\"#2a3f5f\"},\"geo\":{\"bgcolor\":\"white\",\"lakecolor\":\"white\",\"landcolor\":\"white\",\"showlakes\":true,\"showland\":true,\"subunitcolor\":\"#C8D4E3\"},\"hoverlabel\":{\"align\":\"left\"},\"hovermode\":\"closest\",\"mapbox\":{\"style\":\"light\"},\"paper_bgcolor\":\"white\",\"plot_bgcolor\":\"white\",\"polar\":{\"angularaxis\":{\"gridcolor\":\"#EBF0F8\",\"linecolor\":\"#EBF0F8\",\"ticks\":\"\"},\"bgcolor\":\"white\",\"radialaxis\":{\"gridcolor\":\"#EBF0F8\",\"linecolor\":\"#EBF0F8\",\"ticks\":\"\"}},\"scene\":{\"xaxis\":{\"backgroundcolor\":\"white\",\"gridcolor\":\"#DFE8F3\",\"gridwidth\":2,\"linecolor\":\"#EBF0F8\",\"showbackground\":true,\"ticks\":\"\",\"zerolinecolor\":\"#EBF0F8\"},\"yaxis\":{\"backgroundcolor\":\"white\",\"gridcolor\":\"#DFE8F3\",\"gridwidth\":2,\"linecolor\":\"#EBF0F8\",\"showbackground\":true,\"ticks\":\"\",\"zerolinecolor\":\"#EBF0F8\"},\"zaxis\":{\"backgroundcolor\":\"white\",\"gridcolor\":\"#DFE8F3\",\"gridwidth\":2,\"linecolor\":\"#EBF0F8\",\"showbackground\":true,\"ticks\":\"\",\"zerolinecolor\":\"#EBF0F8\"}},\"shapedefaults\":{\"line\":{\"color\":\"#2a3f5f\"}},\"ternary\":{\"aaxis\":{\"gridcolor\":\"#DFE8F3\",\"linecolor\":\"#A2B1C6\",\"ticks\":\"\"},\"baxis\":{\"gridcolor\":\"#DFE8F3\",\"linecolor\":\"#A2B1C6\",\"ticks\":\"\"},\"bgcolor\":\"white\",\"caxis\":{\"gridcolor\":\"#DFE8F3\",\"linecolor\":\"#A2B1C6\",\"ticks\":\"\"}},\"title\":{\"x\":0.05},\"xaxis\":{\"automargin\":true,\"gridcolor\":\"#EBF0F8\",\"linecolor\":\"#EBF0F8\",\"ticks\":\"\",\"title\":{\"standoff\":15},\"zerolinecolor\":\"#EBF0F8\",\"zerolinewidth\":2},\"yaxis\":{\"automargin\":true,\"gridcolor\":\"#EBF0F8\",\"linecolor\":\"#EBF0F8\",\"ticks\":\"\",\"title\":{\"standoff\":15},\"zerolinecolor\":\"#EBF0F8\",\"zerolinewidth\":2}}},\"xaxis\":{\"anchor\":\"y\",\"domain\":[0.0,0.94]},\"yaxis\":{\"anchor\":\"x\",\"domain\":[0.0,1.0],\"title\":{\"font\":{\"size\":20},\"text\":\"Normalised SHD = SHD \\u002f Number of Edges in DAG\"},\"range\":[0,2]},\"yaxis2\":{\"anchor\":\"x\",\"overlaying\":\"y\",\"side\":\"right\",\"scaleanchor\":0,\"showline\":false,\"showgrid\":false,\"showticklabels\":true,\"zeroline\":true,\"title\":{\"font\":{\"size\":20},\"text\":\"Normalised SID = SID \\u002f Number of Edges in DAG\"},\"range\":[0,5.6]},\"legend\":{\"orientation\":\"h\",\"xanchor\":\"center\",\"x\":0.5,\"yanchor\":\"top\",\"y\":1.1},\"margin\":{\"l\":40,\"r\":0,\"b\":70,\"t\":20},\"font\":{\"size\":20,\"family\":\"Serif\",\"color\":\"black\"},\"barmode\":\"group\",\"bargap\":0.15,\"bargroupgap\":0.1,\"width\":1600,\"height\":700,\"hovermode\":\"x unified\",\"annotations\":[{\"font\":{\"color\":\"Black\",\"family\":\"Serif\",\"size\":20},\"showarrow\":false,\"text\":\"Dataset:\",\"x\":0,\"xanchor\":\"center\",\"xref\":\"paper\",\"y\":-0.08,\"yanchor\":\"bottom\",\"yref\":\"paper\"},{\"bgcolor\":\"#E5ECF6\",\"bordercolor\":\"#E5ECF6\",\"borderwidth\":2,\"font\":{\"color\":\"black\",\"size\":20},\"opacity\":0.8,\"showarrow\":false,\"text\":\"         NSHD         \",\"x\":0.017,\"xanchor\":\"left\",\"xref\":\"x domain\",\"y\":1.015,\"yref\":\"y domain\"},{\"bgcolor\":\"#E5ECF6\",\"bordercolor\":\"#E5ECF6\",\"borderwidth\":2,\"font\":{\"color\":\"black\",\"size\":20},\"opacity\":0.8,\"showarrow\":false,\"text\":\"         NSID         \",\"x\":0.137,\"xanchor\":\"left\",\"xref\":\"x domain\",\"y\":1.015,\"yref\":\"y domain\"},{\"bgcolor\":\"#E5ECF6\",\"bordercolor\":\"#E5ECF6\",\"borderwidth\":2,\"font\":{\"color\":\"black\",\"size\":20},\"opacity\":0.8,\"showarrow\":false,\"text\":\"         NSHD         \",\"x\":0.267,\"xanchor\":\"left\",\"xref\":\"x domain\",\"y\":1.015,\"yref\":\"y domain\"},{\"bgcolor\":\"#E5ECF6\",\"bordercolor\":\"#E5ECF6\",\"borderwidth\":2,\"font\":{\"color\":\"black\",\"size\":20},\"opacity\":0.8,\"showarrow\":false,\"text\":\"         NSID         \",\"x\":0.387,\"xanchor\":\"left\",\"xref\":\"x domain\",\"y\":1.015,\"yref\":\"y domain\"},{\"bgcolor\":\"#E5ECF6\",\"bordercolor\":\"#E5ECF6\",\"borderwidth\":2,\"font\":{\"color\":\"black\",\"size\":20},\"opacity\":0.8,\"showarrow\":false,\"text\":\"         NSHD         \",\"x\":0.517,\"xanchor\":\"left\",\"xref\":\"x domain\",\"y\":1.015,\"yref\":\"y domain\"},{\"bgcolor\":\"#E5ECF6\",\"bordercolor\":\"#E5ECF6\",\"borderwidth\":2,\"font\":{\"color\":\"black\",\"size\":20},\"opacity\":0.8,\"showarrow\":false,\"text\":\"         NSID         \",\"x\":0.637,\"xanchor\":\"left\",\"xref\":\"x domain\",\"y\":1.015,\"yref\":\"y domain\"},{\"bgcolor\":\"#E5ECF6\",\"bordercolor\":\"#E5ECF6\",\"borderwidth\":2,\"font\":{\"color\":\"black\",\"size\":20},\"opacity\":0.8,\"showarrow\":false,\"text\":\"         NSHD         \",\"x\":0.767,\"xanchor\":\"left\",\"xref\":\"x domain\",\"y\":1.015,\"yref\":\"y domain\"},{\"bgcolor\":\"#E5ECF6\",\"bordercolor\":\"#E5ECF6\",\"borderwidth\":2,\"font\":{\"color\":\"black\",\"size\":20},\"opacity\":0.8,\"showarrow\":false,\"text\":\"         NSID         \",\"x\":0.887,\"xanchor\":\"left\",\"xref\":\"x domain\",\"y\":1.015,\"yref\":\"y domain\"}]},                        {\"responsive\": true}                    ).then(function(){\n",
       "                            \n",
       "var gd = document.getElementById('80a30bcf-1694-4485-95b5-0ad8346a4749');\n",
       "var x = new MutationObserver(function (mutations, observer) {{\n",
       "        var display = window.getComputedStyle(gd).display;\n",
       "        if (!display || display === 'none') {{\n",
       "            console.log([gd, 'removed!']);\n",
       "            Plotly.purge(gd);\n",
       "            observer.disconnect();\n",
       "        }}\n",
       "}});\n",
       "\n",
       "// Listen for the removal of the full notebook cells\n",
       "var notebookContainer = gd.closest('#notebook-container');\n",
       "if (notebookContainer) {{\n",
       "    x.observe(notebookContainer, {childList: true});\n",
       "}}\n",
       "\n",
       "// Listen for the clearing of the current output cell\n",
       "var outputEl = gd.closest('.output');\n",
       "if (outputEl) {{\n",
       "    x.observe(outputEl, {childList: true});\n",
       "}}\n",
       "\n",
       "                        })                };                });            </script>        </div>"
      ]
     },
     "metadata": {},
     "output_type": "display_data"
    },
    {
     "data": {
      "application/vnd.plotly.v1+json": {
       "config": {
        "plotlyServerURL": "https://plot.ly"
       },
       "data": [
        {
         "error_y": {
          "array": [
           0,
           0,
           0,
           0
          ],
          "type": "data",
          "visible": true
         },
         "marker": {
          "color": "grey"
         },
         "name": "True Graph Size",
         "opacity": 0.6,
         "type": "bar",
         "x": [
          "CANCER<br> |V|=5, |E|=4",
          "EARTHQUAKE<br> |V|=5, |E|=4",
          "SURVEY<br> |V|=6, |E|=6",
          "ASIA<br> |V|=8, |E|=8"
         ],
         "y": [
          4,
          4,
          6,
          8
         ]
        },
        {
         "error_y": {
          "array": [
           0.47,
           0.64,
           0.84,
           0.77
          ],
          "type": "data",
          "visible": true
         },
         "marker": {
          "color": "#b85c00"
         },
         "name": "FGS",
         "opacity": 0.6,
         "type": "bar",
         "x": [
          "CANCER<br> |V|=5, |E|=4",
          "EARTHQUAKE<br> |V|=5, |E|=4",
          "SURVEY<br> |V|=6, |E|=6",
          "ASIA<br> |V|=8, |E|=8"
         ],
         "y": [
          3.68,
          4.62,
          3.3,
          7.68
         ]
        },
        {
         "error_y": {
          "array": [
           0.39,
           0.24,
           0,
           0.36
          ],
          "type": "data",
          "visible": true
         },
         "marker": {
          "color": "#9454c4"
         },
         "name": "NOTEARS-MLP",
         "opacity": 0.6,
         "type": "bar",
         "x": [
          "CANCER<br> |V|=5, |E|=4",
          "EARTHQUAKE<br> |V|=5, |E|=4",
          "SURVEY<br> |V|=6, |E|=6",
          "ASIA<br> |V|=8, |E|=8"
         ],
         "y": [
          0.18,
          3.94,
          0,
          6.1
         ]
        },
        {
         "error_y": {
          "array": [
           0.92,
           0.49,
           0.71,
           0.83
          ],
          "type": "data",
          "visible": true
         },
         "marker": {
          "color": "#379f9f"
         },
         "name": "MPC",
         "opacity": 0.6,
         "type": "bar",
         "x": [
          "CANCER<br> |V|=5, |E|=4",
          "EARTHQUAKE<br> |V|=5, |E|=4",
          "SURVEY<br> |V|=6, |E|=6",
          "ASIA<br> |V|=8, |E|=8"
         ],
         "y": [
          0.26,
          4.6,
          0.1,
          3.14
         ]
        },
        {
         "error_y": {
          "array": [
           0.65,
           0.77,
           0.83
          ],
          "type": "data",
          "visible": true
         },
         "marker": {
          "color": "#441469"
         },
         "name": "ASPCR",
         "opacity": 0.6,
         "type": "bar",
         "x": [
          "CANCER<br> |V|=5, |E|=4",
          "EARTHQUAKE<br> |V|=5, |E|=4",
          "SURVEY<br> |V|=6, |E|=6"
         ],
         "y": [
          2.54,
          3.82,
          1.6
         ]
        },
        {
         "error_y": {
          "array": [
           0.67,
           0.58,
           0.8,
           0.84
          ],
          "type": "data",
          "visible": true
         },
         "marker": {
          "color": "#0085CA"
         },
         "name": "ABAPC (Ours)",
         "opacity": 0.6,
         "type": "bar",
         "x": [
          "CANCER<br> |V|=5, |E|=4",
          "EARTHQUAKE<br> |V|=5, |E|=4",
          "SURVEY<br> |V|=6, |E|=6",
          "ASIA<br> |V|=8, |E|=8"
         ],
         "y": [
          3.92,
          4.56,
          3.92,
          8.44
         ]
        }
       ],
       "layout": {
        "annotations": [
         {
          "font": {
           "color": "Black",
           "family": "Serif",
           "size": 20
          },
          "showarrow": false,
          "text": "Dataset:",
          "x": 0,
          "xanchor": "center",
          "xref": "paper",
          "y": -0.05,
          "yanchor": "bottom",
          "yref": "paper"
         }
        ],
        "bargap": 0.15,
        "bargroupgap": 0.1,
        "barmode": "group",
        "font": {
         "color": "black",
         "family": "Serif",
         "size": 20
        },
        "height": 700,
        "hovermode": "x unified",
        "legend": {
         "orientation": "h",
         "x": 0.5,
         "xanchor": "center",
         "y": 1,
         "yanchor": "top"
        },
        "margin": {
         "b": 80,
         "l": 40,
         "r": 40,
         "t": 20
        },
        "template": {
         "data": {
          "bar": [
           {
            "error_x": {
             "color": "#2a3f5f"
            },
            "error_y": {
             "color": "#2a3f5f"
            },
            "marker": {
             "line": {
              "color": "white",
              "width": 0.5
             },
             "pattern": {
              "fillmode": "overlay",
              "size": 10,
              "solidity": 0.2
             }
            },
            "type": "bar"
           }
          ],
          "barpolar": [
           {
            "marker": {
             "line": {
              "color": "white",
              "width": 0.5
             },
             "pattern": {
              "fillmode": "overlay",
              "size": 10,
              "solidity": 0.2
             }
            },
            "type": "barpolar"
           }
          ],
          "carpet": [
           {
            "aaxis": {
             "endlinecolor": "#2a3f5f",
             "gridcolor": "#C8D4E3",
             "linecolor": "#C8D4E3",
             "minorgridcolor": "#C8D4E3",
             "startlinecolor": "#2a3f5f"
            },
            "baxis": {
             "endlinecolor": "#2a3f5f",
             "gridcolor": "#C8D4E3",
             "linecolor": "#C8D4E3",
             "minorgridcolor": "#C8D4E3",
             "startlinecolor": "#2a3f5f"
            },
            "type": "carpet"
           }
          ],
          "choropleth": [
           {
            "colorbar": {
             "outlinewidth": 0,
             "ticks": ""
            },
            "type": "choropleth"
           }
          ],
          "contour": [
           {
            "colorbar": {
             "outlinewidth": 0,
             "ticks": ""
            },
            "colorscale": [
             [
              0,
              "#0d0887"
             ],
             [
              0.1111111111111111,
              "#46039f"
             ],
             [
              0.2222222222222222,
              "#7201a8"
             ],
             [
              0.3333333333333333,
              "#9c179e"
             ],
             [
              0.4444444444444444,
              "#bd3786"
             ],
             [
              0.5555555555555556,
              "#d8576b"
             ],
             [
              0.6666666666666666,
              "#ed7953"
             ],
             [
              0.7777777777777778,
              "#fb9f3a"
             ],
             [
              0.8888888888888888,
              "#fdca26"
             ],
             [
              1,
              "#f0f921"
             ]
            ],
            "type": "contour"
           }
          ],
          "contourcarpet": [
           {
            "colorbar": {
             "outlinewidth": 0,
             "ticks": ""
            },
            "type": "contourcarpet"
           }
          ],
          "heatmap": [
           {
            "colorbar": {
             "outlinewidth": 0,
             "ticks": ""
            },
            "colorscale": [
             [
              0,
              "#0d0887"
             ],
             [
              0.1111111111111111,
              "#46039f"
             ],
             [
              0.2222222222222222,
              "#7201a8"
             ],
             [
              0.3333333333333333,
              "#9c179e"
             ],
             [
              0.4444444444444444,
              "#bd3786"
             ],
             [
              0.5555555555555556,
              "#d8576b"
             ],
             [
              0.6666666666666666,
              "#ed7953"
             ],
             [
              0.7777777777777778,
              "#fb9f3a"
             ],
             [
              0.8888888888888888,
              "#fdca26"
             ],
             [
              1,
              "#f0f921"
             ]
            ],
            "type": "heatmap"
           }
          ],
          "heatmapgl": [
           {
            "colorbar": {
             "outlinewidth": 0,
             "ticks": ""
            },
            "colorscale": [
             [
              0,
              "#0d0887"
             ],
             [
              0.1111111111111111,
              "#46039f"
             ],
             [
              0.2222222222222222,
              "#7201a8"
             ],
             [
              0.3333333333333333,
              "#9c179e"
             ],
             [
              0.4444444444444444,
              "#bd3786"
             ],
             [
              0.5555555555555556,
              "#d8576b"
             ],
             [
              0.6666666666666666,
              "#ed7953"
             ],
             [
              0.7777777777777778,
              "#fb9f3a"
             ],
             [
              0.8888888888888888,
              "#fdca26"
             ],
             [
              1,
              "#f0f921"
             ]
            ],
            "type": "heatmapgl"
           }
          ],
          "histogram": [
           {
            "marker": {
             "pattern": {
              "fillmode": "overlay",
              "size": 10,
              "solidity": 0.2
             }
            },
            "type": "histogram"
           }
          ],
          "histogram2d": [
           {
            "colorbar": {
             "outlinewidth": 0,
             "ticks": ""
            },
            "colorscale": [
             [
              0,
              "#0d0887"
             ],
             [
              0.1111111111111111,
              "#46039f"
             ],
             [
              0.2222222222222222,
              "#7201a8"
             ],
             [
              0.3333333333333333,
              "#9c179e"
             ],
             [
              0.4444444444444444,
              "#bd3786"
             ],
             [
              0.5555555555555556,
              "#d8576b"
             ],
             [
              0.6666666666666666,
              "#ed7953"
             ],
             [
              0.7777777777777778,
              "#fb9f3a"
             ],
             [
              0.8888888888888888,
              "#fdca26"
             ],
             [
              1,
              "#f0f921"
             ]
            ],
            "type": "histogram2d"
           }
          ],
          "histogram2dcontour": [
           {
            "colorbar": {
             "outlinewidth": 0,
             "ticks": ""
            },
            "colorscale": [
             [
              0,
              "#0d0887"
             ],
             [
              0.1111111111111111,
              "#46039f"
             ],
             [
              0.2222222222222222,
              "#7201a8"
             ],
             [
              0.3333333333333333,
              "#9c179e"
             ],
             [
              0.4444444444444444,
              "#bd3786"
             ],
             [
              0.5555555555555556,
              "#d8576b"
             ],
             [
              0.6666666666666666,
              "#ed7953"
             ],
             [
              0.7777777777777778,
              "#fb9f3a"
             ],
             [
              0.8888888888888888,
              "#fdca26"
             ],
             [
              1,
              "#f0f921"
             ]
            ],
            "type": "histogram2dcontour"
           }
          ],
          "mesh3d": [
           {
            "colorbar": {
             "outlinewidth": 0,
             "ticks": ""
            },
            "type": "mesh3d"
           }
          ],
          "parcoords": [
           {
            "line": {
             "colorbar": {
              "outlinewidth": 0,
              "ticks": ""
             }
            },
            "type": "parcoords"
           }
          ],
          "pie": [
           {
            "automargin": true,
            "type": "pie"
           }
          ],
          "scatter": [
           {
            "fillpattern": {
             "fillmode": "overlay",
             "size": 10,
             "solidity": 0.2
            },
            "type": "scatter"
           }
          ],
          "scatter3d": [
           {
            "line": {
             "colorbar": {
              "outlinewidth": 0,
              "ticks": ""
             }
            },
            "marker": {
             "colorbar": {
              "outlinewidth": 0,
              "ticks": ""
             }
            },
            "type": "scatter3d"
           }
          ],
          "scattercarpet": [
           {
            "marker": {
             "colorbar": {
              "outlinewidth": 0,
              "ticks": ""
             }
            },
            "type": "scattercarpet"
           }
          ],
          "scattergeo": [
           {
            "marker": {
             "colorbar": {
              "outlinewidth": 0,
              "ticks": ""
             }
            },
            "type": "scattergeo"
           }
          ],
          "scattergl": [
           {
            "marker": {
             "colorbar": {
              "outlinewidth": 0,
              "ticks": ""
             }
            },
            "type": "scattergl"
           }
          ],
          "scattermapbox": [
           {
            "marker": {
             "colorbar": {
              "outlinewidth": 0,
              "ticks": ""
             }
            },
            "type": "scattermapbox"
           }
          ],
          "scatterpolar": [
           {
            "marker": {
             "colorbar": {
              "outlinewidth": 0,
              "ticks": ""
             }
            },
            "type": "scatterpolar"
           }
          ],
          "scatterpolargl": [
           {
            "marker": {
             "colorbar": {
              "outlinewidth": 0,
              "ticks": ""
             }
            },
            "type": "scatterpolargl"
           }
          ],
          "scatterternary": [
           {
            "marker": {
             "colorbar": {
              "outlinewidth": 0,
              "ticks": ""
             }
            },
            "type": "scatterternary"
           }
          ],
          "surface": [
           {
            "colorbar": {
             "outlinewidth": 0,
             "ticks": ""
            },
            "colorscale": [
             [
              0,
              "#0d0887"
             ],
             [
              0.1111111111111111,
              "#46039f"
             ],
             [
              0.2222222222222222,
              "#7201a8"
             ],
             [
              0.3333333333333333,
              "#9c179e"
             ],
             [
              0.4444444444444444,
              "#bd3786"
             ],
             [
              0.5555555555555556,
              "#d8576b"
             ],
             [
              0.6666666666666666,
              "#ed7953"
             ],
             [
              0.7777777777777778,
              "#fb9f3a"
             ],
             [
              0.8888888888888888,
              "#fdca26"
             ],
             [
              1,
              "#f0f921"
             ]
            ],
            "type": "surface"
           }
          ],
          "table": [
           {
            "cells": {
             "fill": {
              "color": "#EBF0F8"
             },
             "line": {
              "color": "white"
             }
            },
            "header": {
             "fill": {
              "color": "#C8D4E3"
             },
             "line": {
              "color": "white"
             }
            },
            "type": "table"
           }
          ]
         },
         "layout": {
          "annotationdefaults": {
           "arrowcolor": "#2a3f5f",
           "arrowhead": 0,
           "arrowwidth": 1
          },
          "autotypenumbers": "strict",
          "coloraxis": {
           "colorbar": {
            "outlinewidth": 0,
            "ticks": ""
           }
          },
          "colorscale": {
           "diverging": [
            [
             0,
             "#8e0152"
            ],
            [
             0.1,
             "#c51b7d"
            ],
            [
             0.2,
             "#de77ae"
            ],
            [
             0.3,
             "#f1b6da"
            ],
            [
             0.4,
             "#fde0ef"
            ],
            [
             0.5,
             "#f7f7f7"
            ],
            [
             0.6,
             "#e6f5d0"
            ],
            [
             0.7,
             "#b8e186"
            ],
            [
             0.8,
             "#7fbc41"
            ],
            [
             0.9,
             "#4d9221"
            ],
            [
             1,
             "#276419"
            ]
           ],
           "sequential": [
            [
             0,
             "#0d0887"
            ],
            [
             0.1111111111111111,
             "#46039f"
            ],
            [
             0.2222222222222222,
             "#7201a8"
            ],
            [
             0.3333333333333333,
             "#9c179e"
            ],
            [
             0.4444444444444444,
             "#bd3786"
            ],
            [
             0.5555555555555556,
             "#d8576b"
            ],
            [
             0.6666666666666666,
             "#ed7953"
            ],
            [
             0.7777777777777778,
             "#fb9f3a"
            ],
            [
             0.8888888888888888,
             "#fdca26"
            ],
            [
             1,
             "#f0f921"
            ]
           ],
           "sequentialminus": [
            [
             0,
             "#0d0887"
            ],
            [
             0.1111111111111111,
             "#46039f"
            ],
            [
             0.2222222222222222,
             "#7201a8"
            ],
            [
             0.3333333333333333,
             "#9c179e"
            ],
            [
             0.4444444444444444,
             "#bd3786"
            ],
            [
             0.5555555555555556,
             "#d8576b"
            ],
            [
             0.6666666666666666,
             "#ed7953"
            ],
            [
             0.7777777777777778,
             "#fb9f3a"
            ],
            [
             0.8888888888888888,
             "#fdca26"
            ],
            [
             1,
             "#f0f921"
            ]
           ]
          },
          "colorway": [
           "#636efa",
           "#EF553B",
           "#00cc96",
           "#ab63fa",
           "#FFA15A",
           "#19d3f3",
           "#FF6692",
           "#B6E880",
           "#FF97FF",
           "#FECB52"
          ],
          "font": {
           "color": "#2a3f5f"
          },
          "geo": {
           "bgcolor": "white",
           "lakecolor": "white",
           "landcolor": "white",
           "showlakes": true,
           "showland": true,
           "subunitcolor": "#C8D4E3"
          },
          "hoverlabel": {
           "align": "left"
          },
          "hovermode": "closest",
          "mapbox": {
           "style": "light"
          },
          "paper_bgcolor": "white",
          "plot_bgcolor": "white",
          "polar": {
           "angularaxis": {
            "gridcolor": "#EBF0F8",
            "linecolor": "#EBF0F8",
            "ticks": ""
           },
           "bgcolor": "white",
           "radialaxis": {
            "gridcolor": "#EBF0F8",
            "linecolor": "#EBF0F8",
            "ticks": ""
           }
          },
          "scene": {
           "xaxis": {
            "backgroundcolor": "white",
            "gridcolor": "#DFE8F3",
            "gridwidth": 2,
            "linecolor": "#EBF0F8",
            "showbackground": true,
            "ticks": "",
            "zerolinecolor": "#EBF0F8"
           },
           "yaxis": {
            "backgroundcolor": "white",
            "gridcolor": "#DFE8F3",
            "gridwidth": 2,
            "linecolor": "#EBF0F8",
            "showbackground": true,
            "ticks": "",
            "zerolinecolor": "#EBF0F8"
           },
           "zaxis": {
            "backgroundcolor": "white",
            "gridcolor": "#DFE8F3",
            "gridwidth": 2,
            "linecolor": "#EBF0F8",
            "showbackground": true,
            "ticks": "",
            "zerolinecolor": "#EBF0F8"
           }
          },
          "shapedefaults": {
           "line": {
            "color": "#2a3f5f"
           }
          },
          "ternary": {
           "aaxis": {
            "gridcolor": "#DFE8F3",
            "linecolor": "#A2B1C6",
            "ticks": ""
           },
           "baxis": {
            "gridcolor": "#DFE8F3",
            "linecolor": "#A2B1C6",
            "ticks": ""
           },
           "bgcolor": "white",
           "caxis": {
            "gridcolor": "#DFE8F3",
            "linecolor": "#A2B1C6",
            "ticks": ""
           }
          },
          "title": {
           "x": 0.05
          },
          "xaxis": {
           "automargin": true,
           "gridcolor": "#EBF0F8",
           "linecolor": "#EBF0F8",
           "ticks": "",
           "title": {
            "standoff": 15
           },
           "zerolinecolor": "#EBF0F8",
           "zerolinewidth": 2
          },
          "yaxis": {
           "automargin": true,
           "gridcolor": "#EBF0F8",
           "linecolor": "#EBF0F8",
           "ticks": "",
           "title": {
            "standoff": 15
           },
           "zerolinecolor": "#EBF0F8",
           "zerolinewidth": 2
          }
         }
        },
        "width": 1600,
        "yaxis": {
         "title": {
          "font": {
           "size": 20
          },
          "text": "Number of Edges in DAG"
         }
        }
       }
      },
      "text/html": [
       "<div>                            <div id=\"7ff9c856-f947-48f2-93a9-0a00634e2a01\" class=\"plotly-graph-div\" style=\"height:700px; width:1600px;\"></div>            <script type=\"text/javascript\">                require([\"plotly\"], function(Plotly) {                    window.PLOTLYENV=window.PLOTLYENV || {};                                    if (document.getElementById(\"7ff9c856-f947-48f2-93a9-0a00634e2a01\")) {                    Plotly.newPlot(                        \"7ff9c856-f947-48f2-93a9-0a00634e2a01\",                        [{\"error_y\":{\"array\":[0.0,0.0,0.0,0.0],\"type\":\"data\",\"visible\":true},\"marker\":{\"color\":\"grey\"},\"name\":\"True Graph Size\",\"opacity\":0.6,\"x\":[\"CANCER\\u003cbr\\u003e |V|=5, |E|=4\",\"EARTHQUAKE\\u003cbr\\u003e |V|=5, |E|=4\",\"SURVEY\\u003cbr\\u003e |V|=6, |E|=6\",\"ASIA\\u003cbr\\u003e |V|=8, |E|=8\"],\"y\":[4.0,4.0,6.0,8.0],\"type\":\"bar\"},{\"error_y\":{\"array\":[0.47,0.64,0.84,0.77],\"type\":\"data\",\"visible\":true},\"marker\":{\"color\":\"#b85c00\"},\"name\":\"FGS\",\"opacity\":0.6,\"x\":[\"CANCER\\u003cbr\\u003e |V|=5, |E|=4\",\"EARTHQUAKE\\u003cbr\\u003e |V|=5, |E|=4\",\"SURVEY\\u003cbr\\u003e |V|=6, |E|=6\",\"ASIA\\u003cbr\\u003e |V|=8, |E|=8\"],\"y\":[3.68,4.62,3.3,7.68],\"type\":\"bar\"},{\"error_y\":{\"array\":[0.39,0.24,0.0,0.36],\"type\":\"data\",\"visible\":true},\"marker\":{\"color\":\"#9454c4\"},\"name\":\"NOTEARS-MLP\",\"opacity\":0.6,\"x\":[\"CANCER\\u003cbr\\u003e |V|=5, |E|=4\",\"EARTHQUAKE\\u003cbr\\u003e |V|=5, |E|=4\",\"SURVEY\\u003cbr\\u003e |V|=6, |E|=6\",\"ASIA\\u003cbr\\u003e |V|=8, |E|=8\"],\"y\":[0.18,3.94,0.0,6.1],\"type\":\"bar\"},{\"error_y\":{\"array\":[0.92,0.49,0.71,0.83],\"type\":\"data\",\"visible\":true},\"marker\":{\"color\":\"#379f9f\"},\"name\":\"MPC\",\"opacity\":0.6,\"x\":[\"CANCER\\u003cbr\\u003e |V|=5, |E|=4\",\"EARTHQUAKE\\u003cbr\\u003e |V|=5, |E|=4\",\"SURVEY\\u003cbr\\u003e |V|=6, |E|=6\",\"ASIA\\u003cbr\\u003e |V|=8, |E|=8\"],\"y\":[0.26,4.6,0.1,3.14],\"type\":\"bar\"},{\"error_y\":{\"array\":[0.65,0.77,0.83],\"type\":\"data\",\"visible\":true},\"marker\":{\"color\":\"#441469\"},\"name\":\"ASPCR\",\"opacity\":0.6,\"x\":[\"CANCER\\u003cbr\\u003e |V|=5, |E|=4\",\"EARTHQUAKE\\u003cbr\\u003e |V|=5, |E|=4\",\"SURVEY\\u003cbr\\u003e |V|=6, |E|=6\"],\"y\":[2.54,3.82,1.6],\"type\":\"bar\"},{\"error_y\":{\"array\":[0.67,0.58,0.8,0.84],\"type\":\"data\",\"visible\":true},\"marker\":{\"color\":\"#0085CA\"},\"name\":\"ABAPC (Ours)\",\"opacity\":0.6,\"x\":[\"CANCER\\u003cbr\\u003e |V|=5, |E|=4\",\"EARTHQUAKE\\u003cbr\\u003e |V|=5, |E|=4\",\"SURVEY\\u003cbr\\u003e |V|=6, |E|=6\",\"ASIA\\u003cbr\\u003e |V|=8, |E|=8\"],\"y\":[3.92,4.56,3.92,8.44],\"type\":\"bar\"}],                        {\"template\":{\"data\":{\"barpolar\":[{\"marker\":{\"line\":{\"color\":\"white\",\"width\":0.5},\"pattern\":{\"fillmode\":\"overlay\",\"size\":10,\"solidity\":0.2}},\"type\":\"barpolar\"}],\"bar\":[{\"error_x\":{\"color\":\"#2a3f5f\"},\"error_y\":{\"color\":\"#2a3f5f\"},\"marker\":{\"line\":{\"color\":\"white\",\"width\":0.5},\"pattern\":{\"fillmode\":\"overlay\",\"size\":10,\"solidity\":0.2}},\"type\":\"bar\"}],\"carpet\":[{\"aaxis\":{\"endlinecolor\":\"#2a3f5f\",\"gridcolor\":\"#C8D4E3\",\"linecolor\":\"#C8D4E3\",\"minorgridcolor\":\"#C8D4E3\",\"startlinecolor\":\"#2a3f5f\"},\"baxis\":{\"endlinecolor\":\"#2a3f5f\",\"gridcolor\":\"#C8D4E3\",\"linecolor\":\"#C8D4E3\",\"minorgridcolor\":\"#C8D4E3\",\"startlinecolor\":\"#2a3f5f\"},\"type\":\"carpet\"}],\"choropleth\":[{\"colorbar\":{\"outlinewidth\":0,\"ticks\":\"\"},\"type\":\"choropleth\"}],\"contourcarpet\":[{\"colorbar\":{\"outlinewidth\":0,\"ticks\":\"\"},\"type\":\"contourcarpet\"}],\"contour\":[{\"colorbar\":{\"outlinewidth\":0,\"ticks\":\"\"},\"colorscale\":[[0.0,\"#0d0887\"],[0.1111111111111111,\"#46039f\"],[0.2222222222222222,\"#7201a8\"],[0.3333333333333333,\"#9c179e\"],[0.4444444444444444,\"#bd3786\"],[0.5555555555555556,\"#d8576b\"],[0.6666666666666666,\"#ed7953\"],[0.7777777777777778,\"#fb9f3a\"],[0.8888888888888888,\"#fdca26\"],[1.0,\"#f0f921\"]],\"type\":\"contour\"}],\"heatmapgl\":[{\"colorbar\":{\"outlinewidth\":0,\"ticks\":\"\"},\"colorscale\":[[0.0,\"#0d0887\"],[0.1111111111111111,\"#46039f\"],[0.2222222222222222,\"#7201a8\"],[0.3333333333333333,\"#9c179e\"],[0.4444444444444444,\"#bd3786\"],[0.5555555555555556,\"#d8576b\"],[0.6666666666666666,\"#ed7953\"],[0.7777777777777778,\"#fb9f3a\"],[0.8888888888888888,\"#fdca26\"],[1.0,\"#f0f921\"]],\"type\":\"heatmapgl\"}],\"heatmap\":[{\"colorbar\":{\"outlinewidth\":0,\"ticks\":\"\"},\"colorscale\":[[0.0,\"#0d0887\"],[0.1111111111111111,\"#46039f\"],[0.2222222222222222,\"#7201a8\"],[0.3333333333333333,\"#9c179e\"],[0.4444444444444444,\"#bd3786\"],[0.5555555555555556,\"#d8576b\"],[0.6666666666666666,\"#ed7953\"],[0.7777777777777778,\"#fb9f3a\"],[0.8888888888888888,\"#fdca26\"],[1.0,\"#f0f921\"]],\"type\":\"heatmap\"}],\"histogram2dcontour\":[{\"colorbar\":{\"outlinewidth\":0,\"ticks\":\"\"},\"colorscale\":[[0.0,\"#0d0887\"],[0.1111111111111111,\"#46039f\"],[0.2222222222222222,\"#7201a8\"],[0.3333333333333333,\"#9c179e\"],[0.4444444444444444,\"#bd3786\"],[0.5555555555555556,\"#d8576b\"],[0.6666666666666666,\"#ed7953\"],[0.7777777777777778,\"#fb9f3a\"],[0.8888888888888888,\"#fdca26\"],[1.0,\"#f0f921\"]],\"type\":\"histogram2dcontour\"}],\"histogram2d\":[{\"colorbar\":{\"outlinewidth\":0,\"ticks\":\"\"},\"colorscale\":[[0.0,\"#0d0887\"],[0.1111111111111111,\"#46039f\"],[0.2222222222222222,\"#7201a8\"],[0.3333333333333333,\"#9c179e\"],[0.4444444444444444,\"#bd3786\"],[0.5555555555555556,\"#d8576b\"],[0.6666666666666666,\"#ed7953\"],[0.7777777777777778,\"#fb9f3a\"],[0.8888888888888888,\"#fdca26\"],[1.0,\"#f0f921\"]],\"type\":\"histogram2d\"}],\"histogram\":[{\"marker\":{\"pattern\":{\"fillmode\":\"overlay\",\"size\":10,\"solidity\":0.2}},\"type\":\"histogram\"}],\"mesh3d\":[{\"colorbar\":{\"outlinewidth\":0,\"ticks\":\"\"},\"type\":\"mesh3d\"}],\"parcoords\":[{\"line\":{\"colorbar\":{\"outlinewidth\":0,\"ticks\":\"\"}},\"type\":\"parcoords\"}],\"pie\":[{\"automargin\":true,\"type\":\"pie\"}],\"scatter3d\":[{\"line\":{\"colorbar\":{\"outlinewidth\":0,\"ticks\":\"\"}},\"marker\":{\"colorbar\":{\"outlinewidth\":0,\"ticks\":\"\"}},\"type\":\"scatter3d\"}],\"scattercarpet\":[{\"marker\":{\"colorbar\":{\"outlinewidth\":0,\"ticks\":\"\"}},\"type\":\"scattercarpet\"}],\"scattergeo\":[{\"marker\":{\"colorbar\":{\"outlinewidth\":0,\"ticks\":\"\"}},\"type\":\"scattergeo\"}],\"scattergl\":[{\"marker\":{\"colorbar\":{\"outlinewidth\":0,\"ticks\":\"\"}},\"type\":\"scattergl\"}],\"scattermapbox\":[{\"marker\":{\"colorbar\":{\"outlinewidth\":0,\"ticks\":\"\"}},\"type\":\"scattermapbox\"}],\"scatterpolargl\":[{\"marker\":{\"colorbar\":{\"outlinewidth\":0,\"ticks\":\"\"}},\"type\":\"scatterpolargl\"}],\"scatterpolar\":[{\"marker\":{\"colorbar\":{\"outlinewidth\":0,\"ticks\":\"\"}},\"type\":\"scatterpolar\"}],\"scatter\":[{\"fillpattern\":{\"fillmode\":\"overlay\",\"size\":10,\"solidity\":0.2},\"type\":\"scatter\"}],\"scatterternary\":[{\"marker\":{\"colorbar\":{\"outlinewidth\":0,\"ticks\":\"\"}},\"type\":\"scatterternary\"}],\"surface\":[{\"colorbar\":{\"outlinewidth\":0,\"ticks\":\"\"},\"colorscale\":[[0.0,\"#0d0887\"],[0.1111111111111111,\"#46039f\"],[0.2222222222222222,\"#7201a8\"],[0.3333333333333333,\"#9c179e\"],[0.4444444444444444,\"#bd3786\"],[0.5555555555555556,\"#d8576b\"],[0.6666666666666666,\"#ed7953\"],[0.7777777777777778,\"#fb9f3a\"],[0.8888888888888888,\"#fdca26\"],[1.0,\"#f0f921\"]],\"type\":\"surface\"}],\"table\":[{\"cells\":{\"fill\":{\"color\":\"#EBF0F8\"},\"line\":{\"color\":\"white\"}},\"header\":{\"fill\":{\"color\":\"#C8D4E3\"},\"line\":{\"color\":\"white\"}},\"type\":\"table\"}]},\"layout\":{\"annotationdefaults\":{\"arrowcolor\":\"#2a3f5f\",\"arrowhead\":0,\"arrowwidth\":1},\"autotypenumbers\":\"strict\",\"coloraxis\":{\"colorbar\":{\"outlinewidth\":0,\"ticks\":\"\"}},\"colorscale\":{\"diverging\":[[0,\"#8e0152\"],[0.1,\"#c51b7d\"],[0.2,\"#de77ae\"],[0.3,\"#f1b6da\"],[0.4,\"#fde0ef\"],[0.5,\"#f7f7f7\"],[0.6,\"#e6f5d0\"],[0.7,\"#b8e186\"],[0.8,\"#7fbc41\"],[0.9,\"#4d9221\"],[1,\"#276419\"]],\"sequential\":[[0.0,\"#0d0887\"],[0.1111111111111111,\"#46039f\"],[0.2222222222222222,\"#7201a8\"],[0.3333333333333333,\"#9c179e\"],[0.4444444444444444,\"#bd3786\"],[0.5555555555555556,\"#d8576b\"],[0.6666666666666666,\"#ed7953\"],[0.7777777777777778,\"#fb9f3a\"],[0.8888888888888888,\"#fdca26\"],[1.0,\"#f0f921\"]],\"sequentialminus\":[[0.0,\"#0d0887\"],[0.1111111111111111,\"#46039f\"],[0.2222222222222222,\"#7201a8\"],[0.3333333333333333,\"#9c179e\"],[0.4444444444444444,\"#bd3786\"],[0.5555555555555556,\"#d8576b\"],[0.6666666666666666,\"#ed7953\"],[0.7777777777777778,\"#fb9f3a\"],[0.8888888888888888,\"#fdca26\"],[1.0,\"#f0f921\"]]},\"colorway\":[\"#636efa\",\"#EF553B\",\"#00cc96\",\"#ab63fa\",\"#FFA15A\",\"#19d3f3\",\"#FF6692\",\"#B6E880\",\"#FF97FF\",\"#FECB52\"],\"font\":{\"color\":\"#2a3f5f\"},\"geo\":{\"bgcolor\":\"white\",\"lakecolor\":\"white\",\"landcolor\":\"white\",\"showlakes\":true,\"showland\":true,\"subunitcolor\":\"#C8D4E3\"},\"hoverlabel\":{\"align\":\"left\"},\"hovermode\":\"closest\",\"mapbox\":{\"style\":\"light\"},\"paper_bgcolor\":\"white\",\"plot_bgcolor\":\"white\",\"polar\":{\"angularaxis\":{\"gridcolor\":\"#EBF0F8\",\"linecolor\":\"#EBF0F8\",\"ticks\":\"\"},\"bgcolor\":\"white\",\"radialaxis\":{\"gridcolor\":\"#EBF0F8\",\"linecolor\":\"#EBF0F8\",\"ticks\":\"\"}},\"scene\":{\"xaxis\":{\"backgroundcolor\":\"white\",\"gridcolor\":\"#DFE8F3\",\"gridwidth\":2,\"linecolor\":\"#EBF0F8\",\"showbackground\":true,\"ticks\":\"\",\"zerolinecolor\":\"#EBF0F8\"},\"yaxis\":{\"backgroundcolor\":\"white\",\"gridcolor\":\"#DFE8F3\",\"gridwidth\":2,\"linecolor\":\"#EBF0F8\",\"showbackground\":true,\"ticks\":\"\",\"zerolinecolor\":\"#EBF0F8\"},\"zaxis\":{\"backgroundcolor\":\"white\",\"gridcolor\":\"#DFE8F3\",\"gridwidth\":2,\"linecolor\":\"#EBF0F8\",\"showbackground\":true,\"ticks\":\"\",\"zerolinecolor\":\"#EBF0F8\"}},\"shapedefaults\":{\"line\":{\"color\":\"#2a3f5f\"}},\"ternary\":{\"aaxis\":{\"gridcolor\":\"#DFE8F3\",\"linecolor\":\"#A2B1C6\",\"ticks\":\"\"},\"baxis\":{\"gridcolor\":\"#DFE8F3\",\"linecolor\":\"#A2B1C6\",\"ticks\":\"\"},\"bgcolor\":\"white\",\"caxis\":{\"gridcolor\":\"#DFE8F3\",\"linecolor\":\"#A2B1C6\",\"ticks\":\"\"}},\"title\":{\"x\":0.05},\"xaxis\":{\"automargin\":true,\"gridcolor\":\"#EBF0F8\",\"linecolor\":\"#EBF0F8\",\"ticks\":\"\",\"title\":{\"standoff\":15},\"zerolinecolor\":\"#EBF0F8\",\"zerolinewidth\":2},\"yaxis\":{\"automargin\":true,\"gridcolor\":\"#EBF0F8\",\"linecolor\":\"#EBF0F8\",\"ticks\":\"\",\"title\":{\"standoff\":15},\"zerolinecolor\":\"#EBF0F8\",\"zerolinewidth\":2}}},\"legend\":{\"orientation\":\"h\",\"xanchor\":\"center\",\"x\":0.5,\"yanchor\":\"top\",\"y\":1},\"margin\":{\"l\":40,\"r\":40,\"b\":80,\"t\":20},\"font\":{\"size\":20,\"family\":\"Serif\",\"color\":\"black\"},\"barmode\":\"group\",\"bargap\":0.15,\"bargroupgap\":0.1,\"width\":1600,\"height\":700,\"hovermode\":\"x unified\",\"annotations\":[{\"font\":{\"color\":\"Black\",\"family\":\"Serif\",\"size\":20},\"showarrow\":false,\"text\":\"Dataset:\",\"x\":0,\"xanchor\":\"center\",\"xref\":\"paper\",\"y\":-0.05,\"yanchor\":\"bottom\",\"yref\":\"paper\"}],\"yaxis\":{\"title\":{\"font\":{\"size\":20},\"text\":\"Number of Edges in DAG\"}}},                        {\"responsive\": true}                    ).then(function(){\n",
       "                            \n",
       "var gd = document.getElementById('7ff9c856-f947-48f2-93a9-0a00634e2a01');\n",
       "var x = new MutationObserver(function (mutations, observer) {{\n",
       "        var display = window.getComputedStyle(gd).display;\n",
       "        if (!display || display === 'none') {{\n",
       "            console.log([gd, 'removed!']);\n",
       "            Plotly.purge(gd);\n",
       "            observer.disconnect();\n",
       "        }}\n",
       "}});\n",
       "\n",
       "// Listen for the removal of the full notebook cells\n",
       "var notebookContainer = gd.closest('#notebook-container');\n",
       "if (notebookContainer) {{\n",
       "    x.observe(notebookContainer, {childList: true});\n",
       "}}\n",
       "\n",
       "// Listen for the clearing of the current output cell\n",
       "var outputEl = gd.closest('.output');\n",
       "if (outputEl) {{\n",
       "    x.observe(outputEl, {childList: true});\n",
       "}}\n",
       "\n",
       "                        })                };                });            </script>        </div>"
      ]
     },
     "metadata": {},
     "output_type": "display_data"
    },
    {
     "data": {
      "application/vnd.plotly.v1+json": {
       "config": {
        "plotlyServerURL": "https://plot.ly"
       },
       "data": [
        {
         "error_y": {
          "array": [
           0.16,
           0.1,
           0.14,
           0.08
          ],
          "type": "data",
          "visible": true
         },
         "marker": {
          "color": "grey"
         },
         "name": "Random",
         "opacity": 0.6,
         "type": "bar",
         "x": [
          "CANCER<br> |V|=5, |E|=4",
          "EARTHQUAKE<br> |V|=5, |E|=4",
          "SURVEY<br> |V|=6, |E|=6",
          "ASIA<br> |V|=8, |E|=8"
         ],
         "y": [
          0.36,
          0.29,
          0.28,
          0.19
         ]
        },
        {
         "error_y": {
          "array": [
           0.1,
           0.03,
           0.1,
           0.04
          ],
          "type": "data",
          "visible": true
         },
         "marker": {
          "color": "#b85c00"
         },
         "name": "FGS",
         "opacity": 0.6,
         "type": "bar",
         "x": [
          "CANCER<br> |V|=5, |E|=4",
          "EARTHQUAKE<br> |V|=5, |E|=4",
          "SURVEY<br> |V|=6, |E|=6",
          "ASIA<br> |V|=8, |E|=8"
         ],
         "y": [
          0.43,
          0.47,
          0.27,
          0.25
         ]
        },
        {
         "error_y": {
          "array": [
           null,
           0.28,
           null,
           0.16
          ],
          "type": "data",
          "visible": true
         },
         "marker": {
          "color": "#9454c4"
         },
         "name": "NOTEARS-MLP",
         "opacity": 0.6,
         "type": "bar",
         "x": [
          "CANCER<br> |V|=5, |E|=4",
          "EARTHQUAKE<br> |V|=5, |E|=4",
          "SURVEY<br> |V|=6, |E|=6",
          "ASIA<br> |V|=8, |E|=8"
         ],
         "y": [
          null,
          0.54,
          null,
          0.33
         ]
        },
        {
         "error_y": {
          "array": [
           0.04,
           0.08,
           null,
           0.08
          ],
          "type": "data",
          "visible": true
         },
         "marker": {
          "color": "#379f9f"
         },
         "name": "MPC",
         "opacity": 0.6,
         "type": "bar",
         "x": [
          "CANCER<br> |V|=5, |E|=4",
          "EARTHQUAKE<br> |V|=5, |E|=4",
          "SURVEY<br> |V|=6, |E|=6",
          "ASIA<br> |V|=8, |E|=8"
         ],
         "y": [
          0.52,
          0.92,
          0.36,
          0.56
         ]
        },
        {
         "error_y": {
          "array": [
           0.17,
           null,
           0.1
          ],
          "type": "data",
          "visible": true
         },
         "marker": {
          "color": "#441469"
         },
         "name": "ASPCR",
         "opacity": 0.6,
         "type": "bar",
         "x": [
          "CANCER<br> |V|=5, |E|=4",
          "EARTHQUAKE<br> |V|=5, |E|=4",
          "SURVEY<br> |V|=6, |E|=6"
         ],
         "y": [
          0.43,
          0.22,
          0.32
         ]
        },
        {
         "error_y": {
          "array": [
           0.13,
           0.09,
           0.13,
           0.18
          ],
          "type": "data",
          "visible": true
         },
         "marker": {
          "color": "#0085CA"
         },
         "name": "ABAPC (Ours)",
         "opacity": 0.6,
         "type": "bar",
         "x": [
          "CANCER<br> |V|=5, |E|=4",
          "EARTHQUAKE<br> |V|=5, |E|=4",
          "SURVEY<br> |V|=6, |E|=6",
          "ASIA<br> |V|=8, |E|=8"
         ],
         "y": [
          0.44,
          0.93,
          0.37,
          0.56
         ]
        }
       ],
       "layout": {
        "annotations": [
         {
          "font": {
           "color": "Black",
           "family": "Serif",
           "size": 20
          },
          "showarrow": false,
          "text": "Dataset:",
          "x": 0,
          "xanchor": "center",
          "xref": "paper",
          "y": -0.05,
          "yanchor": "bottom",
          "yref": "paper"
         }
        ],
        "bargap": 0.15,
        "bargroupgap": 0.1,
        "barmode": "group",
        "font": {
         "color": "black",
         "family": "Serif",
         "size": 20
        },
        "height": 700,
        "hovermode": "x unified",
        "legend": {
         "orientation": "h",
         "x": 0.5,
         "xanchor": "center",
         "y": 1,
         "yanchor": "top"
        },
        "margin": {
         "b": 80,
         "l": 40,
         "r": 40,
         "t": 20
        },
        "template": {
         "data": {
          "bar": [
           {
            "error_x": {
             "color": "#2a3f5f"
            },
            "error_y": {
             "color": "#2a3f5f"
            },
            "marker": {
             "line": {
              "color": "white",
              "width": 0.5
             },
             "pattern": {
              "fillmode": "overlay",
              "size": 10,
              "solidity": 0.2
             }
            },
            "type": "bar"
           }
          ],
          "barpolar": [
           {
            "marker": {
             "line": {
              "color": "white",
              "width": 0.5
             },
             "pattern": {
              "fillmode": "overlay",
              "size": 10,
              "solidity": 0.2
             }
            },
            "type": "barpolar"
           }
          ],
          "carpet": [
           {
            "aaxis": {
             "endlinecolor": "#2a3f5f",
             "gridcolor": "#C8D4E3",
             "linecolor": "#C8D4E3",
             "minorgridcolor": "#C8D4E3",
             "startlinecolor": "#2a3f5f"
            },
            "baxis": {
             "endlinecolor": "#2a3f5f",
             "gridcolor": "#C8D4E3",
             "linecolor": "#C8D4E3",
             "minorgridcolor": "#C8D4E3",
             "startlinecolor": "#2a3f5f"
            },
            "type": "carpet"
           }
          ],
          "choropleth": [
           {
            "colorbar": {
             "outlinewidth": 0,
             "ticks": ""
            },
            "type": "choropleth"
           }
          ],
          "contour": [
           {
            "colorbar": {
             "outlinewidth": 0,
             "ticks": ""
            },
            "colorscale": [
             [
              0,
              "#0d0887"
             ],
             [
              0.1111111111111111,
              "#46039f"
             ],
             [
              0.2222222222222222,
              "#7201a8"
             ],
             [
              0.3333333333333333,
              "#9c179e"
             ],
             [
              0.4444444444444444,
              "#bd3786"
             ],
             [
              0.5555555555555556,
              "#d8576b"
             ],
             [
              0.6666666666666666,
              "#ed7953"
             ],
             [
              0.7777777777777778,
              "#fb9f3a"
             ],
             [
              0.8888888888888888,
              "#fdca26"
             ],
             [
              1,
              "#f0f921"
             ]
            ],
            "type": "contour"
           }
          ],
          "contourcarpet": [
           {
            "colorbar": {
             "outlinewidth": 0,
             "ticks": ""
            },
            "type": "contourcarpet"
           }
          ],
          "heatmap": [
           {
            "colorbar": {
             "outlinewidth": 0,
             "ticks": ""
            },
            "colorscale": [
             [
              0,
              "#0d0887"
             ],
             [
              0.1111111111111111,
              "#46039f"
             ],
             [
              0.2222222222222222,
              "#7201a8"
             ],
             [
              0.3333333333333333,
              "#9c179e"
             ],
             [
              0.4444444444444444,
              "#bd3786"
             ],
             [
              0.5555555555555556,
              "#d8576b"
             ],
             [
              0.6666666666666666,
              "#ed7953"
             ],
             [
              0.7777777777777778,
              "#fb9f3a"
             ],
             [
              0.8888888888888888,
              "#fdca26"
             ],
             [
              1,
              "#f0f921"
             ]
            ],
            "type": "heatmap"
           }
          ],
          "heatmapgl": [
           {
            "colorbar": {
             "outlinewidth": 0,
             "ticks": ""
            },
            "colorscale": [
             [
              0,
              "#0d0887"
             ],
             [
              0.1111111111111111,
              "#46039f"
             ],
             [
              0.2222222222222222,
              "#7201a8"
             ],
             [
              0.3333333333333333,
              "#9c179e"
             ],
             [
              0.4444444444444444,
              "#bd3786"
             ],
             [
              0.5555555555555556,
              "#d8576b"
             ],
             [
              0.6666666666666666,
              "#ed7953"
             ],
             [
              0.7777777777777778,
              "#fb9f3a"
             ],
             [
              0.8888888888888888,
              "#fdca26"
             ],
             [
              1,
              "#f0f921"
             ]
            ],
            "type": "heatmapgl"
           }
          ],
          "histogram": [
           {
            "marker": {
             "pattern": {
              "fillmode": "overlay",
              "size": 10,
              "solidity": 0.2
             }
            },
            "type": "histogram"
           }
          ],
          "histogram2d": [
           {
            "colorbar": {
             "outlinewidth": 0,
             "ticks": ""
            },
            "colorscale": [
             [
              0,
              "#0d0887"
             ],
             [
              0.1111111111111111,
              "#46039f"
             ],
             [
              0.2222222222222222,
              "#7201a8"
             ],
             [
              0.3333333333333333,
              "#9c179e"
             ],
             [
              0.4444444444444444,
              "#bd3786"
             ],
             [
              0.5555555555555556,
              "#d8576b"
             ],
             [
              0.6666666666666666,
              "#ed7953"
             ],
             [
              0.7777777777777778,
              "#fb9f3a"
             ],
             [
              0.8888888888888888,
              "#fdca26"
             ],
             [
              1,
              "#f0f921"
             ]
            ],
            "type": "histogram2d"
           }
          ],
          "histogram2dcontour": [
           {
            "colorbar": {
             "outlinewidth": 0,
             "ticks": ""
            },
            "colorscale": [
             [
              0,
              "#0d0887"
             ],
             [
              0.1111111111111111,
              "#46039f"
             ],
             [
              0.2222222222222222,
              "#7201a8"
             ],
             [
              0.3333333333333333,
              "#9c179e"
             ],
             [
              0.4444444444444444,
              "#bd3786"
             ],
             [
              0.5555555555555556,
              "#d8576b"
             ],
             [
              0.6666666666666666,
              "#ed7953"
             ],
             [
              0.7777777777777778,
              "#fb9f3a"
             ],
             [
              0.8888888888888888,
              "#fdca26"
             ],
             [
              1,
              "#f0f921"
             ]
            ],
            "type": "histogram2dcontour"
           }
          ],
          "mesh3d": [
           {
            "colorbar": {
             "outlinewidth": 0,
             "ticks": ""
            },
            "type": "mesh3d"
           }
          ],
          "parcoords": [
           {
            "line": {
             "colorbar": {
              "outlinewidth": 0,
              "ticks": ""
             }
            },
            "type": "parcoords"
           }
          ],
          "pie": [
           {
            "automargin": true,
            "type": "pie"
           }
          ],
          "scatter": [
           {
            "fillpattern": {
             "fillmode": "overlay",
             "size": 10,
             "solidity": 0.2
            },
            "type": "scatter"
           }
          ],
          "scatter3d": [
           {
            "line": {
             "colorbar": {
              "outlinewidth": 0,
              "ticks": ""
             }
            },
            "marker": {
             "colorbar": {
              "outlinewidth": 0,
              "ticks": ""
             }
            },
            "type": "scatter3d"
           }
          ],
          "scattercarpet": [
           {
            "marker": {
             "colorbar": {
              "outlinewidth": 0,
              "ticks": ""
             }
            },
            "type": "scattercarpet"
           }
          ],
          "scattergeo": [
           {
            "marker": {
             "colorbar": {
              "outlinewidth": 0,
              "ticks": ""
             }
            },
            "type": "scattergeo"
           }
          ],
          "scattergl": [
           {
            "marker": {
             "colorbar": {
              "outlinewidth": 0,
              "ticks": ""
             }
            },
            "type": "scattergl"
           }
          ],
          "scattermapbox": [
           {
            "marker": {
             "colorbar": {
              "outlinewidth": 0,
              "ticks": ""
             }
            },
            "type": "scattermapbox"
           }
          ],
          "scatterpolar": [
           {
            "marker": {
             "colorbar": {
              "outlinewidth": 0,
              "ticks": ""
             }
            },
            "type": "scatterpolar"
           }
          ],
          "scatterpolargl": [
           {
            "marker": {
             "colorbar": {
              "outlinewidth": 0,
              "ticks": ""
             }
            },
            "type": "scatterpolargl"
           }
          ],
          "scatterternary": [
           {
            "marker": {
             "colorbar": {
              "outlinewidth": 0,
              "ticks": ""
             }
            },
            "type": "scatterternary"
           }
          ],
          "surface": [
           {
            "colorbar": {
             "outlinewidth": 0,
             "ticks": ""
            },
            "colorscale": [
             [
              0,
              "#0d0887"
             ],
             [
              0.1111111111111111,
              "#46039f"
             ],
             [
              0.2222222222222222,
              "#7201a8"
             ],
             [
              0.3333333333333333,
              "#9c179e"
             ],
             [
              0.4444444444444444,
              "#bd3786"
             ],
             [
              0.5555555555555556,
              "#d8576b"
             ],
             [
              0.6666666666666666,
              "#ed7953"
             ],
             [
              0.7777777777777778,
              "#fb9f3a"
             ],
             [
              0.8888888888888888,
              "#fdca26"
             ],
             [
              1,
              "#f0f921"
             ]
            ],
            "type": "surface"
           }
          ],
          "table": [
           {
            "cells": {
             "fill": {
              "color": "#EBF0F8"
             },
             "line": {
              "color": "white"
             }
            },
            "header": {
             "fill": {
              "color": "#C8D4E3"
             },
             "line": {
              "color": "white"
             }
            },
            "type": "table"
           }
          ]
         },
         "layout": {
          "annotationdefaults": {
           "arrowcolor": "#2a3f5f",
           "arrowhead": 0,
           "arrowwidth": 1
          },
          "autotypenumbers": "strict",
          "coloraxis": {
           "colorbar": {
            "outlinewidth": 0,
            "ticks": ""
           }
          },
          "colorscale": {
           "diverging": [
            [
             0,
             "#8e0152"
            ],
            [
             0.1,
             "#c51b7d"
            ],
            [
             0.2,
             "#de77ae"
            ],
            [
             0.3,
             "#f1b6da"
            ],
            [
             0.4,
             "#fde0ef"
            ],
            [
             0.5,
             "#f7f7f7"
            ],
            [
             0.6,
             "#e6f5d0"
            ],
            [
             0.7,
             "#b8e186"
            ],
            [
             0.8,
             "#7fbc41"
            ],
            [
             0.9,
             "#4d9221"
            ],
            [
             1,
             "#276419"
            ]
           ],
           "sequential": [
            [
             0,
             "#0d0887"
            ],
            [
             0.1111111111111111,
             "#46039f"
            ],
            [
             0.2222222222222222,
             "#7201a8"
            ],
            [
             0.3333333333333333,
             "#9c179e"
            ],
            [
             0.4444444444444444,
             "#bd3786"
            ],
            [
             0.5555555555555556,
             "#d8576b"
            ],
            [
             0.6666666666666666,
             "#ed7953"
            ],
            [
             0.7777777777777778,
             "#fb9f3a"
            ],
            [
             0.8888888888888888,
             "#fdca26"
            ],
            [
             1,
             "#f0f921"
            ]
           ],
           "sequentialminus": [
            [
             0,
             "#0d0887"
            ],
            [
             0.1111111111111111,
             "#46039f"
            ],
            [
             0.2222222222222222,
             "#7201a8"
            ],
            [
             0.3333333333333333,
             "#9c179e"
            ],
            [
             0.4444444444444444,
             "#bd3786"
            ],
            [
             0.5555555555555556,
             "#d8576b"
            ],
            [
             0.6666666666666666,
             "#ed7953"
            ],
            [
             0.7777777777777778,
             "#fb9f3a"
            ],
            [
             0.8888888888888888,
             "#fdca26"
            ],
            [
             1,
             "#f0f921"
            ]
           ]
          },
          "colorway": [
           "#636efa",
           "#EF553B",
           "#00cc96",
           "#ab63fa",
           "#FFA15A",
           "#19d3f3",
           "#FF6692",
           "#B6E880",
           "#FF97FF",
           "#FECB52"
          ],
          "font": {
           "color": "#2a3f5f"
          },
          "geo": {
           "bgcolor": "white",
           "lakecolor": "white",
           "landcolor": "white",
           "showlakes": true,
           "showland": true,
           "subunitcolor": "#C8D4E3"
          },
          "hoverlabel": {
           "align": "left"
          },
          "hovermode": "closest",
          "mapbox": {
           "style": "light"
          },
          "paper_bgcolor": "white",
          "plot_bgcolor": "white",
          "polar": {
           "angularaxis": {
            "gridcolor": "#EBF0F8",
            "linecolor": "#EBF0F8",
            "ticks": ""
           },
           "bgcolor": "white",
           "radialaxis": {
            "gridcolor": "#EBF0F8",
            "linecolor": "#EBF0F8",
            "ticks": ""
           }
          },
          "scene": {
           "xaxis": {
            "backgroundcolor": "white",
            "gridcolor": "#DFE8F3",
            "gridwidth": 2,
            "linecolor": "#EBF0F8",
            "showbackground": true,
            "ticks": "",
            "zerolinecolor": "#EBF0F8"
           },
           "yaxis": {
            "backgroundcolor": "white",
            "gridcolor": "#DFE8F3",
            "gridwidth": 2,
            "linecolor": "#EBF0F8",
            "showbackground": true,
            "ticks": "",
            "zerolinecolor": "#EBF0F8"
           },
           "zaxis": {
            "backgroundcolor": "white",
            "gridcolor": "#DFE8F3",
            "gridwidth": 2,
            "linecolor": "#EBF0F8",
            "showbackground": true,
            "ticks": "",
            "zerolinecolor": "#EBF0F8"
           }
          },
          "shapedefaults": {
           "line": {
            "color": "#2a3f5f"
           }
          },
          "ternary": {
           "aaxis": {
            "gridcolor": "#DFE8F3",
            "linecolor": "#A2B1C6",
            "ticks": ""
           },
           "baxis": {
            "gridcolor": "#DFE8F3",
            "linecolor": "#A2B1C6",
            "ticks": ""
           },
           "bgcolor": "white",
           "caxis": {
            "gridcolor": "#DFE8F3",
            "linecolor": "#A2B1C6",
            "ticks": ""
           }
          },
          "title": {
           "x": 0.05
          },
          "xaxis": {
           "automargin": true,
           "gridcolor": "#EBF0F8",
           "linecolor": "#EBF0F8",
           "ticks": "",
           "title": {
            "standoff": 15
           },
           "zerolinecolor": "#EBF0F8",
           "zerolinewidth": 2
          },
          "yaxis": {
           "automargin": true,
           "gridcolor": "#EBF0F8",
           "linecolor": "#EBF0F8",
           "ticks": "",
           "title": {
            "standoff": 15
           },
           "zerolinecolor": "#EBF0F8",
           "zerolinewidth": 2
          }
         }
        },
        "width": 1600,
        "yaxis": {
         "title": {
          "font": {
           "size": 20
          },
          "text": "F1"
         }
        }
       }
      },
      "text/html": [
       "<div>                            <div id=\"b10743a0-e841-496d-8933-adf073a88c9f\" class=\"plotly-graph-div\" style=\"height:700px; width:1600px;\"></div>            <script type=\"text/javascript\">                require([\"plotly\"], function(Plotly) {                    window.PLOTLYENV=window.PLOTLYENV || {};                                    if (document.getElementById(\"b10743a0-e841-496d-8933-adf073a88c9f\")) {                    Plotly.newPlot(                        \"b10743a0-e841-496d-8933-adf073a88c9f\",                        [{\"error_y\":{\"array\":[0.16,0.1,0.14,0.08],\"type\":\"data\",\"visible\":true},\"marker\":{\"color\":\"grey\"},\"name\":\"Random\",\"opacity\":0.6,\"x\":[\"CANCER\\u003cbr\\u003e |V|=5, |E|=4\",\"EARTHQUAKE\\u003cbr\\u003e |V|=5, |E|=4\",\"SURVEY\\u003cbr\\u003e |V|=6, |E|=6\",\"ASIA\\u003cbr\\u003e |V|=8, |E|=8\"],\"y\":[0.36,0.29,0.28,0.19],\"type\":\"bar\"},{\"error_y\":{\"array\":[0.1,0.03,0.1,0.04],\"type\":\"data\",\"visible\":true},\"marker\":{\"color\":\"#b85c00\"},\"name\":\"FGS\",\"opacity\":0.6,\"x\":[\"CANCER\\u003cbr\\u003e |V|=5, |E|=4\",\"EARTHQUAKE\\u003cbr\\u003e |V|=5, |E|=4\",\"SURVEY\\u003cbr\\u003e |V|=6, |E|=6\",\"ASIA\\u003cbr\\u003e |V|=8, |E|=8\"],\"y\":[0.43,0.47,0.27,0.25],\"type\":\"bar\"},{\"error_y\":{\"array\":[null,0.28,null,0.16],\"type\":\"data\",\"visible\":true},\"marker\":{\"color\":\"#9454c4\"},\"name\":\"NOTEARS-MLP\",\"opacity\":0.6,\"x\":[\"CANCER\\u003cbr\\u003e |V|=5, |E|=4\",\"EARTHQUAKE\\u003cbr\\u003e |V|=5, |E|=4\",\"SURVEY\\u003cbr\\u003e |V|=6, |E|=6\",\"ASIA\\u003cbr\\u003e |V|=8, |E|=8\"],\"y\":[null,0.54,null,0.33],\"type\":\"bar\"},{\"error_y\":{\"array\":[0.04,0.08,null,0.08],\"type\":\"data\",\"visible\":true},\"marker\":{\"color\":\"#379f9f\"},\"name\":\"MPC\",\"opacity\":0.6,\"x\":[\"CANCER\\u003cbr\\u003e |V|=5, |E|=4\",\"EARTHQUAKE\\u003cbr\\u003e |V|=5, |E|=4\",\"SURVEY\\u003cbr\\u003e |V|=6, |E|=6\",\"ASIA\\u003cbr\\u003e |V|=8, |E|=8\"],\"y\":[0.52,0.92,0.36,0.56],\"type\":\"bar\"},{\"error_y\":{\"array\":[0.17,null,0.1],\"type\":\"data\",\"visible\":true},\"marker\":{\"color\":\"#441469\"},\"name\":\"ASPCR\",\"opacity\":0.6,\"x\":[\"CANCER\\u003cbr\\u003e |V|=5, |E|=4\",\"EARTHQUAKE\\u003cbr\\u003e |V|=5, |E|=4\",\"SURVEY\\u003cbr\\u003e |V|=6, |E|=6\"],\"y\":[0.43,0.22,0.32],\"type\":\"bar\"},{\"error_y\":{\"array\":[0.13,0.09,0.13,0.18],\"type\":\"data\",\"visible\":true},\"marker\":{\"color\":\"#0085CA\"},\"name\":\"ABAPC (Ours)\",\"opacity\":0.6,\"x\":[\"CANCER\\u003cbr\\u003e |V|=5, |E|=4\",\"EARTHQUAKE\\u003cbr\\u003e |V|=5, |E|=4\",\"SURVEY\\u003cbr\\u003e |V|=6, |E|=6\",\"ASIA\\u003cbr\\u003e |V|=8, |E|=8\"],\"y\":[0.44,0.93,0.37,0.56],\"type\":\"bar\"}],                        {\"template\":{\"data\":{\"barpolar\":[{\"marker\":{\"line\":{\"color\":\"white\",\"width\":0.5},\"pattern\":{\"fillmode\":\"overlay\",\"size\":10,\"solidity\":0.2}},\"type\":\"barpolar\"}],\"bar\":[{\"error_x\":{\"color\":\"#2a3f5f\"},\"error_y\":{\"color\":\"#2a3f5f\"},\"marker\":{\"line\":{\"color\":\"white\",\"width\":0.5},\"pattern\":{\"fillmode\":\"overlay\",\"size\":10,\"solidity\":0.2}},\"type\":\"bar\"}],\"carpet\":[{\"aaxis\":{\"endlinecolor\":\"#2a3f5f\",\"gridcolor\":\"#C8D4E3\",\"linecolor\":\"#C8D4E3\",\"minorgridcolor\":\"#C8D4E3\",\"startlinecolor\":\"#2a3f5f\"},\"baxis\":{\"endlinecolor\":\"#2a3f5f\",\"gridcolor\":\"#C8D4E3\",\"linecolor\":\"#C8D4E3\",\"minorgridcolor\":\"#C8D4E3\",\"startlinecolor\":\"#2a3f5f\"},\"type\":\"carpet\"}],\"choropleth\":[{\"colorbar\":{\"outlinewidth\":0,\"ticks\":\"\"},\"type\":\"choropleth\"}],\"contourcarpet\":[{\"colorbar\":{\"outlinewidth\":0,\"ticks\":\"\"},\"type\":\"contourcarpet\"}],\"contour\":[{\"colorbar\":{\"outlinewidth\":0,\"ticks\":\"\"},\"colorscale\":[[0.0,\"#0d0887\"],[0.1111111111111111,\"#46039f\"],[0.2222222222222222,\"#7201a8\"],[0.3333333333333333,\"#9c179e\"],[0.4444444444444444,\"#bd3786\"],[0.5555555555555556,\"#d8576b\"],[0.6666666666666666,\"#ed7953\"],[0.7777777777777778,\"#fb9f3a\"],[0.8888888888888888,\"#fdca26\"],[1.0,\"#f0f921\"]],\"type\":\"contour\"}],\"heatmapgl\":[{\"colorbar\":{\"outlinewidth\":0,\"ticks\":\"\"},\"colorscale\":[[0.0,\"#0d0887\"],[0.1111111111111111,\"#46039f\"],[0.2222222222222222,\"#7201a8\"],[0.3333333333333333,\"#9c179e\"],[0.4444444444444444,\"#bd3786\"],[0.5555555555555556,\"#d8576b\"],[0.6666666666666666,\"#ed7953\"],[0.7777777777777778,\"#fb9f3a\"],[0.8888888888888888,\"#fdca26\"],[1.0,\"#f0f921\"]],\"type\":\"heatmapgl\"}],\"heatmap\":[{\"colorbar\":{\"outlinewidth\":0,\"ticks\":\"\"},\"colorscale\":[[0.0,\"#0d0887\"],[0.1111111111111111,\"#46039f\"],[0.2222222222222222,\"#7201a8\"],[0.3333333333333333,\"#9c179e\"],[0.4444444444444444,\"#bd3786\"],[0.5555555555555556,\"#d8576b\"],[0.6666666666666666,\"#ed7953\"],[0.7777777777777778,\"#fb9f3a\"],[0.8888888888888888,\"#fdca26\"],[1.0,\"#f0f921\"]],\"type\":\"heatmap\"}],\"histogram2dcontour\":[{\"colorbar\":{\"outlinewidth\":0,\"ticks\":\"\"},\"colorscale\":[[0.0,\"#0d0887\"],[0.1111111111111111,\"#46039f\"],[0.2222222222222222,\"#7201a8\"],[0.3333333333333333,\"#9c179e\"],[0.4444444444444444,\"#bd3786\"],[0.5555555555555556,\"#d8576b\"],[0.6666666666666666,\"#ed7953\"],[0.7777777777777778,\"#fb9f3a\"],[0.8888888888888888,\"#fdca26\"],[1.0,\"#f0f921\"]],\"type\":\"histogram2dcontour\"}],\"histogram2d\":[{\"colorbar\":{\"outlinewidth\":0,\"ticks\":\"\"},\"colorscale\":[[0.0,\"#0d0887\"],[0.1111111111111111,\"#46039f\"],[0.2222222222222222,\"#7201a8\"],[0.3333333333333333,\"#9c179e\"],[0.4444444444444444,\"#bd3786\"],[0.5555555555555556,\"#d8576b\"],[0.6666666666666666,\"#ed7953\"],[0.7777777777777778,\"#fb9f3a\"],[0.8888888888888888,\"#fdca26\"],[1.0,\"#f0f921\"]],\"type\":\"histogram2d\"}],\"histogram\":[{\"marker\":{\"pattern\":{\"fillmode\":\"overlay\",\"size\":10,\"solidity\":0.2}},\"type\":\"histogram\"}],\"mesh3d\":[{\"colorbar\":{\"outlinewidth\":0,\"ticks\":\"\"},\"type\":\"mesh3d\"}],\"parcoords\":[{\"line\":{\"colorbar\":{\"outlinewidth\":0,\"ticks\":\"\"}},\"type\":\"parcoords\"}],\"pie\":[{\"automargin\":true,\"type\":\"pie\"}],\"scatter3d\":[{\"line\":{\"colorbar\":{\"outlinewidth\":0,\"ticks\":\"\"}},\"marker\":{\"colorbar\":{\"outlinewidth\":0,\"ticks\":\"\"}},\"type\":\"scatter3d\"}],\"scattercarpet\":[{\"marker\":{\"colorbar\":{\"outlinewidth\":0,\"ticks\":\"\"}},\"type\":\"scattercarpet\"}],\"scattergeo\":[{\"marker\":{\"colorbar\":{\"outlinewidth\":0,\"ticks\":\"\"}},\"type\":\"scattergeo\"}],\"scattergl\":[{\"marker\":{\"colorbar\":{\"outlinewidth\":0,\"ticks\":\"\"}},\"type\":\"scattergl\"}],\"scattermapbox\":[{\"marker\":{\"colorbar\":{\"outlinewidth\":0,\"ticks\":\"\"}},\"type\":\"scattermapbox\"}],\"scatterpolargl\":[{\"marker\":{\"colorbar\":{\"outlinewidth\":0,\"ticks\":\"\"}},\"type\":\"scatterpolargl\"}],\"scatterpolar\":[{\"marker\":{\"colorbar\":{\"outlinewidth\":0,\"ticks\":\"\"}},\"type\":\"scatterpolar\"}],\"scatter\":[{\"fillpattern\":{\"fillmode\":\"overlay\",\"size\":10,\"solidity\":0.2},\"type\":\"scatter\"}],\"scatterternary\":[{\"marker\":{\"colorbar\":{\"outlinewidth\":0,\"ticks\":\"\"}},\"type\":\"scatterternary\"}],\"surface\":[{\"colorbar\":{\"outlinewidth\":0,\"ticks\":\"\"},\"colorscale\":[[0.0,\"#0d0887\"],[0.1111111111111111,\"#46039f\"],[0.2222222222222222,\"#7201a8\"],[0.3333333333333333,\"#9c179e\"],[0.4444444444444444,\"#bd3786\"],[0.5555555555555556,\"#d8576b\"],[0.6666666666666666,\"#ed7953\"],[0.7777777777777778,\"#fb9f3a\"],[0.8888888888888888,\"#fdca26\"],[1.0,\"#f0f921\"]],\"type\":\"surface\"}],\"table\":[{\"cells\":{\"fill\":{\"color\":\"#EBF0F8\"},\"line\":{\"color\":\"white\"}},\"header\":{\"fill\":{\"color\":\"#C8D4E3\"},\"line\":{\"color\":\"white\"}},\"type\":\"table\"}]},\"layout\":{\"annotationdefaults\":{\"arrowcolor\":\"#2a3f5f\",\"arrowhead\":0,\"arrowwidth\":1},\"autotypenumbers\":\"strict\",\"coloraxis\":{\"colorbar\":{\"outlinewidth\":0,\"ticks\":\"\"}},\"colorscale\":{\"diverging\":[[0,\"#8e0152\"],[0.1,\"#c51b7d\"],[0.2,\"#de77ae\"],[0.3,\"#f1b6da\"],[0.4,\"#fde0ef\"],[0.5,\"#f7f7f7\"],[0.6,\"#e6f5d0\"],[0.7,\"#b8e186\"],[0.8,\"#7fbc41\"],[0.9,\"#4d9221\"],[1,\"#276419\"]],\"sequential\":[[0.0,\"#0d0887\"],[0.1111111111111111,\"#46039f\"],[0.2222222222222222,\"#7201a8\"],[0.3333333333333333,\"#9c179e\"],[0.4444444444444444,\"#bd3786\"],[0.5555555555555556,\"#d8576b\"],[0.6666666666666666,\"#ed7953\"],[0.7777777777777778,\"#fb9f3a\"],[0.8888888888888888,\"#fdca26\"],[1.0,\"#f0f921\"]],\"sequentialminus\":[[0.0,\"#0d0887\"],[0.1111111111111111,\"#46039f\"],[0.2222222222222222,\"#7201a8\"],[0.3333333333333333,\"#9c179e\"],[0.4444444444444444,\"#bd3786\"],[0.5555555555555556,\"#d8576b\"],[0.6666666666666666,\"#ed7953\"],[0.7777777777777778,\"#fb9f3a\"],[0.8888888888888888,\"#fdca26\"],[1.0,\"#f0f921\"]]},\"colorway\":[\"#636efa\",\"#EF553B\",\"#00cc96\",\"#ab63fa\",\"#FFA15A\",\"#19d3f3\",\"#FF6692\",\"#B6E880\",\"#FF97FF\",\"#FECB52\"],\"font\":{\"color\":\"#2a3f5f\"},\"geo\":{\"bgcolor\":\"white\",\"lakecolor\":\"white\",\"landcolor\":\"white\",\"showlakes\":true,\"showland\":true,\"subunitcolor\":\"#C8D4E3\"},\"hoverlabel\":{\"align\":\"left\"},\"hovermode\":\"closest\",\"mapbox\":{\"style\":\"light\"},\"paper_bgcolor\":\"white\",\"plot_bgcolor\":\"white\",\"polar\":{\"angularaxis\":{\"gridcolor\":\"#EBF0F8\",\"linecolor\":\"#EBF0F8\",\"ticks\":\"\"},\"bgcolor\":\"white\",\"radialaxis\":{\"gridcolor\":\"#EBF0F8\",\"linecolor\":\"#EBF0F8\",\"ticks\":\"\"}},\"scene\":{\"xaxis\":{\"backgroundcolor\":\"white\",\"gridcolor\":\"#DFE8F3\",\"gridwidth\":2,\"linecolor\":\"#EBF0F8\",\"showbackground\":true,\"ticks\":\"\",\"zerolinecolor\":\"#EBF0F8\"},\"yaxis\":{\"backgroundcolor\":\"white\",\"gridcolor\":\"#DFE8F3\",\"gridwidth\":2,\"linecolor\":\"#EBF0F8\",\"showbackground\":true,\"ticks\":\"\",\"zerolinecolor\":\"#EBF0F8\"},\"zaxis\":{\"backgroundcolor\":\"white\",\"gridcolor\":\"#DFE8F3\",\"gridwidth\":2,\"linecolor\":\"#EBF0F8\",\"showbackground\":true,\"ticks\":\"\",\"zerolinecolor\":\"#EBF0F8\"}},\"shapedefaults\":{\"line\":{\"color\":\"#2a3f5f\"}},\"ternary\":{\"aaxis\":{\"gridcolor\":\"#DFE8F3\",\"linecolor\":\"#A2B1C6\",\"ticks\":\"\"},\"baxis\":{\"gridcolor\":\"#DFE8F3\",\"linecolor\":\"#A2B1C6\",\"ticks\":\"\"},\"bgcolor\":\"white\",\"caxis\":{\"gridcolor\":\"#DFE8F3\",\"linecolor\":\"#A2B1C6\",\"ticks\":\"\"}},\"title\":{\"x\":0.05},\"xaxis\":{\"automargin\":true,\"gridcolor\":\"#EBF0F8\",\"linecolor\":\"#EBF0F8\",\"ticks\":\"\",\"title\":{\"standoff\":15},\"zerolinecolor\":\"#EBF0F8\",\"zerolinewidth\":2},\"yaxis\":{\"automargin\":true,\"gridcolor\":\"#EBF0F8\",\"linecolor\":\"#EBF0F8\",\"ticks\":\"\",\"title\":{\"standoff\":15},\"zerolinecolor\":\"#EBF0F8\",\"zerolinewidth\":2}}},\"legend\":{\"orientation\":\"h\",\"xanchor\":\"center\",\"x\":0.5,\"yanchor\":\"top\",\"y\":1},\"margin\":{\"l\":40,\"r\":40,\"b\":80,\"t\":20},\"font\":{\"size\":20,\"family\":\"Serif\",\"color\":\"black\"},\"barmode\":\"group\",\"bargap\":0.15,\"bargroupgap\":0.1,\"width\":1600,\"height\":700,\"hovermode\":\"x unified\",\"annotations\":[{\"font\":{\"color\":\"Black\",\"family\":\"Serif\",\"size\":20},\"showarrow\":false,\"text\":\"Dataset:\",\"x\":0,\"xanchor\":\"center\",\"xref\":\"paper\",\"y\":-0.05,\"yanchor\":\"bottom\",\"yref\":\"paper\"}],\"yaxis\":{\"title\":{\"font\":{\"size\":20},\"text\":\"F1\"}}},                        {\"responsive\": true}                    ).then(function(){\n",
       "                            \n",
       "var gd = document.getElementById('b10743a0-e841-496d-8933-adf073a88c9f');\n",
       "var x = new MutationObserver(function (mutations, observer) {{\n",
       "        var display = window.getComputedStyle(gd).display;\n",
       "        if (!display || display === 'none') {{\n",
       "            console.log([gd, 'removed!']);\n",
       "            Plotly.purge(gd);\n",
       "            observer.disconnect();\n",
       "        }}\n",
       "}});\n",
       "\n",
       "// Listen for the removal of the full notebook cells\n",
       "var notebookContainer = gd.closest('#notebook-container');\n",
       "if (notebookContainer) {{\n",
       "    x.observe(notebookContainer, {childList: true});\n",
       "}}\n",
       "\n",
       "// Listen for the clearing of the current output cell\n",
       "var outputEl = gd.closest('.output');\n",
       "if (outputEl) {{\n",
       "    x.observe(outputEl, {childList: true});\n",
       "}}\n",
       "\n",
       "                        })                };                });            </script>        </div>"
      ]
     },
     "metadata": {},
     "output_type": "display_data"
    },
    {
     "data": {
      "application/vnd.plotly.v1+json": {
       "config": {
        "plotlyServerURL": "https://plot.ly"
       },
       "data": [
        {
         "error_y": {
          "array": [
           0.22,
           0.16,
           0.16,
           0.11
          ],
          "type": "data",
          "visible": true
         },
         "marker": {
          "color": "grey"
         },
         "name": "Random",
         "offsetgroup": "0",
         "opacity": 0.6,
         "showlegend": true,
         "type": "bar",
         "x": [
          "CANCER<br> |V|=5, |E|=4",
          "EARTHQUAKE<br> |V|=5, |E|=4",
          "SURVEY<br> |V|=6, |E|=6",
          "ASIA<br> |V|=8, |E|=8"
         ],
         "y": [
          0.2,
          0.17,
          0.24,
          0.14
         ],
         "yaxis": "y"
        },
        {
         "error_y": {
          "array": [
           0.08,
           0.06,
           0.16,
           0.05
          ],
          "type": "data",
          "visible": true
         },
         "marker": {
          "color": "#b85c00"
         },
         "name": "FGS",
         "offsetgroup": "1",
         "opacity": 0.6,
         "showlegend": true,
         "type": "bar",
         "x": [
          "CANCER<br> |V|=5, |E|=4",
          "EARTHQUAKE<br> |V|=5, |E|=4",
          "SURVEY<br> |V|=6, |E|=6",
          "ASIA<br> |V|=8, |E|=8"
         ],
         "y": [
          0.45,
          0.44,
          0.4,
          0.25
         ],
         "yaxis": "y"
        },
        {
         "error_y": {
          "array": [
           0,
           0.3,
           null,
           0.22
          ],
          "type": "data",
          "visible": true
         },
         "marker": {
          "color": "#9454c4"
         },
         "name": "NOTEARS-MLP",
         "offsetgroup": "2",
         "opacity": 0.6,
         "showlegend": true,
         "type": "bar",
         "x": [
          "CANCER<br> |V|=5, |E|=4",
          "EARTHQUAKE<br> |V|=5, |E|=4",
          "SURVEY<br> |V|=6, |E|=6",
          "ASIA<br> |V|=8, |E|=8"
         ],
         "y": [
          0,
          0.51,
          null,
          0.33
         ],
         "yaxis": "y"
        },
        {
         "error_y": {
          "array": [
           0.29,
           0.11,
           null,
           0.06
          ],
          "type": "data",
          "visible": true
         },
         "marker": {
          "color": "#379f9f"
         },
         "name": "MPC",
         "offsetgroup": "3",
         "opacity": 0.6,
         "showlegend": true,
         "type": "bar",
         "x": [
          "CANCER<br> |V|=5, |E|=4",
          "EARTHQUAKE<br> |V|=5, |E|=4",
          "SURVEY<br> |V|=6, |E|=6",
          "ASIA<br> |V|=8, |E|=8"
         ],
         "y": [
          0.42,
          0.87,
          0.4,
          0.99
         ],
         "yaxis": "y"
        },
        {
         "error_y": {
          "array": [
           0.3,
           0.03,
           0.41
          ],
          "type": "data",
          "visible": true
         },
         "marker": {
          "color": "#441469"
         },
         "name": "ASPCR",
         "offsetgroup": "4",
         "opacity": 0.6,
         "showlegend": true,
         "type": "bar",
         "x": [
          "CANCER<br> |V|=5, |E|=4",
          "EARTHQUAKE<br> |V|=5, |E|=4",
          "SURVEY<br> |V|=6, |E|=6"
         ],
         "y": [
          0.42,
          0,
          0.41
         ],
         "yaxis": "y"
        },
        {
         "error_y": {
          "array": [
           0.15,
           0.13,
           0.22,
           0.18
          ],
          "type": "data",
          "visible": true
         },
         "marker": {
          "color": "#0085CA"
         },
         "name": "ABAPC (Ours)",
         "offsetgroup": "5",
         "opacity": 0.6,
         "showlegend": true,
         "type": "bar",
         "x": [
          "CANCER<br> |V|=5, |E|=4",
          "EARTHQUAKE<br> |V|=5, |E|=4",
          "SURVEY<br> |V|=6, |E|=6",
          "ASIA<br> |V|=8, |E|=8"
         ],
         "y": [
          0.43,
          0.88,
          0.41,
          0.55
         ],
         "yaxis": "y"
        },
        {
         "marker": {
          "color": "white"
         },
         "name": "",
         "offsetgroup": "6",
         "opacity": 1,
         "showlegend": false,
         "type": "bar",
         "x": [
          "CANCER<br> |V|=5, |E|=4",
          "EARTHQUAKE<br> |V|=5, |E|=4",
          "SURVEY<br> |V|=6, |E|=6",
          "ASIA<br> |V|=8, |E|=8"
         ],
         "y": [
          0,
          0,
          0,
          0
         ]
        },
        {
         "error_y": {
          "array": [
           0.22,
           0.16,
           0.16,
           0.11
          ],
          "type": "data",
          "visible": true
         },
         "marker": {
          "color": "grey"
         },
         "name": "Random",
         "offsetgroup": "7",
         "opacity": 0.6,
         "showlegend": false,
         "type": "bar",
         "x": [
          "CANCER<br> |V|=5, |E|=4",
          "EARTHQUAKE<br> |V|=5, |E|=4",
          "SURVEY<br> |V|=6, |E|=6",
          "ASIA<br> |V|=8, |E|=8"
         ],
         "y": [
          0.2,
          0.17,
          0.24,
          0.14
         ],
         "yaxis": "y2"
        },
        {
         "error_y": {
          "array": [
           0.12,
           0,
           0.08,
           0.03
          ],
          "type": "data",
          "visible": true
         },
         "marker": {
          "color": "#b85c00"
         },
         "name": "FGS",
         "offsetgroup": "8",
         "opacity": 0.6,
         "showlegend": false,
         "type": "bar",
         "x": [
          "CANCER<br> |V|=5, |E|=4",
          "EARTHQUAKE<br> |V|=5, |E|=4",
          "SURVEY<br> |V|=6, |E|=6",
          "ASIA<br> |V|=8, |E|=8"
         ],
         "y": [
          0.42,
          0.5,
          0.21,
          0.24
         ],
         "yaxis": "y2"
        },
        {
         "error_y": {
          "array": [
           0,
           0.31,
           0,
           0.16
          ],
          "type": "data",
          "visible": true
         },
         "marker": {
          "color": "#9454c4"
         },
         "name": "NOTEARS-MLP",
         "offsetgroup": "9",
         "opacity": 0.6,
         "showlegend": false,
         "type": "bar",
         "x": [
          "CANCER<br> |V|=5, |E|=4",
          "EARTHQUAKE<br> |V|=5, |E|=4",
          "SURVEY<br> |V|=6, |E|=6",
          "ASIA<br> |V|=8, |E|=8"
         ],
         "y": [
          0,
          0.5,
          0,
          0.25
         ],
         "yaxis": "y2"
        },
        {
         "error_y": {
          "array": [
           0.12,
           0.05,
           0.05,
           0.1
          ],
          "type": "data",
          "visible": true
         },
         "marker": {
          "color": "#379f9f"
         },
         "name": "MPC",
         "offsetgroup": "10",
         "opacity": 0.6,
         "showlegend": false,
         "type": "bar",
         "x": [
          "CANCER<br> |V|=5, |E|=4",
          "EARTHQUAKE<br> |V|=5, |E|=4",
          "SURVEY<br> |V|=6, |E|=6",
          "ASIA<br> |V|=8, |E|=8"
         ],
         "y": [
          0.03,
          0.99,
          0.01,
          0.39
         ],
         "yaxis": "y2"
        },
        {
         "error_y": {
          "array": [
           0.21,
           0.04,
           0.12
          ],
          "type": "data",
          "visible": true
         },
         "marker": {
          "color": "#441469"
         },
         "name": "ASPCR",
         "offsetgroup": "11",
         "opacity": 0.6,
         "showlegend": false,
         "type": "bar",
         "x": [
          "CANCER<br> |V|=5, |E|=4",
          "EARTHQUAKE<br> |V|=5, |E|=4",
          "SURVEY<br> |V|=6, |E|=6"
         ],
         "y": [
          0.28,
          0,
          0.11
         ],
         "yaxis": "y2"
        },
        {
         "error_y": {
          "array": [
           0.17,
           0.05,
           0.16,
           0.18
          ],
          "type": "data",
          "visible": true
         },
         "marker": {
          "color": "#0085CA"
         },
         "name": "ABAPC (Ours)",
         "offsetgroup": "12",
         "opacity": 0.6,
         "showlegend": false,
         "type": "bar",
         "x": [
          "CANCER<br> |V|=5, |E|=4",
          "EARTHQUAKE<br> |V|=5, |E|=4",
          "SURVEY<br> |V|=6, |E|=6",
          "ASIA<br> |V|=8, |E|=8"
         ],
         "y": [
          0.42,
          0.99,
          0.28,
          0.58
         ],
         "yaxis": "y2"
        }
       ],
       "layout": {
        "annotations": [
         {
          "font": {
           "color": "Black",
           "family": "Serif",
           "size": 20
          },
          "showarrow": false,
          "text": "Dataset:",
          "x": 0,
          "xanchor": "center",
          "xref": "paper",
          "y": -0.08,
          "yanchor": "bottom",
          "yref": "paper"
         },
         {
          "bgcolor": "#E5ECF6",
          "bordercolor": "#E5ECF6",
          "borderwidth": 2,
          "font": {
           "color": "black",
           "size": 20
          },
          "opacity": 0.8,
          "showarrow": false,
          "text": "      Precision      ",
          "x": 0.017,
          "xanchor": "left",
          "xref": "x domain",
          "y": 1.015,
          "yref": "y domain"
         },
         {
          "bgcolor": "#E5ECF6",
          "bordercolor": "#E5ECF6",
          "borderwidth": 2,
          "font": {
           "color": "black",
           "size": 20
          },
          "opacity": 0.8,
          "showarrow": false,
          "text": "        Recall        ",
          "x": 0.132,
          "xanchor": "left",
          "xref": "x domain",
          "y": 1.015,
          "yref": "y domain"
         },
         {
          "bgcolor": "#E5ECF6",
          "bordercolor": "#E5ECF6",
          "borderwidth": 2,
          "font": {
           "color": "black",
           "size": 20
          },
          "opacity": 0.8,
          "showarrow": false,
          "text": "      Precision      ",
          "x": 0.267,
          "xanchor": "left",
          "xref": "x domain",
          "y": 1.015,
          "yref": "y domain"
         },
         {
          "bgcolor": "#E5ECF6",
          "bordercolor": "#E5ECF6",
          "borderwidth": 2,
          "font": {
           "color": "black",
           "size": 20
          },
          "opacity": 0.8,
          "showarrow": false,
          "text": "        Recall        ",
          "x": 0.382,
          "xanchor": "left",
          "xref": "x domain",
          "y": 1.015,
          "yref": "y domain"
         },
         {
          "bgcolor": "#E5ECF6",
          "bordercolor": "#E5ECF6",
          "borderwidth": 2,
          "font": {
           "color": "black",
           "size": 20
          },
          "opacity": 0.8,
          "showarrow": false,
          "text": "      Precision      ",
          "x": 0.517,
          "xanchor": "left",
          "xref": "x domain",
          "y": 1.015,
          "yref": "y domain"
         },
         {
          "bgcolor": "#E5ECF6",
          "bordercolor": "#E5ECF6",
          "borderwidth": 2,
          "font": {
           "color": "black",
           "size": 20
          },
          "opacity": 0.8,
          "showarrow": false,
          "text": "        Recall        ",
          "x": 0.632,
          "xanchor": "left",
          "xref": "x domain",
          "y": 1.015,
          "yref": "y domain"
         },
         {
          "bgcolor": "#E5ECF6",
          "bordercolor": "#E5ECF6",
          "borderwidth": 2,
          "font": {
           "color": "black",
           "size": 20
          },
          "opacity": 0.8,
          "showarrow": false,
          "text": "      Precision      ",
          "x": 0.767,
          "xanchor": "left",
          "xref": "x domain",
          "y": 1.015,
          "yref": "y domain"
         },
         {
          "bgcolor": "#E5ECF6",
          "bordercolor": "#E5ECF6",
          "borderwidth": 2,
          "font": {
           "color": "black",
           "size": 20
          },
          "opacity": 0.8,
          "showarrow": false,
          "text": "        Recall        ",
          "x": 0.882,
          "xanchor": "left",
          "xref": "x domain",
          "y": 1.015,
          "yref": "y domain"
         }
        ],
        "bargap": 0.15,
        "bargroupgap": 0.1,
        "barmode": "group",
        "font": {
         "color": "black",
         "family": "Serif",
         "size": 20
        },
        "height": 700,
        "hovermode": "x unified",
        "legend": {
         "orientation": "h",
         "x": 0.5,
         "xanchor": "center",
         "y": 1.1,
         "yanchor": "top"
        },
        "margin": {
         "b": 70,
         "l": 40,
         "r": 0,
         "t": 20
        },
        "template": {
         "data": {
          "bar": [
           {
            "error_x": {
             "color": "#2a3f5f"
            },
            "error_y": {
             "color": "#2a3f5f"
            },
            "marker": {
             "line": {
              "color": "white",
              "width": 0.5
             },
             "pattern": {
              "fillmode": "overlay",
              "size": 10,
              "solidity": 0.2
             }
            },
            "type": "bar"
           }
          ],
          "barpolar": [
           {
            "marker": {
             "line": {
              "color": "white",
              "width": 0.5
             },
             "pattern": {
              "fillmode": "overlay",
              "size": 10,
              "solidity": 0.2
             }
            },
            "type": "barpolar"
           }
          ],
          "carpet": [
           {
            "aaxis": {
             "endlinecolor": "#2a3f5f",
             "gridcolor": "#C8D4E3",
             "linecolor": "#C8D4E3",
             "minorgridcolor": "#C8D4E3",
             "startlinecolor": "#2a3f5f"
            },
            "baxis": {
             "endlinecolor": "#2a3f5f",
             "gridcolor": "#C8D4E3",
             "linecolor": "#C8D4E3",
             "minorgridcolor": "#C8D4E3",
             "startlinecolor": "#2a3f5f"
            },
            "type": "carpet"
           }
          ],
          "choropleth": [
           {
            "colorbar": {
             "outlinewidth": 0,
             "ticks": ""
            },
            "type": "choropleth"
           }
          ],
          "contour": [
           {
            "colorbar": {
             "outlinewidth": 0,
             "ticks": ""
            },
            "colorscale": [
             [
              0,
              "#0d0887"
             ],
             [
              0.1111111111111111,
              "#46039f"
             ],
             [
              0.2222222222222222,
              "#7201a8"
             ],
             [
              0.3333333333333333,
              "#9c179e"
             ],
             [
              0.4444444444444444,
              "#bd3786"
             ],
             [
              0.5555555555555556,
              "#d8576b"
             ],
             [
              0.6666666666666666,
              "#ed7953"
             ],
             [
              0.7777777777777778,
              "#fb9f3a"
             ],
             [
              0.8888888888888888,
              "#fdca26"
             ],
             [
              1,
              "#f0f921"
             ]
            ],
            "type": "contour"
           }
          ],
          "contourcarpet": [
           {
            "colorbar": {
             "outlinewidth": 0,
             "ticks": ""
            },
            "type": "contourcarpet"
           }
          ],
          "heatmap": [
           {
            "colorbar": {
             "outlinewidth": 0,
             "ticks": ""
            },
            "colorscale": [
             [
              0,
              "#0d0887"
             ],
             [
              0.1111111111111111,
              "#46039f"
             ],
             [
              0.2222222222222222,
              "#7201a8"
             ],
             [
              0.3333333333333333,
              "#9c179e"
             ],
             [
              0.4444444444444444,
              "#bd3786"
             ],
             [
              0.5555555555555556,
              "#d8576b"
             ],
             [
              0.6666666666666666,
              "#ed7953"
             ],
             [
              0.7777777777777778,
              "#fb9f3a"
             ],
             [
              0.8888888888888888,
              "#fdca26"
             ],
             [
              1,
              "#f0f921"
             ]
            ],
            "type": "heatmap"
           }
          ],
          "heatmapgl": [
           {
            "colorbar": {
             "outlinewidth": 0,
             "ticks": ""
            },
            "colorscale": [
             [
              0,
              "#0d0887"
             ],
             [
              0.1111111111111111,
              "#46039f"
             ],
             [
              0.2222222222222222,
              "#7201a8"
             ],
             [
              0.3333333333333333,
              "#9c179e"
             ],
             [
              0.4444444444444444,
              "#bd3786"
             ],
             [
              0.5555555555555556,
              "#d8576b"
             ],
             [
              0.6666666666666666,
              "#ed7953"
             ],
             [
              0.7777777777777778,
              "#fb9f3a"
             ],
             [
              0.8888888888888888,
              "#fdca26"
             ],
             [
              1,
              "#f0f921"
             ]
            ],
            "type": "heatmapgl"
           }
          ],
          "histogram": [
           {
            "marker": {
             "pattern": {
              "fillmode": "overlay",
              "size": 10,
              "solidity": 0.2
             }
            },
            "type": "histogram"
           }
          ],
          "histogram2d": [
           {
            "colorbar": {
             "outlinewidth": 0,
             "ticks": ""
            },
            "colorscale": [
             [
              0,
              "#0d0887"
             ],
             [
              0.1111111111111111,
              "#46039f"
             ],
             [
              0.2222222222222222,
              "#7201a8"
             ],
             [
              0.3333333333333333,
              "#9c179e"
             ],
             [
              0.4444444444444444,
              "#bd3786"
             ],
             [
              0.5555555555555556,
              "#d8576b"
             ],
             [
              0.6666666666666666,
              "#ed7953"
             ],
             [
              0.7777777777777778,
              "#fb9f3a"
             ],
             [
              0.8888888888888888,
              "#fdca26"
             ],
             [
              1,
              "#f0f921"
             ]
            ],
            "type": "histogram2d"
           }
          ],
          "histogram2dcontour": [
           {
            "colorbar": {
             "outlinewidth": 0,
             "ticks": ""
            },
            "colorscale": [
             [
              0,
              "#0d0887"
             ],
             [
              0.1111111111111111,
              "#46039f"
             ],
             [
              0.2222222222222222,
              "#7201a8"
             ],
             [
              0.3333333333333333,
              "#9c179e"
             ],
             [
              0.4444444444444444,
              "#bd3786"
             ],
             [
              0.5555555555555556,
              "#d8576b"
             ],
             [
              0.6666666666666666,
              "#ed7953"
             ],
             [
              0.7777777777777778,
              "#fb9f3a"
             ],
             [
              0.8888888888888888,
              "#fdca26"
             ],
             [
              1,
              "#f0f921"
             ]
            ],
            "type": "histogram2dcontour"
           }
          ],
          "mesh3d": [
           {
            "colorbar": {
             "outlinewidth": 0,
             "ticks": ""
            },
            "type": "mesh3d"
           }
          ],
          "parcoords": [
           {
            "line": {
             "colorbar": {
              "outlinewidth": 0,
              "ticks": ""
             }
            },
            "type": "parcoords"
           }
          ],
          "pie": [
           {
            "automargin": true,
            "type": "pie"
           }
          ],
          "scatter": [
           {
            "fillpattern": {
             "fillmode": "overlay",
             "size": 10,
             "solidity": 0.2
            },
            "type": "scatter"
           }
          ],
          "scatter3d": [
           {
            "line": {
             "colorbar": {
              "outlinewidth": 0,
              "ticks": ""
             }
            },
            "marker": {
             "colorbar": {
              "outlinewidth": 0,
              "ticks": ""
             }
            },
            "type": "scatter3d"
           }
          ],
          "scattercarpet": [
           {
            "marker": {
             "colorbar": {
              "outlinewidth": 0,
              "ticks": ""
             }
            },
            "type": "scattercarpet"
           }
          ],
          "scattergeo": [
           {
            "marker": {
             "colorbar": {
              "outlinewidth": 0,
              "ticks": ""
             }
            },
            "type": "scattergeo"
           }
          ],
          "scattergl": [
           {
            "marker": {
             "colorbar": {
              "outlinewidth": 0,
              "ticks": ""
             }
            },
            "type": "scattergl"
           }
          ],
          "scattermapbox": [
           {
            "marker": {
             "colorbar": {
              "outlinewidth": 0,
              "ticks": ""
             }
            },
            "type": "scattermapbox"
           }
          ],
          "scatterpolar": [
           {
            "marker": {
             "colorbar": {
              "outlinewidth": 0,
              "ticks": ""
             }
            },
            "type": "scatterpolar"
           }
          ],
          "scatterpolargl": [
           {
            "marker": {
             "colorbar": {
              "outlinewidth": 0,
              "ticks": ""
             }
            },
            "type": "scatterpolargl"
           }
          ],
          "scatterternary": [
           {
            "marker": {
             "colorbar": {
              "outlinewidth": 0,
              "ticks": ""
             }
            },
            "type": "scatterternary"
           }
          ],
          "surface": [
           {
            "colorbar": {
             "outlinewidth": 0,
             "ticks": ""
            },
            "colorscale": [
             [
              0,
              "#0d0887"
             ],
             [
              0.1111111111111111,
              "#46039f"
             ],
             [
              0.2222222222222222,
              "#7201a8"
             ],
             [
              0.3333333333333333,
              "#9c179e"
             ],
             [
              0.4444444444444444,
              "#bd3786"
             ],
             [
              0.5555555555555556,
              "#d8576b"
             ],
             [
              0.6666666666666666,
              "#ed7953"
             ],
             [
              0.7777777777777778,
              "#fb9f3a"
             ],
             [
              0.8888888888888888,
              "#fdca26"
             ],
             [
              1,
              "#f0f921"
             ]
            ],
            "type": "surface"
           }
          ],
          "table": [
           {
            "cells": {
             "fill": {
              "color": "#EBF0F8"
             },
             "line": {
              "color": "white"
             }
            },
            "header": {
             "fill": {
              "color": "#C8D4E3"
             },
             "line": {
              "color": "white"
             }
            },
            "type": "table"
           }
          ]
         },
         "layout": {
          "annotationdefaults": {
           "arrowcolor": "#2a3f5f",
           "arrowhead": 0,
           "arrowwidth": 1
          },
          "autotypenumbers": "strict",
          "coloraxis": {
           "colorbar": {
            "outlinewidth": 0,
            "ticks": ""
           }
          },
          "colorscale": {
           "diverging": [
            [
             0,
             "#8e0152"
            ],
            [
             0.1,
             "#c51b7d"
            ],
            [
             0.2,
             "#de77ae"
            ],
            [
             0.3,
             "#f1b6da"
            ],
            [
             0.4,
             "#fde0ef"
            ],
            [
             0.5,
             "#f7f7f7"
            ],
            [
             0.6,
             "#e6f5d0"
            ],
            [
             0.7,
             "#b8e186"
            ],
            [
             0.8,
             "#7fbc41"
            ],
            [
             0.9,
             "#4d9221"
            ],
            [
             1,
             "#276419"
            ]
           ],
           "sequential": [
            [
             0,
             "#0d0887"
            ],
            [
             0.1111111111111111,
             "#46039f"
            ],
            [
             0.2222222222222222,
             "#7201a8"
            ],
            [
             0.3333333333333333,
             "#9c179e"
            ],
            [
             0.4444444444444444,
             "#bd3786"
            ],
            [
             0.5555555555555556,
             "#d8576b"
            ],
            [
             0.6666666666666666,
             "#ed7953"
            ],
            [
             0.7777777777777778,
             "#fb9f3a"
            ],
            [
             0.8888888888888888,
             "#fdca26"
            ],
            [
             1,
             "#f0f921"
            ]
           ],
           "sequentialminus": [
            [
             0,
             "#0d0887"
            ],
            [
             0.1111111111111111,
             "#46039f"
            ],
            [
             0.2222222222222222,
             "#7201a8"
            ],
            [
             0.3333333333333333,
             "#9c179e"
            ],
            [
             0.4444444444444444,
             "#bd3786"
            ],
            [
             0.5555555555555556,
             "#d8576b"
            ],
            [
             0.6666666666666666,
             "#ed7953"
            ],
            [
             0.7777777777777778,
             "#fb9f3a"
            ],
            [
             0.8888888888888888,
             "#fdca26"
            ],
            [
             1,
             "#f0f921"
            ]
           ]
          },
          "colorway": [
           "#636efa",
           "#EF553B",
           "#00cc96",
           "#ab63fa",
           "#FFA15A",
           "#19d3f3",
           "#FF6692",
           "#B6E880",
           "#FF97FF",
           "#FECB52"
          ],
          "font": {
           "color": "#2a3f5f"
          },
          "geo": {
           "bgcolor": "white",
           "lakecolor": "white",
           "landcolor": "white",
           "showlakes": true,
           "showland": true,
           "subunitcolor": "#C8D4E3"
          },
          "hoverlabel": {
           "align": "left"
          },
          "hovermode": "closest",
          "mapbox": {
           "style": "light"
          },
          "paper_bgcolor": "white",
          "plot_bgcolor": "white",
          "polar": {
           "angularaxis": {
            "gridcolor": "#EBF0F8",
            "linecolor": "#EBF0F8",
            "ticks": ""
           },
           "bgcolor": "white",
           "radialaxis": {
            "gridcolor": "#EBF0F8",
            "linecolor": "#EBF0F8",
            "ticks": ""
           }
          },
          "scene": {
           "xaxis": {
            "backgroundcolor": "white",
            "gridcolor": "#DFE8F3",
            "gridwidth": 2,
            "linecolor": "#EBF0F8",
            "showbackground": true,
            "ticks": "",
            "zerolinecolor": "#EBF0F8"
           },
           "yaxis": {
            "backgroundcolor": "white",
            "gridcolor": "#DFE8F3",
            "gridwidth": 2,
            "linecolor": "#EBF0F8",
            "showbackground": true,
            "ticks": "",
            "zerolinecolor": "#EBF0F8"
           },
           "zaxis": {
            "backgroundcolor": "white",
            "gridcolor": "#DFE8F3",
            "gridwidth": 2,
            "linecolor": "#EBF0F8",
            "showbackground": true,
            "ticks": "",
            "zerolinecolor": "#EBF0F8"
           }
          },
          "shapedefaults": {
           "line": {
            "color": "#2a3f5f"
           }
          },
          "ternary": {
           "aaxis": {
            "gridcolor": "#DFE8F3",
            "linecolor": "#A2B1C6",
            "ticks": ""
           },
           "baxis": {
            "gridcolor": "#DFE8F3",
            "linecolor": "#A2B1C6",
            "ticks": ""
           },
           "bgcolor": "white",
           "caxis": {
            "gridcolor": "#DFE8F3",
            "linecolor": "#A2B1C6",
            "ticks": ""
           }
          },
          "title": {
           "x": 0.05
          },
          "xaxis": {
           "automargin": true,
           "gridcolor": "#EBF0F8",
           "linecolor": "#EBF0F8",
           "ticks": "",
           "title": {
            "standoff": 15
           },
           "zerolinecolor": "#EBF0F8",
           "zerolinewidth": 2
          },
          "yaxis": {
           "automargin": true,
           "gridcolor": "#EBF0F8",
           "linecolor": "#EBF0F8",
           "ticks": "",
           "title": {
            "standoff": 15
           },
           "zerolinecolor": "#EBF0F8",
           "zerolinewidth": 2
          }
         }
        },
        "width": 1600,
        "xaxis": {
         "anchor": "y",
         "domain": [
          0,
          0.94
         ]
        },
        "yaxis": {
         "anchor": "x",
         "domain": [
          0,
          1
         ],
         "range": [
          0,
          1.3
         ],
         "title": {
          "font": {
           "size": 20
          },
          "text": "Precision"
         }
        },
        "yaxis2": {
         "anchor": "x",
         "overlaying": "y",
         "range": [
          0,
          1.3
         ],
         "scaleanchor": 0,
         "showgrid": false,
         "showline": false,
         "showticklabels": true,
         "side": "right",
         "title": {
          "font": {
           "size": 20
          },
          "text": "Recall"
         },
         "zeroline": true
        }
       }
      },
      "text/html": [
       "<div>                            <div id=\"8cb38681-5fdc-4b93-bfbd-d107daab7261\" class=\"plotly-graph-div\" style=\"height:700px; width:1600px;\"></div>            <script type=\"text/javascript\">                require([\"plotly\"], function(Plotly) {                    window.PLOTLYENV=window.PLOTLYENV || {};                                    if (document.getElementById(\"8cb38681-5fdc-4b93-bfbd-d107daab7261\")) {                    Plotly.newPlot(                        \"8cb38681-5fdc-4b93-bfbd-d107daab7261\",                        [{\"error_y\":{\"array\":[0.22,0.16,0.16,0.11],\"type\":\"data\",\"visible\":true},\"marker\":{\"color\":\"grey\"},\"name\":\"Random\",\"offsetgroup\":\"0\",\"opacity\":0.6,\"showlegend\":true,\"x\":[\"CANCER\\u003cbr\\u003e |V|=5, |E|=4\",\"EARTHQUAKE\\u003cbr\\u003e |V|=5, |E|=4\",\"SURVEY\\u003cbr\\u003e |V|=6, |E|=6\",\"ASIA\\u003cbr\\u003e |V|=8, |E|=8\"],\"y\":[0.2,0.17,0.24,0.14],\"yaxis\":\"y\",\"type\":\"bar\"},{\"error_y\":{\"array\":[0.08,0.06,0.16,0.05],\"type\":\"data\",\"visible\":true},\"marker\":{\"color\":\"#b85c00\"},\"name\":\"FGS\",\"offsetgroup\":\"1\",\"opacity\":0.6,\"showlegend\":true,\"x\":[\"CANCER\\u003cbr\\u003e |V|=5, |E|=4\",\"EARTHQUAKE\\u003cbr\\u003e |V|=5, |E|=4\",\"SURVEY\\u003cbr\\u003e |V|=6, |E|=6\",\"ASIA\\u003cbr\\u003e |V|=8, |E|=8\"],\"y\":[0.45,0.44,0.4,0.25],\"yaxis\":\"y\",\"type\":\"bar\"},{\"error_y\":{\"array\":[0.0,0.3,null,0.22],\"type\":\"data\",\"visible\":true},\"marker\":{\"color\":\"#9454c4\"},\"name\":\"NOTEARS-MLP\",\"offsetgroup\":\"2\",\"opacity\":0.6,\"showlegend\":true,\"x\":[\"CANCER\\u003cbr\\u003e |V|=5, |E|=4\",\"EARTHQUAKE\\u003cbr\\u003e |V|=5, |E|=4\",\"SURVEY\\u003cbr\\u003e |V|=6, |E|=6\",\"ASIA\\u003cbr\\u003e |V|=8, |E|=8\"],\"y\":[0.0,0.51,null,0.33],\"yaxis\":\"y\",\"type\":\"bar\"},{\"error_y\":{\"array\":[0.29,0.11,null,0.06],\"type\":\"data\",\"visible\":true},\"marker\":{\"color\":\"#379f9f\"},\"name\":\"MPC\",\"offsetgroup\":\"3\",\"opacity\":0.6,\"showlegend\":true,\"x\":[\"CANCER\\u003cbr\\u003e |V|=5, |E|=4\",\"EARTHQUAKE\\u003cbr\\u003e |V|=5, |E|=4\",\"SURVEY\\u003cbr\\u003e |V|=6, |E|=6\",\"ASIA\\u003cbr\\u003e |V|=8, |E|=8\"],\"y\":[0.42,0.87,0.4,0.99],\"yaxis\":\"y\",\"type\":\"bar\"},{\"error_y\":{\"array\":[0.3,0.03,0.41],\"type\":\"data\",\"visible\":true},\"marker\":{\"color\":\"#441469\"},\"name\":\"ASPCR\",\"offsetgroup\":\"4\",\"opacity\":0.6,\"showlegend\":true,\"x\":[\"CANCER\\u003cbr\\u003e |V|=5, |E|=4\",\"EARTHQUAKE\\u003cbr\\u003e |V|=5, |E|=4\",\"SURVEY\\u003cbr\\u003e |V|=6, |E|=6\"],\"y\":[0.42,0.0,0.41],\"yaxis\":\"y\",\"type\":\"bar\"},{\"error_y\":{\"array\":[0.15,0.13,0.22,0.18],\"type\":\"data\",\"visible\":true},\"marker\":{\"color\":\"#0085CA\"},\"name\":\"ABAPC (Ours)\",\"offsetgroup\":\"5\",\"opacity\":0.6,\"showlegend\":true,\"x\":[\"CANCER\\u003cbr\\u003e |V|=5, |E|=4\",\"EARTHQUAKE\\u003cbr\\u003e |V|=5, |E|=4\",\"SURVEY\\u003cbr\\u003e |V|=6, |E|=6\",\"ASIA\\u003cbr\\u003e |V|=8, |E|=8\"],\"y\":[0.43,0.88,0.41,0.55],\"yaxis\":\"y\",\"type\":\"bar\"},{\"marker\":{\"color\":\"white\"},\"name\":\"\",\"offsetgroup\":\"6\",\"opacity\":1,\"showlegend\":false,\"x\":[\"CANCER\\u003cbr\\u003e |V|=5, |E|=4\",\"EARTHQUAKE\\u003cbr\\u003e |V|=5, |E|=4\",\"SURVEY\\u003cbr\\u003e |V|=6, |E|=6\",\"ASIA\\u003cbr\\u003e |V|=8, |E|=8\"],\"y\":[0.0,0.0,0.0,0.0],\"type\":\"bar\"},{\"error_y\":{\"array\":[0.22,0.16,0.16,0.11],\"type\":\"data\",\"visible\":true},\"marker\":{\"color\":\"grey\"},\"name\":\"Random\",\"offsetgroup\":\"7\",\"opacity\":0.6,\"showlegend\":false,\"x\":[\"CANCER\\u003cbr\\u003e |V|=5, |E|=4\",\"EARTHQUAKE\\u003cbr\\u003e |V|=5, |E|=4\",\"SURVEY\\u003cbr\\u003e |V|=6, |E|=6\",\"ASIA\\u003cbr\\u003e |V|=8, |E|=8\"],\"y\":[0.2,0.17,0.24,0.14],\"yaxis\":\"y2\",\"type\":\"bar\"},{\"error_y\":{\"array\":[0.12,0.0,0.08,0.03],\"type\":\"data\",\"visible\":true},\"marker\":{\"color\":\"#b85c00\"},\"name\":\"FGS\",\"offsetgroup\":\"8\",\"opacity\":0.6,\"showlegend\":false,\"x\":[\"CANCER\\u003cbr\\u003e |V|=5, |E|=4\",\"EARTHQUAKE\\u003cbr\\u003e |V|=5, |E|=4\",\"SURVEY\\u003cbr\\u003e |V|=6, |E|=6\",\"ASIA\\u003cbr\\u003e |V|=8, |E|=8\"],\"y\":[0.42,0.5,0.21,0.24],\"yaxis\":\"y2\",\"type\":\"bar\"},{\"error_y\":{\"array\":[0.0,0.31,0.0,0.16],\"type\":\"data\",\"visible\":true},\"marker\":{\"color\":\"#9454c4\"},\"name\":\"NOTEARS-MLP\",\"offsetgroup\":\"9\",\"opacity\":0.6,\"showlegend\":false,\"x\":[\"CANCER\\u003cbr\\u003e |V|=5, |E|=4\",\"EARTHQUAKE\\u003cbr\\u003e |V|=5, |E|=4\",\"SURVEY\\u003cbr\\u003e |V|=6, |E|=6\",\"ASIA\\u003cbr\\u003e |V|=8, |E|=8\"],\"y\":[0.0,0.5,0.0,0.25],\"yaxis\":\"y2\",\"type\":\"bar\"},{\"error_y\":{\"array\":[0.12,0.05,0.05,0.1],\"type\":\"data\",\"visible\":true},\"marker\":{\"color\":\"#379f9f\"},\"name\":\"MPC\",\"offsetgroup\":\"10\",\"opacity\":0.6,\"showlegend\":false,\"x\":[\"CANCER\\u003cbr\\u003e |V|=5, |E|=4\",\"EARTHQUAKE\\u003cbr\\u003e |V|=5, |E|=4\",\"SURVEY\\u003cbr\\u003e |V|=6, |E|=6\",\"ASIA\\u003cbr\\u003e |V|=8, |E|=8\"],\"y\":[0.03,0.99,0.01,0.39],\"yaxis\":\"y2\",\"type\":\"bar\"},{\"error_y\":{\"array\":[0.21,0.04,0.12],\"type\":\"data\",\"visible\":true},\"marker\":{\"color\":\"#441469\"},\"name\":\"ASPCR\",\"offsetgroup\":\"11\",\"opacity\":0.6,\"showlegend\":false,\"x\":[\"CANCER\\u003cbr\\u003e |V|=5, |E|=4\",\"EARTHQUAKE\\u003cbr\\u003e |V|=5, |E|=4\",\"SURVEY\\u003cbr\\u003e |V|=6, |E|=6\"],\"y\":[0.28,0.0,0.11],\"yaxis\":\"y2\",\"type\":\"bar\"},{\"error_y\":{\"array\":[0.17,0.05,0.16,0.18],\"type\":\"data\",\"visible\":true},\"marker\":{\"color\":\"#0085CA\"},\"name\":\"ABAPC (Ours)\",\"offsetgroup\":\"12\",\"opacity\":0.6,\"showlegend\":false,\"x\":[\"CANCER\\u003cbr\\u003e |V|=5, |E|=4\",\"EARTHQUAKE\\u003cbr\\u003e |V|=5, |E|=4\",\"SURVEY\\u003cbr\\u003e |V|=6, |E|=6\",\"ASIA\\u003cbr\\u003e |V|=8, |E|=8\"],\"y\":[0.42,0.99,0.28,0.58],\"yaxis\":\"y2\",\"type\":\"bar\"}],                        {\"template\":{\"data\":{\"barpolar\":[{\"marker\":{\"line\":{\"color\":\"white\",\"width\":0.5},\"pattern\":{\"fillmode\":\"overlay\",\"size\":10,\"solidity\":0.2}},\"type\":\"barpolar\"}],\"bar\":[{\"error_x\":{\"color\":\"#2a3f5f\"},\"error_y\":{\"color\":\"#2a3f5f\"},\"marker\":{\"line\":{\"color\":\"white\",\"width\":0.5},\"pattern\":{\"fillmode\":\"overlay\",\"size\":10,\"solidity\":0.2}},\"type\":\"bar\"}],\"carpet\":[{\"aaxis\":{\"endlinecolor\":\"#2a3f5f\",\"gridcolor\":\"#C8D4E3\",\"linecolor\":\"#C8D4E3\",\"minorgridcolor\":\"#C8D4E3\",\"startlinecolor\":\"#2a3f5f\"},\"baxis\":{\"endlinecolor\":\"#2a3f5f\",\"gridcolor\":\"#C8D4E3\",\"linecolor\":\"#C8D4E3\",\"minorgridcolor\":\"#C8D4E3\",\"startlinecolor\":\"#2a3f5f\"},\"type\":\"carpet\"}],\"choropleth\":[{\"colorbar\":{\"outlinewidth\":0,\"ticks\":\"\"},\"type\":\"choropleth\"}],\"contourcarpet\":[{\"colorbar\":{\"outlinewidth\":0,\"ticks\":\"\"},\"type\":\"contourcarpet\"}],\"contour\":[{\"colorbar\":{\"outlinewidth\":0,\"ticks\":\"\"},\"colorscale\":[[0.0,\"#0d0887\"],[0.1111111111111111,\"#46039f\"],[0.2222222222222222,\"#7201a8\"],[0.3333333333333333,\"#9c179e\"],[0.4444444444444444,\"#bd3786\"],[0.5555555555555556,\"#d8576b\"],[0.6666666666666666,\"#ed7953\"],[0.7777777777777778,\"#fb9f3a\"],[0.8888888888888888,\"#fdca26\"],[1.0,\"#f0f921\"]],\"type\":\"contour\"}],\"heatmapgl\":[{\"colorbar\":{\"outlinewidth\":0,\"ticks\":\"\"},\"colorscale\":[[0.0,\"#0d0887\"],[0.1111111111111111,\"#46039f\"],[0.2222222222222222,\"#7201a8\"],[0.3333333333333333,\"#9c179e\"],[0.4444444444444444,\"#bd3786\"],[0.5555555555555556,\"#d8576b\"],[0.6666666666666666,\"#ed7953\"],[0.7777777777777778,\"#fb9f3a\"],[0.8888888888888888,\"#fdca26\"],[1.0,\"#f0f921\"]],\"type\":\"heatmapgl\"}],\"heatmap\":[{\"colorbar\":{\"outlinewidth\":0,\"ticks\":\"\"},\"colorscale\":[[0.0,\"#0d0887\"],[0.1111111111111111,\"#46039f\"],[0.2222222222222222,\"#7201a8\"],[0.3333333333333333,\"#9c179e\"],[0.4444444444444444,\"#bd3786\"],[0.5555555555555556,\"#d8576b\"],[0.6666666666666666,\"#ed7953\"],[0.7777777777777778,\"#fb9f3a\"],[0.8888888888888888,\"#fdca26\"],[1.0,\"#f0f921\"]],\"type\":\"heatmap\"}],\"histogram2dcontour\":[{\"colorbar\":{\"outlinewidth\":0,\"ticks\":\"\"},\"colorscale\":[[0.0,\"#0d0887\"],[0.1111111111111111,\"#46039f\"],[0.2222222222222222,\"#7201a8\"],[0.3333333333333333,\"#9c179e\"],[0.4444444444444444,\"#bd3786\"],[0.5555555555555556,\"#d8576b\"],[0.6666666666666666,\"#ed7953\"],[0.7777777777777778,\"#fb9f3a\"],[0.8888888888888888,\"#fdca26\"],[1.0,\"#f0f921\"]],\"type\":\"histogram2dcontour\"}],\"histogram2d\":[{\"colorbar\":{\"outlinewidth\":0,\"ticks\":\"\"},\"colorscale\":[[0.0,\"#0d0887\"],[0.1111111111111111,\"#46039f\"],[0.2222222222222222,\"#7201a8\"],[0.3333333333333333,\"#9c179e\"],[0.4444444444444444,\"#bd3786\"],[0.5555555555555556,\"#d8576b\"],[0.6666666666666666,\"#ed7953\"],[0.7777777777777778,\"#fb9f3a\"],[0.8888888888888888,\"#fdca26\"],[1.0,\"#f0f921\"]],\"type\":\"histogram2d\"}],\"histogram\":[{\"marker\":{\"pattern\":{\"fillmode\":\"overlay\",\"size\":10,\"solidity\":0.2}},\"type\":\"histogram\"}],\"mesh3d\":[{\"colorbar\":{\"outlinewidth\":0,\"ticks\":\"\"},\"type\":\"mesh3d\"}],\"parcoords\":[{\"line\":{\"colorbar\":{\"outlinewidth\":0,\"ticks\":\"\"}},\"type\":\"parcoords\"}],\"pie\":[{\"automargin\":true,\"type\":\"pie\"}],\"scatter3d\":[{\"line\":{\"colorbar\":{\"outlinewidth\":0,\"ticks\":\"\"}},\"marker\":{\"colorbar\":{\"outlinewidth\":0,\"ticks\":\"\"}},\"type\":\"scatter3d\"}],\"scattercarpet\":[{\"marker\":{\"colorbar\":{\"outlinewidth\":0,\"ticks\":\"\"}},\"type\":\"scattercarpet\"}],\"scattergeo\":[{\"marker\":{\"colorbar\":{\"outlinewidth\":0,\"ticks\":\"\"}},\"type\":\"scattergeo\"}],\"scattergl\":[{\"marker\":{\"colorbar\":{\"outlinewidth\":0,\"ticks\":\"\"}},\"type\":\"scattergl\"}],\"scattermapbox\":[{\"marker\":{\"colorbar\":{\"outlinewidth\":0,\"ticks\":\"\"}},\"type\":\"scattermapbox\"}],\"scatterpolargl\":[{\"marker\":{\"colorbar\":{\"outlinewidth\":0,\"ticks\":\"\"}},\"type\":\"scatterpolargl\"}],\"scatterpolar\":[{\"marker\":{\"colorbar\":{\"outlinewidth\":0,\"ticks\":\"\"}},\"type\":\"scatterpolar\"}],\"scatter\":[{\"fillpattern\":{\"fillmode\":\"overlay\",\"size\":10,\"solidity\":0.2},\"type\":\"scatter\"}],\"scatterternary\":[{\"marker\":{\"colorbar\":{\"outlinewidth\":0,\"ticks\":\"\"}},\"type\":\"scatterternary\"}],\"surface\":[{\"colorbar\":{\"outlinewidth\":0,\"ticks\":\"\"},\"colorscale\":[[0.0,\"#0d0887\"],[0.1111111111111111,\"#46039f\"],[0.2222222222222222,\"#7201a8\"],[0.3333333333333333,\"#9c179e\"],[0.4444444444444444,\"#bd3786\"],[0.5555555555555556,\"#d8576b\"],[0.6666666666666666,\"#ed7953\"],[0.7777777777777778,\"#fb9f3a\"],[0.8888888888888888,\"#fdca26\"],[1.0,\"#f0f921\"]],\"type\":\"surface\"}],\"table\":[{\"cells\":{\"fill\":{\"color\":\"#EBF0F8\"},\"line\":{\"color\":\"white\"}},\"header\":{\"fill\":{\"color\":\"#C8D4E3\"},\"line\":{\"color\":\"white\"}},\"type\":\"table\"}]},\"layout\":{\"annotationdefaults\":{\"arrowcolor\":\"#2a3f5f\",\"arrowhead\":0,\"arrowwidth\":1},\"autotypenumbers\":\"strict\",\"coloraxis\":{\"colorbar\":{\"outlinewidth\":0,\"ticks\":\"\"}},\"colorscale\":{\"diverging\":[[0,\"#8e0152\"],[0.1,\"#c51b7d\"],[0.2,\"#de77ae\"],[0.3,\"#f1b6da\"],[0.4,\"#fde0ef\"],[0.5,\"#f7f7f7\"],[0.6,\"#e6f5d0\"],[0.7,\"#b8e186\"],[0.8,\"#7fbc41\"],[0.9,\"#4d9221\"],[1,\"#276419\"]],\"sequential\":[[0.0,\"#0d0887\"],[0.1111111111111111,\"#46039f\"],[0.2222222222222222,\"#7201a8\"],[0.3333333333333333,\"#9c179e\"],[0.4444444444444444,\"#bd3786\"],[0.5555555555555556,\"#d8576b\"],[0.6666666666666666,\"#ed7953\"],[0.7777777777777778,\"#fb9f3a\"],[0.8888888888888888,\"#fdca26\"],[1.0,\"#f0f921\"]],\"sequentialminus\":[[0.0,\"#0d0887\"],[0.1111111111111111,\"#46039f\"],[0.2222222222222222,\"#7201a8\"],[0.3333333333333333,\"#9c179e\"],[0.4444444444444444,\"#bd3786\"],[0.5555555555555556,\"#d8576b\"],[0.6666666666666666,\"#ed7953\"],[0.7777777777777778,\"#fb9f3a\"],[0.8888888888888888,\"#fdca26\"],[1.0,\"#f0f921\"]]},\"colorway\":[\"#636efa\",\"#EF553B\",\"#00cc96\",\"#ab63fa\",\"#FFA15A\",\"#19d3f3\",\"#FF6692\",\"#B6E880\",\"#FF97FF\",\"#FECB52\"],\"font\":{\"color\":\"#2a3f5f\"},\"geo\":{\"bgcolor\":\"white\",\"lakecolor\":\"white\",\"landcolor\":\"white\",\"showlakes\":true,\"showland\":true,\"subunitcolor\":\"#C8D4E3\"},\"hoverlabel\":{\"align\":\"left\"},\"hovermode\":\"closest\",\"mapbox\":{\"style\":\"light\"},\"paper_bgcolor\":\"white\",\"plot_bgcolor\":\"white\",\"polar\":{\"angularaxis\":{\"gridcolor\":\"#EBF0F8\",\"linecolor\":\"#EBF0F8\",\"ticks\":\"\"},\"bgcolor\":\"white\",\"radialaxis\":{\"gridcolor\":\"#EBF0F8\",\"linecolor\":\"#EBF0F8\",\"ticks\":\"\"}},\"scene\":{\"xaxis\":{\"backgroundcolor\":\"white\",\"gridcolor\":\"#DFE8F3\",\"gridwidth\":2,\"linecolor\":\"#EBF0F8\",\"showbackground\":true,\"ticks\":\"\",\"zerolinecolor\":\"#EBF0F8\"},\"yaxis\":{\"backgroundcolor\":\"white\",\"gridcolor\":\"#DFE8F3\",\"gridwidth\":2,\"linecolor\":\"#EBF0F8\",\"showbackground\":true,\"ticks\":\"\",\"zerolinecolor\":\"#EBF0F8\"},\"zaxis\":{\"backgroundcolor\":\"white\",\"gridcolor\":\"#DFE8F3\",\"gridwidth\":2,\"linecolor\":\"#EBF0F8\",\"showbackground\":true,\"ticks\":\"\",\"zerolinecolor\":\"#EBF0F8\"}},\"shapedefaults\":{\"line\":{\"color\":\"#2a3f5f\"}},\"ternary\":{\"aaxis\":{\"gridcolor\":\"#DFE8F3\",\"linecolor\":\"#A2B1C6\",\"ticks\":\"\"},\"baxis\":{\"gridcolor\":\"#DFE8F3\",\"linecolor\":\"#A2B1C6\",\"ticks\":\"\"},\"bgcolor\":\"white\",\"caxis\":{\"gridcolor\":\"#DFE8F3\",\"linecolor\":\"#A2B1C6\",\"ticks\":\"\"}},\"title\":{\"x\":0.05},\"xaxis\":{\"automargin\":true,\"gridcolor\":\"#EBF0F8\",\"linecolor\":\"#EBF0F8\",\"ticks\":\"\",\"title\":{\"standoff\":15},\"zerolinecolor\":\"#EBF0F8\",\"zerolinewidth\":2},\"yaxis\":{\"automargin\":true,\"gridcolor\":\"#EBF0F8\",\"linecolor\":\"#EBF0F8\",\"ticks\":\"\",\"title\":{\"standoff\":15},\"zerolinecolor\":\"#EBF0F8\",\"zerolinewidth\":2}}},\"xaxis\":{\"anchor\":\"y\",\"domain\":[0.0,0.94]},\"yaxis\":{\"anchor\":\"x\",\"domain\":[0.0,1.0],\"title\":{\"font\":{\"size\":20},\"text\":\"Precision\"},\"range\":[0,1.3]},\"yaxis2\":{\"anchor\":\"x\",\"overlaying\":\"y\",\"side\":\"right\",\"scaleanchor\":0,\"showline\":false,\"showgrid\":false,\"showticklabels\":true,\"zeroline\":true,\"title\":{\"font\":{\"size\":20},\"text\":\"Recall\"},\"range\":[0,1.3]},\"legend\":{\"orientation\":\"h\",\"xanchor\":\"center\",\"x\":0.5,\"yanchor\":\"top\",\"y\":1.1},\"margin\":{\"l\":40,\"r\":0,\"b\":70,\"t\":20},\"font\":{\"size\":20,\"family\":\"Serif\",\"color\":\"black\"},\"barmode\":\"group\",\"bargap\":0.15,\"bargroupgap\":0.1,\"width\":1600,\"height\":700,\"hovermode\":\"x unified\",\"annotations\":[{\"font\":{\"color\":\"Black\",\"family\":\"Serif\",\"size\":20},\"showarrow\":false,\"text\":\"Dataset:\",\"x\":0,\"xanchor\":\"center\",\"xref\":\"paper\",\"y\":-0.08,\"yanchor\":\"bottom\",\"yref\":\"paper\"},{\"bgcolor\":\"#E5ECF6\",\"bordercolor\":\"#E5ECF6\",\"borderwidth\":2,\"font\":{\"color\":\"black\",\"size\":20},\"opacity\":0.8,\"showarrow\":false,\"text\":\"      Precision      \",\"x\":0.017,\"xanchor\":\"left\",\"xref\":\"x domain\",\"y\":1.015,\"yref\":\"y domain\"},{\"bgcolor\":\"#E5ECF6\",\"bordercolor\":\"#E5ECF6\",\"borderwidth\":2,\"font\":{\"color\":\"black\",\"size\":20},\"opacity\":0.8,\"showarrow\":false,\"text\":\"        Recall        \",\"x\":0.132,\"xanchor\":\"left\",\"xref\":\"x domain\",\"y\":1.015,\"yref\":\"y domain\"},{\"bgcolor\":\"#E5ECF6\",\"bordercolor\":\"#E5ECF6\",\"borderwidth\":2,\"font\":{\"color\":\"black\",\"size\":20},\"opacity\":0.8,\"showarrow\":false,\"text\":\"      Precision      \",\"x\":0.267,\"xanchor\":\"left\",\"xref\":\"x domain\",\"y\":1.015,\"yref\":\"y domain\"},{\"bgcolor\":\"#E5ECF6\",\"bordercolor\":\"#E5ECF6\",\"borderwidth\":2,\"font\":{\"color\":\"black\",\"size\":20},\"opacity\":0.8,\"showarrow\":false,\"text\":\"        Recall        \",\"x\":0.382,\"xanchor\":\"left\",\"xref\":\"x domain\",\"y\":1.015,\"yref\":\"y domain\"},{\"bgcolor\":\"#E5ECF6\",\"bordercolor\":\"#E5ECF6\",\"borderwidth\":2,\"font\":{\"color\":\"black\",\"size\":20},\"opacity\":0.8,\"showarrow\":false,\"text\":\"      Precision      \",\"x\":0.517,\"xanchor\":\"left\",\"xref\":\"x domain\",\"y\":1.015,\"yref\":\"y domain\"},{\"bgcolor\":\"#E5ECF6\",\"bordercolor\":\"#E5ECF6\",\"borderwidth\":2,\"font\":{\"color\":\"black\",\"size\":20},\"opacity\":0.8,\"showarrow\":false,\"text\":\"        Recall        \",\"x\":0.632,\"xanchor\":\"left\",\"xref\":\"x domain\",\"y\":1.015,\"yref\":\"y domain\"},{\"bgcolor\":\"#E5ECF6\",\"bordercolor\":\"#E5ECF6\",\"borderwidth\":2,\"font\":{\"color\":\"black\",\"size\":20},\"opacity\":0.8,\"showarrow\":false,\"text\":\"      Precision      \",\"x\":0.767,\"xanchor\":\"left\",\"xref\":\"x domain\",\"y\":1.015,\"yref\":\"y domain\"},{\"bgcolor\":\"#E5ECF6\",\"bordercolor\":\"#E5ECF6\",\"borderwidth\":2,\"font\":{\"color\":\"black\",\"size\":20},\"opacity\":0.8,\"showarrow\":false,\"text\":\"        Recall        \",\"x\":0.882,\"xanchor\":\"left\",\"xref\":\"x domain\",\"y\":1.015,\"yref\":\"y domain\"}]},                        {\"responsive\": true}                    ).then(function(){\n",
       "                            \n",
       "var gd = document.getElementById('8cb38681-5fdc-4b93-bfbd-d107daab7261');\n",
       "var x = new MutationObserver(function (mutations, observer) {{\n",
       "        var display = window.getComputedStyle(gd).display;\n",
       "        if (!display || display === 'none') {{\n",
       "            console.log([gd, 'removed!']);\n",
       "            Plotly.purge(gd);\n",
       "            observer.disconnect();\n",
       "        }}\n",
       "}});\n",
       "\n",
       "// Listen for the removal of the full notebook cells\n",
       "var notebookContainer = gd.closest('#notebook-container');\n",
       "if (notebookContainer) {{\n",
       "    x.observe(notebookContainer, {childList: true});\n",
       "}}\n",
       "\n",
       "// Listen for the clearing of the current output cell\n",
       "var outputEl = gd.closest('.output');\n",
       "if (outputEl) {{\n",
       "    x.observe(outputEl, {childList: true});\n",
       "}}\n",
       "\n",
       "                        })                };                });            </script>        </div>"
      ]
     },
     "metadata": {},
     "output_type": "display_data"
    }
   ],
   "source": [
    "all_sum = pd.DataFrame(np.load(f\"../results/stored_results_{version}.npy\", allow_pickle=True), \n",
    "                       columns=['dataset', 'model', 'elapsed_mean', 'elapsed_std', 'nnz_mean', 'nnz_std', \n",
    "                                'fdr_mean', 'fdr_std', 'tpr_mean', 'tpr_std', 'fpr_mean', 'fpr_std', \n",
    "                                'precision_mean', 'precision_std', 'recall_mean', 'recall_std',\n",
    "                                'F1_mean', 'F1_std', 'shd_mean', 'shd_std', 'SID_mean', 'SID_std'\n",
    "                                ])\n",
    "\n",
    "all_sum_aspcr = pd.DataFrame(np.load(f\"../results/stored_results_aspcr_{version}.npy\", allow_pickle=True), \n",
    "                       columns=['dataset', 'model', 'elapsed_mean', 'elapsed_std', 'nnz_mean', 'nnz_std', \n",
    "                                'fdr_mean', 'fdr_std', 'tpr_mean', 'tpr_std', 'fpr_mean', 'fpr_std', \n",
    "                                'precision_mean', 'precision_std', 'recall_mean', 'recall_std',\n",
    "                                'F1_mean', 'F1_std', 'shd_mean', 'shd_std', 'SID_mean', 'SID_std'\n",
    "                                ])\n",
    "all_sum_aspcr['model'] = 'ASPCR'\n",
    "\n",
    "all_sum = pd.concat([all_sum, all_sum_aspcr])\n",
    "\n",
    "all_sum['n_edges'] = all_sum['dataset'].map(dags_arcs_map)\n",
    "all_sum['n_nodes'] = all_sum['dataset'].map(dags_nodes_map)\n",
    "for var in ['shd','SID']:\n",
    "    all_sum['p_'+var+'_mean'] = all_sum[var+'_mean'].astype(float)/all_sum['n_edges'].astype(int)\n",
    "    all_sum['p_'+var+'_std'] = all_sum[var+'_std'].astype(float)/all_sum['n_edges'].astype(int)\n",
    "all_sum['dataset'] = [a.upper() for a in all_sum[\"dataset\"].astype(str)]\n",
    "all_sum['dataset'] = all_sum['dataset'] +np.repeat(\"<br> |V|=\",len(all_sum))+ all_sum[\"n_nodes\"].astype(str)+np.repeat(\", |E|=\",len(all_sum))+\\\n",
    "                     all_sum[\"n_edges\"].astype(str)\n",
    "\n",
    "double_bar_chart_plotly(all_sum, ['p_shd','p_SID'], names_dict, colors_dict, methods, save_figs=save_figs, output_name=\"../results/figs/Fig.7_SHD_SID_dag.html\", debug=False, range_y1=[0,2], range_y2=[0,5.6])#\n",
    "bar_chart_plotly(all_sum, 'nnz', names_dict, colors_dict, methods, save_figs=save_figs, output_name=\"../results/figs/Fig.8_EGS_dag.html\", debug=False)\n",
    "bar_chart_plotly(all_sum, 'F1', names_dict, colors_dict, methods, save_figs=save_figs, output_name=\"../results/figs/Fig.9_F1_dag.html\", debug=False)\n",
    "double_bar_chart_plotly(all_sum, ['precision','recall'], names_dict, colors_dict, methods, save_figs=save_figs, output_name=\"../results/figs/Fig.10_pre_rec_dag.html\", debug=False)"
   ]
  }
 ],
 "metadata": {
  "kernelspec": {
   "display_name": "discoclean",
   "language": "python",
   "name": "python3"
  },
  "language_info": {
   "codemirror_mode": {
    "name": "ipython",
    "version": 3
   },
   "file_extension": ".py",
   "mimetype": "text/x-python",
   "name": "python",
   "nbconvert_exporter": "python",
   "pygments_lexer": "ipython3",
   "version": "3.10.12"
  }
 },
 "nbformat": 4,
 "nbformat_minor": 2
}
