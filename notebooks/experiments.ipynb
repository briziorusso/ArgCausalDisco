{
 "cells": [
  {
   "cell_type": "markdown",
   "metadata": {},
   "source": [
    "# Argumentative Causal Discovery"
   ]
  },
  {
   "cell_type": "markdown",
   "metadata": {},
   "source": [
    "Notebook collecting results for causal discovery algorithm d-ABA"
   ]
  },
  {
   "cell_type": "code",
   "execution_count": 24,
   "metadata": {},
   "outputs": [
    {
     "name": "stdout",
     "output_type": "stream",
     "text": [
      "['../', '../', '../', '../', '../', '/vol/bitbucket/fr920/ArgCausalDisco/notebooks', '/usr/lib/python310.zip', '/usr/lib/python3.10', '/usr/lib/python3.10/lib-dynload', '', '/vol/bitbucket/fr920/envs/discoclean/lib/python3.10/site-packages', '../utils/', '../utils/', '../utils/', '../utils/', '../utils/']\n"
     ]
    }
   ],
   "source": [
    "import warnings\n",
    "warnings.filterwarnings('ignore')\n",
    "import sys\n",
    "sys.path.insert(0,'../')\n",
    "import numpy as np\n",
    "import pandas as pd\n",
    "pd.set_option('display.max_rows', 2000)\n",
    "import networkx as nx\n",
    "sys.path.append('../utils/')\n",
    "from plotting import *\n",
    "print(sys.path)\n",
    "\n",
    "save_figs = True\n",
    "debug = False\n",
    "dgp_list = ['gauss', 'exp', 'gumbel', 'uniform', 'mlp', 'mim', 'gp', 'gp-add']\n",
    "model_list = ['pc_max','cam','fgs','nt', 'mcsl', 'spc_bot_kci_001']\n",
    "names_dict = {'pc_max':'Max-PC', 'fgs':'FGS', 'spc_bot_kci_001':'SPC (Ours)', 'cam':'CAM', 'nt':'NOTEARS-MLP', 'mcsl':'MCSL-MLP', 'ges':'GES', 'random':'Random', 'grandag':'GraN-DAG', 'abapc':'ABAPC (Ours)'}\n",
    "symbols_dict = {'abapc':'triangle-down-dot','pc_max':'square-dot','fgs':'triangle-up-dot','spc_bot_kci_001':'diamond-dot','cam':'triangle-down-dot','nt':'pentagon-dot','mcsl':'hexagon2-dot', 'ges':'triangle-right','grandag':'octagon-dot', 'random':'x'}  \n",
    "colors_dict = {'abapc':sec_green,'pc_max':main_blue,'fgs':main_green,'spc_bot_kci_001':sec_blue,'cam':sec_green,'nt':main_purple,'mcsl':sec_purple, 'ges':sec_purple, 'random':'grey', 'grandag':sec_orange}\n"
   ]
  },
  {
   "cell_type": "code",
   "execution_count": 25,
   "metadata": {},
   "outputs": [
    {
     "data": {
      "application/vnd.plotly.v1+json": {
       "config": {
        "plotlyServerURL": "https://plot.ly"
       },
       "data": [
        {
         "error_y": {
          "array": [
           0.33,
           0.315,
           0.24666666666666667,
           0.17875
          ],
          "type": "data",
          "visible": true
         },
         "marker": {
          "color": "grey"
         },
         "name": "Random",
         "opacity": 0.6,
         "type": "bar",
         "x": [
          "CANCER<br> |V|=5<br> |E|=4<br> z=0.4",
          "EARTHQUAKE<br> |V|=5<br> |E|=4<br> z=0.4",
          "SURVEY<br> |V|=6<br> |E|=6<br> z=0.4",
          "ASIA<br> |V|=8<br> |E|=8<br> z=0.29"
         ],
         "y": [
          1.3,
          1.35,
          1.4666666666666668,
          1.675
         ]
        },
        {
         "error_y": {
          "array": [
           null,
           null,
           null,
           null
          ],
          "type": "data",
          "visible": true
         },
         "marker": {
          "color": "#379f9f"
         },
         "name": "FGS",
         "opacity": 0.6,
         "type": "bar",
         "x": [
          "CANCER<br> |V|=5<br> |E|=4<br> z=0.4",
          "EARTHQUAKE<br> |V|=5<br> |E|=4<br> z=0.4",
          "SURVEY<br> |V|=6<br> |E|=6<br> z=0.4",
          "ASIA<br> |V|=8<br> |E|=8<br> z=0.29"
         ],
         "y": [
          0.75,
          0.5,
          1,
          1.375
         ]
        },
        {
         "error_y": {
          "array": [
           0.235,
           0.3725,
           0.2816666666666667,
           0.1025
          ],
          "type": "data",
          "visible": true
         },
         "marker": {
          "color": "#441469"
         },
         "name": "MCSL-MLP",
         "opacity": 0.6,
         "type": "bar",
         "x": [
          "CANCER<br> |V|=5<br> |E|=4<br> z=0.4",
          "EARTHQUAKE<br> |V|=5<br> |E|=4<br> z=0.4",
          "SURVEY<br> |V|=6<br> |E|=6<br> z=0.4",
          "ASIA<br> |V|=8<br> |E|=8<br> z=0.29"
         ],
         "y": [
          1.25,
          1.075,
          1.3666666666666665,
          0.9125
         ]
        },
        {
         "error_y": {
          "array": [
           0,
           0.2675,
           0.08666666666666667,
           0.145
          ],
          "type": "data",
          "visible": true
         },
         "marker": {
          "color": "#9454c4"
         },
         "name": "NOTEARS-MLP",
         "opacity": 0.6,
         "type": "bar",
         "x": [
          "CANCER<br> |V|=5<br> |E|=4<br> z=0.4",
          "EARTHQUAKE<br> |V|=5<br> |E|=4<br> z=0.4",
          "SURVEY<br> |V|=6<br> |E|=6<br> z=0.4",
          "ASIA<br> |V|=8<br> |E|=8<br> z=0.29"
         ],
         "y": [
          1,
          0.35,
          0.9333333333333332,
          0.8375
         ]
        },
        {
         "error_y": {
          "array": [
           null,
           null,
           null,
           null
          ],
          "type": "data",
          "visible": true
         },
         "marker": {
          "color": "#005383"
         },
         "name": "Max-PC",
         "opacity": 0.6,
         "type": "bar",
         "x": [
          "CANCER<br> |V|=5<br> |E|=4<br> z=0.4",
          "EARTHQUAKE<br> |V|=5<br> |E|=4<br> z=0.4",
          "SURVEY<br> |V|=6<br> |E|=6<br> z=0.4",
          "ASIA<br> |V|=8<br> |E|=8<br> z=0.29"
         ],
         "y": [
          0.5,
          1,
          1,
          1
         ]
        },
        {
         "error_y": {
          "array": [
           null,
           null,
           null,
           null
          ],
          "type": "data",
          "visible": true
         },
         "marker": {
          "color": "#0085CA"
         },
         "name": "SPC (Ours)",
         "opacity": 0.6,
         "type": "bar",
         "x": [
          "CANCER<br> |V|=5<br> |E|=4<br> z=0.4",
          "EARTHQUAKE<br> |V|=5<br> |E|=4<br> z=0.4",
          "SURVEY<br> |V|=6<br> |E|=6<br> z=0.4",
          "ASIA<br> |V|=8<br> |E|=8<br> z=0.29"
         ],
         "y": [
          0.5,
          0.5,
          0.8333333333333334,
          0.75
         ]
        },
        {
         "error_y": {
          "array": [
           null,
           null,
           null,
           null
          ],
          "type": "data",
          "visible": true
         },
         "marker": {
          "color": "#196363"
         },
         "name": "ABAPC (Ours)",
         "opacity": 0.6,
         "type": "bar",
         "x": [
          "CANCER<br> |V|=5<br> |E|=4<br> z=0.4",
          "EARTHQUAKE<br> |V|=5<br> |E|=4<br> z=0.4",
          "SURVEY<br> |V|=6<br> |E|=6<br> z=0.4",
          "ASIA<br> |V|=8<br> |E|=8<br> z=0.29"
         ],
         "y": [
          0.75,
          0,
          0.6666666666666666,
          0.875
         ]
        }
       ],
       "layout": {
        "annotations": [
         {
          "font": {
           "color": "Black",
           "family": "Serif",
           "size": 20
          },
          "showarrow": false,
          "text": "Dataset:",
          "x": 0,
          "xanchor": "center",
          "xref": "paper",
          "y": -0.05,
          "yanchor": "bottom",
          "yref": "paper"
         }
        ],
        "bargap": 0.15,
        "bargroupgap": 0.1,
        "barmode": "group",
        "font": {
         "color": "black",
         "family": "Serif",
         "size": 20
        },
        "height": 700,
        "hovermode": "x unified",
        "legend": {
         "orientation": "h",
         "x": 0.5,
         "xanchor": "center",
         "y": 1,
         "yanchor": "top"
        },
        "margin": {
         "b": 80,
         "l": 40,
         "r": 40,
         "t": 20
        },
        "template": {
         "data": {
          "bar": [
           {
            "error_x": {
             "color": "#2a3f5f"
            },
            "error_y": {
             "color": "#2a3f5f"
            },
            "marker": {
             "line": {
              "color": "white",
              "width": 0.5
             },
             "pattern": {
              "fillmode": "overlay",
              "size": 10,
              "solidity": 0.2
             }
            },
            "type": "bar"
           }
          ],
          "barpolar": [
           {
            "marker": {
             "line": {
              "color": "white",
              "width": 0.5
             },
             "pattern": {
              "fillmode": "overlay",
              "size": 10,
              "solidity": 0.2
             }
            },
            "type": "barpolar"
           }
          ],
          "carpet": [
           {
            "aaxis": {
             "endlinecolor": "#2a3f5f",
             "gridcolor": "#C8D4E3",
             "linecolor": "#C8D4E3",
             "minorgridcolor": "#C8D4E3",
             "startlinecolor": "#2a3f5f"
            },
            "baxis": {
             "endlinecolor": "#2a3f5f",
             "gridcolor": "#C8D4E3",
             "linecolor": "#C8D4E3",
             "minorgridcolor": "#C8D4E3",
             "startlinecolor": "#2a3f5f"
            },
            "type": "carpet"
           }
          ],
          "choropleth": [
           {
            "colorbar": {
             "outlinewidth": 0,
             "ticks": ""
            },
            "type": "choropleth"
           }
          ],
          "contour": [
           {
            "colorbar": {
             "outlinewidth": 0,
             "ticks": ""
            },
            "colorscale": [
             [
              0,
              "#0d0887"
             ],
             [
              0.1111111111111111,
              "#46039f"
             ],
             [
              0.2222222222222222,
              "#7201a8"
             ],
             [
              0.3333333333333333,
              "#9c179e"
             ],
             [
              0.4444444444444444,
              "#bd3786"
             ],
             [
              0.5555555555555556,
              "#d8576b"
             ],
             [
              0.6666666666666666,
              "#ed7953"
             ],
             [
              0.7777777777777778,
              "#fb9f3a"
             ],
             [
              0.8888888888888888,
              "#fdca26"
             ],
             [
              1,
              "#f0f921"
             ]
            ],
            "type": "contour"
           }
          ],
          "contourcarpet": [
           {
            "colorbar": {
             "outlinewidth": 0,
             "ticks": ""
            },
            "type": "contourcarpet"
           }
          ],
          "heatmap": [
           {
            "colorbar": {
             "outlinewidth": 0,
             "ticks": ""
            },
            "colorscale": [
             [
              0,
              "#0d0887"
             ],
             [
              0.1111111111111111,
              "#46039f"
             ],
             [
              0.2222222222222222,
              "#7201a8"
             ],
             [
              0.3333333333333333,
              "#9c179e"
             ],
             [
              0.4444444444444444,
              "#bd3786"
             ],
             [
              0.5555555555555556,
              "#d8576b"
             ],
             [
              0.6666666666666666,
              "#ed7953"
             ],
             [
              0.7777777777777778,
              "#fb9f3a"
             ],
             [
              0.8888888888888888,
              "#fdca26"
             ],
             [
              1,
              "#f0f921"
             ]
            ],
            "type": "heatmap"
           }
          ],
          "heatmapgl": [
           {
            "colorbar": {
             "outlinewidth": 0,
             "ticks": ""
            },
            "colorscale": [
             [
              0,
              "#0d0887"
             ],
             [
              0.1111111111111111,
              "#46039f"
             ],
             [
              0.2222222222222222,
              "#7201a8"
             ],
             [
              0.3333333333333333,
              "#9c179e"
             ],
             [
              0.4444444444444444,
              "#bd3786"
             ],
             [
              0.5555555555555556,
              "#d8576b"
             ],
             [
              0.6666666666666666,
              "#ed7953"
             ],
             [
              0.7777777777777778,
              "#fb9f3a"
             ],
             [
              0.8888888888888888,
              "#fdca26"
             ],
             [
              1,
              "#f0f921"
             ]
            ],
            "type": "heatmapgl"
           }
          ],
          "histogram": [
           {
            "marker": {
             "pattern": {
              "fillmode": "overlay",
              "size": 10,
              "solidity": 0.2
             }
            },
            "type": "histogram"
           }
          ],
          "histogram2d": [
           {
            "colorbar": {
             "outlinewidth": 0,
             "ticks": ""
            },
            "colorscale": [
             [
              0,
              "#0d0887"
             ],
             [
              0.1111111111111111,
              "#46039f"
             ],
             [
              0.2222222222222222,
              "#7201a8"
             ],
             [
              0.3333333333333333,
              "#9c179e"
             ],
             [
              0.4444444444444444,
              "#bd3786"
             ],
             [
              0.5555555555555556,
              "#d8576b"
             ],
             [
              0.6666666666666666,
              "#ed7953"
             ],
             [
              0.7777777777777778,
              "#fb9f3a"
             ],
             [
              0.8888888888888888,
              "#fdca26"
             ],
             [
              1,
              "#f0f921"
             ]
            ],
            "type": "histogram2d"
           }
          ],
          "histogram2dcontour": [
           {
            "colorbar": {
             "outlinewidth": 0,
             "ticks": ""
            },
            "colorscale": [
             [
              0,
              "#0d0887"
             ],
             [
              0.1111111111111111,
              "#46039f"
             ],
             [
              0.2222222222222222,
              "#7201a8"
             ],
             [
              0.3333333333333333,
              "#9c179e"
             ],
             [
              0.4444444444444444,
              "#bd3786"
             ],
             [
              0.5555555555555556,
              "#d8576b"
             ],
             [
              0.6666666666666666,
              "#ed7953"
             ],
             [
              0.7777777777777778,
              "#fb9f3a"
             ],
             [
              0.8888888888888888,
              "#fdca26"
             ],
             [
              1,
              "#f0f921"
             ]
            ],
            "type": "histogram2dcontour"
           }
          ],
          "mesh3d": [
           {
            "colorbar": {
             "outlinewidth": 0,
             "ticks": ""
            },
            "type": "mesh3d"
           }
          ],
          "parcoords": [
           {
            "line": {
             "colorbar": {
              "outlinewidth": 0,
              "ticks": ""
             }
            },
            "type": "parcoords"
           }
          ],
          "pie": [
           {
            "automargin": true,
            "type": "pie"
           }
          ],
          "scatter": [
           {
            "fillpattern": {
             "fillmode": "overlay",
             "size": 10,
             "solidity": 0.2
            },
            "type": "scatter"
           }
          ],
          "scatter3d": [
           {
            "line": {
             "colorbar": {
              "outlinewidth": 0,
              "ticks": ""
             }
            },
            "marker": {
             "colorbar": {
              "outlinewidth": 0,
              "ticks": ""
             }
            },
            "type": "scatter3d"
           }
          ],
          "scattercarpet": [
           {
            "marker": {
             "colorbar": {
              "outlinewidth": 0,
              "ticks": ""
             }
            },
            "type": "scattercarpet"
           }
          ],
          "scattergeo": [
           {
            "marker": {
             "colorbar": {
              "outlinewidth": 0,
              "ticks": ""
             }
            },
            "type": "scattergeo"
           }
          ],
          "scattergl": [
           {
            "marker": {
             "colorbar": {
              "outlinewidth": 0,
              "ticks": ""
             }
            },
            "type": "scattergl"
           }
          ],
          "scattermapbox": [
           {
            "marker": {
             "colorbar": {
              "outlinewidth": 0,
              "ticks": ""
             }
            },
            "type": "scattermapbox"
           }
          ],
          "scatterpolar": [
           {
            "marker": {
             "colorbar": {
              "outlinewidth": 0,
              "ticks": ""
             }
            },
            "type": "scatterpolar"
           }
          ],
          "scatterpolargl": [
           {
            "marker": {
             "colorbar": {
              "outlinewidth": 0,
              "ticks": ""
             }
            },
            "type": "scatterpolargl"
           }
          ],
          "scatterternary": [
           {
            "marker": {
             "colorbar": {
              "outlinewidth": 0,
              "ticks": ""
             }
            },
            "type": "scatterternary"
           }
          ],
          "surface": [
           {
            "colorbar": {
             "outlinewidth": 0,
             "ticks": ""
            },
            "colorscale": [
             [
              0,
              "#0d0887"
             ],
             [
              0.1111111111111111,
              "#46039f"
             ],
             [
              0.2222222222222222,
              "#7201a8"
             ],
             [
              0.3333333333333333,
              "#9c179e"
             ],
             [
              0.4444444444444444,
              "#bd3786"
             ],
             [
              0.5555555555555556,
              "#d8576b"
             ],
             [
              0.6666666666666666,
              "#ed7953"
             ],
             [
              0.7777777777777778,
              "#fb9f3a"
             ],
             [
              0.8888888888888888,
              "#fdca26"
             ],
             [
              1,
              "#f0f921"
             ]
            ],
            "type": "surface"
           }
          ],
          "table": [
           {
            "cells": {
             "fill": {
              "color": "#EBF0F8"
             },
             "line": {
              "color": "white"
             }
            },
            "header": {
             "fill": {
              "color": "#C8D4E3"
             },
             "line": {
              "color": "white"
             }
            },
            "type": "table"
           }
          ]
         },
         "layout": {
          "annotationdefaults": {
           "arrowcolor": "#2a3f5f",
           "arrowhead": 0,
           "arrowwidth": 1
          },
          "autotypenumbers": "strict",
          "coloraxis": {
           "colorbar": {
            "outlinewidth": 0,
            "ticks": ""
           }
          },
          "colorscale": {
           "diverging": [
            [
             0,
             "#8e0152"
            ],
            [
             0.1,
             "#c51b7d"
            ],
            [
             0.2,
             "#de77ae"
            ],
            [
             0.3,
             "#f1b6da"
            ],
            [
             0.4,
             "#fde0ef"
            ],
            [
             0.5,
             "#f7f7f7"
            ],
            [
             0.6,
             "#e6f5d0"
            ],
            [
             0.7,
             "#b8e186"
            ],
            [
             0.8,
             "#7fbc41"
            ],
            [
             0.9,
             "#4d9221"
            ],
            [
             1,
             "#276419"
            ]
           ],
           "sequential": [
            [
             0,
             "#0d0887"
            ],
            [
             0.1111111111111111,
             "#46039f"
            ],
            [
             0.2222222222222222,
             "#7201a8"
            ],
            [
             0.3333333333333333,
             "#9c179e"
            ],
            [
             0.4444444444444444,
             "#bd3786"
            ],
            [
             0.5555555555555556,
             "#d8576b"
            ],
            [
             0.6666666666666666,
             "#ed7953"
            ],
            [
             0.7777777777777778,
             "#fb9f3a"
            ],
            [
             0.8888888888888888,
             "#fdca26"
            ],
            [
             1,
             "#f0f921"
            ]
           ],
           "sequentialminus": [
            [
             0,
             "#0d0887"
            ],
            [
             0.1111111111111111,
             "#46039f"
            ],
            [
             0.2222222222222222,
             "#7201a8"
            ],
            [
             0.3333333333333333,
             "#9c179e"
            ],
            [
             0.4444444444444444,
             "#bd3786"
            ],
            [
             0.5555555555555556,
             "#d8576b"
            ],
            [
             0.6666666666666666,
             "#ed7953"
            ],
            [
             0.7777777777777778,
             "#fb9f3a"
            ],
            [
             0.8888888888888888,
             "#fdca26"
            ],
            [
             1,
             "#f0f921"
            ]
           ]
          },
          "colorway": [
           "#636efa",
           "#EF553B",
           "#00cc96",
           "#ab63fa",
           "#FFA15A",
           "#19d3f3",
           "#FF6692",
           "#B6E880",
           "#FF97FF",
           "#FECB52"
          ],
          "font": {
           "color": "#2a3f5f"
          },
          "geo": {
           "bgcolor": "white",
           "lakecolor": "white",
           "landcolor": "white",
           "showlakes": true,
           "showland": true,
           "subunitcolor": "#C8D4E3"
          },
          "hoverlabel": {
           "align": "left"
          },
          "hovermode": "closest",
          "mapbox": {
           "style": "light"
          },
          "paper_bgcolor": "white",
          "plot_bgcolor": "white",
          "polar": {
           "angularaxis": {
            "gridcolor": "#EBF0F8",
            "linecolor": "#EBF0F8",
            "ticks": ""
           },
           "bgcolor": "white",
           "radialaxis": {
            "gridcolor": "#EBF0F8",
            "linecolor": "#EBF0F8",
            "ticks": ""
           }
          },
          "scene": {
           "xaxis": {
            "backgroundcolor": "white",
            "gridcolor": "#DFE8F3",
            "gridwidth": 2,
            "linecolor": "#EBF0F8",
            "showbackground": true,
            "ticks": "",
            "zerolinecolor": "#EBF0F8"
           },
           "yaxis": {
            "backgroundcolor": "white",
            "gridcolor": "#DFE8F3",
            "gridwidth": 2,
            "linecolor": "#EBF0F8",
            "showbackground": true,
            "ticks": "",
            "zerolinecolor": "#EBF0F8"
           },
           "zaxis": {
            "backgroundcolor": "white",
            "gridcolor": "#DFE8F3",
            "gridwidth": 2,
            "linecolor": "#EBF0F8",
            "showbackground": true,
            "ticks": "",
            "zerolinecolor": "#EBF0F8"
           }
          },
          "shapedefaults": {
           "line": {
            "color": "#2a3f5f"
           }
          },
          "ternary": {
           "aaxis": {
            "gridcolor": "#DFE8F3",
            "linecolor": "#A2B1C6",
            "ticks": ""
           },
           "baxis": {
            "gridcolor": "#DFE8F3",
            "linecolor": "#A2B1C6",
            "ticks": ""
           },
           "bgcolor": "white",
           "caxis": {
            "gridcolor": "#DFE8F3",
            "linecolor": "#A2B1C6",
            "ticks": ""
           }
          },
          "title": {
           "x": 0.05
          },
          "xaxis": {
           "automargin": true,
           "gridcolor": "#EBF0F8",
           "linecolor": "#EBF0F8",
           "ticks": "",
           "title": {
            "standoff": 15
           },
           "zerolinecolor": "#EBF0F8",
           "zerolinewidth": 2
          },
          "yaxis": {
           "automargin": true,
           "gridcolor": "#EBF0F8",
           "linecolor": "#EBF0F8",
           "ticks": "",
           "title": {
            "standoff": 15
           },
           "zerolinecolor": "#EBF0F8",
           "zerolinewidth": 2
          }
         }
        },
        "width": 1600,
        "yaxis": {
         "title": {
          "font": {
           "size": 20
          },
          "text": "Normalised SHD = SHD / Number of Edges in DAG"
         }
        }
       }
      },
      "text/html": [
       "<div>                            <div id=\"662bc19d-e0d1-4ccf-95d1-4eced65bd706\" class=\"plotly-graph-div\" style=\"height:700px; width:1600px;\"></div>            <script type=\"text/javascript\">                require([\"plotly\"], function(Plotly) {                    window.PLOTLYENV=window.PLOTLYENV || {};                                    if (document.getElementById(\"662bc19d-e0d1-4ccf-95d1-4eced65bd706\")) {                    Plotly.newPlot(                        \"662bc19d-e0d1-4ccf-95d1-4eced65bd706\",                        [{\"error_y\":{\"array\":[0.33,0.315,0.24666666666666667,0.17875],\"type\":\"data\",\"visible\":true},\"marker\":{\"color\":\"grey\"},\"name\":\"Random\",\"opacity\":0.6,\"x\":[\"CANCER\\u003cbr\\u003e |V|=5\\u003cbr\\u003e |E|=4\\u003cbr\\u003e z=0.4\",\"EARTHQUAKE\\u003cbr\\u003e |V|=5\\u003cbr\\u003e |E|=4\\u003cbr\\u003e z=0.4\",\"SURVEY\\u003cbr\\u003e |V|=6\\u003cbr\\u003e |E|=6\\u003cbr\\u003e z=0.4\",\"ASIA\\u003cbr\\u003e |V|=8\\u003cbr\\u003e |E|=8\\u003cbr\\u003e z=0.29\"],\"y\":[1.3,1.35,1.4666666666666668,1.675],\"type\":\"bar\"},{\"error_y\":{\"array\":[null,null,null,null],\"type\":\"data\",\"visible\":true},\"marker\":{\"color\":\"#379f9f\"},\"name\":\"FGS\",\"opacity\":0.6,\"x\":[\"CANCER\\u003cbr\\u003e |V|=5\\u003cbr\\u003e |E|=4\\u003cbr\\u003e z=0.4\",\"EARTHQUAKE\\u003cbr\\u003e |V|=5\\u003cbr\\u003e |E|=4\\u003cbr\\u003e z=0.4\",\"SURVEY\\u003cbr\\u003e |V|=6\\u003cbr\\u003e |E|=6\\u003cbr\\u003e z=0.4\",\"ASIA\\u003cbr\\u003e |V|=8\\u003cbr\\u003e |E|=8\\u003cbr\\u003e z=0.29\"],\"y\":[0.75,0.5,1.0,1.375],\"type\":\"bar\"},{\"error_y\":{\"array\":[0.235,0.3725,0.2816666666666667,0.1025],\"type\":\"data\",\"visible\":true},\"marker\":{\"color\":\"#441469\"},\"name\":\"MCSL-MLP\",\"opacity\":0.6,\"x\":[\"CANCER\\u003cbr\\u003e |V|=5\\u003cbr\\u003e |E|=4\\u003cbr\\u003e z=0.4\",\"EARTHQUAKE\\u003cbr\\u003e |V|=5\\u003cbr\\u003e |E|=4\\u003cbr\\u003e z=0.4\",\"SURVEY\\u003cbr\\u003e |V|=6\\u003cbr\\u003e |E|=6\\u003cbr\\u003e z=0.4\",\"ASIA\\u003cbr\\u003e |V|=8\\u003cbr\\u003e |E|=8\\u003cbr\\u003e z=0.29\"],\"y\":[1.25,1.075,1.3666666666666665,0.9125],\"type\":\"bar\"},{\"error_y\":{\"array\":[0.0,0.2675,0.08666666666666667,0.145],\"type\":\"data\",\"visible\":true},\"marker\":{\"color\":\"#9454c4\"},\"name\":\"NOTEARS-MLP\",\"opacity\":0.6,\"x\":[\"CANCER\\u003cbr\\u003e |V|=5\\u003cbr\\u003e |E|=4\\u003cbr\\u003e z=0.4\",\"EARTHQUAKE\\u003cbr\\u003e |V|=5\\u003cbr\\u003e |E|=4\\u003cbr\\u003e z=0.4\",\"SURVEY\\u003cbr\\u003e |V|=6\\u003cbr\\u003e |E|=6\\u003cbr\\u003e z=0.4\",\"ASIA\\u003cbr\\u003e |V|=8\\u003cbr\\u003e |E|=8\\u003cbr\\u003e z=0.29\"],\"y\":[1.0,0.35,0.9333333333333332,0.8375],\"type\":\"bar\"},{\"error_y\":{\"array\":[null,null,null,null],\"type\":\"data\",\"visible\":true},\"marker\":{\"color\":\"#005383\"},\"name\":\"Max-PC\",\"opacity\":0.6,\"x\":[\"CANCER\\u003cbr\\u003e |V|=5\\u003cbr\\u003e |E|=4\\u003cbr\\u003e z=0.4\",\"EARTHQUAKE\\u003cbr\\u003e |V|=5\\u003cbr\\u003e |E|=4\\u003cbr\\u003e z=0.4\",\"SURVEY\\u003cbr\\u003e |V|=6\\u003cbr\\u003e |E|=6\\u003cbr\\u003e z=0.4\",\"ASIA\\u003cbr\\u003e |V|=8\\u003cbr\\u003e |E|=8\\u003cbr\\u003e z=0.29\"],\"y\":[0.5,1.0,1.0,1.0],\"type\":\"bar\"},{\"error_y\":{\"array\":[null,null,null,null],\"type\":\"data\",\"visible\":true},\"marker\":{\"color\":\"#0085CA\"},\"name\":\"SPC (Ours)\",\"opacity\":0.6,\"x\":[\"CANCER\\u003cbr\\u003e |V|=5\\u003cbr\\u003e |E|=4\\u003cbr\\u003e z=0.4\",\"EARTHQUAKE\\u003cbr\\u003e |V|=5\\u003cbr\\u003e |E|=4\\u003cbr\\u003e z=0.4\",\"SURVEY\\u003cbr\\u003e |V|=6\\u003cbr\\u003e |E|=6\\u003cbr\\u003e z=0.4\",\"ASIA\\u003cbr\\u003e |V|=8\\u003cbr\\u003e |E|=8\\u003cbr\\u003e z=0.29\"],\"y\":[0.5,0.5,0.8333333333333334,0.75],\"type\":\"bar\"},{\"error_y\":{\"array\":[null,null,null,null],\"type\":\"data\",\"visible\":true},\"marker\":{\"color\":\"#196363\"},\"name\":\"ABAPC (Ours)\",\"opacity\":0.6,\"x\":[\"CANCER\\u003cbr\\u003e |V|=5\\u003cbr\\u003e |E|=4\\u003cbr\\u003e z=0.4\",\"EARTHQUAKE\\u003cbr\\u003e |V|=5\\u003cbr\\u003e |E|=4\\u003cbr\\u003e z=0.4\",\"SURVEY\\u003cbr\\u003e |V|=6\\u003cbr\\u003e |E|=6\\u003cbr\\u003e z=0.4\",\"ASIA\\u003cbr\\u003e |V|=8\\u003cbr\\u003e |E|=8\\u003cbr\\u003e z=0.29\"],\"y\":[0.75,0.0,0.6666666666666666,0.875],\"type\":\"bar\"}],                        {\"template\":{\"data\":{\"barpolar\":[{\"marker\":{\"line\":{\"color\":\"white\",\"width\":0.5},\"pattern\":{\"fillmode\":\"overlay\",\"size\":10,\"solidity\":0.2}},\"type\":\"barpolar\"}],\"bar\":[{\"error_x\":{\"color\":\"#2a3f5f\"},\"error_y\":{\"color\":\"#2a3f5f\"},\"marker\":{\"line\":{\"color\":\"white\",\"width\":0.5},\"pattern\":{\"fillmode\":\"overlay\",\"size\":10,\"solidity\":0.2}},\"type\":\"bar\"}],\"carpet\":[{\"aaxis\":{\"endlinecolor\":\"#2a3f5f\",\"gridcolor\":\"#C8D4E3\",\"linecolor\":\"#C8D4E3\",\"minorgridcolor\":\"#C8D4E3\",\"startlinecolor\":\"#2a3f5f\"},\"baxis\":{\"endlinecolor\":\"#2a3f5f\",\"gridcolor\":\"#C8D4E3\",\"linecolor\":\"#C8D4E3\",\"minorgridcolor\":\"#C8D4E3\",\"startlinecolor\":\"#2a3f5f\"},\"type\":\"carpet\"}],\"choropleth\":[{\"colorbar\":{\"outlinewidth\":0,\"ticks\":\"\"},\"type\":\"choropleth\"}],\"contourcarpet\":[{\"colorbar\":{\"outlinewidth\":0,\"ticks\":\"\"},\"type\":\"contourcarpet\"}],\"contour\":[{\"colorbar\":{\"outlinewidth\":0,\"ticks\":\"\"},\"colorscale\":[[0.0,\"#0d0887\"],[0.1111111111111111,\"#46039f\"],[0.2222222222222222,\"#7201a8\"],[0.3333333333333333,\"#9c179e\"],[0.4444444444444444,\"#bd3786\"],[0.5555555555555556,\"#d8576b\"],[0.6666666666666666,\"#ed7953\"],[0.7777777777777778,\"#fb9f3a\"],[0.8888888888888888,\"#fdca26\"],[1.0,\"#f0f921\"]],\"type\":\"contour\"}],\"heatmapgl\":[{\"colorbar\":{\"outlinewidth\":0,\"ticks\":\"\"},\"colorscale\":[[0.0,\"#0d0887\"],[0.1111111111111111,\"#46039f\"],[0.2222222222222222,\"#7201a8\"],[0.3333333333333333,\"#9c179e\"],[0.4444444444444444,\"#bd3786\"],[0.5555555555555556,\"#d8576b\"],[0.6666666666666666,\"#ed7953\"],[0.7777777777777778,\"#fb9f3a\"],[0.8888888888888888,\"#fdca26\"],[1.0,\"#f0f921\"]],\"type\":\"heatmapgl\"}],\"heatmap\":[{\"colorbar\":{\"outlinewidth\":0,\"ticks\":\"\"},\"colorscale\":[[0.0,\"#0d0887\"],[0.1111111111111111,\"#46039f\"],[0.2222222222222222,\"#7201a8\"],[0.3333333333333333,\"#9c179e\"],[0.4444444444444444,\"#bd3786\"],[0.5555555555555556,\"#d8576b\"],[0.6666666666666666,\"#ed7953\"],[0.7777777777777778,\"#fb9f3a\"],[0.8888888888888888,\"#fdca26\"],[1.0,\"#f0f921\"]],\"type\":\"heatmap\"}],\"histogram2dcontour\":[{\"colorbar\":{\"outlinewidth\":0,\"ticks\":\"\"},\"colorscale\":[[0.0,\"#0d0887\"],[0.1111111111111111,\"#46039f\"],[0.2222222222222222,\"#7201a8\"],[0.3333333333333333,\"#9c179e\"],[0.4444444444444444,\"#bd3786\"],[0.5555555555555556,\"#d8576b\"],[0.6666666666666666,\"#ed7953\"],[0.7777777777777778,\"#fb9f3a\"],[0.8888888888888888,\"#fdca26\"],[1.0,\"#f0f921\"]],\"type\":\"histogram2dcontour\"}],\"histogram2d\":[{\"colorbar\":{\"outlinewidth\":0,\"ticks\":\"\"},\"colorscale\":[[0.0,\"#0d0887\"],[0.1111111111111111,\"#46039f\"],[0.2222222222222222,\"#7201a8\"],[0.3333333333333333,\"#9c179e\"],[0.4444444444444444,\"#bd3786\"],[0.5555555555555556,\"#d8576b\"],[0.6666666666666666,\"#ed7953\"],[0.7777777777777778,\"#fb9f3a\"],[0.8888888888888888,\"#fdca26\"],[1.0,\"#f0f921\"]],\"type\":\"histogram2d\"}],\"histogram\":[{\"marker\":{\"pattern\":{\"fillmode\":\"overlay\",\"size\":10,\"solidity\":0.2}},\"type\":\"histogram\"}],\"mesh3d\":[{\"colorbar\":{\"outlinewidth\":0,\"ticks\":\"\"},\"type\":\"mesh3d\"}],\"parcoords\":[{\"line\":{\"colorbar\":{\"outlinewidth\":0,\"ticks\":\"\"}},\"type\":\"parcoords\"}],\"pie\":[{\"automargin\":true,\"type\":\"pie\"}],\"scatter3d\":[{\"line\":{\"colorbar\":{\"outlinewidth\":0,\"ticks\":\"\"}},\"marker\":{\"colorbar\":{\"outlinewidth\":0,\"ticks\":\"\"}},\"type\":\"scatter3d\"}],\"scattercarpet\":[{\"marker\":{\"colorbar\":{\"outlinewidth\":0,\"ticks\":\"\"}},\"type\":\"scattercarpet\"}],\"scattergeo\":[{\"marker\":{\"colorbar\":{\"outlinewidth\":0,\"ticks\":\"\"}},\"type\":\"scattergeo\"}],\"scattergl\":[{\"marker\":{\"colorbar\":{\"outlinewidth\":0,\"ticks\":\"\"}},\"type\":\"scattergl\"}],\"scattermapbox\":[{\"marker\":{\"colorbar\":{\"outlinewidth\":0,\"ticks\":\"\"}},\"type\":\"scattermapbox\"}],\"scatterpolargl\":[{\"marker\":{\"colorbar\":{\"outlinewidth\":0,\"ticks\":\"\"}},\"type\":\"scatterpolargl\"}],\"scatterpolar\":[{\"marker\":{\"colorbar\":{\"outlinewidth\":0,\"ticks\":\"\"}},\"type\":\"scatterpolar\"}],\"scatter\":[{\"fillpattern\":{\"fillmode\":\"overlay\",\"size\":10,\"solidity\":0.2},\"type\":\"scatter\"}],\"scatterternary\":[{\"marker\":{\"colorbar\":{\"outlinewidth\":0,\"ticks\":\"\"}},\"type\":\"scatterternary\"}],\"surface\":[{\"colorbar\":{\"outlinewidth\":0,\"ticks\":\"\"},\"colorscale\":[[0.0,\"#0d0887\"],[0.1111111111111111,\"#46039f\"],[0.2222222222222222,\"#7201a8\"],[0.3333333333333333,\"#9c179e\"],[0.4444444444444444,\"#bd3786\"],[0.5555555555555556,\"#d8576b\"],[0.6666666666666666,\"#ed7953\"],[0.7777777777777778,\"#fb9f3a\"],[0.8888888888888888,\"#fdca26\"],[1.0,\"#f0f921\"]],\"type\":\"surface\"}],\"table\":[{\"cells\":{\"fill\":{\"color\":\"#EBF0F8\"},\"line\":{\"color\":\"white\"}},\"header\":{\"fill\":{\"color\":\"#C8D4E3\"},\"line\":{\"color\":\"white\"}},\"type\":\"table\"}]},\"layout\":{\"annotationdefaults\":{\"arrowcolor\":\"#2a3f5f\",\"arrowhead\":0,\"arrowwidth\":1},\"autotypenumbers\":\"strict\",\"coloraxis\":{\"colorbar\":{\"outlinewidth\":0,\"ticks\":\"\"}},\"colorscale\":{\"diverging\":[[0,\"#8e0152\"],[0.1,\"#c51b7d\"],[0.2,\"#de77ae\"],[0.3,\"#f1b6da\"],[0.4,\"#fde0ef\"],[0.5,\"#f7f7f7\"],[0.6,\"#e6f5d0\"],[0.7,\"#b8e186\"],[0.8,\"#7fbc41\"],[0.9,\"#4d9221\"],[1,\"#276419\"]],\"sequential\":[[0.0,\"#0d0887\"],[0.1111111111111111,\"#46039f\"],[0.2222222222222222,\"#7201a8\"],[0.3333333333333333,\"#9c179e\"],[0.4444444444444444,\"#bd3786\"],[0.5555555555555556,\"#d8576b\"],[0.6666666666666666,\"#ed7953\"],[0.7777777777777778,\"#fb9f3a\"],[0.8888888888888888,\"#fdca26\"],[1.0,\"#f0f921\"]],\"sequentialminus\":[[0.0,\"#0d0887\"],[0.1111111111111111,\"#46039f\"],[0.2222222222222222,\"#7201a8\"],[0.3333333333333333,\"#9c179e\"],[0.4444444444444444,\"#bd3786\"],[0.5555555555555556,\"#d8576b\"],[0.6666666666666666,\"#ed7953\"],[0.7777777777777778,\"#fb9f3a\"],[0.8888888888888888,\"#fdca26\"],[1.0,\"#f0f921\"]]},\"colorway\":[\"#636efa\",\"#EF553B\",\"#00cc96\",\"#ab63fa\",\"#FFA15A\",\"#19d3f3\",\"#FF6692\",\"#B6E880\",\"#FF97FF\",\"#FECB52\"],\"font\":{\"color\":\"#2a3f5f\"},\"geo\":{\"bgcolor\":\"white\",\"lakecolor\":\"white\",\"landcolor\":\"white\",\"showlakes\":true,\"showland\":true,\"subunitcolor\":\"#C8D4E3\"},\"hoverlabel\":{\"align\":\"left\"},\"hovermode\":\"closest\",\"mapbox\":{\"style\":\"light\"},\"paper_bgcolor\":\"white\",\"plot_bgcolor\":\"white\",\"polar\":{\"angularaxis\":{\"gridcolor\":\"#EBF0F8\",\"linecolor\":\"#EBF0F8\",\"ticks\":\"\"},\"bgcolor\":\"white\",\"radialaxis\":{\"gridcolor\":\"#EBF0F8\",\"linecolor\":\"#EBF0F8\",\"ticks\":\"\"}},\"scene\":{\"xaxis\":{\"backgroundcolor\":\"white\",\"gridcolor\":\"#DFE8F3\",\"gridwidth\":2,\"linecolor\":\"#EBF0F8\",\"showbackground\":true,\"ticks\":\"\",\"zerolinecolor\":\"#EBF0F8\"},\"yaxis\":{\"backgroundcolor\":\"white\",\"gridcolor\":\"#DFE8F3\",\"gridwidth\":2,\"linecolor\":\"#EBF0F8\",\"showbackground\":true,\"ticks\":\"\",\"zerolinecolor\":\"#EBF0F8\"},\"zaxis\":{\"backgroundcolor\":\"white\",\"gridcolor\":\"#DFE8F3\",\"gridwidth\":2,\"linecolor\":\"#EBF0F8\",\"showbackground\":true,\"ticks\":\"\",\"zerolinecolor\":\"#EBF0F8\"}},\"shapedefaults\":{\"line\":{\"color\":\"#2a3f5f\"}},\"ternary\":{\"aaxis\":{\"gridcolor\":\"#DFE8F3\",\"linecolor\":\"#A2B1C6\",\"ticks\":\"\"},\"baxis\":{\"gridcolor\":\"#DFE8F3\",\"linecolor\":\"#A2B1C6\",\"ticks\":\"\"},\"bgcolor\":\"white\",\"caxis\":{\"gridcolor\":\"#DFE8F3\",\"linecolor\":\"#A2B1C6\",\"ticks\":\"\"}},\"title\":{\"x\":0.05},\"xaxis\":{\"automargin\":true,\"gridcolor\":\"#EBF0F8\",\"linecolor\":\"#EBF0F8\",\"ticks\":\"\",\"title\":{\"standoff\":15},\"zerolinecolor\":\"#EBF0F8\",\"zerolinewidth\":2},\"yaxis\":{\"automargin\":true,\"gridcolor\":\"#EBF0F8\",\"linecolor\":\"#EBF0F8\",\"ticks\":\"\",\"title\":{\"standoff\":15},\"zerolinecolor\":\"#EBF0F8\",\"zerolinewidth\":2}}},\"legend\":{\"orientation\":\"h\",\"xanchor\":\"center\",\"x\":0.5,\"yanchor\":\"top\",\"y\":1},\"margin\":{\"l\":40,\"r\":40,\"b\":80,\"t\":20},\"font\":{\"size\":20,\"family\":\"Serif\",\"color\":\"black\"},\"barmode\":\"group\",\"bargap\":0.15,\"bargroupgap\":0.1,\"width\":1600,\"height\":700,\"hovermode\":\"x unified\",\"annotations\":[{\"font\":{\"color\":\"Black\",\"family\":\"Serif\",\"size\":20},\"showarrow\":false,\"text\":\"Dataset:\",\"x\":0,\"xanchor\":\"center\",\"xref\":\"paper\",\"y\":-0.05,\"yanchor\":\"bottom\",\"yref\":\"paper\"}],\"yaxis\":{\"title\":{\"font\":{\"size\":20},\"text\":\"Normalised SHD = SHD \\u002f Number of Edges in DAG\"}}},                        {\"responsive\": true}                    ).then(function(){\n",
       "                            \n",
       "var gd = document.getElementById('662bc19d-e0d1-4ccf-95d1-4eced65bd706');\n",
       "var x = new MutationObserver(function (mutations, observer) {{\n",
       "        var display = window.getComputedStyle(gd).display;\n",
       "        if (!display || display === 'none') {{\n",
       "            console.log([gd, 'removed!']);\n",
       "            Plotly.purge(gd);\n",
       "            observer.disconnect();\n",
       "        }}\n",
       "}});\n",
       "\n",
       "// Listen for the removal of the full notebook cells\n",
       "var notebookContainer = gd.closest('#notebook-container');\n",
       "if (notebookContainer) {{\n",
       "    x.observe(notebookContainer, {childList: true});\n",
       "}}\n",
       "\n",
       "// Listen for the clearing of the current output cell\n",
       "var outputEl = gd.closest('.output');\n",
       "if (outputEl) {{\n",
       "    x.observe(outputEl, {childList: true});\n",
       "}}\n",
       "\n",
       "                        })                };                });            </script>        </div>"
      ]
     },
     "metadata": {},
     "output_type": "display_data"
    },
    {
     "data": {
      "application/vnd.plotly.v1+json": {
       "config": {
        "plotlyServerURL": "https://plot.ly"
       },
       "data": [
        {
         "error_y": {
          "array": [
           0.5875,
           1.025,
           0.87,
           0.73375
          ],
          "type": "data",
          "visible": true
         },
         "marker": {
          "color": "grey"
         },
         "name": "Random",
         "opacity": 0.6,
         "type": "bar",
         "x": [
          "CANCER<br> |V|=5<br> |E|=4<br> z=0.4",
          "EARTHQUAKE<br> |V|=5<br> |E|=4<br> z=0.4",
          "SURVEY<br> |V|=6<br> |E|=6<br> z=0.4",
          "ASIA<br> |V|=8<br> |E|=8<br> z=0.29"
         ],
         "y": [
          2.8,
          2.45,
          3.1833333333333336,
          3.6875
         ]
        },
        {
         "error_y": {
          "array": [
           null,
           null,
           null,
           null
          ],
          "type": "data",
          "visible": true
         },
         "marker": {
          "color": "#379f9f"
         },
         "name": "FGS",
         "opacity": 0.6,
         "type": "bar",
         "x": [
          "CANCER<br> |V|=5<br> |E|=4<br> z=0.4",
          "EARTHQUAKE<br> |V|=5<br> |E|=4<br> z=0.4",
          "SURVEY<br> |V|=6<br> |E|=6<br> z=0.4",
          "ASIA<br> |V|=8<br> |E|=8<br> z=0.29"
         ],
         "y": [
          3.5,
          2.5,
          2.3333333333333335,
          5
         ]
        },
        {
         "error_y": {
          "array": [
           0.98,
           0.79,
           0.6783333333333333,
           0.59875
          ],
          "type": "data",
          "visible": true
         },
         "marker": {
          "color": "#441469"
         },
         "name": "MCSL-MLP",
         "opacity": 0.6,
         "type": "bar",
         "x": [
          "CANCER<br> |V|=5<br> |E|=4<br> z=0.4",
          "EARTHQUAKE<br> |V|=5<br> |E|=4<br> z=0.4",
          "SURVEY<br> |V|=6<br> |E|=6<br> z=0.4",
          "ASIA<br> |V|=8<br> |E|=8<br> z=0.29"
         ],
         "y": [
          3,
          2.325,
          3.483333333333333,
          3.3
         ]
        },
        {
         "error_y": {
          "array": [
           0.12,
           1.3175,
           0.08666666666666667,
           0.92625
          ],
          "type": "data",
          "visible": true
         },
         "marker": {
          "color": "#9454c4"
         },
         "name": "NOTEARS-MLP",
         "opacity": 0.6,
         "type": "bar",
         "x": [
          "CANCER<br> |V|=5<br> |E|=4<br> z=0.4",
          "EARTHQUAKE<br> |V|=5<br> |E|=4<br> z=0.4",
          "SURVEY<br> |V|=6<br> |E|=6<br> z=0.4",
          "ASIA<br> |V|=8<br> |E|=8<br> z=0.29"
         ],
         "y": [
          2.575,
          1.65,
          2.766666666666667,
          3.775
         ]
        },
        {
         "error_y": {
          "array": [
           null,
           null,
           null,
           null
          ],
          "type": "data",
          "visible": true
         },
         "marker": {
          "color": "#005383"
         },
         "name": "Max-PC",
         "opacity": 0.6,
         "type": "bar",
         "x": [
          "CANCER<br> |V|=5<br> |E|=4<br> z=0.4",
          "EARTHQUAKE<br> |V|=5<br> |E|=4<br> z=0.4",
          "SURVEY<br> |V|=6<br> |E|=6<br> z=0.4",
          "ASIA<br> |V|=8<br> |E|=8<br> z=0.29"
         ],
         "y": [
          1.5,
          5,
          2.8333333333333335,
          4.875
         ]
        },
        {
         "error_y": {
          "array": [
           null,
           null,
           null,
           null
          ],
          "type": "data",
          "visible": true
         },
         "marker": {
          "color": "#0085CA"
         },
         "name": "SPC (Ours)",
         "opacity": 0.6,
         "type": "bar",
         "x": [
          "CANCER<br> |V|=5<br> |E|=4<br> z=0.4",
          "EARTHQUAKE<br> |V|=5<br> |E|=4<br> z=0.4",
          "SURVEY<br> |V|=6<br> |E|=6<br> z=0.4",
          "ASIA<br> |V|=8<br> |E|=8<br> z=0.29"
         ],
         "y": [
          1.5,
          2.5,
          2.8333333333333335,
          3.625
         ]
        },
        {
         "error_y": {
          "array": [
           null,
           null,
           null,
           null
          ],
          "type": "data",
          "visible": true
         },
         "marker": {
          "color": "#196363"
         },
         "name": "ABAPC (Ours)",
         "opacity": 0.6,
         "type": "bar",
         "x": [
          "CANCER<br> |V|=5<br> |E|=4<br> z=0.4",
          "EARTHQUAKE<br> |V|=5<br> |E|=4<br> z=0.4",
          "SURVEY<br> |V|=6<br> |E|=6<br> z=0.4",
          "ASIA<br> |V|=8<br> |E|=8<br> z=0.29"
         ],
         "y": [
          2.75,
          0,
          1.8333333333333333,
          2
         ]
        }
       ],
       "layout": {
        "annotations": [
         {
          "font": {
           "color": "Black",
           "family": "Serif",
           "size": 20
          },
          "showarrow": false,
          "text": "Dataset:",
          "x": 0,
          "xanchor": "center",
          "xref": "paper",
          "y": -0.05,
          "yanchor": "bottom",
          "yref": "paper"
         }
        ],
        "bargap": 0.15,
        "bargroupgap": 0.1,
        "barmode": "group",
        "font": {
         "color": "black",
         "family": "Serif",
         "size": 20
        },
        "height": 700,
        "hovermode": "x unified",
        "legend": {
         "orientation": "h",
         "x": 0.5,
         "xanchor": "center",
         "y": 1,
         "yanchor": "top"
        },
        "margin": {
         "b": 80,
         "l": 40,
         "r": 40,
         "t": 20
        },
        "template": {
         "data": {
          "bar": [
           {
            "error_x": {
             "color": "#2a3f5f"
            },
            "error_y": {
             "color": "#2a3f5f"
            },
            "marker": {
             "line": {
              "color": "white",
              "width": 0.5
             },
             "pattern": {
              "fillmode": "overlay",
              "size": 10,
              "solidity": 0.2
             }
            },
            "type": "bar"
           }
          ],
          "barpolar": [
           {
            "marker": {
             "line": {
              "color": "white",
              "width": 0.5
             },
             "pattern": {
              "fillmode": "overlay",
              "size": 10,
              "solidity": 0.2
             }
            },
            "type": "barpolar"
           }
          ],
          "carpet": [
           {
            "aaxis": {
             "endlinecolor": "#2a3f5f",
             "gridcolor": "#C8D4E3",
             "linecolor": "#C8D4E3",
             "minorgridcolor": "#C8D4E3",
             "startlinecolor": "#2a3f5f"
            },
            "baxis": {
             "endlinecolor": "#2a3f5f",
             "gridcolor": "#C8D4E3",
             "linecolor": "#C8D4E3",
             "minorgridcolor": "#C8D4E3",
             "startlinecolor": "#2a3f5f"
            },
            "type": "carpet"
           }
          ],
          "choropleth": [
           {
            "colorbar": {
             "outlinewidth": 0,
             "ticks": ""
            },
            "type": "choropleth"
           }
          ],
          "contour": [
           {
            "colorbar": {
             "outlinewidth": 0,
             "ticks": ""
            },
            "colorscale": [
             [
              0,
              "#0d0887"
             ],
             [
              0.1111111111111111,
              "#46039f"
             ],
             [
              0.2222222222222222,
              "#7201a8"
             ],
             [
              0.3333333333333333,
              "#9c179e"
             ],
             [
              0.4444444444444444,
              "#bd3786"
             ],
             [
              0.5555555555555556,
              "#d8576b"
             ],
             [
              0.6666666666666666,
              "#ed7953"
             ],
             [
              0.7777777777777778,
              "#fb9f3a"
             ],
             [
              0.8888888888888888,
              "#fdca26"
             ],
             [
              1,
              "#f0f921"
             ]
            ],
            "type": "contour"
           }
          ],
          "contourcarpet": [
           {
            "colorbar": {
             "outlinewidth": 0,
             "ticks": ""
            },
            "type": "contourcarpet"
           }
          ],
          "heatmap": [
           {
            "colorbar": {
             "outlinewidth": 0,
             "ticks": ""
            },
            "colorscale": [
             [
              0,
              "#0d0887"
             ],
             [
              0.1111111111111111,
              "#46039f"
             ],
             [
              0.2222222222222222,
              "#7201a8"
             ],
             [
              0.3333333333333333,
              "#9c179e"
             ],
             [
              0.4444444444444444,
              "#bd3786"
             ],
             [
              0.5555555555555556,
              "#d8576b"
             ],
             [
              0.6666666666666666,
              "#ed7953"
             ],
             [
              0.7777777777777778,
              "#fb9f3a"
             ],
             [
              0.8888888888888888,
              "#fdca26"
             ],
             [
              1,
              "#f0f921"
             ]
            ],
            "type": "heatmap"
           }
          ],
          "heatmapgl": [
           {
            "colorbar": {
             "outlinewidth": 0,
             "ticks": ""
            },
            "colorscale": [
             [
              0,
              "#0d0887"
             ],
             [
              0.1111111111111111,
              "#46039f"
             ],
             [
              0.2222222222222222,
              "#7201a8"
             ],
             [
              0.3333333333333333,
              "#9c179e"
             ],
             [
              0.4444444444444444,
              "#bd3786"
             ],
             [
              0.5555555555555556,
              "#d8576b"
             ],
             [
              0.6666666666666666,
              "#ed7953"
             ],
             [
              0.7777777777777778,
              "#fb9f3a"
             ],
             [
              0.8888888888888888,
              "#fdca26"
             ],
             [
              1,
              "#f0f921"
             ]
            ],
            "type": "heatmapgl"
           }
          ],
          "histogram": [
           {
            "marker": {
             "pattern": {
              "fillmode": "overlay",
              "size": 10,
              "solidity": 0.2
             }
            },
            "type": "histogram"
           }
          ],
          "histogram2d": [
           {
            "colorbar": {
             "outlinewidth": 0,
             "ticks": ""
            },
            "colorscale": [
             [
              0,
              "#0d0887"
             ],
             [
              0.1111111111111111,
              "#46039f"
             ],
             [
              0.2222222222222222,
              "#7201a8"
             ],
             [
              0.3333333333333333,
              "#9c179e"
             ],
             [
              0.4444444444444444,
              "#bd3786"
             ],
             [
              0.5555555555555556,
              "#d8576b"
             ],
             [
              0.6666666666666666,
              "#ed7953"
             ],
             [
              0.7777777777777778,
              "#fb9f3a"
             ],
             [
              0.8888888888888888,
              "#fdca26"
             ],
             [
              1,
              "#f0f921"
             ]
            ],
            "type": "histogram2d"
           }
          ],
          "histogram2dcontour": [
           {
            "colorbar": {
             "outlinewidth": 0,
             "ticks": ""
            },
            "colorscale": [
             [
              0,
              "#0d0887"
             ],
             [
              0.1111111111111111,
              "#46039f"
             ],
             [
              0.2222222222222222,
              "#7201a8"
             ],
             [
              0.3333333333333333,
              "#9c179e"
             ],
             [
              0.4444444444444444,
              "#bd3786"
             ],
             [
              0.5555555555555556,
              "#d8576b"
             ],
             [
              0.6666666666666666,
              "#ed7953"
             ],
             [
              0.7777777777777778,
              "#fb9f3a"
             ],
             [
              0.8888888888888888,
              "#fdca26"
             ],
             [
              1,
              "#f0f921"
             ]
            ],
            "type": "histogram2dcontour"
           }
          ],
          "mesh3d": [
           {
            "colorbar": {
             "outlinewidth": 0,
             "ticks": ""
            },
            "type": "mesh3d"
           }
          ],
          "parcoords": [
           {
            "line": {
             "colorbar": {
              "outlinewidth": 0,
              "ticks": ""
             }
            },
            "type": "parcoords"
           }
          ],
          "pie": [
           {
            "automargin": true,
            "type": "pie"
           }
          ],
          "scatter": [
           {
            "fillpattern": {
             "fillmode": "overlay",
             "size": 10,
             "solidity": 0.2
            },
            "type": "scatter"
           }
          ],
          "scatter3d": [
           {
            "line": {
             "colorbar": {
              "outlinewidth": 0,
              "ticks": ""
             }
            },
            "marker": {
             "colorbar": {
              "outlinewidth": 0,
              "ticks": ""
             }
            },
            "type": "scatter3d"
           }
          ],
          "scattercarpet": [
           {
            "marker": {
             "colorbar": {
              "outlinewidth": 0,
              "ticks": ""
             }
            },
            "type": "scattercarpet"
           }
          ],
          "scattergeo": [
           {
            "marker": {
             "colorbar": {
              "outlinewidth": 0,
              "ticks": ""
             }
            },
            "type": "scattergeo"
           }
          ],
          "scattergl": [
           {
            "marker": {
             "colorbar": {
              "outlinewidth": 0,
              "ticks": ""
             }
            },
            "type": "scattergl"
           }
          ],
          "scattermapbox": [
           {
            "marker": {
             "colorbar": {
              "outlinewidth": 0,
              "ticks": ""
             }
            },
            "type": "scattermapbox"
           }
          ],
          "scatterpolar": [
           {
            "marker": {
             "colorbar": {
              "outlinewidth": 0,
              "ticks": ""
             }
            },
            "type": "scatterpolar"
           }
          ],
          "scatterpolargl": [
           {
            "marker": {
             "colorbar": {
              "outlinewidth": 0,
              "ticks": ""
             }
            },
            "type": "scatterpolargl"
           }
          ],
          "scatterternary": [
           {
            "marker": {
             "colorbar": {
              "outlinewidth": 0,
              "ticks": ""
             }
            },
            "type": "scatterternary"
           }
          ],
          "surface": [
           {
            "colorbar": {
             "outlinewidth": 0,
             "ticks": ""
            },
            "colorscale": [
             [
              0,
              "#0d0887"
             ],
             [
              0.1111111111111111,
              "#46039f"
             ],
             [
              0.2222222222222222,
              "#7201a8"
             ],
             [
              0.3333333333333333,
              "#9c179e"
             ],
             [
              0.4444444444444444,
              "#bd3786"
             ],
             [
              0.5555555555555556,
              "#d8576b"
             ],
             [
              0.6666666666666666,
              "#ed7953"
             ],
             [
              0.7777777777777778,
              "#fb9f3a"
             ],
             [
              0.8888888888888888,
              "#fdca26"
             ],
             [
              1,
              "#f0f921"
             ]
            ],
            "type": "surface"
           }
          ],
          "table": [
           {
            "cells": {
             "fill": {
              "color": "#EBF0F8"
             },
             "line": {
              "color": "white"
             }
            },
            "header": {
             "fill": {
              "color": "#C8D4E3"
             },
             "line": {
              "color": "white"
             }
            },
            "type": "table"
           }
          ]
         },
         "layout": {
          "annotationdefaults": {
           "arrowcolor": "#2a3f5f",
           "arrowhead": 0,
           "arrowwidth": 1
          },
          "autotypenumbers": "strict",
          "coloraxis": {
           "colorbar": {
            "outlinewidth": 0,
            "ticks": ""
           }
          },
          "colorscale": {
           "diverging": [
            [
             0,
             "#8e0152"
            ],
            [
             0.1,
             "#c51b7d"
            ],
            [
             0.2,
             "#de77ae"
            ],
            [
             0.3,
             "#f1b6da"
            ],
            [
             0.4,
             "#fde0ef"
            ],
            [
             0.5,
             "#f7f7f7"
            ],
            [
             0.6,
             "#e6f5d0"
            ],
            [
             0.7,
             "#b8e186"
            ],
            [
             0.8,
             "#7fbc41"
            ],
            [
             0.9,
             "#4d9221"
            ],
            [
             1,
             "#276419"
            ]
           ],
           "sequential": [
            [
             0,
             "#0d0887"
            ],
            [
             0.1111111111111111,
             "#46039f"
            ],
            [
             0.2222222222222222,
             "#7201a8"
            ],
            [
             0.3333333333333333,
             "#9c179e"
            ],
            [
             0.4444444444444444,
             "#bd3786"
            ],
            [
             0.5555555555555556,
             "#d8576b"
            ],
            [
             0.6666666666666666,
             "#ed7953"
            ],
            [
             0.7777777777777778,
             "#fb9f3a"
            ],
            [
             0.8888888888888888,
             "#fdca26"
            ],
            [
             1,
             "#f0f921"
            ]
           ],
           "sequentialminus": [
            [
             0,
             "#0d0887"
            ],
            [
             0.1111111111111111,
             "#46039f"
            ],
            [
             0.2222222222222222,
             "#7201a8"
            ],
            [
             0.3333333333333333,
             "#9c179e"
            ],
            [
             0.4444444444444444,
             "#bd3786"
            ],
            [
             0.5555555555555556,
             "#d8576b"
            ],
            [
             0.6666666666666666,
             "#ed7953"
            ],
            [
             0.7777777777777778,
             "#fb9f3a"
            ],
            [
             0.8888888888888888,
             "#fdca26"
            ],
            [
             1,
             "#f0f921"
            ]
           ]
          },
          "colorway": [
           "#636efa",
           "#EF553B",
           "#00cc96",
           "#ab63fa",
           "#FFA15A",
           "#19d3f3",
           "#FF6692",
           "#B6E880",
           "#FF97FF",
           "#FECB52"
          ],
          "font": {
           "color": "#2a3f5f"
          },
          "geo": {
           "bgcolor": "white",
           "lakecolor": "white",
           "landcolor": "white",
           "showlakes": true,
           "showland": true,
           "subunitcolor": "#C8D4E3"
          },
          "hoverlabel": {
           "align": "left"
          },
          "hovermode": "closest",
          "mapbox": {
           "style": "light"
          },
          "paper_bgcolor": "white",
          "plot_bgcolor": "white",
          "polar": {
           "angularaxis": {
            "gridcolor": "#EBF0F8",
            "linecolor": "#EBF0F8",
            "ticks": ""
           },
           "bgcolor": "white",
           "radialaxis": {
            "gridcolor": "#EBF0F8",
            "linecolor": "#EBF0F8",
            "ticks": ""
           }
          },
          "scene": {
           "xaxis": {
            "backgroundcolor": "white",
            "gridcolor": "#DFE8F3",
            "gridwidth": 2,
            "linecolor": "#EBF0F8",
            "showbackground": true,
            "ticks": "",
            "zerolinecolor": "#EBF0F8"
           },
           "yaxis": {
            "backgroundcolor": "white",
            "gridcolor": "#DFE8F3",
            "gridwidth": 2,
            "linecolor": "#EBF0F8",
            "showbackground": true,
            "ticks": "",
            "zerolinecolor": "#EBF0F8"
           },
           "zaxis": {
            "backgroundcolor": "white",
            "gridcolor": "#DFE8F3",
            "gridwidth": 2,
            "linecolor": "#EBF0F8",
            "showbackground": true,
            "ticks": "",
            "zerolinecolor": "#EBF0F8"
           }
          },
          "shapedefaults": {
           "line": {
            "color": "#2a3f5f"
           }
          },
          "ternary": {
           "aaxis": {
            "gridcolor": "#DFE8F3",
            "linecolor": "#A2B1C6",
            "ticks": ""
           },
           "baxis": {
            "gridcolor": "#DFE8F3",
            "linecolor": "#A2B1C6",
            "ticks": ""
           },
           "bgcolor": "white",
           "caxis": {
            "gridcolor": "#DFE8F3",
            "linecolor": "#A2B1C6",
            "ticks": ""
           }
          },
          "title": {
           "x": 0.05
          },
          "xaxis": {
           "automargin": true,
           "gridcolor": "#EBF0F8",
           "linecolor": "#EBF0F8",
           "ticks": "",
           "title": {
            "standoff": 15
           },
           "zerolinecolor": "#EBF0F8",
           "zerolinewidth": 2
          },
          "yaxis": {
           "automargin": true,
           "gridcolor": "#EBF0F8",
           "linecolor": "#EBF0F8",
           "ticks": "",
           "title": {
            "standoff": 15
           },
           "zerolinecolor": "#EBF0F8",
           "zerolinewidth": 2
          }
         }
        },
        "width": 1600,
        "yaxis": {
         "title": {
          "font": {
           "size": 20
          },
          "text": "Normalised SID = SID / Number of Edges in DAG"
         }
        }
       }
      },
      "text/html": [
       "<div>                            <div id=\"8f7eb1b0-3218-40a0-a407-9b690ca237ef\" class=\"plotly-graph-div\" style=\"height:700px; width:1600px;\"></div>            <script type=\"text/javascript\">                require([\"plotly\"], function(Plotly) {                    window.PLOTLYENV=window.PLOTLYENV || {};                                    if (document.getElementById(\"8f7eb1b0-3218-40a0-a407-9b690ca237ef\")) {                    Plotly.newPlot(                        \"8f7eb1b0-3218-40a0-a407-9b690ca237ef\",                        [{\"error_y\":{\"array\":[0.5875,1.025,0.87,0.73375],\"type\":\"data\",\"visible\":true},\"marker\":{\"color\":\"grey\"},\"name\":\"Random\",\"opacity\":0.6,\"x\":[\"CANCER\\u003cbr\\u003e |V|=5\\u003cbr\\u003e |E|=4\\u003cbr\\u003e z=0.4\",\"EARTHQUAKE\\u003cbr\\u003e |V|=5\\u003cbr\\u003e |E|=4\\u003cbr\\u003e z=0.4\",\"SURVEY\\u003cbr\\u003e |V|=6\\u003cbr\\u003e |E|=6\\u003cbr\\u003e z=0.4\",\"ASIA\\u003cbr\\u003e |V|=8\\u003cbr\\u003e |E|=8\\u003cbr\\u003e z=0.29\"],\"y\":[2.8,2.45,3.1833333333333336,3.6875],\"type\":\"bar\"},{\"error_y\":{\"array\":[null,null,null,null],\"type\":\"data\",\"visible\":true},\"marker\":{\"color\":\"#379f9f\"},\"name\":\"FGS\",\"opacity\":0.6,\"x\":[\"CANCER\\u003cbr\\u003e |V|=5\\u003cbr\\u003e |E|=4\\u003cbr\\u003e z=0.4\",\"EARTHQUAKE\\u003cbr\\u003e |V|=5\\u003cbr\\u003e |E|=4\\u003cbr\\u003e z=0.4\",\"SURVEY\\u003cbr\\u003e |V|=6\\u003cbr\\u003e |E|=6\\u003cbr\\u003e z=0.4\",\"ASIA\\u003cbr\\u003e |V|=8\\u003cbr\\u003e |E|=8\\u003cbr\\u003e z=0.29\"],\"y\":[3.5,2.5,2.3333333333333335,5.0],\"type\":\"bar\"},{\"error_y\":{\"array\":[0.98,0.79,0.6783333333333333,0.59875],\"type\":\"data\",\"visible\":true},\"marker\":{\"color\":\"#441469\"},\"name\":\"MCSL-MLP\",\"opacity\":0.6,\"x\":[\"CANCER\\u003cbr\\u003e |V|=5\\u003cbr\\u003e |E|=4\\u003cbr\\u003e z=0.4\",\"EARTHQUAKE\\u003cbr\\u003e |V|=5\\u003cbr\\u003e |E|=4\\u003cbr\\u003e z=0.4\",\"SURVEY\\u003cbr\\u003e |V|=6\\u003cbr\\u003e |E|=6\\u003cbr\\u003e z=0.4\",\"ASIA\\u003cbr\\u003e |V|=8\\u003cbr\\u003e |E|=8\\u003cbr\\u003e z=0.29\"],\"y\":[3.0,2.325,3.483333333333333,3.3],\"type\":\"bar\"},{\"error_y\":{\"array\":[0.12,1.3175,0.08666666666666667,0.92625],\"type\":\"data\",\"visible\":true},\"marker\":{\"color\":\"#9454c4\"},\"name\":\"NOTEARS-MLP\",\"opacity\":0.6,\"x\":[\"CANCER\\u003cbr\\u003e |V|=5\\u003cbr\\u003e |E|=4\\u003cbr\\u003e z=0.4\",\"EARTHQUAKE\\u003cbr\\u003e |V|=5\\u003cbr\\u003e |E|=4\\u003cbr\\u003e z=0.4\",\"SURVEY\\u003cbr\\u003e |V|=6\\u003cbr\\u003e |E|=6\\u003cbr\\u003e z=0.4\",\"ASIA\\u003cbr\\u003e |V|=8\\u003cbr\\u003e |E|=8\\u003cbr\\u003e z=0.29\"],\"y\":[2.575,1.65,2.766666666666667,3.775],\"type\":\"bar\"},{\"error_y\":{\"array\":[null,null,null,null],\"type\":\"data\",\"visible\":true},\"marker\":{\"color\":\"#005383\"},\"name\":\"Max-PC\",\"opacity\":0.6,\"x\":[\"CANCER\\u003cbr\\u003e |V|=5\\u003cbr\\u003e |E|=4\\u003cbr\\u003e z=0.4\",\"EARTHQUAKE\\u003cbr\\u003e |V|=5\\u003cbr\\u003e |E|=4\\u003cbr\\u003e z=0.4\",\"SURVEY\\u003cbr\\u003e |V|=6\\u003cbr\\u003e |E|=6\\u003cbr\\u003e z=0.4\",\"ASIA\\u003cbr\\u003e |V|=8\\u003cbr\\u003e |E|=8\\u003cbr\\u003e z=0.29\"],\"y\":[1.5,5.0,2.8333333333333335,4.875],\"type\":\"bar\"},{\"error_y\":{\"array\":[null,null,null,null],\"type\":\"data\",\"visible\":true},\"marker\":{\"color\":\"#0085CA\"},\"name\":\"SPC (Ours)\",\"opacity\":0.6,\"x\":[\"CANCER\\u003cbr\\u003e |V|=5\\u003cbr\\u003e |E|=4\\u003cbr\\u003e z=0.4\",\"EARTHQUAKE\\u003cbr\\u003e |V|=5\\u003cbr\\u003e |E|=4\\u003cbr\\u003e z=0.4\",\"SURVEY\\u003cbr\\u003e |V|=6\\u003cbr\\u003e |E|=6\\u003cbr\\u003e z=0.4\",\"ASIA\\u003cbr\\u003e |V|=8\\u003cbr\\u003e |E|=8\\u003cbr\\u003e z=0.29\"],\"y\":[1.5,2.5,2.8333333333333335,3.625],\"type\":\"bar\"},{\"error_y\":{\"array\":[null,null,null,null],\"type\":\"data\",\"visible\":true},\"marker\":{\"color\":\"#196363\"},\"name\":\"ABAPC (Ours)\",\"opacity\":0.6,\"x\":[\"CANCER\\u003cbr\\u003e |V|=5\\u003cbr\\u003e |E|=4\\u003cbr\\u003e z=0.4\",\"EARTHQUAKE\\u003cbr\\u003e |V|=5\\u003cbr\\u003e |E|=4\\u003cbr\\u003e z=0.4\",\"SURVEY\\u003cbr\\u003e |V|=6\\u003cbr\\u003e |E|=6\\u003cbr\\u003e z=0.4\",\"ASIA\\u003cbr\\u003e |V|=8\\u003cbr\\u003e |E|=8\\u003cbr\\u003e z=0.29\"],\"y\":[2.75,0.0,1.8333333333333333,2.0],\"type\":\"bar\"}],                        {\"template\":{\"data\":{\"barpolar\":[{\"marker\":{\"line\":{\"color\":\"white\",\"width\":0.5},\"pattern\":{\"fillmode\":\"overlay\",\"size\":10,\"solidity\":0.2}},\"type\":\"barpolar\"}],\"bar\":[{\"error_x\":{\"color\":\"#2a3f5f\"},\"error_y\":{\"color\":\"#2a3f5f\"},\"marker\":{\"line\":{\"color\":\"white\",\"width\":0.5},\"pattern\":{\"fillmode\":\"overlay\",\"size\":10,\"solidity\":0.2}},\"type\":\"bar\"}],\"carpet\":[{\"aaxis\":{\"endlinecolor\":\"#2a3f5f\",\"gridcolor\":\"#C8D4E3\",\"linecolor\":\"#C8D4E3\",\"minorgridcolor\":\"#C8D4E3\",\"startlinecolor\":\"#2a3f5f\"},\"baxis\":{\"endlinecolor\":\"#2a3f5f\",\"gridcolor\":\"#C8D4E3\",\"linecolor\":\"#C8D4E3\",\"minorgridcolor\":\"#C8D4E3\",\"startlinecolor\":\"#2a3f5f\"},\"type\":\"carpet\"}],\"choropleth\":[{\"colorbar\":{\"outlinewidth\":0,\"ticks\":\"\"},\"type\":\"choropleth\"}],\"contourcarpet\":[{\"colorbar\":{\"outlinewidth\":0,\"ticks\":\"\"},\"type\":\"contourcarpet\"}],\"contour\":[{\"colorbar\":{\"outlinewidth\":0,\"ticks\":\"\"},\"colorscale\":[[0.0,\"#0d0887\"],[0.1111111111111111,\"#46039f\"],[0.2222222222222222,\"#7201a8\"],[0.3333333333333333,\"#9c179e\"],[0.4444444444444444,\"#bd3786\"],[0.5555555555555556,\"#d8576b\"],[0.6666666666666666,\"#ed7953\"],[0.7777777777777778,\"#fb9f3a\"],[0.8888888888888888,\"#fdca26\"],[1.0,\"#f0f921\"]],\"type\":\"contour\"}],\"heatmapgl\":[{\"colorbar\":{\"outlinewidth\":0,\"ticks\":\"\"},\"colorscale\":[[0.0,\"#0d0887\"],[0.1111111111111111,\"#46039f\"],[0.2222222222222222,\"#7201a8\"],[0.3333333333333333,\"#9c179e\"],[0.4444444444444444,\"#bd3786\"],[0.5555555555555556,\"#d8576b\"],[0.6666666666666666,\"#ed7953\"],[0.7777777777777778,\"#fb9f3a\"],[0.8888888888888888,\"#fdca26\"],[1.0,\"#f0f921\"]],\"type\":\"heatmapgl\"}],\"heatmap\":[{\"colorbar\":{\"outlinewidth\":0,\"ticks\":\"\"},\"colorscale\":[[0.0,\"#0d0887\"],[0.1111111111111111,\"#46039f\"],[0.2222222222222222,\"#7201a8\"],[0.3333333333333333,\"#9c179e\"],[0.4444444444444444,\"#bd3786\"],[0.5555555555555556,\"#d8576b\"],[0.6666666666666666,\"#ed7953\"],[0.7777777777777778,\"#fb9f3a\"],[0.8888888888888888,\"#fdca26\"],[1.0,\"#f0f921\"]],\"type\":\"heatmap\"}],\"histogram2dcontour\":[{\"colorbar\":{\"outlinewidth\":0,\"ticks\":\"\"},\"colorscale\":[[0.0,\"#0d0887\"],[0.1111111111111111,\"#46039f\"],[0.2222222222222222,\"#7201a8\"],[0.3333333333333333,\"#9c179e\"],[0.4444444444444444,\"#bd3786\"],[0.5555555555555556,\"#d8576b\"],[0.6666666666666666,\"#ed7953\"],[0.7777777777777778,\"#fb9f3a\"],[0.8888888888888888,\"#fdca26\"],[1.0,\"#f0f921\"]],\"type\":\"histogram2dcontour\"}],\"histogram2d\":[{\"colorbar\":{\"outlinewidth\":0,\"ticks\":\"\"},\"colorscale\":[[0.0,\"#0d0887\"],[0.1111111111111111,\"#46039f\"],[0.2222222222222222,\"#7201a8\"],[0.3333333333333333,\"#9c179e\"],[0.4444444444444444,\"#bd3786\"],[0.5555555555555556,\"#d8576b\"],[0.6666666666666666,\"#ed7953\"],[0.7777777777777778,\"#fb9f3a\"],[0.8888888888888888,\"#fdca26\"],[1.0,\"#f0f921\"]],\"type\":\"histogram2d\"}],\"histogram\":[{\"marker\":{\"pattern\":{\"fillmode\":\"overlay\",\"size\":10,\"solidity\":0.2}},\"type\":\"histogram\"}],\"mesh3d\":[{\"colorbar\":{\"outlinewidth\":0,\"ticks\":\"\"},\"type\":\"mesh3d\"}],\"parcoords\":[{\"line\":{\"colorbar\":{\"outlinewidth\":0,\"ticks\":\"\"}},\"type\":\"parcoords\"}],\"pie\":[{\"automargin\":true,\"type\":\"pie\"}],\"scatter3d\":[{\"line\":{\"colorbar\":{\"outlinewidth\":0,\"ticks\":\"\"}},\"marker\":{\"colorbar\":{\"outlinewidth\":0,\"ticks\":\"\"}},\"type\":\"scatter3d\"}],\"scattercarpet\":[{\"marker\":{\"colorbar\":{\"outlinewidth\":0,\"ticks\":\"\"}},\"type\":\"scattercarpet\"}],\"scattergeo\":[{\"marker\":{\"colorbar\":{\"outlinewidth\":0,\"ticks\":\"\"}},\"type\":\"scattergeo\"}],\"scattergl\":[{\"marker\":{\"colorbar\":{\"outlinewidth\":0,\"ticks\":\"\"}},\"type\":\"scattergl\"}],\"scattermapbox\":[{\"marker\":{\"colorbar\":{\"outlinewidth\":0,\"ticks\":\"\"}},\"type\":\"scattermapbox\"}],\"scatterpolargl\":[{\"marker\":{\"colorbar\":{\"outlinewidth\":0,\"ticks\":\"\"}},\"type\":\"scatterpolargl\"}],\"scatterpolar\":[{\"marker\":{\"colorbar\":{\"outlinewidth\":0,\"ticks\":\"\"}},\"type\":\"scatterpolar\"}],\"scatter\":[{\"fillpattern\":{\"fillmode\":\"overlay\",\"size\":10,\"solidity\":0.2},\"type\":\"scatter\"}],\"scatterternary\":[{\"marker\":{\"colorbar\":{\"outlinewidth\":0,\"ticks\":\"\"}},\"type\":\"scatterternary\"}],\"surface\":[{\"colorbar\":{\"outlinewidth\":0,\"ticks\":\"\"},\"colorscale\":[[0.0,\"#0d0887\"],[0.1111111111111111,\"#46039f\"],[0.2222222222222222,\"#7201a8\"],[0.3333333333333333,\"#9c179e\"],[0.4444444444444444,\"#bd3786\"],[0.5555555555555556,\"#d8576b\"],[0.6666666666666666,\"#ed7953\"],[0.7777777777777778,\"#fb9f3a\"],[0.8888888888888888,\"#fdca26\"],[1.0,\"#f0f921\"]],\"type\":\"surface\"}],\"table\":[{\"cells\":{\"fill\":{\"color\":\"#EBF0F8\"},\"line\":{\"color\":\"white\"}},\"header\":{\"fill\":{\"color\":\"#C8D4E3\"},\"line\":{\"color\":\"white\"}},\"type\":\"table\"}]},\"layout\":{\"annotationdefaults\":{\"arrowcolor\":\"#2a3f5f\",\"arrowhead\":0,\"arrowwidth\":1},\"autotypenumbers\":\"strict\",\"coloraxis\":{\"colorbar\":{\"outlinewidth\":0,\"ticks\":\"\"}},\"colorscale\":{\"diverging\":[[0,\"#8e0152\"],[0.1,\"#c51b7d\"],[0.2,\"#de77ae\"],[0.3,\"#f1b6da\"],[0.4,\"#fde0ef\"],[0.5,\"#f7f7f7\"],[0.6,\"#e6f5d0\"],[0.7,\"#b8e186\"],[0.8,\"#7fbc41\"],[0.9,\"#4d9221\"],[1,\"#276419\"]],\"sequential\":[[0.0,\"#0d0887\"],[0.1111111111111111,\"#46039f\"],[0.2222222222222222,\"#7201a8\"],[0.3333333333333333,\"#9c179e\"],[0.4444444444444444,\"#bd3786\"],[0.5555555555555556,\"#d8576b\"],[0.6666666666666666,\"#ed7953\"],[0.7777777777777778,\"#fb9f3a\"],[0.8888888888888888,\"#fdca26\"],[1.0,\"#f0f921\"]],\"sequentialminus\":[[0.0,\"#0d0887\"],[0.1111111111111111,\"#46039f\"],[0.2222222222222222,\"#7201a8\"],[0.3333333333333333,\"#9c179e\"],[0.4444444444444444,\"#bd3786\"],[0.5555555555555556,\"#d8576b\"],[0.6666666666666666,\"#ed7953\"],[0.7777777777777778,\"#fb9f3a\"],[0.8888888888888888,\"#fdca26\"],[1.0,\"#f0f921\"]]},\"colorway\":[\"#636efa\",\"#EF553B\",\"#00cc96\",\"#ab63fa\",\"#FFA15A\",\"#19d3f3\",\"#FF6692\",\"#B6E880\",\"#FF97FF\",\"#FECB52\"],\"font\":{\"color\":\"#2a3f5f\"},\"geo\":{\"bgcolor\":\"white\",\"lakecolor\":\"white\",\"landcolor\":\"white\",\"showlakes\":true,\"showland\":true,\"subunitcolor\":\"#C8D4E3\"},\"hoverlabel\":{\"align\":\"left\"},\"hovermode\":\"closest\",\"mapbox\":{\"style\":\"light\"},\"paper_bgcolor\":\"white\",\"plot_bgcolor\":\"white\",\"polar\":{\"angularaxis\":{\"gridcolor\":\"#EBF0F8\",\"linecolor\":\"#EBF0F8\",\"ticks\":\"\"},\"bgcolor\":\"white\",\"radialaxis\":{\"gridcolor\":\"#EBF0F8\",\"linecolor\":\"#EBF0F8\",\"ticks\":\"\"}},\"scene\":{\"xaxis\":{\"backgroundcolor\":\"white\",\"gridcolor\":\"#DFE8F3\",\"gridwidth\":2,\"linecolor\":\"#EBF0F8\",\"showbackground\":true,\"ticks\":\"\",\"zerolinecolor\":\"#EBF0F8\"},\"yaxis\":{\"backgroundcolor\":\"white\",\"gridcolor\":\"#DFE8F3\",\"gridwidth\":2,\"linecolor\":\"#EBF0F8\",\"showbackground\":true,\"ticks\":\"\",\"zerolinecolor\":\"#EBF0F8\"},\"zaxis\":{\"backgroundcolor\":\"white\",\"gridcolor\":\"#DFE8F3\",\"gridwidth\":2,\"linecolor\":\"#EBF0F8\",\"showbackground\":true,\"ticks\":\"\",\"zerolinecolor\":\"#EBF0F8\"}},\"shapedefaults\":{\"line\":{\"color\":\"#2a3f5f\"}},\"ternary\":{\"aaxis\":{\"gridcolor\":\"#DFE8F3\",\"linecolor\":\"#A2B1C6\",\"ticks\":\"\"},\"baxis\":{\"gridcolor\":\"#DFE8F3\",\"linecolor\":\"#A2B1C6\",\"ticks\":\"\"},\"bgcolor\":\"white\",\"caxis\":{\"gridcolor\":\"#DFE8F3\",\"linecolor\":\"#A2B1C6\",\"ticks\":\"\"}},\"title\":{\"x\":0.05},\"xaxis\":{\"automargin\":true,\"gridcolor\":\"#EBF0F8\",\"linecolor\":\"#EBF0F8\",\"ticks\":\"\",\"title\":{\"standoff\":15},\"zerolinecolor\":\"#EBF0F8\",\"zerolinewidth\":2},\"yaxis\":{\"automargin\":true,\"gridcolor\":\"#EBF0F8\",\"linecolor\":\"#EBF0F8\",\"ticks\":\"\",\"title\":{\"standoff\":15},\"zerolinecolor\":\"#EBF0F8\",\"zerolinewidth\":2}}},\"legend\":{\"orientation\":\"h\",\"xanchor\":\"center\",\"x\":0.5,\"yanchor\":\"top\",\"y\":1},\"margin\":{\"l\":40,\"r\":40,\"b\":80,\"t\":20},\"font\":{\"size\":20,\"family\":\"Serif\",\"color\":\"black\"},\"barmode\":\"group\",\"bargap\":0.15,\"bargroupgap\":0.1,\"width\":1600,\"height\":700,\"hovermode\":\"x unified\",\"annotations\":[{\"font\":{\"color\":\"Black\",\"family\":\"Serif\",\"size\":20},\"showarrow\":false,\"text\":\"Dataset:\",\"x\":0,\"xanchor\":\"center\",\"xref\":\"paper\",\"y\":-0.05,\"yanchor\":\"bottom\",\"yref\":\"paper\"}],\"yaxis\":{\"title\":{\"font\":{\"size\":20},\"text\":\"Normalised SID = SID \\u002f Number of Edges in DAG\"}}},                        {\"responsive\": true}                    ).then(function(){\n",
       "                            \n",
       "var gd = document.getElementById('8f7eb1b0-3218-40a0-a407-9b690ca237ef');\n",
       "var x = new MutationObserver(function (mutations, observer) {{\n",
       "        var display = window.getComputedStyle(gd).display;\n",
       "        if (!display || display === 'none') {{\n",
       "            console.log([gd, 'removed!']);\n",
       "            Plotly.purge(gd);\n",
       "            observer.disconnect();\n",
       "        }}\n",
       "}});\n",
       "\n",
       "// Listen for the removal of the full notebook cells\n",
       "var notebookContainer = gd.closest('#notebook-container');\n",
       "if (notebookContainer) {{\n",
       "    x.observe(notebookContainer, {childList: true});\n",
       "}}\n",
       "\n",
       "// Listen for the clearing of the current output cell\n",
       "var outputEl = gd.closest('.output');\n",
       "if (outputEl) {{\n",
       "    x.observe(outputEl, {childList: true});\n",
       "}}\n",
       "\n",
       "                        })                };                });            </script>        </div>"
      ]
     },
     "metadata": {},
     "output_type": "display_data"
    }
   ],
   "source": [
    "version = 'bnlearn'\n",
    "datasets = ['cancer', 'earthquake', 'survey', 'asia'#, 'sachs', 'alarm', 'child', 'insurance', 'hailfinder', 'hepar2'\n",
    "]\n",
    "all_sum = pd.DataFrame(np.load(f\"../results/stored_results_realdata_spc.npy\", allow_pickle=True), \n",
    "                       columns=['dataset', 'model', 'fdr_mean', 'fdr_std', 'tpr_mean', 'tpr_std',\n",
    "                                'fpr_mean', 'fpr_std', 'shd_mean', 'shd_std', 'nnz_mean', 'nnz_std',\n",
    "                                'precision_mean', 'precision_std', 'recall_mean', 'recall_std',\n",
    "                                'F1_mean', 'F1_std', 'gscore_mean', 'gscore_std', 'SID_mean', 'SID_std'\n",
    "                                ])\n",
    "## drop unecessary columns\n",
    "all_sum = all_sum.drop(columns=['gscore_mean', 'gscore_std'])\n",
    "all_sum = all_sum[all_sum['dataset'].isin(datasets)] \n",
    "\n",
    "for d_name in datasets:\n",
    "    d_sum = pd.DataFrame(np.load(f\"../results/stored_results_{d_name}_{version}.npy\", allow_pickle=True), \n",
    "                        columns=['dataset', 'model', 'nnz_mean', 'nnz_std','fdr_mean', 'fdr_std', 'tpr_mean', 'tpr_std', 'fpr_mean', 'fpr_std',  \n",
    "                                    'precision_mean', 'precision_std', 'recall_mean', 'recall_std', 'F1_mean', 'F1_std', \n",
    "                                    'shd_mean', 'shd_std','SID_mean', 'SID_std'\n",
    "                                    ])\n",
    "    d_sum = d_sum[d_sum['model']!='Random'] ##exclude Random as it is in the base dataset\n",
    "    d_sum['dataset'] = np.repeat(d_name,len(d_sum))\n",
    "    all_sum = pd.concat([all_sum,d_sum], ignore_index=True)\n",
    "\n",
    "dags_nodes_map = {'asia':8, 'cancer':5, 'earthquake':5, 'sachs':11, 'survey':6, 'alarm':37, 'child':20, 'insurance':27, 'hailfinder':56, 'hepar2':70}\n",
    "dags_arcs_map = {'asia':8, 'cancer':4, 'earthquake':4, 'sachs':17, 'survey':6, 'alarm':46, 'child':25, 'insurance':52, 'hailfinder':66, 'hepar2':123}\n",
    "all_sum['n_edges'] = all_sum['dataset'].map(dags_arcs_map)\n",
    "all_sum['n_nodes'] = all_sum['dataset'].map(dags_nodes_map)\n",
    "all_sum['sparsity'] = round(all_sum['n_edges']/(all_sum['n_nodes']*(all_sum['n_nodes']-1)/2),2)\n",
    "all_sum = all_sum[all_sum['model']!='CAM'] ##exclude CAM as it returned all nan\n",
    "for var in ['shd','SID']:\n",
    "    all_sum['p_'+var+'_mean'] = all_sum[var+'_mean'].astype(float)/all_sum['n_edges'].astype(int)\n",
    "    all_sum['p_'+var+'_std'] = all_sum[var+'_std'].astype(float)/all_sum['n_edges'].astype(int)\n",
    "all_sum['dataset'] = [a.upper() for a in all_sum[\"dataset\"].astype(str)]\n",
    "all_sum['dataset'] = all_sum['dataset'] +np.repeat(\"<br> |V|=\",len(all_sum))+ all_sum[\"n_nodes\"].astype(str)+np.repeat(\"<br> |E|=\",len(all_sum))+\\\n",
    "                     all_sum[\"n_edges\"].astype(str)+np.repeat(\"<br> z=\",len(all_sum))+ all_sum[\"sparsity\"].astype(str)\n",
    "\n",
    "bar_chart_plotly(all_sum, 'p_shd', names_dict, colors_dict, save_figs=save_figs, output_name=\"../results/figs/Fig.1_SHD_realdata.html\", debug=False)#\n",
    "bar_chart_plotly(all_sum, 'p_SID', names_dict, colors_dict, save_figs=save_figs, output_name=\"../results/figs/Fig.2_SID_realdata.html\", debug=False)#"
   ]
  }
 ],
 "metadata": {
  "kernelspec": {
   "display_name": "discoclean",
   "language": "python",
   "name": "python3"
  },
  "language_info": {
   "codemirror_mode": {
    "name": "ipython",
    "version": 3
   },
   "file_extension": ".py",
   "mimetype": "text/x-python",
   "name": "python",
   "nbconvert_exporter": "python",
   "pygments_lexer": "ipython3",
   "version": "3.10.12"
  }
 },
 "nbformat": 4,
 "nbformat_minor": 2
}
