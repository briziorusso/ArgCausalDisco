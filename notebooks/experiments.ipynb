{
 "cells": [
  {
   "cell_type": "markdown",
   "metadata": {},
   "source": [
    "# Argumentative Causal Discovery"
   ]
  },
  {
   "cell_type": "markdown",
   "metadata": {},
   "source": [
    "Notebook collecting results for causal discovery algorithm d-ABA"
   ]
  },
  {
   "cell_type": "code",
   "execution_count": 9,
   "metadata": {},
   "outputs": [
    {
     "name": "stdout",
     "output_type": "stream",
     "text": [
      "['../', '../', '/vol/bitbucket/fr920/ArgCausalDisco/notebooks', '/usr/lib/python310.zip', '/usr/lib/python3.10', '/usr/lib/python3.10/lib-dynload', '', '/vol/bitbucket/fr920/envs/discoclean/lib/python3.10/site-packages', '../utils/', '../utils/']\n"
     ]
    }
   ],
   "source": [
    "import warnings\n",
    "warnings.filterwarnings('ignore')\n",
    "import sys\n",
    "sys.path.insert(0,'../')\n",
    "import numpy as np\n",
    "import pandas as pd\n",
    "pd.set_option('display.max_rows', 2000)\n",
    "import networkx as nx\n",
    "sys.path.append('../utils/')\n",
    "from plotting import *\n",
    "print(sys.path)\n",
    "\n",
    "save_figs = True\n",
    "debug = False\n",
    "dgp_list = ['gauss', 'exp', 'gumbel', 'uniform', 'mlp', 'mim', 'gp', 'gp-add']\n",
    "model_list = ['pc_max','cam','fgs','nt', 'mcsl', 'spc_bot_kci_001']\n",
    "names_dict = {'pc_max':'Max-PC', 'fgs':'FGS', 'spc_bot_kci_001':'Shapley-PC', 'cam':'CAM', 'nt':'NOTEARS-MLP', 'mcsl':'MCSL-MLP', 'ges':'GES', 'random':'Random', 'grandag':'GraN-DAG', 'abapc':'ABAPC (Ours)'}\n",
    "symbols_dict = {'abapc':'triangle-down-dot','pc_max':'square-dot','fgs':'triangle-up-dot','spc_bot_kci_001':'diamond-dot','cam':'triangle-down-dot','nt':'pentagon-dot','mcsl':'hexagon2-dot', 'ges':'triangle-right','grandag':'octagon-dot', 'random':'x'}  \n",
    "colors_dict = {'abapc':sec_blue,'pc_max':main_blue,'fgs':main_green,'spc_bot_kci_001':sec_orange,'cam':sec_green,'nt':main_purple,'mcsl':sec_purple, 'ges':sec_purple, 'random':'grey', 'grandag':sec_orange}\n"
   ]
  },
  {
   "cell_type": "code",
   "execution_count": 10,
   "metadata": {},
   "outputs": [
    {
     "data": {
      "application/vnd.plotly.v1+json": {
       "config": {
        "plotlyServerURL": "https://plot.ly"
       },
       "data": [
        {
         "error_y": {
          "array": [
           0.33,
           0.315,
           0.24666666666666667,
           0.17875
          ],
          "type": "data",
          "visible": true
         },
         "marker": {
          "color": "grey"
         },
         "name": "Random",
         "offsetgroup": "0",
         "opacity": 0.6,
         "showlegend": true,
         "type": "bar",
         "x": [
          "CANCER<br> |V|=5, |E|=4, s=0.4",
          "EARTHQUAKE<br> |V|=5, |E|=4, s=0.4",
          "SURVEY<br> |V|=6, |E|=6, s=0.4",
          "ASIA<br> |V|=8, |E|=8, s=0.29"
         ],
         "y": [
          1.3,
          1.35,
          1.4666666666666668,
          1.675
         ],
         "yaxis": "y"
        },
        {
         "error_y": {
          "array": [
           null,
           null,
           null,
           null
          ],
          "type": "data",
          "visible": true
         },
         "marker": {
          "color": "#379f9f"
         },
         "name": "FGS",
         "offsetgroup": "1",
         "opacity": 0.6,
         "showlegend": true,
         "type": "bar",
         "x": [
          "CANCER<br> |V|=5, |E|=4, s=0.4",
          "EARTHQUAKE<br> |V|=5, |E|=4, s=0.4",
          "SURVEY<br> |V|=6, |E|=6, s=0.4",
          "ASIA<br> |V|=8, |E|=8, s=0.29"
         ],
         "y": [
          0.75,
          0.5,
          1,
          1.375
         ],
         "yaxis": "y"
        },
        {
         "error_y": {
          "array": [
           0,
           0.2675,
           0.08666666666666667,
           0.145
          ],
          "type": "data",
          "visible": true
         },
         "marker": {
          "color": "#9454c4"
         },
         "name": "NOTEARS-MLP",
         "offsetgroup": "2",
         "opacity": 0.6,
         "showlegend": true,
         "type": "bar",
         "x": [
          "CANCER<br> |V|=5, |E|=4, s=0.4",
          "EARTHQUAKE<br> |V|=5, |E|=4, s=0.4",
          "SURVEY<br> |V|=6, |E|=6, s=0.4",
          "ASIA<br> |V|=8, |E|=8, s=0.29"
         ],
         "y": [
          1,
          0.35,
          0.9333333333333332,
          0.8375
         ],
         "yaxis": "y"
        },
        {
         "error_y": {
          "array": [
           null,
           null,
           null,
           null
          ],
          "type": "data",
          "visible": true
         },
         "marker": {
          "color": "#b85c00"
         },
         "name": "Shapley-PC",
         "offsetgroup": "3",
         "opacity": 0.6,
         "showlegend": true,
         "type": "bar",
         "x": [
          "CANCER<br> |V|=5, |E|=4, s=0.4",
          "EARTHQUAKE<br> |V|=5, |E|=4, s=0.4",
          "SURVEY<br> |V|=6, |E|=6, s=0.4",
          "ASIA<br> |V|=8, |E|=8, s=0.29"
         ],
         "y": [
          0.5,
          0.5,
          0.8333333333333334,
          0.75
         ],
         "yaxis": "y"
        },
        {
         "error_y": {
          "array": [
           null,
           null,
           null,
           null
          ],
          "type": "data",
          "visible": true
         },
         "marker": {
          "color": "#0085CA"
         },
         "name": "ABAPC (Ours)",
         "offsetgroup": "4",
         "opacity": 0.6,
         "showlegend": true,
         "type": "bar",
         "x": [
          "CANCER<br> |V|=5, |E|=4, s=0.4",
          "EARTHQUAKE<br> |V|=5, |E|=4, s=0.4",
          "SURVEY<br> |V|=6, |E|=6, s=0.4",
          "ASIA<br> |V|=8, |E|=8, s=0.29"
         ],
         "y": [
          0.75,
          0,
          0.6666666666666666,
          0.25
         ],
         "yaxis": "y"
        },
        {
         "marker": {
          "color": "white"
         },
         "name": "",
         "offsetgroup": "5",
         "opacity": 1,
         "showlegend": false,
         "type": "bar",
         "x": [
          "CANCER<br> |V|=5, |E|=4, s=0.4",
          "EARTHQUAKE<br> |V|=5, |E|=4, s=0.4",
          "SURVEY<br> |V|=6, |E|=6, s=0.4",
          "ASIA<br> |V|=8, |E|=8, s=0.29"
         ],
         "y": [
          0,
          0,
          0,
          0
         ]
        },
        {
         "error_y": {
          "array": [
           0.5875,
           1.025,
           0.87,
           0.73375
          ],
          "type": "data",
          "visible": true
         },
         "marker": {
          "color": "grey"
         },
         "name": "Random",
         "offsetgroup": "6",
         "opacity": 0.6,
         "showlegend": false,
         "type": "bar",
         "x": [
          "CANCER<br> |V|=5, |E|=4, s=0.4",
          "EARTHQUAKE<br> |V|=5, |E|=4, s=0.4",
          "SURVEY<br> |V|=6, |E|=6, s=0.4",
          "ASIA<br> |V|=8, |E|=8, s=0.29"
         ],
         "y": [
          2.8,
          2.45,
          3.1833333333333336,
          3.6875
         ],
         "yaxis": "y2"
        },
        {
         "error_y": {
          "array": [
           null,
           null,
           null,
           null
          ],
          "type": "data",
          "visible": true
         },
         "marker": {
          "color": "#379f9f"
         },
         "name": "FGS",
         "offsetgroup": "7",
         "opacity": 0.6,
         "showlegend": false,
         "type": "bar",
         "x": [
          "CANCER<br> |V|=5, |E|=4, s=0.4",
          "EARTHQUAKE<br> |V|=5, |E|=4, s=0.4",
          "SURVEY<br> |V|=6, |E|=6, s=0.4",
          "ASIA<br> |V|=8, |E|=8, s=0.29"
         ],
         "y": [
          3.5,
          2.5,
          2.3333333333333335,
          5
         ],
         "yaxis": "y2"
        },
        {
         "error_y": {
          "array": [
           0.12,
           1.3175,
           0.08666666666666667,
           0.92625
          ],
          "type": "data",
          "visible": true
         },
         "marker": {
          "color": "#9454c4"
         },
         "name": "NOTEARS-MLP",
         "offsetgroup": "8",
         "opacity": 0.6,
         "showlegend": false,
         "type": "bar",
         "x": [
          "CANCER<br> |V|=5, |E|=4, s=0.4",
          "EARTHQUAKE<br> |V|=5, |E|=4, s=0.4",
          "SURVEY<br> |V|=6, |E|=6, s=0.4",
          "ASIA<br> |V|=8, |E|=8, s=0.29"
         ],
         "y": [
          2.575,
          1.65,
          2.766666666666667,
          3.775
         ],
         "yaxis": "y2"
        },
        {
         "error_y": {
          "array": [
           null,
           null,
           null,
           null
          ],
          "type": "data",
          "visible": true
         },
         "marker": {
          "color": "#b85c00"
         },
         "name": "Shapley-PC",
         "offsetgroup": "9",
         "opacity": 0.6,
         "showlegend": false,
         "type": "bar",
         "x": [
          "CANCER<br> |V|=5, |E|=4, s=0.4",
          "EARTHQUAKE<br> |V|=5, |E|=4, s=0.4",
          "SURVEY<br> |V|=6, |E|=6, s=0.4",
          "ASIA<br> |V|=8, |E|=8, s=0.29"
         ],
         "y": [
          1.5,
          2.5,
          2.8333333333333335,
          3.625
         ],
         "yaxis": "y2"
        },
        {
         "error_y": {
          "array": [
           null,
           null,
           null,
           null
          ],
          "type": "data",
          "visible": true
         },
         "marker": {
          "color": "#0085CA"
         },
         "name": "ABAPC (Ours)",
         "offsetgroup": "10",
         "opacity": 0.6,
         "showlegend": false,
         "type": "bar",
         "x": [
          "CANCER<br> |V|=5, |E|=4, s=0.4",
          "EARTHQUAKE<br> |V|=5, |E|=4, s=0.4",
          "SURVEY<br> |V|=6, |E|=6, s=0.4",
          "ASIA<br> |V|=8, |E|=8, s=0.29"
         ],
         "y": [
          2.75,
          0,
          1.8333333333333333,
          0.875
         ],
         "yaxis": "y2"
        }
       ],
       "layout": {
        "annotations": [
         {
          "font": {
           "color": "Black",
           "family": "Serif",
           "size": 20
          },
          "showarrow": false,
          "text": "Dataset:",
          "x": 0,
          "xanchor": "center",
          "xref": "paper",
          "y": -0.08,
          "yanchor": "bottom",
          "yref": "paper"
         },
         {
          "bgcolor": "#E5ECF6",
          "bordercolor": "#E5ECF6",
          "borderwidth": 2,
          "font": {
           "color": "black",
           "size": 20
          },
          "opacity": 0.8,
          "showarrow": false,
          "text": "         NSHD         ",
          "x": 0.017,
          "xanchor": "left",
          "xref": "x domain",
          "y": 1.015,
          "yref": "y domain"
         },
         {
          "bgcolor": "#E5ECF6",
          "bordercolor": "#E5ECF6",
          "borderwidth": 2,
          "font": {
           "color": "black",
           "size": 20
          },
          "opacity": 0.8,
          "showarrow": false,
          "text": "         NSID         ",
          "x": 0.137,
          "xanchor": "left",
          "xref": "x domain",
          "y": 1.015,
          "yref": "y domain"
         },
         {
          "bgcolor": "#E5ECF6",
          "bordercolor": "#E5ECF6",
          "borderwidth": 2,
          "font": {
           "color": "black",
           "size": 20
          },
          "opacity": 0.8,
          "showarrow": false,
          "text": "         NSHD         ",
          "x": 0.267,
          "xanchor": "left",
          "xref": "x domain",
          "y": 1.015,
          "yref": "y domain"
         },
         {
          "bgcolor": "#E5ECF6",
          "bordercolor": "#E5ECF6",
          "borderwidth": 2,
          "font": {
           "color": "black",
           "size": 20
          },
          "opacity": 0.8,
          "showarrow": false,
          "text": "         NSID         ",
          "x": 0.387,
          "xanchor": "left",
          "xref": "x domain",
          "y": 1.015,
          "yref": "y domain"
         },
         {
          "bgcolor": "#E5ECF6",
          "bordercolor": "#E5ECF6",
          "borderwidth": 2,
          "font": {
           "color": "black",
           "size": 20
          },
          "opacity": 0.8,
          "showarrow": false,
          "text": "         NSHD         ",
          "x": 0.517,
          "xanchor": "left",
          "xref": "x domain",
          "y": 1.015,
          "yref": "y domain"
         },
         {
          "bgcolor": "#E5ECF6",
          "bordercolor": "#E5ECF6",
          "borderwidth": 2,
          "font": {
           "color": "black",
           "size": 20
          },
          "opacity": 0.8,
          "showarrow": false,
          "text": "         NSID         ",
          "x": 0.637,
          "xanchor": "left",
          "xref": "x domain",
          "y": 1.015,
          "yref": "y domain"
         },
         {
          "bgcolor": "#E5ECF6",
          "bordercolor": "#E5ECF6",
          "borderwidth": 2,
          "font": {
           "color": "black",
           "size": 20
          },
          "opacity": 0.8,
          "showarrow": false,
          "text": "         NSHD         ",
          "x": 0.767,
          "xanchor": "left",
          "xref": "x domain",
          "y": 1.015,
          "yref": "y domain"
         },
         {
          "bgcolor": "#E5ECF6",
          "bordercolor": "#E5ECF6",
          "borderwidth": 2,
          "font": {
           "color": "black",
           "size": 20
          },
          "opacity": 0.8,
          "showarrow": false,
          "text": "         NSID         ",
          "x": 0.887,
          "xanchor": "left",
          "xref": "x domain",
          "y": 1.015,
          "yref": "y domain"
         }
        ],
        "bargap": 0.15,
        "bargroupgap": 0.1,
        "barmode": "group",
        "font": {
         "color": "black",
         "family": "Serif",
         "size": 20
        },
        "height": 700,
        "hovermode": "x unified",
        "legend": {
         "orientation": "h",
         "x": 0.5,
         "xanchor": "center",
         "y": 1.1,
         "yanchor": "top"
        },
        "margin": {
         "b": 80,
         "l": 40,
         "r": 40,
         "t": 20
        },
        "template": {
         "data": {
          "bar": [
           {
            "error_x": {
             "color": "#2a3f5f"
            },
            "error_y": {
             "color": "#2a3f5f"
            },
            "marker": {
             "line": {
              "color": "white",
              "width": 0.5
             },
             "pattern": {
              "fillmode": "overlay",
              "size": 10,
              "solidity": 0.2
             }
            },
            "type": "bar"
           }
          ],
          "barpolar": [
           {
            "marker": {
             "line": {
              "color": "white",
              "width": 0.5
             },
             "pattern": {
              "fillmode": "overlay",
              "size": 10,
              "solidity": 0.2
             }
            },
            "type": "barpolar"
           }
          ],
          "carpet": [
           {
            "aaxis": {
             "endlinecolor": "#2a3f5f",
             "gridcolor": "#C8D4E3",
             "linecolor": "#C8D4E3",
             "minorgridcolor": "#C8D4E3",
             "startlinecolor": "#2a3f5f"
            },
            "baxis": {
             "endlinecolor": "#2a3f5f",
             "gridcolor": "#C8D4E3",
             "linecolor": "#C8D4E3",
             "minorgridcolor": "#C8D4E3",
             "startlinecolor": "#2a3f5f"
            },
            "type": "carpet"
           }
          ],
          "choropleth": [
           {
            "colorbar": {
             "outlinewidth": 0,
             "ticks": ""
            },
            "type": "choropleth"
           }
          ],
          "contour": [
           {
            "colorbar": {
             "outlinewidth": 0,
             "ticks": ""
            },
            "colorscale": [
             [
              0,
              "#0d0887"
             ],
             [
              0.1111111111111111,
              "#46039f"
             ],
             [
              0.2222222222222222,
              "#7201a8"
             ],
             [
              0.3333333333333333,
              "#9c179e"
             ],
             [
              0.4444444444444444,
              "#bd3786"
             ],
             [
              0.5555555555555556,
              "#d8576b"
             ],
             [
              0.6666666666666666,
              "#ed7953"
             ],
             [
              0.7777777777777778,
              "#fb9f3a"
             ],
             [
              0.8888888888888888,
              "#fdca26"
             ],
             [
              1,
              "#f0f921"
             ]
            ],
            "type": "contour"
           }
          ],
          "contourcarpet": [
           {
            "colorbar": {
             "outlinewidth": 0,
             "ticks": ""
            },
            "type": "contourcarpet"
           }
          ],
          "heatmap": [
           {
            "colorbar": {
             "outlinewidth": 0,
             "ticks": ""
            },
            "colorscale": [
             [
              0,
              "#0d0887"
             ],
             [
              0.1111111111111111,
              "#46039f"
             ],
             [
              0.2222222222222222,
              "#7201a8"
             ],
             [
              0.3333333333333333,
              "#9c179e"
             ],
             [
              0.4444444444444444,
              "#bd3786"
             ],
             [
              0.5555555555555556,
              "#d8576b"
             ],
             [
              0.6666666666666666,
              "#ed7953"
             ],
             [
              0.7777777777777778,
              "#fb9f3a"
             ],
             [
              0.8888888888888888,
              "#fdca26"
             ],
             [
              1,
              "#f0f921"
             ]
            ],
            "type": "heatmap"
           }
          ],
          "heatmapgl": [
           {
            "colorbar": {
             "outlinewidth": 0,
             "ticks": ""
            },
            "colorscale": [
             [
              0,
              "#0d0887"
             ],
             [
              0.1111111111111111,
              "#46039f"
             ],
             [
              0.2222222222222222,
              "#7201a8"
             ],
             [
              0.3333333333333333,
              "#9c179e"
             ],
             [
              0.4444444444444444,
              "#bd3786"
             ],
             [
              0.5555555555555556,
              "#d8576b"
             ],
             [
              0.6666666666666666,
              "#ed7953"
             ],
             [
              0.7777777777777778,
              "#fb9f3a"
             ],
             [
              0.8888888888888888,
              "#fdca26"
             ],
             [
              1,
              "#f0f921"
             ]
            ],
            "type": "heatmapgl"
           }
          ],
          "histogram": [
           {
            "marker": {
             "pattern": {
              "fillmode": "overlay",
              "size": 10,
              "solidity": 0.2
             }
            },
            "type": "histogram"
           }
          ],
          "histogram2d": [
           {
            "colorbar": {
             "outlinewidth": 0,
             "ticks": ""
            },
            "colorscale": [
             [
              0,
              "#0d0887"
             ],
             [
              0.1111111111111111,
              "#46039f"
             ],
             [
              0.2222222222222222,
              "#7201a8"
             ],
             [
              0.3333333333333333,
              "#9c179e"
             ],
             [
              0.4444444444444444,
              "#bd3786"
             ],
             [
              0.5555555555555556,
              "#d8576b"
             ],
             [
              0.6666666666666666,
              "#ed7953"
             ],
             [
              0.7777777777777778,
              "#fb9f3a"
             ],
             [
              0.8888888888888888,
              "#fdca26"
             ],
             [
              1,
              "#f0f921"
             ]
            ],
            "type": "histogram2d"
           }
          ],
          "histogram2dcontour": [
           {
            "colorbar": {
             "outlinewidth": 0,
             "ticks": ""
            },
            "colorscale": [
             [
              0,
              "#0d0887"
             ],
             [
              0.1111111111111111,
              "#46039f"
             ],
             [
              0.2222222222222222,
              "#7201a8"
             ],
             [
              0.3333333333333333,
              "#9c179e"
             ],
             [
              0.4444444444444444,
              "#bd3786"
             ],
             [
              0.5555555555555556,
              "#d8576b"
             ],
             [
              0.6666666666666666,
              "#ed7953"
             ],
             [
              0.7777777777777778,
              "#fb9f3a"
             ],
             [
              0.8888888888888888,
              "#fdca26"
             ],
             [
              1,
              "#f0f921"
             ]
            ],
            "type": "histogram2dcontour"
           }
          ],
          "mesh3d": [
           {
            "colorbar": {
             "outlinewidth": 0,
             "ticks": ""
            },
            "type": "mesh3d"
           }
          ],
          "parcoords": [
           {
            "line": {
             "colorbar": {
              "outlinewidth": 0,
              "ticks": ""
             }
            },
            "type": "parcoords"
           }
          ],
          "pie": [
           {
            "automargin": true,
            "type": "pie"
           }
          ],
          "scatter": [
           {
            "fillpattern": {
             "fillmode": "overlay",
             "size": 10,
             "solidity": 0.2
            },
            "type": "scatter"
           }
          ],
          "scatter3d": [
           {
            "line": {
             "colorbar": {
              "outlinewidth": 0,
              "ticks": ""
             }
            },
            "marker": {
             "colorbar": {
              "outlinewidth": 0,
              "ticks": ""
             }
            },
            "type": "scatter3d"
           }
          ],
          "scattercarpet": [
           {
            "marker": {
             "colorbar": {
              "outlinewidth": 0,
              "ticks": ""
             }
            },
            "type": "scattercarpet"
           }
          ],
          "scattergeo": [
           {
            "marker": {
             "colorbar": {
              "outlinewidth": 0,
              "ticks": ""
             }
            },
            "type": "scattergeo"
           }
          ],
          "scattergl": [
           {
            "marker": {
             "colorbar": {
              "outlinewidth": 0,
              "ticks": ""
             }
            },
            "type": "scattergl"
           }
          ],
          "scattermapbox": [
           {
            "marker": {
             "colorbar": {
              "outlinewidth": 0,
              "ticks": ""
             }
            },
            "type": "scattermapbox"
           }
          ],
          "scatterpolar": [
           {
            "marker": {
             "colorbar": {
              "outlinewidth": 0,
              "ticks": ""
             }
            },
            "type": "scatterpolar"
           }
          ],
          "scatterpolargl": [
           {
            "marker": {
             "colorbar": {
              "outlinewidth": 0,
              "ticks": ""
             }
            },
            "type": "scatterpolargl"
           }
          ],
          "scatterternary": [
           {
            "marker": {
             "colorbar": {
              "outlinewidth": 0,
              "ticks": ""
             }
            },
            "type": "scatterternary"
           }
          ],
          "surface": [
           {
            "colorbar": {
             "outlinewidth": 0,
             "ticks": ""
            },
            "colorscale": [
             [
              0,
              "#0d0887"
             ],
             [
              0.1111111111111111,
              "#46039f"
             ],
             [
              0.2222222222222222,
              "#7201a8"
             ],
             [
              0.3333333333333333,
              "#9c179e"
             ],
             [
              0.4444444444444444,
              "#bd3786"
             ],
             [
              0.5555555555555556,
              "#d8576b"
             ],
             [
              0.6666666666666666,
              "#ed7953"
             ],
             [
              0.7777777777777778,
              "#fb9f3a"
             ],
             [
              0.8888888888888888,
              "#fdca26"
             ],
             [
              1,
              "#f0f921"
             ]
            ],
            "type": "surface"
           }
          ],
          "table": [
           {
            "cells": {
             "fill": {
              "color": "#EBF0F8"
             },
             "line": {
              "color": "white"
             }
            },
            "header": {
             "fill": {
              "color": "#C8D4E3"
             },
             "line": {
              "color": "white"
             }
            },
            "type": "table"
           }
          ]
         },
         "layout": {
          "annotationdefaults": {
           "arrowcolor": "#2a3f5f",
           "arrowhead": 0,
           "arrowwidth": 1
          },
          "autotypenumbers": "strict",
          "coloraxis": {
           "colorbar": {
            "outlinewidth": 0,
            "ticks": ""
           }
          },
          "colorscale": {
           "diverging": [
            [
             0,
             "#8e0152"
            ],
            [
             0.1,
             "#c51b7d"
            ],
            [
             0.2,
             "#de77ae"
            ],
            [
             0.3,
             "#f1b6da"
            ],
            [
             0.4,
             "#fde0ef"
            ],
            [
             0.5,
             "#f7f7f7"
            ],
            [
             0.6,
             "#e6f5d0"
            ],
            [
             0.7,
             "#b8e186"
            ],
            [
             0.8,
             "#7fbc41"
            ],
            [
             0.9,
             "#4d9221"
            ],
            [
             1,
             "#276419"
            ]
           ],
           "sequential": [
            [
             0,
             "#0d0887"
            ],
            [
             0.1111111111111111,
             "#46039f"
            ],
            [
             0.2222222222222222,
             "#7201a8"
            ],
            [
             0.3333333333333333,
             "#9c179e"
            ],
            [
             0.4444444444444444,
             "#bd3786"
            ],
            [
             0.5555555555555556,
             "#d8576b"
            ],
            [
             0.6666666666666666,
             "#ed7953"
            ],
            [
             0.7777777777777778,
             "#fb9f3a"
            ],
            [
             0.8888888888888888,
             "#fdca26"
            ],
            [
             1,
             "#f0f921"
            ]
           ],
           "sequentialminus": [
            [
             0,
             "#0d0887"
            ],
            [
             0.1111111111111111,
             "#46039f"
            ],
            [
             0.2222222222222222,
             "#7201a8"
            ],
            [
             0.3333333333333333,
             "#9c179e"
            ],
            [
             0.4444444444444444,
             "#bd3786"
            ],
            [
             0.5555555555555556,
             "#d8576b"
            ],
            [
             0.6666666666666666,
             "#ed7953"
            ],
            [
             0.7777777777777778,
             "#fb9f3a"
            ],
            [
             0.8888888888888888,
             "#fdca26"
            ],
            [
             1,
             "#f0f921"
            ]
           ]
          },
          "colorway": [
           "#636efa",
           "#EF553B",
           "#00cc96",
           "#ab63fa",
           "#FFA15A",
           "#19d3f3",
           "#FF6692",
           "#B6E880",
           "#FF97FF",
           "#FECB52"
          ],
          "font": {
           "color": "#2a3f5f"
          },
          "geo": {
           "bgcolor": "white",
           "lakecolor": "white",
           "landcolor": "white",
           "showlakes": true,
           "showland": true,
           "subunitcolor": "#C8D4E3"
          },
          "hoverlabel": {
           "align": "left"
          },
          "hovermode": "closest",
          "mapbox": {
           "style": "light"
          },
          "paper_bgcolor": "white",
          "plot_bgcolor": "white",
          "polar": {
           "angularaxis": {
            "gridcolor": "#EBF0F8",
            "linecolor": "#EBF0F8",
            "ticks": ""
           },
           "bgcolor": "white",
           "radialaxis": {
            "gridcolor": "#EBF0F8",
            "linecolor": "#EBF0F8",
            "ticks": ""
           }
          },
          "scene": {
           "xaxis": {
            "backgroundcolor": "white",
            "gridcolor": "#DFE8F3",
            "gridwidth": 2,
            "linecolor": "#EBF0F8",
            "showbackground": true,
            "ticks": "",
            "zerolinecolor": "#EBF0F8"
           },
           "yaxis": {
            "backgroundcolor": "white",
            "gridcolor": "#DFE8F3",
            "gridwidth": 2,
            "linecolor": "#EBF0F8",
            "showbackground": true,
            "ticks": "",
            "zerolinecolor": "#EBF0F8"
           },
           "zaxis": {
            "backgroundcolor": "white",
            "gridcolor": "#DFE8F3",
            "gridwidth": 2,
            "linecolor": "#EBF0F8",
            "showbackground": true,
            "ticks": "",
            "zerolinecolor": "#EBF0F8"
           }
          },
          "shapedefaults": {
           "line": {
            "color": "#2a3f5f"
           }
          },
          "ternary": {
           "aaxis": {
            "gridcolor": "#DFE8F3",
            "linecolor": "#A2B1C6",
            "ticks": ""
           },
           "baxis": {
            "gridcolor": "#DFE8F3",
            "linecolor": "#A2B1C6",
            "ticks": ""
           },
           "bgcolor": "white",
           "caxis": {
            "gridcolor": "#DFE8F3",
            "linecolor": "#A2B1C6",
            "ticks": ""
           }
          },
          "title": {
           "x": 0.05
          },
          "xaxis": {
           "automargin": true,
           "gridcolor": "#EBF0F8",
           "linecolor": "#EBF0F8",
           "ticks": "",
           "title": {
            "standoff": 15
           },
           "zerolinecolor": "#EBF0F8",
           "zerolinewidth": 2
          },
          "yaxis": {
           "automargin": true,
           "gridcolor": "#EBF0F8",
           "linecolor": "#EBF0F8",
           "ticks": "",
           "title": {
            "standoff": 15
           },
           "zerolinecolor": "#EBF0F8",
           "zerolinewidth": 2
          }
         }
        },
        "width": 1600,
        "xaxis": {
         "anchor": "y",
         "domain": [
          0,
          0.94
         ]
        },
        "yaxis": {
         "anchor": "x",
         "domain": [
          0,
          1
         ],
         "range": [
          0,
          2
         ],
         "title": {
          "font": {
           "size": 20
          },
          "text": "Normalised SHD = SHD / Number of Edges in DAG"
         }
        },
        "yaxis2": {
         "anchor": "x",
         "overlaying": "y",
         "range": [
          0,
          5.3
         ],
         "scaleanchor": 0,
         "showgrid": false,
         "showline": false,
         "showticklabels": true,
         "side": "right",
         "title": {
          "font": {
           "size": 20
          },
          "text": "Normalised SID = SID / Number of Edges in DAG"
         },
         "zeroline": true
        }
       }
      },
      "text/html": [
       "<div>                            <div id=\"0d3e6736-f758-405a-8bad-ffa7e8e8a73f\" class=\"plotly-graph-div\" style=\"height:700px; width:1600px;\"></div>            <script type=\"text/javascript\">                require([\"plotly\"], function(Plotly) {                    window.PLOTLYENV=window.PLOTLYENV || {};                                    if (document.getElementById(\"0d3e6736-f758-405a-8bad-ffa7e8e8a73f\")) {                    Plotly.newPlot(                        \"0d3e6736-f758-405a-8bad-ffa7e8e8a73f\",                        [{\"error_y\":{\"array\":[0.33,0.315,0.24666666666666667,0.17875],\"type\":\"data\",\"visible\":true},\"marker\":{\"color\":\"grey\"},\"name\":\"Random\",\"offsetgroup\":\"0\",\"opacity\":0.6,\"showlegend\":true,\"x\":[\"CANCER\\u003cbr\\u003e |V|=5, |E|=4, s=0.4\",\"EARTHQUAKE\\u003cbr\\u003e |V|=5, |E|=4, s=0.4\",\"SURVEY\\u003cbr\\u003e |V|=6, |E|=6, s=0.4\",\"ASIA\\u003cbr\\u003e |V|=8, |E|=8, s=0.29\"],\"y\":[1.3,1.35,1.4666666666666668,1.675],\"yaxis\":\"y\",\"type\":\"bar\"},{\"error_y\":{\"array\":[null,null,null,null],\"type\":\"data\",\"visible\":true},\"marker\":{\"color\":\"#379f9f\"},\"name\":\"FGS\",\"offsetgroup\":\"1\",\"opacity\":0.6,\"showlegend\":true,\"x\":[\"CANCER\\u003cbr\\u003e |V|=5, |E|=4, s=0.4\",\"EARTHQUAKE\\u003cbr\\u003e |V|=5, |E|=4, s=0.4\",\"SURVEY\\u003cbr\\u003e |V|=6, |E|=6, s=0.4\",\"ASIA\\u003cbr\\u003e |V|=8, |E|=8, s=0.29\"],\"y\":[0.75,0.5,1.0,1.375],\"yaxis\":\"y\",\"type\":\"bar\"},{\"error_y\":{\"array\":[0.0,0.2675,0.08666666666666667,0.145],\"type\":\"data\",\"visible\":true},\"marker\":{\"color\":\"#9454c4\"},\"name\":\"NOTEARS-MLP\",\"offsetgroup\":\"2\",\"opacity\":0.6,\"showlegend\":true,\"x\":[\"CANCER\\u003cbr\\u003e |V|=5, |E|=4, s=0.4\",\"EARTHQUAKE\\u003cbr\\u003e |V|=5, |E|=4, s=0.4\",\"SURVEY\\u003cbr\\u003e |V|=6, |E|=6, s=0.4\",\"ASIA\\u003cbr\\u003e |V|=8, |E|=8, s=0.29\"],\"y\":[1.0,0.35,0.9333333333333332,0.8375],\"yaxis\":\"y\",\"type\":\"bar\"},{\"error_y\":{\"array\":[null,null,null,null],\"type\":\"data\",\"visible\":true},\"marker\":{\"color\":\"#b85c00\"},\"name\":\"Shapley-PC\",\"offsetgroup\":\"3\",\"opacity\":0.6,\"showlegend\":true,\"x\":[\"CANCER\\u003cbr\\u003e |V|=5, |E|=4, s=0.4\",\"EARTHQUAKE\\u003cbr\\u003e |V|=5, |E|=4, s=0.4\",\"SURVEY\\u003cbr\\u003e |V|=6, |E|=6, s=0.4\",\"ASIA\\u003cbr\\u003e |V|=8, |E|=8, s=0.29\"],\"y\":[0.5,0.5,0.8333333333333334,0.75],\"yaxis\":\"y\",\"type\":\"bar\"},{\"error_y\":{\"array\":[null,null,null,null],\"type\":\"data\",\"visible\":true},\"marker\":{\"color\":\"#0085CA\"},\"name\":\"ABAPC (Ours)\",\"offsetgroup\":\"4\",\"opacity\":0.6,\"showlegend\":true,\"x\":[\"CANCER\\u003cbr\\u003e |V|=5, |E|=4, s=0.4\",\"EARTHQUAKE\\u003cbr\\u003e |V|=5, |E|=4, s=0.4\",\"SURVEY\\u003cbr\\u003e |V|=6, |E|=6, s=0.4\",\"ASIA\\u003cbr\\u003e |V|=8, |E|=8, s=0.29\"],\"y\":[0.75,0.0,0.6666666666666666,0.25],\"yaxis\":\"y\",\"type\":\"bar\"},{\"marker\":{\"color\":\"white\"},\"name\":\"\",\"offsetgroup\":\"5\",\"opacity\":1,\"showlegend\":false,\"x\":[\"CANCER\\u003cbr\\u003e |V|=5, |E|=4, s=0.4\",\"EARTHQUAKE\\u003cbr\\u003e |V|=5, |E|=4, s=0.4\",\"SURVEY\\u003cbr\\u003e |V|=6, |E|=6, s=0.4\",\"ASIA\\u003cbr\\u003e |V|=8, |E|=8, s=0.29\"],\"y\":[0.0,0.0,0.0,0.0],\"type\":\"bar\"},{\"error_y\":{\"array\":[0.5875,1.025,0.87,0.73375],\"type\":\"data\",\"visible\":true},\"marker\":{\"color\":\"grey\"},\"name\":\"Random\",\"offsetgroup\":\"6\",\"opacity\":0.6,\"showlegend\":false,\"x\":[\"CANCER\\u003cbr\\u003e |V|=5, |E|=4, s=0.4\",\"EARTHQUAKE\\u003cbr\\u003e |V|=5, |E|=4, s=0.4\",\"SURVEY\\u003cbr\\u003e |V|=6, |E|=6, s=0.4\",\"ASIA\\u003cbr\\u003e |V|=8, |E|=8, s=0.29\"],\"y\":[2.8,2.45,3.1833333333333336,3.6875],\"yaxis\":\"y2\",\"type\":\"bar\"},{\"error_y\":{\"array\":[null,null,null,null],\"type\":\"data\",\"visible\":true},\"marker\":{\"color\":\"#379f9f\"},\"name\":\"FGS\",\"offsetgroup\":\"7\",\"opacity\":0.6,\"showlegend\":false,\"x\":[\"CANCER\\u003cbr\\u003e |V|=5, |E|=4, s=0.4\",\"EARTHQUAKE\\u003cbr\\u003e |V|=5, |E|=4, s=0.4\",\"SURVEY\\u003cbr\\u003e |V|=6, |E|=6, s=0.4\",\"ASIA\\u003cbr\\u003e |V|=8, |E|=8, s=0.29\"],\"y\":[3.5,2.5,2.3333333333333335,5.0],\"yaxis\":\"y2\",\"type\":\"bar\"},{\"error_y\":{\"array\":[0.12,1.3175,0.08666666666666667,0.92625],\"type\":\"data\",\"visible\":true},\"marker\":{\"color\":\"#9454c4\"},\"name\":\"NOTEARS-MLP\",\"offsetgroup\":\"8\",\"opacity\":0.6,\"showlegend\":false,\"x\":[\"CANCER\\u003cbr\\u003e |V|=5, |E|=4, s=0.4\",\"EARTHQUAKE\\u003cbr\\u003e |V|=5, |E|=4, s=0.4\",\"SURVEY\\u003cbr\\u003e |V|=6, |E|=6, s=0.4\",\"ASIA\\u003cbr\\u003e |V|=8, |E|=8, s=0.29\"],\"y\":[2.575,1.65,2.766666666666667,3.775],\"yaxis\":\"y2\",\"type\":\"bar\"},{\"error_y\":{\"array\":[null,null,null,null],\"type\":\"data\",\"visible\":true},\"marker\":{\"color\":\"#b85c00\"},\"name\":\"Shapley-PC\",\"offsetgroup\":\"9\",\"opacity\":0.6,\"showlegend\":false,\"x\":[\"CANCER\\u003cbr\\u003e |V|=5, |E|=4, s=0.4\",\"EARTHQUAKE\\u003cbr\\u003e |V|=5, |E|=4, s=0.4\",\"SURVEY\\u003cbr\\u003e |V|=6, |E|=6, s=0.4\",\"ASIA\\u003cbr\\u003e |V|=8, |E|=8, s=0.29\"],\"y\":[1.5,2.5,2.8333333333333335,3.625],\"yaxis\":\"y2\",\"type\":\"bar\"},{\"error_y\":{\"array\":[null,null,null,null],\"type\":\"data\",\"visible\":true},\"marker\":{\"color\":\"#0085CA\"},\"name\":\"ABAPC (Ours)\",\"offsetgroup\":\"10\",\"opacity\":0.6,\"showlegend\":false,\"x\":[\"CANCER\\u003cbr\\u003e |V|=5, |E|=4, s=0.4\",\"EARTHQUAKE\\u003cbr\\u003e |V|=5, |E|=4, s=0.4\",\"SURVEY\\u003cbr\\u003e |V|=6, |E|=6, s=0.4\",\"ASIA\\u003cbr\\u003e |V|=8, |E|=8, s=0.29\"],\"y\":[2.75,0.0,1.8333333333333333,0.875],\"yaxis\":\"y2\",\"type\":\"bar\"}],                        {\"template\":{\"data\":{\"barpolar\":[{\"marker\":{\"line\":{\"color\":\"white\",\"width\":0.5},\"pattern\":{\"fillmode\":\"overlay\",\"size\":10,\"solidity\":0.2}},\"type\":\"barpolar\"}],\"bar\":[{\"error_x\":{\"color\":\"#2a3f5f\"},\"error_y\":{\"color\":\"#2a3f5f\"},\"marker\":{\"line\":{\"color\":\"white\",\"width\":0.5},\"pattern\":{\"fillmode\":\"overlay\",\"size\":10,\"solidity\":0.2}},\"type\":\"bar\"}],\"carpet\":[{\"aaxis\":{\"endlinecolor\":\"#2a3f5f\",\"gridcolor\":\"#C8D4E3\",\"linecolor\":\"#C8D4E3\",\"minorgridcolor\":\"#C8D4E3\",\"startlinecolor\":\"#2a3f5f\"},\"baxis\":{\"endlinecolor\":\"#2a3f5f\",\"gridcolor\":\"#C8D4E3\",\"linecolor\":\"#C8D4E3\",\"minorgridcolor\":\"#C8D4E3\",\"startlinecolor\":\"#2a3f5f\"},\"type\":\"carpet\"}],\"choropleth\":[{\"colorbar\":{\"outlinewidth\":0,\"ticks\":\"\"},\"type\":\"choropleth\"}],\"contourcarpet\":[{\"colorbar\":{\"outlinewidth\":0,\"ticks\":\"\"},\"type\":\"contourcarpet\"}],\"contour\":[{\"colorbar\":{\"outlinewidth\":0,\"ticks\":\"\"},\"colorscale\":[[0.0,\"#0d0887\"],[0.1111111111111111,\"#46039f\"],[0.2222222222222222,\"#7201a8\"],[0.3333333333333333,\"#9c179e\"],[0.4444444444444444,\"#bd3786\"],[0.5555555555555556,\"#d8576b\"],[0.6666666666666666,\"#ed7953\"],[0.7777777777777778,\"#fb9f3a\"],[0.8888888888888888,\"#fdca26\"],[1.0,\"#f0f921\"]],\"type\":\"contour\"}],\"heatmapgl\":[{\"colorbar\":{\"outlinewidth\":0,\"ticks\":\"\"},\"colorscale\":[[0.0,\"#0d0887\"],[0.1111111111111111,\"#46039f\"],[0.2222222222222222,\"#7201a8\"],[0.3333333333333333,\"#9c179e\"],[0.4444444444444444,\"#bd3786\"],[0.5555555555555556,\"#d8576b\"],[0.6666666666666666,\"#ed7953\"],[0.7777777777777778,\"#fb9f3a\"],[0.8888888888888888,\"#fdca26\"],[1.0,\"#f0f921\"]],\"type\":\"heatmapgl\"}],\"heatmap\":[{\"colorbar\":{\"outlinewidth\":0,\"ticks\":\"\"},\"colorscale\":[[0.0,\"#0d0887\"],[0.1111111111111111,\"#46039f\"],[0.2222222222222222,\"#7201a8\"],[0.3333333333333333,\"#9c179e\"],[0.4444444444444444,\"#bd3786\"],[0.5555555555555556,\"#d8576b\"],[0.6666666666666666,\"#ed7953\"],[0.7777777777777778,\"#fb9f3a\"],[0.8888888888888888,\"#fdca26\"],[1.0,\"#f0f921\"]],\"type\":\"heatmap\"}],\"histogram2dcontour\":[{\"colorbar\":{\"outlinewidth\":0,\"ticks\":\"\"},\"colorscale\":[[0.0,\"#0d0887\"],[0.1111111111111111,\"#46039f\"],[0.2222222222222222,\"#7201a8\"],[0.3333333333333333,\"#9c179e\"],[0.4444444444444444,\"#bd3786\"],[0.5555555555555556,\"#d8576b\"],[0.6666666666666666,\"#ed7953\"],[0.7777777777777778,\"#fb9f3a\"],[0.8888888888888888,\"#fdca26\"],[1.0,\"#f0f921\"]],\"type\":\"histogram2dcontour\"}],\"histogram2d\":[{\"colorbar\":{\"outlinewidth\":0,\"ticks\":\"\"},\"colorscale\":[[0.0,\"#0d0887\"],[0.1111111111111111,\"#46039f\"],[0.2222222222222222,\"#7201a8\"],[0.3333333333333333,\"#9c179e\"],[0.4444444444444444,\"#bd3786\"],[0.5555555555555556,\"#d8576b\"],[0.6666666666666666,\"#ed7953\"],[0.7777777777777778,\"#fb9f3a\"],[0.8888888888888888,\"#fdca26\"],[1.0,\"#f0f921\"]],\"type\":\"histogram2d\"}],\"histogram\":[{\"marker\":{\"pattern\":{\"fillmode\":\"overlay\",\"size\":10,\"solidity\":0.2}},\"type\":\"histogram\"}],\"mesh3d\":[{\"colorbar\":{\"outlinewidth\":0,\"ticks\":\"\"},\"type\":\"mesh3d\"}],\"parcoords\":[{\"line\":{\"colorbar\":{\"outlinewidth\":0,\"ticks\":\"\"}},\"type\":\"parcoords\"}],\"pie\":[{\"automargin\":true,\"type\":\"pie\"}],\"scatter3d\":[{\"line\":{\"colorbar\":{\"outlinewidth\":0,\"ticks\":\"\"}},\"marker\":{\"colorbar\":{\"outlinewidth\":0,\"ticks\":\"\"}},\"type\":\"scatter3d\"}],\"scattercarpet\":[{\"marker\":{\"colorbar\":{\"outlinewidth\":0,\"ticks\":\"\"}},\"type\":\"scattercarpet\"}],\"scattergeo\":[{\"marker\":{\"colorbar\":{\"outlinewidth\":0,\"ticks\":\"\"}},\"type\":\"scattergeo\"}],\"scattergl\":[{\"marker\":{\"colorbar\":{\"outlinewidth\":0,\"ticks\":\"\"}},\"type\":\"scattergl\"}],\"scattermapbox\":[{\"marker\":{\"colorbar\":{\"outlinewidth\":0,\"ticks\":\"\"}},\"type\":\"scattermapbox\"}],\"scatterpolargl\":[{\"marker\":{\"colorbar\":{\"outlinewidth\":0,\"ticks\":\"\"}},\"type\":\"scatterpolargl\"}],\"scatterpolar\":[{\"marker\":{\"colorbar\":{\"outlinewidth\":0,\"ticks\":\"\"}},\"type\":\"scatterpolar\"}],\"scatter\":[{\"fillpattern\":{\"fillmode\":\"overlay\",\"size\":10,\"solidity\":0.2},\"type\":\"scatter\"}],\"scatterternary\":[{\"marker\":{\"colorbar\":{\"outlinewidth\":0,\"ticks\":\"\"}},\"type\":\"scatterternary\"}],\"surface\":[{\"colorbar\":{\"outlinewidth\":0,\"ticks\":\"\"},\"colorscale\":[[0.0,\"#0d0887\"],[0.1111111111111111,\"#46039f\"],[0.2222222222222222,\"#7201a8\"],[0.3333333333333333,\"#9c179e\"],[0.4444444444444444,\"#bd3786\"],[0.5555555555555556,\"#d8576b\"],[0.6666666666666666,\"#ed7953\"],[0.7777777777777778,\"#fb9f3a\"],[0.8888888888888888,\"#fdca26\"],[1.0,\"#f0f921\"]],\"type\":\"surface\"}],\"table\":[{\"cells\":{\"fill\":{\"color\":\"#EBF0F8\"},\"line\":{\"color\":\"white\"}},\"header\":{\"fill\":{\"color\":\"#C8D4E3\"},\"line\":{\"color\":\"white\"}},\"type\":\"table\"}]},\"layout\":{\"annotationdefaults\":{\"arrowcolor\":\"#2a3f5f\",\"arrowhead\":0,\"arrowwidth\":1},\"autotypenumbers\":\"strict\",\"coloraxis\":{\"colorbar\":{\"outlinewidth\":0,\"ticks\":\"\"}},\"colorscale\":{\"diverging\":[[0,\"#8e0152\"],[0.1,\"#c51b7d\"],[0.2,\"#de77ae\"],[0.3,\"#f1b6da\"],[0.4,\"#fde0ef\"],[0.5,\"#f7f7f7\"],[0.6,\"#e6f5d0\"],[0.7,\"#b8e186\"],[0.8,\"#7fbc41\"],[0.9,\"#4d9221\"],[1,\"#276419\"]],\"sequential\":[[0.0,\"#0d0887\"],[0.1111111111111111,\"#46039f\"],[0.2222222222222222,\"#7201a8\"],[0.3333333333333333,\"#9c179e\"],[0.4444444444444444,\"#bd3786\"],[0.5555555555555556,\"#d8576b\"],[0.6666666666666666,\"#ed7953\"],[0.7777777777777778,\"#fb9f3a\"],[0.8888888888888888,\"#fdca26\"],[1.0,\"#f0f921\"]],\"sequentialminus\":[[0.0,\"#0d0887\"],[0.1111111111111111,\"#46039f\"],[0.2222222222222222,\"#7201a8\"],[0.3333333333333333,\"#9c179e\"],[0.4444444444444444,\"#bd3786\"],[0.5555555555555556,\"#d8576b\"],[0.6666666666666666,\"#ed7953\"],[0.7777777777777778,\"#fb9f3a\"],[0.8888888888888888,\"#fdca26\"],[1.0,\"#f0f921\"]]},\"colorway\":[\"#636efa\",\"#EF553B\",\"#00cc96\",\"#ab63fa\",\"#FFA15A\",\"#19d3f3\",\"#FF6692\",\"#B6E880\",\"#FF97FF\",\"#FECB52\"],\"font\":{\"color\":\"#2a3f5f\"},\"geo\":{\"bgcolor\":\"white\",\"lakecolor\":\"white\",\"landcolor\":\"white\",\"showlakes\":true,\"showland\":true,\"subunitcolor\":\"#C8D4E3\"},\"hoverlabel\":{\"align\":\"left\"},\"hovermode\":\"closest\",\"mapbox\":{\"style\":\"light\"},\"paper_bgcolor\":\"white\",\"plot_bgcolor\":\"white\",\"polar\":{\"angularaxis\":{\"gridcolor\":\"#EBF0F8\",\"linecolor\":\"#EBF0F8\",\"ticks\":\"\"},\"bgcolor\":\"white\",\"radialaxis\":{\"gridcolor\":\"#EBF0F8\",\"linecolor\":\"#EBF0F8\",\"ticks\":\"\"}},\"scene\":{\"xaxis\":{\"backgroundcolor\":\"white\",\"gridcolor\":\"#DFE8F3\",\"gridwidth\":2,\"linecolor\":\"#EBF0F8\",\"showbackground\":true,\"ticks\":\"\",\"zerolinecolor\":\"#EBF0F8\"},\"yaxis\":{\"backgroundcolor\":\"white\",\"gridcolor\":\"#DFE8F3\",\"gridwidth\":2,\"linecolor\":\"#EBF0F8\",\"showbackground\":true,\"ticks\":\"\",\"zerolinecolor\":\"#EBF0F8\"},\"zaxis\":{\"backgroundcolor\":\"white\",\"gridcolor\":\"#DFE8F3\",\"gridwidth\":2,\"linecolor\":\"#EBF0F8\",\"showbackground\":true,\"ticks\":\"\",\"zerolinecolor\":\"#EBF0F8\"}},\"shapedefaults\":{\"line\":{\"color\":\"#2a3f5f\"}},\"ternary\":{\"aaxis\":{\"gridcolor\":\"#DFE8F3\",\"linecolor\":\"#A2B1C6\",\"ticks\":\"\"},\"baxis\":{\"gridcolor\":\"#DFE8F3\",\"linecolor\":\"#A2B1C6\",\"ticks\":\"\"},\"bgcolor\":\"white\",\"caxis\":{\"gridcolor\":\"#DFE8F3\",\"linecolor\":\"#A2B1C6\",\"ticks\":\"\"}},\"title\":{\"x\":0.05},\"xaxis\":{\"automargin\":true,\"gridcolor\":\"#EBF0F8\",\"linecolor\":\"#EBF0F8\",\"ticks\":\"\",\"title\":{\"standoff\":15},\"zerolinecolor\":\"#EBF0F8\",\"zerolinewidth\":2},\"yaxis\":{\"automargin\":true,\"gridcolor\":\"#EBF0F8\",\"linecolor\":\"#EBF0F8\",\"ticks\":\"\",\"title\":{\"standoff\":15},\"zerolinecolor\":\"#EBF0F8\",\"zerolinewidth\":2}}},\"xaxis\":{\"anchor\":\"y\",\"domain\":[0.0,0.94]},\"yaxis\":{\"anchor\":\"x\",\"domain\":[0.0,1.0],\"title\":{\"font\":{\"size\":20},\"text\":\"Normalised SHD = SHD \\u002f Number of Edges in DAG\"},\"range\":[0,2]},\"yaxis2\":{\"anchor\":\"x\",\"overlaying\":\"y\",\"side\":\"right\",\"scaleanchor\":0,\"showline\":false,\"showgrid\":false,\"showticklabels\":true,\"zeroline\":true,\"title\":{\"font\":{\"size\":20},\"text\":\"Normalised SID = SID \\u002f Number of Edges in DAG\"},\"range\":[0,5.3]},\"legend\":{\"orientation\":\"h\",\"xanchor\":\"center\",\"x\":0.5,\"yanchor\":\"top\",\"y\":1.1},\"margin\":{\"l\":40,\"r\":40,\"b\":80,\"t\":20},\"font\":{\"size\":20,\"family\":\"Serif\",\"color\":\"black\"},\"barmode\":\"group\",\"bargap\":0.15,\"bargroupgap\":0.1,\"width\":1600,\"height\":700,\"hovermode\":\"x unified\",\"annotations\":[{\"font\":{\"color\":\"Black\",\"family\":\"Serif\",\"size\":20},\"showarrow\":false,\"text\":\"Dataset:\",\"x\":0,\"xanchor\":\"center\",\"xref\":\"paper\",\"y\":-0.08,\"yanchor\":\"bottom\",\"yref\":\"paper\"},{\"bgcolor\":\"#E5ECF6\",\"bordercolor\":\"#E5ECF6\",\"borderwidth\":2,\"font\":{\"color\":\"black\",\"size\":20},\"opacity\":0.8,\"showarrow\":false,\"text\":\"         NSHD         \",\"x\":0.017,\"xanchor\":\"left\",\"xref\":\"x domain\",\"y\":1.015,\"yref\":\"y domain\"},{\"bgcolor\":\"#E5ECF6\",\"bordercolor\":\"#E5ECF6\",\"borderwidth\":2,\"font\":{\"color\":\"black\",\"size\":20},\"opacity\":0.8,\"showarrow\":false,\"text\":\"         NSID         \",\"x\":0.137,\"xanchor\":\"left\",\"xref\":\"x domain\",\"y\":1.015,\"yref\":\"y domain\"},{\"bgcolor\":\"#E5ECF6\",\"bordercolor\":\"#E5ECF6\",\"borderwidth\":2,\"font\":{\"color\":\"black\",\"size\":20},\"opacity\":0.8,\"showarrow\":false,\"text\":\"         NSHD         \",\"x\":0.267,\"xanchor\":\"left\",\"xref\":\"x domain\",\"y\":1.015,\"yref\":\"y domain\"},{\"bgcolor\":\"#E5ECF6\",\"bordercolor\":\"#E5ECF6\",\"borderwidth\":2,\"font\":{\"color\":\"black\",\"size\":20},\"opacity\":0.8,\"showarrow\":false,\"text\":\"         NSID         \",\"x\":0.387,\"xanchor\":\"left\",\"xref\":\"x domain\",\"y\":1.015,\"yref\":\"y domain\"},{\"bgcolor\":\"#E5ECF6\",\"bordercolor\":\"#E5ECF6\",\"borderwidth\":2,\"font\":{\"color\":\"black\",\"size\":20},\"opacity\":0.8,\"showarrow\":false,\"text\":\"         NSHD         \",\"x\":0.517,\"xanchor\":\"left\",\"xref\":\"x domain\",\"y\":1.015,\"yref\":\"y domain\"},{\"bgcolor\":\"#E5ECF6\",\"bordercolor\":\"#E5ECF6\",\"borderwidth\":2,\"font\":{\"color\":\"black\",\"size\":20},\"opacity\":0.8,\"showarrow\":false,\"text\":\"         NSID         \",\"x\":0.637,\"xanchor\":\"left\",\"xref\":\"x domain\",\"y\":1.015,\"yref\":\"y domain\"},{\"bgcolor\":\"#E5ECF6\",\"bordercolor\":\"#E5ECF6\",\"borderwidth\":2,\"font\":{\"color\":\"black\",\"size\":20},\"opacity\":0.8,\"showarrow\":false,\"text\":\"         NSHD         \",\"x\":0.767,\"xanchor\":\"left\",\"xref\":\"x domain\",\"y\":1.015,\"yref\":\"y domain\"},{\"bgcolor\":\"#E5ECF6\",\"bordercolor\":\"#E5ECF6\",\"borderwidth\":2,\"font\":{\"color\":\"black\",\"size\":20},\"opacity\":0.8,\"showarrow\":false,\"text\":\"         NSID         \",\"x\":0.887,\"xanchor\":\"left\",\"xref\":\"x domain\",\"y\":1.015,\"yref\":\"y domain\"}]},                        {\"responsive\": true}                    ).then(function(){\n",
       "                            \n",
       "var gd = document.getElementById('0d3e6736-f758-405a-8bad-ffa7e8e8a73f');\n",
       "var x = new MutationObserver(function (mutations, observer) {{\n",
       "        var display = window.getComputedStyle(gd).display;\n",
       "        if (!display || display === 'none') {{\n",
       "            console.log([gd, 'removed!']);\n",
       "            Plotly.purge(gd);\n",
       "            observer.disconnect();\n",
       "        }}\n",
       "}});\n",
       "\n",
       "// Listen for the removal of the full notebook cells\n",
       "var notebookContainer = gd.closest('#notebook-container');\n",
       "if (notebookContainer) {{\n",
       "    x.observe(notebookContainer, {childList: true});\n",
       "}}\n",
       "\n",
       "// Listen for the clearing of the current output cell\n",
       "var outputEl = gd.closest('.output');\n",
       "if (outputEl) {{\n",
       "    x.observe(outputEl, {childList: true});\n",
       "}}\n",
       "\n",
       "                        })                };                });            </script>        </div>"
      ]
     },
     "metadata": {},
     "output_type": "display_data"
    },
    {
     "data": {
      "application/vnd.plotly.v1+json": {
       "config": {
        "plotlyServerURL": "https://plot.ly"
       },
       "data": [
        {
         "error_y": {
          "array": [
           0.18,
           0.18,
           0.12,
           0.08
          ],
          "type": "data",
          "visible": true
         },
         "marker": {
          "color": "grey"
         },
         "name": "Random",
         "offsetgroup": "0",
         "opacity": 0.6,
         "showlegend": true,
         "type": "bar",
         "x": [
          "CANCER<br> |V|=5, |E|=4, s=0.4",
          "EARTHQUAKE<br> |V|=5, |E|=4, s=0.4",
          "SURVEY<br> |V|=6, |E|=6, s=0.4",
          "ASIA<br> |V|=8, |E|=8, s=0.29"
         ],
         "y": [
          0.28,
          0.22,
          0.15,
          0.1
         ],
         "yaxis": "y"
        },
        {
         "error_y": {
          "array": [
           null,
           null,
           null,
           null
          ],
          "type": "data",
          "visible": true
         },
         "marker": {
          "color": "#379f9f"
         },
         "name": "FGS",
         "offsetgroup": "1",
         "opacity": 0.6,
         "showlegend": true,
         "type": "bar",
         "x": [
          "CANCER<br> |V|=5, |E|=4, s=0.4",
          "EARTHQUAKE<br> |V|=5, |E|=4, s=0.4",
          "SURVEY<br> |V|=6, |E|=6, s=0.4",
          "ASIA<br> |V|=8, |E|=8, s=0.29"
         ],
         "y": [
          0.33,
          0.5,
          0.5,
          0.29
         ],
         "yaxis": "y"
        },
        {
         "error_y": {
          "array": [
           0,
           0.26,
           0.45,
           0.19
          ],
          "type": "data",
          "visible": true
         },
         "marker": {
          "color": "#9454c4"
         },
         "name": "NOTEARS-MLP",
         "offsetgroup": "2",
         "opacity": 0.6,
         "showlegend": true,
         "type": "bar",
         "x": [
          "CANCER<br> |V|=5, |E|=4, s=0.4",
          "EARTHQUAKE<br> |V|=5, |E|=4, s=0.4",
          "SURVEY<br> |V|=6, |E|=6, s=0.4",
          "ASIA<br> |V|=8, |E|=8, s=0.29"
         ],
         "y": [
          0,
          0.67,
          0.8,
          0.38
         ],
         "yaxis": "y"
        },
        {
         "error_y": {
          "array": [
           null,
           null,
           null,
           null
          ],
          "type": "data",
          "visible": true
         },
         "marker": {
          "color": "#b85c00"
         },
         "name": "Shapley-PC",
         "offsetgroup": "3",
         "opacity": 0.6,
         "showlegend": true,
         "type": "bar",
         "x": [
          "CANCER<br> |V|=5, |E|=4, s=0.4",
          "EARTHQUAKE<br> |V|=5, |E|=4, s=0.4",
          "SURVEY<br> |V|=6, |E|=6, s=0.4",
          "ASIA<br> |V|=8, |E|=8, s=0.29"
         ],
         "y": [
          0.67,
          0.5,
          0.5,
          0.5
         ],
         "yaxis": "y"
        },
        {
         "error_y": {
          "array": [
           null,
           null,
           null,
           null
          ],
          "type": "data",
          "visible": true
         },
         "marker": {
          "color": "#0085CA"
         },
         "name": "ABAPC (Ours)",
         "offsetgroup": "4",
         "opacity": 0.6,
         "showlegend": true,
         "type": "bar",
         "x": [
          "CANCER<br> |V|=5, |E|=4, s=0.4",
          "EARTHQUAKE<br> |V|=5, |E|=4, s=0.4",
          "SURVEY<br> |V|=6, |E|=6, s=0.4",
          "ASIA<br> |V|=8, |E|=8, s=0.29"
         ],
         "y": [
          0.33,
          1,
          1,
          1
         ],
         "yaxis": "y"
        },
        {
         "marker": {
          "color": "white"
         },
         "name": "",
         "offsetgroup": "5",
         "opacity": 1,
         "showlegend": false,
         "type": "bar",
         "x": [
          "CANCER<br> |V|=5, |E|=4, s=0.4",
          "EARTHQUAKE<br> |V|=5, |E|=4, s=0.4",
          "SURVEY<br> |V|=6, |E|=6, s=0.4",
          "ASIA<br> |V|=8, |E|=8, s=0.29"
         ],
         "y": [
          0,
          0,
          0,
          0
         ]
        },
        {
         "error_y": {
          "array": [
           0.18,
           0.18,
           0.12,
           0.08
          ],
          "type": "data",
          "visible": true
         },
         "marker": {
          "color": "grey"
         },
         "name": "Random",
         "offsetgroup": "6",
         "opacity": 0.6,
         "showlegend": false,
         "type": "bar",
         "x": [
          "CANCER<br> |V|=5, |E|=4, s=0.4",
          "EARTHQUAKE<br> |V|=5, |E|=4, s=0.4",
          "SURVEY<br> |V|=6, |E|=6, s=0.4",
          "ASIA<br> |V|=8, |E|=8, s=0.29"
         ],
         "y": [
          0.28,
          0.22,
          0.15,
          0.1
         ],
         "yaxis": "y2"
        },
        {
         "error_y": {
          "array": [
           null,
           null,
           null,
           null
          ],
          "type": "data",
          "visible": true
         },
         "marker": {
          "color": "#379f9f"
         },
         "name": "FGS",
         "offsetgroup": "7",
         "opacity": 0.6,
         "showlegend": false,
         "type": "bar",
         "x": [
          "CANCER<br> |V|=5, |E|=4, s=0.4",
          "EARTHQUAKE<br> |V|=5, |E|=4, s=0.4",
          "SURVEY<br> |V|=6, |E|=6, s=0.4",
          "ASIA<br> |V|=8, |E|=8, s=0.29"
         ],
         "y": [
          0.25,
          0.5,
          0.17,
          0.25
         ],
         "yaxis": "y2"
        },
        {
         "error_y": {
          "array": [
           0,
           0.27,
           0.09,
           0.14
          ],
          "type": "data",
          "visible": true
         },
         "marker": {
          "color": "#9454c4"
         },
         "name": "NOTEARS-MLP",
         "offsetgroup": "8",
         "opacity": 0.6,
         "showlegend": false,
         "type": "bar",
         "x": [
          "CANCER<br> |V|=5, |E|=4, s=0.4",
          "EARTHQUAKE<br> |V|=5, |E|=4, s=0.4",
          "SURVEY<br> |V|=6, |E|=6, s=0.4",
          "ASIA<br> |V|=8, |E|=8, s=0.29"
         ],
         "y": [
          0,
          0.65,
          0.07,
          0.29
         ],
         "yaxis": "y2"
        },
        {
         "error_y": {
          "array": [
           null,
           null,
           null,
           null
          ],
          "type": "data",
          "visible": true
         },
         "marker": {
          "color": "#b85c00"
         },
         "name": "Shapley-PC",
         "offsetgroup": "9",
         "opacity": 0.6,
         "showlegend": false,
         "type": "bar",
         "x": [
          "CANCER<br> |V|=5, |E|=4, s=0.4",
          "EARTHQUAKE<br> |V|=5, |E|=4, s=0.4",
          "SURVEY<br> |V|=6, |E|=6, s=0.4",
          "ASIA<br> |V|=8, |E|=8, s=0.29"
         ],
         "y": [
          0.5,
          0.5,
          0.17,
          0.25
         ],
         "yaxis": "y2"
        },
        {
         "error_y": {
          "array": [
           null,
           null,
           null,
           null
          ],
          "type": "data",
          "visible": true
         },
         "marker": {
          "color": "#0085CA"
         },
         "name": "ABAPC (Ours)",
         "offsetgroup": "10",
         "opacity": 0.6,
         "showlegend": false,
         "type": "bar",
         "x": [
          "CANCER<br> |V|=5, |E|=4, s=0.4",
          "EARTHQUAKE<br> |V|=5, |E|=4, s=0.4",
          "SURVEY<br> |V|=6, |E|=6, s=0.4",
          "ASIA<br> |V|=8, |E|=8, s=0.29"
         ],
         "y": [
          0.25,
          1,
          0.33,
          0.75
         ],
         "yaxis": "y2"
        }
       ],
       "layout": {
        "annotations": [
         {
          "font": {
           "color": "Black",
           "family": "Serif",
           "size": 20
          },
          "showarrow": false,
          "text": "Dataset:",
          "x": 0,
          "xanchor": "center",
          "xref": "paper",
          "y": -0.08,
          "yanchor": "bottom",
          "yref": "paper"
         },
         {
          "bgcolor": "#E5ECF6",
          "bordercolor": "#E5ECF6",
          "borderwidth": 2,
          "font": {
           "color": "black",
           "size": 20
          },
          "opacity": 0.8,
          "showarrow": false,
          "text": "      Precision      ",
          "x": 0.017,
          "xanchor": "left",
          "xref": "x domain",
          "y": 1.015,
          "yref": "y domain"
         },
         {
          "bgcolor": "#E5ECF6",
          "bordercolor": "#E5ECF6",
          "borderwidth": 2,
          "font": {
           "color": "black",
           "size": 20
          },
          "opacity": 0.8,
          "showarrow": false,
          "text": "        Recall        ",
          "x": 0.132,
          "xanchor": "left",
          "xref": "x domain",
          "y": 1.015,
          "yref": "y domain"
         },
         {
          "bgcolor": "#E5ECF6",
          "bordercolor": "#E5ECF6",
          "borderwidth": 2,
          "font": {
           "color": "black",
           "size": 20
          },
          "opacity": 0.8,
          "showarrow": false,
          "text": "      Precision      ",
          "x": 0.267,
          "xanchor": "left",
          "xref": "x domain",
          "y": 1.015,
          "yref": "y domain"
         },
         {
          "bgcolor": "#E5ECF6",
          "bordercolor": "#E5ECF6",
          "borderwidth": 2,
          "font": {
           "color": "black",
           "size": 20
          },
          "opacity": 0.8,
          "showarrow": false,
          "text": "        Recall        ",
          "x": 0.382,
          "xanchor": "left",
          "xref": "x domain",
          "y": 1.015,
          "yref": "y domain"
         },
         {
          "bgcolor": "#E5ECF6",
          "bordercolor": "#E5ECF6",
          "borderwidth": 2,
          "font": {
           "color": "black",
           "size": 20
          },
          "opacity": 0.8,
          "showarrow": false,
          "text": "      Precision      ",
          "x": 0.517,
          "xanchor": "left",
          "xref": "x domain",
          "y": 1.015,
          "yref": "y domain"
         },
         {
          "bgcolor": "#E5ECF6",
          "bordercolor": "#E5ECF6",
          "borderwidth": 2,
          "font": {
           "color": "black",
           "size": 20
          },
          "opacity": 0.8,
          "showarrow": false,
          "text": "        Recall        ",
          "x": 0.632,
          "xanchor": "left",
          "xref": "x domain",
          "y": 1.015,
          "yref": "y domain"
         },
         {
          "bgcolor": "#E5ECF6",
          "bordercolor": "#E5ECF6",
          "borderwidth": 2,
          "font": {
           "color": "black",
           "size": 20
          },
          "opacity": 0.8,
          "showarrow": false,
          "text": "      Precision      ",
          "x": 0.767,
          "xanchor": "left",
          "xref": "x domain",
          "y": 1.015,
          "yref": "y domain"
         },
         {
          "bgcolor": "#E5ECF6",
          "bordercolor": "#E5ECF6",
          "borderwidth": 2,
          "font": {
           "color": "black",
           "size": 20
          },
          "opacity": 0.8,
          "showarrow": false,
          "text": "        Recall        ",
          "x": 0.882,
          "xanchor": "left",
          "xref": "x domain",
          "y": 1.015,
          "yref": "y domain"
         }
        ],
        "bargap": 0.15,
        "bargroupgap": 0.1,
        "barmode": "group",
        "font": {
         "color": "black",
         "family": "Serif",
         "size": 20
        },
        "height": 700,
        "hovermode": "x unified",
        "legend": {
         "orientation": "h",
         "x": 0.5,
         "xanchor": "center",
         "y": 1.1,
         "yanchor": "top"
        },
        "margin": {
         "b": 80,
         "l": 40,
         "r": 40,
         "t": 20
        },
        "template": {
         "data": {
          "bar": [
           {
            "error_x": {
             "color": "#2a3f5f"
            },
            "error_y": {
             "color": "#2a3f5f"
            },
            "marker": {
             "line": {
              "color": "white",
              "width": 0.5
             },
             "pattern": {
              "fillmode": "overlay",
              "size": 10,
              "solidity": 0.2
             }
            },
            "type": "bar"
           }
          ],
          "barpolar": [
           {
            "marker": {
             "line": {
              "color": "white",
              "width": 0.5
             },
             "pattern": {
              "fillmode": "overlay",
              "size": 10,
              "solidity": 0.2
             }
            },
            "type": "barpolar"
           }
          ],
          "carpet": [
           {
            "aaxis": {
             "endlinecolor": "#2a3f5f",
             "gridcolor": "#C8D4E3",
             "linecolor": "#C8D4E3",
             "minorgridcolor": "#C8D4E3",
             "startlinecolor": "#2a3f5f"
            },
            "baxis": {
             "endlinecolor": "#2a3f5f",
             "gridcolor": "#C8D4E3",
             "linecolor": "#C8D4E3",
             "minorgridcolor": "#C8D4E3",
             "startlinecolor": "#2a3f5f"
            },
            "type": "carpet"
           }
          ],
          "choropleth": [
           {
            "colorbar": {
             "outlinewidth": 0,
             "ticks": ""
            },
            "type": "choropleth"
           }
          ],
          "contour": [
           {
            "colorbar": {
             "outlinewidth": 0,
             "ticks": ""
            },
            "colorscale": [
             [
              0,
              "#0d0887"
             ],
             [
              0.1111111111111111,
              "#46039f"
             ],
             [
              0.2222222222222222,
              "#7201a8"
             ],
             [
              0.3333333333333333,
              "#9c179e"
             ],
             [
              0.4444444444444444,
              "#bd3786"
             ],
             [
              0.5555555555555556,
              "#d8576b"
             ],
             [
              0.6666666666666666,
              "#ed7953"
             ],
             [
              0.7777777777777778,
              "#fb9f3a"
             ],
             [
              0.8888888888888888,
              "#fdca26"
             ],
             [
              1,
              "#f0f921"
             ]
            ],
            "type": "contour"
           }
          ],
          "contourcarpet": [
           {
            "colorbar": {
             "outlinewidth": 0,
             "ticks": ""
            },
            "type": "contourcarpet"
           }
          ],
          "heatmap": [
           {
            "colorbar": {
             "outlinewidth": 0,
             "ticks": ""
            },
            "colorscale": [
             [
              0,
              "#0d0887"
             ],
             [
              0.1111111111111111,
              "#46039f"
             ],
             [
              0.2222222222222222,
              "#7201a8"
             ],
             [
              0.3333333333333333,
              "#9c179e"
             ],
             [
              0.4444444444444444,
              "#bd3786"
             ],
             [
              0.5555555555555556,
              "#d8576b"
             ],
             [
              0.6666666666666666,
              "#ed7953"
             ],
             [
              0.7777777777777778,
              "#fb9f3a"
             ],
             [
              0.8888888888888888,
              "#fdca26"
             ],
             [
              1,
              "#f0f921"
             ]
            ],
            "type": "heatmap"
           }
          ],
          "heatmapgl": [
           {
            "colorbar": {
             "outlinewidth": 0,
             "ticks": ""
            },
            "colorscale": [
             [
              0,
              "#0d0887"
             ],
             [
              0.1111111111111111,
              "#46039f"
             ],
             [
              0.2222222222222222,
              "#7201a8"
             ],
             [
              0.3333333333333333,
              "#9c179e"
             ],
             [
              0.4444444444444444,
              "#bd3786"
             ],
             [
              0.5555555555555556,
              "#d8576b"
             ],
             [
              0.6666666666666666,
              "#ed7953"
             ],
             [
              0.7777777777777778,
              "#fb9f3a"
             ],
             [
              0.8888888888888888,
              "#fdca26"
             ],
             [
              1,
              "#f0f921"
             ]
            ],
            "type": "heatmapgl"
           }
          ],
          "histogram": [
           {
            "marker": {
             "pattern": {
              "fillmode": "overlay",
              "size": 10,
              "solidity": 0.2
             }
            },
            "type": "histogram"
           }
          ],
          "histogram2d": [
           {
            "colorbar": {
             "outlinewidth": 0,
             "ticks": ""
            },
            "colorscale": [
             [
              0,
              "#0d0887"
             ],
             [
              0.1111111111111111,
              "#46039f"
             ],
             [
              0.2222222222222222,
              "#7201a8"
             ],
             [
              0.3333333333333333,
              "#9c179e"
             ],
             [
              0.4444444444444444,
              "#bd3786"
             ],
             [
              0.5555555555555556,
              "#d8576b"
             ],
             [
              0.6666666666666666,
              "#ed7953"
             ],
             [
              0.7777777777777778,
              "#fb9f3a"
             ],
             [
              0.8888888888888888,
              "#fdca26"
             ],
             [
              1,
              "#f0f921"
             ]
            ],
            "type": "histogram2d"
           }
          ],
          "histogram2dcontour": [
           {
            "colorbar": {
             "outlinewidth": 0,
             "ticks": ""
            },
            "colorscale": [
             [
              0,
              "#0d0887"
             ],
             [
              0.1111111111111111,
              "#46039f"
             ],
             [
              0.2222222222222222,
              "#7201a8"
             ],
             [
              0.3333333333333333,
              "#9c179e"
             ],
             [
              0.4444444444444444,
              "#bd3786"
             ],
             [
              0.5555555555555556,
              "#d8576b"
             ],
             [
              0.6666666666666666,
              "#ed7953"
             ],
             [
              0.7777777777777778,
              "#fb9f3a"
             ],
             [
              0.8888888888888888,
              "#fdca26"
             ],
             [
              1,
              "#f0f921"
             ]
            ],
            "type": "histogram2dcontour"
           }
          ],
          "mesh3d": [
           {
            "colorbar": {
             "outlinewidth": 0,
             "ticks": ""
            },
            "type": "mesh3d"
           }
          ],
          "parcoords": [
           {
            "line": {
             "colorbar": {
              "outlinewidth": 0,
              "ticks": ""
             }
            },
            "type": "parcoords"
           }
          ],
          "pie": [
           {
            "automargin": true,
            "type": "pie"
           }
          ],
          "scatter": [
           {
            "fillpattern": {
             "fillmode": "overlay",
             "size": 10,
             "solidity": 0.2
            },
            "type": "scatter"
           }
          ],
          "scatter3d": [
           {
            "line": {
             "colorbar": {
              "outlinewidth": 0,
              "ticks": ""
             }
            },
            "marker": {
             "colorbar": {
              "outlinewidth": 0,
              "ticks": ""
             }
            },
            "type": "scatter3d"
           }
          ],
          "scattercarpet": [
           {
            "marker": {
             "colorbar": {
              "outlinewidth": 0,
              "ticks": ""
             }
            },
            "type": "scattercarpet"
           }
          ],
          "scattergeo": [
           {
            "marker": {
             "colorbar": {
              "outlinewidth": 0,
              "ticks": ""
             }
            },
            "type": "scattergeo"
           }
          ],
          "scattergl": [
           {
            "marker": {
             "colorbar": {
              "outlinewidth": 0,
              "ticks": ""
             }
            },
            "type": "scattergl"
           }
          ],
          "scattermapbox": [
           {
            "marker": {
             "colorbar": {
              "outlinewidth": 0,
              "ticks": ""
             }
            },
            "type": "scattermapbox"
           }
          ],
          "scatterpolar": [
           {
            "marker": {
             "colorbar": {
              "outlinewidth": 0,
              "ticks": ""
             }
            },
            "type": "scatterpolar"
           }
          ],
          "scatterpolargl": [
           {
            "marker": {
             "colorbar": {
              "outlinewidth": 0,
              "ticks": ""
             }
            },
            "type": "scatterpolargl"
           }
          ],
          "scatterternary": [
           {
            "marker": {
             "colorbar": {
              "outlinewidth": 0,
              "ticks": ""
             }
            },
            "type": "scatterternary"
           }
          ],
          "surface": [
           {
            "colorbar": {
             "outlinewidth": 0,
             "ticks": ""
            },
            "colorscale": [
             [
              0,
              "#0d0887"
             ],
             [
              0.1111111111111111,
              "#46039f"
             ],
             [
              0.2222222222222222,
              "#7201a8"
             ],
             [
              0.3333333333333333,
              "#9c179e"
             ],
             [
              0.4444444444444444,
              "#bd3786"
             ],
             [
              0.5555555555555556,
              "#d8576b"
             ],
             [
              0.6666666666666666,
              "#ed7953"
             ],
             [
              0.7777777777777778,
              "#fb9f3a"
             ],
             [
              0.8888888888888888,
              "#fdca26"
             ],
             [
              1,
              "#f0f921"
             ]
            ],
            "type": "surface"
           }
          ],
          "table": [
           {
            "cells": {
             "fill": {
              "color": "#EBF0F8"
             },
             "line": {
              "color": "white"
             }
            },
            "header": {
             "fill": {
              "color": "#C8D4E3"
             },
             "line": {
              "color": "white"
             }
            },
            "type": "table"
           }
          ]
         },
         "layout": {
          "annotationdefaults": {
           "arrowcolor": "#2a3f5f",
           "arrowhead": 0,
           "arrowwidth": 1
          },
          "autotypenumbers": "strict",
          "coloraxis": {
           "colorbar": {
            "outlinewidth": 0,
            "ticks": ""
           }
          },
          "colorscale": {
           "diverging": [
            [
             0,
             "#8e0152"
            ],
            [
             0.1,
             "#c51b7d"
            ],
            [
             0.2,
             "#de77ae"
            ],
            [
             0.3,
             "#f1b6da"
            ],
            [
             0.4,
             "#fde0ef"
            ],
            [
             0.5,
             "#f7f7f7"
            ],
            [
             0.6,
             "#e6f5d0"
            ],
            [
             0.7,
             "#b8e186"
            ],
            [
             0.8,
             "#7fbc41"
            ],
            [
             0.9,
             "#4d9221"
            ],
            [
             1,
             "#276419"
            ]
           ],
           "sequential": [
            [
             0,
             "#0d0887"
            ],
            [
             0.1111111111111111,
             "#46039f"
            ],
            [
             0.2222222222222222,
             "#7201a8"
            ],
            [
             0.3333333333333333,
             "#9c179e"
            ],
            [
             0.4444444444444444,
             "#bd3786"
            ],
            [
             0.5555555555555556,
             "#d8576b"
            ],
            [
             0.6666666666666666,
             "#ed7953"
            ],
            [
             0.7777777777777778,
             "#fb9f3a"
            ],
            [
             0.8888888888888888,
             "#fdca26"
            ],
            [
             1,
             "#f0f921"
            ]
           ],
           "sequentialminus": [
            [
             0,
             "#0d0887"
            ],
            [
             0.1111111111111111,
             "#46039f"
            ],
            [
             0.2222222222222222,
             "#7201a8"
            ],
            [
             0.3333333333333333,
             "#9c179e"
            ],
            [
             0.4444444444444444,
             "#bd3786"
            ],
            [
             0.5555555555555556,
             "#d8576b"
            ],
            [
             0.6666666666666666,
             "#ed7953"
            ],
            [
             0.7777777777777778,
             "#fb9f3a"
            ],
            [
             0.8888888888888888,
             "#fdca26"
            ],
            [
             1,
             "#f0f921"
            ]
           ]
          },
          "colorway": [
           "#636efa",
           "#EF553B",
           "#00cc96",
           "#ab63fa",
           "#FFA15A",
           "#19d3f3",
           "#FF6692",
           "#B6E880",
           "#FF97FF",
           "#FECB52"
          ],
          "font": {
           "color": "#2a3f5f"
          },
          "geo": {
           "bgcolor": "white",
           "lakecolor": "white",
           "landcolor": "white",
           "showlakes": true,
           "showland": true,
           "subunitcolor": "#C8D4E3"
          },
          "hoverlabel": {
           "align": "left"
          },
          "hovermode": "closest",
          "mapbox": {
           "style": "light"
          },
          "paper_bgcolor": "white",
          "plot_bgcolor": "white",
          "polar": {
           "angularaxis": {
            "gridcolor": "#EBF0F8",
            "linecolor": "#EBF0F8",
            "ticks": ""
           },
           "bgcolor": "white",
           "radialaxis": {
            "gridcolor": "#EBF0F8",
            "linecolor": "#EBF0F8",
            "ticks": ""
           }
          },
          "scene": {
           "xaxis": {
            "backgroundcolor": "white",
            "gridcolor": "#DFE8F3",
            "gridwidth": 2,
            "linecolor": "#EBF0F8",
            "showbackground": true,
            "ticks": "",
            "zerolinecolor": "#EBF0F8"
           },
           "yaxis": {
            "backgroundcolor": "white",
            "gridcolor": "#DFE8F3",
            "gridwidth": 2,
            "linecolor": "#EBF0F8",
            "showbackground": true,
            "ticks": "",
            "zerolinecolor": "#EBF0F8"
           },
           "zaxis": {
            "backgroundcolor": "white",
            "gridcolor": "#DFE8F3",
            "gridwidth": 2,
            "linecolor": "#EBF0F8",
            "showbackground": true,
            "ticks": "",
            "zerolinecolor": "#EBF0F8"
           }
          },
          "shapedefaults": {
           "line": {
            "color": "#2a3f5f"
           }
          },
          "ternary": {
           "aaxis": {
            "gridcolor": "#DFE8F3",
            "linecolor": "#A2B1C6",
            "ticks": ""
           },
           "baxis": {
            "gridcolor": "#DFE8F3",
            "linecolor": "#A2B1C6",
            "ticks": ""
           },
           "bgcolor": "white",
           "caxis": {
            "gridcolor": "#DFE8F3",
            "linecolor": "#A2B1C6",
            "ticks": ""
           }
          },
          "title": {
           "x": 0.05
          },
          "xaxis": {
           "automargin": true,
           "gridcolor": "#EBF0F8",
           "linecolor": "#EBF0F8",
           "ticks": "",
           "title": {
            "standoff": 15
           },
           "zerolinecolor": "#EBF0F8",
           "zerolinewidth": 2
          },
          "yaxis": {
           "automargin": true,
           "gridcolor": "#EBF0F8",
           "linecolor": "#EBF0F8",
           "ticks": "",
           "title": {
            "standoff": 15
           },
           "zerolinecolor": "#EBF0F8",
           "zerolinewidth": 2
          }
         }
        },
        "width": 1600,
        "xaxis": {
         "anchor": "y",
         "domain": [
          0,
          0.94
         ]
        },
        "yaxis": {
         "anchor": "x",
         "domain": [
          0,
          1
         ],
         "range": [
          0,
          1.3
         ],
         "title": {
          "font": {
           "size": 20
          },
          "text": "Precision"
         }
        },
        "yaxis2": {
         "anchor": "x",
         "overlaying": "y",
         "range": [
          0,
          1.3
         ],
         "scaleanchor": 0,
         "showgrid": false,
         "showline": false,
         "showticklabels": true,
         "side": "right",
         "title": {
          "font": {
           "size": 20
          },
          "text": "Recall"
         },
         "zeroline": true
        }
       }
      },
      "text/html": [
       "<div>                            <div id=\"1a79c909-d8d8-48ad-b58f-d6126a55f1e3\" class=\"plotly-graph-div\" style=\"height:700px; width:1600px;\"></div>            <script type=\"text/javascript\">                require([\"plotly\"], function(Plotly) {                    window.PLOTLYENV=window.PLOTLYENV || {};                                    if (document.getElementById(\"1a79c909-d8d8-48ad-b58f-d6126a55f1e3\")) {                    Plotly.newPlot(                        \"1a79c909-d8d8-48ad-b58f-d6126a55f1e3\",                        [{\"error_y\":{\"array\":[0.18,0.18,0.12,0.08],\"type\":\"data\",\"visible\":true},\"marker\":{\"color\":\"grey\"},\"name\":\"Random\",\"offsetgroup\":\"0\",\"opacity\":0.6,\"showlegend\":true,\"x\":[\"CANCER\\u003cbr\\u003e |V|=5, |E|=4, s=0.4\",\"EARTHQUAKE\\u003cbr\\u003e |V|=5, |E|=4, s=0.4\",\"SURVEY\\u003cbr\\u003e |V|=6, |E|=6, s=0.4\",\"ASIA\\u003cbr\\u003e |V|=8, |E|=8, s=0.29\"],\"y\":[0.28,0.22,0.15,0.1],\"yaxis\":\"y\",\"type\":\"bar\"},{\"error_y\":{\"array\":[null,null,null,null],\"type\":\"data\",\"visible\":true},\"marker\":{\"color\":\"#379f9f\"},\"name\":\"FGS\",\"offsetgroup\":\"1\",\"opacity\":0.6,\"showlegend\":true,\"x\":[\"CANCER\\u003cbr\\u003e |V|=5, |E|=4, s=0.4\",\"EARTHQUAKE\\u003cbr\\u003e |V|=5, |E|=4, s=0.4\",\"SURVEY\\u003cbr\\u003e |V|=6, |E|=6, s=0.4\",\"ASIA\\u003cbr\\u003e |V|=8, |E|=8, s=0.29\"],\"y\":[0.33,0.5,0.5,0.29],\"yaxis\":\"y\",\"type\":\"bar\"},{\"error_y\":{\"array\":[0.0,0.26,0.45,0.19],\"type\":\"data\",\"visible\":true},\"marker\":{\"color\":\"#9454c4\"},\"name\":\"NOTEARS-MLP\",\"offsetgroup\":\"2\",\"opacity\":0.6,\"showlegend\":true,\"x\":[\"CANCER\\u003cbr\\u003e |V|=5, |E|=4, s=0.4\",\"EARTHQUAKE\\u003cbr\\u003e |V|=5, |E|=4, s=0.4\",\"SURVEY\\u003cbr\\u003e |V|=6, |E|=6, s=0.4\",\"ASIA\\u003cbr\\u003e |V|=8, |E|=8, s=0.29\"],\"y\":[0.0,0.67,0.8,0.38],\"yaxis\":\"y\",\"type\":\"bar\"},{\"error_y\":{\"array\":[null,null,null,null],\"type\":\"data\",\"visible\":true},\"marker\":{\"color\":\"#b85c00\"},\"name\":\"Shapley-PC\",\"offsetgroup\":\"3\",\"opacity\":0.6,\"showlegend\":true,\"x\":[\"CANCER\\u003cbr\\u003e |V|=5, |E|=4, s=0.4\",\"EARTHQUAKE\\u003cbr\\u003e |V|=5, |E|=4, s=0.4\",\"SURVEY\\u003cbr\\u003e |V|=6, |E|=6, s=0.4\",\"ASIA\\u003cbr\\u003e |V|=8, |E|=8, s=0.29\"],\"y\":[0.67,0.5,0.5,0.5],\"yaxis\":\"y\",\"type\":\"bar\"},{\"error_y\":{\"array\":[null,null,null,null],\"type\":\"data\",\"visible\":true},\"marker\":{\"color\":\"#0085CA\"},\"name\":\"ABAPC (Ours)\",\"offsetgroup\":\"4\",\"opacity\":0.6,\"showlegend\":true,\"x\":[\"CANCER\\u003cbr\\u003e |V|=5, |E|=4, s=0.4\",\"EARTHQUAKE\\u003cbr\\u003e |V|=5, |E|=4, s=0.4\",\"SURVEY\\u003cbr\\u003e |V|=6, |E|=6, s=0.4\",\"ASIA\\u003cbr\\u003e |V|=8, |E|=8, s=0.29\"],\"y\":[0.33,1.0,1.0,1.0],\"yaxis\":\"y\",\"type\":\"bar\"},{\"marker\":{\"color\":\"white\"},\"name\":\"\",\"offsetgroup\":\"5\",\"opacity\":1,\"showlegend\":false,\"x\":[\"CANCER\\u003cbr\\u003e |V|=5, |E|=4, s=0.4\",\"EARTHQUAKE\\u003cbr\\u003e |V|=5, |E|=4, s=0.4\",\"SURVEY\\u003cbr\\u003e |V|=6, |E|=6, s=0.4\",\"ASIA\\u003cbr\\u003e |V|=8, |E|=8, s=0.29\"],\"y\":[0.0,0.0,0.0,0.0],\"type\":\"bar\"},{\"error_y\":{\"array\":[0.18,0.18,0.12,0.08],\"type\":\"data\",\"visible\":true},\"marker\":{\"color\":\"grey\"},\"name\":\"Random\",\"offsetgroup\":\"6\",\"opacity\":0.6,\"showlegend\":false,\"x\":[\"CANCER\\u003cbr\\u003e |V|=5, |E|=4, s=0.4\",\"EARTHQUAKE\\u003cbr\\u003e |V|=5, |E|=4, s=0.4\",\"SURVEY\\u003cbr\\u003e |V|=6, |E|=6, s=0.4\",\"ASIA\\u003cbr\\u003e |V|=8, |E|=8, s=0.29\"],\"y\":[0.28,0.22,0.15,0.1],\"yaxis\":\"y2\",\"type\":\"bar\"},{\"error_y\":{\"array\":[null,null,null,null],\"type\":\"data\",\"visible\":true},\"marker\":{\"color\":\"#379f9f\"},\"name\":\"FGS\",\"offsetgroup\":\"7\",\"opacity\":0.6,\"showlegend\":false,\"x\":[\"CANCER\\u003cbr\\u003e |V|=5, |E|=4, s=0.4\",\"EARTHQUAKE\\u003cbr\\u003e |V|=5, |E|=4, s=0.4\",\"SURVEY\\u003cbr\\u003e |V|=6, |E|=6, s=0.4\",\"ASIA\\u003cbr\\u003e |V|=8, |E|=8, s=0.29\"],\"y\":[0.25,0.5,0.17,0.25],\"yaxis\":\"y2\",\"type\":\"bar\"},{\"error_y\":{\"array\":[0.0,0.27,0.09,0.14],\"type\":\"data\",\"visible\":true},\"marker\":{\"color\":\"#9454c4\"},\"name\":\"NOTEARS-MLP\",\"offsetgroup\":\"8\",\"opacity\":0.6,\"showlegend\":false,\"x\":[\"CANCER\\u003cbr\\u003e |V|=5, |E|=4, s=0.4\",\"EARTHQUAKE\\u003cbr\\u003e |V|=5, |E|=4, s=0.4\",\"SURVEY\\u003cbr\\u003e |V|=6, |E|=6, s=0.4\",\"ASIA\\u003cbr\\u003e |V|=8, |E|=8, s=0.29\"],\"y\":[0.0,0.65,0.07,0.29],\"yaxis\":\"y2\",\"type\":\"bar\"},{\"error_y\":{\"array\":[null,null,null,null],\"type\":\"data\",\"visible\":true},\"marker\":{\"color\":\"#b85c00\"},\"name\":\"Shapley-PC\",\"offsetgroup\":\"9\",\"opacity\":0.6,\"showlegend\":false,\"x\":[\"CANCER\\u003cbr\\u003e |V|=5, |E|=4, s=0.4\",\"EARTHQUAKE\\u003cbr\\u003e |V|=5, |E|=4, s=0.4\",\"SURVEY\\u003cbr\\u003e |V|=6, |E|=6, s=0.4\",\"ASIA\\u003cbr\\u003e |V|=8, |E|=8, s=0.29\"],\"y\":[0.5,0.5,0.17,0.25],\"yaxis\":\"y2\",\"type\":\"bar\"},{\"error_y\":{\"array\":[null,null,null,null],\"type\":\"data\",\"visible\":true},\"marker\":{\"color\":\"#0085CA\"},\"name\":\"ABAPC (Ours)\",\"offsetgroup\":\"10\",\"opacity\":0.6,\"showlegend\":false,\"x\":[\"CANCER\\u003cbr\\u003e |V|=5, |E|=4, s=0.4\",\"EARTHQUAKE\\u003cbr\\u003e |V|=5, |E|=4, s=0.4\",\"SURVEY\\u003cbr\\u003e |V|=6, |E|=6, s=0.4\",\"ASIA\\u003cbr\\u003e |V|=8, |E|=8, s=0.29\"],\"y\":[0.25,1.0,0.33,0.75],\"yaxis\":\"y2\",\"type\":\"bar\"}],                        {\"template\":{\"data\":{\"barpolar\":[{\"marker\":{\"line\":{\"color\":\"white\",\"width\":0.5},\"pattern\":{\"fillmode\":\"overlay\",\"size\":10,\"solidity\":0.2}},\"type\":\"barpolar\"}],\"bar\":[{\"error_x\":{\"color\":\"#2a3f5f\"},\"error_y\":{\"color\":\"#2a3f5f\"},\"marker\":{\"line\":{\"color\":\"white\",\"width\":0.5},\"pattern\":{\"fillmode\":\"overlay\",\"size\":10,\"solidity\":0.2}},\"type\":\"bar\"}],\"carpet\":[{\"aaxis\":{\"endlinecolor\":\"#2a3f5f\",\"gridcolor\":\"#C8D4E3\",\"linecolor\":\"#C8D4E3\",\"minorgridcolor\":\"#C8D4E3\",\"startlinecolor\":\"#2a3f5f\"},\"baxis\":{\"endlinecolor\":\"#2a3f5f\",\"gridcolor\":\"#C8D4E3\",\"linecolor\":\"#C8D4E3\",\"minorgridcolor\":\"#C8D4E3\",\"startlinecolor\":\"#2a3f5f\"},\"type\":\"carpet\"}],\"choropleth\":[{\"colorbar\":{\"outlinewidth\":0,\"ticks\":\"\"},\"type\":\"choropleth\"}],\"contourcarpet\":[{\"colorbar\":{\"outlinewidth\":0,\"ticks\":\"\"},\"type\":\"contourcarpet\"}],\"contour\":[{\"colorbar\":{\"outlinewidth\":0,\"ticks\":\"\"},\"colorscale\":[[0.0,\"#0d0887\"],[0.1111111111111111,\"#46039f\"],[0.2222222222222222,\"#7201a8\"],[0.3333333333333333,\"#9c179e\"],[0.4444444444444444,\"#bd3786\"],[0.5555555555555556,\"#d8576b\"],[0.6666666666666666,\"#ed7953\"],[0.7777777777777778,\"#fb9f3a\"],[0.8888888888888888,\"#fdca26\"],[1.0,\"#f0f921\"]],\"type\":\"contour\"}],\"heatmapgl\":[{\"colorbar\":{\"outlinewidth\":0,\"ticks\":\"\"},\"colorscale\":[[0.0,\"#0d0887\"],[0.1111111111111111,\"#46039f\"],[0.2222222222222222,\"#7201a8\"],[0.3333333333333333,\"#9c179e\"],[0.4444444444444444,\"#bd3786\"],[0.5555555555555556,\"#d8576b\"],[0.6666666666666666,\"#ed7953\"],[0.7777777777777778,\"#fb9f3a\"],[0.8888888888888888,\"#fdca26\"],[1.0,\"#f0f921\"]],\"type\":\"heatmapgl\"}],\"heatmap\":[{\"colorbar\":{\"outlinewidth\":0,\"ticks\":\"\"},\"colorscale\":[[0.0,\"#0d0887\"],[0.1111111111111111,\"#46039f\"],[0.2222222222222222,\"#7201a8\"],[0.3333333333333333,\"#9c179e\"],[0.4444444444444444,\"#bd3786\"],[0.5555555555555556,\"#d8576b\"],[0.6666666666666666,\"#ed7953\"],[0.7777777777777778,\"#fb9f3a\"],[0.8888888888888888,\"#fdca26\"],[1.0,\"#f0f921\"]],\"type\":\"heatmap\"}],\"histogram2dcontour\":[{\"colorbar\":{\"outlinewidth\":0,\"ticks\":\"\"},\"colorscale\":[[0.0,\"#0d0887\"],[0.1111111111111111,\"#46039f\"],[0.2222222222222222,\"#7201a8\"],[0.3333333333333333,\"#9c179e\"],[0.4444444444444444,\"#bd3786\"],[0.5555555555555556,\"#d8576b\"],[0.6666666666666666,\"#ed7953\"],[0.7777777777777778,\"#fb9f3a\"],[0.8888888888888888,\"#fdca26\"],[1.0,\"#f0f921\"]],\"type\":\"histogram2dcontour\"}],\"histogram2d\":[{\"colorbar\":{\"outlinewidth\":0,\"ticks\":\"\"},\"colorscale\":[[0.0,\"#0d0887\"],[0.1111111111111111,\"#46039f\"],[0.2222222222222222,\"#7201a8\"],[0.3333333333333333,\"#9c179e\"],[0.4444444444444444,\"#bd3786\"],[0.5555555555555556,\"#d8576b\"],[0.6666666666666666,\"#ed7953\"],[0.7777777777777778,\"#fb9f3a\"],[0.8888888888888888,\"#fdca26\"],[1.0,\"#f0f921\"]],\"type\":\"histogram2d\"}],\"histogram\":[{\"marker\":{\"pattern\":{\"fillmode\":\"overlay\",\"size\":10,\"solidity\":0.2}},\"type\":\"histogram\"}],\"mesh3d\":[{\"colorbar\":{\"outlinewidth\":0,\"ticks\":\"\"},\"type\":\"mesh3d\"}],\"parcoords\":[{\"line\":{\"colorbar\":{\"outlinewidth\":0,\"ticks\":\"\"}},\"type\":\"parcoords\"}],\"pie\":[{\"automargin\":true,\"type\":\"pie\"}],\"scatter3d\":[{\"line\":{\"colorbar\":{\"outlinewidth\":0,\"ticks\":\"\"}},\"marker\":{\"colorbar\":{\"outlinewidth\":0,\"ticks\":\"\"}},\"type\":\"scatter3d\"}],\"scattercarpet\":[{\"marker\":{\"colorbar\":{\"outlinewidth\":0,\"ticks\":\"\"}},\"type\":\"scattercarpet\"}],\"scattergeo\":[{\"marker\":{\"colorbar\":{\"outlinewidth\":0,\"ticks\":\"\"}},\"type\":\"scattergeo\"}],\"scattergl\":[{\"marker\":{\"colorbar\":{\"outlinewidth\":0,\"ticks\":\"\"}},\"type\":\"scattergl\"}],\"scattermapbox\":[{\"marker\":{\"colorbar\":{\"outlinewidth\":0,\"ticks\":\"\"}},\"type\":\"scattermapbox\"}],\"scatterpolargl\":[{\"marker\":{\"colorbar\":{\"outlinewidth\":0,\"ticks\":\"\"}},\"type\":\"scatterpolargl\"}],\"scatterpolar\":[{\"marker\":{\"colorbar\":{\"outlinewidth\":0,\"ticks\":\"\"}},\"type\":\"scatterpolar\"}],\"scatter\":[{\"fillpattern\":{\"fillmode\":\"overlay\",\"size\":10,\"solidity\":0.2},\"type\":\"scatter\"}],\"scatterternary\":[{\"marker\":{\"colorbar\":{\"outlinewidth\":0,\"ticks\":\"\"}},\"type\":\"scatterternary\"}],\"surface\":[{\"colorbar\":{\"outlinewidth\":0,\"ticks\":\"\"},\"colorscale\":[[0.0,\"#0d0887\"],[0.1111111111111111,\"#46039f\"],[0.2222222222222222,\"#7201a8\"],[0.3333333333333333,\"#9c179e\"],[0.4444444444444444,\"#bd3786\"],[0.5555555555555556,\"#d8576b\"],[0.6666666666666666,\"#ed7953\"],[0.7777777777777778,\"#fb9f3a\"],[0.8888888888888888,\"#fdca26\"],[1.0,\"#f0f921\"]],\"type\":\"surface\"}],\"table\":[{\"cells\":{\"fill\":{\"color\":\"#EBF0F8\"},\"line\":{\"color\":\"white\"}},\"header\":{\"fill\":{\"color\":\"#C8D4E3\"},\"line\":{\"color\":\"white\"}},\"type\":\"table\"}]},\"layout\":{\"annotationdefaults\":{\"arrowcolor\":\"#2a3f5f\",\"arrowhead\":0,\"arrowwidth\":1},\"autotypenumbers\":\"strict\",\"coloraxis\":{\"colorbar\":{\"outlinewidth\":0,\"ticks\":\"\"}},\"colorscale\":{\"diverging\":[[0,\"#8e0152\"],[0.1,\"#c51b7d\"],[0.2,\"#de77ae\"],[0.3,\"#f1b6da\"],[0.4,\"#fde0ef\"],[0.5,\"#f7f7f7\"],[0.6,\"#e6f5d0\"],[0.7,\"#b8e186\"],[0.8,\"#7fbc41\"],[0.9,\"#4d9221\"],[1,\"#276419\"]],\"sequential\":[[0.0,\"#0d0887\"],[0.1111111111111111,\"#46039f\"],[0.2222222222222222,\"#7201a8\"],[0.3333333333333333,\"#9c179e\"],[0.4444444444444444,\"#bd3786\"],[0.5555555555555556,\"#d8576b\"],[0.6666666666666666,\"#ed7953\"],[0.7777777777777778,\"#fb9f3a\"],[0.8888888888888888,\"#fdca26\"],[1.0,\"#f0f921\"]],\"sequentialminus\":[[0.0,\"#0d0887\"],[0.1111111111111111,\"#46039f\"],[0.2222222222222222,\"#7201a8\"],[0.3333333333333333,\"#9c179e\"],[0.4444444444444444,\"#bd3786\"],[0.5555555555555556,\"#d8576b\"],[0.6666666666666666,\"#ed7953\"],[0.7777777777777778,\"#fb9f3a\"],[0.8888888888888888,\"#fdca26\"],[1.0,\"#f0f921\"]]},\"colorway\":[\"#636efa\",\"#EF553B\",\"#00cc96\",\"#ab63fa\",\"#FFA15A\",\"#19d3f3\",\"#FF6692\",\"#B6E880\",\"#FF97FF\",\"#FECB52\"],\"font\":{\"color\":\"#2a3f5f\"},\"geo\":{\"bgcolor\":\"white\",\"lakecolor\":\"white\",\"landcolor\":\"white\",\"showlakes\":true,\"showland\":true,\"subunitcolor\":\"#C8D4E3\"},\"hoverlabel\":{\"align\":\"left\"},\"hovermode\":\"closest\",\"mapbox\":{\"style\":\"light\"},\"paper_bgcolor\":\"white\",\"plot_bgcolor\":\"white\",\"polar\":{\"angularaxis\":{\"gridcolor\":\"#EBF0F8\",\"linecolor\":\"#EBF0F8\",\"ticks\":\"\"},\"bgcolor\":\"white\",\"radialaxis\":{\"gridcolor\":\"#EBF0F8\",\"linecolor\":\"#EBF0F8\",\"ticks\":\"\"}},\"scene\":{\"xaxis\":{\"backgroundcolor\":\"white\",\"gridcolor\":\"#DFE8F3\",\"gridwidth\":2,\"linecolor\":\"#EBF0F8\",\"showbackground\":true,\"ticks\":\"\",\"zerolinecolor\":\"#EBF0F8\"},\"yaxis\":{\"backgroundcolor\":\"white\",\"gridcolor\":\"#DFE8F3\",\"gridwidth\":2,\"linecolor\":\"#EBF0F8\",\"showbackground\":true,\"ticks\":\"\",\"zerolinecolor\":\"#EBF0F8\"},\"zaxis\":{\"backgroundcolor\":\"white\",\"gridcolor\":\"#DFE8F3\",\"gridwidth\":2,\"linecolor\":\"#EBF0F8\",\"showbackground\":true,\"ticks\":\"\",\"zerolinecolor\":\"#EBF0F8\"}},\"shapedefaults\":{\"line\":{\"color\":\"#2a3f5f\"}},\"ternary\":{\"aaxis\":{\"gridcolor\":\"#DFE8F3\",\"linecolor\":\"#A2B1C6\",\"ticks\":\"\"},\"baxis\":{\"gridcolor\":\"#DFE8F3\",\"linecolor\":\"#A2B1C6\",\"ticks\":\"\"},\"bgcolor\":\"white\",\"caxis\":{\"gridcolor\":\"#DFE8F3\",\"linecolor\":\"#A2B1C6\",\"ticks\":\"\"}},\"title\":{\"x\":0.05},\"xaxis\":{\"automargin\":true,\"gridcolor\":\"#EBF0F8\",\"linecolor\":\"#EBF0F8\",\"ticks\":\"\",\"title\":{\"standoff\":15},\"zerolinecolor\":\"#EBF0F8\",\"zerolinewidth\":2},\"yaxis\":{\"automargin\":true,\"gridcolor\":\"#EBF0F8\",\"linecolor\":\"#EBF0F8\",\"ticks\":\"\",\"title\":{\"standoff\":15},\"zerolinecolor\":\"#EBF0F8\",\"zerolinewidth\":2}}},\"xaxis\":{\"anchor\":\"y\",\"domain\":[0.0,0.94]},\"yaxis\":{\"anchor\":\"x\",\"domain\":[0.0,1.0],\"title\":{\"font\":{\"size\":20},\"text\":\"Precision\"},\"range\":[0,1.3]},\"yaxis2\":{\"anchor\":\"x\",\"overlaying\":\"y\",\"side\":\"right\",\"scaleanchor\":0,\"showline\":false,\"showgrid\":false,\"showticklabels\":true,\"zeroline\":true,\"title\":{\"font\":{\"size\":20},\"text\":\"Recall\"},\"range\":[0,1.3]},\"legend\":{\"orientation\":\"h\",\"xanchor\":\"center\",\"x\":0.5,\"yanchor\":\"top\",\"y\":1.1},\"margin\":{\"l\":40,\"r\":40,\"b\":80,\"t\":20},\"font\":{\"size\":20,\"family\":\"Serif\",\"color\":\"black\"},\"barmode\":\"group\",\"bargap\":0.15,\"bargroupgap\":0.1,\"width\":1600,\"height\":700,\"hovermode\":\"x unified\",\"annotations\":[{\"font\":{\"color\":\"Black\",\"family\":\"Serif\",\"size\":20},\"showarrow\":false,\"text\":\"Dataset:\",\"x\":0,\"xanchor\":\"center\",\"xref\":\"paper\",\"y\":-0.08,\"yanchor\":\"bottom\",\"yref\":\"paper\"},{\"bgcolor\":\"#E5ECF6\",\"bordercolor\":\"#E5ECF6\",\"borderwidth\":2,\"font\":{\"color\":\"black\",\"size\":20},\"opacity\":0.8,\"showarrow\":false,\"text\":\"      Precision      \",\"x\":0.017,\"xanchor\":\"left\",\"xref\":\"x domain\",\"y\":1.015,\"yref\":\"y domain\"},{\"bgcolor\":\"#E5ECF6\",\"bordercolor\":\"#E5ECF6\",\"borderwidth\":2,\"font\":{\"color\":\"black\",\"size\":20},\"opacity\":0.8,\"showarrow\":false,\"text\":\"        Recall        \",\"x\":0.132,\"xanchor\":\"left\",\"xref\":\"x domain\",\"y\":1.015,\"yref\":\"y domain\"},{\"bgcolor\":\"#E5ECF6\",\"bordercolor\":\"#E5ECF6\",\"borderwidth\":2,\"font\":{\"color\":\"black\",\"size\":20},\"opacity\":0.8,\"showarrow\":false,\"text\":\"      Precision      \",\"x\":0.267,\"xanchor\":\"left\",\"xref\":\"x domain\",\"y\":1.015,\"yref\":\"y domain\"},{\"bgcolor\":\"#E5ECF6\",\"bordercolor\":\"#E5ECF6\",\"borderwidth\":2,\"font\":{\"color\":\"black\",\"size\":20},\"opacity\":0.8,\"showarrow\":false,\"text\":\"        Recall        \",\"x\":0.382,\"xanchor\":\"left\",\"xref\":\"x domain\",\"y\":1.015,\"yref\":\"y domain\"},{\"bgcolor\":\"#E5ECF6\",\"bordercolor\":\"#E5ECF6\",\"borderwidth\":2,\"font\":{\"color\":\"black\",\"size\":20},\"opacity\":0.8,\"showarrow\":false,\"text\":\"      Precision      \",\"x\":0.517,\"xanchor\":\"left\",\"xref\":\"x domain\",\"y\":1.015,\"yref\":\"y domain\"},{\"bgcolor\":\"#E5ECF6\",\"bordercolor\":\"#E5ECF6\",\"borderwidth\":2,\"font\":{\"color\":\"black\",\"size\":20},\"opacity\":0.8,\"showarrow\":false,\"text\":\"        Recall        \",\"x\":0.632,\"xanchor\":\"left\",\"xref\":\"x domain\",\"y\":1.015,\"yref\":\"y domain\"},{\"bgcolor\":\"#E5ECF6\",\"bordercolor\":\"#E5ECF6\",\"borderwidth\":2,\"font\":{\"color\":\"black\",\"size\":20},\"opacity\":0.8,\"showarrow\":false,\"text\":\"      Precision      \",\"x\":0.767,\"xanchor\":\"left\",\"xref\":\"x domain\",\"y\":1.015,\"yref\":\"y domain\"},{\"bgcolor\":\"#E5ECF6\",\"bordercolor\":\"#E5ECF6\",\"borderwidth\":2,\"font\":{\"color\":\"black\",\"size\":20},\"opacity\":0.8,\"showarrow\":false,\"text\":\"        Recall        \",\"x\":0.882,\"xanchor\":\"left\",\"xref\":\"x domain\",\"y\":1.015,\"yref\":\"y domain\"}]},                        {\"responsive\": true}                    ).then(function(){\n",
       "                            \n",
       "var gd = document.getElementById('1a79c909-d8d8-48ad-b58f-d6126a55f1e3');\n",
       "var x = new MutationObserver(function (mutations, observer) {{\n",
       "        var display = window.getComputedStyle(gd).display;\n",
       "        if (!display || display === 'none') {{\n",
       "            console.log([gd, 'removed!']);\n",
       "            Plotly.purge(gd);\n",
       "            observer.disconnect();\n",
       "        }}\n",
       "}});\n",
       "\n",
       "// Listen for the removal of the full notebook cells\n",
       "var notebookContainer = gd.closest('#notebook-container');\n",
       "if (notebookContainer) {{\n",
       "    x.observe(notebookContainer, {childList: true});\n",
       "}}\n",
       "\n",
       "// Listen for the clearing of the current output cell\n",
       "var outputEl = gd.closest('.output');\n",
       "if (outputEl) {{\n",
       "    x.observe(outputEl, {childList: true});\n",
       "}}\n",
       "\n",
       "                        })                };                });            </script>        </div>"
      ]
     },
     "metadata": {},
     "output_type": "display_data"
    }
   ],
   "source": [
    "version = 'bnlearn_minusI'\n",
    "datasets = ['cancer', 'earthquake', 'survey', 'asia'#, 'sachs', 'alarm', 'child', 'insurance', 'hailfinder', 'hepar2'\n",
    "]\n",
    "all_sum = pd.DataFrame(np.load(f\"../results/stored_results_realdata_spc.npy\", allow_pickle=True), \n",
    "                       columns=['dataset', 'model', 'fdr_mean', 'fdr_std', 'tpr_mean', 'tpr_std',\n",
    "                                'fpr_mean', 'fpr_std', 'shd_mean', 'shd_std', 'nnz_mean', 'nnz_std',\n",
    "                                'precision_mean', 'precision_std', 'recall_mean', 'recall_std',\n",
    "                                'F1_mean', 'F1_std', 'gscore_mean', 'gscore_std', 'SID_mean', 'SID_std'\n",
    "                                ])\n",
    "## drop unecessary columns\n",
    "all_sum = all_sum.drop(columns=['gscore_mean', 'gscore_std'])\n",
    "all_sum = all_sum[all_sum['dataset'].isin(datasets)]\n",
    "\n",
    "## rename SPC\n",
    "all_sum.loc[all_sum['model'] == \"SPC (Ours)\", ['model']] = 'Shapley-PC'\n",
    "\n",
    "for d_name in datasets:\n",
    "    d_sum = pd.DataFrame(np.load(f\"../results/stored_results_{d_name}_{version}.npy\", allow_pickle=True), \n",
    "                        columns=['dataset', 'model', 'nnz_mean', 'nnz_std','fdr_mean', 'fdr_std', 'tpr_mean', 'tpr_std', 'fpr_mean', 'fpr_std',  \n",
    "                                    'precision_mean', 'precision_std', 'recall_mean', 'recall_std', 'F1_mean', 'F1_std', \n",
    "                                    'shd_mean', 'shd_std','SID_mean', 'SID_std'\n",
    "                                    ])\n",
    "    d_sum = d_sum[d_sum['model']!='Random'] ##exclude Random as it is in the base dataset\n",
    "    d_sum['dataset'] = np.repeat(d_name,len(d_sum))\n",
    "    all_sum = pd.concat([all_sum,d_sum], ignore_index=True)\n",
    "\n",
    "dags_nodes_map = {'asia':8, 'cancer':5, 'earthquake':5, 'sachs':11, 'survey':6, 'alarm':37, 'child':20, 'insurance':27, 'hailfinder':56, 'hepar2':70}\n",
    "dags_arcs_map = {'asia':8, 'cancer':4, 'earthquake':4, 'sachs':17, 'survey':6, 'alarm':46, 'child':25, 'insurance':52, 'hailfinder':66, 'hepar2':123}\n",
    "all_sum['n_edges'] = all_sum['dataset'].map(dags_arcs_map)\n",
    "all_sum['n_nodes'] = all_sum['dataset'].map(dags_nodes_map)\n",
    "all_sum['sparsity'] = round(all_sum['n_edges']/(all_sum['n_nodes']*(all_sum['n_nodes']-1)/2),2)\n",
    "all_sum = all_sum[all_sum['model']!='CAM'] ##exclude CAM as it returned all nan\n",
    "for var in ['shd','SID']:\n",
    "    all_sum['p_'+var+'_mean'] = all_sum[var+'_mean'].astype(float)/all_sum['n_edges'].astype(int)\n",
    "    all_sum['p_'+var+'_std'] = all_sum[var+'_std'].astype(float)/all_sum['n_edges'].astype(int)\n",
    "all_sum['dataset'] = [a.upper() for a in all_sum[\"dataset\"].astype(str)]\n",
    "all_sum['dataset'] = all_sum['dataset'] +np.repeat(\"<br> |V|=\",len(all_sum))+ all_sum[\"n_nodes\"].astype(str)+np.repeat(\", |E|=\",len(all_sum))+\\\n",
    "                     all_sum[\"n_edges\"].astype(str)+np.repeat(\", s=\",len(all_sum))+ all_sum[\"sparsity\"].astype(str)\n",
    "# all_sum['dataset'] = \"$\\\\text{\"+all_sum['dataset'] +np.repeat(\" }\\\\\\\\ |V|=\",len(all_sum))+ all_sum[\"n_nodes\"].astype(str)+np.repeat(\", |E|=\",len(all_sum))+\\\n",
    "#                      all_sum[\"n_edges\"].astype(str)+np.repeat(\", \\zeta=\",len(all_sum))+ all_sum[\"sparsity\"].astype(str)+\"$\"\n",
    "double_bar_chart_plotly(all_sum, ['p_shd','p_SID'], names_dict, colors_dict, save_figs=save_figs, output_name=\"../results/figs/Fig.1_SID_realdata.html\", debug=False)#\n",
    "double_bar_chart_plotly(all_sum, ['precision','recall'], names_dict, colors_dict, save_figs=save_figs, output_name=\"../results/figs/Fig.2_SHD_realdata.html\", debug=False)#\n"
   ]
  },
  {
   "cell_type": "markdown",
   "metadata": {},
   "source": [
    "### With No Standardisation"
   ]
  },
  {
   "cell_type": "code",
   "execution_count": 11,
   "metadata": {},
   "outputs": [
    {
     "data": {
      "application/vnd.plotly.v1+json": {
       "config": {
        "plotlyServerURL": "https://plot.ly"
       },
       "data": [
        {
         "error_y": {
          "array": [
           0.045,
           0.045,
           0.02,
           0.01
          ],
          "type": "data",
          "visible": true
         },
         "marker": {
          "color": "grey"
         },
         "name": "Random",
         "offsetgroup": "0",
         "opacity": 0.6,
         "showlegend": true,
         "type": "bar",
         "x": [
          "CANCER<br> |V|=5, |E|=4, s=0.4",
          "EARTHQUAKE<br> |V|=5, |E|=4, s=0.4",
          "SURVEY<br> |V|=6, |E|=6, s=0.4",
          "ASIA<br> |V|=8, |E|=8, s=0.29"
         ],
         "y": [
          0.07,
          0.055,
          0.024999999999999998,
          0.0125
         ],
         "yaxis": "y"
        },
        {
         "error_y": {
          "array": [
           null,
           null,
           null,
           null
          ],
          "type": "data",
          "visible": true
         },
         "marker": {
          "color": "#379f9f"
         },
         "name": "FGS",
         "offsetgroup": "1",
         "opacity": 0.6,
         "showlegend": true,
         "type": "bar",
         "x": [
          "CANCER<br> |V|=5, |E|=4, s=0.4",
          "EARTHQUAKE<br> |V|=5, |E|=4, s=0.4",
          "SURVEY<br> |V|=6, |E|=6, s=0.4",
          "ASIA<br> |V|=8, |E|=8, s=0.29"
         ],
         "y": [
          0.0625,
          0.125,
          0.028333333333333335,
          0.03125
         ],
         "yaxis": "y"
        },
        {
         "error_y": {
          "array": [
           0,
           0,
           0,
           0
          ],
          "type": "data",
          "visible": true
         },
         "marker": {
          "color": "#9454c4"
         },
         "name": "NOTEARS-MLP",
         "offsetgroup": "2",
         "opacity": 0.6,
         "showlegend": true,
         "type": "bar",
         "x": [
          "CANCER<br> |V|=5, |E|=4, s=0.4",
          "EARTHQUAKE<br> |V|=5, |E|=4, s=0.4",
          "SURVEY<br> |V|=6, |E|=6, s=0.4",
          "ASIA<br> |V|=8, |E|=8, s=0.29"
         ],
         "y": [
          0,
          0,
          0,
          0
         ],
         "yaxis": "y"
        },
        {
         "error_y": {
          "array": [
           null,
           null,
           null,
           null
          ],
          "type": "data",
          "visible": true
         },
         "marker": {
          "color": "#b85c00"
         },
         "name": "Shapley-PC",
         "offsetgroup": "3",
         "opacity": 0.6,
         "showlegend": true,
         "type": "bar",
         "x": [
          "CANCER<br> |V|=5, |E|=4, s=0.4",
          "EARTHQUAKE<br> |V|=5, |E|=4, s=0.4",
          "SURVEY<br> |V|=6, |E|=6, s=0.4",
          "ASIA<br> |V|=8, |E|=8, s=0.29"
         ],
         "y": [
          0.125,
          0.125,
          0,
          0.03125
         ],
         "yaxis": "y"
        },
        {
         "error_y": {
          "array": [
           null,
           null,
           null,
           null
          ],
          "type": "data",
          "visible": true
         },
         "marker": {
          "color": "#0085CA"
         },
         "name": "ABAPC (Ours)",
         "offsetgroup": "4",
         "opacity": 0.6,
         "showlegend": true,
         "type": "bar",
         "x": [
          "CANCER<br> |V|=5, |E|=4, s=0.4",
          "EARTHQUAKE<br> |V|=5, |E|=4, s=0.4",
          "SURVEY<br> |V|=6, |E|=6, s=0.4",
          "ASIA<br> |V|=8, |E|=8, s=0.29"
         ],
         "y": [
          0.0625,
          0.25,
          0.055,
          0.09375
         ],
         "yaxis": "y"
        },
        {
         "marker": {
          "color": "white"
         },
         "name": "",
         "offsetgroup": "5",
         "opacity": 1,
         "showlegend": false,
         "type": "bar",
         "x": [
          "CANCER<br> |V|=5, |E|=4, s=0.4",
          "EARTHQUAKE<br> |V|=5, |E|=4, s=0.4",
          "SURVEY<br> |V|=6, |E|=6, s=0.4",
          "ASIA<br> |V|=8, |E|=8, s=0.29"
         ],
         "y": [
          0,
          0,
          0,
          0
         ]
        },
        {
         "error_y": {
          "array": [
           0.5875,
           1.025,
           0.87,
           0.73375
          ],
          "type": "data",
          "visible": true
         },
         "marker": {
          "color": "grey"
         },
         "name": "Random",
         "offsetgroup": "6",
         "opacity": 0.6,
         "showlegend": false,
         "type": "bar",
         "x": [
          "CANCER<br> |V|=5, |E|=4, s=0.4",
          "EARTHQUAKE<br> |V|=5, |E|=4, s=0.4",
          "SURVEY<br> |V|=6, |E|=6, s=0.4",
          "ASIA<br> |V|=8, |E|=8, s=0.29"
         ],
         "y": [
          2.8,
          2.45,
          3.1833333333333336,
          3.6875
         ],
         "yaxis": "y2"
        },
        {
         "error_y": {
          "array": [
           null,
           null,
           null,
           null
          ],
          "type": "data",
          "visible": true
         },
         "marker": {
          "color": "#379f9f"
         },
         "name": "FGS",
         "offsetgroup": "7",
         "opacity": 0.6,
         "showlegend": false,
         "type": "bar",
         "x": [
          "CANCER<br> |V|=5, |E|=4, s=0.4",
          "EARTHQUAKE<br> |V|=5, |E|=4, s=0.4",
          "SURVEY<br> |V|=6, |E|=6, s=0.4",
          "ASIA<br> |V|=8, |E|=8, s=0.29"
         ],
         "y": [
          3.5,
          2.5,
          2.3333333333333335,
          5
         ],
         "yaxis": "y2"
        },
        {
         "error_y": {
          "array": [
           0,
           0,
           0,
           0
          ],
          "type": "data",
          "visible": true
         },
         "marker": {
          "color": "#9454c4"
         },
         "name": "NOTEARS-MLP",
         "offsetgroup": "8",
         "opacity": 0.6,
         "showlegend": false,
         "type": "bar",
         "x": [
          "CANCER<br> |V|=5, |E|=4, s=0.4",
          "EARTHQUAKE<br> |V|=5, |E|=4, s=0.4",
          "SURVEY<br> |V|=6, |E|=6, s=0.4",
          "ASIA<br> |V|=8, |E|=8, s=0.29"
         ],
         "y": [
          2.5,
          2.5,
          2.8333333333333335,
          3.625
         ],
         "yaxis": "y2"
        },
        {
         "error_y": {
          "array": [
           null,
           null,
           null,
           null
          ],
          "type": "data",
          "visible": true
         },
         "marker": {
          "color": "#b85c00"
         },
         "name": "Shapley-PC",
         "offsetgroup": "9",
         "opacity": 0.6,
         "showlegend": false,
         "type": "bar",
         "x": [
          "CANCER<br> |V|=5, |E|=4, s=0.4",
          "EARTHQUAKE<br> |V|=5, |E|=4, s=0.4",
          "SURVEY<br> |V|=6, |E|=6, s=0.4",
          "ASIA<br> |V|=8, |E|=8, s=0.29"
         ],
         "y": [
          1.5,
          2.5,
          2.8333333333333335,
          4.125
         ],
         "yaxis": "y2"
        },
        {
         "error_y": {
          "array": [
           null,
           null,
           null,
           null
          ],
          "type": "data",
          "visible": true
         },
         "marker": {
          "color": "#0085CA"
         },
         "name": "ABAPC (Ours)",
         "offsetgroup": "10",
         "opacity": 0.6,
         "showlegend": false,
         "type": "bar",
         "x": [
          "CANCER<br> |V|=5, |E|=4, s=0.4",
          "EARTHQUAKE<br> |V|=5, |E|=4, s=0.4",
          "SURVEY<br> |V|=6, |E|=6, s=0.4",
          "ASIA<br> |V|=8, |E|=8, s=0.29"
         ],
         "y": [
          2.75,
          0,
          1.8333333333333333,
          0.875
         ],
         "yaxis": "y2"
        }
       ],
       "layout": {
        "annotations": [
         {
          "font": {
           "color": "Black",
           "family": "Serif",
           "size": 20
          },
          "showarrow": false,
          "text": "Dataset:",
          "x": 0,
          "xanchor": "center",
          "xref": "paper",
          "y": -0.08,
          "yanchor": "bottom",
          "yref": "paper"
         },
         {
          "bgcolor": "#E5ECF6",
          "bordercolor": "#E5ECF6",
          "borderwidth": 2,
          "font": {
           "color": "black",
           "size": 20
          },
          "opacity": 0.8,
          "showarrow": false,
          "text": "         NSHD         ",
          "x": 0.017,
          "xanchor": "left",
          "xref": "x domain",
          "y": 1.015,
          "yref": "y domain"
         },
         {
          "bgcolor": "#E5ECF6",
          "bordercolor": "#E5ECF6",
          "borderwidth": 2,
          "font": {
           "color": "black",
           "size": 20
          },
          "opacity": 0.8,
          "showarrow": false,
          "text": "         NSID         ",
          "x": 0.137,
          "xanchor": "left",
          "xref": "x domain",
          "y": 1.015,
          "yref": "y domain"
         },
         {
          "bgcolor": "#E5ECF6",
          "bordercolor": "#E5ECF6",
          "borderwidth": 2,
          "font": {
           "color": "black",
           "size": 20
          },
          "opacity": 0.8,
          "showarrow": false,
          "text": "         NSHD         ",
          "x": 0.267,
          "xanchor": "left",
          "xref": "x domain",
          "y": 1.015,
          "yref": "y domain"
         },
         {
          "bgcolor": "#E5ECF6",
          "bordercolor": "#E5ECF6",
          "borderwidth": 2,
          "font": {
           "color": "black",
           "size": 20
          },
          "opacity": 0.8,
          "showarrow": false,
          "text": "         NSID         ",
          "x": 0.387,
          "xanchor": "left",
          "xref": "x domain",
          "y": 1.015,
          "yref": "y domain"
         },
         {
          "bgcolor": "#E5ECF6",
          "bordercolor": "#E5ECF6",
          "borderwidth": 2,
          "font": {
           "color": "black",
           "size": 20
          },
          "opacity": 0.8,
          "showarrow": false,
          "text": "         NSHD         ",
          "x": 0.517,
          "xanchor": "left",
          "xref": "x domain",
          "y": 1.015,
          "yref": "y domain"
         },
         {
          "bgcolor": "#E5ECF6",
          "bordercolor": "#E5ECF6",
          "borderwidth": 2,
          "font": {
           "color": "black",
           "size": 20
          },
          "opacity": 0.8,
          "showarrow": false,
          "text": "         NSID         ",
          "x": 0.637,
          "xanchor": "left",
          "xref": "x domain",
          "y": 1.015,
          "yref": "y domain"
         },
         {
          "bgcolor": "#E5ECF6",
          "bordercolor": "#E5ECF6",
          "borderwidth": 2,
          "font": {
           "color": "black",
           "size": 20
          },
          "opacity": 0.8,
          "showarrow": false,
          "text": "         NSHD         ",
          "x": 0.767,
          "xanchor": "left",
          "xref": "x domain",
          "y": 1.015,
          "yref": "y domain"
         },
         {
          "bgcolor": "#E5ECF6",
          "bordercolor": "#E5ECF6",
          "borderwidth": 2,
          "font": {
           "color": "black",
           "size": 20
          },
          "opacity": 0.8,
          "showarrow": false,
          "text": "         NSID         ",
          "x": 0.887,
          "xanchor": "left",
          "xref": "x domain",
          "y": 1.015,
          "yref": "y domain"
         }
        ],
        "bargap": 0.15,
        "bargroupgap": 0.1,
        "barmode": "group",
        "font": {
         "color": "black",
         "family": "Serif",
         "size": 20
        },
        "height": 700,
        "hovermode": "x unified",
        "legend": {
         "orientation": "h",
         "x": 0.5,
         "xanchor": "center",
         "y": 1.1,
         "yanchor": "top"
        },
        "margin": {
         "b": 80,
         "l": 40,
         "r": 40,
         "t": 20
        },
        "template": {
         "data": {
          "bar": [
           {
            "error_x": {
             "color": "#2a3f5f"
            },
            "error_y": {
             "color": "#2a3f5f"
            },
            "marker": {
             "line": {
              "color": "white",
              "width": 0.5
             },
             "pattern": {
              "fillmode": "overlay",
              "size": 10,
              "solidity": 0.2
             }
            },
            "type": "bar"
           }
          ],
          "barpolar": [
           {
            "marker": {
             "line": {
              "color": "white",
              "width": 0.5
             },
             "pattern": {
              "fillmode": "overlay",
              "size": 10,
              "solidity": 0.2
             }
            },
            "type": "barpolar"
           }
          ],
          "carpet": [
           {
            "aaxis": {
             "endlinecolor": "#2a3f5f",
             "gridcolor": "#C8D4E3",
             "linecolor": "#C8D4E3",
             "minorgridcolor": "#C8D4E3",
             "startlinecolor": "#2a3f5f"
            },
            "baxis": {
             "endlinecolor": "#2a3f5f",
             "gridcolor": "#C8D4E3",
             "linecolor": "#C8D4E3",
             "minorgridcolor": "#C8D4E3",
             "startlinecolor": "#2a3f5f"
            },
            "type": "carpet"
           }
          ],
          "choropleth": [
           {
            "colorbar": {
             "outlinewidth": 0,
             "ticks": ""
            },
            "type": "choropleth"
           }
          ],
          "contour": [
           {
            "colorbar": {
             "outlinewidth": 0,
             "ticks": ""
            },
            "colorscale": [
             [
              0,
              "#0d0887"
             ],
             [
              0.1111111111111111,
              "#46039f"
             ],
             [
              0.2222222222222222,
              "#7201a8"
             ],
             [
              0.3333333333333333,
              "#9c179e"
             ],
             [
              0.4444444444444444,
              "#bd3786"
             ],
             [
              0.5555555555555556,
              "#d8576b"
             ],
             [
              0.6666666666666666,
              "#ed7953"
             ],
             [
              0.7777777777777778,
              "#fb9f3a"
             ],
             [
              0.8888888888888888,
              "#fdca26"
             ],
             [
              1,
              "#f0f921"
             ]
            ],
            "type": "contour"
           }
          ],
          "contourcarpet": [
           {
            "colorbar": {
             "outlinewidth": 0,
             "ticks": ""
            },
            "type": "contourcarpet"
           }
          ],
          "heatmap": [
           {
            "colorbar": {
             "outlinewidth": 0,
             "ticks": ""
            },
            "colorscale": [
             [
              0,
              "#0d0887"
             ],
             [
              0.1111111111111111,
              "#46039f"
             ],
             [
              0.2222222222222222,
              "#7201a8"
             ],
             [
              0.3333333333333333,
              "#9c179e"
             ],
             [
              0.4444444444444444,
              "#bd3786"
             ],
             [
              0.5555555555555556,
              "#d8576b"
             ],
             [
              0.6666666666666666,
              "#ed7953"
             ],
             [
              0.7777777777777778,
              "#fb9f3a"
             ],
             [
              0.8888888888888888,
              "#fdca26"
             ],
             [
              1,
              "#f0f921"
             ]
            ],
            "type": "heatmap"
           }
          ],
          "heatmapgl": [
           {
            "colorbar": {
             "outlinewidth": 0,
             "ticks": ""
            },
            "colorscale": [
             [
              0,
              "#0d0887"
             ],
             [
              0.1111111111111111,
              "#46039f"
             ],
             [
              0.2222222222222222,
              "#7201a8"
             ],
             [
              0.3333333333333333,
              "#9c179e"
             ],
             [
              0.4444444444444444,
              "#bd3786"
             ],
             [
              0.5555555555555556,
              "#d8576b"
             ],
             [
              0.6666666666666666,
              "#ed7953"
             ],
             [
              0.7777777777777778,
              "#fb9f3a"
             ],
             [
              0.8888888888888888,
              "#fdca26"
             ],
             [
              1,
              "#f0f921"
             ]
            ],
            "type": "heatmapgl"
           }
          ],
          "histogram": [
           {
            "marker": {
             "pattern": {
              "fillmode": "overlay",
              "size": 10,
              "solidity": 0.2
             }
            },
            "type": "histogram"
           }
          ],
          "histogram2d": [
           {
            "colorbar": {
             "outlinewidth": 0,
             "ticks": ""
            },
            "colorscale": [
             [
              0,
              "#0d0887"
             ],
             [
              0.1111111111111111,
              "#46039f"
             ],
             [
              0.2222222222222222,
              "#7201a8"
             ],
             [
              0.3333333333333333,
              "#9c179e"
             ],
             [
              0.4444444444444444,
              "#bd3786"
             ],
             [
              0.5555555555555556,
              "#d8576b"
             ],
             [
              0.6666666666666666,
              "#ed7953"
             ],
             [
              0.7777777777777778,
              "#fb9f3a"
             ],
             [
              0.8888888888888888,
              "#fdca26"
             ],
             [
              1,
              "#f0f921"
             ]
            ],
            "type": "histogram2d"
           }
          ],
          "histogram2dcontour": [
           {
            "colorbar": {
             "outlinewidth": 0,
             "ticks": ""
            },
            "colorscale": [
             [
              0,
              "#0d0887"
             ],
             [
              0.1111111111111111,
              "#46039f"
             ],
             [
              0.2222222222222222,
              "#7201a8"
             ],
             [
              0.3333333333333333,
              "#9c179e"
             ],
             [
              0.4444444444444444,
              "#bd3786"
             ],
             [
              0.5555555555555556,
              "#d8576b"
             ],
             [
              0.6666666666666666,
              "#ed7953"
             ],
             [
              0.7777777777777778,
              "#fb9f3a"
             ],
             [
              0.8888888888888888,
              "#fdca26"
             ],
             [
              1,
              "#f0f921"
             ]
            ],
            "type": "histogram2dcontour"
           }
          ],
          "mesh3d": [
           {
            "colorbar": {
             "outlinewidth": 0,
             "ticks": ""
            },
            "type": "mesh3d"
           }
          ],
          "parcoords": [
           {
            "line": {
             "colorbar": {
              "outlinewidth": 0,
              "ticks": ""
             }
            },
            "type": "parcoords"
           }
          ],
          "pie": [
           {
            "automargin": true,
            "type": "pie"
           }
          ],
          "scatter": [
           {
            "fillpattern": {
             "fillmode": "overlay",
             "size": 10,
             "solidity": 0.2
            },
            "type": "scatter"
           }
          ],
          "scatter3d": [
           {
            "line": {
             "colorbar": {
              "outlinewidth": 0,
              "ticks": ""
             }
            },
            "marker": {
             "colorbar": {
              "outlinewidth": 0,
              "ticks": ""
             }
            },
            "type": "scatter3d"
           }
          ],
          "scattercarpet": [
           {
            "marker": {
             "colorbar": {
              "outlinewidth": 0,
              "ticks": ""
             }
            },
            "type": "scattercarpet"
           }
          ],
          "scattergeo": [
           {
            "marker": {
             "colorbar": {
              "outlinewidth": 0,
              "ticks": ""
             }
            },
            "type": "scattergeo"
           }
          ],
          "scattergl": [
           {
            "marker": {
             "colorbar": {
              "outlinewidth": 0,
              "ticks": ""
             }
            },
            "type": "scattergl"
           }
          ],
          "scattermapbox": [
           {
            "marker": {
             "colorbar": {
              "outlinewidth": 0,
              "ticks": ""
             }
            },
            "type": "scattermapbox"
           }
          ],
          "scatterpolar": [
           {
            "marker": {
             "colorbar": {
              "outlinewidth": 0,
              "ticks": ""
             }
            },
            "type": "scatterpolar"
           }
          ],
          "scatterpolargl": [
           {
            "marker": {
             "colorbar": {
              "outlinewidth": 0,
              "ticks": ""
             }
            },
            "type": "scatterpolargl"
           }
          ],
          "scatterternary": [
           {
            "marker": {
             "colorbar": {
              "outlinewidth": 0,
              "ticks": ""
             }
            },
            "type": "scatterternary"
           }
          ],
          "surface": [
           {
            "colorbar": {
             "outlinewidth": 0,
             "ticks": ""
            },
            "colorscale": [
             [
              0,
              "#0d0887"
             ],
             [
              0.1111111111111111,
              "#46039f"
             ],
             [
              0.2222222222222222,
              "#7201a8"
             ],
             [
              0.3333333333333333,
              "#9c179e"
             ],
             [
              0.4444444444444444,
              "#bd3786"
             ],
             [
              0.5555555555555556,
              "#d8576b"
             ],
             [
              0.6666666666666666,
              "#ed7953"
             ],
             [
              0.7777777777777778,
              "#fb9f3a"
             ],
             [
              0.8888888888888888,
              "#fdca26"
             ],
             [
              1,
              "#f0f921"
             ]
            ],
            "type": "surface"
           }
          ],
          "table": [
           {
            "cells": {
             "fill": {
              "color": "#EBF0F8"
             },
             "line": {
              "color": "white"
             }
            },
            "header": {
             "fill": {
              "color": "#C8D4E3"
             },
             "line": {
              "color": "white"
             }
            },
            "type": "table"
           }
          ]
         },
         "layout": {
          "annotationdefaults": {
           "arrowcolor": "#2a3f5f",
           "arrowhead": 0,
           "arrowwidth": 1
          },
          "autotypenumbers": "strict",
          "coloraxis": {
           "colorbar": {
            "outlinewidth": 0,
            "ticks": ""
           }
          },
          "colorscale": {
           "diverging": [
            [
             0,
             "#8e0152"
            ],
            [
             0.1,
             "#c51b7d"
            ],
            [
             0.2,
             "#de77ae"
            ],
            [
             0.3,
             "#f1b6da"
            ],
            [
             0.4,
             "#fde0ef"
            ],
            [
             0.5,
             "#f7f7f7"
            ],
            [
             0.6,
             "#e6f5d0"
            ],
            [
             0.7,
             "#b8e186"
            ],
            [
             0.8,
             "#7fbc41"
            ],
            [
             0.9,
             "#4d9221"
            ],
            [
             1,
             "#276419"
            ]
           ],
           "sequential": [
            [
             0,
             "#0d0887"
            ],
            [
             0.1111111111111111,
             "#46039f"
            ],
            [
             0.2222222222222222,
             "#7201a8"
            ],
            [
             0.3333333333333333,
             "#9c179e"
            ],
            [
             0.4444444444444444,
             "#bd3786"
            ],
            [
             0.5555555555555556,
             "#d8576b"
            ],
            [
             0.6666666666666666,
             "#ed7953"
            ],
            [
             0.7777777777777778,
             "#fb9f3a"
            ],
            [
             0.8888888888888888,
             "#fdca26"
            ],
            [
             1,
             "#f0f921"
            ]
           ],
           "sequentialminus": [
            [
             0,
             "#0d0887"
            ],
            [
             0.1111111111111111,
             "#46039f"
            ],
            [
             0.2222222222222222,
             "#7201a8"
            ],
            [
             0.3333333333333333,
             "#9c179e"
            ],
            [
             0.4444444444444444,
             "#bd3786"
            ],
            [
             0.5555555555555556,
             "#d8576b"
            ],
            [
             0.6666666666666666,
             "#ed7953"
            ],
            [
             0.7777777777777778,
             "#fb9f3a"
            ],
            [
             0.8888888888888888,
             "#fdca26"
            ],
            [
             1,
             "#f0f921"
            ]
           ]
          },
          "colorway": [
           "#636efa",
           "#EF553B",
           "#00cc96",
           "#ab63fa",
           "#FFA15A",
           "#19d3f3",
           "#FF6692",
           "#B6E880",
           "#FF97FF",
           "#FECB52"
          ],
          "font": {
           "color": "#2a3f5f"
          },
          "geo": {
           "bgcolor": "white",
           "lakecolor": "white",
           "landcolor": "white",
           "showlakes": true,
           "showland": true,
           "subunitcolor": "#C8D4E3"
          },
          "hoverlabel": {
           "align": "left"
          },
          "hovermode": "closest",
          "mapbox": {
           "style": "light"
          },
          "paper_bgcolor": "white",
          "plot_bgcolor": "white",
          "polar": {
           "angularaxis": {
            "gridcolor": "#EBF0F8",
            "linecolor": "#EBF0F8",
            "ticks": ""
           },
           "bgcolor": "white",
           "radialaxis": {
            "gridcolor": "#EBF0F8",
            "linecolor": "#EBF0F8",
            "ticks": ""
           }
          },
          "scene": {
           "xaxis": {
            "backgroundcolor": "white",
            "gridcolor": "#DFE8F3",
            "gridwidth": 2,
            "linecolor": "#EBF0F8",
            "showbackground": true,
            "ticks": "",
            "zerolinecolor": "#EBF0F8"
           },
           "yaxis": {
            "backgroundcolor": "white",
            "gridcolor": "#DFE8F3",
            "gridwidth": 2,
            "linecolor": "#EBF0F8",
            "showbackground": true,
            "ticks": "",
            "zerolinecolor": "#EBF0F8"
           },
           "zaxis": {
            "backgroundcolor": "white",
            "gridcolor": "#DFE8F3",
            "gridwidth": 2,
            "linecolor": "#EBF0F8",
            "showbackground": true,
            "ticks": "",
            "zerolinecolor": "#EBF0F8"
           }
          },
          "shapedefaults": {
           "line": {
            "color": "#2a3f5f"
           }
          },
          "ternary": {
           "aaxis": {
            "gridcolor": "#DFE8F3",
            "linecolor": "#A2B1C6",
            "ticks": ""
           },
           "baxis": {
            "gridcolor": "#DFE8F3",
            "linecolor": "#A2B1C6",
            "ticks": ""
           },
           "bgcolor": "white",
           "caxis": {
            "gridcolor": "#DFE8F3",
            "linecolor": "#A2B1C6",
            "ticks": ""
           }
          },
          "title": {
           "x": 0.05
          },
          "xaxis": {
           "automargin": true,
           "gridcolor": "#EBF0F8",
           "linecolor": "#EBF0F8",
           "ticks": "",
           "title": {
            "standoff": 15
           },
           "zerolinecolor": "#EBF0F8",
           "zerolinewidth": 2
          },
          "yaxis": {
           "automargin": true,
           "gridcolor": "#EBF0F8",
           "linecolor": "#EBF0F8",
           "ticks": "",
           "title": {
            "standoff": 15
           },
           "zerolinecolor": "#EBF0F8",
           "zerolinewidth": 2
          }
         }
        },
        "width": 1600,
        "xaxis": {
         "anchor": "y",
         "domain": [
          0,
          0.94
         ]
        },
        "yaxis": {
         "anchor": "x",
         "domain": [
          0,
          1
         ],
         "range": [
          0,
          0.3
         ],
         "title": {
          "font": {
           "size": 20
          },
          "text": "Normalised SHD = SHD / Number of Edges in DAG"
         }
        },
        "yaxis2": {
         "anchor": "x",
         "overlaying": "y",
         "range": [
          0,
          5.3
         ],
         "scaleanchor": 0,
         "showgrid": false,
         "showline": false,
         "showticklabels": true,
         "side": "right",
         "title": {
          "font": {
           "size": 20
          },
          "text": "Normalised SID = SID / Number of Edges in DAG"
         },
         "zeroline": true
        }
       }
      },
      "text/html": [
       "<div>                            <div id=\"680a3bdb-d479-4a11-9cd7-df5b3b06d73b\" class=\"plotly-graph-div\" style=\"height:700px; width:1600px;\"></div>            <script type=\"text/javascript\">                require([\"plotly\"], function(Plotly) {                    window.PLOTLYENV=window.PLOTLYENV || {};                                    if (document.getElementById(\"680a3bdb-d479-4a11-9cd7-df5b3b06d73b\")) {                    Plotly.newPlot(                        \"680a3bdb-d479-4a11-9cd7-df5b3b06d73b\",                        [{\"error_y\":{\"array\":[0.045,0.045,0.02,0.01],\"type\":\"data\",\"visible\":true},\"marker\":{\"color\":\"grey\"},\"name\":\"Random\",\"offsetgroup\":\"0\",\"opacity\":0.6,\"showlegend\":true,\"x\":[\"CANCER\\u003cbr\\u003e |V|=5, |E|=4, s=0.4\",\"EARTHQUAKE\\u003cbr\\u003e |V|=5, |E|=4, s=0.4\",\"SURVEY\\u003cbr\\u003e |V|=6, |E|=6, s=0.4\",\"ASIA\\u003cbr\\u003e |V|=8, |E|=8, s=0.29\"],\"y\":[0.07,0.055,0.024999999999999998,0.0125],\"yaxis\":\"y\",\"type\":\"bar\"},{\"error_y\":{\"array\":[null,null,null,null],\"type\":\"data\",\"visible\":true},\"marker\":{\"color\":\"#379f9f\"},\"name\":\"FGS\",\"offsetgroup\":\"1\",\"opacity\":0.6,\"showlegend\":true,\"x\":[\"CANCER\\u003cbr\\u003e |V|=5, |E|=4, s=0.4\",\"EARTHQUAKE\\u003cbr\\u003e |V|=5, |E|=4, s=0.4\",\"SURVEY\\u003cbr\\u003e |V|=6, |E|=6, s=0.4\",\"ASIA\\u003cbr\\u003e |V|=8, |E|=8, s=0.29\"],\"y\":[0.0625,0.125,0.028333333333333335,0.03125],\"yaxis\":\"y\",\"type\":\"bar\"},{\"error_y\":{\"array\":[0.0,0.0,0.0,0.0],\"type\":\"data\",\"visible\":true},\"marker\":{\"color\":\"#9454c4\"},\"name\":\"NOTEARS-MLP\",\"offsetgroup\":\"2\",\"opacity\":0.6,\"showlegend\":true,\"x\":[\"CANCER\\u003cbr\\u003e |V|=5, |E|=4, s=0.4\",\"EARTHQUAKE\\u003cbr\\u003e |V|=5, |E|=4, s=0.4\",\"SURVEY\\u003cbr\\u003e |V|=6, |E|=6, s=0.4\",\"ASIA\\u003cbr\\u003e |V|=8, |E|=8, s=0.29\"],\"y\":[0.0,0.0,0.0,0.0],\"yaxis\":\"y\",\"type\":\"bar\"},{\"error_y\":{\"array\":[null,null,null,null],\"type\":\"data\",\"visible\":true},\"marker\":{\"color\":\"#b85c00\"},\"name\":\"Shapley-PC\",\"offsetgroup\":\"3\",\"opacity\":0.6,\"showlegend\":true,\"x\":[\"CANCER\\u003cbr\\u003e |V|=5, |E|=4, s=0.4\",\"EARTHQUAKE\\u003cbr\\u003e |V|=5, |E|=4, s=0.4\",\"SURVEY\\u003cbr\\u003e |V|=6, |E|=6, s=0.4\",\"ASIA\\u003cbr\\u003e |V|=8, |E|=8, s=0.29\"],\"y\":[0.125,0.125,0.0,0.03125],\"yaxis\":\"y\",\"type\":\"bar\"},{\"error_y\":{\"array\":[null,null,null,null],\"type\":\"data\",\"visible\":true},\"marker\":{\"color\":\"#0085CA\"},\"name\":\"ABAPC (Ours)\",\"offsetgroup\":\"4\",\"opacity\":0.6,\"showlegend\":true,\"x\":[\"CANCER\\u003cbr\\u003e |V|=5, |E|=4, s=0.4\",\"EARTHQUAKE\\u003cbr\\u003e |V|=5, |E|=4, s=0.4\",\"SURVEY\\u003cbr\\u003e |V|=6, |E|=6, s=0.4\",\"ASIA\\u003cbr\\u003e |V|=8, |E|=8, s=0.29\"],\"y\":[0.0625,0.25,0.055,0.09375],\"yaxis\":\"y\",\"type\":\"bar\"},{\"marker\":{\"color\":\"white\"},\"name\":\"\",\"offsetgroup\":\"5\",\"opacity\":1,\"showlegend\":false,\"x\":[\"CANCER\\u003cbr\\u003e |V|=5, |E|=4, s=0.4\",\"EARTHQUAKE\\u003cbr\\u003e |V|=5, |E|=4, s=0.4\",\"SURVEY\\u003cbr\\u003e |V|=6, |E|=6, s=0.4\",\"ASIA\\u003cbr\\u003e |V|=8, |E|=8, s=0.29\"],\"y\":[0.0,0.0,0.0,0.0],\"type\":\"bar\"},{\"error_y\":{\"array\":[0.5875,1.025,0.87,0.73375],\"type\":\"data\",\"visible\":true},\"marker\":{\"color\":\"grey\"},\"name\":\"Random\",\"offsetgroup\":\"6\",\"opacity\":0.6,\"showlegend\":false,\"x\":[\"CANCER\\u003cbr\\u003e |V|=5, |E|=4, s=0.4\",\"EARTHQUAKE\\u003cbr\\u003e |V|=5, |E|=4, s=0.4\",\"SURVEY\\u003cbr\\u003e |V|=6, |E|=6, s=0.4\",\"ASIA\\u003cbr\\u003e |V|=8, |E|=8, s=0.29\"],\"y\":[2.8,2.45,3.1833333333333336,3.6875],\"yaxis\":\"y2\",\"type\":\"bar\"},{\"error_y\":{\"array\":[null,null,null,null],\"type\":\"data\",\"visible\":true},\"marker\":{\"color\":\"#379f9f\"},\"name\":\"FGS\",\"offsetgroup\":\"7\",\"opacity\":0.6,\"showlegend\":false,\"x\":[\"CANCER\\u003cbr\\u003e |V|=5, |E|=4, s=0.4\",\"EARTHQUAKE\\u003cbr\\u003e |V|=5, |E|=4, s=0.4\",\"SURVEY\\u003cbr\\u003e |V|=6, |E|=6, s=0.4\",\"ASIA\\u003cbr\\u003e |V|=8, |E|=8, s=0.29\"],\"y\":[3.5,2.5,2.3333333333333335,5.0],\"yaxis\":\"y2\",\"type\":\"bar\"},{\"error_y\":{\"array\":[0.0,0.0,0.0,0.0],\"type\":\"data\",\"visible\":true},\"marker\":{\"color\":\"#9454c4\"},\"name\":\"NOTEARS-MLP\",\"offsetgroup\":\"8\",\"opacity\":0.6,\"showlegend\":false,\"x\":[\"CANCER\\u003cbr\\u003e |V|=5, |E|=4, s=0.4\",\"EARTHQUAKE\\u003cbr\\u003e |V|=5, |E|=4, s=0.4\",\"SURVEY\\u003cbr\\u003e |V|=6, |E|=6, s=0.4\",\"ASIA\\u003cbr\\u003e |V|=8, |E|=8, s=0.29\"],\"y\":[2.5,2.5,2.8333333333333335,3.625],\"yaxis\":\"y2\",\"type\":\"bar\"},{\"error_y\":{\"array\":[null,null,null,null],\"type\":\"data\",\"visible\":true},\"marker\":{\"color\":\"#b85c00\"},\"name\":\"Shapley-PC\",\"offsetgroup\":\"9\",\"opacity\":0.6,\"showlegend\":false,\"x\":[\"CANCER\\u003cbr\\u003e |V|=5, |E|=4, s=0.4\",\"EARTHQUAKE\\u003cbr\\u003e |V|=5, |E|=4, s=0.4\",\"SURVEY\\u003cbr\\u003e |V|=6, |E|=6, s=0.4\",\"ASIA\\u003cbr\\u003e |V|=8, |E|=8, s=0.29\"],\"y\":[1.5,2.5,2.8333333333333335,4.125],\"yaxis\":\"y2\",\"type\":\"bar\"},{\"error_y\":{\"array\":[null,null,null,null],\"type\":\"data\",\"visible\":true},\"marker\":{\"color\":\"#0085CA\"},\"name\":\"ABAPC (Ours)\",\"offsetgroup\":\"10\",\"opacity\":0.6,\"showlegend\":false,\"x\":[\"CANCER\\u003cbr\\u003e |V|=5, |E|=4, s=0.4\",\"EARTHQUAKE\\u003cbr\\u003e |V|=5, |E|=4, s=0.4\",\"SURVEY\\u003cbr\\u003e |V|=6, |E|=6, s=0.4\",\"ASIA\\u003cbr\\u003e |V|=8, |E|=8, s=0.29\"],\"y\":[2.75,0.0,1.8333333333333333,0.875],\"yaxis\":\"y2\",\"type\":\"bar\"}],                        {\"template\":{\"data\":{\"barpolar\":[{\"marker\":{\"line\":{\"color\":\"white\",\"width\":0.5},\"pattern\":{\"fillmode\":\"overlay\",\"size\":10,\"solidity\":0.2}},\"type\":\"barpolar\"}],\"bar\":[{\"error_x\":{\"color\":\"#2a3f5f\"},\"error_y\":{\"color\":\"#2a3f5f\"},\"marker\":{\"line\":{\"color\":\"white\",\"width\":0.5},\"pattern\":{\"fillmode\":\"overlay\",\"size\":10,\"solidity\":0.2}},\"type\":\"bar\"}],\"carpet\":[{\"aaxis\":{\"endlinecolor\":\"#2a3f5f\",\"gridcolor\":\"#C8D4E3\",\"linecolor\":\"#C8D4E3\",\"minorgridcolor\":\"#C8D4E3\",\"startlinecolor\":\"#2a3f5f\"},\"baxis\":{\"endlinecolor\":\"#2a3f5f\",\"gridcolor\":\"#C8D4E3\",\"linecolor\":\"#C8D4E3\",\"minorgridcolor\":\"#C8D4E3\",\"startlinecolor\":\"#2a3f5f\"},\"type\":\"carpet\"}],\"choropleth\":[{\"colorbar\":{\"outlinewidth\":0,\"ticks\":\"\"},\"type\":\"choropleth\"}],\"contourcarpet\":[{\"colorbar\":{\"outlinewidth\":0,\"ticks\":\"\"},\"type\":\"contourcarpet\"}],\"contour\":[{\"colorbar\":{\"outlinewidth\":0,\"ticks\":\"\"},\"colorscale\":[[0.0,\"#0d0887\"],[0.1111111111111111,\"#46039f\"],[0.2222222222222222,\"#7201a8\"],[0.3333333333333333,\"#9c179e\"],[0.4444444444444444,\"#bd3786\"],[0.5555555555555556,\"#d8576b\"],[0.6666666666666666,\"#ed7953\"],[0.7777777777777778,\"#fb9f3a\"],[0.8888888888888888,\"#fdca26\"],[1.0,\"#f0f921\"]],\"type\":\"contour\"}],\"heatmapgl\":[{\"colorbar\":{\"outlinewidth\":0,\"ticks\":\"\"},\"colorscale\":[[0.0,\"#0d0887\"],[0.1111111111111111,\"#46039f\"],[0.2222222222222222,\"#7201a8\"],[0.3333333333333333,\"#9c179e\"],[0.4444444444444444,\"#bd3786\"],[0.5555555555555556,\"#d8576b\"],[0.6666666666666666,\"#ed7953\"],[0.7777777777777778,\"#fb9f3a\"],[0.8888888888888888,\"#fdca26\"],[1.0,\"#f0f921\"]],\"type\":\"heatmapgl\"}],\"heatmap\":[{\"colorbar\":{\"outlinewidth\":0,\"ticks\":\"\"},\"colorscale\":[[0.0,\"#0d0887\"],[0.1111111111111111,\"#46039f\"],[0.2222222222222222,\"#7201a8\"],[0.3333333333333333,\"#9c179e\"],[0.4444444444444444,\"#bd3786\"],[0.5555555555555556,\"#d8576b\"],[0.6666666666666666,\"#ed7953\"],[0.7777777777777778,\"#fb9f3a\"],[0.8888888888888888,\"#fdca26\"],[1.0,\"#f0f921\"]],\"type\":\"heatmap\"}],\"histogram2dcontour\":[{\"colorbar\":{\"outlinewidth\":0,\"ticks\":\"\"},\"colorscale\":[[0.0,\"#0d0887\"],[0.1111111111111111,\"#46039f\"],[0.2222222222222222,\"#7201a8\"],[0.3333333333333333,\"#9c179e\"],[0.4444444444444444,\"#bd3786\"],[0.5555555555555556,\"#d8576b\"],[0.6666666666666666,\"#ed7953\"],[0.7777777777777778,\"#fb9f3a\"],[0.8888888888888888,\"#fdca26\"],[1.0,\"#f0f921\"]],\"type\":\"histogram2dcontour\"}],\"histogram2d\":[{\"colorbar\":{\"outlinewidth\":0,\"ticks\":\"\"},\"colorscale\":[[0.0,\"#0d0887\"],[0.1111111111111111,\"#46039f\"],[0.2222222222222222,\"#7201a8\"],[0.3333333333333333,\"#9c179e\"],[0.4444444444444444,\"#bd3786\"],[0.5555555555555556,\"#d8576b\"],[0.6666666666666666,\"#ed7953\"],[0.7777777777777778,\"#fb9f3a\"],[0.8888888888888888,\"#fdca26\"],[1.0,\"#f0f921\"]],\"type\":\"histogram2d\"}],\"histogram\":[{\"marker\":{\"pattern\":{\"fillmode\":\"overlay\",\"size\":10,\"solidity\":0.2}},\"type\":\"histogram\"}],\"mesh3d\":[{\"colorbar\":{\"outlinewidth\":0,\"ticks\":\"\"},\"type\":\"mesh3d\"}],\"parcoords\":[{\"line\":{\"colorbar\":{\"outlinewidth\":0,\"ticks\":\"\"}},\"type\":\"parcoords\"}],\"pie\":[{\"automargin\":true,\"type\":\"pie\"}],\"scatter3d\":[{\"line\":{\"colorbar\":{\"outlinewidth\":0,\"ticks\":\"\"}},\"marker\":{\"colorbar\":{\"outlinewidth\":0,\"ticks\":\"\"}},\"type\":\"scatter3d\"}],\"scattercarpet\":[{\"marker\":{\"colorbar\":{\"outlinewidth\":0,\"ticks\":\"\"}},\"type\":\"scattercarpet\"}],\"scattergeo\":[{\"marker\":{\"colorbar\":{\"outlinewidth\":0,\"ticks\":\"\"}},\"type\":\"scattergeo\"}],\"scattergl\":[{\"marker\":{\"colorbar\":{\"outlinewidth\":0,\"ticks\":\"\"}},\"type\":\"scattergl\"}],\"scattermapbox\":[{\"marker\":{\"colorbar\":{\"outlinewidth\":0,\"ticks\":\"\"}},\"type\":\"scattermapbox\"}],\"scatterpolargl\":[{\"marker\":{\"colorbar\":{\"outlinewidth\":0,\"ticks\":\"\"}},\"type\":\"scatterpolargl\"}],\"scatterpolar\":[{\"marker\":{\"colorbar\":{\"outlinewidth\":0,\"ticks\":\"\"}},\"type\":\"scatterpolar\"}],\"scatter\":[{\"fillpattern\":{\"fillmode\":\"overlay\",\"size\":10,\"solidity\":0.2},\"type\":\"scatter\"}],\"scatterternary\":[{\"marker\":{\"colorbar\":{\"outlinewidth\":0,\"ticks\":\"\"}},\"type\":\"scatterternary\"}],\"surface\":[{\"colorbar\":{\"outlinewidth\":0,\"ticks\":\"\"},\"colorscale\":[[0.0,\"#0d0887\"],[0.1111111111111111,\"#46039f\"],[0.2222222222222222,\"#7201a8\"],[0.3333333333333333,\"#9c179e\"],[0.4444444444444444,\"#bd3786\"],[0.5555555555555556,\"#d8576b\"],[0.6666666666666666,\"#ed7953\"],[0.7777777777777778,\"#fb9f3a\"],[0.8888888888888888,\"#fdca26\"],[1.0,\"#f0f921\"]],\"type\":\"surface\"}],\"table\":[{\"cells\":{\"fill\":{\"color\":\"#EBF0F8\"},\"line\":{\"color\":\"white\"}},\"header\":{\"fill\":{\"color\":\"#C8D4E3\"},\"line\":{\"color\":\"white\"}},\"type\":\"table\"}]},\"layout\":{\"annotationdefaults\":{\"arrowcolor\":\"#2a3f5f\",\"arrowhead\":0,\"arrowwidth\":1},\"autotypenumbers\":\"strict\",\"coloraxis\":{\"colorbar\":{\"outlinewidth\":0,\"ticks\":\"\"}},\"colorscale\":{\"diverging\":[[0,\"#8e0152\"],[0.1,\"#c51b7d\"],[0.2,\"#de77ae\"],[0.3,\"#f1b6da\"],[0.4,\"#fde0ef\"],[0.5,\"#f7f7f7\"],[0.6,\"#e6f5d0\"],[0.7,\"#b8e186\"],[0.8,\"#7fbc41\"],[0.9,\"#4d9221\"],[1,\"#276419\"]],\"sequential\":[[0.0,\"#0d0887\"],[0.1111111111111111,\"#46039f\"],[0.2222222222222222,\"#7201a8\"],[0.3333333333333333,\"#9c179e\"],[0.4444444444444444,\"#bd3786\"],[0.5555555555555556,\"#d8576b\"],[0.6666666666666666,\"#ed7953\"],[0.7777777777777778,\"#fb9f3a\"],[0.8888888888888888,\"#fdca26\"],[1.0,\"#f0f921\"]],\"sequentialminus\":[[0.0,\"#0d0887\"],[0.1111111111111111,\"#46039f\"],[0.2222222222222222,\"#7201a8\"],[0.3333333333333333,\"#9c179e\"],[0.4444444444444444,\"#bd3786\"],[0.5555555555555556,\"#d8576b\"],[0.6666666666666666,\"#ed7953\"],[0.7777777777777778,\"#fb9f3a\"],[0.8888888888888888,\"#fdca26\"],[1.0,\"#f0f921\"]]},\"colorway\":[\"#636efa\",\"#EF553B\",\"#00cc96\",\"#ab63fa\",\"#FFA15A\",\"#19d3f3\",\"#FF6692\",\"#B6E880\",\"#FF97FF\",\"#FECB52\"],\"font\":{\"color\":\"#2a3f5f\"},\"geo\":{\"bgcolor\":\"white\",\"lakecolor\":\"white\",\"landcolor\":\"white\",\"showlakes\":true,\"showland\":true,\"subunitcolor\":\"#C8D4E3\"},\"hoverlabel\":{\"align\":\"left\"},\"hovermode\":\"closest\",\"mapbox\":{\"style\":\"light\"},\"paper_bgcolor\":\"white\",\"plot_bgcolor\":\"white\",\"polar\":{\"angularaxis\":{\"gridcolor\":\"#EBF0F8\",\"linecolor\":\"#EBF0F8\",\"ticks\":\"\"},\"bgcolor\":\"white\",\"radialaxis\":{\"gridcolor\":\"#EBF0F8\",\"linecolor\":\"#EBF0F8\",\"ticks\":\"\"}},\"scene\":{\"xaxis\":{\"backgroundcolor\":\"white\",\"gridcolor\":\"#DFE8F3\",\"gridwidth\":2,\"linecolor\":\"#EBF0F8\",\"showbackground\":true,\"ticks\":\"\",\"zerolinecolor\":\"#EBF0F8\"},\"yaxis\":{\"backgroundcolor\":\"white\",\"gridcolor\":\"#DFE8F3\",\"gridwidth\":2,\"linecolor\":\"#EBF0F8\",\"showbackground\":true,\"ticks\":\"\",\"zerolinecolor\":\"#EBF0F8\"},\"zaxis\":{\"backgroundcolor\":\"white\",\"gridcolor\":\"#DFE8F3\",\"gridwidth\":2,\"linecolor\":\"#EBF0F8\",\"showbackground\":true,\"ticks\":\"\",\"zerolinecolor\":\"#EBF0F8\"}},\"shapedefaults\":{\"line\":{\"color\":\"#2a3f5f\"}},\"ternary\":{\"aaxis\":{\"gridcolor\":\"#DFE8F3\",\"linecolor\":\"#A2B1C6\",\"ticks\":\"\"},\"baxis\":{\"gridcolor\":\"#DFE8F3\",\"linecolor\":\"#A2B1C6\",\"ticks\":\"\"},\"bgcolor\":\"white\",\"caxis\":{\"gridcolor\":\"#DFE8F3\",\"linecolor\":\"#A2B1C6\",\"ticks\":\"\"}},\"title\":{\"x\":0.05},\"xaxis\":{\"automargin\":true,\"gridcolor\":\"#EBF0F8\",\"linecolor\":\"#EBF0F8\",\"ticks\":\"\",\"title\":{\"standoff\":15},\"zerolinecolor\":\"#EBF0F8\",\"zerolinewidth\":2},\"yaxis\":{\"automargin\":true,\"gridcolor\":\"#EBF0F8\",\"linecolor\":\"#EBF0F8\",\"ticks\":\"\",\"title\":{\"standoff\":15},\"zerolinecolor\":\"#EBF0F8\",\"zerolinewidth\":2}}},\"xaxis\":{\"anchor\":\"y\",\"domain\":[0.0,0.94]},\"yaxis\":{\"anchor\":\"x\",\"domain\":[0.0,1.0],\"title\":{\"font\":{\"size\":20},\"text\":\"Normalised SHD = SHD \\u002f Number of Edges in DAG\"},\"range\":[0,0.3]},\"yaxis2\":{\"anchor\":\"x\",\"overlaying\":\"y\",\"side\":\"right\",\"scaleanchor\":0,\"showline\":false,\"showgrid\":false,\"showticklabels\":true,\"zeroline\":true,\"title\":{\"font\":{\"size\":20},\"text\":\"Normalised SID = SID \\u002f Number of Edges in DAG\"},\"range\":[0,5.3]},\"legend\":{\"orientation\":\"h\",\"xanchor\":\"center\",\"x\":0.5,\"yanchor\":\"top\",\"y\":1.1},\"margin\":{\"l\":40,\"r\":40,\"b\":80,\"t\":20},\"font\":{\"size\":20,\"family\":\"Serif\",\"color\":\"black\"},\"barmode\":\"group\",\"bargap\":0.15,\"bargroupgap\":0.1,\"width\":1600,\"height\":700,\"hovermode\":\"x unified\",\"annotations\":[{\"font\":{\"color\":\"Black\",\"family\":\"Serif\",\"size\":20},\"showarrow\":false,\"text\":\"Dataset:\",\"x\":0,\"xanchor\":\"center\",\"xref\":\"paper\",\"y\":-0.08,\"yanchor\":\"bottom\",\"yref\":\"paper\"},{\"bgcolor\":\"#E5ECF6\",\"bordercolor\":\"#E5ECF6\",\"borderwidth\":2,\"font\":{\"color\":\"black\",\"size\":20},\"opacity\":0.8,\"showarrow\":false,\"text\":\"         NSHD         \",\"x\":0.017,\"xanchor\":\"left\",\"xref\":\"x domain\",\"y\":1.015,\"yref\":\"y domain\"},{\"bgcolor\":\"#E5ECF6\",\"bordercolor\":\"#E5ECF6\",\"borderwidth\":2,\"font\":{\"color\":\"black\",\"size\":20},\"opacity\":0.8,\"showarrow\":false,\"text\":\"         NSID         \",\"x\":0.137,\"xanchor\":\"left\",\"xref\":\"x domain\",\"y\":1.015,\"yref\":\"y domain\"},{\"bgcolor\":\"#E5ECF6\",\"bordercolor\":\"#E5ECF6\",\"borderwidth\":2,\"font\":{\"color\":\"black\",\"size\":20},\"opacity\":0.8,\"showarrow\":false,\"text\":\"         NSHD         \",\"x\":0.267,\"xanchor\":\"left\",\"xref\":\"x domain\",\"y\":1.015,\"yref\":\"y domain\"},{\"bgcolor\":\"#E5ECF6\",\"bordercolor\":\"#E5ECF6\",\"borderwidth\":2,\"font\":{\"color\":\"black\",\"size\":20},\"opacity\":0.8,\"showarrow\":false,\"text\":\"         NSID         \",\"x\":0.387,\"xanchor\":\"left\",\"xref\":\"x domain\",\"y\":1.015,\"yref\":\"y domain\"},{\"bgcolor\":\"#E5ECF6\",\"bordercolor\":\"#E5ECF6\",\"borderwidth\":2,\"font\":{\"color\":\"black\",\"size\":20},\"opacity\":0.8,\"showarrow\":false,\"text\":\"         NSHD         \",\"x\":0.517,\"xanchor\":\"left\",\"xref\":\"x domain\",\"y\":1.015,\"yref\":\"y domain\"},{\"bgcolor\":\"#E5ECF6\",\"bordercolor\":\"#E5ECF6\",\"borderwidth\":2,\"font\":{\"color\":\"black\",\"size\":20},\"opacity\":0.8,\"showarrow\":false,\"text\":\"         NSID         \",\"x\":0.637,\"xanchor\":\"left\",\"xref\":\"x domain\",\"y\":1.015,\"yref\":\"y domain\"},{\"bgcolor\":\"#E5ECF6\",\"bordercolor\":\"#E5ECF6\",\"borderwidth\":2,\"font\":{\"color\":\"black\",\"size\":20},\"opacity\":0.8,\"showarrow\":false,\"text\":\"         NSHD         \",\"x\":0.767,\"xanchor\":\"left\",\"xref\":\"x domain\",\"y\":1.015,\"yref\":\"y domain\"},{\"bgcolor\":\"#E5ECF6\",\"bordercolor\":\"#E5ECF6\",\"borderwidth\":2,\"font\":{\"color\":\"black\",\"size\":20},\"opacity\":0.8,\"showarrow\":false,\"text\":\"         NSID         \",\"x\":0.887,\"xanchor\":\"left\",\"xref\":\"x domain\",\"y\":1.015,\"yref\":\"y domain\"}]},                        {\"responsive\": true}                    ).then(function(){\n",
       "                            \n",
       "var gd = document.getElementById('680a3bdb-d479-4a11-9cd7-df5b3b06d73b');\n",
       "var x = new MutationObserver(function (mutations, observer) {{\n",
       "        var display = window.getComputedStyle(gd).display;\n",
       "        if (!display || display === 'none') {{\n",
       "            console.log([gd, 'removed!']);\n",
       "            Plotly.purge(gd);\n",
       "            observer.disconnect();\n",
       "        }}\n",
       "}});\n",
       "\n",
       "// Listen for the removal of the full notebook cells\n",
       "var notebookContainer = gd.closest('#notebook-container');\n",
       "if (notebookContainer) {{\n",
       "    x.observe(notebookContainer, {childList: true});\n",
       "}}\n",
       "\n",
       "// Listen for the clearing of the current output cell\n",
       "var outputEl = gd.closest('.output');\n",
       "if (outputEl) {{\n",
       "    x.observe(outputEl, {childList: true});\n",
       "}}\n",
       "\n",
       "                        })                };                });            </script>        </div>"
      ]
     },
     "metadata": {},
     "output_type": "display_data"
    },
    {
     "data": {
      "application/vnd.plotly.v1+json": {
       "config": {
        "plotlyServerURL": "https://plot.ly"
       },
       "data": [
        {
         "error_y": {
          "array": [
           0.18,
           0.18,
           0.12,
           0.08
          ],
          "type": "data",
          "visible": true
         },
         "marker": {
          "color": "grey"
         },
         "name": "Random",
         "offsetgroup": "0",
         "opacity": 0.6,
         "showlegend": true,
         "type": "bar",
         "x": [
          "CANCER<br> |V|=5, |E|=4, s=0.4",
          "EARTHQUAKE<br> |V|=5, |E|=4, s=0.4",
          "SURVEY<br> |V|=6, |E|=6, s=0.4",
          "ASIA<br> |V|=8, |E|=8, s=0.29"
         ],
         "y": [
          0.28,
          0.22,
          0.15,
          0.1
         ],
         "yaxis": "y"
        },
        {
         "error_y": {
          "array": [
           null,
           null,
           null,
           null
          ],
          "type": "data",
          "visible": true
         },
         "marker": {
          "color": "#379f9f"
         },
         "name": "FGS",
         "offsetgroup": "1",
         "opacity": 0.6,
         "showlegend": true,
         "type": "bar",
         "x": [
          "CANCER<br> |V|=5, |E|=4, s=0.4",
          "EARTHQUAKE<br> |V|=5, |E|=4, s=0.4",
          "SURVEY<br> |V|=6, |E|=6, s=0.4",
          "ASIA<br> |V|=8, |E|=8, s=0.29"
         ],
         "y": [
          0.33,
          0.5,
          0.5,
          0.29
         ],
         "yaxis": "y"
        },
        {
         "error_y": {
          "array": [
           null,
           null,
           null,
           null
          ],
          "type": "data",
          "visible": true
         },
         "marker": {
          "color": "#9454c4"
         },
         "name": "NOTEARS-MLP",
         "offsetgroup": "2",
         "opacity": 0.6,
         "showlegend": true,
         "type": "bar",
         "x": [
          "CANCER<br> |V|=5, |E|=4, s=0.4",
          "EARTHQUAKE<br> |V|=5, |E|=4, s=0.4",
          "SURVEY<br> |V|=6, |E|=6, s=0.4",
          "ASIA<br> |V|=8, |E|=8, s=0.29"
         ],
         "y": [
          null,
          null,
          null,
          null
         ],
         "yaxis": "y"
        },
        {
         "error_y": {
          "array": [
           null,
           null,
           null,
           null
          ],
          "type": "data",
          "visible": true
         },
         "marker": {
          "color": "#b85c00"
         },
         "name": "Shapley-PC",
         "offsetgroup": "3",
         "opacity": 0.6,
         "showlegend": true,
         "type": "bar",
         "x": [
          "CANCER<br> |V|=5, |E|=4, s=0.4",
          "EARTHQUAKE<br> |V|=5, |E|=4, s=0.4",
          "SURVEY<br> |V|=6, |E|=6, s=0.4",
          "ASIA<br> |V|=8, |E|=8, s=0.29"
         ],
         "y": [
          0.67,
          0.5,
          null,
          0.4
         ],
         "yaxis": "y"
        },
        {
         "error_y": {
          "array": [
           null,
           null,
           null,
           null
          ],
          "type": "data",
          "visible": true
         },
         "marker": {
          "color": "#0085CA"
         },
         "name": "ABAPC (Ours)",
         "offsetgroup": "4",
         "opacity": 0.6,
         "showlegend": true,
         "type": "bar",
         "x": [
          "CANCER<br> |V|=5, |E|=4, s=0.4",
          "EARTHQUAKE<br> |V|=5, |E|=4, s=0.4",
          "SURVEY<br> |V|=6, |E|=6, s=0.4",
          "ASIA<br> |V|=8, |E|=8, s=0.29"
         ],
         "y": [
          0.33,
          1,
          1,
          1
         ],
         "yaxis": "y"
        },
        {
         "marker": {
          "color": "white"
         },
         "name": "",
         "offsetgroup": "5",
         "opacity": 1,
         "showlegend": false,
         "type": "bar",
         "x": [
          "CANCER<br> |V|=5, |E|=4, s=0.4",
          "EARTHQUAKE<br> |V|=5, |E|=4, s=0.4",
          "SURVEY<br> |V|=6, |E|=6, s=0.4",
          "ASIA<br> |V|=8, |E|=8, s=0.29"
         ],
         "y": [
          0,
          0,
          0,
          0
         ]
        },
        {
         "error_y": {
          "array": [
           0.18,
           0.18,
           0.12,
           0.08
          ],
          "type": "data",
          "visible": true
         },
         "marker": {
          "color": "grey"
         },
         "name": "Random",
         "offsetgroup": "6",
         "opacity": 0.6,
         "showlegend": false,
         "type": "bar",
         "x": [
          "CANCER<br> |V|=5, |E|=4, s=0.4",
          "EARTHQUAKE<br> |V|=5, |E|=4, s=0.4",
          "SURVEY<br> |V|=6, |E|=6, s=0.4",
          "ASIA<br> |V|=8, |E|=8, s=0.29"
         ],
         "y": [
          0.28,
          0.22,
          0.15,
          0.1
         ],
         "yaxis": "y2"
        },
        {
         "error_y": {
          "array": [
           null,
           null,
           null,
           null
          ],
          "type": "data",
          "visible": true
         },
         "marker": {
          "color": "#379f9f"
         },
         "name": "FGS",
         "offsetgroup": "7",
         "opacity": 0.6,
         "showlegend": false,
         "type": "bar",
         "x": [
          "CANCER<br> |V|=5, |E|=4, s=0.4",
          "EARTHQUAKE<br> |V|=5, |E|=4, s=0.4",
          "SURVEY<br> |V|=6, |E|=6, s=0.4",
          "ASIA<br> |V|=8, |E|=8, s=0.29"
         ],
         "y": [
          0.25,
          0.5,
          0.17,
          0.25
         ],
         "yaxis": "y2"
        },
        {
         "error_y": {
          "array": [
           0,
           0,
           0,
           0
          ],
          "type": "data",
          "visible": true
         },
         "marker": {
          "color": "#9454c4"
         },
         "name": "NOTEARS-MLP",
         "offsetgroup": "8",
         "opacity": 0.6,
         "showlegend": false,
         "type": "bar",
         "x": [
          "CANCER<br> |V|=5, |E|=4, s=0.4",
          "EARTHQUAKE<br> |V|=5, |E|=4, s=0.4",
          "SURVEY<br> |V|=6, |E|=6, s=0.4",
          "ASIA<br> |V|=8, |E|=8, s=0.29"
         ],
         "y": [
          0,
          0,
          0,
          0
         ],
         "yaxis": "y2"
        },
        {
         "error_y": {
          "array": [
           null,
           null,
           null,
           null
          ],
          "type": "data",
          "visible": true
         },
         "marker": {
          "color": "#b85c00"
         },
         "name": "Shapley-PC",
         "offsetgroup": "9",
         "opacity": 0.6,
         "showlegend": false,
         "type": "bar",
         "x": [
          "CANCER<br> |V|=5, |E|=4, s=0.4",
          "EARTHQUAKE<br> |V|=5, |E|=4, s=0.4",
          "SURVEY<br> |V|=6, |E|=6, s=0.4",
          "ASIA<br> |V|=8, |E|=8, s=0.29"
         ],
         "y": [
          0.5,
          0.5,
          0,
          0.25
         ],
         "yaxis": "y2"
        },
        {
         "error_y": {
          "array": [
           null,
           null,
           null,
           null
          ],
          "type": "data",
          "visible": true
         },
         "marker": {
          "color": "#0085CA"
         },
         "name": "ABAPC (Ours)",
         "offsetgroup": "10",
         "opacity": 0.6,
         "showlegend": false,
         "type": "bar",
         "x": [
          "CANCER<br> |V|=5, |E|=4, s=0.4",
          "EARTHQUAKE<br> |V|=5, |E|=4, s=0.4",
          "SURVEY<br> |V|=6, |E|=6, s=0.4",
          "ASIA<br> |V|=8, |E|=8, s=0.29"
         ],
         "y": [
          0.25,
          1,
          0.33,
          0.75
         ],
         "yaxis": "y2"
        }
       ],
       "layout": {
        "annotations": [
         {
          "font": {
           "color": "Black",
           "family": "Serif",
           "size": 20
          },
          "showarrow": false,
          "text": "Dataset:",
          "x": 0,
          "xanchor": "center",
          "xref": "paper",
          "y": -0.08,
          "yanchor": "bottom",
          "yref": "paper"
         },
         {
          "bgcolor": "#E5ECF6",
          "bordercolor": "#E5ECF6",
          "borderwidth": 2,
          "font": {
           "color": "black",
           "size": 20
          },
          "opacity": 0.8,
          "showarrow": false,
          "text": "      Precision      ",
          "x": 0.017,
          "xanchor": "left",
          "xref": "x domain",
          "y": 1.015,
          "yref": "y domain"
         },
         {
          "bgcolor": "#E5ECF6",
          "bordercolor": "#E5ECF6",
          "borderwidth": 2,
          "font": {
           "color": "black",
           "size": 20
          },
          "opacity": 0.8,
          "showarrow": false,
          "text": "        Recall        ",
          "x": 0.132,
          "xanchor": "left",
          "xref": "x domain",
          "y": 1.015,
          "yref": "y domain"
         },
         {
          "bgcolor": "#E5ECF6",
          "bordercolor": "#E5ECF6",
          "borderwidth": 2,
          "font": {
           "color": "black",
           "size": 20
          },
          "opacity": 0.8,
          "showarrow": false,
          "text": "      Precision      ",
          "x": 0.267,
          "xanchor": "left",
          "xref": "x domain",
          "y": 1.015,
          "yref": "y domain"
         },
         {
          "bgcolor": "#E5ECF6",
          "bordercolor": "#E5ECF6",
          "borderwidth": 2,
          "font": {
           "color": "black",
           "size": 20
          },
          "opacity": 0.8,
          "showarrow": false,
          "text": "        Recall        ",
          "x": 0.382,
          "xanchor": "left",
          "xref": "x domain",
          "y": 1.015,
          "yref": "y domain"
         },
         {
          "bgcolor": "#E5ECF6",
          "bordercolor": "#E5ECF6",
          "borderwidth": 2,
          "font": {
           "color": "black",
           "size": 20
          },
          "opacity": 0.8,
          "showarrow": false,
          "text": "      Precision      ",
          "x": 0.517,
          "xanchor": "left",
          "xref": "x domain",
          "y": 1.015,
          "yref": "y domain"
         },
         {
          "bgcolor": "#E5ECF6",
          "bordercolor": "#E5ECF6",
          "borderwidth": 2,
          "font": {
           "color": "black",
           "size": 20
          },
          "opacity": 0.8,
          "showarrow": false,
          "text": "        Recall        ",
          "x": 0.632,
          "xanchor": "left",
          "xref": "x domain",
          "y": 1.015,
          "yref": "y domain"
         },
         {
          "bgcolor": "#E5ECF6",
          "bordercolor": "#E5ECF6",
          "borderwidth": 2,
          "font": {
           "color": "black",
           "size": 20
          },
          "opacity": 0.8,
          "showarrow": false,
          "text": "      Precision      ",
          "x": 0.767,
          "xanchor": "left",
          "xref": "x domain",
          "y": 1.015,
          "yref": "y domain"
         },
         {
          "bgcolor": "#E5ECF6",
          "bordercolor": "#E5ECF6",
          "borderwidth": 2,
          "font": {
           "color": "black",
           "size": 20
          },
          "opacity": 0.8,
          "showarrow": false,
          "text": "        Recall        ",
          "x": 0.882,
          "xanchor": "left",
          "xref": "x domain",
          "y": 1.015,
          "yref": "y domain"
         }
        ],
        "bargap": 0.15,
        "bargroupgap": 0.1,
        "barmode": "group",
        "font": {
         "color": "black",
         "family": "Serif",
         "size": 20
        },
        "height": 700,
        "hovermode": "x unified",
        "legend": {
         "orientation": "h",
         "x": 0.5,
         "xanchor": "center",
         "y": 1.1,
         "yanchor": "top"
        },
        "margin": {
         "b": 80,
         "l": 40,
         "r": 40,
         "t": 20
        },
        "template": {
         "data": {
          "bar": [
           {
            "error_x": {
             "color": "#2a3f5f"
            },
            "error_y": {
             "color": "#2a3f5f"
            },
            "marker": {
             "line": {
              "color": "white",
              "width": 0.5
             },
             "pattern": {
              "fillmode": "overlay",
              "size": 10,
              "solidity": 0.2
             }
            },
            "type": "bar"
           }
          ],
          "barpolar": [
           {
            "marker": {
             "line": {
              "color": "white",
              "width": 0.5
             },
             "pattern": {
              "fillmode": "overlay",
              "size": 10,
              "solidity": 0.2
             }
            },
            "type": "barpolar"
           }
          ],
          "carpet": [
           {
            "aaxis": {
             "endlinecolor": "#2a3f5f",
             "gridcolor": "#C8D4E3",
             "linecolor": "#C8D4E3",
             "minorgridcolor": "#C8D4E3",
             "startlinecolor": "#2a3f5f"
            },
            "baxis": {
             "endlinecolor": "#2a3f5f",
             "gridcolor": "#C8D4E3",
             "linecolor": "#C8D4E3",
             "minorgridcolor": "#C8D4E3",
             "startlinecolor": "#2a3f5f"
            },
            "type": "carpet"
           }
          ],
          "choropleth": [
           {
            "colorbar": {
             "outlinewidth": 0,
             "ticks": ""
            },
            "type": "choropleth"
           }
          ],
          "contour": [
           {
            "colorbar": {
             "outlinewidth": 0,
             "ticks": ""
            },
            "colorscale": [
             [
              0,
              "#0d0887"
             ],
             [
              0.1111111111111111,
              "#46039f"
             ],
             [
              0.2222222222222222,
              "#7201a8"
             ],
             [
              0.3333333333333333,
              "#9c179e"
             ],
             [
              0.4444444444444444,
              "#bd3786"
             ],
             [
              0.5555555555555556,
              "#d8576b"
             ],
             [
              0.6666666666666666,
              "#ed7953"
             ],
             [
              0.7777777777777778,
              "#fb9f3a"
             ],
             [
              0.8888888888888888,
              "#fdca26"
             ],
             [
              1,
              "#f0f921"
             ]
            ],
            "type": "contour"
           }
          ],
          "contourcarpet": [
           {
            "colorbar": {
             "outlinewidth": 0,
             "ticks": ""
            },
            "type": "contourcarpet"
           }
          ],
          "heatmap": [
           {
            "colorbar": {
             "outlinewidth": 0,
             "ticks": ""
            },
            "colorscale": [
             [
              0,
              "#0d0887"
             ],
             [
              0.1111111111111111,
              "#46039f"
             ],
             [
              0.2222222222222222,
              "#7201a8"
             ],
             [
              0.3333333333333333,
              "#9c179e"
             ],
             [
              0.4444444444444444,
              "#bd3786"
             ],
             [
              0.5555555555555556,
              "#d8576b"
             ],
             [
              0.6666666666666666,
              "#ed7953"
             ],
             [
              0.7777777777777778,
              "#fb9f3a"
             ],
             [
              0.8888888888888888,
              "#fdca26"
             ],
             [
              1,
              "#f0f921"
             ]
            ],
            "type": "heatmap"
           }
          ],
          "heatmapgl": [
           {
            "colorbar": {
             "outlinewidth": 0,
             "ticks": ""
            },
            "colorscale": [
             [
              0,
              "#0d0887"
             ],
             [
              0.1111111111111111,
              "#46039f"
             ],
             [
              0.2222222222222222,
              "#7201a8"
             ],
             [
              0.3333333333333333,
              "#9c179e"
             ],
             [
              0.4444444444444444,
              "#bd3786"
             ],
             [
              0.5555555555555556,
              "#d8576b"
             ],
             [
              0.6666666666666666,
              "#ed7953"
             ],
             [
              0.7777777777777778,
              "#fb9f3a"
             ],
             [
              0.8888888888888888,
              "#fdca26"
             ],
             [
              1,
              "#f0f921"
             ]
            ],
            "type": "heatmapgl"
           }
          ],
          "histogram": [
           {
            "marker": {
             "pattern": {
              "fillmode": "overlay",
              "size": 10,
              "solidity": 0.2
             }
            },
            "type": "histogram"
           }
          ],
          "histogram2d": [
           {
            "colorbar": {
             "outlinewidth": 0,
             "ticks": ""
            },
            "colorscale": [
             [
              0,
              "#0d0887"
             ],
             [
              0.1111111111111111,
              "#46039f"
             ],
             [
              0.2222222222222222,
              "#7201a8"
             ],
             [
              0.3333333333333333,
              "#9c179e"
             ],
             [
              0.4444444444444444,
              "#bd3786"
             ],
             [
              0.5555555555555556,
              "#d8576b"
             ],
             [
              0.6666666666666666,
              "#ed7953"
             ],
             [
              0.7777777777777778,
              "#fb9f3a"
             ],
             [
              0.8888888888888888,
              "#fdca26"
             ],
             [
              1,
              "#f0f921"
             ]
            ],
            "type": "histogram2d"
           }
          ],
          "histogram2dcontour": [
           {
            "colorbar": {
             "outlinewidth": 0,
             "ticks": ""
            },
            "colorscale": [
             [
              0,
              "#0d0887"
             ],
             [
              0.1111111111111111,
              "#46039f"
             ],
             [
              0.2222222222222222,
              "#7201a8"
             ],
             [
              0.3333333333333333,
              "#9c179e"
             ],
             [
              0.4444444444444444,
              "#bd3786"
             ],
             [
              0.5555555555555556,
              "#d8576b"
             ],
             [
              0.6666666666666666,
              "#ed7953"
             ],
             [
              0.7777777777777778,
              "#fb9f3a"
             ],
             [
              0.8888888888888888,
              "#fdca26"
             ],
             [
              1,
              "#f0f921"
             ]
            ],
            "type": "histogram2dcontour"
           }
          ],
          "mesh3d": [
           {
            "colorbar": {
             "outlinewidth": 0,
             "ticks": ""
            },
            "type": "mesh3d"
           }
          ],
          "parcoords": [
           {
            "line": {
             "colorbar": {
              "outlinewidth": 0,
              "ticks": ""
             }
            },
            "type": "parcoords"
           }
          ],
          "pie": [
           {
            "automargin": true,
            "type": "pie"
           }
          ],
          "scatter": [
           {
            "fillpattern": {
             "fillmode": "overlay",
             "size": 10,
             "solidity": 0.2
            },
            "type": "scatter"
           }
          ],
          "scatter3d": [
           {
            "line": {
             "colorbar": {
              "outlinewidth": 0,
              "ticks": ""
             }
            },
            "marker": {
             "colorbar": {
              "outlinewidth": 0,
              "ticks": ""
             }
            },
            "type": "scatter3d"
           }
          ],
          "scattercarpet": [
           {
            "marker": {
             "colorbar": {
              "outlinewidth": 0,
              "ticks": ""
             }
            },
            "type": "scattercarpet"
           }
          ],
          "scattergeo": [
           {
            "marker": {
             "colorbar": {
              "outlinewidth": 0,
              "ticks": ""
             }
            },
            "type": "scattergeo"
           }
          ],
          "scattergl": [
           {
            "marker": {
             "colorbar": {
              "outlinewidth": 0,
              "ticks": ""
             }
            },
            "type": "scattergl"
           }
          ],
          "scattermapbox": [
           {
            "marker": {
             "colorbar": {
              "outlinewidth": 0,
              "ticks": ""
             }
            },
            "type": "scattermapbox"
           }
          ],
          "scatterpolar": [
           {
            "marker": {
             "colorbar": {
              "outlinewidth": 0,
              "ticks": ""
             }
            },
            "type": "scatterpolar"
           }
          ],
          "scatterpolargl": [
           {
            "marker": {
             "colorbar": {
              "outlinewidth": 0,
              "ticks": ""
             }
            },
            "type": "scatterpolargl"
           }
          ],
          "scatterternary": [
           {
            "marker": {
             "colorbar": {
              "outlinewidth": 0,
              "ticks": ""
             }
            },
            "type": "scatterternary"
           }
          ],
          "surface": [
           {
            "colorbar": {
             "outlinewidth": 0,
             "ticks": ""
            },
            "colorscale": [
             [
              0,
              "#0d0887"
             ],
             [
              0.1111111111111111,
              "#46039f"
             ],
             [
              0.2222222222222222,
              "#7201a8"
             ],
             [
              0.3333333333333333,
              "#9c179e"
             ],
             [
              0.4444444444444444,
              "#bd3786"
             ],
             [
              0.5555555555555556,
              "#d8576b"
             ],
             [
              0.6666666666666666,
              "#ed7953"
             ],
             [
              0.7777777777777778,
              "#fb9f3a"
             ],
             [
              0.8888888888888888,
              "#fdca26"
             ],
             [
              1,
              "#f0f921"
             ]
            ],
            "type": "surface"
           }
          ],
          "table": [
           {
            "cells": {
             "fill": {
              "color": "#EBF0F8"
             },
             "line": {
              "color": "white"
             }
            },
            "header": {
             "fill": {
              "color": "#C8D4E3"
             },
             "line": {
              "color": "white"
             }
            },
            "type": "table"
           }
          ]
         },
         "layout": {
          "annotationdefaults": {
           "arrowcolor": "#2a3f5f",
           "arrowhead": 0,
           "arrowwidth": 1
          },
          "autotypenumbers": "strict",
          "coloraxis": {
           "colorbar": {
            "outlinewidth": 0,
            "ticks": ""
           }
          },
          "colorscale": {
           "diverging": [
            [
             0,
             "#8e0152"
            ],
            [
             0.1,
             "#c51b7d"
            ],
            [
             0.2,
             "#de77ae"
            ],
            [
             0.3,
             "#f1b6da"
            ],
            [
             0.4,
             "#fde0ef"
            ],
            [
             0.5,
             "#f7f7f7"
            ],
            [
             0.6,
             "#e6f5d0"
            ],
            [
             0.7,
             "#b8e186"
            ],
            [
             0.8,
             "#7fbc41"
            ],
            [
             0.9,
             "#4d9221"
            ],
            [
             1,
             "#276419"
            ]
           ],
           "sequential": [
            [
             0,
             "#0d0887"
            ],
            [
             0.1111111111111111,
             "#46039f"
            ],
            [
             0.2222222222222222,
             "#7201a8"
            ],
            [
             0.3333333333333333,
             "#9c179e"
            ],
            [
             0.4444444444444444,
             "#bd3786"
            ],
            [
             0.5555555555555556,
             "#d8576b"
            ],
            [
             0.6666666666666666,
             "#ed7953"
            ],
            [
             0.7777777777777778,
             "#fb9f3a"
            ],
            [
             0.8888888888888888,
             "#fdca26"
            ],
            [
             1,
             "#f0f921"
            ]
           ],
           "sequentialminus": [
            [
             0,
             "#0d0887"
            ],
            [
             0.1111111111111111,
             "#46039f"
            ],
            [
             0.2222222222222222,
             "#7201a8"
            ],
            [
             0.3333333333333333,
             "#9c179e"
            ],
            [
             0.4444444444444444,
             "#bd3786"
            ],
            [
             0.5555555555555556,
             "#d8576b"
            ],
            [
             0.6666666666666666,
             "#ed7953"
            ],
            [
             0.7777777777777778,
             "#fb9f3a"
            ],
            [
             0.8888888888888888,
             "#fdca26"
            ],
            [
             1,
             "#f0f921"
            ]
           ]
          },
          "colorway": [
           "#636efa",
           "#EF553B",
           "#00cc96",
           "#ab63fa",
           "#FFA15A",
           "#19d3f3",
           "#FF6692",
           "#B6E880",
           "#FF97FF",
           "#FECB52"
          ],
          "font": {
           "color": "#2a3f5f"
          },
          "geo": {
           "bgcolor": "white",
           "lakecolor": "white",
           "landcolor": "white",
           "showlakes": true,
           "showland": true,
           "subunitcolor": "#C8D4E3"
          },
          "hoverlabel": {
           "align": "left"
          },
          "hovermode": "closest",
          "mapbox": {
           "style": "light"
          },
          "paper_bgcolor": "white",
          "plot_bgcolor": "white",
          "polar": {
           "angularaxis": {
            "gridcolor": "#EBF0F8",
            "linecolor": "#EBF0F8",
            "ticks": ""
           },
           "bgcolor": "white",
           "radialaxis": {
            "gridcolor": "#EBF0F8",
            "linecolor": "#EBF0F8",
            "ticks": ""
           }
          },
          "scene": {
           "xaxis": {
            "backgroundcolor": "white",
            "gridcolor": "#DFE8F3",
            "gridwidth": 2,
            "linecolor": "#EBF0F8",
            "showbackground": true,
            "ticks": "",
            "zerolinecolor": "#EBF0F8"
           },
           "yaxis": {
            "backgroundcolor": "white",
            "gridcolor": "#DFE8F3",
            "gridwidth": 2,
            "linecolor": "#EBF0F8",
            "showbackground": true,
            "ticks": "",
            "zerolinecolor": "#EBF0F8"
           },
           "zaxis": {
            "backgroundcolor": "white",
            "gridcolor": "#DFE8F3",
            "gridwidth": 2,
            "linecolor": "#EBF0F8",
            "showbackground": true,
            "ticks": "",
            "zerolinecolor": "#EBF0F8"
           }
          },
          "shapedefaults": {
           "line": {
            "color": "#2a3f5f"
           }
          },
          "ternary": {
           "aaxis": {
            "gridcolor": "#DFE8F3",
            "linecolor": "#A2B1C6",
            "ticks": ""
           },
           "baxis": {
            "gridcolor": "#DFE8F3",
            "linecolor": "#A2B1C6",
            "ticks": ""
           },
           "bgcolor": "white",
           "caxis": {
            "gridcolor": "#DFE8F3",
            "linecolor": "#A2B1C6",
            "ticks": ""
           }
          },
          "title": {
           "x": 0.05
          },
          "xaxis": {
           "automargin": true,
           "gridcolor": "#EBF0F8",
           "linecolor": "#EBF0F8",
           "ticks": "",
           "title": {
            "standoff": 15
           },
           "zerolinecolor": "#EBF0F8",
           "zerolinewidth": 2
          },
          "yaxis": {
           "automargin": true,
           "gridcolor": "#EBF0F8",
           "linecolor": "#EBF0F8",
           "ticks": "",
           "title": {
            "standoff": 15
           },
           "zerolinecolor": "#EBF0F8",
           "zerolinewidth": 2
          }
         }
        },
        "width": 1600,
        "xaxis": {
         "anchor": "y",
         "domain": [
          0,
          0.94
         ]
        },
        "yaxis": {
         "anchor": "x",
         "domain": [
          0,
          1
         ],
         "range": [
          0,
          1.3
         ],
         "title": {
          "font": {
           "size": 20
          },
          "text": "Precision"
         }
        },
        "yaxis2": {
         "anchor": "x",
         "overlaying": "y",
         "range": [
          0,
          1.3
         ],
         "scaleanchor": 0,
         "showgrid": false,
         "showline": false,
         "showticklabels": true,
         "side": "right",
         "title": {
          "font": {
           "size": 20
          },
          "text": "Recall"
         },
         "zeroline": true
        }
       }
      },
      "text/html": [
       "<div>                            <div id=\"99e45b8d-4621-4107-ac23-e5745d95c8d9\" class=\"plotly-graph-div\" style=\"height:700px; width:1600px;\"></div>            <script type=\"text/javascript\">                require([\"plotly\"], function(Plotly) {                    window.PLOTLYENV=window.PLOTLYENV || {};                                    if (document.getElementById(\"99e45b8d-4621-4107-ac23-e5745d95c8d9\")) {                    Plotly.newPlot(                        \"99e45b8d-4621-4107-ac23-e5745d95c8d9\",                        [{\"error_y\":{\"array\":[0.18,0.18,0.12,0.08],\"type\":\"data\",\"visible\":true},\"marker\":{\"color\":\"grey\"},\"name\":\"Random\",\"offsetgroup\":\"0\",\"opacity\":0.6,\"showlegend\":true,\"x\":[\"CANCER\\u003cbr\\u003e |V|=5, |E|=4, s=0.4\",\"EARTHQUAKE\\u003cbr\\u003e |V|=5, |E|=4, s=0.4\",\"SURVEY\\u003cbr\\u003e |V|=6, |E|=6, s=0.4\",\"ASIA\\u003cbr\\u003e |V|=8, |E|=8, s=0.29\"],\"y\":[0.28,0.22,0.15,0.1],\"yaxis\":\"y\",\"type\":\"bar\"},{\"error_y\":{\"array\":[null,null,null,null],\"type\":\"data\",\"visible\":true},\"marker\":{\"color\":\"#379f9f\"},\"name\":\"FGS\",\"offsetgroup\":\"1\",\"opacity\":0.6,\"showlegend\":true,\"x\":[\"CANCER\\u003cbr\\u003e |V|=5, |E|=4, s=0.4\",\"EARTHQUAKE\\u003cbr\\u003e |V|=5, |E|=4, s=0.4\",\"SURVEY\\u003cbr\\u003e |V|=6, |E|=6, s=0.4\",\"ASIA\\u003cbr\\u003e |V|=8, |E|=8, s=0.29\"],\"y\":[0.33,0.5,0.5,0.29],\"yaxis\":\"y\",\"type\":\"bar\"},{\"error_y\":{\"array\":[null,null,null,null],\"type\":\"data\",\"visible\":true},\"marker\":{\"color\":\"#9454c4\"},\"name\":\"NOTEARS-MLP\",\"offsetgroup\":\"2\",\"opacity\":0.6,\"showlegend\":true,\"x\":[\"CANCER\\u003cbr\\u003e |V|=5, |E|=4, s=0.4\",\"EARTHQUAKE\\u003cbr\\u003e |V|=5, |E|=4, s=0.4\",\"SURVEY\\u003cbr\\u003e |V|=6, |E|=6, s=0.4\",\"ASIA\\u003cbr\\u003e |V|=8, |E|=8, s=0.29\"],\"y\":[null,null,null,null],\"yaxis\":\"y\",\"type\":\"bar\"},{\"error_y\":{\"array\":[null,null,null,null],\"type\":\"data\",\"visible\":true},\"marker\":{\"color\":\"#b85c00\"},\"name\":\"Shapley-PC\",\"offsetgroup\":\"3\",\"opacity\":0.6,\"showlegend\":true,\"x\":[\"CANCER\\u003cbr\\u003e |V|=5, |E|=4, s=0.4\",\"EARTHQUAKE\\u003cbr\\u003e |V|=5, |E|=4, s=0.4\",\"SURVEY\\u003cbr\\u003e |V|=6, |E|=6, s=0.4\",\"ASIA\\u003cbr\\u003e |V|=8, |E|=8, s=0.29\"],\"y\":[0.67,0.5,null,0.4],\"yaxis\":\"y\",\"type\":\"bar\"},{\"error_y\":{\"array\":[null,null,null,null],\"type\":\"data\",\"visible\":true},\"marker\":{\"color\":\"#0085CA\"},\"name\":\"ABAPC (Ours)\",\"offsetgroup\":\"4\",\"opacity\":0.6,\"showlegend\":true,\"x\":[\"CANCER\\u003cbr\\u003e |V|=5, |E|=4, s=0.4\",\"EARTHQUAKE\\u003cbr\\u003e |V|=5, |E|=4, s=0.4\",\"SURVEY\\u003cbr\\u003e |V|=6, |E|=6, s=0.4\",\"ASIA\\u003cbr\\u003e |V|=8, |E|=8, s=0.29\"],\"y\":[0.33,1.0,1.0,1.0],\"yaxis\":\"y\",\"type\":\"bar\"},{\"marker\":{\"color\":\"white\"},\"name\":\"\",\"offsetgroup\":\"5\",\"opacity\":1,\"showlegend\":false,\"x\":[\"CANCER\\u003cbr\\u003e |V|=5, |E|=4, s=0.4\",\"EARTHQUAKE\\u003cbr\\u003e |V|=5, |E|=4, s=0.4\",\"SURVEY\\u003cbr\\u003e |V|=6, |E|=6, s=0.4\",\"ASIA\\u003cbr\\u003e |V|=8, |E|=8, s=0.29\"],\"y\":[0.0,0.0,0.0,0.0],\"type\":\"bar\"},{\"error_y\":{\"array\":[0.18,0.18,0.12,0.08],\"type\":\"data\",\"visible\":true},\"marker\":{\"color\":\"grey\"},\"name\":\"Random\",\"offsetgroup\":\"6\",\"opacity\":0.6,\"showlegend\":false,\"x\":[\"CANCER\\u003cbr\\u003e |V|=5, |E|=4, s=0.4\",\"EARTHQUAKE\\u003cbr\\u003e |V|=5, |E|=4, s=0.4\",\"SURVEY\\u003cbr\\u003e |V|=6, |E|=6, s=0.4\",\"ASIA\\u003cbr\\u003e |V|=8, |E|=8, s=0.29\"],\"y\":[0.28,0.22,0.15,0.1],\"yaxis\":\"y2\",\"type\":\"bar\"},{\"error_y\":{\"array\":[null,null,null,null],\"type\":\"data\",\"visible\":true},\"marker\":{\"color\":\"#379f9f\"},\"name\":\"FGS\",\"offsetgroup\":\"7\",\"opacity\":0.6,\"showlegend\":false,\"x\":[\"CANCER\\u003cbr\\u003e |V|=5, |E|=4, s=0.4\",\"EARTHQUAKE\\u003cbr\\u003e |V|=5, |E|=4, s=0.4\",\"SURVEY\\u003cbr\\u003e |V|=6, |E|=6, s=0.4\",\"ASIA\\u003cbr\\u003e |V|=8, |E|=8, s=0.29\"],\"y\":[0.25,0.5,0.17,0.25],\"yaxis\":\"y2\",\"type\":\"bar\"},{\"error_y\":{\"array\":[0.0,0.0,0.0,0.0],\"type\":\"data\",\"visible\":true},\"marker\":{\"color\":\"#9454c4\"},\"name\":\"NOTEARS-MLP\",\"offsetgroup\":\"8\",\"opacity\":0.6,\"showlegend\":false,\"x\":[\"CANCER\\u003cbr\\u003e |V|=5, |E|=4, s=0.4\",\"EARTHQUAKE\\u003cbr\\u003e |V|=5, |E|=4, s=0.4\",\"SURVEY\\u003cbr\\u003e |V|=6, |E|=6, s=0.4\",\"ASIA\\u003cbr\\u003e |V|=8, |E|=8, s=0.29\"],\"y\":[0.0,0.0,0.0,0.0],\"yaxis\":\"y2\",\"type\":\"bar\"},{\"error_y\":{\"array\":[null,null,null,null],\"type\":\"data\",\"visible\":true},\"marker\":{\"color\":\"#b85c00\"},\"name\":\"Shapley-PC\",\"offsetgroup\":\"9\",\"opacity\":0.6,\"showlegend\":false,\"x\":[\"CANCER\\u003cbr\\u003e |V|=5, |E|=4, s=0.4\",\"EARTHQUAKE\\u003cbr\\u003e |V|=5, |E|=4, s=0.4\",\"SURVEY\\u003cbr\\u003e |V|=6, |E|=6, s=0.4\",\"ASIA\\u003cbr\\u003e |V|=8, |E|=8, s=0.29\"],\"y\":[0.5,0.5,0.0,0.25],\"yaxis\":\"y2\",\"type\":\"bar\"},{\"error_y\":{\"array\":[null,null,null,null],\"type\":\"data\",\"visible\":true},\"marker\":{\"color\":\"#0085CA\"},\"name\":\"ABAPC (Ours)\",\"offsetgroup\":\"10\",\"opacity\":0.6,\"showlegend\":false,\"x\":[\"CANCER\\u003cbr\\u003e |V|=5, |E|=4, s=0.4\",\"EARTHQUAKE\\u003cbr\\u003e |V|=5, |E|=4, s=0.4\",\"SURVEY\\u003cbr\\u003e |V|=6, |E|=6, s=0.4\",\"ASIA\\u003cbr\\u003e |V|=8, |E|=8, s=0.29\"],\"y\":[0.25,1.0,0.33,0.75],\"yaxis\":\"y2\",\"type\":\"bar\"}],                        {\"template\":{\"data\":{\"barpolar\":[{\"marker\":{\"line\":{\"color\":\"white\",\"width\":0.5},\"pattern\":{\"fillmode\":\"overlay\",\"size\":10,\"solidity\":0.2}},\"type\":\"barpolar\"}],\"bar\":[{\"error_x\":{\"color\":\"#2a3f5f\"},\"error_y\":{\"color\":\"#2a3f5f\"},\"marker\":{\"line\":{\"color\":\"white\",\"width\":0.5},\"pattern\":{\"fillmode\":\"overlay\",\"size\":10,\"solidity\":0.2}},\"type\":\"bar\"}],\"carpet\":[{\"aaxis\":{\"endlinecolor\":\"#2a3f5f\",\"gridcolor\":\"#C8D4E3\",\"linecolor\":\"#C8D4E3\",\"minorgridcolor\":\"#C8D4E3\",\"startlinecolor\":\"#2a3f5f\"},\"baxis\":{\"endlinecolor\":\"#2a3f5f\",\"gridcolor\":\"#C8D4E3\",\"linecolor\":\"#C8D4E3\",\"minorgridcolor\":\"#C8D4E3\",\"startlinecolor\":\"#2a3f5f\"},\"type\":\"carpet\"}],\"choropleth\":[{\"colorbar\":{\"outlinewidth\":0,\"ticks\":\"\"},\"type\":\"choropleth\"}],\"contourcarpet\":[{\"colorbar\":{\"outlinewidth\":0,\"ticks\":\"\"},\"type\":\"contourcarpet\"}],\"contour\":[{\"colorbar\":{\"outlinewidth\":0,\"ticks\":\"\"},\"colorscale\":[[0.0,\"#0d0887\"],[0.1111111111111111,\"#46039f\"],[0.2222222222222222,\"#7201a8\"],[0.3333333333333333,\"#9c179e\"],[0.4444444444444444,\"#bd3786\"],[0.5555555555555556,\"#d8576b\"],[0.6666666666666666,\"#ed7953\"],[0.7777777777777778,\"#fb9f3a\"],[0.8888888888888888,\"#fdca26\"],[1.0,\"#f0f921\"]],\"type\":\"contour\"}],\"heatmapgl\":[{\"colorbar\":{\"outlinewidth\":0,\"ticks\":\"\"},\"colorscale\":[[0.0,\"#0d0887\"],[0.1111111111111111,\"#46039f\"],[0.2222222222222222,\"#7201a8\"],[0.3333333333333333,\"#9c179e\"],[0.4444444444444444,\"#bd3786\"],[0.5555555555555556,\"#d8576b\"],[0.6666666666666666,\"#ed7953\"],[0.7777777777777778,\"#fb9f3a\"],[0.8888888888888888,\"#fdca26\"],[1.0,\"#f0f921\"]],\"type\":\"heatmapgl\"}],\"heatmap\":[{\"colorbar\":{\"outlinewidth\":0,\"ticks\":\"\"},\"colorscale\":[[0.0,\"#0d0887\"],[0.1111111111111111,\"#46039f\"],[0.2222222222222222,\"#7201a8\"],[0.3333333333333333,\"#9c179e\"],[0.4444444444444444,\"#bd3786\"],[0.5555555555555556,\"#d8576b\"],[0.6666666666666666,\"#ed7953\"],[0.7777777777777778,\"#fb9f3a\"],[0.8888888888888888,\"#fdca26\"],[1.0,\"#f0f921\"]],\"type\":\"heatmap\"}],\"histogram2dcontour\":[{\"colorbar\":{\"outlinewidth\":0,\"ticks\":\"\"},\"colorscale\":[[0.0,\"#0d0887\"],[0.1111111111111111,\"#46039f\"],[0.2222222222222222,\"#7201a8\"],[0.3333333333333333,\"#9c179e\"],[0.4444444444444444,\"#bd3786\"],[0.5555555555555556,\"#d8576b\"],[0.6666666666666666,\"#ed7953\"],[0.7777777777777778,\"#fb9f3a\"],[0.8888888888888888,\"#fdca26\"],[1.0,\"#f0f921\"]],\"type\":\"histogram2dcontour\"}],\"histogram2d\":[{\"colorbar\":{\"outlinewidth\":0,\"ticks\":\"\"},\"colorscale\":[[0.0,\"#0d0887\"],[0.1111111111111111,\"#46039f\"],[0.2222222222222222,\"#7201a8\"],[0.3333333333333333,\"#9c179e\"],[0.4444444444444444,\"#bd3786\"],[0.5555555555555556,\"#d8576b\"],[0.6666666666666666,\"#ed7953\"],[0.7777777777777778,\"#fb9f3a\"],[0.8888888888888888,\"#fdca26\"],[1.0,\"#f0f921\"]],\"type\":\"histogram2d\"}],\"histogram\":[{\"marker\":{\"pattern\":{\"fillmode\":\"overlay\",\"size\":10,\"solidity\":0.2}},\"type\":\"histogram\"}],\"mesh3d\":[{\"colorbar\":{\"outlinewidth\":0,\"ticks\":\"\"},\"type\":\"mesh3d\"}],\"parcoords\":[{\"line\":{\"colorbar\":{\"outlinewidth\":0,\"ticks\":\"\"}},\"type\":\"parcoords\"}],\"pie\":[{\"automargin\":true,\"type\":\"pie\"}],\"scatter3d\":[{\"line\":{\"colorbar\":{\"outlinewidth\":0,\"ticks\":\"\"}},\"marker\":{\"colorbar\":{\"outlinewidth\":0,\"ticks\":\"\"}},\"type\":\"scatter3d\"}],\"scattercarpet\":[{\"marker\":{\"colorbar\":{\"outlinewidth\":0,\"ticks\":\"\"}},\"type\":\"scattercarpet\"}],\"scattergeo\":[{\"marker\":{\"colorbar\":{\"outlinewidth\":0,\"ticks\":\"\"}},\"type\":\"scattergeo\"}],\"scattergl\":[{\"marker\":{\"colorbar\":{\"outlinewidth\":0,\"ticks\":\"\"}},\"type\":\"scattergl\"}],\"scattermapbox\":[{\"marker\":{\"colorbar\":{\"outlinewidth\":0,\"ticks\":\"\"}},\"type\":\"scattermapbox\"}],\"scatterpolargl\":[{\"marker\":{\"colorbar\":{\"outlinewidth\":0,\"ticks\":\"\"}},\"type\":\"scatterpolargl\"}],\"scatterpolar\":[{\"marker\":{\"colorbar\":{\"outlinewidth\":0,\"ticks\":\"\"}},\"type\":\"scatterpolar\"}],\"scatter\":[{\"fillpattern\":{\"fillmode\":\"overlay\",\"size\":10,\"solidity\":0.2},\"type\":\"scatter\"}],\"scatterternary\":[{\"marker\":{\"colorbar\":{\"outlinewidth\":0,\"ticks\":\"\"}},\"type\":\"scatterternary\"}],\"surface\":[{\"colorbar\":{\"outlinewidth\":0,\"ticks\":\"\"},\"colorscale\":[[0.0,\"#0d0887\"],[0.1111111111111111,\"#46039f\"],[0.2222222222222222,\"#7201a8\"],[0.3333333333333333,\"#9c179e\"],[0.4444444444444444,\"#bd3786\"],[0.5555555555555556,\"#d8576b\"],[0.6666666666666666,\"#ed7953\"],[0.7777777777777778,\"#fb9f3a\"],[0.8888888888888888,\"#fdca26\"],[1.0,\"#f0f921\"]],\"type\":\"surface\"}],\"table\":[{\"cells\":{\"fill\":{\"color\":\"#EBF0F8\"},\"line\":{\"color\":\"white\"}},\"header\":{\"fill\":{\"color\":\"#C8D4E3\"},\"line\":{\"color\":\"white\"}},\"type\":\"table\"}]},\"layout\":{\"annotationdefaults\":{\"arrowcolor\":\"#2a3f5f\",\"arrowhead\":0,\"arrowwidth\":1},\"autotypenumbers\":\"strict\",\"coloraxis\":{\"colorbar\":{\"outlinewidth\":0,\"ticks\":\"\"}},\"colorscale\":{\"diverging\":[[0,\"#8e0152\"],[0.1,\"#c51b7d\"],[0.2,\"#de77ae\"],[0.3,\"#f1b6da\"],[0.4,\"#fde0ef\"],[0.5,\"#f7f7f7\"],[0.6,\"#e6f5d0\"],[0.7,\"#b8e186\"],[0.8,\"#7fbc41\"],[0.9,\"#4d9221\"],[1,\"#276419\"]],\"sequential\":[[0.0,\"#0d0887\"],[0.1111111111111111,\"#46039f\"],[0.2222222222222222,\"#7201a8\"],[0.3333333333333333,\"#9c179e\"],[0.4444444444444444,\"#bd3786\"],[0.5555555555555556,\"#d8576b\"],[0.6666666666666666,\"#ed7953\"],[0.7777777777777778,\"#fb9f3a\"],[0.8888888888888888,\"#fdca26\"],[1.0,\"#f0f921\"]],\"sequentialminus\":[[0.0,\"#0d0887\"],[0.1111111111111111,\"#46039f\"],[0.2222222222222222,\"#7201a8\"],[0.3333333333333333,\"#9c179e\"],[0.4444444444444444,\"#bd3786\"],[0.5555555555555556,\"#d8576b\"],[0.6666666666666666,\"#ed7953\"],[0.7777777777777778,\"#fb9f3a\"],[0.8888888888888888,\"#fdca26\"],[1.0,\"#f0f921\"]]},\"colorway\":[\"#636efa\",\"#EF553B\",\"#00cc96\",\"#ab63fa\",\"#FFA15A\",\"#19d3f3\",\"#FF6692\",\"#B6E880\",\"#FF97FF\",\"#FECB52\"],\"font\":{\"color\":\"#2a3f5f\"},\"geo\":{\"bgcolor\":\"white\",\"lakecolor\":\"white\",\"landcolor\":\"white\",\"showlakes\":true,\"showland\":true,\"subunitcolor\":\"#C8D4E3\"},\"hoverlabel\":{\"align\":\"left\"},\"hovermode\":\"closest\",\"mapbox\":{\"style\":\"light\"},\"paper_bgcolor\":\"white\",\"plot_bgcolor\":\"white\",\"polar\":{\"angularaxis\":{\"gridcolor\":\"#EBF0F8\",\"linecolor\":\"#EBF0F8\",\"ticks\":\"\"},\"bgcolor\":\"white\",\"radialaxis\":{\"gridcolor\":\"#EBF0F8\",\"linecolor\":\"#EBF0F8\",\"ticks\":\"\"}},\"scene\":{\"xaxis\":{\"backgroundcolor\":\"white\",\"gridcolor\":\"#DFE8F3\",\"gridwidth\":2,\"linecolor\":\"#EBF0F8\",\"showbackground\":true,\"ticks\":\"\",\"zerolinecolor\":\"#EBF0F8\"},\"yaxis\":{\"backgroundcolor\":\"white\",\"gridcolor\":\"#DFE8F3\",\"gridwidth\":2,\"linecolor\":\"#EBF0F8\",\"showbackground\":true,\"ticks\":\"\",\"zerolinecolor\":\"#EBF0F8\"},\"zaxis\":{\"backgroundcolor\":\"white\",\"gridcolor\":\"#DFE8F3\",\"gridwidth\":2,\"linecolor\":\"#EBF0F8\",\"showbackground\":true,\"ticks\":\"\",\"zerolinecolor\":\"#EBF0F8\"}},\"shapedefaults\":{\"line\":{\"color\":\"#2a3f5f\"}},\"ternary\":{\"aaxis\":{\"gridcolor\":\"#DFE8F3\",\"linecolor\":\"#A2B1C6\",\"ticks\":\"\"},\"baxis\":{\"gridcolor\":\"#DFE8F3\",\"linecolor\":\"#A2B1C6\",\"ticks\":\"\"},\"bgcolor\":\"white\",\"caxis\":{\"gridcolor\":\"#DFE8F3\",\"linecolor\":\"#A2B1C6\",\"ticks\":\"\"}},\"title\":{\"x\":0.05},\"xaxis\":{\"automargin\":true,\"gridcolor\":\"#EBF0F8\",\"linecolor\":\"#EBF0F8\",\"ticks\":\"\",\"title\":{\"standoff\":15},\"zerolinecolor\":\"#EBF0F8\",\"zerolinewidth\":2},\"yaxis\":{\"automargin\":true,\"gridcolor\":\"#EBF0F8\",\"linecolor\":\"#EBF0F8\",\"ticks\":\"\",\"title\":{\"standoff\":15},\"zerolinecolor\":\"#EBF0F8\",\"zerolinewidth\":2}}},\"xaxis\":{\"anchor\":\"y\",\"domain\":[0.0,0.94]},\"yaxis\":{\"anchor\":\"x\",\"domain\":[0.0,1.0],\"title\":{\"font\":{\"size\":20},\"text\":\"Precision\"},\"range\":[0,1.3]},\"yaxis2\":{\"anchor\":\"x\",\"overlaying\":\"y\",\"side\":\"right\",\"scaleanchor\":0,\"showline\":false,\"showgrid\":false,\"showticklabels\":true,\"zeroline\":true,\"title\":{\"font\":{\"size\":20},\"text\":\"Recall\"},\"range\":[0,1.3]},\"legend\":{\"orientation\":\"h\",\"xanchor\":\"center\",\"x\":0.5,\"yanchor\":\"top\",\"y\":1.1},\"margin\":{\"l\":40,\"r\":40,\"b\":80,\"t\":20},\"font\":{\"size\":20,\"family\":\"Serif\",\"color\":\"black\"},\"barmode\":\"group\",\"bargap\":0.15,\"bargroupgap\":0.1,\"width\":1600,\"height\":700,\"hovermode\":\"x unified\",\"annotations\":[{\"font\":{\"color\":\"Black\",\"family\":\"Serif\",\"size\":20},\"showarrow\":false,\"text\":\"Dataset:\",\"x\":0,\"xanchor\":\"center\",\"xref\":\"paper\",\"y\":-0.08,\"yanchor\":\"bottom\",\"yref\":\"paper\"},{\"bgcolor\":\"#E5ECF6\",\"bordercolor\":\"#E5ECF6\",\"borderwidth\":2,\"font\":{\"color\":\"black\",\"size\":20},\"opacity\":0.8,\"showarrow\":false,\"text\":\"      Precision      \",\"x\":0.017,\"xanchor\":\"left\",\"xref\":\"x domain\",\"y\":1.015,\"yref\":\"y domain\"},{\"bgcolor\":\"#E5ECF6\",\"bordercolor\":\"#E5ECF6\",\"borderwidth\":2,\"font\":{\"color\":\"black\",\"size\":20},\"opacity\":0.8,\"showarrow\":false,\"text\":\"        Recall        \",\"x\":0.132,\"xanchor\":\"left\",\"xref\":\"x domain\",\"y\":1.015,\"yref\":\"y domain\"},{\"bgcolor\":\"#E5ECF6\",\"bordercolor\":\"#E5ECF6\",\"borderwidth\":2,\"font\":{\"color\":\"black\",\"size\":20},\"opacity\":0.8,\"showarrow\":false,\"text\":\"      Precision      \",\"x\":0.267,\"xanchor\":\"left\",\"xref\":\"x domain\",\"y\":1.015,\"yref\":\"y domain\"},{\"bgcolor\":\"#E5ECF6\",\"bordercolor\":\"#E5ECF6\",\"borderwidth\":2,\"font\":{\"color\":\"black\",\"size\":20},\"opacity\":0.8,\"showarrow\":false,\"text\":\"        Recall        \",\"x\":0.382,\"xanchor\":\"left\",\"xref\":\"x domain\",\"y\":1.015,\"yref\":\"y domain\"},{\"bgcolor\":\"#E5ECF6\",\"bordercolor\":\"#E5ECF6\",\"borderwidth\":2,\"font\":{\"color\":\"black\",\"size\":20},\"opacity\":0.8,\"showarrow\":false,\"text\":\"      Precision      \",\"x\":0.517,\"xanchor\":\"left\",\"xref\":\"x domain\",\"y\":1.015,\"yref\":\"y domain\"},{\"bgcolor\":\"#E5ECF6\",\"bordercolor\":\"#E5ECF6\",\"borderwidth\":2,\"font\":{\"color\":\"black\",\"size\":20},\"opacity\":0.8,\"showarrow\":false,\"text\":\"        Recall        \",\"x\":0.632,\"xanchor\":\"left\",\"xref\":\"x domain\",\"y\":1.015,\"yref\":\"y domain\"},{\"bgcolor\":\"#E5ECF6\",\"bordercolor\":\"#E5ECF6\",\"borderwidth\":2,\"font\":{\"color\":\"black\",\"size\":20},\"opacity\":0.8,\"showarrow\":false,\"text\":\"      Precision      \",\"x\":0.767,\"xanchor\":\"left\",\"xref\":\"x domain\",\"y\":1.015,\"yref\":\"y domain\"},{\"bgcolor\":\"#E5ECF6\",\"bordercolor\":\"#E5ECF6\",\"borderwidth\":2,\"font\":{\"color\":\"black\",\"size\":20},\"opacity\":0.8,\"showarrow\":false,\"text\":\"        Recall        \",\"x\":0.882,\"xanchor\":\"left\",\"xref\":\"x domain\",\"y\":1.015,\"yref\":\"y domain\"}]},                        {\"responsive\": true}                    ).then(function(){\n",
       "                            \n",
       "var gd = document.getElementById('99e45b8d-4621-4107-ac23-e5745d95c8d9');\n",
       "var x = new MutationObserver(function (mutations, observer) {{\n",
       "        var display = window.getComputedStyle(gd).display;\n",
       "        if (!display || display === 'none') {{\n",
       "            console.log([gd, 'removed!']);\n",
       "            Plotly.purge(gd);\n",
       "            observer.disconnect();\n",
       "        }}\n",
       "}});\n",
       "\n",
       "// Listen for the removal of the full notebook cells\n",
       "var notebookContainer = gd.closest('#notebook-container');\n",
       "if (notebookContainer) {{\n",
       "    x.observe(notebookContainer, {childList: true});\n",
       "}}\n",
       "\n",
       "// Listen for the clearing of the current output cell\n",
       "var outputEl = gd.closest('.output');\n",
       "if (outputEl) {{\n",
       "    x.observe(outputEl, {childList: true});\n",
       "}}\n",
       "\n",
       "                        })                };                });            </script>        </div>"
      ]
     },
     "metadata": {},
     "output_type": "display_data"
    },
    {
     "data": {
      "application/vnd.plotly.v1+json": {
       "config": {
        "plotlyServerURL": "https://plot.ly"
       },
       "data": [
        {
         "error_y": {
          "array": [
           0.12,
           0.12,
           0.08,
           0.03
          ],
          "type": "data",
          "visible": true
         },
         "marker": {
          "color": "grey"
         },
         "name": "True Graph Size",
         "opacity": 0.6,
         "type": "bar",
         "x": [
          "CANCER<br> |V|=5, |E|=4, s=0.4",
          "EARTHQUAKE<br> |V|=5, |E|=4, s=0.4",
          "SURVEY<br> |V|=6, |E|=6, s=0.4",
          "ASIA<br> |V|=8, |E|=8, s=0.29"
         ],
         "y": [
          0.48,
          0.52,
          0.57,
          0.36
         ]
        },
        {
         "error_y": {
          "array": [
           null,
           null,
           null,
           null
          ],
          "type": "data",
          "visible": true
         },
         "marker": {
          "color": "#379f9f"
         },
         "name": "FGS",
         "opacity": 0.6,
         "type": "bar",
         "x": [
          "CANCER<br> |V|=5, |E|=4, s=0.4",
          "EARTHQUAKE<br> |V|=5, |E|=4, s=0.4",
          "SURVEY<br> |V|=6, |E|=6, s=0.4",
          "ASIA<br> |V|=8, |E|=8, s=0.29"
         ],
         "y": [
          0.33,
          0.33,
          0.11,
          0.25
         ]
        },
        {
         "error_y": {
          "array": [
           0,
           0,
           0,
           0
          ],
          "type": "data",
          "visible": true
         },
         "marker": {
          "color": "#9454c4"
         },
         "name": "NOTEARS-MLP",
         "opacity": 0.6,
         "type": "bar",
         "x": [
          "CANCER<br> |V|=5, |E|=4, s=0.4",
          "EARTHQUAKE<br> |V|=5, |E|=4, s=0.4",
          "SURVEY<br> |V|=6, |E|=6, s=0.4",
          "ASIA<br> |V|=8, |E|=8, s=0.29"
         ],
         "y": [
          0,
          0,
          0,
          0
         ]
        },
        {
         "error_y": {
          "array": [
           null,
           null,
           null,
           null
          ],
          "type": "data",
          "visible": true
         },
         "marker": {
          "color": "#b85c00"
         },
         "name": "Shapley-PC",
         "opacity": 0.6,
         "type": "bar",
         "x": [
          "CANCER<br> |V|=5, |E|=4, s=0.4",
          "EARTHQUAKE<br> |V|=5, |E|=4, s=0.4",
          "SURVEY<br> |V|=6, |E|=6, s=0.4",
          "ASIA<br> |V|=8, |E|=8, s=0.29"
         ],
         "y": [
          0.17,
          0.33,
          0,
          0.15
         ]
        },
        {
         "error_y": {
          "array": [
           null,
           null,
           null,
           null
          ],
          "type": "data",
          "visible": true
         },
         "marker": {
          "color": "#0085CA"
         },
         "name": "ABAPC (Ours)",
         "opacity": 0.6,
         "type": "bar",
         "x": [
          "CANCER<br> |V|=5, |E|=4, s=0.4",
          "EARTHQUAKE<br> |V|=5, |E|=4, s=0.4",
          "SURVEY<br> |V|=6, |E|=6, s=0.4",
          "ASIA<br> |V|=8, |E|=8, s=0.29"
         ],
         "y": [
          0.33,
          0,
          0,
          0
         ]
        }
       ],
       "layout": {
        "annotations": [
         {
          "font": {
           "color": "Black",
           "family": "Serif",
           "size": 20
          },
          "showarrow": false,
          "text": "Dataset:",
          "x": 0,
          "xanchor": "center",
          "xref": "paper",
          "y": -0.05,
          "yanchor": "bottom",
          "yref": "paper"
         }
        ],
        "bargap": 0.15,
        "bargroupgap": 0.1,
        "barmode": "group",
        "font": {
         "color": "black",
         "family": "Serif",
         "size": 20
        },
        "height": 700,
        "hovermode": "x unified",
        "legend": {
         "orientation": "h",
         "x": 0.5,
         "xanchor": "center",
         "y": 1,
         "yanchor": "top"
        },
        "margin": {
         "b": 80,
         "l": 40,
         "r": 40,
         "t": 20
        },
        "template": {
         "data": {
          "bar": [
           {
            "error_x": {
             "color": "#2a3f5f"
            },
            "error_y": {
             "color": "#2a3f5f"
            },
            "marker": {
             "line": {
              "color": "white",
              "width": 0.5
             },
             "pattern": {
              "fillmode": "overlay",
              "size": 10,
              "solidity": 0.2
             }
            },
            "type": "bar"
           }
          ],
          "barpolar": [
           {
            "marker": {
             "line": {
              "color": "white",
              "width": 0.5
             },
             "pattern": {
              "fillmode": "overlay",
              "size": 10,
              "solidity": 0.2
             }
            },
            "type": "barpolar"
           }
          ],
          "carpet": [
           {
            "aaxis": {
             "endlinecolor": "#2a3f5f",
             "gridcolor": "#C8D4E3",
             "linecolor": "#C8D4E3",
             "minorgridcolor": "#C8D4E3",
             "startlinecolor": "#2a3f5f"
            },
            "baxis": {
             "endlinecolor": "#2a3f5f",
             "gridcolor": "#C8D4E3",
             "linecolor": "#C8D4E3",
             "minorgridcolor": "#C8D4E3",
             "startlinecolor": "#2a3f5f"
            },
            "type": "carpet"
           }
          ],
          "choropleth": [
           {
            "colorbar": {
             "outlinewidth": 0,
             "ticks": ""
            },
            "type": "choropleth"
           }
          ],
          "contour": [
           {
            "colorbar": {
             "outlinewidth": 0,
             "ticks": ""
            },
            "colorscale": [
             [
              0,
              "#0d0887"
             ],
             [
              0.1111111111111111,
              "#46039f"
             ],
             [
              0.2222222222222222,
              "#7201a8"
             ],
             [
              0.3333333333333333,
              "#9c179e"
             ],
             [
              0.4444444444444444,
              "#bd3786"
             ],
             [
              0.5555555555555556,
              "#d8576b"
             ],
             [
              0.6666666666666666,
              "#ed7953"
             ],
             [
              0.7777777777777778,
              "#fb9f3a"
             ],
             [
              0.8888888888888888,
              "#fdca26"
             ],
             [
              1,
              "#f0f921"
             ]
            ],
            "type": "contour"
           }
          ],
          "contourcarpet": [
           {
            "colorbar": {
             "outlinewidth": 0,
             "ticks": ""
            },
            "type": "contourcarpet"
           }
          ],
          "heatmap": [
           {
            "colorbar": {
             "outlinewidth": 0,
             "ticks": ""
            },
            "colorscale": [
             [
              0,
              "#0d0887"
             ],
             [
              0.1111111111111111,
              "#46039f"
             ],
             [
              0.2222222222222222,
              "#7201a8"
             ],
             [
              0.3333333333333333,
              "#9c179e"
             ],
             [
              0.4444444444444444,
              "#bd3786"
             ],
             [
              0.5555555555555556,
              "#d8576b"
             ],
             [
              0.6666666666666666,
              "#ed7953"
             ],
             [
              0.7777777777777778,
              "#fb9f3a"
             ],
             [
              0.8888888888888888,
              "#fdca26"
             ],
             [
              1,
              "#f0f921"
             ]
            ],
            "type": "heatmap"
           }
          ],
          "heatmapgl": [
           {
            "colorbar": {
             "outlinewidth": 0,
             "ticks": ""
            },
            "colorscale": [
             [
              0,
              "#0d0887"
             ],
             [
              0.1111111111111111,
              "#46039f"
             ],
             [
              0.2222222222222222,
              "#7201a8"
             ],
             [
              0.3333333333333333,
              "#9c179e"
             ],
             [
              0.4444444444444444,
              "#bd3786"
             ],
             [
              0.5555555555555556,
              "#d8576b"
             ],
             [
              0.6666666666666666,
              "#ed7953"
             ],
             [
              0.7777777777777778,
              "#fb9f3a"
             ],
             [
              0.8888888888888888,
              "#fdca26"
             ],
             [
              1,
              "#f0f921"
             ]
            ],
            "type": "heatmapgl"
           }
          ],
          "histogram": [
           {
            "marker": {
             "pattern": {
              "fillmode": "overlay",
              "size": 10,
              "solidity": 0.2
             }
            },
            "type": "histogram"
           }
          ],
          "histogram2d": [
           {
            "colorbar": {
             "outlinewidth": 0,
             "ticks": ""
            },
            "colorscale": [
             [
              0,
              "#0d0887"
             ],
             [
              0.1111111111111111,
              "#46039f"
             ],
             [
              0.2222222222222222,
              "#7201a8"
             ],
             [
              0.3333333333333333,
              "#9c179e"
             ],
             [
              0.4444444444444444,
              "#bd3786"
             ],
             [
              0.5555555555555556,
              "#d8576b"
             ],
             [
              0.6666666666666666,
              "#ed7953"
             ],
             [
              0.7777777777777778,
              "#fb9f3a"
             ],
             [
              0.8888888888888888,
              "#fdca26"
             ],
             [
              1,
              "#f0f921"
             ]
            ],
            "type": "histogram2d"
           }
          ],
          "histogram2dcontour": [
           {
            "colorbar": {
             "outlinewidth": 0,
             "ticks": ""
            },
            "colorscale": [
             [
              0,
              "#0d0887"
             ],
             [
              0.1111111111111111,
              "#46039f"
             ],
             [
              0.2222222222222222,
              "#7201a8"
             ],
             [
              0.3333333333333333,
              "#9c179e"
             ],
             [
              0.4444444444444444,
              "#bd3786"
             ],
             [
              0.5555555555555556,
              "#d8576b"
             ],
             [
              0.6666666666666666,
              "#ed7953"
             ],
             [
              0.7777777777777778,
              "#fb9f3a"
             ],
             [
              0.8888888888888888,
              "#fdca26"
             ],
             [
              1,
              "#f0f921"
             ]
            ],
            "type": "histogram2dcontour"
           }
          ],
          "mesh3d": [
           {
            "colorbar": {
             "outlinewidth": 0,
             "ticks": ""
            },
            "type": "mesh3d"
           }
          ],
          "parcoords": [
           {
            "line": {
             "colorbar": {
              "outlinewidth": 0,
              "ticks": ""
             }
            },
            "type": "parcoords"
           }
          ],
          "pie": [
           {
            "automargin": true,
            "type": "pie"
           }
          ],
          "scatter": [
           {
            "fillpattern": {
             "fillmode": "overlay",
             "size": 10,
             "solidity": 0.2
            },
            "type": "scatter"
           }
          ],
          "scatter3d": [
           {
            "line": {
             "colorbar": {
              "outlinewidth": 0,
              "ticks": ""
             }
            },
            "marker": {
             "colorbar": {
              "outlinewidth": 0,
              "ticks": ""
             }
            },
            "type": "scatter3d"
           }
          ],
          "scattercarpet": [
           {
            "marker": {
             "colorbar": {
              "outlinewidth": 0,
              "ticks": ""
             }
            },
            "type": "scattercarpet"
           }
          ],
          "scattergeo": [
           {
            "marker": {
             "colorbar": {
              "outlinewidth": 0,
              "ticks": ""
             }
            },
            "type": "scattergeo"
           }
          ],
          "scattergl": [
           {
            "marker": {
             "colorbar": {
              "outlinewidth": 0,
              "ticks": ""
             }
            },
            "type": "scattergl"
           }
          ],
          "scattermapbox": [
           {
            "marker": {
             "colorbar": {
              "outlinewidth": 0,
              "ticks": ""
             }
            },
            "type": "scattermapbox"
           }
          ],
          "scatterpolar": [
           {
            "marker": {
             "colorbar": {
              "outlinewidth": 0,
              "ticks": ""
             }
            },
            "type": "scatterpolar"
           }
          ],
          "scatterpolargl": [
           {
            "marker": {
             "colorbar": {
              "outlinewidth": 0,
              "ticks": ""
             }
            },
            "type": "scatterpolargl"
           }
          ],
          "scatterternary": [
           {
            "marker": {
             "colorbar": {
              "outlinewidth": 0,
              "ticks": ""
             }
            },
            "type": "scatterternary"
           }
          ],
          "surface": [
           {
            "colorbar": {
             "outlinewidth": 0,
             "ticks": ""
            },
            "colorscale": [
             [
              0,
              "#0d0887"
             ],
             [
              0.1111111111111111,
              "#46039f"
             ],
             [
              0.2222222222222222,
              "#7201a8"
             ],
             [
              0.3333333333333333,
              "#9c179e"
             ],
             [
              0.4444444444444444,
              "#bd3786"
             ],
             [
              0.5555555555555556,
              "#d8576b"
             ],
             [
              0.6666666666666666,
              "#ed7953"
             ],
             [
              0.7777777777777778,
              "#fb9f3a"
             ],
             [
              0.8888888888888888,
              "#fdca26"
             ],
             [
              1,
              "#f0f921"
             ]
            ],
            "type": "surface"
           }
          ],
          "table": [
           {
            "cells": {
             "fill": {
              "color": "#EBF0F8"
             },
             "line": {
              "color": "white"
             }
            },
            "header": {
             "fill": {
              "color": "#C8D4E3"
             },
             "line": {
              "color": "white"
             }
            },
            "type": "table"
           }
          ]
         },
         "layout": {
          "annotationdefaults": {
           "arrowcolor": "#2a3f5f",
           "arrowhead": 0,
           "arrowwidth": 1
          },
          "autotypenumbers": "strict",
          "coloraxis": {
           "colorbar": {
            "outlinewidth": 0,
            "ticks": ""
           }
          },
          "colorscale": {
           "diverging": [
            [
             0,
             "#8e0152"
            ],
            [
             0.1,
             "#c51b7d"
            ],
            [
             0.2,
             "#de77ae"
            ],
            [
             0.3,
             "#f1b6da"
            ],
            [
             0.4,
             "#fde0ef"
            ],
            [
             0.5,
             "#f7f7f7"
            ],
            [
             0.6,
             "#e6f5d0"
            ],
            [
             0.7,
             "#b8e186"
            ],
            [
             0.8,
             "#7fbc41"
            ],
            [
             0.9,
             "#4d9221"
            ],
            [
             1,
             "#276419"
            ]
           ],
           "sequential": [
            [
             0,
             "#0d0887"
            ],
            [
             0.1111111111111111,
             "#46039f"
            ],
            [
             0.2222222222222222,
             "#7201a8"
            ],
            [
             0.3333333333333333,
             "#9c179e"
            ],
            [
             0.4444444444444444,
             "#bd3786"
            ],
            [
             0.5555555555555556,
             "#d8576b"
            ],
            [
             0.6666666666666666,
             "#ed7953"
            ],
            [
             0.7777777777777778,
             "#fb9f3a"
            ],
            [
             0.8888888888888888,
             "#fdca26"
            ],
            [
             1,
             "#f0f921"
            ]
           ],
           "sequentialminus": [
            [
             0,
             "#0d0887"
            ],
            [
             0.1111111111111111,
             "#46039f"
            ],
            [
             0.2222222222222222,
             "#7201a8"
            ],
            [
             0.3333333333333333,
             "#9c179e"
            ],
            [
             0.4444444444444444,
             "#bd3786"
            ],
            [
             0.5555555555555556,
             "#d8576b"
            ],
            [
             0.6666666666666666,
             "#ed7953"
            ],
            [
             0.7777777777777778,
             "#fb9f3a"
            ],
            [
             0.8888888888888888,
             "#fdca26"
            ],
            [
             1,
             "#f0f921"
            ]
           ]
          },
          "colorway": [
           "#636efa",
           "#EF553B",
           "#00cc96",
           "#ab63fa",
           "#FFA15A",
           "#19d3f3",
           "#FF6692",
           "#B6E880",
           "#FF97FF",
           "#FECB52"
          ],
          "font": {
           "color": "#2a3f5f"
          },
          "geo": {
           "bgcolor": "white",
           "lakecolor": "white",
           "landcolor": "white",
           "showlakes": true,
           "showland": true,
           "subunitcolor": "#C8D4E3"
          },
          "hoverlabel": {
           "align": "left"
          },
          "hovermode": "closest",
          "mapbox": {
           "style": "light"
          },
          "paper_bgcolor": "white",
          "plot_bgcolor": "white",
          "polar": {
           "angularaxis": {
            "gridcolor": "#EBF0F8",
            "linecolor": "#EBF0F8",
            "ticks": ""
           },
           "bgcolor": "white",
           "radialaxis": {
            "gridcolor": "#EBF0F8",
            "linecolor": "#EBF0F8",
            "ticks": ""
           }
          },
          "scene": {
           "xaxis": {
            "backgroundcolor": "white",
            "gridcolor": "#DFE8F3",
            "gridwidth": 2,
            "linecolor": "#EBF0F8",
            "showbackground": true,
            "ticks": "",
            "zerolinecolor": "#EBF0F8"
           },
           "yaxis": {
            "backgroundcolor": "white",
            "gridcolor": "#DFE8F3",
            "gridwidth": 2,
            "linecolor": "#EBF0F8",
            "showbackground": true,
            "ticks": "",
            "zerolinecolor": "#EBF0F8"
           },
           "zaxis": {
            "backgroundcolor": "white",
            "gridcolor": "#DFE8F3",
            "gridwidth": 2,
            "linecolor": "#EBF0F8",
            "showbackground": true,
            "ticks": "",
            "zerolinecolor": "#EBF0F8"
           }
          },
          "shapedefaults": {
           "line": {
            "color": "#2a3f5f"
           }
          },
          "ternary": {
           "aaxis": {
            "gridcolor": "#DFE8F3",
            "linecolor": "#A2B1C6",
            "ticks": ""
           },
           "baxis": {
            "gridcolor": "#DFE8F3",
            "linecolor": "#A2B1C6",
            "ticks": ""
           },
           "bgcolor": "white",
           "caxis": {
            "gridcolor": "#DFE8F3",
            "linecolor": "#A2B1C6",
            "ticks": ""
           }
          },
          "title": {
           "x": 0.05
          },
          "xaxis": {
           "automargin": true,
           "gridcolor": "#EBF0F8",
           "linecolor": "#EBF0F8",
           "ticks": "",
           "title": {
            "standoff": 15
           },
           "zerolinecolor": "#EBF0F8",
           "zerolinewidth": 2
          },
          "yaxis": {
           "automargin": true,
           "gridcolor": "#EBF0F8",
           "linecolor": "#EBF0F8",
           "ticks": "",
           "title": {
            "standoff": 15
           },
           "zerolinecolor": "#EBF0F8",
           "zerolinewidth": 2
          }
         }
        },
        "width": 1600,
        "yaxis": {
         "title": {
          "font": {
           "size": 20
          },
          "text": "Number of Edges in DAG"
         }
        }
       }
      },
      "text/html": [
       "<div>                            <div id=\"1f2d2ba5-0fb8-4c95-9785-28ee5a200654\" class=\"plotly-graph-div\" style=\"height:700px; width:1600px;\"></div>            <script type=\"text/javascript\">                require([\"plotly\"], function(Plotly) {                    window.PLOTLYENV=window.PLOTLYENV || {};                                    if (document.getElementById(\"1f2d2ba5-0fb8-4c95-9785-28ee5a200654\")) {                    Plotly.newPlot(                        \"1f2d2ba5-0fb8-4c95-9785-28ee5a200654\",                        [{\"error_y\":{\"array\":[0.12,0.12,0.08,0.03],\"type\":\"data\",\"visible\":true},\"marker\":{\"color\":\"grey\"},\"name\":\"True Graph Size\",\"opacity\":0.6,\"x\":[\"CANCER\\u003cbr\\u003e |V|=5, |E|=4, s=0.4\",\"EARTHQUAKE\\u003cbr\\u003e |V|=5, |E|=4, s=0.4\",\"SURVEY\\u003cbr\\u003e |V|=6, |E|=6, s=0.4\",\"ASIA\\u003cbr\\u003e |V|=8, |E|=8, s=0.29\"],\"y\":[0.48,0.52,0.57,0.36],\"type\":\"bar\"},{\"error_y\":{\"array\":[null,null,null,null],\"type\":\"data\",\"visible\":true},\"marker\":{\"color\":\"#379f9f\"},\"name\":\"FGS\",\"opacity\":0.6,\"x\":[\"CANCER\\u003cbr\\u003e |V|=5, |E|=4, s=0.4\",\"EARTHQUAKE\\u003cbr\\u003e |V|=5, |E|=4, s=0.4\",\"SURVEY\\u003cbr\\u003e |V|=6, |E|=6, s=0.4\",\"ASIA\\u003cbr\\u003e |V|=8, |E|=8, s=0.29\"],\"y\":[0.33,0.33,0.11,0.25],\"type\":\"bar\"},{\"error_y\":{\"array\":[0.0,0.0,0.0,0.0],\"type\":\"data\",\"visible\":true},\"marker\":{\"color\":\"#9454c4\"},\"name\":\"NOTEARS-MLP\",\"opacity\":0.6,\"x\":[\"CANCER\\u003cbr\\u003e |V|=5, |E|=4, s=0.4\",\"EARTHQUAKE\\u003cbr\\u003e |V|=5, |E|=4, s=0.4\",\"SURVEY\\u003cbr\\u003e |V|=6, |E|=6, s=0.4\",\"ASIA\\u003cbr\\u003e |V|=8, |E|=8, s=0.29\"],\"y\":[0.0,0.0,0.0,0.0],\"type\":\"bar\"},{\"error_y\":{\"array\":[null,null,null,null],\"type\":\"data\",\"visible\":true},\"marker\":{\"color\":\"#b85c00\"},\"name\":\"Shapley-PC\",\"opacity\":0.6,\"x\":[\"CANCER\\u003cbr\\u003e |V|=5, |E|=4, s=0.4\",\"EARTHQUAKE\\u003cbr\\u003e |V|=5, |E|=4, s=0.4\",\"SURVEY\\u003cbr\\u003e |V|=6, |E|=6, s=0.4\",\"ASIA\\u003cbr\\u003e |V|=8, |E|=8, s=0.29\"],\"y\":[0.17,0.33,0.0,0.15],\"type\":\"bar\"},{\"error_y\":{\"array\":[null,null,null,null],\"type\":\"data\",\"visible\":true},\"marker\":{\"color\":\"#0085CA\"},\"name\":\"ABAPC (Ours)\",\"opacity\":0.6,\"x\":[\"CANCER\\u003cbr\\u003e |V|=5, |E|=4, s=0.4\",\"EARTHQUAKE\\u003cbr\\u003e |V|=5, |E|=4, s=0.4\",\"SURVEY\\u003cbr\\u003e |V|=6, |E|=6, s=0.4\",\"ASIA\\u003cbr\\u003e |V|=8, |E|=8, s=0.29\"],\"y\":[0.33,0.0,0.0,0.0],\"type\":\"bar\"}],                        {\"template\":{\"data\":{\"barpolar\":[{\"marker\":{\"line\":{\"color\":\"white\",\"width\":0.5},\"pattern\":{\"fillmode\":\"overlay\",\"size\":10,\"solidity\":0.2}},\"type\":\"barpolar\"}],\"bar\":[{\"error_x\":{\"color\":\"#2a3f5f\"},\"error_y\":{\"color\":\"#2a3f5f\"},\"marker\":{\"line\":{\"color\":\"white\",\"width\":0.5},\"pattern\":{\"fillmode\":\"overlay\",\"size\":10,\"solidity\":0.2}},\"type\":\"bar\"}],\"carpet\":[{\"aaxis\":{\"endlinecolor\":\"#2a3f5f\",\"gridcolor\":\"#C8D4E3\",\"linecolor\":\"#C8D4E3\",\"minorgridcolor\":\"#C8D4E3\",\"startlinecolor\":\"#2a3f5f\"},\"baxis\":{\"endlinecolor\":\"#2a3f5f\",\"gridcolor\":\"#C8D4E3\",\"linecolor\":\"#C8D4E3\",\"minorgridcolor\":\"#C8D4E3\",\"startlinecolor\":\"#2a3f5f\"},\"type\":\"carpet\"}],\"choropleth\":[{\"colorbar\":{\"outlinewidth\":0,\"ticks\":\"\"},\"type\":\"choropleth\"}],\"contourcarpet\":[{\"colorbar\":{\"outlinewidth\":0,\"ticks\":\"\"},\"type\":\"contourcarpet\"}],\"contour\":[{\"colorbar\":{\"outlinewidth\":0,\"ticks\":\"\"},\"colorscale\":[[0.0,\"#0d0887\"],[0.1111111111111111,\"#46039f\"],[0.2222222222222222,\"#7201a8\"],[0.3333333333333333,\"#9c179e\"],[0.4444444444444444,\"#bd3786\"],[0.5555555555555556,\"#d8576b\"],[0.6666666666666666,\"#ed7953\"],[0.7777777777777778,\"#fb9f3a\"],[0.8888888888888888,\"#fdca26\"],[1.0,\"#f0f921\"]],\"type\":\"contour\"}],\"heatmapgl\":[{\"colorbar\":{\"outlinewidth\":0,\"ticks\":\"\"},\"colorscale\":[[0.0,\"#0d0887\"],[0.1111111111111111,\"#46039f\"],[0.2222222222222222,\"#7201a8\"],[0.3333333333333333,\"#9c179e\"],[0.4444444444444444,\"#bd3786\"],[0.5555555555555556,\"#d8576b\"],[0.6666666666666666,\"#ed7953\"],[0.7777777777777778,\"#fb9f3a\"],[0.8888888888888888,\"#fdca26\"],[1.0,\"#f0f921\"]],\"type\":\"heatmapgl\"}],\"heatmap\":[{\"colorbar\":{\"outlinewidth\":0,\"ticks\":\"\"},\"colorscale\":[[0.0,\"#0d0887\"],[0.1111111111111111,\"#46039f\"],[0.2222222222222222,\"#7201a8\"],[0.3333333333333333,\"#9c179e\"],[0.4444444444444444,\"#bd3786\"],[0.5555555555555556,\"#d8576b\"],[0.6666666666666666,\"#ed7953\"],[0.7777777777777778,\"#fb9f3a\"],[0.8888888888888888,\"#fdca26\"],[1.0,\"#f0f921\"]],\"type\":\"heatmap\"}],\"histogram2dcontour\":[{\"colorbar\":{\"outlinewidth\":0,\"ticks\":\"\"},\"colorscale\":[[0.0,\"#0d0887\"],[0.1111111111111111,\"#46039f\"],[0.2222222222222222,\"#7201a8\"],[0.3333333333333333,\"#9c179e\"],[0.4444444444444444,\"#bd3786\"],[0.5555555555555556,\"#d8576b\"],[0.6666666666666666,\"#ed7953\"],[0.7777777777777778,\"#fb9f3a\"],[0.8888888888888888,\"#fdca26\"],[1.0,\"#f0f921\"]],\"type\":\"histogram2dcontour\"}],\"histogram2d\":[{\"colorbar\":{\"outlinewidth\":0,\"ticks\":\"\"},\"colorscale\":[[0.0,\"#0d0887\"],[0.1111111111111111,\"#46039f\"],[0.2222222222222222,\"#7201a8\"],[0.3333333333333333,\"#9c179e\"],[0.4444444444444444,\"#bd3786\"],[0.5555555555555556,\"#d8576b\"],[0.6666666666666666,\"#ed7953\"],[0.7777777777777778,\"#fb9f3a\"],[0.8888888888888888,\"#fdca26\"],[1.0,\"#f0f921\"]],\"type\":\"histogram2d\"}],\"histogram\":[{\"marker\":{\"pattern\":{\"fillmode\":\"overlay\",\"size\":10,\"solidity\":0.2}},\"type\":\"histogram\"}],\"mesh3d\":[{\"colorbar\":{\"outlinewidth\":0,\"ticks\":\"\"},\"type\":\"mesh3d\"}],\"parcoords\":[{\"line\":{\"colorbar\":{\"outlinewidth\":0,\"ticks\":\"\"}},\"type\":\"parcoords\"}],\"pie\":[{\"automargin\":true,\"type\":\"pie\"}],\"scatter3d\":[{\"line\":{\"colorbar\":{\"outlinewidth\":0,\"ticks\":\"\"}},\"marker\":{\"colorbar\":{\"outlinewidth\":0,\"ticks\":\"\"}},\"type\":\"scatter3d\"}],\"scattercarpet\":[{\"marker\":{\"colorbar\":{\"outlinewidth\":0,\"ticks\":\"\"}},\"type\":\"scattercarpet\"}],\"scattergeo\":[{\"marker\":{\"colorbar\":{\"outlinewidth\":0,\"ticks\":\"\"}},\"type\":\"scattergeo\"}],\"scattergl\":[{\"marker\":{\"colorbar\":{\"outlinewidth\":0,\"ticks\":\"\"}},\"type\":\"scattergl\"}],\"scattermapbox\":[{\"marker\":{\"colorbar\":{\"outlinewidth\":0,\"ticks\":\"\"}},\"type\":\"scattermapbox\"}],\"scatterpolargl\":[{\"marker\":{\"colorbar\":{\"outlinewidth\":0,\"ticks\":\"\"}},\"type\":\"scatterpolargl\"}],\"scatterpolar\":[{\"marker\":{\"colorbar\":{\"outlinewidth\":0,\"ticks\":\"\"}},\"type\":\"scatterpolar\"}],\"scatter\":[{\"fillpattern\":{\"fillmode\":\"overlay\",\"size\":10,\"solidity\":0.2},\"type\":\"scatter\"}],\"scatterternary\":[{\"marker\":{\"colorbar\":{\"outlinewidth\":0,\"ticks\":\"\"}},\"type\":\"scatterternary\"}],\"surface\":[{\"colorbar\":{\"outlinewidth\":0,\"ticks\":\"\"},\"colorscale\":[[0.0,\"#0d0887\"],[0.1111111111111111,\"#46039f\"],[0.2222222222222222,\"#7201a8\"],[0.3333333333333333,\"#9c179e\"],[0.4444444444444444,\"#bd3786\"],[0.5555555555555556,\"#d8576b\"],[0.6666666666666666,\"#ed7953\"],[0.7777777777777778,\"#fb9f3a\"],[0.8888888888888888,\"#fdca26\"],[1.0,\"#f0f921\"]],\"type\":\"surface\"}],\"table\":[{\"cells\":{\"fill\":{\"color\":\"#EBF0F8\"},\"line\":{\"color\":\"white\"}},\"header\":{\"fill\":{\"color\":\"#C8D4E3\"},\"line\":{\"color\":\"white\"}},\"type\":\"table\"}]},\"layout\":{\"annotationdefaults\":{\"arrowcolor\":\"#2a3f5f\",\"arrowhead\":0,\"arrowwidth\":1},\"autotypenumbers\":\"strict\",\"coloraxis\":{\"colorbar\":{\"outlinewidth\":0,\"ticks\":\"\"}},\"colorscale\":{\"diverging\":[[0,\"#8e0152\"],[0.1,\"#c51b7d\"],[0.2,\"#de77ae\"],[0.3,\"#f1b6da\"],[0.4,\"#fde0ef\"],[0.5,\"#f7f7f7\"],[0.6,\"#e6f5d0\"],[0.7,\"#b8e186\"],[0.8,\"#7fbc41\"],[0.9,\"#4d9221\"],[1,\"#276419\"]],\"sequential\":[[0.0,\"#0d0887\"],[0.1111111111111111,\"#46039f\"],[0.2222222222222222,\"#7201a8\"],[0.3333333333333333,\"#9c179e\"],[0.4444444444444444,\"#bd3786\"],[0.5555555555555556,\"#d8576b\"],[0.6666666666666666,\"#ed7953\"],[0.7777777777777778,\"#fb9f3a\"],[0.8888888888888888,\"#fdca26\"],[1.0,\"#f0f921\"]],\"sequentialminus\":[[0.0,\"#0d0887\"],[0.1111111111111111,\"#46039f\"],[0.2222222222222222,\"#7201a8\"],[0.3333333333333333,\"#9c179e\"],[0.4444444444444444,\"#bd3786\"],[0.5555555555555556,\"#d8576b\"],[0.6666666666666666,\"#ed7953\"],[0.7777777777777778,\"#fb9f3a\"],[0.8888888888888888,\"#fdca26\"],[1.0,\"#f0f921\"]]},\"colorway\":[\"#636efa\",\"#EF553B\",\"#00cc96\",\"#ab63fa\",\"#FFA15A\",\"#19d3f3\",\"#FF6692\",\"#B6E880\",\"#FF97FF\",\"#FECB52\"],\"font\":{\"color\":\"#2a3f5f\"},\"geo\":{\"bgcolor\":\"white\",\"lakecolor\":\"white\",\"landcolor\":\"white\",\"showlakes\":true,\"showland\":true,\"subunitcolor\":\"#C8D4E3\"},\"hoverlabel\":{\"align\":\"left\"},\"hovermode\":\"closest\",\"mapbox\":{\"style\":\"light\"},\"paper_bgcolor\":\"white\",\"plot_bgcolor\":\"white\",\"polar\":{\"angularaxis\":{\"gridcolor\":\"#EBF0F8\",\"linecolor\":\"#EBF0F8\",\"ticks\":\"\"},\"bgcolor\":\"white\",\"radialaxis\":{\"gridcolor\":\"#EBF0F8\",\"linecolor\":\"#EBF0F8\",\"ticks\":\"\"}},\"scene\":{\"xaxis\":{\"backgroundcolor\":\"white\",\"gridcolor\":\"#DFE8F3\",\"gridwidth\":2,\"linecolor\":\"#EBF0F8\",\"showbackground\":true,\"ticks\":\"\",\"zerolinecolor\":\"#EBF0F8\"},\"yaxis\":{\"backgroundcolor\":\"white\",\"gridcolor\":\"#DFE8F3\",\"gridwidth\":2,\"linecolor\":\"#EBF0F8\",\"showbackground\":true,\"ticks\":\"\",\"zerolinecolor\":\"#EBF0F8\"},\"zaxis\":{\"backgroundcolor\":\"white\",\"gridcolor\":\"#DFE8F3\",\"gridwidth\":2,\"linecolor\":\"#EBF0F8\",\"showbackground\":true,\"ticks\":\"\",\"zerolinecolor\":\"#EBF0F8\"}},\"shapedefaults\":{\"line\":{\"color\":\"#2a3f5f\"}},\"ternary\":{\"aaxis\":{\"gridcolor\":\"#DFE8F3\",\"linecolor\":\"#A2B1C6\",\"ticks\":\"\"},\"baxis\":{\"gridcolor\":\"#DFE8F3\",\"linecolor\":\"#A2B1C6\",\"ticks\":\"\"},\"bgcolor\":\"white\",\"caxis\":{\"gridcolor\":\"#DFE8F3\",\"linecolor\":\"#A2B1C6\",\"ticks\":\"\"}},\"title\":{\"x\":0.05},\"xaxis\":{\"automargin\":true,\"gridcolor\":\"#EBF0F8\",\"linecolor\":\"#EBF0F8\",\"ticks\":\"\",\"title\":{\"standoff\":15},\"zerolinecolor\":\"#EBF0F8\",\"zerolinewidth\":2},\"yaxis\":{\"automargin\":true,\"gridcolor\":\"#EBF0F8\",\"linecolor\":\"#EBF0F8\",\"ticks\":\"\",\"title\":{\"standoff\":15},\"zerolinecolor\":\"#EBF0F8\",\"zerolinewidth\":2}}},\"legend\":{\"orientation\":\"h\",\"xanchor\":\"center\",\"x\":0.5,\"yanchor\":\"top\",\"y\":1},\"margin\":{\"l\":40,\"r\":40,\"b\":80,\"t\":20},\"font\":{\"size\":20,\"family\":\"Serif\",\"color\":\"black\"},\"barmode\":\"group\",\"bargap\":0.15,\"bargroupgap\":0.1,\"width\":1600,\"height\":700,\"hovermode\":\"x unified\",\"annotations\":[{\"font\":{\"color\":\"Black\",\"family\":\"Serif\",\"size\":20},\"showarrow\":false,\"text\":\"Dataset:\",\"x\":0,\"xanchor\":\"center\",\"xref\":\"paper\",\"y\":-0.05,\"yanchor\":\"bottom\",\"yref\":\"paper\"}],\"yaxis\":{\"title\":{\"font\":{\"size\":20},\"text\":\"Number of Edges in DAG\"}}},                        {\"responsive\": true}                    ).then(function(){\n",
       "                            \n",
       "var gd = document.getElementById('1f2d2ba5-0fb8-4c95-9785-28ee5a200654');\n",
       "var x = new MutationObserver(function (mutations, observer) {{\n",
       "        var display = window.getComputedStyle(gd).display;\n",
       "        if (!display || display === 'none') {{\n",
       "            console.log([gd, 'removed!']);\n",
       "            Plotly.purge(gd);\n",
       "            observer.disconnect();\n",
       "        }}\n",
       "}});\n",
       "\n",
       "// Listen for the removal of the full notebook cells\n",
       "var notebookContainer = gd.closest('#notebook-container');\n",
       "if (notebookContainer) {{\n",
       "    x.observe(notebookContainer, {childList: true});\n",
       "}}\n",
       "\n",
       "// Listen for the clearing of the current output cell\n",
       "var outputEl = gd.closest('.output');\n",
       "if (outputEl) {{\n",
       "    x.observe(outputEl, {childList: true});\n",
       "}}\n",
       "\n",
       "                        })                };                });            </script>        </div>"
      ]
     },
     "metadata": {},
     "output_type": "display_data"
    }
   ],
   "source": [
    "version = 'bnlearn_nostd_v2'\n",
    "datasets = ['cancer', 'earthquake', 'survey', 'asia'#, 'sachs', 'alarm', 'child', 'insurance', 'hailfinder', 'hepar2'\n",
    "]\n",
    "all_sum = pd.DataFrame(np.load(f\"../results/stored_results_{version}.npy\", allow_pickle=True), \n",
    "                       columns=['dataset', 'model', 'fdr_mean', 'fdr_std', 'tpr_mean', 'tpr_std',\n",
    "                                'fpr_mean', 'fpr_std', 'shd_mean', 'shd_std', 'nnz_mean', 'nnz_std',\n",
    "                                'precision_mean', 'precision_std', 'recall_mean', 'recall_std',\n",
    "                                'F1_mean', 'F1_std', 'gscore_mean', 'gscore_std', 'SID_mean', 'SID_std'\n",
    "                                ])\n",
    "\n",
    "\n",
    "dags_nodes_map = {'asia':8, 'cancer':5, 'earthquake':5, 'sachs':11, 'survey':6, 'alarm':37, 'child':20, 'insurance':27, 'hailfinder':56, 'hepar2':70}\n",
    "dags_arcs_map = {'asia':8, 'cancer':4, 'earthquake':4, 'sachs':17, 'survey':6, 'alarm':46, 'child':25, 'insurance':52, 'hailfinder':66, 'hepar2':123}\n",
    "all_sum['n_edges'] = all_sum['dataset'].map(dags_arcs_map)\n",
    "all_sum['n_nodes'] = all_sum['dataset'].map(dags_nodes_map)\n",
    "all_sum['sparsity'] = round(all_sum['n_edges']/(all_sum['n_nodes']*(all_sum['n_nodes']-1)/2),2)\n",
    "all_sum = all_sum[all_sum['model']!='CAM'] ##exclude CAM as it returned all nan\n",
    "for var in ['shd','SID']:\n",
    "    all_sum['p_'+var+'_mean'] = all_sum[var+'_mean'].astype(float)/all_sum['n_edges'].astype(int)\n",
    "    all_sum['p_'+var+'_std'] = all_sum[var+'_std'].astype(float)/all_sum['n_edges'].astype(int)\n",
    "all_sum['dataset'] = [a.upper() for a in all_sum[\"dataset\"].astype(str)]\n",
    "all_sum['dataset'] = all_sum['dataset'] +np.repeat(\"<br> |V|=\",len(all_sum))+ all_sum[\"n_nodes\"].astype(str)+np.repeat(\", |E|=\",len(all_sum))+\\\n",
    "                     all_sum[\"n_edges\"].astype(str)+np.repeat(\", s=\",len(all_sum))+ all_sum[\"sparsity\"].astype(str)\n",
    "# all_sum['dataset'] = \"$\\\\text{\"+all_sum['dataset'] +np.repeat(\" }\\\\\\\\ |V|=\",len(all_sum))+ all_sum[\"n_nodes\"].astype(str)+np.repeat(\", |E|=\",len(all_sum))+\\\n",
    "#                      all_sum[\"n_edges\"].astype(str)+np.repeat(\", \\zeta=\",len(all_sum))+ all_sum[\"sparsity\"].astype(str)+\"$\"\n",
    "double_bar_chart_plotly(all_sum, ['p_shd','p_SID'], names_dict, colors_dict, save_figs=save_figs, output_name=\"../results/figs/Fig.1_SID_realdata_nostd.html\", debug=False, range_y1=[0,0.3], range_y2=[0,5.3])#\n",
    "double_bar_chart_plotly(all_sum, ['precision','recall'], names_dict, colors_dict, save_figs=save_figs, output_name=\"../results/figs/Fig.2_SHD_realdata_nostd.html\", debug=False)\n",
    "bar_chart_plotly(all_sum, 'nnz', names_dict, colors_dict, save_figs=save_figs, output_name=\"../results/figs/Fig.3_F1_realdata_nostd.html\", debug=False)\n"
   ]
  }
 ],
 "metadata": {
  "kernelspec": {
   "display_name": "discoclean",
   "language": "python",
   "name": "python3"
  },
  "language_info": {
   "codemirror_mode": {
    "name": "ipython",
    "version": 3
   },
   "file_extension": ".py",
   "mimetype": "text/x-python",
   "name": "python",
   "nbconvert_exporter": "python",
   "pygments_lexer": "ipython3",
   "version": "3.10.12"
  }
 },
 "nbformat": 4,
 "nbformat_minor": 2
}
